{
    "metadata": {
        "kernelspec": {
            "name": "SQL",
            "display_name": "SQL",
            "language": "sql"
        },
        "language_info": {
            "name": "sql",
            "version": ""
        }
    },
    "nbformat_minor": 2,
    "nbformat": 4,
    "cells": [
        {
            "cell_type": "markdown",
            "source": [
                "```\n",
                "-- 5\n",
                "-- Write a query that returns for each customer\n",
                "-- all orders placed on the customer's last day of activity\n",
                "-- Tables involved: TSQLV4 database, Orders table\n",
                "\n",
                "-- Desired output:\n",
                "custid      orderid     orderdate   empid\n",
                "----------- ----------- ----------- -----------\n",
                "1           11011       2016-04-09  3\n",
                "2           10926       2016-03-04  4\n",
                "3           10856       2016-01-28  3\n",
                "4           11016       2016-04-10  9\n",
                "5           10924       2016-03-04  3\n",
                "...\n",
                "87          11025       2016-04-15  6\n",
                "88          10935       2016-03-09  4\n",
                "89          11066       2016-05-01  7\n",
                "90          11005       2016-04-07  2\n",
                "91          11044       2016-04-23  4\n",
                "\n",
                "(90 row(s) affected)\n",
                "```"
            ],
            "metadata": {
                "azdata_cell_guid": "3f632c63-a868-4e4b-b143-15f66420f9a5"
            },
            "attachments": {}
        },
        {
            "cell_type": "code",
            "source": [
                "USE TSQLV4; -- Specify the database to use\r\n",
                "\r\n",
                "SELECT o.custid, -- Select the custid column from the Orders table\r\n",
                "       o.orderid, -- Select the orderid column from the Orders table\r\n",
                "       o.orderdate, -- Select the orderdate column from the Orders table\r\n",
                "       o.empid -- Select the empid column from the Orders table\r\n",
                "FROM Sales.[Orders] o -- Specify Orders as the source table and alias it as o\r\n",
                "JOIN (\r\n",
                "    SELECT custid, MAX(orderdate) AS last_order_date -- Subquery to find the maximum order date for each customer\r\n",
                "    FROM Sales.[Orders]\r\n",
                "    GROUP BY custid\r\n",
                ") last_orders ON o.custid = last_orders.custid AND o.orderdate = last_orders.last_order_date -- Join the Orders table with the subquery\r\n",
                "ORDER BY o.custid ASC; -- Order the result set by custid in ascending order\r\n",
                "\r\n",
                "\r\n",
                "USE Northwinds2022TSQLV7; -- Specify the database to use\r\n",
                "\r\n",
                "SELECT o.CustomerID, -- Select the CustomerID column from the Order table\r\n",
                "       o.OrderID, -- Select the OrderID column from the Order table\r\n",
                "       o.OrderDate, -- Select the OrderDate column from the Order table\r\n",
                "       o.EmployeeID -- Select the EmployeeID column from the Order table\r\n",
                "FROM Sales.[Order] o -- Specify Order as the source table and alias it as o\r\n",
                "JOIN (\r\n",
                "    SELECT CustomerID, MAX(OrderDate) AS last_order_date -- Subquery to find the maximum order date for each customer\r\n",
                "    FROM Sales.[Order]\r\n",
                "    GROUP BY CustomerID\r\n",
                ") last_orders ON o.CustomerID = last_orders.CustomerID AND o.OrderDate = last_orders.last_order_date -- Join the Order table with the subquery\r\n",
                "ORDER BY o.CustomerID ASC; -- Order the result set by CustomerID in ascending order\r\n",
                ""
            ],
            "metadata": {
                "azdata_cell_guid": "8455d35f-0df2-47e4-ba69-2dd94bbd94c7",
                "language": "sql",
                "tags": [
                    "hide_input"
                ]
            },
            "outputs": [],
            "execution_count": null
        },
        {
            "cell_type": "markdown",
            "source": [
                "**Proposition:**\n",
                "\n",
                "The proposition in both cases is to retrieve specific data from the database. In the first query, the proposition is to retrieve data related to orders, specifically the `custid`, `orderid`, `orderdate`, and `empid` of each order. In the second query, the proposition is similar, but it's focused on the Northwinds2022TSQLV7 database, retrieving `CustomerID`, `OrderID`, `OrderDate`, and `EmployeeID` of each order.\n",
                "\n",
                "**Tables involved:**\n",
                "\n",
                "- In the first query, the table involved is `Sales.Orders` from the TSQLV4 database.\n",
                "- In the second query, the table involved is `Sales.Order` from the Northwinds2022TSQLV7 database.\n",
                "\n",
                "**Columns:**\n",
                "\n",
                "- In the first query:\n",
                "  - `o.custid`\n",
                "  - `o.orderid`\n",
                "  - `o.orderdate`\n",
                "  - `o.empid`\n",
                "- In the second query:\n",
                "  - `o.CustomerID`\n",
                "  - `o.OrderID`\n",
                "  - `o.OrderDate`\n",
                "  - `o.EmployeeID`\n",
                "\n",
                "**Predicate:**\n",
                "\n",
                "The predicate in both queries involves joining the main table (`Sales.Orders` or `Sales.Order`) with a subquery that finds the maximum order date for each customer (`last_orders`). This is achieved by grouping the orders by `custid` or `CustomerID` and then joining based on both `custid`/`CustomerID` and `orderdate`/`OrderDate`. This predicate ensures that we retrieve only the orders placed on the last order date for each customer.\n",
                "\n",
                "These SQL queries essentially aim to retrieve the latest order for each customer by finding the maximum order date for each customer and then joining with the main orders table to fetch the corresponding order details.\n",
                "\n",
                "The `ORDER BY` clause at the end of each query ensures that the results are sorted by the specified column (`o.custid` in the first query and `o.CustomerID` in the second query) in ascending order."
            ],
            "metadata": {
                "azdata_cell_guid": "525e9082-c35c-47e9-ae2c-10c6e0b7771b"
            },
            "attachments": {}
        },
        {
            "cell_type": "markdown",
            "source": [
                "```\n",
                "-- 6\n",
                "-- Write a query that returns customers\n",
                "-- who placed orders in 2015 but not in 2016\n",
                "-- Tables involved: TSQLV4 database, Customers and Orders tables\n",
                "\n",
                "-- Desired output:\n",
                "custid      companyname\n",
                "----------- ----------------------------------------\n",
                "21          Customer KIDPX\n",
                "23          Customer WVFAF\n",
                "33          Customer FVXPQ\n",
                "36          Customer LVJSO\n",
                "43          Customer UISOJ\n",
                "51          Customer PVDZC\n",
                "85          Customer ENQZT\n",
                "```"
            ],
            "metadata": {
                "azdata_cell_guid": "101392b9-f1cb-4414-89ff-5863eb51cfa8"
            },
            "attachments": {}
        },
        {
            "cell_type": "code",
            "source": [
                "USE TSQLV4; -- Specify TSQLV4 database\r\n",
                "\r\n",
                "\r\n",
                "SELECT DISTINCT c.custid, c.companyname -- Retrieve the custid and companyname of customers who placed orders in 2015 but not in 2016\r\n",
                "FROM Sales.Customers c -- Specify Customers as the source table and alias it as c\r\n",
                "JOIN Orders o2015 ON c.custid = o2015.custid AND YEAR(o2015.orderdate) = 2015 -- Join Customers with Orders placed in 2015\r\n",
                "LEFT JOIN Orders o2016 ON c.custid = o2016.custid AND YEAR(o2016.orderdate) = 2016 -- Left join Customers with Orders placed in 2016\r\n",
                "WHERE o2015.custid IS NOT NULL -- Filter out customers who placed orders in 2015\r\n",
                "AND o2016.custid IS NULL -- Filter out customers who didn't place orders in 2016\r\n",
                "ORDER BY c.custid; -- Order the result set by custid\r\n",
                "\r\n",
                "\r\n",
                "USE Northwinds2022TSQLV7; -- Specify Northwinds2022TSQLV7 database\r\n",
                "\r\n",
                "-- Retrieve the distinct custid and companyname of customers who placed orders in 2015 but not in 2016\r\n",
                "SELECT DISTINCT c.CustomerID AS custid, c.CustomerCompanyName AS companyname \r\n",
                "FROM Sales.[Customer] c -- Specify Customers as the source table and alias it as c\r\n",
                "JOIN Sales.[Order] o2015 ON c.CustomerID = o2015.CustomerID AND YEAR(o2015.OrderDate) = 2015 -- Join Customers with Orders placed in 2015\r\n",
                "LEFT JOIN Sales.[Order] o2016 ON c.CustomerID = o2016.CustomerID AND YEAR(o2016.OrderDate) = 2016 -- Left join Customers with Orders placed in 2016\r\n",
                "WHERE o2015.CustomerID IS NOT NULL -- Filter out customers who placed orders in 2015\r\n",
                "AND o2016.CustomerID IS NULL -- Filter out customers who didn't place orders in 2016\r\n",
                "ORDER BY c.CustomerID; -- Order the result set by custid\r\n",
                ""
            ],
            "metadata": {
                "azdata_cell_guid": "635c8adc-a765-470c-9d9f-5873385d41a8",
                "language": "sql",
                "tags": [
                    "hide_input"
                ]
            },
            "outputs": [],
            "execution_count": null
        },
        {
            "cell_type": "markdown",
            "source": [
                "**Proposition:**\r\n",
                "Retrieve the distinct `custid` and `companyname` of customers who placed orders in 2015 but not in 2016.\r\n",
                "\r\n",
                "**Tables involved:**\r\n",
                "- `Sales.Customers`: Holds customer data.\r\n",
                "- `Orders`: Represents orders data.\r\n",
                "\r\n",
                "**Columns:**\r\n",
                "- `c.custid`: Customer ID.\r\n",
                "- `c.companyname`: Company name of the customer.\r\n",
                "- `o2015.orderdate`: Order date from 2015.\r\n",
                "- `o2016.orderdate`: Order date from 2016.\r\n",
                "\r\n",
                "**Predicate:**\r\n",
                "- Join `Sales.Customers` with `Orders` placed in 2015 (`o2015`) and those placed in 2016 (`o2016`).\r\n",
                "- Filter out customers who placed orders in 2015 but not in 2016.\r\n",
                ""
            ],
            "metadata": {
                "azdata_cell_guid": "ec8ecf2e-41da-4750-9e15-c0132721e669"
            },
            "attachments": {}
        },
        {
            "cell_type": "markdown",
            "source": [
                "```\n",
                "-- 7 (Optional, Advanced)\n",
                "-- Write a query that returns customers\n",
                "-- who ordered product 12\n",
                "-- Tables involved: TSQLV4 database,\n",
                "-- Customers, Orders and OrderDetails tables\n",
                "\n",
                "-- Desired output:\n",
                "custid      companyname\n",
                "----------- ----------------------------------------\n",
                "48          Customer DVFMB\n",
                "39          Customer GLLAG\n",
                "71          Customer LCOUJ\n",
                "65          Customer NYUHS\n",
                "44          Customer OXFRU\n",
                "51          Customer PVDZC\n",
                "86          Customer SNXOJ\n",
                "20          Customer THHDP\n",
                "90          Customer XBBVR\n",
                "46          Customer XPNIK\n",
                "31          Customer YJCBX\n",
                "87          Customer ZHYOS\n",
                "```"
            ],
            "metadata": {
                "azdata_cell_guid": "54f40fc2-6f26-49a0-937f-412a1d95c426"
            },
            "attachments": {}
        },
        {
            "cell_type": "code",
            "source": [
                "USE TSQLV4; -- Specify TSQLV4 database\r\n",
                "\r\n",
                "SELECT DISTINCT c.custid, c.companyname -- Retrieve the custid and companyname of customers who ordered product 12 (no duplicates)\r\n",
                "FROM Sales.Customers c -- Specify Customers as the source table and alias it as c\r\n",
                "JOIN Sales.Orders o ON c.custid = o.custid -- Join Customers with Orders\r\n",
                "JOIN Sales.OrderDetails od ON o.orderid = od.orderid -- Join Orders with OrderDetails\r\n",
                "WHERE od.productid = 12 -- Filter out orders for product 12\r\n",
                "\r\n",
                "USE Northwinds2022TSQLV7; -- Specify Northwinds2022TSQLV7 database\r\n",
                "\r\n",
                "SELECT DISTINCT c.CustomerID AS custid, c.CustomerCompanyName AS companyname -- Retrieve the custid and companyname of customers who ordered product 12\r\n",
                "FROM Sales.[Order] o -- Specify Orders as the source table and alias it as o\r\n",
                "JOIN Sales.OrderDetail od ON o.OrderID = od.OrderID -- Join Orders with OrderDetails\r\n",
                "JOIN Sales.[Customer] c ON o.CustomerID = c.CustomerID -- Join Customers with Orders\r\n",
                "WHERE od.ProductID = 12 -- Filter out orders for product 12\r\n",
                "ORDER BY custid; -- Order the result set by custid\r\n",
                ""
            ],
            "metadata": {
                "azdata_cell_guid": "e3442182-87b6-42ea-bc5b-56e931f0e43f",
                "language": "sql",
                "tags": [
                    "hide_input"
                ]
            },
            "outputs": [],
            "execution_count": null
        },
        {
            "cell_type": "markdown",
            "source": [
                ""
            ],
            "metadata": {
                "azdata_cell_guid": "abcc7d59-a595-4cea-8035-431a085bcd7f"
            }
        },
        {
            "cell_type": "markdown",
            "source": [
                "**Proposition**: Retrieve the distinct customer IDs (`custid`) and company names (`companyname`) of customers who ordered product 12.\r\n",
                "\r\n",
                "**Tables involved**:\r\n",
                "- Customers: Represented by the table `Sales.Customers`, aliased as `c`.\r\n",
                "- Orders: Represented by the table `Sales.Orders`, aliased as `o`.\r\n",
                "- OrderDetails: Represented by the table `Sales.OrderDetails`, aliased as `od`.\r\n",
                "\r\n",
                "**Columns**:\r\n",
                "- `c.custid`: Customer ID column from the Customers table.\r\n",
                "- `c.companyname`: Company name column from the Customers table.\r\n",
                "\r\n",
                "**Predicate**:\r\n",
                "- **Join Conditions**: \r\n",
                "  - Join `Customers` with `Orders` on the `custid` column to link customers with their orders.\r\n",
                "  - Join `Orders` with `OrderDetails` on the `orderid` column to link orders with their details.\r\n",
                "- **Filtering**:\r\n",
                "  - Filter rows where the `productid` in `OrderDetails` is equal to 12, indicating orders for product 12.\r\n",
                "- **Distinct**: \r\n",
                "  - Use `DISTINCT` to ensure that only unique combinations of customer ID and company name are returned.\r\n",
                ""
            ],
            "metadata": {
                "azdata_cell_guid": "657f1035-fa0f-4bfc-a3f7-79d632144a5d"
            },
            "attachments": {}
        },
        {
            "cell_type": "markdown",
            "source": [
                "```\n",
                "-- 8 (Optional, Advanced)\n",
                "-- Write a query that calculates a running total qty\n",
                "-- for each customer and month using subqueries\n",
                "-- Tables involved: TSQLV4 database, Sales.CustOrders view\n",
                "\n",
                "-- Desired output:\n",
                "custid      ordermonth              qty         runqty\n",
                "----------- ----------------------- ----------- -----------\n",
                "1           2015-08-01 00:00:00.000 38          38\n",
                "1           2015-10-01 00:00:00.000 41          79\n",
                "1           2016-01-01 00:00:00.000 17          96\n",
                "1           2016-03-01 00:00:00.000 18          114\n",
                "1           2016-04-01 00:00:00.000 60          174\n",
                "2           2014-09-01 00:00:00.000 6           6\n",
                "2           2015-08-01 00:00:00.000 18          24\n",
                "2           2015-11-01 00:00:00.000 10          34\n",
                "2           2016-03-01 00:00:00.000 29          63\n",
                "3           2014-11-01 00:00:00.000 24          24\n",
                "3           2015-04-01 00:00:00.000 30          54\n",
                "3           2015-05-01 00:00:00.000 80          134\n",
                "3           2015-06-01 00:00:00.000 83          217\n",
                "3           2015-09-01 00:00:00.000 102         319\n",
                "3           2016-01-01 00:00:00.000 40          359\n",
                "```"
            ],
            "metadata": {
                "azdata_cell_guid": "7ba9c4d1-27c8-4763-a205-c0706197dc74"
            },
            "attachments": {}
        },
        {
            "cell_type": "code",
            "source": [
                "USE TSQLV4;\r\n",
                "\r\n",
                "SELECT \r\n",
                "    co.custid, -- Select the customer ID\r\n",
                "    co.ordermonth, -- Select the order month\r\n",
                "    co.qty, -- Select the quantity for each order\r\n",
                "    SUM(co.qty) OVER (\r\n",
                "        PARTITION BY co.custid -- Group by customer ID\r\n",
                "        ORDER BY co.ordermonth -- Order by order month within each group\r\n",
                "        ROWS BETWEEN UNBOUNDED PRECEDING AND CURRENT ROW -- Calculate the running total\r\n",
                "    ) AS runqty -- Alias for the running total quantity\r\n",
                "FROM \r\n",
                "    Sales.CustOrders co -- Specify the CustOrders view and alias it as co\r\n",
                "ORDER BY \r\n",
                "    co.custid, co.ordermonth; -- Order the result set by customer ID and order month\r\n",
                "\r\n",
                "\r\n",
                "USE Northwinds2022TSQLV7; -- Specify the Northwinds2022TSQLV7 database\r\n",
                "\r\n",
                "SELECT \r\n",
                "    o.CustomerId AS custid, -- Select the customer ID\r\n",
                "    CONVERT(date, o.OrderDate, 120) AS ordermonth, -- Convert the order date to month format\r\n",
                "    od.Quantity AS qty, -- Select the quantity for each order\r\n",
                "    (\r\n",
                "        SELECT SUM(inner_od.Quantity) -- Calculate the running total quantity for each customer and month\r\n",
                "        FROM Sales.[OrderDetail] inner_od -- Subquery to get the running total\r\n",
                "        JOIN Sales.[Order] inner_o ON inner_od.OrderID = inner_o.OrderID -- Join Order Details with Orders\r\n",
                "        WHERE inner_o.CustomerID = o.CustomerID -- Match the customer ID\r\n",
                "            AND CONVERT(date, inner_o.OrderDate, 120) <= CONVERT(date, o.OrderDate, 120) -- Consider orders up to the current month\r\n",
                "    ) AS runqty -- Alias for the running total quantity\r\n",
                "FROM \r\n",
                "    Sales.[OrderDetail] od -- Specify the Order Details table and alias it as od\r\n",
                "JOIN \r\n",
                "    Sales.[Order] o ON od.OrderID = o.OrderID -- Join Order Details with Orders\r\n",
                "ORDER BY \r\n",
                "    o.CustomerID, ordermonth; -- Order the result set by customer ID and order month\r\n",
                "\r\n",
                ""
            ],
            "metadata": {
                "azdata_cell_guid": "b9dfc34a-2d61-4586-b4bb-e92a58b1c3ae",
                "language": "sql",
                "tags": []
            },
            "outputs": [],
            "execution_count": null
        },
        {
            "cell_type": "markdown",
            "source": [
                "**Proposition**:\r\n",
                "\r\n",
                "We aim to calculate the running total quantity for each customer and month using the `CustOrders` view in the Northwinds2022TSQLV7 database.\r\n",
                "\r\n",
                "**Tables involved**:\r\n",
                "\r\n",
                "- `CustOrders` (view): Contains data about customers' orders, including customer ID, order month, and quantity.\r\n",
                "  \r\n",
                "**Columns**:\r\n",
                "\r\n",
                "- `custid`: Represents the customer ID.\r\n",
                "- `ordermonth`: Denotes the month of the order.\r\n",
                "- `qty`: Indicates the quantity for each order.\r\n",
                "- `runqty`: Represents the running total quantity for each customer and month.\r\n",
                "\r\n",
                "**Predicate**:\r\n",
                "\r\n",
                "The `SUM()` function with the `OVER` clause partitions the data by customer ID (`PARTITION BY co.custid`), orders it by order month (`ORDER BY co.ordermonth`), and calculates the running total quantity (`ROWS BETWEEN UNBOUNDED PRECEDING AND CURRENT ROW`).\r\n",
                ""
            ],
            "metadata": {
                "azdata_cell_guid": "408d5c5e-a9bf-4dfb-b58e-724af9b39d60"
            },
            "attachments": {}
        },
        {
            "cell_type": "code",
            "source": [
                "--PART 2\r\n",
                "USE TSQLV4;\r\n",
                "\r\n",
                "SELECT custid, orderid, orderdate, empid\r\n",
                "FROM Sales.Orders\r\n",
                "WHERE custid IN\r\n",
                "  (SELECT C.custid\r\n",
                "   FROM Sales.Customers AS C\r\n",
                "   WHERE C.country = N'USA');"
            ],
            "metadata": {
                "azdata_cell_guid": "adfe885e-5bbd-4203-a23e-bb198bcf18fa",
                "language": "sql",
                "tags": [
                    "hide_input"
                ]
            },
            "outputs": [],
            "execution_count": null
        },
        {
            "cell_type": "markdown",
            "source": [
                "I have two tables in my **Sales** database: `Sales.Orders` and `Sales.Customers`. I need to retrieve a list of orders, but only for those customers who are based in the **USA**. Specifically, I'm looking to see the following fields for these orders:\r\n",
                "\r\n",
                "- Customer ID (`custid`)\r\n",
                "- Order ID (`orderid`)\r\n",
                "- Order Date (`orderdate`)\r\n",
                "- Employee ID (`empid`)\r\n",
                "\r\n",
                "How can I write a SQL query to accomplish this?\r\n",
                "\r\n",
                "---"
            ],
            "metadata": {
                "azdata_cell_guid": "8c4db3e4-2d15-45be-8b3a-7390834318b5"
            },
            "attachments": {}
        },
        {
            "cell_type": "code",
            "source": [
                "USE TSQLV4;\r\n",
                "SELECT custid, companyname\r\n",
                "FROM Sales.Customers\r\n",
                "WHERE custid NOT IN\r\n",
                "  (SELECT O.custid\r\n",
                "   FROM Sales.Orders AS O);"
            ],
            "metadata": {
                "azdata_cell_guid": "e7fd573e-5a3b-4bf7-9646-86b527c3a489",
                "language": "sql",
                "tags": [
                    "hide_input"
                ]
            },
            "outputs": [],
            "execution_count": null
        },
        {
            "cell_type": "markdown",
            "source": [
                "<span style=\"color: var(--vscode-foreground);\">In my **Sales** database, I have two tables: `Sales.Customers` and `Sales.Orders`. I need to create a SQL query to find customers who have not placed any orders. The information I need includes:</span>  \n",
                "\n",
                "  \n",
                "\n",
                "\\- Customer ID (\\`custid\\`)\n",
                "\n",
                "\\- Company Name (\\`companyname\\`)\n",
                "\n",
                "  \n",
                "\n",
                "The query should identify customers from the \\`Sales.Customers\\` table who do not have any corresponding records in the \\`Sales.Orders\\` table."
            ],
            "metadata": {
                "azdata_cell_guid": "fa80702e-35e5-4c37-a615-8bc5bac10ee7"
            },
            "attachments": {}
        },
        {
            "cell_type": "code",
            "source": [
                "-- Missing order IDs\r\n",
                "USE TSQLV4;\r\n",
                "DROP TABLE IF EXISTS dbo.Orders;\r\n",
                "CREATE TABLE dbo.Orders(orderid INT NOT NULL CONSTRAINT PK_Orders PRIMARY KEY);"
            ],
            "metadata": {
                "azdata_cell_guid": "26eff117-4873-42c8-8528-414c05e1a882",
                "language": "sql",
                "tags": []
            },
            "outputs": [],
            "execution_count": null
        },
        {
            "cell_type": "markdown",
            "source": [
                "Using the `TSQLV4` database, remove the existing `dbo.Orders` table if it exists, and create a new `dbo.Orders` table. The new table should have a column named `orderid` of type INT, which should not allow NULL values, and this `orderid` column should be set as the PRIMARY KEY of the table.\n",
                "\n",
                "---"
            ],
            "metadata": {
                "azdata_cell_guid": "1babf67b-832a-4e74-892a-f18dc0ae7f45"
            },
            "attachments": {}
        },
        {
            "cell_type": "code",
            "source": [
                "USE TSQLV4;\r\n",
                "INSERT INTO dbo.Orders(orderid)\r\n",
                "  SELECT orderid\r\n",
                "  FROM Sales.Orders\r\n",
                "  WHERE orderid % 2 = 0;"
            ],
            "metadata": {
                "azdata_cell_guid": "5dfe966e-e4f4-4b59-b4b9-01ed54cad307",
                "language": "sql"
            },
            "outputs": [],
            "execution_count": null
        },
        {
            "cell_type": "markdown",
            "source": [
                "\r\n",
                "In the `TSQLV4` database, there is a requirement to insert data into the `dbo.Orders` table. The task involves selecting and inserting `orderid`s from the `Sales.Orders` table into `dbo.Orders`, but only for those `orderid`s that are even numbers. What would be the appropriate SQL query to accomplish this?"
            ],
            "metadata": {
                "azdata_cell_guid": "770f7494-cca5-447d-bed7-a7f60ee1dee1"
            },
            "attachments": {}
        },
        {
            "cell_type": "code",
            "source": [
                "USE TSQLV4;\r\n",
                "SELECT n\r\n",
                "FROM dbo.Nums\r\n",
                "WHERE n BETWEEN (SELECT MIN(O.orderid) FROM dbo.Orders AS O)\r\n",
                "            AND (SELECT MAX(O.orderid) FROM dbo.Orders AS O)\r\n",
                "  AND n NOT IN (SELECT O.orderid FROM dbo.Orders AS O);"
            ],
            "metadata": {
                "azdata_cell_guid": "52f5fa68-0ab6-432e-a947-e348351aeda5",
                "language": "sql"
            },
            "outputs": [],
            "execution_count": null
        },
        {
            "cell_type": "markdown",
            "source": [
                "\r\n",
                "In the `TSQLV4` database, there is a need to identify missing `orderid`s from the `dbo.Orders` table. The requirement is to select numbers (`n`) from the `dbo.Nums` table which fall within the range of the minimum and maximum `orderid` values in `dbo.Orders`, but are not present in the `dbo.Orders` table itself. What is the correct SQL query to retrieve these missing order IDs?"
            ],
            "metadata": {
                "azdata_cell_guid": "fb7a7c96-9bc0-4b25-95f0-fcc128e0ac6d"
            },
            "attachments": {}
        },
        {
            "cell_type": "code",
            "source": [
                "USE TSQLV4;\r\n",
                "DROP TABLE IF EXISTS dbo.Orders;"
            ],
            "metadata": {
                "azdata_cell_guid": "d1de957f-c920-4b27-8e01-cac12606ba90",
                "language": "sql"
            },
            "outputs": [],
            "execution_count": null
        },
        {
            "cell_type": "markdown",
            "source": [
                "\r\n",
                "In the `TSQLV4` database, the task is to clean up by removing the `dbo.Orders` table. What SQL command should be used to check if the `dbo.Orders` table exists and, if it does, to drop it?"
            ],
            "metadata": {
                "azdata_cell_guid": "9f6a40ff-9c39-4172-ad27-bf80d506ac66"
            },
            "attachments": {}
        },
        {
            "cell_type": "code",
            "source": [
                "-- Orders with maximum order ID for each customer\r\n",
                "-- Listing 4-1: Correlated Subquery\r\n",
                "USE TSQLV4;\r\n",
                "\r\n",
                "SELECT custid, orderid, orderdate, empid\r\n",
                "FROM Sales.Orders AS O1\r\n",
                "WHERE orderid =\r\n",
                "  (SELECT MAX(O2.orderid)\r\n",
                "   FROM Sales.Orders AS O2\r\n",
                "   WHERE O2.custid = O1.custid);"
            ],
            "metadata": {
                "azdata_cell_guid": "70b1013b-d753-4e19-a795-29208a28d91a",
                "language": "sql"
            },
            "outputs": [],
            "execution_count": null
        },
        {
            "cell_type": "markdown",
            "source": [
                "In the `TSQLV4` database, there is a requirement to retrieve orders with the maximum `orderid` for each customer from the `Sales.Orders` table. This involves selecting the `custid`, `orderid`, `orderdate`, and `empid` from `Sales.Orders`, but only for those orders that have the highest `orderid` per customer. How should a SQL query be structured to use a correlated subquery for this purpose?"
            ],
            "metadata": {
                "azdata_cell_guid": "f9a85596-4c6a-402b-a1aa-ec9c4806e2f8"
            },
            "attachments": {}
        },
        {
            "cell_type": "code",
            "source": [
                "USE TSQLV4;\r\n",
                "\r\n",
                "SELECT MAX(O2.orderid)\r\n",
                "FROM Sales.Orders AS O2\r\n",
                "WHERE O2.custid = 85;"
            ],
            "metadata": {
                "azdata_cell_guid": "be8a8cca-2682-4187-af3e-e2bddc546367",
                "language": "sql"
            },
            "outputs": [],
            "execution_count": null
        },
        {
            "cell_type": "markdown",
            "source": [
                "In the `TSQLV4` database, the objective is to find the maximum `orderid` for a specific customer, in this case, customer with `custid` 85, from the `Sales.Orders` table. The required query should return the highest `orderid` associated with this customer. How should the SQL query be constructed to achieve this?"
            ],
            "metadata": {
                "azdata_cell_guid": "c6dace2c-ebfc-49fb-8a28-c3ea3ca36dd2"
            },
            "attachments": {}
        },
        {
            "cell_type": "code",
            "source": [
                "USE TSQLV4;\r\n",
                "-- Percentage of customer total\r\n",
                "SELECT orderid, custid, val,\r\n",
                "  CAST(100. * val / (SELECT SUM(O2.val)\r\n",
                "                     FROM Sales.OrderValues AS O2\r\n",
                "                     WHERE O2.custid = O1.custid)\r\n",
                "       AS NUMERIC(5,2)) AS pct\r\n",
                "FROM Sales.OrderValues AS O1\r\n",
                "ORDER BY custid, orderid;"
            ],
            "metadata": {
                "azdata_cell_guid": "1d59e573-84be-44a7-919d-53c3bef0de17",
                "language": "sql"
            },
            "outputs": [],
            "execution_count": null
        },
        {
            "cell_type": "markdown",
            "source": [
                "In the `TSQLV4` database, there is a task to calculate the percentage contribution of each order's value to the total order value for each customer in the `Sales.OrderValues` table. The query should return the `orderid`, `custid`, and `val` columns, along with the calculated percentage (`pct`). This percentage is to be computed as the order value (`val`) divided by the total value of all orders for that customer, then multiplied by 100, and formatted as a numeric value with two decimal places. The results should be ordered by `custid` and then by `orderid`. What is the appropriate SQL query to perform this calculation?"
            ],
            "metadata": {
                "azdata_cell_guid": "82454d1c-1acb-462d-83a2-8813056e009a"
            },
            "attachments": {}
        },
        {
            "cell_type": "code",
            "source": [
                "USE TSQLV4;\r\n",
                "-- Customers from Spain who placed orders\r\n",
                "SELECT custid, companyname\r\n",
                "FROM Sales.Customers AS C\r\n",
                "WHERE country = N'Spain'\r\n",
                "  AND EXISTS\r\n",
                "    (SELECT * FROM Sales.Orders AS O\r\n",
                "     WHERE O.custid = C.custid);"
            ],
            "metadata": {
                "azdata_cell_guid": "7f7bc5fb-f8a2-4677-86aa-e7ca41f6983f",
                "language": "sql"
            },
            "outputs": [],
            "execution_count": null
        },
        {
            "cell_type": "markdown",
            "source": [
                "In the `TSQLV4` database, the task is to identify customers from Spain who have placed orders. This requires a query that selects the `custid` and `companyname` from the `Sales.Customers` table for those customers who are located in Spain (`country = N'Spain'`) and have at least one corresponding record in the `Sales.Orders` table. How should the SQL query be structured to use the `EXISTS` clause to check for the presence of orders for these customers?"
            ],
            "metadata": {
                "azdata_cell_guid": "77d545af-b674-4d08-adad-735506da474b"
            },
            "attachments": {}
        },
        {
            "cell_type": "code",
            "source": [
                "USE TSQLV4;\r\n",
                "-- Customers from Spain who didn't place Orders\r\n",
                "SELECT custid, companyname\r\n",
                "FROM Sales.Customers AS C\r\n",
                "WHERE country = N'Spain'\r\n",
                "  AND NOT EXISTS\r\n",
                "    (SELECT * FROM Sales.Orders AS O\r\n",
                "     WHERE O.custid = C.custid);"
            ],
            "metadata": {
                "azdata_cell_guid": "47e0f045-da83-4b63-8153-88eb786c1fef",
                "language": "sql"
            },
            "outputs": [],
            "execution_count": null
        },
        {
            "cell_type": "markdown",
            "source": [
                "\r\n",
                "In the `TSQLV4` database, there is a need to identify customers from Spain who have not placed any orders. The requirement is to select the `custid` and `companyname` from the `Sales.Customers` table specifically for those customers who are located in Spain (`country = N'Spain'`) and do not have any corresponding records in the `Sales.Orders` table. What is the correct SQL query to use the `NOT EXISTS` clause for finding these customers?\r\n",
                ""
            ],
            "metadata": {
                "azdata_cell_guid": "aca82f96-3974-4bbc-9c83-f571c76b1c01"
            },
            "attachments": {}
        },
        {
            "cell_type": "code",
            "source": [
                "--Chapter 5\r\n",
                "USE TSQLV4;\r\n",
                "DECLARE @empid AS INT = 3;\r\n",
                "\r\n",
                "WITH C AS\r\n",
                "(\r\n",
                "  SELECT YEAR(orderdate) AS orderyear, custid\r\n",
                "  FROM Sales.Orders\r\n",
                "  WHERE empid = @empid\r\n",
                ")\r\n",
                "SELECT orderyear, COUNT(DISTINCT custid) AS numcusts\r\n",
                "FROM C\r\n",
                "GROUP BY orderyear;\r\n",
                "GO"
            ],
            "metadata": {
                "azdata_cell_guid": "28f1d062-a1bc-433b-b0e4-4fe622578dd9",
                "language": "sql"
            },
            "outputs": [],
            "execution_count": null
        },
        {
            "cell_type": "markdown",
            "source": [
                "In the `TSQLV4` database, there is a requirement to analyze the number of unique customers served by an employee each year. This involves declaring an integer variable `@empid` set to 3, using a Common Table Expression (CTE) to select the year from `orderdate` and `custid` from the `Sales.Orders` table for the specified employee, and then performing a SELECT query to retrieve the year and the count of distinct customers. The query should group the results by year. What is the correct SQL statement to execute this analysis?"
            ],
            "metadata": {
                "azdata_cell_guid": "777b8a2e-f901-4b1e-9962-dcffcfa979ec"
            },
            "attachments": {}
        },
        {
            "cell_type": "code",
            "source": [
                "USE TSQLV4;\r\n",
                "WITH C1 AS\r\n",
                "(\r\n",
                "  SELECT YEAR(orderdate) AS orderyear, custid\r\n",
                "  FROM Sales.Orders\r\n",
                "),\r\n",
                "C2 AS\r\n",
                "(\r\n",
                "  SELECT orderyear, COUNT(DISTINCT custid) AS numcusts\r\n",
                "  FROM C1\r\n",
                "  GROUP BY orderyear\r\n",
                ")\r\n",
                "SELECT orderyear, numcusts\r\n",
                "FROM C2\r\n",
                "WHERE numcusts > 70;"
            ],
            "metadata": {
                "azdata_cell_guid": "8fccecaf-b31f-47a3-b81a-d6abf378b0a7",
                "language": "sql"
            },
            "outputs": [],
            "execution_count": null
        },
        {
            "cell_type": "markdown",
            "source": [
                "In the `TSQLV4` database, the task is to identify years in which more than 70 unique customers placed orders. This requires using Common Table Expressions (CTEs). The first CTE, `C1`, should extract the year from the `orderdate` and `custid` from the `Sales.Orders` table. The second CTE, `C2`, should calculate the count of distinct `custid`s for each year. Finally, a SELECT query should retrieve the years and customer counts from `C2` where the number of unique customers exceeds 70. What is the appropriate SQL query for this analysis?"
            ],
            "metadata": {
                "azdata_cell_guid": "7f425fcc-2a4d-41be-939c-50474bd82892"
            },
            "attachments": {}
        },
        {
            "cell_type": "code",
            "source": [
                "USE TSQLV4;\r\n",
                "\r\n",
                "WITH YearlyCount AS\r\n",
                "(\r\n",
                "  SELECT YEAR(orderdate) AS orderyear,\r\n",
                "    COUNT(DISTINCT custid) AS numcusts\r\n",
                "  FROM Sales.Orders\r\n",
                "  GROUP BY YEAR(orderdate)\r\n",
                ")\r\n",
                "SELECT Cur.orderyear, \r\n",
                "  Cur.numcusts AS curnumcusts, Prv.numcusts AS prvnumcusts,\r\n",
                "  Cur.numcusts - Prv.numcusts AS growth\r\n",
                "FROM YearlyCount AS Cur\r\n",
                "  LEFT OUTER JOIN YearlyCount AS Prv\r\n",
                "    ON Cur.orderyear = Prv.orderyear + 1;"
            ],
            "metadata": {
                "azdata_cell_guid": "854fd871-39e6-442d-8a41-23b92f63c854",
                "language": "sql"
            },
            "outputs": [],
            "execution_count": null
        },
        {
            "cell_type": "markdown",
            "source": [
                "In the `TSQLV4` database, there's a need to analyze year-over-year customer growth. This involves a Common Table Expression (CTE), `YearlyCount`, to count unique customers per year from `Sales.Orders`. The subsequent query should join `YearlyCount` to itself, comparing customer counts between consecutive years and calculating the growth. What SQL query can achieve this comparison using a left outer join?"
            ],
            "metadata": {
                "azdata_cell_guid": "4a8e9cd6-dde2-499d-b5bc-76f25e170af7"
            },
            "attachments": {}
        },
        {
            "cell_type": "code",
            "source": [
                "USE TSQLV4;\r\n",
                "\r\n",
                "WITH EmpsCTE AS\r\n",
                "(\r\n",
                "  SELECT empid, mgrid, firstname, lastname\r\n",
                "  FROM HR.Employees\r\n",
                "  WHERE empid = 2\r\n",
                "  \r\n",
                "  UNION ALL\r\n",
                "  \r\n",
                "  SELECT C.empid, C.mgrid, C.firstname, C.lastname\r\n",
                "  FROM EmpsCTE AS P\r\n",
                "    INNER JOIN HR.Employees AS C\r\n",
                "      ON C.mgrid = P.empid\r\n",
                ")\r\n",
                "SELECT empid, mgrid, firstname, lastname\r\n",
                "FROM EmpsCTE;"
            ],
            "metadata": {
                "azdata_cell_guid": "445b654a-51b4-4340-aa81-c047bf0c79fc",
                "language": "sql"
            },
            "outputs": [],
            "execution_count": null
        },
        {
            "cell_type": "markdown",
            "source": [
                "In the `TSQLV4` database, how can a recursive Common Table Expression (CTE) be created to display a hierarchy of employees and their managers, starting from employee ID 2? The query should recursively join the `HR.Employees` table to itself and include employee ID, manager ID, first name, and last name."
            ],
            "metadata": {
                "azdata_cell_guid": "2af953d2-d874-4e35-b569-ad0667aa341e"
            },
            "attachments": {}
        },
        {
            "cell_type": "code",
            "source": [
                "USE TSQLV4;\r\n",
                "-- Creating USACusts View\r\n",
                "DROP VIEW IF EXISTS Sales.USACusts;\r\n",
                "GO\r\n",
                "CREATE VIEW Sales.USACusts\r\n",
                "AS\r\n",
                "\r\n",
                "SELECT\r\n",
                "  custid, companyname, contactname, contacttitle, address,\r\n",
                "  city, region, postalcode, country, phone, fax\r\n",
                "FROM Sales.Customers\r\n",
                "WHERE country = N'USA';\r\n",
                "GO\r\n",
                "\r\n",
                "SELECT custid, companyname\r\n",
                "FROM Sales.USACusts;\r\n",
                "GO"
            ],
            "metadata": {
                "azdata_cell_guid": "34610380-66a9-453a-af28-d351bea29d39",
                "language": "sql"
            },
            "outputs": [],
            "execution_count": null
        },
        {
            "cell_type": "markdown",
            "source": [
                "The task is to manage a view in the `TSQLV4` database that filters customers from the USA. This involves first dropping the existing view `Sales.USACusts` if it exists, then creating a new view with the same name. The view should select various customer details from the `Sales.Customers` table, specifically for those customers whose country is 'USA'. After creating the view, a query needs to be executed to retrieve the `custid` and `companyname` from this newly created `Sales.USACusts` view. What SQL commands are required to accomplish this?\r\n",
                ""
            ],
            "metadata": {
                "azdata_cell_guid": "1ca8e8a3-9fff-4b26-9dd2-e03bde6ac0ae"
            },
            "attachments": {}
        },
        {
            "cell_type": "markdown",
            "source": [
                "_Written in collaboration with ChatGPT from OpenAI to improve understanding and assist with the explanation of the query._"
            ],
            "metadata": {
                "azdata_cell_guid": "27040139-858f-4ced-af2c-06681a6c5cf4"
            },
            "attachments": {}
        }
    ]
}