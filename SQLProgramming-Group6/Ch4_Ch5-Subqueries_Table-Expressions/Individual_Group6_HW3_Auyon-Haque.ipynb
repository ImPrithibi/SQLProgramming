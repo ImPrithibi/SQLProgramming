{
    "metadata": {
        "kernelspec": {
            "name": "SQL",
            "display_name": "SQL",
            "language": "sql"
        },
        "language_info": {
            "name": "sql",
            "version": ""
        }
    },
    "nbformat_minor": 2,
    "nbformat": 4,
    "cells": [
        {
            "cell_type": "markdown",
            "source": [
                "```\n",
                "-- 1 \n",
                "-- Write a query that returns all orders placed on the last day of\n",
                "-- activity that can be found in the Orders table\n",
                "-- Tables involved: TSQLV4 database, Orders table\n",
                "\n",
                "--Desired output\n",
                "orderid     orderdate   custid      empid\n",
                "----------- ----------- ----------- -----------\n",
                "11077       2016-05-06  65          1\n",
                "11076       2016-05-06  9           4\n",
                "11075       2016-05-06  68          8\n",
                "11074       2016-05-06  73          7\n",
                "\n",
                "(4 row(s) affected)\n",
                "```"
            ],
            "metadata": {
                "azdata_cell_guid": "5b31898b-36b9-41ca-b74d-8562d8bc227a"
            },
            "attachments": {}
        },
        {
            "cell_type": "markdown",
            "source": [
                "**TSQLV4/NORTHWINDS QUERY**\n",
                "\n",
                "<span style=\"color: var(--vscode-foreground);\"><b>Problem</b>:&nbsp;Write a query that returns all orders placed on the last day of activity that can be found in the Orders table</span>\n",
                "\n",
                "**Tables:**\n",
                "\n",
                "- Orders\n",
                "\n",
                "**Columns:**\n",
                "\n",
                "- orderid\n",
                "    \n",
                "- orderdate\n",
                "    \n",
                "- custid\n",
                "    \n",
                "- empid\n",
                "    \n",
                "\n",
                "**Predicate:**\n",
                "\n",
                "**WHERE condition:** the where condition is selecting rows from the order table  where the orderdate matches <span style=\"color: var(--vscode-foreground);\">the SELECT MAX(OrderDate) FROM Orders. This is finding the most recent date on which a order was placed, then goes through all the entries in the orders table, then compares all the orderdate values and returns the highest value.&nbsp;</span>"
            ],
            "metadata": {
                "azdata_cell_guid": "92962f39-1800-4e12-96ae-2221b3c52e54"
            },
            "attachments": {}
        },
        {
            "cell_type": "code",
            "source": [
                "USE TSQLV4;\r\n",
                "SELECT orderid, orderdate, custid, empid\r\n",
                "FROM Orders\r\n",
                "WHERE OrderDate = (\r\n",
                "    SELECT MAX(OrderDate)\r\n",
                "    FROM Orders\r\n",
                ")\r\n",
                "ORDER BY Orderid DESC;\r\n",
                "\r\n",
                "-- QUERY CONVERTED \r\n",
                "\r\n",
                "USE Northwinds2022TSQLV7; \r\n",
                "SELECT orderid, orderdate, CustomerId, EmployeeId\r\n",
                "FROM Sales.[Order]\r\n",
                "WHERE OrderDate = (\r\n",
                "    SELECT MAX(OrderDate)\r\n",
                "    FROM Sales.[Order]\r\n",
                ")\r\n",
                "ORDER BY orderid DESC;"
            ],
            "metadata": {
                "azdata_cell_guid": "7d836c4c-2809-42e6-a21e-bb15f413cfce",
                "language": "sql"
            },
            "outputs": [
                {
                    "output_type": "display_data",
                    "data": {
                        "text/html": "(4 rows affected)"
                    },
                    "metadata": {}
                },
                {
                    "output_type": "display_data",
                    "data": {
                        "text/html": "(4 rows affected)"
                    },
                    "metadata": {}
                },
                {
                    "output_type": "display_data",
                    "data": {
                        "text/html": "Total execution time: 00:00:00.051"
                    },
                    "metadata": {}
                },
                {
                    "output_type": "execute_result",
                    "metadata": {},
                    "execution_count": 1,
                    "data": {
                        "application/vnd.dataresource+json": {
                            "schema": {
                                "fields": [
                                    {
                                        "name": "orderid"
                                    },
                                    {
                                        "name": "orderdate"
                                    },
                                    {
                                        "name": "custid"
                                    },
                                    {
                                        "name": "empid"
                                    }
                                ]
                            },
                            "data": [
                                {
                                    "orderid": "11077",
                                    "orderdate": "2016-05-06",
                                    "custid": "65",
                                    "empid": "1"
                                },
                                {
                                    "orderid": "11076",
                                    "orderdate": "2016-05-06",
                                    "custid": "9",
                                    "empid": "4"
                                },
                                {
                                    "orderid": "11075",
                                    "orderdate": "2016-05-06",
                                    "custid": "68",
                                    "empid": "8"
                                },
                                {
                                    "orderid": "11074",
                                    "orderdate": "2016-05-06",
                                    "custid": "73",
                                    "empid": "7"
                                }
                            ]
                        },
                        "text/html": [
                            "<table>",
                            "<tr><th>orderid</th><th>orderdate</th><th>custid</th><th>empid</th></tr>",
                            "<tr><td>11077</td><td>2016-05-06</td><td>65</td><td>1</td></tr>",
                            "<tr><td>11076</td><td>2016-05-06</td><td>9</td><td>4</td></tr>",
                            "<tr><td>11075</td><td>2016-05-06</td><td>68</td><td>8</td></tr>",
                            "<tr><td>11074</td><td>2016-05-06</td><td>73</td><td>7</td></tr>",
                            "</table>"
                        ]
                    }
                },
                {
                    "output_type": "execute_result",
                    "metadata": {},
                    "execution_count": 1,
                    "data": {
                        "application/vnd.dataresource+json": {
                            "schema": {
                                "fields": [
                                    {
                                        "name": "orderid"
                                    },
                                    {
                                        "name": "orderdate"
                                    },
                                    {
                                        "name": "CustomerId"
                                    },
                                    {
                                        "name": "EmployeeId"
                                    }
                                ]
                            },
                            "data": [
                                {
                                    "orderid": "11077",
                                    "orderdate": "2016-05-06",
                                    "CustomerId": "65",
                                    "EmployeeId": "1"
                                },
                                {
                                    "orderid": "11076",
                                    "orderdate": "2016-05-06",
                                    "CustomerId": "9",
                                    "EmployeeId": "4"
                                },
                                {
                                    "orderid": "11075",
                                    "orderdate": "2016-05-06",
                                    "CustomerId": "68",
                                    "EmployeeId": "8"
                                },
                                {
                                    "orderid": "11074",
                                    "orderdate": "2016-05-06",
                                    "CustomerId": "73",
                                    "EmployeeId": "7"
                                }
                            ]
                        },
                        "text/html": [
                            "<table>",
                            "<tr><th>orderid</th><th>orderdate</th><th>CustomerId</th><th>EmployeeId</th></tr>",
                            "<tr><td>11077</td><td>2016-05-06</td><td>65</td><td>1</td></tr>",
                            "<tr><td>11076</td><td>2016-05-06</td><td>9</td><td>4</td></tr>",
                            "<tr><td>11075</td><td>2016-05-06</td><td>68</td><td>8</td></tr>",
                            "<tr><td>11074</td><td>2016-05-06</td><td>73</td><td>7</td></tr>",
                            "</table>"
                        ]
                    }
                }
            ],
            "execution_count": 1
        },
        {
            "cell_type": "markdown",
            "source": [
                "```\n",
                "-- 2 (Optional, Advanced)\n",
                "-- Write a query that returns all orders placed\n",
                "-- by the customer(s) who placed the highest number of orders\n",
                "-- * Note: there may be more than one customer\n",
                "--   with the same number of orders\n",
                "-- Tables involved: TSQLV4 database, Orders table\n",
                "\n",
                "-- Desired output:\n",
                "custid      orderid     orderdate  empid\n",
                "----------- ----------- ---------- -----------\n",
                "71          10324       2014-10-08 9\n",
                "71          10393       2014-12-25 1\n",
                "71          10398       2014-12-30 2\n",
                "71          10440       2015-02-10 4\n",
                "71          10452       2015-02-20 8\n",
                "71          10510       2015-04-18 6\n",
                "71          10555       2015-06-02 6\n",
                "71          10603       2015-07-18 8\n",
                "71          10607       2015-07-22 5\n",
                "71          10612       2015-07-28 1\n",
                "71          10627       2015-08-11 8\n",
                "71          10657       2015-09-04 2\n",
                "71          10678       2015-09-23 7\n",
                "71          10700       2015-10-10 3\n",
                "71          10711       2015-10-21 5\n",
                "71          10713       2015-10-22 1\n",
                "71          10714       2015-10-22 5\n",
                "71          10722       2015-10-29 8\n",
                "71          10748       2015-11-20 3\n",
                "71          10757       2015-11-27 6\n",
                "71          10815       2016-01-05 2\n",
                "71          10847       2016-01-22 4\n",
                "71          10882       2016-02-11 4\n",
                "71          10894       2016-02-18 1\n",
                "71          10941       2016-03-11 7\n",
                "71          10983       2016-03-27 2\n",
                "71          10984       2016-03-30 1\n",
                "71          11002       2016-04-06 4\n",
                "71          11030       2016-04-17 7\n",
                "71          11031       2016-04-17 6\n",
                "71          11064       2016-05-01 1\n",
                "\n",
                "(31 row(s) affected)\n",
                "```"
            ],
            "metadata": {
                "azdata_cell_guid": "ce66272d-51d7-4e3d-8582-931c87425df4"
            },
            "attachments": {}
        },
        {
            "cell_type": "markdown",
            "source": [
                "**TSQLV4/NORTHWINDS QUERY**\n",
                "\n",
                "<span style=\"color: var(--vscode-foreground);\"><b>Problem</b>:&nbsp;</span>  Write a query that returns all orders placed by the customers who placed the highest number of orders\n",
                "\n",
                "**Tables:**\n",
                "\n",
                "- Orders\n",
                "\n",
                "**Columns:**\n",
                "\n",
                "- custid from the orders table, this is the customer id \n",
                "    \n",
                "- orderid from orders table \n",
                "    \n",
                "- orderdate from the orders table\n",
                "    \n",
                "- empid from the orders table , this is the employee id\n",
                "    \n",
                "\n",
                "**Predicate:**\n",
                "\n",
                "**INNER JOIN CustomerOrderCounts coc ON o.custid = coc.custid**\n",
                "\n",
                "this joins each order to the customer order count. Only orders that belong to a customer ID will be shown\n",
                "\n",
                "**INNER JOIN MaxOrderCount moc ON coc.NumberOfOrders = moc.MaxOrders**\n",
                "\n",
                "this joins the customer order counts to the max order count. Only customers who total order counts equal max order count will be shown"
            ],
            "metadata": {
                "azdata_cell_guid": "83283510-a18e-4dcc-a081-b295d6165591"
            },
            "attachments": {}
        },
        {
            "cell_type": "code",
            "source": [
                "USE TSQLV4; \r\n",
                "WITH CustomerOrderCounts AS (\r\n",
                "    SELECT custid, COUNT(*) AS NumberOfOrders\r\n",
                "    FROM Orders\r\n",
                "    GROUP BY custid\r\n",
                "),\r\n",
                "MaxOrderCount AS (\r\n",
                "    SELECT MAX(NumberOfOrders) AS MaxOrders\r\n",
                "    FROM CustomerOrderCounts\r\n",
                ")\r\n",
                "SELECT o.custid, o.orderid, o.orderdate, o.empid\r\n",
                "FROM Orders o\r\n",
                "INNER JOIN CustomerOrderCounts coc ON o.custid = coc.custid\r\n",
                "INNER JOIN MaxOrderCount moc ON coc.NumberOfOrders = moc.MaxOrders\r\n",
                "ORDER BY o.custid, o.orderid;\r\n",
                "\r\n",
                "--Query converted \r\n",
                "\r\n",
                "USE Northwinds2022TSQLV7; \r\n",
                "WITH CustomerOrderCounts AS (\r\n",
                "    SELECT CustomerId, COUNT(*) AS NumberOfOrders\r\n",
                "    FROM Sales.[Order]\r\n",
                "    GROUP BY CustomerId\r\n",
                "),\r\n",
                "MaxOrderCount AS (\r\n",
                "    SELECT MAX(NumberOfOrders) AS MaxOrders\r\n",
                "    FROM CustomerOrderCounts\r\n",
                ")\r\n",
                "SELECT o.CustomerId, o.orderid, o.orderdate, o.EmployeeId\r\n",
                "FROM Sales.[Order] o\r\n",
                "INNER JOIN CustomerOrderCounts coc ON o.CustomerId = coc.CustomerId\r\n",
                "INNER JOIN MaxOrderCount moc ON coc.NumberOfOrders = moc.MaxOrders\r\n",
                "ORDER BY o.CustomerId, o.orderid;"
            ],
            "metadata": {
                "azdata_cell_guid": "85f8fc53-aeb5-4c0c-8d6f-fea16a6f92ac",
                "language": "sql",
                "tags": []
            },
            "outputs": [
                {
                    "output_type": "display_data",
                    "data": {
                        "text/html": "(31 rows affected)"
                    },
                    "metadata": {}
                },
                {
                    "output_type": "display_data",
                    "data": {
                        "text/html": "(31 rows affected)"
                    },
                    "metadata": {}
                },
                {
                    "output_type": "display_data",
                    "data": {
                        "text/html": "Total execution time: 00:00:00.017"
                    },
                    "metadata": {}
                },
                {
                    "output_type": "execute_result",
                    "metadata": {},
                    "execution_count": 2,
                    "data": {
                        "application/vnd.dataresource+json": {
                            "schema": {
                                "fields": [
                                    {
                                        "name": "custid"
                                    },
                                    {
                                        "name": "orderid"
                                    },
                                    {
                                        "name": "orderdate"
                                    },
                                    {
                                        "name": "empid"
                                    }
                                ]
                            },
                            "data": [
                                {
                                    "custid": "71",
                                    "orderid": "10324",
                                    "orderdate": "2014-10-08",
                                    "empid": "9"
                                },
                                {
                                    "custid": "71",
                                    "orderid": "10393",
                                    "orderdate": "2014-12-25",
                                    "empid": "1"
                                },
                                {
                                    "custid": "71",
                                    "orderid": "10398",
                                    "orderdate": "2014-12-30",
                                    "empid": "2"
                                },
                                {
                                    "custid": "71",
                                    "orderid": "10440",
                                    "orderdate": "2015-02-10",
                                    "empid": "4"
                                },
                                {
                                    "custid": "71",
                                    "orderid": "10452",
                                    "orderdate": "2015-02-20",
                                    "empid": "8"
                                },
                                {
                                    "custid": "71",
                                    "orderid": "10510",
                                    "orderdate": "2015-04-18",
                                    "empid": "6"
                                },
                                {
                                    "custid": "71",
                                    "orderid": "10555",
                                    "orderdate": "2015-06-02",
                                    "empid": "6"
                                },
                                {
                                    "custid": "71",
                                    "orderid": "10603",
                                    "orderdate": "2015-07-18",
                                    "empid": "8"
                                },
                                {
                                    "custid": "71",
                                    "orderid": "10607",
                                    "orderdate": "2015-07-22",
                                    "empid": "5"
                                },
                                {
                                    "custid": "71",
                                    "orderid": "10612",
                                    "orderdate": "2015-07-28",
                                    "empid": "1"
                                },
                                {
                                    "custid": "71",
                                    "orderid": "10627",
                                    "orderdate": "2015-08-11",
                                    "empid": "8"
                                },
                                {
                                    "custid": "71",
                                    "orderid": "10657",
                                    "orderdate": "2015-09-04",
                                    "empid": "2"
                                },
                                {
                                    "custid": "71",
                                    "orderid": "10678",
                                    "orderdate": "2015-09-23",
                                    "empid": "7"
                                },
                                {
                                    "custid": "71",
                                    "orderid": "10700",
                                    "orderdate": "2015-10-10",
                                    "empid": "3"
                                },
                                {
                                    "custid": "71",
                                    "orderid": "10711",
                                    "orderdate": "2015-10-21",
                                    "empid": "5"
                                },
                                {
                                    "custid": "71",
                                    "orderid": "10713",
                                    "orderdate": "2015-10-22",
                                    "empid": "1"
                                },
                                {
                                    "custid": "71",
                                    "orderid": "10714",
                                    "orderdate": "2015-10-22",
                                    "empid": "5"
                                },
                                {
                                    "custid": "71",
                                    "orderid": "10722",
                                    "orderdate": "2015-10-29",
                                    "empid": "8"
                                },
                                {
                                    "custid": "71",
                                    "orderid": "10748",
                                    "orderdate": "2015-11-20",
                                    "empid": "3"
                                },
                                {
                                    "custid": "71",
                                    "orderid": "10757",
                                    "orderdate": "2015-11-27",
                                    "empid": "6"
                                },
                                {
                                    "custid": "71",
                                    "orderid": "10815",
                                    "orderdate": "2016-01-05",
                                    "empid": "2"
                                },
                                {
                                    "custid": "71",
                                    "orderid": "10847",
                                    "orderdate": "2016-01-22",
                                    "empid": "4"
                                },
                                {
                                    "custid": "71",
                                    "orderid": "10882",
                                    "orderdate": "2016-02-11",
                                    "empid": "4"
                                },
                                {
                                    "custid": "71",
                                    "orderid": "10894",
                                    "orderdate": "2016-02-18",
                                    "empid": "1"
                                },
                                {
                                    "custid": "71",
                                    "orderid": "10941",
                                    "orderdate": "2016-03-11",
                                    "empid": "7"
                                },
                                {
                                    "custid": "71",
                                    "orderid": "10983",
                                    "orderdate": "2016-03-27",
                                    "empid": "2"
                                },
                                {
                                    "custid": "71",
                                    "orderid": "10984",
                                    "orderdate": "2016-03-30",
                                    "empid": "1"
                                },
                                {
                                    "custid": "71",
                                    "orderid": "11002",
                                    "orderdate": "2016-04-06",
                                    "empid": "4"
                                },
                                {
                                    "custid": "71",
                                    "orderid": "11030",
                                    "orderdate": "2016-04-17",
                                    "empid": "7"
                                },
                                {
                                    "custid": "71",
                                    "orderid": "11031",
                                    "orderdate": "2016-04-17",
                                    "empid": "6"
                                },
                                {
                                    "custid": "71",
                                    "orderid": "11064",
                                    "orderdate": "2016-05-01",
                                    "empid": "1"
                                }
                            ]
                        },
                        "text/html": [
                            "<table>",
                            "<tr><th>custid</th><th>orderid</th><th>orderdate</th><th>empid</th></tr>",
                            "<tr><td>71</td><td>10324</td><td>2014-10-08</td><td>9</td></tr>",
                            "<tr><td>71</td><td>10393</td><td>2014-12-25</td><td>1</td></tr>",
                            "<tr><td>71</td><td>10398</td><td>2014-12-30</td><td>2</td></tr>",
                            "<tr><td>71</td><td>10440</td><td>2015-02-10</td><td>4</td></tr>",
                            "<tr><td>71</td><td>10452</td><td>2015-02-20</td><td>8</td></tr>",
                            "<tr><td>71</td><td>10510</td><td>2015-04-18</td><td>6</td></tr>",
                            "<tr><td>71</td><td>10555</td><td>2015-06-02</td><td>6</td></tr>",
                            "<tr><td>71</td><td>10603</td><td>2015-07-18</td><td>8</td></tr>",
                            "<tr><td>71</td><td>10607</td><td>2015-07-22</td><td>5</td></tr>",
                            "<tr><td>71</td><td>10612</td><td>2015-07-28</td><td>1</td></tr>",
                            "<tr><td>71</td><td>10627</td><td>2015-08-11</td><td>8</td></tr>",
                            "<tr><td>71</td><td>10657</td><td>2015-09-04</td><td>2</td></tr>",
                            "<tr><td>71</td><td>10678</td><td>2015-09-23</td><td>7</td></tr>",
                            "<tr><td>71</td><td>10700</td><td>2015-10-10</td><td>3</td></tr>",
                            "<tr><td>71</td><td>10711</td><td>2015-10-21</td><td>5</td></tr>",
                            "<tr><td>71</td><td>10713</td><td>2015-10-22</td><td>1</td></tr>",
                            "<tr><td>71</td><td>10714</td><td>2015-10-22</td><td>5</td></tr>",
                            "<tr><td>71</td><td>10722</td><td>2015-10-29</td><td>8</td></tr>",
                            "<tr><td>71</td><td>10748</td><td>2015-11-20</td><td>3</td></tr>",
                            "<tr><td>71</td><td>10757</td><td>2015-11-27</td><td>6</td></tr>",
                            "<tr><td>71</td><td>10815</td><td>2016-01-05</td><td>2</td></tr>",
                            "<tr><td>71</td><td>10847</td><td>2016-01-22</td><td>4</td></tr>",
                            "<tr><td>71</td><td>10882</td><td>2016-02-11</td><td>4</td></tr>",
                            "<tr><td>71</td><td>10894</td><td>2016-02-18</td><td>1</td></tr>",
                            "<tr><td>71</td><td>10941</td><td>2016-03-11</td><td>7</td></tr>",
                            "<tr><td>71</td><td>10983</td><td>2016-03-27</td><td>2</td></tr>",
                            "<tr><td>71</td><td>10984</td><td>2016-03-30</td><td>1</td></tr>",
                            "<tr><td>71</td><td>11002</td><td>2016-04-06</td><td>4</td></tr>",
                            "<tr><td>71</td><td>11030</td><td>2016-04-17</td><td>7</td></tr>",
                            "<tr><td>71</td><td>11031</td><td>2016-04-17</td><td>6</td></tr>",
                            "<tr><td>71</td><td>11064</td><td>2016-05-01</td><td>1</td></tr>",
                            "</table>"
                        ]
                    }
                },
                {
                    "output_type": "execute_result",
                    "metadata": {},
                    "execution_count": 2,
                    "data": {
                        "application/vnd.dataresource+json": {
                            "schema": {
                                "fields": [
                                    {
                                        "name": "CustomerId"
                                    },
                                    {
                                        "name": "orderid"
                                    },
                                    {
                                        "name": "orderdate"
                                    },
                                    {
                                        "name": "EmployeeId"
                                    }
                                ]
                            },
                            "data": [
                                {
                                    "CustomerId": "71",
                                    "orderid": "10324",
                                    "orderdate": "2014-10-08",
                                    "EmployeeId": "9"
                                },
                                {
                                    "CustomerId": "71",
                                    "orderid": "10393",
                                    "orderdate": "2014-12-25",
                                    "EmployeeId": "1"
                                },
                                {
                                    "CustomerId": "71",
                                    "orderid": "10398",
                                    "orderdate": "2014-12-30",
                                    "EmployeeId": "2"
                                },
                                {
                                    "CustomerId": "71",
                                    "orderid": "10440",
                                    "orderdate": "2015-02-10",
                                    "EmployeeId": "4"
                                },
                                {
                                    "CustomerId": "71",
                                    "orderid": "10452",
                                    "orderdate": "2015-02-20",
                                    "EmployeeId": "8"
                                },
                                {
                                    "CustomerId": "71",
                                    "orderid": "10510",
                                    "orderdate": "2015-04-18",
                                    "EmployeeId": "6"
                                },
                                {
                                    "CustomerId": "71",
                                    "orderid": "10555",
                                    "orderdate": "2015-06-02",
                                    "EmployeeId": "6"
                                },
                                {
                                    "CustomerId": "71",
                                    "orderid": "10603",
                                    "orderdate": "2015-07-18",
                                    "EmployeeId": "8"
                                },
                                {
                                    "CustomerId": "71",
                                    "orderid": "10607",
                                    "orderdate": "2015-07-22",
                                    "EmployeeId": "5"
                                },
                                {
                                    "CustomerId": "71",
                                    "orderid": "10612",
                                    "orderdate": "2015-07-28",
                                    "EmployeeId": "1"
                                },
                                {
                                    "CustomerId": "71",
                                    "orderid": "10627",
                                    "orderdate": "2015-08-11",
                                    "EmployeeId": "8"
                                },
                                {
                                    "CustomerId": "71",
                                    "orderid": "10657",
                                    "orderdate": "2015-09-04",
                                    "EmployeeId": "2"
                                },
                                {
                                    "CustomerId": "71",
                                    "orderid": "10678",
                                    "orderdate": "2015-09-23",
                                    "EmployeeId": "7"
                                },
                                {
                                    "CustomerId": "71",
                                    "orderid": "10700",
                                    "orderdate": "2015-10-10",
                                    "EmployeeId": "3"
                                },
                                {
                                    "CustomerId": "71",
                                    "orderid": "10711",
                                    "orderdate": "2015-10-21",
                                    "EmployeeId": "5"
                                },
                                {
                                    "CustomerId": "71",
                                    "orderid": "10713",
                                    "orderdate": "2015-10-22",
                                    "EmployeeId": "1"
                                },
                                {
                                    "CustomerId": "71",
                                    "orderid": "10714",
                                    "orderdate": "2015-10-22",
                                    "EmployeeId": "5"
                                },
                                {
                                    "CustomerId": "71",
                                    "orderid": "10722",
                                    "orderdate": "2015-10-29",
                                    "EmployeeId": "8"
                                },
                                {
                                    "CustomerId": "71",
                                    "orderid": "10748",
                                    "orderdate": "2015-11-20",
                                    "EmployeeId": "3"
                                },
                                {
                                    "CustomerId": "71",
                                    "orderid": "10757",
                                    "orderdate": "2015-11-27",
                                    "EmployeeId": "6"
                                },
                                {
                                    "CustomerId": "71",
                                    "orderid": "10815",
                                    "orderdate": "2016-01-05",
                                    "EmployeeId": "2"
                                },
                                {
                                    "CustomerId": "71",
                                    "orderid": "10847",
                                    "orderdate": "2016-01-22",
                                    "EmployeeId": "4"
                                },
                                {
                                    "CustomerId": "71",
                                    "orderid": "10882",
                                    "orderdate": "2016-02-11",
                                    "EmployeeId": "4"
                                },
                                {
                                    "CustomerId": "71",
                                    "orderid": "10894",
                                    "orderdate": "2016-02-18",
                                    "EmployeeId": "1"
                                },
                                {
                                    "CustomerId": "71",
                                    "orderid": "10941",
                                    "orderdate": "2016-03-11",
                                    "EmployeeId": "7"
                                },
                                {
                                    "CustomerId": "71",
                                    "orderid": "10983",
                                    "orderdate": "2016-03-27",
                                    "EmployeeId": "2"
                                },
                                {
                                    "CustomerId": "71",
                                    "orderid": "10984",
                                    "orderdate": "2016-03-30",
                                    "EmployeeId": "1"
                                },
                                {
                                    "CustomerId": "71",
                                    "orderid": "11002",
                                    "orderdate": "2016-04-06",
                                    "EmployeeId": "4"
                                },
                                {
                                    "CustomerId": "71",
                                    "orderid": "11030",
                                    "orderdate": "2016-04-17",
                                    "EmployeeId": "7"
                                },
                                {
                                    "CustomerId": "71",
                                    "orderid": "11031",
                                    "orderdate": "2016-04-17",
                                    "EmployeeId": "6"
                                },
                                {
                                    "CustomerId": "71",
                                    "orderid": "11064",
                                    "orderdate": "2016-05-01",
                                    "EmployeeId": "1"
                                }
                            ]
                        },
                        "text/html": [
                            "<table>",
                            "<tr><th>CustomerId</th><th>orderid</th><th>orderdate</th><th>EmployeeId</th></tr>",
                            "<tr><td>71</td><td>10324</td><td>2014-10-08</td><td>9</td></tr>",
                            "<tr><td>71</td><td>10393</td><td>2014-12-25</td><td>1</td></tr>",
                            "<tr><td>71</td><td>10398</td><td>2014-12-30</td><td>2</td></tr>",
                            "<tr><td>71</td><td>10440</td><td>2015-02-10</td><td>4</td></tr>",
                            "<tr><td>71</td><td>10452</td><td>2015-02-20</td><td>8</td></tr>",
                            "<tr><td>71</td><td>10510</td><td>2015-04-18</td><td>6</td></tr>",
                            "<tr><td>71</td><td>10555</td><td>2015-06-02</td><td>6</td></tr>",
                            "<tr><td>71</td><td>10603</td><td>2015-07-18</td><td>8</td></tr>",
                            "<tr><td>71</td><td>10607</td><td>2015-07-22</td><td>5</td></tr>",
                            "<tr><td>71</td><td>10612</td><td>2015-07-28</td><td>1</td></tr>",
                            "<tr><td>71</td><td>10627</td><td>2015-08-11</td><td>8</td></tr>",
                            "<tr><td>71</td><td>10657</td><td>2015-09-04</td><td>2</td></tr>",
                            "<tr><td>71</td><td>10678</td><td>2015-09-23</td><td>7</td></tr>",
                            "<tr><td>71</td><td>10700</td><td>2015-10-10</td><td>3</td></tr>",
                            "<tr><td>71</td><td>10711</td><td>2015-10-21</td><td>5</td></tr>",
                            "<tr><td>71</td><td>10713</td><td>2015-10-22</td><td>1</td></tr>",
                            "<tr><td>71</td><td>10714</td><td>2015-10-22</td><td>5</td></tr>",
                            "<tr><td>71</td><td>10722</td><td>2015-10-29</td><td>8</td></tr>",
                            "<tr><td>71</td><td>10748</td><td>2015-11-20</td><td>3</td></tr>",
                            "<tr><td>71</td><td>10757</td><td>2015-11-27</td><td>6</td></tr>",
                            "<tr><td>71</td><td>10815</td><td>2016-01-05</td><td>2</td></tr>",
                            "<tr><td>71</td><td>10847</td><td>2016-01-22</td><td>4</td></tr>",
                            "<tr><td>71</td><td>10882</td><td>2016-02-11</td><td>4</td></tr>",
                            "<tr><td>71</td><td>10894</td><td>2016-02-18</td><td>1</td></tr>",
                            "<tr><td>71</td><td>10941</td><td>2016-03-11</td><td>7</td></tr>",
                            "<tr><td>71</td><td>10983</td><td>2016-03-27</td><td>2</td></tr>",
                            "<tr><td>71</td><td>10984</td><td>2016-03-30</td><td>1</td></tr>",
                            "<tr><td>71</td><td>11002</td><td>2016-04-06</td><td>4</td></tr>",
                            "<tr><td>71</td><td>11030</td><td>2016-04-17</td><td>7</td></tr>",
                            "<tr><td>71</td><td>11031</td><td>2016-04-17</td><td>6</td></tr>",
                            "<tr><td>71</td><td>11064</td><td>2016-05-01</td><td>1</td></tr>",
                            "</table>"
                        ]
                    }
                }
            ],
            "execution_count": 2
        },
        {
            "cell_type": "markdown",
            "source": [
                "```\n",
                "-- 3\n",
                "-- Write a query that returns employees\n",
                "-- who did not place orders on or after May 1st, 2016\n",
                "-- Tables involved: TSQLV4 database, Employees and Orders tables\n",
                "\n",
                "-- Desired output:\n",
                "empid       FirstName  lastname\n",
                "----------- ---------- --------------------\n",
                "3           Judy       Lew\n",
                "5           Sven       Mortensen\n",
                "6           Paul       Suurs\n",
                "9           Patricia   Doyle\n",
                "\n",
                "(4 row(s) affected)\n",
                "```"
            ],
            "metadata": {
                "azdata_cell_guid": "a1beb173-b56c-441d-a413-867cc9359c91"
            },
            "attachments": {}
        },
        {
            "cell_type": "markdown",
            "source": [
                "**TSQLV4/NORTHWINDS QUERY**\n",
                "\n",
                "<span style=\"color: var(--vscode-foreground);\"><b>Problem</b>:&nbsp;</span>   Write a query that returns employees who did not place orders on or after May 1st, 2016\n",
                "\n",
                "**Tables:**\n",
                "\n",
                "- Employee table from HR(Human resources) \n",
                "- Orders\n",
                "\n",
                "**Columns:**\n",
                "\n",
                "- orderid from orders table \n",
                "    \n",
                "- First name from the Employees table\n",
                "    \n",
                "- Last name from the Employees table\n",
                "    \n",
                "- empid from the Employees table , this is the employee id\n",
                "    \n",
                "\n",
                "**Predicate:**\n",
                "\n",
                "LEFT JOIN Orders o ON e.EmployeeID = o.EmployeeID AND o.OrderDate \\>= '2016-05-01'\n",
                "\n",
                "WHERE o.OrderID IS NULL  \n",
                "\n",
                "This joins the Employee table with the orders table under the condition that the employeeID in the employee table matches the employeeID in the orders table. LEFT JOIN means that the result will inculde all records from the employee table matching with the orders table, if there is no match values from the employee table will still be shown, while the values from the order table will be null. Last part makes sure only orders placed on or after may 1 2016 are shown. The Where condition filters the results of the left join to include only those rows that where there is not matching OrderID from the orders table."
            ],
            "metadata": {
                "azdata_cell_guid": "0cb392ec-d718-42b2-bd34-093c702f049a"
            },
            "attachments": {}
        },
        {
            "cell_type": "code",
            "source": [
                "USE TSQLV4; \r\n",
                "SELECT e.empid, e.FirstName, e.LastName\r\n",
                "FROM HR.Employees e\r\n",
                "LEFT JOIN Orders o ON e.empid = o.empid AND o.OrderDate >= '2016-05-01'\r\n",
                "WHERE o.OrderID IS NULL\r\n",
                "ORDER BY e.empid;\r\n",
                "\r\n",
                "--QUERY CONVERTED\r\n",
                "\r\n",
                "USE Northwinds2022TSQLV7;\r\n",
                "SELECT e.EmployeeId, e.EmployeeFirstName, e.EmployeeLastName\r\n",
                "FROM HumanResources.[Employee] e\r\n",
                "LEFT JOIN Sales.[Order] o ON e.EmployeeId = o.EmployeeId AND o.OrderDate >= '2016-05-01'\r\n",
                "WHERE o.OrderID IS NULL\r\n",
                "ORDER BY e.EmployeeId;"
            ],
            "metadata": {
                "azdata_cell_guid": "c9e8460b-b663-42ff-962c-7ddd29af05fa",
                "language": "sql"
            },
            "outputs": [
                {
                    "output_type": "display_data",
                    "data": {
                        "text/html": "(4 rows affected)"
                    },
                    "metadata": {}
                },
                {
                    "output_type": "display_data",
                    "data": {
                        "text/html": "(4 rows affected)"
                    },
                    "metadata": {}
                },
                {
                    "output_type": "display_data",
                    "data": {
                        "text/html": "Total execution time: 00:00:00.015"
                    },
                    "metadata": {}
                },
                {
                    "output_type": "execute_result",
                    "metadata": {},
                    "execution_count": 3,
                    "data": {
                        "application/vnd.dataresource+json": {
                            "schema": {
                                "fields": [
                                    {
                                        "name": "empid"
                                    },
                                    {
                                        "name": "FirstName"
                                    },
                                    {
                                        "name": "LastName"
                                    }
                                ]
                            },
                            "data": [
                                {
                                    "empid": "3",
                                    "FirstName": "Judy",
                                    "LastName": "Lew"
                                },
                                {
                                    "empid": "5",
                                    "FirstName": "Sven",
                                    "LastName": "Mortensen"
                                },
                                {
                                    "empid": "6",
                                    "FirstName": "Paul",
                                    "LastName": "Suurs"
                                },
                                {
                                    "empid": "9",
                                    "FirstName": "Patricia",
                                    "LastName": "Doyle"
                                }
                            ]
                        },
                        "text/html": [
                            "<table>",
                            "<tr><th>empid</th><th>FirstName</th><th>LastName</th></tr>",
                            "<tr><td>3</td><td>Judy</td><td>Lew</td></tr>",
                            "<tr><td>5</td><td>Sven</td><td>Mortensen</td></tr>",
                            "<tr><td>6</td><td>Paul</td><td>Suurs</td></tr>",
                            "<tr><td>9</td><td>Patricia</td><td>Doyle</td></tr>",
                            "</table>"
                        ]
                    }
                },
                {
                    "output_type": "execute_result",
                    "metadata": {},
                    "execution_count": 3,
                    "data": {
                        "application/vnd.dataresource+json": {
                            "schema": {
                                "fields": [
                                    {
                                        "name": "EmployeeId"
                                    },
                                    {
                                        "name": "EmployeeFirstName"
                                    },
                                    {
                                        "name": "EmployeeLastName"
                                    }
                                ]
                            },
                            "data": [
                                {
                                    "EmployeeId": "3",
                                    "EmployeeFirstName": "Judy",
                                    "EmployeeLastName": "Lew"
                                },
                                {
                                    "EmployeeId": "5",
                                    "EmployeeFirstName": "Sven",
                                    "EmployeeLastName": "Mortensen"
                                },
                                {
                                    "EmployeeId": "6",
                                    "EmployeeFirstName": "Paul",
                                    "EmployeeLastName": "Suurs"
                                },
                                {
                                    "EmployeeId": "9",
                                    "EmployeeFirstName": "Patricia",
                                    "EmployeeLastName": "Doyle"
                                }
                            ]
                        },
                        "text/html": [
                            "<table>",
                            "<tr><th>EmployeeId</th><th>EmployeeFirstName</th><th>EmployeeLastName</th></tr>",
                            "<tr><td>3</td><td>Judy</td><td>Lew</td></tr>",
                            "<tr><td>5</td><td>Sven</td><td>Mortensen</td></tr>",
                            "<tr><td>6</td><td>Paul</td><td>Suurs</td></tr>",
                            "<tr><td>9</td><td>Patricia</td><td>Doyle</td></tr>",
                            "</table>"
                        ]
                    }
                }
            ],
            "execution_count": 3
        },
        {
            "cell_type": "markdown",
            "source": [
                "```\n",
                "-- 4\n",
                "-- Write a query that returns\n",
                "-- countries where there are customers but not employees\n",
                "-- Tables involved: TSQLV4 database, Customers and Employees tables\n",
                "\n",
                "-- Desired output:\n",
                "country\n",
                "---------------\n",
                "Argentina\n",
                "Austria\n",
                "Belgium\n",
                "Brazil\n",
                "Canada\n",
                "Denmark\n",
                "Finland\n",
                "France\n",
                "Germany\n",
                "Ireland\n",
                "Italy\n",
                "Mexico\n",
                "Norway\n",
                "Poland\n",
                "Portugal\n",
                "Spain\n",
                "Sweden\n",
                "Switzerland\n",
                "Venezuela\n",
                "\n",
                "(19 row(s) affected)\n",
                "\n",
                "```"
            ],
            "metadata": {
                "azdata_cell_guid": "e9cd7ffd-26b2-44d7-87c8-9dddab9040eb"
            },
            "attachments": {}
        },
        {
            "cell_type": "markdown",
            "source": [
                "**TSQLV4/NORTHWINDS QUERY**\n",
                "\n",
                "<span style=\"color: var(--vscode-foreground);\"><b>Problem</b>:&nbsp;</span>  Write a query that returns countries where there are customers but not employees\n",
                "\n",
                "**Tables:**\n",
                "\n",
                "- Employee table from HR(Human resources) \n",
                "- Customer table from Sales\n",
                "\n",
                "**Columns:**\n",
                "\n",
                "- CustomerCountry from Customer table \n",
                "    \n",
                "- EmployeeCountry from Employee table \n",
                "    \n",
                "\n",
                "**Predicate:**\n",
                "\n",
                "**WHERE c.Country NOT IN** <span style=\"color: var(--vscode-foreground);\">this makes sure that query will only return countries from the customers table. that dont appear in the list of countries in the customers table&nbsp;</span>"
            ],
            "metadata": {
                "azdata_cell_guid": "c93cde20-035c-4de7-9b79-dfaf9d25cf54"
            },
            "attachments": {}
        },
        {
            "cell_type": "code",
            "source": [
                "USE TSQLV4; \r\n",
                "SELECT DISTINCT c.Country\r\n",
                "FROM Sales.Customers c\r\n",
                "WHERE Country NOT IN (\r\n",
                "    SELECT e.Country\r\n",
                "    FROM HR.Employees e\r\n",
                ")\r\n",
                "ORDER BY c.Country;\r\n",
                "\r\n",
                "USE Northwinds2022TSQLV7;\r\n",
                "SELECT DISTINCT c.CustomerCountry\r\n",
                "FROM Sales.Customer c\r\n",
                "WHERE c.CustomerCountry NOT IN (\r\n",
                "    SELECT DISTINCT e.EmployeeCountry\r\n",
                "    FROM HumanResources.Employee e\r\n",
                ")\r\n",
                "ORDER BY c.CustomerCountry;"
            ],
            "metadata": {
                "azdata_cell_guid": "632401de-4cad-4498-af3d-87a92209de87",
                "language": "sql"
            },
            "outputs": [
                {
                    "output_type": "display_data",
                    "data": {
                        "text/html": "(19 rows affected)"
                    },
                    "metadata": {}
                },
                {
                    "output_type": "display_data",
                    "data": {
                        "text/html": "(19 rows affected)"
                    },
                    "metadata": {}
                },
                {
                    "output_type": "display_data",
                    "data": {
                        "text/html": "Total execution time: 00:00:00.014"
                    },
                    "metadata": {}
                },
                {
                    "output_type": "execute_result",
                    "metadata": {},
                    "execution_count": 4,
                    "data": {
                        "application/vnd.dataresource+json": {
                            "schema": {
                                "fields": [
                                    {
                                        "name": "Country"
                                    }
                                ]
                            },
                            "data": [
                                {
                                    "Country": "Argentina"
                                },
                                {
                                    "Country": "Austria"
                                },
                                {
                                    "Country": "Belgium"
                                },
                                {
                                    "Country": "Brazil"
                                },
                                {
                                    "Country": "Canada"
                                },
                                {
                                    "Country": "Denmark"
                                },
                                {
                                    "Country": "Finland"
                                },
                                {
                                    "Country": "France"
                                },
                                {
                                    "Country": "Germany"
                                },
                                {
                                    "Country": "Ireland"
                                },
                                {
                                    "Country": "Italy"
                                },
                                {
                                    "Country": "Mexico"
                                },
                                {
                                    "Country": "Norway"
                                },
                                {
                                    "Country": "Poland"
                                },
                                {
                                    "Country": "Portugal"
                                },
                                {
                                    "Country": "Spain"
                                },
                                {
                                    "Country": "Sweden"
                                },
                                {
                                    "Country": "Switzerland"
                                },
                                {
                                    "Country": "Venezuela"
                                }
                            ]
                        },
                        "text/html": [
                            "<table>",
                            "<tr><th>Country</th></tr>",
                            "<tr><td>Argentina</td></tr>",
                            "<tr><td>Austria</td></tr>",
                            "<tr><td>Belgium</td></tr>",
                            "<tr><td>Brazil</td></tr>",
                            "<tr><td>Canada</td></tr>",
                            "<tr><td>Denmark</td></tr>",
                            "<tr><td>Finland</td></tr>",
                            "<tr><td>France</td></tr>",
                            "<tr><td>Germany</td></tr>",
                            "<tr><td>Ireland</td></tr>",
                            "<tr><td>Italy</td></tr>",
                            "<tr><td>Mexico</td></tr>",
                            "<tr><td>Norway</td></tr>",
                            "<tr><td>Poland</td></tr>",
                            "<tr><td>Portugal</td></tr>",
                            "<tr><td>Spain</td></tr>",
                            "<tr><td>Sweden</td></tr>",
                            "<tr><td>Switzerland</td></tr>",
                            "<tr><td>Venezuela</td></tr>",
                            "</table>"
                        ]
                    }
                },
                {
                    "output_type": "execute_result",
                    "metadata": {},
                    "execution_count": 4,
                    "data": {
                        "application/vnd.dataresource+json": {
                            "schema": {
                                "fields": [
                                    {
                                        "name": "CustomerCountry"
                                    }
                                ]
                            },
                            "data": [
                                {
                                    "CustomerCountry": "Argentina"
                                },
                                {
                                    "CustomerCountry": "Austria"
                                },
                                {
                                    "CustomerCountry": "Belgium"
                                },
                                {
                                    "CustomerCountry": "Brazil"
                                },
                                {
                                    "CustomerCountry": "Canada"
                                },
                                {
                                    "CustomerCountry": "Denmark"
                                },
                                {
                                    "CustomerCountry": "Finland"
                                },
                                {
                                    "CustomerCountry": "France"
                                },
                                {
                                    "CustomerCountry": "Germany"
                                },
                                {
                                    "CustomerCountry": "Ireland"
                                },
                                {
                                    "CustomerCountry": "Italy"
                                },
                                {
                                    "CustomerCountry": "Mexico"
                                },
                                {
                                    "CustomerCountry": "Norway"
                                },
                                {
                                    "CustomerCountry": "Poland"
                                },
                                {
                                    "CustomerCountry": "Portugal"
                                },
                                {
                                    "CustomerCountry": "Spain"
                                },
                                {
                                    "CustomerCountry": "Sweden"
                                },
                                {
                                    "CustomerCountry": "Switzerland"
                                },
                                {
                                    "CustomerCountry": "Venezuela"
                                }
                            ]
                        },
                        "text/html": [
                            "<table>",
                            "<tr><th>CustomerCountry</th></tr>",
                            "<tr><td>Argentina</td></tr>",
                            "<tr><td>Austria</td></tr>",
                            "<tr><td>Belgium</td></tr>",
                            "<tr><td>Brazil</td></tr>",
                            "<tr><td>Canada</td></tr>",
                            "<tr><td>Denmark</td></tr>",
                            "<tr><td>Finland</td></tr>",
                            "<tr><td>France</td></tr>",
                            "<tr><td>Germany</td></tr>",
                            "<tr><td>Ireland</td></tr>",
                            "<tr><td>Italy</td></tr>",
                            "<tr><td>Mexico</td></tr>",
                            "<tr><td>Norway</td></tr>",
                            "<tr><td>Poland</td></tr>",
                            "<tr><td>Portugal</td></tr>",
                            "<tr><td>Spain</td></tr>",
                            "<tr><td>Sweden</td></tr>",
                            "<tr><td>Switzerland</td></tr>",
                            "<tr><td>Venezuela</td></tr>",
                            "</table>"
                        ]
                    }
                }
            ],
            "execution_count": 4
        },
        {
            "cell_type": "markdown",
            "source": [
                "\\----------------------------------PART2---------------------------------------------------------------------------------"
            ],
            "metadata": {
                "azdata_cell_guid": "94e4319a-6a43-48a7-ab81-f80c6bbd1d5c"
            },
            "attachments": {}
        },
        {
            "cell_type": "markdown",
            "source": [
                "CHAPTER 4"
            ],
            "metadata": {
                "azdata_cell_guid": "1de159ef-78da-462f-808a-10212e62580f"
            },
            "attachments": {}
        },
        {
            "cell_type": "markdown",
            "source": [
                "```\n",
                "---------------------------------------------------------------------\n",
                "-- Self-Contained Subqueries\n",
                "---------------------------------------------------------------------\n",
                "\n",
                "---------------------------------------------------------------------\n",
                "-- Scalar Subqueries\n",
                "---------------------------------------------------------------------\n",
                "\n",
                "-- Order with the maximum order ID\n",
                "USE TSQLV4;\n",
                "\n",
                "DECLARE @maxid AS INT = (SELECT MAX(orderid)\n",
                "                         FROM Sales.Orders);\n",
                "\n",
                "SELECT orderid, orderdate, empid, custid\n",
                "FROM Sales.Orders\n",
                "WHERE orderid = @maxid;\n",
                "GO\n",
                "\n",
                "SELECT orderid, orderdate, empid, custid\n",
                "FROM Sales.Orders\n",
                "WHERE orderid = (SELECT MAX(O.orderid)\n",
                "                 FROM Sales.Orders AS O);\n",
                "\n",
                "```"
            ],
            "metadata": {
                "azdata_cell_guid": "644dc32c-d971-4937-9074-1af7e948252b"
            },
            "attachments": {}
        },
        {
            "cell_type": "markdown",
            "source": [
                "Retrieve a list of the maximum/most recent order along with its orderid, orderdate, empid and custid"
            ],
            "metadata": {
                "azdata_cell_guid": "db09fa2b-96cb-4684-a2a7-3e4710e9c4bf"
            },
            "attachments": {}
        },
        {
            "cell_type": "code",
            "source": [
                "USE Northwinds2022TSQLV7\r\n",
                "DECLARE @maxid AS INT = (SELECT MAX(orderid)\r\n",
                "                         FROM Sales.[Order]);\r\n",
                "\r\n",
                "SELECT Orderid, orderdate, EmployeeId, CustomerId\r\n",
                "FROM Sales.[Order]\r\n",
                "WHERE orderid = @maxid;\r\n",
                "GO\r\n",
                "SELECT orderid, orderdate, EmployeeId, CustomerId\r\n",
                "FROM Sales.[Order]\r\n",
                "WHERE orderid = (SELECT MAX(O.orderid)\r\n",
                "                 FROM Sales.[Order] AS O);\r\n",
                ""
            ],
            "metadata": {
                "azdata_cell_guid": "922f858b-7af9-473c-aba9-1915fe88ec44",
                "language": "sql"
            },
            "outputs": [
                {
                    "output_type": "display_data",
                    "data": {
                        "text/html": "(1 row affected)"
                    },
                    "metadata": {}
                },
                {
                    "output_type": "display_data",
                    "data": {
                        "text/html": "(1 row affected)"
                    },
                    "metadata": {}
                },
                {
                    "output_type": "display_data",
                    "data": {
                        "text/html": "Total execution time: 00:00:00.010"
                    },
                    "metadata": {}
                },
                {
                    "output_type": "execute_result",
                    "metadata": {},
                    "execution_count": 5,
                    "data": {
                        "application/vnd.dataresource+json": {
                            "schema": {
                                "fields": [
                                    {
                                        "name": "Orderid"
                                    },
                                    {
                                        "name": "orderdate"
                                    },
                                    {
                                        "name": "EmployeeId"
                                    },
                                    {
                                        "name": "CustomerId"
                                    }
                                ]
                            },
                            "data": [
                                {
                                    "Orderid": "11077",
                                    "orderdate": "2016-05-06",
                                    "EmployeeId": "1",
                                    "CustomerId": "65"
                                }
                            ]
                        },
                        "text/html": [
                            "<table>",
                            "<tr><th>Orderid</th><th>orderdate</th><th>EmployeeId</th><th>CustomerId</th></tr>",
                            "<tr><td>11077</td><td>2016-05-06</td><td>1</td><td>65</td></tr>",
                            "</table>"
                        ]
                    }
                },
                {
                    "output_type": "execute_result",
                    "metadata": {},
                    "execution_count": 5,
                    "data": {
                        "application/vnd.dataresource+json": {
                            "schema": {
                                "fields": [
                                    {
                                        "name": "orderid"
                                    },
                                    {
                                        "name": "orderdate"
                                    },
                                    {
                                        "name": "EmployeeId"
                                    },
                                    {
                                        "name": "CustomerId"
                                    }
                                ]
                            },
                            "data": [
                                {
                                    "orderid": "11077",
                                    "orderdate": "2016-05-06",
                                    "EmployeeId": "1",
                                    "CustomerId": "65"
                                }
                            ]
                        },
                        "text/html": [
                            "<table>",
                            "<tr><th>orderid</th><th>orderdate</th><th>EmployeeId</th><th>CustomerId</th></tr>",
                            "<tr><td>11077</td><td>2016-05-06</td><td>1</td><td>65</td></tr>",
                            "</table>"
                        ]
                    }
                }
            ],
            "execution_count": 5
        },
        {
            "cell_type": "markdown",
            "source": [
                "```\n",
                "-- Scalar subquery expected to return one value\n",
                "SELECT orderid\n",
                "FROM Sales.Orders\n",
                "WHERE empid = \n",
                "  (SELECT E.empid\n",
                "   FROM HR.Employees AS E\n",
                "   WHERE E.lastname LIKE N'C%');\n",
                "GO\n",
                "\n",
                "SELECT orderid\n",
                "FROM Sales.Orders\n",
                "WHERE empid = \n",
                "  (SELECT E.empid\n",
                "   FROM HR.Employees AS E\n",
                "   WHERE E.lastname LIKE N'D%');\n",
                "GO\n",
                "\n",
                "SELECT orderid\n",
                "FROM Sales.Orders\n",
                "WHERE empid = \n",
                "  (SELECT E.empid\n",
                "   FROM HR.Employees AS E\n",
                "   WHERE E.lastname LIKE N'A%');\n",
                "\n",
                "```"
            ],
            "metadata": {
                "language": "sql",
                "azdata_cell_guid": "20f1ab34-5d5d-4d01-97f0-5ca5152aaf85"
            },
            "attachments": {}
        },
        {
            "cell_type": "markdown",
            "source": [
                "Retrieve a list that sows the order ids from the orders table handled by employees whose last names start with the letters C D and A \n",
                "\n",
                "NOTE: This query is expected to return one row but actually returns mutliple rows"
            ],
            "metadata": {
                "azdata_cell_guid": "88fbfe20-cc75-4768-b79c-9bff1359948a"
            },
            "attachments": {}
        },
        {
            "cell_type": "code",
            "source": [
                "USE Northwinds2022TSQLV7; \r\n",
                "SELECT orderid\r\n",
                "FROM Sales.[Order]\r\n",
                "WHERE EmployeeId = \r\n",
                "  (SELECT E.EmployeeId\r\n",
                "   FROM HumanResources.Employee AS E\r\n",
                "   WHERE E.EmployeeLastName LIKE N'C%');\r\n",
                "GO\r\n",
                "\r\n",
                "SELECT orderid\r\n",
                "FROM Sales.[Order]\r\n",
                "WHERE EmployeeId = \r\n",
                "  (SELECT E.EmployeeId\r\n",
                "   FROM HumanResources.Employee AS E\r\n",
                "   WHERE E.EmployeeLastName LIKE N'D%');\r\n",
                "GO\r\n",
                "\r\n",
                "SELECT orderid\r\n",
                "FROM Sales.[Order]\r\n",
                "WHERE EmployeeId = \r\n",
                "  (SELECT E.EmployeeId\r\n",
                "   FROM HumanResources.Employee AS E\r\n",
                "   WHERE E.EmployeeLastName LIKE N'A%');"
            ],
            "metadata": {
                "language": "sql",
                "azdata_cell_guid": "9087d464-f7c5-4398-ac69-c6722e33b4c6"
            },
            "outputs": [
                {
                    "output_type": "display_data",
                    "data": {
                        "text/html": "(104 rows affected)"
                    },
                    "metadata": {}
                },
                {
                    "output_type": "display_data",
                    "data": {
                        "text/html": "(0 rows affected)"
                    },
                    "metadata": {}
                },
                {
                    "output_type": "display_data",
                    "data": {
                        "text/html": "Total execution time: 00:00:00.006"
                    },
                    "metadata": {}
                },
                {
                    "output_type": "execute_result",
                    "metadata": {},
                    "execution_count": 8,
                    "data": {
                        "application/vnd.dataresource+json": {
                            "schema": {
                                "fields": [
                                    {
                                        "name": "orderid"
                                    }
                                ]
                            },
                            "data": [
                                {
                                    "orderid": "10262"
                                },
                                {
                                    "orderid": "10268"
                                },
                                {
                                    "orderid": "10276"
                                },
                                {
                                    "orderid": "10278"
                                },
                                {
                                    "orderid": "10279"
                                },
                                {
                                    "orderid": "10286"
                                },
                                {
                                    "orderid": "10287"
                                },
                                {
                                    "orderid": "10290"
                                },
                                {
                                    "orderid": "10301"
                                },
                                {
                                    "orderid": "10305"
                                },
                                {
                                    "orderid": "10310"
                                },
                                {
                                    "orderid": "10318"
                                },
                                {
                                    "orderid": "10334"
                                },
                                {
                                    "orderid": "10354"
                                },
                                {
                                    "orderid": "10366"
                                },
                                {
                                    "orderid": "10369"
                                },
                                {
                                    "orderid": "10380"
                                },
                                {
                                    "orderid": "10383"
                                },
                                {
                                    "orderid": "10399"
                                },
                                {
                                    "orderid": "10402"
                                },
                                {
                                    "orderid": "10408"
                                },
                                {
                                    "orderid": "10412"
                                },
                                {
                                    "orderid": "10416"
                                },
                                {
                                    "orderid": "10421"
                                },
                                {
                                    "orderid": "10435"
                                },
                                {
                                    "orderid": "10437"
                                },
                                {
                                    "orderid": "10443"
                                },
                                {
                                    "orderid": "10450"
                                },
                                {
                                    "orderid": "10452"
                                },
                                {
                                    "orderid": "10455"
                                },
                                {
                                    "orderid": "10456"
                                },
                                {
                                    "orderid": "10460"
                                },
                                {
                                    "orderid": "10467"
                                },
                                {
                                    "orderid": "10472"
                                },
                                {
                                    "orderid": "10476"
                                },
                                {
                                    "orderid": "10481"
                                },
                                {
                                    "orderid": "10488"
                                },
                                {
                                    "orderid": "10491"
                                },
                                {
                                    "orderid": "10498"
                                },
                                {
                                    "orderid": "10521"
                                },
                                {
                                    "orderid": "10533"
                                },
                                {
                                    "orderid": "10534"
                                },
                                {
                                    "orderid": "10543"
                                },
                                {
                                    "orderid": "10545"
                                },
                                {
                                    "orderid": "10560"
                                },
                                {
                                    "orderid": "10565"
                                },
                                {
                                    "orderid": "10571"
                                },
                                {
                                    "orderid": "10589"
                                },
                                {
                                    "orderid": "10596"
                                },
                                {
                                    "orderid": "10602"
                                },
                                {
                                    "orderid": "10603"
                                },
                                {
                                    "orderid": "10610"
                                },
                                {
                                    "orderid": "10614"
                                },
                                {
                                    "orderid": "10623"
                                },
                                {
                                    "orderid": "10627"
                                },
                                {
                                    "orderid": "10631"
                                },
                                {
                                    "orderid": "10632"
                                },
                                {
                                    "orderid": "10635"
                                },
                                {
                                    "orderid": "10651"
                                },
                                {
                                    "orderid": "10660"
                                },
                                {
                                    "orderid": "10679"
                                },
                                {
                                    "orderid": "10694"
                                },
                                {
                                    "orderid": "10696"
                                },
                                {
                                    "orderid": "10706"
                                },
                                {
                                    "orderid": "10719"
                                },
                                {
                                    "orderid": "10720"
                                },
                                {
                                    "orderid": "10722"
                                },
                                {
                                    "orderid": "10724"
                                },
                                {
                                    "orderid": "10729"
                                },
                                {
                                    "orderid": "10756"
                                },
                                {
                                    "orderid": "10770"
                                },
                                {
                                    "orderid": "10786"
                                },
                                {
                                    "orderid": "10795"
                                },
                                {
                                    "orderid": "10811"
                                },
                                {
                                    "orderid": "10824"
                                },
                                {
                                    "orderid": "10844"
                                },
                                {
                                    "orderid": "10845"
                                },
                                {
                                    "orderid": "10852"
                                },
                                {
                                    "orderid": "10857"
                                },
                                {
                                    "orderid": "10862"
                                },
                                {
                                    "orderid": "10883"
                                },
                                {
                                    "orderid": "10887"
                                },
                                {
                                    "orderid": "10932"
                                },
                                {
                                    "orderid": "10940"
                                },
                                {
                                    "orderid": "10955"
                                },
                                {
                                    "orderid": "10957"
                                },
                                {
                                    "orderid": "10961"
                                },
                                {
                                    "orderid": "10962"
                                },
                                {
                                    "orderid": "10977"
                                },
                                {
                                    "orderid": "10979"
                                },
                                {
                                    "orderid": "10986"
                                },
                                {
                                    "orderid": "10987"
                                },
                                {
                                    "orderid": "10997"
                                },
                                {
                                    "orderid": "10998"
                                },
                                {
                                    "orderid": "11007"
                                },
                                {
                                    "orderid": "11034"
                                },
                                {
                                    "orderid": "11036"
                                },
                                {
                                    "orderid": "11046"
                                },
                                {
                                    "orderid": "11050"
                                },
                                {
                                    "orderid": "11054"
                                },
                                {
                                    "orderid": "11056"
                                },
                                {
                                    "orderid": "11065"
                                },
                                {
                                    "orderid": "11068"
                                },
                                {
                                    "orderid": "11075"
                                }
                            ]
                        },
                        "text/html": [
                            "<table>",
                            "<tr><th>orderid</th></tr>",
                            "<tr><td>10262</td></tr>",
                            "<tr><td>10268</td></tr>",
                            "<tr><td>10276</td></tr>",
                            "<tr><td>10278</td></tr>",
                            "<tr><td>10279</td></tr>",
                            "<tr><td>10286</td></tr>",
                            "<tr><td>10287</td></tr>",
                            "<tr><td>10290</td></tr>",
                            "<tr><td>10301</td></tr>",
                            "<tr><td>10305</td></tr>",
                            "<tr><td>10310</td></tr>",
                            "<tr><td>10318</td></tr>",
                            "<tr><td>10334</td></tr>",
                            "<tr><td>10354</td></tr>",
                            "<tr><td>10366</td></tr>",
                            "<tr><td>10369</td></tr>",
                            "<tr><td>10380</td></tr>",
                            "<tr><td>10383</td></tr>",
                            "<tr><td>10399</td></tr>",
                            "<tr><td>10402</td></tr>",
                            "<tr><td>10408</td></tr>",
                            "<tr><td>10412</td></tr>",
                            "<tr><td>10416</td></tr>",
                            "<tr><td>10421</td></tr>",
                            "<tr><td>10435</td></tr>",
                            "<tr><td>10437</td></tr>",
                            "<tr><td>10443</td></tr>",
                            "<tr><td>10450</td></tr>",
                            "<tr><td>10452</td></tr>",
                            "<tr><td>10455</td></tr>",
                            "<tr><td>10456</td></tr>",
                            "<tr><td>10460</td></tr>",
                            "<tr><td>10467</td></tr>",
                            "<tr><td>10472</td></tr>",
                            "<tr><td>10476</td></tr>",
                            "<tr><td>10481</td></tr>",
                            "<tr><td>10488</td></tr>",
                            "<tr><td>10491</td></tr>",
                            "<tr><td>10498</td></tr>",
                            "<tr><td>10521</td></tr>",
                            "<tr><td>10533</td></tr>",
                            "<tr><td>10534</td></tr>",
                            "<tr><td>10543</td></tr>",
                            "<tr><td>10545</td></tr>",
                            "<tr><td>10560</td></tr>",
                            "<tr><td>10565</td></tr>",
                            "<tr><td>10571</td></tr>",
                            "<tr><td>10589</td></tr>",
                            "<tr><td>10596</td></tr>",
                            "<tr><td>10602</td></tr>",
                            "<tr><td>10603</td></tr>",
                            "<tr><td>10610</td></tr>",
                            "<tr><td>10614</td></tr>",
                            "<tr><td>10623</td></tr>",
                            "<tr><td>10627</td></tr>",
                            "<tr><td>10631</td></tr>",
                            "<tr><td>10632</td></tr>",
                            "<tr><td>10635</td></tr>",
                            "<tr><td>10651</td></tr>",
                            "<tr><td>10660</td></tr>",
                            "<tr><td>10679</td></tr>",
                            "<tr><td>10694</td></tr>",
                            "<tr><td>10696</td></tr>",
                            "<tr><td>10706</td></tr>",
                            "<tr><td>10719</td></tr>",
                            "<tr><td>10720</td></tr>",
                            "<tr><td>10722</td></tr>",
                            "<tr><td>10724</td></tr>",
                            "<tr><td>10729</td></tr>",
                            "<tr><td>10756</td></tr>",
                            "<tr><td>10770</td></tr>",
                            "<tr><td>10786</td></tr>",
                            "<tr><td>10795</td></tr>",
                            "<tr><td>10811</td></tr>",
                            "<tr><td>10824</td></tr>",
                            "<tr><td>10844</td></tr>",
                            "<tr><td>10845</td></tr>",
                            "<tr><td>10852</td></tr>",
                            "<tr><td>10857</td></tr>",
                            "<tr><td>10862</td></tr>",
                            "<tr><td>10883</td></tr>",
                            "<tr><td>10887</td></tr>",
                            "<tr><td>10932</td></tr>",
                            "<tr><td>10940</td></tr>",
                            "<tr><td>10955</td></tr>",
                            "<tr><td>10957</td></tr>",
                            "<tr><td>10961</td></tr>",
                            "<tr><td>10962</td></tr>",
                            "<tr><td>10977</td></tr>",
                            "<tr><td>10979</td></tr>",
                            "<tr><td>10986</td></tr>",
                            "<tr><td>10987</td></tr>",
                            "<tr><td>10997</td></tr>",
                            "<tr><td>10998</td></tr>",
                            "<tr><td>11007</td></tr>",
                            "<tr><td>11034</td></tr>",
                            "<tr><td>11036</td></tr>",
                            "<tr><td>11046</td></tr>",
                            "<tr><td>11050</td></tr>",
                            "<tr><td>11054</td></tr>",
                            "<tr><td>11056</td></tr>",
                            "<tr><td>11065</td></tr>",
                            "<tr><td>11068</td></tr>",
                            "<tr><td>11075</td></tr>",
                            "</table>"
                        ]
                    }
                },
                {
                    "output_type": "execute_result",
                    "metadata": {},
                    "execution_count": 8,
                    "data": {
                        "application/vnd.dataresource+json": {
                            "schema": {
                                "fields": [
                                    {
                                        "name": "orderid"
                                    }
                                ]
                            },
                            "data": []
                        },
                        "text/html": [
                            "<table>",
                            "<tr><th>orderid</th></tr>",
                            "</table>"
                        ]
                    }
                },
                {
                    "output_type": "error",
                    "evalue": "Msg 512, Level 16, State 1, Line 10\r\nSubquery returned more than 1 value. This is not permitted when the subquery follows =, !=, <, <= , >, >= or when the subquery is used as an expression.",
                    "ename": "",
                    "traceback": []
                },
                {
                    "output_type": "execute_result",
                    "metadata": {},
                    "execution_count": 8,
                    "data": {
                        "application/vnd.dataresource+json": {
                            "schema": {
                                "fields": [
                                    {
                                        "name": "orderid"
                                    }
                                ]
                            },
                            "data": []
                        },
                        "text/html": [
                            "<table>",
                            "<tr><th>orderid</th></tr>",
                            "</table>"
                        ]
                    }
                }
            ],
            "execution_count": 8
        },
        {
            "cell_type": "markdown",
            "source": [
                "```\n",
                "---------------------------------------------------------------------\n",
                "-- Multi-Valued Subqueries\n",
                "---------------------------------------------------------------------\n",
                "\n",
                "SELECT orderid\n",
                "FROM Sales.Orders\n",
                "WHERE empid IN\n",
                "  (SELECT E.empid\n",
                "   FROM HR.Employees AS E\n",
                "   WHERE E.lastname LIKE N'D%');\n",
                "\n",
                "SELECT O.orderid\n",
                "FROM HR.Employees AS E\n",
                "  INNER JOIN Sales.Orders AS O\n",
                "    ON E.empid = O.empid\n",
                "WHERE E.lastname LIKE N'D%';\n",
                "```"
            ],
            "metadata": {
                "azdata_cell_guid": "1da98db1-7ad1-4ce4-be69-8ba5a2e510bf"
            },
            "attachments": {}
        },
        {
            "cell_type": "markdown",
            "source": [
                "Retrieve a list of all orders handled by employees whos last name starts with the letter D"
            ],
            "metadata": {
                "azdata_cell_guid": "cba93175-a976-42e3-873e-2a3865778473"
            },
            "attachments": {}
        },
        {
            "cell_type": "code",
            "source": [
                "USE Northwinds2022TSQLV7\r\n",
                "SELECT orderid\r\n",
                "FROM Sales.[Order]\r\n",
                "WHERE EmployeeId IN\r\n",
                "  (SELECT E.EmployeeId\r\n",
                "   FROM HumanResources.Employee AS E\r\n",
                "   WHERE E.EmployeeLastName LIKE N'D%');\r\n",
                "\r\n",
                "SELECT O.orderid\r\n",
                "FROM HumanResources.Employee AS E\r\n",
                "  INNER JOIN Sales.[Order] AS O\r\n",
                "    ON E.EmployeeId = O.EmployeeId\r\n",
                "WHERE E.EmployeeLastName LIKE N'D%';"
            ],
            "metadata": {
                "language": "sql",
                "azdata_cell_guid": "f3937aaa-4ec9-43bb-b8c7-8ea8d2e2d803"
            },
            "outputs": [
                {
                    "output_type": "display_data",
                    "data": {
                        "text/html": "(166 rows affected)"
                    },
                    "metadata": {}
                },
                {
                    "output_type": "display_data",
                    "data": {
                        "text/html": "(166 rows affected)"
                    },
                    "metadata": {}
                },
                {
                    "output_type": "display_data",
                    "data": {
                        "text/html": "Total execution time: 00:00:00.014"
                    },
                    "metadata": {}
                },
                {
                    "output_type": "execute_result",
                    "metadata": {},
                    "execution_count": 9,
                    "data": {
                        "application/vnd.dataresource+json": {
                            "schema": {
                                "fields": [
                                    {
                                        "name": "orderid"
                                    }
                                ]
                            },
                            "data": [
                                {
                                    "orderid": "10255"
                                },
                                {
                                    "orderid": "10258"
                                },
                                {
                                    "orderid": "10263"
                                },
                                {
                                    "orderid": "10270"
                                },
                                {
                                    "orderid": "10275"
                                },
                                {
                                    "orderid": "10285"
                                },
                                {
                                    "orderid": "10292"
                                },
                                {
                                    "orderid": "10293"
                                },
                                {
                                    "orderid": "10304"
                                },
                                {
                                    "orderid": "10306"
                                },
                                {
                                    "orderid": "10311"
                                },
                                {
                                    "orderid": "10314"
                                },
                                {
                                    "orderid": "10316"
                                },
                                {
                                    "orderid": "10324"
                                },
                                {
                                    "orderid": "10325"
                                },
                                {
                                    "orderid": "10331"
                                },
                                {
                                    "orderid": "10340"
                                },
                                {
                                    "orderid": "10351"
                                },
                                {
                                    "orderid": "10357"
                                },
                                {
                                    "orderid": "10361"
                                },
                                {
                                    "orderid": "10364"
                                },
                                {
                                    "orderid": "10371"
                                },
                                {
                                    "orderid": "10374"
                                },
                                {
                                    "orderid": "10376"
                                },
                                {
                                    "orderid": "10377"
                                },
                                {
                                    "orderid": "10385"
                                },
                                {
                                    "orderid": "10386"
                                },
                                {
                                    "orderid": "10387"
                                },
                                {
                                    "orderid": "10393"
                                },
                                {
                                    "orderid": "10394"
                                },
                                {
                                    "orderid": "10396"
                                },
                                {
                                    "orderid": "10400"
                                },
                                {
                                    "orderid": "10401"
                                },
                                {
                                    "orderid": "10405"
                                },
                                {
                                    "orderid": "10411"
                                },
                                {
                                    "orderid": "10453"
                                },
                                {
                                    "orderid": "10461"
                                },
                                {
                                    "orderid": "10465"
                                },
                                {
                                    "orderid": "10469"
                                },
                                {
                                    "orderid": "10473"
                                },
                                {
                                    "orderid": "10475"
                                },
                                {
                                    "orderid": "10482"
                                },
                                {
                                    "orderid": "10486"
                                },
                                {
                                    "orderid": "10501"
                                },
                                {
                                    "orderid": "10506"
                                },
                                {
                                    "orderid": "10508"
                                },
                                {
                                    "orderid": "10524"
                                },
                                {
                                    "orderid": "10525"
                                },
                                {
                                    "orderid": "10537"
                                },
                                {
                                    "orderid": "10538"
                                },
                                {
                                    "orderid": "10542"
                                },
                                {
                                    "orderid": "10546"
                                },
                                {
                                    "orderid": "10557"
                                },
                                {
                                    "orderid": "10558"
                                },
                                {
                                    "orderid": "10562"
                                },
                                {
                                    "orderid": "10566"
                                },
                                {
                                    "orderid": "10567"
                                },
                                {
                                    "orderid": "10577"
                                },
                                {
                                    "orderid": "10579"
                                },
                                {
                                    "orderid": "10586"
                                },
                                {
                                    "orderid": "10587"
                                },
                                {
                                    "orderid": "10591"
                                },
                                {
                                    "orderid": "10598"
                                },
                                {
                                    "orderid": "10604"
                                },
                                {
                                    "orderid": "10605"
                                },
                                {
                                    "orderid": "10612"
                                },
                                {
                                    "orderid": "10616"
                                },
                                {
                                    "orderid": "10618"
                                },
                                {
                                    "orderid": "10626"
                                },
                                {
                                    "orderid": "10630"
                                },
                                {
                                    "orderid": "10646"
                                },
                                {
                                    "orderid": "10653"
                                },
                                {
                                    "orderid": "10655"
                                },
                                {
                                    "orderid": "10664"
                                },
                                {
                                    "orderid": "10665"
                                },
                                {
                                    "orderid": "10668"
                                },
                                {
                                    "orderid": "10671"
                                },
                                {
                                    "orderid": "10672"
                                },
                                {
                                    "orderid": "10677"
                                },
                                {
                                    "orderid": "10680"
                                },
                                {
                                    "orderid": "10687"
                                },
                                {
                                    "orderid": "10689"
                                },
                                {
                                    "orderid": "10690"
                                },
                                {
                                    "orderid": "10705"
                                },
                                {
                                    "orderid": "10709"
                                },
                                {
                                    "orderid": "10710"
                                },
                                {
                                    "orderid": "10713"
                                },
                                {
                                    "orderid": "10717"
                                },
                                {
                                    "orderid": "10718"
                                },
                                {
                                    "orderid": "10733"
                                },
                                {
                                    "orderid": "10736"
                                },
                                {
                                    "orderid": "10743"
                                },
                                {
                                    "orderid": "10745"
                                },
                                {
                                    "orderid": "10746"
                                },
                                {
                                    "orderid": "10750"
                                },
                                {
                                    "orderid": "10771"
                                },
                                {
                                    "orderid": "10773"
                                },
                                {
                                    "orderid": "10776"
                                },
                                {
                                    "orderid": "10782"
                                },
                                {
                                    "orderid": "10785"
                                },
                                {
                                    "orderid": "10788"
                                },
                                {
                                    "orderid": "10789"
                                },
                                {
                                    "orderid": "10792"
                                },
                                {
                                    "orderid": "10799"
                                },
                                {
                                    "orderid": "10800"
                                },
                                {
                                    "orderid": "10813"
                                },
                                {
                                    "orderid": "10821"
                                },
                                {
                                    "orderid": "10825"
                                },
                                {
                                    "orderid": "10827"
                                },
                                {
                                    "orderid": "10828"
                                },
                                {
                                    "orderid": "10829"
                                },
                                {
                                    "orderid": "10834"
                                },
                                {
                                    "orderid": "10835"
                                },
                                {
                                    "orderid": "10837"
                                },
                                {
                                    "orderid": "10842"
                                },
                                {
                                    "orderid": "10849"
                                },
                                {
                                    "orderid": "10850"
                                },
                                {
                                    "orderid": "10853"
                                },
                                {
                                    "orderid": "10859"
                                },
                                {
                                    "orderid": "10871"
                                },
                                {
                                    "orderid": "10877"
                                },
                                {
                                    "orderid": "10886"
                                },
                                {
                                    "orderid": "10888"
                                },
                                {
                                    "orderid": "10889"
                                },
                                {
                                    "orderid": "10893"
                                },
                                {
                                    "orderid": "10894"
                                },
                                {
                                    "orderid": "10900"
                                },
                                {
                                    "orderid": "10902"
                                },
                                {
                                    "orderid": "10905"
                                },
                                {
                                    "orderid": "10909"
                                },
                                {
                                    "orderid": "10910"
                                },
                                {
                                    "orderid": "10916"
                                },
                                {
                                    "orderid": "10921"
                                },
                                {
                                    "orderid": "10928"
                                },
                                {
                                    "orderid": "10942"
                                },
                                {
                                    "orderid": "10946"
                                },
                                {
                                    "orderid": "10950"
                                },
                                {
                                    "orderid": "10951"
                                },
                                {
                                    "orderid": "10952"
                                },
                                {
                                    "orderid": "10953"
                                },
                                {
                                    "orderid": "10963"
                                },
                                {
                                    "orderid": "10968"
                                },
                                {
                                    "orderid": "10969"
                                },
                                {
                                    "orderid": "10970"
                                },
                                {
                                    "orderid": "10975"
                                },
                                {
                                    "orderid": "10976"
                                },
                                {
                                    "orderid": "10978"
                                },
                                {
                                    "orderid": "10981"
                                },
                                {
                                    "orderid": "10984"
                                },
                                {
                                    "orderid": "10991"
                                },
                                {
                                    "orderid": "10992"
                                },
                                {
                                    "orderid": "10995"
                                },
                                {
                                    "orderid": "11012"
                                },
                                {
                                    "orderid": "11016"
                                },
                                {
                                    "orderid": "11017"
                                },
                                {
                                    "orderid": "11022"
                                },
                                {
                                    "orderid": "11023"
                                },
                                {
                                    "orderid": "11027"
                                },
                                {
                                    "orderid": "11038"
                                },
                                {
                                    "orderid": "11039"
                                },
                                {
                                    "orderid": "11058"
                                },
                                {
                                    "orderid": "11064"
                                },
                                {
                                    "orderid": "11067"
                                },
                                {
                                    "orderid": "11069"
                                },
                                {
                                    "orderid": "11071"
                                },
                                {
                                    "orderid": "11077"
                                }
                            ]
                        },
                        "text/html": [
                            "<table>",
                            "<tr><th>orderid</th></tr>",
                            "<tr><td>10255</td></tr>",
                            "<tr><td>10258</td></tr>",
                            "<tr><td>10263</td></tr>",
                            "<tr><td>10270</td></tr>",
                            "<tr><td>10275</td></tr>",
                            "<tr><td>10285</td></tr>",
                            "<tr><td>10292</td></tr>",
                            "<tr><td>10293</td></tr>",
                            "<tr><td>10304</td></tr>",
                            "<tr><td>10306</td></tr>",
                            "<tr><td>10311</td></tr>",
                            "<tr><td>10314</td></tr>",
                            "<tr><td>10316</td></tr>",
                            "<tr><td>10324</td></tr>",
                            "<tr><td>10325</td></tr>",
                            "<tr><td>10331</td></tr>",
                            "<tr><td>10340</td></tr>",
                            "<tr><td>10351</td></tr>",
                            "<tr><td>10357</td></tr>",
                            "<tr><td>10361</td></tr>",
                            "<tr><td>10364</td></tr>",
                            "<tr><td>10371</td></tr>",
                            "<tr><td>10374</td></tr>",
                            "<tr><td>10376</td></tr>",
                            "<tr><td>10377</td></tr>",
                            "<tr><td>10385</td></tr>",
                            "<tr><td>10386</td></tr>",
                            "<tr><td>10387</td></tr>",
                            "<tr><td>10393</td></tr>",
                            "<tr><td>10394</td></tr>",
                            "<tr><td>10396</td></tr>",
                            "<tr><td>10400</td></tr>",
                            "<tr><td>10401</td></tr>",
                            "<tr><td>10405</td></tr>",
                            "<tr><td>10411</td></tr>",
                            "<tr><td>10453</td></tr>",
                            "<tr><td>10461</td></tr>",
                            "<tr><td>10465</td></tr>",
                            "<tr><td>10469</td></tr>",
                            "<tr><td>10473</td></tr>",
                            "<tr><td>10475</td></tr>",
                            "<tr><td>10482</td></tr>",
                            "<tr><td>10486</td></tr>",
                            "<tr><td>10501</td></tr>",
                            "<tr><td>10506</td></tr>",
                            "<tr><td>10508</td></tr>",
                            "<tr><td>10524</td></tr>",
                            "<tr><td>10525</td></tr>",
                            "<tr><td>10537</td></tr>",
                            "<tr><td>10538</td></tr>",
                            "<tr><td>10542</td></tr>",
                            "<tr><td>10546</td></tr>",
                            "<tr><td>10557</td></tr>",
                            "<tr><td>10558</td></tr>",
                            "<tr><td>10562</td></tr>",
                            "<tr><td>10566</td></tr>",
                            "<tr><td>10567</td></tr>",
                            "<tr><td>10577</td></tr>",
                            "<tr><td>10579</td></tr>",
                            "<tr><td>10586</td></tr>",
                            "<tr><td>10587</td></tr>",
                            "<tr><td>10591</td></tr>",
                            "<tr><td>10598</td></tr>",
                            "<tr><td>10604</td></tr>",
                            "<tr><td>10605</td></tr>",
                            "<tr><td>10612</td></tr>",
                            "<tr><td>10616</td></tr>",
                            "<tr><td>10618</td></tr>",
                            "<tr><td>10626</td></tr>",
                            "<tr><td>10630</td></tr>",
                            "<tr><td>10646</td></tr>",
                            "<tr><td>10653</td></tr>",
                            "<tr><td>10655</td></tr>",
                            "<tr><td>10664</td></tr>",
                            "<tr><td>10665</td></tr>",
                            "<tr><td>10668</td></tr>",
                            "<tr><td>10671</td></tr>",
                            "<tr><td>10672</td></tr>",
                            "<tr><td>10677</td></tr>",
                            "<tr><td>10680</td></tr>",
                            "<tr><td>10687</td></tr>",
                            "<tr><td>10689</td></tr>",
                            "<tr><td>10690</td></tr>",
                            "<tr><td>10705</td></tr>",
                            "<tr><td>10709</td></tr>",
                            "<tr><td>10710</td></tr>",
                            "<tr><td>10713</td></tr>",
                            "<tr><td>10717</td></tr>",
                            "<tr><td>10718</td></tr>",
                            "<tr><td>10733</td></tr>",
                            "<tr><td>10736</td></tr>",
                            "<tr><td>10743</td></tr>",
                            "<tr><td>10745</td></tr>",
                            "<tr><td>10746</td></tr>",
                            "<tr><td>10750</td></tr>",
                            "<tr><td>10771</td></tr>",
                            "<tr><td>10773</td></tr>",
                            "<tr><td>10776</td></tr>",
                            "<tr><td>10782</td></tr>",
                            "<tr><td>10785</td></tr>",
                            "<tr><td>10788</td></tr>",
                            "<tr><td>10789</td></tr>",
                            "<tr><td>10792</td></tr>",
                            "<tr><td>10799</td></tr>",
                            "<tr><td>10800</td></tr>",
                            "<tr><td>10813</td></tr>",
                            "<tr><td>10821</td></tr>",
                            "<tr><td>10825</td></tr>",
                            "<tr><td>10827</td></tr>",
                            "<tr><td>10828</td></tr>",
                            "<tr><td>10829</td></tr>",
                            "<tr><td>10834</td></tr>",
                            "<tr><td>10835</td></tr>",
                            "<tr><td>10837</td></tr>",
                            "<tr><td>10842</td></tr>",
                            "<tr><td>10849</td></tr>",
                            "<tr><td>10850</td></tr>",
                            "<tr><td>10853</td></tr>",
                            "<tr><td>10859</td></tr>",
                            "<tr><td>10871</td></tr>",
                            "<tr><td>10877</td></tr>",
                            "<tr><td>10886</td></tr>",
                            "<tr><td>10888</td></tr>",
                            "<tr><td>10889</td></tr>",
                            "<tr><td>10893</td></tr>",
                            "<tr><td>10894</td></tr>",
                            "<tr><td>10900</td></tr>",
                            "<tr><td>10902</td></tr>",
                            "<tr><td>10905</td></tr>",
                            "<tr><td>10909</td></tr>",
                            "<tr><td>10910</td></tr>",
                            "<tr><td>10916</td></tr>",
                            "<tr><td>10921</td></tr>",
                            "<tr><td>10928</td></tr>",
                            "<tr><td>10942</td></tr>",
                            "<tr><td>10946</td></tr>",
                            "<tr><td>10950</td></tr>",
                            "<tr><td>10951</td></tr>",
                            "<tr><td>10952</td></tr>",
                            "<tr><td>10953</td></tr>",
                            "<tr><td>10963</td></tr>",
                            "<tr><td>10968</td></tr>",
                            "<tr><td>10969</td></tr>",
                            "<tr><td>10970</td></tr>",
                            "<tr><td>10975</td></tr>",
                            "<tr><td>10976</td></tr>",
                            "<tr><td>10978</td></tr>",
                            "<tr><td>10981</td></tr>",
                            "<tr><td>10984</td></tr>",
                            "<tr><td>10991</td></tr>",
                            "<tr><td>10992</td></tr>",
                            "<tr><td>10995</td></tr>",
                            "<tr><td>11012</td></tr>",
                            "<tr><td>11016</td></tr>",
                            "<tr><td>11017</td></tr>",
                            "<tr><td>11022</td></tr>",
                            "<tr><td>11023</td></tr>",
                            "<tr><td>11027</td></tr>",
                            "<tr><td>11038</td></tr>",
                            "<tr><td>11039</td></tr>",
                            "<tr><td>11058</td></tr>",
                            "<tr><td>11064</td></tr>",
                            "<tr><td>11067</td></tr>",
                            "<tr><td>11069</td></tr>",
                            "<tr><td>11071</td></tr>",
                            "<tr><td>11077</td></tr>",
                            "</table>"
                        ]
                    }
                },
                {
                    "output_type": "execute_result",
                    "metadata": {},
                    "execution_count": 9,
                    "data": {
                        "application/vnd.dataresource+json": {
                            "schema": {
                                "fields": [
                                    {
                                        "name": "orderid"
                                    }
                                ]
                            },
                            "data": [
                                {
                                    "orderid": "10255"
                                },
                                {
                                    "orderid": "10258"
                                },
                                {
                                    "orderid": "10263"
                                },
                                {
                                    "orderid": "10270"
                                },
                                {
                                    "orderid": "10275"
                                },
                                {
                                    "orderid": "10285"
                                },
                                {
                                    "orderid": "10292"
                                },
                                {
                                    "orderid": "10293"
                                },
                                {
                                    "orderid": "10304"
                                },
                                {
                                    "orderid": "10306"
                                },
                                {
                                    "orderid": "10311"
                                },
                                {
                                    "orderid": "10314"
                                },
                                {
                                    "orderid": "10316"
                                },
                                {
                                    "orderid": "10324"
                                },
                                {
                                    "orderid": "10325"
                                },
                                {
                                    "orderid": "10331"
                                },
                                {
                                    "orderid": "10340"
                                },
                                {
                                    "orderid": "10351"
                                },
                                {
                                    "orderid": "10357"
                                },
                                {
                                    "orderid": "10361"
                                },
                                {
                                    "orderid": "10364"
                                },
                                {
                                    "orderid": "10371"
                                },
                                {
                                    "orderid": "10374"
                                },
                                {
                                    "orderid": "10376"
                                },
                                {
                                    "orderid": "10377"
                                },
                                {
                                    "orderid": "10385"
                                },
                                {
                                    "orderid": "10386"
                                },
                                {
                                    "orderid": "10387"
                                },
                                {
                                    "orderid": "10393"
                                },
                                {
                                    "orderid": "10394"
                                },
                                {
                                    "orderid": "10396"
                                },
                                {
                                    "orderid": "10400"
                                },
                                {
                                    "orderid": "10401"
                                },
                                {
                                    "orderid": "10405"
                                },
                                {
                                    "orderid": "10411"
                                },
                                {
                                    "orderid": "10453"
                                },
                                {
                                    "orderid": "10461"
                                },
                                {
                                    "orderid": "10465"
                                },
                                {
                                    "orderid": "10469"
                                },
                                {
                                    "orderid": "10473"
                                },
                                {
                                    "orderid": "10475"
                                },
                                {
                                    "orderid": "10482"
                                },
                                {
                                    "orderid": "10486"
                                },
                                {
                                    "orderid": "10501"
                                },
                                {
                                    "orderid": "10506"
                                },
                                {
                                    "orderid": "10508"
                                },
                                {
                                    "orderid": "10524"
                                },
                                {
                                    "orderid": "10525"
                                },
                                {
                                    "orderid": "10537"
                                },
                                {
                                    "orderid": "10538"
                                },
                                {
                                    "orderid": "10542"
                                },
                                {
                                    "orderid": "10546"
                                },
                                {
                                    "orderid": "10557"
                                },
                                {
                                    "orderid": "10558"
                                },
                                {
                                    "orderid": "10562"
                                },
                                {
                                    "orderid": "10566"
                                },
                                {
                                    "orderid": "10567"
                                },
                                {
                                    "orderid": "10577"
                                },
                                {
                                    "orderid": "10579"
                                },
                                {
                                    "orderid": "10586"
                                },
                                {
                                    "orderid": "10587"
                                },
                                {
                                    "orderid": "10591"
                                },
                                {
                                    "orderid": "10598"
                                },
                                {
                                    "orderid": "10604"
                                },
                                {
                                    "orderid": "10605"
                                },
                                {
                                    "orderid": "10612"
                                },
                                {
                                    "orderid": "10616"
                                },
                                {
                                    "orderid": "10618"
                                },
                                {
                                    "orderid": "10626"
                                },
                                {
                                    "orderid": "10630"
                                },
                                {
                                    "orderid": "10646"
                                },
                                {
                                    "orderid": "10653"
                                },
                                {
                                    "orderid": "10655"
                                },
                                {
                                    "orderid": "10664"
                                },
                                {
                                    "orderid": "10665"
                                },
                                {
                                    "orderid": "10668"
                                },
                                {
                                    "orderid": "10671"
                                },
                                {
                                    "orderid": "10672"
                                },
                                {
                                    "orderid": "10677"
                                },
                                {
                                    "orderid": "10680"
                                },
                                {
                                    "orderid": "10687"
                                },
                                {
                                    "orderid": "10689"
                                },
                                {
                                    "orderid": "10690"
                                },
                                {
                                    "orderid": "10705"
                                },
                                {
                                    "orderid": "10709"
                                },
                                {
                                    "orderid": "10710"
                                },
                                {
                                    "orderid": "10713"
                                },
                                {
                                    "orderid": "10717"
                                },
                                {
                                    "orderid": "10718"
                                },
                                {
                                    "orderid": "10733"
                                },
                                {
                                    "orderid": "10736"
                                },
                                {
                                    "orderid": "10743"
                                },
                                {
                                    "orderid": "10745"
                                },
                                {
                                    "orderid": "10746"
                                },
                                {
                                    "orderid": "10750"
                                },
                                {
                                    "orderid": "10771"
                                },
                                {
                                    "orderid": "10773"
                                },
                                {
                                    "orderid": "10776"
                                },
                                {
                                    "orderid": "10782"
                                },
                                {
                                    "orderid": "10785"
                                },
                                {
                                    "orderid": "10788"
                                },
                                {
                                    "orderid": "10789"
                                },
                                {
                                    "orderid": "10792"
                                },
                                {
                                    "orderid": "10799"
                                },
                                {
                                    "orderid": "10800"
                                },
                                {
                                    "orderid": "10813"
                                },
                                {
                                    "orderid": "10821"
                                },
                                {
                                    "orderid": "10825"
                                },
                                {
                                    "orderid": "10827"
                                },
                                {
                                    "orderid": "10828"
                                },
                                {
                                    "orderid": "10829"
                                },
                                {
                                    "orderid": "10834"
                                },
                                {
                                    "orderid": "10835"
                                },
                                {
                                    "orderid": "10837"
                                },
                                {
                                    "orderid": "10842"
                                },
                                {
                                    "orderid": "10849"
                                },
                                {
                                    "orderid": "10850"
                                },
                                {
                                    "orderid": "10853"
                                },
                                {
                                    "orderid": "10859"
                                },
                                {
                                    "orderid": "10871"
                                },
                                {
                                    "orderid": "10877"
                                },
                                {
                                    "orderid": "10886"
                                },
                                {
                                    "orderid": "10888"
                                },
                                {
                                    "orderid": "10889"
                                },
                                {
                                    "orderid": "10893"
                                },
                                {
                                    "orderid": "10894"
                                },
                                {
                                    "orderid": "10900"
                                },
                                {
                                    "orderid": "10902"
                                },
                                {
                                    "orderid": "10905"
                                },
                                {
                                    "orderid": "10909"
                                },
                                {
                                    "orderid": "10910"
                                },
                                {
                                    "orderid": "10916"
                                },
                                {
                                    "orderid": "10921"
                                },
                                {
                                    "orderid": "10928"
                                },
                                {
                                    "orderid": "10942"
                                },
                                {
                                    "orderid": "10946"
                                },
                                {
                                    "orderid": "10950"
                                },
                                {
                                    "orderid": "10951"
                                },
                                {
                                    "orderid": "10952"
                                },
                                {
                                    "orderid": "10953"
                                },
                                {
                                    "orderid": "10963"
                                },
                                {
                                    "orderid": "10968"
                                },
                                {
                                    "orderid": "10969"
                                },
                                {
                                    "orderid": "10970"
                                },
                                {
                                    "orderid": "10975"
                                },
                                {
                                    "orderid": "10976"
                                },
                                {
                                    "orderid": "10978"
                                },
                                {
                                    "orderid": "10981"
                                },
                                {
                                    "orderid": "10984"
                                },
                                {
                                    "orderid": "10991"
                                },
                                {
                                    "orderid": "10992"
                                },
                                {
                                    "orderid": "10995"
                                },
                                {
                                    "orderid": "11012"
                                },
                                {
                                    "orderid": "11016"
                                },
                                {
                                    "orderid": "11017"
                                },
                                {
                                    "orderid": "11022"
                                },
                                {
                                    "orderid": "11023"
                                },
                                {
                                    "orderid": "11027"
                                },
                                {
                                    "orderid": "11038"
                                },
                                {
                                    "orderid": "11039"
                                },
                                {
                                    "orderid": "11058"
                                },
                                {
                                    "orderid": "11064"
                                },
                                {
                                    "orderid": "11067"
                                },
                                {
                                    "orderid": "11069"
                                },
                                {
                                    "orderid": "11071"
                                },
                                {
                                    "orderid": "11077"
                                }
                            ]
                        },
                        "text/html": [
                            "<table>",
                            "<tr><th>orderid</th></tr>",
                            "<tr><td>10255</td></tr>",
                            "<tr><td>10258</td></tr>",
                            "<tr><td>10263</td></tr>",
                            "<tr><td>10270</td></tr>",
                            "<tr><td>10275</td></tr>",
                            "<tr><td>10285</td></tr>",
                            "<tr><td>10292</td></tr>",
                            "<tr><td>10293</td></tr>",
                            "<tr><td>10304</td></tr>",
                            "<tr><td>10306</td></tr>",
                            "<tr><td>10311</td></tr>",
                            "<tr><td>10314</td></tr>",
                            "<tr><td>10316</td></tr>",
                            "<tr><td>10324</td></tr>",
                            "<tr><td>10325</td></tr>",
                            "<tr><td>10331</td></tr>",
                            "<tr><td>10340</td></tr>",
                            "<tr><td>10351</td></tr>",
                            "<tr><td>10357</td></tr>",
                            "<tr><td>10361</td></tr>",
                            "<tr><td>10364</td></tr>",
                            "<tr><td>10371</td></tr>",
                            "<tr><td>10374</td></tr>",
                            "<tr><td>10376</td></tr>",
                            "<tr><td>10377</td></tr>",
                            "<tr><td>10385</td></tr>",
                            "<tr><td>10386</td></tr>",
                            "<tr><td>10387</td></tr>",
                            "<tr><td>10393</td></tr>",
                            "<tr><td>10394</td></tr>",
                            "<tr><td>10396</td></tr>",
                            "<tr><td>10400</td></tr>",
                            "<tr><td>10401</td></tr>",
                            "<tr><td>10405</td></tr>",
                            "<tr><td>10411</td></tr>",
                            "<tr><td>10453</td></tr>",
                            "<tr><td>10461</td></tr>",
                            "<tr><td>10465</td></tr>",
                            "<tr><td>10469</td></tr>",
                            "<tr><td>10473</td></tr>",
                            "<tr><td>10475</td></tr>",
                            "<tr><td>10482</td></tr>",
                            "<tr><td>10486</td></tr>",
                            "<tr><td>10501</td></tr>",
                            "<tr><td>10506</td></tr>",
                            "<tr><td>10508</td></tr>",
                            "<tr><td>10524</td></tr>",
                            "<tr><td>10525</td></tr>",
                            "<tr><td>10537</td></tr>",
                            "<tr><td>10538</td></tr>",
                            "<tr><td>10542</td></tr>",
                            "<tr><td>10546</td></tr>",
                            "<tr><td>10557</td></tr>",
                            "<tr><td>10558</td></tr>",
                            "<tr><td>10562</td></tr>",
                            "<tr><td>10566</td></tr>",
                            "<tr><td>10567</td></tr>",
                            "<tr><td>10577</td></tr>",
                            "<tr><td>10579</td></tr>",
                            "<tr><td>10586</td></tr>",
                            "<tr><td>10587</td></tr>",
                            "<tr><td>10591</td></tr>",
                            "<tr><td>10598</td></tr>",
                            "<tr><td>10604</td></tr>",
                            "<tr><td>10605</td></tr>",
                            "<tr><td>10612</td></tr>",
                            "<tr><td>10616</td></tr>",
                            "<tr><td>10618</td></tr>",
                            "<tr><td>10626</td></tr>",
                            "<tr><td>10630</td></tr>",
                            "<tr><td>10646</td></tr>",
                            "<tr><td>10653</td></tr>",
                            "<tr><td>10655</td></tr>",
                            "<tr><td>10664</td></tr>",
                            "<tr><td>10665</td></tr>",
                            "<tr><td>10668</td></tr>",
                            "<tr><td>10671</td></tr>",
                            "<tr><td>10672</td></tr>",
                            "<tr><td>10677</td></tr>",
                            "<tr><td>10680</td></tr>",
                            "<tr><td>10687</td></tr>",
                            "<tr><td>10689</td></tr>",
                            "<tr><td>10690</td></tr>",
                            "<tr><td>10705</td></tr>",
                            "<tr><td>10709</td></tr>",
                            "<tr><td>10710</td></tr>",
                            "<tr><td>10713</td></tr>",
                            "<tr><td>10717</td></tr>",
                            "<tr><td>10718</td></tr>",
                            "<tr><td>10733</td></tr>",
                            "<tr><td>10736</td></tr>",
                            "<tr><td>10743</td></tr>",
                            "<tr><td>10745</td></tr>",
                            "<tr><td>10746</td></tr>",
                            "<tr><td>10750</td></tr>",
                            "<tr><td>10771</td></tr>",
                            "<tr><td>10773</td></tr>",
                            "<tr><td>10776</td></tr>",
                            "<tr><td>10782</td></tr>",
                            "<tr><td>10785</td></tr>",
                            "<tr><td>10788</td></tr>",
                            "<tr><td>10789</td></tr>",
                            "<tr><td>10792</td></tr>",
                            "<tr><td>10799</td></tr>",
                            "<tr><td>10800</td></tr>",
                            "<tr><td>10813</td></tr>",
                            "<tr><td>10821</td></tr>",
                            "<tr><td>10825</td></tr>",
                            "<tr><td>10827</td></tr>",
                            "<tr><td>10828</td></tr>",
                            "<tr><td>10829</td></tr>",
                            "<tr><td>10834</td></tr>",
                            "<tr><td>10835</td></tr>",
                            "<tr><td>10837</td></tr>",
                            "<tr><td>10842</td></tr>",
                            "<tr><td>10849</td></tr>",
                            "<tr><td>10850</td></tr>",
                            "<tr><td>10853</td></tr>",
                            "<tr><td>10859</td></tr>",
                            "<tr><td>10871</td></tr>",
                            "<tr><td>10877</td></tr>",
                            "<tr><td>10886</td></tr>",
                            "<tr><td>10888</td></tr>",
                            "<tr><td>10889</td></tr>",
                            "<tr><td>10893</td></tr>",
                            "<tr><td>10894</td></tr>",
                            "<tr><td>10900</td></tr>",
                            "<tr><td>10902</td></tr>",
                            "<tr><td>10905</td></tr>",
                            "<tr><td>10909</td></tr>",
                            "<tr><td>10910</td></tr>",
                            "<tr><td>10916</td></tr>",
                            "<tr><td>10921</td></tr>",
                            "<tr><td>10928</td></tr>",
                            "<tr><td>10942</td></tr>",
                            "<tr><td>10946</td></tr>",
                            "<tr><td>10950</td></tr>",
                            "<tr><td>10951</td></tr>",
                            "<tr><td>10952</td></tr>",
                            "<tr><td>10953</td></tr>",
                            "<tr><td>10963</td></tr>",
                            "<tr><td>10968</td></tr>",
                            "<tr><td>10969</td></tr>",
                            "<tr><td>10970</td></tr>",
                            "<tr><td>10975</td></tr>",
                            "<tr><td>10976</td></tr>",
                            "<tr><td>10978</td></tr>",
                            "<tr><td>10981</td></tr>",
                            "<tr><td>10984</td></tr>",
                            "<tr><td>10991</td></tr>",
                            "<tr><td>10992</td></tr>",
                            "<tr><td>10995</td></tr>",
                            "<tr><td>11012</td></tr>",
                            "<tr><td>11016</td></tr>",
                            "<tr><td>11017</td></tr>",
                            "<tr><td>11022</td></tr>",
                            "<tr><td>11023</td></tr>",
                            "<tr><td>11027</td></tr>",
                            "<tr><td>11038</td></tr>",
                            "<tr><td>11039</td></tr>",
                            "<tr><td>11058</td></tr>",
                            "<tr><td>11064</td></tr>",
                            "<tr><td>11067</td></tr>",
                            "<tr><td>11069</td></tr>",
                            "<tr><td>11071</td></tr>",
                            "<tr><td>11077</td></tr>",
                            "</table>"
                        ]
                    }
                }
            ],
            "execution_count": 9
        },
        {
            "cell_type": "markdown",
            "source": [
                "CHAPTER 5"
            ],
            "metadata": {
                "azdata_cell_guid": "5db34ccc-65cc-4885-bb63-21c7026d2783"
            },
            "attachments": {}
        },
        {
            "cell_type": "markdown",
            "source": [
                "```\n",
                "---------------------------------------------------------------------\n",
                "-- Derived Tables\n",
                "---------------------------------------------------------------------\n",
                "\n",
                "USE TSQLV4;\n",
                "\n",
                "SELECT *\n",
                "FROM (SELECT custid, companyname\n",
                "      FROM Sales.Customers\n",
                "      WHERE country = N'USA') AS USACusts;\n",
                "\n",
                "---------------------------------------------------------------------\n",
                "-- Assigning Column Aliases\n",
                "---------------------------------------------------------------------\n",
                "\n",
                "-- Following fails\n",
                "/*\n",
                "SELECT\n",
                "  YEAR(orderdate) AS orderyear,\n",
                "  COUNT(DISTINCT custid) AS numcusts\n",
                "FROM Sales.Orders\n",
                "GROUP BY orderyear;\n",
                "*/\n",
                "GO\n",
                "\n",
                "-- Listing 5-1 Query with a Derived Table using Inline Aliasing Form\n",
                "SELECT orderyear, COUNT(DISTINCT custid) AS numcusts\n",
                "FROM (SELECT YEAR(orderdate) AS orderyear, custid\n",
                "      FROM Sales.Orders) AS D\n",
                "GROUP BY orderyear;\n",
                "\n",
                "SELECT YEAR(orderdate) AS orderyear, COUNT(DISTINCT custid) AS numcusts\n",
                "FROM Sales.Orders\n",
                "GROUP BY YEAR(orderdate);\n",
                "\n",
                "-- External column aliasing\n",
                "SELECT orderyear, COUNT(DISTINCT custid) AS numcusts\n",
                "FROM (SELECT YEAR(orderdate), custid\n",
                "      FROM Sales.Orders) AS D(orderyear, custid)\n",
                "GROUP BY orderyear;\n",
                "GO\n",
                "\n",
                "```\n",
                "\n",
                "<span class=\"k\" style=\"color: rgb(0, 128, 0); font-weight: bold;\"><br></span>"
            ],
            "metadata": {
                "azdata_cell_guid": "7fc680c7-fff8-4aba-b6b4-e3ec3db21f74"
            },
            "attachments": {}
        },
        {
            "cell_type": "markdown",
            "source": [
                "Retrieve a list that shows how many distinct customers placed orders in each year"
            ],
            "metadata": {
                "azdata_cell_guid": "65db9bac-a825-43bb-a6ef-cff827061942"
            },
            "attachments": {}
        },
        {
            "cell_type": "code",
            "source": [
                "--QUERY 1\r\n",
                "USE Northwinds2022TSQLV7; \r\n",
                "SELECT orderyear, COUNT(DISTINCT CustomerID) AS numcusts\r\n",
                "FROM (SELECT YEAR(orderdate) AS orderyear, CustomerId\r\n",
                "      FROM Sales.[Order]) AS D\r\n",
                "GROUP BY orderyear;\r\n",
                "\r\n",
                "--QUERY 2\r\n",
                "USE Northwinds2022TSQLV7; \r\n",
                "SELECT YEAR(orderdate) AS orderyear, COUNT(DISTINCT CustomerId) AS numcusts\r\n",
                "FROM Sales.[Order]\r\n",
                "GROUP BY YEAR(orderdate);\r\n",
                "\r\n",
                "--Query 3 \r\n",
                "SELECT orderyear, COUNT(DISTINCT custid) AS numcusts\r\n",
                "FROM (SELECT YEAR(orderdate), CustomerId\r\n",
                "      FROM Sales.[Order]) AS D(orderyear, custid)\r\n",
                "GROUP BY orderyear;"
            ],
            "metadata": {
                "azdata_cell_guid": "d633099a-b947-4579-b1d5-0908eb57c0ba",
                "language": "sql"
            },
            "outputs": [
                {
                    "output_type": "display_data",
                    "data": {
                        "text/html": "(3 rows affected)"
                    },
                    "metadata": {}
                },
                {
                    "output_type": "display_data",
                    "data": {
                        "text/html": "(3 rows affected)"
                    },
                    "metadata": {}
                },
                {
                    "output_type": "display_data",
                    "data": {
                        "text/html": "(3 rows affected)"
                    },
                    "metadata": {}
                },
                {
                    "output_type": "display_data",
                    "data": {
                        "text/html": "Total execution time: 00:00:00.016"
                    },
                    "metadata": {}
                },
                {
                    "output_type": "execute_result",
                    "metadata": {},
                    "execution_count": 10,
                    "data": {
                        "application/vnd.dataresource+json": {
                            "schema": {
                                "fields": [
                                    {
                                        "name": "orderyear"
                                    },
                                    {
                                        "name": "numcusts"
                                    }
                                ]
                            },
                            "data": [
                                {
                                    "orderyear": "2014",
                                    "numcusts": "67"
                                },
                                {
                                    "orderyear": "2015",
                                    "numcusts": "86"
                                },
                                {
                                    "orderyear": "2016",
                                    "numcusts": "81"
                                }
                            ]
                        },
                        "text/html": [
                            "<table>",
                            "<tr><th>orderyear</th><th>numcusts</th></tr>",
                            "<tr><td>2014</td><td>67</td></tr>",
                            "<tr><td>2015</td><td>86</td></tr>",
                            "<tr><td>2016</td><td>81</td></tr>",
                            "</table>"
                        ]
                    }
                },
                {
                    "output_type": "execute_result",
                    "metadata": {},
                    "execution_count": 10,
                    "data": {
                        "application/vnd.dataresource+json": {
                            "schema": {
                                "fields": [
                                    {
                                        "name": "orderyear"
                                    },
                                    {
                                        "name": "numcusts"
                                    }
                                ]
                            },
                            "data": [
                                {
                                    "orderyear": "2014",
                                    "numcusts": "67"
                                },
                                {
                                    "orderyear": "2015",
                                    "numcusts": "86"
                                },
                                {
                                    "orderyear": "2016",
                                    "numcusts": "81"
                                }
                            ]
                        },
                        "text/html": [
                            "<table>",
                            "<tr><th>orderyear</th><th>numcusts</th></tr>",
                            "<tr><td>2014</td><td>67</td></tr>",
                            "<tr><td>2015</td><td>86</td></tr>",
                            "<tr><td>2016</td><td>81</td></tr>",
                            "</table>"
                        ]
                    }
                },
                {
                    "output_type": "execute_result",
                    "metadata": {},
                    "execution_count": 10,
                    "data": {
                        "application/vnd.dataresource+json": {
                            "schema": {
                                "fields": [
                                    {
                                        "name": "orderyear"
                                    },
                                    {
                                        "name": "numcusts"
                                    }
                                ]
                            },
                            "data": [
                                {
                                    "orderyear": "2014",
                                    "numcusts": "67"
                                },
                                {
                                    "orderyear": "2015",
                                    "numcusts": "86"
                                },
                                {
                                    "orderyear": "2016",
                                    "numcusts": "81"
                                }
                            ]
                        },
                        "text/html": [
                            "<table>",
                            "<tr><th>orderyear</th><th>numcusts</th></tr>",
                            "<tr><td>2014</td><td>67</td></tr>",
                            "<tr><td>2015</td><td>86</td></tr>",
                            "<tr><td>2016</td><td>81</td></tr>",
                            "</table>"
                        ]
                    }
                }
            ],
            "execution_count": 10
        },
        {
            "cell_type": "markdown",
            "source": [
                "```\n",
                "---------------------------------------------------------------------\n",
                "-- Using Arguments\n",
                "---------------------------------------------------------------------\n",
                "\n",
                "-- Yearly Count of Customers handled by Employee 3\n",
                "DECLARE @empid AS INT = 3;\n",
                "\n",
                "SELECT orderyear, COUNT(DISTINCT custid) AS numcusts\n",
                "FROM (SELECT YEAR(orderdate) AS orderyear, custid\n",
                "      FROM Sales.Orders\n",
                "      WHERE empid = @empid) AS D\n",
                "GROUP BY orderyear;\n",
                "GO\n",
                "```"
            ],
            "metadata": {
                "azdata_cell_guid": "6d51e292-a05a-4366-ad40-321613d2ee8c"
            },
            "attachments": {}
        },
        {
            "cell_type": "markdown",
            "source": [
                "Retrieve a list that shows many distinct customers did a specific employee(ID 3) assist with order in each year"
            ],
            "metadata": {
                "azdata_cell_guid": "718a9a85-5633-42cf-9797-57712116a136"
            },
            "attachments": {}
        },
        {
            "cell_type": "code",
            "source": [
                "USE Northwinds2022TSQLV7; \r\n",
                "DECLARE @empid AS INT = 3;\r\n",
                "\r\n",
                "SELECT orderyear, COUNT(DISTINCT CustomerId) AS numcusts\r\n",
                "FROM (SELECT YEAR(orderdate) AS orderyear, CustomerId\r\n",
                "      FROM Sales.[Order]\r\n",
                "      WHERE EmployeeId = @empid) AS D\r\n",
                "GROUP BY orderyear;"
            ],
            "metadata": {
                "azdata_cell_guid": "60a5deb6-0fa8-42a2-8491-a337941c519f",
                "language": "sql"
            },
            "outputs": [
                {
                    "output_type": "display_data",
                    "data": {
                        "text/html": "(3 rows affected)"
                    },
                    "metadata": {}
                },
                {
                    "output_type": "display_data",
                    "data": {
                        "text/html": "Total execution time: 00:00:00.009"
                    },
                    "metadata": {}
                },
                {
                    "output_type": "execute_result",
                    "metadata": {},
                    "execution_count": 11,
                    "data": {
                        "application/vnd.dataresource+json": {
                            "schema": {
                                "fields": [
                                    {
                                        "name": "orderyear"
                                    },
                                    {
                                        "name": "numcusts"
                                    }
                                ]
                            },
                            "data": [
                                {
                                    "orderyear": "2014",
                                    "numcusts": "16"
                                },
                                {
                                    "orderyear": "2015",
                                    "numcusts": "46"
                                },
                                {
                                    "orderyear": "2016",
                                    "numcusts": "30"
                                }
                            ]
                        },
                        "text/html": [
                            "<table>",
                            "<tr><th>orderyear</th><th>numcusts</th></tr>",
                            "<tr><td>2014</td><td>16</td></tr>",
                            "<tr><td>2015</td><td>46</td></tr>",
                            "<tr><td>2016</td><td>30</td></tr>",
                            "</table>"
                        ]
                    }
                }
            ],
            "execution_count": 11
        },
        {
            "cell_type": "markdown",
            "source": [
                "```\n",
                "---------------------------------------------------------------------\n",
                "-- Nesting\n",
                "---------------------------------------------------------------------\n",
                "\n",
                "-- Listing 5-2 Query with Nested Derived Tables\n",
                "SELECT orderyear, numcusts\n",
                "FROM (SELECT orderyear, COUNT(DISTINCT custid) AS numcusts\n",
                "      FROM (SELECT YEAR(orderdate) AS orderyear, custid\n",
                "            FROM Sales.Orders) AS D1\n",
                "      GROUP BY orderyear) AS D2\n",
                "WHERE numcusts > 70;\n",
                "\n",
                "SELECT YEAR(orderdate) AS orderyear, COUNT(DISTINCT custid) AS numcusts\n",
                "FROM Sales.Orders\n",
                "GROUP BY YEAR(orderdate)\n",
                "HAVING COUNT(DISTINCT custid) > 70;\n",
                "\n",
                "```"
            ],
            "metadata": {
                "language": "sql",
                "azdata_cell_guid": "45ebb019-cdc3-4295-9025-2cea1965e105"
            },
            "attachments": {}
        },
        {
            "cell_type": "markdown",
            "source": [
                "Retrieve a list that shows which years did more than 70 distinct customersw place orders"
            ],
            "metadata": {
                "language": "sql",
                "azdata_cell_guid": "bad7520d-76fd-48d5-a1f6-6a1a14a4f2ed"
            },
            "attachments": {}
        },
        {
            "cell_type": "code",
            "source": [
                "--QUERY 1\r\n",
                "USE Northwinds2022TSQLV7;\r\n",
                "SELECT orderyear, numcusts\r\n",
                "FROM (SELECT orderyear, COUNT(DISTINCT CustomerId) AS numcusts\r\n",
                "      FROM (SELECT YEAR(orderdate) AS orderyear, CustomerId\r\n",
                "            FROM Sales.[Order]) AS D1\r\n",
                "      GROUP BY orderyear) AS D2\r\n",
                "WHERE numcusts > 70;\r\n",
                "\r\n",
                "--QUERY 2\r\n",
                "\r\n",
                "SELECT YEAR(orderdate) AS orderyear, COUNT(DISTINCT CustomerId) AS numcusts\r\n",
                "FROM Sales.[Order]\r\n",
                "GROUP BY YEAR(orderdate)\r\n",
                "HAVING COUNT(DISTINCT CustomerId) > 70;"
            ],
            "metadata": {
                "language": "sql",
                "azdata_cell_guid": "c60868f6-b135-4d01-b5ef-2e6a2ec45358"
            },
            "outputs": [
                {
                    "output_type": "display_data",
                    "data": {
                        "text/html": "(2 rows affected)"
                    },
                    "metadata": {}
                },
                {
                    "output_type": "display_data",
                    "data": {
                        "text/html": "(2 rows affected)"
                    },
                    "metadata": {}
                },
                {
                    "output_type": "display_data",
                    "data": {
                        "text/html": "Total execution time: 00:00:00.013"
                    },
                    "metadata": {}
                },
                {
                    "output_type": "execute_result",
                    "metadata": {},
                    "execution_count": 12,
                    "data": {
                        "application/vnd.dataresource+json": {
                            "schema": {
                                "fields": [
                                    {
                                        "name": "orderyear"
                                    },
                                    {
                                        "name": "numcusts"
                                    }
                                ]
                            },
                            "data": [
                                {
                                    "orderyear": "2015",
                                    "numcusts": "86"
                                },
                                {
                                    "orderyear": "2016",
                                    "numcusts": "81"
                                }
                            ]
                        },
                        "text/html": [
                            "<table>",
                            "<tr><th>orderyear</th><th>numcusts</th></tr>",
                            "<tr><td>2015</td><td>86</td></tr>",
                            "<tr><td>2016</td><td>81</td></tr>",
                            "</table>"
                        ]
                    }
                },
                {
                    "output_type": "execute_result",
                    "metadata": {},
                    "execution_count": 12,
                    "data": {
                        "application/vnd.dataresource+json": {
                            "schema": {
                                "fields": [
                                    {
                                        "name": "orderyear"
                                    },
                                    {
                                        "name": "numcusts"
                                    }
                                ]
                            },
                            "data": [
                                {
                                    "orderyear": "2015",
                                    "numcusts": "86"
                                },
                                {
                                    "orderyear": "2016",
                                    "numcusts": "81"
                                }
                            ]
                        },
                        "text/html": [
                            "<table>",
                            "<tr><th>orderyear</th><th>numcusts</th></tr>",
                            "<tr><td>2015</td><td>86</td></tr>",
                            "<tr><td>2016</td><td>81</td></tr>",
                            "</table>"
                        ]
                    }
                }
            ],
            "execution_count": 12
        },
        {
            "cell_type": "markdown",
            "source": [
                "```\n",
                "---------------------------------------------------------------------\n",
                "-- Multiple References\n",
                "---------------------------------------------------------------------\n",
                "\n",
                "-- Listing 5-3 Multiple Derived Tables Based on the Same Query\n",
                "SELECT Cur.orderyear, \n",
                "  Cur.numcusts AS curnumcusts, Prv.numcusts AS prvnumcusts,\n",
                "  Cur.numcusts - Prv.numcusts AS growth\n",
                "FROM (SELECT YEAR(orderdate) AS orderyear,\n",
                "        COUNT(DISTINCT custid) AS numcusts\n",
                "      FROM Sales.Orders\n",
                "      GROUP BY YEAR(orderdate)) AS Cur\n",
                "  LEFT OUTER JOIN\n",
                "     (SELECT YEAR(orderdate) AS orderyear,\n",
                "        COUNT(DISTINCT custid) AS numcusts\n",
                "      FROM Sales.Orders\n",
                "      GROUP BY YEAR(orderdate)) AS Prv\n",
                "    ON Cur.orderyear = Prv.orderyear + 1;\n",
                "\n",
                "```"
            ],
            "metadata": {
                "azdata_cell_guid": "5c6e69f8-1de8-4347-a3f9-017681da80b2"
            },
            "attachments": {}
        },
        {
            "cell_type": "markdown",
            "source": [
                "Retrieve a list that shows the number of distinct customers changed from one year to the next across the dataset."
            ],
            "metadata": {
                "azdata_cell_guid": "c9c05864-b83b-4034-b7b2-caaef6442445"
            },
            "attachments": {}
        },
        {
            "cell_type": "code",
            "source": [
                "USE Northwinds2022TSQLV7;\r\n",
                "SELECT Cur.orderyear, \r\n",
                "  Cur.numcusts AS curnumcusts, Prv.numcusts AS prvnumcusts,\r\n",
                "  Cur.numcusts - Prv.numcusts AS growth\r\n",
                "FROM (SELECT YEAR(orderdate) AS orderyear,\r\n",
                "        COUNT(DISTINCT CustomerId) AS numcusts\r\n",
                "      FROM Sales.[Order]\r\n",
                "      GROUP BY YEAR(orderdate)) AS Cur\r\n",
                "  LEFT OUTER JOIN\r\n",
                "     (SELECT YEAR(orderdate) AS orderyear,\r\n",
                "        COUNT(DISTINCT CustomerId) AS numcusts\r\n",
                "      FROM Sales.[Order]\r\n",
                "      GROUP BY YEAR(orderdate)) AS Prv\r\n",
                "    ON Cur.orderyear = Prv.orderyear + 1;"
            ],
            "metadata": {
                "azdata_cell_guid": "0ece4b2a-3839-4f09-97cf-6041cbbca8af",
                "language": "sql"
            },
            "outputs": [
                {
                    "output_type": "display_data",
                    "data": {
                        "text/html": "(3 rows affected)"
                    },
                    "metadata": {}
                },
                {
                    "output_type": "display_data",
                    "data": {
                        "text/html": "Total execution time: 00:00:00.017"
                    },
                    "metadata": {}
                },
                {
                    "output_type": "execute_result",
                    "metadata": {},
                    "execution_count": 13,
                    "data": {
                        "application/vnd.dataresource+json": {
                            "schema": {
                                "fields": [
                                    {
                                        "name": "orderyear"
                                    },
                                    {
                                        "name": "curnumcusts"
                                    },
                                    {
                                        "name": "prvnumcusts"
                                    },
                                    {
                                        "name": "growth"
                                    }
                                ]
                            },
                            "data": [
                                {
                                    "orderyear": "2014",
                                    "curnumcusts": "67",
                                    "prvnumcusts": "NULL",
                                    "growth": "NULL"
                                },
                                {
                                    "orderyear": "2015",
                                    "curnumcusts": "86",
                                    "prvnumcusts": "67",
                                    "growth": "19"
                                },
                                {
                                    "orderyear": "2016",
                                    "curnumcusts": "81",
                                    "prvnumcusts": "86",
                                    "growth": "-5"
                                }
                            ]
                        },
                        "text/html": [
                            "<table>",
                            "<tr><th>orderyear</th><th>curnumcusts</th><th>prvnumcusts</th><th>growth</th></tr>",
                            "<tr><td>2014</td><td>67</td><td>NULL</td><td>NULL</td></tr>",
                            "<tr><td>2015</td><td>86</td><td>67</td><td>19</td></tr>",
                            "<tr><td>2016</td><td>81</td><td>86</td><td>-5</td></tr>",
                            "</table>"
                        ]
                    }
                }
            ],
            "execution_count": 13
        },
        {
            "cell_type": "markdown",
            "source": [
                "```\n",
                "---------------------------------------------------------------------\n",
                "-- Common Table Expressions\n",
                "---------------------------------------------------------------------\n",
                "\n",
                "WITH USACusts AS\n",
                "(\n",
                "  SELECT custid, companyname\n",
                "  FROM Sales.Customers\n",
                "  WHERE country = N'USA'\n",
                ")\n",
                "SELECT * FROM USACusts;\n",
                "\n",
                "```"
            ],
            "metadata": {
                "language": "sql",
                "azdata_cell_guid": "81deadba-acb6-46c3-80e5-85a5187fbeff"
            },
            "attachments": {}
        },
        {
            "cell_type": "markdown",
            "source": [
                "Retrieve a list of all customers and their company names located in the USA\n",
                "\n",
                "Notes: Common table expressions are temporary results sets that can be referenced. They allow for breaking down complext queries into simpler parts, which results in easier readability, maintainbility and resusability \n",
                "\n",
                "In this case the expressions is USACusts. Its taking the customer ID and companyName and filters it to only show customers in the US.\n",
                "\n",
                "Then select \\* from USACusts is calling it as a normal table."
            ],
            "metadata": {
                "language": "sql",
                "azdata_cell_guid": "d9d88fe7-0d62-4bb7-a445-ddd3fcc45971"
            },
            "attachments": {}
        },
        {
            "cell_type": "code",
            "source": [
                "USE Northwinds2022TSQLV7;\r\n",
                "WITH USACusts AS\r\n",
                "(\r\n",
                "  SELECT CustomerId, CustomerCompanyName\r\n",
                "  FROM Sales.[Customer]\r\n",
                "  WHERE CustomerCountry = N'USA'\r\n",
                ")\r\n",
                "SELECT * FROM USACusts;"
            ],
            "metadata": {
                "language": "sql",
                "azdata_cell_guid": "865fab5c-ed1f-4376-b312-b4e1aff19def"
            },
            "outputs": [
                {
                    "output_type": "display_data",
                    "data": {
                        "text/html": "(13 rows affected)"
                    },
                    "metadata": {}
                },
                {
                    "output_type": "display_data",
                    "data": {
                        "text/html": "Total execution time: 00:00:00.007"
                    },
                    "metadata": {}
                },
                {
                    "output_type": "execute_result",
                    "metadata": {},
                    "execution_count": 14,
                    "data": {
                        "application/vnd.dataresource+json": {
                            "schema": {
                                "fields": [
                                    {
                                        "name": "CustomerId"
                                    },
                                    {
                                        "name": "CustomerCompanyName"
                                    }
                                ]
                            },
                            "data": [
                                {
                                    "CustomerId": "32",
                                    "CustomerCompanyName": "Customer YSIQX"
                                },
                                {
                                    "CustomerId": "36",
                                    "CustomerCompanyName": "Customer LVJSO"
                                },
                                {
                                    "CustomerId": "43",
                                    "CustomerCompanyName": "Customer UISOJ"
                                },
                                {
                                    "CustomerId": "45",
                                    "CustomerCompanyName": "Customer QXPPT"
                                },
                                {
                                    "CustomerId": "48",
                                    "CustomerCompanyName": "Customer DVFMB"
                                },
                                {
                                    "CustomerId": "55",
                                    "CustomerCompanyName": "Customer KZQZT"
                                },
                                {
                                    "CustomerId": "65",
                                    "CustomerCompanyName": "Customer NYUHS"
                                },
                                {
                                    "CustomerId": "71",
                                    "CustomerCompanyName": "Customer LCOUJ"
                                },
                                {
                                    "CustomerId": "75",
                                    "CustomerCompanyName": "Customer XOJYP"
                                },
                                {
                                    "CustomerId": "77",
                                    "CustomerCompanyName": "Customer LCYBZ"
                                },
                                {
                                    "CustomerId": "78",
                                    "CustomerCompanyName": "Customer NLTYP"
                                },
                                {
                                    "CustomerId": "82",
                                    "CustomerCompanyName": "Customer EYHKM"
                                },
                                {
                                    "CustomerId": "89",
                                    "CustomerCompanyName": "Customer YBQTI"
                                }
                            ]
                        },
                        "text/html": [
                            "<table>",
                            "<tr><th>CustomerId</th><th>CustomerCompanyName</th></tr>",
                            "<tr><td>32</td><td>Customer YSIQX</td></tr>",
                            "<tr><td>36</td><td>Customer LVJSO</td></tr>",
                            "<tr><td>43</td><td>Customer UISOJ</td></tr>",
                            "<tr><td>45</td><td>Customer QXPPT</td></tr>",
                            "<tr><td>48</td><td>Customer DVFMB</td></tr>",
                            "<tr><td>55</td><td>Customer KZQZT</td></tr>",
                            "<tr><td>65</td><td>Customer NYUHS</td></tr>",
                            "<tr><td>71</td><td>Customer LCOUJ</td></tr>",
                            "<tr><td>75</td><td>Customer XOJYP</td></tr>",
                            "<tr><td>77</td><td>Customer LCYBZ</td></tr>",
                            "<tr><td>78</td><td>Customer NLTYP</td></tr>",
                            "<tr><td>82</td><td>Customer EYHKM</td></tr>",
                            "<tr><td>89</td><td>Customer YBQTI</td></tr>",
                            "</table>"
                        ]
                    }
                }
            ],
            "execution_count": 14
        },
        {
            "cell_type": "markdown",
            "source": [
                "```\n",
                "---------------------------------------------------------------------\n",
                "-- Assigning Column Aliases\n",
                "---------------------------------------------------------------------\n",
                "\n",
                "-- Inline column aliasing\n",
                "WITH C AS\n",
                "(\n",
                "  SELECT YEAR(orderdate) AS orderyear, custid\n",
                "  FROM Sales.Orders\n",
                ")\n",
                "SELECT orderyear, COUNT(DISTINCT custid) AS numcusts\n",
                "FROM C\n",
                "GROUP BY orderyear;\n",
                "\n",
                "```"
            ],
            "metadata": {
                "azdata_cell_guid": "e5510e85-7cae-4ab5-9f14-b10539ccc339"
            },
            "attachments": {}
        },
        {
            "cell_type": "markdown",
            "source": [
                "Retrieve a list that shows how many distinct customers placed in each year, both queries have the same output\n",
                "\n",
                "notes: Inline col vs external col \n",
                "\n",
                "inline happens directly within the SELECT statement when defining col/expression. This method allows for more meaningful naming. In this case YEAR(orderdate) is now orderyear, which is easier for others to read \n",
                "\n",
                "external col  happens outside the immediate SELECT list. In our case Order year comes right bfore calling YEAR(orderdate)"
            ],
            "metadata": {
                "azdata_cell_guid": "1d7a4fa9-af2c-4fbd-9542-4a15b1669a7b"
            },
            "attachments": {}
        },
        {
            "cell_type": "code",
            "source": [
                "USE Northwinds2022TSQLV7; \r\n",
                "WITH C AS\r\n",
                "(\r\n",
                "  SELECT YEAR(orderdate) AS orderyear, CustomerId\r\n",
                "  FROM Sales.[Order]\r\n",
                ")\r\n",
                "SELECT orderyear, COUNT(DISTINCT CustomerId) AS numcusts\r\n",
                "FROM C\r\n",
                "GROUP BY orderyear;"
            ],
            "metadata": {
                "azdata_cell_guid": "2bd8895f-8ced-4d0e-846d-f0990aefaf58",
                "language": "sql"
            },
            "outputs": [
                {
                    "output_type": "display_data",
                    "data": {
                        "text/html": "(3 rows affected)"
                    },
                    "metadata": {}
                },
                {
                    "output_type": "display_data",
                    "data": {
                        "text/html": "Total execution time: 00:00:00.005"
                    },
                    "metadata": {}
                },
                {
                    "output_type": "execute_result",
                    "metadata": {},
                    "execution_count": 15,
                    "data": {
                        "application/vnd.dataresource+json": {
                            "schema": {
                                "fields": [
                                    {
                                        "name": "orderyear"
                                    },
                                    {
                                        "name": "numcusts"
                                    }
                                ]
                            },
                            "data": [
                                {
                                    "orderyear": "2014",
                                    "numcusts": "67"
                                },
                                {
                                    "orderyear": "2015",
                                    "numcusts": "86"
                                },
                                {
                                    "orderyear": "2016",
                                    "numcusts": "81"
                                }
                            ]
                        },
                        "text/html": [
                            "<table>",
                            "<tr><th>orderyear</th><th>numcusts</th></tr>",
                            "<tr><td>2014</td><td>67</td></tr>",
                            "<tr><td>2015</td><td>86</td></tr>",
                            "<tr><td>2016</td><td>81</td></tr>",
                            "</table>"
                        ]
                    }
                }
            ],
            "execution_count": 15
        },
        {
            "cell_type": "markdown",
            "source": [
                "```\n",
                "-- External column aliasing\n",
                "WITH C(orderyear, custid) AS\n",
                "(\n",
                "  SELECT YEAR(orderdate), custid\n",
                "  FROM Sales.Orders\n",
                ")\n",
                "SELECT orderyear, COUNT(DISTINCT custid) AS numcusts\n",
                "FROM C\n",
                "GROUP BY orderyear;\n",
                "GO\n",
                "\n",
                "```\n",
                "\n",
                "<span class=\"k\" style=\"color: rgb(0, 128, 0); font-weight: bold;\"><br></span>"
            ],
            "metadata": {
                "language": "sql",
                "azdata_cell_guid": "7619954f-8547-4a3a-942f-5fbadd70711c"
            },
            "attachments": {}
        },
        {
            "cell_type": "code",
            "source": [
                "USE Northwinds2022TSQLV7;\r\n",
                "WITH C(orderyear, custid) AS\r\n",
                "(\r\n",
                "  SELECT YEAR(orderdate), CustomerId\r\n",
                "  FROM Sales.[Order]\r\n",
                ")\r\n",
                "SELECT orderyear, COUNT(DISTINCT custid) AS numcusts\r\n",
                "FROM C\r\n",
                "GROUP BY orderyear;\r\n",
                "GO"
            ],
            "metadata": {
                "language": "sql",
                "azdata_cell_guid": "86b81995-1476-491a-abee-8355e2b4a658"
            },
            "outputs": [
                {
                    "output_type": "display_data",
                    "data": {
                        "text/html": "(3 rows affected)"
                    },
                    "metadata": {}
                },
                {
                    "output_type": "display_data",
                    "data": {
                        "text/html": "Total execution time: 00:00:00.005"
                    },
                    "metadata": {}
                },
                {
                    "output_type": "execute_result",
                    "metadata": {},
                    "execution_count": 16,
                    "data": {
                        "application/vnd.dataresource+json": {
                            "schema": {
                                "fields": [
                                    {
                                        "name": "orderyear"
                                    },
                                    {
                                        "name": "numcusts"
                                    }
                                ]
                            },
                            "data": [
                                {
                                    "orderyear": "2014",
                                    "numcusts": "67"
                                },
                                {
                                    "orderyear": "2015",
                                    "numcusts": "86"
                                },
                                {
                                    "orderyear": "2016",
                                    "numcusts": "81"
                                }
                            ]
                        },
                        "text/html": [
                            "<table>",
                            "<tr><th>orderyear</th><th>numcusts</th></tr>",
                            "<tr><td>2014</td><td>67</td></tr>",
                            "<tr><td>2015</td><td>86</td></tr>",
                            "<tr><td>2016</td><td>81</td></tr>",
                            "</table>"
                        ]
                    }
                }
            ],
            "execution_count": 16
        },
        {
            "cell_type": "markdown",
            "source": [
                "<span style=\"background-color: rgb(255, 255, 255);\">Written&nbsp; in&nbsp; collaboration&nbsp; with&nbsp; ChatGPT&nbsp; from&nbsp; OpenAI&nbsp; to&nbsp; improve understanding&nbsp; and&nbsp; assist&nbsp; with&nbsp; the explanation of the query.</span>"
            ],
            "metadata": {
                "language": "sql",
                "azdata_cell_guid": "82e0a021-ff2e-42c9-935b-f79d81acf3d4"
            },
            "attachments": {}
        }
    ]
}