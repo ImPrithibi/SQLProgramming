{
    "metadata": {
        "kernelspec": {
            "name": "SQL",
            "display_name": "SQL",
            "language": "sql"
        },
        "language_info": {
            "name": "sql",
            "version": ""
        }
    },
    "nbformat_minor": 2,
    "nbformat": 4,
    "cells": [
        {
            "cell_type": "markdown",
            "source": [
                "**Zackaria Mamdouh | Group 6 | Question 5**"
                "**Written in collaboration with ChatGPT from OpenAI to improve understanding, assist with the explanation of the query, and enhance formatting and display of the queries.**"
            ],
            "metadata": {
                "language": "sql",
                "azdata_cell_guid": "b9b8cae7-61e8-4bc4-8682-030eefa389e4"
            },
            "attachments": {}
        },
        {
            "cell_type": "code",
            "source": [
                "-- Question 5\n",
                "-- Run the following code to create and populate the EmpYearOrders table:\n",
                "USE TSQLV4;\n",
                "\n",
                "DROP TABLE IF EXISTS dbo.EmpYearOrders;\n",
                "\n",
                "CREATE TABLE dbo.EmpYearOrders\n",
                "(\n",
                "  empid INT NOT NULL\n",
                "    CONSTRAINT PK_EmpYearOrders PRIMARY KEY,\n",
                "  cnt2014 INT NULL,\n",
                "  cnt2015 INT NULL,\n",
                "  cnt2016 INT NULL\n",
                ");\n",
                "\n",
                "INSERT INTO dbo.EmpYearOrders(empid, cnt2014, cnt2015, cnt2016)\n",
                "  SELECT empid, [2014] AS cnt2014, [2015] AS cnt2015, [2016] AS cnt2016\n",
                "  FROM (SELECT empid, YEAR(orderdate) AS orderyear\n",
                "        FROM dbo.Orders) AS D\n",
                "    PIVOT(COUNT(orderyear)\n",
                "          FOR orderyear IN([2014], [2015], [2016])) AS P;\n",
                "\n",
                "SELECT * FROM dbo.EmpYearOrders;\n",
                "\n",
                "-- Output:\n",
                "empid       cnt2014     cnt2015     cnt2016\n",
                "----------- ----------- ----------- -----------\n",
                "1           1           1           1\n",
                "2           1           2           1\n",
                "3           2           0           2\n",
                "\n",
                "-- Write a query against the EmpYearOrders table that unpivots\n",
                "-- the data, returning a row for each employee and order year\n",
                "-- with the number of orders\n",
                "-- Exclude rows where the number of orders is 0\n",
                "-- (in our example, employee 3 in year 2016)\n",
                "\n",
                "-- Desired output:\n",
                "empid       orderyear   numorders\n",
                "----------- ----------- -----------\n",
                "1           2014        1\n",
                "1           2015        1\n",
                "1           2016        1\n",
                "2           2015        1\n",
                "2           2015        2\n",
                "2           2016        1\n",
                "3           2014        2\n",
                "3           2016        2"
            ],
            "metadata": {
                "azdata_cell_guid": "cdbc64ba-84af-4238-b423-f5caa793d10d",
                "language": "sql"
            },
            "outputs": [],
            "execution_count": null
        },
        {
            "cell_type": "markdown",
            "source": [
                "**Proposition:**\n",
                "\n",
                "The query retrieves data concerning the count of orders made by each employee in the years 2014, 2015, and 2016 from the `EmpYearOrders` table. It transforms the yearly order count columns into rows and excludes any rows where the count is zero.\n",
                "\n",
                "**Tables involved:**\n",
                "\n",
                "The table involved in this query is `dbo.EmpYearOrders` from the current database context which is presumably `TSQLV4`.\n",
                "\n",
                "**Columns:**\n",
                "\n",
                "In the query:\n",
                "- `empid`\n",
                "- `cnt2014`\n",
                "- `cnt2015`\n",
                "- `cnt2016`\n",
                "\n",
                "After processing through the `CASE` and `UNPIVOT` statements, the output columns are:\n",
                "- `empid`\n",
                "- `orderyear`\n",
                "- `numorders`\n",
                "\n",
                "**Predicate:**\n",
                "\n",
                "The predicate involves:\n",
                "- An `UNPIVOT` operation which transforms the columns `cnt2014`, `cnt2015`, `cnt2016` into rows, with the `numorders` column containing the values and the `orderyear` column indicating the corresponding year.\n",
                "- A `CASE` statement is used to convert the column names (`cnt2014`, `cnt2015`, `cnt2016`) into actual year values (2014, 2015, 2016).\n",
                "- A `WHERE` clause to exclude rows where `numorders` is zero.\n",
                "- An `ORDER BY` clause to sort the results by `empid` and the translated `orderyear`.\n",
                "\n",
                "**Summary:**\n",
                "\n",
                "The SQL query aims to transform and summarize the order counts per employee from a columnar yearly representation to a row-based representation for each year, excluding years with zero orders, thereby enabling a more detailed and chronological analysis of employee performance over the specified years.\n",
                ""
            ],
            "metadata": {
                "azdata_cell_guid": "6ec5cf7c-5df1-43e5-b8a2-49ec6cd2e915"
            },
            "attachments": {}
        },
        {
            "cell_type": "code",
            "source": [
                "-- Select the employee ID, the actual order year, and the number of orders\n",
                "SELECT \n",
                "    empid, \n",
                "    CASE orderyear -- Translate the column names into actual year values\n",
                "        WHEN 'cnt2014' THEN 2014\n",
                "        WHEN 'cnt2015' THEN 2015\n",
                "        WHEN 'cnt2016' THEN 2016\n",
                "    END as orderyear, \n",
                "    numorders\n",
                "FROM \n",
                "(\n",
                "    -- Subquery to select the relevant columns from the EmpYearOrders table\n",
                "    SELECT empid, cnt2014, cnt2015, cnt2016\n",
                "    FROM dbo.EmpYearOrders\n",
                ") AS sourceTable\n",
                "-- The UNPIVOT operator converts the three columns of order counts into rows\n",
                "UNPIVOT\n",
                "(\n",
                "    numorders FOR orderyear IN (cnt2014, cnt2015, cnt2016)\n",
                ") AS unpivotedTable\n",
                "-- Exclude rows where the number of orders is zero\n",
                "WHERE numorders != 0\n",
                "-- Order the result set by employee ID and year for clarity\n",
                "ORDER BY empid, orderyear;\n",
                ""
            ],
            "metadata": {
                "azdata_cell_guid": "2ee4088a-b082-49c0-b9e6-40d74362d6aa",
                "language": "sql",
                "tags": []
            },
            "outputs": [
                {
                    "output_type": "display_data",
                    "data": {
                        "text/html": "(27 rows affected)"
                    },
                    "metadata": {}
                },
                {
                    "output_type": "display_data",
                    "data": {
                        "text/html": "Total execution time: 00:00:00.032"
                    },
                    "metadata": {}
                },
                {
                    "output_type": "execute_result",
                    "execution_count": 8,
                    "data": {
                        "application/vnd.dataresource+json": {
                            "schema": {
                                "fields": [
                                    {
                                        "name": "empid"
                                    },
                                    {
                                        "name": "orderyear"
                                    },
                                    {
                                        "name": "numorders"
                                    }
                                ]
                            },
                            "data": [
                                {
                                    "empid": "1",
                                    "orderyear": "2014",
                                    "numorders": "26"
                                },
                                {
                                    "empid": "1",
                                    "orderyear": "2015",
                                    "numorders": "55"
                                },
                                {
                                    "empid": "1",
                                    "orderyear": "2016",
                                    "numorders": "42"
                                },
                                {
                                    "empid": "2",
                                    "orderyear": "2014",
                                    "numorders": "16"
                                },
                                {
                                    "empid": "2",
                                    "orderyear": "2015",
                                    "numorders": "41"
                                },
                                {
                                    "empid": "2",
                                    "orderyear": "2016",
                                    "numorders": "39"
                                },
                                {
                                    "empid": "3",
                                    "orderyear": "2014",
                                    "numorders": "18"
                                },
                                {
                                    "empid": "3",
                                    "orderyear": "2015",
                                    "numorders": "71"
                                },
                                {
                                    "empid": "3",
                                    "orderyear": "2016",
                                    "numorders": "38"
                                },
                                {
                                    "empid": "4",
                                    "orderyear": "2014",
                                    "numorders": "31"
                                },
                                {
                                    "empid": "4",
                                    "orderyear": "2015",
                                    "numorders": "81"
                                },
                                {
                                    "empid": "4",
                                    "orderyear": "2016",
                                    "numorders": "44"
                                },
                                {
                                    "empid": "5",
                                    "orderyear": "2014",
                                    "numorders": "11"
                                },
                                {
                                    "empid": "5",
                                    "orderyear": "2015",
                                    "numorders": "18"
                                },
                                {
                                    "empid": "5",
                                    "orderyear": "2016",
                                    "numorders": "13"
                                },
                                {
                                    "empid": "6",
                                    "orderyear": "2014",
                                    "numorders": "15"
                                },
                                {
                                    "empid": "6",
                                    "orderyear": "2015",
                                    "numorders": "33"
                                },
                                {
                                    "empid": "6",
                                    "orderyear": "2016",
                                    "numorders": "19"
                                },
                                {
                                    "empid": "7",
                                    "orderyear": "2014",
                                    "numorders": "11"
                                },
                                {
                                    "empid": "7",
                                    "orderyear": "2015",
                                    "numorders": "36"
                                },
                                {
                                    "empid": "7",
                                    "orderyear": "2016",
                                    "numorders": "25"
                                },
                                {
                                    "empid": "8",
                                    "orderyear": "2014",
                                    "numorders": "19"
                                },
                                {
                                    "empid": "8",
                                    "orderyear": "2015",
                                    "numorders": "54"
                                },
                                {
                                    "empid": "8",
                                    "orderyear": "2016",
                                    "numorders": "31"
                                },
                                {
                                    "empid": "9",
                                    "orderyear": "2014",
                                    "numorders": "5"
                                },
                                {
                                    "empid": "9",
                                    "orderyear": "2015",
                                    "numorders": "19"
                                },
                                {
                                    "empid": "9",
                                    "orderyear": "2016",
                                    "numorders": "19"
                                }
                            ]
                        },
                        "text/html": "<table><tr><th>empid</th><th>orderyear</th><th>numorders</th></tr><tr><td>1</td><td>2014</td><td>26</td></tr><tr><td>1</td><td>2015</td><td>55</td></tr><tr><td>1</td><td>2016</td><td>42</td></tr><tr><td>2</td><td>2014</td><td>16</td></tr><tr><td>2</td><td>2015</td><td>41</td></tr><tr><td>2</td><td>2016</td><td>39</td></tr><tr><td>3</td><td>2014</td><td>18</td></tr><tr><td>3</td><td>2015</td><td>71</td></tr><tr><td>3</td><td>2016</td><td>38</td></tr><tr><td>4</td><td>2014</td><td>31</td></tr><tr><td>4</td><td>2015</td><td>81</td></tr><tr><td>4</td><td>2016</td><td>44</td></tr><tr><td>5</td><td>2014</td><td>11</td></tr><tr><td>5</td><td>2015</td><td>18</td></tr><tr><td>5</td><td>2016</td><td>13</td></tr><tr><td>6</td><td>2014</td><td>15</td></tr><tr><td>6</td><td>2015</td><td>33</td></tr><tr><td>6</td><td>2016</td><td>19</td></tr><tr><td>7</td><td>2014</td><td>11</td></tr><tr><td>7</td><td>2015</td><td>36</td></tr><tr><td>7</td><td>2016</td><td>25</td></tr><tr><td>8</td><td>2014</td><td>19</td></tr><tr><td>8</td><td>2015</td><td>54</td></tr><tr><td>8</td><td>2016</td><td>31</td></tr><tr><td>9</td><td>2014</td><td>5</td></tr><tr><td>9</td><td>2015</td><td>19</td></tr><tr><td>9</td><td>2016</td><td>19</td></tr></table>"
                    },
                    "metadata": {}
                }
            ],
            "execution_count": 8
        },
        {
            "cell_type": "code",
            "source": [
                "---------------------------------------------------------------------\n",
                "-- Unpivoting Data\n",
                "---------------------------------------------------------------------\n",
                "\n",
                "-- Code to create and populate the EmpCustOrders table (1)\n",
                "USE TSQLV4;\n",
                "\n",
                "DROP TABLE IF EXISTS dbo.EmpCustOrders;\n",
                "\n",
                "CREATE TABLE dbo.EmpCustOrders\n",
                "(\n",
                "  empid INT NOT NULL\n",
                "    CONSTRAINT PK_EmpCustOrders PRIMARY KEY,\n",
                "  A VARCHAR(5) NULL,\n",
                "  B VARCHAR(5) NULL,\n",
                "  C VARCHAR(5) NULL,\n",
                "  D VARCHAR(5) NULL\n",
                ");"
            ],
            "metadata": {
                "azdata_cell_guid": "4c35ccc9-396d-4d60-a1d3-4f5da3802210",
                "language": "sql"
            },
            "outputs": [],
            "execution_count": null
        },
        {
            "cell_type": "markdown",
            "source": [
                "**Proposition:**\n",
                "Create a structure to store and organize the total order quantities for customers A, B, C, and D, segmented by employee.\n",
                "\n",
                "**Tables Involved:**\n",
                "- `dbo.EmpCustOrders`\n",
                "\n",
                "**Columns:**\n",
                "- `empid`\n",
                "- `A`\n",
                "- `B`\n",
                "- `C`\n",
                "- `D`\n",
                "\n",
                "**Predicate:**\n",
                "The table must have a primary key on `empid` and can hold nullable quantities represented as varchars for customers labeled A through D."
            ],
            "metadata": {
                "azdata_cell_guid": "8b0bdba5-2551-4395-91e4-5f9c5714e20f"
            },
            "attachments": {}
        },
        {
            "cell_type": "code",
            "source": [
                "--2\n",
                "INSERT INTO dbo.EmpCustOrders(empid, A, B, C, D)\n",
                "  SELECT empid, A, B, C, D\n",
                "  FROM (SELECT empid, custid, qty\n",
                "        FROM dbo.Orders) AS D\n",
                "    PIVOT(SUM(qty) FOR custid IN(A, B, C, D)) AS P;\n",
                "\n",
                "SELECT * FROM dbo.EmpCustOrders;\n",
                ""
            ],
            "metadata": {
                "azdata_cell_guid": "72f0af85-9623-4f8d-a557-05100750ab20",
                "language": "sql"
            },
            "outputs": [],
            "execution_count": null
        },
        {
            "cell_type": "markdown",
            "source": [
                "**Proposition:**\n",
                "Aggregate the total order quantities for each customer (A, B, C, D) by employee and populate the `dbo.EmpCustOrders` table.\n",
                "\n",
                "**Tables Involved:**\n",
                "- `dbo.EmpCustOrders`\n",
                "- Subquery involving table `dbo.Orders`\n",
                "\n",
                "**Columns:**\n",
                "- `empid`\n",
                "- `A`\n",
                "- `B`\n",
                "- `C`\n",
                "- `D`\n",
                "- `custid`\n",
                "- `qty`\n",
                "\n",
                "**Predicate:**\n",
                "Summarize (`SUM`) the quantity (`qty`) for each customer (A, B, C, D) by employee (`empid`) and insert this data into `dbo.EmpCustOrders`."
            ],
            "metadata": {
                "azdata_cell_guid": "6af4411c-ce3b-4731-8d66-3cbb6b1e99a3"
            },
            "attachments": {}
        },
        {
            "cell_type": "code",
            "source": [
                "---------------------------------------------------------------------\n",
                "-- Unpivoting with the APPLY Operator\n",
                "---------------------------------------------------------------------\n",
                "\n",
                "-- Unpivot Step 1: generate copies (3)\n",
                "SELECT *\n",
                "FROM dbo.EmpCustOrders\n",
                "  CROSS JOIN (VALUES('A'),('B'),('C'),('D')) AS C(custid);"
            ],
            "metadata": {
                "azdata_cell_guid": "96b5d182-b7db-462b-8e3e-d98dfee1f681",
                "language": "sql"
            },
            "outputs": [],
            "execution_count": null
        },
        {
            "cell_type": "markdown",
            "source": [
                "**Proposition:**\n",
                "Retrieve all the existing records from the `dbo.EmpCustOrders` table.\n",
                "\n",
                "**Tables Involved:**\n",
                "- `dbo.EmpCustOrders`\n",
                "\n",
                "**Columns:**\n",
                "- All columns of `dbo.EmpCustOrders`\n",
                "\n",
                "**Predicate:**\n",
                "No specific predicate; select all records from the table.\n",
                ""
            ],
            "metadata": {
                "azdata_cell_guid": "8cbdef9f-d7f3-4815-8be1-d2ac2ff62bdd"
            },
            "attachments": {}
        },
        {
            "cell_type": "code",
            "source": [
                "-- Unpivot Step 2: extract elements\n",
                "/*\n",
                "SELECT empid, custid, qty\n",
                "FROM dbo.EmpCustOrders\n",
                "  CROSS JOIN (VALUES('A', A),('B', B),('C', C),('D', D)) AS C(custid, qty); (4)\n",
                "*/\n",
                "\n",
                "SELECT empid, custid, qty\n",
                "FROM dbo.EmpCustOrders\n",
                "  CROSS APPLY (VALUES('A', A),('B', B),('C', C),('D', D)) AS C(custid, qty);"
            ],
            "metadata": {
                "azdata_cell_guid": "3ce7e602-d003-4c7f-8803-0d69a16d8bbc",
                "language": "sql"
            },
            "outputs": [],
            "execution_count": null
        },
        {
            "cell_type": "markdown",
            "source": [
                "**Proposition:**\n",
                "Create a combination list of each employee with every customer label.\n",
                "\n",
                "**Tables Involved:**\n",
                "- `dbo.EmpCustOrders`\n",
                "- Inline table `C(custid)`\n",
                "\n",
                "**Columns:**\n",
                "- `empid`\n",
                "- `custid` from `C(custid)`\n",
                "\n",
                "**Predicate:**\n",
                "Cross join `dbo.EmpCustOrders` with a list of values representing customer labels (A, B, C, D) to generate all possible combinations."
            ],
            "metadata": {
                "azdata_cell_guid": "6a54d248-425f-4f46-aea7-88ef367a44ee"
            },
            "attachments": {}
        },
        {
            "cell_type": "code",
            "source": [
                "-- Unpivot Step 3: eliminate NULLs (5)\n",
                "SELECT empid, custid, qty\n",
                "FROM dbo.EmpCustOrders\n",
                "  CROSS APPLY (VALUES('A', A),('B', B),('C', C),('D', D)) AS C(custid, qty)\n",
                "WHERE qty IS NOT NULL;"
            ],
            "metadata": {
                "azdata_cell_guid": "9c955499-7004-4ef2-bb9a-a1185ed1cc26",
                "language": "sql"
            },
            "outputs": [],
            "execution_count": null
        },
        {
            "cell_type": "markdown",
            "source": [
                "**Proposition:**\n",
                "Generate a detailed list for each employee with associated customer labels and corresponding order quantities.\n",
                "\n",
                "**Tables Involved:**\n",
                "- `dbo.EmpCustOrders`\n",
                "- Inline table `C(custid, qty)`\n",
                "\n",
                "**Columns:**\n",
                "- `empid`\n",
                "- `custid`\n",
                "- `qty`\n",
                "\n",
                "**Predicate:**\n",
                "Cross apply `dbo.EmpCustOrders` with a table of values to map each customer label with its respective order quantity, including null values.\n",
                ""
            ],
            "metadata": {
                "azdata_cell_guid": "a4e57541-2cc6-4c1c-b85b-c283282f7ca4"
            },
            "attachments": {}
        },
        {
            "cell_type": "code",
            "source": [
                "---------------------------------------------------------------------\n",
                "-- Unpivoting with the UNPIVOT Operator\n",
                "--------------------------------------------------------------------- (6)\n",
                "\n",
                "-- Query using the native UNPIVOT operator\n",
                "SELECT empid, custid, qty\n",
                "FROM dbo.EmpCustOrders\n",
                "  UNPIVOT(qty FOR custid IN(A, B, C, D)) AS U;"
            ],
            "metadata": {
                "azdata_cell_guid": "c73a7e06-a2e1-4538-9a5a-f3c40edba1d1",
                "language": "sql"
            },
            "outputs": [],
            "execution_count": null
        },
        {
            "cell_type": "markdown",
            "source": [
                "**Proposition:**\n",
                "List non-null quantities of orders for each customer label by employee.\n",
                "\n",
                "**Tables Involved:**\n",
                "- `dbo.EmpCustOrders`\n",
                "- Inline table `C(custid, qty)`\n",
                "\n",
                "**Columns:**\n",
                "- `empid`\n",
                "- `custid`\n",
                "- `qty`\n",
                "\n",
                "**Predicate:**\n",
                "Cross apply `dbo.EmpCustOrders` with a table of values and filter out any rows where the quantity (`qty`) is NULL."
            ],
            "metadata": {
                "azdata_cell_guid": "5829a23b-1b4b-4fe3-84f1-fa0e918e96f1"
            },
            "attachments": {}
        },
        {
            "cell_type": "code",
            "source": [
                "---------------------------------------------------------------------\n",
                "-- Grouping Sets\n",
                "---------------------------------------------------------------------\n",
                "\n",
                "-- Four queries, each with a different grouping set (7)\n",
                "SELECT empid, custid, SUM(qty) AS sumqty\n",
                "FROM dbo.Orders\n",
                "GROUP BY empid, custid;"
            ],
            "metadata": {
                "azdata_cell_guid": "26694cd1-f96a-42b3-a1a2-e03fbf235fe0",
                "language": "sql"
            },
            "outputs": [],
            "execution_count": null
        },
        {
            "cell_type": "markdown",
            "source": [
                "**Proposition:**\n",
                "Transform and present the data in `dbo.EmpCustOrders` such that each row represents an employee-customer pair with the order quantity.\n",
                "\n",
                "**Tables Involved:**\n",
                "- `dbo.EmpCustOrders`\n",
                "\n",
                "**Columns:**\n",
                "- `empid`\n",
                "- `custid`\n",
                "- `qty`\n",
                "\n",
                "**Predicate:**\n",
                "Unpivot the quantity columns (A, B, C, D) for each customer into rows for `dbo.EmpCustOrders` while maintaining the association with `empid`.\n",
                ""
            ],
            "metadata": {
                "azdata_cell_guid": "ce62bb49-eb22-4228-8f20-bdb9a07ce595"
            },
            "attachments": {}
        },
        {
            "cell_type": "code",
            "source": [
                "SELECT empid, SUM(qty) AS sumqty\n",
                "FROM dbo.Orders\n",
                "GROUP BY empid;"
            ],
            "metadata": {
                "azdata_cell_guid": "66830bb6-317a-4399-b7dd-027313577a00",
                "language": "sql"
            },
            "outputs": [],
            "execution_count": null
        },
        {
            "cell_type": "markdown",
            "source": [
                "**Proposition:**\n",
                "Calculate the total quantities of orders made by each employee for each customer.\n",
                "\n",
                "**Tables Involved:**\n",
                "- `dbo.Orders`\n",
                "\n",
                "**Columns:**\n",
                "- `empid`\n",
                "- `custid`\n",
                "- `qty`\n",
                "\n",
                "**Predicate:**\n",
                "Group the order quantities by both employee and customer identifiers to sum up the quantities.\n",
                ""
            ],
            "metadata": {
                "azdata_cell_guid": "80af49a7-f5c4-4b7c-bf22-e459ab1c225a"
            },
            "attachments": {}
        },
        {
            "cell_type": "code",
            "source": [
                "SELECT custid, SUM(qty) AS sumqty\n",
                "FROM dbo.Orders\n",
                "GROUP BY custid;"
            ],
            "metadata": {
                "azdata_cell_guid": "f4789528-206f-4e35-a01e-7d44811f3a05",
                "language": "sql"
            },
            "outputs": [],
            "execution_count": null
        },
        {
            "cell_type": "markdown",
            "source": [
                "**Proposition:**\n",
                "Determine the total quantity of orders handled by each employee.\n",
                "\n",
                "**Tables Involved:**\n",
                "- `dbo.Orders`\n",
                "\n",
                "**Columns:**\n",
                "- `empid`\n",
                "- `qty`\n",
                "\n",
                "**Predicate:**\n",
                "Group the order quantities by employee identifier to calculate the total quantity.\n",
                ""
            ],
            "metadata": {
                "azdata_cell_guid": "911de398-625f-43a2-b165-001c21c35851"
            },
            "attachments": {}
        },
        {
            "cell_type": "code",
            "source": [
                "SELECT SUM(qty) AS sumqty\n",
                "FROM dbo.Orders;"
            ],
            "metadata": {
                "azdata_cell_guid": "172dfe3f-f48e-4f8c-aef8-fbc2b36031c4",
                "language": "sql"
            },
            "outputs": [],
            "execution_count": null
        },
        {
            "cell_type": "markdown",
            "source": [
                "**Proposition:**\n",
                "Find out the total order quantities for each customer.\n",
                "\n",
                "**Tables Involved:**\n",
                "- `dbo.Orders`\n",
                "\n",
                "**Columns:**\n",
                "- `custid`\n",
                "- `qty`\n",
                "\n",
                "**Predicate:**\n",
                "Group the order quantities by customer identifier to sum up the quantities.\n",
                ""
            ],
            "metadata": {
                "azdata_cell_guid": "6fd2b46f-ab06-4af3-977a-e61df38b1725"
            },
            "attachments": {}
        }
    ]
}
