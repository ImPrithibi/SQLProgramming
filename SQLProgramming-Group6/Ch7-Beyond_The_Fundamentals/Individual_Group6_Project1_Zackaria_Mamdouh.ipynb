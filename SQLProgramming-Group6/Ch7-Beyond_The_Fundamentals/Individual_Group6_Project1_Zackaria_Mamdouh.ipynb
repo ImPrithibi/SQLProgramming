{
    "metadata": {
        "kernelspec": {
            "name": "SQL",
            "display_name": "SQL",
            "language": "sql"
        },
        "language_info": {
            "name": "sql",
            "version": ""
        }
    },
    "nbformat_minor": 2,
    "nbformat": 4,
    "cells": [
        {
            "cell_type": "markdown",
            "source": [
                "**Zackaria Mamdouh | Group 6 | Project 1**\n",
                "\n",
                "_Written in collaboration with ChatGPT from OpenAI to improve understanding, assist with the explanation of the query, and enhance formatting and display of the queries._\n",
                "\n",
                "**Complex Queries (from Pokemon Databases)**"
            ],
            "metadata": {
                "azdata_cell_guid": "f781322c-72c8-4ae5-ad4b-66a1d9e7f07b"
            },
            "attachments": {}
        },
        {
            "cell_type": "markdown",
            "source": [
                "**Query 1**\n",
                "\n",
                "**Proposition**: The goal of this query is to compare the average Hit Points (HP), Attack, and Defense statistics for Pokémon across the first three generations.\n",
                "\n",
                "**Tables**\n",
                "\n",
                "The query involves three tables from a Pokémon database, one for each of the first three generations. Each table contains various statistics about Pokémon:\n",
                "\n",
                "- `PokemonGen1.dbo.PokemonGen1`\n",
                "- `PokemonGen2.dbo.PokemonGen2`\n",
                "- `PokemonGen3.dbo.PokemonGen3`\n",
                "\n",
                "**Columns**\n",
                "\n",
                "The columns involved from each table are:\n",
                "\n",
                "- `HP` (Hit Points)\n",
                "- `Attack`\n",
                "- `Defense`\n",
                "\n",
                "**Predicate** \n",
                "\n",
                "For each generation's table, the query:\n",
                "\n",
                "1. Calculates the average `HP`, `Attack`, and `Defense` values.\n",
                "2. Labels the calculated averages with the respective generation name.\n",
                "\n",
                "**Combined Statistics**\n",
                "\n",
                "A Common Table Expression (CTE) named `CombinedStats` is used to unify the averages from all three tables. The final output of the query retrieves the generation and their corresponding average statistics for `HP`, `Attack`, and `Defense`.\n",
                "\n",
                "The `UNION ALL` operator is used to combine the selections from the different generations into a single result set, which is then used to display the overall comparison."
            ],
            "metadata": {
                "azdata_cell_guid": "100ecf47-27b1-4fc7-b67d-2316639a2ae7"
            },
            "attachments": {}
        },
        {
            "cell_type": "code",
            "source": [
                "--QUERY 1-- This query combines and compares the average HP, Attack, and Defense stats across the three Pokémon generations.\n",
                "\n",
                "WITH CombinedStats AS (\n",
                "    -- Selects the average HP, Attack, and Defense stats from Generation 1\n",
                "    SELECT 'Gen1' AS Generation, AVG(HP) AS AvgHP, AVG(Attack) AS AvgAttack, AVG(Defense) AS AvgDefense\n",
                "    FROM PokemonGen1.dbo.PokemonGen1\n",
                "    UNION ALL\n",
                "    -- Selects the average HP, Attack, and Defense stats from Generation 2\n",
                "    SELECT 'Gen2', AVG(HP), AVG(Attack), AVG(Defense)\n",
                "    FROM PokemonGen2.dbo.PokemonGen2\n",
                "    UNION ALL\n",
                "    -- Selects the average HP, Attack, and Defense stats from Generation 3\n",
                "    SELECT 'Gen3', AVG(HP), AVG(Attack), AVG(Defense)\n",
                "    FROM PokemonGen3.dbo.PokemonGen3\n",
                ")\n",
                "-- The final SELECT fetches the combined average stats for each generation\n",
                "SELECT Generation, AvgHP, AvgAttack, AvgDefense\n",
                "FROM CombinedStats;"
            ],
            "metadata": {
                "azdata_cell_guid": "cfce189b-9ebb-496d-a959-017ff8622ede",
                "language": "sql",
                "tags": []
            },
            "outputs": [
                {
                    "output_type": "error",
                    "ename": "",
                    "evalue": "Msg 208, Level 16, State 1, Line 3\nInvalid object name 'PokemonGen1.dbo.PokemonGen1'.",
                    "traceback": []
                },
                {
                    "output_type": "display_data",
                    "data": {
                        "text/html": "Total execution time: 00:00:00.008"
                    },
                    "metadata": {}
                }
            ],
            "execution_count": 30
        },
        {
            "cell_type": "markdown",
            "source": [
                "**Query 2**\n",
                "\n",
                "**Proposition**\n",
                "The aim of this query is to identify the most frequently occurring Pokémon type from the combined data of the first three generations.\n",
                "\n",
                "**Tables**\n",
                "This query involves three tables from a Pokémon database, each representing a different generation of Pokémon. The relevant tables and columns are:\n",
                "\n",
                "- `PokemonGen1.dbo.PokemonGen1`\n",
                "- `PokemonGen2.dbo.PokemonGen2`\n",
                "- `PokemonGen3.dbo.PokemonGen3`\n",
                "\n",
                "**Columns**\n",
                "\n",
                "Each table includes two columns for Pokémon types:\n",
                "- `Type1`\n",
                "- `Type2`\n",
                "\n",
                "**Predicate** \n",
                "The query performs the following actions:\n",
                "1. Selects all non-null instances of `Type1` and `Type2` from the `PokemonGen1` table.\n",
                "2. Repeats the selection for `Type1` and `Type2` from the `PokemonGen2` and `PokemonGen3` tables.\n",
                "3. Uses the `UNION ALL` operator to combine these results into a single dataset.\n",
                "\n",
                "**Determining the Most Common Type**\n",
                "A subquery named `CombinedTypes` is created to hold the unified list of all types. The query then:\n",
                "- Groups the results by `Type`.\n",
                "- Counts the occurrences of each type.\n",
                "- Orders the grouped count in descending order.\n",
                "\n",
                "The `SELECT TOP 1` statement is used to retrieve only the most common type out of the dataset."
            ],
            "metadata": {
                "azdata_cell_guid": "99831e9a-93d4-4c89-8d4c-418b96d6530b"
            },
            "attachments": {}
        },
        {
            "cell_type": "code",
            "source": [
                "-- --QUERY 2 --  This query finds the most common Pokémon type across all three generations.\n",
                "\n",
                "SELECT TOP 1 Type, COUNT(*) AS TypeCount\n",
                "FROM (\n",
                "    -- Include all 'Type1' from Gen1\n",
                "    SELECT Type1 AS Type FROM PokemonGen1.dbo.PokemonGen1 WHERE Type1 IS NOT NULL\n",
                "    UNION ALL\n",
                "    -- Include all 'Type2' from Gen1\n",
                "    SELECT Type2 AS Type FROM PokemonGen1.dbo.PokemonGen1 WHERE Type2 IS NOT NULL\n",
                "    UNION ALL\n",
                "    -- Include all 'Type1' from Gen2\n",
                "    SELECT Type1 AS Type FROM PokemonGen2.dbo.PokemonGen2 WHERE Type1 IS NOT NULL\n",
                "    UNION ALL\n",
                "    -- Include all 'Type2' from Gen2\n",
                "    SELECT Type2 AS Type FROM PokemonGen2.dbo.PokemonGen2 WHERE Type2 IS NOT NULL\n",
                "    UNION ALL\n",
                "    -- Include all 'Type1' from Gen3\n",
                "    SELECT Type1 AS Type FROM PokemonGen3.dbo.PokemonGen3 WHERE Type1 IS NOT NULL\n",
                "    UNION ALL\n",
                "    -- Include all 'Type2' from Gen3\n",
                "    SELECT Type2 AS Type FROM PokemonGen3.dbo.PokemonGen3 WHERE Type2 IS NOT NULL\n",
                ") AS CombinedTypes\n",
                "GROUP BY Type\n",
                "ORDER BY TypeCount DESC;"
            ],
            "metadata": {
                "azdata_cell_guid": "787b5209-f0e2-4ba5-9bb3-dd8482392287",
                "language": "sql",
                "tags": []
            },
            "outputs": [],
            "execution_count": null
        },
        {
            "cell_type": "markdown",
            "source": [
                "**Query 3**\n",
                "\n",
                "**Proposition**:This query is designed to determine which Pokémon has the highest aggregate statistics, known as total stats (the sum of HP, Attack, Defense, SpecialAttack, SpecialDefense, and Speed), comparing across the first three generations of Pokémon.\n",
                "\n",
                "**Tables** The query accesses three separate tables within a Pokémon database, with each table representing a different generation of Pokémon:\n",
                "\n",
                "- `PokemonGen1.dbo.PokemonGen1`\n",
                "- `PokemonGen2.dbo.PokemonGen2`\n",
                "- `PokemonGen3.dbo.PokemonGen3`\n",
                "\n",
                "**Columns**\n",
                "\n",
                "From each table, it utilizes the following columns:\n",
                "\n",
                "- `Name` (the name of the Pokémon)\n",
                "- `HP` (Hit Points)\n",
                "- `Attack`\n",
                "- `Defense`\n",
                "- `SpecialAttack`\n",
                "- `SpecialDefense`\n",
                "- `Speed`\n",
                "\n",
                "**Predicate** The logic of the query executes these steps:\n",
                "\n",
                "1. For each Pokémon in the `PokemonGen1` table, it computes the total of the aforementioned stats and assigns a label 'Gen1'.\n",
                "2. It repeats the calculation for `PokemonGen2` and `PokemonGen3`, labeling the results 'Gen2' and 'Gen3', respectively.\n",
                "3. It unifies the results from all three generations using `UNION ALL`.\n",
                "\n",
                "**Aggregate and Grouping** The query then performs an aggregation to:\n",
                "\n",
                "- Group the results by each Pokémon's name and generation, ensuring the max total is calculated within these groups.\n",
                "- Use the `MAX` function to find the highest total stats for Pokémon within the same name and generation grouping."
            ],
            "metadata": {
                "azdata_cell_guid": "f292ee7c-6e8a-4c71-96c4-2894c1261497"
            },
            "attachments": {}
        },
        {
            "cell_type": "code",
            "source": [
                "--QUERY 3 -- This query identifies the Pokémon with the highest total stats (sum of all individual stats) across all generations.\n",
                "\n",
                "SELECT MAX(CombinedTotal.Total) AS MaxStat, CombinedTotal.Name, CombinedTotal.Generation\n",
                "FROM (\n",
                "    -- This subquery calculates the total stats for each Pokémon in Generation 1 and labels them 'Gen1'.\n",
                "    SELECT Name, (HP + Attack + Defense + SpecialAttack + SpecialDefense + Speed) AS Total, 'Gen1' AS Generation FROM PokemonGen1.dbo.PokemonGen1\n",
                "    UNION ALL\n",
                "    -- Similarly, it calculates the total stats for each Pokémon in Generation 2 and labels them 'Gen2'.\n",
                "    SELECT Name, (HP + Attack + Defense + SpecialAttack + SpecialDefense + Speed), 'Gen2' FROM PokemonGen2.dbo.PokemonGen2\n",
                "    UNION ALL\n",
                "    -- And does the same for Generation 3, labeling them 'Gen3'.\n",
                "    SELECT Name, (HP + Attack + Defense + SpecialAttack + SpecialDefense + Speed), 'Gen3' FROM PokemonGen3.dbo.PokemonGen3\n",
                ") AS CombinedTotal\n",
                "-- Grouping the results by Pokémon name and generation.\n",
                "GROUP BY CombinedTotal.Name, CombinedTotal.Generation;"
            ],
            "metadata": {
                "azdata_cell_guid": "6665b26b-0a3b-4807-b604-183ff01d616f",
                "language": "sql",
                "tags": [
                    "hide_input"
                ]
            },
            "outputs": [],
            "execution_count": null
        },
        {
            "cell_type": "markdown",
            "source": [
                "**Query 4** \n",
                "\n",
                "**Proposition**: This query is structured to analyze the average Speed of Pokémon, distinguishing between those with a single type (Single) and those with two types (Dual), across three generations.\n",
                "\n",
                "**Tables**\n",
                "The data is sourced from three different tables in the Pokémon database, each corresponding to a distinct generation of Pokémon:\n",
                "\n",
                "- `PokemonGen1.dbo.PokemonGen1`\n",
                "- `PokemonGen2.dbo.PokemonGen2`\n",
                "- `PokemonGen3.dbo.PokemonGen3`\n",
                "\n",
                "**Columns**\n",
                "\n",
                "The columns assessed from these tables are:\n",
                "- `Speed` (a statistic of the Pokémon)\n",
                "- `Type2` (the second type of the Pokémon, if present)\n",
                "\n",
                "**Predicate**\n",
                "The query executes the following operations:\n",
                "1. Constructs a case classification within a subquery for each Pokémon in the `PokemonGen1` table to determine if the Pokémon is Single or Dual-typed based on the presence or absence of `Type2`.\n",
                "2. It replicates this classification for `PokemonGen2` and `PokemonGen3`.\n",
                "3. All three selections are unified using `UNION ALL` to include all generations in a common format.\n",
                "\n",
                "**Calculating Average Speed**\n",
                "Post-unification, the query:\n",
                "- Groups the data by `Generation` and `TypeCategory`.\n",
                "- Calculates the average `Speed` for each group using the `AVG` function."
            ],
            "metadata": {
                "azdata_cell_guid": "ec934438-d42e-4c38-bd8c-0a4c7082285f"
            },
            "attachments": {}
        },
        {
            "cell_type": "code",
            "source": [
                "-- QUERY 4 --  This query calculates the average speed of Pokémon based on their type classification (Single or Dual) for each generation.\n",
                "\n",
                "SELECT Generation, TypeCategory, AVG(Speed) AS AverageSpeed\n",
                "FROM (\n",
                "    -- Create a subquery that selects generation, type category, and speed for Gen1 Pokémon\n",
                "    SELECT 'Gen1' AS Generation, \n",
                "           CASE WHEN Type2 IS NOT NULL THEN 'Dual' ELSE 'Single' END AS TypeCategory, \n",
                "           Speed \n",
                "    FROM PokemonGen1.dbo.PokemonGen1\n",
                "    UNION ALL\n",
                "    -- Repeat the same selection for Gen2 Pokémon, classifying type category based on the presence of Type2\n",
                "    SELECT 'Gen2', \n",
                "           CASE WHEN Type2 IS NOT NULL THEN 'Dual' ELSE 'Single' END, \n",
                "           Speed \n",
                "    FROM PokemonGen2.dbo.PokemonGen2\n",
                "    UNION ALL\n",
                "    -- Repeat the selection for Gen3 Pokémon, continuing the type category classification\n",
                "    SELECT 'Gen3', \n",
                "           CASE WHEN Type2 IS NOT NULL THEN 'Dual' ELSE 'Single' END, \n",
                "           Speed \n",
                "    FROM PokemonGen3.dbo.PokemonGen3\n",
                ") AS CombinedTypes\n",
                "-- Group the results by generation and type category\n",
                "GROUP BY Generation, TypeCategory;"
            ],
            "metadata": {
                "azdata_cell_guid": "95285588-f100-473a-a31a-3e06dc856c0e",
                "language": "sql",
                "tags": [
                    "hide_input"
                ]
            },
            "outputs": [],
            "execution_count": null
        },
        {
            "cell_type": "markdown",
            "source": [
                "**Query 5**\n",
                "\n",
                "**Proposition**: This query aims to count the number of legendary Pokémon in each generation, identifying them by the presence of the 'Pressure' ability, which is considered characteristic of legendary Pokémon.\n",
                "\n",
                "**Tables**\n",
                "The query accesses data from three tables within a Pokémon database, each corresponding to a different generation:\n",
                "\n",
                "- `PokemonGen1.dbo.PokemonGen1`\n",
                "- `PokemonGen2.dbo.PokemonGen2`\n",
                "- `PokemonGen3.dbo.PokemonGen3`\n",
                "\n",
                "**Columns**\n",
                "\n",
                "Columns involved in the query are:\n",
                "- `Name` (the name of the Pokémon)\n",
                "- `Ability1`, `Ability2`, `Ability3` (different abilities a Pokémon may have)\n",
                "\n",
                "**Predicate** \n",
                "The query consists of the following steps:\n",
                "1. Selects Pokémon from the `PokemonGen1` table that have the 'Pressure' ability in any of their ability slots.\n",
                "2. Applies the same selection criteria to the `PokemonGen2` and `PokemonGen3` tables.\n",
                "3. Combines the results from all three generations using `UNION ALL`, forming a unified dataset of legendary Pokémon across generations.\n",
                "\n",
                "**Counting Legendary Pokémon**\n",
                "In the final stage, the query:\n",
                "- Groups the collected data by `Generation`.\n",
                "- Uses the `COUNT` function to determine the total number of legendary Pokémon for each generation.\n",
                "\n",
                "**Purpose**\n",
                "The outcome of this query provides insight into the distribution of legendary Pokémon, denoted by the 'Pressure' ability, across the first three generations of the Pokémon series."
            ],
            "metadata": {
                "azdata_cell_guid": "1b41a545-ab50-404a-8bc9-4ea4fe077c90"
            },
            "attachments": {}
        },
        {
            "cell_type": "code",
            "source": [
                "-- QUERY 5 --  This query calculates the number of legendary Pokémon in each generation by searching for the 'Pressure ability that is exclusive to legendary Pokemon.\n",
                "SELECT Generation, COUNT(*) AS LegendaryCount\n",
                "FROM (\n",
                "    -- Selects all Pokémon from Generation 1 that have the 'Pressure' ability, which is assumed to be a marker of legendary Pokémon.\n",
                "    SELECT 'Gen1' AS Generation, Name \n",
                "    FROM PokemonGen1.dbo.PokemonGen1 \n",
                "    WHERE Ability1 = 'Pressure' OR Ability2 = 'Pressure' OR Ability3 = 'Pressure'\n",
                "    UNION ALL\n",
                "    -- Selects all Pokémon from Generation 2 with the 'Pressure' ability.\n",
                "    SELECT 'Gen2', Name \n",
                "    FROM PokemonGen2.dbo.PokemonGen2 \n",
                "    WHERE Ability1 = 'Pressure' OR Ability2 = 'Pressure' OR Ability3 = 'Pressure'\n",
                "    UNION ALL\n",
                "    -- Selects all Pokémon from Generation 3 with the 'Pressure' ability.\n",
                "    SELECT 'Gen3', Name \n",
                "    FROM PokemonGen3.dbo.PokemonGen3\n",
                "    WHERE Ability1 = 'Pressure' OR Ability2 = 'Pressure' OR Ability3 = 'Pressure'\n",
                ") AS LegendaryPokemons -- The subquery results are aliased as LegendaryPokemons.\n",
                "GROUP BY Generation -- Groups the results by generation to prepare for the count.\n",
                "-- The count function is used to count the number of legendary Pokémon in each group."
            ],
            "metadata": {
                "azdata_cell_guid": "a2a618d0-4cee-42d2-912d-548d0ffbdd37",
                "language": "sql",
                "tags": [
                    "hide_input"
                ]
            },
            "outputs": [],
            "execution_count": null
        },
        {
            "cell_type": "markdown",
            "source": [
                "**Query 6**\n",
                "\n",
                "**Proposition**: This query aims to list Pokémon from all generations, ordered by their Defense to Attack ratio in descending order, to understand how defensive each Pokémon is relative to its offensive capabilities.\n",
                "\n",
                "**Tables**\n",
                "The query utilizes data from three tables within a Pokémon database, corresponding to different Pokémon generations:\n",
                "\n",
                "- `PokemonGen1.dbo.PokemonGen1`\n",
                "- `PokemonGen2.dbo.PokemonGen2`\n",
                "- `PokemonGen3.dbo.PokemonGen3`\n",
                "\n",
                "**Columns**\n",
                "\n",
                "The columns used from these tables are:\n",
                "- `Name` (the Pokémon's name)\n",
                "- `Defense` (the Pokémon's defense statistic)\n",
                "- `Attack` (the Pokémon's attack statistic)\n",
                "\n",
                "**Predicate** \n",
                "The query executes the following steps:\n",
                "1. In a subquery, it selects the `Name`, `Defense`, and `Attack` stats from the `PokemonGen1` table and labels the generation as 'Gen1'.\n",
                "2. It repeats this selection for `PokemonGen2` and `PokemonGen3`, labeling the results 'Gen2' and 'Gen3', respectively.\n",
                "3. The results from all three generations are combined into a single dataset using `UNION ALL`.\n",
                "\n",
                "**Calculating Defense to Attack Ratio**\n",
                "In the main query:\n",
                "- It creates a new column `DefenseAttackRatio` by dividing the `Defense` stat by the `Attack` stat for each Pokémon. The division is cast to FLOAT to ensure an accurate decimal ratio.\n",
                "- The final results are then ordered by this ratio in descending order (`ORDER BY DefenseAttackRatio DESC`), so Pokémon with higher defensive capabilities relative to their attack are listed first."
            ],
            "metadata": {
                "azdata_cell_guid": "78c9a375-9ac5-43cc-b568-e562328fcc5d"
            },
            "attachments": {}
        },
        {
            "cell_type": "code",
            "source": [
                "--QUERY 6 --  This query lists the Pokémon from all generations ordered by their Defense to Attack ratio in descending order.\n",
                "\n",
                "-- Create a virtual table that combines the Name, Defense, and Attack stats for all Pokémon across generations.\n",
                "SELECT Generation, Name, Defense, Attack, CAST(Defense AS FLOAT) / Attack AS DefenseAttackRatio\n",
                "FROM (\n",
                "    -- Select Name, Defense, and Attack stats from Generation 1 Pokémon.\n",
                "    SELECT 'Gen1' AS Generation, Name, Defense, Attack FROM PokemonGen1.dbo.PokemonGen1\n",
                "    UNION ALL\n",
                "    -- Repeat the selection for Generation 2.\n",
                "    SELECT 'Gen2', Name, Defense, Attack FROM PokemonGen2.dbo.PokemonGen2\n",
                "    UNION ALL\n",
                "    -- Repeat the selection for Generation 3.\n",
                "    SELECT 'Gen3', Name, Defense, Attack FROM PokemonGen3.dbo.PokemonGen3\n",
                ") AS CombinedStats\n",
                "-- Order the results by the Defense to Attack ratio, from highest to lowest.\n",
                "ORDER BY DefenseAttackRatio DESC;"
            ],
            "metadata": {
                "azdata_cell_guid": "f97ae2af-bc64-42f6-a01e-1eaafd43f059",
                "language": "sql",
                "tags": [
                    "hide_input"
                ]
            },
            "outputs": [],
            "execution_count": null
        },
        {
            "cell_type": "markdown",
            "source": [
                "**Query 7**\n",
                "\n",
                "**Proposition**: This query aims to list Pokémon from all generations, ordered by their Defense to Attack ratio in descending order, to understand how defensive each Pokémon is relative to its offensive capabilities.\n",
                "\n",
                "**Tables**\n",
                "The query utilizes data from three tables within a Pokémon database, corresponding to different Pokémon generations:\n",
                "- `PokemonGen1.dbo.PokemonGen1`\n",
                "- `PokemonGen2.dbo.PokemonGen2`\n",
                "- `PokemonGen3.dbo.PokemonGen3`\n",
                "\n",
                "**Columns**\n",
                "\n",
                "The columns used from these tables are:\n",
                "- `Name` (the Pokémon's name)\n",
                "- `Defense` (the Pokémon's defense statistic)\n",
                "- `Attack` (the Pokémon's attack statistic)\n",
                "\n",
                "**Predicate** \n",
                "The query executes the following steps:\n",
                "1. In a subquery, it selects the `Name`, `Defense`, and `Attack` stats from the `PokemonGen1` table and labels the generation as 'Gen1'.\n",
                "2. It repeats this selection for `PokemonGen2` and `PokemonGen3`, labeling the results 'Gen2' and 'Gen3', respectively.\n",
                "3. The results from all three generations are combined into a single dataset using `UNION ALL`.\n",
                "\n",
                "**Calculating Defense to Attack Ratio**\n",
                "In the main query:\n",
                "- It creates a new column `DefenseAttackRatio` by dividing the `Defense` stat by the `Attack` stat for each Pokémon. The division is cast to `FLOAT` to ensure an accurate decimal ratio.\n",
                "- The final results are then ordered by this ratio in descending order (`ORDER BY DefenseAttackRatio DESC`), so Pokémon with higher defensive capabilities relative to their attack are listed first.\n"
            ],
            "metadata": {
                "azdata_cell_guid": "6bc70d87-c9cb-47ba-9d75-4867a2746aff"
            },
            "attachments": {}
        },
        {
            "cell_type": "code",
            "source": [
                "--QUERY 7 -- Query to find the top 5 Pokémon with the highest average combined Defense and Special Defense across all generations.\n",
                "\n",
                "SELECT TOP 5 Name, MainType, AVG(Defense + SpecialDefense) as AverageDefense\n",
                "FROM (\n",
                "    -- Combining Pokémon data from Generation 1. Selecting Name, primary Type, Defense, and SpecialDefense.\n",
                "    SELECT Name, Type1 as MainType, Defense, SpecialDefense FROM PokemonGen1.dbo.PokemonGen1\n",
                "    UNION ALL\n",
                "    -- Repeating the process for Generation 2 Pokémon.\n",
                "    SELECT Name, Type1, Defense, SpecialDefense FROM PokemonGen2.dbo.PokemonGen2\n",
                "    UNION ALL\n",
                "    -- Repeating the process for Generation 3 Pokémon.\n",
                "    SELECT Name, Type1, Defense, SpecialDefense FROM PokemonGen3.dbo.PokemonGen3\n",
                ") AS CombinedPokemons\n",
                "-- Grouping the results by Pokémon Name and their primary Type.\n",
                "GROUP BY Name, MainType\n",
                "-- Ordering the Pokémon based on their average combined Defense and SpecialDefense in descending order.\n",
                "ORDER BY AverageDefense DESC;\n"
            ],
            "metadata": {
                "azdata_cell_guid": "f8dcaadc-18bb-41dd-acb9-0774cebe74f9",
                "language": "sql",
                "tags": [
                    "hide_input"
                ]
            },
            "outputs": [],
            "execution_count": null
        },
        {
            "cell_type": "markdown",
            "source": [
                "**Below this line is the 13 medium queries using Northwinds and AdventureWorks**\n",
                "\n",
                "**\\-------------------------------------------------------------------------------------------------**"
            ],
            "metadata": {
                "azdata_cell_guid": "81b73da6-618b-4966-b7e1-576d6097e751"
            },
            "attachments": {}
        },
        {
            "cell_type": "markdown",
            "source": [
                "**SQL Query Analysis 1**\n",
                "\n",
                "**Proposition**\n",
                "This query aims to identify customers with total sales over $1000 from the AdventureWorks2017 database. It's designed to calculate the total sales per customer and display the names of those whose total sales exceed this amount, sorted in descending order of their sales value.\n",
                "\n",
                "**Tables**\n",
                "The query utilizes data from the following tables in the AdventureWorks2017 database:\n",
                "\n",
                "1. `AdventureWorks2017.Sales.SalesOrderHeader` (aliased as SOH)\n",
                "2. `AdventureWorks2017.Sales.SalesOrderDetail` (aliased as SOD)\n",
                "3. `AdventureWorks2017.Person.Person` (aliased as P)\n",
                "\n",
                "**Columns**\n",
                "The columns involved in this query are:\n",
                "\n",
                "- From `SalesOrderHeader`:\n",
                "  - `CustomerID`\n",
                "  - `SalesOrderID`\n",
                "\n",
                "- From `SalesOrderDetail`:\n",
                "  - `LineTotal`\n",
                "  - `SalesOrderID`\n",
                "\n",
                "- From `Person`:\n",
                "  - `FirstName`\n",
                "  - `LastName`\n",
                "  - `BusinessEntityID`\n",
                "\n",
                "**Common Table Expression (CTE)**\n",
                "- Named `CustomerSalesCTE`.\n",
                "- It selects:\n",
                "  - `CustomerID` from `SalesOrderHeader`.\n",
                "  - Sums up `LineTotal` from `SalesOrderDetail` as `TotalSales`.\n",
                "- Involves a JOIN between `SalesOrderHeader` and `SalesOrderDetail` on `SalesOrderID`.\n",
                "- Groups the results by `CustomerID`.\n",
                "\n",
                "**Main Query**\n",
                "- Selects:\n",
                "  - Customer name by concatenating `FirstName` and `LastName` from `Person` table as `CustomerName`.\n",
                "  - `TotalSales` from the CTE.\n",
                "- Involves a JOIN between `Person` and the CTE on `BusinessEntityID` = `CustomerID`.\n",
                "- Filters to include only those records where `TotalSales` is greater than $1000.\n",
                "- Orders the result by `TotalSales` in descending order.\n",
                "\n",
                "**Objective**\n",
                "To provide a list of customers who have made significant purchases (over $1000) along with the total value of their purchases, ranked from highest to lowest spender.\n",
                ""
            ],
            "metadata": {
                "language": "sql",
                "azdata_cell_guid": "6014f5c1-d35e-4ab6-a677-fb57080ae974"
            },
            "attachments": {}
        },
        {
            "cell_type": "code",
            "source": [
                "WITH CustomerSalesCTE AS (\n",
                "    SELECT \n",
                "        SOH.CustomerID, \n",
                "        SUM(SOD.LineTotal) AS TotalSales\n",
                "    FROM \n",
                "        AdventureWorks2017.Sales.SalesOrderHeader SOH\n",
                "        JOIN AdventureWorks2017.Sales.SalesOrderDetail SOD \n",
                "        ON SOH.SalesOrderID = SOD.SalesOrderID\n",
                "    GROUP BY SOH.CustomerID\n",
                ")\n",
                "SELECT \n",
                "    P.FirstName + ' ' + P.LastName AS CustomerName, \n",
                "    CS.TotalSales\n",
                "FROM \n",
                "    AdventureWorks2017.Person.Person P\n",
                "    JOIN CustomerSalesCTE CS \n",
                "    ON P.BusinessEntityID = CS.CustomerID\n",
                "WHERE \n",
                "    CS.TotalSales > 1000\n",
                "ORDER BY \n",
                "    CS.TotalSales DESC;\n",
                ""
            ],
            "metadata": {
                "azdata_cell_guid": "c0a6b81b-6009-4f10-9769-91f1a57b6845",
                "language": "sql",
                "tags": [
                    "hide_input"
                ]
            },
            "outputs": [],
            "execution_count": null
        },
        {
            "cell_type": "markdown",
            "source": [
                "**SQL Query Analysis 2**\n",
                "\n",
                "**Proposition**\n",
                "This query aims to identify the top 10 products in terms of sales volume and total quantity sold from the AdventureWorks2017 database. The focus is on products whose total sales exceed the average line total across all products.\n",
                "\n",
                "**Table**\n",
                "The query utilizes data from:\n",
                "- `AdventureWorks2017.Sales.SalesOrderDetail`\n",
                "\n",
                "**Columns**\n",
                "The columns involved in this query are:\n",
                "- **`ProductID`**: Identifier for each product.\n",
                "- **`OrderQty`**: The quantity of the product ordered.\n",
                "- **`LineTotal`**: The total sales value for each line item.\n",
                "\n",
                "**Query Structure**\n",
                "- **Selection**: Retrieves the top 10 records based on total sales.\n",
                "- **Aggregation**:\n",
                "  - Calculates **`TotalQuantity`** as the sum of `OrderQty`.\n",
                "  - Calculates **`TotalSales`** as the sum of `LineTotal`.\n",
                "- **Grouping**: Groups the results by `ProductID`.\n",
                "- **Condition**: Includes only those products where the sum of `LineTotal` is greater than the average `LineTotal` across all products.\n",
                "  - This condition is implemented using a subquery that calculates the average `LineTotal`.\n",
                "- **Ordering**: Orders the results by `TotalSales` in descending order.\n",
                "\n",
                "**Objective**\n",
                "The query is designed to identify top-performing products, highlighting those with significant sales achievements above the average. This analysis is crucial for understanding product performance and guiding inventory and marketing strategies.\n",
                ""
            ],
            "metadata": {
                "language": "sql",
                "azdata_cell_guid": "d99390f0-000b-4543-b4f1-95fe059cb869"
            },
            "attachments": {}
        },
        {
            "cell_type": "code",
            "source": [
                "SELECT \n",
                "    TOP 10 \n",
                "    ProductID, \n",
                "    TotalQuantity = SUM(OrderQty), \n",
                "    TotalSales = SUM(LineTotal)\n",
                "FROM \n",
                "    AdventureWorks2017.Sales.SalesOrderDetail\n",
                "GROUP BY \n",
                "    ProductID\n",
                "HAVING \n",
                "    SUM(LineTotal) > (SELECT AVG(LineTotal) FROM AdventureWorks2017.Sales.SalesOrderDetail)\n",
                "ORDER BY \n",
                "    TotalSales DESC;"
            ],
            "metadata": {
                "azdata_cell_guid": "5db0dbae-f522-49c6-bf9d-e971a32c751d",
                "language": "sql",
                "tags": [
                    "hide_input"
                ]
            },
            "outputs": [],
            "execution_count": null
        },
        {
            "cell_type": "markdown",
            "source": [
                "**SQL Query Analysis 3**\n",
                "\n",
                "**Proposition**\n",
                "This query aims to analyze sales data by region in the AdventureWorks2017 database. It calculates the total and average sales values for each sales territory.\n",
                "\n",
                "**Tables**\n",
                "The query involves the following tables:\n",
                "1. `AdventureWorks2017.Sales.SalesOrderHeader` (aliased as SOH)\n",
                "2. `AdventureWorks2017.Sales.SalesTerritory` (aliased as ST)\n",
                "\n",
                "**Columns**\n",
                "Key columns used in this query are:\n",
                "- From `SalesOrderHeader`:\n",
                "  - `SubTotal`\n",
                "  - `TerritoryID`\n",
                "- From `SalesTerritory`:\n",
                "  - `Name`\n",
                "  - `TerritoryID`\n",
                "\n",
                "**Join**\n",
                "- An INNER JOIN connects SOH and ST based on `TerritoryID`.\n",
                "\n",
                "**Grouping and Aggregation**\n",
                "- The query groups the data by `Name` (sales region) from the ST table.\n",
                "- It computes two aggregated values:\n",
                "  - `TotalSales`: the sum of `SubTotal` from SOH for each group.\n",
                "  - `AverageOrderValue`: the average of `SubTotal` for each group.\n",
                "\n",
                "**Objective**\n",
                "To provide a summary of sales performance by region, highlighting both the total and average sales for each territory. This analysis is key for understanding regional market trends and sales efficiency.\n",
                ""
            ],
            "metadata": {
                "language": "sql",
                "azdata_cell_guid": "b43ca229-e423-49a7-9abf-d6f148e81a62"
            },
            "attachments": {}
        },
        {
            "cell_type": "code",
            "source": [
                "SELECT \n",
                "    SalesRegion = ST.Name, \n",
                "    TotalSales = SUM(SOH.SubTotal), \n",
                "    AverageOrderValue = AVG(SOH.SubTotal)\n",
                "FROM \n",
                "    AdventureWorks2017.Sales.SalesOrderHeader SOH\n",
                "    INNER JOIN AdventureWorks2017.Sales.SalesTerritory ST \n",
                "    ON SOH.TerritoryID = ST.TerritoryID\n",
                "GROUP BY \n",
                "    ST.Name;"
            ],
            "metadata": {
                "azdata_cell_guid": "b38a73f7-abf4-4cde-9efc-463064b1202c",
                "language": "sql",
                "tags": [
                    "hide_input"
                ]
            },
            "outputs": [],
            "execution_count": null
        },
        {
            "cell_type": "markdown",
            "source": [
                "**SQL Query Analysis 4**\n",
                "\n",
                "**Proposition**\n",
                "This query focuses on analyzing discounted sales transactions in the AdventureWorks2017 database. It retrieves detailed information about each sale that had a discount applied, including the discount amount calculated.\n",
                "\n",
                "**Tables**\n",
                "The query involves data from two tables:\n",
                "1. `AdventureWorks2017.Sales.SalesOrderHeader` (abbreviated as SOH)\n",
                "2. `AdventureWorks2017.Sales.SalesOrderDetail` (abbreviated as SOD)\n",
                "\n",
                "**Columns**\n",
                "The selected columns in this query are:\n",
                "- From `SalesOrderHeader`:\n",
                "  - `SalesOrderID`\n",
                "  - `OrderDate`\n",
                "- From `SalesOrderDetail`:\n",
                "  - `ProductID`\n",
                "  - `OrderQty`\n",
                "  - `UnitPrice`\n",
                "  - `UnitPriceDiscount`\n",
                "\n",
                "**Calculated Column**\n",
                "- `DiscountAmount`: A new column calculated as `SOD.OrderQty * SOD.UnitPrice * SOD.UnitPriceDiscount`.\n",
                "\n",
                "**Join**\n",
                "- An INNER JOIN is used to combine SOH and SOD on the common column `SalesOrderID`.\n",
                "\n",
                "**Filter**\n",
                "- The `WHERE` clause filters the data to include only those transactions where `SOD.UnitPriceDiscount` is greater than 0, indicating a discount was applied.\n",
                "\n",
                "**Ordering**\n",
                "- The results are ordered by `DiscountAmount` in descending order.\n",
                "\n",
                "**Objective**\n",
                "The goal of this query is to provide insights into the sales transactions that involved discounts, highlighting the scale of these discounts in terms of the discounted amount. This analysis can be crucial for understanding the impact of discounts on sales and for making informed decisions about pricing strategies.\n",
                ""
            ],
            "metadata": {
                "language": "sql",
                "azdata_cell_guid": "38728ae5-8112-49e8-b364-93adc3e35faa"
            },
            "attachments": {}
        },
        {
            "cell_type": "code",
            "source": [
                "SELECT \n",
                "    SOH.SalesOrderID, \n",
                "    SOH.OrderDate, \n",
                "    SOD.ProductID, \n",
                "    SOD.OrderQty,\n",
                "    SOD.UnitPrice,\n",
                "    SOD.UnitPriceDiscount,\n",
                "    DiscountAmount = SOD.OrderQty * SOD.UnitPrice * SOD.UnitPriceDiscount\n",
                "FROM \n",
                "    AdventureWorks2017.Sales.SalesOrderHeader SOH\n",
                "INNER JOIN \n",
                "    AdventureWorks2017.Sales.SalesOrderDetail SOD \n",
                "    ON SOH.SalesOrderID = SOD.SalesOrderID\n",
                "WHERE \n",
                "    SOD.UnitPriceDiscount > 0\n",
                "ORDER BY \n",
                "    DiscountAmount DESC;"
            ],
            "metadata": {
                "azdata_cell_guid": "3ddbeff8-76c7-4e9c-be56-790efe946f27",
                "language": "sql",
                "tags": [
                    "hide_input"
                ]
            },
            "outputs": [],
            "execution_count": null
        },
        {
            "cell_type": "markdown",
            "source": [
                "**SQL Query Analysis 5**\n",
                "\n",
                "**Proposition**\n",
                "This query is intended to identify and analyze customers with more than five orders in the AdventureWorks2017 database. It focuses on calculating the total number of orders per customer and their average order value.\n",
                "\n",
                "**Tables**\n",
                "The query utilizes data from:\n",
                "1. `AdventureWorks2017.Sales.SalesOrderHeader`\n",
                "\n",
                "**Columns**\n",
                "Important columns used in this query include:\n",
                "- `CustomerID`\n",
                "- `TotalDue`\n",
                "\n",
                "**Aggregations**\n",
                "- **`NumberOfOrders`**: This is a calculated field representing the count of orders for each customer.\n",
                "- **`AverageOrderTotal`**: This field calculates the average `TotalDue` amount per customer.\n",
                "\n",
                "**Grouping**\n",
                "- The data is grouped by `CustomerID`.\n",
                "\n",
                "**Having Clause**\n",
                "- The `HAVING` clause filters the grouped data to only include customers with more than five orders (`COUNT(*) > 5`).\n",
                "\n",
                "**Ordering**\n",
                "- The results are sorted by `NumberOfOrders` in descending order.\n",
                "\n",
                "**Objective**\n",
                "The primary objective of this query is to segment customers based on their ordering frequency, focusing on those who are frequent buyers. By calculating the average order value alongside the number of orders, the query provides a dual perspective on customer activity and spending habits.\n",
                ""
            ],
            "metadata": {
                "language": "sql",
                "azdata_cell_guid": "00873d32-a986-4695-819d-1fd2107f71ec"
            },
            "attachments": {}
        },
        {
            "cell_type": "code",
            "source": [
                "SELECT \n",
                "    CustomerID, \n",
                "    NumberOfOrders = COUNT(*), \n",
                "    AverageOrderTotal = AVG(TotalDue)\n",
                "FROM \n",
                "    AdventureWorks2017.Sales.SalesOrderHeader\n",
                "GROUP BY \n",
                "    CustomerID\n",
                "HAVING \n",
                "    COUNT(*) > 5\n",
                "ORDER BY \n",
                "    NumberOfOrders DESC;"
            ],
            "metadata": {
                "azdata_cell_guid": "c9b1395e-d27f-4f26-8a1e-86d26be61e2b",
                "language": "sql",
                "tags": [
                    "hide_input"
                ]
            },
            "outputs": [],
            "execution_count": null
        },
        {
            "cell_type": "markdown",
            "source": [
                "**SQL Query Analysis 6**\n",
                "\n",
                "**Proposition**\n",
                "This query is designed to calculate total sales and average freight cost per customer in the Northwinds2022TSQLV7 database. It aims to provide insights into customer spending and associated shipping costs.\n",
                "\n",
                "**Tables**\n",
                "The query involves data from the following tables:\n",
                "1. `Northwinds2022TSQLV7.Sales.[Order]` (aliased as OH)\n",
                "2. `Northwinds2022TSQLV7.Sales.OrderDetail` (aliased as OD)\n",
                "3. `Northwinds2022TSQLV7.Sales.Customer` (aliased as C)\n",
                "\n",
                "**Columns**\n",
                "Important columns used include:\n",
                "- From `Order`:\n",
                "  - `CustomerID`\n",
                "  - `Freight`\n",
                "- From `OrderDetail`:\n",
                "  - `UnitPrice`\n",
                "  - `Quantity`\n",
                "  - `DiscountPercentage`\n",
                "- From `Customer`:\n",
                "  - `CustomerCompanyName`\n",
                "\n",
                "**Common Table Expression (CTE)**\n",
                "- Named `TotalSalesCTE`.\n",
                "- It performs the following computations:\n",
                "  - Calculates `TotalSales` for each customer as the sum of `UnitPrice * Quantity * (1 - DiscountPercentage)` from `OrderDetail`.\n",
                "  - Computes `AverageFreight` as the average `Freight` value from `Order`.\n",
                "\n",
                "**Join Operations**\n",
                "- The CTE involves two INNER JOINs:\n",
                "  - Between `Order` and `OrderDetail` on `OrderID`.\n",
                "  - Between `Order` and `Customer` on `CustomerID`.\n",
                "\n",
                "**Grouping**\n",
                "- Data is grouped by `CustomerID` in the CTE.\n",
                "\n",
                "**Main Query**\n",
                "- Selects `CustomerCompanyName` from the `Customer` table.\n",
                "- Retrieves `TotalSales` and `AverageFreight` from the CTE.\n",
                "- Joins the `Customer` table with the CTE on `CustomerID`.\n",
                "\n",
                "**Ordering**\n",
                "- Orders the results by `TotalSales` in descending order.\n",
                "\n",
                "**Objective**\n",
                "The query is crafted to provide a comprehensive view of each customer's total sales and the average cost of freight for their orders. This analysis can be vital for understanding customer value and logistics efficiency within the business.\n",
                ""
            ],
            "metadata": {
                "language": "sql",
                "azdata_cell_guid": "26619296-3a0f-4e06-9ae8-ed09880a3135"
            },
            "attachments": {}
        },
        {
            "cell_type": "code",
            "source": [
                "WITH TotalSalesCTE AS (\n",
                "    SELECT \n",
                "        OH.CustomerID, \n",
                "        TotalSales = SUM(OD.UnitPrice * OD.Quantity * (1 - OD.DiscountPercentage)),\n",
                "        AverageFreight = AVG(OH.Freight)\n",
                "    FROM \n",
                "        Northwinds2022TSQLV7.Sales.[Order] OH  -- This is the correct alias for Sales.Order\n",
                "    INNER JOIN \n",
                "        Northwinds2022TSQLV7.Sales.OrderDetail OD \n",
                "        ON OH.OrderID = OD.OrderID\n",
                "    INNER JOIN \n",
                "        Northwinds2022TSQLV7.Sales.Customer C \n",
                "        ON OH.CustomerID = C.CustomerID\n",
                "    GROUP BY \n",
                "        OH.CustomerID\n",
                ")\n",
                "SELECT \n",
                "    C.CustomerCompanyName,\n",
                "    TS.TotalSales,\n",
                "    TS.AverageFreight\n",
                "FROM \n",
                "    Northwinds2022TSQLV7.Sales.Customer C\n",
                "INNER JOIN \n",
                "    TotalSalesCTE TS \n",
                "    ON C.CustomerID = TS.CustomerID\n",
                "ORDER BY \n",
                "    TS.TotalSales DESC;\n",
                ""
            ],
            "metadata": {
                "azdata_cell_guid": "db281f42-2b74-4ee6-8d53-c47cd49726a8",
                "language": "sql",
                "tags": [
                    "hide_input"
                ]
            },
            "outputs": [],
            "execution_count": null
        },
        {
            "cell_type": "markdown",
            "source": [
                "**SQL Query Analysis 7**\n",
                "\n",
                "**Proposition**\n",
                "This query is structured to analyze the freight costs associated with each customer's orders in the Northwinds2022TSQLV7 database. It calculates the total number of orders and total freight cost per customer, and orders the customers based on their total freight expenses.\n",
                "\n",
                "**Tables**\n",
                "The query utilizes data from the following tables:\n",
                "1. `Northwinds2022TSQLV7.Sales.Customer` (aliased as `c`)\n",
                "2. `Northwinds2022TSQLV7.Sales.[Order]` (aliased as `o`)\n",
                "\n",
                "**Columns**\n",
                "The key columns involved are:\n",
                "- From `Customer`:\n",
                "  - `CustomerID`\n",
                "  - `CustomerCompanyName`\n",
                "- From `Order`:\n",
                "  - `OrderId`\n",
                "  - `Freight`\n",
                "\n",
                "**Common Table Expression (CTE)**\n",
                "- Named `CustomerSales`.\n",
                "- It computes:\n",
                "  - The number of orders per customer (`NumberOfOrders`) as a count of `OrderId`.\n",
                "  - The total freight cost (`TotalFreight`) as a sum of `Freight`.\n",
                "\n",
                "**Join**\n",
                "- A JOIN operation links the `Customer` and `Order` tables on `CustomerID`.\n",
                "\n",
                "**Grouping**\n",
                "- Grouping is done by `CustomerID` and `CustomerCompanyName`.\n",
                "\n",
                "**Main Query**\n",
                "- Selects `CustomerID`, `CustomerCompanyName`, `NumberOfOrders`, and `TotalFreight` from the `CustomerSales` CTE.\n",
                "- Orders the results by `TotalFreight` in descending order.\n",
                "\n",
                "**Objective**\n",
                "The aim of this query is to provide insights into the logistics costs incurred by each customer, highlighted by their total freight charges. This information is valuable for understanding the distribution of shipping expenses across different customers, potentially guiding strategic decisions in logistics and customer management.\n",
                ""
            ],
            "metadata": {
                "language": "sql",
                "azdata_cell_guid": "b0e0c05a-4d0d-4711-aa06-e599c8023252"
            },
            "attachments": {}
        },
        {
            "cell_type": "code",
            "source": [
                "WITH CustomerSales AS (\n",
                "    SELECT \n",
                "        c.CustomerID,\n",
                "        c.CustomerCompanyName,\n",
                "        COUNT(o.OrderId) AS NumberOfOrders,\n",
                "        SUM(o.Freight) AS TotalFreight\n",
                "    FROM Northwinds2022TSQLV7.Sales.Customer c\n",
                "    JOIN Northwinds2022TSQLV7.Sales.[Order] o ON c.CustomerID = o.CustomerID\n",
                "    GROUP BY c.CustomerID, c.CustomerCompanyName\n",
                ")\n",
                "SELECT \n",
                "    CustomerID,\n",
                "    CustomerCompanyName,\n",
                "    NumberOfOrders,\n",
                "    TotalFreight\n",
                "FROM CustomerSales\n",
                "ORDER BY TotalFreight DESC;"
            ],
            "metadata": {
                "azdata_cell_guid": "fde8ceff-424b-44e1-8acb-7e31a4e672e2",
                "language": "sql",
                "tags": [
                    "hide_input"
                ]
            },
            "outputs": [],
            "execution_count": null
        },
        {
            "cell_type": "markdown",
            "source": [
                "**SQL Query Analysis 8**\n",
                "\n",
                "**Proposition**\n",
                "This query is designed to calculate the total sales quantity and amount for each product in the Northwinds2022TSQLV7 database, taking into account any applied discounts. The aim is to identify the most successful products in terms of total revenue generated after discounts.\n",
                "\n",
                "**Tables**\n",
                "The query accesses data from:\n",
                "1. `Northwinds2022TSQLV7.Sales.OrderDetail` (aliased as `od`)\n",
                "\n",
                "**Columns**\n",
                "Key columns involved in this query are from `OrderDetail`:\n",
                "- `ProductID`\n",
                "- `Quantity`\n",
                "- `UnitPrice`\n",
                "- `DiscountPercentage`\n",
                "\n",
                "**Aggregations**\n",
                "- **`TotalQuantity`**: Sum of `Quantity` for each product.\n",
                "- **`TotalAmountAfterDiscount`**: Sum of the product's `UnitPrice * Quantity * (1 - DiscountPercentage)`, representing the total revenue after applying discounts.\n",
                "\n",
                "**Grouping**\n",
                "- The data is grouped by `ProductID`.\n",
                "\n",
                "**Ordering**\n",
                "- Orders the results by `TotalAmountAfterDiscount` in descending order.\n",
                "\n",
                "**Objective**\n",
                "The goal of this query is to provide a clear view of which products are generating the most revenue after discounts are applied. This analysis is crucial for understanding product performance, guiding inventory and marketing strategies, and identifying key revenue drivers in the product catalog.\n",
                ""
            ],
            "metadata": {
                "language": "sql",
                "azdata_cell_guid": "555ebf7d-5c42-490e-9858-5f1dd8e0534b"
            },
            "attachments": {}
        },
        {
            "cell_type": "code",
            "source": [
                "SELECT \n",
                "    od.ProductID,\n",
                "    SUM(od.Quantity) AS TotalQuantity,\n",
                "    SUM(od.UnitPrice * od.Quantity * (1 - od.DiscountPercentage)) AS TotalAmountAfterDiscount\n",
                "FROM Northwinds2022TSQLV7.Sales.OrderDetail od\n",
                "GROUP BY od.ProductID\n",
                "ORDER BY TotalAmountAfterDiscount DESC;"
            ],
            "metadata": {
                "azdata_cell_guid": "3226a2f1-1d16-4f9f-b95f-e0d1c680c436",
                "language": "sql",
                "tags": [
                    "hide_input"
                ]
            },
            "outputs": [],
            "execution_count": null
        },
        {
            "cell_type": "markdown",
            "source": [
                "**SQL Query Analysis 9**\n",
                "\n",
                "**Proposition**\n",
                "This query is aimed at extracting detailed order information for each customer in the Northwinds2022TSQLV7 database. It focuses on categorizing orders by year and month, and counts the total number of orders for each period.\n",
                "\n",
                "**Tables**\n",
                "The query utilizes data from the following tables:\n",
                "1. `Northwinds2022TSQLV7.Sales.Customer` (aliased as `c`)\n",
                "2. `Northwinds2022TSQLV7.Sales.[Order]` (aliased as `o`)\n",
                "\n",
                "**Columns**\n",
                "Key columns used in this query are:\n",
                "- From `Customer`:\n",
                "  - `CustomerID`\n",
                "  - `CustomerCompanyName`\n",
                "- From `Order`:\n",
                "  - `OrderDate`\n",
                "\n",
                "**Join**\n",
                "- The query involves a JOIN between the `Customer` and `Order` tables on the `CustomerID` field.\n",
                "\n",
                "**Grouping**\n",
                "- The data is grouped by `CustomerID`, `CustomerCompanyName`, and the year and month of the `OrderDate`.\n",
                "\n",
                "**Aggregations**\n",
                "- `OrderYear`: Extracted year from `OrderDate`.\n",
                "- `OrderMonth`: Extracted month from `OrderDate`.\n",
                "- `OrderCount`: A count of orders per group.\n",
                "\n",
                "**Ordering**\n",
                "- The results are ordered by `CustomerID`, then by `OrderYear`, and finally by `OrderMonth`.\n",
                "\n",
                "**Objective**\n",
                "The main purpose of this query is to provide a comprehensive view of customer order patterns over time, broken down by year and month. This allows for a detailed analysis of customer activity and can help in understanding seasonal trends, customer loyalty, and ordering behavior.\n",
                ""
            ],
            "metadata": {
                "language": "sql",
                "azdata_cell_guid": "23a547ea-306b-4d9c-b55e-5b83ea193e96"
            },
            "attachments": {}
        },
        {
            "cell_type": "code",
            "source": [
                "SELECT \n",
                "    c.CustomerID,\n",
                "    c.CustomerCompanyName,\n",
                "    YEAR(o.OrderDate) AS OrderYear,\n",
                "    MONTH(o.OrderDate) AS OrderMonth,\n",
                "    COUNT(*) AS OrderCount\n",
                "FROM Northwinds2022TSQLV7.Sales.Customer c\n",
                "JOIN Northwinds2022TSQLV7.Sales.[Order] o ON c.CustomerID = o.CustomerID\n",
                "GROUP BY c.CustomerID, c.CustomerCompanyName, YEAR(o.OrderDate), MONTH(o.OrderDate)\n",
                "ORDER BY c.CustomerID, OrderYear, OrderMonth;"
            ],
            "metadata": {
                "azdata_cell_guid": "743ad682-199e-47a6-a66a-463f69a31bf1",
                "language": "sql",
                "tags": [
                    "hide_input"
                ]
            },
            "outputs": [],
            "execution_count": null
        },
        {
            "cell_type": "markdown",
            "source": [
                "**SQL Query Analysis 10**\n",
                "\n",
                "**Proposition**\n",
                "This query aims to analyze the shipping costs associated with orders in the Northwinds2022TSQLV7 database. It calculates the total freight cost for each unique shipping address and orders the results based on these costs.\n",
                "\n",
                "**Table**\n",
                "The query uses data from:\n",
                "1. `Northwinds2022TSQLV7.Sales.[Order]` (aliased as `o`)\n",
                "\n",
                "**Columns**\n",
                "Key columns involved in the query are:\n",
                "- From `Order`:\n",
                "  - `ShipToName`\n",
                "  - `ShipToAddress`\n",
                "  - `ShipToCity`\n",
                "  - `ShipToRegion`\n",
                "  - `ShipToPostalCode`\n",
                "  - `ShipToCountry`\n",
                "  - `Freight`\n",
                "\n",
                "**Aggregation**\n",
                "- `TotalFreightCost`: The sum of `Freight` for each shipping address.\n",
                "\n",
                "**Grouping**\n",
                "- Grouping is done by all the shipping address components (`ShipToName`, `ShipToAddress`, `ShipToCity`, `ShipToRegion`, `ShipToPostalCode`, `ShipToCountry`).\n",
                "\n",
                "**Ordering**\n",
                "- The query orders the results by `TotalFreightCost` in descending order.\n",
                "\n",
                "**Objective**\n",
                "The primary objective of this query is to provide insights into the freight costs incurred for different shipping addresses. This analysis can be vital for understanding the distribution of shipping expenses and for making strategic decisions in logistics and shipping management.\n",
                ""
            ],
            "metadata": {
                "language": "sql",
                "azdata_cell_guid": "cfbd3ab4-818f-465c-be4b-32b846da67c4"
            },
            "attachments": {}
        },
        {
            "cell_type": "code",
            "source": [
                "SELECT \n",
                "    o.ShipToName,\n",
                "    o.ShipToAddress,\n",
                "    o.ShipToCity,\n",
                "    o.ShipToRegion,\n",
                "    o.ShipToPostalCode,\n",
                "    o.ShipToCountry,\n",
                "    SUM(o.Freight) AS TotalFreightCost\n",
                "FROM Northwinds2022TSQLV7.Sales.[Order] o\n",
                "GROUP BY o.ShipToName, o.ShipToAddress, o.ShipToCity, o.ShipToRegion, o.ShipToPostalCode, o.ShipToCountry\n",
                "ORDER BY TotalFreightCost DESC;"
            ],
            "metadata": {
                "azdata_cell_guid": "490262a5-7a38-45a8-8ca4-345060c9730c",
                "language": "sql",
                "tags": [
                    "hide_input"
                ]
            },
            "outputs": [],
            "execution_count": null
        },
        {
            "cell_type": "markdown",
            "source": [
                "**SQL Query Analysis 11**\n",
                "\n",
                "**Proposition**\n",
                "This query is structured to identify the top 10 highest-grossing products in the AdventureWorks2017 database, based on total revenue generated. It calculates both the total quantity sold and the total revenue for each product.\n",
                "\n",
                "**Tables**\n",
                "The query uses data from the following tables:\n",
                "1. `AdventureWorks2017.Sales.SalesOrderDetail`\n",
                "2. `AdventureWorks2017.Production.Product` (aliased as P)\n",
                "\n",
                "**Columns**\n",
                "Key columns involved in this query are:\n",
                "- From `SalesOrderDetail`:\n",
                "  - `ProductID`\n",
                "  - `OrderQty`\n",
                "  - `LineTotal`\n",
                "- From `Product`:\n",
                "  - `Name`\n",
                "\n",
                "**Common Table Expression (CTE)**\n",
                "- Named `ProductSales`.\n",
                "- It aggregates for each product:\n",
                "  - `TotalQuantity`: the sum of `OrderQty`.\n",
                "  - `TotalRevenue`: the sum of `LineTotal`.\n",
                "\n",
                "**Grouping**\n",
                "- The data in the CTE is grouped by `ProductID`.\n",
                "\n",
                "**Main Query**\n",
                "- Selects the top 10 entries based on `TotalRevenue`.\n",
                "- Selects `ProductName` from the `Product` table.\n",
                "- Retrieves `TotalQuantity` and `TotalRevenue` from the `ProductSales` CTE.\n",
                "- Joins `ProductSales` with the `Product` table on `ProductID`.\n",
                "\n",
                "**Ordering**\n",
                "- Orders the results by `TotalRevenue` in descending order.\n",
                "\n",
                "**Objective**\n",
                "The purpose of this query is to highlight the products that contribute most significantly to the company's revenue. By focusing on total sales and revenue, it provides insights into the most successful products in terms of sales volume and financial performance.\n",
                ""
            ],
            "metadata": {
                "azdata_cell_guid": "b9887c3d-36c6-46bc-8a14-2a5db62b4ddf"
            },
            "attachments": {}
        },
        {
            "cell_type": "code",
            "source": [
                "WITH ProductSales AS (\n",
                "    SELECT \n",
                "        ProductID, \n",
                "        TotalQuantity = SUM(OrderQty), \n",
                "        TotalRevenue = SUM(LineTotal)\n",
                "    FROM AdventureWorks2017.Sales.SalesOrderDetail\n",
                "    GROUP BY ProductID\n",
                ")\n",
                "SELECT TOP 10 \n",
                "    P.Name AS ProductName,\n",
                "    PS.TotalQuantity,\n",
                "    PS.TotalRevenue\n",
                "FROM ProductSales PS\n",
                "JOIN AdventureWorks2017.Production.Product P ON PS.ProductID = P.ProductID\n",
                "ORDER BY PS.TotalRevenue DESC;\n",
                ""
            ],
            "metadata": {
                "azdata_cell_guid": "07f4372b-da69-403a-85c0-8dea9b00e940",
                "language": "sql"
            },
            "outputs": [],
            "execution_count": null
        },
        {
            "cell_type": "markdown",
            "source": [
                "**SQL Query Analysis 12**\n",
                "\n",
                "**Proposition**\n",
                "This query is aimed at summarizing the purchase activity of customers in the AdventureWorks2017 database. It calculates each customer's total purchases and average freight cost.\n",
                "\n",
                "**Tables**\n",
                "The query involves the following tables:\n",
                "1. `AdventureWorks2017.Sales.SalesOrderHeader` (aliased as SOH)\n",
                "2. `AdventureWorks2017.Sales.SalesOrderDetail` (aliased as SOD)\n",
                "3. `AdventureWorks2017.Person.Person` (aliased as P)\n",
                "\n",
                "**Columns**\n",
                "The primary columns used are:\n",
                "- From `SalesOrderHeader`:\n",
                "  - `CustomerID`\n",
                "  - `SalesOrderID`\n",
                "  - `Freight`\n",
                "- From `SalesOrderDetail`:\n",
                "  - `LineTotal`\n",
                "- From `Person`:\n",
                "  - `FirstName`\n",
                "  - `LastName`\n",
                "  - `BusinessEntityID`\n",
                "\n",
                "**Joins**\n",
                "- The query includes JOIN operations:\n",
                "  - Between SOH and SOD on `SalesOrderID`.\n",
                "  - Between SOH and P on `CustomerID = BusinessEntityID`.\n",
                "\n",
                "**Aggregations**\n",
                "- **`TotalPurchases`**: The sum of `LineTotal` from SOD, representing the total purchase amount by each customer.\n",
                "- **`AverageFreight`**: The average of `Freight` from SOH for each customer.\n",
                "\n",
                "**Grouping**\n",
                "- The results are grouped by `CustomerID`, `FirstName`, and `LastName`.\n",
                "\n",
                "**Objective**\n",
                "The main purpose of this query is to provide insights into the purchasing behavior of customers, specifically focusing on their total spending and the average shipping costs they incur. This information can be essential for customer segmentation, targeted marketing, and operational decision-making related to logistics.\n",
                ""
            ],
            "metadata": {
                "azdata_cell_guid": "0ffa46e9-2994-4717-9787-c1c4a377a664"
            },
            "attachments": {}
        },
        {
            "cell_type": "code",
            "source": [
                "SELECT \n",
                "    SOH.CustomerID, \n",
                "    P.FirstName + ' ' + P.LastName AS CustomerName, \n",
                "    SUM(SOD.LineTotal) AS TotalPurchases,\n",
                "    AVG(SOH.Freight) AS AverageFreight\n",
                "FROM AdventureWorks2017.Sales.SalesOrderHeader SOH\n",
                "JOIN AdventureWorks2017.Sales.SalesOrderDetail SOD ON SOH.SalesOrderID = SOD.SalesOrderID\n",
                "JOIN AdventureWorks2017.Person.Person P ON SOH.CustomerID = P.BusinessEntityID\n",
                "GROUP BY SOH.CustomerID, P.FirstName, P.LastName;\n",
                ""
            ],
            "metadata": {
                "azdata_cell_guid": "ee549c31-f994-4bea-8a0d-c18262b7ac15",
                "language": "sql"
            },
            "outputs": [],
            "execution_count": null
        },
        {
            "cell_type": "markdown",
            "source": [
                "**SQL Query Analysis 13**\n",
                "\n",
                "**Proposition**\n",
                "This query is designed to track the annual growth in the number of unique customers for AdventureWorks2017. It compares the count of unique customers each year to the previous year, calculating the yearly growth in customer base.\n",
                "\n",
                "**Tables**\n",
                "The query utilizes data from:\n",
                "1. `AdventureWorks2017.Sales.SalesOrderHeader` (aliased as SOH)\n",
                "\n",
                "**Columns**\n",
                "The relevant columns used in this query include:\n",
                "- `OrderDate` (from SOH)\n",
                "- `CustomerID` (from SOH)\n",
                "\n",
                "**Common Table Expression (CTE)**\n",
                "- Named `CustomerYearlyGrowth`.\n",
                "- It calculates:\n",
                "  - `OrderYear`: the year extracted from `OrderDate`.\n",
                "  - `UniqueCustomers`: the count of distinct `CustomerID`s for each year.\n",
                "\n",
                "**Grouping**\n",
                "- The data in the CTE is grouped by `OrderYear`.\n",
                "\n",
                "**Main Query**\n",
                "- Selects `OrderYear` and `UniqueCustomers` from the `CustomerYearlyGrowth` CTE, referred to as `CurrentYear`.\n",
                "- Implements a LEFT JOIN with `CustomerYearlyGrowth` itself, aliased as `PreviousYear`, on `CurrentYear.OrderYear = PreviousYear.OrderYear + 1`.\n",
                "- Calculates `Growth` as the difference between the current year's and the previous year's unique customer counts. The `ISNULL` function is used to handle cases where there are no previous year data.\n",
                "\n",
                "**Ordering**\n",
                "- The results are ordered by `OrderYear`.\n",
                "\n",
                "**Objective**\n",
                "The goal of this query is to analyze the year-over-year growth of AdventureWorks2017's customer base. By comparing the number of unique customers each year to the preceding year, the query provides a clear picture of customer acquisition trends over time.\n",
                ""
            ],
            "metadata": {
                "azdata_cell_guid": "3621d3fe-a142-4d71-90e3-a3f0b35dc325"
            },
            "attachments": {}
        },
        {
            "cell_type": "code",
            "source": [
                "WITH CustomerYearlyGrowth AS (\n",
                "    SELECT \n",
                "        YEAR(SOH.OrderDate) AS OrderYear,\n",
                "        COUNT(DISTINCT SOH.CustomerID) AS UniqueCustomers\n",
                "    FROM AdventureWorks2017.Sales.SalesOrderHeader SOH\n",
                "    GROUP BY YEAR(SOH.OrderDate)\n",
                ")\n",
                "SELECT \n",
                "    CurrentYear.OrderYear,\n",
                "    CurrentYear.UniqueCustomers,\n",
                "    PreviousYear.UniqueCustomers AS PreviousYearCustomers,\n",
                "    (CurrentYear.UniqueCustomers - ISNULL(PreviousYear.UniqueCustomers, 0)) AS Growth\n",
                "FROM CustomerYearlyGrowth CurrentYear\n",
                "LEFT JOIN CustomerYearlyGrowth PreviousYear ON CurrentYear.OrderYear = PreviousYear.OrderYear + 1\n",
                "ORDER BY CurrentYear.OrderYear;"
            ],
            "metadata": {
                "azdata_cell_guid": "731e466d-1ece-488f-a08e-3192a5a1e6d7",
                "language": "sql"
            },
            "outputs": [
                {
                    "output_type": "display_data",
                    "data": {
                        "text/html": "(4 rows affected)"
                    },
                    "metadata": {}
                },
                {
                    "output_type": "display_data",
                    "data": {
                        "text/html": "Total execution time: 00:00:00.189"
                    },
                    "metadata": {}
                },
                {
                    "output_type": "execute_result",
                    "execution_count": 28,
                    "data": {
                        "application/vnd.dataresource+json": {
                            "schema": {
                                "fields": [
                                    {
                                        "name": "OrderYear"
                                    },
                                    {
                                        "name": "UniqueCustomers"
                                    },
                                    {
                                        "name": "PreviousYearCustomers"
                                    },
                                    {
                                        "name": "Growth"
                                    }
                                ]
                            },
                            "data": [
                                {
                                    "OrderYear": "2011",
                                    "UniqueCustomers": "1406",
                                    "PreviousYearCustomers": "NULL",
                                    "Growth": "1406"
                                },
                                {
                                    "OrderYear": "2012",
                                    "UniqueCustomers": "3162",
                                    "PreviousYearCustomers": "1406",
                                    "Growth": "1756"
                                },
                                {
                                    "OrderYear": "2013",
                                    "UniqueCustomers": "11095",
                                    "PreviousYearCustomers": "3162",
                                    "Growth": "7933"
                                },
                                {
                                    "OrderYear": "2014",
                                    "UniqueCustomers": "10354",
                                    "PreviousYearCustomers": "11095",
                                    "Growth": "-741"
                                }
                            ]
                        },
                        "text/html": "<table><tr><th>OrderYear</th><th>UniqueCustomers</th><th>PreviousYearCustomers</th><th>Growth</th></tr><tr><td>2011</td><td>1406</td><td>NULL</td><td>1406</td></tr><tr><td>2012</td><td>3162</td><td>1406</td><td>1756</td></tr><tr><td>2013</td><td>11095</td><td>3162</td><td>7933</td></tr><tr><td>2014</td><td>10354</td><td>11095</td><td>-741</td></tr></table>"
                    },
                    "metadata": {}
                }
            ],
            "execution_count": 28
        }
    ]
}