{
    "metadata": {
        "kernelspec": {
            "name": "SQL",
            "display_name": "SQL",
            "language": "sql"
        },
        "language_info": {
            "name": "sql",
            "version": ""
        }
    },
    "nbformat_minor": 2,
    "nbformat": 4,
    "cells": [
        {
            "cell_type": "markdown",
            "source": [
                "**Zackaria Mamdouh | Group 6 | Question 5**"
            ],
            "metadata": {
                "language": "sql",
                "azdata_cell_guid": "b9b8cae7-61e8-4bc4-8682-030eefa389e4"
            },
            "attachments": {}
        },
        {
            "cell_type": "code",
            "source": [
                "-- Question 5\n",
                "-- Run the following code to create and populate the EmpYearOrders table:\n",
                "USE TSQLV4;\n",
                "\n",
                "DROP TABLE IF EXISTS dbo.EmpYearOrders;\n",
                "\n",
                "CREATE TABLE dbo.EmpYearOrders\n",
                "(\n",
                "  empid INT NOT NULL\n",
                "    CONSTRAINT PK_EmpYearOrders PRIMARY KEY,\n",
                "  cnt2014 INT NULL,\n",
                "  cnt2015 INT NULL,\n",
                "  cnt2016 INT NULL\n",
                ");\n",
                "\n",
                "INSERT INTO dbo.EmpYearOrders(empid, cnt2014, cnt2015, cnt2016)\n",
                "  SELECT empid, [2014] AS cnt2014, [2015] AS cnt2015, [2016] AS cnt2016\n",
                "  FROM (SELECT empid, YEAR(orderdate) AS orderyear\n",
                "        FROM dbo.Orders) AS D\n",
                "    PIVOT(COUNT(orderyear)\n",
                "          FOR orderyear IN([2014], [2015], [2016])) AS P;\n",
                "\n",
                "SELECT * FROM dbo.EmpYearOrders;\n",
                "\n",
                "-- Output:\n",
                "empid       cnt2014     cnt2015     cnt2016\n",
                "----------- ----------- ----------- -----------\n",
                "1           1           1           1\n",
                "2           1           2           1\n",
                "3           2           0           2\n",
                "\n",
                "-- Write a query against the EmpYearOrders table that unpivots\n",
                "-- the data, returning a row for each employee and order year\n",
                "-- with the number of orders\n",
                "-- Exclude rows where the number of orders is 0\n",
                "-- (in our example, employee 3 in year 2016)\n",
                "\n",
                "-- Desired output:\n",
                "empid       orderyear   numorders\n",
                "----------- ----------- -----------\n",
                "1           2014        1\n",
                "1           2015        1\n",
                "1           2016        1\n",
                "2           2015        1\n",
                "2           2015        2\n",
                "2           2016        1\n",
                "3           2014        2\n",
                "3           2016        2"
            ],
            "metadata": {
                "azdata_cell_guid": "cdbc64ba-84af-4238-b423-f5caa793d10d",
                "language": "sql"
            },
            "outputs": [],
            "execution_count": null
        },
        {
            "cell_type": "markdown",
            "source": [
                "**Proposition:**\n",
                "\n",
                "The query retrieves data concerning the count of orders made by each employee in the years 2014, 2015, and 2016 from the `EmpYearOrders` table. It transforms the yearly order count columns into rows and excludes any rows where the count is zero.\n",
                "\n",
                "**Tables involved:**\n",
                "\n",
                "The table involved in this query is `dbo.EmpYearOrders` from the current database context which is presumably `TSQLV4`.\n",
                "\n",
                "**Columns:**\n",
                "\n",
                "In the query:\n",
                "- `empid`\n",
                "- `cnt2014`\n",
                "- `cnt2015`\n",
                "- `cnt2016`\n",
                "\n",
                "After processing through the `CASE` and `UNPIVOT` statements, the output columns are:\n",
                "- `empid`\n",
                "- `orderyear`\n",
                "- `numorders`\n",
                "\n",
                "**Predicate:**\n",
                "\n",
                "The predicate involves:\n",
                "- An `UNPIVOT` operation which transforms the columns `cnt2014`, `cnt2015`, `cnt2016` into rows, with the `numorders` column containing the values and the `orderyear` column indicating the corresponding year.\n",
                "- A `CASE` statement is used to convert the column names (`cnt2014`, `cnt2015`, `cnt2016`) into actual year values (2014, 2015, 2016).\n",
                "- A `WHERE` clause to exclude rows where `numorders` is zero.\n",
                "- An `ORDER BY` clause to sort the results by `empid` and the translated `orderyear`.\n",
                "\n",
                "**Summary:**\n",
                "\n",
                "The SQL query aims to transform and summarize the order counts per employee from a columnar yearly representation to a row-based representation for each year, excluding years with zero orders, thereby enabling a more detailed and chronological analysis of employee performance over the specified years.\n",
                ""
            ],
            "metadata": {
                "azdata_cell_guid": "6ec5cf7c-5df1-43e5-b8a2-49ec6cd2e915"
            },
            "attachments": {}
        },
        {
            "cell_type": "code",
            "source": [
                "-- Select the employee ID, the actual order year, and the number of orders\n",
                "SELECT \n",
                "    empid, \n",
                "    CASE orderyear -- Translate the column names into actual year values\n",
                "        WHEN 'cnt2014' THEN 2014\n",
                "        WHEN 'cnt2015' THEN 2015\n",
                "        WHEN 'cnt2016' THEN 2016\n",
                "    END as orderyear, \n",
                "    numorders\n",
                "FROM \n",
                "(\n",
                "    -- Subquery to select the relevant columns from the EmpYearOrders table\n",
                "    SELECT empid, cnt2014, cnt2015, cnt2016\n",
                "    FROM dbo.EmpYearOrders\n",
                ") AS sourceTable\n",
                "-- The UNPIVOT operator converts the three columns of order counts into rows\n",
                "UNPIVOT\n",
                "(\n",
                "    numorders FOR orderyear IN (cnt2014, cnt2015, cnt2016)\n",
                ") AS unpivotedTable\n",
                "-- Exclude rows where the number of orders is zero\n",
                "WHERE numorders != 0\n",
                "-- Order the result set by employee ID and year for clarity\n",
                "ORDER BY empid, orderyear;\n",
                ""
            ],
            "metadata": {
                "azdata_cell_guid": "2ee4088a-b082-49c0-b9e6-40d74362d6aa",
                "language": "sql",
                "tags": []
            },
            "outputs": [
                {
                    "output_type": "display_data",
                    "data": {
                        "text/html": "(27 rows affected)"
                    },
                    "metadata": {}
                },
                {
                    "output_type": "display_data",
                    "data": {
                        "text/html": "Total execution time: 00:00:00.032"
                    },
                    "metadata": {}
                },
                {
                    "output_type": "execute_result",
                    "execution_count": 8,
                    "data": {
                        "application/vnd.dataresource+json": {
                            "schema": {
                                "fields": [
                                    {
                                        "name": "empid"
                                    },
                                    {
                                        "name": "orderyear"
                                    },
                                    {
                                        "name": "numorders"
                                    }
                                ]
                            },
                            "data": [
                                {
                                    "empid": "1",
                                    "orderyear": "2014",
                                    "numorders": "26"
                                },
                                {
                                    "empid": "1",
                                    "orderyear": "2015",
                                    "numorders": "55"
                                },
                                {
                                    "empid": "1",
                                    "orderyear": "2016",
                                    "numorders": "42"
                                },
                                {
                                    "empid": "2",
                                    "orderyear": "2014",
                                    "numorders": "16"
                                },
                                {
                                    "empid": "2",
                                    "orderyear": "2015",
                                    "numorders": "41"
                                },
                                {
                                    "empid": "2",
                                    "orderyear": "2016",
                                    "numorders": "39"
                                },
                                {
                                    "empid": "3",
                                    "orderyear": "2014",
                                    "numorders": "18"
                                },
                                {
                                    "empid": "3",
                                    "orderyear": "2015",
                                    "numorders": "71"
                                },
                                {
                                    "empid": "3",
                                    "orderyear": "2016",
                                    "numorders": "38"
                                },
                                {
                                    "empid": "4",
                                    "orderyear": "2014",
                                    "numorders": "31"
                                },
                                {
                                    "empid": "4",
                                    "orderyear": "2015",
                                    "numorders": "81"
                                },
                                {
                                    "empid": "4",
                                    "orderyear": "2016",
                                    "numorders": "44"
                                },
                                {
                                    "empid": "5",
                                    "orderyear": "2014",
                                    "numorders": "11"
                                },
                                {
                                    "empid": "5",
                                    "orderyear": "2015",
                                    "numorders": "18"
                                },
                                {
                                    "empid": "5",
                                    "orderyear": "2016",
                                    "numorders": "13"
                                },
                                {
                                    "empid": "6",
                                    "orderyear": "2014",
                                    "numorders": "15"
                                },
                                {
                                    "empid": "6",
                                    "orderyear": "2015",
                                    "numorders": "33"
                                },
                                {
                                    "empid": "6",
                                    "orderyear": "2016",
                                    "numorders": "19"
                                },
                                {
                                    "empid": "7",
                                    "orderyear": "2014",
                                    "numorders": "11"
                                },
                                {
                                    "empid": "7",
                                    "orderyear": "2015",
                                    "numorders": "36"
                                },
                                {
                                    "empid": "7",
                                    "orderyear": "2016",
                                    "numorders": "25"
                                },
                                {
                                    "empid": "8",
                                    "orderyear": "2014",
                                    "numorders": "19"
                                },
                                {
                                    "empid": "8",
                                    "orderyear": "2015",
                                    "numorders": "54"
                                },
                                {
                                    "empid": "8",
                                    "orderyear": "2016",
                                    "numorders": "31"
                                },
                                {
                                    "empid": "9",
                                    "orderyear": "2014",
                                    "numorders": "5"
                                },
                                {
                                    "empid": "9",
                                    "orderyear": "2015",
                                    "numorders": "19"
                                },
                                {
                                    "empid": "9",
                                    "orderyear": "2016",
                                    "numorders": "19"
                                }
                            ]
                        },
                        "text/html": "<table><tr><th>empid</th><th>orderyear</th><th>numorders</th></tr><tr><td>1</td><td>2014</td><td>26</td></tr><tr><td>1</td><td>2015</td><td>55</td></tr><tr><td>1</td><td>2016</td><td>42</td></tr><tr><td>2</td><td>2014</td><td>16</td></tr><tr><td>2</td><td>2015</td><td>41</td></tr><tr><td>2</td><td>2016</td><td>39</td></tr><tr><td>3</td><td>2014</td><td>18</td></tr><tr><td>3</td><td>2015</td><td>71</td></tr><tr><td>3</td><td>2016</td><td>38</td></tr><tr><td>4</td><td>2014</td><td>31</td></tr><tr><td>4</td><td>2015</td><td>81</td></tr><tr><td>4</td><td>2016</td><td>44</td></tr><tr><td>5</td><td>2014</td><td>11</td></tr><tr><td>5</td><td>2015</td><td>18</td></tr><tr><td>5</td><td>2016</td><td>13</td></tr><tr><td>6</td><td>2014</td><td>15</td></tr><tr><td>6</td><td>2015</td><td>33</td></tr><tr><td>6</td><td>2016</td><td>19</td></tr><tr><td>7</td><td>2014</td><td>11</td></tr><tr><td>7</td><td>2015</td><td>36</td></tr><tr><td>7</td><td>2016</td><td>25</td></tr><tr><td>8</td><td>2014</td><td>19</td></tr><tr><td>8</td><td>2015</td><td>54</td></tr><tr><td>8</td><td>2016</td><td>31</td></tr><tr><td>9</td><td>2014</td><td>5</td></tr><tr><td>9</td><td>2015</td><td>19</td></tr><tr><td>9</td><td>2016</td><td>19</td></tr></table>"
                    },
                    "metadata": {}
                }
            ],
            "execution_count": 8
        }
    ]
}