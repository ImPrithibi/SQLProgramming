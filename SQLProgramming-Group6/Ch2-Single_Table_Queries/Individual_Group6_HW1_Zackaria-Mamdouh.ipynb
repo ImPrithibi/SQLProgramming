{
    "metadata": {
        "kernelspec": {
            "name": "SQL",
            "display_name": "SQL",
            "language": "sql"
        },
        "language_info": {
            "name": "sql",
            "version": ""
        }
    },
    "nbformat_minor": 2,
    "nbformat": 4,
    "cells": [
        {
            "cell_type": "markdown",
            "source": [
                "Zack Mamdouh | Group 6 | Questions 8\n",
                "\n",
                "Question 8: In the first query, we’re using the ROW\\_NUMBER() function to assign a unique row number to each row within the partition of custid. The rows are ordered by orderdate and orderid. The ORDER BY clause at the end sorts the results by custid and rownum. The USE statement before the query specifies the TSQLV4 database to use. The FROM clause specifies the Sales.Orders table to select data from. The SELECT statement is used to select data from the database. The data returned is stored in a result table, called the result-set. The AS keyword is used in SQL to rename the result of the ROW\\_NUMBER() function as rownum.\n",
                "\n",
                "<span style=\"font-size: var(--cib-type-subtitle2-stronger-font-size); background-color: rgb(255, 255, 255); color: rgb(17, 17, 17); font-family: -apple-system, Roboto, SegoeUI, &quot;Segoe UI&quot;, &quot;Helvetica Neue&quot;, Helvetica, &quot;Microsoft YaHei&quot;, &quot;Meiryo UI&quot;, Meiryo, &quot;Arial Unicode MS&quot;, sans-serif; line-height: var(--cib-type-subtitle2-stronger-line-height); font-variation-settings: var(--cib-type-subtitle2-stronger-font-variation-settings);\"><b>Proposition</b></span><span style=\"font-size: var(--cib-type-body2-font-size); background-color: rgb(255, 255, 255); color: rgb(17, 17, 17); font-family: -apple-system, Roboto, SegoeUI, &quot;Segoe UI&quot;, &quot;Helvetica Neue&quot;, Helvetica, &quot;Microsoft YaHei&quot;, &quot;Meiryo UI&quot;, Meiryo, &quot;Arial Unicode MS&quot;, sans-serif;\">: The proposition of this query is to assign a unique row number to each row within the partition of&nbsp;</span>  `custid`<span style=\"font-size: var(--cib-type-body2-font-size); background-color: rgb(255, 255, 255); color: rgb(17, 17, 17); font-family: -apple-system, Roboto, SegoeUI, &quot;Segoe UI&quot;, &quot;Helvetica Neue&quot;, Helvetica, &quot;Microsoft YaHei&quot;, &quot;Meiryo UI&quot;, Meiryo, &quot;Arial Unicode MS&quot;, sans-serif;\">, ordered by&nbsp;</span>  `orderdate`  <span style=\"font-size: var(--cib-type-body2-font-size); background-color: rgb(255, 255, 255); color: rgb(17, 17, 17); font-family: -apple-system, Roboto, SegoeUI, &quot;Segoe UI&quot;, &quot;Helvetica Neue&quot;, Helvetica, &quot;Microsoft YaHei&quot;, &quot;Meiryo UI&quot;, Meiryo, &quot;Arial Unicode MS&quot;, sans-serif;\">&nbsp;and&nbsp;</span>  `orderid`<span style=\"font-size: var(--cib-type-body2-font-size); background-color: rgb(255, 255, 255); color: rgb(17, 17, 17); font-family: -apple-system, Roboto, SegoeUI, &quot;Segoe UI&quot;, &quot;Helvetica Neue&quot;, Helvetica, &quot;Microsoft YaHei&quot;, &quot;Meiryo UI&quot;, Meiryo, &quot;Arial Unicode MS&quot;, sans-serif;\">. This is achieved using the ROW_NUMBER()</span>  <span style=\"font-size: var(--cib-type-body2-font-size); background-color: rgb(255, 255, 255); color: rgb(17, 17, 17); font-family: -apple-system, Roboto, SegoeUI, &quot;Segoe UI&quot;, &quot;Helvetica Neue&quot;, Helvetica, &quot;Microsoft YaHei&quot;, &quot;Meiryo UI&quot;, Meiryo, &quot;Arial Unicode MS&quot;, sans-serif;\">&nbsp;function.</span>  \n",
                "<span style=\"font-size: var(--cib-type-subtitle2-stronger-font-size); background-color: rgb(255, 255, 255); color: rgb(17, 17, 17); font-family: -apple-system, Roboto, SegoeUI, &quot;Segoe UI&quot;, &quot;Helvetica Neue&quot;, Helvetica, &quot;Microsoft YaHei&quot;, &quot;Meiryo UI&quot;, Meiryo, &quot;Arial Unicode MS&quot;, sans-serif; line-height: var(--cib-type-subtitle2-stronger-line-height); font-variation-settings: var(--cib-type-subtitle2-stronger-font-variation-settings);\"><b>Table</b></span><span style=\"font-size: var(--cib-type-body2-font-size); background-color: rgb(255, 255, 255); color: rgb(17, 17, 17); font-family: -apple-system, Roboto, SegoeUI, &quot;Segoe UI&quot;, &quot;Helvetica Neue&quot;, Helvetica, &quot;Microsoft YaHei&quot;, &quot;Meiryo UI&quot;, Meiryo, &quot;Arial Unicode MS&quot;, sans-serif;\">: The table is Sales.Orders, located in the TSQLV4 databse/</span>  \n",
                "<span style=\"font-size: var(--cib-type-subtitle2-stronger-font-size); background-color: rgb(255, 255, 255); color: rgb(17, 17, 17); font-family: -apple-system, Roboto, SegoeUI, &quot;Segoe UI&quot;, &quot;Helvetica Neue&quot;, Helvetica, &quot;Microsoft YaHei&quot;, &quot;Meiryo UI&quot;, Meiryo, &quot;Arial Unicode MS&quot;, sans-serif; line-height: var(--cib-type-subtitle2-stronger-line-height); font-variation-settings: var(--cib-type-subtitle2-stronger-font-variation-settings);\"><b>Columns</b></span><span style=\"font-size: var(--cib-type-body2-font-size); background-color: rgb(255, 255, 255); color: rgb(17, 17, 17); font-family: -apple-system, Roboto, SegoeUI, &quot;Segoe UI&quot;, &quot;Helvetica Neue&quot;, Helvetica, &quot;Microsoft YaHei&quot;, &quot;Meiryo UI&quot;, Meiryo, &quot;Arial Unicode MS&quot;, sans-serif;\">: The columns selected are custid, orderdate, orderid, and the row number computed by ROW_NUMBER() (also goes by rownum.)</span>  \n",
                "<span style=\"font-size: var(--cib-type-subtitle2-stronger-font-size); background-color: rgb(255, 255, 255); color: rgb(17, 17, 17); font-family: -apple-system, Roboto, SegoeUI, &quot;Segoe UI&quot;, &quot;Helvetica Neue&quot;, Helvetica, &quot;Microsoft YaHei&quot;, &quot;Meiryo UI&quot;, Meiryo, &quot;Arial Unicode MS&quot;, sans-serif; line-height: var(--cib-type-subtitle2-stronger-line-height); font-variation-settings: var(--cib-type-subtitle2-stronger-font-variation-settings);\"><b>Predicate</b></span><span style=\"font-size: var(--cib-type-body2-font-size); background-color: rgb(255, 255, 255); color: rgb(17, 17, 17); font-family: -apple-system, Roboto, SegoeUI, &quot;Segoe UI&quot;, &quot;Helvetica Neue&quot;, Helvetica, &quot;Microsoft YaHei&quot;, &quot;Meiryo UI&quot;, Meiryo, &quot;Arial Unicode MS&quot;, sans-serif;\">: The predicate of this query is the condition specified in the&nbsp;</span>  `PARTITION BY`  <span style=\"font-size: var(--cib-type-body2-font-size); background-color: rgb(255, 255, 255); color: rgb(17, 17, 17); font-family: -apple-system, Roboto, SegoeUI, &quot;Segoe UI&quot;, &quot;Helvetica Neue&quot;, Helvetica, &quot;Microsoft YaHei&quot;, &quot;Meiryo UI&quot;, Meiryo, &quot;Arial Unicode MS&quot;, sans-serif;\">&nbsp;and&nbsp;</span>  `ORDER BY`  <span style=\"font-size: var(--cib-type-body2-font-size); background-color: rgb(255, 255, 255); color: rgb(17, 17, 17); font-family: -apple-system, Roboto, SegoeUI, &quot;Segoe UI&quot;, &quot;Helvetica Neue&quot;, Helvetica, &quot;Microsoft YaHei&quot;, &quot;Meiryo UI&quot;, Meiryo, &quot;Arial Unicode MS&quot;, sans-serif;\">&nbsp;clauses. In the&nbsp;</span>  `PARTITION BY`  <span style=\"font-size: var(--cib-type-body2-font-size); background-color: rgb(255, 255, 255); color: rgb(17, 17, 17); font-family: -apple-system, Roboto, SegoeUI, &quot;Segoe UI&quot;, &quot;Helvetica Neue&quot;, Helvetica, &quot;Microsoft YaHei&quot;, &quot;Meiryo UI&quot;, Meiryo, &quot;Arial Unicode MS&quot;, sans-serif;\">&nbsp;clause, the predicate is&nbsp;</span>  `custid`<span style=\"font-size: var(--cib-type-body2-font-size); background-color: rgb(255, 255, 255); color: rgb(17, 17, 17); font-family: -apple-system, Roboto, SegoeUI, &quot;Segoe UI&quot;, &quot;Helvetica Neue&quot;, Helvetica, &quot;Microsoft YaHei&quot;, &quot;Meiryo UI&quot;, Meiryo, &quot;Arial Unicode MS&quot;, sans-serif;\">, meaning the row number is reset for each unique&nbsp;</span>  `custid`<span style=\"font-size: var(--cib-type-body2-font-size); background-color: rgb(255, 255, 255); color: rgb(17, 17, 17); font-family: -apple-system, Roboto, SegoeUI, &quot;Segoe UI&quot;, &quot;Helvetica Neue&quot;, Helvetica, &quot;Microsoft YaHei&quot;, &quot;Meiryo UI&quot;, Meiryo, &quot;Arial Unicode MS&quot;, sans-serif;\">. In the&nbsp;</span>  `ORDER BY`  <span style=\"font-size: var(--cib-type-body2-font-size); background-color: rgb(255, 255, 255); color: rgb(17, 17, 17); font-family: -apple-system, Roboto, SegoeUI, &quot;Segoe UI&quot;, &quot;Helvetica Neue&quot;, Helvetica, &quot;Microsoft YaHei&quot;, &quot;Meiryo UI&quot;, Meiryo, &quot;Arial Unicode MS&quot;, sans-serif;\">&nbsp;clause, the predicate is&nbsp;</span>  `orderdate`  <span style=\"font-size: var(--cib-type-body2-font-size); background-color: rgb(255, 255, 255); color: rgb(17, 17, 17); font-family: -apple-system, Roboto, SegoeUI, &quot;Segoe UI&quot;, &quot;Helvetica Neue&quot;, Helvetica, &quot;Microsoft YaHei&quot;, &quot;Meiryo UI&quot;, Meiryo, &quot;Arial Unicode MS&quot;, sans-serif;\">&nbsp;and&nbsp;</span>  `orderid`<span style=\"font-size: var(--cib-type-body2-font-size); background-color: rgb(255, 255, 255); color: rgb(17, 17, 17); font-family: -apple-system, Roboto, SegoeUI, &quot;Segoe UI&quot;, &quot;Helvetica Neue&quot;, Helvetica, &quot;Microsoft YaHei&quot;, &quot;Meiryo UI&quot;, Meiryo, &quot;Arial Unicode MS&quot;, sans-serif;\">, meaning within each partition, rows are ordered by&nbsp;</span>  `orderdate`  <span style=\"font-size: var(--cib-type-body2-font-size); background-color: rgb(255, 255, 255); color: rgb(17, 17, 17); font-family: -apple-system, Roboto, SegoeUI, &quot;Segoe UI&quot;, &quot;Helvetica Neue&quot;, Helvetica, &quot;Microsoft YaHei&quot;, &quot;Meiryo UI&quot;, Meiryo, &quot;Arial Unicode MS&quot;, sans-serif;\">&nbsp;and&nbsp;</span>  `orderid`<span style=\"font-size: var(--cib-type-body2-font-size); background-color: rgb(255, 255, 255); color: rgb(17, 17, 17); font-family: -apple-system, Roboto, SegoeUI, &quot;Segoe UI&quot;, &quot;Helvetica Neue&quot;, Helvetica, &quot;Microsoft YaHei&quot;, &quot;Meiryo UI&quot;, Meiryo, &quot;Arial Unicode MS&quot;, sans-serif;\">. The final&nbsp;</span>  `ORDER BY`  <span style=\"font-size: var(--cib-type-body2-font-size); background-color: rgb(255, 255, 255); color: rgb(17, 17, 17); font-family: -apple-system, Roboto, SegoeUI, &quot;Segoe UI&quot;, &quot;Helvetica Neue&quot;, Helvetica, &quot;Microsoft YaHei&quot;, &quot;Meiryo UI&quot;, Meiryo, &quot;Arial Unicode MS&quot;, sans-serif;\">&nbsp;clause sorts the results by&nbsp;</span>  `custid`  <span style=\"font-size: var(--cib-type-body2-font-size); background-color: rgb(255, 255, 255); color: rgb(17, 17, 17); font-family: -apple-system, Roboto, SegoeUI, &quot;Segoe UI&quot;, &quot;Helvetica Neue&quot;, Helvetica, &quot;Microsoft YaHei&quot;, &quot;Meiryo UI&quot;, Meiryo, &quot;Arial Unicode MS&quot;, sans-serif;\">&nbsp;and&nbsp;</span>  `rownum`<span style=\"font-size: var(--cib-type-body2-font-size); background-color: rgb(255, 255, 255); color: rgb(17, 17, 17); font-family: -apple-system, Roboto, SegoeUI, &quot;Segoe UI&quot;, &quot;Helvetica Neue&quot;, Helvetica, &quot;Microsoft YaHei&quot;, &quot;Meiryo UI&quot;, Meiryo, &quot;Arial Unicode MS&quot;, sans-serif;\">.</span>\n",
                "\n",
                "<span style=\"font-size: var(--cib-type-body2-font-size); background-color: rgb(255, 255, 255); color: rgb(17, 17, 17); font-family: -apple-system, Roboto, SegoeUI, &quot;Segoe UI&quot;, &quot;Helvetica Neue&quot;, Helvetica, &quot;Microsoft YaHei&quot;, &quot;Meiryo UI&quot;, Meiryo, &quot;Arial Unicode MS&quot;, sans-serif;\"><br></span>"
            ],
            "metadata": {
                "azdata_cell_guid": "49d9e1ee-5c59-4a34-872d-1b6a074d077d",
                "language": ""
            },
            "attachments": {}
        },
        {
            "cell_type": "code",
            "source": [
                "USE TSQLV4; -- Specify the database to use\r\n",
                "\r\n",
                "-- Select the desired columns\r\n",
                "SELECT \r\n",
                "    custid, -- Customer ID\r\n",
                "    orderdate, -- Order date\r\n",
                "    orderid, -- Order ID\r\n",
                "    ROW_NUMBER() OVER ( -- Assign a unique row number\r\n",
                "        PARTITION BY custid -- Partition by Customer ID\r\n",
                "        ORDER BY orderdate, orderid -- Order by Order date and Order ID within each partition\r\n",
                "    ) AS rownum -- Alias the row number as 'rownum'\r\n",
                "FROM Sales.Orders -- From the 'Orders' table in the 'Sales' schema\r\n",
                "ORDER BY custid, rownum; -- Order the results by Customer ID and row number"
            ],
            "metadata": {
                "azdata_cell_guid": "53d010d0-3240-4259-bf98-2d8cc712f592",
                "language": "sql",
                "tags": []
            },
            "outputs": [],
            "execution_count": null
        },
        {
            "cell_type": "code",
            "source": [
                "USE Northwinds2022TSQLV7; -- Specify the database to use\r\n",
                "\r\n",
                "-- Select the desired columns\r\n",
                "SELECT \r\n",
                "    CustomerId, -- Customer ID\r\n",
                "    OrderDate, -- Order date\r\n",
                "    Orderid, -- Order ID\r\n",
                "    ROW_NUMBER() OVER ( -- Assign a unique row number\r\n",
                "        PARTITION BY CustomerId -- Partition by Customer ID\r\n",
                "        ORDER BY OrderDate, Orderid -- Order by Order date and Order ID within each partition\r\n",
                "    ) AS rownum -- Alias the row number as 'rownum'\r\n",
                "FROM Sales.[Order] -- From the 'Order' table in the 'Sales' schema\r\n",
                "ORDER BY CustomerId, rownum; -- Order the results by Customer ID and row number\r\n",
                ""
            ],
            "metadata": {
                "azdata_cell_guid": "2b2de668-fc9f-4560-9e16-68de0e241462",
                "language": "sql"
            },
            "outputs": [],
            "execution_count": null
        },
        {
            "cell_type": "markdown",
            "source": [
                "Zack Mamdouh | Group 6 | Question 9\n",
                "\n",
                "Question 9:\n",
                "\n",
                "- <span style=\"font-size: var(--cib-type-subtitle2-stronger-font-size); line-height: var(--cib-type-subtitle2-stronger-line-height); font-variation-settings: var(--cib-type-subtitle2-stronger-font-variation-settings);\"><b>Proposition</b></span>: The proposition of this query is to select employee details and determine the gender based on the `titleofcourtesy`. This is achieved using the `CASE` statement.\n",
                "    \n",
                "- <span style=\"font-size: var(--cib-type-subtitle2-stronger-font-size); line-height: var(--cib-type-subtitle2-stronger-line-height); font-variation-settings: var(--cib-type-subtitle2-stronger-font-variation-settings);\"><b>Table</b></span>: The table in query is `HR.Employees` in the `TSQLV4` database.\n",
                "    \n",
                "- <span style=\"font-size: var(--cib-type-subtitle2-stronger-font-size); line-height: var(--cib-type-subtitle2-stronger-line-height); font-variation-settings: var(--cib-type-subtitle2-stronger-font-variation-settings);\"><b>Columns</b></span>: The columns we are selecting are `empid`, `firstname`, `lastname`, `titleofcourtesy`, and the gender determined by the `CASE` statement (aliased as `gender`).\n",
                "    \n",
                "- <span style=\"font-size: var(--cib-type-subtitle2-stronger-font-size); line-height: var(--cib-type-subtitle2-stronger-line-height); font-variation-settings: var(--cib-type-subtitle2-stronger-font-variation-settings);\"><b>Predicate</b></span>: The predicate of this query is the condition specified in the `CASE` statement. If the `titleofcourtesy` is ‘Mr.’, then the gender is ‘Male’. If the `titleofcourtesy` is ‘Ms.’ or ‘Mrs.’, then the gender is ‘Female’. If the `titleofcourtesy` is not any of these, then the gender is ‘Unknown’"
            ],
            "metadata": {
                "azdata_cell_guid": "524c5de7-e8d3-49c5-9d3a-92db808d5028"
            },
            "attachments": {}
        },
        {
            "cell_type": "code",
            "source": [
                "USE TSQLV4; -- Specify the database to use\r\n",
                "\r\n",
                "-- Select the desired columns\r\n",
                "SELECT \r\n",
                "    e.empid, -- Employee ID\r\n",
                "    e.firstname, -- First name\r\n",
                "    e.lastname, -- Last name\r\n",
                "    e.titleofcourtesy, -- Title of courtesy\r\n",
                "    CASE e.titleofcourtesy -- Determine the gender based on the title of courtesy\r\n",
                "        WHEN 'Mr.' THEN 'Male' \r\n",
                "        WHEN 'Ms.' THEN 'Female' \r\n",
                "        WHEN 'Mrs.' THEN 'Female' \r\n",
                "        ELSE 'Unknown' \r\n",
                "    END as gender -- Alias the result of the CASE statement as 'gender'\r\n",
                "FROM HR.Employees as e; -- From the 'Employees' table in the 'HR' schema"
            ],
            "metadata": {
                "azdata_cell_guid": "5c2a1800-18f1-4eef-8829-9d572d71a72b",
                "language": "sql"
            },
            "outputs": [],
            "execution_count": null
        },
        {
            "cell_type": "code",
            "source": [
                "USE Northwinds2022TSQLV7;\r\n",
                "SELECT \r\n",
                "    e.EmployeeId, \r\n",
                "    e.EmployeeFirstName, \r\n",
                "    e.EmployeeLastName, \r\n",
                "    e.EmployeeTitleOfCourtesy, \r\n",
                "    CASE e.EmployeeTitleOfCourtesy \r\n",
                "        WHEN 'Mr.' THEN 'Male' \r\n",
                "        WHEN 'Ms.' THEN 'Female' \r\n",
                "        WHEN 'Mrs.' THEN 'Female' \r\n",
                "        ELSE 'Unknown' \r\n",
                "    END as Gender \r\n",
                "FROM HumanResources.Employee as e;"
            ],
            "metadata": {
                "azdata_cell_guid": "5ee942b4-1b4e-40af-b86b-27e1335e8f29",
                "language": "sql"
            },
            "outputs": [],
            "execution_count": null
        },
        {
            "cell_type": "markdown",
            "source": [
                "Zack Mamdouh | Group 6 | Question 10\n",
                "\n",
                "<span style=\"color: rgb(17, 17, 17); font-family: -apple-system, Roboto, SegoeUI, &quot;Segoe UI&quot;, &quot;Helvetica Neue&quot;, Helvetica, &quot;Microsoft YaHei&quot;, &quot;Meiryo UI&quot;, Meiryo, &quot;Arial Unicode MS&quot;, sans-serif; font-size: 16px; background-color: rgb(255, 255, 255);\">In both queries, we return for each customer the customer ID and region, and sort the rows in the output by region, having NULLs sort last. The&nbsp;</span>  `CASE`  <span style=\"color: rgb(17, 17, 17); font-family: -apple-system, Roboto, SegoeUI, &quot;Segoe UI&quot;, &quot;Helvetica Neue&quot;, Helvetica, &quot;Microsoft YaHei&quot;, &quot;Meiryo UI&quot;, Meiryo, &quot;Arial Unicode MS&quot;, sans-serif; font-size: 16px; background-color: rgb(255, 255, 255);\">&nbsp;statement in the&nbsp;</span>  `ORDER BY`  <span style=\"color: rgb(17, 17, 17); font-family: -apple-system, Roboto, SegoeUI, &quot;Segoe UI&quot;, &quot;Helvetica Neue&quot;, Helvetica, &quot;Microsoft YaHei&quot;, &quot;Meiryo UI&quot;, Meiryo, &quot;Arial Unicode MS&quot;, sans-serif; font-size: 16px; background-color: rgb(255, 255, 255);\">&nbsp;clause is used to make NULLs sort last. If the region is NULL, it returns 1, otherwise it returns 0. Since 0 is less than 1, non-NULL values will sort before NULL values. Then, it sorts by the region.</span>\n",
                "\n",
                "<span style=\"color: rgb(17, 17, 17); font-family: -apple-system, Roboto, SegoeUI, &quot;Segoe UI&quot;, &quot;Helvetica Neue&quot;, Helvetica, &quot;Microsoft YaHei&quot;, &quot;Meiryo UI&quot;, Meiryo, &quot;Arial Unicode MS&quot;, sans-serif; font-size: 16px; background-color: rgb(255, 255, 255);\"><br></span>\n",
                "\n",
                "<span style=\"font-size: var(--cib-type-subtitle2-stronger-font-size); background-color: rgb(255, 255, 255); color: rgb(17, 17, 17); font-family: -apple-system, Roboto, SegoeUI, &quot;Segoe UI&quot;, &quot;Helvetica Neue&quot;, Helvetica, &quot;Microsoft YaHei&quot;, &quot;Meiryo UI&quot;, Meiryo, &quot;Arial Unicode MS&quot;, sans-serif; line-height: var(--cib-type-subtitle2-stronger-line-height); font-variation-settings: var(--cib-type-subtitle2-stronger-font-variation-settings);\"><b>Proposition</b></span><span style=\"font-size: var(--cib-type-body2-font-size); font-weight: var(--cib-type-body2-font-weight); background-color: rgb(255, 255, 255); color: rgb(17, 17, 17); font-family: -apple-system, Roboto, SegoeUI, &quot;Segoe UI&quot;, &quot;Helvetica Neue&quot;, Helvetica, &quot;Microsoft YaHei&quot;, &quot;Meiryo UI&quot;, Meiryo, &quot;Arial Unicode MS&quot;, sans-serif;\">: The proposition of the query is to select customer details and sort the rows in the output by region, having NULLs sort last. This is achieved using the</span> `CASE` <span style=\"font-size: var(--cib-type-body2-font-size); font-weight: var(--cib-type-body2-font-weight); background-color: rgb(255, 255, 255); color: rgb(17, 17, 17); font-family: -apple-system, Roboto, SegoeUI, &quot;Segoe UI&quot;, &quot;Helvetica Neue&quot;, Helvetica, &quot;Microsoft YaHei&quot;, &quot;Meiryo UI&quot;, Meiryo, &quot;Arial Unicode MS&quot;, sans-serif;\">statement in the</span> `ORDER BY` <span style=\"font-size: var(--cib-type-body2-font-size); font-weight: var(--cib-type-body2-font-weight); background-color: rgb(255, 255, 255); color: rgb(17, 17, 17); font-family: -apple-system, Roboto, SegoeUI, &quot;Segoe UI&quot;, &quot;Helvetica Neue&quot;, Helvetica, &quot;Microsoft YaHei&quot;, &quot;Meiryo UI&quot;, Meiryo, &quot;Arial Unicode MS&quot;, sans-serif;\">clause.</span>  \n",
                "<span style=\"font-size: var(--cib-type-subtitle2-stronger-font-size); background-color: rgb(255, 255, 255); color: rgb(17, 17, 17); font-family: -apple-system, Roboto, SegoeUI, &quot;Segoe UI&quot;, &quot;Helvetica Neue&quot;, Helvetica, &quot;Microsoft YaHei&quot;, &quot;Meiryo UI&quot;, Meiryo, &quot;Arial Unicode MS&quot;, sans-serif; line-height: var(--cib-type-subtitle2-stronger-line-height); font-variation-settings: var(--cib-type-subtitle2-stronger-font-variation-settings);\"><b>Table</b></span><span style=\"font-size: var(--cib-type-body2-font-size); font-weight: var(--cib-type-body2-font-weight); background-color: rgb(255, 255, 255); color: rgb(17, 17, 17); font-family: -apple-system, Roboto, SegoeUI, &quot;Segoe UI&quot;, &quot;Helvetica Neue&quot;, Helvetica, &quot;Microsoft YaHei&quot;, &quot;Meiryo UI&quot;, Meiryo, &quot;Arial Unicode MS&quot;, sans-serif;\">: The table querying is</span> `Sales.Customers` <span style=\"font-size: var(--cib-type-body2-font-size); font-weight: var(--cib-type-body2-font-weight); background-color: rgb(255, 255, 255); color: rgb(17, 17, 17); font-family: -apple-system, Roboto, SegoeUI, &quot;Segoe UI&quot;, &quot;Helvetica Neue&quot;, Helvetica, &quot;Microsoft YaHei&quot;, &quot;Meiryo UI&quot;, Meiryo, &quot;Arial Unicode MS&quot;, sans-serif;\">in the</span> `TSQLV4` <span style=\"font-size: var(--cib-type-body2-font-size); font-weight: var(--cib-type-body2-font-weight); background-color: rgb(255, 255, 255); color: rgb(17, 17, 17); font-family: -apple-system, Roboto, SegoeUI, &quot;Segoe UI&quot;, &quot;Helvetica Neue&quot;, Helvetica, &quot;Microsoft YaHei&quot;, &quot;Meiryo UI&quot;, Meiryo, &quot;Arial Unicode MS&quot;, sans-serif;\">database.</span>  \n",
                "<span style=\"font-size: var(--cib-type-subtitle2-stronger-font-size); background-color: rgb(255, 255, 255); color: rgb(17, 17, 17); font-family: -apple-system, Roboto, SegoeUI, &quot;Segoe UI&quot;, &quot;Helvetica Neue&quot;, Helvetica, &quot;Microsoft YaHei&quot;, &quot;Meiryo UI&quot;, Meiryo, &quot;Arial Unicode MS&quot;, sans-serif; line-height: var(--cib-type-subtitle2-stronger-line-height); font-variation-settings: var(--cib-type-subtitle2-stronger-font-variation-settings);\"><b>Columns</b></span><span style=\"font-size: var(--cib-type-body2-font-size); font-weight: var(--cib-type-body2-font-weight); background-color: rgb(255, 255, 255); color: rgb(17, 17, 17); font-family: -apple-system, Roboto, SegoeUI, &quot;Segoe UI&quot;, &quot;Helvetica Neue&quot;, Helvetica, &quot;Microsoft YaHei&quot;, &quot;Meiryo UI&quot;, Meiryo, &quot;Arial Unicode MS&quot;, sans-serif;\">: The columns selected are</span> `custid` <span style=\"font-size: var(--cib-type-body2-font-size); font-weight: var(--cib-type-body2-font-weight); background-color: rgb(255, 255, 255); color: rgb(17, 17, 17); font-family: -apple-system, Roboto, SegoeUI, &quot;Segoe UI&quot;, &quot;Helvetica Neue&quot;, Helvetica, &quot;Microsoft YaHei&quot;, &quot;Meiryo UI&quot;, Meiryo, &quot;Arial Unicode MS&quot;, sans-serif;\">and</span> `region`<span style=\"font-size: var(--cib-type-body2-font-size); font-weight: var(--cib-type-body2-font-weight); background-color: rgb(255, 255, 255); color: rgb(17, 17, 17); font-family: -apple-system, Roboto, SegoeUI, &quot;Segoe UI&quot;, &quot;Helvetica Neue&quot;, Helvetica, &quot;Microsoft YaHei&quot;, &quot;Meiryo UI&quot;, Meiryo, &quot;Arial Unicode MS&quot;, sans-serif;\">.</span>  \n",
                "<span style=\"font-size: var(--cib-type-subtitle2-stronger-font-size); background-color: rgb(255, 255, 255); color: rgb(17, 17, 17); font-family: -apple-system, Roboto, SegoeUI, &quot;Segoe UI&quot;, &quot;Helvetica Neue&quot;, Helvetica, &quot;Microsoft YaHei&quot;, &quot;Meiryo UI&quot;, Meiryo, &quot;Arial Unicode MS&quot;, sans-serif; line-height: var(--cib-type-subtitle2-stronger-line-height); font-variation-settings: var(--cib-type-subtitle2-stronger-font-variation-settings);\"><b>Predicate</b></span><span style=\"font-size: var(--cib-type-body2-font-size); font-weight: var(--cib-type-body2-font-weight); background-color: rgb(255, 255, 255); color: rgb(17, 17, 17); font-family: -apple-system, Roboto, SegoeUI, &quot;Segoe UI&quot;, &quot;Helvetica Neue&quot;, Helvetica, &quot;Microsoft YaHei&quot;, &quot;Meiryo UI&quot;, Meiryo, &quot;Arial Unicode MS&quot;, sans-serif;\">: The predicate of the query is the condition specified in the</span> `CASE` <span style=\"font-size: var(--cib-type-body2-font-size); font-weight: var(--cib-type-body2-font-weight); background-color: rgb(255, 255, 255); color: rgb(17, 17, 17); font-family: -apple-system, Roboto, SegoeUI, &quot;Segoe UI&quot;, &quot;Helvetica Neue&quot;, Helvetica, &quot;Microsoft YaHei&quot;, &quot;Meiryo UI&quot;, Meiryo, &quot;Arial Unicode MS&quot;, sans-serif;\">statement in the</span> `ORDER BY` <span style=\"font-size: var(--cib-type-body2-font-size); font-weight: var(--cib-type-body2-font-weight); background-color: rgb(255, 255, 255); color: rgb(17, 17, 17); font-family: -apple-system, Roboto, SegoeUI, &quot;Segoe UI&quot;, &quot;Helvetica Neue&quot;, Helvetica, &quot;Microsoft YaHei&quot;, &quot;Meiryo UI&quot;, Meiryo, &quot;Arial Unicode MS&quot;, sans-serif;\">clause. If the</span> `region` <span style=\"font-size: var(--cib-type-body2-font-size); font-weight: var(--cib-type-body2-font-weight); background-color: rgb(255, 255, 255); color: rgb(17, 17, 17); font-family: -apple-system, Roboto, SegoeUI, &quot;Segoe UI&quot;, &quot;Helvetica Neue&quot;, Helvetica, &quot;Microsoft YaHei&quot;, &quot;Meiryo UI&quot;, Meiryo, &quot;Arial Unicode MS&quot;, sans-serif;\">is NULL, it returns 1, otherwise it returns 0. Since 0 is less than 1, non-NULL values will sort before NULL values. Then, it sorts by the</span> `region`<span style=\"font-size: var(--cib-type-body2-font-size); font-weight: var(--cib-type-body2-font-weight); background-color: rgb(255, 255, 255); color: rgb(17, 17, 17); font-family: -apple-system, Roboto, SegoeUI, &quot;Segoe UI&quot;, &quot;Helvetica Neue&quot;, Helvetica, &quot;Microsoft YaHei&quot;, &quot;Meiryo UI&quot;, Meiryo, &quot;Arial Unicode MS&quot;, sans-serif;\">.</span>  \n",
                "\n",
                "<span style=\"color: rgb(17, 17, 17); font-family: -apple-system, Roboto, SegoeUI, &quot;Segoe UI&quot;, &quot;Helvetica Neue&quot;, Helvetica, &quot;Microsoft YaHei&quot;, &quot;Meiryo UI&quot;, Meiryo, &quot;Arial Unicode MS&quot;, sans-serif; font-size: 16px; background-color: rgb(255, 255, 255);\"><br></span>\n",
                "\n",
                "<span style=\"color: rgb(17, 17, 17); font-family: -apple-system, Roboto, SegoeUI, &quot;Segoe UI&quot;, &quot;Helvetica Neue&quot;, Helvetica, &quot;Microsoft YaHei&quot;, &quot;Meiryo UI&quot;, Meiryo, &quot;Arial Unicode MS&quot;, sans-serif; font-size: 16px; background-color: rgb(255, 255, 255);\"><br></span>"
            ],
            "metadata": {
                "azdata_cell_guid": "5981d3d1-106c-490b-ac03-56cbe19e2a6e"
            },
            "attachments": {}
        },
        {
            "cell_type": "code",
            "source": [
                "USE TSQLV4; -- Specify the database to use\r\n",
                "\r\n",
                "-- Select the desired columns\r\n",
                "SELECT \r\n",
                "    custid, -- Customer ID\r\n",
                "    region -- Region\r\n",
                "FROM Sales.Customers -- From the 'Customers' table in the 'Sales' schema\r\n",
                "ORDER BY \r\n",
                "    CASE WHEN region IS NULL THEN 1 ELSE 0 END, -- If the region is NULL, return 1, otherwise return 0\r\n",
                "    region; -- Order by region"
            ],
            "metadata": {
                "azdata_cell_guid": "a14a8e43-7dc0-4d68-81d7-46a89b1af54e",
                "language": "sql",
                "tags": []
            },
            "outputs": [],
            "execution_count": null
        },
        {
            "cell_type": "code",
            "source": [
                "USE Northwinds2022TSQLV7;\r\n",
                "SELECT \r\n",
                "    CustomerId AS custid, \r\n",
                "    Region AS region \r\n",
                "FROM Sales.Customer \r\n",
                "ORDER BY \r\n",
                "    CASE WHEN Region IS NULL THEN 1 ELSE 0 END, \r\n",
                "    Region;"
            ],
            "metadata": {
                "azdata_cell_guid": "e78d6169-61f0-47dc-918d-5b584871d54c",
                "language": "sql"
            },
            "outputs": [],
            "execution_count": null
        }
    ]
}