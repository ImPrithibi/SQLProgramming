{
    "metadata": {
        "kernelspec": {
            "name": "SQL",
            "display_name": "SQL",
            "language": "sql"
        },
        "language_info": {
            "name": "sql",
            "version": ""
        }
    },
    "nbformat_minor": 2,
    "nbformat": 4,
    "cells": [
        {
            "cell_type": "markdown",
            "source": [
                "Auyon Haque question 6 \n",
                "\n",
                "  \n",
                "\n",
                "```\n",
                "-- 6\n",
                "-- Explain the difference between the following two queries\n",
                "\n",
                "-- Query 1\n",
                "SELECT empid, COUNT(*) AS numorders\n",
                "FROM Sales.Orders\n",
                "WHERE orderdate < '20160501'\n",
                "GROUP BY empid;\n",
                "\n",
                "-- Query 2\n",
                "SELECT empid, COUNT(*) AS numorders\n",
                "FROM Sales.Orders\n",
                "GROUP BY empid\n",
                "HAVING MAX(orderdate) < '20160501';\n",
                "\n",
                "```"
            ],
            "metadata": {
                "azdata_cell_guid": "5accd022-6005-44a7-afc2-5a3561e2e136"
            },
            "attachments": {}
        },
        {
            "cell_type": "markdown",
            "source": [
                ". \n",
                "\n",
                "Query 1 \n",
                "\n",
                "SELECT empid, COUNT(\\*) AS numorders\n",
                "\n",
                "this line selects the employee id and counts the numbers of order for each employee. The column containing the count of orders will be labeled as numorders, which will also be the output.\n",
                "\n",
                "FROM Sales.Orders \n",
                "\n",
                "this line specifies the source of the data for the query.\n",
                "\n",
                "WHERE orderdate \\< '20160501'\n",
                "\n",
                "this line filters the rows to only show where the orderdate is before May 1st , 2016\n",
                "\n",
                "GROUP BY empid \n",
                "\n",
                "this line groups the selected rows by each employee id"
            ],
            "metadata": {
                "azdata_cell_guid": "66de443d-e91c-4b71-96e8-101aaf7aaf3a"
            },
            "attachments": {}
        },
        {
            "cell_type": "markdown",
            "source": [
                "Query 2\n",
                "\n",
                "SELECT empid, COUNT(\\*) AS numorders\n",
                "\n",
                "this line selects two pieces of infomation the employee ID and total count of orders \n",
                "\n",
                "FROM Sales.Orders \n",
                "\n",
                "this line specifies the source of the data for the query.\n",
                "\n",
                "GROUP BY empid \n",
                "\n",
                "this line groups the records by employee ID \n",
                "\n",
                "HAVING MAXorderdate) \\< '20160501';'\n",
                "\n",
                "this line uses the HAVING clause which filters groups after being formed, which only includes groups employee's who order has been placed on or after the date."
            ],
            "metadata": {
                "azdata_cell_guid": "79075b61-1782-4fbb-8992-28314bfeaa18"
            },
            "attachments": {}
        },
        {
            "cell_type": "markdown",
            "source": [
                "for query one it filters the data using a where clause before grouping, which means only the data that is before may 1 2026 is considered when grouping\n",
                "\n",
                "for query two it groups the data first then  filters it, which means all rows are considered when grouping \n",
                "\n",
                "both queries provide the same output because of the filter the only difference is how much space is used"
            ],
            "metadata": {
                "azdata_cell_guid": "596ed84a-8eb5-4e5a-8fbe-18b10dc04998"
            },
            "attachments": {}
        },
        {
            "cell_type": "code",
            "source": [
                "USE TSQLV4; \r\n",
                "SELECT empid, COUNT(*) AS numorders\r\n",
                "FROM Sales.Orders\r\n",
                "WHERE orderdate < '20160501'\r\n",
                "GROUP BY empid;"
            ],
            "metadata": {
                "azdata_cell_guid": "1b2649ce-1457-4901-a050-7a9fd4f9f312",
                "language": "sql"
            },
            "outputs": [
                {
                    "output_type": "display_data",
                    "data": {
                        "text/html": "(9 rows affected)"
                    },
                    "metadata": {}
                },
                {
                    "output_type": "display_data",
                    "data": {
                        "text/html": "Total execution time: 00:00:00.014"
                    },
                    "metadata": {}
                },
                {
                    "output_type": "execute_result",
                    "metadata": {},
                    "execution_count": 7,
                    "data": {
                        "application/vnd.dataresource+json": {
                            "schema": {
                                "fields": [
                                    {
                                        "name": "empid"
                                    },
                                    {
                                        "name": "numorders"
                                    }
                                ]
                            },
                            "data": [
                                {
                                    "empid": "1",
                                    "numorders": "118"
                                },
                                {
                                    "empid": "2",
                                    "numorders": "94"
                                },
                                {
                                    "empid": "3",
                                    "numorders": "127"
                                },
                                {
                                    "empid": "4",
                                    "numorders": "154"
                                },
                                {
                                    "empid": "5",
                                    "numorders": "42"
                                },
                                {
                                    "empid": "6",
                                    "numorders": "67"
                                },
                                {
                                    "empid": "7",
                                    "numorders": "70"
                                },
                                {
                                    "empid": "8",
                                    "numorders": "101"
                                },
                                {
                                    "empid": "9",
                                    "numorders": "43"
                                }
                            ]
                        },
                        "text/html": [
                            "<table>",
                            "<tr><th>empid</th><th>numorders</th></tr>",
                            "<tr><td>1</td><td>118</td></tr>",
                            "<tr><td>2</td><td>94</td></tr>",
                            "<tr><td>3</td><td>127</td></tr>",
                            "<tr><td>4</td><td>154</td></tr>",
                            "<tr><td>5</td><td>42</td></tr>",
                            "<tr><td>6</td><td>67</td></tr>",
                            "<tr><td>7</td><td>70</td></tr>",
                            "<tr><td>8</td><td>101</td></tr>",
                            "<tr><td>9</td><td>43</td></tr>",
                            "</table>"
                        ]
                    }
                }
            ],
            "execution_count": 7
        },
        {
            "cell_type": "code",
            "source": [
                "USE TSQLV4; \r\n",
                "SELECT empid, COUNT(*) AS numorders\r\n",
                "FROM Sales.Orders\r\n",
                "GROUP BY empid\r\n",
                "HAVING MAX(orderdate) < '20160501';"
            ],
            "metadata": {
                "language": "sql",
                "azdata_cell_guid": "2d2dcd1e-34da-4980-a7de-7307d07350a3"
            },
            "outputs": [
                {
                    "output_type": "display_data",
                    "data": {
                        "text/html": "(4 rows affected)"
                    },
                    "metadata": {}
                },
                {
                    "output_type": "display_data",
                    "data": {
                        "text/html": "Total execution time: 00:00:00.009"
                    },
                    "metadata": {}
                },
                {
                    "output_type": "execute_result",
                    "metadata": {},
                    "execution_count": 8,
                    "data": {
                        "application/vnd.dataresource+json": {
                            "schema": {
                                "fields": [
                                    {
                                        "name": "empid"
                                    },
                                    {
                                        "name": "numorders"
                                    }
                                ]
                            },
                            "data": [
                                {
                                    "empid": "9",
                                    "numorders": "43"
                                },
                                {
                                    "empid": "3",
                                    "numorders": "127"
                                },
                                {
                                    "empid": "6",
                                    "numorders": "67"
                                },
                                {
                                    "empid": "5",
                                    "numorders": "42"
                                }
                            ]
                        },
                        "text/html": [
                            "<table>",
                            "<tr><th>empid</th><th>numorders</th></tr>",
                            "<tr><td>9</td><td>43</td></tr>",
                            "<tr><td>3</td><td>127</td></tr>",
                            "<tr><td>6</td><td>67</td></tr>",
                            "<tr><td>5</td><td>42</td></tr>",
                            "</table>"
                        ]
                    }
                }
            ],
            "execution_count": 8
        },
        {
            "cell_type": "code",
            "source": [
                "USE Northwinds2022TSQLV7;\r\n",
                "SELECT EmployeeId, COUNT(*) AS numorders\r\n",
                "FROM Sales.[Order]\r\n",
                "WHERE orderdate < '20160501'\r\n",
                "GROUP BY EmployeeId;"
            ],
            "metadata": {
                "azdata_cell_guid": "bbabb222-0db2-42f8-b507-20a823698993",
                "language": "sql"
            },
            "outputs": [
                {
                    "output_type": "display_data",
                    "data": {
                        "text/html": "(9 rows affected)"
                    },
                    "metadata": {}
                },
                {
                    "output_type": "display_data",
                    "data": {
                        "text/html": "Total execution time: 00:00:00.009"
                    },
                    "metadata": {}
                },
                {
                    "output_type": "execute_result",
                    "metadata": {},
                    "execution_count": 10,
                    "data": {
                        "application/vnd.dataresource+json": {
                            "schema": {
                                "fields": [
                                    {
                                        "name": "EmployeeId"
                                    },
                                    {
                                        "name": "numorders"
                                    }
                                ]
                            },
                            "data": [
                                {
                                    "EmployeeId": "9",
                                    "numorders": "43"
                                },
                                {
                                    "EmployeeId": "3",
                                    "numorders": "127"
                                },
                                {
                                    "EmployeeId": "6",
                                    "numorders": "67"
                                },
                                {
                                    "EmployeeId": "7",
                                    "numorders": "70"
                                },
                                {
                                    "EmployeeId": "1",
                                    "numorders": "118"
                                },
                                {
                                    "EmployeeId": "4",
                                    "numorders": "154"
                                },
                                {
                                    "EmployeeId": "5",
                                    "numorders": "42"
                                },
                                {
                                    "EmployeeId": "2",
                                    "numorders": "94"
                                },
                                {
                                    "EmployeeId": "8",
                                    "numorders": "101"
                                }
                            ]
                        },
                        "text/html": [
                            "<table>",
                            "<tr><th>EmployeeId</th><th>numorders</th></tr>",
                            "<tr><td>9</td><td>43</td></tr>",
                            "<tr><td>3</td><td>127</td></tr>",
                            "<tr><td>6</td><td>67</td></tr>",
                            "<tr><td>7</td><td>70</td></tr>",
                            "<tr><td>1</td><td>118</td></tr>",
                            "<tr><td>4</td><td>154</td></tr>",
                            "<tr><td>5</td><td>42</td></tr>",
                            "<tr><td>2</td><td>94</td></tr>",
                            "<tr><td>8</td><td>101</td></tr>",
                            "</table>"
                        ]
                    }
                }
            ],
            "execution_count": 10
        },
        {
            "cell_type": "code",
            "source": [
                "USE Northwinds2022TSQLV7; \r\n",
                "SELECT EmployeeId, COUNT(*) AS numorders\r\n",
                "FROM Sales.[Order]\r\n",
                "GROUP BY EmployeeId\r\n",
                "HAVING MAX(orderdate) < '20160501';"
            ],
            "metadata": {
                "azdata_cell_guid": "5e1eb050-e5c8-43b2-925c-c775397f3929",
                "language": "sql"
            },
            "outputs": [
                {
                    "output_type": "display_data",
                    "data": {
                        "text/html": "(4 rows affected)"
                    },
                    "metadata": {}
                },
                {
                    "output_type": "display_data",
                    "data": {
                        "text/html": "Total execution time: 00:00:00.007"
                    },
                    "metadata": {}
                },
                {
                    "output_type": "execute_result",
                    "metadata": {},
                    "execution_count": 11,
                    "data": {
                        "application/vnd.dataresource+json": {
                            "schema": {
                                "fields": [
                                    {
                                        "name": "EmployeeId"
                                    },
                                    {
                                        "name": "numorders"
                                    }
                                ]
                            },
                            "data": [
                                {
                                    "EmployeeId": "9",
                                    "numorders": "43"
                                },
                                {
                                    "EmployeeId": "3",
                                    "numorders": "127"
                                },
                                {
                                    "EmployeeId": "6",
                                    "numorders": "67"
                                },
                                {
                                    "EmployeeId": "5",
                                    "numorders": "42"
                                }
                            ]
                        },
                        "text/html": [
                            "<table>",
                            "<tr><th>EmployeeId</th><th>numorders</th></tr>",
                            "<tr><td>9</td><td>43</td></tr>",
                            "<tr><td>3</td><td>127</td></tr>",
                            "<tr><td>6</td><td>67</td></tr>",
                            "<tr><td>5</td><td>42</td></tr>",
                            "</table>"
                        ]
                    }
                }
            ],
            "execution_count": 11
        },
        {
            "cell_type": "markdown",
            "source": [
                "Auyon Haque Question 7"
            ],
            "metadata": {
                "azdata_cell_guid": "770e23a7-a2e9-4bd8-a8de-ac8f5371d6aa"
            },
            "attachments": {}
        },
        {
            "cell_type": "markdown",
            "source": [
                "```\n",
                "-- 7 \n",
                "-- Return the three ship countries with the highest average freight for orders placed in 2015\n",
                "-- Tables involved: Sales.Orders table\n",
                "\n",
                "-- Desired output:\n",
                "shipcountry     avgfreight\n",
                "--------------- ---------------------\n",
                "Austria         178.3642\n",
                "Switzerland     117.1775\n",
                "Sweden          105.16\n",
                "\n",
                "(3 row(s) affected)\n",
                "```"
            ],
            "metadata": {
                "azdata_cell_guid": "107bd71e-6e90-4993-a71e-83114c033aa3"
            },
            "attachments": {}
        },
        {
            "cell_type": "code",
            "source": [
                "USE TSQLV4;\r\n",
                "\r\n",
                "SELECT TOP 3 \r\n",
                "    shipcountry,\r\n",
                "    AVG(freight) as avgfreight\r\n",
                "FROM \r\n",
                "    SALES.Orders\r\n",
                "WHERE\r\n",
                "    YEAR(orderdate) = 2015\r\n",
                "Group BY \r\n",
                "    shipcountry\r\n",
                "ORDER BY \r\n",
                "    AVG(freight) DESC;\r\n",
                ""
            ],
            "metadata": {
                "azdata_cell_guid": "56dff007-eed9-40e9-98ec-6fcd4d804772",
                "language": "sql"
            },
            "outputs": [
                {
                    "output_type": "display_data",
                    "data": {
                        "text/html": "(3 rows affected)"
                    },
                    "metadata": {}
                },
                {
                    "output_type": "display_data",
                    "data": {
                        "text/html": "Total execution time: 00:00:00.014"
                    },
                    "metadata": {}
                },
                {
                    "output_type": "execute_result",
                    "metadata": {},
                    "execution_count": 4,
                    "data": {
                        "application/vnd.dataresource+json": {
                            "schema": {
                                "fields": [
                                    {
                                        "name": "shipcountry"
                                    },
                                    {
                                        "name": "avgfreight"
                                    }
                                ]
                            },
                            "data": [
                                {
                                    "shipcountry": "Austria",
                                    "avgfreight": "178.3642"
                                },
                                {
                                    "shipcountry": "Switzerland",
                                    "avgfreight": "117.1775"
                                },
                                {
                                    "shipcountry": "Sweden",
                                    "avgfreight": "105.16"
                                }
                            ]
                        },
                        "text/html": [
                            "<table>",
                            "<tr><th>shipcountry</th><th>avgfreight</th></tr>",
                            "<tr><td>Austria</td><td>178.3642</td></tr>",
                            "<tr><td>Switzerland</td><td>117.1775</td></tr>",
                            "<tr><td>Sweden</td><td>105.16</td></tr>",
                            "</table>"
                        ]
                    }
                }
            ],
            "execution_count": 4
        },
        {
            "cell_type": "code",
            "source": [
                "USE Northwinds2022TSQLV7; \r\n",
                "SELECT TOP 3 \r\n",
                "    ShipToCountry, \r\n",
                "    AVG(Freight) as avgfreight \r\n",
                "FROM \r\n",
                "    Sales.[Order]\r\n",
                "WHERE\r\n",
                "    YEAR(OrderDate) = 2015\r\n",
                "Group BY \r\n",
                "    ShipToCountry \r\n",
                "Order BY \r\n",
                "    AVG(Freight) DESC;"
            ],
            "metadata": {
                "azdata_cell_guid": "34c1e890-a305-4c80-9d12-96429afe7e17",
                "language": "sql",
                "tags": []
            },
            "outputs": [
                {
                    "output_type": "display_data",
                    "data": {
                        "text/html": "(3 rows affected)"
                    },
                    "metadata": {}
                },
                {
                    "output_type": "display_data",
                    "data": {
                        "text/html": "Total execution time: 00:00:00.006"
                    },
                    "metadata": {}
                },
                {
                    "output_type": "execute_result",
                    "metadata": {},
                    "execution_count": 6,
                    "data": {
                        "application/vnd.dataresource+json": {
                            "schema": {
                                "fields": [
                                    {
                                        "name": "ShipToCountry"
                                    },
                                    {
                                        "name": "avgfreight"
                                    }
                                ]
                            },
                            "data": [
                                {
                                    "ShipToCountry": "Austria",
                                    "avgfreight": "178.3642"
                                },
                                {
                                    "ShipToCountry": "Switzerland",
                                    "avgfreight": "117.1775"
                                },
                                {
                                    "ShipToCountry": "Sweden",
                                    "avgfreight": "105.16"
                                }
                            ]
                        },
                        "text/html": [
                            "<table>",
                            "<tr><th>ShipToCountry</th><th>avgfreight</th></tr>",
                            "<tr><td>Austria</td><td>178.3642</td></tr>",
                            "<tr><td>Switzerland</td><td>117.1775</td></tr>",
                            "<tr><td>Sweden</td><td>105.16</td></tr>",
                            "</table>"
                        ]
                    }
                }
            ],
            "execution_count": 6
        },
        {
            "cell_type": "markdown",
            "source": [
                "Line by line explaination of sql code \n",
                "\n",
                "USE TSQLV4 \n",
                "\n",
                "this line switches the context to the respective database ie Northwinds2022TSQLV7 or TSQLV4, this means all operations will be performed in that database, ie different tables/cols for each one \n",
                "\n",
                "SELECT TOP 3 \n",
                "\n",
                "this line starts the query by only showing the first 3 rows of the result set \n",
                "\n",
                "shipcountry \n",
                "\n",
                "this line specifies that the shipcountry from SALES.Orders will be included from the output \n",
                "\n",
                "AVG(freight) as avgfreight \n",
                "\n",
                "this line calculates the average value of freight column for each group in shipcountry. The result wil be displayed as avgfreight in the output.\n",
                "\n",
                "FROM SALES.Orders\n",
                "\n",
                "this line specifies that the data will be taken from the Orders table within SALES schema \n",
                "\n",
                "WHERE YEAR(orderdate) = 2015 \n",
                "\n",
                "this line fitlers the rows to where the orderdate is 2015. The year function takes the year from the orderdate date-time column \n",
                "\n",
                "Group BY shipcountry \n",
                "\n",
                "this line groups the selcted rows based on the shipcountry column. The AVG(frerght) is calculated on each country separately \n",
                "\n",
                "ORDER BY AVG(freight) DESC; \n",
                "\n",
                "this line makes sure the results are ordered by average freight value (avgfreight) in descending order(DESC). This means the highest average freight cost wil be at the top of the list. \n",
                "\n",
                "This code is same for <span style=\"color: var(--vscode-foreground);\">Northwinds2022TSQLV7 but the tables being called are slightly different</span>\n",
                "\n",
                "<span style=\"color: var(--vscode-foreground);\">The output are the same each query so that means they are true&nbsp;</span>"
            ],
            "metadata": {
                "language": "sql",
                "azdata_cell_guid": "334f943c-0500-4ff9-9e77-384462c59056"
            },
            "attachments": {}
        }
    ]
}