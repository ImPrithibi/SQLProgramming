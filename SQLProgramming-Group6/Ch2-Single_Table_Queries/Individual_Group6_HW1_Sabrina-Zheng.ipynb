{
    "metadata": {
        "kernelspec": {
            "name": "SQL",
            "display_name": "SQL",
            "language": "sql"
        },
        "language_info": {
            "name": "sql",
            "version": ""
        }
    },
    "nbformat_minor": 2,
    "nbformat": 4,
    "cells": [
        {
            "cell_type": "markdown",
            "source": [
                "**Sabrina Zheng | Group 6 | Questions 1, 2, 3**\n",
                "\n",
                "**Question 1:** \n",
                "\n",
                "\\-- Return orders placed in June 2015\n",
                "\n",
                "\\-- Tables involved: TSQLV4 database, Sales.Orders table\n",
                "\n",
                "  \n",
                "\n",
                "\\-- Desired output:\n",
                "\n",
                "orderid     orderdate  custid      empid\n",
                "\n",
                "\\----------- ---------- ----------- -----------\n",
                "\n",
                "10555       2015-06-02 71          6\n",
                "\n",
                "10556       2015-06-03 73          2\n",
                "\n",
                "10557       2015-06-03 44          9\n",
                "\n",
                "10558       2015-06-04 4           1\n",
                "\n",
                "10559       2015-06-05 7           6\n",
                "\n",
                "10560       2015-06-06 25          8\n",
                "\n",
                "10561       2015-06-06 24          2\n",
                "\n",
                "10562       2015-06-09 66          1\n",
                "\n",
                "10563       2015-06-10 67          2\n",
                "\n",
                "10564       2015-06-10 65          4"
            ],
            "metadata": {
                "azdata_cell_guid": "c63bdd0c-ec73-4880-818f-a7fa6bfe0dc5"
            },
            "attachments": {}
        },
        {
            "cell_type": "code",
            "source": [
                "-- Query using TSQLV4 database\r\n",
                "USE TSQLV4;\r\n",
                "\r\n",
                "SELECT o.orderid, o.orderdate, o.custid, o.empid\r\n",
                "FROM Sales.Orders as o\r\n",
                "WHERE o.orderdate >= '2015-06-01' \r\n",
                "  AND o.orderdate < '2015-07-01';"
            ],
            "metadata": {
                "azdata_cell_guid": "aa65ff01-92e7-4893-8a43-fe45536a6e16",
                "language": "sql"
            },
            "outputs": [
                {
                    "output_type": "display_data",
                    "data": {
                        "text/html": "(30 rows affected)"
                    },
                    "metadata": {}
                },
                {
                    "output_type": "display_data",
                    "data": {
                        "text/html": "Total execution time: 00:00:00.009"
                    },
                    "metadata": {}
                },
                {
                    "output_type": "execute_result",
                    "execution_count": 21,
                    "data": {
                        "application/vnd.dataresource+json": {
                            "schema": {
                                "fields": [
                                    {
                                        "name": "orderid"
                                    },
                                    {
                                        "name": "orderdate"
                                    },
                                    {
                                        "name": "custid"
                                    },
                                    {
                                        "name": "empid"
                                    }
                                ]
                            },
                            "data": [
                                {
                                    "orderid": "10555",
                                    "orderdate": "2015-06-02",
                                    "custid": "71",
                                    "empid": "6"
                                },
                                {
                                    "orderid": "10556",
                                    "orderdate": "2015-06-03",
                                    "custid": "73",
                                    "empid": "2"
                                },
                                {
                                    "orderid": "10557",
                                    "orderdate": "2015-06-03",
                                    "custid": "44",
                                    "empid": "9"
                                },
                                {
                                    "orderid": "10558",
                                    "orderdate": "2015-06-04",
                                    "custid": "4",
                                    "empid": "1"
                                },
                                {
                                    "orderid": "10559",
                                    "orderdate": "2015-06-05",
                                    "custid": "7",
                                    "empid": "6"
                                },
                                {
                                    "orderid": "10560",
                                    "orderdate": "2015-06-06",
                                    "custid": "25",
                                    "empid": "8"
                                },
                                {
                                    "orderid": "10561",
                                    "orderdate": "2015-06-06",
                                    "custid": "24",
                                    "empid": "2"
                                },
                                {
                                    "orderid": "10562",
                                    "orderdate": "2015-06-09",
                                    "custid": "66",
                                    "empid": "1"
                                },
                                {
                                    "orderid": "10563",
                                    "orderdate": "2015-06-10",
                                    "custid": "67",
                                    "empid": "2"
                                },
                                {
                                    "orderid": "10564",
                                    "orderdate": "2015-06-10",
                                    "custid": "65",
                                    "empid": "4"
                                },
                                {
                                    "orderid": "10565",
                                    "orderdate": "2015-06-11",
                                    "custid": "51",
                                    "empid": "8"
                                },
                                {
                                    "orderid": "10566",
                                    "orderdate": "2015-06-12",
                                    "custid": "7",
                                    "empid": "9"
                                },
                                {
                                    "orderid": "10567",
                                    "orderdate": "2015-06-12",
                                    "custid": "37",
                                    "empid": "1"
                                },
                                {
                                    "orderid": "10568",
                                    "orderdate": "2015-06-13",
                                    "custid": "29",
                                    "empid": "3"
                                },
                                {
                                    "orderid": "10569",
                                    "orderdate": "2015-06-16",
                                    "custid": "65",
                                    "empid": "5"
                                },
                                {
                                    "orderid": "10570",
                                    "orderdate": "2015-06-17",
                                    "custid": "51",
                                    "empid": "3"
                                },
                                {
                                    "orderid": "10571",
                                    "orderdate": "2015-06-17",
                                    "custid": "20",
                                    "empid": "8"
                                },
                                {
                                    "orderid": "10572",
                                    "orderdate": "2015-06-18",
                                    "custid": "5",
                                    "empid": "3"
                                },
                                {
                                    "orderid": "10573",
                                    "orderdate": "2015-06-19",
                                    "custid": "3",
                                    "empid": "7"
                                },
                                {
                                    "orderid": "10574",
                                    "orderdate": "2015-06-19",
                                    "custid": "82",
                                    "empid": "4"
                                },
                                {
                                    "orderid": "10575",
                                    "orderdate": "2015-06-20",
                                    "custid": "52",
                                    "empid": "5"
                                },
                                {
                                    "orderid": "10576",
                                    "orderdate": "2015-06-23",
                                    "custid": "80",
                                    "empid": "3"
                                },
                                {
                                    "orderid": "10577",
                                    "orderdate": "2015-06-23",
                                    "custid": "82",
                                    "empid": "9"
                                },
                                {
                                    "orderid": "10578",
                                    "orderdate": "2015-06-24",
                                    "custid": "11",
                                    "empid": "4"
                                },
                                {
                                    "orderid": "10579",
                                    "orderdate": "2015-06-25",
                                    "custid": "45",
                                    "empid": "1"
                                },
                                {
                                    "orderid": "10580",
                                    "orderdate": "2015-06-26",
                                    "custid": "56",
                                    "empid": "4"
                                },
                                {
                                    "orderid": "10581",
                                    "orderdate": "2015-06-26",
                                    "custid": "21",
                                    "empid": "3"
                                },
                                {
                                    "orderid": "10582",
                                    "orderdate": "2015-06-27",
                                    "custid": "6",
                                    "empid": "3"
                                },
                                {
                                    "orderid": "10583",
                                    "orderdate": "2015-06-30",
                                    "custid": "87",
                                    "empid": "2"
                                },
                                {
                                    "orderid": "10584",
                                    "orderdate": "2015-06-30",
                                    "custid": "7",
                                    "empid": "4"
                                }
                            ]
                        },
                        "text/html": "<table><tr><th>orderid</th><th>orderdate</th><th>custid</th><th>empid</th></tr><tr><td>10555</td><td>2015-06-02</td><td>71</td><td>6</td></tr><tr><td>10556</td><td>2015-06-03</td><td>73</td><td>2</td></tr><tr><td>10557</td><td>2015-06-03</td><td>44</td><td>9</td></tr><tr><td>10558</td><td>2015-06-04</td><td>4</td><td>1</td></tr><tr><td>10559</td><td>2015-06-05</td><td>7</td><td>6</td></tr><tr><td>10560</td><td>2015-06-06</td><td>25</td><td>8</td></tr><tr><td>10561</td><td>2015-06-06</td><td>24</td><td>2</td></tr><tr><td>10562</td><td>2015-06-09</td><td>66</td><td>1</td></tr><tr><td>10563</td><td>2015-06-10</td><td>67</td><td>2</td></tr><tr><td>10564</td><td>2015-06-10</td><td>65</td><td>4</td></tr><tr><td>10565</td><td>2015-06-11</td><td>51</td><td>8</td></tr><tr><td>10566</td><td>2015-06-12</td><td>7</td><td>9</td></tr><tr><td>10567</td><td>2015-06-12</td><td>37</td><td>1</td></tr><tr><td>10568</td><td>2015-06-13</td><td>29</td><td>3</td></tr><tr><td>10569</td><td>2015-06-16</td><td>65</td><td>5</td></tr><tr><td>10570</td><td>2015-06-17</td><td>51</td><td>3</td></tr><tr><td>10571</td><td>2015-06-17</td><td>20</td><td>8</td></tr><tr><td>10572</td><td>2015-06-18</td><td>5</td><td>3</td></tr><tr><td>10573</td><td>2015-06-19</td><td>3</td><td>7</td></tr><tr><td>10574</td><td>2015-06-19</td><td>82</td><td>4</td></tr><tr><td>10575</td><td>2015-06-20</td><td>52</td><td>5</td></tr><tr><td>10576</td><td>2015-06-23</td><td>80</td><td>3</td></tr><tr><td>10577</td><td>2015-06-23</td><td>82</td><td>9</td></tr><tr><td>10578</td><td>2015-06-24</td><td>11</td><td>4</td></tr><tr><td>10579</td><td>2015-06-25</td><td>45</td><td>1</td></tr><tr><td>10580</td><td>2015-06-26</td><td>56</td><td>4</td></tr><tr><td>10581</td><td>2015-06-26</td><td>21</td><td>3</td></tr><tr><td>10582</td><td>2015-06-27</td><td>6</td><td>3</td></tr><tr><td>10583</td><td>2015-06-30</td><td>87</td><td>2</td></tr><tr><td>10584</td><td>2015-06-30</td><td>7</td><td>4</td></tr></table>"
                    },
                    "metadata": {}
                }
            ],
            "execution_count": 21
        },
        {
            "cell_type": "markdown",
            "source": [
                "1. <span style=\"color: var(--vscode-foreground);\">USE TSQLV4;</span>\n",
                "\n",
                "<span style=\"color: var(--vscode-foreground);\">Switch to the TSQLV4 database.</span>\n",
                "\n",
                "2\\. SELECT o.orderid, o.orderdate, o.custid, o.empid: Choose orderid, orderdate, custid, and empid from the Sales.Orders table, aliasing it as o.\n",
                "\n",
                "3\\. FROM Sales.Orders as o: Specify that the data will be retrieved from the Sales.Orders table, referring to it as o.\n",
                "\n",
                "4\\. WHERE o.orderdate \\>= '2015-06-01' AND o.orderdate \\< '2015-07-01';\n",
                "\n",
                "Filter the rows to include only those where the orderdate is on or after June 1, 2015, but before July 1, 2015."
            ],
            "metadata": {
                "azdata_cell_guid": "a4d0dc34-211b-4b00-b6ed-02f92183429c"
            },
            "attachments": {}
        },
        {
            "cell_type": "code",
            "source": [
                "-- Query using Northwinds2022TSQLV7 database \r\n",
                "USE Northwinds2022TSQLV7;\r\n",
                "\r\n",
                "SELECT o.orderid, o.orderdate, o.customerid, o.employeeid\r\n",
                "FROM Sales.[Order] as o\r\n",
                "WHERE o.orderdate >= '2015-06-01' \r\n",
                "  AND o.orderdate < '2015-07-01';"
            ],
            "metadata": {
                "azdata_cell_guid": "4f943cfb-b029-40f8-8a75-6efc5e206161",
                "language": "sql",
                "tags": []
            },
            "outputs": [
                {
                    "output_type": "display_data",
                    "data": {
                        "text/html": "(30 rows affected)"
                    },
                    "metadata": {}
                },
                {
                    "output_type": "display_data",
                    "data": {
                        "text/html": "Total execution time: 00:00:00.007"
                    },
                    "metadata": {}
                },
                {
                    "output_type": "execute_result",
                    "execution_count": 22,
                    "data": {
                        "application/vnd.dataresource+json": {
                            "schema": {
                                "fields": [
                                    {
                                        "name": "orderid"
                                    },
                                    {
                                        "name": "orderdate"
                                    },
                                    {
                                        "name": "customerid"
                                    },
                                    {
                                        "name": "employeeid"
                                    }
                                ]
                            },
                            "data": [
                                {
                                    "orderid": "10555",
                                    "orderdate": "2015-06-02",
                                    "customerid": "71",
                                    "employeeid": "6"
                                },
                                {
                                    "orderid": "10556",
                                    "orderdate": "2015-06-03",
                                    "customerid": "73",
                                    "employeeid": "2"
                                },
                                {
                                    "orderid": "10557",
                                    "orderdate": "2015-06-03",
                                    "customerid": "44",
                                    "employeeid": "9"
                                },
                                {
                                    "orderid": "10558",
                                    "orderdate": "2015-06-04",
                                    "customerid": "4",
                                    "employeeid": "1"
                                },
                                {
                                    "orderid": "10559",
                                    "orderdate": "2015-06-05",
                                    "customerid": "7",
                                    "employeeid": "6"
                                },
                                {
                                    "orderid": "10560",
                                    "orderdate": "2015-06-06",
                                    "customerid": "25",
                                    "employeeid": "8"
                                },
                                {
                                    "orderid": "10561",
                                    "orderdate": "2015-06-06",
                                    "customerid": "24",
                                    "employeeid": "2"
                                },
                                {
                                    "orderid": "10562",
                                    "orderdate": "2015-06-09",
                                    "customerid": "66",
                                    "employeeid": "1"
                                },
                                {
                                    "orderid": "10563",
                                    "orderdate": "2015-06-10",
                                    "customerid": "67",
                                    "employeeid": "2"
                                },
                                {
                                    "orderid": "10564",
                                    "orderdate": "2015-06-10",
                                    "customerid": "65",
                                    "employeeid": "4"
                                },
                                {
                                    "orderid": "10565",
                                    "orderdate": "2015-06-11",
                                    "customerid": "51",
                                    "employeeid": "8"
                                },
                                {
                                    "orderid": "10566",
                                    "orderdate": "2015-06-12",
                                    "customerid": "7",
                                    "employeeid": "9"
                                },
                                {
                                    "orderid": "10567",
                                    "orderdate": "2015-06-12",
                                    "customerid": "37",
                                    "employeeid": "1"
                                },
                                {
                                    "orderid": "10568",
                                    "orderdate": "2015-06-13",
                                    "customerid": "29",
                                    "employeeid": "3"
                                },
                                {
                                    "orderid": "10569",
                                    "orderdate": "2015-06-16",
                                    "customerid": "65",
                                    "employeeid": "5"
                                },
                                {
                                    "orderid": "10570",
                                    "orderdate": "2015-06-17",
                                    "customerid": "51",
                                    "employeeid": "3"
                                },
                                {
                                    "orderid": "10571",
                                    "orderdate": "2015-06-17",
                                    "customerid": "20",
                                    "employeeid": "8"
                                },
                                {
                                    "orderid": "10572",
                                    "orderdate": "2015-06-18",
                                    "customerid": "5",
                                    "employeeid": "3"
                                },
                                {
                                    "orderid": "10573",
                                    "orderdate": "2015-06-19",
                                    "customerid": "3",
                                    "employeeid": "7"
                                },
                                {
                                    "orderid": "10574",
                                    "orderdate": "2015-06-19",
                                    "customerid": "82",
                                    "employeeid": "4"
                                },
                                {
                                    "orderid": "10575",
                                    "orderdate": "2015-06-20",
                                    "customerid": "52",
                                    "employeeid": "5"
                                },
                                {
                                    "orderid": "10576",
                                    "orderdate": "2015-06-23",
                                    "customerid": "80",
                                    "employeeid": "3"
                                },
                                {
                                    "orderid": "10577",
                                    "orderdate": "2015-06-23",
                                    "customerid": "82",
                                    "employeeid": "9"
                                },
                                {
                                    "orderid": "10578",
                                    "orderdate": "2015-06-24",
                                    "customerid": "11",
                                    "employeeid": "4"
                                },
                                {
                                    "orderid": "10579",
                                    "orderdate": "2015-06-25",
                                    "customerid": "45",
                                    "employeeid": "1"
                                },
                                {
                                    "orderid": "10580",
                                    "orderdate": "2015-06-26",
                                    "customerid": "56",
                                    "employeeid": "4"
                                },
                                {
                                    "orderid": "10581",
                                    "orderdate": "2015-06-26",
                                    "customerid": "21",
                                    "employeeid": "3"
                                },
                                {
                                    "orderid": "10582",
                                    "orderdate": "2015-06-27",
                                    "customerid": "6",
                                    "employeeid": "3"
                                },
                                {
                                    "orderid": "10583",
                                    "orderdate": "2015-06-30",
                                    "customerid": "87",
                                    "employeeid": "2"
                                },
                                {
                                    "orderid": "10584",
                                    "orderdate": "2015-06-30",
                                    "customerid": "7",
                                    "employeeid": "4"
                                }
                            ]
                        },
                        "text/html": "<table><tr><th>orderid</th><th>orderdate</th><th>customerid</th><th>employeeid</th></tr><tr><td>10555</td><td>2015-06-02</td><td>71</td><td>6</td></tr><tr><td>10556</td><td>2015-06-03</td><td>73</td><td>2</td></tr><tr><td>10557</td><td>2015-06-03</td><td>44</td><td>9</td></tr><tr><td>10558</td><td>2015-06-04</td><td>4</td><td>1</td></tr><tr><td>10559</td><td>2015-06-05</td><td>7</td><td>6</td></tr><tr><td>10560</td><td>2015-06-06</td><td>25</td><td>8</td></tr><tr><td>10561</td><td>2015-06-06</td><td>24</td><td>2</td></tr><tr><td>10562</td><td>2015-06-09</td><td>66</td><td>1</td></tr><tr><td>10563</td><td>2015-06-10</td><td>67</td><td>2</td></tr><tr><td>10564</td><td>2015-06-10</td><td>65</td><td>4</td></tr><tr><td>10565</td><td>2015-06-11</td><td>51</td><td>8</td></tr><tr><td>10566</td><td>2015-06-12</td><td>7</td><td>9</td></tr><tr><td>10567</td><td>2015-06-12</td><td>37</td><td>1</td></tr><tr><td>10568</td><td>2015-06-13</td><td>29</td><td>3</td></tr><tr><td>10569</td><td>2015-06-16</td><td>65</td><td>5</td></tr><tr><td>10570</td><td>2015-06-17</td><td>51</td><td>3</td></tr><tr><td>10571</td><td>2015-06-17</td><td>20</td><td>8</td></tr><tr><td>10572</td><td>2015-06-18</td><td>5</td><td>3</td></tr><tr><td>10573</td><td>2015-06-19</td><td>3</td><td>7</td></tr><tr><td>10574</td><td>2015-06-19</td><td>82</td><td>4</td></tr><tr><td>10575</td><td>2015-06-20</td><td>52</td><td>5</td></tr><tr><td>10576</td><td>2015-06-23</td><td>80</td><td>3</td></tr><tr><td>10577</td><td>2015-06-23</td><td>82</td><td>9</td></tr><tr><td>10578</td><td>2015-06-24</td><td>11</td><td>4</td></tr><tr><td>10579</td><td>2015-06-25</td><td>45</td><td>1</td></tr><tr><td>10580</td><td>2015-06-26</td><td>56</td><td>4</td></tr><tr><td>10581</td><td>2015-06-26</td><td>21</td><td>3</td></tr><tr><td>10582</td><td>2015-06-27</td><td>6</td><td>3</td></tr><tr><td>10583</td><td>2015-06-30</td><td>87</td><td>2</td></tr><tr><td>10584</td><td>2015-06-30</td><td>7</td><td>4</td></tr></table>"
                    },
                    "metadata": {}
                }
            ],
            "execution_count": 22
        },
        {
            "cell_type": "markdown",
            "source": [
                "1. <span style=\"color: var(--vscode-foreground);\">USE Northwinds2022TSQLV7;</span>\n",
                "\n",
                "<span style=\"color: var(--vscode-foreground);\">Switch to the Northwinds2022TSQLV7 database</span>\n",
                "\n",
                "<span style=\"color: var(--vscode-foreground);\"><br></span>\n",
                "\n",
                "2. <span style=\"color: var(--vscode-foreground);\">SELECT o.orderid, o.orderdate, o.customerid, o.employeeid</span>\n",
                "\n",
                "<span style=\"color: var(--vscode-foreground);\">Choose orderid, orderdate, customerid, and employeeid from the Sales.Order table, aliasing it as o.</span>\n",
                "\n",
                "<span style=\"color: var(--vscode-foreground);\"><br></span>\n",
                "\n",
                "3. <span style=\"color: var(--vscode-foreground);\">FROM Sales.[Order] as o</span>\n",
                "\n",
                "<span style=\"color: var(--vscode-foreground);\">Specifies that the data will be retrieved from the Sales.Order table, referring to it as o.</span>\n",
                "\n",
                "<span style=\"color: var(--vscode-foreground);\"><br></span>\n",
                "\n",
                "4\\. WHERE o.orderdate \\>= '2015-06-01' AND o.orderdate \\< '2015-07-01';\n",
                "\n",
                "Filters the rows to include only those where the orderdate is on or after June 1, 2015, but before July 1, 2015."
            ],
            "metadata": {
                "azdata_cell_guid": "a4be37d4-5ba7-43ab-af3c-ebde93a464be"
            },
            "attachments": {}
        },
        {
            "cell_type": "markdown",
            "source": [
                "**Question 2:**\n",
                "\n",
                "\\-- Return orders placed on the last day of the month\n",
                "\n",
                "\\-- Tables involved: Sales.Orders table\n",
                "\n",
                "  \n",
                "\n",
                "\\-- Desired output:\n",
                "\n",
                "orderid     orderdate  custid      empid\n",
                "\n",
                "\\----------- ---------- ----------- -----------\n",
                "\n",
                "10269       2014-07-31 89          5\n",
                "\n",
                "10317       2014-09-30 48          6\n",
                "\n",
                "10343       2014-10-31 44          4\n",
                "\n",
                "10399       2014-12-31 83          8\n",
                "\n",
                "10432       2015-01-31 75          3\n",
                "\n",
                "10460       2015-02-28 24          8\n",
                "\n",
                "10461       2015-02-28 46          1\n",
                "\n",
                "10490       2015-03-31 35          7\n",
                "\n",
                "10491       2015-03-31 28          8\n",
                "\n",
                "10522       2015-04-30 44          4"
            ],
            "metadata": {
                "azdata_cell_guid": "7779d565-8c20-481c-8be0-3068b44bd207"
            },
            "attachments": {}
        },
        {
            "cell_type": "code",
            "source": [
                "-- Query using TSQLV4 database\r\n",
                "USE TSQLV4;\r\n",
                "-- With the EOMONTH function\r\n",
                "SELECT orderid, orderdate, custid, empid\r\n",
                "FROM Sales.Orders\r\n",
                "WHERE orderdate = EOMONTH(orderdate);"
            ],
            "metadata": {
                "azdata_cell_guid": "a64a2f50-82ae-4b1b-bd7d-2c8575f4fd7b",
                "language": "sql"
            },
            "outputs": [
                {
                    "output_type": "display_data",
                    "data": {
                        "text/html": "(26 rows affected)"
                    },
                    "metadata": {}
                },
                {
                    "output_type": "display_data",
                    "data": {
                        "text/html": "Total execution time: 00:00:00.008"
                    },
                    "metadata": {}
                },
                {
                    "output_type": "execute_result",
                    "execution_count": 23,
                    "data": {
                        "application/vnd.dataresource+json": {
                            "schema": {
                                "fields": [
                                    {
                                        "name": "orderid"
                                    },
                                    {
                                        "name": "orderdate"
                                    },
                                    {
                                        "name": "custid"
                                    },
                                    {
                                        "name": "empid"
                                    }
                                ]
                            },
                            "data": [
                                {
                                    "orderid": "10269",
                                    "orderdate": "2014-07-31",
                                    "custid": "89",
                                    "empid": "5"
                                },
                                {
                                    "orderid": "10317",
                                    "orderdate": "2014-09-30",
                                    "custid": "48",
                                    "empid": "6"
                                },
                                {
                                    "orderid": "10343",
                                    "orderdate": "2014-10-31",
                                    "custid": "44",
                                    "empid": "4"
                                },
                                {
                                    "orderid": "10399",
                                    "orderdate": "2014-12-31",
                                    "custid": "83",
                                    "empid": "8"
                                },
                                {
                                    "orderid": "10432",
                                    "orderdate": "2015-01-31",
                                    "custid": "75",
                                    "empid": "3"
                                },
                                {
                                    "orderid": "10460",
                                    "orderdate": "2015-02-28",
                                    "custid": "24",
                                    "empid": "8"
                                },
                                {
                                    "orderid": "10461",
                                    "orderdate": "2015-02-28",
                                    "custid": "46",
                                    "empid": "1"
                                },
                                {
                                    "orderid": "10490",
                                    "orderdate": "2015-03-31",
                                    "custid": "35",
                                    "empid": "7"
                                },
                                {
                                    "orderid": "10491",
                                    "orderdate": "2015-03-31",
                                    "custid": "28",
                                    "empid": "8"
                                },
                                {
                                    "orderid": "10522",
                                    "orderdate": "2015-04-30",
                                    "custid": "44",
                                    "empid": "4"
                                },
                                {
                                    "orderid": "10583",
                                    "orderdate": "2015-06-30",
                                    "custid": "87",
                                    "empid": "2"
                                },
                                {
                                    "orderid": "10584",
                                    "orderdate": "2015-06-30",
                                    "custid": "7",
                                    "empid": "4"
                                },
                                {
                                    "orderid": "10616",
                                    "orderdate": "2015-07-31",
                                    "custid": "32",
                                    "empid": "1"
                                },
                                {
                                    "orderid": "10617",
                                    "orderdate": "2015-07-31",
                                    "custid": "32",
                                    "empid": "4"
                                },
                                {
                                    "orderid": "10686",
                                    "orderdate": "2015-09-30",
                                    "custid": "59",
                                    "empid": "2"
                                },
                                {
                                    "orderid": "10687",
                                    "orderdate": "2015-09-30",
                                    "custid": "37",
                                    "empid": "9"
                                },
                                {
                                    "orderid": "10725",
                                    "orderdate": "2015-10-31",
                                    "custid": "21",
                                    "empid": "4"
                                },
                                {
                                    "orderid": "10806",
                                    "orderdate": "2015-12-31",
                                    "custid": "84",
                                    "empid": "3"
                                },
                                {
                                    "orderid": "10807",
                                    "orderdate": "2015-12-31",
                                    "custid": "27",
                                    "empid": "4"
                                },
                                {
                                    "orderid": "10987",
                                    "orderdate": "2016-03-31",
                                    "custid": "19",
                                    "empid": "8"
                                },
                                {
                                    "orderid": "10988",
                                    "orderdate": "2016-03-31",
                                    "custid": "65",
                                    "empid": "3"
                                },
                                {
                                    "orderid": "10989",
                                    "orderdate": "2016-03-31",
                                    "custid": "61",
                                    "empid": "2"
                                },
                                {
                                    "orderid": "11060",
                                    "orderdate": "2016-04-30",
                                    "custid": "27",
                                    "empid": "2"
                                },
                                {
                                    "orderid": "11061",
                                    "orderdate": "2016-04-30",
                                    "custid": "32",
                                    "empid": "4"
                                },
                                {
                                    "orderid": "11062",
                                    "orderdate": "2016-04-30",
                                    "custid": "66",
                                    "empid": "4"
                                },
                                {
                                    "orderid": "11063",
                                    "orderdate": "2016-04-30",
                                    "custid": "37",
                                    "empid": "3"
                                }
                            ]
                        },
                        "text/html": "<table><tr><th>orderid</th><th>orderdate</th><th>custid</th><th>empid</th></tr><tr><td>10269</td><td>2014-07-31</td><td>89</td><td>5</td></tr><tr><td>10317</td><td>2014-09-30</td><td>48</td><td>6</td></tr><tr><td>10343</td><td>2014-10-31</td><td>44</td><td>4</td></tr><tr><td>10399</td><td>2014-12-31</td><td>83</td><td>8</td></tr><tr><td>10432</td><td>2015-01-31</td><td>75</td><td>3</td></tr><tr><td>10460</td><td>2015-02-28</td><td>24</td><td>8</td></tr><tr><td>10461</td><td>2015-02-28</td><td>46</td><td>1</td></tr><tr><td>10490</td><td>2015-03-31</td><td>35</td><td>7</td></tr><tr><td>10491</td><td>2015-03-31</td><td>28</td><td>8</td></tr><tr><td>10522</td><td>2015-04-30</td><td>44</td><td>4</td></tr><tr><td>10583</td><td>2015-06-30</td><td>87</td><td>2</td></tr><tr><td>10584</td><td>2015-06-30</td><td>7</td><td>4</td></tr><tr><td>10616</td><td>2015-07-31</td><td>32</td><td>1</td></tr><tr><td>10617</td><td>2015-07-31</td><td>32</td><td>4</td></tr><tr><td>10686</td><td>2015-09-30</td><td>59</td><td>2</td></tr><tr><td>10687</td><td>2015-09-30</td><td>37</td><td>9</td></tr><tr><td>10725</td><td>2015-10-31</td><td>21</td><td>4</td></tr><tr><td>10806</td><td>2015-12-31</td><td>84</td><td>3</td></tr><tr><td>10807</td><td>2015-12-31</td><td>27</td><td>4</td></tr><tr><td>10987</td><td>2016-03-31</td><td>19</td><td>8</td></tr><tr><td>10988</td><td>2016-03-31</td><td>65</td><td>3</td></tr><tr><td>10989</td><td>2016-03-31</td><td>61</td><td>2</td></tr><tr><td>11060</td><td>2016-04-30</td><td>27</td><td>2</td></tr><tr><td>11061</td><td>2016-04-30</td><td>32</td><td>4</td></tr><tr><td>11062</td><td>2016-04-30</td><td>66</td><td>4</td></tr><tr><td>11063</td><td>2016-04-30</td><td>37</td><td>3</td></tr></table>"
                    },
                    "metadata": {}
                }
            ],
            "execution_count": 23
        },
        {
            "cell_type": "markdown",
            "source": [
                "1\\. USE TSQLV4;  \n",
                "Switch to the TSQLV4 database.\n",
                "\n",
                "<span style=\"color: var(--vscode-foreground);\"><br></span>\n",
                "\n",
                "<span style=\"color: var(--vscode-foreground);\">2. SELECT orderid, orderdate, custid, empid</span>\n",
                "\n",
                "<span style=\"color: var(--vscode-foreground);\">Choose orderid, orderdate, custid, and empid from the Sales.Orders table.</span>\n",
                "\n",
                "<span style=\"color: var(--vscode-foreground);\"><br></span>\n",
                "\n",
                "3\\. FROM Sales.Orders\n",
                "\n",
                "Specifies that the data will be retrieved from the Sales.Orders table.\n",
                "\n",
                "  \n",
                "\n",
                "4\\. WHERE orderdate = EOMONTH(orderdate);\n",
                "\n",
                "Filters the rows to include only those where the orderdate is the last day of the month. The EOMONTH function is used to calculate the end of the month for each orderdate."
            ],
            "metadata": {
                "azdata_cell_guid": "5e8e4538-7e51-48a8-a66e-445e4ef18eb0"
            },
            "attachments": {}
        },
        {
            "cell_type": "code",
            "source": [
                "-- Query using Northwinds2022TSQLV7 database\r\n",
                "USE Northwinds2022TSQLV7;\r\n",
                "\r\n",
                "SELECT orderid, orderdate, customerid, employeeid\r\n",
                "FROM Sales.[Order]\r\n",
                "WHERE OrderDate = EOMONTH(OrderDate);"
            ],
            "metadata": {
                "azdata_cell_guid": "8d8f23c9-3a86-41a2-acf2-991ed93a3ae5",
                "language": "sql"
            },
            "outputs": [
                {
                    "output_type": "display_data",
                    "data": {
                        "text/html": "(26 rows affected)"
                    },
                    "metadata": {}
                },
                {
                    "output_type": "display_data",
                    "data": {
                        "text/html": "Total execution time: 00:00:00.012"
                    },
                    "metadata": {}
                },
                {
                    "output_type": "execute_result",
                    "execution_count": 24,
                    "data": {
                        "application/vnd.dataresource+json": {
                            "schema": {
                                "fields": [
                                    {
                                        "name": "orderid"
                                    },
                                    {
                                        "name": "orderdate"
                                    },
                                    {
                                        "name": "customerid"
                                    },
                                    {
                                        "name": "employeeid"
                                    }
                                ]
                            },
                            "data": [
                                {
                                    "orderid": "10269",
                                    "orderdate": "2014-07-31",
                                    "customerid": "89",
                                    "employeeid": "5"
                                },
                                {
                                    "orderid": "10317",
                                    "orderdate": "2014-09-30",
                                    "customerid": "48",
                                    "employeeid": "6"
                                },
                                {
                                    "orderid": "10343",
                                    "orderdate": "2014-10-31",
                                    "customerid": "44",
                                    "employeeid": "4"
                                },
                                {
                                    "orderid": "10399",
                                    "orderdate": "2014-12-31",
                                    "customerid": "83",
                                    "employeeid": "8"
                                },
                                {
                                    "orderid": "10432",
                                    "orderdate": "2015-01-31",
                                    "customerid": "75",
                                    "employeeid": "3"
                                },
                                {
                                    "orderid": "10460",
                                    "orderdate": "2015-02-28",
                                    "customerid": "24",
                                    "employeeid": "8"
                                },
                                {
                                    "orderid": "10461",
                                    "orderdate": "2015-02-28",
                                    "customerid": "46",
                                    "employeeid": "1"
                                },
                                {
                                    "orderid": "10490",
                                    "orderdate": "2015-03-31",
                                    "customerid": "35",
                                    "employeeid": "7"
                                },
                                {
                                    "orderid": "10491",
                                    "orderdate": "2015-03-31",
                                    "customerid": "28",
                                    "employeeid": "8"
                                },
                                {
                                    "orderid": "10522",
                                    "orderdate": "2015-04-30",
                                    "customerid": "44",
                                    "employeeid": "4"
                                },
                                {
                                    "orderid": "10583",
                                    "orderdate": "2015-06-30",
                                    "customerid": "87",
                                    "employeeid": "2"
                                },
                                {
                                    "orderid": "10584",
                                    "orderdate": "2015-06-30",
                                    "customerid": "7",
                                    "employeeid": "4"
                                },
                                {
                                    "orderid": "10616",
                                    "orderdate": "2015-07-31",
                                    "customerid": "32",
                                    "employeeid": "1"
                                },
                                {
                                    "orderid": "10617",
                                    "orderdate": "2015-07-31",
                                    "customerid": "32",
                                    "employeeid": "4"
                                },
                                {
                                    "orderid": "10686",
                                    "orderdate": "2015-09-30",
                                    "customerid": "59",
                                    "employeeid": "2"
                                },
                                {
                                    "orderid": "10687",
                                    "orderdate": "2015-09-30",
                                    "customerid": "37",
                                    "employeeid": "9"
                                },
                                {
                                    "orderid": "10725",
                                    "orderdate": "2015-10-31",
                                    "customerid": "21",
                                    "employeeid": "4"
                                },
                                {
                                    "orderid": "10806",
                                    "orderdate": "2015-12-31",
                                    "customerid": "84",
                                    "employeeid": "3"
                                },
                                {
                                    "orderid": "10807",
                                    "orderdate": "2015-12-31",
                                    "customerid": "27",
                                    "employeeid": "4"
                                },
                                {
                                    "orderid": "10987",
                                    "orderdate": "2016-03-31",
                                    "customerid": "19",
                                    "employeeid": "8"
                                },
                                {
                                    "orderid": "10988",
                                    "orderdate": "2016-03-31",
                                    "customerid": "65",
                                    "employeeid": "3"
                                },
                                {
                                    "orderid": "10989",
                                    "orderdate": "2016-03-31",
                                    "customerid": "61",
                                    "employeeid": "2"
                                },
                                {
                                    "orderid": "11060",
                                    "orderdate": "2016-04-30",
                                    "customerid": "27",
                                    "employeeid": "2"
                                },
                                {
                                    "orderid": "11061",
                                    "orderdate": "2016-04-30",
                                    "customerid": "32",
                                    "employeeid": "4"
                                },
                                {
                                    "orderid": "11062",
                                    "orderdate": "2016-04-30",
                                    "customerid": "66",
                                    "employeeid": "4"
                                },
                                {
                                    "orderid": "11063",
                                    "orderdate": "2016-04-30",
                                    "customerid": "37",
                                    "employeeid": "3"
                                }
                            ]
                        },
                        "text/html": "<table><tr><th>orderid</th><th>orderdate</th><th>customerid</th><th>employeeid</th></tr><tr><td>10269</td><td>2014-07-31</td><td>89</td><td>5</td></tr><tr><td>10317</td><td>2014-09-30</td><td>48</td><td>6</td></tr><tr><td>10343</td><td>2014-10-31</td><td>44</td><td>4</td></tr><tr><td>10399</td><td>2014-12-31</td><td>83</td><td>8</td></tr><tr><td>10432</td><td>2015-01-31</td><td>75</td><td>3</td></tr><tr><td>10460</td><td>2015-02-28</td><td>24</td><td>8</td></tr><tr><td>10461</td><td>2015-02-28</td><td>46</td><td>1</td></tr><tr><td>10490</td><td>2015-03-31</td><td>35</td><td>7</td></tr><tr><td>10491</td><td>2015-03-31</td><td>28</td><td>8</td></tr><tr><td>10522</td><td>2015-04-30</td><td>44</td><td>4</td></tr><tr><td>10583</td><td>2015-06-30</td><td>87</td><td>2</td></tr><tr><td>10584</td><td>2015-06-30</td><td>7</td><td>4</td></tr><tr><td>10616</td><td>2015-07-31</td><td>32</td><td>1</td></tr><tr><td>10617</td><td>2015-07-31</td><td>32</td><td>4</td></tr><tr><td>10686</td><td>2015-09-30</td><td>59</td><td>2</td></tr><tr><td>10687</td><td>2015-09-30</td><td>37</td><td>9</td></tr><tr><td>10725</td><td>2015-10-31</td><td>21</td><td>4</td></tr><tr><td>10806</td><td>2015-12-31</td><td>84</td><td>3</td></tr><tr><td>10807</td><td>2015-12-31</td><td>27</td><td>4</td></tr><tr><td>10987</td><td>2016-03-31</td><td>19</td><td>8</td></tr><tr><td>10988</td><td>2016-03-31</td><td>65</td><td>3</td></tr><tr><td>10989</td><td>2016-03-31</td><td>61</td><td>2</td></tr><tr><td>11060</td><td>2016-04-30</td><td>27</td><td>2</td></tr><tr><td>11061</td><td>2016-04-30</td><td>32</td><td>4</td></tr><tr><td>11062</td><td>2016-04-30</td><td>66</td><td>4</td></tr><tr><td>11063</td><td>2016-04-30</td><td>37</td><td>3</td></tr></table>"
                    },
                    "metadata": {}
                }
            ],
            "execution_count": 24
        },
        {
            "cell_type": "markdown",
            "source": [
                "1\\. USE Northwinds2022TSQLV7;\n",
                "\n",
                "Switch to the Northwinds2022TSQLV7 database.\n",
                "\n",
                "  \n",
                "\n",
                "2\\. SELECT orderid, orderdate, customerid, employeeid\n",
                "\n",
                "Choose orderid, orderdate, customerid, and employeeid from the Sales.Order table.\n",
                "\n",
                "  \n",
                "\n",
                "3. <span style=\"color: var(--vscode-foreground);\">FROM Sales.[Order]: Specify that the data will be retrieved from the Sales.Order table.</span>\n",
                "\n",
                "<span style=\"color: var(--vscode-foreground);\"><br></span>\n",
                "\n",
                "4\\. WHERE OrderDate = EOMONTH(OrderDate);\n",
                "\n",
                "Filters the rows to include only those where the OrderDate is the last day of the month. The EOMONTH function calculates the end of the month for each OrderDate."
            ],
            "metadata": {
                "azdata_cell_guid": "12b30d1b-86e2-4a79-871b-bbf34582427d"
            },
            "attachments": {}
        },
        {
            "cell_type": "markdown",
            "source": [
                "**Question 3:**\n",
                "\n",
                "\\-- Return employees with last name containing the letter 'e' twice or more\n",
                "\n",
                "\\-- Tables involved: HR.Employees table\n",
                "\n",
                "  \n",
                "\n",
                "\\-- Desired output:\n",
                "\n",
                "empid       firstname  lastname\n",
                "\n",
                "\\----------- ---------- --------------------\n",
                "\n",
                "4           Yael       Peled\n",
                "\n",
                "5           Sven       Mortensen"
            ],
            "metadata": {
                "azdata_cell_guid": "e4069004-2c0a-4ff8-bc02-8f7520ad020d"
            },
            "attachments": {}
        },
        {
            "cell_type": "code",
            "source": [
                "-- Query using TSQLV4 database\r\n",
                "USE TSQLV4;\r\n",
                "\r\n",
                "SELECT empid, firstname, lastname\r\n",
                "FROM HR.Employees\r\n",
                "WHERE lastname LIKE '%e%e%';"
            ],
            "metadata": {
                "azdata_cell_guid": "4689000b-ebb6-401e-bfe1-9ce7493b1b41",
                "language": "sql"
            },
            "outputs": [
                {
                    "output_type": "display_data",
                    "data": {
                        "text/html": "(2 rows affected)"
                    },
                    "metadata": {}
                },
                {
                    "output_type": "display_data",
                    "data": {
                        "text/html": "Total execution time: 00:00:00.028"
                    },
                    "metadata": {}
                },
                {
                    "output_type": "execute_result",
                    "execution_count": 25,
                    "data": {
                        "application/vnd.dataresource+json": {
                            "schema": {
                                "fields": [
                                    {
                                        "name": "empid"
                                    },
                                    {
                                        "name": "firstname"
                                    },
                                    {
                                        "name": "lastname"
                                    }
                                ]
                            },
                            "data": [
                                {
                                    "empid": "4",
                                    "firstname": "Yael",
                                    "lastname": "Peled"
                                },
                                {
                                    "empid": "5",
                                    "firstname": "Sven",
                                    "lastname": "Mortensen"
                                }
                            ]
                        },
                        "text/html": "<table><tr><th>empid</th><th>firstname</th><th>lastname</th></tr><tr><td>4</td><td>Yael</td><td>Peled</td></tr><tr><td>5</td><td>Sven</td><td>Mortensen</td></tr></table>"
                    },
                    "metadata": {}
                }
            ],
            "execution_count": 25
        },
        {
            "cell_type": "markdown",
            "source": [
                "1\\. USE TSQLV4;\n",
                "\n",
                "Switch to the TSQLV4 database.\n",
                "\n",
                "  \n",
                "\n",
                "2\\. SELECT empid, firstname, lastname\n",
                "\n",
                "Choose empid, firstname, and lastname from the HR.Employees table.\n",
                "\n",
                "  \n",
                "\n",
                "3\\. FROM HR.Employees\n",
                "\n",
                "<span style=\"color: var(--vscode-foreground);\">Specifies that the data will be retrieved from the HR.Employees table.</span>\n",
                "\n",
                "<span style=\"color: var(--vscode-foreground);\"><br></span>\n",
                "\n",
                "4\\. WHERE lastname LIKE '%e%e%';\n",
                "\n",
                "Filters the rows to include only those where the lastname contains the letter 'e' twice, with any characters before, in between, or after them. The % symbol is a wildcard that matches any sequence of characters."
            ],
            "metadata": {
                "azdata_cell_guid": "ac233c46-9f1c-474d-846b-2873a9f4359b"
            },
            "attachments": {}
        },
        {
            "cell_type": "code",
            "source": [
                "-- Query using Northwinds2022TSQLV7 database\r\n",
                "USE Northwinds2022TSQLV7;\r\n",
                "\r\n",
                "SELECT EmployeeID AS empid, EmployeeFirstName, EmployeeLastName\r\n",
                "FROM [HumanResources].[Employee]\r\n",
                "WHERE EmployeeLastName LIKE '%e%e%';\r\n",
                ""
            ],
            "metadata": {
                "azdata_cell_guid": "7480e12c-1269-4921-b80e-3424e685bae6",
                "language": "sql",
                "tags": []
            },
            "outputs": [
                {
                    "output_type": "display_data",
                    "data": {
                        "text/html": "(2 rows affected)"
                    },
                    "metadata": {}
                },
                {
                    "output_type": "display_data",
                    "data": {
                        "text/html": "Total execution time: 00:00:00.009"
                    },
                    "metadata": {}
                },
                {
                    "output_type": "execute_result",
                    "execution_count": 26,
                    "data": {
                        "application/vnd.dataresource+json": {
                            "schema": {
                                "fields": [
                                    {
                                        "name": "empid"
                                    },
                                    {
                                        "name": "EmployeeFirstName"
                                    },
                                    {
                                        "name": "EmployeeLastName"
                                    }
                                ]
                            },
                            "data": [
                                {
                                    "empid": "4",
                                    "EmployeeFirstName": "Yael",
                                    "EmployeeLastName": "Peled"
                                },
                                {
                                    "empid": "5",
                                    "EmployeeFirstName": "Sven",
                                    "EmployeeLastName": "Mortensen"
                                }
                            ]
                        },
                        "text/html": "<table><tr><th>empid</th><th>EmployeeFirstName</th><th>EmployeeLastName</th></tr><tr><td>4</td><td>Yael</td><td>Peled</td></tr><tr><td>5</td><td>Sven</td><td>Mortensen</td></tr></table>"
                    },
                    "metadata": {}
                }
            ],
            "execution_count": 26
        },
        {
            "cell_type": "markdown",
            "source": [
                "1\\. USE TSQLV4;\n",
                "\n",
                "Switch to the TSQLV4 database.\n",
                "\n",
                "  \n",
                "\n",
                "2\\. SELECT empid, firstname, lastname\n",
                "\n",
                "Choose empid, firstname, and lastname from the HR.Employees table.\n",
                "\n",
                "  \n",
                "\n",
                "3. <span style=\"color: var(--vscode-foreground);\">FROM HR.Employees</span>\n",
                "\n",
                "<span style=\"color: var(--vscode-foreground);\">Specifies that the data will be retrieved from the HR.Employees table.</span>\n",
                "\n",
                "<span style=\"color: var(--vscode-foreground);\"><br></span>\n",
                "\n",
                "4\\. WHERE lastname LIKE '%e%e%';\n",
                "\n",
                "Filter the rows to include only those where the lastname contains the letter 'e' twice, with any characters before, in between, or after them. The % symbol is a wildcard that matches any sequence of characters."
            ],
            "metadata": {
                "azdata_cell_guid": "4eedb0e6-b3e8-492a-8de3-df552181c32b"
            },
            "attachments": {}
        },
        {
            "cell_type": "markdown",
            "source": [
                ""
            ],
            "metadata": {
                "azdata_cell_guid": "bab6a8f3-8d48-427b-92a1-b6904628895e"
            }
        }
    ]
}