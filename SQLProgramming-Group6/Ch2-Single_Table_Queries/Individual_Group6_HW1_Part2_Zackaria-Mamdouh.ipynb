{
    "metadata": {
        "kernelspec": {
            "name": "SQL",
            "display_name": "SQL",
            "language": "sql"
        },
        "language_info": {
            "name": "sql",
            "version": ""
        }
    },
    "nbformat_minor": 2,
    "nbformat": 4,
    "cells": [
        {
            "cell_type": "markdown",
            "source": [
                "Zack Mamdouh | Group 6 | First 185 lines"
            ],
            "metadata": {
                "azdata_cell_guid": "de7dae98-a15f-4582-9adf-908db1a32dcb"
            },
            "attachments": {}
        },
        {
            "cell_type": "code",
            "source": [
                "-- Listing 2-1: Sample Query\r\n",
                "USE TSQLV4;\r\n",
                "\r\n",
                "SELECT empid, YEAR(orderdate) AS orderyear, COUNT(*) AS numorders\r\n",
                "FROM Sales.Orders\r\n",
                "WHERE custid = 71\r\n",
                "GROUP BY empid, YEAR(orderdate)\r\n",
                "HAVING COUNT(*) > 1\r\n",
                "ORDER BY empid, orderyear;"
            ],
            "metadata": {
                "azdata_cell_guid": "4f841af4-aba8-474e-8e6e-c9da9d6ca79c",
                "language": "sql"
            },
            "outputs": [],
            "execution_count": null
        },
        {
            "cell_type": "markdown",
            "source": [
                "Write a T-SQL query using the `TSQLV4` database that retrieves the employee ID (`empid`), the year of the order (`orderyear`), and the number of orders (`numorders`) from the `Sales.Orders` table for a specific customer with a `custid` of 71\n",
                "\n",
                "The query should group the results by `empid` and `orderyear`, and only include groups that have more than one order (`numorders` \\> 1). The results should be ordered by `empid` and `orderyear`"
            ],
            "metadata": {
                "azdata_cell_guid": "87ba18d0-a2aa-4ba9-8cfe-2ab677a836c3"
            },
            "attachments": {}
        },
        {
            "cell_type": "code",
            "source": [
                "SELECT orderid, custid, empid, orderdate, freight\r\n",
                "FROM Sales.Orders;"
            ],
            "metadata": {
                "azdata_cell_guid": "5c33bbc7-493b-4951-9c0d-0c3d8a220a04",
                "language": "sql"
            },
            "outputs": [],
            "execution_count": null
        },
        {
            "cell_type": "markdown",
            "source": [
                "<span style=\"color: rgb(17, 17, 17); font-family: -apple-system, Roboto, SegoeUI, &quot;Segoe UI&quot;, &quot;Helvetica Neue&quot;, Helvetica, &quot;Microsoft YaHei&quot;, &quot;Meiryo UI&quot;, Meiryo, &quot;Arial Unicode MS&quot;, sans-serif; font-size: 16px; background-color: rgb(255, 255, 255);\">Write a T-SQL query using the&nbsp;</span> `Sales.Orders` <span style=\"color: rgb(17, 17, 17); font-family: -apple-system, Roboto, SegoeUI, &quot;Segoe UI&quot;, &quot;Helvetica Neue&quot;, Helvetica, &quot;Microsoft YaHei&quot;, &quot;Meiryo UI&quot;, Meiryo, &quot;Arial Unicode MS&quot;, sans-serif; font-size: 16px; background-color: rgb(255, 255, 255);\">&nbsp;table that retrieves the order ID (</span>`orderid`<span style=\"color: rgb(17, 17, 17); font-family: -apple-system, Roboto, SegoeUI, &quot;Segoe UI&quot;, &quot;Helvetica Neue&quot;, Helvetica, &quot;Microsoft YaHei&quot;, &quot;Meiryo UI&quot;, Meiryo, &quot;Arial Unicode MS&quot;, sans-serif; font-size: 16px; background-color: rgb(255, 255, 255);\">), customer ID (</span>`custid`<span style=\"color: rgb(17, 17, 17); font-family: -apple-system, Roboto, SegoeUI, &quot;Segoe UI&quot;, &quot;Helvetica Neue&quot;, Helvetica, &quot;Microsoft YaHei&quot;, &quot;Meiryo UI&quot;, Meiryo, &quot;Arial Unicode MS&quot;, sans-serif; font-size: 16px; background-color: rgb(255, 255, 255);\">), employee ID (</span>`empid`<span style=\"color: rgb(17, 17, 17); font-family: -apple-system, Roboto, SegoeUI, &quot;Segoe UI&quot;, &quot;Helvetica Neue&quot;, Helvetica, &quot;Microsoft YaHei&quot;, &quot;Meiryo UI&quot;, Meiryo, &quot;Arial Unicode MS&quot;, sans-serif; font-size: 16px; background-color: rgb(255, 255, 255);\">), order date (</span>`orderdate`<span style=\"color: rgb(17, 17, 17); font-family: -apple-system, Roboto, SegoeUI, &quot;Segoe UI&quot;, &quot;Helvetica Neue&quot;, Helvetica, &quot;Microsoft YaHei&quot;, &quot;Meiryo UI&quot;, Meiryo, &quot;Arial Unicode MS&quot;, sans-serif; font-size: 16px; background-color: rgb(255, 255, 255);\">), and freight cost (</span>`freight`<span style=\"color: rgb(17, 17, 17); font-family: -apple-system, Roboto, SegoeUI, &quot;Segoe UI&quot;, &quot;Helvetica Neue&quot;, Helvetica, &quot;Microsoft YaHei&quot;, &quot;Meiryo UI&quot;, Meiryo, &quot;Arial Unicode MS&quot;, sans-serif; font-size: 16px; background-color: rgb(255, 255, 255);\">)</span>"
            ],
            "metadata": {
                "azdata_cell_guid": "49aaf424-0b95-43f4-97f0-46ca038542e6"
            },
            "attachments": {}
        },
        {
            "cell_type": "code",
            "source": [
                "SELECT orderid, empid, orderdate, freight\r\n",
                "FROM Sales.Orders\r\n",
                "WHERE custid = 71;"
            ],
            "metadata": {
                "azdata_cell_guid": "199b4491-c714-407f-917f-9b3e468bb572",
                "language": "sql"
            },
            "outputs": [],
            "execution_count": null
        },
        {
            "cell_type": "markdown",
            "source": [
                "<span style=\"color: rgb(17, 17, 17); font-family: -apple-system, Roboto, SegoeUI, &quot;Segoe UI&quot;, &quot;Helvetica Neue&quot;, Helvetica, &quot;Microsoft YaHei&quot;, &quot;Meiryo UI&quot;, Meiryo, &quot;Arial Unicode MS&quot;, sans-serif; font-size: 16px; background-color: rgb(255, 255, 255);\">Write a T-SQL query using the&nbsp;</span> `Sales.Orders` <span style=\"color: rgb(17, 17, 17); font-family: -apple-system, Roboto, SegoeUI, &quot;Segoe UI&quot;, &quot;Helvetica Neue&quot;, Helvetica, &quot;Microsoft YaHei&quot;, &quot;Meiryo UI&quot;, Meiryo, &quot;Arial Unicode MS&quot;, sans-serif; font-size: 16px; background-color: rgb(255, 255, 255);\">&nbsp;table that retrieves the order ID (</span>`orderid`<span style=\"color: rgb(17, 17, 17); font-family: -apple-system, Roboto, SegoeUI, &quot;Segoe UI&quot;, &quot;Helvetica Neue&quot;, Helvetica, &quot;Microsoft YaHei&quot;, &quot;Meiryo UI&quot;, Meiryo, &quot;Arial Unicode MS&quot;, sans-serif; font-size: 16px; background-color: rgb(255, 255, 255);\">), employee ID (</span>`empid`<span style=\"color: rgb(17, 17, 17); font-family: -apple-system, Roboto, SegoeUI, &quot;Segoe UI&quot;, &quot;Helvetica Neue&quot;, Helvetica, &quot;Microsoft YaHei&quot;, &quot;Meiryo UI&quot;, Meiryo, &quot;Arial Unicode MS&quot;, sans-serif; font-size: 16px; background-color: rgb(255, 255, 255);\">), order date (</span>`orderdate`<span style=\"color: rgb(17, 17, 17); font-family: -apple-system, Roboto, SegoeUI, &quot;Segoe UI&quot;, &quot;Helvetica Neue&quot;, Helvetica, &quot;Microsoft YaHei&quot;, &quot;Meiryo UI&quot;, Meiryo, &quot;Arial Unicode MS&quot;, sans-serif; font-size: 16px; background-color: rgb(255, 255, 255);\">), and freight cost (</span>`freight`<span style=\"color: rgb(17, 17, 17); font-family: -apple-system, Roboto, SegoeUI, &quot;Segoe UI&quot;, &quot;Helvetica Neue&quot;, Helvetica, &quot;Microsoft YaHei&quot;, &quot;Meiryo UI&quot;, Meiryo, &quot;Arial Unicode MS&quot;, sans-serif; font-size: 16px; background-color: rgb(255, 255, 255);\">) for a specific customer with a&nbsp;</span> `custid` <span style=\"color: rgb(17, 17, 17); font-family: -apple-system, Roboto, SegoeUI, &quot;Segoe UI&quot;, &quot;Helvetica Neue&quot;, Helvetica, &quot;Microsoft YaHei&quot;, &quot;Meiryo UI&quot;, Meiryo, &quot;Arial Unicode MS&quot;, sans-serif; font-size: 16px; background-color: rgb(255, 255, 255);\">&nbsp;of 71</span>"
            ],
            "metadata": {
                "azdata_cell_guid": "6a9490e3-1ad8-41bf-a8ef-ce5f797aacb1"
            },
            "attachments": {}
        },
        {
            "cell_type": "code",
            "source": [
                "SELECT empid, YEAR(orderdate) AS orderyear\r\n",
                "FROM Sales.Orders\r\n",
                "WHERE custid = 71\r\n",
                "GROUP BY empid, YEAR(orderdate);"
            ],
            "metadata": {
                "azdata_cell_guid": "00ff96db-daaa-415b-b43e-40820fdcf412",
                "language": "sql"
            },
            "outputs": [],
            "execution_count": null
        },
        {
            "cell_type": "markdown",
            "source": [
                "<span style=\"color: rgb(17, 17, 17); font-family: -apple-system, Roboto, SegoeUI, &quot;Segoe UI&quot;, &quot;Helvetica Neue&quot;, Helvetica, &quot;Microsoft YaHei&quot;, &quot;Meiryo UI&quot;, Meiryo, &quot;Arial Unicode MS&quot;, sans-serif; font-size: 16px; background-color: rgb(255, 255, 255);\">Write a T-SQL query using the&nbsp;</span> `Sales.Orders` <span style=\"color: rgb(17, 17, 17); font-family: -apple-system, Roboto, SegoeUI, &quot;Segoe UI&quot;, &quot;Helvetica Neue&quot;, Helvetica, &quot;Microsoft YaHei&quot;, &quot;Meiryo UI&quot;, Meiryo, &quot;Arial Unicode MS&quot;, sans-serif; font-size: 16px; background-color: rgb(255, 255, 255);\">&nbsp;table that retrieves the employee ID (</span>`empid`<span style=\"color: rgb(17, 17, 17); font-family: -apple-system, Roboto, SegoeUI, &quot;Segoe UI&quot;, &quot;Helvetica Neue&quot;, Helvetica, &quot;Microsoft YaHei&quot;, &quot;Meiryo UI&quot;, Meiryo, &quot;Arial Unicode MS&quot;, sans-serif; font-size: 16px; background-color: rgb(255, 255, 255);\">) and the year of the order (</span>`orderyear`<span style=\"color: rgb(17, 17, 17); font-family: -apple-system, Roboto, SegoeUI, &quot;Segoe UI&quot;, &quot;Helvetica Neue&quot;, Helvetica, &quot;Microsoft YaHei&quot;, &quot;Meiryo UI&quot;, Meiryo, &quot;Arial Unicode MS&quot;, sans-serif; font-size: 16px; background-color: rgb(255, 255, 255);\">) for a specific customer with a&nbsp;</span> `custid` <span style=\"color: rgb(17, 17, 17); font-family: -apple-system, Roboto, SegoeUI, &quot;Segoe UI&quot;, &quot;Helvetica Neue&quot;, Helvetica, &quot;Microsoft YaHei&quot;, &quot;Meiryo UI&quot;, Meiryo, &quot;Arial Unicode MS&quot;, sans-serif; font-size: 16px; background-color: rgb(255, 255, 255);\">&nbsp;of 71? The query should group the results by&nbsp;</span> `empid` <span style=\"color: rgb(17, 17, 17); font-family: -apple-system, Roboto, SegoeUI, &quot;Segoe UI&quot;, &quot;Helvetica Neue&quot;, Helvetica, &quot;Microsoft YaHei&quot;, &quot;Meiryo UI&quot;, Meiryo, &quot;Arial Unicode MS&quot;, sans-serif; font-size: 16px; background-color: rgb(255, 255, 255);\">&nbsp;and&nbsp;</span> `orderyear`<span style=\"color: rgb(17, 17, 17); font-family: -apple-system, Roboto, SegoeUI, &quot;Segoe UI&quot;, &quot;Helvetica Neue&quot;, Helvetica, &quot;Microsoft YaHei&quot;, &quot;Meiryo UI&quot;, Meiryo, &quot;Arial Unicode MS&quot;, sans-serif; font-size: 16px; background-color: rgb(255, 255, 255);\">.</span>"
            ],
            "metadata": {
                "azdata_cell_guid": "26d05255-8ba7-4c43-a23b-0fa4fce932ff"
            },
            "attachments": {}
        },
        {
            "cell_type": "code",
            "source": [
                "SELECT\r\n",
                "  empid,\r\n",
                "  YEAR(orderdate) AS orderyear,\r\n",
                "  SUM(freight) AS totalfreight,\r\n",
                "  COUNT(*) AS numorders\r\n",
                "FROM Sales.Orders\r\n",
                "WHERE custid = 71\r\n",
                "GROUP BY empid, YEAR(orderdate);"
            ],
            "metadata": {
                "azdata_cell_guid": "4346b9d1-26cb-4d2e-abcc-b34737864b4b",
                "language": "sql"
            },
            "outputs": [],
            "execution_count": null
        },
        {
            "cell_type": "markdown",
            "source": [
                "<span style=\"color: rgb(17, 17, 17); font-family: -apple-system, Roboto, SegoeUI, &quot;Segoe UI&quot;, &quot;Helvetica Neue&quot;, Helvetica, &quot;Microsoft YaHei&quot;, &quot;Meiryo UI&quot;, Meiryo, &quot;Arial Unicode MS&quot;, sans-serif; font-size: 16px; background-color: rgb(255, 255, 255);\">Write a T-SQL query using the&nbsp;</span> `Sales.Orders` <span style=\"color: rgb(17, 17, 17); font-family: -apple-system, Roboto, SegoeUI, &quot;Segoe UI&quot;, &quot;Helvetica Neue&quot;, Helvetica, &quot;Microsoft YaHei&quot;, &quot;Meiryo UI&quot;, Meiryo, &quot;Arial Unicode MS&quot;, sans-serif; font-size: 16px; background-color: rgb(255, 255, 255);\">&nbsp;table that retrieves the employee ID (</span>`empid`<span style=\"color: rgb(17, 17, 17); font-family: -apple-system, Roboto, SegoeUI, &quot;Segoe UI&quot;, &quot;Helvetica Neue&quot;, Helvetica, &quot;Microsoft YaHei&quot;, &quot;Meiryo UI&quot;, Meiryo, &quot;Arial Unicode MS&quot;, sans-serif; font-size: 16px; background-color: rgb(255, 255, 255);\">), the year of the order (</span>`orderyear`<span style=\"color: rgb(17, 17, 17); font-family: -apple-system, Roboto, SegoeUI, &quot;Segoe UI&quot;, &quot;Helvetica Neue&quot;, Helvetica, &quot;Microsoft YaHei&quot;, &quot;Meiryo UI&quot;, Meiryo, &quot;Arial Unicode MS&quot;, sans-serif; font-size: 16px; background-color: rgb(255, 255, 255);\">), the total freight cost (</span>`totalfreight`<span style=\"color: rgb(17, 17, 17); font-family: -apple-system, Roboto, SegoeUI, &quot;Segoe UI&quot;, &quot;Helvetica Neue&quot;, Helvetica, &quot;Microsoft YaHei&quot;, &quot;Meiryo UI&quot;, Meiryo, &quot;Arial Unicode MS&quot;, sans-serif; font-size: 16px; background-color: rgb(255, 255, 255);\">), and the number of orders (</span>`numorders`<span style=\"color: rgb(17, 17, 17); font-family: -apple-system, Roboto, SegoeUI, &quot;Segoe UI&quot;, &quot;Helvetica Neue&quot;, Helvetica, &quot;Microsoft YaHei&quot;, &quot;Meiryo UI&quot;, Meiryo, &quot;Arial Unicode MS&quot;, sans-serif; font-size: 16px; background-color: rgb(255, 255, 255);\">) for a specific customer with a&nbsp;</span> `custid` <span style=\"color: rgb(17, 17, 17); font-family: -apple-system, Roboto, SegoeUI, &quot;Segoe UI&quot;, &quot;Helvetica Neue&quot;, Helvetica, &quot;Microsoft YaHei&quot;, &quot;Meiryo UI&quot;, Meiryo, &quot;Arial Unicode MS&quot;, sans-serif; font-size: 16px; background-color: rgb(255, 255, 255);\">&nbsp;of 71? The total freight cost should be the sum of the&nbsp;</span> `freight` <span style=\"color: rgb(17, 17, 17); font-family: -apple-system, Roboto, SegoeUI, &quot;Segoe UI&quot;, &quot;Helvetica Neue&quot;, Helvetica, &quot;Microsoft YaHei&quot;, &quot;Meiryo UI&quot;, Meiryo, &quot;Arial Unicode MS&quot;, sans-serif; font-size: 16px; background-color: rgb(255, 255, 255);\">&nbsp;for each order. The query should group the results by&nbsp;</span> `empid` <span style=\"color: rgb(17, 17, 17); font-family: -apple-system, Roboto, SegoeUI, &quot;Segoe UI&quot;, &quot;Helvetica Neue&quot;, Helvetica, &quot;Microsoft YaHei&quot;, &quot;Meiryo UI&quot;, Meiryo, &quot;Arial Unicode MS&quot;, sans-serif; font-size: 16px; background-color: rgb(255, 255, 255);\">&nbsp;and&nbsp;</span> `orderyear`<span style=\"color: rgb(17, 17, 17); font-family: -apple-system, Roboto, SegoeUI, &quot;Segoe UI&quot;, &quot;Helvetica Neue&quot;, Helvetica, &quot;Microsoft YaHei&quot;, &quot;Meiryo UI&quot;, Meiryo, &quot;Arial Unicode MS&quot;, sans-serif; font-size: 16px; background-color: rgb(255, 255, 255);\">.</span>"
            ],
            "metadata": {
                "azdata_cell_guid": "2090408a-d374-41d1-b2cd-f02b19d49836"
            },
            "attachments": {}
        },
        {
            "cell_type": "code",
            "source": [
                "SELECT \r\n",
                "  empid, \r\n",
                "  YEAR(orderdate) AS orderyear, \r\n",
                "  COUNT(DISTINCT custid) AS numcusts\r\n",
                "FROM Sales.Orders\r\n",
                "GROUP BY empid, YEAR(orderdate);"
            ],
            "metadata": {
                "azdata_cell_guid": "8cd4955f-9504-4e31-ad9e-18855eb40130",
                "language": "sql"
            },
            "outputs": [],
            "execution_count": null
        },
        {
            "cell_type": "markdown",
            "source": [
                "<span style=\"color: rgb(17, 17, 17); font-family: -apple-system, Roboto, SegoeUI, &quot;Segoe UI&quot;, &quot;Helvetica Neue&quot;, Helvetica, &quot;Microsoft YaHei&quot;, &quot;Meiryo UI&quot;, Meiryo, &quot;Arial Unicode MS&quot;, sans-serif; font-size: 16px; background-color: rgb(255, 255, 255);\">Write a T-SQL query using the&nbsp;</span> `Sales.Orders` <span style=\"color: rgb(17, 17, 17); font-family: -apple-system, Roboto, SegoeUI, &quot;Segoe UI&quot;, &quot;Helvetica Neue&quot;, Helvetica, &quot;Microsoft YaHei&quot;, &quot;Meiryo UI&quot;, Meiryo, &quot;Arial Unicode MS&quot;, sans-serif; font-size: 16px; background-color: rgb(255, 255, 255);\">&nbsp;table that retrieves the employee ID (</span>`empid`<span style=\"color: rgb(17, 17, 17); font-family: -apple-system, Roboto, SegoeUI, &quot;Segoe UI&quot;, &quot;Helvetica Neue&quot;, Helvetica, &quot;Microsoft YaHei&quot;, &quot;Meiryo UI&quot;, Meiryo, &quot;Arial Unicode MS&quot;, sans-serif; font-size: 16px; background-color: rgb(255, 255, 255);\">), the year of the order (</span>`orderyear`<span style=\"color: rgb(17, 17, 17); font-family: -apple-system, Roboto, SegoeUI, &quot;Segoe UI&quot;, &quot;Helvetica Neue&quot;, Helvetica, &quot;Microsoft YaHei&quot;, &quot;Meiryo UI&quot;, Meiryo, &quot;Arial Unicode MS&quot;, sans-serif; font-size: 16px; background-color: rgb(255, 255, 255);\">), and the number of distinct customers (</span>`numcusts`<span style=\"color: rgb(17, 17, 17); font-family: -apple-system, Roboto, SegoeUI, &quot;Segoe UI&quot;, &quot;Helvetica Neue&quot;, Helvetica, &quot;Microsoft YaHei&quot;, &quot;Meiryo UI&quot;, Meiryo, &quot;Arial Unicode MS&quot;, sans-serif; font-size: 16px; background-color: rgb(255, 255, 255);\">) for each employee and year? The query should group the results by&nbsp;</span> `empid` <span style=\"color: rgb(17, 17, 17); font-family: -apple-system, Roboto, SegoeUI, &quot;Segoe UI&quot;, &quot;Helvetica Neue&quot;, Helvetica, &quot;Microsoft YaHei&quot;, &quot;Meiryo UI&quot;, Meiryo, &quot;Arial Unicode MS&quot;, sans-serif; font-size: 16px; background-color: rgb(255, 255, 255);\">&nbsp;and&nbsp;</span> `orderyear`<span style=\"color: rgb(17, 17, 17); font-family: -apple-system, Roboto, SegoeUI, &quot;Segoe UI&quot;, &quot;Helvetica Neue&quot;, Helvetica, &quot;Microsoft YaHei&quot;, &quot;Meiryo UI&quot;, Meiryo, &quot;Arial Unicode MS&quot;, sans-serif; font-size: 16px; background-color: rgb(255, 255, 255);\">.</span>"
            ],
            "metadata": {
                "azdata_cell_guid": "0911e1c4-5dbf-43dc-a2d8-e773b20d7594"
            },
            "attachments": {}
        },
        {
            "cell_type": "code",
            "source": [
                "SELECT empid, YEAR(orderdate) AS orderyear\r\n",
                "FROM Sales.Orders\r\n",
                "WHERE custid = 71\r\n",
                "GROUP BY empid, YEAR(orderdate)\r\n",
                "HAVING COUNT(*) > 1;"
            ],
            "metadata": {
                "azdata_cell_guid": "dbb7683d-444a-4ae7-a050-12e4a7a3e25f",
                "language": "sql"
            },
            "outputs": [],
            "execution_count": null
        },
        {
            "cell_type": "markdown",
            "source": [
                "<span style=\"color: rgb(17, 17, 17); font-family: -apple-system, Roboto, SegoeUI, &quot;Segoe UI&quot;, &quot;Helvetica Neue&quot;, Helvetica, &quot;Microsoft YaHei&quot;, &quot;Meiryo UI&quot;, Meiryo, &quot;Arial Unicode MS&quot;, sans-serif; font-size: 16px; background-color: rgb(255, 255, 255);\">Write a T-SQL query using the&nbsp;</span> `Sales.Orders` <span style=\"color: rgb(17, 17, 17); font-family: -apple-system, Roboto, SegoeUI, &quot;Segoe UI&quot;, &quot;Helvetica Neue&quot;, Helvetica, &quot;Microsoft YaHei&quot;, &quot;Meiryo UI&quot;, Meiryo, &quot;Arial Unicode MS&quot;, sans-serif; font-size: 16px; background-color: rgb(255, 255, 255);\">&nbsp;table that retrieves the employee ID (</span>`empid`<span style=\"color: rgb(17, 17, 17); font-family: -apple-system, Roboto, SegoeUI, &quot;Segoe UI&quot;, &quot;Helvetica Neue&quot;, Helvetica, &quot;Microsoft YaHei&quot;, &quot;Meiryo UI&quot;, Meiryo, &quot;Arial Unicode MS&quot;, sans-serif; font-size: 16px; background-color: rgb(255, 255, 255);\">) and the year of the order (</span>`orderyear`<span style=\"color: rgb(17, 17, 17); font-family: -apple-system, Roboto, SegoeUI, &quot;Segoe UI&quot;, &quot;Helvetica Neue&quot;, Helvetica, &quot;Microsoft YaHei&quot;, &quot;Meiryo UI&quot;, Meiryo, &quot;Arial Unicode MS&quot;, sans-serif; font-size: 16px; background-color: rgb(255, 255, 255);\">) for a specific customer with a&nbsp;</span> `custid` <span style=\"color: rgb(17, 17, 17); font-family: -apple-system, Roboto, SegoeUI, &quot;Segoe UI&quot;, &quot;Helvetica Neue&quot;, Helvetica, &quot;Microsoft YaHei&quot;, &quot;Meiryo UI&quot;, Meiryo, &quot;Arial Unicode MS&quot;, sans-serif; font-size: 16px; background-color: rgb(255, 255, 255);\">&nbsp;of 71? The query should group the results by&nbsp;</span> `empid` <span style=\"color: rgb(17, 17, 17); font-family: -apple-system, Roboto, SegoeUI, &quot;Segoe UI&quot;, &quot;Helvetica Neue&quot;, Helvetica, &quot;Microsoft YaHei&quot;, &quot;Meiryo UI&quot;, Meiryo, &quot;Arial Unicode MS&quot;, sans-serif; font-size: 16px; background-color: rgb(255, 255, 255);\">&nbsp;and&nbsp;</span> `orderyear`<span style=\"color: rgb(17, 17, 17); font-family: -apple-system, Roboto, SegoeUI, &quot;Segoe UI&quot;, &quot;Helvetica Neue&quot;, Helvetica, &quot;Microsoft YaHei&quot;, &quot;Meiryo UI&quot;, Meiryo, &quot;Arial Unicode MS&quot;, sans-serif; font-size: 16px; background-color: rgb(255, 255, 255);\">, and only include groups that have more than one order</span>"
            ],
            "metadata": {
                "azdata_cell_guid": "5039150b-0e49-446d-a693-203261b3685f"
            },
            "attachments": {}
        },
        {
            "cell_type": "code",
            "source": [
                "SELECT orderid orderdate\r\n",
                "FROM Sales.Orders;"
            ],
            "metadata": {
                "azdata_cell_guid": "08a957b3-38ff-43c6-904f-6f451b060e20",
                "language": "sql"
            },
            "outputs": [],
            "execution_count": null
        },
        {
            "cell_type": "markdown",
            "source": [
                "<span style=\"color: rgb(17, 17, 17); font-family: -apple-system, Roboto, SegoeUI, &quot;Segoe UI&quot;, &quot;Helvetica Neue&quot;, Helvetica, &quot;Microsoft YaHei&quot;, &quot;Meiryo UI&quot;, Meiryo, &quot;Arial Unicode MS&quot;, sans-serif; font-size: 16px; background-color: rgb(255, 255, 255);\">Write a T-SQL query using the&nbsp;</span> `Sales.Orders` <span style=\"color: rgb(17, 17, 17); font-family: -apple-system, Roboto, SegoeUI, &quot;Segoe UI&quot;, &quot;Helvetica Neue&quot;, Helvetica, &quot;Microsoft YaHei&quot;, &quot;Meiryo UI&quot;, Meiryo, &quot;Arial Unicode MS&quot;, sans-serif; font-size: 16px; background-color: rgb(255, 255, 255);\">&nbsp;table that retrieves the order ID (</span>`orderid`<span style=\"color: rgb(17, 17, 17); font-family: -apple-system, Roboto, SegoeUI, &quot;Segoe UI&quot;, &quot;Helvetica Neue&quot;, Helvetica, &quot;Microsoft YaHei&quot;, &quot;Meiryo UI&quot;, Meiryo, &quot;Arial Unicode MS&quot;, sans-serif; font-size: 16px; background-color: rgb(255, 255, 255);\">) and the order date (</span>`orderdate`<span style=\"color: rgb(17, 17, 17); font-family: -apple-system, Roboto, SegoeUI, &quot;Segoe UI&quot;, &quot;Helvetica Neue&quot;, Helvetica, &quot;Microsoft YaHei&quot;, &quot;Meiryo UI&quot;, Meiryo, &quot;Arial Unicode MS&quot;, sans-serif; font-size: 16px; background-color: rgb(255, 255, 255);\">)? The results should not be filtered or ordered in any specific way.</span>"
            ],
            "metadata": {
                "azdata_cell_guid": "079b3025-5eb4-4a92-ad90-d6616fd3efae"
            },
            "attachments": {}
        },
        {
            "cell_type": "code",
            "source": [
                "SELECT empid, YEAR(orderdate) AS orderyear, COUNT(*) AS numorders\r\n",
                "FROM Sales.Orders\r\n",
                "WHERE custid = 71\r\n",
                "GROUP BY empid, YEAR(orderdate)\r\n",
                "HAVING COUNT(*) > 1;"
            ],
            "metadata": {
                "azdata_cell_guid": "6ac089fd-2ae5-4f9e-a873-a6b8a10cd7e6",
                "language": "sql"
            },
            "outputs": [],
            "execution_count": null
        },
        {
            "cell_type": "markdown",
            "source": [
                "<span style=\"color: rgb(17, 17, 17); font-family: -apple-system, Roboto, SegoeUI, &quot;Segoe UI&quot;, &quot;Helvetica Neue&quot;, Helvetica, &quot;Microsoft YaHei&quot;, &quot;Meiryo UI&quot;, Meiryo, &quot;Arial Unicode MS&quot;, sans-serif; font-size: 16px; background-color: rgb(255, 255, 255);\">Write a T-SQL query using the&nbsp;</span> `Sales.Orders` <span style=\"color: rgb(17, 17, 17); font-family: -apple-system, Roboto, SegoeUI, &quot;Segoe UI&quot;, &quot;Helvetica Neue&quot;, Helvetica, &quot;Microsoft YaHei&quot;, &quot;Meiryo UI&quot;, Meiryo, &quot;Arial Unicode MS&quot;, sans-serif; font-size: 16px; background-color: rgb(255, 255, 255);\">&nbsp;table that retrieves the employee ID (</span>`empid`<span style=\"color: rgb(17, 17, 17); font-family: -apple-system, Roboto, SegoeUI, &quot;Segoe UI&quot;, &quot;Helvetica Neue&quot;, Helvetica, &quot;Microsoft YaHei&quot;, &quot;Meiryo UI&quot;, Meiryo, &quot;Arial Unicode MS&quot;, sans-serif; font-size: 16px; background-color: rgb(255, 255, 255);\">), the year of the order (</span>`orderyear`<span style=\"color: rgb(17, 17, 17); font-family: -apple-system, Roboto, SegoeUI, &quot;Segoe UI&quot;, &quot;Helvetica Neue&quot;, Helvetica, &quot;Microsoft YaHei&quot;, &quot;Meiryo UI&quot;, Meiryo, &quot;Arial Unicode MS&quot;, sans-serif; font-size: 16px; background-color: rgb(255, 255, 255);\">), and the number of orders (</span>`numorders`<span style=\"color: rgb(17, 17, 17); font-family: -apple-system, Roboto, SegoeUI, &quot;Segoe UI&quot;, &quot;Helvetica Neue&quot;, Helvetica, &quot;Microsoft YaHei&quot;, &quot;Meiryo UI&quot;, Meiryo, &quot;Arial Unicode MS&quot;, sans-serif; font-size: 16px; background-color: rgb(255, 255, 255);\">) for a specific customer with a&nbsp;</span> `custid` <span style=\"color: rgb(17, 17, 17); font-family: -apple-system, Roboto, SegoeUI, &quot;Segoe UI&quot;, &quot;Helvetica Neue&quot;, Helvetica, &quot;Microsoft YaHei&quot;, &quot;Meiryo UI&quot;, Meiryo, &quot;Arial Unicode MS&quot;, sans-serif; font-size: 16px; background-color: rgb(255, 255, 255);\">&nbsp;of 71? The query should group the results by&nbsp;</span> `empid` <span style=\"color: rgb(17, 17, 17); font-family: -apple-system, Roboto, SegoeUI, &quot;Segoe UI&quot;, &quot;Helvetica Neue&quot;, Helvetica, &quot;Microsoft YaHei&quot;, &quot;Meiryo UI&quot;, Meiryo, &quot;Arial Unicode MS&quot;, sans-serif; font-size: 16px; background-color: rgb(255, 255, 255);\">&nbsp;and&nbsp;</span> `orderyear`<span style=\"color: rgb(17, 17, 17); font-family: -apple-system, Roboto, SegoeUI, &quot;Segoe UI&quot;, &quot;Helvetica Neue&quot;, Helvetica, &quot;Microsoft YaHei&quot;, &quot;Meiryo UI&quot;, Meiryo, &quot;Arial Unicode MS&quot;, sans-serif; font-size: 16px; background-color: rgb(255, 255, 255);\">, and only include groups that have more than one order</span>"
            ],
            "metadata": {
                "azdata_cell_guid": "dfd001ad-97df-4cb5-b977-4222989dbb58"
            },
            "attachments": {}
        },
        {
            "cell_type": "code",
            "source": [
                "SELECT orderid, YEAR(orderdate) AS orderyear\r\n",
                "FROM Sales.Orders\r\n",
                "WHERE YEAR(orderdate) > 2015;"
            ],
            "metadata": {
                "azdata_cell_guid": "df02620a-6544-498a-b8c0-b94d76a47edc",
                "language": "sql"
            },
            "outputs": [],
            "execution_count": null
        },
        {
            "cell_type": "markdown",
            "source": [
                "<span style=\"color: rgb(17, 17, 17); font-family: -apple-system, Roboto, SegoeUI, &quot;Segoe UI&quot;, &quot;Helvetica Neue&quot;, Helvetica, &quot;Microsoft YaHei&quot;, &quot;Meiryo UI&quot;, Meiryo, &quot;Arial Unicode MS&quot;, sans-serif; font-size: 16px; background-color: rgb(255, 255, 255);\">Write a SQL query to select the&nbsp;</span> `orderid` <span style=\"color: rgb(17, 17, 17); font-family: -apple-system, Roboto, SegoeUI, &quot;Segoe UI&quot;, &quot;Helvetica Neue&quot;, Helvetica, &quot;Microsoft YaHei&quot;, &quot;Meiryo UI&quot;, Meiryo, &quot;Arial Unicode MS&quot;, sans-serif; font-size: 16px; background-color: rgb(255, 255, 255);\">&nbsp;and the year of&nbsp;</span> `orderdate` <span style=\"color: rgb(17, 17, 17); font-family: -apple-system, Roboto, SegoeUI, &quot;Segoe UI&quot;, &quot;Helvetica Neue&quot;, Helvetica, &quot;Microsoft YaHei&quot;, &quot;Meiryo UI&quot;, Meiryo, &quot;Arial Unicode MS&quot;, sans-serif; font-size: 16px; background-color: rgb(255, 255, 255);\">&nbsp;as&nbsp;</span> `orderyear` <span style=\"color: rgb(17, 17, 17); font-family: -apple-system, Roboto, SegoeUI, &quot;Segoe UI&quot;, &quot;Helvetica Neue&quot;, Helvetica, &quot;Microsoft YaHei&quot;, &quot;Meiryo UI&quot;, Meiryo, &quot;Arial Unicode MS&quot;, sans-serif; font-size: 16px; background-color: rgb(255, 255, 255);\">&nbsp;for all orders that were placed after the year 2015</span>"
            ],
            "metadata": {
                "azdata_cell_guid": "664b6dff-06b6-4b92-9ae3-7e1afbee6c5c"
            },
            "attachments": {}
        },
        {
            "cell_type": "code",
            "source": [
                "-- Listing 2-2: Query Returning Duplicate Rows\r\n",
                "SELECT empid, YEAR(orderdate) AS orderyear\r\n",
                "FROM Sales.Orders\r\n",
                "WHERE custid = 71;"
            ],
            "metadata": {
                "azdata_cell_guid": "ae507791-d1cd-4c59-ac6e-c126cffee374",
                "language": "sql"
            },
            "outputs": [],
            "execution_count": null
        },
        {
            "cell_type": "markdown",
            "source": [
                "<span style=\"color: rgb(17, 17, 17); font-family: -apple-system, Roboto, SegoeUI, &quot;Segoe UI&quot;, &quot;Helvetica Neue&quot;, Helvetica, &quot;Microsoft YaHei&quot;, &quot;Meiryo UI&quot;, Meiryo, &quot;Arial Unicode MS&quot;, sans-serif; font-size: 16px; background-color: rgb(255, 255, 255);\">Write a SQL query to select the&nbsp;</span>  `empid`  <span style=\"color: rgb(17, 17, 17); font-family: -apple-system, Roboto, SegoeUI, &quot;Segoe UI&quot;, &quot;Helvetica Neue&quot;, Helvetica, &quot;Microsoft YaHei&quot;, &quot;Meiryo UI&quot;, Meiryo, &quot;Arial Unicode MS&quot;, sans-serif; font-size: 16px; background-color: rgb(255, 255, 255);\">&nbsp;and the year of&nbsp;</span>  `orderdate`  <span style=\"color: rgb(17, 17, 17); font-family: -apple-system, Roboto, SegoeUI, &quot;Segoe UI&quot;, &quot;Helvetica Neue&quot;, Helvetica, &quot;Microsoft YaHei&quot;, &quot;Meiryo UI&quot;, Meiryo, &quot;Arial Unicode MS&quot;, sans-serif; font-size: 16px; background-color: rgb(255, 255, 255);\">&nbsp;as&nbsp;</span>  `orderyear`  <span style=\"color: rgb(17, 17, 17); font-family: -apple-system, Roboto, SegoeUI, &quot;Segoe UI&quot;, &quot;Helvetica Neue&quot;, Helvetica, &quot;Microsoft YaHei&quot;, &quot;Meiryo UI&quot;, Meiryo, &quot;Arial Unicode MS&quot;, sans-serif; font-size: 16px; background-color: rgb(255, 255, 255);\">&nbsp;for all orders that were placed by customer with&nbsp;</span>  `custid`  <span style=\"color: rgb(17, 17, 17); font-family: -apple-system, Roboto, SegoeUI, &quot;Segoe UI&quot;, &quot;Helvetica Neue&quot;, Helvetica, &quot;Microsoft YaHei&quot;, &quot;Meiryo UI&quot;, Meiryo, &quot;Arial Unicode MS&quot;, sans-serif; font-size: 16px; background-color: rgb(255, 255, 255);\">&nbsp;equal to 71? Note that this query may return duplicate rows.</span>"
            ],
            "metadata": {
                "azdata_cell_guid": "5a13ce30-64e2-444b-953f-421f5bf7e2dc"
            },
            "attachments": {}
        },
        {
            "cell_type": "code",
            "source": [
                "-- Listing 2-3: Query With a DISTINCT Clause\r\n",
                "SELECT DISTINCT empid, YEAR(orderdate) AS orderyear\r\n",
                "FROM Sales.Orders\r\n",
                "WHERE custid = 71;"
            ],
            "metadata": {
                "azdata_cell_guid": "157d42d8-4fb9-42e4-88fa-b6f77c82bf20",
                "language": "sql"
            },
            "outputs": [],
            "execution_count": null
        },
        {
            "cell_type": "markdown",
            "source": [
                "<span style=\"color: rgb(17, 17, 17); font-family: -apple-system, Roboto, SegoeUI, &quot;Segoe UI&quot;, &quot;Helvetica Neue&quot;, Helvetica, &quot;Microsoft YaHei&quot;, &quot;Meiryo UI&quot;, Meiryo, &quot;Arial Unicode MS&quot;, sans-serif; font-size: 16px; background-color: rgb(255, 255, 255);\">Write a SQL query to select the distinct&nbsp;</span> `empid` <span style=\"color: rgb(17, 17, 17); font-family: -apple-system, Roboto, SegoeUI, &quot;Segoe UI&quot;, &quot;Helvetica Neue&quot;, Helvetica, &quot;Microsoft YaHei&quot;, &quot;Meiryo UI&quot;, Meiryo, &quot;Arial Unicode MS&quot;, sans-serif; font-size: 16px; background-color: rgb(255, 255, 255);\">&nbsp;and the year of&nbsp;</span> `orderdate` <span style=\"color: rgb(17, 17, 17); font-family: -apple-system, Roboto, SegoeUI, &quot;Segoe UI&quot;, &quot;Helvetica Neue&quot;, Helvetica, &quot;Microsoft YaHei&quot;, &quot;Meiryo UI&quot;, Meiryo, &quot;Arial Unicode MS&quot;, sans-serif; font-size: 16px; background-color: rgb(255, 255, 255);\">&nbsp;as&nbsp;</span> `orderyear` <span style=\"color: rgb(17, 17, 17); font-family: -apple-system, Roboto, SegoeUI, &quot;Segoe UI&quot;, &quot;Helvetica Neue&quot;, Helvetica, &quot;Microsoft YaHei&quot;, &quot;Meiryo UI&quot;, Meiryo, &quot;Arial Unicode MS&quot;, sans-serif; font-size: 16px; background-color: rgb(255, 255, 255);\">&nbsp;for all orders that were placed by customer with&nbsp;</span> `custid` <span style=\"color: rgb(17, 17, 17); font-family: -apple-system, Roboto, SegoeUI, &quot;Segoe UI&quot;, &quot;Helvetica Neue&quot;, Helvetica, &quot;Microsoft YaHei&quot;, &quot;Meiryo UI&quot;, Meiryo, &quot;Arial Unicode MS&quot;, sans-serif; font-size: 16px; background-color: rgb(255, 255, 255);\">&nbsp;equal to 71? This query should not return any duplicate rows.</span>"
            ],
            "metadata": {
                "azdata_cell_guid": "9c2e4cde-e3d5-4b23-9a2d-4b17b2e22ac7"
            },
            "attachments": {}
        },
        {
            "cell_type": "code",
            "source": [
                "SELECT *\r\n",
                "FROM Sales.Shippers;"
            ],
            "metadata": {
                "azdata_cell_guid": "a5a67596-f686-4751-ae45-d18a041e9271",
                "language": "sql"
            },
            "outputs": [],
            "execution_count": null
        },
        {
            "cell_type": "markdown",
            "source": [
                "<span style=\"color: rgb(17, 17, 17); font-family: -apple-system, Roboto, SegoeUI, &quot;Segoe UI&quot;, &quot;Helvetica Neue&quot;, Helvetica, &quot;Microsoft YaHei&quot;, &quot;Meiryo UI&quot;, Meiryo, &quot;Arial Unicode MS&quot;, sans-serif; font-size: 16px; white-space-collapse: preserve; background-color: rgb(255, 255, 255);\">Write a SQL query to select all columns from the table sales.shippers</span>"
            ],
            "metadata": {
                "azdata_cell_guid": "8f57ccac-adfd-4767-9523-a19424aadd61"
            },
            "attachments": {}
        },
        {
            "cell_type": "code",
            "source": [
                "SELECT orderid,\r\n",
                "  YEAR(orderdate) AS orderyear,\r\n",
                "  YEAR(orderdate) + 1 AS nextyear\r\n",
                "FROM Sales.Orders;\r\n",
                ""
            ],
            "metadata": {
                "azdata_cell_guid": "eca71cd9-3bbb-4e59-9284-7ee59cad0107",
                "language": "sql"
            },
            "outputs": [],
            "execution_count": null
        },
        {
            "cell_type": "markdown",
            "source": [
                "<span style=\"color: rgb(17, 17, 17); font-family: -apple-system, Roboto, SegoeUI, &quot;Segoe UI&quot;, &quot;Helvetica Neue&quot;, Helvetica, &quot;Microsoft YaHei&quot;, &quot;Meiryo UI&quot;, Meiryo, &quot;Arial Unicode MS&quot;, sans-serif; font-size: 16px; background-color: rgb(255, 255, 255);\">Write a SQL query to select the&nbsp;</span> `orderid`<span style=\"color: rgb(17, 17, 17); font-family: -apple-system, Roboto, SegoeUI, &quot;Segoe UI&quot;, &quot;Helvetica Neue&quot;, Helvetica, &quot;Microsoft YaHei&quot;, &quot;Meiryo UI&quot;, Meiryo, &quot;Arial Unicode MS&quot;, sans-serif; font-size: 16px; background-color: rgb(255, 255, 255);\">, the year of&nbsp;</span> `orderdate` <span style=\"color: rgb(17, 17, 17); font-family: -apple-system, Roboto, SegoeUI, &quot;Segoe UI&quot;, &quot;Helvetica Neue&quot;, Helvetica, &quot;Microsoft YaHei&quot;, &quot;Meiryo UI&quot;, Meiryo, &quot;Arial Unicode MS&quot;, sans-serif; font-size: 16px; background-color: rgb(255, 255, 255);\">&nbsp;as&nbsp;</span> `orderyear`<span style=\"color: rgb(17, 17, 17); font-family: -apple-system, Roboto, SegoeUI, &quot;Segoe UI&quot;, &quot;Helvetica Neue&quot;, Helvetica, &quot;Microsoft YaHei&quot;, &quot;Meiryo UI&quot;, Meiryo, &quot;Arial Unicode MS&quot;, sans-serif; font-size: 16px; background-color: rgb(255, 255, 255);\">, and the year following&nbsp;</span> `orderdate` <span style=\"color: rgb(17, 17, 17); font-family: -apple-system, Roboto, SegoeUI, &quot;Segoe UI&quot;, &quot;Helvetica Neue&quot;, Helvetica, &quot;Microsoft YaHei&quot;, &quot;Meiryo UI&quot;, Meiryo, &quot;Arial Unicode MS&quot;, sans-serif; font-size: 16px; background-color: rgb(255, 255, 255);\">&nbsp;as&nbsp;</span> `nextyear` <span style=\"color: rgb(17, 17, 17); font-family: -apple-system, Roboto, SegoeUI, &quot;Segoe UI&quot;, &quot;Helvetica Neue&quot;, Helvetica, &quot;Microsoft YaHei&quot;, &quot;Meiryo UI&quot;, Meiryo, &quot;Arial Unicode MS&quot;, sans-serif; font-size: 16px; background-color: rgb(255, 255, 255);\">&nbsp;from the&nbsp;</span> `Sales.Orders` <span style=\"color: rgb(17, 17, 17); font-family: -apple-system, Roboto, SegoeUI, &quot;Segoe UI&quot;, &quot;Helvetica Neue&quot;, Helvetica, &quot;Microsoft YaHei&quot;, &quot;Meiryo UI&quot;, Meiryo, &quot;Arial Unicode MS&quot;, sans-serif; font-size: 16px; background-color: rgb(255, 255, 255);\">&nbsp;table.</span>"
            ],
            "metadata": {
                "azdata_cell_guid": "7a364eba-d799-40f8-a3e7-dd6ac8ed05b7"
            },
            "attachments": {}
        },
        {
            "cell_type": "code",
            "source": [
                "-- Listing 2-4: Query Demonstrating the ORDER BY Clause\r\n",
                "SELECT empid, YEAR(orderdate) AS orderyear, COUNT(*) AS numorders\r\n",
                "FROM Sales.Orders\r\n",
                "WHERE custid = 71\r\n",
                "GROUP BY empid, YEAR(orderdate)\r\n",
                "HAVING COUNT(*) > 1\r\n",
                "ORDER BY empid, orderyear;"
            ],
            "metadata": {
                "azdata_cell_guid": "e9021fdd-7091-404f-b86f-f04f40d122a5",
                "language": "sql"
            },
            "outputs": [],
            "execution_count": null
        },
        {
            "cell_type": "markdown",
            "source": [
                "<span style=\"color: rgb(17, 17, 17); font-family: -apple-system, Roboto, SegoeUI, &quot;Segoe UI&quot;, &quot;Helvetica Neue&quot;, Helvetica, &quot;Microsoft YaHei&quot;, &quot;Meiryo UI&quot;, Meiryo, &quot;Arial Unicode MS&quot;, sans-serif; font-size: 16px; background-color: rgb(255, 255, 255);\">Write a SQL query to select the&nbsp;</span> `empid`<span style=\"color: rgb(17, 17, 17); font-family: -apple-system, Roboto, SegoeUI, &quot;Segoe UI&quot;, &quot;Helvetica Neue&quot;, Helvetica, &quot;Microsoft YaHei&quot;, &quot;Meiryo UI&quot;, Meiryo, &quot;Arial Unicode MS&quot;, sans-serif; font-size: 16px; background-color: rgb(255, 255, 255);\">, the year of&nbsp;</span> `orderdate` <span style=\"color: rgb(17, 17, 17); font-family: -apple-system, Roboto, SegoeUI, &quot;Segoe UI&quot;, &quot;Helvetica Neue&quot;, Helvetica, &quot;Microsoft YaHei&quot;, &quot;Meiryo UI&quot;, Meiryo, &quot;Arial Unicode MS&quot;, sans-serif; font-size: 16px; background-color: rgb(255, 255, 255);\">&nbsp;as&nbsp;</span> `orderyear`<span style=\"color: rgb(17, 17, 17); font-family: -apple-system, Roboto, SegoeUI, &quot;Segoe UI&quot;, &quot;Helvetica Neue&quot;, Helvetica, &quot;Microsoft YaHei&quot;, &quot;Meiryo UI&quot;, Meiryo, &quot;Arial Unicode MS&quot;, sans-serif; font-size: 16px; background-color: rgb(255, 255, 255);\">, and the count of orders as&nbsp;</span> `numorders` <span style=\"color: rgb(17, 17, 17); font-family: -apple-system, Roboto, SegoeUI, &quot;Segoe UI&quot;, &quot;Helvetica Neue&quot;, Helvetica, &quot;Microsoft YaHei&quot;, &quot;Meiryo UI&quot;, Meiryo, &quot;Arial Unicode MS&quot;, sans-serif; font-size: 16px; background-color: rgb(255, 255, 255);\">&nbsp;from the&nbsp;</span> `Sales.Orders` <span style=\"color: rgb(17, 17, 17); font-family: -apple-system, Roboto, SegoeUI, &quot;Segoe UI&quot;, &quot;Helvetica Neue&quot;, Helvetica, &quot;Microsoft YaHei&quot;, &quot;Meiryo UI&quot;, Meiryo, &quot;Arial Unicode MS&quot;, sans-serif; font-size: 16px; background-color: rgb(255, 255, 255);\">&nbsp;table for the customer with&nbsp;</span> `custid` <span style=\"color: rgb(17, 17, 17); font-family: -apple-system, Roboto, SegoeUI, &quot;Segoe UI&quot;, &quot;Helvetica Neue&quot;, Helvetica, &quot;Microsoft YaHei&quot;, &quot;Meiryo UI&quot;, Meiryo, &quot;Arial Unicode MS&quot;, sans-serif; font-size: 16px; background-color: rgb(255, 255, 255);\">&nbsp;equal to 71. The results should be grouped by&nbsp;</span> `empid` <span style=\"color: rgb(17, 17, 17); font-family: -apple-system, Roboto, SegoeUI, &quot;Segoe UI&quot;, &quot;Helvetica Neue&quot;, Helvetica, &quot;Microsoft YaHei&quot;, &quot;Meiryo UI&quot;, Meiryo, &quot;Arial Unicode MS&quot;, sans-serif; font-size: 16px; background-color: rgb(255, 255, 255);\">&nbsp;and&nbsp;</span> `orderyear`<span style=\"color: rgb(17, 17, 17); font-family: -apple-system, Roboto, SegoeUI, &quot;Segoe UI&quot;, &quot;Helvetica Neue&quot;, Helvetica, &quot;Microsoft YaHei&quot;, &quot;Meiryo UI&quot;, Meiryo, &quot;Arial Unicode MS&quot;, sans-serif; font-size: 16px; background-color: rgb(255, 255, 255);\">, and only include groups where the count of orders is greater than 1. The results should be ordered by&nbsp;</span> `empid` <span style=\"color: rgb(17, 17, 17); font-family: -apple-system, Roboto, SegoeUI, &quot;Segoe UI&quot;, &quot;Helvetica Neue&quot;, Helvetica, &quot;Microsoft YaHei&quot;, &quot;Meiryo UI&quot;, Meiryo, &quot;Arial Unicode MS&quot;, sans-serif; font-size: 16px; background-color: rgb(255, 255, 255);\">&nbsp;and&nbsp;</span> `orderyear`<span style=\"color: rgb(17, 17, 17); font-family: -apple-system, Roboto, SegoeUI, &quot;Segoe UI&quot;, &quot;Helvetica Neue&quot;, Helvetica, &quot;Microsoft YaHei&quot;, &quot;Meiryo UI&quot;, Meiryo, &quot;Arial Unicode MS&quot;, sans-serif; font-size: 16px; background-color: rgb(255, 255, 255);\">. This query will provide you with the employee ID, the year the order was placed, and the number of orders for each employee and year, for the specified customer, where the number of orders is more than 1.</span>"
            ],
            "metadata": {
                "azdata_cell_guid": "4b2682e7-5d38-443f-b360-511354e76cfb"
            },
            "attachments": {}
        },
        {
            "cell_type": "code",
            "source": [
                "SELECT empid, firstname, lastname, country\r\n",
                "FROM HR.Employees\r\n",
                "ORDER BY hiredate;"
            ],
            "metadata": {
                "azdata_cell_guid": "9a2ed657-8ca3-4fbc-bb12-fa57ab1d41ba",
                "language": "sql"
            },
            "outputs": [],
            "execution_count": null
        },
        {
            "cell_type": "markdown",
            "source": [
                "<span style=\"color: rgb(17, 17, 17); font-family: -apple-system, Roboto, SegoeUI, &quot;Segoe UI&quot;, &quot;Helvetica Neue&quot;, Helvetica, &quot;Microsoft YaHei&quot;, &quot;Meiryo UI&quot;, Meiryo, &quot;Arial Unicode MS&quot;, sans-serif; font-size: 16px; background-color: rgb(255, 255, 255);\">Write a SQL query to select the&nbsp;</span> `empid`<span style=\"color: rgb(17, 17, 17); font-family: -apple-system, Roboto, SegoeUI, &quot;Segoe UI&quot;, &quot;Helvetica Neue&quot;, Helvetica, &quot;Microsoft YaHei&quot;, &quot;Meiryo UI&quot;, Meiryo, &quot;Arial Unicode MS&quot;, sans-serif; font-size: 16px; background-color: rgb(255, 255, 255);\">,&nbsp;</span> `firstname`<span style=\"color: rgb(17, 17, 17); font-family: -apple-system, Roboto, SegoeUI, &quot;Segoe UI&quot;, &quot;Helvetica Neue&quot;, Helvetica, &quot;Microsoft YaHei&quot;, &quot;Meiryo UI&quot;, Meiryo, &quot;Arial Unicode MS&quot;, sans-serif; font-size: 16px; background-color: rgb(255, 255, 255);\">,&nbsp;</span> `lastname`<span style=\"color: rgb(17, 17, 17); font-family: -apple-system, Roboto, SegoeUI, &quot;Segoe UI&quot;, &quot;Helvetica Neue&quot;, Helvetica, &quot;Microsoft YaHei&quot;, &quot;Meiryo UI&quot;, Meiryo, &quot;Arial Unicode MS&quot;, sans-serif; font-size: 16px; background-color: rgb(255, 255, 255);\">, and&nbsp;</span> `country` <span style=\"color: rgb(17, 17, 17); font-family: -apple-system, Roboto, SegoeUI, &quot;Segoe UI&quot;, &quot;Helvetica Neue&quot;, Helvetica, &quot;Microsoft YaHei&quot;, &quot;Meiryo UI&quot;, Meiryo, &quot;Arial Unicode MS&quot;, sans-serif; font-size: 16px; background-color: rgb(255, 255, 255);\">&nbsp;from the&nbsp;</span> `HR.Employees` <span style=\"color: rgb(17, 17, 17); font-family: -apple-system, Roboto, SegoeUI, &quot;Segoe UI&quot;, &quot;Helvetica Neue&quot;, Helvetica, &quot;Microsoft YaHei&quot;, &quot;Meiryo UI&quot;, Meiryo, &quot;Arial Unicode MS&quot;, sans-serif; font-size: 16px; background-color: rgb(255, 255, 255);\">&nbsp;table. The results should be ordered by&nbsp;</span> `hiredate`<span style=\"color: rgb(17, 17, 17); font-family: -apple-system, Roboto, SegoeUI, &quot;Segoe UI&quot;, &quot;Helvetica Neue&quot;, Helvetica, &quot;Microsoft YaHei&quot;, &quot;Meiryo UI&quot;, Meiryo, &quot;Arial Unicode MS&quot;, sans-serif; font-size: 16px; background-color: rgb(255, 255, 255);\">.</span>"
            ],
            "metadata": {
                "azdata_cell_guid": "e9dfdeb3-5f95-4c00-8780-6f06cdf2d400"
            },
            "attachments": {}
        },
        {
            "cell_type": "code",
            "source": [
                "-- Listing 2-5: Query Demonstrating the TOP Option\r\n",
                "SELECT TOP (5) orderid, orderdate, custid, empid\r\n",
                "FROM Sales.Orders\r\n",
                "ORDER BY orderdate DESC;"
            ],
            "metadata": {
                "azdata_cell_guid": "9863d70e-cb0a-4368-9adc-5f14eada79c3",
                "language": "sql"
            },
            "outputs": [],
            "execution_count": null
        },
        {
            "cell_type": "markdown",
            "source": [
                "<span style=\"color: rgb(17, 17, 17); font-family: -apple-system, Roboto, SegoeUI, &quot;Segoe UI&quot;, &quot;Helvetica Neue&quot;, Helvetica, &quot;Microsoft YaHei&quot;, &quot;Meiryo UI&quot;, Meiryo, &quot;Arial Unicode MS&quot;, sans-serif; font-size: 16px; background-color: rgb(255, 255, 255);\">Write a SQL query to select the top 5&nbsp;</span> `orderid`<span style=\"color: rgb(17, 17, 17); font-family: -apple-system, Roboto, SegoeUI, &quot;Segoe UI&quot;, &quot;Helvetica Neue&quot;, Helvetica, &quot;Microsoft YaHei&quot;, &quot;Meiryo UI&quot;, Meiryo, &quot;Arial Unicode MS&quot;, sans-serif; font-size: 16px; background-color: rgb(255, 255, 255);\">,&nbsp;</span> `orderdate`<span style=\"color: rgb(17, 17, 17); font-family: -apple-system, Roboto, SegoeUI, &quot;Segoe UI&quot;, &quot;Helvetica Neue&quot;, Helvetica, &quot;Microsoft YaHei&quot;, &quot;Meiryo UI&quot;, Meiryo, &quot;Arial Unicode MS&quot;, sans-serif; font-size: 16px; background-color: rgb(255, 255, 255);\">,&nbsp;</span> `custid`<span style=\"color: rgb(17, 17, 17); font-family: -apple-system, Roboto, SegoeUI, &quot;Segoe UI&quot;, &quot;Helvetica Neue&quot;, Helvetica, &quot;Microsoft YaHei&quot;, &quot;Meiryo UI&quot;, Meiryo, &quot;Arial Unicode MS&quot;, sans-serif; font-size: 16px; background-color: rgb(255, 255, 255);\">, and&nbsp;</span> `empid` <span style=\"color: rgb(17, 17, 17); font-family: -apple-system, Roboto, SegoeUI, &quot;Segoe UI&quot;, &quot;Helvetica Neue&quot;, Helvetica, &quot;Microsoft YaHei&quot;, &quot;Meiryo UI&quot;, Meiryo, &quot;Arial Unicode MS&quot;, sans-serif; font-size: 16px; background-color: rgb(255, 255, 255);\">&nbsp;from the&nbsp;</span> `Sales.Orders` <span style=\"color: rgb(17, 17, 17); font-family: -apple-system, Roboto, SegoeUI, &quot;Segoe UI&quot;, &quot;Helvetica Neue&quot;, Helvetica, &quot;Microsoft YaHei&quot;, &quot;Meiryo UI&quot;, Meiryo, &quot;Arial Unicode MS&quot;, sans-serif; font-size: 16px; background-color: rgb(255, 255, 255);\">&nbsp;table. The results should be ordered by&nbsp;</span> `orderdate` <span style=\"color: rgb(17, 17, 17); font-family: -apple-system, Roboto, SegoeUI, &quot;Segoe UI&quot;, &quot;Helvetica Neue&quot;, Helvetica, &quot;Microsoft YaHei&quot;, &quot;Meiryo UI&quot;, Meiryo, &quot;Arial Unicode MS&quot;, sans-serif; font-size: 16px; background-color: rgb(255, 255, 255);\">&nbsp;in descending order. This query will provide you with the order ID, order date, customer ID, and employee ID for the five most recent orders in the Sales database.&nbsp;</span>"
            ],
            "metadata": {
                "azdata_cell_guid": "8e9a087b-9fff-4332-a8ab-3405a1545c7f"
            },
            "attachments": {}
        },
        {
            "cell_type": "code",
            "source": [
                "SELECT TOP (1) PERCENT orderid, orderdate, custid, empid\r\n",
                "FROM Sales.Orders\r\n",
                "ORDER BY orderdate DESC;"
            ],
            "metadata": {
                "azdata_cell_guid": "d1134c41-3d8e-4052-8810-0c59943372e7",
                "language": "sql"
            },
            "outputs": [],
            "execution_count": null
        },
        {
            "cell_type": "markdown",
            "source": [
                "<span style=\"color: rgb(17, 17, 17); font-family: -apple-system, Roboto, SegoeUI, &quot;Segoe UI&quot;, &quot;Helvetica Neue&quot;, Helvetica, &quot;Microsoft YaHei&quot;, &quot;Meiryo UI&quot;, Meiryo, &quot;Arial Unicode MS&quot;, sans-serif; font-size: 16px; background-color: rgb(255, 255, 255);\">Write a SQL query to select the top 1 percent of&nbsp;</span> `orderid`<span style=\"color: rgb(17, 17, 17); font-family: -apple-system, Roboto, SegoeUI, &quot;Segoe UI&quot;, &quot;Helvetica Neue&quot;, Helvetica, &quot;Microsoft YaHei&quot;, &quot;Meiryo UI&quot;, Meiryo, &quot;Arial Unicode MS&quot;, sans-serif; font-size: 16px; background-color: rgb(255, 255, 255);\">,&nbsp;</span> `orderdate`<span style=\"color: rgb(17, 17, 17); font-family: -apple-system, Roboto, SegoeUI, &quot;Segoe UI&quot;, &quot;Helvetica Neue&quot;, Helvetica, &quot;Microsoft YaHei&quot;, &quot;Meiryo UI&quot;, Meiryo, &quot;Arial Unicode MS&quot;, sans-serif; font-size: 16px; background-color: rgb(255, 255, 255);\">,&nbsp;</span> `custid`<span style=\"color: rgb(17, 17, 17); font-family: -apple-system, Roboto, SegoeUI, &quot;Segoe UI&quot;, &quot;Helvetica Neue&quot;, Helvetica, &quot;Microsoft YaHei&quot;, &quot;Meiryo UI&quot;, Meiryo, &quot;Arial Unicode MS&quot;, sans-serif; font-size: 16px; background-color: rgb(255, 255, 255);\">, and&nbsp;</span> `empid` <span style=\"color: rgb(17, 17, 17); font-family: -apple-system, Roboto, SegoeUI, &quot;Segoe UI&quot;, &quot;Helvetica Neue&quot;, Helvetica, &quot;Microsoft YaHei&quot;, &quot;Meiryo UI&quot;, Meiryo, &quot;Arial Unicode MS&quot;, sans-serif; font-size: 16px; background-color: rgb(255, 255, 255);\">&nbsp;from the&nbsp;</span> `Sales.Orders` <span style=\"color: rgb(17, 17, 17); font-family: -apple-system, Roboto, SegoeUI, &quot;Segoe UI&quot;, &quot;Helvetica Neue&quot;, Helvetica, &quot;Microsoft YaHei&quot;, &quot;Meiryo UI&quot;, Meiryo, &quot;Arial Unicode MS&quot;, sans-serif; font-size: 16px; background-color: rgb(255, 255, 255);\">&nbsp;table. The results should be ordered by&nbsp;</span> `orderdate` <span style=\"color: rgb(17, 17, 17); font-family: -apple-system, Roboto, SegoeUI, &quot;Segoe UI&quot;, &quot;Helvetica Neue&quot;, Helvetica, &quot;Microsoft YaHei&quot;, &quot;Meiryo UI&quot;, Meiryo, &quot;Arial Unicode MS&quot;, sans-serif; font-size: 16px; background-color: rgb(255, 255, 255);\">&nbsp;in descending order. This query will provide you with the order ID, order date, customer ID, and employee ID for the top 1 percent of the most recent orders in the Sales database.</span>"
            ],
            "metadata": {
                "azdata_cell_guid": "942ba067-f105-4e5e-9d42-b8650ab6170e"
            },
            "attachments": {}
        },
        {
            "cell_type": "code",
            "source": [
                "-- Listing 2-6: Query Demonstrating TOP with Unique ORDER BY List\r\n",
                "SELECT TOP (5) orderid, orderdate, custid, empid\r\n",
                "FROM Sales.Orders\r\n",
                "ORDER BY orderdate DESC, orderid DESC;"
            ],
            "metadata": {
                "azdata_cell_guid": "6d939d52-1494-47ec-94ab-de797afc5232",
                "language": "sql"
            },
            "outputs": [],
            "execution_count": null
        },
        {
            "cell_type": "markdown",
            "source": [
                "<span style=\"color: rgb(17, 17, 17); font-family: -apple-system, Roboto, SegoeUI, &quot;Segoe UI&quot;, &quot;Helvetica Neue&quot;, Helvetica, &quot;Microsoft YaHei&quot;, &quot;Meiryo UI&quot;, Meiryo, &quot;Arial Unicode MS&quot;, sans-serif; font-size: 16px; background-color: rgb(255, 255, 255);\">Write a SQL query to select the top 5&nbsp;</span> `orderid`<span style=\"color: rgb(17, 17, 17); font-family: -apple-system, Roboto, SegoeUI, &quot;Segoe UI&quot;, &quot;Helvetica Neue&quot;, Helvetica, &quot;Microsoft YaHei&quot;, &quot;Meiryo UI&quot;, Meiryo, &quot;Arial Unicode MS&quot;, sans-serif; font-size: 16px; background-color: rgb(255, 255, 255);\">,&nbsp;</span> `orderdate`<span style=\"color: rgb(17, 17, 17); font-family: -apple-system, Roboto, SegoeUI, &quot;Segoe UI&quot;, &quot;Helvetica Neue&quot;, Helvetica, &quot;Microsoft YaHei&quot;, &quot;Meiryo UI&quot;, Meiryo, &quot;Arial Unicode MS&quot;, sans-serif; font-size: 16px; background-color: rgb(255, 255, 255);\">,&nbsp;</span> `custid`<span style=\"color: rgb(17, 17, 17); font-family: -apple-system, Roboto, SegoeUI, &quot;Segoe UI&quot;, &quot;Helvetica Neue&quot;, Helvetica, &quot;Microsoft YaHei&quot;, &quot;Meiryo UI&quot;, Meiryo, &quot;Arial Unicode MS&quot;, sans-serif; font-size: 16px; background-color: rgb(255, 255, 255);\">, and&nbsp;</span> `empid` <span style=\"color: rgb(17, 17, 17); font-family: -apple-system, Roboto, SegoeUI, &quot;Segoe UI&quot;, &quot;Helvetica Neue&quot;, Helvetica, &quot;Microsoft YaHei&quot;, &quot;Meiryo UI&quot;, Meiryo, &quot;Arial Unicode MS&quot;, sans-serif; font-size: 16px; background-color: rgb(255, 255, 255);\">&nbsp;from the&nbsp;</span> `Sales.Orders` <span style=\"color: rgb(17, 17, 17); font-family: -apple-system, Roboto, SegoeUI, &quot;Segoe UI&quot;, &quot;Helvetica Neue&quot;, Helvetica, &quot;Microsoft YaHei&quot;, &quot;Meiryo UI&quot;, Meiryo, &quot;Arial Unicode MS&quot;, sans-serif; font-size: 16px; background-color: rgb(255, 255, 255);\">&nbsp;table. The results should be ordered by&nbsp;</span> `orderdate` <span style=\"color: rgb(17, 17, 17); font-family: -apple-system, Roboto, SegoeUI, &quot;Segoe UI&quot;, &quot;Helvetica Neue&quot;, Helvetica, &quot;Microsoft YaHei&quot;, &quot;Meiryo UI&quot;, Meiryo, &quot;Arial Unicode MS&quot;, sans-serif; font-size: 16px; background-color: rgb(255, 255, 255);\">&nbsp;in descending order, and then by&nbsp;</span> `orderid` <span style=\"color: rgb(17, 17, 17); font-family: -apple-system, Roboto, SegoeUI, &quot;Segoe UI&quot;, &quot;Helvetica Neue&quot;, Helvetica, &quot;Microsoft YaHei&quot;, &quot;Meiryo UI&quot;, Meiryo, &quot;Arial Unicode MS&quot;, sans-serif; font-size: 16px; background-color: rgb(255, 255, 255);\">&nbsp;in descending order. This query will provide you with the order ID, order date, customer ID, and employee ID for the five most recent orders in the Sales database, with ties broken by the order ID.&nbsp;</span>"
            ],
            "metadata": {
                "azdata_cell_guid": "82f227d4-134d-40ca-b894-beb553f8aa02"
            },
            "attachments": {}
        },
        {
            "cell_type": "code",
            "source": [
                "SELECT TOP (5) WITH TIES orderid, orderdate, custid, empid\r\n",
                "FROM Sales.Orders\r\n",
                "ORDER BY orderdate DESC;"
            ],
            "metadata": {
                "azdata_cell_guid": "0299bcbf-2fac-4a16-9dd9-d6fafde3b78b",
                "language": "sql"
            },
            "outputs": [],
            "execution_count": null
        },
        {
            "cell_type": "markdown",
            "source": [
                "<span style=\"color: rgb(17, 17, 17); font-family: -apple-system, Roboto, SegoeUI, &quot;Segoe UI&quot;, &quot;Helvetica Neue&quot;, Helvetica, &quot;Microsoft YaHei&quot;, &quot;Meiryo UI&quot;, Meiryo, &quot;Arial Unicode MS&quot;, sans-serif; font-size: 16px; background-color: rgb(255, 255, 255);\">Write a SQL query to select the top 5&nbsp;</span> `orderid`<span style=\"color: rgb(17, 17, 17); font-family: -apple-system, Roboto, SegoeUI, &quot;Segoe UI&quot;, &quot;Helvetica Neue&quot;, Helvetica, &quot;Microsoft YaHei&quot;, &quot;Meiryo UI&quot;, Meiryo, &quot;Arial Unicode MS&quot;, sans-serif; font-size: 16px; background-color: rgb(255, 255, 255);\">,&nbsp;</span> `orderdate`<span style=\"color: rgb(17, 17, 17); font-family: -apple-system, Roboto, SegoeUI, &quot;Segoe UI&quot;, &quot;Helvetica Neue&quot;, Helvetica, &quot;Microsoft YaHei&quot;, &quot;Meiryo UI&quot;, Meiryo, &quot;Arial Unicode MS&quot;, sans-serif; font-size: 16px; background-color: rgb(255, 255, 255);\">,&nbsp;</span> `custid`<span style=\"color: rgb(17, 17, 17); font-family: -apple-system, Roboto, SegoeUI, &quot;Segoe UI&quot;, &quot;Helvetica Neue&quot;, Helvetica, &quot;Microsoft YaHei&quot;, &quot;Meiryo UI&quot;, Meiryo, &quot;Arial Unicode MS&quot;, sans-serif; font-size: 16px; background-color: rgb(255, 255, 255);\">, and&nbsp;</span> `empid` <span style=\"color: rgb(17, 17, 17); font-family: -apple-system, Roboto, SegoeUI, &quot;Segoe UI&quot;, &quot;Helvetica Neue&quot;, Helvetica, &quot;Microsoft YaHei&quot;, &quot;Meiryo UI&quot;, Meiryo, &quot;Arial Unicode MS&quot;, sans-serif; font-size: 16px; background-color: rgb(255, 255, 255);\">&nbsp;from the&nbsp;</span> `Sales.Orders` <span style=\"color: rgb(17, 17, 17); font-family: -apple-system, Roboto, SegoeUI, &quot;Segoe UI&quot;, &quot;Helvetica Neue&quot;, Helvetica, &quot;Microsoft YaHei&quot;, &quot;Meiryo UI&quot;, Meiryo, &quot;Arial Unicode MS&quot;, sans-serif; font-size: 16px; background-color: rgb(255, 255, 255);\">&nbsp;table, with any ties included. The results should be ordered by&nbsp;</span> `orderdate` <span style=\"color: rgb(17, 17, 17); font-family: -apple-system, Roboto, SegoeUI, &quot;Segoe UI&quot;, &quot;Helvetica Neue&quot;, Helvetica, &quot;Microsoft YaHei&quot;, &quot;Meiryo UI&quot;, Meiryo, &quot;Arial Unicode MS&quot;, sans-serif; font-size: 16px; background-color: rgb(255, 255, 255);\">&nbsp;in descending order. This query will provide you with the order ID, order date, customer ID, and employee ID for the five most recent orders in the Sales database, including any additional orders that have the same&nbsp;</span> `orderdate` <span style=\"color: rgb(17, 17, 17); font-family: -apple-system, Roboto, SegoeUI, &quot;Segoe UI&quot;, &quot;Helvetica Neue&quot;, Helvetica, &quot;Microsoft YaHei&quot;, &quot;Meiryo UI&quot;, Meiryo, &quot;Arial Unicode MS&quot;, sans-serif; font-size: 16px; background-color: rgb(255, 255, 255);\">&nbsp;as the fifth most recent order.&nbsp;</span>"
            ],
            "metadata": {
                "azdata_cell_guid": "efd490d2-c9bc-402d-9b0c-16dda792a923"
            },
            "attachments": {}
        }
    ]
}