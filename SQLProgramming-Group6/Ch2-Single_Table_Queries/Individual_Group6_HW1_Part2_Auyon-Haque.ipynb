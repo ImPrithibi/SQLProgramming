{
    "metadata": {
        "kernelspec": {
            "name": "SQL",
            "display_name": "SQL",
            "language": "sql"
        },
        "language_info": {
            "name": "sql",
            "version": ""
        }
    },
    "nbformat_minor": 2,
    "nbformat": 4,
    "cells": [
        {
            "cell_type": "markdown",
            "source": [
                "Auyon Haque Group 6"
            ],
            "metadata": {
                "azdata_cell_guid": "c6a78cd4-3bff-4142-acf6-3325cbb8e198"
            },
            "attachments": {}
        },
        {
            "cell_type": "code",
            "source": [
                "---------------------------------------------------------------------\r\n",
                "-- Operators and Functions\r\n",
                "---------------------------------------------------------------------\r\n",
                "\r\n",
                "-- Concatenation\r\n",
                "SELECT empid, firstname + N' ' + lastname AS fullname\r\n",
                "FROM HR.Employees;"
            ],
            "metadata": {
                "azdata_cell_guid": "696cedf8-6374-4c6c-96f0-5a294a26d278",
                "language": "sql"
            },
            "outputs": [],
            "execution_count": null
        },
        {
            "cell_type": "markdown",
            "source": [
                "<span style=\"font-size: 11pt; font-family: Arial, sans-serif; color: rgb(0, 0, 0); background-color: transparent; font-variant-numeric: normal; font-variant-east-asian: normal; font-variant-alternates: normal; vertical-align: baseline; white-space-collapse: preserve;\">Retrieve a list of employee IDs and their full names from the Employees table in the HR schema, ensuring that the full names are properly formatted with a space between the first and last names.</span>\n",
                "\n",
                "<span style=\"font-size: 11pt; font-family: Arial, sans-serif; color: rgb(0, 0, 0); background-color: transparent; font-variant-numeric: normal; font-variant-east-asian: normal; font-variant-alternates: normal; vertical-align: baseline; white-space-collapse: preserve;\"><br></span>"
            ],
            "metadata": {
                "language": "sql",
                "azdata_cell_guid": "8facd897-04b5-4ffe-8587-cd2e96ee455c"
            },
            "attachments": {}
        },
        {
            "cell_type": "code",
            "source": [
                "-- Listing 2-7: Query Demonstrating String Concatenation\r\n",
                "SELECT custid, country, region, city,\r\n",
                "  country + N',' + region + N',' + city AS location\r\n",
                "FROM Sales.Customers;"
            ],
            "metadata": {
                "language": "sql",
                "azdata_cell_guid": "467bbdee-b187-4bb7-9a01-60a05e1f4879"
            },
            "outputs": [],
            "execution_count": null
        },
        {
            "cell_type": "markdown",
            "source": [
                " \n",
                "\n",
                "<span style=\"font-size: 11pt; font-family: Arial, sans-serif; color: rgb(0, 0, 0); background-color: transparent; font-variant-numeric: normal; font-variant-east-asian: normal; font-variant-alternates: normal; vertical-align: baseline; white-space-collapse: preserve;\">Retrieve a list of customer IDs from the Customers table in the Sales schema along with their country, region, and city information formatted as a single string in the format 'country,region,city'</span>\n",
                "\n",
                "<span style=\"font-size: 11pt; font-family: Arial, sans-serif; color: rgb(0, 0, 0); background-color: transparent; font-variant-numeric: normal; font-variant-east-asian: normal; font-variant-alternates: normal; vertical-align: baseline; white-space-collapse: preserve;\"><br></span>"
            ],
            "metadata": {
                "language": "sql",
                "azdata_cell_guid": "e6c529da-abcc-48c3-8d0d-9e7bf85278a2"
            },
            "attachments": {}
        },
        {
            "cell_type": "code",
            "source": [
                "-- convert NULL to empty string\r\n",
                "SELECT custid, country, region, city,\r\n",
                "  country + COALESCE( N',' + region, N'') + N',' + city AS location\r\n",
                "FROM Sales.Customers;\r\n",
                ""
            ],
            "metadata": {
                "language": "sql",
                "azdata_cell_guid": "e4b96b7d-238e-482a-a41b-9e8c24529ca3"
            },
            "outputs": [],
            "execution_count": null
        },
        {
            "cell_type": "markdown",
            "source": [
                "<span style=\"font-size: 11pt; font-family: Arial, sans-serif; color: rgb(0, 0, 0); background-color: transparent; font-variant-numeric: normal; font-variant-east-asian: normal; font-variant-alternates: normal; vertical-align: baseline; white-space-collapse: preserve;\">Retrieve a list of customer IDs from the Customers table in the Sales schema along with a formatted location string that combines country, region (if available), and city</span>\n",
                "\n",
                "<span style=\"font-size: 11pt; font-family: Arial, sans-serif; color: rgb(0, 0, 0); background-color: transparent; font-variant-numeric: normal; font-variant-east-asian: normal; font-variant-alternates: normal; vertical-align: baseline; white-space-collapse: preserve;\"><br></span>"
            ],
            "metadata": {
                "language": "sql",
                "azdata_cell_guid": "86e6ac30-2f5e-4a12-b653-c2cb489ccc8b"
            },
            "attachments": {}
        },
        {
            "cell_type": "code",
            "source": [
                "-- using the CONCAT function\r\n",
                "SELECT custid, country, region, city,\r\n",
                "  CONCAT(country, N',' + region, N',' + city) AS location\r\n",
                "FROM Sales.Customers;"
            ],
            "metadata": {
                "language": "sql",
                "azdata_cell_guid": "cca3eecf-a1be-4048-a904-dc66417c0a7f"
            },
            "outputs": [],
            "execution_count": null
        },
        {
            "cell_type": "markdown",
            "source": [
                "Retrieve a list that shows the customer ID and their full location (country, region, and city) in a single column for each customer in the sales database"
            ],
            "metadata": {
                "language": "sql",
                "azdata_cell_guid": "ddab694e-6366-4d27-8346-f20dc03c5602"
            },
            "attachments": {}
        },
        {
            "cell_type": "code",
            "source": [
                "SELECT SUBSTRING('abcde', 1, 3); -- 'abc'\r\n",
                "\r\n",
                "SELECT RIGHT('abcde', 3); -- 'cde'\r\n",
                "\r\n",
                "SELECT LEN(N'abcde'); -- 5\r\n",
                "\r\n",
                "SELECT DATALENGTH(N'abcde'); -- 10\r\n",
                "\r\n",
                "SELECT CHARINDEX(' ','Itzik Ben-Gan'); -- 6\r\n",
                "\r\n",
                "SELECT PATINDEX('%[0-9]%', 'abcd123efgh'); -- 5\r\n",
                "\r\n",
                "SELECT REPLACE('1-a 2-b', '-', ':'); -- '1:a 2:b'"
            ],
            "metadata": {
                "language": "sql",
                "azdata_cell_guid": "7346a8c2-c9f4-4323-a5e9-3a127378fc0c"
            },
            "outputs": [],
            "execution_count": null
        },
        {
            "cell_type": "markdown",
            "source": [
                "Extracting a substring: This operation involves selecting a specific part of a string based on its position and length. \n",
                "\n",
                "Getting the right part of a string: This shows how to get the last N characters from a string. \n",
                "\n",
                "Calculating the length of a string: Demonstrates how to get the number of characters in a string. \n",
                "\n",
                "Calculating the byte length of a string: This is similar to getting the length but focuses on the number of bytes used to store the string, which can be different for Unicode strings.\n",
                "\n",
                " Finding the position of a character: Shows how to find the first occurrence of a space character in a string. \n",
                "\n",
                "Finding the position of the first digit: Indicates how to find the location of the first digit within a string using a pattern. \n",
                "\n",
                "Replacing characters: Demonstrates replacing all instances of one character with another in a string."
            ],
            "metadata": {
                "language": "sql",
                "azdata_cell_guid": "2b2fc335-17c3-4509-a91b-22820efb6b59"
            },
            "attachments": {}
        },
        {
            "cell_type": "code",
            "source": [
                "SELECT empid, lastname,\r\n",
                "  LEN(lastname) - LEN(REPLACE(lastname, 'e', '')) AS numoccur\r\n",
                "FROM HR.Employees;"
            ],
            "metadata": {
                "language": "sql",
                "azdata_cell_guid": "dfa9dc87-018a-496f-a53c-04852b956c41"
            },
            "outputs": [],
            "execution_count": null
        },
        {
            "cell_type": "markdown",
            "source": [
                "Retrieve a list that shows how many times the letter 'e' appears in the last name of each employee in the HR database"
            ],
            "metadata": {
                "language": "sql",
                "azdata_cell_guid": "bdd4402a-fc15-49ea-ab54-306ae7849a1e"
            },
            "attachments": {}
        },
        {
            "cell_type": "code",
            "source": [
                "SELECT REPLICATE('abc', 3); -- 'abcabcabc'\r\n",
                ""
            ],
            "metadata": {
                "language": "sql",
                "azdata_cell_guid": "6d07a1ff-e3ec-4eb8-8a15-2ddaca807f30",
                "tags": [
                    "hide_input"
                ]
            },
            "outputs": [],
            "execution_count": null
        },
        {
            "cell_type": "markdown",
            "source": [
                "create a string that repeats 'abc' three times"
            ],
            "metadata": {
                "language": "sql",
                "azdata_cell_guid": "4050d3eb-40c8-42f2-a051-375124b80f39"
            },
            "attachments": {}
        },
        {
            "cell_type": "code",
            "source": [
                "SELECT supplierid,\r\n",
                "  RIGHT(REPLICATE('0', 9) + CAST(supplierid AS VARCHAR(10)),\r\n",
                "        10) AS strsupplierid\r\n",
                "FROM Production.Suppliers;"
            ],
            "metadata": {
                "language": "sql",
                "azdata_cell_guid": "560d3898-288b-4535-a859-c37b19592886"
            },
            "outputs": [],
            "execution_count": null
        },
        {
            "cell_type": "markdown",
            "source": [
                "Retrieve a list that formats the supplier IDs from the Production database so that each ID is exactly 10 characters long, padded with leading zeros if necessary"
            ],
            "metadata": {
                "language": "sql",
                "azdata_cell_guid": "47f15e2f-7376-46ee-a067-a37e2eede09c"
            },
            "attachments": {}
        },
        {
            "cell_type": "code",
            "source": [
                "SELECT STUFF('xyz', 2, 1, 'abc'); -- 'xabcz'\r\n",
                "\r\n",
                "SELECT UPPER('Itzik Ben-Gan'); -- 'ITZIK BEN-GAN'\r\n",
                "\r\n",
                "SELECT LOWER('Itzik Ben-Gan'); -- 'itzik ben-gan'\r\n",
                "\r\n",
                "SELECT RTRIM(LTRIM('   abc   ')); -- 'abc'\r\n",
                "\r\n",
                "SELECT FORMAT(1759, '0000000000'); -- '0000001759'\r\n",
                ""
            ],
            "metadata": {
                "language": "sql",
                "azdata_cell_guid": "e5c0c5f1-8add-483e-94a1-daeb40ee3788"
            },
            "outputs": [],
            "execution_count": null
        },
        {
            "cell_type": "markdown",
            "source": [
                "Retrieve a list that uses the STUFF function, which is used to insert a strting into another string. \n",
                "\n",
                "Retrieve a list that uses the UPPER function, which is used to convert all the letters in a string to uppercase \n",
                "\n",
                "Retrieve a list that uses the LOWER function which is used to convert all the <span style=\"color: var(--vscode-foreground);\">all the letters in a string to lowercase</span>\n",
                "\n",
                "<span style=\"color: var(--vscode-foreground);\">Retrieve a list that uses RTRIM function and LTRIM function which are used to remove leading and trailing spaces from a string.&nbsp;</span> \n",
                "\n",
                "<span style=\"color: var(--vscode-foreground);\">Retrieve a list that uses FORMAT function which is used to format a number according to the given format</span>"
            ],
            "metadata": {
                "language": "sql",
                "azdata_cell_guid": "6ed4f6a0-eda3-441c-87b4-14fbb7e0b523"
            },
            "attachments": {}
        },
        {
            "cell_type": "code",
            "source": [
                "SELECT COMPRESS(N'This is my cv. Imagine it was much longer.');\r\n",
                "\r\n",
                "/*\r\n",
                "INSERT INTO dbo.EmployeeCVs( empid, cv )\r\n",
                "  VALUES( @empid, COMPRESS(@cv) );\r\n",
                "*/"
            ],
            "metadata": {
                "language": "sql",
                "azdata_cell_guid": "c15b64e4-f958-45ca-9295-e1bc76b9ad42",
                "tags": []
            },
            "outputs": [],
            "execution_count": null
        },
        {
            "cell_type": "markdown",
            "source": [
                "Retrieve a list that reduces the storage space required for large text fields in a SQL database"
            ],
            "metadata": {
                "language": "sql",
                "azdata_cell_guid": "52ca0bad-ac5e-42fe-a60c-9b0ac5fc8726"
            },
            "attachments": {}
        },
        {
            "cell_type": "code",
            "source": [
                "SELECT\r\n",
                "  CAST(\r\n",
                "    DECOMPRESS(COMPRESS(N'This is my cv. Imagine it was much longer.'))\r\n",
                "      AS NVARCHAR(MAX));\r\n",
                "\r\n",
                "/*\r\n",
                "SELECT empid, CAST(DECOMPRESS(cv) AS NVARCHAR(MAX)) AS cv\r\n",
                "FROM dbo.EmployeeCVs;\r\n",
                "*/"
            ],
            "metadata": {
                "language": "sql",
                "azdata_cell_guid": "b958b44b-0d40-4e67-bbfb-6266ca69dcbd",
                "tags": []
            },
            "outputs": [],
            "execution_count": null
        },
        {
            "cell_type": "markdown",
            "source": [
                "Retrieve a list that does the following, use the COMPRESS function and then immediately decompresses it using the DECOMPRESS function, casting the result back to NVARCHAR(MAX) to view it as the original text. This demonstrates the process of compressing data before storage and decompressing it upon retrieval"
            ],
            "metadata": {
                "language": "sql",
                "azdata_cell_guid": "3b9e9577-98a5-4fd3-866c-c47aa77021b1"
            },
            "attachments": {}
        },
        {
            "cell_type": "code",
            "source": [
                "-- STRING_SPLIT\r\n",
                "SELECT CAST(value AS INT) AS myvalue\r\n",
                "FROM STRING_SPLIT('10248,10249,10250', ',') AS S;\r\n",
                "\r\n",
                "/*\r\n",
                "myvalue\r\n",
                "-----------\r\n",
                "10248\r\n",
                "10249\r\n",
                "10250\r\n",
                "*/"
            ],
            "metadata": {
                "language": "sql",
                "azdata_cell_guid": "8fdfb0be-69e4-42e8-b45c-b8275eeee999"
            },
            "outputs": [],
            "execution_count": null
        },
        {
            "cell_type": "markdown",
            "source": [
                "Retrieve a list that splits a comma-separated string into individual integer values."
            ],
            "metadata": {
                "language": "sql",
                "azdata_cell_guid": "29cee712-0871-4654-b31f-0bbff73a9ab9"
            },
            "attachments": {}
        },
        {
            "cell_type": "code",
            "source": [
                "---------------------------------------------------------------------\r\n",
                "-- LIKE Predicate\r\n",
                "---------------------------------------------------------------------\r\n",
                "\r\n",
                "-- Last name starts with D\r\n",
                "SELECT empid, lastname\r\n",
                "FROM HR.Employees\r\n",
                "WHERE lastname LIKE N'D%';"
            ],
            "metadata": {
                "language": "sql",
                "azdata_cell_guid": "437ea0d4-c55f-4110-bd33-e1d042f91840"
            },
            "outputs": [],
            "execution_count": null
        },
        {
            "cell_type": "markdown",
            "source": [
                "Retrieve a list that finds all employees in the HR database whose last names begin with the letter 'D'"
            ],
            "metadata": {
                "language": "sql",
                "azdata_cell_guid": "beeebcfc-376f-4e2f-91e5-9b5d7d2888f5"
            },
            "attachments": {}
        },
        {
            "cell_type": "code",
            "source": [
                "-- Second character in last name is e\r\n",
                "SELECT empid, lastname\r\n",
                "FROM HR.Employees\r\n",
                "WHERE lastname LIKE N'_e%';"
            ],
            "metadata": {
                "language": "sql",
                "azdata_cell_guid": "0e9c9840-fa04-4ae7-8394-0ff6e14a200c"
            },
            "outputs": [],
            "execution_count": null
        },
        {
            "cell_type": "markdown",
            "source": [
                "Retrieve a list that finds all employees in the HR database whose last names have 'e' as the second letter"
            ],
            "metadata": {
                "language": "sql",
                "azdata_cell_guid": "4e668b37-b512-4462-8b0d-5b94409e8f57"
            },
            "attachments": {}
        },
        {
            "cell_type": "code",
            "source": [
                "-- First character in last name is A, B or C\r\n",
                "SELECT empid, lastname\r\n",
                "FROM HR.Employees\r\n",
                "WHERE lastname LIKE N'[ABC]%';"
            ],
            "metadata": {
                "language": "sql",
                "azdata_cell_guid": "009817c5-a2fe-406f-ab0c-8cf36265146b"
            },
            "outputs": [],
            "execution_count": null
        },
        {
            "cell_type": "markdown",
            "source": [
                "Retrieve a list that finds all employees in the HR database whose last names begin with the letter 'A', 'B', or 'C'"
            ],
            "metadata": {
                "language": "sql",
                "azdata_cell_guid": "e5fe6bc3-6005-4851-a6c4-6911e65c8ffa"
            },
            "attachments": {}
        },
        {
            "cell_type": "code",
            "source": [
                "-- First character in last name is A through E\r\n",
                "SELECT empid, lastname\r\n",
                "FROM HR.Employees\r\n",
                "WHERE lastname LIKE N'[A-E]%';"
            ],
            "metadata": {
                "language": "sql",
                "azdata_cell_guid": "a0c78c8a-3665-400f-b23a-506809de82b1",
                "tags": []
            },
            "outputs": [],
            "execution_count": null
        },
        {
            "cell_type": "markdown",
            "source": [
                "Retrieve a list that finds all employees in the HR database whose last names start with the letter ranging from 'A'-'E'"
            ],
            "metadata": {
                "language": "sql",
                "azdata_cell_guid": "13ef3b48-da37-4933-9340-7adddb0c99fb"
            },
            "attachments": {}
        },
        {
            "cell_type": "code",
            "source": [
                "-- First character in last name is not A through E\r\n",
                "SELECT empid, lastname\r\n",
                "FROM HR.Employees\r\n",
                "WHERE lastname LIKE N'[^A-E]%';"
            ],
            "metadata": {
                "azdata_cell_guid": "86c7d3be-d7ec-482d-b0c9-000abb849a2b",
                "language": "sql"
            },
            "outputs": [],
            "execution_count": null
        },
        {
            "cell_type": "markdown",
            "source": [
                "Retrieve a list that finds all employees in the HR database whose last names do not start with a letter from 'A' to 'E'"
            ],
            "metadata": {
                "language": "sql",
                "azdata_cell_guid": "912136c7-e5e4-411e-bb0e-39b9e377c3b6"
            },
            "attachments": {}
        }
    ]
}