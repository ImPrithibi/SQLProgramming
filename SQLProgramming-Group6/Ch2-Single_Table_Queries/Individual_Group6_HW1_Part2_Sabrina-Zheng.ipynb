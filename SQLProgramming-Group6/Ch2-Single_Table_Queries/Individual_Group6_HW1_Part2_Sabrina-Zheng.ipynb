{
    "metadata": {
        "kernelspec": {
            "name": "SQL",
            "display_name": "SQL",
            "language": "sql"
        },
        "language_info": {
            "name": "sql",
            "version": ""
        }
    },
    "nbformat_minor": 2,
    "nbformat": 4,
    "cells": [
        {
            "cell_type": "markdown",
            "source": [
                "**Sabrina Zheng | Group 6 | Lines 202 - 374**\n",
                "\n",
                "  \n",
                "\n",
                "\\---------------------------------------------------------------------\n",
                "\n",
                "\\-- A Quick Look at Window Functions\n",
                "\n",
                "\\---------------------------------------------------------------------\n",
                "\n",
                "Write a query that retrieves the orderid, custid, and val from the Sales.OrderValues table and assign a row number within each custid group based on the val column using the ROW\\_NUMBER function. The results should be ordered by custid and then val."
            ],
            "metadata": {
                "azdata_cell_guid": "042f90f1-b676-40c0-aab3-0cd2f8cd62fa"
            },
            "attachments": {}
        },
        {
            "cell_type": "code",
            "source": [
                "SELECT orderid, custid, val,\r\n",
                "  ROW_NUMBER() OVER(PARTITION BY custid\r\n",
                "                    ORDER BY val) AS rownum\r\n",
                "FROM Sales.OrderValues\r\n",
                "ORDER BY custid, val;"
            ],
            "metadata": {
                "azdata_cell_guid": "f434f8fc-2aa9-4612-83fb-9b89d9560b92",
                "language": "sql",
                "tags": []
            },
            "outputs": [],
            "execution_count": null
        },
        {
            "cell_type": "markdown",
            "source": [
                "\\---------------------------------------------------------------------\n",
                "\n",
                "\\-- Predicates and Operators\n",
                "\n",
                "\\---------------------------------------------------------------------\n",
                "\n",
                "  \n",
                "\n",
                "Write a query that selects orderid, empid, orderdate from Sales.Orders and filters the results to include only rows where the orderid is among the specified values (10248, 10249, 10250), using the IN predicate.\n",
                "\n",
                "Then select orderid, empid, and orderdate from the Sales.Orders table. However, and filter the results to include only rows where the orderid falls within the range from 10300 to 10310 using the BETWEEN predicate.\n",
                "\n",
                "Then select empid, firstname, and lastname from the HR.Employees table, filtering the results to include only rows where the lastname starts with the letter 'D' using the LIKE predicate with %. The N prefix indicates that the string is a Unicode string literal."
            ],
            "metadata": {
                "azdata_cell_guid": "37f172ad-d371-4a79-a29a-2cf67963b1d5"
            },
            "attachments": {}
        },
        {
            "cell_type": "code",
            "source": [
                "-- Predicates: IN, BETWEEN, LIKE\r\n",
                "SELECT orderid, empid, orderdate\r\n",
                "FROM Sales.Orders\r\n",
                "WHERE orderid IN(10248, 10249, 10250);\r\n",
                "\r\n",
                "SELECT orderid, empid, orderdate\r\n",
                "FROM Sales.Orders\r\n",
                "WHERE orderid BETWEEN 10300 AND 10310;\r\n",
                "\r\n",
                "SELECT empid, firstname, lastname\r\n",
                "FROM HR.Employees\r\n",
                "WHERE lastname LIKE N'D%';"
            ],
            "metadata": {
                "azdata_cell_guid": "f22b429e-15f9-401e-8e88-03d2e00455e4",
                "language": "sql",
                "tags": []
            },
            "outputs": [],
            "execution_count": null
        },
        {
            "cell_type": "markdown",
            "source": [
                "Write a query that selects orderid, empid, and orderdate from the Sales.Orders table and filters the results to include only rows where the orderdate is greater than or equal to January 1, 2016, using the \\>= comparison operator to specify the condition."
            ],
            "metadata": {
                "azdata_cell_guid": "b1ef1f96-be60-47ce-85ed-ee29be17af34"
            },
            "attachments": {}
        },
        {
            "cell_type": "code",
            "source": [
                "-- Comparison operators: =, >, <, >=, <=, <>, !=, !>, !< \r\n",
                "SELECT orderid, empid, orderdate\r\n",
                "FROM Sales.Orders\r\n",
                "WHERE orderdate >= '20160101';"
            ],
            "metadata": {
                "azdata_cell_guid": "48b8b259-d34e-4f1a-8781-f5e0a63030dd",
                "language": "sql"
            },
            "outputs": [],
            "execution_count": null
        },
        {
            "cell_type": "markdown",
            "source": [
                "Write a query that selects orderid, empid, and orderdate from the Sales.Orders table. and filters the results to include only rows where the orderdate is greater than or equal to January 1, 2016, and the empid is either 1, 3, or 5, using the AND logical operator to combine the conditions."
            ],
            "metadata": {
                "azdata_cell_guid": "85cdbcc3-2c28-4933-94e9-c355f53a9b64"
            },
            "attachments": {}
        },
        {
            "cell_type": "code",
            "source": [
                "-- Logical operators: AND, OR, NOT\r\n",
                "SELECT orderid, empid, orderdate\r\n",
                "FROM Sales.Orders\r\n",
                "WHERE orderdate >= '20160101'\r\n",
                "  AND empid IN(1, 3, 5);"
            ],
            "metadata": {
                "azdata_cell_guid": "abf181e8-2d67-4233-968a-884657ecd36a",
                "language": "sql"
            },
            "outputs": [],
            "execution_count": null
        },
        {
            "cell_type": "markdown",
            "source": [
                "Write a query that selects orderid, productid, qty, unitprice, and discount from the Sales.OrderDetails table and calculates a new column named val by multiplying qty with unitprice, subtracting the discount from 1, and then multiplying all three values."
            ],
            "metadata": {
                "azdata_cell_guid": "70d9802a-5797-4e90-95fe-9be458bd4864"
            },
            "attachments": {}
        },
        {
            "cell_type": "code",
            "source": [
                "-- Arithmetic operators: +, -, *, /, %\r\n",
                "SELECT orderid, productid, qty, unitprice, discount,\r\n",
                "  qty * unitprice * (1 - discount) AS val\r\n",
                "FROM Sales.OrderDetails;"
            ],
            "metadata": {
                "azdata_cell_guid": "05a2f96d-4d0c-492c-8b8b-41459dec45a9",
                "language": "sql"
            },
            "outputs": [],
            "execution_count": null
        },
        {
            "cell_type": "markdown",
            "source": [
                "\\-- Operator Precedence\n",
                "\n",
                "  \n",
                "\n",
                "Write a query that selects the orderid, custid, empid, orderdate from Sales.Orders and the query filters the results to include rows where either of the following conditions is true:\n",
                "\n",
                "  \n",
                "\n",
                "custid is 1 and empid is either 1, 3, or 5.\n",
                "\n",
                "custid is 85 and empid is either 2, 4, or 6."
            ],
            "metadata": {
                "azdata_cell_guid": "ba47dba2-6638-4c65-bfbb-a7209b8fd2ac"
            },
            "attachments": {}
        },
        {
            "cell_type": "code",
            "source": [
                "-- AND precedes OR\r\n",
                "SELECT orderid, custid, empid, orderdate\r\n",
                "FROM Sales.Orders\r\n",
                "WHERE\r\n",
                "        custid = 1\r\n",
                "    AND empid IN(1, 3, 5)\r\n",
                "    OR  custid = 85\r\n",
                "    AND empid IN(2, 4, 6);"
            ],
            "metadata": {
                "azdata_cell_guid": "5f824827-2a47-473d-9292-e3df77071db9",
                "language": "sql"
            },
            "outputs": [],
            "execution_count": null
        },
        {
            "cell_type": "markdown",
            "source": [
                "Write a query that selects the orderid, custid, empid, orderdate from Sales.Orders and filters the results to include rows where either of the following conditions is true:\n",
                "\n",
                "  \n",
                "\n",
                "custid is 1 and empid is either 1, 3, or 5.\n",
                "\n",
                "custid is 85 and empid is either 2, 4, or 6."
            ],
            "metadata": {
                "azdata_cell_guid": "59d6a375-646b-49eb-b567-413f2f869161"
            },
            "attachments": {}
        },
        {
            "cell_type": "code",
            "source": [
                "-- Equivalent to\r\n",
                "SELECT orderid, custid, empid, orderdate\r\n",
                "FROM Sales.Orders\r\n",
                "WHERE\r\n",
                "      ( custid = 1\r\n",
                "        AND empid IN(1, 3, 5) )\r\n",
                "    OR\r\n",
                "      ( custid = 85\r\n",
                "        AND empid IN(2, 4, 6) );"
            ],
            "metadata": {
                "azdata_cell_guid": "a1740125-e611-4bce-910b-2c38cefc1340",
                "language": "sql"
            },
            "outputs": [],
            "execution_count": null
        },
        {
            "cell_type": "markdown",
            "source": [
                "Write a query to show the order of precedence between the multiplication and addition operators and  the result of them."
            ],
            "metadata": {
                "azdata_cell_guid": "e1614c66-5617-4e85-b4c7-eb680ac07ce1"
            },
            "attachments": {}
        },
        {
            "cell_type": "code",
            "source": [
                "-- *, / precedes +, -\r\n",
                "SELECT 10 + 2 * 3   -- 16\r\n",
                "\r\n",
                "SELECT (10 + 2) * 3 -- 36"
            ],
            "metadata": {
                "azdata_cell_guid": "f2e3ca6c-178a-4864-9c62-a6a91c1c2216",
                "language": "sql"
            },
            "outputs": [],
            "execution_count": null
        },
        {
            "cell_type": "markdown",
            "source": [
                "\\---------------------------------------------------------------------\n",
                "\n",
                "\\-- CASE Expression\n",
                "\n",
                "\\---------------------------------------------------------------------\n",
                "\n",
                "  \n",
                "\n",
                "Write a query that retrieves productid, productname, and categoryid from the Production.Products table. Uses a CASE expression to assign a corresponding category name based on the categoryid. If categoryid matches any of the specified values (1 through 8), it assigns the appropriate category name ('Beverages', 'Condiments', etc.). If the categoryid doesn't match any of these values, it assigns 'Unknown Category'. The result set includes a new column named categoryname representing the category name for each product."
            ],
            "metadata": {
                "azdata_cell_guid": "68f2a72a-68e1-484c-828d-15f619d6b46e"
            },
            "attachments": {}
        },
        {
            "cell_type": "code",
            "source": [
                "-- Simple\r\n",
                "SELECT productid, productname, categoryid,\r\n",
                "  CASE categoryid\r\n",
                "    WHEN 1 THEN 'Beverages'\r\n",
                "    WHEN 2 THEN 'Condiments'\r\n",
                "    WHEN 3 THEN 'Confections'\r\n",
                "    WHEN 4 THEN 'Dairy Products'\r\n",
                "    WHEN 5 THEN 'Grains/Cereals'\r\n",
                "    WHEN 6 THEN 'Meat/Poultry'\r\n",
                "    WHEN 7 THEN 'Produce'\r\n",
                "    WHEN 8 THEN 'Seafood'\r\n",
                "    ELSE 'Unknown Category'\r\n",
                "  END AS categoryname\r\n",
                "FROM Production.Products;"
            ],
            "metadata": {
                "azdata_cell_guid": "a82670c0-b530-4964-88fa-870f364cd90f",
                "language": "sql"
            },
            "outputs": [],
            "execution_count": null
        },
        {
            "cell_type": "markdown",
            "source": [
                "Write a query that selects orderid, custid, and val from the Sales.OrderValues table using a CASE expression without specifying a column to evaluate. Instead, it checks different conditions for val and assigns corresponding labels to valuecategory. If val is less than 1000.00, it assigns 'Less than 1000'. If val is between 1000.00 and 3000.00, it assigns 'Between 1000 and 3000'. If val is greater than 3000.00, it assigns 'More than 3000'. If none of these conditions are met, it assigns 'Unknown' to valuecategory."
            ],
            "metadata": {
                "azdata_cell_guid": "b7d6a520-c39d-4309-ae00-e6a1bf8c18dd"
            },
            "attachments": {}
        },
        {
            "cell_type": "code",
            "source": [
                "-- Searched\r\n",
                "SELECT orderid, custid, val,\r\n",
                "  CASE \r\n",
                "    WHEN val < 1000.00                   THEN 'Less than 1000'\r\n",
                "    WHEN val BETWEEN 1000.00 AND 3000.00 THEN 'Between 1000 and 3000'\r\n",
                "    WHEN val > 3000.00                   THEN 'More than 3000'\r\n",
                "    ELSE 'Unknown'\r\n",
                "  END AS valuecategory\r\n",
                "FROM Sales.OrderValues;"
            ],
            "metadata": {
                "azdata_cell_guid": "6e877d28-ccfb-4926-8de6-7fa639a7de2f",
                "language": "sql"
            },
            "outputs": [],
            "execution_count": null
        },
        {
            "cell_type": "markdown",
            "source": [
                "\\---------------------------------------------------------------------\n",
                "\n",
                "\\-- NULLs\n",
                "\n",
                "\\---------------------------------------------------------------------\n",
                "\n",
                "  \n",
                "\n",
                "Write a query that \n",
                "\n",
                "\\-selects custid, country, region, and city from Sales.Customers where the region is equal to 'WA'\n",
                "\n",
                "\\-selects custid, country, region, and city from Sales.Customers where the region is not equal to 'WA'.\n",
                "\n",
                "\\-select custid, country, region, and city from Sales.Customers where the region is equal to NULL. However, comparing to NULL using the = operator won't return any results because NULL isn't equal to anything, including itself.\n",
                "\n",
                "\\-selects custid, country, region, and city from Sales.Customers where the region is NULL. It correctly uses the IS NULL operator to check for NULL values.\n",
                "\n",
                "\\-selects custid, country, region, and city from Sales.Customers where the region is not equal to 'WA' or where the region is NULL. It combines the conditions using the OR logical operator."
            ],
            "metadata": {
                "azdata_cell_guid": "0f2e2398-8aca-4ec9-9c39-0b664ac0d99d"
            },
            "attachments": {}
        },
        {
            "cell_type": "code",
            "source": [
                "SELECT custid, country, region, city\r\n",
                "FROM Sales.Customers\r\n",
                "WHERE region = N'WA';\r\n",
                "\r\n",
                "SELECT custid, country, region, city\r\n",
                "FROM Sales.Customers\r\n",
                "WHERE region <> N'WA';\r\n",
                "\r\n",
                "SELECT custid, country, region, city\r\n",
                "FROM Sales.Customers\r\n",
                "WHERE region = NULL;\r\n",
                "\r\n",
                "SELECT custid, country, region, city\r\n",
                "FROM Sales.Customers\r\n",
                "WHERE region IS NULL;\r\n",
                "\r\n",
                "SELECT custid, country, region, city\r\n",
                "FROM Sales.Customers\r\n",
                "WHERE region <> N'WA'\r\n",
                "   OR region IS NULL;"
            ],
            "metadata": {
                "azdata_cell_guid": "fb57fb67-55d8-4891-a24b-7f59d961e948",
                "language": "sql"
            },
            "outputs": [],
            "execution_count": null
        },
        {
            "cell_type": "markdown",
            "source": [
                "\\---------------------------------------------------------------------\n",
                "\n",
                "\\-- All-At-Once Operations\n",
                "\n",
                "\\---------------------------------------------------------------------\n",
                "\n",
                "Write the following queries\n",
                "\n",
                "\\-selects orderid, YEAR(orderdate) as orderyear, and calculates orderyear + 1 as nextyear from the Sales.Orders table. However, this query is commented out, so it won't be executed.\n",
                "\n",
                "\\-selects col1 and col2 from the dbo.T1 table, filtering rows where col1 is not equal to 0 and the result of col2/col1 is greater than 2.\n",
                "\n",
                "\\-selects col1 and col2 from the dbo.T1 table, applying a conditional logic within a CASE expression. However, it's not standard SQL to use a CASE expression in the WHERE clause like this. This query could be inefficient as it evaluates the condition for each row.\n",
                "\n",
                "\\-selects col1 and col2 from the dbo.T1 table, filtering rows where either (col1 \\> 0 AND col2 \\> 2\\*col1) or (col1 \\< 0 AND col2 \\< 2\\*col1) conditions are met."
            ],
            "metadata": {
                "azdata_cell_guid": "a652ce46-7fa2-45e8-a7ef-5fce0f895abe"
            },
            "attachments": {}
        },
        {
            "cell_type": "code",
            "source": [
                "/*\r\n",
                "SELECT \r\n",
                "  orderid, \r\n",
                "  YEAR(orderdate) AS orderyear, \r\n",
                "  orderyear + 1 AS nextyear\r\n",
                "FROM Sales.Orders;\r\n",
                "*/\r\n",
                "\r\n",
                "/*\r\n",
                "SELECT col1, col2\r\n",
                "FROM dbo.T1\r\n",
                "WHERE col1 <> 0 AND col2/col1 > 2;\r\n",
                "*/\r\n",
                "\r\n",
                "/*\r\n",
                "SELECT col1, col2\r\n",
                "FROM dbo.T1\r\n",
                "WHERE\r\n",
                "  CASE\r\n",
                "    WHEN col1 = 0 THEN 'no' -- or 'yes' if row should be returned\r\n",
                "    WHEN col2/col1 > 2 THEN 'yes'\r\n",
                "    ELSE 'no'\r\n",
                "  END = 'yes';\r\n",
                "*/\r\n",
                "\r\n",
                "/*\r\n",
                "SELECT col1, col2\r\n",
                "FROM dbo.T1\r\n",
                "WHERE (col1 > 0 AND col2 > 2*col1) OR (col1 < 0 AND col2 < 2*col1); \r\n",
                "*/"
            ],
            "metadata": {
                "azdata_cell_guid": "84c1f857-a6ff-4c1f-9515-23d75058fcc9",
                "language": "sql"
            },
            "outputs": [],
            "execution_count": null
        },
        {
            "cell_type": "markdown",
            "source": [
                "\\---------------------------------------------------------------------\n",
                "\n",
                "\\-- Working with Character Data\n",
                "\n",
                "\\---------------------------------------------------------------------\n",
                "\n",
                "  \n",
                "\n",
                "\\---------------------------------------------------------------------\n",
                "\n",
                "\\-- Collation\n",
                "\n",
                "\\---------------------------------------------------------------------\n",
                "\n",
                "  \n",
                "\n",
                "Write a query that\n",
                "\n",
                "\\- retrieves collation information using the system function sys.fn\\_helpcollations(). This function returns a list of collations supported by the database.\n",
                "\n",
                "\\-selects empid, firstname, and lastname from the HR.Employees table, filtering rows where the lastname is 'davis'. By default, SQL Server performs a case-insensitive comparison.\n",
                "\n",
                "\\-selects empid, firstname, and lastname from the HR.Employees table, filtering rows where the lastname is 'davis'. However, it uses the COLLATE keyword to apply a specific collation (Latin1\\_General\\_CS\\_AS), which makes the comparison case-sensitive (CS for case-sensitive and AS for accent-sensitive)."
            ],
            "metadata": {
                "azdata_cell_guid": "f5228f47-0ed9-4897-998a-09e1b3f8cfb5"
            },
            "attachments": {}
        },
        {
            "cell_type": "code",
            "source": [
                "SELECT name, description\r\n",
                "FROM sys.fn_helpcollations();\r\n",
                "\r\n",
                "SELECT empid, firstname, lastname\r\n",
                "FROM HR.Employees\r\n",
                "WHERE lastname = N'davis';\r\n",
                "\r\n",
                "SELECT empid, firstname, lastname\r\n",
                "FROM HR.Employees\r\n",
                "WHERE lastname COLLATE Latin1_General_CS_AS = N'davis';"
            ],
            "metadata": {
                "azdata_cell_guid": "bccff0dd-d882-405a-9d40-ff59f1a0e930",
                "language": "sql"
            },
            "outputs": [],
            "execution_count": null
        }
    ]
}