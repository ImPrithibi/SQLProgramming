{
    "metadata": {
        "kernelspec": {
            "name": "SQL",
            "display_name": "SQL",
            "language": "sql"
        },
        "language_info": {
            "name": "sql",
            "version": ""
        }
    },
    "nbformat_minor": 2,
    "nbformat": 4,
    "cells": [
        {
            "cell_type": "markdown",
            "source": [
                "**Prithibi Paul | Group 6 | Questions 4 and 5**"
            ],
            "metadata": {
                "azdata_cell_guid": "10c91567-c6b4-46d8-b3be-8fd5fc499fa5"
            },
            "attachments": {}
        },
        {
            "cell_type": "markdown",
            "source": [
                "**Question 4:**"
            ],
            "metadata": {
                "azdata_cell_guid": "bd9ddb9e-a56a-4704-b4ca-0561acc104c3"
            },
            "attachments": {}
        },
        {
            "cell_type": "code",
            "source": [
                "-- Question 4: \r\n",
                "-- Return orders with total value(qty*unitprice) greater than 10000\r\n",
                "-- sorted by total value\r\n",
                "-- Tables involved: Sales.OrderDetails table\r\n",
                "\r\n",
                "-- Desired output:\r\n",
                "orderid     totalvalue\r\n",
                "----------- ---------------------\r\n",
                "10865       17250.00\r\n",
                "11030       16321.90\r\n",
                "10981       15810.00\r\n",
                "10372       12281.20\r\n",
                "10424       11493.20\r\n",
                "10817       11490.70\r\n",
                "10889       11380.00\r\n",
                "10417       11283.20\r\n",
                "10897       10835.24\r\n",
                "10353       10741.60\r\n",
                "10515       10588.50\r\n",
                "10479       10495.60\r\n",
                "10540       10191.70\r\n",
                "10691       10164.80\r\n",
                "\r\n",
                "(14 row(s) affected)"
            ],
            "metadata": {
                "azdata_cell_guid": "20a349c4-8f12-4847-9258-8670e4e7d74f",
                "language": "sql",
                "tags": []
            },
            "outputs": [],
            "execution_count": null
        },
        {
            "cell_type": "markdown",
            "source": [
                "**<u>Explanation for the TSQLV4 Database Query</u>**\n",
                "\n",
                "1\\. Database Context: 'USE \\[TSQLV4\\]' sets the context to the TSQLV4 database.\n",
                "\n",
                "2\\. SELECT Clause:\n",
                "\n",
                "   - 'od.orderid': Selects the order ID from the \\[Sales\\].\\[OrderDetails\\] table.\n",
                "\n",
                "   - 'SUM(od.qty \\* od.unitprice) AS totalvalue': Calculates the total value of each order by multiplying quantity (od.qty) by unit price (od.unitprice) and summing these products, aliasing the result as 'totalvalue'.\n",
                "\n",
                "3\\. FROM Clause:\n",
                "\n",
                "   - Specifies the \\[Sales\\].\\[OrderDetails\\] table as the data source, aliasing it as 'od'.\n",
                "\n",
                "4\\. GROUP BY Clause:\n",
                "\n",
                "   - Groups the results by 'od.orderid' to apply the SUM function to each unique order ID.\n",
                "\n",
                "5\\. HAVING Clause:\n",
                "\n",
                "   - Filters the results to include only those groups where the total value exceeds 10,000.\n",
                "\n",
                "6\\. ORDER BY Clause:\n",
                "\n",
                "   - Sorts the resulting order IDs by their calculated total value in descending order.\n",
                "\n",
                "**<u>Explanation for the Northwinds2022TSQLV7 Database Query</u>**\n",
                "\n",
                "1\\. Database Context: 'USE \\[Northwinds2022TSQLV7\\]' switches context to operate on the Northwinds2022TSQLV7 database.\n",
                "\n",
                "2\\. SELECT Clause:\n",
                "\n",
                "   - 'od.OrderId': Selects the Order ID from the \\[Sales\\].\\[OrderDetail\\] table.\n",
                "\n",
                "   - 'SUM(od.Quantity \\* od.UnitPrice) AS totalvalue': Calculates the total value for each order by multiplying 'od.Quantity' by 'od.UnitPrice', aliasing the result as 'totalvalue'.\n",
                "\n",
                "3\\. FROM Clause:\n",
                "\n",
                "   - Specifies the \\[Sales\\].\\[OrderDetail\\] table as the data source, using 'od' as an alias.\n",
                "\n",
                "4\\. GROUP BY Clause:\n",
                "\n",
                "   - Groups the data by 'od.OrderId'.\n",
                "\n",
                "5\\. HAVING Clause:\n",
                "\n",
                "   - Filters to include only those orders where the total value is more than 10,000.\n",
                "\n",
                "6\\. ORDER BY Clause:\n",
                "\n",
                "   - Orders the results by the 'totalvalue' in descending order.\n",
                "\n",
                "Summary: Both queries are structured to identify and list orders with a total value greater than 10,000 in their respective databases. They perform this by grouping order details by order ID, calculating the total value for each group, and filtering and sorting the results based on this calculated total value. Despite similar structures, each query is tailored to the specific table and column names of its respective database."
            ],
            "metadata": {
                "azdata_cell_guid": "aaa010d0-cf30-4979-a8d2-9f9fa49beaad"
            },
            "attachments": {}
        },
        {
            "cell_type": "code",
            "source": [
                "USE [TSQLV4]\r\n",
                "GO\r\n",
                "\r\n",
                "-- Calculating total value of orders greater than 10000 in TSQLV4 database\r\n",
                "SELECT \r\n",
                "    od.orderid, \r\n",
                "    SUM(od.qty * od.unitprice) AS totalvalue -- Calculating total value\r\n",
                "FROM \r\n",
                "    [Sales].[OrderDetails] as od\r\n",
                "GROUP BY \r\n",
                "    od.orderid\r\n",
                "HAVING \r\n",
                "    SUM(od.qty * od.unitprice) > 10000 \r\n",
                "    -- Filtering orders with total value greater than 10000\r\n",
                "ORDER BY \r\n",
                "    totalvalue DESC; -- Sorting by total value in descending order\r\n",
                "\r\n",
                "\r\n",
                "USE [Northwinds2022TSQLV7]\r\n",
                "GO\r\n",
                "\r\n",
                "-- Calculating total value of orders greater than 10000 in Northwinds2022TSQLV7 database\r\n",
                "SELECT \r\n",
                "    od.OrderId, \r\n",
                "    SUM(od.Quantity * od.UnitPrice) AS totalvalue -- Calculating total value\r\n",
                "FROM \r\n",
                "    [Sales].[OrderDetail] as od\r\n",
                "GROUP BY \r\n",
                "    od.OrderId\r\n",
                "HAVING \r\n",
                "    SUM(od.Quantity * od.UnitPrice) > 10000 -- Filtering orders with total value greater than 10000\r\n",
                "ORDER BY \r\n",
                "    totalvalue DESC; -- Sorting by total value in descending order\r\n",
                ""
            ],
            "metadata": {
                "azdata_cell_guid": "31771449-f864-4a02-813d-4c0f4d974783",
                "language": "sql"
            },
            "outputs": [
                {
                    "output_type": "display_data",
                    "data": {
                        "text/html": "Commands completed successfully."
                    },
                    "metadata": {}
                },
                {
                    "output_type": "display_data",
                    "data": {
                        "text/html": "(14 rows affected)"
                    },
                    "metadata": {}
                },
                {
                    "output_type": "display_data",
                    "data": {
                        "text/html": "(14 rows affected)"
                    },
                    "metadata": {}
                },
                {
                    "output_type": "display_data",
                    "data": {
                        "text/html": "Total execution time: 00:00:00.007"
                    },
                    "metadata": {}
                },
                {
                    "output_type": "execute_result",
                    "execution_count": 7,
                    "data": {
                        "application/vnd.dataresource+json": {
                            "schema": {
                                "fields": [
                                    {
                                        "name": "orderid"
                                    },
                                    {
                                        "name": "totalvalue"
                                    }
                                ]
                            },
                            "data": [
                                {
                                    "orderid": "10865",
                                    "totalvalue": "17250.00"
                                },
                                {
                                    "orderid": "11030",
                                    "totalvalue": "16321.90"
                                },
                                {
                                    "orderid": "10981",
                                    "totalvalue": "15810.00"
                                },
                                {
                                    "orderid": "10372",
                                    "totalvalue": "12281.20"
                                },
                                {
                                    "orderid": "10424",
                                    "totalvalue": "11493.20"
                                },
                                {
                                    "orderid": "10817",
                                    "totalvalue": "11490.70"
                                },
                                {
                                    "orderid": "10889",
                                    "totalvalue": "11380.00"
                                },
                                {
                                    "orderid": "10417",
                                    "totalvalue": "11283.20"
                                },
                                {
                                    "orderid": "10897",
                                    "totalvalue": "10835.24"
                                },
                                {
                                    "orderid": "10353",
                                    "totalvalue": "10741.60"
                                },
                                {
                                    "orderid": "10515",
                                    "totalvalue": "10588.50"
                                },
                                {
                                    "orderid": "10479",
                                    "totalvalue": "10495.60"
                                },
                                {
                                    "orderid": "10540",
                                    "totalvalue": "10191.70"
                                },
                                {
                                    "orderid": "10691",
                                    "totalvalue": "10164.80"
                                }
                            ]
                        },
                        "text/html": "<table><tr><th>orderid</th><th>totalvalue</th></tr><tr><td>10865</td><td>17250.00</td></tr><tr><td>11030</td><td>16321.90</td></tr><tr><td>10981</td><td>15810.00</td></tr><tr><td>10372</td><td>12281.20</td></tr><tr><td>10424</td><td>11493.20</td></tr><tr><td>10817</td><td>11490.70</td></tr><tr><td>10889</td><td>11380.00</td></tr><tr><td>10417</td><td>11283.20</td></tr><tr><td>10897</td><td>10835.24</td></tr><tr><td>10353</td><td>10741.60</td></tr><tr><td>10515</td><td>10588.50</td></tr><tr><td>10479</td><td>10495.60</td></tr><tr><td>10540</td><td>10191.70</td></tr><tr><td>10691</td><td>10164.80</td></tr></table>"
                    },
                    "metadata": {}
                },
                {
                    "output_type": "execute_result",
                    "execution_count": 7,
                    "data": {
                        "application/vnd.dataresource+json": {
                            "schema": {
                                "fields": [
                                    {
                                        "name": "OrderId"
                                    },
                                    {
                                        "name": "totalvalue"
                                    }
                                ]
                            },
                            "data": [
                                {
                                    "OrderId": "10865",
                                    "totalvalue": "17250.00"
                                },
                                {
                                    "OrderId": "11030",
                                    "totalvalue": "16321.90"
                                },
                                {
                                    "OrderId": "10981",
                                    "totalvalue": "15810.00"
                                },
                                {
                                    "OrderId": "10372",
                                    "totalvalue": "12281.20"
                                },
                                {
                                    "OrderId": "10424",
                                    "totalvalue": "11493.20"
                                },
                                {
                                    "OrderId": "10817",
                                    "totalvalue": "11490.70"
                                },
                                {
                                    "OrderId": "10889",
                                    "totalvalue": "11380.00"
                                },
                                {
                                    "OrderId": "10417",
                                    "totalvalue": "11283.20"
                                },
                                {
                                    "OrderId": "10897",
                                    "totalvalue": "10835.24"
                                },
                                {
                                    "OrderId": "10353",
                                    "totalvalue": "10741.60"
                                },
                                {
                                    "OrderId": "10515",
                                    "totalvalue": "10588.50"
                                },
                                {
                                    "OrderId": "10479",
                                    "totalvalue": "10495.60"
                                },
                                {
                                    "OrderId": "10540",
                                    "totalvalue": "10191.70"
                                },
                                {
                                    "OrderId": "10691",
                                    "totalvalue": "10164.80"
                                }
                            ]
                        },
                        "text/html": "<table><tr><th>OrderId</th><th>totalvalue</th></tr><tr><td>10865</td><td>17250.00</td></tr><tr><td>11030</td><td>16321.90</td></tr><tr><td>10981</td><td>15810.00</td></tr><tr><td>10372</td><td>12281.20</td></tr><tr><td>10424</td><td>11493.20</td></tr><tr><td>10817</td><td>11490.70</td></tr><tr><td>10889</td><td>11380.00</td></tr><tr><td>10417</td><td>11283.20</td></tr><tr><td>10897</td><td>10835.24</td></tr><tr><td>10353</td><td>10741.60</td></tr><tr><td>10515</td><td>10588.50</td></tr><tr><td>10479</td><td>10495.60</td></tr><tr><td>10540</td><td>10191.70</td></tr><tr><td>10691</td><td>10164.80</td></tr></table>"
                    },
                    "metadata": {}
                }
            ],
            "execution_count": 7
        },
        {
            "cell_type": "markdown",
            "source": [
                "**Question 5:**"
            ],
            "metadata": {
                "azdata_cell_guid": "e15f3ddc-9f73-4c45-8f6c-61db1e24d8b4"
            },
            "attachments": {}
        },
        {
            "cell_type": "code",
            "source": [
                "-- Question 5: \r\n",
                "-- Write a query against the HR.Employees table that returns employees\r\n",
                "-- with a last name that starts with a lower case letter.\r\n",
                "-- Remember that the collation of the sample database\r\n",
                "-- is case insensitive (Latin1_General_CI_AS).\r\n",
                "-- For simplicity, you can assume that only English letters are used\r\n",
                "-- in the employee last names.\r\n",
                "-- Tables involved: Sales.OrderDetails table\r\n",
                "\r\n",
                "-- Desired output:\r\n",
                "empid       lastname\r\n",
                "----------- --------------------\r\n",
                "\r\n",
                "(0 row(s) affected)"
            ],
            "metadata": {
                "azdata_cell_guid": "98c24f27-e16d-4969-a1bc-35e33b272183",
                "language": "sql"
            },
            "outputs": [],
            "execution_count": null
        },
        {
            "cell_type": "markdown",
            "source": [
                "**<u>Explanation for the TSQLV4 Database Query</u>**\n",
                "\n",
                "1\\. Database Context: 'USE TSQLV4' sets the context to the TSQLV4 database.\n",
                "\n",
                "2\\. SELECT Clause:\n",
                "\n",
                "   - 'empid': Selects the employee ID from the HR.Employees table.\n",
                "\n",
                "   - 'lastname': Selects the last name of the employee from the HR.Employees table.\n",
                "\n",
                "3\\. FROM Clause:\n",
                "\n",
                "   - Specifies the HR.Employees table as the data source.\n",
                "\n",
                "4\\. WHERE Clause:\n",
                "\n",
                "   - 'lastname COLLATE Latin1\\_General\\_BIN LIKE N'\\[a-z\\]%'' : Filters the data to include only those employees whose last name starts with a lowercase letter. \n",
                "\n",
                "     The COLLATE Latin1\\_General\\_BIN clause is used to enforce binary collation for case sensitivity, which is necessary due to the case-insensitive nature of the database's collation setting (Latin1\\_General\\_CI\\_AS).\n",
                "\n",
                "**<u>Explanation for the Northwinds2022TSQLV7 Database Query</u>**\n",
                "\n",
                "1\\. Database Context: 'USE Northwinds2022TSQLV7' switches context to operate on the Northwinds2022TSQLV7 database.\n",
                "\n",
                "2\\. SELECT Clause:\n",
                "\n",
                "   - 'EmployeeId': Selects the employee ID from the HumanResources.Employee table.\n",
                "\n",
                "   - 'EmployeeLastName': Selects the last name of the employee from the HumanResources.Employee table.\n",
                "\n",
                "3\\. FROM Clause:\n",
                "\n",
                "   - Specifies the HumanResources.Employee table as the data source.\n",
                "\n",
                "4\\. WHERE Clause:\n",
                "\n",
                "   - 'EmployeeLastName COLLATE Latin1\\_General\\_BIN LIKE N'\\[a-z\\]%'' : Filters the data to include only those employees whose last name starts with a lowercase letter. \n",
                "\n",
                "     The COLLATE Latin1\\_General\\_BIN clause is used here as well to enforce binary collation for case sensitivity in a case-insensitive collation environment.\n",
                "\n",
                "  \n",
                "\n",
                "Summary: Both queries are designed to retrieve employee records where the last name begins with a lowercase letter from their respective databases. This is achieved by enforcing case sensitivity through the use of binary collation (Latin1\\_General\\_BIN) in the WHERE clause. Each query is tailored to the specific table and column names of its respective database."
            ],
            "metadata": {
                "azdata_cell_guid": "6786783a-f94c-4639-9411-1472e9d95d91"
            },
            "attachments": {}
        },
        {
            "cell_type": "code",
            "source": [
                "-- Query for the TSQLV4 database\r\n",
                "USE TSQLV4\r\n",
                "GO\r\n",
                "\r\n",
                "-- Retrieving employees from HR.Employees where the last name starts with a lowercase letter.\r\n",
                "-- The database uses case-insensitive collation\r\n",
                "SELECT \r\n",
                "    empid, \r\n",
                "    lastname \r\n",
                "FROM \r\n",
                "    HR.Employees \r\n",
                "WHERE \r\n",
                "    lastname COLLATE Latin1_General_BIN LIKE N'[a-z]%';\r\n",
                "\r\n",
                "\r\n",
                "-- Query for the Northwinds2022TSQLV7 database\r\n",
                "USE Northwinds2022TSQLV7\r\n",
                "GO\r\n",
                "\r\n",
                "-- Retrieving employees from HumanResources.Employee where the EmployeeLastName starts with a lowercase letter.\r\n",
                "-- The database uses case-insensitive collation\r\n",
                "SELECT \r\n",
                "    EmployeeId, \r\n",
                "    EmployeeLastName \r\n",
                "FROM \r\n",
                "    HumanResources.Employee \r\n",
                "WHERE \r\n",
                "    EmployeeLastName COLLATE Latin1_General_BIN LIKE N'[a-z]%';\r\n",
                ""
            ],
            "metadata": {
                "azdata_cell_guid": "d690fdbe-4158-4b5f-8a0e-07f88c77b320",
                "language": "sql"
            },
            "outputs": [
                {
                    "output_type": "display_data",
                    "data": {
                        "text/html": "Commands completed successfully."
                    },
                    "metadata": {}
                },
                {
                    "output_type": "display_data",
                    "data": {
                        "text/html": "(0 rows affected)"
                    },
                    "metadata": {}
                },
                {
                    "output_type": "display_data",
                    "data": {
                        "text/html": "(0 rows affected)"
                    },
                    "metadata": {}
                },
                {
                    "output_type": "display_data",
                    "data": {
                        "text/html": "Total execution time: 00:00:00.009"
                    },
                    "metadata": {}
                },
                {
                    "output_type": "execute_result",
                    "execution_count": 6,
                    "data": {
                        "application/vnd.dataresource+json": {
                            "schema": {
                                "fields": [
                                    {
                                        "name": "empid"
                                    },
                                    {
                                        "name": "lastname"
                                    }
                                ]
                            },
                            "data": []
                        },
                        "text/html": "<table><tr><th>empid</th><th>lastname</th></tr></table>"
                    },
                    "metadata": {}
                },
                {
                    "output_type": "execute_result",
                    "execution_count": 6,
                    "data": {
                        "application/vnd.dataresource+json": {
                            "schema": {
                                "fields": [
                                    {
                                        "name": "EmployeeId"
                                    },
                                    {
                                        "name": "EmployeeLastName"
                                    }
                                ]
                            },
                            "data": []
                        },
                        "text/html": "<table><tr><th>EmployeeId</th><th>EmployeeLastName</th></tr></table>"
                    },
                    "metadata": {}
                }
            ],
            "execution_count": 6
        },
        {
            "cell_type": "markdown",
            "source": [
                "**Part 2 of Hw - Prithibi Paul**  \n",
                "**Chapter 02 - Single-Table Queries**"
            ],
            "metadata": {
                "azdata_cell_guid": "37d1966f-98d6-4f18-9ed3-b7106f2b678e"
            },
            "attachments": {}
        },
        {
            "cell_type": "markdown",
            "source": [
                "```\n",
                "---------------------------------------------------------------------\n",
                "-- Working with Date and Time Data\n",
                "---------------------------------------------------------------------\n",
                "```"
            ],
            "metadata": {
                "azdata_cell_guid": "691846b8-7dae-4544-b8b7-0c05f20e5a42"
            },
            "attachments": {}
        },
        {
            "cell_type": "markdown",
            "source": [
                "<span style=\"color: var(--vscode-foreground);\">Question:</span>  \n",
                "\n",
                "  \n",
                "\n",
                "Create a query for the \\`Sales.Order\\` table to display \\`Order ID\\`, \\`Customer ID\\`, \\`Employee ID\\`, and \\`Order Date\\`. \n",
                "\n",
                "The query should only show orders where the \\`Order Date\\` is '20160212'. \n",
                "\n",
                "You can use \\`CAST\\` to convert the string '20160212' into a date type, \n",
                "\n",
                "or you can directly use the string '20160212' as SQL will automatically interpret it as a date.  \n",
                "  \n",
                "\n",
                "Table involved: \\`Sales.Order\\`"
            ],
            "metadata": {
                "azdata_cell_guid": "854cda67-79f2-4d41-aea5-df4d3d518a67"
            },
            "attachments": {}
        },
        {
            "cell_type": "code",
            "source": [
                "-- Literals\r\n",
                "SELECT orderid, custid, empid, orderdate\r\n",
                "FROM Sales.Orders\r\n",
                "WHERE orderdate = '20160212';\r\n",
                "\r\n",
                "SELECT orderid, custid, empid, orderdate\r\n",
                "FROM Sales.Orders\r\n",
                "WHERE orderdate = CAST('20160212' AS DATE);"
            ],
            "metadata": {
                "azdata_cell_guid": "2255e78a-1f0a-49dd-901a-0e467097bae1",
                "language": "sql"
            },
            "outputs": [],
            "execution_count": null
        },
        {
            "cell_type": "markdown",
            "source": [
                "Question:\n",
                "\n",
                "  \n",
                "\n",
                "Write two SQL queries to demonstrate how the interpretation of a date string can vary based on the language setting. The first query should set the language to British and convert the string '02/12/2016' into a DATE type. The second query should set the language to US English and perform the same conversion. Compare the results to illustrate the difference in date format interpretation between British and US English settings.\n",
                "\n",
                "  \n",
                "\n",
                "Note: In British language setting, the date format is assumed to be 'dd/mm/yyyy', while in US English, it is 'mm/dd/yyyy'."
            ],
            "metadata": {
                "azdata_cell_guid": "b21ad869-10d6-485d-99a1-d9f763fb881b"
            },
            "attachments": {}
        },
        {
            "cell_type": "code",
            "source": [
                "-- Language dependent\r\n",
                "SET LANGUAGE British;\r\n",
                "SELECT CAST('02/12/2016' AS DATE);\r\n",
                "\r\n",
                "SET LANGUAGE us_english;\r\n",
                "SELECT CAST('02/12/2016' AS DATE);"
            ],
            "metadata": {
                "azdata_cell_guid": "66e6eb9f-e6dd-4648-a9d1-00a596e88863",
                "language": "sql"
            },
            "outputs": [],
            "execution_count": null
        },
        {
            "cell_type": "markdown",
            "source": [
                "Question:\n",
                "\n",
                "  \n",
                "\n",
                "Demonstrate the concept of language-neutral date conversions in SQL. Write a series of SQL queries to illustrate how different date strings are interpreted and converted into a DATE type under various settings and functions. Your tasks should include:\n",
                "\n",
                "  \n",
                "\n",
                "1\\. Setting the language to British and converting the string '20160212' into a DATE type.\n",
                "\n",
                "2\\. Setting the language to US English and performing the same conversion for '20160212'.\n",
                "\n",
                "3\\. Using CONVERT to change '02/12/2016' into a DATE type with style 101 (U.S. format mm/dd/yyyy).\n",
                "\n",
                "4\\. Using CONVERT to change '02/12/2016' into a DATE type with style 103 (British/French format dd/mm/yyyy).\n",
                "\n",
                "5\\. Using PARSE to interpret '02/12/2016' as a DATE in US English ('en-US').\n",
                "\n",
                "6\\. Using PARSE to interpret '02/12/2016' as a DATE in British English ('en-GB').\n",
                "\n",
                "  \n",
                "\n",
                "This exercise aims to show how SQL handles dates in a language-neutral manner and how the interpretation of date strings can vary based on the function and style used, independent of the SET LANGUAGE setting."
            ],
            "metadata": {
                "azdata_cell_guid": "b2d39ce3-6725-4173-bba4-993128e5f834"
            },
            "attachments": {}
        },
        {
            "cell_type": "code",
            "source": [
                "-- Language neutral\r\n",
                "SET LANGUAGE British;\r\n",
                "SELECT CAST('20160212' AS DATE);\r\n",
                "\r\n",
                "SET LANGUAGE us_english;\r\n",
                "SELECT CAST('20160212' AS DATE);\r\n",
                "\r\n",
                "SELECT CONVERT(DATE, '02/12/2016', 101);\r\n",
                "\r\n",
                "SELECT CONVERT(DATE, '02/12/2016', 103);\r\n",
                "\r\n",
                "SELECT PARSE('02/12/2016' AS DATE USING 'en-US');\r\n",
                "\r\n",
                "SELECT PARSE('02/12/2016' AS DATE USING 'en-GB');"
            ],
            "metadata": {
                "azdata_cell_guid": "c319c419-c878-4f29-9ad5-f320454c1699",
                "language": "sql",
                "tags": []
            },
            "outputs": [],
            "execution_count": null
        },
        {
            "cell_type": "markdown",
            "source": [
                "Question:\n",
                "\n",
                "As part of a database management task, you are required to work with date and time data in your SQL database. Your specific task involves the \\`Sales.Orders\\` table. You need to create a new table named \\`Sales.Orders2\\` which will include data from \\`Sales.Orders\\`, but with a modification in the format of the date data. Follow these steps:\n",
                "\n",
                "1\\. First, check if a table named \\`Sales.Orders2\\` already exists in the database. If such a table exists, drop it to avoid any conflicts or duplications.\n",
                "\n",
                "2\\. Create the \\`Sales.Orders2\\` table by selecting all records from the \\`Sales.Orders\\` table. The key difference in the new table should be the format of the \\`orderdate\\` field. In \\`Sales.Orders2\\`, ensure that the \\`orderdate\\` is stored as a DATETIME type, rather than its current format in the \\`Sales.Orders\\` table. Remember to include the fields \\`orderid\\`, \\`custid\\`, and \\`empid\\` in the new table, alongside the converted \\`orderdate\\`.\n",
                "\n",
                "3\\. Once you have created the table, verify its structure and the successful data type conversion by querying and displaying a few sample rows from \\`Sales.Orders2\\`.\n",
                "\n",
                "  \n",
                "\n",
                "Your aim is to demonstrate your ability to manage and restructure data within SQL, particularly focusing on the correct handling and conversion of date and time data."
            ],
            "metadata": {
                "azdata_cell_guid": "b12b41ce-d50c-4af1-a4df-2bfcd0b72781"
            },
            "attachments": {}
        },
        {
            "cell_type": "code",
            "source": [
                "-- Working with Date and Time Separately\r\n",
                "\r\n",
                "-- Create Sales.Orders2 with orderdate as DATETIME by copying data from Sales.Orders\r\n",
                "DROP TABLE IF EXISTS Sales.Orders2;\r\n",
                "\r\n",
                "SELECT orderid, custid, empid, CAST(orderdate AS DATETIME) AS orderdate\r\n",
                "INTO Sales.Orders2\r\n",
                "FROM Sales.Orders;"
            ],
            "metadata": {
                "azdata_cell_guid": "9a940090-2cb1-4933-987c-4447decef51f",
                "language": "sql",
                "tags": []
            },
            "outputs": [],
            "execution_count": null
        },
        {
            "cell_type": "markdown",
            "source": [
                "Question:\n",
                "\n",
                "Your task involves querying and modifying the \\`Sales.Orders2\\` table in your SQL database, with a focus on handling and constraining date and time data. Proceed with the following steps:\n",
                "\n",
                "1\\. Query the \\`Sales.Orders2\\` table to retrieve the \\`orderid\\`, \\`custid\\`, \\`empid\\`, and \\`orderdate\\` for all orders specifically made on the date '20160212'. This step requires accurate date filtering to ensure only records from that specific day are selected.\n",
                "\n",
                "2\\. Alter the \\`Sales.Orders2\\` table by adding a new constraint named \\`CHK\\_Orders2\\_orderdate\\`. This constraint should ensure that the time component of the \\`orderdate\\` in each record is exactly '00:00:00.000'. You will need to use the CONVERT function to achieve this, formatting the time part of the \\`orderdate\\` as CHAR(12) for comparison.\n",
                "\n",
                "3\\. After modifying the table, write another query to retrieve records from \\`Sales.Orders2\\` where the \\`orderdate\\` falls within the 24-hour period starting from '20160212' and ending before '20160213'. This requires precise date range filtering.\n",
                "\n",
                "4\\. As an additional task, demonstrate how to convert a time string '12:30:15.123' into a DATETIME format in SQL. This will help you understand how SQL interprets and converts standalone time strings to DATETIME values.\n",
                "\n",
                "The goal of these tasks is to enhance your skills in querying date and time data in SQL, applying constraints for data validation, and understanding the conversion of time strings."
            ],
            "metadata": {
                "azdata_cell_guid": "c7230a53-b2ca-4b2b-9e17-992a769a4b42"
            },
            "attachments": {}
        },
        {
            "cell_type": "code",
            "source": [
                "-- Query Sales.Orders2\r\n",
                "SELECT orderid, custid, empid, orderdate\r\n",
                "FROM Sales.Orders2\r\n",
                "WHERE orderdate = '20160212';\r\n",
                "\r\n",
                "ALTER TABLE Sales.Orders2\r\n",
                "  ADD CONSTRAINT CHK_Orders2_orderdate\r\n",
                "  CHECK( CONVERT(CHAR(12), orderdate, 114) = '00:00:00:000' );\r\n",
                "\r\n",
                "SELECT orderid, custid, empid, orderdate\r\n",
                "FROM Sales.Orders2\r\n",
                "WHERE orderdate >= '20160212'\r\n",
                "  AND orderdate < '20160213';\r\n",
                "\r\n",
                "SELECT CAST('12:30:15.123' AS DATETIME);"
            ],
            "metadata": {
                "azdata_cell_guid": "6eefdfee-605b-4f9c-9529-0709f5db7686",
                "language": "sql"
            },
            "outputs": [],
            "execution_count": null
        },
        {
            "cell_type": "markdown",
            "source": [
                "Question:\n",
                "\n",
                "  \n",
                "\n",
                "You are tasked with extracting specific sets of data from the \\`Sales.Orders\\` table in your SQL database, focusing on orders from particular time periods. Perform the following tasks:\n",
                "\n",
                "  \n",
                "\n",
                "1\\. Before starting your data queries, ensure that your database is organized. If a table named \\`Sales.Orders2\\` exists, remove it to avoid any confusion or data redundancy.\n",
                "\n",
                "  \n",
                "\n",
                "2\\. Query the \\`Sales.Orders\\` table to retrieve the \\`orderid\\`, \\`custid\\`, \\`empid\\`, and \\`orderdate\\` for all orders placed in the year 2015. You will need to use the YEAR function to correctly filter the orders by the year part of the \\`orderdate\\`.\n",
                "\n",
                "  \n",
                "\n",
                "3\\. Next, adjust your query to select the same fields (\\`orderid\\`, \\`custid\\`, \\`empid\\`, and \\`orderdate\\`) from the \\`Sales.Orders\\` table, but this time for orders placed between January 1, 2015, and December 31, 2015, inclusive. You should consider the precise range of dates for this period.\n",
                "\n",
                "  \n",
                "\n",
                "4\\. Modify your query to now focus on orders placed in February 2016. Extract the same fields as before, using the YEAR and MONTH functions to filter the data accordingly.\n",
                "\n",
                "  \n",
                "\n",
                "5\\. Lastly, write a query to select orders from the \\`Sales.Orders\\` table where the \\`orderdate\\` falls within the entire month of February 2016, from February 1, 2016, to February 29, 2016.\n",
                "\n",
                "  \n",
                "\n",
                "Your goal is to demonstrate proficiency in querying date-specific data in a SQL database, particularly focusing on extracting information based on different year and month criteria."
            ],
            "metadata": {
                "azdata_cell_guid": "cf635f2a-234c-4c90-a8b4-22d6248d16a4"
            },
            "attachments": {}
        },
        {
            "cell_type": "code",
            "source": [
                "-- Cleanup\r\n",
                "DROP TABLE IF EXISTS Sales.Orders2;\r\n",
                "\r\n",
                "SELECT orderid, custid, empid, orderdate\r\n",
                "FROM Sales.Orders\r\n",
                "WHERE YEAR(orderdate) = 2015;\r\n",
                "\r\n",
                "SELECT orderid, custid, empid, orderdate\r\n",
                "FROM Sales.Orders\r\n",
                "WHERE orderdate >= '20150101' AND orderdate < '20160101';\r\n",
                "\r\n",
                "SELECT orderid, custid, empid, orderdate\r\n",
                "FROM Sales.Orders\r\n",
                "WHERE YEAR(orderdate) = 2016 AND MONTH(orderdate) = 2;\r\n",
                "\r\n",
                "SELECT orderid, custid, empid, orderdate\r\n",
                "FROM Sales.Orders\r\n",
                "WHERE orderdate >= '20160201' AND orderdate < '20160301';"
            ],
            "metadata": {
                "azdata_cell_guid": "82890f83-f633-4ff8-9cea-4f514801eeca",
                "language": "sql"
            },
            "outputs": [],
            "execution_count": null
        },
        {
            "cell_type": "markdown",
            "source": [
                "Question:\n",
                "\n",
                "  \n",
                "\n",
                "Demonstrate your understanding of various SQL functions used to retrieve the current date and time. Perform the following tasks:\n",
                "\n",
                "  \n",
                "\n",
                "1\\. Write a SQL query to display the current date and time using different SQL functions. Your query should include the use of \\`GETDATE()\\`, \\`CURRENT\\_TIMESTAMP\\`, \\`GETUTCDATE()\\`, \\`SYSDATETIME()\\`, \\`SYSUTCDATETIME()\\`, and \\`SYSDATETIMEOFFSET()\\`. Each function should be labeled appropriately in the output.\n",
                "\n",
                "  \n",
                "\n",
                "2\\. Next, write another query that extracts just the current date and the current time from the \\`SYSDATETIME()\\` function. Use the \\`CAST\\` function to convert \\`SYSDATETIME()\\` to a DATE type and display it as \\`\\[current\\_date\\]\\`, and similarly convert it to a TIME type and display it as \\`\\[current\\_time\\]\\`.\n",
                "\n",
                "  \n",
                "\n",
                "The aim of these tasks is to illustrate your ability to use various SQL functions to retrieve and manipulate the current date and time, showcasing the versatility of SQL in handling datetime values."
            ],
            "metadata": {
                "azdata_cell_guid": "266028c0-5e38-4554-9f58-f09b55f5f66a"
            },
            "attachments": {}
        },
        {
            "cell_type": "code",
            "source": [
                "-- Functions\r\n",
                "\r\n",
                "-- Current Date and Time\r\n",
                "SELECT\r\n",
                "  GETDATE()           AS [GETDATE],\r\n",
                "  CURRENT_TIMESTAMP   AS [CURRENT_TIMESTAMP],\r\n",
                "  GETUTCDATE()        AS [GETUTCDATE],\r\n",
                "  SYSDATETIME()       AS [SYSDATETIME],\r\n",
                "  SYSUTCDATETIME()    AS [SYSUTCDATETIME],\r\n",
                "  SYSDATETIMEOFFSET() AS [SYSDATETIMEOFFSET];\r\n",
                "\r\n",
                "SELECT\r\n",
                "  CAST(SYSDATETIME() AS DATE) AS [current_date],\r\n",
                "  CAST(SYSDATETIME() AS TIME) AS [current_time];"
            ],
            "metadata": {
                "azdata_cell_guid": "8fd6cb79-5ce7-4e5c-aa58-37149d48feda",
                "language": "sql",
                "tags": []
            },
            "outputs": [],
            "execution_count": null
        },
        {
            "cell_type": "markdown",
            "source": [
                "Question:\n",
                "\n",
                "  \n",
                "\n",
                "Explore the functionality and differences between the CAST, CONVERT, and PARSE functions in SQL, and understand how they are used in date and time manipulation. Perform the following tasks:\n",
                "\n",
                "  \n",
                "\n",
                "1\\. Use the CAST function to convert the string '20160212' into a DATE type. Then, convert the current system datetime, obtained from \\`SYSDATETIME()\\`, into both a DATE and a TIME type separately using CAST.\n",
                "\n",
                "  \n",
                "\n",
                "2\\. Utilize the CONVERT function to transform the current timestamp (\\`CURRENT\\_TIMESTAMP\\`) into a string in the format 'yyyymmdd' (style 112). Next, convert this string back into a DATETIME type using the same style code. Also, use CONVERT to change \\`CURRENT\\_TIMESTAMP\\` into a format 'hh:mi:ss:mmm' (style 114), and then convert this string back into a DATETIME type using the style 114.\n",
                "\n",
                "  \n",
                "\n",
                "3\\. Apply the PARSE function to interpret the string '02/12/2016' as a DATETIME type, first using the 'en-US' culture (which assumes the format 'mm/dd/yyyy'), and then using the 'en-GB' culture (assuming the format 'dd/mm/yyyy').\n",
                "\n",
                "  \n",
                "\n",
                "The goal of this exercise is to understand how CAST, CONVERT, and PARSE can be used for converting between different data types and formats in SQL, and the impact of cultural settings on these conversions."
            ],
            "metadata": {
                "azdata_cell_guid": "d4b1ac72-df7c-40a8-8e20-e90edb634b9b"
            },
            "attachments": {}
        },
        {
            "cell_type": "code",
            "source": [
                "-- The CAST, CONVERT and PARSE Functions and their TRY_ Counterparts\r\n",
                "SELECT CAST('20160212' AS DATE);\r\n",
                "SELECT CAST(SYSDATETIME() AS DATE);\r\n",
                "SELECT CAST(SYSDATETIME() AS TIME);\r\n",
                "\r\n",
                "SELECT CONVERT(CHAR(8), CURRENT_TIMESTAMP, 112);\r\n",
                "SELECT CONVERT(DATETIME, CONVERT(CHAR(8), CURRENT_TIMESTAMP, 112), 112);\r\n",
                "\r\n",
                "SELECT CONVERT(CHAR(12), CURRENT_TIMESTAMP, 114);\r\n",
                "SELECT CONVERT(DATETIME, CONVERT(CHAR(12), CURRENT_TIMESTAMP, 114), 114);\r\n",
                "\r\n",
                "SELECT PARSE('02/12/2016' AS DATETIME USING 'en-US');\r\n",
                "SELECT PARSE('02/12/2016' AS DATETIME USING 'en-GB');"
            ],
            "metadata": {
                "azdata_cell_guid": "973eb248-3527-431d-8c28-3b27e445fe09",
                "language": "sql"
            },
            "outputs": [],
            "execution_count": null
        },
        {
            "cell_type": "markdown",
            "source": [
                "Question:\n",
                "\n",
                "  \n",
                "\n",
                "Demonstrate your understanding and usage of the \\`SWITCHOFFSET\\` function in SQL. Perform the following tasks:\n",
                "\n",
                "  \n",
                "\n",
                "1\\. Write a SQL query using \\`SWITCHOFFSET\\` to adjust the time zone offset of the current date and time, obtained from \\`SYSDATETIMEOFFSET()\\`, to '-05:00'. This will simulate changing the current datetime to a time zone that is 5 hours behind UTC.\n",
                "\n",
                "  \n",
                "\n",
                "2\\. In another query, use \\`SWITCHOFFSET\\` to modify the time zone offset of the current datetime, also obtained from \\`SYSDATETIMEOFFSET()\\`, to '+00:00', effectively aligning it with UTC.\n",
                "\n",
                "  \n",
                "\n",
                "The objective of these tasks is to illustrate how the \\`SWITCHOFFSET\\` function can be used to manipulate the time zone offset of datetime values in SQL, allowing for conversions between different time zones."
            ],
            "metadata": {
                "azdata_cell_guid": "5711c480-99a3-407c-8667-0f5922493742"
            },
            "attachments": {}
        },
        {
            "cell_type": "code",
            "source": [
                "-- SWITCHOFFSET\r\n",
                "SELECT SWITCHOFFSET(SYSDATETIMEOFFSET(), '-05:00');\r\n",
                "SELECT SWITCHOFFSET(SYSDATETIMEOFFSET(), '+00:00');"
            ],
            "metadata": {
                "azdata_cell_guid": "2c5efae8-0115-492d-8ddd-58135455dc92",
                "language": "sql"
            },
            "outputs": [],
            "execution_count": null
        },
        {
            "cell_type": "markdown",
            "source": [
                "Question:\n",
                "\n",
                "  \n",
                "\n",
                "Demonstrate your proficiency with SQL's datetime functions, specifically focusing on the \\`TODATETIMEOFFSET\\` function and the \\`AT TIME ZONE\\` clause. Perform the following tasks:\n",
                "\n",
                "  \n",
                "\n",
                "1\\. Imagine you have a table \\`dbo.T1\\` with columns \\`dt\\` (a DATETIME type) and \\`theoffset\\` (which stores time zone offsets). Write a hypothetical SQL UPDATE statement that uses the \\`TODATETIMEOFFSET\\` function to update a column \\`dto\\` in \\`dbo.T1\\`. This column should store the datetime from \\`dt\\` combined with the time zone offset specified in \\`theoffset\\`. (Note: This is a conceptual task; you don't need to execute the statement on an actual table.)\n",
                "\n",
                "  \n",
                "\n",
                "2\\. Utilize the \\`AT TIME ZONE\\` clause in SQL. First, retrieve a list of time zone names, their current UTC offsets, and daylight saving time statuses from the \\`sys.time\\_zone\\_info\\` system view. This query will help you understand the available time zones and their attributes in your SQL environment.\n",
                "\n",
                "  \n",
                "\n",
                "The aim of these exercises is to deepen your understanding of time zone handling in SQL, specifically how to apply time zone offsets to datetime values and how to work with the built-in time zone information in SQL Server."
            ],
            "metadata": {
                "azdata_cell_guid": "83cf1444-63b5-4348-b9ff-5c7aa7488d8b"
            },
            "attachments": {}
        },
        {
            "cell_type": "code",
            "source": [
                "-- TODATETIMEOFFSET\r\n",
                "/*\r\n",
                "UPDATE dbo.T1\r\n",
                "  SET dto = TODATETIMEOFFSET(dt, theoffset);\r\n",
                "*/\r\n",
                "\r\n",
                "-- AT TIME ZONE\r\n",
                "\r\n",
                "SELECT name, current_utc_offset, is_currently_dst\r\n",
                "FROM sys.time_zone_info;"
            ],
            "metadata": {
                "azdata_cell_guid": "300d612b-4956-44db-a4c4-a1e585202920",
                "language": "sql"
            },
            "outputs": [],
            "execution_count": null
        },
        {
            "cell_type": "markdown",
            "source": [
                "Question:\n",
                "\n",
                "  \n",
                "\n",
                "Showcase your skills in converting non-datetimeoffset values to a specific time zone using SQL. Perform the following task:\n",
                "\n",
                "  \n",
                "\n",
                "Write a SQL query to convert two specific datetime strings to the 'Pacific Standard Time' time zone. The first datetime string is '20160212 12:00:00.0000000', and the second is '20160812 12:00:00.0000000'. Use the \\`CAST\\` function to convert these strings to \\`DATETIME2\\` type, and then apply the \\`AT TIME ZONE\\` clause to adjust them to 'Pacific Standard Time'. Label the converted values as \\`val1\\` and \\`val2\\` in your query result.\n",
                "\n",
                "  \n",
                "\n",
                "This task is aimed at demonstrating how to handle timezone conversions for datetime values that are not originally in the datetimeoffset format, using SQL's time zone conversion capabilities."
            ],
            "metadata": {
                "azdata_cell_guid": "4304db96-eb76-4653-9332-b935e607bdbd"
            },
            "attachments": {}
        },
        {
            "cell_type": "code",
            "source": [
                "-- Converting non-datetimeoffset values\r\n",
                "-- behavior similar to TODATETIMEOFFSET\r\n",
                "SELECT\r\n",
                "  CAST('20160212 12:00:00.0000000' AS DATETIME2)\r\n",
                "    AT TIME ZONE 'Pacific Standard Time' AS val1,\r\n",
                "  CAST('20160812 12:00:00.0000000' AS DATETIME2)\r\n",
                "    AT TIME ZONE 'Pacific Standard Time' AS val2;"
            ],
            "metadata": {
                "azdata_cell_guid": "2eb0ff83-782b-42c6-a557-842b3144e9f7",
                "language": "sql"
            },
            "outputs": [],
            "execution_count": null
        },
        {
            "cell_type": "markdown",
            "source": [
                "Question:\n",
                "\n",
                "  \n",
                "\n",
                "Demonstrate your understanding of converting datetimeoffset values to different time zones using SQL. Perform the following task:\n",
                "\n",
                "  \n",
                "\n",
                "Write a SQL query to convert two specific datetimeoffset strings to 'Pacific Standard Time'. The first datetimeoffset string is '20160212 12:00:00.0000000 -05:00', and the second is '20160812 12:00:00.0000000 -04:00'. Use the \\`CAST\\` function to convert these strings into the \\`DATETIMEOFFSET\\` type, and then apply the \\`AT TIME ZONE\\` clause to adjust them to 'Pacific Standard Time'. Label these converted values as \\`val1\\` and \\`val2\\` in your query output.\n",
                "\n",
                "  \n",
                "\n",
                "This task will help illustrate how to work with timezone adjustments for datetimeoffset values, particularly showing how SQL handles timezone conversions for these types of data."
            ],
            "metadata": {
                "azdata_cell_guid": "247c28b7-065c-48e2-a5ce-4d66ac1124a5"
            },
            "attachments": {}
        },
        {
            "cell_type": "code",
            "source": [
                "-- Converting datetimeoffset values\r\n",
                "-- behavior similar to SWITCHOFFSET\r\n",
                "SELECT\r\n",
                "  CAST('20160212 12:00:00.0000000 -05:00' AS DATETIMEOFFSET)\r\n",
                "    AT TIME ZONE 'Pacific Standard Time' AS val1,\r\n",
                "  CAST('20160812 12:00:00.0000000 -04:00' AS DATETIMEOFFSET)\r\n",
                "    AT TIME ZONE 'Pacific Standard Time' AS val2;"
            ],
            "metadata": {
                "azdata_cell_guid": "7c099b7e-4a7e-43ac-a78f-37a96cd0fc48",
                "language": "sql"
            },
            "outputs": [],
            "execution_count": null
        },
        {
            "cell_type": "markdown",
            "source": [
                "Question:\n",
                "\n",
                "  \n",
                "\n",
                "Show your expertise in manipulating dates in SQL using the \\`DATEADD\\` and \\`DATEDIFF\\` functions. Execute the following tasks:\n",
                "\n",
                "  \n",
                "\n",
                "1\\. Use \\`DATEADD\\` to add one year to the date '20160212'. This will demonstrate how to move a date forward by a specific time interval.\n",
                "\n",
                "  \n",
                "\n",
                "2\\. Utilize \\`DATEDIFF\\` to calculate the number of days between '20150212' and '20160212'. This shows how to find the difference between two dates.\n",
                "\n",
                "  \n",
                "\n",
                "3\\. Apply \\`DATEDIFF\\_BIG\\` to find the difference in milliseconds between '00010101' (the very start of the Common Era) and '20160212'. This function is used for large date range differences that exceed the limits of regular \\`DATEDIFF\\`.\n",
                "\n",
                "  \n",
                "\n",
                "4\\. Construct a date that is the same number of days from '19000101' as the difference between '19000101' and the current system date (\\`SYSDATETIME()\\`). Use a combination of \\`DATEDIFF\\` and \\`DATEADD\\` for this.\n",
                "\n",
                "  \n",
                "\n",
                "5\\. Similarly, construct a date that is the same number of months from '19000101' as the difference between '19000101' and the current system date.\n",
                "\n",
                "  \n",
                "\n",
                "6\\. Finally, create a date that is the same number of years from '18991231' as the difference between '18991231' and the current system date.\n",
                "\n",
                "  \n",
                "\n",
                "These tasks will help you understand how to effectively use \\`DATEADD\\` and \\`DATEDIFF\\` to calculate and manipulate dates in SQL, whether it's adding to a date, calculating differences, or creating new dates based on these calculations."
            ],
            "metadata": {
                "azdata_cell_guid": "329e65fd-e6c7-4731-ad2e-43fa482e3c69"
            },
            "attachments": {}
        },
        {
            "cell_type": "code",
            "source": [
                "-- DATEADD\r\n",
                "SELECT DATEADD(year, 1, '20160212');\r\n",
                "\r\n",
                "-- DATEDIFF\r\n",
                "SELECT DATEDIFF(day, '20150212', '20160212');\r\n",
                "\r\n",
                "SELECT DATEDIFF_BIG(millisecond, '00010101', '20160212');\r\n",
                "\r\n",
                "SELECT\r\n",
                "  DATEADD(\r\n",
                "    day, \r\n",
                "    DATEDIFF(day, '19000101', SYSDATETIME()), '19000101');\r\n",
                "\r\n",
                "SELECT\r\n",
                "  DATEADD(\r\n",
                "    month, \r\n",
                "    DATEDIFF(month, '19000101', SYSDATETIME()), '19000101');\r\n",
                "\r\n",
                "SELECT\r\n",
                "  DATEADD(\r\n",
                "    year, \r\n",
                "    DATEDIFF(year, '18991231', SYSDATETIME()), '18991231');"
            ],
            "metadata": {
                "azdata_cell_guid": "2f3725ce-4a4f-4f93-8d72-d538a6461261",
                "language": "sql"
            },
            "outputs": [],
            "execution_count": null
        },
        {
            "cell_type": "markdown",
            "source": [
                "Question:\n",
                "\n",
                "  \n",
                "\n",
                "Demonstrate your proficiency in using a range of SQL date functions by performing the following tasks:\n",
                "\n",
                "  \n",
                "\n",
                "1\\. Use the \\`DATEPART\\` function to extract the month part from the date '20160212'. This function helps you retrieve specific components of a date.\n",
                "\n",
                "  \n",
                "\n",
                "2\\. Write a query to separately extract the day, month, and year from the date '20160212' using the \\`DAY\\`, \\`MONTH\\`, and \\`YEAR\\` functions. Label the outputs as \\`theday\\`, \\`themonth\\`, and \\`theyear\\` respectively.\n",
                "\n",
                "  \n",
                "\n",
                "3\\. Utilize \\`DATENAME\\` to retrieve the name of the month and the year from the date '20160212'. This function returns the specific part of the date as a string.\n",
                "\n",
                "  \n",
                "\n",
                "4\\. Test the validity of two date strings '20160212' and '20160230' using the \\`ISDATE\\` function. This will help you understand which strings are recognized as valid dates in SQL.\n",
                "\n",
                "  \n",
                "\n",
                "5\\. Create dates using the \\`fromparts\\` family of functions. Generate the following:\n",
                "\n",
                "   - A date using \\`DATEFROMPARTS\\` with the year 2016, month 02, and day 12.\n",
                "\n",
                "   - A \\`DATETIME2\\` value using \\`DATETIME2FROMPARTS\\` with specified year, month, day, hour, minute, second, and fractional second values.\n",
                "\n",
                "   - Similarly, create \\`DATETIME\\`, \\`DATETIMEOFFSET\\`, \\`SMALLDATETIME\\`, and \\`TIME\\` values using \\`DATETIMEFROMPARTS\\`, \\`DATETIMEOFFSETFROMPARTS\\`, \\`SMALLDATETIMEFROMPARTS\\`, and \\`TIMEFROMPARTS\\` respectively.\n",
                "\n",
                "  \n",
                "\n",
                "6\\. Use the \\`EOMONTH\\` function to find the last day of the current month based on the system's current date and time.\n",
                "\n",
                "  \n",
                "\n",
                "7\\. Finally, write a query to find all orders in the \\`Sales.Orders\\` table that were placed on the last day of their respective months. Use the \\`EOMONTH\\` function to compare the \\`orderdate\\` to the end of the month.\n",
                "\n",
                "  \n",
                "\n",
                "These tasks are designed to test your ability to manipulate and query dates in SQL, utilizing a variety of functions to extract, validate, and create date and time values."
            ],
            "metadata": {
                "azdata_cell_guid": "28c4ea0b-f998-419b-8bce-e0be2960a324"
            },
            "attachments": {}
        },
        {
            "cell_type": "code",
            "source": [
                "-- DATEPART\r\n",
                "\r\n",
                "SELECT DATEPART(month, '20160212');\r\n",
                "\r\n",
                "-- DAY, MONTH, YEAR\r\n",
                "\r\n",
                "SELECT\r\n",
                "  DAY('20160212') AS theday,\r\n",
                "  MONTH('20160212') AS themonth,\r\n",
                "  YEAR('20160212') AS theyear;\r\n",
                "\r\n",
                "-- DATENAME\r\n",
                "SELECT DATENAME(month, '20160212');\r\n",
                "\r\n",
                "SELECT DATENAME(year, '20160212');\r\n",
                "\r\n",
                "-- ISDATE\r\n",
                "SELECT ISDATE('20160212');\r\n",
                "SELECT ISDATE('20160230');\r\n",
                "\r\n",
                "-- fromparts\r\n",
                "SELECT\r\n",
                "  DATEFROMPARTS(2016, 02, 12),\r\n",
                "  DATETIME2FROMPARTS(2016, 02, 12, 13, 30, 5, 1, 7),\r\n",
                "  DATETIMEFROMPARTS(2016, 02, 12, 13, 30, 5, 997),\r\n",
                "  DATETIMEOFFSETFROMPARTS(2016, 02, 12, 13, 30, 5, 1, -8, 0, 7),\r\n",
                "  SMALLDATETIMEFROMPARTS(2016, 02, 12, 13, 30),\r\n",
                "  TIMEFROMPARTS(13, 30, 5, 1, 7);\r\n",
                "\r\n",
                "-- EOMONTH\r\n",
                "SELECT EOMONTH(SYSDATETIME());\r\n",
                "\r\n",
                "-- orders placed on last day of month\r\n",
                "SELECT orderid, orderdate, custid, empid\r\n",
                "FROM Sales.Orders\r\n",
                "WHERE orderdate = EOMONTH(orderdate);"
            ],
            "metadata": {
                "azdata_cell_guid": "7b9ed2b6-3428-42db-aad6-fbb0aa65e7a7",
                "language": "sql",
                "tags": []
            },
            "outputs": [],
            "execution_count": null
        },
        {
            "cell_type": "markdown",
            "source": [
                "```\n",
                "---------------------------------------------------------------------\n",
                "-- Querying Metadata\n",
                "---------------------------------------------------------------------\n",
                "```"
            ],
            "metadata": {
                "azdata_cell_guid": "222000e5-950a-4d50-81d3-2afeed0ae02a"
            },
            "attachments": {}
        },
        {
            "cell_type": "markdown",
            "source": [
                "Question:\n",
                "\n",
                "  \n",
                "\n",
                "Demonstrate your understanding of SQL Server's metadata by querying the catalog views. Perform the following tasks:\n",
                "\n",
                "  \n",
                "\n",
                "1\\. First, switch to the \\`TSQLV4\\` database context using the \\`USE\\` statement.\n",
                "\n",
                "  \n",
                "\n",
                "2\\. Write a query against the \\`sys.tables\\` view to retrieve the schema names and table names of all tables in the current database. In your output, label the schema names as \\`table\\_schema\\_name\\` and the table names as \\`table\\_name\\`.\n",
                "\n",
                "  \n",
                "\n",
                "3\\. Next, target the \\`sys.columns\\` view to gather detailed information about the columns in the \\`Sales.Orders\\` table. Your query should return the column names, data types, maximum lengths, collation names, and nullable status of each column. Use the \\`OBJECT\\_ID\\` function to specify the \\`Sales.Orders\\` table. Label the output appropriately for each column's information, such as \\`column\\_name\\`, \\`column\\_type\\`, etc.\n",
                "\n",
                "  \n",
                "\n",
                "The aim of these tasks is to practice accessing and understanding the database's schema and structure information via system catalog views, a crucial skill for database administration and advanced SQL querying."
            ],
            "metadata": {
                "azdata_cell_guid": "9cbb41e9-b22e-42be-b8ae-4e09e054c7ad"
            },
            "attachments": {}
        },
        {
            "cell_type": "code",
            "source": [
                "-- Catalog Views\r\n",
                "USE TSQLV4;\r\n",
                "\r\n",
                "SELECT SCHEMA_NAME(schema_id) AS table_schema_name, name AS table_name\r\n",
                "FROM sys.tables;\r\n",
                "\r\n",
                "SELECT \r\n",
                "  name AS column_name,\r\n",
                "  TYPE_NAME(system_type_id) AS column_type,\r\n",
                "  max_length,\r\n",
                "  collation_name,\r\n",
                "  is_nullable\r\n",
                "FROM sys.columns\r\n",
                "WHERE object_id = OBJECT_ID(N'Sales.Orders');"
            ],
            "metadata": {
                "azdata_cell_guid": "040aa999-235b-4a55-b7bb-27d8ef87f871",
                "language": "sql"
            },
            "outputs": [],
            "execution_count": null
        },
        {
            "cell_type": "markdown",
            "source": [
                "Question:\n",
                "\n",
                "  \n",
                "\n",
                "Showcase your skills in retrieving database schema information using Information Schema views in SQL. Execute the following tasks:\n",
                "\n",
                "  \n",
                "\n",
                "1\\. Write a query that selects the schema and names of all base tables in the database. Use the \\`INFORMATION\\_SCHEMA.TABLES\\` view for this purpose. In your query, ensure that you filter the results to include only those entries where the table type is 'BASE TABLE'. The output should include the columns \\`TABLE\\_SCHEMA\\` and \\`TABLE\\_NAME\\`.\n",
                "\n",
                "  \n",
                "\n",
                "2\\. Then, focus specifically on the 'Sales.Orders' table. Query the \\`INFORMATION\\_SCHEMA.COLUMNS\\` view to retrieve detailed information about its columns. Your query should list the column name, data type, maximum character length, collation name, and whether the column is nullable. Make sure to filter the results for the schema 'Sales' and the table name 'Orders'. \n",
                "\n",
                "  \n",
                "\n",
                "These tasks will help you understand how to use the Information Schema views to access metadata about the tables and columns in a SQL database, which is essential for database schema exploration and management."
            ],
            "metadata": {
                "azdata_cell_guid": "185412d9-79bd-4b37-a324-19980ed44ecb"
            },
            "attachments": {}
        },
        {
            "cell_type": "code",
            "source": [
                "-- Information Schema Views\r\n",
                "SELECT TABLE_SCHEMA, TABLE_NAME\r\n",
                "FROM INFORMATION_SCHEMA.TABLES\r\n",
                "WHERE TABLE_TYPE = N'BASE TABLE';\r\n",
                "\r\n",
                "SELECT \r\n",
                "  COLUMN_NAME, DATA_TYPE, CHARACTER_MAXIMUM_LENGTH, \r\n",
                "  COLLATION_NAME, IS_NULLABLE\r\n",
                "FROM INFORMATION_SCHEMA.COLUMNS\r\n",
                "WHERE TABLE_SCHEMA = N'Sales'\r\n",
                "  AND TABLE_NAME = N'Orders';"
            ],
            "metadata": {
                "azdata_cell_guid": "adce2c56-5fdd-422c-b77e-a9b6503b0538",
                "language": "sql"
            },
            "outputs": [],
            "execution_count": null
        },
        {
            "cell_type": "markdown",
            "source": [
                "Question:\n",
                "\n",
                "  \n",
                "\n",
                "Demonstrate your ability to use SQL Server's system stored procedures and functions to gather detailed information about database objects. Complete the following tasks:\n",
                "\n",
                "  \n",
                "\n",
                "1\\. Execute the \\`sys.sp\\_tables\\` stored procedure to list all tables and views in the current database, along with other relevant information about these objects.\n",
                "\n",
                "  \n",
                "\n",
                "2\\. Use the \\`sys.sp\\_help\\` stored procedure, specifying \\`@objname = N'Sales.Orders'\\`, to obtain detailed information about the 'Sales.Orders' table, including its structure, columns, and indexes.\n",
                "\n",
                "  \n",
                "\n",
                "3\\. Execute the \\`sys.sp\\_columns\\` stored procedure with \\`@table\\_name = N'Orders'\\` and \\`@table\\_owner = N'Sales'\\` to get comprehensive information about the columns in the 'Sales.Orders' table, such as data types and nullability.\n",
                "\n",
                "  \n",
                "\n",
                "4\\. Retrieve the constraints defined on the 'Sales.Orders' table by running the \\`sys.sp\\_helpconstraint\\` stored procedure, again specifying the object name as \\`N'Sales.Orders'\\`.\n",
                "\n",
                "  \n",
                "\n",
                "5\\. Use the \\`SERVERPROPERTY\\` function to find out the product level of the SQL Server instance you are connected to.\n",
                "\n",
                "  \n",
                "\n",
                "6\\. Discover the collation setting of the 'TSQLV4' database by using the \\`DATABASEPROPERTYEX\\` function.\n",
                "\n",
                "  \n",
                "\n",
                "7\\. Check if the 'Sales.Orders' table has a primary key by utilizing the \\`OBJECTPROPERTY\\` function with the 'TableHasPrimaryKey' property.\n",
                "\n",
                "  \n",
                "\n",
                "8\\. Finally, determine if the 'shipcountry' column in the 'Sales.Orders' table allows NULL values by using the \\`COLUMNPROPERTY\\` function.\n",
                "\n",
                "  \n",
                "\n",
                "These tasks will help you navigate and understand the extensive metadata about database objects available through SQL Server's system stored procedures and functions, which are vital for database administration and schema analysis."
            ],
            "metadata": {
                "azdata_cell_guid": "44c858a7-6b8e-4085-8a72-9568fbe40c9b"
            },
            "attachments": {}
        },
        {
            "cell_type": "code",
            "source": [
                "-- System Stored Procedures and Functions\r\n",
                "EXEC sys.sp_tables;\r\n",
                "\r\n",
                "EXEC sys.sp_help\r\n",
                "  @objname = N'Sales.Orders';\r\n",
                "\r\n",
                "EXEC sys.sp_columns\r\n",
                "  @table_name = N'Orders',\r\n",
                "  @table_owner = N'Sales';\r\n",
                "\r\n",
                "EXEC sys.sp_helpconstraint\r\n",
                "  @objname = N'Sales.Orders';\r\n",
                "\r\n",
                "SELECT \r\n",
                "  SERVERPROPERTY('ProductLevel');\r\n",
                "\r\n",
                "SELECT\r\n",
                "  DATABASEPROPERTYEX(N'TSQLV4', 'Collation');\r\n",
                "\r\n",
                "SELECT \r\n",
                "  OBJECTPROPERTY(OBJECT_ID(N'Sales.Orders'), 'TableHasPrimaryKey');\r\n",
                "\r\n",
                "SELECT\r\n",
                "  COLUMNPROPERTY(OBJECT_ID(N'Sales.Orders'), N'shipcountry', 'AllowsNull');"
            ],
            "metadata": {
                "azdata_cell_guid": "2612db59-f4bc-439a-be19-b92390414f3c",
                "language": "sql"
            },
            "outputs": [],
            "execution_count": null
        }
    ]
}