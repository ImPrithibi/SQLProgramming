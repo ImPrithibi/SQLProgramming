{
    "metadata": {
        "kernelspec": {
            "name": "SQL",
            "display_name": "SQL",
            "language": "sql"
        },
        "language_info": {
            "name": "sql",
            "version": ""
        }
    },
    "nbformat_minor": 2,
    "nbformat": 4,
    "cells": [
        {
            "cell_type": "markdown",
            "source": [
                "**Prithibi Paul | Group 6 | Questions 4 and 5**"
            ],
            "metadata": {
                "azdata_cell_guid": "10c91567-c6b4-46d8-b3be-8fd5fc499fa5"
            },
            "attachments": {}
        },
        {
            "cell_type": "markdown",
            "source": [
                "**Question 4:**"
            ],
            "metadata": {
                "azdata_cell_guid": "bd9ddb9e-a56a-4704-b4ca-0561acc104c3"
            },
            "attachments": {}
        },
        {
            "cell_type": "code",
            "source": [
                "-- Question 4: \r\n",
                "-- Return orders with total value(qty*unitprice) greater than 10000\r\n",
                "-- sorted by total value\r\n",
                "-- Tables involved: Sales.OrderDetails table\r\n",
                "\r\n",
                "-- Desired output:\r\n",
                "orderid     totalvalue\r\n",
                "----------- ---------------------\r\n",
                "10865       17250.00\r\n",
                "11030       16321.90\r\n",
                "10981       15810.00\r\n",
                "10372       12281.20\r\n",
                "10424       11493.20\r\n",
                "10817       11490.70\r\n",
                "10889       11380.00\r\n",
                "10417       11283.20\r\n",
                "10897       10835.24\r\n",
                "10353       10741.60\r\n",
                "10515       10588.50\r\n",
                "10479       10495.60\r\n",
                "10540       10191.70\r\n",
                "10691       10164.80\r\n",
                "\r\n",
                "(14 row(s) affected)"
            ],
            "metadata": {
                "azdata_cell_guid": "20a349c4-8f12-4847-9258-8670e4e7d74f",
                "language": "sql",
                "tags": []
            },
            "outputs": [],
            "execution_count": null
        },
        {
            "cell_type": "markdown",
            "source": [
                "**<u>Explanation for the TSQLV4 Database Query</u>**\n",
                "\n",
                "1\\. Database Context: 'USE \\[TSQLV4\\]' sets the context to the TSQLV4 database.\n",
                "\n",
                "2\\. SELECT Clause:\n",
                "\n",
                "   - 'od.orderid': Selects the order ID from the \\[Sales\\].\\[OrderDetails\\] table.\n",
                "\n",
                "   - 'SUM(od.qty \\* od.unitprice) AS totalvalue': Calculates the total value of each order by multiplying quantity (od.qty) by unit price (od.unitprice) and summing these products, aliasing the result as 'totalvalue'.\n",
                "\n",
                "3\\. FROM Clause:\n",
                "\n",
                "   - Specifies the \\[Sales\\].\\[OrderDetails\\] table as the data source, aliasing it as 'od'.\n",
                "\n",
                "4\\. GROUP BY Clause:\n",
                "\n",
                "   - Groups the results by 'od.orderid' to apply the SUM function to each unique order ID.\n",
                "\n",
                "5\\. HAVING Clause:\n",
                "\n",
                "   - Filters the results to include only those groups where the total value exceeds 10,000.\n",
                "\n",
                "6\\. ORDER BY Clause:\n",
                "\n",
                "   - Sorts the resulting order IDs by their calculated total value in descending order.\n",
                "\n",
                "**<u>Explanation for the Northwinds2022TSQLV7 Database Query</u>**\n",
                "\n",
                "1\\. Database Context: 'USE \\[Northwinds2022TSQLV7\\]' switches context to operate on the Northwinds2022TSQLV7 database.\n",
                "\n",
                "2\\. SELECT Clause:\n",
                "\n",
                "   - 'od.OrderId': Selects the Order ID from the \\[Sales\\].\\[OrderDetail\\] table.\n",
                "\n",
                "   - 'SUM(od.Quantity \\* od.UnitPrice) AS totalvalue': Calculates the total value for each order by multiplying 'od.Quantity' by 'od.UnitPrice', aliasing the result as 'totalvalue'.\n",
                "\n",
                "3\\. FROM Clause:\n",
                "\n",
                "   - Specifies the \\[Sales\\].\\[OrderDetail\\] table as the data source, using 'od' as an alias.\n",
                "\n",
                "4\\. GROUP BY Clause:\n",
                "\n",
                "   - Groups the data by 'od.OrderId'.\n",
                "\n",
                "5\\. HAVING Clause:\n",
                "\n",
                "   - Filters to include only those orders where the total value is more than 10,000.\n",
                "\n",
                "6\\. ORDER BY Clause:\n",
                "\n",
                "   - Orders the results by the 'totalvalue' in descending order.\n",
                "\n",
                "Summary: Both queries are structured to identify and list orders with a total value greater than 10,000 in their respective databases. They perform this by grouping order details by order ID, calculating the total value for each group, and filtering and sorting the results based on this calculated total value. Despite similar structures, each query is tailored to the specific table and column names of its respective database."
            ],
            "metadata": {
                "azdata_cell_guid": "aaa010d0-cf30-4979-a8d2-9f9fa49beaad"
            },
            "attachments": {}
        },
        {
            "cell_type": "code",
            "source": [
                "USE [TSQLV4]\r\n",
                "GO\r\n",
                "\r\n",
                "-- Calculating total value of orders greater than 10000 in TSQLV4 database\r\n",
                "SELECT \r\n",
                "    od.orderid, \r\n",
                "    SUM(od.qty * od.unitprice) AS totalvalue -- Calculating total value\r\n",
                "FROM \r\n",
                "    [Sales].[OrderDetails] as od\r\n",
                "GROUP BY \r\n",
                "    od.orderid\r\n",
                "HAVING \r\n",
                "    SUM(od.qty * od.unitprice) > 10000 \r\n",
                "    -- Filtering orders with total value greater than 10000\r\n",
                "ORDER BY \r\n",
                "    totalvalue DESC; -- Sorting by total value in descending order\r\n",
                "\r\n",
                "\r\n",
                "USE [Northwinds2022TSQLV7]\r\n",
                "GO\r\n",
                "\r\n",
                "-- Calculating total value of orders greater than 10000 in Northwinds2022TSQLV7 database\r\n",
                "SELECT \r\n",
                "    od.OrderId, \r\n",
                "    SUM(od.Quantity * od.UnitPrice) AS totalvalue -- Calculating total value\r\n",
                "FROM \r\n",
                "    [Sales].[OrderDetail] as od\r\n",
                "GROUP BY \r\n",
                "    od.OrderId\r\n",
                "HAVING \r\n",
                "    SUM(od.Quantity * od.UnitPrice) > 10000 -- Filtering orders with total value greater than 10000\r\n",
                "ORDER BY \r\n",
                "    totalvalue DESC; -- Sorting by total value in descending order\r\n",
                ""
            ],
            "metadata": {
                "azdata_cell_guid": "31771449-f864-4a02-813d-4c0f4d974783",
                "language": "sql"
            },
            "outputs": [
                {
                    "output_type": "display_data",
                    "data": {
                        "text/html": "Commands completed successfully."
                    },
                    "metadata": {}
                },
                {
                    "output_type": "display_data",
                    "data": {
                        "text/html": "(14 rows affected)"
                    },
                    "metadata": {}
                },
                {
                    "output_type": "display_data",
                    "data": {
                        "text/html": "(14 rows affected)"
                    },
                    "metadata": {}
                },
                {
                    "output_type": "display_data",
                    "data": {
                        "text/html": "Total execution time: 00:00:00.007"
                    },
                    "metadata": {}
                },
                {
                    "output_type": "execute_result",
                    "execution_count": 7,
                    "data": {
                        "application/vnd.dataresource+json": {
                            "schema": {
                                "fields": [
                                    {
                                        "name": "orderid"
                                    },
                                    {
                                        "name": "totalvalue"
                                    }
                                ]
                            },
                            "data": [
                                {
                                    "orderid": "10865",
                                    "totalvalue": "17250.00"
                                },
                                {
                                    "orderid": "11030",
                                    "totalvalue": "16321.90"
                                },
                                {
                                    "orderid": "10981",
                                    "totalvalue": "15810.00"
                                },
                                {
                                    "orderid": "10372",
                                    "totalvalue": "12281.20"
                                },
                                {
                                    "orderid": "10424",
                                    "totalvalue": "11493.20"
                                },
                                {
                                    "orderid": "10817",
                                    "totalvalue": "11490.70"
                                },
                                {
                                    "orderid": "10889",
                                    "totalvalue": "11380.00"
                                },
                                {
                                    "orderid": "10417",
                                    "totalvalue": "11283.20"
                                },
                                {
                                    "orderid": "10897",
                                    "totalvalue": "10835.24"
                                },
                                {
                                    "orderid": "10353",
                                    "totalvalue": "10741.60"
                                },
                                {
                                    "orderid": "10515",
                                    "totalvalue": "10588.50"
                                },
                                {
                                    "orderid": "10479",
                                    "totalvalue": "10495.60"
                                },
                                {
                                    "orderid": "10540",
                                    "totalvalue": "10191.70"
                                },
                                {
                                    "orderid": "10691",
                                    "totalvalue": "10164.80"
                                }
                            ]
                        },
                        "text/html": "<table><tr><th>orderid</th><th>totalvalue</th></tr><tr><td>10865</td><td>17250.00</td></tr><tr><td>11030</td><td>16321.90</td></tr><tr><td>10981</td><td>15810.00</td></tr><tr><td>10372</td><td>12281.20</td></tr><tr><td>10424</td><td>11493.20</td></tr><tr><td>10817</td><td>11490.70</td></tr><tr><td>10889</td><td>11380.00</td></tr><tr><td>10417</td><td>11283.20</td></tr><tr><td>10897</td><td>10835.24</td></tr><tr><td>10353</td><td>10741.60</td></tr><tr><td>10515</td><td>10588.50</td></tr><tr><td>10479</td><td>10495.60</td></tr><tr><td>10540</td><td>10191.70</td></tr><tr><td>10691</td><td>10164.80</td></tr></table>"
                    },
                    "metadata": {}
                },
                {
                    "output_type": "execute_result",
                    "execution_count": 7,
                    "data": {
                        "application/vnd.dataresource+json": {
                            "schema": {
                                "fields": [
                                    {
                                        "name": "OrderId"
                                    },
                                    {
                                        "name": "totalvalue"
                                    }
                                ]
                            },
                            "data": [
                                {
                                    "OrderId": "10865",
                                    "totalvalue": "17250.00"
                                },
                                {
                                    "OrderId": "11030",
                                    "totalvalue": "16321.90"
                                },
                                {
                                    "OrderId": "10981",
                                    "totalvalue": "15810.00"
                                },
                                {
                                    "OrderId": "10372",
                                    "totalvalue": "12281.20"
                                },
                                {
                                    "OrderId": "10424",
                                    "totalvalue": "11493.20"
                                },
                                {
                                    "OrderId": "10817",
                                    "totalvalue": "11490.70"
                                },
                                {
                                    "OrderId": "10889",
                                    "totalvalue": "11380.00"
                                },
                                {
                                    "OrderId": "10417",
                                    "totalvalue": "11283.20"
                                },
                                {
                                    "OrderId": "10897",
                                    "totalvalue": "10835.24"
                                },
                                {
                                    "OrderId": "10353",
                                    "totalvalue": "10741.60"
                                },
                                {
                                    "OrderId": "10515",
                                    "totalvalue": "10588.50"
                                },
                                {
                                    "OrderId": "10479",
                                    "totalvalue": "10495.60"
                                },
                                {
                                    "OrderId": "10540",
                                    "totalvalue": "10191.70"
                                },
                                {
                                    "OrderId": "10691",
                                    "totalvalue": "10164.80"
                                }
                            ]
                        },
                        "text/html": "<table><tr><th>OrderId</th><th>totalvalue</th></tr><tr><td>10865</td><td>17250.00</td></tr><tr><td>11030</td><td>16321.90</td></tr><tr><td>10981</td><td>15810.00</td></tr><tr><td>10372</td><td>12281.20</td></tr><tr><td>10424</td><td>11493.20</td></tr><tr><td>10817</td><td>11490.70</td></tr><tr><td>10889</td><td>11380.00</td></tr><tr><td>10417</td><td>11283.20</td></tr><tr><td>10897</td><td>10835.24</td></tr><tr><td>10353</td><td>10741.60</td></tr><tr><td>10515</td><td>10588.50</td></tr><tr><td>10479</td><td>10495.60</td></tr><tr><td>10540</td><td>10191.70</td></tr><tr><td>10691</td><td>10164.80</td></tr></table>"
                    },
                    "metadata": {}
                }
            ],
            "execution_count": 7
        },
        {
            "cell_type": "markdown",
            "source": [
                "**Question 5:**"
            ],
            "metadata": {
                "azdata_cell_guid": "e15f3ddc-9f73-4c45-8f6c-61db1e24d8b4"
            },
            "attachments": {}
        },
        {
            "cell_type": "code",
            "source": [
                "-- Question 5: \r\n",
                "-- Write a query against the HR.Employees table that returns employees\r\n",
                "-- with a last name that starts with a lower case letter.\r\n",
                "-- Remember that the collation of the sample database\r\n",
                "-- is case insensitive (Latin1_General_CI_AS).\r\n",
                "-- For simplicity, you can assume that only English letters are used\r\n",
                "-- in the employee last names.\r\n",
                "-- Tables involved: Sales.OrderDetails table\r\n",
                "\r\n",
                "-- Desired output:\r\n",
                "empid       lastname\r\n",
                "----------- --------------------\r\n",
                "\r\n",
                "(0 row(s) affected)"
            ],
            "metadata": {
                "azdata_cell_guid": "98c24f27-e16d-4969-a1bc-35e33b272183",
                "language": "sql"
            },
            "outputs": [],
            "execution_count": null
        },
        {
            "cell_type": "markdown",
            "source": [
                "**<u>Explanation for the TSQLV4 Database Query</u>**\n",
                "\n",
                "1\\. Database Context: 'USE TSQLV4' sets the context to the TSQLV4 database.\n",
                "\n",
                "2\\. SELECT Clause:\n",
                "\n",
                "   - 'empid': Selects the employee ID from the HR.Employees table.\n",
                "\n",
                "   - 'lastname': Selects the last name of the employee from the HR.Employees table.\n",
                "\n",
                "3\\. FROM Clause:\n",
                "\n",
                "   - Specifies the HR.Employees table as the data source.\n",
                "\n",
                "4\\. WHERE Clause:\n",
                "\n",
                "   - 'lastname COLLATE Latin1\\_General\\_BIN LIKE N'\\[a-z\\]%'' : Filters the data to include only those employees whose last name starts with a lowercase letter. \n",
                "\n",
                "     The COLLATE Latin1\\_General\\_BIN clause is used to enforce binary collation for case sensitivity, which is necessary due to the case-insensitive nature of the database's collation setting (Latin1\\_General\\_CI\\_AS).\n",
                "\n",
                "**<u>Explanation for the Northwinds2022TSQLV7 Database Query</u>**\n",
                "\n",
                "1\\. Database Context: 'USE Northwinds2022TSQLV7' switches context to operate on the Northwinds2022TSQLV7 database.\n",
                "\n",
                "2\\. SELECT Clause:\n",
                "\n",
                "   - 'EmployeeId': Selects the employee ID from the HumanResources.Employee table.\n",
                "\n",
                "   - 'EmployeeLastName': Selects the last name of the employee from the HumanResources.Employee table.\n",
                "\n",
                "3\\. FROM Clause:\n",
                "\n",
                "   - Specifies the HumanResources.Employee table as the data source.\n",
                "\n",
                "4\\. WHERE Clause:\n",
                "\n",
                "   - 'EmployeeLastName COLLATE Latin1\\_General\\_BIN LIKE N'\\[a-z\\]%'' : Filters the data to include only those employees whose last name starts with a lowercase letter. \n",
                "\n",
                "     The COLLATE Latin1\\_General\\_BIN clause is used here as well to enforce binary collation for case sensitivity in a case-insensitive collation environment.\n",
                "\n",
                "  \n",
                "\n",
                "Summary: Both queries are designed to retrieve employee records where the last name begins with a lowercase letter from their respective databases. This is achieved by enforcing case sensitivity through the use of binary collation (Latin1\\_General\\_BIN) in the WHERE clause. Each query is tailored to the specific table and column names of its respective database."
            ],
            "metadata": {
                "azdata_cell_guid": "6786783a-f94c-4639-9411-1472e9d95d91"
            },
            "attachments": {}
        },
        {
            "cell_type": "code",
            "source": [
                "-- Query for the TSQLV4 database\r\n",
                "USE TSQLV4\r\n",
                "GO\r\n",
                "\r\n",
                "-- Retrieving employees from HR.Employees where the last name starts with a lowercase letter.\r\n",
                "-- The database uses case-insensitive collation\r\n",
                "SELECT \r\n",
                "    empid, \r\n",
                "    lastname \r\n",
                "FROM \r\n",
                "    HR.Employees \r\n",
                "WHERE \r\n",
                "    lastname COLLATE Latin1_General_BIN LIKE N'[a-z]%';\r\n",
                "\r\n",
                "\r\n",
                "-- Query for the Northwinds2022TSQLV7 database\r\n",
                "USE Northwinds2022TSQLV7\r\n",
                "GO\r\n",
                "\r\n",
                "-- Retrieving employees from HumanResources.Employee where the EmployeeLastName starts with a lowercase letter.\r\n",
                "-- The database uses case-insensitive collation\r\n",
                "SELECT \r\n",
                "    EmployeeId, \r\n",
                "    EmployeeLastName \r\n",
                "FROM \r\n",
                "    HumanResources.Employee \r\n",
                "WHERE \r\n",
                "    EmployeeLastName COLLATE Latin1_General_BIN LIKE N'[a-z]%';\r\n",
                ""
            ],
            "metadata": {
                "azdata_cell_guid": "d690fdbe-4158-4b5f-8a0e-07f88c77b320",
                "language": "sql"
            },
            "outputs": [
                {
                    "output_type": "display_data",
                    "data": {
                        "text/html": "Commands completed successfully."
                    },
                    "metadata": {}
                },
                {
                    "output_type": "display_data",
                    "data": {
                        "text/html": "(0 rows affected)"
                    },
                    "metadata": {}
                },
                {
                    "output_type": "display_data",
                    "data": {
                        "text/html": "(0 rows affected)"
                    },
                    "metadata": {}
                },
                {
                    "output_type": "display_data",
                    "data": {
                        "text/html": "Total execution time: 00:00:00.009"
                    },
                    "metadata": {}
                },
                {
                    "output_type": "execute_result",
                    "execution_count": 6,
                    "data": {
                        "application/vnd.dataresource+json": {
                            "schema": {
                                "fields": [
                                    {
                                        "name": "empid"
                                    },
                                    {
                                        "name": "lastname"
                                    }
                                ]
                            },
                            "data": []
                        },
                        "text/html": "<table><tr><th>empid</th><th>lastname</th></tr></table>"
                    },
                    "metadata": {}
                },
                {
                    "output_type": "execute_result",
                    "execution_count": 6,
                    "data": {
                        "application/vnd.dataresource+json": {
                            "schema": {
                                "fields": [
                                    {
                                        "name": "EmployeeId"
                                    },
                                    {
                                        "name": "EmployeeLastName"
                                    }
                                ]
                            },
                            "data": []
                        },
                        "text/html": "<table><tr><th>EmployeeId</th><th>EmployeeLastName</th></tr></table>"
                    },
                    "metadata": {}
                }
            ],
            "execution_count": 6
        }
    ]
}