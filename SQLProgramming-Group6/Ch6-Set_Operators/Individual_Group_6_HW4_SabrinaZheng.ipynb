{
    "metadata": {
        "kernelspec": {
            "name": "SQL",
            "display_name": "SQL",
            "language": "sql"
        },
        "language_info": {
            "name": "sql",
            "version": ""
        }
    },
    "nbformat_minor": 2,
    "nbformat": 4,
    "cells": [
        {
            "cell_type": "markdown",
            "source": [
                "### **Sabrina Zheng | Group 6 | Chapter 6 | Quesiton 5**\n",
                "\n",
                "_Written in collaboration with ChatGPT from OpenAI to improve understanding, assist with the explanation of the query, and enhance formatting and display of the queries._\n",
                "\n",
                "**Question 5:**\n",
                "\n",
                "\\-- 5\n",
                "\n",
                "\\-- Write a query that returns customer and employee pairs \n",
                "\n",
                "\\-- that had order activity in both January 2016 and February 2016\n",
                "\n",
                "\\-- but not in 2015\n",
                "\n",
                "\\-- Tables involved: TSQLV4 database, Orders table\n",
                "\n",
                "\\--Desired output\n",
                "\n",
                "custid      empid\n",
                "\n",
                "\\----------- -----------\n",
                "\n",
                "67          1\n",
                "\n",
                "46          5"
            ],
            "metadata": {
                "azdata_cell_guid": "088f58bb-f738-49d6-8eb0-7422952fe52b"
            },
            "attachments": {}
        },
        {
            "cell_type": "code",
            "source": [
                "--Query using TSQLV4 database\r\n",
                "USE TSQLV4;\r\n",
                "\r\n",
                "SELECT DISTINCT o1.custid, o1.empid\r\n",
                "FROM Orders o1\r\n",
                "JOIN Orders o2 ON o1.custid = o2.custid AND o1.empid = o2.empid\r\n",
                "WHERE o1.orderdate >= '2016-01-01' AND o1.orderdate < '2016-02-01'\r\n",
                "  AND o2.orderdate >= '2016-02-01' AND o2.orderdate < '2016-03-01'\r\n",
                "  AND NOT EXISTS (\r\n",
                "      SELECT 1\r\n",
                "      FROM Orders o3\r\n",
                "      WHERE o3.custid = o1.custid AND o3.empid = o1.empid\r\n",
                "        AND o3.orderdate >= '2015-01-01' AND o3.orderdate < '2016-01-01'\r\n",
                "  )\r\n",
                "  AND NOT EXISTS (\r\n",
                "      SELECT 1\r\n",
                "      FROM Orders o4\r\n",
                "      WHERE o4.custid = o1.custid AND o4.empid = o1.empid\r\n",
                "        AND o4.orderdate < '2016-01-01'\r\n",
                "  );\r\n",
                "\r\n",
                "\r\n",
                "--Query using Northwinds2022TSQLV7\r\n",
                "USE Northwinds2022TSQLV7;\r\n",
                "\r\n",
                "SELECT DISTINCT o1.CustomerId, o1.EmployeeId\r\n",
                "FROM Sales.[Order] o1\r\n",
                "JOIN Sales.[Order] o2 ON o1.CustomerId = o2.CustomerId AND o1.EmployeeId = o2.EmployeeId\r\n",
                "WHERE o1.OrderDate >= '2016-01-01' AND o1.OrderDate < '2016-02-01'\r\n",
                "  AND o2.OrderDate >= '2016-02-01' AND o2.OrderDate < '2016-03-01'\r\n",
                "  AND NOT EXISTS (\r\n",
                "      SELECT 1\r\n",
                "      FROM Sales.[Order] o3\r\n",
                "      WHERE o3.CustomerId = o1.CustomerId AND o3.EmployeeId = o1.EmployeeId\r\n",
                "        AND o3.OrderDate >= '2015-01-01' AND o3.OrderDate < '2016-01-01'\r\n",
                "  )\r\n",
                "  AND NOT EXISTS (\r\n",
                "      SELECT 1\r\n",
                "      FROM Sales.[Order] o4\r\n",
                "      WHERE o4.CustomerId = o1.CustomerId AND o4.EmployeeId = o1.EmployeeId\r\n",
                "        AND o4.OrderDate < '2016-01-01'\r\n",
                "  );"
            ],
            "metadata": {
                "azdata_cell_guid": "312138ad-063c-4808-90b6-d583e1073ec1",
                "language": "sql"
            },
            "outputs": [
                {
                    "output_type": "display_data",
                    "data": {
                        "text/html": "(2 rows affected)"
                    },
                    "metadata": {}
                },
                {
                    "output_type": "display_data",
                    "data": {
                        "text/html": "(2 rows affected)"
                    },
                    "metadata": {}
                },
                {
                    "output_type": "display_data",
                    "data": {
                        "text/html": "Total execution time: 00:00:00.203"
                    },
                    "metadata": {}
                },
                {
                    "output_type": "execute_result",
                    "execution_count": 2,
                    "data": {
                        "application/vnd.dataresource+json": {
                            "schema": {
                                "fields": [
                                    {
                                        "name": "custid"
                                    },
                                    {
                                        "name": "empid"
                                    }
                                ]
                            },
                            "data": [
                                {
                                    "custid": "46",
                                    "empid": "5"
                                },
                                {
                                    "custid": "67",
                                    "empid": "1"
                                }
                            ]
                        },
                        "text/html": "<table><tr><th>custid</th><th>empid</th></tr><tr><td>46</td><td>5</td></tr><tr><td>67</td><td>1</td></tr></table>"
                    },
                    "metadata": {}
                },
                {
                    "output_type": "execute_result",
                    "execution_count": 2,
                    "data": {
                        "application/vnd.dataresource+json": {
                            "schema": {
                                "fields": [
                                    {
                                        "name": "CustomerId"
                                    },
                                    {
                                        "name": "EmployeeId"
                                    }
                                ]
                            },
                            "data": [
                                {
                                    "CustomerId": "46",
                                    "EmployeeId": "5"
                                },
                                {
                                    "CustomerId": "67",
                                    "EmployeeId": "1"
                                }
                            ]
                        },
                        "text/html": "<table><tr><th>CustomerId</th><th>EmployeeId</th></tr><tr><td>46</td><td>5</td></tr><tr><td>67</td><td>1</td></tr></table>"
                    },
                    "metadata": {}
                }
            ],
            "execution_count": 2
        },
        {
            "cell_type": "markdown",
            "source": [
                "**Explanation for TSQLV4 and Northwinds2022TSQLV7**\n",
                "\n",
                "**Proposition:** Write a query that returns the pairs of customer and employees that ordered in January 2016 and Febuary 2016 but not in January 2015\n",
                "\n",
                "**Tables:** \n",
                "\n",
                "- Orders (Sales.\\[Order\\])\n",
                "\n",
                "**Columns:**\n",
                "\n",
                "- custid (CustomerID)\n",
                "- empid (EmployeeID)\n",
                "- orderdate (OrderDate)\n",
                "\n",
                "**Predicate:**\n",
                "\n",
                "- Selects distinct pairs from custid and empid from the Orders table and self joins them on the Orders table based on the custid and empid that match\n",
                "- The WHERE filters the data based on the orders that are placed by the same customer and employee in January 2016, 2016-01-01 and 2016-02-01 and February 2016, 2016-02-01 and 2016-03-01\n",
                "- Then exclude the pairs that are placed by the same customer and employee between January 2015 and January 2016 and before January 2016"
            ],
            "metadata": {
                "azdata_cell_guid": "1419f800-c45b-4e4e-a045-3c36a68bf0a8"
            },
            "attachments": {}
        },
        {
            "cell_type": "markdown",
            "source": [
                "## **Part 2:**\n",
                "\n",
                "**Chaper 6: Lines 88 - 127** \n",
                "\n",
                "\\--------------------------------------------------------------------- \n",
                "\n",
                "\\-- The EXCEPT Operator \n",
                "\n",
                "\\---------------------------------------------------------------------\n",
                "\n",
                "**Proposition:** Write a query using HR.Employees and Sales.Customers table to retrieve the country, region, and city using a CTE named EXCEPT\\_ALL without any duplicates\n",
                "\n",
                "**Tables:**\n",
                "\n",
                "- <span style=\"color: var(--vscode-foreground);\">HR.Employees (</span>HumanResources.\\[Employee\\])\n",
                "    \n",
                "- Sales.Customers (Sales.\\[Customer\\])\n",
                "    \n",
                "\n",
                "**Columns:**\n",
                "\n",
                "- <span style=\"color: var(--vscode-foreground);\">country (EmployeeCountry/CustomerCountry)</span>    \n",
                "    \n",
                "- region (EmployeeRegion/CustomerRegion)\n",
                "    \n",
                "- city (EmployeeCity/CustomerCity)\n",
                "    \n",
                "\n",
                "**Predicate:**\n",
                "\n",
                "- The CTE is defined and named EXCEPT\\_ALL and takes the rows from the HR.Employees table and removes whatever is duplicated based on the country, region, and city\n",
                "- A row number is assigned to each group using the ROW\\_NUMBER() function\n",
                "- The PARTITION BY divides the rows based on the country, region, and city\n",
                "- Then the ORDER BY clause is used to order the rows arbitrarily\n",
                "- Then EXCEPT is used to remove rows from the Employees table that exist in the Sales.Customers table based on the country, region, and city\n",
                "- The final SELECT statement retrieves the country, region and city from the EXCEPT\\_ALL CTE"
            ],
            "metadata": {
                "azdata_cell_guid": "99cbba01-e542-4a60-949a-7cec9a4f0751"
            },
            "attachments": {}
        },
        {
            "cell_type": "code",
            "source": [
                "--Query using TSQLV4 database\r\n",
                "USE TSQLV4;\r\n",
                "-- The EXCEPT ALL Multiset Operator (Optional, Advanced)\r\n",
                "WITH EXCEPT_ALL\r\n",
                "AS\r\n",
                "(\r\n",
                "  SELECT\r\n",
                "    ROW_NUMBER() \r\n",
                "      OVER(PARTITION BY country, region, city\r\n",
                "           ORDER     BY (SELECT 0)) AS rownum,\r\n",
                "    country, region, city\r\n",
                "  FROM HR.Employees\r\n",
                "\r\n",
                "  EXCEPT\r\n",
                "\r\n",
                "  SELECT\r\n",
                "    ROW_NUMBER() \r\n",
                "      OVER(PARTITION BY country, region, city\r\n",
                "           ORDER     BY (SELECT 0)),\r\n",
                "    country, region, city\r\n",
                "  FROM Sales.Customers\r\n",
                ")\r\n",
                "SELECT country, region, city\r\n",
                "FROM EXCEPT_ALL;\r\n",
                "\r\n",
                "\r\n",
                "--Query using Northwinds2022TSQLV7\r\n",
                "USE Northwinds2022TSQLV7;\r\n",
                "-- The EXCEPT ALL Multiset Operator (Optional, Advanced)\r\n",
                "WITH EXCEPT_ALL\r\n",
                "AS\r\n",
                "(\r\n",
                "  SELECT\r\n",
                "    ROW_NUMBER() \r\n",
                "      OVER(PARTITION BY EmployeeCountry, EmployeeRegion, EmployeeCity\r\n",
                "           ORDER     BY (SELECT 0)) AS rownum,\r\n",
                "    EmployeeCountry, EmployeeRegion, EmployeeCity\r\n",
                "  FROM HumanResources.[Employee]\r\n",
                "\r\n",
                "  EXCEPT\r\n",
                "\r\n",
                "  SELECT\r\n",
                "    ROW_NUMBER() \r\n",
                "      OVER(PARTITION BY CustomerCountry, CustomerRegion, CustomerCity\r\n",
                "           ORDER     BY (SELECT 0)),\r\n",
                "    CustomerCountry, CustomerRegion, CustomerCity\r\n",
                "  FROM Sales.[Customer]\r\n",
                ")\r\n",
                "SELECT EmployeeCountry, EmployeeRegion, EmployeeCity\r\n",
                "FROM EXCEPT_ALL;"
            ],
            "metadata": {
                "azdata_cell_guid": "d809bc17-82c1-4991-a759-44d124534cdf",
                "language": "sql"
            },
            "outputs": [
                {
                    "output_type": "display_data",
                    "data": {
                        "text/html": "(3 rows affected)"
                    },
                    "metadata": {}
                },
                {
                    "output_type": "display_data",
                    "data": {
                        "text/html": "(3 rows affected)"
                    },
                    "metadata": {}
                },
                {
                    "output_type": "display_data",
                    "data": {
                        "text/html": "Total execution time: 00:00:00.413"
                    },
                    "metadata": {}
                },
                {
                    "output_type": "execute_result",
                    "execution_count": 3,
                    "data": {
                        "application/vnd.dataresource+json": {
                            "schema": {
                                "fields": [
                                    {
                                        "name": "country"
                                    },
                                    {
                                        "name": "region"
                                    },
                                    {
                                        "name": "city"
                                    }
                                ]
                            },
                            "data": [
                                {
                                    "country": "USA",
                                    "region": "WA",
                                    "city": "Redmond"
                                },
                                {
                                    "country": "USA",
                                    "region": "WA",
                                    "city": "Tacoma"
                                },
                                {
                                    "country": "USA",
                                    "region": "WA",
                                    "city": "Seattle"
                                }
                            ]
                        },
                        "text/html": "<table><tr><th>country</th><th>region</th><th>city</th></tr><tr><td>USA</td><td>WA</td><td>Redmond</td></tr><tr><td>USA</td><td>WA</td><td>Tacoma</td></tr><tr><td>USA</td><td>WA</td><td>Seattle</td></tr></table>"
                    },
                    "metadata": {}
                },
                {
                    "output_type": "execute_result",
                    "execution_count": 3,
                    "data": {
                        "application/vnd.dataresource+json": {
                            "schema": {
                                "fields": [
                                    {
                                        "name": "EmployeeCountry"
                                    },
                                    {
                                        "name": "EmployeeRegion"
                                    },
                                    {
                                        "name": "EmployeeCity"
                                    }
                                ]
                            },
                            "data": [
                                {
                                    "EmployeeCountry": "USA",
                                    "EmployeeRegion": "WA",
                                    "EmployeeCity": "Redmond"
                                },
                                {
                                    "EmployeeCountry": "USA",
                                    "EmployeeRegion": "WA",
                                    "EmployeeCity": "Tacoma"
                                },
                                {
                                    "EmployeeCountry": "USA",
                                    "EmployeeRegion": "WA",
                                    "EmployeeCity": "Seattle"
                                }
                            ]
                        },
                        "text/html": "<table><tr><th>EmployeeCountry</th><th>EmployeeRegion</th><th>EmployeeCity</th></tr><tr><td>USA</td><td>WA</td><td>Redmond</td></tr><tr><td>USA</td><td>WA</td><td>Tacoma</td></tr><tr><td>USA</td><td>WA</td><td>Seattle</td></tr></table>"
                    },
                    "metadata": {}
                }
            ],
            "execution_count": 3
        },
        {
            "cell_type": "markdown",
            "source": [
                "\\---------------------------------------------------------------------\n",
                "\n",
                "\\-- Precedence\n",
                "\n",
                "\\---------------------------------------------------------------------\n",
                "\n",
                "**Proposition:** Write a query to retrive the combinations of country, region, and city from Production.Suppliers table that are not in HR.Employees table but coincide with the entries in Sales.Customers table using the EXCEPT and INTERSECT operator\n",
                "\n",
                "**Tables:**\n",
                "\n",
                "- Production.Suppliers (Production.\\[Supplier\\])\n",
                "- HR.Employees (HumanResources.\\[Employee\\])\n",
                "- Sales.Customers (Sales.\\[Customer\\])\n",
                "\n",
                "**Columns:**\n",
                "\n",
                "- country (SupplierCountry/EmployeeCountry/CustomerCountry)\n",
                "- region (SupplierRegion/EmployeeRegion/CustomerRegion)\n",
                "- city (CustomerCountry/CustomerRegion/CustomerCity)\n",
                "\n",
                "**Predicate:**\n",
                "\n",
                "- EXCEPT operation is performed between the country, region, and city from Production.Suppliers and the HR.Employees table\n",
                "- Then INTERSECT between the results from the EXCEPT operation of the country, region, and city from the Sales.Customers table\n",
                "- The parentheses is used to specify the order of operations to ensure that EXCEPT is done before the INTERSECT operation. \n",
                "- The query results in the country, region, and city from the Productions.Suppliers table that are not in HR.Employees table but intersect with the Sales.Customers table"
            ],
            "metadata": {
                "azdata_cell_guid": "29dbd5eb-783b-4481-a3fd-d0c06f829ae6"
            },
            "attachments": {}
        },
        {
            "cell_type": "code",
            "source": [
                "--Query using TSQLV4 database\r\n",
                "USE TSQLV4;\r\n",
                "-- INTERSECT Precedes EXCEPT\r\n",
                "SELECT country, region, city FROM Production.Suppliers\r\n",
                "EXCEPT\r\n",
                "SELECT country, region, city FROM HR.Employees\r\n",
                "INTERSECT\r\n",
                "SELECT country, region, city FROM Sales.Customers;\r\n",
                "\r\n",
                "-- Using Parenthesis\r\n",
                "(SELECT country, region, city FROM Production.Suppliers\r\n",
                " EXCEPT\r\n",
                " SELECT country, region, city FROM HR.Employees)\r\n",
                "INTERSECT\r\n",
                "SELECT country, region, city FROM Sales.Customers;\r\n",
                "\r\n",
                "\r\n",
                "--Query using Northwinds2022TSQLV7\r\n",
                "USE Northwinds2022TSQLV7;\r\n",
                "-- INTERSECT Precedes EXCEPT\r\n",
                "SELECT SupplierCountry, SupplierRegion, SupplierCity FROM Production.[Supplier]\r\n",
                "EXCEPT\r\n",
                "SELECT EmployeeCountry, EmployeeRegion, EmployeeCity FROM HumanResources.[Employee]\r\n",
                "INTERSECT\r\n",
                "SELECT CustomerCountry, CustomerRegion, CustomerCity FROM Sales.[Customer];\r\n",
                "\r\n",
                "-- Using Parenthesis\r\n",
                "(SELECT SupplierCountry, SupplierRegion, SupplierCity FROM Production.[Supplier]\r\n",
                " EXCEPT\r\n",
                " SELECT EmployeeCountry, EmployeeRegion, EmployeeCity FROM HumanResources.[Employee])\r\n",
                "INTERSECT\r\n",
                "SELECT CustomerCountry, CustomerRegion, CustomerCity FROM Sales.[Customer];"
            ],
            "metadata": {
                "azdata_cell_guid": "0fc25d87-ffee-423c-aa55-8d099a2aa863",
                "language": "sql"
            },
            "outputs": [
                {
                    "output_type": "display_data",
                    "data": {
                        "text/html": "(28 rows affected)"
                    },
                    "metadata": {}
                },
                {
                    "output_type": "display_data",
                    "data": {
                        "text/html": "(3 rows affected)"
                    },
                    "metadata": {}
                },
                {
                    "output_type": "display_data",
                    "data": {
                        "text/html": "(28 rows affected)"
                    },
                    "metadata": {}
                },
                {
                    "output_type": "display_data",
                    "data": {
                        "text/html": "(3 rows affected)"
                    },
                    "metadata": {}
                },
                {
                    "output_type": "display_data",
                    "data": {
                        "text/html": "Total execution time: 00:00:00.130"
                    },
                    "metadata": {}
                },
                {
                    "output_type": "execute_result",
                    "execution_count": 5,
                    "data": {
                        "application/vnd.dataresource+json": {
                            "schema": {
                                "fields": [
                                    {
                                        "name": "country"
                                    },
                                    {
                                        "name": "region"
                                    },
                                    {
                                        "name": "city"
                                    }
                                ]
                            },
                            "data": [
                                {
                                    "country": "Australia",
                                    "region": "NSW",
                                    "city": "Sydney"
                                },
                                {
                                    "country": "Australia",
                                    "region": "Victoria",
                                    "city": "Melbourne"
                                },
                                {
                                    "country": "Brazil",
                                    "region": "NULL",
                                    "city": "Sao Paulo"
                                },
                                {
                                    "country": "Canada",
                                    "region": "Québec",
                                    "city": "Montréal"
                                },
                                {
                                    "country": "Canada",
                                    "region": "Québec",
                                    "city": "Ste-Hyacinthe"
                                },
                                {
                                    "country": "Denmark",
                                    "region": "NULL",
                                    "city": "Lyngby"
                                },
                                {
                                    "country": "Finland",
                                    "region": "NULL",
                                    "city": "Lappeenranta"
                                },
                                {
                                    "country": "France",
                                    "region": "NULL",
                                    "city": "Annecy"
                                },
                                {
                                    "country": "France",
                                    "region": "NULL",
                                    "city": "Montceau"
                                },
                                {
                                    "country": "France",
                                    "region": "NULL",
                                    "city": "Paris"
                                },
                                {
                                    "country": "Germany",
                                    "region": "NULL",
                                    "city": "Berlin"
                                },
                                {
                                    "country": "Germany",
                                    "region": "NULL",
                                    "city": "Cuxhaven"
                                },
                                {
                                    "country": "Germany",
                                    "region": "NULL",
                                    "city": "Frankfurt"
                                },
                                {
                                    "country": "Italy",
                                    "region": "NULL",
                                    "city": "Ravenna"
                                },
                                {
                                    "country": "Italy",
                                    "region": "NULL",
                                    "city": "Salerno"
                                },
                                {
                                    "country": "Japan",
                                    "region": "NULL",
                                    "city": "Osaka"
                                },
                                {
                                    "country": "Japan",
                                    "region": "NULL",
                                    "city": "Tokyo"
                                },
                                {
                                    "country": "Netherlands",
                                    "region": "NULL",
                                    "city": "Zaandam"
                                },
                                {
                                    "country": "Norway",
                                    "region": "NULL",
                                    "city": "Sandvika"
                                },
                                {
                                    "country": "Singapore",
                                    "region": "NULL",
                                    "city": "Singapore"
                                },
                                {
                                    "country": "Spain",
                                    "region": "Asturias",
                                    "city": "Oviedo"
                                },
                                {
                                    "country": "Sweden",
                                    "region": "NULL",
                                    "city": "Göteborg"
                                },
                                {
                                    "country": "Sweden",
                                    "region": "NULL",
                                    "city": "Stockholm"
                                },
                                {
                                    "country": "UK",
                                    "region": "NULL",
                                    "city": "Manchester"
                                },
                                {
                                    "country": "USA",
                                    "region": "LA",
                                    "city": "New Orleans"
                                },
                                {
                                    "country": "USA",
                                    "region": "MA",
                                    "city": "Boston"
                                },
                                {
                                    "country": "USA",
                                    "region": "MI",
                                    "city": "Ann Arbor"
                                },
                                {
                                    "country": "USA",
                                    "region": "OR",
                                    "city": "Bend"
                                }
                            ]
                        },
                        "text/html": "<table><tr><th>country</th><th>region</th><th>city</th></tr><tr><td>Australia</td><td>NSW</td><td>Sydney</td></tr><tr><td>Australia</td><td>Victoria</td><td>Melbourne</td></tr><tr><td>Brazil</td><td>NULL</td><td>Sao Paulo</td></tr><tr><td>Canada</td><td>Québec</td><td>Montréal</td></tr><tr><td>Canada</td><td>Québec</td><td>Ste-Hyacinthe</td></tr><tr><td>Denmark</td><td>NULL</td><td>Lyngby</td></tr><tr><td>Finland</td><td>NULL</td><td>Lappeenranta</td></tr><tr><td>France</td><td>NULL</td><td>Annecy</td></tr><tr><td>France</td><td>NULL</td><td>Montceau</td></tr><tr><td>France</td><td>NULL</td><td>Paris</td></tr><tr><td>Germany</td><td>NULL</td><td>Berlin</td></tr><tr><td>Germany</td><td>NULL</td><td>Cuxhaven</td></tr><tr><td>Germany</td><td>NULL</td><td>Frankfurt</td></tr><tr><td>Italy</td><td>NULL</td><td>Ravenna</td></tr><tr><td>Italy</td><td>NULL</td><td>Salerno</td></tr><tr><td>Japan</td><td>NULL</td><td>Osaka</td></tr><tr><td>Japan</td><td>NULL</td><td>Tokyo</td></tr><tr><td>Netherlands</td><td>NULL</td><td>Zaandam</td></tr><tr><td>Norway</td><td>NULL</td><td>Sandvika</td></tr><tr><td>Singapore</td><td>NULL</td><td>Singapore</td></tr><tr><td>Spain</td><td>Asturias</td><td>Oviedo</td></tr><tr><td>Sweden</td><td>NULL</td><td>Göteborg</td></tr><tr><td>Sweden</td><td>NULL</td><td>Stockholm</td></tr><tr><td>UK</td><td>NULL</td><td>Manchester</td></tr><tr><td>USA</td><td>LA</td><td>New Orleans</td></tr><tr><td>USA</td><td>MA</td><td>Boston</td></tr><tr><td>USA</td><td>MI</td><td>Ann Arbor</td></tr><tr><td>USA</td><td>OR</td><td>Bend</td></tr></table>"
                    },
                    "metadata": {}
                },
                {
                    "output_type": "execute_result",
                    "execution_count": 5,
                    "data": {
                        "application/vnd.dataresource+json": {
                            "schema": {
                                "fields": [
                                    {
                                        "name": "country"
                                    },
                                    {
                                        "name": "region"
                                    },
                                    {
                                        "name": "city"
                                    }
                                ]
                            },
                            "data": [
                                {
                                    "country": "Canada",
                                    "region": "Québec",
                                    "city": "Montréal"
                                },
                                {
                                    "country": "France",
                                    "region": "NULL",
                                    "city": "Paris"
                                },
                                {
                                    "country": "Germany",
                                    "region": "NULL",
                                    "city": "Berlin"
                                }
                            ]
                        },
                        "text/html": "<table><tr><th>country</th><th>region</th><th>city</th></tr><tr><td>Canada</td><td>Québec</td><td>Montréal</td></tr><tr><td>France</td><td>NULL</td><td>Paris</td></tr><tr><td>Germany</td><td>NULL</td><td>Berlin</td></tr></table>"
                    },
                    "metadata": {}
                },
                {
                    "output_type": "execute_result",
                    "execution_count": 5,
                    "data": {
                        "application/vnd.dataresource+json": {
                            "schema": {
                                "fields": [
                                    {
                                        "name": "SupplierCountry"
                                    },
                                    {
                                        "name": "SupplierRegion"
                                    },
                                    {
                                        "name": "SupplierCity"
                                    }
                                ]
                            },
                            "data": [
                                {
                                    "SupplierCountry": "Australia",
                                    "SupplierRegion": "NSW",
                                    "SupplierCity": "Sydney"
                                },
                                {
                                    "SupplierCountry": "Australia",
                                    "SupplierRegion": "Victoria",
                                    "SupplierCity": "Melbourne"
                                },
                                {
                                    "SupplierCountry": "Brazil",
                                    "SupplierRegion": "NULL",
                                    "SupplierCity": "Sao Paulo"
                                },
                                {
                                    "SupplierCountry": "Canada",
                                    "SupplierRegion": "Québec",
                                    "SupplierCity": "Montréal"
                                },
                                {
                                    "SupplierCountry": "Canada",
                                    "SupplierRegion": "Québec",
                                    "SupplierCity": "Ste-Hyacinthe"
                                },
                                {
                                    "SupplierCountry": "Denmark",
                                    "SupplierRegion": "NULL",
                                    "SupplierCity": "Lyngby"
                                },
                                {
                                    "SupplierCountry": "Finland",
                                    "SupplierRegion": "NULL",
                                    "SupplierCity": "Lappeenranta"
                                },
                                {
                                    "SupplierCountry": "France",
                                    "SupplierRegion": "NULL",
                                    "SupplierCity": "Annecy"
                                },
                                {
                                    "SupplierCountry": "France",
                                    "SupplierRegion": "NULL",
                                    "SupplierCity": "Montceau"
                                },
                                {
                                    "SupplierCountry": "France",
                                    "SupplierRegion": "NULL",
                                    "SupplierCity": "Paris"
                                },
                                {
                                    "SupplierCountry": "Germany",
                                    "SupplierRegion": "NULL",
                                    "SupplierCity": "Berlin"
                                },
                                {
                                    "SupplierCountry": "Germany",
                                    "SupplierRegion": "NULL",
                                    "SupplierCity": "Cuxhaven"
                                },
                                {
                                    "SupplierCountry": "Germany",
                                    "SupplierRegion": "NULL",
                                    "SupplierCity": "Frankfurt"
                                },
                                {
                                    "SupplierCountry": "Italy",
                                    "SupplierRegion": "NULL",
                                    "SupplierCity": "Ravenna"
                                },
                                {
                                    "SupplierCountry": "Italy",
                                    "SupplierRegion": "NULL",
                                    "SupplierCity": "Salerno"
                                },
                                {
                                    "SupplierCountry": "Japan",
                                    "SupplierRegion": "NULL",
                                    "SupplierCity": "Osaka"
                                },
                                {
                                    "SupplierCountry": "Japan",
                                    "SupplierRegion": "NULL",
                                    "SupplierCity": "Tokyo"
                                },
                                {
                                    "SupplierCountry": "Netherlands",
                                    "SupplierRegion": "NULL",
                                    "SupplierCity": "Zaandam"
                                },
                                {
                                    "SupplierCountry": "Norway",
                                    "SupplierRegion": "NULL",
                                    "SupplierCity": "Sandvika"
                                },
                                {
                                    "SupplierCountry": "Singapore",
                                    "SupplierRegion": "NULL",
                                    "SupplierCity": "Singapore"
                                },
                                {
                                    "SupplierCountry": "Spain",
                                    "SupplierRegion": "Asturias",
                                    "SupplierCity": "Oviedo"
                                },
                                {
                                    "SupplierCountry": "Sweden",
                                    "SupplierRegion": "NULL",
                                    "SupplierCity": "Göteborg"
                                },
                                {
                                    "SupplierCountry": "Sweden",
                                    "SupplierRegion": "NULL",
                                    "SupplierCity": "Stockholm"
                                },
                                {
                                    "SupplierCountry": "UK",
                                    "SupplierRegion": "NULL",
                                    "SupplierCity": "Manchester"
                                },
                                {
                                    "SupplierCountry": "USA",
                                    "SupplierRegion": "LA",
                                    "SupplierCity": "New Orleans"
                                },
                                {
                                    "SupplierCountry": "USA",
                                    "SupplierRegion": "MA",
                                    "SupplierCity": "Boston"
                                },
                                {
                                    "SupplierCountry": "USA",
                                    "SupplierRegion": "MI",
                                    "SupplierCity": "Ann Arbor"
                                },
                                {
                                    "SupplierCountry": "USA",
                                    "SupplierRegion": "OR",
                                    "SupplierCity": "Bend"
                                }
                            ]
                        },
                        "text/html": "<table><tr><th>SupplierCountry</th><th>SupplierRegion</th><th>SupplierCity</th></tr><tr><td>Australia</td><td>NSW</td><td>Sydney</td></tr><tr><td>Australia</td><td>Victoria</td><td>Melbourne</td></tr><tr><td>Brazil</td><td>NULL</td><td>Sao Paulo</td></tr><tr><td>Canada</td><td>Québec</td><td>Montréal</td></tr><tr><td>Canada</td><td>Québec</td><td>Ste-Hyacinthe</td></tr><tr><td>Denmark</td><td>NULL</td><td>Lyngby</td></tr><tr><td>Finland</td><td>NULL</td><td>Lappeenranta</td></tr><tr><td>France</td><td>NULL</td><td>Annecy</td></tr><tr><td>France</td><td>NULL</td><td>Montceau</td></tr><tr><td>France</td><td>NULL</td><td>Paris</td></tr><tr><td>Germany</td><td>NULL</td><td>Berlin</td></tr><tr><td>Germany</td><td>NULL</td><td>Cuxhaven</td></tr><tr><td>Germany</td><td>NULL</td><td>Frankfurt</td></tr><tr><td>Italy</td><td>NULL</td><td>Ravenna</td></tr><tr><td>Italy</td><td>NULL</td><td>Salerno</td></tr><tr><td>Japan</td><td>NULL</td><td>Osaka</td></tr><tr><td>Japan</td><td>NULL</td><td>Tokyo</td></tr><tr><td>Netherlands</td><td>NULL</td><td>Zaandam</td></tr><tr><td>Norway</td><td>NULL</td><td>Sandvika</td></tr><tr><td>Singapore</td><td>NULL</td><td>Singapore</td></tr><tr><td>Spain</td><td>Asturias</td><td>Oviedo</td></tr><tr><td>Sweden</td><td>NULL</td><td>Göteborg</td></tr><tr><td>Sweden</td><td>NULL</td><td>Stockholm</td></tr><tr><td>UK</td><td>NULL</td><td>Manchester</td></tr><tr><td>USA</td><td>LA</td><td>New Orleans</td></tr><tr><td>USA</td><td>MA</td><td>Boston</td></tr><tr><td>USA</td><td>MI</td><td>Ann Arbor</td></tr><tr><td>USA</td><td>OR</td><td>Bend</td></tr></table>"
                    },
                    "metadata": {}
                },
                {
                    "output_type": "execute_result",
                    "execution_count": 5,
                    "data": {
                        "application/vnd.dataresource+json": {
                            "schema": {
                                "fields": [
                                    {
                                        "name": "SupplierCountry"
                                    },
                                    {
                                        "name": "SupplierRegion"
                                    },
                                    {
                                        "name": "SupplierCity"
                                    }
                                ]
                            },
                            "data": [
                                {
                                    "SupplierCountry": "Canada",
                                    "SupplierRegion": "Québec",
                                    "SupplierCity": "Montréal"
                                },
                                {
                                    "SupplierCountry": "France",
                                    "SupplierRegion": "NULL",
                                    "SupplierCity": "Paris"
                                },
                                {
                                    "SupplierCountry": "Germany",
                                    "SupplierRegion": "NULL",
                                    "SupplierCity": "Berlin"
                                }
                            ]
                        },
                        "text/html": "<table><tr><th>SupplierCountry</th><th>SupplierRegion</th><th>SupplierCity</th></tr><tr><td>Canada</td><td>Québec</td><td>Montréal</td></tr><tr><td>France</td><td>NULL</td><td>Paris</td></tr><tr><td>Germany</td><td>NULL</td><td>Berlin</td></tr></table>"
                    },
                    "metadata": {}
                }
            ],
            "execution_count": 5
        }
    ]
}