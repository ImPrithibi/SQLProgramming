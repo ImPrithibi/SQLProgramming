{
    "metadata": {
        "kernelspec": {
            "name": "SQL",
            "display_name": "SQL",
            "language": "sql"
        },
        "language_info": {
            "name": "sql",
            "version": ""
        }
    },
    "nbformat_minor": 2,
    "nbformat": 4,
    "cells": [
        {
            "cell_type": "markdown",
            "source": [
                "```\n",
                "-- 3\n",
                "-- Write a query that returns customer and employee pairs \n",
                "-- that had order activity in January 2016 but not in February 2016\n",
                "-- Tables involved: TSQLV4 database, Orders table\n",
                "\n",
                "--Desired output\n",
                "custid      empid\n",
                "----------- -----------\n",
                "1           1\n",
                "3           3\n",
                "5           8\n",
                "5           9\n",
                "6           9\n",
                "7           6\n",
                "9           1\n",
                "12          2\n",
                "16          7\n",
                "17          1\n",
                "20          7\n",
                "24          8\n",
                "25          1\n",
                "26          3\n",
                "32          4\n",
                "38          9\n",
                "39          3\n",
                "40          2\n",
                "41          2\n",
                "42          2\n",
                "44          8\n",
                "47          3\n",
                "47          4\n",
                "47          8\n",
                "49          7\n",
                "55          2\n",
                "55          3\n",
                "56          6\n",
                "59          8\n",
                "63          8\n",
                "64          9\n",
                "65          3\n",
                "65          8\n",
                "66          5\n",
                "67          5\n",
                "70          3\n",
                "71          2\n",
                "75          1\n",
                "76          2\n",
                "76          5\n",
                "80          1\n",
                "81          1\n",
                "81          3\n",
                "81          4\n",
                "82          6\n",
                "84          1\n",
                "84          3\n",
                "84          4\n",
                "88          7\n",
                "89          4\n",
                "\n",
                "```\n",
                "\n",
                "<span class=\"mi\" style=\"color: rgb(102, 102, 102);\"><br></span>"
            ],
            "metadata": {
                "azdata_cell_guid": "f7a20afc-1325-4360-bf85-d7339e14498f"
            },
            "attachments": {}
        },
        {
            "cell_type": "code",
            "source": [
                "USE TSQLV4;\r\n",
                "\r\n",
                "-- Start by selecting distinct pairs of customer and employee IDs\r\n",
                "SELECT DISTINCT \r\n",
                "    Orders.custid, -- Select the customer ID\r\n",
                "    Orders.empid   -- Select the employee ID\r\n",
                "FROM \r\n",
                "    Sales.Orders  -- Specify the Orders table from the TSQLV4 database\r\n",
                "WHERE \r\n",
                "    -- Filter orders to include only those made in January 2016\r\n",
                "    Orders.orderdate >= '2016-01-01' -- Orders made on or after January 1, 2016\r\n",
                "    AND \r\n",
                "    Orders.orderdate < '2016-02-01'  -- But before February 1, 2016\r\n",
                "    AND\r\n",
                "    -- Exclude pairs that also had orders in February 2016\r\n",
                "    NOT EXISTS (\r\n",
                "        -- Subquery to identify orders in February 2016\r\n",
                "        SELECT 1 -- A constant value; used because EXISTS just checks for the existence of rows\r\n",
                "        FROM Sales.Orders as FebOrders -- Alias the Orders table to differentiate from the outer query\r\n",
                "        WHERE\r\n",
                "            -- Match customer ID in the subquery with the outer query\r\n",
                "            FebOrders.custid = Orders.custid\r\n",
                "            AND \r\n",
                "            -- Match employee ID in the subquery with the outer query\r\n",
                "            FebOrders.empid = Orders.empid\r\n",
                "            AND\r\n",
                "            -- Filter for orders in February 2016\r\n",
                "            FebOrders.orderdate >= '2016-02-01' -- Orders on or after February 1, 2016\r\n",
                "            AND \r\n",
                "            FebOrders.orderdate < '2016-03-01'  -- But before March 1, 2016\r\n",
                "    );"
            ],
            "metadata": {
                "azdata_cell_guid": "6c8db1d6-223c-4acc-8cfd-bb82c670d1c4",
                "language": "sql",
                "tags": [
                    "hide_input"
                ]
            },
            "outputs": [],
            "execution_count": null
        },
        {
            "cell_type": "markdown",
            "source": [
                "### Proposition:\n",
                "\n",
                "- The query aims to find distinct pairs of customers and employees (`custid`, `empid`) from the `Sales.Orders` table who had order activity in January 2016 but not in February 2016.\n",
                "\n",
                "### Tables involved:\n",
                "\n",
                "- `Sales.Orders` (used twice, once as itself and once as the alias `FebOrders` in the subquery)\n",
                "\n",
                "### Columns:\n",
                "\n",
                "- `Orders.custid`: Customer ID from the Orders table\n",
                "- `Orders.empid`: Employee ID from the Orders table\n",
                "- `FebOrders.custid`: Customer ID from the subquery alias for the Orders table (for February orders)\n",
                "- `FebOrders.empid`: Employee ID from the subquery alias for the Orders table (for February orders)\n",
                "- `Orders.orderdate`: Order date from the Orders table\n",
                "- `FebOrders.orderdate`: Order date from the subquery alias for the Orders table (for February orders)\n",
                "\n",
                "### Predicate:\n",
                "\n",
                "- The main query selects distinct customer and employee pairs (`custid`, `empid`) from the Orders table.\n",
                "- The `WHERE` clause includes two parts:\n",
                "    1. Filtering orders made in January 2016:\n",
                "        - `Orders.orderdate >= '2016-01-01'`: Includes orders on or after January 1, 2016.\n",
                "        - `Orders.orderdate < '2016-02-01'`: Excludes orders on or after February 1, 2016.\n",
                "    2. Using `NOT EXISTS` to exclude pairs that had orders in February 2016. This is done by a subquery:\n",
                "        - The subquery checks for the existence of orders for the same customer and employee pairs in February 2016.\n",
                "        - Predicate for the subquery:\n",
                "            - `FebOrders.orderdate >= '2016-02-01'`: Includes orders on or after February 1, 2016.\n",
                "            - `FebOrders.orderdate < '2016-03-01'`: Excludes orders on or after March 1, 2016.\n",
                "        - The `NOT EXISTS` clause ensures that the pairs selected from the main query do not have a match in the subquery."
            ],
            "metadata": {
                "azdata_cell_guid": "1e05d5c2-69ea-42e8-befd-1c0012c9e86f"
            },
            "attachments": {}
        },
        {
            "cell_type": "markdown",
            "source": [
                "```\n",
                "-- 4\n",
                "-- Write a query that returns customer and employee pairs \n",
                "-- that had order activity in both January 2016 and February 2016\n",
                "-- Tables involved: TSQLV4 database, Orders table\n",
                "\n",
                "--Desired output\n",
                "custid      empid\n",
                "----------- -----------\n",
                "20          3\n",
                "39          9\n",
                "46          5\n",
                "67          1\n",
                "71          4\n",
                "\n",
                "```\n",
                "\n",
                "<span class=\"mi\" style=\"color: rgb(102, 102, 102);\"><br></span>"
            ],
            "metadata": {
                "azdata_cell_guid": "beab79b8-3f98-49d9-a643-cb6939dbaade"
            },
            "attachments": {}
        },
        {
            "cell_type": "code",
            "source": [
                "USE TSQLV4;\r\n",
                "\r\n",
                "SELECT DISTINCT \r\n",
                "    JanOrders.custid, -- Select the customer ID from January orders\r\n",
                "    JanOrders.empid   -- Select the employee ID from January orders\r\n",
                "FROM \r\n",
                "    Sales.Orders AS JanOrders -- Alias the Orders table as JanOrders for January orders\r\n",
                "WHERE \r\n",
                "    -- Filter January orders to include only those made in January 2016\r\n",
                "    JanOrders.orderdate >= '2016-01-01' -- Orders made on or after January 1, 2016\r\n",
                "    AND \r\n",
                "    JanOrders.orderdate < '2016-02-01'  -- But before February 1, 2016\r\n",
                "    AND\r\n",
                "    -- Ensure pairs also had orders in February 2016\r\n",
                "    EXISTS (\r\n",
                "        -- Subquery to identify orders in February 2016\r\n",
                "        SELECT 1 -- A constant value; used because EXISTS just checks for the existence of rows\r\n",
                "        FROM Sales.Orders as FebOrders -- Alias the Orders table as FebOrders for February orders\r\n",
                "        WHERE\r\n",
                "            -- Match customer ID in the subquery with the January orders\r\n",
                "            FebOrders.custid = JanOrders.custid\r\n",
                "            AND \r\n",
                "            -- Match employee ID in the subquery with the January orders\r\n",
                "            FebOrders.empid = JanOrders.empid\r\n",
                "            AND\r\n",
                "            -- Filter for orders in February 2016\r\n",
                "            FebOrders.orderdate >= '2016-02-01' -- Orders on or after February 1, 2016\r\n",
                "            AND \r\n",
                "            FebOrders.orderdate < '2016-03-01'  -- But before March 1, 2016\r\n",
                "    );\r\n",
                ""
            ],
            "metadata": {
                "azdata_cell_guid": "5977c8c4-812b-4672-a5d6-34f733a5698c",
                "language": "sql",
                "tags": [
                    "hide_input"
                ]
            },
            "outputs": [],
            "execution_count": null
        },
        {
            "cell_type": "markdown",
            "source": [
                "### Proposition:\n",
                "\n",
                "- The query is designed to identify distinct pairs of customers and employees (`custid`, `empid`) who had order activity in both January 2016 and February 2016.\n",
                "\n",
                "### Tables involved:\n",
                "\n",
                "- `Sales.Orders` (used twice with different aliases: `JanOrders` for January and `FebOrders` for February)\n",
                "\n",
                "### Columns:\n",
                "\n",
                "- `JanOrders.custid`: Customer ID from January orders\n",
                "- `JanOrders.empid`: Employee ID from January orders\n",
                "- `FebOrders.custid`: Customer ID from February orders in the subquery\n",
                "- `FebOrders.empid`: Employee ID from February orders in the subquery\n",
                "- `JanOrders.orderdate`: Order date from January orders\n",
                "- `FebOrders.orderdate`: Order date from February orders in the subquery\n",
                "\n",
                "### Predicate:\n",
                "\n",
                "- The query selects distinct pairs of customer and employee IDs (`custid`, `empid`) from orders made in January 2016.\n",
                "- The `WHERE` clause filters orders to those made in January 2016 (`JanOrders.orderdate` between '2016-01-01' and '2016-02-01').\n",
                "- The `EXISTS` clause is used to ensure that for each pair from January, there is at least one matching order in February 2016. This is checked in a subquery (`FebOrders`) with the same customer and employee IDs and order dates in February 2016 (`FebOrders.orderdate` between '2016-02-01' and '2016-03-01')."
            ],
            "metadata": {
                "azdata_cell_guid": "f327884e-a984-4976-9588-9fd183f2fd7c"
            },
            "attachments": {}
        },
        {
            "cell_type": "code",
            "source": [
                "USE TSQLV4;\r\n",
                "-- The INTERSECT ALL Multiset Operator (Optional, Advanced)\r\n",
                "SELECT\r\n",
                "  ROW_NUMBER() \r\n",
                "    OVER(PARTITION BY country, region, city\r\n",
                "         ORDER     BY (SELECT 0)) AS rownum,\r\n",
                "  country, region, city\r\n",
                "FROM HR.Employees\r\n",
                "\r\n",
                "INTERSECT\r\n",
                "\r\n",
                "SELECT\r\n",
                "  ROW_NUMBER() \r\n",
                "    OVER(PARTITION BY country, region, city\r\n",
                "         ORDER     BY (SELECT 0)),\r\n",
                "  country, region, city\r\n",
                "FROM Sales.Customers;"
            ],
            "metadata": {
                "azdata_cell_guid": "b4263552-05c3-4457-933c-c78169bb6609",
                "language": "sql"
            },
            "outputs": [],
            "execution_count": null
        },
        {
            "cell_type": "markdown",
            "source": [
                "<span style=\"color: rgb(13, 13, 13); font-family: Söhne, ui-sans-serif, system-ui, -apple-system, &quot;Segoe UI&quot;, Roboto, Ubuntu, Cantarell, &quot;Noto Sans&quot;, sans-serif, &quot;Helvetica Neue&quot;, Arial, &quot;Apple Color Emoji&quot;, &quot;Segoe UI Emoji&quot;, &quot;Segoe UI Symbol&quot;, &quot;Noto Color Emoji&quot;; font-size: 16px; white-space-collapse: preserve; background-color: rgb(255, 255, 255);\">Can you identify the shared geographic locations between our employees and customers? We're interested in pinpointing specific countries, regions, and cities where both our employees and customers are located, considering each unique combination of these geographical attributes.\"</span>\n",
                "\n",
                "<span style=\"color: rgb(13, 13, 13); font-family: Söhne, ui-sans-serif, system-ui, -apple-system, &quot;Segoe UI&quot;, Roboto, Ubuntu, Cantarell, &quot;Noto Sans&quot;, sans-serif, &quot;Helvetica Neue&quot;, Arial, &quot;Apple Color Emoji&quot;, &quot;Segoe UI Emoji&quot;, &quot;Segoe UI Symbol&quot;, &quot;Noto Color Emoji&quot;; font-size: 16px; white-space-collapse: preserve; background-color: rgb(255, 255, 255);\"><br></span>\n",
                "\n",
                "<span style=\"color: rgb(13, 13, 13); font-family: Söhne, ui-sans-serif, system-ui, -apple-system, &quot;Segoe UI&quot;, Roboto, Ubuntu, Cantarell, &quot;Noto Sans&quot;, sans-serif, &quot;Helvetica Neue&quot;, Arial, &quot;Apple Color Emoji&quot;, &quot;Segoe UI Emoji&quot;, &quot;Segoe UI Symbol&quot;, &quot;Noto Color Emoji&quot;; font-size: 16px; white-space-collapse: preserve; background-color: rgb(255, 255, 255);\">This question uses an </span> `INTERSECT`  <span style=\"color: rgb(13, 13, 13); font-family: Söhne, ui-sans-serif, system-ui, -apple-system, &quot;Segoe UI&quot;, Roboto, Ubuntu, Cantarell, &quot;Noto Sans&quot;, sans-serif, &quot;Helvetica Neue&quot;, Arial, &quot;Apple Color Emoji&quot;, &quot;Segoe UI Emoji&quot;, &quot;Segoe UI Symbol&quot;, &quot;Noto Color Emoji&quot;; font-size: 16px; white-space-collapse: preserve; background-color: rgb(255, 255, 255);\"> operation between the </span> `HR.Employees` <span style=\"color: rgb(13, 13, 13); font-family: Söhne, ui-sans-serif, system-ui, -apple-system, &quot;Segoe UI&quot;, Roboto, Ubuntu, Cantarell, &quot;Noto Sans&quot;, sans-serif, &quot;Helvetica Neue&quot;, Arial, &quot;Apple Color Emoji&quot;, &quot;Segoe UI Emoji&quot;, &quot;Segoe UI Symbol&quot;, &quot;Noto Color Emoji&quot;; font-size: 16px; white-space-collapse: preserve; background-color: rgb(255, 255, 255);\">and </span> `Sales.Customers` <span style=\"color: rgb(13, 13, 13); font-family: Söhne, ui-sans-serif, system-ui, -apple-system, &quot;Segoe UI&quot;, Roboto, Ubuntu, Cantarell, &quot;Noto Sans&quot;, sans-serif, &quot;Helvetica Neue&quot;, Arial, &quot;Apple Color Emoji&quot;, &quot;Segoe UI Emoji&quot;, &quot;Segoe UI Symbol&quot;, &quot;Noto Color Emoji&quot;; font-size: 16px; white-space-collapse: preserve; background-color: rgb(255, 255, 255);\">tables. It is focused on finding common geographic locations, considering each unique combination of country, region, and city.</span><span style=\"color: rgb(13, 13, 13); font-family: Söhne, ui-sans-serif, system-ui, -apple-system, &quot;Segoe UI&quot;, Roboto, Ubuntu, Cantarell, &quot;Noto Sans&quot;, sans-serif, &quot;Helvetica Neue&quot;, Arial, &quot;Apple Color Emoji&quot;, &quot;Segoe UI Emoji&quot;, &quot;Segoe UI Symbol&quot;, &quot;Noto Color Emoji&quot;; font-size: 16px; white-space-collapse: preserve; background-color: rgb(255, 255, 255);\"><br></span>"
            ],
            "metadata": {
                "azdata_cell_guid": "d184434c-db42-47f3-b920-b94e328c996e"
            },
            "attachments": {}
        },
        {
            "cell_type": "code",
            "source": [
                "USE TSQLV4;\r\n",
                "WITH INTERSECT_ALL\r\n",
                "AS\r\n",
                "(\r\n",
                "  SELECT\r\n",
                "    ROW_NUMBER() \r\n",
                "      OVER(PARTITION BY country, region, city\r\n",
                "           ORDER     BY (SELECT 0)) AS rownum,\r\n",
                "    country, region, city\r\n",
                "  FROM HR.Employees\r\n",
                "\r\n",
                "  INTERSECT\r\n",
                "\r\n",
                "  SELECT\r\n",
                "    ROW_NUMBER() \r\n",
                "      OVER(PARTITION BY country, region, city\r\n",
                "           ORDER     BY (SELECT 0)),\r\n",
                "    country, region, city\r\n",
                "  FROM Sales.Customers\r\n",
                ")\r\n",
                "SELECT country, region, city\r\n",
                "FROM INTERSECT_ALL;"
            ],
            "metadata": {
                "azdata_cell_guid": "85e8408c-fecf-44cd-bff2-9e41ce6ee3f0",
                "language": "sql",
                "tags": []
            },
            "outputs": [],
            "execution_count": null
        },
        {
            "cell_type": "markdown",
            "source": [
                "<span style=\"color: rgb(13, 13, 13); font-family: Söhne, ui-sans-serif, system-ui, -apple-system, &quot;Segoe UI&quot;, Roboto, Ubuntu, Cantarell, &quot;Noto Sans&quot;, sans-serif, &quot;Helvetica Neue&quot;, Arial, &quot;Apple Color Emoji&quot;, &quot;Segoe UI Emoji&quot;, &quot;Segoe UI Symbol&quot;, &quot;Noto Color Emoji&quot;; font-size: 16px; white-space-collapse: preserve; background-color: rgb(255, 255, 255);\">Could you provide a refined list of geographical areas where both our employees and customers are present, ensuring that we account for each unique occurrence of these locations in our records? We need this data structured for further detailed analysis.</span>\n",
                "\n",
                "<span style=\"color: rgb(13, 13, 13); font-family: Söhne, ui-sans-serif, system-ui, -apple-system, &quot;Segoe UI&quot;, Roboto, Ubuntu, Cantarell, &quot;Noto Sans&quot;, sans-serif, &quot;Helvetica Neue&quot;, Arial, &quot;Apple Color Emoji&quot;, &quot;Segoe UI Emoji&quot;, &quot;Segoe UI Symbol&quot;, &quot;Noto Color Emoji&quot;; font-size: 16px; white-space-collapse: preserve; background-color: rgb(255, 255, 255);\">This question aligns with the second query that utilizes a Common Table Expression (CTE) with an </span> `INTERSECT` <span style=\"color: rgb(13, 13, 13); font-family: Söhne, ui-sans-serif, system-ui, -apple-system, &quot;Segoe UI&quot;, Roboto, Ubuntu, Cantarell, &quot;Noto Sans&quot;, sans-serif, &quot;Helvetica Neue&quot;, Arial, &quot;Apple Color Emoji&quot;, &quot;Segoe UI Emoji&quot;, &quot;Segoe UI Symbol&quot;, &quot;Noto Color Emoji&quot;; font-size: 16px; white-space-collapse: preserve; background-color: rgb(255, 255, 255);\">operation. The use of a CTE suggests a need for a more structured approach, possibly for further processing or analysis. This query also focuses on identifying shared locations, but the structure implies a more complex analytical requirement or a step in a larger data processing workflow.</span><span style=\"color: rgb(13, 13, 13); font-family: Söhne, ui-sans-serif, system-ui, -apple-system, &quot;Segoe UI&quot;, Roboto, Ubuntu, Cantarell, &quot;Noto Sans&quot;, sans-serif, &quot;Helvetica Neue&quot;, Arial, &quot;Apple Color Emoji&quot;, &quot;Segoe UI Emoji&quot;, &quot;Segoe UI Symbol&quot;, &quot;Noto Color Emoji&quot;; font-size: 16px; white-space-collapse: preserve; background-color: rgb(255, 255, 255);\"><br></span>"
            ],
            "metadata": {
                "azdata_cell_guid": "61ca6f6b-85a5-4465-8a62-8bf5ece5c971"
            },
            "attachments": {}
        },
        {
            "cell_type": "code",
            "source": [
                "USE TSQLV4;\r\n",
                "-- The EXCEPT Distinct Set Operator\r\n",
                "\r\n",
                "-- Employees EXCEPT Customers\r\n",
                "SELECT country, region, city FROM HR.Employees\r\n",
                "EXCEPT\r\n",
                "SELECT country, region, city FROM Sales.Customers;"
            ],
            "metadata": {
                "azdata_cell_guid": "fea46824-9584-421b-b597-d4d1ad2e187e",
                "language": "sql"
            },
            "outputs": [],
            "execution_count": null
        },
        {
            "cell_type": "markdown",
            "source": [
                "<span style=\"color: rgb(13, 13, 13); font-family: Söhne, ui-sans-serif, system-ui, -apple-system, &quot;Segoe UI&quot;, Roboto, Ubuntu, Cantarell, &quot;Noto Sans&quot;, sans-serif, &quot;Helvetica Neue&quot;, Arial, &quot;Apple Color Emoji&quot;, &quot;Segoe UI Emoji&quot;, &quot;Segoe UI Symbol&quot;, &quot;Noto Color Emoji&quot;; font-size: 16px; white-space-collapse: preserve; background-color: rgb(255, 255, 255);\">\"Can you identify the geographical locations (country, region, city) where we have employees but no customers? We're looking to explore potential new markets or areas for customer outreach, focusing on regions where we already have an employee presence.\"</span>\n",
                "\n",
                "<span style=\"font-size: 16px; white-space-collapse: preserve;\"><br></span>\n",
                "\n",
                "<span style=\"color: rgb(13, 13, 13); font-family: Söhne, ui-sans-serif, system-ui, -apple-system, &quot;Segoe UI&quot;, Roboto, Ubuntu, Cantarell, &quot;Noto Sans&quot;, sans-serif, &quot;Helvetica Neue&quot;, Arial, &quot;Apple Color Emoji&quot;, &quot;Segoe UI Emoji&quot;, &quot;Segoe UI Symbol&quot;, &quot;Noto Color Emoji&quot;; font-size: 16px; white-space-collapse: preserve; background-color: rgb(255, 255, 255);\">This query finds locations that are exclusive to the </span> `HR.Employees` <span style=\"color: rgb(13, 13, 13); font-family: Söhne, ui-sans-serif, system-ui, -apple-system, &quot;Segoe UI&quot;, Roboto, Ubuntu, Cantarell, &quot;Noto Sans&quot;, sans-serif, &quot;Helvetica Neue&quot;, Arial, &quot;Apple Color Emoji&quot;, &quot;Segoe UI Emoji&quot;, &quot;Segoe UI Symbol&quot;, &quot;Noto Color Emoji&quot;; font-size: 16px; white-space-collapse: preserve; background-color: rgb(255, 255, 255);\"> table, meaning these locations are not present in the </span> `Sales.Customers` <span style=\"color: rgb(13, 13, 13); font-family: Söhne, ui-sans-serif, system-ui, -apple-system, &quot;Segoe UI&quot;, Roboto, Ubuntu, Cantarell, &quot;Noto Sans&quot;, sans-serif, &quot;Helvetica Neue&quot;, Arial, &quot;Apple Color Emoji&quot;, &quot;Segoe UI Emoji&quot;, &quot;Segoe UI Symbol&quot;, &quot;Noto Color Emoji&quot;; font-size: 16px; white-space-collapse: preserve; background-color: rgb(255, 255, 255);\"> table. The result would help in identifying potential new market areas or regions where the company might focus its customer acquisition efforts.</span><span style=\"color: rgb(13, 13, 13); font-family: Söhne, ui-sans-serif, system-ui, -apple-system, &quot;Segoe UI&quot;, Roboto, Ubuntu, Cantarell, &quot;Noto Sans&quot;, sans-serif, &quot;Helvetica Neue&quot;, Arial, &quot;Apple Color Emoji&quot;, &quot;Segoe UI Emoji&quot;, &quot;Segoe UI Symbol&quot;, &quot;Noto Color Emoji&quot;; font-size: 16px; white-space-collapse: preserve; background-color: rgb(255, 255, 255);\"><br></span>"
            ],
            "metadata": {
                "azdata_cell_guid": "b4485b2d-a7ab-4769-af25-864b54d11575"
            },
            "attachments": {}
        },
        {
            "cell_type": "code",
            "source": [
                "USE TSQLV4;\r\n",
                "-- Customers EXCEPT Employees\r\n",
                "SELECT country, region, city FROM Sales.Customers\r\n",
                "EXCEPT\r\n",
                "SELECT country, region, city FROM HR.Employees;"
            ],
            "metadata": {
                "azdata_cell_guid": "bf2e2f52-9440-451a-8e3d-15c599bb4908",
                "language": "sql"
            },
            "outputs": [],
            "execution_count": null
        },
        {
            "cell_type": "markdown",
            "source": [
                "<span style=\"color: rgb(13, 13, 13); font-family: Söhne, ui-sans-serif, system-ui, -apple-system, &quot;Segoe UI&quot;, Roboto, Ubuntu, Cantarell, &quot;Noto Sans&quot;, sans-serif, &quot;Helvetica Neue&quot;, Arial, &quot;Apple Color Emoji&quot;, &quot;Segoe UI Emoji&quot;, &quot;Segoe UI Symbol&quot;, &quot;Noto Color Emoji&quot;; font-size: 16px; white-space-collapse: preserve; background-color: rgb(255, 255, 255);\">\"Could you provide a list of geographical locations (country, region, city) where we have customers but no employees? We want to identify areas where our customer base is present, but we lack an employee footprint, for potential expansion of our operational staff.\"</span>\n",
                "\n",
                "<span style=\"color: rgb(13, 13, 13); font-family: Söhne, ui-sans-serif, system-ui, -apple-system, &quot;Segoe UI&quot;, Roboto, Ubuntu, Cantarell, &quot;Noto Sans&quot;, sans-serif, &quot;Helvetica Neue&quot;, Arial, &quot;Apple Color Emoji&quot;, &quot;Segoe UI Emoji&quot;, &quot;Segoe UI Symbol&quot;, &quot;Noto Color Emoji&quot;; font-size: 16px; white-space-collapse: preserve; background-color: rgb(255, 255, 255);\"><br></span>\n",
                "\n",
                "<span style=\"color: rgb(13, 13, 13); font-family: Söhne, ui-sans-serif, system-ui, -apple-system, &quot;Segoe UI&quot;, Roboto, Ubuntu, Cantarell, &quot;Noto Sans&quot;, sans-serif, &quot;Helvetica Neue&quot;, Arial, &quot;Apple Color Emoji&quot;, &quot;Segoe UI Emoji&quot;, &quot;Segoe UI Symbol&quot;, &quot;Noto Color Emoji&quot;; font-size: 16px; white-space-collapse: preserve; background-color: rgb(255, 255, 255);\">This query identifies locations that are exclusive to the </span> `Sales.Customers` <span style=\"color: rgb(13, 13, 13); font-family: Söhne, ui-sans-serif, system-ui, -apple-system, &quot;Segoe UI&quot;, Roboto, Ubuntu, Cantarell, &quot;Noto Sans&quot;, sans-serif, &quot;Helvetica Neue&quot;, Arial, &quot;Apple Color Emoji&quot;, &quot;Segoe UI Emoji&quot;, &quot;Segoe UI Symbol&quot;, &quot;Noto Color Emoji&quot;; font-size: 16px; white-space-collapse: preserve; background-color: rgb(255, 255, 255);\"> table, meaning these locations are not present in the </span> `HR.Employees` <span style=\"color: rgb(13, 13, 13); font-family: Söhne, ui-sans-serif, system-ui, -apple-system, &quot;Segoe UI&quot;, Roboto, Ubuntu, Cantarell, &quot;Noto Sans&quot;, sans-serif, &quot;Helvetica Neue&quot;, Arial, &quot;Apple Color Emoji&quot;, &quot;Segoe UI Emoji&quot;, &quot;Segoe UI Symbol&quot;, &quot;Noto Color Emoji&quot;; font-size: 16px; white-space-collapse: preserve; background-color: rgb(255, 255, 255);\"> table. The results will highlight areas where the company has a customer presence but currently does not have any employees, which could be crucial for strategic planning, especially in terms of expanding staff or establishing new offices.</span><span style=\"color: rgb(13, 13, 13); font-family: Söhne, ui-sans-serif, system-ui, -apple-system, &quot;Segoe UI&quot;, Roboto, Ubuntu, Cantarell, &quot;Noto Sans&quot;, sans-serif, &quot;Helvetica Neue&quot;, Arial, &quot;Apple Color Emoji&quot;, &quot;Segoe UI Emoji&quot;, &quot;Segoe UI Symbol&quot;, &quot;Noto Color Emoji&quot;; font-size: 16px; white-space-collapse: preserve; background-color: rgb(255, 255, 255);\"><br></span>"
            ],
            "metadata": {
                "azdata_cell_guid": "35e653ea-06e9-4c05-b097-330a32521666"
            },
            "attachments": {}
        },
        {
            "cell_type": "markdown",
            "source": [
                "Written in collaboration with **ChatGPT** from **OpenAI** to improve understanding and assist with the explanation of the query."
            ],
            "metadata": {
                "azdata_cell_guid": "c7c0221f-9170-46a0-9699-c60a16069d16"
            },
            "attachments": {}
        }
    ]
}