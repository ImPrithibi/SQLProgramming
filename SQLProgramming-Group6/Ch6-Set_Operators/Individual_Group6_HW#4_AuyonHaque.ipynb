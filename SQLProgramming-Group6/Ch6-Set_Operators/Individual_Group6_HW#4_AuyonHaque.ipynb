{
    "metadata": {
        "kernelspec": {
            "name": "SQL",
            "display_name": "SQL",
            "language": "sql"
        },
        "language_info": {
            "name": "sql",
            "version": ""
        }
    },
    "nbformat_minor": 2,
    "nbformat": 4,
    "cells": [
        {
            "cell_type": "markdown",
            "source": [
                "```\n",
                "-- 6 (Optional, Advanced)\n",
                "-- You are given the following query:\n",
                "SELECT country, region, city\n",
                "FROM HR.Employees\n",
                "\n",
                "UNION ALL\n",
                "\n",
                "SELECT country, region, city\n",
                "FROM Production.Suppliers;\n",
                "\n",
                "-- You are asked to add logic to the query \n",
                "-- such that it would guarantee that the rows from Employees\n",
                "-- would be returned in the output before the rows from Suppliers,\n",
                "-- and within each segment, the rows should be sorted\n",
                "-- by country, region, city\n",
                "-- Tables involved: TSQLV4 database, Employees and Suppliers tables\n",
                "\n",
                "--Desired output\n",
                "country         region          city\n",
                "--------------- --------------- ---------------\n",
                "UK              NULL            London\n",
                "UK              NULL            London\n",
                "UK              NULL            London\n",
                "UK              NULL            London\n",
                "USA             WA              Kirkland\n",
                "USA             WA              Redmond\n",
                "USA             WA              Seattle\n",
                "USA             WA              Seattle\n",
                "USA             WA              Tacoma\n",
                "Australia       NSW             Sydney\n",
                "Australia       Victoria        Melbourne\n",
                "Brazil          NULL            Sao Paulo\n",
                "Canada          Québec          Montréal\n",
                "Canada          Québec          Ste-Hyacinthe\n",
                "Denmark         NULL            Lyngby\n",
                "Finland         NULL            Lappeenranta\n",
                "France          NULL            Annecy\n",
                "France          NULL            Montceau\n",
                "France          NULL            Paris\n",
                "Germany         NULL            Berlin\n",
                "Germany         NULL            Cuxhaven\n",
                "Germany         NULL            Frankfurt\n",
                "Italy           NULL            Ravenna\n",
                "Italy           NULL            Salerno\n",
                "Japan           NULL            Osaka\n",
                "Japan           NULL            Tokyo\n",
                "Netherlands     NULL            Zaandam\n",
                "Norway          NULL            Sandvika\n",
                "Singapore       NULL            Singapore\n",
                "Spain           Asturias        Oviedo\n",
                "Sweden          NULL            Göteborg\n",
                "Sweden          NULL            Stockholm\n",
                "UK              NULL            London\n",
                "UK              NULL            Manchester\n",
                "USA             LA              New Orleans\n",
                "USA             MA              Boston\n",
                "USA             MI              Ann Arbor\n",
                "USA             OR              Bend\n",
                "\n",
                "(38 row(s) affected)\n",
                "```"
            ],
            "metadata": {
                "azdata_cell_guid": "9b65807c-682a-47b6-a65d-d5ec8b6a7525"
            },
            "attachments": {}
        },
        {
            "cell_type": "markdown",
            "source": [
                "**TSQLV6/NORTHWINDS QUERY**\n",
                "\n",
                "<span style=\"color: var(--vscode-foreground);\"><b>Problem</b>: we want to add</span> logic to the query such that it would guarantee that the rows from Employees would be returned in the output before the rows from Suppliers, and within each segment, the rows should be sorted by country, region, city\n",
                "\n",
                "**Tables:**\n",
                "\n",
                "- Employees\n",
                "- Supplies\n",
                "\n",
                "**Columns:**\n",
                "\n",
                "- country\n",
                "    \n",
                "- region\n",
                "    \n",
                "- city\n",
                "    \n",
                "\n",
                "**Predicate: N/A no where cause**\n",
                "\n",
                "**Union ALL is set operation that connects the results the between the select statements**"
            ],
            "metadata": {
                "azdata_cell_guid": "e7569a2c-a01c-4aca-ad79-62d284fc3224"
            },
            "attachments": {}
        },
        {
            "cell_type": "code",
            "source": [
                "-- QUERY WE WANT TO MODIFY \r\n",
                "USE TSQLV6;\r\n",
                "SELECT country, region, city\r\n",
                "FROM HR.Employees\r\n",
                "\r\n",
                "UNION ALL\r\n",
                "\r\n",
                "SELECT country, region, city\r\n",
                "FROM Production.Suppliers;\r\n",
                "\r\n",
                "--NORTHWINDS\r\n",
                "\r\n",
                "USE Northwinds2022TSQLV7;\r\n",
                "SELECT EmployeeCountry, EmployeeRegion, EmployeeCity\r\n",
                "FROM HumanResources.Employee\r\n",
                "\r\n",
                "UNION ALL\r\n",
                "\r\n",
                "SELECT SupplierCountry, SupplierCountry, SupplierCity\r\n",
                "FROM Production.Supplier;\r\n",
                ""
            ],
            "metadata": {
                "azdata_cell_guid": "b7a12e1e-4d6d-4fd3-9747-656936ad250a",
                "language": "sql"
            },
            "outputs": [
                {
                    "output_type": "display_data",
                    "data": {
                        "text/html": "(38 rows affected)"
                    },
                    "metadata": {}
                },
                {
                    "output_type": "display_data",
                    "data": {
                        "text/html": "(38 rows affected)"
                    },
                    "metadata": {}
                },
                {
                    "output_type": "display_data",
                    "data": {
                        "text/html": "Total execution time: 00:00:00.007"
                    },
                    "metadata": {}
                },
                {
                    "output_type": "execute_result",
                    "execution_count": 2,
                    "data": {
                        "application/vnd.dataresource+json": {
                            "schema": {
                                "fields": [
                                    {
                                        "name": "country"
                                    },
                                    {
                                        "name": "region"
                                    },
                                    {
                                        "name": "city"
                                    }
                                ]
                            },
                            "data": [
                                {
                                    "country": "USA",
                                    "region": "WA",
                                    "city": "Seattle"
                                },
                                {
                                    "country": "USA",
                                    "region": "WA",
                                    "city": "Tacoma"
                                },
                                {
                                    "country": "USA",
                                    "region": "WA",
                                    "city": "Kirkland"
                                },
                                {
                                    "country": "USA",
                                    "region": "WA",
                                    "city": "Redmond"
                                },
                                {
                                    "country": "UK",
                                    "region": "NULL",
                                    "city": "London"
                                },
                                {
                                    "country": "UK",
                                    "region": "NULL",
                                    "city": "London"
                                },
                                {
                                    "country": "UK",
                                    "region": "NULL",
                                    "city": "London"
                                },
                                {
                                    "country": "USA",
                                    "region": "WA",
                                    "city": "Seattle"
                                },
                                {
                                    "country": "UK",
                                    "region": "NULL",
                                    "city": "London"
                                },
                                {
                                    "country": "UK",
                                    "region": "NULL",
                                    "city": "London"
                                },
                                {
                                    "country": "USA",
                                    "region": "LA",
                                    "city": "New Orleans"
                                },
                                {
                                    "country": "USA",
                                    "region": "MI",
                                    "city": "Ann Arbor"
                                },
                                {
                                    "country": "Japan",
                                    "region": "NULL",
                                    "city": "Tokyo"
                                },
                                {
                                    "country": "Spain",
                                    "region": "Asturias",
                                    "city": "Oviedo"
                                },
                                {
                                    "country": "Japan",
                                    "region": "NULL",
                                    "city": "Osaka"
                                },
                                {
                                    "country": "Australia",
                                    "region": "Victoria",
                                    "city": "Melbourne"
                                },
                                {
                                    "country": "UK",
                                    "region": "NULL",
                                    "city": "Manchester"
                                },
                                {
                                    "country": "Sweden",
                                    "region": "NULL",
                                    "city": "Göteborg"
                                },
                                {
                                    "country": "Brazil",
                                    "region": "NULL",
                                    "city": "Sao Paulo"
                                },
                                {
                                    "country": "Germany",
                                    "region": "NULL",
                                    "city": "Berlin"
                                },
                                {
                                    "country": "Germany",
                                    "region": "NULL",
                                    "city": "Frankfurt"
                                },
                                {
                                    "country": "Germany",
                                    "region": "NULL",
                                    "city": "Cuxhaven"
                                },
                                {
                                    "country": "Italy",
                                    "region": "NULL",
                                    "city": "Ravenna"
                                },
                                {
                                    "country": "Norway",
                                    "region": "NULL",
                                    "city": "Sandvika"
                                },
                                {
                                    "country": "USA",
                                    "region": "OR",
                                    "city": "Bend"
                                },
                                {
                                    "country": "Sweden",
                                    "region": "NULL",
                                    "city": "Stockholm"
                                },
                                {
                                    "country": "France",
                                    "region": "NULL",
                                    "city": "Paris"
                                },
                                {
                                    "country": "USA",
                                    "region": "MA",
                                    "city": "Boston"
                                },
                                {
                                    "country": "Singapore",
                                    "region": "NULL",
                                    "city": "Singapore"
                                },
                                {
                                    "country": "Denmark",
                                    "region": "NULL",
                                    "city": "Lyngby"
                                },
                                {
                                    "country": "Netherlands",
                                    "region": "NULL",
                                    "city": "Zaandam"
                                },
                                {
                                    "country": "Finland",
                                    "region": "NULL",
                                    "city": "Lappeenranta"
                                },
                                {
                                    "country": "Australia",
                                    "region": "NSW",
                                    "city": "Sydney"
                                },
                                {
                                    "country": "Canada",
                                    "region": "Québec",
                                    "city": "Montréal"
                                },
                                {
                                    "country": "Italy",
                                    "region": "NULL",
                                    "city": "Salerno"
                                },
                                {
                                    "country": "France",
                                    "region": "NULL",
                                    "city": "Montceau"
                                },
                                {
                                    "country": "France",
                                    "region": "NULL",
                                    "city": "Annecy"
                                },
                                {
                                    "country": "Canada",
                                    "region": "Québec",
                                    "city": "Ste-Hyacinthe"
                                }
                            ]
                        },
                        "text/html": "<table><tr><th>country</th><th>region</th><th>city</th></tr><tr><td>USA</td><td>WA</td><td>Seattle</td></tr><tr><td>USA</td><td>WA</td><td>Tacoma</td></tr><tr><td>USA</td><td>WA</td><td>Kirkland</td></tr><tr><td>USA</td><td>WA</td><td>Redmond</td></tr><tr><td>UK</td><td>NULL</td><td>London</td></tr><tr><td>UK</td><td>NULL</td><td>London</td></tr><tr><td>UK</td><td>NULL</td><td>London</td></tr><tr><td>USA</td><td>WA</td><td>Seattle</td></tr><tr><td>UK</td><td>NULL</td><td>London</td></tr><tr><td>UK</td><td>NULL</td><td>London</td></tr><tr><td>USA</td><td>LA</td><td>New Orleans</td></tr><tr><td>USA</td><td>MI</td><td>Ann Arbor</td></tr><tr><td>Japan</td><td>NULL</td><td>Tokyo</td></tr><tr><td>Spain</td><td>Asturias</td><td>Oviedo</td></tr><tr><td>Japan</td><td>NULL</td><td>Osaka</td></tr><tr><td>Australia</td><td>Victoria</td><td>Melbourne</td></tr><tr><td>UK</td><td>NULL</td><td>Manchester</td></tr><tr><td>Sweden</td><td>NULL</td><td>Göteborg</td></tr><tr><td>Brazil</td><td>NULL</td><td>Sao Paulo</td></tr><tr><td>Germany</td><td>NULL</td><td>Berlin</td></tr><tr><td>Germany</td><td>NULL</td><td>Frankfurt</td></tr><tr><td>Germany</td><td>NULL</td><td>Cuxhaven</td></tr><tr><td>Italy</td><td>NULL</td><td>Ravenna</td></tr><tr><td>Norway</td><td>NULL</td><td>Sandvika</td></tr><tr><td>USA</td><td>OR</td><td>Bend</td></tr><tr><td>Sweden</td><td>NULL</td><td>Stockholm</td></tr><tr><td>France</td><td>NULL</td><td>Paris</td></tr><tr><td>USA</td><td>MA</td><td>Boston</td></tr><tr><td>Singapore</td><td>NULL</td><td>Singapore</td></tr><tr><td>Denmark</td><td>NULL</td><td>Lyngby</td></tr><tr><td>Netherlands</td><td>NULL</td><td>Zaandam</td></tr><tr><td>Finland</td><td>NULL</td><td>Lappeenranta</td></tr><tr><td>Australia</td><td>NSW</td><td>Sydney</td></tr><tr><td>Canada</td><td>Québec</td><td>Montréal</td></tr><tr><td>Italy</td><td>NULL</td><td>Salerno</td></tr><tr><td>France</td><td>NULL</td><td>Montceau</td></tr><tr><td>France</td><td>NULL</td><td>Annecy</td></tr><tr><td>Canada</td><td>Québec</td><td>Ste-Hyacinthe</td></tr></table>"
                    },
                    "metadata": {}
                },
                {
                    "output_type": "execute_result",
                    "execution_count": 2,
                    "data": {
                        "application/vnd.dataresource+json": {
                            "schema": {
                                "fields": [
                                    {
                                        "name": "EmployeeCountry"
                                    },
                                    {
                                        "name": "EmployeeRegion"
                                    },
                                    {
                                        "name": "EmployeeCity"
                                    }
                                ]
                            },
                            "data": [
                                {
                                    "EmployeeCountry": "USA",
                                    "EmployeeRegion": "WA",
                                    "EmployeeCity": "Seattle"
                                },
                                {
                                    "EmployeeCountry": "USA",
                                    "EmployeeRegion": "WA",
                                    "EmployeeCity": "Tacoma"
                                },
                                {
                                    "EmployeeCountry": "USA",
                                    "EmployeeRegion": "WA",
                                    "EmployeeCity": "Kirkland"
                                },
                                {
                                    "EmployeeCountry": "USA",
                                    "EmployeeRegion": "WA",
                                    "EmployeeCity": "Redmond"
                                },
                                {
                                    "EmployeeCountry": "UK",
                                    "EmployeeRegion": "NULL",
                                    "EmployeeCity": "London"
                                },
                                {
                                    "EmployeeCountry": "UK",
                                    "EmployeeRegion": "NULL",
                                    "EmployeeCity": "London"
                                },
                                {
                                    "EmployeeCountry": "UK",
                                    "EmployeeRegion": "NULL",
                                    "EmployeeCity": "London"
                                },
                                {
                                    "EmployeeCountry": "USA",
                                    "EmployeeRegion": "WA",
                                    "EmployeeCity": "Seattle"
                                },
                                {
                                    "EmployeeCountry": "UK",
                                    "EmployeeRegion": "NULL",
                                    "EmployeeCity": "London"
                                },
                                {
                                    "EmployeeCountry": "UK",
                                    "EmployeeRegion": "UK",
                                    "EmployeeCity": "London"
                                },
                                {
                                    "EmployeeCountry": "USA",
                                    "EmployeeRegion": "USA",
                                    "EmployeeCity": "New Orleans"
                                },
                                {
                                    "EmployeeCountry": "USA",
                                    "EmployeeRegion": "USA",
                                    "EmployeeCity": "Ann Arbor"
                                },
                                {
                                    "EmployeeCountry": "Japan",
                                    "EmployeeRegion": "Japan",
                                    "EmployeeCity": "Tokyo"
                                },
                                {
                                    "EmployeeCountry": "Spain",
                                    "EmployeeRegion": "Spain",
                                    "EmployeeCity": "Oviedo"
                                },
                                {
                                    "EmployeeCountry": "Japan",
                                    "EmployeeRegion": "Japan",
                                    "EmployeeCity": "Osaka"
                                },
                                {
                                    "EmployeeCountry": "Australia",
                                    "EmployeeRegion": "Australia",
                                    "EmployeeCity": "Melbourne"
                                },
                                {
                                    "EmployeeCountry": "UK",
                                    "EmployeeRegion": "UK",
                                    "EmployeeCity": "Manchester"
                                },
                                {
                                    "EmployeeCountry": "Sweden",
                                    "EmployeeRegion": "Sweden",
                                    "EmployeeCity": "Göteborg"
                                },
                                {
                                    "EmployeeCountry": "Brazil",
                                    "EmployeeRegion": "Brazil",
                                    "EmployeeCity": "Sao Paulo"
                                },
                                {
                                    "EmployeeCountry": "Germany",
                                    "EmployeeRegion": "Germany",
                                    "EmployeeCity": "Berlin"
                                },
                                {
                                    "EmployeeCountry": "Germany",
                                    "EmployeeRegion": "Germany",
                                    "EmployeeCity": "Frankfurt"
                                },
                                {
                                    "EmployeeCountry": "Germany",
                                    "EmployeeRegion": "Germany",
                                    "EmployeeCity": "Cuxhaven"
                                },
                                {
                                    "EmployeeCountry": "Italy",
                                    "EmployeeRegion": "Italy",
                                    "EmployeeCity": "Ravenna"
                                },
                                {
                                    "EmployeeCountry": "Norway",
                                    "EmployeeRegion": "Norway",
                                    "EmployeeCity": "Sandvika"
                                },
                                {
                                    "EmployeeCountry": "USA",
                                    "EmployeeRegion": "USA",
                                    "EmployeeCity": "Bend"
                                },
                                {
                                    "EmployeeCountry": "Sweden",
                                    "EmployeeRegion": "Sweden",
                                    "EmployeeCity": "Stockholm"
                                },
                                {
                                    "EmployeeCountry": "France",
                                    "EmployeeRegion": "France",
                                    "EmployeeCity": "Paris"
                                },
                                {
                                    "EmployeeCountry": "USA",
                                    "EmployeeRegion": "USA",
                                    "EmployeeCity": "Boston"
                                },
                                {
                                    "EmployeeCountry": "Singapore",
                                    "EmployeeRegion": "Singapore",
                                    "EmployeeCity": "Singapore"
                                },
                                {
                                    "EmployeeCountry": "Denmark",
                                    "EmployeeRegion": "Denmark",
                                    "EmployeeCity": "Lyngby"
                                },
                                {
                                    "EmployeeCountry": "Netherlands",
                                    "EmployeeRegion": "Netherlands",
                                    "EmployeeCity": "Zaandam"
                                },
                                {
                                    "EmployeeCountry": "Finland",
                                    "EmployeeRegion": "Finland",
                                    "EmployeeCity": "Lappeenranta"
                                },
                                {
                                    "EmployeeCountry": "Australia",
                                    "EmployeeRegion": "Australia",
                                    "EmployeeCity": "Sydney"
                                },
                                {
                                    "EmployeeCountry": "Canada",
                                    "EmployeeRegion": "Canada",
                                    "EmployeeCity": "Montréal"
                                },
                                {
                                    "EmployeeCountry": "Italy",
                                    "EmployeeRegion": "Italy",
                                    "EmployeeCity": "Salerno"
                                },
                                {
                                    "EmployeeCountry": "France",
                                    "EmployeeRegion": "France",
                                    "EmployeeCity": "Montceau"
                                },
                                {
                                    "EmployeeCountry": "France",
                                    "EmployeeRegion": "France",
                                    "EmployeeCity": "Annecy"
                                },
                                {
                                    "EmployeeCountry": "Canada",
                                    "EmployeeRegion": "Canada",
                                    "EmployeeCity": "Ste-Hyacinthe"
                                }
                            ]
                        },
                        "text/html": "<table><tr><th>EmployeeCountry</th><th>EmployeeRegion</th><th>EmployeeCity</th></tr><tr><td>USA</td><td>WA</td><td>Seattle</td></tr><tr><td>USA</td><td>WA</td><td>Tacoma</td></tr><tr><td>USA</td><td>WA</td><td>Kirkland</td></tr><tr><td>USA</td><td>WA</td><td>Redmond</td></tr><tr><td>UK</td><td>NULL</td><td>London</td></tr><tr><td>UK</td><td>NULL</td><td>London</td></tr><tr><td>UK</td><td>NULL</td><td>London</td></tr><tr><td>USA</td><td>WA</td><td>Seattle</td></tr><tr><td>UK</td><td>NULL</td><td>London</td></tr><tr><td>UK</td><td>UK</td><td>London</td></tr><tr><td>USA</td><td>USA</td><td>New Orleans</td></tr><tr><td>USA</td><td>USA</td><td>Ann Arbor</td></tr><tr><td>Japan</td><td>Japan</td><td>Tokyo</td></tr><tr><td>Spain</td><td>Spain</td><td>Oviedo</td></tr><tr><td>Japan</td><td>Japan</td><td>Osaka</td></tr><tr><td>Australia</td><td>Australia</td><td>Melbourne</td></tr><tr><td>UK</td><td>UK</td><td>Manchester</td></tr><tr><td>Sweden</td><td>Sweden</td><td>Göteborg</td></tr><tr><td>Brazil</td><td>Brazil</td><td>Sao Paulo</td></tr><tr><td>Germany</td><td>Germany</td><td>Berlin</td></tr><tr><td>Germany</td><td>Germany</td><td>Frankfurt</td></tr><tr><td>Germany</td><td>Germany</td><td>Cuxhaven</td></tr><tr><td>Italy</td><td>Italy</td><td>Ravenna</td></tr><tr><td>Norway</td><td>Norway</td><td>Sandvika</td></tr><tr><td>USA</td><td>USA</td><td>Bend</td></tr><tr><td>Sweden</td><td>Sweden</td><td>Stockholm</td></tr><tr><td>France</td><td>France</td><td>Paris</td></tr><tr><td>USA</td><td>USA</td><td>Boston</td></tr><tr><td>Singapore</td><td>Singapore</td><td>Singapore</td></tr><tr><td>Denmark</td><td>Denmark</td><td>Lyngby</td></tr><tr><td>Netherlands</td><td>Netherlands</td><td>Zaandam</td></tr><tr><td>Finland</td><td>Finland</td><td>Lappeenranta</td></tr><tr><td>Australia</td><td>Australia</td><td>Sydney</td></tr><tr><td>Canada</td><td>Canada</td><td>Montréal</td></tr><tr><td>Italy</td><td>Italy</td><td>Salerno</td></tr><tr><td>France</td><td>France</td><td>Montceau</td></tr><tr><td>France</td><td>France</td><td>Annecy</td></tr><tr><td>Canada</td><td>Canada</td><td>Ste-Hyacinthe</td></tr></table>"
                    },
                    "metadata": {}
                }
            ],
            "execution_count": 2
        },
        {
            "cell_type": "markdown",
            "source": [
                "**TSQLV6/NORTHWINDS QUERY**\n",
                "\n",
                "<span style=\"color: var(--vscode-foreground);\"><b>Problem</b>: we want to add</span> logic to the query such that it would guarantee that the rows from Employees would be returned in the output before the rows from Suppliers, and within each segment, the rows should be sorted by country, region, city\n",
                "\n",
                "**Tables:**\n",
                "\n",
                "- Employees\n",
                "- Supplies\n",
                "\n",
                "**Columns:**\n",
                "\n",
                "- country\n",
                "    \n",
                "- region\n",
                "    \n",
                "- city\n",
                "    \n",
                "\n",
                "**Predicate: N/A no where cause**\n",
                "\n",
                "**Union ALL is set operation that connects the results the between the select statements**\n",
                "\n",
                "**However its important to take note of the common table expression 'Combined'. This table is taking the data from the suppliers and employee table and matching them on our three columns. Source order another column we created to track where the data is coming from 1 being employees and 2 being suppliers.**"
            ],
            "metadata": {
                "azdata_cell_guid": "7065708a-e1dc-4048-bb70-db4fbb314e3a"
            },
            "attachments": {}
        },
        {
            "cell_type": "code",
            "source": [
                "USE TSQLV6;\r\n",
                "WITH Combined AS (\r\n",
                "  SELECT country, region, city, 1 AS SourceOrder\r\n",
                "  FROM HR.Employees\r\n",
                "  UNION ALL\r\n",
                "  SELECT country, region, city, 2 AS SourceOrder\r\n",
                "  FROM Production.Suppliers\r\n",
                ")\r\n",
                "SELECT country, region, city\r\n",
                "FROM Combined\r\n",
                "ORDER BY SourceOrder, country, region, city;\r\n",
                "\r\n",
                "--NORTHWINDS \r\n",
                "USE Northwinds2022TSQLV7;\r\n",
                "WITH Combined AS (\r\n",
                "  SELECT EmployeeCountry, EmployeeRegion, EmployeeCity, 1 AS SourceOrder\r\n",
                "  FROM HumanResources.Employee\r\n",
                "  UNION ALL\r\n",
                "  SELECT SupplierCountry, SupplierRegion, SupplierCity, 2 AS SourceOrder\r\n",
                "  FROM Production.Supplier\r\n",
                ")\r\n",
                "SELECT EmployeeCountry, EmployeeRegion, EmployeeCity\r\n",
                "FROM Combined\r\n",
                "ORDER BY SourceOrder, EmployeeCountry, EmployeeRegion, EmployeeCity;"
            ],
            "metadata": {
                "language": "sql",
                "azdata_cell_guid": "dbd03b5c-2b45-480d-bb25-3d7014142011"
            },
            "outputs": [
                {
                    "output_type": "display_data",
                    "data": {
                        "text/html": "(38 rows affected)"
                    },
                    "metadata": {}
                },
                {
                    "output_type": "display_data",
                    "data": {
                        "text/html": "(38 rows affected)"
                    },
                    "metadata": {}
                },
                {
                    "output_type": "display_data",
                    "data": {
                        "text/html": "Total execution time: 00:00:00.012"
                    },
                    "metadata": {}
                },
                {
                    "output_type": "execute_result",
                    "execution_count": 3,
                    "data": {
                        "application/vnd.dataresource+json": {
                            "schema": {
                                "fields": [
                                    {
                                        "name": "country"
                                    },
                                    {
                                        "name": "region"
                                    },
                                    {
                                        "name": "city"
                                    }
                                ]
                            },
                            "data": [
                                {
                                    "country": "UK",
                                    "region": "NULL",
                                    "city": "London"
                                },
                                {
                                    "country": "UK",
                                    "region": "NULL",
                                    "city": "London"
                                },
                                {
                                    "country": "UK",
                                    "region": "NULL",
                                    "city": "London"
                                },
                                {
                                    "country": "UK",
                                    "region": "NULL",
                                    "city": "London"
                                },
                                {
                                    "country": "USA",
                                    "region": "WA",
                                    "city": "Kirkland"
                                },
                                {
                                    "country": "USA",
                                    "region": "WA",
                                    "city": "Redmond"
                                },
                                {
                                    "country": "USA",
                                    "region": "WA",
                                    "city": "Seattle"
                                },
                                {
                                    "country": "USA",
                                    "region": "WA",
                                    "city": "Seattle"
                                },
                                {
                                    "country": "USA",
                                    "region": "WA",
                                    "city": "Tacoma"
                                },
                                {
                                    "country": "Australia",
                                    "region": "NSW",
                                    "city": "Sydney"
                                },
                                {
                                    "country": "Australia",
                                    "region": "Victoria",
                                    "city": "Melbourne"
                                },
                                {
                                    "country": "Brazil",
                                    "region": "NULL",
                                    "city": "Sao Paulo"
                                },
                                {
                                    "country": "Canada",
                                    "region": "Québec",
                                    "city": "Montréal"
                                },
                                {
                                    "country": "Canada",
                                    "region": "Québec",
                                    "city": "Ste-Hyacinthe"
                                },
                                {
                                    "country": "Denmark",
                                    "region": "NULL",
                                    "city": "Lyngby"
                                },
                                {
                                    "country": "Finland",
                                    "region": "NULL",
                                    "city": "Lappeenranta"
                                },
                                {
                                    "country": "France",
                                    "region": "NULL",
                                    "city": "Annecy"
                                },
                                {
                                    "country": "France",
                                    "region": "NULL",
                                    "city": "Montceau"
                                },
                                {
                                    "country": "France",
                                    "region": "NULL",
                                    "city": "Paris"
                                },
                                {
                                    "country": "Germany",
                                    "region": "NULL",
                                    "city": "Berlin"
                                },
                                {
                                    "country": "Germany",
                                    "region": "NULL",
                                    "city": "Cuxhaven"
                                },
                                {
                                    "country": "Germany",
                                    "region": "NULL",
                                    "city": "Frankfurt"
                                },
                                {
                                    "country": "Italy",
                                    "region": "NULL",
                                    "city": "Ravenna"
                                },
                                {
                                    "country": "Italy",
                                    "region": "NULL",
                                    "city": "Salerno"
                                },
                                {
                                    "country": "Japan",
                                    "region": "NULL",
                                    "city": "Osaka"
                                },
                                {
                                    "country": "Japan",
                                    "region": "NULL",
                                    "city": "Tokyo"
                                },
                                {
                                    "country": "Netherlands",
                                    "region": "NULL",
                                    "city": "Zaandam"
                                },
                                {
                                    "country": "Norway",
                                    "region": "NULL",
                                    "city": "Sandvika"
                                },
                                {
                                    "country": "Singapore",
                                    "region": "NULL",
                                    "city": "Singapore"
                                },
                                {
                                    "country": "Spain",
                                    "region": "Asturias",
                                    "city": "Oviedo"
                                },
                                {
                                    "country": "Sweden",
                                    "region": "NULL",
                                    "city": "Göteborg"
                                },
                                {
                                    "country": "Sweden",
                                    "region": "NULL",
                                    "city": "Stockholm"
                                },
                                {
                                    "country": "UK",
                                    "region": "NULL",
                                    "city": "London"
                                },
                                {
                                    "country": "UK",
                                    "region": "NULL",
                                    "city": "Manchester"
                                },
                                {
                                    "country": "USA",
                                    "region": "LA",
                                    "city": "New Orleans"
                                },
                                {
                                    "country": "USA",
                                    "region": "MA",
                                    "city": "Boston"
                                },
                                {
                                    "country": "USA",
                                    "region": "MI",
                                    "city": "Ann Arbor"
                                },
                                {
                                    "country": "USA",
                                    "region": "OR",
                                    "city": "Bend"
                                }
                            ]
                        },
                        "text/html": "<table><tr><th>country</th><th>region</th><th>city</th></tr><tr><td>UK</td><td>NULL</td><td>London</td></tr><tr><td>UK</td><td>NULL</td><td>London</td></tr><tr><td>UK</td><td>NULL</td><td>London</td></tr><tr><td>UK</td><td>NULL</td><td>London</td></tr><tr><td>USA</td><td>WA</td><td>Kirkland</td></tr><tr><td>USA</td><td>WA</td><td>Redmond</td></tr><tr><td>USA</td><td>WA</td><td>Seattle</td></tr><tr><td>USA</td><td>WA</td><td>Seattle</td></tr><tr><td>USA</td><td>WA</td><td>Tacoma</td></tr><tr><td>Australia</td><td>NSW</td><td>Sydney</td></tr><tr><td>Australia</td><td>Victoria</td><td>Melbourne</td></tr><tr><td>Brazil</td><td>NULL</td><td>Sao Paulo</td></tr><tr><td>Canada</td><td>Québec</td><td>Montréal</td></tr><tr><td>Canada</td><td>Québec</td><td>Ste-Hyacinthe</td></tr><tr><td>Denmark</td><td>NULL</td><td>Lyngby</td></tr><tr><td>Finland</td><td>NULL</td><td>Lappeenranta</td></tr><tr><td>France</td><td>NULL</td><td>Annecy</td></tr><tr><td>France</td><td>NULL</td><td>Montceau</td></tr><tr><td>France</td><td>NULL</td><td>Paris</td></tr><tr><td>Germany</td><td>NULL</td><td>Berlin</td></tr><tr><td>Germany</td><td>NULL</td><td>Cuxhaven</td></tr><tr><td>Germany</td><td>NULL</td><td>Frankfurt</td></tr><tr><td>Italy</td><td>NULL</td><td>Ravenna</td></tr><tr><td>Italy</td><td>NULL</td><td>Salerno</td></tr><tr><td>Japan</td><td>NULL</td><td>Osaka</td></tr><tr><td>Japan</td><td>NULL</td><td>Tokyo</td></tr><tr><td>Netherlands</td><td>NULL</td><td>Zaandam</td></tr><tr><td>Norway</td><td>NULL</td><td>Sandvika</td></tr><tr><td>Singapore</td><td>NULL</td><td>Singapore</td></tr><tr><td>Spain</td><td>Asturias</td><td>Oviedo</td></tr><tr><td>Sweden</td><td>NULL</td><td>Göteborg</td></tr><tr><td>Sweden</td><td>NULL</td><td>Stockholm</td></tr><tr><td>UK</td><td>NULL</td><td>London</td></tr><tr><td>UK</td><td>NULL</td><td>Manchester</td></tr><tr><td>USA</td><td>LA</td><td>New Orleans</td></tr><tr><td>USA</td><td>MA</td><td>Boston</td></tr><tr><td>USA</td><td>MI</td><td>Ann Arbor</td></tr><tr><td>USA</td><td>OR</td><td>Bend</td></tr></table>"
                    },
                    "metadata": {}
                },
                {
                    "output_type": "execute_result",
                    "execution_count": 3,
                    "data": {
                        "application/vnd.dataresource+json": {
                            "schema": {
                                "fields": [
                                    {
                                        "name": "EmployeeCountry"
                                    },
                                    {
                                        "name": "EmployeeRegion"
                                    },
                                    {
                                        "name": "EmployeeCity"
                                    }
                                ]
                            },
                            "data": [
                                {
                                    "EmployeeCountry": "UK",
                                    "EmployeeRegion": "NULL",
                                    "EmployeeCity": "London"
                                },
                                {
                                    "EmployeeCountry": "UK",
                                    "EmployeeRegion": "NULL",
                                    "EmployeeCity": "London"
                                },
                                {
                                    "EmployeeCountry": "UK",
                                    "EmployeeRegion": "NULL",
                                    "EmployeeCity": "London"
                                },
                                {
                                    "EmployeeCountry": "UK",
                                    "EmployeeRegion": "NULL",
                                    "EmployeeCity": "London"
                                },
                                {
                                    "EmployeeCountry": "USA",
                                    "EmployeeRegion": "WA",
                                    "EmployeeCity": "Kirkland"
                                },
                                {
                                    "EmployeeCountry": "USA",
                                    "EmployeeRegion": "WA",
                                    "EmployeeCity": "Redmond"
                                },
                                {
                                    "EmployeeCountry": "USA",
                                    "EmployeeRegion": "WA",
                                    "EmployeeCity": "Seattle"
                                },
                                {
                                    "EmployeeCountry": "USA",
                                    "EmployeeRegion": "WA",
                                    "EmployeeCity": "Seattle"
                                },
                                {
                                    "EmployeeCountry": "USA",
                                    "EmployeeRegion": "WA",
                                    "EmployeeCity": "Tacoma"
                                },
                                {
                                    "EmployeeCountry": "Australia",
                                    "EmployeeRegion": "NSW",
                                    "EmployeeCity": "Sydney"
                                },
                                {
                                    "EmployeeCountry": "Australia",
                                    "EmployeeRegion": "Victoria",
                                    "EmployeeCity": "Melbourne"
                                },
                                {
                                    "EmployeeCountry": "Brazil",
                                    "EmployeeRegion": "NULL",
                                    "EmployeeCity": "Sao Paulo"
                                },
                                {
                                    "EmployeeCountry": "Canada",
                                    "EmployeeRegion": "Québec",
                                    "EmployeeCity": "Montréal"
                                },
                                {
                                    "EmployeeCountry": "Canada",
                                    "EmployeeRegion": "Québec",
                                    "EmployeeCity": "Ste-Hyacinthe"
                                },
                                {
                                    "EmployeeCountry": "Denmark",
                                    "EmployeeRegion": "NULL",
                                    "EmployeeCity": "Lyngby"
                                },
                                {
                                    "EmployeeCountry": "Finland",
                                    "EmployeeRegion": "NULL",
                                    "EmployeeCity": "Lappeenranta"
                                },
                                {
                                    "EmployeeCountry": "France",
                                    "EmployeeRegion": "NULL",
                                    "EmployeeCity": "Annecy"
                                },
                                {
                                    "EmployeeCountry": "France",
                                    "EmployeeRegion": "NULL",
                                    "EmployeeCity": "Montceau"
                                },
                                {
                                    "EmployeeCountry": "France",
                                    "EmployeeRegion": "NULL",
                                    "EmployeeCity": "Paris"
                                },
                                {
                                    "EmployeeCountry": "Germany",
                                    "EmployeeRegion": "NULL",
                                    "EmployeeCity": "Berlin"
                                },
                                {
                                    "EmployeeCountry": "Germany",
                                    "EmployeeRegion": "NULL",
                                    "EmployeeCity": "Cuxhaven"
                                },
                                {
                                    "EmployeeCountry": "Germany",
                                    "EmployeeRegion": "NULL",
                                    "EmployeeCity": "Frankfurt"
                                },
                                {
                                    "EmployeeCountry": "Italy",
                                    "EmployeeRegion": "NULL",
                                    "EmployeeCity": "Ravenna"
                                },
                                {
                                    "EmployeeCountry": "Italy",
                                    "EmployeeRegion": "NULL",
                                    "EmployeeCity": "Salerno"
                                },
                                {
                                    "EmployeeCountry": "Japan",
                                    "EmployeeRegion": "NULL",
                                    "EmployeeCity": "Osaka"
                                },
                                {
                                    "EmployeeCountry": "Japan",
                                    "EmployeeRegion": "NULL",
                                    "EmployeeCity": "Tokyo"
                                },
                                {
                                    "EmployeeCountry": "Netherlands",
                                    "EmployeeRegion": "NULL",
                                    "EmployeeCity": "Zaandam"
                                },
                                {
                                    "EmployeeCountry": "Norway",
                                    "EmployeeRegion": "NULL",
                                    "EmployeeCity": "Sandvika"
                                },
                                {
                                    "EmployeeCountry": "Singapore",
                                    "EmployeeRegion": "NULL",
                                    "EmployeeCity": "Singapore"
                                },
                                {
                                    "EmployeeCountry": "Spain",
                                    "EmployeeRegion": "Asturias",
                                    "EmployeeCity": "Oviedo"
                                },
                                {
                                    "EmployeeCountry": "Sweden",
                                    "EmployeeRegion": "NULL",
                                    "EmployeeCity": "Göteborg"
                                },
                                {
                                    "EmployeeCountry": "Sweden",
                                    "EmployeeRegion": "NULL",
                                    "EmployeeCity": "Stockholm"
                                },
                                {
                                    "EmployeeCountry": "UK",
                                    "EmployeeRegion": "NULL",
                                    "EmployeeCity": "London"
                                },
                                {
                                    "EmployeeCountry": "UK",
                                    "EmployeeRegion": "NULL",
                                    "EmployeeCity": "Manchester"
                                },
                                {
                                    "EmployeeCountry": "USA",
                                    "EmployeeRegion": "LA",
                                    "EmployeeCity": "New Orleans"
                                },
                                {
                                    "EmployeeCountry": "USA",
                                    "EmployeeRegion": "MA",
                                    "EmployeeCity": "Boston"
                                },
                                {
                                    "EmployeeCountry": "USA",
                                    "EmployeeRegion": "MI",
                                    "EmployeeCity": "Ann Arbor"
                                },
                                {
                                    "EmployeeCountry": "USA",
                                    "EmployeeRegion": "OR",
                                    "EmployeeCity": "Bend"
                                }
                            ]
                        },
                        "text/html": "<table><tr><th>EmployeeCountry</th><th>EmployeeRegion</th><th>EmployeeCity</th></tr><tr><td>UK</td><td>NULL</td><td>London</td></tr><tr><td>UK</td><td>NULL</td><td>London</td></tr><tr><td>UK</td><td>NULL</td><td>London</td></tr><tr><td>UK</td><td>NULL</td><td>London</td></tr><tr><td>USA</td><td>WA</td><td>Kirkland</td></tr><tr><td>USA</td><td>WA</td><td>Redmond</td></tr><tr><td>USA</td><td>WA</td><td>Seattle</td></tr><tr><td>USA</td><td>WA</td><td>Seattle</td></tr><tr><td>USA</td><td>WA</td><td>Tacoma</td></tr><tr><td>Australia</td><td>NSW</td><td>Sydney</td></tr><tr><td>Australia</td><td>Victoria</td><td>Melbourne</td></tr><tr><td>Brazil</td><td>NULL</td><td>Sao Paulo</td></tr><tr><td>Canada</td><td>Québec</td><td>Montréal</td></tr><tr><td>Canada</td><td>Québec</td><td>Ste-Hyacinthe</td></tr><tr><td>Denmark</td><td>NULL</td><td>Lyngby</td></tr><tr><td>Finland</td><td>NULL</td><td>Lappeenranta</td></tr><tr><td>France</td><td>NULL</td><td>Annecy</td></tr><tr><td>France</td><td>NULL</td><td>Montceau</td></tr><tr><td>France</td><td>NULL</td><td>Paris</td></tr><tr><td>Germany</td><td>NULL</td><td>Berlin</td></tr><tr><td>Germany</td><td>NULL</td><td>Cuxhaven</td></tr><tr><td>Germany</td><td>NULL</td><td>Frankfurt</td></tr><tr><td>Italy</td><td>NULL</td><td>Ravenna</td></tr><tr><td>Italy</td><td>NULL</td><td>Salerno</td></tr><tr><td>Japan</td><td>NULL</td><td>Osaka</td></tr><tr><td>Japan</td><td>NULL</td><td>Tokyo</td></tr><tr><td>Netherlands</td><td>NULL</td><td>Zaandam</td></tr><tr><td>Norway</td><td>NULL</td><td>Sandvika</td></tr><tr><td>Singapore</td><td>NULL</td><td>Singapore</td></tr><tr><td>Spain</td><td>Asturias</td><td>Oviedo</td></tr><tr><td>Sweden</td><td>NULL</td><td>Göteborg</td></tr><tr><td>Sweden</td><td>NULL</td><td>Stockholm</td></tr><tr><td>UK</td><td>NULL</td><td>London</td></tr><tr><td>UK</td><td>NULL</td><td>Manchester</td></tr><tr><td>USA</td><td>LA</td><td>New Orleans</td></tr><tr><td>USA</td><td>MA</td><td>Boston</td></tr><tr><td>USA</td><td>MI</td><td>Ann Arbor</td></tr><tr><td>USA</td><td>OR</td><td>Bend</td></tr></table>"
                    },
                    "metadata": {}
                }
            ],
            "execution_count": 3
        },
        {
            "cell_type": "code",
            "source": [
                "--confirmation that code works \r\n",
                "USE TSQLV6;\r\n",
                "SELECT country, region, city\r\n",
                "FROM HR.Employees"
            ],
            "metadata": {
                "language": "sql",
                "azdata_cell_guid": "f62dfaa0-ded2-4b3d-bdbb-91058e6c2d68"
            },
            "outputs": [
                {
                    "output_type": "display_data",
                    "data": {
                        "text/html": "(9 rows affected)"
                    },
                    "metadata": {}
                },
                {
                    "output_type": "display_data",
                    "data": {
                        "text/html": "Total execution time: 00:00:00.007"
                    },
                    "metadata": {}
                },
                {
                    "output_type": "execute_result",
                    "execution_count": 4,
                    "data": {
                        "application/vnd.dataresource+json": {
                            "schema": {
                                "fields": [
                                    {
                                        "name": "country"
                                    },
                                    {
                                        "name": "region"
                                    },
                                    {
                                        "name": "city"
                                    }
                                ]
                            },
                            "data": [
                                {
                                    "country": "USA",
                                    "region": "WA",
                                    "city": "Seattle"
                                },
                                {
                                    "country": "USA",
                                    "region": "WA",
                                    "city": "Tacoma"
                                },
                                {
                                    "country": "USA",
                                    "region": "WA",
                                    "city": "Kirkland"
                                },
                                {
                                    "country": "USA",
                                    "region": "WA",
                                    "city": "Redmond"
                                },
                                {
                                    "country": "UK",
                                    "region": "NULL",
                                    "city": "London"
                                },
                                {
                                    "country": "UK",
                                    "region": "NULL",
                                    "city": "London"
                                },
                                {
                                    "country": "UK",
                                    "region": "NULL",
                                    "city": "London"
                                },
                                {
                                    "country": "USA",
                                    "region": "WA",
                                    "city": "Seattle"
                                },
                                {
                                    "country": "UK",
                                    "region": "NULL",
                                    "city": "London"
                                }
                            ]
                        },
                        "text/html": "<table><tr><th>country</th><th>region</th><th>city</th></tr><tr><td>USA</td><td>WA</td><td>Seattle</td></tr><tr><td>USA</td><td>WA</td><td>Tacoma</td></tr><tr><td>USA</td><td>WA</td><td>Kirkland</td></tr><tr><td>USA</td><td>WA</td><td>Redmond</td></tr><tr><td>UK</td><td>NULL</td><td>London</td></tr><tr><td>UK</td><td>NULL</td><td>London</td></tr><tr><td>UK</td><td>NULL</td><td>London</td></tr><tr><td>USA</td><td>WA</td><td>Seattle</td></tr><tr><td>UK</td><td>NULL</td><td>London</td></tr></table>"
                    },
                    "metadata": {}
                }
            ],
            "execution_count": 4
        },
        {
            "cell_type": "markdown",
            "source": [
                "**\\-----------------------------------------PART 2-----------------------------------------------------------------------------------------------------------**"
            ],
            "metadata": {
                "language": "sql",
                "azdata_cell_guid": "0acd8267-173b-4155-9955-62b04cb2753e"
            },
            "attachments": {}
        },
        {
            "cell_type": "markdown",
            "source": [
                "```\n",
                "---------------------------------------------------------------------\n",
                "-- Circumventing Unsupported Logical Phases\n",
                "-- (Optional, Advanced)\n",
                "---------------------------------------------------------------------\n",
                "\n",
                "-- Number of distinct locations\n",
                "-- that are either employee or customer locations in each country\n",
                "SELECT country, COUNT(*) AS numlocations\n",
                "FROM (SELECT country, region, city FROM HR.Employees\n",
                "      UNION\n",
                "      SELECT country, region, city FROM Sales.Customers) AS U\n",
                "GROUP BY country;\n",
                "\n",
                "-- Two most recent orders for employees 3 and 5\n",
                "SELECT empid, orderid, orderdate\n",
                "FROM (SELECT TOP (2) empid, orderid, orderdate\n",
                "      FROM Sales.Orders\n",
                "      WHERE empid = 3\n",
                "      ORDER BY orderdate DESC, orderid DESC) AS D1\n",
                "\n",
                "UNION ALL\n",
                "\n",
                "SELECT empid, orderid, orderdate\n",
                "FROM (SELECT TOP (2) empid, orderid, orderdate\n",
                "      FROM Sales.Orders\n",
                "      WHERE empid = 5\n",
                "      ORDER BY orderdate DESC, orderid DESC) AS D2;\n",
                "\n",
                "```"
            ],
            "metadata": {
                "language": "sql",
                "azdata_cell_guid": "ef3fdbce-5d66-4810-a4be-835c99864867"
            },
            "attachments": {}
        },
        {
            "cell_type": "code",
            "source": [
                "USE TSQLV6;\r\n",
                "SELECT country, COUNT(*) AS numlocations\r\n",
                "FROM (SELECT country, region, city FROM HR.Employees\r\n",
                "      UNION\r\n",
                "      SELECT country, region, city FROM Sales.Customers) AS U\r\n",
                "GROUP BY country;\r\n",
                "\r\n",
                "--NORTHWINDS\r\n",
                "\r\n",
                "USE Northwinds2022TSQLV7;\r\n",
                "SELECT EmployeeCountry, COUNT(*) AS numlocations\r\n",
                "FROM (SELECT EmployeeCountry, EmployeeRegion, EmployeeCity FROM HumanResources.Employee\r\n",
                "      UNION\r\n",
                "      SELECT CustomerCountry, CustomerRegion, CustomerCity FROM Sales.Customer) AS U\r\n",
                "GROUP BY EmployeeCountry;"
            ],
            "metadata": {
                "language": "sql",
                "azdata_cell_guid": "543e25b2-c17a-4d28-a5e8-3cfc9f5ed80a"
            },
            "outputs": [
                {
                    "output_type": "display_data",
                    "data": {
                        "text/html": "(21 rows affected)"
                    },
                    "metadata": {}
                },
                {
                    "output_type": "display_data",
                    "data": {
                        "text/html": "Total execution time: 00:00:00.024"
                    },
                    "metadata": {}
                },
                {
                    "output_type": "execute_result",
                    "execution_count": 8,
                    "data": {
                        "application/vnd.dataresource+json": {
                            "schema": {
                                "fields": [
                                    {
                                        "name": "EmployeeCountry"
                                    },
                                    {
                                        "name": "numlocations"
                                    }
                                ]
                            },
                            "data": [
                                {
                                    "EmployeeCountry": "Argentina",
                                    "numlocations": "1"
                                },
                                {
                                    "EmployeeCountry": "Austria",
                                    "numlocations": "2"
                                },
                                {
                                    "EmployeeCountry": "Belgium",
                                    "numlocations": "2"
                                },
                                {
                                    "EmployeeCountry": "Brazil",
                                    "numlocations": "4"
                                },
                                {
                                    "EmployeeCountry": "Canada",
                                    "numlocations": "3"
                                },
                                {
                                    "EmployeeCountry": "Denmark",
                                    "numlocations": "2"
                                },
                                {
                                    "EmployeeCountry": "Finland",
                                    "numlocations": "2"
                                },
                                {
                                    "EmployeeCountry": "France",
                                    "numlocations": "9"
                                },
                                {
                                    "EmployeeCountry": "Germany",
                                    "numlocations": "11"
                                },
                                {
                                    "EmployeeCountry": "Ireland",
                                    "numlocations": "1"
                                },
                                {
                                    "EmployeeCountry": "Italy",
                                    "numlocations": "3"
                                },
                                {
                                    "EmployeeCountry": "Mexico",
                                    "numlocations": "1"
                                },
                                {
                                    "EmployeeCountry": "Norway",
                                    "numlocations": "1"
                                },
                                {
                                    "EmployeeCountry": "Poland",
                                    "numlocations": "1"
                                },
                                {
                                    "EmployeeCountry": "Portugal",
                                    "numlocations": "1"
                                },
                                {
                                    "EmployeeCountry": "Spain",
                                    "numlocations": "3"
                                },
                                {
                                    "EmployeeCountry": "Sweden",
                                    "numlocations": "2"
                                },
                                {
                                    "EmployeeCountry": "Switzerland",
                                    "numlocations": "2"
                                },
                                {
                                    "EmployeeCountry": "UK",
                                    "numlocations": "2"
                                },
                                {
                                    "EmployeeCountry": "USA",
                                    "numlocations": "14"
                                },
                                {
                                    "EmployeeCountry": "Venezuela",
                                    "numlocations": "4"
                                }
                            ]
                        },
                        "text/html": "<table><tr><th>EmployeeCountry</th><th>numlocations</th></tr><tr><td>Argentina</td><td>1</td></tr><tr><td>Austria</td><td>2</td></tr><tr><td>Belgium</td><td>2</td></tr><tr><td>Brazil</td><td>4</td></tr><tr><td>Canada</td><td>3</td></tr><tr><td>Denmark</td><td>2</td></tr><tr><td>Finland</td><td>2</td></tr><tr><td>France</td><td>9</td></tr><tr><td>Germany</td><td>11</td></tr><tr><td>Ireland</td><td>1</td></tr><tr><td>Italy</td><td>3</td></tr><tr><td>Mexico</td><td>1</td></tr><tr><td>Norway</td><td>1</td></tr><tr><td>Poland</td><td>1</td></tr><tr><td>Portugal</td><td>1</td></tr><tr><td>Spain</td><td>3</td></tr><tr><td>Sweden</td><td>2</td></tr><tr><td>Switzerland</td><td>2</td></tr><tr><td>UK</td><td>2</td></tr><tr><td>USA</td><td>14</td></tr><tr><td>Venezuela</td><td>4</td></tr></table>"
                    },
                    "metadata": {}
                }
            ],
            "execution_count": 8
        },
        {
            "cell_type": "markdown",
            "source": [
                "Retrieve a list that shows how many unique locations are assoicated with employees and customers in each country. \n",
                "\n",
                "Notes \n",
                "\n",
                "U is taking the locations from customers and employees making sure there are not dupes with the use of COUNT(\\*). We are making our own new col called numlocations with takes data from two tables and merges them into 1."
            ],
            "metadata": {
                "language": "sql",
                "azdata_cell_guid": "b425b9c9-a7ae-426f-b411-865b4b47300b"
            },
            "attachments": {}
        },
        {
            "cell_type": "code",
            "source": [
                "USE TSQLV6;\r\n",
                "-- Two most recent orders for employees 3 and 5\r\n",
                "SELECT empid, orderid, orderdate\r\n",
                "FROM (SELECT TOP (2) empid, orderid, orderdate\r\n",
                "      FROM Sales.Orders\r\n",
                "      WHERE empid = 3\r\n",
                "      ORDER BY orderdate DESC, orderid DESC) AS D1\r\n",
                "\r\n",
                "UNION ALL\r\n",
                "\r\n",
                "SELECT empid, orderid, orderdate\r\n",
                "FROM (SELECT TOP (2) empid, orderid, orderdate\r\n",
                "      FROM Sales.Orders\r\n",
                "      WHERE empid = 5\r\n",
                "      ORDER BY orderdate DESC, orderid DESC) AS D2;\r\n",
                "\r\n",
                "\r\n",
                "--NORTHWINDS\r\n",
                "\r\n",
                "-- Two most recent orders for employees 3 and 5\r\n",
                "USE Northwinds2022TSQLV7;\r\n",
                "SELECT EmployeeId, orderid, orderdate\r\n",
                "FROM (SELECT TOP (2) EmployeeId, orderid, orderdate\r\n",
                "      FROM Sales.[Order]\r\n",
                "      WHERE EmployeeId = 3\r\n",
                "      ORDER BY orderdate DESC, orderid DESC) AS D1\r\n",
                "\r\n",
                "UNION ALL\r\n",
                "\r\n",
                "SELECT EmployeeId, orderid, orderdate\r\n",
                "FROM (SELECT TOP (2) EmployeeId, orderid, orderdate\r\n",
                "      FROM Sales.[Order]\r\n",
                "      WHERE EmployeeId = 5\r\n",
                "      ORDER BY orderdate DESC, orderid DESC) AS D2;"
            ],
            "metadata": {
                "language": "sql",
                "azdata_cell_guid": "92bca31b-315a-42bd-ad8d-46c2275e6e33"
            },
            "outputs": [
                {
                    "output_type": "display_data",
                    "data": {
                        "text/html": "(4 rows affected)"
                    },
                    "metadata": {}
                },
                {
                    "output_type": "display_data",
                    "data": {
                        "text/html": "(4 rows affected)"
                    },
                    "metadata": {}
                },
                {
                    "output_type": "display_data",
                    "data": {
                        "text/html": "Total execution time: 00:00:00.019"
                    },
                    "metadata": {}
                },
                {
                    "output_type": "execute_result",
                    "execution_count": 5,
                    "data": {
                        "application/vnd.dataresource+json": {
                            "schema": {
                                "fields": [
                                    {
                                        "name": "empid"
                                    },
                                    {
                                        "name": "orderid"
                                    },
                                    {
                                        "name": "orderdate"
                                    }
                                ]
                            },
                            "data": [
                                {
                                    "empid": "3",
                                    "orderid": "11063",
                                    "orderdate": "2022-04-30"
                                },
                                {
                                    "empid": "3",
                                    "orderid": "11057",
                                    "orderdate": "2022-04-29"
                                },
                                {
                                    "empid": "5",
                                    "orderid": "11043",
                                    "orderdate": "2022-04-22"
                                },
                                {
                                    "empid": "5",
                                    "orderid": "10954",
                                    "orderdate": "2022-03-17"
                                }
                            ]
                        },
                        "text/html": "<table><tr><th>empid</th><th>orderid</th><th>orderdate</th></tr><tr><td>3</td><td>11063</td><td>2022-04-30</td></tr><tr><td>3</td><td>11057</td><td>2022-04-29</td></tr><tr><td>5</td><td>11043</td><td>2022-04-22</td></tr><tr><td>5</td><td>10954</td><td>2022-03-17</td></tr></table>"
                    },
                    "metadata": {}
                },
                {
                    "output_type": "execute_result",
                    "execution_count": 5,
                    "data": {
                        "application/vnd.dataresource+json": {
                            "schema": {
                                "fields": [
                                    {
                                        "name": "EmployeeId"
                                    },
                                    {
                                        "name": "orderid"
                                    },
                                    {
                                        "name": "orderdate"
                                    }
                                ]
                            },
                            "data": [
                                {
                                    "EmployeeId": "3",
                                    "orderid": "11063",
                                    "orderdate": "2016-04-30"
                                },
                                {
                                    "EmployeeId": "3",
                                    "orderid": "11057",
                                    "orderdate": "2016-04-29"
                                },
                                {
                                    "EmployeeId": "5",
                                    "orderid": "11043",
                                    "orderdate": "2016-04-22"
                                },
                                {
                                    "EmployeeId": "5",
                                    "orderid": "10954",
                                    "orderdate": "2016-03-17"
                                }
                            ]
                        },
                        "text/html": "<table><tr><th>EmployeeId</th><th>orderid</th><th>orderdate</th></tr><tr><td>3</td><td>11063</td><td>2016-04-30</td></tr><tr><td>3</td><td>11057</td><td>2016-04-29</td></tr><tr><td>5</td><td>11043</td><td>2016-04-22</td></tr><tr><td>5</td><td>10954</td><td>2016-03-17</td></tr></table>"
                    },
                    "metadata": {}
                }
            ],
            "execution_count": 5
        },
        {
            "cell_type": "markdown",
            "source": [
                "Retrieve a list that shows the latest two orders from employees ID 3 and 5 from the Order table, include the employee ID, order ID and the order date for each.\n",
                "\n",
                "Notes\n",
                "\n",
                "UNION ALL vs UNION \n",
                "\n",
                "Union all is used here to make sure all orders are selected even the dupes. But orders are filters by ID in this case so they wont be any."
            ],
            "metadata": {
                "language": "sql",
                "azdata_cell_guid": "e2752218-ecd3-472d-9be4-68bb9e3afbe4"
            },
            "attachments": {}
        },
        {
            "cell_type": "markdown",
            "source": [
                "Written in collaboration with **ChatGPT** from **OpenAI** to improve understanding and assist with the explanation of the query."
            ],
            "metadata": {
                "azdata_cell_guid": "701ce74a-f074-4ef1-b2df-1ac3a0e15b8b"
            },
            "attachments": {}
        }
    ]
}