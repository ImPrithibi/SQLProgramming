{
    "metadata": {
        "kernelspec": {
            "name": "SQL",
            "display_name": "SQL",
            "language": "sql"
        },
        "language_info": {
            "name": "sql",
            "version": ""
        }
    },
    "nbformat_minor": 2,
    "nbformat": 4,
    "cells": [
        {
            "cell_type": "markdown",
            "source": [
                "**Sabrina Zheng | Group 6 | Question 5, 6**\n",
                "\n",
                "**Question 5:**\n",
                "\n",
                "\\-- Return customers who placed no orders\n",
                "\n",
                "\\-- Tables involved: TSQLV4 database, Customers and Orders tables\n",
                "\n",
                "\\-- Desired output\n",
                "\n",
                "custid      companyname\n",
                "\n",
                "\\----------- ---------------\n",
                "\n",
                "22          Customer DTDMN\n",
                "\n",
                "57          Customer WVAXS"
            ],
            "metadata": {
                "azdata_cell_guid": "3b5497c6-5295-45e5-9185-46e3d74d62d7"
            },
            "attachments": {}
        },
        {
            "cell_type": "code",
            "source": [
                "--Query using TSQL4 database\r\n",
                "USE TSQLV4;\r\n",
                "\r\n",
                "SELECT C.custid, C.companyname\r\n",
                "FROM Sales.Customers AS C\r\n",
                "  LEFT OUTER JOIN Sales.Orders AS O\r\n",
                "    ON C.custid = O.custid\r\n",
                "WHERE O.orderid IS NULL;"
            ],
            "metadata": {
                "azdata_cell_guid": "c915da67-6f47-4fd7-a595-43ed32c85dfa",
                "language": "sql"
            },
            "outputs": [
                {
                    "output_type": "display_data",
                    "data": {
                        "text/html": "(2 rows affected)"
                    },
                    "metadata": {}
                },
                {
                    "output_type": "display_data",
                    "data": {
                        "text/html": "Total execution time: 00:00:00.003"
                    },
                    "metadata": {}
                },
                {
                    "output_type": "execute_result",
                    "execution_count": 27,
                    "data": {
                        "application/vnd.dataresource+json": {
                            "schema": {
                                "fields": [
                                    {
                                        "name": "custid"
                                    },
                                    {
                                        "name": "companyname"
                                    }
                                ]
                            },
                            "data": [
                                {
                                    "custid": "22",
                                    "companyname": "Customer DTDMN"
                                },
                                {
                                    "custid": "57",
                                    "companyname": "Customer WVAXS"
                                }
                            ]
                        },
                        "text/html": "<table><tr><th>custid</th><th>companyname</th></tr><tr><td>22</td><td>Customer DTDMN</td></tr><tr><td>57</td><td>Customer WVAXS</td></tr></table>"
                    },
                    "metadata": {}
                }
            ],
            "execution_count": 27
        },
        {
            "cell_type": "markdown",
            "source": [
                "**Explanation for the TSQLV4 Query**\n",
                "\n",
                "**Proposition:** Retrieve the customers that placed no orders.\n",
                "\n",
                "**Tables:** \n",
                "\n",
                "- Sales.Customers aliased as C\n",
                "- Sales.Orders aliased as O\n",
                "\n",
                "**Columns:**\n",
                "\n",
                "- C.custid\n",
                "- C.companyname\n",
                "\n",
                "**Predicate:**\n",
                "\n",
                "- <span style=\"color: var(--vscode-foreground);\">LEFT OUTER JOIN Sales.Orders AS O&nbsp;</span>  ON C.custid = O.custid\n",
                "\n",
                "<span style=\"color: var(--vscode-foreground);\">This line performs a LEFT OUTER JOIN operation between the \"Customers\" table (C) and the \"Orders\" table (O) based on the custid column. It links records from the two tables where the custid values match.</span>\n",
                "\n",
                "- <span style=\"color: var(--vscode-foreground);\">WHERE O.orderid IS NULL;</span>\n",
                "\n",
                "This line filters the result set to include only those rows where the orderid column in the Orders table is NULL. This condition effectively selects customers who have not placed any orders, as the LEFT OUTER JOIN operation includes all customers from the Customers table, even if they don't have corresponding records in the Orders table."
            ],
            "metadata": {
                "azdata_cell_guid": "b06b7d24-16a6-4495-96b1-fc69b6192072"
            },
            "attachments": {}
        },
        {
            "cell_type": "code",
            "source": [
                "-- Query using Northwinds2022TSQLV7 database \r\n",
                "USE Northwinds2022TSQLV7;\r\n",
                "\r\n",
                "SELECT c.customerid, c.CustomerCompanyName\r\n",
                "FROM Sales.[Customer] as C\r\n",
                "    LEFT OUTER JOIN Sales.[Order] AS o\r\n",
                "        ON c.customerid = o.customerid\r\n",
                "WHERE o.orderid IS NULL;\r\n",
                ""
            ],
            "metadata": {
                "azdata_cell_guid": "935de823-c496-49ca-9566-d9771c3c1bef",
                "language": "sql",
                "tags": []
            },
            "outputs": [
                {
                    "output_type": "display_data",
                    "data": {
                        "text/html": "(2 rows affected)"
                    },
                    "metadata": {}
                },
                {
                    "output_type": "display_data",
                    "data": {
                        "text/html": "Total execution time: 00:00:00.019"
                    },
                    "metadata": {}
                },
                {
                    "output_type": "execute_result",
                    "execution_count": 13,
                    "data": {
                        "application/vnd.dataresource+json": {
                            "schema": {
                                "fields": [
                                    {
                                        "name": "customerid"
                                    },
                                    {
                                        "name": "CustomerCompanyName"
                                    }
                                ]
                            },
                            "data": [
                                {
                                    "customerid": "22",
                                    "CustomerCompanyName": "Customer DTDMN"
                                },
                                {
                                    "customerid": "57",
                                    "CustomerCompanyName": "Customer WVAXS"
                                }
                            ]
                        },
                        "text/html": "<table><tr><th>customerid</th><th>CustomerCompanyName</th></tr><tr><td>22</td><td>Customer DTDMN</td></tr><tr><td>57</td><td>Customer WVAXS</td></tr></table>"
                    },
                    "metadata": {}
                }
            ],
            "execution_count": 13
        },
        {
            "cell_type": "markdown",
            "source": [
                "### **Explanation for the Northwinds2022TSQLV7 Query**\n",
                "\n",
                "**Proposition:** Retrieve the customers that placed no orders.\n",
                "\n",
                "**Tables:** \n",
                "\n",
                "- Sales.\\[Customer\\] aliased as c\n",
                "- Sales\\[Order\\] aliased as o\n",
                "\n",
                "**Columns:**\n",
                "\n",
                "- c.customerid\n",
                "- c.CustomerCompanyName\n",
                "\n",
                "**Predicate:**\n",
                "\n",
                "- <span style=\"color: var(--vscode-foreground);\">LEFT OUTER JOIN Sales.[Order] AS o&nbsp;</span> ON c.customerid = o.customerid\n",
                "\n",
                "This line performs a LEFT OUTER JOIN operation between the Customer table and the table based on the customerid column. It links records from the two tables where the customerid values match.\n",
                "\n",
                "- <span style=\"color: var(--vscode-foreground);\">WHERE o.orderid IS NULL;</span>\n",
                "\n",
                "This line filters the result set to include only those rows where the orderid column in the Order table is NULL. This condition effectively selects customers who have not placed any orders, as the LEFT OUTER JOIN operation includes all customers from the Customer table, even if they don't have corresponding records in the Order table."
            ],
            "metadata": {
                "azdata_cell_guid": "19228bcf-067e-4773-badb-6f40eb0199ba"
            },
            "attachments": {}
        },
        {
            "cell_type": "markdown",
            "source": [
                "**Question 6:**\n",
                "\n",
                "\\-- Return customers with orders placed on Feb 12, 2016 along with their orders\n",
                "\n",
                "\\-- Tables involved: TSQLV4 database, Customers and Orders tables\n",
                "\n",
                "\\-- Desired output\n",
                "\n",
                "custid      companyname     orderid     orderdate\n",
                "\n",
                "\\----------- --------------- ----------- ----------\n",
                "\n",
                "48          Customer DVFMB  10883       2016-02-12\n",
                "\n",
                "45          Customer QXPPT  10884       2016-02-12\n",
                "\n",
                "76          Customer SFOGW  10885       2016-02-12"
            ],
            "metadata": {
                "azdata_cell_guid": "ac94c98a-9bf4-4c34-858b-d6523317cd90"
            },
            "attachments": {}
        },
        {
            "cell_type": "code",
            "source": [
                "--Query using TSQL4 database\r\n",
                "USE TSQLV4;\r\n",
                "\r\n",
                "SELECT C.custid, C.companyname, O.orderid, O.orderdate\r\n",
                "FROM Sales.Customers AS C\r\n",
                "  LEFT OUTER JOIN Sales.Orders AS O\r\n",
                "    ON C.custid = O.custid\r\n",
                "WHERE O.orderdate = '20160212';\r\n",
                ""
            ],
            "metadata": {
                "azdata_cell_guid": "9d877da1-c7d4-4fdc-9339-9a9694ccd1ae",
                "language": "sql"
            },
            "outputs": [
                {
                    "output_type": "display_data",
                    "data": {
                        "text/html": "(3 rows affected)"
                    },
                    "metadata": {}
                },
                {
                    "output_type": "display_data",
                    "data": {
                        "text/html": "Total execution time: 00:00:00.011"
                    },
                    "metadata": {}
                },
                {
                    "output_type": "execute_result",
                    "execution_count": 15,
                    "data": {
                        "application/vnd.dataresource+json": {
                            "schema": {
                                "fields": [
                                    {
                                        "name": "custid"
                                    },
                                    {
                                        "name": "companyname"
                                    },
                                    {
                                        "name": "orderid"
                                    },
                                    {
                                        "name": "orderdate"
                                    }
                                ]
                            },
                            "data": [
                                {
                                    "custid": "48",
                                    "companyname": "Customer DVFMB",
                                    "orderid": "10883",
                                    "orderdate": "2016-02-12"
                                },
                                {
                                    "custid": "45",
                                    "companyname": "Customer QXPPT",
                                    "orderid": "10884",
                                    "orderdate": "2016-02-12"
                                },
                                {
                                    "custid": "76",
                                    "companyname": "Customer SFOGW",
                                    "orderid": "10885",
                                    "orderdate": "2016-02-12"
                                }
                            ]
                        },
                        "text/html": "<table><tr><th>custid</th><th>companyname</th><th>orderid</th><th>orderdate</th></tr><tr><td>48</td><td>Customer DVFMB</td><td>10883</td><td>2016-02-12</td></tr><tr><td>45</td><td>Customer QXPPT</td><td>10884</td><td>2016-02-12</td></tr><tr><td>76</td><td>Customer SFOGW</td><td>10885</td><td>2016-02-12</td></tr></table>"
                    },
                    "metadata": {}
                }
            ],
            "execution_count": 15
        },
        {
            "cell_type": "markdown",
            "source": [
                " **Explanation for the TSQLV4 Query**\n",
                "\n",
                "**Proposition:** Retrieve the customers with orders <span style=\"color: var(--vscode-foreground);\">placed on Feb 12, 2016 along with their orders with the company name and order id.</span>\n",
                "\n",
                "**Tables:** \n",
                "\n",
                "- Sales.Customers aliased as C\n",
                "- Sales.Orders aliased as O\n",
                "\n",
                "**Columns:**\n",
                "\n",
                "- C.custid\n",
                "- C.companyname\n",
                "- O.orderid\n",
                "- O.orderdate\n",
                "\n",
                "**Predicate:**\n",
                "\n",
                "- <span style=\"color: var(--vscode-foreground);\">LEFT OUTER JOIN Sales.Orders AS O&nbsp;</span> ON C.custid = O.custid\n",
                "\n",
                "This line performs a LEFT OUTER JOIN operation between the Customers table and the Orders table based on the custid column. It links records from the two tables where the custid values match.\n",
                "\n",
                "- <span style=\"color: var(--vscode-foreground);\">WHERE O.orderdate = '20160212';</span>\n",
                "\n",
                "This line filters the result set to include only those rows where the orderdate column in the Orders table matches the date '2016-02-12'. This condition effectively selects orders placed on February 12, 2016."
            ],
            "metadata": {
                "azdata_cell_guid": "dc21101a-3b18-4a24-84d1-69691fe2ccde"
            },
            "attachments": {}
        },
        {
            "cell_type": "code",
            "source": [
                "--Query using Northwinds2022TSQLV7\r\n",
                "USE Northwinds2022TSQLV7;\r\n",
                "\r\n",
                "SELECT C.customerid, C.CustomerCompanyName, O.orderid, O.orderdate\r\n",
                "FROM Sales.[Customer] AS C\r\n",
                "  LEFT OUTER JOIN Sales.[Order] AS O\r\n",
                "    ON C.customerid = O.customerid\r\n",
                "WHERE O.orderdate = '20160212';"
            ],
            "metadata": {
                "azdata_cell_guid": "c15236b0-30d6-4d2b-875b-f0098616857f",
                "language": "sql",
                "tags": []
            },
            "outputs": [
                {
                    "output_type": "display_data",
                    "data": {
                        "text/html": "(3 rows affected)"
                    },
                    "metadata": {}
                },
                {
                    "output_type": "display_data",
                    "data": {
                        "text/html": "Total execution time: 00:00:00.020"
                    },
                    "metadata": {}
                },
                {
                    "output_type": "execute_result",
                    "execution_count": 14,
                    "data": {
                        "application/vnd.dataresource+json": {
                            "schema": {
                                "fields": [
                                    {
                                        "name": "customerid"
                                    },
                                    {
                                        "name": "CustomerCompanyName"
                                    },
                                    {
                                        "name": "orderid"
                                    },
                                    {
                                        "name": "orderdate"
                                    }
                                ]
                            },
                            "data": [
                                {
                                    "customerid": "48",
                                    "CustomerCompanyName": "Customer DVFMB",
                                    "orderid": "10883",
                                    "orderdate": "2016-02-12"
                                },
                                {
                                    "customerid": "45",
                                    "CustomerCompanyName": "Customer QXPPT",
                                    "orderid": "10884",
                                    "orderdate": "2016-02-12"
                                },
                                {
                                    "customerid": "76",
                                    "CustomerCompanyName": "Customer SFOGW",
                                    "orderid": "10885",
                                    "orderdate": "2016-02-12"
                                }
                            ]
                        },
                        "text/html": "<table><tr><th>customerid</th><th>CustomerCompanyName</th><th>orderid</th><th>orderdate</th></tr><tr><td>48</td><td>Customer DVFMB</td><td>10883</td><td>2016-02-12</td></tr><tr><td>45</td><td>Customer QXPPT</td><td>10884</td><td>2016-02-12</td></tr><tr><td>76</td><td>Customer SFOGW</td><td>10885</td><td>2016-02-12</td></tr></table>"
                    },
                    "metadata": {}
                }
            ],
            "execution_count": 14
        },
        {
            "cell_type": "markdown",
            "source": [
                "### **Explanation for the Northwinds2022TSQLV7 Query**\n",
                "\n",
                "**Proposition:** <span style=\"color: var(--vscode-foreground);\">Retrieve the customers with orders&nbsp;</span>  <span style=\"color: var(--vscode-foreground);\">placed on Feb 12, 2016 along with their orders with the company name and order id.</span>\n",
                "\n",
                "**Tables:** \n",
                "\n",
                "- Sales.\\[Customer\\] aliased as C\n",
                "- Sales\\[Order\\] aliased as O\n",
                "\n",
                "**Columns:**\n",
                "\n",
                "- C.customerid\n",
                "- C.CustomerCompanyName\n",
                "- O.orderid\n",
                "- O.orderdate\n",
                "\n",
                "**Predicate:**\n",
                "\n",
                "- <span style=\"color: var(--vscode-foreground);\">LEFT OUTER JOIN Sales.[Order] AS O&nbsp;</span> ON C.customerid = O.customerid\n",
                "\n",
                "This line performs a LEFT OUTER JOIN operation between the Customer table and the Order table based on the customerid column. It links records from the two tables where the customerid values match.\n",
                "\n",
                "- <span style=\"color: var(--vscode-foreground);\">WHERE O.orderdate = '20160212';</span>\n",
                "\n",
                "This line filters the result set to include only those rows where the orderdate column in the Order table matches the date '2016-02-12'. This condition effectively selects orders placed on February 12, 2016."
            ],
            "metadata": {
                "azdata_cell_guid": "b6150995-46d2-49cc-8aa5-3cd3560ab5aa"
            },
            "attachments": {}
        },
        {
            "cell_type": "markdown",
            "source": [
                "**Part 2:** \n",
                "\n",
                "<span style=\"color: var(--vscode-foreground);\">---------------------------------------------------------------------</span>\n",
                "\n",
                "\\-- Filtering Attributes from Non-Preserved Side of Outer Join\n",
                "\n",
                "\\---------------------------------------------------------------------\n",
                "\n",
                "**Proposition:**\n",
                "\n",
                "Write a query that selects custid, companyname, orderid, and order date of customers witht heir orders placed on or after January 1st, 2016 using the Sales.Customers and Sales.Orders table.\n",
                "\n",
                "**Tables:**\n",
                "\n",
                "- Sales.\\[Customers\\] aliased as C\n",
                "- Sales.\\[Orders\\] aliased as O\n",
                "\n",
                "**Columns:**\n",
                "\n",
                "- C.custid\n",
                "- C.companyname\n",
                "- O.orderid\n",
                "- O.orderdate\n",
                "\n",
                "**Predicate:**\n",
                "\n",
                "- The LEFT OUTER JOIN condition is based on C.custid and O.custid\n",
                "- WHERE the O.orderdate is on or after January 1st, 2016"
            ],
            "metadata": {
                "azdata_cell_guid": "9ec942f7-3fe5-4be6-bdde-e115c906bcda"
            },
            "attachments": {}
        },
        {
            "cell_type": "code",
            "source": [
                "SELECT C.custid, C.companyname, O.orderid, O.orderdate\r\n",
                "FROM Sales.[Customers] AS C\r\n",
                "  LEFT OUTER JOIN Sales.[Orders] AS O\r\n",
                "    ON C.custid = O.custid\r\n",
                "WHERE O.orderdate >= '20160101';"
            ],
            "metadata": {
                "azdata_cell_guid": "fde6d9df-8a8a-4301-a786-911f2da943f2",
                "language": "sql"
            },
            "outputs": [],
            "execution_count": null
        },
        {
            "cell_type": "markdown",
            "source": [
                "<span style=\"color: var(--vscode-foreground);\">---------------------------------------------------------------------</span>\n",
                "\n",
                "\\-- Using Outer Joins in a Multi-Join Query\n",
                "\n",
                "\\---------------------------------------------------------------------\n",
                "\n",
                "**\\--Option 1**\n",
                "\n",
                "**Proposition:**\n",
                "\n",
                "Write a query using outer joins from the Sales.Customers, Sales.Orders, and Sales.OrderDetails throughout the query to ensures that all customers are included, even if they haven't placed any orders, and all orders are included, even if they don't have any associated order details.\n",
                "\n",
                "**Tables:**\n",
                "\n",
                "- Sales.\\[Customers\\] aliased as C\n",
                "- Sales.\\[Orders\\] aliased as O\n",
                "- Sales.\\[OrderDetails\\]\n",
                "\n",
                "**Columns:**\n",
                "\n",
                "- C.custid\n",
                "- C.companyname\n",
                "- OD.productid\n",
                "- OD.qty\n",
                "\n",
                "**Predicate:**\n",
                "\n",
                "- The LEFT OUTER JOIN condition is based on C.custid and O.custid\n",
                "- The second LEFT OUTER JOIN condition is based on O.orderid and OD.orderid"
            ],
            "metadata": {
                "azdata_cell_guid": "25e424e4-83bb-43a1-8e7f-c04fe9032a7a"
            },
            "attachments": {}
        },
        {
            "cell_type": "code",
            "source": [
                "-- Option 1: use outer join all along\r\n",
                "SELECT C.custid, O.orderid, OD.productid, OD.qty\r\n",
                "FROM Sales.[Customers] AS C\r\n",
                "  LEFT OUTER JOIN Sales.[Orders] AS O\r\n",
                "    ON C.custid = O.custid\r\n",
                "  LEFT OUTER JOIN Sales.[OrderDetails] AS OD\r\n",
                "    ON O.orderid = OD.orderid;"
            ],
            "metadata": {
                "azdata_cell_guid": "08d68ab8-54ae-462e-9dcb-62f10a734c82",
                "language": "sql"
            },
            "outputs": [],
            "execution_count": null
        },
        {
            "cell_type": "markdown",
            "source": [
                "**\\--Option 2**\n",
                "\n",
                "**Proposition:**\n",
                "\n",
                "Write a query to join the Orders table with the OrderDetails table using an inner join to ensure that only orders with associated details are included. Then, perform a right outer join with the Customers table, ensuring that all customers are included, regardless of whether they have placed orders or not.\n",
                "\n",
                "**Tables:**\n",
                "\n",
                "- Sales.\\[Orders\\] aliased as O\n",
                "- Sales.\\[OrderDetails\\] aliased as OD\n",
                "- Sales.\\[Customers\\] aliased as C\n",
                "\n",
                "**Columns:**\n",
                "\n",
                "- C.custid\n",
                "- O.orderid\n",
                "- OD.productid\n",
                "- OD.qty\n",
                "\n",
                "**Predicate:**\n",
                "\n",
                "- The INNER JOIN condition is based on O.orderid and OD.orderid\n",
                "- The RIGHT OUTER JOIN condition is based on O.custid = C.custid"
            ],
            "metadata": {
                "azdata_cell_guid": "c523804c-b737-48cb-883b-314d90d75648"
            },
            "attachments": {}
        },
        {
            "cell_type": "code",
            "source": [
                "-- Option 2: change join order\r\n",
                "SELECT C.custid, O.orderid, OD.productid, OD.qty\r\n",
                "FROM Sales.[Orders] AS O\r\n",
                "  INNER JOIN Sales.[OrderDetails] AS OD\r\n",
                "    ON O.orderid = OD.orderid\r\n",
                "  RIGHT OUTER JOIN Sales.[Customers] AS C\r\n",
                "     ON O.custid = C.custid;"
            ],
            "metadata": {
                "azdata_cell_guid": "8fe695e6-e294-4410-afe2-52fd3165b74b",
                "language": "sql"
            },
            "outputs": [],
            "execution_count": null
        },
        {
            "cell_type": "markdown",
            "source": [
                "**\\--Option 3**\n",
                "\n",
                "**Proposition:**\n",
                "\n",
                "Write a query to retrieve custid, orderid, productid, and qty from the Sales.Customers, Sales.Orders, and Sales.OrdersDetails tables. Combine it with all the customers, even those without orders and their corresponding order details.\n",
                "\n",
                "**Tables:**\n",
                "\n",
                "- Sales.\\[Customers\\] aliased as C\n",
                "- Sales.\\[Orders\\] aliased as O\n",
                "- Sales.\\[OrderDetails\\] aliased as OD\n",
                "\n",
                "**Columns:**\n",
                "\n",
                "- C.custid\n",
                "- O.orderid\n",
                "- OD.productid\n",
                "- OD.qty\n",
                "\n",
                "**Predicate:**\n",
                "\n",
                "- The LEFT OUTER JOIN on a INNER JOIN is based on the O.orderid and OD.orderid on C.custid and O.custid."
            ],
            "metadata": {
                "azdata_cell_guid": "c7bb11ab-c5be-48cb-885a-ead66066668f"
            },
            "attachments": {}
        },
        {
            "cell_type": "code",
            "source": [
                "--Option 3\r\n",
                "SELECT C.custid, O.orderid, OD.productid, OD.qty\r\n",
                "FROM Sales.[Customers] AS C\r\n",
                "  LEFT OUTER JOIN\r\n",
                "      (Sales.[Orders] AS O\r\n",
                "         INNER JOIN Sales.[OrderDetails] AS OD\r\n",
                "           ON O.orderid = OD.orderid)\r\n",
                "    ON C.custid = O.custid;"
            ],
            "metadata": {
                "azdata_cell_guid": "0570c6b7-5aa5-436a-b74f-63baf609075c",
                "language": "sql"
            },
            "outputs": [],
            "execution_count": null
        },
        {
            "cell_type": "markdown",
            "source": [
                "<span style=\"color: var(--vscode-foreground);\">---------------------------------------------------------------------</span>\n",
                "\n",
                "\\-- Using the COUNT Aggregate with Outer Joins\n",
                "\n",
                "\\---------------------------------------------------------------------\n",
                "\n",
                "**Proposition:**\n",
                "\n",
                "Construct a query to retrieve the custid along with the count of orders placed by each customer, using Sales.Customers and Sales.Orders tables from the database. Ensure that customers who have not placed any orders are included in the result set.\n",
                "\n",
                "**Tables:**\n",
                "\n",
                "- Sales.\\[Customers\\] aliased as C\n",
                "- Sales.\\[Orders\\] aliased as O\n",
                "\n",
                "**Columns:**\n",
                "\n",
                "- C.custid \n",
                "- COUNT\\* as numorders\n",
                "- COUNT(O.orderid) as numorders\n",
                "\n",
                "**Predicate:**\n",
                "\n",
                "- The LEFT OUTER JOIN on Sales.\\[Orders\\] is based on C.custid and O.custid using the GROUP BY clause\n",
                "- The LEFT OUTER JOIN on Sales.\\[Orders\\] is based on C.custid and O.custid using the GROUP BY clause"
            ],
            "metadata": {
                "azdata_cell_guid": "41e10a9f-74e5-4cf2-b3da-fcc088441e6c"
            },
            "attachments": {}
        },
        {
            "cell_type": "code",
            "source": [
                "SELECT C.custid, COUNT(*) AS numorders\r\n",
                "FROM Sales.[Customers] AS C\r\n",
                "  LEFT OUTER JOIN Sales.[Orders] AS O\r\n",
                "    ON C.custid = O.custid\r\n",
                "GROUP BY C.custid;\r\n",
                "\r\n",
                "SELECT C.custid, COUNT(O.orderid) AS numorders\r\n",
                "FROM Sales.[Customers] AS C\r\n",
                "  LEFT OUTER JOIN Sales.[Orders] AS O\r\n",
                "    ON C.custid = O.custid\r\n",
                "GROUP BY C.custid;"
            ],
            "metadata": {
                "azdata_cell_guid": "88a5825c-2dba-45cf-a082-e7f80c81d874",
                "language": "sql"
            },
            "outputs": [],
            "execution_count": null
        }
    ]
}