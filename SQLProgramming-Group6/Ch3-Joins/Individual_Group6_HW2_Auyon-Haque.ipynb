{
    "metadata": {
        "kernelspec": {
            "name": "SQL",
            "display_name": "SQL",
            "language": "sql"
        },
        "language_info": {
            "name": "sql",
            "version": ""
        }
    },
    "nbformat_minor": 2,
    "nbformat": 4,
    "cells": [
        {
            "cell_type": "markdown",
            "source": [
                "```\n",
                "-- 7 (Optional, Advanced)\n",
                "-- Write a query that returns all customers in the output, but matches\n",
                "-- them with their respective orders only if they were placed on February 12, 2016\n",
                "-- Tables involved: TSQLV4 database, Customers and Orders tables\n",
                "\n",
                "-- Desired output\n",
                "custid      companyname     orderid     orderdate\n",
                "----------- --------------- ----------- ----------\n",
                "72          Customer AHPOP  NULL        NULL\n",
                "58          Customer AHXHT  NULL        NULL\n",
                "25          Customer AZJED  NULL        NULL\n",
                "18          Customer BSVAR  NULL        NULL\n",
                "91          Customer CCFIZ  NULL        NULL\n",
                "68          Customer CCKOT  NULL        NULL\n",
                "49          Customer CQRAA  NULL        NULL\n",
                "24          Customer CYZTN  NULL        NULL\n",
                "22          Customer DTDMN  NULL        NULL\n",
                "48          Customer DVFMB  10883       2016-02-12\n",
                "10          Customer EEALV  NULL        NULL\n",
                "40          Customer EFFTC  NULL        NULL\n",
                "85          Customer ENQZT  NULL        NULL\n",
                "82          Customer EYHKM  NULL        NULL\n",
                "79          Customer FAPSM  NULL        NULL\n",
                "...\n",
                "51          Customer PVDZC  NULL        NULL\n",
                "52          Customer PZNLA  NULL        NULL\n",
                "56          Customer QNIVZ  NULL        NULL\n",
                "8           Customer QUHWH  NULL        NULL\n",
                "67          Customer QVEPD  NULL        NULL\n",
                "45          Customer QXPPT  10884       2016-02-12\n",
                "7           Customer QXVLA  NULL        NULL\n",
                "60          Customer QZURI  NULL        NULL\n",
                "19          Customer RFNQC  NULL        NULL\n",
                "9           Customer RTXGC  NULL        NULL\n",
                "76          Customer SFOGW  10885       2016-02-12\n",
                "69          Customer SIUIH  NULL        NULL\n",
                "86          Customer SNXOJ  NULL        NULL\n",
                "88          Customer SRQVM  NULL        NULL\n",
                "54          Customer TDKEG  NULL        NULL\n",
                "20          Customer THHDP  NULL        NULL\n",
                "...\n",
                "\n",
                "(91 row(s) affected)\n",
                "```"
            ],
            "metadata": {
                "azdata_cell_guid": "4d35d251-3e4b-46d8-8c97-e6980aa9eac3"
            },
            "attachments": {}
        },
        {
            "cell_type": "code",
            "source": [
                "USE TSQLV4; \r\n",
                "SELECT C.custid, C.companyname, O.orderid, \r\n",
                "       CASE \r\n",
                "           WHEN O.orderdate = '20160212' THEN O.orderdate\r\n",
                "           ELSE NULL \r\n",
                "       END AS orderdate\r\n",
                "FROM Sales.Customers AS C\r\n",
                "LEFT OUTER JOIN Sales.Orders AS O\r\n",
                "ON C.custid = O.custid AND O.orderdate = '20160212';\r\n",
                "\r\n",
                "\r\n",
                "\r\n",
                "-- QUERY CONVERTED \r\n",
                "\r\n",
                "\r\n",
                "\r\n",
                "USE Northwinds2022TSQLV7; \r\n",
                "SELECT C.customerID, C.CustomerCompanyName, O.orderid, \r\n",
                "       CASE \r\n",
                "           WHEN O.orderdate = '20160212' THEN O.orderdate\r\n",
                "           ELSE NULL \r\n",
                "       END AS orderdate\r\n",
                "FROM Sales.Customer AS C\r\n",
                "LEFT OUTER JOIN Sales.[Order] AS O\r\n",
                "ON C.customerId = O.CustomerId AND O.orderdate = '20160212';"
            ],
            "metadata": {
                "language": "sql",
                "azdata_cell_guid": "d635f0fc-642e-459f-a8bc-f9f0e9a69ab7",
                "tags": []
            },
            "outputs": [
                {
                    "output_type": "display_data",
                    "data": {
                        "text/html": "(91 rows affected)"
                    },
                    "metadata": {}
                },
                {
                    "output_type": "display_data",
                    "data": {
                        "text/html": "(91 rows affected)"
                    },
                    "metadata": {}
                },
                {
                    "output_type": "display_data",
                    "data": {
                        "text/html": "Total execution time: 00:00:00.059"
                    },
                    "metadata": {}
                },
                {
                    "output_type": "execute_result",
                    "metadata": {},
                    "execution_count": 1,
                    "data": {
                        "application/vnd.dataresource+json": {
                            "schema": {
                                "fields": [
                                    {
                                        "name": "custid"
                                    },
                                    {
                                        "name": "companyname"
                                    },
                                    {
                                        "name": "orderid"
                                    },
                                    {
                                        "name": "orderdate"
                                    }
                                ]
                            },
                            "data": [
                                {
                                    "custid": "1",
                                    "companyname": "Customer NRZBB",
                                    "orderid": "NULL",
                                    "orderdate": "NULL"
                                },
                                {
                                    "custid": "2",
                                    "companyname": "Customer MLTDN",
                                    "orderid": "NULL",
                                    "orderdate": "NULL"
                                },
                                {
                                    "custid": "3",
                                    "companyname": "Customer KBUDE",
                                    "orderid": "NULL",
                                    "orderdate": "NULL"
                                },
                                {
                                    "custid": "4",
                                    "companyname": "Customer HFBZG",
                                    "orderid": "NULL",
                                    "orderdate": "NULL"
                                },
                                {
                                    "custid": "5",
                                    "companyname": "Customer HGVLZ",
                                    "orderid": "NULL",
                                    "orderdate": "NULL"
                                },
                                {
                                    "custid": "6",
                                    "companyname": "Customer XHXJV",
                                    "orderid": "NULL",
                                    "orderdate": "NULL"
                                },
                                {
                                    "custid": "7",
                                    "companyname": "Customer QXVLA",
                                    "orderid": "NULL",
                                    "orderdate": "NULL"
                                },
                                {
                                    "custid": "8",
                                    "companyname": "Customer QUHWH",
                                    "orderid": "NULL",
                                    "orderdate": "NULL"
                                },
                                {
                                    "custid": "9",
                                    "companyname": "Customer RTXGC",
                                    "orderid": "NULL",
                                    "orderdate": "NULL"
                                },
                                {
                                    "custid": "10",
                                    "companyname": "Customer EEALV",
                                    "orderid": "NULL",
                                    "orderdate": "NULL"
                                },
                                {
                                    "custid": "11",
                                    "companyname": "Customer UBHAU",
                                    "orderid": "NULL",
                                    "orderdate": "NULL"
                                },
                                {
                                    "custid": "12",
                                    "companyname": "Customer PSNMQ",
                                    "orderid": "NULL",
                                    "orderdate": "NULL"
                                },
                                {
                                    "custid": "13",
                                    "companyname": "Customer VMLOG",
                                    "orderid": "NULL",
                                    "orderdate": "NULL"
                                },
                                {
                                    "custid": "14",
                                    "companyname": "Customer WNMAF",
                                    "orderid": "NULL",
                                    "orderdate": "NULL"
                                },
                                {
                                    "custid": "15",
                                    "companyname": "Customer JUWXK",
                                    "orderid": "NULL",
                                    "orderdate": "NULL"
                                },
                                {
                                    "custid": "16",
                                    "companyname": "Customer GYBBY",
                                    "orderid": "NULL",
                                    "orderdate": "NULL"
                                },
                                {
                                    "custid": "17",
                                    "companyname": "Customer FEVNN",
                                    "orderid": "NULL",
                                    "orderdate": "NULL"
                                },
                                {
                                    "custid": "18",
                                    "companyname": "Customer BSVAR",
                                    "orderid": "NULL",
                                    "orderdate": "NULL"
                                },
                                {
                                    "custid": "19",
                                    "companyname": "Customer RFNQC",
                                    "orderid": "NULL",
                                    "orderdate": "NULL"
                                },
                                {
                                    "custid": "20",
                                    "companyname": "Customer THHDP",
                                    "orderid": "NULL",
                                    "orderdate": "NULL"
                                },
                                {
                                    "custid": "21",
                                    "companyname": "Customer KIDPX",
                                    "orderid": "NULL",
                                    "orderdate": "NULL"
                                },
                                {
                                    "custid": "22",
                                    "companyname": "Customer DTDMN",
                                    "orderid": "NULL",
                                    "orderdate": "NULL"
                                },
                                {
                                    "custid": "23",
                                    "companyname": "Customer WVFAF",
                                    "orderid": "NULL",
                                    "orderdate": "NULL"
                                },
                                {
                                    "custid": "24",
                                    "companyname": "Customer CYZTN",
                                    "orderid": "NULL",
                                    "orderdate": "NULL"
                                },
                                {
                                    "custid": "25",
                                    "companyname": "Customer AZJED",
                                    "orderid": "NULL",
                                    "orderdate": "NULL"
                                },
                                {
                                    "custid": "26",
                                    "companyname": "Customer USDBG",
                                    "orderid": "NULL",
                                    "orderdate": "NULL"
                                },
                                {
                                    "custid": "27",
                                    "companyname": "Customer WMFEA",
                                    "orderid": "NULL",
                                    "orderdate": "NULL"
                                },
                                {
                                    "custid": "28",
                                    "companyname": "Customer XYUFB",
                                    "orderid": "NULL",
                                    "orderdate": "NULL"
                                },
                                {
                                    "custid": "29",
                                    "companyname": "Customer MDLWA",
                                    "orderid": "NULL",
                                    "orderdate": "NULL"
                                },
                                {
                                    "custid": "30",
                                    "companyname": "Customer KSLQF",
                                    "orderid": "NULL",
                                    "orderdate": "NULL"
                                },
                                {
                                    "custid": "31",
                                    "companyname": "Customer YJCBX",
                                    "orderid": "NULL",
                                    "orderdate": "NULL"
                                },
                                {
                                    "custid": "32",
                                    "companyname": "Customer YSIQX",
                                    "orderid": "NULL",
                                    "orderdate": "NULL"
                                },
                                {
                                    "custid": "33",
                                    "companyname": "Customer FVXPQ",
                                    "orderid": "NULL",
                                    "orderdate": "NULL"
                                },
                                {
                                    "custid": "34",
                                    "companyname": "Customer IBVRG",
                                    "orderid": "NULL",
                                    "orderdate": "NULL"
                                },
                                {
                                    "custid": "35",
                                    "companyname": "Customer UMTLM",
                                    "orderid": "NULL",
                                    "orderdate": "NULL"
                                },
                                {
                                    "custid": "36",
                                    "companyname": "Customer LVJSO",
                                    "orderid": "NULL",
                                    "orderdate": "NULL"
                                },
                                {
                                    "custid": "37",
                                    "companyname": "Customer FRXZL",
                                    "orderid": "NULL",
                                    "orderdate": "NULL"
                                },
                                {
                                    "custid": "38",
                                    "companyname": "Customer LJUCA",
                                    "orderid": "NULL",
                                    "orderdate": "NULL"
                                },
                                {
                                    "custid": "39",
                                    "companyname": "Customer GLLAG",
                                    "orderid": "NULL",
                                    "orderdate": "NULL"
                                },
                                {
                                    "custid": "40",
                                    "companyname": "Customer EFFTC",
                                    "orderid": "NULL",
                                    "orderdate": "NULL"
                                },
                                {
                                    "custid": "41",
                                    "companyname": "Customer XIIWM",
                                    "orderid": "NULL",
                                    "orderdate": "NULL"
                                },
                                {
                                    "custid": "42",
                                    "companyname": "Customer IAIJK",
                                    "orderid": "NULL",
                                    "orderdate": "NULL"
                                },
                                {
                                    "custid": "43",
                                    "companyname": "Customer UISOJ",
                                    "orderid": "NULL",
                                    "orderdate": "NULL"
                                },
                                {
                                    "custid": "44",
                                    "companyname": "Customer OXFRU",
                                    "orderid": "NULL",
                                    "orderdate": "NULL"
                                },
                                {
                                    "custid": "45",
                                    "companyname": "Customer QXPPT",
                                    "orderid": "10884",
                                    "orderdate": "2016-02-12"
                                },
                                {
                                    "custid": "46",
                                    "companyname": "Customer XPNIK",
                                    "orderid": "NULL",
                                    "orderdate": "NULL"
                                },
                                {
                                    "custid": "47",
                                    "companyname": "Customer PSQUZ",
                                    "orderid": "NULL",
                                    "orderdate": "NULL"
                                },
                                {
                                    "custid": "48",
                                    "companyname": "Customer DVFMB",
                                    "orderid": "10883",
                                    "orderdate": "2016-02-12"
                                },
                                {
                                    "custid": "49",
                                    "companyname": "Customer CQRAA",
                                    "orderid": "NULL",
                                    "orderdate": "NULL"
                                },
                                {
                                    "custid": "50",
                                    "companyname": "Customer JYPSC",
                                    "orderid": "NULL",
                                    "orderdate": "NULL"
                                },
                                {
                                    "custid": "51",
                                    "companyname": "Customer PVDZC",
                                    "orderid": "NULL",
                                    "orderdate": "NULL"
                                },
                                {
                                    "custid": "52",
                                    "companyname": "Customer PZNLA",
                                    "orderid": "NULL",
                                    "orderdate": "NULL"
                                },
                                {
                                    "custid": "53",
                                    "companyname": "Customer GCJSG",
                                    "orderid": "NULL",
                                    "orderdate": "NULL"
                                },
                                {
                                    "custid": "54",
                                    "companyname": "Customer TDKEG",
                                    "orderid": "NULL",
                                    "orderdate": "NULL"
                                },
                                {
                                    "custid": "55",
                                    "companyname": "Customer KZQZT",
                                    "orderid": "NULL",
                                    "orderdate": "NULL"
                                },
                                {
                                    "custid": "56",
                                    "companyname": "Customer QNIVZ",
                                    "orderid": "NULL",
                                    "orderdate": "NULL"
                                },
                                {
                                    "custid": "57",
                                    "companyname": "Customer WVAXS",
                                    "orderid": "NULL",
                                    "orderdate": "NULL"
                                },
                                {
                                    "custid": "58",
                                    "companyname": "Customer AHXHT",
                                    "orderid": "NULL",
                                    "orderdate": "NULL"
                                },
                                {
                                    "custid": "59",
                                    "companyname": "Customer LOLJO",
                                    "orderid": "NULL",
                                    "orderdate": "NULL"
                                },
                                {
                                    "custid": "60",
                                    "companyname": "Customer QZURI",
                                    "orderid": "NULL",
                                    "orderdate": "NULL"
                                },
                                {
                                    "custid": "61",
                                    "companyname": "Customer WULWD",
                                    "orderid": "NULL",
                                    "orderdate": "NULL"
                                },
                                {
                                    "custid": "62",
                                    "companyname": "Customer WFIZJ",
                                    "orderid": "NULL",
                                    "orderdate": "NULL"
                                },
                                {
                                    "custid": "63",
                                    "companyname": "Customer IRRVL",
                                    "orderid": "NULL",
                                    "orderdate": "NULL"
                                },
                                {
                                    "custid": "64",
                                    "companyname": "Customer LWGMD",
                                    "orderid": "NULL",
                                    "orderdate": "NULL"
                                },
                                {
                                    "custid": "65",
                                    "companyname": "Customer NYUHS",
                                    "orderid": "NULL",
                                    "orderdate": "NULL"
                                },
                                {
                                    "custid": "66",
                                    "companyname": "Customer LHANT",
                                    "orderid": "NULL",
                                    "orderdate": "NULL"
                                },
                                {
                                    "custid": "67",
                                    "companyname": "Customer QVEPD",
                                    "orderid": "NULL",
                                    "orderdate": "NULL"
                                },
                                {
                                    "custid": "68",
                                    "companyname": "Customer CCKOT",
                                    "orderid": "NULL",
                                    "orderdate": "NULL"
                                },
                                {
                                    "custid": "69",
                                    "companyname": "Customer SIUIH",
                                    "orderid": "NULL",
                                    "orderdate": "NULL"
                                },
                                {
                                    "custid": "70",
                                    "companyname": "Customer TMXGN",
                                    "orderid": "NULL",
                                    "orderdate": "NULL"
                                },
                                {
                                    "custid": "71",
                                    "companyname": "Customer LCOUJ",
                                    "orderid": "NULL",
                                    "orderdate": "NULL"
                                },
                                {
                                    "custid": "72",
                                    "companyname": "Customer AHPOP",
                                    "orderid": "NULL",
                                    "orderdate": "NULL"
                                },
                                {
                                    "custid": "73",
                                    "companyname": "Customer JMIKW",
                                    "orderid": "NULL",
                                    "orderdate": "NULL"
                                },
                                {
                                    "custid": "74",
                                    "companyname": "Customer YSHXL",
                                    "orderid": "NULL",
                                    "orderdate": "NULL"
                                },
                                {
                                    "custid": "75",
                                    "companyname": "Customer XOJYP",
                                    "orderid": "NULL",
                                    "orderdate": "NULL"
                                },
                                {
                                    "custid": "76",
                                    "companyname": "Customer SFOGW",
                                    "orderid": "10885",
                                    "orderdate": "2016-02-12"
                                },
                                {
                                    "custid": "77",
                                    "companyname": "Customer LCYBZ",
                                    "orderid": "NULL",
                                    "orderdate": "NULL"
                                },
                                {
                                    "custid": "78",
                                    "companyname": "Customer NLTYP",
                                    "orderid": "NULL",
                                    "orderdate": "NULL"
                                },
                                {
                                    "custid": "79",
                                    "companyname": "Customer FAPSM",
                                    "orderid": "NULL",
                                    "orderdate": "NULL"
                                },
                                {
                                    "custid": "80",
                                    "companyname": "Customer VONTK",
                                    "orderid": "NULL",
                                    "orderdate": "NULL"
                                },
                                {
                                    "custid": "81",
                                    "companyname": "Customer YQQWW",
                                    "orderid": "NULL",
                                    "orderdate": "NULL"
                                },
                                {
                                    "custid": "82",
                                    "companyname": "Customer EYHKM",
                                    "orderid": "NULL",
                                    "orderdate": "NULL"
                                },
                                {
                                    "custid": "83",
                                    "companyname": "Customer ZRNDE",
                                    "orderid": "NULL",
                                    "orderdate": "NULL"
                                },
                                {
                                    "custid": "84",
                                    "companyname": "Customer NRCSK",
                                    "orderid": "NULL",
                                    "orderdate": "NULL"
                                },
                                {
                                    "custid": "85",
                                    "companyname": "Customer ENQZT",
                                    "orderid": "NULL",
                                    "orderdate": "NULL"
                                },
                                {
                                    "custid": "86",
                                    "companyname": "Customer SNXOJ",
                                    "orderid": "NULL",
                                    "orderdate": "NULL"
                                },
                                {
                                    "custid": "87",
                                    "companyname": "Customer ZHYOS",
                                    "orderid": "NULL",
                                    "orderdate": "NULL"
                                },
                                {
                                    "custid": "88",
                                    "companyname": "Customer SRQVM",
                                    "orderid": "NULL",
                                    "orderdate": "NULL"
                                },
                                {
                                    "custid": "89",
                                    "companyname": "Customer YBQTI",
                                    "orderid": "NULL",
                                    "orderdate": "NULL"
                                },
                                {
                                    "custid": "90",
                                    "companyname": "Customer XBBVR",
                                    "orderid": "NULL",
                                    "orderdate": "NULL"
                                },
                                {
                                    "custid": "91",
                                    "companyname": "Customer CCFIZ",
                                    "orderid": "NULL",
                                    "orderdate": "NULL"
                                }
                            ]
                        },
                        "text/html": [
                            "<table>",
                            "<tr><th>custid</th><th>companyname</th><th>orderid</th><th>orderdate</th></tr>",
                            "<tr><td>1</td><td>Customer NRZBB</td><td>NULL</td><td>NULL</td></tr>",
                            "<tr><td>2</td><td>Customer MLTDN</td><td>NULL</td><td>NULL</td></tr>",
                            "<tr><td>3</td><td>Customer KBUDE</td><td>NULL</td><td>NULL</td></tr>",
                            "<tr><td>4</td><td>Customer HFBZG</td><td>NULL</td><td>NULL</td></tr>",
                            "<tr><td>5</td><td>Customer HGVLZ</td><td>NULL</td><td>NULL</td></tr>",
                            "<tr><td>6</td><td>Customer XHXJV</td><td>NULL</td><td>NULL</td></tr>",
                            "<tr><td>7</td><td>Customer QXVLA</td><td>NULL</td><td>NULL</td></tr>",
                            "<tr><td>8</td><td>Customer QUHWH</td><td>NULL</td><td>NULL</td></tr>",
                            "<tr><td>9</td><td>Customer RTXGC</td><td>NULL</td><td>NULL</td></tr>",
                            "<tr><td>10</td><td>Customer EEALV</td><td>NULL</td><td>NULL</td></tr>",
                            "<tr><td>11</td><td>Customer UBHAU</td><td>NULL</td><td>NULL</td></tr>",
                            "<tr><td>12</td><td>Customer PSNMQ</td><td>NULL</td><td>NULL</td></tr>",
                            "<tr><td>13</td><td>Customer VMLOG</td><td>NULL</td><td>NULL</td></tr>",
                            "<tr><td>14</td><td>Customer WNMAF</td><td>NULL</td><td>NULL</td></tr>",
                            "<tr><td>15</td><td>Customer JUWXK</td><td>NULL</td><td>NULL</td></tr>",
                            "<tr><td>16</td><td>Customer GYBBY</td><td>NULL</td><td>NULL</td></tr>",
                            "<tr><td>17</td><td>Customer FEVNN</td><td>NULL</td><td>NULL</td></tr>",
                            "<tr><td>18</td><td>Customer BSVAR</td><td>NULL</td><td>NULL</td></tr>",
                            "<tr><td>19</td><td>Customer RFNQC</td><td>NULL</td><td>NULL</td></tr>",
                            "<tr><td>20</td><td>Customer THHDP</td><td>NULL</td><td>NULL</td></tr>",
                            "<tr><td>21</td><td>Customer KIDPX</td><td>NULL</td><td>NULL</td></tr>",
                            "<tr><td>22</td><td>Customer DTDMN</td><td>NULL</td><td>NULL</td></tr>",
                            "<tr><td>23</td><td>Customer WVFAF</td><td>NULL</td><td>NULL</td></tr>",
                            "<tr><td>24</td><td>Customer CYZTN</td><td>NULL</td><td>NULL</td></tr>",
                            "<tr><td>25</td><td>Customer AZJED</td><td>NULL</td><td>NULL</td></tr>",
                            "<tr><td>26</td><td>Customer USDBG</td><td>NULL</td><td>NULL</td></tr>",
                            "<tr><td>27</td><td>Customer WMFEA</td><td>NULL</td><td>NULL</td></tr>",
                            "<tr><td>28</td><td>Customer XYUFB</td><td>NULL</td><td>NULL</td></tr>",
                            "<tr><td>29</td><td>Customer MDLWA</td><td>NULL</td><td>NULL</td></tr>",
                            "<tr><td>30</td><td>Customer KSLQF</td><td>NULL</td><td>NULL</td></tr>",
                            "<tr><td>31</td><td>Customer YJCBX</td><td>NULL</td><td>NULL</td></tr>",
                            "<tr><td>32</td><td>Customer YSIQX</td><td>NULL</td><td>NULL</td></tr>",
                            "<tr><td>33</td><td>Customer FVXPQ</td><td>NULL</td><td>NULL</td></tr>",
                            "<tr><td>34</td><td>Customer IBVRG</td><td>NULL</td><td>NULL</td></tr>",
                            "<tr><td>35</td><td>Customer UMTLM</td><td>NULL</td><td>NULL</td></tr>",
                            "<tr><td>36</td><td>Customer LVJSO</td><td>NULL</td><td>NULL</td></tr>",
                            "<tr><td>37</td><td>Customer FRXZL</td><td>NULL</td><td>NULL</td></tr>",
                            "<tr><td>38</td><td>Customer LJUCA</td><td>NULL</td><td>NULL</td></tr>",
                            "<tr><td>39</td><td>Customer GLLAG</td><td>NULL</td><td>NULL</td></tr>",
                            "<tr><td>40</td><td>Customer EFFTC</td><td>NULL</td><td>NULL</td></tr>",
                            "<tr><td>41</td><td>Customer XIIWM</td><td>NULL</td><td>NULL</td></tr>",
                            "<tr><td>42</td><td>Customer IAIJK</td><td>NULL</td><td>NULL</td></tr>",
                            "<tr><td>43</td><td>Customer UISOJ</td><td>NULL</td><td>NULL</td></tr>",
                            "<tr><td>44</td><td>Customer OXFRU</td><td>NULL</td><td>NULL</td></tr>",
                            "<tr><td>45</td><td>Customer QXPPT</td><td>10884</td><td>2016-02-12</td></tr>",
                            "<tr><td>46</td><td>Customer XPNIK</td><td>NULL</td><td>NULL</td></tr>",
                            "<tr><td>47</td><td>Customer PSQUZ</td><td>NULL</td><td>NULL</td></tr>",
                            "<tr><td>48</td><td>Customer DVFMB</td><td>10883</td><td>2016-02-12</td></tr>",
                            "<tr><td>49</td><td>Customer CQRAA</td><td>NULL</td><td>NULL</td></tr>",
                            "<tr><td>50</td><td>Customer JYPSC</td><td>NULL</td><td>NULL</td></tr>",
                            "<tr><td>51</td><td>Customer PVDZC</td><td>NULL</td><td>NULL</td></tr>",
                            "<tr><td>52</td><td>Customer PZNLA</td><td>NULL</td><td>NULL</td></tr>",
                            "<tr><td>53</td><td>Customer GCJSG</td><td>NULL</td><td>NULL</td></tr>",
                            "<tr><td>54</td><td>Customer TDKEG</td><td>NULL</td><td>NULL</td></tr>",
                            "<tr><td>55</td><td>Customer KZQZT</td><td>NULL</td><td>NULL</td></tr>",
                            "<tr><td>56</td><td>Customer QNIVZ</td><td>NULL</td><td>NULL</td></tr>",
                            "<tr><td>57</td><td>Customer WVAXS</td><td>NULL</td><td>NULL</td></tr>",
                            "<tr><td>58</td><td>Customer AHXHT</td><td>NULL</td><td>NULL</td></tr>",
                            "<tr><td>59</td><td>Customer LOLJO</td><td>NULL</td><td>NULL</td></tr>",
                            "<tr><td>60</td><td>Customer QZURI</td><td>NULL</td><td>NULL</td></tr>",
                            "<tr><td>61</td><td>Customer WULWD</td><td>NULL</td><td>NULL</td></tr>",
                            "<tr><td>62</td><td>Customer WFIZJ</td><td>NULL</td><td>NULL</td></tr>",
                            "<tr><td>63</td><td>Customer IRRVL</td><td>NULL</td><td>NULL</td></tr>",
                            "<tr><td>64</td><td>Customer LWGMD</td><td>NULL</td><td>NULL</td></tr>",
                            "<tr><td>65</td><td>Customer NYUHS</td><td>NULL</td><td>NULL</td></tr>",
                            "<tr><td>66</td><td>Customer LHANT</td><td>NULL</td><td>NULL</td></tr>",
                            "<tr><td>67</td><td>Customer QVEPD</td><td>NULL</td><td>NULL</td></tr>",
                            "<tr><td>68</td><td>Customer CCKOT</td><td>NULL</td><td>NULL</td></tr>",
                            "<tr><td>69</td><td>Customer SIUIH</td><td>NULL</td><td>NULL</td></tr>",
                            "<tr><td>70</td><td>Customer TMXGN</td><td>NULL</td><td>NULL</td></tr>",
                            "<tr><td>71</td><td>Customer LCOUJ</td><td>NULL</td><td>NULL</td></tr>",
                            "<tr><td>72</td><td>Customer AHPOP</td><td>NULL</td><td>NULL</td></tr>",
                            "<tr><td>73</td><td>Customer JMIKW</td><td>NULL</td><td>NULL</td></tr>",
                            "<tr><td>74</td><td>Customer YSHXL</td><td>NULL</td><td>NULL</td></tr>",
                            "<tr><td>75</td><td>Customer XOJYP</td><td>NULL</td><td>NULL</td></tr>",
                            "<tr><td>76</td><td>Customer SFOGW</td><td>10885</td><td>2016-02-12</td></tr>",
                            "<tr><td>77</td><td>Customer LCYBZ</td><td>NULL</td><td>NULL</td></tr>",
                            "<tr><td>78</td><td>Customer NLTYP</td><td>NULL</td><td>NULL</td></tr>",
                            "<tr><td>79</td><td>Customer FAPSM</td><td>NULL</td><td>NULL</td></tr>",
                            "<tr><td>80</td><td>Customer VONTK</td><td>NULL</td><td>NULL</td></tr>",
                            "<tr><td>81</td><td>Customer YQQWW</td><td>NULL</td><td>NULL</td></tr>",
                            "<tr><td>82</td><td>Customer EYHKM</td><td>NULL</td><td>NULL</td></tr>",
                            "<tr><td>83</td><td>Customer ZRNDE</td><td>NULL</td><td>NULL</td></tr>",
                            "<tr><td>84</td><td>Customer NRCSK</td><td>NULL</td><td>NULL</td></tr>",
                            "<tr><td>85</td><td>Customer ENQZT</td><td>NULL</td><td>NULL</td></tr>",
                            "<tr><td>86</td><td>Customer SNXOJ</td><td>NULL</td><td>NULL</td></tr>",
                            "<tr><td>87</td><td>Customer ZHYOS</td><td>NULL</td><td>NULL</td></tr>",
                            "<tr><td>88</td><td>Customer SRQVM</td><td>NULL</td><td>NULL</td></tr>",
                            "<tr><td>89</td><td>Customer YBQTI</td><td>NULL</td><td>NULL</td></tr>",
                            "<tr><td>90</td><td>Customer XBBVR</td><td>NULL</td><td>NULL</td></tr>",
                            "<tr><td>91</td><td>Customer CCFIZ</td><td>NULL</td><td>NULL</td></tr>",
                            "</table>"
                        ]
                    }
                },
                {
                    "output_type": "execute_result",
                    "metadata": {},
                    "execution_count": 1,
                    "data": {
                        "application/vnd.dataresource+json": {
                            "schema": {
                                "fields": [
                                    {
                                        "name": "customerID"
                                    },
                                    {
                                        "name": "CustomerCompanyName"
                                    },
                                    {
                                        "name": "orderid"
                                    },
                                    {
                                        "name": "orderdate"
                                    }
                                ]
                            },
                            "data": [
                                {
                                    "customerID": "1",
                                    "CustomerCompanyName": "Customer NRZBB",
                                    "orderid": "NULL",
                                    "orderdate": "NULL"
                                },
                                {
                                    "customerID": "2",
                                    "CustomerCompanyName": "Customer MLTDN",
                                    "orderid": "NULL",
                                    "orderdate": "NULL"
                                },
                                {
                                    "customerID": "3",
                                    "CustomerCompanyName": "Customer KBUDE",
                                    "orderid": "NULL",
                                    "orderdate": "NULL"
                                },
                                {
                                    "customerID": "4",
                                    "CustomerCompanyName": "Customer HFBZG",
                                    "orderid": "NULL",
                                    "orderdate": "NULL"
                                },
                                {
                                    "customerID": "5",
                                    "CustomerCompanyName": "Customer HGVLZ",
                                    "orderid": "NULL",
                                    "orderdate": "NULL"
                                },
                                {
                                    "customerID": "6",
                                    "CustomerCompanyName": "Customer XHXJV",
                                    "orderid": "NULL",
                                    "orderdate": "NULL"
                                },
                                {
                                    "customerID": "7",
                                    "CustomerCompanyName": "Customer QXVLA",
                                    "orderid": "NULL",
                                    "orderdate": "NULL"
                                },
                                {
                                    "customerID": "8",
                                    "CustomerCompanyName": "Customer QUHWH",
                                    "orderid": "NULL",
                                    "orderdate": "NULL"
                                },
                                {
                                    "customerID": "9",
                                    "CustomerCompanyName": "Customer RTXGC",
                                    "orderid": "NULL",
                                    "orderdate": "NULL"
                                },
                                {
                                    "customerID": "10",
                                    "CustomerCompanyName": "Customer EEALV",
                                    "orderid": "NULL",
                                    "orderdate": "NULL"
                                },
                                {
                                    "customerID": "11",
                                    "CustomerCompanyName": "Customer UBHAU",
                                    "orderid": "NULL",
                                    "orderdate": "NULL"
                                },
                                {
                                    "customerID": "12",
                                    "CustomerCompanyName": "Customer PSNMQ",
                                    "orderid": "NULL",
                                    "orderdate": "NULL"
                                },
                                {
                                    "customerID": "13",
                                    "CustomerCompanyName": "Customer VMLOG",
                                    "orderid": "NULL",
                                    "orderdate": "NULL"
                                },
                                {
                                    "customerID": "14",
                                    "CustomerCompanyName": "Customer WNMAF",
                                    "orderid": "NULL",
                                    "orderdate": "NULL"
                                },
                                {
                                    "customerID": "15",
                                    "CustomerCompanyName": "Customer JUWXK",
                                    "orderid": "NULL",
                                    "orderdate": "NULL"
                                },
                                {
                                    "customerID": "16",
                                    "CustomerCompanyName": "Customer GYBBY",
                                    "orderid": "NULL",
                                    "orderdate": "NULL"
                                },
                                {
                                    "customerID": "17",
                                    "CustomerCompanyName": "Customer FEVNN",
                                    "orderid": "NULL",
                                    "orderdate": "NULL"
                                },
                                {
                                    "customerID": "18",
                                    "CustomerCompanyName": "Customer BSVAR",
                                    "orderid": "NULL",
                                    "orderdate": "NULL"
                                },
                                {
                                    "customerID": "19",
                                    "CustomerCompanyName": "Customer RFNQC",
                                    "orderid": "NULL",
                                    "orderdate": "NULL"
                                },
                                {
                                    "customerID": "20",
                                    "CustomerCompanyName": "Customer THHDP",
                                    "orderid": "NULL",
                                    "orderdate": "NULL"
                                },
                                {
                                    "customerID": "21",
                                    "CustomerCompanyName": "Customer KIDPX",
                                    "orderid": "NULL",
                                    "orderdate": "NULL"
                                },
                                {
                                    "customerID": "22",
                                    "CustomerCompanyName": "Customer DTDMN",
                                    "orderid": "NULL",
                                    "orderdate": "NULL"
                                },
                                {
                                    "customerID": "23",
                                    "CustomerCompanyName": "Customer WVFAF",
                                    "orderid": "NULL",
                                    "orderdate": "NULL"
                                },
                                {
                                    "customerID": "24",
                                    "CustomerCompanyName": "Customer CYZTN",
                                    "orderid": "NULL",
                                    "orderdate": "NULL"
                                },
                                {
                                    "customerID": "25",
                                    "CustomerCompanyName": "Customer AZJED",
                                    "orderid": "NULL",
                                    "orderdate": "NULL"
                                },
                                {
                                    "customerID": "26",
                                    "CustomerCompanyName": "Customer USDBG",
                                    "orderid": "NULL",
                                    "orderdate": "NULL"
                                },
                                {
                                    "customerID": "27",
                                    "CustomerCompanyName": "Customer WMFEA",
                                    "orderid": "NULL",
                                    "orderdate": "NULL"
                                },
                                {
                                    "customerID": "28",
                                    "CustomerCompanyName": "Customer XYUFB",
                                    "orderid": "NULL",
                                    "orderdate": "NULL"
                                },
                                {
                                    "customerID": "29",
                                    "CustomerCompanyName": "Customer MDLWA",
                                    "orderid": "NULL",
                                    "orderdate": "NULL"
                                },
                                {
                                    "customerID": "30",
                                    "CustomerCompanyName": "Customer KSLQF",
                                    "orderid": "NULL",
                                    "orderdate": "NULL"
                                },
                                {
                                    "customerID": "31",
                                    "CustomerCompanyName": "Customer YJCBX",
                                    "orderid": "NULL",
                                    "orderdate": "NULL"
                                },
                                {
                                    "customerID": "32",
                                    "CustomerCompanyName": "Customer YSIQX",
                                    "orderid": "NULL",
                                    "orderdate": "NULL"
                                },
                                {
                                    "customerID": "33",
                                    "CustomerCompanyName": "Customer FVXPQ",
                                    "orderid": "NULL",
                                    "orderdate": "NULL"
                                },
                                {
                                    "customerID": "34",
                                    "CustomerCompanyName": "Customer IBVRG",
                                    "orderid": "NULL",
                                    "orderdate": "NULL"
                                },
                                {
                                    "customerID": "35",
                                    "CustomerCompanyName": "Customer UMTLM",
                                    "orderid": "NULL",
                                    "orderdate": "NULL"
                                },
                                {
                                    "customerID": "36",
                                    "CustomerCompanyName": "Customer LVJSO",
                                    "orderid": "NULL",
                                    "orderdate": "NULL"
                                },
                                {
                                    "customerID": "37",
                                    "CustomerCompanyName": "Customer FRXZL",
                                    "orderid": "NULL",
                                    "orderdate": "NULL"
                                },
                                {
                                    "customerID": "38",
                                    "CustomerCompanyName": "Customer LJUCA",
                                    "orderid": "NULL",
                                    "orderdate": "NULL"
                                },
                                {
                                    "customerID": "39",
                                    "CustomerCompanyName": "Customer GLLAG",
                                    "orderid": "NULL",
                                    "orderdate": "NULL"
                                },
                                {
                                    "customerID": "40",
                                    "CustomerCompanyName": "Customer EFFTC",
                                    "orderid": "NULL",
                                    "orderdate": "NULL"
                                },
                                {
                                    "customerID": "41",
                                    "CustomerCompanyName": "Customer XIIWM",
                                    "orderid": "NULL",
                                    "orderdate": "NULL"
                                },
                                {
                                    "customerID": "42",
                                    "CustomerCompanyName": "Customer IAIJK",
                                    "orderid": "NULL",
                                    "orderdate": "NULL"
                                },
                                {
                                    "customerID": "43",
                                    "CustomerCompanyName": "Customer UISOJ",
                                    "orderid": "NULL",
                                    "orderdate": "NULL"
                                },
                                {
                                    "customerID": "44",
                                    "CustomerCompanyName": "Customer OXFRU",
                                    "orderid": "NULL",
                                    "orderdate": "NULL"
                                },
                                {
                                    "customerID": "45",
                                    "CustomerCompanyName": "Customer QXPPT",
                                    "orderid": "10884",
                                    "orderdate": "2016-02-12"
                                },
                                {
                                    "customerID": "46",
                                    "CustomerCompanyName": "Customer XPNIK",
                                    "orderid": "NULL",
                                    "orderdate": "NULL"
                                },
                                {
                                    "customerID": "47",
                                    "CustomerCompanyName": "Customer PSQUZ",
                                    "orderid": "NULL",
                                    "orderdate": "NULL"
                                },
                                {
                                    "customerID": "48",
                                    "CustomerCompanyName": "Customer DVFMB",
                                    "orderid": "10883",
                                    "orderdate": "2016-02-12"
                                },
                                {
                                    "customerID": "49",
                                    "CustomerCompanyName": "Customer CQRAA",
                                    "orderid": "NULL",
                                    "orderdate": "NULL"
                                },
                                {
                                    "customerID": "50",
                                    "CustomerCompanyName": "Customer JYPSC",
                                    "orderid": "NULL",
                                    "orderdate": "NULL"
                                },
                                {
                                    "customerID": "51",
                                    "CustomerCompanyName": "Customer PVDZC",
                                    "orderid": "NULL",
                                    "orderdate": "NULL"
                                },
                                {
                                    "customerID": "52",
                                    "CustomerCompanyName": "Customer PZNLA",
                                    "orderid": "NULL",
                                    "orderdate": "NULL"
                                },
                                {
                                    "customerID": "53",
                                    "CustomerCompanyName": "Customer GCJSG",
                                    "orderid": "NULL",
                                    "orderdate": "NULL"
                                },
                                {
                                    "customerID": "54",
                                    "CustomerCompanyName": "Customer TDKEG",
                                    "orderid": "NULL",
                                    "orderdate": "NULL"
                                },
                                {
                                    "customerID": "55",
                                    "CustomerCompanyName": "Customer KZQZT",
                                    "orderid": "NULL",
                                    "orderdate": "NULL"
                                },
                                {
                                    "customerID": "56",
                                    "CustomerCompanyName": "Customer QNIVZ",
                                    "orderid": "NULL",
                                    "orderdate": "NULL"
                                },
                                {
                                    "customerID": "57",
                                    "CustomerCompanyName": "Customer WVAXS",
                                    "orderid": "NULL",
                                    "orderdate": "NULL"
                                },
                                {
                                    "customerID": "58",
                                    "CustomerCompanyName": "Customer AHXHT",
                                    "orderid": "NULL",
                                    "orderdate": "NULL"
                                },
                                {
                                    "customerID": "59",
                                    "CustomerCompanyName": "Customer LOLJO",
                                    "orderid": "NULL",
                                    "orderdate": "NULL"
                                },
                                {
                                    "customerID": "60",
                                    "CustomerCompanyName": "Customer QZURI",
                                    "orderid": "NULL",
                                    "orderdate": "NULL"
                                },
                                {
                                    "customerID": "61",
                                    "CustomerCompanyName": "Customer WULWD",
                                    "orderid": "NULL",
                                    "orderdate": "NULL"
                                },
                                {
                                    "customerID": "62",
                                    "CustomerCompanyName": "Customer WFIZJ",
                                    "orderid": "NULL",
                                    "orderdate": "NULL"
                                },
                                {
                                    "customerID": "63",
                                    "CustomerCompanyName": "Customer IRRVL",
                                    "orderid": "NULL",
                                    "orderdate": "NULL"
                                },
                                {
                                    "customerID": "64",
                                    "CustomerCompanyName": "Customer LWGMD",
                                    "orderid": "NULL",
                                    "orderdate": "NULL"
                                },
                                {
                                    "customerID": "65",
                                    "CustomerCompanyName": "Customer NYUHS",
                                    "orderid": "NULL",
                                    "orderdate": "NULL"
                                },
                                {
                                    "customerID": "66",
                                    "CustomerCompanyName": "Customer LHANT",
                                    "orderid": "NULL",
                                    "orderdate": "NULL"
                                },
                                {
                                    "customerID": "67",
                                    "CustomerCompanyName": "Customer QVEPD",
                                    "orderid": "NULL",
                                    "orderdate": "NULL"
                                },
                                {
                                    "customerID": "68",
                                    "CustomerCompanyName": "Customer CCKOT",
                                    "orderid": "NULL",
                                    "orderdate": "NULL"
                                },
                                {
                                    "customerID": "69",
                                    "CustomerCompanyName": "Customer SIUIH",
                                    "orderid": "NULL",
                                    "orderdate": "NULL"
                                },
                                {
                                    "customerID": "70",
                                    "CustomerCompanyName": "Customer TMXGN",
                                    "orderid": "NULL",
                                    "orderdate": "NULL"
                                },
                                {
                                    "customerID": "71",
                                    "CustomerCompanyName": "Customer LCOUJ",
                                    "orderid": "NULL",
                                    "orderdate": "NULL"
                                },
                                {
                                    "customerID": "72",
                                    "CustomerCompanyName": "Customer AHPOP",
                                    "orderid": "NULL",
                                    "orderdate": "NULL"
                                },
                                {
                                    "customerID": "73",
                                    "CustomerCompanyName": "Customer JMIKW",
                                    "orderid": "NULL",
                                    "orderdate": "NULL"
                                },
                                {
                                    "customerID": "74",
                                    "CustomerCompanyName": "Customer YSHXL",
                                    "orderid": "NULL",
                                    "orderdate": "NULL"
                                },
                                {
                                    "customerID": "75",
                                    "CustomerCompanyName": "Customer XOJYP",
                                    "orderid": "NULL",
                                    "orderdate": "NULL"
                                },
                                {
                                    "customerID": "76",
                                    "CustomerCompanyName": "Customer SFOGW",
                                    "orderid": "10885",
                                    "orderdate": "2016-02-12"
                                },
                                {
                                    "customerID": "77",
                                    "CustomerCompanyName": "Customer LCYBZ",
                                    "orderid": "NULL",
                                    "orderdate": "NULL"
                                },
                                {
                                    "customerID": "78",
                                    "CustomerCompanyName": "Customer NLTYP",
                                    "orderid": "NULL",
                                    "orderdate": "NULL"
                                },
                                {
                                    "customerID": "79",
                                    "CustomerCompanyName": "Customer FAPSM",
                                    "orderid": "NULL",
                                    "orderdate": "NULL"
                                },
                                {
                                    "customerID": "80",
                                    "CustomerCompanyName": "Customer VONTK",
                                    "orderid": "NULL",
                                    "orderdate": "NULL"
                                },
                                {
                                    "customerID": "81",
                                    "CustomerCompanyName": "Customer YQQWW",
                                    "orderid": "NULL",
                                    "orderdate": "NULL"
                                },
                                {
                                    "customerID": "82",
                                    "CustomerCompanyName": "Customer EYHKM",
                                    "orderid": "NULL",
                                    "orderdate": "NULL"
                                },
                                {
                                    "customerID": "83",
                                    "CustomerCompanyName": "Customer ZRNDE",
                                    "orderid": "NULL",
                                    "orderdate": "NULL"
                                },
                                {
                                    "customerID": "84",
                                    "CustomerCompanyName": "Customer NRCSK",
                                    "orderid": "NULL",
                                    "orderdate": "NULL"
                                },
                                {
                                    "customerID": "85",
                                    "CustomerCompanyName": "Customer ENQZT",
                                    "orderid": "NULL",
                                    "orderdate": "NULL"
                                },
                                {
                                    "customerID": "86",
                                    "CustomerCompanyName": "Customer SNXOJ",
                                    "orderid": "NULL",
                                    "orderdate": "NULL"
                                },
                                {
                                    "customerID": "87",
                                    "CustomerCompanyName": "Customer ZHYOS",
                                    "orderid": "NULL",
                                    "orderdate": "NULL"
                                },
                                {
                                    "customerID": "88",
                                    "CustomerCompanyName": "Customer SRQVM",
                                    "orderid": "NULL",
                                    "orderdate": "NULL"
                                },
                                {
                                    "customerID": "89",
                                    "CustomerCompanyName": "Customer YBQTI",
                                    "orderid": "NULL",
                                    "orderdate": "NULL"
                                },
                                {
                                    "customerID": "90",
                                    "CustomerCompanyName": "Customer XBBVR",
                                    "orderid": "NULL",
                                    "orderdate": "NULL"
                                },
                                {
                                    "customerID": "91",
                                    "CustomerCompanyName": "Customer CCFIZ",
                                    "orderid": "NULL",
                                    "orderdate": "NULL"
                                }
                            ]
                        },
                        "text/html": [
                            "<table>",
                            "<tr><th>customerID</th><th>CustomerCompanyName</th><th>orderid</th><th>orderdate</th></tr>",
                            "<tr><td>1</td><td>Customer NRZBB</td><td>NULL</td><td>NULL</td></tr>",
                            "<tr><td>2</td><td>Customer MLTDN</td><td>NULL</td><td>NULL</td></tr>",
                            "<tr><td>3</td><td>Customer KBUDE</td><td>NULL</td><td>NULL</td></tr>",
                            "<tr><td>4</td><td>Customer HFBZG</td><td>NULL</td><td>NULL</td></tr>",
                            "<tr><td>5</td><td>Customer HGVLZ</td><td>NULL</td><td>NULL</td></tr>",
                            "<tr><td>6</td><td>Customer XHXJV</td><td>NULL</td><td>NULL</td></tr>",
                            "<tr><td>7</td><td>Customer QXVLA</td><td>NULL</td><td>NULL</td></tr>",
                            "<tr><td>8</td><td>Customer QUHWH</td><td>NULL</td><td>NULL</td></tr>",
                            "<tr><td>9</td><td>Customer RTXGC</td><td>NULL</td><td>NULL</td></tr>",
                            "<tr><td>10</td><td>Customer EEALV</td><td>NULL</td><td>NULL</td></tr>",
                            "<tr><td>11</td><td>Customer UBHAU</td><td>NULL</td><td>NULL</td></tr>",
                            "<tr><td>12</td><td>Customer PSNMQ</td><td>NULL</td><td>NULL</td></tr>",
                            "<tr><td>13</td><td>Customer VMLOG</td><td>NULL</td><td>NULL</td></tr>",
                            "<tr><td>14</td><td>Customer WNMAF</td><td>NULL</td><td>NULL</td></tr>",
                            "<tr><td>15</td><td>Customer JUWXK</td><td>NULL</td><td>NULL</td></tr>",
                            "<tr><td>16</td><td>Customer GYBBY</td><td>NULL</td><td>NULL</td></tr>",
                            "<tr><td>17</td><td>Customer FEVNN</td><td>NULL</td><td>NULL</td></tr>",
                            "<tr><td>18</td><td>Customer BSVAR</td><td>NULL</td><td>NULL</td></tr>",
                            "<tr><td>19</td><td>Customer RFNQC</td><td>NULL</td><td>NULL</td></tr>",
                            "<tr><td>20</td><td>Customer THHDP</td><td>NULL</td><td>NULL</td></tr>",
                            "<tr><td>21</td><td>Customer KIDPX</td><td>NULL</td><td>NULL</td></tr>",
                            "<tr><td>22</td><td>Customer DTDMN</td><td>NULL</td><td>NULL</td></tr>",
                            "<tr><td>23</td><td>Customer WVFAF</td><td>NULL</td><td>NULL</td></tr>",
                            "<tr><td>24</td><td>Customer CYZTN</td><td>NULL</td><td>NULL</td></tr>",
                            "<tr><td>25</td><td>Customer AZJED</td><td>NULL</td><td>NULL</td></tr>",
                            "<tr><td>26</td><td>Customer USDBG</td><td>NULL</td><td>NULL</td></tr>",
                            "<tr><td>27</td><td>Customer WMFEA</td><td>NULL</td><td>NULL</td></tr>",
                            "<tr><td>28</td><td>Customer XYUFB</td><td>NULL</td><td>NULL</td></tr>",
                            "<tr><td>29</td><td>Customer MDLWA</td><td>NULL</td><td>NULL</td></tr>",
                            "<tr><td>30</td><td>Customer KSLQF</td><td>NULL</td><td>NULL</td></tr>",
                            "<tr><td>31</td><td>Customer YJCBX</td><td>NULL</td><td>NULL</td></tr>",
                            "<tr><td>32</td><td>Customer YSIQX</td><td>NULL</td><td>NULL</td></tr>",
                            "<tr><td>33</td><td>Customer FVXPQ</td><td>NULL</td><td>NULL</td></tr>",
                            "<tr><td>34</td><td>Customer IBVRG</td><td>NULL</td><td>NULL</td></tr>",
                            "<tr><td>35</td><td>Customer UMTLM</td><td>NULL</td><td>NULL</td></tr>",
                            "<tr><td>36</td><td>Customer LVJSO</td><td>NULL</td><td>NULL</td></tr>",
                            "<tr><td>37</td><td>Customer FRXZL</td><td>NULL</td><td>NULL</td></tr>",
                            "<tr><td>38</td><td>Customer LJUCA</td><td>NULL</td><td>NULL</td></tr>",
                            "<tr><td>39</td><td>Customer GLLAG</td><td>NULL</td><td>NULL</td></tr>",
                            "<tr><td>40</td><td>Customer EFFTC</td><td>NULL</td><td>NULL</td></tr>",
                            "<tr><td>41</td><td>Customer XIIWM</td><td>NULL</td><td>NULL</td></tr>",
                            "<tr><td>42</td><td>Customer IAIJK</td><td>NULL</td><td>NULL</td></tr>",
                            "<tr><td>43</td><td>Customer UISOJ</td><td>NULL</td><td>NULL</td></tr>",
                            "<tr><td>44</td><td>Customer OXFRU</td><td>NULL</td><td>NULL</td></tr>",
                            "<tr><td>45</td><td>Customer QXPPT</td><td>10884</td><td>2016-02-12</td></tr>",
                            "<tr><td>46</td><td>Customer XPNIK</td><td>NULL</td><td>NULL</td></tr>",
                            "<tr><td>47</td><td>Customer PSQUZ</td><td>NULL</td><td>NULL</td></tr>",
                            "<tr><td>48</td><td>Customer DVFMB</td><td>10883</td><td>2016-02-12</td></tr>",
                            "<tr><td>49</td><td>Customer CQRAA</td><td>NULL</td><td>NULL</td></tr>",
                            "<tr><td>50</td><td>Customer JYPSC</td><td>NULL</td><td>NULL</td></tr>",
                            "<tr><td>51</td><td>Customer PVDZC</td><td>NULL</td><td>NULL</td></tr>",
                            "<tr><td>52</td><td>Customer PZNLA</td><td>NULL</td><td>NULL</td></tr>",
                            "<tr><td>53</td><td>Customer GCJSG</td><td>NULL</td><td>NULL</td></tr>",
                            "<tr><td>54</td><td>Customer TDKEG</td><td>NULL</td><td>NULL</td></tr>",
                            "<tr><td>55</td><td>Customer KZQZT</td><td>NULL</td><td>NULL</td></tr>",
                            "<tr><td>56</td><td>Customer QNIVZ</td><td>NULL</td><td>NULL</td></tr>",
                            "<tr><td>57</td><td>Customer WVAXS</td><td>NULL</td><td>NULL</td></tr>",
                            "<tr><td>58</td><td>Customer AHXHT</td><td>NULL</td><td>NULL</td></tr>",
                            "<tr><td>59</td><td>Customer LOLJO</td><td>NULL</td><td>NULL</td></tr>",
                            "<tr><td>60</td><td>Customer QZURI</td><td>NULL</td><td>NULL</td></tr>",
                            "<tr><td>61</td><td>Customer WULWD</td><td>NULL</td><td>NULL</td></tr>",
                            "<tr><td>62</td><td>Customer WFIZJ</td><td>NULL</td><td>NULL</td></tr>",
                            "<tr><td>63</td><td>Customer IRRVL</td><td>NULL</td><td>NULL</td></tr>",
                            "<tr><td>64</td><td>Customer LWGMD</td><td>NULL</td><td>NULL</td></tr>",
                            "<tr><td>65</td><td>Customer NYUHS</td><td>NULL</td><td>NULL</td></tr>",
                            "<tr><td>66</td><td>Customer LHANT</td><td>NULL</td><td>NULL</td></tr>",
                            "<tr><td>67</td><td>Customer QVEPD</td><td>NULL</td><td>NULL</td></tr>",
                            "<tr><td>68</td><td>Customer CCKOT</td><td>NULL</td><td>NULL</td></tr>",
                            "<tr><td>69</td><td>Customer SIUIH</td><td>NULL</td><td>NULL</td></tr>",
                            "<tr><td>70</td><td>Customer TMXGN</td><td>NULL</td><td>NULL</td></tr>",
                            "<tr><td>71</td><td>Customer LCOUJ</td><td>NULL</td><td>NULL</td></tr>",
                            "<tr><td>72</td><td>Customer AHPOP</td><td>NULL</td><td>NULL</td></tr>",
                            "<tr><td>73</td><td>Customer JMIKW</td><td>NULL</td><td>NULL</td></tr>",
                            "<tr><td>74</td><td>Customer YSHXL</td><td>NULL</td><td>NULL</td></tr>",
                            "<tr><td>75</td><td>Customer XOJYP</td><td>NULL</td><td>NULL</td></tr>",
                            "<tr><td>76</td><td>Customer SFOGW</td><td>10885</td><td>2016-02-12</td></tr>",
                            "<tr><td>77</td><td>Customer LCYBZ</td><td>NULL</td><td>NULL</td></tr>",
                            "<tr><td>78</td><td>Customer NLTYP</td><td>NULL</td><td>NULL</td></tr>",
                            "<tr><td>79</td><td>Customer FAPSM</td><td>NULL</td><td>NULL</td></tr>",
                            "<tr><td>80</td><td>Customer VONTK</td><td>NULL</td><td>NULL</td></tr>",
                            "<tr><td>81</td><td>Customer YQQWW</td><td>NULL</td><td>NULL</td></tr>",
                            "<tr><td>82</td><td>Customer EYHKM</td><td>NULL</td><td>NULL</td></tr>",
                            "<tr><td>83</td><td>Customer ZRNDE</td><td>NULL</td><td>NULL</td></tr>",
                            "<tr><td>84</td><td>Customer NRCSK</td><td>NULL</td><td>NULL</td></tr>",
                            "<tr><td>85</td><td>Customer ENQZT</td><td>NULL</td><td>NULL</td></tr>",
                            "<tr><td>86</td><td>Customer SNXOJ</td><td>NULL</td><td>NULL</td></tr>",
                            "<tr><td>87</td><td>Customer ZHYOS</td><td>NULL</td><td>NULL</td></tr>",
                            "<tr><td>88</td><td>Customer SRQVM</td><td>NULL</td><td>NULL</td></tr>",
                            "<tr><td>89</td><td>Customer YBQTI</td><td>NULL</td><td>NULL</td></tr>",
                            "<tr><td>90</td><td>Customer XBBVR</td><td>NULL</td><td>NULL</td></tr>",
                            "<tr><td>91</td><td>Customer CCFIZ</td><td>NULL</td><td>NULL</td></tr>",
                            "</table>"
                        ]
                    }
                }
            ],
            "execution_count": 1
        },
        {
            "cell_type": "markdown",
            "source": [
                "**LINE BY LINE EXPLANATION**\n",
                "\n",
                "USE TSQLV4/ NORTHWINDS \n",
                "\n",
                "this line tells us what datebase is being used \n",
                "\n",
                "SELECT C.custid, C.companyname, O.orderid\n",
                "\n",
                "This line tells us what cols are being included which are customer id and company name from the customers table labed as C and orderid from the orders table labled as O \n",
                "\n",
                "CASE WHEN O.orderdate = '20160212' THEN O.orderdate ELSE NULL END AS orderdate\n",
                "\n",
                "This line uses a case statement which checks if the orderdate equals feb 12 2016 then we use that date, but if that date doesnt match we put null. The result of this is stored as orderdate in the output \n",
                "\n",
                "FROM Sales.Customers AS C\n",
                "\n",
                "This line tells us the source of for the data which is the customers table within the sales schema labeled as C \n",
                "\n",
                "LEFT OUTER JOIN Sales.Orders AS O\n",
                "\n",
                "This line creates a join between the left table (customers) and the right table (orders) if there is not match there will be a null on the right side of the table \n",
                "\n",
                "ON C.custid = O.custid AND O.orderdate = '20160212'\n",
                "\n",
                "This line tells us the condition for the join between customers and orders table. The join is made under the conditions where the customer id in customers table matches the customers id in the orders table. The orderdate also must be feb 12 2016."
            ],
            "metadata": {
                "azdata_cell_guid": "0680fa4a-c544-4aaa-b2f4-2301c0467f64"
            },
            "attachments": {}
        },
        {
            "cell_type": "markdown",
            "source": [
                "```\n",
                "-- 8 (Optional, Advanced)\n",
                "-- Explain why the following query isn’t a correct solution query for exercise 7.\n",
                "SELECT C.custid, C.companyname, O.orderid, O.orderdate\n",
                "FROM Sales.Customers AS C\n",
                "  LEFT OUTER JOIN Sales.Orders AS O\n",
                "    ON O.custid = C.custid\n",
                "WHERE O.orderdate = '20160212'\n",
                "   OR O.orderid IS NULL;\n",
                "```"
            ],
            "metadata": {
                "language": "sql",
                "azdata_cell_guid": "5fa5bb98-34b2-4a40-a196-f05f34ea4158"
            },
            "attachments": {}
        },
        {
            "cell_type": "markdown",
            "source": [
                "**Incorrect code in TSQLV4 and NORTHWINDS**"
            ],
            "metadata": {
                "language": "sql",
                "azdata_cell_guid": "43a8c096-76a9-45d0-80b1-d4c3ff4f10de"
            },
            "attachments": {}
        },
        {
            "cell_type": "code",
            "source": [
                "USE TSQLV4; \r\n",
                "SELECT C.custid, C.companyname, O.orderid, O.orderdate\r\n",
                "FROM Sales.Customers AS C\r\n",
                "  LEFT OUTER JOIN Sales.Orders AS O\r\n",
                "    ON O.custid = C.custid\r\n",
                "WHERE O.orderdate = '20160212'\r\n",
                "   OR O.orderid IS NULL;\r\n",
                "\r\n",
                "\r\n",
                "   --QUERY CONVERTED\r\n",
                "\r\n",
                " USE Northwinds2022TSQLV7\r\n",
                "SELECT C.CustomerId, C.CustomerCompanyName, O.orderid, O.orderdate\r\n",
                "FROM Sales.Customer AS C\r\n",
                "  LEFT OUTER JOIN Sales.[Order] AS O\r\n",
                "    ON O.CustomerId = C.CustomerId\r\n",
                "WHERE O.orderdate = '20160212'\r\n",
                "   OR O.orderid IS NULL;  "
            ],
            "metadata": {
                "language": "sql",
                "azdata_cell_guid": "5a323712-216c-425d-9174-063d25baddd1"
            },
            "outputs": [
                {
                    "output_type": "display_data",
                    "data": {
                        "text/html": "(5 rows affected)"
                    },
                    "metadata": {}
                },
                {
                    "output_type": "display_data",
                    "data": {
                        "text/html": "(5 rows affected)"
                    },
                    "metadata": {}
                },
                {
                    "output_type": "display_data",
                    "data": {
                        "text/html": "Total execution time: 00:00:00.013"
                    },
                    "metadata": {}
                },
                {
                    "output_type": "execute_result",
                    "metadata": {},
                    "execution_count": 2,
                    "data": {
                        "application/vnd.dataresource+json": {
                            "schema": {
                                "fields": [
                                    {
                                        "name": "custid"
                                    },
                                    {
                                        "name": "companyname"
                                    },
                                    {
                                        "name": "orderid"
                                    },
                                    {
                                        "name": "orderdate"
                                    }
                                ]
                            },
                            "data": [
                                {
                                    "custid": "48",
                                    "companyname": "Customer DVFMB",
                                    "orderid": "10883",
                                    "orderdate": "2016-02-12"
                                },
                                {
                                    "custid": "45",
                                    "companyname": "Customer QXPPT",
                                    "orderid": "10884",
                                    "orderdate": "2016-02-12"
                                },
                                {
                                    "custid": "76",
                                    "companyname": "Customer SFOGW",
                                    "orderid": "10885",
                                    "orderdate": "2016-02-12"
                                },
                                {
                                    "custid": "22",
                                    "companyname": "Customer DTDMN",
                                    "orderid": "NULL",
                                    "orderdate": "NULL"
                                },
                                {
                                    "custid": "57",
                                    "companyname": "Customer WVAXS",
                                    "orderid": "NULL",
                                    "orderdate": "NULL"
                                }
                            ]
                        },
                        "text/html": [
                            "<table>",
                            "<tr><th>custid</th><th>companyname</th><th>orderid</th><th>orderdate</th></tr>",
                            "<tr><td>48</td><td>Customer DVFMB</td><td>10883</td><td>2016-02-12</td></tr>",
                            "<tr><td>45</td><td>Customer QXPPT</td><td>10884</td><td>2016-02-12</td></tr>",
                            "<tr><td>76</td><td>Customer SFOGW</td><td>10885</td><td>2016-02-12</td></tr>",
                            "<tr><td>22</td><td>Customer DTDMN</td><td>NULL</td><td>NULL</td></tr>",
                            "<tr><td>57</td><td>Customer WVAXS</td><td>NULL</td><td>NULL</td></tr>",
                            "</table>"
                        ]
                    }
                },
                {
                    "output_type": "execute_result",
                    "metadata": {},
                    "execution_count": 2,
                    "data": {
                        "application/vnd.dataresource+json": {
                            "schema": {
                                "fields": [
                                    {
                                        "name": "CustomerId"
                                    },
                                    {
                                        "name": "CustomerCompanyName"
                                    },
                                    {
                                        "name": "orderid"
                                    },
                                    {
                                        "name": "orderdate"
                                    }
                                ]
                            },
                            "data": [
                                {
                                    "CustomerId": "48",
                                    "CustomerCompanyName": "Customer DVFMB",
                                    "orderid": "10883",
                                    "orderdate": "2016-02-12"
                                },
                                {
                                    "CustomerId": "45",
                                    "CustomerCompanyName": "Customer QXPPT",
                                    "orderid": "10884",
                                    "orderdate": "2016-02-12"
                                },
                                {
                                    "CustomerId": "76",
                                    "CustomerCompanyName": "Customer SFOGW",
                                    "orderid": "10885",
                                    "orderdate": "2016-02-12"
                                },
                                {
                                    "CustomerId": "22",
                                    "CustomerCompanyName": "Customer DTDMN",
                                    "orderid": "NULL",
                                    "orderdate": "NULL"
                                },
                                {
                                    "CustomerId": "57",
                                    "CustomerCompanyName": "Customer WVAXS",
                                    "orderid": "NULL",
                                    "orderdate": "NULL"
                                }
                            ]
                        },
                        "text/html": [
                            "<table>",
                            "<tr><th>CustomerId</th><th>CustomerCompanyName</th><th>orderid</th><th>orderdate</th></tr>",
                            "<tr><td>48</td><td>Customer DVFMB</td><td>10883</td><td>2016-02-12</td></tr>",
                            "<tr><td>45</td><td>Customer QXPPT</td><td>10884</td><td>2016-02-12</td></tr>",
                            "<tr><td>76</td><td>Customer SFOGW</td><td>10885</td><td>2016-02-12</td></tr>",
                            "<tr><td>22</td><td>Customer DTDMN</td><td>NULL</td><td>NULL</td></tr>",
                            "<tr><td>57</td><td>Customer WVAXS</td><td>NULL</td><td>NULL</td></tr>",
                            "</table>"
                        ]
                    }
                }
            ],
            "execution_count": 2
        },
        {
            "cell_type": "markdown",
            "source": [
                "**LINE BY LINE EXPLANATION**\n",
                "\n",
                "USE TSQLV4/NORTHWINDS\n",
                "\n",
                "This line tells us which database is being used \n",
                "\n",
                "SELECT C.custid, C.companyname, O.orderid, O.orderdate\n",
                "\n",
                "This line specifies which cols are being selected and returned, which are customer id and company name from customers table and the order ID and order date from the orders table\n",
                "\n",
                "FROM Sales.Customers AS C\n",
                "\n",
                "This line specifies that the data is being retrieved from the customers table within the sales schema labled as C \n",
                "\n",
                "LEFT OUTER JOIN Sales.Orders AS O ON O.custid = C.custid\n",
                "\n",
                "This line creates a join between the customers table and the orders table. This join means that all records from the customers table will be returned along with anything that matches from the orders table, if nothing matches a null value will be place for that customer.\n",
                "\n",
                "WHERE O.orderdate = '20160212' OR O.orderid IS NULL\n",
                "\n",
                "This line creates a filter for the join function, which is that only orders placed on feb 12 2016 or customers without any orders is null will be included in the output."
            ],
            "metadata": {
                "azdata_cell_guid": "a612881f-065b-484b-8932-46fc31d94cb6"
            },
            "attachments": {}
        },
        {
            "cell_type": "markdown",
            "source": [
                "**Why is it wrong?** \n",
                "\n",
                "This code is incorrect because of the <span style=\"font-family: Consolas, &quot;Courier New&quot;, monospace; font-size: 12px; white-space: pre; color: rgb(0, 0, 255);\">WHERE</span> <span style=\"color: rgb(33, 33, 33); font-family: Consolas, &quot;Courier New&quot;, monospace; font-size: 12px; white-space: pre;\">O.orderdate </span> <span style=\"font-family: Consolas, &quot;Courier New&quot;, monospace; font-size: 12px; white-space: pre; color: rgb(0, 0, 0);\">=</span> <span style=\"font-family: Consolas, &quot;Courier New&quot;, monospace; font-size: 12px; white-space: pre; color: rgb(163, 21, 21);\">'20160212'</span><span style=\"font-family: Consolas, &quot;Courier New&quot;, monospace; font-size: 12px; white-space: pre; color: rgb(0, 0, 255);\">OR</span> <span style=\"color: rgb(33, 33, 33); font-family: Consolas, &quot;Courier New&quot;, monospace; font-size: 12px; white-space: pre;\">O.orderid </span> <span style=\"font-family: Consolas, &quot;Courier New&quot;, monospace; font-size: 12px; white-space: pre; color: rgb(0, 0, 255);\">IS</span> <span style=\"font-family: Consolas, &quot;Courier New&quot;, monospace; font-size: 12px; white-space: pre; color: rgb(0, 0, 255);\">NULL</span><span style=\"color: rgb(33, 33, 33); font-family: Consolas, &quot;Courier New&quot;, monospace; font-size: 12px; white-space: pre;\">;</span> \n",
                "\n",
                "<span style=\"color: var(--vscode-foreground);\">This line incorrectly filters out customers who have placed orders but not on our desired date which is feb 12 2016.&nbsp;</span>    \n",
                "\n",
                "Specifially when the condtion for the orderdate is not a match it will not be included in the output, which leads that coustomer not being included at all which is not our goal"
            ],
            "metadata": {
                "language": "sql",
                "azdata_cell_guid": "32f1775e-175c-4eaf-8a70-2d4645fd62cc"
            },
            "attachments": {}
        },
        {
            "cell_type": "markdown",
            "source": [
                "```\n",
                "-- 9 (Optional, Advanced)\n",
                "-- Return all customers, and for each return a Yes/No value\n",
                "-- depending on whether the customer placed an order on Feb 12, 2016\n",
                "-- Tables involved: TSQLV4 database, Customers and Orders tables\n",
                "\n",
                "-- Desired output\n",
                "custid      companyname     HasOrderOn20160212\n",
                "----------- --------------- ------------------\n",
                "...\n",
                "40          Customer EFFTC  No\n",
                "41          Customer XIIWM  No\n",
                "42          Customer IAIJK  No\n",
                "43          Customer UISOJ  No\n",
                "44          Customer OXFRU  No\n",
                "45          Customer QXPPT  Yes\n",
                "46          Customer XPNIK  No\n",
                "47          Customer PSQUZ  No\n",
                "48          Customer DVFMB  Yes\n",
                "49          Customer CQRAA  No\n",
                "50          Customer JYPSC  No\n",
                "51          Customer PVDZC  No\n",
                "52          Customer PZNLA  No\n",
                "53          Customer GCJSG  No\n",
                "...\n",
                "\n",
                "(91 row(s) affected)\n",
                "```"
            ],
            "metadata": {
                "language": "sql",
                "azdata_cell_guid": "db6d3493-46fe-420e-8cd8-4aca676a591d"
            },
            "attachments": {}
        },
        {
            "cell_type": "code",
            "source": [
                "USE TSQLV4; \r\n",
                "SELECT DISTINCT\r\n",
                "    c.custid, \r\n",
                "    c.companyname, \r\n",
                "    CASE \r\n",
                "        WHEN o.orderdate IS NOT NULL THEN 'Yes' \r\n",
                "        ELSE 'No' \r\n",
                "    END AS HasOrderOn20160212\r\n",
                "FROM Sales.Customers as c\r\n",
                "LEFT JOIN Orders o ON c.custid = o.custid AND o.orderdate = '2016-02-12'\r\n",
                "ORDER BY c.custid;\r\n",
                "\r\n",
                "\r\n",
                "\r\n",
                "-- QUERY CONVERTED\r\n",
                "\r\n",
                "\r\n",
                "\r\n",
                "\r\n",
                "USE Northwinds2022TSQLV7; \r\n",
                "SELECT DISTINCT\r\n",
                "    c.Customerid, \r\n",
                "    c.CustomerCompanyName, \r\n",
                "    CASE \r\n",
                "        WHEN o.orderid IS NOT NULL THEN 'Yes' \r\n",
                "        ELSE 'No' \r\n",
                "    END AS HasOrderOn20160212\r\n",
                "FROM Sales.Customer as c\r\n",
                "LEFT JOIN Sales.[Order] o ON c.customerID = o.CustomerId AND o.orderdate = '2016-02-12'\r\n",
                "ORDER BY c.CustomerId;"
            ],
            "metadata": {
                "language": "sql",
                "azdata_cell_guid": "5df90875-87fa-48d0-8711-ad98540039b0",
                "tags": []
            },
            "outputs": [
                {
                    "output_type": "display_data",
                    "data": {
                        "text/html": "(91 rows affected)"
                    },
                    "metadata": {}
                },
                {
                    "output_type": "display_data",
                    "data": {
                        "text/html": "(91 rows affected)"
                    },
                    "metadata": {}
                },
                {
                    "output_type": "display_data",
                    "data": {
                        "text/html": "Total execution time: 00:00:00.017"
                    },
                    "metadata": {}
                },
                {
                    "output_type": "execute_result",
                    "metadata": {},
                    "execution_count": 3,
                    "data": {
                        "application/vnd.dataresource+json": {
                            "schema": {
                                "fields": [
                                    {
                                        "name": "custid"
                                    },
                                    {
                                        "name": "companyname"
                                    },
                                    {
                                        "name": "HasOrderOn20160212"
                                    }
                                ]
                            },
                            "data": [
                                {
                                    "custid": "1",
                                    "companyname": "Customer NRZBB",
                                    "HasOrderOn20160212": "No"
                                },
                                {
                                    "custid": "2",
                                    "companyname": "Customer MLTDN",
                                    "HasOrderOn20160212": "No"
                                },
                                {
                                    "custid": "3",
                                    "companyname": "Customer KBUDE",
                                    "HasOrderOn20160212": "No"
                                },
                                {
                                    "custid": "4",
                                    "companyname": "Customer HFBZG",
                                    "HasOrderOn20160212": "No"
                                },
                                {
                                    "custid": "5",
                                    "companyname": "Customer HGVLZ",
                                    "HasOrderOn20160212": "No"
                                },
                                {
                                    "custid": "6",
                                    "companyname": "Customer XHXJV",
                                    "HasOrderOn20160212": "No"
                                },
                                {
                                    "custid": "7",
                                    "companyname": "Customer QXVLA",
                                    "HasOrderOn20160212": "No"
                                },
                                {
                                    "custid": "8",
                                    "companyname": "Customer QUHWH",
                                    "HasOrderOn20160212": "No"
                                },
                                {
                                    "custid": "9",
                                    "companyname": "Customer RTXGC",
                                    "HasOrderOn20160212": "No"
                                },
                                {
                                    "custid": "10",
                                    "companyname": "Customer EEALV",
                                    "HasOrderOn20160212": "No"
                                },
                                {
                                    "custid": "11",
                                    "companyname": "Customer UBHAU",
                                    "HasOrderOn20160212": "No"
                                },
                                {
                                    "custid": "12",
                                    "companyname": "Customer PSNMQ",
                                    "HasOrderOn20160212": "No"
                                },
                                {
                                    "custid": "13",
                                    "companyname": "Customer VMLOG",
                                    "HasOrderOn20160212": "No"
                                },
                                {
                                    "custid": "14",
                                    "companyname": "Customer WNMAF",
                                    "HasOrderOn20160212": "No"
                                },
                                {
                                    "custid": "15",
                                    "companyname": "Customer JUWXK",
                                    "HasOrderOn20160212": "No"
                                },
                                {
                                    "custid": "16",
                                    "companyname": "Customer GYBBY",
                                    "HasOrderOn20160212": "No"
                                },
                                {
                                    "custid": "17",
                                    "companyname": "Customer FEVNN",
                                    "HasOrderOn20160212": "No"
                                },
                                {
                                    "custid": "18",
                                    "companyname": "Customer BSVAR",
                                    "HasOrderOn20160212": "No"
                                },
                                {
                                    "custid": "19",
                                    "companyname": "Customer RFNQC",
                                    "HasOrderOn20160212": "No"
                                },
                                {
                                    "custid": "20",
                                    "companyname": "Customer THHDP",
                                    "HasOrderOn20160212": "No"
                                },
                                {
                                    "custid": "21",
                                    "companyname": "Customer KIDPX",
                                    "HasOrderOn20160212": "No"
                                },
                                {
                                    "custid": "22",
                                    "companyname": "Customer DTDMN",
                                    "HasOrderOn20160212": "No"
                                },
                                {
                                    "custid": "23",
                                    "companyname": "Customer WVFAF",
                                    "HasOrderOn20160212": "No"
                                },
                                {
                                    "custid": "24",
                                    "companyname": "Customer CYZTN",
                                    "HasOrderOn20160212": "No"
                                },
                                {
                                    "custid": "25",
                                    "companyname": "Customer AZJED",
                                    "HasOrderOn20160212": "No"
                                },
                                {
                                    "custid": "26",
                                    "companyname": "Customer USDBG",
                                    "HasOrderOn20160212": "No"
                                },
                                {
                                    "custid": "27",
                                    "companyname": "Customer WMFEA",
                                    "HasOrderOn20160212": "No"
                                },
                                {
                                    "custid": "28",
                                    "companyname": "Customer XYUFB",
                                    "HasOrderOn20160212": "No"
                                },
                                {
                                    "custid": "29",
                                    "companyname": "Customer MDLWA",
                                    "HasOrderOn20160212": "No"
                                },
                                {
                                    "custid": "30",
                                    "companyname": "Customer KSLQF",
                                    "HasOrderOn20160212": "No"
                                },
                                {
                                    "custid": "31",
                                    "companyname": "Customer YJCBX",
                                    "HasOrderOn20160212": "No"
                                },
                                {
                                    "custid": "32",
                                    "companyname": "Customer YSIQX",
                                    "HasOrderOn20160212": "No"
                                },
                                {
                                    "custid": "33",
                                    "companyname": "Customer FVXPQ",
                                    "HasOrderOn20160212": "No"
                                },
                                {
                                    "custid": "34",
                                    "companyname": "Customer IBVRG",
                                    "HasOrderOn20160212": "No"
                                },
                                {
                                    "custid": "35",
                                    "companyname": "Customer UMTLM",
                                    "HasOrderOn20160212": "No"
                                },
                                {
                                    "custid": "36",
                                    "companyname": "Customer LVJSO",
                                    "HasOrderOn20160212": "No"
                                },
                                {
                                    "custid": "37",
                                    "companyname": "Customer FRXZL",
                                    "HasOrderOn20160212": "No"
                                },
                                {
                                    "custid": "38",
                                    "companyname": "Customer LJUCA",
                                    "HasOrderOn20160212": "No"
                                },
                                {
                                    "custid": "39",
                                    "companyname": "Customer GLLAG",
                                    "HasOrderOn20160212": "No"
                                },
                                {
                                    "custid": "40",
                                    "companyname": "Customer EFFTC",
                                    "HasOrderOn20160212": "No"
                                },
                                {
                                    "custid": "41",
                                    "companyname": "Customer XIIWM",
                                    "HasOrderOn20160212": "No"
                                },
                                {
                                    "custid": "42",
                                    "companyname": "Customer IAIJK",
                                    "HasOrderOn20160212": "No"
                                },
                                {
                                    "custid": "43",
                                    "companyname": "Customer UISOJ",
                                    "HasOrderOn20160212": "No"
                                },
                                {
                                    "custid": "44",
                                    "companyname": "Customer OXFRU",
                                    "HasOrderOn20160212": "No"
                                },
                                {
                                    "custid": "45",
                                    "companyname": "Customer QXPPT",
                                    "HasOrderOn20160212": "Yes"
                                },
                                {
                                    "custid": "46",
                                    "companyname": "Customer XPNIK",
                                    "HasOrderOn20160212": "No"
                                },
                                {
                                    "custid": "47",
                                    "companyname": "Customer PSQUZ",
                                    "HasOrderOn20160212": "No"
                                },
                                {
                                    "custid": "48",
                                    "companyname": "Customer DVFMB",
                                    "HasOrderOn20160212": "Yes"
                                },
                                {
                                    "custid": "49",
                                    "companyname": "Customer CQRAA",
                                    "HasOrderOn20160212": "No"
                                },
                                {
                                    "custid": "50",
                                    "companyname": "Customer JYPSC",
                                    "HasOrderOn20160212": "No"
                                },
                                {
                                    "custid": "51",
                                    "companyname": "Customer PVDZC",
                                    "HasOrderOn20160212": "No"
                                },
                                {
                                    "custid": "52",
                                    "companyname": "Customer PZNLA",
                                    "HasOrderOn20160212": "No"
                                },
                                {
                                    "custid": "53",
                                    "companyname": "Customer GCJSG",
                                    "HasOrderOn20160212": "No"
                                },
                                {
                                    "custid": "54",
                                    "companyname": "Customer TDKEG",
                                    "HasOrderOn20160212": "No"
                                },
                                {
                                    "custid": "55",
                                    "companyname": "Customer KZQZT",
                                    "HasOrderOn20160212": "No"
                                },
                                {
                                    "custid": "56",
                                    "companyname": "Customer QNIVZ",
                                    "HasOrderOn20160212": "No"
                                },
                                {
                                    "custid": "57",
                                    "companyname": "Customer WVAXS",
                                    "HasOrderOn20160212": "No"
                                },
                                {
                                    "custid": "58",
                                    "companyname": "Customer AHXHT",
                                    "HasOrderOn20160212": "No"
                                },
                                {
                                    "custid": "59",
                                    "companyname": "Customer LOLJO",
                                    "HasOrderOn20160212": "No"
                                },
                                {
                                    "custid": "60",
                                    "companyname": "Customer QZURI",
                                    "HasOrderOn20160212": "No"
                                },
                                {
                                    "custid": "61",
                                    "companyname": "Customer WULWD",
                                    "HasOrderOn20160212": "No"
                                },
                                {
                                    "custid": "62",
                                    "companyname": "Customer WFIZJ",
                                    "HasOrderOn20160212": "No"
                                },
                                {
                                    "custid": "63",
                                    "companyname": "Customer IRRVL",
                                    "HasOrderOn20160212": "No"
                                },
                                {
                                    "custid": "64",
                                    "companyname": "Customer LWGMD",
                                    "HasOrderOn20160212": "No"
                                },
                                {
                                    "custid": "65",
                                    "companyname": "Customer NYUHS",
                                    "HasOrderOn20160212": "No"
                                },
                                {
                                    "custid": "66",
                                    "companyname": "Customer LHANT",
                                    "HasOrderOn20160212": "No"
                                },
                                {
                                    "custid": "67",
                                    "companyname": "Customer QVEPD",
                                    "HasOrderOn20160212": "No"
                                },
                                {
                                    "custid": "68",
                                    "companyname": "Customer CCKOT",
                                    "HasOrderOn20160212": "No"
                                },
                                {
                                    "custid": "69",
                                    "companyname": "Customer SIUIH",
                                    "HasOrderOn20160212": "No"
                                },
                                {
                                    "custid": "70",
                                    "companyname": "Customer TMXGN",
                                    "HasOrderOn20160212": "No"
                                },
                                {
                                    "custid": "71",
                                    "companyname": "Customer LCOUJ",
                                    "HasOrderOn20160212": "No"
                                },
                                {
                                    "custid": "72",
                                    "companyname": "Customer AHPOP",
                                    "HasOrderOn20160212": "No"
                                },
                                {
                                    "custid": "73",
                                    "companyname": "Customer JMIKW",
                                    "HasOrderOn20160212": "No"
                                },
                                {
                                    "custid": "74",
                                    "companyname": "Customer YSHXL",
                                    "HasOrderOn20160212": "No"
                                },
                                {
                                    "custid": "75",
                                    "companyname": "Customer XOJYP",
                                    "HasOrderOn20160212": "No"
                                },
                                {
                                    "custid": "76",
                                    "companyname": "Customer SFOGW",
                                    "HasOrderOn20160212": "Yes"
                                },
                                {
                                    "custid": "77",
                                    "companyname": "Customer LCYBZ",
                                    "HasOrderOn20160212": "No"
                                },
                                {
                                    "custid": "78",
                                    "companyname": "Customer NLTYP",
                                    "HasOrderOn20160212": "No"
                                },
                                {
                                    "custid": "79",
                                    "companyname": "Customer FAPSM",
                                    "HasOrderOn20160212": "No"
                                },
                                {
                                    "custid": "80",
                                    "companyname": "Customer VONTK",
                                    "HasOrderOn20160212": "No"
                                },
                                {
                                    "custid": "81",
                                    "companyname": "Customer YQQWW",
                                    "HasOrderOn20160212": "No"
                                },
                                {
                                    "custid": "82",
                                    "companyname": "Customer EYHKM",
                                    "HasOrderOn20160212": "No"
                                },
                                {
                                    "custid": "83",
                                    "companyname": "Customer ZRNDE",
                                    "HasOrderOn20160212": "No"
                                },
                                {
                                    "custid": "84",
                                    "companyname": "Customer NRCSK",
                                    "HasOrderOn20160212": "No"
                                },
                                {
                                    "custid": "85",
                                    "companyname": "Customer ENQZT",
                                    "HasOrderOn20160212": "No"
                                },
                                {
                                    "custid": "86",
                                    "companyname": "Customer SNXOJ",
                                    "HasOrderOn20160212": "No"
                                },
                                {
                                    "custid": "87",
                                    "companyname": "Customer ZHYOS",
                                    "HasOrderOn20160212": "No"
                                },
                                {
                                    "custid": "88",
                                    "companyname": "Customer SRQVM",
                                    "HasOrderOn20160212": "No"
                                },
                                {
                                    "custid": "89",
                                    "companyname": "Customer YBQTI",
                                    "HasOrderOn20160212": "No"
                                },
                                {
                                    "custid": "90",
                                    "companyname": "Customer XBBVR",
                                    "HasOrderOn20160212": "No"
                                },
                                {
                                    "custid": "91",
                                    "companyname": "Customer CCFIZ",
                                    "HasOrderOn20160212": "No"
                                }
                            ]
                        },
                        "text/html": [
                            "<table>",
                            "<tr><th>custid</th><th>companyname</th><th>HasOrderOn20160212</th></tr>",
                            "<tr><td>1</td><td>Customer NRZBB</td><td>No</td></tr>",
                            "<tr><td>2</td><td>Customer MLTDN</td><td>No</td></tr>",
                            "<tr><td>3</td><td>Customer KBUDE</td><td>No</td></tr>",
                            "<tr><td>4</td><td>Customer HFBZG</td><td>No</td></tr>",
                            "<tr><td>5</td><td>Customer HGVLZ</td><td>No</td></tr>",
                            "<tr><td>6</td><td>Customer XHXJV</td><td>No</td></tr>",
                            "<tr><td>7</td><td>Customer QXVLA</td><td>No</td></tr>",
                            "<tr><td>8</td><td>Customer QUHWH</td><td>No</td></tr>",
                            "<tr><td>9</td><td>Customer RTXGC</td><td>No</td></tr>",
                            "<tr><td>10</td><td>Customer EEALV</td><td>No</td></tr>",
                            "<tr><td>11</td><td>Customer UBHAU</td><td>No</td></tr>",
                            "<tr><td>12</td><td>Customer PSNMQ</td><td>No</td></tr>",
                            "<tr><td>13</td><td>Customer VMLOG</td><td>No</td></tr>",
                            "<tr><td>14</td><td>Customer WNMAF</td><td>No</td></tr>",
                            "<tr><td>15</td><td>Customer JUWXK</td><td>No</td></tr>",
                            "<tr><td>16</td><td>Customer GYBBY</td><td>No</td></tr>",
                            "<tr><td>17</td><td>Customer FEVNN</td><td>No</td></tr>",
                            "<tr><td>18</td><td>Customer BSVAR</td><td>No</td></tr>",
                            "<tr><td>19</td><td>Customer RFNQC</td><td>No</td></tr>",
                            "<tr><td>20</td><td>Customer THHDP</td><td>No</td></tr>",
                            "<tr><td>21</td><td>Customer KIDPX</td><td>No</td></tr>",
                            "<tr><td>22</td><td>Customer DTDMN</td><td>No</td></tr>",
                            "<tr><td>23</td><td>Customer WVFAF</td><td>No</td></tr>",
                            "<tr><td>24</td><td>Customer CYZTN</td><td>No</td></tr>",
                            "<tr><td>25</td><td>Customer AZJED</td><td>No</td></tr>",
                            "<tr><td>26</td><td>Customer USDBG</td><td>No</td></tr>",
                            "<tr><td>27</td><td>Customer WMFEA</td><td>No</td></tr>",
                            "<tr><td>28</td><td>Customer XYUFB</td><td>No</td></tr>",
                            "<tr><td>29</td><td>Customer MDLWA</td><td>No</td></tr>",
                            "<tr><td>30</td><td>Customer KSLQF</td><td>No</td></tr>",
                            "<tr><td>31</td><td>Customer YJCBX</td><td>No</td></tr>",
                            "<tr><td>32</td><td>Customer YSIQX</td><td>No</td></tr>",
                            "<tr><td>33</td><td>Customer FVXPQ</td><td>No</td></tr>",
                            "<tr><td>34</td><td>Customer IBVRG</td><td>No</td></tr>",
                            "<tr><td>35</td><td>Customer UMTLM</td><td>No</td></tr>",
                            "<tr><td>36</td><td>Customer LVJSO</td><td>No</td></tr>",
                            "<tr><td>37</td><td>Customer FRXZL</td><td>No</td></tr>",
                            "<tr><td>38</td><td>Customer LJUCA</td><td>No</td></tr>",
                            "<tr><td>39</td><td>Customer GLLAG</td><td>No</td></tr>",
                            "<tr><td>40</td><td>Customer EFFTC</td><td>No</td></tr>",
                            "<tr><td>41</td><td>Customer XIIWM</td><td>No</td></tr>",
                            "<tr><td>42</td><td>Customer IAIJK</td><td>No</td></tr>",
                            "<tr><td>43</td><td>Customer UISOJ</td><td>No</td></tr>",
                            "<tr><td>44</td><td>Customer OXFRU</td><td>No</td></tr>",
                            "<tr><td>45</td><td>Customer QXPPT</td><td>Yes</td></tr>",
                            "<tr><td>46</td><td>Customer XPNIK</td><td>No</td></tr>",
                            "<tr><td>47</td><td>Customer PSQUZ</td><td>No</td></tr>",
                            "<tr><td>48</td><td>Customer DVFMB</td><td>Yes</td></tr>",
                            "<tr><td>49</td><td>Customer CQRAA</td><td>No</td></tr>",
                            "<tr><td>50</td><td>Customer JYPSC</td><td>No</td></tr>",
                            "<tr><td>51</td><td>Customer PVDZC</td><td>No</td></tr>",
                            "<tr><td>52</td><td>Customer PZNLA</td><td>No</td></tr>",
                            "<tr><td>53</td><td>Customer GCJSG</td><td>No</td></tr>",
                            "<tr><td>54</td><td>Customer TDKEG</td><td>No</td></tr>",
                            "<tr><td>55</td><td>Customer KZQZT</td><td>No</td></tr>",
                            "<tr><td>56</td><td>Customer QNIVZ</td><td>No</td></tr>",
                            "<tr><td>57</td><td>Customer WVAXS</td><td>No</td></tr>",
                            "<tr><td>58</td><td>Customer AHXHT</td><td>No</td></tr>",
                            "<tr><td>59</td><td>Customer LOLJO</td><td>No</td></tr>",
                            "<tr><td>60</td><td>Customer QZURI</td><td>No</td></tr>",
                            "<tr><td>61</td><td>Customer WULWD</td><td>No</td></tr>",
                            "<tr><td>62</td><td>Customer WFIZJ</td><td>No</td></tr>",
                            "<tr><td>63</td><td>Customer IRRVL</td><td>No</td></tr>",
                            "<tr><td>64</td><td>Customer LWGMD</td><td>No</td></tr>",
                            "<tr><td>65</td><td>Customer NYUHS</td><td>No</td></tr>",
                            "<tr><td>66</td><td>Customer LHANT</td><td>No</td></tr>",
                            "<tr><td>67</td><td>Customer QVEPD</td><td>No</td></tr>",
                            "<tr><td>68</td><td>Customer CCKOT</td><td>No</td></tr>",
                            "<tr><td>69</td><td>Customer SIUIH</td><td>No</td></tr>",
                            "<tr><td>70</td><td>Customer TMXGN</td><td>No</td></tr>",
                            "<tr><td>71</td><td>Customer LCOUJ</td><td>No</td></tr>",
                            "<tr><td>72</td><td>Customer AHPOP</td><td>No</td></tr>",
                            "<tr><td>73</td><td>Customer JMIKW</td><td>No</td></tr>",
                            "<tr><td>74</td><td>Customer YSHXL</td><td>No</td></tr>",
                            "<tr><td>75</td><td>Customer XOJYP</td><td>No</td></tr>",
                            "<tr><td>76</td><td>Customer SFOGW</td><td>Yes</td></tr>",
                            "<tr><td>77</td><td>Customer LCYBZ</td><td>No</td></tr>",
                            "<tr><td>78</td><td>Customer NLTYP</td><td>No</td></tr>",
                            "<tr><td>79</td><td>Customer FAPSM</td><td>No</td></tr>",
                            "<tr><td>80</td><td>Customer VONTK</td><td>No</td></tr>",
                            "<tr><td>81</td><td>Customer YQQWW</td><td>No</td></tr>",
                            "<tr><td>82</td><td>Customer EYHKM</td><td>No</td></tr>",
                            "<tr><td>83</td><td>Customer ZRNDE</td><td>No</td></tr>",
                            "<tr><td>84</td><td>Customer NRCSK</td><td>No</td></tr>",
                            "<tr><td>85</td><td>Customer ENQZT</td><td>No</td></tr>",
                            "<tr><td>86</td><td>Customer SNXOJ</td><td>No</td></tr>",
                            "<tr><td>87</td><td>Customer ZHYOS</td><td>No</td></tr>",
                            "<tr><td>88</td><td>Customer SRQVM</td><td>No</td></tr>",
                            "<tr><td>89</td><td>Customer YBQTI</td><td>No</td></tr>",
                            "<tr><td>90</td><td>Customer XBBVR</td><td>No</td></tr>",
                            "<tr><td>91</td><td>Customer CCFIZ</td><td>No</td></tr>",
                            "</table>"
                        ]
                    }
                },
                {
                    "output_type": "execute_result",
                    "metadata": {},
                    "execution_count": 3,
                    "data": {
                        "application/vnd.dataresource+json": {
                            "schema": {
                                "fields": [
                                    {
                                        "name": "Customerid"
                                    },
                                    {
                                        "name": "CustomerCompanyName"
                                    },
                                    {
                                        "name": "HasOrderOn20160212"
                                    }
                                ]
                            },
                            "data": [
                                {
                                    "Customerid": "1",
                                    "CustomerCompanyName": "Customer NRZBB",
                                    "HasOrderOn20160212": "No"
                                },
                                {
                                    "Customerid": "2",
                                    "CustomerCompanyName": "Customer MLTDN",
                                    "HasOrderOn20160212": "No"
                                },
                                {
                                    "Customerid": "3",
                                    "CustomerCompanyName": "Customer KBUDE",
                                    "HasOrderOn20160212": "No"
                                },
                                {
                                    "Customerid": "4",
                                    "CustomerCompanyName": "Customer HFBZG",
                                    "HasOrderOn20160212": "No"
                                },
                                {
                                    "Customerid": "5",
                                    "CustomerCompanyName": "Customer HGVLZ",
                                    "HasOrderOn20160212": "No"
                                },
                                {
                                    "Customerid": "6",
                                    "CustomerCompanyName": "Customer XHXJV",
                                    "HasOrderOn20160212": "No"
                                },
                                {
                                    "Customerid": "7",
                                    "CustomerCompanyName": "Customer QXVLA",
                                    "HasOrderOn20160212": "No"
                                },
                                {
                                    "Customerid": "8",
                                    "CustomerCompanyName": "Customer QUHWH",
                                    "HasOrderOn20160212": "No"
                                },
                                {
                                    "Customerid": "9",
                                    "CustomerCompanyName": "Customer RTXGC",
                                    "HasOrderOn20160212": "No"
                                },
                                {
                                    "Customerid": "10",
                                    "CustomerCompanyName": "Customer EEALV",
                                    "HasOrderOn20160212": "No"
                                },
                                {
                                    "Customerid": "11",
                                    "CustomerCompanyName": "Customer UBHAU",
                                    "HasOrderOn20160212": "No"
                                },
                                {
                                    "Customerid": "12",
                                    "CustomerCompanyName": "Customer PSNMQ",
                                    "HasOrderOn20160212": "No"
                                },
                                {
                                    "Customerid": "13",
                                    "CustomerCompanyName": "Customer VMLOG",
                                    "HasOrderOn20160212": "No"
                                },
                                {
                                    "Customerid": "14",
                                    "CustomerCompanyName": "Customer WNMAF",
                                    "HasOrderOn20160212": "No"
                                },
                                {
                                    "Customerid": "15",
                                    "CustomerCompanyName": "Customer JUWXK",
                                    "HasOrderOn20160212": "No"
                                },
                                {
                                    "Customerid": "16",
                                    "CustomerCompanyName": "Customer GYBBY",
                                    "HasOrderOn20160212": "No"
                                },
                                {
                                    "Customerid": "17",
                                    "CustomerCompanyName": "Customer FEVNN",
                                    "HasOrderOn20160212": "No"
                                },
                                {
                                    "Customerid": "18",
                                    "CustomerCompanyName": "Customer BSVAR",
                                    "HasOrderOn20160212": "No"
                                },
                                {
                                    "Customerid": "19",
                                    "CustomerCompanyName": "Customer RFNQC",
                                    "HasOrderOn20160212": "No"
                                },
                                {
                                    "Customerid": "20",
                                    "CustomerCompanyName": "Customer THHDP",
                                    "HasOrderOn20160212": "No"
                                },
                                {
                                    "Customerid": "21",
                                    "CustomerCompanyName": "Customer KIDPX",
                                    "HasOrderOn20160212": "No"
                                },
                                {
                                    "Customerid": "22",
                                    "CustomerCompanyName": "Customer DTDMN",
                                    "HasOrderOn20160212": "No"
                                },
                                {
                                    "Customerid": "23",
                                    "CustomerCompanyName": "Customer WVFAF",
                                    "HasOrderOn20160212": "No"
                                },
                                {
                                    "Customerid": "24",
                                    "CustomerCompanyName": "Customer CYZTN",
                                    "HasOrderOn20160212": "No"
                                },
                                {
                                    "Customerid": "25",
                                    "CustomerCompanyName": "Customer AZJED",
                                    "HasOrderOn20160212": "No"
                                },
                                {
                                    "Customerid": "26",
                                    "CustomerCompanyName": "Customer USDBG",
                                    "HasOrderOn20160212": "No"
                                },
                                {
                                    "Customerid": "27",
                                    "CustomerCompanyName": "Customer WMFEA",
                                    "HasOrderOn20160212": "No"
                                },
                                {
                                    "Customerid": "28",
                                    "CustomerCompanyName": "Customer XYUFB",
                                    "HasOrderOn20160212": "No"
                                },
                                {
                                    "Customerid": "29",
                                    "CustomerCompanyName": "Customer MDLWA",
                                    "HasOrderOn20160212": "No"
                                },
                                {
                                    "Customerid": "30",
                                    "CustomerCompanyName": "Customer KSLQF",
                                    "HasOrderOn20160212": "No"
                                },
                                {
                                    "Customerid": "31",
                                    "CustomerCompanyName": "Customer YJCBX",
                                    "HasOrderOn20160212": "No"
                                },
                                {
                                    "Customerid": "32",
                                    "CustomerCompanyName": "Customer YSIQX",
                                    "HasOrderOn20160212": "No"
                                },
                                {
                                    "Customerid": "33",
                                    "CustomerCompanyName": "Customer FVXPQ",
                                    "HasOrderOn20160212": "No"
                                },
                                {
                                    "Customerid": "34",
                                    "CustomerCompanyName": "Customer IBVRG",
                                    "HasOrderOn20160212": "No"
                                },
                                {
                                    "Customerid": "35",
                                    "CustomerCompanyName": "Customer UMTLM",
                                    "HasOrderOn20160212": "No"
                                },
                                {
                                    "Customerid": "36",
                                    "CustomerCompanyName": "Customer LVJSO",
                                    "HasOrderOn20160212": "No"
                                },
                                {
                                    "Customerid": "37",
                                    "CustomerCompanyName": "Customer FRXZL",
                                    "HasOrderOn20160212": "No"
                                },
                                {
                                    "Customerid": "38",
                                    "CustomerCompanyName": "Customer LJUCA",
                                    "HasOrderOn20160212": "No"
                                },
                                {
                                    "Customerid": "39",
                                    "CustomerCompanyName": "Customer GLLAG",
                                    "HasOrderOn20160212": "No"
                                },
                                {
                                    "Customerid": "40",
                                    "CustomerCompanyName": "Customer EFFTC",
                                    "HasOrderOn20160212": "No"
                                },
                                {
                                    "Customerid": "41",
                                    "CustomerCompanyName": "Customer XIIWM",
                                    "HasOrderOn20160212": "No"
                                },
                                {
                                    "Customerid": "42",
                                    "CustomerCompanyName": "Customer IAIJK",
                                    "HasOrderOn20160212": "No"
                                },
                                {
                                    "Customerid": "43",
                                    "CustomerCompanyName": "Customer UISOJ",
                                    "HasOrderOn20160212": "No"
                                },
                                {
                                    "Customerid": "44",
                                    "CustomerCompanyName": "Customer OXFRU",
                                    "HasOrderOn20160212": "No"
                                },
                                {
                                    "Customerid": "45",
                                    "CustomerCompanyName": "Customer QXPPT",
                                    "HasOrderOn20160212": "Yes"
                                },
                                {
                                    "Customerid": "46",
                                    "CustomerCompanyName": "Customer XPNIK",
                                    "HasOrderOn20160212": "No"
                                },
                                {
                                    "Customerid": "47",
                                    "CustomerCompanyName": "Customer PSQUZ",
                                    "HasOrderOn20160212": "No"
                                },
                                {
                                    "Customerid": "48",
                                    "CustomerCompanyName": "Customer DVFMB",
                                    "HasOrderOn20160212": "Yes"
                                },
                                {
                                    "Customerid": "49",
                                    "CustomerCompanyName": "Customer CQRAA",
                                    "HasOrderOn20160212": "No"
                                },
                                {
                                    "Customerid": "50",
                                    "CustomerCompanyName": "Customer JYPSC",
                                    "HasOrderOn20160212": "No"
                                },
                                {
                                    "Customerid": "51",
                                    "CustomerCompanyName": "Customer PVDZC",
                                    "HasOrderOn20160212": "No"
                                },
                                {
                                    "Customerid": "52",
                                    "CustomerCompanyName": "Customer PZNLA",
                                    "HasOrderOn20160212": "No"
                                },
                                {
                                    "Customerid": "53",
                                    "CustomerCompanyName": "Customer GCJSG",
                                    "HasOrderOn20160212": "No"
                                },
                                {
                                    "Customerid": "54",
                                    "CustomerCompanyName": "Customer TDKEG",
                                    "HasOrderOn20160212": "No"
                                },
                                {
                                    "Customerid": "55",
                                    "CustomerCompanyName": "Customer KZQZT",
                                    "HasOrderOn20160212": "No"
                                },
                                {
                                    "Customerid": "56",
                                    "CustomerCompanyName": "Customer QNIVZ",
                                    "HasOrderOn20160212": "No"
                                },
                                {
                                    "Customerid": "57",
                                    "CustomerCompanyName": "Customer WVAXS",
                                    "HasOrderOn20160212": "No"
                                },
                                {
                                    "Customerid": "58",
                                    "CustomerCompanyName": "Customer AHXHT",
                                    "HasOrderOn20160212": "No"
                                },
                                {
                                    "Customerid": "59",
                                    "CustomerCompanyName": "Customer LOLJO",
                                    "HasOrderOn20160212": "No"
                                },
                                {
                                    "Customerid": "60",
                                    "CustomerCompanyName": "Customer QZURI",
                                    "HasOrderOn20160212": "No"
                                },
                                {
                                    "Customerid": "61",
                                    "CustomerCompanyName": "Customer WULWD",
                                    "HasOrderOn20160212": "No"
                                },
                                {
                                    "Customerid": "62",
                                    "CustomerCompanyName": "Customer WFIZJ",
                                    "HasOrderOn20160212": "No"
                                },
                                {
                                    "Customerid": "63",
                                    "CustomerCompanyName": "Customer IRRVL",
                                    "HasOrderOn20160212": "No"
                                },
                                {
                                    "Customerid": "64",
                                    "CustomerCompanyName": "Customer LWGMD",
                                    "HasOrderOn20160212": "No"
                                },
                                {
                                    "Customerid": "65",
                                    "CustomerCompanyName": "Customer NYUHS",
                                    "HasOrderOn20160212": "No"
                                },
                                {
                                    "Customerid": "66",
                                    "CustomerCompanyName": "Customer LHANT",
                                    "HasOrderOn20160212": "No"
                                },
                                {
                                    "Customerid": "67",
                                    "CustomerCompanyName": "Customer QVEPD",
                                    "HasOrderOn20160212": "No"
                                },
                                {
                                    "Customerid": "68",
                                    "CustomerCompanyName": "Customer CCKOT",
                                    "HasOrderOn20160212": "No"
                                },
                                {
                                    "Customerid": "69",
                                    "CustomerCompanyName": "Customer SIUIH",
                                    "HasOrderOn20160212": "No"
                                },
                                {
                                    "Customerid": "70",
                                    "CustomerCompanyName": "Customer TMXGN",
                                    "HasOrderOn20160212": "No"
                                },
                                {
                                    "Customerid": "71",
                                    "CustomerCompanyName": "Customer LCOUJ",
                                    "HasOrderOn20160212": "No"
                                },
                                {
                                    "Customerid": "72",
                                    "CustomerCompanyName": "Customer AHPOP",
                                    "HasOrderOn20160212": "No"
                                },
                                {
                                    "Customerid": "73",
                                    "CustomerCompanyName": "Customer JMIKW",
                                    "HasOrderOn20160212": "No"
                                },
                                {
                                    "Customerid": "74",
                                    "CustomerCompanyName": "Customer YSHXL",
                                    "HasOrderOn20160212": "No"
                                },
                                {
                                    "Customerid": "75",
                                    "CustomerCompanyName": "Customer XOJYP",
                                    "HasOrderOn20160212": "No"
                                },
                                {
                                    "Customerid": "76",
                                    "CustomerCompanyName": "Customer SFOGW",
                                    "HasOrderOn20160212": "Yes"
                                },
                                {
                                    "Customerid": "77",
                                    "CustomerCompanyName": "Customer LCYBZ",
                                    "HasOrderOn20160212": "No"
                                },
                                {
                                    "Customerid": "78",
                                    "CustomerCompanyName": "Customer NLTYP",
                                    "HasOrderOn20160212": "No"
                                },
                                {
                                    "Customerid": "79",
                                    "CustomerCompanyName": "Customer FAPSM",
                                    "HasOrderOn20160212": "No"
                                },
                                {
                                    "Customerid": "80",
                                    "CustomerCompanyName": "Customer VONTK",
                                    "HasOrderOn20160212": "No"
                                },
                                {
                                    "Customerid": "81",
                                    "CustomerCompanyName": "Customer YQQWW",
                                    "HasOrderOn20160212": "No"
                                },
                                {
                                    "Customerid": "82",
                                    "CustomerCompanyName": "Customer EYHKM",
                                    "HasOrderOn20160212": "No"
                                },
                                {
                                    "Customerid": "83",
                                    "CustomerCompanyName": "Customer ZRNDE",
                                    "HasOrderOn20160212": "No"
                                },
                                {
                                    "Customerid": "84",
                                    "CustomerCompanyName": "Customer NRCSK",
                                    "HasOrderOn20160212": "No"
                                },
                                {
                                    "Customerid": "85",
                                    "CustomerCompanyName": "Customer ENQZT",
                                    "HasOrderOn20160212": "No"
                                },
                                {
                                    "Customerid": "86",
                                    "CustomerCompanyName": "Customer SNXOJ",
                                    "HasOrderOn20160212": "No"
                                },
                                {
                                    "Customerid": "87",
                                    "CustomerCompanyName": "Customer ZHYOS",
                                    "HasOrderOn20160212": "No"
                                },
                                {
                                    "Customerid": "88",
                                    "CustomerCompanyName": "Customer SRQVM",
                                    "HasOrderOn20160212": "No"
                                },
                                {
                                    "Customerid": "89",
                                    "CustomerCompanyName": "Customer YBQTI",
                                    "HasOrderOn20160212": "No"
                                },
                                {
                                    "Customerid": "90",
                                    "CustomerCompanyName": "Customer XBBVR",
                                    "HasOrderOn20160212": "No"
                                },
                                {
                                    "Customerid": "91",
                                    "CustomerCompanyName": "Customer CCFIZ",
                                    "HasOrderOn20160212": "No"
                                }
                            ]
                        },
                        "text/html": [
                            "<table>",
                            "<tr><th>Customerid</th><th>CustomerCompanyName</th><th>HasOrderOn20160212</th></tr>",
                            "<tr><td>1</td><td>Customer NRZBB</td><td>No</td></tr>",
                            "<tr><td>2</td><td>Customer MLTDN</td><td>No</td></tr>",
                            "<tr><td>3</td><td>Customer KBUDE</td><td>No</td></tr>",
                            "<tr><td>4</td><td>Customer HFBZG</td><td>No</td></tr>",
                            "<tr><td>5</td><td>Customer HGVLZ</td><td>No</td></tr>",
                            "<tr><td>6</td><td>Customer XHXJV</td><td>No</td></tr>",
                            "<tr><td>7</td><td>Customer QXVLA</td><td>No</td></tr>",
                            "<tr><td>8</td><td>Customer QUHWH</td><td>No</td></tr>",
                            "<tr><td>9</td><td>Customer RTXGC</td><td>No</td></tr>",
                            "<tr><td>10</td><td>Customer EEALV</td><td>No</td></tr>",
                            "<tr><td>11</td><td>Customer UBHAU</td><td>No</td></tr>",
                            "<tr><td>12</td><td>Customer PSNMQ</td><td>No</td></tr>",
                            "<tr><td>13</td><td>Customer VMLOG</td><td>No</td></tr>",
                            "<tr><td>14</td><td>Customer WNMAF</td><td>No</td></tr>",
                            "<tr><td>15</td><td>Customer JUWXK</td><td>No</td></tr>",
                            "<tr><td>16</td><td>Customer GYBBY</td><td>No</td></tr>",
                            "<tr><td>17</td><td>Customer FEVNN</td><td>No</td></tr>",
                            "<tr><td>18</td><td>Customer BSVAR</td><td>No</td></tr>",
                            "<tr><td>19</td><td>Customer RFNQC</td><td>No</td></tr>",
                            "<tr><td>20</td><td>Customer THHDP</td><td>No</td></tr>",
                            "<tr><td>21</td><td>Customer KIDPX</td><td>No</td></tr>",
                            "<tr><td>22</td><td>Customer DTDMN</td><td>No</td></tr>",
                            "<tr><td>23</td><td>Customer WVFAF</td><td>No</td></tr>",
                            "<tr><td>24</td><td>Customer CYZTN</td><td>No</td></tr>",
                            "<tr><td>25</td><td>Customer AZJED</td><td>No</td></tr>",
                            "<tr><td>26</td><td>Customer USDBG</td><td>No</td></tr>",
                            "<tr><td>27</td><td>Customer WMFEA</td><td>No</td></tr>",
                            "<tr><td>28</td><td>Customer XYUFB</td><td>No</td></tr>",
                            "<tr><td>29</td><td>Customer MDLWA</td><td>No</td></tr>",
                            "<tr><td>30</td><td>Customer KSLQF</td><td>No</td></tr>",
                            "<tr><td>31</td><td>Customer YJCBX</td><td>No</td></tr>",
                            "<tr><td>32</td><td>Customer YSIQX</td><td>No</td></tr>",
                            "<tr><td>33</td><td>Customer FVXPQ</td><td>No</td></tr>",
                            "<tr><td>34</td><td>Customer IBVRG</td><td>No</td></tr>",
                            "<tr><td>35</td><td>Customer UMTLM</td><td>No</td></tr>",
                            "<tr><td>36</td><td>Customer LVJSO</td><td>No</td></tr>",
                            "<tr><td>37</td><td>Customer FRXZL</td><td>No</td></tr>",
                            "<tr><td>38</td><td>Customer LJUCA</td><td>No</td></tr>",
                            "<tr><td>39</td><td>Customer GLLAG</td><td>No</td></tr>",
                            "<tr><td>40</td><td>Customer EFFTC</td><td>No</td></tr>",
                            "<tr><td>41</td><td>Customer XIIWM</td><td>No</td></tr>",
                            "<tr><td>42</td><td>Customer IAIJK</td><td>No</td></tr>",
                            "<tr><td>43</td><td>Customer UISOJ</td><td>No</td></tr>",
                            "<tr><td>44</td><td>Customer OXFRU</td><td>No</td></tr>",
                            "<tr><td>45</td><td>Customer QXPPT</td><td>Yes</td></tr>",
                            "<tr><td>46</td><td>Customer XPNIK</td><td>No</td></tr>",
                            "<tr><td>47</td><td>Customer PSQUZ</td><td>No</td></tr>",
                            "<tr><td>48</td><td>Customer DVFMB</td><td>Yes</td></tr>",
                            "<tr><td>49</td><td>Customer CQRAA</td><td>No</td></tr>",
                            "<tr><td>50</td><td>Customer JYPSC</td><td>No</td></tr>",
                            "<tr><td>51</td><td>Customer PVDZC</td><td>No</td></tr>",
                            "<tr><td>52</td><td>Customer PZNLA</td><td>No</td></tr>",
                            "<tr><td>53</td><td>Customer GCJSG</td><td>No</td></tr>",
                            "<tr><td>54</td><td>Customer TDKEG</td><td>No</td></tr>",
                            "<tr><td>55</td><td>Customer KZQZT</td><td>No</td></tr>",
                            "<tr><td>56</td><td>Customer QNIVZ</td><td>No</td></tr>",
                            "<tr><td>57</td><td>Customer WVAXS</td><td>No</td></tr>",
                            "<tr><td>58</td><td>Customer AHXHT</td><td>No</td></tr>",
                            "<tr><td>59</td><td>Customer LOLJO</td><td>No</td></tr>",
                            "<tr><td>60</td><td>Customer QZURI</td><td>No</td></tr>",
                            "<tr><td>61</td><td>Customer WULWD</td><td>No</td></tr>",
                            "<tr><td>62</td><td>Customer WFIZJ</td><td>No</td></tr>",
                            "<tr><td>63</td><td>Customer IRRVL</td><td>No</td></tr>",
                            "<tr><td>64</td><td>Customer LWGMD</td><td>No</td></tr>",
                            "<tr><td>65</td><td>Customer NYUHS</td><td>No</td></tr>",
                            "<tr><td>66</td><td>Customer LHANT</td><td>No</td></tr>",
                            "<tr><td>67</td><td>Customer QVEPD</td><td>No</td></tr>",
                            "<tr><td>68</td><td>Customer CCKOT</td><td>No</td></tr>",
                            "<tr><td>69</td><td>Customer SIUIH</td><td>No</td></tr>",
                            "<tr><td>70</td><td>Customer TMXGN</td><td>No</td></tr>",
                            "<tr><td>71</td><td>Customer LCOUJ</td><td>No</td></tr>",
                            "<tr><td>72</td><td>Customer AHPOP</td><td>No</td></tr>",
                            "<tr><td>73</td><td>Customer JMIKW</td><td>No</td></tr>",
                            "<tr><td>74</td><td>Customer YSHXL</td><td>No</td></tr>",
                            "<tr><td>75</td><td>Customer XOJYP</td><td>No</td></tr>",
                            "<tr><td>76</td><td>Customer SFOGW</td><td>Yes</td></tr>",
                            "<tr><td>77</td><td>Customer LCYBZ</td><td>No</td></tr>",
                            "<tr><td>78</td><td>Customer NLTYP</td><td>No</td></tr>",
                            "<tr><td>79</td><td>Customer FAPSM</td><td>No</td></tr>",
                            "<tr><td>80</td><td>Customer VONTK</td><td>No</td></tr>",
                            "<tr><td>81</td><td>Customer YQQWW</td><td>No</td></tr>",
                            "<tr><td>82</td><td>Customer EYHKM</td><td>No</td></tr>",
                            "<tr><td>83</td><td>Customer ZRNDE</td><td>No</td></tr>",
                            "<tr><td>84</td><td>Customer NRCSK</td><td>No</td></tr>",
                            "<tr><td>85</td><td>Customer ENQZT</td><td>No</td></tr>",
                            "<tr><td>86</td><td>Customer SNXOJ</td><td>No</td></tr>",
                            "<tr><td>87</td><td>Customer ZHYOS</td><td>No</td></tr>",
                            "<tr><td>88</td><td>Customer SRQVM</td><td>No</td></tr>",
                            "<tr><td>89</td><td>Customer YBQTI</td><td>No</td></tr>",
                            "<tr><td>90</td><td>Customer XBBVR</td><td>No</td></tr>",
                            "<tr><td>91</td><td>Customer CCFIZ</td><td>No</td></tr>",
                            "</table>"
                        ]
                    }
                }
            ],
            "execution_count": 3
        },
        {
            "cell_type": "markdown",
            "source": [
                "**LINE BY LINE EXPLANATION**\n",
                "\n",
                "USE TSQLV4/NORTHWINDS\n",
                "\n",
                "This line tells what database we are using for the query \n",
                "\n",
                "SELECT DISTINCT\n",
                "\n",
                "This line makes sure that when were are retrieving data they are all unique, meaning no dupes \n",
                "\n",
                "c.custid \n",
                "\n",
                "this line makes sure the custid column from the customer's table which we labled as c will be included in the output \n",
                "\n",
                "c.companyname\n",
                "\n",
                "this line makes sure the company column from the customer's table will be included in the output \n",
                "\n",
                "CASE WHEN o.orderdate IS NOT NULL THEN 'Yes' ELSE 'No' END AS HasOrderOn20160212\n",
                "\n",
                "this line uses the case expression which can be viewed similarity to if statement. This line checks that orderdate from the orders table on our specificied date then oputs Yes if orderdate exists. No if it does not. \n",
                "\n",
                "FROM Sales.Customers as c\n",
                "\n",
                "This line makes sure the data will come from the customers table which is in the sales schema \n",
                "\n",
                "LEFT JOIN Orders o ON c.custid = o.custid AND o.orderdate = '2016-02-12'\n",
                "\n",
                "This line uses a LEFT JOIN betwen customers table and orders table. This condition makes sure both date col in each respective table will match feb 12 2016. LEFT JOIN makes sure that all customers are included in the results regardless of them placing a order on our specificed date, which is why for most of them there is a no value.\n",
                "\n",
                "ORDER BY c.custid \n",
                "\n",
                "This line makes sure the lines are order by the custid col from the customers table which makes them sorted in ascending order\n",
                "\n",
                "The results are the same when using NORTHWINDS table just variations in the col/table names both tables provide same outputs"
            ],
            "metadata": {
                "language": "sql",
                "azdata_cell_guid": "201fef62-3656-457b-a3b7-7598ebbb73c1"
            },
            "attachments": {}
        },
        {
            "cell_type": "markdown",
            "source": [
                "**\\-----------------------------------------------------------------PART 2----------------------------------------------------------------------------------------------------------------------------**"
            ],
            "metadata": {
                "azdata_cell_guid": "0b8f591b-376f-4a74-9d6d-a9192828644d"
            },
            "attachments": {}
        },
        {
            "cell_type": "code",
            "source": [
                "---------------------------------------------------------------------\r\n",
                "-- Multi-Join Queries\r\n",
                "---------------------------------------------------------------------\r\n",
                "\r\n",
                "SELECT\r\n",
                "  C.custid, C.companyname, O.orderid,\r\n",
                "  OD.productid, OD.qty\r\n",
                "FROM Sales.Customers AS C\r\n",
                "  INNER JOIN Sales.Orders AS O\r\n",
                "    ON C.custid = O.custid\r\n",
                "  INNER JOIN Sales.OrderDetails AS OD\r\n",
                "    ON O.orderid = OD.orderid;\r\n",
                ""
            ],
            "metadata": {
                "azdata_cell_guid": "b1cf96c0-4deb-4091-b11d-1eff4fe04ec3",
                "language": "sql",
                "tags": []
            },
            "outputs": [],
            "execution_count": null
        },
        {
            "cell_type": "markdown",
            "source": [
                "Retrieve a list of all customers with company name, along with each of their order and the details involving those orders, which include product IDs and quantities\n",
                "\n",
                "Inner join only returns data that have matching values in both tables being join, in this case customers and orders"
            ],
            "metadata": {
                "azdata_cell_guid": "7e95d656-aa08-40ae-b1ea-8286dd2d1e12"
            },
            "attachments": {}
        },
        {
            "cell_type": "code",
            "source": [
                "---------------------------------------------------------------------\r\n",
                "-- Fundamentals of Outer Joins \r\n",
                "---------------------------------------------------------------------\r\n",
                "\r\n",
                "-- Customers and their orders, including customers with no orders\r\n",
                "SELECT C.custid, C.companyname, O.orderid\r\n",
                "FROM Sales.Customers AS C\r\n",
                "  LEFT OUTER JOIN Sales.Orders AS O\r\n",
                "    ON C.custid = O.custid;\r\n",
                "\r\n",
                "-- Customers with no orders\r\n",
                "SELECT C.custid, C.companyname\r\n",
                "FROM Sales.Customers AS C\r\n",
                "  LEFT OUTER JOIN Sales.Orders AS O\r\n",
                "    ON C.custid = O.custid\r\n",
                "WHERE O.orderid IS NULL;\r\n",
                ""
            ],
            "metadata": {
                "azdata_cell_guid": "c3742227-2f40-4844-89c9-73608bdf465b",
                "language": "sql"
            },
            "outputs": [],
            "execution_count": null
        },
        {
            "cell_type": "markdown",
            "source": [
                "**First query** \n",
                "\n",
                "Retrieve a list of all customers and their company names along with any orders they may have placed. \n",
                "\n",
                "left outer join is making sure that all customers are being listed, regardless of them having placed a order \n",
                "\n",
                "**Second query** \n",
                "\n",
                "Retrieve a list of all customers that have not placed a order yet. \n",
                "\n",
                "left outer join is being used in a similar fashion but the where clause fitlers customers to only show customers who have not placed a order yet."
            ],
            "metadata": {
                "language": "sql",
                "azdata_cell_guid": "811341d5-681e-4d6b-b7c4-3a0cd77c8469"
            },
            "attachments": {}
        },
        {
            "cell_type": "code",
            "source": [
                "---------------------------------------------------------------------\r\n",
                "-- Beyond the Fundamentals of Outer Joins\r\n",
                "---------------------------------------------------------------------\r\n",
                "\r\n",
                "---------------------------------------------------------------------\r\n",
                "-- Including Missing Values\r\n",
                "---------------------------------------------------------------------\r\n",
                "\r\n",
                "SELECT DATEADD(day, n-1, CAST('20140101' AS DATE)) AS orderdate\r\n",
                "FROM dbo.Nums\r\n",
                "WHERE n <= DATEDIFF(day, '20140101', '20161231') + 1\r\n",
                "ORDER BY orderdate;\r\n",
                "\r\n",
                "SELECT DATEADD(day, Nums.n - 1, CAST('20140101' AS DATE)) AS orderdate,\r\n",
                "  O.orderid, O.custid, O.empid\r\n",
                "FROM dbo.Nums\r\n",
                "  LEFT OUTER JOIN Sales.Orders AS O\r\n",
                "    ON DATEADD(day, Nums.n - 1, CAST('20140101' AS DATE)) = O.orderdate\r\n",
                "WHERE Nums.n <= DATEDIFF(day, '20140101', '20161231') + 1\r\n",
                "ORDER BY orderdate;"
            ],
            "metadata": {
                "language": "sql",
                "azdata_cell_guid": "ba701524-e626-4a3a-9274-e4494e320985"
            },
            "outputs": [],
            "execution_count": null
        },
        {
            "cell_type": "markdown",
            "source": [
                "**First query** \n",
                "\n",
                "Retrieve a list that includes all the dates from jan 1 2014 to dec 31 2016\n",
                "\n",
                "**Second Query** \n",
                "\n",
                "Retrieve a list that shows every date between Jan 1 2014 to Dec 31 2016 along with the the orders placed on those dates, including the the order ID customer ID and employee ID if available\n",
                "\n",
                "DATEADD works with DATEDIFF, add is adding a certain number of units to a date in order to fill a gap and diff is figuring out the gap between two dates"
            ],
            "metadata": {
                "language": "sql",
                "azdata_cell_guid": "1fb0bb7b-7fb0-4a09-919f-71ee224ded4d"
            },
            "attachments": {}
        }
    ]
}