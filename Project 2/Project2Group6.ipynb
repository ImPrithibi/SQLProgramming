{
    "metadata": {
        "kernelspec": {
            "name": "SQL",
            "display_name": "SQL",
            "language": "sql"
        },
        "language_info": {
            "name": "sql",
            "version": ""
        }
    },
    "nbformat_minor": 2,
    "nbformat": 4,
    "cells": [
        {
            "cell_type": "code",
            "source": [
                "-- =============================================\r\n",
                "-- Author: Group 6 \r\n",
                "-- Procedure: Creating the DbSecurity.UserAuthorization schema\r\n",
                "-- Create date: The date\r\n",
                "-- Description: Define the actions of the stored procedure\r\n",
                "-- =============================================\r\n",
                "\r\n",
                "CREATE SCHEMA DbSecurity;"
            ],
            "metadata": {
                "language": "sql",
                "azdata_cell_guid": "8ca28a7e-71ba-4719-99b2-85122d4520cf",
                "tags": [
                    "hide_input"
                ]
            },
            "outputs": [],
            "execution_count": null
        },
        {
            "cell_type": "code",
            "source": [
                "USE BIClass;\r\n",
                "-- =============================================\r\n",
                "-- Author: Group 6 \r\n",
                "-- Procedure: Creating the DbSecurity.UserAuthorization table\r\n",
                "-- Create date: The date\r\n",
                "-- Description: Define the actions of the stored procedure\r\n",
                "-- =============================================\r\n",
                "-- SQL script to create the UserAuthorization table in the DbSecurity schema\r\n",
                "\r\n",
                "CREATE TABLE DbSecurity.UserAuthorization (\r\n",
                "    UserAuthorizationKey INT NOT NULL,\r\n",
                "    ClassTime NCHAR(5) NULL DEFAULT '9:15',\r\n",
                "    IndividualProject NVARCHAR(60) NULL DEFAULT 'PROJECT 2 RECREATE THE BICLASS DATABASE STAR SCHEMA',\r\n",
                "    GroupMemberLastName NVARCHAR(35) NOT NULL,\r\n",
                "    GroupMemberFirstName NVARCHAR(25) NOT NULL,\r\n",
                "    GroupName NVARCHAR(20) NOT NULL,\r\n",
                "    DateAdded DATETIME2 NULL DEFAULT SYSDATETIME(),\r\n",
                "    PRIMARY KEY (UserAuthorizationKey)\r\n",
                ");\r\n",
                "\r\n",
                ""
            ],
            "metadata": {
                "azdata_cell_guid": "4b7b530d-d70f-4b2e-ab32-897c4525c8f4",
                "language": "sql",
                "tags": [
                    "hide_input"
                ]
            },
            "outputs": [],
            "execution_count": null
        },
        {
            "cell_type": "code",
            "source": [
                "-- =============================================\r\n",
                "-- Author: Group 6 \r\n",
                "-- Procedure: Populating DbSecurity.UserAuthorization with our names\r\n",
                "-- Create date: The date\r\n",
                "-- Description: Define the actions of the stored procedure\r\n",
                "-- =============================================\r\n",
                "\r\n",
                "USE BIClass;\r\n",
                "\r\n",
                "\r\n",
                "INSERT INTO DbSecurity.UserAuthorization (\r\n",
                "    UserAuthorizationKey, ClassTime, IndividualProject, GroupMemberLastName, GroupMemberFirstName, GroupName, DateAdded\r\n",
                ") VALUES (\r\n",
                "    1, '9:15', 'PROJECT 2 RECREATE THE BICLASS DATABASE STAR SCHEMA', 'Mamdouh', 'Zack', 'Group 6', DEFAULT\r\n",
                ");\r\n",
                "\r\n",
                "INSERT INTO DbSecurity.UserAuthorization (\r\n",
                "    UserAuthorizationKey, ClassTime, IndividualProject, GroupMemberLastName, GroupMemberFirstName, GroupName, DateAdded\r\n",
                ") VALUES (\r\n",
                "    2, '9:15', 'PROJECT 2 RECREATE THE BICLASS DATABASE STAR SCHEMA', 'Haque', 'Auyon', 'Group 6', DEFAULT\r\n",
                ");\r\n",
                "\r\n",
                "INSERT INTO DbSecurity.UserAuthorization (\r\n",
                "    UserAuthorizationKey, ClassTime, IndividualProject, GroupMemberLastName, GroupMemberFirstName, GroupName, DateAdded\r\n",
                ") VALUES (\r\n",
                "    3, '9:15', 'PROJECT 2 RECREATE THE BICLASS DATABASE STAR SCHEMA', 'Zhang', 'Sabrina', 'Group 6', DEFAULT\r\n",
                ");\r\n",
                "\r\n",
                "INSERT INTO DbSecurity.UserAuthorization (\r\n",
                "    UserAuthorizationKey, ClassTime, IndividualProject, GroupMemberLastName, GroupMemberFirstName, GroupName, DateAdded\r\n",
                ") VALUES (\r\n",
                "    4, '9:15', 'PROJECT 2 RECREATE THE BICLASS DATABASE STAR SCHEMA', 'Paul', 'Prithibi', 'Group 6', DEFAULT\r\n",
                ");\r\n",
                ""
            ],
            "metadata": {
                "azdata_cell_guid": "0be1085e-10ad-4c6b-babf-36847b88353d",
                "language": "sql",
                "tags": [
                    "hide_input"
                ]
            },
            "outputs": [],
            "execution_count": null
        },
        {
            "cell_type": "code",
            "source": [
                "-- =============================================\r\n",
                "-- Author: Group 6 \r\n",
                "-- Procedure: Creating the Process.WorkflowSteps schema\r\n",
                "-- Create date: The date\r\n",
                "-- Description: Define the actions of the stored procedure\r\n",
                "-- =============================================\r\n",
                "\r\n",
                "CREATE SCHEMA Process;"
            ],
            "metadata": {
                "azdata_cell_guid": "c7b4265e-3d4b-483a-9963-89d3cb710e6f",
                "language": "sql",
                "tags": [
                    "hide_input"
                ]
            },
            "outputs": [],
            "execution_count": null
        },
        {
            "cell_type": "code",
            "source": [
                "-- =============================================\r\n",
                "-- Author: Group 6 \r\n",
                "-- Procedure: Creating the Process.WorkflowSteps table\r\n",
                "-- Create date: The date\r\n",
                "-- Description: We create the Process.WorkflowSteps, and give it a dependency to the PK of DbSecurity.UserAuthorization\r\n",
                "-- =============================================\r\n",
                "\r\n",
                "CREATE TABLE Process.WorkflowSteps (\r\n",
                "    WorkFlowStepKey INT NOT NULL,\r\n",
                "    WorkFlowStepDescription NVARCHAR(100) NOT NULL,\r\n",
                "    WorkFlowStepTableRowCount INT NULL DEFAULT 0,\r\n",
                "    StartingDateTime DATETIME2(7) NULL DEFAULT SYSDATETIME(),\r\n",
                "    EndingDateTime DATETIME2(7) NULL DEFAULT SYSDATETIME(),\r\n",
                "    ClassTime CHAR(5) NULL DEFAULT '09:15',  -- Adjust the default as necessary\r\n",
                "    UserAuthorizationKey INT NOT NULL,\r\n",
                "    PRIMARY KEY (WorkFlowStepKey),\r\n",
                "    FOREIGN KEY (UserAuthorizationKey) REFERENCES DbSecurity.UserAuthorization(UserAuthorizationKey)\r\n",
                ");"
            ],
            "metadata": {
                "azdata_cell_guid": "6b188a5c-9c73-4b00-a26d-69485b924367",
                "language": "sql",
                "tags": []
            },
            "outputs": [],
            "execution_count": null
        },
        {
            "cell_type": "code",
            "source": [
                "-- =============================================\r\n",
                "-- Author: Group 6 \r\n",
                "-- Procedure: Adding a column with a default value, then removing the default, \r\n",
                "-- Create date: The date\r\n",
                "-- Description: We create the Process.WorkflowSteps, and give it a dependency to the PK of DbSecurity.UserAuthorization\r\n",
                "-- =============================================\r\n",
                "\r\n",
                "ALTER TABLE [CH01-01-Dimension].[DimCustomer]\r\n",
                "ADD UserAuthorizationKey INT NOT NULL DEFAULT -1; -- Assuming -1 is a placeholder that will be updated later\r\n",
                ""
            ],
            "metadata": {
                "azdata_cell_guid": "067fdb05-9de4-4bc5-b933-494851950d0d",
                "language": "sql",
                "tags": [
                    "hide_input"
                ]
            },
            "outputs": [],
            "execution_count": null
        },
        {
            "cell_type": "code",
            "source": [
                "-- =============================================\r\n",
                "-- Author: Group 6 \r\n",
                "-- Procedure: Altering the pre existing tables\r\n",
                "-- Create date: The date\r\n",
                "-- Description: Altered the pre existing tables by adding 3 new columns and changing the constraints\r\n",
                "-- =============================================\r\n",
                "\r\n",
                "USE BIClass;\r\n",
                "\r\n",
                "ALTER TABLE [CH01-01-Dimension].[DimCustomer]\r\n",
                "ADD UserAuthorizationKey INT NOT NULL,\r\n",
                "    DateAdded DATETIME2 NULL DEFAULT SYSDATETIME(),\r\n",
                "    DateOfLastUpdate DATETIME2 NULL DEFAULT SYSDATETIME();\r\n",
                "\r\n",
                "ALTER TABLE [CH01-01-Dimension].[DimCustomer]\r\n",
                "ADD CONSTRAINT DF_DimCustomer_DateAdded DEFAULT (SYSDATETIME()) FOR DateAdded;\r\n",
                "\r\n",
                "ALTER TABLE [CH01-01-Dimension].[DimCustomer]\r\n",
                "ADD CONSTRAINT DF_DimCustomer_DateOfLastUpdate DEFAULT (SYSDATETIME()) FOR DateOfLastUpdate;\r\n",
                "\r\n",
                "ALTER TABLE [CH01-01-Dimension].[DimGender]\r\n",
                "ADD UserAuthorizationKey INT NOT NULL,\r\n",
                "    DateAdded DATETIME2 NULL DEFAULT SYSDATETIME(),\r\n",
                "    DateOfLastUpdate DATETIME2 NULL DEFAULT SYSDATETIME();\r\n",
                "\r\n",
                "ALTER TABLE [CH01-01-Dimension].[DimGender]\r\n",
                "ADD CONSTRAINT DF_DimGender_DateAdded DEFAULT (SYSDATETIME()) FOR DateAdded;\r\n",
                "\r\n",
                "ALTER TABLE [CH01-01-Dimension].[DimGender]\r\n",
                "ADD CONSTRAINT DF_DimGender_DateOfLastUpdate DEFAULT (SYSDATETIME()) FOR DateOfLastUpdate;\r\n",
                "\r\n",
                "ALTER TABLE [CH01-01-Dimension].[DimMaritalStatus]\r\n",
                "ADD UserAuthorizationKey INT NOT NULL,\r\n",
                "    DateAdded DATETIME2 NULL DEFAULT SYSDATETIME(),\r\n",
                "    DateOfLastUpdate DATETIME2 NULL DEFAULT SYSDATETIME();\r\n",
                "\r\n",
                "ALTER TABLE [CH01-01-Dimension].[DimMaritalStatus]\r\n",
                "ADD CONSTRAINT DF_DimMaritalStatus_DateAdded DEFAULT (SYSDATETIME()) FOR DateAdded;\r\n",
                "\r\n",
                "ALTER TABLE [CH01-01-Dimension].[DimMaritalStatus]\r\n",
                "ADD CONSTRAINT DF_DimMaritalStatus_DateOfLastUpdate DEFAULT (SYSDATETIME()) FOR DateOfLastUpdate;\r\n",
                "\r\n",
                "-- Alter the DimOccupation table\r\n",
                "ALTER TABLE [CH01-01-Dimension].[DimOccupation]\r\n",
                "ADD UserAuthorizationKey INT NOT NULL,\r\n",
                "    DateAdded DATETIME2 NULL DEFAULT SYSDATETIME(),\r\n",
                "    DateOfLastUpdate DATETIME2 NULL DEFAULT SYSDATETIME();\r\n",
                "\r\n",
                "ALTER TABLE [CH01-01-Dimension].[DimOccupation]\r\n",
                "ADD CONSTRAINT DF_DimOccupation_DateAdded DEFAULT (SYSDATETIME()) FOR DateAdded;\r\n",
                "\r\n",
                "ALTER TABLE [CH01-01-Dimension].[DimOccupation]\r\n",
                "ADD CONSTRAINT DF_DimOccupation_DateOfLastUpdate DEFAULT (SYSDATETIME()) FOR DateOfLastUpdate;\r\n",
                "\r\n",
                "-- Alter the DimProduct table\r\n",
                "ALTER TABLE [CH01-01-Dimension].[DimProduct]\r\n",
                "ADD UserAuthorizationKey INT NOT NULL,\r\n",
                "    DateAdded DATETIME2 NULL DEFAULT SYSDATETIME(),\r\n",
                "    DateOfLastUpdate DATETIME2 NULL DEFAULT SYSDATETIME();\r\n",
                "\r\n",
                "ALTER TABLE [CH01-01-Dimension].[DimProduct]\r\n",
                "ADD CONSTRAINT DF_DimProduct_DateAdded DEFAULT (SYSDATETIME()) FOR DateAdded;\r\n",
                "\r\n",
                "ALTER TABLE [CH01-01-Dimension].[DimProduct]\r\n",
                "ADD CONSTRAINT DF_DimProduct_DateOfLastUpdate DEFAULT (SYSDATETIME()) FOR DateOfLastUpdate;\r\n",
                "\r\n",
                "-- Alter the DimTerritory table\r\n",
                "ALTER TABLE [CH01-01-Dimension].[DimTerritory]\r\n",
                "ADD UserAuthorizationKey INT NOT NULL,\r\n",
                "    DateAdded DATETIME2 NULL DEFAULT SYSDATETIME(),\r\n",
                "    DateOfLastUpdate DATETIME2 NULL DEFAULT SYSDATETIME();\r\n",
                "\r\n",
                "ALTER TABLE [CH01-01-Dimension].[DimTerritory]\r\n",
                "ADD CONSTRAINT DF_DimTerritory_DateAdded DEFAULT (SYSDATETIME()) FOR DateAdded;\r\n",
                "\r\n",
                "ALTER TABLE [CH01-01-Dimension].[DimTerritory]\r\n",
                "ADD CONSTRAINT DF_DimTerritory_DateOfLastUpdate DEFAULT (SYSDATETIME()) FOR DateOfLastUpdate;\r\n",
                "\r\n",
                "-- Alter the Sales.Managers table\r\n",
                "ALTER TABLE [CH01-01-Dimension].[Sales.Managers]\r\n",
                "ADD UserAuthorizationKey INT NOT NULL,\r\n",
                "    DateAdded DATETIME2 NULL DEFAULT SYSDATETIME(),\r\n",
                "    DateOfLastUpdate DATETIME2 NULL DEFAULT SYSDATETIME();\r\n",
                "\r\n",
                "ALTER TABLE [CH01-01-Dimension].[Sales.Managers]\r\n",
                "ADD CONSTRAINT DF_SalesManagers_DateAdded DEFAULT (SYSDATETIME()) FOR DateAdded;\r\n",
                "\r\n",
                "ALTER TABLE [CH01-01-Dimension].[Sales.Managers]\r\n",
                "ADD CONSTRAINT DF_SalesManagers_DateOfLastUpdate DEFAULT (SYSDATETIME()) FOR DateOfLastUpdate;\r\n",
                "\r\n",
                "-- Alter the Fact.Data table\r\n",
                "ALTER TABLE [CH01-01-Dimension].[Fact.Data]\r\n",
                "ADD UserAuthorizationKey INT NOT NULL,\r\n",
                "    DateAdded DATETIME2 NULL DEFAULT SYSDATETIME(),\r\n",
                "    DateOfLastUpdate DATETIME2 NULL DEFAULT SYSDATETIME();\r\n",
                "\r\n",
                "ALTER TABLE [CH01-01-Dimension].[Fact.Data]\r\n",
                "ADD CONSTRAINT DF_FactData_DateAdded DEFAULT (SYSDATETIME()) FOR DateAdded;\r\n",
                "\r\n",
                "ALTER TABLE [CH01-01-Dimension].[Fact.Data]\r\n",
                "ADD CONSTRAINT DF_FactData_DateOfLastUpdate DEFAULT (SYSDATETIME()) FOR DateOfLastUpdate;\r\n",
                "\r\n",
                "\r\n",
                "\r\n",
                ""
            ],
            "metadata": {
                "azdata_cell_guid": "433fb11e-97ec-4a86-819e-c121de2aa1cf",
                "language": "sql",
                "tags": [
                    "hide_input"
                ]
            },
            "outputs": [],
            "execution_count": null
        },
        {
            "cell_type": "code",
            "source": [
                "USE BIClass;\r\n",
                "\r\n",
                "-- =============================================\r\n",
                "-- Author: Group 6 \r\n",
                "-- Procedure: Creating logic to populate the UserAuthorizationKey column based on who worked on what\r\n",
                "-- Create date: The date\r\n",
                "-- Description: We create the Process.WorkflowSteps, and give it a dependency to the PK of DbSecurity.UserAuthorization\r\n",
                "-- =============================================\r\n",
                "\r\n",
                "-- Update the UserAuthorizationKey with a random value between 1 and 4\r\n",
                "UPDATE [CH01-01-Dimension].[DimCustomer]\r\n",
                "SET\r\n",
                "    DateAdded = '2024-04-13T00:00:00', -- Set the DateAdded to April 13, 2024\r\n",
                "    DateOfLastUpdate = '2024-04-13T00:00:00'; -- Set the DateOfLastUpdate to April 13, 2024"
            ],
            "metadata": {
                "azdata_cell_guid": "63ebdb44-21da-492c-b582-ac8f71be7d59",
                "language": "sql",
                "tags": [
                    "hide_input"
                ]
            },
            "outputs": [
                {
                    "output_type": "display_data",
                    "data": {
                        "text/html": "(18400 rows affected)"
                    },
                    "metadata": {}
                },
                {
                    "output_type": "display_data",
                    "data": {
                        "text/html": "Total execution time: 00:00:00.033"
                    },
                    "metadata": {}
                }
            ],
            "execution_count": 31
        },
        {
            "cell_type": "code",
            "source": [
                "-- =============================================\r\n",
                "-- Author: Group 6 \r\n",
                "-- Procedure: creating a stored procedure named Process.usp_TrackWorkFlow\r\n",
                "-- Create date: The date\r\n",
                "-- Description:  procedure is intended to track each step of your project workflow.\r\n",
                "-- =============================================\r\n",
                "\r\n",
                "\r\n",
                "-- Template for Process.usp_TrackWorkFlow stored procedure\r\n",
                "CREATE PROCEDURE [Process].[usp_TrackWorkFlow]\r\n",
                "    @StartTime DATETIME2,\r\n",
                "    @WorkFlowDescription NVARCHAR(100),\r\n",
                "    @WorkFlowStepTableRowCount int,\r\n",
                "    @UserAuthorizationKey int\r\n",
                "AS\r\n",
                "BEGIN\r\n",
                "    SET NOCOUNT ON;\r\n",
                "\r\n",
                "    -- Assuming Process.WorkflowSteps has been created and has columns that\r\n",
                "    -- correspond to these parameters\r\n",
                "    INSERT INTO Process.WorkflowSteps (\r\n",
                "        WorkFlowStepKey,  -- This needs to be managed by a sequence or other means\r\n",
                "        WorkFlowStepDescription,\r\n",
                "        WorkFlowStepTableRowCount,\r\n",
                "        StartingDateTime,\r\n",
                "        EndingDateTime, -- You need to calculate this value if required\r\n",
                "        ClassTime,      -- This needs a default value or should be passed as a parameter\r\n",
                "        UserAuthorizationKey\r\n",
                "    )\r\n",
                "    VALUES (\r\n",
                "        NEXT VALUE FOR Process.WorkflowStepSequence, -- Replace with the actual sequence name\r\n",
                "        @WorkFlowDescription,\r\n",
                "        @WorkFlowStepTableRowCount,\r\n",
                "        @StartTime,\r\n",
                "        SYSDATETIME(), -- Records the current time as the end time\r\n",
                "        DEFAULT,       -- Or replace with the actual class time value\r\n",
                "        @UserAuthorizationKey\r\n",
                "    );\r\n",
                "\r\n",
                "    -- You might have other operations to perform as part of this tracking\r\n",
                "    -- This is just a template to get you started\r\n",
                "END;\r\n",
                "GO\r\n",
                ""
            ],
            "metadata": {
                "azdata_cell_guid": "b848f5b4-1bb9-48cd-b668-f4505f1d39bb",
                "language": "sql",
                "tags": [
                    "hide_input"
                ]
            },
            "outputs": [
                {
                    "output_type": "display_data",
                    "data": {
                        "text/html": "Commands completed successfully."
                    },
                    "metadata": {}
                },
                {
                    "output_type": "display_data",
                    "data": {
                        "text/html": "Total execution time: 00:00:00.016"
                    },
                    "metadata": {}
                }
            ],
            "execution_count": 33
        },
        {
            "cell_type": "code",
            "source": [
                ""
            ],
            "metadata": {
                "azdata_cell_guid": "fb7a4796-04e5-468c-b930-6654ab79bc01",
                "language": "sql"
            },
            "outputs": [],
            "execution_count": null
        }
    ]
}