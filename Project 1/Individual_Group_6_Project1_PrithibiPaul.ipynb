{
    "metadata": {
        "kernelspec": {
            "name": "SQL",
            "display_name": "SQL",
            "language": "sql"
        },
        "language_info": {
            "name": "sql",
            "version": ""
        }
    },
    "nbformat_minor": 2,
    "nbformat": 4,
    "cells": [
        {
            "cell_type": "markdown",
            "source": [
                "**Prithibi Paul | Group 6 | Project 1**"
            ],
            "metadata": {
                "language": "sql",
                "azdata_cell_guid": "31a0a128-1971-4eb0-9fac-2499c69744c8"
            },
            "attachments": {}
        },
        {
            "cell_type": "markdown",
            "source": [
                "**Complex Queries:**"
            ],
            "metadata": {
                "azdata_cell_guid": "33da586d-8134-456e-acf5-5bf5901fb131"
            },
            "attachments": {}
        },
        {
            "cell_type": "markdown",
            "source": [
                "## Complex Queries: Query 1\r\n",
                "\r\n",
                "**Proposition**: Identify the most frequently occurring Pokémon types (primary and secondary) across the three Pokémon generations, ranking these occurrences and selecting the type with the highest occurrence in each category.\r\n",
                "\r\n",
                "**Tables**:\r\n",
                "- `PokemonGen1.dbo.PokemonGen1`\r\n",
                "- `PokemonGen2.dbo.PokemonGen2`\r\n",
                "- `PokemonGen3.dbo.PokemonGen3`\r\n",
                "\r\n",
                "**Columns**:\r\n",
                "- `Type1`: The primary type of a Pokémon.\r\n",
                "- `Type2`: The secondary type of a Pokémon, which can be NULL if the Pokémon does not possess a secondary type.\r\n",
                "\r\n",
                "**Predicate**:\r\n",
                "The query first aggregates the counts of each Pokémon type for both `Type1` and `Type2` across all three generations in two separate CTEs (`Type1Counts` and `Type2Counts`). It counts the number of occurrences in the tables, excluding the null values. Then, it ranks the types based on the number of occurrences using the `RANK()` function with two CTEs (`RankedType1` and `RankedType2`). The query then selects the most common types from `RankedType1` and `RankedType2` where the rank is 1, using a `SELECT` statement with a `UNION ALL`. If there are duplicates or cases where the count is the same, all of them are displayed."
            ],
            "metadata": {
                "azdata_cell_guid": "ed4b8145-a1a1-49d6-bccb-af588022c773"
            },
            "attachments": {}
        },
        {
            "cell_type": "code",
            "source": [
                "WITH CombinedData AS (\r\n",
                "    SELECT 'Gen1' AS Generation, Type1, HP, Attack, Defense, SpecialAttack, SpecialDefense, Speed\r\n",
                "    FROM PokemonGen1.dbo.PokemonGen1\r\n",
                "    WHERE Type2 IS NOT NULL\r\n",
                "    UNION ALL\r\n",
                "    SELECT 'Gen2' AS Generation, Type1, HP, Attack, Defense, SpecialAttack, SpecialDefense, Speed\r\n",
                "    FROM PokemonGen2.dbo.PokemonGen2\r\n",
                "    WHERE Type2 IS NOT NULL\r\n",
                "    UNION ALL\r\n",
                "    SELECT 'Gen3' AS Generation, Type1, HP, Attack, Defense, SpecialAttack, SpecialDefense, Speed\r\n",
                "    FROM PokemonGen3.dbo.PokemonGen3\r\n",
                "    WHERE Type2 IS NOT NULL\r\n",
                "),\r\n",
                "AverageStats AS (\r\n",
                "    SELECT Type1, AVG(HP) AS AvgHP, AVG(Attack) AS AvgAttack, AVG(Defense) AS AvgDefense,\r\n",
                "           AVG(SpecialAttack) AS AvgSpecialAttack, AVG(SpecialDefense) AS AvgSpecialDefense, AVG(Speed) AS AvgSpeed\r\n",
                "    FROM CombinedData\r\n",
                "    GROUP BY Type1\r\n",
                ")\r\n",
                "SELECT Type1, AvgHP, AvgAttack, AvgDefense, AvgSpecialAttack, AvgSpecialDefense, AvgSpeed\r\n",
                "FROM AverageStats\r\n",
                "ORDER BY AvgHP DESC, AvgAttack DESC;\r\n",
                ""
            ],
            "metadata": {
                "azdata_cell_guid": "25a114fb-ed4c-4b6e-8a56-6a03d81600d1",
                "language": "sql"
            },
            "outputs": [
                {
                    "output_type": "display_data",
                    "data": {
                        "text/html": "(17 rows affected)"
                    },
                    "metadata": {}
                },
                {
                    "output_type": "display_data",
                    "data": {
                        "text/html": "Total execution time: 00:00:00.004"
                    },
                    "metadata": {}
                },
                {
                    "output_type": "execute_result",
                    "metadata": {},
                    "execution_count": 61,
                    "data": {
                        "application/vnd.dataresource+json": {
                            "schema": {
                                "fields": [
                                    {
                                        "name": "Type1"
                                    },
                                    {
                                        "name": "AvgHP"
                                    },
                                    {
                                        "name": "AvgAttack"
                                    },
                                    {
                                        "name": "AvgDefense"
                                    },
                                    {
                                        "name": "AvgSpecialAttack"
                                    },
                                    {
                                        "name": "AvgSpecialDefense"
                                    },
                                    {
                                        "name": "AvgSpeed"
                                    }
                                ]
                            },
                            "data": [
                                {
                                    "Type1": "Dragon",
                                    "AvgHP": "87",
                                    "AvgAttack": "109",
                                    "AvgDefense": "87",
                                    "AvgSpecialAttack": "111",
                                    "AvgSpecialDefense": "102",
                                    "AvgSpeed": "95"
                                },
                                {
                                    "Type1": "Fire",
                                    "AvgHP": "77",
                                    "AvgAttack": "87",
                                    "AvgDefense": "81",
                                    "AvgSpecialAttack": "100",
                                    "AvgSpecialDefense": "87",
                                    "AvgSpeed": "61"
                                },
                                {
                                    "Type1": "Water",
                                    "AvgHP": "76",
                                    "AvgAttack": "69",
                                    "AvgDefense": "72",
                                    "AvgSpecialAttack": "68",
                                    "AvgSpecialDefense": "72",
                                    "AvgSpeed": "60"
                                },
                                {
                                    "Type1": "Ice",
                                    "AvgHP": "73",
                                    "AvgAttack": "61",
                                    "AvgDefense": "58",
                                    "AvgSpecialAttack": "75",
                                    "AvgSpecialDefense": "70",
                                    "AvgSpeed": "61"
                                },
                                {
                                    "Type1": "Poison",
                                    "AvgHP": "72",
                                    "AvgAttack": "76",
                                    "AvgDefense": "68",
                                    "AvgSpecialAttack": "60",
                                    "AvgSpecialDefense": "70",
                                    "AvgSpeed": "87"
                                },
                                {
                                    "Type1": "Ground",
                                    "AvgHP": "70",
                                    "AvgAttack": "84",
                                    "AvgDefense": "85",
                                    "AvgSpecialAttack": "54",
                                    "AvgSpecialDefense": "66",
                                    "AvgSpeed": "66"
                                },
                                {
                                    "Type1": "Normal",
                                    "AvgHP": "67",
                                    "AvgAttack": "62",
                                    "AvgDefense": "47",
                                    "AvgSpecialAttack": "52",
                                    "AvgSpecialDefense": "50",
                                    "AvgSpeed": "67"
                                },
                                {
                                    "Type1": "Steel",
                                    "AvgHP": "65",
                                    "AvgAttack": "88",
                                    "AvgDefense": "125",
                                    "AvgSpecialAttack": "58",
                                    "AvgSpecialDefense": "67",
                                    "AvgSpeed": "52"
                                },
                                {
                                    "Type1": "Grass",
                                    "AvgHP": "65",
                                    "AvgAttack": "73",
                                    "AvgDefense": "62",
                                    "AvgSpecialAttack": "79",
                                    "AvgSpecialDefense": "67",
                                    "AvgSpeed": "59"
                                },
                                {
                                    "Type1": "Rock",
                                    "AvgHP": "64",
                                    "AvgAttack": "84",
                                    "AvgDefense": "94",
                                    "AvgSpecialAttack": "64",
                                    "AvgSpecialDefense": "66",
                                    "AvgSpeed": "55"
                                },
                                {
                                    "Type1": "Psychic",
                                    "AvgHP": "60",
                                    "AvgAttack": "60",
                                    "AvgDefense": "66",
                                    "AvgSpecialAttack": "86",
                                    "AvgSpecialDefense": "86",
                                    "AvgSpeed": "79"
                                },
                                {
                                    "Type1": "Dark",
                                    "AvgHP": "57",
                                    "AvgAttack": "81",
                                    "AvgDefense": "50",
                                    "AvgSpecialAttack": "75",
                                    "AvgSpecialDefense": "62",
                                    "AvgSpeed": "83"
                                },
                                {
                                    "Type1": "Electric",
                                    "AvgHP": "55",
                                    "AvgAttack": "61",
                                    "AvgDefense": "83",
                                    "AvgSpecialAttack": "113",
                                    "AvgSpecialDefense": "71",
                                    "AvgSpeed": "71"
                                },
                                {
                                    "Type1": "Fairy",
                                    "AvgHP": "55",
                                    "AvgAttack": "40",
                                    "AvgDefense": "85",
                                    "AvgSpecialAttack": "80",
                                    "AvgSpecialDefense": "105",
                                    "AvgSpeed": "40"
                                },
                                {
                                    "Type1": "Bug",
                                    "AvgHP": "53",
                                    "AvgAttack": "66",
                                    "AvgDefense": "66",
                                    "AvgSpecialAttack": "52",
                                    "AvgSpecialDefense": "69",
                                    "AvgSpeed": "62"
                                },
                                {
                                    "Type1": "Ghost",
                                    "AvgHP": "45",
                                    "AvgAttack": "50",
                                    "AvgDefense": "45",
                                    "AvgSpecialAttack": "115",
                                    "AvgSpecialDefense": "55",
                                    "AvgSpeed": "95"
                                },
                                {
                                    "Type1": "Fighting",
                                    "AvgHP": "45",
                                    "AvgAttack": "50",
                                    "AvgDefense": "65",
                                    "AvgSpecialAttack": "50",
                                    "AvgSpecialDefense": "65",
                                    "AvgSpeed": "70"
                                }
                            ]
                        },
                        "text/html": [
                            "<table>",
                            "<tr><th>Type1</th><th>AvgHP</th><th>AvgAttack</th><th>AvgDefense</th><th>AvgSpecialAttack</th><th>AvgSpecialDefense</th><th>AvgSpeed</th></tr>",
                            "<tr><td>Dragon</td><td>87</td><td>109</td><td>87</td><td>111</td><td>102</td><td>95</td></tr>",
                            "<tr><td>Fire</td><td>77</td><td>87</td><td>81</td><td>100</td><td>87</td><td>61</td></tr>",
                            "<tr><td>Water</td><td>76</td><td>69</td><td>72</td><td>68</td><td>72</td><td>60</td></tr>",
                            "<tr><td>Ice</td><td>73</td><td>61</td><td>58</td><td>75</td><td>70</td><td>61</td></tr>",
                            "<tr><td>Poison</td><td>72</td><td>76</td><td>68</td><td>60</td><td>70</td><td>87</td></tr>",
                            "<tr><td>Ground</td><td>70</td><td>84</td><td>85</td><td>54</td><td>66</td><td>66</td></tr>",
                            "<tr><td>Normal</td><td>67</td><td>62</td><td>47</td><td>52</td><td>50</td><td>67</td></tr>",
                            "<tr><td>Steel</td><td>65</td><td>88</td><td>125</td><td>58</td><td>67</td><td>52</td></tr>",
                            "<tr><td>Grass</td><td>65</td><td>73</td><td>62</td><td>79</td><td>67</td><td>59</td></tr>",
                            "<tr><td>Rock</td><td>64</td><td>84</td><td>94</td><td>64</td><td>66</td><td>55</td></tr>",
                            "<tr><td>Psychic</td><td>60</td><td>60</td><td>66</td><td>86</td><td>86</td><td>79</td></tr>",
                            "<tr><td>Dark</td><td>57</td><td>81</td><td>50</td><td>75</td><td>62</td><td>83</td></tr>",
                            "<tr><td>Electric</td><td>55</td><td>61</td><td>83</td><td>113</td><td>71</td><td>71</td></tr>",
                            "<tr><td>Fairy</td><td>55</td><td>40</td><td>85</td><td>80</td><td>105</td><td>40</td></tr>",
                            "<tr><td>Bug</td><td>53</td><td>66</td><td>66</td><td>52</td><td>69</td><td>62</td></tr>",
                            "<tr><td>Ghost</td><td>45</td><td>50</td><td>45</td><td>115</td><td>55</td><td>95</td></tr>",
                            "<tr><td>Fighting</td><td>45</td><td>50</td><td>65</td><td>50</td><td>65</td><td>70</td></tr>",
                            "</table>"
                        ]
                    }
                }
            ],
            "execution_count": 61
        },
        {
            "cell_type": "markdown",
            "source": [
                "## Complex Queries: Query 2\r\n",
                "\r\n",
                "### Proposition:\r\n",
                "Find the average stats (HP, Attack, Defense, SpecialAttack, SpecialDefense, Speed) for each primary type (Type1) across all three Pokémon generations, focusing only on Pokémon with a secondary type (Type2). The query will present the average stats by type and generation.\r\n",
                "\r\n",
                "### Tables:\r\n",
                "- PokemonGen1.dbo.PokemonGen1\r\n",
                "- PokemonGen2.dbo.PokemonGen2\r\n",
                "- PokemonGen3.dbo.PokemonGen3\r\n",
                "\r\n",
                "### Columns:\r\n",
                "- `Type1`: The primary type of a Pokémon.\r\n",
                "- `Type2`: The secondary type of a Pokémon, which can be NULL if the Pokémon does not possess a secondary type.\r\n",
                "- Other stat columns like HP, Attack, Defense, SpecialAttack, SpecialDefense, Speed.\r\n",
                "\r\n",
                "### Predicate:\r\n",
                "The query first creates a combined dataset of Pokémon from all three generations using a UNION ALL approach, including only those Pokémon with a secondary type. Then, it computes the average stats for each primary type (Type1) across the combined data. The results are grouped by Type1 and sorted by average HP and average Attack in descending order.\r\n",
                ""
            ],
            "metadata": {
                "azdata_cell_guid": "9aae11e4-ccbe-46a2-8a57-3808df21b5ef"
            },
            "attachments": {}
        },
        {
            "cell_type": "code",
            "source": [
                "WITH CombinedData AS (\r\n",
                "    SELECT 'Gen1' AS Generation, Type1, HP, Attack, Defense, SpecialAttack, SpecialDefense, Speed\r\n",
                "    FROM PokemonGen1.dbo.PokemonGen1\r\n",
                "    WHERE Type2 IS NOT NULL\r\n",
                "    UNION ALL\r\n",
                "    SELECT 'Gen2' AS Generation, Type1, HP, Attack, Defense, SpecialAttack, SpecialDefense, Speed\r\n",
                "    FROM PokemonGen2.dbo.PokemonGen2\r\n",
                "    WHERE Type2 IS NOT NULL\r\n",
                "    UNION ALL\r\n",
                "    SELECT 'Gen3' AS Generation, Type1, HP, Attack, Defense, SpecialAttack, SpecialDefense, Speed\r\n",
                "    FROM PokemonGen3.dbo.PokemonGen3\r\n",
                "    WHERE Type2 IS NOT NULL\r\n",
                "),\r\n",
                "AverageStats AS (\r\n",
                "    SELECT Type1, AVG(HP) AS AvgHP, AVG(Attack) AS AvgAttack, AVG(Defense) AS AvgDefense,\r\n",
                "           AVG(SpecialAttack) AS AvgSpecialAttack, AVG(SpecialDefense) AS AvgSpecialDefense, AVG(Speed) AS AvgSpeed\r\n",
                "    FROM CombinedData\r\n",
                "    GROUP BY Type1\r\n",
                ")\r\n",
                "SELECT Type1, AvgHP, AvgAttack, AvgDefense, AvgSpecialAttack, AvgSpecialDefense, AvgSpeed\r\n",
                "FROM AverageStats\r\n",
                "ORDER BY AvgHP DESC, AvgAttack DESC;\r\n",
                ""
            ],
            "metadata": {
                "azdata_cell_guid": "3c0c44e2-643a-44f0-85ec-9f7c10534d0d",
                "language": "sql"
            },
            "outputs": [
                {
                    "output_type": "display_data",
                    "data": {
                        "text/html": "(17 rows affected)"
                    },
                    "metadata": {}
                },
                {
                    "output_type": "display_data",
                    "data": {
                        "text/html": "Total execution time: 00:00:00.008"
                    },
                    "metadata": {}
                },
                {
                    "output_type": "execute_result",
                    "metadata": {},
                    "execution_count": 60,
                    "data": {
                        "application/vnd.dataresource+json": {
                            "schema": {
                                "fields": [
                                    {
                                        "name": "Type1"
                                    },
                                    {
                                        "name": "AvgHP"
                                    },
                                    {
                                        "name": "AvgAttack"
                                    },
                                    {
                                        "name": "AvgDefense"
                                    },
                                    {
                                        "name": "AvgSpecialAttack"
                                    },
                                    {
                                        "name": "AvgSpecialDefense"
                                    },
                                    {
                                        "name": "AvgSpeed"
                                    }
                                ]
                            },
                            "data": [
                                {
                                    "Type1": "Dragon",
                                    "AvgHP": "87",
                                    "AvgAttack": "109",
                                    "AvgDefense": "87",
                                    "AvgSpecialAttack": "111",
                                    "AvgSpecialDefense": "102",
                                    "AvgSpeed": "95"
                                },
                                {
                                    "Type1": "Fire",
                                    "AvgHP": "77",
                                    "AvgAttack": "87",
                                    "AvgDefense": "81",
                                    "AvgSpecialAttack": "100",
                                    "AvgSpecialDefense": "87",
                                    "AvgSpeed": "61"
                                },
                                {
                                    "Type1": "Water",
                                    "AvgHP": "76",
                                    "AvgAttack": "69",
                                    "AvgDefense": "72",
                                    "AvgSpecialAttack": "68",
                                    "AvgSpecialDefense": "72",
                                    "AvgSpeed": "60"
                                },
                                {
                                    "Type1": "Ice",
                                    "AvgHP": "73",
                                    "AvgAttack": "61",
                                    "AvgDefense": "58",
                                    "AvgSpecialAttack": "75",
                                    "AvgSpecialDefense": "70",
                                    "AvgSpeed": "61"
                                },
                                {
                                    "Type1": "Poison",
                                    "AvgHP": "72",
                                    "AvgAttack": "76",
                                    "AvgDefense": "68",
                                    "AvgSpecialAttack": "60",
                                    "AvgSpecialDefense": "70",
                                    "AvgSpeed": "87"
                                },
                                {
                                    "Type1": "Ground",
                                    "AvgHP": "70",
                                    "AvgAttack": "84",
                                    "AvgDefense": "85",
                                    "AvgSpecialAttack": "54",
                                    "AvgSpecialDefense": "66",
                                    "AvgSpeed": "66"
                                },
                                {
                                    "Type1": "Normal",
                                    "AvgHP": "67",
                                    "AvgAttack": "62",
                                    "AvgDefense": "47",
                                    "AvgSpecialAttack": "52",
                                    "AvgSpecialDefense": "50",
                                    "AvgSpeed": "67"
                                },
                                {
                                    "Type1": "Steel",
                                    "AvgHP": "65",
                                    "AvgAttack": "88",
                                    "AvgDefense": "125",
                                    "AvgSpecialAttack": "58",
                                    "AvgSpecialDefense": "67",
                                    "AvgSpeed": "52"
                                },
                                {
                                    "Type1": "Grass",
                                    "AvgHP": "65",
                                    "AvgAttack": "73",
                                    "AvgDefense": "62",
                                    "AvgSpecialAttack": "79",
                                    "AvgSpecialDefense": "67",
                                    "AvgSpeed": "59"
                                },
                                {
                                    "Type1": "Rock",
                                    "AvgHP": "64",
                                    "AvgAttack": "84",
                                    "AvgDefense": "94",
                                    "AvgSpecialAttack": "64",
                                    "AvgSpecialDefense": "66",
                                    "AvgSpeed": "55"
                                },
                                {
                                    "Type1": "Psychic",
                                    "AvgHP": "60",
                                    "AvgAttack": "60",
                                    "AvgDefense": "66",
                                    "AvgSpecialAttack": "86",
                                    "AvgSpecialDefense": "86",
                                    "AvgSpeed": "79"
                                },
                                {
                                    "Type1": "Dark",
                                    "AvgHP": "57",
                                    "AvgAttack": "81",
                                    "AvgDefense": "50",
                                    "AvgSpecialAttack": "75",
                                    "AvgSpecialDefense": "62",
                                    "AvgSpeed": "83"
                                },
                                {
                                    "Type1": "Electric",
                                    "AvgHP": "55",
                                    "AvgAttack": "61",
                                    "AvgDefense": "83",
                                    "AvgSpecialAttack": "113",
                                    "AvgSpecialDefense": "71",
                                    "AvgSpeed": "71"
                                },
                                {
                                    "Type1": "Fairy",
                                    "AvgHP": "55",
                                    "AvgAttack": "40",
                                    "AvgDefense": "85",
                                    "AvgSpecialAttack": "80",
                                    "AvgSpecialDefense": "105",
                                    "AvgSpeed": "40"
                                },
                                {
                                    "Type1": "Bug",
                                    "AvgHP": "53",
                                    "AvgAttack": "66",
                                    "AvgDefense": "66",
                                    "AvgSpecialAttack": "52",
                                    "AvgSpecialDefense": "69",
                                    "AvgSpeed": "62"
                                },
                                {
                                    "Type1": "Ghost",
                                    "AvgHP": "45",
                                    "AvgAttack": "50",
                                    "AvgDefense": "45",
                                    "AvgSpecialAttack": "115",
                                    "AvgSpecialDefense": "55",
                                    "AvgSpeed": "95"
                                },
                                {
                                    "Type1": "Fighting",
                                    "AvgHP": "45",
                                    "AvgAttack": "50",
                                    "AvgDefense": "65",
                                    "AvgSpecialAttack": "50",
                                    "AvgSpecialDefense": "65",
                                    "AvgSpeed": "70"
                                }
                            ]
                        },
                        "text/html": [
                            "<table>",
                            "<tr><th>Type1</th><th>AvgHP</th><th>AvgAttack</th><th>AvgDefense</th><th>AvgSpecialAttack</th><th>AvgSpecialDefense</th><th>AvgSpeed</th></tr>",
                            "<tr><td>Dragon</td><td>87</td><td>109</td><td>87</td><td>111</td><td>102</td><td>95</td></tr>",
                            "<tr><td>Fire</td><td>77</td><td>87</td><td>81</td><td>100</td><td>87</td><td>61</td></tr>",
                            "<tr><td>Water</td><td>76</td><td>69</td><td>72</td><td>68</td><td>72</td><td>60</td></tr>",
                            "<tr><td>Ice</td><td>73</td><td>61</td><td>58</td><td>75</td><td>70</td><td>61</td></tr>",
                            "<tr><td>Poison</td><td>72</td><td>76</td><td>68</td><td>60</td><td>70</td><td>87</td></tr>",
                            "<tr><td>Ground</td><td>70</td><td>84</td><td>85</td><td>54</td><td>66</td><td>66</td></tr>",
                            "<tr><td>Normal</td><td>67</td><td>62</td><td>47</td><td>52</td><td>50</td><td>67</td></tr>",
                            "<tr><td>Steel</td><td>65</td><td>88</td><td>125</td><td>58</td><td>67</td><td>52</td></tr>",
                            "<tr><td>Grass</td><td>65</td><td>73</td><td>62</td><td>79</td><td>67</td><td>59</td></tr>",
                            "<tr><td>Rock</td><td>64</td><td>84</td><td>94</td><td>64</td><td>66</td><td>55</td></tr>",
                            "<tr><td>Psychic</td><td>60</td><td>60</td><td>66</td><td>86</td><td>86</td><td>79</td></tr>",
                            "<tr><td>Dark</td><td>57</td><td>81</td><td>50</td><td>75</td><td>62</td><td>83</td></tr>",
                            "<tr><td>Electric</td><td>55</td><td>61</td><td>83</td><td>113</td><td>71</td><td>71</td></tr>",
                            "<tr><td>Fairy</td><td>55</td><td>40</td><td>85</td><td>80</td><td>105</td><td>40</td></tr>",
                            "<tr><td>Bug</td><td>53</td><td>66</td><td>66</td><td>52</td><td>69</td><td>62</td></tr>",
                            "<tr><td>Ghost</td><td>45</td><td>50</td><td>45</td><td>115</td><td>55</td><td>95</td></tr>",
                            "<tr><td>Fighting</td><td>45</td><td>50</td><td>65</td><td>50</td><td>65</td><td>70</td></tr>",
                            "</table>"
                        ]
                    }
                }
            ],
            "execution_count": 60
        },
        {
            "cell_type": "markdown",
            "source": [
                "## Complex Queries: Query 3\r\n",
                "\r\n",
                "### Proposition:\r\n",
                "Determine the Pokémon with the highest base stat total in each category (HP, Attack, Defense, SpecialAttack, SpecialDefense, Speed) across all generations, displaying the top Pokémon for each stat category.\r\n",
                "\r\n",
                "### Tables:\r\n",
                "- PokemonGen1.dbo.PokemonGen1\r\n",
                "- PokemonGen2.dbo.PokemonGen2\r\n",
                "- PokemonGen3.dbo.PokemonGen3\r\n",
                "\r\n",
                "### Columns:\r\n",
                "- `Name`: The name of the Pokémon.\r\n",
                "- `HP`, `Attack`, `Defense`, `SpecialAttack`, `SpecialDefense`, `Speed`: The various stat columns for a Pokémon.\r\n",
                "\r\n",
                "### Predicate:\r\n",
                "The query consolidates data from all three Pokémon generations into one dataset. It then utilizes a series of CTEs (Common Table Expressions) to find the Pokémon with the highest value in each stat category. The final output is a union of these CTEs, presenting the top Pokémon for each stat across all generations."
            ],
            "metadata": {
                "azdata_cell_guid": "69bc7daa-efbb-4c5e-89a8-036bc263a255"
            },
            "attachments": {}
        },
        {
            "cell_type": "code",
            "source": [
                "WITH CombinedData AS (\r\n",
                "    SELECT 'Gen1' AS Generation, Name, HP, Attack, Defense, SpecialAttack, SpecialDefense, Speed\r\n",
                "    FROM PokemonGen1.dbo.PokemonGen1\r\n",
                "    UNION ALL\r\n",
                "    SELECT 'Gen2' AS Generation, Name, HP, Attack, Defense, SpecialAttack, SpecialDefense, Speed\r\n",
                "    FROM PokemonGen2.dbo.PokemonGen2\r\n",
                "    UNION ALL\r\n",
                "    SELECT 'Gen3' AS Generation, Name, HP, Attack, Defense, SpecialAttack, SpecialDefense, Speed\r\n",
                "    FROM PokemonGen3.dbo.PokemonGen3\r\n",
                "),\r\n",
                "TopHP AS (\r\n",
                "    SELECT TOP 1 'Highest HP' AS Category, Generation, Name, HP\r\n",
                "    FROM CombinedData\r\n",
                "    ORDER BY HP DESC\r\n",
                "),\r\n",
                "TopAttack AS (\r\n",
                "    SELECT TOP 1 'Highest Attack' AS Category, Generation, Name, Attack\r\n",
                "    FROM CombinedData\r\n",
                "    ORDER BY Attack DESC\r\n",
                "),\r\n",
                "TopDefense AS (\r\n",
                "    SELECT TOP 1 'Highest Defense' AS Category, Generation, Name, Defense\r\n",
                "    FROM CombinedData\r\n",
                "    ORDER BY Defense DESC\r\n",
                "),\r\n",
                "TopSpecialAttack AS (\r\n",
                "    SELECT TOP 1 'Highest SpecialAttack' AS Category, Generation, Name, SpecialAttack\r\n",
                "    FROM CombinedData\r\n",
                "    ORDER BY SpecialAttack DESC\r\n",
                "),\r\n",
                "TopSpecialDefense AS (\r\n",
                "    SELECT TOP 1 'Highest SpecialDefense' AS Category, Generation, Name, SpecialDefense\r\n",
                "    FROM CombinedData\r\n",
                "    ORDER BY SpecialDefense DESC\r\n",
                "),\r\n",
                "TopSpeed AS (\r\n",
                "    SELECT TOP 1 'Highest Speed' AS Category, Generation, Name, Speed\r\n",
                "    FROM CombinedData\r\n",
                "    ORDER BY Speed DESC\r\n",
                ")\r\n",
                "SELECT * FROM TopHP\r\n",
                "UNION ALL\r\n",
                "SELECT * FROM TopAttack\r\n",
                "UNION ALL\r\n",
                "SELECT * FROM TopDefense\r\n",
                "UNION ALL\r\n",
                "SELECT * FROM TopSpecialAttack\r\n",
                "UNION ALL\r\n",
                "SELECT * FROM TopSpecialDefense\r\n",
                "UNION ALL\r\n",
                "SELECT * FROM TopSpeed;"
            ],
            "metadata": {
                "azdata_cell_guid": "fe2db2f2-f260-4dc9-b6a5-cff3ff8128ce",
                "language": "sql"
            },
            "outputs": [
                {
                    "output_type": "display_data",
                    "data": {
                        "text/html": "(6 rows affected)"
                    },
                    "metadata": {}
                },
                {
                    "output_type": "display_data",
                    "data": {
                        "text/html": "Total execution time: 00:00:00.014"
                    },
                    "metadata": {}
                },
                {
                    "output_type": "execute_result",
                    "metadata": {},
                    "execution_count": 59,
                    "data": {
                        "application/vnd.dataresource+json": {
                            "schema": {
                                "fields": [
                                    {
                                        "name": "Category"
                                    },
                                    {
                                        "name": "Generation"
                                    },
                                    {
                                        "name": "Name"
                                    },
                                    {
                                        "name": "HP"
                                    }
                                ]
                            },
                            "data": [
                                {
                                    "Category": "Highest HP",
                                    "Generation": "Gen2",
                                    "Name": "Blissey",
                                    "HP": "255"
                                },
                                {
                                    "Category": "Highest Attack",
                                    "Generation": "Gen3",
                                    "Name": "Slaking",
                                    "HP": "160"
                                },
                                {
                                    "Category": "Highest Defense",
                                    "Generation": "Gen2",
                                    "Name": "Shuckle",
                                    "HP": "230"
                                },
                                {
                                    "Category": "Highest SpecialAttack",
                                    "Generation": "Gen1",
                                    "Name": "Mewtwo",
                                    "HP": "154"
                                },
                                {
                                    "Category": "Highest SpecialDefense",
                                    "Generation": "Gen2",
                                    "Name": "Shuckle",
                                    "HP": "230"
                                },
                                {
                                    "Category": "Highest Speed",
                                    "Generation": "Gen3",
                                    "Name": "Ninjask",
                                    "HP": "160"
                                }
                            ]
                        },
                        "text/html": [
                            "<table>",
                            "<tr><th>Category</th><th>Generation</th><th>Name</th><th>HP</th></tr>",
                            "<tr><td>Highest HP</td><td>Gen2</td><td>Blissey</td><td>255</td></tr>",
                            "<tr><td>Highest Attack</td><td>Gen3</td><td>Slaking</td><td>160</td></tr>",
                            "<tr><td>Highest Defense</td><td>Gen2</td><td>Shuckle</td><td>230</td></tr>",
                            "<tr><td>Highest SpecialAttack</td><td>Gen1</td><td>Mewtwo</td><td>154</td></tr>",
                            "<tr><td>Highest SpecialDefense</td><td>Gen2</td><td>Shuckle</td><td>230</td></tr>",
                            "<tr><td>Highest Speed</td><td>Gen3</td><td>Ninjask</td><td>160</td></tr>",
                            "</table>"
                        ]
                    }
                }
            ],
            "execution_count": 59
        },
        {
            "cell_type": "markdown",
            "source": [
                "## Complex Queries: Query 4\r\n",
                "\r\n",
                "### Proposition:\r\n",
                "Analyze the distribution of Pokémon types (primary and secondary) across all generations, and determine the generation where each type is most prevalent.\r\n",
                "\r\n",
                "### Tables:\r\n",
                "- PokemonGen1.dbo.PokemonGen1\r\n",
                "- PokemonGen2.dbo.PokemonGen2\r\n",
                "- PokemonGen3.dbo.PokemonGen3\r\n",
                "\r\n",
                "### Columns:\r\n",
                "- `Type1`: The primary type of a Pokémon.\r\n",
                "- `Type2`: The secondary type of a Pokémon, which can be NULL if the Pokémon does not possess a secondary type.\r\n",
                "\r\n",
                "### Predicate:\r\n",
                "The query begins by consolidating the counts of primary and secondary types across all three generations. It then utilizes window functions to identify the generation in which each type is most prevalent. The final output lists each type along with the generation where it appears most frequently."
            ],
            "metadata": {
                "azdata_cell_guid": "8415a996-c7ca-416d-a63b-b5a7fd72d5c0"
            },
            "attachments": {}
        },
        {
            "cell_type": "code",
            "source": [
                "WITH TypeCounts AS (\r\n",
                "    SELECT 'Gen1' AS Generation, Type1 AS Type\r\n",
                "    FROM PokemonGen1.dbo.PokemonGen1\r\n",
                "    WHERE Type1 IS NOT NULL\r\n",
                "    UNION ALL\r\n",
                "    SELECT 'Gen1', Type2\r\n",
                "    FROM PokemonGen1.dbo.PokemonGen1\r\n",
                "    WHERE Type2 IS NOT NULL\r\n",
                "    UNION ALL\r\n",
                "    SELECT 'Gen2', Type1\r\n",
                "    FROM PokemonGen2.dbo.PokemonGen2\r\n",
                "    WHERE Type1 IS NOT NULL\r\n",
                "    UNION ALL\r\n",
                "    SELECT 'Gen2', Type2\r\n",
                "    FROM PokemonGen2.dbo.PokemonGen2\r\n",
                "    WHERE Type2 IS NOT NULL\r\n",
                "    UNION ALL\r\n",
                "    SELECT 'Gen3', Type1\r\n",
                "    FROM PokemonGen3.dbo.PokemonGen3\r\n",
                "    WHERE Type1 IS NOT NULL\r\n",
                "    UNION ALL\r\n",
                "    SELECT 'Gen3', Type2\r\n",
                "    FROM PokemonGen3.dbo.PokemonGen3\r\n",
                "    WHERE Type2 IS NOT NULL\r\n",
                "),\r\n",
                "CountsByGeneration AS (\r\n",
                "    SELECT Type, Generation, COUNT(*) AS Count\r\n",
                "    FROM TypeCounts\r\n",
                "    GROUP BY Type, Generation\r\n",
                "),\r\n",
                "RankedTypes AS (\r\n",
                "    SELECT Type, Generation, Count, RANK() OVER (PARTITION BY Type ORDER BY Count DESC) AS Rank\r\n",
                "    FROM CountsByGeneration\r\n",
                ")\r\n",
                "SELECT Type, Generation\r\n",
                "FROM RankedTypes\r\n",
                "WHERE Rank = 1;\r\n",
                ""
            ],
            "metadata": {
                "azdata_cell_guid": "1ef93b9f-ef0a-40bb-81f6-9d542159f622",
                "language": "sql"
            },
            "outputs": [
                {
                    "output_type": "display_data",
                    "data": {
                        "text/html": "(21 rows affected)"
                    },
                    "metadata": {}
                },
                {
                    "output_type": "display_data",
                    "data": {
                        "text/html": "Total execution time: 00:00:00.011"
                    },
                    "metadata": {}
                },
                {
                    "output_type": "execute_result",
                    "metadata": {},
                    "execution_count": 58,
                    "data": {
                        "application/vnd.dataresource+json": {
                            "schema": {
                                "fields": [
                                    {
                                        "name": "Type"
                                    },
                                    {
                                        "name": "Generation"
                                    }
                                ]
                            },
                            "data": [
                                {
                                    "Type": "Bug",
                                    "Generation": "Gen3"
                                },
                                {
                                    "Type": "Dark",
                                    "Generation": "Gen3"
                                },
                                {
                                    "Type": "Dragon",
                                    "Generation": "Gen3"
                                },
                                {
                                    "Type": "Electric",
                                    "Generation": "Gen1"
                                },
                                {
                                    "Type": "Fairy",
                                    "Generation": "Gen2"
                                },
                                {
                                    "Type": "Fight",
                                    "Generation": "Gen1"
                                },
                                {
                                    "Type": "Fighting",
                                    "Generation": "Gen1"
                                },
                                {
                                    "Type": "Fire",
                                    "Generation": "Gen1"
                                },
                                {
                                    "Type": "Flying",
                                    "Generation": "Gen2"
                                },
                                {
                                    "Type": "Flying",
                                    "Generation": "Gen1"
                                },
                                {
                                    "Type": "Ghost",
                                    "Generation": "Gen3"
                                },
                                {
                                    "Type": "Grass",
                                    "Generation": "Gen3"
                                },
                                {
                                    "Type": "Ground",
                                    "Generation": "Gen1"
                                },
                                {
                                    "Type": "Ice",
                                    "Generation": "Gen3"
                                },
                                {
                                    "Type": "Normal",
                                    "Generation": "Gen1"
                                },
                                {
                                    "Type": "Poison",
                                    "Generation": "Gen1"
                                },
                                {
                                    "Type": "Poison Point",
                                    "Generation": "Gen1"
                                },
                                {
                                    "Type": "Psychic",
                                    "Generation": "Gen3"
                                },
                                {
                                    "Type": "Rock",
                                    "Generation": "Gen3"
                                },
                                {
                                    "Type": "Steel",
                                    "Generation": "Gen3"
                                },
                                {
                                    "Type": "Water",
                                    "Generation": "Gen1"
                                }
                            ]
                        },
                        "text/html": [
                            "<table>",
                            "<tr><th>Type</th><th>Generation</th></tr>",
                            "<tr><td>Bug</td><td>Gen3</td></tr>",
                            "<tr><td>Dark</td><td>Gen3</td></tr>",
                            "<tr><td>Dragon</td><td>Gen3</td></tr>",
                            "<tr><td>Electric</td><td>Gen1</td></tr>",
                            "<tr><td>Fairy</td><td>Gen2</td></tr>",
                            "<tr><td>Fight</td><td>Gen1</td></tr>",
                            "<tr><td>Fighting</td><td>Gen1</td></tr>",
                            "<tr><td>Fire</td><td>Gen1</td></tr>",
                            "<tr><td>Flying</td><td>Gen2</td></tr>",
                            "<tr><td>Flying</td><td>Gen1</td></tr>",
                            "<tr><td>Ghost</td><td>Gen3</td></tr>",
                            "<tr><td>Grass</td><td>Gen3</td></tr>",
                            "<tr><td>Ground</td><td>Gen1</td></tr>",
                            "<tr><td>Ice</td><td>Gen3</td></tr>",
                            "<tr><td>Normal</td><td>Gen1</td></tr>",
                            "<tr><td>Poison</td><td>Gen1</td></tr>",
                            "<tr><td>Poison Point</td><td>Gen1</td></tr>",
                            "<tr><td>Psychic</td><td>Gen3</td></tr>",
                            "<tr><td>Rock</td><td>Gen3</td></tr>",
                            "<tr><td>Steel</td><td>Gen3</td></tr>",
                            "<tr><td>Water</td><td>Gen1</td></tr>",
                            "</table>"
                        ]
                    }
                }
            ],
            "execution_count": 58
        },
        {
            "cell_type": "markdown",
            "source": [
                "## Complex Queries: Query 5\r\n",
                "\r\n",
                "### Proposition:\r\n",
                "Compare the average base stat totals of each Pokémon type across the three generations to find out which type has evolved the most in terms of average total stats.\r\n",
                "\r\n",
                "### Tables:\r\n",
                "- PokemonGen1.dbo.PokemonGen1\r\n",
                "- PokemonGen2.dbo.PokemonGen2\r\n",
                "- PokemonGen3.dbo.PokemonGen3\r\n",
                "\r\n",
                "### Columns:\r\n",
                "- `Type1`: The primary type of a Pokémon.\r\n",
                "- `HP`, `Attack`, `Defense`, `SpecialAttack`, `SpecialDefense`, `Speed`: The various stat columns for a Pokémon.\r\n",
                "\r\n",
                "### Predicate:\r\n",
                "This query calculates the average total base stats for each primary type (Type1) in each generation. It then compares these averages to determine which type has shown the greatest increase in average total stats from Generation 1 to Generation 3."
            ],
            "metadata": {
                "azdata_cell_guid": "7a879bf6-dc25-418b-88d7-5297c077074c"
            },
            "attachments": {}
        },
        {
            "cell_type": "code",
            "source": [
                "WITH Gen1Avg AS (\r\n",
                "    SELECT Type1, AVG(HP + Attack + Defense + SpecialAttack + SpecialDefense + Speed) AS AvgTotalStats\r\n",
                "    FROM PokemonGen1.dbo.PokemonGen1\r\n",
                "    GROUP BY Type1\r\n",
                "),\r\n",
                "Gen2Avg AS (\r\n",
                "    SELECT Type1, AVG(HP + Attack + Defense + SpecialAttack + SpecialDefense + Speed) AS AvgTotalStats\r\n",
                "    FROM PokemonGen2.dbo.PokemonGen2\r\n",
                "    GROUP BY Type1\r\n",
                "),\r\n",
                "Gen3Avg AS (\r\n",
                "    SELECT Type1, AVG(HP + Attack + Defense + SpecialAttack + SpecialDefense + Speed) AS AvgTotalStats\r\n",
                "    FROM PokemonGen3.dbo.PokemonGen3\r\n",
                "    GROUP BY Type1\r\n",
                "),\r\n",
                "CombinedAverages AS (\r\n",
                "    SELECT g1.Type1, g1.AvgTotalStats AS Gen1Avg, g2.AvgTotalStats AS Gen2Avg, g3.AvgTotalStats AS Gen3Avg\r\n",
                "    FROM Gen1Avg g1\r\n",
                "    FULL OUTER JOIN Gen2Avg g2 ON g1.Type1 = g2.Type1\r\n",
                "    FULL OUTER JOIN Gen3Avg g3 ON g1.Type1 = g3.Type1 OR g2.Type1 = g3.Type1\r\n",
                "),\r\n",
                "StatsImprovement AS (\r\n",
                "    SELECT \r\n",
                "        Type1, \r\n",
                "        Gen1Avg, \r\n",
                "        Gen2Avg, \r\n",
                "        Gen3Avg, \r\n",
                "        COALESCE(Gen3Avg - Gen1Avg, 0) AS Improvement\r\n",
                "    FROM CombinedAverages\r\n",
                ")\r\n",
                "SELECT Type1, Gen1Avg, Gen2Avg, Gen3Avg, Improvement\r\n",
                "FROM StatsImprovement\r\n",
                "ORDER BY Improvement DESC;"
            ],
            "metadata": {
                "azdata_cell_guid": "546e605f-5ef5-413c-8111-20e732f7ac21",
                "language": "sql"
            },
            "outputs": [
                {
                    "output_type": "display_data",
                    "data": {
                        "text/html": "(18 rows affected)"
                    },
                    "metadata": {}
                },
                {
                    "output_type": "display_data",
                    "data": {
                        "text/html": "Total execution time: 00:00:00.009"
                    },
                    "metadata": {}
                },
                {
                    "output_type": "execute_result",
                    "metadata": {},
                    "execution_count": 57,
                    "data": {
                        "application/vnd.dataresource+json": {
                            "schema": {
                                "fields": [
                                    {
                                        "name": "Type1"
                                    },
                                    {
                                        "name": "Gen1Avg"
                                    },
                                    {
                                        "name": "Gen2Avg"
                                    },
                                    {
                                        "name": "Gen3Avg"
                                    },
                                    {
                                        "name": "Improvement"
                                    }
                                ]
                            },
                            "data": [
                                {
                                    "Type1": "Dragon",
                                    "Gen1Avg": "440",
                                    "Gen2Avg": "NULL",
                                    "Gen3Avg": "527",
                                    "Improvement": "87"
                                },
                                {
                                    "Type1": "Ground",
                                    "Gen1Avg": "391",
                                    "Gen2Avg": "420",
                                    "Gen3Avg": "436",
                                    "Improvement": "45"
                                },
                                {
                                    "Type1": "Poison",
                                    "Gen1Avg": "374",
                                    "Gen2Avg": "535",
                                    "Gen3Avg": "409",
                                    "Improvement": "35"
                                },
                                {
                                    "Type1": "Rock",
                                    "Gen1Avg": "420",
                                    "Gen2Avg": "430",
                                    "Gen3Avg": "446",
                                    "Improvement": "26"
                                },
                                {
                                    "Type1": "NULL",
                                    "Gen1Avg": "NULL",
                                    "Gen2Avg": "487",
                                    "Gen3Avg": "463",
                                    "Improvement": "0"
                                },
                                {
                                    "Type1": "Fight",
                                    "Gen1Avg": "455",
                                    "Gen2Avg": "NULL",
                                    "Gen3Avg": "NULL",
                                    "Improvement": "0"
                                },
                                {
                                    "Type1": "NULL",
                                    "Gen1Avg": "NULL",
                                    "Gen2Avg": "438",
                                    "Gen3Avg": "371",
                                    "Improvement": "0"
                                },
                                {
                                    "Type1": "Fairy",
                                    "Gen1Avg": "403",
                                    "Gen2Avg": "323",
                                    "Gen3Avg": "NULL",
                                    "Improvement": "0"
                                },
                                {
                                    "Type1": "Normal",
                                    "Gen1Avg": "374",
                                    "Gen2Avg": "391",
                                    "Gen3Avg": "372",
                                    "Improvement": "-2"
                                },
                                {
                                    "Type1": "Water",
                                    "Gen1Avg": "413",
                                    "Gen2Avg": "420",
                                    "Gen3Avg": "405",
                                    "Improvement": "-8"
                                },
                                {
                                    "Type1": "Bug",
                                    "Gen1Avg": "337",
                                    "Gen2Avg": "395",
                                    "Gen3Avg": "327",
                                    "Improvement": "-10"
                                },
                                {
                                    "Type1": "Grass",
                                    "Gen1Avg": "410",
                                    "Gen2Avg": "377",
                                    "Gen3Avg": "392",
                                    "Improvement": "-18"
                                },
                                {
                                    "Type1": "Ghost",
                                    "Gen1Avg": "405",
                                    "Gen2Avg": "435",
                                    "Gen3Avg": "375",
                                    "Improvement": "-30"
                                },
                                {
                                    "Type1": "Fire",
                                    "Gen1Avg": "451",
                                    "Gen2Avg": "444",
                                    "Gen3Avg": "413",
                                    "Improvement": "-38"
                                },
                                {
                                    "Type1": "Fighting",
                                    "Gen1Avg": "395",
                                    "Gen2Avg": "332",
                                    "Gen3Avg": "350",
                                    "Improvement": "-45"
                                },
                                {
                                    "Type1": "Electric",
                                    "Gen1Avg": "445",
                                    "Gen2Avg": "383",
                                    "Gen3Avg": "395",
                                    "Improvement": "-50"
                                },
                                {
                                    "Type1": "Psychic",
                                    "Gen1Avg": "470",
                                    "Gen2Avg": "476",
                                    "Gen3Avg": "388",
                                    "Improvement": "-82"
                                },
                                {
                                    "Type1": "Ice",
                                    "Gen1Avg": "517",
                                    "Gen2Avg": "333",
                                    "Gen3Avg": "431",
                                    "Improvement": "-86"
                                }
                            ]
                        },
                        "text/html": [
                            "<table>",
                            "<tr><th>Type1</th><th>Gen1Avg</th><th>Gen2Avg</th><th>Gen3Avg</th><th>Improvement</th></tr>",
                            "<tr><td>Dragon</td><td>440</td><td>NULL</td><td>527</td><td>87</td></tr>",
                            "<tr><td>Ground</td><td>391</td><td>420</td><td>436</td><td>45</td></tr>",
                            "<tr><td>Poison</td><td>374</td><td>535</td><td>409</td><td>35</td></tr>",
                            "<tr><td>Rock</td><td>420</td><td>430</td><td>446</td><td>26</td></tr>",
                            "<tr><td>NULL</td><td>NULL</td><td>487</td><td>463</td><td>0</td></tr>",
                            "<tr><td>Fight</td><td>455</td><td>NULL</td><td>NULL</td><td>0</td></tr>",
                            "<tr><td>NULL</td><td>NULL</td><td>438</td><td>371</td><td>0</td></tr>",
                            "<tr><td>Fairy</td><td>403</td><td>323</td><td>NULL</td><td>0</td></tr>",
                            "<tr><td>Normal</td><td>374</td><td>391</td><td>372</td><td>-2</td></tr>",
                            "<tr><td>Water</td><td>413</td><td>420</td><td>405</td><td>-8</td></tr>",
                            "<tr><td>Bug</td><td>337</td><td>395</td><td>327</td><td>-10</td></tr>",
                            "<tr><td>Grass</td><td>410</td><td>377</td><td>392</td><td>-18</td></tr>",
                            "<tr><td>Ghost</td><td>405</td><td>435</td><td>375</td><td>-30</td></tr>",
                            "<tr><td>Fire</td><td>451</td><td>444</td><td>413</td><td>-38</td></tr>",
                            "<tr><td>Fighting</td><td>395</td><td>332</td><td>350</td><td>-45</td></tr>",
                            "<tr><td>Electric</td><td>445</td><td>383</td><td>395</td><td>-50</td></tr>",
                            "<tr><td>Psychic</td><td>470</td><td>476</td><td>388</td><td>-82</td></tr>",
                            "<tr><td>Ice</td><td>517</td><td>333</td><td>431</td><td>-86</td></tr>",
                            "</table>"
                        ]
                    }
                }
            ],
            "execution_count": 57
        },
        {
            "cell_type": "markdown",
            "source": [
                "## Complex Queries: Query 6\r\n",
                "\r\n",
                "### Proposition:\r\n",
                "Assess the balance of Pokémon types within each generation, determining the proportion of each type in relation to the total number of Pokémon in that generation.\r\n",
                "\r\n",
                "### Tables:\r\n",
                "- PokemonGen1.dbo.PokemonGen1\r\n",
                "- PokemonGen2.dbo.PokemonGen2\r\n",
                "- PokemonGen3.dbo.PokemonGen3\r\n",
                "\r\n",
                "### Columns:\r\n",
                "- `Type1`: The primary type of a Pokémon.\r\n",
                "\r\n",
                "### Predicate:\r\n",
                "This query calculates the proportion of each Pokémon type (Type1) within each generation. It does this by first determining the count of each type and the total number of Pokémon in each generation, and then computing the proportion of each type.\r\n",
                ""
            ],
            "metadata": {
                "azdata_cell_guid": "9cc7176c-334e-4754-9a9c-c53b2da164ec"
            },
            "attachments": {}
        },
        {
            "cell_type": "code",
            "source": [
                "WITH TypeCounts AS (\r\n",
                "    SELECT 'Gen1' AS Generation, Type1, COUNT(*) AS Count\r\n",
                "    FROM PokemonGen1.dbo.PokemonGen1\r\n",
                "    GROUP BY Type1\r\n",
                "    UNION ALL\r\n",
                "    SELECT 'Gen2', Type1, COUNT(*)\r\n",
                "    FROM PokemonGen2.dbo.PokemonGen2\r\n",
                "    GROUP BY Type1\r\n",
                "    UNION ALL\r\n",
                "    SELECT 'Gen3', Type1, COUNT(*)\r\n",
                "    FROM PokemonGen3.dbo.PokemonGen3\r\n",
                "    GROUP BY Type1\r\n",
                "),\r\n",
                "TotalCounts AS (\r\n",
                "    SELECT Generation, COUNT(*) AS Total\r\n",
                "    FROM (\r\n",
                "        SELECT 'Gen1' AS Generation, Type1\r\n",
                "        FROM PokemonGen1.dbo.PokemonGen1\r\n",
                "        UNION ALL\r\n",
                "        SELECT 'Gen2', Type1\r\n",
                "        FROM PokemonGen2.dbo.PokemonGen2\r\n",
                "        UNION ALL\r\n",
                "        SELECT 'Gen3', Type1\r\n",
                "        FROM PokemonGen3.dbo.PokemonGen3\r\n",
                "    ) AS AllGenerations\r\n",
                "    GROUP BY Generation\r\n",
                "),\r\n",
                "TypeProportions AS (\r\n",
                "    SELECT tc.Generation, tc.Type1, tc.Count, tc.Count * 100.0 / tt.Total AS Proportion\r\n",
                "    FROM TypeCounts tc\r\n",
                "    JOIN TotalCounts tt ON tc.Generation = tt.Generation\r\n",
                ")\r\n",
                "SELECT Generation, Type1, Count, Proportion\r\n",
                "FROM TypeProportions\r\n",
                "ORDER BY Generation, Proportion DESC;\r\n",
                ""
            ],
            "metadata": {
                "azdata_cell_guid": "418098d4-5252-438a-9580-83aad5920a06",
                "language": "sql"
            },
            "outputs": [
                {
                    "output_type": "display_data",
                    "data": {
                        "text/html": "(48 rows affected)"
                    },
                    "metadata": {}
                },
                {
                    "output_type": "display_data",
                    "data": {
                        "text/html": "Total execution time: 00:00:00.014"
                    },
                    "metadata": {}
                },
                {
                    "output_type": "execute_result",
                    "metadata": {},
                    "execution_count": 56,
                    "data": {
                        "application/vnd.dataresource+json": {
                            "schema": {
                                "fields": [
                                    {
                                        "name": "Generation"
                                    },
                                    {
                                        "name": "Type1"
                                    },
                                    {
                                        "name": "Count"
                                    },
                                    {
                                        "name": "Proportion"
                                    }
                                ]
                            },
                            "data": [
                                {
                                    "Generation": "Gen1",
                                    "Type1": "Water",
                                    "Count": "28",
                                    "Proportion": "18.543046357615"
                                },
                                {
                                    "Generation": "Gen1",
                                    "Type1": "Normal",
                                    "Count": "22",
                                    "Proportion": "14.569536423841"
                                },
                                {
                                    "Generation": "Gen1",
                                    "Type1": "Poison",
                                    "Count": "13",
                                    "Proportion": "8.609271523178"
                                },
                                {
                                    "Generation": "Gen1",
                                    "Type1": "Bug",
                                    "Count": "12",
                                    "Proportion": "7.947019867549"
                                },
                                {
                                    "Generation": "Gen1",
                                    "Type1": "Fire",
                                    "Count": "12",
                                    "Proportion": "7.947019867549"
                                },
                                {
                                    "Generation": "Gen1",
                                    "Type1": "Grass",
                                    "Count": "12",
                                    "Proportion": "7.947019867549"
                                },
                                {
                                    "Generation": "Gen1",
                                    "Type1": "Ground",
                                    "Count": "9",
                                    "Proportion": "5.960264900662"
                                },
                                {
                                    "Generation": "Gen1",
                                    "Type1": "Electric",
                                    "Count": "9",
                                    "Proportion": "5.960264900662"
                                },
                                {
                                    "Generation": "Gen1",
                                    "Type1": "Rock",
                                    "Count": "9",
                                    "Proportion": "5.960264900662"
                                },
                                {
                                    "Generation": "Gen1",
                                    "Type1": "Psychic",
                                    "Count": "8",
                                    "Proportion": "5.298013245033"
                                },
                                {
                                    "Generation": "Gen1",
                                    "Type1": "Fighting",
                                    "Count": "5",
                                    "Proportion": "3.311258278145"
                                },
                                {
                                    "Generation": "Gen1",
                                    "Type1": "Dragon",
                                    "Count": "3",
                                    "Proportion": "1.986754966887"
                                },
                                {
                                    "Generation": "Gen1",
                                    "Type1": "Ghost",
                                    "Count": "3",
                                    "Proportion": "1.986754966887"
                                },
                                {
                                    "Generation": "Gen1",
                                    "Type1": "Ice",
                                    "Count": "2",
                                    "Proportion": "1.324503311258"
                                },
                                {
                                    "Generation": "Gen1",
                                    "Type1": "Fairy",
                                    "Count": "2",
                                    "Proportion": "1.324503311258"
                                },
                                {
                                    "Generation": "Gen1",
                                    "Type1": "Fight",
                                    "Count": "2",
                                    "Proportion": "1.324503311258"
                                },
                                {
                                    "Generation": "Gen2",
                                    "Type1": "Water",
                                    "Count": "18",
                                    "Proportion": "18.000000000000"
                                },
                                {
                                    "Generation": "Gen2",
                                    "Type1": "Normal",
                                    "Count": "15",
                                    "Proportion": "15.000000000000"
                                },
                                {
                                    "Generation": "Gen2",
                                    "Type1": "Bug",
                                    "Count": "10",
                                    "Proportion": "10.000000000000"
                                },
                                {
                                    "Generation": "Gen2",
                                    "Type1": "Grass",
                                    "Count": "9",
                                    "Proportion": "9.000000000000"
                                },
                                {
                                    "Generation": "Gen2",
                                    "Type1": "Fire",
                                    "Count": "8",
                                    "Proportion": "8.000000000000"
                                },
                                {
                                    "Generation": "Gen2",
                                    "Type1": "Psychic",
                                    "Count": "7",
                                    "Proportion": "7.000000000000"
                                },
                                {
                                    "Generation": "Gen2",
                                    "Type1": "Electric",
                                    "Count": "6",
                                    "Proportion": "6.000000000000"
                                },
                                {
                                    "Generation": "Gen2",
                                    "Type1": "Fairy",
                                    "Count": "5",
                                    "Proportion": "5.000000000000"
                                },
                                {
                                    "Generation": "Gen2",
                                    "Type1": "Dark",
                                    "Count": "5",
                                    "Proportion": "5.000000000000"
                                },
                                {
                                    "Generation": "Gen2",
                                    "Type1": "Rock",
                                    "Count": "4",
                                    "Proportion": "4.000000000000"
                                },
                                {
                                    "Generation": "Gen2",
                                    "Type1": "Ice",
                                    "Count": "4",
                                    "Proportion": "4.000000000000"
                                },
                                {
                                    "Generation": "Gen2",
                                    "Type1": "Ground",
                                    "Count": "3",
                                    "Proportion": "3.000000000000"
                                },
                                {
                                    "Generation": "Gen2",
                                    "Type1": "Steel",
                                    "Count": "2",
                                    "Proportion": "2.000000000000"
                                },
                                {
                                    "Generation": "Gen2",
                                    "Type1": "Fighting",
                                    "Count": "2",
                                    "Proportion": "2.000000000000"
                                },
                                {
                                    "Generation": "Gen2",
                                    "Type1": "Poison",
                                    "Count": "1",
                                    "Proportion": "1.000000000000"
                                },
                                {
                                    "Generation": "Gen2",
                                    "Type1": "Ghost",
                                    "Count": "1",
                                    "Proportion": "1.000000000000"
                                },
                                {
                                    "Generation": "Gen3",
                                    "Type1": "Water",
                                    "Count": "24",
                                    "Proportion": "17.777777777777"
                                },
                                {
                                    "Generation": "Gen3",
                                    "Type1": "Normal",
                                    "Count": "18",
                                    "Proportion": "13.333333333333"
                                },
                                {
                                    "Generation": "Gen3",
                                    "Type1": "Bug",
                                    "Count": "12",
                                    "Proportion": "8.888888888888"
                                },
                                {
                                    "Generation": "Gen3",
                                    "Type1": "Grass",
                                    "Count": "12",
                                    "Proportion": "8.888888888888"
                                },
                                {
                                    "Generation": "Gen3",
                                    "Type1": "Steel",
                                    "Count": "9",
                                    "Proportion": "6.666666666666"
                                },
                                {
                                    "Generation": "Gen3",
                                    "Type1": "Psychic",
                                    "Count": "8",
                                    "Proportion": "5.925925925925"
                                },
                                {
                                    "Generation": "Gen3",
                                    "Type1": "Rock",
                                    "Count": "8",
                                    "Proportion": "5.925925925925"
                                },
                                {
                                    "Generation": "Gen3",
                                    "Type1": "Dragon",
                                    "Count": "7",
                                    "Proportion": "5.185185185185"
                                },
                                {
                                    "Generation": "Gen3",
                                    "Type1": "Ground",
                                    "Count": "6",
                                    "Proportion": "4.444444444444"
                                },
                                {
                                    "Generation": "Gen3",
                                    "Type1": "Ice",
                                    "Count": "6",
                                    "Proportion": "4.444444444444"
                                },
                                {
                                    "Generation": "Gen3",
                                    "Type1": "Fire",
                                    "Count": "6",
                                    "Proportion": "4.444444444444"
                                },
                                {
                                    "Generation": "Gen3",
                                    "Type1": "Ghost",
                                    "Count": "4",
                                    "Proportion": "2.962962962962"
                                },
                                {
                                    "Generation": "Gen3",
                                    "Type1": "Electric",
                                    "Count": "4",
                                    "Proportion": "2.962962962962"
                                },
                                {
                                    "Generation": "Gen3",
                                    "Type1": "Fighting",
                                    "Count": "4",
                                    "Proportion": "2.962962962962"
                                },
                                {
                                    "Generation": "Gen3",
                                    "Type1": "Dark",
                                    "Count": "4",
                                    "Proportion": "2.962962962962"
                                },
                                {
                                    "Generation": "Gen3",
                                    "Type1": "Poison",
                                    "Count": "3",
                                    "Proportion": "2.222222222222"
                                }
                            ]
                        },
                        "text/html": [
                            "<table>",
                            "<tr><th>Generation</th><th>Type1</th><th>Count</th><th>Proportion</th></tr>",
                            "<tr><td>Gen1</td><td>Water</td><td>28</td><td>18.543046357615</td></tr>",
                            "<tr><td>Gen1</td><td>Normal</td><td>22</td><td>14.569536423841</td></tr>",
                            "<tr><td>Gen1</td><td>Poison</td><td>13</td><td>8.609271523178</td></tr>",
                            "<tr><td>Gen1</td><td>Bug</td><td>12</td><td>7.947019867549</td></tr>",
                            "<tr><td>Gen1</td><td>Fire</td><td>12</td><td>7.947019867549</td></tr>",
                            "<tr><td>Gen1</td><td>Grass</td><td>12</td><td>7.947019867549</td></tr>",
                            "<tr><td>Gen1</td><td>Ground</td><td>9</td><td>5.960264900662</td></tr>",
                            "<tr><td>Gen1</td><td>Electric</td><td>9</td><td>5.960264900662</td></tr>",
                            "<tr><td>Gen1</td><td>Rock</td><td>9</td><td>5.960264900662</td></tr>",
                            "<tr><td>Gen1</td><td>Psychic</td><td>8</td><td>5.298013245033</td></tr>",
                            "<tr><td>Gen1</td><td>Fighting</td><td>5</td><td>3.311258278145</td></tr>",
                            "<tr><td>Gen1</td><td>Dragon</td><td>3</td><td>1.986754966887</td></tr>",
                            "<tr><td>Gen1</td><td>Ghost</td><td>3</td><td>1.986754966887</td></tr>",
                            "<tr><td>Gen1</td><td>Ice</td><td>2</td><td>1.324503311258</td></tr>",
                            "<tr><td>Gen1</td><td>Fairy</td><td>2</td><td>1.324503311258</td></tr>",
                            "<tr><td>Gen1</td><td>Fight</td><td>2</td><td>1.324503311258</td></tr>",
                            "<tr><td>Gen2</td><td>Water</td><td>18</td><td>18.000000000000</td></tr>",
                            "<tr><td>Gen2</td><td>Normal</td><td>15</td><td>15.000000000000</td></tr>",
                            "<tr><td>Gen2</td><td>Bug</td><td>10</td><td>10.000000000000</td></tr>",
                            "<tr><td>Gen2</td><td>Grass</td><td>9</td><td>9.000000000000</td></tr>",
                            "<tr><td>Gen2</td><td>Fire</td><td>8</td><td>8.000000000000</td></tr>",
                            "<tr><td>Gen2</td><td>Psychic</td><td>7</td><td>7.000000000000</td></tr>",
                            "<tr><td>Gen2</td><td>Electric</td><td>6</td><td>6.000000000000</td></tr>",
                            "<tr><td>Gen2</td><td>Fairy</td><td>5</td><td>5.000000000000</td></tr>",
                            "<tr><td>Gen2</td><td>Dark</td><td>5</td><td>5.000000000000</td></tr>",
                            "<tr><td>Gen2</td><td>Rock</td><td>4</td><td>4.000000000000</td></tr>",
                            "<tr><td>Gen2</td><td>Ice</td><td>4</td><td>4.000000000000</td></tr>",
                            "<tr><td>Gen2</td><td>Ground</td><td>3</td><td>3.000000000000</td></tr>",
                            "<tr><td>Gen2</td><td>Steel</td><td>2</td><td>2.000000000000</td></tr>",
                            "<tr><td>Gen2</td><td>Fighting</td><td>2</td><td>2.000000000000</td></tr>",
                            "<tr><td>Gen2</td><td>Poison</td><td>1</td><td>1.000000000000</td></tr>",
                            "<tr><td>Gen2</td><td>Ghost</td><td>1</td><td>1.000000000000</td></tr>",
                            "<tr><td>Gen3</td><td>Water</td><td>24</td><td>17.777777777777</td></tr>",
                            "<tr><td>Gen3</td><td>Normal</td><td>18</td><td>13.333333333333</td></tr>",
                            "<tr><td>Gen3</td><td>Bug</td><td>12</td><td>8.888888888888</td></tr>",
                            "<tr><td>Gen3</td><td>Grass</td><td>12</td><td>8.888888888888</td></tr>",
                            "<tr><td>Gen3</td><td>Steel</td><td>9</td><td>6.666666666666</td></tr>",
                            "<tr><td>Gen3</td><td>Psychic</td><td>8</td><td>5.925925925925</td></tr>",
                            "<tr><td>Gen3</td><td>Rock</td><td>8</td><td>5.925925925925</td></tr>",
                            "<tr><td>Gen3</td><td>Dragon</td><td>7</td><td>5.185185185185</td></tr>",
                            "<tr><td>Gen3</td><td>Ground</td><td>6</td><td>4.444444444444</td></tr>",
                            "<tr><td>Gen3</td><td>Ice</td><td>6</td><td>4.444444444444</td></tr>",
                            "<tr><td>Gen3</td><td>Fire</td><td>6</td><td>4.444444444444</td></tr>",
                            "<tr><td>Gen3</td><td>Ghost</td><td>4</td><td>2.962962962962</td></tr>",
                            "<tr><td>Gen3</td><td>Electric</td><td>4</td><td>2.962962962962</td></tr>",
                            "<tr><td>Gen3</td><td>Fighting</td><td>4</td><td>2.962962962962</td></tr>",
                            "<tr><td>Gen3</td><td>Dark</td><td>4</td><td>2.962962962962</td></tr>",
                            "<tr><td>Gen3</td><td>Poison</td><td>3</td><td>2.222222222222</td></tr>",
                            "</table>"
                        ]
                    }
                }
            ],
            "execution_count": 56
        },
        {
            "cell_type": "markdown",
            "source": [
                "## Complex Queries: Query 7\r\n",
                "\r\n",
                "### Proposition:\r\n",
                "Analyze the distribution of Pokémon abilities across all generations, identifying the most common and least common abilities.\r\n",
                "\r\n",
                "### Tables:\r\n",
                "- PokemonGen1.dbo.PokemonGen1\r\n",
                "- PokemonGen2.dbo.PokemonGen2\r\n",
                "- PokemonGen3.dbo.PokemonGen3\r\n",
                "\r\n",
                "### Columns:\r\n",
                "- `Ability1`, `Ability2`, `Ability3`: The abilities of a Pokémon.\r\n",
                "\r\n",
                "### Predicate:\r\n",
                "This query focuses on the distribution of Pokémon abilities. It first aggregates the occurrences of each ability across all generations, then identifies the most and least common abilities."
            ],
            "metadata": {
                "azdata_cell_guid": "0fe001f9-e25c-41d2-9ee2-2a843316502c"
            },
            "attachments": {}
        },
        {
            "cell_type": "code",
            "source": [
                "WITH AbilityCounts AS (\r\n",
                "    SELECT Ability1 AS Ability\r\n",
                "    FROM PokemonGen1.dbo.PokemonGen1\r\n",
                "    WHERE Ability1 IS NOT NULL\r\n",
                "    UNION ALL\r\n",
                "    SELECT Ability2\r\n",
                "    FROM PokemonGen1.dbo.PokemonGen1\r\n",
                "    WHERE Ability2 IS NOT NULL\r\n",
                "    UNION ALL\r\n",
                "    SELECT Ability3\r\n",
                "    FROM PokemonGen1.dbo.PokemonGen1\r\n",
                "    WHERE Ability3 IS NOT NULL\r\n",
                "    UNION ALL\r\n",
                "    SELECT Ability1\r\n",
                "    FROM PokemonGen2.dbo.PokemonGen2\r\n",
                "    WHERE Ability1 IS NOT NULL\r\n",
                "    UNION ALL\r\n",
                "    SELECT Ability2\r\n",
                "    FROM PokemonGen2.dbo.PokemonGen2\r\n",
                "    WHERE Ability2 IS NOT NULL\r\n",
                "    UNION ALL\r\n",
                "    SELECT Ability3\r\n",
                "    FROM PokemonGen2.dbo.PokemonGen2\r\n",
                "    WHERE Ability3 IS NOT NULL\r\n",
                "    UNION ALL\r\n",
                "    SELECT Ability1\r\n",
                "    FROM PokemonGen3.dbo.PokemonGen3\r\n",
                "    WHERE Ability1 IS NOT NULL\r\n",
                "    UNION ALL\r\n",
                "    SELECT Ability2\r\n",
                "    FROM PokemonGen3.dbo.PokemonGen3\r\n",
                "    WHERE Ability2 IS NOT NULL\r\n",
                "    UNION ALL\r\n",
                "    SELECT Ability3\r\n",
                "    FROM PokemonGen3.dbo.PokemonGen3\r\n",
                "    WHERE Ability3 IS NOT NULL\r\n",
                "),\r\n",
                "TotalAbilityCounts AS (\r\n",
                "    SELECT Ability, COUNT(*) AS Count\r\n",
                "    FROM AbilityCounts\r\n",
                "    GROUP BY Ability\r\n",
                "),\r\n",
                "MostCommonAbility AS (\r\n",
                "    SELECT TOP 1 Ability, Count, 'Most Common' AS Category\r\n",
                "    FROM TotalAbilityCounts\r\n",
                "    ORDER BY Count DESC\r\n",
                "),\r\n",
                "LeastCommonAbility AS (\r\n",
                "    SELECT TOP 1 Ability, Count, 'Least Common' AS Category\r\n",
                "    FROM TotalAbilityCounts\r\n",
                "    ORDER BY Count\r\n",
                ")\r\n",
                "SELECT * FROM MostCommonAbility\r\n",
                "UNION ALL\r\n",
                "SELECT * FROM LeastCommonAbility;\r\n",
                ""
            ],
            "metadata": {
                "azdata_cell_guid": "0d91c0e7-735a-4642-a803-872fcd3ad254",
                "language": "sql",
                "tags": []
            },
            "outputs": [
                {
                    "output_type": "display_data",
                    "data": {
                        "text/html": "(2 rows affected)"
                    },
                    "metadata": {}
                },
                {
                    "output_type": "display_data",
                    "data": {
                        "text/html": "Total execution time: 00:00:00.013"
                    },
                    "metadata": {}
                },
                {
                    "output_type": "execute_result",
                    "metadata": {},
                    "execution_count": 55,
                    "data": {
                        "application/vnd.dataresource+json": {
                            "schema": {
                                "fields": [
                                    {
                                        "name": "Ability"
                                    },
                                    {
                                        "name": "Count"
                                    },
                                    {
                                        "name": "Category"
                                    }
                                ]
                            },
                            "data": [
                                {
                                    "Ability": "Swift Swim",
                                    "Count": "27",
                                    "Category": "Most Common"
                                },
                                {
                                    "Ability": "Air Lock",
                                    "Count": "1",
                                    "Category": "Least Common"
                                }
                            ]
                        },
                        "text/html": [
                            "<table>",
                            "<tr><th>Ability</th><th>Count</th><th>Category</th></tr>",
                            "<tr><td>Swift Swim</td><td>27</td><td>Most Common</td></tr>",
                            "<tr><td>Air Lock</td><td>1</td><td>Least Common</td></tr>",
                            "</table>"
                        ]
                    }
                }
            ],
            "execution_count": 55
        },
        {
            "cell_type": "markdown",
            "source": [
                "\\-------------------------------------\n",
                "\n",
                "**Medium Queries**\n",
                "\n",
                "<span style=\"color: #800000;font-weight: bold;\">-------------------------------------</span>"
            ],
            "metadata": {
                "azdata_cell_guid": "feef491d-af48-4817-ac97-92bf19f1daba"
            },
            "attachments": {}
        },
        {
            "cell_type": "markdown",
            "source": [
                "## Medium Query: 1\r\n",
                "Implement a query to identify common location entries between the Human Resources and Sales departments in the Northwinds2022TSQLV7 database. The goal is to determine which cities are shared between employees and customers, indicating regions of overlapping corporate interest.\r\n",
                "\r\n",
                "### Requirements:\r\n",
                "\r\n",
                "#### Shared Location Identification:\r\n",
                "- Use the INTERSECT operator to find distinct common locations between employees and customers.\r\n",
                "- Ensure that the resulting list contains only unique entries with no duplicates.\r\n",
                "\r\n",
                "#### Advanced Intersection Analysis (Optional):\r\n",
                "- Use an advanced version of the INTERSECT operator to count occurrences of shared locations between employees and customers.\r\n",
                "- Implement the ROW_NUMBER() function to enumerate shared entries within each location group.\r\n",
                "\r\n",
                "#### Location Details:\r\n",
                "- Retrieve the country, region, and city for each shared entry.\r\n",
                "\r\n",
                "### Tables:\r\n",
                "- `HR.Employees`\r\n",
                "- `Sales.Customers`\r\n",
                "\r\n",
                "### Columns:\r\n",
                "- `country`\r\n",
                "- `region`\r\n",
                "- `city`\r\n",
                "\r\n",
                "### Predicate:\r\n",
                "- The INTERSECT operator ensures that only entries present in both the `HR.Employees` and `Sales.Customers` tables are included in the result set.\r\n",
                "- The advanced INTERSECT uses `ROW_NUMBER()` to provide a unique sequence number for each occurrence of shared locations, partitioned by country, region, and city.\r\n",
                "\r\n",
                "### Sorting:\r\n",
                "- The basic INTERSECT query does not require an explicit ORDER BY clause as it produces a distinct set.\r\n",
                "- The advanced INTERSECT is ordered within the `ROW_NUMBER()` function but does not influence the final output order."
            ],
            "metadata": {
                "azdata_cell_guid": "a4739f79-15b2-4beb-827d-fccd41a558d8"
            },
            "attachments": {}
        },
        {
            "cell_type": "code",
            "source": [
                "USE Northwinds2022TSQLV7\r\n",
                "SELECT EmployeeCountry AS country, EmployeeRegion AS region, EmployeeCity AS city \r\n",
                "FROM HumanResources.Employee\r\n",
                "INTERSECT\r\n",
                "SELECT CustomerCountry AS country, CustomerRegion AS region, CustomerCity AS city \r\n",
                "FROM Sales.Customer;\r\n",
                "\r\n",
                "SELECT\r\n",
                "  ROW_NUMBER() OVER(PARTITION BY country, region, city ORDER BY (SELECT NULL)) AS rownum,\r\n",
                "  country, region, city\r\n",
                "FROM\r\n",
                "  (SELECT EmployeeCountry AS country, EmployeeRegion AS region, EmployeeCity AS city \r\n",
                "   FROM HumanResources.Employee) AS Employees\r\n",
                "\r\n",
                "INTERSECT\r\n",
                "\r\n",
                "SELECT\r\n",
                "  ROW_NUMBER() OVER(PARTITION BY country, region, city ORDER BY (SELECT NULL)),\r\n",
                "  country, region, city\r\n",
                "FROM\r\n",
                "  (SELECT CustomerCountry AS country, CustomerRegion AS region, CustomerCity AS city \r\n",
                "   FROM Sales.Customer) AS Customers;"
            ],
            "metadata": {
                "azdata_cell_guid": "d98ca709-bdd1-43d4-90b6-4903a45aa423",
                "language": "sql"
            },
            "outputs": [
                {
                    "output_type": "display_data",
                    "data": {
                        "text/html": "(3 rows affected)"
                    },
                    "metadata": {}
                },
                {
                    "output_type": "display_data",
                    "data": {
                        "text/html": "(6 rows affected)"
                    },
                    "metadata": {}
                },
                {
                    "output_type": "display_data",
                    "data": {
                        "text/html": "Total execution time: 00:00:00.016"
                    },
                    "metadata": {}
                },
                {
                    "output_type": "execute_result",
                    "metadata": {},
                    "execution_count": 54,
                    "data": {
                        "application/vnd.dataresource+json": {
                            "schema": {
                                "fields": [
                                    {
                                        "name": "country"
                                    },
                                    {
                                        "name": "region"
                                    },
                                    {
                                        "name": "city"
                                    }
                                ]
                            },
                            "data": [
                                {
                                    "country": "UK",
                                    "region": "NULL",
                                    "city": "London"
                                },
                                {
                                    "country": "USA",
                                    "region": "WA",
                                    "city": "Kirkland"
                                },
                                {
                                    "country": "USA",
                                    "region": "WA",
                                    "city": "Seattle"
                                }
                            ]
                        },
                        "text/html": [
                            "<table>",
                            "<tr><th>country</th><th>region</th><th>city</th></tr>",
                            "<tr><td>UK</td><td>NULL</td><td>London</td></tr>",
                            "<tr><td>USA</td><td>WA</td><td>Kirkland</td></tr>",
                            "<tr><td>USA</td><td>WA</td><td>Seattle</td></tr>",
                            "</table>"
                        ]
                    }
                },
                {
                    "output_type": "execute_result",
                    "metadata": {},
                    "execution_count": 54,
                    "data": {
                        "application/vnd.dataresource+json": {
                            "schema": {
                                "fields": [
                                    {
                                        "name": "rownum"
                                    },
                                    {
                                        "name": "country"
                                    },
                                    {
                                        "name": "region"
                                    },
                                    {
                                        "name": "city"
                                    }
                                ]
                            },
                            "data": [
                                {
                                    "rownum": "1",
                                    "country": "UK",
                                    "region": "NULL",
                                    "city": "London"
                                },
                                {
                                    "rownum": "1",
                                    "country": "USA",
                                    "region": "WA",
                                    "city": "Kirkland"
                                },
                                {
                                    "rownum": "1",
                                    "country": "USA",
                                    "region": "WA",
                                    "city": "Seattle"
                                },
                                {
                                    "rownum": "2",
                                    "country": "UK",
                                    "region": "NULL",
                                    "city": "London"
                                },
                                {
                                    "rownum": "3",
                                    "country": "UK",
                                    "region": "NULL",
                                    "city": "London"
                                },
                                {
                                    "rownum": "4",
                                    "country": "UK",
                                    "region": "NULL",
                                    "city": "London"
                                }
                            ]
                        },
                        "text/html": [
                            "<table>",
                            "<tr><th>rownum</th><th>country</th><th>region</th><th>city</th></tr>",
                            "<tr><td>1</td><td>UK</td><td>NULL</td><td>London</td></tr>",
                            "<tr><td>1</td><td>USA</td><td>WA</td><td>Kirkland</td></tr>",
                            "<tr><td>1</td><td>USA</td><td>WA</td><td>Seattle</td></tr>",
                            "<tr><td>2</td><td>UK</td><td>NULL</td><td>London</td></tr>",
                            "<tr><td>3</td><td>UK</td><td>NULL</td><td>London</td></tr>",
                            "<tr><td>4</td><td>UK</td><td>NULL</td><td>London</td></tr>",
                            "</table>"
                        ]
                    }
                }
            ],
            "execution_count": 54
        },
        {
            "cell_type": "markdown",
            "source": [
                "## Medium Query: 2\r\n",
                "\r\n",
                "### Proposition:\r\n",
                "Create a comprehensive list of locations from the Northwinds2022TSQLV7 database by combining location information from both the Human Resources and Sales modules. The list should include all locations where either an employee or a customer is based, without any omissions. Additionally, create a distinct list of locations that excludes duplicates.\r\n",
                "\r\n",
                "### Requirements:\r\n",
                "\r\n",
                "#### All-Inclusive Location List:\r\n",
                "- Combine location data from both employees and customers into a single list.\r\n",
                "- Include all entries, even duplicates, for completeness.\r\n",
                "\r\n",
                "#### Distinct Location List:\r\n",
                "- Generate a unique set of locations by removing duplicates.\r\n",
                "- Ensure each location appears only once in this distinct list.\r\n",
                "\r\n",
                "#### Location Details:\r\n",
                "- Retrieve country, region, and city for each entry in the lists.\r\n",
                "\r\n",
                "### Tables:\r\n",
                "- `[HumanResources].[Employee]`\r\n",
                "- `[Sales].[Customer]`\r\n",
                "\r\n",
                "### Columns:\r\n",
                "- From `[HumanResources].[Employee]`: EmployeeCountry, EmployeeRegion, EmployeeCity\r\n",
                "- From `[Sales].[Customer]`: CustomerCountry, CustomerRegion, CustomerCity\r\n",
                "\r\n",
                "### Predicate:\r\n",
                "- Use `UNION ALL` to compile all location entries, including duplicates.\r\n",
                "- Use `UNION` to filter out duplicates, creating a distinct list of locations.\r\n",
                "\r\n",
                "### Sorting:\r\n",
                "- The distinct list will be sorted by country, region, and city to organize unique entries.\r\n",
                "\r\n",
                "### Context:\r\n",
                "This combined location data is vital for businesses needing a complete view of their geographic presence for market analysis, distribution planning, and demographic research. The all-inclusive list provides a full count of location-based entries, while the distinct list offers a clear picture of the company's spread without repeated locations.\r\n",
                ""
            ],
            "metadata": {
                "azdata_cell_guid": "60f8fb1c-0636-445a-b1b1-1a035201c95f"
            },
            "attachments": {}
        },
        {
            "cell_type": "code",
            "source": [
                "USE Northwinds2022TSQLV7;\r\n",
                "\r\n",
                "SELECT EmployeeCountry AS country, EmployeeRegion AS region, EmployeeCity AS city \r\n",
                "FROM HumanResources.Employee\r\n",
                "UNION ALL\r\n",
                "SELECT CustomerCountry AS country, CustomerRegion AS region, CustomerCity AS city \r\n",
                "FROM Sales.Customer;\r\n",
                "\r\n",
                "-- Combined location data from Employees and Customers using UNION in Northwinds2022TSQLV7\r\n",
                "USE Northwinds2022TSQLV7;\r\n",
                "\r\n",
                "SELECT EmployeeCountry AS country, EmployeeRegion AS region, EmployeeCity AS city \r\n",
                "FROM HumanResources.Employee\r\n",
                "UNION\r\n",
                "SELECT CustomerCountry AS country, CustomerRegion AS region, CustomerCity AS city \r\n",
                "FROM Sales.Customer;"
            ],
            "metadata": {
                "azdata_cell_guid": "9ee1195a-6e11-4780-86d4-7ab6625b33aa",
                "language": "sql"
            },
            "outputs": [
                {
                    "output_type": "display_data",
                    "data": {
                        "text/html": "(100 rows affected)"
                    },
                    "metadata": {}
                },
                {
                    "output_type": "display_data",
                    "data": {
                        "text/html": "(71 rows affected)"
                    },
                    "metadata": {}
                },
                {
                    "output_type": "display_data",
                    "data": {
                        "text/html": "Total execution time: 00:00:00.120"
                    },
                    "metadata": {}
                },
                {
                    "output_type": "execute_result",
                    "metadata": {},
                    "execution_count": 53,
                    "data": {
                        "application/vnd.dataresource+json": {
                            "schema": {
                                "fields": [
                                    {
                                        "name": "country"
                                    },
                                    {
                                        "name": "region"
                                    },
                                    {
                                        "name": "city"
                                    }
                                ]
                            },
                            "data": [
                                {
                                    "country": "USA",
                                    "region": "WA",
                                    "city": "Seattle"
                                },
                                {
                                    "country": "USA",
                                    "region": "WA",
                                    "city": "Tacoma"
                                },
                                {
                                    "country": "USA",
                                    "region": "WA",
                                    "city": "Kirkland"
                                },
                                {
                                    "country": "USA",
                                    "region": "WA",
                                    "city": "Redmond"
                                },
                                {
                                    "country": "UK",
                                    "region": "NULL",
                                    "city": "London"
                                },
                                {
                                    "country": "UK",
                                    "region": "NULL",
                                    "city": "London"
                                },
                                {
                                    "country": "UK",
                                    "region": "NULL",
                                    "city": "London"
                                },
                                {
                                    "country": "USA",
                                    "region": "WA",
                                    "city": "Seattle"
                                },
                                {
                                    "country": "UK",
                                    "region": "NULL",
                                    "city": "London"
                                },
                                {
                                    "country": "Germany",
                                    "region": "NULL",
                                    "city": "Berlin"
                                },
                                {
                                    "country": "Mexico",
                                    "region": "NULL",
                                    "city": "México D.F."
                                },
                                {
                                    "country": "Mexico",
                                    "region": "NULL",
                                    "city": "México D.F."
                                },
                                {
                                    "country": "UK",
                                    "region": "NULL",
                                    "city": "London"
                                },
                                {
                                    "country": "Sweden",
                                    "region": "NULL",
                                    "city": "Luleå"
                                },
                                {
                                    "country": "Germany",
                                    "region": "NULL",
                                    "city": "Mannheim"
                                },
                                {
                                    "country": "France",
                                    "region": "NULL",
                                    "city": "Strasbourg"
                                },
                                {
                                    "country": "Spain",
                                    "region": "NULL",
                                    "city": "Madrid"
                                },
                                {
                                    "country": "France",
                                    "region": "NULL",
                                    "city": "Marseille"
                                },
                                {
                                    "country": "Canada",
                                    "region": "BC",
                                    "city": "Tsawassen"
                                },
                                {
                                    "country": "UK",
                                    "region": "NULL",
                                    "city": "London"
                                },
                                {
                                    "country": "Argentina",
                                    "region": "NULL",
                                    "city": "Buenos Aires"
                                },
                                {
                                    "country": "Mexico",
                                    "region": "NULL",
                                    "city": "México D.F."
                                },
                                {
                                    "country": "Switzerland",
                                    "region": "NULL",
                                    "city": "Bern"
                                },
                                {
                                    "country": "Brazil",
                                    "region": "SP",
                                    "city": "Sao Paulo"
                                },
                                {
                                    "country": "UK",
                                    "region": "NULL",
                                    "city": "London"
                                },
                                {
                                    "country": "Germany",
                                    "region": "NULL",
                                    "city": "Aachen"
                                },
                                {
                                    "country": "France",
                                    "region": "NULL",
                                    "city": "Nantes"
                                },
                                {
                                    "country": "UK",
                                    "region": "NULL",
                                    "city": "London"
                                },
                                {
                                    "country": "Austria",
                                    "region": "NULL",
                                    "city": "Graz"
                                },
                                {
                                    "country": "Brazil",
                                    "region": "SP",
                                    "city": "Sao Paulo"
                                },
                                {
                                    "country": "Spain",
                                    "region": "NULL",
                                    "city": "Madrid"
                                },
                                {
                                    "country": "France",
                                    "region": "NULL",
                                    "city": "Lille"
                                },
                                {
                                    "country": "Sweden",
                                    "region": "NULL",
                                    "city": "Bräcke"
                                },
                                {
                                    "country": "Germany",
                                    "region": "NULL",
                                    "city": "München"
                                },
                                {
                                    "country": "France",
                                    "region": "NULL",
                                    "city": "Nantes"
                                },
                                {
                                    "country": "Italy",
                                    "region": "NULL",
                                    "city": "Torino"
                                },
                                {
                                    "country": "Portugal",
                                    "region": "NULL",
                                    "city": "Lisboa"
                                },
                                {
                                    "country": "Spain",
                                    "region": "NULL",
                                    "city": "Barcelona"
                                },
                                {
                                    "country": "Spain",
                                    "region": "NULL",
                                    "city": "Sevilla"
                                },
                                {
                                    "country": "Brazil",
                                    "region": "SP",
                                    "city": "Campinas"
                                },
                                {
                                    "country": "USA",
                                    "region": "OR",
                                    "city": "Eugene"
                                },
                                {
                                    "country": "Venezuela",
                                    "region": "DF",
                                    "city": "Caracas"
                                },
                                {
                                    "country": "Brazil",
                                    "region": "RJ",
                                    "city": "Rio de Janeiro"
                                },
                                {
                                    "country": "Venezuela",
                                    "region": "Táchira",
                                    "city": "San Cristóbal"
                                },
                                {
                                    "country": "USA",
                                    "region": "OR",
                                    "city": "Elgin"
                                },
                                {
                                    "country": "Ireland",
                                    "region": "Co. Cork",
                                    "city": "Cork"
                                },
                                {
                                    "country": "UK",
                                    "region": "Isle of Wight",
                                    "city": "Cowes"
                                },
                                {
                                    "country": "Germany",
                                    "region": "NULL",
                                    "city": "Brandenburg"
                                },
                                {
                                    "country": "France",
                                    "region": "NULL",
                                    "city": "Versailles"
                                },
                                {
                                    "country": "France",
                                    "region": "NULL",
                                    "city": "Toulouse"
                                },
                                {
                                    "country": "Canada",
                                    "region": "BC",
                                    "city": "Vancouver"
                                },
                                {
                                    "country": "USA",
                                    "region": "WA",
                                    "city": "Walla Walla"
                                },
                                {
                                    "country": "Germany",
                                    "region": "NULL",
                                    "city": "Frankfurt a.M."
                                },
                                {
                                    "country": "USA",
                                    "region": "CA",
                                    "city": "San Francisco"
                                },
                                {
                                    "country": "Venezuela",
                                    "region": "Lara",
                                    "city": "Barquisimeto"
                                },
                                {
                                    "country": "Venezuela",
                                    "region": "Nueva Esparta",
                                    "city": "I. de Margarita"
                                },
                                {
                                    "country": "USA",
                                    "region": "OR",
                                    "city": "Portland"
                                },
                                {
                                    "country": "Italy",
                                    "region": "NULL",
                                    "city": "Bergamo"
                                },
                                {
                                    "country": "Belgium",
                                    "region": "NULL",
                                    "city": "Bruxelles"
                                },
                                {
                                    "country": "Canada",
                                    "region": "Québec",
                                    "city": "Montréal"
                                },
                                {
                                    "country": "Germany",
                                    "region": "NULL",
                                    "city": "Leipzig"
                                },
                                {
                                    "country": "UK",
                                    "region": "NULL",
                                    "city": "London"
                                },
                                {
                                    "country": "Argentina",
                                    "region": "NULL",
                                    "city": "Buenos Aires"
                                },
                                {
                                    "country": "USA",
                                    "region": "AK",
                                    "city": "Anchorage"
                                },
                                {
                                    "country": "Germany",
                                    "region": "NULL",
                                    "city": "Köln"
                                },
                                {
                                    "country": "France",
                                    "region": "NULL",
                                    "city": "Paris"
                                },
                                {
                                    "country": "Mexico",
                                    "region": "NULL",
                                    "city": "México D.F."
                                },
                                {
                                    "country": "Austria",
                                    "region": "NULL",
                                    "city": "Salzburg"
                                },
                                {
                                    "country": "Portugal",
                                    "region": "NULL",
                                    "city": "Lisboa"
                                },
                                {
                                    "country": "Brazil",
                                    "region": "RJ",
                                    "city": "Rio de Janeiro"
                                },
                                {
                                    "country": "Brazil",
                                    "region": "SP",
                                    "city": "Sao Paulo"
                                },
                                {
                                    "country": "Germany",
                                    "region": "NULL",
                                    "city": "Cunewalde"
                                },
                                {
                                    "country": "Argentina",
                                    "region": "NULL",
                                    "city": "Buenos Aires"
                                },
                                {
                                    "country": "USA",
                                    "region": "NM",
                                    "city": "Albuquerque"
                                },
                                {
                                    "country": "Italy",
                                    "region": "NULL",
                                    "city": "Reggio Emilia"
                                },
                                {
                                    "country": "Brazil",
                                    "region": "RJ",
                                    "city": "Rio de Janeiro"
                                },
                                {
                                    "country": "Switzerland",
                                    "region": "NULL",
                                    "city": "Genève"
                                },
                                {
                                    "country": "Spain",
                                    "region": "NULL",
                                    "city": "Madrid"
                                },
                                {
                                    "country": "Norway",
                                    "region": "NULL",
                                    "city": "Stavern"
                                },
                                {
                                    "country": "USA",
                                    "region": "ID",
                                    "city": "Boise"
                                },
                                {
                                    "country": "UK",
                                    "region": "NULL",
                                    "city": "London"
                                },
                                {
                                    "country": "Denmark",
                                    "region": "NULL",
                                    "city": "Kobenhavn"
                                },
                                {
                                    "country": "France",
                                    "region": "NULL",
                                    "city": "Paris"
                                },
                                {
                                    "country": "USA",
                                    "region": "WY",
                                    "city": "Lander"
                                },
                                {
                                    "country": "Belgium",
                                    "region": "NULL",
                                    "city": "Charleroi"
                                },
                                {
                                    "country": "USA",
                                    "region": "OR",
                                    "city": "Portland"
                                },
                                {
                                    "country": "USA",
                                    "region": "MT",
                                    "city": "Butte"
                                },
                                {
                                    "country": "Germany",
                                    "region": "NULL",
                                    "city": "Münster"
                                },
                                {
                                    "country": "Mexico",
                                    "region": "NULL",
                                    "city": "México D.F."
                                },
                                {
                                    "country": "Brazil",
                                    "region": "SP",
                                    "city": "Sao Paulo"
                                },
                                {
                                    "country": "USA",
                                    "region": "WA",
                                    "city": "Kirkland"
                                },
                                {
                                    "country": "Denmark",
                                    "region": "NULL",
                                    "city": "Århus"
                                },
                                {
                                    "country": "France",
                                    "region": "NULL",
                                    "city": "Lyon"
                                },
                                {
                                    "country": "France",
                                    "region": "NULL",
                                    "city": "Reims"
                                },
                                {
                                    "country": "Germany",
                                    "region": "NULL",
                                    "city": "Stuttgart"
                                },
                                {
                                    "country": "Finland",
                                    "region": "NULL",
                                    "city": "Oulu"
                                },
                                {
                                    "country": "Brazil",
                                    "region": "SP",
                                    "city": "Resende"
                                },
                                {
                                    "country": "USA",
                                    "region": "WA",
                                    "city": "Seattle"
                                },
                                {
                                    "country": "Finland",
                                    "region": "NULL",
                                    "city": "Helsinki"
                                },
                                {
                                    "country": "Poland",
                                    "region": "NULL",
                                    "city": "Warszawa"
                                }
                            ]
                        },
                        "text/html": [
                            "<table>",
                            "<tr><th>country</th><th>region</th><th>city</th></tr>",
                            "<tr><td>USA</td><td>WA</td><td>Seattle</td></tr>",
                            "<tr><td>USA</td><td>WA</td><td>Tacoma</td></tr>",
                            "<tr><td>USA</td><td>WA</td><td>Kirkland</td></tr>",
                            "<tr><td>USA</td><td>WA</td><td>Redmond</td></tr>",
                            "<tr><td>UK</td><td>NULL</td><td>London</td></tr>",
                            "<tr><td>UK</td><td>NULL</td><td>London</td></tr>",
                            "<tr><td>UK</td><td>NULL</td><td>London</td></tr>",
                            "<tr><td>USA</td><td>WA</td><td>Seattle</td></tr>",
                            "<tr><td>UK</td><td>NULL</td><td>London</td></tr>",
                            "<tr><td>Germany</td><td>NULL</td><td>Berlin</td></tr>",
                            "<tr><td>Mexico</td><td>NULL</td><td>México D.F.</td></tr>",
                            "<tr><td>Mexico</td><td>NULL</td><td>México D.F.</td></tr>",
                            "<tr><td>UK</td><td>NULL</td><td>London</td></tr>",
                            "<tr><td>Sweden</td><td>NULL</td><td>Luleå</td></tr>",
                            "<tr><td>Germany</td><td>NULL</td><td>Mannheim</td></tr>",
                            "<tr><td>France</td><td>NULL</td><td>Strasbourg</td></tr>",
                            "<tr><td>Spain</td><td>NULL</td><td>Madrid</td></tr>",
                            "<tr><td>France</td><td>NULL</td><td>Marseille</td></tr>",
                            "<tr><td>Canada</td><td>BC</td><td>Tsawassen</td></tr>",
                            "<tr><td>UK</td><td>NULL</td><td>London</td></tr>",
                            "<tr><td>Argentina</td><td>NULL</td><td>Buenos Aires</td></tr>",
                            "<tr><td>Mexico</td><td>NULL</td><td>México D.F.</td></tr>",
                            "<tr><td>Switzerland</td><td>NULL</td><td>Bern</td></tr>",
                            "<tr><td>Brazil</td><td>SP</td><td>Sao Paulo</td></tr>",
                            "<tr><td>UK</td><td>NULL</td><td>London</td></tr>",
                            "<tr><td>Germany</td><td>NULL</td><td>Aachen</td></tr>",
                            "<tr><td>France</td><td>NULL</td><td>Nantes</td></tr>",
                            "<tr><td>UK</td><td>NULL</td><td>London</td></tr>",
                            "<tr><td>Austria</td><td>NULL</td><td>Graz</td></tr>",
                            "<tr><td>Brazil</td><td>SP</td><td>Sao Paulo</td></tr>",
                            "<tr><td>Spain</td><td>NULL</td><td>Madrid</td></tr>",
                            "<tr><td>France</td><td>NULL</td><td>Lille</td></tr>",
                            "<tr><td>Sweden</td><td>NULL</td><td>Bräcke</td></tr>",
                            "<tr><td>Germany</td><td>NULL</td><td>München</td></tr>",
                            "<tr><td>France</td><td>NULL</td><td>Nantes</td></tr>",
                            "<tr><td>Italy</td><td>NULL</td><td>Torino</td></tr>",
                            "<tr><td>Portugal</td><td>NULL</td><td>Lisboa</td></tr>",
                            "<tr><td>Spain</td><td>NULL</td><td>Barcelona</td></tr>",
                            "<tr><td>Spain</td><td>NULL</td><td>Sevilla</td></tr>",
                            "<tr><td>Brazil</td><td>SP</td><td>Campinas</td></tr>",
                            "<tr><td>USA</td><td>OR</td><td>Eugene</td></tr>",
                            "<tr><td>Venezuela</td><td>DF</td><td>Caracas</td></tr>",
                            "<tr><td>Brazil</td><td>RJ</td><td>Rio de Janeiro</td></tr>",
                            "<tr><td>Venezuela</td><td>Táchira</td><td>San Cristóbal</td></tr>",
                            "<tr><td>USA</td><td>OR</td><td>Elgin</td></tr>",
                            "<tr><td>Ireland</td><td>Co. Cork</td><td>Cork</td></tr>",
                            "<tr><td>UK</td><td>Isle of Wight</td><td>Cowes</td></tr>",
                            "<tr><td>Germany</td><td>NULL</td><td>Brandenburg</td></tr>",
                            "<tr><td>France</td><td>NULL</td><td>Versailles</td></tr>",
                            "<tr><td>France</td><td>NULL</td><td>Toulouse</td></tr>",
                            "<tr><td>Canada</td><td>BC</td><td>Vancouver</td></tr>",
                            "<tr><td>USA</td><td>WA</td><td>Walla Walla</td></tr>",
                            "<tr><td>Germany</td><td>NULL</td><td>Frankfurt a.M.</td></tr>",
                            "<tr><td>USA</td><td>CA</td><td>San Francisco</td></tr>",
                            "<tr><td>Venezuela</td><td>Lara</td><td>Barquisimeto</td></tr>",
                            "<tr><td>Venezuela</td><td>Nueva Esparta</td><td>I. de Margarita</td></tr>",
                            "<tr><td>USA</td><td>OR</td><td>Portland</td></tr>",
                            "<tr><td>Italy</td><td>NULL</td><td>Bergamo</td></tr>",
                            "<tr><td>Belgium</td><td>NULL</td><td>Bruxelles</td></tr>",
                            "<tr><td>Canada</td><td>Québec</td><td>Montréal</td></tr>",
                            "<tr><td>Germany</td><td>NULL</td><td>Leipzig</td></tr>",
                            "<tr><td>UK</td><td>NULL</td><td>London</td></tr>",
                            "<tr><td>Argentina</td><td>NULL</td><td>Buenos Aires</td></tr>",
                            "<tr><td>USA</td><td>AK</td><td>Anchorage</td></tr>",
                            "<tr><td>Germany</td><td>NULL</td><td>Köln</td></tr>",
                            "<tr><td>France</td><td>NULL</td><td>Paris</td></tr>",
                            "<tr><td>Mexico</td><td>NULL</td><td>México D.F.</td></tr>",
                            "<tr><td>Austria</td><td>NULL</td><td>Salzburg</td></tr>",
                            "<tr><td>Portugal</td><td>NULL</td><td>Lisboa</td></tr>",
                            "<tr><td>Brazil</td><td>RJ</td><td>Rio de Janeiro</td></tr>",
                            "<tr><td>Brazil</td><td>SP</td><td>Sao Paulo</td></tr>",
                            "<tr><td>Germany</td><td>NULL</td><td>Cunewalde</td></tr>",
                            "<tr><td>Argentina</td><td>NULL</td><td>Buenos Aires</td></tr>",
                            "<tr><td>USA</td><td>NM</td><td>Albuquerque</td></tr>",
                            "<tr><td>Italy</td><td>NULL</td><td>Reggio Emilia</td></tr>",
                            "<tr><td>Brazil</td><td>RJ</td><td>Rio de Janeiro</td></tr>",
                            "<tr><td>Switzerland</td><td>NULL</td><td>Genève</td></tr>",
                            "<tr><td>Spain</td><td>NULL</td><td>Madrid</td></tr>",
                            "<tr><td>Norway</td><td>NULL</td><td>Stavern</td></tr>",
                            "<tr><td>USA</td><td>ID</td><td>Boise</td></tr>",
                            "<tr><td>UK</td><td>NULL</td><td>London</td></tr>",
                            "<tr><td>Denmark</td><td>NULL</td><td>Kobenhavn</td></tr>",
                            "<tr><td>France</td><td>NULL</td><td>Paris</td></tr>",
                            "<tr><td>USA</td><td>WY</td><td>Lander</td></tr>",
                            "<tr><td>Belgium</td><td>NULL</td><td>Charleroi</td></tr>",
                            "<tr><td>USA</td><td>OR</td><td>Portland</td></tr>",
                            "<tr><td>USA</td><td>MT</td><td>Butte</td></tr>",
                            "<tr><td>Germany</td><td>NULL</td><td>Münster</td></tr>",
                            "<tr><td>Mexico</td><td>NULL</td><td>México D.F.</td></tr>",
                            "<tr><td>Brazil</td><td>SP</td><td>Sao Paulo</td></tr>",
                            "<tr><td>USA</td><td>WA</td><td>Kirkland</td></tr>",
                            "<tr><td>Denmark</td><td>NULL</td><td>Århus</td></tr>",
                            "<tr><td>France</td><td>NULL</td><td>Lyon</td></tr>",
                            "<tr><td>France</td><td>NULL</td><td>Reims</td></tr>",
                            "<tr><td>Germany</td><td>NULL</td><td>Stuttgart</td></tr>",
                            "<tr><td>Finland</td><td>NULL</td><td>Oulu</td></tr>",
                            "<tr><td>Brazil</td><td>SP</td><td>Resende</td></tr>",
                            "<tr><td>USA</td><td>WA</td><td>Seattle</td></tr>",
                            "<tr><td>Finland</td><td>NULL</td><td>Helsinki</td></tr>",
                            "<tr><td>Poland</td><td>NULL</td><td>Warszawa</td></tr>",
                            "</table>"
                        ]
                    }
                },
                {
                    "output_type": "execute_result",
                    "metadata": {},
                    "execution_count": 53,
                    "data": {
                        "application/vnd.dataresource+json": {
                            "schema": {
                                "fields": [
                                    {
                                        "name": "country"
                                    },
                                    {
                                        "name": "region"
                                    },
                                    {
                                        "name": "city"
                                    }
                                ]
                            },
                            "data": [
                                {
                                    "country": "Argentina",
                                    "region": "NULL",
                                    "city": "Buenos Aires"
                                },
                                {
                                    "country": "Austria",
                                    "region": "NULL",
                                    "city": "Graz"
                                },
                                {
                                    "country": "Austria",
                                    "region": "NULL",
                                    "city": "Salzburg"
                                },
                                {
                                    "country": "Belgium",
                                    "region": "NULL",
                                    "city": "Bruxelles"
                                },
                                {
                                    "country": "Belgium",
                                    "region": "NULL",
                                    "city": "Charleroi"
                                },
                                {
                                    "country": "Brazil",
                                    "region": "RJ",
                                    "city": "Rio de Janeiro"
                                },
                                {
                                    "country": "Brazil",
                                    "region": "SP",
                                    "city": "Campinas"
                                },
                                {
                                    "country": "Brazil",
                                    "region": "SP",
                                    "city": "Resende"
                                },
                                {
                                    "country": "Brazil",
                                    "region": "SP",
                                    "city": "Sao Paulo"
                                },
                                {
                                    "country": "Canada",
                                    "region": "BC",
                                    "city": "Tsawassen"
                                },
                                {
                                    "country": "Canada",
                                    "region": "BC",
                                    "city": "Vancouver"
                                },
                                {
                                    "country": "Canada",
                                    "region": "Québec",
                                    "city": "Montréal"
                                },
                                {
                                    "country": "Denmark",
                                    "region": "NULL",
                                    "city": "Århus"
                                },
                                {
                                    "country": "Denmark",
                                    "region": "NULL",
                                    "city": "Kobenhavn"
                                },
                                {
                                    "country": "Finland",
                                    "region": "NULL",
                                    "city": "Helsinki"
                                },
                                {
                                    "country": "Finland",
                                    "region": "NULL",
                                    "city": "Oulu"
                                },
                                {
                                    "country": "France",
                                    "region": "NULL",
                                    "city": "Lille"
                                },
                                {
                                    "country": "France",
                                    "region": "NULL",
                                    "city": "Lyon"
                                },
                                {
                                    "country": "France",
                                    "region": "NULL",
                                    "city": "Marseille"
                                },
                                {
                                    "country": "France",
                                    "region": "NULL",
                                    "city": "Nantes"
                                },
                                {
                                    "country": "France",
                                    "region": "NULL",
                                    "city": "Paris"
                                },
                                {
                                    "country": "France",
                                    "region": "NULL",
                                    "city": "Reims"
                                },
                                {
                                    "country": "France",
                                    "region": "NULL",
                                    "city": "Strasbourg"
                                },
                                {
                                    "country": "France",
                                    "region": "NULL",
                                    "city": "Toulouse"
                                },
                                {
                                    "country": "France",
                                    "region": "NULL",
                                    "city": "Versailles"
                                },
                                {
                                    "country": "Germany",
                                    "region": "NULL",
                                    "city": "Aachen"
                                },
                                {
                                    "country": "Germany",
                                    "region": "NULL",
                                    "city": "Berlin"
                                },
                                {
                                    "country": "Germany",
                                    "region": "NULL",
                                    "city": "Brandenburg"
                                },
                                {
                                    "country": "Germany",
                                    "region": "NULL",
                                    "city": "Cunewalde"
                                },
                                {
                                    "country": "Germany",
                                    "region": "NULL",
                                    "city": "Frankfurt a.M."
                                },
                                {
                                    "country": "Germany",
                                    "region": "NULL",
                                    "city": "Köln"
                                },
                                {
                                    "country": "Germany",
                                    "region": "NULL",
                                    "city": "Leipzig"
                                },
                                {
                                    "country": "Germany",
                                    "region": "NULL",
                                    "city": "Mannheim"
                                },
                                {
                                    "country": "Germany",
                                    "region": "NULL",
                                    "city": "München"
                                },
                                {
                                    "country": "Germany",
                                    "region": "NULL",
                                    "city": "Münster"
                                },
                                {
                                    "country": "Germany",
                                    "region": "NULL",
                                    "city": "Stuttgart"
                                },
                                {
                                    "country": "Ireland",
                                    "region": "Co. Cork",
                                    "city": "Cork"
                                },
                                {
                                    "country": "Italy",
                                    "region": "NULL",
                                    "city": "Bergamo"
                                },
                                {
                                    "country": "Italy",
                                    "region": "NULL",
                                    "city": "Reggio Emilia"
                                },
                                {
                                    "country": "Italy",
                                    "region": "NULL",
                                    "city": "Torino"
                                },
                                {
                                    "country": "Mexico",
                                    "region": "NULL",
                                    "city": "México D.F."
                                },
                                {
                                    "country": "Norway",
                                    "region": "NULL",
                                    "city": "Stavern"
                                },
                                {
                                    "country": "Poland",
                                    "region": "NULL",
                                    "city": "Warszawa"
                                },
                                {
                                    "country": "Portugal",
                                    "region": "NULL",
                                    "city": "Lisboa"
                                },
                                {
                                    "country": "Spain",
                                    "region": "NULL",
                                    "city": "Barcelona"
                                },
                                {
                                    "country": "Spain",
                                    "region": "NULL",
                                    "city": "Madrid"
                                },
                                {
                                    "country": "Spain",
                                    "region": "NULL",
                                    "city": "Sevilla"
                                },
                                {
                                    "country": "Sweden",
                                    "region": "NULL",
                                    "city": "Bräcke"
                                },
                                {
                                    "country": "Sweden",
                                    "region": "NULL",
                                    "city": "Luleå"
                                },
                                {
                                    "country": "Switzerland",
                                    "region": "NULL",
                                    "city": "Bern"
                                },
                                {
                                    "country": "Switzerland",
                                    "region": "NULL",
                                    "city": "Genève"
                                },
                                {
                                    "country": "UK",
                                    "region": "NULL",
                                    "city": "London"
                                },
                                {
                                    "country": "UK",
                                    "region": "Isle of Wight",
                                    "city": "Cowes"
                                },
                                {
                                    "country": "USA",
                                    "region": "AK",
                                    "city": "Anchorage"
                                },
                                {
                                    "country": "USA",
                                    "region": "CA",
                                    "city": "San Francisco"
                                },
                                {
                                    "country": "USA",
                                    "region": "ID",
                                    "city": "Boise"
                                },
                                {
                                    "country": "USA",
                                    "region": "MT",
                                    "city": "Butte"
                                },
                                {
                                    "country": "USA",
                                    "region": "NM",
                                    "city": "Albuquerque"
                                },
                                {
                                    "country": "USA",
                                    "region": "OR",
                                    "city": "Elgin"
                                },
                                {
                                    "country": "USA",
                                    "region": "OR",
                                    "city": "Eugene"
                                },
                                {
                                    "country": "USA",
                                    "region": "OR",
                                    "city": "Portland"
                                },
                                {
                                    "country": "USA",
                                    "region": "WA",
                                    "city": "Kirkland"
                                },
                                {
                                    "country": "USA",
                                    "region": "WA",
                                    "city": "Redmond"
                                },
                                {
                                    "country": "USA",
                                    "region": "WA",
                                    "city": "Seattle"
                                },
                                {
                                    "country": "USA",
                                    "region": "WA",
                                    "city": "Tacoma"
                                },
                                {
                                    "country": "USA",
                                    "region": "WA",
                                    "city": "Walla Walla"
                                },
                                {
                                    "country": "USA",
                                    "region": "WY",
                                    "city": "Lander"
                                },
                                {
                                    "country": "Venezuela",
                                    "region": "DF",
                                    "city": "Caracas"
                                },
                                {
                                    "country": "Venezuela",
                                    "region": "Lara",
                                    "city": "Barquisimeto"
                                },
                                {
                                    "country": "Venezuela",
                                    "region": "Nueva Esparta",
                                    "city": "I. de Margarita"
                                },
                                {
                                    "country": "Venezuela",
                                    "region": "Táchira",
                                    "city": "San Cristóbal"
                                }
                            ]
                        },
                        "text/html": [
                            "<table>",
                            "<tr><th>country</th><th>region</th><th>city</th></tr>",
                            "<tr><td>Argentina</td><td>NULL</td><td>Buenos Aires</td></tr>",
                            "<tr><td>Austria</td><td>NULL</td><td>Graz</td></tr>",
                            "<tr><td>Austria</td><td>NULL</td><td>Salzburg</td></tr>",
                            "<tr><td>Belgium</td><td>NULL</td><td>Bruxelles</td></tr>",
                            "<tr><td>Belgium</td><td>NULL</td><td>Charleroi</td></tr>",
                            "<tr><td>Brazil</td><td>RJ</td><td>Rio de Janeiro</td></tr>",
                            "<tr><td>Brazil</td><td>SP</td><td>Campinas</td></tr>",
                            "<tr><td>Brazil</td><td>SP</td><td>Resende</td></tr>",
                            "<tr><td>Brazil</td><td>SP</td><td>Sao Paulo</td></tr>",
                            "<tr><td>Canada</td><td>BC</td><td>Tsawassen</td></tr>",
                            "<tr><td>Canada</td><td>BC</td><td>Vancouver</td></tr>",
                            "<tr><td>Canada</td><td>Québec</td><td>Montréal</td></tr>",
                            "<tr><td>Denmark</td><td>NULL</td><td>Århus</td></tr>",
                            "<tr><td>Denmark</td><td>NULL</td><td>Kobenhavn</td></tr>",
                            "<tr><td>Finland</td><td>NULL</td><td>Helsinki</td></tr>",
                            "<tr><td>Finland</td><td>NULL</td><td>Oulu</td></tr>",
                            "<tr><td>France</td><td>NULL</td><td>Lille</td></tr>",
                            "<tr><td>France</td><td>NULL</td><td>Lyon</td></tr>",
                            "<tr><td>France</td><td>NULL</td><td>Marseille</td></tr>",
                            "<tr><td>France</td><td>NULL</td><td>Nantes</td></tr>",
                            "<tr><td>France</td><td>NULL</td><td>Paris</td></tr>",
                            "<tr><td>France</td><td>NULL</td><td>Reims</td></tr>",
                            "<tr><td>France</td><td>NULL</td><td>Strasbourg</td></tr>",
                            "<tr><td>France</td><td>NULL</td><td>Toulouse</td></tr>",
                            "<tr><td>France</td><td>NULL</td><td>Versailles</td></tr>",
                            "<tr><td>Germany</td><td>NULL</td><td>Aachen</td></tr>",
                            "<tr><td>Germany</td><td>NULL</td><td>Berlin</td></tr>",
                            "<tr><td>Germany</td><td>NULL</td><td>Brandenburg</td></tr>",
                            "<tr><td>Germany</td><td>NULL</td><td>Cunewalde</td></tr>",
                            "<tr><td>Germany</td><td>NULL</td><td>Frankfurt a.M.</td></tr>",
                            "<tr><td>Germany</td><td>NULL</td><td>Köln</td></tr>",
                            "<tr><td>Germany</td><td>NULL</td><td>Leipzig</td></tr>",
                            "<tr><td>Germany</td><td>NULL</td><td>Mannheim</td></tr>",
                            "<tr><td>Germany</td><td>NULL</td><td>München</td></tr>",
                            "<tr><td>Germany</td><td>NULL</td><td>Münster</td></tr>",
                            "<tr><td>Germany</td><td>NULL</td><td>Stuttgart</td></tr>",
                            "<tr><td>Ireland</td><td>Co. Cork</td><td>Cork</td></tr>",
                            "<tr><td>Italy</td><td>NULL</td><td>Bergamo</td></tr>",
                            "<tr><td>Italy</td><td>NULL</td><td>Reggio Emilia</td></tr>",
                            "<tr><td>Italy</td><td>NULL</td><td>Torino</td></tr>",
                            "<tr><td>Mexico</td><td>NULL</td><td>México D.F.</td></tr>",
                            "<tr><td>Norway</td><td>NULL</td><td>Stavern</td></tr>",
                            "<tr><td>Poland</td><td>NULL</td><td>Warszawa</td></tr>",
                            "<tr><td>Portugal</td><td>NULL</td><td>Lisboa</td></tr>",
                            "<tr><td>Spain</td><td>NULL</td><td>Barcelona</td></tr>",
                            "<tr><td>Spain</td><td>NULL</td><td>Madrid</td></tr>",
                            "<tr><td>Spain</td><td>NULL</td><td>Sevilla</td></tr>",
                            "<tr><td>Sweden</td><td>NULL</td><td>Bräcke</td></tr>",
                            "<tr><td>Sweden</td><td>NULL</td><td>Luleå</td></tr>",
                            "<tr><td>Switzerland</td><td>NULL</td><td>Bern</td></tr>",
                            "<tr><td>Switzerland</td><td>NULL</td><td>Genève</td></tr>",
                            "<tr><td>UK</td><td>NULL</td><td>London</td></tr>",
                            "<tr><td>UK</td><td>Isle of Wight</td><td>Cowes</td></tr>",
                            "<tr><td>USA</td><td>AK</td><td>Anchorage</td></tr>",
                            "<tr><td>USA</td><td>CA</td><td>San Francisco</td></tr>",
                            "<tr><td>USA</td><td>ID</td><td>Boise</td></tr>",
                            "<tr><td>USA</td><td>MT</td><td>Butte</td></tr>",
                            "<tr><td>USA</td><td>NM</td><td>Albuquerque</td></tr>",
                            "<tr><td>USA</td><td>OR</td><td>Elgin</td></tr>",
                            "<tr><td>USA</td><td>OR</td><td>Eugene</td></tr>",
                            "<tr><td>USA</td><td>OR</td><td>Portland</td></tr>",
                            "<tr><td>USA</td><td>WA</td><td>Kirkland</td></tr>",
                            "<tr><td>USA</td><td>WA</td><td>Redmond</td></tr>",
                            "<tr><td>USA</td><td>WA</td><td>Seattle</td></tr>",
                            "<tr><td>USA</td><td>WA</td><td>Tacoma</td></tr>",
                            "<tr><td>USA</td><td>WA</td><td>Walla Walla</td></tr>",
                            "<tr><td>USA</td><td>WY</td><td>Lander</td></tr>",
                            "<tr><td>Venezuela</td><td>DF</td><td>Caracas</td></tr>",
                            "<tr><td>Venezuela</td><td>Lara</td><td>Barquisimeto</td></tr>",
                            "<tr><td>Venezuela</td><td>Nueva Esparta</td><td>I. de Margarita</td></tr>",
                            "<tr><td>Venezuela</td><td>Táchira</td><td>San Cristóbal</td></tr>",
                            "</table>"
                        ]
                    }
                }
            ],
            "execution_count": 53
        },
        {
            "cell_type": "markdown",
            "source": [
                "## Medium Query: 3\r\n",
                "\r\n",
                "### Proposition:\r\n",
                "Create and analyze a comprehensive and distinct list of locations from the Northwinds2022TSQLV7 database, combining location data from the Human Resources and Sales departments. This analysis is aimed at providing a complete geographic footprint of the company, useful for strategic planning and market analysis.\r\n",
                "\r\n",
                "### Requirements:\r\n",
                "\r\n",
                "#### All-Inclusive Location List:\r\n",
                "- Utilize `UNION ALL` to merge location data from both employees (Human Resources) and customers (Sales) into one inclusive list.\r\n",
                "- Ensure that every entry, including duplicates, is included to represent the full spectrum of the company’s geographic presence.\r\n",
                "\r\n",
                "#### Distinct Location List:\r\n",
                "- Generate a distinct list of locations using `UNION` to eliminate duplicates.\r\n",
                "- Present each unique location only once, providing a clearer perspective of the company's diverse presence.\r\n",
                "\r\n",
                "#### Location Details:\r\n",
                "- Extract and display details such as country, region, and city for each location.\r\n",
                "- Source location data from the specified columns in the `HumanResources.Employee` and `Sales.Customer` tables.\r\n",
                "\r\n",
                "### Tables:\r\n",
                "- `[HumanResources].[Employee]`\r\n",
                "- `[Sales].[Customer]`\r\n",
                "\r\n",
                "### Columns:\r\n",
                "- From `[HumanResources].[Employee]`: EmployeeCountry, EmployeeRegion, EmployeeCity\r\n",
                "- From `[Sales].[Customer]`: CustomerCountry, CustomerRegion, CustomerCity\r\n",
                "\r\n",
                "### Predicate:\r\n",
                "- The query will utilize `UNION ALL` for the all-inclusive list, and `UNION` for the distinct list.\r\n",
                "- These operations will merge and filter the data as required, ensuring comprehensive and unique sets of location data.\r\n",
                "\r\n",
                "### Sorting:\r\n",
                "- Organize the distinct list of locations by country, region, and city for systematic presentation.\r\n",
                ""
            ],
            "metadata": {
                "language": "sql",
                "azdata_cell_guid": "8b27524f-7468-46fb-a779-1b04c7f0dd54"
            },
            "attachments": {}
        },
        {
            "cell_type": "code",
            "source": [
                "USE Northwinds2022TSQLV7;\r\n",
                "\r\n",
                "WITH OverlapLocations AS (\r\n",
                "    SELECT \r\n",
                "        E.EmployeeCountry AS Country, \r\n",
                "        E.EmployeeRegion AS Region, \r\n",
                "        E.EmployeeCity AS City\r\n",
                "    FROM \r\n",
                "        HumanResources.Employee AS E\r\n",
                "    INTERSECT\r\n",
                "    SELECT \r\n",
                "        C.CustomerCountry AS Country, \r\n",
                "        C.CustomerRegion AS Region, \r\n",
                "        C.CustomerCity AS City\r\n",
                "    FROM \r\n",
                "        Sales.Customer AS C\r\n",
                ")\r\n",
                "\r\n",
                ", RankedOverlap AS (\r\n",
                "    SELECT \r\n",
                "        Country, \r\n",
                "        Region, \r\n",
                "        City,\r\n",
                "        RANK() OVER (ORDER BY COUNT(*) DESC) AS OverlapIntensityRank\r\n",
                "    FROM \r\n",
                "        OverlapLocations\r\n",
                "    GROUP BY \r\n",
                "        Country, \r\n",
                "        Region, \r\n",
                "        City\r\n",
                ")\r\n",
                "\r\n",
                "SELECT \r\n",
                "    Country, \r\n",
                "    Region, \r\n",
                "    City, \r\n",
                "    OverlapIntensityRank\r\n",
                "FROM \r\n",
                "    RankedOverlap;"
            ],
            "metadata": {
                "azdata_cell_guid": "a0469909-d04f-434a-aa53-75534eb13a1a",
                "language": "sql"
            },
            "outputs": [
                {
                    "output_type": "display_data",
                    "data": {
                        "text/html": "(3 rows affected)"
                    },
                    "metadata": {}
                },
                {
                    "output_type": "display_data",
                    "data": {
                        "text/html": "Total execution time: 00:00:00.004"
                    },
                    "metadata": {}
                },
                {
                    "output_type": "execute_result",
                    "metadata": {},
                    "execution_count": 52,
                    "data": {
                        "application/vnd.dataresource+json": {
                            "schema": {
                                "fields": [
                                    {
                                        "name": "Country"
                                    },
                                    {
                                        "name": "Region"
                                    },
                                    {
                                        "name": "City"
                                    },
                                    {
                                        "name": "OverlapIntensityRank"
                                    }
                                ]
                            },
                            "data": [
                                {
                                    "Country": "UK",
                                    "Region": "NULL",
                                    "City": "London",
                                    "OverlapIntensityRank": "1"
                                },
                                {
                                    "Country": "USA",
                                    "Region": "WA",
                                    "City": "Kirkland",
                                    "OverlapIntensityRank": "1"
                                },
                                {
                                    "Country": "USA",
                                    "Region": "WA",
                                    "City": "Seattle",
                                    "OverlapIntensityRank": "1"
                                }
                            ]
                        },
                        "text/html": [
                            "<table>",
                            "<tr><th>Country</th><th>Region</th><th>City</th><th>OverlapIntensityRank</th></tr>",
                            "<tr><td>UK</td><td>NULL</td><td>London</td><td>1</td></tr>",
                            "<tr><td>USA</td><td>WA</td><td>Kirkland</td><td>1</td></tr>",
                            "<tr><td>USA</td><td>WA</td><td>Seattle</td><td>1</td></tr>",
                            "</table>"
                        ]
                    }
                }
            ],
            "execution_count": 52
        },
        {
            "cell_type": "markdown",
            "source": [
                "## Medium Query: 4\r\n",
                "\r\n",
                "### Proposition:\r\n",
                "Create and analyze a comprehensive and distinct list of locations from the Northwinds2022TSQLV7 database, combining location data from the Human Resources and Sales departments. This analysis is aimed at providing a complete geographic footprint of the company, useful for strategic planning and market analysis.\r\n",
                "\r\n",
                "### Requirements:\r\n",
                "\r\n",
                "#### All-Inclusive Location List:\r\n",
                "- Utilize `UNION ALL` to merge location data from both employees (Human Resources) and customers (Sales) into one inclusive list.\r\n",
                "- Ensure that every entry, including duplicates, is included to represent the full spectrum of the company’s geographic presence.\r\n",
                "\r\n",
                "#### Distinct Location List:\r\n",
                "- Generate a distinct list of locations using `UNION` to eliminate duplicates.\r\n",
                "- Present each unique location only once, providing a clearer perspective of the company's diverse presence.\r\n",
                "\r\n",
                "#### Location Details:\r\n",
                "- Extract and display details such as country, region, and city for each location.\r\n",
                "- Source location data from the specified columns in the `HumanResources.Employee` and `Sales.Customer` tables.\r\n",
                "\r\n",
                "### Tables:\r\n",
                "- `[HumanResources].[Employee]`\r\n",
                "- `[Sales].[Customer]`\r\n",
                "\r\n",
                "### Columns:\r\n",
                "- From `[HumanResources].[Employee]`: EmployeeCountry, EmployeeRegion, EmployeeCity\r\n",
                "- From `[Sales].[Customer]`: CustomerCountry, CustomerRegion, CustomerCity\r\n",
                "\r\n",
                "### Predicate:\r\n",
                "- The query will utilize `UNION ALL` for the all-inclusive list, and `UNION` for the distinct list.\r\n",
                "- These operations will merge and filter the data as required, ensuring comprehensive and unique sets of location data.\r\n",
                ""
            ],
            "metadata": {
                "azdata_cell_guid": "cebf8931-c4dd-49e7-be11-426443a0c77c"
            },
            "attachments": {}
        },
        {
            "cell_type": "code",
            "source": [
                "SELECT \r\n",
                "    o.OrderId,\r\n",
                "    o.OrderDate,\r\n",
                "    COUNT(distinct od.ProductId) AS NumberOfProducts,\r\n",
                "    SUM(od.Quantity) AS TotalQuantity,\r\n",
                "    SUM(od.UnitPrice * od.Quantity) AS TotalValue\r\n",
                "FROM \r\n",
                "    Sales.[Order] AS o\r\n",
                "INNER JOIN \r\n",
                "    Sales.OrderDetail AS od \r\n",
                "ON \r\n",
                "    o.OrderId = od.OrderId\r\n",
                "INNER JOIN \r\n",
                "    Production.Product AS p \r\n",
                "ON \r\n",
                "    od.ProductId = p.ProductId\r\n",
                "GROUP BY \r\n",
                "    o.OrderId, \r\n",
                "    o.OrderDate\r\n",
                "ORDER BY \r\n",
                "    TotalValue DESC;\r\n",
                ""
            ],
            "metadata": {
                "azdata_cell_guid": "05382ece-c00c-44d5-966b-c2154194c36d",
                "language": "sql"
            },
            "outputs": [
                {
                    "output_type": "display_data",
                    "data": {
                        "text/html": "(830 rows affected)"
                    },
                    "metadata": {}
                },
                {
                    "output_type": "display_data",
                    "data": {
                        "text/html": "Total execution time: 00:00:00.116"
                    },
                    "metadata": {}
                },
                {
                    "output_type": "execute_result",
                    "metadata": {},
                    "execution_count": 51,
                    "data": {
                        "application/vnd.dataresource+json": {
                            "schema": {
                                "fields": [
                                    {
                                        "name": "OrderId"
                                    },
                                    {
                                        "name": "OrderDate"
                                    },
                                    {
                                        "name": "NumberOfProducts"
                                    },
                                    {
                                        "name": "TotalQuantity"
                                    },
                                    {
                                        "name": "TotalValue"
                                    }
                                ]
                            },
                            "data": [
                                {
                                    "OrderId": "10865",
                                    "OrderDate": "2016-02-02",
                                    "NumberOfProducts": "2",
                                    "TotalQuantity": "140",
                                    "TotalValue": "17250.00"
                                },
                                {
                                    "OrderId": "11030",
                                    "OrderDate": "2016-04-17",
                                    "NumberOfProducts": "4",
                                    "TotalQuantity": "330",
                                    "TotalValue": "16321.90"
                                },
                                {
                                    "OrderId": "10981",
                                    "OrderDate": "2016-03-27",
                                    "NumberOfProducts": "1",
                                    "TotalQuantity": "60",
                                    "TotalValue": "15810.00"
                                },
                                {
                                    "OrderId": "10372",
                                    "OrderDate": "2014-12-04",
                                    "NumberOfProducts": "4",
                                    "TotalQuantity": "164",
                                    "TotalValue": "12281.20"
                                },
                                {
                                    "OrderId": "10424",
                                    "OrderDate": "2015-01-23",
                                    "NumberOfProducts": "3",
                                    "TotalQuantity": "139",
                                    "TotalValue": "11493.20"
                                },
                                {
                                    "OrderId": "10817",
                                    "OrderDate": "2016-01-06",
                                    "NumberOfProducts": "4",
                                    "TotalQuantity": "155",
                                    "TotalValue": "11490.70"
                                },
                                {
                                    "OrderId": "10889",
                                    "OrderDate": "2016-02-16",
                                    "NumberOfProducts": "2",
                                    "TotalQuantity": "80",
                                    "TotalValue": "11380.00"
                                },
                                {
                                    "OrderId": "10417",
                                    "OrderDate": "2015-01-16",
                                    "NumberOfProducts": "4",
                                    "TotalQuantity": "123",
                                    "TotalValue": "11283.20"
                                },
                                {
                                    "OrderId": "10897",
                                    "OrderDate": "2016-02-19",
                                    "NumberOfProducts": "2",
                                    "TotalQuantity": "116",
                                    "TotalValue": "10835.24"
                                },
                                {
                                    "OrderId": "10353",
                                    "OrderDate": "2014-11-13",
                                    "NumberOfProducts": "2",
                                    "TotalQuantity": "62",
                                    "TotalValue": "10741.60"
                                },
                                {
                                    "OrderId": "10515",
                                    "OrderDate": "2015-04-23",
                                    "NumberOfProducts": "5",
                                    "TotalQuantity": "286",
                                    "TotalValue": "10588.50"
                                },
                                {
                                    "OrderId": "10479",
                                    "OrderDate": "2015-03-19",
                                    "NumberOfProducts": "4",
                                    "TotalQuantity": "148",
                                    "TotalValue": "10495.60"
                                },
                                {
                                    "OrderId": "10540",
                                    "OrderDate": "2015-05-19",
                                    "NumberOfProducts": "4",
                                    "TotalQuantity": "165",
                                    "TotalValue": "10191.70"
                                },
                                {
                                    "OrderId": "10691",
                                    "OrderDate": "2015-10-03",
                                    "NumberOfProducts": "5",
                                    "TotalQuantity": "182",
                                    "TotalValue": "10164.80"
                                },
                                {
                                    "OrderId": "11032",
                                    "OrderDate": "2016-04-17",
                                    "NumberOfProducts": "3",
                                    "TotalQuantity": "90",
                                    "TotalValue": "8902.50"
                                },
                                {
                                    "OrderId": "10816",
                                    "OrderDate": "2016-01-06",
                                    "NumberOfProducts": "2",
                                    "TotalQuantity": "50",
                                    "TotalValue": "8891.00"
                                },
                                {
                                    "OrderId": "10514",
                                    "OrderDate": "2015-04-22",
                                    "NumberOfProducts": "5",
                                    "TotalQuantity": "233",
                                    "TotalValue": "8623.45"
                                },
                                {
                                    "OrderId": "10912",
                                    "OrderDate": "2016-02-26",
                                    "NumberOfProducts": "2",
                                    "TotalQuantity": "100",
                                    "TotalValue": "8267.40"
                                },
                                {
                                    "OrderId": "10360",
                                    "OrderDate": "2014-11-22",
                                    "NumberOfProducts": "5",
                                    "TotalQuantity": "138",
                                    "TotalValue": "7390.20"
                                },
                                {
                                    "OrderId": "10776",
                                    "OrderDate": "2015-12-15",
                                    "NumberOfProducts": "4",
                                    "TotalQuantity": "175",
                                    "TotalValue": "6984.50"
                                },
                                {
                                    "OrderId": "11021",
                                    "OrderDate": "2016-04-14",
                                    "NumberOfProducts": "5",
                                    "TotalQuantity": "168",
                                    "TotalValue": "6941.49"
                                },
                                {
                                    "OrderId": "11017",
                                    "OrderDate": "2016-04-13",
                                    "NumberOfProducts": "3",
                                    "TotalQuantity": "165",
                                    "TotalValue": "6750.00"
                                },
                                {
                                    "OrderId": "10993",
                                    "OrderDate": "2016-04-01",
                                    "NumberOfProducts": "2",
                                    "TotalQuantity": "85",
                                    "TotalValue": "6527.25"
                                },
                                {
                                    "OrderId": "10633",
                                    "OrderDate": "2015-08-15",
                                    "NumberOfProducts": "4",
                                    "TotalQuantity": "164",
                                    "TotalValue": "6483.05"
                                },
                                {
                                    "OrderId": "10607",
                                    "OrderDate": "2015-07-22",
                                    "NumberOfProducts": "5",
                                    "TotalQuantity": "213",
                                    "TotalValue": "6475.40"
                                },
                                {
                                    "OrderId": "10895",
                                    "OrderDate": "2016-02-18",
                                    "NumberOfProducts": "4",
                                    "TotalQuantity": "346",
                                    "TotalValue": "6379.40"
                                },
                                {
                                    "OrderId": "10612",
                                    "OrderDate": "2015-07-28",
                                    "NumberOfProducts": "5",
                                    "TotalQuantity": "263",
                                    "TotalValue": "6375.00"
                                },
                                {
                                    "OrderId": "10595",
                                    "OrderDate": "2015-07-10",
                                    "NumberOfProducts": "3",
                                    "TotalQuantity": "215",
                                    "TotalValue": "6300.00"
                                },
                                {
                                    "OrderId": "10687",
                                    "OrderDate": "2015-09-30",
                                    "NumberOfProducts": "3",
                                    "TotalQuantity": "66",
                                    "TotalValue": "6201.90"
                                },
                                {
                                    "OrderId": "10847",
                                    "OrderDate": "2016-01-22",
                                    "NumberOfProducts": "6",
                                    "TotalQuantity": "288",
                                    "TotalValue": "6164.90"
                                },
                                {
                                    "OrderId": "10324",
                                    "OrderDate": "2014-10-08",
                                    "NumberOfProducts": "5",
                                    "TotalQuantity": "241",
                                    "TotalValue": "6155.90"
                                },
                                {
                                    "OrderId": "10430",
                                    "OrderDate": "2015-01-30",
                                    "NumberOfProducts": "4",
                                    "TotalQuantity": "195",
                                    "TotalValue": "5796.00"
                                },
                                {
                                    "OrderId": "10440",
                                    "OrderDate": "2015-02-10",
                                    "NumberOfProducts": "4",
                                    "TotalQuantity": "208",
                                    "TotalValue": "5793.10"
                                },
                                {
                                    "OrderId": "10351",
                                    "OrderDate": "2014-11-11",
                                    "NumberOfProducts": "4",
                                    "TotalQuantity": "120",
                                    "TotalValue": "5677.60"
                                },
                                {
                                    "OrderId": "10893",
                                    "OrderDate": "2016-02-18",
                                    "NumberOfProducts": "5",
                                    "TotalQuantity": "119",
                                    "TotalValue": "5502.11"
                                },
                                {
                                    "OrderId": "10678",
                                    "OrderDate": "2015-09-23",
                                    "NumberOfProducts": "4",
                                    "TotalQuantity": "280",
                                    "TotalValue": "5256.50"
                                },
                                {
                                    "OrderId": "11072",
                                    "OrderDate": "2016-05-05",
                                    "NumberOfProducts": "4",
                                    "TotalQuantity": "200",
                                    "TotalValue": "5218.00"
                                },
                                {
                                    "OrderId": "10616",
                                    "OrderDate": "2015-07-31",
                                    "NumberOfProducts": "4",
                                    "TotalQuantity": "59",
                                    "TotalValue": "5032.00"
                                },
                                {
                                    "OrderId": "10634",
                                    "OrderDate": "2015-08-15",
                                    "NumberOfProducts": "4",
                                    "TotalQuantity": "102",
                                    "TotalValue": "4985.50"
                                },
                                {
                                    "OrderId": "10990",
                                    "OrderDate": "2016-04-01",
                                    "NumberOfProducts": "4",
                                    "TotalQuantity": "256",
                                    "TotalValue": "4931.00"
                                },
                                {
                                    "OrderId": "11008",
                                    "OrderDate": "2016-04-08",
                                    "NumberOfProducts": "3",
                                    "TotalQuantity": "181",
                                    "TotalValue": "4903.50"
                                },
                                {
                                    "OrderId": "10694",
                                    "OrderDate": "2015-10-06",
                                    "NumberOfProducts": "3",
                                    "TotalQuantity": "165",
                                    "TotalValue": "4825.00"
                                },
                                {
                                    "OrderId": "10329",
                                    "OrderDate": "2014-10-15",
                                    "NumberOfProducts": "4",
                                    "TotalQuantity": "50",
                                    "TotalValue": "4819.40"
                                },
                                {
                                    "OrderId": "10979",
                                    "OrderDate": "2016-03-26",
                                    "NumberOfProducts": "6",
                                    "TotalQuantity": "207",
                                    "TotalValue": "4813.50"
                                },
                                {
                                    "OrderId": "10941",
                                    "OrderDate": "2016-03-11",
                                    "NumberOfProducts": "4",
                                    "TotalQuantity": "204",
                                    "TotalValue": "4769.00"
                                },
                                {
                                    "OrderId": "10510",
                                    "OrderDate": "2015-04-18",
                                    "NumberOfProducts": "2",
                                    "TotalQuantity": "72",
                                    "TotalValue": "4735.44"
                                },
                                {
                                    "OrderId": "11064",
                                    "OrderDate": "2016-05-01",
                                    "NumberOfProducts": "5",
                                    "TotalQuantity": "173",
                                    "TotalValue": "4722.30"
                                },
                                {
                                    "OrderId": "10836",
                                    "OrderDate": "2016-01-16",
                                    "NumberOfProducts": "5",
                                    "TotalQuantity": "172",
                                    "TotalValue": "4705.50"
                                },
                                {
                                    "OrderId": "10953",
                                    "OrderDate": "2016-03-16",
                                    "NumberOfProducts": "2",
                                    "TotalQuantity": "100",
                                    "TotalValue": "4675.00"
                                },
                                {
                                    "OrderId": "10658",
                                    "OrderDate": "2015-09-05",
                                    "NumberOfProducts": "4",
                                    "TotalQuantity": "255",
                                    "TotalValue": "4668.00"
                                },
                                {
                                    "OrderId": "10666",
                                    "OrderDate": "2015-09-12",
                                    "NumberOfProducts": "2",
                                    "TotalQuantity": "46",
                                    "TotalValue": "4666.94"
                                },
                                {
                                    "OrderId": "10841",
                                    "OrderDate": "2016-01-20",
                                    "NumberOfProducts": "4",
                                    "TotalQuantity": "111",
                                    "TotalValue": "4581.00"
                                },
                                {
                                    "OrderId": "10745",
                                    "OrderDate": "2015-11-18",
                                    "NumberOfProducts": "4",
                                    "TotalQuantity": "92",
                                    "TotalValue": "4529.80"
                                },
                                {
                                    "OrderId": "10711",
                                    "OrderDate": "2015-10-21",
                                    "NumberOfProducts": "3",
                                    "TotalQuantity": "174",
                                    "TotalValue": "4451.70"
                                },
                                {
                                    "OrderId": "10949",
                                    "OrderDate": "2016-03-13",
                                    "NumberOfProducts": "4",
                                    "TotalQuantity": "108",
                                    "TotalValue": "4422.00"
                                },
                                {
                                    "OrderId": "10657",
                                    "OrderDate": "2015-09-04",
                                    "NumberOfProducts": "6",
                                    "TotalQuantity": "204",
                                    "TotalValue": "4371.60"
                                },
                                {
                                    "OrderId": "10762",
                                    "OrderDate": "2015-12-02",
                                    "NumberOfProducts": "4",
                                    "TotalQuantity": "134",
                                    "TotalValue": "4337.00"
                                },
                                {
                                    "OrderId": "10605",
                                    "OrderDate": "2015-07-21",
                                    "NumberOfProducts": "4",
                                    "TotalQuantity": "135",
                                    "TotalValue": "4326.00"
                                },
                                {
                                    "OrderId": "10451",
                                    "OrderDate": "2015-02-19",
                                    "NumberOfProducts": "4",
                                    "TotalQuantity": "238",
                                    "TotalValue": "4277.40"
                                },
                                {
                                    "OrderId": "10672",
                                    "OrderDate": "2015-09-17",
                                    "NumberOfProducts": "2",
                                    "TotalQuantity": "27",
                                    "TotalValue": "4210.50"
                                },
                                {
                                    "OrderId": "10549",
                                    "OrderDate": "2015-05-27",
                                    "NumberOfProducts": "3",
                                    "TotalQuantity": "203",
                                    "TotalValue": "4181.50"
                                },
                                {
                                    "OrderId": "10530",
                                    "OrderDate": "2015-05-08",
                                    "NumberOfProducts": "4",
                                    "TotalQuantity": "135",
                                    "TotalValue": "4180.00"
                                },
                                {
                                    "OrderId": "10305",
                                    "OrderDate": "2014-09-13",
                                    "NumberOfProducts": "3",
                                    "TotalQuantity": "80",
                                    "TotalValue": "4157.00"
                                },
                                {
                                    "OrderId": "10518",
                                    "OrderDate": "2015-04-25",
                                    "NumberOfProducts": "3",
                                    "TotalQuantity": "29",
                                    "TotalValue": "4150.05"
                                },
                                {
                                    "OrderId": "10845",
                                    "OrderDate": "2016-01-21",
                                    "NumberOfProducts": "5",
                                    "TotalQuantity": "245",
                                    "TotalValue": "4059.00"
                                },
                                {
                                    "OrderId": "10801",
                                    "OrderDate": "2015-12-29",
                                    "NumberOfProducts": "2",
                                    "TotalQuantity": "60",
                                    "TotalValue": "4035.80"
                                },
                                {
                                    "OrderId": "10267",
                                    "OrderDate": "2014-07-29",
                                    "NumberOfProducts": "3",
                                    "TotalQuantity": "135",
                                    "TotalValue": "4031.00"
                                },
                                {
                                    "OrderId": "10802",
                                    "OrderDate": "2015-12-29",
                                    "NumberOfProducts": "4",
                                    "TotalQuantity": "120",
                                    "TotalValue": "3923.75"
                                },
                                {
                                    "OrderId": "10588",
                                    "OrderDate": "2015-07-03",
                                    "NumberOfProducts": "2",
                                    "TotalQuantity": "140",
                                    "TotalValue": "3900.00"
                                },
                                {
                                    "OrderId": "10458",
                                    "OrderDate": "2015-02-26",
                                    "NumberOfProducts": "5",
                                    "TotalQuantity": "145",
                                    "TotalValue": "3891.00"
                                },
                                {
                                    "OrderId": "10401",
                                    "OrderDate": "2015-01-01",
                                    "NumberOfProducts": "4",
                                    "TotalQuantity": "168",
                                    "TotalValue": "3868.60"
                                },
                                {
                                    "OrderId": "10988",
                                    "OrderDate": "2016-03-31",
                                    "NumberOfProducts": "2",
                                    "TotalQuantity": "100",
                                    "TotalValue": "3772.00"
                                },
                                {
                                    "OrderId": "11056",
                                    "OrderDate": "2016-04-28",
                                    "NumberOfProducts": "3",
                                    "TotalQuantity": "125",
                                    "TotalValue": "3740.00"
                                },
                                {
                                    "OrderId": "10252",
                                    "OrderDate": "2014-07-09",
                                    "NumberOfProducts": "3",
                                    "TotalQuantity": "105",
                                    "TotalValue": "3730.00"
                                },
                                {
                                    "OrderId": "10789",
                                    "OrderDate": "2015-12-22",
                                    "NumberOfProducts": "4",
                                    "TotalQuantity": "93",
                                    "TotalValue": "3687.00"
                                },
                                {
                                    "OrderId": "10555",
                                    "OrderDate": "2015-06-02",
                                    "NumberOfProducts": "5",
                                    "TotalQuantity": "143",
                                    "TotalValue": "3680.50"
                                },
                                {
                                    "OrderId": "11053",
                                    "OrderDate": "2016-04-27",
                                    "NumberOfProducts": "3",
                                    "TotalQuantity": "80",
                                    "TotalValue": "3658.75"
                                },
                                {
                                    "OrderId": "10359",
                                    "OrderDate": "2014-11-21",
                                    "NumberOfProducts": "3",
                                    "TotalQuantity": "206",
                                    "TotalValue": "3654.40"
                                },
                                {
                                    "OrderId": "10938",
                                    "OrderDate": "2016-03-10",
                                    "NumberOfProducts": "4",
                                    "TotalQuantity": "128",
                                    "TotalValue": "3642.50"
                                },
                                {
                                    "OrderId": "10772",
                                    "OrderDate": "2015-12-10",
                                    "NumberOfProducts": "2",
                                    "TotalQuantity": "43",
                                    "TotalValue": "3603.22"
                                },
                                {
                                    "OrderId": "10698",
                                    "OrderDate": "2015-10-09",
                                    "NumberOfProducts": "5",
                                    "TotalQuantity": "108",
                                    "TotalValue": "3600.73"
                                },
                                {
                                    "OrderId": "11033",
                                    "OrderDate": "2016-04-17",
                                    "NumberOfProducts": "2",
                                    "TotalQuantity": "106",
                                    "TotalValue": "3592.00"
                                },
                                {
                                    "OrderId": "10962",
                                    "OrderDate": "2016-03-19",
                                    "NumberOfProducts": "5",
                                    "TotalQuantity": "195",
                                    "TotalValue": "3584.00"
                                },
                                {
                                    "OrderId": "10861",
                                    "OrderDate": "2016-01-30",
                                    "NumberOfProducts": "5",
                                    "TotalQuantity": "140",
                                    "TotalValue": "3523.40"
                                },
                                {
                                    "OrderId": "10854",
                                    "OrderDate": "2016-01-27",
                                    "NumberOfProducts": "2",
                                    "TotalQuantity": "165",
                                    "TotalValue": "3490.00"
                                },
                                {
                                    "OrderId": "10688",
                                    "OrderDate": "2015-10-01",
                                    "NumberOfProducts": "3",
                                    "TotalQuantity": "92",
                                    "TotalValue": "3490.00"
                                },
                                {
                                    "OrderId": "10339",
                                    "OrderDate": "2014-10-28",
                                    "NumberOfProducts": "3",
                                    "TotalQuantity": "108",
                                    "TotalValue": "3463.20"
                                },
                                {
                                    "OrderId": "10718",
                                    "OrderDate": "2015-10-27",
                                    "NumberOfProducts": "4",
                                    "TotalQuantity": "116",
                                    "TotalValue": "3463.00"
                                },
                                {
                                    "OrderId": "10709",
                                    "OrderDate": "2015-10-17",
                                    "NumberOfProducts": "3",
                                    "TotalQuantity": "78",
                                    "TotalValue": "3424.00"
                                },
                                {
                                    "OrderId": "10701",
                                    "OrderDate": "2015-10-13",
                                    "NumberOfProducts": "3",
                                    "TotalQuantity": "97",
                                    "TotalValue": "3370.00"
                                },
                                {
                                    "OrderId": "10760",
                                    "OrderDate": "2015-12-01",
                                    "NumberOfProducts": "3",
                                    "TotalQuantity": "82",
                                    "TotalValue": "3304.00"
                                },
                                {
                                    "OrderId": "10393",
                                    "OrderDate": "2014-12-25",
                                    "NumberOfProducts": "5",
                                    "TotalQuantity": "176",
                                    "TotalValue": "3302.60"
                                },
                                {
                                    "OrderId": "10524",
                                    "OrderDate": "2015-05-01",
                                    "NumberOfProducts": "4",
                                    "TotalQuantity": "87",
                                    "TotalValue": "3192.65"
                                },
                                {
                                    "OrderId": "10490",
                                    "OrderDate": "2015-03-31",
                                    "NumberOfProducts": "3",
                                    "TotalQuantity": "126",
                                    "TotalValue": "3163.20"
                                },
                                {
                                    "OrderId": "10886",
                                    "OrderDate": "2016-02-13",
                                    "NumberOfProducts": "3",
                                    "TotalQuantity": "145",
                                    "TotalValue": "3127.50"
                                },
                                {
                                    "OrderId": "10298",
                                    "OrderDate": "2014-09-05",
                                    "NumberOfProducts": "4",
                                    "TotalQuantity": "125",
                                    "TotalValue": "3127.00"
                                },
                                {
                                    "OrderId": "10742",
                                    "OrderDate": "2015-11-14",
                                    "NumberOfProducts": "3",
                                    "TotalQuantity": "105",
                                    "TotalValue": "3118.00"
                                },
                                {
                                    "OrderId": "10567",
                                    "OrderDate": "2015-06-12",
                                    "NumberOfProducts": "3",
                                    "TotalQuantity": "103",
                                    "TotalValue": "3109.00"
                                },
                                {
                                    "OrderId": "10823",
                                    "OrderDate": "2016-01-09",
                                    "NumberOfProducts": "4",
                                    "TotalQuantity": "90",
                                    "TotalValue": "3107.50"
                                },
                                {
                                    "OrderId": "11039",
                                    "OrderDate": "2016-04-21",
                                    "NumberOfProducts": "4",
                                    "TotalQuantity": "132",
                                    "TotalValue": "3090.00"
                                },
                                {
                                    "OrderId": "10757",
                                    "OrderDate": "2015-11-27",
                                    "NumberOfProducts": "4",
                                    "TotalQuantity": "91",
                                    "TotalValue": "3082.00"
                                },
                                {
                                    "OrderId": "10400",
                                    "OrderDate": "2015-01-01",
                                    "NumberOfProducts": "3",
                                    "TotalQuantity": "86",
                                    "TotalValue": "3063.00"
                                },
                                {
                                    "OrderId": "10286",
                                    "OrderDate": "2014-08-21",
                                    "NumberOfProducts": "2",
                                    "TotalQuantity": "140",
                                    "TotalValue": "3016.00"
                                },
                                {
                                    "OrderId": "10511",
                                    "OrderDate": "2015-04-18",
                                    "NumberOfProducts": "3",
                                    "TotalQuantity": "110",
                                    "TotalValue": "3000.00"
                                },
                                {
                                    "OrderId": "10852",
                                    "OrderDate": "2016-01-26",
                                    "NumberOfProducts": "3",
                                    "TotalQuantity": "71",
                                    "TotalValue": "2984.00"
                                },
                                {
                                    "OrderId": "11012",
                                    "OrderDate": "2016-04-09",
                                    "NumberOfProducts": "3",
                                    "TotalQuantity": "146",
                                    "TotalValue": "2974.00"
                                },
                                {
                                    "OrderId": "10714",
                                    "OrderDate": "2015-10-22",
                                    "NumberOfProducts": "5",
                                    "TotalQuantity": "137",
                                    "TotalValue": "2941.00"
                                },
                                {
                                    "OrderId": "10345",
                                    "OrderDate": "2014-11-04",
                                    "NumberOfProducts": "3",
                                    "TotalQuantity": "159",
                                    "TotalValue": "2924.80"
                                },
                                {
                                    "OrderId": "10382",
                                    "OrderDate": "2014-12-13",
                                    "NumberOfProducts": "5",
                                    "TotalQuantity": "165",
                                    "TotalValue": "2900.00"
                                },
                                {
                                    "OrderId": "10894",
                                    "OrderDate": "2016-02-18",
                                    "NumberOfProducts": "3",
                                    "TotalQuantity": "198",
                                    "TotalValue": "2898.00"
                                },
                                {
                                    "OrderId": "10637",
                                    "OrderDate": "2015-08-19",
                                    "NumberOfProducts": "3",
                                    "TotalQuantity": "95",
                                    "TotalValue": "2896.25"
                                },
                                {
                                    "OrderId": "10796",
                                    "OrderDate": "2015-12-25",
                                    "NumberOfProducts": "4",
                                    "TotalQuantity": "90",
                                    "TotalValue": "2878.08"
                                },
                                {
                                    "OrderId": "10991",
                                    "OrderDate": "2016-04-01",
                                    "NumberOfProducts": "3",
                                    "TotalQuantity": "160",
                                    "TotalValue": "2870.00"
                                },
                                {
                                    "OrderId": "10344",
                                    "OrderDate": "2014-11-01",
                                    "NumberOfProducts": "2",
                                    "TotalQuantity": "105",
                                    "TotalValue": "2856.00"
                                },
                                {
                                    "OrderId": "10561",
                                    "OrderDate": "2015-06-06",
                                    "NumberOfProducts": "2",
                                    "TotalQuantity": "60",
                                    "TotalValue": "2844.50"
                                },
                                {
                                    "OrderId": "10316",
                                    "OrderDate": "2014-09-27",
                                    "NumberOfProducts": "2",
                                    "TotalQuantity": "80",
                                    "TotalValue": "2835.00"
                                },
                                {
                                    "OrderId": "10713",
                                    "OrderDate": "2015-10-22",
                                    "NumberOfProducts": "4",
                                    "TotalQuantity": "182",
                                    "TotalValue": "2827.90"
                                },
                                {
                                    "OrderId": "10546",
                                    "OrderDate": "2015-05-23",
                                    "NumberOfProducts": "3",
                                    "TotalQuantity": "80",
                                    "TotalValue": "2812.00"
                                },
                                {
                                    "OrderId": "10629",
                                    "OrderDate": "2015-08-12",
                                    "NumberOfProducts": "2",
                                    "TotalQuantity": "29",
                                    "TotalValue": "2775.05"
                                },
                                {
                                    "OrderId": "10805",
                                    "OrderDate": "2015-12-30",
                                    "NumberOfProducts": "2",
                                    "TotalQuantity": "20",
                                    "TotalValue": "2775.00"
                                },
                                {
                                    "OrderId": "10987",
                                    "OrderDate": "2016-03-31",
                                    "NumberOfProducts": "3",
                                    "TotalQuantity": "86",
                                    "TotalValue": "2772.00"
                                },
                                {
                                    "OrderId": "11001",
                                    "OrderDate": "2016-04-06",
                                    "NumberOfProducts": "4",
                                    "TotalQuantity": "116",
                                    "TotalValue": "2769.00"
                                },
                                {
                                    "OrderId": "10787",
                                    "OrderDate": "2015-12-19",
                                    "NumberOfProducts": "2",
                                    "TotalQuantity": "35",
                                    "TotalValue": "2760.80"
                                },
                                {
                                    "OrderId": "10851",
                                    "OrderDate": "2016-01-26",
                                    "NumberOfProducts": "4",
                                    "TotalQuantity": "67",
                                    "TotalValue": "2740.00"
                                },
                                {
                                    "OrderId": "10398",
                                    "OrderDate": "2014-12-30",
                                    "NumberOfProducts": "2",
                                    "TotalQuantity": "150",
                                    "TotalValue": "2736.00"
                                },
                                {
                                    "OrderId": "10638",
                                    "OrderDate": "2015-08-20",
                                    "NumberOfProducts": "3",
                                    "TotalQuantity": "101",
                                    "TotalValue": "2720.05"
                                },
                                {
                                    "OrderId": "10465",
                                    "OrderDate": "2015-03-05",
                                    "NumberOfProducts": "5",
                                    "TotalQuantity": "118",
                                    "TotalValue": "2719.00"
                                },
                                {
                                    "OrderId": "10523",
                                    "OrderDate": "2015-05-01",
                                    "NumberOfProducts": "4",
                                    "TotalQuantity": "64",
                                    "TotalValue": "2715.90"
                                },
                                {
                                    "OrderId": "10402",
                                    "OrderDate": "2015-01-02",
                                    "NumberOfProducts": "2",
                                    "TotalQuantity": "125",
                                    "TotalValue": "2713.50"
                                },
                                {
                                    "OrderId": "10302",
                                    "OrderDate": "2014-09-10",
                                    "NumberOfProducts": "3",
                                    "TotalQuantity": "80",
                                    "TotalValue": "2708.80"
                                },
                                {
                                    "OrderId": "10618",
                                    "OrderDate": "2015-08-01",
                                    "NumberOfProducts": "3",
                                    "TotalQuantity": "105",
                                    "TotalValue": "2697.50"
                                },
                                {
                                    "OrderId": "10831",
                                    "OrderDate": "2016-01-14",
                                    "NumberOfProducts": "4",
                                    "TotalQuantity": "27",
                                    "TotalValue": "2684.40"
                                },
                                {
                                    "OrderId": "10455",
                                    "OrderDate": "2015-02-24",
                                    "NumberOfProducts": "4",
                                    "TotalQuantity": "125",
                                    "TotalValue": "2684.00"
                                },
                                {
                                    "OrderId": "10522",
                                    "OrderDate": "2015-04-30",
                                    "NumberOfProducts": "4",
                                    "TotalQuantity": "109",
                                    "TotalValue": "2657.80"
                                },
                                {
                                    "OrderId": "11007",
                                    "OrderDate": "2016-04-08",
                                    "NumberOfProducts": "3",
                                    "TotalQuantity": "54",
                                    "TotalValue": "2633.90"
                                },
                                {
                                    "OrderId": "10857",
                                    "OrderDate": "2016-01-28",
                                    "NumberOfProducts": "3",
                                    "TotalQuantity": "75",
                                    "TotalValue": "2630.95"
                                },
                                {
                                    "OrderId": "10516",
                                    "OrderDate": "2015-04-24",
                                    "NumberOfProducts": "3",
                                    "TotalQuantity": "125",
                                    "TotalValue": "2614.50"
                                },
                                {
                                    "OrderId": "10755",
                                    "OrderDate": "2015-11-26",
                                    "NumberOfProducts": "4",
                                    "TotalQuantity": "99",
                                    "TotalValue": "2598.00"
                                },
                                {
                                    "OrderId": "10570",
                                    "OrderDate": "2015-06-17",
                                    "NumberOfProducts": "2",
                                    "TotalQuantity": "75",
                                    "TotalValue": "2595.00"
                                },
                                {
                                    "OrderId": "10838",
                                    "OrderDate": "2016-01-19",
                                    "NumberOfProducts": "3",
                                    "TotalQuantity": "79",
                                    "TotalValue": "2584.50"
                                },
                                {
                                    "OrderId": "10340",
                                    "OrderDate": "2014-10-29",
                                    "NumberOfProducts": "3",
                                    "TotalQuantity": "72",
                                    "TotalValue": "2564.40"
                                },
                                {
                                    "OrderId": "10335",
                                    "OrderDate": "2014-10-22",
                                    "NumberOfProducts": "4",
                                    "TotalQuantity": "86",
                                    "TotalValue": "2545.20"
                                },
                                {
                                    "OrderId": "10703",
                                    "OrderDate": "2015-10-14",
                                    "NumberOfProducts": "3",
                                    "TotalQuantity": "75",
                                    "TotalValue": "2545.00"
                                },
                                {
                                    "OrderId": "10764",
                                    "OrderDate": "2015-12-03",
                                    "NumberOfProducts": "2",
                                    "TotalQuantity": "150",
                                    "TotalValue": "2540.00"
                                },
                                {
                                    "OrderId": "10369",
                                    "OrderDate": "2014-12-02",
                                    "NumberOfProducts": "2",
                                    "TotalQuantity": "38",
                                    "TotalValue": "2527.20"
                                },
                                {
                                    "OrderId": "10431",
                                    "OrderDate": "2015-01-30",
                                    "NumberOfProducts": "3",
                                    "TotalQuantity": "130",
                                    "TotalValue": "2523.00"
                                },
                                {
                                    "OrderId": "10795",
                                    "OrderDate": "2015-12-24",
                                    "NumberOfProducts": "2",
                                    "TotalQuantity": "100",
                                    "TotalValue": "2499.25"
                                },
                                {
                                    "OrderId": "10593",
                                    "OrderDate": "2015-07-09",
                                    "NumberOfProducts": "3",
                                    "TotalQuantity": "45",
                                    "TotalValue": "2493.00"
                                },
                                {
                                    "OrderId": "10255",
                                    "OrderDate": "2014-07-12",
                                    "NumberOfProducts": "4",
                                    "TotalQuantity": "110",
                                    "TotalValue": "2490.50"
                                },
                                {
                                    "OrderId": "10756",
                                    "OrderDate": "2015-11-27",
                                    "NumberOfProducts": "4",
                                    "TotalQuantity": "67",
                                    "TotalValue": "2487.50"
                                },
                                {
                                    "OrderId": "10337",
                                    "OrderDate": "2014-10-24",
                                    "NumberOfProducts": "5",
                                    "TotalQuantity": "137",
                                    "TotalValue": "2467.00"
                                },
                                {
                                    "OrderId": "10263",
                                    "OrderDate": "2014-07-23",
                                    "NumberOfProducts": "4",
                                    "TotalQuantity": "184",
                                    "TotalValue": "2464.80"
                                },
                                {
                                    "OrderId": "10930",
                                    "OrderDate": "2016-03-06",
                                    "NumberOfProducts": "4",
                                    "TotalQuantity": "116",
                                    "TotalValue": "2455.00"
                                },
                                {
                                    "OrderId": "10513",
                                    "OrderDate": "2015-04-22",
                                    "NumberOfProducts": "3",
                                    "TotalQuantity": "105",
                                    "TotalValue": "2427.50"
                                },
                                {
                                    "OrderId": "10583",
                                    "OrderDate": "2015-06-30",
                                    "NumberOfProducts": "3",
                                    "TotalQuantity": "44",
                                    "TotalValue": "2413.90"
                                },
                                {
                                    "OrderId": "11031",
                                    "OrderDate": "2016-04-17",
                                    "NumberOfProducts": "5",
                                    "TotalQuantity": "182",
                                    "TotalValue": "2393.50"
                                },
                                {
                                    "OrderId": "10598",
                                    "OrderDate": "2015-07-14",
                                    "NumberOfProducts": "2",
                                    "TotalQuantity": "59",
                                    "TotalValue": "2388.50"
                                },
                                {
                                    "OrderId": "11068",
                                    "OrderDate": "2016-05-04",
                                    "NumberOfProducts": "3",
                                    "TotalQuantity": "72",
                                    "TotalValue": "2384.80"
                                },
                                {
                                    "OrderId": "10948",
                                    "OrderDate": "2016-03-13",
                                    "NumberOfProducts": "3",
                                    "TotalQuantity": "53",
                                    "TotalValue": "2362.25"
                                },
                                {
                                    "OrderId": "10519",
                                    "OrderDate": "2015-04-28",
                                    "NumberOfProducts": "3",
                                    "TotalQuantity": "66",
                                    "TotalValue": "2356.00"
                                },
                                {
                                    "OrderId": "10693",
                                    "OrderDate": "2015-10-06",
                                    "NumberOfProducts": "4",
                                    "TotalQuantity": "111",
                                    "TotalValue": "2334.00"
                                },
                                {
                                    "OrderId": "10395",
                                    "OrderDate": "2014-12-26",
                                    "NumberOfProducts": "3",
                                    "TotalQuantity": "106",
                                    "TotalValue": "2333.20"
                                },
                                {
                                    "OrderId": "10314",
                                    "OrderDate": "2014-09-25",
                                    "NumberOfProducts": "3",
                                    "TotalQuantity": "95",
                                    "TotalValue": "2327.00"
                                },
                                {
                                    "OrderId": "10746",
                                    "OrderDate": "2015-11-19",
                                    "NumberOfProducts": "4",
                                    "TotalQuantity": "83",
                                    "TotalValue": "2311.70"
                                },
                                {
                                    "OrderId": "10766",
                                    "OrderDate": "2015-12-05",
                                    "NumberOfProducts": "3",
                                    "TotalQuantity": "115",
                                    "TotalValue": "2310.00"
                                },
                                {
                                    "OrderId": "10670",
                                    "OrderDate": "2015-09-16",
                                    "NumberOfProducts": "5",
                                    "TotalQuantity": "192",
                                    "TotalValue": "2301.75"
                                },
                                {
                                    "OrderId": "10342",
                                    "OrderDate": "2014-10-30",
                                    "NumberOfProducts": "4",
                                    "TotalQuantity": "160",
                                    "TotalValue": "2300.80"
                                },
                                {
                                    "OrderId": "10533",
                                    "OrderDate": "2015-05-12",
                                    "NumberOfProducts": "3",
                                    "TotalQuantity": "98",
                                    "TotalValue": "2295.20"
                                },
                                {
                                    "OrderId": "10804",
                                    "OrderDate": "2015-12-30",
                                    "NumberOfProducts": "3",
                                    "TotalQuantity": "64",
                                    "TotalValue": "2290.40"
                                },
                                {
                                    "OrderId": "10601",
                                    "OrderDate": "2015-07-16",
                                    "NumberOfProducts": "2",
                                    "TotalQuantity": "95",
                                    "TotalValue": "2285.00"
                                },
                                {
                                    "OrderId": "10855",
                                    "OrderDate": "2016-01-27",
                                    "NumberOfProducts": "4",
                                    "TotalQuantity": "103",
                                    "TotalValue": "2275.25"
                                },
                                {
                                    "OrderId": "10390",
                                    "OrderDate": "2014-12-23",
                                    "NumberOfProducts": "4",
                                    "TotalQuantity": "169",
                                    "TotalValue": "2275.20"
                                },
                                {
                                    "OrderId": "10361",
                                    "OrderDate": "2014-11-22",
                                    "NumberOfProducts": "2",
                                    "TotalQuantity": "109",
                                    "TotalValue": "2273.60"
                                },
                                {
                                    "OrderId": "10327",
                                    "OrderDate": "2014-10-11",
                                    "NumberOfProducts": "4",
                                    "TotalQuantity": "140",
                                    "TotalValue": "2262.50"
                                },
                                {
                                    "OrderId": "10985",
                                    "OrderDate": "2016-03-30",
                                    "NumberOfProducts": "3",
                                    "TotalQuantity": "79",
                                    "TotalValue": "2248.20"
                                },
                                {
                                    "OrderId": "10332",
                                    "OrderDate": "2014-10-17",
                                    "NumberOfProducts": "3",
                                    "TotalQuantity": "66",
                                    "TotalValue": "2233.60"
                                },
                                {
                                    "OrderId": "10977",
                                    "OrderDate": "2016-03-26",
                                    "NumberOfProducts": "4",
                                    "TotalQuantity": "90",
                                    "TotalValue": "2233.00"
                                },
                                {
                                    "OrderId": "10384",
                                    "OrderDate": "2014-12-16",
                                    "NumberOfProducts": "2",
                                    "TotalQuantity": "43",
                                    "TotalValue": "2222.40"
                                },
                                {
                                    "OrderId": "10986",
                                    "OrderDate": "2016-03-30",
                                    "NumberOfProducts": "4",
                                    "TotalQuantity": "70",
                                    "TotalValue": "2220.00"
                                },
                                {
                                    "OrderId": "10773",
                                    "OrderDate": "2015-12-11",
                                    "NumberOfProducts": "3",
                                    "TotalQuantity": "110",
                                    "TotalValue": "2216.25"
                                },
                                {
                                    "OrderId": "10436",
                                    "OrderDate": "2015-02-05",
                                    "NumberOfProducts": "4",
                                    "TotalQuantity": "99",
                                    "TotalValue": "2210.80"
                                },
                                {
                                    "OrderId": "10419",
                                    "OrderDate": "2015-01-20",
                                    "NumberOfProducts": "2",
                                    "TotalQuantity": "80",
                                    "TotalValue": "2208.00"
                                },
                                {
                                    "OrderId": "10892",
                                    "OrderDate": "2016-02-17",
                                    "NumberOfProducts": "1",
                                    "TotalQuantity": "40",
                                    "TotalValue": "2200.00"
                                },
                                {
                                    "OrderId": "10748",
                                    "OrderDate": "2015-11-20",
                                    "NumberOfProducts": "3",
                                    "TotalQuantity": "112",
                                    "TotalValue": "2196.00"
                                },
                                {
                                    "OrderId": "10285",
                                    "OrderDate": "2014-08-20",
                                    "NumberOfProducts": "3",
                                    "TotalQuantity": "121",
                                    "TotalValue": "2179.20"
                                },
                                {
                                    "OrderId": "10290",
                                    "OrderDate": "2014-08-27",
                                    "NumberOfProducts": "4",
                                    "TotalQuantity": "60",
                                    "TotalValue": "2169.00"
                                },
                                {
                                    "OrderId": "10872",
                                    "OrderDate": "2016-02-05",
                                    "NumberOfProducts": "4",
                                    "TotalQuantity": "66",
                                    "TotalValue": "2166.80"
                                },
                                {
                                    "OrderId": "10541",
                                    "OrderDate": "2015-05-19",
                                    "NumberOfProducts": "4",
                                    "TotalQuantity": "84",
                                    "TotalValue": "2162.80"
                                },
                                {
                                    "OrderId": "11028",
                                    "OrderDate": "2016-04-16",
                                    "NumberOfProducts": "2",
                                    "TotalQuantity": "59",
                                    "TotalValue": "2160.00"
                                },
                                {
                                    "OrderId": "10535",
                                    "OrderDate": "2015-05-13",
                                    "NumberOfProducts": "4",
                                    "TotalQuantity": "80",
                                    "TotalValue": "2156.50"
                                },
                                {
                                    "OrderId": "10575",
                                    "OrderDate": "2015-06-20",
                                    "NumberOfProducts": "4",
                                    "TotalQuantity": "58",
                                    "TotalValue": "2147.40"
                                },
                                {
                                    "OrderId": "10558",
                                    "OrderDate": "2015-06-04",
                                    "NumberOfProducts": "5",
                                    "TotalQuantity": "96",
                                    "TotalValue": "2142.90"
                                },
                                {
                                    "OrderId": "10273",
                                    "OrderDate": "2014-08-05",
                                    "NumberOfProducts": "5",
                                    "TotalQuantity": "152",
                                    "TotalValue": "2142.40"
                                },
                                {
                                    "OrderId": "10413",
                                    "OrderDate": "2015-01-14",
                                    "NumberOfProducts": "3",
                                    "TotalQuantity": "78",
                                    "TotalValue": "2123.20"
                                },
                                {
                                    "OrderId": "10452",
                                    "OrderDate": "2015-02-20",
                                    "NumberOfProducts": "2",
                                    "TotalQuantity": "115",
                                    "TotalValue": "2096.00"
                                },
                                {
                                    "OrderId": "10877",
                                    "OrderDate": "2016-02-09",
                                    "NumberOfProducts": "2",
                                    "TotalQuantity": "55",
                                    "TotalValue": "2086.00"
                                },
                                {
                                    "OrderId": "10536",
                                    "OrderDate": "2015-05-14",
                                    "NumberOfProducts": "4",
                                    "TotalQuantity": "100",
                                    "TotalValue": "2085.00"
                                },
                                {
                                    "OrderId": "10871",
                                    "OrderDate": "2016-02-05",
                                    "NumberOfProducts": "3",
                                    "TotalQuantity": "78",
                                    "TotalValue": "2083.40"
                                },
                                {
                                    "OrderId": "10573",
                                    "OrderDate": "2015-06-19",
                                    "NumberOfProducts": "3",
                                    "TotalQuantity": "83",
                                    "TotalValue": "2082.00"
                                },
                                {
                                    "OrderId": "10814",
                                    "OrderDate": "2016-01-05",
                                    "NumberOfProducts": "4",
                                    "TotalQuantity": "78",
                                    "TotalValue": "2070.00"
                                },
                                {
                                    "OrderId": "10641",
                                    "OrderDate": "2015-08-22",
                                    "NumberOfProducts": "2",
                                    "TotalQuantity": "110",
                                    "TotalValue": "2054.00"
                                },
                                {
                                    "OrderId": "10964",
                                    "OrderDate": "2016-03-20",
                                    "NumberOfProducts": "3",
                                    "TotalQuantity": "21",
                                    "TotalValue": "2052.50"
                                },
                                {
                                    "OrderId": "10461",
                                    "OrderDate": "2015-02-28",
                                    "NumberOfProducts": "3",
                                    "TotalQuantity": "128",
                                    "TotalValue": "2051.60"
                                },
                                {
                                    "OrderId": "10503",
                                    "OrderDate": "2015-04-11",
                                    "NumberOfProducts": "2",
                                    "TotalQuantity": "90",
                                    "TotalValue": "2048.50"
                                },
                                {
                                    "OrderId": "10700",
                                    "OrderDate": "2015-10-10",
                                    "NumberOfProducts": "4",
                                    "TotalQuantity": "117",
                                    "TotalValue": "2048.00"
                                },
                                {
                                    "OrderId": "10566",
                                    "OrderDate": "2015-06-12",
                                    "NumberOfProducts": "3",
                                    "TotalQuantity": "63",
                                    "TotalValue": "2040.00"
                                },
                                {
                                    "OrderId": "10924",
                                    "OrderDate": "2016-03-04",
                                    "NumberOfProducts": "3",
                                    "TotalQuantity": "56",
                                    "TotalValue": "2034.50"
                                },
                                {
                                    "OrderId": "10663",
                                    "OrderDate": "2015-09-10",
                                    "NumberOfProducts": "3",
                                    "TotalQuantity": "80",
                                    "TotalValue": "2032.00"
                                },
                                {
                                    "OrderId": "10258",
                                    "OrderDate": "2014-07-17",
                                    "NumberOfProducts": "3",
                                    "TotalQuantity": "121",
                                    "TotalValue": "2018.60"
                                },
                                {
                                    "OrderId": "10406",
                                    "OrderDate": "2015-01-07",
                                    "NumberOfProducts": "5",
                                    "TotalQuantity": "89",
                                    "TotalValue": "2018.20"
                                },
                                {
                                    "OrderId": "10868",
                                    "OrderDate": "2016-02-04",
                                    "NumberOfProducts": "3",
                                    "TotalQuantity": "92",
                                    "TotalValue": "2004.60"
                                },
                                {
                                    "OrderId": "10731",
                                    "OrderDate": "2015-11-06",
                                    "NumberOfProducts": "2",
                                    "TotalQuantity": "70",
                                    "TotalValue": "1990.00"
                                },
                                {
                                    "OrderId": "10997",
                                    "OrderDate": "2016-04-03",
                                    "NumberOfProducts": "3",
                                    "TotalQuantity": "90",
                                    "TotalValue": "1980.00"
                                },
                                {
                                    "OrderId": "10830",
                                    "OrderDate": "2016-01-13",
                                    "NumberOfProducts": "4",
                                    "TotalQuantity": "88",
                                    "TotalValue": "1974.00"
                                },
                                {
                                    "OrderId": "11024",
                                    "OrderDate": "2016-04-15",
                                    "NumberOfProducts": "4",
                                    "TotalQuantity": "113",
                                    "TotalValue": "1966.81"
                                },
                                {
                                    "OrderId": "10330",
                                    "OrderDate": "2014-10-16",
                                    "NumberOfProducts": "2",
                                    "TotalQuantity": "75",
                                    "TotalValue": "1940.00"
                                },
                                {
                                    "OrderId": "10921",
                                    "OrderDate": "2016-03-03",
                                    "NumberOfProducts": "2",
                                    "TotalQuantity": "50",
                                    "TotalValue": "1936.00"
                                },
                                {
                                    "OrderId": "10918",
                                    "OrderDate": "2016-03-02",
                                    "NumberOfProducts": "2",
                                    "TotalQuantity": "85",
                                    "TotalValue": "1930.00"
                                },
                                {
                                    "OrderId": "10646",
                                    "OrderDate": "2015-08-27",
                                    "NumberOfProducts": "4",
                                    "TotalQuantity": "98",
                                    "TotalValue": "1928.00"
                                },
                                {
                                    "OrderId": "10791",
                                    "OrderDate": "2015-12-23",
                                    "NumberOfProducts": "2",
                                    "TotalQuantity": "34",
                                    "TotalValue": "1926.06"
                                },
                                {
                                    "OrderId": "10932",
                                    "OrderDate": "2016-03-06",
                                    "NumberOfProducts": "4",
                                    "TotalQuantity": "80",
                                    "TotalValue": "1925.50"
                                },
                                {
                                    "OrderId": "10904",
                                    "OrderDate": "2016-02-24",
                                    "NumberOfProducts": "2",
                                    "TotalQuantity": "50",
                                    "TotalValue": "1924.25"
                                },
                                {
                                    "OrderId": "10667",
                                    "OrderDate": "2015-09-12",
                                    "NumberOfProducts": "2",
                                    "TotalQuantity": "59",
                                    "TotalValue": "1921.00"
                                },
                                {
                                    "OrderId": "10786",
                                    "OrderDate": "2015-12-19",
                                    "NumberOfProducts": "3",
                                    "TotalQuantity": "87",
                                    "TotalValue": "1913.85"
                                },
                                {
                                    "OrderId": "10747",
                                    "OrderDate": "2015-11-19",
                                    "NumberOfProducts": "4",
                                    "TotalQuantity": "82",
                                    "TotalValue": "1912.85"
                                },
                                {
                                    "OrderId": "10547",
                                    "OrderDate": "2015-05-23",
                                    "NumberOfProducts": "2",
                                    "TotalQuantity": "84",
                                    "TotalValue": "1908.00"
                                },
                                {
                                    "OrderId": "10396",
                                    "OrderDate": "2014-12-27",
                                    "NumberOfProducts": "3",
                                    "TotalQuantity": "121",
                                    "TotalValue": "1903.80"
                                },
                                {
                                    "OrderId": "10954",
                                    "OrderDate": "2016-03-17",
                                    "NumberOfProducts": "4",
                                    "TotalQuantity": "107",
                                    "TotalValue": "1902.10"
                                },
                                {
                                    "OrderId": "11002",
                                    "OrderDate": "2016-04-06",
                                    "NumberOfProducts": "4",
                                    "TotalQuantity": "135",
                                    "TotalValue": "1902.00"
                                },
                                {
                                    "OrderId": "10420",
                                    "OrderDate": "2015-01-21",
                                    "NumberOfProducts": "4",
                                    "TotalQuantity": "50",
                                    "TotalValue": "1897.60"
                                },
                                {
                                    "OrderId": "10706",
                                    "OrderDate": "2015-10-16",
                                    "NumberOfProducts": "3",
                                    "TotalQuantity": "52",
                                    "TotalValue": "1893.00"
                                },
                                {
                                    "OrderId": "10294",
                                    "OrderDate": "2014-08-30",
                                    "NumberOfProducts": "5",
                                    "TotalQuantity": "75",
                                    "TotalValue": "1887.60"
                                },
                                {
                                    "OrderId": "11041",
                                    "OrderDate": "2016-04-22",
                                    "NumberOfProducts": "2",
                                    "TotalQuantity": "60",
                                    "TotalValue": "1887.00"
                                },
                                {
                                    "OrderId": "10880",
                                    "OrderDate": "2016-02-10",
                                    "NumberOfProducts": "3",
                                    "TotalQuantity": "110",
                                    "TotalValue": "1875.00"
                                },
                                {
                                    "OrderId": "11070",
                                    "OrderDate": "2016-05-05",
                                    "NumberOfProducts": "4",
                                    "TotalQuantity": "110",
                                    "TotalValue": "1873.50"
                                },
                                {
                                    "OrderId": "10750",
                                    "OrderDate": "2015-11-21",
                                    "NumberOfProducts": "3",
                                    "TotalQuantity": "70",
                                    "TotalValue": "1871.25"
                                },
                                {
                                    "OrderId": "10249",
                                    "OrderDate": "2014-07-05",
                                    "NumberOfProducts": "2",
                                    "TotalQuantity": "49",
                                    "TotalValue": "1863.40"
                                },
                                {
                                    "OrderId": "10812",
                                    "OrderDate": "2016-01-02",
                                    "NumberOfProducts": "3",
                                    "TotalQuantity": "76",
                                    "TotalValue": "1852.00"
                                },
                                {
                                    "OrderId": "10729",
                                    "OrderDate": "2015-11-04",
                                    "NumberOfProducts": "3",
                                    "TotalQuantity": "120",
                                    "TotalValue": "1850.00"
                                },
                                {
                                    "OrderId": "10464",
                                    "OrderDate": "2015-03-04",
                                    "NumberOfProducts": "4",
                                    "TotalQuantity": "69",
                                    "TotalValue": "1848.00"
                                },
                                {
                                    "OrderId": "10449",
                                    "OrderDate": "2015-02-18",
                                    "NumberOfProducts": "3",
                                    "TotalQuantity": "69",
                                    "TotalValue": "1838.20"
                                },
                                {
                                    "OrderId": "11059",
                                    "OrderDate": "2016-04-29",
                                    "NumberOfProducts": "3",
                                    "TotalQuantity": "77",
                                    "TotalValue": "1838.00"
                                },
                                {
                                    "OrderId": "10551",
                                    "OrderDate": "2015-05-28",
                                    "NumberOfProducts": "3",
                                    "TotalQuantity": "100",
                                    "TotalValue": "1836.00"
                                },
                                {
                                    "OrderId": "10368",
                                    "OrderDate": "2014-11-29",
                                    "NumberOfProducts": "4",
                                    "TotalQuantity": "78",
                                    "TotalValue": "1834.20"
                                },
                                {
                                    "OrderId": "10389",
                                    "OrderDate": "2014-12-20",
                                    "NumberOfProducts": "4",
                                    "TotalQuantity": "81",
                                    "TotalValue": "1832.80"
                                },
                                {
                                    "OrderId": "10537",
                                    "OrderDate": "2015-05-14",
                                    "NumberOfProducts": "5",
                                    "TotalQuantity": "86",
                                    "TotalValue": "1823.80"
                                },
                                {
                                    "OrderId": "10470",
                                    "OrderDate": "2015-03-11",
                                    "NumberOfProducts": "3",
                                    "TotalQuantity": "53",
                                    "TotalValue": "1820.80"
                                },
                                {
                                    "OrderId": "10650",
                                    "OrderDate": "2015-08-29",
                                    "NumberOfProducts": "3",
                                    "TotalQuantity": "85",
                                    "TotalValue": "1820.20"
                                },
                                {
                                    "OrderId": "10554",
                                    "OrderDate": "2015-05-30",
                                    "NumberOfProducts": "4",
                                    "TotalQuantity": "80",
                                    "TotalValue": "1819.50"
                                },
                                {
                                    "OrderId": "10418",
                                    "OrderDate": "2015-01-17",
                                    "NumberOfProducts": "4",
                                    "TotalQuantity": "146",
                                    "TotalValue": "1814.80"
                                },
                                {
                                    "OrderId": "10250",
                                    "OrderDate": "2014-07-08",
                                    "NumberOfProducts": "3",
                                    "TotalQuantity": "60",
                                    "TotalValue": "1813.00"
                                },
                                {
                                    "OrderId": "10984",
                                    "OrderDate": "2016-03-30",
                                    "NumberOfProducts": "3",
                                    "TotalQuantity": "115",
                                    "TotalValue": "1809.75"
                                },
                                {
                                    "OrderId": "10442",
                                    "OrderDate": "2015-02-11",
                                    "NumberOfProducts": "3",
                                    "TotalQuantity": "170",
                                    "TotalValue": "1792.00"
                                },
                                {
                                    "OrderId": "10475",
                                    "OrderDate": "2015-03-14",
                                    "NumberOfProducts": "3",
                                    "TotalQuantity": "137",
                                    "TotalValue": "1770.80"
                                },
                                {
                                    "OrderId": "10543",
                                    "OrderDate": "2015-05-21",
                                    "NumberOfProducts": "2",
                                    "TotalQuantity": "100",
                                    "TotalValue": "1770.00"
                                },
                                {
                                    "OrderId": "10740",
                                    "OrderDate": "2015-11-13",
                                    "NumberOfProducts": "4",
                                    "TotalQuantity": "94",
                                    "TotalValue": "1770.00"
                                },
                                {
                                    "OrderId": "10684",
                                    "OrderDate": "2015-09-26",
                                    "NumberOfProducts": "3",
                                    "TotalQuantity": "90",
                                    "TotalValue": "1768.00"
                                },
                                {
                                    "OrderId": "10399",
                                    "OrderDate": "2014-12-31",
                                    "NumberOfProducts": "4",
                                    "TotalQuantity": "139",
                                    "TotalValue": "1765.60"
                                },
                                {
                                    "OrderId": "10829",
                                    "OrderDate": "2016-01-13",
                                    "NumberOfProducts": "4",
                                    "TotalQuantity": "61",
                                    "TotalValue": "1764.00"
                                },
                                {
                                    "OrderId": "10957",
                                    "OrderDate": "2016-03-18",
                                    "NumberOfProducts": "3",
                                    "TotalQuantity": "78",
                                    "TotalValue": "1762.70"
                                },
                                {
                                    "OrderId": "10309",
                                    "OrderDate": "2014-09-19",
                                    "NumberOfProducts": "5",
                                    "TotalQuantity": "75",
                                    "TotalValue": "1762.00"
                                },
                                {
                                    "OrderId": "10485",
                                    "OrderDate": "2015-03-25",
                                    "NumberOfProducts": "4",
                                    "TotalQuantity": "130",
                                    "TotalValue": "1760.00"
                                },
                                {
                                    "OrderId": "10441",
                                    "OrderDate": "2015-02-10",
                                    "NumberOfProducts": "1",
                                    "TotalQuantity": "50",
                                    "TotalValue": "1755.00"
                                },
                                {
                                    "OrderId": "11035",
                                    "OrderDate": "2016-04-20",
                                    "NumberOfProducts": "4",
                                    "TotalQuantity": "110",
                                    "TotalValue": "1754.50"
                                },
                                {
                                    "OrderId": "10429",
                                    "OrderDate": "2015-01-29",
                                    "NumberOfProducts": "2",
                                    "TotalQuantity": "75",
                                    "TotalValue": "1748.50"
                                },
                                {
                                    "OrderId": "10260",
                                    "OrderDate": "2014-07-19",
                                    "NumberOfProducts": "4",
                                    "TotalQuantity": "102",
                                    "TotalValue": "1746.20"
                                },
                                {
                                    "OrderId": "10971",
                                    "OrderDate": "2016-03-24",
                                    "NumberOfProducts": "1",
                                    "TotalQuantity": "14",
                                    "TotalValue": "1733.06"
                                },
                                {
                                    "OrderId": "10346",
                                    "OrderDate": "2014-11-05",
                                    "NumberOfProducts": "2",
                                    "TotalQuantity": "56",
                                    "TotalValue": "1731.20"
                                },
                                {
                                    "OrderId": "11055",
                                    "OrderDate": "2016-04-28",
                                    "NumberOfProducts": "4",
                                    "TotalQuantity": "70",
                                    "TotalValue": "1727.50"
                                },
                                {
                                    "OrderId": "10727",
                                    "OrderDate": "2015-11-03",
                                    "NumberOfProducts": "3",
                                    "TotalQuantity": "40",
                                    "TotalValue": "1710.00"
                                },
                                {
                                    "OrderId": "10373",
                                    "OrderDate": "2014-12-05",
                                    "NumberOfProducts": "2",
                                    "TotalQuantity": "130",
                                    "TotalValue": "1708.00"
                                },
                                {
                                    "OrderId": "10707",
                                    "OrderDate": "2015-10-16",
                                    "NumberOfProducts": "3",
                                    "TotalQuantity": "89",
                                    "TotalValue": "1704.00"
                                },
                                {
                                    "OrderId": "10769",
                                    "OrderDate": "2015-12-08",
                                    "NumberOfProducts": "4",
                                    "TotalQuantity": "80",
                                    "TotalValue": "1704.00"
                                },
                                {
                                    "OrderId": "10751",
                                    "OrderDate": "2015-11-24",
                                    "NumberOfProducts": "4",
                                    "TotalQuantity": "77",
                                    "TotalValue": "1701.46"
                                },
                                {
                                    "OrderId": "10660",
                                    "OrderDate": "2015-09-08",
                                    "NumberOfProducts": "1",
                                    "TotalQuantity": "21",
                                    "TotalValue": "1701.00"
                                },
                                {
                                    "OrderId": "11036",
                                    "OrderDate": "2016-04-20",
                                    "NumberOfProducts": "2",
                                    "TotalQuantity": "37",
                                    "TotalValue": "1692.00"
                                },
                                {
                                    "OrderId": "10459",
                                    "OrderDate": "2015-02-27",
                                    "NumberOfProducts": "3",
                                    "TotalQuantity": "76",
                                    "TotalValue": "1688.00"
                                },
                                {
                                    "OrderId": "10765",
                                    "OrderDate": "2015-12-04",
                                    "NumberOfProducts": "1",
                                    "TotalQuantity": "80",
                                    "TotalValue": "1684.00"
                                },
                                {
                                    "OrderId": "10680",
                                    "OrderDate": "2015-09-24",
                                    "NumberOfProducts": "3",
                                    "TotalQuantity": "110",
                                    "TotalValue": "1682.50"
                                },
                                {
                                    "OrderId": "10404",
                                    "OrderDate": "2015-01-03",
                                    "NumberOfProducts": "3",
                                    "TotalQuantity": "100",
                                    "TotalValue": "1675.00"
                                },
                                {
                                    "OrderId": "10527",
                                    "OrderDate": "2015-05-05",
                                    "NumberOfProducts": "2",
                                    "TotalQuantity": "80",
                                    "TotalValue": "1670.00"
                                },
                                {
                                    "OrderId": "11052",
                                    "OrderDate": "2016-04-27",
                                    "NumberOfProducts": "2",
                                    "TotalQuantity": "40",
                                    "TotalValue": "1665.00"
                                },
                                {
                                    "OrderId": "10808",
                                    "OrderDate": "2016-01-01",
                                    "NumberOfProducts": "2",
                                    "TotalQuantity": "70",
                                    "TotalValue": "1660.00"
                                },
                                {
                                    "OrderId": "10784",
                                    "OrderDate": "2015-12-18",
                                    "NumberOfProducts": "3",
                                    "TotalQuantity": "62",
                                    "TotalValue": "1650.00"
                                },
                                {
                                    "OrderId": "10617",
                                    "OrderDate": "2015-07-31",
                                    "NumberOfProducts": "1",
                                    "TotalQuantity": "30",
                                    "TotalValue": "1650.00"
                                },
                                {
                                    "OrderId": "10758",
                                    "OrderDate": "2015-11-28",
                                    "NumberOfProducts": "3",
                                    "TotalQuantity": "120",
                                    "TotalValue": "1644.60"
                                },
                                {
                                    "OrderId": "10686",
                                    "OrderDate": "2015-09-30",
                                    "NumberOfProducts": "2",
                                    "TotalQuantity": "45",
                                    "TotalValue": "1638.45"
                                },
                                {
                                    "OrderId": "10800",
                                    "OrderDate": "2015-12-26",
                                    "NumberOfProducts": "3",
                                    "TotalQuantity": "67",
                                    "TotalValue": "1632.15"
                                },
                                {
                                    "OrderId": "10869",
                                    "OrderDate": "2016-02-04",
                                    "NumberOfProducts": "4",
                                    "TotalQuantity": "120",
                                    "TotalValue": "1630.00"
                                },
                                {
                                    "OrderId": "10408",
                                    "OrderDate": "2015-01-08",
                                    "NumberOfProducts": "3",
                                    "TotalQuantity": "51",
                                    "TotalValue": "1622.40"
                                },
                                {
                                    "OrderId": "10878",
                                    "OrderDate": "2016-02-10",
                                    "NumberOfProducts": "1",
                                    "TotalQuantity": "20",
                                    "TotalValue": "1620.00"
                                },
                                {
                                    "OrderId": "10312",
                                    "OrderDate": "2014-09-23",
                                    "NumberOfProducts": "4",
                                    "TotalQuantity": "58",
                                    "TotalValue": "1614.80"
                                },
                                {
                                    "OrderId": "10343",
                                    "OrderDate": "2014-10-31",
                                    "NumberOfProducts": "3",
                                    "TotalQuantity": "69",
                                    "TotalValue": "1586.00"
                                },
                                {
                                    "OrderId": "10799",
                                    "OrderDate": "2015-12-26",
                                    "NumberOfProducts": "3",
                                    "TotalQuantity": "65",
                                    "TotalValue": "1585.00"
                                },
                                {
                                    "OrderId": "10457",
                                    "OrderDate": "2015-02-25",
                                    "NumberOfProducts": "1",
                                    "TotalQuantity": "36",
                                    "TotalValue": "1584.00"
                                },
                                {
                                    "OrderId": "11018",
                                    "OrderDate": "2016-04-13",
                                    "NumberOfProducts": "3",
                                    "TotalQuantity": "35",
                                    "TotalValue": "1575.00"
                                },
                                {
                                    "OrderId": "10722",
                                    "OrderDate": "2015-10-29",
                                    "NumberOfProducts": "4",
                                    "TotalQuantity": "140",
                                    "TotalValue": "1570.00"
                                },
                                {
                                    "OrderId": "10572",
                                    "OrderDate": "2015-06-18",
                                    "NumberOfProducts": "4",
                                    "TotalQuantity": "87",
                                    "TotalValue": "1565.65"
                                },
                                {
                                    "OrderId": "11046",
                                    "OrderDate": "2016-04-23",
                                    "NumberOfProducts": "3",
                                    "TotalQuantity": "53",
                                    "TotalValue": "1564.00"
                                },
                                {
                                    "OrderId": "10488",
                                    "OrderDate": "2015-03-27",
                                    "NumberOfProducts": "2",
                                    "TotalQuantity": "50",
                                    "TotalValue": "1560.00"
                                },
                                {
                                    "OrderId": "10362",
                                    "OrderDate": "2014-11-25",
                                    "NumberOfProducts": "3",
                                    "TotalQuantity": "94",
                                    "TotalValue": "1549.60"
                                },
                                {
                                    "OrderId": "10553",
                                    "OrderDate": "2015-05-30",
                                    "NumberOfProducts": "5",
                                    "TotalQuantity": "89",
                                    "TotalValue": "1546.30"
                                },
                                {
                                    "OrderId": "10645",
                                    "OrderDate": "2015-08-26",
                                    "NumberOfProducts": "2",
                                    "TotalQuantity": "35",
                                    "TotalValue": "1535.00"
                                },
                                {
                                    "OrderId": "10664",
                                    "OrderDate": "2015-09-10",
                                    "NumberOfProducts": "3",
                                    "TotalQuantity": "51",
                                    "TotalValue": "1515.75"
                                },
                                {
                                    "OrderId": "10834",
                                    "OrderDate": "2016-01-15",
                                    "NumberOfProducts": "2",
                                    "TotalQuantity": "28",
                                    "TotalValue": "1508.12"
                                },
                                {
                                    "OrderId": "10603",
                                    "OrderDate": "2015-07-18",
                                    "NumberOfProducts": "2",
                                    "TotalQuantity": "73",
                                    "TotalValue": "1508.00"
                                },
                                {
                                    "OrderId": "10626",
                                    "OrderDate": "2015-08-11",
                                    "NumberOfProducts": "3",
                                    "TotalQuantity": "52",
                                    "TotalValue": "1503.60"
                                },
                                {
                                    "OrderId": "10978",
                                    "OrderDate": "2016-03-26",
                                    "NumberOfProducts": "4",
                                    "TotalQuantity": "76",
                                    "TotalValue": "1500.70"
                                },
                                {
                                    "OrderId": "11023",
                                    "OrderDate": "2016-04-14",
                                    "NumberOfProducts": "2",
                                    "TotalQuantity": "34",
                                    "TotalValue": "1500.00"
                                },
                                {
                                    "OrderId": "10734",
                                    "OrderDate": "2015-11-07",
                                    "NumberOfProducts": "3",
                                    "TotalQuantity": "65",
                                    "TotalValue": "1498.35"
                                },
                                {
                                    "OrderId": "10325",
                                    "OrderDate": "2014-10-09",
                                    "NumberOfProducts": "5",
                                    "TotalQuantity": "71",
                                    "TotalValue": "1497.00"
                                },
                                {
                                    "OrderId": "10278",
                                    "OrderDate": "2014-08-12",
                                    "NumberOfProducts": "4",
                                    "TotalQuantity": "64",
                                    "TotalValue": "1488.80"
                                },
                                {
                                    "OrderId": "10768",
                                    "OrderDate": "2015-12-08",
                                    "NumberOfProducts": "4",
                                    "TotalQuantity": "81",
                                    "TotalValue": "1477.00"
                                },
                                {
                                    "OrderId": "10596",
                                    "OrderDate": "2015-07-11",
                                    "NumberOfProducts": "3",
                                    "TotalQuantity": "59",
                                    "TotalValue": "1476.10"
                                },
                                {
                                    "OrderId": "10481",
                                    "OrderDate": "2015-03-20",
                                    "NumberOfProducts": "2",
                                    "TotalQuantity": "64",
                                    "TotalValue": "1472.00"
                                },
                                {
                                    "OrderId": "10866",
                                    "OrderDate": "2016-02-03",
                                    "NumberOfProducts": "3",
                                    "TotalQuantity": "67",
                                    "TotalValue": "1461.60"
                                },
                                {
                                    "OrderId": "10733",
                                    "OrderDate": "2015-11-07",
                                    "NumberOfProducts": "3",
                                    "TotalQuantity": "61",
                                    "TotalValue": "1459.00"
                                },
                                {
                                    "OrderId": "10272",
                                    "OrderDate": "2014-08-02",
                                    "NumberOfProducts": "3",
                                    "TotalQuantity": "70",
                                    "TotalValue": "1456.00"
                                },
                                {
                                    "OrderId": "10284",
                                    "OrderDate": "2014-08-19",
                                    "NumberOfProducts": "4",
                                    "TotalQuantity": "61",
                                    "TotalValue": "1452.00"
                                },
                                {
                                    "OrderId": "10884",
                                    "OrderDate": "2016-02-12",
                                    "NumberOfProducts": "3",
                                    "TotalQuantity": "73",
                                    "TotalValue": "1450.60"
                                },
                                {
                                    "OrderId": "11063",
                                    "OrderDate": "2016-04-30",
                                    "NumberOfProducts": "3",
                                    "TotalQuantity": "100",
                                    "TotalValue": "1445.50"
                                },
                                {
                                    "OrderId": "10253",
                                    "OrderDate": "2014-07-10",
                                    "NumberOfProducts": "3",
                                    "TotalQuantity": "102",
                                    "TotalValue": "1444.80"
                                },
                                {
                                    "OrderId": "10783",
                                    "OrderDate": "2015-12-18",
                                    "NumberOfProducts": "2",
                                    "TotalQuantity": "15",
                                    "TotalValue": "1442.50"
                                },
                                {
                                    "OrderId": "10392",
                                    "OrderDate": "2014-12-24",
                                    "NumberOfProducts": "1",
                                    "TotalQuantity": "50",
                                    "TotalValue": "1440.00"
                                },
                                {
                                    "OrderId": "10859",
                                    "OrderDate": "2016-01-29",
                                    "NumberOfProducts": "3",
                                    "TotalQuantity": "105",
                                    "TotalValue": "1438.25"
                                },
                                {
                                    "OrderId": "10649",
                                    "OrderDate": "2015-08-28",
                                    "NumberOfProducts": "2",
                                    "TotalQuantity": "35",
                                    "TotalValue": "1434.00"
                                },
                                {
                                    "OrderId": "10623",
                                    "OrderDate": "2015-08-07",
                                    "NumberOfProducts": "5",
                                    "TotalQuantity": "94",
                                    "TotalValue": "1429.75"
                                },
                                {
                                    "OrderId": "10675",
                                    "OrderDate": "2015-09-19",
                                    "NumberOfProducts": "3",
                                    "TotalQuantity": "70",
                                    "TotalValue": "1423.00"
                                },
                                {
                                    "OrderId": "10644",
                                    "OrderDate": "2015-08-25",
                                    "NumberOfProducts": "3",
                                    "TotalQuantity": "45",
                                    "TotalValue": "1422.00"
                                },
                                {
                                    "OrderId": "10297",
                                    "OrderDate": "2014-09-04",
                                    "NumberOfProducts": "2",
                                    "TotalQuantity": "80",
                                    "TotalValue": "1420.00"
                                },
                                {
                                    "OrderId": "10380",
                                    "OrderDate": "2014-12-12",
                                    "NumberOfProducts": "4",
                                    "TotalQuantity": "74",
                                    "TotalValue": "1419.80"
                                },
                                {
                                    "OrderId": "10283",
                                    "OrderDate": "2014-08-16",
                                    "NumberOfProducts": "4",
                                    "TotalQuantity": "76",
                                    "TotalValue": "1414.80"
                                },
                                {
                                    "OrderId": "10606",
                                    "OrderDate": "2015-07-22",
                                    "NumberOfProducts": "3",
                                    "TotalQuantity": "50",
                                    "TotalValue": "1413.00"
                                },
                                {
                                    "OrderId": "10499",
                                    "OrderDate": "2015-04-08",
                                    "NumberOfProducts": "2",
                                    "TotalQuantity": "45",
                                    "TotalValue": "1412.00"
                                },
                                {
                                    "OrderId": "10968",
                                    "OrderDate": "2016-03-23",
                                    "NumberOfProducts": "3",
                                    "TotalQuantity": "64",
                                    "TotalValue": "1408.00"
                                },
                                {
                                    "OrderId": "10946",
                                    "OrderDate": "2016-03-12",
                                    "NumberOfProducts": "3",
                                    "TotalQuantity": "90",
                                    "TotalValue": "1407.50"
                                },
                                {
                                    "OrderId": "11022",
                                    "OrderDate": "2016-04-14",
                                    "NumberOfProducts": "2",
                                    "TotalQuantity": "65",
                                    "TotalValue": "1402.00"
                                },
                                {
                                    "OrderId": "10624",
                                    "OrderDate": "2015-08-07",
                                    "NumberOfProducts": "3",
                                    "TotalQuantity": "26",
                                    "TotalValue": "1393.24"
                                },
                                {
                                    "OrderId": "10504",
                                    "OrderDate": "2015-04-11",
                                    "NumberOfProducts": "4",
                                    "TotalQuantity": "59",
                                    "TotalValue": "1388.50"
                                },
                                {
                                    "OrderId": "10497",
                                    "OrderDate": "2015-04-04",
                                    "NumberOfProducts": "3",
                                    "TotalQuantity": "64",
                                    "TotalValue": "1380.60"
                                },
                                {
                                    "OrderId": "10635",
                                    "OrderDate": "2015-08-18",
                                    "NumberOfProducts": "3",
                                    "TotalQuantity": "65",
                                    "TotalValue": "1380.25"
                                },
                                {
                                    "OrderId": "10270",
                                    "OrderDate": "2014-08-01",
                                    "NumberOfProducts": "2",
                                    "TotalQuantity": "55",
                                    "TotalValue": "1376.00"
                                },
                                {
                                    "OrderId": "11077",
                                    "OrderDate": "2016-05-06",
                                    "NumberOfProducts": "25",
                                    "TotalQuantity": "72",
                                    "TotalValue": "1374.60"
                                },
                                {
                                    "OrderId": "10357",
                                    "OrderDate": "2014-11-19",
                                    "NumberOfProducts": "3",
                                    "TotalQuantity": "54",
                                    "TotalValue": "1360.00"
                                },
                                {
                                    "OrderId": "10989",
                                    "OrderDate": "2016-03-31",
                                    "NumberOfProducts": "3",
                                    "TotalQuantity": "59",
                                    "TotalValue": "1353.60"
                                },
                                {
                                    "OrderId": "10526",
                                    "OrderDate": "2015-05-05",
                                    "NumberOfProducts": "3",
                                    "TotalQuantity": "48",
                                    "TotalValue": "1344.00"
                                },
                                {
                                    "OrderId": "10779",
                                    "OrderDate": "2015-12-16",
                                    "NumberOfProducts": "2",
                                    "TotalQuantity": "40",
                                    "TotalValue": "1335.00"
                                },
                                {
                                    "OrderId": "10717",
                                    "OrderDate": "2015-10-24",
                                    "NumberOfProducts": "3",
                                    "TotalQuantity": "72",
                                    "TotalValue": "1331.75"
                                },
                                {
                                    "OrderId": "10471",
                                    "OrderDate": "2015-03-11",
                                    "NumberOfProducts": "2",
                                    "TotalQuantity": "50",
                                    "TotalValue": "1328.00"
                                },
                                {
                                    "OrderId": "10681",
                                    "OrderDate": "2015-09-25",
                                    "NumberOfProducts": "3",
                                    "TotalQuantity": "70",
                                    "TotalValue": "1327.00"
                                },
                                {
                                    "OrderId": "11045",
                                    "OrderDate": "2016-04-23",
                                    "NumberOfProducts": "2",
                                    "TotalQuantity": "39",
                                    "TotalValue": "1309.50"
                                },
                                {
                                    "OrderId": "10564",
                                    "OrderDate": "2015-06-10",
                                    "NumberOfProducts": "3",
                                    "TotalQuantity": "47",
                                    "TotalValue": "1299.00"
                                },
                                {
                                    "OrderId": "10728",
                                    "OrderDate": "2015-11-04",
                                    "NumberOfProducts": "4",
                                    "TotalQuantity": "48",
                                    "TotalValue": "1296.75"
                                },
                                {
                                    "OrderId": "10715",
                                    "OrderDate": "2015-10-23",
                                    "NumberOfProducts": "2",
                                    "TotalQuantity": "51",
                                    "TotalValue": "1296.00"
                                },
                                {
                                    "OrderId": "10292",
                                    "OrderDate": "2014-08-28",
                                    "NumberOfProducts": "1",
                                    "TotalQuantity": "20",
                                    "TotalValue": "1296.00"
                                },
                                {
                                    "OrderId": "10665",
                                    "OrderDate": "2015-09-11",
                                    "NumberOfProducts": "3",
                                    "TotalQuantity": "31",
                                    "TotalValue": "1295.00"
                                },
                                {
                                    "OrderId": "10659",
                                    "OrderDate": "2015-09-05",
                                    "NumberOfProducts": "3",
                                    "TotalQuantity": "84",
                                    "TotalValue": "1291.60"
                                },
                                {
                                    "OrderId": "11029",
                                    "OrderDate": "2016-04-16",
                                    "NumberOfProducts": "2",
                                    "TotalQuantity": "32",
                                    "TotalValue": "1286.80"
                                },
                                {
                                    "OrderId": "10388",
                                    "OrderDate": "2014-12-19",
                                    "NumberOfProducts": "3",
                                    "TotalQuantity": "75",
                                    "TotalValue": "1274.00"
                                },
                                {
                                    "OrderId": "10421",
                                    "OrderDate": "2015-01-21",
                                    "NumberOfProducts": "4",
                                    "TotalQuantity": "59",
                                    "TotalValue": "1273.20"
                                },
                                {
                                    "OrderId": "10486",
                                    "OrderDate": "2015-03-26",
                                    "NumberOfProducts": "3",
                                    "TotalQuantity": "46",
                                    "TotalValue": "1272.00"
                                },
                                {
                                    "OrderId": "10627",
                                    "OrderDate": "2015-08-11",
                                    "NumberOfProducts": "2",
                                    "TotalQuantity": "50",
                                    "TotalValue": "1264.50"
                                },
                                {
                                    "OrderId": "10999",
                                    "OrderDate": "2016-04-03",
                                    "NumberOfProducts": "3",
                                    "TotalQuantity": "56",
                                    "TotalValue": "1261.00"
                                },
                                {
                                    "OrderId": "10619",
                                    "OrderDate": "2015-08-04",
                                    "NumberOfProducts": "2",
                                    "TotalQuantity": "82",
                                    "TotalValue": "1260.00"
                                },
                                {
                                    "OrderId": "10560",
                                    "OrderDate": "2015-06-06",
                                    "NumberOfProducts": "2",
                                    "TotalQuantity": "35",
                                    "TotalValue": "1257.30"
                                },
                                {
                                    "OrderId": "10803",
                                    "OrderDate": "2015-12-30",
                                    "NumberOfProducts": "3",
                                    "TotalQuantity": "54",
                                    "TotalValue": "1255.80"
                                },
                                {
                                    "OrderId": "10966",
                                    "OrderDate": "2016-03-20",
                                    "NumberOfProducts": "3",
                                    "TotalQuantity": "32",
                                    "TotalValue": "1255.60"
                                },
                                {
                                    "OrderId": "10837",
                                    "OrderDate": "2016-01-16",
                                    "NumberOfProducts": "4",
                                    "TotalQuantity": "92",
                                    "TotalValue": "1254.00"
                                },
                                {
                                    "OrderId": "10474",
                                    "OrderDate": "2015-03-13",
                                    "NumberOfProducts": "4",
                                    "TotalQuantity": "61",
                                    "TotalValue": "1249.10"
                                },
                                {
                                    "OrderId": "10303",
                                    "OrderDate": "2014-09-11",
                                    "NumberOfProducts": "3",
                                    "TotalQuantity": "85",
                                    "TotalValue": "1242.00"
                                },
                                {
                                    "OrderId": "10712",
                                    "OrderDate": "2015-10-21",
                                    "NumberOfProducts": "2",
                                    "TotalQuantity": "33",
                                    "TotalValue": "1238.40"
                                },
                                {
                                    "OrderId": "10885",
                                    "OrderDate": "2016-02-12",
                                    "NumberOfProducts": "4",
                                    "TotalQuantity": "87",
                                    "TotalValue": "1209.00"
                                },
                                {
                                    "OrderId": "10411",
                                    "OrderDate": "2015-01-10",
                                    "NumberOfProducts": "3",
                                    "TotalQuantity": "74",
                                    "TotalValue": "1208.50"
                                },
                                {
                                    "OrderId": "10653",
                                    "OrderDate": "2015-09-02",
                                    "NumberOfProducts": "2",
                                    "TotalQuantity": "50",
                                    "TotalValue": "1203.50"
                                },
                                {
                                    "OrderId": "10277",
                                    "OrderDate": "2014-08-09",
                                    "NumberOfProducts": "2",
                                    "TotalQuantity": "32",
                                    "TotalValue": "1200.80"
                                },
                                {
                                    "OrderId": "10995",
                                    "OrderDate": "2016-04-02",
                                    "NumberOfProducts": "2",
                                    "TotalQuantity": "24",
                                    "TotalValue": "1196.00"
                                },
                                {
                                    "OrderId": "10407",
                                    "OrderDate": "2015-01-07",
                                    "NumberOfProducts": "3",
                                    "TotalQuantity": "60",
                                    "TotalValue": "1194.00"
                                },
                                {
                                    "OrderId": "10319",
                                    "OrderDate": "2014-10-02",
                                    "NumberOfProducts": "3",
                                    "TotalQuantity": "52",
                                    "TotalValue": "1191.20"
                                },
                                {
                                    "OrderId": "10265",
                                    "OrderDate": "2014-07-25",
                                    "NumberOfProducts": "2",
                                    "TotalQuantity": "50",
                                    "TotalValue": "1176.00"
                                },
                                {
                                    "OrderId": "10929",
                                    "OrderDate": "2016-03-05",
                                    "NumberOfProducts": "3",
                                    "TotalQuantity": "124",
                                    "TotalValue": "1174.75"
                                },
                                {
                                    "OrderId": "10370",
                                    "OrderDate": "2014-12-03",
                                    "NumberOfProducts": "3",
                                    "TotalQuantity": "65",
                                    "TotalValue": "1174.00"
                                },
                                {
                                    "OrderId": "11027",
                                    "OrderDate": "2016-04-16",
                                    "NumberOfProducts": "2",
                                    "TotalQuantity": "51",
                                    "TotalValue": "1170.30"
                                },
                                {
                                    "OrderId": "10328",
                                    "OrderDate": "2014-10-14",
                                    "NumberOfProducts": "3",
                                    "TotalQuantity": "59",
                                    "TotalValue": "1168.00"
                                },
                                {
                                    "OrderId": "10557",
                                    "OrderDate": "2015-06-03",
                                    "NumberOfProducts": "2",
                                    "TotalQuantity": "50",
                                    "TotalValue": "1152.50"
                                },
                                {
                                    "OrderId": "10690",
                                    "OrderDate": "2015-10-02",
                                    "NumberOfProducts": "2",
                                    "TotalQuantity": "50",
                                    "TotalValue": "1150.00"
                                },
                                {
                                    "OrderId": "10820",
                                    "OrderDate": "2016-01-07",
                                    "NumberOfProducts": "1",
                                    "TotalQuantity": "30",
                                    "TotalValue": "1140.00"
                                },
                                {
                                    "OrderId": "10590",
                                    "OrderDate": "2015-07-07",
                                    "NumberOfProducts": "2",
                                    "TotalQuantity": "80",
                                    "TotalValue": "1140.00"
                                },
                                {
                                    "OrderId": "10944",
                                    "OrderDate": "2016-03-12",
                                    "NumberOfProducts": "3",
                                    "TotalQuantity": "41",
                                    "TotalValue": "1139.10"
                                },
                                {
                                    "OrderId": "10781",
                                    "OrderDate": "2015-12-17",
                                    "NumberOfProducts": "3",
                                    "TotalQuantity": "58",
                                    "TotalValue": "1132.35"
                                },
                                {
                                    "OrderId": "10719",
                                    "OrderDate": "2015-10-27",
                                    "NumberOfProducts": "3",
                                    "TotalQuantity": "55",
                                    "TotalValue": "1125.67"
                                },
                                {
                                    "OrderId": "10469",
                                    "OrderDate": "2015-03-10",
                                    "NumberOfProducts": "3",
                                    "TotalQuantity": "77",
                                    "TotalValue": "1125.50"
                                },
                                {
                                    "OrderId": "10919",
                                    "OrderDate": "2016-03-02",
                                    "NumberOfProducts": "3",
                                    "TotalQuantity": "68",
                                    "TotalValue": "1122.80"
                                },
                                {
                                    "OrderId": "10961",
                                    "OrderDate": "2016-03-19",
                                    "NumberOfProducts": "2",
                                    "TotalQuantity": "66",
                                    "TotalValue": "1122.00"
                                },
                                {
                                    "OrderId": "10257",
                                    "OrderDate": "2014-07-16",
                                    "NumberOfProducts": "3",
                                    "TotalQuantity": "46",
                                    "TotalValue": "1119.90"
                                },
                                {
                                    "OrderId": "10846",
                                    "OrderDate": "2016-01-22",
                                    "NumberOfProducts": "3",
                                    "TotalQuantity": "71",
                                    "TotalValue": "1112.00"
                                },
                                {
                                    "OrderId": "10356",
                                    "OrderDate": "2014-11-18",
                                    "NumberOfProducts": "3",
                                    "TotalQuantity": "62",
                                    "TotalValue": "1106.40"
                                },
                                {
                                    "OrderId": "10268",
                                    "OrderDate": "2014-07-30",
                                    "NumberOfProducts": "2",
                                    "TotalQuantity": "14",
                                    "TotalValue": "1101.20"
                                },
                                {
                                    "OrderId": "11047",
                                    "OrderDate": "2016-04-24",
                                    "NumberOfProducts": "2",
                                    "TotalQuantity": "55",
                                    "TotalValue": "1090.50"
                                },
                                {
                                    "OrderId": "10643",
                                    "OrderDate": "2015-08-25",
                                    "NumberOfProducts": "3",
                                    "TotalQuantity": "38",
                                    "TotalValue": "1086.00"
                                },
                                {
                                    "OrderId": "10749",
                                    "OrderDate": "2015-11-20",
                                    "NumberOfProducts": "3",
                                    "TotalQuantity": "31",
                                    "TotalValue": "1080.00"
                                },
                                {
                                    "OrderId": "10439",
                                    "OrderDate": "2015-02-07",
                                    "NumberOfProducts": "4",
                                    "TotalQuantity": "67",
                                    "TotalValue": "1078.00"
                                },
                                {
                                    "OrderId": "11000",
                                    "OrderDate": "2016-04-06",
                                    "NumberOfProducts": "3",
                                    "TotalQuantity": "85",
                                    "TotalValue": "1075.00"
                                },
                                {
                                    "OrderId": "10697",
                                    "OrderDate": "2015-10-08",
                                    "NumberOfProducts": "4",
                                    "TotalQuantity": "76",
                                    "TotalValue": "1073.90"
                                },
                                {
                                    "OrderId": "10580",
                                    "OrderDate": "2015-06-26",
                                    "NumberOfProducts": "3",
                                    "TotalQuantity": "54",
                                    "TotalValue": "1067.10"
                                },
                                {
                                    "OrderId": "10608",
                                    "OrderDate": "2015-07-23",
                                    "NumberOfProducts": "1",
                                    "TotalQuantity": "28",
                                    "TotalValue": "1064.00"
                                },
                                {
                                    "OrderId": "10387",
                                    "OrderDate": "2014-12-18",
                                    "NumberOfProducts": "4",
                                    "TotalQuantity": "48",
                                    "TotalValue": "1058.40"
                                },
                                {
                                    "OrderId": "11076",
                                    "OrderDate": "2016-05-06",
                                    "NumberOfProducts": "3",
                                    "TotalQuantity": "50",
                                    "TotalValue": "1057.00"
                                },
                                {
                                    "OrderId": "10849",
                                    "OrderDate": "2016-01-23",
                                    "NumberOfProducts": "2",
                                    "TotalQuantity": "67",
                                    "TotalValue": "1052.14"
                                },
                                {
                                    "OrderId": "10472",
                                    "OrderDate": "2015-03-12",
                                    "NumberOfProducts": "2",
                                    "TotalQuantity": "98",
                                    "TotalValue": "1051.20"
                                },
                                {
                                    "OrderId": "10296",
                                    "OrderDate": "2014-09-03",
                                    "NumberOfProducts": "3",
                                    "TotalQuantity": "57",
                                    "TotalValue": "1050.60"
                                },
                                {
                                    "OrderId": "10444",
                                    "OrderDate": "2015-02-12",
                                    "NumberOfProducts": "4",
                                    "TotalQuantity": "63",
                                    "TotalValue": "1031.70"
                                },
                                {
                                    "OrderId": "10825",
                                    "OrderDate": "2016-01-09",
                                    "NumberOfProducts": "2",
                                    "TotalQuantity": "32",
                                    "TotalValue": "1030.76"
                                },
                                {
                                    "OrderId": "11026",
                                    "OrderDate": "2016-04-15",
                                    "NumberOfProducts": "2",
                                    "TotalQuantity": "18",
                                    "TotalValue": "1030.00"
                                },
                                {
                                    "OrderId": "10423",
                                    "OrderDate": "2015-01-23",
                                    "NumberOfProducts": "2",
                                    "TotalQuantity": "34",
                                    "TotalValue": "1020.00"
                                },
                                {
                                    "OrderId": "10377",
                                    "OrderDate": "2014-12-09",
                                    "NumberOfProducts": "2",
                                    "TotalQuantity": "40",
                                    "TotalValue": "1016.00"
                                },
                                {
                                    "OrderId": "10902",
                                    "OrderDate": "2016-02-23",
                                    "NumberOfProducts": "2",
                                    "TotalQuantity": "36",
                                    "TotalValue": "1015.80"
                                },
                                {
                                    "OrderId": "10982",
                                    "OrderDate": "2016-03-27",
                                    "NumberOfProducts": "2",
                                    "TotalQuantity": "29",
                                    "TotalValue": "1014.00"
                                },
                                {
                                    "OrderId": "10833",
                                    "OrderDate": "2016-01-15",
                                    "NumberOfProducts": "3",
                                    "TotalQuantity": "38",
                                    "TotalValue": "1007.70"
                                },
                                {
                                    "OrderId": "10403",
                                    "OrderDate": "2015-01-03",
                                    "NumberOfProducts": "2",
                                    "TotalQuantity": "91",
                                    "TotalValue": "1005.90"
                                },
                                {
                                    "OrderId": "10736",
                                    "OrderDate": "2015-11-11",
                                    "NumberOfProducts": "2",
                                    "TotalQuantity": "60",
                                    "TotalValue": "997.00"
                                },
                                {
                                    "OrderId": "10696",
                                    "OrderDate": "2015-10-08",
                                    "NumberOfProducts": "2",
                                    "TotalQuantity": "38",
                                    "TotalValue": "996.00"
                                },
                                {
                                    "OrderId": "10994",
                                    "OrderDate": "2016-04-02",
                                    "NumberOfProducts": "1",
                                    "TotalQuantity": "18",
                                    "TotalValue": "990.00"
                                },
                                {
                                    "OrderId": "10882",
                                    "OrderDate": "2016-02-11",
                                    "NumberOfProducts": "3",
                                    "TotalQuantity": "77",
                                    "TotalValue": "988.40"
                                },
                                {
                                    "OrderId": "10326",
                                    "OrderDate": "2014-10-10",
                                    "NumberOfProducts": "3",
                                    "TotalQuantity": "90",
                                    "TotalValue": "982.00"
                                },
                                {
                                    "OrderId": "10569",
                                    "OrderDate": "2015-06-16",
                                    "NumberOfProducts": "2",
                                    "TotalQuantity": "65",
                                    "TotalValue": "977.50"
                                },
                                {
                                    "OrderId": "10842",
                                    "OrderDate": "2016-01-20",
                                    "NumberOfProducts": "4",
                                    "TotalQuantity": "52",
                                    "TotalValue": "975.00"
                                },
                                {
                                    "OrderId": "10721",
                                    "OrderDate": "2015-10-29",
                                    "NumberOfProducts": "1",
                                    "TotalQuantity": "50",
                                    "TotalValue": "972.50"
                                },
                                {
                                    "OrderId": "10563",
                                    "OrderDate": "2015-06-10",
                                    "NumberOfProducts": "2",
                                    "TotalQuantity": "95",
                                    "TotalValue": "965.00"
                                },
                                {
                                    "OrderId": "11011",
                                    "OrderDate": "2016-04-09",
                                    "NumberOfProducts": "2",
                                    "TotalQuantity": "60",
                                    "TotalValue": "960.00"
                                },
                                {
                                    "OrderId": "10379",
                                    "OrderDate": "2014-12-11",
                                    "NumberOfProducts": "3",
                                    "TotalQuantity": "44",
                                    "TotalValue": "959.20"
                                },
                                {
                                    "OrderId": "10913",
                                    "OrderDate": "2016-02-26",
                                    "NumberOfProducts": "3",
                                    "TotalQuantity": "85",
                                    "TotalValue": "958.75"
                                },
                                {
                                    "OrderId": "10677",
                                    "OrderDate": "2015-09-22",
                                    "NumberOfProducts": "2",
                                    "TotalQuantity": "38",
                                    "TotalValue": "956.90"
                                },
                                {
                                    "OrderId": "10304",
                                    "OrderDate": "2014-09-12",
                                    "NumberOfProducts": "3",
                                    "TotalQuantity": "42",
                                    "TotalValue": "954.40"
                                },
                                {
                                    "OrderId": "10333",
                                    "OrderDate": "2014-10-18",
                                    "NumberOfProducts": "3",
                                    "TotalQuantity": "60",
                                    "TotalValue": "954.00"
                                },
                                {
                                    "OrderId": "10364",
                                    "OrderDate": "2014-11-26",
                                    "NumberOfProducts": "2",
                                    "TotalQuantity": "35",
                                    "TotalValue": "950.00"
                                },
                                {
                                    "OrderId": "10529",
                                    "OrderDate": "2015-05-07",
                                    "NumberOfProducts": "3",
                                    "TotalQuantity": "44",
                                    "TotalValue": "946.00"
                                },
                                {
                                    "OrderId": "10640",
                                    "OrderDate": "2015-08-21",
                                    "NumberOfProducts": "2",
                                    "TotalQuantity": "35",
                                    "TotalValue": "945.00"
                                },
                                {
                                    "OrderId": "10923",
                                    "OrderDate": "2016-03-03",
                                    "NumberOfProducts": "3",
                                    "TotalQuantity": "44",
                                    "TotalValue": "936.00"
                                },
                                {
                                    "OrderId": "10901",
                                    "OrderDate": "2016-02-23",
                                    "NumberOfProducts": "2",
                                    "TotalQuantity": "60",
                                    "TotalValue": "934.50"
                                },
                                {
                                    "OrderId": "10338",
                                    "OrderDate": "2014-10-25",
                                    "NumberOfProducts": "2",
                                    "TotalQuantity": "35",
                                    "TotalValue": "934.50"
                                },
                                {
                                    "OrderId": "10903",
                                    "OrderDate": "2016-02-24",
                                    "NumberOfProducts": "3",
                                    "TotalQuantity": "81",
                                    "TotalValue": "932.05"
                                },
                                {
                                    "OrderId": "10828",
                                    "OrderDate": "2016-01-13",
                                    "NumberOfProducts": "2",
                                    "TotalQuantity": "7",
                                    "TotalValue": "932.00"
                                },
                                {
                                    "OrderId": "10848",
                                    "OrderDate": "2016-01-23",
                                    "NumberOfProducts": "2",
                                    "TotalQuantity": "33",
                                    "TotalValue": "931.50"
                                },
                                {
                                    "OrderId": "11066",
                                    "OrderDate": "2016-05-01",
                                    "NumberOfProducts": "3",
                                    "TotalQuantity": "80",
                                    "TotalValue": "928.75"
                                },
                                {
                                    "OrderId": "10347",
                                    "OrderDate": "2014-11-06",
                                    "NumberOfProducts": "4",
                                    "TotalQuantity": "70",
                                    "TotalValue": "928.00"
                                },
                                {
                                    "OrderId": "10487",
                                    "OrderDate": "2015-03-26",
                                    "NumberOfProducts": "3",
                                    "TotalQuantity": "59",
                                    "TotalValue": "925.10"
                                },
                                {
                                    "OrderId": "10287",
                                    "OrderDate": "2014-08-22",
                                    "NumberOfProducts": "3",
                                    "TotalQuantity": "75",
                                    "TotalValue": "924.00"
                                },
                                {
                                    "OrderId": "10933",
                                    "OrderDate": "2016-03-06",
                                    "NumberOfProducts": "2",
                                    "TotalQuantity": "32",
                                    "TotalValue": "920.60"
                                },
                                {
                                    "OrderId": "10671",
                                    "OrderDate": "2015-09-17",
                                    "NumberOfProducts": "3",
                                    "TotalQuantity": "32",
                                    "TotalValue": "920.10"
                                },
                                {
                                    "OrderId": "10744",
                                    "OrderDate": "2015-11-17",
                                    "NumberOfProducts": "1",
                                    "TotalQuantity": "50",
                                    "TotalValue": "920.00"
                                },
                                {
                                    "OrderId": "10839",
                                    "OrderDate": "2016-01-19",
                                    "NumberOfProducts": "2",
                                    "TotalQuantity": "45",
                                    "TotalValue": "919.50"
                                },
                                {
                                    "OrderId": "10630",
                                    "OrderDate": "2015-08-13",
                                    "NumberOfProducts": "2",
                                    "TotalQuantity": "47",
                                    "TotalValue": "918.00"
                                },
                                {
                                    "OrderId": "10876",
                                    "OrderDate": "2016-02-09",
                                    "NumberOfProducts": "2",
                                    "TotalQuantity": "41",
                                    "TotalValue": "917.00"
                                },
                                {
                                    "OrderId": "10447",
                                    "OrderDate": "2015-02-14",
                                    "NumberOfProducts": "3",
                                    "TotalQuantity": "77",
                                    "TotalValue": "914.40"
                                },
                                {
                                    "OrderId": "10494",
                                    "OrderDate": "2015-04-02",
                                    "NumberOfProducts": "1",
                                    "TotalQuantity": "30",
                                    "TotalValue": "912.00"
                                },
                                {
                                    "OrderId": "10976",
                                    "OrderDate": "2016-03-25",
                                    "NumberOfProducts": "1",
                                    "TotalQuantity": "20",
                                    "TotalValue": "912.00"
                                },
                                {
                                    "OrderId": "10967",
                                    "OrderDate": "2016-03-23",
                                    "NumberOfProducts": "2",
                                    "TotalQuantity": "52",
                                    "TotalValue": "910.40"
                                },
                                {
                                    "OrderId": "11050",
                                    "OrderDate": "2016-04-27",
                                    "NumberOfProducts": "1",
                                    "TotalQuantity": "50",
                                    "TotalValue": "900.00"
                                },
                                {
                                    "OrderId": "10383",
                                    "OrderDate": "2014-12-16",
                                    "NumberOfProducts": "3",
                                    "TotalQuantity": "55",
                                    "TotalValue": "899.00"
                                },
                                {
                                    "OrderId": "10492",
                                    "OrderDate": "2015-04-01",
                                    "NumberOfProducts": "2",
                                    "TotalQuantity": "80",
                                    "TotalValue": "896.00"
                                },
                                {
                                    "OrderId": "10507",
                                    "OrderDate": "2015-04-15",
                                    "NumberOfProducts": "2",
                                    "TotalQuantity": "30",
                                    "TotalValue": "881.25"
                                },
                                {
                                    "OrderId": "10552",
                                    "OrderDate": "2015-05-29",
                                    "NumberOfProducts": "2",
                                    "TotalQuantity": "48",
                                    "TotalValue": "880.50"
                                },
                                {
                                    "OrderId": "10692",
                                    "OrderDate": "2015-10-03",
                                    "NumberOfProducts": "1",
                                    "TotalQuantity": "20",
                                    "TotalValue": "878.00"
                                },
                                {
                                    "OrderId": "10774",
                                    "OrderDate": "2015-12-11",
                                    "NumberOfProducts": "2",
                                    "TotalQuantity": "52",
                                    "TotalValue": "875.00"
                                },
                                {
                                    "OrderId": "10642",
                                    "OrderDate": "2015-08-22",
                                    "NumberOfProducts": "2",
                                    "TotalQuantity": "50",
                                    "TotalValue": "870.00"
                                },
                                {
                                    "OrderId": "10385",
                                    "OrderDate": "2014-12-17",
                                    "NumberOfProducts": "3",
                                    "TotalQuantity": "38",
                                    "TotalValue": "864.00"
                                },
                                {
                                    "OrderId": "10890",
                                    "OrderDate": "2016-02-16",
                                    "NumberOfProducts": "3",
                                    "TotalQuantity": "39",
                                    "TotalValue": "860.10"
                                },
                                {
                                    "OrderId": "10911",
                                    "OrderDate": "2016-02-26",
                                    "NumberOfProducts": "3",
                                    "TotalQuantity": "37",
                                    "TotalValue": "858.00"
                                },
                                {
                                    "OrderId": "11058",
                                    "OrderDate": "2016-04-29",
                                    "NumberOfProducts": "3",
                                    "TotalQuantity": "28",
                                    "TotalValue": "858.00"
                                },
                                {
                                    "OrderId": "10811",
                                    "OrderDate": "2016-01-02",
                                    "NumberOfProducts": "3",
                                    "TotalQuantity": "63",
                                    "TotalValue": "852.00"
                                },
                                {
                                    "OrderId": "10433",
                                    "OrderDate": "2015-02-03",
                                    "NumberOfProducts": "1",
                                    "TotalQuantity": "28",
                                    "TotalValue": "851.20"
                                },
                                {
                                    "OrderId": "10835",
                                    "OrderDate": "2016-01-15",
                                    "NumberOfProducts": "2",
                                    "TotalQuantity": "17",
                                    "TotalValue": "851.00"
                                },
                                {
                                    "OrderId": "10790",
                                    "OrderDate": "2015-12-22",
                                    "NumberOfProducts": "2",
                                    "TotalQuantity": "23",
                                    "TotalValue": "850.00"
                                },
                                {
                                    "OrderId": "10293",
                                    "OrderDate": "2014-08-29",
                                    "NumberOfProducts": "4",
                                    "TotalQuantity": "33",
                                    "TotalValue": "848.70"
                                },
                                {
                                    "OrderId": "10965",
                                    "OrderDate": "2016-03-20",
                                    "NumberOfProducts": "1",
                                    "TotalQuantity": "16",
                                    "TotalValue": "848.00"
                                },
                                {
                                    "OrderId": "10525",
                                    "OrderDate": "2015-05-02",
                                    "NumberOfProducts": "2",
                                    "TotalQuantity": "45",
                                    "TotalValue": "846.00"
                                },
                                {
                                    "OrderId": "10397",
                                    "OrderDate": "2014-12-27",
                                    "NumberOfProducts": "2",
                                    "TotalQuantity": "28",
                                    "TotalValue": "843.20"
                                },
                                {
                                    "OrderId": "10827",
                                    "OrderDate": "2016-01-12",
                                    "NumberOfProducts": "2",
                                    "TotalQuantity": "36",
                                    "TotalValue": "843.00"
                                },
                                {
                                    "OrderId": "10576",
                                    "OrderDate": "2015-06-23",
                                    "NumberOfProducts": "3",
                                    "TotalQuantity": "51",
                                    "TotalValue": "838.45"
                                },
                                {
                                    "OrderId": "10931",
                                    "OrderDate": "2016-03-06",
                                    "NumberOfProducts": "2",
                                    "TotalQuantity": "72",
                                    "TotalValue": "837.00"
                                },
                                {
                                    "OrderId": "10556",
                                    "OrderDate": "2015-06-03",
                                    "NumberOfProducts": "1",
                                    "TotalQuantity": "24",
                                    "TotalValue": "835.20"
                                },
                                {
                                    "OrderId": "10367",
                                    "OrderDate": "2014-11-28",
                                    "NumberOfProducts": "4",
                                    "TotalQuantity": "76",
                                    "TotalValue": "834.20"
                                },
                                {
                                    "OrderId": "10818",
                                    "OrderDate": "2016-01-07",
                                    "NumberOfProducts": "2",
                                    "TotalQuantity": "40",
                                    "TotalValue": "833.00"
                                },
                                {
                                    "OrderId": "10502",
                                    "OrderDate": "2015-04-10",
                                    "NumberOfProducts": "3",
                                    "TotalQuantity": "57",
                                    "TotalValue": "816.30"
                                },
                                {
                                    "OrderId": "10591",
                                    "OrderDate": "2015-07-07",
                                    "NumberOfProducts": "3",
                                    "TotalQuantity": "74",
                                    "TotalValue": "812.50"
                                },
                                {
                                    "OrderId": "10611",
                                    "OrderDate": "2015-07-25",
                                    "NumberOfProducts": "3",
                                    "TotalQuantity": "31",
                                    "TotalValue": "808.00"
                                },
                                {
                                    "OrderId": "10587",
                                    "OrderDate": "2015-07-02",
                                    "NumberOfProducts": "3",
                                    "TotalQuantity": "46",
                                    "TotalValue": "807.38"
                                },
                                {
                                    "OrderId": "10410",
                                    "OrderDate": "2015-01-10",
                                    "NumberOfProducts": "2",
                                    "TotalQuantity": "65",
                                    "TotalValue": "802.00"
                                },
                                {
                                    "OrderId": "10685",
                                    "OrderDate": "2015-09-29",
                                    "NumberOfProducts": "3",
                                    "TotalQuantity": "39",
                                    "TotalValue": "801.10"
                                },
                                {
                                    "OrderId": "10597",
                                    "OrderDate": "2015-07-11",
                                    "NumberOfProducts": "3",
                                    "TotalQuantity": "67",
                                    "TotalValue": "800.10"
                                },
                                {
                                    "OrderId": "10927",
                                    "OrderDate": "2016-03-05",
                                    "NumberOfProducts": "3",
                                    "TotalQuantity": "30",
                                    "TotalValue": "800.00"
                                },
                                {
                                    "OrderId": "10983",
                                    "OrderDate": "2016-03-27",
                                    "NumberOfProducts": "2",
                                    "TotalQuantity": "99",
                                    "TotalValue": "796.50"
                                },
                                {
                                    "OrderId": "10532",
                                    "OrderDate": "2015-05-09",
                                    "NumberOfProducts": "2",
                                    "TotalQuantity": "39",
                                    "TotalValue": "796.35"
                                },
                                {
                                    "OrderId": "10958",
                                    "OrderDate": "2016-03-18",
                                    "NumberOfProducts": "3",
                                    "TotalQuantity": "31",
                                    "TotalValue": "781.00"
                                },
                                {
                                    "OrderId": "10788",
                                    "OrderDate": "2015-12-22",
                                    "NumberOfProducts": "2",
                                    "TotalQuantity": "90",
                                    "TotalValue": "770.00"
                                },
                                {
                                    "OrderId": "10574",
                                    "OrderDate": "2015-06-19",
                                    "NumberOfProducts": "4",
                                    "TotalQuantity": "32",
                                    "TotalValue": "764.30"
                                },
                                {
                                    "OrderId": "10621",
                                    "OrderDate": "2015-08-05",
                                    "NumberOfProducts": "4",
                                    "TotalQuantity": "50",
                                    "TotalValue": "758.50"
                                },
                                {
                                    "OrderId": "10480",
                                    "OrderDate": "2015-03-20",
                                    "NumberOfProducts": "2",
                                    "TotalQuantity": "42",
                                    "TotalValue": "756.00"
                                },
                                {
                                    "OrderId": "10301",
                                    "OrderDate": "2014-09-09",
                                    "NumberOfProducts": "2",
                                    "TotalQuantity": "30",
                                    "TotalValue": "755.00"
                                },
                                {
                                    "OrderId": "11038",
                                    "OrderDate": "2016-04-21",
                                    "NumberOfProducts": "3",
                                    "TotalQuantity": "37",
                                    "TotalValue": "751.00"
                                },
                                {
                                    "OrderId": "10896",
                                    "OrderDate": "2016-02-19",
                                    "NumberOfProducts": "2",
                                    "TotalQuantity": "31",
                                    "TotalValue": "750.50"
                                },
                                {
                                    "OrderId": "10939",
                                    "OrderDate": "2016-03-10",
                                    "NumberOfProducts": "2",
                                    "TotalQuantity": "50",
                                    "TotalValue": "750.00"
                                },
                                {
                                    "OrderId": "10550",
                                    "OrderDate": "2015-05-28",
                                    "NumberOfProducts": "4",
                                    "TotalQuantity": "34",
                                    "TotalValue": "749.00"
                                },
                                {
                                    "OrderId": "11020",
                                    "OrderDate": "2016-04-14",
                                    "NumberOfProducts": "1",
                                    "TotalQuantity": "24",
                                    "TotalValue": "744.00"
                                },
                                {
                                    "OrderId": "10922",
                                    "OrderDate": "2016-03-03",
                                    "NumberOfProducts": "2",
                                    "TotalQuantity": "50",
                                    "TotalValue": "742.50"
                                },
                                {
                                    "OrderId": "10850",
                                    "OrderDate": "2016-01-23",
                                    "NumberOfProducts": "3",
                                    "TotalQuantity": "54",
                                    "TotalValue": "740.00"
                                },
                                {
                                    "OrderId": "10844",
                                    "OrderDate": "2016-01-21",
                                    "NumberOfProducts": "1",
                                    "TotalQuantity": "35",
                                    "TotalValue": "735.00"
                                },
                                {
                                    "OrderId": "10826",
                                    "OrderDate": "2016-01-12",
                                    "NumberOfProducts": "2",
                                    "TotalQuantity": "50",
                                    "TotalValue": "730.00"
                                },
                                {
                                    "OrderId": "10875",
                                    "OrderDate": "2016-02-06",
                                    "NumberOfProducts": "3",
                                    "TotalQuantity": "61",
                                    "TotalValue": "729.50"
                                },
                                {
                                    "OrderId": "10264",
                                    "OrderDate": "2014-07-24",
                                    "NumberOfProducts": "2",
                                    "TotalQuantity": "60",
                                    "TotalValue": "724.50"
                                },
                                {
                                    "OrderId": "10416",
                                    "OrderDate": "2015-01-16",
                                    "NumberOfProducts": "3",
                                    "TotalQuantity": "50",
                                    "TotalValue": "720.00"
                                },
                                {
                                    "OrderId": "10780",
                                    "OrderDate": "2015-12-16",
                                    "NumberOfProducts": "2",
                                    "TotalQuantity": "50",
                                    "TotalValue": "720.00"
                                },
                                {
                                    "OrderId": "10468",
                                    "OrderDate": "2015-03-07",
                                    "NumberOfProducts": "2",
                                    "TotalQuantity": "23",
                                    "TotalValue": "717.60"
                                },
                                {
                                    "OrderId": "10975",
                                    "OrderDate": "2016-03-25",
                                    "NumberOfProducts": "2",
                                    "TotalQuantity": "26",
                                    "TotalValue": "717.50"
                                },
                                {
                                    "OrderId": "10350",
                                    "OrderDate": "2014-11-11",
                                    "NumberOfProducts": "2",
                                    "TotalQuantity": "33",
                                    "TotalValue": "713.40"
                                },
                                {
                                    "OrderId": "10463",
                                    "OrderDate": "2015-03-04",
                                    "NumberOfProducts": "2",
                                    "TotalQuantity": "71",
                                    "TotalValue": "713.30"
                                },
                                {
                                    "OrderId": "10565",
                                    "OrderDate": "2015-06-11",
                                    "NumberOfProducts": "2",
                                    "TotalQuantity": "43",
                                    "TotalValue": "711.00"
                                },
                                {
                                    "OrderId": "10943",
                                    "OrderDate": "2016-03-11",
                                    "NumberOfProducts": "3",
                                    "TotalQuantity": "51",
                                    "TotalValue": "711.00"
                                },
                                {
                                    "OrderId": "10716",
                                    "OrderDate": "2015-10-24",
                                    "NumberOfProducts": "3",
                                    "TotalQuantity": "22",
                                    "TotalValue": "706.00"
                                },
                                {
                                    "OrderId": "10483",
                                    "OrderDate": "2015-03-24",
                                    "NumberOfProducts": "2",
                                    "TotalQuantity": "65",
                                    "TotalValue": "704.00"
                                },
                                {
                                    "OrderId": "10661",
                                    "OrderDate": "2015-09-09",
                                    "NumberOfProducts": "2",
                                    "TotalQuantity": "52",
                                    "TotalValue": "703.25"
                                },
                                {
                                    "OrderId": "11009",
                                    "OrderDate": "2016-04-08",
                                    "NumberOfProducts": "3",
                                    "TotalQuantity": "39",
                                    "TotalValue": "702.00"
                                },
                                {
                                    "OrderId": "10935",
                                    "OrderDate": "2016-03-09",
                                    "NumberOfProducts": "3",
                                    "TotalQuantity": "33",
                                    "TotalValue": "700.00"
                                },
                                {
                                    "OrderId": "10908",
                                    "OrderDate": "2016-02-26",
                                    "NumberOfProducts": "2",
                                    "TotalQuantity": "34",
                                    "TotalValue": "698.00"
                                },
                                {
                                    "OrderId": "10668",
                                    "OrderDate": "2015-09-15",
                                    "NumberOfProducts": "3",
                                    "TotalQuantity": "27",
                                    "TotalValue": "694.75"
                                },
                                {
                                    "OrderId": "10916",
                                    "OrderDate": "2016-02-27",
                                    "NumberOfProducts": "3",
                                    "TotalQuantity": "32",
                                    "TotalValue": "686.70"
                                },
                                {
                                    "OrderId": "10998",
                                    "OrderDate": "2016-04-03",
                                    "NumberOfProducts": "4",
                                    "TotalQuantity": "69",
                                    "TotalValue": "686.00"
                                },
                                {
                                    "OrderId": "10821",
                                    "OrderDate": "2016-01-08",
                                    "NumberOfProducts": "2",
                                    "TotalQuantity": "26",
                                    "TotalValue": "678.00"
                                },
                                {
                                    "OrderId": "10956",
                                    "OrderDate": "2016-03-17",
                                    "NumberOfProducts": "3",
                                    "TotalQuantity": "34",
                                    "TotalValue": "677.00"
                                },
                                {
                                    "OrderId": "10493",
                                    "OrderDate": "2015-04-02",
                                    "NumberOfProducts": "3",
                                    "TotalQuantity": "35",
                                    "TotalValue": "676.00"
                                },
                                {
                                    "OrderId": "10269",
                                    "OrderDate": "2014-07-31",
                                    "NumberOfProducts": "2",
                                    "TotalQuantity": "80",
                                    "TotalValue": "676.00"
                                },
                                {
                                    "OrderId": "10477",
                                    "OrderDate": "2015-03-17",
                                    "NumberOfProducts": "3",
                                    "TotalQuantity": "56",
                                    "TotalValue": "672.00"
                                },
                                {
                                    "OrderId": "10656",
                                    "OrderDate": "2015-09-04",
                                    "NumberOfProducts": "3",
                                    "TotalQuantity": "37",
                                    "TotalValue": "671.35"
                                },
                                {
                                    "OrderId": "10251",
                                    "OrderDate": "2014-07-08",
                                    "NumberOfProducts": "3",
                                    "TotalQuantity": "41",
                                    "TotalValue": "670.80"
                                },
                                {
                                    "OrderId": "10909",
                                    "OrderDate": "2016-02-26",
                                    "NumberOfProducts": "3",
                                    "TotalQuantity": "32",
                                    "TotalValue": "670.00"
                                },
                                {
                                    "OrderId": "10654",
                                    "OrderDate": "2015-09-02",
                                    "NumberOfProducts": "3",
                                    "TotalQuantity": "38",
                                    "TotalValue": "668.70"
                                },
                                {
                                    "OrderId": "10679",
                                    "OrderDate": "2015-09-23",
                                    "NumberOfProducts": "1",
                                    "TotalQuantity": "12",
                                    "TotalValue": "660.00"
                                },
                                {
                                    "OrderId": "10856",
                                    "OrderDate": "2016-01-28",
                                    "NumberOfProducts": "2",
                                    "TotalQuantity": "40",
                                    "TotalValue": "660.00"
                                },
                                {
                                    "OrderId": "10456",
                                    "OrderDate": "2015-02-25",
                                    "NumberOfProducts": "2",
                                    "TotalQuantity": "61",
                                    "TotalValue": "656.00"
                                },
                                {
                                    "OrderId": "10726",
                                    "OrderDate": "2015-11-03",
                                    "NumberOfProducts": "2",
                                    "TotalQuantity": "30",
                                    "TotalValue": "655.00"
                                },
                                {
                                    "OrderId": "10427",
                                    "OrderDate": "2015-01-27",
                                    "NumberOfProducts": "1",
                                    "TotalQuantity": "35",
                                    "TotalValue": "651.00"
                                },
                                {
                                    "OrderId": "10858",
                                    "OrderDate": "2016-01-29",
                                    "NumberOfProducts": "3",
                                    "TotalQuantity": "19",
                                    "TotalValue": "649.00"
                                },
                                {
                                    "OrderId": "10813",
                                    "OrderDate": "2016-01-05",
                                    "NumberOfProducts": "2",
                                    "TotalQuantity": "47",
                                    "TotalValue": "648.00"
                                },
                                {
                                    "OrderId": "10571",
                                    "OrderDate": "2015-06-17",
                                    "NumberOfProducts": "2",
                                    "TotalQuantity": "39",
                                    "TotalValue": "647.75"
                                },
                                {
                                    "OrderId": "11010",
                                    "OrderDate": "2016-04-09",
                                    "NumberOfProducts": "2",
                                    "TotalQuantity": "30",
                                    "TotalValue": "645.00"
                                },
                                {
                                    "OrderId": "10937",
                                    "OrderDate": "2016-03-10",
                                    "NumberOfProducts": "2",
                                    "TotalQuantity": "28",
                                    "TotalValue": "644.80"
                                },
                                {
                                    "OrderId": "10695",
                                    "OrderDate": "2015-10-07",
                                    "NumberOfProducts": "3",
                                    "TotalQuantity": "34",
                                    "TotalValue": "642.00"
                                },
                                {
                                    "OrderId": "10724",
                                    "OrderDate": "2015-10-30",
                                    "NumberOfProducts": "2",
                                    "TotalQuantity": "21",
                                    "TotalValue": "638.50"
                                },
                                {
                                    "OrderId": "10647",
                                    "OrderDate": "2015-08-27",
                                    "NumberOfProducts": "2",
                                    "TotalQuantity": "50",
                                    "TotalValue": "636.00"
                                },
                                {
                                    "OrderId": "10435",
                                    "OrderDate": "2015-02-04",
                                    "NumberOfProducts": "3",
                                    "TotalQuantity": "32",
                                    "TotalValue": "631.60"
                                },
                                {
                                    "OrderId": "10689",
                                    "OrderDate": "2015-10-01",
                                    "NumberOfProducts": "1",
                                    "TotalQuantity": "35",
                                    "TotalValue": "630.00"
                                },
                                {
                                    "OrderId": "10761",
                                    "OrderDate": "2015-12-02",
                                    "NumberOfProducts": "2",
                                    "TotalQuantity": "53",
                                    "TotalValue": "629.50"
                                },
                                {
                                    "OrderId": "10636",
                                    "OrderDate": "2015-08-19",
                                    "NumberOfProducts": "2",
                                    "TotalQuantity": "31",
                                    "TotalValue": "629.50"
                                },
                                {
                                    "OrderId": "10254",
                                    "OrderDate": "2014-07-11",
                                    "NumberOfProducts": "3",
                                    "TotalQuantity": "57",
                                    "TotalValue": "625.20"
                                },
                                {
                                    "OrderId": "10584",
                                    "OrderDate": "2015-06-30",
                                    "NumberOfProducts": "1",
                                    "TotalQuantity": "50",
                                    "TotalValue": "625.00"
                                },
                                {
                                    "OrderId": "10853",
                                    "OrderDate": "2016-01-27",
                                    "NumberOfProducts": "1",
                                    "TotalQuantity": "10",
                                    "TotalValue": "625.00"
                                },
                                {
                                    "OrderId": "10262",
                                    "OrderDate": "2014-07-22",
                                    "NumberOfProducts": "3",
                                    "TotalQuantity": "29",
                                    "TotalValue": "624.80"
                                },
                                {
                                    "OrderId": "11015",
                                    "OrderDate": "2016-04-10",
                                    "NumberOfProducts": "2",
                                    "TotalQuantity": "33",
                                    "TotalValue": "622.35"
                                },
                                {
                                    "OrderId": "10632",
                                    "OrderDate": "2015-08-14",
                                    "NumberOfProducts": "2",
                                    "TotalQuantity": "50",
                                    "TotalValue": "620.00"
                                },
                                {
                                    "OrderId": "10512",
                                    "OrderDate": "2015-04-21",
                                    "NumberOfProducts": "4",
                                    "TotalQuantity": "37",
                                    "TotalValue": "618.00"
                                },
                                {
                                    "OrderId": "10763",
                                    "OrderDate": "2015-12-03",
                                    "NumberOfProducts": "3",
                                    "TotalQuantity": "66",
                                    "TotalValue": "616.00"
                                },
                                {
                                    "OrderId": "10280",
                                    "OrderDate": "2014-08-14",
                                    "NumberOfProducts": "3",
                                    "TotalQuantity": "62",
                                    "TotalValue": "613.20"
                                },
                                {
                                    "OrderId": "10879",
                                    "OrderDate": "2016-02-10",
                                    "NumberOfProducts": "3",
                                    "TotalQuantity": "32",
                                    "TotalValue": "611.30"
                                },
                                {
                                    "OrderId": "10300",
                                    "OrderDate": "2014-09-09",
                                    "NumberOfProducts": "2",
                                    "TotalQuantity": "50",
                                    "TotalValue": "608.00"
                                },
                                {
                                    "OrderId": "10622",
                                    "OrderDate": "2015-08-06",
                                    "NumberOfProducts": "2",
                                    "TotalQuantity": "38",
                                    "TotalValue": "605.00"
                                },
                                {
                                    "OrderId": "10888",
                                    "OrderDate": "2016-02-16",
                                    "NumberOfProducts": "2",
                                    "TotalQuantity": "38",
                                    "TotalValue": "605.00"
                                },
                                {
                                    "OrderId": "10735",
                                    "OrderDate": "2015-11-10",
                                    "NumberOfProducts": "2",
                                    "TotalQuantity": "22",
                                    "TotalValue": "596.00"
                                },
                                {
                                    "OrderId": "10704",
                                    "OrderDate": "2015-10-14",
                                    "NumberOfProducts": "3",
                                    "TotalQuantity": "65",
                                    "TotalValue": "595.50"
                                },
                                {
                                    "OrderId": "11044",
                                    "OrderDate": "2016-04-23",
                                    "NumberOfProducts": "1",
                                    "TotalQuantity": "12",
                                    "TotalValue": "591.60"
                                },
                                {
                                    "OrderId": "11075",
                                    "OrderDate": "2016-05-06",
                                    "NumberOfProducts": "3",
                                    "TotalQuantity": "42",
                                    "TotalValue": "586.00"
                                },
                                {
                                    "OrderId": "11005",
                                    "OrderDate": "2016-04-07",
                                    "NumberOfProducts": "2",
                                    "TotalQuantity": "12",
                                    "TotalValue": "586.00"
                                },
                                {
                                    "OrderId": "10862",
                                    "OrderDate": "2016-01-30",
                                    "NumberOfProducts": "2",
                                    "TotalQuantity": "33",
                                    "TotalValue": "581.00"
                                },
                                {
                                    "OrderId": "10498",
                                    "OrderDate": "2015-04-07",
                                    "NumberOfProducts": "3",
                                    "TotalQuantity": "49",
                                    "TotalValue": "575.00"
                                },
                                {
                                    "OrderId": "10806",
                                    "OrderDate": "2015-12-31",
                                    "NumberOfProducts": "3",
                                    "TotalQuantity": "37",
                                    "TotalValue": "572.10"
                                },
                                {
                                    "OrderId": "10669",
                                    "OrderDate": "2015-09-15",
                                    "NumberOfProducts": "1",
                                    "TotalQuantity": "30",
                                    "TotalValue": "570.00"
                                },
                                {
                                    "OrderId": "10936",
                                    "OrderDate": "2016-03-09",
                                    "NumberOfProducts": "1",
                                    "TotalQuantity": "30",
                                    "TotalValue": "570.00"
                                },
                                {
                                    "OrderId": "10577",
                                    "OrderDate": "2015-06-23",
                                    "NumberOfProducts": "3",
                                    "TotalQuantity": "48",
                                    "TotalValue": "569.00"
                                },
                                {
                                    "OrderId": "10832",
                                    "OrderDate": "2016-01-14",
                                    "NumberOfProducts": "4",
                                    "TotalQuantity": "32",
                                    "TotalValue": "568.95"
                                },
                                {
                                    "OrderId": "10354",
                                    "OrderDate": "2014-11-14",
                                    "NumberOfProducts": "2",
                                    "TotalQuantity": "16",
                                    "TotalValue": "568.80"
                                },
                                {
                                    "OrderId": "10438",
                                    "OrderDate": "2015-02-06",
                                    "NumberOfProducts": "3",
                                    "TotalQuantity": "50",
                                    "TotalValue": "567.50"
                                },
                                {
                                    "OrderId": "10594",
                                    "OrderDate": "2015-07-09",
                                    "NumberOfProducts": "2",
                                    "TotalQuantity": "54",
                                    "TotalValue": "565.50"
                                },
                                {
                                    "OrderId": "10942",
                                    "OrderDate": "2016-03-11",
                                    "NumberOfProducts": "1",
                                    "TotalQuantity": "28",
                                    "TotalValue": "560.00"
                                },
                                {
                                    "OrderId": "10996",
                                    "OrderDate": "2016-04-02",
                                    "NumberOfProducts": "1",
                                    "TotalQuantity": "40",
                                    "TotalValue": "560.00"
                                },
                                {
                                    "OrderId": "10925",
                                    "OrderDate": "2016-03-04",
                                    "NumberOfProducts": "2",
                                    "TotalQuantity": "37",
                                    "TotalValue": "559.00"
                                },
                                {
                                    "OrderId": "11034",
                                    "OrderDate": "2016-04-20",
                                    "NumberOfProducts": "3",
                                    "TotalQuantity": "33",
                                    "TotalValue": "554.40"
                                },
                                {
                                    "OrderId": "10291",
                                    "OrderDate": "2014-08-27",
                                    "NumberOfProducts": "3",
                                    "TotalQuantity": "46",
                                    "TotalValue": "552.80"
                                },
                                {
                                    "OrderId": "10500",
                                    "OrderDate": "2015-04-09",
                                    "NumberOfProducts": "2",
                                    "TotalQuantity": "20",
                                    "TotalValue": "550.80"
                                },
                                {
                                    "OrderId": "10720",
                                    "OrderDate": "2015-10-28",
                                    "NumberOfProducts": "2",
                                    "TotalQuantity": "29",
                                    "TotalValue": "550.00"
                                },
                                {
                                    "OrderId": "10559",
                                    "OrderDate": "2015-06-05",
                                    "NumberOfProducts": "2",
                                    "TotalQuantity": "30",
                                    "TotalValue": "547.80"
                                },
                                {
                                    "OrderId": "10592",
                                    "OrderDate": "2015-07-08",
                                    "NumberOfProducts": "2",
                                    "TotalQuantity": "30",
                                    "TotalValue": "543.65"
                                },
                                {
                                    "OrderId": "10562",
                                    "OrderDate": "2015-06-09",
                                    "NumberOfProducts": "2",
                                    "TotalQuantity": "30",
                                    "TotalValue": "543.00"
                                },
                                {
                                    "OrderId": "10915",
                                    "OrderDate": "2016-02-27",
                                    "NumberOfProducts": "3",
                                    "TotalQuantity": "50",
                                    "TotalValue": "539.50"
                                },
                                {
                                    "OrderId": "10274",
                                    "OrderDate": "2014-08-06",
                                    "NumberOfProducts": "2",
                                    "TotalQuantity": "27",
                                    "TotalValue": "538.60"
                                },
                                {
                                    "OrderId": "10443",
                                    "OrderDate": "2015-02-12",
                                    "NumberOfProducts": "2",
                                    "TotalQuantity": "18",
                                    "TotalValue": "537.60"
                                },
                                {
                                    "OrderId": "10914",
                                    "OrderDate": "2016-02-27",
                                    "NumberOfProducts": "1",
                                    "TotalQuantity": "25",
                                    "TotalValue": "537.50"
                                },
                                {
                                    "OrderId": "10676",
                                    "OrderDate": "2015-09-22",
                                    "NumberOfProducts": "3",
                                    "TotalQuantity": "30",
                                    "TotalValue": "534.85"
                                },
                                {
                                    "OrderId": "10450",
                                    "OrderDate": "2015-02-19",
                                    "NumberOfProducts": "2",
                                    "TotalQuantity": "26",
                                    "TotalValue": "531.40"
                                },
                                {
                                    "OrderId": "10651",
                                    "OrderDate": "2015-09-01",
                                    "NumberOfProducts": "2",
                                    "TotalQuantity": "32",
                                    "TotalValue": "530.40"
                                },
                                {
                                    "OrderId": "11048",
                                    "OrderDate": "2016-04-24",
                                    "NumberOfProducts": "1",
                                    "TotalQuantity": "42",
                                    "TotalValue": "525.00"
                                },
                                {
                                    "OrderId": "10860",
                                    "OrderDate": "2016-01-29",
                                    "NumberOfProducts": "2",
                                    "TotalQuantity": "23",
                                    "TotalValue": "519.00"
                                },
                                {
                                    "OrderId": "10863",
                                    "OrderDate": "2016-02-02",
                                    "NumberOfProducts": "2",
                                    "TotalQuantity": "32",
                                    "TotalValue": "519.00"
                                },
                                {
                                    "OrderId": "10256",
                                    "OrderDate": "2014-07-15",
                                    "NumberOfProducts": "2",
                                    "TotalQuantity": "27",
                                    "TotalValue": "517.80"
                                },
                                {
                                    "OrderId": "10534",
                                    "OrderDate": "2015-05-12",
                                    "NumberOfProducts": "3",
                                    "TotalQuantity": "30",
                                    "TotalValue": "517.40"
                                },
                                {
                                    "OrderId": "10315",
                                    "OrderDate": "2014-09-26",
                                    "NumberOfProducts": "2",
                                    "TotalQuantity": "44",
                                    "TotalValue": "516.80"
                                },
                                {
                                    "OrderId": "10320",
                                    "OrderDate": "2014-10-03",
                                    "NumberOfProducts": "1",
                                    "TotalQuantity": "30",
                                    "TotalValue": "516.00"
                                },
                                {
                                    "OrderId": "10926",
                                    "OrderDate": "2016-03-04",
                                    "NumberOfProducts": "4",
                                    "TotalQuantity": "29",
                                    "TotalValue": "514.40"
                                },
                                {
                                    "OrderId": "11061",
                                    "OrderDate": "2016-04-30",
                                    "NumberOfProducts": "1",
                                    "TotalQuantity": "15",
                                    "TotalValue": "510.00"
                                },
                                {
                                    "OrderId": "11071",
                                    "OrderDate": "2016-05-05",
                                    "NumberOfProducts": "2",
                                    "TotalQuantity": "25",
                                    "TotalValue": "510.00"
                                },
                                {
                                    "OrderId": "10730",
                                    "OrderDate": "2015-11-05",
                                    "NumberOfProducts": "3",
                                    "TotalQuantity": "28",
                                    "TotalValue": "509.75"
                                },
                                {
                                    "OrderId": "11062",
                                    "OrderDate": "2016-04-30",
                                    "NumberOfProducts": "2",
                                    "TotalQuantity": "22",
                                    "TotalValue": "508.00"
                                },
                                {
                                    "OrderId": "10489",
                                    "OrderDate": "2015-03-28",
                                    "NumberOfProducts": "2",
                                    "TotalQuantity": "33",
                                    "TotalValue": "502.20"
                                },
                                {
                                    "OrderId": "10639",
                                    "OrderDate": "2015-08-20",
                                    "NumberOfProducts": "1",
                                    "TotalQuantity": "8",
                                    "TotalValue": "500.00"
                                },
                                {
                                    "OrderId": "10934",
                                    "OrderDate": "2016-03-09",
                                    "NumberOfProducts": "1",
                                    "TotalQuantity": "20",
                                    "TotalValue": "500.00"
                                },
                                {
                                    "OrderId": "10306",
                                    "OrderDate": "2014-09-16",
                                    "NumberOfProducts": "3",
                                    "TotalQuantity": "25",
                                    "TotalValue": "498.50"
                                },
                                {
                                    "OrderId": "10478",
                                    "OrderDate": "2015-03-18",
                                    "NumberOfProducts": "1",
                                    "TotalQuantity": "20",
                                    "TotalValue": "496.00"
                                },
                                {
                                    "OrderId": "10542",
                                    "OrderDate": "2015-05-20",
                                    "NumberOfProducts": "2",
                                    "TotalQuantity": "39",
                                    "TotalValue": "493.80"
                                },
                                {
                                    "OrderId": "10599",
                                    "OrderDate": "2015-07-15",
                                    "NumberOfProducts": "1",
                                    "TotalQuantity": "10",
                                    "TotalValue": "493.00"
                                },
                                {
                                    "OrderId": "11016",
                                    "OrderDate": "2016-04-10",
                                    "NumberOfProducts": "2",
                                    "TotalQuantity": "31",
                                    "TotalValue": "491.50"
                                },
                                {
                                    "OrderId": "10952",
                                    "OrderDate": "2016-03-16",
                                    "NumberOfProducts": "2",
                                    "TotalQuantity": "18",
                                    "TotalValue": "491.20"
                                },
                                {
                                    "OrderId": "10432",
                                    "OrderDate": "2015-01-31",
                                    "NumberOfProducts": "2",
                                    "TotalQuantity": "50",
                                    "TotalValue": "485.00"
                                },
                                {
                                    "OrderId": "10951",
                                    "OrderDate": "2016-03-16",
                                    "NumberOfProducts": "3",
                                    "TotalQuantity": "71",
                                    "TotalValue": "482.90"
                                },
                                {
                                    "OrderId": "10425",
                                    "OrderDate": "2015-01-24",
                                    "NumberOfProducts": "2",
                                    "TotalQuantity": "30",
                                    "TotalValue": "480.00"
                                },
                                {
                                    "OrderId": "10355",
                                    "OrderDate": "2014-11-15",
                                    "NumberOfProducts": "2",
                                    "TotalQuantity": "50",
                                    "TotalValue": "480.00"
                                },
                                {
                                    "OrderId": "10600",
                                    "OrderDate": "2015-07-16",
                                    "NumberOfProducts": "2",
                                    "TotalQuantity": "34",
                                    "TotalValue": "479.80"
                                },
                                {
                                    "OrderId": "10625",
                                    "OrderDate": "2015-08-08",
                                    "NumberOfProducts": "3",
                                    "TotalQuantity": "18",
                                    "TotalValue": "479.75"
                                },
                                {
                                    "OrderId": "10289",
                                    "OrderDate": "2014-08-26",
                                    "NumberOfProducts": "2",
                                    "TotalQuantity": "39",
                                    "TotalValue": "479.40"
                                },
                                {
                                    "OrderId": "10578",
                                    "OrderDate": "2015-06-24",
                                    "NumberOfProducts": "2",
                                    "TotalQuantity": "26",
                                    "TotalValue": "477.00"
                                },
                                {
                                    "OrderId": "10819",
                                    "OrderDate": "2016-01-07",
                                    "NumberOfProducts": "2",
                                    "TotalQuantity": "27",
                                    "TotalValue": "477.00"
                                },
                                {
                                    "OrderId": "10723",
                                    "OrderDate": "2015-10-30",
                                    "NumberOfProducts": "1",
                                    "TotalQuantity": "15",
                                    "TotalValue": "468.45"
                                },
                                {
                                    "OrderId": "10279",
                                    "OrderDate": "2014-08-13",
                                    "NumberOfProducts": "1",
                                    "TotalQuantity": "15",
                                    "TotalValue": "468.00"
                                },
                                {
                                    "OrderId": "10614",
                                    "OrderDate": "2015-07-29",
                                    "NumberOfProducts": "3",
                                    "TotalQuantity": "27",
                                    "TotalValue": "464.00"
                                },
                                {
                                    "OrderId": "10506",
                                    "OrderDate": "2015-04-15",
                                    "NumberOfProducts": "2",
                                    "TotalQuantity": "32",
                                    "TotalValue": "462.00"
                                },
                                {
                                    "OrderId": "10374",
                                    "OrderDate": "2014-12-05",
                                    "NumberOfProducts": "2",
                                    "TotalQuantity": "45",
                                    "TotalValue": "459.00"
                                },
                                {
                                    "OrderId": "10453",
                                    "OrderDate": "2015-02-21",
                                    "NumberOfProducts": "2",
                                    "TotalQuantity": "40",
                                    "TotalValue": "453.00"
                                },
                                {
                                    "OrderId": "10910",
                                    "OrderDate": "2016-02-26",
                                    "NumberOfProducts": "3",
                                    "TotalQuantity": "27",
                                    "TotalValue": "452.90"
                                },
                                {
                                    "OrderId": "10358",
                                    "OrderDate": "2014-11-20",
                                    "NumberOfProducts": "3",
                                    "TotalQuantity": "40",
                                    "TotalValue": "452.00"
                                },
                                {
                                    "OrderId": "10628",
                                    "OrderDate": "2015-08-12",
                                    "NumberOfProducts": "1",
                                    "TotalQuantity": "25",
                                    "TotalValue": "450.00"
                                },
                                {
                                    "OrderId": "10261",
                                    "OrderDate": "2014-07-19",
                                    "NumberOfProducts": "2",
                                    "TotalQuantity": "40",
                                    "TotalValue": "448.00"
                                },
                                {
                                    "OrderId": "10363",
                                    "OrderDate": "2014-11-26",
                                    "NumberOfProducts": "3",
                                    "TotalQuantity": "44",
                                    "TotalValue": "447.20"
                                },
                                {
                                    "OrderId": "10798",
                                    "OrderDate": "2015-12-26",
                                    "NumberOfProducts": "2",
                                    "TotalQuantity": "12",
                                    "TotalValue": "446.60"
                                },
                                {
                                    "OrderId": "10448",
                                    "OrderDate": "2015-02-17",
                                    "NumberOfProducts": "2",
                                    "TotalQuantity": "26",
                                    "TotalValue": "443.40"
                                },
                                {
                                    "OrderId": "10394",
                                    "OrderDate": "2014-12-25",
                                    "NumberOfProducts": "2",
                                    "TotalQuantity": "20",
                                    "TotalValue": "442.00"
                                },
                                {
                                    "OrderId": "10248",
                                    "OrderDate": "2014-07-04",
                                    "NumberOfProducts": "3",
                                    "TotalQuantity": "27",
                                    "TotalValue": "440.00"
                                },
                                {
                                    "OrderId": "10974",
                                    "OrderDate": "2016-03-25",
                                    "NumberOfProducts": "1",
                                    "TotalQuantity": "10",
                                    "TotalValue": "439.00"
                                },
                                {
                                    "OrderId": "10906",
                                    "OrderDate": "2016-02-25",
                                    "NumberOfProducts": "1",
                                    "TotalQuantity": "15",
                                    "TotalValue": "427.50"
                                },
                                {
                                    "OrderId": "10307",
                                    "OrderDate": "2014-09-17",
                                    "NumberOfProducts": "2",
                                    "TotalQuantity": "13",
                                    "TotalValue": "424.00"
                                },
                                {
                                    "OrderId": "10609",
                                    "OrderDate": "2015-07-24",
                                    "NumberOfProducts": "3",
                                    "TotalQuantity": "19",
                                    "TotalValue": "424.00"
                                },
                                {
                                    "OrderId": "10797",
                                    "OrderDate": "2015-12-25",
                                    "NumberOfProducts": "1",
                                    "TotalQuantity": "20",
                                    "TotalValue": "420.00"
                                },
                                {
                                    "OrderId": "10276",
                                    "OrderDate": "2014-08-08",
                                    "NumberOfProducts": "2",
                                    "TotalQuantity": "25",
                                    "TotalValue": "420.00"
                                },
                                {
                                    "OrderId": "10376",
                                    "OrderDate": "2014-12-09",
                                    "NumberOfProducts": "1",
                                    "TotalQuantity": "42",
                                    "TotalValue": "420.00"
                                },
                                {
                                    "OrderId": "10544",
                                    "OrderDate": "2015-05-21",
                                    "NumberOfProducts": "2",
                                    "TotalQuantity": "14",
                                    "TotalValue": "417.20"
                                },
                                {
                                    "OrderId": "10454",
                                    "OrderDate": "2015-02-21",
                                    "NumberOfProducts": "3",
                                    "TotalQuantity": "50",
                                    "TotalValue": "414.00"
                                },
                                {
                                    "OrderId": "10673",
                                    "OrderDate": "2015-09-18",
                                    "NumberOfProducts": "3",
                                    "TotalQuantity": "15",
                                    "TotalValue": "412.35"
                                },
                                {
                                    "OrderId": "10341",
                                    "OrderDate": "2014-10-29",
                                    "NumberOfProducts": "2",
                                    "TotalQuantity": "17",
                                    "TotalValue": "412.00"
                                },
                                {
                                    "OrderId": "11042",
                                    "OrderDate": "2016-04-22",
                                    "NumberOfProducts": "2",
                                    "TotalQuantity": "19",
                                    "TotalValue": "405.75"
                                },
                                {
                                    "OrderId": "10365",
                                    "OrderDate": "2014-11-27",
                                    "NumberOfProducts": "1",
                                    "TotalQuantity": "24",
                                    "TotalValue": "403.20"
                                },
                                {
                                    "OrderId": "10405",
                                    "OrderDate": "2015-01-06",
                                    "NumberOfProducts": "1",
                                    "TotalQuantity": "50",
                                    "TotalValue": "400.00"
                                },
                                {
                                    "OrderId": "10792",
                                    "OrderDate": "2015-12-23",
                                    "NumberOfProducts": "3",
                                    "TotalQuantity": "28",
                                    "TotalValue": "399.85"
                                },
                                {
                                    "OrderId": "10610",
                                    "OrderDate": "2015-07-25",
                                    "NumberOfProducts": "1",
                                    "TotalQuantity": "21",
                                    "TotalValue": "399.00"
                                },
                                {
                                    "OrderId": "10528",
                                    "OrderDate": "2015-05-06",
                                    "NumberOfProducts": "3",
                                    "TotalQuantity": "20",
                                    "TotalValue": "396.20"
                                },
                                {
                                    "OrderId": "10348",
                                    "OrderDate": "2014-11-07",
                                    "NumberOfProducts": "2",
                                    "TotalQuantity": "40",
                                    "TotalValue": "396.00"
                                },
                                {
                                    "OrderId": "10794",
                                    "OrderDate": "2015-12-24",
                                    "NumberOfProducts": "2",
                                    "TotalQuantity": "21",
                                    "TotalValue": "393.45"
                                },
                                {
                                    "OrderId": "10437",
                                    "OrderDate": "2015-02-05",
                                    "NumberOfProducts": "1",
                                    "TotalQuantity": "15",
                                    "TotalValue": "393.00"
                                },
                                {
                                    "OrderId": "11006",
                                    "OrderDate": "2016-04-07",
                                    "NumberOfProducts": "2",
                                    "TotalQuantity": "10",
                                    "TotalValue": "391.58"
                                },
                                {
                                    "OrderId": "10920",
                                    "OrderDate": "2016-03-03",
                                    "NumberOfProducts": "1",
                                    "TotalQuantity": "24",
                                    "TotalValue": "390.00"
                                },
                                {
                                    "OrderId": "10891",
                                    "OrderDate": "2016-02-17",
                                    "NumberOfProducts": "1",
                                    "TotalQuantity": "15",
                                    "TotalValue": "388.35"
                                },
                                {
                                    "OrderId": "10785",
                                    "OrderDate": "2015-12-18",
                                    "NumberOfProducts": "2",
                                    "TotalQuantity": "20",
                                    "TotalValue": "387.50"
                                },
                                {
                                    "OrderId": "10581",
                                    "OrderDate": "2015-06-26",
                                    "NumberOfProducts": "1",
                                    "TotalQuantity": "50",
                                    "TotalValue": "387.50"
                                },
                                {
                                    "OrderId": "10484",
                                    "OrderDate": "2015-03-24",
                                    "NumberOfProducts": "3",
                                    "TotalQuantity": "27",
                                    "TotalValue": "386.20"
                                },
                                {
                                    "OrderId": "10648",
                                    "OrderDate": "2015-08-28",
                                    "NumberOfProducts": "2",
                                    "TotalQuantity": "30",
                                    "TotalValue": "382.50"
                                },
                                {
                                    "OrderId": "10705",
                                    "OrderDate": "2015-10-15",
                                    "NumberOfProducts": "2",
                                    "TotalQuantity": "24",
                                    "TotalValue": "378.00"
                                },
                                {
                                    "OrderId": "10682",
                                    "OrderDate": "2015-09-25",
                                    "NumberOfProducts": "3",
                                    "TotalQuantity": "64",
                                    "TotalValue": "375.50"
                                },
                                {
                                    "OrderId": "10412",
                                    "OrderDate": "2015-01-13",
                                    "NumberOfProducts": "1",
                                    "TotalQuantity": "20",
                                    "TotalValue": "372.00"
                                },
                                {
                                    "OrderId": "10917",
                                    "OrderDate": "2016-03-02",
                                    "NumberOfProducts": "2",
                                    "TotalQuantity": "11",
                                    "TotalValue": "365.89"
                                },
                                {
                                    "OrderId": "10266",
                                    "OrderDate": "2014-07-26",
                                    "NumberOfProducts": "1",
                                    "TotalQuantity": "12",
                                    "TotalValue": "364.80"
                                },
                                {
                                    "OrderId": "11013",
                                    "OrderDate": "2016-04-09",
                                    "NumberOfProducts": "4",
                                    "TotalQuantity": "36",
                                    "TotalValue": "361.00"
                                },
                                {
                                    "OrderId": "11069",
                                    "OrderDate": "2016-05-04",
                                    "NumberOfProducts": "1",
                                    "TotalQuantity": "20",
                                    "TotalValue": "360.00"
                                },
                                {
                                    "OrderId": "10905",
                                    "OrderDate": "2016-02-24",
                                    "NumberOfProducts": "1",
                                    "TotalQuantity": "20",
                                    "TotalValue": "360.00"
                                },
                                {
                                    "OrderId": "10940",
                                    "OrderDate": "2016-03-11",
                                    "NumberOfProducts": "2",
                                    "TotalQuantity": "28",
                                    "TotalValue": "360.00"
                                },
                                {
                                    "OrderId": "10434",
                                    "OrderDate": "2015-02-03",
                                    "NumberOfProducts": "2",
                                    "TotalQuantity": "24",
                                    "TotalValue": "360.00"
                                },
                                {
                                    "OrderId": "10732",
                                    "OrderDate": "2015-11-06",
                                    "NumberOfProducts": "1",
                                    "TotalQuantity": "20",
                                    "TotalValue": "360.00"
                                },
                                {
                                    "OrderId": "10613",
                                    "OrderDate": "2015-07-29",
                                    "NumberOfProducts": "2",
                                    "TotalQuantity": "48",
                                    "TotalValue": "358.00"
                                },
                                {
                                    "OrderId": "10539",
                                    "OrderDate": "2015-05-16",
                                    "NumberOfProducts": "4",
                                    "TotalQuantity": "44",
                                    "TotalValue": "355.50"
                                },
                                {
                                    "OrderId": "10517",
                                    "OrderDate": "2015-04-24",
                                    "NumberOfProducts": "3",
                                    "TotalQuantity": "16",
                                    "TotalValue": "352.00"
                                },
                                {
                                    "OrderId": "10299",
                                    "OrderDate": "2014-09-06",
                                    "NumberOfProducts": "2",
                                    "TotalQuantity": "35",
                                    "TotalValue": "349.50"
                                },
                                {
                                    "OrderId": "10771",
                                    "OrderDate": "2015-12-10",
                                    "NumberOfProducts": "1",
                                    "TotalQuantity": "16",
                                    "TotalValue": "344.00"
                                },
                                {
                                    "OrderId": "11049",
                                    "OrderDate": "2016-04-24",
                                    "NumberOfProducts": "2",
                                    "TotalQuantity": "14",
                                    "TotalValue": "342.00"
                                },
                                {
                                    "OrderId": "10426",
                                    "OrderDate": "2015-01-27",
                                    "NumberOfProducts": "2",
                                    "TotalQuantity": "12",
                                    "TotalValue": "338.20"
                                },
                                {
                                    "OrderId": "10375",
                                    "OrderDate": "2014-12-06",
                                    "NumberOfProducts": "2",
                                    "TotalQuantity": "25",
                                    "TotalValue": "338.00"
                                },
                                {
                                    "OrderId": "10873",
                                    "OrderDate": "2016-02-06",
                                    "NumberOfProducts": "2",
                                    "TotalQuantity": "23",
                                    "TotalValue": "336.80"
                                },
                                {
                                    "OrderId": "10310",
                                    "OrderDate": "2014-09-20",
                                    "NumberOfProducts": "2",
                                    "TotalQuantity": "15",
                                    "TotalValue": "336.00"
                                },
                                {
                                    "OrderId": "10743",
                                    "OrderDate": "2015-11-17",
                                    "NumberOfProducts": "1",
                                    "TotalQuantity": "28",
                                    "TotalValue": "336.00"
                                },
                                {
                                    "OrderId": "10652",
                                    "OrderDate": "2015-09-01",
                                    "NumberOfProducts": "2",
                                    "TotalQuantity": "22",
                                    "TotalValue": "331.78"
                                },
                                {
                                    "OrderId": "10582",
                                    "OrderDate": "2015-06-27",
                                    "NumberOfProducts": "2",
                                    "TotalQuantity": "18",
                                    "TotalValue": "330.00"
                                },
                                {
                                    "OrderId": "10702",
                                    "OrderDate": "2015-10-13",
                                    "NumberOfProducts": "2",
                                    "TotalQuantity": "21",
                                    "TotalValue": "330.00"
                                },
                                {
                                    "OrderId": "11003",
                                    "OrderDate": "2016-04-06",
                                    "NumberOfProducts": "3",
                                    "TotalQuantity": "24",
                                    "TotalValue": "326.00"
                                },
                                {
                                    "OrderId": "10759",
                                    "OrderDate": "2015-11-28",
                                    "NumberOfProducts": "1",
                                    "TotalQuantity": "10",
                                    "TotalValue": "320.00"
                                },
                                {
                                    "OrderId": "10409",
                                    "OrderDate": "2015-01-09",
                                    "NumberOfProducts": "2",
                                    "TotalQuantity": "24",
                                    "TotalValue": "319.20"
                                },
                                {
                                    "OrderId": "10579",
                                    "OrderDate": "2015-06-25",
                                    "NumberOfProducts": "2",
                                    "TotalQuantity": "31",
                                    "TotalValue": "317.75"
                                },
                                {
                                    "OrderId": "10336",
                                    "OrderDate": "2014-10-23",
                                    "NumberOfProducts": "1",
                                    "TotalQuantity": "18",
                                    "TotalValue": "316.80"
                                },
                                {
                                    "OrderId": "10770",
                                    "OrderDate": "2015-12-09",
                                    "NumberOfProducts": "1",
                                    "TotalQuantity": "15",
                                    "TotalValue": "315.00"
                                },
                                {
                                    "OrderId": "10980",
                                    "OrderDate": "2016-03-27",
                                    "NumberOfProducts": "1",
                                    "TotalQuantity": "40",
                                    "TotalValue": "310.00"
                                },
                                {
                                    "OrderId": "10874",
                                    "OrderDate": "2016-02-06",
                                    "NumberOfProducts": "1",
                                    "TotalQuantity": "10",
                                    "TotalValue": "310.00"
                                },
                                {
                                    "OrderId": "10275",
                                    "OrderDate": "2014-08-07",
                                    "NumberOfProducts": "2",
                                    "TotalQuantity": "18",
                                    "TotalValue": "307.20"
                                },
                                {
                                    "OrderId": "10491",
                                    "OrderDate": "2015-03-31",
                                    "NumberOfProducts": "2",
                                    "TotalQuantity": "22",
                                    "TotalValue": "305.30"
                                },
                                {
                                    "OrderId": "11054",
                                    "OrderDate": "2016-04-28",
                                    "NumberOfProducts": "2",
                                    "TotalQuantity": "30",
                                    "TotalValue": "305.00"
                                },
                                {
                                    "OrderId": "11073",
                                    "OrderDate": "2016-05-05",
                                    "NumberOfProducts": "2",
                                    "TotalQuantity": "30",
                                    "TotalValue": "300.00"
                                },
                                {
                                    "OrderId": "11025",
                                    "OrderDate": "2016-04-15",
                                    "NumberOfProducts": "2",
                                    "TotalQuantity": "30",
                                    "TotalValue": "300.00"
                                },
                                {
                                    "OrderId": "11004",
                                    "OrderDate": "2016-04-07",
                                    "NumberOfProducts": "2",
                                    "TotalQuantity": "12",
                                    "TotalValue": "295.38"
                                },
                                {
                                    "OrderId": "10973",
                                    "OrderDate": "2016-03-24",
                                    "NumberOfProducts": "3",
                                    "TotalQuantity": "21",
                                    "TotalValue": "291.55"
                                },
                                {
                                    "OrderId": "10317",
                                    "OrderDate": "2014-09-30",
                                    "NumberOfProducts": "1",
                                    "TotalQuantity": "20",
                                    "TotalValue": "288.00"
                                },
                                {
                                    "OrderId": "10725",
                                    "OrderDate": "2015-10-31",
                                    "NumberOfProducts": "3",
                                    "TotalQuantity": "22",
                                    "TotalValue": "287.80"
                                },
                                {
                                    "OrderId": "10741",
                                    "OrderDate": "2015-11-14",
                                    "NumberOfProducts": "1",
                                    "TotalQuantity": "15",
                                    "TotalValue": "285.00"
                                },
                                {
                                    "OrderId": "10864",
                                    "OrderDate": "2016-02-02",
                                    "NumberOfProducts": "2",
                                    "TotalQuantity": "19",
                                    "TotalValue": "282.00"
                                },
                                {
                                    "OrderId": "10970",
                                    "OrderDate": "2016-03-24",
                                    "NumberOfProducts": "1",
                                    "TotalQuantity": "40",
                                    "TotalValue": "280.00"
                                },
                                {
                                    "OrderId": "10777",
                                    "OrderDate": "2015-12-15",
                                    "NumberOfProducts": "1",
                                    "TotalQuantity": "20",
                                    "TotalValue": "280.00"
                                },
                                {
                                    "OrderId": "10495",
                                    "OrderDate": "2015-04-03",
                                    "NumberOfProducts": "3",
                                    "TotalQuantity": "35",
                                    "TotalValue": "278.00"
                                },
                                {
                                    "OrderId": "10960",
                                    "OrderDate": "2016-03-19",
                                    "NumberOfProducts": "2",
                                    "TotalQuantity": "34",
                                    "TotalValue": "276.60"
                                },
                                {
                                    "OrderId": "10548",
                                    "OrderDate": "2015-05-26",
                                    "NumberOfProducts": "2",
                                    "TotalQuantity": "24",
                                    "TotalValue": "275.10"
                                },
                                {
                                    "OrderId": "10446",
                                    "OrderDate": "2015-02-14",
                                    "NumberOfProducts": "4",
                                    "TotalQuantity": "50",
                                    "TotalValue": "273.60"
                                },
                                {
                                    "OrderId": "11014",
                                    "OrderDate": "2016-04-10",
                                    "NumberOfProducts": "1",
                                    "TotalQuantity": "28",
                                    "TotalValue": "270.20"
                                },
                                {
                                    "OrderId": "10311",
                                    "OrderDate": "2014-09-20",
                                    "NumberOfProducts": "2",
                                    "TotalQuantity": "13",
                                    "TotalValue": "268.80"
                                },
                                {
                                    "OrderId": "11060",
                                    "OrderDate": "2016-04-30",
                                    "NumberOfProducts": "2",
                                    "TotalQuantity": "14",
                                    "TotalValue": "266.00"
                                },
                                {
                                    "OrderId": "10840",
                                    "OrderDate": "2016-01-19",
                                    "NumberOfProducts": "2",
                                    "TotalQuantity": "16",
                                    "TotalValue": "264.00"
                                },
                                {
                                    "OrderId": "10604",
                                    "OrderDate": "2015-07-18",
                                    "NumberOfProducts": "2",
                                    "TotalQuantity": "16",
                                    "TotalValue": "256.50"
                                },
                                {
                                    "OrderId": "11065",
                                    "OrderDate": "2016-05-01",
                                    "NumberOfProducts": "2",
                                    "TotalQuantity": "24",
                                    "TotalValue": "252.56"
                                },
                                {
                                    "OrderId": "10752",
                                    "OrderDate": "2015-11-24",
                                    "NumberOfProducts": "2",
                                    "TotalQuantity": "11",
                                    "TotalValue": "252.00"
                                },
                                {
                                    "OrderId": "10972",
                                    "OrderDate": "2016-03-24",
                                    "NumberOfProducts": "2",
                                    "TotalQuantity": "13",
                                    "TotalValue": "251.50"
                                },
                                {
                                    "OrderId": "10824",
                                    "OrderDate": "2016-01-09",
                                    "NumberOfProducts": "2",
                                    "TotalQuantity": "21",
                                    "TotalValue": "250.80"
                                },
                                {
                                    "OrderId": "10945",
                                    "OrderDate": "2016-03-12",
                                    "NumberOfProducts": "2",
                                    "TotalQuantity": "30",
                                    "TotalValue": "245.00"
                                },
                                {
                                    "OrderId": "11074",
                                    "OrderDate": "2016-05-06",
                                    "NumberOfProducts": "1",
                                    "TotalQuantity": "14",
                                    "TotalValue": "244.30"
                                },
                                {
                                    "OrderId": "10318",
                                    "OrderDate": "2014-10-01",
                                    "NumberOfProducts": "2",
                                    "TotalQuantity": "26",
                                    "TotalValue": "240.40"
                                },
                                {
                                    "OrderId": "10508",
                                    "OrderDate": "2015-04-16",
                                    "NumberOfProducts": "2",
                                    "TotalQuantity": "20",
                                    "TotalValue": "240.00"
                                },
                                {
                                    "OrderId": "10739",
                                    "OrderDate": "2015-11-12",
                                    "NumberOfProducts": "2",
                                    "TotalQuantity": "24",
                                    "TotalValue": "240.00"
                                },
                                {
                                    "OrderId": "10822",
                                    "OrderDate": "2016-01-08",
                                    "NumberOfProducts": "2",
                                    "TotalQuantity": "9",
                                    "TotalValue": "237.90"
                                },
                                {
                                    "OrderId": "10467",
                                    "OrderDate": "2015-03-06",
                                    "NumberOfProducts": "2",
                                    "TotalQuantity": "40",
                                    "TotalValue": "235.20"
                                },
                                {
                                    "OrderId": "10460",
                                    "OrderDate": "2015-02-28",
                                    "NumberOfProducts": "2",
                                    "TotalQuantity": "25",
                                    "TotalValue": "234.80"
                                },
                                {
                                    "OrderId": "10414",
                                    "OrderDate": "2015-01-14",
                                    "NumberOfProducts": "2",
                                    "TotalQuantity": "68",
                                    "TotalValue": "231.40"
                                },
                                {
                                    "OrderId": "10473",
                                    "OrderDate": "2015-03-13",
                                    "NumberOfProducts": "2",
                                    "TotalQuantity": "24",
                                    "TotalValue": "230.40"
                                },
                                {
                                    "OrderId": "10775",
                                    "OrderDate": "2015-12-12",
                                    "NumberOfProducts": "2",
                                    "TotalQuantity": "9",
                                    "TotalValue": "228.00"
                                },
                                {
                                    "OrderId": "10521",
                                    "OrderDate": "2015-04-29",
                                    "NumberOfProducts": "3",
                                    "TotalQuantity": "19",
                                    "TotalValue": "225.50"
                                },
                                {
                                    "OrderId": "10947",
                                    "OrderDate": "2016-03-13",
                                    "NumberOfProducts": "1",
                                    "TotalQuantity": "4",
                                    "TotalValue": "220.00"
                                },
                                {
                                    "OrderId": "10466",
                                    "OrderDate": "2015-03-06",
                                    "NumberOfProducts": "2",
                                    "TotalQuantity": "15",
                                    "TotalValue": "216.00"
                                },
                                {
                                    "OrderId": "10843",
                                    "OrderDate": "2016-01-21",
                                    "NumberOfProducts": "1",
                                    "TotalQuantity": "4",
                                    "TotalValue": "212.00"
                                },
                                {
                                    "OrderId": "11043",
                                    "OrderDate": "2016-04-22",
                                    "NumberOfProducts": "1",
                                    "TotalQuantity": "10",
                                    "TotalValue": "210.00"
                                },
                                {
                                    "OrderId": "10545",
                                    "OrderDate": "2015-05-22",
                                    "NumberOfProducts": "1",
                                    "TotalQuantity": "10",
                                    "TotalValue": "210.00"
                                },
                                {
                                    "OrderId": "10496",
                                    "OrderDate": "2015-04-04",
                                    "NumberOfProducts": "1",
                                    "TotalQuantity": "20",
                                    "TotalValue": "200.00"
                                },
                                {
                                    "OrderId": "10520",
                                    "OrderDate": "2015-04-29",
                                    "NumberOfProducts": "2",
                                    "TotalQuantity": "13",
                                    "TotalValue": "200.00"
                                },
                                {
                                    "OrderId": "11040",
                                    "OrderDate": "2016-04-22",
                                    "NumberOfProducts": "1",
                                    "TotalQuantity": "20",
                                    "TotalValue": "200.00"
                                },
                                {
                                    "OrderId": "10655",
                                    "OrderDate": "2015-09-03",
                                    "NumberOfProducts": "1",
                                    "TotalQuantity": "20",
                                    "TotalValue": "193.00"
                                },
                                {
                                    "OrderId": "10428",
                                    "OrderDate": "2015-01-28",
                                    "NumberOfProducts": "1",
                                    "TotalQuantity": "20",
                                    "TotalValue": "192.00"
                                },
                                {
                                    "OrderId": "10793",
                                    "OrderDate": "2015-12-24",
                                    "NumberOfProducts": "2",
                                    "TotalQuantity": "22",
                                    "TotalValue": "191.10"
                                },
                                {
                                    "OrderId": "10810",
                                    "OrderDate": "2016-01-01",
                                    "NumberOfProducts": "3",
                                    "TotalQuantity": "17",
                                    "TotalValue": "187.00"
                                },
                                {
                                    "OrderId": "10476",
                                    "OrderDate": "2015-03-17",
                                    "NumberOfProducts": "2",
                                    "TotalQuantity": "14",
                                    "TotalValue": "182.40"
                                },
                                {
                                    "OrderId": "10313",
                                    "OrderDate": "2014-09-24",
                                    "NumberOfProducts": "1",
                                    "TotalQuantity": "12",
                                    "TotalValue": "182.40"
                                },
                                {
                                    "OrderId": "10708",
                                    "OrderDate": "2015-10-17",
                                    "NumberOfProducts": "2",
                                    "TotalQuantity": "9",
                                    "TotalValue": "180.40"
                                },
                                {
                                    "OrderId": "10445",
                                    "OrderDate": "2015-02-13",
                                    "NumberOfProducts": "2",
                                    "TotalQuantity": "21",
                                    "TotalValue": "174.90"
                                },
                                {
                                    "OrderId": "10386",
                                    "OrderDate": "2014-12-18",
                                    "NumberOfProducts": "2",
                                    "TotalQuantity": "25",
                                    "TotalValue": "166.00"
                                },
                                {
                                    "OrderId": "10323",
                                    "OrderDate": "2014-10-07",
                                    "NumberOfProducts": "3",
                                    "TotalQuantity": "13",
                                    "TotalValue": "164.40"
                                },
                                {
                                    "OrderId": "10870",
                                    "OrderDate": "2016-02-04",
                                    "NumberOfProducts": "2",
                                    "TotalQuantity": "5",
                                    "TotalValue": "160.00"
                                },
                                {
                                    "OrderId": "10462",
                                    "OrderDate": "2015-03-03",
                                    "NumberOfProducts": "2",
                                    "TotalQuantity": "22",
                                    "TotalValue": "156.00"
                                },
                                {
                                    "OrderId": "10282",
                                    "OrderDate": "2014-08-15",
                                    "NumberOfProducts": "2",
                                    "TotalQuantity": "8",
                                    "TotalValue": "155.40"
                                },
                                {
                                    "OrderId": "10568",
                                    "OrderDate": "2015-06-13",
                                    "NumberOfProducts": "1",
                                    "TotalQuantity": "5",
                                    "TotalValue": "155.00"
                                },
                                {
                                    "OrderId": "10959",
                                    "OrderDate": "2016-03-18",
                                    "NumberOfProducts": "1",
                                    "TotalQuantity": "20",
                                    "TotalValue": "155.00"
                                },
                                {
                                    "OrderId": "10352",
                                    "OrderDate": "2014-11-12",
                                    "NumberOfProducts": "2",
                                    "TotalQuantity": "30",
                                    "TotalValue": "154.00"
                                },
                                {
                                    "OrderId": "10881",
                                    "OrderDate": "2016-02-11",
                                    "NumberOfProducts": "1",
                                    "TotalQuantity": "10",
                                    "TotalValue": "150.00"
                                },
                                {
                                    "OrderId": "10501",
                                    "OrderDate": "2015-04-09",
                                    "NumberOfProducts": "1",
                                    "TotalQuantity": "20",
                                    "TotalValue": "149.00"
                                },
                                {
                                    "OrderId": "10505",
                                    "OrderDate": "2015-04-14",
                                    "NumberOfProducts": "1",
                                    "TotalQuantity": "3",
                                    "TotalValue": "147.90"
                                },
                                {
                                    "OrderId": "10482",
                                    "OrderDate": "2015-03-21",
                                    "NumberOfProducts": "1",
                                    "TotalQuantity": "10",
                                    "TotalValue": "147.00"
                                },
                                {
                                    "OrderId": "10334",
                                    "OrderDate": "2014-10-21",
                                    "NumberOfProducts": "2",
                                    "TotalQuantity": "18",
                                    "TotalValue": "144.80"
                                },
                                {
                                    "OrderId": "10321",
                                    "OrderDate": "2014-10-03",
                                    "NumberOfProducts": "1",
                                    "TotalQuantity": "10",
                                    "TotalValue": "144.00"
                                },
                                {
                                    "OrderId": "10899",
                                    "OrderDate": "2016-02-20",
                                    "NumberOfProducts": "1",
                                    "TotalQuantity": "8",
                                    "TotalValue": "144.00"
                                },
                                {
                                    "OrderId": "10585",
                                    "OrderDate": "2015-07-01",
                                    "NumberOfProducts": "1",
                                    "TotalQuantity": "15",
                                    "TotalValue": "142.50"
                                },
                                {
                                    "OrderId": "10349",
                                    "OrderDate": "2014-11-08",
                                    "NumberOfProducts": "1",
                                    "TotalQuantity": "24",
                                    "TotalValue": "141.60"
                                },
                                {
                                    "OrderId": "10809",
                                    "OrderDate": "2016-01-01",
                                    "NumberOfProducts": "1",
                                    "TotalQuantity": "20",
                                    "TotalValue": "140.00"
                                },
                                {
                                    "OrderId": "10737",
                                    "OrderDate": "2015-11-11",
                                    "NumberOfProducts": "2",
                                    "TotalQuantity": "16",
                                    "TotalValue": "139.80"
                                },
                                {
                                    "OrderId": "10538",
                                    "OrderDate": "2015-05-15",
                                    "NumberOfProducts": "2",
                                    "TotalQuantity": "8",
                                    "TotalValue": "139.80"
                                },
                                {
                                    "OrderId": "10928",
                                    "OrderDate": "2016-03-05",
                                    "NumberOfProducts": "2",
                                    "TotalQuantity": "10",
                                    "TotalValue": "137.50"
                                },
                                {
                                    "OrderId": "10509",
                                    "OrderDate": "2015-04-17",
                                    "NumberOfProducts": "1",
                                    "TotalQuantity": "3",
                                    "TotalValue": "136.80"
                                },
                                {
                                    "OrderId": "10366",
                                    "OrderDate": "2014-11-28",
                                    "NumberOfProducts": "2",
                                    "TotalQuantity": "10",
                                    "TotalValue": "136.00"
                                },
                                {
                                    "OrderId": "10662",
                                    "OrderDate": "2015-09-09",
                                    "NumberOfProducts": "1",
                                    "TotalQuantity": "10",
                                    "TotalValue": "125.00"
                                },
                                {
                                    "OrderId": "10295",
                                    "OrderDate": "2014-09-02",
                                    "NumberOfProducts": "1",
                                    "TotalQuantity": "4",
                                    "TotalValue": "121.60"
                                },
                                {
                                    "OrderId": "10615",
                                    "OrderDate": "2015-07-30",
                                    "NumberOfProducts": "1",
                                    "TotalQuantity": "5",
                                    "TotalValue": "120.00"
                                },
                                {
                                    "OrderId": "10699",
                                    "OrderDate": "2015-10-09",
                                    "NumberOfProducts": "1",
                                    "TotalQuantity": "12",
                                    "TotalValue": "114.00"
                                },
                                {
                                    "OrderId": "10322",
                                    "OrderDate": "2014-10-04",
                                    "NumberOfProducts": "1",
                                    "TotalQuantity": "20",
                                    "TotalValue": "112.00"
                                },
                                {
                                    "OrderId": "10381",
                                    "OrderDate": "2014-12-12",
                                    "NumberOfProducts": "1",
                                    "TotalQuantity": "14",
                                    "TotalValue": "112.00"
                                },
                                {
                                    "OrderId": "10531",
                                    "OrderDate": "2015-05-08",
                                    "NumberOfProducts": "1",
                                    "TotalQuantity": "2",
                                    "TotalValue": "110.00"
                                },
                                {
                                    "OrderId": "10950",
                                    "OrderDate": "2016-03-16",
                                    "NumberOfProducts": "1",
                                    "TotalQuantity": "5",
                                    "TotalValue": "110.00"
                                },
                                {
                                    "OrderId": "10907",
                                    "OrderDate": "2016-02-25",
                                    "NumberOfProducts": "1",
                                    "TotalQuantity": "14",
                                    "TotalValue": "108.50"
                                },
                                {
                                    "OrderId": "10969",
                                    "OrderDate": "2016-03-23",
                                    "NumberOfProducts": "1",
                                    "TotalQuantity": "9",
                                    "TotalValue": "108.00"
                                },
                                {
                                    "OrderId": "10378",
                                    "OrderDate": "2014-12-10",
                                    "NumberOfProducts": "1",
                                    "TotalQuantity": "6",
                                    "TotalValue": "103.20"
                                },
                                {
                                    "OrderId": "10415",
                                    "OrderDate": "2015-01-15",
                                    "NumberOfProducts": "2",
                                    "TotalQuantity": "22",
                                    "TotalValue": "102.40"
                                },
                                {
                                    "OrderId": "10259",
                                    "OrderDate": "2014-07-18",
                                    "NumberOfProducts": "2",
                                    "TotalQuantity": "11",
                                    "TotalValue": "100.80"
                                },
                                {
                                    "OrderId": "10867",
                                    "OrderDate": "2016-02-03",
                                    "NumberOfProducts": "1",
                                    "TotalQuantity": "3",
                                    "TotalValue": "98.40"
                                },
                                {
                                    "OrderId": "10778",
                                    "OrderDate": "2015-12-16",
                                    "NumberOfProducts": "1",
                                    "TotalQuantity": "10",
                                    "TotalValue": "96.50"
                                },
                                {
                                    "OrderId": "10710",
                                    "OrderDate": "2015-10-20",
                                    "NumberOfProducts": "2",
                                    "TotalQuantity": "10",
                                    "TotalValue": "93.50"
                                },
                                {
                                    "OrderId": "10955",
                                    "OrderDate": "2016-03-17",
                                    "NumberOfProducts": "1",
                                    "TotalQuantity": "12",
                                    "TotalValue": "93.00"
                                },
                                {
                                    "OrderId": "10371",
                                    "OrderDate": "2014-12-03",
                                    "NumberOfProducts": "1",
                                    "TotalQuantity": "6",
                                    "TotalValue": "91.20"
                                },
                                {
                                    "OrderId": "10288",
                                    "OrderDate": "2014-08-23",
                                    "NumberOfProducts": "2",
                                    "TotalQuantity": "13",
                                    "TotalValue": "89.00"
                                },
                                {
                                    "OrderId": "10308",
                                    "OrderDate": "2014-09-18",
                                    "NumberOfProducts": "2",
                                    "TotalQuantity": "6",
                                    "TotalValue": "88.80"
                                },
                                {
                                    "OrderId": "10331",
                                    "OrderDate": "2014-10-16",
                                    "NumberOfProducts": "1",
                                    "TotalQuantity": "15",
                                    "TotalValue": "88.50"
                                },
                                {
                                    "OrderId": "10753",
                                    "OrderDate": "2015-11-25",
                                    "NumberOfProducts": "2",
                                    "TotalQuantity": "9",
                                    "TotalValue": "88.00"
                                },
                                {
                                    "OrderId": "11067",
                                    "OrderDate": "2016-05-04",
                                    "NumberOfProducts": "1",
                                    "TotalQuantity": "9",
                                    "TotalValue": "86.85"
                                },
                                {
                                    "OrderId": "10281",
                                    "OrderDate": "2014-08-14",
                                    "NumberOfProducts": "3",
                                    "TotalQuantity": "11",
                                    "TotalValue": "86.50"
                                },
                                {
                                    "OrderId": "10391",
                                    "OrderDate": "2014-12-23",
                                    "NumberOfProducts": "1",
                                    "TotalQuantity": "18",
                                    "TotalValue": "86.40"
                                },
                                {
                                    "OrderId": "11019",
                                    "OrderDate": "2016-04-13",
                                    "NumberOfProducts": "2",
                                    "TotalQuantity": "5",
                                    "TotalValue": "76.00"
                                },
                                {
                                    "OrderId": "10589",
                                    "OrderDate": "2015-07-04",
                                    "NumberOfProducts": "1",
                                    "TotalQuantity": "4",
                                    "TotalValue": "72.00"
                                },
                                {
                                    "OrderId": "10887",
                                    "OrderDate": "2016-02-13",
                                    "NumberOfProducts": "1",
                                    "TotalQuantity": "5",
                                    "TotalValue": "70.00"
                                },
                                {
                                    "OrderId": "10992",
                                    "OrderDate": "2016-04-01",
                                    "NumberOfProducts": "1",
                                    "TotalQuantity": "2",
                                    "TotalValue": "69.60"
                                },
                                {
                                    "OrderId": "10963",
                                    "OrderDate": "2016-03-19",
                                    "NumberOfProducts": "1",
                                    "TotalQuantity": "2",
                                    "TotalValue": "68.00"
                                },
                                {
                                    "OrderId": "10602",
                                    "OrderDate": "2015-07-17",
                                    "NumberOfProducts": "1",
                                    "TotalQuantity": "5",
                                    "TotalValue": "65.00"
                                },
                                {
                                    "OrderId": "10683",
                                    "OrderDate": "2015-09-26",
                                    "NumberOfProducts": "1",
                                    "TotalQuantity": "9",
                                    "TotalValue": "63.00"
                                },
                                {
                                    "OrderId": "10631",
                                    "OrderDate": "2015-08-14",
                                    "NumberOfProducts": "1",
                                    "TotalQuantity": "8",
                                    "TotalValue": "62.00"
                                },
                                {
                                    "OrderId": "11037",
                                    "OrderDate": "2016-04-21",
                                    "NumberOfProducts": "1",
                                    "TotalQuantity": "4",
                                    "TotalValue": "60.00"
                                },
                                {
                                    "OrderId": "10620",
                                    "OrderDate": "2015-08-05",
                                    "NumberOfProducts": "2",
                                    "TotalQuantity": "10",
                                    "TotalValue": "57.50"
                                },
                                {
                                    "OrderId": "10754",
                                    "OrderDate": "2015-11-25",
                                    "NumberOfProducts": "1",
                                    "TotalQuantity": "3",
                                    "TotalValue": "55.20"
                                },
                                {
                                    "OrderId": "10738",
                                    "OrderDate": "2015-11-12",
                                    "NumberOfProducts": "1",
                                    "TotalQuantity": "3",
                                    "TotalValue": "52.35"
                                },
                                {
                                    "OrderId": "10422",
                                    "OrderDate": "2015-01-22",
                                    "NumberOfProducts": "1",
                                    "TotalQuantity": "2",
                                    "TotalValue": "49.80"
                                },
                                {
                                    "OrderId": "10271",
                                    "OrderDate": "2014-08-01",
                                    "NumberOfProducts": "1",
                                    "TotalQuantity": "24",
                                    "TotalValue": "48.00"
                                },
                                {
                                    "OrderId": "10674",
                                    "OrderDate": "2015-09-18",
                                    "NumberOfProducts": "1",
                                    "TotalQuantity": "5",
                                    "TotalValue": "45.00"
                                },
                                {
                                    "OrderId": "11057",
                                    "OrderDate": "2016-04-29",
                                    "NumberOfProducts": "1",
                                    "TotalQuantity": "3",
                                    "TotalValue": "45.00"
                                },
                                {
                                    "OrderId": "11051",
                                    "OrderDate": "2016-04-27",
                                    "NumberOfProducts": "1",
                                    "TotalQuantity": "10",
                                    "TotalValue": "45.00"
                                },
                                {
                                    "OrderId": "10900",
                                    "OrderDate": "2016-02-20",
                                    "NumberOfProducts": "1",
                                    "TotalQuantity": "3",
                                    "TotalValue": "45.00"
                                },
                                {
                                    "OrderId": "10815",
                                    "OrderDate": "2016-01-05",
                                    "NumberOfProducts": "1",
                                    "TotalQuantity": "16",
                                    "TotalValue": "40.00"
                                },
                                {
                                    "OrderId": "10883",
                                    "OrderDate": "2016-02-12",
                                    "NumberOfProducts": "1",
                                    "TotalQuantity": "8",
                                    "TotalValue": "36.00"
                                },
                                {
                                    "OrderId": "10898",
                                    "OrderDate": "2016-02-20",
                                    "NumberOfProducts": "1",
                                    "TotalQuantity": "5",
                                    "TotalValue": "30.00"
                                },
                                {
                                    "OrderId": "10767",
                                    "OrderDate": "2015-12-05",
                                    "NumberOfProducts": "1",
                                    "TotalQuantity": "2",
                                    "TotalValue": "28.00"
                                },
                                {
                                    "OrderId": "10586",
                                    "OrderDate": "2015-07-02",
                                    "NumberOfProducts": "1",
                                    "TotalQuantity": "4",
                                    "TotalValue": "28.00"
                                },
                                {
                                    "OrderId": "10807",
                                    "OrderDate": "2015-12-31",
                                    "NumberOfProducts": "1",
                                    "TotalQuantity": "1",
                                    "TotalValue": "18.40"
                                },
                                {
                                    "OrderId": "10782",
                                    "OrderDate": "2015-12-17",
                                    "NumberOfProducts": "1",
                                    "TotalQuantity": "1",
                                    "TotalValue": "12.50"
                                }
                            ]
                        },
                        "text/html": [
                            "<table>",
                            "<tr><th>OrderId</th><th>OrderDate</th><th>NumberOfProducts</th><th>TotalQuantity</th><th>TotalValue</th></tr>",
                            "<tr><td>10865</td><td>2016-02-02</td><td>2</td><td>140</td><td>17250.00</td></tr>",
                            "<tr><td>11030</td><td>2016-04-17</td><td>4</td><td>330</td><td>16321.90</td></tr>",
                            "<tr><td>10981</td><td>2016-03-27</td><td>1</td><td>60</td><td>15810.00</td></tr>",
                            "<tr><td>10372</td><td>2014-12-04</td><td>4</td><td>164</td><td>12281.20</td></tr>",
                            "<tr><td>10424</td><td>2015-01-23</td><td>3</td><td>139</td><td>11493.20</td></tr>",
                            "<tr><td>10817</td><td>2016-01-06</td><td>4</td><td>155</td><td>11490.70</td></tr>",
                            "<tr><td>10889</td><td>2016-02-16</td><td>2</td><td>80</td><td>11380.00</td></tr>",
                            "<tr><td>10417</td><td>2015-01-16</td><td>4</td><td>123</td><td>11283.20</td></tr>",
                            "<tr><td>10897</td><td>2016-02-19</td><td>2</td><td>116</td><td>10835.24</td></tr>",
                            "<tr><td>10353</td><td>2014-11-13</td><td>2</td><td>62</td><td>10741.60</td></tr>",
                            "<tr><td>10515</td><td>2015-04-23</td><td>5</td><td>286</td><td>10588.50</td></tr>",
                            "<tr><td>10479</td><td>2015-03-19</td><td>4</td><td>148</td><td>10495.60</td></tr>",
                            "<tr><td>10540</td><td>2015-05-19</td><td>4</td><td>165</td><td>10191.70</td></tr>",
                            "<tr><td>10691</td><td>2015-10-03</td><td>5</td><td>182</td><td>10164.80</td></tr>",
                            "<tr><td>11032</td><td>2016-04-17</td><td>3</td><td>90</td><td>8902.50</td></tr>",
                            "<tr><td>10816</td><td>2016-01-06</td><td>2</td><td>50</td><td>8891.00</td></tr>",
                            "<tr><td>10514</td><td>2015-04-22</td><td>5</td><td>233</td><td>8623.45</td></tr>",
                            "<tr><td>10912</td><td>2016-02-26</td><td>2</td><td>100</td><td>8267.40</td></tr>",
                            "<tr><td>10360</td><td>2014-11-22</td><td>5</td><td>138</td><td>7390.20</td></tr>",
                            "<tr><td>10776</td><td>2015-12-15</td><td>4</td><td>175</td><td>6984.50</td></tr>",
                            "<tr><td>11021</td><td>2016-04-14</td><td>5</td><td>168</td><td>6941.49</td></tr>",
                            "<tr><td>11017</td><td>2016-04-13</td><td>3</td><td>165</td><td>6750.00</td></tr>",
                            "<tr><td>10993</td><td>2016-04-01</td><td>2</td><td>85</td><td>6527.25</td></tr>",
                            "<tr><td>10633</td><td>2015-08-15</td><td>4</td><td>164</td><td>6483.05</td></tr>",
                            "<tr><td>10607</td><td>2015-07-22</td><td>5</td><td>213</td><td>6475.40</td></tr>",
                            "<tr><td>10895</td><td>2016-02-18</td><td>4</td><td>346</td><td>6379.40</td></tr>",
                            "<tr><td>10612</td><td>2015-07-28</td><td>5</td><td>263</td><td>6375.00</td></tr>",
                            "<tr><td>10595</td><td>2015-07-10</td><td>3</td><td>215</td><td>6300.00</td></tr>",
                            "<tr><td>10687</td><td>2015-09-30</td><td>3</td><td>66</td><td>6201.90</td></tr>",
                            "<tr><td>10847</td><td>2016-01-22</td><td>6</td><td>288</td><td>6164.90</td></tr>",
                            "<tr><td>10324</td><td>2014-10-08</td><td>5</td><td>241</td><td>6155.90</td></tr>",
                            "<tr><td>10430</td><td>2015-01-30</td><td>4</td><td>195</td><td>5796.00</td></tr>",
                            "<tr><td>10440</td><td>2015-02-10</td><td>4</td><td>208</td><td>5793.10</td></tr>",
                            "<tr><td>10351</td><td>2014-11-11</td><td>4</td><td>120</td><td>5677.60</td></tr>",
                            "<tr><td>10893</td><td>2016-02-18</td><td>5</td><td>119</td><td>5502.11</td></tr>",
                            "<tr><td>10678</td><td>2015-09-23</td><td>4</td><td>280</td><td>5256.50</td></tr>",
                            "<tr><td>11072</td><td>2016-05-05</td><td>4</td><td>200</td><td>5218.00</td></tr>",
                            "<tr><td>10616</td><td>2015-07-31</td><td>4</td><td>59</td><td>5032.00</td></tr>",
                            "<tr><td>10634</td><td>2015-08-15</td><td>4</td><td>102</td><td>4985.50</td></tr>",
                            "<tr><td>10990</td><td>2016-04-01</td><td>4</td><td>256</td><td>4931.00</td></tr>",
                            "<tr><td>11008</td><td>2016-04-08</td><td>3</td><td>181</td><td>4903.50</td></tr>",
                            "<tr><td>10694</td><td>2015-10-06</td><td>3</td><td>165</td><td>4825.00</td></tr>",
                            "<tr><td>10329</td><td>2014-10-15</td><td>4</td><td>50</td><td>4819.40</td></tr>",
                            "<tr><td>10979</td><td>2016-03-26</td><td>6</td><td>207</td><td>4813.50</td></tr>",
                            "<tr><td>10941</td><td>2016-03-11</td><td>4</td><td>204</td><td>4769.00</td></tr>",
                            "<tr><td>10510</td><td>2015-04-18</td><td>2</td><td>72</td><td>4735.44</td></tr>",
                            "<tr><td>11064</td><td>2016-05-01</td><td>5</td><td>173</td><td>4722.30</td></tr>",
                            "<tr><td>10836</td><td>2016-01-16</td><td>5</td><td>172</td><td>4705.50</td></tr>",
                            "<tr><td>10953</td><td>2016-03-16</td><td>2</td><td>100</td><td>4675.00</td></tr>",
                            "<tr><td>10658</td><td>2015-09-05</td><td>4</td><td>255</td><td>4668.00</td></tr>",
                            "<tr><td>10666</td><td>2015-09-12</td><td>2</td><td>46</td><td>4666.94</td></tr>",
                            "<tr><td>10841</td><td>2016-01-20</td><td>4</td><td>111</td><td>4581.00</td></tr>",
                            "<tr><td>10745</td><td>2015-11-18</td><td>4</td><td>92</td><td>4529.80</td></tr>",
                            "<tr><td>10711</td><td>2015-10-21</td><td>3</td><td>174</td><td>4451.70</td></tr>",
                            "<tr><td>10949</td><td>2016-03-13</td><td>4</td><td>108</td><td>4422.00</td></tr>",
                            "<tr><td>10657</td><td>2015-09-04</td><td>6</td><td>204</td><td>4371.60</td></tr>",
                            "<tr><td>10762</td><td>2015-12-02</td><td>4</td><td>134</td><td>4337.00</td></tr>",
                            "<tr><td>10605</td><td>2015-07-21</td><td>4</td><td>135</td><td>4326.00</td></tr>",
                            "<tr><td>10451</td><td>2015-02-19</td><td>4</td><td>238</td><td>4277.40</td></tr>",
                            "<tr><td>10672</td><td>2015-09-17</td><td>2</td><td>27</td><td>4210.50</td></tr>",
                            "<tr><td>10549</td><td>2015-05-27</td><td>3</td><td>203</td><td>4181.50</td></tr>",
                            "<tr><td>10530</td><td>2015-05-08</td><td>4</td><td>135</td><td>4180.00</td></tr>",
                            "<tr><td>10305</td><td>2014-09-13</td><td>3</td><td>80</td><td>4157.00</td></tr>",
                            "<tr><td>10518</td><td>2015-04-25</td><td>3</td><td>29</td><td>4150.05</td></tr>",
                            "<tr><td>10845</td><td>2016-01-21</td><td>5</td><td>245</td><td>4059.00</td></tr>",
                            "<tr><td>10801</td><td>2015-12-29</td><td>2</td><td>60</td><td>4035.80</td></tr>",
                            "<tr><td>10267</td><td>2014-07-29</td><td>3</td><td>135</td><td>4031.00</td></tr>",
                            "<tr><td>10802</td><td>2015-12-29</td><td>4</td><td>120</td><td>3923.75</td></tr>",
                            "<tr><td>10588</td><td>2015-07-03</td><td>2</td><td>140</td><td>3900.00</td></tr>",
                            "<tr><td>10458</td><td>2015-02-26</td><td>5</td><td>145</td><td>3891.00</td></tr>",
                            "<tr><td>10401</td><td>2015-01-01</td><td>4</td><td>168</td><td>3868.60</td></tr>",
                            "<tr><td>10988</td><td>2016-03-31</td><td>2</td><td>100</td><td>3772.00</td></tr>",
                            "<tr><td>11056</td><td>2016-04-28</td><td>3</td><td>125</td><td>3740.00</td></tr>",
                            "<tr><td>10252</td><td>2014-07-09</td><td>3</td><td>105</td><td>3730.00</td></tr>",
                            "<tr><td>10789</td><td>2015-12-22</td><td>4</td><td>93</td><td>3687.00</td></tr>",
                            "<tr><td>10555</td><td>2015-06-02</td><td>5</td><td>143</td><td>3680.50</td></tr>",
                            "<tr><td>11053</td><td>2016-04-27</td><td>3</td><td>80</td><td>3658.75</td></tr>",
                            "<tr><td>10359</td><td>2014-11-21</td><td>3</td><td>206</td><td>3654.40</td></tr>",
                            "<tr><td>10938</td><td>2016-03-10</td><td>4</td><td>128</td><td>3642.50</td></tr>",
                            "<tr><td>10772</td><td>2015-12-10</td><td>2</td><td>43</td><td>3603.22</td></tr>",
                            "<tr><td>10698</td><td>2015-10-09</td><td>5</td><td>108</td><td>3600.73</td></tr>",
                            "<tr><td>11033</td><td>2016-04-17</td><td>2</td><td>106</td><td>3592.00</td></tr>",
                            "<tr><td>10962</td><td>2016-03-19</td><td>5</td><td>195</td><td>3584.00</td></tr>",
                            "<tr><td>10861</td><td>2016-01-30</td><td>5</td><td>140</td><td>3523.40</td></tr>",
                            "<tr><td>10854</td><td>2016-01-27</td><td>2</td><td>165</td><td>3490.00</td></tr>",
                            "<tr><td>10688</td><td>2015-10-01</td><td>3</td><td>92</td><td>3490.00</td></tr>",
                            "<tr><td>10339</td><td>2014-10-28</td><td>3</td><td>108</td><td>3463.20</td></tr>",
                            "<tr><td>10718</td><td>2015-10-27</td><td>4</td><td>116</td><td>3463.00</td></tr>",
                            "<tr><td>10709</td><td>2015-10-17</td><td>3</td><td>78</td><td>3424.00</td></tr>",
                            "<tr><td>10701</td><td>2015-10-13</td><td>3</td><td>97</td><td>3370.00</td></tr>",
                            "<tr><td>10760</td><td>2015-12-01</td><td>3</td><td>82</td><td>3304.00</td></tr>",
                            "<tr><td>10393</td><td>2014-12-25</td><td>5</td><td>176</td><td>3302.60</td></tr>",
                            "<tr><td>10524</td><td>2015-05-01</td><td>4</td><td>87</td><td>3192.65</td></tr>",
                            "<tr><td>10490</td><td>2015-03-31</td><td>3</td><td>126</td><td>3163.20</td></tr>",
                            "<tr><td>10886</td><td>2016-02-13</td><td>3</td><td>145</td><td>3127.50</td></tr>",
                            "<tr><td>10298</td><td>2014-09-05</td><td>4</td><td>125</td><td>3127.00</td></tr>",
                            "<tr><td>10742</td><td>2015-11-14</td><td>3</td><td>105</td><td>3118.00</td></tr>",
                            "<tr><td>10567</td><td>2015-06-12</td><td>3</td><td>103</td><td>3109.00</td></tr>",
                            "<tr><td>10823</td><td>2016-01-09</td><td>4</td><td>90</td><td>3107.50</td></tr>",
                            "<tr><td>11039</td><td>2016-04-21</td><td>4</td><td>132</td><td>3090.00</td></tr>",
                            "<tr><td>10757</td><td>2015-11-27</td><td>4</td><td>91</td><td>3082.00</td></tr>",
                            "<tr><td>10400</td><td>2015-01-01</td><td>3</td><td>86</td><td>3063.00</td></tr>",
                            "<tr><td>10286</td><td>2014-08-21</td><td>2</td><td>140</td><td>3016.00</td></tr>",
                            "<tr><td>10511</td><td>2015-04-18</td><td>3</td><td>110</td><td>3000.00</td></tr>",
                            "<tr><td>10852</td><td>2016-01-26</td><td>3</td><td>71</td><td>2984.00</td></tr>",
                            "<tr><td>11012</td><td>2016-04-09</td><td>3</td><td>146</td><td>2974.00</td></tr>",
                            "<tr><td>10714</td><td>2015-10-22</td><td>5</td><td>137</td><td>2941.00</td></tr>",
                            "<tr><td>10345</td><td>2014-11-04</td><td>3</td><td>159</td><td>2924.80</td></tr>",
                            "<tr><td>10382</td><td>2014-12-13</td><td>5</td><td>165</td><td>2900.00</td></tr>",
                            "<tr><td>10894</td><td>2016-02-18</td><td>3</td><td>198</td><td>2898.00</td></tr>",
                            "<tr><td>10637</td><td>2015-08-19</td><td>3</td><td>95</td><td>2896.25</td></tr>",
                            "<tr><td>10796</td><td>2015-12-25</td><td>4</td><td>90</td><td>2878.08</td></tr>",
                            "<tr><td>10991</td><td>2016-04-01</td><td>3</td><td>160</td><td>2870.00</td></tr>",
                            "<tr><td>10344</td><td>2014-11-01</td><td>2</td><td>105</td><td>2856.00</td></tr>",
                            "<tr><td>10561</td><td>2015-06-06</td><td>2</td><td>60</td><td>2844.50</td></tr>",
                            "<tr><td>10316</td><td>2014-09-27</td><td>2</td><td>80</td><td>2835.00</td></tr>",
                            "<tr><td>10713</td><td>2015-10-22</td><td>4</td><td>182</td><td>2827.90</td></tr>",
                            "<tr><td>10546</td><td>2015-05-23</td><td>3</td><td>80</td><td>2812.00</td></tr>",
                            "<tr><td>10629</td><td>2015-08-12</td><td>2</td><td>29</td><td>2775.05</td></tr>",
                            "<tr><td>10805</td><td>2015-12-30</td><td>2</td><td>20</td><td>2775.00</td></tr>",
                            "<tr><td>10987</td><td>2016-03-31</td><td>3</td><td>86</td><td>2772.00</td></tr>",
                            "<tr><td>11001</td><td>2016-04-06</td><td>4</td><td>116</td><td>2769.00</td></tr>",
                            "<tr><td>10787</td><td>2015-12-19</td><td>2</td><td>35</td><td>2760.80</td></tr>",
                            "<tr><td>10851</td><td>2016-01-26</td><td>4</td><td>67</td><td>2740.00</td></tr>",
                            "<tr><td>10398</td><td>2014-12-30</td><td>2</td><td>150</td><td>2736.00</td></tr>",
                            "<tr><td>10638</td><td>2015-08-20</td><td>3</td><td>101</td><td>2720.05</td></tr>",
                            "<tr><td>10465</td><td>2015-03-05</td><td>5</td><td>118</td><td>2719.00</td></tr>",
                            "<tr><td>10523</td><td>2015-05-01</td><td>4</td><td>64</td><td>2715.90</td></tr>",
                            "<tr><td>10402</td><td>2015-01-02</td><td>2</td><td>125</td><td>2713.50</td></tr>",
                            "<tr><td>10302</td><td>2014-09-10</td><td>3</td><td>80</td><td>2708.80</td></tr>",
                            "<tr><td>10618</td><td>2015-08-01</td><td>3</td><td>105</td><td>2697.50</td></tr>",
                            "<tr><td>10831</td><td>2016-01-14</td><td>4</td><td>27</td><td>2684.40</td></tr>",
                            "<tr><td>10455</td><td>2015-02-24</td><td>4</td><td>125</td><td>2684.00</td></tr>",
                            "<tr><td>10522</td><td>2015-04-30</td><td>4</td><td>109</td><td>2657.80</td></tr>",
                            "<tr><td>11007</td><td>2016-04-08</td><td>3</td><td>54</td><td>2633.90</td></tr>",
                            "<tr><td>10857</td><td>2016-01-28</td><td>3</td><td>75</td><td>2630.95</td></tr>",
                            "<tr><td>10516</td><td>2015-04-24</td><td>3</td><td>125</td><td>2614.50</td></tr>",
                            "<tr><td>10755</td><td>2015-11-26</td><td>4</td><td>99</td><td>2598.00</td></tr>",
                            "<tr><td>10570</td><td>2015-06-17</td><td>2</td><td>75</td><td>2595.00</td></tr>",
                            "<tr><td>10838</td><td>2016-01-19</td><td>3</td><td>79</td><td>2584.50</td></tr>",
                            "<tr><td>10340</td><td>2014-10-29</td><td>3</td><td>72</td><td>2564.40</td></tr>",
                            "<tr><td>10335</td><td>2014-10-22</td><td>4</td><td>86</td><td>2545.20</td></tr>",
                            "<tr><td>10703</td><td>2015-10-14</td><td>3</td><td>75</td><td>2545.00</td></tr>",
                            "<tr><td>10764</td><td>2015-12-03</td><td>2</td><td>150</td><td>2540.00</td></tr>",
                            "<tr><td>10369</td><td>2014-12-02</td><td>2</td><td>38</td><td>2527.20</td></tr>",
                            "<tr><td>10431</td><td>2015-01-30</td><td>3</td><td>130</td><td>2523.00</td></tr>",
                            "<tr><td>10795</td><td>2015-12-24</td><td>2</td><td>100</td><td>2499.25</td></tr>",
                            "<tr><td>10593</td><td>2015-07-09</td><td>3</td><td>45</td><td>2493.00</td></tr>",
                            "<tr><td>10255</td><td>2014-07-12</td><td>4</td><td>110</td><td>2490.50</td></tr>",
                            "<tr><td>10756</td><td>2015-11-27</td><td>4</td><td>67</td><td>2487.50</td></tr>",
                            "<tr><td>10337</td><td>2014-10-24</td><td>5</td><td>137</td><td>2467.00</td></tr>",
                            "<tr><td>10263</td><td>2014-07-23</td><td>4</td><td>184</td><td>2464.80</td></tr>",
                            "<tr><td>10930</td><td>2016-03-06</td><td>4</td><td>116</td><td>2455.00</td></tr>",
                            "<tr><td>10513</td><td>2015-04-22</td><td>3</td><td>105</td><td>2427.50</td></tr>",
                            "<tr><td>10583</td><td>2015-06-30</td><td>3</td><td>44</td><td>2413.90</td></tr>",
                            "<tr><td>11031</td><td>2016-04-17</td><td>5</td><td>182</td><td>2393.50</td></tr>",
                            "<tr><td>10598</td><td>2015-07-14</td><td>2</td><td>59</td><td>2388.50</td></tr>",
                            "<tr><td>11068</td><td>2016-05-04</td><td>3</td><td>72</td><td>2384.80</td></tr>",
                            "<tr><td>10948</td><td>2016-03-13</td><td>3</td><td>53</td><td>2362.25</td></tr>",
                            "<tr><td>10519</td><td>2015-04-28</td><td>3</td><td>66</td><td>2356.00</td></tr>",
                            "<tr><td>10693</td><td>2015-10-06</td><td>4</td><td>111</td><td>2334.00</td></tr>",
                            "<tr><td>10395</td><td>2014-12-26</td><td>3</td><td>106</td><td>2333.20</td></tr>",
                            "<tr><td>10314</td><td>2014-09-25</td><td>3</td><td>95</td><td>2327.00</td></tr>",
                            "<tr><td>10746</td><td>2015-11-19</td><td>4</td><td>83</td><td>2311.70</td></tr>",
                            "<tr><td>10766</td><td>2015-12-05</td><td>3</td><td>115</td><td>2310.00</td></tr>",
                            "<tr><td>10670</td><td>2015-09-16</td><td>5</td><td>192</td><td>2301.75</td></tr>",
                            "<tr><td>10342</td><td>2014-10-30</td><td>4</td><td>160</td><td>2300.80</td></tr>",
                            "<tr><td>10533</td><td>2015-05-12</td><td>3</td><td>98</td><td>2295.20</td></tr>",
                            "<tr><td>10804</td><td>2015-12-30</td><td>3</td><td>64</td><td>2290.40</td></tr>",
                            "<tr><td>10601</td><td>2015-07-16</td><td>2</td><td>95</td><td>2285.00</td></tr>",
                            "<tr><td>10855</td><td>2016-01-27</td><td>4</td><td>103</td><td>2275.25</td></tr>",
                            "<tr><td>10390</td><td>2014-12-23</td><td>4</td><td>169</td><td>2275.20</td></tr>",
                            "<tr><td>10361</td><td>2014-11-22</td><td>2</td><td>109</td><td>2273.60</td></tr>",
                            "<tr><td>10327</td><td>2014-10-11</td><td>4</td><td>140</td><td>2262.50</td></tr>",
                            "<tr><td>10985</td><td>2016-03-30</td><td>3</td><td>79</td><td>2248.20</td></tr>",
                            "<tr><td>10332</td><td>2014-10-17</td><td>3</td><td>66</td><td>2233.60</td></tr>",
                            "<tr><td>10977</td><td>2016-03-26</td><td>4</td><td>90</td><td>2233.00</td></tr>",
                            "<tr><td>10384</td><td>2014-12-16</td><td>2</td><td>43</td><td>2222.40</td></tr>",
                            "<tr><td>10986</td><td>2016-03-30</td><td>4</td><td>70</td><td>2220.00</td></tr>",
                            "<tr><td>10773</td><td>2015-12-11</td><td>3</td><td>110</td><td>2216.25</td></tr>",
                            "<tr><td>10436</td><td>2015-02-05</td><td>4</td><td>99</td><td>2210.80</td></tr>",
                            "<tr><td>10419</td><td>2015-01-20</td><td>2</td><td>80</td><td>2208.00</td></tr>",
                            "<tr><td>10892</td><td>2016-02-17</td><td>1</td><td>40</td><td>2200.00</td></tr>",
                            "<tr><td>10748</td><td>2015-11-20</td><td>3</td><td>112</td><td>2196.00</td></tr>",
                            "<tr><td>10285</td><td>2014-08-20</td><td>3</td><td>121</td><td>2179.20</td></tr>",
                            "<tr><td>10290</td><td>2014-08-27</td><td>4</td><td>60</td><td>2169.00</td></tr>",
                            "<tr><td>10872</td><td>2016-02-05</td><td>4</td><td>66</td><td>2166.80</td></tr>",
                            "<tr><td>10541</td><td>2015-05-19</td><td>4</td><td>84</td><td>2162.80</td></tr>",
                            "<tr><td>11028</td><td>2016-04-16</td><td>2</td><td>59</td><td>2160.00</td></tr>",
                            "<tr><td>10535</td><td>2015-05-13</td><td>4</td><td>80</td><td>2156.50</td></tr>",
                            "<tr><td>10575</td><td>2015-06-20</td><td>4</td><td>58</td><td>2147.40</td></tr>",
                            "<tr><td>10558</td><td>2015-06-04</td><td>5</td><td>96</td><td>2142.90</td></tr>",
                            "<tr><td>10273</td><td>2014-08-05</td><td>5</td><td>152</td><td>2142.40</td></tr>",
                            "<tr><td>10413</td><td>2015-01-14</td><td>3</td><td>78</td><td>2123.20</td></tr>",
                            "<tr><td>10452</td><td>2015-02-20</td><td>2</td><td>115</td><td>2096.00</td></tr>",
                            "<tr><td>10877</td><td>2016-02-09</td><td>2</td><td>55</td><td>2086.00</td></tr>",
                            "<tr><td>10536</td><td>2015-05-14</td><td>4</td><td>100</td><td>2085.00</td></tr>",
                            "<tr><td>10871</td><td>2016-02-05</td><td>3</td><td>78</td><td>2083.40</td></tr>",
                            "<tr><td>10573</td><td>2015-06-19</td><td>3</td><td>83</td><td>2082.00</td></tr>",
                            "<tr><td>10814</td><td>2016-01-05</td><td>4</td><td>78</td><td>2070.00</td></tr>",
                            "<tr><td>10641</td><td>2015-08-22</td><td>2</td><td>110</td><td>2054.00</td></tr>",
                            "<tr><td>10964</td><td>2016-03-20</td><td>3</td><td>21</td><td>2052.50</td></tr>",
                            "<tr><td>10461</td><td>2015-02-28</td><td>3</td><td>128</td><td>2051.60</td></tr>",
                            "<tr><td>10503</td><td>2015-04-11</td><td>2</td><td>90</td><td>2048.50</td></tr>",
                            "<tr><td>10700</td><td>2015-10-10</td><td>4</td><td>117</td><td>2048.00</td></tr>",
                            "<tr><td>10566</td><td>2015-06-12</td><td>3</td><td>63</td><td>2040.00</td></tr>",
                            "<tr><td>10924</td><td>2016-03-04</td><td>3</td><td>56</td><td>2034.50</td></tr>",
                            "<tr><td>10663</td><td>2015-09-10</td><td>3</td><td>80</td><td>2032.00</td></tr>",
                            "<tr><td>10258</td><td>2014-07-17</td><td>3</td><td>121</td><td>2018.60</td></tr>",
                            "<tr><td>10406</td><td>2015-01-07</td><td>5</td><td>89</td><td>2018.20</td></tr>",
                            "<tr><td>10868</td><td>2016-02-04</td><td>3</td><td>92</td><td>2004.60</td></tr>",
                            "<tr><td>10731</td><td>2015-11-06</td><td>2</td><td>70</td><td>1990.00</td></tr>",
                            "<tr><td>10997</td><td>2016-04-03</td><td>3</td><td>90</td><td>1980.00</td></tr>",
                            "<tr><td>10830</td><td>2016-01-13</td><td>4</td><td>88</td><td>1974.00</td></tr>",
                            "<tr><td>11024</td><td>2016-04-15</td><td>4</td><td>113</td><td>1966.81</td></tr>",
                            "<tr><td>10330</td><td>2014-10-16</td><td>2</td><td>75</td><td>1940.00</td></tr>",
                            "<tr><td>10921</td><td>2016-03-03</td><td>2</td><td>50</td><td>1936.00</td></tr>",
                            "<tr><td>10918</td><td>2016-03-02</td><td>2</td><td>85</td><td>1930.00</td></tr>",
                            "<tr><td>10646</td><td>2015-08-27</td><td>4</td><td>98</td><td>1928.00</td></tr>",
                            "<tr><td>10791</td><td>2015-12-23</td><td>2</td><td>34</td><td>1926.06</td></tr>",
                            "<tr><td>10932</td><td>2016-03-06</td><td>4</td><td>80</td><td>1925.50</td></tr>",
                            "<tr><td>10904</td><td>2016-02-24</td><td>2</td><td>50</td><td>1924.25</td></tr>",
                            "<tr><td>10667</td><td>2015-09-12</td><td>2</td><td>59</td><td>1921.00</td></tr>",
                            "<tr><td>10786</td><td>2015-12-19</td><td>3</td><td>87</td><td>1913.85</td></tr>",
                            "<tr><td>10747</td><td>2015-11-19</td><td>4</td><td>82</td><td>1912.85</td></tr>",
                            "<tr><td>10547</td><td>2015-05-23</td><td>2</td><td>84</td><td>1908.00</td></tr>",
                            "<tr><td>10396</td><td>2014-12-27</td><td>3</td><td>121</td><td>1903.80</td></tr>",
                            "<tr><td>10954</td><td>2016-03-17</td><td>4</td><td>107</td><td>1902.10</td></tr>",
                            "<tr><td>11002</td><td>2016-04-06</td><td>4</td><td>135</td><td>1902.00</td></tr>",
                            "<tr><td>10420</td><td>2015-01-21</td><td>4</td><td>50</td><td>1897.60</td></tr>",
                            "<tr><td>10706</td><td>2015-10-16</td><td>3</td><td>52</td><td>1893.00</td></tr>",
                            "<tr><td>10294</td><td>2014-08-30</td><td>5</td><td>75</td><td>1887.60</td></tr>",
                            "<tr><td>11041</td><td>2016-04-22</td><td>2</td><td>60</td><td>1887.00</td></tr>",
                            "<tr><td>10880</td><td>2016-02-10</td><td>3</td><td>110</td><td>1875.00</td></tr>",
                            "<tr><td>11070</td><td>2016-05-05</td><td>4</td><td>110</td><td>1873.50</td></tr>",
                            "<tr><td>10750</td><td>2015-11-21</td><td>3</td><td>70</td><td>1871.25</td></tr>",
                            "<tr><td>10249</td><td>2014-07-05</td><td>2</td><td>49</td><td>1863.40</td></tr>",
                            "<tr><td>10812</td><td>2016-01-02</td><td>3</td><td>76</td><td>1852.00</td></tr>",
                            "<tr><td>10729</td><td>2015-11-04</td><td>3</td><td>120</td><td>1850.00</td></tr>",
                            "<tr><td>10464</td><td>2015-03-04</td><td>4</td><td>69</td><td>1848.00</td></tr>",
                            "<tr><td>10449</td><td>2015-02-18</td><td>3</td><td>69</td><td>1838.20</td></tr>",
                            "<tr><td>11059</td><td>2016-04-29</td><td>3</td><td>77</td><td>1838.00</td></tr>",
                            "<tr><td>10551</td><td>2015-05-28</td><td>3</td><td>100</td><td>1836.00</td></tr>",
                            "<tr><td>10368</td><td>2014-11-29</td><td>4</td><td>78</td><td>1834.20</td></tr>",
                            "<tr><td>10389</td><td>2014-12-20</td><td>4</td><td>81</td><td>1832.80</td></tr>",
                            "<tr><td>10537</td><td>2015-05-14</td><td>5</td><td>86</td><td>1823.80</td></tr>",
                            "<tr><td>10470</td><td>2015-03-11</td><td>3</td><td>53</td><td>1820.80</td></tr>",
                            "<tr><td>10650</td><td>2015-08-29</td><td>3</td><td>85</td><td>1820.20</td></tr>",
                            "<tr><td>10554</td><td>2015-05-30</td><td>4</td><td>80</td><td>1819.50</td></tr>",
                            "<tr><td>10418</td><td>2015-01-17</td><td>4</td><td>146</td><td>1814.80</td></tr>",
                            "<tr><td>10250</td><td>2014-07-08</td><td>3</td><td>60</td><td>1813.00</td></tr>",
                            "<tr><td>10984</td><td>2016-03-30</td><td>3</td><td>115</td><td>1809.75</td></tr>",
                            "<tr><td>10442</td><td>2015-02-11</td><td>3</td><td>170</td><td>1792.00</td></tr>",
                            "<tr><td>10475</td><td>2015-03-14</td><td>3</td><td>137</td><td>1770.80</td></tr>",
                            "<tr><td>10543</td><td>2015-05-21</td><td>2</td><td>100</td><td>1770.00</td></tr>",
                            "<tr><td>10740</td><td>2015-11-13</td><td>4</td><td>94</td><td>1770.00</td></tr>",
                            "<tr><td>10684</td><td>2015-09-26</td><td>3</td><td>90</td><td>1768.00</td></tr>",
                            "<tr><td>10399</td><td>2014-12-31</td><td>4</td><td>139</td><td>1765.60</td></tr>",
                            "<tr><td>10829</td><td>2016-01-13</td><td>4</td><td>61</td><td>1764.00</td></tr>",
                            "<tr><td>10957</td><td>2016-03-18</td><td>3</td><td>78</td><td>1762.70</td></tr>",
                            "<tr><td>10309</td><td>2014-09-19</td><td>5</td><td>75</td><td>1762.00</td></tr>",
                            "<tr><td>10485</td><td>2015-03-25</td><td>4</td><td>130</td><td>1760.00</td></tr>",
                            "<tr><td>10441</td><td>2015-02-10</td><td>1</td><td>50</td><td>1755.00</td></tr>",
                            "<tr><td>11035</td><td>2016-04-20</td><td>4</td><td>110</td><td>1754.50</td></tr>",
                            "<tr><td>10429</td><td>2015-01-29</td><td>2</td><td>75</td><td>1748.50</td></tr>",
                            "<tr><td>10260</td><td>2014-07-19</td><td>4</td><td>102</td><td>1746.20</td></tr>",
                            "<tr><td>10971</td><td>2016-03-24</td><td>1</td><td>14</td><td>1733.06</td></tr>",
                            "<tr><td>10346</td><td>2014-11-05</td><td>2</td><td>56</td><td>1731.20</td></tr>",
                            "<tr><td>11055</td><td>2016-04-28</td><td>4</td><td>70</td><td>1727.50</td></tr>",
                            "<tr><td>10727</td><td>2015-11-03</td><td>3</td><td>40</td><td>1710.00</td></tr>",
                            "<tr><td>10373</td><td>2014-12-05</td><td>2</td><td>130</td><td>1708.00</td></tr>",
                            "<tr><td>10707</td><td>2015-10-16</td><td>3</td><td>89</td><td>1704.00</td></tr>",
                            "<tr><td>10769</td><td>2015-12-08</td><td>4</td><td>80</td><td>1704.00</td></tr>",
                            "<tr><td>10751</td><td>2015-11-24</td><td>4</td><td>77</td><td>1701.46</td></tr>",
                            "<tr><td>10660</td><td>2015-09-08</td><td>1</td><td>21</td><td>1701.00</td></tr>",
                            "<tr><td>11036</td><td>2016-04-20</td><td>2</td><td>37</td><td>1692.00</td></tr>",
                            "<tr><td>10459</td><td>2015-02-27</td><td>3</td><td>76</td><td>1688.00</td></tr>",
                            "<tr><td>10765</td><td>2015-12-04</td><td>1</td><td>80</td><td>1684.00</td></tr>",
                            "<tr><td>10680</td><td>2015-09-24</td><td>3</td><td>110</td><td>1682.50</td></tr>",
                            "<tr><td>10404</td><td>2015-01-03</td><td>3</td><td>100</td><td>1675.00</td></tr>",
                            "<tr><td>10527</td><td>2015-05-05</td><td>2</td><td>80</td><td>1670.00</td></tr>",
                            "<tr><td>11052</td><td>2016-04-27</td><td>2</td><td>40</td><td>1665.00</td></tr>",
                            "<tr><td>10808</td><td>2016-01-01</td><td>2</td><td>70</td><td>1660.00</td></tr>",
                            "<tr><td>10784</td><td>2015-12-18</td><td>3</td><td>62</td><td>1650.00</td></tr>",
                            "<tr><td>10617</td><td>2015-07-31</td><td>1</td><td>30</td><td>1650.00</td></tr>",
                            "<tr><td>10758</td><td>2015-11-28</td><td>3</td><td>120</td><td>1644.60</td></tr>",
                            "<tr><td>10686</td><td>2015-09-30</td><td>2</td><td>45</td><td>1638.45</td></tr>",
                            "<tr><td>10800</td><td>2015-12-26</td><td>3</td><td>67</td><td>1632.15</td></tr>",
                            "<tr><td>10869</td><td>2016-02-04</td><td>4</td><td>120</td><td>1630.00</td></tr>",
                            "<tr><td>10408</td><td>2015-01-08</td><td>3</td><td>51</td><td>1622.40</td></tr>",
                            "<tr><td>10878</td><td>2016-02-10</td><td>1</td><td>20</td><td>1620.00</td></tr>",
                            "<tr><td>10312</td><td>2014-09-23</td><td>4</td><td>58</td><td>1614.80</td></tr>",
                            "<tr><td>10343</td><td>2014-10-31</td><td>3</td><td>69</td><td>1586.00</td></tr>",
                            "<tr><td>10799</td><td>2015-12-26</td><td>3</td><td>65</td><td>1585.00</td></tr>",
                            "<tr><td>10457</td><td>2015-02-25</td><td>1</td><td>36</td><td>1584.00</td></tr>",
                            "<tr><td>11018</td><td>2016-04-13</td><td>3</td><td>35</td><td>1575.00</td></tr>",
                            "<tr><td>10722</td><td>2015-10-29</td><td>4</td><td>140</td><td>1570.00</td></tr>",
                            "<tr><td>10572</td><td>2015-06-18</td><td>4</td><td>87</td><td>1565.65</td></tr>",
                            "<tr><td>11046</td><td>2016-04-23</td><td>3</td><td>53</td><td>1564.00</td></tr>",
                            "<tr><td>10488</td><td>2015-03-27</td><td>2</td><td>50</td><td>1560.00</td></tr>",
                            "<tr><td>10362</td><td>2014-11-25</td><td>3</td><td>94</td><td>1549.60</td></tr>",
                            "<tr><td>10553</td><td>2015-05-30</td><td>5</td><td>89</td><td>1546.30</td></tr>",
                            "<tr><td>10645</td><td>2015-08-26</td><td>2</td><td>35</td><td>1535.00</td></tr>",
                            "<tr><td>10664</td><td>2015-09-10</td><td>3</td><td>51</td><td>1515.75</td></tr>",
                            "<tr><td>10834</td><td>2016-01-15</td><td>2</td><td>28</td><td>1508.12</td></tr>",
                            "<tr><td>10603</td><td>2015-07-18</td><td>2</td><td>73</td><td>1508.00</td></tr>",
                            "<tr><td>10626</td><td>2015-08-11</td><td>3</td><td>52</td><td>1503.60</td></tr>",
                            "<tr><td>10978</td><td>2016-03-26</td><td>4</td><td>76</td><td>1500.70</td></tr>",
                            "<tr><td>11023</td><td>2016-04-14</td><td>2</td><td>34</td><td>1500.00</td></tr>",
                            "<tr><td>10734</td><td>2015-11-07</td><td>3</td><td>65</td><td>1498.35</td></tr>",
                            "<tr><td>10325</td><td>2014-10-09</td><td>5</td><td>71</td><td>1497.00</td></tr>",
                            "<tr><td>10278</td><td>2014-08-12</td><td>4</td><td>64</td><td>1488.80</td></tr>",
                            "<tr><td>10768</td><td>2015-12-08</td><td>4</td><td>81</td><td>1477.00</td></tr>",
                            "<tr><td>10596</td><td>2015-07-11</td><td>3</td><td>59</td><td>1476.10</td></tr>",
                            "<tr><td>10481</td><td>2015-03-20</td><td>2</td><td>64</td><td>1472.00</td></tr>",
                            "<tr><td>10866</td><td>2016-02-03</td><td>3</td><td>67</td><td>1461.60</td></tr>",
                            "<tr><td>10733</td><td>2015-11-07</td><td>3</td><td>61</td><td>1459.00</td></tr>",
                            "<tr><td>10272</td><td>2014-08-02</td><td>3</td><td>70</td><td>1456.00</td></tr>",
                            "<tr><td>10284</td><td>2014-08-19</td><td>4</td><td>61</td><td>1452.00</td></tr>",
                            "<tr><td>10884</td><td>2016-02-12</td><td>3</td><td>73</td><td>1450.60</td></tr>",
                            "<tr><td>11063</td><td>2016-04-30</td><td>3</td><td>100</td><td>1445.50</td></tr>",
                            "<tr><td>10253</td><td>2014-07-10</td><td>3</td><td>102</td><td>1444.80</td></tr>",
                            "<tr><td>10783</td><td>2015-12-18</td><td>2</td><td>15</td><td>1442.50</td></tr>",
                            "<tr><td>10392</td><td>2014-12-24</td><td>1</td><td>50</td><td>1440.00</td></tr>",
                            "<tr><td>10859</td><td>2016-01-29</td><td>3</td><td>105</td><td>1438.25</td></tr>",
                            "<tr><td>10649</td><td>2015-08-28</td><td>2</td><td>35</td><td>1434.00</td></tr>",
                            "<tr><td>10623</td><td>2015-08-07</td><td>5</td><td>94</td><td>1429.75</td></tr>",
                            "<tr><td>10675</td><td>2015-09-19</td><td>3</td><td>70</td><td>1423.00</td></tr>",
                            "<tr><td>10644</td><td>2015-08-25</td><td>3</td><td>45</td><td>1422.00</td></tr>",
                            "<tr><td>10297</td><td>2014-09-04</td><td>2</td><td>80</td><td>1420.00</td></tr>",
                            "<tr><td>10380</td><td>2014-12-12</td><td>4</td><td>74</td><td>1419.80</td></tr>",
                            "<tr><td>10283</td><td>2014-08-16</td><td>4</td><td>76</td><td>1414.80</td></tr>",
                            "<tr><td>10606</td><td>2015-07-22</td><td>3</td><td>50</td><td>1413.00</td></tr>",
                            "<tr><td>10499</td><td>2015-04-08</td><td>2</td><td>45</td><td>1412.00</td></tr>",
                            "<tr><td>10968</td><td>2016-03-23</td><td>3</td><td>64</td><td>1408.00</td></tr>",
                            "<tr><td>10946</td><td>2016-03-12</td><td>3</td><td>90</td><td>1407.50</td></tr>",
                            "<tr><td>11022</td><td>2016-04-14</td><td>2</td><td>65</td><td>1402.00</td></tr>",
                            "<tr><td>10624</td><td>2015-08-07</td><td>3</td><td>26</td><td>1393.24</td></tr>",
                            "<tr><td>10504</td><td>2015-04-11</td><td>4</td><td>59</td><td>1388.50</td></tr>",
                            "<tr><td>10497</td><td>2015-04-04</td><td>3</td><td>64</td><td>1380.60</td></tr>",
                            "<tr><td>10635</td><td>2015-08-18</td><td>3</td><td>65</td><td>1380.25</td></tr>",
                            "<tr><td>10270</td><td>2014-08-01</td><td>2</td><td>55</td><td>1376.00</td></tr>",
                            "<tr><td>11077</td><td>2016-05-06</td><td>25</td><td>72</td><td>1374.60</td></tr>",
                            "<tr><td>10357</td><td>2014-11-19</td><td>3</td><td>54</td><td>1360.00</td></tr>",
                            "<tr><td>10989</td><td>2016-03-31</td><td>3</td><td>59</td><td>1353.60</td></tr>",
                            "<tr><td>10526</td><td>2015-05-05</td><td>3</td><td>48</td><td>1344.00</td></tr>",
                            "<tr><td>10779</td><td>2015-12-16</td><td>2</td><td>40</td><td>1335.00</td></tr>",
                            "<tr><td>10717</td><td>2015-10-24</td><td>3</td><td>72</td><td>1331.75</td></tr>",
                            "<tr><td>10471</td><td>2015-03-11</td><td>2</td><td>50</td><td>1328.00</td></tr>",
                            "<tr><td>10681</td><td>2015-09-25</td><td>3</td><td>70</td><td>1327.00</td></tr>",
                            "<tr><td>11045</td><td>2016-04-23</td><td>2</td><td>39</td><td>1309.50</td></tr>",
                            "<tr><td>10564</td><td>2015-06-10</td><td>3</td><td>47</td><td>1299.00</td></tr>",
                            "<tr><td>10728</td><td>2015-11-04</td><td>4</td><td>48</td><td>1296.75</td></tr>",
                            "<tr><td>10715</td><td>2015-10-23</td><td>2</td><td>51</td><td>1296.00</td></tr>",
                            "<tr><td>10292</td><td>2014-08-28</td><td>1</td><td>20</td><td>1296.00</td></tr>",
                            "<tr><td>10665</td><td>2015-09-11</td><td>3</td><td>31</td><td>1295.00</td></tr>",
                            "<tr><td>10659</td><td>2015-09-05</td><td>3</td><td>84</td><td>1291.60</td></tr>",
                            "<tr><td>11029</td><td>2016-04-16</td><td>2</td><td>32</td><td>1286.80</td></tr>",
                            "<tr><td>10388</td><td>2014-12-19</td><td>3</td><td>75</td><td>1274.00</td></tr>",
                            "<tr><td>10421</td><td>2015-01-21</td><td>4</td><td>59</td><td>1273.20</td></tr>",
                            "<tr><td>10486</td><td>2015-03-26</td><td>3</td><td>46</td><td>1272.00</td></tr>",
                            "<tr><td>10627</td><td>2015-08-11</td><td>2</td><td>50</td><td>1264.50</td></tr>",
                            "<tr><td>10999</td><td>2016-04-03</td><td>3</td><td>56</td><td>1261.00</td></tr>",
                            "<tr><td>10619</td><td>2015-08-04</td><td>2</td><td>82</td><td>1260.00</td></tr>",
                            "<tr><td>10560</td><td>2015-06-06</td><td>2</td><td>35</td><td>1257.30</td></tr>",
                            "<tr><td>10803</td><td>2015-12-30</td><td>3</td><td>54</td><td>1255.80</td></tr>",
                            "<tr><td>10966</td><td>2016-03-20</td><td>3</td><td>32</td><td>1255.60</td></tr>",
                            "<tr><td>10837</td><td>2016-01-16</td><td>4</td><td>92</td><td>1254.00</td></tr>",
                            "<tr><td>10474</td><td>2015-03-13</td><td>4</td><td>61</td><td>1249.10</td></tr>",
                            "<tr><td>10303</td><td>2014-09-11</td><td>3</td><td>85</td><td>1242.00</td></tr>",
                            "<tr><td>10712</td><td>2015-10-21</td><td>2</td><td>33</td><td>1238.40</td></tr>",
                            "<tr><td>10885</td><td>2016-02-12</td><td>4</td><td>87</td><td>1209.00</td></tr>",
                            "<tr><td>10411</td><td>2015-01-10</td><td>3</td><td>74</td><td>1208.50</td></tr>",
                            "<tr><td>10653</td><td>2015-09-02</td><td>2</td><td>50</td><td>1203.50</td></tr>",
                            "<tr><td>10277</td><td>2014-08-09</td><td>2</td><td>32</td><td>1200.80</td></tr>",
                            "<tr><td>10995</td><td>2016-04-02</td><td>2</td><td>24</td><td>1196.00</td></tr>",
                            "<tr><td>10407</td><td>2015-01-07</td><td>3</td><td>60</td><td>1194.00</td></tr>",
                            "<tr><td>10319</td><td>2014-10-02</td><td>3</td><td>52</td><td>1191.20</td></tr>",
                            "<tr><td>10265</td><td>2014-07-25</td><td>2</td><td>50</td><td>1176.00</td></tr>",
                            "<tr><td>10929</td><td>2016-03-05</td><td>3</td><td>124</td><td>1174.75</td></tr>",
                            "<tr><td>10370</td><td>2014-12-03</td><td>3</td><td>65</td><td>1174.00</td></tr>",
                            "<tr><td>11027</td><td>2016-04-16</td><td>2</td><td>51</td><td>1170.30</td></tr>",
                            "<tr><td>10328</td><td>2014-10-14</td><td>3</td><td>59</td><td>1168.00</td></tr>",
                            "<tr><td>10557</td><td>2015-06-03</td><td>2</td><td>50</td><td>1152.50</td></tr>",
                            "<tr><td>10690</td><td>2015-10-02</td><td>2</td><td>50</td><td>1150.00</td></tr>",
                            "<tr><td>10820</td><td>2016-01-07</td><td>1</td><td>30</td><td>1140.00</td></tr>",
                            "<tr><td>10590</td><td>2015-07-07</td><td>2</td><td>80</td><td>1140.00</td></tr>",
                            "<tr><td>10944</td><td>2016-03-12</td><td>3</td><td>41</td><td>1139.10</td></tr>",
                            "<tr><td>10781</td><td>2015-12-17</td><td>3</td><td>58</td><td>1132.35</td></tr>",
                            "<tr><td>10719</td><td>2015-10-27</td><td>3</td><td>55</td><td>1125.67</td></tr>",
                            "<tr><td>10469</td><td>2015-03-10</td><td>3</td><td>77</td><td>1125.50</td></tr>",
                            "<tr><td>10919</td><td>2016-03-02</td><td>3</td><td>68</td><td>1122.80</td></tr>",
                            "<tr><td>10961</td><td>2016-03-19</td><td>2</td><td>66</td><td>1122.00</td></tr>",
                            "<tr><td>10257</td><td>2014-07-16</td><td>3</td><td>46</td><td>1119.90</td></tr>",
                            "<tr><td>10846</td><td>2016-01-22</td><td>3</td><td>71</td><td>1112.00</td></tr>",
                            "<tr><td>10356</td><td>2014-11-18</td><td>3</td><td>62</td><td>1106.40</td></tr>",
                            "<tr><td>10268</td><td>2014-07-30</td><td>2</td><td>14</td><td>1101.20</td></tr>",
                            "<tr><td>11047</td><td>2016-04-24</td><td>2</td><td>55</td><td>1090.50</td></tr>",
                            "<tr><td>10643</td><td>2015-08-25</td><td>3</td><td>38</td><td>1086.00</td></tr>",
                            "<tr><td>10749</td><td>2015-11-20</td><td>3</td><td>31</td><td>1080.00</td></tr>",
                            "<tr><td>10439</td><td>2015-02-07</td><td>4</td><td>67</td><td>1078.00</td></tr>",
                            "<tr><td>11000</td><td>2016-04-06</td><td>3</td><td>85</td><td>1075.00</td></tr>",
                            "<tr><td>10697</td><td>2015-10-08</td><td>4</td><td>76</td><td>1073.90</td></tr>",
                            "<tr><td>10580</td><td>2015-06-26</td><td>3</td><td>54</td><td>1067.10</td></tr>",
                            "<tr><td>10608</td><td>2015-07-23</td><td>1</td><td>28</td><td>1064.00</td></tr>",
                            "<tr><td>10387</td><td>2014-12-18</td><td>4</td><td>48</td><td>1058.40</td></tr>",
                            "<tr><td>11076</td><td>2016-05-06</td><td>3</td><td>50</td><td>1057.00</td></tr>",
                            "<tr><td>10849</td><td>2016-01-23</td><td>2</td><td>67</td><td>1052.14</td></tr>",
                            "<tr><td>10472</td><td>2015-03-12</td><td>2</td><td>98</td><td>1051.20</td></tr>",
                            "<tr><td>10296</td><td>2014-09-03</td><td>3</td><td>57</td><td>1050.60</td></tr>",
                            "<tr><td>10444</td><td>2015-02-12</td><td>4</td><td>63</td><td>1031.70</td></tr>",
                            "<tr><td>10825</td><td>2016-01-09</td><td>2</td><td>32</td><td>1030.76</td></tr>",
                            "<tr><td>11026</td><td>2016-04-15</td><td>2</td><td>18</td><td>1030.00</td></tr>",
                            "<tr><td>10423</td><td>2015-01-23</td><td>2</td><td>34</td><td>1020.00</td></tr>",
                            "<tr><td>10377</td><td>2014-12-09</td><td>2</td><td>40</td><td>1016.00</td></tr>",
                            "<tr><td>10902</td><td>2016-02-23</td><td>2</td><td>36</td><td>1015.80</td></tr>",
                            "<tr><td>10982</td><td>2016-03-27</td><td>2</td><td>29</td><td>1014.00</td></tr>",
                            "<tr><td>10833</td><td>2016-01-15</td><td>3</td><td>38</td><td>1007.70</td></tr>",
                            "<tr><td>10403</td><td>2015-01-03</td><td>2</td><td>91</td><td>1005.90</td></tr>",
                            "<tr><td>10736</td><td>2015-11-11</td><td>2</td><td>60</td><td>997.00</td></tr>",
                            "<tr><td>10696</td><td>2015-10-08</td><td>2</td><td>38</td><td>996.00</td></tr>",
                            "<tr><td>10994</td><td>2016-04-02</td><td>1</td><td>18</td><td>990.00</td></tr>",
                            "<tr><td>10882</td><td>2016-02-11</td><td>3</td><td>77</td><td>988.40</td></tr>",
                            "<tr><td>10326</td><td>2014-10-10</td><td>3</td><td>90</td><td>982.00</td></tr>",
                            "<tr><td>10569</td><td>2015-06-16</td><td>2</td><td>65</td><td>977.50</td></tr>",
                            "<tr><td>10842</td><td>2016-01-20</td><td>4</td><td>52</td><td>975.00</td></tr>",
                            "<tr><td>10721</td><td>2015-10-29</td><td>1</td><td>50</td><td>972.50</td></tr>",
                            "<tr><td>10563</td><td>2015-06-10</td><td>2</td><td>95</td><td>965.00</td></tr>",
                            "<tr><td>11011</td><td>2016-04-09</td><td>2</td><td>60</td><td>960.00</td></tr>",
                            "<tr><td>10379</td><td>2014-12-11</td><td>3</td><td>44</td><td>959.20</td></tr>",
                            "<tr><td>10913</td><td>2016-02-26</td><td>3</td><td>85</td><td>958.75</td></tr>",
                            "<tr><td>10677</td><td>2015-09-22</td><td>2</td><td>38</td><td>956.90</td></tr>",
                            "<tr><td>10304</td><td>2014-09-12</td><td>3</td><td>42</td><td>954.40</td></tr>",
                            "<tr><td>10333</td><td>2014-10-18</td><td>3</td><td>60</td><td>954.00</td></tr>",
                            "<tr><td>10364</td><td>2014-11-26</td><td>2</td><td>35</td><td>950.00</td></tr>",
                            "<tr><td>10529</td><td>2015-05-07</td><td>3</td><td>44</td><td>946.00</td></tr>",
                            "<tr><td>10640</td><td>2015-08-21</td><td>2</td><td>35</td><td>945.00</td></tr>",
                            "<tr><td>10923</td><td>2016-03-03</td><td>3</td><td>44</td><td>936.00</td></tr>",
                            "<tr><td>10901</td><td>2016-02-23</td><td>2</td><td>60</td><td>934.50</td></tr>",
                            "<tr><td>10338</td><td>2014-10-25</td><td>2</td><td>35</td><td>934.50</td></tr>",
                            "<tr><td>10903</td><td>2016-02-24</td><td>3</td><td>81</td><td>932.05</td></tr>",
                            "<tr><td>10828</td><td>2016-01-13</td><td>2</td><td>7</td><td>932.00</td></tr>",
                            "<tr><td>10848</td><td>2016-01-23</td><td>2</td><td>33</td><td>931.50</td></tr>",
                            "<tr><td>11066</td><td>2016-05-01</td><td>3</td><td>80</td><td>928.75</td></tr>",
                            "<tr><td>10347</td><td>2014-11-06</td><td>4</td><td>70</td><td>928.00</td></tr>",
                            "<tr><td>10487</td><td>2015-03-26</td><td>3</td><td>59</td><td>925.10</td></tr>",
                            "<tr><td>10287</td><td>2014-08-22</td><td>3</td><td>75</td><td>924.00</td></tr>",
                            "<tr><td>10933</td><td>2016-03-06</td><td>2</td><td>32</td><td>920.60</td></tr>",
                            "<tr><td>10671</td><td>2015-09-17</td><td>3</td><td>32</td><td>920.10</td></tr>",
                            "<tr><td>10744</td><td>2015-11-17</td><td>1</td><td>50</td><td>920.00</td></tr>",
                            "<tr><td>10839</td><td>2016-01-19</td><td>2</td><td>45</td><td>919.50</td></tr>",
                            "<tr><td>10630</td><td>2015-08-13</td><td>2</td><td>47</td><td>918.00</td></tr>",
                            "<tr><td>10876</td><td>2016-02-09</td><td>2</td><td>41</td><td>917.00</td></tr>",
                            "<tr><td>10447</td><td>2015-02-14</td><td>3</td><td>77</td><td>914.40</td></tr>",
                            "<tr><td>10494</td><td>2015-04-02</td><td>1</td><td>30</td><td>912.00</td></tr>",
                            "<tr><td>10976</td><td>2016-03-25</td><td>1</td><td>20</td><td>912.00</td></tr>",
                            "<tr><td>10967</td><td>2016-03-23</td><td>2</td><td>52</td><td>910.40</td></tr>",
                            "<tr><td>11050</td><td>2016-04-27</td><td>1</td><td>50</td><td>900.00</td></tr>",
                            "<tr><td>10383</td><td>2014-12-16</td><td>3</td><td>55</td><td>899.00</td></tr>",
                            "<tr><td>10492</td><td>2015-04-01</td><td>2</td><td>80</td><td>896.00</td></tr>",
                            "<tr><td>10507</td><td>2015-04-15</td><td>2</td><td>30</td><td>881.25</td></tr>",
                            "<tr><td>10552</td><td>2015-05-29</td><td>2</td><td>48</td><td>880.50</td></tr>",
                            "<tr><td>10692</td><td>2015-10-03</td><td>1</td><td>20</td><td>878.00</td></tr>",
                            "<tr><td>10774</td><td>2015-12-11</td><td>2</td><td>52</td><td>875.00</td></tr>",
                            "<tr><td>10642</td><td>2015-08-22</td><td>2</td><td>50</td><td>870.00</td></tr>",
                            "<tr><td>10385</td><td>2014-12-17</td><td>3</td><td>38</td><td>864.00</td></tr>",
                            "<tr><td>10890</td><td>2016-02-16</td><td>3</td><td>39</td><td>860.10</td></tr>",
                            "<tr><td>10911</td><td>2016-02-26</td><td>3</td><td>37</td><td>858.00</td></tr>",
                            "<tr><td>11058</td><td>2016-04-29</td><td>3</td><td>28</td><td>858.00</td></tr>",
                            "<tr><td>10811</td><td>2016-01-02</td><td>3</td><td>63</td><td>852.00</td></tr>",
                            "<tr><td>10433</td><td>2015-02-03</td><td>1</td><td>28</td><td>851.20</td></tr>",
                            "<tr><td>10835</td><td>2016-01-15</td><td>2</td><td>17</td><td>851.00</td></tr>",
                            "<tr><td>10790</td><td>2015-12-22</td><td>2</td><td>23</td><td>850.00</td></tr>",
                            "<tr><td>10293</td><td>2014-08-29</td><td>4</td><td>33</td><td>848.70</td></tr>",
                            "<tr><td>10965</td><td>2016-03-20</td><td>1</td><td>16</td><td>848.00</td></tr>",
                            "<tr><td>10525</td><td>2015-05-02</td><td>2</td><td>45</td><td>846.00</td></tr>",
                            "<tr><td>10397</td><td>2014-12-27</td><td>2</td><td>28</td><td>843.20</td></tr>",
                            "<tr><td>10827</td><td>2016-01-12</td><td>2</td><td>36</td><td>843.00</td></tr>",
                            "<tr><td>10576</td><td>2015-06-23</td><td>3</td><td>51</td><td>838.45</td></tr>",
                            "<tr><td>10931</td><td>2016-03-06</td><td>2</td><td>72</td><td>837.00</td></tr>",
                            "<tr><td>10556</td><td>2015-06-03</td><td>1</td><td>24</td><td>835.20</td></tr>",
                            "<tr><td>10367</td><td>2014-11-28</td><td>4</td><td>76</td><td>834.20</td></tr>",
                            "<tr><td>10818</td><td>2016-01-07</td><td>2</td><td>40</td><td>833.00</td></tr>",
                            "<tr><td>10502</td><td>2015-04-10</td><td>3</td><td>57</td><td>816.30</td></tr>",
                            "<tr><td>10591</td><td>2015-07-07</td><td>3</td><td>74</td><td>812.50</td></tr>",
                            "<tr><td>10611</td><td>2015-07-25</td><td>3</td><td>31</td><td>808.00</td></tr>",
                            "<tr><td>10587</td><td>2015-07-02</td><td>3</td><td>46</td><td>807.38</td></tr>",
                            "<tr><td>10410</td><td>2015-01-10</td><td>2</td><td>65</td><td>802.00</td></tr>",
                            "<tr><td>10685</td><td>2015-09-29</td><td>3</td><td>39</td><td>801.10</td></tr>",
                            "<tr><td>10597</td><td>2015-07-11</td><td>3</td><td>67</td><td>800.10</td></tr>",
                            "<tr><td>10927</td><td>2016-03-05</td><td>3</td><td>30</td><td>800.00</td></tr>",
                            "<tr><td>10983</td><td>2016-03-27</td><td>2</td><td>99</td><td>796.50</td></tr>",
                            "<tr><td>10532</td><td>2015-05-09</td><td>2</td><td>39</td><td>796.35</td></tr>",
                            "<tr><td>10958</td><td>2016-03-18</td><td>3</td><td>31</td><td>781.00</td></tr>",
                            "<tr><td>10788</td><td>2015-12-22</td><td>2</td><td>90</td><td>770.00</td></tr>",
                            "<tr><td>10574</td><td>2015-06-19</td><td>4</td><td>32</td><td>764.30</td></tr>",
                            "<tr><td>10621</td><td>2015-08-05</td><td>4</td><td>50</td><td>758.50</td></tr>",
                            "<tr><td>10480</td><td>2015-03-20</td><td>2</td><td>42</td><td>756.00</td></tr>",
                            "<tr><td>10301</td><td>2014-09-09</td><td>2</td><td>30</td><td>755.00</td></tr>",
                            "<tr><td>11038</td><td>2016-04-21</td><td>3</td><td>37</td><td>751.00</td></tr>",
                            "<tr><td>10896</td><td>2016-02-19</td><td>2</td><td>31</td><td>750.50</td></tr>",
                            "<tr><td>10939</td><td>2016-03-10</td><td>2</td><td>50</td><td>750.00</td></tr>",
                            "<tr><td>10550</td><td>2015-05-28</td><td>4</td><td>34</td><td>749.00</td></tr>",
                            "<tr><td>11020</td><td>2016-04-14</td><td>1</td><td>24</td><td>744.00</td></tr>",
                            "<tr><td>10922</td><td>2016-03-03</td><td>2</td><td>50</td><td>742.50</td></tr>",
                            "<tr><td>10850</td><td>2016-01-23</td><td>3</td><td>54</td><td>740.00</td></tr>",
                            "<tr><td>10844</td><td>2016-01-21</td><td>1</td><td>35</td><td>735.00</td></tr>",
                            "<tr><td>10826</td><td>2016-01-12</td><td>2</td><td>50</td><td>730.00</td></tr>",
                            "<tr><td>10875</td><td>2016-02-06</td><td>3</td><td>61</td><td>729.50</td></tr>",
                            "<tr><td>10264</td><td>2014-07-24</td><td>2</td><td>60</td><td>724.50</td></tr>",
                            "<tr><td>10416</td><td>2015-01-16</td><td>3</td><td>50</td><td>720.00</td></tr>",
                            "<tr><td>10780</td><td>2015-12-16</td><td>2</td><td>50</td><td>720.00</td></tr>",
                            "<tr><td>10468</td><td>2015-03-07</td><td>2</td><td>23</td><td>717.60</td></tr>",
                            "<tr><td>10975</td><td>2016-03-25</td><td>2</td><td>26</td><td>717.50</td></tr>",
                            "<tr><td>10350</td><td>2014-11-11</td><td>2</td><td>33</td><td>713.40</td></tr>",
                            "<tr><td>10463</td><td>2015-03-04</td><td>2</td><td>71</td><td>713.30</td></tr>",
                            "<tr><td>10565</td><td>2015-06-11</td><td>2</td><td>43</td><td>711.00</td></tr>",
                            "<tr><td>10943</td><td>2016-03-11</td><td>3</td><td>51</td><td>711.00</td></tr>",
                            "<tr><td>10716</td><td>2015-10-24</td><td>3</td><td>22</td><td>706.00</td></tr>",
                            "<tr><td>10483</td><td>2015-03-24</td><td>2</td><td>65</td><td>704.00</td></tr>",
                            "<tr><td>10661</td><td>2015-09-09</td><td>2</td><td>52</td><td>703.25</td></tr>",
                            "<tr><td>11009</td><td>2016-04-08</td><td>3</td><td>39</td><td>702.00</td></tr>",
                            "<tr><td>10935</td><td>2016-03-09</td><td>3</td><td>33</td><td>700.00</td></tr>",
                            "<tr><td>10908</td><td>2016-02-26</td><td>2</td><td>34</td><td>698.00</td></tr>",
                            "<tr><td>10668</td><td>2015-09-15</td><td>3</td><td>27</td><td>694.75</td></tr>",
                            "<tr><td>10916</td><td>2016-02-27</td><td>3</td><td>32</td><td>686.70</td></tr>",
                            "<tr><td>10998</td><td>2016-04-03</td><td>4</td><td>69</td><td>686.00</td></tr>",
                            "<tr><td>10821</td><td>2016-01-08</td><td>2</td><td>26</td><td>678.00</td></tr>",
                            "<tr><td>10956</td><td>2016-03-17</td><td>3</td><td>34</td><td>677.00</td></tr>",
                            "<tr><td>10493</td><td>2015-04-02</td><td>3</td><td>35</td><td>676.00</td></tr>",
                            "<tr><td>10269</td><td>2014-07-31</td><td>2</td><td>80</td><td>676.00</td></tr>",
                            "<tr><td>10477</td><td>2015-03-17</td><td>3</td><td>56</td><td>672.00</td></tr>",
                            "<tr><td>10656</td><td>2015-09-04</td><td>3</td><td>37</td><td>671.35</td></tr>",
                            "<tr><td>10251</td><td>2014-07-08</td><td>3</td><td>41</td><td>670.80</td></tr>",
                            "<tr><td>10909</td><td>2016-02-26</td><td>3</td><td>32</td><td>670.00</td></tr>",
                            "<tr><td>10654</td><td>2015-09-02</td><td>3</td><td>38</td><td>668.70</td></tr>",
                            "<tr><td>10679</td><td>2015-09-23</td><td>1</td><td>12</td><td>660.00</td></tr>",
                            "<tr><td>10856</td><td>2016-01-28</td><td>2</td><td>40</td><td>660.00</td></tr>",
                            "<tr><td>10456</td><td>2015-02-25</td><td>2</td><td>61</td><td>656.00</td></tr>",
                            "<tr><td>10726</td><td>2015-11-03</td><td>2</td><td>30</td><td>655.00</td></tr>",
                            "<tr><td>10427</td><td>2015-01-27</td><td>1</td><td>35</td><td>651.00</td></tr>",
                            "<tr><td>10858</td><td>2016-01-29</td><td>3</td><td>19</td><td>649.00</td></tr>",
                            "<tr><td>10813</td><td>2016-01-05</td><td>2</td><td>47</td><td>648.00</td></tr>",
                            "<tr><td>10571</td><td>2015-06-17</td><td>2</td><td>39</td><td>647.75</td></tr>",
                            "<tr><td>11010</td><td>2016-04-09</td><td>2</td><td>30</td><td>645.00</td></tr>",
                            "<tr><td>10937</td><td>2016-03-10</td><td>2</td><td>28</td><td>644.80</td></tr>",
                            "<tr><td>10695</td><td>2015-10-07</td><td>3</td><td>34</td><td>642.00</td></tr>",
                            "<tr><td>10724</td><td>2015-10-30</td><td>2</td><td>21</td><td>638.50</td></tr>",
                            "<tr><td>10647</td><td>2015-08-27</td><td>2</td><td>50</td><td>636.00</td></tr>",
                            "<tr><td>10435</td><td>2015-02-04</td><td>3</td><td>32</td><td>631.60</td></tr>",
                            "<tr><td>10689</td><td>2015-10-01</td><td>1</td><td>35</td><td>630.00</td></tr>",
                            "<tr><td>10761</td><td>2015-12-02</td><td>2</td><td>53</td><td>629.50</td></tr>",
                            "<tr><td>10636</td><td>2015-08-19</td><td>2</td><td>31</td><td>629.50</td></tr>",
                            "<tr><td>10254</td><td>2014-07-11</td><td>3</td><td>57</td><td>625.20</td></tr>",
                            "<tr><td>10584</td><td>2015-06-30</td><td>1</td><td>50</td><td>625.00</td></tr>",
                            "<tr><td>10853</td><td>2016-01-27</td><td>1</td><td>10</td><td>625.00</td></tr>",
                            "<tr><td>10262</td><td>2014-07-22</td><td>3</td><td>29</td><td>624.80</td></tr>",
                            "<tr><td>11015</td><td>2016-04-10</td><td>2</td><td>33</td><td>622.35</td></tr>",
                            "<tr><td>10632</td><td>2015-08-14</td><td>2</td><td>50</td><td>620.00</td></tr>",
                            "<tr><td>10512</td><td>2015-04-21</td><td>4</td><td>37</td><td>618.00</td></tr>",
                            "<tr><td>10763</td><td>2015-12-03</td><td>3</td><td>66</td><td>616.00</td></tr>",
                            "<tr><td>10280</td><td>2014-08-14</td><td>3</td><td>62</td><td>613.20</td></tr>",
                            "<tr><td>10879</td><td>2016-02-10</td><td>3</td><td>32</td><td>611.30</td></tr>",
                            "<tr><td>10300</td><td>2014-09-09</td><td>2</td><td>50</td><td>608.00</td></tr>",
                            "<tr><td>10622</td><td>2015-08-06</td><td>2</td><td>38</td><td>605.00</td></tr>",
                            "<tr><td>10888</td><td>2016-02-16</td><td>2</td><td>38</td><td>605.00</td></tr>",
                            "<tr><td>10735</td><td>2015-11-10</td><td>2</td><td>22</td><td>596.00</td></tr>",
                            "<tr><td>10704</td><td>2015-10-14</td><td>3</td><td>65</td><td>595.50</td></tr>",
                            "<tr><td>11044</td><td>2016-04-23</td><td>1</td><td>12</td><td>591.60</td></tr>",
                            "<tr><td>11075</td><td>2016-05-06</td><td>3</td><td>42</td><td>586.00</td></tr>",
                            "<tr><td>11005</td><td>2016-04-07</td><td>2</td><td>12</td><td>586.00</td></tr>",
                            "<tr><td>10862</td><td>2016-01-30</td><td>2</td><td>33</td><td>581.00</td></tr>",
                            "<tr><td>10498</td><td>2015-04-07</td><td>3</td><td>49</td><td>575.00</td></tr>",
                            "<tr><td>10806</td><td>2015-12-31</td><td>3</td><td>37</td><td>572.10</td></tr>",
                            "<tr><td>10669</td><td>2015-09-15</td><td>1</td><td>30</td><td>570.00</td></tr>",
                            "<tr><td>10936</td><td>2016-03-09</td><td>1</td><td>30</td><td>570.00</td></tr>",
                            "<tr><td>10577</td><td>2015-06-23</td><td>3</td><td>48</td><td>569.00</td></tr>",
                            "<tr><td>10832</td><td>2016-01-14</td><td>4</td><td>32</td><td>568.95</td></tr>",
                            "<tr><td>10354</td><td>2014-11-14</td><td>2</td><td>16</td><td>568.80</td></tr>",
                            "<tr><td>10438</td><td>2015-02-06</td><td>3</td><td>50</td><td>567.50</td></tr>",
                            "<tr><td>10594</td><td>2015-07-09</td><td>2</td><td>54</td><td>565.50</td></tr>",
                            "<tr><td>10942</td><td>2016-03-11</td><td>1</td><td>28</td><td>560.00</td></tr>",
                            "<tr><td>10996</td><td>2016-04-02</td><td>1</td><td>40</td><td>560.00</td></tr>",
                            "<tr><td>10925</td><td>2016-03-04</td><td>2</td><td>37</td><td>559.00</td></tr>",
                            "<tr><td>11034</td><td>2016-04-20</td><td>3</td><td>33</td><td>554.40</td></tr>",
                            "<tr><td>10291</td><td>2014-08-27</td><td>3</td><td>46</td><td>552.80</td></tr>",
                            "<tr><td>10500</td><td>2015-04-09</td><td>2</td><td>20</td><td>550.80</td></tr>",
                            "<tr><td>10720</td><td>2015-10-28</td><td>2</td><td>29</td><td>550.00</td></tr>",
                            "<tr><td>10559</td><td>2015-06-05</td><td>2</td><td>30</td><td>547.80</td></tr>",
                            "<tr><td>10592</td><td>2015-07-08</td><td>2</td><td>30</td><td>543.65</td></tr>",
                            "<tr><td>10562</td><td>2015-06-09</td><td>2</td><td>30</td><td>543.00</td></tr>",
                            "<tr><td>10915</td><td>2016-02-27</td><td>3</td><td>50</td><td>539.50</td></tr>",
                            "<tr><td>10274</td><td>2014-08-06</td><td>2</td><td>27</td><td>538.60</td></tr>",
                            "<tr><td>10443</td><td>2015-02-12</td><td>2</td><td>18</td><td>537.60</td></tr>",
                            "<tr><td>10914</td><td>2016-02-27</td><td>1</td><td>25</td><td>537.50</td></tr>",
                            "<tr><td>10676</td><td>2015-09-22</td><td>3</td><td>30</td><td>534.85</td></tr>",
                            "<tr><td>10450</td><td>2015-02-19</td><td>2</td><td>26</td><td>531.40</td></tr>",
                            "<tr><td>10651</td><td>2015-09-01</td><td>2</td><td>32</td><td>530.40</td></tr>",
                            "<tr><td>11048</td><td>2016-04-24</td><td>1</td><td>42</td><td>525.00</td></tr>",
                            "<tr><td>10860</td><td>2016-01-29</td><td>2</td><td>23</td><td>519.00</td></tr>",
                            "<tr><td>10863</td><td>2016-02-02</td><td>2</td><td>32</td><td>519.00</td></tr>",
                            "<tr><td>10256</td><td>2014-07-15</td><td>2</td><td>27</td><td>517.80</td></tr>",
                            "<tr><td>10534</td><td>2015-05-12</td><td>3</td><td>30</td><td>517.40</td></tr>",
                            "<tr><td>10315</td><td>2014-09-26</td><td>2</td><td>44</td><td>516.80</td></tr>",
                            "<tr><td>10320</td><td>2014-10-03</td><td>1</td><td>30</td><td>516.00</td></tr>",
                            "<tr><td>10926</td><td>2016-03-04</td><td>4</td><td>29</td><td>514.40</td></tr>",
                            "<tr><td>11061</td><td>2016-04-30</td><td>1</td><td>15</td><td>510.00</td></tr>",
                            "<tr><td>11071</td><td>2016-05-05</td><td>2</td><td>25</td><td>510.00</td></tr>",
                            "<tr><td>10730</td><td>2015-11-05</td><td>3</td><td>28</td><td>509.75</td></tr>",
                            "<tr><td>11062</td><td>2016-04-30</td><td>2</td><td>22</td><td>508.00</td></tr>",
                            "<tr><td>10489</td><td>2015-03-28</td><td>2</td><td>33</td><td>502.20</td></tr>",
                            "<tr><td>10639</td><td>2015-08-20</td><td>1</td><td>8</td><td>500.00</td></tr>",
                            "<tr><td>10934</td><td>2016-03-09</td><td>1</td><td>20</td><td>500.00</td></tr>",
                            "<tr><td>10306</td><td>2014-09-16</td><td>3</td><td>25</td><td>498.50</td></tr>",
                            "<tr><td>10478</td><td>2015-03-18</td><td>1</td><td>20</td><td>496.00</td></tr>",
                            "<tr><td>10542</td><td>2015-05-20</td><td>2</td><td>39</td><td>493.80</td></tr>",
                            "<tr><td>10599</td><td>2015-07-15</td><td>1</td><td>10</td><td>493.00</td></tr>",
                            "<tr><td>11016</td><td>2016-04-10</td><td>2</td><td>31</td><td>491.50</td></tr>",
                            "<tr><td>10952</td><td>2016-03-16</td><td>2</td><td>18</td><td>491.20</td></tr>",
                            "<tr><td>10432</td><td>2015-01-31</td><td>2</td><td>50</td><td>485.00</td></tr>",
                            "<tr><td>10951</td><td>2016-03-16</td><td>3</td><td>71</td><td>482.90</td></tr>",
                            "<tr><td>10425</td><td>2015-01-24</td><td>2</td><td>30</td><td>480.00</td></tr>",
                            "<tr><td>10355</td><td>2014-11-15</td><td>2</td><td>50</td><td>480.00</td></tr>",
                            "<tr><td>10600</td><td>2015-07-16</td><td>2</td><td>34</td><td>479.80</td></tr>",
                            "<tr><td>10625</td><td>2015-08-08</td><td>3</td><td>18</td><td>479.75</td></tr>",
                            "<tr><td>10289</td><td>2014-08-26</td><td>2</td><td>39</td><td>479.40</td></tr>",
                            "<tr><td>10578</td><td>2015-06-24</td><td>2</td><td>26</td><td>477.00</td></tr>",
                            "<tr><td>10819</td><td>2016-01-07</td><td>2</td><td>27</td><td>477.00</td></tr>",
                            "<tr><td>10723</td><td>2015-10-30</td><td>1</td><td>15</td><td>468.45</td></tr>",
                            "<tr><td>10279</td><td>2014-08-13</td><td>1</td><td>15</td><td>468.00</td></tr>",
                            "<tr><td>10614</td><td>2015-07-29</td><td>3</td><td>27</td><td>464.00</td></tr>",
                            "<tr><td>10506</td><td>2015-04-15</td><td>2</td><td>32</td><td>462.00</td></tr>",
                            "<tr><td>10374</td><td>2014-12-05</td><td>2</td><td>45</td><td>459.00</td></tr>",
                            "<tr><td>10453</td><td>2015-02-21</td><td>2</td><td>40</td><td>453.00</td></tr>",
                            "<tr><td>10910</td><td>2016-02-26</td><td>3</td><td>27</td><td>452.90</td></tr>",
                            "<tr><td>10358</td><td>2014-11-20</td><td>3</td><td>40</td><td>452.00</td></tr>",
                            "<tr><td>10628</td><td>2015-08-12</td><td>1</td><td>25</td><td>450.00</td></tr>",
                            "<tr><td>10261</td><td>2014-07-19</td><td>2</td><td>40</td><td>448.00</td></tr>",
                            "<tr><td>10363</td><td>2014-11-26</td><td>3</td><td>44</td><td>447.20</td></tr>",
                            "<tr><td>10798</td><td>2015-12-26</td><td>2</td><td>12</td><td>446.60</td></tr>",
                            "<tr><td>10448</td><td>2015-02-17</td><td>2</td><td>26</td><td>443.40</td></tr>",
                            "<tr><td>10394</td><td>2014-12-25</td><td>2</td><td>20</td><td>442.00</td></tr>",
                            "<tr><td>10248</td><td>2014-07-04</td><td>3</td><td>27</td><td>440.00</td></tr>",
                            "<tr><td>10974</td><td>2016-03-25</td><td>1</td><td>10</td><td>439.00</td></tr>",
                            "<tr><td>10906</td><td>2016-02-25</td><td>1</td><td>15</td><td>427.50</td></tr>",
                            "<tr><td>10307</td><td>2014-09-17</td><td>2</td><td>13</td><td>424.00</td></tr>",
                            "<tr><td>10609</td><td>2015-07-24</td><td>3</td><td>19</td><td>424.00</td></tr>",
                            "<tr><td>10797</td><td>2015-12-25</td><td>1</td><td>20</td><td>420.00</td></tr>",
                            "<tr><td>10276</td><td>2014-08-08</td><td>2</td><td>25</td><td>420.00</td></tr>",
                            "<tr><td>10376</td><td>2014-12-09</td><td>1</td><td>42</td><td>420.00</td></tr>",
                            "<tr><td>10544</td><td>2015-05-21</td><td>2</td><td>14</td><td>417.20</td></tr>",
                            "<tr><td>10454</td><td>2015-02-21</td><td>3</td><td>50</td><td>414.00</td></tr>",
                            "<tr><td>10673</td><td>2015-09-18</td><td>3</td><td>15</td><td>412.35</td></tr>",
                            "<tr><td>10341</td><td>2014-10-29</td><td>2</td><td>17</td><td>412.00</td></tr>",
                            "<tr><td>11042</td><td>2016-04-22</td><td>2</td><td>19</td><td>405.75</td></tr>",
                            "<tr><td>10365</td><td>2014-11-27</td><td>1</td><td>24</td><td>403.20</td></tr>",
                            "<tr><td>10405</td><td>2015-01-06</td><td>1</td><td>50</td><td>400.00</td></tr>",
                            "<tr><td>10792</td><td>2015-12-23</td><td>3</td><td>28</td><td>399.85</td></tr>",
                            "<tr><td>10610</td><td>2015-07-25</td><td>1</td><td>21</td><td>399.00</td></tr>",
                            "<tr><td>10528</td><td>2015-05-06</td><td>3</td><td>20</td><td>396.20</td></tr>",
                            "<tr><td>10348</td><td>2014-11-07</td><td>2</td><td>40</td><td>396.00</td></tr>",
                            "<tr><td>10794</td><td>2015-12-24</td><td>2</td><td>21</td><td>393.45</td></tr>",
                            "<tr><td>10437</td><td>2015-02-05</td><td>1</td><td>15</td><td>393.00</td></tr>",
                            "<tr><td>11006</td><td>2016-04-07</td><td>2</td><td>10</td><td>391.58</td></tr>",
                            "<tr><td>10920</td><td>2016-03-03</td><td>1</td><td>24</td><td>390.00</td></tr>",
                            "<tr><td>10891</td><td>2016-02-17</td><td>1</td><td>15</td><td>388.35</td></tr>",
                            "<tr><td>10785</td><td>2015-12-18</td><td>2</td><td>20</td><td>387.50</td></tr>",
                            "<tr><td>10581</td><td>2015-06-26</td><td>1</td><td>50</td><td>387.50</td></tr>",
                            "<tr><td>10484</td><td>2015-03-24</td><td>3</td><td>27</td><td>386.20</td></tr>",
                            "<tr><td>10648</td><td>2015-08-28</td><td>2</td><td>30</td><td>382.50</td></tr>",
                            "<tr><td>10705</td><td>2015-10-15</td><td>2</td><td>24</td><td>378.00</td></tr>",
                            "<tr><td>10682</td><td>2015-09-25</td><td>3</td><td>64</td><td>375.50</td></tr>",
                            "<tr><td>10412</td><td>2015-01-13</td><td>1</td><td>20</td><td>372.00</td></tr>",
                            "<tr><td>10917</td><td>2016-03-02</td><td>2</td><td>11</td><td>365.89</td></tr>",
                            "<tr><td>10266</td><td>2014-07-26</td><td>1</td><td>12</td><td>364.80</td></tr>",
                            "<tr><td>11013</td><td>2016-04-09</td><td>4</td><td>36</td><td>361.00</td></tr>",
                            "<tr><td>11069</td><td>2016-05-04</td><td>1</td><td>20</td><td>360.00</td></tr>",
                            "<tr><td>10905</td><td>2016-02-24</td><td>1</td><td>20</td><td>360.00</td></tr>",
                            "<tr><td>10940</td><td>2016-03-11</td><td>2</td><td>28</td><td>360.00</td></tr>",
                            "<tr><td>10434</td><td>2015-02-03</td><td>2</td><td>24</td><td>360.00</td></tr>",
                            "<tr><td>10732</td><td>2015-11-06</td><td>1</td><td>20</td><td>360.00</td></tr>",
                            "<tr><td>10613</td><td>2015-07-29</td><td>2</td><td>48</td><td>358.00</td></tr>",
                            "<tr><td>10539</td><td>2015-05-16</td><td>4</td><td>44</td><td>355.50</td></tr>",
                            "<tr><td>10517</td><td>2015-04-24</td><td>3</td><td>16</td><td>352.00</td></tr>",
                            "<tr><td>10299</td><td>2014-09-06</td><td>2</td><td>35</td><td>349.50</td></tr>",
                            "<tr><td>10771</td><td>2015-12-10</td><td>1</td><td>16</td><td>344.00</td></tr>",
                            "<tr><td>11049</td><td>2016-04-24</td><td>2</td><td>14</td><td>342.00</td></tr>",
                            "<tr><td>10426</td><td>2015-01-27</td><td>2</td><td>12</td><td>338.20</td></tr>",
                            "<tr><td>10375</td><td>2014-12-06</td><td>2</td><td>25</td><td>338.00</td></tr>",
                            "<tr><td>10873</td><td>2016-02-06</td><td>2</td><td>23</td><td>336.80</td></tr>",
                            "<tr><td>10310</td><td>2014-09-20</td><td>2</td><td>15</td><td>336.00</td></tr>",
                            "<tr><td>10743</td><td>2015-11-17</td><td>1</td><td>28</td><td>336.00</td></tr>",
                            "<tr><td>10652</td><td>2015-09-01</td><td>2</td><td>22</td><td>331.78</td></tr>",
                            "<tr><td>10582</td><td>2015-06-27</td><td>2</td><td>18</td><td>330.00</td></tr>",
                            "<tr><td>10702</td><td>2015-10-13</td><td>2</td><td>21</td><td>330.00</td></tr>",
                            "<tr><td>11003</td><td>2016-04-06</td><td>3</td><td>24</td><td>326.00</td></tr>",
                            "<tr><td>10759</td><td>2015-11-28</td><td>1</td><td>10</td><td>320.00</td></tr>",
                            "<tr><td>10409</td><td>2015-01-09</td><td>2</td><td>24</td><td>319.20</td></tr>",
                            "<tr><td>10579</td><td>2015-06-25</td><td>2</td><td>31</td><td>317.75</td></tr>",
                            "<tr><td>10336</td><td>2014-10-23</td><td>1</td><td>18</td><td>316.80</td></tr>",
                            "<tr><td>10770</td><td>2015-12-09</td><td>1</td><td>15</td><td>315.00</td></tr>",
                            "<tr><td>10980</td><td>2016-03-27</td><td>1</td><td>40</td><td>310.00</td></tr>",
                            "<tr><td>10874</td><td>2016-02-06</td><td>1</td><td>10</td><td>310.00</td></tr>",
                            "<tr><td>10275</td><td>2014-08-07</td><td>2</td><td>18</td><td>307.20</td></tr>",
                            "<tr><td>10491</td><td>2015-03-31</td><td>2</td><td>22</td><td>305.30</td></tr>",
                            "<tr><td>11054</td><td>2016-04-28</td><td>2</td><td>30</td><td>305.00</td></tr>",
                            "<tr><td>11073</td><td>2016-05-05</td><td>2</td><td>30</td><td>300.00</td></tr>",
                            "<tr><td>11025</td><td>2016-04-15</td><td>2</td><td>30</td><td>300.00</td></tr>",
                            "<tr><td>11004</td><td>2016-04-07</td><td>2</td><td>12</td><td>295.38</td></tr>",
                            "<tr><td>10973</td><td>2016-03-24</td><td>3</td><td>21</td><td>291.55</td></tr>",
                            "<tr><td>10317</td><td>2014-09-30</td><td>1</td><td>20</td><td>288.00</td></tr>",
                            "<tr><td>10725</td><td>2015-10-31</td><td>3</td><td>22</td><td>287.80</td></tr>",
                            "<tr><td>10741</td><td>2015-11-14</td><td>1</td><td>15</td><td>285.00</td></tr>",
                            "<tr><td>10864</td><td>2016-02-02</td><td>2</td><td>19</td><td>282.00</td></tr>",
                            "<tr><td>10970</td><td>2016-03-24</td><td>1</td><td>40</td><td>280.00</td></tr>",
                            "<tr><td>10777</td><td>2015-12-15</td><td>1</td><td>20</td><td>280.00</td></tr>",
                            "<tr><td>10495</td><td>2015-04-03</td><td>3</td><td>35</td><td>278.00</td></tr>",
                            "<tr><td>10960</td><td>2016-03-19</td><td>2</td><td>34</td><td>276.60</td></tr>",
                            "<tr><td>10548</td><td>2015-05-26</td><td>2</td><td>24</td><td>275.10</td></tr>",
                            "<tr><td>10446</td><td>2015-02-14</td><td>4</td><td>50</td><td>273.60</td></tr>",
                            "<tr><td>11014</td><td>2016-04-10</td><td>1</td><td>28</td><td>270.20</td></tr>",
                            "<tr><td>10311</td><td>2014-09-20</td><td>2</td><td>13</td><td>268.80</td></tr>",
                            "<tr><td>11060</td><td>2016-04-30</td><td>2</td><td>14</td><td>266.00</td></tr>",
                            "<tr><td>10840</td><td>2016-01-19</td><td>2</td><td>16</td><td>264.00</td></tr>",
                            "<tr><td>10604</td><td>2015-07-18</td><td>2</td><td>16</td><td>256.50</td></tr>",
                            "<tr><td>11065</td><td>2016-05-01</td><td>2</td><td>24</td><td>252.56</td></tr>",
                            "<tr><td>10752</td><td>2015-11-24</td><td>2</td><td>11</td><td>252.00</td></tr>",
                            "<tr><td>10972</td><td>2016-03-24</td><td>2</td><td>13</td><td>251.50</td></tr>",
                            "<tr><td>10824</td><td>2016-01-09</td><td>2</td><td>21</td><td>250.80</td></tr>",
                            "<tr><td>10945</td><td>2016-03-12</td><td>2</td><td>30</td><td>245.00</td></tr>",
                            "<tr><td>11074</td><td>2016-05-06</td><td>1</td><td>14</td><td>244.30</td></tr>",
                            "<tr><td>10318</td><td>2014-10-01</td><td>2</td><td>26</td><td>240.40</td></tr>",
                            "<tr><td>10508</td><td>2015-04-16</td><td>2</td><td>20</td><td>240.00</td></tr>",
                            "<tr><td>10739</td><td>2015-11-12</td><td>2</td><td>24</td><td>240.00</td></tr>",
                            "<tr><td>10822</td><td>2016-01-08</td><td>2</td><td>9</td><td>237.90</td></tr>",
                            "<tr><td>10467</td><td>2015-03-06</td><td>2</td><td>40</td><td>235.20</td></tr>",
                            "<tr><td>10460</td><td>2015-02-28</td><td>2</td><td>25</td><td>234.80</td></tr>",
                            "<tr><td>10414</td><td>2015-01-14</td><td>2</td><td>68</td><td>231.40</td></tr>",
                            "<tr><td>10473</td><td>2015-03-13</td><td>2</td><td>24</td><td>230.40</td></tr>",
                            "<tr><td>10775</td><td>2015-12-12</td><td>2</td><td>9</td><td>228.00</td></tr>",
                            "<tr><td>10521</td><td>2015-04-29</td><td>3</td><td>19</td><td>225.50</td></tr>",
                            "<tr><td>10947</td><td>2016-03-13</td><td>1</td><td>4</td><td>220.00</td></tr>",
                            "<tr><td>10466</td><td>2015-03-06</td><td>2</td><td>15</td><td>216.00</td></tr>",
                            "<tr><td>10843</td><td>2016-01-21</td><td>1</td><td>4</td><td>212.00</td></tr>",
                            "<tr><td>11043</td><td>2016-04-22</td><td>1</td><td>10</td><td>210.00</td></tr>",
                            "<tr><td>10545</td><td>2015-05-22</td><td>1</td><td>10</td><td>210.00</td></tr>",
                            "<tr><td>10496</td><td>2015-04-04</td><td>1</td><td>20</td><td>200.00</td></tr>",
                            "<tr><td>10520</td><td>2015-04-29</td><td>2</td><td>13</td><td>200.00</td></tr>",
                            "<tr><td>11040</td><td>2016-04-22</td><td>1</td><td>20</td><td>200.00</td></tr>",
                            "<tr><td>10655</td><td>2015-09-03</td><td>1</td><td>20</td><td>193.00</td></tr>",
                            "<tr><td>10428</td><td>2015-01-28</td><td>1</td><td>20</td><td>192.00</td></tr>",
                            "<tr><td>10793</td><td>2015-12-24</td><td>2</td><td>22</td><td>191.10</td></tr>",
                            "<tr><td>10810</td><td>2016-01-01</td><td>3</td><td>17</td><td>187.00</td></tr>",
                            "<tr><td>10476</td><td>2015-03-17</td><td>2</td><td>14</td><td>182.40</td></tr>",
                            "<tr><td>10313</td><td>2014-09-24</td><td>1</td><td>12</td><td>182.40</td></tr>",
                            "<tr><td>10708</td><td>2015-10-17</td><td>2</td><td>9</td><td>180.40</td></tr>",
                            "<tr><td>10445</td><td>2015-02-13</td><td>2</td><td>21</td><td>174.90</td></tr>",
                            "<tr><td>10386</td><td>2014-12-18</td><td>2</td><td>25</td><td>166.00</td></tr>",
                            "<tr><td>10323</td><td>2014-10-07</td><td>3</td><td>13</td><td>164.40</td></tr>",
                            "<tr><td>10870</td><td>2016-02-04</td><td>2</td><td>5</td><td>160.00</td></tr>",
                            "<tr><td>10462</td><td>2015-03-03</td><td>2</td><td>22</td><td>156.00</td></tr>",
                            "<tr><td>10282</td><td>2014-08-15</td><td>2</td><td>8</td><td>155.40</td></tr>",
                            "<tr><td>10568</td><td>2015-06-13</td><td>1</td><td>5</td><td>155.00</td></tr>",
                            "<tr><td>10959</td><td>2016-03-18</td><td>1</td><td>20</td><td>155.00</td></tr>",
                            "<tr><td>10352</td><td>2014-11-12</td><td>2</td><td>30</td><td>154.00</td></tr>",
                            "<tr><td>10881</td><td>2016-02-11</td><td>1</td><td>10</td><td>150.00</td></tr>",
                            "<tr><td>10501</td><td>2015-04-09</td><td>1</td><td>20</td><td>149.00</td></tr>",
                            "<tr><td>10505</td><td>2015-04-14</td><td>1</td><td>3</td><td>147.90</td></tr>",
                            "<tr><td>10482</td><td>2015-03-21</td><td>1</td><td>10</td><td>147.00</td></tr>",
                            "<tr><td>10334</td><td>2014-10-21</td><td>2</td><td>18</td><td>144.80</td></tr>",
                            "<tr><td>10321</td><td>2014-10-03</td><td>1</td><td>10</td><td>144.00</td></tr>",
                            "<tr><td>10899</td><td>2016-02-20</td><td>1</td><td>8</td><td>144.00</td></tr>",
                            "<tr><td>10585</td><td>2015-07-01</td><td>1</td><td>15</td><td>142.50</td></tr>",
                            "<tr><td>10349</td><td>2014-11-08</td><td>1</td><td>24</td><td>141.60</td></tr>",
                            "<tr><td>10809</td><td>2016-01-01</td><td>1</td><td>20</td><td>140.00</td></tr>",
                            "<tr><td>10737</td><td>2015-11-11</td><td>2</td><td>16</td><td>139.80</td></tr>",
                            "<tr><td>10538</td><td>2015-05-15</td><td>2</td><td>8</td><td>139.80</td></tr>",
                            "<tr><td>10928</td><td>2016-03-05</td><td>2</td><td>10</td><td>137.50</td></tr>",
                            "<tr><td>10509</td><td>2015-04-17</td><td>1</td><td>3</td><td>136.80</td></tr>",
                            "<tr><td>10366</td><td>2014-11-28</td><td>2</td><td>10</td><td>136.00</td></tr>",
                            "<tr><td>10662</td><td>2015-09-09</td><td>1</td><td>10</td><td>125.00</td></tr>",
                            "<tr><td>10295</td><td>2014-09-02</td><td>1</td><td>4</td><td>121.60</td></tr>",
                            "<tr><td>10615</td><td>2015-07-30</td><td>1</td><td>5</td><td>120.00</td></tr>",
                            "<tr><td>10699</td><td>2015-10-09</td><td>1</td><td>12</td><td>114.00</td></tr>",
                            "<tr><td>10322</td><td>2014-10-04</td><td>1</td><td>20</td><td>112.00</td></tr>",
                            "<tr><td>10381</td><td>2014-12-12</td><td>1</td><td>14</td><td>112.00</td></tr>",
                            "<tr><td>10531</td><td>2015-05-08</td><td>1</td><td>2</td><td>110.00</td></tr>",
                            "<tr><td>10950</td><td>2016-03-16</td><td>1</td><td>5</td><td>110.00</td></tr>",
                            "<tr><td>10907</td><td>2016-02-25</td><td>1</td><td>14</td><td>108.50</td></tr>",
                            "<tr><td>10969</td><td>2016-03-23</td><td>1</td><td>9</td><td>108.00</td></tr>",
                            "<tr><td>10378</td><td>2014-12-10</td><td>1</td><td>6</td><td>103.20</td></tr>",
                            "<tr><td>10415</td><td>2015-01-15</td><td>2</td><td>22</td><td>102.40</td></tr>",
                            "<tr><td>10259</td><td>2014-07-18</td><td>2</td><td>11</td><td>100.80</td></tr>",
                            "<tr><td>10867</td><td>2016-02-03</td><td>1</td><td>3</td><td>98.40</td></tr>",
                            "<tr><td>10778</td><td>2015-12-16</td><td>1</td><td>10</td><td>96.50</td></tr>",
                            "<tr><td>10710</td><td>2015-10-20</td><td>2</td><td>10</td><td>93.50</td></tr>",
                            "<tr><td>10955</td><td>2016-03-17</td><td>1</td><td>12</td><td>93.00</td></tr>",
                            "<tr><td>10371</td><td>2014-12-03</td><td>1</td><td>6</td><td>91.20</td></tr>",
                            "<tr><td>10288</td><td>2014-08-23</td><td>2</td><td>13</td><td>89.00</td></tr>",
                            "<tr><td>10308</td><td>2014-09-18</td><td>2</td><td>6</td><td>88.80</td></tr>",
                            "<tr><td>10331</td><td>2014-10-16</td><td>1</td><td>15</td><td>88.50</td></tr>",
                            "<tr><td>10753</td><td>2015-11-25</td><td>2</td><td>9</td><td>88.00</td></tr>",
                            "<tr><td>11067</td><td>2016-05-04</td><td>1</td><td>9</td><td>86.85</td></tr>",
                            "<tr><td>10281</td><td>2014-08-14</td><td>3</td><td>11</td><td>86.50</td></tr>",
                            "<tr><td>10391</td><td>2014-12-23</td><td>1</td><td>18</td><td>86.40</td></tr>",
                            "<tr><td>11019</td><td>2016-04-13</td><td>2</td><td>5</td><td>76.00</td></tr>",
                            "<tr><td>10589</td><td>2015-07-04</td><td>1</td><td>4</td><td>72.00</td></tr>",
                            "<tr><td>10887</td><td>2016-02-13</td><td>1</td><td>5</td><td>70.00</td></tr>",
                            "<tr><td>10992</td><td>2016-04-01</td><td>1</td><td>2</td><td>69.60</td></tr>",
                            "<tr><td>10963</td><td>2016-03-19</td><td>1</td><td>2</td><td>68.00</td></tr>",
                            "<tr><td>10602</td><td>2015-07-17</td><td>1</td><td>5</td><td>65.00</td></tr>",
                            "<tr><td>10683</td><td>2015-09-26</td><td>1</td><td>9</td><td>63.00</td></tr>",
                            "<tr><td>10631</td><td>2015-08-14</td><td>1</td><td>8</td><td>62.00</td></tr>",
                            "<tr><td>11037</td><td>2016-04-21</td><td>1</td><td>4</td><td>60.00</td></tr>",
                            "<tr><td>10620</td><td>2015-08-05</td><td>2</td><td>10</td><td>57.50</td></tr>",
                            "<tr><td>10754</td><td>2015-11-25</td><td>1</td><td>3</td><td>55.20</td></tr>",
                            "<tr><td>10738</td><td>2015-11-12</td><td>1</td><td>3</td><td>52.35</td></tr>",
                            "<tr><td>10422</td><td>2015-01-22</td><td>1</td><td>2</td><td>49.80</td></tr>",
                            "<tr><td>10271</td><td>2014-08-01</td><td>1</td><td>24</td><td>48.00</td></tr>",
                            "<tr><td>10674</td><td>2015-09-18</td><td>1</td><td>5</td><td>45.00</td></tr>",
                            "<tr><td>11057</td><td>2016-04-29</td><td>1</td><td>3</td><td>45.00</td></tr>",
                            "<tr><td>11051</td><td>2016-04-27</td><td>1</td><td>10</td><td>45.00</td></tr>",
                            "<tr><td>10900</td><td>2016-02-20</td><td>1</td><td>3</td><td>45.00</td></tr>",
                            "<tr><td>10815</td><td>2016-01-05</td><td>1</td><td>16</td><td>40.00</td></tr>",
                            "<tr><td>10883</td><td>2016-02-12</td><td>1</td><td>8</td><td>36.00</td></tr>",
                            "<tr><td>10898</td><td>2016-02-20</td><td>1</td><td>5</td><td>30.00</td></tr>",
                            "<tr><td>10767</td><td>2015-12-05</td><td>1</td><td>2</td><td>28.00</td></tr>",
                            "<tr><td>10586</td><td>2015-07-02</td><td>1</td><td>4</td><td>28.00</td></tr>",
                            "<tr><td>10807</td><td>2015-12-31</td><td>1</td><td>1</td><td>18.40</td></tr>",
                            "<tr><td>10782</td><td>2015-12-17</td><td>1</td><td>1</td><td>12.50</td></tr>",
                            "</table>"
                        ]
                    }
                }
            ],
            "execution_count": 51
        },
        {
            "cell_type": "markdown",
            "source": [
                "## Medium Query: 5\r\n",
                "\r\n",
                "### Proposition:\r\n",
                "Construct a query to identify and analyze the sales performance by product categories in the Northwinds2022TSQLV7 database. This analysis is intended to uncover sales trends and performance metrics that can inform product strategy and inventory management decisions.\r\n",
                "\r\n",
                "### Requirements:\r\n",
                "\r\n",
                "#### Sales Performance by Category:\r\n",
                "- Aggregate sales data to calculate the total sales and average unit price for each product category.\r\n",
                "- Provide insights into the quantity sold and the revenue generated per category.\r\n",
                "\r\n",
                "#### Performance Metrics:\r\n",
                "- Include calculations for the total quantity of products sold and the total revenue per category.\r\n",
                "- Calculate the average price per unit within each category to assess pricing strategies.\r\n",
                "\r\n",
                "#### Category Details:\r\n",
                "- Include the category name in the results to identify the categories.\r\n",
                "- Utilize the `Production.Category` and `Production.Product` tables for category information, and join with `Sales.OrderDetail` to include sales data.\r\n",
                "\r\n",
                "### Tables:\r\n",
                "- `[Production].[Category]`\r\n",
                "- `[Production].[Product]`\r\n",
                "- `[Sales].[OrderDetail]`\r\n",
                "\r\n",
                "### Columns:\r\n",
                "- From `[Production].[Category]`: CategoryId, CategoryName\r\n",
                "- From `[Production].[Product]`: ProductId, CategoryId\r\n",
                "- From `[Sales].[OrderDetail]`: ProductId, UnitPrice, Quantity\r\n",
                "\r\n",
                "### Joins:\r\n",
                "- Join the tables on their respective `CategoryId` and `ProductId` to collate the sales data for each category.\r\n",
                "\r\n",
                "### Grouping and Sorting:\r\n",
                "- Group the results by category name to consolidate the sales metrics.\r\n",
                "- Order the results by total revenue generated in descending order to highlight the top-performing categories.\r\n",
                ""
            ],
            "metadata": {
                "azdata_cell_guid": "9dc49b65-88e6-4082-b8b1-ac44765ecc56"
            },
            "attachments": {}
        },
        {
            "cell_type": "code",
            "source": [
                "SELECT \r\n",
                "    c.CategoryName,\r\n",
                "    COUNT(DISTINCT p.ProductId) AS NumberOfProducts,\r\n",
                "    SUM(od.Quantity) AS TotalQuantitySold,\r\n",
                "    SUM(od.UnitPrice * od.Quantity) AS TotalRevenue,\r\n",
                "    AVG(od.UnitPrice) AS AverageUnitPrice\r\n",
                "FROM \r\n",
                "    [Production].[Category] AS c\r\n",
                "INNER JOIN \r\n",
                "    [Production].[Product] AS p \r\n",
                "    ON c.CategoryId = p.CategoryId\r\n",
                "INNER JOIN \r\n",
                "    [Sales].[OrderDetail] AS od \r\n",
                "    ON p.ProductId = od.ProductId\r\n",
                "GROUP BY \r\n",
                "    c.CategoryName\r\n",
                "ORDER BY \r\n",
                "    TotalRevenue DESC;\r\n",
                ""
            ],
            "metadata": {
                "azdata_cell_guid": "983ebfd4-3431-4df3-b1b5-b10b189a8552",
                "language": "sql"
            },
            "outputs": [
                {
                    "output_type": "display_data",
                    "data": {
                        "text/html": "(8 rows affected)"
                    },
                    "metadata": {}
                },
                {
                    "output_type": "display_data",
                    "data": {
                        "text/html": "Total execution time: 00:00:00.013"
                    },
                    "metadata": {}
                },
                {
                    "output_type": "execute_result",
                    "metadata": {},
                    "execution_count": 50,
                    "data": {
                        "application/vnd.dataresource+json": {
                            "schema": {
                                "fields": [
                                    {
                                        "name": "CategoryName"
                                    },
                                    {
                                        "name": "NumberOfProducts"
                                    },
                                    {
                                        "name": "TotalQuantitySold"
                                    },
                                    {
                                        "name": "TotalRevenue"
                                    },
                                    {
                                        "name": "AverageUnitPrice"
                                    }
                                ]
                            },
                            "data": [
                                {
                                    "CategoryName": "Beverages",
                                    "NumberOfProducts": "12",
                                    "TotalQuantitySold": "9532",
                                    "TotalRevenue": "286526.95",
                                    "AverageUnitPrice": "29.2367"
                                },
                                {
                                    "CategoryName": "Dairy Products",
                                    "NumberOfProducts": "10",
                                    "TotalQuantitySold": "9149",
                                    "TotalRevenue": "251330.50",
                                    "AverageUnitPrice": "26.983"
                                },
                                {
                                    "CategoryName": "Meat/Poultry",
                                    "NumberOfProducts": "6",
                                    "TotalQuantitySold": "4199",
                                    "TotalRevenue": "178188.80",
                                    "AverageUnitPrice": "42.8747"
                                },
                                {
                                    "CategoryName": "Confections",
                                    "NumberOfProducts": "13",
                                    "TotalQuantitySold": "7906",
                                    "TotalRevenue": "177099.10",
                                    "AverageUnitPrice": "22.6026"
                                },
                                {
                                    "CategoryName": "Seafood",
                                    "NumberOfProducts": "12",
                                    "TotalQuantitySold": "7681",
                                    "TotalRevenue": "141623.09",
                                    "AverageUnitPrice": "19.0629"
                                },
                                {
                                    "CategoryName": "Condiments",
                                    "NumberOfProducts": "12",
                                    "TotalQuantitySold": "5298",
                                    "TotalRevenue": "113694.75",
                                    "AverageUnitPrice": "21.3208"
                                },
                                {
                                    "CategoryName": "Produce",
                                    "NumberOfProducts": "5",
                                    "TotalQuantitySold": "2990",
                                    "TotalRevenue": "105268.60",
                                    "AverageUnitPrice": "35.1944"
                                },
                                {
                                    "CategoryName": "Grains/Cereals",
                                    "NumberOfProducts": "7",
                                    "TotalQuantitySold": "4562",
                                    "TotalRevenue": "100726.80",
                                    "AverageUnitPrice": "21.2464"
                                }
                            ]
                        },
                        "text/html": [
                            "<table>",
                            "<tr><th>CategoryName</th><th>NumberOfProducts</th><th>TotalQuantitySold</th><th>TotalRevenue</th><th>AverageUnitPrice</th></tr>",
                            "<tr><td>Beverages</td><td>12</td><td>9532</td><td>286526.95</td><td>29.2367</td></tr>",
                            "<tr><td>Dairy Products</td><td>10</td><td>9149</td><td>251330.50</td><td>26.983</td></tr>",
                            "<tr><td>Meat/Poultry</td><td>6</td><td>4199</td><td>178188.80</td><td>42.8747</td></tr>",
                            "<tr><td>Confections</td><td>13</td><td>7906</td><td>177099.10</td><td>22.6026</td></tr>",
                            "<tr><td>Seafood</td><td>12</td><td>7681</td><td>141623.09</td><td>19.0629</td></tr>",
                            "<tr><td>Condiments</td><td>12</td><td>5298</td><td>113694.75</td><td>21.3208</td></tr>",
                            "<tr><td>Produce</td><td>5</td><td>2990</td><td>105268.60</td><td>35.1944</td></tr>",
                            "<tr><td>Grains/Cereals</td><td>7</td><td>4562</td><td>100726.80</td><td>21.2464</td></tr>",
                            "</table>"
                        ]
                    }
                }
            ],
            "execution_count": 50
        },
        {
            "cell_type": "markdown",
            "source": [
                "## Medium Query: 6\r\n",
                "\r\n",
                "### Proposition:\r\n",
                "Develop a query to evaluate the inventory status across various suppliers in the Northwinds2022TSQLV7 database. This assessment is aimed at providing a detailed view of the stock levels and supply chain efficiency, which is crucial for inventory control and order fulfillment processes.\r\n",
                "\r\n",
                "### Requirements:\r\n",
                "\r\n",
                "#### Inventory Assessment:\r\n",
                "- Summarize the inventory data to reflect the total number of products supplied and the average price per supplier.\r\n",
                "- Highlight the suppliers' contribution to the inventory in terms of product diversity and value.\r\n",
                "\r\n",
                "#### Supplier Performance Metrics:\r\n",
                "- Calculate the total number of distinct products supplied by each supplier.\r\n",
                "- Determine the average unit price of products supplied by each supplier to gauge cost efficiency.\r\n",
                "\r\n",
                "#### Supplier and Product Details:\r\n",
                "- Pull supplier name details from the `Production.Supplier` table.\r\n",
                "- Use the `Production.Product` table for product inventory and pricing information.\r\n",
                "\r\n",
                "### Tables:\r\n",
                "- `[Production].[Supplier]`\r\n",
                "- `[Production].[Product]`\r\n",
                "\r\n",
                "### Columns:\r\n",
                "- From `[Production].[Supplier]`: SupplierId, SupplierCompanyName\r\n",
                "- From `[Production].[Product]`: ProductId, SupplierId, UnitPrice\r\n",
                "\r\n",
                "### Joins:\r\n",
                "- Join the tables on their respective `SupplierId` to associate the products with their suppliers.\r\n",
                "\r\n",
                "### Grouping and Sorting:\r\n",
                "- Group the results by supplier to consolidate inventory data.\r\n",
                "- Sort the results by the total number of products in descending order to identify the suppliers with the widest range of products."
            ],
            "metadata": {
                "azdata_cell_guid": "ccb791fd-17c0-4f5c-ab14-39558b971541"
            },
            "attachments": {}
        },
        {
            "cell_type": "code",
            "source": [
                "SELECT \r\n",
                "    s.SupplierCompanyName,\r\n",
                "    COUNT(p.ProductId) AS TotalNumberOfProducts,\r\n",
                "    AVG(p.UnitPrice) AS AveragePricePerProduct\r\n",
                "FROM \r\n",
                "    [Production].[Supplier] AS s\r\n",
                "INNER JOIN \r\n",
                "    [Production].[Product] AS p \r\n",
                "    ON s.SupplierId = p.SupplierId\r\n",
                "GROUP BY \r\n",
                "    s.SupplierCompanyName\r\n",
                "ORDER BY \r\n",
                "    TotalNumberOfProducts DESC;\r\n",
                ""
            ],
            "metadata": {
                "azdata_cell_guid": "75820efa-bb92-44d2-bdda-fa8fe780e13b",
                "language": "sql"
            },
            "outputs": [
                {
                    "output_type": "display_data",
                    "data": {
                        "text/html": "(29 rows affected)"
                    },
                    "metadata": {}
                },
                {
                    "output_type": "display_data",
                    "data": {
                        "text/html": "Total execution time: 00:00:00.011"
                    },
                    "metadata": {}
                },
                {
                    "output_type": "execute_result",
                    "metadata": {},
                    "execution_count": 49,
                    "data": {
                        "application/vnd.dataresource+json": {
                            "schema": {
                                "fields": [
                                    {
                                        "name": "SupplierCompanyName"
                                    },
                                    {
                                        "name": "TotalNumberOfProducts"
                                    },
                                    {
                                        "name": "AveragePricePerProduct"
                                    }
                                ]
                            },
                            "data": [
                                {
                                    "SupplierCompanyName": "Supplier GQRCV",
                                    "TotalNumberOfProducts": "5",
                                    "AveragePricePerProduct": "35.57"
                                },
                                {
                                    "SupplierCompanyName": "Supplier SVIYA",
                                    "TotalNumberOfProducts": "5",
                                    "AveragePricePerProduct": "44.678"
                                },
                                {
                                    "SupplierCompanyName": "Supplier BWGYE",
                                    "TotalNumberOfProducts": "4",
                                    "AveragePricePerProduct": "28.175"
                                },
                                {
                                    "SupplierCompanyName": "Supplier VHQZD",
                                    "TotalNumberOfProducts": "4",
                                    "AveragePricePerProduct": "20.35"
                                },
                                {
                                    "SupplierCompanyName": "Supplier UHZRG",
                                    "TotalNumberOfProducts": "3",
                                    "AveragePricePerProduct": "15.3333"
                                },
                                {
                                    "SupplierCompanyName": "Supplier ZPYVS",
                                    "TotalNumberOfProducts": "3",
                                    "AveragePricePerProduct": "29.71"
                                },
                                {
                                    "SupplierCompanyName": "Supplier CIYNM",
                                    "TotalNumberOfProducts": "3",
                                    "AveragePricePerProduct": "26.4833"
                                },
                                {
                                    "SupplierCompanyName": "Supplier ELCRN",
                                    "TotalNumberOfProducts": "3",
                                    "AveragePricePerProduct": "18.0833"
                                },
                                {
                                    "SupplierCompanyName": "Supplier JNNES",
                                    "TotalNumberOfProducts": "3",
                                    "AveragePricePerProduct": "30.9333"
                                },
                                {
                                    "SupplierCompanyName": "Supplier KEREV",
                                    "TotalNumberOfProducts": "3",
                                    "AveragePricePerProduct": "26.4333"
                                },
                                {
                                    "SupplierCompanyName": "Supplier SWRXU",
                                    "TotalNumberOfProducts": "3",
                                    "AveragePricePerProduct": "15.6666"
                                },
                                {
                                    "SupplierCompanyName": "Supplier QWUSF",
                                    "TotalNumberOfProducts": "3",
                                    "AveragePricePerProduct": "14.9166"
                                },
                                {
                                    "SupplierCompanyName": "Supplier QZGUF",
                                    "TotalNumberOfProducts": "3",
                                    "AveragePricePerProduct": "20.00"
                                },
                                {
                                    "SupplierCompanyName": "Supplier STUAZ",
                                    "TotalNumberOfProducts": "3",
                                    "AveragePricePerProduct": "31.6666"
                                },
                                {
                                    "SupplierCompanyName": "Supplier NZLIF",
                                    "TotalNumberOfProducts": "3",
                                    "AveragePricePerProduct": "20.00"
                                },
                                {
                                    "SupplierCompanyName": "Supplier QOVFD",
                                    "TotalNumberOfProducts": "3",
                                    "AveragePricePerProduct": "46.00"
                                },
                                {
                                    "SupplierCompanyName": "Supplier QQYEU",
                                    "TotalNumberOfProducts": "2",
                                    "AveragePricePerProduct": "15.00"
                                },
                                {
                                    "SupplierCompanyName": "Supplier OAVQT",
                                    "TotalNumberOfProducts": "2",
                                    "AveragePricePerProduct": "44.50"
                                },
                                {
                                    "SupplierCompanyName": "Supplier OGLRK",
                                    "TotalNumberOfProducts": "2",
                                    "AveragePricePerProduct": "38.90"
                                },
                                {
                                    "SupplierCompanyName": "Supplier LVJUA",
                                    "TotalNumberOfProducts": "2",
                                    "AveragePricePerProduct": "140.75"
                                },
                                {
                                    "SupplierCompanyName": "Supplier JDNUG",
                                    "TotalNumberOfProducts": "2",
                                    "AveragePricePerProduct": "14.025"
                                },
                                {
                                    "SupplierCompanyName": "Supplier EQPNC",
                                    "TotalNumberOfProducts": "2",
                                    "AveragePricePerProduct": "29.50"
                                },
                                {
                                    "SupplierCompanyName": "Supplier ERVYZ",
                                    "TotalNumberOfProducts": "2",
                                    "AveragePricePerProduct": "15.725"
                                },
                                {
                                    "SupplierCompanyName": "Supplier FNUXM",
                                    "TotalNumberOfProducts": "2",
                                    "AveragePricePerProduct": "11.125"
                                },
                                {
                                    "SupplierCompanyName": "Supplier ZWZDM",
                                    "TotalNumberOfProducts": "2",
                                    "AveragePricePerProduct": "28.75"
                                },
                                {
                                    "SupplierCompanyName": "Supplier XOXZA",
                                    "TotalNumberOfProducts": "2",
                                    "AveragePricePerProduct": "10.75"
                                },
                                {
                                    "SupplierCompanyName": "Supplier UNAHG",
                                    "TotalNumberOfProducts": "1",
                                    "AveragePricePerProduct": "4.50"
                                },
                                {
                                    "SupplierCompanyName": "Supplier ZRYDZ",
                                    "TotalNumberOfProducts": "1",
                                    "AveragePricePerProduct": "13.25"
                                },
                                {
                                    "SupplierCompanyName": "Supplier TEGSC",
                                    "TotalNumberOfProducts": "1",
                                    "AveragePricePerProduct": "25.89"
                                }
                            ]
                        },
                        "text/html": [
                            "<table>",
                            "<tr><th>SupplierCompanyName</th><th>TotalNumberOfProducts</th><th>AveragePricePerProduct</th></tr>",
                            "<tr><td>Supplier GQRCV</td><td>5</td><td>35.57</td></tr>",
                            "<tr><td>Supplier SVIYA</td><td>5</td><td>44.678</td></tr>",
                            "<tr><td>Supplier BWGYE</td><td>4</td><td>28.175</td></tr>",
                            "<tr><td>Supplier VHQZD</td><td>4</td><td>20.35</td></tr>",
                            "<tr><td>Supplier UHZRG</td><td>3</td><td>15.3333</td></tr>",
                            "<tr><td>Supplier ZPYVS</td><td>3</td><td>29.71</td></tr>",
                            "<tr><td>Supplier CIYNM</td><td>3</td><td>26.4833</td></tr>",
                            "<tr><td>Supplier ELCRN</td><td>3</td><td>18.0833</td></tr>",
                            "<tr><td>Supplier JNNES</td><td>3</td><td>30.9333</td></tr>",
                            "<tr><td>Supplier KEREV</td><td>3</td><td>26.4333</td></tr>",
                            "<tr><td>Supplier SWRXU</td><td>3</td><td>15.6666</td></tr>",
                            "<tr><td>Supplier QWUSF</td><td>3</td><td>14.9166</td></tr>",
                            "<tr><td>Supplier QZGUF</td><td>3</td><td>20.00</td></tr>",
                            "<tr><td>Supplier STUAZ</td><td>3</td><td>31.6666</td></tr>",
                            "<tr><td>Supplier NZLIF</td><td>3</td><td>20.00</td></tr>",
                            "<tr><td>Supplier QOVFD</td><td>3</td><td>46.00</td></tr>",
                            "<tr><td>Supplier QQYEU</td><td>2</td><td>15.00</td></tr>",
                            "<tr><td>Supplier OAVQT</td><td>2</td><td>44.50</td></tr>",
                            "<tr><td>Supplier OGLRK</td><td>2</td><td>38.90</td></tr>",
                            "<tr><td>Supplier LVJUA</td><td>2</td><td>140.75</td></tr>",
                            "<tr><td>Supplier JDNUG</td><td>2</td><td>14.025</td></tr>",
                            "<tr><td>Supplier EQPNC</td><td>2</td><td>29.50</td></tr>",
                            "<tr><td>Supplier ERVYZ</td><td>2</td><td>15.725</td></tr>",
                            "<tr><td>Supplier FNUXM</td><td>2</td><td>11.125</td></tr>",
                            "<tr><td>Supplier ZWZDM</td><td>2</td><td>28.75</td></tr>",
                            "<tr><td>Supplier XOXZA</td><td>2</td><td>10.75</td></tr>",
                            "<tr><td>Supplier UNAHG</td><td>1</td><td>4.50</td></tr>",
                            "<tr><td>Supplier ZRYDZ</td><td>1</td><td>13.25</td></tr>",
                            "<tr><td>Supplier TEGSC</td><td>1</td><td>25.89</td></tr>",
                            "</table>"
                        ]
                    }
                }
            ],
            "execution_count": 49
        },
        {
            "cell_type": "markdown",
            "source": [
                "## Medium Query: 7\r\n",
                "\r\n",
                "### Proposition:\r\n",
                "Implement a query to assess the tenure and attrition of employees within the Northwinds2022TSQLV7 database. The goal is to gain insight into the duration of employment and to identify any notable trends in staff turnover which can inform human resources strategies and retention policies.\r\n",
                "\r\n",
                "### Requirements:\r\n",
                "\r\n",
                "#### Tenure Evaluation:\r\n",
                "- Calculate the length of employment for each staff member from the `HumanResources.Employee` table.\r\n",
                "- Distinguish between current employees and those who are no longer with the company.\r\n",
                "\r\n",
                "#### Attrition Analysis:\r\n",
                "- Compute the tenure in years for all employees, considering the HireDate for the start and SysEnd (or equivalent) for the termination of employment.\r\n",
                "- Examine the rate of attrition by analyzing the proportion of employees still active versus those who have left.\r\n",
                "\r\n",
                "#### Employee Details:\r\n",
                "- Include pertinent employee details such as name, title, start date, and, if available, the end date of employment.\r\n",
                "- Derive information from the `HumanResources.Employee` table, with additional data from `SystemVersioned.Employee` where available.\r\n",
                "\r\n",
                "### Tables:\r\n",
                "- `[HumanResources].[Employee]`\r\n",
                "- `[SystemVersioned].[Employee]`\r\n",
                "\r\n",
                "### Columns:\r\n",
                "- From `[HumanResources].[Employee]`: EmployeeId, EmployeeFirstName, EmployeeLastName, EmployeeTitle, HireDate\r\n",
                "- From `[SystemVersioned].[Employee]`: EmployeeId, SysStart, SysEnd (assuming SysEnd signifies the end of employment)\r\n",
                "\r\n",
                "### Predicate:\r\n",
                "- The presence of a `SysEnd` value will indicate employees who have left the company.\r\n",
                "\r\n",
                "### Sorting:\r\n",
                "- Order the results by length of service to prioritize employees with the longest tenure.\r\n",
                ""
            ],
            "metadata": {
                "azdata_cell_guid": "07f85767-0b11-446d-809d-334f2c3b4513"
            },
            "attachments": {}
        },
        {
            "cell_type": "code",
            "source": [
                "SELECT \r\n",
                "    e.EmployeeFirstName + ' ' + e.EmployeeLastName AS EmployeeFullName,\r\n",
                "    e.EmployeeTitle,\r\n",
                "    e.HireDate,\r\n",
                "    ISNULL(sv.SysEnd, GETDATE()) AS EndDate,\r\n",
                "    DATEDIFF(year, e.HireDate, ISNULL(sv.SysEnd, GETDATE())) AS YearsOfService\r\n",
                "FROM \r\n",
                "    [HumanResources].[Employee] AS e\r\n",
                "LEFT JOIN \r\n",
                "    [SystemVersioned].[Employee] AS sv \r\n",
                "    ON e.EmployeeId = sv.EmployeeId\r\n",
                "WHERE \r\n",
                "    e.EmployeeTitle IS NOT NULL\r\n",
                "ORDER BY \r\n",
                "    YearsOfService DESC;\r\n",
                ""
            ],
            "metadata": {
                "azdata_cell_guid": "81f77097-4ef4-4ab4-8efc-cf6301a02394",
                "language": "sql"
            },
            "outputs": [
                {
                    "output_type": "display_data",
                    "data": {
                        "text/html": "(9 rows affected)"
                    },
                    "metadata": {}
                },
                {
                    "output_type": "display_data",
                    "data": {
                        "text/html": "Total execution time: 00:00:00.009"
                    },
                    "metadata": {}
                },
                {
                    "output_type": "execute_result",
                    "metadata": {},
                    "execution_count": 48,
                    "data": {
                        "application/vnd.dataresource+json": {
                            "schema": {
                                "fields": [
                                    {
                                        "name": "EmployeeFullName"
                                    },
                                    {
                                        "name": "EmployeeTitle"
                                    },
                                    {
                                        "name": "HireDate"
                                    },
                                    {
                                        "name": "EndDate"
                                    },
                                    {
                                        "name": "YearsOfService"
                                    }
                                ]
                            },
                            "data": [
                                {
                                    "EmployeeFullName": "Sara Davis",
                                    "EmployeeTitle": "CEO",
                                    "HireDate": "2013-05-01",
                                    "EndDate": "9999-12-31 23:59:59",
                                    "YearsOfService": "7986"
                                },
                                {
                                    "EmployeeFullName": "Don Funk",
                                    "EmployeeTitle": "Vice President, Sales",
                                    "HireDate": "2013-08-14",
                                    "EndDate": "9999-12-31 23:59:59",
                                    "YearsOfService": "7986"
                                },
                                {
                                    "EmployeeFullName": "Judy Lew",
                                    "EmployeeTitle": "Sales Manager",
                                    "HireDate": "2013-04-01",
                                    "EndDate": "9999-12-31 23:59:59",
                                    "YearsOfService": "7986"
                                },
                                {
                                    "EmployeeFullName": "Yael Peled",
                                    "EmployeeTitle": "Sales Representative",
                                    "HireDate": "2014-05-03",
                                    "EndDate": "9999-12-31 23:59:59",
                                    "YearsOfService": "7985"
                                },
                                {
                                    "EmployeeFullName": "Sven Mortensen",
                                    "EmployeeTitle": "Sales Manager",
                                    "HireDate": "2014-10-17",
                                    "EndDate": "9999-12-31 23:59:59",
                                    "YearsOfService": "7985"
                                },
                                {
                                    "EmployeeFullName": "Paul Suurs",
                                    "EmployeeTitle": "Sales Representative",
                                    "HireDate": "2014-10-17",
                                    "EndDate": "2024-03-26 02:45:07",
                                    "YearsOfService": "10"
                                },
                                {
                                    "EmployeeFullName": "Russell King",
                                    "EmployeeTitle": "Sales Representative",
                                    "HireDate": "2015-01-02",
                                    "EndDate": "2024-03-26 02:45:07",
                                    "YearsOfService": "9"
                                },
                                {
                                    "EmployeeFullName": "Maria Cameron",
                                    "EmployeeTitle": "Sales Representative",
                                    "HireDate": "2015-03-05",
                                    "EndDate": "2024-03-26 02:45:07",
                                    "YearsOfService": "9"
                                },
                                {
                                    "EmployeeFullName": "Patricia Doyle",
                                    "EmployeeTitle": "Sales Representative",
                                    "HireDate": "2015-11-15",
                                    "EndDate": "2024-03-26 02:45:07",
                                    "YearsOfService": "9"
                                }
                            ]
                        },
                        "text/html": [
                            "<table>",
                            "<tr><th>EmployeeFullName</th><th>EmployeeTitle</th><th>HireDate</th><th>EndDate</th><th>YearsOfService</th></tr>",
                            "<tr><td>Sara Davis</td><td>CEO</td><td>2013-05-01</td><td>9999-12-31 23:59:59</td><td>7986</td></tr>",
                            "<tr><td>Don Funk</td><td>Vice President, Sales</td><td>2013-08-14</td><td>9999-12-31 23:59:59</td><td>7986</td></tr>",
                            "<tr><td>Judy Lew</td><td>Sales Manager</td><td>2013-04-01</td><td>9999-12-31 23:59:59</td><td>7986</td></tr>",
                            "<tr><td>Yael Peled</td><td>Sales Representative</td><td>2014-05-03</td><td>9999-12-31 23:59:59</td><td>7985</td></tr>",
                            "<tr><td>Sven Mortensen</td><td>Sales Manager</td><td>2014-10-17</td><td>9999-12-31 23:59:59</td><td>7985</td></tr>",
                            "<tr><td>Paul Suurs</td><td>Sales Representative</td><td>2014-10-17</td><td>2024-03-26 02:45:07</td><td>10</td></tr>",
                            "<tr><td>Russell King</td><td>Sales Representative</td><td>2015-01-02</td><td>2024-03-26 02:45:07</td><td>9</td></tr>",
                            "<tr><td>Maria Cameron</td><td>Sales Representative</td><td>2015-03-05</td><td>2024-03-26 02:45:07</td><td>9</td></tr>",
                            "<tr><td>Patricia Doyle</td><td>Sales Representative</td><td>2015-11-15</td><td>2024-03-26 02:45:07</td><td>9</td></tr>",
                            "</table>"
                        ]
                    }
                }
            ],
            "execution_count": 48
        },
        {
            "cell_type": "markdown",
            "source": [
                "## Medium Query: 8\r\n",
                "\r\n",
                "### Proposition:\r\n",
                "Generate a query to track the order fulfillment times across different shippers in the Northwinds2022TSQLV7 database. This analysis aims to optimize logistics by assessing the efficiency of delivery services used by the company.\r\n",
                "\r\n",
                "### Requirements:\r\n",
                "\r\n",
                "#### Fulfillment Time Analysis:\r\n",
                "- Calculate the average time taken from order placement to shipment for each shipper.\r\n",
                "- Identify patterns or outliers in delivery times that could indicate performance issues.\r\n",
                "\r\n",
                "#### Shipper Performance Metrics:\r\n",
                "- Determine the number of orders shipped by each shipper and the average fulfillment time in days.\r\n",
                "- Provide data that can be used to compare shippers and make informed decisions on logistics partnerships.\r\n",
                "\r\n",
                "#### Shipper and Order Details:\r\n",
                "- Include shipper name details from the `Sales.Shipper` table.\r\n",
                "- Use the `Sales.Order` table to obtain order and shipment dates.\r\n",
                "\r\n",
                "### Tables:\r\n",
                "- `[Sales].[Shipper]`\r\n",
                "- `[Sales].[Order]`\r\n",
                "\r\n",
                "### Columns:\r\n",
                "- From `[Sales].[Shipper]`: ShipperId, ShipperCompanyName\r\n",
                "- From `[Sales].[Order]`: OrderId, ShipperId, OrderDate, ShipToDate\r\n",
                "\r\n",
                "### Joins:\r\n",
                "- Join the `Sales.Order` table with the `Sales.Shipper` table on `ShipperId` to associate orders with their shippers.\r\n",
                "\r\n",
                "### Grouping and Sorting:\r\n",
                "- Group the results by shipper company name to aggregate the fulfillment data.\r\n",
                "- Sort the results by the average fulfillment time to prioritize the shippers with the quickest delivery times.\r\n",
                ""
            ],
            "metadata": {
                "language": "sql",
                "azdata_cell_guid": "3d06df0c-a74c-43ee-98d9-2aa476023ccc"
            },
            "attachments": {}
        },
        {
            "cell_type": "code",
            "source": [
                "SELECT \r\n",
                "    s.ShipperCompanyName,\r\n",
                "    COUNT(o.OrderId) AS TotalOrdersShipped,\r\n",
                "    AVG(DATEDIFF(day, o.OrderDate, o.ShipToDate)) AS AverageFulfillmentTime\r\n",
                "FROM \r\n",
                "    [Sales].[Shipper] AS s\r\n",
                "JOIN \r\n",
                "    [Sales].[Order] AS o \r\n",
                "    ON s.ShipperId = o.ShipperId\r\n",
                "GROUP BY \r\n",
                "    s.ShipperCompanyName\r\n",
                "ORDER BY \r\n",
                "    AverageFulfillmentTime;\r\n",
                ""
            ],
            "metadata": {
                "azdata_cell_guid": "f3421d50-c1bc-4878-8183-800d3409c3e5",
                "language": "sql",
                "tags": []
            },
            "outputs": [
                {
                    "output_type": "display_data",
                    "data": {
                        "text/html": "Warning: Null value is eliminated by an aggregate or other SET operation."
                    },
                    "metadata": {}
                },
                {
                    "output_type": "display_data",
                    "data": {
                        "text/html": "(3 rows affected)"
                    },
                    "metadata": {}
                },
                {
                    "output_type": "display_data",
                    "data": {
                        "text/html": "Total execution time: 00:00:00.007"
                    },
                    "metadata": {}
                },
                {
                    "output_type": "execute_result",
                    "metadata": {},
                    "execution_count": 47,
                    "data": {
                        "application/vnd.dataresource+json": {
                            "schema": {
                                "fields": [
                                    {
                                        "name": "ShipperCompanyName"
                                    },
                                    {
                                        "name": "TotalOrdersShipped"
                                    },
                                    {
                                        "name": "AverageFulfillmentTime"
                                    }
                                ]
                            },
                            "data": [
                                {
                                    "ShipperCompanyName": "Shipper ZHISN",
                                    "TotalOrdersShipped": "255",
                                    "AverageFulfillmentTime": "7"
                                },
                                {
                                    "ShipperCompanyName": "Shipper GVSUA",
                                    "TotalOrdersShipped": "249",
                                    "AverageFulfillmentTime": "8"
                                },
                                {
                                    "ShipperCompanyName": "Shipper ETYNR",
                                    "TotalOrdersShipped": "326",
                                    "AverageFulfillmentTime": "9"
                                }
                            ]
                        },
                        "text/html": [
                            "<table>",
                            "<tr><th>ShipperCompanyName</th><th>TotalOrdersShipped</th><th>AverageFulfillmentTime</th></tr>",
                            "<tr><td>Shipper ZHISN</td><td>255</td><td>7</td></tr>",
                            "<tr><td>Shipper GVSUA</td><td>249</td><td>8</td></tr>",
                            "<tr><td>Shipper ETYNR</td><td>326</td><td>9</td></tr>",
                            "</table>"
                        ]
                    }
                }
            ],
            "execution_count": 47
        },
        {
            "cell_type": "markdown",
            "source": [
                "## Medium Query: 9\r\n",
                "\r\n",
                "### Proposition:\r\n",
                "Design a query to assess the sales performance of employees in the Northwinds2022TSQLV7 database. This exploration is aimed at identifying top performers based on sales revenue and understanding how employee sales efforts contribute to the company's overall success.\r\n",
                "\r\n",
                "### Requirements:\r\n",
                "\r\n",
                "#### Sales Performance Evaluation:\r\n",
                "- Analyze total sales generated by each employee, providing a measure of individual contribution to the company's revenue.\r\n",
                "- Highlight top-performing employees based on the revenue they have generated.\r\n",
                "\r\n",
                "#### Performance Metrics:\r\n",
                "- Include calculations for the total sales revenue associated with each employee.\r\n",
                "- Assess the number of orders handled by each employee to gauge their productivity.\r\n",
                "\r\n",
                "#### Employee and Sales Details:\r\n",
                "- Source employee details from the `HumanResources.Employee` table.\r\n",
                "- Utilize the `Sales.Order` table for order details, and join with `Sales.OrderDetail` to incorporate sales data.\r\n",
                "\r\n",
                "### Tables:\r\n",
                "- `[HumanResources].[Employee]`\r\n",
                "- `[Sales].[Order]`\r\n",
                "- `[Sales].[OrderDetail]`\r\n",
                "\r\n",
                "### Columns:\r\n",
                "- From `[HumanResources].[Employee]`: EmployeeId, EmployeeFirstName, EmployeeLastName\r\n",
                "- From `[Sales].[Order]`: OrderId, EmployeeId, OrderDate\r\n",
                "- From `[Sales].[OrderDetail]`: OrderId, UnitPrice, Quantity\r\n",
                "\r\n",
                "### Joins:\r\n",
                "- Join `Sales.Order` with `HumanResources.Employee` on `EmployeeId` to link orders to employees.\r\n",
                "- Join `Sales.Order` with `Sales.OrderDetail` on `OrderId` to calculate total sales.\r\n",
                "\r\n",
                "### Grouping and Sorting:\r\n",
                "- Group the results by employee to aggregate sales data.\r\n",
                "- Sort the results by total sales revenue in descending order to identify the highest contributors.\r\n",
                ""
            ],
            "metadata": {
                "language": "sql",
                "azdata_cell_guid": "279784bf-da3d-45d7-a9fa-be081581334c"
            },
            "attachments": {}
        },
        {
            "cell_type": "code",
            "source": [
                "SELECT \r\n",
                "    e.EmployeeFirstName + ' ' + e.EmployeeLastName AS EmployeeName,\r\n",
                "    COUNT(o.OrderId) AS NumberOfOrders,\r\n",
                "    SUM(od.UnitPrice * od.Quantity) AS TotalSalesRevenue\r\n",
                "FROM \r\n",
                "    [HumanResources].[Employee] e\r\n",
                "JOIN \r\n",
                "    [Sales].[Order] o ON e.EmployeeId = o.EmployeeId\r\n",
                "JOIN \r\n",
                "    [Sales].[OrderDetail] od ON o.OrderId = od.OrderId\r\n",
                "GROUP BY \r\n",
                "    e.EmployeeFirstName, e.EmployeeLastName\r\n",
                "ORDER BY \r\n",
                "    TotalSalesRevenue DESC;\r\n",
                ""
            ],
            "metadata": {
                "azdata_cell_guid": "f4b61d8c-e772-41a7-96e7-dbb595ee76d9",
                "language": "sql"
            },
            "outputs": [
                {
                    "output_type": "display_data",
                    "data": {
                        "text/html": "(9 rows affected)"
                    },
                    "metadata": {}
                },
                {
                    "output_type": "display_data",
                    "data": {
                        "text/html": "Total execution time: 00:00:00.010"
                    },
                    "metadata": {}
                },
                {
                    "output_type": "execute_result",
                    "metadata": {},
                    "execution_count": 46,
                    "data": {
                        "application/vnd.dataresource+json": {
                            "schema": {
                                "fields": [
                                    {
                                        "name": "EmployeeName"
                                    },
                                    {
                                        "name": "NumberOfOrders"
                                    },
                                    {
                                        "name": "TotalSalesRevenue"
                                    }
                                ]
                            },
                            "data": [
                                {
                                    "EmployeeName": "Yael Peled",
                                    "NumberOfOrders": "420",
                                    "TotalSalesRevenue": "250187.45"
                                },
                                {
                                    "EmployeeName": "Judy Lew",
                                    "NumberOfOrders": "321",
                                    "TotalSalesRevenue": "213051.30"
                                },
                                {
                                    "EmployeeName": "Sara Davis",
                                    "NumberOfOrders": "345",
                                    "TotalSalesRevenue": "202143.71"
                                },
                                {
                                    "EmployeeName": "Don Funk",
                                    "NumberOfOrders": "241",
                                    "TotalSalesRevenue": "177749.26"
                                },
                                {
                                    "EmployeeName": "Russell King",
                                    "NumberOfOrders": "176",
                                    "TotalSalesRevenue": "141295.99"
                                },
                                {
                                    "EmployeeName": "Maria Cameron",
                                    "NumberOfOrders": "260",
                                    "TotalSalesRevenue": "133301.03"
                                },
                                {
                                    "EmployeeName": "Patricia Doyle",
                                    "NumberOfOrders": "107",
                                    "TotalSalesRevenue": "82964.00"
                                },
                                {
                                    "EmployeeName": "Paul Suurs",
                                    "NumberOfOrders": "168",
                                    "TotalSalesRevenue": "78198.10"
                                },
                                {
                                    "EmployeeName": "Sven Mortensen",
                                    "NumberOfOrders": "117",
                                    "TotalSalesRevenue": "75567.75"
                                }
                            ]
                        },
                        "text/html": [
                            "<table>",
                            "<tr><th>EmployeeName</th><th>NumberOfOrders</th><th>TotalSalesRevenue</th></tr>",
                            "<tr><td>Yael Peled</td><td>420</td><td>250187.45</td></tr>",
                            "<tr><td>Judy Lew</td><td>321</td><td>213051.30</td></tr>",
                            "<tr><td>Sara Davis</td><td>345</td><td>202143.71</td></tr>",
                            "<tr><td>Don Funk</td><td>241</td><td>177749.26</td></tr>",
                            "<tr><td>Russell King</td><td>176</td><td>141295.99</td></tr>",
                            "<tr><td>Maria Cameron</td><td>260</td><td>133301.03</td></tr>",
                            "<tr><td>Patricia Doyle</td><td>107</td><td>82964.00</td></tr>",
                            "<tr><td>Paul Suurs</td><td>168</td><td>78198.10</td></tr>",
                            "<tr><td>Sven Mortensen</td><td>117</td><td>75567.75</td></tr>",
                            "</table>"
                        ]
                    }
                }
            ],
            "execution_count": 46
        },
        {
            "cell_type": "markdown",
            "source": [
                "## Medium Query: 10\r\n",
                "\r\n",
                "### Proposition:\r\n",
                "Craft a query to analyze customer satisfaction based on the frequency and volume of repeat orders within the Northwinds2022TSQLV7 database. This investigation aims to leverage order history to gauge customer loyalty and satisfaction, which are crucial metrics for business growth and customer relationship management.\r\n",
                "\r\n",
                "### Requirements:\r\n",
                "\r\n",
                "#### Customer Loyalty Evaluation:\r\n",
                "- Determine the frequency of orders placed by each customer as an indicator of satisfaction and loyalty.\r\n",
                "- Calculate the total volume of products ordered by each customer to assess their value to the company.\r\n",
                "\r\n",
                "#### Loyalty and Value Metrics:\r\n",
                "- Include counts for the total number of orders and the total quantity of products ordered by each customer.\r\n",
                "- Evaluate the average order value (AOV) for each customer to understand spending behavior.\r\n",
                "\r\n",
                "#### Customer and Order Details:\r\n",
                "- Source customer details from the `Sales.Customer` table.\r\n",
                "- Utilize the `Sales.Order` and `Sales.OrderDetail` tables to gather order and product quantity information.\r\n",
                "\r\n",
                "### Tables:\r\n",
                "- `[Sales].[Customer]`\r\n",
                "- `[Sales].[Order]`\r\n",
                "- `[Sales].[OrderDetail]`\r\n",
                "\r\n",
                "### Columns:\r\n",
                "- From `[Sales].[Customer]`: CustomerId, CustomerCompanyName\r\n",
                "- From `[Sales].[Order]`: OrderId, CustomerId\r\n",
                "- From `[Sales].[OrderDetail]`: OrderId, Quantity, UnitPrice\r\n",
                "\r\n",
                "### Joins:\r\n",
                "- Join `Sales.Order` with `Sales.Customer` on `CustomerId` to link orders to customers.\r\n",
                "- Join `Sales.Order` with `Sales.OrderDetail` on `OrderId` to obtain details about each order.\r\n",
                "\r\n",
                "### Grouping and Sorting:\r\n",
                "- Group the results by customer to compile loyalty and value data.\r\n",
                "- Sort the results by the number of orders and total quantity ordered in descending order to highlight the most loyal and valuable customers.\r\n",
                ""
            ],
            "metadata": {
                "azdata_cell_guid": "4a54bf44-0b5c-49f1-99ec-6a8a3655434c"
            },
            "attachments": {}
        },
        {
            "cell_type": "code",
            "source": [
                "SELECT \r\n",
                "    c.CustomerCompanyName,\r\n",
                "    COUNT(DISTINCT o.OrderId) AS NumberOfOrders,\r\n",
                "    SUM(od.Quantity) AS TotalQuantityOrdered,\r\n",
                "    AVG(od.UnitPrice * od.Quantity) AS AverageOrderValue\r\n",
                "FROM \r\n",
                "    [Sales].[Customer] c\r\n",
                "JOIN \r\n",
                "    [Sales].[Order] o ON c.CustomerId = o.CustomerId\r\n",
                "JOIN \r\n",
                "    [Sales].[OrderDetail] od ON o.OrderId = od.OrderId\r\n",
                "GROUP BY \r\n",
                "    c.CustomerCompanyName\r\n",
                "ORDER BY \r\n",
                "    NumberOfOrders DESC, TotalQuantityOrdered DESC;\r\n",
                ""
            ],
            "metadata": {
                "azdata_cell_guid": "4cfdb5bc-f8ec-40fd-9f0e-97fea10d9775",
                "language": "sql"
            },
            "outputs": [
                {
                    "output_type": "display_data",
                    "data": {
                        "text/html": "(89 rows affected)"
                    },
                    "metadata": {}
                },
                {
                    "output_type": "display_data",
                    "data": {
                        "text/html": "Total execution time: 00:00:00.016"
                    },
                    "metadata": {}
                },
                {
                    "output_type": "execute_result",
                    "metadata": {},
                    "execution_count": 45,
                    "data": {
                        "application/vnd.dataresource+json": {
                            "schema": {
                                "fields": [
                                    {
                                        "name": "CustomerCompanyName"
                                    },
                                    {
                                        "name": "NumberOfOrders"
                                    },
                                    {
                                        "name": "TotalQuantityOrdered"
                                    },
                                    {
                                        "name": "AverageOrderValue"
                                    }
                                ]
                            },
                            "data": [
                                {
                                    "CustomerCompanyName": "Customer LCOUJ",
                                    "NumberOfOrders": "31",
                                    "TotalQuantityOrdered": "4958",
                                    "AverageOrderValue": "997.1843"
                                },
                                {
                                    "CustomerCompanyName": "Customer THHDP",
                                    "NumberOfOrders": "30",
                                    "TotalQuantityOrdered": "4543",
                                    "AverageOrderValue": "1110.1635"
                                },
                                {
                                    "CustomerCompanyName": "Customer IRRVL",
                                    "NumberOfOrders": "28",
                                    "TotalQuantityOrdered": "3961",
                                    "AverageOrderValue": "1366.0859"
                                },
                                {
                                    "CustomerCompanyName": "Customer FRXZL",
                                    "NumberOfOrders": "19",
                                    "TotalQuantityOrdered": "1684",
                                    "AverageOrderValue": "1042.1343"
                                },
                                {
                                    "CustomerCompanyName": "Customer CYZTN",
                                    "NumberOfOrders": "19",
                                    "TotalQuantityOrdered": "1234",
                                    "AverageOrderValue": "723.4566"
                                },
                                {
                                    "CustomerCompanyName": "Customer NYUHS",
                                    "NumberOfOrders": "18",
                                    "TotalQuantityOrdered": "1383",
                                    "AverageOrderValue": "735.8577"
                                },
                                {
                                    "CustomerCompanyName": "Customer UMTLM",
                                    "NumberOfOrders": "18",
                                    "TotalQuantityOrdered": "1096",
                                    "AverageOrderValue": "524.7017"
                                },
                                {
                                    "CustomerCompanyName": "Customer HGVLZ",
                                    "NumberOfOrders": "18",
                                    "TotalQuantityOrdered": "1001",
                                    "AverageOrderValue": "518.6182"
                                },
                                {
                                    "CustomerCompanyName": "Customer RTXGC",
                                    "NumberOfOrders": "17",
                                    "TotalQuantityOrdered": "980",
                                    "AverageOrderValue": "542.067"
                                },
                                {
                                    "CustomerCompanyName": "Customer AZJED",
                                    "NumberOfOrders": "15",
                                    "TotalQuantityOrdered": "1525",
                                    "AverageOrderValue": "598.3897"
                                },
                                {
                                    "CustomerCompanyName": "Customer OXFRU",
                                    "NumberOfOrders": "15",
                                    "TotalQuantityOrdered": "794",
                                    "AverageOrderValue": "545.6928"
                                },
                                {
                                    "CustomerCompanyName": "Customer ZHYOS",
                                    "NumberOfOrders": "15",
                                    "TotalQuantityOrdered": "737",
                                    "AverageOrderValue": "449.1108"
                                },
                                {
                                    "CustomerCompanyName": "Customer YBQTI",
                                    "NumberOfOrders": "14",
                                    "TotalQuantityOrdered": "1063",
                                    "AverageOrderValue": "726.8362"
                                },
                                {
                                    "CustomerCompanyName": "Customer EEALV",
                                    "NumberOfOrders": "14",
                                    "TotalQuantityOrdered": "956",
                                    "AverageOrderValue": "645.9342"
                                },
                                {
                                    "CustomerCompanyName": "Customer GLLAG",
                                    "NumberOfOrders": "14",
                                    "TotalQuantityOrdered": "903",
                                    "AverageOrderValue": "813.9935"
                                },
                                {
                                    "CustomerCompanyName": "Customer IBVRG",
                                    "NumberOfOrders": "14",
                                    "TotalQuantityOrdered": "839",
                                    "AverageOrderValue": "1065.6609"
                                },
                                {
                                    "CustomerCompanyName": "Customer XPNIK",
                                    "NumberOfOrders": "14",
                                    "TotalQuantityOrdered": "836",
                                    "AverageOrderValue": "524.2664"
                                },
                                {
                                    "CustomerCompanyName": "Customer XIIWM",
                                    "NumberOfOrders": "14",
                                    "TotalQuantityOrdered": "442",
                                    "AverageOrderValue": "331.3661"
                                },
                                {
                                    "CustomerCompanyName": "Customer WFIZJ",
                                    "NumberOfOrders": "13",
                                    "TotalQuantityOrdered": "1031",
                                    "AverageOrderValue": "755.6525"
                                },
                                {
                                    "CustomerCompanyName": "Customer PVDZC",
                                    "NumberOfOrders": "13",
                                    "TotalQuantityOrdered": "966",
                                    "AverageOrderValue": "1006.3718"
                                },
                                {
                                    "CustomerCompanyName": "Customer HFBZG",
                                    "NumberOfOrders": "13",
                                    "TotalQuantityOrdered": "650",
                                    "AverageOrderValue": "460.2166"
                                },
                                {
                                    "CustomerCompanyName": "Customer SFOGW",
                                    "NumberOfOrders": "12",
                                    "TotalQuantityOrdered": "1072",
                                    "AverageOrderValue": "633.4461"
                                },
                                {
                                    "CustomerCompanyName": "Customer PSQUZ",
                                    "NumberOfOrders": "12",
                                    "TotalQuantityOrdered": "970",
                                    "AverageOrderValue": "511.13"
                                },
                                {
                                    "CustomerCompanyName": "Customer LHANT",
                                    "NumberOfOrders": "12",
                                    "TotalQuantityOrdered": "335",
                                    "AverageOrderValue": "343.4363"
                                },
                                {
                                    "CustomerCompanyName": "Customer ZRNDE",
                                    "NumberOfOrders": "11",
                                    "TotalQuantityOrdered": "792",
                                    "AverageOrderValue": "536.8967"
                                },
                                {
                                    "CustomerCompanyName": "Customer QXVLA",
                                    "NumberOfOrders": "11",
                                    "TotalQuantityOrdered": "666",
                                    "AverageOrderValue": "734.1538"
                                },
                                {
                                    "CustomerCompanyName": "Customer QVEPD",
                                    "NumberOfOrders": "11",
                                    "TotalQuantityOrdered": "660",
                                    "AverageOrderValue": "478.6814"
                                },
                                {
                                    "CustomerCompanyName": "Customer YSIQX",
                                    "NumberOfOrders": "11",
                                    "TotalQuantityOrdered": "345",
                                    "AverageOrderValue": "895.9604"
                                },
                                {
                                    "CustomerCompanyName": "Customer CCKOT",
                                    "NumberOfOrders": "10",
                                    "TotalQuantityOrdered": "810",
                                    "AverageOrderValue": "667.7733"
                                },
                                {
                                    "CustomerCompanyName": "Customer QNIVZ",
                                    "NumberOfOrders": "10",
                                    "TotalQuantityOrdered": "639",
                                    "AverageOrderValue": "453.7068"
                                },
                                {
                                    "CustomerCompanyName": "Customer LOLJO",
                                    "NumberOfOrders": "10",
                                    "TotalQuantityOrdered": "624",
                                    "AverageOrderValue": "1141.7369"
                                },
                                {
                                    "CustomerCompanyName": "Customer KZQZT",
                                    "NumberOfOrders": "10",
                                    "TotalQuantityOrdered": "603",
                                    "AverageOrderValue": "680.2145"
                                },
                                {
                                    "CustomerCompanyName": "Customer SNXOJ",
                                    "NumberOfOrders": "10",
                                    "TotalQuantityOrdered": "492",
                                    "AverageOrderValue": "409.7634"
                                },
                                {
                                    "CustomerCompanyName": "Customer NRCSK",
                                    "NumberOfOrders": "10",
                                    "TotalQuantityOrdered": "434",
                                    "AverageOrderValue": "397.484"
                                },
                                {
                                    "CustomerCompanyName": "Customer CQRAA",
                                    "NumberOfOrders": "10",
                                    "TotalQuantityOrdered": "433",
                                    "AverageOrderValue": "362.088"
                                },
                                {
                                    "CustomerCompanyName": "Customer KSLQF",
                                    "NumberOfOrders": "10",
                                    "TotalQuantityOrdered": "395",
                                    "AverageOrderValue": "455.0038"
                                },
                                {
                                    "CustomerCompanyName": "Customer VONTK",
                                    "NumberOfOrders": "10",
                                    "TotalQuantityOrdered": "384",
                                    "AverageOrderValue": "372.8327"
                                },
                                {
                                    "CustomerCompanyName": "Customer LJUCA",
                                    "NumberOfOrders": "10",
                                    "TotalQuantityOrdered": "295",
                                    "AverageOrderValue": "267.2304"
                                },
                                {
                                    "CustomerCompanyName": "Customer UBHAU",
                                    "NumberOfOrders": "10",
                                    "TotalQuantityOrdered": "293",
                                    "AverageOrderValue": "276.8136"
                                },
                                {
                                    "CustomerCompanyName": "Customer AHPOP",
                                    "NumberOfOrders": "9",
                                    "TotalQuantityOrdered": "818",
                                    "AverageOrderValue": "660.4634"
                                },
                                {
                                    "CustomerCompanyName": "Customer WULWD",
                                    "NumberOfOrders": "9",
                                    "TotalQuantityOrdered": "394",
                                    "AverageOrderValue": "290.5679"
                                },
                                {
                                    "CustomerCompanyName": "Customer XOJYP",
                                    "NumberOfOrders": "9",
                                    "TotalQuantityOrdered": "327",
                                    "AverageOrderValue": "624.485"
                                },
                                {
                                    "CustomerCompanyName": "Customer YJCBX",
                                    "NumberOfOrders": "9",
                                    "TotalQuantityOrdered": "315",
                                    "AverageOrderValue": "458.0121"
                                },
                                {
                                    "CustomerCompanyName": "Customer SRQVM",
                                    "NumberOfOrders": "9",
                                    "TotalQuantityOrdered": "267",
                                    "AverageOrderValue": "341.0894"
                                },
                                {
                                    "CustomerCompanyName": "Customer RFNQC",
                                    "NumberOfOrders": "8",
                                    "TotalQuantityOrdered": "569",
                                    "AverageOrderValue": "715.8885"
                                },
                                {
                                    "CustomerCompanyName": "Customer WNMAF",
                                    "NumberOfOrders": "8",
                                    "TotalQuantityOrdered": "465",
                                    "AverageOrderValue": "585.7409"
                                },
                                {
                                    "CustomerCompanyName": "Customer XYUFB",
                                    "NumberOfOrders": "8",
                                    "TotalQuantityOrdered": "349",
                                    "AverageOrderValue": "357.5775"
                                },
                                {
                                    "CustomerCompanyName": "Customer DVFMB",
                                    "NumberOfOrders": "8",
                                    "TotalQuantityOrdered": "134",
                                    "AverageOrderValue": "304.1857"
                                },
                                {
                                    "CustomerCompanyName": "Customer JMIKW",
                                    "NumberOfOrders": "7",
                                    "TotalQuantityOrdered": "378",
                                    "AverageOrderValue": "1209.23"
                                },
                                {
                                    "CustomerCompanyName": "Customer KBUDE",
                                    "NumberOfOrders": "7",
                                    "TotalQuantityOrdered": "359",
                                    "AverageOrderValue": "442.0794"
                                },
                                {
                                    "CustomerCompanyName": "Customer KIDPX",
                                    "NumberOfOrders": "7",
                                    "TotalQuantityOrdered": "357",
                                    "AverageOrderValue": "233.6263"
                                },
                                {
                                    "CustomerCompanyName": "Customer JYPSC",
                                    "NumberOfOrders": "7",
                                    "TotalQuantityOrdered": "320",
                                    "AverageOrderValue": "613.5635"
                                },
                                {
                                    "CustomerCompanyName": "Customer CCFIZ",
                                    "NumberOfOrders": "7",
                                    "TotalQuantityOrdered": "205",
                                    "AverageOrderValue": "220.7468"
                                },
                                {
                                    "CustomerCompanyName": "Customer XBBVR",
                                    "NumberOfOrders": "7",
                                    "TotalQuantityOrdered": "148",
                                    "AverageOrderValue": "185.9617"
                                },
                                {
                                    "CustomerCompanyName": "Customer XHXJV",
                                    "NumberOfOrders": "7",
                                    "TotalQuantityOrdered": "140",
                                    "AverageOrderValue": "231.4142"
                                },
                                {
                                    "CustomerCompanyName": "Customer FAPSM",
                                    "NumberOfOrders": "6",
                                    "TotalQuantityOrdered": "253",
                                    "AverageOrderValue": "353.8571"
                                },
                                {
                                    "CustomerCompanyName": "Customer YQQWW",
                                    "NumberOfOrders": "6",
                                    "TotalQuantityOrdered": "251",
                                    "AverageOrderValue": "562.3553"
                                },
                                {
                                    "CustomerCompanyName": "Customer AHXHT",
                                    "NumberOfOrders": "6",
                                    "TotalQuantityOrdered": "208",
                                    "AverageOrderValue": "303.0142"
                                },
                                {
                                    "CustomerCompanyName": "Customer NRZBB",
                                    "NumberOfOrders": "6",
                                    "TotalQuantityOrdered": "174",
                                    "AverageOrderValue": "383.0166"
                                },
                                {
                                    "CustomerCompanyName": "Customer TMXGN",
                                    "NumberOfOrders": "6",
                                    "TotalQuantityOrdered": "161",
                                    "AverageOrderValue": "358.4468"
                                },
                                {
                                    "CustomerCompanyName": "Customer FEVNN",
                                    "NumberOfOrders": "6",
                                    "TotalQuantityOrdered": "160",
                                    "AverageOrderValue": "376.321"
                                },
                                {
                                    "CustomerCompanyName": "Customer PSNMQ",
                                    "NumberOfOrders": "6",
                                    "TotalQuantityOrdered": "115",
                                    "AverageOrderValue": "164.9818"
                                },
                                {
                                    "CustomerCompanyName": "Customer WMFEA",
                                    "NumberOfOrders": "6",
                                    "TotalQuantityOrdered": "54",
                                    "AverageOrderValue": "154.57"
                                },
                                {
                                    "CustomerCompanyName": "Customer WVFAF",
                                    "NumberOfOrders": "5",
                                    "TotalQuantityOrdered": "354",
                                    "AverageOrderValue": "729.1812"
                                },
                                {
                                    "CustomerCompanyName": "Customer QZURI",
                                    "NumberOfOrders": "5",
                                    "TotalQuantityOrdered": "184",
                                    "AverageOrderValue": "531.71"
                                },
                                {
                                    "CustomerCompanyName": "Customer PZNLA",
                                    "NumberOfOrders": "5",
                                    "TotalQuantityOrdered": "172",
                                    "AverageOrderValue": "458.3818"
                                },
                                {
                                    "CustomerCompanyName": "Customer JUWXK",
                                    "NumberOfOrders": "5",
                                    "TotalQuantityOrdered": "133",
                                    "AverageOrderValue": "381.075"
                                },
                                {
                                    "CustomerCompanyName": "Customer TDKEG",
                                    "NumberOfOrders": "5",
                                    "TotalQuantityOrdered": "132",
                                    "AverageOrderValue": "314.5636"
                                },
                                {
                                    "CustomerCompanyName": "Customer LVJSO",
                                    "NumberOfOrders": "5",
                                    "TotalQuantityOrdered": "122",
                                    "AverageOrderValue": "340.3555"
                                },
                                {
                                    "CustomerCompanyName": "Customer ENQZT",
                                    "NumberOfOrders": "5",
                                    "TotalQuantityOrdered": "98",
                                    "AverageOrderValue": "148.00"
                                },
                                {
                                    "CustomerCompanyName": "Customer LWGMD",
                                    "NumberOfOrders": "5",
                                    "TotalQuantityOrdered": "92",
                                    "AverageOrderValue": "237.0083"
                                },
                                {
                                    "CustomerCompanyName": "Customer SIUIH",
                                    "NumberOfOrders": "5",
                                    "TotalQuantityOrdered": "91",
                                    "AverageOrderValue": "104.8064"
                                },
                                {
                                    "CustomerCompanyName": "Customer MDLWA",
                                    "NumberOfOrders": "5",
                                    "TotalQuantityOrdered": "42",
                                    "AverageOrderValue": "104.5875"
                                },
                                {
                                    "CustomerCompanyName": "Customer QXPPT",
                                    "NumberOfOrders": "4",
                                    "TotalQuantityOrdered": "181",
                                    "AverageOrderValue": "349.002"
                                },
                                {
                                    "CustomerCompanyName": "Customer EFFTC",
                                    "NumberOfOrders": "4",
                                    "TotalQuantityOrdered": "83",
                                    "AverageOrderValue": "181.0954"
                                },
                                {
                                    "CustomerCompanyName": "Customer BSVAR",
                                    "NumberOfOrders": "4",
                                    "TotalQuantityOrdered": "80",
                                    "AverageOrderValue": "179.5444"
                                },
                                {
                                    "CustomerCompanyName": "Customer MLTDN",
                                    "NumberOfOrders": "4",
                                    "TotalQuantityOrdered": "63",
                                    "AverageOrderValue": "140.295"
                                },
                                {
                                    "CustomerCompanyName": "Customer YSHXL",
                                    "NumberOfOrders": "4",
                                    "TotalQuantityOrdered": "48",
                                    "AverageOrderValue": "403.8916"
                                },
                                {
                                    "CustomerCompanyName": "Customer LCYBZ",
                                    "NumberOfOrders": "4",
                                    "TotalQuantityOrdered": "46",
                                    "AverageOrderValue": "480.1428"
                                },
                                {
                                    "CustomerCompanyName": "Customer QUHWH",
                                    "NumberOfOrders": "3",
                                    "TotalQuantityOrdered": "190",
                                    "AverageOrderValue": "882.9666"
                                },
                                {
                                    "CustomerCompanyName": "Customer EYHKM",
                                    "NumberOfOrders": "3",
                                    "TotalQuantityOrdered": "89",
                                    "AverageOrderValue": "174.5777"
                                },
                                {
                                    "CustomerCompanyName": "Customer GYBBY",
                                    "NumberOfOrders": "3",
                                    "TotalQuantityOrdered": "87",
                                    "AverageOrderValue": "245.5857"
                                },
                                {
                                    "CustomerCompanyName": "Customer USDBG",
                                    "NumberOfOrders": "3",
                                    "TotalQuantityOrdered": "69",
                                    "AverageOrderValue": "528.6933"
                                },
                                {
                                    "CustomerCompanyName": "Customer IAIJK",
                                    "NumberOfOrders": "3",
                                    "TotalQuantityOrdered": "62",
                                    "AverageOrderValue": "65.3125"
                                },
                                {
                                    "CustomerCompanyName": "Customer NLTYP",
                                    "NumberOfOrders": "3",
                                    "TotalQuantityOrdered": "59",
                                    "AverageOrderValue": "243.405"
                                },
                                {
                                    "CustomerCompanyName": "Customer GCJSG",
                                    "NumberOfOrders": "3",
                                    "TotalQuantityOrdered": "30",
                                    "AverageOrderValue": "108.1666"
                                },
                                {
                                    "CustomerCompanyName": "Customer FVXPQ",
                                    "NumberOfOrders": "2",
                                    "TotalQuantityOrdered": "34",
                                    "AverageOrderValue": "372.175"
                                },
                                {
                                    "CustomerCompanyName": "Customer UISOJ",
                                    "NumberOfOrders": "2",
                                    "TotalQuantityOrdered": "20",
                                    "AverageOrderValue": "178.50"
                                },
                                {
                                    "CustomerCompanyName": "Customer VMLOG",
                                    "NumberOfOrders": "1",
                                    "TotalQuantityOrdered": "11",
                                    "AverageOrderValue": "50.40"
                                }
                            ]
                        },
                        "text/html": [
                            "<table>",
                            "<tr><th>CustomerCompanyName</th><th>NumberOfOrders</th><th>TotalQuantityOrdered</th><th>AverageOrderValue</th></tr>",
                            "<tr><td>Customer LCOUJ</td><td>31</td><td>4958</td><td>997.1843</td></tr>",
                            "<tr><td>Customer THHDP</td><td>30</td><td>4543</td><td>1110.1635</td></tr>",
                            "<tr><td>Customer IRRVL</td><td>28</td><td>3961</td><td>1366.0859</td></tr>",
                            "<tr><td>Customer FRXZL</td><td>19</td><td>1684</td><td>1042.1343</td></tr>",
                            "<tr><td>Customer CYZTN</td><td>19</td><td>1234</td><td>723.4566</td></tr>",
                            "<tr><td>Customer NYUHS</td><td>18</td><td>1383</td><td>735.8577</td></tr>",
                            "<tr><td>Customer UMTLM</td><td>18</td><td>1096</td><td>524.7017</td></tr>",
                            "<tr><td>Customer HGVLZ</td><td>18</td><td>1001</td><td>518.6182</td></tr>",
                            "<tr><td>Customer RTXGC</td><td>17</td><td>980</td><td>542.067</td></tr>",
                            "<tr><td>Customer AZJED</td><td>15</td><td>1525</td><td>598.3897</td></tr>",
                            "<tr><td>Customer OXFRU</td><td>15</td><td>794</td><td>545.6928</td></tr>",
                            "<tr><td>Customer ZHYOS</td><td>15</td><td>737</td><td>449.1108</td></tr>",
                            "<tr><td>Customer YBQTI</td><td>14</td><td>1063</td><td>726.8362</td></tr>",
                            "<tr><td>Customer EEALV</td><td>14</td><td>956</td><td>645.9342</td></tr>",
                            "<tr><td>Customer GLLAG</td><td>14</td><td>903</td><td>813.9935</td></tr>",
                            "<tr><td>Customer IBVRG</td><td>14</td><td>839</td><td>1065.6609</td></tr>",
                            "<tr><td>Customer XPNIK</td><td>14</td><td>836</td><td>524.2664</td></tr>",
                            "<tr><td>Customer XIIWM</td><td>14</td><td>442</td><td>331.3661</td></tr>",
                            "<tr><td>Customer WFIZJ</td><td>13</td><td>1031</td><td>755.6525</td></tr>",
                            "<tr><td>Customer PVDZC</td><td>13</td><td>966</td><td>1006.3718</td></tr>",
                            "<tr><td>Customer HFBZG</td><td>13</td><td>650</td><td>460.2166</td></tr>",
                            "<tr><td>Customer SFOGW</td><td>12</td><td>1072</td><td>633.4461</td></tr>",
                            "<tr><td>Customer PSQUZ</td><td>12</td><td>970</td><td>511.13</td></tr>",
                            "<tr><td>Customer LHANT</td><td>12</td><td>335</td><td>343.4363</td></tr>",
                            "<tr><td>Customer ZRNDE</td><td>11</td><td>792</td><td>536.8967</td></tr>",
                            "<tr><td>Customer QXVLA</td><td>11</td><td>666</td><td>734.1538</td></tr>",
                            "<tr><td>Customer QVEPD</td><td>11</td><td>660</td><td>478.6814</td></tr>",
                            "<tr><td>Customer YSIQX</td><td>11</td><td>345</td><td>895.9604</td></tr>",
                            "<tr><td>Customer CCKOT</td><td>10</td><td>810</td><td>667.7733</td></tr>",
                            "<tr><td>Customer QNIVZ</td><td>10</td><td>639</td><td>453.7068</td></tr>",
                            "<tr><td>Customer LOLJO</td><td>10</td><td>624</td><td>1141.7369</td></tr>",
                            "<tr><td>Customer KZQZT</td><td>10</td><td>603</td><td>680.2145</td></tr>",
                            "<tr><td>Customer SNXOJ</td><td>10</td><td>492</td><td>409.7634</td></tr>",
                            "<tr><td>Customer NRCSK</td><td>10</td><td>434</td><td>397.484</td></tr>",
                            "<tr><td>Customer CQRAA</td><td>10</td><td>433</td><td>362.088</td></tr>",
                            "<tr><td>Customer KSLQF</td><td>10</td><td>395</td><td>455.0038</td></tr>",
                            "<tr><td>Customer VONTK</td><td>10</td><td>384</td><td>372.8327</td></tr>",
                            "<tr><td>Customer LJUCA</td><td>10</td><td>295</td><td>267.2304</td></tr>",
                            "<tr><td>Customer UBHAU</td><td>10</td><td>293</td><td>276.8136</td></tr>",
                            "<tr><td>Customer AHPOP</td><td>9</td><td>818</td><td>660.4634</td></tr>",
                            "<tr><td>Customer WULWD</td><td>9</td><td>394</td><td>290.5679</td></tr>",
                            "<tr><td>Customer XOJYP</td><td>9</td><td>327</td><td>624.485</td></tr>",
                            "<tr><td>Customer YJCBX</td><td>9</td><td>315</td><td>458.0121</td></tr>",
                            "<tr><td>Customer SRQVM</td><td>9</td><td>267</td><td>341.0894</td></tr>",
                            "<tr><td>Customer RFNQC</td><td>8</td><td>569</td><td>715.8885</td></tr>",
                            "<tr><td>Customer WNMAF</td><td>8</td><td>465</td><td>585.7409</td></tr>",
                            "<tr><td>Customer XYUFB</td><td>8</td><td>349</td><td>357.5775</td></tr>",
                            "<tr><td>Customer DVFMB</td><td>8</td><td>134</td><td>304.1857</td></tr>",
                            "<tr><td>Customer JMIKW</td><td>7</td><td>378</td><td>1209.23</td></tr>",
                            "<tr><td>Customer KBUDE</td><td>7</td><td>359</td><td>442.0794</td></tr>",
                            "<tr><td>Customer KIDPX</td><td>7</td><td>357</td><td>233.6263</td></tr>",
                            "<tr><td>Customer JYPSC</td><td>7</td><td>320</td><td>613.5635</td></tr>",
                            "<tr><td>Customer CCFIZ</td><td>7</td><td>205</td><td>220.7468</td></tr>",
                            "<tr><td>Customer XBBVR</td><td>7</td><td>148</td><td>185.9617</td></tr>",
                            "<tr><td>Customer XHXJV</td><td>7</td><td>140</td><td>231.4142</td></tr>",
                            "<tr><td>Customer FAPSM</td><td>6</td><td>253</td><td>353.8571</td></tr>",
                            "<tr><td>Customer YQQWW</td><td>6</td><td>251</td><td>562.3553</td></tr>",
                            "<tr><td>Customer AHXHT</td><td>6</td><td>208</td><td>303.0142</td></tr>",
                            "<tr><td>Customer NRZBB</td><td>6</td><td>174</td><td>383.0166</td></tr>",
                            "<tr><td>Customer TMXGN</td><td>6</td><td>161</td><td>358.4468</td></tr>",
                            "<tr><td>Customer FEVNN</td><td>6</td><td>160</td><td>376.321</td></tr>",
                            "<tr><td>Customer PSNMQ</td><td>6</td><td>115</td><td>164.9818</td></tr>",
                            "<tr><td>Customer WMFEA</td><td>6</td><td>54</td><td>154.57</td></tr>",
                            "<tr><td>Customer WVFAF</td><td>5</td><td>354</td><td>729.1812</td></tr>",
                            "<tr><td>Customer QZURI</td><td>5</td><td>184</td><td>531.71</td></tr>",
                            "<tr><td>Customer PZNLA</td><td>5</td><td>172</td><td>458.3818</td></tr>",
                            "<tr><td>Customer JUWXK</td><td>5</td><td>133</td><td>381.075</td></tr>",
                            "<tr><td>Customer TDKEG</td><td>5</td><td>132</td><td>314.5636</td></tr>",
                            "<tr><td>Customer LVJSO</td><td>5</td><td>122</td><td>340.3555</td></tr>",
                            "<tr><td>Customer ENQZT</td><td>5</td><td>98</td><td>148.00</td></tr>",
                            "<tr><td>Customer LWGMD</td><td>5</td><td>92</td><td>237.0083</td></tr>",
                            "<tr><td>Customer SIUIH</td><td>5</td><td>91</td><td>104.8064</td></tr>",
                            "<tr><td>Customer MDLWA</td><td>5</td><td>42</td><td>104.5875</td></tr>",
                            "<tr><td>Customer QXPPT</td><td>4</td><td>181</td><td>349.002</td></tr>",
                            "<tr><td>Customer EFFTC</td><td>4</td><td>83</td><td>181.0954</td></tr>",
                            "<tr><td>Customer BSVAR</td><td>4</td><td>80</td><td>179.5444</td></tr>",
                            "<tr><td>Customer MLTDN</td><td>4</td><td>63</td><td>140.295</td></tr>",
                            "<tr><td>Customer YSHXL</td><td>4</td><td>48</td><td>403.8916</td></tr>",
                            "<tr><td>Customer LCYBZ</td><td>4</td><td>46</td><td>480.1428</td></tr>",
                            "<tr><td>Customer QUHWH</td><td>3</td><td>190</td><td>882.9666</td></tr>",
                            "<tr><td>Customer EYHKM</td><td>3</td><td>89</td><td>174.5777</td></tr>",
                            "<tr><td>Customer GYBBY</td><td>3</td><td>87</td><td>245.5857</td></tr>",
                            "<tr><td>Customer USDBG</td><td>3</td><td>69</td><td>528.6933</td></tr>",
                            "<tr><td>Customer IAIJK</td><td>3</td><td>62</td><td>65.3125</td></tr>",
                            "<tr><td>Customer NLTYP</td><td>3</td><td>59</td><td>243.405</td></tr>",
                            "<tr><td>Customer GCJSG</td><td>3</td><td>30</td><td>108.1666</td></tr>",
                            "<tr><td>Customer FVXPQ</td><td>2</td><td>34</td><td>372.175</td></tr>",
                            "<tr><td>Customer UISOJ</td><td>2</td><td>20</td><td>178.50</td></tr>",
                            "<tr><td>Customer VMLOG</td><td>1</td><td>11</td><td>50.40</td></tr>",
                            "</table>"
                        ]
                    }
                }
            ],
            "execution_count": 45
        },
        {
            "cell_type": "markdown",
            "source": [
                "## Medium Query: 11\r\n",
                "\r\n",
                "### Proposition:\r\n",
                "Implement a query to explore the relationship between product pricing, sales volume, and discounts applied within the Northwinds2022TSQLV7 database. This study aims to understand how pricing strategies and discounting affect product sales, enabling more informed decisions on pricing and promotions.\r\n",
                "\r\n",
                "### Requirements:\r\n",
                "\r\n",
                "#### Pricing and Sales Volume Analysis:\r\n",
                "- Assess the impact of unit price and discounts on the sales volume of products.\r\n",
                "- Investigate the correlation between high sales volume and the level of discounts offered.\r\n",
                "\r\n",
                "#### Discount Impact Evaluation:\r\n",
                "- Quantify the average discount applied to products and its effect on the quantity sold.\r\n",
                "- Explore variations in discounting practices across different product categories.\r\n",
                "\r\n",
                "#### Product and Sales Details:\r\n",
                "- Use the `Production.Product` table for product details, including pricing.\r\n",
                "- Employ the `Sales.OrderDetail` table for sales data, including quantities sold and discounts applied.\r\n",
                "\r\n",
                "### Tables:\r\n",
                "- `[Production].[Product]`\r\n",
                "- `[Sales].[OrderDetail]`\r\n",
                "\r\n",
                "### Columns:\r\n",
                "- From `[Production].[Product]`: ProductId, ProductName, UnitPrice, CategoryId\r\n",
                "- From `[Sales].[OrderDetail]`: ProductId, Quantity, DiscountPercentage\r\n",
                "\r\n",
                "### Joins:\r\n",
                "- Join `Sales.OrderDetail` with `Production.Product` on `ProductId` to correlate sales data with product details.\r\n",
                "\r\n",
                "### Grouping and Sorting:\r\n",
                "- Group the results by product to aggregate sales and discount data.\r\n",
                "- Sort the results by the quantity sold and average discount applied to highlight the effects of discounting on sales volume."
            ],
            "metadata": {
                "azdata_cell_guid": "a5e2f5dd-f572-4b56-a179-8707bd5f87f3"
            },
            "attachments": {}
        },
        {
            "cell_type": "code",
            "source": [
                "SELECT \r\n",
                "    p.ProductName,\r\n",
                "    p.UnitPrice,\r\n",
                "    AVG(od.DiscountPercentage) AS AverageDiscount,\r\n",
                "    SUM(od.Quantity) AS TotalQuantitySold\r\n",
                "FROM \r\n",
                "    [Production].[Product] p\r\n",
                "JOIN \r\n",
                "    [Sales].[OrderDetail] od ON p.ProductId = od.ProductId\r\n",
                "GROUP BY \r\n",
                "    p.ProductName, p.UnitPrice\r\n",
                "ORDER BY \r\n",
                "    TotalQuantitySold DESC, AverageDiscount DESC;\r\n",
                ""
            ],
            "metadata": {
                "azdata_cell_guid": "74a5d86e-ac66-4a8e-9be2-1c94ae807873",
                "language": "sql"
            },
            "outputs": [
                {
                    "output_type": "display_data",
                    "data": {
                        "text/html": "(77 rows affected)"
                    },
                    "metadata": {}
                },
                {
                    "output_type": "display_data",
                    "data": {
                        "text/html": "Total execution time: 00:00:00.119"
                    },
                    "metadata": {}
                },
                {
                    "output_type": "execute_result",
                    "metadata": {},
                    "execution_count": 44,
                    "data": {
                        "application/vnd.dataresource+json": {
                            "schema": {
                                "fields": [
                                    {
                                        "name": "ProductName"
                                    },
                                    {
                                        "name": "UnitPrice"
                                    },
                                    {
                                        "name": "AverageDiscount"
                                    },
                                    {
                                        "name": "TotalQuantitySold"
                                    }
                                ]
                            },
                            "data": [
                                {
                                    "ProductName": "Product WHBYK",
                                    "UnitPrice": "34.00",
                                    "AverageDiscount": "0.063921",
                                    "TotalQuantitySold": "1577"
                                },
                                {
                                    "ProductName": "Product UKXRI",
                                    "UnitPrice": "55.00",
                                    "AverageDiscount": "0.047222",
                                    "TotalQuantitySold": "1496"
                                },
                                {
                                    "ProductName": "Product XWOXC",
                                    "UnitPrice": "12.50",
                                    "AverageDiscount": "0.062745",
                                    "TotalQuantitySold": "1397"
                                },
                                {
                                    "ProductName": "Product VKCMF",
                                    "UnitPrice": "38.00",
                                    "AverageDiscount": "0.062000",
                                    "TotalQuantitySold": "1263"
                                },
                                {
                                    "ProductName": "Product PAFRH",
                                    "UnitPrice": "17.45",
                                    "AverageDiscount": "0.066976",
                                    "TotalQuantitySold": "1158"
                                },
                                {
                                    "ProductName": "Product BWRLG",
                                    "UnitPrice": "7.75",
                                    "AverageDiscount": "0.052173",
                                    "TotalQuantitySold": "1155"
                                },
                                {
                                    "ProductName": "Product QOGNU",
                                    "UnitPrice": "4.50",
                                    "AverageDiscount": "0.056862",
                                    "TotalQuantitySold": "1125"
                                },
                                {
                                    "ProductName": "Product YZIXQ",
                                    "UnitPrice": "18.40",
                                    "AverageDiscount": "0.051219",
                                    "TotalQuantitySold": "1103"
                                },
                                {
                                    "ProductName": "Product WUXYK",
                                    "UnitPrice": "49.30",
                                    "AverageDiscount": "0.054166",
                                    "TotalQuantitySold": "1083"
                                },
                                {
                                    "ProductName": "Product RECZE",
                                    "UnitPrice": "19.00",
                                    "AverageDiscount": "0.102272",
                                    "TotalQuantitySold": "1057"
                                },
                                {
                                    "ProductName": "Product MYMOI",
                                    "UnitPrice": "21.50",
                                    "AverageDiscount": "0.042857",
                                    "TotalQuantitySold": "1057"
                                },
                                {
                                    "ProductName": "Product VJZZH",
                                    "UnitPrice": "10.00",
                                    "AverageDiscount": "0.056410",
                                    "TotalQuantitySold": "1016"
                                },
                                {
                                    "ProductName": "Product JYGFE",
                                    "UnitPrice": "18.00",
                                    "AverageDiscount": "0.052564",
                                    "TotalQuantitySold": "981"
                                },
                                {
                                    "ProductName": "Product TTEEX",
                                    "UnitPrice": "9.65",
                                    "AverageDiscount": "0.040425",
                                    "TotalQuantitySold": "981"
                                },
                                {
                                    "ProductName": "Product BLCAX",
                                    "UnitPrice": "39.00",
                                    "AverageDiscount": "0.062162",
                                    "TotalQuantitySold": "978"
                                },
                                {
                                    "ProductName": "Product YYWRT",
                                    "UnitPrice": "24.00",
                                    "AverageDiscount": "0.077272",
                                    "TotalQuantitySold": "903"
                                },
                                {
                                    "ProductName": "Product POXFU",
                                    "UnitPrice": "6.00",
                                    "AverageDiscount": "0.042500",
                                    "TotalQuantitySold": "891"
                                },
                                {
                                    "ProductName": "Product APITJ",
                                    "UnitPrice": "53.00",
                                    "AverageDiscount": "0.051282",
                                    "TotalQuantitySold": "886"
                                },
                                {
                                    "ProductName": "Product NEVTJ",
                                    "UnitPrice": "18.00",
                                    "AverageDiscount": "0.047222",
                                    "TotalQuantitySold": "883"
                                },
                                {
                                    "ProductName": "Product HHYDP",
                                    "UnitPrice": "18.00",
                                    "AverageDiscount": "0.077631",
                                    "TotalQuantitySold": "828"
                                },
                                {
                                    "ProductName": "Product TOONT",
                                    "UnitPrice": "15.00",
                                    "AverageDiscount": "0.062820",
                                    "TotalQuantitySold": "817"
                                },
                                {
                                    "ProductName": "Product GEEOO",
                                    "UnitPrice": "34.80",
                                    "AverageDiscount": "0.023684",
                                    "TotalQuantitySold": "806"
                                },
                                {
                                    "ProductName": "Product GMKIJ",
                                    "UnitPrice": "19.00",
                                    "AverageDiscount": "0.079032",
                                    "TotalQuantitySold": "805"
                                },
                                {
                                    "ProductName": "Product TBTBL",
                                    "UnitPrice": "12.50",
                                    "AverageDiscount": "0.058823",
                                    "TotalQuantitySold": "799"
                                },
                                {
                                    "ProductName": "Product LSOFL",
                                    "UnitPrice": "18.00",
                                    "AverageDiscount": "0.066666",
                                    "TotalQuantitySold": "793"
                                },
                                {
                                    "ProductName": "Product LUNZZ",
                                    "UnitPrice": "13.00",
                                    "AverageDiscount": "0.051315",
                                    "TotalQuantitySold": "791"
                                },
                                {
                                    "ProductName": "Product HMLNI",
                                    "UnitPrice": "30.00",
                                    "AverageDiscount": "0.027586",
                                    "TotalQuantitySold": "763"
                                },
                                {
                                    "ProductName": "Product QAQRL",
                                    "UnitPrice": "7.45",
                                    "AverageDiscount": "0.072222",
                                    "TotalQuantitySold": "755"
                                },
                                {
                                    "ProductName": "Product ASTMN",
                                    "UnitPrice": "2.50",
                                    "AverageDiscount": "0.043750",
                                    "TotalQuantitySold": "755"
                                },
                                {
                                    "ProductName": "Product HLGZA",
                                    "UnitPrice": "31.23",
                                    "AverageDiscount": "0.051562",
                                    "TotalQuantitySold": "753"
                                },
                                {
                                    "ProductName": "Product VJXYN",
                                    "UnitPrice": "123.79",
                                    "AverageDiscount": "0.064062",
                                    "TotalQuantitySold": "746"
                                },
                                {
                                    "ProductName": "Product XYWBZ",
                                    "UnitPrice": "21.05",
                                    "AverageDiscount": "0.048437",
                                    "TotalQuantitySold": "745"
                                },
                                {
                                    "ProductName": "Product YHXGE",
                                    "UnitPrice": "31.00",
                                    "AverageDiscount": "0.043939",
                                    "TotalQuantitySold": "742"
                                },
                                {
                                    "ProductName": "Product HCQDE",
                                    "UnitPrice": "33.25",
                                    "AverageDiscount": "0.041000",
                                    "TotalQuantitySold": "740"
                                },
                                {
                                    "ProductName": "Product XKXDO",
                                    "UnitPrice": "9.20",
                                    "AverageDiscount": "0.055405",
                                    "TotalQuantitySold": "723"
                                },
                                {
                                    "ProductName": "Product BKGEA",
                                    "UnitPrice": "32.80",
                                    "AverageDiscount": "0.038333",
                                    "TotalQuantitySold": "722"
                                },
                                {
                                    "ProductName": "Product COAXA",
                                    "UnitPrice": "36.00",
                                    "AverageDiscount": "0.074193",
                                    "TotalQuantitySold": "714"
                                },
                                {
                                    "ProductName": "Product QMVUN",
                                    "UnitPrice": "21.00",
                                    "AverageDiscount": "0.056578",
                                    "TotalQuantitySold": "706"
                                },
                                {
                                    "ProductName": "Product RJVNM",
                                    "UnitPrice": "14.00",
                                    "AverageDiscount": "0.055000",
                                    "TotalQuantitySold": "697"
                                },
                                {
                                    "ProductName": "Product OFBNT",
                                    "UnitPrice": "45.60",
                                    "AverageDiscount": "0.037878",
                                    "TotalQuantitySold": "640"
                                },
                                {
                                    "ProductName": "Product QDOMO",
                                    "UnitPrice": "263.50",
                                    "AverageDiscount": "0.045833",
                                    "TotalQuantitySold": "623"
                                },
                                {
                                    "ProductName": "Product LYERX",
                                    "UnitPrice": "25.89",
                                    "AverageDiscount": "0.081250",
                                    "TotalQuantitySold": "612"
                                },
                                {
                                    "ProductName": "Product XYZPE",
                                    "UnitPrice": "28.50",
                                    "AverageDiscount": "0.070833",
                                    "TotalQuantitySold": "603"
                                },
                                {
                                    "ProductName": "Product VJIEO",
                                    "UnitPrice": "19.45",
                                    "AverageDiscount": "0.060416",
                                    "TotalQuantitySold": "601"
                                },
                                {
                                    "ProductName": "Product ZZZHumanResources",
                                    "UnitPrice": "46.00",
                                    "AverageDiscount": "0.050000",
                                    "TotalQuantitySold": "580"
                                },
                                {
                                    "ProductName": "Product JLUDZ",
                                    "UnitPrice": "9.00",
                                    "AverageDiscount": "0.037500",
                                    "TotalQuantitySold": "580"
                                },
                                {
                                    "ProductName": "Product CBRRL",
                                    "UnitPrice": "12.00",
                                    "AverageDiscount": "0.063703",
                                    "TotalQuantitySold": "548"
                                },
                                {
                                    "ProductName": "Product CKEDC",
                                    "UnitPrice": "62.50",
                                    "AverageDiscount": "0.079629",
                                    "TotalQuantitySold": "539"
                                },
                                {
                                    "ProductName": "Product ACRVI",
                                    "UnitPrice": "13.25",
                                    "AverageDiscount": "0.100000",
                                    "TotalQuantitySold": "534"
                                },
                                {
                                    "ProductName": "Product FPYPN",
                                    "UnitPrice": "20.00",
                                    "AverageDiscount": "0.030952",
                                    "TotalQuantitySold": "520"
                                },
                                {
                                    "ProductName": "Product AQOKR",
                                    "UnitPrice": "9.50",
                                    "AverageDiscount": "0.075000",
                                    "TotalQuantitySold": "508"
                                },
                                {
                                    "ProductName": "Product SWNJY",
                                    "UnitPrice": "14.00",
                                    "AverageDiscount": "0.050000",
                                    "TotalQuantitySold": "506"
                                },
                                {
                                    "ProductName": "Product QSRXF",
                                    "UnitPrice": "7.00",
                                    "AverageDiscount": "0.041379",
                                    "TotalQuantitySold": "500"
                                },
                                {
                                    "ProductName": "Product EZZPR",
                                    "UnitPrice": "9.50",
                                    "AverageDiscount": "0.073809",
                                    "TotalQuantitySold": "485"
                                },
                                {
                                    "ProductName": "Product KSBRM",
                                    "UnitPrice": "22.00",
                                    "AverageDiscount": "0.075000",
                                    "TotalQuantitySold": "453"
                                },
                                {
                                    "ProductName": "Product ICKNK",
                                    "UnitPrice": "43.90",
                                    "AverageDiscount": "0.041176",
                                    "TotalQuantitySold": "445"
                                },
                                {
                                    "ProductName": "Product OVLQI",
                                    "UnitPrice": "19.50",
                                    "AverageDiscount": "0.028260",
                                    "TotalQuantitySold": "434"
                                },
                                {
                                    "ProductName": "Product PWCJB",
                                    "UnitPrice": "23.25",
                                    "AverageDiscount": "0.067272",
                                    "TotalQuantitySold": "404"
                                },
                                {
                                    "ProductName": "Product WVJFP",
                                    "UnitPrice": "40.00",
                                    "AverageDiscount": "0.065384",
                                    "TotalQuantitySold": "372"
                                },
                                {
                                    "ProductName": "Product SMIOH",
                                    "UnitPrice": "43.90",
                                    "AverageDiscount": "0.027777",
                                    "TotalQuantitySold": "365"
                                },
                                {
                                    "ProductName": "Product CPHFY",
                                    "UnitPrice": "21.00",
                                    "AverageDiscount": "0.021428",
                                    "TotalQuantitySold": "348"
                                },
                                {
                                    "ProductName": "Product OSFNS",
                                    "UnitPrice": "38.00",
                                    "AverageDiscount": "0.064285",
                                    "TotalQuantitySold": "344"
                                },
                                {
                                    "ProductName": "Product IMEHJ",
                                    "UnitPrice": "10.00",
                                    "AverageDiscount": "0.016666",
                                    "TotalQuantitySold": "328"
                                },
                                {
                                    "ProductName": "Product LYLNI",
                                    "UnitPrice": "14.00",
                                    "AverageDiscount": "0.086111",
                                    "TotalQuantitySold": "318"
                                },
                                {
                                    "ProductName": "Product QHFFP",
                                    "UnitPrice": "81.00",
                                    "AverageDiscount": "0.046250",
                                    "TotalQuantitySold": "313"
                                },
                                {
                                    "ProductName": "Product VAIIV",
                                    "UnitPrice": "25.00",
                                    "AverageDiscount": "0.030833",
                                    "TotalQuantitySold": "301"
                                },
                                {
                                    "ProductName": "Product EPEIM",
                                    "UnitPrice": "21.35",
                                    "AverageDiscount": "0.075000",
                                    "TotalQuantitySold": "298"
                                },
                                {
                                    "ProductName": "Product NUNAW",
                                    "UnitPrice": "32.00",
                                    "AverageDiscount": "0.073333",
                                    "TotalQuantitySold": "297"
                                },
                                {
                                    "ProductName": "Product BKAZJ",
                                    "UnitPrice": "10.00",
                                    "AverageDiscount": "0.050000",
                                    "TotalQuantitySold": "297"
                                },
                                {
                                    "ProductName": "Product WEUJZ",
                                    "UnitPrice": "15.00",
                                    "AverageDiscount": "0.047142",
                                    "TotalQuantitySold": "293"
                                },
                                {
                                    "ProductName": "Product LQMGN",
                                    "UnitPrice": "17.00",
                                    "AverageDiscount": "0.031250",
                                    "TotalQuantitySold": "239"
                                },
                                {
                                    "ProductName": "Product BIUDV",
                                    "UnitPrice": "16.25",
                                    "AverageDiscount": "0.025000",
                                    "TotalQuantitySold": "235"
                                },
                                {
                                    "ProductName": "Product XLXQF",
                                    "UnitPrice": "14.00",
                                    "AverageDiscount": "0.060000",
                                    "TotalQuantitySold": "184"
                                },
                                {
                                    "ProductName": "Product MYNXN",
                                    "UnitPrice": "12.75",
                                    "AverageDiscount": "0.108333",
                                    "TotalQuantitySold": "138"
                                },
                                {
                                    "ProductName": "Product EVFFA",
                                    "UnitPrice": "26.00",
                                    "AverageDiscount": "0.050000",
                                    "TotalQuantitySold": "125"
                                },
                                {
                                    "ProductName": "Product KSZOI",
                                    "UnitPrice": "15.50",
                                    "AverageDiscount": "0.016666",
                                    "TotalQuantitySold": "122"
                                },
                                {
                                    "ProductName": "Product AOZBW",
                                    "UnitPrice": "97.00",
                                    "AverageDiscount": "0.100000",
                                    "TotalQuantitySold": "95"
                                }
                            ]
                        },
                        "text/html": [
                            "<table>",
                            "<tr><th>ProductName</th><th>UnitPrice</th><th>AverageDiscount</th><th>TotalQuantitySold</th></tr>",
                            "<tr><td>Product WHBYK</td><td>34.00</td><td>0.063921</td><td>1577</td></tr>",
                            "<tr><td>Product UKXRI</td><td>55.00</td><td>0.047222</td><td>1496</td></tr>",
                            "<tr><td>Product XWOXC</td><td>12.50</td><td>0.062745</td><td>1397</td></tr>",
                            "<tr><td>Product VKCMF</td><td>38.00</td><td>0.062000</td><td>1263</td></tr>",
                            "<tr><td>Product PAFRH</td><td>17.45</td><td>0.066976</td><td>1158</td></tr>",
                            "<tr><td>Product BWRLG</td><td>7.75</td><td>0.052173</td><td>1155</td></tr>",
                            "<tr><td>Product QOGNU</td><td>4.50</td><td>0.056862</td><td>1125</td></tr>",
                            "<tr><td>Product YZIXQ</td><td>18.40</td><td>0.051219</td><td>1103</td></tr>",
                            "<tr><td>Product WUXYK</td><td>49.30</td><td>0.054166</td><td>1083</td></tr>",
                            "<tr><td>Product RECZE</td><td>19.00</td><td>0.102272</td><td>1057</td></tr>",
                            "<tr><td>Product MYMOI</td><td>21.50</td><td>0.042857</td><td>1057</td></tr>",
                            "<tr><td>Product VJZZH</td><td>10.00</td><td>0.056410</td><td>1016</td></tr>",
                            "<tr><td>Product JYGFE</td><td>18.00</td><td>0.052564</td><td>981</td></tr>",
                            "<tr><td>Product TTEEX</td><td>9.65</td><td>0.040425</td><td>981</td></tr>",
                            "<tr><td>Product BLCAX</td><td>39.00</td><td>0.062162</td><td>978</td></tr>",
                            "<tr><td>Product YYWRT</td><td>24.00</td><td>0.077272</td><td>903</td></tr>",
                            "<tr><td>Product POXFU</td><td>6.00</td><td>0.042500</td><td>891</td></tr>",
                            "<tr><td>Product APITJ</td><td>53.00</td><td>0.051282</td><td>886</td></tr>",
                            "<tr><td>Product NEVTJ</td><td>18.00</td><td>0.047222</td><td>883</td></tr>",
                            "<tr><td>Product HHYDP</td><td>18.00</td><td>0.077631</td><td>828</td></tr>",
                            "<tr><td>Product TOONT</td><td>15.00</td><td>0.062820</td><td>817</td></tr>",
                            "<tr><td>Product GEEOO</td><td>34.80</td><td>0.023684</td><td>806</td></tr>",
                            "<tr><td>Product GMKIJ</td><td>19.00</td><td>0.079032</td><td>805</td></tr>",
                            "<tr><td>Product TBTBL</td><td>12.50</td><td>0.058823</td><td>799</td></tr>",
                            "<tr><td>Product LSOFL</td><td>18.00</td><td>0.066666</td><td>793</td></tr>",
                            "<tr><td>Product LUNZZ</td><td>13.00</td><td>0.051315</td><td>791</td></tr>",
                            "<tr><td>Product HMLNI</td><td>30.00</td><td>0.027586</td><td>763</td></tr>",
                            "<tr><td>Product QAQRL</td><td>7.45</td><td>0.072222</td><td>755</td></tr>",
                            "<tr><td>Product ASTMN</td><td>2.50</td><td>0.043750</td><td>755</td></tr>",
                            "<tr><td>Product HLGZA</td><td>31.23</td><td>0.051562</td><td>753</td></tr>",
                            "<tr><td>Product VJXYN</td><td>123.79</td><td>0.064062</td><td>746</td></tr>",
                            "<tr><td>Product XYWBZ</td><td>21.05</td><td>0.048437</td><td>745</td></tr>",
                            "<tr><td>Product YHXGE</td><td>31.00</td><td>0.043939</td><td>742</td></tr>",
                            "<tr><td>Product HCQDE</td><td>33.25</td><td>0.041000</td><td>740</td></tr>",
                            "<tr><td>Product XKXDO</td><td>9.20</td><td>0.055405</td><td>723</td></tr>",
                            "<tr><td>Product BKGEA</td><td>32.80</td><td>0.038333</td><td>722</td></tr>",
                            "<tr><td>Product COAXA</td><td>36.00</td><td>0.074193</td><td>714</td></tr>",
                            "<tr><td>Product QMVUN</td><td>21.00</td><td>0.056578</td><td>706</td></tr>",
                            "<tr><td>Product RJVNM</td><td>14.00</td><td>0.055000</td><td>697</td></tr>",
                            "<tr><td>Product OFBNT</td><td>45.60</td><td>0.037878</td><td>640</td></tr>",
                            "<tr><td>Product QDOMO</td><td>263.50</td><td>0.045833</td><td>623</td></tr>",
                            "<tr><td>Product LYERX</td><td>25.89</td><td>0.081250</td><td>612</td></tr>",
                            "<tr><td>Product XYZPE</td><td>28.50</td><td>0.070833</td><td>603</td></tr>",
                            "<tr><td>Product VJIEO</td><td>19.45</td><td>0.060416</td><td>601</td></tr>",
                            "<tr><td>Product ZZZHumanResources</td><td>46.00</td><td>0.050000</td><td>580</td></tr>",
                            "<tr><td>Product JLUDZ</td><td>9.00</td><td>0.037500</td><td>580</td></tr>",
                            "<tr><td>Product CBRRL</td><td>12.00</td><td>0.063703</td><td>548</td></tr>",
                            "<tr><td>Product CKEDC</td><td>62.50</td><td>0.079629</td><td>539</td></tr>",
                            "<tr><td>Product ACRVI</td><td>13.25</td><td>0.100000</td><td>534</td></tr>",
                            "<tr><td>Product FPYPN</td><td>20.00</td><td>0.030952</td><td>520</td></tr>",
                            "<tr><td>Product AQOKR</td><td>9.50</td><td>0.075000</td><td>508</td></tr>",
                            "<tr><td>Product SWNJY</td><td>14.00</td><td>0.050000</td><td>506</td></tr>",
                            "<tr><td>Product QSRXF</td><td>7.00</td><td>0.041379</td><td>500</td></tr>",
                            "<tr><td>Product EZZPR</td><td>9.50</td><td>0.073809</td><td>485</td></tr>",
                            "<tr><td>Product KSBRM</td><td>22.00</td><td>0.075000</td><td>453</td></tr>",
                            "<tr><td>Product ICKNK</td><td>43.90</td><td>0.041176</td><td>445</td></tr>",
                            "<tr><td>Product OVLQI</td><td>19.50</td><td>0.028260</td><td>434</td></tr>",
                            "<tr><td>Product PWCJB</td><td>23.25</td><td>0.067272</td><td>404</td></tr>",
                            "<tr><td>Product WVJFP</td><td>40.00</td><td>0.065384</td><td>372</td></tr>",
                            "<tr><td>Product SMIOH</td><td>43.90</td><td>0.027777</td><td>365</td></tr>",
                            "<tr><td>Product CPHFY</td><td>21.00</td><td>0.021428</td><td>348</td></tr>",
                            "<tr><td>Product OSFNS</td><td>38.00</td><td>0.064285</td><td>344</td></tr>",
                            "<tr><td>Product IMEHJ</td><td>10.00</td><td>0.016666</td><td>328</td></tr>",
                            "<tr><td>Product LYLNI</td><td>14.00</td><td>0.086111</td><td>318</td></tr>",
                            "<tr><td>Product QHFFP</td><td>81.00</td><td>0.046250</td><td>313</td></tr>",
                            "<tr><td>Product VAIIV</td><td>25.00</td><td>0.030833</td><td>301</td></tr>",
                            "<tr><td>Product EPEIM</td><td>21.35</td><td>0.075000</td><td>298</td></tr>",
                            "<tr><td>Product NUNAW</td><td>32.00</td><td>0.073333</td><td>297</td></tr>",
                            "<tr><td>Product BKAZJ</td><td>10.00</td><td>0.050000</td><td>297</td></tr>",
                            "<tr><td>Product WEUJZ</td><td>15.00</td><td>0.047142</td><td>293</td></tr>",
                            "<tr><td>Product LQMGN</td><td>17.00</td><td>0.031250</td><td>239</td></tr>",
                            "<tr><td>Product BIUDV</td><td>16.25</td><td>0.025000</td><td>235</td></tr>",
                            "<tr><td>Product XLXQF</td><td>14.00</td><td>0.060000</td><td>184</td></tr>",
                            "<tr><td>Product MYNXN</td><td>12.75</td><td>0.108333</td><td>138</td></tr>",
                            "<tr><td>Product EVFFA</td><td>26.00</td><td>0.050000</td><td>125</td></tr>",
                            "<tr><td>Product KSZOI</td><td>15.50</td><td>0.016666</td><td>122</td></tr>",
                            "<tr><td>Product AOZBW</td><td>97.00</td><td>0.100000</td><td>95</td></tr>",
                            "</table>"
                        ]
                    }
                }
            ],
            "execution_count": 44
        },
        {
            "cell_type": "markdown",
            "source": [
                "## Medium Query: 12\r\n",
                "\r\n",
                "### Proposition:\r\n",
                "Create a query to identify the impact of discount strategies on sales volume in the Northwinds2022TSQLV7 database. This analysis is intended to reveal how different levels of discounts affect the quantity of products sold, aiding in the optimization of pricing and discount policies.\r\n",
                "\r\n",
                "### Requirements:\r\n",
                "\r\n",
                "#### Discount Impact Analysis:\r\n",
                "- Examine the relationship between discount rates and the quantity of products sold for each order.\r\n",
                "- Group data to compare average quantities sold across different discount brackets (e.g., 0%, 1-5%, 6-10%, etc.).\r\n",
                "\r\n",
                "#### Sales Volume Metrics:\r\n",
                "- Calculate the average quantity sold for each discount bracket to identify trends in customer purchasing behavior.\r\n",
                "- Assess the overall effectiveness of discounting strategies on sales volume.\r\n",
                "\r\n",
                "#### Order and Discount Details:\r\n",
                "- Source data from the `Sales.OrderDetail` table, which contains detailed order information, including discount rates and quantities.\r\n",
                "\r\n",
                "### Tables:\r\n",
                "- `[Sales].[OrderDetail]`\r\n",
                "\r\n",
                "### Columns:\r\n",
                "- From `[Sales].[OrderDetail]`: OrderId, ProductId, UnitPrice, Quantity, DiscountPercentage\r\n",
                "\r\n",
                "### Calculation and Grouping:\r\n",
                "- Dynamically categorize each order into discount brackets based on the `DiscountPercentage`.\r\n",
                "- Aggregate the data to compute the average quantity sold within each discount bracket.\r\n",
                "\r\n",
                "### Sorting:\r\n",
                "- Sort the results by discount brackets in ascending order to facilitate a straightforward analysis of discount impact.\r\n",
                ""
            ],
            "metadata": {
                "azdata_cell_guid": "d292e98f-bf7b-4b0e-a759-89ac34d163dc"
            },
            "attachments": {}
        },
        {
            "cell_type": "code",
            "source": [
                "SELECT \r\n",
                "    CASE \r\n",
                "        WHEN DiscountPercentage = 0 THEN '0%'\r\n",
                "        WHEN DiscountPercentage > 0 AND DiscountPercentage <= 5 THEN '1-5%'\r\n",
                "        WHEN DiscountPercentage > 5 AND DiscountPercentage <= 10 THEN '6-10%'\r\n",
                "        WHEN DiscountPercentage > 10 AND DiscountPercentage <= 15 THEN '11-15%'\r\n",
                "        WHEN DiscountPercentage > 15 AND DiscountPercentage <= 20 THEN '16-20%'\r\n",
                "        WHEN DiscountPercentage > 20 AND DiscountPercentage <= 25 THEN '21-25%'\r\n",
                "        ELSE 'Above 25%'\r\n",
                "    END AS DiscountBracket,\r\n",
                "    AVG(Quantity) AS AverageQuantitySold\r\n",
                "FROM \r\n",
                "    [Sales].[OrderDetail]\r\n",
                "GROUP BY \r\n",
                "    CASE \r\n",
                "        WHEN DiscountPercentage = 0 THEN '0%'\r\n",
                "        WHEN DiscountPercentage > 0 AND DiscountPercentage <= 5 THEN '1-5%'\r\n",
                "        WHEN DiscountPercentage > 5 AND DiscountPercentage <= 10 THEN '6-10%'\r\n",
                "        WHEN DiscountPercentage > 10 AND DiscountPercentage <= 15 THEN '11-15%'\r\n",
                "        WHEN DiscountPercentage > 15 AND DiscountPercentage <= 20 THEN '16-20%'\r\n",
                "        WHEN DiscountPercentage > 20 AND DiscountPercentage <= 25 THEN '21-25%'\r\n",
                "        ELSE 'Above 25%'\r\n",
                "    END\r\n",
                "ORDER BY \r\n",
                "    MIN(DiscountPercentage);\r\n",
                ""
            ],
            "metadata": {
                "azdata_cell_guid": "88cdddb9-201c-442b-b4a1-df2e8ebe24b8",
                "language": "sql",
                "tags": []
            },
            "outputs": [
                {
                    "output_type": "display_data",
                    "data": {
                        "text/html": "(2 rows affected)"
                    },
                    "metadata": {}
                },
                {
                    "output_type": "display_data",
                    "data": {
                        "text/html": "Total execution time: 00:00:00.007"
                    },
                    "metadata": {}
                },
                {
                    "output_type": "execute_result",
                    "metadata": {},
                    "execution_count": 43,
                    "data": {
                        "application/vnd.dataresource+json": {
                            "schema": {
                                "fields": [
                                    {
                                        "name": "DiscountBracket"
                                    },
                                    {
                                        "name": "AverageQuantitySold"
                                    }
                                ]
                            },
                            "data": [
                                {
                                    "DiscountBracket": "0%",
                                    "AverageQuantitySold": "21"
                                },
                                {
                                    "DiscountBracket": "1-5%",
                                    "AverageQuantitySold": "27"
                                }
                            ]
                        },
                        "text/html": [
                            "<table>",
                            "<tr><th>DiscountBracket</th><th>AverageQuantitySold</th></tr>",
                            "<tr><td>0%</td><td>21</td></tr>",
                            "<tr><td>1-5%</td><td>27</td></tr>",
                            "</table>"
                        ]
                    }
                }
            ],
            "execution_count": 43
        },
        {
            "cell_type": "markdown",
            "source": [
                "## Medium Query: 13\r\n",
                "\r\n",
                "### Proposition:\r\n",
                "Design a query to evaluate the seasonal impact on sales within the Northwinds2022TSQLV7 database. This study aims to uncover how different seasons affect the sales volume and revenue, enabling targeted marketing campaigns and inventory adjustments based on seasonal trends.\r\n",
                "\r\n",
                "### Requirements:\r\n",
                "\r\n",
                "#### Seasonal Sales Analysis:\r\n",
                "- Identify patterns in sales volume and revenue across different seasons of the year.\r\n",
                "- Categorize sales data into seasonal brackets (e.g., Spring, Summer, Fall, Winter) based on order dates.\r\n",
                "\r\n",
                "#### Sales Trends by Season:\r\n",
                "- Calculate the total sales revenue and the average order size for each season to assess the seasonal impact on sales.\r\n",
                "- Highlight the season with the highest sales to guide marketing and inventory strategies.\r\n",
                "\r\n",
                "#### Date and Sales Details:\r\n",
                "- Utilize the `Sales.Order` table for order dates and associate these with the `Sales.OrderDetail` for sales data.\r\n",
                "\r\n",
                "### Tables:\r\n",
                "- `[Sales].[Order]`\r\n",
                "- `[Sales].[OrderDetail]`\r\n",
                "\r\n",
                "### Columns:\r\n",
                "- From `[Sales].[Order]`: OrderId, OrderDate\r\n",
                "- From `[Sales].[OrderDetail]`: OrderId, UnitPrice, Quantity\r\n",
                "\r\n",
                "### Grouping and Calculation:\r\n",
                "- Dynamically assign each order to a season based on its order date.\r\n",
                "- Group the results by season to compute total revenue and average order size.\r\n",
                "\r\n",
                "### Sorting:\r\n",
                "- Organize the results by total sales revenue in descending order to easily identify the most lucrative season.\r\n",
                ""
            ],
            "metadata": {
                "azdata_cell_guid": "8d32ea84-d8d8-463a-9da4-8555787966c0"
            },
            "attachments": {}
        },
        {
            "cell_type": "code",
            "source": [
                "SELECT \r\n",
                "    CASE \r\n",
                "        WHEN MONTH(OrderDate) IN (3, 4, 5) THEN 'Spring'\r\n",
                "        WHEN MONTH(OrderDate) IN (6, 7, 8) THEN 'Summer'\r\n",
                "        WHEN MONTH(OrderDate) IN (9, 10, 11) THEN 'Fall'\r\n",
                "        ELSE 'Winter'\r\n",
                "    END AS Season,\r\n",
                "    COUNT(DISTINCT o.OrderId) AS NumberOfOrders,\r\n",
                "    SUM(od.Quantity * od.UnitPrice) AS TotalSalesRevenue,\r\n",
                "    AVG(od.Quantity * od.UnitPrice) AS AverageOrderValue\r\n",
                "FROM \r\n",
                "    [Sales].[Order] o\r\n",
                "JOIN \r\n",
                "    [Sales].[OrderDetail] od ON o.OrderId = od.OrderId\r\n",
                "GROUP BY \r\n",
                "    CASE \r\n",
                "        WHEN MONTH(OrderDate) IN (3, 4, 5) THEN 'Spring'\r\n",
                "        WHEN MONTH(OrderDate) IN (6, 7, 8) THEN 'Summer'\r\n",
                "        WHEN MONTH(OrderDate) IN (9, 10, 11) THEN 'Fall'\r\n",
                "        ELSE 'Winter'\r\n",
                "    END\r\n",
                "ORDER BY \r\n",
                "    TotalSalesRevenue DESC;\r\n",
                ""
            ],
            "metadata": {
                "azdata_cell_guid": "53569e84-bf2c-406f-b2b2-a5b816e70a60",
                "language": "sql"
            },
            "outputs": [
                {
                    "output_type": "display_data",
                    "data": {
                        "text/html": "(4 rows affected)"
                    },
                    "metadata": {}
                },
                {
                    "output_type": "display_data",
                    "data": {
                        "text/html": "Total execution time: 00:00:00.014"
                    },
                    "metadata": {}
                },
                {
                    "output_type": "execute_result",
                    "metadata": {},
                    "execution_count": 42,
                    "data": {
                        "application/vnd.dataresource+json": {
                            "schema": {
                                "fields": [
                                    {
                                        "name": "Season"
                                    },
                                    {
                                        "name": "NumberOfOrders"
                                    },
                                    {
                                        "name": "TotalSalesRevenue"
                                    },
                                    {
                                        "name": "AverageOrderValue"
                                    }
                                ]
                            },
                            "data": [
                                {
                                    "Season": "Winter",
                                    "NumberOfOrders": "250",
                                    "TotalSalesRevenue": "441746.33",
                                    "AverageOrderValue": "697.8615"
                                },
                                {
                                    "Season": "Spring",
                                    "NumberOfOrders": "254",
                                    "TotalSalesRevenue": "416857.66",
                                    "AverageOrderValue": "621.2483"
                                },
                                {
                                    "Season": "Fall",
                                    "NumberOfOrders": "183",
                                    "TotalSalesRevenue": "294518.48",
                                    "AverageOrderValue": "606.0051"
                                },
                                {
                                    "Season": "Summer",
                                    "NumberOfOrders": "143",
                                    "TotalSalesRevenue": "201336.12",
                                    "AverageOrderValue": "551.6058"
                                }
                            ]
                        },
                        "text/html": [
                            "<table>",
                            "<tr><th>Season</th><th>NumberOfOrders</th><th>TotalSalesRevenue</th><th>AverageOrderValue</th></tr>",
                            "<tr><td>Winter</td><td>250</td><td>441746.33</td><td>697.8615</td></tr>",
                            "<tr><td>Spring</td><td>254</td><td>416857.66</td><td>621.2483</td></tr>",
                            "<tr><td>Fall</td><td>183</td><td>294518.48</td><td>606.0051</td></tr>",
                            "<tr><td>Summer</td><td>143</td><td>201336.12</td><td>551.6058</td></tr>",
                            "</table>"
                        ]
                    }
                }
            ],
            "execution_count": 42
        },
        {
            "cell_type": "markdown",
            "source": [
                "<span style=\"color: rgba(0, 0, 0, 0.87); font-family: system-ui, -apple-system, blinkmacsystemfont, &quot;Segoe UI&quot;, helvetica, arial, sans-serif, &quot;Apple Color Emoji&quot;, &quot;Segoe UI Emoji&quot;, &quot;Segoe UI Symbol&quot;; background-color: rgb(255, 255, 255);\">Written&nbsp;</span> <span style=\"font-family: system-ui, -apple-system, blinkmacsystemfont, &quot;Segoe UI&quot;, helvetica, arial, sans-serif, &quot;Apple Color Emoji&quot;, &quot;Segoe UI Emoji&quot;, &quot;Segoe UI Symbol&quot;; background-color: rgb(255, 255, 255); color: rgb(0, 0, 255);\">in</span> <span style=\"color: rgba(0, 0, 0, 0.87); font-family: system-ui, -apple-system, blinkmacsystemfont, &quot;Segoe UI&quot;, helvetica, arial, sans-serif, &quot;Apple Color Emoji&quot;, &quot;Segoe UI Emoji&quot;, &quot;Segoe UI Symbol&quot;; background-color: rgb(255, 255, 255);\">&nbsp;collaboration&nbsp;</span> <span style=\"font-family: system-ui, -apple-system, blinkmacsystemfont, &quot;Segoe UI&quot;, helvetica, arial, sans-serif, &quot;Apple Color Emoji&quot;, &quot;Segoe UI Emoji&quot;, &quot;Segoe UI Symbol&quot;; background-color: rgb(255, 255, 255); color: rgb(0, 0, 255);\">with</span> <span style=\"color: rgba(0, 0, 0, 0.87); font-family: system-ui, -apple-system, blinkmacsystemfont, &quot;Segoe UI&quot;, helvetica, arial, sans-serif, &quot;Apple Color Emoji&quot;, &quot;Segoe UI Emoji&quot;, &quot;Segoe UI Symbol&quot;; background-color: rgb(255, 255, 255);\">&nbsp;ChatGPT&nbsp;</span> <span style=\"font-family: system-ui, -apple-system, blinkmacsystemfont, &quot;Segoe UI&quot;, helvetica, arial, sans-serif, &quot;Apple Color Emoji&quot;, &quot;Segoe UI Emoji&quot;, &quot;Segoe UI Symbol&quot;; background-color: rgb(255, 255, 255); color: rgb(0, 0, 255);\">from</span> <span style=\"color: rgba(0, 0, 0, 0.87); font-family: system-ui, -apple-system, blinkmacsystemfont, &quot;Segoe UI&quot;, helvetica, arial, sans-serif, &quot;Apple Color Emoji&quot;, &quot;Segoe UI Emoji&quot;, &quot;Segoe UI Symbol&quot;; background-color: rgb(255, 255, 255);\">&nbsp;OpenAI&nbsp;</span> <span style=\"font-family: system-ui, -apple-system, blinkmacsystemfont, &quot;Segoe UI&quot;, helvetica, arial, sans-serif, &quot;Apple Color Emoji&quot;, &quot;Segoe UI Emoji&quot;, &quot;Segoe UI Symbol&quot;; background-color: rgb(255, 255, 255); color: rgb(0, 0, 255);\">to</span> <span style=\"color: rgba(0, 0, 0, 0.87); font-family: system-ui, -apple-system, blinkmacsystemfont, &quot;Segoe UI&quot;, helvetica, arial, sans-serif, &quot;Apple Color Emoji&quot;, &quot;Segoe UI Emoji&quot;, &quot;Segoe UI Symbol&quot;; background-color: rgb(255, 255, 255);\">&nbsp;improve understanding&nbsp;</span> <span style=\"font-family: system-ui, -apple-system, blinkmacsystemfont, &quot;Segoe UI&quot;, helvetica, arial, sans-serif, &quot;Apple Color Emoji&quot;, &quot;Segoe UI Emoji&quot;, &quot;Segoe UI Symbol&quot;; background-color: rgb(255, 255, 255); color: rgb(0, 0, 255);\">and</span> <span style=\"color: rgba(0, 0, 0, 0.87); font-family: system-ui, -apple-system, blinkmacsystemfont, &quot;Segoe UI&quot;, helvetica, arial, sans-serif, &quot;Apple Color Emoji&quot;, &quot;Segoe UI Emoji&quot;, &quot;Segoe UI Symbol&quot;; background-color: rgb(255, 255, 255);\">&nbsp;assist&nbsp;</span> <span style=\"font-family: system-ui, -apple-system, blinkmacsystemfont, &quot;Segoe UI&quot;, helvetica, arial, sans-serif, &quot;Apple Color Emoji&quot;, &quot;Segoe UI Emoji&quot;, &quot;Segoe UI Symbol&quot;; background-color: rgb(255, 255, 255); color: rgb(0, 0, 255);\">with</span> <span style=\"color: rgba(0, 0, 0, 0.87); font-family: system-ui, -apple-system, blinkmacsystemfont, &quot;Segoe UI&quot;, helvetica, arial, sans-serif, &quot;Apple Color Emoji&quot;, &quot;Segoe UI Emoji&quot;, &quot;Segoe UI Symbol&quot;; background-color: rgb(255, 255, 255);\">&nbsp;the explanation of the query.</span>"
            ],
            "metadata": {
                "azdata_cell_guid": "b1806e63-f628-4aac-b32a-c435a195397a"
            },
            "attachments": {}
        }
    ]
}