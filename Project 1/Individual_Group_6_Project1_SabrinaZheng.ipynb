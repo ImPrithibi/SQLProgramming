{
    "metadata": {
        "kernelspec": {
            "name": "SQL",
            "display_name": "SQL",
            "language": "sql"
        },
        "language_info": {
            "name": "sql",
            "version": ""
        }
    },
    "nbformat_minor": 2,
    "nbformat": 4,
    "cells": [
        {
            "cell_type": "markdown",
            "source": [
                "## **Sabrina Zheng | Group 6 | Project 1**\n",
                "\n",
                "_Written in collaboration with ChatGPT from OpenAI to improve understanding, assist with the explanation of the query, and enhance formatting and display of the queries._"
            ],
            "metadata": {
                "azdata_cell_guid": "08cfd87a-6ad1-428d-99ae-98f79f5b6a93"
            },
            "attachments": {}
        },
        {
            "cell_type": "markdown",
            "source": [
                "## **Top 3 Queries:**"
            ],
            "metadata": {
                "azdata_cell_guid": "1a09ed2f-7564-49d0-80a3-cf71d947ac6c"
            },
            "attachments": {}
        },
        {
            "cell_type": "markdown",
            "source": [
                "### **1.**\n",
                "\n",
                "**Proposition:** <span style=\"font-size:14px;\">Write a query to find the Pokemon that has the highest attack in Type1 and Type2 within each generation</span>\n",
                "\n",
                "**Tables:**\n",
                "\n",
                "- PokemonGen1.dbo.PokemonGen1\n",
                "- PokemonGen2.dbo.PokemonGen2\n",
                "- PokemonGen3.dbo.PokemonGen3\n",
                "\n",
                "**Columns:**\n",
                "\n",
                "- ID (or PokemonNoGen1, PokemonNoGen2, PokemonNoGen3)\n",
                "- Name\n",
                "- Attack\n",
                "- Type1 and Type2\n",
                "- Generation\n",
                "\n",
                "**Predicate:**\n",
                "\n",
                "- The UnifiedPokemon CTE is used to create a unified view of the Pokemon from all 3 generations by getting the IDs, names, attack values, types, and assigns a generation tag based on the source table\n",
                "- Then the TypeRankings CTE creates a temporary dataset that consolidates the Pokemon types and then ranks the Pokemon by their attack values within each type and generation using the RANK() function\n",
                "- The query then selects the TypeRankings CTE and filters for when the Pokemon with the highest attack within the type and generation"
            ],
            "metadata": {
                "azdata_cell_guid": "e0e0a50e-274a-432e-ad3d-04fa3620fa10"
            },
            "attachments": {}
        },
        {
            "cell_type": "code",
            "source": [
                "-- Create a unified dataset of Pokemon from all generations\r\n",
                "WITH UnifiedPokemon AS (\r\n",
                "    SELECT PokemonNoGen1 AS ID, Name, Attack, Type1, Type2, 'Gen1' AS Generation FROM PokemonGen1.dbo.PokemonGen1\r\n",
                "    UNION ALL\r\n",
                "    SELECT PokemonNoGen2 AS ID, Name, Attack, Type1, Type2, 'Gen2' FROM PokemonGen2.dbo.PokemonGen2\r\n",
                "    UNION ALL\r\n",
                "    SELECT PokemonNoGen3 AS ID, Name, Attack, Type1, Type2, 'Gen3' FROM PokemonGen3.dbo.PokemonGen3\r\n",
                "),\r\n",
                "\r\n",
                "-- Rank Pokemon within each type and generation based on their attack stat\r\n",
                "TypeRankings AS (\r\n",
                "    SELECT\r\n",
                "        Name,\r\n",
                "        Attack,\r\n",
                "        Type,\r\n",
                "        Generation,\r\n",
                "        RANK() OVER(PARTITION BY Type, Generation ORDER BY Attack DESC) AS RankInType\r\n",
                "    FROM (\r\n",
                "        SELECT Name, Attack, Type1 AS Type, Generation FROM UnifiedPokemon\r\n",
                "        UNION ALL\r\n",
                "        SELECT Name, Attack, Type2, Generation FROM UnifiedPokemon WHERE Type2 IS NOT NULL\r\n",
                "    ) AS AllTypes\r\n",
                ")\r\n",
                "\r\n",
                "-- Select Pokemon with the highest attack stat within each type and generation\r\n",
                "SELECT Type, Generation, Name, Attack\r\n",
                "FROM TypeRankings\r\n",
                "WHERE RankInType = 1\r\n",
                "ORDER BY Type, Generation;\r\n",
                ""
            ],
            "metadata": {
                "azdata_cell_guid": "3056e905-fafc-471e-aaa8-d7743a98e6cd",
                "language": "sql"
            },
            "outputs": [
                {
                    "output_type": "display_data",
                    "data": {
                        "text/html": "(62 rows affected)"
                    },
                    "metadata": {}
                },
                {
                    "output_type": "display_data",
                    "data": {
                        "text/html": "Total execution time: 00:00:00.008"
                    },
                    "metadata": {}
                },
                {
                    "output_type": "execute_result",
                    "metadata": {},
                    "execution_count": 12,
                    "data": {
                        "application/vnd.dataresource+json": {
                            "schema": {
                                "fields": [
                                    {
                                        "name": "Type"
                                    },
                                    {
                                        "name": "Generation"
                                    },
                                    {
                                        "name": "Name"
                                    },
                                    {
                                        "name": "Attack"
                                    }
                                ]
                            },
                            "data": [
                                {
                                    "Type": "Bug",
                                    "Generation": "Gen1",
                                    "Name": "Pinsir",
                                    "Attack": "125"
                                },
                                {
                                    "Type": "Bug",
                                    "Generation": "Gen2",
                                    "Name": "Scizor",
                                    "Attack": "130"
                                },
                                {
                                    "Type": "Bug",
                                    "Generation": "Gen3",
                                    "Name": "Armaldo",
                                    "Attack": "125"
                                },
                                {
                                    "Type": "Dark",
                                    "Generation": "Gen2",
                                    "Name": "Tyranitar",
                                    "Attack": "134"
                                },
                                {
                                    "Type": "Dark",
                                    "Generation": "Gen3",
                                    "Name": "Absol",
                                    "Attack": "130"
                                },
                                {
                                    "Type": "Dragon",
                                    "Generation": "Gen1",
                                    "Name": "Dragonite",
                                    "Attack": "134"
                                },
                                {
                                    "Type": "Dragon",
                                    "Generation": "Gen2",
                                    "Name": "Kingdra",
                                    "Attack": "95"
                                },
                                {
                                    "Type": "Dragon",
                                    "Generation": "Gen3",
                                    "Name": "Rayquaza",
                                    "Attack": "150"
                                },
                                {
                                    "Type": "Electric",
                                    "Generation": "Gen1",
                                    "Name": "Zapdos",
                                    "Attack": "90"
                                },
                                {
                                    "Type": "Electric",
                                    "Generation": "Gen1",
                                    "Name": "Raichu",
                                    "Attack": "90"
                                },
                                {
                                    "Type": "Electric",
                                    "Generation": "Gen2",
                                    "Name": "Raikou",
                                    "Attack": "85"
                                },
                                {
                                    "Type": "Electric",
                                    "Generation": "Gen3",
                                    "Name": "Manectric",
                                    "Attack": "75"
                                },
                                {
                                    "Type": "Fairy",
                                    "Generation": "Gen1",
                                    "Name": "Wigglytuff",
                                    "Attack": "70"
                                },
                                {
                                    "Type": "Fairy",
                                    "Generation": "Gen1",
                                    "Name": "Clefable",
                                    "Attack": "70"
                                },
                                {
                                    "Type": "Fairy",
                                    "Generation": "Gen2",
                                    "Name": "Granbull",
                                    "Attack": "120"
                                },
                                {
                                    "Type": "Fairy",
                                    "Generation": "Gen3",
                                    "Name": "Mawile",
                                    "Attack": "85"
                                },
                                {
                                    "Type": "Fight",
                                    "Generation": "Gen1",
                                    "Name": "Hitmonlee",
                                    "Attack": "120"
                                },
                                {
                                    "Type": "Fighting",
                                    "Generation": "Gen1",
                                    "Name": "Machamp",
                                    "Attack": "130"
                                },
                                {
                                    "Type": "Fighting",
                                    "Generation": "Gen2",
                                    "Name": "Heracross",
                                    "Attack": "125"
                                },
                                {
                                    "Type": "Fighting",
                                    "Generation": "Gen3",
                                    "Name": "Breloom",
                                    "Attack": "130"
                                },
                                {
                                    "Type": "Fire",
                                    "Generation": "Gen1",
                                    "Name": "Flareon",
                                    "Attack": "130"
                                },
                                {
                                    "Type": "Fire",
                                    "Generation": "Gen2",
                                    "Name": "Ho-Oh",
                                    "Attack": "130"
                                },
                                {
                                    "Type": "Fire",
                                    "Generation": "Gen3",
                                    "Name": "Blaziken",
                                    "Attack": "120"
                                },
                                {
                                    "Type": "Flying",
                                    "Generation": "Gen1",
                                    "Name": "Dragonite",
                                    "Attack": "134"
                                },
                                {
                                    "Type": "Flying",
                                    "Generation": "Gen2",
                                    "Name": "Ho-Oh",
                                    "Attack": "130"
                                },
                                {
                                    "Type": "Flying",
                                    "Generation": "Gen3",
                                    "Name": "Rayquaza",
                                    "Attack": "150"
                                },
                                {
                                    "Type": "Ghost",
                                    "Generation": "Gen1",
                                    "Name": "Gengar",
                                    "Attack": "65"
                                },
                                {
                                    "Type": "Ghost",
                                    "Generation": "Gen2",
                                    "Name": "Misdreavus",
                                    "Attack": "60"
                                },
                                {
                                    "Type": "Ghost",
                                    "Generation": "Gen3",
                                    "Name": "Banette",
                                    "Attack": "115"
                                },
                                {
                                    "Type": "Grass",
                                    "Generation": "Gen1",
                                    "Name": "Victreebel",
                                    "Attack": "105"
                                },
                                {
                                    "Type": "Grass",
                                    "Generation": "Gen2",
                                    "Name": "Celebi",
                                    "Attack": "100"
                                },
                                {
                                    "Type": "Grass",
                                    "Generation": "Gen3",
                                    "Name": "Breloom",
                                    "Attack": "130"
                                },
                                {
                                    "Type": "Ground",
                                    "Generation": "Gen1",
                                    "Name": "\tRhydon",
                                    "Attack": "130"
                                },
                                {
                                    "Type": "Ground",
                                    "Generation": "Gen2",
                                    "Name": "Donphan",
                                    "Attack": "120"
                                },
                                {
                                    "Type": "Ground",
                                    "Generation": "Gen3",
                                    "Name": "Groudon",
                                    "Attack": "150"
                                },
                                {
                                    "Type": "Ice",
                                    "Generation": "Gen1",
                                    "Name": "Cloyster",
                                    "Attack": "95"
                                },
                                {
                                    "Type": "Ice",
                                    "Generation": "Gen2",
                                    "Name": "Piloswine",
                                    "Attack": "100"
                                },
                                {
                                    "Type": "Ice",
                                    "Generation": "Gen3",
                                    "Name": "Glalie",
                                    "Attack": "80"
                                },
                                {
                                    "Type": "Ice",
                                    "Generation": "Gen3",
                                    "Name": "Walrein",
                                    "Attack": "80"
                                },
                                {
                                    "Type": "Normal",
                                    "Generation": "Gen1",
                                    "Name": "Snorlax",
                                    "Attack": "110"
                                },
                                {
                                    "Type": "Normal",
                                    "Generation": "Gen1",
                                    "Name": "Dodrio",
                                    "Attack": "110"
                                },
                                {
                                    "Type": "Normal",
                                    "Generation": "Gen2",
                                    "Name": "Ursaring",
                                    "Attack": "130"
                                },
                                {
                                    "Type": "Normal",
                                    "Generation": "Gen3",
                                    "Name": "Slaking",
                                    "Attack": "160"
                                },
                                {
                                    "Type": "Poison",
                                    "Generation": "Gen1",
                                    "Name": "Victreebel",
                                    "Attack": "105"
                                },
                                {
                                    "Type": "Poison",
                                    "Generation": "Gen1",
                                    "Name": "Muk",
                                    "Attack": "105"
                                },
                                {
                                    "Type": "Poison",
                                    "Generation": "Gen2",
                                    "Name": "Qwilfish",
                                    "Attack": "95"
                                },
                                {
                                    "Type": "Poison",
                                    "Generation": "Gen3",
                                    "Name": "Seviper",
                                    "Attack": "100"
                                },
                                {
                                    "Type": "Poison Point",
                                    "Generation": "Gen1",
                                    "Name": "Nidoking",
                                    "Attack": "102"
                                },
                                {
                                    "Type": "Psychic",
                                    "Generation": "Gen1",
                                    "Name": "Mewtwo",
                                    "Attack": "110"
                                },
                                {
                                    "Type": "Psychic",
                                    "Generation": "Gen2",
                                    "Name": "Celebi",
                                    "Attack": "100"
                                },
                                {
                                    "Type": "Psychic",
                                    "Generation": "Gen3",
                                    "Name": "Deoxys",
                                    "Attack": "150"
                                },
                                {
                                    "Type": "Rock",
                                    "Generation": "Gen1",
                                    "Name": "\tRhydon",
                                    "Attack": "130"
                                },
                                {
                                    "Type": "Rock",
                                    "Generation": "Gen2",
                                    "Name": "Tyranitar",
                                    "Attack": "134"
                                },
                                {
                                    "Type": "Rock",
                                    "Generation": "Gen3",
                                    "Name": "Armaldo",
                                    "Attack": "125"
                                },
                                {
                                    "Type": "Steel",
                                    "Generation": "Gen1",
                                    "Name": "Magneton",
                                    "Attack": "60"
                                },
                                {
                                    "Type": "Steel",
                                    "Generation": "Gen2",
                                    "Name": "Scizor",
                                    "Attack": "130"
                                },
                                {
                                    "Type": "Steel",
                                    "Generation": "Gen3",
                                    "Name": "Metagross",
                                    "Attack": "135"
                                },
                                {
                                    "Type": "Water",
                                    "Generation": "Gen1",
                                    "Name": "Kingler",
                                    "Attack": "130"
                                },
                                {
                                    "Type": "Water",
                                    "Generation": "Gen2",
                                    "Name": "Feraligatr",
                                    "Attack": "105"
                                },
                                {
                                    "Type": "Water",
                                    "Generation": "Gen2",
                                    "Name": "Octillery",
                                    "Attack": "105"
                                },
                                {
                                    "Type": "Water",
                                    "Generation": "Gen3",
                                    "Name": "Crawdaunt",
                                    "Attack": "120"
                                },
                                {
                                    "Type": "Water",
                                    "Generation": "Gen3",
                                    "Name": "Sharpedo",
                                    "Attack": "120"
                                }
                            ]
                        },
                        "text/html": [
                            "<table>",
                            "<tr><th>Type</th><th>Generation</th><th>Name</th><th>Attack</th></tr>",
                            "<tr><td>Bug</td><td>Gen1</td><td>Pinsir</td><td>125</td></tr>",
                            "<tr><td>Bug</td><td>Gen2</td><td>Scizor</td><td>130</td></tr>",
                            "<tr><td>Bug</td><td>Gen3</td><td>Armaldo</td><td>125</td></tr>",
                            "<tr><td>Dark</td><td>Gen2</td><td>Tyranitar</td><td>134</td></tr>",
                            "<tr><td>Dark</td><td>Gen3</td><td>Absol</td><td>130</td></tr>",
                            "<tr><td>Dragon</td><td>Gen1</td><td>Dragonite</td><td>134</td></tr>",
                            "<tr><td>Dragon</td><td>Gen2</td><td>Kingdra</td><td>95</td></tr>",
                            "<tr><td>Dragon</td><td>Gen3</td><td>Rayquaza</td><td>150</td></tr>",
                            "<tr><td>Electric</td><td>Gen1</td><td>Zapdos</td><td>90</td></tr>",
                            "<tr><td>Electric</td><td>Gen1</td><td>Raichu</td><td>90</td></tr>",
                            "<tr><td>Electric</td><td>Gen2</td><td>Raikou</td><td>85</td></tr>",
                            "<tr><td>Electric</td><td>Gen3</td><td>Manectric</td><td>75</td></tr>",
                            "<tr><td>Fairy</td><td>Gen1</td><td>Wigglytuff</td><td>70</td></tr>",
                            "<tr><td>Fairy</td><td>Gen1</td><td>Clefable</td><td>70</td></tr>",
                            "<tr><td>Fairy</td><td>Gen2</td><td>Granbull</td><td>120</td></tr>",
                            "<tr><td>Fairy</td><td>Gen3</td><td>Mawile</td><td>85</td></tr>",
                            "<tr><td>Fight</td><td>Gen1</td><td>Hitmonlee</td><td>120</td></tr>",
                            "<tr><td>Fighting</td><td>Gen1</td><td>Machamp</td><td>130</td></tr>",
                            "<tr><td>Fighting</td><td>Gen2</td><td>Heracross</td><td>125</td></tr>",
                            "<tr><td>Fighting</td><td>Gen3</td><td>Breloom</td><td>130</td></tr>",
                            "<tr><td>Fire</td><td>Gen1</td><td>Flareon</td><td>130</td></tr>",
                            "<tr><td>Fire</td><td>Gen2</td><td>Ho-Oh</td><td>130</td></tr>",
                            "<tr><td>Fire</td><td>Gen3</td><td>Blaziken</td><td>120</td></tr>",
                            "<tr><td>Flying</td><td>Gen1</td><td>Dragonite</td><td>134</td></tr>",
                            "<tr><td>Flying</td><td>Gen2</td><td>Ho-Oh</td><td>130</td></tr>",
                            "<tr><td>Flying</td><td>Gen3</td><td>Rayquaza</td><td>150</td></tr>",
                            "<tr><td>Ghost</td><td>Gen1</td><td>Gengar</td><td>65</td></tr>",
                            "<tr><td>Ghost</td><td>Gen2</td><td>Misdreavus</td><td>60</td></tr>",
                            "<tr><td>Ghost</td><td>Gen3</td><td>Banette</td><td>115</td></tr>",
                            "<tr><td>Grass</td><td>Gen1</td><td>Victreebel</td><td>105</td></tr>",
                            "<tr><td>Grass</td><td>Gen2</td><td>Celebi</td><td>100</td></tr>",
                            "<tr><td>Grass</td><td>Gen3</td><td>Breloom</td><td>130</td></tr>",
                            "<tr><td>Ground</td><td>Gen1</td><td>\tRhydon</td><td>130</td></tr>",
                            "<tr><td>Ground</td><td>Gen2</td><td>Donphan</td><td>120</td></tr>",
                            "<tr><td>Ground</td><td>Gen3</td><td>Groudon</td><td>150</td></tr>",
                            "<tr><td>Ice</td><td>Gen1</td><td>Cloyster</td><td>95</td></tr>",
                            "<tr><td>Ice</td><td>Gen2</td><td>Piloswine</td><td>100</td></tr>",
                            "<tr><td>Ice</td><td>Gen3</td><td>Glalie</td><td>80</td></tr>",
                            "<tr><td>Ice</td><td>Gen3</td><td>Walrein</td><td>80</td></tr>",
                            "<tr><td>Normal</td><td>Gen1</td><td>Snorlax</td><td>110</td></tr>",
                            "<tr><td>Normal</td><td>Gen1</td><td>Dodrio</td><td>110</td></tr>",
                            "<tr><td>Normal</td><td>Gen2</td><td>Ursaring</td><td>130</td></tr>",
                            "<tr><td>Normal</td><td>Gen3</td><td>Slaking</td><td>160</td></tr>",
                            "<tr><td>Poison</td><td>Gen1</td><td>Victreebel</td><td>105</td></tr>",
                            "<tr><td>Poison</td><td>Gen1</td><td>Muk</td><td>105</td></tr>",
                            "<tr><td>Poison</td><td>Gen2</td><td>Qwilfish</td><td>95</td></tr>",
                            "<tr><td>Poison</td><td>Gen3</td><td>Seviper</td><td>100</td></tr>",
                            "<tr><td>Poison Point</td><td>Gen1</td><td>Nidoking</td><td>102</td></tr>",
                            "<tr><td>Psychic</td><td>Gen1</td><td>Mewtwo</td><td>110</td></tr>",
                            "<tr><td>Psychic</td><td>Gen2</td><td>Celebi</td><td>100</td></tr>",
                            "<tr><td>Psychic</td><td>Gen3</td><td>Deoxys</td><td>150</td></tr>",
                            "<tr><td>Rock</td><td>Gen1</td><td>\tRhydon</td><td>130</td></tr>",
                            "<tr><td>Rock</td><td>Gen2</td><td>Tyranitar</td><td>134</td></tr>",
                            "<tr><td>Rock</td><td>Gen3</td><td>Armaldo</td><td>125</td></tr>",
                            "<tr><td>Steel</td><td>Gen1</td><td>Magneton</td><td>60</td></tr>",
                            "<tr><td>Steel</td><td>Gen2</td><td>Scizor</td><td>130</td></tr>",
                            "<tr><td>Steel</td><td>Gen3</td><td>Metagross</td><td>135</td></tr>",
                            "<tr><td>Water</td><td>Gen1</td><td>Kingler</td><td>130</td></tr>",
                            "<tr><td>Water</td><td>Gen2</td><td>Feraligatr</td><td>105</td></tr>",
                            "<tr><td>Water</td><td>Gen2</td><td>Octillery</td><td>105</td></tr>",
                            "<tr><td>Water</td><td>Gen3</td><td>Crawdaunt</td><td>120</td></tr>",
                            "<tr><td>Water</td><td>Gen3</td><td>Sharpedo</td><td>120</td></tr>",
                            "</table>"
                        ]
                    }
                }
            ],
            "execution_count": 12
        },
        {
            "cell_type": "markdown",
            "source": [
                "### **2.** \n",
                "\n",
                "### **Proposition:** <span style=\"color: var(--vscode-foreground); font-size: 14px;\">Identify the most frequently occuring Pokemon for both the primary type and secondary type categories accross the three Pokemon generations and ranks the counts based on it and select the type with the highest occurance in each category.</span>\n",
                "\n",
                "**Tables:**\n",
                "\n",
                "- PokemonGen1.dbo.PokemonGen1\n",
                "- PokemonGen2.dbo.PokemonGen2\n",
                "- PokemonGen3.dbo.PokemonGen3\n",
                "\n",
                "**Columns:**\n",
                "\n",
                "- Type1\n",
                "- Type2\n",
                "\n",
                "**Predicate:**\n",
                "\n",
                "- The query first aggregates the counts of each Pokemon for both Type1 and Type2 across all three generations in two separate CTE tables, Type1Counts and Type2Counts. It counts the number of occurances in the tables, excluding the null values. \n",
                "- Then it ranks the types based on the numbner of occurances using the RANK() function with two CTEs, RankType1 and RankType2\n",
                "- The query then selects the most common types from RankedType1 and RankedType2 where the rank is 1 by using a SELECT statement with a UNION ALL\n",
                "- If there are duplicates, or a case where the count is the same, all of them are diplayed"
            ],
            "metadata": {
                "azdata_cell_guid": "87f5e82b-8cd4-4d67-a3b0-50e62a1f4426"
            },
            "attachments": {}
        },
        {
            "cell_type": "code",
            "source": [
                "-- Calculate counts of Pokemon for each Type1 across all generations\r\n",
                "WITH Type1Counts AS (\r\n",
                "    SELECT Type1 AS Type, COUNT(*) AS Count\r\n",
                "    FROM PokemonGen1.dbo.PokemonGen1\r\n",
                "    WHERE Type1 IS NOT NULL\r\n",
                "    GROUP BY Type1\r\n",
                "    UNION ALL\r\n",
                "    SELECT Type1, COUNT(*)\r\n",
                "    FROM PokemonGen2.dbo.PokemonGen2\r\n",
                "    WHERE Type1 IS NOT NULL\r\n",
                "    GROUP BY Type1\r\n",
                "    UNION ALL\r\n",
                "    SELECT Type1, COUNT(*)\r\n",
                "    FROM PokemonGen3.dbo.PokemonGen3\r\n",
                "    WHERE Type1 IS NOT NULL\r\n",
                "    GROUP BY Type1\r\n",
                "),\r\n",
                "-- Calculate counts of Pokemon for each Type2 across all generations\r\n",
                "Type2Counts AS (\r\n",
                "    SELECT Type2 AS Type, COUNT(*) AS Count\r\n",
                "    FROM PokemonGen1.dbo.PokemonGen1\r\n",
                "    WHERE Type2 IS NOT NULL\r\n",
                "    GROUP BY Type2\r\n",
                "    UNION ALL\r\n",
                "    SELECT Type2, COUNT(*)\r\n",
                "    FROM PokemonGen2.dbo.PokemonGen2\r\n",
                "    WHERE Type2 IS NOT NULL\r\n",
                "    GROUP BY Type2\r\n",
                "    UNION ALL\r\n",
                "    SELECT Type2, COUNT(*)\r\n",
                "    FROM PokemonGen3.dbo.PokemonGen3\r\n",
                "    WHERE Type2 IS NOT NULL\r\n",
                "    GROUP BY Type2\r\n",
                "),\r\n",
                "\r\n",
                "-- Rank the Type1 counts\r\n",
                "RankedType1 AS (\r\n",
                "    SELECT Type, Count, RANK() OVER (ORDER BY Count DESC) AS Rank\r\n",
                "    FROM Type1Counts\r\n",
                "),\r\n",
                "\r\n",
                "-- Rank the Type2 counts\r\n",
                "RankedType2 AS (\r\n",
                "    SELECT Type, Count, RANK() OVER (ORDER BY Count DESC) AS Rank\r\n",
                "    FROM Type2Counts\r\n",
                ")\r\n",
                "\r\n",
                "-- Select the type with the highest count for each category (Type1 and Type2)\r\n",
                "SELECT 'Type1' AS Category, Type, Count\r\n",
                "FROM RankedType1\r\n",
                "WHERE Rank = 1\r\n",
                "UNION ALL\r\n",
                "SELECT 'Type2' AS Category, Type, Count\r\n",
                "FROM RankedType2\r\n",
                "WHERE Rank = 1;\r\n",
                ""
            ],
            "metadata": {
                "azdata_cell_guid": "b6f9a72e-49c8-4385-89c5-521caf6a5188",
                "language": "sql"
            },
            "outputs": [
                {
                    "output_type": "display_data",
                    "data": {
                        "text/html": "(4 rows affected)"
                    },
                    "metadata": {}
                },
                {
                    "output_type": "display_data",
                    "data": {
                        "text/html": "Total execution time: 00:00:00.009"
                    },
                    "metadata": {}
                },
                {
                    "output_type": "execute_result",
                    "metadata": {},
                    "execution_count": 13,
                    "data": {
                        "application/vnd.dataresource+json": {
                            "schema": {
                                "fields": [
                                    {
                                        "name": "Category"
                                    },
                                    {
                                        "name": "Type"
                                    },
                                    {
                                        "name": "Count"
                                    }
                                ]
                            },
                            "data": [
                                {
                                    "Category": "Type1",
                                    "Type": "Water",
                                    "Count": "28"
                                },
                                {
                                    "Category": "Type2",
                                    "Type": "Flying",
                                    "Count": "19"
                                },
                                {
                                    "Category": "Type2",
                                    "Type": "Poison",
                                    "Count": "19"
                                },
                                {
                                    "Category": "Type2",
                                    "Type": "Flying",
                                    "Count": "19"
                                }
                            ]
                        },
                        "text/html": [
                            "<table>",
                            "<tr><th>Category</th><th>Type</th><th>Count</th></tr>",
                            "<tr><td>Type1</td><td>Water</td><td>28</td></tr>",
                            "<tr><td>Type2</td><td>Flying</td><td>19</td></tr>",
                            "<tr><td>Type2</td><td>Poison</td><td>19</td></tr>",
                            "<tr><td>Type2</td><td>Flying</td><td>19</td></tr>",
                            "</table>"
                        ]
                    }
                }
            ],
            "execution_count": 13
        },
        {
            "cell_type": "markdown",
            "source": [
                "**3.**\n",
                "\n",
                "**Proposition:** Write a query to retrieve a list of employees from the Northwinds2022TSQLV7 database who do not have an entry in the audit history, and also provide the department information for each employee, defaulting to 'NA' if the department is not specified.\n",
                "\n",
                "**Tables:**\n",
                "\n",
                "- HumanResources.Employee\n",
                "- Triggered.AuditTriggeredEmployeeHistory\n",
                "- SystemVersioned.Employee\n",
                "\n",
                "**Columns:**\n",
                "\n",
                "- EmployeeId\n",
                "- EmployeeFirstName\n",
                "- EmployeeLastName\n",
                "- HireDate\n",
                "- Department\n",
                "\n",
                "**Predicate:**\n",
                "\n",
                "- The NonAuditEmployees Common Table Expression (CTE) creates a subset of employees that don't have corresponding entries in the audit history table. The LEFT JOIN where the AuditTriggeredEmployeeHistory table has no matching EmployeeId (indicated by A.EmployeeId IS NULL)\n",
                "- The main query selects the first name, last name, and hire date of the employees identified by the NonAuditEmployees CTE, then uses an INNER JOIN to ensure only the identified employee details are selected\n",
                "- A LEFT JOIN to the SystemVersioned.Employee table tries to find department information for these employees. If the department is not found (which can happen because of the left join), COALESCE is used to default the value to 'NA'\n",
                "- The ORDER BY clause ensures the resulting list is sorted alphabetically by the employee's last name and then by the first name"
            ],
            "metadata": {
                "azdata_cell_guid": "9c987f7c-3619-4571-8248-0edd16249f10"
            },
            "attachments": {}
        },
        {
            "cell_type": "code",
            "source": [
                "USE Northwinds2022TSQLV7;\r\n",
                "-- Identify employees without audit records\r\n",
                "WITH NonAuditEmployees AS (\r\n",
                "    SELECT DISTINCT E.EmployeeId\r\n",
                "    FROM [HumanResources].[Employee] E\r\n",
                "    LEFT JOIN [Triggered].[AuditTriggeredEmployeeHistory] A ON E.EmployeeId = A.EmployeeId\r\n",
                "    WHERE A.EmployeeId IS NULL\r\n",
                ")\r\n",
                "-- Select employee details including first name, last name, hire date, and department\r\n",
                "SELECT\r\n",
                "    E.EmployeeFirstName,\r\n",
                "    E.EmployeeLastName,\r\n",
                "    E.HireDate,\r\n",
                "    COALESCE(SE.Department, 'NA') AS Department\r\n",
                "FROM\r\n",
                "    NonAuditEmployees NAE\r\n",
                "    INNER JOIN [HumanResources].[Employee] E ON E.EmployeeId = NAE.EmployeeId\r\n",
                "    LEFT JOIN [SystemVersioned].[Employee] SE ON SE.EmployeeId = E.EmployeeId\r\n",
                "ORDER BY\r\n",
                "    E.EmployeeLastName, \r\n",
                "    E.EmployeeFirstName;\r\n",
                ""
            ],
            "metadata": {
                "azdata_cell_guid": "662bd3e9-7704-4471-aea1-efb03a6c2344",
                "language": "sql"
            },
            "outputs": [
                {
                    "output_type": "display_data",
                    "data": {
                        "text/html": "(3 rows affected)"
                    },
                    "metadata": {}
                },
                {
                    "output_type": "display_data",
                    "data": {
                        "text/html": "Total execution time: 00:00:00.006"
                    },
                    "metadata": {}
                },
                {
                    "output_type": "execute_result",
                    "metadata": {},
                    "execution_count": 17,
                    "data": {
                        "application/vnd.dataresource+json": {
                            "schema": {
                                "fields": [
                                    {
                                        "name": "EmployeeFirstName"
                                    },
                                    {
                                        "name": "EmployeeLastName"
                                    },
                                    {
                                        "name": "HireDate"
                                    },
                                    {
                                        "name": "Department"
                                    }
                                ]
                            },
                            "data": [
                                {
                                    "EmployeeFirstName": "Maria",
                                    "EmployeeLastName": "Cameron",
                                    "HireDate": "2015-03-05",
                                    "Department": "NA"
                                },
                                {
                                    "EmployeeFirstName": "Patricia",
                                    "EmployeeLastName": "Doyle",
                                    "HireDate": "2015-11-15",
                                    "Department": "NA"
                                },
                                {
                                    "EmployeeFirstName": "Russell",
                                    "EmployeeLastName": "King",
                                    "HireDate": "2015-01-02",
                                    "Department": "NA"
                                }
                            ]
                        },
                        "text/html": [
                            "<table>",
                            "<tr><th>EmployeeFirstName</th><th>EmployeeLastName</th><th>HireDate</th><th>Department</th></tr>",
                            "<tr><td>Maria</td><td>Cameron</td><td>2015-03-05</td><td>NA</td></tr>",
                            "<tr><td>Patricia</td><td>Doyle</td><td>2015-11-15</td><td>NA</td></tr>",
                            "<tr><td>Russell</td><td>King</td><td>2015-01-02</td><td>NA</td></tr>",
                            "</table>"
                        ]
                    }
                }
            ],
            "execution_count": 17
        },
        {
            "cell_type": "markdown",
            "source": [
                "## **Worst 3 Queries and Fixed Queries:**"
            ],
            "metadata": {
                "azdata_cell_guid": "bf403825-a8fc-4514-a2d7-615343b74cec"
            },
            "attachments": {}
        },
        {
            "cell_type": "markdown",
            "source": [
                "**1.**\n",
                "\n",
                "**Proposition:** Write a query using HR.Employees and Sales.Customers table to retrieve the country, region, and city using a CTE named EXCEPT\\_ALL without any duplicates\n",
                "\n",
                "**Tables:**\n",
                "\n",
                "- <span style=\"color: var(--vscode-foreground);\">HR.Employees (</span>HumanResources.\\[Employee\\])\n",
                "    \n",
                "- Sales.Customers (Sales.\\[Customer\\])\n",
                "    \n",
                "\n",
                "**Columns:**\n",
                "\n",
                "- <span style=\"color: var(--vscode-foreground);\">country (EmployeeCountry/CustomerCountry)</span>    \n",
                "    \n",
                "- region (EmployeeRegion/CustomerRegion)\n",
                "    \n",
                "- city (EmployeeCity/CustomerCity)\n",
                "    \n",
                "\n",
                "**Predicate:**\n",
                "\n",
                "- The CTE is defined and named EXCEPT\\_ALL and takes the rows from the HR.Employees table and removes whatever is duplicated based on the country, region, and city\n",
                "- A row number is assigned to each group using the ROW\\_NUMBER() function\n",
                "- The PARTITION BY divides the rows based on the country, region, and city\n",
                "- Then the ORDER BY clause is used to order the rows arbitrarily\n",
                "- Then EXCEPT is used to remove rows from the Employees table that exist in the Sales.Customers table based on the country, region, and city\n",
                "- The final SELECT statement retrieves the country, region and city from the EXCEPT\\_ALL CTE"
            ],
            "metadata": {
                "azdata_cell_guid": "b7394d00-9096-432e-b8e9-070d90dc0d69"
            },
            "attachments": {}
        },
        {
            "cell_type": "code",
            "source": [
                "--Query using Northwinds2022TSQLV7\r\n",
                "USE Northwinds2022TSQLV7;\r\n",
                "WITH EXCEPT_ALL\r\n",
                "AS\r\n",
                "(\r\n",
                "  SELECT\r\n",
                "    ROW_NUMBER()\r\n",
                "      OVER(PARTITION BY EmployeeCountry, EmployeeRegion, EmployeeCity\r\n",
                "           ORDER     BY (SELECT 0)) AS rownum,\r\n",
                "    EmployeeCountry, EmployeeRegion, EmployeeCity\r\n",
                "  FROM HumanResources.[Employee]\r\n",
                "  EXCEPT\r\n",
                "  SELECT\r\n",
                "    ROW_NUMBER()\r\n",
                "      OVER(PARTITION BY CustomerCountry, CustomerRegion, CustomerCity\r\n",
                "           ORDER     BY (SELECT 0)),\r\n",
                "    CustomerCountry, CustomerRegion, CustomerCity\r\n",
                "  FROM Sales.[Customer]\r\n",
                ")\r\n",
                "SELECT EmployeeCountry, EmployeeRegion, EmployeeCity\r\n",
                "FROM EXCEPT_ALL;"
            ],
            "metadata": {
                "azdata_cell_guid": "943d8b1e-0332-43cb-b0fc-428bbbf5ea97",
                "language": "sql"
            },
            "outputs": [
                {
                    "output_type": "display_data",
                    "data": {
                        "text/html": "(3 rows affected)"
                    },
                    "metadata": {}
                },
                {
                    "output_type": "display_data",
                    "data": {
                        "text/html": "Total execution time: 00:00:00.029"
                    },
                    "metadata": {}
                },
                {
                    "output_type": "execute_result",
                    "metadata": {},
                    "execution_count": 5,
                    "data": {
                        "application/vnd.dataresource+json": {
                            "schema": {
                                "fields": [
                                    {
                                        "name": "EmployeeCountry"
                                    },
                                    {
                                        "name": "EmployeeRegion"
                                    },
                                    {
                                        "name": "EmployeeCity"
                                    }
                                ]
                            },
                            "data": [
                                {
                                    "EmployeeCountry": "USA",
                                    "EmployeeRegion": "WA",
                                    "EmployeeCity": "Redmond"
                                },
                                {
                                    "EmployeeCountry": "USA",
                                    "EmployeeRegion": "WA",
                                    "EmployeeCity": "Tacoma"
                                },
                                {
                                    "EmployeeCountry": "USA",
                                    "EmployeeRegion": "WA",
                                    "EmployeeCity": "Seattle"
                                }
                            ]
                        },
                        "text/html": [
                            "<table>",
                            "<tr><th>EmployeeCountry</th><th>EmployeeRegion</th><th>EmployeeCity</th></tr>",
                            "<tr><td>USA</td><td>WA</td><td>Redmond</td></tr>",
                            "<tr><td>USA</td><td>WA</td><td>Tacoma</td></tr>",
                            "<tr><td>USA</td><td>WA</td><td>Seattle</td></tr>",
                            "</table>"
                        ]
                    }
                }
            ],
            "execution_count": 5
        },
        {
            "cell_type": "markdown",
            "source": [
                "### **Fixed query**\n",
                "\n",
                "**Proposition:** Write a query that identifies the locations of where the company has employees but no customers and it counts the number of employees in each of the locations.\n",
                "\n",
                "**Tables:**\n",
                "\n",
                "- HumanResources.Employee: Contains data about the employees, specifically their location, country, region, city\n",
                "- Sales.Customer: Contains data about the customers, including their location, country, region, city\n",
                "\n",
                "**Columns:**\n",
                "\n",
                "In the EmployeeLocations CTE:\n",
                "\n",
                "- EmployeeCountry\n",
                "- EmployeeRegion\n",
                "- EmployeeCity\n",
                "\n",
                "In the CustomerLocations CTE:\n",
                "\n",
                "- CustomerCountry\n",
                "- CustomerRegion\n",
                "- CustomerCity\n",
                "\n",
                "In the EmployeeCountInUniqueLocations CTE:\n",
                "\n",
                "- EmployeeCountry\n",
                "- EmployeeRegion\n",
                "- EmployeeCity\n",
                "- EmployeeCount\n",
                "\n",
                "**Predicate:**\n",
                "\n",
                "- The EmployeeLocations CTE is a virtual table that contains the distinct employee locations from the HumanResources.Employee table\n",
                "- The CustomerLocations CTE is a virtual table that contains the distinct customer locations from the Sales.Customer table\n",
                "- The UniqueEmployeeLocations CTE is a virtual table that is from subtracting the customer locations from employee locations and results in a set of locations where the company has employees but no customers\n",
                "- The EmployeeCountInUniqueLocations CTE counts the number of employees in each of the locations from the UniqueEmployeesLocation\n",
                "- The last SELECT statement then retrieves the country, region, and city with the count of the Employees"
            ],
            "metadata": {
                "azdata_cell_guid": "0b5ac1cd-fecd-48e7-b697-f0f5852daf16"
            },
            "attachments": {}
        },
        {
            "cell_type": "code",
            "source": [
                "USE Northwinds2022TSQLV7;\r\n",
                "\r\n",
                "WITH EmployeeLocations AS (\r\n",
                "  SELECT\r\n",
                "    EmployeeCountry,\r\n",
                "    EmployeeRegion,\r\n",
                "    EmployeeCity\r\n",
                "  FROM HumanResources.Employee\r\n",
                "),\r\n",
                "CustomerLocations AS (\r\n",
                "  SELECT\r\n",
                "    CustomerCountry,\r\n",
                "    CustomerRegion,\r\n",
                "    CustomerCity\r\n",
                "  FROM Sales.Customer\r\n",
                "),\r\n",
                "UniqueEmployeeLocations AS (\r\n",
                "  SELECT\r\n",
                "    EmployeeCountry, EmployeeRegion, EmployeeCity\r\n",
                "  FROM EmployeeLocations\r\n",
                "\r\n",
                "  EXCEPT\r\n",
                "\r\n",
                "  SELECT\r\n",
                "    CustomerCountry, CustomerRegion, CustomerCity\r\n",
                "  FROM CustomerLocations\r\n",
                "),\r\n",
                "EmployeeCountInUniqueLocations AS (\r\n",
                "  SELECT\r\n",
                "    EmployeeCountry,\r\n",
                "    EmployeeRegion,\r\n",
                "    EmployeeCity,\r\n",
                "    COUNT(*) AS EmployeeCount\r\n",
                "  FROM HumanResources.Employee e\r\n",
                "  WHERE EXISTS (\r\n",
                "    SELECT 1\r\n",
                "    FROM UniqueEmployeeLocations u\r\n",
                "    WHERE u.EmployeeCountry = e.EmployeeCountry\r\n",
                "      AND u.EmployeeRegion = e.EmployeeRegion\r\n",
                "      AND u.EmployeeCity = e.EmployeeCity\r\n",
                "  )\r\n",
                "  GROUP BY EmployeeCountry, EmployeeRegion, EmployeeCity\r\n",
                ")\r\n",
                "SELECT\r\n",
                "  EmployeeCountry,\r\n",
                "  EmployeeRegion,\r\n",
                "  EmployeeCity,\r\n",
                "  EmployeeCount\r\n",
                "FROM EmployeeCountInUniqueLocations\r\n",
                "ORDER BY EmployeeCountry, EmployeeRegion, EmployeeCity;\r\n",
                ""
            ],
            "metadata": {
                "azdata_cell_guid": "95291107-4d14-405a-85c5-7306a1759811",
                "language": "sql"
            },
            "outputs": [
                {
                    "output_type": "display_data",
                    "data": {
                        "text/html": "(2 rows affected)"
                    },
                    "metadata": {}
                },
                {
                    "output_type": "display_data",
                    "data": {
                        "text/html": "Total execution time: 00:00:00.011"
                    },
                    "metadata": {}
                },
                {
                    "output_type": "execute_result",
                    "metadata": {},
                    "execution_count": 7,
                    "data": {
                        "application/vnd.dataresource+json": {
                            "schema": {
                                "fields": [
                                    {
                                        "name": "EmployeeCountry"
                                    },
                                    {
                                        "name": "EmployeeRegion"
                                    },
                                    {
                                        "name": "EmployeeCity"
                                    },
                                    {
                                        "name": "EmployeeCount"
                                    }
                                ]
                            },
                            "data": [
                                {
                                    "EmployeeCountry": "USA",
                                    "EmployeeRegion": "WA",
                                    "EmployeeCity": "Redmond",
                                    "EmployeeCount": "1"
                                },
                                {
                                    "EmployeeCountry": "USA",
                                    "EmployeeRegion": "WA",
                                    "EmployeeCity": "Tacoma",
                                    "EmployeeCount": "1"
                                }
                            ]
                        },
                        "text/html": [
                            "<table>",
                            "<tr><th>EmployeeCountry</th><th>EmployeeRegion</th><th>EmployeeCity</th><th>EmployeeCount</th></tr>",
                            "<tr><td>USA</td><td>WA</td><td>Redmond</td><td>1</td></tr>",
                            "<tr><td>USA</td><td>WA</td><td>Tacoma</td><td>1</td></tr>",
                            "</table>"
                        ]
                    }
                }
            ],
            "execution_count": 7
        },
        {
            "cell_type": "markdown",
            "source": [
                "**2.**\n",
                "\n",
                "**Proposition:** Write a query to retrive the combinations of country, region, and city from Production.Suppliers table that are not in HR.Employees table but coincide with the entries in Sales.Customers table using the EXCEPT and INTERSECT operator\n",
                "\n",
                "**Tables:**\n",
                "\n",
                "- Production.Suppliers (Production.\\[Supplier\\])\n",
                "- HR.Employees (HumanResources.\\[Employee\\])\n",
                "- Sales.Customers (Sales.\\[Customer\\])\n",
                "\n",
                "**Columns:**\n",
                "\n",
                "- country (SupplierCountry/EmployeeCountry/CustomerCountry)\n",
                "- region (SupplierRegion/EmployeeRegion/CustomerRegion)\n",
                "- city (CustomerCountry/CustomerRegion/CustomerCity)\n",
                "\n",
                "**Predicate:**\n",
                "\n",
                "- EXCEPT operation is performed between the country, region, and city from Production.Suppliers and the HR.Employees table\n",
                "- Then INTERSECT between the results from the EXCEPT operation of the country, region, and city from the Sales.Customers table\n",
                "- The parentheses is used to specify the order of operations to ensure that EXCEPT is done before the INTERSECT operation. \n",
                "- The query results in the country, region, and city from the Productions.Suppliers table that are not in HR.Employees table but intersect with the Sales.Customers table"
            ],
            "metadata": {
                "azdata_cell_guid": "ac535ed0-e09e-478d-b216-17e549a44247"
            },
            "attachments": {}
        },
        {
            "cell_type": "code",
            "source": [
                "--Query using Northwinds2022TSQLV7\r\n",
                "USE Northwinds2022TSQLV7;\r\n",
                "SELECT SupplierCountry, SupplierRegion, SupplierCity FROM Production.[Supplier]\r\n",
                "EXCEPT\r\n",
                "SELECT EmployeeCountry, EmployeeRegion, EmployeeCity FROM HumanResources.[Employee]\r\n",
                "INTERSECT\r\n",
                "SELECT CustomerCountry, CustomerRegion, CustomerCity FROM Sales.[Customer];\r\n",
                "\r\n",
                "(SELECT SupplierCountry, SupplierRegion, SupplierCity FROM Production.[Supplier]\r\n",
                " EXCEPT\r\n",
                " SELECT EmployeeCountry, EmployeeRegion, EmployeeCity FROM HumanResources.[Employee])\r\n",
                "INTERSECT\r\n",
                "SELECT CustomerCountry, CustomerRegion, CustomerCity FROM Sales.[Customer];"
            ],
            "metadata": {
                "azdata_cell_guid": "a483e7ba-7704-4c54-9972-869d14a33549",
                "language": "sql"
            },
            "outputs": [
                {
                    "output_type": "display_data",
                    "data": {
                        "text/html": "(28 rows affected)"
                    },
                    "metadata": {}
                },
                {
                    "output_type": "display_data",
                    "data": {
                        "text/html": "(3 rows affected)"
                    },
                    "metadata": {}
                },
                {
                    "output_type": "display_data",
                    "data": {
                        "text/html": "Total execution time: 00:00:00.034"
                    },
                    "metadata": {}
                },
                {
                    "output_type": "execute_result",
                    "metadata": {},
                    "execution_count": 6,
                    "data": {
                        "application/vnd.dataresource+json": {
                            "schema": {
                                "fields": [
                                    {
                                        "name": "SupplierCountry"
                                    },
                                    {
                                        "name": "SupplierRegion"
                                    },
                                    {
                                        "name": "SupplierCity"
                                    }
                                ]
                            },
                            "data": [
                                {
                                    "SupplierCountry": "Australia",
                                    "SupplierRegion": "NSW",
                                    "SupplierCity": "Sydney"
                                },
                                {
                                    "SupplierCountry": "Australia",
                                    "SupplierRegion": "Victoria",
                                    "SupplierCity": "Melbourne"
                                },
                                {
                                    "SupplierCountry": "Brazil",
                                    "SupplierRegion": "NULL",
                                    "SupplierCity": "Sao Paulo"
                                },
                                {
                                    "SupplierCountry": "Canada",
                                    "SupplierRegion": "Québec",
                                    "SupplierCity": "Montréal"
                                },
                                {
                                    "SupplierCountry": "Canada",
                                    "SupplierRegion": "Québec",
                                    "SupplierCity": "Ste-Hyacinthe"
                                },
                                {
                                    "SupplierCountry": "Denmark",
                                    "SupplierRegion": "NULL",
                                    "SupplierCity": "Lyngby"
                                },
                                {
                                    "SupplierCountry": "Finland",
                                    "SupplierRegion": "NULL",
                                    "SupplierCity": "Lappeenranta"
                                },
                                {
                                    "SupplierCountry": "France",
                                    "SupplierRegion": "NULL",
                                    "SupplierCity": "Annecy"
                                },
                                {
                                    "SupplierCountry": "France",
                                    "SupplierRegion": "NULL",
                                    "SupplierCity": "Montceau"
                                },
                                {
                                    "SupplierCountry": "France",
                                    "SupplierRegion": "NULL",
                                    "SupplierCity": "Paris"
                                },
                                {
                                    "SupplierCountry": "Germany",
                                    "SupplierRegion": "NULL",
                                    "SupplierCity": "Berlin"
                                },
                                {
                                    "SupplierCountry": "Germany",
                                    "SupplierRegion": "NULL",
                                    "SupplierCity": "Cuxhaven"
                                },
                                {
                                    "SupplierCountry": "Germany",
                                    "SupplierRegion": "NULL",
                                    "SupplierCity": "Frankfurt"
                                },
                                {
                                    "SupplierCountry": "Italy",
                                    "SupplierRegion": "NULL",
                                    "SupplierCity": "Ravenna"
                                },
                                {
                                    "SupplierCountry": "Italy",
                                    "SupplierRegion": "NULL",
                                    "SupplierCity": "Salerno"
                                },
                                {
                                    "SupplierCountry": "Japan",
                                    "SupplierRegion": "NULL",
                                    "SupplierCity": "Osaka"
                                },
                                {
                                    "SupplierCountry": "Japan",
                                    "SupplierRegion": "NULL",
                                    "SupplierCity": "Tokyo"
                                },
                                {
                                    "SupplierCountry": "Netherlands",
                                    "SupplierRegion": "NULL",
                                    "SupplierCity": "Zaandam"
                                },
                                {
                                    "SupplierCountry": "Norway",
                                    "SupplierRegion": "NULL",
                                    "SupplierCity": "Sandvika"
                                },
                                {
                                    "SupplierCountry": "Singapore",
                                    "SupplierRegion": "NULL",
                                    "SupplierCity": "Singapore"
                                },
                                {
                                    "SupplierCountry": "Spain",
                                    "SupplierRegion": "Asturias",
                                    "SupplierCity": "Oviedo"
                                },
                                {
                                    "SupplierCountry": "Sweden",
                                    "SupplierRegion": "NULL",
                                    "SupplierCity": "Göteborg"
                                },
                                {
                                    "SupplierCountry": "Sweden",
                                    "SupplierRegion": "NULL",
                                    "SupplierCity": "Stockholm"
                                },
                                {
                                    "SupplierCountry": "UK",
                                    "SupplierRegion": "NULL",
                                    "SupplierCity": "Manchester"
                                },
                                {
                                    "SupplierCountry": "USA",
                                    "SupplierRegion": "LA",
                                    "SupplierCity": "New Orleans"
                                },
                                {
                                    "SupplierCountry": "USA",
                                    "SupplierRegion": "MA",
                                    "SupplierCity": "Boston"
                                },
                                {
                                    "SupplierCountry": "USA",
                                    "SupplierRegion": "MI",
                                    "SupplierCity": "Ann Arbor"
                                },
                                {
                                    "SupplierCountry": "USA",
                                    "SupplierRegion": "OR",
                                    "SupplierCity": "Bend"
                                }
                            ]
                        },
                        "text/html": [
                            "<table>",
                            "<tr><th>SupplierCountry</th><th>SupplierRegion</th><th>SupplierCity</th></tr>",
                            "<tr><td>Australia</td><td>NSW</td><td>Sydney</td></tr>",
                            "<tr><td>Australia</td><td>Victoria</td><td>Melbourne</td></tr>",
                            "<tr><td>Brazil</td><td>NULL</td><td>Sao Paulo</td></tr>",
                            "<tr><td>Canada</td><td>Québec</td><td>Montréal</td></tr>",
                            "<tr><td>Canada</td><td>Québec</td><td>Ste-Hyacinthe</td></tr>",
                            "<tr><td>Denmark</td><td>NULL</td><td>Lyngby</td></tr>",
                            "<tr><td>Finland</td><td>NULL</td><td>Lappeenranta</td></tr>",
                            "<tr><td>France</td><td>NULL</td><td>Annecy</td></tr>",
                            "<tr><td>France</td><td>NULL</td><td>Montceau</td></tr>",
                            "<tr><td>France</td><td>NULL</td><td>Paris</td></tr>",
                            "<tr><td>Germany</td><td>NULL</td><td>Berlin</td></tr>",
                            "<tr><td>Germany</td><td>NULL</td><td>Cuxhaven</td></tr>",
                            "<tr><td>Germany</td><td>NULL</td><td>Frankfurt</td></tr>",
                            "<tr><td>Italy</td><td>NULL</td><td>Ravenna</td></tr>",
                            "<tr><td>Italy</td><td>NULL</td><td>Salerno</td></tr>",
                            "<tr><td>Japan</td><td>NULL</td><td>Osaka</td></tr>",
                            "<tr><td>Japan</td><td>NULL</td><td>Tokyo</td></tr>",
                            "<tr><td>Netherlands</td><td>NULL</td><td>Zaandam</td></tr>",
                            "<tr><td>Norway</td><td>NULL</td><td>Sandvika</td></tr>",
                            "<tr><td>Singapore</td><td>NULL</td><td>Singapore</td></tr>",
                            "<tr><td>Spain</td><td>Asturias</td><td>Oviedo</td></tr>",
                            "<tr><td>Sweden</td><td>NULL</td><td>Göteborg</td></tr>",
                            "<tr><td>Sweden</td><td>NULL</td><td>Stockholm</td></tr>",
                            "<tr><td>UK</td><td>NULL</td><td>Manchester</td></tr>",
                            "<tr><td>USA</td><td>LA</td><td>New Orleans</td></tr>",
                            "<tr><td>USA</td><td>MA</td><td>Boston</td></tr>",
                            "<tr><td>USA</td><td>MI</td><td>Ann Arbor</td></tr>",
                            "<tr><td>USA</td><td>OR</td><td>Bend</td></tr>",
                            "</table>"
                        ]
                    }
                },
                {
                    "output_type": "execute_result",
                    "metadata": {},
                    "execution_count": 6,
                    "data": {
                        "application/vnd.dataresource+json": {
                            "schema": {
                                "fields": [
                                    {
                                        "name": "SupplierCountry"
                                    },
                                    {
                                        "name": "SupplierRegion"
                                    },
                                    {
                                        "name": "SupplierCity"
                                    }
                                ]
                            },
                            "data": [
                                {
                                    "SupplierCountry": "Canada",
                                    "SupplierRegion": "Québec",
                                    "SupplierCity": "Montréal"
                                },
                                {
                                    "SupplierCountry": "France",
                                    "SupplierRegion": "NULL",
                                    "SupplierCity": "Paris"
                                },
                                {
                                    "SupplierCountry": "Germany",
                                    "SupplierRegion": "NULL",
                                    "SupplierCity": "Berlin"
                                }
                            ]
                        },
                        "text/html": [
                            "<table>",
                            "<tr><th>SupplierCountry</th><th>SupplierRegion</th><th>SupplierCity</th></tr>",
                            "<tr><td>Canada</td><td>Québec</td><td>Montréal</td></tr>",
                            "<tr><td>France</td><td>NULL</td><td>Paris</td></tr>",
                            "<tr><td>Germany</td><td>NULL</td><td>Berlin</td></tr>",
                            "</table>"
                        ]
                    }
                }
            ],
            "execution_count": 6
        },
        {
            "cell_type": "markdown",
            "source": [
                "### **Fixed Query**\n",
                "\n",
                "**Proposition:** Write a query to find the <span style=\"color: var(--vscode-foreground);\">locations where there are suppliers that do not overlap with employee locations but overlap with customer locations. For the unique locations</span><span style=\"color: var(--vscode-foreground);\">, it counts the number of suppliers and presents the locations sorted by the number of suppliers in descending order, and then by country, region, and city</span>\n",
                "\n",
                "**Tables:**\n",
                "\n",
                "- Production.Supplier\n",
                "- HumanResources.Employee\n",
                "- Sales.Customer\n",
                "\n",
                "**Columns:**\n",
                "\n",
                "- SupplierCountry, SupplierRegion, SupplierCity\n",
                "- EmployeeCountry, EmployeeRegion, EmployeeCity\n",
                "- CustomerCountry, CustomerRegion, CustomerCity\n",
                "- NumberOfSuppliers\n",
                "\n",
                "**Predicate:**\n",
                "\n",
                "- SupplierLocations CTE extracts the location details of suppliers\n",
                "- EmployeeLocations CTE extracts the location details of employees\n",
                "- CustomerLocations CTE extracts the location details of customers\n",
                "- UniqueSupplierLocations CTE finds the locations where suppliers exist but employees do not (SELECT FROM SupplierLocations EXCEPT SELECT FROM EmployeeLocations)\n",
                "- Then it intersects these results with the locations where customers exist (INTERSECT SELECT FROM CustomerLocations), this ensures the locations are unique to suppliers when compared to employee locations but also exist in customer locations\n",
                "- SuppliersCount CTE has a unique location identified in the previous step and counts the number of suppliers.\n",
                "- Finally the SELECT operator outputs the locations and the count of suppliers and sorts it by the number of suppliers in descending order and then by the location details"
            ],
            "metadata": {
                "azdata_cell_guid": "69266814-d230-41cd-a0d8-3b3804c95ba1"
            },
            "attachments": {}
        },
        {
            "cell_type": "code",
            "source": [
                "USE Northwinds2022TSQLV7;\r\n",
                "WITH SupplierLocations AS (\r\n",
                "  SELECT\r\n",
                "    SupplierCountry,\r\n",
                "    SupplierRegion,\r\n",
                "    SupplierCity\r\n",
                "  FROM Production.Supplier\r\n",
                "),\r\n",
                "EmployeeLocations AS (\r\n",
                "  SELECT\r\n",
                "    EmployeeCountry,\r\n",
                "    EmployeeRegion,\r\n",
                "    EmployeeCity\r\n",
                "  FROM HumanResources.Employee\r\n",
                "),\r\n",
                "CustomerLocations AS (\r\n",
                "  SELECT\r\n",
                "    CustomerCountry,\r\n",
                "    CustomerRegion,\r\n",
                "    CustomerCity\r\n",
                "  FROM Sales.Customer\r\n",
                "),\r\n",
                "UniqueSupplierLocations AS (\r\n",
                "  (SELECT SupplierCountry, SupplierRegion, SupplierCity FROM SupplierLocations\r\n",
                "   EXCEPT\r\n",
                "   SELECT EmployeeCountry, EmployeeRegion, EmployeeCity FROM EmployeeLocations)\r\n",
                "  INTERSECT\r\n",
                "  SELECT CustomerCountry, CustomerRegion, CustomerCity FROM CustomerLocations\r\n",
                "),\r\n",
                "SuppliersCount AS (\r\n",
                "  SELECT\r\n",
                "    u.SupplierCountry,\r\n",
                "    u.SupplierRegion,\r\n",
                "    u.SupplierCity,\r\n",
                "    COUNT(*) AS NumberOfSuppliers\r\n",
                "  FROM Production.Supplier s\r\n",
                "  INNER JOIN UniqueSupplierLocations u ON s.SupplierCountry = u.SupplierCountry\r\n",
                "                                       AND s.SupplierRegion = u.SupplierRegion\r\n",
                "                                       AND s.SupplierCity = u.SupplierCity\r\n",
                "  GROUP BY u.SupplierCountry, u.SupplierRegion, u.SupplierCity\r\n",
                ")\r\n",
                "SELECT\r\n",
                "  SupplierCountry,\r\n",
                "  SupplierRegion,\r\n",
                "  SupplierCity,\r\n",
                "  NumberOfSuppliers\r\n",
                "FROM SuppliersCount\r\n",
                "ORDER BY NumberOfSuppliers DESC, SupplierCountry, SupplierRegion, SupplierCity;\r\n",
                ""
            ],
            "metadata": {
                "azdata_cell_guid": "4a8d5a93-b75f-4fcf-ac36-6409964752a4",
                "language": "sql"
            },
            "outputs": [
                {
                    "output_type": "display_data",
                    "data": {
                        "text/html": "(1 row affected)"
                    },
                    "metadata": {}
                },
                {
                    "output_type": "display_data",
                    "data": {
                        "text/html": "Total execution time: 00:00:00.021"
                    },
                    "metadata": {}
                },
                {
                    "output_type": "execute_result",
                    "metadata": {},
                    "execution_count": 8,
                    "data": {
                        "application/vnd.dataresource+json": {
                            "schema": {
                                "fields": [
                                    {
                                        "name": "SupplierCountry"
                                    },
                                    {
                                        "name": "SupplierRegion"
                                    },
                                    {
                                        "name": "SupplierCity"
                                    },
                                    {
                                        "name": "NumberOfSuppliers"
                                    }
                                ]
                            },
                            "data": [
                                {
                                    "SupplierCountry": "Canada",
                                    "SupplierRegion": "Québec",
                                    "SupplierCity": "Montréal",
                                    "NumberOfSuppliers": "1"
                                }
                            ]
                        },
                        "text/html": [
                            "<table>",
                            "<tr><th>SupplierCountry</th><th>SupplierRegion</th><th>SupplierCity</th><th>NumberOfSuppliers</th></tr>",
                            "<tr><td>Canada</td><td>Québec</td><td>Montréal</td><td>1</td></tr>",
                            "</table>"
                        ]
                    }
                }
            ],
            "execution_count": 8
        },
        {
            "cell_type": "markdown",
            "source": [
                "### **3.**\n",
                "\n",
                "**Proposition:** Write a query that  provides a report that includes each department's name, the count of active employees in that department, and the average pay of those employees. Departments with no active employees will still be listed with a count of zero and an average pay of zero\n",
                "\n",
                "**Tables:**\n",
                "\n",
                "- HumanResources.EmployeePayHistory (aliased as ep)\n",
                "- HumanResources.EmployeeDepartmentHistory (aliased as edh)\n",
                "- HumanResources.Department (aliased as d)\n",
                "\n",
                "**Columns:**\n",
                "\n",
                "- edh.DepartmentID\n",
                "- ep.Rate\n",
                "- d.Name\n",
                "- edh.BusinessEntityID\n",
                "\n",
                "**Predicate:**\n",
                "\n",
                "- DepartmentPaySummary CTE calculates the average pay for active employees in each department by joining EmployeePayHistory and EmployeeDepartmentHistory on the common key BusinessEntityID and filtering on edh.EndDate IS NULL to include only current employee assignments\n",
                "- Department table to EmployeeDepartmentHistory on DepartmentID are joined to departments with their current employees.\n",
                "- LEFT JOIN to the DepartmentPaySummary includes the average pay data in the results\n",
                "- The COALESCE function ensures that departments without pay data (due to having no active employees) show an average pay of zero rather than null.\n",
                "- The WHERE edh.EndDate IS NULL condition makes sure that only current employees are considered\n",
                "- The GROUP BY clause groups the results by department name and average pay\n",
                "- The ORDER BY clause sorts the results first by the number of employees in descending order and then by average pay in descending order"
            ],
            "metadata": {
                "azdata_cell_guid": "c5e0cbd2-7ae7-4ba8-8e7d-9d4e0dfeee3d"
            },
            "attachments": {}
        },
        {
            "cell_type": "code",
            "source": [
                "USE AdventureWorks2017;\r\n",
                "WITH DepartmentPaySummary AS (\r\n",
                "    SELECT\r\n",
                "        edh.DepartmentID,\r\n",
                "        AVG(ep.Rate) AS AveragePay \r\n",
                "    FROM\r\n",
                "        HumanResources.EmployeePayHistory ep\r\n",
                "        INNER JOIN HumanResources.EmployeeDepartmentHistory edh ON ep.BusinessEntityID = edh.BusinessEntityID\r\n",
                "    WHERE\r\n",
                "        edh.EndDate IS NULL\r\n",
                "    GROUP BY\r\n",
                "        edh.DepartmentID\r\n",
                ")\r\n",
                "SELECT\r\n",
                "    d.Name AS DepartmentName,\r\n",
                "    COUNT(edh.BusinessEntityID) AS NumberOfEmployees,\r\n",
                "    COALESCE(dps.AveragePay, 0) AS AverageDepartmentPay\r\n",
                "FROM\r\n",
                "    HumanResources.Department d\r\n",
                "    INNER JOIN HumanResources.EmployeeDepartmentHistory edh ON d.DepartmentID = edh.DepartmentID\r\n",
                "    LEFT JOIN DepartmentPaySummary dps ON d.DepartmentID = dps.DepartmentID\r\n",
                "WHERE\r\n",
                "    edh.EndDate IS NULL\r\n",
                "GROUP BY\r\n",
                "    d.Name,\r\n",
                "    dps.AveragePay\r\n",
                "ORDER BY\r\n",
                "    NumberOfEmployees DESC, \r\n",
                "    AverageDepartmentPay DESC;"
            ],
            "metadata": {
                "azdata_cell_guid": "39c90e13-709a-4394-9c04-60d69c0eb0b6",
                "language": "sql"
            },
            "outputs": [
                {
                    "output_type": "display_data",
                    "data": {
                        "text/html": "(16 rows affected)"
                    },
                    "metadata": {}
                },
                {
                    "output_type": "display_data",
                    "data": {
                        "text/html": "Total execution time: 00:00:00.023"
                    },
                    "metadata": {}
                },
                {
                    "output_type": "execute_result",
                    "metadata": {},
                    "execution_count": 11,
                    "data": {
                        "application/vnd.dataresource+json": {
                            "schema": {
                                "fields": [
                                    {
                                        "name": "DepartmentName"
                                    },
                                    {
                                        "name": "NumberOfEmployees"
                                    },
                                    {
                                        "name": "AverageDepartmentPay"
                                    }
                                ]
                            },
                            "data": [
                                {
                                    "DepartmentName": "Production",
                                    "NumberOfEmployees": "179",
                                    "AverageDepartmentPay": "13.5537"
                                },
                                {
                                    "DepartmentName": "Sales",
                                    "NumberOfEmployees": "18",
                                    "AverageDepartmentPay": "29.9719"
                                },
                                {
                                    "DepartmentName": "Purchasing",
                                    "NumberOfEmployees": "12",
                                    "AverageDepartmentPay": "18.0202"
                                },
                                {
                                    "DepartmentName": "Information Services",
                                    "NumberOfEmployees": "10",
                                    "AverageDepartmentPay": "34.1586"
                                },
                                {
                                    "DepartmentName": "Finance",
                                    "NumberOfEmployees": "10",
                                    "AverageDepartmentPay": "23.935"
                                },
                                {
                                    "DepartmentName": "Marketing",
                                    "NumberOfEmployees": "9",
                                    "AverageDepartmentPay": "18.4318"
                                },
                                {
                                    "DepartmentName": "Facilities and Maintenance",
                                    "NumberOfEmployees": "7",
                                    "AverageDepartmentPay": "13.0316"
                                },
                                {
                                    "DepartmentName": "Engineering",
                                    "NumberOfEmployees": "6",
                                    "AverageDepartmentPay": "40.1442"
                                },
                                {
                                    "DepartmentName": "Human Resources",
                                    "NumberOfEmployees": "6",
                                    "AverageDepartmentPay": "18.0248"
                                },
                                {
                                    "DepartmentName": "Production Control",
                                    "NumberOfEmployees": "6",
                                    "AverageDepartmentPay": "16.7746"
                                },
                                {
                                    "DepartmentName": "Quality Assurance",
                                    "NumberOfEmployees": "6",
                                    "AverageDepartmentPay": "15.4647"
                                },
                                {
                                    "DepartmentName": "Shipping and Receiving",
                                    "NumberOfEmployees": "6",
                                    "AverageDepartmentPay": "10.8718"
                                },
                                {
                                    "DepartmentName": "Document Control",
                                    "NumberOfEmployees": "5",
                                    "AverageDepartmentPay": "14.3884"
                                },
                                {
                                    "DepartmentName": "Research and Development",
                                    "NumberOfEmployees": "4",
                                    "AverageDepartmentPay": "43.6731"
                                },
                                {
                                    "DepartmentName": "Tool Design",
                                    "NumberOfEmployees": "4",
                                    "AverageDepartmentPay": "23.5054"
                                },
                                {
                                    "DepartmentName": "Executive",
                                    "NumberOfEmployees": "2",
                                    "AverageDepartmentPay": "68.3034"
                                }
                            ]
                        },
                        "text/html": [
                            "<table>",
                            "<tr><th>DepartmentName</th><th>NumberOfEmployees</th><th>AverageDepartmentPay</th></tr>",
                            "<tr><td>Production</td><td>179</td><td>13.5537</td></tr>",
                            "<tr><td>Sales</td><td>18</td><td>29.9719</td></tr>",
                            "<tr><td>Purchasing</td><td>12</td><td>18.0202</td></tr>",
                            "<tr><td>Information Services</td><td>10</td><td>34.1586</td></tr>",
                            "<tr><td>Finance</td><td>10</td><td>23.935</td></tr>",
                            "<tr><td>Marketing</td><td>9</td><td>18.4318</td></tr>",
                            "<tr><td>Facilities and Maintenance</td><td>7</td><td>13.0316</td></tr>",
                            "<tr><td>Engineering</td><td>6</td><td>40.1442</td></tr>",
                            "<tr><td>Human Resources</td><td>6</td><td>18.0248</td></tr>",
                            "<tr><td>Production Control</td><td>6</td><td>16.7746</td></tr>",
                            "<tr><td>Quality Assurance</td><td>6</td><td>15.4647</td></tr>",
                            "<tr><td>Shipping and Receiving</td><td>6</td><td>10.8718</td></tr>",
                            "<tr><td>Document Control</td><td>5</td><td>14.3884</td></tr>",
                            "<tr><td>Research and Development</td><td>4</td><td>43.6731</td></tr>",
                            "<tr><td>Tool Design</td><td>4</td><td>23.5054</td></tr>",
                            "<tr><td>Executive</td><td>2</td><td>68.3034</td></tr>",
                            "</table>"
                        ]
                    }
                }
            ],
            "execution_count": 11
        },
        {
            "cell_type": "markdown",
            "source": [
                "### **Fixed Query**\n",
                "\n",
                "**Proposition:** Write a query that provides an overview of current departmental pay, listing each department along with the number of active employees and their average pay rate.\n",
                "\n",
                "**Tables:**\n",
                "\n",
                "- HumanResources.EmployeePayHistory\n",
                "- HumanResources.EmployeeDepartmentHistory\n",
                "- HumanResources.Department\n",
                "\n",
                "**Columns:**\n",
                "\n",
                "- DepartmentName\n",
                "- NumberOfEmployees\n",
                "- AverageDepartmentPay\n",
                "\n",
                "**Predicate:**\n",
                "\n",
                "- <span style=\"color: var(--vscode-foreground);\">Only including employee records where the EndDate is null in EmployeeDepartmentHistory, which means they are current employees and group it by the department name</span>\n",
                "- Then ordering by the number of employees in descending order, then by average department pay in descending order"
            ],
            "metadata": {
                "azdata_cell_guid": "7982ad43-82d0-41f9-ba92-f5a7294861b1"
            },
            "attachments": {}
        },
        {
            "cell_type": "code",
            "source": [
                "USE AdventureWorks2017;\r\n",
                "WITH CurrentDepartmentPay AS (\r\n",
                "    SELECT\r\n",
                "        edh.BusinessEntityID,\r\n",
                "        edh.DepartmentID,\r\n",
                "        ep.Rate,\r\n",
                "        ROW_NUMBER() OVER(PARTITION BY ep.BusinessEntityID ORDER BY ep.RateChangeDate DESC) AS rn\r\n",
                "    FROM\r\n",
                "        HumanResources.EmployeePayHistory ep\r\n",
                "        INNER JOIN HumanResources.EmployeeDepartmentHistory edh ON ep.BusinessEntityID = edh.BusinessEntityID\r\n",
                "    WHERE\r\n",
                "        edh.EndDate IS NULL\r\n",
                ")\r\n",
                "SELECT\r\n",
                "    d.Name AS DepartmentName,\r\n",
                "    COUNT(distinct cdp.BusinessEntityID) AS NumberOfEmployees,\r\n",
                "    MAX(cdp.Rate) AS MaxSalary,\r\n",
                "    MIN(cdp.Rate) AS MinSalary\r\n",
                "FROM\r\n",
                "    HumanResources.Department d\r\n",
                "    INNER JOIN CurrentDepartmentPay cdp ON d.DepartmentID = cdp.DepartmentID\r\n",
                "    INNER JOIN HumanResources.Employee e ON cdp.BusinessEntityID = e.BusinessEntityID\r\n",
                "WHERE\r\n",
                "    cdp.rn = 1 \r\n",
                "GROUP BY\r\n",
                "    d.Name\r\n",
                "ORDER BY\r\n",
                "    NumberOfEmployees DESC;\r\n",
                ""
            ],
            "metadata": {
                "azdata_cell_guid": "41cee327-646c-446d-b43e-713c47d4d998",
                "language": "sql"
            },
            "outputs": [
                {
                    "output_type": "display_data",
                    "data": {
                        "text/html": "(16 rows affected)"
                    },
                    "metadata": {}
                },
                {
                    "output_type": "display_data",
                    "data": {
                        "text/html": "Total execution time: 00:00:00.023"
                    },
                    "metadata": {}
                },
                {
                    "output_type": "execute_result",
                    "metadata": {},
                    "execution_count": 10,
                    "data": {
                        "application/vnd.dataresource+json": {
                            "schema": {
                                "fields": [
                                    {
                                        "name": "DepartmentName"
                                    },
                                    {
                                        "name": "NumberOfEmployees"
                                    },
                                    {
                                        "name": "MaxSalary"
                                    },
                                    {
                                        "name": "MinSalary"
                                    }
                                ]
                            },
                            "data": [
                                {
                                    "DepartmentName": "Production",
                                    "NumberOfEmployees": "179",
                                    "MaxSalary": "84.1346",
                                    "MinSalary": "9.50"
                                },
                                {
                                    "DepartmentName": "Sales",
                                    "NumberOfEmployees": "18",
                                    "MaxSalary": "72.1154",
                                    "MinSalary": "23.0769"
                                },
                                {
                                    "DepartmentName": "Purchasing",
                                    "NumberOfEmployees": "12",
                                    "MaxSalary": "30.00",
                                    "MinSalary": "12.75"
                                },
                                {
                                    "DepartmentName": "Finance",
                                    "NumberOfEmployees": "10",
                                    "MaxSalary": "43.2692",
                                    "MinSalary": "13.4615"
                                },
                                {
                                    "DepartmentName": "Information Services",
                                    "NumberOfEmployees": "10",
                                    "MaxSalary": "50.4808",
                                    "MinSalary": "27.4038"
                                },
                                {
                                    "DepartmentName": "Marketing",
                                    "NumberOfEmployees": "9",
                                    "MaxSalary": "37.50",
                                    "MinSalary": "13.4615"
                                },
                                {
                                    "DepartmentName": "Facilities and Maintenance",
                                    "NumberOfEmployees": "7",
                                    "MaxSalary": "24.0385",
                                    "MinSalary": "9.25"
                                },
                                {
                                    "DepartmentName": "Engineering",
                                    "NumberOfEmployees": "6",
                                    "MaxSalary": "63.4615",
                                    "MinSalary": "32.6923"
                                },
                                {
                                    "DepartmentName": "Human Resources",
                                    "NumberOfEmployees": "6",
                                    "MaxSalary": "27.1394",
                                    "MinSalary": "13.9423"
                                },
                                {
                                    "DepartmentName": "Quality Assurance",
                                    "NumberOfEmployees": "6",
                                    "MaxSalary": "28.8462",
                                    "MinSalary": "10.5769"
                                },
                                {
                                    "DepartmentName": "Production Control",
                                    "NumberOfEmployees": "6",
                                    "MaxSalary": "24.5192",
                                    "MinSalary": "16.00"
                                },
                                {
                                    "DepartmentName": "Shipping and Receiving",
                                    "NumberOfEmployees": "6",
                                    "MaxSalary": "19.2308",
                                    "MinSalary": "9.00"
                                },
                                {
                                    "DepartmentName": "Document Control",
                                    "NumberOfEmployees": "5",
                                    "MaxSalary": "17.7885",
                                    "MinSalary": "10.25"
                                },
                                {
                                    "DepartmentName": "Tool Design",
                                    "NumberOfEmployees": "4",
                                    "MaxSalary": "29.8462",
                                    "MinSalary": "25.00"
                                },
                                {
                                    "DepartmentName": "Research and Development",
                                    "NumberOfEmployees": "4",
                                    "MaxSalary": "50.4808",
                                    "MinSalary": "40.8654"
                                },
                                {
                                    "DepartmentName": "Executive",
                                    "NumberOfEmployees": "2",
                                    "MaxSalary": "125.50",
                                    "MinSalary": "60.0962"
                                }
                            ]
                        },
                        "text/html": [
                            "<table>",
                            "<tr><th>DepartmentName</th><th>NumberOfEmployees</th><th>MaxSalary</th><th>MinSalary</th></tr>",
                            "<tr><td>Production</td><td>179</td><td>84.1346</td><td>9.50</td></tr>",
                            "<tr><td>Sales</td><td>18</td><td>72.1154</td><td>23.0769</td></tr>",
                            "<tr><td>Purchasing</td><td>12</td><td>30.00</td><td>12.75</td></tr>",
                            "<tr><td>Finance</td><td>10</td><td>43.2692</td><td>13.4615</td></tr>",
                            "<tr><td>Information Services</td><td>10</td><td>50.4808</td><td>27.4038</td></tr>",
                            "<tr><td>Marketing</td><td>9</td><td>37.50</td><td>13.4615</td></tr>",
                            "<tr><td>Facilities and Maintenance</td><td>7</td><td>24.0385</td><td>9.25</td></tr>",
                            "<tr><td>Engineering</td><td>6</td><td>63.4615</td><td>32.6923</td></tr>",
                            "<tr><td>Human Resources</td><td>6</td><td>27.1394</td><td>13.9423</td></tr>",
                            "<tr><td>Quality Assurance</td><td>6</td><td>28.8462</td><td>10.5769</td></tr>",
                            "<tr><td>Production Control</td><td>6</td><td>24.5192</td><td>16.00</td></tr>",
                            "<tr><td>Shipping and Receiving</td><td>6</td><td>19.2308</td><td>9.00</td></tr>",
                            "<tr><td>Document Control</td><td>5</td><td>17.7885</td><td>10.25</td></tr>",
                            "<tr><td>Tool Design</td><td>4</td><td>29.8462</td><td>25.00</td></tr>",
                            "<tr><td>Research and Development</td><td>4</td><td>50.4808</td><td>40.8654</td></tr>",
                            "<tr><td>Executive</td><td>2</td><td>125.50</td><td>60.0962</td></tr>",
                            "</table>"
                        ]
                    }
                }
            ],
            "execution_count": 10
        },
        {
            "cell_type": "markdown",
            "source": [
                "## **Medium Queries**\n",
                "\n",
                "**Query 1**\n",
                "\n",
                "**Proposition:** Write a query using HR.Employees and Sales.Customers table to retrieve the country, region, and city using a CTE named EXCEPT\\_ALL without any duplicates\n",
                "\n",
                "**Tables:**\n",
                "\n",
                "- HR.Employees (HumanResources.\\[Employee\\])\n",
                "    \n",
                "- Sales.Customers (Sales.\\[Customer\\])\n",
                "    \n",
                "\n",
                "**Columns:**\n",
                "\n",
                "- country (EmployeeCountry/CustomerCountry)    \n",
                "    \n",
                "- region (EmployeeRegion/CustomerRegion)\n",
                "    \n",
                "- city (EmployeeCity/CustomerCity)\n",
                "    \n",
                "\n",
                "**Predicate:**\n",
                "\n",
                "- The CTE is defined and named EXCEPT\\_ALL and takes the rows from the HR.Employees table and removes whatever is duplicated based on the country, region, and city\n",
                "- A row number is assigned to each group using the ROW\\_NUMBER() function\n",
                "- The PARTITION BY divides the rows based on the country, region, and city\n",
                "- Then the ORDER BY clause is used to order the rows arbitrarily\n",
                "- Then EXCEPT is used to remove rows from the Employees table that exist in the Sales.Customers table based on the country, region, and city\n",
                "- The final SELECT statement retrieves the country, region and city from the EXCEPT\\_ALL CTE"
            ],
            "metadata": {
                "azdata_cell_guid": "43a08f59-950b-4c84-9b47-1fcafcf6c324"
            },
            "attachments": {}
        },
        {
            "cell_type": "code",
            "source": [
                "USE Northwinds2022TSQLV7;\r\n",
                "WITH EXCEPT_ALL\r\n",
                "AS\r\n",
                "(\r\n",
                "  SELECT\r\n",
                "    ROW_NUMBER()\r\n",
                "      OVER(PARTITION BY EmployeeCountry, EmployeeRegion, EmployeeCity\r\n",
                "           ORDER     BY (SELECT 0)) AS rownum,\r\n",
                "    EmployeeCountry, EmployeeRegion, EmployeeCity\r\n",
                "  FROM HumanResources.[Employee]\r\n",
                "  EXCEPT\r\n",
                "  SELECT\r\n",
                "    ROW_NUMBER()\r\n",
                "      OVER(PARTITION BY CustomerCountry, CustomerRegion, CustomerCity\r\n",
                "           ORDER     BY (SELECT 0)),\r\n",
                "    CustomerCountry, CustomerRegion, CustomerCity\r\n",
                "  FROM Sales.[Customer]\r\n",
                ")\r\n",
                "SELECT EmployeeCountry, EmployeeRegion, EmployeeCity\r\n",
                "FROM EXCEPT_ALL;"
            ],
            "metadata": {
                "azdata_cell_guid": "cf06f7df-d73b-4c89-9bd7-271957d8809e",
                "language": "sql"
            },
            "outputs": [
                {
                    "output_type": "display_data",
                    "data": {
                        "text/html": "(3 rows affected)"
                    },
                    "metadata": {}
                },
                {
                    "output_type": "display_data",
                    "data": {
                        "text/html": "Total execution time: 00:00:00.015"
                    },
                    "metadata": {}
                },
                {
                    "output_type": "execute_result",
                    "execution_count": 9,
                    "data": {
                        "application/vnd.dataresource+json": {
                            "schema": {
                                "fields": [
                                    {
                                        "name": "EmployeeCountry"
                                    },
                                    {
                                        "name": "EmployeeRegion"
                                    },
                                    {
                                        "name": "EmployeeCity"
                                    }
                                ]
                            },
                            "data": [
                                {
                                    "EmployeeCountry": "USA",
                                    "EmployeeRegion": "WA",
                                    "EmployeeCity": "Redmond"
                                },
                                {
                                    "EmployeeCountry": "USA",
                                    "EmployeeRegion": "WA",
                                    "EmployeeCity": "Tacoma"
                                },
                                {
                                    "EmployeeCountry": "USA",
                                    "EmployeeRegion": "WA",
                                    "EmployeeCity": "Seattle"
                                }
                            ]
                        },
                        "text/html": "<table><tr><th>EmployeeCountry</th><th>EmployeeRegion</th><th>EmployeeCity</th></tr><tr><td>USA</td><td>WA</td><td>Redmond</td></tr><tr><td>USA</td><td>WA</td><td>Tacoma</td></tr><tr><td>USA</td><td>WA</td><td>Seattle</td></tr></table>"
                    },
                    "metadata": {}
                }
            ],
            "execution_count": 9
        },
        {
            "cell_type": "markdown",
            "source": [
                "**Query 2**\n",
                "\n",
                "**Proposition:** Write a query to retrive the combinations of country, region, and city from Production.Suppliers table that are not in HR.Employees table but coincide with the entries in Sales.Customers table using the EXCEPT and INTERSECT operator\n",
                "\n",
                "**Tables:**\n",
                "\n",
                "- Production.Suppliers (Production.\\[Supplier\\])\n",
                "- HR.Employees (HumanResources.\\[Employee\\])\n",
                "- Sales.Customers (Sales.\\[Customer\\])\n",
                "\n",
                "**Columns:**\n",
                "\n",
                "- country (SupplierCountry/EmployeeCountry/CustomerCountry)\n",
                "- region (SupplierRegion/EmployeeRegion/CustomerRegion)\n",
                "- city (CustomerCountry/CustomerRegion/CustomerCity)\n",
                "\n",
                "**Predicate:**\n",
                "\n",
                "- EXCEPT operation is performed between the country, region, and city from Production.Suppliers and the HR.Employees table\n",
                "- Then INTERSECT between the results from the EXCEPT operation of the country, region, and city from the Sales.Customers table\n",
                "- The parentheses is used to specify the order of operations to ensure that EXCEPT is done before the INTERSECT operation. \n",
                "- The query results in the country, region, and city from the Productions.Suppliers table that are not in HR.Employees table but intersect with the Sales.Customers table"
            ],
            "metadata": {
                "azdata_cell_guid": "6c9558ff-182d-4398-987f-4041c872ae21"
            },
            "attachments": {}
        },
        {
            "cell_type": "code",
            "source": [
                "USE Northwinds2022TSQLV7;\r\n",
                "SELECT SupplierCountry, SupplierRegion, SupplierCity FROM Production.[Supplier]\r\n",
                "EXCEPT\r\n",
                "SELECT EmployeeCountry, EmployeeRegion, EmployeeCity FROM HumanResources.[Employee]\r\n",
                "INTERSECT\r\n",
                "SELECT CustomerCountry, CustomerRegion, CustomerCity FROM Sales.[Customer];\r\n",
                "\r\n",
                "(SELECT SupplierCountry, SupplierRegion, SupplierCity FROM Production.[Supplier]\r\n",
                " EXCEPT\r\n",
                " SELECT EmployeeCountry, EmployeeRegion, EmployeeCity FROM HumanResources.[Employee])\r\n",
                "INTERSECT\r\n",
                "SELECT CustomerCountry, CustomerRegion, CustomerCity FROM Sales.[Customer];"
            ],
            "metadata": {
                "azdata_cell_guid": "f0621a6a-ab69-4759-8851-f0f93dda0f27",
                "language": "sql"
            },
            "outputs": [
                {
                    "output_type": "display_data",
                    "data": {
                        "text/html": "(28 rows affected)"
                    },
                    "metadata": {}
                },
                {
                    "output_type": "display_data",
                    "data": {
                        "text/html": "(3 rows affected)"
                    },
                    "metadata": {}
                },
                {
                    "output_type": "display_data",
                    "data": {
                        "text/html": "Total execution time: 00:00:00.018"
                    },
                    "metadata": {}
                },
                {
                    "output_type": "execute_result",
                    "metadata": {},
                    "execution_count": 9,
                    "data": {
                        "application/vnd.dataresource+json": {
                            "schema": {
                                "fields": [
                                    {
                                        "name": "SupplierCountry"
                                    },
                                    {
                                        "name": "SupplierRegion"
                                    },
                                    {
                                        "name": "SupplierCity"
                                    }
                                ]
                            },
                            "data": [
                                {
                                    "SupplierCountry": "Australia",
                                    "SupplierRegion": "NSW",
                                    "SupplierCity": "Sydney"
                                },
                                {
                                    "SupplierCountry": "Australia",
                                    "SupplierRegion": "Victoria",
                                    "SupplierCity": "Melbourne"
                                },
                                {
                                    "SupplierCountry": "Brazil",
                                    "SupplierRegion": "NULL",
                                    "SupplierCity": "Sao Paulo"
                                },
                                {
                                    "SupplierCountry": "Canada",
                                    "SupplierRegion": "Québec",
                                    "SupplierCity": "Montréal"
                                },
                                {
                                    "SupplierCountry": "Canada",
                                    "SupplierRegion": "Québec",
                                    "SupplierCity": "Ste-Hyacinthe"
                                },
                                {
                                    "SupplierCountry": "Denmark",
                                    "SupplierRegion": "NULL",
                                    "SupplierCity": "Lyngby"
                                },
                                {
                                    "SupplierCountry": "Finland",
                                    "SupplierRegion": "NULL",
                                    "SupplierCity": "Lappeenranta"
                                },
                                {
                                    "SupplierCountry": "France",
                                    "SupplierRegion": "NULL",
                                    "SupplierCity": "Annecy"
                                },
                                {
                                    "SupplierCountry": "France",
                                    "SupplierRegion": "NULL",
                                    "SupplierCity": "Montceau"
                                },
                                {
                                    "SupplierCountry": "France",
                                    "SupplierRegion": "NULL",
                                    "SupplierCity": "Paris"
                                },
                                {
                                    "SupplierCountry": "Germany",
                                    "SupplierRegion": "NULL",
                                    "SupplierCity": "Berlin"
                                },
                                {
                                    "SupplierCountry": "Germany",
                                    "SupplierRegion": "NULL",
                                    "SupplierCity": "Cuxhaven"
                                },
                                {
                                    "SupplierCountry": "Germany",
                                    "SupplierRegion": "NULL",
                                    "SupplierCity": "Frankfurt"
                                },
                                {
                                    "SupplierCountry": "Italy",
                                    "SupplierRegion": "NULL",
                                    "SupplierCity": "Ravenna"
                                },
                                {
                                    "SupplierCountry": "Italy",
                                    "SupplierRegion": "NULL",
                                    "SupplierCity": "Salerno"
                                },
                                {
                                    "SupplierCountry": "Japan",
                                    "SupplierRegion": "NULL",
                                    "SupplierCity": "Osaka"
                                },
                                {
                                    "SupplierCountry": "Japan",
                                    "SupplierRegion": "NULL",
                                    "SupplierCity": "Tokyo"
                                },
                                {
                                    "SupplierCountry": "Netherlands",
                                    "SupplierRegion": "NULL",
                                    "SupplierCity": "Zaandam"
                                },
                                {
                                    "SupplierCountry": "Norway",
                                    "SupplierRegion": "NULL",
                                    "SupplierCity": "Sandvika"
                                },
                                {
                                    "SupplierCountry": "Singapore",
                                    "SupplierRegion": "NULL",
                                    "SupplierCity": "Singapore"
                                },
                                {
                                    "SupplierCountry": "Spain",
                                    "SupplierRegion": "Asturias",
                                    "SupplierCity": "Oviedo"
                                },
                                {
                                    "SupplierCountry": "Sweden",
                                    "SupplierRegion": "NULL",
                                    "SupplierCity": "Göteborg"
                                },
                                {
                                    "SupplierCountry": "Sweden",
                                    "SupplierRegion": "NULL",
                                    "SupplierCity": "Stockholm"
                                },
                                {
                                    "SupplierCountry": "UK",
                                    "SupplierRegion": "NULL",
                                    "SupplierCity": "Manchester"
                                },
                                {
                                    "SupplierCountry": "USA",
                                    "SupplierRegion": "LA",
                                    "SupplierCity": "New Orleans"
                                },
                                {
                                    "SupplierCountry": "USA",
                                    "SupplierRegion": "MA",
                                    "SupplierCity": "Boston"
                                },
                                {
                                    "SupplierCountry": "USA",
                                    "SupplierRegion": "MI",
                                    "SupplierCity": "Ann Arbor"
                                },
                                {
                                    "SupplierCountry": "USA",
                                    "SupplierRegion": "OR",
                                    "SupplierCity": "Bend"
                                }
                            ]
                        },
                        "text/html": [
                            "<table>",
                            "<tr><th>SupplierCountry</th><th>SupplierRegion</th><th>SupplierCity</th></tr>",
                            "<tr><td>Australia</td><td>NSW</td><td>Sydney</td></tr>",
                            "<tr><td>Australia</td><td>Victoria</td><td>Melbourne</td></tr>",
                            "<tr><td>Brazil</td><td>NULL</td><td>Sao Paulo</td></tr>",
                            "<tr><td>Canada</td><td>Québec</td><td>Montréal</td></tr>",
                            "<tr><td>Canada</td><td>Québec</td><td>Ste-Hyacinthe</td></tr>",
                            "<tr><td>Denmark</td><td>NULL</td><td>Lyngby</td></tr>",
                            "<tr><td>Finland</td><td>NULL</td><td>Lappeenranta</td></tr>",
                            "<tr><td>France</td><td>NULL</td><td>Annecy</td></tr>",
                            "<tr><td>France</td><td>NULL</td><td>Montceau</td></tr>",
                            "<tr><td>France</td><td>NULL</td><td>Paris</td></tr>",
                            "<tr><td>Germany</td><td>NULL</td><td>Berlin</td></tr>",
                            "<tr><td>Germany</td><td>NULL</td><td>Cuxhaven</td></tr>",
                            "<tr><td>Germany</td><td>NULL</td><td>Frankfurt</td></tr>",
                            "<tr><td>Italy</td><td>NULL</td><td>Ravenna</td></tr>",
                            "<tr><td>Italy</td><td>NULL</td><td>Salerno</td></tr>",
                            "<tr><td>Japan</td><td>NULL</td><td>Osaka</td></tr>",
                            "<tr><td>Japan</td><td>NULL</td><td>Tokyo</td></tr>",
                            "<tr><td>Netherlands</td><td>NULL</td><td>Zaandam</td></tr>",
                            "<tr><td>Norway</td><td>NULL</td><td>Sandvika</td></tr>",
                            "<tr><td>Singapore</td><td>NULL</td><td>Singapore</td></tr>",
                            "<tr><td>Spain</td><td>Asturias</td><td>Oviedo</td></tr>",
                            "<tr><td>Sweden</td><td>NULL</td><td>Göteborg</td></tr>",
                            "<tr><td>Sweden</td><td>NULL</td><td>Stockholm</td></tr>",
                            "<tr><td>UK</td><td>NULL</td><td>Manchester</td></tr>",
                            "<tr><td>USA</td><td>LA</td><td>New Orleans</td></tr>",
                            "<tr><td>USA</td><td>MA</td><td>Boston</td></tr>",
                            "<tr><td>USA</td><td>MI</td><td>Ann Arbor</td></tr>",
                            "<tr><td>USA</td><td>OR</td><td>Bend</td></tr>",
                            "</table>"
                        ]
                    }
                },
                {
                    "output_type": "execute_result",
                    "metadata": {},
                    "execution_count": 9,
                    "data": {
                        "application/vnd.dataresource+json": {
                            "schema": {
                                "fields": [
                                    {
                                        "name": "SupplierCountry"
                                    },
                                    {
                                        "name": "SupplierRegion"
                                    },
                                    {
                                        "name": "SupplierCity"
                                    }
                                ]
                            },
                            "data": [
                                {
                                    "SupplierCountry": "Canada",
                                    "SupplierRegion": "Québec",
                                    "SupplierCity": "Montréal"
                                },
                                {
                                    "SupplierCountry": "France",
                                    "SupplierRegion": "NULL",
                                    "SupplierCity": "Paris"
                                },
                                {
                                    "SupplierCountry": "Germany",
                                    "SupplierRegion": "NULL",
                                    "SupplierCity": "Berlin"
                                }
                            ]
                        },
                        "text/html": [
                            "<table>",
                            "<tr><th>SupplierCountry</th><th>SupplierRegion</th><th>SupplierCity</th></tr>",
                            "<tr><td>Canada</td><td>Québec</td><td>Montréal</td></tr>",
                            "<tr><td>France</td><td>NULL</td><td>Paris</td></tr>",
                            "<tr><td>Germany</td><td>NULL</td><td>Berlin</td></tr>",
                            "</table>"
                        ]
                    }
                }
            ],
            "execution_count": 9
        },
        {
            "cell_type": "markdown",
            "source": [
                "**Query 3**\n",
                "\n",
                "**Proposition:** Write a query to retrieve a list of employees from the Northwinds2022TSQLV7 database who do not have an entry in the audit history, and also provide the department information for each employee, defaulting to 'NA' if the department is not specified.\n",
                "\n",
                "**Tables:**\n",
                "\n",
                "- HumanResources.Employee\n",
                "- Triggered.AuditTriggeredEmployeeHistory\n",
                "- SystemVersioned.Employee\n",
                "\n",
                "**Columns:**\n",
                "\n",
                "- EmployeeId\n",
                "- EmployeeFirstName\n",
                "- EmployeeLastName\n",
                "- HireDate\n",
                "- Department\n",
                "\n",
                "**Predicate:**\n",
                "\n",
                "- The NonAuditEmployees Common Table Expression (CTE) creates a subset of employees that don't have corresponding entries in the audit history table. The LEFT JOIN where the AuditTriggeredEmployeeHistory table has no matching EmployeeId (indicated by A.EmployeeId IS NULL)\n",
                "- The main query selects the first name, last name, and hire date of the employees identified by the NonAuditEmployees CTE, then uses an INNER JOIN to ensure only the identified employee details are selected\n",
                "- A LEFT JOIN to the SystemVersioned.Employee table tries to find department information for these employees. If the department is not found (which can happen because of the left join), COALESCE is used to default the value to 'NA'\n",
                "- The ORDER BY clause ensures the resulting list is sorted alphabetically by the employee's last name and then by the first name"
            ],
            "metadata": {
                "azdata_cell_guid": "f9b11043-f36b-4de1-8b67-fb2281f4a66a"
            },
            "attachments": {}
        },
        {
            "cell_type": "code",
            "source": [
                "USE Northwinds2022TSQLV7;\r\n",
                "WITH NonAuditEmployees AS (\r\n",
                "    SELECT DISTINCT E.EmployeeId\r\n",
                "    FROM [HumanResources].[Employee] E\r\n",
                "    LEFT JOIN [Triggered].[AuditTriggeredEmployeeHistory] A ON E.EmployeeId = A.EmployeeId\r\n",
                "    WHERE A.EmployeeId IS NULL\r\n",
                ")\r\n",
                "SELECT\r\n",
                "    E.EmployeeFirstName,\r\n",
                "    E.EmployeeLastName,\r\n",
                "    E.HireDate,\r\n",
                "    COALESCE(SE.Department, 'NA') AS Department\r\n",
                "FROM\r\n",
                "    NonAuditEmployees NAE\r\n",
                "    INNER JOIN [HumanResources].[Employee] E ON E.EmployeeId = NAE.EmployeeId\r\n",
                "    LEFT JOIN [SystemVersioned].[Employee] SE ON SE.EmployeeId = E.EmployeeId\r\n",
                "ORDER BY\r\n",
                "    E.EmployeeLastName, \r\n",
                "    E.EmployeeFirstName;"
            ],
            "metadata": {
                "azdata_cell_guid": "9a73dcda-4124-4358-9cc0-86aa62dad1bb",
                "language": "sql"
            },
            "outputs": [
                {
                    "output_type": "display_data",
                    "data": {
                        "text/html": "(3 rows affected)"
                    },
                    "metadata": {}
                },
                {
                    "output_type": "display_data",
                    "data": {
                        "text/html": "Total execution time: 00:00:00.017"
                    },
                    "metadata": {}
                },
                {
                    "output_type": "execute_result",
                    "execution_count": 5,
                    "data": {
                        "application/vnd.dataresource+json": {
                            "schema": {
                                "fields": [
                                    {
                                        "name": "EmployeeFirstName"
                                    },
                                    {
                                        "name": "EmployeeLastName"
                                    },
                                    {
                                        "name": "HireDate"
                                    },
                                    {
                                        "name": "Department"
                                    }
                                ]
                            },
                            "data": [
                                {
                                    "EmployeeFirstName": "Maria",
                                    "EmployeeLastName": "Cameron",
                                    "HireDate": "2015-03-05",
                                    "Department": "NA"
                                },
                                {
                                    "EmployeeFirstName": "Patricia",
                                    "EmployeeLastName": "Doyle",
                                    "HireDate": "2015-11-15",
                                    "Department": "NA"
                                },
                                {
                                    "EmployeeFirstName": "Russell",
                                    "EmployeeLastName": "King",
                                    "HireDate": "2015-01-02",
                                    "Department": "NA"
                                }
                            ]
                        },
                        "text/html": "<table><tr><th>EmployeeFirstName</th><th>EmployeeLastName</th><th>HireDate</th><th>Department</th></tr><tr><td>Maria</td><td>Cameron</td><td>2015-03-05</td><td>NA</td></tr><tr><td>Patricia</td><td>Doyle</td><td>2015-11-15</td><td>NA</td></tr><tr><td>Russell</td><td>King</td><td>2015-01-02</td><td>NA</td></tr></table>"
                    },
                    "metadata": {}
                }
            ],
            "execution_count": 5
        },
        {
            "cell_type": "markdown",
            "source": [
                "### **Query 4**\n",
                "\n",
                "**Proposition:** Write a query that  provides a report that includes each department's name, the count of active employees in that department, and the average pay of those employees. Departments with no active employees will still be listed with a count of zero and an average pay of zero\n",
                "\n",
                "**Tables:**\n",
                "\n",
                "- HumanResources.EmployeePayHistory (aliased as ep)\n",
                "- HumanResources.EmployeeDepartmentHistory (aliased as edh)\n",
                "- HumanResources.Department (aliased as d)\n",
                "\n",
                "**Columns:**\n",
                "\n",
                "- edh.DepartmentID\n",
                "- ep.Rate\n",
                "- d.Name\n",
                "- edh.BusinessEntityID\n",
                "\n",
                "**Predicate:**\n",
                "\n",
                "- DepartmentPaySummary CTE calculates the average pay for active employees in each department by joining EmployeePayHistory and EmployeeDepartmentHistory on the common key BusinessEntityID and filtering on edh.EndDate IS NULL to include only current employee assignments\n",
                "- Department table to EmployeeDepartmentHistory on DepartmentID are joined to departments with their current employees.\n",
                "- LEFT JOIN to the DepartmentPaySummary includes the average pay data in the results\n",
                "- The COALESCE function ensures that departments without pay data (due to having no active employees) show an average pay of zero rather than null.\n",
                "- The WHERE edh.EndDate IS NULL condition makes sure that only current employees are considered\n",
                "- The GROUP BY clause groups the results by department name and average pay\n",
                "- The ORDER BY clause sorts the results first by the number of employees in descending order and then by average pay in descending order"
            ],
            "metadata": {
                "azdata_cell_guid": "85644358-4973-4868-8fef-8d7bee716bbe"
            },
            "attachments": {}
        },
        {
            "cell_type": "code",
            "source": [
                "USE AdventureWorks2017;\r\n",
                "WITH DepartmentPaySummary AS (\r\n",
                "    SELECT\r\n",
                "        edh.DepartmentID,\r\n",
                "        AVG(ep.Rate) AS AveragePay \r\n",
                "    FROM\r\n",
                "        HumanResources.EmployeePayHistory ep\r\n",
                "        INNER JOIN HumanResources.EmployeeDepartmentHistory edh ON ep.BusinessEntityID = edh.BusinessEntityID\r\n",
                "    WHERE\r\n",
                "        edh.EndDate IS NULL\r\n",
                "    GROUP BY\r\n",
                "        edh.DepartmentID\r\n",
                ")\r\n",
                "SELECT\r\n",
                "    d.Name AS DepartmentName,\r\n",
                "    COUNT(edh.BusinessEntityID) AS NumberOfEmployees,\r\n",
                "    COALESCE(dps.AveragePay, 0) AS AverageDepartmentPay\r\n",
                "FROM\r\n",
                "    HumanResources.Department d\r\n",
                "    INNER JOIN HumanResources.EmployeeDepartmentHistory edh ON d.DepartmentID = edh.DepartmentID\r\n",
                "    LEFT JOIN DepartmentPaySummary dps ON d.DepartmentID = dps.DepartmentID\r\n",
                "WHERE\r\n",
                "    edh.EndDate IS NULL\r\n",
                "GROUP BY\r\n",
                "    d.Name,\r\n",
                "    dps.AveragePay\r\n",
                "ORDER BY\r\n",
                "    NumberOfEmployees DESC, \r\n",
                "    AverageDepartmentPay DESC;\r\n",
                ""
            ],
            "metadata": {
                "azdata_cell_guid": "7e6bf70c-0e1a-455e-b54f-d0dc567546e0",
                "language": "sql"
            },
            "outputs": [
                {
                    "output_type": "display_data",
                    "data": {
                        "text/html": "(16 rows affected)"
                    },
                    "metadata": {}
                },
                {
                    "output_type": "display_data",
                    "data": {
                        "text/html": "Total execution time: 00:00:00.016"
                    },
                    "metadata": {}
                },
                {
                    "output_type": "execute_result",
                    "execution_count": 8,
                    "data": {
                        "application/vnd.dataresource+json": {
                            "schema": {
                                "fields": [
                                    {
                                        "name": "DepartmentName"
                                    },
                                    {
                                        "name": "NumberOfEmployees"
                                    },
                                    {
                                        "name": "AverageDepartmentPay"
                                    }
                                ]
                            },
                            "data": [
                                {
                                    "DepartmentName": "Production",
                                    "NumberOfEmployees": "179",
                                    "AverageDepartmentPay": "13.5537"
                                },
                                {
                                    "DepartmentName": "Sales",
                                    "NumberOfEmployees": "18",
                                    "AverageDepartmentPay": "29.9719"
                                },
                                {
                                    "DepartmentName": "Purchasing",
                                    "NumberOfEmployees": "12",
                                    "AverageDepartmentPay": "18.0202"
                                },
                                {
                                    "DepartmentName": "Information Services",
                                    "NumberOfEmployees": "10",
                                    "AverageDepartmentPay": "34.1586"
                                },
                                {
                                    "DepartmentName": "Finance",
                                    "NumberOfEmployees": "10",
                                    "AverageDepartmentPay": "23.935"
                                },
                                {
                                    "DepartmentName": "Marketing",
                                    "NumberOfEmployees": "9",
                                    "AverageDepartmentPay": "18.4318"
                                },
                                {
                                    "DepartmentName": "Facilities and Maintenance",
                                    "NumberOfEmployees": "7",
                                    "AverageDepartmentPay": "13.0316"
                                },
                                {
                                    "DepartmentName": "Engineering",
                                    "NumberOfEmployees": "6",
                                    "AverageDepartmentPay": "40.1442"
                                },
                                {
                                    "DepartmentName": "Human Resources",
                                    "NumberOfEmployees": "6",
                                    "AverageDepartmentPay": "18.0248"
                                },
                                {
                                    "DepartmentName": "Production Control",
                                    "NumberOfEmployees": "6",
                                    "AverageDepartmentPay": "16.7746"
                                },
                                {
                                    "DepartmentName": "Quality Assurance",
                                    "NumberOfEmployees": "6",
                                    "AverageDepartmentPay": "15.4647"
                                },
                                {
                                    "DepartmentName": "Shipping and Receiving",
                                    "NumberOfEmployees": "6",
                                    "AverageDepartmentPay": "10.8718"
                                },
                                {
                                    "DepartmentName": "Document Control",
                                    "NumberOfEmployees": "5",
                                    "AverageDepartmentPay": "14.3884"
                                },
                                {
                                    "DepartmentName": "Research and Development",
                                    "NumberOfEmployees": "4",
                                    "AverageDepartmentPay": "43.6731"
                                },
                                {
                                    "DepartmentName": "Tool Design",
                                    "NumberOfEmployees": "4",
                                    "AverageDepartmentPay": "23.5054"
                                },
                                {
                                    "DepartmentName": "Executive",
                                    "NumberOfEmployees": "2",
                                    "AverageDepartmentPay": "68.3034"
                                }
                            ]
                        },
                        "text/html": "<table><tr><th>DepartmentName</th><th>NumberOfEmployees</th><th>AverageDepartmentPay</th></tr><tr><td>Production</td><td>179</td><td>13.5537</td></tr><tr><td>Sales</td><td>18</td><td>29.9719</td></tr><tr><td>Purchasing</td><td>12</td><td>18.0202</td></tr><tr><td>Information Services</td><td>10</td><td>34.1586</td></tr><tr><td>Finance</td><td>10</td><td>23.935</td></tr><tr><td>Marketing</td><td>9</td><td>18.4318</td></tr><tr><td>Facilities and Maintenance</td><td>7</td><td>13.0316</td></tr><tr><td>Engineering</td><td>6</td><td>40.1442</td></tr><tr><td>Human Resources</td><td>6</td><td>18.0248</td></tr><tr><td>Production Control</td><td>6</td><td>16.7746</td></tr><tr><td>Quality Assurance</td><td>6</td><td>15.4647</td></tr><tr><td>Shipping and Receiving</td><td>6</td><td>10.8718</td></tr><tr><td>Document Control</td><td>5</td><td>14.3884</td></tr><tr><td>Research and Development</td><td>4</td><td>43.6731</td></tr><tr><td>Tool Design</td><td>4</td><td>23.5054</td></tr><tr><td>Executive</td><td>2</td><td>68.3034</td></tr></table>"
                    },
                    "metadata": {}
                }
            ],
            "execution_count": 8
        },
        {
            "cell_type": "markdown",
            "source": [
                "### **Query 5**\n",
                "\n",
                "**Proposition:** Write a query that provides an overview of current departmental pay, listing each department along with the number of active employees and their average pay rate.\n",
                "\n",
                "**Tables:**\n",
                "\n",
                "- HumanResources.EmployeePayHistory\n",
                "- HumanResources.EmployeeDepartmentHistory\n",
                "- HumanResources.Department\n",
                "\n",
                "**Columns:**\n",
                "\n",
                "- DepartmentName\n",
                "- NumberOfEmployees\n",
                "- AverageDepartmentPay\n",
                "\n",
                "**Predicate:**\n",
                "\n",
                "- <span style=\"color: var(--vscode-foreground);\">Only including employee records where the EndDate is null in EmployeeDepartmentHistory, which means they are current employees and group it by the department name</span>\n",
                "- Then ordering by the number of employees in descending order, then by average department pay in descending order"
            ],
            "metadata": {
                "azdata_cell_guid": "aa873435-9680-4568-98e8-d4dd507a4168"
            },
            "attachments": {}
        },
        {
            "cell_type": "code",
            "source": [
                "USE AdventureWorks2017;\r\n",
                "WITH CurrentDepartmentPay AS (\r\n",
                "    SELECT\r\n",
                "        edh.BusinessEntityID,\r\n",
                "        edh.DepartmentID,\r\n",
                "        ep.Rate,\r\n",
                "        ROW_NUMBER() OVER(PARTITION BY ep.BusinessEntityID ORDER BY ep.RateChangeDate DESC) AS rn\r\n",
                "    FROM\r\n",
                "        HumanResources.EmployeePayHistory ep\r\n",
                "        INNER JOIN HumanResources.EmployeeDepartmentHistory edh ON ep.BusinessEntityID = edh.BusinessEntityID\r\n",
                "    WHERE\r\n",
                "        edh.EndDate IS NULL\r\n",
                ")\r\n",
                "SELECT\r\n",
                "    d.Name AS DepartmentName,\r\n",
                "    COUNT(distinct cdp.BusinessEntityID) AS NumberOfEmployees,\r\n",
                "    MAX(cdp.Rate) AS MaxSalary,\r\n",
                "    MIN(cdp.Rate) AS MinSalary\r\n",
                "FROM\r\n",
                "    HumanResources.Department d\r\n",
                "    INNER JOIN CurrentDepartmentPay cdp ON d.DepartmentID = cdp.DepartmentID\r\n",
                "    INNER JOIN HumanResources.Employee e ON cdp.BusinessEntityID = e.BusinessEntityID\r\n",
                "WHERE\r\n",
                "    cdp.rn = 1 \r\n",
                "GROUP BY\r\n",
                "    d.Name\r\n",
                "ORDER BY\r\n",
                "    NumberOfEmployees DESC;\r\n",
                ""
            ],
            "metadata": {
                "azdata_cell_guid": "1bd0a4b9-f903-4573-a40f-a86c09fa3253",
                "language": "sql"
            },
            "outputs": [
                {
                    "output_type": "display_data",
                    "data": {
                        "text/html": "(16 rows affected)"
                    },
                    "metadata": {}
                },
                {
                    "output_type": "display_data",
                    "data": {
                        "text/html": "Total execution time: 00:00:00.125"
                    },
                    "metadata": {}
                },
                {
                    "output_type": "execute_result",
                    "execution_count": 2,
                    "data": {
                        "application/vnd.dataresource+json": {
                            "schema": {
                                "fields": [
                                    {
                                        "name": "DepartmentName"
                                    },
                                    {
                                        "name": "NumberOfEmployees"
                                    },
                                    {
                                        "name": "MaxSalary"
                                    },
                                    {
                                        "name": "MinSalary"
                                    }
                                ]
                            },
                            "data": [
                                {
                                    "DepartmentName": "Production",
                                    "NumberOfEmployees": "179",
                                    "MaxSalary": "84.1346",
                                    "MinSalary": "9.50"
                                },
                                {
                                    "DepartmentName": "Sales",
                                    "NumberOfEmployees": "18",
                                    "MaxSalary": "72.1154",
                                    "MinSalary": "23.0769"
                                },
                                {
                                    "DepartmentName": "Purchasing",
                                    "NumberOfEmployees": "12",
                                    "MaxSalary": "30.00",
                                    "MinSalary": "12.75"
                                },
                                {
                                    "DepartmentName": "Finance",
                                    "NumberOfEmployees": "10",
                                    "MaxSalary": "43.2692",
                                    "MinSalary": "13.4615"
                                },
                                {
                                    "DepartmentName": "Information Services",
                                    "NumberOfEmployees": "10",
                                    "MaxSalary": "50.4808",
                                    "MinSalary": "27.4038"
                                },
                                {
                                    "DepartmentName": "Marketing",
                                    "NumberOfEmployees": "9",
                                    "MaxSalary": "37.50",
                                    "MinSalary": "13.4615"
                                },
                                {
                                    "DepartmentName": "Facilities and Maintenance",
                                    "NumberOfEmployees": "7",
                                    "MaxSalary": "24.0385",
                                    "MinSalary": "9.25"
                                },
                                {
                                    "DepartmentName": "Engineering",
                                    "NumberOfEmployees": "6",
                                    "MaxSalary": "63.4615",
                                    "MinSalary": "32.6923"
                                },
                                {
                                    "DepartmentName": "Human Resources",
                                    "NumberOfEmployees": "6",
                                    "MaxSalary": "27.1394",
                                    "MinSalary": "13.9423"
                                },
                                {
                                    "DepartmentName": "Quality Assurance",
                                    "NumberOfEmployees": "6",
                                    "MaxSalary": "28.8462",
                                    "MinSalary": "10.5769"
                                },
                                {
                                    "DepartmentName": "Production Control",
                                    "NumberOfEmployees": "6",
                                    "MaxSalary": "24.5192",
                                    "MinSalary": "16.00"
                                },
                                {
                                    "DepartmentName": "Shipping and Receiving",
                                    "NumberOfEmployees": "6",
                                    "MaxSalary": "19.2308",
                                    "MinSalary": "9.00"
                                },
                                {
                                    "DepartmentName": "Document Control",
                                    "NumberOfEmployees": "5",
                                    "MaxSalary": "17.7885",
                                    "MinSalary": "10.25"
                                },
                                {
                                    "DepartmentName": "Tool Design",
                                    "NumberOfEmployees": "4",
                                    "MaxSalary": "29.8462",
                                    "MinSalary": "25.00"
                                },
                                {
                                    "DepartmentName": "Research and Development",
                                    "NumberOfEmployees": "4",
                                    "MaxSalary": "50.4808",
                                    "MinSalary": "40.8654"
                                },
                                {
                                    "DepartmentName": "Executive",
                                    "NumberOfEmployees": "2",
                                    "MaxSalary": "125.50",
                                    "MinSalary": "60.0962"
                                }
                            ]
                        },
                        "text/html": "<table><tr><th>DepartmentName</th><th>NumberOfEmployees</th><th>MaxSalary</th><th>MinSalary</th></tr><tr><td>Production</td><td>179</td><td>84.1346</td><td>9.50</td></tr><tr><td>Sales</td><td>18</td><td>72.1154</td><td>23.0769</td></tr><tr><td>Purchasing</td><td>12</td><td>30.00</td><td>12.75</td></tr><tr><td>Finance</td><td>10</td><td>43.2692</td><td>13.4615</td></tr><tr><td>Information Services</td><td>10</td><td>50.4808</td><td>27.4038</td></tr><tr><td>Marketing</td><td>9</td><td>37.50</td><td>13.4615</td></tr><tr><td>Facilities and Maintenance</td><td>7</td><td>24.0385</td><td>9.25</td></tr><tr><td>Engineering</td><td>6</td><td>63.4615</td><td>32.6923</td></tr><tr><td>Human Resources</td><td>6</td><td>27.1394</td><td>13.9423</td></tr><tr><td>Quality Assurance</td><td>6</td><td>28.8462</td><td>10.5769</td></tr><tr><td>Production Control</td><td>6</td><td>24.5192</td><td>16.00</td></tr><tr><td>Shipping and Receiving</td><td>6</td><td>19.2308</td><td>9.00</td></tr><tr><td>Document Control</td><td>5</td><td>17.7885</td><td>10.25</td></tr><tr><td>Tool Design</td><td>4</td><td>29.8462</td><td>25.00</td></tr><tr><td>Research and Development</td><td>4</td><td>50.4808</td><td>40.8654</td></tr><tr><td>Executive</td><td>2</td><td>125.50</td><td>60.0962</td></tr></table>"
                    },
                    "metadata": {}
                }
            ],
            "execution_count": 2
        },
        {
            "cell_type": "markdown",
            "source": [
                "### **Query 6**\n",
                "\n",
                "**Proposition:** Write a query that summarizes total sales by product category, including the total quantity sold and the total sales amount\n",
                "\n",
                "**Tables:**\n",
                "\n",
                "- Production.Product\n",
                "- Production.ProductSubcategory\n",
                "- Production.ProductCategory\n",
                "- Sales.SalesOrderDetail\n",
                "- Sales.SalesOrderHeader\n",
                "\n",
                "**Columns:** \n",
                "\n",
                "- ProductCategory \n",
                "- TotalQuantitySold \n",
                "- TotalSales\n",
                "\n",
                "**Predicate:**\n",
                "\n",
                "- Grouping by the name of the product category\n",
                "- Ordering by the total sales in descending order"
            ],
            "metadata": {
                "azdata_cell_guid": "6d7b84f7-a262-4e37-91f6-b1d15b67e274"
            },
            "attachments": {}
        },
        {
            "cell_type": "code",
            "source": [
                "USE AdventureWorks2017;\r\n",
                "SELECT\r\n",
                "    pc.Name AS ProductCategory,\r\n",
                "    SUM(sod.OrderQty) AS TotalQuantitySold,\r\n",
                "    SUM(sod.LineTotal) AS TotalSales\r\n",
                "FROM\r\n",
                "    Production.Product p\r\n",
                "    INNER JOIN Sales.SalesOrderDetail sod ON p.ProductID = sod.ProductID\r\n",
                "    INNER JOIN Production.ProductSubcategory ps ON p.ProductSubcategoryID = ps.ProductSubcategoryID\r\n",
                "    INNER JOIN Production.ProductCategory pc ON ps.ProductCategoryID = pc.ProductCategoryID\r\n",
                "    INNER JOIN Sales.SalesOrderHeader soh ON sod.SalesOrderID = soh.SalesOrderID\r\n",
                "GROUP BY\r\n",
                "    pc.Name\r\n",
                "ORDER BY\r\n",
                "    TotalSales DESC;"
            ],
            "metadata": {
                "azdata_cell_guid": "d0f223a8-524f-4336-82bb-bc20a41782d8",
                "language": "sql"
            },
            "outputs": [
                {
                    "output_type": "display_data",
                    "data": {
                        "text/html": "(4 rows affected)"
                    },
                    "metadata": {}
                },
                {
                    "output_type": "display_data",
                    "data": {
                        "text/html": "Total execution time: 00:00:00.297"
                    },
                    "metadata": {}
                },
                {
                    "output_type": "execute_result",
                    "execution_count": 3,
                    "data": {
                        "application/vnd.dataresource+json": {
                            "schema": {
                                "fields": [
                                    {
                                        "name": "ProductCategory"
                                    },
                                    {
                                        "name": "TotalQuantitySold"
                                    },
                                    {
                                        "name": "TotalSales"
                                    }
                                ]
                            },
                            "data": [
                                {
                                    "ProductCategory": "Bikes",
                                    "TotalQuantitySold": "90268",
                                    "TotalSales": "94651172.704731"
                                },
                                {
                                    "ProductCategory": "Components",
                                    "TotalQuantitySold": "49044",
                                    "TotalSales": "11802593.286430"
                                },
                                {
                                    "ProductCategory": "Clothing",
                                    "TotalQuantitySold": "73670",
                                    "TotalSales": "2120542.524801"
                                },
                                {
                                    "ProductCategory": "Accessories",
                                    "TotalQuantitySold": "61932",
                                    "TotalSales": "1272072.883926"
                                }
                            ]
                        },
                        "text/html": "<table><tr><th>ProductCategory</th><th>TotalQuantitySold</th><th>TotalSales</th></tr><tr><td>Bikes</td><td>90268</td><td>94651172.704731</td></tr><tr><td>Components</td><td>49044</td><td>11802593.286430</td></tr><tr><td>Clothing</td><td>73670</td><td>2120542.524801</td></tr><tr><td>Accessories</td><td>61932</td><td>1272072.883926</td></tr></table>"
                    },
                    "metadata": {}
                }
            ],
            "execution_count": 3
        },
        {
            "cell_type": "markdown",
            "source": [
                "### **Query 7**\n",
                "\n",
                "**Proposition:** Write a query that <span style=\"color: var(--vscode-foreground);\">classifies customers as 'Individual', 'Store', or 'Other' and summarizes the number of orders and total sales amount for each customer type.</span>\n",
                "\n",
                "**Tables:**\n",
                "\n",
                "- Sales.Customer\n",
                "- Sales.SalesOrderHeader\n",
                "- Sales.SalesOrderDetail\n",
                "\n",
                "**Columns:**\n",
                "\n",
                "- CustomerType\n",
                "- NumberOfOrders \n",
                "- TotalSalesAmount\n",
                "\n",
                "**Predicate:**\n",
                "\n",
                "- Grouping by the customer type\n",
                "- Ordering by the total sales amount in descending order"
            ],
            "metadata": {
                "azdata_cell_guid": "5e399630-7875-4aeb-91fa-9b4240ac7623"
            },
            "attachments": {}
        },
        {
            "cell_type": "code",
            "source": [
                "USE AdventureWorks2017;\r\n",
                "SELECT\r\n",
                "    CASE\r\n",
                "        WHEN C.PersonID IS NOT NULL THEN 'Individual'\r\n",
                "        WHEN C.StoreID IS NOT NULL THEN 'Store'\r\n",
                "        ELSE 'Other'\r\n",
                "    END AS CustomerType,\r\n",
                "    COUNT(DISTINCT SOH.SalesOrderID) AS NumberOfOrders,\r\n",
                "    SUM(SOD.LineTotal) AS TotalSalesAmount\r\n",
                "FROM\r\n",
                "    Sales.Customer AS C\r\n",
                "    INNER JOIN Sales.SalesOrderHeader AS SOH ON C.CustomerID = SOH.CustomerID\r\n",
                "    INNER JOIN Sales.SalesOrderDetail AS SOD ON SOH.SalesOrderID = SOD.SalesOrderID\r\n",
                "GROUP BY\r\n",
                "    CASE\r\n",
                "        WHEN C.PersonID IS NOT NULL THEN 'Individual'\r\n",
                "        WHEN C.StoreID IS NOT NULL THEN 'Store'\r\n",
                "        ELSE 'Other'\r\n",
                "    END\r\n",
                "ORDER BY\r\n",
                "    TotalSalesAmount DESC;\r\n",
                ""
            ],
            "metadata": {
                "azdata_cell_guid": "f753c4c3-5259-46f6-9aaa-1a92f669d7eb",
                "language": "sql"
            },
            "outputs": [
                {
                    "output_type": "display_data",
                    "data": {
                        "text/html": "(1 row affected)"
                    },
                    "metadata": {}
                },
                {
                    "output_type": "display_data",
                    "data": {
                        "text/html": "Total execution time: 00:00:00.270"
                    },
                    "metadata": {}
                },
                {
                    "output_type": "execute_result",
                    "execution_count": 7,
                    "data": {
                        "application/vnd.dataresource+json": {
                            "schema": {
                                "fields": [
                                    {
                                        "name": "CustomerType"
                                    },
                                    {
                                        "name": "NumberOfOrders"
                                    },
                                    {
                                        "name": "TotalSalesAmount"
                                    }
                                ]
                            },
                            "data": [
                                {
                                    "CustomerType": "Individual",
                                    "NumberOfOrders": "31465",
                                    "TotalSalesAmount": "109846381.399888"
                                }
                            ]
                        },
                        "text/html": "<table><tr><th>CustomerType</th><th>NumberOfOrders</th><th>TotalSalesAmount</th></tr><tr><td>Individual</td><td>31465</td><td>109846381.399888</td></tr></table>"
                    },
                    "metadata": {}
                }
            ],
            "execution_count": 7
        },
        {
            "cell_type": "markdown",
            "source": [
                "### **Query 8**\n",
                "\n",
                "**Proposition:**\n",
                "\n",
                "The query calculates the number of orders, total sales amount, and average discount applied for each sales territory\n",
                "\n",
                "**Tables:**\n",
                "\n",
                "- Sales.SalesOrderHeader\n",
                "- Sales.SalesOrderDetail\n",
                "- Sales.SalesTerritory\n",
                "\n",
                "**Columns:**\n",
                "\n",
                "- TerritoryName  \n",
                "- NumberOfOrders  \n",
                "- TotalSalesAmount \n",
                "- AverageDiscount \n",
                "\n",
                "**Predicate:**\n",
                "\n",
                "- Grouping by sales territory name\n",
                "- Ordering by the total sales amount in descending order"
            ],
            "metadata": {
                "azdata_cell_guid": "9f11cd44-6351-4d92-abf4-b4be35b7ad8d"
            },
            "attachments": {}
        },
        {
            "cell_type": "code",
            "source": [
                "USE AdventureWorks2017;\r\n",
                "SELECT\r\n",
                "    ST.Name AS TerritoryName,\r\n",
                "    COUNT(DISTINCT SOH.SalesOrderID) AS NumberOfOrders,\r\n",
                "    SUM(SOD.LineTotal) AS TotalSalesAmount,\r\n",
                "    AVG(SOD.UnitPriceDiscount) AS AverageDiscount\r\n",
                "FROM\r\n",
                "    Sales.SalesOrderHeader AS SOH\r\n",
                "    INNER JOIN Sales.SalesOrderDetail AS SOD ON SOH.SalesOrderID = SOD.SalesOrderID\r\n",
                "    INNER JOIN Sales.SalesTerritory AS ST ON SOH.TerritoryID = ST.TerritoryID\r\n",
                "GROUP BY\r\n",
                "    ST.Name\r\n",
                "ORDER BY\r\n",
                "    TotalSalesAmount DESC;\r\n",
                ""
            ],
            "metadata": {
                "azdata_cell_guid": "51d15539-5a02-478b-844f-513802c497c0",
                "language": "sql"
            },
            "outputs": [
                {
                    "output_type": "display_data",
                    "data": {
                        "text/html": "(10 rows affected)"
                    },
                    "metadata": {}
                },
                {
                    "output_type": "display_data",
                    "data": {
                        "text/html": "Total execution time: 00:00:00.326"
                    },
                    "metadata": {}
                },
                {
                    "output_type": "execute_result",
                    "execution_count": 5,
                    "data": {
                        "application/vnd.dataresource+json": {
                            "schema": {
                                "fields": [
                                    {
                                        "name": "TerritoryName"
                                    },
                                    {
                                        "name": "NumberOfOrders"
                                    },
                                    {
                                        "name": "TotalSalesAmount"
                                    },
                                    {
                                        "name": "AverageDiscount"
                                    }
                                ]
                            },
                            "data": [
                                {
                                    "TerritoryName": "Southwest",
                                    "NumberOfOrders": "6224",
                                    "TotalSalesAmount": "24184609.600810",
                                    "AverageDiscount": "0.0026"
                                },
                                {
                                    "TerritoryName": "Canada",
                                    "NumberOfOrders": "4067",
                                    "TotalSalesAmount": "16355770.454862",
                                    "AverageDiscount": "0.0028"
                                },
                                {
                                    "TerritoryName": "Northwest",
                                    "NumberOfOrders": "4594",
                                    "TotalSalesAmount": "16084942.547585",
                                    "AverageDiscount": "0.0031"
                                },
                                {
                                    "TerritoryName": "Australia",
                                    "NumberOfOrders": "6843",
                                    "TotalSalesAmount": "10655335.959317",
                                    "AverageDiscount": "0.0014"
                                },
                                {
                                    "TerritoryName": "Central",
                                    "NumberOfOrders": "385",
                                    "TotalSalesAmount": "7909009.005872",
                                    "AverageDiscount": "0.0053"
                                },
                                {
                                    "TerritoryName": "Southeast",
                                    "NumberOfOrders": "486",
                                    "TotalSalesAmount": "7879655.072151",
                                    "AverageDiscount": "0.005"
                                },
                                {
                                    "TerritoryName": "United Kingdom",
                                    "NumberOfOrders": "3219",
                                    "TotalSalesAmount": "7670721.035475",
                                    "AverageDiscount": "0.0021"
                                },
                                {
                                    "TerritoryName": "France",
                                    "NumberOfOrders": "2672",
                                    "TotalSalesAmount": "7251555.646926",
                                    "AverageDiscount": "0.0023"
                                },
                                {
                                    "TerritoryName": "Northeast",
                                    "NumberOfOrders": "352",
                                    "TotalSalesAmount": "6939374.481005",
                                    "AverageDiscount": "0.0036"
                                },
                                {
                                    "TerritoryName": "Germany",
                                    "NumberOfOrders": "2623",
                                    "TotalSalesAmount": "4915407.595885",
                                    "AverageDiscount": "0.0026"
                                }
                            ]
                        },
                        "text/html": "<table><tr><th>TerritoryName</th><th>NumberOfOrders</th><th>TotalSalesAmount</th><th>AverageDiscount</th></tr><tr><td>Southwest</td><td>6224</td><td>24184609.600810</td><td>0.0026</td></tr><tr><td>Canada</td><td>4067</td><td>16355770.454862</td><td>0.0028</td></tr><tr><td>Northwest</td><td>4594</td><td>16084942.547585</td><td>0.0031</td></tr><tr><td>Australia</td><td>6843</td><td>10655335.959317</td><td>0.0014</td></tr><tr><td>Central</td><td>385</td><td>7909009.005872</td><td>0.0053</td></tr><tr><td>Southeast</td><td>486</td><td>7879655.072151</td><td>0.005</td></tr><tr><td>United Kingdom</td><td>3219</td><td>7670721.035475</td><td>0.0021</td></tr><tr><td>France</td><td>2672</td><td>7251555.646926</td><td>0.0023</td></tr><tr><td>Northeast</td><td>352</td><td>6939374.481005</td><td>0.0036</td></tr><tr><td>Germany</td><td>2623</td><td>4915407.595885</td><td>0.0026</td></tr></table>"
                    },
                    "metadata": {}
                }
            ],
            "execution_count": 5
        },
        {
            "cell_type": "markdown",
            "source": [
                "### **Query 9**\n",
                "\n",
                "**Proposition:** Write a query that <span style=\"color: var(--vscode-foreground);\">provides a summary of purchases from vendors, including the number of purchase orders, total quantity ordered, and average unit price of items ordered</span>\n",
                "\n",
                "**Tables:**\n",
                "\n",
                "- Purchasing.PurchaseOrderHeader\n",
                "- Purchasing.PurchaseOrderDetail\n",
                "- Purchasing.Vendor\n",
                "\n",
                "**Columns:**\n",
                "\n",
                "- VendorName (from Purchasing.Vendor)\n",
                "- NumberOfPurchaseOrders (the count of distinct purchase order IDs in Purchasing.PurchaseOrderHeader)\n",
                "- TotalQuantityOrdered (the sum of order quantity in Purchasing.PurchaseOrderDetail)\n",
                "- AverageUnitPrice (the average of unit price in Purchasing.PurchaseOrderDetail)\n",
                "\n",
                "**Predicate:**\n",
                "\n",
                "- Grouping by vendor name\n",
                "- Ordering by the total quantity ordered in descending order"
            ],
            "metadata": {
                "azdata_cell_guid": "6ef7654a-4682-4ffa-9d32-941e6683551e"
            },
            "attachments": {}
        },
        {
            "cell_type": "code",
            "source": [
                "USE AdventureWorks2017;\r\n",
                "SELECT\r\n",
                "    V.Name AS VendorName,\r\n",
                "    COUNT(DISTINCT POH.PurchaseOrderID) AS NumberOfPurchaseOrders,\r\n",
                "    SUM(POD.OrderQty) AS TotalQuantityOrdered,\r\n",
                "    AVG(POD.UnitPrice) AS AverageUnitPrice\r\n",
                "FROM\r\n",
                "    Purchasing.PurchaseOrderHeader AS POH\r\n",
                "    INNER JOIN Purchasing.PurchaseOrderDetail AS POD ON POH.PurchaseOrderID = POD.PurchaseOrderID\r\n",
                "    INNER JOIN Purchasing.Vendor AS V ON POH.VendorID = V.BusinessEntityID\r\n",
                "GROUP BY\r\n",
                "    V.Name\r\n",
                "ORDER BY\r\n",
                "    TotalQuantityOrdered DESC;\r\n",
                ""
            ],
            "metadata": {
                "azdata_cell_guid": "e727bb2e-df23-4746-a9d4-117b5077e82a",
                "language": "sql"
            },
            "outputs": [
                {
                    "output_type": "display_data",
                    "data": {
                        "text/html": "(86 rows affected)"
                    },
                    "metadata": {}
                },
                {
                    "output_type": "display_data",
                    "data": {
                        "text/html": "Total execution time: 00:00:00.143"
                    },
                    "metadata": {}
                },
                {
                    "output_type": "execute_result",
                    "execution_count": 6,
                    "data": {
                        "application/vnd.dataresource+json": {
                            "schema": {
                                "fields": [
                                    {
                                        "name": "VendorName"
                                    },
                                    {
                                        "name": "NumberOfPurchaseOrders"
                                    },
                                    {
                                        "name": "TotalQuantityOrdered"
                                    },
                                    {
                                        "name": "AverageUnitPrice"
                                    }
                                ]
                            },
                            "data": [
                                {
                                    "VendorName": "SUPERSALES INC.",
                                    "NumberOfPurchaseOrders": "50",
                                    "TotalQuantityOrdered": "125000",
                                    "AverageUnitPrice": "0.21"
                                },
                                {
                                    "VendorName": "Custom Frames, Inc.",
                                    "NumberOfPurchaseOrders": "51",
                                    "TotalQuantityOrdered": "115500",
                                    "AverageUnitPrice": "10.3072"
                                },
                                {
                                    "VendorName": "Chicago City Saddles",
                                    "NumberOfPurchaseOrders": "51",
                                    "TotalQuantityOrdered": "98450",
                                    "AverageUnitPrice": "30.7679"
                                },
                                {
                                    "VendorName": "Victory Bikes",
                                    "NumberOfPurchaseOrders": "50",
                                    "TotalQuantityOrdered": "79200",
                                    "AverageUnitPrice": "23.4491"
                                },
                                {
                                    "VendorName": "Professional Athletic Consultants",
                                    "NumberOfPurchaseOrders": "50",
                                    "TotalQuantityOrdered": "78100",
                                    "AverageUnitPrice": "39.1648"
                                },
                                {
                                    "VendorName": "Compete Enterprises, Inc",
                                    "NumberOfPurchaseOrders": "51",
                                    "TotalQuantityOrdered": "69300",
                                    "AverageUnitPrice": "22.6135"
                                },
                                {
                                    "VendorName": "Circuit Cycles",
                                    "NumberOfPurchaseOrders": "51",
                                    "TotalQuantityOrdered": "69300",
                                    "AverageUnitPrice": "4.235"
                                },
                                {
                                    "VendorName": "Compete, Inc.",
                                    "NumberOfPurchaseOrders": "51",
                                    "TotalQuantityOrdered": "68750",
                                    "AverageUnitPrice": "4.6074"
                                },
                                {
                                    "VendorName": "First Rate Bicycles",
                                    "NumberOfPurchaseOrders": "51",
                                    "TotalQuantityOrdered": "67650",
                                    "AverageUnitPrice": "30.8245"
                                },
                                {
                                    "VendorName": "Electronic Bike Repair & Supplies",
                                    "NumberOfPurchaseOrders": "51",
                                    "TotalQuantityOrdered": "67100",
                                    "AverageUnitPrice": "29.0614"
                                },
                                {
                                    "VendorName": "Proseware, Inc.",
                                    "NumberOfPurchaseOrders": "51",
                                    "TotalQuantityOrdered": "66000",
                                    "AverageUnitPrice": "35.567"
                                },
                                {
                                    "VendorName": "Jackson Authority",
                                    "NumberOfPurchaseOrders": "51",
                                    "TotalQuantityOrdered": "66000",
                                    "AverageUnitPrice": "38.6855"
                                },
                                {
                                    "VendorName": "Vision Cycles, Inc.",
                                    "NumberOfPurchaseOrders": "50",
                                    "TotalQuantityOrdered": "66000",
                                    "AverageUnitPrice": "38.087"
                                },
                                {
                                    "VendorName": "Sport Fan Co.",
                                    "NumberOfPurchaseOrders": "50",
                                    "TotalQuantityOrdered": "64350",
                                    "AverageUnitPrice": "37.632"
                                },
                                {
                                    "VendorName": "Competition Bike Training Systems",
                                    "NumberOfPurchaseOrders": "51",
                                    "TotalQuantityOrdered": "56100",
                                    "AverageUnitPrice": "25.725"
                                },
                                {
                                    "VendorName": "International Bicycles",
                                    "NumberOfPurchaseOrders": "51",
                                    "TotalQuantityOrdered": "56100",
                                    "AverageUnitPrice": "25.6357"
                                },
                                {
                                    "VendorName": "Crowley Sport",
                                    "NumberOfPurchaseOrders": "51",
                                    "TotalQuantityOrdered": "56100",
                                    "AverageUnitPrice": "39.8895"
                                },
                                {
                                    "VendorName": "Capital Road Cycles",
                                    "NumberOfPurchaseOrders": "51",
                                    "TotalQuantityOrdered": "56100",
                                    "AverageUnitPrice": "12.4267"
                                },
                                {
                                    "VendorName": "Greenwood Athletic Company",
                                    "NumberOfPurchaseOrders": "51",
                                    "TotalQuantityOrdered": "56100",
                                    "AverageUnitPrice": "39.8895"
                                },
                                {
                                    "VendorName": "Hill's Bicycle Service",
                                    "NumberOfPurchaseOrders": "51",
                                    "TotalQuantityOrdered": "56100",
                                    "AverageUnitPrice": "25.767"
                                },
                                {
                                    "VendorName": "Comfort Road Bicycles",
                                    "NumberOfPurchaseOrders": "51",
                                    "TotalQuantityOrdered": "56100",
                                    "AverageUnitPrice": "25.5202"
                                },
                                {
                                    "VendorName": "Vista Road Bikes",
                                    "NumberOfPurchaseOrders": "50",
                                    "TotalQuantityOrdered": "55000",
                                    "AverageUnitPrice": "34.4032"
                                },
                                {
                                    "VendorName": "Signature Cycles",
                                    "NumberOfPurchaseOrders": "50",
                                    "TotalQuantityOrdered": "55000",
                                    "AverageUnitPrice": "36.792"
                                },
                                {
                                    "VendorName": "Mitchell Sports",
                                    "NumberOfPurchaseOrders": "50",
                                    "TotalQuantityOrdered": "55000",
                                    "AverageUnitPrice": "39.8895"
                                },
                                {
                                    "VendorName": "Superior Bicycles",
                                    "NumberOfPurchaseOrders": "50",
                                    "TotalQuantityOrdered": "55000",
                                    "AverageUnitPrice": "82.8345"
                                },
                                {
                                    "VendorName": "Trikes, Inc.",
                                    "NumberOfPurchaseOrders": "50",
                                    "TotalQuantityOrdered": "55000",
                                    "AverageUnitPrice": "24.0502"
                                },
                                {
                                    "VendorName": "Expert Bike Co",
                                    "NumberOfPurchaseOrders": "51",
                                    "TotalQuantityOrdered": "33435",
                                    "AverageUnitPrice": "40.9438"
                                },
                                {
                                    "VendorName": "Inline Accessories",
                                    "NumberOfPurchaseOrders": "51",
                                    "TotalQuantityOrdered": "28050",
                                    "AverageUnitPrice": "62.9895"
                                },
                                {
                                    "VendorName": "Federal Sport",
                                    "NumberOfPurchaseOrders": "51",
                                    "TotalQuantityOrdered": "28050",
                                    "AverageUnitPrice": "2.3205"
                                },
                                {
                                    "VendorName": "Hybrid Bicycle Center",
                                    "NumberOfPurchaseOrders": "51",
                                    "TotalQuantityOrdered": "28050",
                                    "AverageUnitPrice": "40.9395"
                                },
                                {
                                    "VendorName": "Allenson Cycles",
                                    "NumberOfPurchaseOrders": "51",
                                    "TotalQuantityOrdered": "28050",
                                    "AverageUnitPrice": "16.086"
                                },
                                {
                                    "VendorName": "American Bikes",
                                    "NumberOfPurchaseOrders": "51",
                                    "TotalQuantityOrdered": "28050",
                                    "AverageUnitPrice": "37.086"
                                },
                                {
                                    "VendorName": "Bicycle Specialists",
                                    "NumberOfPurchaseOrders": "51",
                                    "TotalQuantityOrdered": "28050",
                                    "AverageUnitPrice": "62.9895"
                                },
                                {
                                    "VendorName": "Lakewood Bicycle",
                                    "NumberOfPurchaseOrders": "51",
                                    "TotalQuantityOrdered": "28050",
                                    "AverageUnitPrice": "10.3845"
                                },
                                {
                                    "VendorName": "First National Sport Co.",
                                    "NumberOfPurchaseOrders": "51",
                                    "TotalQuantityOrdered": "28050",
                                    "AverageUnitPrice": "3.6435"
                                },
                                {
                                    "VendorName": "Anderson's Custom Bikes",
                                    "NumberOfPurchaseOrders": "51",
                                    "TotalQuantityOrdered": "28050",
                                    "AverageUnitPrice": "26.5965"
                                },
                                {
                                    "VendorName": "International Sport Assoc.",
                                    "NumberOfPurchaseOrders": "51",
                                    "TotalQuantityOrdered": "28050",
                                    "AverageUnitPrice": "6.7515"
                                },
                                {
                                    "VendorName": "Hill Bicycle Center",
                                    "NumberOfPurchaseOrders": "51",
                                    "TotalQuantityOrdered": "28050",
                                    "AverageUnitPrice": "12.9675"
                                },
                                {
                                    "VendorName": "West Junction Cycles",
                                    "NumberOfPurchaseOrders": "50",
                                    "TotalQuantityOrdered": "27500",
                                    "AverageUnitPrice": "46.4205"
                                },
                                {
                                    "VendorName": "Sport Playground",
                                    "NumberOfPurchaseOrders": "50",
                                    "TotalQuantityOrdered": "27500",
                                    "AverageUnitPrice": "10.815"
                                },
                                {
                                    "VendorName": "Premier Sport, Inc.",
                                    "NumberOfPurchaseOrders": "50",
                                    "TotalQuantityOrdered": "27500",
                                    "AverageUnitPrice": "39.1965"
                                },
                                {
                                    "VendorName": "Integrated Sport Products",
                                    "NumberOfPurchaseOrders": "4",
                                    "TotalQuantityOrdered": "26730",
                                    "AverageUnitPrice": "35.217"
                                },
                                {
                                    "VendorName": "Fitness Association",
                                    "NumberOfPurchaseOrders": "1",
                                    "TotalQuantityOrdered": "20300",
                                    "AverageUnitPrice": "30.93"
                                },
                                {
                                    "VendorName": "Team Athletic Co.",
                                    "NumberOfPurchaseOrders": "1",
                                    "TotalQuantityOrdered": "18300",
                                    "AverageUnitPrice": "19.70"
                                },
                                {
                                    "VendorName": "Jeff's Sporting Goods",
                                    "NumberOfPurchaseOrders": "2",
                                    "TotalQuantityOrdered": "16300",
                                    "AverageUnitPrice": "2.88"
                                },
                                {
                                    "VendorName": "Green Lake Bike Company",
                                    "NumberOfPurchaseOrders": "2",
                                    "TotalQuantityOrdered": "12950",
                                    "AverageUnitPrice": "14.9911"
                                },
                                {
                                    "VendorName": "Trey Research",
                                    "NumberOfPurchaseOrders": "51",
                                    "TotalQuantityOrdered": "9600",
                                    "AverageUnitPrice": "54.4677"
                                },
                                {
                                    "VendorName": "Carlson Specialties",
                                    "NumberOfPurchaseOrders": "51",
                                    "TotalQuantityOrdered": "9300",
                                    "AverageUnitPrice": "54.6441"
                                },
                                {
                                    "VendorName": "Gardner Touring Cycles",
                                    "NumberOfPurchaseOrders": "51",
                                    "TotalQuantityOrdered": "6120",
                                    "AverageUnitPrice": "3.7905"
                                },
                                {
                                    "VendorName": "National Bike Association",
                                    "NumberOfPurchaseOrders": "50",
                                    "TotalQuantityOrdered": "6000",
                                    "AverageUnitPrice": "3.8482"
                                },
                                {
                                    "VendorName": "Chicago Rent-All",
                                    "NumberOfPurchaseOrders": "51",
                                    "TotalQuantityOrdered": "3060",
                                    "AverageUnitPrice": "9.198"
                                },
                                {
                                    "VendorName": "Varsity Sport Co.",
                                    "NumberOfPurchaseOrders": "50",
                                    "TotalQuantityOrdered": "3000",
                                    "AverageUnitPrice": "15.7395"
                                },
                                {
                                    "VendorName": "Morgan Bike Accessories",
                                    "NumberOfPurchaseOrders": "50",
                                    "TotalQuantityOrdered": "3000",
                                    "AverageUnitPrice": "6.9825"
                                },
                                {
                                    "VendorName": "Bike Satellite Inc.",
                                    "NumberOfPurchaseOrders": "51",
                                    "TotalQuantityOrdered": "2838",
                                    "AverageUnitPrice": "37.408"
                                },
                                {
                                    "VendorName": "Training Systems",
                                    "NumberOfPurchaseOrders": "50",
                                    "TotalQuantityOrdered": "2712",
                                    "AverageUnitPrice": "40.9845"
                                },
                                {
                                    "VendorName": "Beaumont Bikes",
                                    "NumberOfPurchaseOrders": "51",
                                    "TotalQuantityOrdered": "2640",
                                    "AverageUnitPrice": "38.563"
                                },
                                {
                                    "VendorName": "International Trek Center",
                                    "NumberOfPurchaseOrders": "1",
                                    "TotalQuantityOrdered": "1325",
                                    "AverageUnitPrice": "15.5971"
                                },
                                {
                                    "VendorName": "Bergeron Off-Roads",
                                    "NumberOfPurchaseOrders": "51",
                                    "TotalQuantityOrdered": "825",
                                    "AverageUnitPrice": "42.3662"
                                },
                                {
                                    "VendorName": "Mountain Works",
                                    "NumberOfPurchaseOrders": "50",
                                    "TotalQuantityOrdered": "822",
                                    "AverageUnitPrice": "43.7674"
                                },
                                {
                                    "VendorName": "Norstan Bike Hut",
                                    "NumberOfPurchaseOrders": "50",
                                    "TotalQuantityOrdered": "690",
                                    "AverageUnitPrice": "41.7393"
                                },
                                {
                                    "VendorName": "Cruger Bike Company",
                                    "NumberOfPurchaseOrders": "51",
                                    "TotalQuantityOrdered": "678",
                                    "AverageUnitPrice": "42.0451"
                                },
                                {
                                    "VendorName": "Aurora Bike Center",
                                    "NumberOfPurchaseOrders": "51",
                                    "TotalQuantityOrdered": "642",
                                    "AverageUnitPrice": "42.6119"
                                },
                                {
                                    "VendorName": "Pro Sport Industries",
                                    "NumberOfPurchaseOrders": "50",
                                    "TotalQuantityOrdered": "603",
                                    "AverageUnitPrice": "42.3525"
                                },
                                {
                                    "VendorName": "Advanced Bicycles",
                                    "NumberOfPurchaseOrders": "51",
                                    "TotalQuantityOrdered": "597",
                                    "AverageUnitPrice": "43.2056"
                                },
                                {
                                    "VendorName": "Leaf River Terrain",
                                    "NumberOfPurchaseOrders": "51",
                                    "TotalQuantityOrdered": "570",
                                    "AverageUnitPrice": "43.1496"
                                },
                                {
                                    "VendorName": "Inner City Bikes",
                                    "NumberOfPurchaseOrders": "51",
                                    "TotalQuantityOrdered": "561",
                                    "AverageUnitPrice": "44.0528"
                                },
                                {
                                    "VendorName": "Continental Pro Cycles",
                                    "NumberOfPurchaseOrders": "51",
                                    "TotalQuantityOrdered": "531",
                                    "AverageUnitPrice": "39.1305"
                                },
                                {
                                    "VendorName": "WestAmerica Bicycle Co.",
                                    "NumberOfPurchaseOrders": "50",
                                    "TotalQuantityOrdered": "528",
                                    "AverageUnitPrice": "42.9522"
                                },
                                {
                                    "VendorName": "Australia Bike Retailer",
                                    "NumberOfPurchaseOrders": "51",
                                    "TotalQuantityOrdered": "528",
                                    "AverageUnitPrice": "42.9522"
                                },
                                {
                                    "VendorName": "Reliance Fitness, Inc.",
                                    "NumberOfPurchaseOrders": "50",
                                    "TotalQuantityOrdered": "519",
                                    "AverageUnitPrice": "45.5118"
                                },
                                {
                                    "VendorName": "Speed Corporation",
                                    "NumberOfPurchaseOrders": "50",
                                    "TotalQuantityOrdered": "513",
                                    "AverageUnitPrice": "45.395"
                                },
                                {
                                    "VendorName": "Ready Rentals",
                                    "NumberOfPurchaseOrders": "50",
                                    "TotalQuantityOrdered": "495",
                                    "AverageUnitPrice": "43.2104"
                                },
                                {
                                    "VendorName": "G & K Bicycle Corp.",
                                    "NumberOfPurchaseOrders": "1",
                                    "TotalQuantityOrdered": "350",
                                    "AverageUnitPrice": "13.0842"
                                },
                                {
                                    "VendorName": "Lindell",
                                    "NumberOfPurchaseOrders": "50",
                                    "TotalQuantityOrdered": "300",
                                    "AverageUnitPrice": "16.3275"
                                },
                                {
                                    "VendorName": "Litware, Inc.",
                                    "NumberOfPurchaseOrders": "51",
                                    "TotalQuantityOrdered": "154",
                                    "AverageUnitPrice": "50.2634"
                                },
                                {
                                    "VendorName": "Business Equipment Center",
                                    "NumberOfPurchaseOrders": "51",
                                    "TotalQuantityOrdered": "153",
                                    "AverageUnitPrice": "50.2635"
                                },
                                {
                                    "VendorName": "Bloomington Multisport",
                                    "NumberOfPurchaseOrders": "51",
                                    "TotalQuantityOrdered": "153",
                                    "AverageUnitPrice": "48.762"
                                },
                                {
                                    "VendorName": "Wide World Importers",
                                    "NumberOfPurchaseOrders": "51",
                                    "TotalQuantityOrdered": "153",
                                    "AverageUnitPrice": "47.4705"
                                },
                                {
                                    "VendorName": "International",
                                    "NumberOfPurchaseOrders": "51",
                                    "TotalQuantityOrdered": "153",
                                    "AverageUnitPrice": "47.6805"
                                },
                                {
                                    "VendorName": "Burnett Road Warriors",
                                    "NumberOfPurchaseOrders": "51",
                                    "TotalQuantityOrdered": "153",
                                    "AverageUnitPrice": "34.188"
                                },
                                {
                                    "VendorName": "Consumer Cycles",
                                    "NumberOfPurchaseOrders": "51",
                                    "TotalQuantityOrdered": "153",
                                    "AverageUnitPrice": "19.9815"
                                },
                                {
                                    "VendorName": "American Bicycles and Wheels",
                                    "NumberOfPurchaseOrders": "51",
                                    "TotalQuantityOrdered": "153",
                                    "AverageUnitPrice": "57.0255"
                                },
                                {
                                    "VendorName": "Wood Fitness",
                                    "NumberOfPurchaseOrders": "50",
                                    "TotalQuantityOrdered": "150",
                                    "AverageUnitPrice": "41.916"
                                },
                                {
                                    "VendorName": "Metro Sport Equipment",
                                    "NumberOfPurchaseOrders": "50",
                                    "TotalQuantityOrdered": "150",
                                    "AverageUnitPrice": "38.157"
                                },
                                {
                                    "VendorName": "Midwest Sport, Inc.",
                                    "NumberOfPurchaseOrders": "50",
                                    "TotalQuantityOrdered": "150",
                                    "AverageUnitPrice": "44.2155"
                                },
                                {
                                    "VendorName": "Northern Bike Travel",
                                    "NumberOfPurchaseOrders": "50",
                                    "TotalQuantityOrdered": "150",
                                    "AverageUnitPrice": "12.3585"
                                }
                            ]
                        },
                        "text/html": "<table><tr><th>VendorName</th><th>NumberOfPurchaseOrders</th><th>TotalQuantityOrdered</th><th>AverageUnitPrice</th></tr><tr><td>SUPERSALES INC.</td><td>50</td><td>125000</td><td>0.21</td></tr><tr><td>Custom Frames, Inc.</td><td>51</td><td>115500</td><td>10.3072</td></tr><tr><td>Chicago City Saddles</td><td>51</td><td>98450</td><td>30.7679</td></tr><tr><td>Victory Bikes</td><td>50</td><td>79200</td><td>23.4491</td></tr><tr><td>Professional Athletic Consultants</td><td>50</td><td>78100</td><td>39.1648</td></tr><tr><td>Compete Enterprises, Inc</td><td>51</td><td>69300</td><td>22.6135</td></tr><tr><td>Circuit Cycles</td><td>51</td><td>69300</td><td>4.235</td></tr><tr><td>Compete, Inc.</td><td>51</td><td>68750</td><td>4.6074</td></tr><tr><td>First Rate Bicycles</td><td>51</td><td>67650</td><td>30.8245</td></tr><tr><td>Electronic Bike Repair &amp; Supplies</td><td>51</td><td>67100</td><td>29.0614</td></tr><tr><td>Proseware, Inc.</td><td>51</td><td>66000</td><td>35.567</td></tr><tr><td>Jackson Authority</td><td>51</td><td>66000</td><td>38.6855</td></tr><tr><td>Vision Cycles, Inc.</td><td>50</td><td>66000</td><td>38.087</td></tr><tr><td>Sport Fan Co.</td><td>50</td><td>64350</td><td>37.632</td></tr><tr><td>Competition Bike Training Systems</td><td>51</td><td>56100</td><td>25.725</td></tr><tr><td>International Bicycles</td><td>51</td><td>56100</td><td>25.6357</td></tr><tr><td>Crowley Sport</td><td>51</td><td>56100</td><td>39.8895</td></tr><tr><td>Capital Road Cycles</td><td>51</td><td>56100</td><td>12.4267</td></tr><tr><td>Greenwood Athletic Company</td><td>51</td><td>56100</td><td>39.8895</td></tr><tr><td>Hill&#39;s Bicycle Service</td><td>51</td><td>56100</td><td>25.767</td></tr><tr><td>Comfort Road Bicycles</td><td>51</td><td>56100</td><td>25.5202</td></tr><tr><td>Vista Road Bikes</td><td>50</td><td>55000</td><td>34.4032</td></tr><tr><td>Signature Cycles</td><td>50</td><td>55000</td><td>36.792</td></tr><tr><td>Mitchell Sports</td><td>50</td><td>55000</td><td>39.8895</td></tr><tr><td>Superior Bicycles</td><td>50</td><td>55000</td><td>82.8345</td></tr><tr><td>Trikes, Inc.</td><td>50</td><td>55000</td><td>24.0502</td></tr><tr><td>Expert Bike Co</td><td>51</td><td>33435</td><td>40.9438</td></tr><tr><td>Inline Accessories</td><td>51</td><td>28050</td><td>62.9895</td></tr><tr><td>Federal Sport</td><td>51</td><td>28050</td><td>2.3205</td></tr><tr><td>Hybrid Bicycle Center</td><td>51</td><td>28050</td><td>40.9395</td></tr><tr><td>Allenson Cycles</td><td>51</td><td>28050</td><td>16.086</td></tr><tr><td>American Bikes</td><td>51</td><td>28050</td><td>37.086</td></tr><tr><td>Bicycle Specialists</td><td>51</td><td>28050</td><td>62.9895</td></tr><tr><td>Lakewood Bicycle</td><td>51</td><td>28050</td><td>10.3845</td></tr><tr><td>First National Sport Co.</td><td>51</td><td>28050</td><td>3.6435</td></tr><tr><td>Anderson&#39;s Custom Bikes</td><td>51</td><td>28050</td><td>26.5965</td></tr><tr><td>International Sport Assoc.</td><td>51</td><td>28050</td><td>6.7515</td></tr><tr><td>Hill Bicycle Center</td><td>51</td><td>28050</td><td>12.9675</td></tr><tr><td>West Junction Cycles</td><td>50</td><td>27500</td><td>46.4205</td></tr><tr><td>Sport Playground</td><td>50</td><td>27500</td><td>10.815</td></tr><tr><td>Premier Sport, Inc.</td><td>50</td><td>27500</td><td>39.1965</td></tr><tr><td>Integrated Sport Products</td><td>4</td><td>26730</td><td>35.217</td></tr><tr><td>Fitness Association</td><td>1</td><td>20300</td><td>30.93</td></tr><tr><td>Team Athletic Co.</td><td>1</td><td>18300</td><td>19.70</td></tr><tr><td>Jeff&#39;s Sporting Goods</td><td>2</td><td>16300</td><td>2.88</td></tr><tr><td>Green Lake Bike Company</td><td>2</td><td>12950</td><td>14.9911</td></tr><tr><td>Trey Research</td><td>51</td><td>9600</td><td>54.4677</td></tr><tr><td>Carlson Specialties</td><td>51</td><td>9300</td><td>54.6441</td></tr><tr><td>Gardner Touring Cycles</td><td>51</td><td>6120</td><td>3.7905</td></tr><tr><td>National Bike Association</td><td>50</td><td>6000</td><td>3.8482</td></tr><tr><td>Chicago Rent-All</td><td>51</td><td>3060</td><td>9.198</td></tr><tr><td>Varsity Sport Co.</td><td>50</td><td>3000</td><td>15.7395</td></tr><tr><td>Morgan Bike Accessories</td><td>50</td><td>3000</td><td>6.9825</td></tr><tr><td>Bike Satellite Inc.</td><td>51</td><td>2838</td><td>37.408</td></tr><tr><td>Training Systems</td><td>50</td><td>2712</td><td>40.9845</td></tr><tr><td>Beaumont Bikes</td><td>51</td><td>2640</td><td>38.563</td></tr><tr><td>International Trek Center</td><td>1</td><td>1325</td><td>15.5971</td></tr><tr><td>Bergeron Off-Roads</td><td>51</td><td>825</td><td>42.3662</td></tr><tr><td>Mountain Works</td><td>50</td><td>822</td><td>43.7674</td></tr><tr><td>Norstan Bike Hut</td><td>50</td><td>690</td><td>41.7393</td></tr><tr><td>Cruger Bike Company</td><td>51</td><td>678</td><td>42.0451</td></tr><tr><td>Aurora Bike Center</td><td>51</td><td>642</td><td>42.6119</td></tr><tr><td>Pro Sport Industries</td><td>50</td><td>603</td><td>42.3525</td></tr><tr><td>Advanced Bicycles</td><td>51</td><td>597</td><td>43.2056</td></tr><tr><td>Leaf River Terrain</td><td>51</td><td>570</td><td>43.1496</td></tr><tr><td>Inner City Bikes</td><td>51</td><td>561</td><td>44.0528</td></tr><tr><td>Continental Pro Cycles</td><td>51</td><td>531</td><td>39.1305</td></tr><tr><td>WestAmerica Bicycle Co.</td><td>50</td><td>528</td><td>42.9522</td></tr><tr><td>Australia Bike Retailer</td><td>51</td><td>528</td><td>42.9522</td></tr><tr><td>Reliance Fitness, Inc.</td><td>50</td><td>519</td><td>45.5118</td></tr><tr><td>Speed Corporation</td><td>50</td><td>513</td><td>45.395</td></tr><tr><td>Ready Rentals</td><td>50</td><td>495</td><td>43.2104</td></tr><tr><td>G &amp; K Bicycle Corp.</td><td>1</td><td>350</td><td>13.0842</td></tr><tr><td>Lindell</td><td>50</td><td>300</td><td>16.3275</td></tr><tr><td>Litware, Inc.</td><td>51</td><td>154</td><td>50.2634</td></tr><tr><td>Business Equipment Center</td><td>51</td><td>153</td><td>50.2635</td></tr><tr><td>Bloomington Multisport</td><td>51</td><td>153</td><td>48.762</td></tr><tr><td>Wide World Importers</td><td>51</td><td>153</td><td>47.4705</td></tr><tr><td>International</td><td>51</td><td>153</td><td>47.6805</td></tr><tr><td>Burnett Road Warriors</td><td>51</td><td>153</td><td>34.188</td></tr><tr><td>Consumer Cycles</td><td>51</td><td>153</td><td>19.9815</td></tr><tr><td>American Bicycles and Wheels</td><td>51</td><td>153</td><td>57.0255</td></tr><tr><td>Wood Fitness</td><td>50</td><td>150</td><td>41.916</td></tr><tr><td>Metro Sport Equipment</td><td>50</td><td>150</td><td>38.157</td></tr><tr><td>Midwest Sport, Inc.</td><td>50</td><td>150</td><td>44.2155</td></tr><tr><td>Northern Bike Travel</td><td>50</td><td>150</td><td>12.3585</td></tr></table>"
                    },
                    "metadata": {}
                }
            ],
            "execution_count": 6
        },
        {
            "cell_type": "markdown",
            "source": [
                "### **Query 10**\n",
                "\n",
                "**Proposition:** Write a query to show the sales performance of each sales territory in terms of the total sales volume, the number of orders, and the average order size.\n",
                "\n",
                "**Tables:**\n",
                "\n",
                "- Sales.SalesOrderHeader\n",
                "- Sales.SalesTerritory\n",
                "\n",
                "**Columns:**\n",
                "\n",
                "- TerritoryName  \n",
                "- OrderCount \n",
                "- TotalSales \n",
                "- AverageOrderSize\n",
                "\n",
                "**Predicate:**\n",
                "\n",
                "- The query joins the SalesOrderHeader table with the SalesTerritory table to relate orders to their respective sales territories\n",
                "- Then results are grouped by the name of the territory\n",
                "- Orders are counted, and sales are totaled and averaged by territory\n",
                "- The results are ordered by the total sales in descending order to show the territories that have the highest sales volumes"
            ],
            "metadata": {
                "azdata_cell_guid": "2bfe5c92-25de-4f86-a0eb-9caa3b138631"
            },
            "attachments": {}
        },
        {
            "cell_type": "code",
            "source": [
                "USE AdventureWorks2017;\r\n",
                "SELECT\r\n",
                "    ST.Name AS TerritoryName,\r\n",
                "    COUNT(SOH.SalesOrderID) AS OrderCount,\r\n",
                "    SUM(SOH.TotalDue) AS TotalSales,\r\n",
                "    AVG(SOH.TotalDue) AS AverageOrderSize\r\n",
                "FROM\r\n",
                "    Sales.SalesOrderHeader SOH\r\n",
                "    INNER JOIN Sales.SalesTerritory ST ON SOH.TerritoryID = ST.TerritoryID\r\n",
                "GROUP BY\r\n",
                "    ST.Name\r\n",
                "ORDER BY\r\n",
                "    TotalSales DESC;\r\n",
                ""
            ],
            "metadata": {
                "azdata_cell_guid": "ff32f71e-d45e-4c3f-9972-e081f3716b0e",
                "language": "sql"
            },
            "outputs": [
                {
                    "output_type": "display_data",
                    "data": {
                        "text/html": "(10 rows affected)"
                    },
                    "metadata": {}
                },
                {
                    "output_type": "display_data",
                    "data": {
                        "text/html": "Total execution time: 00:00:00.035"
                    },
                    "metadata": {}
                },
                {
                    "output_type": "execute_result",
                    "execution_count": 10,
                    "data": {
                        "application/vnd.dataresource+json": {
                            "schema": {
                                "fields": [
                                    {
                                        "name": "TerritoryName"
                                    },
                                    {
                                        "name": "OrderCount"
                                    },
                                    {
                                        "name": "TotalSales"
                                    },
                                    {
                                        "name": "AverageOrderSize"
                                    }
                                ]
                            },
                            "data": [
                                {
                                    "TerritoryName": "Southwest",
                                    "OrderCount": "6224",
                                    "TotalSales": "27150594.5893",
                                    "AverageOrderSize": "4362.242"
                                },
                                {
                                    "TerritoryName": "Canada",
                                    "OrderCount": "4067",
                                    "TotalSales": "18398929.188",
                                    "AverageOrderSize": "4523.956"
                                },
                                {
                                    "TerritoryName": "Northwest",
                                    "OrderCount": "4594",
                                    "TotalSales": "18061660.371",
                                    "AverageOrderSize": "3931.576"
                                },
                                {
                                    "TerritoryName": "Australia",
                                    "OrderCount": "6843",
                                    "TotalSales": "11814376.0952",
                                    "AverageOrderSize": "1726.4907"
                                },
                                {
                                    "TerritoryName": "Central",
                                    "OrderCount": "385",
                                    "TotalSales": "8913299.2473",
                                    "AverageOrderSize": "23151.4266"
                                },
                                {
                                    "TerritoryName": "Southeast",
                                    "OrderCount": "486",
                                    "TotalSales": "8884099.3669",
                                    "AverageOrderSize": "18280.0398"
                                },
                                {
                                    "TerritoryName": "United Kingdom",
                                    "OrderCount": "3219",
                                    "TotalSales": "8574048.7082",
                                    "AverageOrderSize": "2663.5752"
                                },
                                {
                                    "TerritoryName": "France",
                                    "OrderCount": "2672",
                                    "TotalSales": "8119749.346",
                                    "AverageOrderSize": "3038.8283"
                                },
                                {
                                    "TerritoryName": "Northeast",
                                    "OrderCount": "352",
                                    "TotalSales": "7820209.6285",
                                    "AverageOrderSize": "22216.5046"
                                },
                                {
                                    "TerritoryName": "Germany",
                                    "OrderCount": "2623",
                                    "TotalSales": "5479819.5755",
                                    "AverageOrderSize": "2089.142"
                                }
                            ]
                        },
                        "text/html": "<table><tr><th>TerritoryName</th><th>OrderCount</th><th>TotalSales</th><th>AverageOrderSize</th></tr><tr><td>Southwest</td><td>6224</td><td>27150594.5893</td><td>4362.242</td></tr><tr><td>Canada</td><td>4067</td><td>18398929.188</td><td>4523.956</td></tr><tr><td>Northwest</td><td>4594</td><td>18061660.371</td><td>3931.576</td></tr><tr><td>Australia</td><td>6843</td><td>11814376.0952</td><td>1726.4907</td></tr><tr><td>Central</td><td>385</td><td>8913299.2473</td><td>23151.4266</td></tr><tr><td>Southeast</td><td>486</td><td>8884099.3669</td><td>18280.0398</td></tr><tr><td>United Kingdom</td><td>3219</td><td>8574048.7082</td><td>2663.5752</td></tr><tr><td>France</td><td>2672</td><td>8119749.346</td><td>3038.8283</td></tr><tr><td>Northeast</td><td>352</td><td>7820209.6285</td><td>22216.5046</td></tr><tr><td>Germany</td><td>2623</td><td>5479819.5755</td><td>2089.142</td></tr></table>"
                    },
                    "metadata": {}
                }
            ],
            "execution_count": 10
        },
        {
            "cell_type": "markdown",
            "source": [
                "### **Query 11**\n",
                "\n",
                "**Proposition:** <span style=\"color: var(--vscode-foreground);\">Write a query that aims to summarize the total number of purchase orders, the total quantity of items ordered, and the total cost of purchases for each vendor.</span>\n",
                "\n",
                "**Tables:**\n",
                "\n",
                "- Purchasing.PurchaseOrderDetail\n",
                "- Purchasing.PurchaseOrderHeader\n",
                "- Purchasing.Vendor\n",
                "\n",
                "**Columns:**\n",
                "\n",
                "- VendorName  \n",
                "- TotalPurchaseOrders  \n",
                "- TotalQuantity  \n",
                "- TotalCost  \n",
                "\n",
                "**Predicate:**\n",
                "\n",
                "- The query joins the PurchaseOrderDetail table with PurchaseOrderHeader and then with Vendor to categorize purchases and are grouped by the vendor name\n",
                "- It then counts the total number of purchase orders, sums the total quantity of items ordered, and calculates the total cost for each vendor and is put in descending order"
            ],
            "metadata": {
                "azdata_cell_guid": "1ab8d2d6-b03c-470a-b6cc-39d41a5eaf7c"
            },
            "attachments": {}
        },
        {
            "cell_type": "code",
            "source": [
                "USE AdventureWorks2017;\r\n",
                "\r\n",
                "SELECT\r\n",
                "    V.Name AS VendorName,\r\n",
                "    COUNT(POD.PurchaseOrderID) AS TotalPurchaseOrders,\r\n",
                "    SUM(POD.OrderQty) AS TotalQuantity,\r\n",
                "    SUM(POD.LineTotal) AS TotalCost\r\n",
                "FROM\r\n",
                "    Purchasing.PurchaseOrderDetail POD\r\n",
                "    INNER JOIN Purchasing.PurchaseOrderHeader POH ON POD.PurchaseOrderID = POH.PurchaseOrderID\r\n",
                "    INNER JOIN Purchasing.Vendor V ON POH.VendorID = V.BusinessEntityID\r\n",
                "GROUP BY\r\n",
                "    V.Name\r\n",
                "ORDER BY\r\n",
                "    TotalCost DESC;\r\n",
                ""
            ],
            "metadata": {
                "azdata_cell_guid": "6f421758-edb0-47ff-bb83-6c76573361e9",
                "language": "sql"
            },
            "outputs": [
                {
                    "output_type": "display_data",
                    "data": {
                        "text/html": "(86 rows affected)"
                    },
                    "metadata": {}
                },
                {
                    "output_type": "display_data",
                    "data": {
                        "text/html": "Total execution time: 00:00:00.042"
                    },
                    "metadata": {}
                },
                {
                    "output_type": "execute_result",
                    "execution_count": 11,
                    "data": {
                        "application/vnd.dataresource+json": {
                            "schema": {
                                "fields": [
                                    {
                                        "name": "VendorName"
                                    },
                                    {
                                        "name": "TotalPurchaseOrders"
                                    },
                                    {
                                        "name": "TotalQuantity"
                                    },
                                    {
                                        "name": "TotalCost"
                                    }
                                ]
                            },
                            "data": [
                                {
                                    "VendorName": "Superior Bicycles",
                                    "TotalPurchaseOrders": "100",
                                    "TotalQuantity": "55000",
                                    "TotalCost": "4555897.50"
                                },
                                {
                                    "VendorName": "Professional Athletic Consultants",
                                    "TotalPurchaseOrders": "142",
                                    "TotalQuantity": "78100",
                                    "TotalCost": "3058774.95"
                                },
                                {
                                    "VendorName": "Chicago City Saddles",
                                    "TotalPurchaseOrders": "179",
                                    "TotalQuantity": "98450",
                                    "TotalCost": "3029108.775"
                                },
                                {
                                    "VendorName": "Jackson Authority",
                                    "TotalPurchaseOrders": "120",
                                    "TotalQuantity": "66000",
                                    "TotalCost": "2553243.00"
                                },
                                {
                                    "VendorName": "Vision Cycles, Inc.",
                                    "TotalPurchaseOrders": "120",
                                    "TotalQuantity": "66000",
                                    "TotalCost": "2513742.00"
                                },
                                {
                                    "VendorName": "Sport Fan Co.",
                                    "TotalPurchaseOrders": "117",
                                    "TotalQuantity": "64350",
                                    "TotalCost": "2421619.20"
                                },
                                {
                                    "VendorName": "Proseware, Inc.",
                                    "TotalPurchaseOrders": "120",
                                    "TotalQuantity": "66000",
                                    "TotalCost": "2347422.00"
                                },
                                {
                                    "VendorName": "Greenwood Athletic Company",
                                    "TotalPurchaseOrders": "102",
                                    "TotalQuantity": "56100",
                                    "TotalCost": "2237800.95"
                                },
                                {
                                    "VendorName": "Crowley Sport",
                                    "TotalPurchaseOrders": "102",
                                    "TotalQuantity": "56100",
                                    "TotalCost": "2237800.95"
                                },
                                {
                                    "VendorName": "Mitchell Sports",
                                    "TotalPurchaseOrders": "100",
                                    "TotalQuantity": "55000",
                                    "TotalCost": "2193922.50"
                                },
                                {
                                    "VendorName": "First Rate Bicycles",
                                    "TotalPurchaseOrders": "123",
                                    "TotalQuantity": "67650",
                                    "TotalCost": "2085277.425"
                                },
                                {
                                    "VendorName": "Signature Cycles",
                                    "TotalPurchaseOrders": "100",
                                    "TotalQuantity": "55000",
                                    "TotalCost": "2023560.00"
                                },
                                {
                                    "VendorName": "Electronic Bike Repair & Supplies",
                                    "TotalPurchaseOrders": "122",
                                    "TotalQuantity": "67100",
                                    "TotalCost": "1950021.15"
                                },
                                {
                                    "VendorName": "Vista Road Bikes",
                                    "TotalPurchaseOrders": "100",
                                    "TotalQuantity": "55000",
                                    "TotalCost": "1892178.75"
                                },
                                {
                                    "VendorName": "Victory Bikes",
                                    "TotalPurchaseOrders": "144",
                                    "TotalQuantity": "79200",
                                    "TotalCost": "1857170.70"
                                },
                                {
                                    "VendorName": "Bicycle Specialists",
                                    "TotalPurchaseOrders": "51",
                                    "TotalQuantity": "28050",
                                    "TotalCost": "1766855.475"
                                },
                                {
                                    "VendorName": "Inline Accessories",
                                    "TotalPurchaseOrders": "51",
                                    "TotalQuantity": "28050",
                                    "TotalCost": "1766855.475"
                                },
                                {
                                    "VendorName": "Compete Enterprises, Inc",
                                    "TotalPurchaseOrders": "126",
                                    "TotalQuantity": "69300",
                                    "TotalCost": "1567115.55"
                                },
                                {
                                    "VendorName": "Hill's Bicycle Service",
                                    "TotalPurchaseOrders": "102",
                                    "TotalQuantity": "56100",
                                    "TotalCost": "1445528.70"
                                },
                                {
                                    "VendorName": "Competition Bike Training Systems",
                                    "TotalPurchaseOrders": "102",
                                    "TotalQuantity": "56100",
                                    "TotalCost": "1443172.50"
                                },
                                {
                                    "VendorName": "International Bicycles",
                                    "TotalPurchaseOrders": "102",
                                    "TotalQuantity": "56100",
                                    "TotalCost": "1438165.575"
                                },
                                {
                                    "VendorName": "Comfort Road Bicycles",
                                    "TotalPurchaseOrders": "102",
                                    "TotalQuantity": "56100",
                                    "TotalCost": "1431686.025"
                                },
                                {
                                    "VendorName": "Trikes, Inc.",
                                    "TotalPurchaseOrders": "100",
                                    "TotalQuantity": "55000",
                                    "TotalCost": "1322763.75"
                                },
                                {
                                    "VendorName": "West Junction Cycles",
                                    "TotalPurchaseOrders": "50",
                                    "TotalQuantity": "27500",
                                    "TotalCost": "1276563.75"
                                },
                                {
                                    "VendorName": "Custom Frames, Inc.",
                                    "TotalPurchaseOrders": "210",
                                    "TotalQuantity": "115500",
                                    "TotalCost": "1190487.375"
                                },
                                {
                                    "VendorName": "Hybrid Bicycle Center",
                                    "TotalPurchaseOrders": "51",
                                    "TotalQuantity": "28050",
                                    "TotalCost": "1148352.975"
                                },
                                {
                                    "VendorName": "Integrated Sport Products",
                                    "TotalPurchaseOrders": "10",
                                    "TotalQuantity": "26730",
                                    "TotalCost": "1078941.60"
                                },
                                {
                                    "VendorName": "Premier Sport, Inc.",
                                    "TotalPurchaseOrders": "50",
                                    "TotalQuantity": "27500",
                                    "TotalCost": "1077903.75"
                                },
                                {
                                    "VendorName": "American Bikes",
                                    "TotalPurchaseOrders": "51",
                                    "TotalQuantity": "28050",
                                    "TotalCost": "1040262.30"
                                },
                                {
                                    "VendorName": "Expert Bike Co",
                                    "TotalPurchaseOrders": "205",
                                    "TotalQuantity": "33435",
                                    "TotalCost": "1036840.5285"
                                },
                                {
                                    "VendorName": "Anderson's Custom Bikes",
                                    "TotalPurchaseOrders": "51",
                                    "TotalQuantity": "28050",
                                    "TotalCost": "746031.825"
                                },
                                {
                                    "VendorName": "Capital Road Cycles",
                                    "TotalPurchaseOrders": "102",
                                    "TotalQuantity": "56100",
                                    "TotalCost": "697140.675"
                                },
                                {
                                    "VendorName": "Fitness Association",
                                    "TotalPurchaseOrders": "9",
                                    "TotalQuantity": "20300",
                                    "TotalCost": "554020.00"
                                },
                                {
                                    "VendorName": "Trey Research",
                                    "TotalPurchaseOrders": "160",
                                    "TotalQuantity": "9600",
                                    "TotalCost": "522889.92"
                                },
                                {
                                    "VendorName": "Carlson Specialties",
                                    "TotalPurchaseOrders": "155",
                                    "TotalQuantity": "9300",
                                    "TotalCost": "508190.13"
                                },
                                {
                                    "VendorName": "Allenson Cycles",
                                    "TotalPurchaseOrders": "51",
                                    "TotalQuantity": "28050",
                                    "TotalCost": "451212.30"
                                },
                                {
                                    "VendorName": "Team Athletic Co.",
                                    "TotalPurchaseOrders": "15",
                                    "TotalQuantity": "18300",
                                    "TotalCost": "396729.00"
                                },
                                {
                                    "VendorName": "Hill Bicycle Center",
                                    "TotalPurchaseOrders": "51",
                                    "TotalQuantity": "28050",
                                    "TotalCost": "363738.375"
                                },
                                {
                                    "VendorName": "Compete, Inc.",
                                    "TotalPurchaseOrders": "125",
                                    "TotalQuantity": "68750",
                                    "TotalCost": "316758.75"
                                },
                                {
                                    "VendorName": "Sport Playground",
                                    "TotalPurchaseOrders": "50",
                                    "TotalQuantity": "27500",
                                    "TotalCost": "297412.50"
                                },
                                {
                                    "VendorName": "Circuit Cycles",
                                    "TotalPurchaseOrders": "126",
                                    "TotalQuantity": "69300",
                                    "TotalCost": "293485.50"
                                },
                                {
                                    "VendorName": "Lakewood Bicycle",
                                    "TotalPurchaseOrders": "51",
                                    "TotalQuantity": "28050",
                                    "TotalCost": "291285.225"
                                },
                                {
                                    "VendorName": "International Sport Assoc.",
                                    "TotalPurchaseOrders": "51",
                                    "TotalQuantity": "28050",
                                    "TotalCost": "189379.575"
                                },
                                {
                                    "VendorName": "First National Sport Co.",
                                    "TotalPurchaseOrders": "51",
                                    "TotalQuantity": "28050",
                                    "TotalCost": "102200.175"
                                },
                                {
                                    "VendorName": "Training Systems",
                                    "TotalPurchaseOrders": "125",
                                    "TotalQuantity": "2712",
                                    "TotalCost": "82432.917"
                                },
                                {
                                    "VendorName": "Bike Satellite Inc.",
                                    "TotalPurchaseOrders": "129",
                                    "TotalQuantity": "2838",
                                    "TotalCost": "79098.7365"
                                },
                                {
                                    "VendorName": "Beaumont Bikes",
                                    "TotalPurchaseOrders": "120",
                                    "TotalQuantity": "2640",
                                    "TotalCost": "71841.42"
                                },
                                {
                                    "VendorName": "Green Lake Bike Company",
                                    "TotalPurchaseOrders": "9",
                                    "TotalQuantity": "12950",
                                    "TotalCost": "69407.50"
                                },
                                {
                                    "VendorName": "Federal Sport",
                                    "TotalPurchaseOrders": "51",
                                    "TotalQuantity": "28050",
                                    "TotalCost": "65090.025"
                                },
                                {
                                    "VendorName": "Varsity Sport Co.",
                                    "TotalPurchaseOrders": "50",
                                    "TotalQuantity": "3000",
                                    "TotalCost": "47218.50"
                                },
                                {
                                    "VendorName": "Jeff's Sporting Goods",
                                    "TotalPurchaseOrders": "4",
                                    "TotalQuantity": "16300",
                                    "TotalCost": "38780.00"
                                },
                                {
                                    "VendorName": "Mountain Works",
                                    "TotalPurchaseOrders": "274",
                                    "TotalQuantity": "822",
                                    "TotalCost": "35976.8745"
                                },
                                {
                                    "VendorName": "Bergeron Off-Roads",
                                    "TotalPurchaseOrders": "275",
                                    "TotalQuantity": "825",
                                    "TotalCost": "34952.148"
                                },
                                {
                                    "VendorName": "Norstan Bike Hut",
                                    "TotalPurchaseOrders": "230",
                                    "TotalQuantity": "690",
                                    "TotalCost": "28800.135"
                                },
                                {
                                    "VendorName": "Cruger Bike Company",
                                    "TotalPurchaseOrders": "226",
                                    "TotalQuantity": "678",
                                    "TotalCost": "28506.618"
                                },
                                {
                                    "VendorName": "Chicago Rent-All",
                                    "TotalPurchaseOrders": "51",
                                    "TotalQuantity": "3060",
                                    "TotalCost": "28145.88"
                                },
                                {
                                    "VendorName": "Aurora Bike Center",
                                    "TotalPurchaseOrders": "214",
                                    "TotalQuantity": "642",
                                    "TotalCost": "27356.8995"
                                },
                                {
                                    "VendorName": "SUPERSALES INC.",
                                    "TotalPurchaseOrders": "100",
                                    "TotalQuantity": "125000",
                                    "TotalCost": "26250.00"
                                },
                                {
                                    "VendorName": "Advanced Bicycles",
                                    "TotalPurchaseOrders": "199",
                                    "TotalQuantity": "597",
                                    "TotalCost": "25793.748"
                                },
                                {
                                    "VendorName": "Pro Sport Industries",
                                    "TotalPurchaseOrders": "201",
                                    "TotalQuantity": "603",
                                    "TotalCost": "25538.5935"
                                },
                                {
                                    "VendorName": "Inner City Bikes",
                                    "TotalPurchaseOrders": "187",
                                    "TotalQuantity": "561",
                                    "TotalCost": "24713.6715"
                                },
                                {
                                    "VendorName": "Leaf River Terrain",
                                    "TotalPurchaseOrders": "190",
                                    "TotalQuantity": "570",
                                    "TotalCost": "24595.2945"
                                },
                                {
                                    "VendorName": "Reliance Fitness, Inc.",
                                    "TotalPurchaseOrders": "173",
                                    "TotalQuantity": "519",
                                    "TotalCost": "23620.653"
                                },
                                {
                                    "VendorName": "Speed Corporation",
                                    "TotalPurchaseOrders": "171",
                                    "TotalQuantity": "513",
                                    "TotalCost": "23287.635"
                                },
                                {
                                    "VendorName": "Gardner Touring Cycles",
                                    "TotalPurchaseOrders": "102",
                                    "TotalQuantity": "6120",
                                    "TotalCost": "23197.86"
                                },
                                {
                                    "VendorName": "National Bike Association",
                                    "TotalPurchaseOrders": "100",
                                    "TotalQuantity": "6000",
                                    "TotalCost": "23089.50"
                                },
                                {
                                    "VendorName": "WestAmerica Bicycle Co.",
                                    "TotalPurchaseOrders": "176",
                                    "TotalQuantity": "528",
                                    "TotalCost": "22678.7715"
                                },
                                {
                                    "VendorName": "Australia Bike Retailer",
                                    "TotalPurchaseOrders": "176",
                                    "TotalQuantity": "528",
                                    "TotalCost": "22678.7715"
                                },
                                {
                                    "VendorName": "International Trek Center",
                                    "TotalPurchaseOrders": "7",
                                    "TotalQuantity": "1325",
                                    "TotalCost": "21882.50"
                                },
                                {
                                    "VendorName": "Ready Rentals",
                                    "TotalPurchaseOrders": "165",
                                    "TotalQuantity": "495",
                                    "TotalCost": "21389.193"
                                },
                                {
                                    "VendorName": "Morgan Bike Accessories",
                                    "TotalPurchaseOrders": "50",
                                    "TotalQuantity": "3000",
                                    "TotalCost": "20947.50"
                                },
                                {
                                    "VendorName": "Continental Pro Cycles",
                                    "TotalPurchaseOrders": "177",
                                    "TotalQuantity": "531",
                                    "TotalCost": "20778.345"
                                },
                                {
                                    "VendorName": "American Bicycles and Wheels",
                                    "TotalPurchaseOrders": "51",
                                    "TotalQuantity": "153",
                                    "TotalCost": "8724.9015"
                                },
                                {
                                    "VendorName": "Litware, Inc.",
                                    "TotalPurchaseOrders": "51",
                                    "TotalQuantity": "154",
                                    "TotalCost": "7740.565"
                                },
                                {
                                    "VendorName": "Business Equipment Center",
                                    "TotalPurchaseOrders": "51",
                                    "TotalQuantity": "153",
                                    "TotalCost": "7690.3155"
                                },
                                {
                                    "VendorName": "Bloomington Multisport",
                                    "TotalPurchaseOrders": "51",
                                    "TotalQuantity": "153",
                                    "TotalCost": "7460.586"
                                },
                                {
                                    "VendorName": "International",
                                    "TotalPurchaseOrders": "51",
                                    "TotalQuantity": "153",
                                    "TotalCost": "7295.1165"
                                },
                                {
                                    "VendorName": "Wide World Importers",
                                    "TotalPurchaseOrders": "51",
                                    "TotalQuantity": "153",
                                    "TotalCost": "7262.9865"
                                },
                                {
                                    "VendorName": "Midwest Sport, Inc.",
                                    "TotalPurchaseOrders": "50",
                                    "TotalQuantity": "150",
                                    "TotalCost": "6632.325"
                                },
                                {
                                    "VendorName": "Wood Fitness",
                                    "TotalPurchaseOrders": "50",
                                    "TotalQuantity": "150",
                                    "TotalCost": "6287.40"
                                },
                                {
                                    "VendorName": "Metro Sport Equipment",
                                    "TotalPurchaseOrders": "50",
                                    "TotalQuantity": "150",
                                    "TotalCost": "5723.55"
                                },
                                {
                                    "VendorName": "Burnett Road Warriors",
                                    "TotalPurchaseOrders": "51",
                                    "TotalQuantity": "153",
                                    "TotalCost": "5230.764"
                                },
                                {
                                    "VendorName": "Lindell",
                                    "TotalPurchaseOrders": "100",
                                    "TotalQuantity": "300",
                                    "TotalCost": "4898.25"
                                },
                                {
                                    "VendorName": "G & K Bicycle Corp.",
                                    "TotalPurchaseOrders": "3",
                                    "TotalQuantity": "350",
                                    "TotalCost": "4578.315"
                                },
                                {
                                    "VendorName": "Consumer Cycles",
                                    "TotalPurchaseOrders": "51",
                                    "TotalQuantity": "153",
                                    "TotalCost": "3057.1695"
                                },
                                {
                                    "VendorName": "Northern Bike Travel",
                                    "TotalPurchaseOrders": "50",
                                    "TotalQuantity": "150",
                                    "TotalCost": "1853.775"
                                }
                            ]
                        },
                        "text/html": "<table><tr><th>VendorName</th><th>TotalPurchaseOrders</th><th>TotalQuantity</th><th>TotalCost</th></tr><tr><td>Superior Bicycles</td><td>100</td><td>55000</td><td>4555897.50</td></tr><tr><td>Professional Athletic Consultants</td><td>142</td><td>78100</td><td>3058774.95</td></tr><tr><td>Chicago City Saddles</td><td>179</td><td>98450</td><td>3029108.775</td></tr><tr><td>Jackson Authority</td><td>120</td><td>66000</td><td>2553243.00</td></tr><tr><td>Vision Cycles, Inc.</td><td>120</td><td>66000</td><td>2513742.00</td></tr><tr><td>Sport Fan Co.</td><td>117</td><td>64350</td><td>2421619.20</td></tr><tr><td>Proseware, Inc.</td><td>120</td><td>66000</td><td>2347422.00</td></tr><tr><td>Greenwood Athletic Company</td><td>102</td><td>56100</td><td>2237800.95</td></tr><tr><td>Crowley Sport</td><td>102</td><td>56100</td><td>2237800.95</td></tr><tr><td>Mitchell Sports</td><td>100</td><td>55000</td><td>2193922.50</td></tr><tr><td>First Rate Bicycles</td><td>123</td><td>67650</td><td>2085277.425</td></tr><tr><td>Signature Cycles</td><td>100</td><td>55000</td><td>2023560.00</td></tr><tr><td>Electronic Bike Repair &amp; Supplies</td><td>122</td><td>67100</td><td>1950021.15</td></tr><tr><td>Vista Road Bikes</td><td>100</td><td>55000</td><td>1892178.75</td></tr><tr><td>Victory Bikes</td><td>144</td><td>79200</td><td>1857170.70</td></tr><tr><td>Bicycle Specialists</td><td>51</td><td>28050</td><td>1766855.475</td></tr><tr><td>Inline Accessories</td><td>51</td><td>28050</td><td>1766855.475</td></tr><tr><td>Compete Enterprises, Inc</td><td>126</td><td>69300</td><td>1567115.55</td></tr><tr><td>Hill&#39;s Bicycle Service</td><td>102</td><td>56100</td><td>1445528.70</td></tr><tr><td>Competition Bike Training Systems</td><td>102</td><td>56100</td><td>1443172.50</td></tr><tr><td>International Bicycles</td><td>102</td><td>56100</td><td>1438165.575</td></tr><tr><td>Comfort Road Bicycles</td><td>102</td><td>56100</td><td>1431686.025</td></tr><tr><td>Trikes, Inc.</td><td>100</td><td>55000</td><td>1322763.75</td></tr><tr><td>West Junction Cycles</td><td>50</td><td>27500</td><td>1276563.75</td></tr><tr><td>Custom Frames, Inc.</td><td>210</td><td>115500</td><td>1190487.375</td></tr><tr><td>Hybrid Bicycle Center</td><td>51</td><td>28050</td><td>1148352.975</td></tr><tr><td>Integrated Sport Products</td><td>10</td><td>26730</td><td>1078941.60</td></tr><tr><td>Premier Sport, Inc.</td><td>50</td><td>27500</td><td>1077903.75</td></tr><tr><td>American Bikes</td><td>51</td><td>28050</td><td>1040262.30</td></tr><tr><td>Expert Bike Co</td><td>205</td><td>33435</td><td>1036840.5285</td></tr><tr><td>Anderson&#39;s Custom Bikes</td><td>51</td><td>28050</td><td>746031.825</td></tr><tr><td>Capital Road Cycles</td><td>102</td><td>56100</td><td>697140.675</td></tr><tr><td>Fitness Association</td><td>9</td><td>20300</td><td>554020.00</td></tr><tr><td>Trey Research</td><td>160</td><td>9600</td><td>522889.92</td></tr><tr><td>Carlson Specialties</td><td>155</td><td>9300</td><td>508190.13</td></tr><tr><td>Allenson Cycles</td><td>51</td><td>28050</td><td>451212.30</td></tr><tr><td>Team Athletic Co.</td><td>15</td><td>18300</td><td>396729.00</td></tr><tr><td>Hill Bicycle Center</td><td>51</td><td>28050</td><td>363738.375</td></tr><tr><td>Compete, Inc.</td><td>125</td><td>68750</td><td>316758.75</td></tr><tr><td>Sport Playground</td><td>50</td><td>27500</td><td>297412.50</td></tr><tr><td>Circuit Cycles</td><td>126</td><td>69300</td><td>293485.50</td></tr><tr><td>Lakewood Bicycle</td><td>51</td><td>28050</td><td>291285.225</td></tr><tr><td>International Sport Assoc.</td><td>51</td><td>28050</td><td>189379.575</td></tr><tr><td>First National Sport Co.</td><td>51</td><td>28050</td><td>102200.175</td></tr><tr><td>Training Systems</td><td>125</td><td>2712</td><td>82432.917</td></tr><tr><td>Bike Satellite Inc.</td><td>129</td><td>2838</td><td>79098.7365</td></tr><tr><td>Beaumont Bikes</td><td>120</td><td>2640</td><td>71841.42</td></tr><tr><td>Green Lake Bike Company</td><td>9</td><td>12950</td><td>69407.50</td></tr><tr><td>Federal Sport</td><td>51</td><td>28050</td><td>65090.025</td></tr><tr><td>Varsity Sport Co.</td><td>50</td><td>3000</td><td>47218.50</td></tr><tr><td>Jeff&#39;s Sporting Goods</td><td>4</td><td>16300</td><td>38780.00</td></tr><tr><td>Mountain Works</td><td>274</td><td>822</td><td>35976.8745</td></tr><tr><td>Bergeron Off-Roads</td><td>275</td><td>825</td><td>34952.148</td></tr><tr><td>Norstan Bike Hut</td><td>230</td><td>690</td><td>28800.135</td></tr><tr><td>Cruger Bike Company</td><td>226</td><td>678</td><td>28506.618</td></tr><tr><td>Chicago Rent-All</td><td>51</td><td>3060</td><td>28145.88</td></tr><tr><td>Aurora Bike Center</td><td>214</td><td>642</td><td>27356.8995</td></tr><tr><td>SUPERSALES INC.</td><td>100</td><td>125000</td><td>26250.00</td></tr><tr><td>Advanced Bicycles</td><td>199</td><td>597</td><td>25793.748</td></tr><tr><td>Pro Sport Industries</td><td>201</td><td>603</td><td>25538.5935</td></tr><tr><td>Inner City Bikes</td><td>187</td><td>561</td><td>24713.6715</td></tr><tr><td>Leaf River Terrain</td><td>190</td><td>570</td><td>24595.2945</td></tr><tr><td>Reliance Fitness, Inc.</td><td>173</td><td>519</td><td>23620.653</td></tr><tr><td>Speed Corporation</td><td>171</td><td>513</td><td>23287.635</td></tr><tr><td>Gardner Touring Cycles</td><td>102</td><td>6120</td><td>23197.86</td></tr><tr><td>National Bike Association</td><td>100</td><td>6000</td><td>23089.50</td></tr><tr><td>WestAmerica Bicycle Co.</td><td>176</td><td>528</td><td>22678.7715</td></tr><tr><td>Australia Bike Retailer</td><td>176</td><td>528</td><td>22678.7715</td></tr><tr><td>International Trek Center</td><td>7</td><td>1325</td><td>21882.50</td></tr><tr><td>Ready Rentals</td><td>165</td><td>495</td><td>21389.193</td></tr><tr><td>Morgan Bike Accessories</td><td>50</td><td>3000</td><td>20947.50</td></tr><tr><td>Continental Pro Cycles</td><td>177</td><td>531</td><td>20778.345</td></tr><tr><td>American Bicycles and Wheels</td><td>51</td><td>153</td><td>8724.9015</td></tr><tr><td>Litware, Inc.</td><td>51</td><td>154</td><td>7740.565</td></tr><tr><td>Business Equipment Center</td><td>51</td><td>153</td><td>7690.3155</td></tr><tr><td>Bloomington Multisport</td><td>51</td><td>153</td><td>7460.586</td></tr><tr><td>International</td><td>51</td><td>153</td><td>7295.1165</td></tr><tr><td>Wide World Importers</td><td>51</td><td>153</td><td>7262.9865</td></tr><tr><td>Midwest Sport, Inc.</td><td>50</td><td>150</td><td>6632.325</td></tr><tr><td>Wood Fitness</td><td>50</td><td>150</td><td>6287.40</td></tr><tr><td>Metro Sport Equipment</td><td>50</td><td>150</td><td>5723.55</td></tr><tr><td>Burnett Road Warriors</td><td>51</td><td>153</td><td>5230.764</td></tr><tr><td>Lindell</td><td>100</td><td>300</td><td>4898.25</td></tr><tr><td>G &amp; K Bicycle Corp.</td><td>3</td><td>350</td><td>4578.315</td></tr><tr><td>Consumer Cycles</td><td>51</td><td>153</td><td>3057.1695</td></tr><tr><td>Northern Bike Travel</td><td>50</td><td>150</td><td>1853.775</td></tr></table>"
                    },
                    "metadata": {}
                }
            ],
            "execution_count": 11
        },
        {
            "cell_type": "markdown",
            "source": [
                "### **Query 12**\n",
                "\n",
                "**Proposition:** Write a query to report the inventory quantities of products at various locations, summarizing the total quantity per product per location.\n",
                "\n",
                "**Tables:**\n",
                "\n",
                "- Production.ProductInventory\n",
                "- Production.Product\n",
                "- Production.Location\n",
                "\n",
                "**Columns:**\n",
                "\n",
                "- LocationName  \n",
                "- ProductName \n",
                "- TotalQuantity  \n",
                "\n",
                "**Predicate:**\n",
                "\n",
                "- The query joins the ProductInventory table with the Product and Location tables to correlate inventory records with product names and location name and the results are grouped by location and product names and are location name and total quantity in descending order, showing the highest stocked items first."
            ],
            "metadata": {
                "azdata_cell_guid": "d4ccdfc9-12d3-48a9-ad64-4b47509c78d7"
            },
            "attachments": {}
        },
        {
            "cell_type": "code",
            "source": [
                "USE AdventureWorks2017;\r\n",
                "\r\n",
                "SELECT\r\n",
                "    L.Name AS LocationName,\r\n",
                "    P.Name AS ProductName,\r\n",
                "    SUM(PI.Quantity) AS TotalQuantity\r\n",
                "FROM\r\n",
                "    Production.ProductInventory PI\r\n",
                "    INNER JOIN Production.Product P ON PI.ProductID = P.ProductID\r\n",
                "    INNER JOIN Production.Location L ON PI.LocationID = L.LocationID\r\n",
                "GROUP BY\r\n",
                "    L.Name,\r\n",
                "    P.Name\r\n",
                "ORDER BY\r\n",
                "    L.Name,\r\n",
                "    TotalQuantity DESC;\r\n",
                ""
            ],
            "metadata": {
                "azdata_cell_guid": "0d8aac67-d325-4b39-b130-7676df705393",
                "language": "sql"
            },
            "outputs": [
                {
                    "output_type": "display_data",
                    "data": {
                        "text/html": "(1069 rows affected)"
                    },
                    "metadata": {}
                },
                {
                    "output_type": "display_data",
                    "data": {
                        "text/html": "Total execution time: 00:00:00.031"
                    },
                    "metadata": {}
                },
                {
                    "output_type": "execute_result",
                    "execution_count": 12,
                    "data": {
                        "application/vnd.dataresource+json": {
                            "schema": {
                                "fields": [
                                    {
                                        "name": "LocationName"
                                    },
                                    {
                                        "name": "ProductName"
                                    },
                                    {
                                        "name": "TotalQuantity"
                                    }
                                ]
                            },
                            "data": [
                                {
                                    "LocationName": "Debur and Polish",
                                    "ProductName": "HL Mountain Frame - Black, 38",
                                    "TotalQuantity": "148"
                                },
                                {
                                    "LocationName": "Debur and Polish",
                                    "ProductName": "ML Mountain Frame-W - Silver, 38",
                                    "TotalQuantity": "147"
                                },
                                {
                                    "LocationName": "Debur and Polish",
                                    "ProductName": "ML Road Frame-W - Yellow, 38",
                                    "TotalQuantity": "142"
                                },
                                {
                                    "LocationName": "Debur and Polish",
                                    "ProductName": "ML Mountain Frame - Black, 38",
                                    "TotalQuantity": "137"
                                },
                                {
                                    "LocationName": "Debur and Polish",
                                    "ProductName": "HL Mountain Frame - Silver, 38",
                                    "TotalQuantity": "132"
                                },
                                {
                                    "LocationName": "Debur and Polish",
                                    "ProductName": "LL Mountain Frame - Black, 40",
                                    "TotalQuantity": "129"
                                },
                                {
                                    "LocationName": "Debur and Polish",
                                    "ProductName": "LL Mountain Frame - Silver, 40",
                                    "TotalQuantity": "123"
                                },
                                {
                                    "LocationName": "Final Assembly",
                                    "ProductName": "Seat Lug",
                                    "TotalQuantity": "729"
                                },
                                {
                                    "LocationName": "Final Assembly",
                                    "ProductName": "Decal 1",
                                    "TotalQuantity": "641"
                                },
                                {
                                    "LocationName": "Final Assembly",
                                    "ProductName": "Flat Washer 3",
                                    "TotalQuantity": "641"
                                },
                                {
                                    "LocationName": "Final Assembly",
                                    "ProductName": "Seat Stays",
                                    "TotalQuantity": "542"
                                },
                                {
                                    "LocationName": "Final Assembly",
                                    "ProductName": "Flat Washer 2",
                                    "TotalQuantity": "499"
                                },
                                {
                                    "LocationName": "Final Assembly",
                                    "ProductName": "Decal 2",
                                    "TotalQuantity": "475"
                                },
                                {
                                    "LocationName": "Final Assembly",
                                    "ProductName": "Seat Post",
                                    "TotalQuantity": "444"
                                },
                                {
                                    "LocationName": "Final Assembly",
                                    "ProductName": "Seat Tube",
                                    "TotalQuantity": "388"
                                },
                                {
                                    "LocationName": "Final Assembly",
                                    "ProductName": "Flat Washer 9",
                                    "TotalQuantity": "382"
                                },
                                {
                                    "LocationName": "Final Assembly",
                                    "ProductName": "LL Touring Seat/Saddle",
                                    "TotalQuantity": "382"
                                },
                                {
                                    "LocationName": "Final Assembly",
                                    "ProductName": "Steerer",
                                    "TotalQuantity": "374"
                                },
                                {
                                    "LocationName": "Final Assembly",
                                    "ProductName": "Stem",
                                    "TotalQuantity": "371"
                                },
                                {
                                    "LocationName": "Final Assembly",
                                    "ProductName": "Flat Washer 7",
                                    "TotalQuantity": "342"
                                },
                                {
                                    "LocationName": "Final Assembly",
                                    "ProductName": "Flat Washer 1",
                                    "TotalQuantity": "339"
                                },
                                {
                                    "LocationName": "Final Assembly",
                                    "ProductName": "Flat Washer 5",
                                    "TotalQuantity": "337"
                                },
                                {
                                    "LocationName": "Final Assembly",
                                    "ProductName": "Flat Washer 6",
                                    "TotalQuantity": "336"
                                },
                                {
                                    "LocationName": "Final Assembly",
                                    "ProductName": "Flat Washer 8",
                                    "TotalQuantity": "332"
                                },
                                {
                                    "LocationName": "Final Assembly",
                                    "ProductName": "LL Road Seat/Saddle",
                                    "TotalQuantity": "302"
                                },
                                {
                                    "LocationName": "Final Assembly",
                                    "ProductName": "Flat Washer 4",
                                    "TotalQuantity": "300"
                                },
                                {
                                    "LocationName": "Final Assembly",
                                    "ProductName": "HL Touring Seat/Saddle",
                                    "TotalQuantity": "276"
                                },
                                {
                                    "LocationName": "Final Assembly",
                                    "ProductName": "ML Road Seat/Saddle",
                                    "TotalQuantity": "246"
                                },
                                {
                                    "LocationName": "Final Assembly",
                                    "ProductName": "HL Touring Seat Assembly",
                                    "TotalQuantity": "225"
                                },
                                {
                                    "LocationName": "Final Assembly",
                                    "ProductName": "ML Touring Seat Assembly",
                                    "TotalQuantity": "224"
                                },
                                {
                                    "LocationName": "Final Assembly",
                                    "ProductName": "LL Touring Seat Assembly",
                                    "TotalQuantity": "222"
                                },
                                {
                                    "LocationName": "Final Assembly",
                                    "ProductName": "HL Road Seat Assembly",
                                    "TotalQuantity": "220"
                                },
                                {
                                    "LocationName": "Final Assembly",
                                    "ProductName": "ML Road Seat Assembly",
                                    "TotalQuantity": "219"
                                },
                                {
                                    "LocationName": "Final Assembly",
                                    "ProductName": "LL Road Seat Assembly",
                                    "TotalQuantity": "217"
                                },
                                {
                                    "LocationName": "Final Assembly",
                                    "ProductName": "HL Mountain Seat Assembly",
                                    "TotalQuantity": "216"
                                },
                                {
                                    "LocationName": "Final Assembly",
                                    "ProductName": "ML Mountain Seat Assembly",
                                    "TotalQuantity": "214"
                                },
                                {
                                    "LocationName": "Final Assembly",
                                    "ProductName": "LL Mountain Seat Assembly",
                                    "TotalQuantity": "212"
                                },
                                {
                                    "LocationName": "Final Assembly",
                                    "ProductName": "LL Mountain Seat/Saddle",
                                    "TotalQuantity": "195"
                                },
                                {
                                    "LocationName": "Final Assembly",
                                    "ProductName": "ML Touring Seat/Saddle",
                                    "TotalQuantity": "158"
                                },
                                {
                                    "LocationName": "Final Assembly",
                                    "ProductName": "HL Road Seat/Saddle",
                                    "TotalQuantity": "153"
                                },
                                {
                                    "LocationName": "Final Assembly",
                                    "ProductName": "LL Spindle/Axle",
                                    "TotalQuantity": "139"
                                },
                                {
                                    "LocationName": "Final Assembly",
                                    "ProductName": "HL Mountain Frame - Black, 38",
                                    "TotalQuantity": "137"
                                },
                                {
                                    "LocationName": "Final Assembly",
                                    "ProductName": "ML Mountain Frame-W - Silver, 38",
                                    "TotalQuantity": "136"
                                },
                                {
                                    "LocationName": "Final Assembly",
                                    "ProductName": "LL Mountain Frame - Silver, 40",
                                    "TotalQuantity": "134"
                                },
                                {
                                    "LocationName": "Final Assembly",
                                    "ProductName": "ML Road Frame-W - Yellow, 38",
                                    "TotalQuantity": "131"
                                },
                                {
                                    "LocationName": "Final Assembly",
                                    "ProductName": "ML Mountain Frame - Black, 38",
                                    "TotalQuantity": "126"
                                },
                                {
                                    "LocationName": "Final Assembly",
                                    "ProductName": "Road-650 Black, 52",
                                    "TotalQuantity": "123"
                                },
                                {
                                    "LocationName": "Final Assembly",
                                    "ProductName": "Road-250 Red, 58",
                                    "TotalQuantity": "123"
                                },
                                {
                                    "LocationName": "Final Assembly",
                                    "ProductName": "Road-350-W Yellow, 48",
                                    "TotalQuantity": "123"
                                },
                                {
                                    "LocationName": "Final Assembly",
                                    "ProductName": "Road-550-W Yellow, 42",
                                    "TotalQuantity": "123"
                                },
                                {
                                    "LocationName": "Final Assembly",
                                    "ProductName": "Touring-2000 Blue, 50",
                                    "TotalQuantity": "123"
                                },
                                {
                                    "LocationName": "Final Assembly",
                                    "ProductName": "Touring-3000 Blue, 58",
                                    "TotalQuantity": "121"
                                },
                                {
                                    "LocationName": "Final Assembly",
                                    "ProductName": "Road-150 Red, 44",
                                    "TotalQuantity": "121"
                                },
                                {
                                    "LocationName": "Final Assembly",
                                    "ProductName": "Mountain-200 Silver, 42",
                                    "TotalQuantity": "121"
                                },
                                {
                                    "LocationName": "Final Assembly",
                                    "ProductName": "Mountain-300 Black, 40",
                                    "TotalQuantity": "121"
                                },
                                {
                                    "LocationName": "Final Assembly",
                                    "ProductName": "Road-650 Red, 48",
                                    "TotalQuantity": "121"
                                },
                                {
                                    "LocationName": "Final Assembly",
                                    "ProductName": "HL Mountain Frame - Silver, 38",
                                    "TotalQuantity": "121"
                                },
                                {
                                    "LocationName": "Final Assembly",
                                    "ProductName": "ML Mountain Seat/Saddle",
                                    "TotalQuantity": "120"
                                },
                                {
                                    "LocationName": "Final Assembly",
                                    "ProductName": "LL Mountain Frame - Black, 40",
                                    "TotalQuantity": "118"
                                },
                                {
                                    "LocationName": "Final Assembly",
                                    "ProductName": "Mountain-100 Black, 42",
                                    "TotalQuantity": "116"
                                },
                                {
                                    "LocationName": "Final Assembly",
                                    "ProductName": "Road-750 Black, 52",
                                    "TotalQuantity": "116"
                                },
                                {
                                    "LocationName": "Final Assembly",
                                    "ProductName": "Mountain-500 Silver, 52",
                                    "TotalQuantity": "116"
                                },
                                {
                                    "LocationName": "Final Assembly",
                                    "ProductName": "Touring-3000 Yellow, 58",
                                    "TotalQuantity": "116"
                                },
                                {
                                    "LocationName": "Final Assembly",
                                    "ProductName": "Mountain-300 Black, 44",
                                    "TotalQuantity": "108"
                                },
                                {
                                    "LocationName": "Final Assembly",
                                    "ProductName": "Mountain-200 Silver, 46",
                                    "TotalQuantity": "108"
                                },
                                {
                                    "LocationName": "Final Assembly",
                                    "ProductName": "Road-150 Red, 48",
                                    "TotalQuantity": "108"
                                },
                                {
                                    "LocationName": "Final Assembly",
                                    "ProductName": "Road-650 Red, 52",
                                    "TotalQuantity": "108"
                                },
                                {
                                    "LocationName": "Final Assembly",
                                    "ProductName": "Touring-3000 Yellow, 50",
                                    "TotalQuantity": "107"
                                },
                                {
                                    "LocationName": "Final Assembly",
                                    "ProductName": "HL Spindle/Axle",
                                    "TotalQuantity": "107"
                                },
                                {
                                    "LocationName": "Final Assembly",
                                    "ProductName": "Touring-3000 Blue, 62",
                                    "TotalQuantity": "105"
                                },
                                {
                                    "LocationName": "Final Assembly",
                                    "ProductName": "Mountain-400-W Silver, 46",
                                    "TotalQuantity": "104"
                                },
                                {
                                    "LocationName": "Final Assembly",
                                    "ProductName": "Mountain-500 Black, 48",
                                    "TotalQuantity": "104"
                                },
                                {
                                    "LocationName": "Final Assembly",
                                    "ProductName": "Mountain-500 Silver, 42",
                                    "TotalQuantity": "104"
                                },
                                {
                                    "LocationName": "Final Assembly",
                                    "ProductName": "Mountain-100 Silver, 48",
                                    "TotalQuantity": "102"
                                },
                                {
                                    "LocationName": "Final Assembly",
                                    "ProductName": "Mountain-100 Black, 44",
                                    "TotalQuantity": "100"
                                },
                                {
                                    "LocationName": "Final Assembly",
                                    "ProductName": "Mountain-100 Silver, 38",
                                    "TotalQuantity": "100"
                                },
                                {
                                    "LocationName": "Final Assembly",
                                    "ProductName": "Touring-1000 Yellow, 60",
                                    "TotalQuantity": "100"
                                },
                                {
                                    "LocationName": "Final Assembly",
                                    "ProductName": "Touring-2000 Blue, 54",
                                    "TotalQuantity": "99"
                                },
                                {
                                    "LocationName": "Final Assembly",
                                    "ProductName": "Touring-1000 Blue, 60",
                                    "TotalQuantity": "99"
                                },
                                {
                                    "LocationName": "Final Assembly",
                                    "ProductName": "Mountain-500 Black, 40",
                                    "TotalQuantity": "99"
                                },
                                {
                                    "LocationName": "Final Assembly",
                                    "ProductName": "Mountain-400-W Silver, 38",
                                    "TotalQuantity": "99"
                                },
                                {
                                    "LocationName": "Final Assembly",
                                    "ProductName": "Road-550-W Yellow, 44",
                                    "TotalQuantity": "99"
                                },
                                {
                                    "LocationName": "Final Assembly",
                                    "ProductName": "Road-450 Red, 44",
                                    "TotalQuantity": "99"
                                },
                                {
                                    "LocationName": "Final Assembly",
                                    "ProductName": "HL Mountain Seat/Saddle",
                                    "TotalQuantity": "96"
                                },
                                {
                                    "LocationName": "Final Assembly",
                                    "ProductName": "Mountain-200 Black, 38",
                                    "TotalQuantity": "88"
                                },
                                {
                                    "LocationName": "Final Assembly",
                                    "ProductName": "Road-250 Black, 52",
                                    "TotalQuantity": "88"
                                },
                                {
                                    "LocationName": "Final Assembly",
                                    "ProductName": "Road-650 Black, 62",
                                    "TotalQuantity": "88"
                                },
                                {
                                    "LocationName": "Final Assembly",
                                    "ProductName": "Road-650 Red, 60",
                                    "TotalQuantity": "86"
                                },
                                {
                                    "LocationName": "Final Assembly",
                                    "ProductName": "Road-350-W Yellow, 40",
                                    "TotalQuantity": "86"
                                },
                                {
                                    "LocationName": "Final Assembly",
                                    "ProductName": "Road-250 Red, 48",
                                    "TotalQuantity": "86"
                                },
                                {
                                    "LocationName": "Final Assembly",
                                    "ProductName": "Touring-1000 Blue, 46",
                                    "TotalQuantity": "86"
                                },
                                {
                                    "LocationName": "Final Assembly",
                                    "ProductName": "Touring-1000 Yellow, 46",
                                    "TotalQuantity": "83"
                                },
                                {
                                    "LocationName": "Final Assembly",
                                    "ProductName": "Road-450 Red, 58",
                                    "TotalQuantity": "83"
                                },
                                {
                                    "LocationName": "Final Assembly",
                                    "ProductName": "Road-250 Black, 58",
                                    "TotalQuantity": "83"
                                },
                                {
                                    "LocationName": "Final Assembly",
                                    "ProductName": "Mountain-200 Black, 42",
                                    "TotalQuantity": "83"
                                },
                                {
                                    "LocationName": "Final Assembly",
                                    "ProductName": "Road-550-W Yellow, 38",
                                    "TotalQuantity": "81"
                                },
                                {
                                    "LocationName": "Final Assembly",
                                    "ProductName": "Road-250 Red, 52",
                                    "TotalQuantity": "81"
                                },
                                {
                                    "LocationName": "Final Assembly",
                                    "ProductName": "Road-350-W Yellow, 42",
                                    "TotalQuantity": "81"
                                },
                                {
                                    "LocationName": "Final Assembly",
                                    "ProductName": "Road-650 Red, 62",
                                    "TotalQuantity": "81"
                                },
                                {
                                    "LocationName": "Final Assembly",
                                    "ProductName": "Road-650 Black, 44",
                                    "TotalQuantity": "81"
                                },
                                {
                                    "LocationName": "Final Assembly",
                                    "ProductName": "Touring-1000 Blue, 50",
                                    "TotalQuantity": "81"
                                },
                                {
                                    "LocationName": "Final Assembly",
                                    "ProductName": "Touring-3000 Yellow, 44",
                                    "TotalQuantity": "80"
                                },
                                {
                                    "LocationName": "Final Assembly",
                                    "ProductName": "Touring-3000 Blue, 50",
                                    "TotalQuantity": "78"
                                },
                                {
                                    "LocationName": "Final Assembly",
                                    "ProductName": "Road-550-W Yellow, 48",
                                    "TotalQuantity": "78"
                                },
                                {
                                    "LocationName": "Final Assembly",
                                    "ProductName": "Road-650 Black, 58",
                                    "TotalQuantity": "78"
                                },
                                {
                                    "LocationName": "Final Assembly",
                                    "ProductName": "Road-450 Red, 48",
                                    "TotalQuantity": "78"
                                },
                                {
                                    "LocationName": "Final Assembly",
                                    "ProductName": "Road-250 Black, 44",
                                    "TotalQuantity": "78"
                                },
                                {
                                    "LocationName": "Final Assembly",
                                    "ProductName": "Road-150 Red, 52",
                                    "TotalQuantity": "76"
                                },
                                {
                                    "LocationName": "Final Assembly",
                                    "ProductName": "Mountain-300 Black, 48",
                                    "TotalQuantity": "76"
                                },
                                {
                                    "LocationName": "Final Assembly",
                                    "ProductName": "Mountain-100 Silver, 44",
                                    "TotalQuantity": "75"
                                },
                                {
                                    "LocationName": "Final Assembly",
                                    "ProductName": "Mountain-400-W Silver, 42",
                                    "TotalQuantity": "73"
                                },
                                {
                                    "LocationName": "Final Assembly",
                                    "ProductName": "Mountain-500 Black, 44",
                                    "TotalQuantity": "73"
                                },
                                {
                                    "LocationName": "Final Assembly",
                                    "ProductName": "Mountain-500 Silver, 40",
                                    "TotalQuantity": "73"
                                },
                                {
                                    "LocationName": "Final Assembly",
                                    "ProductName": "Touring-3000 Blue, 44",
                                    "TotalQuantity": "72"
                                },
                                {
                                    "LocationName": "Final Assembly",
                                    "ProductName": "Touring-3000 Yellow, 62",
                                    "TotalQuantity": "72"
                                },
                                {
                                    "LocationName": "Final Assembly",
                                    "ProductName": "Mountain-500 Black, 42",
                                    "TotalQuantity": "67"
                                },
                                {
                                    "LocationName": "Final Assembly",
                                    "ProductName": "Mountain-400-W Silver, 40",
                                    "TotalQuantity": "67"
                                },
                                {
                                    "LocationName": "Final Assembly",
                                    "ProductName": "Road-750 Black, 58",
                                    "TotalQuantity": "65"
                                },
                                {
                                    "LocationName": "Final Assembly",
                                    "ProductName": "Mountain-100 Silver, 42",
                                    "TotalQuantity": "65"
                                },
                                {
                                    "LocationName": "Final Assembly",
                                    "ProductName": "Mountain-100 Black, 48",
                                    "TotalQuantity": "65"
                                },
                                {
                                    "LocationName": "Final Assembly",
                                    "ProductName": "Road-650 Red, 44",
                                    "TotalQuantity": "62"
                                },
                                {
                                    "LocationName": "Final Assembly",
                                    "ProductName": "Mountain-200 Black, 46",
                                    "TotalQuantity": "62"
                                },
                                {
                                    "LocationName": "Final Assembly",
                                    "ProductName": "Mountain-200 Silver, 38",
                                    "TotalQuantity": "62"
                                },
                                {
                                    "LocationName": "Final Assembly",
                                    "ProductName": "Mountain-300 Black, 38",
                                    "TotalQuantity": "62"
                                },
                                {
                                    "LocationName": "Final Assembly",
                                    "ProductName": "Road-450 Red, 60",
                                    "TotalQuantity": "62"
                                },
                                {
                                    "LocationName": "Final Assembly",
                                    "ProductName": "Touring-1000 Yellow, 50",
                                    "TotalQuantity": "62"
                                },
                                {
                                    "LocationName": "Final Assembly",
                                    "ProductName": "Touring-2000 Blue, 46",
                                    "TotalQuantity": "60"
                                },
                                {
                                    "LocationName": "Final Assembly",
                                    "ProductName": "Touring-1000 Blue, 54",
                                    "TotalQuantity": "60"
                                },
                                {
                                    "LocationName": "Final Assembly",
                                    "ProductName": "Road-550-W Yellow, 40",
                                    "TotalQuantity": "60"
                                },
                                {
                                    "LocationName": "Final Assembly",
                                    "ProductName": "Road-350-W Yellow, 44",
                                    "TotalQuantity": "60"
                                },
                                {
                                    "LocationName": "Final Assembly",
                                    "ProductName": "Road-150 Red, 62",
                                    "TotalQuantity": "60"
                                },
                                {
                                    "LocationName": "Final Assembly",
                                    "ProductName": "Road-650 Black, 48",
                                    "TotalQuantity": "60"
                                },
                                {
                                    "LocationName": "Final Assembly",
                                    "ProductName": "Road-750 Black, 48",
                                    "TotalQuantity": "56"
                                },
                                {
                                    "LocationName": "Final Assembly",
                                    "ProductName": "Mountain-500 Silver, 48",
                                    "TotalQuantity": "56"
                                },
                                {
                                    "LocationName": "Final Assembly",
                                    "ProductName": "Mountain-100 Black, 38",
                                    "TotalQuantity": "56"
                                },
                                {
                                    "LocationName": "Final Assembly",
                                    "ProductName": "Road-150 Red, 56",
                                    "TotalQuantity": "51"
                                },
                                {
                                    "LocationName": "Final Assembly",
                                    "ProductName": "Road-250 Red, 44",
                                    "TotalQuantity": "51"
                                },
                                {
                                    "LocationName": "Final Assembly",
                                    "ProductName": "Road-650 Red, 58",
                                    "TotalQuantity": "51"
                                },
                                {
                                    "LocationName": "Final Assembly",
                                    "ProductName": "Road-650 Black, 60",
                                    "TotalQuantity": "49"
                                },
                                {
                                    "LocationName": "Final Assembly",
                                    "ProductName": "Road-250 Black, 48",
                                    "TotalQuantity": "49"
                                },
                                {
                                    "LocationName": "Final Assembly",
                                    "ProductName": "Road-450 Red, 52",
                                    "TotalQuantity": "49"
                                },
                                {
                                    "LocationName": "Final Assembly",
                                    "ProductName": "Touring-2000 Blue, 60",
                                    "TotalQuantity": "49"
                                },
                                {
                                    "LocationName": "Final Assembly",
                                    "ProductName": "Touring-1000 Yellow, 54",
                                    "TotalQuantity": "40"
                                },
                                {
                                    "LocationName": "Final Assembly",
                                    "ProductName": "Touring-3000 Yellow, 54",
                                    "TotalQuantity": "36"
                                },
                                {
                                    "LocationName": "Final Assembly",
                                    "ProductName": "Touring-3000 Blue, 54",
                                    "TotalQuantity": "35"
                                },
                                {
                                    "LocationName": "Final Assembly",
                                    "ProductName": "Mountain-500 Silver, 44",
                                    "TotalQuantity": "30"
                                },
                                {
                                    "LocationName": "Final Assembly",
                                    "ProductName": "Mountain-500 Black, 52",
                                    "TotalQuantity": "30"
                                },
                                {
                                    "LocationName": "Final Assembly",
                                    "ProductName": "Road-750 Black, 44",
                                    "TotalQuantity": "30"
                                },
                                {
                                    "LocationName": "Finished Goods Storage",
                                    "ProductName": "Short-Sleeve Classic Jersey, S",
                                    "TotalQuantity": "324"
                                },
                                {
                                    "LocationName": "Finished Goods Storage",
                                    "ProductName": "Sport-100 Helmet, Black",
                                    "TotalQuantity": "324"
                                },
                                {
                                    "LocationName": "Finished Goods Storage",
                                    "ProductName": "Road Bottle Cage",
                                    "TotalQuantity": "324"
                                },
                                {
                                    "LocationName": "Finished Goods Storage",
                                    "ProductName": "Women's Tights, S",
                                    "TotalQuantity": "324"
                                },
                                {
                                    "LocationName": "Finished Goods Storage",
                                    "ProductName": "Mountain Pump",
                                    "TotalQuantity": "324"
                                },
                                {
                                    "LocationName": "Finished Goods Storage",
                                    "ProductName": "Half-Finger Gloves, S",
                                    "TotalQuantity": "324"
                                },
                                {
                                    "LocationName": "Finished Goods Storage",
                                    "ProductName": "AWC Logo Cap",
                                    "TotalQuantity": "288"
                                },
                                {
                                    "LocationName": "Finished Goods Storage",
                                    "ProductName": "Mountain Bottle Cage",
                                    "TotalQuantity": "288"
                                },
                                {
                                    "LocationName": "Finished Goods Storage",
                                    "ProductName": "Minipump",
                                    "TotalQuantity": "288"
                                },
                                {
                                    "LocationName": "Finished Goods Storage",
                                    "ProductName": "Men's Sports Shorts, S",
                                    "TotalQuantity": "288"
                                },
                                {
                                    "LocationName": "Finished Goods Storage",
                                    "ProductName": "Women's Mountain Shorts, L",
                                    "TotalQuantity": "288"
                                },
                                {
                                    "LocationName": "Finished Goods Storage",
                                    "ProductName": "Racing Socks, L",
                                    "TotalQuantity": "288"
                                },
                                {
                                    "LocationName": "Finished Goods Storage",
                                    "ProductName": "Sport-100 Helmet, Red",
                                    "TotalQuantity": "288"
                                },
                                {
                                    "LocationName": "Finished Goods Storage",
                                    "ProductName": "Racing Socks, M",
                                    "TotalQuantity": "252"
                                },
                                {
                                    "LocationName": "Finished Goods Storage",
                                    "ProductName": "Women's Mountain Shorts, M",
                                    "TotalQuantity": "252"
                                },
                                {
                                    "LocationName": "Finished Goods Storage",
                                    "ProductName": "Water Bottle - 30 oz.",
                                    "TotalQuantity": "252"
                                },
                                {
                                    "LocationName": "Finished Goods Storage",
                                    "ProductName": "Long-Sleeve Logo Jersey, XL",
                                    "TotalQuantity": "252"
                                },
                                {
                                    "LocationName": "Finished Goods Storage",
                                    "ProductName": "Cable Lock",
                                    "TotalQuantity": "252"
                                },
                                {
                                    "LocationName": "Finished Goods Storage",
                                    "ProductName": "Classic Vest, L",
                                    "TotalQuantity": "252"
                                },
                                {
                                    "LocationName": "Finished Goods Storage",
                                    "ProductName": "Classic Vest, M",
                                    "TotalQuantity": "216"
                                },
                                {
                                    "LocationName": "Finished Goods Storage",
                                    "ProductName": "Headlights - Weatherproof",
                                    "TotalQuantity": "216"
                                },
                                {
                                    "LocationName": "Finished Goods Storage",
                                    "ProductName": "Long-Sleeve Logo Jersey, L",
                                    "TotalQuantity": "216"
                                },
                                {
                                    "LocationName": "Finished Goods Storage",
                                    "ProductName": "Mountain Bike Socks, L",
                                    "TotalQuantity": "216"
                                },
                                {
                                    "LocationName": "Finished Goods Storage",
                                    "ProductName": "Women's Mountain Shorts, S",
                                    "TotalQuantity": "216"
                                },
                                {
                                    "LocationName": "Finished Goods Storage",
                                    "ProductName": "Sport-100 Helmet, Blue",
                                    "TotalQuantity": "216"
                                },
                                {
                                    "LocationName": "Finished Goods Storage",
                                    "ProductName": "Headlights - Dual-Beam",
                                    "TotalQuantity": "180"
                                },
                                {
                                    "LocationName": "Finished Goods Storage",
                                    "ProductName": "Patch Kit/8 Patches",
                                    "TotalQuantity": "180"
                                },
                                {
                                    "LocationName": "Finished Goods Storage",
                                    "ProductName": "Mountain Bike Socks, M",
                                    "TotalQuantity": "180"
                                },
                                {
                                    "LocationName": "Finished Goods Storage",
                                    "ProductName": "Long-Sleeve Logo Jersey, M",
                                    "TotalQuantity": "180"
                                },
                                {
                                    "LocationName": "Finished Goods Storage",
                                    "ProductName": "Men's Sports Shorts, XL",
                                    "TotalQuantity": "180"
                                },
                                {
                                    "LocationName": "Finished Goods Storage",
                                    "ProductName": "Classic Vest, S",
                                    "TotalQuantity": "180"
                                },
                                {
                                    "LocationName": "Finished Goods Storage",
                                    "ProductName": "All-Purpose Bike Stand",
                                    "TotalQuantity": "144"
                                },
                                {
                                    "LocationName": "Finished Goods Storage",
                                    "ProductName": "Full-Finger Gloves, L",
                                    "TotalQuantity": "144"
                                },
                                {
                                    "LocationName": "Finished Goods Storage",
                                    "ProductName": "Men's Sports Shorts, L",
                                    "TotalQuantity": "144"
                                },
                                {
                                    "LocationName": "Finished Goods Storage",
                                    "ProductName": "Long-Sleeve Logo Jersey, S",
                                    "TotalQuantity": "144"
                                },
                                {
                                    "LocationName": "Finished Goods Storage",
                                    "ProductName": "Men's Bib-Shorts, L",
                                    "TotalQuantity": "144"
                                },
                                {
                                    "LocationName": "Finished Goods Storage",
                                    "ProductName": "Taillights - Battery-Powered",
                                    "TotalQuantity": "144"
                                },
                                {
                                    "LocationName": "Finished Goods Storage",
                                    "ProductName": "Touring-3000 Blue, 54",
                                    "TotalQuantity": "128"
                                },
                                {
                                    "LocationName": "Finished Goods Storage",
                                    "ProductName": "Touring-3000 Yellow, 54",
                                    "TotalQuantity": "126"
                                },
                                {
                                    "LocationName": "Finished Goods Storage",
                                    "ProductName": "Road-750 Black, 44",
                                    "TotalQuantity": "123"
                                },
                                {
                                    "LocationName": "Finished Goods Storage",
                                    "ProductName": "Mountain-500 Black, 52",
                                    "TotalQuantity": "123"
                                },
                                {
                                    "LocationName": "Finished Goods Storage",
                                    "ProductName": "Mountain-500 Silver, 44",
                                    "TotalQuantity": "123"
                                },
                                {
                                    "LocationName": "Finished Goods Storage",
                                    "ProductName": "Road-250 Black, 48",
                                    "TotalQuantity": "116"
                                },
                                {
                                    "LocationName": "Finished Goods Storage",
                                    "ProductName": "Road-450 Red, 52",
                                    "TotalQuantity": "116"
                                },
                                {
                                    "LocationName": "Finished Goods Storage",
                                    "ProductName": "Road-650 Black, 60",
                                    "TotalQuantity": "116"
                                },
                                {
                                    "LocationName": "Finished Goods Storage",
                                    "ProductName": "Touring-2000 Blue, 60",
                                    "TotalQuantity": "116"
                                },
                                {
                                    "LocationName": "Finished Goods Storage",
                                    "ProductName": "Road-650 Red, 58",
                                    "TotalQuantity": "112"
                                },
                                {
                                    "LocationName": "Finished Goods Storage",
                                    "ProductName": "Road-250 Red, 44",
                                    "TotalQuantity": "112"
                                },
                                {
                                    "LocationName": "Finished Goods Storage",
                                    "ProductName": "Road-150 Red, 56",
                                    "TotalQuantity": "112"
                                },
                                {
                                    "LocationName": "Finished Goods Storage",
                                    "ProductName": "Men's Bib-Shorts, M",
                                    "TotalQuantity": "108"
                                },
                                {
                                    "LocationName": "Finished Goods Storage",
                                    "ProductName": "Men's Sports Shorts, M",
                                    "TotalQuantity": "108"
                                },
                                {
                                    "LocationName": "Finished Goods Storage",
                                    "ProductName": "Full-Finger Gloves, M",
                                    "TotalQuantity": "108"
                                },
                                {
                                    "LocationName": "Finished Goods Storage",
                                    "ProductName": "Fender Set - Mountain",
                                    "TotalQuantity": "108"
                                },
                                {
                                    "LocationName": "Finished Goods Storage",
                                    "ProductName": "Hydration Pack - 70 oz.",
                                    "TotalQuantity": "108"
                                },
                                {
                                    "LocationName": "Finished Goods Storage",
                                    "ProductName": "Road-550-W Yellow, 42",
                                    "TotalQuantity": "104"
                                },
                                {
                                    "LocationName": "Finished Goods Storage",
                                    "ProductName": "Road-350-W Yellow, 48",
                                    "TotalQuantity": "104"
                                },
                                {
                                    "LocationName": "Finished Goods Storage",
                                    "ProductName": "Road-250 Red, 58",
                                    "TotalQuantity": "104"
                                },
                                {
                                    "LocationName": "Finished Goods Storage",
                                    "ProductName": "Road-650 Black, 52",
                                    "TotalQuantity": "104"
                                },
                                {
                                    "LocationName": "Finished Goods Storage",
                                    "ProductName": "Touring-2000 Blue, 50",
                                    "TotalQuantity": "104"
                                },
                                {
                                    "LocationName": "Finished Goods Storage",
                                    "ProductName": "Road-650 Red, 48",
                                    "TotalQuantity": "102"
                                },
                                {
                                    "LocationName": "Finished Goods Storage",
                                    "ProductName": "Road-150 Red, 44",
                                    "TotalQuantity": "102"
                                },
                                {
                                    "LocationName": "Finished Goods Storage",
                                    "ProductName": "Mountain-300 Black, 40",
                                    "TotalQuantity": "102"
                                },
                                {
                                    "LocationName": "Finished Goods Storage",
                                    "ProductName": "Mountain-200 Silver, 42",
                                    "TotalQuantity": "102"
                                },
                                {
                                    "LocationName": "Finished Goods Storage",
                                    "ProductName": "Road-250 Black, 52",
                                    "TotalQuantity": "100"
                                },
                                {
                                    "LocationName": "Finished Goods Storage",
                                    "ProductName": "Road-650 Black, 62",
                                    "TotalQuantity": "100"
                                },
                                {
                                    "LocationName": "Finished Goods Storage",
                                    "ProductName": "Mountain-200 Black, 38",
                                    "TotalQuantity": "100"
                                },
                                {
                                    "LocationName": "Finished Goods Storage",
                                    "ProductName": "Mountain-100 Black, 38",
                                    "TotalQuantity": "99"
                                },
                                {
                                    "LocationName": "Finished Goods Storage",
                                    "ProductName": "Road-650 Red, 60",
                                    "TotalQuantity": "99"
                                },
                                {
                                    "LocationName": "Finished Goods Storage",
                                    "ProductName": "Road-750 Black, 48",
                                    "TotalQuantity": "99"
                                },
                                {
                                    "LocationName": "Finished Goods Storage",
                                    "ProductName": "Road-350-W Yellow, 40",
                                    "TotalQuantity": "99"
                                },
                                {
                                    "LocationName": "Finished Goods Storage",
                                    "ProductName": "Road-250 Red, 48",
                                    "TotalQuantity": "99"
                                },
                                {
                                    "LocationName": "Finished Goods Storage",
                                    "ProductName": "Mountain-500 Silver, 48",
                                    "TotalQuantity": "99"
                                },
                                {
                                    "LocationName": "Finished Goods Storage",
                                    "ProductName": "Touring-1000 Blue, 46",
                                    "TotalQuantity": "99"
                                },
                                {
                                    "LocationName": "Finished Goods Storage",
                                    "ProductName": "Touring-3000 Blue, 44",
                                    "TotalQuantity": "91"
                                },
                                {
                                    "LocationName": "Finished Goods Storage",
                                    "ProductName": "Touring-3000 Yellow, 62",
                                    "TotalQuantity": "91"
                                },
                                {
                                    "LocationName": "Finished Goods Storage",
                                    "ProductName": "Touring-3000 Yellow, 44",
                                    "TotalQuantity": "88"
                                },
                                {
                                    "LocationName": "Finished Goods Storage",
                                    "ProductName": "Road-750 Black, 58",
                                    "TotalQuantity": "88"
                                },
                                {
                                    "LocationName": "Finished Goods Storage",
                                    "ProductName": "Mountain-100 Silver, 42",
                                    "TotalQuantity": "88"
                                },
                                {
                                    "LocationName": "Finished Goods Storage",
                                    "ProductName": "Mountain-100 Black, 48",
                                    "TotalQuantity": "88"
                                },
                                {
                                    "LocationName": "Finished Goods Storage",
                                    "ProductName": "Mountain-400-W Silver, 40",
                                    "TotalQuantity": "86"
                                },
                                {
                                    "LocationName": "Finished Goods Storage",
                                    "ProductName": "Mountain-500 Black, 42",
                                    "TotalQuantity": "86"
                                },
                                {
                                    "LocationName": "Finished Goods Storage",
                                    "ProductName": "Touring-3000 Blue, 50",
                                    "TotalQuantity": "86"
                                },
                                {
                                    "LocationName": "Finished Goods Storage",
                                    "ProductName": "Touring-3000 Blue, 58",
                                    "TotalQuantity": "83"
                                },
                                {
                                    "LocationName": "Finished Goods Storage",
                                    "ProductName": "Mountain-100 Silver, 44",
                                    "TotalQuantity": "83"
                                },
                                {
                                    "LocationName": "Finished Goods Storage",
                                    "ProductName": "Touring-3000 Yellow, 58",
                                    "TotalQuantity": "81"
                                },
                                {
                                    "LocationName": "Finished Goods Storage",
                                    "ProductName": "Mountain-500 Black, 44",
                                    "TotalQuantity": "81"
                                },
                                {
                                    "LocationName": "Finished Goods Storage",
                                    "ProductName": "Mountain-400-W Silver, 42",
                                    "TotalQuantity": "81"
                                },
                                {
                                    "LocationName": "Finished Goods Storage",
                                    "ProductName": "Mountain-500 Silver, 40",
                                    "TotalQuantity": "81"
                                },
                                {
                                    "LocationName": "Finished Goods Storage",
                                    "ProductName": "Mountain-500 Silver, 52",
                                    "TotalQuantity": "78"
                                },
                                {
                                    "LocationName": "Finished Goods Storage",
                                    "ProductName": "Road-750 Black, 52",
                                    "TotalQuantity": "78"
                                },
                                {
                                    "LocationName": "Finished Goods Storage",
                                    "ProductName": "Mountain-100 Black, 42",
                                    "TotalQuantity": "78"
                                },
                                {
                                    "LocationName": "Finished Goods Storage",
                                    "ProductName": "Road-650 Red, 44",
                                    "TotalQuantity": "75"
                                },
                                {
                                    "LocationName": "Finished Goods Storage",
                                    "ProductName": "Mountain-200 Silver, 38",
                                    "TotalQuantity": "75"
                                },
                                {
                                    "LocationName": "Finished Goods Storage",
                                    "ProductName": "Mountain-200 Black, 46",
                                    "TotalQuantity": "75"
                                },
                                {
                                    "LocationName": "Finished Goods Storage",
                                    "ProductName": "Mountain-300 Black, 38",
                                    "TotalQuantity": "75"
                                },
                                {
                                    "LocationName": "Finished Goods Storage",
                                    "ProductName": "Road-450 Red, 60",
                                    "TotalQuantity": "75"
                                },
                                {
                                    "LocationName": "Finished Goods Storage",
                                    "ProductName": "Touring-1000 Yellow, 50",
                                    "TotalQuantity": "75"
                                },
                                {
                                    "LocationName": "Finished Goods Storage",
                                    "ProductName": "Touring-2000 Blue, 46",
                                    "TotalQuantity": "73"
                                },
                                {
                                    "LocationName": "Finished Goods Storage",
                                    "ProductName": "Touring-1000 Blue, 54",
                                    "TotalQuantity": "73"
                                },
                                {
                                    "LocationName": "Finished Goods Storage",
                                    "ProductName": "Road-550-W Yellow, 40",
                                    "TotalQuantity": "73"
                                },
                                {
                                    "LocationName": "Finished Goods Storage",
                                    "ProductName": "Road-350-W Yellow, 44",
                                    "TotalQuantity": "73"
                                },
                                {
                                    "LocationName": "Finished Goods Storage",
                                    "ProductName": "Road-150 Red, 62",
                                    "TotalQuantity": "73"
                                },
                                {
                                    "LocationName": "Finished Goods Storage",
                                    "ProductName": "Road-650 Black, 48",
                                    "TotalQuantity": "73"
                                },
                                {
                                    "LocationName": "Finished Goods Storage",
                                    "ProductName": "Short-Sleeve Classic Jersey, XL",
                                    "TotalQuantity": "72"
                                },
                                {
                                    "LocationName": "Finished Goods Storage",
                                    "ProductName": "Touring-Panniers, Large",
                                    "TotalQuantity": "72"
                                },
                                {
                                    "LocationName": "Finished Goods Storage",
                                    "ProductName": "Men's Bib-Shorts, S",
                                    "TotalQuantity": "72"
                                },
                                {
                                    "LocationName": "Finished Goods Storage",
                                    "ProductName": "Full-Finger Gloves, S",
                                    "TotalQuantity": "72"
                                },
                                {
                                    "LocationName": "Finished Goods Storage",
                                    "ProductName": "Touring-3000 Yellow, 50",
                                    "TotalQuantity": "67"
                                },
                                {
                                    "LocationName": "Finished Goods Storage",
                                    "ProductName": "Touring-1000 Blue, 50",
                                    "TotalQuantity": "67"
                                },
                                {
                                    "LocationName": "Finished Goods Storage",
                                    "ProductName": "Road-650 Black, 44",
                                    "TotalQuantity": "67"
                                },
                                {
                                    "LocationName": "Finished Goods Storage",
                                    "ProductName": "Road-650 Red, 62",
                                    "TotalQuantity": "67"
                                },
                                {
                                    "LocationName": "Finished Goods Storage",
                                    "ProductName": "Road-350-W Yellow, 42",
                                    "TotalQuantity": "67"
                                },
                                {
                                    "LocationName": "Finished Goods Storage",
                                    "ProductName": "Road-250 Red, 52",
                                    "TotalQuantity": "67"
                                },
                                {
                                    "LocationName": "Finished Goods Storage",
                                    "ProductName": "Road-550-W Yellow, 38",
                                    "TotalQuantity": "67"
                                },
                                {
                                    "LocationName": "Finished Goods Storage",
                                    "ProductName": "Road-450 Red, 58",
                                    "TotalQuantity": "65"
                                },
                                {
                                    "LocationName": "Finished Goods Storage",
                                    "ProductName": "Road-250 Black, 58",
                                    "TotalQuantity": "65"
                                },
                                {
                                    "LocationName": "Finished Goods Storage",
                                    "ProductName": "Mountain-200 Black, 42",
                                    "TotalQuantity": "65"
                                },
                                {
                                    "LocationName": "Finished Goods Storage",
                                    "ProductName": "Touring-1000 Yellow, 46",
                                    "TotalQuantity": "65"
                                },
                                {
                                    "LocationName": "Finished Goods Storage",
                                    "ProductName": "Mountain-100 Silver, 48",
                                    "TotalQuantity": "62"
                                },
                                {
                                    "LocationName": "Finished Goods Storage",
                                    "ProductName": "Mountain-400-W Silver, 46",
                                    "TotalQuantity": "60"
                                },
                                {
                                    "LocationName": "Finished Goods Storage",
                                    "ProductName": "Mountain-500 Silver, 42",
                                    "TotalQuantity": "60"
                                },
                                {
                                    "LocationName": "Finished Goods Storage",
                                    "ProductName": "Mountain-500 Black, 48",
                                    "TotalQuantity": "60"
                                },
                                {
                                    "LocationName": "Finished Goods Storage",
                                    "ProductName": "Road-250 Black, 44",
                                    "TotalQuantity": "56"
                                },
                                {
                                    "LocationName": "Finished Goods Storage",
                                    "ProductName": "Road-450 Red, 48",
                                    "TotalQuantity": "56"
                                },
                                {
                                    "LocationName": "Finished Goods Storage",
                                    "ProductName": "Road-550-W Yellow, 48",
                                    "TotalQuantity": "56"
                                },
                                {
                                    "LocationName": "Finished Goods Storage",
                                    "ProductName": "Road-650 Black, 58",
                                    "TotalQuantity": "56"
                                },
                                {
                                    "LocationName": "Finished Goods Storage",
                                    "ProductName": "Touring-3000 Blue, 62",
                                    "TotalQuantity": "54"
                                },
                                {
                                    "LocationName": "Finished Goods Storage",
                                    "ProductName": "Road-150 Red, 52",
                                    "TotalQuantity": "52"
                                },
                                {
                                    "LocationName": "Finished Goods Storage",
                                    "ProductName": "Mountain-300 Black, 48",
                                    "TotalQuantity": "52"
                                },
                                {
                                    "LocationName": "Finished Goods Storage",
                                    "ProductName": "Mountain-400-W Silver, 38",
                                    "TotalQuantity": "51"
                                },
                                {
                                    "LocationName": "Finished Goods Storage",
                                    "ProductName": "Mountain-500 Black, 40",
                                    "TotalQuantity": "51"
                                },
                                {
                                    "LocationName": "Finished Goods Storage",
                                    "ProductName": "Touring-1000 Yellow, 60",
                                    "TotalQuantity": "51"
                                },
                                {
                                    "LocationName": "Finished Goods Storage",
                                    "ProductName": "Mountain-100 Black, 44",
                                    "TotalQuantity": "49"
                                },
                                {
                                    "LocationName": "Finished Goods Storage",
                                    "ProductName": "Mountain-100 Silver, 38",
                                    "TotalQuantity": "49"
                                },
                                {
                                    "LocationName": "Finished Goods Storage",
                                    "ProductName": "Half-Finger Gloves, L",
                                    "TotalQuantity": "36"
                                },
                                {
                                    "LocationName": "Finished Goods Storage",
                                    "ProductName": "Bike Wash - Dissolver",
                                    "TotalQuantity": "36"
                                },
                                {
                                    "LocationName": "Finished Goods Storage",
                                    "ProductName": "Women's Tights, L",
                                    "TotalQuantity": "36"
                                },
                                {
                                    "LocationName": "Finished Goods Storage",
                                    "ProductName": "Short-Sleeve Classic Jersey, L",
                                    "TotalQuantity": "36"
                                },
                                {
                                    "LocationName": "Finished Goods Storage",
                                    "ProductName": "Touring-1000 Yellow, 54",
                                    "TotalQuantity": "35"
                                },
                                {
                                    "LocationName": "Finished Goods Storage",
                                    "ProductName": "Road-650 Red, 52",
                                    "TotalQuantity": "32"
                                },
                                {
                                    "LocationName": "Finished Goods Storage",
                                    "ProductName": "Mountain-200 Silver, 46",
                                    "TotalQuantity": "32"
                                },
                                {
                                    "LocationName": "Finished Goods Storage",
                                    "ProductName": "Mountain-300 Black, 44",
                                    "TotalQuantity": "32"
                                },
                                {
                                    "LocationName": "Finished Goods Storage",
                                    "ProductName": "Road-150 Red, 48",
                                    "TotalQuantity": "32"
                                },
                                {
                                    "LocationName": "Finished Goods Storage",
                                    "ProductName": "Road-550-W Yellow, 44",
                                    "TotalQuantity": "30"
                                },
                                {
                                    "LocationName": "Finished Goods Storage",
                                    "ProductName": "Road-450 Red, 44",
                                    "TotalQuantity": "30"
                                },
                                {
                                    "LocationName": "Finished Goods Storage",
                                    "ProductName": "Touring-1000 Blue, 60",
                                    "TotalQuantity": "30"
                                },
                                {
                                    "LocationName": "Finished Goods Storage",
                                    "ProductName": "Touring-2000 Blue, 54",
                                    "TotalQuantity": "30"
                                },
                                {
                                    "LocationName": "Finished Goods Storage",
                                    "ProductName": "Women's Tights, M",
                                    "TotalQuantity": "0"
                                },
                                {
                                    "LocationName": "Finished Goods Storage",
                                    "ProductName": "Short-Sleeve Classic Jersey, M",
                                    "TotalQuantity": "0"
                                },
                                {
                                    "LocationName": "Finished Goods Storage",
                                    "ProductName": "Half-Finger Gloves, M",
                                    "TotalQuantity": "0"
                                },
                                {
                                    "LocationName": "Finished Goods Storage",
                                    "ProductName": "Hitch Rack - 4-Bike",
                                    "TotalQuantity": "0"
                                },
                                {
                                    "LocationName": "Frame Forming",
                                    "ProductName": "Metal Bar 2",
                                    "TotalQuantity": "622"
                                },
                                {
                                    "LocationName": "Frame Forming",
                                    "ProductName": "Mountain End Caps",
                                    "TotalQuantity": "585"
                                },
                                {
                                    "LocationName": "Frame Forming",
                                    "ProductName": "Road End Caps",
                                    "TotalQuantity": "576"
                                },
                                {
                                    "LocationName": "Frame Forming",
                                    "ProductName": "Touring End Caps",
                                    "TotalQuantity": "566"
                                },
                                {
                                    "LocationName": "Frame Forming",
                                    "ProductName": "Metal Sheet 3",
                                    "TotalQuantity": "459"
                                },
                                {
                                    "LocationName": "Frame Forming",
                                    "ProductName": "Metal Plate 1",
                                    "TotalQuantity": "457"
                                },
                                {
                                    "LocationName": "Frame Forming",
                                    "ProductName": "Metal Sheet 5",
                                    "TotalQuantity": "457"
                                },
                                {
                                    "LocationName": "Frame Forming",
                                    "ProductName": "Down Tube",
                                    "TotalQuantity": "443"
                                },
                                {
                                    "LocationName": "Frame Forming",
                                    "ProductName": "Fork End",
                                    "TotalQuantity": "441"
                                },
                                {
                                    "LocationName": "Frame Forming",
                                    "ProductName": "Fork Crown",
                                    "TotalQuantity": "406"
                                },
                                {
                                    "LocationName": "Frame Forming",
                                    "ProductName": "Handlebar Tube",
                                    "TotalQuantity": "404"
                                },
                                {
                                    "LocationName": "Frame Forming",
                                    "ProductName": "Metal Angle",
                                    "TotalQuantity": "404"
                                },
                                {
                                    "LocationName": "Frame Forming",
                                    "ProductName": "Head Tube",
                                    "TotalQuantity": "398"
                                },
                                {
                                    "LocationName": "Frame Forming",
                                    "ProductName": "Blade",
                                    "TotalQuantity": "388"
                                },
                                {
                                    "LocationName": "Frame Forming",
                                    "ProductName": "Metal Bar 1",
                                    "TotalQuantity": "353"
                                },
                                {
                                    "LocationName": "Frame Forming",
                                    "ProductName": "Metal Sheet 6",
                                    "TotalQuantity": "324"
                                },
                                {
                                    "LocationName": "Frame Forming",
                                    "ProductName": "Metal Sheet 1",
                                    "TotalQuantity": "305"
                                },
                                {
                                    "LocationName": "Frame Forming",
                                    "ProductName": "Front Derailleur Cage",
                                    "TotalQuantity": "281"
                                },
                                {
                                    "LocationName": "Frame Forming",
                                    "ProductName": "Front Derailleur Linkage",
                                    "TotalQuantity": "278"
                                },
                                {
                                    "LocationName": "Frame Forming",
                                    "ProductName": "LL Mountain Handlebars",
                                    "TotalQuantity": "267"
                                },
                                {
                                    "LocationName": "Frame Forming",
                                    "ProductName": "ML Mountain Handlebars",
                                    "TotalQuantity": "264"
                                },
                                {
                                    "LocationName": "Frame Forming",
                                    "ProductName": "HL Mountain Handlebars",
                                    "TotalQuantity": "260"
                                },
                                {
                                    "LocationName": "Frame Forming",
                                    "ProductName": "LL Road Handlebars",
                                    "TotalQuantity": "257"
                                },
                                {
                                    "LocationName": "Frame Forming",
                                    "ProductName": "ML Road Handlebars",
                                    "TotalQuantity": "254"
                                },
                                {
                                    "LocationName": "Frame Forming",
                                    "ProductName": "HL Fork",
                                    "TotalQuantity": "252"
                                },
                                {
                                    "LocationName": "Frame Forming",
                                    "ProductName": "HL Road Handlebars",
                                    "TotalQuantity": "251"
                                },
                                {
                                    "LocationName": "Frame Forming",
                                    "ProductName": "LL Touring Handlebars",
                                    "TotalQuantity": "248"
                                },
                                {
                                    "LocationName": "Frame Forming",
                                    "ProductName": "LL Hub",
                                    "TotalQuantity": "246"
                                },
                                {
                                    "LocationName": "Frame Forming",
                                    "ProductName": "ML Fork",
                                    "TotalQuantity": "246"
                                },
                                {
                                    "LocationName": "Frame Forming",
                                    "ProductName": "HL Touring Handlebars",
                                    "TotalQuantity": "244"
                                },
                                {
                                    "LocationName": "Frame Forming",
                                    "ProductName": "LL Fork",
                                    "TotalQuantity": "240"
                                },
                                {
                                    "LocationName": "Frame Forming",
                                    "ProductName": "Front Derailleur",
                                    "TotalQuantity": "236"
                                },
                                {
                                    "LocationName": "Frame Forming",
                                    "ProductName": "Freewheel",
                                    "TotalQuantity": "233"
                                },
                                {
                                    "LocationName": "Frame Forming",
                                    "ProductName": "HL Hub",
                                    "TotalQuantity": "212"
                                },
                                {
                                    "LocationName": "Frame Forming",
                                    "ProductName": "Metal Plate 2",
                                    "TotalQuantity": "198"
                                },
                                {
                                    "LocationName": "Frame Forming",
                                    "ProductName": "Metal Plate 3",
                                    "TotalQuantity": "196"
                                },
                                {
                                    "LocationName": "Frame Forming",
                                    "ProductName": "Metal Sheet 7",
                                    "TotalQuantity": "196"
                                },
                                {
                                    "LocationName": "Frame Forming",
                                    "ProductName": "Metal Sheet 2",
                                    "TotalQuantity": "176"
                                },
                                {
                                    "LocationName": "Frame Forming",
                                    "ProductName": "Metal Sheet 4",
                                    "TotalQuantity": "176"
                                },
                                {
                                    "LocationName": "Frame Forming",
                                    "ProductName": "HL Mountain Frame - Black, 38",
                                    "TotalQuantity": "121"
                                },
                                {
                                    "LocationName": "Frame Forming",
                                    "ProductName": "ML Mountain Frame-W - Silver, 38",
                                    "TotalQuantity": "120"
                                },
                                {
                                    "LocationName": "Frame Forming",
                                    "ProductName": "ML Road Frame-W - Yellow, 38",
                                    "TotalQuantity": "115"
                                },
                                {
                                    "LocationName": "Frame Forming",
                                    "ProductName": "LL Mountain Frame - Silver, 40",
                                    "TotalQuantity": "112"
                                },
                                {
                                    "LocationName": "Frame Forming",
                                    "ProductName": "ML Mountain Frame - Black, 38",
                                    "TotalQuantity": "110"
                                },
                                {
                                    "LocationName": "Frame Forming",
                                    "ProductName": "HL Mountain Frame - Silver, 38",
                                    "TotalQuantity": "105"
                                },
                                {
                                    "LocationName": "Frame Forming",
                                    "ProductName": "LL Mountain Frame - Black, 40",
                                    "TotalQuantity": "102"
                                },
                                {
                                    "LocationName": "Frame Welding",
                                    "ProductName": "Handlebar Tube",
                                    "TotalQuantity": "550"
                                },
                                {
                                    "LocationName": "Frame Welding",
                                    "ProductName": "Head Tube",
                                    "TotalQuantity": "544"
                                },
                                {
                                    "LocationName": "Frame Welding",
                                    "ProductName": "Metal Angle",
                                    "TotalQuantity": "355"
                                },
                                {
                                    "LocationName": "Frame Welding",
                                    "ProductName": "HL Hub",
                                    "TotalQuantity": "302"
                                },
                                {
                                    "LocationName": "Frame Welding",
                                    "ProductName": "LL Hub",
                                    "TotalQuantity": "284"
                                },
                                {
                                    "LocationName": "Frame Welding",
                                    "ProductName": "LL Mountain Handlebars",
                                    "TotalQuantity": "276"
                                },
                                {
                                    "LocationName": "Frame Welding",
                                    "ProductName": "ML Mountain Handlebars",
                                    "TotalQuantity": "273"
                                },
                                {
                                    "LocationName": "Frame Welding",
                                    "ProductName": "HL Mountain Handlebars",
                                    "TotalQuantity": "270"
                                },
                                {
                                    "LocationName": "Frame Welding",
                                    "ProductName": "LL Road Handlebars",
                                    "TotalQuantity": "267"
                                },
                                {
                                    "LocationName": "Frame Welding",
                                    "ProductName": "ML Road Handlebars",
                                    "TotalQuantity": "264"
                                },
                                {
                                    "LocationName": "Frame Welding",
                                    "ProductName": "HL Road Handlebars",
                                    "TotalQuantity": "260"
                                },
                                {
                                    "LocationName": "Frame Welding",
                                    "ProductName": "LL Touring Handlebars",
                                    "TotalQuantity": "257"
                                },
                                {
                                    "LocationName": "Frame Welding",
                                    "ProductName": "HL Touring Handlebars",
                                    "TotalQuantity": "254"
                                },
                                {
                                    "LocationName": "Frame Welding",
                                    "ProductName": "HL Mountain Frame - Black, 38",
                                    "TotalQuantity": "161"
                                },
                                {
                                    "LocationName": "Frame Welding",
                                    "ProductName": "ML Mountain Frame-W - Silver, 38",
                                    "TotalQuantity": "160"
                                },
                                {
                                    "LocationName": "Frame Welding",
                                    "ProductName": "ML Road Frame-W - Yellow, 38",
                                    "TotalQuantity": "155"
                                },
                                {
                                    "LocationName": "Frame Welding",
                                    "ProductName": "ML Mountain Frame - Black, 38",
                                    "TotalQuantity": "150"
                                },
                                {
                                    "LocationName": "Frame Welding",
                                    "ProductName": "HL Mountain Frame - Silver, 38",
                                    "TotalQuantity": "145"
                                },
                                {
                                    "LocationName": "Frame Welding",
                                    "ProductName": "LL Mountain Frame - Black, 40",
                                    "TotalQuantity": "142"
                                },
                                {
                                    "LocationName": "Frame Welding",
                                    "ProductName": "LL Mountain Frame - Silver, 40",
                                    "TotalQuantity": "96"
                                },
                                {
                                    "LocationName": "Metal Storage",
                                    "ProductName": "Fork Crown",
                                    "TotalQuantity": "622"
                                },
                                {
                                    "LocationName": "Metal Storage",
                                    "ProductName": "Chainring",
                                    "TotalQuantity": "587"
                                },
                                {
                                    "LocationName": "Metal Storage",
                                    "ProductName": "Fork End",
                                    "TotalQuantity": "574"
                                },
                                {
                                    "LocationName": "Metal Storage",
                                    "ProductName": "Chain Stays",
                                    "TotalQuantity": "568"
                                },
                                {
                                    "LocationName": "Metal Storage",
                                    "ProductName": "Crown Race",
                                    "TotalQuantity": "568"
                                },
                                {
                                    "LocationName": "Metal Storage",
                                    "ProductName": "Metal Bar 2",
                                    "TotalQuantity": "568"
                                },
                                {
                                    "LocationName": "Metal Storage",
                                    "ProductName": "Mountain End Caps",
                                    "TotalQuantity": "568"
                                },
                                {
                                    "LocationName": "Metal Storage",
                                    "ProductName": "Road End Caps",
                                    "TotalQuantity": "558"
                                },
                                {
                                    "LocationName": "Metal Storage",
                                    "ProductName": "Touring End Caps",
                                    "TotalQuantity": "548"
                                },
                                {
                                    "LocationName": "Metal Storage",
                                    "ProductName": "Chainring Nut",
                                    "TotalQuantity": "540"
                                },
                                {
                                    "LocationName": "Metal Storage",
                                    "ProductName": "Blade",
                                    "TotalQuantity": "532"
                                },
                                {
                                    "LocationName": "Metal Storage",
                                    "ProductName": "Metal Sheet 3",
                                    "TotalQuantity": "531"
                                },
                                {
                                    "LocationName": "Metal Storage",
                                    "ProductName": "Metal Plate 1",
                                    "TotalQuantity": "515"
                                },
                                {
                                    "LocationName": "Metal Storage",
                                    "ProductName": "Metal Sheet 5",
                                    "TotalQuantity": "515"
                                },
                                {
                                    "LocationName": "Metal Storage",
                                    "ProductName": "HL Road Front Wheel",
                                    "TotalQuantity": "446"
                                },
                                {
                                    "LocationName": "Metal Storage",
                                    "ProductName": "HL Mountain Front Wheel",
                                    "TotalQuantity": "443"
                                },
                                {
                                    "LocationName": "Metal Storage",
                                    "ProductName": "Touring Front Wheel",
                                    "TotalQuantity": "432"
                                },
                                {
                                    "LocationName": "Metal Storage",
                                    "ProductName": "LL Road Front Wheel",
                                    "TotalQuantity": "428"
                                },
                                {
                                    "LocationName": "Metal Storage",
                                    "ProductName": "Metal Sheet 4",
                                    "TotalQuantity": "427"
                                },
                                {
                                    "LocationName": "Metal Storage",
                                    "ProductName": "Metal Sheet 2",
                                    "TotalQuantity": "427"
                                },
                                {
                                    "LocationName": "Metal Storage",
                                    "ProductName": "ML Road Front Wheel",
                                    "TotalQuantity": "409"
                                },
                                {
                                    "LocationName": "Metal Storage",
                                    "ProductName": "Down Tube",
                                    "TotalQuantity": "408"
                                },
                                {
                                    "LocationName": "Metal Storage",
                                    "ProductName": "ML Mountain Front Wheel",
                                    "TotalQuantity": "406"
                                },
                                {
                                    "LocationName": "Metal Storage",
                                    "ProductName": "Metal Plate 2",
                                    "TotalQuantity": "390"
                                },
                                {
                                    "LocationName": "Metal Storage",
                                    "ProductName": "Metal Plate 3",
                                    "TotalQuantity": "374"
                                },
                                {
                                    "LocationName": "Metal Storage",
                                    "ProductName": "Metal Sheet 7",
                                    "TotalQuantity": "374"
                                },
                                {
                                    "LocationName": "Metal Storage",
                                    "ProductName": "Chainring Bolts",
                                    "TotalQuantity": "372"
                                },
                                {
                                    "LocationName": "Metal Storage",
                                    "ProductName": "Handlebar Tube",
                                    "TotalQuantity": "372"
                                },
                                {
                                    "LocationName": "Metal Storage",
                                    "ProductName": "Head Tube",
                                    "TotalQuantity": "366"
                                },
                                {
                                    "LocationName": "Metal Storage",
                                    "ProductName": "HL Fork",
                                    "TotalQuantity": "363"
                                },
                                {
                                    "LocationName": "Metal Storage",
                                    "ProductName": "ML Fork",
                                    "TotalQuantity": "356"
                                },
                                {
                                    "LocationName": "Metal Storage",
                                    "ProductName": "LL Fork",
                                    "TotalQuantity": "350"
                                },
                                {
                                    "LocationName": "Metal Storage",
                                    "ProductName": "HL Crankset",
                                    "TotalQuantity": "348"
                                },
                                {
                                    "LocationName": "Metal Storage",
                                    "ProductName": "Front Brakes",
                                    "TotalQuantity": "347"
                                },
                                {
                                    "LocationName": "Metal Storage",
                                    "ProductName": "Front Derailleur",
                                    "TotalQuantity": "347"
                                },
                                {
                                    "LocationName": "Metal Storage",
                                    "ProductName": "Freewheel",
                                    "TotalQuantity": "344"
                                },
                                {
                                    "LocationName": "Metal Storage",
                                    "ProductName": "ML Crankset",
                                    "TotalQuantity": "342"
                                },
                                {
                                    "LocationName": "Metal Storage",
                                    "ProductName": "Metal Sheet 6",
                                    "TotalQuantity": "337"
                                },
                                {
                                    "LocationName": "Metal Storage",
                                    "ProductName": "LL Crankset",
                                    "TotalQuantity": "336"
                                },
                                {
                                    "LocationName": "Metal Storage",
                                    "ProductName": "Metal Angle",
                                    "TotalQuantity": "324"
                                },
                                {
                                    "LocationName": "Metal Storage",
                                    "ProductName": "Metal Bar 1",
                                    "TotalQuantity": "323"
                                },
                                {
                                    "LocationName": "Metal Storage",
                                    "ProductName": "Metal Sheet 1",
                                    "TotalQuantity": "318"
                                },
                                {
                                    "LocationName": "Metal Storage",
                                    "ProductName": "Front Derailleur Linkage",
                                    "TotalQuantity": "300"
                                },
                                {
                                    "LocationName": "Metal Storage",
                                    "ProductName": "HL Hub",
                                    "TotalQuantity": "283"
                                },
                                {
                                    "LocationName": "Metal Storage",
                                    "ProductName": "LL Mountain Front Wheel",
                                    "TotalQuantity": "265"
                                },
                                {
                                    "LocationName": "Metal Storage",
                                    "ProductName": "LL Hub",
                                    "TotalQuantity": "260"
                                },
                                {
                                    "LocationName": "Metal Storage",
                                    "ProductName": "Chain",
                                    "TotalQuantity": "192"
                                },
                                {
                                    "LocationName": "Metal Storage",
                                    "ProductName": "HL Crankarm",
                                    "TotalQuantity": "184"
                                },
                                {
                                    "LocationName": "Metal Storage",
                                    "ProductName": "Front Derailleur Cage",
                                    "TotalQuantity": "179"
                                },
                                {
                                    "LocationName": "Metal Storage",
                                    "ProductName": "ML Crankarm",
                                    "TotalQuantity": "171"
                                },
                                {
                                    "LocationName": "Metal Storage",
                                    "ProductName": "LL Crankarm",
                                    "TotalQuantity": "158"
                                },
                                {
                                    "LocationName": "Miscellaneous Storage",
                                    "ProductName": "Seat Lug",
                                    "TotalQuantity": "924"
                                },
                                {
                                    "LocationName": "Miscellaneous Storage",
                                    "ProductName": "Hex Nut 7",
                                    "TotalQuantity": "897"
                                },
                                {
                                    "LocationName": "Miscellaneous Storage",
                                    "ProductName": "Spokes",
                                    "TotalQuantity": "888"
                                },
                                {
                                    "LocationName": "Miscellaneous Storage",
                                    "ProductName": "Hex Nut 14",
                                    "TotalQuantity": "780"
                                },
                                {
                                    "LocationName": "Miscellaneous Storage",
                                    "ProductName": "Seat Stays",
                                    "TotalQuantity": "715"
                                },
                                {
                                    "LocationName": "Miscellaneous Storage",
                                    "ProductName": "Hex Nut 10",
                                    "TotalQuantity": "710"
                                },
                                {
                                    "LocationName": "Miscellaneous Storage",
                                    "ProductName": "Hex Nut 2",
                                    "TotalQuantity": "691"
                                },
                                {
                                    "LocationName": "Miscellaneous Storage",
                                    "ProductName": "Thin-Jam Hex Nut 5",
                                    "TotalQuantity": "691"
                                },
                                {
                                    "LocationName": "Miscellaneous Storage",
                                    "ProductName": "Thin-Jam Hex Nut 3",
                                    "TotalQuantity": "689"
                                },
                                {
                                    "LocationName": "Miscellaneous Storage",
                                    "ProductName": "HL Mountain Rim",
                                    "TotalQuantity": "689"
                                },
                                {
                                    "LocationName": "Miscellaneous Storage",
                                    "ProductName": "ML Mountain Rim",
                                    "TotalQuantity": "681"
                                },
                                {
                                    "LocationName": "Miscellaneous Storage",
                                    "ProductName": "Hex Nut 23",
                                    "TotalQuantity": "676"
                                },
                                {
                                    "LocationName": "Miscellaneous Storage",
                                    "ProductName": "LL Mountain Rim",
                                    "TotalQuantity": "673"
                                },
                                {
                                    "LocationName": "Miscellaneous Storage",
                                    "ProductName": "Hex Nut 6",
                                    "TotalQuantity": "649"
                                },
                                {
                                    "LocationName": "Miscellaneous Storage",
                                    "ProductName": "Thin-Jam Hex Nut 7",
                                    "TotalQuantity": "649"
                                },
                                {
                                    "LocationName": "Miscellaneous Storage",
                                    "ProductName": "LL Shell",
                                    "TotalQuantity": "644"
                                },
                                {
                                    "LocationName": "Miscellaneous Storage",
                                    "ProductName": "Thin-Jam Hex Nut 15",
                                    "TotalQuantity": "643"
                                },
                                {
                                    "LocationName": "Miscellaneous Storage",
                                    "ProductName": "Touring Rim",
                                    "TotalQuantity": "640"
                                },
                                {
                                    "LocationName": "Miscellaneous Storage",
                                    "ProductName": "Internal Lock Washer 6",
                                    "TotalQuantity": "627"
                                },
                                {
                                    "LocationName": "Miscellaneous Storage",
                                    "ProductName": "Metal Tread Plate",
                                    "TotalQuantity": "619"
                                },
                                {
                                    "LocationName": "Miscellaneous Storage",
                                    "ProductName": "Internal Lock Washer 4",
                                    "TotalQuantity": "603"
                                },
                                {
                                    "LocationName": "Miscellaneous Storage",
                                    "ProductName": "Thin-Jam Hex Nut 1",
                                    "TotalQuantity": "601"
                                },
                                {
                                    "LocationName": "Miscellaneous Storage",
                                    "ProductName": "LL Nipple",
                                    "TotalQuantity": "600"
                                },
                                {
                                    "LocationName": "Miscellaneous Storage",
                                    "ProductName": "HL Shell",
                                    "TotalQuantity": "587"
                                },
                                {
                                    "LocationName": "Miscellaneous Storage",
                                    "ProductName": "Decal 2",
                                    "TotalQuantity": "587"
                                },
                                {
                                    "LocationName": "Miscellaneous Storage",
                                    "ProductName": "External Lock Washer 7",
                                    "TotalQuantity": "587"
                                },
                                {
                                    "LocationName": "Miscellaneous Storage",
                                    "ProductName": "Hex Nut 18",
                                    "TotalQuantity": "585"
                                },
                                {
                                    "LocationName": "Miscellaneous Storage",
                                    "ProductName": "Lock Washer 11",
                                    "TotalQuantity": "585"
                                },
                                {
                                    "LocationName": "Miscellaneous Storage",
                                    "ProductName": "Lock Washer 3",
                                    "TotalQuantity": "584"
                                },
                                {
                                    "LocationName": "Miscellaneous Storage",
                                    "ProductName": "Lock Washer 9",
                                    "TotalQuantity": "582"
                                },
                                {
                                    "LocationName": "Miscellaneous Storage",
                                    "ProductName": "Lock Washer 2",
                                    "TotalQuantity": "580"
                                },
                                {
                                    "LocationName": "Miscellaneous Storage",
                                    "ProductName": "Lock Washer 12",
                                    "TotalQuantity": "579"
                                },
                                {
                                    "LocationName": "Miscellaneous Storage",
                                    "ProductName": "Lock Washer 7",
                                    "TotalQuantity": "577"
                                },
                                {
                                    "LocationName": "Miscellaneous Storage",
                                    "ProductName": "Lock Washer 1",
                                    "TotalQuantity": "576"
                                },
                                {
                                    "LocationName": "Miscellaneous Storage",
                                    "ProductName": "Lock Washer 8",
                                    "TotalQuantity": "574"
                                },
                                {
                                    "LocationName": "Miscellaneous Storage",
                                    "ProductName": "Lock Washer 13",
                                    "TotalQuantity": "572"
                                },
                                {
                                    "LocationName": "Miscellaneous Storage",
                                    "ProductName": "Lock Washer 6",
                                    "TotalQuantity": "571"
                                },
                                {
                                    "LocationName": "Miscellaneous Storage",
                                    "ProductName": "Lock Washer 10",
                                    "TotalQuantity": "569"
                                },
                                {
                                    "LocationName": "Miscellaneous Storage",
                                    "ProductName": "Lock Washer 5",
                                    "TotalQuantity": "568"
                                },
                                {
                                    "LocationName": "Miscellaneous Storage",
                                    "ProductName": "Lock Washer 4",
                                    "TotalQuantity": "566"
                                },
                                {
                                    "LocationName": "Miscellaneous Storage",
                                    "ProductName": "External Lock Washer 2",
                                    "TotalQuantity": "552"
                                },
                                {
                                    "LocationName": "Miscellaneous Storage",
                                    "ProductName": "Hex Nut 19",
                                    "TotalQuantity": "550"
                                },
                                {
                                    "LocationName": "Miscellaneous Storage",
                                    "ProductName": "Decal 1",
                                    "TotalQuantity": "540"
                                },
                                {
                                    "LocationName": "Miscellaneous Storage",
                                    "ProductName": "Lock Nut 16",
                                    "TotalQuantity": "534"
                                },
                                {
                                    "LocationName": "Miscellaneous Storage",
                                    "ProductName": "Lock Nut 6",
                                    "TotalQuantity": "531"
                                },
                                {
                                    "LocationName": "Miscellaneous Storage",
                                    "ProductName": "Lock Nut 17",
                                    "TotalQuantity": "529"
                                },
                                {
                                    "LocationName": "Miscellaneous Storage",
                                    "ProductName": "Lock Nut 5",
                                    "TotalQuantity": "528"
                                },
                                {
                                    "LocationName": "Miscellaneous Storage",
                                    "ProductName": "Hex Nut 13",
                                    "TotalQuantity": "526"
                                },
                                {
                                    "LocationName": "Miscellaneous Storage",
                                    "ProductName": "Lock Nut 7",
                                    "TotalQuantity": "524"
                                },
                                {
                                    "LocationName": "Miscellaneous Storage",
                                    "ProductName": "Thin-Jam Lock Nut 11",
                                    "TotalQuantity": "524"
                                },
                                {
                                    "LocationName": "Miscellaneous Storage",
                                    "ProductName": "Thin-Jam Lock Nut 12",
                                    "TotalQuantity": "521"
                                },
                                {
                                    "LocationName": "Miscellaneous Storage",
                                    "ProductName": "Lock Ring",
                                    "TotalQuantity": "521"
                                },
                                {
                                    "LocationName": "Miscellaneous Storage",
                                    "ProductName": "Lock Nut 8",
                                    "TotalQuantity": "520"
                                },
                                {
                                    "LocationName": "Miscellaneous Storage",
                                    "ProductName": "Lock Nut 18",
                                    "TotalQuantity": "518"
                                },
                                {
                                    "LocationName": "Miscellaneous Storage",
                                    "ProductName": "Thin-Jam Lock Nut 8",
                                    "TotalQuantity": "518"
                                },
                                {
                                    "LocationName": "Miscellaneous Storage",
                                    "ProductName": "Thin-Jam Lock Nut 7",
                                    "TotalQuantity": "515"
                                },
                                {
                                    "LocationName": "Miscellaneous Storage",
                                    "ProductName": "Thin-Jam Lock Nut 9",
                                    "TotalQuantity": "515"
                                },
                                {
                                    "LocationName": "Miscellaneous Storage",
                                    "ProductName": "Lock Nut 19",
                                    "TotalQuantity": "515"
                                },
                                {
                                    "LocationName": "Miscellaneous Storage",
                                    "ProductName": "Lock Nut 9",
                                    "TotalQuantity": "515"
                                },
                                {
                                    "LocationName": "Miscellaneous Storage",
                                    "ProductName": "Thin-Jam Lock Nut 10",
                                    "TotalQuantity": "513"
                                },
                                {
                                    "LocationName": "Miscellaneous Storage",
                                    "ProductName": "Thin-Jam Lock Nut 1",
                                    "TotalQuantity": "512"
                                },
                                {
                                    "LocationName": "Miscellaneous Storage",
                                    "ProductName": "Thin-Jam Lock Nut 14",
                                    "TotalQuantity": "512"
                                },
                                {
                                    "LocationName": "Miscellaneous Storage",
                                    "ProductName": "Lock Nut 4",
                                    "TotalQuantity": "512"
                                },
                                {
                                    "LocationName": "Miscellaneous Storage",
                                    "ProductName": "Lock Nut 22",
                                    "TotalQuantity": "510"
                                },
                                {
                                    "LocationName": "Miscellaneous Storage",
                                    "ProductName": "Thin-Jam Lock Nut 2",
                                    "TotalQuantity": "510"
                                },
                                {
                                    "LocationName": "Miscellaneous Storage",
                                    "ProductName": "Thin-Jam Lock Nut 15",
                                    "TotalQuantity": "508"
                                },
                                {
                                    "LocationName": "Miscellaneous Storage",
                                    "ProductName": "Thin-Jam Lock Nut 13",
                                    "TotalQuantity": "508"
                                },
                                {
                                    "LocationName": "Miscellaneous Storage",
                                    "ProductName": "Lock Nut 15",
                                    "TotalQuantity": "508"
                                },
                                {
                                    "LocationName": "Miscellaneous Storage",
                                    "ProductName": "Thin-Jam Lock Nut 16",
                                    "TotalQuantity": "507"
                                },
                                {
                                    "LocationName": "Miscellaneous Storage",
                                    "ProductName": "Thin-Jam Lock Nut 4",
                                    "TotalQuantity": "505"
                                },
                                {
                                    "LocationName": "Miscellaneous Storage",
                                    "ProductName": "Thin-Jam Lock Nut 5",
                                    "TotalQuantity": "505"
                                },
                                {
                                    "LocationName": "Miscellaneous Storage",
                                    "ProductName": "Lock Nut 14",
                                    "TotalQuantity": "505"
                                },
                                {
                                    "LocationName": "Miscellaneous Storage",
                                    "ProductName": "Lock Nut 23",
                                    "TotalQuantity": "505"
                                },
                                {
                                    "LocationName": "Miscellaneous Storage",
                                    "ProductName": "Thin-Jam Lock Nut 6",
                                    "TotalQuantity": "504"
                                },
                                {
                                    "LocationName": "Miscellaneous Storage",
                                    "ProductName": "Thin-Jam Lock Nut 3",
                                    "TotalQuantity": "502"
                                },
                                {
                                    "LocationName": "Miscellaneous Storage",
                                    "ProductName": "Lock Nut 3",
                                    "TotalQuantity": "502"
                                },
                                {
                                    "LocationName": "Miscellaneous Storage",
                                    "ProductName": "Lock Nut 12",
                                    "TotalQuantity": "500"
                                },
                                {
                                    "LocationName": "Miscellaneous Storage",
                                    "ProductName": "Lock Nut 21",
                                    "TotalQuantity": "499"
                                },
                                {
                                    "LocationName": "Miscellaneous Storage",
                                    "ProductName": "Lock Nut 20",
                                    "TotalQuantity": "496"
                                },
                                {
                                    "LocationName": "Miscellaneous Storage",
                                    "ProductName": "Lock Nut 13",
                                    "TotalQuantity": "496"
                                },
                                {
                                    "LocationName": "Miscellaneous Storage",
                                    "ProductName": "Lock Nut 2",
                                    "TotalQuantity": "492"
                                },
                                {
                                    "LocationName": "Miscellaneous Storage",
                                    "ProductName": "Lock Nut 1",
                                    "TotalQuantity": "491"
                                },
                                {
                                    "LocationName": "Miscellaneous Storage",
                                    "ProductName": "Lock Nut 11",
                                    "TotalQuantity": "489"
                                },
                                {
                                    "LocationName": "Miscellaneous Storage",
                                    "ProductName": "Lock Nut 10",
                                    "TotalQuantity": "486"
                                },
                                {
                                    "LocationName": "Miscellaneous Storage",
                                    "ProductName": "HL Bottom Bracket",
                                    "TotalQuantity": "475"
                                },
                                {
                                    "LocationName": "Miscellaneous Storage",
                                    "ProductName": "BB Ball Bearing",
                                    "TotalQuantity": "443"
                                },
                                {
                                    "LocationName": "Miscellaneous Storage",
                                    "ProductName": "Seat Tube",
                                    "TotalQuantity": "443"
                                },
                                {
                                    "LocationName": "Miscellaneous Storage",
                                    "ProductName": "HL Road Rear Wheel",
                                    "TotalQuantity": "432"
                                },
                                {
                                    "LocationName": "Miscellaneous Storage",
                                    "ProductName": "Tension Pulley",
                                    "TotalQuantity": "427"
                                },
                                {
                                    "LocationName": "Miscellaneous Storage",
                                    "ProductName": "Steerer",
                                    "TotalQuantity": "427"
                                },
                                {
                                    "LocationName": "Miscellaneous Storage",
                                    "ProductName": "Stem",
                                    "TotalQuantity": "425"
                                },
                                {
                                    "LocationName": "Miscellaneous Storage",
                                    "ProductName": "HL Touring Seat/Saddle",
                                    "TotalQuantity": "425"
                                },
                                {
                                    "LocationName": "Miscellaneous Storage",
                                    "ProductName": "LL Mountain Rear Wheel",
                                    "TotalQuantity": "425"
                                },
                                {
                                    "LocationName": "Miscellaneous Storage",
                                    "ProductName": "Headset Ball Bearings",
                                    "TotalQuantity": "422"
                                },
                                {
                                    "LocationName": "Miscellaneous Storage",
                                    "ProductName": "HL Nipple",
                                    "TotalQuantity": "420"
                                },
                                {
                                    "LocationName": "Miscellaneous Storage",
                                    "ProductName": "ML Road Rear Wheel",
                                    "TotalQuantity": "412"
                                },
                                {
                                    "LocationName": "Miscellaneous Storage",
                                    "ProductName": "ML Mountain Rear Wheel",
                                    "TotalQuantity": "411"
                                },
                                {
                                    "LocationName": "Miscellaneous Storage",
                                    "ProductName": "LL Road Rim",
                                    "TotalQuantity": "406"
                                },
                                {
                                    "LocationName": "Miscellaneous Storage",
                                    "ProductName": "LL Mountain Seat/Saddle",
                                    "TotalQuantity": "400"
                                },
                                {
                                    "LocationName": "Miscellaneous Storage",
                                    "ProductName": "HL Mountain Rear Wheel",
                                    "TotalQuantity": "396"
                                },
                                {
                                    "LocationName": "Miscellaneous Storage",
                                    "ProductName": "LL Road Rear Wheel",
                                    "TotalQuantity": "393"
                                },
                                {
                                    "LocationName": "Miscellaneous Storage",
                                    "ProductName": "ML Road Rim",
                                    "TotalQuantity": "390"
                                },
                                {
                                    "LocationName": "Miscellaneous Storage",
                                    "ProductName": "Reflector",
                                    "TotalQuantity": "390"
                                },
                                {
                                    "LocationName": "Miscellaneous Storage",
                                    "ProductName": "ML Mountain Tire",
                                    "TotalQuantity": "385"
                                },
                                {
                                    "LocationName": "Miscellaneous Storage",
                                    "ProductName": "ML Road Tire",
                                    "TotalQuantity": "382"
                                },
                                {
                                    "LocationName": "Miscellaneous Storage",
                                    "ProductName": "Top Tube",
                                    "TotalQuantity": "379"
                                },
                                {
                                    "LocationName": "Miscellaneous Storage",
                                    "ProductName": "Cup-Shaped Race",
                                    "TotalQuantity": "372"
                                },
                                {
                                    "LocationName": "Miscellaneous Storage",
                                    "ProductName": "Pinch Bolt",
                                    "TotalQuantity": "364"
                                },
                                {
                                    "LocationName": "Miscellaneous Storage",
                                    "ProductName": "Thin-Jam Hex Nut 9",
                                    "TotalQuantity": "360"
                                },
                                {
                                    "LocationName": "Miscellaneous Storage",
                                    "ProductName": "Thin-Jam Hex Nut 4",
                                    "TotalQuantity": "360"
                                },
                                {
                                    "LocationName": "Miscellaneous Storage",
                                    "ProductName": "Thin-Jam Hex Nut 16",
                                    "TotalQuantity": "358"
                                },
                                {
                                    "LocationName": "Miscellaneous Storage",
                                    "ProductName": "LL Bottom Bracket",
                                    "TotalQuantity": "358"
                                },
                                {
                                    "LocationName": "Miscellaneous Storage",
                                    "ProductName": "Hex Nut 4",
                                    "TotalQuantity": "355"
                                },
                                {
                                    "LocationName": "Miscellaneous Storage",
                                    "ProductName": "Rear Derailleur",
                                    "TotalQuantity": "355"
                                },
                                {
                                    "LocationName": "Miscellaneous Storage",
                                    "ProductName": "Thin-Jam Hex Nut 13",
                                    "TotalQuantity": "353"
                                },
                                {
                                    "LocationName": "Miscellaneous Storage",
                                    "ProductName": "Thin-Jam Hex Nut 10",
                                    "TotalQuantity": "353"
                                },
                                {
                                    "LocationName": "Miscellaneous Storage",
                                    "ProductName": "Hex Nut 5",
                                    "TotalQuantity": "353"
                                },
                                {
                                    "LocationName": "Miscellaneous Storage",
                                    "ProductName": "Keyed Washer",
                                    "TotalQuantity": "353"
                                },
                                {
                                    "LocationName": "Miscellaneous Storage",
                                    "ProductName": "External Lock Washer 3",
                                    "TotalQuantity": "350"
                                },
                                {
                                    "LocationName": "Miscellaneous Storage",
                                    "ProductName": "Thin-Jam Hex Nut 11",
                                    "TotalQuantity": "350"
                                },
                                {
                                    "LocationName": "Miscellaneous Storage",
                                    "ProductName": "Thin-Jam Hex Nut 12",
                                    "TotalQuantity": "347"
                                },
                                {
                                    "LocationName": "Miscellaneous Storage",
                                    "ProductName": "External Lock Washer 4",
                                    "TotalQuantity": "347"
                                },
                                {
                                    "LocationName": "Miscellaneous Storage",
                                    "ProductName": "External Lock Washer 6",
                                    "TotalQuantity": "344"
                                },
                                {
                                    "LocationName": "Miscellaneous Storage",
                                    "ProductName": "External Lock Washer 9",
                                    "TotalQuantity": "344"
                                },
                                {
                                    "LocationName": "Miscellaneous Storage",
                                    "ProductName": "Thin-Jam Hex Nut 8",
                                    "TotalQuantity": "344"
                                },
                                {
                                    "LocationName": "Miscellaneous Storage",
                                    "ProductName": "External Lock Washer 5",
                                    "TotalQuantity": "340"
                                },
                                {
                                    "LocationName": "Miscellaneous Storage",
                                    "ProductName": "External Lock Washer 1",
                                    "TotalQuantity": "340"
                                },
                                {
                                    "LocationName": "Miscellaneous Storage",
                                    "ProductName": "External Lock Washer 8",
                                    "TotalQuantity": "337"
                                },
                                {
                                    "LocationName": "Miscellaneous Storage",
                                    "ProductName": "Seat Post",
                                    "TotalQuantity": "336"
                                },
                                {
                                    "LocationName": "Miscellaneous Storage",
                                    "ProductName": "HL Road Rim",
                                    "TotalQuantity": "334"
                                },
                                {
                                    "LocationName": "Miscellaneous Storage",
                                    "ProductName": "Adjustable Race",
                                    "TotalQuantity": "324"
                                },
                                {
                                    "LocationName": "Miscellaneous Storage",
                                    "ProductName": "Internal Lock Washer 9",
                                    "TotalQuantity": "321"
                                },
                                {
                                    "LocationName": "Miscellaneous Storage",
                                    "ProductName": "Internal Lock Washer 3",
                                    "TotalQuantity": "321"
                                },
                                {
                                    "LocationName": "Miscellaneous Storage",
                                    "ProductName": "ML Bottom Bracket",
                                    "TotalQuantity": "321"
                                },
                                {
                                    "LocationName": "Miscellaneous Storage",
                                    "ProductName": "Bearing Ball",
                                    "TotalQuantity": "318"
                                },
                                {
                                    "LocationName": "Miscellaneous Storage",
                                    "ProductName": "Internal Lock Washer 5",
                                    "TotalQuantity": "316"
                                },
                                {
                                    "LocationName": "Miscellaneous Storage",
                                    "ProductName": "Thin-Jam Hex Nut 2",
                                    "TotalQuantity": "315"
                                },
                                {
                                    "LocationName": "Miscellaneous Storage",
                                    "ProductName": "Internal Lock Washer 7",
                                    "TotalQuantity": "312"
                                },
                                {
                                    "LocationName": "Miscellaneous Storage",
                                    "ProductName": "ML Road Seat/Saddle",
                                    "TotalQuantity": "302"
                                },
                                {
                                    "LocationName": "Miscellaneous Storage",
                                    "ProductName": "HL Road Tire",
                                    "TotalQuantity": "299"
                                },
                                {
                                    "LocationName": "Miscellaneous Storage",
                                    "ProductName": "Cone-Shaped Race",
                                    "TotalQuantity": "299"
                                },
                                {
                                    "LocationName": "Miscellaneous Storage",
                                    "ProductName": "Hex Nut 16",
                                    "TotalQuantity": "299"
                                },
                                {
                                    "LocationName": "Miscellaneous Storage",
                                    "ProductName": "Thin-Jam Hex Nut 6",
                                    "TotalQuantity": "299"
                                },
                                {
                                    "LocationName": "Miscellaneous Storage",
                                    "ProductName": "Hex Nut 17",
                                    "TotalQuantity": "294"
                                },
                                {
                                    "LocationName": "Miscellaneous Storage",
                                    "ProductName": "Mountain Tire Tube",
                                    "TotalQuantity": "286"
                                },
                                {
                                    "LocationName": "Miscellaneous Storage",
                                    "ProductName": "LL Road Seat/Saddle",
                                    "TotalQuantity": "283"
                                },
                                {
                                    "LocationName": "Miscellaneous Storage",
                                    "ProductName": "Internal Lock Washer 10",
                                    "TotalQuantity": "283"
                                },
                                {
                                    "LocationName": "Miscellaneous Storage",
                                    "ProductName": "Internal Lock Washer 1",
                                    "TotalQuantity": "281"
                                },
                                {
                                    "LocationName": "Miscellaneous Storage",
                                    "ProductName": "HL Touring Seat Assembly",
                                    "TotalQuantity": "280"
                                },
                                {
                                    "LocationName": "Miscellaneous Storage",
                                    "ProductName": "Internal Lock Washer 8",
                                    "TotalQuantity": "280"
                                },
                                {
                                    "LocationName": "Miscellaneous Storage",
                                    "ProductName": "Internal Lock Washer 2",
                                    "TotalQuantity": "278"
                                },
                                {
                                    "LocationName": "Miscellaneous Storage",
                                    "ProductName": "ML Touring Seat Assembly",
                                    "TotalQuantity": "278"
                                },
                                {
                                    "LocationName": "Miscellaneous Storage",
                                    "ProductName": "LL Touring Seat Assembly",
                                    "TotalQuantity": "276"
                                },
                                {
                                    "LocationName": "Miscellaneous Storage",
                                    "ProductName": "Hex Nut 22",
                                    "TotalQuantity": "276"
                                },
                                {
                                    "LocationName": "Miscellaneous Storage",
                                    "ProductName": "HL Road Seat Assembly",
                                    "TotalQuantity": "275"
                                },
                                {
                                    "LocationName": "Miscellaneous Storage",
                                    "ProductName": "ML Road Seat Assembly",
                                    "TotalQuantity": "273"
                                },
                                {
                                    "LocationName": "Miscellaneous Storage",
                                    "ProductName": "LL Road Seat Assembly",
                                    "TotalQuantity": "272"
                                },
                                {
                                    "LocationName": "Miscellaneous Storage",
                                    "ProductName": "HL Headset",
                                    "TotalQuantity": "272"
                                },
                                {
                                    "LocationName": "Miscellaneous Storage",
                                    "ProductName": "HL Mountain Seat Assembly",
                                    "TotalQuantity": "270"
                                },
                                {
                                    "LocationName": "Miscellaneous Storage",
                                    "ProductName": "Hex Nut 9",
                                    "TotalQuantity": "270"
                                },
                                {
                                    "LocationName": "Miscellaneous Storage",
                                    "ProductName": "ML Mountain Seat Assembly",
                                    "TotalQuantity": "268"
                                },
                                {
                                    "LocationName": "Miscellaneous Storage",
                                    "ProductName": "ML Headset",
                                    "TotalQuantity": "268"
                                },
                                {
                                    "LocationName": "Miscellaneous Storage",
                                    "ProductName": "LL Mountain Seat Assembly",
                                    "TotalQuantity": "267"
                                },
                                {
                                    "LocationName": "Miscellaneous Storage",
                                    "ProductName": "HL Mountain Tire",
                                    "TotalQuantity": "267"
                                },
                                {
                                    "LocationName": "Miscellaneous Storage",
                                    "ProductName": "HL Road Pedal",
                                    "TotalQuantity": "267"
                                },
                                {
                                    "LocationName": "Miscellaneous Storage",
                                    "ProductName": "LL Headset",
                                    "TotalQuantity": "265"
                                },
                                {
                                    "LocationName": "Miscellaneous Storage",
                                    "ProductName": "Touring Rear Wheel",
                                    "TotalQuantity": "265"
                                },
                                {
                                    "LocationName": "Miscellaneous Storage",
                                    "ProductName": "Road Tire Tube",
                                    "TotalQuantity": "264"
                                },
                                {
                                    "LocationName": "Miscellaneous Storage",
                                    "ProductName": "Hex Nut 8",
                                    "TotalQuantity": "264"
                                },
                                {
                                    "LocationName": "Miscellaneous Storage",
                                    "ProductName": "Touring Pedal",
                                    "TotalQuantity": "262"
                                },
                                {
                                    "LocationName": "Miscellaneous Storage",
                                    "ProductName": "Touring Tire Tube",
                                    "TotalQuantity": "262"
                                },
                                {
                                    "LocationName": "Miscellaneous Storage",
                                    "ProductName": "Guide Pulley",
                                    "TotalQuantity": "257"
                                },
                                {
                                    "LocationName": "Miscellaneous Storage",
                                    "ProductName": "LL Touring Seat/Saddle",
                                    "TotalQuantity": "248"
                                },
                                {
                                    "LocationName": "Miscellaneous Storage",
                                    "ProductName": "LL Grip Tape",
                                    "TotalQuantity": "243"
                                },
                                {
                                    "LocationName": "Miscellaneous Storage",
                                    "ProductName": "LL Mountain Tire",
                                    "TotalQuantity": "240"
                                },
                                {
                                    "LocationName": "Miscellaneous Storage",
                                    "ProductName": "LL Road Tire",
                                    "TotalQuantity": "236"
                                },
                                {
                                    "LocationName": "Miscellaneous Storage",
                                    "ProductName": "Touring Tire",
                                    "TotalQuantity": "233"
                                },
                                {
                                    "LocationName": "Miscellaneous Storage",
                                    "ProductName": "ML Mountain Seat/Saddle",
                                    "TotalQuantity": "230"
                                },
                                {
                                    "LocationName": "Miscellaneous Storage",
                                    "ProductName": "ML Grip Tape",
                                    "TotalQuantity": "228"
                                },
                                {
                                    "LocationName": "Miscellaneous Storage",
                                    "ProductName": "Rear Brakes",
                                    "TotalQuantity": "228"
                                },
                                {
                                    "LocationName": "Miscellaneous Storage",
                                    "ProductName": "Hex Nut 12",
                                    "TotalQuantity": "217"
                                },
                                {
                                    "LocationName": "Miscellaneous Storage",
                                    "ProductName": "HL Grip Tape",
                                    "TotalQuantity": "214"
                                },
                                {
                                    "LocationName": "Miscellaneous Storage",
                                    "ProductName": "Lower Head Race",
                                    "TotalQuantity": "204"
                                },
                                {
                                    "LocationName": "Miscellaneous Storage",
                                    "ProductName": "Hex Nut 1",
                                    "TotalQuantity": "192"
                                },
                                {
                                    "LocationName": "Miscellaneous Storage",
                                    "ProductName": "LL Mountain Pedal",
                                    "TotalQuantity": "182"
                                },
                                {
                                    "LocationName": "Miscellaneous Storage",
                                    "ProductName": "ML Mountain Pedal",
                                    "TotalQuantity": "180"
                                },
                                {
                                    "LocationName": "Miscellaneous Storage",
                                    "ProductName": "HL Mountain Pedal",
                                    "TotalQuantity": "179"
                                },
                                {
                                    "LocationName": "Miscellaneous Storage",
                                    "ProductName": "LL Road Pedal",
                                    "TotalQuantity": "177"
                                },
                                {
                                    "LocationName": "Miscellaneous Storage",
                                    "ProductName": "ML Road Pedal",
                                    "TotalQuantity": "176"
                                },
                                {
                                    "LocationName": "Miscellaneous Storage",
                                    "ProductName": "HL Road Seat/Saddle",
                                    "TotalQuantity": "169"
                                },
                                {
                                    "LocationName": "Miscellaneous Storage",
                                    "ProductName": "LL Spindle/Axle",
                                    "TotalQuantity": "164"
                                },
                                {
                                    "LocationName": "Miscellaneous Storage",
                                    "ProductName": "ML Touring Seat/Saddle",
                                    "TotalQuantity": "161"
                                },
                                {
                                    "LocationName": "Miscellaneous Storage",
                                    "ProductName": "Thin-Jam Hex Nut 14",
                                    "TotalQuantity": "155"
                                },
                                {
                                    "LocationName": "Miscellaneous Storage",
                                    "ProductName": "Hex Nut 15",
                                    "TotalQuantity": "150"
                                },
                                {
                                    "LocationName": "Miscellaneous Storage",
                                    "ProductName": "Hex Nut 3",
                                    "TotalQuantity": "147"
                                },
                                {
                                    "LocationName": "Miscellaneous Storage",
                                    "ProductName": "Hex Nut 21",
                                    "TotalQuantity": "144"
                                },
                                {
                                    "LocationName": "Miscellaneous Storage",
                                    "ProductName": "Hex Nut 20",
                                    "TotalQuantity": "140"
                                },
                                {
                                    "LocationName": "Miscellaneous Storage",
                                    "ProductName": "Hex Nut 11",
                                    "TotalQuantity": "140"
                                },
                                {
                                    "LocationName": "Miscellaneous Storage",
                                    "ProductName": "Rear Derailleur Cage",
                                    "TotalQuantity": "136"
                                },
                                {
                                    "LocationName": "Miscellaneous Storage",
                                    "ProductName": "HL Spindle/Axle",
                                    "TotalQuantity": "124"
                                },
                                {
                                    "LocationName": "Miscellaneous Storage",
                                    "ProductName": "HL Mountain Seat/Saddle",
                                    "TotalQuantity": "91"
                                },
                                {
                                    "LocationName": "Paint",
                                    "ProductName": "HL Mountain Frame - Black, 38",
                                    "TotalQuantity": "107"
                                },
                                {
                                    "LocationName": "Paint",
                                    "ProductName": "ML Road Frame-W - Yellow, 38",
                                    "TotalQuantity": "100"
                                },
                                {
                                    "LocationName": "Paint",
                                    "ProductName": "ML Mountain Frame - Black, 38",
                                    "TotalQuantity": "96"
                                },
                                {
                                    "LocationName": "Paint",
                                    "ProductName": "LL Mountain Frame - Black, 40",
                                    "TotalQuantity": "88"
                                },
                                {
                                    "LocationName": "Paint",
                                    "ProductName": "Paint - Yellow",
                                    "TotalQuantity": "44"
                                },
                                {
                                    "LocationName": "Paint",
                                    "ProductName": "Paint - Red",
                                    "TotalQuantity": "28"
                                },
                                {
                                    "LocationName": "Paint",
                                    "ProductName": "Paint - Blue",
                                    "TotalQuantity": "25"
                                },
                                {
                                    "LocationName": "Paint",
                                    "ProductName": "Paint - Black",
                                    "TotalQuantity": "16"
                                },
                                {
                                    "LocationName": "Paint",
                                    "ProductName": "Paint - Silver",
                                    "TotalQuantity": "4"
                                },
                                {
                                    "LocationName": "Paint Shop",
                                    "ProductName": "Paint - Silver",
                                    "TotalQuantity": "49"
                                },
                                {
                                    "LocationName": "Paint Shop",
                                    "ProductName": "Paint - Blue",
                                    "TotalQuantity": "49"
                                },
                                {
                                    "LocationName": "Paint Shop",
                                    "ProductName": "Paint - Red",
                                    "TotalQuantity": "41"
                                },
                                {
                                    "LocationName": "Paint Shop",
                                    "ProductName": "Paint - Yellow",
                                    "TotalQuantity": "30"
                                },
                                {
                                    "LocationName": "Paint Shop",
                                    "ProductName": "Paint - Black",
                                    "TotalQuantity": "17"
                                },
                                {
                                    "LocationName": "Paint Storage",
                                    "ProductName": "Paint - Blue",
                                    "TotalQuantity": "35"
                                },
                                {
                                    "LocationName": "Paint Storage",
                                    "ProductName": "Paint - Yellow",
                                    "TotalQuantity": "25"
                                },
                                {
                                    "LocationName": "Paint Storage",
                                    "ProductName": "Paint - Red",
                                    "TotalQuantity": "24"
                                },
                                {
                                    "LocationName": "Paint Storage",
                                    "ProductName": "Paint - Black",
                                    "TotalQuantity": "14"
                                },
                                {
                                    "LocationName": "Paint Storage",
                                    "ProductName": "Paint - Silver",
                                    "TotalQuantity": "12"
                                },
                                {
                                    "LocationName": "Sheet Metal Racks",
                                    "ProductName": "Metal Sheet 3",
                                    "TotalQuantity": "691"
                                },
                                {
                                    "LocationName": "Sheet Metal Racks",
                                    "ProductName": "Metal Plate 1",
                                    "TotalQuantity": "689"
                                },
                                {
                                    "LocationName": "Sheet Metal Racks",
                                    "ProductName": "Metal Sheet 5",
                                    "TotalQuantity": "689"
                                },
                                {
                                    "LocationName": "Sheet Metal Racks",
                                    "ProductName": "Metal Bar 2",
                                    "TotalQuantity": "497"
                                },
                                {
                                    "LocationName": "Sheet Metal Racks",
                                    "ProductName": "Metal Plate 2",
                                    "TotalQuantity": "441"
                                },
                                {
                                    "LocationName": "Sheet Metal Racks",
                                    "ProductName": "Metal Plate 3",
                                    "TotalQuantity": "427"
                                },
                                {
                                    "LocationName": "Sheet Metal Racks",
                                    "ProductName": "Metal Sheet 7",
                                    "TotalQuantity": "427"
                                },
                                {
                                    "LocationName": "Sheet Metal Racks",
                                    "ProductName": "Metal Bar 1",
                                    "TotalQuantity": "403"
                                },
                                {
                                    "LocationName": "Sheet Metal Racks",
                                    "ProductName": "Metal Sheet 6",
                                    "TotalQuantity": "331"
                                },
                                {
                                    "LocationName": "Sheet Metal Racks",
                                    "ProductName": "Metal Sheet 4",
                                    "TotalQuantity": "321"
                                },
                                {
                                    "LocationName": "Sheet Metal Racks",
                                    "ProductName": "Metal Sheet 2",
                                    "TotalQuantity": "321"
                                },
                                {
                                    "LocationName": "Sheet Metal Racks",
                                    "ProductName": "Metal Sheet 1",
                                    "TotalQuantity": "312"
                                },
                                {
                                    "LocationName": "Specialized Paint",
                                    "ProductName": "LL Mountain Frame - Silver, 40",
                                    "TotalQuantity": "136"
                                },
                                {
                                    "LocationName": "Specialized Paint",
                                    "ProductName": "ML Mountain Frame-W - Silver, 38",
                                    "TotalQuantity": "105"
                                },
                                {
                                    "LocationName": "Specialized Paint",
                                    "ProductName": "HL Mountain Frame - Silver, 38",
                                    "TotalQuantity": "91"
                                },
                                {
                                    "LocationName": "Subassembly",
                                    "ProductName": "Hex Nut 19",
                                    "TotalQuantity": "763"
                                },
                                {
                                    "LocationName": "Subassembly",
                                    "ProductName": "Touring Rim",
                                    "TotalQuantity": "724"
                                },
                                {
                                    "LocationName": "Subassembly",
                                    "ProductName": "Spokes",
                                    "TotalQuantity": "702"
                                },
                                {
                                    "LocationName": "Subassembly",
                                    "ProductName": "Hex Nut 7",
                                    "TotalQuantity": "691"
                                },
                                {
                                    "LocationName": "Subassembly",
                                    "ProductName": "Hex Nut 10",
                                    "TotalQuantity": "654"
                                },
                                {
                                    "LocationName": "Subassembly",
                                    "ProductName": "Chainring Nut",
                                    "TotalQuantity": "641"
                                },
                                {
                                    "LocationName": "Subassembly",
                                    "ProductName": "Lock Washer 11",
                                    "TotalQuantity": "640"
                                },
                                {
                                    "LocationName": "Subassembly",
                                    "ProductName": "Lock Washer 3",
                                    "TotalQuantity": "638"
                                },
                                {
                                    "LocationName": "Subassembly",
                                    "ProductName": "Hex Nut 23",
                                    "TotalQuantity": "638"
                                },
                                {
                                    "LocationName": "Subassembly",
                                    "ProductName": "Lock Washer 9",
                                    "TotalQuantity": "636"
                                },
                                {
                                    "LocationName": "Subassembly",
                                    "ProductName": "Lock Washer 2",
                                    "TotalQuantity": "635"
                                },
                                {
                                    "LocationName": "Subassembly",
                                    "ProductName": "Lock Washer 12",
                                    "TotalQuantity": "633"
                                },
                                {
                                    "LocationName": "Subassembly",
                                    "ProductName": "Hex Nut 13",
                                    "TotalQuantity": "633"
                                },
                                {
                                    "LocationName": "Subassembly",
                                    "ProductName": "Lock Washer 7",
                                    "TotalQuantity": "632"
                                },
                                {
                                    "LocationName": "Subassembly",
                                    "ProductName": "Lock Washer 1",
                                    "TotalQuantity": "630"
                                },
                                {
                                    "LocationName": "Subassembly",
                                    "ProductName": "Lock Washer 8",
                                    "TotalQuantity": "628"
                                },
                                {
                                    "LocationName": "Subassembly",
                                    "ProductName": "Lock Washer 13",
                                    "TotalQuantity": "627"
                                },
                                {
                                    "LocationName": "Subassembly",
                                    "ProductName": "Lock Washer 6",
                                    "TotalQuantity": "625"
                                },
                                {
                                    "LocationName": "Subassembly",
                                    "ProductName": "External Lock Washer 7",
                                    "TotalQuantity": "625"
                                },
                                {
                                    "LocationName": "Subassembly",
                                    "ProductName": "HL Shell",
                                    "TotalQuantity": "624"
                                },
                                {
                                    "LocationName": "Subassembly",
                                    "ProductName": "Lock Washer 10",
                                    "TotalQuantity": "624"
                                },
                                {
                                    "LocationName": "Subassembly",
                                    "ProductName": "Lock Washer 5",
                                    "TotalQuantity": "622"
                                },
                                {
                                    "LocationName": "Subassembly",
                                    "ProductName": "Lock Washer 4",
                                    "TotalQuantity": "620"
                                },
                                {
                                    "LocationName": "Subassembly",
                                    "ProductName": "LL Shell",
                                    "TotalQuantity": "619"
                                },
                                {
                                    "LocationName": "Subassembly",
                                    "ProductName": "Thin-Jam Hex Nut 15",
                                    "TotalQuantity": "619"
                                },
                                {
                                    "LocationName": "Subassembly",
                                    "ProductName": "Thin-Jam Hex Nut 5",
                                    "TotalQuantity": "619"
                                },
                                {
                                    "LocationName": "Subassembly",
                                    "ProductName": "Metal Tread Plate",
                                    "TotalQuantity": "606"
                                },
                                {
                                    "LocationName": "Subassembly",
                                    "ProductName": "Flat Washer 2",
                                    "TotalQuantity": "606"
                                },
                                {
                                    "LocationName": "Subassembly",
                                    "ProductName": "Hex Nut 18",
                                    "TotalQuantity": "603"
                                },
                                {
                                    "LocationName": "Subassembly",
                                    "ProductName": "LL Nipple",
                                    "TotalQuantity": "587"
                                },
                                {
                                    "LocationName": "Subassembly",
                                    "ProductName": "Thin-Jam Hex Nut 3",
                                    "TotalQuantity": "569"
                                },
                                {
                                    "LocationName": "Subassembly",
                                    "ProductName": "HL Mountain Rim",
                                    "TotalQuantity": "558"
                                },
                                {
                                    "LocationName": "Subassembly",
                                    "ProductName": "ML Mountain Rim",
                                    "TotalQuantity": "550"
                                },
                                {
                                    "LocationName": "Subassembly",
                                    "ProductName": "Hex Nut 6",
                                    "TotalQuantity": "547"
                                },
                                {
                                    "LocationName": "Subassembly",
                                    "ProductName": "Thin-Jam Hex Nut 7",
                                    "TotalQuantity": "547"
                                },
                                {
                                    "LocationName": "Subassembly",
                                    "ProductName": "LL Mountain Rim",
                                    "TotalQuantity": "542"
                                },
                                {
                                    "LocationName": "Subassembly",
                                    "ProductName": "Thin-Jam Hex Nut 1",
                                    "TotalQuantity": "531"
                                },
                                {
                                    "LocationName": "Subassembly",
                                    "ProductName": "Lock Nut 16",
                                    "TotalQuantity": "516"
                                },
                                {
                                    "LocationName": "Subassembly",
                                    "ProductName": "Internal Lock Washer 6",
                                    "TotalQuantity": "516"
                                },
                                {
                                    "LocationName": "Subassembly",
                                    "ProductName": "Down Tube",
                                    "TotalQuantity": "513"
                                },
                                {
                                    "LocationName": "Subassembly",
                                    "ProductName": "Crown Race",
                                    "TotalQuantity": "513"
                                },
                                {
                                    "LocationName": "Subassembly",
                                    "ProductName": "Lock Nut 6",
                                    "TotalQuantity": "513"
                                },
                                {
                                    "LocationName": "Subassembly",
                                    "ProductName": "Lock Nut 17",
                                    "TotalQuantity": "512"
                                },
                                {
                                    "LocationName": "Subassembly",
                                    "ProductName": "Lock Nut 5",
                                    "TotalQuantity": "510"
                                },
                                {
                                    "LocationName": "Subassembly",
                                    "ProductName": "Lock Nut 7",
                                    "TotalQuantity": "507"
                                },
                                {
                                    "LocationName": "Subassembly",
                                    "ProductName": "Thin-Jam Lock Nut 11",
                                    "TotalQuantity": "507"
                                },
                                {
                                    "LocationName": "Subassembly",
                                    "ProductName": "Thin-Jam Lock Nut 12",
                                    "TotalQuantity": "504"
                                },
                                {
                                    "LocationName": "Subassembly",
                                    "ProductName": "Lock Ring",
                                    "TotalQuantity": "504"
                                },
                                {
                                    "LocationName": "Subassembly",
                                    "ProductName": "Lock Nut 8",
                                    "TotalQuantity": "502"
                                },
                                {
                                    "LocationName": "Subassembly",
                                    "ProductName": "Lock Nut 18",
                                    "TotalQuantity": "500"
                                },
                                {
                                    "LocationName": "Subassembly",
                                    "ProductName": "Thin-Jam Lock Nut 8",
                                    "TotalQuantity": "500"
                                },
                                {
                                    "LocationName": "Subassembly",
                                    "ProductName": "Thin-Jam Lock Nut 7",
                                    "TotalQuantity": "497"
                                },
                                {
                                    "LocationName": "Subassembly",
                                    "ProductName": "Thin-Jam Lock Nut 9",
                                    "TotalQuantity": "497"
                                },
                                {
                                    "LocationName": "Subassembly",
                                    "ProductName": "Lock Nut 19",
                                    "TotalQuantity": "497"
                                },
                                {
                                    "LocationName": "Subassembly",
                                    "ProductName": "Lock Nut 9",
                                    "TotalQuantity": "497"
                                },
                                {
                                    "LocationName": "Subassembly",
                                    "ProductName": "Hex Nut 14",
                                    "TotalQuantity": "497"
                                },
                                {
                                    "LocationName": "Subassembly",
                                    "ProductName": "Thin-Jam Lock Nut 10",
                                    "TotalQuantity": "496"
                                },
                                {
                                    "LocationName": "Subassembly",
                                    "ProductName": "Thin-Jam Lock Nut 1",
                                    "TotalQuantity": "494"
                                },
                                {
                                    "LocationName": "Subassembly",
                                    "ProductName": "Thin-Jam Lock Nut 14",
                                    "TotalQuantity": "494"
                                },
                                {
                                    "LocationName": "Subassembly",
                                    "ProductName": "Lock Nut 4",
                                    "TotalQuantity": "494"
                                },
                                {
                                    "LocationName": "Subassembly",
                                    "ProductName": "Lock Nut 22",
                                    "TotalQuantity": "492"
                                },
                                {
                                    "LocationName": "Subassembly",
                                    "ProductName": "Thin-Jam Lock Nut 2",
                                    "TotalQuantity": "492"
                                },
                                {
                                    "LocationName": "Subassembly",
                                    "ProductName": "Thin-Jam Lock Nut 15",
                                    "TotalQuantity": "491"
                                },
                                {
                                    "LocationName": "Subassembly",
                                    "ProductName": "Thin-Jam Lock Nut 13",
                                    "TotalQuantity": "491"
                                },
                                {
                                    "LocationName": "Subassembly",
                                    "ProductName": "Lock Nut 15",
                                    "TotalQuantity": "491"
                                },
                                {
                                    "LocationName": "Subassembly",
                                    "ProductName": "Thin-Jam Lock Nut 16",
                                    "TotalQuantity": "489"
                                },
                                {
                                    "LocationName": "Subassembly",
                                    "ProductName": "Thin-Jam Lock Nut 4",
                                    "TotalQuantity": "488"
                                },
                                {
                                    "LocationName": "Subassembly",
                                    "ProductName": "Thin-Jam Lock Nut 5",
                                    "TotalQuantity": "488"
                                },
                                {
                                    "LocationName": "Subassembly",
                                    "ProductName": "Lock Nut 14",
                                    "TotalQuantity": "488"
                                },
                                {
                                    "LocationName": "Subassembly",
                                    "ProductName": "Lock Nut 23",
                                    "TotalQuantity": "488"
                                },
                                {
                                    "LocationName": "Subassembly",
                                    "ProductName": "Thin-Jam Lock Nut 6",
                                    "TotalQuantity": "486"
                                },
                                {
                                    "LocationName": "Subassembly",
                                    "ProductName": "Thin-Jam Lock Nut 3",
                                    "TotalQuantity": "484"
                                },
                                {
                                    "LocationName": "Subassembly",
                                    "ProductName": "Lock Nut 3",
                                    "TotalQuantity": "484"
                                },
                                {
                                    "LocationName": "Subassembly",
                                    "ProductName": "Lock Nut 12",
                                    "TotalQuantity": "483"
                                },
                                {
                                    "LocationName": "Subassembly",
                                    "ProductName": "Lock Nut 21",
                                    "TotalQuantity": "481"
                                },
                                {
                                    "LocationName": "Subassembly",
                                    "ProductName": "Lock Nut 20",
                                    "TotalQuantity": "478"
                                },
                                {
                                    "LocationName": "Subassembly",
                                    "ProductName": "Lock Nut 13",
                                    "TotalQuantity": "478"
                                },
                                {
                                    "LocationName": "Subassembly",
                                    "ProductName": "Mountain End Caps",
                                    "TotalQuantity": "476"
                                },
                                {
                                    "LocationName": "Subassembly",
                                    "ProductName": "Chain Stays",
                                    "TotalQuantity": "476"
                                },
                                {
                                    "LocationName": "Subassembly",
                                    "ProductName": "Flat Washer 3",
                                    "TotalQuantity": "476"
                                },
                                {
                                    "LocationName": "Subassembly",
                                    "ProductName": "Thin-Jam Hex Nut 14",
                                    "TotalQuantity": "476"
                                },
                                {
                                    "LocationName": "Subassembly",
                                    "ProductName": "Touring Rear Wheel",
                                    "TotalQuantity": "476"
                                },
                                {
                                    "LocationName": "Subassembly",
                                    "ProductName": "Chainring",
                                    "TotalQuantity": "475"
                                },
                                {
                                    "LocationName": "Subassembly",
                                    "ProductName": "Lock Nut 2",
                                    "TotalQuantity": "475"
                                },
                                {
                                    "LocationName": "Subassembly",
                                    "ProductName": "Lock Nut 1",
                                    "TotalQuantity": "473"
                                },
                                {
                                    "LocationName": "Subassembly",
                                    "ProductName": "Lock Nut 11",
                                    "TotalQuantity": "472"
                                },
                                {
                                    "LocationName": "Subassembly",
                                    "ProductName": "Lock Nut 10",
                                    "TotalQuantity": "468"
                                },
                                {
                                    "LocationName": "Subassembly",
                                    "ProductName": "Road End Caps",
                                    "TotalQuantity": "467"
                                },
                                {
                                    "LocationName": "Subassembly",
                                    "ProductName": "LL Road Front Wheel",
                                    "TotalQuantity": "460"
                                },
                                {
                                    "LocationName": "Subassembly",
                                    "ProductName": "Hex Nut 2",
                                    "TotalQuantity": "460"
                                },
                                {
                                    "LocationName": "Subassembly",
                                    "ProductName": "Internal Lock Washer 4",
                                    "TotalQuantity": "459"
                                },
                                {
                                    "LocationName": "Subassembly",
                                    "ProductName": "External Lock Washer 2",
                                    "TotalQuantity": "459"
                                },
                                {
                                    "LocationName": "Subassembly",
                                    "ProductName": "Hex Nut 15",
                                    "TotalQuantity": "459"
                                },
                                {
                                    "LocationName": "Subassembly",
                                    "ProductName": "LL Mountain Front Wheel",
                                    "TotalQuantity": "457"
                                },
                                {
                                    "LocationName": "Subassembly",
                                    "ProductName": "Touring End Caps",
                                    "TotalQuantity": "457"
                                },
                                {
                                    "LocationName": "Subassembly",
                                    "ProductName": "Blade",
                                    "TotalQuantity": "441"
                                },
                                {
                                    "LocationName": "Subassembly",
                                    "ProductName": "ML Road Rear Wheel",
                                    "TotalQuantity": "425"
                                },
                                {
                                    "LocationName": "Subassembly",
                                    "ProductName": "Front Brakes",
                                    "TotalQuantity": "420"
                                },
                                {
                                    "LocationName": "Subassembly",
                                    "ProductName": "ML Mountain Front Wheel",
                                    "TotalQuantity": "412"
                                },
                                {
                                    "LocationName": "Subassembly",
                                    "ProductName": "Thin-Jam Hex Nut 6",
                                    "TotalQuantity": "412"
                                },
                                {
                                    "LocationName": "Subassembly",
                                    "ProductName": "Tension Pulley",
                                    "TotalQuantity": "409"
                                },
                                {
                                    "LocationName": "Subassembly",
                                    "ProductName": "LL Road Rear Wheel",
                                    "TotalQuantity": "406"
                                },
                                {
                                    "LocationName": "Subassembly",
                                    "ProductName": "ML Mountain Rear Wheel",
                                    "TotalQuantity": "401"
                                },
                                {
                                    "LocationName": "Subassembly",
                                    "ProductName": "Hex Nut 16",
                                    "TotalQuantity": "393"
                                },
                                {
                                    "LocationName": "Subassembly",
                                    "ProductName": "Flat Washer 1",
                                    "TotalQuantity": "392"
                                },
                                {
                                    "LocationName": "Subassembly",
                                    "ProductName": "Fork End",
                                    "TotalQuantity": "390"
                                },
                                {
                                    "LocationName": "Subassembly",
                                    "ProductName": "Flat Washer 6",
                                    "TotalQuantity": "388"
                                },
                                {
                                    "LocationName": "Subassembly",
                                    "ProductName": "Hex Nut 17",
                                    "TotalQuantity": "388"
                                },
                                {
                                    "LocationName": "Subassembly",
                                    "ProductName": "Headset Ball Bearings",
                                    "TotalQuantity": "388"
                                },
                                {
                                    "LocationName": "Subassembly",
                                    "ProductName": "Internal Lock Washer 10",
                                    "TotalQuantity": "388"
                                },
                                {
                                    "LocationName": "Subassembly",
                                    "ProductName": "HL Mountain Front Wheel",
                                    "TotalQuantity": "388"
                                },
                                {
                                    "LocationName": "Subassembly",
                                    "ProductName": "Touring Pedal",
                                    "TotalQuantity": "388"
                                },
                                {
                                    "LocationName": "Subassembly",
                                    "ProductName": "HL Mountain Rear Wheel",
                                    "TotalQuantity": "387"
                                },
                                {
                                    "LocationName": "Subassembly",
                                    "ProductName": "Internal Lock Washer 1",
                                    "TotalQuantity": "387"
                                },
                                {
                                    "LocationName": "Subassembly",
                                    "ProductName": "Internal Lock Washer 8",
                                    "TotalQuantity": "385"
                                },
                                {
                                    "LocationName": "Subassembly",
                                    "ProductName": "Hex Nut 1",
                                    "TotalQuantity": "385"
                                },
                                {
                                    "LocationName": "Subassembly",
                                    "ProductName": "Internal Lock Washer 2",
                                    "TotalQuantity": "384"
                                },
                                {
                                    "LocationName": "Subassembly",
                                    "ProductName": "ML Road Front Wheel",
                                    "TotalQuantity": "384"
                                },
                                {
                                    "LocationName": "Subassembly",
                                    "ProductName": "Thin-Jam Hex Nut 9",
                                    "TotalQuantity": "374"
                                },
                                {
                                    "LocationName": "Subassembly",
                                    "ProductName": "Thin-Jam Hex Nut 4",
                                    "TotalQuantity": "374"
                                },
                                {
                                    "LocationName": "Subassembly",
                                    "ProductName": "Hex Nut 3",
                                    "TotalQuantity": "372"
                                },
                                {
                                    "LocationName": "Subassembly",
                                    "ProductName": "Internal Lock Washer 9",
                                    "TotalQuantity": "371"
                                },
                                {
                                    "LocationName": "Subassembly",
                                    "ProductName": "Hex Nut 21",
                                    "TotalQuantity": "369"
                                },
                                {
                                    "LocationName": "Subassembly",
                                    "ProductName": "LL Mountain Tire",
                                    "TotalQuantity": "369"
                                },
                                {
                                    "LocationName": "Subassembly",
                                    "ProductName": "Thin-Jam Hex Nut 13",
                                    "TotalQuantity": "368"
                                },
                                {
                                    "LocationName": "Subassembly",
                                    "ProductName": "Thin-Jam Hex Nut 10",
                                    "TotalQuantity": "368"
                                },
                                {
                                    "LocationName": "Subassembly",
                                    "ProductName": "Hex Nut 20",
                                    "TotalQuantity": "366"
                                },
                                {
                                    "LocationName": "Subassembly",
                                    "ProductName": "Internal Lock Washer 5",
                                    "TotalQuantity": "366"
                                },
                                {
                                    "LocationName": "Subassembly",
                                    "ProductName": "Hex Nut 11",
                                    "TotalQuantity": "366"
                                },
                                {
                                    "LocationName": "Subassembly",
                                    "ProductName": "Bearing Ball",
                                    "TotalQuantity": "364"
                                },
                                {
                                    "LocationName": "Subassembly",
                                    "ProductName": "Hex Nut 22",
                                    "TotalQuantity": "363"
                                },
                                {
                                    "LocationName": "Subassembly",
                                    "ProductName": "Internal Lock Washer 7",
                                    "TotalQuantity": "361"
                                },
                                {
                                    "LocationName": "Subassembly",
                                    "ProductName": "Hex Nut 9",
                                    "TotalQuantity": "356"
                                },
                                {
                                    "LocationName": "Subassembly",
                                    "ProductName": "Adjustable Race",
                                    "TotalQuantity": "353"
                                },
                                {
                                    "LocationName": "Subassembly",
                                    "ProductName": "ML Road Seat/Saddle",
                                    "TotalQuantity": "353"
                                },
                                {
                                    "LocationName": "Subassembly",
                                    "ProductName": "ML Road Rim",
                                    "TotalQuantity": "350"
                                },
                                {
                                    "LocationName": "Subassembly",
                                    "ProductName": "Hex Nut 8",
                                    "TotalQuantity": "350"
                                },
                                {
                                    "LocationName": "Subassembly",
                                    "ProductName": "Thin-Jam Hex Nut 2",
                                    "TotalQuantity": "334"
                                },
                                {
                                    "LocationName": "Subassembly",
                                    "ProductName": "Flat Washer 9",
                                    "TotalQuantity": "332"
                                },
                                {
                                    "LocationName": "Subassembly",
                                    "ProductName": "HL Touring Seat Assembly",
                                    "TotalQuantity": "331"
                                },
                                {
                                    "LocationName": "Subassembly",
                                    "ProductName": "ML Touring Seat Assembly",
                                    "TotalQuantity": "329"
                                },
                                {
                                    "LocationName": "Subassembly",
                                    "ProductName": "LL Touring Seat Assembly",
                                    "TotalQuantity": "328"
                                },
                                {
                                    "LocationName": "Subassembly",
                                    "ProductName": "HL Road Seat Assembly",
                                    "TotalQuantity": "326"
                                },
                                {
                                    "LocationName": "Subassembly",
                                    "ProductName": "Thin-Jam Hex Nut 16",
                                    "TotalQuantity": "326"
                                },
                                {
                                    "LocationName": "Subassembly",
                                    "ProductName": "BB Ball Bearing",
                                    "TotalQuantity": "324"
                                },
                                {
                                    "LocationName": "Subassembly",
                                    "ProductName": "ML Road Seat Assembly",
                                    "TotalQuantity": "324"
                                },
                                {
                                    "LocationName": "Subassembly",
                                    "ProductName": "LL Road Seat Assembly",
                                    "TotalQuantity": "323"
                                },
                                {
                                    "LocationName": "Subassembly",
                                    "ProductName": "HL Road Pedal",
                                    "TotalQuantity": "323"
                                },
                                {
                                    "LocationName": "Subassembly",
                                    "ProductName": "Keyed Washer",
                                    "TotalQuantity": "321"
                                },
                                {
                                    "LocationName": "Subassembly",
                                    "ProductName": "HL Mountain Seat Assembly",
                                    "TotalQuantity": "321"
                                },
                                {
                                    "LocationName": "Subassembly",
                                    "ProductName": "LL Road Seat/Saddle",
                                    "TotalQuantity": "321"
                                },
                                {
                                    "LocationName": "Subassembly",
                                    "ProductName": "ML Mountain Seat Assembly",
                                    "TotalQuantity": "320"
                                },
                                {
                                    "LocationName": "Subassembly",
                                    "ProductName": "Cup-Shaped Race",
                                    "TotalQuantity": "320"
                                },
                                {
                                    "LocationName": "Subassembly",
                                    "ProductName": "External Lock Washer 3",
                                    "TotalQuantity": "318"
                                },
                                {
                                    "LocationName": "Subassembly",
                                    "ProductName": "LL Mountain Seat Assembly",
                                    "TotalQuantity": "318"
                                },
                                {
                                    "LocationName": "Subassembly",
                                    "ProductName": "LL Mountain Handlebars",
                                    "TotalQuantity": "316"
                                },
                                {
                                    "LocationName": "Subassembly",
                                    "ProductName": "LL Road Rim",
                                    "TotalQuantity": "316"
                                },
                                {
                                    "LocationName": "Subassembly",
                                    "ProductName": "External Lock Washer 4",
                                    "TotalQuantity": "315"
                                },
                                {
                                    "LocationName": "Subassembly",
                                    "ProductName": "Flat Washer 4",
                                    "TotalQuantity": "315"
                                },
                                {
                                    "LocationName": "Subassembly",
                                    "ProductName": "Fork Crown",
                                    "TotalQuantity": "313"
                                },
                                {
                                    "LocationName": "Subassembly",
                                    "ProductName": "ML Mountain Handlebars",
                                    "TotalQuantity": "313"
                                },
                                {
                                    "LocationName": "Subassembly",
                                    "ProductName": "External Lock Washer 9",
                                    "TotalQuantity": "312"
                                },
                                {
                                    "LocationName": "Subassembly",
                                    "ProductName": "HL Mountain Handlebars",
                                    "TotalQuantity": "310"
                                },
                                {
                                    "LocationName": "Subassembly",
                                    "ProductName": "External Lock Washer 5",
                                    "TotalQuantity": "308"
                                },
                                {
                                    "LocationName": "Subassembly",
                                    "ProductName": "LL Road Handlebars",
                                    "TotalQuantity": "307"
                                },
                                {
                                    "LocationName": "Subassembly",
                                    "ProductName": "HL Crankarm",
                                    "TotalQuantity": "305"
                                },
                                {
                                    "LocationName": "Subassembly",
                                    "ProductName": "Hex Nut 12",
                                    "TotalQuantity": "304"
                                },
                                {
                                    "LocationName": "Subassembly",
                                    "ProductName": "ML Road Handlebars",
                                    "TotalQuantity": "304"
                                },
                                {
                                    "LocationName": "Subassembly",
                                    "ProductName": "Touring Front Wheel",
                                    "TotalQuantity": "304"
                                },
                                {
                                    "LocationName": "Subassembly",
                                    "ProductName": "HL Road Handlebars",
                                    "TotalQuantity": "300"
                                },
                                {
                                    "LocationName": "Subassembly",
                                    "ProductName": "HL Crankset",
                                    "TotalQuantity": "297"
                                },
                                {
                                    "LocationName": "Subassembly",
                                    "ProductName": "LL Touring Handlebars",
                                    "TotalQuantity": "297"
                                },
                                {
                                    "LocationName": "Subassembly",
                                    "ProductName": "External Lock Washer 6",
                                    "TotalQuantity": "296"
                                },
                                {
                                    "LocationName": "Subassembly",
                                    "ProductName": "HL Touring Handlebars",
                                    "TotalQuantity": "294"
                                },
                                {
                                    "LocationName": "Subassembly",
                                    "ProductName": "External Lock Washer 1",
                                    "TotalQuantity": "292"
                                },
                                {
                                    "LocationName": "Subassembly",
                                    "ProductName": "ML Crankset",
                                    "TotalQuantity": "291"
                                },
                                {
                                    "LocationName": "Subassembly",
                                    "ProductName": "External Lock Washer 8",
                                    "TotalQuantity": "289"
                                },
                                {
                                    "LocationName": "Subassembly",
                                    "ProductName": "Guide Pulley",
                                    "TotalQuantity": "289"
                                },
                                {
                                    "LocationName": "Subassembly",
                                    "ProductName": "HL Touring Seat/Saddle",
                                    "TotalQuantity": "288"
                                },
                                {
                                    "LocationName": "Subassembly",
                                    "ProductName": "HL Fork",
                                    "TotalQuantity": "286"
                                },
                                {
                                    "LocationName": "Subassembly",
                                    "ProductName": "HL Road Rear Wheel",
                                    "TotalQuantity": "284"
                                },
                                {
                                    "LocationName": "Subassembly",
                                    "ProductName": "LL Crankset",
                                    "TotalQuantity": "284"
                                },
                                {
                                    "LocationName": "Subassembly",
                                    "ProductName": "ML Mountain Tire",
                                    "TotalQuantity": "284"
                                },
                                {
                                    "LocationName": "Subassembly",
                                    "ProductName": "Cone-Shaped Race",
                                    "TotalQuantity": "283"
                                },
                                {
                                    "LocationName": "Subassembly",
                                    "ProductName": "Chainring Bolts",
                                    "TotalQuantity": "283"
                                },
                                {
                                    "LocationName": "Subassembly",
                                    "ProductName": "HL Road Rim",
                                    "TotalQuantity": "281"
                                },
                                {
                                    "LocationName": "Subassembly",
                                    "ProductName": "Hex Nut 5",
                                    "TotalQuantity": "281"
                                },
                                {
                                    "LocationName": "Subassembly",
                                    "ProductName": "ML Fork",
                                    "TotalQuantity": "280"
                                },
                                {
                                    "LocationName": "Subassembly",
                                    "ProductName": "Top Tube",
                                    "TotalQuantity": "278"
                                },
                                {
                                    "LocationName": "Subassembly",
                                    "ProductName": "Thin-Jam Hex Nut 11",
                                    "TotalQuantity": "278"
                                },
                                {
                                    "LocationName": "Subassembly",
                                    "ProductName": "Thin-Jam Hex Nut 12",
                                    "TotalQuantity": "275"
                                },
                                {
                                    "LocationName": "Subassembly",
                                    "ProductName": "LL Grip Tape",
                                    "TotalQuantity": "275"
                                },
                                {
                                    "LocationName": "Subassembly",
                                    "ProductName": "LL Fork",
                                    "TotalQuantity": "273"
                                },
                                {
                                    "LocationName": "Subassembly",
                                    "ProductName": "Pinch Bolt",
                                    "TotalQuantity": "273"
                                },
                                {
                                    "LocationName": "Subassembly",
                                    "ProductName": "Thin-Jam Hex Nut 8",
                                    "TotalQuantity": "272"
                                },
                                {
                                    "LocationName": "Subassembly",
                                    "ProductName": "Front Derailleur",
                                    "TotalQuantity": "270"
                                },
                                {
                                    "LocationName": "Subassembly",
                                    "ProductName": "Freewheel",
                                    "TotalQuantity": "267"
                                },
                                {
                                    "LocationName": "Subassembly",
                                    "ProductName": "ML Bottom Bracket",
                                    "TotalQuantity": "265"
                                },
                                {
                                    "LocationName": "Subassembly",
                                    "ProductName": "ML Grip Tape",
                                    "TotalQuantity": "260"
                                },
                                {
                                    "LocationName": "Subassembly",
                                    "ProductName": "LL Mountain Rear Wheel",
                                    "TotalQuantity": "256"
                                },
                                {
                                    "LocationName": "Subassembly",
                                    "ProductName": "Flat Washer 7",
                                    "TotalQuantity": "256"
                                },
                                {
                                    "LocationName": "Subassembly",
                                    "ProductName": "LL Road Tire",
                                    "TotalQuantity": "252"
                                },
                                {
                                    "LocationName": "Subassembly",
                                    "ProductName": "Flat Washer 5",
                                    "TotalQuantity": "251"
                                },
                                {
                                    "LocationName": "Subassembly",
                                    "ProductName": "Touring Tire",
                                    "TotalQuantity": "249"
                                },
                                {
                                    "LocationName": "Subassembly",
                                    "ProductName": "HL Nipple",
                                    "TotalQuantity": "248"
                                },
                                {
                                    "LocationName": "Subassembly",
                                    "ProductName": "HL Grip Tape",
                                    "TotalQuantity": "246"
                                },
                                {
                                    "LocationName": "Subassembly",
                                    "ProductName": "Flat Washer 8",
                                    "TotalQuantity": "246"
                                },
                                {
                                    "LocationName": "Subassembly",
                                    "ProductName": "Mountain Tire Tube",
                                    "TotalQuantity": "243"
                                },
                                {
                                    "LocationName": "Subassembly",
                                    "ProductName": "Road Tire Tube",
                                    "TotalQuantity": "241"
                                },
                                {
                                    "LocationName": "Subassembly",
                                    "ProductName": "Touring Tire Tube",
                                    "TotalQuantity": "240"
                                },
                                {
                                    "LocationName": "Subassembly",
                                    "ProductName": "HL Mountain Tire",
                                    "TotalQuantity": "232"
                                },
                                {
                                    "LocationName": "Subassembly",
                                    "ProductName": "HL Road Front Wheel",
                                    "TotalQuantity": "232"
                                },
                                {
                                    "LocationName": "Subassembly",
                                    "ProductName": "HL Spindle/Axle",
                                    "TotalQuantity": "228"
                                },
                                {
                                    "LocationName": "Subassembly",
                                    "ProductName": "HL Road Tire",
                                    "TotalQuantity": "228"
                                },
                                {
                                    "LocationName": "Subassembly",
                                    "ProductName": "HL Headset",
                                    "TotalQuantity": "219"
                                },
                                {
                                    "LocationName": "Subassembly",
                                    "ProductName": "ML Headset",
                                    "TotalQuantity": "216"
                                },
                                {
                                    "LocationName": "Subassembly",
                                    "ProductName": "LL Mountain Seat/Saddle",
                                    "TotalQuantity": "214"
                                },
                                {
                                    "LocationName": "Subassembly",
                                    "ProductName": "LL Headset",
                                    "TotalQuantity": "212"
                                },
                                {
                                    "LocationName": "Subassembly",
                                    "ProductName": "LL Bottom Bracket",
                                    "TotalQuantity": "212"
                                },
                                {
                                    "LocationName": "Subassembly",
                                    "ProductName": "LL Spindle/Axle",
                                    "TotalQuantity": "209"
                                },
                                {
                                    "LocationName": "Subassembly",
                                    "ProductName": "Front Derailleur Linkage",
                                    "TotalQuantity": "195"
                                },
                                {
                                    "LocationName": "Subassembly",
                                    "ProductName": "ML Road Tire",
                                    "TotalQuantity": "192"
                                },
                                {
                                    "LocationName": "Subassembly",
                                    "ProductName": "Lower Head Race",
                                    "TotalQuantity": "187"
                                },
                                {
                                    "LocationName": "Subassembly",
                                    "ProductName": "HL Bottom Bracket",
                                    "TotalQuantity": "174"
                                },
                                {
                                    "LocationName": "Subassembly",
                                    "ProductName": "LL Touring Seat/Saddle",
                                    "TotalQuantity": "171"
                                },
                                {
                                    "LocationName": "Subassembly",
                                    "ProductName": "HL Mountain Seat/Saddle",
                                    "TotalQuantity": "168"
                                },
                                {
                                    "LocationName": "Subassembly",
                                    "ProductName": "Chain",
                                    "TotalQuantity": "161"
                                },
                                {
                                    "LocationName": "Subassembly",
                                    "ProductName": "HL Mountain Frame - Black, 38",
                                    "TotalQuantity": "160"
                                },
                                {
                                    "LocationName": "Subassembly",
                                    "ProductName": "ML Mountain Frame-W - Silver, 38",
                                    "TotalQuantity": "158"
                                },
                                {
                                    "LocationName": "Subassembly",
                                    "ProductName": "Rear Brakes",
                                    "TotalQuantity": "158"
                                },
                                {
                                    "LocationName": "Subassembly",
                                    "ProductName": "LL Mountain Pedal",
                                    "TotalQuantity": "156"
                                },
                                {
                                    "LocationName": "Subassembly",
                                    "ProductName": "Internal Lock Washer 3",
                                    "TotalQuantity": "156"
                                },
                                {
                                    "LocationName": "Subassembly",
                                    "ProductName": "ML Mountain Pedal",
                                    "TotalQuantity": "155"
                                },
                                {
                                    "LocationName": "Subassembly",
                                    "ProductName": "Rear Derailleur",
                                    "TotalQuantity": "155"
                                },
                                {
                                    "LocationName": "Subassembly",
                                    "ProductName": "ML Road Frame-W - Yellow, 38",
                                    "TotalQuantity": "153"
                                },
                                {
                                    "LocationName": "Subassembly",
                                    "ProductName": "HL Mountain Pedal",
                                    "TotalQuantity": "153"
                                },
                                {
                                    "LocationName": "Subassembly",
                                    "ProductName": "LL Crankarm",
                                    "TotalQuantity": "152"
                                },
                                {
                                    "LocationName": "Subassembly",
                                    "ProductName": "LL Road Pedal",
                                    "TotalQuantity": "152"
                                },
                                {
                                    "LocationName": "Subassembly",
                                    "ProductName": "ML Road Pedal",
                                    "TotalQuantity": "150"
                                },
                                {
                                    "LocationName": "Subassembly",
                                    "ProductName": "ML Mountain Frame - Black, 38",
                                    "TotalQuantity": "148"
                                },
                                {
                                    "LocationName": "Subassembly",
                                    "ProductName": "Hex Nut 4",
                                    "TotalQuantity": "148"
                                },
                                {
                                    "LocationName": "Subassembly",
                                    "ProductName": "HL Road Seat/Saddle",
                                    "TotalQuantity": "145"
                                },
                                {
                                    "LocationName": "Subassembly",
                                    "ProductName": "Front Derailleur Cage",
                                    "TotalQuantity": "145"
                                },
                                {
                                    "LocationName": "Subassembly",
                                    "ProductName": "HL Mountain Frame - Silver, 38",
                                    "TotalQuantity": "144"
                                },
                                {
                                    "LocationName": "Subassembly",
                                    "ProductName": "LL Mountain Frame - Black, 40",
                                    "TotalQuantity": "140"
                                },
                                {
                                    "LocationName": "Subassembly",
                                    "ProductName": "ML Crankarm",
                                    "TotalQuantity": "132"
                                },
                                {
                                    "LocationName": "Subassembly",
                                    "ProductName": "Rear Derailleur Cage",
                                    "TotalQuantity": "121"
                                },
                                {
                                    "LocationName": "Subassembly",
                                    "ProductName": "Reflector",
                                    "TotalQuantity": "121"
                                },
                                {
                                    "LocationName": "Subassembly",
                                    "ProductName": "ML Touring Seat/Saddle",
                                    "TotalQuantity": "83"
                                },
                                {
                                    "LocationName": "Subassembly",
                                    "ProductName": "LL Mountain Frame - Silver, 40",
                                    "TotalQuantity": "81"
                                },
                                {
                                    "LocationName": "Subassembly",
                                    "ProductName": "ML Mountain Seat/Saddle",
                                    "TotalQuantity": "72"
                                },
                                {
                                    "LocationName": "Tool Crib",
                                    "ProductName": "Hex Nut 2",
                                    "TotalQuantity": "657"
                                },
                                {
                                    "LocationName": "Tool Crib",
                                    "ProductName": "Thin-Jam Hex Nut 3",
                                    "TotalQuantity": "643"
                                },
                                {
                                    "LocationName": "Tool Crib",
                                    "ProductName": "Internal Lock Washer 4",
                                    "TotalQuantity": "641"
                                },
                                {
                                    "LocationName": "Tool Crib",
                                    "ProductName": "Lock Nut 16",
                                    "TotalQuantity": "640"
                                },
                                {
                                    "LocationName": "Tool Crib",
                                    "ProductName": "Lock Nut 6",
                                    "TotalQuantity": "636"
                                },
                                {
                                    "LocationName": "Tool Crib",
                                    "ProductName": "Hex Nut 18",
                                    "TotalQuantity": "636"
                                },
                                {
                                    "LocationName": "Tool Crib",
                                    "ProductName": "Lock Nut 17",
                                    "TotalQuantity": "635"
                                },
                                {
                                    "LocationName": "Tool Crib",
                                    "ProductName": "Lock Nut 5",
                                    "TotalQuantity": "633"
                                },
                                {
                                    "LocationName": "Tool Crib",
                                    "ProductName": "Lock Nut 7",
                                    "TotalQuantity": "630"
                                },
                                {
                                    "LocationName": "Tool Crib",
                                    "ProductName": "Thin-Jam Lock Nut 11",
                                    "TotalQuantity": "630"
                                },
                                {
                                    "LocationName": "Tool Crib",
                                    "ProductName": "Thin-Jam Lock Nut 12",
                                    "TotalQuantity": "627"
                                },
                                {
                                    "LocationName": "Tool Crib",
                                    "ProductName": "Lock Ring",
                                    "TotalQuantity": "627"
                                },
                                {
                                    "LocationName": "Tool Crib",
                                    "ProductName": "Lock Nut 8",
                                    "TotalQuantity": "625"
                                },
                                {
                                    "LocationName": "Tool Crib",
                                    "ProductName": "Lock Nut 18",
                                    "TotalQuantity": "624"
                                },
                                {
                                    "LocationName": "Tool Crib",
                                    "ProductName": "Thin-Jam Lock Nut 8",
                                    "TotalQuantity": "624"
                                },
                                {
                                    "LocationName": "Tool Crib",
                                    "ProductName": "Chainring",
                                    "TotalQuantity": "622"
                                },
                                {
                                    "LocationName": "Tool Crib",
                                    "ProductName": "Decal 2",
                                    "TotalQuantity": "622"
                                },
                                {
                                    "LocationName": "Tool Crib",
                                    "ProductName": "Lock Nut 19",
                                    "TotalQuantity": "620"
                                },
                                {
                                    "LocationName": "Tool Crib",
                                    "ProductName": "Lock Nut 9",
                                    "TotalQuantity": "620"
                                },
                                {
                                    "LocationName": "Tool Crib",
                                    "ProductName": "Thin-Jam Lock Nut 7",
                                    "TotalQuantity": "620"
                                },
                                {
                                    "LocationName": "Tool Crib",
                                    "ProductName": "Thin-Jam Lock Nut 9",
                                    "TotalQuantity": "620"
                                },
                                {
                                    "LocationName": "Tool Crib",
                                    "ProductName": "Thin-Jam Lock Nut 10",
                                    "TotalQuantity": "619"
                                },
                                {
                                    "LocationName": "Tool Crib",
                                    "ProductName": "Hex Nut 13",
                                    "TotalQuantity": "619"
                                },
                                {
                                    "LocationName": "Tool Crib",
                                    "ProductName": "Lock Nut 4",
                                    "TotalQuantity": "617"
                                },
                                {
                                    "LocationName": "Tool Crib",
                                    "ProductName": "Thin-Jam Lock Nut 1",
                                    "TotalQuantity": "617"
                                },
                                {
                                    "LocationName": "Tool Crib",
                                    "ProductName": "Thin-Jam Lock Nut 14",
                                    "TotalQuantity": "617"
                                },
                                {
                                    "LocationName": "Tool Crib",
                                    "ProductName": "Thin-Jam Lock Nut 2",
                                    "TotalQuantity": "616"
                                },
                                {
                                    "LocationName": "Tool Crib",
                                    "ProductName": "Lock Nut 22",
                                    "TotalQuantity": "616"
                                },
                                {
                                    "LocationName": "Tool Crib",
                                    "ProductName": "Lock Nut 15",
                                    "TotalQuantity": "614"
                                },
                                {
                                    "LocationName": "Tool Crib",
                                    "ProductName": "Thin-Jam Lock Nut 15",
                                    "TotalQuantity": "614"
                                },
                                {
                                    "LocationName": "Tool Crib",
                                    "ProductName": "Thin-Jam Lock Nut 13",
                                    "TotalQuantity": "614"
                                },
                                {
                                    "LocationName": "Tool Crib",
                                    "ProductName": "Thin-Jam Lock Nut 16",
                                    "TotalQuantity": "612"
                                },
                                {
                                    "LocationName": "Tool Crib",
                                    "ProductName": "Metal Tread Plate",
                                    "TotalQuantity": "612"
                                },
                                {
                                    "LocationName": "Tool Crib",
                                    "ProductName": "Lock Nut 14",
                                    "TotalQuantity": "611"
                                },
                                {
                                    "LocationName": "Tool Crib",
                                    "ProductName": "Lock Nut 23",
                                    "TotalQuantity": "611"
                                },
                                {
                                    "LocationName": "Tool Crib",
                                    "ProductName": "Thin-Jam Lock Nut 4",
                                    "TotalQuantity": "611"
                                },
                                {
                                    "LocationName": "Tool Crib",
                                    "ProductName": "Thin-Jam Lock Nut 5",
                                    "TotalQuantity": "611"
                                },
                                {
                                    "LocationName": "Tool Crib",
                                    "ProductName": "Thin-Jam Lock Nut 6",
                                    "TotalQuantity": "609"
                                },
                                {
                                    "LocationName": "Tool Crib",
                                    "ProductName": "Thin-Jam Lock Nut 3",
                                    "TotalQuantity": "608"
                                },
                                {
                                    "LocationName": "Tool Crib",
                                    "ProductName": "Lock Nut 3",
                                    "TotalQuantity": "608"
                                },
                                {
                                    "LocationName": "Tool Crib",
                                    "ProductName": "Lock Nut 12",
                                    "TotalQuantity": "606"
                                },
                                {
                                    "LocationName": "Tool Crib",
                                    "ProductName": "Lock Nut 21",
                                    "TotalQuantity": "604"
                                },
                                {
                                    "LocationName": "Tool Crib",
                                    "ProductName": "Hex Nut 14",
                                    "TotalQuantity": "603"
                                },
                                {
                                    "LocationName": "Tool Crib",
                                    "ProductName": "External Lock Washer 2",
                                    "TotalQuantity": "603"
                                },
                                {
                                    "LocationName": "Tool Crib",
                                    "ProductName": "Crown Race",
                                    "TotalQuantity": "603"
                                },
                                {
                                    "LocationName": "Tool Crib",
                                    "ProductName": "Lock Nut 20",
                                    "TotalQuantity": "601"
                                },
                                {
                                    "LocationName": "Tool Crib",
                                    "ProductName": "Lock Nut 13",
                                    "TotalQuantity": "601"
                                },
                                {
                                    "LocationName": "Tool Crib",
                                    "ProductName": "Lock Nut 2",
                                    "TotalQuantity": "598"
                                },
                                {
                                    "LocationName": "Tool Crib",
                                    "ProductName": "Lock Nut 1",
                                    "TotalQuantity": "596"
                                },
                                {
                                    "LocationName": "Tool Crib",
                                    "ProductName": "Lock Nut 11",
                                    "TotalQuantity": "595"
                                },
                                {
                                    "LocationName": "Tool Crib",
                                    "ProductName": "LL Nipple",
                                    "TotalQuantity": "593"
                                },
                                {
                                    "LocationName": "Tool Crib",
                                    "ProductName": "Lock Nut 10",
                                    "TotalQuantity": "592"
                                },
                                {
                                    "LocationName": "Tool Crib",
                                    "ProductName": "Hex Nut 23",
                                    "TotalQuantity": "587"
                                },
                                {
                                    "LocationName": "Tool Crib",
                                    "ProductName": "Hex Nut 6",
                                    "TotalQuantity": "585"
                                },
                                {
                                    "LocationName": "Tool Crib",
                                    "ProductName": "Chain Stays",
                                    "TotalQuantity": "585"
                                },
                                {
                                    "LocationName": "Tool Crib",
                                    "ProductName": "BB Ball Bearing",
                                    "TotalQuantity": "585"
                                },
                                {
                                    "LocationName": "Tool Crib",
                                    "ProductName": "Flat Washer 3",
                                    "TotalQuantity": "585"
                                },
                                {
                                    "LocationName": "Tool Crib",
                                    "ProductName": "Thin-Jam Hex Nut 7",
                                    "TotalQuantity": "585"
                                },
                                {
                                    "LocationName": "Tool Crib",
                                    "ProductName": "Internal Lock Washer 6",
                                    "TotalQuantity": "572"
                                },
                                {
                                    "LocationName": "Tool Crib",
                                    "ProductName": "Decal 1",
                                    "TotalQuantity": "569"
                                },
                                {
                                    "LocationName": "Tool Crib",
                                    "ProductName": "Chainring Nut",
                                    "TotalQuantity": "569"
                                },
                                {
                                    "LocationName": "Tool Crib",
                                    "ProductName": "Flat Washer 2",
                                    "TotalQuantity": "568"
                                },
                                {
                                    "LocationName": "Tool Crib",
                                    "ProductName": "Hex Nut 10",
                                    "TotalQuantity": "524"
                                },
                                {
                                    "LocationName": "Tool Crib",
                                    "ProductName": "Lock Washer 11",
                                    "TotalQuantity": "518"
                                },
                                {
                                    "LocationName": "Tool Crib",
                                    "ProductName": "Lock Washer 3",
                                    "TotalQuantity": "516"
                                },
                                {
                                    "LocationName": "Tool Crib",
                                    "ProductName": "Lock Washer 9",
                                    "TotalQuantity": "515"
                                },
                                {
                                    "LocationName": "Tool Crib",
                                    "ProductName": "Lock Washer 2",
                                    "TotalQuantity": "513"
                                },
                                {
                                    "LocationName": "Tool Crib",
                                    "ProductName": "Lock Washer 12",
                                    "TotalQuantity": "512"
                                },
                                {
                                    "LocationName": "Tool Crib",
                                    "ProductName": "Headset Ball Bearings",
                                    "TotalQuantity": "512"
                                },
                                {
                                    "LocationName": "Tool Crib",
                                    "ProductName": "Lock Washer 7",
                                    "TotalQuantity": "510"
                                },
                                {
                                    "LocationName": "Tool Crib",
                                    "ProductName": "Lock Washer 1",
                                    "TotalQuantity": "508"
                                },
                                {
                                    "LocationName": "Tool Crib",
                                    "ProductName": "Lock Washer 8",
                                    "TotalQuantity": "507"
                                },
                                {
                                    "LocationName": "Tool Crib",
                                    "ProductName": "Lock Washer 13",
                                    "TotalQuantity": "505"
                                },
                                {
                                    "LocationName": "Tool Crib",
                                    "ProductName": "Lock Washer 6",
                                    "TotalQuantity": "504"
                                },
                                {
                                    "LocationName": "Tool Crib",
                                    "ProductName": "Lock Washer 10",
                                    "TotalQuantity": "502"
                                },
                                {
                                    "LocationName": "Tool Crib",
                                    "ProductName": "Lock Washer 5",
                                    "TotalQuantity": "500"
                                },
                                {
                                    "LocationName": "Tool Crib",
                                    "ProductName": "Lock Washer 4",
                                    "TotalQuantity": "499"
                                },
                                {
                                    "LocationName": "Tool Crib",
                                    "ProductName": "Thin-Jam Hex Nut 15",
                                    "TotalQuantity": "499"
                                },
                                {
                                    "LocationName": "Tool Crib",
                                    "ProductName": "Thin-Jam Hex Nut 1",
                                    "TotalQuantity": "499"
                                },
                                {
                                    "LocationName": "Tool Crib",
                                    "ProductName": "Chainring Bolts",
                                    "TotalQuantity": "481"
                                },
                                {
                                    "LocationName": "Tool Crib",
                                    "ProductName": "External Lock Washer 7",
                                    "TotalQuantity": "460"
                                },
                                {
                                    "LocationName": "Tool Crib",
                                    "ProductName": "Bearing Ball",
                                    "TotalQuantity": "427"
                                },
                                {
                                    "LocationName": "Tool Crib",
                                    "ProductName": "Internal Lock Washer 9",
                                    "TotalQuantity": "427"
                                },
                                {
                                    "LocationName": "Tool Crib",
                                    "ProductName": "Internal Lock Washer 5",
                                    "TotalQuantity": "422"
                                },
                                {
                                    "LocationName": "Tool Crib",
                                    "ProductName": "Internal Lock Washer 7",
                                    "TotalQuantity": "417"
                                },
                                {
                                    "LocationName": "Tool Crib",
                                    "ProductName": "External Lock Washer 6",
                                    "TotalQuantity": "417"
                                },
                                {
                                    "LocationName": "Tool Crib",
                                    "ProductName": "External Lock Washer 1",
                                    "TotalQuantity": "414"
                                },
                                {
                                    "LocationName": "Tool Crib",
                                    "ProductName": "External Lock Washer 8",
                                    "TotalQuantity": "411"
                                },
                                {
                                    "LocationName": "Tool Crib",
                                    "ProductName": "Thin-Jam Hex Nut 5",
                                    "TotalQuantity": "411"
                                },
                                {
                                    "LocationName": "Tool Crib",
                                    "ProductName": "Adjustable Race",
                                    "TotalQuantity": "408"
                                },
                                {
                                    "LocationName": "Tool Crib",
                                    "ProductName": "Cup-Shaped Race",
                                    "TotalQuantity": "392"
                                },
                                {
                                    "LocationName": "Tool Crib",
                                    "ProductName": "Cone-Shaped Race",
                                    "TotalQuantity": "388"
                                },
                                {
                                    "LocationName": "Tool Crib",
                                    "ProductName": "Thin-Jam Hex Nut 2",
                                    "TotalQuantity": "377"
                                },
                                {
                                    "LocationName": "Tool Crib",
                                    "ProductName": "Flat Washer 1",
                                    "TotalQuantity": "372"
                                },
                                {
                                    "LocationName": "Tool Crib",
                                    "ProductName": "Flat Washer 6",
                                    "TotalQuantity": "369"
                                },
                                {
                                    "LocationName": "Tool Crib",
                                    "ProductName": "Thin-Jam Hex Nut 4",
                                    "TotalQuantity": "369"
                                },
                                {
                                    "LocationName": "Tool Crib",
                                    "ProductName": "Thin-Jam Hex Nut 9",
                                    "TotalQuantity": "369"
                                },
                                {
                                    "LocationName": "Tool Crib",
                                    "ProductName": "Thin-Jam Hex Nut 16",
                                    "TotalQuantity": "368"
                                },
                                {
                                    "LocationName": "Tool Crib",
                                    "ProductName": "Thin-Jam Hex Nut 13",
                                    "TotalQuantity": "363"
                                },
                                {
                                    "LocationName": "Tool Crib",
                                    "ProductName": "Thin-Jam Hex Nut 10",
                                    "TotalQuantity": "363"
                                },
                                {
                                    "LocationName": "Tool Crib",
                                    "ProductName": "Flat Washer 9",
                                    "TotalQuantity": "358"
                                },
                                {
                                    "LocationName": "Tool Crib",
                                    "ProductName": "Hex Nut 19",
                                    "TotalQuantity": "339"
                                },
                                {
                                    "LocationName": "Tool Crib",
                                    "ProductName": "Rear Derailleur",
                                    "TotalQuantity": "337"
                                },
                                {
                                    "LocationName": "Tool Crib",
                                    "ProductName": "Rear Brakes",
                                    "TotalQuantity": "337"
                                },
                                {
                                    "LocationName": "Tool Crib",
                                    "ProductName": "Pinch Bolt",
                                    "TotalQuantity": "336"
                                },
                                {
                                    "LocationName": "Tool Crib",
                                    "ProductName": "Flat Washer 7",
                                    "TotalQuantity": "328"
                                },
                                {
                                    "LocationName": "Tool Crib",
                                    "ProductName": "Flat Washer 5",
                                    "TotalQuantity": "323"
                                },
                                {
                                    "LocationName": "Tool Crib",
                                    "ProductName": "Hex Nut 7",
                                    "TotalQuantity": "323"
                                },
                                {
                                    "LocationName": "Tool Crib",
                                    "ProductName": "HL Bottom Bracket",
                                    "TotalQuantity": "321"
                                },
                                {
                                    "LocationName": "Tool Crib",
                                    "ProductName": "Flat Washer 4",
                                    "TotalQuantity": "321"
                                },
                                {
                                    "LocationName": "Tool Crib",
                                    "ProductName": "Flat Washer 8",
                                    "TotalQuantity": "318"
                                },
                                {
                                    "LocationName": "Tool Crib",
                                    "ProductName": "Thin-Jam Hex Nut 6",
                                    "TotalQuantity": "318"
                                },
                                {
                                    "LocationName": "Tool Crib",
                                    "ProductName": "Reflector",
                                    "TotalQuantity": "316"
                                },
                                {
                                    "LocationName": "Tool Crib",
                                    "ProductName": "Keyed Washer",
                                    "TotalQuantity": "316"
                                },
                                {
                                    "LocationName": "Tool Crib",
                                    "ProductName": "HL Road Pedal",
                                    "TotalQuantity": "316"
                                },
                                {
                                    "LocationName": "Tool Crib",
                                    "ProductName": "External Lock Washer 3",
                                    "TotalQuantity": "313"
                                },
                                {
                                    "LocationName": "Tool Crib",
                                    "ProductName": "External Lock Washer 4",
                                    "TotalQuantity": "310"
                                },
                                {
                                    "LocationName": "Tool Crib",
                                    "ProductName": "Lower Head Race",
                                    "TotalQuantity": "310"
                                },
                                {
                                    "LocationName": "Tool Crib",
                                    "ProductName": "HL Crankarm",
                                    "TotalQuantity": "308"
                                },
                                {
                                    "LocationName": "Tool Crib",
                                    "ProductName": "External Lock Washer 9",
                                    "TotalQuantity": "307"
                                },
                                {
                                    "LocationName": "Tool Crib",
                                    "ProductName": "External Lock Washer 5",
                                    "TotalQuantity": "304"
                                },
                                {
                                    "LocationName": "Tool Crib",
                                    "ProductName": "Hex Nut 15",
                                    "TotalQuantity": "302"
                                },
                                {
                                    "LocationName": "Tool Crib",
                                    "ProductName": "Hex Nut 12",
                                    "TotalQuantity": "299"
                                },
                                {
                                    "LocationName": "Tool Crib",
                                    "ProductName": "Hex Nut 3",
                                    "TotalQuantity": "299"
                                },
                                {
                                    "LocationName": "Tool Crib",
                                    "ProductName": "Internal Lock Washer 3",
                                    "TotalQuantity": "299"
                                },
                                {
                                    "LocationName": "Tool Crib",
                                    "ProductName": "Hex Nut 21",
                                    "TotalQuantity": "296"
                                },
                                {
                                    "LocationName": "Tool Crib",
                                    "ProductName": "Hex Nut 20",
                                    "TotalQuantity": "292"
                                },
                                {
                                    "LocationName": "Tool Crib",
                                    "ProductName": "Hex Nut 11",
                                    "TotalQuantity": "292"
                                },
                                {
                                    "LocationName": "Tool Crib",
                                    "ProductName": "Hex Nut 5",
                                    "TotalQuantity": "291"
                                },
                                {
                                    "LocationName": "Tool Crib",
                                    "ProductName": "HL Headset",
                                    "TotalQuantity": "291"
                                },
                                {
                                    "LocationName": "Tool Crib",
                                    "ProductName": "ML Headset",
                                    "TotalQuantity": "288"
                                },
                                {
                                    "LocationName": "Tool Crib",
                                    "ProductName": "Thin-Jam Hex Nut 11",
                                    "TotalQuantity": "288"
                                },
                                {
                                    "LocationName": "Tool Crib",
                                    "ProductName": "Thin-Jam Hex Nut 12",
                                    "TotalQuantity": "284"
                                },
                                {
                                    "LocationName": "Tool Crib",
                                    "ProductName": "LL Headset",
                                    "TotalQuantity": "284"
                                },
                                {
                                    "LocationName": "Tool Crib",
                                    "ProductName": "LL Crankarm",
                                    "TotalQuantity": "283"
                                },
                                {
                                    "LocationName": "Tool Crib",
                                    "ProductName": "Hex Nut 4",
                                    "TotalQuantity": "281"
                                },
                                {
                                    "LocationName": "Tool Crib",
                                    "ProductName": "Thin-Jam Hex Nut 8",
                                    "TotalQuantity": "281"
                                },
                                {
                                    "LocationName": "Tool Crib",
                                    "ProductName": "HL Crankset",
                                    "TotalQuantity": "278"
                                },
                                {
                                    "LocationName": "Tool Crib",
                                    "ProductName": "Guide Pulley",
                                    "TotalQuantity": "276"
                                },
                                {
                                    "LocationName": "Tool Crib",
                                    "ProductName": "ML Crankset",
                                    "TotalQuantity": "272"
                                },
                                {
                                    "LocationName": "Tool Crib",
                                    "ProductName": "LL Crankset",
                                    "TotalQuantity": "265"
                                },
                                {
                                    "LocationName": "Tool Crib",
                                    "ProductName": "LL Grip Tape",
                                    "TotalQuantity": "262"
                                },
                                {
                                    "LocationName": "Tool Crib",
                                    "ProductName": "HL Nipple",
                                    "TotalQuantity": "254"
                                },
                                {
                                    "LocationName": "Tool Crib",
                                    "ProductName": "Thin-Jam Hex Nut 14",
                                    "TotalQuantity": "252"
                                },
                                {
                                    "LocationName": "Tool Crib",
                                    "ProductName": "Hex Nut 16",
                                    "TotalQuantity": "249"
                                },
                                {
                                    "LocationName": "Tool Crib",
                                    "ProductName": "Internal Lock Washer 10",
                                    "TotalQuantity": "248"
                                },
                                {
                                    "LocationName": "Tool Crib",
                                    "ProductName": "ML Grip Tape",
                                    "TotalQuantity": "248"
                                },
                                {
                                    "LocationName": "Tool Crib",
                                    "ProductName": "Internal Lock Washer 1",
                                    "TotalQuantity": "246"
                                },
                                {
                                    "LocationName": "Tool Crib",
                                    "ProductName": "Internal Lock Washer 8",
                                    "TotalQuantity": "244"
                                },
                                {
                                    "LocationName": "Tool Crib",
                                    "ProductName": "LL Bottom Bracket",
                                    "TotalQuantity": "244"
                                },
                                {
                                    "LocationName": "Tool Crib",
                                    "ProductName": "Hex Nut 17",
                                    "TotalQuantity": "244"
                                },
                                {
                                    "LocationName": "Tool Crib",
                                    "ProductName": "Internal Lock Washer 2",
                                    "TotalQuantity": "243"
                                },
                                {
                                    "LocationName": "Tool Crib",
                                    "ProductName": "Chain",
                                    "TotalQuantity": "236"
                                },
                                {
                                    "LocationName": "Tool Crib",
                                    "ProductName": "Touring Pedal",
                                    "TotalQuantity": "235"
                                },
                                {
                                    "LocationName": "Tool Crib",
                                    "ProductName": "HL Grip Tape",
                                    "TotalQuantity": "233"
                                },
                                {
                                    "LocationName": "Tool Crib",
                                    "ProductName": "ML Bottom Bracket",
                                    "TotalQuantity": "230"
                                },
                                {
                                    "LocationName": "Tool Crib",
                                    "ProductName": "LL Mountain Pedal",
                                    "TotalQuantity": "174"
                                },
                                {
                                    "LocationName": "Tool Crib",
                                    "ProductName": "ML Mountain Pedal",
                                    "TotalQuantity": "172"
                                },
                                {
                                    "LocationName": "Tool Crib",
                                    "ProductName": "HL Mountain Pedal",
                                    "TotalQuantity": "171"
                                },
                                {
                                    "LocationName": "Tool Crib",
                                    "ProductName": "Hex Nut 22",
                                    "TotalQuantity": "169"
                                },
                                {
                                    "LocationName": "Tool Crib",
                                    "ProductName": "LL Road Pedal",
                                    "TotalQuantity": "169"
                                },
                                {
                                    "LocationName": "Tool Crib",
                                    "ProductName": "ML Road Pedal",
                                    "TotalQuantity": "168"
                                },
                                {
                                    "LocationName": "Tool Crib",
                                    "ProductName": "Rear Derailleur Cage",
                                    "TotalQuantity": "164"
                                },
                                {
                                    "LocationName": "Tool Crib",
                                    "ProductName": "Hex Nut 9",
                                    "TotalQuantity": "163"
                                },
                                {
                                    "LocationName": "Tool Crib",
                                    "ProductName": "Hex Nut 8",
                                    "TotalQuantity": "156"
                                },
                                {
                                    "LocationName": "Tool Crib",
                                    "ProductName": "Hex Nut 1",
                                    "TotalQuantity": "148"
                                },
                                {
                                    "LocationName": "Tool Crib",
                                    "ProductName": "ML Crankarm",
                                    "TotalQuantity": "136"
                                }
                            ]
                        },
                        "text/html": "<table><tr><th>LocationName</th><th>ProductName</th><th>TotalQuantity</th></tr><tr><td>Debur and Polish</td><td>HL Mountain Frame - Black, 38</td><td>148</td></tr><tr><td>Debur and Polish</td><td>ML Mountain Frame-W - Silver, 38</td><td>147</td></tr><tr><td>Debur and Polish</td><td>ML Road Frame-W - Yellow, 38</td><td>142</td></tr><tr><td>Debur and Polish</td><td>ML Mountain Frame - Black, 38</td><td>137</td></tr><tr><td>Debur and Polish</td><td>HL Mountain Frame - Silver, 38</td><td>132</td></tr><tr><td>Debur and Polish</td><td>LL Mountain Frame - Black, 40</td><td>129</td></tr><tr><td>Debur and Polish</td><td>LL Mountain Frame - Silver, 40</td><td>123</td></tr><tr><td>Final Assembly</td><td>Seat Lug</td><td>729</td></tr><tr><td>Final Assembly</td><td>Decal 1</td><td>641</td></tr><tr><td>Final Assembly</td><td>Flat Washer 3</td><td>641</td></tr><tr><td>Final Assembly</td><td>Seat Stays</td><td>542</td></tr><tr><td>Final Assembly</td><td>Flat Washer 2</td><td>499</td></tr><tr><td>Final Assembly</td><td>Decal 2</td><td>475</td></tr><tr><td>Final Assembly</td><td>Seat Post</td><td>444</td></tr><tr><td>Final Assembly</td><td>Seat Tube</td><td>388</td></tr><tr><td>Final Assembly</td><td>Flat Washer 9</td><td>382</td></tr><tr><td>Final Assembly</td><td>LL Touring Seat/Saddle</td><td>382</td></tr><tr><td>Final Assembly</td><td>Steerer</td><td>374</td></tr><tr><td>Final Assembly</td><td>Stem</td><td>371</td></tr><tr><td>Final Assembly</td><td>Flat Washer 7</td><td>342</td></tr><tr><td>Final Assembly</td><td>Flat Washer 1</td><td>339</td></tr><tr><td>Final Assembly</td><td>Flat Washer 5</td><td>337</td></tr><tr><td>Final Assembly</td><td>Flat Washer 6</td><td>336</td></tr><tr><td>Final Assembly</td><td>Flat Washer 8</td><td>332</td></tr><tr><td>Final Assembly</td><td>LL Road Seat/Saddle</td><td>302</td></tr><tr><td>Final Assembly</td><td>Flat Washer 4</td><td>300</td></tr><tr><td>Final Assembly</td><td>HL Touring Seat/Saddle</td><td>276</td></tr><tr><td>Final Assembly</td><td>ML Road Seat/Saddle</td><td>246</td></tr><tr><td>Final Assembly</td><td>HL Touring Seat Assembly</td><td>225</td></tr><tr><td>Final Assembly</td><td>ML Touring Seat Assembly</td><td>224</td></tr><tr><td>Final Assembly</td><td>LL Touring Seat Assembly</td><td>222</td></tr><tr><td>Final Assembly</td><td>HL Road Seat Assembly</td><td>220</td></tr><tr><td>Final Assembly</td><td>ML Road Seat Assembly</td><td>219</td></tr><tr><td>Final Assembly</td><td>LL Road Seat Assembly</td><td>217</td></tr><tr><td>Final Assembly</td><td>HL Mountain Seat Assembly</td><td>216</td></tr><tr><td>Final Assembly</td><td>ML Mountain Seat Assembly</td><td>214</td></tr><tr><td>Final Assembly</td><td>LL Mountain Seat Assembly</td><td>212</td></tr><tr><td>Final Assembly</td><td>LL Mountain Seat/Saddle</td><td>195</td></tr><tr><td>Final Assembly</td><td>ML Touring Seat/Saddle</td><td>158</td></tr><tr><td>Final Assembly</td><td>HL Road Seat/Saddle</td><td>153</td></tr><tr><td>Final Assembly</td><td>LL Spindle/Axle</td><td>139</td></tr><tr><td>Final Assembly</td><td>HL Mountain Frame - Black, 38</td><td>137</td></tr><tr><td>Final Assembly</td><td>ML Mountain Frame-W - Silver, 38</td><td>136</td></tr><tr><td>Final Assembly</td><td>LL Mountain Frame - Silver, 40</td><td>134</td></tr><tr><td>Final Assembly</td><td>ML Road Frame-W - Yellow, 38</td><td>131</td></tr><tr><td>Final Assembly</td><td>ML Mountain Frame - Black, 38</td><td>126</td></tr><tr><td>Final Assembly</td><td>Road-650 Black, 52</td><td>123</td></tr><tr><td>Final Assembly</td><td>Road-250 Red, 58</td><td>123</td></tr><tr><td>Final Assembly</td><td>Road-350-W Yellow, 48</td><td>123</td></tr><tr><td>Final Assembly</td><td>Road-550-W Yellow, 42</td><td>123</td></tr><tr><td>Final Assembly</td><td>Touring-2000 Blue, 50</td><td>123</td></tr><tr><td>Final Assembly</td><td>Touring-3000 Blue, 58</td><td>121</td></tr><tr><td>Final Assembly</td><td>Road-150 Red, 44</td><td>121</td></tr><tr><td>Final Assembly</td><td>Mountain-200 Silver, 42</td><td>121</td></tr><tr><td>Final Assembly</td><td>Mountain-300 Black, 40</td><td>121</td></tr><tr><td>Final Assembly</td><td>Road-650 Red, 48</td><td>121</td></tr><tr><td>Final Assembly</td><td>HL Mountain Frame - Silver, 38</td><td>121</td></tr><tr><td>Final Assembly</td><td>ML Mountain Seat/Saddle</td><td>120</td></tr><tr><td>Final Assembly</td><td>LL Mountain Frame - Black, 40</td><td>118</td></tr><tr><td>Final Assembly</td><td>Mountain-100 Black, 42</td><td>116</td></tr><tr><td>Final Assembly</td><td>Road-750 Black, 52</td><td>116</td></tr><tr><td>Final Assembly</td><td>Mountain-500 Silver, 52</td><td>116</td></tr><tr><td>Final Assembly</td><td>Touring-3000 Yellow, 58</td><td>116</td></tr><tr><td>Final Assembly</td><td>Mountain-300 Black, 44</td><td>108</td></tr><tr><td>Final Assembly</td><td>Mountain-200 Silver, 46</td><td>108</td></tr><tr><td>Final Assembly</td><td>Road-150 Red, 48</td><td>108</td></tr><tr><td>Final Assembly</td><td>Road-650 Red, 52</td><td>108</td></tr><tr><td>Final Assembly</td><td>Touring-3000 Yellow, 50</td><td>107</td></tr><tr><td>Final Assembly</td><td>HL Spindle/Axle</td><td>107</td></tr><tr><td>Final Assembly</td><td>Touring-3000 Blue, 62</td><td>105</td></tr><tr><td>Final Assembly</td><td>Mountain-400-W Silver, 46</td><td>104</td></tr><tr><td>Final Assembly</td><td>Mountain-500 Black, 48</td><td>104</td></tr><tr><td>Final Assembly</td><td>Mountain-500 Silver, 42</td><td>104</td></tr><tr><td>Final Assembly</td><td>Mountain-100 Silver, 48</td><td>102</td></tr><tr><td>Final Assembly</td><td>Mountain-100 Black, 44</td><td>100</td></tr><tr><td>Final Assembly</td><td>Mountain-100 Silver, 38</td><td>100</td></tr><tr><td>Final Assembly</td><td>Touring-1000 Yellow, 60</td><td>100</td></tr><tr><td>Final Assembly</td><td>Touring-2000 Blue, 54</td><td>99</td></tr><tr><td>Final Assembly</td><td>Touring-1000 Blue, 60</td><td>99</td></tr><tr><td>Final Assembly</td><td>Mountain-500 Black, 40</td><td>99</td></tr><tr><td>Final Assembly</td><td>Mountain-400-W Silver, 38</td><td>99</td></tr><tr><td>Final Assembly</td><td>Road-550-W Yellow, 44</td><td>99</td></tr><tr><td>Final Assembly</td><td>Road-450 Red, 44</td><td>99</td></tr><tr><td>Final Assembly</td><td>HL Mountain Seat/Saddle</td><td>96</td></tr><tr><td>Final Assembly</td><td>Mountain-200 Black, 38</td><td>88</td></tr><tr><td>Final Assembly</td><td>Road-250 Black, 52</td><td>88</td></tr><tr><td>Final Assembly</td><td>Road-650 Black, 62</td><td>88</td></tr><tr><td>Final Assembly</td><td>Road-650 Red, 60</td><td>86</td></tr><tr><td>Final Assembly</td><td>Road-350-W Yellow, 40</td><td>86</td></tr><tr><td>Final Assembly</td><td>Road-250 Red, 48</td><td>86</td></tr><tr><td>Final Assembly</td><td>Touring-1000 Blue, 46</td><td>86</td></tr><tr><td>Final Assembly</td><td>Touring-1000 Yellow, 46</td><td>83</td></tr><tr><td>Final Assembly</td><td>Road-450 Red, 58</td><td>83</td></tr><tr><td>Final Assembly</td><td>Road-250 Black, 58</td><td>83</td></tr><tr><td>Final Assembly</td><td>Mountain-200 Black, 42</td><td>83</td></tr><tr><td>Final Assembly</td><td>Road-550-W Yellow, 38</td><td>81</td></tr><tr><td>Final Assembly</td><td>Road-250 Red, 52</td><td>81</td></tr><tr><td>Final Assembly</td><td>Road-350-W Yellow, 42</td><td>81</td></tr><tr><td>Final Assembly</td><td>Road-650 Red, 62</td><td>81</td></tr><tr><td>Final Assembly</td><td>Road-650 Black, 44</td><td>81</td></tr><tr><td>Final Assembly</td><td>Touring-1000 Blue, 50</td><td>81</td></tr><tr><td>Final Assembly</td><td>Touring-3000 Yellow, 44</td><td>80</td></tr><tr><td>Final Assembly</td><td>Touring-3000 Blue, 50</td><td>78</td></tr><tr><td>Final Assembly</td><td>Road-550-W Yellow, 48</td><td>78</td></tr><tr><td>Final Assembly</td><td>Road-650 Black, 58</td><td>78</td></tr><tr><td>Final Assembly</td><td>Road-450 Red, 48</td><td>78</td></tr><tr><td>Final Assembly</td><td>Road-250 Black, 44</td><td>78</td></tr><tr><td>Final Assembly</td><td>Road-150 Red, 52</td><td>76</td></tr><tr><td>Final Assembly</td><td>Mountain-300 Black, 48</td><td>76</td></tr><tr><td>Final Assembly</td><td>Mountain-100 Silver, 44</td><td>75</td></tr><tr><td>Final Assembly</td><td>Mountain-400-W Silver, 42</td><td>73</td></tr><tr><td>Final Assembly</td><td>Mountain-500 Black, 44</td><td>73</td></tr><tr><td>Final Assembly</td><td>Mountain-500 Silver, 40</td><td>73</td></tr><tr><td>Final Assembly</td><td>Touring-3000 Blue, 44</td><td>72</td></tr><tr><td>Final Assembly</td><td>Touring-3000 Yellow, 62</td><td>72</td></tr><tr><td>Final Assembly</td><td>Mountain-500 Black, 42</td><td>67</td></tr><tr><td>Final Assembly</td><td>Mountain-400-W Silver, 40</td><td>67</td></tr><tr><td>Final Assembly</td><td>Road-750 Black, 58</td><td>65</td></tr><tr><td>Final Assembly</td><td>Mountain-100 Silver, 42</td><td>65</td></tr><tr><td>Final Assembly</td><td>Mountain-100 Black, 48</td><td>65</td></tr><tr><td>Final Assembly</td><td>Road-650 Red, 44</td><td>62</td></tr><tr><td>Final Assembly</td><td>Mountain-200 Black, 46</td><td>62</td></tr><tr><td>Final Assembly</td><td>Mountain-200 Silver, 38</td><td>62</td></tr><tr><td>Final Assembly</td><td>Mountain-300 Black, 38</td><td>62</td></tr><tr><td>Final Assembly</td><td>Road-450 Red, 60</td><td>62</td></tr><tr><td>Final Assembly</td><td>Touring-1000 Yellow, 50</td><td>62</td></tr><tr><td>Final Assembly</td><td>Touring-2000 Blue, 46</td><td>60</td></tr><tr><td>Final Assembly</td><td>Touring-1000 Blue, 54</td><td>60</td></tr><tr><td>Final Assembly</td><td>Road-550-W Yellow, 40</td><td>60</td></tr><tr><td>Final Assembly</td><td>Road-350-W Yellow, 44</td><td>60</td></tr><tr><td>Final Assembly</td><td>Road-150 Red, 62</td><td>60</td></tr><tr><td>Final Assembly</td><td>Road-650 Black, 48</td><td>60</td></tr><tr><td>Final Assembly</td><td>Road-750 Black, 48</td><td>56</td></tr><tr><td>Final Assembly</td><td>Mountain-500 Silver, 48</td><td>56</td></tr><tr><td>Final Assembly</td><td>Mountain-100 Black, 38</td><td>56</td></tr><tr><td>Final Assembly</td><td>Road-150 Red, 56</td><td>51</td></tr><tr><td>Final Assembly</td><td>Road-250 Red, 44</td><td>51</td></tr><tr><td>Final Assembly</td><td>Road-650 Red, 58</td><td>51</td></tr><tr><td>Final Assembly</td><td>Road-650 Black, 60</td><td>49</td></tr><tr><td>Final Assembly</td><td>Road-250 Black, 48</td><td>49</td></tr><tr><td>Final Assembly</td><td>Road-450 Red, 52</td><td>49</td></tr><tr><td>Final Assembly</td><td>Touring-2000 Blue, 60</td><td>49</td></tr><tr><td>Final Assembly</td><td>Touring-1000 Yellow, 54</td><td>40</td></tr><tr><td>Final Assembly</td><td>Touring-3000 Yellow, 54</td><td>36</td></tr><tr><td>Final Assembly</td><td>Touring-3000 Blue, 54</td><td>35</td></tr><tr><td>Final Assembly</td><td>Mountain-500 Silver, 44</td><td>30</td></tr><tr><td>Final Assembly</td><td>Mountain-500 Black, 52</td><td>30</td></tr><tr><td>Final Assembly</td><td>Road-750 Black, 44</td><td>30</td></tr><tr><td>Finished Goods Storage</td><td>Short-Sleeve Classic Jersey, S</td><td>324</td></tr><tr><td>Finished Goods Storage</td><td>Sport-100 Helmet, Black</td><td>324</td></tr><tr><td>Finished Goods Storage</td><td>Road Bottle Cage</td><td>324</td></tr><tr><td>Finished Goods Storage</td><td>Women&#39;s Tights, S</td><td>324</td></tr><tr><td>Finished Goods Storage</td><td>Mountain Pump</td><td>324</td></tr><tr><td>Finished Goods Storage</td><td>Half-Finger Gloves, S</td><td>324</td></tr><tr><td>Finished Goods Storage</td><td>AWC Logo Cap</td><td>288</td></tr><tr><td>Finished Goods Storage</td><td>Mountain Bottle Cage</td><td>288</td></tr><tr><td>Finished Goods Storage</td><td>Minipump</td><td>288</td></tr><tr><td>Finished Goods Storage</td><td>Men&#39;s Sports Shorts, S</td><td>288</td></tr><tr><td>Finished Goods Storage</td><td>Women&#39;s Mountain Shorts, L</td><td>288</td></tr><tr><td>Finished Goods Storage</td><td>Racing Socks, L</td><td>288</td></tr><tr><td>Finished Goods Storage</td><td>Sport-100 Helmet, Red</td><td>288</td></tr><tr><td>Finished Goods Storage</td><td>Racing Socks, M</td><td>252</td></tr><tr><td>Finished Goods Storage</td><td>Women&#39;s Mountain Shorts, M</td><td>252</td></tr><tr><td>Finished Goods Storage</td><td>Water Bottle - 30 oz.</td><td>252</td></tr><tr><td>Finished Goods Storage</td><td>Long-Sleeve Logo Jersey, XL</td><td>252</td></tr><tr><td>Finished Goods Storage</td><td>Cable Lock</td><td>252</td></tr><tr><td>Finished Goods Storage</td><td>Classic Vest, L</td><td>252</td></tr><tr><td>Finished Goods Storage</td><td>Classic Vest, M</td><td>216</td></tr><tr><td>Finished Goods Storage</td><td>Headlights - Weatherproof</td><td>216</td></tr><tr><td>Finished Goods Storage</td><td>Long-Sleeve Logo Jersey, L</td><td>216</td></tr><tr><td>Finished Goods Storage</td><td>Mountain Bike Socks, L</td><td>216</td></tr><tr><td>Finished Goods Storage</td><td>Women&#39;s Mountain Shorts, S</td><td>216</td></tr><tr><td>Finished Goods Storage</td><td>Sport-100 Helmet, Blue</td><td>216</td></tr><tr><td>Finished Goods Storage</td><td>Headlights - Dual-Beam</td><td>180</td></tr><tr><td>Finished Goods Storage</td><td>Patch Kit/8 Patches</td><td>180</td></tr><tr><td>Finished Goods Storage</td><td>Mountain Bike Socks, M</td><td>180</td></tr><tr><td>Finished Goods Storage</td><td>Long-Sleeve Logo Jersey, M</td><td>180</td></tr><tr><td>Finished Goods Storage</td><td>Men&#39;s Sports Shorts, XL</td><td>180</td></tr><tr><td>Finished Goods Storage</td><td>Classic Vest, S</td><td>180</td></tr><tr><td>Finished Goods Storage</td><td>All-Purpose Bike Stand</td><td>144</td></tr><tr><td>Finished Goods Storage</td><td>Full-Finger Gloves, L</td><td>144</td></tr><tr><td>Finished Goods Storage</td><td>Men&#39;s Sports Shorts, L</td><td>144</td></tr><tr><td>Finished Goods Storage</td><td>Long-Sleeve Logo Jersey, S</td><td>144</td></tr><tr><td>Finished Goods Storage</td><td>Men&#39;s Bib-Shorts, L</td><td>144</td></tr><tr><td>Finished Goods Storage</td><td>Taillights - Battery-Powered</td><td>144</td></tr><tr><td>Finished Goods Storage</td><td>Touring-3000 Blue, 54</td><td>128</td></tr><tr><td>Finished Goods Storage</td><td>Touring-3000 Yellow, 54</td><td>126</td></tr><tr><td>Finished Goods Storage</td><td>Road-750 Black, 44</td><td>123</td></tr><tr><td>Finished Goods Storage</td><td>Mountain-500 Black, 52</td><td>123</td></tr><tr><td>Finished Goods Storage</td><td>Mountain-500 Silver, 44</td><td>123</td></tr><tr><td>Finished Goods Storage</td><td>Road-250 Black, 48</td><td>116</td></tr><tr><td>Finished Goods Storage</td><td>Road-450 Red, 52</td><td>116</td></tr><tr><td>Finished Goods Storage</td><td>Road-650 Black, 60</td><td>116</td></tr><tr><td>Finished Goods Storage</td><td>Touring-2000 Blue, 60</td><td>116</td></tr><tr><td>Finished Goods Storage</td><td>Road-650 Red, 58</td><td>112</td></tr><tr><td>Finished Goods Storage</td><td>Road-250 Red, 44</td><td>112</td></tr><tr><td>Finished Goods Storage</td><td>Road-150 Red, 56</td><td>112</td></tr><tr><td>Finished Goods Storage</td><td>Men&#39;s Bib-Shorts, M</td><td>108</td></tr><tr><td>Finished Goods Storage</td><td>Men&#39;s Sports Shorts, M</td><td>108</td></tr><tr><td>Finished Goods Storage</td><td>Full-Finger Gloves, M</td><td>108</td></tr><tr><td>Finished Goods Storage</td><td>Fender Set - Mountain</td><td>108</td></tr><tr><td>Finished Goods Storage</td><td>Hydration Pack - 70 oz.</td><td>108</td></tr><tr><td>Finished Goods Storage</td><td>Road-550-W Yellow, 42</td><td>104</td></tr><tr><td>Finished Goods Storage</td><td>Road-350-W Yellow, 48</td><td>104</td></tr><tr><td>Finished Goods Storage</td><td>Road-250 Red, 58</td><td>104</td></tr><tr><td>Finished Goods Storage</td><td>Road-650 Black, 52</td><td>104</td></tr><tr><td>Finished Goods Storage</td><td>Touring-2000 Blue, 50</td><td>104</td></tr><tr><td>Finished Goods Storage</td><td>Road-650 Red, 48</td><td>102</td></tr><tr><td>Finished Goods Storage</td><td>Road-150 Red, 44</td><td>102</td></tr><tr><td>Finished Goods Storage</td><td>Mountain-300 Black, 40</td><td>102</td></tr><tr><td>Finished Goods Storage</td><td>Mountain-200 Silver, 42</td><td>102</td></tr><tr><td>Finished Goods Storage</td><td>Road-250 Black, 52</td><td>100</td></tr><tr><td>Finished Goods Storage</td><td>Road-650 Black, 62</td><td>100</td></tr><tr><td>Finished Goods Storage</td><td>Mountain-200 Black, 38</td><td>100</td></tr><tr><td>Finished Goods Storage</td><td>Mountain-100 Black, 38</td><td>99</td></tr><tr><td>Finished Goods Storage</td><td>Road-650 Red, 60</td><td>99</td></tr><tr><td>Finished Goods Storage</td><td>Road-750 Black, 48</td><td>99</td></tr><tr><td>Finished Goods Storage</td><td>Road-350-W Yellow, 40</td><td>99</td></tr><tr><td>Finished Goods Storage</td><td>Road-250 Red, 48</td><td>99</td></tr><tr><td>Finished Goods Storage</td><td>Mountain-500 Silver, 48</td><td>99</td></tr><tr><td>Finished Goods Storage</td><td>Touring-1000 Blue, 46</td><td>99</td></tr><tr><td>Finished Goods Storage</td><td>Touring-3000 Blue, 44</td><td>91</td></tr><tr><td>Finished Goods Storage</td><td>Touring-3000 Yellow, 62</td><td>91</td></tr><tr><td>Finished Goods Storage</td><td>Touring-3000 Yellow, 44</td><td>88</td></tr><tr><td>Finished Goods Storage</td><td>Road-750 Black, 58</td><td>88</td></tr><tr><td>Finished Goods Storage</td><td>Mountain-100 Silver, 42</td><td>88</td></tr><tr><td>Finished Goods Storage</td><td>Mountain-100 Black, 48</td><td>88</td></tr><tr><td>Finished Goods Storage</td><td>Mountain-400-W Silver, 40</td><td>86</td></tr><tr><td>Finished Goods Storage</td><td>Mountain-500 Black, 42</td><td>86</td></tr><tr><td>Finished Goods Storage</td><td>Touring-3000 Blue, 50</td><td>86</td></tr><tr><td>Finished Goods Storage</td><td>Touring-3000 Blue, 58</td><td>83</td></tr><tr><td>Finished Goods Storage</td><td>Mountain-100 Silver, 44</td><td>83</td></tr><tr><td>Finished Goods Storage</td><td>Touring-3000 Yellow, 58</td><td>81</td></tr><tr><td>Finished Goods Storage</td><td>Mountain-500 Black, 44</td><td>81</td></tr><tr><td>Finished Goods Storage</td><td>Mountain-400-W Silver, 42</td><td>81</td></tr><tr><td>Finished Goods Storage</td><td>Mountain-500 Silver, 40</td><td>81</td></tr><tr><td>Finished Goods Storage</td><td>Mountain-500 Silver, 52</td><td>78</td></tr><tr><td>Finished Goods Storage</td><td>Road-750 Black, 52</td><td>78</td></tr><tr><td>Finished Goods Storage</td><td>Mountain-100 Black, 42</td><td>78</td></tr><tr><td>Finished Goods Storage</td><td>Road-650 Red, 44</td><td>75</td></tr><tr><td>Finished Goods Storage</td><td>Mountain-200 Silver, 38</td><td>75</td></tr><tr><td>Finished Goods Storage</td><td>Mountain-200 Black, 46</td><td>75</td></tr><tr><td>Finished Goods Storage</td><td>Mountain-300 Black, 38</td><td>75</td></tr><tr><td>Finished Goods Storage</td><td>Road-450 Red, 60</td><td>75</td></tr><tr><td>Finished Goods Storage</td><td>Touring-1000 Yellow, 50</td><td>75</td></tr><tr><td>Finished Goods Storage</td><td>Touring-2000 Blue, 46</td><td>73</td></tr><tr><td>Finished Goods Storage</td><td>Touring-1000 Blue, 54</td><td>73</td></tr><tr><td>Finished Goods Storage</td><td>Road-550-W Yellow, 40</td><td>73</td></tr><tr><td>Finished Goods Storage</td><td>Road-350-W Yellow, 44</td><td>73</td></tr><tr><td>Finished Goods Storage</td><td>Road-150 Red, 62</td><td>73</td></tr><tr><td>Finished Goods Storage</td><td>Road-650 Black, 48</td><td>73</td></tr><tr><td>Finished Goods Storage</td><td>Short-Sleeve Classic Jersey, XL</td><td>72</td></tr><tr><td>Finished Goods Storage</td><td>Touring-Panniers, Large</td><td>72</td></tr><tr><td>Finished Goods Storage</td><td>Men&#39;s Bib-Shorts, S</td><td>72</td></tr><tr><td>Finished Goods Storage</td><td>Full-Finger Gloves, S</td><td>72</td></tr><tr><td>Finished Goods Storage</td><td>Touring-3000 Yellow, 50</td><td>67</td></tr><tr><td>Finished Goods Storage</td><td>Touring-1000 Blue, 50</td><td>67</td></tr><tr><td>Finished Goods Storage</td><td>Road-650 Black, 44</td><td>67</td></tr><tr><td>Finished Goods Storage</td><td>Road-650 Red, 62</td><td>67</td></tr><tr><td>Finished Goods Storage</td><td>Road-350-W Yellow, 42</td><td>67</td></tr><tr><td>Finished Goods Storage</td><td>Road-250 Red, 52</td><td>67</td></tr><tr><td>Finished Goods Storage</td><td>Road-550-W Yellow, 38</td><td>67</td></tr><tr><td>Finished Goods Storage</td><td>Road-450 Red, 58</td><td>65</td></tr><tr><td>Finished Goods Storage</td><td>Road-250 Black, 58</td><td>65</td></tr><tr><td>Finished Goods Storage</td><td>Mountain-200 Black, 42</td><td>65</td></tr><tr><td>Finished Goods Storage</td><td>Touring-1000 Yellow, 46</td><td>65</td></tr><tr><td>Finished Goods Storage</td><td>Mountain-100 Silver, 48</td><td>62</td></tr><tr><td>Finished Goods Storage</td><td>Mountain-400-W Silver, 46</td><td>60</td></tr><tr><td>Finished Goods Storage</td><td>Mountain-500 Silver, 42</td><td>60</td></tr><tr><td>Finished Goods Storage</td><td>Mountain-500 Black, 48</td><td>60</td></tr><tr><td>Finished Goods Storage</td><td>Road-250 Black, 44</td><td>56</td></tr><tr><td>Finished Goods Storage</td><td>Road-450 Red, 48</td><td>56</td></tr><tr><td>Finished Goods Storage</td><td>Road-550-W Yellow, 48</td><td>56</td></tr><tr><td>Finished Goods Storage</td><td>Road-650 Black, 58</td><td>56</td></tr><tr><td>Finished Goods Storage</td><td>Touring-3000 Blue, 62</td><td>54</td></tr><tr><td>Finished Goods Storage</td><td>Road-150 Red, 52</td><td>52</td></tr><tr><td>Finished Goods Storage</td><td>Mountain-300 Black, 48</td><td>52</td></tr><tr><td>Finished Goods Storage</td><td>Mountain-400-W Silver, 38</td><td>51</td></tr><tr><td>Finished Goods Storage</td><td>Mountain-500 Black, 40</td><td>51</td></tr><tr><td>Finished Goods Storage</td><td>Touring-1000 Yellow, 60</td><td>51</td></tr><tr><td>Finished Goods Storage</td><td>Mountain-100 Black, 44</td><td>49</td></tr><tr><td>Finished Goods Storage</td><td>Mountain-100 Silver, 38</td><td>49</td></tr><tr><td>Finished Goods Storage</td><td>Half-Finger Gloves, L</td><td>36</td></tr><tr><td>Finished Goods Storage</td><td>Bike Wash - Dissolver</td><td>36</td></tr><tr><td>Finished Goods Storage</td><td>Women&#39;s Tights, L</td><td>36</td></tr><tr><td>Finished Goods Storage</td><td>Short-Sleeve Classic Jersey, L</td><td>36</td></tr><tr><td>Finished Goods Storage</td><td>Touring-1000 Yellow, 54</td><td>35</td></tr><tr><td>Finished Goods Storage</td><td>Road-650 Red, 52</td><td>32</td></tr><tr><td>Finished Goods Storage</td><td>Mountain-200 Silver, 46</td><td>32</td></tr><tr><td>Finished Goods Storage</td><td>Mountain-300 Black, 44</td><td>32</td></tr><tr><td>Finished Goods Storage</td><td>Road-150 Red, 48</td><td>32</td></tr><tr><td>Finished Goods Storage</td><td>Road-550-W Yellow, 44</td><td>30</td></tr><tr><td>Finished Goods Storage</td><td>Road-450 Red, 44</td><td>30</td></tr><tr><td>Finished Goods Storage</td><td>Touring-1000 Blue, 60</td><td>30</td></tr><tr><td>Finished Goods Storage</td><td>Touring-2000 Blue, 54</td><td>30</td></tr><tr><td>Finished Goods Storage</td><td>Women&#39;s Tights, M</td><td>0</td></tr><tr><td>Finished Goods Storage</td><td>Short-Sleeve Classic Jersey, M</td><td>0</td></tr><tr><td>Finished Goods Storage</td><td>Half-Finger Gloves, M</td><td>0</td></tr><tr><td>Finished Goods Storage</td><td>Hitch Rack - 4-Bike</td><td>0</td></tr><tr><td>Frame Forming</td><td>Metal Bar 2</td><td>622</td></tr><tr><td>Frame Forming</td><td>Mountain End Caps</td><td>585</td></tr><tr><td>Frame Forming</td><td>Road End Caps</td><td>576</td></tr><tr><td>Frame Forming</td><td>Touring End Caps</td><td>566</td></tr><tr><td>Frame Forming</td><td>Metal Sheet 3</td><td>459</td></tr><tr><td>Frame Forming</td><td>Metal Plate 1</td><td>457</td></tr><tr><td>Frame Forming</td><td>Metal Sheet 5</td><td>457</td></tr><tr><td>Frame Forming</td><td>Down Tube</td><td>443</td></tr><tr><td>Frame Forming</td><td>Fork End</td><td>441</td></tr><tr><td>Frame Forming</td><td>Fork Crown</td><td>406</td></tr><tr><td>Frame Forming</td><td>Handlebar Tube</td><td>404</td></tr><tr><td>Frame Forming</td><td>Metal Angle</td><td>404</td></tr><tr><td>Frame Forming</td><td>Head Tube</td><td>398</td></tr><tr><td>Frame Forming</td><td>Blade</td><td>388</td></tr><tr><td>Frame Forming</td><td>Metal Bar 1</td><td>353</td></tr><tr><td>Frame Forming</td><td>Metal Sheet 6</td><td>324</td></tr><tr><td>Frame Forming</td><td>Metal Sheet 1</td><td>305</td></tr><tr><td>Frame Forming</td><td>Front Derailleur Cage</td><td>281</td></tr><tr><td>Frame Forming</td><td>Front Derailleur Linkage</td><td>278</td></tr><tr><td>Frame Forming</td><td>LL Mountain Handlebars</td><td>267</td></tr><tr><td>Frame Forming</td><td>ML Mountain Handlebars</td><td>264</td></tr><tr><td>Frame Forming</td><td>HL Mountain Handlebars</td><td>260</td></tr><tr><td>Frame Forming</td><td>LL Road Handlebars</td><td>257</td></tr><tr><td>Frame Forming</td><td>ML Road Handlebars</td><td>254</td></tr><tr><td>Frame Forming</td><td>HL Fork</td><td>252</td></tr><tr><td>Frame Forming</td><td>HL Road Handlebars</td><td>251</td></tr><tr><td>Frame Forming</td><td>LL Touring Handlebars</td><td>248</td></tr><tr><td>Frame Forming</td><td>LL Hub</td><td>246</td></tr><tr><td>Frame Forming</td><td>ML Fork</td><td>246</td></tr><tr><td>Frame Forming</td><td>HL Touring Handlebars</td><td>244</td></tr><tr><td>Frame Forming</td><td>LL Fork</td><td>240</td></tr><tr><td>Frame Forming</td><td>Front Derailleur</td><td>236</td></tr><tr><td>Frame Forming</td><td>Freewheel</td><td>233</td></tr><tr><td>Frame Forming</td><td>HL Hub</td><td>212</td></tr><tr><td>Frame Forming</td><td>Metal Plate 2</td><td>198</td></tr><tr><td>Frame Forming</td><td>Metal Plate 3</td><td>196</td></tr><tr><td>Frame Forming</td><td>Metal Sheet 7</td><td>196</td></tr><tr><td>Frame Forming</td><td>Metal Sheet 2</td><td>176</td></tr><tr><td>Frame Forming</td><td>Metal Sheet 4</td><td>176</td></tr><tr><td>Frame Forming</td><td>HL Mountain Frame - Black, 38</td><td>121</td></tr><tr><td>Frame Forming</td><td>ML Mountain Frame-W - Silver, 38</td><td>120</td></tr><tr><td>Frame Forming</td><td>ML Road Frame-W - Yellow, 38</td><td>115</td></tr><tr><td>Frame Forming</td><td>LL Mountain Frame - Silver, 40</td><td>112</td></tr><tr><td>Frame Forming</td><td>ML Mountain Frame - Black, 38</td><td>110</td></tr><tr><td>Frame Forming</td><td>HL Mountain Frame - Silver, 38</td><td>105</td></tr><tr><td>Frame Forming</td><td>LL Mountain Frame - Black, 40</td><td>102</td></tr><tr><td>Frame Welding</td><td>Handlebar Tube</td><td>550</td></tr><tr><td>Frame Welding</td><td>Head Tube</td><td>544</td></tr><tr><td>Frame Welding</td><td>Metal Angle</td><td>355</td></tr><tr><td>Frame Welding</td><td>HL Hub</td><td>302</td></tr><tr><td>Frame Welding</td><td>LL Hub</td><td>284</td></tr><tr><td>Frame Welding</td><td>LL Mountain Handlebars</td><td>276</td></tr><tr><td>Frame Welding</td><td>ML Mountain Handlebars</td><td>273</td></tr><tr><td>Frame Welding</td><td>HL Mountain Handlebars</td><td>270</td></tr><tr><td>Frame Welding</td><td>LL Road Handlebars</td><td>267</td></tr><tr><td>Frame Welding</td><td>ML Road Handlebars</td><td>264</td></tr><tr><td>Frame Welding</td><td>HL Road Handlebars</td><td>260</td></tr><tr><td>Frame Welding</td><td>LL Touring Handlebars</td><td>257</td></tr><tr><td>Frame Welding</td><td>HL Touring Handlebars</td><td>254</td></tr><tr><td>Frame Welding</td><td>HL Mountain Frame - Black, 38</td><td>161</td></tr><tr><td>Frame Welding</td><td>ML Mountain Frame-W - Silver, 38</td><td>160</td></tr><tr><td>Frame Welding</td><td>ML Road Frame-W - Yellow, 38</td><td>155</td></tr><tr><td>Frame Welding</td><td>ML Mountain Frame - Black, 38</td><td>150</td></tr><tr><td>Frame Welding</td><td>HL Mountain Frame - Silver, 38</td><td>145</td></tr><tr><td>Frame Welding</td><td>LL Mountain Frame - Black, 40</td><td>142</td></tr><tr><td>Frame Welding</td><td>LL Mountain Frame - Silver, 40</td><td>96</td></tr><tr><td>Metal Storage</td><td>Fork Crown</td><td>622</td></tr><tr><td>Metal Storage</td><td>Chainring</td><td>587</td></tr><tr><td>Metal Storage</td><td>Fork End</td><td>574</td></tr><tr><td>Metal Storage</td><td>Chain Stays</td><td>568</td></tr><tr><td>Metal Storage</td><td>Crown Race</td><td>568</td></tr><tr><td>Metal Storage</td><td>Metal Bar 2</td><td>568</td></tr><tr><td>Metal Storage</td><td>Mountain End Caps</td><td>568</td></tr><tr><td>Metal Storage</td><td>Road End Caps</td><td>558</td></tr><tr><td>Metal Storage</td><td>Touring End Caps</td><td>548</td></tr><tr><td>Metal Storage</td><td>Chainring Nut</td><td>540</td></tr><tr><td>Metal Storage</td><td>Blade</td><td>532</td></tr><tr><td>Metal Storage</td><td>Metal Sheet 3</td><td>531</td></tr><tr><td>Metal Storage</td><td>Metal Plate 1</td><td>515</td></tr><tr><td>Metal Storage</td><td>Metal Sheet 5</td><td>515</td></tr><tr><td>Metal Storage</td><td>HL Road Front Wheel</td><td>446</td></tr><tr><td>Metal Storage</td><td>HL Mountain Front Wheel</td><td>443</td></tr><tr><td>Metal Storage</td><td>Touring Front Wheel</td><td>432</td></tr><tr><td>Metal Storage</td><td>LL Road Front Wheel</td><td>428</td></tr><tr><td>Metal Storage</td><td>Metal Sheet 4</td><td>427</td></tr><tr><td>Metal Storage</td><td>Metal Sheet 2</td><td>427</td></tr><tr><td>Metal Storage</td><td>ML Road Front Wheel</td><td>409</td></tr><tr><td>Metal Storage</td><td>Down Tube</td><td>408</td></tr><tr><td>Metal Storage</td><td>ML Mountain Front Wheel</td><td>406</td></tr><tr><td>Metal Storage</td><td>Metal Plate 2</td><td>390</td></tr><tr><td>Metal Storage</td><td>Metal Plate 3</td><td>374</td></tr><tr><td>Metal Storage</td><td>Metal Sheet 7</td><td>374</td></tr><tr><td>Metal Storage</td><td>Chainring Bolts</td><td>372</td></tr><tr><td>Metal Storage</td><td>Handlebar Tube</td><td>372</td></tr><tr><td>Metal Storage</td><td>Head Tube</td><td>366</td></tr><tr><td>Metal Storage</td><td>HL Fork</td><td>363</td></tr><tr><td>Metal Storage</td><td>ML Fork</td><td>356</td></tr><tr><td>Metal Storage</td><td>LL Fork</td><td>350</td></tr><tr><td>Metal Storage</td><td>HL Crankset</td><td>348</td></tr><tr><td>Metal Storage</td><td>Front Brakes</td><td>347</td></tr><tr><td>Metal Storage</td><td>Front Derailleur</td><td>347</td></tr><tr><td>Metal Storage</td><td>Freewheel</td><td>344</td></tr><tr><td>Metal Storage</td><td>ML Crankset</td><td>342</td></tr><tr><td>Metal Storage</td><td>Metal Sheet 6</td><td>337</td></tr><tr><td>Metal Storage</td><td>LL Crankset</td><td>336</td></tr><tr><td>Metal Storage</td><td>Metal Angle</td><td>324</td></tr><tr><td>Metal Storage</td><td>Metal Bar 1</td><td>323</td></tr><tr><td>Metal Storage</td><td>Metal Sheet 1</td><td>318</td></tr><tr><td>Metal Storage</td><td>Front Derailleur Linkage</td><td>300</td></tr><tr><td>Metal Storage</td><td>HL Hub</td><td>283</td></tr><tr><td>Metal Storage</td><td>LL Mountain Front Wheel</td><td>265</td></tr><tr><td>Metal Storage</td><td>LL Hub</td><td>260</td></tr><tr><td>Metal Storage</td><td>Chain</td><td>192</td></tr><tr><td>Metal Storage</td><td>HL Crankarm</td><td>184</td></tr><tr><td>Metal Storage</td><td>Front Derailleur Cage</td><td>179</td></tr><tr><td>Metal Storage</td><td>ML Crankarm</td><td>171</td></tr><tr><td>Metal Storage</td><td>LL Crankarm</td><td>158</td></tr><tr><td>Miscellaneous Storage</td><td>Seat Lug</td><td>924</td></tr><tr><td>Miscellaneous Storage</td><td>Hex Nut 7</td><td>897</td></tr><tr><td>Miscellaneous Storage</td><td>Spokes</td><td>888</td></tr><tr><td>Miscellaneous Storage</td><td>Hex Nut 14</td><td>780</td></tr><tr><td>Miscellaneous Storage</td><td>Seat Stays</td><td>715</td></tr><tr><td>Miscellaneous Storage</td><td>Hex Nut 10</td><td>710</td></tr><tr><td>Miscellaneous Storage</td><td>Hex Nut 2</td><td>691</td></tr><tr><td>Miscellaneous Storage</td><td>Thin-Jam Hex Nut 5</td><td>691</td></tr><tr><td>Miscellaneous Storage</td><td>Thin-Jam Hex Nut 3</td><td>689</td></tr><tr><td>Miscellaneous Storage</td><td>HL Mountain Rim</td><td>689</td></tr><tr><td>Miscellaneous Storage</td><td>ML Mountain Rim</td><td>681</td></tr><tr><td>Miscellaneous Storage</td><td>Hex Nut 23</td><td>676</td></tr><tr><td>Miscellaneous Storage</td><td>LL Mountain Rim</td><td>673</td></tr><tr><td>Miscellaneous Storage</td><td>Hex Nut 6</td><td>649</td></tr><tr><td>Miscellaneous Storage</td><td>Thin-Jam Hex Nut 7</td><td>649</td></tr><tr><td>Miscellaneous Storage</td><td>LL Shell</td><td>644</td></tr><tr><td>Miscellaneous Storage</td><td>Thin-Jam Hex Nut 15</td><td>643</td></tr><tr><td>Miscellaneous Storage</td><td>Touring Rim</td><td>640</td></tr><tr><td>Miscellaneous Storage</td><td>Internal Lock Washer 6</td><td>627</td></tr><tr><td>Miscellaneous Storage</td><td>Metal Tread Plate</td><td>619</td></tr><tr><td>Miscellaneous Storage</td><td>Internal Lock Washer 4</td><td>603</td></tr><tr><td>Miscellaneous Storage</td><td>Thin-Jam Hex Nut 1</td><td>601</td></tr><tr><td>Miscellaneous Storage</td><td>LL Nipple</td><td>600</td></tr><tr><td>Miscellaneous Storage</td><td>HL Shell</td><td>587</td></tr><tr><td>Miscellaneous Storage</td><td>Decal 2</td><td>587</td></tr><tr><td>Miscellaneous Storage</td><td>External Lock Washer 7</td><td>587</td></tr><tr><td>Miscellaneous Storage</td><td>Hex Nut 18</td><td>585</td></tr><tr><td>Miscellaneous Storage</td><td>Lock Washer 11</td><td>585</td></tr><tr><td>Miscellaneous Storage</td><td>Lock Washer 3</td><td>584</td></tr><tr><td>Miscellaneous Storage</td><td>Lock Washer 9</td><td>582</td></tr><tr><td>Miscellaneous Storage</td><td>Lock Washer 2</td><td>580</td></tr><tr><td>Miscellaneous Storage</td><td>Lock Washer 12</td><td>579</td></tr><tr><td>Miscellaneous Storage</td><td>Lock Washer 7</td><td>577</td></tr><tr><td>Miscellaneous Storage</td><td>Lock Washer 1</td><td>576</td></tr><tr><td>Miscellaneous Storage</td><td>Lock Washer 8</td><td>574</td></tr><tr><td>Miscellaneous Storage</td><td>Lock Washer 13</td><td>572</td></tr><tr><td>Miscellaneous Storage</td><td>Lock Washer 6</td><td>571</td></tr><tr><td>Miscellaneous Storage</td><td>Lock Washer 10</td><td>569</td></tr><tr><td>Miscellaneous Storage</td><td>Lock Washer 5</td><td>568</td></tr><tr><td>Miscellaneous Storage</td><td>Lock Washer 4</td><td>566</td></tr><tr><td>Miscellaneous Storage</td><td>External Lock Washer 2</td><td>552</td></tr><tr><td>Miscellaneous Storage</td><td>Hex Nut 19</td><td>550</td></tr><tr><td>Miscellaneous Storage</td><td>Decal 1</td><td>540</td></tr><tr><td>Miscellaneous Storage</td><td>Lock Nut 16</td><td>534</td></tr><tr><td>Miscellaneous Storage</td><td>Lock Nut 6</td><td>531</td></tr><tr><td>Miscellaneous Storage</td><td>Lock Nut 17</td><td>529</td></tr><tr><td>Miscellaneous Storage</td><td>Lock Nut 5</td><td>528</td></tr><tr><td>Miscellaneous Storage</td><td>Hex Nut 13</td><td>526</td></tr><tr><td>Miscellaneous Storage</td><td>Lock Nut 7</td><td>524</td></tr><tr><td>Miscellaneous Storage</td><td>Thin-Jam Lock Nut 11</td><td>524</td></tr><tr><td>Miscellaneous Storage</td><td>Thin-Jam Lock Nut 12</td><td>521</td></tr><tr><td>Miscellaneous Storage</td><td>Lock Ring</td><td>521</td></tr><tr><td>Miscellaneous Storage</td><td>Lock Nut 8</td><td>520</td></tr><tr><td>Miscellaneous Storage</td><td>Lock Nut 18</td><td>518</td></tr><tr><td>Miscellaneous Storage</td><td>Thin-Jam Lock Nut 8</td><td>518</td></tr><tr><td>Miscellaneous Storage</td><td>Thin-Jam Lock Nut 7</td><td>515</td></tr><tr><td>Miscellaneous Storage</td><td>Thin-Jam Lock Nut 9</td><td>515</td></tr><tr><td>Miscellaneous Storage</td><td>Lock Nut 19</td><td>515</td></tr><tr><td>Miscellaneous Storage</td><td>Lock Nut 9</td><td>515</td></tr><tr><td>Miscellaneous Storage</td><td>Thin-Jam Lock Nut 10</td><td>513</td></tr><tr><td>Miscellaneous Storage</td><td>Thin-Jam Lock Nut 1</td><td>512</td></tr><tr><td>Miscellaneous Storage</td><td>Thin-Jam Lock Nut 14</td><td>512</td></tr><tr><td>Miscellaneous Storage</td><td>Lock Nut 4</td><td>512</td></tr><tr><td>Miscellaneous Storage</td><td>Lock Nut 22</td><td>510</td></tr><tr><td>Miscellaneous Storage</td><td>Thin-Jam Lock Nut 2</td><td>510</td></tr><tr><td>Miscellaneous Storage</td><td>Thin-Jam Lock Nut 15</td><td>508</td></tr><tr><td>Miscellaneous Storage</td><td>Thin-Jam Lock Nut 13</td><td>508</td></tr><tr><td>Miscellaneous Storage</td><td>Lock Nut 15</td><td>508</td></tr><tr><td>Miscellaneous Storage</td><td>Thin-Jam Lock Nut 16</td><td>507</td></tr><tr><td>Miscellaneous Storage</td><td>Thin-Jam Lock Nut 4</td><td>505</td></tr><tr><td>Miscellaneous Storage</td><td>Thin-Jam Lock Nut 5</td><td>505</td></tr><tr><td>Miscellaneous Storage</td><td>Lock Nut 14</td><td>505</td></tr><tr><td>Miscellaneous Storage</td><td>Lock Nut 23</td><td>505</td></tr><tr><td>Miscellaneous Storage</td><td>Thin-Jam Lock Nut 6</td><td>504</td></tr><tr><td>Miscellaneous Storage</td><td>Thin-Jam Lock Nut 3</td><td>502</td></tr><tr><td>Miscellaneous Storage</td><td>Lock Nut 3</td><td>502</td></tr><tr><td>Miscellaneous Storage</td><td>Lock Nut 12</td><td>500</td></tr><tr><td>Miscellaneous Storage</td><td>Lock Nut 21</td><td>499</td></tr><tr><td>Miscellaneous Storage</td><td>Lock Nut 20</td><td>496</td></tr><tr><td>Miscellaneous Storage</td><td>Lock Nut 13</td><td>496</td></tr><tr><td>Miscellaneous Storage</td><td>Lock Nut 2</td><td>492</td></tr><tr><td>Miscellaneous Storage</td><td>Lock Nut 1</td><td>491</td></tr><tr><td>Miscellaneous Storage</td><td>Lock Nut 11</td><td>489</td></tr><tr><td>Miscellaneous Storage</td><td>Lock Nut 10</td><td>486</td></tr><tr><td>Miscellaneous Storage</td><td>HL Bottom Bracket</td><td>475</td></tr><tr><td>Miscellaneous Storage</td><td>BB Ball Bearing</td><td>443</td></tr><tr><td>Miscellaneous Storage</td><td>Seat Tube</td><td>443</td></tr><tr><td>Miscellaneous Storage</td><td>HL Road Rear Wheel</td><td>432</td></tr><tr><td>Miscellaneous Storage</td><td>Tension Pulley</td><td>427</td></tr><tr><td>Miscellaneous Storage</td><td>Steerer</td><td>427</td></tr><tr><td>Miscellaneous Storage</td><td>Stem</td><td>425</td></tr><tr><td>Miscellaneous Storage</td><td>HL Touring Seat/Saddle</td><td>425</td></tr><tr><td>Miscellaneous Storage</td><td>LL Mountain Rear Wheel</td><td>425</td></tr><tr><td>Miscellaneous Storage</td><td>Headset Ball Bearings</td><td>422</td></tr><tr><td>Miscellaneous Storage</td><td>HL Nipple</td><td>420</td></tr><tr><td>Miscellaneous Storage</td><td>ML Road Rear Wheel</td><td>412</td></tr><tr><td>Miscellaneous Storage</td><td>ML Mountain Rear Wheel</td><td>411</td></tr><tr><td>Miscellaneous Storage</td><td>LL Road Rim</td><td>406</td></tr><tr><td>Miscellaneous Storage</td><td>LL Mountain Seat/Saddle</td><td>400</td></tr><tr><td>Miscellaneous Storage</td><td>HL Mountain Rear Wheel</td><td>396</td></tr><tr><td>Miscellaneous Storage</td><td>LL Road Rear Wheel</td><td>393</td></tr><tr><td>Miscellaneous Storage</td><td>ML Road Rim</td><td>390</td></tr><tr><td>Miscellaneous Storage</td><td>Reflector</td><td>390</td></tr><tr><td>Miscellaneous Storage</td><td>ML Mountain Tire</td><td>385</td></tr><tr><td>Miscellaneous Storage</td><td>ML Road Tire</td><td>382</td></tr><tr><td>Miscellaneous Storage</td><td>Top Tube</td><td>379</td></tr><tr><td>Miscellaneous Storage</td><td>Cup-Shaped Race</td><td>372</td></tr><tr><td>Miscellaneous Storage</td><td>Pinch Bolt</td><td>364</td></tr><tr><td>Miscellaneous Storage</td><td>Thin-Jam Hex Nut 9</td><td>360</td></tr><tr><td>Miscellaneous Storage</td><td>Thin-Jam Hex Nut 4</td><td>360</td></tr><tr><td>Miscellaneous Storage</td><td>Thin-Jam Hex Nut 16</td><td>358</td></tr><tr><td>Miscellaneous Storage</td><td>LL Bottom Bracket</td><td>358</td></tr><tr><td>Miscellaneous Storage</td><td>Hex Nut 4</td><td>355</td></tr><tr><td>Miscellaneous Storage</td><td>Rear Derailleur</td><td>355</td></tr><tr><td>Miscellaneous Storage</td><td>Thin-Jam Hex Nut 13</td><td>353</td></tr><tr><td>Miscellaneous Storage</td><td>Thin-Jam Hex Nut 10</td><td>353</td></tr><tr><td>Miscellaneous Storage</td><td>Hex Nut 5</td><td>353</td></tr><tr><td>Miscellaneous Storage</td><td>Keyed Washer</td><td>353</td></tr><tr><td>Miscellaneous Storage</td><td>External Lock Washer 3</td><td>350</td></tr><tr><td>Miscellaneous Storage</td><td>Thin-Jam Hex Nut 11</td><td>350</td></tr><tr><td>Miscellaneous Storage</td><td>Thin-Jam Hex Nut 12</td><td>347</td></tr><tr><td>Miscellaneous Storage</td><td>External Lock Washer 4</td><td>347</td></tr><tr><td>Miscellaneous Storage</td><td>External Lock Washer 6</td><td>344</td></tr><tr><td>Miscellaneous Storage</td><td>External Lock Washer 9</td><td>344</td></tr><tr><td>Miscellaneous Storage</td><td>Thin-Jam Hex Nut 8</td><td>344</td></tr><tr><td>Miscellaneous Storage</td><td>External Lock Washer 5</td><td>340</td></tr><tr><td>Miscellaneous Storage</td><td>External Lock Washer 1</td><td>340</td></tr><tr><td>Miscellaneous Storage</td><td>External Lock Washer 8</td><td>337</td></tr><tr><td>Miscellaneous Storage</td><td>Seat Post</td><td>336</td></tr><tr><td>Miscellaneous Storage</td><td>HL Road Rim</td><td>334</td></tr><tr><td>Miscellaneous Storage</td><td>Adjustable Race</td><td>324</td></tr><tr><td>Miscellaneous Storage</td><td>Internal Lock Washer 9</td><td>321</td></tr><tr><td>Miscellaneous Storage</td><td>Internal Lock Washer 3</td><td>321</td></tr><tr><td>Miscellaneous Storage</td><td>ML Bottom Bracket</td><td>321</td></tr><tr><td>Miscellaneous Storage</td><td>Bearing Ball</td><td>318</td></tr><tr><td>Miscellaneous Storage</td><td>Internal Lock Washer 5</td><td>316</td></tr><tr><td>Miscellaneous Storage</td><td>Thin-Jam Hex Nut 2</td><td>315</td></tr><tr><td>Miscellaneous Storage</td><td>Internal Lock Washer 7</td><td>312</td></tr><tr><td>Miscellaneous Storage</td><td>ML Road Seat/Saddle</td><td>302</td></tr><tr><td>Miscellaneous Storage</td><td>HL Road Tire</td><td>299</td></tr><tr><td>Miscellaneous Storage</td><td>Cone-Shaped Race</td><td>299</td></tr><tr><td>Miscellaneous Storage</td><td>Hex Nut 16</td><td>299</td></tr><tr><td>Miscellaneous Storage</td><td>Thin-Jam Hex Nut 6</td><td>299</td></tr><tr><td>Miscellaneous Storage</td><td>Hex Nut 17</td><td>294</td></tr><tr><td>Miscellaneous Storage</td><td>Mountain Tire Tube</td><td>286</td></tr><tr><td>Miscellaneous Storage</td><td>LL Road Seat/Saddle</td><td>283</td></tr><tr><td>Miscellaneous Storage</td><td>Internal Lock Washer 10</td><td>283</td></tr><tr><td>Miscellaneous Storage</td><td>Internal Lock Washer 1</td><td>281</td></tr><tr><td>Miscellaneous Storage</td><td>HL Touring Seat Assembly</td><td>280</td></tr><tr><td>Miscellaneous Storage</td><td>Internal Lock Washer 8</td><td>280</td></tr><tr><td>Miscellaneous Storage</td><td>Internal Lock Washer 2</td><td>278</td></tr><tr><td>Miscellaneous Storage</td><td>ML Touring Seat Assembly</td><td>278</td></tr><tr><td>Miscellaneous Storage</td><td>LL Touring Seat Assembly</td><td>276</td></tr><tr><td>Miscellaneous Storage</td><td>Hex Nut 22</td><td>276</td></tr><tr><td>Miscellaneous Storage</td><td>HL Road Seat Assembly</td><td>275</td></tr><tr><td>Miscellaneous Storage</td><td>ML Road Seat Assembly</td><td>273</td></tr><tr><td>Miscellaneous Storage</td><td>LL Road Seat Assembly</td><td>272</td></tr><tr><td>Miscellaneous Storage</td><td>HL Headset</td><td>272</td></tr><tr><td>Miscellaneous Storage</td><td>HL Mountain Seat Assembly</td><td>270</td></tr><tr><td>Miscellaneous Storage</td><td>Hex Nut 9</td><td>270</td></tr><tr><td>Miscellaneous Storage</td><td>ML Mountain Seat Assembly</td><td>268</td></tr><tr><td>Miscellaneous Storage</td><td>ML Headset</td><td>268</td></tr><tr><td>Miscellaneous Storage</td><td>LL Mountain Seat Assembly</td><td>267</td></tr><tr><td>Miscellaneous Storage</td><td>HL Mountain Tire</td><td>267</td></tr><tr><td>Miscellaneous Storage</td><td>HL Road Pedal</td><td>267</td></tr><tr><td>Miscellaneous Storage</td><td>LL Headset</td><td>265</td></tr><tr><td>Miscellaneous Storage</td><td>Touring Rear Wheel</td><td>265</td></tr><tr><td>Miscellaneous Storage</td><td>Road Tire Tube</td><td>264</td></tr><tr><td>Miscellaneous Storage</td><td>Hex Nut 8</td><td>264</td></tr><tr><td>Miscellaneous Storage</td><td>Touring Pedal</td><td>262</td></tr><tr><td>Miscellaneous Storage</td><td>Touring Tire Tube</td><td>262</td></tr><tr><td>Miscellaneous Storage</td><td>Guide Pulley</td><td>257</td></tr><tr><td>Miscellaneous Storage</td><td>LL Touring Seat/Saddle</td><td>248</td></tr><tr><td>Miscellaneous Storage</td><td>LL Grip Tape</td><td>243</td></tr><tr><td>Miscellaneous Storage</td><td>LL Mountain Tire</td><td>240</td></tr><tr><td>Miscellaneous Storage</td><td>LL Road Tire</td><td>236</td></tr><tr><td>Miscellaneous Storage</td><td>Touring Tire</td><td>233</td></tr><tr><td>Miscellaneous Storage</td><td>ML Mountain Seat/Saddle</td><td>230</td></tr><tr><td>Miscellaneous Storage</td><td>ML Grip Tape</td><td>228</td></tr><tr><td>Miscellaneous Storage</td><td>Rear Brakes</td><td>228</td></tr><tr><td>Miscellaneous Storage</td><td>Hex Nut 12</td><td>217</td></tr><tr><td>Miscellaneous Storage</td><td>HL Grip Tape</td><td>214</td></tr><tr><td>Miscellaneous Storage</td><td>Lower Head Race</td><td>204</td></tr><tr><td>Miscellaneous Storage</td><td>Hex Nut 1</td><td>192</td></tr><tr><td>Miscellaneous Storage</td><td>LL Mountain Pedal</td><td>182</td></tr><tr><td>Miscellaneous Storage</td><td>ML Mountain Pedal</td><td>180</td></tr><tr><td>Miscellaneous Storage</td><td>HL Mountain Pedal</td><td>179</td></tr><tr><td>Miscellaneous Storage</td><td>LL Road Pedal</td><td>177</td></tr><tr><td>Miscellaneous Storage</td><td>ML Road Pedal</td><td>176</td></tr><tr><td>Miscellaneous Storage</td><td>HL Road Seat/Saddle</td><td>169</td></tr><tr><td>Miscellaneous Storage</td><td>LL Spindle/Axle</td><td>164</td></tr><tr><td>Miscellaneous Storage</td><td>ML Touring Seat/Saddle</td><td>161</td></tr><tr><td>Miscellaneous Storage</td><td>Thin-Jam Hex Nut 14</td><td>155</td></tr><tr><td>Miscellaneous Storage</td><td>Hex Nut 15</td><td>150</td></tr><tr><td>Miscellaneous Storage</td><td>Hex Nut 3</td><td>147</td></tr><tr><td>Miscellaneous Storage</td><td>Hex Nut 21</td><td>144</td></tr><tr><td>Miscellaneous Storage</td><td>Hex Nut 20</td><td>140</td></tr><tr><td>Miscellaneous Storage</td><td>Hex Nut 11</td><td>140</td></tr><tr><td>Miscellaneous Storage</td><td>Rear Derailleur Cage</td><td>136</td></tr><tr><td>Miscellaneous Storage</td><td>HL Spindle/Axle</td><td>124</td></tr><tr><td>Miscellaneous Storage</td><td>HL Mountain Seat/Saddle</td><td>91</td></tr><tr><td>Paint</td><td>HL Mountain Frame - Black, 38</td><td>107</td></tr><tr><td>Paint</td><td>ML Road Frame-W - Yellow, 38</td><td>100</td></tr><tr><td>Paint</td><td>ML Mountain Frame - Black, 38</td><td>96</td></tr><tr><td>Paint</td><td>LL Mountain Frame - Black, 40</td><td>88</td></tr><tr><td>Paint</td><td>Paint - Yellow</td><td>44</td></tr><tr><td>Paint</td><td>Paint - Red</td><td>28</td></tr><tr><td>Paint</td><td>Paint - Blue</td><td>25</td></tr><tr><td>Paint</td><td>Paint - Black</td><td>16</td></tr><tr><td>Paint</td><td>Paint - Silver</td><td>4</td></tr><tr><td>Paint Shop</td><td>Paint - Silver</td><td>49</td></tr><tr><td>Paint Shop</td><td>Paint - Blue</td><td>49</td></tr><tr><td>Paint Shop</td><td>Paint - Red</td><td>41</td></tr><tr><td>Paint Shop</td><td>Paint - Yellow</td><td>30</td></tr><tr><td>Paint Shop</td><td>Paint - Black</td><td>17</td></tr><tr><td>Paint Storage</td><td>Paint - Blue</td><td>35</td></tr><tr><td>Paint Storage</td><td>Paint - Yellow</td><td>25</td></tr><tr><td>Paint Storage</td><td>Paint - Red</td><td>24</td></tr><tr><td>Paint Storage</td><td>Paint - Black</td><td>14</td></tr><tr><td>Paint Storage</td><td>Paint - Silver</td><td>12</td></tr><tr><td>Sheet Metal Racks</td><td>Metal Sheet 3</td><td>691</td></tr><tr><td>Sheet Metal Racks</td><td>Metal Plate 1</td><td>689</td></tr><tr><td>Sheet Metal Racks</td><td>Metal Sheet 5</td><td>689</td></tr><tr><td>Sheet Metal Racks</td><td>Metal Bar 2</td><td>497</td></tr><tr><td>Sheet Metal Racks</td><td>Metal Plate 2</td><td>441</td></tr><tr><td>Sheet Metal Racks</td><td>Metal Plate 3</td><td>427</td></tr><tr><td>Sheet Metal Racks</td><td>Metal Sheet 7</td><td>427</td></tr><tr><td>Sheet Metal Racks</td><td>Metal Bar 1</td><td>403</td></tr><tr><td>Sheet Metal Racks</td><td>Metal Sheet 6</td><td>331</td></tr><tr><td>Sheet Metal Racks</td><td>Metal Sheet 4</td><td>321</td></tr><tr><td>Sheet Metal Racks</td><td>Metal Sheet 2</td><td>321</td></tr><tr><td>Sheet Metal Racks</td><td>Metal Sheet 1</td><td>312</td></tr><tr><td>Specialized Paint</td><td>LL Mountain Frame - Silver, 40</td><td>136</td></tr><tr><td>Specialized Paint</td><td>ML Mountain Frame-W - Silver, 38</td><td>105</td></tr><tr><td>Specialized Paint</td><td>HL Mountain Frame - Silver, 38</td><td>91</td></tr><tr><td>Subassembly</td><td>Hex Nut 19</td><td>763</td></tr><tr><td>Subassembly</td><td>Touring Rim</td><td>724</td></tr><tr><td>Subassembly</td><td>Spokes</td><td>702</td></tr><tr><td>Subassembly</td><td>Hex Nut 7</td><td>691</td></tr><tr><td>Subassembly</td><td>Hex Nut 10</td><td>654</td></tr><tr><td>Subassembly</td><td>Chainring Nut</td><td>641</td></tr><tr><td>Subassembly</td><td>Lock Washer 11</td><td>640</td></tr><tr><td>Subassembly</td><td>Lock Washer 3</td><td>638</td></tr><tr><td>Subassembly</td><td>Hex Nut 23</td><td>638</td></tr><tr><td>Subassembly</td><td>Lock Washer 9</td><td>636</td></tr><tr><td>Subassembly</td><td>Lock Washer 2</td><td>635</td></tr><tr><td>Subassembly</td><td>Lock Washer 12</td><td>633</td></tr><tr><td>Subassembly</td><td>Hex Nut 13</td><td>633</td></tr><tr><td>Subassembly</td><td>Lock Washer 7</td><td>632</td></tr><tr><td>Subassembly</td><td>Lock Washer 1</td><td>630</td></tr><tr><td>Subassembly</td><td>Lock Washer 8</td><td>628</td></tr><tr><td>Subassembly</td><td>Lock Washer 13</td><td>627</td></tr><tr><td>Subassembly</td><td>Lock Washer 6</td><td>625</td></tr><tr><td>Subassembly</td><td>External Lock Washer 7</td><td>625</td></tr><tr><td>Subassembly</td><td>HL Shell</td><td>624</td></tr><tr><td>Subassembly</td><td>Lock Washer 10</td><td>624</td></tr><tr><td>Subassembly</td><td>Lock Washer 5</td><td>622</td></tr><tr><td>Subassembly</td><td>Lock Washer 4</td><td>620</td></tr><tr><td>Subassembly</td><td>LL Shell</td><td>619</td></tr><tr><td>Subassembly</td><td>Thin-Jam Hex Nut 15</td><td>619</td></tr><tr><td>Subassembly</td><td>Thin-Jam Hex Nut 5</td><td>619</td></tr><tr><td>Subassembly</td><td>Metal Tread Plate</td><td>606</td></tr><tr><td>Subassembly</td><td>Flat Washer 2</td><td>606</td></tr><tr><td>Subassembly</td><td>Hex Nut 18</td><td>603</td></tr><tr><td>Subassembly</td><td>LL Nipple</td><td>587</td></tr><tr><td>Subassembly</td><td>Thin-Jam Hex Nut 3</td><td>569</td></tr><tr><td>Subassembly</td><td>HL Mountain Rim</td><td>558</td></tr><tr><td>Subassembly</td><td>ML Mountain Rim</td><td>550</td></tr><tr><td>Subassembly</td><td>Hex Nut 6</td><td>547</td></tr><tr><td>Subassembly</td><td>Thin-Jam Hex Nut 7</td><td>547</td></tr><tr><td>Subassembly</td><td>LL Mountain Rim</td><td>542</td></tr><tr><td>Subassembly</td><td>Thin-Jam Hex Nut 1</td><td>531</td></tr><tr><td>Subassembly</td><td>Lock Nut 16</td><td>516</td></tr><tr><td>Subassembly</td><td>Internal Lock Washer 6</td><td>516</td></tr><tr><td>Subassembly</td><td>Down Tube</td><td>513</td></tr><tr><td>Subassembly</td><td>Crown Race</td><td>513</td></tr><tr><td>Subassembly</td><td>Lock Nut 6</td><td>513</td></tr><tr><td>Subassembly</td><td>Lock Nut 17</td><td>512</td></tr><tr><td>Subassembly</td><td>Lock Nut 5</td><td>510</td></tr><tr><td>Subassembly</td><td>Lock Nut 7</td><td>507</td></tr><tr><td>Subassembly</td><td>Thin-Jam Lock Nut 11</td><td>507</td></tr><tr><td>Subassembly</td><td>Thin-Jam Lock Nut 12</td><td>504</td></tr><tr><td>Subassembly</td><td>Lock Ring</td><td>504</td></tr><tr><td>Subassembly</td><td>Lock Nut 8</td><td>502</td></tr><tr><td>Subassembly</td><td>Lock Nut 18</td><td>500</td></tr><tr><td>Subassembly</td><td>Thin-Jam Lock Nut 8</td><td>500</td></tr><tr><td>Subassembly</td><td>Thin-Jam Lock Nut 7</td><td>497</td></tr><tr><td>Subassembly</td><td>Thin-Jam Lock Nut 9</td><td>497</td></tr><tr><td>Subassembly</td><td>Lock Nut 19</td><td>497</td></tr><tr><td>Subassembly</td><td>Lock Nut 9</td><td>497</td></tr><tr><td>Subassembly</td><td>Hex Nut 14</td><td>497</td></tr><tr><td>Subassembly</td><td>Thin-Jam Lock Nut 10</td><td>496</td></tr><tr><td>Subassembly</td><td>Thin-Jam Lock Nut 1</td><td>494</td></tr><tr><td>Subassembly</td><td>Thin-Jam Lock Nut 14</td><td>494</td></tr><tr><td>Subassembly</td><td>Lock Nut 4</td><td>494</td></tr><tr><td>Subassembly</td><td>Lock Nut 22</td><td>492</td></tr><tr><td>Subassembly</td><td>Thin-Jam Lock Nut 2</td><td>492</td></tr><tr><td>Subassembly</td><td>Thin-Jam Lock Nut 15</td><td>491</td></tr><tr><td>Subassembly</td><td>Thin-Jam Lock Nut 13</td><td>491</td></tr><tr><td>Subassembly</td><td>Lock Nut 15</td><td>491</td></tr><tr><td>Subassembly</td><td>Thin-Jam Lock Nut 16</td><td>489</td></tr><tr><td>Subassembly</td><td>Thin-Jam Lock Nut 4</td><td>488</td></tr><tr><td>Subassembly</td><td>Thin-Jam Lock Nut 5</td><td>488</td></tr><tr><td>Subassembly</td><td>Lock Nut 14</td><td>488</td></tr><tr><td>Subassembly</td><td>Lock Nut 23</td><td>488</td></tr><tr><td>Subassembly</td><td>Thin-Jam Lock Nut 6</td><td>486</td></tr><tr><td>Subassembly</td><td>Thin-Jam Lock Nut 3</td><td>484</td></tr><tr><td>Subassembly</td><td>Lock Nut 3</td><td>484</td></tr><tr><td>Subassembly</td><td>Lock Nut 12</td><td>483</td></tr><tr><td>Subassembly</td><td>Lock Nut 21</td><td>481</td></tr><tr><td>Subassembly</td><td>Lock Nut 20</td><td>478</td></tr><tr><td>Subassembly</td><td>Lock Nut 13</td><td>478</td></tr><tr><td>Subassembly</td><td>Mountain End Caps</td><td>476</td></tr><tr><td>Subassembly</td><td>Chain Stays</td><td>476</td></tr><tr><td>Subassembly</td><td>Flat Washer 3</td><td>476</td></tr><tr><td>Subassembly</td><td>Thin-Jam Hex Nut 14</td><td>476</td></tr><tr><td>Subassembly</td><td>Touring Rear Wheel</td><td>476</td></tr><tr><td>Subassembly</td><td>Chainring</td><td>475</td></tr><tr><td>Subassembly</td><td>Lock Nut 2</td><td>475</td></tr><tr><td>Subassembly</td><td>Lock Nut 1</td><td>473</td></tr><tr><td>Subassembly</td><td>Lock Nut 11</td><td>472</td></tr><tr><td>Subassembly</td><td>Lock Nut 10</td><td>468</td></tr><tr><td>Subassembly</td><td>Road End Caps</td><td>467</td></tr><tr><td>Subassembly</td><td>LL Road Front Wheel</td><td>460</td></tr><tr><td>Subassembly</td><td>Hex Nut 2</td><td>460</td></tr><tr><td>Subassembly</td><td>Internal Lock Washer 4</td><td>459</td></tr><tr><td>Subassembly</td><td>External Lock Washer 2</td><td>459</td></tr><tr><td>Subassembly</td><td>Hex Nut 15</td><td>459</td></tr><tr><td>Subassembly</td><td>LL Mountain Front Wheel</td><td>457</td></tr><tr><td>Subassembly</td><td>Touring End Caps</td><td>457</td></tr><tr><td>Subassembly</td><td>Blade</td><td>441</td></tr><tr><td>Subassembly</td><td>ML Road Rear Wheel</td><td>425</td></tr><tr><td>Subassembly</td><td>Front Brakes</td><td>420</td></tr><tr><td>Subassembly</td><td>ML Mountain Front Wheel</td><td>412</td></tr><tr><td>Subassembly</td><td>Thin-Jam Hex Nut 6</td><td>412</td></tr><tr><td>Subassembly</td><td>Tension Pulley</td><td>409</td></tr><tr><td>Subassembly</td><td>LL Road Rear Wheel</td><td>406</td></tr><tr><td>Subassembly</td><td>ML Mountain Rear Wheel</td><td>401</td></tr><tr><td>Subassembly</td><td>Hex Nut 16</td><td>393</td></tr><tr><td>Subassembly</td><td>Flat Washer 1</td><td>392</td></tr><tr><td>Subassembly</td><td>Fork End</td><td>390</td></tr><tr><td>Subassembly</td><td>Flat Washer 6</td><td>388</td></tr><tr><td>Subassembly</td><td>Hex Nut 17</td><td>388</td></tr><tr><td>Subassembly</td><td>Headset Ball Bearings</td><td>388</td></tr><tr><td>Subassembly</td><td>Internal Lock Washer 10</td><td>388</td></tr><tr><td>Subassembly</td><td>HL Mountain Front Wheel</td><td>388</td></tr><tr><td>Subassembly</td><td>Touring Pedal</td><td>388</td></tr><tr><td>Subassembly</td><td>HL Mountain Rear Wheel</td><td>387</td></tr><tr><td>Subassembly</td><td>Internal Lock Washer 1</td><td>387</td></tr><tr><td>Subassembly</td><td>Internal Lock Washer 8</td><td>385</td></tr><tr><td>Subassembly</td><td>Hex Nut 1</td><td>385</td></tr><tr><td>Subassembly</td><td>Internal Lock Washer 2</td><td>384</td></tr><tr><td>Subassembly</td><td>ML Road Front Wheel</td><td>384</td></tr><tr><td>Subassembly</td><td>Thin-Jam Hex Nut 9</td><td>374</td></tr><tr><td>Subassembly</td><td>Thin-Jam Hex Nut 4</td><td>374</td></tr><tr><td>Subassembly</td><td>Hex Nut 3</td><td>372</td></tr><tr><td>Subassembly</td><td>Internal Lock Washer 9</td><td>371</td></tr><tr><td>Subassembly</td><td>Hex Nut 21</td><td>369</td></tr><tr><td>Subassembly</td><td>LL Mountain Tire</td><td>369</td></tr><tr><td>Subassembly</td><td>Thin-Jam Hex Nut 13</td><td>368</td></tr><tr><td>Subassembly</td><td>Thin-Jam Hex Nut 10</td><td>368</td></tr><tr><td>Subassembly</td><td>Hex Nut 20</td><td>366</td></tr><tr><td>Subassembly</td><td>Internal Lock Washer 5</td><td>366</td></tr><tr><td>Subassembly</td><td>Hex Nut 11</td><td>366</td></tr><tr><td>Subassembly</td><td>Bearing Ball</td><td>364</td></tr><tr><td>Subassembly</td><td>Hex Nut 22</td><td>363</td></tr><tr><td>Subassembly</td><td>Internal Lock Washer 7</td><td>361</td></tr><tr><td>Subassembly</td><td>Hex Nut 9</td><td>356</td></tr><tr><td>Subassembly</td><td>Adjustable Race</td><td>353</td></tr><tr><td>Subassembly</td><td>ML Road Seat/Saddle</td><td>353</td></tr><tr><td>Subassembly</td><td>ML Road Rim</td><td>350</td></tr><tr><td>Subassembly</td><td>Hex Nut 8</td><td>350</td></tr><tr><td>Subassembly</td><td>Thin-Jam Hex Nut 2</td><td>334</td></tr><tr><td>Subassembly</td><td>Flat Washer 9</td><td>332</td></tr><tr><td>Subassembly</td><td>HL Touring Seat Assembly</td><td>331</td></tr><tr><td>Subassembly</td><td>ML Touring Seat Assembly</td><td>329</td></tr><tr><td>Subassembly</td><td>LL Touring Seat Assembly</td><td>328</td></tr><tr><td>Subassembly</td><td>HL Road Seat Assembly</td><td>326</td></tr><tr><td>Subassembly</td><td>Thin-Jam Hex Nut 16</td><td>326</td></tr><tr><td>Subassembly</td><td>BB Ball Bearing</td><td>324</td></tr><tr><td>Subassembly</td><td>ML Road Seat Assembly</td><td>324</td></tr><tr><td>Subassembly</td><td>LL Road Seat Assembly</td><td>323</td></tr><tr><td>Subassembly</td><td>HL Road Pedal</td><td>323</td></tr><tr><td>Subassembly</td><td>Keyed Washer</td><td>321</td></tr><tr><td>Subassembly</td><td>HL Mountain Seat Assembly</td><td>321</td></tr><tr><td>Subassembly</td><td>LL Road Seat/Saddle</td><td>321</td></tr><tr><td>Subassembly</td><td>ML Mountain Seat Assembly</td><td>320</td></tr><tr><td>Subassembly</td><td>Cup-Shaped Race</td><td>320</td></tr><tr><td>Subassembly</td><td>External Lock Washer 3</td><td>318</td></tr><tr><td>Subassembly</td><td>LL Mountain Seat Assembly</td><td>318</td></tr><tr><td>Subassembly</td><td>LL Mountain Handlebars</td><td>316</td></tr><tr><td>Subassembly</td><td>LL Road Rim</td><td>316</td></tr><tr><td>Subassembly</td><td>External Lock Washer 4</td><td>315</td></tr><tr><td>Subassembly</td><td>Flat Washer 4</td><td>315</td></tr><tr><td>Subassembly</td><td>Fork Crown</td><td>313</td></tr><tr><td>Subassembly</td><td>ML Mountain Handlebars</td><td>313</td></tr><tr><td>Subassembly</td><td>External Lock Washer 9</td><td>312</td></tr><tr><td>Subassembly</td><td>HL Mountain Handlebars</td><td>310</td></tr><tr><td>Subassembly</td><td>External Lock Washer 5</td><td>308</td></tr><tr><td>Subassembly</td><td>LL Road Handlebars</td><td>307</td></tr><tr><td>Subassembly</td><td>HL Crankarm</td><td>305</td></tr><tr><td>Subassembly</td><td>Hex Nut 12</td><td>304</td></tr><tr><td>Subassembly</td><td>ML Road Handlebars</td><td>304</td></tr><tr><td>Subassembly</td><td>Touring Front Wheel</td><td>304</td></tr><tr><td>Subassembly</td><td>HL Road Handlebars</td><td>300</td></tr><tr><td>Subassembly</td><td>HL Crankset</td><td>297</td></tr><tr><td>Subassembly</td><td>LL Touring Handlebars</td><td>297</td></tr><tr><td>Subassembly</td><td>External Lock Washer 6</td><td>296</td></tr><tr><td>Subassembly</td><td>HL Touring Handlebars</td><td>294</td></tr><tr><td>Subassembly</td><td>External Lock Washer 1</td><td>292</td></tr><tr><td>Subassembly</td><td>ML Crankset</td><td>291</td></tr><tr><td>Subassembly</td><td>External Lock Washer 8</td><td>289</td></tr><tr><td>Subassembly</td><td>Guide Pulley</td><td>289</td></tr><tr><td>Subassembly</td><td>HL Touring Seat/Saddle</td><td>288</td></tr><tr><td>Subassembly</td><td>HL Fork</td><td>286</td></tr><tr><td>Subassembly</td><td>HL Road Rear Wheel</td><td>284</td></tr><tr><td>Subassembly</td><td>LL Crankset</td><td>284</td></tr><tr><td>Subassembly</td><td>ML Mountain Tire</td><td>284</td></tr><tr><td>Subassembly</td><td>Cone-Shaped Race</td><td>283</td></tr><tr><td>Subassembly</td><td>Chainring Bolts</td><td>283</td></tr><tr><td>Subassembly</td><td>HL Road Rim</td><td>281</td></tr><tr><td>Subassembly</td><td>Hex Nut 5</td><td>281</td></tr><tr><td>Subassembly</td><td>ML Fork</td><td>280</td></tr><tr><td>Subassembly</td><td>Top Tube</td><td>278</td></tr><tr><td>Subassembly</td><td>Thin-Jam Hex Nut 11</td><td>278</td></tr><tr><td>Subassembly</td><td>Thin-Jam Hex Nut 12</td><td>275</td></tr><tr><td>Subassembly</td><td>LL Grip Tape</td><td>275</td></tr><tr><td>Subassembly</td><td>LL Fork</td><td>273</td></tr><tr><td>Subassembly</td><td>Pinch Bolt</td><td>273</td></tr><tr><td>Subassembly</td><td>Thin-Jam Hex Nut 8</td><td>272</td></tr><tr><td>Subassembly</td><td>Front Derailleur</td><td>270</td></tr><tr><td>Subassembly</td><td>Freewheel</td><td>267</td></tr><tr><td>Subassembly</td><td>ML Bottom Bracket</td><td>265</td></tr><tr><td>Subassembly</td><td>ML Grip Tape</td><td>260</td></tr><tr><td>Subassembly</td><td>LL Mountain Rear Wheel</td><td>256</td></tr><tr><td>Subassembly</td><td>Flat Washer 7</td><td>256</td></tr><tr><td>Subassembly</td><td>LL Road Tire</td><td>252</td></tr><tr><td>Subassembly</td><td>Flat Washer 5</td><td>251</td></tr><tr><td>Subassembly</td><td>Touring Tire</td><td>249</td></tr><tr><td>Subassembly</td><td>HL Nipple</td><td>248</td></tr><tr><td>Subassembly</td><td>HL Grip Tape</td><td>246</td></tr><tr><td>Subassembly</td><td>Flat Washer 8</td><td>246</td></tr><tr><td>Subassembly</td><td>Mountain Tire Tube</td><td>243</td></tr><tr><td>Subassembly</td><td>Road Tire Tube</td><td>241</td></tr><tr><td>Subassembly</td><td>Touring Tire Tube</td><td>240</td></tr><tr><td>Subassembly</td><td>HL Mountain Tire</td><td>232</td></tr><tr><td>Subassembly</td><td>HL Road Front Wheel</td><td>232</td></tr><tr><td>Subassembly</td><td>HL Spindle/Axle</td><td>228</td></tr><tr><td>Subassembly</td><td>HL Road Tire</td><td>228</td></tr><tr><td>Subassembly</td><td>HL Headset</td><td>219</td></tr><tr><td>Subassembly</td><td>ML Headset</td><td>216</td></tr><tr><td>Subassembly</td><td>LL Mountain Seat/Saddle</td><td>214</td></tr><tr><td>Subassembly</td><td>LL Headset</td><td>212</td></tr><tr><td>Subassembly</td><td>LL Bottom Bracket</td><td>212</td></tr><tr><td>Subassembly</td><td>LL Spindle/Axle</td><td>209</td></tr><tr><td>Subassembly</td><td>Front Derailleur Linkage</td><td>195</td></tr><tr><td>Subassembly</td><td>ML Road Tire</td><td>192</td></tr><tr><td>Subassembly</td><td>Lower Head Race</td><td>187</td></tr><tr><td>Subassembly</td><td>HL Bottom Bracket</td><td>174</td></tr><tr><td>Subassembly</td><td>LL Touring Seat/Saddle</td><td>171</td></tr><tr><td>Subassembly</td><td>HL Mountain Seat/Saddle</td><td>168</td></tr><tr><td>Subassembly</td><td>Chain</td><td>161</td></tr><tr><td>Subassembly</td><td>HL Mountain Frame - Black, 38</td><td>160</td></tr><tr><td>Subassembly</td><td>ML Mountain Frame-W - Silver, 38</td><td>158</td></tr><tr><td>Subassembly</td><td>Rear Brakes</td><td>158</td></tr><tr><td>Subassembly</td><td>LL Mountain Pedal</td><td>156</td></tr><tr><td>Subassembly</td><td>Internal Lock Washer 3</td><td>156</td></tr><tr><td>Subassembly</td><td>ML Mountain Pedal</td><td>155</td></tr><tr><td>Subassembly</td><td>Rear Derailleur</td><td>155</td></tr><tr><td>Subassembly</td><td>ML Road Frame-W - Yellow, 38</td><td>153</td></tr><tr><td>Subassembly</td><td>HL Mountain Pedal</td><td>153</td></tr><tr><td>Subassembly</td><td>LL Crankarm</td><td>152</td></tr><tr><td>Subassembly</td><td>LL Road Pedal</td><td>152</td></tr><tr><td>Subassembly</td><td>ML Road Pedal</td><td>150</td></tr><tr><td>Subassembly</td><td>ML Mountain Frame - Black, 38</td><td>148</td></tr><tr><td>Subassembly</td><td>Hex Nut 4</td><td>148</td></tr><tr><td>Subassembly</td><td>HL Road Seat/Saddle</td><td>145</td></tr><tr><td>Subassembly</td><td>Front Derailleur Cage</td><td>145</td></tr><tr><td>Subassembly</td><td>HL Mountain Frame - Silver, 38</td><td>144</td></tr><tr><td>Subassembly</td><td>LL Mountain Frame - Black, 40</td><td>140</td></tr><tr><td>Subassembly</td><td>ML Crankarm</td><td>132</td></tr><tr><td>Subassembly</td><td>Rear Derailleur Cage</td><td>121</td></tr><tr><td>Subassembly</td><td>Reflector</td><td>121</td></tr><tr><td>Subassembly</td><td>ML Touring Seat/Saddle</td><td>83</td></tr><tr><td>Subassembly</td><td>LL Mountain Frame - Silver, 40</td><td>81</td></tr><tr><td>Subassembly</td><td>ML Mountain Seat/Saddle</td><td>72</td></tr><tr><td>Tool Crib</td><td>Hex Nut 2</td><td>657</td></tr><tr><td>Tool Crib</td><td>Thin-Jam Hex Nut 3</td><td>643</td></tr><tr><td>Tool Crib</td><td>Internal Lock Washer 4</td><td>641</td></tr><tr><td>Tool Crib</td><td>Lock Nut 16</td><td>640</td></tr><tr><td>Tool Crib</td><td>Lock Nut 6</td><td>636</td></tr><tr><td>Tool Crib</td><td>Hex Nut 18</td><td>636</td></tr><tr><td>Tool Crib</td><td>Lock Nut 17</td><td>635</td></tr><tr><td>Tool Crib</td><td>Lock Nut 5</td><td>633</td></tr><tr><td>Tool Crib</td><td>Lock Nut 7</td><td>630</td></tr><tr><td>Tool Crib</td><td>Thin-Jam Lock Nut 11</td><td>630</td></tr><tr><td>Tool Crib</td><td>Thin-Jam Lock Nut 12</td><td>627</td></tr><tr><td>Tool Crib</td><td>Lock Ring</td><td>627</td></tr><tr><td>Tool Crib</td><td>Lock Nut 8</td><td>625</td></tr><tr><td>Tool Crib</td><td>Lock Nut 18</td><td>624</td></tr><tr><td>Tool Crib</td><td>Thin-Jam Lock Nut 8</td><td>624</td></tr><tr><td>Tool Crib</td><td>Chainring</td><td>622</td></tr><tr><td>Tool Crib</td><td>Decal 2</td><td>622</td></tr><tr><td>Tool Crib</td><td>Lock Nut 19</td><td>620</td></tr><tr><td>Tool Crib</td><td>Lock Nut 9</td><td>620</td></tr><tr><td>Tool Crib</td><td>Thin-Jam Lock Nut 7</td><td>620</td></tr><tr><td>Tool Crib</td><td>Thin-Jam Lock Nut 9</td><td>620</td></tr><tr><td>Tool Crib</td><td>Thin-Jam Lock Nut 10</td><td>619</td></tr><tr><td>Tool Crib</td><td>Hex Nut 13</td><td>619</td></tr><tr><td>Tool Crib</td><td>Lock Nut 4</td><td>617</td></tr><tr><td>Tool Crib</td><td>Thin-Jam Lock Nut 1</td><td>617</td></tr><tr><td>Tool Crib</td><td>Thin-Jam Lock Nut 14</td><td>617</td></tr><tr><td>Tool Crib</td><td>Thin-Jam Lock Nut 2</td><td>616</td></tr><tr><td>Tool Crib</td><td>Lock Nut 22</td><td>616</td></tr><tr><td>Tool Crib</td><td>Lock Nut 15</td><td>614</td></tr><tr><td>Tool Crib</td><td>Thin-Jam Lock Nut 15</td><td>614</td></tr><tr><td>Tool Crib</td><td>Thin-Jam Lock Nut 13</td><td>614</td></tr><tr><td>Tool Crib</td><td>Thin-Jam Lock Nut 16</td><td>612</td></tr><tr><td>Tool Crib</td><td>Metal Tread Plate</td><td>612</td></tr><tr><td>Tool Crib</td><td>Lock Nut 14</td><td>611</td></tr><tr><td>Tool Crib</td><td>Lock Nut 23</td><td>611</td></tr><tr><td>Tool Crib</td><td>Thin-Jam Lock Nut 4</td><td>611</td></tr><tr><td>Tool Crib</td><td>Thin-Jam Lock Nut 5</td><td>611</td></tr><tr><td>Tool Crib</td><td>Thin-Jam Lock Nut 6</td><td>609</td></tr><tr><td>Tool Crib</td><td>Thin-Jam Lock Nut 3</td><td>608</td></tr><tr><td>Tool Crib</td><td>Lock Nut 3</td><td>608</td></tr><tr><td>Tool Crib</td><td>Lock Nut 12</td><td>606</td></tr><tr><td>Tool Crib</td><td>Lock Nut 21</td><td>604</td></tr><tr><td>Tool Crib</td><td>Hex Nut 14</td><td>603</td></tr><tr><td>Tool Crib</td><td>External Lock Washer 2</td><td>603</td></tr><tr><td>Tool Crib</td><td>Crown Race</td><td>603</td></tr><tr><td>Tool Crib</td><td>Lock Nut 20</td><td>601</td></tr><tr><td>Tool Crib</td><td>Lock Nut 13</td><td>601</td></tr><tr><td>Tool Crib</td><td>Lock Nut 2</td><td>598</td></tr><tr><td>Tool Crib</td><td>Lock Nut 1</td><td>596</td></tr><tr><td>Tool Crib</td><td>Lock Nut 11</td><td>595</td></tr><tr><td>Tool Crib</td><td>LL Nipple</td><td>593</td></tr><tr><td>Tool Crib</td><td>Lock Nut 10</td><td>592</td></tr><tr><td>Tool Crib</td><td>Hex Nut 23</td><td>587</td></tr><tr><td>Tool Crib</td><td>Hex Nut 6</td><td>585</td></tr><tr><td>Tool Crib</td><td>Chain Stays</td><td>585</td></tr><tr><td>Tool Crib</td><td>BB Ball Bearing</td><td>585</td></tr><tr><td>Tool Crib</td><td>Flat Washer 3</td><td>585</td></tr><tr><td>Tool Crib</td><td>Thin-Jam Hex Nut 7</td><td>585</td></tr><tr><td>Tool Crib</td><td>Internal Lock Washer 6</td><td>572</td></tr><tr><td>Tool Crib</td><td>Decal 1</td><td>569</td></tr><tr><td>Tool Crib</td><td>Chainring Nut</td><td>569</td></tr><tr><td>Tool Crib</td><td>Flat Washer 2</td><td>568</td></tr><tr><td>Tool Crib</td><td>Hex Nut 10</td><td>524</td></tr><tr><td>Tool Crib</td><td>Lock Washer 11</td><td>518</td></tr><tr><td>Tool Crib</td><td>Lock Washer 3</td><td>516</td></tr><tr><td>Tool Crib</td><td>Lock Washer 9</td><td>515</td></tr><tr><td>Tool Crib</td><td>Lock Washer 2</td><td>513</td></tr><tr><td>Tool Crib</td><td>Lock Washer 12</td><td>512</td></tr><tr><td>Tool Crib</td><td>Headset Ball Bearings</td><td>512</td></tr><tr><td>Tool Crib</td><td>Lock Washer 7</td><td>510</td></tr><tr><td>Tool Crib</td><td>Lock Washer 1</td><td>508</td></tr><tr><td>Tool Crib</td><td>Lock Washer 8</td><td>507</td></tr><tr><td>Tool Crib</td><td>Lock Washer 13</td><td>505</td></tr><tr><td>Tool Crib</td><td>Lock Washer 6</td><td>504</td></tr><tr><td>Tool Crib</td><td>Lock Washer 10</td><td>502</td></tr><tr><td>Tool Crib</td><td>Lock Washer 5</td><td>500</td></tr><tr><td>Tool Crib</td><td>Lock Washer 4</td><td>499</td></tr><tr><td>Tool Crib</td><td>Thin-Jam Hex Nut 15</td><td>499</td></tr><tr><td>Tool Crib</td><td>Thin-Jam Hex Nut 1</td><td>499</td></tr><tr><td>Tool Crib</td><td>Chainring Bolts</td><td>481</td></tr><tr><td>Tool Crib</td><td>External Lock Washer 7</td><td>460</td></tr><tr><td>Tool Crib</td><td>Bearing Ball</td><td>427</td></tr><tr><td>Tool Crib</td><td>Internal Lock Washer 9</td><td>427</td></tr><tr><td>Tool Crib</td><td>Internal Lock Washer 5</td><td>422</td></tr><tr><td>Tool Crib</td><td>Internal Lock Washer 7</td><td>417</td></tr><tr><td>Tool Crib</td><td>External Lock Washer 6</td><td>417</td></tr><tr><td>Tool Crib</td><td>External Lock Washer 1</td><td>414</td></tr><tr><td>Tool Crib</td><td>External Lock Washer 8</td><td>411</td></tr><tr><td>Tool Crib</td><td>Thin-Jam Hex Nut 5</td><td>411</td></tr><tr><td>Tool Crib</td><td>Adjustable Race</td><td>408</td></tr><tr><td>Tool Crib</td><td>Cup-Shaped Race</td><td>392</td></tr><tr><td>Tool Crib</td><td>Cone-Shaped Race</td><td>388</td></tr><tr><td>Tool Crib</td><td>Thin-Jam Hex Nut 2</td><td>377</td></tr><tr><td>Tool Crib</td><td>Flat Washer 1</td><td>372</td></tr><tr><td>Tool Crib</td><td>Flat Washer 6</td><td>369</td></tr><tr><td>Tool Crib</td><td>Thin-Jam Hex Nut 4</td><td>369</td></tr><tr><td>Tool Crib</td><td>Thin-Jam Hex Nut 9</td><td>369</td></tr><tr><td>Tool Crib</td><td>Thin-Jam Hex Nut 16</td><td>368</td></tr><tr><td>Tool Crib</td><td>Thin-Jam Hex Nut 13</td><td>363</td></tr><tr><td>Tool Crib</td><td>Thin-Jam Hex Nut 10</td><td>363</td></tr><tr><td>Tool Crib</td><td>Flat Washer 9</td><td>358</td></tr><tr><td>Tool Crib</td><td>Hex Nut 19</td><td>339</td></tr><tr><td>Tool Crib</td><td>Rear Derailleur</td><td>337</td></tr><tr><td>Tool Crib</td><td>Rear Brakes</td><td>337</td></tr><tr><td>Tool Crib</td><td>Pinch Bolt</td><td>336</td></tr><tr><td>Tool Crib</td><td>Flat Washer 7</td><td>328</td></tr><tr><td>Tool Crib</td><td>Flat Washer 5</td><td>323</td></tr><tr><td>Tool Crib</td><td>Hex Nut 7</td><td>323</td></tr><tr><td>Tool Crib</td><td>HL Bottom Bracket</td><td>321</td></tr><tr><td>Tool Crib</td><td>Flat Washer 4</td><td>321</td></tr><tr><td>Tool Crib</td><td>Flat Washer 8</td><td>318</td></tr><tr><td>Tool Crib</td><td>Thin-Jam Hex Nut 6</td><td>318</td></tr><tr><td>Tool Crib</td><td>Reflector</td><td>316</td></tr><tr><td>Tool Crib</td><td>Keyed Washer</td><td>316</td></tr><tr><td>Tool Crib</td><td>HL Road Pedal</td><td>316</td></tr><tr><td>Tool Crib</td><td>External Lock Washer 3</td><td>313</td></tr><tr><td>Tool Crib</td><td>External Lock Washer 4</td><td>310</td></tr><tr><td>Tool Crib</td><td>Lower Head Race</td><td>310</td></tr><tr><td>Tool Crib</td><td>HL Crankarm</td><td>308</td></tr><tr><td>Tool Crib</td><td>External Lock Washer 9</td><td>307</td></tr><tr><td>Tool Crib</td><td>External Lock Washer 5</td><td>304</td></tr><tr><td>Tool Crib</td><td>Hex Nut 15</td><td>302</td></tr><tr><td>Tool Crib</td><td>Hex Nut 12</td><td>299</td></tr><tr><td>Tool Crib</td><td>Hex Nut 3</td><td>299</td></tr><tr><td>Tool Crib</td><td>Internal Lock Washer 3</td><td>299</td></tr><tr><td>Tool Crib</td><td>Hex Nut 21</td><td>296</td></tr><tr><td>Tool Crib</td><td>Hex Nut 20</td><td>292</td></tr><tr><td>Tool Crib</td><td>Hex Nut 11</td><td>292</td></tr><tr><td>Tool Crib</td><td>Hex Nut 5</td><td>291</td></tr><tr><td>Tool Crib</td><td>HL Headset</td><td>291</td></tr><tr><td>Tool Crib</td><td>ML Headset</td><td>288</td></tr><tr><td>Tool Crib</td><td>Thin-Jam Hex Nut 11</td><td>288</td></tr><tr><td>Tool Crib</td><td>Thin-Jam Hex Nut 12</td><td>284</td></tr><tr><td>Tool Crib</td><td>LL Headset</td><td>284</td></tr><tr><td>Tool Crib</td><td>LL Crankarm</td><td>283</td></tr><tr><td>Tool Crib</td><td>Hex Nut 4</td><td>281</td></tr><tr><td>Tool Crib</td><td>Thin-Jam Hex Nut 8</td><td>281</td></tr><tr><td>Tool Crib</td><td>HL Crankset</td><td>278</td></tr><tr><td>Tool Crib</td><td>Guide Pulley</td><td>276</td></tr><tr><td>Tool Crib</td><td>ML Crankset</td><td>272</td></tr><tr><td>Tool Crib</td><td>LL Crankset</td><td>265</td></tr><tr><td>Tool Crib</td><td>LL Grip Tape</td><td>262</td></tr><tr><td>Tool Crib</td><td>HL Nipple</td><td>254</td></tr><tr><td>Tool Crib</td><td>Thin-Jam Hex Nut 14</td><td>252</td></tr><tr><td>Tool Crib</td><td>Hex Nut 16</td><td>249</td></tr><tr><td>Tool Crib</td><td>Internal Lock Washer 10</td><td>248</td></tr><tr><td>Tool Crib</td><td>ML Grip Tape</td><td>248</td></tr><tr><td>Tool Crib</td><td>Internal Lock Washer 1</td><td>246</td></tr><tr><td>Tool Crib</td><td>Internal Lock Washer 8</td><td>244</td></tr><tr><td>Tool Crib</td><td>LL Bottom Bracket</td><td>244</td></tr><tr><td>Tool Crib</td><td>Hex Nut 17</td><td>244</td></tr><tr><td>Tool Crib</td><td>Internal Lock Washer 2</td><td>243</td></tr><tr><td>Tool Crib</td><td>Chain</td><td>236</td></tr><tr><td>Tool Crib</td><td>Touring Pedal</td><td>235</td></tr><tr><td>Tool Crib</td><td>HL Grip Tape</td><td>233</td></tr><tr><td>Tool Crib</td><td>ML Bottom Bracket</td><td>230</td></tr><tr><td>Tool Crib</td><td>LL Mountain Pedal</td><td>174</td></tr><tr><td>Tool Crib</td><td>ML Mountain Pedal</td><td>172</td></tr><tr><td>Tool Crib</td><td>HL Mountain Pedal</td><td>171</td></tr><tr><td>Tool Crib</td><td>Hex Nut 22</td><td>169</td></tr><tr><td>Tool Crib</td><td>LL Road Pedal</td><td>169</td></tr><tr><td>Tool Crib</td><td>ML Road Pedal</td><td>168</td></tr><tr><td>Tool Crib</td><td>Rear Derailleur Cage</td><td>164</td></tr><tr><td>Tool Crib</td><td>Hex Nut 9</td><td>163</td></tr><tr><td>Tool Crib</td><td>Hex Nut 8</td><td>156</td></tr><tr><td>Tool Crib</td><td>Hex Nut 1</td><td>148</td></tr><tr><td>Tool Crib</td><td>ML Crankarm</td><td>136</td></tr></table>"
                    },
                    "metadata": {}
                }
            ],
            "execution_count": 12
        },
        {
            "cell_type": "markdown",
            "source": [
                "### **Query 13**\n",
                "\n",
                "**Proposition:** Write a <span style=\"color: var(--vscode-foreground);\">query to display the list price history of products, showing any changes in pricing over time for each product.</span>\n",
                "\n",
                "**Tables:**\n",
                "\n",
                "- Production.Product\n",
                "- Production.ProductListPriceHistory\n",
                "\n",
                "**Columns:**\n",
                "\n",
                "- ProductName \n",
                "- StartDate \n",
                "- EndDate  \n",
                "- ListPrice \n",
                "\n",
                "**Predicate:**\n",
                "\n",
                "- The query joins the Product table with ProductListPriceHistory to associate products with their price histories\n",
                "- Results are ordered by product name and start date in descending order, which shows the most recent price changes first"
            ],
            "metadata": {
                "azdata_cell_guid": "4f20e357-4df0-4224-b30d-b4960551638f"
            },
            "attachments": {}
        },
        {
            "cell_type": "code",
            "source": [
                "USE AdventureWorks2017;\r\n",
                "SELECT\r\n",
                "    P.Name AS ProductName,\r\n",
                "    PLPH.StartDate,\r\n",
                "    PLPH.EndDate,\r\n",
                "    PLPH.ListPrice\r\n",
                "FROM\r\n",
                "    Production.Product P\r\n",
                "    INNER JOIN Production.ProductListPriceHistory PLPH ON P.ProductID = PLPH.ProductID\r\n",
                "ORDER BY\r\n",
                "    P.Name,\r\n",
                "    PLPH.StartDate DESC;\r\n",
                ""
            ],
            "metadata": {
                "azdata_cell_guid": "349d2b5b-a339-4ed6-af8c-825234d31311",
                "language": "sql"
            },
            "outputs": [
                {
                    "output_type": "display_data",
                    "data": {
                        "text/html": "(395 rows affected)"
                    },
                    "metadata": {}
                },
                {
                    "output_type": "display_data",
                    "data": {
                        "text/html": "Total execution time: 00:00:00.029"
                    },
                    "metadata": {}
                },
                {
                    "output_type": "execute_result",
                    "execution_count": 13,
                    "data": {
                        "application/vnd.dataresource+json": {
                            "schema": {
                                "fields": [
                                    {
                                        "name": "ProductName"
                                    },
                                    {
                                        "name": "StartDate"
                                    },
                                    {
                                        "name": "EndDate"
                                    },
                                    {
                                        "name": "ListPrice"
                                    }
                                ]
                            },
                            "data": [
                                {
                                    "ProductName": "All-Purpose Bike Stand",
                                    "StartDate": "2013-05-30 00:00:00.000",
                                    "EndDate": "NULL",
                                    "ListPrice": "159.00"
                                },
                                {
                                    "ProductName": "AWC Logo Cap",
                                    "StartDate": "2013-05-30 00:00:00.000",
                                    "EndDate": "NULL",
                                    "ListPrice": "8.99"
                                },
                                {
                                    "ProductName": "AWC Logo Cap",
                                    "StartDate": "2012-05-30 00:00:00.000",
                                    "EndDate": "2013-05-29 00:00:00.000",
                                    "ListPrice": "8.6442"
                                },
                                {
                                    "ProductName": "AWC Logo Cap",
                                    "StartDate": "2011-05-31 00:00:00.000",
                                    "EndDate": "2012-05-29 00:00:00.000",
                                    "ListPrice": "8.6442"
                                },
                                {
                                    "ProductName": "Bike Wash - Dissolver",
                                    "StartDate": "2013-05-30 00:00:00.000",
                                    "EndDate": "NULL",
                                    "ListPrice": "7.95"
                                },
                                {
                                    "ProductName": "Cable Lock",
                                    "StartDate": "2012-05-30 00:00:00.000",
                                    "EndDate": "2013-05-29 00:00:00.000",
                                    "ListPrice": "25.00"
                                },
                                {
                                    "ProductName": "Chain",
                                    "StartDate": "2013-05-30 00:00:00.000",
                                    "EndDate": "NULL",
                                    "ListPrice": "20.24"
                                },
                                {
                                    "ProductName": "Classic Vest, L",
                                    "StartDate": "2013-05-30 00:00:00.000",
                                    "EndDate": "NULL",
                                    "ListPrice": "63.50"
                                },
                                {
                                    "ProductName": "Classic Vest, M",
                                    "StartDate": "2013-05-30 00:00:00.000",
                                    "EndDate": "NULL",
                                    "ListPrice": "63.50"
                                },
                                {
                                    "ProductName": "Classic Vest, S",
                                    "StartDate": "2013-05-30 00:00:00.000",
                                    "EndDate": "NULL",
                                    "ListPrice": "63.50"
                                },
                                {
                                    "ProductName": "Fender Set - Mountain",
                                    "StartDate": "2013-05-30 00:00:00.000",
                                    "EndDate": "NULL",
                                    "ListPrice": "21.98"
                                },
                                {
                                    "ProductName": "Front Brakes",
                                    "StartDate": "2013-05-30 00:00:00.000",
                                    "EndDate": "NULL",
                                    "ListPrice": "106.50"
                                },
                                {
                                    "ProductName": "Front Derailleur",
                                    "StartDate": "2013-05-30 00:00:00.000",
                                    "EndDate": "NULL",
                                    "ListPrice": "91.49"
                                },
                                {
                                    "ProductName": "Full-Finger Gloves, L",
                                    "StartDate": "2012-05-30 00:00:00.000",
                                    "EndDate": "2013-05-29 00:00:00.000",
                                    "ListPrice": "37.99"
                                },
                                {
                                    "ProductName": "Full-Finger Gloves, M",
                                    "StartDate": "2012-05-30 00:00:00.000",
                                    "EndDate": "2013-05-29 00:00:00.000",
                                    "ListPrice": "37.99"
                                },
                                {
                                    "ProductName": "Full-Finger Gloves, S",
                                    "StartDate": "2012-05-30 00:00:00.000",
                                    "EndDate": "2013-05-29 00:00:00.000",
                                    "ListPrice": "37.99"
                                },
                                {
                                    "ProductName": "Half-Finger Gloves, L",
                                    "StartDate": "2013-05-30 00:00:00.000",
                                    "EndDate": "NULL",
                                    "ListPrice": "24.49"
                                },
                                {
                                    "ProductName": "Half-Finger Gloves, L",
                                    "StartDate": "2012-05-30 00:00:00.000",
                                    "EndDate": "2013-05-29 00:00:00.000",
                                    "ListPrice": "23.5481"
                                },
                                {
                                    "ProductName": "Half-Finger Gloves, M",
                                    "StartDate": "2013-05-30 00:00:00.000",
                                    "EndDate": "NULL",
                                    "ListPrice": "24.49"
                                },
                                {
                                    "ProductName": "Half-Finger Gloves, M",
                                    "StartDate": "2012-05-30 00:00:00.000",
                                    "EndDate": "2013-05-29 00:00:00.000",
                                    "ListPrice": "23.5481"
                                },
                                {
                                    "ProductName": "Half-Finger Gloves, S",
                                    "StartDate": "2013-05-30 00:00:00.000",
                                    "EndDate": "NULL",
                                    "ListPrice": "24.49"
                                },
                                {
                                    "ProductName": "Half-Finger Gloves, S",
                                    "StartDate": "2012-05-30 00:00:00.000",
                                    "EndDate": "2013-05-29 00:00:00.000",
                                    "ListPrice": "23.5481"
                                },
                                {
                                    "ProductName": "Headlights - Dual-Beam",
                                    "StartDate": "2012-05-30 00:00:00.000",
                                    "EndDate": "2013-05-29 00:00:00.000",
                                    "ListPrice": "34.99"
                                },
                                {
                                    "ProductName": "Headlights - Weatherproof",
                                    "StartDate": "2012-05-30 00:00:00.000",
                                    "EndDate": "2013-05-29 00:00:00.000",
                                    "ListPrice": "44.99"
                                },
                                {
                                    "ProductName": "Hitch Rack - 4-Bike",
                                    "StartDate": "2013-05-30 00:00:00.000",
                                    "EndDate": "NULL",
                                    "ListPrice": "120.00"
                                },
                                {
                                    "ProductName": "HL Bottom Bracket",
                                    "StartDate": "2013-05-30 00:00:00.000",
                                    "EndDate": "NULL",
                                    "ListPrice": "121.49"
                                },
                                {
                                    "ProductName": "HL Crankset",
                                    "StartDate": "2013-05-30 00:00:00.000",
                                    "EndDate": "NULL",
                                    "ListPrice": "404.99"
                                },
                                {
                                    "ProductName": "HL Fork",
                                    "StartDate": "2012-05-30 00:00:00.000",
                                    "EndDate": "2013-05-29 00:00:00.000",
                                    "ListPrice": "229.49"
                                },
                                {
                                    "ProductName": "HL Headset",
                                    "StartDate": "2012-05-30 00:00:00.000",
                                    "EndDate": "2013-05-29 00:00:00.000",
                                    "ListPrice": "124.73"
                                },
                                {
                                    "ProductName": "HL Mountain Frame - Black, 38",
                                    "StartDate": "2013-05-30 00:00:00.000",
                                    "EndDate": "NULL",
                                    "ListPrice": "1349.60"
                                },
                                {
                                    "ProductName": "HL Mountain Frame - Black, 38",
                                    "StartDate": "2012-05-30 00:00:00.000",
                                    "EndDate": "2013-05-29 00:00:00.000",
                                    "ListPrice": "1226.9091"
                                },
                                {
                                    "ProductName": "HL Mountain Frame - Black, 38",
                                    "StartDate": "2011-05-31 00:00:00.000",
                                    "EndDate": "2012-05-29 00:00:00.000",
                                    "ListPrice": "1191.1739"
                                },
                                {
                                    "ProductName": "HL Mountain Frame - Black, 42",
                                    "StartDate": "2013-05-30 00:00:00.000",
                                    "EndDate": "NULL",
                                    "ListPrice": "1349.60"
                                },
                                {
                                    "ProductName": "HL Mountain Frame - Black, 42",
                                    "StartDate": "2012-05-30 00:00:00.000",
                                    "EndDate": "2013-05-29 00:00:00.000",
                                    "ListPrice": "1226.9091"
                                },
                                {
                                    "ProductName": "HL Mountain Frame - Black, 42",
                                    "StartDate": "2011-05-31 00:00:00.000",
                                    "EndDate": "2012-05-29 00:00:00.000",
                                    "ListPrice": "1191.1739"
                                },
                                {
                                    "ProductName": "HL Mountain Frame - Black, 44",
                                    "StartDate": "2011-05-31 00:00:00.000",
                                    "EndDate": "2012-05-29 00:00:00.000",
                                    "ListPrice": "1349.60"
                                },
                                {
                                    "ProductName": "HL Mountain Frame - Black, 46",
                                    "StartDate": "2013-05-30 00:00:00.000",
                                    "EndDate": "NULL",
                                    "ListPrice": "1349.60"
                                },
                                {
                                    "ProductName": "HL Mountain Frame - Black, 46",
                                    "StartDate": "2012-05-30 00:00:00.000",
                                    "EndDate": "2013-05-29 00:00:00.000",
                                    "ListPrice": "1226.9091"
                                },
                                {
                                    "ProductName": "HL Mountain Frame - Black, 46",
                                    "StartDate": "2011-05-31 00:00:00.000",
                                    "EndDate": "2012-05-29 00:00:00.000",
                                    "ListPrice": "1191.1739"
                                },
                                {
                                    "ProductName": "HL Mountain Frame - Black, 48",
                                    "StartDate": "2011-05-31 00:00:00.000",
                                    "EndDate": "2012-05-29 00:00:00.000",
                                    "ListPrice": "1349.60"
                                },
                                {
                                    "ProductName": "HL Mountain Frame - Silver, 38",
                                    "StartDate": "2013-05-30 00:00:00.000",
                                    "EndDate": "NULL",
                                    "ListPrice": "1364.50"
                                },
                                {
                                    "ProductName": "HL Mountain Frame - Silver, 38",
                                    "StartDate": "2012-05-30 00:00:00.000",
                                    "EndDate": "2013-05-29 00:00:00.000",
                                    "ListPrice": "1240.4545"
                                },
                                {
                                    "ProductName": "HL Mountain Frame - Silver, 38",
                                    "StartDate": "2011-05-31 00:00:00.000",
                                    "EndDate": "2012-05-29 00:00:00.000",
                                    "ListPrice": "1204.3248"
                                },
                                {
                                    "ProductName": "HL Mountain Frame - Silver, 42",
                                    "StartDate": "2013-05-30 00:00:00.000",
                                    "EndDate": "NULL",
                                    "ListPrice": "1364.50"
                                },
                                {
                                    "ProductName": "HL Mountain Frame - Silver, 42",
                                    "StartDate": "2012-05-30 00:00:00.000",
                                    "EndDate": "2013-05-29 00:00:00.000",
                                    "ListPrice": "1240.4545"
                                },
                                {
                                    "ProductName": "HL Mountain Frame - Silver, 42",
                                    "StartDate": "2011-05-31 00:00:00.000",
                                    "EndDate": "2012-05-29 00:00:00.000",
                                    "ListPrice": "1204.3248"
                                },
                                {
                                    "ProductName": "HL Mountain Frame - Silver, 44",
                                    "StartDate": "2011-05-31 00:00:00.000",
                                    "EndDate": "2012-05-29 00:00:00.000",
                                    "ListPrice": "1364.50"
                                },
                                {
                                    "ProductName": "HL Mountain Frame - Silver, 46",
                                    "StartDate": "2013-05-30 00:00:00.000",
                                    "EndDate": "NULL",
                                    "ListPrice": "1364.50"
                                },
                                {
                                    "ProductName": "HL Mountain Frame - Silver, 46",
                                    "StartDate": "2012-05-30 00:00:00.000",
                                    "EndDate": "2013-05-29 00:00:00.000",
                                    "ListPrice": "1240.4545"
                                },
                                {
                                    "ProductName": "HL Mountain Frame - Silver, 46",
                                    "StartDate": "2011-05-31 00:00:00.000",
                                    "EndDate": "2012-05-29 00:00:00.000",
                                    "ListPrice": "1204.3248"
                                },
                                {
                                    "ProductName": "HL Mountain Frame - Silver, 48",
                                    "StartDate": "2011-05-31 00:00:00.000",
                                    "EndDate": "2012-05-29 00:00:00.000",
                                    "ListPrice": "1364.50"
                                },
                                {
                                    "ProductName": "HL Mountain Front Wheel",
                                    "StartDate": "2012-05-30 00:00:00.000",
                                    "EndDate": "2013-05-29 00:00:00.000",
                                    "ListPrice": "300.215"
                                },
                                {
                                    "ProductName": "HL Mountain Handlebars",
                                    "StartDate": "2013-05-30 00:00:00.000",
                                    "EndDate": "NULL",
                                    "ListPrice": "120.27"
                                },
                                {
                                    "ProductName": "HL Mountain Handlebars",
                                    "StartDate": "2012-05-30 00:00:00.000",
                                    "EndDate": "2013-05-29 00:00:00.000",
                                    "ListPrice": "109.3364"
                                },
                                {
                                    "ProductName": "HL Mountain Pedal",
                                    "StartDate": "2013-05-30 00:00:00.000",
                                    "EndDate": "NULL",
                                    "ListPrice": "80.99"
                                },
                                {
                                    "ProductName": "HL Mountain Rear Wheel",
                                    "StartDate": "2012-05-30 00:00:00.000",
                                    "EndDate": "2013-05-29 00:00:00.000",
                                    "ListPrice": "327.215"
                                },
                                {
                                    "ProductName": "HL Mountain Seat/Saddle",
                                    "StartDate": "2013-05-30 00:00:00.000",
                                    "EndDate": "NULL",
                                    "ListPrice": "52.64"
                                },
                                {
                                    "ProductName": "HL Mountain Tire",
                                    "StartDate": "2013-05-30 00:00:00.000",
                                    "EndDate": "NULL",
                                    "ListPrice": "35.00"
                                },
                                {
                                    "ProductName": "HL Road Frame - Black, 44",
                                    "StartDate": "2013-05-30 00:00:00.000",
                                    "EndDate": "NULL",
                                    "ListPrice": "1431.50"
                                },
                                {
                                    "ProductName": "HL Road Frame - Black, 44",
                                    "StartDate": "2012-05-30 00:00:00.000",
                                    "EndDate": "2013-05-29 00:00:00.000",
                                    "ListPrice": "1301.3636"
                                },
                                {
                                    "ProductName": "HL Road Frame - Black, 48",
                                    "StartDate": "2013-05-30 00:00:00.000",
                                    "EndDate": "NULL",
                                    "ListPrice": "1431.50"
                                },
                                {
                                    "ProductName": "HL Road Frame - Black, 48",
                                    "StartDate": "2012-05-30 00:00:00.000",
                                    "EndDate": "2013-05-29 00:00:00.000",
                                    "ListPrice": "1301.3636"
                                },
                                {
                                    "ProductName": "HL Road Frame - Black, 52",
                                    "StartDate": "2013-05-30 00:00:00.000",
                                    "EndDate": "NULL",
                                    "ListPrice": "1431.50"
                                },
                                {
                                    "ProductName": "HL Road Frame - Black, 52",
                                    "StartDate": "2012-05-30 00:00:00.000",
                                    "EndDate": "2013-05-29 00:00:00.000",
                                    "ListPrice": "1301.3636"
                                },
                                {
                                    "ProductName": "HL Road Frame - Black, 62",
                                    "StartDate": "2013-05-30 00:00:00.000",
                                    "EndDate": "NULL",
                                    "ListPrice": "1431.50"
                                },
                                {
                                    "ProductName": "HL Road Frame - Black, 62",
                                    "StartDate": "2012-05-30 00:00:00.000",
                                    "EndDate": "2013-05-29 00:00:00.000",
                                    "ListPrice": "1301.3636"
                                },
                                {
                                    "ProductName": "HL Road Frame - Red, 44",
                                    "StartDate": "2013-05-30 00:00:00.000",
                                    "EndDate": "NULL",
                                    "ListPrice": "1431.50"
                                },
                                {
                                    "ProductName": "HL Road Frame - Red, 44",
                                    "StartDate": "2012-05-30 00:00:00.000",
                                    "EndDate": "2013-05-29 00:00:00.000",
                                    "ListPrice": "1301.3636"
                                },
                                {
                                    "ProductName": "HL Road Frame - Red, 44",
                                    "StartDate": "2011-05-31 00:00:00.000",
                                    "EndDate": "2012-05-29 00:00:00.000",
                                    "ListPrice": "1263.4598"
                                },
                                {
                                    "ProductName": "HL Road Frame - Red, 48",
                                    "StartDate": "2013-05-30 00:00:00.000",
                                    "EndDate": "NULL",
                                    "ListPrice": "1431.50"
                                },
                                {
                                    "ProductName": "HL Road Frame - Red, 48",
                                    "StartDate": "2012-05-30 00:00:00.000",
                                    "EndDate": "2013-05-29 00:00:00.000",
                                    "ListPrice": "1301.3636"
                                },
                                {
                                    "ProductName": "HL Road Frame - Red, 48",
                                    "StartDate": "2011-05-31 00:00:00.000",
                                    "EndDate": "2012-05-29 00:00:00.000",
                                    "ListPrice": "1263.4598"
                                },
                                {
                                    "ProductName": "HL Road Frame - Red, 52",
                                    "StartDate": "2013-05-30 00:00:00.000",
                                    "EndDate": "NULL",
                                    "ListPrice": "1431.50"
                                },
                                {
                                    "ProductName": "HL Road Frame - Red, 52",
                                    "StartDate": "2012-05-30 00:00:00.000",
                                    "EndDate": "2013-05-29 00:00:00.000",
                                    "ListPrice": "1301.3636"
                                },
                                {
                                    "ProductName": "HL Road Frame - Red, 52",
                                    "StartDate": "2011-05-31 00:00:00.000",
                                    "EndDate": "2012-05-29 00:00:00.000",
                                    "ListPrice": "1263.4598"
                                },
                                {
                                    "ProductName": "HL Road Frame - Red, 56",
                                    "StartDate": "2013-05-30 00:00:00.000",
                                    "EndDate": "NULL",
                                    "ListPrice": "1431.50"
                                },
                                {
                                    "ProductName": "HL Road Frame - Red, 56",
                                    "StartDate": "2012-05-30 00:00:00.000",
                                    "EndDate": "2013-05-29 00:00:00.000",
                                    "ListPrice": "1301.3636"
                                },
                                {
                                    "ProductName": "HL Road Frame - Red, 56",
                                    "StartDate": "2011-05-31 00:00:00.000",
                                    "EndDate": "2012-05-29 00:00:00.000",
                                    "ListPrice": "1263.4598"
                                },
                                {
                                    "ProductName": "HL Road Frame - Red, 62",
                                    "StartDate": "2013-05-30 00:00:00.000",
                                    "EndDate": "NULL",
                                    "ListPrice": "1431.50"
                                },
                                {
                                    "ProductName": "HL Road Frame - Red, 62",
                                    "StartDate": "2012-05-30 00:00:00.000",
                                    "EndDate": "2013-05-29 00:00:00.000",
                                    "ListPrice": "1301.3636"
                                },
                                {
                                    "ProductName": "HL Road Frame - Red, 62",
                                    "StartDate": "2011-05-31 00:00:00.000",
                                    "EndDate": "2012-05-29 00:00:00.000",
                                    "ListPrice": "1263.4598"
                                },
                                {
                                    "ProductName": "HL Road Front Wheel",
                                    "StartDate": "2012-05-30 00:00:00.000",
                                    "EndDate": "2013-05-29 00:00:00.000",
                                    "ListPrice": "330.06"
                                },
                                {
                                    "ProductName": "HL Road Handlebars",
                                    "StartDate": "2013-05-30 00:00:00.000",
                                    "EndDate": "NULL",
                                    "ListPrice": "120.27"
                                },
                                {
                                    "ProductName": "HL Road Handlebars",
                                    "StartDate": "2012-05-30 00:00:00.000",
                                    "EndDate": "2013-05-29 00:00:00.000",
                                    "ListPrice": "109.3364"
                                },
                                {
                                    "ProductName": "HL Road Pedal",
                                    "StartDate": "2013-05-30 00:00:00.000",
                                    "EndDate": "NULL",
                                    "ListPrice": "80.99"
                                },
                                {
                                    "ProductName": "HL Road Rear Wheel",
                                    "StartDate": "2012-05-30 00:00:00.000",
                                    "EndDate": "2013-05-29 00:00:00.000",
                                    "ListPrice": "357.06"
                                },
                                {
                                    "ProductName": "HL Road Seat/Saddle",
                                    "StartDate": "2013-05-30 00:00:00.000",
                                    "EndDate": "NULL",
                                    "ListPrice": "52.64"
                                },
                                {
                                    "ProductName": "HL Road Tire",
                                    "StartDate": "2013-05-30 00:00:00.000",
                                    "EndDate": "NULL",
                                    "ListPrice": "32.60"
                                },
                                {
                                    "ProductName": "HL Touring Frame - Blue, 46",
                                    "StartDate": "2013-05-30 00:00:00.000",
                                    "EndDate": "NULL",
                                    "ListPrice": "1003.91"
                                },
                                {
                                    "ProductName": "HL Touring Frame - Blue, 50",
                                    "StartDate": "2013-05-30 00:00:00.000",
                                    "EndDate": "NULL",
                                    "ListPrice": "1003.91"
                                },
                                {
                                    "ProductName": "HL Touring Frame - Blue, 54",
                                    "StartDate": "2013-05-30 00:00:00.000",
                                    "EndDate": "NULL",
                                    "ListPrice": "1003.91"
                                },
                                {
                                    "ProductName": "HL Touring Frame - Blue, 60",
                                    "StartDate": "2013-05-30 00:00:00.000",
                                    "EndDate": "NULL",
                                    "ListPrice": "1003.91"
                                },
                                {
                                    "ProductName": "HL Touring Frame - Yellow, 46",
                                    "StartDate": "2013-05-30 00:00:00.000",
                                    "EndDate": "NULL",
                                    "ListPrice": "1003.91"
                                },
                                {
                                    "ProductName": "HL Touring Frame - Yellow, 50",
                                    "StartDate": "2013-05-30 00:00:00.000",
                                    "EndDate": "NULL",
                                    "ListPrice": "1003.91"
                                },
                                {
                                    "ProductName": "HL Touring Frame - Yellow, 54",
                                    "StartDate": "2013-05-30 00:00:00.000",
                                    "EndDate": "NULL",
                                    "ListPrice": "1003.91"
                                },
                                {
                                    "ProductName": "HL Touring Frame - Yellow, 60",
                                    "StartDate": "2013-05-30 00:00:00.000",
                                    "EndDate": "NULL",
                                    "ListPrice": "1003.91"
                                },
                                {
                                    "ProductName": "HL Touring Handlebars",
                                    "StartDate": "2013-05-30 00:00:00.000",
                                    "EndDate": "NULL",
                                    "ListPrice": "91.57"
                                },
                                {
                                    "ProductName": "HL Touring Seat/Saddle",
                                    "StartDate": "2013-05-30 00:00:00.000",
                                    "EndDate": "NULL",
                                    "ListPrice": "52.64"
                                },
                                {
                                    "ProductName": "Hydration Pack - 70 oz.",
                                    "StartDate": "2013-05-30 00:00:00.000",
                                    "EndDate": "NULL",
                                    "ListPrice": "54.99"
                                },
                                {
                                    "ProductName": "LL Bottom Bracket",
                                    "StartDate": "2013-05-30 00:00:00.000",
                                    "EndDate": "NULL",
                                    "ListPrice": "53.99"
                                },
                                {
                                    "ProductName": "LL Crankset",
                                    "StartDate": "2013-05-30 00:00:00.000",
                                    "EndDate": "NULL",
                                    "ListPrice": "175.49"
                                },
                                {
                                    "ProductName": "LL Fork",
                                    "StartDate": "2012-05-30 00:00:00.000",
                                    "EndDate": "2013-05-29 00:00:00.000",
                                    "ListPrice": "148.22"
                                },
                                {
                                    "ProductName": "LL Headset",
                                    "StartDate": "2012-05-30 00:00:00.000",
                                    "EndDate": "2013-05-29 00:00:00.000",
                                    "ListPrice": "34.20"
                                },
                                {
                                    "ProductName": "LL Mountain Frame - Black, 40",
                                    "StartDate": "2013-05-30 00:00:00.000",
                                    "EndDate": "NULL",
                                    "ListPrice": "249.79"
                                },
                                {
                                    "ProductName": "LL Mountain Frame - Black, 42",
                                    "StartDate": "2013-05-30 00:00:00.000",
                                    "EndDate": "NULL",
                                    "ListPrice": "249.79"
                                },
                                {
                                    "ProductName": "LL Mountain Frame - Black, 44",
                                    "StartDate": "2013-05-30 00:00:00.000",
                                    "EndDate": "NULL",
                                    "ListPrice": "249.79"
                                },
                                {
                                    "ProductName": "LL Mountain Frame - Black, 48",
                                    "StartDate": "2013-05-30 00:00:00.000",
                                    "EndDate": "NULL",
                                    "ListPrice": "249.79"
                                },
                                {
                                    "ProductName": "LL Mountain Frame - Black, 52",
                                    "StartDate": "2013-05-30 00:00:00.000",
                                    "EndDate": "NULL",
                                    "ListPrice": "249.79"
                                },
                                {
                                    "ProductName": "LL Mountain Frame - Silver, 40",
                                    "StartDate": "2013-05-30 00:00:00.000",
                                    "EndDate": "NULL",
                                    "ListPrice": "264.05"
                                },
                                {
                                    "ProductName": "LL Mountain Frame - Silver, 42",
                                    "StartDate": "2013-05-30 00:00:00.000",
                                    "EndDate": "NULL",
                                    "ListPrice": "264.05"
                                },
                                {
                                    "ProductName": "LL Mountain Frame - Silver, 44",
                                    "StartDate": "2013-05-30 00:00:00.000",
                                    "EndDate": "NULL",
                                    "ListPrice": "264.05"
                                },
                                {
                                    "ProductName": "LL Mountain Frame - Silver, 48",
                                    "StartDate": "2013-05-30 00:00:00.000",
                                    "EndDate": "NULL",
                                    "ListPrice": "264.05"
                                },
                                {
                                    "ProductName": "LL Mountain Frame - Silver, 52",
                                    "StartDate": "2013-05-30 00:00:00.000",
                                    "EndDate": "NULL",
                                    "ListPrice": "264.05"
                                },
                                {
                                    "ProductName": "LL Mountain Front Wheel",
                                    "StartDate": "2012-05-30 00:00:00.000",
                                    "EndDate": "2013-05-29 00:00:00.000",
                                    "ListPrice": "60.745"
                                },
                                {
                                    "ProductName": "LL Mountain Handlebars",
                                    "StartDate": "2013-05-30 00:00:00.000",
                                    "EndDate": "NULL",
                                    "ListPrice": "44.54"
                                },
                                {
                                    "ProductName": "LL Mountain Handlebars",
                                    "StartDate": "2012-05-30 00:00:00.000",
                                    "EndDate": "2013-05-29 00:00:00.000",
                                    "ListPrice": "40.4909"
                                },
                                {
                                    "ProductName": "LL Mountain Pedal",
                                    "StartDate": "2013-05-30 00:00:00.000",
                                    "EndDate": "NULL",
                                    "ListPrice": "40.49"
                                },
                                {
                                    "ProductName": "LL Mountain Rear Wheel",
                                    "StartDate": "2012-05-30 00:00:00.000",
                                    "EndDate": "2013-05-29 00:00:00.000",
                                    "ListPrice": "87.745"
                                },
                                {
                                    "ProductName": "LL Mountain Seat/Saddle",
                                    "StartDate": "2013-05-30 00:00:00.000",
                                    "EndDate": "NULL",
                                    "ListPrice": "27.12"
                                },
                                {
                                    "ProductName": "LL Mountain Tire",
                                    "StartDate": "2013-05-30 00:00:00.000",
                                    "EndDate": "NULL",
                                    "ListPrice": "24.99"
                                },
                                {
                                    "ProductName": "LL Road Frame - Black, 44",
                                    "StartDate": "2013-05-30 00:00:00.000",
                                    "EndDate": "NULL",
                                    "ListPrice": "337.22"
                                },
                                {
                                    "ProductName": "LL Road Frame - Black, 44",
                                    "StartDate": "2012-05-30 00:00:00.000",
                                    "EndDate": "2013-05-29 00:00:00.000",
                                    "ListPrice": "306.5636"
                                },
                                {
                                    "ProductName": "LL Road Frame - Black, 44",
                                    "StartDate": "2011-05-31 00:00:00.000",
                                    "EndDate": "2012-05-29 00:00:00.000",
                                    "ListPrice": "297.6346"
                                },
                                {
                                    "ProductName": "LL Road Frame - Black, 48",
                                    "StartDate": "2013-05-30 00:00:00.000",
                                    "EndDate": "NULL",
                                    "ListPrice": "337.22"
                                },
                                {
                                    "ProductName": "LL Road Frame - Black, 48",
                                    "StartDate": "2012-05-30 00:00:00.000",
                                    "EndDate": "2013-05-29 00:00:00.000",
                                    "ListPrice": "306.5636"
                                },
                                {
                                    "ProductName": "LL Road Frame - Black, 48",
                                    "StartDate": "2011-05-31 00:00:00.000",
                                    "EndDate": "2012-05-29 00:00:00.000",
                                    "ListPrice": "297.6346"
                                },
                                {
                                    "ProductName": "LL Road Frame - Black, 52",
                                    "StartDate": "2013-05-30 00:00:00.000",
                                    "EndDate": "NULL",
                                    "ListPrice": "337.22"
                                },
                                {
                                    "ProductName": "LL Road Frame - Black, 52",
                                    "StartDate": "2012-05-30 00:00:00.000",
                                    "EndDate": "2013-05-29 00:00:00.000",
                                    "ListPrice": "306.5636"
                                },
                                {
                                    "ProductName": "LL Road Frame - Black, 52",
                                    "StartDate": "2011-05-31 00:00:00.000",
                                    "EndDate": "2012-05-29 00:00:00.000",
                                    "ListPrice": "297.6346"
                                },
                                {
                                    "ProductName": "LL Road Frame - Black, 58",
                                    "StartDate": "2013-05-30 00:00:00.000",
                                    "EndDate": "NULL",
                                    "ListPrice": "337.22"
                                },
                                {
                                    "ProductName": "LL Road Frame - Black, 58",
                                    "StartDate": "2012-05-30 00:00:00.000",
                                    "EndDate": "2013-05-29 00:00:00.000",
                                    "ListPrice": "306.5636"
                                },
                                {
                                    "ProductName": "LL Road Frame - Black, 58",
                                    "StartDate": "2011-05-31 00:00:00.000",
                                    "EndDate": "2012-05-29 00:00:00.000",
                                    "ListPrice": "297.6346"
                                },
                                {
                                    "ProductName": "LL Road Frame - Black, 60",
                                    "StartDate": "2013-05-30 00:00:00.000",
                                    "EndDate": "NULL",
                                    "ListPrice": "337.22"
                                },
                                {
                                    "ProductName": "LL Road Frame - Black, 60",
                                    "StartDate": "2012-05-30 00:00:00.000",
                                    "EndDate": "2013-05-29 00:00:00.000",
                                    "ListPrice": "306.5636"
                                },
                                {
                                    "ProductName": "LL Road Frame - Black, 60",
                                    "StartDate": "2011-05-31 00:00:00.000",
                                    "EndDate": "2012-05-29 00:00:00.000",
                                    "ListPrice": "297.6346"
                                },
                                {
                                    "ProductName": "LL Road Frame - Black, 62",
                                    "StartDate": "2013-05-30 00:00:00.000",
                                    "EndDate": "NULL",
                                    "ListPrice": "337.22"
                                },
                                {
                                    "ProductName": "LL Road Frame - Black, 62",
                                    "StartDate": "2012-05-30 00:00:00.000",
                                    "EndDate": "2013-05-29 00:00:00.000",
                                    "ListPrice": "306.5636"
                                },
                                {
                                    "ProductName": "LL Road Frame - Black, 62",
                                    "StartDate": "2011-05-31 00:00:00.000",
                                    "EndDate": "2012-05-29 00:00:00.000",
                                    "ListPrice": "297.6346"
                                },
                                {
                                    "ProductName": "LL Road Frame - Red, 44",
                                    "StartDate": "2012-05-30 00:00:00.000",
                                    "EndDate": "2013-05-29 00:00:00.000",
                                    "ListPrice": "337.22"
                                },
                                {
                                    "ProductName": "LL Road Frame - Red, 44",
                                    "StartDate": "2011-05-31 00:00:00.000",
                                    "EndDate": "2012-05-29 00:00:00.000",
                                    "ListPrice": "306.5636"
                                },
                                {
                                    "ProductName": "LL Road Frame - Red, 48",
                                    "StartDate": "2012-05-30 00:00:00.000",
                                    "EndDate": "2013-05-29 00:00:00.000",
                                    "ListPrice": "337.22"
                                },
                                {
                                    "ProductName": "LL Road Frame - Red, 48",
                                    "StartDate": "2011-05-31 00:00:00.000",
                                    "EndDate": "2012-05-29 00:00:00.000",
                                    "ListPrice": "306.5636"
                                },
                                {
                                    "ProductName": "LL Road Frame - Red, 52",
                                    "StartDate": "2012-05-30 00:00:00.000",
                                    "EndDate": "2013-05-29 00:00:00.000",
                                    "ListPrice": "337.22"
                                },
                                {
                                    "ProductName": "LL Road Frame - Red, 52",
                                    "StartDate": "2011-05-31 00:00:00.000",
                                    "EndDate": "2012-05-29 00:00:00.000",
                                    "ListPrice": "306.5636"
                                },
                                {
                                    "ProductName": "LL Road Frame - Red, 58",
                                    "StartDate": "2012-05-30 00:00:00.000",
                                    "EndDate": "2013-05-29 00:00:00.000",
                                    "ListPrice": "337.22"
                                },
                                {
                                    "ProductName": "LL Road Frame - Red, 58",
                                    "StartDate": "2011-05-31 00:00:00.000",
                                    "EndDate": "2012-05-29 00:00:00.000",
                                    "ListPrice": "306.5636"
                                },
                                {
                                    "ProductName": "LL Road Frame - Red, 60",
                                    "StartDate": "2012-05-30 00:00:00.000",
                                    "EndDate": "2013-05-29 00:00:00.000",
                                    "ListPrice": "337.22"
                                },
                                {
                                    "ProductName": "LL Road Frame - Red, 60",
                                    "StartDate": "2011-05-31 00:00:00.000",
                                    "EndDate": "2012-05-29 00:00:00.000",
                                    "ListPrice": "306.5636"
                                },
                                {
                                    "ProductName": "LL Road Frame - Red, 62",
                                    "StartDate": "2012-05-30 00:00:00.000",
                                    "EndDate": "2013-05-29 00:00:00.000",
                                    "ListPrice": "337.22"
                                },
                                {
                                    "ProductName": "LL Road Frame - Red, 62",
                                    "StartDate": "2011-05-31 00:00:00.000",
                                    "EndDate": "2012-05-29 00:00:00.000",
                                    "ListPrice": "306.5636"
                                },
                                {
                                    "ProductName": "LL Road Front Wheel",
                                    "StartDate": "2012-05-30 00:00:00.000",
                                    "EndDate": "2013-05-29 00:00:00.000",
                                    "ListPrice": "85.565"
                                },
                                {
                                    "ProductName": "LL Road Handlebars",
                                    "StartDate": "2013-05-30 00:00:00.000",
                                    "EndDate": "NULL",
                                    "ListPrice": "44.54"
                                },
                                {
                                    "ProductName": "LL Road Handlebars",
                                    "StartDate": "2012-05-30 00:00:00.000",
                                    "EndDate": "2013-05-29 00:00:00.000",
                                    "ListPrice": "40.4909"
                                },
                                {
                                    "ProductName": "LL Road Pedal",
                                    "StartDate": "2013-05-30 00:00:00.000",
                                    "EndDate": "NULL",
                                    "ListPrice": "40.49"
                                },
                                {
                                    "ProductName": "LL Road Rear Wheel",
                                    "StartDate": "2012-05-30 00:00:00.000",
                                    "EndDate": "2013-05-29 00:00:00.000",
                                    "ListPrice": "112.565"
                                },
                                {
                                    "ProductName": "LL Road Seat/Saddle",
                                    "StartDate": "2013-05-30 00:00:00.000",
                                    "EndDate": "NULL",
                                    "ListPrice": "27.12"
                                },
                                {
                                    "ProductName": "LL Road Tire",
                                    "StartDate": "2013-05-30 00:00:00.000",
                                    "EndDate": "NULL",
                                    "ListPrice": "21.49"
                                },
                                {
                                    "ProductName": "LL Touring Frame - Blue, 44",
                                    "StartDate": "2013-05-30 00:00:00.000",
                                    "EndDate": "NULL",
                                    "ListPrice": "333.42"
                                },
                                {
                                    "ProductName": "LL Touring Frame - Blue, 50",
                                    "StartDate": "2013-05-30 00:00:00.000",
                                    "EndDate": "NULL",
                                    "ListPrice": "333.42"
                                },
                                {
                                    "ProductName": "LL Touring Frame - Blue, 54",
                                    "StartDate": "2013-05-30 00:00:00.000",
                                    "EndDate": "NULL",
                                    "ListPrice": "333.42"
                                },
                                {
                                    "ProductName": "LL Touring Frame - Blue, 58",
                                    "StartDate": "2013-05-30 00:00:00.000",
                                    "EndDate": "NULL",
                                    "ListPrice": "333.42"
                                },
                                {
                                    "ProductName": "LL Touring Frame - Blue, 62",
                                    "StartDate": "2013-05-30 00:00:00.000",
                                    "EndDate": "NULL",
                                    "ListPrice": "333.42"
                                },
                                {
                                    "ProductName": "LL Touring Frame - Yellow, 44",
                                    "StartDate": "2013-05-30 00:00:00.000",
                                    "EndDate": "NULL",
                                    "ListPrice": "333.42"
                                },
                                {
                                    "ProductName": "LL Touring Frame - Yellow, 50",
                                    "StartDate": "2013-05-30 00:00:00.000",
                                    "EndDate": "NULL",
                                    "ListPrice": "333.42"
                                },
                                {
                                    "ProductName": "LL Touring Frame - Yellow, 54",
                                    "StartDate": "2013-05-30 00:00:00.000",
                                    "EndDate": "NULL",
                                    "ListPrice": "333.42"
                                },
                                {
                                    "ProductName": "LL Touring Frame - Yellow, 58",
                                    "StartDate": "2013-05-30 00:00:00.000",
                                    "EndDate": "NULL",
                                    "ListPrice": "333.42"
                                },
                                {
                                    "ProductName": "LL Touring Frame - Yellow, 62",
                                    "StartDate": "2013-05-30 00:00:00.000",
                                    "EndDate": "NULL",
                                    "ListPrice": "333.42"
                                },
                                {
                                    "ProductName": "LL Touring Handlebars",
                                    "StartDate": "2013-05-30 00:00:00.000",
                                    "EndDate": "NULL",
                                    "ListPrice": "46.09"
                                },
                                {
                                    "ProductName": "LL Touring Seat/Saddle",
                                    "StartDate": "2013-05-30 00:00:00.000",
                                    "EndDate": "NULL",
                                    "ListPrice": "27.12"
                                },
                                {
                                    "ProductName": "Long-Sleeve Logo Jersey, L",
                                    "StartDate": "2013-05-30 00:00:00.000",
                                    "EndDate": "NULL",
                                    "ListPrice": "49.99"
                                },
                                {
                                    "ProductName": "Long-Sleeve Logo Jersey, L",
                                    "StartDate": "2012-05-30 00:00:00.000",
                                    "EndDate": "2013-05-29 00:00:00.000",
                                    "ListPrice": "48.0673"
                                },
                                {
                                    "ProductName": "Long-Sleeve Logo Jersey, L",
                                    "StartDate": "2011-05-31 00:00:00.000",
                                    "EndDate": "2012-05-29 00:00:00.000",
                                    "ListPrice": "48.0673"
                                },
                                {
                                    "ProductName": "Long-Sleeve Logo Jersey, M",
                                    "StartDate": "2013-05-30 00:00:00.000",
                                    "EndDate": "NULL",
                                    "ListPrice": "49.99"
                                },
                                {
                                    "ProductName": "Long-Sleeve Logo Jersey, M",
                                    "StartDate": "2012-05-30 00:00:00.000",
                                    "EndDate": "2013-05-29 00:00:00.000",
                                    "ListPrice": "48.0673"
                                },
                                {
                                    "ProductName": "Long-Sleeve Logo Jersey, M",
                                    "StartDate": "2011-05-31 00:00:00.000",
                                    "EndDate": "2012-05-29 00:00:00.000",
                                    "ListPrice": "48.0673"
                                },
                                {
                                    "ProductName": "Long-Sleeve Logo Jersey, S",
                                    "StartDate": "2013-05-30 00:00:00.000",
                                    "EndDate": "NULL",
                                    "ListPrice": "49.99"
                                },
                                {
                                    "ProductName": "Long-Sleeve Logo Jersey, S",
                                    "StartDate": "2012-05-30 00:00:00.000",
                                    "EndDate": "2013-05-29 00:00:00.000",
                                    "ListPrice": "48.0673"
                                },
                                {
                                    "ProductName": "Long-Sleeve Logo Jersey, S",
                                    "StartDate": "2011-05-31 00:00:00.000",
                                    "EndDate": "2012-05-29 00:00:00.000",
                                    "ListPrice": "48.0673"
                                },
                                {
                                    "ProductName": "Long-Sleeve Logo Jersey, XL",
                                    "StartDate": "2013-05-30 00:00:00.000",
                                    "EndDate": "NULL",
                                    "ListPrice": "49.99"
                                },
                                {
                                    "ProductName": "Long-Sleeve Logo Jersey, XL",
                                    "StartDate": "2012-05-30 00:00:00.000",
                                    "EndDate": "2013-05-29 00:00:00.000",
                                    "ListPrice": "48.0673"
                                },
                                {
                                    "ProductName": "Long-Sleeve Logo Jersey, XL",
                                    "StartDate": "2011-05-31 00:00:00.000",
                                    "EndDate": "2012-05-29 00:00:00.000",
                                    "ListPrice": "48.0673"
                                },
                                {
                                    "ProductName": "Men's Bib-Shorts, L",
                                    "StartDate": "2012-05-30 00:00:00.000",
                                    "EndDate": "2013-05-29 00:00:00.000",
                                    "ListPrice": "89.99"
                                },
                                {
                                    "ProductName": "Men's Bib-Shorts, M",
                                    "StartDate": "2012-05-30 00:00:00.000",
                                    "EndDate": "2013-05-29 00:00:00.000",
                                    "ListPrice": "89.99"
                                },
                                {
                                    "ProductName": "Men's Bib-Shorts, S",
                                    "StartDate": "2012-05-30 00:00:00.000",
                                    "EndDate": "2013-05-29 00:00:00.000",
                                    "ListPrice": "89.99"
                                },
                                {
                                    "ProductName": "Men's Sports Shorts, L",
                                    "StartDate": "2012-05-30 00:00:00.000",
                                    "EndDate": "2013-05-29 00:00:00.000",
                                    "ListPrice": "59.99"
                                },
                                {
                                    "ProductName": "Men's Sports Shorts, M",
                                    "StartDate": "2012-05-30 00:00:00.000",
                                    "EndDate": "2013-05-29 00:00:00.000",
                                    "ListPrice": "59.99"
                                },
                                {
                                    "ProductName": "Men's Sports Shorts, S",
                                    "StartDate": "2012-05-30 00:00:00.000",
                                    "EndDate": "2013-05-29 00:00:00.000",
                                    "ListPrice": "59.99"
                                },
                                {
                                    "ProductName": "Men's Sports Shorts, XL",
                                    "StartDate": "2012-05-30 00:00:00.000",
                                    "EndDate": "2013-05-29 00:00:00.000",
                                    "ListPrice": "59.99"
                                },
                                {
                                    "ProductName": "Minipump",
                                    "StartDate": "2012-05-30 00:00:00.000",
                                    "EndDate": "2013-05-29 00:00:00.000",
                                    "ListPrice": "19.99"
                                },
                                {
                                    "ProductName": "ML Bottom Bracket",
                                    "StartDate": "2013-05-30 00:00:00.000",
                                    "EndDate": "NULL",
                                    "ListPrice": "101.24"
                                },
                                {
                                    "ProductName": "ML Crankset",
                                    "StartDate": "2013-05-30 00:00:00.000",
                                    "EndDate": "NULL",
                                    "ListPrice": "256.49"
                                },
                                {
                                    "ProductName": "ML Fork",
                                    "StartDate": "2012-05-30 00:00:00.000",
                                    "EndDate": "2013-05-29 00:00:00.000",
                                    "ListPrice": "175.49"
                                },
                                {
                                    "ProductName": "ML Headset",
                                    "StartDate": "2012-05-30 00:00:00.000",
                                    "EndDate": "2013-05-29 00:00:00.000",
                                    "ListPrice": "102.29"
                                },
                                {
                                    "ProductName": "ML Mountain Frame - Black, 38",
                                    "StartDate": "2012-05-30 00:00:00.000",
                                    "EndDate": "2013-05-29 00:00:00.000",
                                    "ListPrice": "348.76"
                                },
                                {
                                    "ProductName": "ML Mountain Frame - Black, 40",
                                    "StartDate": "2012-05-30 00:00:00.000",
                                    "EndDate": "2013-05-29 00:00:00.000",
                                    "ListPrice": "348.76"
                                },
                                {
                                    "ProductName": "ML Mountain Frame - Black, 44",
                                    "StartDate": "2012-05-30 00:00:00.000",
                                    "EndDate": "2013-05-29 00:00:00.000",
                                    "ListPrice": "348.76"
                                },
                                {
                                    "ProductName": "ML Mountain Frame - Black, 48",
                                    "StartDate": "2012-05-30 00:00:00.000",
                                    "EndDate": "2013-05-29 00:00:00.000",
                                    "ListPrice": "348.76"
                                },
                                {
                                    "ProductName": "ML Mountain Frame-W - Silver, 38",
                                    "StartDate": "2013-05-30 00:00:00.000",
                                    "EndDate": "NULL",
                                    "ListPrice": "364.09"
                                },
                                {
                                    "ProductName": "ML Mountain Frame-W - Silver, 40",
                                    "StartDate": "2013-05-30 00:00:00.000",
                                    "EndDate": "NULL",
                                    "ListPrice": "364.09"
                                },
                                {
                                    "ProductName": "ML Mountain Frame-W - Silver, 42",
                                    "StartDate": "2013-05-30 00:00:00.000",
                                    "EndDate": "NULL",
                                    "ListPrice": "364.09"
                                },
                                {
                                    "ProductName": "ML Mountain Frame-W - Silver, 46",
                                    "StartDate": "2013-05-30 00:00:00.000",
                                    "EndDate": "NULL",
                                    "ListPrice": "364.09"
                                },
                                {
                                    "ProductName": "ML Mountain Front Wheel",
                                    "StartDate": "2012-05-30 00:00:00.000",
                                    "EndDate": "2013-05-29 00:00:00.000",
                                    "ListPrice": "209.025"
                                },
                                {
                                    "ProductName": "ML Mountain Handlebars",
                                    "StartDate": "2013-05-30 00:00:00.000",
                                    "EndDate": "NULL",
                                    "ListPrice": "61.92"
                                },
                                {
                                    "ProductName": "ML Mountain Handlebars",
                                    "StartDate": "2012-05-30 00:00:00.000",
                                    "EndDate": "2013-05-29 00:00:00.000",
                                    "ListPrice": "56.2909"
                                },
                                {
                                    "ProductName": "ML Mountain Pedal",
                                    "StartDate": "2013-05-30 00:00:00.000",
                                    "EndDate": "NULL",
                                    "ListPrice": "62.09"
                                },
                                {
                                    "ProductName": "ML Mountain Rear Wheel",
                                    "StartDate": "2012-05-30 00:00:00.000",
                                    "EndDate": "2013-05-29 00:00:00.000",
                                    "ListPrice": "236.025"
                                },
                                {
                                    "ProductName": "ML Mountain Seat/Saddle",
                                    "StartDate": "2013-05-30 00:00:00.000",
                                    "EndDate": "NULL",
                                    "ListPrice": "39.14"
                                },
                                {
                                    "ProductName": "ML Mountain Tire",
                                    "StartDate": "2013-05-30 00:00:00.000",
                                    "EndDate": "NULL",
                                    "ListPrice": "29.99"
                                },
                                {
                                    "ProductName": "ML Road Frame - Red, 44",
                                    "StartDate": "2011-05-31 00:00:00.000",
                                    "EndDate": "2012-05-29 00:00:00.000",
                                    "ListPrice": "594.83"
                                },
                                {
                                    "ProductName": "ML Road Frame - Red, 48",
                                    "StartDate": "2011-05-31 00:00:00.000",
                                    "EndDate": "2012-05-29 00:00:00.000",
                                    "ListPrice": "594.83"
                                },
                                {
                                    "ProductName": "ML Road Frame - Red, 52",
                                    "StartDate": "2011-05-31 00:00:00.000",
                                    "EndDate": "2012-05-29 00:00:00.000",
                                    "ListPrice": "594.83"
                                },
                                {
                                    "ProductName": "ML Road Frame - Red, 58",
                                    "StartDate": "2011-05-31 00:00:00.000",
                                    "EndDate": "2012-05-29 00:00:00.000",
                                    "ListPrice": "594.83"
                                },
                                {
                                    "ProductName": "ML Road Frame - Red, 60",
                                    "StartDate": "2011-05-31 00:00:00.000",
                                    "EndDate": "2012-05-29 00:00:00.000",
                                    "ListPrice": "594.83"
                                },
                                {
                                    "ProductName": "ML Road Frame-W - Yellow, 38",
                                    "StartDate": "2013-05-30 00:00:00.000",
                                    "EndDate": "NULL",
                                    "ListPrice": "594.83"
                                },
                                {
                                    "ProductName": "ML Road Frame-W - Yellow, 38",
                                    "StartDate": "2012-05-30 00:00:00.000",
                                    "EndDate": "2013-05-29 00:00:00.000",
                                    "ListPrice": "540.7545"
                                },
                                {
                                    "ProductName": "ML Road Frame-W - Yellow, 40",
                                    "StartDate": "2013-05-30 00:00:00.000",
                                    "EndDate": "NULL",
                                    "ListPrice": "594.83"
                                },
                                {
                                    "ProductName": "ML Road Frame-W - Yellow, 40",
                                    "StartDate": "2012-05-30 00:00:00.000",
                                    "EndDate": "2013-05-29 00:00:00.000",
                                    "ListPrice": "540.7545"
                                },
                                {
                                    "ProductName": "ML Road Frame-W - Yellow, 42",
                                    "StartDate": "2013-05-30 00:00:00.000",
                                    "EndDate": "NULL",
                                    "ListPrice": "594.83"
                                },
                                {
                                    "ProductName": "ML Road Frame-W - Yellow, 42",
                                    "StartDate": "2012-05-30 00:00:00.000",
                                    "EndDate": "2013-05-29 00:00:00.000",
                                    "ListPrice": "540.7545"
                                },
                                {
                                    "ProductName": "ML Road Frame-W - Yellow, 44",
                                    "StartDate": "2013-05-30 00:00:00.000",
                                    "EndDate": "NULL",
                                    "ListPrice": "594.83"
                                },
                                {
                                    "ProductName": "ML Road Frame-W - Yellow, 44",
                                    "StartDate": "2012-05-30 00:00:00.000",
                                    "EndDate": "2013-05-29 00:00:00.000",
                                    "ListPrice": "540.7545"
                                },
                                {
                                    "ProductName": "ML Road Frame-W - Yellow, 48",
                                    "StartDate": "2013-05-30 00:00:00.000",
                                    "EndDate": "NULL",
                                    "ListPrice": "594.83"
                                },
                                {
                                    "ProductName": "ML Road Frame-W - Yellow, 48",
                                    "StartDate": "2012-05-30 00:00:00.000",
                                    "EndDate": "2013-05-29 00:00:00.000",
                                    "ListPrice": "540.7545"
                                },
                                {
                                    "ProductName": "ML Road Front Wheel",
                                    "StartDate": "2012-05-30 00:00:00.000",
                                    "EndDate": "2013-05-29 00:00:00.000",
                                    "ListPrice": "248.385"
                                },
                                {
                                    "ProductName": "ML Road Handlebars",
                                    "StartDate": "2013-05-30 00:00:00.000",
                                    "EndDate": "NULL",
                                    "ListPrice": "61.92"
                                },
                                {
                                    "ProductName": "ML Road Handlebars",
                                    "StartDate": "2012-05-30 00:00:00.000",
                                    "EndDate": "2013-05-29 00:00:00.000",
                                    "ListPrice": "56.2909"
                                },
                                {
                                    "ProductName": "ML Road Pedal",
                                    "StartDate": "2013-05-30 00:00:00.000",
                                    "EndDate": "NULL",
                                    "ListPrice": "62.09"
                                },
                                {
                                    "ProductName": "ML Road Rear Wheel",
                                    "StartDate": "2012-05-30 00:00:00.000",
                                    "EndDate": "2013-05-29 00:00:00.000",
                                    "ListPrice": "275.385"
                                },
                                {
                                    "ProductName": "ML Road Seat/Saddle",
                                    "StartDate": "2013-05-30 00:00:00.000",
                                    "EndDate": "NULL",
                                    "ListPrice": "39.14"
                                },
                                {
                                    "ProductName": "ML Road Tire",
                                    "StartDate": "2013-05-30 00:00:00.000",
                                    "EndDate": "NULL",
                                    "ListPrice": "24.99"
                                },
                                {
                                    "ProductName": "ML Touring Seat/Saddle",
                                    "StartDate": "2013-05-30 00:00:00.000",
                                    "EndDate": "NULL",
                                    "ListPrice": "39.14"
                                },
                                {
                                    "ProductName": "Mountain Bike Socks, L",
                                    "StartDate": "2011-05-31 00:00:00.000",
                                    "EndDate": "2012-05-29 00:00:00.000",
                                    "ListPrice": "9.50"
                                },
                                {
                                    "ProductName": "Mountain Bike Socks, M",
                                    "StartDate": "2011-05-31 00:00:00.000",
                                    "EndDate": "2012-05-29 00:00:00.000",
                                    "ListPrice": "9.50"
                                },
                                {
                                    "ProductName": "Mountain Bottle Cage",
                                    "StartDate": "2013-05-30 00:00:00.000",
                                    "EndDate": "NULL",
                                    "ListPrice": "9.99"
                                },
                                {
                                    "ProductName": "Mountain Pump",
                                    "StartDate": "2012-05-30 00:00:00.000",
                                    "EndDate": "2013-05-29 00:00:00.000",
                                    "ListPrice": "24.99"
                                },
                                {
                                    "ProductName": "Mountain Tire Tube",
                                    "StartDate": "2013-05-30 00:00:00.000",
                                    "EndDate": "NULL",
                                    "ListPrice": "4.99"
                                },
                                {
                                    "ProductName": "Mountain-100 Black, 38",
                                    "StartDate": "2011-05-31 00:00:00.000",
                                    "EndDate": "2012-05-29 00:00:00.000",
                                    "ListPrice": "3374.99"
                                },
                                {
                                    "ProductName": "Mountain-100 Black, 42",
                                    "StartDate": "2011-05-31 00:00:00.000",
                                    "EndDate": "2012-05-29 00:00:00.000",
                                    "ListPrice": "3374.99"
                                },
                                {
                                    "ProductName": "Mountain-100 Black, 44",
                                    "StartDate": "2011-05-31 00:00:00.000",
                                    "EndDate": "2012-05-29 00:00:00.000",
                                    "ListPrice": "3374.99"
                                },
                                {
                                    "ProductName": "Mountain-100 Black, 48",
                                    "StartDate": "2011-05-31 00:00:00.000",
                                    "EndDate": "2012-05-29 00:00:00.000",
                                    "ListPrice": "3374.99"
                                },
                                {
                                    "ProductName": "Mountain-100 Silver, 38",
                                    "StartDate": "2011-05-31 00:00:00.000",
                                    "EndDate": "2012-05-29 00:00:00.000",
                                    "ListPrice": "3399.99"
                                },
                                {
                                    "ProductName": "Mountain-100 Silver, 42",
                                    "StartDate": "2011-05-31 00:00:00.000",
                                    "EndDate": "2012-05-29 00:00:00.000",
                                    "ListPrice": "3399.99"
                                },
                                {
                                    "ProductName": "Mountain-100 Silver, 44",
                                    "StartDate": "2011-05-31 00:00:00.000",
                                    "EndDate": "2012-05-29 00:00:00.000",
                                    "ListPrice": "3399.99"
                                },
                                {
                                    "ProductName": "Mountain-100 Silver, 48",
                                    "StartDate": "2011-05-31 00:00:00.000",
                                    "EndDate": "2012-05-29 00:00:00.000",
                                    "ListPrice": "3399.99"
                                },
                                {
                                    "ProductName": "Mountain-200 Black, 38",
                                    "StartDate": "2013-05-30 00:00:00.000",
                                    "EndDate": "NULL",
                                    "ListPrice": "2294.99"
                                },
                                {
                                    "ProductName": "Mountain-200 Black, 38",
                                    "StartDate": "2012-05-30 00:00:00.000",
                                    "EndDate": "2013-05-29 00:00:00.000",
                                    "ListPrice": "2049.0982"
                                },
                                {
                                    "ProductName": "Mountain-200 Black, 42",
                                    "StartDate": "2013-05-30 00:00:00.000",
                                    "EndDate": "NULL",
                                    "ListPrice": "2294.99"
                                },
                                {
                                    "ProductName": "Mountain-200 Black, 42",
                                    "StartDate": "2012-05-30 00:00:00.000",
                                    "EndDate": "2013-05-29 00:00:00.000",
                                    "ListPrice": "2049.0982"
                                },
                                {
                                    "ProductName": "Mountain-200 Black, 46",
                                    "StartDate": "2013-05-30 00:00:00.000",
                                    "EndDate": "NULL",
                                    "ListPrice": "2294.99"
                                },
                                {
                                    "ProductName": "Mountain-200 Black, 46",
                                    "StartDate": "2012-05-30 00:00:00.000",
                                    "EndDate": "2013-05-29 00:00:00.000",
                                    "ListPrice": "2049.0982"
                                },
                                {
                                    "ProductName": "Mountain-200 Silver, 38",
                                    "StartDate": "2013-05-30 00:00:00.000",
                                    "EndDate": "NULL",
                                    "ListPrice": "2319.99"
                                },
                                {
                                    "ProductName": "Mountain-200 Silver, 38",
                                    "StartDate": "2012-05-30 00:00:00.000",
                                    "EndDate": "2013-05-29 00:00:00.000",
                                    "ListPrice": "2071.4196"
                                },
                                {
                                    "ProductName": "Mountain-200 Silver, 42",
                                    "StartDate": "2013-05-30 00:00:00.000",
                                    "EndDate": "NULL",
                                    "ListPrice": "2319.99"
                                },
                                {
                                    "ProductName": "Mountain-200 Silver, 42",
                                    "StartDate": "2012-05-30 00:00:00.000",
                                    "EndDate": "2013-05-29 00:00:00.000",
                                    "ListPrice": "2071.4196"
                                },
                                {
                                    "ProductName": "Mountain-200 Silver, 46",
                                    "StartDate": "2013-05-30 00:00:00.000",
                                    "EndDate": "NULL",
                                    "ListPrice": "2319.99"
                                },
                                {
                                    "ProductName": "Mountain-200 Silver, 46",
                                    "StartDate": "2012-05-30 00:00:00.000",
                                    "EndDate": "2013-05-29 00:00:00.000",
                                    "ListPrice": "2071.4196"
                                },
                                {
                                    "ProductName": "Mountain-300 Black, 38",
                                    "StartDate": "2012-05-30 00:00:00.000",
                                    "EndDate": "2013-05-29 00:00:00.000",
                                    "ListPrice": "1079.99"
                                },
                                {
                                    "ProductName": "Mountain-300 Black, 40",
                                    "StartDate": "2012-05-30 00:00:00.000",
                                    "EndDate": "2013-05-29 00:00:00.000",
                                    "ListPrice": "1079.99"
                                },
                                {
                                    "ProductName": "Mountain-300 Black, 44",
                                    "StartDate": "2012-05-30 00:00:00.000",
                                    "EndDate": "2013-05-29 00:00:00.000",
                                    "ListPrice": "1079.99"
                                },
                                {
                                    "ProductName": "Mountain-300 Black, 48",
                                    "StartDate": "2012-05-30 00:00:00.000",
                                    "EndDate": "2013-05-29 00:00:00.000",
                                    "ListPrice": "1079.99"
                                },
                                {
                                    "ProductName": "Mountain-400-W Silver, 38",
                                    "StartDate": "2013-05-30 00:00:00.000",
                                    "EndDate": "NULL",
                                    "ListPrice": "769.49"
                                },
                                {
                                    "ProductName": "Mountain-400-W Silver, 40",
                                    "StartDate": "2013-05-30 00:00:00.000",
                                    "EndDate": "NULL",
                                    "ListPrice": "769.49"
                                },
                                {
                                    "ProductName": "Mountain-400-W Silver, 42",
                                    "StartDate": "2013-05-30 00:00:00.000",
                                    "EndDate": "NULL",
                                    "ListPrice": "769.49"
                                },
                                {
                                    "ProductName": "Mountain-400-W Silver, 46",
                                    "StartDate": "2013-05-30 00:00:00.000",
                                    "EndDate": "NULL",
                                    "ListPrice": "769.49"
                                },
                                {
                                    "ProductName": "Mountain-500 Black, 40",
                                    "StartDate": "2013-05-30 00:00:00.000",
                                    "EndDate": "NULL",
                                    "ListPrice": "539.99"
                                },
                                {
                                    "ProductName": "Mountain-500 Black, 42",
                                    "StartDate": "2013-05-30 00:00:00.000",
                                    "EndDate": "NULL",
                                    "ListPrice": "539.99"
                                },
                                {
                                    "ProductName": "Mountain-500 Black, 44",
                                    "StartDate": "2013-05-30 00:00:00.000",
                                    "EndDate": "NULL",
                                    "ListPrice": "539.99"
                                },
                                {
                                    "ProductName": "Mountain-500 Black, 48",
                                    "StartDate": "2013-05-30 00:00:00.000",
                                    "EndDate": "NULL",
                                    "ListPrice": "539.99"
                                },
                                {
                                    "ProductName": "Mountain-500 Black, 52",
                                    "StartDate": "2013-05-30 00:00:00.000",
                                    "EndDate": "NULL",
                                    "ListPrice": "539.99"
                                },
                                {
                                    "ProductName": "Mountain-500 Silver, 40",
                                    "StartDate": "2013-05-30 00:00:00.000",
                                    "EndDate": "NULL",
                                    "ListPrice": "564.99"
                                },
                                {
                                    "ProductName": "Mountain-500 Silver, 42",
                                    "StartDate": "2013-05-30 00:00:00.000",
                                    "EndDate": "NULL",
                                    "ListPrice": "564.99"
                                },
                                {
                                    "ProductName": "Mountain-500 Silver, 44",
                                    "StartDate": "2013-05-30 00:00:00.000",
                                    "EndDate": "NULL",
                                    "ListPrice": "564.99"
                                },
                                {
                                    "ProductName": "Mountain-500 Silver, 48",
                                    "StartDate": "2013-05-30 00:00:00.000",
                                    "EndDate": "NULL",
                                    "ListPrice": "564.99"
                                },
                                {
                                    "ProductName": "Mountain-500 Silver, 52",
                                    "StartDate": "2013-05-30 00:00:00.000",
                                    "EndDate": "NULL",
                                    "ListPrice": "564.99"
                                },
                                {
                                    "ProductName": "Patch Kit/8 Patches",
                                    "StartDate": "2013-05-30 00:00:00.000",
                                    "EndDate": "NULL",
                                    "ListPrice": "2.29"
                                },
                                {
                                    "ProductName": "Racing Socks, L",
                                    "StartDate": "2013-05-30 00:00:00.000",
                                    "EndDate": "NULL",
                                    "ListPrice": "8.99"
                                },
                                {
                                    "ProductName": "Racing Socks, M",
                                    "StartDate": "2013-05-30 00:00:00.000",
                                    "EndDate": "NULL",
                                    "ListPrice": "8.99"
                                },
                                {
                                    "ProductName": "Rear Brakes",
                                    "StartDate": "2013-05-30 00:00:00.000",
                                    "EndDate": "NULL",
                                    "ListPrice": "106.50"
                                },
                                {
                                    "ProductName": "Rear Derailleur",
                                    "StartDate": "2013-05-30 00:00:00.000",
                                    "EndDate": "NULL",
                                    "ListPrice": "121.46"
                                },
                                {
                                    "ProductName": "Road Bottle Cage",
                                    "StartDate": "2013-05-30 00:00:00.000",
                                    "EndDate": "NULL",
                                    "ListPrice": "8.99"
                                },
                                {
                                    "ProductName": "Road Tire Tube",
                                    "StartDate": "2013-05-30 00:00:00.000",
                                    "EndDate": "NULL",
                                    "ListPrice": "3.99"
                                },
                                {
                                    "ProductName": "Road-150 Red, 44",
                                    "StartDate": "2011-05-31 00:00:00.000",
                                    "EndDate": "2012-05-29 00:00:00.000",
                                    "ListPrice": "3578.27"
                                },
                                {
                                    "ProductName": "Road-150 Red, 48",
                                    "StartDate": "2011-05-31 00:00:00.000",
                                    "EndDate": "2012-05-29 00:00:00.000",
                                    "ListPrice": "3578.27"
                                },
                                {
                                    "ProductName": "Road-150 Red, 52",
                                    "StartDate": "2011-05-31 00:00:00.000",
                                    "EndDate": "2012-05-29 00:00:00.000",
                                    "ListPrice": "3578.27"
                                },
                                {
                                    "ProductName": "Road-150 Red, 56",
                                    "StartDate": "2011-05-31 00:00:00.000",
                                    "EndDate": "2012-05-29 00:00:00.000",
                                    "ListPrice": "3578.27"
                                },
                                {
                                    "ProductName": "Road-150 Red, 62",
                                    "StartDate": "2011-05-31 00:00:00.000",
                                    "EndDate": "2012-05-29 00:00:00.000",
                                    "ListPrice": "3578.27"
                                },
                                {
                                    "ProductName": "Road-250 Black, 44",
                                    "StartDate": "2013-05-30 00:00:00.000",
                                    "EndDate": "NULL",
                                    "ListPrice": "2443.35"
                                },
                                {
                                    "ProductName": "Road-250 Black, 44",
                                    "StartDate": "2012-05-30 00:00:00.000",
                                    "EndDate": "2013-05-29 00:00:00.000",
                                    "ListPrice": "2181.5625"
                                },
                                {
                                    "ProductName": "Road-250 Black, 48",
                                    "StartDate": "2013-05-30 00:00:00.000",
                                    "EndDate": "NULL",
                                    "ListPrice": "2443.35"
                                },
                                {
                                    "ProductName": "Road-250 Black, 48",
                                    "StartDate": "2012-05-30 00:00:00.000",
                                    "EndDate": "2013-05-29 00:00:00.000",
                                    "ListPrice": "2181.5625"
                                },
                                {
                                    "ProductName": "Road-250 Black, 52",
                                    "StartDate": "2013-05-30 00:00:00.000",
                                    "EndDate": "NULL",
                                    "ListPrice": "2443.35"
                                },
                                {
                                    "ProductName": "Road-250 Black, 52",
                                    "StartDate": "2012-05-30 00:00:00.000",
                                    "EndDate": "2013-05-29 00:00:00.000",
                                    "ListPrice": "2181.5625"
                                },
                                {
                                    "ProductName": "Road-250 Black, 58",
                                    "StartDate": "2013-05-30 00:00:00.000",
                                    "EndDate": "NULL",
                                    "ListPrice": "2443.35"
                                },
                                {
                                    "ProductName": "Road-250 Black, 58",
                                    "StartDate": "2012-05-30 00:00:00.000",
                                    "EndDate": "2013-05-29 00:00:00.000",
                                    "ListPrice": "2181.5625"
                                },
                                {
                                    "ProductName": "Road-250 Red, 44",
                                    "StartDate": "2012-05-30 00:00:00.000",
                                    "EndDate": "2013-05-29 00:00:00.000",
                                    "ListPrice": "2443.35"
                                },
                                {
                                    "ProductName": "Road-250 Red, 48",
                                    "StartDate": "2012-05-30 00:00:00.000",
                                    "EndDate": "2013-05-29 00:00:00.000",
                                    "ListPrice": "2443.35"
                                },
                                {
                                    "ProductName": "Road-250 Red, 52",
                                    "StartDate": "2012-05-30 00:00:00.000",
                                    "EndDate": "2013-05-29 00:00:00.000",
                                    "ListPrice": "2443.35"
                                },
                                {
                                    "ProductName": "Road-250 Red, 58",
                                    "StartDate": "2013-05-30 00:00:00.000",
                                    "EndDate": "NULL",
                                    "ListPrice": "2443.35"
                                },
                                {
                                    "ProductName": "Road-250 Red, 58",
                                    "StartDate": "2012-05-30 00:00:00.000",
                                    "EndDate": "2013-05-29 00:00:00.000",
                                    "ListPrice": "2181.5625"
                                },
                                {
                                    "ProductName": "Road-350-W Yellow, 40",
                                    "StartDate": "2013-05-30 00:00:00.000",
                                    "EndDate": "NULL",
                                    "ListPrice": "1700.99"
                                },
                                {
                                    "ProductName": "Road-350-W Yellow, 42",
                                    "StartDate": "2013-05-30 00:00:00.000",
                                    "EndDate": "NULL",
                                    "ListPrice": "1700.99"
                                },
                                {
                                    "ProductName": "Road-350-W Yellow, 44",
                                    "StartDate": "2013-05-30 00:00:00.000",
                                    "EndDate": "NULL",
                                    "ListPrice": "1700.99"
                                },
                                {
                                    "ProductName": "Road-350-W Yellow, 48",
                                    "StartDate": "2013-05-30 00:00:00.000",
                                    "EndDate": "NULL",
                                    "ListPrice": "1700.99"
                                },
                                {
                                    "ProductName": "Road-450 Red, 44",
                                    "StartDate": "2011-05-31 00:00:00.000",
                                    "EndDate": "2012-05-29 00:00:00.000",
                                    "ListPrice": "1457.99"
                                },
                                {
                                    "ProductName": "Road-450 Red, 48",
                                    "StartDate": "2011-05-31 00:00:00.000",
                                    "EndDate": "2012-05-29 00:00:00.000",
                                    "ListPrice": "1457.99"
                                },
                                {
                                    "ProductName": "Road-450 Red, 52",
                                    "StartDate": "2011-05-31 00:00:00.000",
                                    "EndDate": "2012-05-29 00:00:00.000",
                                    "ListPrice": "1457.99"
                                },
                                {
                                    "ProductName": "Road-450 Red, 58",
                                    "StartDate": "2011-05-31 00:00:00.000",
                                    "EndDate": "2012-05-29 00:00:00.000",
                                    "ListPrice": "1457.99"
                                },
                                {
                                    "ProductName": "Road-450 Red, 60",
                                    "StartDate": "2011-05-31 00:00:00.000",
                                    "EndDate": "2012-05-29 00:00:00.000",
                                    "ListPrice": "1457.99"
                                },
                                {
                                    "ProductName": "Road-550-W Yellow, 38",
                                    "StartDate": "2013-05-30 00:00:00.000",
                                    "EndDate": "NULL",
                                    "ListPrice": "1120.49"
                                },
                                {
                                    "ProductName": "Road-550-W Yellow, 38",
                                    "StartDate": "2012-05-30 00:00:00.000",
                                    "EndDate": "2013-05-29 00:00:00.000",
                                    "ListPrice": "1000.4375"
                                },
                                {
                                    "ProductName": "Road-550-W Yellow, 40",
                                    "StartDate": "2013-05-30 00:00:00.000",
                                    "EndDate": "NULL",
                                    "ListPrice": "1120.49"
                                },
                                {
                                    "ProductName": "Road-550-W Yellow, 40",
                                    "StartDate": "2012-05-30 00:00:00.000",
                                    "EndDate": "2013-05-29 00:00:00.000",
                                    "ListPrice": "1000.4375"
                                },
                                {
                                    "ProductName": "Road-550-W Yellow, 42",
                                    "StartDate": "2013-05-30 00:00:00.000",
                                    "EndDate": "NULL",
                                    "ListPrice": "1120.49"
                                },
                                {
                                    "ProductName": "Road-550-W Yellow, 42",
                                    "StartDate": "2012-05-30 00:00:00.000",
                                    "EndDate": "2013-05-29 00:00:00.000",
                                    "ListPrice": "1000.4375"
                                },
                                {
                                    "ProductName": "Road-550-W Yellow, 44",
                                    "StartDate": "2013-05-30 00:00:00.000",
                                    "EndDate": "NULL",
                                    "ListPrice": "1120.49"
                                },
                                {
                                    "ProductName": "Road-550-W Yellow, 44",
                                    "StartDate": "2012-05-30 00:00:00.000",
                                    "EndDate": "2013-05-29 00:00:00.000",
                                    "ListPrice": "1000.4375"
                                },
                                {
                                    "ProductName": "Road-550-W Yellow, 48",
                                    "StartDate": "2013-05-30 00:00:00.000",
                                    "EndDate": "NULL",
                                    "ListPrice": "1120.49"
                                },
                                {
                                    "ProductName": "Road-550-W Yellow, 48",
                                    "StartDate": "2012-05-30 00:00:00.000",
                                    "EndDate": "2013-05-29 00:00:00.000",
                                    "ListPrice": "1000.4375"
                                },
                                {
                                    "ProductName": "Road-650 Black, 44",
                                    "StartDate": "2012-05-30 00:00:00.000",
                                    "EndDate": "2013-05-29 00:00:00.000",
                                    "ListPrice": "782.99"
                                },
                                {
                                    "ProductName": "Road-650 Black, 44",
                                    "StartDate": "2011-05-31 00:00:00.000",
                                    "EndDate": "2012-05-29 00:00:00.000",
                                    "ListPrice": "699.0982"
                                },
                                {
                                    "ProductName": "Road-650 Black, 48",
                                    "StartDate": "2012-05-30 00:00:00.000",
                                    "EndDate": "2013-05-29 00:00:00.000",
                                    "ListPrice": "782.99"
                                },
                                {
                                    "ProductName": "Road-650 Black, 48",
                                    "StartDate": "2011-05-31 00:00:00.000",
                                    "EndDate": "2012-05-29 00:00:00.000",
                                    "ListPrice": "699.0982"
                                },
                                {
                                    "ProductName": "Road-650 Black, 52",
                                    "StartDate": "2012-05-30 00:00:00.000",
                                    "EndDate": "2013-05-29 00:00:00.000",
                                    "ListPrice": "782.99"
                                },
                                {
                                    "ProductName": "Road-650 Black, 52",
                                    "StartDate": "2011-05-31 00:00:00.000",
                                    "EndDate": "2012-05-29 00:00:00.000",
                                    "ListPrice": "699.0982"
                                },
                                {
                                    "ProductName": "Road-650 Black, 58",
                                    "StartDate": "2012-05-30 00:00:00.000",
                                    "EndDate": "2013-05-29 00:00:00.000",
                                    "ListPrice": "782.99"
                                },
                                {
                                    "ProductName": "Road-650 Black, 58",
                                    "StartDate": "2011-05-31 00:00:00.000",
                                    "EndDate": "2012-05-29 00:00:00.000",
                                    "ListPrice": "699.0982"
                                },
                                {
                                    "ProductName": "Road-650 Black, 60",
                                    "StartDate": "2012-05-30 00:00:00.000",
                                    "EndDate": "2013-05-29 00:00:00.000",
                                    "ListPrice": "782.99"
                                },
                                {
                                    "ProductName": "Road-650 Black, 60",
                                    "StartDate": "2011-05-31 00:00:00.000",
                                    "EndDate": "2012-05-29 00:00:00.000",
                                    "ListPrice": "699.0982"
                                },
                                {
                                    "ProductName": "Road-650 Black, 62",
                                    "StartDate": "2012-05-30 00:00:00.000",
                                    "EndDate": "2013-05-29 00:00:00.000",
                                    "ListPrice": "782.99"
                                },
                                {
                                    "ProductName": "Road-650 Black, 62",
                                    "StartDate": "2011-05-31 00:00:00.000",
                                    "EndDate": "2012-05-29 00:00:00.000",
                                    "ListPrice": "699.0982"
                                },
                                {
                                    "ProductName": "Road-650 Red, 44",
                                    "StartDate": "2012-05-30 00:00:00.000",
                                    "EndDate": "2013-05-29 00:00:00.000",
                                    "ListPrice": "782.99"
                                },
                                {
                                    "ProductName": "Road-650 Red, 44",
                                    "StartDate": "2011-05-31 00:00:00.000",
                                    "EndDate": "2012-05-29 00:00:00.000",
                                    "ListPrice": "699.0982"
                                },
                                {
                                    "ProductName": "Road-650 Red, 48",
                                    "StartDate": "2012-05-30 00:00:00.000",
                                    "EndDate": "2013-05-29 00:00:00.000",
                                    "ListPrice": "782.99"
                                },
                                {
                                    "ProductName": "Road-650 Red, 48",
                                    "StartDate": "2011-05-31 00:00:00.000",
                                    "EndDate": "2012-05-29 00:00:00.000",
                                    "ListPrice": "699.0982"
                                },
                                {
                                    "ProductName": "Road-650 Red, 52",
                                    "StartDate": "2012-05-30 00:00:00.000",
                                    "EndDate": "2013-05-29 00:00:00.000",
                                    "ListPrice": "782.99"
                                },
                                {
                                    "ProductName": "Road-650 Red, 52",
                                    "StartDate": "2011-05-31 00:00:00.000",
                                    "EndDate": "2012-05-29 00:00:00.000",
                                    "ListPrice": "699.0982"
                                },
                                {
                                    "ProductName": "Road-650 Red, 58",
                                    "StartDate": "2012-05-30 00:00:00.000",
                                    "EndDate": "2013-05-29 00:00:00.000",
                                    "ListPrice": "782.99"
                                },
                                {
                                    "ProductName": "Road-650 Red, 58",
                                    "StartDate": "2011-05-31 00:00:00.000",
                                    "EndDate": "2012-05-29 00:00:00.000",
                                    "ListPrice": "699.0982"
                                },
                                {
                                    "ProductName": "Road-650 Red, 60",
                                    "StartDate": "2012-05-30 00:00:00.000",
                                    "EndDate": "2013-05-29 00:00:00.000",
                                    "ListPrice": "782.99"
                                },
                                {
                                    "ProductName": "Road-650 Red, 60",
                                    "StartDate": "2011-05-31 00:00:00.000",
                                    "EndDate": "2012-05-29 00:00:00.000",
                                    "ListPrice": "699.0982"
                                },
                                {
                                    "ProductName": "Road-650 Red, 62",
                                    "StartDate": "2012-05-30 00:00:00.000",
                                    "EndDate": "2013-05-29 00:00:00.000",
                                    "ListPrice": "782.99"
                                },
                                {
                                    "ProductName": "Road-650 Red, 62",
                                    "StartDate": "2011-05-31 00:00:00.000",
                                    "EndDate": "2012-05-29 00:00:00.000",
                                    "ListPrice": "699.0982"
                                },
                                {
                                    "ProductName": "Road-750 Black, 44",
                                    "StartDate": "2013-05-30 00:00:00.000",
                                    "EndDate": "NULL",
                                    "ListPrice": "539.99"
                                },
                                {
                                    "ProductName": "Road-750 Black, 48",
                                    "StartDate": "2013-05-30 00:00:00.000",
                                    "EndDate": "NULL",
                                    "ListPrice": "539.99"
                                },
                                {
                                    "ProductName": "Road-750 Black, 52",
                                    "StartDate": "2013-05-30 00:00:00.000",
                                    "EndDate": "NULL",
                                    "ListPrice": "539.99"
                                },
                                {
                                    "ProductName": "Road-750 Black, 58",
                                    "StartDate": "2013-05-30 00:00:00.000",
                                    "EndDate": "NULL",
                                    "ListPrice": "539.99"
                                },
                                {
                                    "ProductName": "Short-Sleeve Classic Jersey, L",
                                    "StartDate": "2013-05-30 00:00:00.000",
                                    "EndDate": "NULL",
                                    "ListPrice": "53.99"
                                },
                                {
                                    "ProductName": "Short-Sleeve Classic Jersey, M",
                                    "StartDate": "2013-05-30 00:00:00.000",
                                    "EndDate": "NULL",
                                    "ListPrice": "53.99"
                                },
                                {
                                    "ProductName": "Short-Sleeve Classic Jersey, S",
                                    "StartDate": "2013-05-30 00:00:00.000",
                                    "EndDate": "NULL",
                                    "ListPrice": "53.99"
                                },
                                {
                                    "ProductName": "Short-Sleeve Classic Jersey, XL",
                                    "StartDate": "2013-05-30 00:00:00.000",
                                    "EndDate": "NULL",
                                    "ListPrice": "53.99"
                                },
                                {
                                    "ProductName": "Sport-100 Helmet, Black",
                                    "StartDate": "2013-05-30 00:00:00.000",
                                    "EndDate": "NULL",
                                    "ListPrice": "34.99"
                                },
                                {
                                    "ProductName": "Sport-100 Helmet, Black",
                                    "StartDate": "2012-05-30 00:00:00.000",
                                    "EndDate": "2013-05-29 00:00:00.000",
                                    "ListPrice": "33.6442"
                                },
                                {
                                    "ProductName": "Sport-100 Helmet, Black",
                                    "StartDate": "2011-05-31 00:00:00.000",
                                    "EndDate": "2012-05-29 00:00:00.000",
                                    "ListPrice": "33.6442"
                                },
                                {
                                    "ProductName": "Sport-100 Helmet, Blue",
                                    "StartDate": "2013-05-30 00:00:00.000",
                                    "EndDate": "NULL",
                                    "ListPrice": "34.99"
                                },
                                {
                                    "ProductName": "Sport-100 Helmet, Blue",
                                    "StartDate": "2012-05-30 00:00:00.000",
                                    "EndDate": "2013-05-29 00:00:00.000",
                                    "ListPrice": "33.6442"
                                },
                                {
                                    "ProductName": "Sport-100 Helmet, Blue",
                                    "StartDate": "2011-05-31 00:00:00.000",
                                    "EndDate": "2012-05-29 00:00:00.000",
                                    "ListPrice": "33.6442"
                                },
                                {
                                    "ProductName": "Sport-100 Helmet, Red",
                                    "StartDate": "2013-05-30 00:00:00.000",
                                    "EndDate": "NULL",
                                    "ListPrice": "34.99"
                                },
                                {
                                    "ProductName": "Sport-100 Helmet, Red",
                                    "StartDate": "2012-05-30 00:00:00.000",
                                    "EndDate": "2013-05-29 00:00:00.000",
                                    "ListPrice": "33.6442"
                                },
                                {
                                    "ProductName": "Sport-100 Helmet, Red",
                                    "StartDate": "2011-05-31 00:00:00.000",
                                    "EndDate": "2012-05-29 00:00:00.000",
                                    "ListPrice": "33.6442"
                                },
                                {
                                    "ProductName": "Taillights - Battery-Powered",
                                    "StartDate": "2012-05-30 00:00:00.000",
                                    "EndDate": "2013-05-29 00:00:00.000",
                                    "ListPrice": "13.99"
                                },
                                {
                                    "ProductName": "Touring Front Wheel",
                                    "StartDate": "2012-05-30 00:00:00.000",
                                    "EndDate": "2013-05-29 00:00:00.000",
                                    "ListPrice": "218.01"
                                },
                                {
                                    "ProductName": "Touring Pedal",
                                    "StartDate": "2013-05-30 00:00:00.000",
                                    "EndDate": "NULL",
                                    "ListPrice": "80.99"
                                },
                                {
                                    "ProductName": "Touring Rear Wheel",
                                    "StartDate": "2012-05-30 00:00:00.000",
                                    "EndDate": "2013-05-29 00:00:00.000",
                                    "ListPrice": "245.01"
                                },
                                {
                                    "ProductName": "Touring Tire",
                                    "StartDate": "2013-05-30 00:00:00.000",
                                    "EndDate": "NULL",
                                    "ListPrice": "28.99"
                                },
                                {
                                    "ProductName": "Touring Tire Tube",
                                    "StartDate": "2013-05-30 00:00:00.000",
                                    "EndDate": "NULL",
                                    "ListPrice": "4.99"
                                },
                                {
                                    "ProductName": "Touring-1000 Blue, 46",
                                    "StartDate": "2013-05-30 00:00:00.000",
                                    "EndDate": "NULL",
                                    "ListPrice": "2384.07"
                                },
                                {
                                    "ProductName": "Touring-1000 Blue, 50",
                                    "StartDate": "2013-05-30 00:00:00.000",
                                    "EndDate": "NULL",
                                    "ListPrice": "2384.07"
                                },
                                {
                                    "ProductName": "Touring-1000 Blue, 54",
                                    "StartDate": "2013-05-30 00:00:00.000",
                                    "EndDate": "NULL",
                                    "ListPrice": "2384.07"
                                },
                                {
                                    "ProductName": "Touring-1000 Blue, 60",
                                    "StartDate": "2013-05-30 00:00:00.000",
                                    "EndDate": "NULL",
                                    "ListPrice": "2384.07"
                                },
                                {
                                    "ProductName": "Touring-1000 Yellow, 46",
                                    "StartDate": "2013-05-30 00:00:00.000",
                                    "EndDate": "NULL",
                                    "ListPrice": "2384.07"
                                },
                                {
                                    "ProductName": "Touring-1000 Yellow, 50",
                                    "StartDate": "2013-05-30 00:00:00.000",
                                    "EndDate": "NULL",
                                    "ListPrice": "2384.07"
                                },
                                {
                                    "ProductName": "Touring-1000 Yellow, 54",
                                    "StartDate": "2013-05-30 00:00:00.000",
                                    "EndDate": "NULL",
                                    "ListPrice": "2384.07"
                                },
                                {
                                    "ProductName": "Touring-1000 Yellow, 60",
                                    "StartDate": "2013-05-30 00:00:00.000",
                                    "EndDate": "NULL",
                                    "ListPrice": "2384.07"
                                },
                                {
                                    "ProductName": "Touring-2000 Blue, 46",
                                    "StartDate": "2013-05-30 00:00:00.000",
                                    "EndDate": "NULL",
                                    "ListPrice": "1214.85"
                                },
                                {
                                    "ProductName": "Touring-2000 Blue, 50",
                                    "StartDate": "2013-05-30 00:00:00.000",
                                    "EndDate": "NULL",
                                    "ListPrice": "1214.85"
                                },
                                {
                                    "ProductName": "Touring-2000 Blue, 54",
                                    "StartDate": "2013-05-30 00:00:00.000",
                                    "EndDate": "NULL",
                                    "ListPrice": "1214.85"
                                },
                                {
                                    "ProductName": "Touring-2000 Blue, 60",
                                    "StartDate": "2013-05-30 00:00:00.000",
                                    "EndDate": "NULL",
                                    "ListPrice": "1214.85"
                                },
                                {
                                    "ProductName": "Touring-3000 Blue, 44",
                                    "StartDate": "2013-05-30 00:00:00.000",
                                    "EndDate": "NULL",
                                    "ListPrice": "742.35"
                                },
                                {
                                    "ProductName": "Touring-3000 Blue, 50",
                                    "StartDate": "2013-05-30 00:00:00.000",
                                    "EndDate": "NULL",
                                    "ListPrice": "742.35"
                                },
                                {
                                    "ProductName": "Touring-3000 Blue, 54",
                                    "StartDate": "2013-05-30 00:00:00.000",
                                    "EndDate": "NULL",
                                    "ListPrice": "742.35"
                                },
                                {
                                    "ProductName": "Touring-3000 Blue, 58",
                                    "StartDate": "2013-05-30 00:00:00.000",
                                    "EndDate": "NULL",
                                    "ListPrice": "742.35"
                                },
                                {
                                    "ProductName": "Touring-3000 Blue, 62",
                                    "StartDate": "2013-05-30 00:00:00.000",
                                    "EndDate": "NULL",
                                    "ListPrice": "742.35"
                                },
                                {
                                    "ProductName": "Touring-3000 Yellow, 44",
                                    "StartDate": "2013-05-30 00:00:00.000",
                                    "EndDate": "NULL",
                                    "ListPrice": "742.35"
                                },
                                {
                                    "ProductName": "Touring-3000 Yellow, 50",
                                    "StartDate": "2013-05-30 00:00:00.000",
                                    "EndDate": "NULL",
                                    "ListPrice": "742.35"
                                },
                                {
                                    "ProductName": "Touring-3000 Yellow, 54",
                                    "StartDate": "2013-05-30 00:00:00.000",
                                    "EndDate": "NULL",
                                    "ListPrice": "742.35"
                                },
                                {
                                    "ProductName": "Touring-3000 Yellow, 58",
                                    "StartDate": "2013-05-30 00:00:00.000",
                                    "EndDate": "NULL",
                                    "ListPrice": "742.35"
                                },
                                {
                                    "ProductName": "Touring-3000 Yellow, 62",
                                    "StartDate": "2013-05-30 00:00:00.000",
                                    "EndDate": "NULL",
                                    "ListPrice": "742.35"
                                },
                                {
                                    "ProductName": "Touring-Panniers, Large",
                                    "StartDate": "2012-05-30 00:00:00.000",
                                    "EndDate": "2013-05-29 00:00:00.000",
                                    "ListPrice": "125.00"
                                },
                                {
                                    "ProductName": "Water Bottle - 30 oz.",
                                    "StartDate": "2013-05-30 00:00:00.000",
                                    "EndDate": "NULL",
                                    "ListPrice": "4.99"
                                },
                                {
                                    "ProductName": "Women's Mountain Shorts, L",
                                    "StartDate": "2013-05-30 00:00:00.000",
                                    "EndDate": "NULL",
                                    "ListPrice": "69.99"
                                },
                                {
                                    "ProductName": "Women's Mountain Shorts, M",
                                    "StartDate": "2013-05-30 00:00:00.000",
                                    "EndDate": "NULL",
                                    "ListPrice": "69.99"
                                },
                                {
                                    "ProductName": "Women's Mountain Shorts, S",
                                    "StartDate": "2013-05-30 00:00:00.000",
                                    "EndDate": "NULL",
                                    "ListPrice": "69.99"
                                },
                                {
                                    "ProductName": "Women's Tights, L",
                                    "StartDate": "2012-05-30 00:00:00.000",
                                    "EndDate": "2013-05-29 00:00:00.000",
                                    "ListPrice": "74.99"
                                },
                                {
                                    "ProductName": "Women's Tights, M",
                                    "StartDate": "2012-05-30 00:00:00.000",
                                    "EndDate": "2013-05-29 00:00:00.000",
                                    "ListPrice": "74.99"
                                },
                                {
                                    "ProductName": "Women's Tights, S",
                                    "StartDate": "2012-05-30 00:00:00.000",
                                    "EndDate": "2013-05-29 00:00:00.000",
                                    "ListPrice": "74.99"
                                }
                            ]
                        },
                        "text/html": "<table><tr><th>ProductName</th><th>StartDate</th><th>EndDate</th><th>ListPrice</th></tr><tr><td>All-Purpose Bike Stand</td><td>2013-05-30 00:00:00.000</td><td>NULL</td><td>159.00</td></tr><tr><td>AWC Logo Cap</td><td>2013-05-30 00:00:00.000</td><td>NULL</td><td>8.99</td></tr><tr><td>AWC Logo Cap</td><td>2012-05-30 00:00:00.000</td><td>2013-05-29 00:00:00.000</td><td>8.6442</td></tr><tr><td>AWC Logo Cap</td><td>2011-05-31 00:00:00.000</td><td>2012-05-29 00:00:00.000</td><td>8.6442</td></tr><tr><td>Bike Wash - Dissolver</td><td>2013-05-30 00:00:00.000</td><td>NULL</td><td>7.95</td></tr><tr><td>Cable Lock</td><td>2012-05-30 00:00:00.000</td><td>2013-05-29 00:00:00.000</td><td>25.00</td></tr><tr><td>Chain</td><td>2013-05-30 00:00:00.000</td><td>NULL</td><td>20.24</td></tr><tr><td>Classic Vest, L</td><td>2013-05-30 00:00:00.000</td><td>NULL</td><td>63.50</td></tr><tr><td>Classic Vest, M</td><td>2013-05-30 00:00:00.000</td><td>NULL</td><td>63.50</td></tr><tr><td>Classic Vest, S</td><td>2013-05-30 00:00:00.000</td><td>NULL</td><td>63.50</td></tr><tr><td>Fender Set - Mountain</td><td>2013-05-30 00:00:00.000</td><td>NULL</td><td>21.98</td></tr><tr><td>Front Brakes</td><td>2013-05-30 00:00:00.000</td><td>NULL</td><td>106.50</td></tr><tr><td>Front Derailleur</td><td>2013-05-30 00:00:00.000</td><td>NULL</td><td>91.49</td></tr><tr><td>Full-Finger Gloves, L</td><td>2012-05-30 00:00:00.000</td><td>2013-05-29 00:00:00.000</td><td>37.99</td></tr><tr><td>Full-Finger Gloves, M</td><td>2012-05-30 00:00:00.000</td><td>2013-05-29 00:00:00.000</td><td>37.99</td></tr><tr><td>Full-Finger Gloves, S</td><td>2012-05-30 00:00:00.000</td><td>2013-05-29 00:00:00.000</td><td>37.99</td></tr><tr><td>Half-Finger Gloves, L</td><td>2013-05-30 00:00:00.000</td><td>NULL</td><td>24.49</td></tr><tr><td>Half-Finger Gloves, L</td><td>2012-05-30 00:00:00.000</td><td>2013-05-29 00:00:00.000</td><td>23.5481</td></tr><tr><td>Half-Finger Gloves, M</td><td>2013-05-30 00:00:00.000</td><td>NULL</td><td>24.49</td></tr><tr><td>Half-Finger Gloves, M</td><td>2012-05-30 00:00:00.000</td><td>2013-05-29 00:00:00.000</td><td>23.5481</td></tr><tr><td>Half-Finger Gloves, S</td><td>2013-05-30 00:00:00.000</td><td>NULL</td><td>24.49</td></tr><tr><td>Half-Finger Gloves, S</td><td>2012-05-30 00:00:00.000</td><td>2013-05-29 00:00:00.000</td><td>23.5481</td></tr><tr><td>Headlights - Dual-Beam</td><td>2012-05-30 00:00:00.000</td><td>2013-05-29 00:00:00.000</td><td>34.99</td></tr><tr><td>Headlights - Weatherproof</td><td>2012-05-30 00:00:00.000</td><td>2013-05-29 00:00:00.000</td><td>44.99</td></tr><tr><td>Hitch Rack - 4-Bike</td><td>2013-05-30 00:00:00.000</td><td>NULL</td><td>120.00</td></tr><tr><td>HL Bottom Bracket</td><td>2013-05-30 00:00:00.000</td><td>NULL</td><td>121.49</td></tr><tr><td>HL Crankset</td><td>2013-05-30 00:00:00.000</td><td>NULL</td><td>404.99</td></tr><tr><td>HL Fork</td><td>2012-05-30 00:00:00.000</td><td>2013-05-29 00:00:00.000</td><td>229.49</td></tr><tr><td>HL Headset</td><td>2012-05-30 00:00:00.000</td><td>2013-05-29 00:00:00.000</td><td>124.73</td></tr><tr><td>HL Mountain Frame - Black, 38</td><td>2013-05-30 00:00:00.000</td><td>NULL</td><td>1349.60</td></tr><tr><td>HL Mountain Frame - Black, 38</td><td>2012-05-30 00:00:00.000</td><td>2013-05-29 00:00:00.000</td><td>1226.9091</td></tr><tr><td>HL Mountain Frame - Black, 38</td><td>2011-05-31 00:00:00.000</td><td>2012-05-29 00:00:00.000</td><td>1191.1739</td></tr><tr><td>HL Mountain Frame - Black, 42</td><td>2013-05-30 00:00:00.000</td><td>NULL</td><td>1349.60</td></tr><tr><td>HL Mountain Frame - Black, 42</td><td>2012-05-30 00:00:00.000</td><td>2013-05-29 00:00:00.000</td><td>1226.9091</td></tr><tr><td>HL Mountain Frame - Black, 42</td><td>2011-05-31 00:00:00.000</td><td>2012-05-29 00:00:00.000</td><td>1191.1739</td></tr><tr><td>HL Mountain Frame - Black, 44</td><td>2011-05-31 00:00:00.000</td><td>2012-05-29 00:00:00.000</td><td>1349.60</td></tr><tr><td>HL Mountain Frame - Black, 46</td><td>2013-05-30 00:00:00.000</td><td>NULL</td><td>1349.60</td></tr><tr><td>HL Mountain Frame - Black, 46</td><td>2012-05-30 00:00:00.000</td><td>2013-05-29 00:00:00.000</td><td>1226.9091</td></tr><tr><td>HL Mountain Frame - Black, 46</td><td>2011-05-31 00:00:00.000</td><td>2012-05-29 00:00:00.000</td><td>1191.1739</td></tr><tr><td>HL Mountain Frame - Black, 48</td><td>2011-05-31 00:00:00.000</td><td>2012-05-29 00:00:00.000</td><td>1349.60</td></tr><tr><td>HL Mountain Frame - Silver, 38</td><td>2013-05-30 00:00:00.000</td><td>NULL</td><td>1364.50</td></tr><tr><td>HL Mountain Frame - Silver, 38</td><td>2012-05-30 00:00:00.000</td><td>2013-05-29 00:00:00.000</td><td>1240.4545</td></tr><tr><td>HL Mountain Frame - Silver, 38</td><td>2011-05-31 00:00:00.000</td><td>2012-05-29 00:00:00.000</td><td>1204.3248</td></tr><tr><td>HL Mountain Frame - Silver, 42</td><td>2013-05-30 00:00:00.000</td><td>NULL</td><td>1364.50</td></tr><tr><td>HL Mountain Frame - Silver, 42</td><td>2012-05-30 00:00:00.000</td><td>2013-05-29 00:00:00.000</td><td>1240.4545</td></tr><tr><td>HL Mountain Frame - Silver, 42</td><td>2011-05-31 00:00:00.000</td><td>2012-05-29 00:00:00.000</td><td>1204.3248</td></tr><tr><td>HL Mountain Frame - Silver, 44</td><td>2011-05-31 00:00:00.000</td><td>2012-05-29 00:00:00.000</td><td>1364.50</td></tr><tr><td>HL Mountain Frame - Silver, 46</td><td>2013-05-30 00:00:00.000</td><td>NULL</td><td>1364.50</td></tr><tr><td>HL Mountain Frame - Silver, 46</td><td>2012-05-30 00:00:00.000</td><td>2013-05-29 00:00:00.000</td><td>1240.4545</td></tr><tr><td>HL Mountain Frame - Silver, 46</td><td>2011-05-31 00:00:00.000</td><td>2012-05-29 00:00:00.000</td><td>1204.3248</td></tr><tr><td>HL Mountain Frame - Silver, 48</td><td>2011-05-31 00:00:00.000</td><td>2012-05-29 00:00:00.000</td><td>1364.50</td></tr><tr><td>HL Mountain Front Wheel</td><td>2012-05-30 00:00:00.000</td><td>2013-05-29 00:00:00.000</td><td>300.215</td></tr><tr><td>HL Mountain Handlebars</td><td>2013-05-30 00:00:00.000</td><td>NULL</td><td>120.27</td></tr><tr><td>HL Mountain Handlebars</td><td>2012-05-30 00:00:00.000</td><td>2013-05-29 00:00:00.000</td><td>109.3364</td></tr><tr><td>HL Mountain Pedal</td><td>2013-05-30 00:00:00.000</td><td>NULL</td><td>80.99</td></tr><tr><td>HL Mountain Rear Wheel</td><td>2012-05-30 00:00:00.000</td><td>2013-05-29 00:00:00.000</td><td>327.215</td></tr><tr><td>HL Mountain Seat/Saddle</td><td>2013-05-30 00:00:00.000</td><td>NULL</td><td>52.64</td></tr><tr><td>HL Mountain Tire</td><td>2013-05-30 00:00:00.000</td><td>NULL</td><td>35.00</td></tr><tr><td>HL Road Frame - Black, 44</td><td>2013-05-30 00:00:00.000</td><td>NULL</td><td>1431.50</td></tr><tr><td>HL Road Frame - Black, 44</td><td>2012-05-30 00:00:00.000</td><td>2013-05-29 00:00:00.000</td><td>1301.3636</td></tr><tr><td>HL Road Frame - Black, 48</td><td>2013-05-30 00:00:00.000</td><td>NULL</td><td>1431.50</td></tr><tr><td>HL Road Frame - Black, 48</td><td>2012-05-30 00:00:00.000</td><td>2013-05-29 00:00:00.000</td><td>1301.3636</td></tr><tr><td>HL Road Frame - Black, 52</td><td>2013-05-30 00:00:00.000</td><td>NULL</td><td>1431.50</td></tr><tr><td>HL Road Frame - Black, 52</td><td>2012-05-30 00:00:00.000</td><td>2013-05-29 00:00:00.000</td><td>1301.3636</td></tr><tr><td>HL Road Frame - Black, 62</td><td>2013-05-30 00:00:00.000</td><td>NULL</td><td>1431.50</td></tr><tr><td>HL Road Frame - Black, 62</td><td>2012-05-30 00:00:00.000</td><td>2013-05-29 00:00:00.000</td><td>1301.3636</td></tr><tr><td>HL Road Frame - Red, 44</td><td>2013-05-30 00:00:00.000</td><td>NULL</td><td>1431.50</td></tr><tr><td>HL Road Frame - Red, 44</td><td>2012-05-30 00:00:00.000</td><td>2013-05-29 00:00:00.000</td><td>1301.3636</td></tr><tr><td>HL Road Frame - Red, 44</td><td>2011-05-31 00:00:00.000</td><td>2012-05-29 00:00:00.000</td><td>1263.4598</td></tr><tr><td>HL Road Frame - Red, 48</td><td>2013-05-30 00:00:00.000</td><td>NULL</td><td>1431.50</td></tr><tr><td>HL Road Frame - Red, 48</td><td>2012-05-30 00:00:00.000</td><td>2013-05-29 00:00:00.000</td><td>1301.3636</td></tr><tr><td>HL Road Frame - Red, 48</td><td>2011-05-31 00:00:00.000</td><td>2012-05-29 00:00:00.000</td><td>1263.4598</td></tr><tr><td>HL Road Frame - Red, 52</td><td>2013-05-30 00:00:00.000</td><td>NULL</td><td>1431.50</td></tr><tr><td>HL Road Frame - Red, 52</td><td>2012-05-30 00:00:00.000</td><td>2013-05-29 00:00:00.000</td><td>1301.3636</td></tr><tr><td>HL Road Frame - Red, 52</td><td>2011-05-31 00:00:00.000</td><td>2012-05-29 00:00:00.000</td><td>1263.4598</td></tr><tr><td>HL Road Frame - Red, 56</td><td>2013-05-30 00:00:00.000</td><td>NULL</td><td>1431.50</td></tr><tr><td>HL Road Frame - Red, 56</td><td>2012-05-30 00:00:00.000</td><td>2013-05-29 00:00:00.000</td><td>1301.3636</td></tr><tr><td>HL Road Frame - Red, 56</td><td>2011-05-31 00:00:00.000</td><td>2012-05-29 00:00:00.000</td><td>1263.4598</td></tr><tr><td>HL Road Frame - Red, 62</td><td>2013-05-30 00:00:00.000</td><td>NULL</td><td>1431.50</td></tr><tr><td>HL Road Frame - Red, 62</td><td>2012-05-30 00:00:00.000</td><td>2013-05-29 00:00:00.000</td><td>1301.3636</td></tr><tr><td>HL Road Frame - Red, 62</td><td>2011-05-31 00:00:00.000</td><td>2012-05-29 00:00:00.000</td><td>1263.4598</td></tr><tr><td>HL Road Front Wheel</td><td>2012-05-30 00:00:00.000</td><td>2013-05-29 00:00:00.000</td><td>330.06</td></tr><tr><td>HL Road Handlebars</td><td>2013-05-30 00:00:00.000</td><td>NULL</td><td>120.27</td></tr><tr><td>HL Road Handlebars</td><td>2012-05-30 00:00:00.000</td><td>2013-05-29 00:00:00.000</td><td>109.3364</td></tr><tr><td>HL Road Pedal</td><td>2013-05-30 00:00:00.000</td><td>NULL</td><td>80.99</td></tr><tr><td>HL Road Rear Wheel</td><td>2012-05-30 00:00:00.000</td><td>2013-05-29 00:00:00.000</td><td>357.06</td></tr><tr><td>HL Road Seat/Saddle</td><td>2013-05-30 00:00:00.000</td><td>NULL</td><td>52.64</td></tr><tr><td>HL Road Tire</td><td>2013-05-30 00:00:00.000</td><td>NULL</td><td>32.60</td></tr><tr><td>HL Touring Frame - Blue, 46</td><td>2013-05-30 00:00:00.000</td><td>NULL</td><td>1003.91</td></tr><tr><td>HL Touring Frame - Blue, 50</td><td>2013-05-30 00:00:00.000</td><td>NULL</td><td>1003.91</td></tr><tr><td>HL Touring Frame - Blue, 54</td><td>2013-05-30 00:00:00.000</td><td>NULL</td><td>1003.91</td></tr><tr><td>HL Touring Frame - Blue, 60</td><td>2013-05-30 00:00:00.000</td><td>NULL</td><td>1003.91</td></tr><tr><td>HL Touring Frame - Yellow, 46</td><td>2013-05-30 00:00:00.000</td><td>NULL</td><td>1003.91</td></tr><tr><td>HL Touring Frame - Yellow, 50</td><td>2013-05-30 00:00:00.000</td><td>NULL</td><td>1003.91</td></tr><tr><td>HL Touring Frame - Yellow, 54</td><td>2013-05-30 00:00:00.000</td><td>NULL</td><td>1003.91</td></tr><tr><td>HL Touring Frame - Yellow, 60</td><td>2013-05-30 00:00:00.000</td><td>NULL</td><td>1003.91</td></tr><tr><td>HL Touring Handlebars</td><td>2013-05-30 00:00:00.000</td><td>NULL</td><td>91.57</td></tr><tr><td>HL Touring Seat/Saddle</td><td>2013-05-30 00:00:00.000</td><td>NULL</td><td>52.64</td></tr><tr><td>Hydration Pack - 70 oz.</td><td>2013-05-30 00:00:00.000</td><td>NULL</td><td>54.99</td></tr><tr><td>LL Bottom Bracket</td><td>2013-05-30 00:00:00.000</td><td>NULL</td><td>53.99</td></tr><tr><td>LL Crankset</td><td>2013-05-30 00:00:00.000</td><td>NULL</td><td>175.49</td></tr><tr><td>LL Fork</td><td>2012-05-30 00:00:00.000</td><td>2013-05-29 00:00:00.000</td><td>148.22</td></tr><tr><td>LL Headset</td><td>2012-05-30 00:00:00.000</td><td>2013-05-29 00:00:00.000</td><td>34.20</td></tr><tr><td>LL Mountain Frame - Black, 40</td><td>2013-05-30 00:00:00.000</td><td>NULL</td><td>249.79</td></tr><tr><td>LL Mountain Frame - Black, 42</td><td>2013-05-30 00:00:00.000</td><td>NULL</td><td>249.79</td></tr><tr><td>LL Mountain Frame - Black, 44</td><td>2013-05-30 00:00:00.000</td><td>NULL</td><td>249.79</td></tr><tr><td>LL Mountain Frame - Black, 48</td><td>2013-05-30 00:00:00.000</td><td>NULL</td><td>249.79</td></tr><tr><td>LL Mountain Frame - Black, 52</td><td>2013-05-30 00:00:00.000</td><td>NULL</td><td>249.79</td></tr><tr><td>LL Mountain Frame - Silver, 40</td><td>2013-05-30 00:00:00.000</td><td>NULL</td><td>264.05</td></tr><tr><td>LL Mountain Frame - Silver, 42</td><td>2013-05-30 00:00:00.000</td><td>NULL</td><td>264.05</td></tr><tr><td>LL Mountain Frame - Silver, 44</td><td>2013-05-30 00:00:00.000</td><td>NULL</td><td>264.05</td></tr><tr><td>LL Mountain Frame - Silver, 48</td><td>2013-05-30 00:00:00.000</td><td>NULL</td><td>264.05</td></tr><tr><td>LL Mountain Frame - Silver, 52</td><td>2013-05-30 00:00:00.000</td><td>NULL</td><td>264.05</td></tr><tr><td>LL Mountain Front Wheel</td><td>2012-05-30 00:00:00.000</td><td>2013-05-29 00:00:00.000</td><td>60.745</td></tr><tr><td>LL Mountain Handlebars</td><td>2013-05-30 00:00:00.000</td><td>NULL</td><td>44.54</td></tr><tr><td>LL Mountain Handlebars</td><td>2012-05-30 00:00:00.000</td><td>2013-05-29 00:00:00.000</td><td>40.4909</td></tr><tr><td>LL Mountain Pedal</td><td>2013-05-30 00:00:00.000</td><td>NULL</td><td>40.49</td></tr><tr><td>LL Mountain Rear Wheel</td><td>2012-05-30 00:00:00.000</td><td>2013-05-29 00:00:00.000</td><td>87.745</td></tr><tr><td>LL Mountain Seat/Saddle</td><td>2013-05-30 00:00:00.000</td><td>NULL</td><td>27.12</td></tr><tr><td>LL Mountain Tire</td><td>2013-05-30 00:00:00.000</td><td>NULL</td><td>24.99</td></tr><tr><td>LL Road Frame - Black, 44</td><td>2013-05-30 00:00:00.000</td><td>NULL</td><td>337.22</td></tr><tr><td>LL Road Frame - Black, 44</td><td>2012-05-30 00:00:00.000</td><td>2013-05-29 00:00:00.000</td><td>306.5636</td></tr><tr><td>LL Road Frame - Black, 44</td><td>2011-05-31 00:00:00.000</td><td>2012-05-29 00:00:00.000</td><td>297.6346</td></tr><tr><td>LL Road Frame - Black, 48</td><td>2013-05-30 00:00:00.000</td><td>NULL</td><td>337.22</td></tr><tr><td>LL Road Frame - Black, 48</td><td>2012-05-30 00:00:00.000</td><td>2013-05-29 00:00:00.000</td><td>306.5636</td></tr><tr><td>LL Road Frame - Black, 48</td><td>2011-05-31 00:00:00.000</td><td>2012-05-29 00:00:00.000</td><td>297.6346</td></tr><tr><td>LL Road Frame - Black, 52</td><td>2013-05-30 00:00:00.000</td><td>NULL</td><td>337.22</td></tr><tr><td>LL Road Frame - Black, 52</td><td>2012-05-30 00:00:00.000</td><td>2013-05-29 00:00:00.000</td><td>306.5636</td></tr><tr><td>LL Road Frame - Black, 52</td><td>2011-05-31 00:00:00.000</td><td>2012-05-29 00:00:00.000</td><td>297.6346</td></tr><tr><td>LL Road Frame - Black, 58</td><td>2013-05-30 00:00:00.000</td><td>NULL</td><td>337.22</td></tr><tr><td>LL Road Frame - Black, 58</td><td>2012-05-30 00:00:00.000</td><td>2013-05-29 00:00:00.000</td><td>306.5636</td></tr><tr><td>LL Road Frame - Black, 58</td><td>2011-05-31 00:00:00.000</td><td>2012-05-29 00:00:00.000</td><td>297.6346</td></tr><tr><td>LL Road Frame - Black, 60</td><td>2013-05-30 00:00:00.000</td><td>NULL</td><td>337.22</td></tr><tr><td>LL Road Frame - Black, 60</td><td>2012-05-30 00:00:00.000</td><td>2013-05-29 00:00:00.000</td><td>306.5636</td></tr><tr><td>LL Road Frame - Black, 60</td><td>2011-05-31 00:00:00.000</td><td>2012-05-29 00:00:00.000</td><td>297.6346</td></tr><tr><td>LL Road Frame - Black, 62</td><td>2013-05-30 00:00:00.000</td><td>NULL</td><td>337.22</td></tr><tr><td>LL Road Frame - Black, 62</td><td>2012-05-30 00:00:00.000</td><td>2013-05-29 00:00:00.000</td><td>306.5636</td></tr><tr><td>LL Road Frame - Black, 62</td><td>2011-05-31 00:00:00.000</td><td>2012-05-29 00:00:00.000</td><td>297.6346</td></tr><tr><td>LL Road Frame - Red, 44</td><td>2012-05-30 00:00:00.000</td><td>2013-05-29 00:00:00.000</td><td>337.22</td></tr><tr><td>LL Road Frame - Red, 44</td><td>2011-05-31 00:00:00.000</td><td>2012-05-29 00:00:00.000</td><td>306.5636</td></tr><tr><td>LL Road Frame - Red, 48</td><td>2012-05-30 00:00:00.000</td><td>2013-05-29 00:00:00.000</td><td>337.22</td></tr><tr><td>LL Road Frame - Red, 48</td><td>2011-05-31 00:00:00.000</td><td>2012-05-29 00:00:00.000</td><td>306.5636</td></tr><tr><td>LL Road Frame - Red, 52</td><td>2012-05-30 00:00:00.000</td><td>2013-05-29 00:00:00.000</td><td>337.22</td></tr><tr><td>LL Road Frame - Red, 52</td><td>2011-05-31 00:00:00.000</td><td>2012-05-29 00:00:00.000</td><td>306.5636</td></tr><tr><td>LL Road Frame - Red, 58</td><td>2012-05-30 00:00:00.000</td><td>2013-05-29 00:00:00.000</td><td>337.22</td></tr><tr><td>LL Road Frame - Red, 58</td><td>2011-05-31 00:00:00.000</td><td>2012-05-29 00:00:00.000</td><td>306.5636</td></tr><tr><td>LL Road Frame - Red, 60</td><td>2012-05-30 00:00:00.000</td><td>2013-05-29 00:00:00.000</td><td>337.22</td></tr><tr><td>LL Road Frame - Red, 60</td><td>2011-05-31 00:00:00.000</td><td>2012-05-29 00:00:00.000</td><td>306.5636</td></tr><tr><td>LL Road Frame - Red, 62</td><td>2012-05-30 00:00:00.000</td><td>2013-05-29 00:00:00.000</td><td>337.22</td></tr><tr><td>LL Road Frame - Red, 62</td><td>2011-05-31 00:00:00.000</td><td>2012-05-29 00:00:00.000</td><td>306.5636</td></tr><tr><td>LL Road Front Wheel</td><td>2012-05-30 00:00:00.000</td><td>2013-05-29 00:00:00.000</td><td>85.565</td></tr><tr><td>LL Road Handlebars</td><td>2013-05-30 00:00:00.000</td><td>NULL</td><td>44.54</td></tr><tr><td>LL Road Handlebars</td><td>2012-05-30 00:00:00.000</td><td>2013-05-29 00:00:00.000</td><td>40.4909</td></tr><tr><td>LL Road Pedal</td><td>2013-05-30 00:00:00.000</td><td>NULL</td><td>40.49</td></tr><tr><td>LL Road Rear Wheel</td><td>2012-05-30 00:00:00.000</td><td>2013-05-29 00:00:00.000</td><td>112.565</td></tr><tr><td>LL Road Seat/Saddle</td><td>2013-05-30 00:00:00.000</td><td>NULL</td><td>27.12</td></tr><tr><td>LL Road Tire</td><td>2013-05-30 00:00:00.000</td><td>NULL</td><td>21.49</td></tr><tr><td>LL Touring Frame - Blue, 44</td><td>2013-05-30 00:00:00.000</td><td>NULL</td><td>333.42</td></tr><tr><td>LL Touring Frame - Blue, 50</td><td>2013-05-30 00:00:00.000</td><td>NULL</td><td>333.42</td></tr><tr><td>LL Touring Frame - Blue, 54</td><td>2013-05-30 00:00:00.000</td><td>NULL</td><td>333.42</td></tr><tr><td>LL Touring Frame - Blue, 58</td><td>2013-05-30 00:00:00.000</td><td>NULL</td><td>333.42</td></tr><tr><td>LL Touring Frame - Blue, 62</td><td>2013-05-30 00:00:00.000</td><td>NULL</td><td>333.42</td></tr><tr><td>LL Touring Frame - Yellow, 44</td><td>2013-05-30 00:00:00.000</td><td>NULL</td><td>333.42</td></tr><tr><td>LL Touring Frame - Yellow, 50</td><td>2013-05-30 00:00:00.000</td><td>NULL</td><td>333.42</td></tr><tr><td>LL Touring Frame - Yellow, 54</td><td>2013-05-30 00:00:00.000</td><td>NULL</td><td>333.42</td></tr><tr><td>LL Touring Frame - Yellow, 58</td><td>2013-05-30 00:00:00.000</td><td>NULL</td><td>333.42</td></tr><tr><td>LL Touring Frame - Yellow, 62</td><td>2013-05-30 00:00:00.000</td><td>NULL</td><td>333.42</td></tr><tr><td>LL Touring Handlebars</td><td>2013-05-30 00:00:00.000</td><td>NULL</td><td>46.09</td></tr><tr><td>LL Touring Seat/Saddle</td><td>2013-05-30 00:00:00.000</td><td>NULL</td><td>27.12</td></tr><tr><td>Long-Sleeve Logo Jersey, L</td><td>2013-05-30 00:00:00.000</td><td>NULL</td><td>49.99</td></tr><tr><td>Long-Sleeve Logo Jersey, L</td><td>2012-05-30 00:00:00.000</td><td>2013-05-29 00:00:00.000</td><td>48.0673</td></tr><tr><td>Long-Sleeve Logo Jersey, L</td><td>2011-05-31 00:00:00.000</td><td>2012-05-29 00:00:00.000</td><td>48.0673</td></tr><tr><td>Long-Sleeve Logo Jersey, M</td><td>2013-05-30 00:00:00.000</td><td>NULL</td><td>49.99</td></tr><tr><td>Long-Sleeve Logo Jersey, M</td><td>2012-05-30 00:00:00.000</td><td>2013-05-29 00:00:00.000</td><td>48.0673</td></tr><tr><td>Long-Sleeve Logo Jersey, M</td><td>2011-05-31 00:00:00.000</td><td>2012-05-29 00:00:00.000</td><td>48.0673</td></tr><tr><td>Long-Sleeve Logo Jersey, S</td><td>2013-05-30 00:00:00.000</td><td>NULL</td><td>49.99</td></tr><tr><td>Long-Sleeve Logo Jersey, S</td><td>2012-05-30 00:00:00.000</td><td>2013-05-29 00:00:00.000</td><td>48.0673</td></tr><tr><td>Long-Sleeve Logo Jersey, S</td><td>2011-05-31 00:00:00.000</td><td>2012-05-29 00:00:00.000</td><td>48.0673</td></tr><tr><td>Long-Sleeve Logo Jersey, XL</td><td>2013-05-30 00:00:00.000</td><td>NULL</td><td>49.99</td></tr><tr><td>Long-Sleeve Logo Jersey, XL</td><td>2012-05-30 00:00:00.000</td><td>2013-05-29 00:00:00.000</td><td>48.0673</td></tr><tr><td>Long-Sleeve Logo Jersey, XL</td><td>2011-05-31 00:00:00.000</td><td>2012-05-29 00:00:00.000</td><td>48.0673</td></tr><tr><td>Men&#39;s Bib-Shorts, L</td><td>2012-05-30 00:00:00.000</td><td>2013-05-29 00:00:00.000</td><td>89.99</td></tr><tr><td>Men&#39;s Bib-Shorts, M</td><td>2012-05-30 00:00:00.000</td><td>2013-05-29 00:00:00.000</td><td>89.99</td></tr><tr><td>Men&#39;s Bib-Shorts, S</td><td>2012-05-30 00:00:00.000</td><td>2013-05-29 00:00:00.000</td><td>89.99</td></tr><tr><td>Men&#39;s Sports Shorts, L</td><td>2012-05-30 00:00:00.000</td><td>2013-05-29 00:00:00.000</td><td>59.99</td></tr><tr><td>Men&#39;s Sports Shorts, M</td><td>2012-05-30 00:00:00.000</td><td>2013-05-29 00:00:00.000</td><td>59.99</td></tr><tr><td>Men&#39;s Sports Shorts, S</td><td>2012-05-30 00:00:00.000</td><td>2013-05-29 00:00:00.000</td><td>59.99</td></tr><tr><td>Men&#39;s Sports Shorts, XL</td><td>2012-05-30 00:00:00.000</td><td>2013-05-29 00:00:00.000</td><td>59.99</td></tr><tr><td>Minipump</td><td>2012-05-30 00:00:00.000</td><td>2013-05-29 00:00:00.000</td><td>19.99</td></tr><tr><td>ML Bottom Bracket</td><td>2013-05-30 00:00:00.000</td><td>NULL</td><td>101.24</td></tr><tr><td>ML Crankset</td><td>2013-05-30 00:00:00.000</td><td>NULL</td><td>256.49</td></tr><tr><td>ML Fork</td><td>2012-05-30 00:00:00.000</td><td>2013-05-29 00:00:00.000</td><td>175.49</td></tr><tr><td>ML Headset</td><td>2012-05-30 00:00:00.000</td><td>2013-05-29 00:00:00.000</td><td>102.29</td></tr><tr><td>ML Mountain Frame - Black, 38</td><td>2012-05-30 00:00:00.000</td><td>2013-05-29 00:00:00.000</td><td>348.76</td></tr><tr><td>ML Mountain Frame - Black, 40</td><td>2012-05-30 00:00:00.000</td><td>2013-05-29 00:00:00.000</td><td>348.76</td></tr><tr><td>ML Mountain Frame - Black, 44</td><td>2012-05-30 00:00:00.000</td><td>2013-05-29 00:00:00.000</td><td>348.76</td></tr><tr><td>ML Mountain Frame - Black, 48</td><td>2012-05-30 00:00:00.000</td><td>2013-05-29 00:00:00.000</td><td>348.76</td></tr><tr><td>ML Mountain Frame-W - Silver, 38</td><td>2013-05-30 00:00:00.000</td><td>NULL</td><td>364.09</td></tr><tr><td>ML Mountain Frame-W - Silver, 40</td><td>2013-05-30 00:00:00.000</td><td>NULL</td><td>364.09</td></tr><tr><td>ML Mountain Frame-W - Silver, 42</td><td>2013-05-30 00:00:00.000</td><td>NULL</td><td>364.09</td></tr><tr><td>ML Mountain Frame-W - Silver, 46</td><td>2013-05-30 00:00:00.000</td><td>NULL</td><td>364.09</td></tr><tr><td>ML Mountain Front Wheel</td><td>2012-05-30 00:00:00.000</td><td>2013-05-29 00:00:00.000</td><td>209.025</td></tr><tr><td>ML Mountain Handlebars</td><td>2013-05-30 00:00:00.000</td><td>NULL</td><td>61.92</td></tr><tr><td>ML Mountain Handlebars</td><td>2012-05-30 00:00:00.000</td><td>2013-05-29 00:00:00.000</td><td>56.2909</td></tr><tr><td>ML Mountain Pedal</td><td>2013-05-30 00:00:00.000</td><td>NULL</td><td>62.09</td></tr><tr><td>ML Mountain Rear Wheel</td><td>2012-05-30 00:00:00.000</td><td>2013-05-29 00:00:00.000</td><td>236.025</td></tr><tr><td>ML Mountain Seat/Saddle</td><td>2013-05-30 00:00:00.000</td><td>NULL</td><td>39.14</td></tr><tr><td>ML Mountain Tire</td><td>2013-05-30 00:00:00.000</td><td>NULL</td><td>29.99</td></tr><tr><td>ML Road Frame - Red, 44</td><td>2011-05-31 00:00:00.000</td><td>2012-05-29 00:00:00.000</td><td>594.83</td></tr><tr><td>ML Road Frame - Red, 48</td><td>2011-05-31 00:00:00.000</td><td>2012-05-29 00:00:00.000</td><td>594.83</td></tr><tr><td>ML Road Frame - Red, 52</td><td>2011-05-31 00:00:00.000</td><td>2012-05-29 00:00:00.000</td><td>594.83</td></tr><tr><td>ML Road Frame - Red, 58</td><td>2011-05-31 00:00:00.000</td><td>2012-05-29 00:00:00.000</td><td>594.83</td></tr><tr><td>ML Road Frame - Red, 60</td><td>2011-05-31 00:00:00.000</td><td>2012-05-29 00:00:00.000</td><td>594.83</td></tr><tr><td>ML Road Frame-W - Yellow, 38</td><td>2013-05-30 00:00:00.000</td><td>NULL</td><td>594.83</td></tr><tr><td>ML Road Frame-W - Yellow, 38</td><td>2012-05-30 00:00:00.000</td><td>2013-05-29 00:00:00.000</td><td>540.7545</td></tr><tr><td>ML Road Frame-W - Yellow, 40</td><td>2013-05-30 00:00:00.000</td><td>NULL</td><td>594.83</td></tr><tr><td>ML Road Frame-W - Yellow, 40</td><td>2012-05-30 00:00:00.000</td><td>2013-05-29 00:00:00.000</td><td>540.7545</td></tr><tr><td>ML Road Frame-W - Yellow, 42</td><td>2013-05-30 00:00:00.000</td><td>NULL</td><td>594.83</td></tr><tr><td>ML Road Frame-W - Yellow, 42</td><td>2012-05-30 00:00:00.000</td><td>2013-05-29 00:00:00.000</td><td>540.7545</td></tr><tr><td>ML Road Frame-W - Yellow, 44</td><td>2013-05-30 00:00:00.000</td><td>NULL</td><td>594.83</td></tr><tr><td>ML Road Frame-W - Yellow, 44</td><td>2012-05-30 00:00:00.000</td><td>2013-05-29 00:00:00.000</td><td>540.7545</td></tr><tr><td>ML Road Frame-W - Yellow, 48</td><td>2013-05-30 00:00:00.000</td><td>NULL</td><td>594.83</td></tr><tr><td>ML Road Frame-W - Yellow, 48</td><td>2012-05-30 00:00:00.000</td><td>2013-05-29 00:00:00.000</td><td>540.7545</td></tr><tr><td>ML Road Front Wheel</td><td>2012-05-30 00:00:00.000</td><td>2013-05-29 00:00:00.000</td><td>248.385</td></tr><tr><td>ML Road Handlebars</td><td>2013-05-30 00:00:00.000</td><td>NULL</td><td>61.92</td></tr><tr><td>ML Road Handlebars</td><td>2012-05-30 00:00:00.000</td><td>2013-05-29 00:00:00.000</td><td>56.2909</td></tr><tr><td>ML Road Pedal</td><td>2013-05-30 00:00:00.000</td><td>NULL</td><td>62.09</td></tr><tr><td>ML Road Rear Wheel</td><td>2012-05-30 00:00:00.000</td><td>2013-05-29 00:00:00.000</td><td>275.385</td></tr><tr><td>ML Road Seat/Saddle</td><td>2013-05-30 00:00:00.000</td><td>NULL</td><td>39.14</td></tr><tr><td>ML Road Tire</td><td>2013-05-30 00:00:00.000</td><td>NULL</td><td>24.99</td></tr><tr><td>ML Touring Seat/Saddle</td><td>2013-05-30 00:00:00.000</td><td>NULL</td><td>39.14</td></tr><tr><td>Mountain Bike Socks, L</td><td>2011-05-31 00:00:00.000</td><td>2012-05-29 00:00:00.000</td><td>9.50</td></tr><tr><td>Mountain Bike Socks, M</td><td>2011-05-31 00:00:00.000</td><td>2012-05-29 00:00:00.000</td><td>9.50</td></tr><tr><td>Mountain Bottle Cage</td><td>2013-05-30 00:00:00.000</td><td>NULL</td><td>9.99</td></tr><tr><td>Mountain Pump</td><td>2012-05-30 00:00:00.000</td><td>2013-05-29 00:00:00.000</td><td>24.99</td></tr><tr><td>Mountain Tire Tube</td><td>2013-05-30 00:00:00.000</td><td>NULL</td><td>4.99</td></tr><tr><td>Mountain-100 Black, 38</td><td>2011-05-31 00:00:00.000</td><td>2012-05-29 00:00:00.000</td><td>3374.99</td></tr><tr><td>Mountain-100 Black, 42</td><td>2011-05-31 00:00:00.000</td><td>2012-05-29 00:00:00.000</td><td>3374.99</td></tr><tr><td>Mountain-100 Black, 44</td><td>2011-05-31 00:00:00.000</td><td>2012-05-29 00:00:00.000</td><td>3374.99</td></tr><tr><td>Mountain-100 Black, 48</td><td>2011-05-31 00:00:00.000</td><td>2012-05-29 00:00:00.000</td><td>3374.99</td></tr><tr><td>Mountain-100 Silver, 38</td><td>2011-05-31 00:00:00.000</td><td>2012-05-29 00:00:00.000</td><td>3399.99</td></tr><tr><td>Mountain-100 Silver, 42</td><td>2011-05-31 00:00:00.000</td><td>2012-05-29 00:00:00.000</td><td>3399.99</td></tr><tr><td>Mountain-100 Silver, 44</td><td>2011-05-31 00:00:00.000</td><td>2012-05-29 00:00:00.000</td><td>3399.99</td></tr><tr><td>Mountain-100 Silver, 48</td><td>2011-05-31 00:00:00.000</td><td>2012-05-29 00:00:00.000</td><td>3399.99</td></tr><tr><td>Mountain-200 Black, 38</td><td>2013-05-30 00:00:00.000</td><td>NULL</td><td>2294.99</td></tr><tr><td>Mountain-200 Black, 38</td><td>2012-05-30 00:00:00.000</td><td>2013-05-29 00:00:00.000</td><td>2049.0982</td></tr><tr><td>Mountain-200 Black, 42</td><td>2013-05-30 00:00:00.000</td><td>NULL</td><td>2294.99</td></tr><tr><td>Mountain-200 Black, 42</td><td>2012-05-30 00:00:00.000</td><td>2013-05-29 00:00:00.000</td><td>2049.0982</td></tr><tr><td>Mountain-200 Black, 46</td><td>2013-05-30 00:00:00.000</td><td>NULL</td><td>2294.99</td></tr><tr><td>Mountain-200 Black, 46</td><td>2012-05-30 00:00:00.000</td><td>2013-05-29 00:00:00.000</td><td>2049.0982</td></tr><tr><td>Mountain-200 Silver, 38</td><td>2013-05-30 00:00:00.000</td><td>NULL</td><td>2319.99</td></tr><tr><td>Mountain-200 Silver, 38</td><td>2012-05-30 00:00:00.000</td><td>2013-05-29 00:00:00.000</td><td>2071.4196</td></tr><tr><td>Mountain-200 Silver, 42</td><td>2013-05-30 00:00:00.000</td><td>NULL</td><td>2319.99</td></tr><tr><td>Mountain-200 Silver, 42</td><td>2012-05-30 00:00:00.000</td><td>2013-05-29 00:00:00.000</td><td>2071.4196</td></tr><tr><td>Mountain-200 Silver, 46</td><td>2013-05-30 00:00:00.000</td><td>NULL</td><td>2319.99</td></tr><tr><td>Mountain-200 Silver, 46</td><td>2012-05-30 00:00:00.000</td><td>2013-05-29 00:00:00.000</td><td>2071.4196</td></tr><tr><td>Mountain-300 Black, 38</td><td>2012-05-30 00:00:00.000</td><td>2013-05-29 00:00:00.000</td><td>1079.99</td></tr><tr><td>Mountain-300 Black, 40</td><td>2012-05-30 00:00:00.000</td><td>2013-05-29 00:00:00.000</td><td>1079.99</td></tr><tr><td>Mountain-300 Black, 44</td><td>2012-05-30 00:00:00.000</td><td>2013-05-29 00:00:00.000</td><td>1079.99</td></tr><tr><td>Mountain-300 Black, 48</td><td>2012-05-30 00:00:00.000</td><td>2013-05-29 00:00:00.000</td><td>1079.99</td></tr><tr><td>Mountain-400-W Silver, 38</td><td>2013-05-30 00:00:00.000</td><td>NULL</td><td>769.49</td></tr><tr><td>Mountain-400-W Silver, 40</td><td>2013-05-30 00:00:00.000</td><td>NULL</td><td>769.49</td></tr><tr><td>Mountain-400-W Silver, 42</td><td>2013-05-30 00:00:00.000</td><td>NULL</td><td>769.49</td></tr><tr><td>Mountain-400-W Silver, 46</td><td>2013-05-30 00:00:00.000</td><td>NULL</td><td>769.49</td></tr><tr><td>Mountain-500 Black, 40</td><td>2013-05-30 00:00:00.000</td><td>NULL</td><td>539.99</td></tr><tr><td>Mountain-500 Black, 42</td><td>2013-05-30 00:00:00.000</td><td>NULL</td><td>539.99</td></tr><tr><td>Mountain-500 Black, 44</td><td>2013-05-30 00:00:00.000</td><td>NULL</td><td>539.99</td></tr><tr><td>Mountain-500 Black, 48</td><td>2013-05-30 00:00:00.000</td><td>NULL</td><td>539.99</td></tr><tr><td>Mountain-500 Black, 52</td><td>2013-05-30 00:00:00.000</td><td>NULL</td><td>539.99</td></tr><tr><td>Mountain-500 Silver, 40</td><td>2013-05-30 00:00:00.000</td><td>NULL</td><td>564.99</td></tr><tr><td>Mountain-500 Silver, 42</td><td>2013-05-30 00:00:00.000</td><td>NULL</td><td>564.99</td></tr><tr><td>Mountain-500 Silver, 44</td><td>2013-05-30 00:00:00.000</td><td>NULL</td><td>564.99</td></tr><tr><td>Mountain-500 Silver, 48</td><td>2013-05-30 00:00:00.000</td><td>NULL</td><td>564.99</td></tr><tr><td>Mountain-500 Silver, 52</td><td>2013-05-30 00:00:00.000</td><td>NULL</td><td>564.99</td></tr><tr><td>Patch Kit/8 Patches</td><td>2013-05-30 00:00:00.000</td><td>NULL</td><td>2.29</td></tr><tr><td>Racing Socks, L</td><td>2013-05-30 00:00:00.000</td><td>NULL</td><td>8.99</td></tr><tr><td>Racing Socks, M</td><td>2013-05-30 00:00:00.000</td><td>NULL</td><td>8.99</td></tr><tr><td>Rear Brakes</td><td>2013-05-30 00:00:00.000</td><td>NULL</td><td>106.50</td></tr><tr><td>Rear Derailleur</td><td>2013-05-30 00:00:00.000</td><td>NULL</td><td>121.46</td></tr><tr><td>Road Bottle Cage</td><td>2013-05-30 00:00:00.000</td><td>NULL</td><td>8.99</td></tr><tr><td>Road Tire Tube</td><td>2013-05-30 00:00:00.000</td><td>NULL</td><td>3.99</td></tr><tr><td>Road-150 Red, 44</td><td>2011-05-31 00:00:00.000</td><td>2012-05-29 00:00:00.000</td><td>3578.27</td></tr><tr><td>Road-150 Red, 48</td><td>2011-05-31 00:00:00.000</td><td>2012-05-29 00:00:00.000</td><td>3578.27</td></tr><tr><td>Road-150 Red, 52</td><td>2011-05-31 00:00:00.000</td><td>2012-05-29 00:00:00.000</td><td>3578.27</td></tr><tr><td>Road-150 Red, 56</td><td>2011-05-31 00:00:00.000</td><td>2012-05-29 00:00:00.000</td><td>3578.27</td></tr><tr><td>Road-150 Red, 62</td><td>2011-05-31 00:00:00.000</td><td>2012-05-29 00:00:00.000</td><td>3578.27</td></tr><tr><td>Road-250 Black, 44</td><td>2013-05-30 00:00:00.000</td><td>NULL</td><td>2443.35</td></tr><tr><td>Road-250 Black, 44</td><td>2012-05-30 00:00:00.000</td><td>2013-05-29 00:00:00.000</td><td>2181.5625</td></tr><tr><td>Road-250 Black, 48</td><td>2013-05-30 00:00:00.000</td><td>NULL</td><td>2443.35</td></tr><tr><td>Road-250 Black, 48</td><td>2012-05-30 00:00:00.000</td><td>2013-05-29 00:00:00.000</td><td>2181.5625</td></tr><tr><td>Road-250 Black, 52</td><td>2013-05-30 00:00:00.000</td><td>NULL</td><td>2443.35</td></tr><tr><td>Road-250 Black, 52</td><td>2012-05-30 00:00:00.000</td><td>2013-05-29 00:00:00.000</td><td>2181.5625</td></tr><tr><td>Road-250 Black, 58</td><td>2013-05-30 00:00:00.000</td><td>NULL</td><td>2443.35</td></tr><tr><td>Road-250 Black, 58</td><td>2012-05-30 00:00:00.000</td><td>2013-05-29 00:00:00.000</td><td>2181.5625</td></tr><tr><td>Road-250 Red, 44</td><td>2012-05-30 00:00:00.000</td><td>2013-05-29 00:00:00.000</td><td>2443.35</td></tr><tr><td>Road-250 Red, 48</td><td>2012-05-30 00:00:00.000</td><td>2013-05-29 00:00:00.000</td><td>2443.35</td></tr><tr><td>Road-250 Red, 52</td><td>2012-05-30 00:00:00.000</td><td>2013-05-29 00:00:00.000</td><td>2443.35</td></tr><tr><td>Road-250 Red, 58</td><td>2013-05-30 00:00:00.000</td><td>NULL</td><td>2443.35</td></tr><tr><td>Road-250 Red, 58</td><td>2012-05-30 00:00:00.000</td><td>2013-05-29 00:00:00.000</td><td>2181.5625</td></tr><tr><td>Road-350-W Yellow, 40</td><td>2013-05-30 00:00:00.000</td><td>NULL</td><td>1700.99</td></tr><tr><td>Road-350-W Yellow, 42</td><td>2013-05-30 00:00:00.000</td><td>NULL</td><td>1700.99</td></tr><tr><td>Road-350-W Yellow, 44</td><td>2013-05-30 00:00:00.000</td><td>NULL</td><td>1700.99</td></tr><tr><td>Road-350-W Yellow, 48</td><td>2013-05-30 00:00:00.000</td><td>NULL</td><td>1700.99</td></tr><tr><td>Road-450 Red, 44</td><td>2011-05-31 00:00:00.000</td><td>2012-05-29 00:00:00.000</td><td>1457.99</td></tr><tr><td>Road-450 Red, 48</td><td>2011-05-31 00:00:00.000</td><td>2012-05-29 00:00:00.000</td><td>1457.99</td></tr><tr><td>Road-450 Red, 52</td><td>2011-05-31 00:00:00.000</td><td>2012-05-29 00:00:00.000</td><td>1457.99</td></tr><tr><td>Road-450 Red, 58</td><td>2011-05-31 00:00:00.000</td><td>2012-05-29 00:00:00.000</td><td>1457.99</td></tr><tr><td>Road-450 Red, 60</td><td>2011-05-31 00:00:00.000</td><td>2012-05-29 00:00:00.000</td><td>1457.99</td></tr><tr><td>Road-550-W Yellow, 38</td><td>2013-05-30 00:00:00.000</td><td>NULL</td><td>1120.49</td></tr><tr><td>Road-550-W Yellow, 38</td><td>2012-05-30 00:00:00.000</td><td>2013-05-29 00:00:00.000</td><td>1000.4375</td></tr><tr><td>Road-550-W Yellow, 40</td><td>2013-05-30 00:00:00.000</td><td>NULL</td><td>1120.49</td></tr><tr><td>Road-550-W Yellow, 40</td><td>2012-05-30 00:00:00.000</td><td>2013-05-29 00:00:00.000</td><td>1000.4375</td></tr><tr><td>Road-550-W Yellow, 42</td><td>2013-05-30 00:00:00.000</td><td>NULL</td><td>1120.49</td></tr><tr><td>Road-550-W Yellow, 42</td><td>2012-05-30 00:00:00.000</td><td>2013-05-29 00:00:00.000</td><td>1000.4375</td></tr><tr><td>Road-550-W Yellow, 44</td><td>2013-05-30 00:00:00.000</td><td>NULL</td><td>1120.49</td></tr><tr><td>Road-550-W Yellow, 44</td><td>2012-05-30 00:00:00.000</td><td>2013-05-29 00:00:00.000</td><td>1000.4375</td></tr><tr><td>Road-550-W Yellow, 48</td><td>2013-05-30 00:00:00.000</td><td>NULL</td><td>1120.49</td></tr><tr><td>Road-550-W Yellow, 48</td><td>2012-05-30 00:00:00.000</td><td>2013-05-29 00:00:00.000</td><td>1000.4375</td></tr><tr><td>Road-650 Black, 44</td><td>2012-05-30 00:00:00.000</td><td>2013-05-29 00:00:00.000</td><td>782.99</td></tr><tr><td>Road-650 Black, 44</td><td>2011-05-31 00:00:00.000</td><td>2012-05-29 00:00:00.000</td><td>699.0982</td></tr><tr><td>Road-650 Black, 48</td><td>2012-05-30 00:00:00.000</td><td>2013-05-29 00:00:00.000</td><td>782.99</td></tr><tr><td>Road-650 Black, 48</td><td>2011-05-31 00:00:00.000</td><td>2012-05-29 00:00:00.000</td><td>699.0982</td></tr><tr><td>Road-650 Black, 52</td><td>2012-05-30 00:00:00.000</td><td>2013-05-29 00:00:00.000</td><td>782.99</td></tr><tr><td>Road-650 Black, 52</td><td>2011-05-31 00:00:00.000</td><td>2012-05-29 00:00:00.000</td><td>699.0982</td></tr><tr><td>Road-650 Black, 58</td><td>2012-05-30 00:00:00.000</td><td>2013-05-29 00:00:00.000</td><td>782.99</td></tr><tr><td>Road-650 Black, 58</td><td>2011-05-31 00:00:00.000</td><td>2012-05-29 00:00:00.000</td><td>699.0982</td></tr><tr><td>Road-650 Black, 60</td><td>2012-05-30 00:00:00.000</td><td>2013-05-29 00:00:00.000</td><td>782.99</td></tr><tr><td>Road-650 Black, 60</td><td>2011-05-31 00:00:00.000</td><td>2012-05-29 00:00:00.000</td><td>699.0982</td></tr><tr><td>Road-650 Black, 62</td><td>2012-05-30 00:00:00.000</td><td>2013-05-29 00:00:00.000</td><td>782.99</td></tr><tr><td>Road-650 Black, 62</td><td>2011-05-31 00:00:00.000</td><td>2012-05-29 00:00:00.000</td><td>699.0982</td></tr><tr><td>Road-650 Red, 44</td><td>2012-05-30 00:00:00.000</td><td>2013-05-29 00:00:00.000</td><td>782.99</td></tr><tr><td>Road-650 Red, 44</td><td>2011-05-31 00:00:00.000</td><td>2012-05-29 00:00:00.000</td><td>699.0982</td></tr><tr><td>Road-650 Red, 48</td><td>2012-05-30 00:00:00.000</td><td>2013-05-29 00:00:00.000</td><td>782.99</td></tr><tr><td>Road-650 Red, 48</td><td>2011-05-31 00:00:00.000</td><td>2012-05-29 00:00:00.000</td><td>699.0982</td></tr><tr><td>Road-650 Red, 52</td><td>2012-05-30 00:00:00.000</td><td>2013-05-29 00:00:00.000</td><td>782.99</td></tr><tr><td>Road-650 Red, 52</td><td>2011-05-31 00:00:00.000</td><td>2012-05-29 00:00:00.000</td><td>699.0982</td></tr><tr><td>Road-650 Red, 58</td><td>2012-05-30 00:00:00.000</td><td>2013-05-29 00:00:00.000</td><td>782.99</td></tr><tr><td>Road-650 Red, 58</td><td>2011-05-31 00:00:00.000</td><td>2012-05-29 00:00:00.000</td><td>699.0982</td></tr><tr><td>Road-650 Red, 60</td><td>2012-05-30 00:00:00.000</td><td>2013-05-29 00:00:00.000</td><td>782.99</td></tr><tr><td>Road-650 Red, 60</td><td>2011-05-31 00:00:00.000</td><td>2012-05-29 00:00:00.000</td><td>699.0982</td></tr><tr><td>Road-650 Red, 62</td><td>2012-05-30 00:00:00.000</td><td>2013-05-29 00:00:00.000</td><td>782.99</td></tr><tr><td>Road-650 Red, 62</td><td>2011-05-31 00:00:00.000</td><td>2012-05-29 00:00:00.000</td><td>699.0982</td></tr><tr><td>Road-750 Black, 44</td><td>2013-05-30 00:00:00.000</td><td>NULL</td><td>539.99</td></tr><tr><td>Road-750 Black, 48</td><td>2013-05-30 00:00:00.000</td><td>NULL</td><td>539.99</td></tr><tr><td>Road-750 Black, 52</td><td>2013-05-30 00:00:00.000</td><td>NULL</td><td>539.99</td></tr><tr><td>Road-750 Black, 58</td><td>2013-05-30 00:00:00.000</td><td>NULL</td><td>539.99</td></tr><tr><td>Short-Sleeve Classic Jersey, L</td><td>2013-05-30 00:00:00.000</td><td>NULL</td><td>53.99</td></tr><tr><td>Short-Sleeve Classic Jersey, M</td><td>2013-05-30 00:00:00.000</td><td>NULL</td><td>53.99</td></tr><tr><td>Short-Sleeve Classic Jersey, S</td><td>2013-05-30 00:00:00.000</td><td>NULL</td><td>53.99</td></tr><tr><td>Short-Sleeve Classic Jersey, XL</td><td>2013-05-30 00:00:00.000</td><td>NULL</td><td>53.99</td></tr><tr><td>Sport-100 Helmet, Black</td><td>2013-05-30 00:00:00.000</td><td>NULL</td><td>34.99</td></tr><tr><td>Sport-100 Helmet, Black</td><td>2012-05-30 00:00:00.000</td><td>2013-05-29 00:00:00.000</td><td>33.6442</td></tr><tr><td>Sport-100 Helmet, Black</td><td>2011-05-31 00:00:00.000</td><td>2012-05-29 00:00:00.000</td><td>33.6442</td></tr><tr><td>Sport-100 Helmet, Blue</td><td>2013-05-30 00:00:00.000</td><td>NULL</td><td>34.99</td></tr><tr><td>Sport-100 Helmet, Blue</td><td>2012-05-30 00:00:00.000</td><td>2013-05-29 00:00:00.000</td><td>33.6442</td></tr><tr><td>Sport-100 Helmet, Blue</td><td>2011-05-31 00:00:00.000</td><td>2012-05-29 00:00:00.000</td><td>33.6442</td></tr><tr><td>Sport-100 Helmet, Red</td><td>2013-05-30 00:00:00.000</td><td>NULL</td><td>34.99</td></tr><tr><td>Sport-100 Helmet, Red</td><td>2012-05-30 00:00:00.000</td><td>2013-05-29 00:00:00.000</td><td>33.6442</td></tr><tr><td>Sport-100 Helmet, Red</td><td>2011-05-31 00:00:00.000</td><td>2012-05-29 00:00:00.000</td><td>33.6442</td></tr><tr><td>Taillights - Battery-Powered</td><td>2012-05-30 00:00:00.000</td><td>2013-05-29 00:00:00.000</td><td>13.99</td></tr><tr><td>Touring Front Wheel</td><td>2012-05-30 00:00:00.000</td><td>2013-05-29 00:00:00.000</td><td>218.01</td></tr><tr><td>Touring Pedal</td><td>2013-05-30 00:00:00.000</td><td>NULL</td><td>80.99</td></tr><tr><td>Touring Rear Wheel</td><td>2012-05-30 00:00:00.000</td><td>2013-05-29 00:00:00.000</td><td>245.01</td></tr><tr><td>Touring Tire</td><td>2013-05-30 00:00:00.000</td><td>NULL</td><td>28.99</td></tr><tr><td>Touring Tire Tube</td><td>2013-05-30 00:00:00.000</td><td>NULL</td><td>4.99</td></tr><tr><td>Touring-1000 Blue, 46</td><td>2013-05-30 00:00:00.000</td><td>NULL</td><td>2384.07</td></tr><tr><td>Touring-1000 Blue, 50</td><td>2013-05-30 00:00:00.000</td><td>NULL</td><td>2384.07</td></tr><tr><td>Touring-1000 Blue, 54</td><td>2013-05-30 00:00:00.000</td><td>NULL</td><td>2384.07</td></tr><tr><td>Touring-1000 Blue, 60</td><td>2013-05-30 00:00:00.000</td><td>NULL</td><td>2384.07</td></tr><tr><td>Touring-1000 Yellow, 46</td><td>2013-05-30 00:00:00.000</td><td>NULL</td><td>2384.07</td></tr><tr><td>Touring-1000 Yellow, 50</td><td>2013-05-30 00:00:00.000</td><td>NULL</td><td>2384.07</td></tr><tr><td>Touring-1000 Yellow, 54</td><td>2013-05-30 00:00:00.000</td><td>NULL</td><td>2384.07</td></tr><tr><td>Touring-1000 Yellow, 60</td><td>2013-05-30 00:00:00.000</td><td>NULL</td><td>2384.07</td></tr><tr><td>Touring-2000 Blue, 46</td><td>2013-05-30 00:00:00.000</td><td>NULL</td><td>1214.85</td></tr><tr><td>Touring-2000 Blue, 50</td><td>2013-05-30 00:00:00.000</td><td>NULL</td><td>1214.85</td></tr><tr><td>Touring-2000 Blue, 54</td><td>2013-05-30 00:00:00.000</td><td>NULL</td><td>1214.85</td></tr><tr><td>Touring-2000 Blue, 60</td><td>2013-05-30 00:00:00.000</td><td>NULL</td><td>1214.85</td></tr><tr><td>Touring-3000 Blue, 44</td><td>2013-05-30 00:00:00.000</td><td>NULL</td><td>742.35</td></tr><tr><td>Touring-3000 Blue, 50</td><td>2013-05-30 00:00:00.000</td><td>NULL</td><td>742.35</td></tr><tr><td>Touring-3000 Blue, 54</td><td>2013-05-30 00:00:00.000</td><td>NULL</td><td>742.35</td></tr><tr><td>Touring-3000 Blue, 58</td><td>2013-05-30 00:00:00.000</td><td>NULL</td><td>742.35</td></tr><tr><td>Touring-3000 Blue, 62</td><td>2013-05-30 00:00:00.000</td><td>NULL</td><td>742.35</td></tr><tr><td>Touring-3000 Yellow, 44</td><td>2013-05-30 00:00:00.000</td><td>NULL</td><td>742.35</td></tr><tr><td>Touring-3000 Yellow, 50</td><td>2013-05-30 00:00:00.000</td><td>NULL</td><td>742.35</td></tr><tr><td>Touring-3000 Yellow, 54</td><td>2013-05-30 00:00:00.000</td><td>NULL</td><td>742.35</td></tr><tr><td>Touring-3000 Yellow, 58</td><td>2013-05-30 00:00:00.000</td><td>NULL</td><td>742.35</td></tr><tr><td>Touring-3000 Yellow, 62</td><td>2013-05-30 00:00:00.000</td><td>NULL</td><td>742.35</td></tr><tr><td>Touring-Panniers, Large</td><td>2012-05-30 00:00:00.000</td><td>2013-05-29 00:00:00.000</td><td>125.00</td></tr><tr><td>Water Bottle - 30 oz.</td><td>2013-05-30 00:00:00.000</td><td>NULL</td><td>4.99</td></tr><tr><td>Women&#39;s Mountain Shorts, L</td><td>2013-05-30 00:00:00.000</td><td>NULL</td><td>69.99</td></tr><tr><td>Women&#39;s Mountain Shorts, M</td><td>2013-05-30 00:00:00.000</td><td>NULL</td><td>69.99</td></tr><tr><td>Women&#39;s Mountain Shorts, S</td><td>2013-05-30 00:00:00.000</td><td>NULL</td><td>69.99</td></tr><tr><td>Women&#39;s Tights, L</td><td>2012-05-30 00:00:00.000</td><td>2013-05-29 00:00:00.000</td><td>74.99</td></tr><tr><td>Women&#39;s Tights, M</td><td>2012-05-30 00:00:00.000</td><td>2013-05-29 00:00:00.000</td><td>74.99</td></tr><tr><td>Women&#39;s Tights, S</td><td>2012-05-30 00:00:00.000</td><td>2013-05-29 00:00:00.000</td><td>74.99</td></tr></table>"
                    },
                    "metadata": {}
                }
            ],
            "execution_count": 13
        },
        {
            "cell_type": "markdown",
            "source": [
                "## **Complex Queries:**\n",
                "\n",
                "### **Query 1**\n",
                "\n",
                "**Proposition:** <span style=\"color: var(--vscode-foreground);\">Identify the most frequently occuring Pokemon for both the primary type and secondary type categories accross the three Pokemon generations and ranks the counts based on it and select the type with the highest occurance in each category.</span>\n",
                "\n",
                "**Tables:**\n",
                "\n",
                "- PokemonGen1.dbo.PokemonGen1\n",
                "- PokemonGen2.dbo.PokemonGen2\n",
                "- PokemonGen3.dbo.PokemonGen3\n",
                "\n",
                "**Columns:**\n",
                "\n",
                "- Type1: The primary type of a Pokemon.\n",
                "- Type2: The secondary type of a Pokemon, which can be NULL if the Pokemon does not possess a secondary type.\n",
                "\n",
                "**Predicate:**\n",
                "\n",
                "- The query first aggregates the counts of each Pokemon for both Type1 and Type2 across all three generations in two separate CTE tables, Type1Counts and Type2Counts. It counts the number of occurances in the tables, excluding the null values. \n",
                "- Then it ranks the types based on the numbner of occurances using the RANK() function with two CTEs, RankType1 and RankType2\n",
                "- The query then selects the most common types from RankedType1 and RankedType2 where the rank is 1 by using a SELECT statement with a UNION ALL\n",
                "- If there are duplicates, or a case where the count is the same, all of them are diplayed"
            ],
            "metadata": {
                "azdata_cell_guid": "c921dbc1-94c8-4c59-b355-67c6a3b32448"
            },
            "attachments": {}
        },
        {
            "cell_type": "code",
            "source": [
                "WITH Type1Counts AS (\n",
                "    SELECT Type1 AS Type, COUNT(*) AS Count\n",
                "    FROM PokemonGen1.dbo.PokemonGen1\n",
                "    WHERE Type1 IS NOT NULL\n",
                "    GROUP BY Type1\n",
                "    UNION ALL\n",
                "    SELECT Type1, COUNT(*)\n",
                "    FROM PokemonGen2.dbo.PokemonGen2\n",
                "    WHERE Type1 IS NOT NULL\n",
                "    GROUP BY Type1\n",
                "    UNION ALL\n",
                "    SELECT Type1, COUNT(*)\n",
                "    FROM PokemonGen3.dbo.PokemonGen3\n",
                "    WHERE Type1 IS NOT NULL\n",
                "    GROUP BY Type1\n",
                "),\n",
                "Type2Counts AS (\n",
                "    SELECT Type2 AS Type, COUNT(*) AS Count\n",
                "    FROM PokemonGen1.dbo.PokemonGen1\n",
                "    WHERE Type2 IS NOT NULL\n",
                "    GROUP BY Type2\n",
                "    UNION ALL\n",
                "    SELECT Type2, COUNT(*)\n",
                "    FROM PokemonGen2.dbo.PokemonGen2\n",
                "    WHERE Type2 IS NOT NULL\n",
                "    GROUP BY Type2\n",
                "    UNION ALL\n",
                "    SELECT Type2, COUNT(*)\n",
                "    FROM PokemonGen3.dbo.PokemonGen3\n",
                "    WHERE Type2 IS NOT NULL\n",
                "    GROUP BY Type2\n",
                "),\n",
                "RankedType1 AS (\n",
                "    SELECT Type, Count, RANK() OVER (ORDER BY Count DESC) AS Rank\n",
                "    FROM Type1Counts\n",
                "),\n",
                "RankedType2 AS (\n",
                "    SELECT Type, Count, RANK() OVER (ORDER BY Count DESC) AS Rank\n",
                "    FROM Type2Counts\n",
                ")\n",
                "\n",
                "SELECT 'Type1' AS Category, Type, Count\n",
                "FROM RankedType1\n",
                "WHERE Rank = 1\n",
                "UNION ALL\n",
                "SELECT 'Type2' AS Category, Type, Count\n",
                "FROM RankedType2\n",
                "WHERE Rank = 1;\n",
                ""
            ],
            "metadata": {
                "azdata_cell_guid": "685327f8-8bed-4a08-8e49-5515e15d6e6f",
                "language": "sql"
            },
            "outputs": [
                {
                    "output_type": "display_data",
                    "data": {
                        "text/html": "(4 rows affected)"
                    },
                    "metadata": {}
                },
                {
                    "output_type": "display_data",
                    "data": {
                        "text/html": "Total execution time: 00:00:00.003"
                    },
                    "metadata": {}
                },
                {
                    "output_type": "execute_result",
                    "execution_count": 18,
                    "data": {
                        "application/vnd.dataresource+json": {
                            "schema": {
                                "fields": [
                                    {
                                        "name": "Category"
                                    },
                                    {
                                        "name": "Type"
                                    },
                                    {
                                        "name": "Count"
                                    }
                                ]
                            },
                            "data": [
                                {
                                    "Category": "Type1",
                                    "Type": "Water",
                                    "Count": "28"
                                },
                                {
                                    "Category": "Type2",
                                    "Type": "Flying",
                                    "Count": "19"
                                },
                                {
                                    "Category": "Type2",
                                    "Type": "Poison",
                                    "Count": "19"
                                },
                                {
                                    "Category": "Type2",
                                    "Type": "Flying",
                                    "Count": "19"
                                }
                            ]
                        },
                        "text/html": "<table><tr><th>Category</th><th>Type</th><th>Count</th></tr><tr><td>Type1</td><td>Water</td><td>28</td></tr><tr><td>Type2</td><td>Flying</td><td>19</td></tr><tr><td>Type2</td><td>Poison</td><td>19</td></tr><tr><td>Type2</td><td>Flying</td><td>19</td></tr></table>"
                    },
                    "metadata": {}
                }
            ],
            "execution_count": 18
        },
        {
            "cell_type": "markdown",
            "source": [
                "### **Query 2**\n",
                "\n",
                "**Proposition:** Write a query that identifies the Pokemon types that were first introduced in Generation 2 and continue to appear in Generation 3 that illustrates the evolution and retention of Pokemon types across these generations.\n",
                "\n",
                "**Tables:**\n",
                "\n",
                "- PokemonGen1.dbo.PokemonGen1\n",
                "- PokemonGen2.dbo.PokemonGen2\n",
                "- PokemonGen3.dbo.PokemonGen3\n",
                "\n",
                "**Columns:**\n",
                "\n",
                "- Type1: The primary type of Pokémon.\n",
                "- Type2: The secondary type of Pokémon, which can be NULL if the Pokemon does not have a secondary type.\n",
                "\n",
                "**Predicate:**\n",
                "\n",
                "- It uses CTEs named Gen1Types, Gen2Types, and Gen3Types and gets a distinct list of both Type1 and Type2, exlcuding null\n",
                "- The CTE then fillters the types from Gen2Types by exclluding the ones in Gen1Types\n",
                "- The CTE continues the filter the types from Gen3Types by excluding the ones in Gen2Types\n",
                "- FInally the SELECT statement is used to list all the types that are introduced in Gen2 and are continued in Gen3. The output shows the types that were introduced in the middle generation and then adopted in the next generation."
            ],
            "metadata": {
                "azdata_cell_guid": "03b19f28-67df-4d78-a90c-02fd05387a10"
            },
            "attachments": {}
        },
        {
            "cell_type": "code",
            "source": [
                "WITH Gen1Types AS (\r\n",
                "    SELECT DISTINCT Type1 AS Type FROM PokemonGen1.dbo.PokemonGen1\r\n",
                "    UNION\r\n",
                "    SELECT DISTINCT Type2 FROM PokemonGen1.dbo.PokemonGen1 WHERE Type2 IS NOT NULL\r\n",
                "), \r\n",
                "Gen2Types AS (\r\n",
                "    SELECT DISTINCT Type1 AS Type FROM PokemonGen2.dbo.PokemonGen2\r\n",
                "    UNION\r\n",
                "    SELECT DISTINCT Type2 FROM PokemonGen2.dbo.PokemonGen2 WHERE Type2 IS NOT NULL\r\n",
                "),\r\n",
                "Gen3Types AS (\r\n",
                "    SELECT DISTINCT Type1 AS Type FROM PokemonGen3.dbo.PokemonGen3\r\n",
                "    UNION\r\n",
                "    SELECT DISTINCT Type2 FROM PokemonGen3.dbo.PokemonGen3 WHERE Type2 IS NOT NULL\r\n",
                "),\r\n",
                "IntroducedInGen2 AS (\r\n",
                "    SELECT Type FROM Gen2Types\r\n",
                "    WHERE Type NOT IN (SELECT Type FROM Gen1Types)\r\n",
                "),\r\n",
                "ContinuedInGen3 AS (\r\n",
                "    SELECT Type FROM IntroducedInGen2\r\n",
                "    WHERE Type IN (SELECT Type FROM Gen3Types)\r\n",
                ")\r\n",
                "\r\n",
                "SELECT Type\r\n",
                "FROM ContinuedInGen3;\r\n",
                ""
            ],
            "metadata": {
                "azdata_cell_guid": "921213d1-80bb-4092-9925-d4efd647efb2",
                "language": "sql"
            },
            "outputs": [
                {
                    "output_type": "display_data",
                    "data": {
                        "text/html": "(1 row affected)"
                    },
                    "metadata": {}
                },
                {
                    "output_type": "display_data",
                    "data": {
                        "text/html": "Total execution time: 00:00:00.013"
                    },
                    "metadata": {}
                },
                {
                    "output_type": "execute_result",
                    "execution_count": 21,
                    "data": {
                        "application/vnd.dataresource+json": {
                            "schema": {
                                "fields": [
                                    {
                                        "name": "Type"
                                    }
                                ]
                            },
                            "data": [
                                {
                                    "Type": "Dark"
                                }
                            ]
                        },
                        "text/html": "<table><tr><th>Type</th></tr><tr><td>Dark</td></tr></table>"
                    },
                    "metadata": {}
                }
            ],
            "execution_count": 21
        },
        {
            "cell_type": "markdown",
            "source": [
                "### **Query 3**\n",
                "\n",
                "**Proposition:** Write a query to find the Pokemon that has the highest attack in Type1 and Type2 within each generation\n",
                "\n",
                "**Tables:**\n",
                "\n",
                "- PokemonGen1.dbo.PokemonGen1\n",
                "- PokemonGen2.dbo.PokemonGen2\n",
                "- PokemonGen3.dbo.PokemonGen3\n",
                "\n",
                "**Columns:**\n",
                "\n",
                "- ID (or PokemonNoGen1, PokemonNoGen2, PokemonNoGen3) \n",
                "- Name \n",
                "- Attack\n",
                "- Type1 and Type2: Represent the primary and secondary types of the Pokemon.\n",
                "- Generation \n",
                "\n",
                "**Predicate:**\n",
                "\n",
                "- The UnifiedPokemon CTE is used to create a unified view of the Pokemon from all 3 generations by getting the IDs, names, attack values, types, and assigns a generation tag based on the source table\n",
                "- Then the TypeRankings CTE creates a temporary dataset that consolidates the Pokemon types and then ranks the Pokemon by their attack values within each type and generation using the RANK() function\n",
                "- The query then selects the TypeRankings CTE and filters for when the Pokemon with the highest attack within the type and generation"
            ],
            "metadata": {
                "azdata_cell_guid": "8f3b5a0d-70c0-46ee-917e-d4a18b9dd1c5"
            },
            "attachments": {}
        },
        {
            "cell_type": "code",
            "source": [
                "WITH UnifiedPokemon AS (\r\n",
                "    SELECT PokemonNoGen1 AS ID, Name, Attack, Type1, Type2, 'Gen1' AS Generation FROM PokemonGen1.dbo.PokemonGen1\r\n",
                "    UNION ALL\r\n",
                "    SELECT PokemonNoGen2 AS ID, Name, Attack, Type1, Type2, 'Gen2' FROM PokemonGen2.dbo.PokemonGen2\r\n",
                "    UNION ALL\r\n",
                "    SELECT PokemonNoGen3 AS ID, Name, Attack, Type1, Type2, 'Gen3' FROM PokemonGen3.dbo.PokemonGen3\r\n",
                "),\r\n",
                "TypeRankings AS (\r\n",
                "    SELECT\r\n",
                "        Name,\r\n",
                "        Attack,\r\n",
                "        Type,\r\n",
                "        Generation,\r\n",
                "        RANK() OVER(PARTITION BY Type, Generation ORDER BY Attack DESC) AS RankInType\r\n",
                "    FROM (\r\n",
                "        SELECT Name, Attack, Type1 AS Type, Generation FROM UnifiedPokemon\r\n",
                "        UNION ALL\r\n",
                "        SELECT Name, Attack, Type2, Generation FROM UnifiedPokemon WHERE Type2 IS NOT NULL\r\n",
                "    ) AS AllTypes\r\n",
                ")\r\n",
                "\r\n",
                "SELECT Type, Generation, Name, Attack\r\n",
                "FROM TypeRankings\r\n",
                "WHERE RankInType = 1\r\n",
                "ORDER BY Type, Generation;\r\n",
                ""
            ],
            "metadata": {
                "azdata_cell_guid": "838051fa-2f50-46b2-a81c-621e3186690c",
                "language": "sql"
            },
            "outputs": [
                {
                    "output_type": "display_data",
                    "data": {
                        "text/html": "(62 rows affected)"
                    },
                    "metadata": {}
                },
                {
                    "output_type": "display_data",
                    "data": {
                        "text/html": "Total execution time: 00:00:00.010"
                    },
                    "metadata": {}
                },
                {
                    "output_type": "execute_result",
                    "execution_count": 30,
                    "data": {
                        "application/vnd.dataresource+json": {
                            "schema": {
                                "fields": [
                                    {
                                        "name": "Type"
                                    },
                                    {
                                        "name": "Generation"
                                    },
                                    {
                                        "name": "Name"
                                    },
                                    {
                                        "name": "Attack"
                                    }
                                ]
                            },
                            "data": [
                                {
                                    "Type": "Bug",
                                    "Generation": "Gen1",
                                    "Name": "Pinsir",
                                    "Attack": "125"
                                },
                                {
                                    "Type": "Bug",
                                    "Generation": "Gen2",
                                    "Name": "Scizor",
                                    "Attack": "130"
                                },
                                {
                                    "Type": "Bug",
                                    "Generation": "Gen3",
                                    "Name": "Armaldo",
                                    "Attack": "125"
                                },
                                {
                                    "Type": "Dark",
                                    "Generation": "Gen2",
                                    "Name": "Tyranitar",
                                    "Attack": "134"
                                },
                                {
                                    "Type": "Dark",
                                    "Generation": "Gen3",
                                    "Name": "Absol",
                                    "Attack": "130"
                                },
                                {
                                    "Type": "Dragon",
                                    "Generation": "Gen1",
                                    "Name": "Dragonite",
                                    "Attack": "134"
                                },
                                {
                                    "Type": "Dragon",
                                    "Generation": "Gen2",
                                    "Name": "Kingdra",
                                    "Attack": "95"
                                },
                                {
                                    "Type": "Dragon",
                                    "Generation": "Gen3",
                                    "Name": "Rayquaza",
                                    "Attack": "150"
                                },
                                {
                                    "Type": "Electric",
                                    "Generation": "Gen1",
                                    "Name": "Zapdos",
                                    "Attack": "90"
                                },
                                {
                                    "Type": "Electric",
                                    "Generation": "Gen1",
                                    "Name": "Raichu",
                                    "Attack": "90"
                                },
                                {
                                    "Type": "Electric",
                                    "Generation": "Gen2",
                                    "Name": "Raikou",
                                    "Attack": "85"
                                },
                                {
                                    "Type": "Electric",
                                    "Generation": "Gen3",
                                    "Name": "Manectric",
                                    "Attack": "75"
                                },
                                {
                                    "Type": "Fairy",
                                    "Generation": "Gen1",
                                    "Name": "Wigglytuff",
                                    "Attack": "70"
                                },
                                {
                                    "Type": "Fairy",
                                    "Generation": "Gen1",
                                    "Name": "Clefable",
                                    "Attack": "70"
                                },
                                {
                                    "Type": "Fairy",
                                    "Generation": "Gen2",
                                    "Name": "Granbull",
                                    "Attack": "120"
                                },
                                {
                                    "Type": "Fairy",
                                    "Generation": "Gen3",
                                    "Name": "Mawile",
                                    "Attack": "85"
                                },
                                {
                                    "Type": "Fight",
                                    "Generation": "Gen1",
                                    "Name": "Hitmonlee",
                                    "Attack": "120"
                                },
                                {
                                    "Type": "Fighting",
                                    "Generation": "Gen1",
                                    "Name": "Machamp",
                                    "Attack": "130"
                                },
                                {
                                    "Type": "Fighting",
                                    "Generation": "Gen2",
                                    "Name": "Heracross",
                                    "Attack": "125"
                                },
                                {
                                    "Type": "Fighting",
                                    "Generation": "Gen3",
                                    "Name": "Breloom",
                                    "Attack": "130"
                                },
                                {
                                    "Type": "Fire",
                                    "Generation": "Gen1",
                                    "Name": "Flareon",
                                    "Attack": "130"
                                },
                                {
                                    "Type": "Fire",
                                    "Generation": "Gen2",
                                    "Name": "Ho-Oh",
                                    "Attack": "130"
                                },
                                {
                                    "Type": "Fire",
                                    "Generation": "Gen3",
                                    "Name": "Blaziken",
                                    "Attack": "120"
                                },
                                {
                                    "Type": "Flying",
                                    "Generation": "Gen1",
                                    "Name": "Dragonite",
                                    "Attack": "134"
                                },
                                {
                                    "Type": "Flying",
                                    "Generation": "Gen2",
                                    "Name": "Ho-Oh",
                                    "Attack": "130"
                                },
                                {
                                    "Type": "Flying",
                                    "Generation": "Gen3",
                                    "Name": "Rayquaza",
                                    "Attack": "150"
                                },
                                {
                                    "Type": "Ghost",
                                    "Generation": "Gen1",
                                    "Name": "Gengar",
                                    "Attack": "65"
                                },
                                {
                                    "Type": "Ghost",
                                    "Generation": "Gen2",
                                    "Name": "Misdreavus",
                                    "Attack": "60"
                                },
                                {
                                    "Type": "Ghost",
                                    "Generation": "Gen3",
                                    "Name": "Banette",
                                    "Attack": "115"
                                },
                                {
                                    "Type": "Grass",
                                    "Generation": "Gen1",
                                    "Name": "Victreebel",
                                    "Attack": "105"
                                },
                                {
                                    "Type": "Grass",
                                    "Generation": "Gen2",
                                    "Name": "Celebi",
                                    "Attack": "100"
                                },
                                {
                                    "Type": "Grass",
                                    "Generation": "Gen3",
                                    "Name": "Breloom",
                                    "Attack": "130"
                                },
                                {
                                    "Type": "Ground",
                                    "Generation": "Gen1",
                                    "Name": "\tRhydon",
                                    "Attack": "130"
                                },
                                {
                                    "Type": "Ground",
                                    "Generation": "Gen2",
                                    "Name": "Donphan",
                                    "Attack": "120"
                                },
                                {
                                    "Type": "Ground",
                                    "Generation": "Gen3",
                                    "Name": "Groudon",
                                    "Attack": "150"
                                },
                                {
                                    "Type": "Ice",
                                    "Generation": "Gen1",
                                    "Name": "Cloyster",
                                    "Attack": "95"
                                },
                                {
                                    "Type": "Ice",
                                    "Generation": "Gen2",
                                    "Name": "Piloswine",
                                    "Attack": "100"
                                },
                                {
                                    "Type": "Ice",
                                    "Generation": "Gen3",
                                    "Name": "Glalie",
                                    "Attack": "80"
                                },
                                {
                                    "Type": "Ice",
                                    "Generation": "Gen3",
                                    "Name": "Walrein",
                                    "Attack": "80"
                                },
                                {
                                    "Type": "Normal",
                                    "Generation": "Gen1",
                                    "Name": "Snorlax",
                                    "Attack": "110"
                                },
                                {
                                    "Type": "Normal",
                                    "Generation": "Gen1",
                                    "Name": "Dodrio",
                                    "Attack": "110"
                                },
                                {
                                    "Type": "Normal",
                                    "Generation": "Gen2",
                                    "Name": "Ursaring",
                                    "Attack": "130"
                                },
                                {
                                    "Type": "Normal",
                                    "Generation": "Gen3",
                                    "Name": "Slaking",
                                    "Attack": "160"
                                },
                                {
                                    "Type": "Poison",
                                    "Generation": "Gen1",
                                    "Name": "Victreebel",
                                    "Attack": "105"
                                },
                                {
                                    "Type": "Poison",
                                    "Generation": "Gen1",
                                    "Name": "Muk",
                                    "Attack": "105"
                                },
                                {
                                    "Type": "Poison",
                                    "Generation": "Gen2",
                                    "Name": "Qwilfish",
                                    "Attack": "95"
                                },
                                {
                                    "Type": "Poison",
                                    "Generation": "Gen3",
                                    "Name": "Seviper",
                                    "Attack": "100"
                                },
                                {
                                    "Type": "Poison Point",
                                    "Generation": "Gen1",
                                    "Name": "Nidoking",
                                    "Attack": "102"
                                },
                                {
                                    "Type": "Psychic",
                                    "Generation": "Gen1",
                                    "Name": "Mewtwo",
                                    "Attack": "110"
                                },
                                {
                                    "Type": "Psychic",
                                    "Generation": "Gen2",
                                    "Name": "Celebi",
                                    "Attack": "100"
                                },
                                {
                                    "Type": "Psychic",
                                    "Generation": "Gen3",
                                    "Name": "Deoxys",
                                    "Attack": "150"
                                },
                                {
                                    "Type": "Rock",
                                    "Generation": "Gen1",
                                    "Name": "\tRhydon",
                                    "Attack": "130"
                                },
                                {
                                    "Type": "Rock",
                                    "Generation": "Gen2",
                                    "Name": "Tyranitar",
                                    "Attack": "134"
                                },
                                {
                                    "Type": "Rock",
                                    "Generation": "Gen3",
                                    "Name": "Armaldo",
                                    "Attack": "125"
                                },
                                {
                                    "Type": "Steel",
                                    "Generation": "Gen1",
                                    "Name": "Magneton",
                                    "Attack": "60"
                                },
                                {
                                    "Type": "Steel",
                                    "Generation": "Gen2",
                                    "Name": "Scizor",
                                    "Attack": "130"
                                },
                                {
                                    "Type": "Steel",
                                    "Generation": "Gen3",
                                    "Name": "Metagross",
                                    "Attack": "135"
                                },
                                {
                                    "Type": "Water",
                                    "Generation": "Gen1",
                                    "Name": "Kingler",
                                    "Attack": "130"
                                },
                                {
                                    "Type": "Water",
                                    "Generation": "Gen2",
                                    "Name": "Feraligatr",
                                    "Attack": "105"
                                },
                                {
                                    "Type": "Water",
                                    "Generation": "Gen2",
                                    "Name": "Octillery",
                                    "Attack": "105"
                                },
                                {
                                    "Type": "Water",
                                    "Generation": "Gen3",
                                    "Name": "Crawdaunt",
                                    "Attack": "120"
                                },
                                {
                                    "Type": "Water",
                                    "Generation": "Gen3",
                                    "Name": "Sharpedo",
                                    "Attack": "120"
                                }
                            ]
                        },
                        "text/html": "<table><tr><th>Type</th><th>Generation</th><th>Name</th><th>Attack</th></tr><tr><td>Bug</td><td>Gen1</td><td>Pinsir</td><td>125</td></tr><tr><td>Bug</td><td>Gen2</td><td>Scizor</td><td>130</td></tr><tr><td>Bug</td><td>Gen3</td><td>Armaldo</td><td>125</td></tr><tr><td>Dark</td><td>Gen2</td><td>Tyranitar</td><td>134</td></tr><tr><td>Dark</td><td>Gen3</td><td>Absol</td><td>130</td></tr><tr><td>Dragon</td><td>Gen1</td><td>Dragonite</td><td>134</td></tr><tr><td>Dragon</td><td>Gen2</td><td>Kingdra</td><td>95</td></tr><tr><td>Dragon</td><td>Gen3</td><td>Rayquaza</td><td>150</td></tr><tr><td>Electric</td><td>Gen1</td><td>Zapdos</td><td>90</td></tr><tr><td>Electric</td><td>Gen1</td><td>Raichu</td><td>90</td></tr><tr><td>Electric</td><td>Gen2</td><td>Raikou</td><td>85</td></tr><tr><td>Electric</td><td>Gen3</td><td>Manectric</td><td>75</td></tr><tr><td>Fairy</td><td>Gen1</td><td>Wigglytuff</td><td>70</td></tr><tr><td>Fairy</td><td>Gen1</td><td>Clefable</td><td>70</td></tr><tr><td>Fairy</td><td>Gen2</td><td>Granbull</td><td>120</td></tr><tr><td>Fairy</td><td>Gen3</td><td>Mawile</td><td>85</td></tr><tr><td>Fight</td><td>Gen1</td><td>Hitmonlee</td><td>120</td></tr><tr><td>Fighting</td><td>Gen1</td><td>Machamp</td><td>130</td></tr><tr><td>Fighting</td><td>Gen2</td><td>Heracross</td><td>125</td></tr><tr><td>Fighting</td><td>Gen3</td><td>Breloom</td><td>130</td></tr><tr><td>Fire</td><td>Gen1</td><td>Flareon</td><td>130</td></tr><tr><td>Fire</td><td>Gen2</td><td>Ho-Oh</td><td>130</td></tr><tr><td>Fire</td><td>Gen3</td><td>Blaziken</td><td>120</td></tr><tr><td>Flying</td><td>Gen1</td><td>Dragonite</td><td>134</td></tr><tr><td>Flying</td><td>Gen2</td><td>Ho-Oh</td><td>130</td></tr><tr><td>Flying</td><td>Gen3</td><td>Rayquaza</td><td>150</td></tr><tr><td>Ghost</td><td>Gen1</td><td>Gengar</td><td>65</td></tr><tr><td>Ghost</td><td>Gen2</td><td>Misdreavus</td><td>60</td></tr><tr><td>Ghost</td><td>Gen3</td><td>Banette</td><td>115</td></tr><tr><td>Grass</td><td>Gen1</td><td>Victreebel</td><td>105</td></tr><tr><td>Grass</td><td>Gen2</td><td>Celebi</td><td>100</td></tr><tr><td>Grass</td><td>Gen3</td><td>Breloom</td><td>130</td></tr><tr><td>Ground</td><td>Gen1</td><td>\tRhydon</td><td>130</td></tr><tr><td>Ground</td><td>Gen2</td><td>Donphan</td><td>120</td></tr><tr><td>Ground</td><td>Gen3</td><td>Groudon</td><td>150</td></tr><tr><td>Ice</td><td>Gen1</td><td>Cloyster</td><td>95</td></tr><tr><td>Ice</td><td>Gen2</td><td>Piloswine</td><td>100</td></tr><tr><td>Ice</td><td>Gen3</td><td>Glalie</td><td>80</td></tr><tr><td>Ice</td><td>Gen3</td><td>Walrein</td><td>80</td></tr><tr><td>Normal</td><td>Gen1</td><td>Snorlax</td><td>110</td></tr><tr><td>Normal</td><td>Gen1</td><td>Dodrio</td><td>110</td></tr><tr><td>Normal</td><td>Gen2</td><td>Ursaring</td><td>130</td></tr><tr><td>Normal</td><td>Gen3</td><td>Slaking</td><td>160</td></tr><tr><td>Poison</td><td>Gen1</td><td>Victreebel</td><td>105</td></tr><tr><td>Poison</td><td>Gen1</td><td>Muk</td><td>105</td></tr><tr><td>Poison</td><td>Gen2</td><td>Qwilfish</td><td>95</td></tr><tr><td>Poison</td><td>Gen3</td><td>Seviper</td><td>100</td></tr><tr><td>Poison Point</td><td>Gen1</td><td>Nidoking</td><td>102</td></tr><tr><td>Psychic</td><td>Gen1</td><td>Mewtwo</td><td>110</td></tr><tr><td>Psychic</td><td>Gen2</td><td>Celebi</td><td>100</td></tr><tr><td>Psychic</td><td>Gen3</td><td>Deoxys</td><td>150</td></tr><tr><td>Rock</td><td>Gen1</td><td>\tRhydon</td><td>130</td></tr><tr><td>Rock</td><td>Gen2</td><td>Tyranitar</td><td>134</td></tr><tr><td>Rock</td><td>Gen3</td><td>Armaldo</td><td>125</td></tr><tr><td>Steel</td><td>Gen1</td><td>Magneton</td><td>60</td></tr><tr><td>Steel</td><td>Gen2</td><td>Scizor</td><td>130</td></tr><tr><td>Steel</td><td>Gen3</td><td>Metagross</td><td>135</td></tr><tr><td>Water</td><td>Gen1</td><td>Kingler</td><td>130</td></tr><tr><td>Water</td><td>Gen2</td><td>Feraligatr</td><td>105</td></tr><tr><td>Water</td><td>Gen2</td><td>Octillery</td><td>105</td></tr><tr><td>Water</td><td>Gen3</td><td>Crawdaunt</td><td>120</td></tr><tr><td>Water</td><td>Gen3</td><td>Sharpedo</td><td>120</td></tr></table>"
                    },
                    "metadata": {}
                }
            ],
            "execution_count": 30
        },
        {
            "cell_type": "markdown",
            "source": [
                "### **Query 4**\n",
                "\n",
                "**Proposition:** Create a query that finds the most common abilities for Ability1, Ability2, and Ability3 from the 3 Pokemon generations\n",
                "\n",
                "**Tables:**\n",
                "\n",
                "- PokemonGen1.dbo.PokemonGen1 \n",
                "- PokemonGen2.dbo.PokemonGen2 \n",
                "- PokemonGen3.dbo.PokemonGen3 \n",
                "\n",
                "**Columns:**\n",
                "\n",
                "- AbilitySlot (Ability1, Ability2, or Ability3)\n",
                "- Ability \n",
                "- Count \n",
                "\n",
                "**Predicate:**\n",
                "\n",
                "- Using the Abilities CTE, take all the abilites from the Pokemon from 3 generations and assign each ability to a slot in the table unless it is null\n",
                "- Use the AbilityCounts CTE to group the AbilitySlot and Ability that keeps track of the count in each slot\n",
                "- Then the MaxCounts CTE is used to count the abilites in each slot and determines the max count in each group\n",
                "- If there are duplicates, they are still shown"
            ],
            "metadata": {
                "azdata_cell_guid": "9519d390-9348-4d31-bacc-5fafaf780993"
            },
            "attachments": {}
        },
        {
            "cell_type": "code",
            "source": [
                "WITH Abilities AS (\r\n",
                "    SELECT 'Ability1' AS AbilitySlot, Ability1 AS Ability FROM PokemonGen1.dbo.PokemonGen1\r\n",
                "    UNION ALL\r\n",
                "    SELECT 'Ability2' AS AbilitySlot, Ability2 FROM PokemonGen1.dbo.PokemonGen1 WHERE Ability2 IS NOT NULL\r\n",
                "    UNION ALL\r\n",
                "    SELECT 'Ability3' AS AbilitySlot, Ability3 FROM PokemonGen1.dbo.PokemonGen1 WHERE Ability3 IS NOT NULL\r\n",
                "    UNION ALL\r\n",
                "    SELECT 'Ability1' AS AbilitySlot, Ability1 FROM PokemonGen2.dbo.PokemonGen2\r\n",
                "    UNION ALL\r\n",
                "    SELECT 'Ability2' AS AbilitySlot, Ability2 FROM PokemonGen2.dbo.PokemonGen2 WHERE Ability2 IS NOT NULL\r\n",
                "    UNION ALL\r\n",
                "    SELECT 'Ability3' AS AbilitySlot, Ability3 FROM PokemonGen2.dbo.PokemonGen2 WHERE Ability3 IS NOT NULL\r\n",
                "    UNION ALL\r\n",
                "    SELECT 'Ability1' AS AbilitySlot, Ability1 FROM PokemonGen3.dbo.PokemonGen3\r\n",
                "    UNION ALL\r\n",
                "    SELECT 'Ability2' AS AbilitySlot, Ability2 FROM PokemonGen3.dbo.PokemonGen3 WHERE Ability2 IS NOT NULL\r\n",
                "    UNION ALL\r\n",
                "    SELECT 'Ability3' AS AbilitySlot, Ability3 FROM PokemonGen3.dbo.PokemonGen3 WHERE Ability3 IS NOT NULL\r\n",
                "),\r\n",
                "AbilityCounts AS (\r\n",
                "    SELECT AbilitySlot, Ability, COUNT(*) AS Count\r\n",
                "    FROM Abilities\r\n",
                "    GROUP BY AbilitySlot, Ability\r\n",
                "),\r\n",
                "MaxCounts AS (\r\n",
                "    SELECT AbilitySlot, MAX(Count) AS MaxCount\r\n",
                "    FROM AbilityCounts\r\n",
                "    GROUP BY AbilitySlot\r\n",
                ")\r\n",
                "\r\n",
                "SELECT ac.AbilitySlot, ac.Ability, ac.Count\r\n",
                "FROM AbilityCounts ac\r\n",
                "JOIN MaxCounts mc ON ac.AbilitySlot = mc.AbilitySlot AND ac.Count = mc.MaxCount\r\n",
                "ORDER BY ac.AbilitySlot, ac.Count DESC;\r\n",
                ""
            ],
            "metadata": {
                "azdata_cell_guid": "d5b113e3-17d0-42e4-bfac-bc5a7e3cb43d",
                "language": "sql"
            },
            "outputs": [
                {
                    "output_type": "display_data",
                    "data": {
                        "text/html": "(6 rows affected)"
                    },
                    "metadata": {}
                },
                {
                    "output_type": "display_data",
                    "data": {
                        "text/html": "Total execution time: 00:00:00.005"
                    },
                    "metadata": {}
                },
                {
                    "output_type": "execute_result",
                    "execution_count": 34,
                    "data": {
                        "application/vnd.dataresource+json": {
                            "schema": {
                                "fields": [
                                    {
                                        "name": "AbilitySlot"
                                    },
                                    {
                                        "name": "Ability"
                                    },
                                    {
                                        "name": "Count"
                                    }
                                ]
                            },
                            "data": [
                                {
                                    "AbilitySlot": "Ability1",
                                    "Ability": "Chlorophyll",
                                    "Count": "19"
                                },
                                {
                                    "AbilitySlot": "Ability1",
                                    "Ability": "Swift Swim",
                                    "Count": "19"
                                },
                                {
                                    "AbilitySlot": "Ability2",
                                    "Ability": "Early Bird",
                                    "Count": "9"
                                },
                                {
                                    "AbilitySlot": "Ability2",
                                    "Ability": "Flash Fire",
                                    "Count": "9"
                                },
                                {
                                    "AbilitySlot": "Ability2",
                                    "Ability": "Sturdy",
                                    "Count": "9"
                                },
                                {
                                    "AbilitySlot": "Ability3",
                                    "Ability": "Sheer Force",
                                    "Count": "10"
                                }
                            ]
                        },
                        "text/html": "<table><tr><th>AbilitySlot</th><th>Ability</th><th>Count</th></tr><tr><td>Ability1</td><td>Chlorophyll</td><td>19</td></tr><tr><td>Ability1</td><td>Swift Swim</td><td>19</td></tr><tr><td>Ability2</td><td>Early Bird</td><td>9</td></tr><tr><td>Ability2</td><td>Flash Fire</td><td>9</td></tr><tr><td>Ability2</td><td>Sturdy</td><td>9</td></tr><tr><td>Ability3</td><td>Sheer Force</td><td>10</td></tr></table>"
                    },
                    "metadata": {}
                }
            ],
            "execution_count": 34
        },
        {
            "cell_type": "markdown",
            "source": [
                "### **Query 5**\n",
                "\n",
                "**Proposition:** Write a query that retrieves the Pokemon from all 3 generations that have a Defense value higher than the Special Defense Value\n",
                "\n",
                "**Tables:**\n",
                "\n",
                "- PokemonGen1.dbo.PokemonGen1 \n",
                "- PokemonGen2.dbo.PokemonGen2 \n",
                "- PokemonGen3.dbo.PokemonGen3 \n",
                "\n",
                "**Columns:**\n",
                "\n",
                "- Generation \n",
                "- Name \n",
                "- Defense \n",
                "- SpecialDefense \n",
                "\n",
                "**Predicate:**\n",
                "\n",
                "- There are 3 subqueries for each generation of Pokemon, it takes the generation name and then retrieves the name of the Pokemon, Defense, and SpecialDefense stats from the Pokemon table, then the data is filtered to only include the Pokemon that have a Defense higher than the Special Defense\n",
                "- The UNION ALL operator is then used to combine the results from all three of the subqueries\n",
                "- The outer query then takes the columns from the combined results and adds a Generation column to specify the generation of the Pokemon"
            ],
            "metadata": {
                "azdata_cell_guid": "91f985c3-823d-48ce-91c7-8bc973f87f4e"
            },
            "attachments": {}
        },
        {
            "cell_type": "code",
            "source": [
                "SELECT *\r\n",
                "FROM (\r\n",
                "    SELECT 'Generation 1' AS Generation, Name, Defense, SpecialDefense\r\n",
                "    FROM PokemonGen1.dbo.PokemonGen1\r\n",
                "    WHERE Defense > SpecialDefense\r\n",
                "\r\n",
                "    UNION ALL\r\n",
                "\r\n",
                "    SELECT 'Generation 2' AS Generation, Name, Defense, SpecialDefense\r\n",
                "    FROM PokemonGen2.dbo.PokemonGen2\r\n",
                "    WHERE Defense > SpecialDefense\r\n",
                "\r\n",
                "    UNION ALL\r\n",
                "\r\n",
                "    SELECT 'Generation 3' AS Generation, Name, Defense, SpecialDefense\r\n",
                "    FROM PokemonGen3.dbo.PokemonGen3\r\n",
                "    WHERE Defense > SpecialDefense\r\n",
                ") AS AllGenerations\r\n",
                "ORDER BY Generation, Name;\r\n",
                ""
            ],
            "metadata": {
                "azdata_cell_guid": "23f88d9f-8ad2-4121-8136-124928b6326e",
                "language": "sql"
            },
            "outputs": [
                {
                    "output_type": "display_data",
                    "data": {
                        "text/html": "(123 rows affected)"
                    },
                    "metadata": {}
                },
                {
                    "output_type": "display_data",
                    "data": {
                        "text/html": "Total execution time: 00:00:00.008"
                    },
                    "metadata": {}
                },
                {
                    "output_type": "execute_result",
                    "execution_count": 35,
                    "data": {
                        "application/vnd.dataresource+json": {
                            "schema": {
                                "fields": [
                                    {
                                        "name": "Generation"
                                    },
                                    {
                                        "name": "Name"
                                    },
                                    {
                                        "name": "Defense"
                                    },
                                    {
                                        "name": "SpecialDefense"
                                    }
                                ]
                            },
                            "data": [
                                {
                                    "Generation": "Generation 1",
                                    "Name": "\tRhydon",
                                    "Defense": "120",
                                    "SpecialDefense": "45"
                                },
                                {
                                    "Generation": "Generation 1",
                                    "Name": "\tTangela",
                                    "Defense": "115",
                                    "SpecialDefense": "40"
                                },
                                {
                                    "Generation": "Generation 1",
                                    "Name": "Bellsprout",
                                    "Defense": "35",
                                    "SpecialDefense": "30"
                                },
                                {
                                    "Generation": "Generation 1",
                                    "Name": "Caterpie",
                                    "Defense": "35",
                                    "SpecialDefense": "20"
                                },
                                {
                                    "Generation": "Generation 1",
                                    "Name": "Cloyster",
                                    "Defense": "180",
                                    "SpecialDefense": "45"
                                },
                                {
                                    "Generation": "Generation 1",
                                    "Name": "Cubone",
                                    "Defense": "95",
                                    "SpecialDefense": "50"
                                },
                                {
                                    "Generation": "Generation 1",
                                    "Name": "Dodrio",
                                    "Defense": "70",
                                    "SpecialDefense": "60"
                                },
                                {
                                    "Generation": "Generation 1",
                                    "Name": "Doduo",
                                    "Defense": "45",
                                    "SpecialDefense": "35"
                                },
                                {
                                    "Generation": "Generation 1",
                                    "Name": "Exeggcute",
                                    "Defense": "80",
                                    "SpecialDefense": "45"
                                },
                                {
                                    "Generation": "Generation 1",
                                    "Name": "Exeggutor",
                                    "Defense": "85",
                                    "SpecialDefense": "75"
                                },
                                {
                                    "Generation": "Generation 1",
                                    "Name": "Fearow",
                                    "Defense": "65",
                                    "SpecialDefense": "61"
                                },
                                {
                                    "Generation": "Generation 1",
                                    "Name": "Geodude",
                                    "Defense": "100",
                                    "SpecialDefense": "30"
                                },
                                {
                                    "Generation": "Generation 1",
                                    "Name": "Goldeen",
                                    "Defense": "60",
                                    "SpecialDefense": "50"
                                },
                                {
                                    "Generation": "Generation 1",
                                    "Name": "Golem",
                                    "Defense": "130",
                                    "SpecialDefense": "65"
                                },
                                {
                                    "Generation": "Generation 1",
                                    "Name": "Graveler",
                                    "Defense": "115",
                                    "SpecialDefense": "45"
                                },
                                {
                                    "Generation": "Generation 1",
                                    "Name": "Horsea",
                                    "Defense": "70",
                                    "SpecialDefense": "25"
                                },
                                {
                                    "Generation": "Generation 1",
                                    "Name": "Kabuto",
                                    "Defense": "90",
                                    "SpecialDefense": "45"
                                },
                                {
                                    "Generation": "Generation 1",
                                    "Name": "Kabutops",
                                    "Defense": "105",
                                    "SpecialDefense": "70"
                                },
                                {
                                    "Generation": "Generation 1",
                                    "Name": "Kakuna",
                                    "Defense": "50",
                                    "SpecialDefense": "25"
                                },
                                {
                                    "Generation": "Generation 1",
                                    "Name": "Kingler",
                                    "Defense": "115",
                                    "SpecialDefense": "50"
                                },
                                {
                                    "Generation": "Generation 1",
                                    "Name": "Koffing",
                                    "Defense": "95",
                                    "SpecialDefense": "45"
                                },
                                {
                                    "Generation": "Generation 1",
                                    "Name": "Krabby",
                                    "Defense": "90",
                                    "SpecialDefense": "25"
                                },
                                {
                                    "Generation": "Generation 1",
                                    "Name": "Machoke",
                                    "Defense": "70",
                                    "SpecialDefense": "60"
                                },
                                {
                                    "Generation": "Generation 1",
                                    "Name": "Machop",
                                    "Defense": "50",
                                    "SpecialDefense": "35"
                                },
                                {
                                    "Generation": "Generation 1",
                                    "Name": "Magikarp",
                                    "Defense": "55",
                                    "SpecialDefense": "20"
                                },
                                {
                                    "Generation": "Generation 1",
                                    "Name": "Magnemite",
                                    "Defense": "70",
                                    "SpecialDefense": "55"
                                },
                                {
                                    "Generation": "Generation 1",
                                    "Name": "Magneton",
                                    "Defense": "95",
                                    "SpecialDefense": "70"
                                },
                                {
                                    "Generation": "Generation 1",
                                    "Name": "Marowak",
                                    "Defense": "110",
                                    "SpecialDefense": "80"
                                },
                                {
                                    "Generation": "Generation 1",
                                    "Name": "Metapod",
                                    "Defense": "55",
                                    "SpecialDefense": "25"
                                },
                                {
                                    "Generation": "Generation 1",
                                    "Name": "Moltres",
                                    "Defense": "90",
                                    "SpecialDefense": "85"
                                },
                                {
                                    "Generation": "Generation 1",
                                    "Name": "Nidoking",
                                    "Defense": "77",
                                    "SpecialDefense": "75"
                                },
                                {
                                    "Generation": "Generation 1",
                                    "Name": "Nidoqueen",
                                    "Defense": "87",
                                    "SpecialDefense": "85"
                                },
                                {
                                    "Generation": "Generation 1",
                                    "Name": "Nidoran?",
                                    "Defense": "52",
                                    "SpecialDefense": "40"
                                },
                                {
                                    "Generation": "Generation 1",
                                    "Name": "Nidorina",
                                    "Defense": "67",
                                    "SpecialDefense": "55"
                                },
                                {
                                    "Generation": "Generation 1",
                                    "Name": "Nidorino",
                                    "Defense": "57",
                                    "SpecialDefense": "55"
                                },
                                {
                                    "Generation": "Generation 1",
                                    "Name": "Omanyte",
                                    "Defense": "100",
                                    "SpecialDefense": "55"
                                },
                                {
                                    "Generation": "Generation 1",
                                    "Name": "Omastar",
                                    "Defense": "125",
                                    "SpecialDefense": "70"
                                },
                                {
                                    "Generation": "Generation 1",
                                    "Name": "Onix",
                                    "Defense": "160",
                                    "SpecialDefense": "45"
                                },
                                {
                                    "Generation": "Generation 1",
                                    "Name": "Pidgeot",
                                    "Defense": "75",
                                    "SpecialDefense": "70"
                                },
                                {
                                    "Generation": "Generation 1",
                                    "Name": "Pidgeotto",
                                    "Defense": "55",
                                    "SpecialDefense": "50"
                                },
                                {
                                    "Generation": "Generation 1",
                                    "Name": "Pidgey",
                                    "Defense": "40",
                                    "SpecialDefense": "35"
                                },
                                {
                                    "Generation": "Generation 1",
                                    "Name": "Pinsir",
                                    "Defense": "100",
                                    "SpecialDefense": "70"
                                },
                                {
                                    "Generation": "Generation 1",
                                    "Name": "Poliwhirl",
                                    "Defense": "65",
                                    "SpecialDefense": "50"
                                },
                                {
                                    "Generation": "Generation 1",
                                    "Name": "Poliwrath",
                                    "Defense": "95",
                                    "SpecialDefense": "90"
                                },
                                {
                                    "Generation": "Generation 1",
                                    "Name": "Rhyhorn",
                                    "Defense": "95",
                                    "SpecialDefense": "30"
                                },
                                {
                                    "Generation": "Generation 1",
                                    "Name": "Sandshrew",
                                    "Defense": "85",
                                    "SpecialDefense": "30"
                                },
                                {
                                    "Generation": "Generation 1",
                                    "Name": "Sandslash",
                                    "Defense": "110",
                                    "SpecialDefense": "55"
                                },
                                {
                                    "Generation": "Generation 1",
                                    "Name": "Seadra",
                                    "Defense": "95",
                                    "SpecialDefense": "45"
                                },
                                {
                                    "Generation": "Generation 1",
                                    "Name": "Shellder",
                                    "Defense": "100",
                                    "SpecialDefense": "25"
                                },
                                {
                                    "Generation": "Generation 1",
                                    "Name": "Slowbro",
                                    "Defense": "110",
                                    "SpecialDefense": "80"
                                },
                                {
                                    "Generation": "Generation 1",
                                    "Name": "Slowpoke",
                                    "Defense": "65",
                                    "SpecialDefense": "40"
                                },
                                {
                                    "Generation": "Generation 1",
                                    "Name": "Squirtle",
                                    "Defense": "65",
                                    "SpecialDefense": "64"
                                },
                                {
                                    "Generation": "Generation 1",
                                    "Name": "Tauros",
                                    "Defense": "95",
                                    "SpecialDefense": "70"
                                },
                                {
                                    "Generation": "Generation 1",
                                    "Name": "Weedle",
                                    "Defense": "30",
                                    "SpecialDefense": "20"
                                },
                                {
                                    "Generation": "Generation 1",
                                    "Name": "Weepinbell",
                                    "Defense": "50",
                                    "SpecialDefense": "45"
                                },
                                {
                                    "Generation": "Generation 1",
                                    "Name": "Weezing",
                                    "Defense": "120",
                                    "SpecialDefense": "70"
                                },
                                {
                                    "Generation": "Generation 2",
                                    "Name": "Croconaw",
                                    "Defense": "80",
                                    "SpecialDefense": "63"
                                },
                                {
                                    "Generation": "Generation 2",
                                    "Name": "Donphan",
                                    "Defense": "120",
                                    "SpecialDefense": "60"
                                },
                                {
                                    "Generation": "Generation 2",
                                    "Name": "Dunsparce",
                                    "Defense": "70",
                                    "SpecialDefense": "65"
                                },
                                {
                                    "Generation": "Generation 2",
                                    "Name": "Entei",
                                    "Defense": "85",
                                    "SpecialDefense": "75"
                                },
                                {
                                    "Generation": "Generation 2",
                                    "Name": "Feraligatr",
                                    "Defense": "100",
                                    "SpecialDefense": "83"
                                },
                                {
                                    "Generation": "Generation 2",
                                    "Name": "Forretress",
                                    "Defense": "140",
                                    "SpecialDefense": "60"
                                },
                                {
                                    "Generation": "Generation 2",
                                    "Name": "Furret",
                                    "Defense": "64",
                                    "SpecialDefense": "55"
                                },
                                {
                                    "Generation": "Generation 2",
                                    "Name": "Gligar",
                                    "Defense": "105",
                                    "SpecialDefense": "65"
                                },
                                {
                                    "Generation": "Generation 2",
                                    "Name": "Granbull",
                                    "Defense": "75",
                                    "SpecialDefense": "60"
                                },
                                {
                                    "Generation": "Generation 2",
                                    "Name": "Magcargo",
                                    "Defense": "120",
                                    "SpecialDefense": "80"
                                },
                                {
                                    "Generation": "Generation 2",
                                    "Name": "Miltank",
                                    "Defense": "105",
                                    "SpecialDefense": "70"
                                },
                                {
                                    "Generation": "Generation 2",
                                    "Name": "Phanpy",
                                    "Defense": "60",
                                    "SpecialDefense": "40"
                                },
                                {
                                    "Generation": "Generation 2",
                                    "Name": "Piloswine",
                                    "Defense": "80",
                                    "SpecialDefense": "60"
                                },
                                {
                                    "Generation": "Generation 2",
                                    "Name": "Pineco",
                                    "Defense": "90",
                                    "SpecialDefense": "35"
                                },
                                {
                                    "Generation": "Generation 2",
                                    "Name": "Quagsire",
                                    "Defense": "85",
                                    "SpecialDefense": "65"
                                },
                                {
                                    "Generation": "Generation 2",
                                    "Name": "Qwilfish",
                                    "Defense": "85",
                                    "SpecialDefense": "55"
                                },
                                {
                                    "Generation": "Generation 2",
                                    "Name": "Scizor",
                                    "Defense": "100",
                                    "SpecialDefense": "80"
                                },
                                {
                                    "Generation": "Generation 2",
                                    "Name": "Skarmory",
                                    "Defense": "140",
                                    "SpecialDefense": "70"
                                },
                                {
                                    "Generation": "Generation 2",
                                    "Name": "Snubbull",
                                    "Defense": "50",
                                    "SpecialDefense": "40"
                                },
                                {
                                    "Generation": "Generation 2",
                                    "Name": "Steelix",
                                    "Defense": "200",
                                    "SpecialDefense": "65"
                                },
                                {
                                    "Generation": "Generation 2",
                                    "Name": "Sudowoodo",
                                    "Defense": "115",
                                    "SpecialDefense": "65"
                                },
                                {
                                    "Generation": "Generation 2",
                                    "Name": "Swinub",
                                    "Defense": "40",
                                    "SpecialDefense": "30"
                                },
                                {
                                    "Generation": "Generation 2",
                                    "Name": "Totodile",
                                    "Defense": "64",
                                    "SpecialDefense": "48"
                                },
                                {
                                    "Generation": "Generation 2",
                                    "Name": "Tyranitar",
                                    "Defense": "110",
                                    "SpecialDefense": "100"
                                },
                                {
                                    "Generation": "Generation 2",
                                    "Name": "Wooper",
                                    "Defense": "45",
                                    "SpecialDefense": "25"
                                },
                                {
                                    "Generation": "Generation 3",
                                    "Name": "Aggron",
                                    "Defense": "180",
                                    "SpecialDefense": "60"
                                },
                                {
                                    "Generation": "Generation 3",
                                    "Name": "Armaldo",
                                    "Defense": "100",
                                    "SpecialDefense": "80"
                                },
                                {
                                    "Generation": "Generation 3",
                                    "Name": "Aron",
                                    "Defense": "100",
                                    "SpecialDefense": "40"
                                },
                                {
                                    "Generation": "Generation 3",
                                    "Name": "Bagon",
                                    "Defense": "60",
                                    "SpecialDefense": "30"
                                },
                                {
                                    "Generation": "Generation 3",
                                    "Name": "Banette",
                                    "Defense": "65",
                                    "SpecialDefense": "63"
                                },
                                {
                                    "Generation": "Generation 3",
                                    "Name": "Barboach",
                                    "Defense": "43",
                                    "SpecialDefense": "41"
                                },
                                {
                                    "Generation": "Generation 3",
                                    "Name": "Beldum",
                                    "Defense": "80",
                                    "SpecialDefense": "60"
                                },
                                {
                                    "Generation": "Generation 3",
                                    "Name": "Breloom",
                                    "Defense": "80",
                                    "SpecialDefense": "60"
                                },
                                {
                                    "Generation": "Generation 3",
                                    "Name": "Cascoon",
                                    "Defense": "55",
                                    "SpecialDefense": "25"
                                },
                                {
                                    "Generation": "Generation 3",
                                    "Name": "Clamperl",
                                    "Defense": "85",
                                    "SpecialDefense": "55"
                                },
                                {
                                    "Generation": "Generation 3",
                                    "Name": "Corphish",
                                    "Defense": "65",
                                    "SpecialDefense": "35"
                                },
                                {
                                    "Generation": "Generation 3",
                                    "Name": "Crawdaunt",
                                    "Defense": "85",
                                    "SpecialDefense": "55"
                                },
                                {
                                    "Generation": "Generation 3",
                                    "Name": "Delcatty",
                                    "Defense": "65",
                                    "SpecialDefense": "55"
                                },
                                {
                                    "Generation": "Generation 3",
                                    "Name": "Gorebyss",
                                    "Defense": "105",
                                    "SpecialDefense": "75"
                                },
                                {
                                    "Generation": "Generation 3",
                                    "Name": "Groudon",
                                    "Defense": "140",
                                    "SpecialDefense": "90"
                                },
                                {
                                    "Generation": "Generation 3",
                                    "Name": "Huntail",
                                    "Defense": "105",
                                    "SpecialDefense": "75"
                                },
                                {
                                    "Generation": "Generation 3",
                                    "Name": "Lairon",
                                    "Defense": "140",
                                    "SpecialDefense": "50"
                                },
                                {
                                    "Generation": "Generation 3",
                                    "Name": "Mawile",
                                    "Defense": "85",
                                    "SpecialDefense": "55"
                                },
                                {
                                    "Generation": "Generation 3",
                                    "Name": "Metagross",
                                    "Defense": "130",
                                    "SpecialDefense": "90"
                                },
                                {
                                    "Generation": "Generation 3",
                                    "Name": "Metang",
                                    "Defense": "100",
                                    "SpecialDefense": "80"
                                },
                                {
                                    "Generation": "Generation 3",
                                    "Name": "Mightyena",
                                    "Defense": "70",
                                    "SpecialDefense": "60"
                                },
                                {
                                    "Generation": "Generation 3",
                                    "Name": "Nincada",
                                    "Defense": "90",
                                    "SpecialDefense": "30"
                                },
                                {
                                    "Generation": "Generation 3",
                                    "Name": "Nosepass",
                                    "Defense": "135",
                                    "SpecialDefense": "90"
                                },
                                {
                                    "Generation": "Generation 3",
                                    "Name": "Pelipper",
                                    "Defense": "100",
                                    "SpecialDefense": "70"
                                },
                                {
                                    "Generation": "Generation 3",
                                    "Name": "Poochyena",
                                    "Defense": "35",
                                    "SpecialDefense": "30"
                                },
                                {
                                    "Generation": "Generation 3",
                                    "Name": "Regirock",
                                    "Defense": "200",
                                    "SpecialDefense": "100"
                                },
                                {
                                    "Generation": "Generation 3",
                                    "Name": "Relicanth",
                                    "Defense": "130",
                                    "SpecialDefense": "65"
                                },
                                {
                                    "Generation": "Generation 3",
                                    "Name": "Sableye",
                                    "Defense": "75",
                                    "SpecialDefense": "65"
                                },
                                {
                                    "Generation": "Generation 3",
                                    "Name": "Seedot",
                                    "Defense": "50",
                                    "SpecialDefense": "30"
                                },
                                {
                                    "Generation": "Generation 3",
                                    "Name": "Shedinja",
                                    "Defense": "45",
                                    "SpecialDefense": "30"
                                },
                                {
                                    "Generation": "Generation 3",
                                    "Name": "Shelgon",
                                    "Defense": "100",
                                    "SpecialDefense": "50"
                                },
                                {
                                    "Generation": "Generation 3",
                                    "Name": "Shuppet",
                                    "Defense": "35",
                                    "SpecialDefense": "33"
                                },
                                {
                                    "Generation": "Generation 3",
                                    "Name": "Silcoon",
                                    "Defense": "55",
                                    "SpecialDefense": "25"
                                },
                                {
                                    "Generation": "Generation 3",
                                    "Name": "Skitty",
                                    "Defense": "45",
                                    "SpecialDefense": "35"
                                },
                                {
                                    "Generation": "Generation 3",
                                    "Name": "Slaking",
                                    "Defense": "100",
                                    "SpecialDefense": "65"
                                },
                                {
                                    "Generation": "Generation 3",
                                    "Name": "Slakoth",
                                    "Defense": "60",
                                    "SpecialDefense": "35"
                                },
                                {
                                    "Generation": "Generation 3",
                                    "Name": "Solrock",
                                    "Defense": "85",
                                    "SpecialDefense": "65"
                                },
                                {
                                    "Generation": "Generation 3",
                                    "Name": "Swellow",
                                    "Defense": "60",
                                    "SpecialDefense": "50"
                                },
                                {
                                    "Generation": "Generation 3",
                                    "Name": "Torkoal",
                                    "Defense": "140",
                                    "SpecialDefense": "70"
                                },
                                {
                                    "Generation": "Generation 3",
                                    "Name": "Vigoroth",
                                    "Defense": "80",
                                    "SpecialDefense": "55"
                                },
                                {
                                    "Generation": "Generation 3",
                                    "Name": "Whiscash",
                                    "Defense": "73",
                                    "SpecialDefense": "71"
                                },
                                {
                                    "Generation": "Generation 3",
                                    "Name": "Wurmple",
                                    "Defense": "35",
                                    "SpecialDefense": "30"
                                }
                            ]
                        },
                        "text/html": "<table><tr><th>Generation</th><th>Name</th><th>Defense</th><th>SpecialDefense</th></tr><tr><td>Generation 1</td><td>\tRhydon</td><td>120</td><td>45</td></tr><tr><td>Generation 1</td><td>\tTangela</td><td>115</td><td>40</td></tr><tr><td>Generation 1</td><td>Bellsprout</td><td>35</td><td>30</td></tr><tr><td>Generation 1</td><td>Caterpie</td><td>35</td><td>20</td></tr><tr><td>Generation 1</td><td>Cloyster</td><td>180</td><td>45</td></tr><tr><td>Generation 1</td><td>Cubone</td><td>95</td><td>50</td></tr><tr><td>Generation 1</td><td>Dodrio</td><td>70</td><td>60</td></tr><tr><td>Generation 1</td><td>Doduo</td><td>45</td><td>35</td></tr><tr><td>Generation 1</td><td>Exeggcute</td><td>80</td><td>45</td></tr><tr><td>Generation 1</td><td>Exeggutor</td><td>85</td><td>75</td></tr><tr><td>Generation 1</td><td>Fearow</td><td>65</td><td>61</td></tr><tr><td>Generation 1</td><td>Geodude</td><td>100</td><td>30</td></tr><tr><td>Generation 1</td><td>Goldeen</td><td>60</td><td>50</td></tr><tr><td>Generation 1</td><td>Golem</td><td>130</td><td>65</td></tr><tr><td>Generation 1</td><td>Graveler</td><td>115</td><td>45</td></tr><tr><td>Generation 1</td><td>Horsea</td><td>70</td><td>25</td></tr><tr><td>Generation 1</td><td>Kabuto</td><td>90</td><td>45</td></tr><tr><td>Generation 1</td><td>Kabutops</td><td>105</td><td>70</td></tr><tr><td>Generation 1</td><td>Kakuna</td><td>50</td><td>25</td></tr><tr><td>Generation 1</td><td>Kingler</td><td>115</td><td>50</td></tr><tr><td>Generation 1</td><td>Koffing</td><td>95</td><td>45</td></tr><tr><td>Generation 1</td><td>Krabby</td><td>90</td><td>25</td></tr><tr><td>Generation 1</td><td>Machoke</td><td>70</td><td>60</td></tr><tr><td>Generation 1</td><td>Machop</td><td>50</td><td>35</td></tr><tr><td>Generation 1</td><td>Magikarp</td><td>55</td><td>20</td></tr><tr><td>Generation 1</td><td>Magnemite</td><td>70</td><td>55</td></tr><tr><td>Generation 1</td><td>Magneton</td><td>95</td><td>70</td></tr><tr><td>Generation 1</td><td>Marowak</td><td>110</td><td>80</td></tr><tr><td>Generation 1</td><td>Metapod</td><td>55</td><td>25</td></tr><tr><td>Generation 1</td><td>Moltres</td><td>90</td><td>85</td></tr><tr><td>Generation 1</td><td>Nidoking</td><td>77</td><td>75</td></tr><tr><td>Generation 1</td><td>Nidoqueen</td><td>87</td><td>85</td></tr><tr><td>Generation 1</td><td>Nidoran?</td><td>52</td><td>40</td></tr><tr><td>Generation 1</td><td>Nidorina</td><td>67</td><td>55</td></tr><tr><td>Generation 1</td><td>Nidorino</td><td>57</td><td>55</td></tr><tr><td>Generation 1</td><td>Omanyte</td><td>100</td><td>55</td></tr><tr><td>Generation 1</td><td>Omastar</td><td>125</td><td>70</td></tr><tr><td>Generation 1</td><td>Onix</td><td>160</td><td>45</td></tr><tr><td>Generation 1</td><td>Pidgeot</td><td>75</td><td>70</td></tr><tr><td>Generation 1</td><td>Pidgeotto</td><td>55</td><td>50</td></tr><tr><td>Generation 1</td><td>Pidgey</td><td>40</td><td>35</td></tr><tr><td>Generation 1</td><td>Pinsir</td><td>100</td><td>70</td></tr><tr><td>Generation 1</td><td>Poliwhirl</td><td>65</td><td>50</td></tr><tr><td>Generation 1</td><td>Poliwrath</td><td>95</td><td>90</td></tr><tr><td>Generation 1</td><td>Rhyhorn</td><td>95</td><td>30</td></tr><tr><td>Generation 1</td><td>Sandshrew</td><td>85</td><td>30</td></tr><tr><td>Generation 1</td><td>Sandslash</td><td>110</td><td>55</td></tr><tr><td>Generation 1</td><td>Seadra</td><td>95</td><td>45</td></tr><tr><td>Generation 1</td><td>Shellder</td><td>100</td><td>25</td></tr><tr><td>Generation 1</td><td>Slowbro</td><td>110</td><td>80</td></tr><tr><td>Generation 1</td><td>Slowpoke</td><td>65</td><td>40</td></tr><tr><td>Generation 1</td><td>Squirtle</td><td>65</td><td>64</td></tr><tr><td>Generation 1</td><td>Tauros</td><td>95</td><td>70</td></tr><tr><td>Generation 1</td><td>Weedle</td><td>30</td><td>20</td></tr><tr><td>Generation 1</td><td>Weepinbell</td><td>50</td><td>45</td></tr><tr><td>Generation 1</td><td>Weezing</td><td>120</td><td>70</td></tr><tr><td>Generation 2</td><td>Croconaw</td><td>80</td><td>63</td></tr><tr><td>Generation 2</td><td>Donphan</td><td>120</td><td>60</td></tr><tr><td>Generation 2</td><td>Dunsparce</td><td>70</td><td>65</td></tr><tr><td>Generation 2</td><td>Entei</td><td>85</td><td>75</td></tr><tr><td>Generation 2</td><td>Feraligatr</td><td>100</td><td>83</td></tr><tr><td>Generation 2</td><td>Forretress</td><td>140</td><td>60</td></tr><tr><td>Generation 2</td><td>Furret</td><td>64</td><td>55</td></tr><tr><td>Generation 2</td><td>Gligar</td><td>105</td><td>65</td></tr><tr><td>Generation 2</td><td>Granbull</td><td>75</td><td>60</td></tr><tr><td>Generation 2</td><td>Magcargo</td><td>120</td><td>80</td></tr><tr><td>Generation 2</td><td>Miltank</td><td>105</td><td>70</td></tr><tr><td>Generation 2</td><td>Phanpy</td><td>60</td><td>40</td></tr><tr><td>Generation 2</td><td>Piloswine</td><td>80</td><td>60</td></tr><tr><td>Generation 2</td><td>Pineco</td><td>90</td><td>35</td></tr><tr><td>Generation 2</td><td>Quagsire</td><td>85</td><td>65</td></tr><tr><td>Generation 2</td><td>Qwilfish</td><td>85</td><td>55</td></tr><tr><td>Generation 2</td><td>Scizor</td><td>100</td><td>80</td></tr><tr><td>Generation 2</td><td>Skarmory</td><td>140</td><td>70</td></tr><tr><td>Generation 2</td><td>Snubbull</td><td>50</td><td>40</td></tr><tr><td>Generation 2</td><td>Steelix</td><td>200</td><td>65</td></tr><tr><td>Generation 2</td><td>Sudowoodo</td><td>115</td><td>65</td></tr><tr><td>Generation 2</td><td>Swinub</td><td>40</td><td>30</td></tr><tr><td>Generation 2</td><td>Totodile</td><td>64</td><td>48</td></tr><tr><td>Generation 2</td><td>Tyranitar</td><td>110</td><td>100</td></tr><tr><td>Generation 2</td><td>Wooper</td><td>45</td><td>25</td></tr><tr><td>Generation 3</td><td>Aggron</td><td>180</td><td>60</td></tr><tr><td>Generation 3</td><td>Armaldo</td><td>100</td><td>80</td></tr><tr><td>Generation 3</td><td>Aron</td><td>100</td><td>40</td></tr><tr><td>Generation 3</td><td>Bagon</td><td>60</td><td>30</td></tr><tr><td>Generation 3</td><td>Banette</td><td>65</td><td>63</td></tr><tr><td>Generation 3</td><td>Barboach</td><td>43</td><td>41</td></tr><tr><td>Generation 3</td><td>Beldum</td><td>80</td><td>60</td></tr><tr><td>Generation 3</td><td>Breloom</td><td>80</td><td>60</td></tr><tr><td>Generation 3</td><td>Cascoon</td><td>55</td><td>25</td></tr><tr><td>Generation 3</td><td>Clamperl</td><td>85</td><td>55</td></tr><tr><td>Generation 3</td><td>Corphish</td><td>65</td><td>35</td></tr><tr><td>Generation 3</td><td>Crawdaunt</td><td>85</td><td>55</td></tr><tr><td>Generation 3</td><td>Delcatty</td><td>65</td><td>55</td></tr><tr><td>Generation 3</td><td>Gorebyss</td><td>105</td><td>75</td></tr><tr><td>Generation 3</td><td>Groudon</td><td>140</td><td>90</td></tr><tr><td>Generation 3</td><td>Huntail</td><td>105</td><td>75</td></tr><tr><td>Generation 3</td><td>Lairon</td><td>140</td><td>50</td></tr><tr><td>Generation 3</td><td>Mawile</td><td>85</td><td>55</td></tr><tr><td>Generation 3</td><td>Metagross</td><td>130</td><td>90</td></tr><tr><td>Generation 3</td><td>Metang</td><td>100</td><td>80</td></tr><tr><td>Generation 3</td><td>Mightyena</td><td>70</td><td>60</td></tr><tr><td>Generation 3</td><td>Nincada</td><td>90</td><td>30</td></tr><tr><td>Generation 3</td><td>Nosepass</td><td>135</td><td>90</td></tr><tr><td>Generation 3</td><td>Pelipper</td><td>100</td><td>70</td></tr><tr><td>Generation 3</td><td>Poochyena</td><td>35</td><td>30</td></tr><tr><td>Generation 3</td><td>Regirock</td><td>200</td><td>100</td></tr><tr><td>Generation 3</td><td>Relicanth</td><td>130</td><td>65</td></tr><tr><td>Generation 3</td><td>Sableye</td><td>75</td><td>65</td></tr><tr><td>Generation 3</td><td>Seedot</td><td>50</td><td>30</td></tr><tr><td>Generation 3</td><td>Shedinja</td><td>45</td><td>30</td></tr><tr><td>Generation 3</td><td>Shelgon</td><td>100</td><td>50</td></tr><tr><td>Generation 3</td><td>Shuppet</td><td>35</td><td>33</td></tr><tr><td>Generation 3</td><td>Silcoon</td><td>55</td><td>25</td></tr><tr><td>Generation 3</td><td>Skitty</td><td>45</td><td>35</td></tr><tr><td>Generation 3</td><td>Slaking</td><td>100</td><td>65</td></tr><tr><td>Generation 3</td><td>Slakoth</td><td>60</td><td>35</td></tr><tr><td>Generation 3</td><td>Solrock</td><td>85</td><td>65</td></tr><tr><td>Generation 3</td><td>Swellow</td><td>60</td><td>50</td></tr><tr><td>Generation 3</td><td>Torkoal</td><td>140</td><td>70</td></tr><tr><td>Generation 3</td><td>Vigoroth</td><td>80</td><td>55</td></tr><tr><td>Generation 3</td><td>Whiscash</td><td>73</td><td>71</td></tr><tr><td>Generation 3</td><td>Wurmple</td><td>35</td><td>30</td></tr></table>"
                    },
                    "metadata": {}
                }
            ],
            "execution_count": 35
        },
        {
            "cell_type": "markdown",
            "source": [
                "### **Query 6**\n",
                "\n",
                "**Proposition:** Write a query that calculates the average values of the attributes of Pokemon: HP, Attack, Defense, Special Attack, Special Defense, and Speed across all 3 generations\n",
                "\n",
                "**Tables:**\n",
                "\n",
                "- PokemonGen1.dbo.PokemonGen1 \n",
                "- PokemonGen2.dbo.PokemonGen2 \n",
                "- PokemonGen3.dbo.PokemonGen3 \n",
                "\n",
                "**Columns:**\n",
                "\n",
                "- HP \n",
                "- Attack \n",
                "- Defense \n",
                "- SpecialAttack \n",
                "- SpecialDefense\n",
                "- Speed \n",
                "\n",
                "**Predicate:**\n",
                "\n",
                "- The UNION ALL is used with a subquery that takes the data from all 3 generations of Pokemon to combine the  HP, Attack, Defense, Special Attack, Special Defense, and Speed\n",
                "- The outer query then calculates the average of each attribute using the AVG() function"
            ],
            "metadata": {
                "azdata_cell_guid": "40a3071d-6c04-41a9-99a1-9a63ef613fa8"
            },
            "attachments": {}
        },
        {
            "cell_type": "code",
            "source": [
                "SELECT \r\n",
                "    AVG(HP) AS Average_HP,\r\n",
                "    AVG(Attack) AS Average_Attack,\r\n",
                "    AVG(Defense) AS Average_Defense,\r\n",
                "    AVG(SpecialAttack) AS Average_SpecialAttack,\r\n",
                "    AVG(SpecialDefense) AS Average_SpecialDefense,\r\n",
                "    AVG(Speed) AS Average_Speed\r\n",
                "FROM (\r\n",
                "    SELECT HP, Attack, Defense, SpecialAttack, SpecialDefense, Speed\r\n",
                "    FROM PokemonGen1.dbo.PokemonGen1\r\n",
                "\r\n",
                "    UNION ALL\r\n",
                "\r\n",
                "    SELECT HP, Attack, Defense, SpecialAttack, SpecialDefense, Speed\r\n",
                "    FROM PokemonGen2.dbo.PokemonGen2\r\n",
                "\r\n",
                "    UNION ALL\r\n",
                "\r\n",
                "    SELECT HP, Attack, Defense, SpecialAttack, SpecialDefense, Speed\r\n",
                "    FROM PokemonGen3.dbo.PokemonGen3\r\n",
                ") AS AllGenerations;"
            ],
            "metadata": {
                "azdata_cell_guid": "cd6de199-7813-456a-98fb-4a82c7c9f319",
                "language": "sql",
                "tags": []
            },
            "outputs": [
                {
                    "output_type": "display_data",
                    "data": {
                        "text/html": "(1 row affected)"
                    },
                    "metadata": {}
                },
                {
                    "output_type": "display_data",
                    "data": {
                        "text/html": "Total execution time: 00:00:00.003"
                    },
                    "metadata": {}
                },
                {
                    "output_type": "execute_result",
                    "execution_count": 38,
                    "data": {
                        "application/vnd.dataresource+json": {
                            "schema": {
                                "fields": [
                                    {
                                        "name": "Average_HP"
                                    },
                                    {
                                        "name": "Average_Attack"
                                    },
                                    {
                                        "name": "Average_Defense"
                                    },
                                    {
                                        "name": "Average_SpecialAttack"
                                    },
                                    {
                                        "name": "Average_SpecialDefense"
                                    },
                                    {
                                        "name": "Average_Speed"
                                    }
                                ]
                            },
                            "data": [
                                {
                                    "Average_HP": "66",
                                    "Average_Attack": "71",
                                    "Average_Defense": "68",
                                    "Average_SpecialAttack": "66",
                                    "Average_SpecialDefense": "67",
                                    "Average_Speed": "64"
                                }
                            ]
                        },
                        "text/html": "<table><tr><th>Average_HP</th><th>Average_Attack</th><th>Average_Defense</th><th>Average_SpecialAttack</th><th>Average_SpecialDefense</th><th>Average_Speed</th></tr><tr><td>66</td><td>71</td><td>68</td><td>66</td><td>67</td><td>64</td></tr></table>"
                    },
                    "metadata": {}
                }
            ],
            "execution_count": 38
        },
        {
            "cell_type": "markdown",
            "source": [
                "### **Query 7**\n",
                "\n",
                "**Proposition:** Write a query that compares the average stats for HP, Attack, Defense, Special Attack, Special Defense, and Speed for all 3 generations of Pokemon\n",
                "\n",
                "**Tables:**\n",
                "\n",
                "- PokemonGen1.dbo.PokemonGen1 \n",
                "- PokemonGen2.dbo.PokemonGen2 \n",
                "- PokemonGen3.dbo.PokemonGen3 \n",
                "\n",
                "**Columns:**\n",
                "\n",
                "- Generation \n",
                "- AvgHP \n",
                "- AvgAttack \n",
                "- AvgDefense \n",
                "- AvgSpecialAttack \n",
                "- AvgSpecialDefense \n",
                "- AvgSpeed \n",
                "\n",
                "**Predicate:**\n",
                "\n",
                "- The ConbinedStats CTE is used to calculate the average for all the attributes that the Pokemon have\n",
                "- Then there are 3 subqueries that are used for each generation to calculate the average\n",
                "- The UNION ALL operator is then used to combine the results of the subqueries in to the CombinedStats table"
            ],
            "metadata": {
                "azdata_cell_guid": "aca20649-bd76-4a92-85a2-b97f1c0f5a42"
            },
            "attachments": {}
        },
        {
            "cell_type": "code",
            "source": [
                "WITH CombinedStats AS (\r\n",
                "    SELECT 'Gen1' AS Generation, \r\n",
                "           AVG(HP) AS AvgHP, \r\n",
                "           AVG(Attack) AS AvgAttack, \r\n",
                "           AVG(Defense) AS AvgDefense,\r\n",
                "           AVG(SpecialAttack) AS AvgSpecialAttack,\r\n",
                "           AVG(SpecialDefense) AS AvgSpecialDefense,\r\n",
                "           AVG(Speed) AS AvgSpeed\r\n",
                "    FROM PokemonGen1.dbo.PokemonGen1\r\n",
                "    UNION ALL\r\n",
                "    SELECT 'Gen2', \r\n",
                "           AVG(HP), \r\n",
                "           AVG(Attack), \r\n",
                "           AVG(Defense),\r\n",
                "           AVG(SpecialAttack),\r\n",
                "           AVG(SpecialDefense),\r\n",
                "           AVG(Speed)\r\n",
                "    FROM PokemonGen2.dbo.PokemonGen2\r\n",
                "    UNION ALL\r\n",
                "    SELECT 'Gen3', \r\n",
                "           AVG(HP), \r\n",
                "           AVG(Attack), \r\n",
                "           AVG(Defense),\r\n",
                "           AVG(SpecialAttack),\r\n",
                "           AVG(SpecialDefense),\r\n",
                "           AVG(Speed)\r\n",
                "    FROM PokemonGen3.dbo.PokemonGen3\r\n",
                ")\r\n",
                "SELECT Generation, \r\n",
                "       AvgHP, \r\n",
                "       AvgAttack, \r\n",
                "       AvgDefense,\r\n",
                "       AvgSpecialAttack,\r\n",
                "       AvgSpecialDefense,\r\n",
                "       AvgSpeed\r\n",
                "FROM CombinedStats;\r\n",
                ""
            ],
            "metadata": {
                "azdata_cell_guid": "964742cd-9e7d-4478-8d6e-e06b62005de1",
                "language": "sql"
            },
            "outputs": [
                {
                    "output_type": "display_data",
                    "data": {
                        "text/html": "(3 rows affected)"
                    },
                    "metadata": {}
                },
                {
                    "output_type": "display_data",
                    "data": {
                        "text/html": "Total execution time: 00:00:00.006"
                    },
                    "metadata": {}
                },
                {
                    "output_type": "execute_result",
                    "execution_count": 40,
                    "data": {
                        "application/vnd.dataresource+json": {
                            "schema": {
                                "fields": [
                                    {
                                        "name": "Generation"
                                    },
                                    {
                                        "name": "AvgHP"
                                    },
                                    {
                                        "name": "AvgAttack"
                                    },
                                    {
                                        "name": "AvgDefense"
                                    },
                                    {
                                        "name": "AvgSpecialAttack"
                                    },
                                    {
                                        "name": "AvgSpecialDefense"
                                    },
                                    {
                                        "name": "AvgSpeed"
                                    }
                                ]
                            },
                            "data": [
                                {
                                    "Generation": "Gen1",
                                    "AvgHP": "63",
                                    "AvgAttack": "72",
                                    "AvgDefense": "68",
                                    "AvgSpecialAttack": "67",
                                    "AvgSpecialDefense": "65",
                                    "AvgSpeed": "69"
                                },
                                {
                                    "Generation": "Gen2",
                                    "AvgHP": "70",
                                    "AvgAttack": "68",
                                    "AvgDefense": "69",
                                    "AvgSpecialAttack": "64",
                                    "AvgSpecialDefense": "72",
                                    "AvgSpeed": "61"
                                },
                                {
                                    "Generation": "Gen3",
                                    "AvgHP": "65",
                                    "AvgAttack": "73",
                                    "AvgDefense": "69",
                                    "AvgSpecialAttack": "67",
                                    "AvgSpecialDefense": "66",
                                    "AvgSpeed": "61"
                                }
                            ]
                        },
                        "text/html": "<table><tr><th>Generation</th><th>AvgHP</th><th>AvgAttack</th><th>AvgDefense</th><th>AvgSpecialAttack</th><th>AvgSpecialDefense</th><th>AvgSpeed</th></tr><tr><td>Gen1</td><td>63</td><td>72</td><td>68</td><td>67</td><td>65</td><td>69</td></tr><tr><td>Gen2</td><td>70</td><td>68</td><td>69</td><td>64</td><td>72</td><td>61</td></tr><tr><td>Gen3</td><td>65</td><td>73</td><td>69</td><td>67</td><td>66</td><td>61</td></tr></table>"
                    },
                    "metadata": {}
                }
            ],
            "execution_count": 40
        }
    ]
}
