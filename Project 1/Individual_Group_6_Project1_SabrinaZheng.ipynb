{
    "metadata": {
        "kernelspec": {
            "name": "SQL",
            "display_name": "SQL",
            "language": "sql"
        },
        "language_info": {
            "name": "sql",
            "version": ""
        }
    },
    "nbformat_minor": 2,
    "nbformat": 4,
    "cells": [
        {
            "cell_type": "markdown",
            "source": [
                "## **Sabrina Zheng | Group 6 | Project 1**\n",
                "\n",
                "### \n",
                "\n",
                "_Written in collaboration with ChatGPT from OpenAI to improve understanding, assist with the explanation of the query, and enhance formatting and display of the queries._\n",
                "\n",
                "### **Complex Queries:**\n",
                "\n",
                "### **Query 1**\n",
                "\n",
                "**Proposition:** <span style=\"color: var(--vscode-foreground);\">Identify the most frequently occuring Pokemon for both the primary type and secondary type categories accross the three Pokemon generations and ranks the counts based on it and select the type with the highest occurance in each category.</span>\n",
                "\n",
                "**Tables:**\n",
                "\n",
                "- PokemonGen1.dbo.PokemonGen1\n",
                "- PokemonGen2.dbo.PokemonGen2\n",
                "- PokemonGen3.dbo.PokemonGen3\n",
                "\n",
                "**Columns:**\n",
                "\n",
                "- Type1: The primary type of a Pokemon.\n",
                "- Type2: The secondary type of a Pokemon, which can be NULL if the Pokemon does not possess a secondary type.\n",
                "\n",
                "**Predicate:**\n",
                "\n",
                "- The query first aggregates the counts of each Pokemon for both Type1 and Type2 across all three generations in two separate CTE tables, Type1Counts and Type2Counts. It counts the number of occurances in the tables, excluding the null values. \n",
                "- Then it ranks the types based on the numbner of occurances using the RANK() function with two CTEs, RankType1 and RankType2\n",
                "- The query then selects the most common types from RankedType1 and RankedType2 where the rank is 1 by using a SELECT statement with a UNION ALL\n",
                "- If there are duplicates, or a case where the count is the same, all of them are diplayed"
            ],
            "metadata": {
                "azdata_cell_guid": "c921dbc1-94c8-4c59-b355-67c6a3b32448"
            },
            "attachments": {}
        },
        {
            "cell_type": "code",
            "source": [
                "WITH Type1Counts AS (\n",
                "    SELECT Type1 AS Type, COUNT(*) AS Count\n",
                "    FROM PokemonGen1.dbo.PokemonGen1\n",
                "    WHERE Type1 IS NOT NULL\n",
                "    GROUP BY Type1\n",
                "    UNION ALL\n",
                "    SELECT Type1, COUNT(*)\n",
                "    FROM PokemonGen2.dbo.PokemonGen2\n",
                "    WHERE Type1 IS NOT NULL\n",
                "    GROUP BY Type1\n",
                "    UNION ALL\n",
                "    SELECT Type1, COUNT(*)\n",
                "    FROM PokemonGen3.dbo.PokemonGen3\n",
                "    WHERE Type1 IS NOT NULL\n",
                "    GROUP BY Type1\n",
                "),\n",
                "Type2Counts AS (\n",
                "    SELECT Type2 AS Type, COUNT(*) AS Count\n",
                "    FROM PokemonGen1.dbo.PokemonGen1\n",
                "    WHERE Type2 IS NOT NULL\n",
                "    GROUP BY Type2\n",
                "    UNION ALL\n",
                "    SELECT Type2, COUNT(*)\n",
                "    FROM PokemonGen2.dbo.PokemonGen2\n",
                "    WHERE Type2 IS NOT NULL\n",
                "    GROUP BY Type2\n",
                "    UNION ALL\n",
                "    SELECT Type2, COUNT(*)\n",
                "    FROM PokemonGen3.dbo.PokemonGen3\n",
                "    WHERE Type2 IS NOT NULL\n",
                "    GROUP BY Type2\n",
                "),\n",
                "RankedType1 AS (\n",
                "    SELECT Type, Count, RANK() OVER (ORDER BY Count DESC) AS Rank\n",
                "    FROM Type1Counts\n",
                "),\n",
                "RankedType2 AS (\n",
                "    SELECT Type, Count, RANK() OVER (ORDER BY Count DESC) AS Rank\n",
                "    FROM Type2Counts\n",
                ")\n",
                "\n",
                "SELECT 'Type1' AS Category, Type, Count\n",
                "FROM RankedType1\n",
                "WHERE Rank = 1\n",
                "UNION ALL\n",
                "SELECT 'Type2' AS Category, Type, Count\n",
                "FROM RankedType2\n",
                "WHERE Rank = 1;\n",
                ""
            ],
            "metadata": {
                "azdata_cell_guid": "685327f8-8bed-4a08-8e49-5515e15d6e6f",
                "language": "sql"
            },
            "outputs": [
                {
                    "output_type": "display_data",
                    "data": {
                        "text/html": "(4 rows affected)"
                    },
                    "metadata": {}
                },
                {
                    "output_type": "display_data",
                    "data": {
                        "text/html": "Total execution time: 00:00:00.003"
                    },
                    "metadata": {}
                },
                {
                    "output_type": "execute_result",
                    "metadata": {},
                    "execution_count": 18,
                    "data": {
                        "application/vnd.dataresource+json": {
                            "schema": {
                                "fields": [
                                    {
                                        "name": "Category"
                                    },
                                    {
                                        "name": "Type"
                                    },
                                    {
                                        "name": "Count"
                                    }
                                ]
                            },
                            "data": [
                                {
                                    "Category": "Type1",
                                    "Type": "Water",
                                    "Count": "28"
                                },
                                {
                                    "Category": "Type2",
                                    "Type": "Flying",
                                    "Count": "19"
                                },
                                {
                                    "Category": "Type2",
                                    "Type": "Poison",
                                    "Count": "19"
                                },
                                {
                                    "Category": "Type2",
                                    "Type": "Flying",
                                    "Count": "19"
                                }
                            ]
                        },
                        "text/html": [
                            "<table>",
                            "<tr><th>Category</th><th>Type</th><th>Count</th></tr>",
                            "<tr><td>Type1</td><td>Water</td><td>28</td></tr>",
                            "<tr><td>Type2</td><td>Flying</td><td>19</td></tr>",
                            "<tr><td>Type2</td><td>Poison</td><td>19</td></tr>",
                            "<tr><td>Type2</td><td>Flying</td><td>19</td></tr>",
                            "</table>"
                        ]
                    }
                }
            ],
            "execution_count": 18
        },
        {
            "cell_type": "markdown",
            "source": [
                "### **Query 2**\n",
                "\n",
                "**Proposition:** Write a query that identifies the Pokemon types that were first introduced in Generation 2 and continue to appear in Generation 3 that illustrates the evolution and retention of Pokemon types across these generations.\n",
                "\n",
                "**Tables:**\n",
                "\n",
                "- PokemonGen1.dbo.PokemonGen1\n",
                "- PokemonGen2.dbo.PokemonGen2\n",
                "- PokemonGen3.dbo.PokemonGen3\n",
                "\n",
                "**Columns:**\n",
                "\n",
                "- Type1: The primary type of Pokémon.\n",
                "- Type2: The secondary type of Pokémon, which can be NULL if the Pokemon does not have a secondary type.\n",
                "\n",
                "**Predicate:**\n",
                "\n",
                "- It uses CTEs named Gen1Types, Gen2Types, and Gen3Types and gets a distinct list of both Type1 and Type2, exlcuding null\n",
                "- The CTE then fillters the types from Gen2Types by exclluding the ones in Gen1Types\n",
                "- The CTE continues the filter the types from Gen3Types by excluding the ones in Gen2Types\n",
                "- FInally the SELECT statement is used to list all the types that are introduced in Gen2 and are continued in Gen3. The output shows the types that were introduced in the middle generation and then adopted in the next generation."
            ],
            "metadata": {
                "azdata_cell_guid": "03b19f28-67df-4d78-a90c-02fd05387a10"
            },
            "attachments": {}
        },
        {
            "cell_type": "code",
            "source": [
                "WITH Gen1Types AS (\r\n",
                "    SELECT DISTINCT Type1 AS Type FROM PokemonGen1.dbo.PokemonGen1\r\n",
                "    UNION\r\n",
                "    SELECT DISTINCT Type2 FROM PokemonGen1.dbo.PokemonGen1 WHERE Type2 IS NOT NULL\r\n",
                "), \r\n",
                "Gen2Types AS (\r\n",
                "    SELECT DISTINCT Type1 AS Type FROM PokemonGen2.dbo.PokemonGen2\r\n",
                "    UNION\r\n",
                "    SELECT DISTINCT Type2 FROM PokemonGen2.dbo.PokemonGen2 WHERE Type2 IS NOT NULL\r\n",
                "),\r\n",
                "Gen3Types AS (\r\n",
                "    SELECT DISTINCT Type1 AS Type FROM PokemonGen3.dbo.PokemonGen3\r\n",
                "    UNION\r\n",
                "    SELECT DISTINCT Type2 FROM PokemonGen3.dbo.PokemonGen3 WHERE Type2 IS NOT NULL\r\n",
                "),\r\n",
                "IntroducedInGen2 AS (\r\n",
                "    SELECT Type FROM Gen2Types\r\n",
                "    WHERE Type NOT IN (SELECT Type FROM Gen1Types)\r\n",
                "),\r\n",
                "ContinuedInGen3 AS (\r\n",
                "    SELECT Type FROM IntroducedInGen2\r\n",
                "    WHERE Type IN (SELECT Type FROM Gen3Types)\r\n",
                ")\r\n",
                "\r\n",
                "SELECT Type\r\n",
                "FROM ContinuedInGen3;\r\n",
                ""
            ],
            "metadata": {
                "azdata_cell_guid": "921213d1-80bb-4092-9925-d4efd647efb2",
                "language": "sql"
            },
            "outputs": [
                {
                    "output_type": "display_data",
                    "data": {
                        "text/html": "(1 row affected)"
                    },
                    "metadata": {}
                },
                {
                    "output_type": "display_data",
                    "data": {
                        "text/html": "Total execution time: 00:00:00.013"
                    },
                    "metadata": {}
                },
                {
                    "output_type": "execute_result",
                    "metadata": {},
                    "execution_count": 21,
                    "data": {
                        "application/vnd.dataresource+json": {
                            "schema": {
                                "fields": [
                                    {
                                        "name": "Type"
                                    }
                                ]
                            },
                            "data": [
                                {
                                    "Type": "Dark"
                                }
                            ]
                        },
                        "text/html": [
                            "<table>",
                            "<tr><th>Type</th></tr>",
                            "<tr><td>Dark</td></tr>",
                            "</table>"
                        ]
                    }
                }
            ],
            "execution_count": 21
        },
        {
            "cell_type": "markdown",
            "source": [
                "### **Query 3**\n",
                "\n",
                "**Proposition:** Write a query to find the Pokemon that has the highest attack in Type1 and Type2 within each generation\n",
                "\n",
                "**Tables:**\n",
                "\n",
                "- PokemonGen1.dbo.PokemonGen1\n",
                "- PokemonGen2.dbo.PokemonGen2\n",
                "- PokemonGen3.dbo.PokemonGen3\n",
                "\n",
                "**Columns:**\n",
                "\n",
                "- ID (or PokemonNoGen1, PokemonNoGen2, PokemonNoGen3): The unique identifier for a Pokemon in each generation.\n",
                "- Name: The name of the Pokemon.\n",
                "- Attack: The Attack statistic of the Pokemon.\n",
                "- Type1 and Type2: Represent the primary and secondary types of the Pokemon.\n",
                "- Generation: A derived column indicating the Pokemon's generation.\n",
                "\n",
                "**Predicate:**\n",
                "\n",
                "- The UnifiedPokemon CTE is used to create a unified view of the Pokemon from all 3 generations by getting the IDs, names, attack values, types, and assigns a generation tag based on the source table\n",
                "- Then the TypeRankings CTE creates a temporary dataset that consolidates the Pokemon types and then ranks the Pokemon by their attack values within each type and generation using the RANK() function\n",
                "- The query then selects the TypeRankings CTE and filters for when the Pokemon with the highest attack within the type and generation"
            ],
            "metadata": {
                "azdata_cell_guid": "8f3b5a0d-70c0-46ee-917e-d4a18b9dd1c5"
            },
            "attachments": {}
        },
        {
            "cell_type": "code",
            "source": [
                "WITH UnifiedPokemon AS (\r\n",
                "    SELECT PokemonNoGen1 AS ID, Name, Attack, Type1, Type2, 'Gen1' AS Generation FROM PokemonGen1.dbo.PokemonGen1\r\n",
                "    UNION ALL\r\n",
                "    SELECT PokemonNoGen2 AS ID, Name, Attack, Type1, Type2, 'Gen2' FROM PokemonGen2.dbo.PokemonGen2\r\n",
                "    UNION ALL\r\n",
                "    SELECT PokemonNoGen3 AS ID, Name, Attack, Type1, Type2, 'Gen3' FROM PokemonGen3.dbo.PokemonGen3\r\n",
                "),\r\n",
                "TypeRankings AS (\r\n",
                "    SELECT\r\n",
                "        Name,\r\n",
                "        Attack,\r\n",
                "        Type,\r\n",
                "        Generation,\r\n",
                "        RANK() OVER(PARTITION BY Type, Generation ORDER BY Attack DESC) AS RankInType\r\n",
                "    FROM (\r\n",
                "        SELECT Name, Attack, Type1 AS Type, Generation FROM UnifiedPokemon\r\n",
                "        UNION ALL\r\n",
                "        SELECT Name, Attack, Type2, Generation FROM UnifiedPokemon WHERE Type2 IS NOT NULL\r\n",
                "    ) AS AllTypes\r\n",
                ")\r\n",
                "\r\n",
                "SELECT Type, Generation, Name, Attack\r\n",
                "FROM TypeRankings\r\n",
                "WHERE RankInType = 1\r\n",
                "ORDER BY Type, Generation;\r\n",
                ""
            ],
            "metadata": {
                "azdata_cell_guid": "838051fa-2f50-46b2-a81c-621e3186690c",
                "language": "sql"
            },
            "outputs": [
                {
                    "output_type": "display_data",
                    "data": {
                        "text/html": "(62 rows affected)"
                    },
                    "metadata": {}
                },
                {
                    "output_type": "display_data",
                    "data": {
                        "text/html": "Total execution time: 00:00:00.010"
                    },
                    "metadata": {}
                },
                {
                    "output_type": "execute_result",
                    "metadata": {},
                    "execution_count": 30,
                    "data": {
                        "application/vnd.dataresource+json": {
                            "schema": {
                                "fields": [
                                    {
                                        "name": "Type"
                                    },
                                    {
                                        "name": "Generation"
                                    },
                                    {
                                        "name": "Name"
                                    },
                                    {
                                        "name": "Attack"
                                    }
                                ]
                            },
                            "data": [
                                {
                                    "Type": "Bug",
                                    "Generation": "Gen1",
                                    "Name": "Pinsir",
                                    "Attack": "125"
                                },
                                {
                                    "Type": "Bug",
                                    "Generation": "Gen2",
                                    "Name": "Scizor",
                                    "Attack": "130"
                                },
                                {
                                    "Type": "Bug",
                                    "Generation": "Gen3",
                                    "Name": "Armaldo",
                                    "Attack": "125"
                                },
                                {
                                    "Type": "Dark",
                                    "Generation": "Gen2",
                                    "Name": "Tyranitar",
                                    "Attack": "134"
                                },
                                {
                                    "Type": "Dark",
                                    "Generation": "Gen3",
                                    "Name": "Absol",
                                    "Attack": "130"
                                },
                                {
                                    "Type": "Dragon",
                                    "Generation": "Gen1",
                                    "Name": "Dragonite",
                                    "Attack": "134"
                                },
                                {
                                    "Type": "Dragon",
                                    "Generation": "Gen2",
                                    "Name": "Kingdra",
                                    "Attack": "95"
                                },
                                {
                                    "Type": "Dragon",
                                    "Generation": "Gen3",
                                    "Name": "Rayquaza",
                                    "Attack": "150"
                                },
                                {
                                    "Type": "Electric",
                                    "Generation": "Gen1",
                                    "Name": "Zapdos",
                                    "Attack": "90"
                                },
                                {
                                    "Type": "Electric",
                                    "Generation": "Gen1",
                                    "Name": "Raichu",
                                    "Attack": "90"
                                },
                                {
                                    "Type": "Electric",
                                    "Generation": "Gen2",
                                    "Name": "Raikou",
                                    "Attack": "85"
                                },
                                {
                                    "Type": "Electric",
                                    "Generation": "Gen3",
                                    "Name": "Manectric",
                                    "Attack": "75"
                                },
                                {
                                    "Type": "Fairy",
                                    "Generation": "Gen1",
                                    "Name": "Wigglytuff",
                                    "Attack": "70"
                                },
                                {
                                    "Type": "Fairy",
                                    "Generation": "Gen1",
                                    "Name": "Clefable",
                                    "Attack": "70"
                                },
                                {
                                    "Type": "Fairy",
                                    "Generation": "Gen2",
                                    "Name": "Granbull",
                                    "Attack": "120"
                                },
                                {
                                    "Type": "Fairy",
                                    "Generation": "Gen3",
                                    "Name": "Mawile",
                                    "Attack": "85"
                                },
                                {
                                    "Type": "Fight",
                                    "Generation": "Gen1",
                                    "Name": "Hitmonlee",
                                    "Attack": "120"
                                },
                                {
                                    "Type": "Fighting",
                                    "Generation": "Gen1",
                                    "Name": "Machamp",
                                    "Attack": "130"
                                },
                                {
                                    "Type": "Fighting",
                                    "Generation": "Gen2",
                                    "Name": "Heracross",
                                    "Attack": "125"
                                },
                                {
                                    "Type": "Fighting",
                                    "Generation": "Gen3",
                                    "Name": "Breloom",
                                    "Attack": "130"
                                },
                                {
                                    "Type": "Fire",
                                    "Generation": "Gen1",
                                    "Name": "Flareon",
                                    "Attack": "130"
                                },
                                {
                                    "Type": "Fire",
                                    "Generation": "Gen2",
                                    "Name": "Ho-Oh",
                                    "Attack": "130"
                                },
                                {
                                    "Type": "Fire",
                                    "Generation": "Gen3",
                                    "Name": "Blaziken",
                                    "Attack": "120"
                                },
                                {
                                    "Type": "Flying",
                                    "Generation": "Gen1",
                                    "Name": "Dragonite",
                                    "Attack": "134"
                                },
                                {
                                    "Type": "Flying",
                                    "Generation": "Gen2",
                                    "Name": "Ho-Oh",
                                    "Attack": "130"
                                },
                                {
                                    "Type": "Flying",
                                    "Generation": "Gen3",
                                    "Name": "Rayquaza",
                                    "Attack": "150"
                                },
                                {
                                    "Type": "Ghost",
                                    "Generation": "Gen1",
                                    "Name": "Gengar",
                                    "Attack": "65"
                                },
                                {
                                    "Type": "Ghost",
                                    "Generation": "Gen2",
                                    "Name": "Misdreavus",
                                    "Attack": "60"
                                },
                                {
                                    "Type": "Ghost",
                                    "Generation": "Gen3",
                                    "Name": "Banette",
                                    "Attack": "115"
                                },
                                {
                                    "Type": "Grass",
                                    "Generation": "Gen1",
                                    "Name": "Victreebel",
                                    "Attack": "105"
                                },
                                {
                                    "Type": "Grass",
                                    "Generation": "Gen2",
                                    "Name": "Celebi",
                                    "Attack": "100"
                                },
                                {
                                    "Type": "Grass",
                                    "Generation": "Gen3",
                                    "Name": "Breloom",
                                    "Attack": "130"
                                },
                                {
                                    "Type": "Ground",
                                    "Generation": "Gen1",
                                    "Name": "\tRhydon",
                                    "Attack": "130"
                                },
                                {
                                    "Type": "Ground",
                                    "Generation": "Gen2",
                                    "Name": "Donphan",
                                    "Attack": "120"
                                },
                                {
                                    "Type": "Ground",
                                    "Generation": "Gen3",
                                    "Name": "Groudon",
                                    "Attack": "150"
                                },
                                {
                                    "Type": "Ice",
                                    "Generation": "Gen1",
                                    "Name": "Cloyster",
                                    "Attack": "95"
                                },
                                {
                                    "Type": "Ice",
                                    "Generation": "Gen2",
                                    "Name": "Piloswine",
                                    "Attack": "100"
                                },
                                {
                                    "Type": "Ice",
                                    "Generation": "Gen3",
                                    "Name": "Glalie",
                                    "Attack": "80"
                                },
                                {
                                    "Type": "Ice",
                                    "Generation": "Gen3",
                                    "Name": "Walrein",
                                    "Attack": "80"
                                },
                                {
                                    "Type": "Normal",
                                    "Generation": "Gen1",
                                    "Name": "Snorlax",
                                    "Attack": "110"
                                },
                                {
                                    "Type": "Normal",
                                    "Generation": "Gen1",
                                    "Name": "Dodrio",
                                    "Attack": "110"
                                },
                                {
                                    "Type": "Normal",
                                    "Generation": "Gen2",
                                    "Name": "Ursaring",
                                    "Attack": "130"
                                },
                                {
                                    "Type": "Normal",
                                    "Generation": "Gen3",
                                    "Name": "Slaking",
                                    "Attack": "160"
                                },
                                {
                                    "Type": "Poison",
                                    "Generation": "Gen1",
                                    "Name": "Victreebel",
                                    "Attack": "105"
                                },
                                {
                                    "Type": "Poison",
                                    "Generation": "Gen1",
                                    "Name": "Muk",
                                    "Attack": "105"
                                },
                                {
                                    "Type": "Poison",
                                    "Generation": "Gen2",
                                    "Name": "Qwilfish",
                                    "Attack": "95"
                                },
                                {
                                    "Type": "Poison",
                                    "Generation": "Gen3",
                                    "Name": "Seviper",
                                    "Attack": "100"
                                },
                                {
                                    "Type": "Poison Point",
                                    "Generation": "Gen1",
                                    "Name": "Nidoking",
                                    "Attack": "102"
                                },
                                {
                                    "Type": "Psychic",
                                    "Generation": "Gen1",
                                    "Name": "Mewtwo",
                                    "Attack": "110"
                                },
                                {
                                    "Type": "Psychic",
                                    "Generation": "Gen2",
                                    "Name": "Celebi",
                                    "Attack": "100"
                                },
                                {
                                    "Type": "Psychic",
                                    "Generation": "Gen3",
                                    "Name": "Deoxys",
                                    "Attack": "150"
                                },
                                {
                                    "Type": "Rock",
                                    "Generation": "Gen1",
                                    "Name": "\tRhydon",
                                    "Attack": "130"
                                },
                                {
                                    "Type": "Rock",
                                    "Generation": "Gen2",
                                    "Name": "Tyranitar",
                                    "Attack": "134"
                                },
                                {
                                    "Type": "Rock",
                                    "Generation": "Gen3",
                                    "Name": "Armaldo",
                                    "Attack": "125"
                                },
                                {
                                    "Type": "Steel",
                                    "Generation": "Gen1",
                                    "Name": "Magneton",
                                    "Attack": "60"
                                },
                                {
                                    "Type": "Steel",
                                    "Generation": "Gen2",
                                    "Name": "Scizor",
                                    "Attack": "130"
                                },
                                {
                                    "Type": "Steel",
                                    "Generation": "Gen3",
                                    "Name": "Metagross",
                                    "Attack": "135"
                                },
                                {
                                    "Type": "Water",
                                    "Generation": "Gen1",
                                    "Name": "Kingler",
                                    "Attack": "130"
                                },
                                {
                                    "Type": "Water",
                                    "Generation": "Gen2",
                                    "Name": "Feraligatr",
                                    "Attack": "105"
                                },
                                {
                                    "Type": "Water",
                                    "Generation": "Gen2",
                                    "Name": "Octillery",
                                    "Attack": "105"
                                },
                                {
                                    "Type": "Water",
                                    "Generation": "Gen3",
                                    "Name": "Crawdaunt",
                                    "Attack": "120"
                                },
                                {
                                    "Type": "Water",
                                    "Generation": "Gen3",
                                    "Name": "Sharpedo",
                                    "Attack": "120"
                                }
                            ]
                        },
                        "text/html": [
                            "<table>",
                            "<tr><th>Type</th><th>Generation</th><th>Name</th><th>Attack</th></tr>",
                            "<tr><td>Bug</td><td>Gen1</td><td>Pinsir</td><td>125</td></tr>",
                            "<tr><td>Bug</td><td>Gen2</td><td>Scizor</td><td>130</td></tr>",
                            "<tr><td>Bug</td><td>Gen3</td><td>Armaldo</td><td>125</td></tr>",
                            "<tr><td>Dark</td><td>Gen2</td><td>Tyranitar</td><td>134</td></tr>",
                            "<tr><td>Dark</td><td>Gen3</td><td>Absol</td><td>130</td></tr>",
                            "<tr><td>Dragon</td><td>Gen1</td><td>Dragonite</td><td>134</td></tr>",
                            "<tr><td>Dragon</td><td>Gen2</td><td>Kingdra</td><td>95</td></tr>",
                            "<tr><td>Dragon</td><td>Gen3</td><td>Rayquaza</td><td>150</td></tr>",
                            "<tr><td>Electric</td><td>Gen1</td><td>Zapdos</td><td>90</td></tr>",
                            "<tr><td>Electric</td><td>Gen1</td><td>Raichu</td><td>90</td></tr>",
                            "<tr><td>Electric</td><td>Gen2</td><td>Raikou</td><td>85</td></tr>",
                            "<tr><td>Electric</td><td>Gen3</td><td>Manectric</td><td>75</td></tr>",
                            "<tr><td>Fairy</td><td>Gen1</td><td>Wigglytuff</td><td>70</td></tr>",
                            "<tr><td>Fairy</td><td>Gen1</td><td>Clefable</td><td>70</td></tr>",
                            "<tr><td>Fairy</td><td>Gen2</td><td>Granbull</td><td>120</td></tr>",
                            "<tr><td>Fairy</td><td>Gen3</td><td>Mawile</td><td>85</td></tr>",
                            "<tr><td>Fight</td><td>Gen1</td><td>Hitmonlee</td><td>120</td></tr>",
                            "<tr><td>Fighting</td><td>Gen1</td><td>Machamp</td><td>130</td></tr>",
                            "<tr><td>Fighting</td><td>Gen2</td><td>Heracross</td><td>125</td></tr>",
                            "<tr><td>Fighting</td><td>Gen3</td><td>Breloom</td><td>130</td></tr>",
                            "<tr><td>Fire</td><td>Gen1</td><td>Flareon</td><td>130</td></tr>",
                            "<tr><td>Fire</td><td>Gen2</td><td>Ho-Oh</td><td>130</td></tr>",
                            "<tr><td>Fire</td><td>Gen3</td><td>Blaziken</td><td>120</td></tr>",
                            "<tr><td>Flying</td><td>Gen1</td><td>Dragonite</td><td>134</td></tr>",
                            "<tr><td>Flying</td><td>Gen2</td><td>Ho-Oh</td><td>130</td></tr>",
                            "<tr><td>Flying</td><td>Gen3</td><td>Rayquaza</td><td>150</td></tr>",
                            "<tr><td>Ghost</td><td>Gen1</td><td>Gengar</td><td>65</td></tr>",
                            "<tr><td>Ghost</td><td>Gen2</td><td>Misdreavus</td><td>60</td></tr>",
                            "<tr><td>Ghost</td><td>Gen3</td><td>Banette</td><td>115</td></tr>",
                            "<tr><td>Grass</td><td>Gen1</td><td>Victreebel</td><td>105</td></tr>",
                            "<tr><td>Grass</td><td>Gen2</td><td>Celebi</td><td>100</td></tr>",
                            "<tr><td>Grass</td><td>Gen3</td><td>Breloom</td><td>130</td></tr>",
                            "<tr><td>Ground</td><td>Gen1</td><td>\tRhydon</td><td>130</td></tr>",
                            "<tr><td>Ground</td><td>Gen2</td><td>Donphan</td><td>120</td></tr>",
                            "<tr><td>Ground</td><td>Gen3</td><td>Groudon</td><td>150</td></tr>",
                            "<tr><td>Ice</td><td>Gen1</td><td>Cloyster</td><td>95</td></tr>",
                            "<tr><td>Ice</td><td>Gen2</td><td>Piloswine</td><td>100</td></tr>",
                            "<tr><td>Ice</td><td>Gen3</td><td>Glalie</td><td>80</td></tr>",
                            "<tr><td>Ice</td><td>Gen3</td><td>Walrein</td><td>80</td></tr>",
                            "<tr><td>Normal</td><td>Gen1</td><td>Snorlax</td><td>110</td></tr>",
                            "<tr><td>Normal</td><td>Gen1</td><td>Dodrio</td><td>110</td></tr>",
                            "<tr><td>Normal</td><td>Gen2</td><td>Ursaring</td><td>130</td></tr>",
                            "<tr><td>Normal</td><td>Gen3</td><td>Slaking</td><td>160</td></tr>",
                            "<tr><td>Poison</td><td>Gen1</td><td>Victreebel</td><td>105</td></tr>",
                            "<tr><td>Poison</td><td>Gen1</td><td>Muk</td><td>105</td></tr>",
                            "<tr><td>Poison</td><td>Gen2</td><td>Qwilfish</td><td>95</td></tr>",
                            "<tr><td>Poison</td><td>Gen3</td><td>Seviper</td><td>100</td></tr>",
                            "<tr><td>Poison Point</td><td>Gen1</td><td>Nidoking</td><td>102</td></tr>",
                            "<tr><td>Psychic</td><td>Gen1</td><td>Mewtwo</td><td>110</td></tr>",
                            "<tr><td>Psychic</td><td>Gen2</td><td>Celebi</td><td>100</td></tr>",
                            "<tr><td>Psychic</td><td>Gen3</td><td>Deoxys</td><td>150</td></tr>",
                            "<tr><td>Rock</td><td>Gen1</td><td>\tRhydon</td><td>130</td></tr>",
                            "<tr><td>Rock</td><td>Gen2</td><td>Tyranitar</td><td>134</td></tr>",
                            "<tr><td>Rock</td><td>Gen3</td><td>Armaldo</td><td>125</td></tr>",
                            "<tr><td>Steel</td><td>Gen1</td><td>Magneton</td><td>60</td></tr>",
                            "<tr><td>Steel</td><td>Gen2</td><td>Scizor</td><td>130</td></tr>",
                            "<tr><td>Steel</td><td>Gen3</td><td>Metagross</td><td>135</td></tr>",
                            "<tr><td>Water</td><td>Gen1</td><td>Kingler</td><td>130</td></tr>",
                            "<tr><td>Water</td><td>Gen2</td><td>Feraligatr</td><td>105</td></tr>",
                            "<tr><td>Water</td><td>Gen2</td><td>Octillery</td><td>105</td></tr>",
                            "<tr><td>Water</td><td>Gen3</td><td>Crawdaunt</td><td>120</td></tr>",
                            "<tr><td>Water</td><td>Gen3</td><td>Sharpedo</td><td>120</td></tr>",
                            "</table>"
                        ]
                    }
                }
            ],
            "execution_count": 30
        },
        {
            "cell_type": "markdown",
            "source": [
                "### **Query 4**\n",
                "\n",
                "**Proposition:** Create a query that finds the most common abilities for Ability1, Ability2, and Ability3 from the 3 Pokemon generations\n",
                "\n",
                "**Tables:**\n",
                "\n",
                "- PokemonGen1.dbo.PokemonGen1: Contains data about Pokemon from the first generation, including their abilities.\n",
                "- PokemonGen2.dbo.PokemonGen2: Contains data about Pokemon from the second generation, including their abilities.\n",
                "- PokemonGen3.dbo.PokemonGen3: Contains data about Pokemon from the third generation, including their abilities.\n",
                "\n",
                "**Columns:**\n",
                "\n",
                "- AbilitySlot: Indicates which slot the ability belongs to (Ability1, Ability2, or Ability3).\n",
                "- Ability: Represents the specific ability of a Pokemon.\n",
                "- Count: Indicates how many times each ability occurs within its respective slot.\n",
                "\n",
                "**Predicate:**\n",
                "\n",
                "- Using the Abilities CTE, take all the abilites from the Pokemon from 3 generations and assign each ability to a slot in the table unless it is null\n",
                "- Use the AbilityCounts CTE to group the AbilitySlot and Ability that keeps track of the count in each slot\n",
                "- Then the MaxCounts CTE is used to count the abilites in each slot and determines the max count in each group\n",
                "- If there are duplicates, they are still shown"
            ],
            "metadata": {
                "azdata_cell_guid": "9519d390-9348-4d31-bacc-5fafaf780993"
            },
            "attachments": {}
        },
        {
            "cell_type": "code",
            "source": [
                "WITH Abilities AS (\r\n",
                "    SELECT 'Ability1' AS AbilitySlot, Ability1 AS Ability FROM PokemonGen1.dbo.PokemonGen1\r\n",
                "    UNION ALL\r\n",
                "    SELECT 'Ability2' AS AbilitySlot, Ability2 FROM PokemonGen1.dbo.PokemonGen1 WHERE Ability2 IS NOT NULL\r\n",
                "    UNION ALL\r\n",
                "    SELECT 'Ability3' AS AbilitySlot, Ability3 FROM PokemonGen1.dbo.PokemonGen1 WHERE Ability3 IS NOT NULL\r\n",
                "    UNION ALL\r\n",
                "    SELECT 'Ability1' AS AbilitySlot, Ability1 FROM PokemonGen2.dbo.PokemonGen2\r\n",
                "    UNION ALL\r\n",
                "    SELECT 'Ability2' AS AbilitySlot, Ability2 FROM PokemonGen2.dbo.PokemonGen2 WHERE Ability2 IS NOT NULL\r\n",
                "    UNION ALL\r\n",
                "    SELECT 'Ability3' AS AbilitySlot, Ability3 FROM PokemonGen2.dbo.PokemonGen2 WHERE Ability3 IS NOT NULL\r\n",
                "    UNION ALL\r\n",
                "    SELECT 'Ability1' AS AbilitySlot, Ability1 FROM PokemonGen3.dbo.PokemonGen3\r\n",
                "    UNION ALL\r\n",
                "    SELECT 'Ability2' AS AbilitySlot, Ability2 FROM PokemonGen3.dbo.PokemonGen3 WHERE Ability2 IS NOT NULL\r\n",
                "    UNION ALL\r\n",
                "    SELECT 'Ability3' AS AbilitySlot, Ability3 FROM PokemonGen3.dbo.PokemonGen3 WHERE Ability3 IS NOT NULL\r\n",
                "),\r\n",
                "AbilityCounts AS (\r\n",
                "    SELECT AbilitySlot, Ability, COUNT(*) AS Count\r\n",
                "    FROM Abilities\r\n",
                "    GROUP BY AbilitySlot, Ability\r\n",
                "),\r\n",
                "MaxCounts AS (\r\n",
                "    SELECT AbilitySlot, MAX(Count) AS MaxCount\r\n",
                "    FROM AbilityCounts\r\n",
                "    GROUP BY AbilitySlot\r\n",
                ")\r\n",
                "\r\n",
                "SELECT ac.AbilitySlot, ac.Ability, ac.Count\r\n",
                "FROM AbilityCounts ac\r\n",
                "JOIN MaxCounts mc ON ac.AbilitySlot = mc.AbilitySlot AND ac.Count = mc.MaxCount\r\n",
                "ORDER BY ac.AbilitySlot, ac.Count DESC;\r\n",
                ""
            ],
            "metadata": {
                "azdata_cell_guid": "d5b113e3-17d0-42e4-bfac-bc5a7e3cb43d",
                "language": "sql"
            },
            "outputs": [
                {
                    "output_type": "display_data",
                    "data": {
                        "text/html": "(6 rows affected)"
                    },
                    "metadata": {}
                },
                {
                    "output_type": "display_data",
                    "data": {
                        "text/html": "Total execution time: 00:00:00.005"
                    },
                    "metadata": {}
                },
                {
                    "output_type": "execute_result",
                    "metadata": {},
                    "execution_count": 34,
                    "data": {
                        "application/vnd.dataresource+json": {
                            "schema": {
                                "fields": [
                                    {
                                        "name": "AbilitySlot"
                                    },
                                    {
                                        "name": "Ability"
                                    },
                                    {
                                        "name": "Count"
                                    }
                                ]
                            },
                            "data": [
                                {
                                    "AbilitySlot": "Ability1",
                                    "Ability": "Chlorophyll",
                                    "Count": "19"
                                },
                                {
                                    "AbilitySlot": "Ability1",
                                    "Ability": "Swift Swim",
                                    "Count": "19"
                                },
                                {
                                    "AbilitySlot": "Ability2",
                                    "Ability": "Early Bird",
                                    "Count": "9"
                                },
                                {
                                    "AbilitySlot": "Ability2",
                                    "Ability": "Flash Fire",
                                    "Count": "9"
                                },
                                {
                                    "AbilitySlot": "Ability2",
                                    "Ability": "Sturdy",
                                    "Count": "9"
                                },
                                {
                                    "AbilitySlot": "Ability3",
                                    "Ability": "Sheer Force",
                                    "Count": "10"
                                }
                            ]
                        },
                        "text/html": [
                            "<table>",
                            "<tr><th>AbilitySlot</th><th>Ability</th><th>Count</th></tr>",
                            "<tr><td>Ability1</td><td>Chlorophyll</td><td>19</td></tr>",
                            "<tr><td>Ability1</td><td>Swift Swim</td><td>19</td></tr>",
                            "<tr><td>Ability2</td><td>Early Bird</td><td>9</td></tr>",
                            "<tr><td>Ability2</td><td>Flash Fire</td><td>9</td></tr>",
                            "<tr><td>Ability2</td><td>Sturdy</td><td>9</td></tr>",
                            "<tr><td>Ability3</td><td>Sheer Force</td><td>10</td></tr>",
                            "</table>"
                        ]
                    }
                }
            ],
            "execution_count": 34
        },
        {
            "cell_type": "markdown",
            "source": [
                "### **Query 5**\n",
                "\n",
                "**Proposition:** Write a query that retrieves the Pokemon from all 3 generations that have a Defense value higher than the Special Defense Value\n",
                "\n",
                "**Tables:**\n",
                "\n",
                "- PokemonGen1.dbo.PokemonGen1: Contains data about Pokemon from the first generation, including their names, Defense, and SpecialDefense stats.\n",
                "- PokemonGen2.dbo.PokemonGen2: Contains data about Pokemon from the second generation, including their names, Defense, and SpecialDefense stats.\n",
                "- PokemonGen3.dbo.PokemonGen3: Contains data about Pokemon from the third generation, including their names, Defense, and SpecialDefense stats.\n",
                "\n",
                "**Columns:**\n",
                "\n",
                "- Generation: Indicates the generation of each Pokemon.\n",
                "- Name: Represents the name of each Pokemon.\n",
                "- Defense: Shows the Defense stat value of each Pokemon.\n",
                "- SpecialDefense: Represents the Special Defense stat value of each Pokemon.\n",
                "\n",
                "**Predicate:**\n",
                "\n",
                "- There are 3 subqueries for each generation of Pokemon, it takes the generation name and then retrieves the name of the Pokemon, Defense, and SpecialDefense stats from the Pokemon table, then the data is filtered to only include the Pokemon that have a Defense higher than the Special Defense\n",
                "- The UNION ALL operator is then used to combine the results from all three of the subqueries\n",
                "- The outer query then takes the columns from the combined results and adds a Generation column to specify the generation of the Pokemon"
            ],
            "metadata": {
                "azdata_cell_guid": "91f985c3-823d-48ce-91c7-8bc973f87f4e"
            },
            "attachments": {}
        },
        {
            "cell_type": "code",
            "source": [
                "SELECT *\r\n",
                "FROM (\r\n",
                "    SELECT 'Generation 1' AS Generation, Name, Defense, SpecialDefense\r\n",
                "    FROM PokemonGen1.dbo.PokemonGen1\r\n",
                "    WHERE Defense > SpecialDefense\r\n",
                "\r\n",
                "    UNION ALL\r\n",
                "\r\n",
                "    SELECT 'Generation 2' AS Generation, Name, Defense, SpecialDefense\r\n",
                "    FROM PokemonGen2.dbo.PokemonGen2\r\n",
                "    WHERE Defense > SpecialDefense\r\n",
                "\r\n",
                "    UNION ALL\r\n",
                "\r\n",
                "    SELECT 'Generation 3' AS Generation, Name, Defense, SpecialDefense\r\n",
                "    FROM PokemonGen3.dbo.PokemonGen3\r\n",
                "    WHERE Defense > SpecialDefense\r\n",
                ") AS AllGenerations\r\n",
                "ORDER BY Generation, Name;\r\n",
                ""
            ],
            "metadata": {
                "azdata_cell_guid": "23f88d9f-8ad2-4121-8136-124928b6326e",
                "language": "sql"
            },
            "outputs": [
                {
                    "output_type": "display_data",
                    "data": {
                        "text/html": "(123 rows affected)"
                    },
                    "metadata": {}
                },
                {
                    "output_type": "display_data",
                    "data": {
                        "text/html": "Total execution time: 00:00:00.008"
                    },
                    "metadata": {}
                },
                {
                    "output_type": "execute_result",
                    "metadata": {},
                    "execution_count": 35,
                    "data": {
                        "application/vnd.dataresource+json": {
                            "schema": {
                                "fields": [
                                    {
                                        "name": "Generation"
                                    },
                                    {
                                        "name": "Name"
                                    },
                                    {
                                        "name": "Defense"
                                    },
                                    {
                                        "name": "SpecialDefense"
                                    }
                                ]
                            },
                            "data": [
                                {
                                    "Generation": "Generation 1",
                                    "Name": "\tRhydon",
                                    "Defense": "120",
                                    "SpecialDefense": "45"
                                },
                                {
                                    "Generation": "Generation 1",
                                    "Name": "\tTangela",
                                    "Defense": "115",
                                    "SpecialDefense": "40"
                                },
                                {
                                    "Generation": "Generation 1",
                                    "Name": "Bellsprout",
                                    "Defense": "35",
                                    "SpecialDefense": "30"
                                },
                                {
                                    "Generation": "Generation 1",
                                    "Name": "Caterpie",
                                    "Defense": "35",
                                    "SpecialDefense": "20"
                                },
                                {
                                    "Generation": "Generation 1",
                                    "Name": "Cloyster",
                                    "Defense": "180",
                                    "SpecialDefense": "45"
                                },
                                {
                                    "Generation": "Generation 1",
                                    "Name": "Cubone",
                                    "Defense": "95",
                                    "SpecialDefense": "50"
                                },
                                {
                                    "Generation": "Generation 1",
                                    "Name": "Dodrio",
                                    "Defense": "70",
                                    "SpecialDefense": "60"
                                },
                                {
                                    "Generation": "Generation 1",
                                    "Name": "Doduo",
                                    "Defense": "45",
                                    "SpecialDefense": "35"
                                },
                                {
                                    "Generation": "Generation 1",
                                    "Name": "Exeggcute",
                                    "Defense": "80",
                                    "SpecialDefense": "45"
                                },
                                {
                                    "Generation": "Generation 1",
                                    "Name": "Exeggutor",
                                    "Defense": "85",
                                    "SpecialDefense": "75"
                                },
                                {
                                    "Generation": "Generation 1",
                                    "Name": "Fearow",
                                    "Defense": "65",
                                    "SpecialDefense": "61"
                                },
                                {
                                    "Generation": "Generation 1",
                                    "Name": "Geodude",
                                    "Defense": "100",
                                    "SpecialDefense": "30"
                                },
                                {
                                    "Generation": "Generation 1",
                                    "Name": "Goldeen",
                                    "Defense": "60",
                                    "SpecialDefense": "50"
                                },
                                {
                                    "Generation": "Generation 1",
                                    "Name": "Golem",
                                    "Defense": "130",
                                    "SpecialDefense": "65"
                                },
                                {
                                    "Generation": "Generation 1",
                                    "Name": "Graveler",
                                    "Defense": "115",
                                    "SpecialDefense": "45"
                                },
                                {
                                    "Generation": "Generation 1",
                                    "Name": "Horsea",
                                    "Defense": "70",
                                    "SpecialDefense": "25"
                                },
                                {
                                    "Generation": "Generation 1",
                                    "Name": "Kabuto",
                                    "Defense": "90",
                                    "SpecialDefense": "45"
                                },
                                {
                                    "Generation": "Generation 1",
                                    "Name": "Kabutops",
                                    "Defense": "105",
                                    "SpecialDefense": "70"
                                },
                                {
                                    "Generation": "Generation 1",
                                    "Name": "Kakuna",
                                    "Defense": "50",
                                    "SpecialDefense": "25"
                                },
                                {
                                    "Generation": "Generation 1",
                                    "Name": "Kingler",
                                    "Defense": "115",
                                    "SpecialDefense": "50"
                                },
                                {
                                    "Generation": "Generation 1",
                                    "Name": "Koffing",
                                    "Defense": "95",
                                    "SpecialDefense": "45"
                                },
                                {
                                    "Generation": "Generation 1",
                                    "Name": "Krabby",
                                    "Defense": "90",
                                    "SpecialDefense": "25"
                                },
                                {
                                    "Generation": "Generation 1",
                                    "Name": "Machoke",
                                    "Defense": "70",
                                    "SpecialDefense": "60"
                                },
                                {
                                    "Generation": "Generation 1",
                                    "Name": "Machop",
                                    "Defense": "50",
                                    "SpecialDefense": "35"
                                },
                                {
                                    "Generation": "Generation 1",
                                    "Name": "Magikarp",
                                    "Defense": "55",
                                    "SpecialDefense": "20"
                                },
                                {
                                    "Generation": "Generation 1",
                                    "Name": "Magnemite",
                                    "Defense": "70",
                                    "SpecialDefense": "55"
                                },
                                {
                                    "Generation": "Generation 1",
                                    "Name": "Magneton",
                                    "Defense": "95",
                                    "SpecialDefense": "70"
                                },
                                {
                                    "Generation": "Generation 1",
                                    "Name": "Marowak",
                                    "Defense": "110",
                                    "SpecialDefense": "80"
                                },
                                {
                                    "Generation": "Generation 1",
                                    "Name": "Metapod",
                                    "Defense": "55",
                                    "SpecialDefense": "25"
                                },
                                {
                                    "Generation": "Generation 1",
                                    "Name": "Moltres",
                                    "Defense": "90",
                                    "SpecialDefense": "85"
                                },
                                {
                                    "Generation": "Generation 1",
                                    "Name": "Nidoking",
                                    "Defense": "77",
                                    "SpecialDefense": "75"
                                },
                                {
                                    "Generation": "Generation 1",
                                    "Name": "Nidoqueen",
                                    "Defense": "87",
                                    "SpecialDefense": "85"
                                },
                                {
                                    "Generation": "Generation 1",
                                    "Name": "Nidoran?",
                                    "Defense": "52",
                                    "SpecialDefense": "40"
                                },
                                {
                                    "Generation": "Generation 1",
                                    "Name": "Nidorina",
                                    "Defense": "67",
                                    "SpecialDefense": "55"
                                },
                                {
                                    "Generation": "Generation 1",
                                    "Name": "Nidorino",
                                    "Defense": "57",
                                    "SpecialDefense": "55"
                                },
                                {
                                    "Generation": "Generation 1",
                                    "Name": "Omanyte",
                                    "Defense": "100",
                                    "SpecialDefense": "55"
                                },
                                {
                                    "Generation": "Generation 1",
                                    "Name": "Omastar",
                                    "Defense": "125",
                                    "SpecialDefense": "70"
                                },
                                {
                                    "Generation": "Generation 1",
                                    "Name": "Onix",
                                    "Defense": "160",
                                    "SpecialDefense": "45"
                                },
                                {
                                    "Generation": "Generation 1",
                                    "Name": "Pidgeot",
                                    "Defense": "75",
                                    "SpecialDefense": "70"
                                },
                                {
                                    "Generation": "Generation 1",
                                    "Name": "Pidgeotto",
                                    "Defense": "55",
                                    "SpecialDefense": "50"
                                },
                                {
                                    "Generation": "Generation 1",
                                    "Name": "Pidgey",
                                    "Defense": "40",
                                    "SpecialDefense": "35"
                                },
                                {
                                    "Generation": "Generation 1",
                                    "Name": "Pinsir",
                                    "Defense": "100",
                                    "SpecialDefense": "70"
                                },
                                {
                                    "Generation": "Generation 1",
                                    "Name": "Poliwhirl",
                                    "Defense": "65",
                                    "SpecialDefense": "50"
                                },
                                {
                                    "Generation": "Generation 1",
                                    "Name": "Poliwrath",
                                    "Defense": "95",
                                    "SpecialDefense": "90"
                                },
                                {
                                    "Generation": "Generation 1",
                                    "Name": "Rhyhorn",
                                    "Defense": "95",
                                    "SpecialDefense": "30"
                                },
                                {
                                    "Generation": "Generation 1",
                                    "Name": "Sandshrew",
                                    "Defense": "85",
                                    "SpecialDefense": "30"
                                },
                                {
                                    "Generation": "Generation 1",
                                    "Name": "Sandslash",
                                    "Defense": "110",
                                    "SpecialDefense": "55"
                                },
                                {
                                    "Generation": "Generation 1",
                                    "Name": "Seadra",
                                    "Defense": "95",
                                    "SpecialDefense": "45"
                                },
                                {
                                    "Generation": "Generation 1",
                                    "Name": "Shellder",
                                    "Defense": "100",
                                    "SpecialDefense": "25"
                                },
                                {
                                    "Generation": "Generation 1",
                                    "Name": "Slowbro",
                                    "Defense": "110",
                                    "SpecialDefense": "80"
                                },
                                {
                                    "Generation": "Generation 1",
                                    "Name": "Slowpoke",
                                    "Defense": "65",
                                    "SpecialDefense": "40"
                                },
                                {
                                    "Generation": "Generation 1",
                                    "Name": "Squirtle",
                                    "Defense": "65",
                                    "SpecialDefense": "64"
                                },
                                {
                                    "Generation": "Generation 1",
                                    "Name": "Tauros",
                                    "Defense": "95",
                                    "SpecialDefense": "70"
                                },
                                {
                                    "Generation": "Generation 1",
                                    "Name": "Weedle",
                                    "Defense": "30",
                                    "SpecialDefense": "20"
                                },
                                {
                                    "Generation": "Generation 1",
                                    "Name": "Weepinbell",
                                    "Defense": "50",
                                    "SpecialDefense": "45"
                                },
                                {
                                    "Generation": "Generation 1",
                                    "Name": "Weezing",
                                    "Defense": "120",
                                    "SpecialDefense": "70"
                                },
                                {
                                    "Generation": "Generation 2",
                                    "Name": "Croconaw",
                                    "Defense": "80",
                                    "SpecialDefense": "63"
                                },
                                {
                                    "Generation": "Generation 2",
                                    "Name": "Donphan",
                                    "Defense": "120",
                                    "SpecialDefense": "60"
                                },
                                {
                                    "Generation": "Generation 2",
                                    "Name": "Dunsparce",
                                    "Defense": "70",
                                    "SpecialDefense": "65"
                                },
                                {
                                    "Generation": "Generation 2",
                                    "Name": "Entei",
                                    "Defense": "85",
                                    "SpecialDefense": "75"
                                },
                                {
                                    "Generation": "Generation 2",
                                    "Name": "Feraligatr",
                                    "Defense": "100",
                                    "SpecialDefense": "83"
                                },
                                {
                                    "Generation": "Generation 2",
                                    "Name": "Forretress",
                                    "Defense": "140",
                                    "SpecialDefense": "60"
                                },
                                {
                                    "Generation": "Generation 2",
                                    "Name": "Furret",
                                    "Defense": "64",
                                    "SpecialDefense": "55"
                                },
                                {
                                    "Generation": "Generation 2",
                                    "Name": "Gligar",
                                    "Defense": "105",
                                    "SpecialDefense": "65"
                                },
                                {
                                    "Generation": "Generation 2",
                                    "Name": "Granbull",
                                    "Defense": "75",
                                    "SpecialDefense": "60"
                                },
                                {
                                    "Generation": "Generation 2",
                                    "Name": "Magcargo",
                                    "Defense": "120",
                                    "SpecialDefense": "80"
                                },
                                {
                                    "Generation": "Generation 2",
                                    "Name": "Miltank",
                                    "Defense": "105",
                                    "SpecialDefense": "70"
                                },
                                {
                                    "Generation": "Generation 2",
                                    "Name": "Phanpy",
                                    "Defense": "60",
                                    "SpecialDefense": "40"
                                },
                                {
                                    "Generation": "Generation 2",
                                    "Name": "Piloswine",
                                    "Defense": "80",
                                    "SpecialDefense": "60"
                                },
                                {
                                    "Generation": "Generation 2",
                                    "Name": "Pineco",
                                    "Defense": "90",
                                    "SpecialDefense": "35"
                                },
                                {
                                    "Generation": "Generation 2",
                                    "Name": "Quagsire",
                                    "Defense": "85",
                                    "SpecialDefense": "65"
                                },
                                {
                                    "Generation": "Generation 2",
                                    "Name": "Qwilfish",
                                    "Defense": "85",
                                    "SpecialDefense": "55"
                                },
                                {
                                    "Generation": "Generation 2",
                                    "Name": "Scizor",
                                    "Defense": "100",
                                    "SpecialDefense": "80"
                                },
                                {
                                    "Generation": "Generation 2",
                                    "Name": "Skarmory",
                                    "Defense": "140",
                                    "SpecialDefense": "70"
                                },
                                {
                                    "Generation": "Generation 2",
                                    "Name": "Snubbull",
                                    "Defense": "50",
                                    "SpecialDefense": "40"
                                },
                                {
                                    "Generation": "Generation 2",
                                    "Name": "Steelix",
                                    "Defense": "200",
                                    "SpecialDefense": "65"
                                },
                                {
                                    "Generation": "Generation 2",
                                    "Name": "Sudowoodo",
                                    "Defense": "115",
                                    "SpecialDefense": "65"
                                },
                                {
                                    "Generation": "Generation 2",
                                    "Name": "Swinub",
                                    "Defense": "40",
                                    "SpecialDefense": "30"
                                },
                                {
                                    "Generation": "Generation 2",
                                    "Name": "Totodile",
                                    "Defense": "64",
                                    "SpecialDefense": "48"
                                },
                                {
                                    "Generation": "Generation 2",
                                    "Name": "Tyranitar",
                                    "Defense": "110",
                                    "SpecialDefense": "100"
                                },
                                {
                                    "Generation": "Generation 2",
                                    "Name": "Wooper",
                                    "Defense": "45",
                                    "SpecialDefense": "25"
                                },
                                {
                                    "Generation": "Generation 3",
                                    "Name": "Aggron",
                                    "Defense": "180",
                                    "SpecialDefense": "60"
                                },
                                {
                                    "Generation": "Generation 3",
                                    "Name": "Armaldo",
                                    "Defense": "100",
                                    "SpecialDefense": "80"
                                },
                                {
                                    "Generation": "Generation 3",
                                    "Name": "Aron",
                                    "Defense": "100",
                                    "SpecialDefense": "40"
                                },
                                {
                                    "Generation": "Generation 3",
                                    "Name": "Bagon",
                                    "Defense": "60",
                                    "SpecialDefense": "30"
                                },
                                {
                                    "Generation": "Generation 3",
                                    "Name": "Banette",
                                    "Defense": "65",
                                    "SpecialDefense": "63"
                                },
                                {
                                    "Generation": "Generation 3",
                                    "Name": "Barboach",
                                    "Defense": "43",
                                    "SpecialDefense": "41"
                                },
                                {
                                    "Generation": "Generation 3",
                                    "Name": "Beldum",
                                    "Defense": "80",
                                    "SpecialDefense": "60"
                                },
                                {
                                    "Generation": "Generation 3",
                                    "Name": "Breloom",
                                    "Defense": "80",
                                    "SpecialDefense": "60"
                                },
                                {
                                    "Generation": "Generation 3",
                                    "Name": "Cascoon",
                                    "Defense": "55",
                                    "SpecialDefense": "25"
                                },
                                {
                                    "Generation": "Generation 3",
                                    "Name": "Clamperl",
                                    "Defense": "85",
                                    "SpecialDefense": "55"
                                },
                                {
                                    "Generation": "Generation 3",
                                    "Name": "Corphish",
                                    "Defense": "65",
                                    "SpecialDefense": "35"
                                },
                                {
                                    "Generation": "Generation 3",
                                    "Name": "Crawdaunt",
                                    "Defense": "85",
                                    "SpecialDefense": "55"
                                },
                                {
                                    "Generation": "Generation 3",
                                    "Name": "Delcatty",
                                    "Defense": "65",
                                    "SpecialDefense": "55"
                                },
                                {
                                    "Generation": "Generation 3",
                                    "Name": "Gorebyss",
                                    "Defense": "105",
                                    "SpecialDefense": "75"
                                },
                                {
                                    "Generation": "Generation 3",
                                    "Name": "Groudon",
                                    "Defense": "140",
                                    "SpecialDefense": "90"
                                },
                                {
                                    "Generation": "Generation 3",
                                    "Name": "Huntail",
                                    "Defense": "105",
                                    "SpecialDefense": "75"
                                },
                                {
                                    "Generation": "Generation 3",
                                    "Name": "Lairon",
                                    "Defense": "140",
                                    "SpecialDefense": "50"
                                },
                                {
                                    "Generation": "Generation 3",
                                    "Name": "Mawile",
                                    "Defense": "85",
                                    "SpecialDefense": "55"
                                },
                                {
                                    "Generation": "Generation 3",
                                    "Name": "Metagross",
                                    "Defense": "130",
                                    "SpecialDefense": "90"
                                },
                                {
                                    "Generation": "Generation 3",
                                    "Name": "Metang",
                                    "Defense": "100",
                                    "SpecialDefense": "80"
                                },
                                {
                                    "Generation": "Generation 3",
                                    "Name": "Mightyena",
                                    "Defense": "70",
                                    "SpecialDefense": "60"
                                },
                                {
                                    "Generation": "Generation 3",
                                    "Name": "Nincada",
                                    "Defense": "90",
                                    "SpecialDefense": "30"
                                },
                                {
                                    "Generation": "Generation 3",
                                    "Name": "Nosepass",
                                    "Defense": "135",
                                    "SpecialDefense": "90"
                                },
                                {
                                    "Generation": "Generation 3",
                                    "Name": "Pelipper",
                                    "Defense": "100",
                                    "SpecialDefense": "70"
                                },
                                {
                                    "Generation": "Generation 3",
                                    "Name": "Poochyena",
                                    "Defense": "35",
                                    "SpecialDefense": "30"
                                },
                                {
                                    "Generation": "Generation 3",
                                    "Name": "Regirock",
                                    "Defense": "200",
                                    "SpecialDefense": "100"
                                },
                                {
                                    "Generation": "Generation 3",
                                    "Name": "Relicanth",
                                    "Defense": "130",
                                    "SpecialDefense": "65"
                                },
                                {
                                    "Generation": "Generation 3",
                                    "Name": "Sableye",
                                    "Defense": "75",
                                    "SpecialDefense": "65"
                                },
                                {
                                    "Generation": "Generation 3",
                                    "Name": "Seedot",
                                    "Defense": "50",
                                    "SpecialDefense": "30"
                                },
                                {
                                    "Generation": "Generation 3",
                                    "Name": "Shedinja",
                                    "Defense": "45",
                                    "SpecialDefense": "30"
                                },
                                {
                                    "Generation": "Generation 3",
                                    "Name": "Shelgon",
                                    "Defense": "100",
                                    "SpecialDefense": "50"
                                },
                                {
                                    "Generation": "Generation 3",
                                    "Name": "Shuppet",
                                    "Defense": "35",
                                    "SpecialDefense": "33"
                                },
                                {
                                    "Generation": "Generation 3",
                                    "Name": "Silcoon",
                                    "Defense": "55",
                                    "SpecialDefense": "25"
                                },
                                {
                                    "Generation": "Generation 3",
                                    "Name": "Skitty",
                                    "Defense": "45",
                                    "SpecialDefense": "35"
                                },
                                {
                                    "Generation": "Generation 3",
                                    "Name": "Slaking",
                                    "Defense": "100",
                                    "SpecialDefense": "65"
                                },
                                {
                                    "Generation": "Generation 3",
                                    "Name": "Slakoth",
                                    "Defense": "60",
                                    "SpecialDefense": "35"
                                },
                                {
                                    "Generation": "Generation 3",
                                    "Name": "Solrock",
                                    "Defense": "85",
                                    "SpecialDefense": "65"
                                },
                                {
                                    "Generation": "Generation 3",
                                    "Name": "Swellow",
                                    "Defense": "60",
                                    "SpecialDefense": "50"
                                },
                                {
                                    "Generation": "Generation 3",
                                    "Name": "Torkoal",
                                    "Defense": "140",
                                    "SpecialDefense": "70"
                                },
                                {
                                    "Generation": "Generation 3",
                                    "Name": "Vigoroth",
                                    "Defense": "80",
                                    "SpecialDefense": "55"
                                },
                                {
                                    "Generation": "Generation 3",
                                    "Name": "Whiscash",
                                    "Defense": "73",
                                    "SpecialDefense": "71"
                                },
                                {
                                    "Generation": "Generation 3",
                                    "Name": "Wurmple",
                                    "Defense": "35",
                                    "SpecialDefense": "30"
                                }
                            ]
                        },
                        "text/html": [
                            "<table>",
                            "<tr><th>Generation</th><th>Name</th><th>Defense</th><th>SpecialDefense</th></tr>",
                            "<tr><td>Generation 1</td><td>\tRhydon</td><td>120</td><td>45</td></tr>",
                            "<tr><td>Generation 1</td><td>\tTangela</td><td>115</td><td>40</td></tr>",
                            "<tr><td>Generation 1</td><td>Bellsprout</td><td>35</td><td>30</td></tr>",
                            "<tr><td>Generation 1</td><td>Caterpie</td><td>35</td><td>20</td></tr>",
                            "<tr><td>Generation 1</td><td>Cloyster</td><td>180</td><td>45</td></tr>",
                            "<tr><td>Generation 1</td><td>Cubone</td><td>95</td><td>50</td></tr>",
                            "<tr><td>Generation 1</td><td>Dodrio</td><td>70</td><td>60</td></tr>",
                            "<tr><td>Generation 1</td><td>Doduo</td><td>45</td><td>35</td></tr>",
                            "<tr><td>Generation 1</td><td>Exeggcute</td><td>80</td><td>45</td></tr>",
                            "<tr><td>Generation 1</td><td>Exeggutor</td><td>85</td><td>75</td></tr>",
                            "<tr><td>Generation 1</td><td>Fearow</td><td>65</td><td>61</td></tr>",
                            "<tr><td>Generation 1</td><td>Geodude</td><td>100</td><td>30</td></tr>",
                            "<tr><td>Generation 1</td><td>Goldeen</td><td>60</td><td>50</td></tr>",
                            "<tr><td>Generation 1</td><td>Golem</td><td>130</td><td>65</td></tr>",
                            "<tr><td>Generation 1</td><td>Graveler</td><td>115</td><td>45</td></tr>",
                            "<tr><td>Generation 1</td><td>Horsea</td><td>70</td><td>25</td></tr>",
                            "<tr><td>Generation 1</td><td>Kabuto</td><td>90</td><td>45</td></tr>",
                            "<tr><td>Generation 1</td><td>Kabutops</td><td>105</td><td>70</td></tr>",
                            "<tr><td>Generation 1</td><td>Kakuna</td><td>50</td><td>25</td></tr>",
                            "<tr><td>Generation 1</td><td>Kingler</td><td>115</td><td>50</td></tr>",
                            "<tr><td>Generation 1</td><td>Koffing</td><td>95</td><td>45</td></tr>",
                            "<tr><td>Generation 1</td><td>Krabby</td><td>90</td><td>25</td></tr>",
                            "<tr><td>Generation 1</td><td>Machoke</td><td>70</td><td>60</td></tr>",
                            "<tr><td>Generation 1</td><td>Machop</td><td>50</td><td>35</td></tr>",
                            "<tr><td>Generation 1</td><td>Magikarp</td><td>55</td><td>20</td></tr>",
                            "<tr><td>Generation 1</td><td>Magnemite</td><td>70</td><td>55</td></tr>",
                            "<tr><td>Generation 1</td><td>Magneton</td><td>95</td><td>70</td></tr>",
                            "<tr><td>Generation 1</td><td>Marowak</td><td>110</td><td>80</td></tr>",
                            "<tr><td>Generation 1</td><td>Metapod</td><td>55</td><td>25</td></tr>",
                            "<tr><td>Generation 1</td><td>Moltres</td><td>90</td><td>85</td></tr>",
                            "<tr><td>Generation 1</td><td>Nidoking</td><td>77</td><td>75</td></tr>",
                            "<tr><td>Generation 1</td><td>Nidoqueen</td><td>87</td><td>85</td></tr>",
                            "<tr><td>Generation 1</td><td>Nidoran?</td><td>52</td><td>40</td></tr>",
                            "<tr><td>Generation 1</td><td>Nidorina</td><td>67</td><td>55</td></tr>",
                            "<tr><td>Generation 1</td><td>Nidorino</td><td>57</td><td>55</td></tr>",
                            "<tr><td>Generation 1</td><td>Omanyte</td><td>100</td><td>55</td></tr>",
                            "<tr><td>Generation 1</td><td>Omastar</td><td>125</td><td>70</td></tr>",
                            "<tr><td>Generation 1</td><td>Onix</td><td>160</td><td>45</td></tr>",
                            "<tr><td>Generation 1</td><td>Pidgeot</td><td>75</td><td>70</td></tr>",
                            "<tr><td>Generation 1</td><td>Pidgeotto</td><td>55</td><td>50</td></tr>",
                            "<tr><td>Generation 1</td><td>Pidgey</td><td>40</td><td>35</td></tr>",
                            "<tr><td>Generation 1</td><td>Pinsir</td><td>100</td><td>70</td></tr>",
                            "<tr><td>Generation 1</td><td>Poliwhirl</td><td>65</td><td>50</td></tr>",
                            "<tr><td>Generation 1</td><td>Poliwrath</td><td>95</td><td>90</td></tr>",
                            "<tr><td>Generation 1</td><td>Rhyhorn</td><td>95</td><td>30</td></tr>",
                            "<tr><td>Generation 1</td><td>Sandshrew</td><td>85</td><td>30</td></tr>",
                            "<tr><td>Generation 1</td><td>Sandslash</td><td>110</td><td>55</td></tr>",
                            "<tr><td>Generation 1</td><td>Seadra</td><td>95</td><td>45</td></tr>",
                            "<tr><td>Generation 1</td><td>Shellder</td><td>100</td><td>25</td></tr>",
                            "<tr><td>Generation 1</td><td>Slowbro</td><td>110</td><td>80</td></tr>",
                            "<tr><td>Generation 1</td><td>Slowpoke</td><td>65</td><td>40</td></tr>",
                            "<tr><td>Generation 1</td><td>Squirtle</td><td>65</td><td>64</td></tr>",
                            "<tr><td>Generation 1</td><td>Tauros</td><td>95</td><td>70</td></tr>",
                            "<tr><td>Generation 1</td><td>Weedle</td><td>30</td><td>20</td></tr>",
                            "<tr><td>Generation 1</td><td>Weepinbell</td><td>50</td><td>45</td></tr>",
                            "<tr><td>Generation 1</td><td>Weezing</td><td>120</td><td>70</td></tr>",
                            "<tr><td>Generation 2</td><td>Croconaw</td><td>80</td><td>63</td></tr>",
                            "<tr><td>Generation 2</td><td>Donphan</td><td>120</td><td>60</td></tr>",
                            "<tr><td>Generation 2</td><td>Dunsparce</td><td>70</td><td>65</td></tr>",
                            "<tr><td>Generation 2</td><td>Entei</td><td>85</td><td>75</td></tr>",
                            "<tr><td>Generation 2</td><td>Feraligatr</td><td>100</td><td>83</td></tr>",
                            "<tr><td>Generation 2</td><td>Forretress</td><td>140</td><td>60</td></tr>",
                            "<tr><td>Generation 2</td><td>Furret</td><td>64</td><td>55</td></tr>",
                            "<tr><td>Generation 2</td><td>Gligar</td><td>105</td><td>65</td></tr>",
                            "<tr><td>Generation 2</td><td>Granbull</td><td>75</td><td>60</td></tr>",
                            "<tr><td>Generation 2</td><td>Magcargo</td><td>120</td><td>80</td></tr>",
                            "<tr><td>Generation 2</td><td>Miltank</td><td>105</td><td>70</td></tr>",
                            "<tr><td>Generation 2</td><td>Phanpy</td><td>60</td><td>40</td></tr>",
                            "<tr><td>Generation 2</td><td>Piloswine</td><td>80</td><td>60</td></tr>",
                            "<tr><td>Generation 2</td><td>Pineco</td><td>90</td><td>35</td></tr>",
                            "<tr><td>Generation 2</td><td>Quagsire</td><td>85</td><td>65</td></tr>",
                            "<tr><td>Generation 2</td><td>Qwilfish</td><td>85</td><td>55</td></tr>",
                            "<tr><td>Generation 2</td><td>Scizor</td><td>100</td><td>80</td></tr>",
                            "<tr><td>Generation 2</td><td>Skarmory</td><td>140</td><td>70</td></tr>",
                            "<tr><td>Generation 2</td><td>Snubbull</td><td>50</td><td>40</td></tr>",
                            "<tr><td>Generation 2</td><td>Steelix</td><td>200</td><td>65</td></tr>",
                            "<tr><td>Generation 2</td><td>Sudowoodo</td><td>115</td><td>65</td></tr>",
                            "<tr><td>Generation 2</td><td>Swinub</td><td>40</td><td>30</td></tr>",
                            "<tr><td>Generation 2</td><td>Totodile</td><td>64</td><td>48</td></tr>",
                            "<tr><td>Generation 2</td><td>Tyranitar</td><td>110</td><td>100</td></tr>",
                            "<tr><td>Generation 2</td><td>Wooper</td><td>45</td><td>25</td></tr>",
                            "<tr><td>Generation 3</td><td>Aggron</td><td>180</td><td>60</td></tr>",
                            "<tr><td>Generation 3</td><td>Armaldo</td><td>100</td><td>80</td></tr>",
                            "<tr><td>Generation 3</td><td>Aron</td><td>100</td><td>40</td></tr>",
                            "<tr><td>Generation 3</td><td>Bagon</td><td>60</td><td>30</td></tr>",
                            "<tr><td>Generation 3</td><td>Banette</td><td>65</td><td>63</td></tr>",
                            "<tr><td>Generation 3</td><td>Barboach</td><td>43</td><td>41</td></tr>",
                            "<tr><td>Generation 3</td><td>Beldum</td><td>80</td><td>60</td></tr>",
                            "<tr><td>Generation 3</td><td>Breloom</td><td>80</td><td>60</td></tr>",
                            "<tr><td>Generation 3</td><td>Cascoon</td><td>55</td><td>25</td></tr>",
                            "<tr><td>Generation 3</td><td>Clamperl</td><td>85</td><td>55</td></tr>",
                            "<tr><td>Generation 3</td><td>Corphish</td><td>65</td><td>35</td></tr>",
                            "<tr><td>Generation 3</td><td>Crawdaunt</td><td>85</td><td>55</td></tr>",
                            "<tr><td>Generation 3</td><td>Delcatty</td><td>65</td><td>55</td></tr>",
                            "<tr><td>Generation 3</td><td>Gorebyss</td><td>105</td><td>75</td></tr>",
                            "<tr><td>Generation 3</td><td>Groudon</td><td>140</td><td>90</td></tr>",
                            "<tr><td>Generation 3</td><td>Huntail</td><td>105</td><td>75</td></tr>",
                            "<tr><td>Generation 3</td><td>Lairon</td><td>140</td><td>50</td></tr>",
                            "<tr><td>Generation 3</td><td>Mawile</td><td>85</td><td>55</td></tr>",
                            "<tr><td>Generation 3</td><td>Metagross</td><td>130</td><td>90</td></tr>",
                            "<tr><td>Generation 3</td><td>Metang</td><td>100</td><td>80</td></tr>",
                            "<tr><td>Generation 3</td><td>Mightyena</td><td>70</td><td>60</td></tr>",
                            "<tr><td>Generation 3</td><td>Nincada</td><td>90</td><td>30</td></tr>",
                            "<tr><td>Generation 3</td><td>Nosepass</td><td>135</td><td>90</td></tr>",
                            "<tr><td>Generation 3</td><td>Pelipper</td><td>100</td><td>70</td></tr>",
                            "<tr><td>Generation 3</td><td>Poochyena</td><td>35</td><td>30</td></tr>",
                            "<tr><td>Generation 3</td><td>Regirock</td><td>200</td><td>100</td></tr>",
                            "<tr><td>Generation 3</td><td>Relicanth</td><td>130</td><td>65</td></tr>",
                            "<tr><td>Generation 3</td><td>Sableye</td><td>75</td><td>65</td></tr>",
                            "<tr><td>Generation 3</td><td>Seedot</td><td>50</td><td>30</td></tr>",
                            "<tr><td>Generation 3</td><td>Shedinja</td><td>45</td><td>30</td></tr>",
                            "<tr><td>Generation 3</td><td>Shelgon</td><td>100</td><td>50</td></tr>",
                            "<tr><td>Generation 3</td><td>Shuppet</td><td>35</td><td>33</td></tr>",
                            "<tr><td>Generation 3</td><td>Silcoon</td><td>55</td><td>25</td></tr>",
                            "<tr><td>Generation 3</td><td>Skitty</td><td>45</td><td>35</td></tr>",
                            "<tr><td>Generation 3</td><td>Slaking</td><td>100</td><td>65</td></tr>",
                            "<tr><td>Generation 3</td><td>Slakoth</td><td>60</td><td>35</td></tr>",
                            "<tr><td>Generation 3</td><td>Solrock</td><td>85</td><td>65</td></tr>",
                            "<tr><td>Generation 3</td><td>Swellow</td><td>60</td><td>50</td></tr>",
                            "<tr><td>Generation 3</td><td>Torkoal</td><td>140</td><td>70</td></tr>",
                            "<tr><td>Generation 3</td><td>Vigoroth</td><td>80</td><td>55</td></tr>",
                            "<tr><td>Generation 3</td><td>Whiscash</td><td>73</td><td>71</td></tr>",
                            "<tr><td>Generation 3</td><td>Wurmple</td><td>35</td><td>30</td></tr>",
                            "</table>"
                        ]
                    }
                }
            ],
            "execution_count": 35
        },
        {
            "cell_type": "markdown",
            "source": [
                "### **Query 6**\n",
                "\n",
                "**Proposition:** Write a query that calculates the average values of the attributes of Pokemon: HP, Attack, Defense, Special Attack, Special Defense, and Speed across all 3 generations\n",
                "\n",
                "**Tables:**\n",
                "\n",
                "- PokemonGen1.dbo.PokemonGen1: Contains data about Pokemon from the first generation, including their attributes such as HP, Attack, Defense, Special Attack, Special Defense, and Speed.\n",
                "- PokemonGen2.dbo.PokemonGen2: Contains data about Pokemon from the second generation, including their attributes.\n",
                "- PokemonGen3.dbo.PokemonGen3: Contains data about Pokemon from the third generation, including their attributes.\n",
                "\n",
                "**Columns:**\n",
                "\n",
                "- HP: Represents the Hit Points attribute of Pokemon, indicating their health.\n",
                "- Attack: Denotes the Attack attribute of Pokemon, representing their physical offensive power.\n",
                "- Defense: Indicates the Defense attribute of Pokemon, showing their physical defensive capability.\n",
                "- SpecialAttack: Represents the Special Attack attribute of Pokemon, indicating their offensive power for special moves.\n",
                "- SpecialDefense: Denotes the Special Defense attribute of Pokemon, representing their defensive capability against special moves.\n",
                "- Speed: Represents the Speed attribute of Pokemon, showing how fast they can act in battles.\n",
                "\n",
                "**Predicate:**\n",
                "\n",
                "- The UNION ALL is used with a subquery that takes the data from all 3 generations of Pokemon to combine the  HP, Attack, Defense, Special Attack, Special Defense, and Speed\n",
                "- The outer query then calculates the average of each attribute using the AVG() function"
            ],
            "metadata": {
                "azdata_cell_guid": "40a3071d-6c04-41a9-99a1-9a63ef613fa8"
            },
            "attachments": {}
        },
        {
            "cell_type": "code",
            "source": [
                "SELECT \r\n",
                "    AVG(HP) AS Average_HP,\r\n",
                "    AVG(Attack) AS Average_Attack,\r\n",
                "    AVG(Defense) AS Average_Defense,\r\n",
                "    AVG(SpecialAttack) AS Average_SpecialAttack,\r\n",
                "    AVG(SpecialDefense) AS Average_SpecialDefense,\r\n",
                "    AVG(Speed) AS Average_Speed\r\n",
                "FROM (\r\n",
                "    SELECT HP, Attack, Defense, SpecialAttack, SpecialDefense, Speed\r\n",
                "    FROM PokemonGen1.dbo.PokemonGen1\r\n",
                "\r\n",
                "    UNION ALL\r\n",
                "\r\n",
                "    SELECT HP, Attack, Defense, SpecialAttack, SpecialDefense, Speed\r\n",
                "    FROM PokemonGen2.dbo.PokemonGen2\r\n",
                "\r\n",
                "    UNION ALL\r\n",
                "\r\n",
                "    SELECT HP, Attack, Defense, SpecialAttack, SpecialDefense, Speed\r\n",
                "    FROM PokemonGen3.dbo.PokemonGen3\r\n",
                ") AS AllGenerations;"
            ],
            "metadata": {
                "azdata_cell_guid": "cd6de199-7813-456a-98fb-4a82c7c9f319",
                "language": "sql",
                "tags": []
            },
            "outputs": [
                {
                    "output_type": "display_data",
                    "data": {
                        "text/html": "(1 row affected)"
                    },
                    "metadata": {}
                },
                {
                    "output_type": "display_data",
                    "data": {
                        "text/html": "Total execution time: 00:00:00.003"
                    },
                    "metadata": {}
                },
                {
                    "output_type": "execute_result",
                    "metadata": {},
                    "execution_count": 38,
                    "data": {
                        "application/vnd.dataresource+json": {
                            "schema": {
                                "fields": [
                                    {
                                        "name": "Average_HP"
                                    },
                                    {
                                        "name": "Average_Attack"
                                    },
                                    {
                                        "name": "Average_Defense"
                                    },
                                    {
                                        "name": "Average_SpecialAttack"
                                    },
                                    {
                                        "name": "Average_SpecialDefense"
                                    },
                                    {
                                        "name": "Average_Speed"
                                    }
                                ]
                            },
                            "data": [
                                {
                                    "Average_HP": "66",
                                    "Average_Attack": "71",
                                    "Average_Defense": "68",
                                    "Average_SpecialAttack": "66",
                                    "Average_SpecialDefense": "67",
                                    "Average_Speed": "64"
                                }
                            ]
                        },
                        "text/html": [
                            "<table>",
                            "<tr><th>Average_HP</th><th>Average_Attack</th><th>Average_Defense</th><th>Average_SpecialAttack</th><th>Average_SpecialDefense</th><th>Average_Speed</th></tr>",
                            "<tr><td>66</td><td>71</td><td>68</td><td>66</td><td>67</td><td>64</td></tr>",
                            "</table>"
                        ]
                    }
                }
            ],
            "execution_count": 38
        },
        {
            "cell_type": "markdown",
            "source": [
                "### **Query 7**\n",
                "\n",
                "**Proposition:** Write a query that compares the average stats for HP, Attack, Defense, Special Attack, Special Defense, and Speed for all 3 generations of Pokemon\n",
                "\n",
                "**Tables:**\n",
                "\n",
                "- PokemonGen1.dbo.PokemonGen1: Contains data about Pokemon from the first generation, including their various attributes such as HP, Attack, Defense, Special Attack, Special Defense, and Speed.\n",
                "- PokemonGen2.dbo.PokemonGen2: Contains data about Pokemon from the second generation, including their attributes.\n",
                "- PokemonGen3.dbo.PokemonGen3: Contains data about Pokemon from the third generation, including their attributes.\n",
                "\n",
                "**Columns:**\n",
                "\n",
                "- Generation: Represents the generation of Pokemon for which the average statistics are calculated.\n",
                "- AvgHP: Represents the average Hit Points (HP) across all Pokemon in the specified generation.\n",
                "- AvgAttack: Represents the average Attack stat across all Pokemon.\n",
                "- AvgDefense: Represents the average Defense stat across all Pokemon.\n",
                "- AvgSpecialAttack: Represents the average Special Attack stat across all Pokemon.\n",
                "- AvgSpecialDefense: Represents the average Special Defense stat across all Pokemon.\n",
                "- AvgSpeed: Represents the average Speed stat across all Pokemon.\n",
                "\n",
                "**Predicate:**\n",
                "\n",
                "- The ConbinedStats CTE is used to calculate the average for all the attributes that the Pokemon have\n",
                "- Then there are 3 subqueries that are used for each generation to calculate the average\n",
                "- The UNION ALL operator is then used to combine the results of the subqueries in to the CombinedStats table"
            ],
            "metadata": {
                "azdata_cell_guid": "aca20649-bd76-4a92-85a2-b97f1c0f5a42"
            },
            "attachments": {}
        },
        {
            "cell_type": "code",
            "source": [
                "WITH CombinedStats AS (\r\n",
                "    SELECT 'Gen1' AS Generation, \r\n",
                "           AVG(HP) AS AvgHP, \r\n",
                "           AVG(Attack) AS AvgAttack, \r\n",
                "           AVG(Defense) AS AvgDefense,\r\n",
                "           AVG(SpecialAttack) AS AvgSpecialAttack,\r\n",
                "           AVG(SpecialDefense) AS AvgSpecialDefense,\r\n",
                "           AVG(Speed) AS AvgSpeed\r\n",
                "    FROM PokemonGen1.dbo.PokemonGen1\r\n",
                "    UNION ALL\r\n",
                "    SELECT 'Gen2', \r\n",
                "           AVG(HP), \r\n",
                "           AVG(Attack), \r\n",
                "           AVG(Defense),\r\n",
                "           AVG(SpecialAttack),\r\n",
                "           AVG(SpecialDefense),\r\n",
                "           AVG(Speed)\r\n",
                "    FROM PokemonGen2.dbo.PokemonGen2\r\n",
                "    UNION ALL\r\n",
                "    SELECT 'Gen3', \r\n",
                "           AVG(HP), \r\n",
                "           AVG(Attack), \r\n",
                "           AVG(Defense),\r\n",
                "           AVG(SpecialAttack),\r\n",
                "           AVG(SpecialDefense),\r\n",
                "           AVG(Speed)\r\n",
                "    FROM PokemonGen3.dbo.PokemonGen3\r\n",
                ")\r\n",
                "SELECT Generation, \r\n",
                "       AvgHP, \r\n",
                "       AvgAttack, \r\n",
                "       AvgDefense,\r\n",
                "       AvgSpecialAttack,\r\n",
                "       AvgSpecialDefense,\r\n",
                "       AvgSpeed\r\n",
                "FROM CombinedStats;\r\n",
                ""
            ],
            "metadata": {
                "azdata_cell_guid": "964742cd-9e7d-4478-8d6e-e06b62005de1",
                "language": "sql"
            },
            "outputs": [
                {
                    "output_type": "display_data",
                    "data": {
                        "text/html": "(3 rows affected)"
                    },
                    "metadata": {}
                },
                {
                    "output_type": "display_data",
                    "data": {
                        "text/html": "Total execution time: 00:00:00.006"
                    },
                    "metadata": {}
                },
                {
                    "output_type": "execute_result",
                    "metadata": {},
                    "execution_count": 40,
                    "data": {
                        "application/vnd.dataresource+json": {
                            "schema": {
                                "fields": [
                                    {
                                        "name": "Generation"
                                    },
                                    {
                                        "name": "AvgHP"
                                    },
                                    {
                                        "name": "AvgAttack"
                                    },
                                    {
                                        "name": "AvgDefense"
                                    },
                                    {
                                        "name": "AvgSpecialAttack"
                                    },
                                    {
                                        "name": "AvgSpecialDefense"
                                    },
                                    {
                                        "name": "AvgSpeed"
                                    }
                                ]
                            },
                            "data": [
                                {
                                    "Generation": "Gen1",
                                    "AvgHP": "63",
                                    "AvgAttack": "72",
                                    "AvgDefense": "68",
                                    "AvgSpecialAttack": "67",
                                    "AvgSpecialDefense": "65",
                                    "AvgSpeed": "69"
                                },
                                {
                                    "Generation": "Gen2",
                                    "AvgHP": "70",
                                    "AvgAttack": "68",
                                    "AvgDefense": "69",
                                    "AvgSpecialAttack": "64",
                                    "AvgSpecialDefense": "72",
                                    "AvgSpeed": "61"
                                },
                                {
                                    "Generation": "Gen3",
                                    "AvgHP": "65",
                                    "AvgAttack": "73",
                                    "AvgDefense": "69",
                                    "AvgSpecialAttack": "67",
                                    "AvgSpecialDefense": "66",
                                    "AvgSpeed": "61"
                                }
                            ]
                        },
                        "text/html": [
                            "<table>",
                            "<tr><th>Generation</th><th>AvgHP</th><th>AvgAttack</th><th>AvgDefense</th><th>AvgSpecialAttack</th><th>AvgSpecialDefense</th><th>AvgSpeed</th></tr>",
                            "<tr><td>Gen1</td><td>63</td><td>72</td><td>68</td><td>67</td><td>65</td><td>69</td></tr>",
                            "<tr><td>Gen2</td><td>70</td><td>68</td><td>69</td><td>64</td><td>72</td><td>61</td></tr>",
                            "<tr><td>Gen3</td><td>65</td><td>73</td><td>69</td><td>67</td><td>66</td><td>61</td></tr>",
                            "</table>"
                        ]
                    }
                }
            ],
            "execution_count": 40
        }
    ]
}