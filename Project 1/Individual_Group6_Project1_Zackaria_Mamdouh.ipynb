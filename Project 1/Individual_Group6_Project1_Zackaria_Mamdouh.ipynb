{
    "metadata": {
        "kernelspec": {
            "name": "SQL",
            "display_name": "SQL",
            "language": "sql"
        },
        "language_info": {
            "name": "sql",
            "version": ""
        }
    },
    "nbformat_minor": 2,
    "nbformat": 4,
    "cells": [
        {
            "cell_type": "markdown",
            "source": [
                "**Zackaria Mamdouh | Group 6 | Project 1**\r\n",
                "\r\n",
                "_Written in collaboration with ChatGPT from OpenAI to improve understanding, assist with the explanation of the query, and enhance formatting and display of the queries._\r\n",
                "\r\n",
                "**Complex Queries (from Pokemon Databases)**"
            ],
            "metadata": {
                "azdata_cell_guid": "f781322c-72c8-4ae5-ad4b-66a1d9e7f07b"
            },
            "attachments": {}
        },
        {
            "cell_type": "markdown",
            "source": [
                "**Query 1**\n",
                "\n",
                "**Proposition**: The goal of this query is to compare the average Hit Points (HP), Attack, and Defense statistics for Pokémon across the first three generations.\n",
                "\n",
                "**Tables**\n",
                "\n",
                "The query involves three tables from a Pokémon database, one for each of the first three generations. Each table contains various statistics about Pokémon:\n",
                "\n",
                "- `PokemonGen1.dbo.PokemonGen1`\n",
                "- `PokemonGen2.dbo.PokemonGen2`\n",
                "- `PokemonGen3.dbo.PokemonGen3`\n",
                "\n",
                "**Columns**\n",
                "\n",
                "The columns involved from each table are:\n",
                "\n",
                "- `HP` (Hit Points)\n",
                "- `Attack`\n",
                "- `Defense`\n",
                "\n",
                "**Predicate** \n",
                "\n",
                "For each generation's table, the query:\n",
                "\n",
                "1. Calculates the average `HP`, `Attack`, and `Defense` values.\n",
                "2. Labels the calculated averages with the respective generation name.\n",
                "\n",
                "**Combined Statistics**\n",
                "\n",
                "A Common Table Expression (CTE) named `CombinedStats` is used to unify the averages from all three tables. The final output of the query retrieves the generation and their corresponding average statistics for `HP`, `Attack`, and `Defense`.\n",
                "\n",
                "The `UNION ALL` operator is used to combine the selections from the different generations into a single result set, which is then used to display the overall comparison."
            ],
            "metadata": {
                "azdata_cell_guid": "100ecf47-27b1-4fc7-b67d-2316639a2ae7"
            },
            "attachments": {}
        },
        {
            "cell_type": "code",
            "source": [
                "--QUERY 1-- This query combines and compares the average HP, Attack, and Defense stats across the three Pokémon generations.\n",
                "\n",
                "WITH CombinedStats AS (\n",
                "    -- Selects the average HP, Attack, and Defense stats from Generation 1\n",
                "    SELECT 'Gen1' AS Generation, AVG(HP) AS AvgHP, AVG(Attack) AS AvgAttack, AVG(Defense) AS AvgDefense\n",
                "    FROM PokemonGen1.dbo.PokemonGen1\n",
                "    UNION ALL\n",
                "    -- Selects the average HP, Attack, and Defense stats from Generation 2\n",
                "    SELECT 'Gen2', AVG(HP), AVG(Attack), AVG(Defense)\n",
                "    FROM PokemonGen2.dbo.PokemonGen2\n",
                "    UNION ALL\n",
                "    -- Selects the average HP, Attack, and Defense stats from Generation 3\n",
                "    SELECT 'Gen3', AVG(HP), AVG(Attack), AVG(Defense)\n",
                "    FROM PokemonGen3.dbo.PokemonGen3\n",
                ")\n",
                "-- The final SELECT fetches the combined average stats for each generation\n",
                "SELECT Generation, AvgHP, AvgAttack, AvgDefense\n",
                "FROM CombinedStats;"
            ],
            "metadata": {
                "azdata_cell_guid": "cfce189b-9ebb-496d-a959-017ff8622ede",
                "language": "sql",
                "tags": [
                    "hide_input"
                ]
            },
            "outputs": [],
            "execution_count": null
        },
        {
            "cell_type": "markdown",
            "source": [
                "**Query 2**\n",
                "\n",
                "**Proposition**\n",
                "The aim of this query is to identify the most frequently occurring Pokémon type from the combined data of the first three generations.\n",
                "\n",
                "**Tables**\n",
                "This query involves three tables from a Pokémon database, each representing a different generation of Pokémon. The relevant tables and columns are:\n",
                "\n",
                "- `PokemonGen1.dbo.PokemonGen1`\n",
                "- `PokemonGen2.dbo.PokemonGen2`\n",
                "- `PokemonGen3.dbo.PokemonGen3`\n",
                "\n",
                "**Columns**\n",
                "\n",
                "Each table includes two columns for Pokémon types:\n",
                "- `Type1`\n",
                "- `Type2`\n",
                "\n",
                "**Predicate** \n",
                "The query performs the following actions:\n",
                "1. Selects all non-null instances of `Type1` and `Type2` from the `PokemonGen1` table.\n",
                "2. Repeats the selection for `Type1` and `Type2` from the `PokemonGen2` and `PokemonGen3` tables.\n",
                "3. Uses the `UNION ALL` operator to combine these results into a single dataset.\n",
                "\n",
                "**Determining the Most Common Type**\n",
                "A subquery named `CombinedTypes` is created to hold the unified list of all types. The query then:\n",
                "- Groups the results by `Type`.\n",
                "- Counts the occurrences of each type.\n",
                "- Orders the grouped count in descending order.\n",
                "\n",
                "The `SELECT TOP 1` statement is used to retrieve only the most common type out of the dataset."
            ],
            "metadata": {
                "azdata_cell_guid": "99831e9a-93d4-4c89-8d4c-418b96d6530b"
            },
            "attachments": {}
        },
        {
            "cell_type": "code",
            "source": [
                "-- --QUERY 2 --  This query finds the most common Pokémon type across all three generations.\n",
                "\n",
                "SELECT TOP 1 Type, COUNT(*) AS TypeCount\n",
                "FROM (\n",
                "    -- Include all 'Type1' from Gen1\n",
                "    SELECT Type1 AS Type FROM PokemonGen1.dbo.PokemonGen1 WHERE Type1 IS NOT NULL\n",
                "    UNION ALL\n",
                "    -- Include all 'Type2' from Gen1\n",
                "    SELECT Type2 AS Type FROM PokemonGen1.dbo.PokemonGen1 WHERE Type2 IS NOT NULL\n",
                "    UNION ALL\n",
                "    -- Include all 'Type1' from Gen2\n",
                "    SELECT Type1 AS Type FROM PokemonGen2.dbo.PokemonGen2 WHERE Type1 IS NOT NULL\n",
                "    UNION ALL\n",
                "    -- Include all 'Type2' from Gen2\n",
                "    SELECT Type2 AS Type FROM PokemonGen2.dbo.PokemonGen2 WHERE Type2 IS NOT NULL\n",
                "    UNION ALL\n",
                "    -- Include all 'Type1' from Gen3\n",
                "    SELECT Type1 AS Type FROM PokemonGen3.dbo.PokemonGen3 WHERE Type1 IS NOT NULL\n",
                "    UNION ALL\n",
                "    -- Include all 'Type2' from Gen3\n",
                "    SELECT Type2 AS Type FROM PokemonGen3.dbo.PokemonGen3 WHERE Type2 IS NOT NULL\n",
                ") AS CombinedTypes\n",
                "GROUP BY Type\n",
                "ORDER BY TypeCount DESC;"
            ],
            "metadata": {
                "azdata_cell_guid": "787b5209-f0e2-4ba5-9bb3-dd8482392287",
                "language": "sql",
                "tags": [
                    "hide_input"
                ]
            },
            "outputs": [],
            "execution_count": null
        },
        {
            "cell_type": "markdown",
            "source": [
                "**Query 3**\n",
                "\n",
                "**Proposition**:This query is designed to determine which Pokémon has the highest aggregate statistics, known as total stats (the sum of HP, Attack, Defense, SpecialAttack, SpecialDefense, and Speed), comparing across the first three generations of Pokémon.\n",
                "\n",
                "**Tables** The query accesses three separate tables within a Pokémon database, with each table representing a different generation of Pokémon:\n",
                "\n",
                "- `PokemonGen1.dbo.PokemonGen1`\n",
                "- `PokemonGen2.dbo.PokemonGen2`\n",
                "- `PokemonGen3.dbo.PokemonGen3`\n",
                "\n",
                "**Columns**\n",
                "\n",
                "From each table, it utilizes the following columns:\n",
                "\n",
                "- `Name` (the name of the Pokémon)\n",
                "- `HP` (Hit Points)\n",
                "- `Attack`\n",
                "- `Defense`\n",
                "- `SpecialAttack`\n",
                "- `SpecialDefense`\n",
                "- `Speed`\n",
                "\n",
                "**Predicate** The logic of the query executes these steps:\n",
                "\n",
                "1. For each Pokémon in the `PokemonGen1` table, it computes the total of the aforementioned stats and assigns a label 'Gen1'.\n",
                "2. It repeats the calculation for `PokemonGen2` and `PokemonGen3`, labeling the results 'Gen2' and 'Gen3', respectively.\n",
                "3. It unifies the results from all three generations using `UNION ALL`.\n",
                "\n",
                "**Aggregate and Grouping** The query then performs an aggregation to:\n",
                "\n",
                "- Group the results by each Pokémon's name and generation, ensuring the max total is calculated within these groups.\n",
                "- Use the `MAX` function to find the highest total stats for Pokémon within the same name and generation grouping."
            ],
            "metadata": {
                "azdata_cell_guid": "f292ee7c-6e8a-4c71-96c4-2894c1261497"
            },
            "attachments": {}
        },
        {
            "cell_type": "code",
            "source": [
                "--QUERY 3 -- This query identifies the Pokémon with the highest total stats (sum of all individual stats) across all generations.\n",
                "\n",
                "SELECT MAX(CombinedTotal.Total) AS MaxStat, CombinedTotal.Name, CombinedTotal.Generation\n",
                "FROM (\n",
                "    -- This subquery calculates the total stats for each Pokémon in Generation 1 and labels them 'Gen1'.\n",
                "    SELECT Name, (HP + Attack + Defense + SpecialAttack + SpecialDefense + Speed) AS Total, 'Gen1' AS Generation FROM PokemonGen1.dbo.PokemonGen1\n",
                "    UNION ALL\n",
                "    -- Similarly, it calculates the total stats for each Pokémon in Generation 2 and labels them 'Gen2'.\n",
                "    SELECT Name, (HP + Attack + Defense + SpecialAttack + SpecialDefense + Speed), 'Gen2' FROM PokemonGen2.dbo.PokemonGen2\n",
                "    UNION ALL\n",
                "    -- And does the same for Generation 3, labeling them 'Gen3'.\n",
                "    SELECT Name, (HP + Attack + Defense + SpecialAttack + SpecialDefense + Speed), 'Gen3' FROM PokemonGen3.dbo.PokemonGen3\n",
                ") AS CombinedTotal\n",
                "-- Grouping the results by Pokémon name and generation.\n",
                "GROUP BY CombinedTotal.Name, CombinedTotal.Generation;"
            ],
            "metadata": {
                "azdata_cell_guid": "6665b26b-0a3b-4807-b604-183ff01d616f",
                "language": "sql",
                "tags": [
                    "hide_input"
                ]
            },
            "outputs": [],
            "execution_count": null
        },
        {
            "cell_type": "markdown",
            "source": [
                "**Query 4** \n",
                "\n",
                "**Proposition**: This query is structured to analyze the average Speed of Pokémon, distinguishing between those with a single type (Single) and those with two types (Dual), across three generations.\n",
                "\n",
                "**Tables**\n",
                "The data is sourced from three different tables in the Pokémon database, each corresponding to a distinct generation of Pokémon:\n",
                "\n",
                "- `PokemonGen1.dbo.PokemonGen1`\n",
                "- `PokemonGen2.dbo.PokemonGen2`\n",
                "- `PokemonGen3.dbo.PokemonGen3`\n",
                "\n",
                "**Columns**\n",
                "\n",
                "The columns assessed from these tables are:\n",
                "- `Speed` (a statistic of the Pokémon)\n",
                "- `Type2` (the second type of the Pokémon, if present)\n",
                "\n",
                "**Predicate**\n",
                "The query executes the following operations:\n",
                "1. Constructs a case classification within a subquery for each Pokémon in the `PokemonGen1` table to determine if the Pokémon is Single or Dual-typed based on the presence or absence of `Type2`.\n",
                "2. It replicates this classification for `PokemonGen2` and `PokemonGen3`.\n",
                "3. All three selections are unified using `UNION ALL` to include all generations in a common format.\n",
                "\n",
                "**Calculating Average Speed**\n",
                "Post-unification, the query:\n",
                "- Groups the data by `Generation` and `TypeCategory`.\n",
                "- Calculates the average `Speed` for each group using the `AVG` function."
            ],
            "metadata": {
                "azdata_cell_guid": "ec934438-d42e-4c38-bd8c-0a4c7082285f"
            },
            "attachments": {}
        },
        {
            "cell_type": "code",
            "source": [
                "-- QUERY 4 --  This query calculates the average speed of Pokémon based on their type classification (Single or Dual) for each generation.\n",
                "\n",
                "SELECT Generation, TypeCategory, AVG(Speed) AS AverageSpeed\n",
                "FROM (\n",
                "    -- Create a subquery that selects generation, type category, and speed for Gen1 Pokémon\n",
                "    SELECT 'Gen1' AS Generation, \n",
                "           CASE WHEN Type2 IS NOT NULL THEN 'Dual' ELSE 'Single' END AS TypeCategory, \n",
                "           Speed \n",
                "    FROM PokemonGen1.dbo.PokemonGen1\n",
                "    UNION ALL\n",
                "    -- Repeat the same selection for Gen2 Pokémon, classifying type category based on the presence of Type2\n",
                "    SELECT 'Gen2', \n",
                "           CASE WHEN Type2 IS NOT NULL THEN 'Dual' ELSE 'Single' END, \n",
                "           Speed \n",
                "    FROM PokemonGen2.dbo.PokemonGen2\n",
                "    UNION ALL\n",
                "    -- Repeat the selection for Gen3 Pokémon, continuing the type category classification\n",
                "    SELECT 'Gen3', \n",
                "           CASE WHEN Type2 IS NOT NULL THEN 'Dual' ELSE 'Single' END, \n",
                "           Speed \n",
                "    FROM PokemonGen3.dbo.PokemonGen3\n",
                ") AS CombinedTypes\n",
                "-- Group the results by generation and type category\n",
                "GROUP BY Generation, TypeCategory;"
            ],
            "metadata": {
                "azdata_cell_guid": "95285588-f100-473a-a31a-3e06dc856c0e",
                "language": "sql",
                "tags": [
                    "hide_input"
                ]
            },
            "outputs": [],
            "execution_count": null
        },
        {
            "cell_type": "markdown",
            "source": [
                "**Query 5**\n",
                "\n",
                "**Proposition**: This query aims to count the number of legendary Pokémon in each generation, identifying them by the presence of the 'Pressure' ability, which is considered characteristic of legendary Pokémon.\n",
                "\n",
                "**Tables**\n",
                "The query accesses data from three tables within a Pokémon database, each corresponding to a different generation:\n",
                "\n",
                "- `PokemonGen1.dbo.PokemonGen1`\n",
                "- `PokemonGen2.dbo.PokemonGen2`\n",
                "- `PokemonGen3.dbo.PokemonGen3`\n",
                "\n",
                "**Columns**\n",
                "\n",
                "Columns involved in the query are:\n",
                "- `Name` (the name of the Pokémon)\n",
                "- `Ability1`, `Ability2`, `Ability3` (different abilities a Pokémon may have)\n",
                "\n",
                "**Predicate** \n",
                "The query consists of the following steps:\n",
                "1. Selects Pokémon from the `PokemonGen1` table that have the 'Pressure' ability in any of their ability slots.\n",
                "2. Applies the same selection criteria to the `PokemonGen2` and `PokemonGen3` tables.\n",
                "3. Combines the results from all three generations using `UNION ALL`, forming a unified dataset of legendary Pokémon across generations.\n",
                "\n",
                "**Counting Legendary Pokémon**\n",
                "In the final stage, the query:\n",
                "- Groups the collected data by `Generation`.\n",
                "- Uses the `COUNT` function to determine the total number of legendary Pokémon for each generation.\n",
                "\n",
                "**Purpose**\n",
                "The outcome of this query provides insight into the distribution of legendary Pokémon, denoted by the 'Pressure' ability, across the first three generations of the Pokémon series."
            ],
            "metadata": {
                "azdata_cell_guid": "1b41a545-ab50-404a-8bc9-4ea4fe077c90"
            },
            "attachments": {}
        },
        {
            "cell_type": "code",
            "source": [
                "-- QUERY 5 --  This query calculates the number of legendary Pokémon in each generation by searching for the 'Pressure ability that is exclusive to legendary Pokemon.\n",
                "SELECT Generation, COUNT(*) AS LegendaryCount\n",
                "FROM (\n",
                "    -- Selects all Pokémon from Generation 1 that have the 'Pressure' ability, which is assumed to be a marker of legendary Pokémon.\n",
                "    SELECT 'Gen1' AS Generation, Name \n",
                "    FROM PokemonGen1.dbo.PokemonGen1 \n",
                "    WHERE Ability1 = 'Pressure' OR Ability2 = 'Pressure' OR Ability3 = 'Pressure'\n",
                "    UNION ALL\n",
                "    -- Selects all Pokémon from Generation 2 with the 'Pressure' ability.\n",
                "    SELECT 'Gen2', Name \n",
                "    FROM PokemonGen2.dbo.PokemonGen2 \n",
                "    WHERE Ability1 = 'Pressure' OR Ability2 = 'Pressure' OR Ability3 = 'Pressure'\n",
                "    UNION ALL\n",
                "    -- Selects all Pokémon from Generation 3 with the 'Pressure' ability.\n",
                "    SELECT 'Gen3', Name \n",
                "    FROM PokemonGen3.dbo.PokemonGen3\n",
                "    WHERE Ability1 = 'Pressure' OR Ability2 = 'Pressure' OR Ability3 = 'Pressure'\n",
                ") AS LegendaryPokemons -- The subquery results are aliased as LegendaryPokemons.\n",
                "GROUP BY Generation -- Groups the results by generation to prepare for the count.\n",
                "-- The count function is used to count the number of legendary Pokémon in each group."
            ],
            "metadata": {
                "azdata_cell_guid": "a2a618d0-4cee-42d2-912d-548d0ffbdd37",
                "language": "sql",
                "tags": [
                    "hide_input"
                ]
            },
            "outputs": [],
            "execution_count": null
        },
        {
            "cell_type": "markdown",
            "source": [
                "**Query 6**\n",
                "\n",
                "**Proposition**: This query aims to list Pokémon from all generations, ordered by their Defense to Attack ratio in descending order, to understand how defensive each Pokémon is relative to its offensive capabilities.\n",
                "\n",
                "**Tables**\n",
                "The query utilizes data from three tables within a Pokémon database, corresponding to different Pokémon generations:\n",
                "\n",
                "- `PokemonGen1.dbo.PokemonGen1`\n",
                "- `PokemonGen2.dbo.PokemonGen2`\n",
                "- `PokemonGen3.dbo.PokemonGen3`\n",
                "\n",
                "**Columns**\n",
                "\n",
                "The columns used from these tables are:\n",
                "- `Name` (the Pokémon's name)\n",
                "- `Defense` (the Pokémon's defense statistic)\n",
                "- `Attack` (the Pokémon's attack statistic)\n",
                "\n",
                "**Predicate** \n",
                "The query executes the following steps:\n",
                "1. In a subquery, it selects the `Name`, `Defense`, and `Attack` stats from the `PokemonGen1` table and labels the generation as 'Gen1'.\n",
                "2. It repeats this selection for `PokemonGen2` and `PokemonGen3`, labeling the results 'Gen2' and 'Gen3', respectively.\n",
                "3. The results from all three generations are combined into a single dataset using `UNION ALL`.\n",
                "\n",
                "**Calculating Defense to Attack Ratio**\n",
                "In the main query:\n",
                "- It creates a new column `DefenseAttackRatio` by dividing the `Defense` stat by the `Attack` stat for each Pokémon. The division is cast to FLOAT to ensure an accurate decimal ratio.\n",
                "- The final results are then ordered by this ratio in descending order (`ORDER BY DefenseAttackRatio DESC`), so Pokémon with higher defensive capabilities relative to their attack are listed first."
            ],
            "metadata": {
                "azdata_cell_guid": "78c9a375-9ac5-43cc-b568-e562328fcc5d"
            },
            "attachments": {}
        },
        {
            "cell_type": "code",
            "source": [
                "--QUERY 6 --  This query lists the Pokémon from all generations ordered by their Defense to Attack ratio in descending order.\n",
                "\n",
                "-- Create a virtual table that combines the Name, Defense, and Attack stats for all Pokémon across generations.\n",
                "SELECT Generation, Name, Defense, Attack, CAST(Defense AS FLOAT) / Attack AS DefenseAttackRatio\n",
                "FROM (\n",
                "    -- Select Name, Defense, and Attack stats from Generation 1 Pokémon.\n",
                "    SELECT 'Gen1' AS Generation, Name, Defense, Attack FROM PokemonGen1.dbo.PokemonGen1\n",
                "    UNION ALL\n",
                "    -- Repeat the selection for Generation 2.\n",
                "    SELECT 'Gen2', Name, Defense, Attack FROM PokemonGen2.dbo.PokemonGen2\n",
                "    UNION ALL\n",
                "    -- Repeat the selection for Generation 3.\n",
                "    SELECT 'Gen3', Name, Defense, Attack FROM PokemonGen3.dbo.PokemonGen3\n",
                ") AS CombinedStats\n",
                "-- Order the results by the Defense to Attack ratio, from highest to lowest.\n",
                "ORDER BY DefenseAttackRatio DESC;"
            ],
            "metadata": {
                "azdata_cell_guid": "f97ae2af-bc64-42f6-a01e-1eaafd43f059",
                "language": "sql",
                "tags": [
                    "hide_input"
                ]
            },
            "outputs": [],
            "execution_count": null
        },
        {
            "cell_type": "markdown",
            "source": [
                "**Query 7**\r\n",
                "\r\n",
                "**Proposition**: This query aims to list Pokémon from all generations, ordered by their Defense to Attack ratio in descending order, to understand how defensive each Pokémon is relative to its offensive capabilities.\r\n",
                "\r\n",
                "**Tables**\r\n",
                "The query utilizes data from three tables within a Pokémon database, corresponding to different Pokémon generations:\r\n",
                "- `PokemonGen1.dbo.PokemonGen1`\r\n",
                "- `PokemonGen2.dbo.PokemonGen2`\r\n",
                "- `PokemonGen3.dbo.PokemonGen3`\r\n",
                "\r\n",
                "**Columns**\r\n",
                "\r\n",
                "The columns used from these tables are:\r\n",
                "- `Name` (the Pokémon's name)\r\n",
                "- `Defense` (the Pokémon's defense statistic)\r\n",
                "- `Attack` (the Pokémon's attack statistic)\r\n",
                "\r\n",
                "**Predicate** \r\n",
                "The query executes the following steps:\r\n",
                "1. In a subquery, it selects the `Name`, `Defense`, and `Attack` stats from the `PokemonGen1` table and labels the generation as 'Gen1'.\r\n",
                "2. It repeats this selection for `PokemonGen2` and `PokemonGen3`, labeling the results 'Gen2' and 'Gen3', respectively.\r\n",
                "3. The results from all three generations are combined into a single dataset using `UNION ALL`.\r\n",
                "\r\n",
                "**Calculating Defense to Attack Ratio**\r\n",
                "In the main query:\r\n",
                "- It creates a new column `DefenseAttackRatio` by dividing the `Defense` stat by the `Attack` stat for each Pokémon. The division is cast to `FLOAT` to ensure an accurate decimal ratio.\r\n",
                "- The final results are then ordered by this ratio in descending order (`ORDER BY DefenseAttackRatio DESC`), so Pokémon with higher defensive capabilities relative to their attack are listed first.\r\n",
                ""
            ],
            "metadata": {
                "azdata_cell_guid": "6bc70d87-c9cb-47ba-9d75-4867a2746aff"
            },
            "attachments": {}
        },
        {
            "cell_type": "code",
            "source": [
                "--QUERY 7 -- Query to find the top 5 Pokémon with the highest average combined Defense and Special Defense across all generations.\r\n",
                "\r\n",
                "SELECT TOP 5 Name, MainType, AVG(Defense + SpecialDefense) as AverageDefense\r\n",
                "FROM (\r\n",
                "    -- Combining Pokémon data from Generation 1. Selecting Name, primary Type, Defense, and SpecialDefense.\r\n",
                "    SELECT Name, Type1 as MainType, Defense, SpecialDefense FROM PokemonGen1.dbo.PokemonGen1\r\n",
                "    UNION ALL\r\n",
                "    -- Repeating the process for Generation 2 Pokémon.\r\n",
                "    SELECT Name, Type1, Defense, SpecialDefense FROM PokemonGen2.dbo.PokemonGen2\r\n",
                "    UNION ALL\r\n",
                "    -- Repeating the process for Generation 3 Pokémon.\r\n",
                "    SELECT Name, Type1, Defense, SpecialDefense FROM PokemonGen3.dbo.PokemonGen3\r\n",
                ") AS CombinedPokemons\r\n",
                "-- Grouping the results by Pokémon Name and their primary Type.\r\n",
                "GROUP BY Name, MainType\r\n",
                "-- Ordering the Pokémon based on their average combined Defense and SpecialDefense in descending order.\r\n",
                "ORDER BY AverageDefense DESC;\r\n",
                ""
            ],
            "metadata": {
                "azdata_cell_guid": "f8dcaadc-18bb-41dd-acb9-0774cebe74f9",
                "language": "sql",
                "tags": [
                    "hide_input"
                ]
            },
            "outputs": [],
            "execution_count": null
        },
        {
            "cell_type": "markdown",
            "source": [
                "**Below this line is the 13 medium queries using Northwinds and AdventureWorks**\n",
                "\n",
                "**\\-------------------------------------------------------------------------------------------------**"
            ],
            "metadata": {
                "azdata_cell_guid": "81b73da6-618b-4966-b7e1-576d6097e751"
            },
            "attachments": {}
        },
        {
            "cell_type": "code",
            "source": [
                "\r\n",
                ""
            ],
            "metadata": {
                "azdata_cell_guid": "c0a6b81b-6009-4f10-9769-91f1a57b6845",
                "language": "sql",
                "tags": []
            },
            "outputs": [],
            "execution_count": null
        }
    ]
}