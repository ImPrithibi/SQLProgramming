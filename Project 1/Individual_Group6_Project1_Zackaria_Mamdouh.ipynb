{
    "metadata": {
        "kernelspec": {
            "name": "SQL",
            "display_name": "SQL",
            "language": "sql"
        },
        "language_info": {
            "name": "sql",
            "version": ""
        }
    },
    "nbformat_minor": 2,
    "nbformat": 4,
    "cells": [
        {
            "cell_type": "code",
            "source": [
                "-- This query combines and compares the average HP, Attack, and Defense stats across the three Pokémon generations.\r\n",
                "\r\n",
                "WITH CombinedStats AS (\r\n",
                "    -- Selects the average HP, Attack, and Defense stats from Generation 1\r\n",
                "    SELECT 'Gen1' AS Generation, AVG(HP) AS AvgHP, AVG(Attack) AS AvgAttack, AVG(Defense) AS AvgDefense\r\n",
                "    FROM PokemonGen1.dbo.PokemonGen1\r\n",
                "    UNION ALL\r\n",
                "    -- Selects the average HP, Attack, and Defense stats from Generation 2\r\n",
                "    SELECT 'Gen2', AVG(HP), AVG(Attack), AVG(Defense)\r\n",
                "    FROM PokemonGen2.dbo.PokemonGen2\r\n",
                "    UNION ALL\r\n",
                "    -- Selects the average HP, Attack, and Defense stats from Generation 3\r\n",
                "    SELECT 'Gen3', AVG(HP), AVG(Attack), AVG(Defense)\r\n",
                "    FROM PokemonGen3.dbo.PokemonGen3\r\n",
                ")\r\n",
                "-- The final SELECT fetches the combined average stats for each generation\r\n",
                "SELECT Generation, AvgHP, AvgAttack, AvgDefense\r\n",
                "FROM CombinedStats;"
            ],
            "metadata": {
                "azdata_cell_guid": "cfce189b-9ebb-496d-a959-017ff8622ede",
                "language": "sql",
                "tags": [
                    "hide_input"
                ]
            },
            "outputs": [],
            "execution_count": null
        },
        {
            "cell_type": "code",
            "source": [
                "-- This query finds the most common Pokémon type across all three generations.\r\n",
                "\r\n",
                "SELECT TOP 1 Type, COUNT(*) AS TypeCount\r\n",
                "FROM (\r\n",
                "    -- Include all 'Type1' from Gen1\r\n",
                "    SELECT Type1 AS Type FROM PokemonGen1.dbo.PokemonGen1 WHERE Type1 IS NOT NULL\r\n",
                "    UNION ALL\r\n",
                "    -- Include all 'Type2' from Gen1\r\n",
                "    SELECT Type2 AS Type FROM PokemonGen1.dbo.PokemonGen1 WHERE Type2 IS NOT NULL\r\n",
                "    UNION ALL\r\n",
                "    -- Include all 'Type1' from Gen2\r\n",
                "    SELECT Type1 AS Type FROM PokemonGen2.dbo.PokemonGen2 WHERE Type1 IS NOT NULL\r\n",
                "    UNION ALL\r\n",
                "    -- Include all 'Type2' from Gen2\r\n",
                "    SELECT Type2 AS Type FROM PokemonGen2.dbo.PokemonGen2 WHERE Type2 IS NOT NULL\r\n",
                "    UNION ALL\r\n",
                "    -- Include all 'Type1' from Gen3\r\n",
                "    SELECT Type1 AS Type FROM PokemonGen3.dbo.PokemonGen3 WHERE Type1 IS NOT NULL\r\n",
                "    UNION ALL\r\n",
                "    -- Include all 'Type2' from Gen3\r\n",
                "    SELECT Type2 AS Type FROM PokemonGen3.dbo.PokemonGen3 WHERE Type2 IS NOT NULL\r\n",
                ") AS CombinedTypes\r\n",
                "GROUP BY Type\r\n",
                "ORDER BY TypeCount DESC;\r\n",
                ""
            ],
            "metadata": {
                "azdata_cell_guid": "787b5209-f0e2-4ba5-9bb3-dd8482392287",
                "language": "sql",
                "tags": [
                    "hide_input"
                ]
            },
            "outputs": [],
            "execution_count": null
        },
        {
            "cell_type": "code",
            "source": [
                "-- This query identifies the Pokémon with the highest total stats (sum of all individual stats) across all generations.\r\n",
                "\r\n",
                "SELECT MAX(CombinedTotal.Total) AS MaxStat, CombinedTotal.Name, CombinedTotal.Generation\r\n",
                "FROM (\r\n",
                "    -- This subquery calculates the total stats for each Pokémon in Generation 1 and labels them 'Gen1'.\r\n",
                "    SELECT Name, (HP + Attack + Defense + SpecialAttack + SpecialDefense + Speed) AS Total, 'Gen1' AS Generation FROM PokemonGen1.dbo.PokemonGen1\r\n",
                "    UNION ALL\r\n",
                "    -- Similarly, it calculates the total stats for each Pokémon in Generation 2 and labels them 'Gen2'.\r\n",
                "    SELECT Name, (HP + Attack + Defense + SpecialAttack + SpecialDefense + Speed), 'Gen2' FROM PokemonGen2.dbo.PokemonGen2\r\n",
                "    UNION ALL\r\n",
                "    -- And does the same for Generation 3, labeling them 'Gen3'.\r\n",
                "    SELECT Name, (HP + Attack + Defense + SpecialAttack + SpecialDefense + Speed), 'Gen3' FROM PokemonGen3.dbo.PokemonGen3\r\n",
                ") AS CombinedTotal\r\n",
                "-- Grouping the results by Pokémon name and generation.\r\n",
                "GROUP BY CombinedTotal.Name, CombinedTotal.Generation;\r\n",
                "\r\n",
                ""
            ],
            "metadata": {
                "azdata_cell_guid": "6665b26b-0a3b-4807-b604-183ff01d616f",
                "language": "sql",
                "tags": [
                    "hide_input"
                ]
            },
            "outputs": [],
            "execution_count": null
        },
        {
            "cell_type": "code",
            "source": [
                "-- This query calculates the average speed of Pokémon based on their type classification (Single or Dual) for each generation.\r\n",
                "\r\n",
                "SELECT Generation, TypeCategory, AVG(Speed) AS AverageSpeed\r\n",
                "FROM (\r\n",
                "    -- Create a subquery that selects generation, type category, and speed for Gen1 Pokémon\r\n",
                "    SELECT 'Gen1' AS Generation, \r\n",
                "           CASE WHEN Type2 IS NOT NULL THEN 'Dual' ELSE 'Single' END AS TypeCategory, \r\n",
                "           Speed \r\n",
                "    FROM PokemonGen1.dbo.PokemonGen1\r\n",
                "    UNION ALL\r\n",
                "    -- Repeat the same selection for Gen2 Pokémon, classifying type category based on the presence of Type2\r\n",
                "    SELECT 'Gen2', \r\n",
                "           CASE WHEN Type2 IS NOT NULL THEN 'Dual' ELSE 'Single' END, \r\n",
                "           Speed \r\n",
                "    FROM PokemonGen2.dbo.PokemonGen2\r\n",
                "    UNION ALL\r\n",
                "    -- Repeat the selection for Gen3 Pokémon, continuing the type category classification\r\n",
                "    SELECT 'Gen3', \r\n",
                "           CASE WHEN Type2 IS NOT NULL THEN 'Dual' ELSE 'Single' END, \r\n",
                "           Speed \r\n",
                "    FROM PokemonGen3.dbo.PokemonGen3\r\n",
                ") AS CombinedTypes\r\n",
                "-- Group the results by generation and type category\r\n",
                "GROUP BY Generation, TypeCategory;\r\n",
                "\r\n",
                ""
            ],
            "metadata": {
                "azdata_cell_guid": "95285588-f100-473a-a31a-3e06dc856c0e",
                "language": "sql",
                "tags": [
                    "hide_input"
                ]
            },
            "outputs": [],
            "execution_count": null
        },
        {
            "cell_type": "code",
            "source": [
                "-- This query calculates the number of legendary Pokémon in each generation.\r\n",
                "SELECT Generation, COUNT(*) AS LegendaryCount\r\n",
                "FROM (\r\n",
                "    -- Selects all Pokémon from Generation 1 that have the 'Pressure' ability, which is assumed to be a marker of legendary Pokémon.\r\n",
                "    SELECT 'Gen1' AS Generation, Name \r\n",
                "    FROM PokemonGen1.dbo.PokemonGen1 \r\n",
                "    WHERE Ability1 = 'Pressure' OR Ability2 = 'Pressure' OR Ability3 = 'Pressure'\r\n",
                "    UNION ALL\r\n",
                "    -- Selects all Pokémon from Generation 2 with the 'Pressure' ability.\r\n",
                "    SELECT 'Gen2', Name \r\n",
                "    FROM PokemonGen2.dbo.PokemonGen2 \r\n",
                "    WHERE Ability1 = 'Pressure' OR Ability2 = 'Pressure' OR Ability3 = 'Pressure'\r\n",
                "    UNION ALL\r\n",
                "    -- Selects all Pokémon from Generation 3 with the 'Pressure' ability.\r\n",
                "    SELECT 'Gen3', Name \r\n",
                "    FROM PokemonGen3.dbo.PokemonGen3\r\n",
                "    WHERE Ability1 = 'Pressure' OR Ability2 = 'Pressure' OR Ability3 = 'Pressure'\r\n",
                ") AS LegendaryPokemons -- The subquery results are aliased as LegendaryPokemons.\r\n",
                "GROUP BY Generation -- Groups the results by generation to prepare for the count.\r\n",
                "-- The count function is used to count the number of legendary Pokémon in each group.\r\n",
                ""
            ],
            "metadata": {
                "azdata_cell_guid": "a2a618d0-4cee-42d2-912d-548d0ffbdd37",
                "language": "sql",
                "tags": [
                    "hide_input"
                ]
            },
            "outputs": [],
            "execution_count": null
        },
        {
            "cell_type": "code",
            "source": [
                "-- This query lists the Pokémon from all generations ordered by their Defense to Attack ratio in descending order.\r\n",
                "\r\n",
                "-- Create a virtual table that combines the Name, Defense, and Attack stats for all Pokémon across generations.\r\n",
                "SELECT Generation, Name, Defense, Attack, CAST(Defense AS FLOAT) / Attack AS DefenseAttackRatio\r\n",
                "FROM (\r\n",
                "    -- Select Name, Defense, and Attack stats from Generation 1 Pokémon.\r\n",
                "    SELECT 'Gen1' AS Generation, Name, Defense, Attack FROM PokemonGen1.dbo.PokemonGen1\r\n",
                "    UNION ALL\r\n",
                "    -- Repeat the selection for Generation 2.\r\n",
                "    SELECT 'Gen2', Name, Defense, Attack FROM PokemonGen2.dbo.PokemonGen2\r\n",
                "    UNION ALL\r\n",
                "    -- Repeat the selection for Generation 3.\r\n",
                "    SELECT 'Gen3', Name, Defense, Attack FROM PokemonGen3.dbo.PokemonGen3\r\n",
                ") AS CombinedStats\r\n",
                "-- Order the results by the Defense to Attack ratio, from highest to lowest.\r\n",
                "ORDER BY DefenseAttackRatio DESC;"
            ],
            "metadata": {
                "azdata_cell_guid": "f97ae2af-bc64-42f6-a01e-1eaafd43f059",
                "language": "sql",
                "tags": [
                    "hide_input"
                ]
            },
            "outputs": [],
            "execution_count": null
        }
    ]
}