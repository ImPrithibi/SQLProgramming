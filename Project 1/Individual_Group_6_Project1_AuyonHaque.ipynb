{
    "metadata": {
        "kernelspec": {
            "name": "SQL",
            "display_name": "SQL",
            "language": "sql"
        },
        "language_info": {
            "name": "sql",
            "version": ""
        }
    },
    "nbformat_minor": 2,
    "nbformat": 4,
    "cells": [
        {
            "cell_type": "markdown",
            "source": [
                "**QUERY 1**\n",
                "\n",
                "**Problem:** list all abilities shared by Pokémon across different generations, including the count of Pokémon per ability and the generations they span\n",
                "\n",
                "**Tables:** \n",
                "\n",
                "PokemonGen1, \n",
                "\n",
                "<span style=\"font-family: -apple-system, BlinkMacSystemFont, sans-serif; color: var(--vscode-foreground);\">PokemonGen2,&nbsp;</span>    \n",
                "\n",
                "<span style=\"font-family: -apple-system, BlinkMacSystemFont, sans-serif; color: var(--vscode-foreground);\">PokemonGen3</span>\n",
                "\n",
                "**Columns:** \n",
                "\n",
                "Ability1, \n",
                "\n",
                "Generation is a derived column, \n",
                "\n",
                "Totalcount derieved column\n",
                "\n",
                "**Predicate:** \n",
                "\n",
                "HAVING COUNT(DISTINCT Generation) \\> 1: This predicate is used to filter abilities that appear in more than one generation. It ensures that only abilities shared across different generations are included in the final output. \n",
                "\n",
                "**Process:**\n",
                "\n",
                "The AbilityCounts CTE combines the Ability1 data and associated generation from the first three Pokémon generation tables, treating them as if they came from a single source. The RankedAbilities CTE then aggregates this combined data to count how many times each ability appears across the generations and identifies in which generations each ability is found. The final SELECT statement orders the results by the total count of each ability (descending) and alphabetically by ability name."
            ],
            "metadata": {
                "language": "sql",
                "azdata_cell_guid": "5477dbdb-ed8b-4cdc-ae6b-cc2d9ad84135"
            },
            "attachments": {}
        },
        {
            "cell_type": "code",
            "source": [
                "--listing all abilities shared by Pokémon across different generations, including the count of Pokémon per ability and the generations they span\n",
                "\n",
                "\n",
                "USE PokemonGen1;\n",
                "USE PokemonGen2;\n",
                "USE PokemonGen3;\n",
                "\n",
                "WITH AbilityCounts AS (\n",
                "  SELECT Ability1, 'Gen1' AS Generation\n",
                "  FROM PokemonGen1.dbo.PokemonGen1\n",
                "  UNION ALL\n",
                "  SELECT ability1, 'Gen2'\n",
                "  FROM PokemonGen2.dbo.PokemonGen2\n",
                "  UNION ALL\n",
                "  SELECT ability1, 'Gen3'\n",
                "  FROM PokemonGen3.dbo.PokemonGen3\n",
                "),\n",
                "RankedAbilities AS (\n",
                "  SELECT Ability1, COUNT(*) AS TotalCount, STRING_AGG(Generation, ', ') WITHIN GROUP (ORDER BY Generation) AS Generations\n",
                "  FROM AbilityCounts\n",
                "  GROUP BY Ability1\n",
                "  HAVING COUNT(DISTINCT Generation) > 1 -- Abilities that appear in more than one generation\n",
                ")\n",
                "SELECT Ability1, TotalCount, Generations\n",
                "FROM RankedAbilities\n",
                "ORDER BY TotalCount DESC, Ability1;"
            ],
            "metadata": {
                "azdata_cell_guid": "a9ca275c-5437-4c80-b049-c180bac2cc03",
                "language": "sql"
            },
            "outputs": [
                {
                    "output_type": "display_data",
                    "data": {
                        "text/html": "(48 rows affected)"
                    },
                    "metadata": {}
                },
                {
                    "output_type": "display_data",
                    "data": {
                        "text/html": "Total execution time: 00:00:00.031"
                    },
                    "metadata": {}
                },
                {
                    "output_type": "execute_result",
                    "metadata": {},
                    "execution_count": 1,
                    "data": {
                        "application/vnd.dataresource+json": {
                            "schema": {
                                "fields": [
                                    {
                                        "name": "Ability1"
                                    },
                                    {
                                        "name": "TotalCount"
                                    },
                                    {
                                        "name": "Generations"
                                    }
                                ]
                            },
                            "data": [
                                {
                                    "Ability1": "Chlorophyll",
                                    "TotalCount": "19",
                                    "Generations": "Gen1, Gen1, Gen1, Gen1, Gen1, Gen1, Gen1, Gen1, Gen1, Gen2, Gen2, Gen2, Gen2, Gen2, Gen2, Gen3, Gen3, Gen3, Gen3"
                                },
                                {
                                    "Ability1": "Swift Swim",
                                    "TotalCount": "19",
                                    "Generations": "Gen1, Gen1, Gen1, Gen1, Gen1, Gen1, Gen1, Gen1, Gen2, Gen2, Gen3, Gen3, Gen3, Gen3, Gen3, Gen3, Gen3, Gen3, Gen3"
                                },
                                {
                                    "Ability1": "Levitate",
                                    "TotalCount": "16",
                                    "Generations": "Gen1, Gen1, Gen1, Gen1, Gen2, Gen2, Gen3, Gen3, Gen3, Gen3, Gen3, Gen3, Gen3, Gen3, Gen3, Gen3"
                                },
                                {
                                    "Ability1": "Intimidate",
                                    "TotalCount": "13",
                                    "Generations": "Gen1, Gen1, Gen1, Gen1, Gen1, Gen1, Gen2, Gen2, Gen2, Gen2, Gen3, Gen3, Gen3"
                                },
                                {
                                    "Ability1": "Thick Fat",
                                    "TotalCount": "13",
                                    "Generations": "Gen1, Gen1, Gen2, Gen2, Gen2, Gen3, Gen3, Gen3, Gen3, Gen3, Gen3, Gen3, Gen3"
                                },
                                {
                                    "Ability1": "Pressure",
                                    "TotalCount": "12",
                                    "Generations": "Gen1, Gen1, Gen1, Gen1, Gen2, Gen2, Gen2, Gen2, Gen2, Gen3, Gen3, Gen3"
                                },
                                {
                                    "Ability1": "Keen Eye",
                                    "TotalCount": "11",
                                    "Generations": "Gen1, Gen1, Gen1, Gen1, Gen1, Gen1, Gen1, Gen2, Gen3, Gen3, Gen3"
                                },
                                {
                                    "Ability1": "Oblivious",
                                    "TotalCount": "11",
                                    "Generations": "Gen1, Gen1, Gen1, Gen2, Gen2, Gen2, Gen2, Gen3, Gen3, Gen3, Gen3"
                                },
                                {
                                    "Ability1": "Run Away",
                                    "TotalCount": "11",
                                    "Generations": "Gen1, Gen1, Gen1, Gen1, Gen1, Gen1, Gen1, Gen2, Gen2, Gen2, Gen3"
                                },
                                {
                                    "Ability1": "Synchronize",
                                    "TotalCount": "11",
                                    "Generations": "Gen1, Gen1, Gen1, Gen1, Gen2, Gen2, Gen2, Gen2, Gen3, Gen3, Gen3"
                                },
                                {
                                    "Ability1": "Rock Head",
                                    "TotalCount": "10",
                                    "Generations": "Gen1, Gen1, Gen1, Gen1, Gen1, Gen1, Gen1, Gen2, Gen3, Gen3"
                                },
                                {
                                    "Ability1": "Static",
                                    "TotalCount": "10",
                                    "Generations": "Gen1, Gen1, Gen1, Gen2, Gen2, Gen2, Gen2, Gen2, Gen3, Gen3"
                                },
                                {
                                    "Ability1": "Blaze",
                                    "TotalCount": "9",
                                    "Generations": "Gen1, Gen1, Gen1, Gen2, Gen2, Gen2, Gen3, Gen3, Gen3"
                                },
                                {
                                    "Ability1": "Overgrow",
                                    "TotalCount": "9",
                                    "Generations": "Gen1, Gen1, Gen1, Gen2, Gen2, Gen2, Gen3, Gen3, Gen3"
                                },
                                {
                                    "Ability1": "Sturdy",
                                    "TotalCount": "9",
                                    "Generations": "Gen2, Gen2, Gen2, Gen2, Gen2, Gen3, Gen3, Gen3, Gen3"
                                },
                                {
                                    "Ability1": "Swarm",
                                    "TotalCount": "9",
                                    "Generations": "Gen1, Gen1, Gen2, Gen2, Gen2, Gen2, Gen2, Gen2, Gen3"
                                },
                                {
                                    "Ability1": "Torrent",
                                    "TotalCount": "9",
                                    "Generations": "Gen1, Gen1, Gen1, Gen2, Gen2, Gen2, Gen3, Gen3, Gen3"
                                },
                                {
                                    "Ability1": "Clear Body",
                                    "TotalCount": "8",
                                    "Generations": "Gen1, Gen1, Gen3, Gen3, Gen3, Gen3, Gen3, Gen3"
                                },
                                {
                                    "Ability1": "Cute Charm",
                                    "TotalCount": "8",
                                    "Generations": "Gen1, Gen1, Gen1, Gen1, Gen2, Gen2, Gen3, Gen3"
                                },
                                {
                                    "Ability1": "Guts",
                                    "TotalCount": "8",
                                    "Generations": "Gen1, Gen1, Gen1, Gen2, Gen2, Gen2, Gen3, Gen3"
                                },
                                {
                                    "Ability1": "Hyper Cutter",
                                    "TotalCount": "8",
                                    "Generations": "Gen1, Gen1, Gen1, Gen2, Gen3, Gen3, Gen3, Gen3"
                                },
                                {
                                    "Ability1": "Inner Focus",
                                    "TotalCount": "8",
                                    "Generations": "Gen1, Gen1, Gen1, Gen2, Gen2, Gen2, Gen3, Gen3"
                                },
                                {
                                    "Ability1": "Shed Skin",
                                    "TotalCount": "8",
                                    "Generations": "Gen1, Gen1, Gen1, Gen1, Gen2, Gen3, Gen3, Gen3"
                                },
                                {
                                    "Ability1": "Insomnia",
                                    "TotalCount": "7",
                                    "Generations": "Gen1, Gen1, Gen2, Gen2, Gen2, Gen3, Gen3"
                                },
                                {
                                    "Ability1": "Poison Point",
                                    "TotalCount": "7",
                                    "Generations": "Gen1, Gen1, Gen1, Gen1, Gen1, Gen1, Gen2"
                                },
                                {
                                    "Ability1": "Natural Cure",
                                    "TotalCount": "6",
                                    "Generations": "Gen1, Gen2, Gen2, Gen3, Gen3, Gen3"
                                },
                                {
                                    "Ability1": "Sand Veil",
                                    "TotalCount": "6",
                                    "Generations": "Gen1, Gen1, Gen1, Gen1, Gen3, Gen3"
                                },
                                {
                                    "Ability1": "Soundproof",
                                    "TotalCount": "6",
                                    "Generations": "Gen1, Gen1, Gen1, Gen3, Gen3, Gen3"
                                },
                                {
                                    "Ability1": "Water Absorb",
                                    "TotalCount": "6",
                                    "Generations": "Gen1, Gen1, Gen1, Gen1, Gen1, Gen2"
                                },
                                {
                                    "Ability1": "Pickup",
                                    "TotalCount": "5",
                                    "Generations": "Gen1, Gen2, Gen2, Gen3, Gen3"
                                },
                                {
                                    "Ability1": "Shield Dust",
                                    "TotalCount": "5",
                                    "Generations": "Gen1, Gen1, Gen1, Gen3, Gen3"
                                },
                                {
                                    "Ability1": "Damp",
                                    "TotalCount": "4",
                                    "Generations": "Gen1, Gen1, Gen2, Gen2"
                                },
                                {
                                    "Ability1": "Effect Spore",
                                    "TotalCount": "4",
                                    "Generations": "Gen1, Gen1, Gen3, Gen3"
                                },
                                {
                                    "Ability1": "Vital Spirit",
                                    "TotalCount": "4",
                                    "Generations": "Gen1, Gen1, Gen2, Gen3"
                                },
                                {
                                    "Ability1": "Compoundeyes",
                                    "TotalCount": "3",
                                    "Generations": "Gen1, Gen1, Gen3"
                                },
                                {
                                    "Ability1": "Early Bird",
                                    "TotalCount": "3",
                                    "Generations": "Gen1, Gen2, Gen2"
                                },
                                {
                                    "Ability1": "Illuminate",
                                    "TotalCount": "3",
                                    "Generations": "Gen1, Gen1, Gen3"
                                },
                                {
                                    "Ability1": "Magma Armor",
                                    "TotalCount": "3",
                                    "Generations": "Gen2, Gen2, Gen3"
                                },
                                {
                                    "Ability1": "Own Tempo",
                                    "TotalCount": "3",
                                    "Generations": "Gen1, Gen2, Gen3"
                                },
                                {
                                    "Ability1": "Shell Armor",
                                    "TotalCount": "3",
                                    "Generations": "Gen1, Gen1, Gen3"
                                },
                                {
                                    "Ability1": "Suction Cups",
                                    "TotalCount": "3",
                                    "Generations": "Gen2, Gen3, Gen3"
                                },
                                {
                                    "Ability1": "Volt Absorb",
                                    "TotalCount": "3",
                                    "Generations": "Gen1, Gen2, Gen2"
                                },
                                {
                                    "Ability1": "Flame Body",
                                    "TotalCount": "2",
                                    "Generations": "Gen1, Gen2"
                                },
                                {
                                    "Ability1": "Immunity",
                                    "TotalCount": "2",
                                    "Generations": "Gen1, Gen3"
                                },
                                {
                                    "Ability1": "Serene Grace",
                                    "TotalCount": "2",
                                    "Generations": "Gen2, Gen3"
                                },
                                {
                                    "Ability1": "Shadow Tag",
                                    "TotalCount": "2",
                                    "Generations": "Gen2, Gen3"
                                },
                                {
                                    "Ability1": "Speed Boost",
                                    "TotalCount": "2",
                                    "Generations": "Gen2, Gen3"
                                },
                                {
                                    "Ability1": "Trace",
                                    "TotalCount": "2",
                                    "Generations": "Gen1, Gen2"
                                }
                            ]
                        },
                        "text/html": [
                            "<table>",
                            "<tr><th>Ability1</th><th>TotalCount</th><th>Generations</th></tr>",
                            "<tr><td>Chlorophyll</td><td>19</td><td>Gen1, Gen1, Gen1, Gen1, Gen1, Gen1, Gen1, Gen1, Gen1, Gen2, Gen2, Gen2, Gen2, Gen2, Gen2, Gen3, Gen3, Gen3, Gen3</td></tr>",
                            "<tr><td>Swift Swim</td><td>19</td><td>Gen1, Gen1, Gen1, Gen1, Gen1, Gen1, Gen1, Gen1, Gen2, Gen2, Gen3, Gen3, Gen3, Gen3, Gen3, Gen3, Gen3, Gen3, Gen3</td></tr>",
                            "<tr><td>Levitate</td><td>16</td><td>Gen1, Gen1, Gen1, Gen1, Gen2, Gen2, Gen3, Gen3, Gen3, Gen3, Gen3, Gen3, Gen3, Gen3, Gen3, Gen3</td></tr>",
                            "<tr><td>Intimidate</td><td>13</td><td>Gen1, Gen1, Gen1, Gen1, Gen1, Gen1, Gen2, Gen2, Gen2, Gen2, Gen3, Gen3, Gen3</td></tr>",
                            "<tr><td>Thick Fat</td><td>13</td><td>Gen1, Gen1, Gen2, Gen2, Gen2, Gen3, Gen3, Gen3, Gen3, Gen3, Gen3, Gen3, Gen3</td></tr>",
                            "<tr><td>Pressure</td><td>12</td><td>Gen1, Gen1, Gen1, Gen1, Gen2, Gen2, Gen2, Gen2, Gen2, Gen3, Gen3, Gen3</td></tr>",
                            "<tr><td>Keen Eye</td><td>11</td><td>Gen1, Gen1, Gen1, Gen1, Gen1, Gen1, Gen1, Gen2, Gen3, Gen3, Gen3</td></tr>",
                            "<tr><td>Oblivious</td><td>11</td><td>Gen1, Gen1, Gen1, Gen2, Gen2, Gen2, Gen2, Gen3, Gen3, Gen3, Gen3</td></tr>",
                            "<tr><td>Run Away</td><td>11</td><td>Gen1, Gen1, Gen1, Gen1, Gen1, Gen1, Gen1, Gen2, Gen2, Gen2, Gen3</td></tr>",
                            "<tr><td>Synchronize</td><td>11</td><td>Gen1, Gen1, Gen1, Gen1, Gen2, Gen2, Gen2, Gen2, Gen3, Gen3, Gen3</td></tr>",
                            "<tr><td>Rock Head</td><td>10</td><td>Gen1, Gen1, Gen1, Gen1, Gen1, Gen1, Gen1, Gen2, Gen3, Gen3</td></tr>",
                            "<tr><td>Static</td><td>10</td><td>Gen1, Gen1, Gen1, Gen2, Gen2, Gen2, Gen2, Gen2, Gen3, Gen3</td></tr>",
                            "<tr><td>Blaze</td><td>9</td><td>Gen1, Gen1, Gen1, Gen2, Gen2, Gen2, Gen3, Gen3, Gen3</td></tr>",
                            "<tr><td>Overgrow</td><td>9</td><td>Gen1, Gen1, Gen1, Gen2, Gen2, Gen2, Gen3, Gen3, Gen3</td></tr>",
                            "<tr><td>Sturdy</td><td>9</td><td>Gen2, Gen2, Gen2, Gen2, Gen2, Gen3, Gen3, Gen3, Gen3</td></tr>",
                            "<tr><td>Swarm</td><td>9</td><td>Gen1, Gen1, Gen2, Gen2, Gen2, Gen2, Gen2, Gen2, Gen3</td></tr>",
                            "<tr><td>Torrent</td><td>9</td><td>Gen1, Gen1, Gen1, Gen2, Gen2, Gen2, Gen3, Gen3, Gen3</td></tr>",
                            "<tr><td>Clear Body</td><td>8</td><td>Gen1, Gen1, Gen3, Gen3, Gen3, Gen3, Gen3, Gen3</td></tr>",
                            "<tr><td>Cute Charm</td><td>8</td><td>Gen1, Gen1, Gen1, Gen1, Gen2, Gen2, Gen3, Gen3</td></tr>",
                            "<tr><td>Guts</td><td>8</td><td>Gen1, Gen1, Gen1, Gen2, Gen2, Gen2, Gen3, Gen3</td></tr>",
                            "<tr><td>Hyper Cutter</td><td>8</td><td>Gen1, Gen1, Gen1, Gen2, Gen3, Gen3, Gen3, Gen3</td></tr>",
                            "<tr><td>Inner Focus</td><td>8</td><td>Gen1, Gen1, Gen1, Gen2, Gen2, Gen2, Gen3, Gen3</td></tr>",
                            "<tr><td>Shed Skin</td><td>8</td><td>Gen1, Gen1, Gen1, Gen1, Gen2, Gen3, Gen3, Gen3</td></tr>",
                            "<tr><td>Insomnia</td><td>7</td><td>Gen1, Gen1, Gen2, Gen2, Gen2, Gen3, Gen3</td></tr>",
                            "<tr><td>Poison Point</td><td>7</td><td>Gen1, Gen1, Gen1, Gen1, Gen1, Gen1, Gen2</td></tr>",
                            "<tr><td>Natural Cure</td><td>6</td><td>Gen1, Gen2, Gen2, Gen3, Gen3, Gen3</td></tr>",
                            "<tr><td>Sand Veil</td><td>6</td><td>Gen1, Gen1, Gen1, Gen1, Gen3, Gen3</td></tr>",
                            "<tr><td>Soundproof</td><td>6</td><td>Gen1, Gen1, Gen1, Gen3, Gen3, Gen3</td></tr>",
                            "<tr><td>Water Absorb</td><td>6</td><td>Gen1, Gen1, Gen1, Gen1, Gen1, Gen2</td></tr>",
                            "<tr><td>Pickup</td><td>5</td><td>Gen1, Gen2, Gen2, Gen3, Gen3</td></tr>",
                            "<tr><td>Shield Dust</td><td>5</td><td>Gen1, Gen1, Gen1, Gen3, Gen3</td></tr>",
                            "<tr><td>Damp</td><td>4</td><td>Gen1, Gen1, Gen2, Gen2</td></tr>",
                            "<tr><td>Effect Spore</td><td>4</td><td>Gen1, Gen1, Gen3, Gen3</td></tr>",
                            "<tr><td>Vital Spirit</td><td>4</td><td>Gen1, Gen1, Gen2, Gen3</td></tr>",
                            "<tr><td>Compoundeyes</td><td>3</td><td>Gen1, Gen1, Gen3</td></tr>",
                            "<tr><td>Early Bird</td><td>3</td><td>Gen1, Gen2, Gen2</td></tr>",
                            "<tr><td>Illuminate</td><td>3</td><td>Gen1, Gen1, Gen3</td></tr>",
                            "<tr><td>Magma Armor</td><td>3</td><td>Gen2, Gen2, Gen3</td></tr>",
                            "<tr><td>Own Tempo</td><td>3</td><td>Gen1, Gen2, Gen3</td></tr>",
                            "<tr><td>Shell Armor</td><td>3</td><td>Gen1, Gen1, Gen3</td></tr>",
                            "<tr><td>Suction Cups</td><td>3</td><td>Gen2, Gen3, Gen3</td></tr>",
                            "<tr><td>Volt Absorb</td><td>3</td><td>Gen1, Gen2, Gen2</td></tr>",
                            "<tr><td>Flame Body</td><td>2</td><td>Gen1, Gen2</td></tr>",
                            "<tr><td>Immunity</td><td>2</td><td>Gen1, Gen3</td></tr>",
                            "<tr><td>Serene Grace</td><td>2</td><td>Gen2, Gen3</td></tr>",
                            "<tr><td>Shadow Tag</td><td>2</td><td>Gen2, Gen3</td></tr>",
                            "<tr><td>Speed Boost</td><td>2</td><td>Gen2, Gen3</td></tr>",
                            "<tr><td>Trace</td><td>2</td><td>Gen1, Gen2</td></tr>",
                            "</table>"
                        ]
                    }
                }
            ],
            "execution_count": 1
        },
        {
            "cell_type": "markdown",
            "source": [
                "**QUERY 2**\n",
                "\n",
                "**Problem:** <span style=\"font-family: -apple-system, BlinkMacSystemFont, sans-serif; color: var(--vscode-foreground);\">&nbsp;Find Pokémon that have moves unique to their generation, excluding moves learned by Pokémon in other generations</span>  \n",
                "\n",
                "**Tables:** \n",
                "\n",
                "PokemonGen1, \n",
                "\n",
                "<span style=\"font-family: -apple-system, BlinkMacSystemFont, sans-serif; color: var(--vscode-foreground);\">PokemonGen2,&nbsp;</span>        \n",
                "\n",
                "<span style=\"font-family: -apple-system, BlinkMacSystemFont, sans-serif; color: var(--vscode-foreground);\">PokemonGen3</span>\n",
                "\n",
                "**Columns:** \n",
                "\n",
                "Ability1, \n",
                "\n",
                "Generation is a derived column, \n",
                "\n",
                "Count is a derived column\n",
                "\n",
                "**Predicate:**\n",
                "\n",
                "HAVING COUNT(\\*) = 1: This condition is used in the UniqueAbilities CTE to ensure that only abilities that occur exactly once across all the generations are selected for the final output. \n",
                "\n",
                "**Process:**\n",
                "\n",
                "The Abilities CTE uses the UNPIVOT operator for each generation's table to transform the Ability1, Ability2, and Ability3 columns into rows, effectively treating each ability as a separate record while associating it with its generation. The query then combines these records using UNION ALL, allowing for the aggregation of abilities across all generations. The UniqueAbilities CTE aggregates this data by ability and filters to keep only those abilities that appear exactly once (HAVING COUNT(\\*) = 1). It also compiles which generations these unique abilities belong to, though due to the count condition, each ability will be associated with a single generation. The final SELECT statement orders the unique abilities alphabetically by ability name and lists their corresponding generations."
            ],
            "metadata": {
                "language": "sql",
                "azdata_cell_guid": "afb20a11-759c-4ddd-a75b-5b3c7f69a6c8"
            },
            "attachments": {}
        },
        {
            "cell_type": "code",
            "source": [
                "--Find Pokémon that have moves unique to their generation, excluding moves learned by Pokémon in other generations\n",
                "USE PokemonGen1;\n",
                "USE PokemonGen2;\n",
                "USE PokemonGen3;\n",
                "\n",
                "WITH Abilities AS (\n",
                "  SELECT Ability AS Ability, 'Gen1' AS Generation FROM PokemonGen1.dbo.PokemonGen1\n",
                "  UNPIVOT\n",
                "  (Ability FOR AbilityNumber IN (Ability1, Ability2, Ability3)) AS unpvt\n",
                "  UNION ALL\n",
                "  SELECT Ability, 'Gen2' FROM PokemonGen2.dbo.PokemonGen2\n",
                "  UNPIVOT\n",
                "  (Ability FOR AbilityNumber IN (Ability1, Ability2, Ability3)) AS unpvt\n",
                "  UNION ALL\n",
                "  SELECT Ability, 'Gen3' FROM PokemonGen3.dbo.PokemonGen3\n",
                "  UNPIVOT\n",
                "  (Ability FOR AbilityNumber IN (Ability1, Ability2, Ability3)) AS unpvt\n",
                "),\n",
                "UniqueAbilities AS (\n",
                "  SELECT Ability, COUNT(*) AS Count, STRING_AGG(Generation, ', ') WITHIN GROUP (ORDER BY Generation) AS Generations\n",
                "  FROM Abilities\n",
                "  GROUP BY Ability\n",
                "  HAVING COUNT(*) = 1\n",
                ")\n",
                "SELECT Ability, Generations\n",
                "FROM UniqueAbilities\n",
                "ORDER BY Ability;"
            ],
            "metadata": {
                "language": "sql",
                "azdata_cell_guid": "913a49dc-4a95-4cac-9214-99bc53ef82a7"
            },
            "outputs": [
                {
                    "output_type": "display_data",
                    "data": {
                        "text/html": "(16 rows affected)"
                    },
                    "metadata": {}
                },
                {
                    "output_type": "display_data",
                    "data": {
                        "text/html": "Total execution time: 00:00:00.153"
                    },
                    "metadata": {}
                },
                {
                    "output_type": "execute_result",
                    "metadata": {},
                    "execution_count": 2,
                    "data": {
                        "application/vnd.dataresource+json": {
                            "schema": {
                                "fields": [
                                    {
                                        "name": "Ability"
                                    },
                                    {
                                        "name": "Generations"
                                    }
                                ]
                            },
                            "data": [
                                {
                                    "Ability": "Air Lock",
                                    "Generations": "Gen3"
                                },
                                {
                                    "Ability": "Color Change",
                                    "Generations": "Gen3"
                                },
                                {
                                    "Ability": "Filter",
                                    "Generations": "Gen1"
                                },
                                {
                                    "Ability": "Forecast",
                                    "Generations": "Gen3"
                                },
                                {
                                    "Ability": "Honey Gather",
                                    "Generations": "Gen2"
                                },
                                {
                                    "Ability": "Imposter",
                                    "Generations": "Gen1"
                                },
                                {
                                    "Ability": "Mold Breaker",
                                    "Generations": "Gen1"
                                },
                                {
                                    "Ability": "Protean",
                                    "Generations": "Gen3"
                                },
                                {
                                    "Ability": "Sand Stream",
                                    "Generations": "Gen2"
                                },
                                {
                                    "Ability": "Simple",
                                    "Generations": "Gen3"
                                },
                                {
                                    "Ability": "Solid Rock",
                                    "Generations": "Gen3"
                                },
                                {
                                    "Ability": "Stall",
                                    "Generations": "Gen3"
                                },
                                {
                                    "Ability": "Toxic Boost",
                                    "Generations": "Gen3"
                                },
                                {
                                    "Ability": "White Smoke",
                                    "Generations": "Gen3"
                                },
                                {
                                    "Ability": "Wind Rider",
                                    "Generations": "Gen3"
                                },
                                {
                                    "Ability": "Wonder Guard",
                                    "Generations": "Gen3"
                                }
                            ]
                        },
                        "text/html": [
                            "<table>",
                            "<tr><th>Ability</th><th>Generations</th></tr>",
                            "<tr><td>Air Lock</td><td>Gen3</td></tr>",
                            "<tr><td>Color Change</td><td>Gen3</td></tr>",
                            "<tr><td>Filter</td><td>Gen1</td></tr>",
                            "<tr><td>Forecast</td><td>Gen3</td></tr>",
                            "<tr><td>Honey Gather</td><td>Gen2</td></tr>",
                            "<tr><td>Imposter</td><td>Gen1</td></tr>",
                            "<tr><td>Mold Breaker</td><td>Gen1</td></tr>",
                            "<tr><td>Protean</td><td>Gen3</td></tr>",
                            "<tr><td>Sand Stream</td><td>Gen2</td></tr>",
                            "<tr><td>Simple</td><td>Gen3</td></tr>",
                            "<tr><td>Solid Rock</td><td>Gen3</td></tr>",
                            "<tr><td>Stall</td><td>Gen3</td></tr>",
                            "<tr><td>Toxic Boost</td><td>Gen3</td></tr>",
                            "<tr><td>White Smoke</td><td>Gen3</td></tr>",
                            "<tr><td>Wind Rider</td><td>Gen3</td></tr>",
                            "<tr><td>Wonder Guard</td><td>Gen3</td></tr>",
                            "</table>"
                        ]
                    }
                }
            ],
            "execution_count": 2
        },
        {
            "cell_type": "markdown",
            "source": [
                "**QUERY 3**\n",
                "\n",
                "**Problem:** How many Pokémon are there for each type? Provide a list sorted by the most common type first\n",
                "\n",
                "**Tables:** \n",
                "\n",
                "PokemonGen1, \n",
                "\n",
                "<span style=\"font-family: -apple-system, BlinkMacSystemFont, sans-serif; color: var(--vscode-foreground);\">PokemonGen2,&nbsp;</span>                \n",
                "\n",
                "<span style=\"font-family: -apple-system, BlinkMacSystemFont, sans-serif; color: var(--vscode-foreground);\">PokemonGen3</span>\n",
                "\n",
                "**Columns:** \n",
                "\n",
                "Type1 \n",
                "\n",
                "Type2\n",
                "\n",
                "**Predicate:**\n",
                "\n",
                "WHERE Type2 IS NOT NULL \n",
                "\n",
                "**Process:** \n",
                "\n",
                "This SQL code aggregates Pokémon types across three generations (Gen 1, Gen 2, and Gen 3), including both primary (Type1) and secondary types (Type2). It counts how many times each type appears, taking into account both primary and secondary types, excludes null values for secondary types to ensure accurate counting, and then orders the results by the count in descending order to highlight the most common types."
            ],
            "metadata": {
                "language": "sql",
                "azdata_cell_guid": "bb4c7789-e36a-4f49-bb76-6d5771991862"
            },
            "attachments": {}
        },
        {
            "cell_type": "code",
            "source": [
                "--How many Pokémon are there for each type? Provide a list sorted by the most common type first\n",
                "\n",
                "USE PokemonGen1;\n",
                "USE PokemonGen2;\n",
                "USE PokemonGen3;\n",
                "\n",
                "SELECT Type, COUNT(*) AS Count\n",
                "FROM (\n",
                "    SELECT Type1 AS Type FROM PokemonGen1.dbo.PokemonGen1\n",
                "    UNION ALL\n",
                "    SELECT Type2 FROM PokemonGen1.dbo.PokemonGen1 WHERE Type2 IS NOT NULL\n",
                "    UNION ALL\n",
                "    SELECT Type1 FROM PokemonGen2.dbo.PokemonGen2\n",
                "    UNION ALL\n",
                "    SELECT Type2 FROM PokemonGen2.dbo.PokemonGen2 WHERE Type2 IS NOT NULL\n",
                "    UNION ALL\n",
                "    SELECT Type1 FROM PokemonGen3.dbo.PokemonGen3\n",
                "    UNION ALL\n",
                "    SELECT Type2 FROM PokemonGen3.dbo.PokemonGen3 WHERE Type2 IS NOT NULL\n",
                ") AS CombinedTypes\n",
                "GROUP BY Type\n",
                "ORDER BY Count DESC;"
            ],
            "metadata": {
                "language": "sql",
                "azdata_cell_guid": "11df2722-2923-4024-95e9-662f6f7b5275"
            },
            "outputs": [
                {
                    "output_type": "display_data",
                    "data": {
                        "text/html": "(20 rows affected)"
                    },
                    "metadata": {}
                },
                {
                    "output_type": "display_data",
                    "data": {
                        "text/html": "Total execution time: 00:00:00.073"
                    },
                    "metadata": {}
                },
                {
                    "output_type": "execute_result",
                    "metadata": {},
                    "execution_count": 4,
                    "data": {
                        "application/vnd.dataresource+json": {
                            "schema": {
                                "fields": [
                                    {
                                        "name": "Type"
                                    },
                                    {
                                        "name": "Count"
                                    }
                                ]
                            },
                            "data": [
                                {
                                    "Type": "Water",
                                    "Count": "78"
                                },
                                {
                                    "Type": "Normal",
                                    "Count": "55"
                                },
                                {
                                    "Type": "Flying",
                                    "Count": "50"
                                },
                                {
                                    "Type": "Psychic",
                                    "Count": "44"
                                },
                                {
                                    "Type": "Poison",
                                    "Count": "41"
                                },
                                {
                                    "Type": "Grass",
                                    "Count": "41"
                                },
                                {
                                    "Type": "Bug",
                                    "Count": "36"
                                },
                                {
                                    "Type": "Ground",
                                    "Count": "35"
                                },
                                {
                                    "Type": "Rock",
                                    "Count": "30"
                                },
                                {
                                    "Type": "Fire",
                                    "Count": "28"
                                },
                                {
                                    "Type": "Electric",
                                    "Count": "21"
                                },
                                {
                                    "Type": "Fairy",
                                    "Count": "18"
                                },
                                {
                                    "Type": "Dark",
                                    "Count": "16"
                                },
                                {
                                    "Type": "Ice",
                                    "Count": "16"
                                },
                                {
                                    "Type": "Steel",
                                    "Count": "15"
                                },
                                {
                                    "Type": "Fighting",
                                    "Count": "14"
                                },
                                {
                                    "Type": "Dragon",
                                    "Count": "13"
                                },
                                {
                                    "Type": "Ghost",
                                    "Count": "10"
                                },
                                {
                                    "Type": "Fight",
                                    "Count": "2"
                                },
                                {
                                    "Type": "Poison Point",
                                    "Count": "1"
                                }
                            ]
                        },
                        "text/html": [
                            "<table>",
                            "<tr><th>Type</th><th>Count</th></tr>",
                            "<tr><td>Water</td><td>78</td></tr>",
                            "<tr><td>Normal</td><td>55</td></tr>",
                            "<tr><td>Flying</td><td>50</td></tr>",
                            "<tr><td>Psychic</td><td>44</td></tr>",
                            "<tr><td>Poison</td><td>41</td></tr>",
                            "<tr><td>Grass</td><td>41</td></tr>",
                            "<tr><td>Bug</td><td>36</td></tr>",
                            "<tr><td>Ground</td><td>35</td></tr>",
                            "<tr><td>Rock</td><td>30</td></tr>",
                            "<tr><td>Fire</td><td>28</td></tr>",
                            "<tr><td>Electric</td><td>21</td></tr>",
                            "<tr><td>Fairy</td><td>18</td></tr>",
                            "<tr><td>Dark</td><td>16</td></tr>",
                            "<tr><td>Ice</td><td>16</td></tr>",
                            "<tr><td>Steel</td><td>15</td></tr>",
                            "<tr><td>Fighting</td><td>14</td></tr>",
                            "<tr><td>Dragon</td><td>13</td></tr>",
                            "<tr><td>Ghost</td><td>10</td></tr>",
                            "<tr><td>Fight</td><td>2</td></tr>",
                            "<tr><td>Poison Point</td><td>1</td></tr>",
                            "</table>"
                        ]
                    }
                }
            ],
            "execution_count": 4
        },
        {
            "cell_type": "markdown",
            "source": [
                "**QUERY 4**\n",
                "\n",
                "**Problem:** <span style=\"font-family: -apple-system, BlinkMacSystemFont, sans-serif; color: var(--vscode-foreground);\">&nbsp;identify the Pokémon with the highest 'Speed' in each generation</span>  \n",
                "\n",
                "**Tables:** \n",
                "\n",
                "PokemonGen1, \n",
                "\n",
                "<span style=\"font-family: -apple-system, BlinkMacSystemFont, sans-serif; color: var(--vscode-foreground);\">PokemonGen2,&nbsp;</span>                \n",
                "\n",
                "<span style=\"font-family: -apple-system, BlinkMacSystemFont, sans-serif; color: var(--vscode-foreground);\">PokemonGen3</span>\n",
                "\n",
                "**Columns:** \n",
                "\n",
                "Name\n",
                "\n",
                "Speed\n",
                "\n",
                "**Predicate:**\n",
                "\n",
                "WHERE Speed = (SELECT MAX(Speed) FROM PokemonGen1.dbo.PokemonGen1) \n",
                "\n",
                "WHERE Speed = (SELECT MAX(Speed) FROM PokemonGen2.dbo.PokemonGen2) \n",
                "\n",
                "WHERE Speed = (SELECT MAX(Speed) FROM PokemonGen3.dbo.PokemonGen3) \n",
                "\n",
                "**Process:** \n",
                "\n",
                "The predicate is checking for Pokémon whose 'Speed' matches the maximum 'Speed' value found in the corresponding generation's table. The subquery SELECT MAX(Speed) FROM... calculates the maximum 'Speed' value within each table, and the outer query filters for Pokémon with a 'Speed' that equals this maximum value. This ensures that only the Pokémon (or Pokémon, in case of ties) with the highest 'Speed' in each generation are selected."
            ],
            "metadata": {
                "language": "sql",
                "azdata_cell_guid": "c4124941-1f75-4d78-9ea7-6f0b8cb1a430"
            },
            "attachments": {}
        },
        {
            "cell_type": "code",
            "source": [
                "--identify the Pokémon with the highest 'Speed' in each generation\n",
                "USE PokemonGen1;\n",
                "USE PokemonGen2;\n",
                "USE PokemonGen3;\n",
                "\n",
                "-- Generation 1\n",
                "SELECT 'Gen1' AS Generation, Name, Speed AS MaxSpeed\n",
                "FROM PokemonGen1.dbo.PokemonGen1\n",
                "WHERE Speed = (SELECT MAX(Speed) FROM PokemonGen1.dbo.PokemonGen1)\n",
                "\n",
                "UNION ALL\n",
                "\n",
                "-- Generation 2\n",
                "SELECT 'Gen2' AS Generation, Name, Speed AS MaxSpeed\n",
                "FROM PokemonGen2.dbo.PokemonGen2\n",
                "WHERE Speed = (SELECT MAX(Speed) FROM PokemonGen2.dbo.PokemonGen2)\n",
                "\n",
                "UNION ALL\n",
                "\n",
                "-- Generation 3\n",
                "SELECT 'Gen3' AS Generation, Name, Speed AS MaxSpeed\n",
                "FROM PokemonGen3.dbo.PokemonGen3\n",
                "WHERE Speed = (SELECT MAX(Speed) FROM PokemonGen3.dbo.PokemonGen3);\n",
                ""
            ],
            "metadata": {
                "language": "sql",
                "azdata_cell_guid": "92905a32-1c7d-4051-b3c3-5205aa34f4df",
                "tags": []
            },
            "outputs": [
                {
                    "output_type": "display_data",
                    "data": {
                        "text/html": "(3 rows affected)"
                    },
                    "metadata": {}
                },
                {
                    "output_type": "display_data",
                    "data": {
                        "text/html": "Total execution time: 00:00:00.006"
                    },
                    "metadata": {}
                },
                {
                    "output_type": "execute_result",
                    "metadata": {},
                    "execution_count": 5,
                    "data": {
                        "application/vnd.dataresource+json": {
                            "schema": {
                                "fields": [
                                    {
                                        "name": "Generation"
                                    },
                                    {
                                        "name": "Name"
                                    },
                                    {
                                        "name": "MaxSpeed"
                                    }
                                ]
                            },
                            "data": [
                                {
                                    "Generation": "Gen1",
                                    "Name": "Electrode",
                                    "MaxSpeed": "150"
                                },
                                {
                                    "Generation": "Gen2",
                                    "Name": "Crobat",
                                    "MaxSpeed": "130"
                                },
                                {
                                    "Generation": "Gen3",
                                    "Name": "Ninjask",
                                    "MaxSpeed": "160"
                                }
                            ]
                        },
                        "text/html": [
                            "<table>",
                            "<tr><th>Generation</th><th>Name</th><th>MaxSpeed</th></tr>",
                            "<tr><td>Gen1</td><td>Electrode</td><td>150</td></tr>",
                            "<tr><td>Gen2</td><td>Crobat</td><td>130</td></tr>",
                            "<tr><td>Gen3</td><td>Ninjask</td><td>160</td></tr>",
                            "</table>"
                        ]
                    }
                }
            ],
            "execution_count": 5
        },
        {
            "cell_type": "markdown",
            "source": [
                "**QUERY 5**\n",
                "\n",
                "**Problem:**  <span style=\"font-family: -apple-system, BlinkMacSystemFont, sans-serif; color: var(--vscode-foreground);\">&nbsp;ID pokemon with an Attack to Speed ratio greater than 1.0, which means they have a higher attack power relative to their speed.</span>\n",
                "\n",
                "**Tables:** \n",
                "\n",
                "PokemonGen1, \n",
                "\n",
                "<span style=\"font-family: -apple-system, BlinkMacSystemFont, sans-serif; color: var(--vscode-foreground);\">PokemonGen2,&nbsp;</span>                   \n",
                "\n",
                "<span style=\"font-family: -apple-system, BlinkMacSystemFont, sans-serif; color: var(--vscode-foreground);\">PokemonGen3</span>\n",
                "\n",
                "**Columns:** \n",
                "\n",
                "Name\n",
                "\n",
                "Type1\n",
                "\n",
                "Attack\n",
                "\n",
                "Speed\n",
                "\n",
                "Ratio (derived column of attack to speed)\n",
                "\n",
                "**Predicate:**\n",
                "\n",
                "WHERE Attack \\> Speed\n",
                "\n",
                "**Process:** \n",
                "\n",
                "This condition is applied individually to the selections from each of the three tables and ensures that only Pokémon whose Attack stat is greater than their Speed stat are included in the final result. The resulting dataset is then ordered by the calculated ratio in descending order, highlighting Pokémon with a significantly higher Attack compared to their Speed."
            ],
            "metadata": {
                "language": "sql",
                "azdata_cell_guid": "e5959ee5-884e-49bb-b515-1f68ed8cf338"
            },
            "attachments": {}
        },
        {
            "cell_type": "code",
            "source": [
                "-- ID pokemon with an Attack to Speed ratio greater than 1.0, which means they have a higher attack power relative to their speed.\n",
                "\n",
                "USE PokemonGen1;\n",
                "USE PokemonGen2;\n",
                "USE PokemonGen3;\n",
                "\n",
                "SELECT Name, Type1, Attack, Speed, (CAST(Attack AS FLOAT) / Speed) AS Ratio\n",
                "FROM PokemonGen1.dbo.PokemonGen1\n",
                "WHERE Attack > Speed\n",
                "UNION ALL\n",
                "SELECT Name, Type1, Attack, Speed, (CAST(Attack AS FLOAT) / Speed)\n",
                "FROM PokemonGen2.dbo.PokemonGen2\n",
                "WHERE Attack > Speed\n",
                "UNION ALL\n",
                "SELECT Name, Type1, Attack, Speed, (CAST(Attack AS FLOAT) / Speed)\n",
                "FROM PokemonGen3.dbo.PokemonGen3\n",
                "WHERE Attack > Speed\n",
                "ORDER BY Ratio DESC;"
            ],
            "metadata": {
                "language": "sql",
                "azdata_cell_guid": "f9cb8cf6-ce1a-459a-8b40-e1f94cf35a0a",
                "tags": []
            },
            "outputs": [],
            "execution_count": null
        },
        {
            "cell_type": "markdown",
            "source": [
                "**QUERY 6**\n",
                "\n",
                "**Problem:** determine battle readiness of each pokemon, which is a sum of attack, defense, and the higher of special att or special def, plus twice their speed\n",
                "\n",
                "**Tables:** \n",
                "\n",
                "PokemonGen1, \n",
                "\n",
                "<span style=\"font-family: -apple-system, BlinkMacSystemFont, sans-serif; color: var(--vscode-foreground);\">PokemonGen2,&nbsp;</span>                      \n",
                "\n",
                "<span style=\"font-family: -apple-system, BlinkMacSystemFont, sans-serif; color: var(--vscode-foreground);\">PokemonGen3</span>\n",
                "\n",
                "**Columns:** \n",
                "\n",
                "Name\n",
                "\n",
                "Type1\n",
                "\n",
                "Attack\n",
                "\n",
                "Defense\n",
                "\n",
                "SpecialAttack\n",
                "\n",
                "SpecialDefense\n",
                "\n",
                "Speed \n",
                "\n",
                "Gen(derived col) \n",
                "\n",
                "battlescore(derieved col)\n",
                "\n",
                "**Predicate:** \n",
                "\n",
                "calucalating battlescore which is a computed as the sum of Attack, Defense, and the higher value between SpecialAttack and SpecialDefense, plus twice the Speed stat of the Pokémon.\n",
                "\n",
                "Order by BattleScore Desc, sorts the battlescore in descending order\n",
                "\n",
                "**Process:** \n",
                "\n",
                "This SQL code combines Pokémon data from three different generation-specific tables into a single dataset, calculates a \"BattleScore\" for each Pokémon based on their attack, defense, special attack or special defense (whichever is higher), and speed stats, and then orders the resulting combined list by this calculated score in descending order."
            ],
            "metadata": {
                "language": "sql",
                "azdata_cell_guid": "bc7e492f-97d3-4758-8b4d-00c315fa971c"
            },
            "attachments": {}
        },
        {
            "cell_type": "code",
            "source": [
                "-- determine battle readiness of each pokemon, which is a sum of attack, defense, and the higher of special att or special def, plus twice their speed\n",
                "\n",
                "USE PokemonGen1; \n",
                "USE PokemonGen2;\n",
                "USE PokemonGen3; \n",
                "\n",
                "SELECT TOP 10 * FROM (\n",
                "    SELECT\n",
                "        Name,\n",
                "        Type1,\n",
                "        'Gen1' AS Generation,\n",
                "        Attack + Defense + CASE WHEN SpecialAttack > SpecialDefense THEN SpecialAttack ELSE SpecialDefense END + (Speed * 2) AS BattleScore\n",
                "    FROM PokemonGen1.dbo.PokemonGen1\n",
                "    UNION ALL\n",
                "    SELECT\n",
                "        Name,\n",
                "        Type1,\n",
                "        'Gen2',\n",
                "        Attack + Defense + CASE WHEN SpecialAttack > SpecialDefense THEN SpecialAttack ELSE SpecialDefense END + (Speed * 2)\n",
                "    FROM PokemonGen2.dbo.PokemonGen2\n",
                "    UNION ALL\n",
                "    SELECT\n",
                "        Name,\n",
                "        Type1,\n",
                "        'Gen3',\n",
                "        Attack + Defense + CASE WHEN SpecialAttack > SpecialDefense THEN SpecialAttack ELSE SpecialDefense END + (Speed * 2)\n",
                "    FROM PokemonGen3.dbo.PokemonGen3\n",
                ") AS Combined\n",
                "ORDER BY BattleScore DESC;\n",
                ""
            ],
            "metadata": {
                "language": "sql",
                "azdata_cell_guid": "37828bcd-98d5-491a-bfa5-4a8d2ccc9b21"
            },
            "outputs": [
                {
                    "output_type": "display_data",
                    "data": {
                        "text/html": "(10 rows affected)"
                    },
                    "metadata": {}
                },
                {
                    "output_type": "display_data",
                    "data": {
                        "text/html": "Total execution time: 00:00:00.061"
                    },
                    "metadata": {}
                },
                {
                    "output_type": "execute_result",
                    "metadata": {},
                    "execution_count": 6,
                    "data": {
                        "application/vnd.dataresource+json": {
                            "schema": {
                                "fields": [
                                    {
                                        "name": "Name"
                                    },
                                    {
                                        "name": "Type1"
                                    },
                                    {
                                        "name": "Generation"
                                    },
                                    {
                                        "name": "BattleScore"
                                    }
                                ]
                            },
                            "data": [
                                {
                                    "Name": "Deoxys",
                                    "Type1": "Psychic",
                                    "Generation": "Gen3",
                                    "BattleScore": "650"
                                },
                                {
                                    "Name": "Mewtwo",
                                    "Type1": "Psychic",
                                    "Generation": "Gen1",
                                    "BattleScore": "614"
                                },
                                {
                                    "Name": "Lugia",
                                    "Type1": "Psychic",
                                    "Generation": "Gen2",
                                    "BattleScore": "594"
                                },
                                {
                                    "Name": "Rayquaza",
                                    "Type1": "Dragon",
                                    "Generation": "Gen3",
                                    "BattleScore": "580"
                                },
                                {
                                    "Name": "Groudon",
                                    "Type1": "Ground",
                                    "Generation": "Gen3",
                                    "BattleScore": "570"
                                },
                                {
                                    "Name": "Slaking",
                                    "Type1": "Normal",
                                    "Generation": "Gen3",
                                    "BattleScore": "555"
                                },
                                {
                                    "Name": "Ho-Oh",
                                    "Type1": "Fire",
                                    "Generation": "Gen2",
                                    "BattleScore": "554"
                                },
                                {
                                    "Name": "Salamence",
                                    "Type1": "Dragon",
                                    "Generation": "Gen3",
                                    "BattleScore": "525"
                                },
                                {
                                    "Name": "Kyogre",
                                    "Type1": "Water",
                                    "Generation": "Gen3",
                                    "BattleScore": "520"
                                },
                                {
                                    "Name": "Latias",
                                    "Type1": "Dragon",
                                    "Generation": "Gen3",
                                    "BattleScore": "520"
                                }
                            ]
                        },
                        "text/html": [
                            "<table>",
                            "<tr><th>Name</th><th>Type1</th><th>Generation</th><th>BattleScore</th></tr>",
                            "<tr><td>Deoxys</td><td>Psychic</td><td>Gen3</td><td>650</td></tr>",
                            "<tr><td>Mewtwo</td><td>Psychic</td><td>Gen1</td><td>614</td></tr>",
                            "<tr><td>Lugia</td><td>Psychic</td><td>Gen2</td><td>594</td></tr>",
                            "<tr><td>Rayquaza</td><td>Dragon</td><td>Gen3</td><td>580</td></tr>",
                            "<tr><td>Groudon</td><td>Ground</td><td>Gen3</td><td>570</td></tr>",
                            "<tr><td>Slaking</td><td>Normal</td><td>Gen3</td><td>555</td></tr>",
                            "<tr><td>Ho-Oh</td><td>Fire</td><td>Gen2</td><td>554</td></tr>",
                            "<tr><td>Salamence</td><td>Dragon</td><td>Gen3</td><td>525</td></tr>",
                            "<tr><td>Kyogre</td><td>Water</td><td>Gen3</td><td>520</td></tr>",
                            "<tr><td>Latias</td><td>Dragon</td><td>Gen3</td><td>520</td></tr>",
                            "</table>"
                        ]
                    }
                }
            ],
            "execution_count": 6
        },
        {
            "cell_type": "markdown",
            "source": [
                "**QUERY 7**\n",
                "\n",
                "**Problem:**  Which new abilities (Ability1, Ability2, Ability3) were introduced in each generation, and how are they distributed among different Pokémon types?\n",
                "\n",
                "**Tables:** \n",
                "\n",
                "PokemonGen1, \n",
                "\n",
                "<span style=\"font-family: -apple-system, BlinkMacSystemFont, sans-serif; color: var(--vscode-foreground);\">PokemonGen2,&nbsp;</span>                    \n",
                "\n",
                "<span style=\"font-family: -apple-system, BlinkMacSystemFont, sans-serif; color: var(--vscode-foreground);\">PokemonGen3</span>\n",
                "\n",
                "**Columns:** \n",
                "\n",
                "Ability 1\n",
                "\n",
                "Ability2\n",
                "\n",
                "ability3\n",
                "\n",
                "Ability (derieved from 1,2,3)\n",
                "\n",
                "Generation (derieved from each respective gen)\n",
                "\n",
                "Type1 \n",
                "\n",
                "Type2 \n",
                "\n",
                "**Predicate:**\n",
                "\n",
                "The WHERE Ability IS NOT NULL predicate filters out rows where the ability is NULL, ensuring that only entries with a defined ability are considered. \n",
                "\n",
                "The GROUP BY Ability, Generation, Type1, Type2 clause in the AbilityCount common table expression (CTE) groups the data by ability, generation, and Pokémon type, which is necessary for counting the number of occurrences. \n",
                "\n",
                "T<span style=\"font-family: -apple-system, BlinkMacSystemFont, sans-serif; color: var(--vscode-foreground);\">he ORDER BY Ability, Generation, Type1, Type2 clause at the end of the query sorts the final result set based on the ability name, generation, and Pokémon types, in ascending order.</span>\n",
                "\n",
                "**Process:** \n",
                "\n",
                "With AbilityIntro CTE: The query creates a unified view (AbilityIntro) of all abilities across the three generations, tagging each ability with its generation and associated Pokémon types, ensuring only non-null abilities are included. With AbilityCount CTE: It then aggregates this data (AbilityCount), counting the occurrences of each ability within each generation and type combination. Final SELECT: Finally, it selects from AbilityCount to present the ability, its generation, associated types, and the count of occurrences, ordered alphabetically by ability and then by generation and type."
            ],
            "metadata": {
                "language": "sql",
                "azdata_cell_guid": "31503a37-77c2-4388-81ef-64eebd268ca9"
            },
            "attachments": {}
        },
        {
            "cell_type": "code",
            "source": [
                "-- Which new abilities (Ability1, Ability2, Ability3) were introduced in each generation, and how are they distributed among different Pokémon types?\n",
                "USE PokemonGen1;\n",
                "USE PokemonGen2;\n",
                "USE PokemonGen3;\n",
                "\n",
                "WITH AbilityIntro AS (\n",
                "  SELECT Ability, 'Gen1' AS Generation, Type1, Type2\n",
                "  FROM (\n",
                "    SELECT Ability1 AS Ability, Type1, Type2 FROM PokemonGen1.dbo.PokemonGen1\n",
                "    UNION ALL\n",
                "    SELECT Ability2, Type1, Type2 FROM PokemonGen1.dbo.PokemonGen1\n",
                "    UNION ALL\n",
                "    SELECT Ability3, Type1, Type2 FROM PokemonGen1.dbo.PokemonGen1\n",
                "  ) Gen1\n",
                "  WHERE Ability IS NOT NULL\n",
                "  UNION ALL\n",
                "  SELECT Ability, 'Gen2', Type1, Type2\n",
                "  FROM (\n",
                "    SELECT Ability1 AS Ability, Type1, Type2 FROM PokemonGen2.dbo.PokemonGen2\n",
                "    UNION ALL\n",
                "    SELECT Ability2, Type1, Type2 FROM PokemonGen2.dbo.PokemonGen2\n",
                "    UNION ALL\n",
                "    SELECT Ability3, Type1, Type2 FROM PokemonGen2.dbo.PokemonGen2\n",
                "  ) Gen2\n",
                "  WHERE Ability IS NOT NULL\n",
                "  UNION ALL\n",
                "  SELECT Ability, 'Gen3', Type1, Type2\n",
                "  FROM (\n",
                "    SELECT Ability1 AS Ability, Type1, Type2 FROM PokemonGen3.dbo.PokemonGen3\n",
                "    UNION ALL\n",
                "    SELECT Ability2, Type1, Type2 FROM PokemonGen3.dbo.PokemonGen3\n",
                "    UNION ALL\n",
                "    SELECT Ability3, Type1, Type2 FROM PokemonGen3.dbo.PokemonGen3\n",
                "  ) Gen3\n",
                "  WHERE Ability IS NOT NULL\n",
                "),\n",
                "AbilityCount AS (\n",
                "  SELECT Ability, Generation, Type1, Type2, COUNT(*) AS Count\n",
                "  FROM AbilityIntro\n",
                "  GROUP BY Ability, Generation, Type1, Type2\n",
                ")\n",
                "SELECT Ability, Generation, Type1, Type2, Count\n",
                "FROM AbilityCount\n",
                "ORDER BY Ability, Generation, Type1, Type2;\n",
                ""
            ],
            "metadata": {
                "azdata_cell_guid": "b518da76-af1c-4c94-bc46-bb131a2f6dc5",
                "language": "sql"
            },
            "outputs": [
                {
                    "output_type": "display_data",
                    "data": {
                        "text/html": "(605 rows affected)"
                    },
                    "metadata": {}
                },
                {
                    "output_type": "display_data",
                    "data": {
                        "text/html": "Total execution time: 00:00:00.054"
                    },
                    "metadata": {}
                },
                {
                    "output_type": "execute_result",
                    "metadata": {},
                    "execution_count": 7,
                    "data": {
                        "application/vnd.dataresource+json": {
                            "schema": {
                                "fields": [
                                    {
                                        "name": "Ability"
                                    },
                                    {
                                        "name": "Generation"
                                    },
                                    {
                                        "name": "Type1"
                                    },
                                    {
                                        "name": "Type2"
                                    },
                                    {
                                        "name": "Count"
                                    }
                                ]
                            },
                            "data": [
                                {
                                    "Ability": "Adaptability",
                                    "Generation": "Gen1",
                                    "Type1": "Normal",
                                    "Type2": "NULL",
                                    "Count": "1"
                                },
                                {
                                    "Ability": "Adaptability",
                                    "Generation": "Gen3",
                                    "Type1": "Water",
                                    "Type2": "NULL",
                                    "Count": "2"
                                },
                                {
                                    "Ability": "Adaptability",
                                    "Generation": "Gen3",
                                    "Type1": "Water",
                                    "Type2": "Dark",
                                    "Count": "1"
                                },
                                {
                                    "Ability": "Aftermath",
                                    "Generation": "Gen1",
                                    "Type1": "Electric",
                                    "Type2": "NULL",
                                    "Count": "2"
                                },
                                {
                                    "Ability": "Air Lock",
                                    "Generation": "Gen3",
                                    "Type1": "Dragon",
                                    "Type2": "Flying",
                                    "Count": "1"
                                },
                                {
                                    "Ability": "Analytic",
                                    "Generation": "Gen1",
                                    "Type1": "Electric",
                                    "Type2": "Steel",
                                    "Count": "2"
                                },
                                {
                                    "Ability": "Analytic",
                                    "Generation": "Gen1",
                                    "Type1": "Normal",
                                    "Type2": "NULL",
                                    "Count": "1"
                                },
                                {
                                    "Ability": "Analytic",
                                    "Generation": "Gen1",
                                    "Type1": "Water",
                                    "Type2": "NULL",
                                    "Count": "1"
                                },
                                {
                                    "Ability": "Analytic",
                                    "Generation": "Gen1",
                                    "Type1": "Water",
                                    "Type2": "Psychic",
                                    "Count": "1"
                                },
                                {
                                    "Ability": "Analytic",
                                    "Generation": "Gen2",
                                    "Type1": "Normal",
                                    "Type2": "NULL",
                                    "Count": "1"
                                },
                                {
                                    "Ability": "Anger Point",
                                    "Generation": "Gen1",
                                    "Type1": "Fighting",
                                    "Type2": "NULL",
                                    "Count": "2"
                                },
                                {
                                    "Ability": "Anger Point",
                                    "Generation": "Gen1",
                                    "Type1": "Normal",
                                    "Type2": "NULL",
                                    "Count": "1"
                                },
                                {
                                    "Ability": "Anger Point",
                                    "Generation": "Gen3",
                                    "Type1": "Fire",
                                    "Type2": "Ground",
                                    "Count": "1"
                                },
                                {
                                    "Ability": "Anticipation",
                                    "Generation": "Gen1",
                                    "Type1": "Normal",
                                    "Type2": "NULL",
                                    "Count": "1"
                                },
                                {
                                    "Ability": "Anticipation",
                                    "Generation": "Gen3",
                                    "Type1": "Water",
                                    "Type2": "Ground",
                                    "Count": "2"
                                },
                                {
                                    "Ability": "Arena Trap",
                                    "Generation": "Gen1",
                                    "Type1": "Ground",
                                    "Type2": "NULL",
                                    "Count": "2"
                                },
                                {
                                    "Ability": "Arena Trap",
                                    "Generation": "Gen3",
                                    "Type1": "Ground",
                                    "Type2": "NULL",
                                    "Count": "1"
                                },
                                {
                                    "Ability": "Battle Armor",
                                    "Generation": "Gen1",
                                    "Type1": "Ground",
                                    "Type2": "NULL",
                                    "Count": "2"
                                },
                                {
                                    "Ability": "Battle Armor",
                                    "Generation": "Gen1",
                                    "Type1": "Rock",
                                    "Type2": "Water",
                                    "Count": "2"
                                },
                                {
                                    "Ability": "Battle Armor",
                                    "Generation": "Gen3",
                                    "Type1": "Rock",
                                    "Type2": "Bug",
                                    "Count": "2"
                                },
                                {
                                    "Ability": "Big Pecks",
                                    "Generation": "Gen1",
                                    "Type1": "Normal",
                                    "Type2": "Flying",
                                    "Count": "3"
                                },
                                {
                                    "Ability": "Blaze",
                                    "Generation": "Gen1",
                                    "Type1": "Fire",
                                    "Type2": "NULL",
                                    "Count": "2"
                                },
                                {
                                    "Ability": "Blaze",
                                    "Generation": "Gen1",
                                    "Type1": "Fire",
                                    "Type2": "Flying",
                                    "Count": "1"
                                },
                                {
                                    "Ability": "Blaze",
                                    "Generation": "Gen2",
                                    "Type1": "Fire",
                                    "Type2": "NULL",
                                    "Count": "3"
                                },
                                {
                                    "Ability": "Blaze",
                                    "Generation": "Gen3",
                                    "Type1": "Fire",
                                    "Type2": "NULL",
                                    "Count": "3"
                                },
                                {
                                    "Ability": "Chlorophyll",
                                    "Generation": "Gen1",
                                    "Type1": "Grass",
                                    "Type2": "NULL",
                                    "Count": "1"
                                },
                                {
                                    "Ability": "Chlorophyll",
                                    "Generation": "Gen1",
                                    "Type1": "Grass",
                                    "Type2": "Poison",
                                    "Count": "9"
                                },
                                {
                                    "Ability": "Chlorophyll",
                                    "Generation": "Gen1",
                                    "Type1": "Grass",
                                    "Type2": "Psychic",
                                    "Count": "2"
                                },
                                {
                                    "Ability": "Chlorophyll",
                                    "Generation": "Gen2",
                                    "Type1": "Grass",
                                    "Type2": "NULL",
                                    "Count": "3"
                                },
                                {
                                    "Ability": "Chlorophyll",
                                    "Generation": "Gen2",
                                    "Type1": "Grass",
                                    "Type2": "Flying",
                                    "Count": "3"
                                },
                                {
                                    "Ability": "Chlorophyll",
                                    "Generation": "Gen3",
                                    "Type1": "Grass",
                                    "Type2": "NULL",
                                    "Count": "1"
                                },
                                {
                                    "Ability": "Chlorophyll",
                                    "Generation": "Gen3",
                                    "Type1": "Grass",
                                    "Type2": "Dark",
                                    "Count": "2"
                                },
                                {
                                    "Ability": "Chlorophyll",
                                    "Generation": "Gen3",
                                    "Type1": "Grass",
                                    "Type2": "Flying",
                                    "Count": "1"
                                },
                                {
                                    "Ability": "Clear Body",
                                    "Generation": "Gen1",
                                    "Type1": "Water",
                                    "Type2": "Poison",
                                    "Count": "2"
                                },
                                {
                                    "Ability": "Clear Body",
                                    "Generation": "Gen3",
                                    "Type1": "Ice",
                                    "Type2": "NULL",
                                    "Count": "1"
                                },
                                {
                                    "Ability": "Clear Body",
                                    "Generation": "Gen3",
                                    "Type1": "Rock",
                                    "Type2": "NULL",
                                    "Count": "1"
                                },
                                {
                                    "Ability": "Clear Body",
                                    "Generation": "Gen3",
                                    "Type1": "Steel",
                                    "Type2": "NULL",
                                    "Count": "1"
                                },
                                {
                                    "Ability": "Clear Body",
                                    "Generation": "Gen3",
                                    "Type1": "Steel",
                                    "Type2": "Psychic",
                                    "Count": "3"
                                },
                                {
                                    "Ability": "Cloud Nine",
                                    "Generation": "Gen1",
                                    "Type1": "Normal",
                                    "Type2": "NULL",
                                    "Count": "1"
                                },
                                {
                                    "Ability": "Cloud Nine",
                                    "Generation": "Gen1",
                                    "Type1": "Water",
                                    "Type2": "NULL",
                                    "Count": "2"
                                },
                                {
                                    "Ability": "Cloud Nine",
                                    "Generation": "Gen3",
                                    "Type1": "Dragon",
                                    "Type2": "Flying",
                                    "Count": "1"
                                },
                                {
                                    "Ability": "Cloud Nine",
                                    "Generation": "Gen3",
                                    "Type1": "Normal",
                                    "Type2": "Flying",
                                    "Count": "1"
                                },
                                {
                                    "Ability": "Color Change",
                                    "Generation": "Gen3",
                                    "Type1": "Normal",
                                    "Type2": "NULL",
                                    "Count": "1"
                                },
                                {
                                    "Ability": "Competitive",
                                    "Generation": "Gen1",
                                    "Type1": "Normal",
                                    "Type2": "Fairy",
                                    "Count": "2"
                                },
                                {
                                    "Ability": "Competitive",
                                    "Generation": "Gen2",
                                    "Type1": "Normal",
                                    "Type2": "Fairy",
                                    "Count": "1"
                                },
                                {
                                    "Ability": "Competitive",
                                    "Generation": "Gen3",
                                    "Type1": "Water",
                                    "Type2": "NULL",
                                    "Count": "1"
                                },
                                {
                                    "Ability": "Compoundeyes",
                                    "Generation": "Gen1",
                                    "Type1": "Bug",
                                    "Type2": "Flying",
                                    "Count": "1"
                                },
                                {
                                    "Ability": "Compoundeyes",
                                    "Generation": "Gen1",
                                    "Type1": "Bug",
                                    "Type2": "Poison",
                                    "Count": "1"
                                },
                                {
                                    "Ability": "Compoundeyes",
                                    "Generation": "Gen2",
                                    "Type1": "Bug",
                                    "Type2": "Flying",
                                    "Count": "1"
                                },
                                {
                                    "Ability": "Compoundeyes",
                                    "Generation": "Gen3",
                                    "Type1": "Bug",
                                    "Type2": "Ground",
                                    "Count": "1"
                                },
                                {
                                    "Ability": "Compoundeyes",
                                    "Generation": "Gen3",
                                    "Type1": "Bug",
                                    "Type2": "Poison",
                                    "Count": "1"
                                },
                                {
                                    "Ability": "Contrary",
                                    "Generation": "Gen2",
                                    "Type1": "Bug",
                                    "Type2": "Rock",
                                    "Count": "1"
                                },
                                {
                                    "Ability": "Contrary",
                                    "Generation": "Gen3",
                                    "Type1": "Normal",
                                    "Type2": "NULL",
                                    "Count": "1"
                                },
                                {
                                    "Ability": "Cursed Body",
                                    "Generation": "Gen1",
                                    "Type1": "Ghost",
                                    "Type2": "Poison",
                                    "Count": "1"
                                },
                                {
                                    "Ability": "Cursed Body",
                                    "Generation": "Gen3",
                                    "Type1": "Ghost",
                                    "Type2": "NULL",
                                    "Count": "2"
                                },
                                {
                                    "Ability": "Cute Charm",
                                    "Generation": "Gen1",
                                    "Type1": "Fairy",
                                    "Type2": "NULL",
                                    "Count": "2"
                                },
                                {
                                    "Ability": "Cute Charm",
                                    "Generation": "Gen1",
                                    "Type1": "Normal",
                                    "Type2": "Fairy",
                                    "Count": "2"
                                },
                                {
                                    "Ability": "Cute Charm",
                                    "Generation": "Gen2",
                                    "Type1": "Fairy",
                                    "Type2": "NULL",
                                    "Count": "1"
                                },
                                {
                                    "Ability": "Cute Charm",
                                    "Generation": "Gen2",
                                    "Type1": "Normal",
                                    "Type2": "Fairy",
                                    "Count": "1"
                                },
                                {
                                    "Ability": "Cute Charm",
                                    "Generation": "Gen3",
                                    "Type1": "Normal",
                                    "Type2": "NULL",
                                    "Count": "2"
                                },
                                {
                                    "Ability": "Cute Charm",
                                    "Generation": "Gen3",
                                    "Type1": "Water",
                                    "Type2": "NULL",
                                    "Count": "1"
                                },
                                {
                                    "Ability": "Damp",
                                    "Generation": "Gen1",
                                    "Type1": "Bug",
                                    "Type2": "Grass",
                                    "Count": "2"
                                },
                                {
                                    "Ability": "Damp",
                                    "Generation": "Gen1",
                                    "Type1": "Water",
                                    "Type2": "NULL",
                                    "Count": "6"
                                },
                                {
                                    "Ability": "Damp",
                                    "Generation": "Gen1",
                                    "Type1": "Water",
                                    "Type2": "Fighting",
                                    "Count": "1"
                                },
                                {
                                    "Ability": "Damp",
                                    "Generation": "Gen2",
                                    "Type1": "Water",
                                    "Type2": "NULL",
                                    "Count": "1"
                                },
                                {
                                    "Ability": "Damp",
                                    "Generation": "Gen2",
                                    "Type1": "Water",
                                    "Type2": "Dragon",
                                    "Count": "1"
                                },
                                {
                                    "Ability": "Damp",
                                    "Generation": "Gen2",
                                    "Type1": "Water",
                                    "Type2": "Ground",
                                    "Count": "2"
                                },
                                {
                                    "Ability": "Damp",
                                    "Generation": "Gen3",
                                    "Type1": "Water",
                                    "Type2": "NULL",
                                    "Count": "3"
                                },
                                {
                                    "Ability": "Defiant",
                                    "Generation": "Gen1",
                                    "Type1": "Fighting",
                                    "Type2": "NULL",
                                    "Count": "2"
                                },
                                {
                                    "Ability": "Defiant",
                                    "Generation": "Gen1",
                                    "Type1": "Normal",
                                    "Type2": "Flying",
                                    "Count": "1"
                                },
                                {
                                    "Ability": "Download",
                                    "Generation": "Gen1",
                                    "Type1": "Normal",
                                    "Type2": "NULL",
                                    "Count": "1"
                                },
                                {
                                    "Ability": "Download",
                                    "Generation": "Gen2",
                                    "Type1": "Normal",
                                    "Type2": "NULL",
                                    "Count": "1"
                                },
                                {
                                    "Ability": "Drizzle",
                                    "Generation": "Gen2",
                                    "Type1": "Water",
                                    "Type2": "NULL",
                                    "Count": "1"
                                },
                                {
                                    "Ability": "Drizzle",
                                    "Generation": "Gen3",
                                    "Type1": "Water",
                                    "Type2": "NULL",
                                    "Count": "1"
                                },
                                {
                                    "Ability": "Drizzle",
                                    "Generation": "Gen3",
                                    "Type1": "Water",
                                    "Type2": "Flying",
                                    "Count": "1"
                                },
                                {
                                    "Ability": "Drought",
                                    "Generation": "Gen1",
                                    "Type1": "Fire",
                                    "Type2": "NULL",
                                    "Count": "2"
                                },
                                {
                                    "Ability": "Drought",
                                    "Generation": "Gen3",
                                    "Type1": "Fire",
                                    "Type2": "NULL",
                                    "Count": "1"
                                },
                                {
                                    "Ability": "Drought",
                                    "Generation": "Gen3",
                                    "Type1": "Ground",
                                    "Type2": "NULL",
                                    "Count": "1"
                                },
                                {
                                    "Ability": "Dry Skin",
                                    "Generation": "Gen1",
                                    "Type1": "Bug",
                                    "Type2": "Grass",
                                    "Count": "2"
                                },
                                {
                                    "Ability": "Dry Skin",
                                    "Generation": "Gen1",
                                    "Type1": "Ice",
                                    "Type2": "Psychic",
                                    "Count": "1"
                                },
                                {
                                    "Ability": "Early Bird",
                                    "Generation": "Gen1",
                                    "Type1": "Normal",
                                    "Type2": "NULL",
                                    "Count": "1"
                                },
                                {
                                    "Ability": "Early Bird",
                                    "Generation": "Gen1",
                                    "Type1": "Normal",
                                    "Type2": "Flying",
                                    "Count": "2"
                                },
                                {
                                    "Ability": "Early Bird",
                                    "Generation": "Gen2",
                                    "Type1": "Bug",
                                    "Type2": "Flying",
                                    "Count": "2"
                                },
                                {
                                    "Ability": "Early Bird",
                                    "Generation": "Gen2",
                                    "Type1": "Dark",
                                    "Type2": "Fire",
                                    "Count": "2"
                                },
                                {
                                    "Ability": "Early Bird",
                                    "Generation": "Gen2",
                                    "Type1": "Grass",
                                    "Type2": "NULL",
                                    "Count": "2"
                                },
                                {
                                    "Ability": "Early Bird",
                                    "Generation": "Gen2",
                                    "Type1": "Normal",
                                    "Type2": "Psychic",
                                    "Count": "1"
                                },
                                {
                                    "Ability": "Early Bird",
                                    "Generation": "Gen2",
                                    "Type1": "Psychic",
                                    "Type2": "Flying",
                                    "Count": "2"
                                },
                                {
                                    "Ability": "Early Bird",
                                    "Generation": "Gen3",
                                    "Type1": "Grass",
                                    "Type2": "NULL",
                                    "Count": "1"
                                },
                                {
                                    "Ability": "Early Bird",
                                    "Generation": "Gen3",
                                    "Type1": "Grass",
                                    "Type2": "Dark",
                                    "Count": "1"
                                },
                                {
                                    "Ability": "Effect Spore",
                                    "Generation": "Gen1",
                                    "Type1": "Bug",
                                    "Type2": "Grass",
                                    "Count": "2"
                                },
                                {
                                    "Ability": "Effect Spore",
                                    "Generation": "Gen1",
                                    "Type1": "Grass",
                                    "Type2": "Poison",
                                    "Count": "1"
                                },
                                {
                                    "Ability": "Effect Spore",
                                    "Generation": "Gen3",
                                    "Type1": "Grass",
                                    "Type2": "NULL",
                                    "Count": "1"
                                },
                                {
                                    "Ability": "Effect Spore",
                                    "Generation": "Gen3",
                                    "Type1": "Grass",
                                    "Type2": "Fighting",
                                    "Count": "1"
                                },
                                {
                                    "Ability": "Filter",
                                    "Generation": "Gen1",
                                    "Type1": "Psychic",
                                    "Type2": "Fairy",
                                    "Count": "1"
                                },
                                {
                                    "Ability": "Flame Body",
                                    "Generation": "Gen1",
                                    "Type1": "Fire",
                                    "Type2": "NULL",
                                    "Count": "3"
                                },
                                {
                                    "Ability": "Flame Body",
                                    "Generation": "Gen1",
                                    "Type1": "Fire",
                                    "Type2": "Flying",
                                    "Count": "1"
                                },
                                {
                                    "Ability": "Flame Body",
                                    "Generation": "Gen2",
                                    "Type1": "Fire",
                                    "Type2": "NULL",
                                    "Count": "2"
                                },
                                {
                                    "Ability": "Flame Body",
                                    "Generation": "Gen2",
                                    "Type1": "Fire",
                                    "Type2": "Rock",
                                    "Count": "1"
                                },
                                {
                                    "Ability": "Flash Fire",
                                    "Generation": "Gen1",
                                    "Type1": "Fire",
                                    "Type2": "NULL",
                                    "Count": "7"
                                },
                                {
                                    "Ability": "Flash Fire",
                                    "Generation": "Gen2",
                                    "Type1": "Dark",
                                    "Type2": "Fire",
                                    "Count": "2"
                                },
                                {
                                    "Ability": "Flash Fire",
                                    "Generation": "Gen2",
                                    "Type1": "Fire",
                                    "Type2": "NULL",
                                    "Count": "3"
                                },
                                {
                                    "Ability": "Forecast",
                                    "Generation": "Gen3",
                                    "Type1": "Normal",
                                    "Type2": "NULL",
                                    "Count": "1"
                                },
                                {
                                    "Ability": "Forewarn",
                                    "Generation": "Gen1",
                                    "Type1": "Ice",
                                    "Type2": "Psychic",
                                    "Count": "1"
                                },
                                {
                                    "Ability": "Forewarn",
                                    "Generation": "Gen1",
                                    "Type1": "Psychic",
                                    "Type2": "NULL",
                                    "Count": "2"
                                },
                                {
                                    "Ability": "Forewarn",
                                    "Generation": "Gen2",
                                    "Type1": "Ice",
                                    "Type2": "Psychic",
                                    "Count": "1"
                                },
                                {
                                    "Ability": "Friend Guard",
                                    "Generation": "Gen1",
                                    "Type1": "Fairy",
                                    "Type2": "NULL",
                                    "Count": "2"
                                },
                                {
                                    "Ability": "Friend Guard",
                                    "Generation": "Gen1",
                                    "Type1": "Normal",
                                    "Type2": "Fairy",
                                    "Count": "1"
                                },
                                {
                                    "Ability": "Friend Guard",
                                    "Generation": "Gen2",
                                    "Type1": "Fairy",
                                    "Type2": "NULL",
                                    "Count": "1"
                                },
                                {
                                    "Ability": "Frisk",
                                    "Generation": "Gen1",
                                    "Type1": "Normal",
                                    "Type2": "Fairy",
                                    "Count": "1"
                                },
                                {
                                    "Ability": "Frisk",
                                    "Generation": "Gen2",
                                    "Type1": "Bug",
                                    "Type2": "Flying",
                                    "Count": "1"
                                },
                                {
                                    "Ability": "Frisk",
                                    "Generation": "Gen2",
                                    "Type1": "Normal",
                                    "Type2": "NULL",
                                    "Count": "3"
                                },
                                {
                                    "Ability": "Frisk",
                                    "Generation": "Gen3",
                                    "Type1": "Ghost",
                                    "Type2": "NULL",
                                    "Count": "4"
                                },
                                {
                                    "Ability": "Gluttony",
                                    "Generation": "Gen1",
                                    "Type1": "Grass",
                                    "Type2": "Poison",
                                    "Count": "3"
                                },
                                {
                                    "Ability": "Gluttony",
                                    "Generation": "Gen1",
                                    "Type1": "Normal",
                                    "Type2": "NULL",
                                    "Count": "1"
                                },
                                {
                                    "Ability": "Gluttony",
                                    "Generation": "Gen2",
                                    "Type1": "Bug",
                                    "Type2": "Rock",
                                    "Count": "1"
                                },
                                {
                                    "Ability": "Gluttony",
                                    "Generation": "Gen3",
                                    "Type1": "Normal",
                                    "Type2": "NULL",
                                    "Count": "2"
                                },
                                {
                                    "Ability": "Gluttony",
                                    "Generation": "Gen3",
                                    "Type1": "Poison",
                                    "Type2": "NULL",
                                    "Count": "2"
                                },
                                {
                                    "Ability": "Gluttony",
                                    "Generation": "Gen3",
                                    "Type1": "Psychic",
                                    "Type2": "NULL",
                                    "Count": "2"
                                },
                                {
                                    "Ability": "Guts",
                                    "Generation": "Gen1",
                                    "Type1": "Fighting",
                                    "Type2": "NULL",
                                    "Count": "3"
                                },
                                {
                                    "Ability": "Guts",
                                    "Generation": "Gen1",
                                    "Type1": "Fire",
                                    "Type2": "NULL",
                                    "Count": "1"
                                },
                                {
                                    "Ability": "Guts",
                                    "Generation": "Gen1",
                                    "Type1": "Normal",
                                    "Type2": "NULL",
                                    "Count": "2"
                                },
                                {
                                    "Ability": "Guts",
                                    "Generation": "Gen2",
                                    "Type1": "Bug",
                                    "Type2": "Fighting",
                                    "Count": "1"
                                },
                                {
                                    "Ability": "Guts",
                                    "Generation": "Gen2",
                                    "Type1": "Fighting",
                                    "Type2": "NULL",
                                    "Count": "1"
                                },
                                {
                                    "Ability": "Guts",
                                    "Generation": "Gen2",
                                    "Type1": "Normal",
                                    "Type2": "NULL",
                                    "Count": "1"
                                },
                                {
                                    "Ability": "Guts",
                                    "Generation": "Gen2",
                                    "Type1": "Rock",
                                    "Type2": "Ground",
                                    "Count": "1"
                                },
                                {
                                    "Ability": "Guts",
                                    "Generation": "Gen3",
                                    "Type1": "Fighting",
                                    "Type2": "NULL",
                                    "Count": "2"
                                },
                                {
                                    "Ability": "Guts",
                                    "Generation": "Gen3",
                                    "Type1": "Normal",
                                    "Type2": "Flying",
                                    "Count": "2"
                                },
                                {
                                    "Ability": "Harvest",
                                    "Generation": "Gen1",
                                    "Type1": "Grass",
                                    "Type2": "Psychic",
                                    "Count": "2"
                                },
                                {
                                    "Ability": "Harvest",
                                    "Generation": "Gen3",
                                    "Type1": "Grass",
                                    "Type2": "Flying",
                                    "Count": "1"
                                },
                                {
                                    "Ability": "Healer",
                                    "Generation": "Gen1",
                                    "Type1": "Normal",
                                    "Type2": "NULL",
                                    "Count": "1"
                                },
                                {
                                    "Ability": "Healer",
                                    "Generation": "Gen2",
                                    "Type1": "Grass",
                                    "Type2": "NULL",
                                    "Count": "1"
                                },
                                {
                                    "Ability": "Healer",
                                    "Generation": "Gen2",
                                    "Type1": "Normal",
                                    "Type2": "NULL",
                                    "Count": "1"
                                },
                                {
                                    "Ability": "Heavy Metal",
                                    "Generation": "Gen3",
                                    "Type1": "Steel",
                                    "Type2": "Rock",
                                    "Count": "3"
                                },
                                {
                                    "Ability": "Honey Gather",
                                    "Generation": "Gen2",
                                    "Type1": "Normal",
                                    "Type2": "NULL",
                                    "Count": "1"
                                },
                                {
                                    "Ability": "Huge Power",
                                    "Generation": "Gen2",
                                    "Type1": "Water",
                                    "Type2": "Fairy",
                                    "Count": "2"
                                },
                                {
                                    "Ability": "Huge Power",
                                    "Generation": "Gen3",
                                    "Type1": "Normal",
                                    "Type2": "Fairy",
                                    "Count": "1"
                                },
                                {
                                    "Ability": "Hustle",
                                    "Generation": "Gen1",
                                    "Type1": "Normal",
                                    "Type2": "NULL",
                                    "Count": "2"
                                },
                                {
                                    "Ability": "Hustle",
                                    "Generation": "Gen1",
                                    "Type1": "Poison",
                                    "Type2": "NULL",
                                    "Count": "4"
                                },
                                {
                                    "Ability": "Hustle",
                                    "Generation": "Gen2",
                                    "Type1": "Fairy",
                                    "Type2": "NULL",
                                    "Count": "1"
                                },
                                {
                                    "Ability": "Hustle",
                                    "Generation": "Gen2",
                                    "Type1": "Fairy",
                                    "Type2": "Flying",
                                    "Count": "1"
                                },
                                {
                                    "Ability": "Hustle",
                                    "Generation": "Gen2",
                                    "Type1": "Ice",
                                    "Type2": "Flying",
                                    "Count": "1"
                                },
                                {
                                    "Ability": "Hustle",
                                    "Generation": "Gen2",
                                    "Type1": "Water",
                                    "Type2": "NULL",
                                    "Count": "1"
                                },
                                {
                                    "Ability": "Hustle",
                                    "Generation": "Gen2",
                                    "Type1": "Water",
                                    "Type2": "Rock",
                                    "Count": "1"
                                },
                                {
                                    "Ability": "Hydration",
                                    "Generation": "Gen1",
                                    "Type1": "Water",
                                    "Type2": "NULL",
                                    "Count": "2"
                                },
                                {
                                    "Ability": "Hydration",
                                    "Generation": "Gen1",
                                    "Type1": "Water",
                                    "Type2": "Ice",
                                    "Count": "2"
                                },
                                {
                                    "Ability": "Hydration",
                                    "Generation": "Gen2",
                                    "Type1": "Ice",
                                    "Type2": "Psychic",
                                    "Count": "1"
                                },
                                {
                                    "Ability": "Hydration",
                                    "Generation": "Gen3",
                                    "Type1": "Water",
                                    "Type2": "NULL",
                                    "Count": "2"
                                },
                                {
                                    "Ability": "Hydration",
                                    "Generation": "Gen3",
                                    "Type1": "Water",
                                    "Type2": "Flying",
                                    "Count": "1"
                                },
                                {
                                    "Ability": "Hydration",
                                    "Generation": "Gen3",
                                    "Type1": "Water",
                                    "Type2": "Ground",
                                    "Count": "2"
                                },
                                {
                                    "Ability": "Hyper Cutter",
                                    "Generation": "Gen1",
                                    "Type1": "Bug",
                                    "Type2": "NULL",
                                    "Count": "1"
                                },
                                {
                                    "Ability": "Hyper Cutter",
                                    "Generation": "Gen1",
                                    "Type1": "Water",
                                    "Type2": "NULL",
                                    "Count": "2"
                                },
                                {
                                    "Ability": "Hyper Cutter",
                                    "Generation": "Gen2",
                                    "Type1": "Ground",
                                    "Type2": "Flying",
                                    "Count": "1"
                                },
                                {
                                    "Ability": "Hyper Cutter",
                                    "Generation": "Gen3",
                                    "Type1": "Ground",
                                    "Type2": "NULL",
                                    "Count": "1"
                                },
                                {
                                    "Ability": "Hyper Cutter",
                                    "Generation": "Gen3",
                                    "Type1": "Steel",
                                    "Type2": "Fairy",
                                    "Count": "1"
                                },
                                {
                                    "Ability": "Hyper Cutter",
                                    "Generation": "Gen3",
                                    "Type1": "Water",
                                    "Type2": "NULL",
                                    "Count": "1"
                                },
                                {
                                    "Ability": "Hyper Cutter",
                                    "Generation": "Gen3",
                                    "Type1": "Water",
                                    "Type2": "Dark",
                                    "Count": "1"
                                },
                                {
                                    "Ability": "Ice Body",
                                    "Generation": "Gen1",
                                    "Type1": "Water",
                                    "Type2": "NULL",
                                    "Count": "1"
                                },
                                {
                                    "Ability": "Ice Body",
                                    "Generation": "Gen1",
                                    "Type1": "Water",
                                    "Type2": "Ice",
                                    "Count": "1"
                                },
                                {
                                    "Ability": "Ice Body",
                                    "Generation": "Gen3",
                                    "Type1": "Ice",
                                    "Type2": "NULL",
                                    "Count": "3"
                                },
                                {
                                    "Ability": "Ice Body",
                                    "Generation": "Gen3",
                                    "Type1": "Ice",
                                    "Type2": "Water",
                                    "Count": "3"
                                },
                                {
                                    "Ability": "Illuminate",
                                    "Generation": "Gen1",
                                    "Type1": "Water",
                                    "Type2": "NULL",
                                    "Count": "1"
                                },
                                {
                                    "Ability": "Illuminate",
                                    "Generation": "Gen1",
                                    "Type1": "Water",
                                    "Type2": "Psychic",
                                    "Count": "1"
                                },
                                {
                                    "Ability": "Illuminate",
                                    "Generation": "Gen2",
                                    "Type1": "Water",
                                    "Type2": "Electric",
                                    "Count": "2"
                                },
                                {
                                    "Ability": "Illuminate",
                                    "Generation": "Gen3",
                                    "Type1": "Bug",
                                    "Type2": "NULL",
                                    "Count": "1"
                                },
                                {
                                    "Ability": "Immunity",
                                    "Generation": "Gen1",
                                    "Type1": "Normal",
                                    "Type2": "NULL",
                                    "Count": "1"
                                },
                                {
                                    "Ability": "Immunity",
                                    "Generation": "Gen2",
                                    "Type1": "Ground",
                                    "Type2": "Flying",
                                    "Count": "1"
                                },
                                {
                                    "Ability": "Immunity",
                                    "Generation": "Gen3",
                                    "Type1": "Normal",
                                    "Type2": "NULL",
                                    "Count": "1"
                                },
                                {
                                    "Ability": "Imposter",
                                    "Generation": "Gen1",
                                    "Type1": "Normal",
                                    "Type2": "NULL",
                                    "Count": "1"
                                },
                                {
                                    "Ability": "Infiltrator",
                                    "Generation": "Gen1",
                                    "Type1": "Poison",
                                    "Type2": "Flying",
                                    "Count": "2"
                                },
                                {
                                    "Ability": "Infiltrator",
                                    "Generation": "Gen2",
                                    "Type1": "Grass",
                                    "Type2": "Flying",
                                    "Count": "3"
                                },
                                {
                                    "Ability": "Infiltrator",
                                    "Generation": "Gen2",
                                    "Type1": "Poison",
                                    "Type2": "Flying",
                                    "Count": "1"
                                },
                                {
                                    "Ability": "Infiltrator",
                                    "Generation": "Gen3",
                                    "Type1": "Bug",
                                    "Type2": "Flying",
                                    "Count": "1"
                                },
                                {
                                    "Ability": "Infiltrator",
                                    "Generation": "Gen3",
                                    "Type1": "Poison",
                                    "Type2": "NULL",
                                    "Count": "1"
                                },
                                {
                                    "Ability": "Inner Focus",
                                    "Generation": "Gen1",
                                    "Type1": "Dragon",
                                    "Type2": "Flying",
                                    "Count": "1"
                                },
                                {
                                    "Ability": "Inner Focus",
                                    "Generation": "Gen1",
                                    "Type1": "Fight",
                                    "Type2": "NULL",
                                    "Count": "1"
                                },
                                {
                                    "Ability": "Inner Focus",
                                    "Generation": "Gen1",
                                    "Type1": "Normal",
                                    "Type2": "NULL",
                                    "Count": "1"
                                },
                                {
                                    "Ability": "Inner Focus",
                                    "Generation": "Gen1",
                                    "Type1": "Normal",
                                    "Type2": "Flying",
                                    "Count": "1"
                                },
                                {
                                    "Ability": "Inner Focus",
                                    "Generation": "Gen1",
                                    "Type1": "Poison",
                                    "Type2": "Flying",
                                    "Count": "2"
                                },
                                {
                                    "Ability": "Inner Focus",
                                    "Generation": "Gen1",
                                    "Type1": "Psychic",
                                    "Type2": "NULL",
                                    "Count": "5"
                                },
                                {
                                    "Ability": "Inner Focus",
                                    "Generation": "Gen2",
                                    "Type1": "Dark",
                                    "Type2": "NULL",
                                    "Count": "1"
                                },
                                {
                                    "Ability": "Inner Focus",
                                    "Generation": "Gen2",
                                    "Type1": "Dark",
                                    "Type2": "Ice",
                                    "Count": "1"
                                },
                                {
                                    "Ability": "Inner Focus",
                                    "Generation": "Gen2",
                                    "Type1": "Electric",
                                    "Type2": "NULL",
                                    "Count": "1"
                                },
                                {
                                    "Ability": "Inner Focus",
                                    "Generation": "Gen2",
                                    "Type1": "Fire",
                                    "Type2": "NULL",
                                    "Count": "1"
                                },
                                {
                                    "Ability": "Inner Focus",
                                    "Generation": "Gen2",
                                    "Type1": "Normal",
                                    "Type2": "Psychic",
                                    "Count": "1"
                                },
                                {
                                    "Ability": "Inner Focus",
                                    "Generation": "Gen2",
                                    "Type1": "Poison",
                                    "Type2": "Flying",
                                    "Count": "1"
                                },
                                {
                                    "Ability": "Inner Focus",
                                    "Generation": "Gen2",
                                    "Type1": "Water",
                                    "Type2": "NULL",
                                    "Count": "1"
                                },
                                {
                                    "Ability": "Inner Focus",
                                    "Generation": "Gen3",
                                    "Type1": "Ice",
                                    "Type2": "NULL",
                                    "Count": "2"
                                },
                                {
                                    "Ability": "Insomnia",
                                    "Generation": "Gen1",
                                    "Type1": "Psychic",
                                    "Type2": "NULL",
                                    "Count": "2"
                                },
                                {
                                    "Ability": "Insomnia",
                                    "Generation": "Gen2",
                                    "Type1": "Bug",
                                    "Type2": "Poison",
                                    "Count": "2"
                                },
                                {
                                    "Ability": "Insomnia",
                                    "Generation": "Gen2",
                                    "Type1": "Dark",
                                    "Type2": "Flying",
                                    "Count": "1"
                                },
                                {
                                    "Ability": "Insomnia",
                                    "Generation": "Gen2",
                                    "Type1": "Ice",
                                    "Type2": "Flying",
                                    "Count": "1"
                                },
                                {
                                    "Ability": "Insomnia",
                                    "Generation": "Gen2",
                                    "Type1": "Normal",
                                    "Type2": "Flying",
                                    "Count": "2"
                                },
                                {
                                    "Ability": "Insomnia",
                                    "Generation": "Gen3",
                                    "Type1": "Ghost",
                                    "Type2": "NULL",
                                    "Count": "2"
                                },
                                {
                                    "Ability": "Intimidate",
                                    "Generation": "Gen1",
                                    "Type1": "Fire",
                                    "Type2": "NULL",
                                    "Count": "2"
                                },
                                {
                                    "Ability": "Intimidate",
                                    "Generation": "Gen1",
                                    "Type1": "Normal",
                                    "Type2": "NULL",
                                    "Count": "1"
                                },
                                {
                                    "Ability": "Intimidate",
                                    "Generation": "Gen1",
                                    "Type1": "Poison",
                                    "Type2": "NULL",
                                    "Count": "2"
                                },
                                {
                                    "Ability": "Intimidate",
                                    "Generation": "Gen1",
                                    "Type1": "Water",
                                    "Type2": "Flying",
                                    "Count": "1"
                                },
                                {
                                    "Ability": "Intimidate",
                                    "Generation": "Gen2",
                                    "Type1": "Fairy",
                                    "Type2": "NULL",
                                    "Count": "2"
                                },
                                {
                                    "Ability": "Intimidate",
                                    "Generation": "Gen2",
                                    "Type1": "Fighting",
                                    "Type2": "NULL",
                                    "Count": "1"
                                },
                                {
                                    "Ability": "Intimidate",
                                    "Generation": "Gen2",
                                    "Type1": "Normal",
                                    "Type2": "NULL",
                                    "Count": "1"
                                },
                                {
                                    "Ability": "Intimidate",
                                    "Generation": "Gen2",
                                    "Type1": "Water",
                                    "Type2": "Poison",
                                    "Count": "1"
                                },
                                {
                                    "Ability": "Intimidate",
                                    "Generation": "Gen3",
                                    "Type1": "Bug",
                                    "Type2": "Flying",
                                    "Count": "1"
                                },
                                {
                                    "Ability": "Intimidate",
                                    "Generation": "Gen3",
                                    "Type1": "Dark",
                                    "Type2": "NULL",
                                    "Count": "1"
                                },
                                {
                                    "Ability": "Intimidate",
                                    "Generation": "Gen3",
                                    "Type1": "Dragon",
                                    "Type2": "Flying",
                                    "Count": "1"
                                },
                                {
                                    "Ability": "Intimidate",
                                    "Generation": "Gen3",
                                    "Type1": "Steel",
                                    "Type2": "Fairy",
                                    "Count": "1"
                                },
                                {
                                    "Ability": "Iron Fist",
                                    "Generation": "Gen1",
                                    "Type1": "Fight",
                                    "Type2": "NULL",
                                    "Count": "1"
                                },
                                {
                                    "Ability": "Iron Fist",
                                    "Generation": "Gen2",
                                    "Type1": "Bug",
                                    "Type2": "Flying",
                                    "Count": "1"
                                },
                                {
                                    "Ability": "Justified",
                                    "Generation": "Gen1",
                                    "Type1": "Fire",
                                    "Type2": "NULL",
                                    "Count": "2"
                                },
                                {
                                    "Ability": "Justified",
                                    "Generation": "Gen3",
                                    "Type1": "Dark",
                                    "Type2": "NULL",
                                    "Count": "1"
                                },
                                {
                                    "Ability": "Keen Eye",
                                    "Generation": "Gen1",
                                    "Type1": "Fight",
                                    "Type2": "NULL",
                                    "Count": "1"
                                },
                                {
                                    "Ability": "Keen Eye",
                                    "Generation": "Gen1",
                                    "Type1": "Normal",
                                    "Type2": "Flying",
                                    "Count": "6"
                                },
                                {
                                    "Ability": "Keen Eye",
                                    "Generation": "Gen2",
                                    "Type1": "Dark",
                                    "Type2": "Ice",
                                    "Count": "1"
                                },
                                {
                                    "Ability": "Keen Eye",
                                    "Generation": "Gen2",
                                    "Type1": "Normal",
                                    "Type2": "NULL",
                                    "Count": "2"
                                },
                                {
                                    "Ability": "Keen Eye",
                                    "Generation": "Gen2",
                                    "Type1": "Normal",
                                    "Type2": "Flying",
                                    "Count": "2"
                                },
                                {
                                    "Ability": "Keen Eye",
                                    "Generation": "Gen2",
                                    "Type1": "Steel",
                                    "Type2": "Flying",
                                    "Count": "1"
                                },
                                {
                                    "Ability": "Keen Eye",
                                    "Generation": "Gen3",
                                    "Type1": "Dark",
                                    "Type2": "Ghost",
                                    "Count": "1"
                                },
                                {
                                    "Ability": "Keen Eye",
                                    "Generation": "Gen3",
                                    "Type1": "Water",
                                    "Type2": "Flying",
                                    "Count": "2"
                                },
                                {
                                    "Ability": "Leaf Guard",
                                    "Generation": "Gen1",
                                    "Type1": "Grass",
                                    "Type2": "NULL",
                                    "Count": "1"
                                },
                                {
                                    "Ability": "Leaf Guard",
                                    "Generation": "Gen2",
                                    "Type1": "Grass",
                                    "Type2": "NULL",
                                    "Count": "3"
                                },
                                {
                                    "Ability": "Leaf Guard",
                                    "Generation": "Gen2",
                                    "Type1": "Grass",
                                    "Type2": "Flying",
                                    "Count": "3"
                                },
                                {
                                    "Ability": "Leaf Guard",
                                    "Generation": "Gen3",
                                    "Type1": "Grass",
                                    "Type2": "Poison",
                                    "Count": "1"
                                },
                                {
                                    "Ability": "Levitate",
                                    "Generation": "Gen1",
                                    "Type1": "Ghost",
                                    "Type2": "Poison",
                                    "Count": "2"
                                },
                                {
                                    "Ability": "Levitate",
                                    "Generation": "Gen1",
                                    "Type1": "Poison",
                                    "Type2": "NULL",
                                    "Count": "2"
                                },
                                {
                                    "Ability": "Levitate",
                                    "Generation": "Gen2",
                                    "Type1": "Ghost",
                                    "Type2": "NULL",
                                    "Count": "1"
                                },
                                {
                                    "Ability": "Levitate",
                                    "Generation": "Gen2",
                                    "Type1": "Psychic",
                                    "Type2": "NULL",
                                    "Count": "1"
                                },
                                {
                                    "Ability": "Levitate",
                                    "Generation": "Gen3",
                                    "Type1": "Dragon",
                                    "Type2": "Psychic",
                                    "Count": "2"
                                },
                                {
                                    "Ability": "Levitate",
                                    "Generation": "Gen3",
                                    "Type1": "Ghost",
                                    "Type2": "NULL",
                                    "Count": "1"
                                },
                                {
                                    "Ability": "Levitate",
                                    "Generation": "Gen3",
                                    "Type1": "Ground",
                                    "Type2": "Dragon",
                                    "Count": "2"
                                },
                                {
                                    "Ability": "Levitate",
                                    "Generation": "Gen3",
                                    "Type1": "Ground",
                                    "Type2": "Psychic",
                                    "Count": "2"
                                },
                                {
                                    "Ability": "Levitate",
                                    "Generation": "Gen3",
                                    "Type1": "Psychic",
                                    "Type2": "NULL",
                                    "Count": "1"
                                },
                                {
                                    "Ability": "Levitate",
                                    "Generation": "Gen3",
                                    "Type1": "Rock",
                                    "Type2": "Psychic",
                                    "Count": "2"
                                },
                                {
                                    "Ability": "Light Metal",
                                    "Generation": "Gen2",
                                    "Type1": "Bug",
                                    "Type2": "Steel",
                                    "Count": "1"
                                },
                                {
                                    "Ability": "Light Metal",
                                    "Generation": "Gen3",
                                    "Type1": "Steel",
                                    "Type2": "NULL",
                                    "Count": "1"
                                },
                                {
                                    "Ability": "Light Metal",
                                    "Generation": "Gen3",
                                    "Type1": "Steel",
                                    "Type2": "Psychic",
                                    "Count": "3"
                                },
                                {
                                    "Ability": "Lighting Rod",
                                    "Generation": "Gen1",
                                    "Type1": "Electric",
                                    "Type2": "NULL",
                                    "Count": "2"
                                },
                                {
                                    "Ability": "Lighting Rod",
                                    "Generation": "Gen1",
                                    "Type1": "Water",
                                    "Type2": "NULL",
                                    "Count": "2"
                                },
                                {
                                    "Ability": "Lightning Rod",
                                    "Generation": "Gen1",
                                    "Type1": "Ground",
                                    "Type2": "NULL",
                                    "Count": "2"
                                },
                                {
                                    "Ability": "Lightning Rod",
                                    "Generation": "Gen1",
                                    "Type1": "Ground",
                                    "Type2": "Rock",
                                    "Count": "2"
                                },
                                {
                                    "Ability": "Lightning Rod",
                                    "Generation": "Gen2",
                                    "Type1": "Electric",
                                    "Type2": "NULL",
                                    "Count": "1"
                                },
                                {
                                    "Ability": "Lightning Rod",
                                    "Generation": "Gen3",
                                    "Type1": "Electric",
                                    "Type2": "NULL",
                                    "Count": "3"
                                },
                                {
                                    "Ability": "Limber",
                                    "Generation": "Gen1",
                                    "Type1": "Fight",
                                    "Type2": "NULL",
                                    "Count": "1"
                                },
                                {
                                    "Ability": "Limber",
                                    "Generation": "Gen1",
                                    "Type1": "Normal",
                                    "Type2": "NULL",
                                    "Count": "2"
                                },
                                {
                                    "Ability": "Liquid Ooze",
                                    "Generation": "Gen1",
                                    "Type1": "Water",
                                    "Type2": "Poison",
                                    "Count": "2"
                                },
                                {
                                    "Ability": "Liquid Ooze",
                                    "Generation": "Gen3",
                                    "Type1": "Poison",
                                    "Type2": "NULL",
                                    "Count": "2"
                                },
                                {
                                    "Ability": "Magic Bounce",
                                    "Generation": "Gen2",
                                    "Type1": "Psychic",
                                    "Type2": "NULL",
                                    "Count": "1"
                                },
                                {
                                    "Ability": "Magic Bounce",
                                    "Generation": "Gen2",
                                    "Type1": "Psychic",
                                    "Type2": "Flying",
                                    "Count": "2"
                                },
                                {
                                    "Ability": "Magic Guard",
                                    "Generation": "Gen1",
                                    "Type1": "Fairy",
                                    "Type2": "NULL",
                                    "Count": "2"
                                },
                                {
                                    "Ability": "Magic Guard",
                                    "Generation": "Gen1",
                                    "Type1": "Psychic",
                                    "Type2": "NULL",
                                    "Count": "3"
                                },
                                {
                                    "Ability": "Magic Guard",
                                    "Generation": "Gen2",
                                    "Type1": "Fairy",
                                    "Type2": "NULL",
                                    "Count": "1"
                                },
                                {
                                    "Ability": "Magma Armor",
                                    "Generation": "Gen2",
                                    "Type1": "Fire",
                                    "Type2": "NULL",
                                    "Count": "1"
                                },
                                {
                                    "Ability": "Magma Armor",
                                    "Generation": "Gen2",
                                    "Type1": "Fire",
                                    "Type2": "Rock",
                                    "Count": "1"
                                },
                                {
                                    "Ability": "Magma Armor",
                                    "Generation": "Gen3",
                                    "Type1": "Fire",
                                    "Type2": "Ground",
                                    "Count": "1"
                                },
                                {
                                    "Ability": "Magnet Pull",
                                    "Generation": "Gen1",
                                    "Type1": "Electric",
                                    "Type2": "Steel",
                                    "Count": "2"
                                },
                                {
                                    "Ability": "Magnet Pull",
                                    "Generation": "Gen3",
                                    "Type1": "Rock",
                                    "Type2": "NULL",
                                    "Count": "1"
                                },
                                {
                                    "Ability": "Marvel Scale",
                                    "Generation": "Gen1",
                                    "Type1": "Dragon",
                                    "Type2": "NULL",
                                    "Count": "2"
                                },
                                {
                                    "Ability": "Marvel Scale",
                                    "Generation": "Gen3",
                                    "Type1": "Water",
                                    "Type2": "NULL",
                                    "Count": "1"
                                },
                                {
                                    "Ability": "Minus",
                                    "Generation": "Gen3",
                                    "Type1": "Electric",
                                    "Type2": "NULL",
                                    "Count": "3"
                                },
                                {
                                    "Ability": "Mold Breaker",
                                    "Generation": "Gen1",
                                    "Type1": "Bug",
                                    "Type2": "NULL",
                                    "Count": "1"
                                },
                                {
                                    "Ability": "Moody",
                                    "Generation": "Gen2",
                                    "Type1": "Normal",
                                    "Type2": "NULL",
                                    "Count": "1"
                                },
                                {
                                    "Ability": "Moody",
                                    "Generation": "Gen2",
                                    "Type1": "Water",
                                    "Type2": "NULL",
                                    "Count": "2"
                                },
                                {
                                    "Ability": "Moody",
                                    "Generation": "Gen3",
                                    "Type1": "Ice",
                                    "Type2": "NULL",
                                    "Count": "2"
                                },
                                {
                                    "Ability": "Moxie",
                                    "Generation": "Gen1",
                                    "Type1": "Bug",
                                    "Type2": "NULL",
                                    "Count": "1"
                                },
                                {
                                    "Ability": "Moxie",
                                    "Generation": "Gen1",
                                    "Type1": "Water",
                                    "Type2": "Flying",
                                    "Count": "1"
                                },
                                {
                                    "Ability": "Moxie",
                                    "Generation": "Gen2",
                                    "Type1": "Bug",
                                    "Type2": "Fighting",
                                    "Count": "1"
                                },
                                {
                                    "Ability": "Moxie",
                                    "Generation": "Gen3",
                                    "Type1": "Dark",
                                    "Type2": "NULL",
                                    "Count": "1"
                                },
                                {
                                    "Ability": "Moxie",
                                    "Generation": "Gen3",
                                    "Type1": "Dragon",
                                    "Type2": "Flying",
                                    "Count": "1"
                                },
                                {
                                    "Ability": "Multiscale",
                                    "Generation": "Gen1",
                                    "Type1": "Dragon",
                                    "Type2": "Flying",
                                    "Count": "1"
                                },
                                {
                                    "Ability": "Multiscale",
                                    "Generation": "Gen2",
                                    "Type1": "Psychic",
                                    "Type2": "Flying",
                                    "Count": "1"
                                },
                                {
                                    "Ability": "Natural Cure",
                                    "Generation": "Gen1",
                                    "Type1": "Normal",
                                    "Type2": "NULL",
                                    "Count": "1"
                                },
                                {
                                    "Ability": "Natural Cure",
                                    "Generation": "Gen1",
                                    "Type1": "Water",
                                    "Type2": "NULL",
                                    "Count": "1"
                                },
                                {
                                    "Ability": "Natural Cure",
                                    "Generation": "Gen1",
                                    "Type1": "Water",
                                    "Type2": "Psychic",
                                    "Count": "1"
                                },
                                {
                                    "Ability": "Natural Cure",
                                    "Generation": "Gen2",
                                    "Type1": "Normal",
                                    "Type2": "NULL",
                                    "Count": "1"
                                },
                                {
                                    "Ability": "Natural Cure",
                                    "Generation": "Gen2",
                                    "Type1": "Psychic",
                                    "Type2": "Grass",
                                    "Count": "1"
                                },
                                {
                                    "Ability": "Natural Cure",
                                    "Generation": "Gen2",
                                    "Type1": "Water",
                                    "Type2": "Rock",
                                    "Count": "1"
                                },
                                {
                                    "Ability": "Natural Cure",
                                    "Generation": "Gen3",
                                    "Type1": "Dragon",
                                    "Type2": "Flying",
                                    "Count": "1"
                                },
                                {
                                    "Ability": "Natural Cure",
                                    "Generation": "Gen3",
                                    "Type1": "Grass",
                                    "Type2": "Poison",
                                    "Count": "1"
                                },
                                {
                                    "Ability": "Natural Cure",
                                    "Generation": "Gen3",
                                    "Type1": "Normal",
                                    "Type2": "Flying",
                                    "Count": "1"
                                },
                                {
                                    "Ability": "Neutralizing Gas",
                                    "Generation": "Gen1",
                                    "Type1": "Poison",
                                    "Type2": "NULL",
                                    "Count": "2"
                                },
                                {
                                    "Ability": "No Guard",
                                    "Generation": "Gen1",
                                    "Type1": "Fighting",
                                    "Type2": "NULL",
                                    "Count": "3"
                                },
                                {
                                    "Ability": "Normalize",
                                    "Generation": "Gen3",
                                    "Type1": "Normal",
                                    "Type2": "NULL",
                                    "Count": "2"
                                },
                                {
                                    "Ability": "Oblivious",
                                    "Generation": "Gen1",
                                    "Type1": "Ice",
                                    "Type2": "Psychic",
                                    "Count": "1"
                                },
                                {
                                    "Ability": "Oblivious",
                                    "Generation": "Gen1",
                                    "Type1": "Normal",
                                    "Type2": "NULL",
                                    "Count": "1"
                                },
                                {
                                    "Ability": "Oblivious",
                                    "Generation": "Gen1",
                                    "Type1": "Water",
                                    "Type2": "Psychic",
                                    "Count": "2"
                                },
                                {
                                    "Ability": "Oblivious",
                                    "Generation": "Gen2",
                                    "Type1": "Ice",
                                    "Type2": "Ground",
                                    "Count": "2"
                                },
                                {
                                    "Ability": "Oblivious",
                                    "Generation": "Gen2",
                                    "Type1": "Ice",
                                    "Type2": "Psychic",
                                    "Count": "1"
                                },
                                {
                                    "Ability": "Oblivious",
                                    "Generation": "Gen2",
                                    "Type1": "Water",
                                    "Type2": "Psychic",
                                    "Count": "1"
                                },
                                {
                                    "Ability": "Oblivious",
                                    "Generation": "Gen3",
                                    "Type1": "Bug",
                                    "Type2": "NULL",
                                    "Count": "1"
                                },
                                {
                                    "Ability": "Oblivious",
                                    "Generation": "Gen3",
                                    "Type1": "Fire",
                                    "Type2": "Ground",
                                    "Count": "1"
                                },
                                {
                                    "Ability": "Oblivious",
                                    "Generation": "Gen3",
                                    "Type1": "Ice",
                                    "Type2": "Water",
                                    "Count": "3"
                                },
                                {
                                    "Ability": "Oblivious",
                                    "Generation": "Gen3",
                                    "Type1": "Water",
                                    "Type2": "NULL",
                                    "Count": "3"
                                },
                                {
                                    "Ability": "Oblivious",
                                    "Generation": "Gen3",
                                    "Type1": "Water",
                                    "Type2": "Ground",
                                    "Count": "2"
                                },
                                {
                                    "Ability": "Overcoat",
                                    "Generation": "Gen1",
                                    "Type1": "Water",
                                    "Type2": "NULL",
                                    "Count": "1"
                                },
                                {
                                    "Ability": "Overcoat",
                                    "Generation": "Gen1",
                                    "Type1": "Water",
                                    "Type2": "Ice",
                                    "Count": "1"
                                },
                                {
                                    "Ability": "Overcoat",
                                    "Generation": "Gen2",
                                    "Type1": "Bug",
                                    "Type2": "NULL",
                                    "Count": "1"
                                },
                                {
                                    "Ability": "Overcoat",
                                    "Generation": "Gen2",
                                    "Type1": "Bug",
                                    "Type2": "Steel",
                                    "Count": "1"
                                },
                                {
                                    "Ability": "Overcoat",
                                    "Generation": "Gen3",
                                    "Type1": "Dragon",
                                    "Type2": "NULL",
                                    "Count": "1"
                                },
                                {
                                    "Ability": "Overgrow",
                                    "Generation": "Gen1",
                                    "Type1": "Grass",
                                    "Type2": "Poison",
                                    "Count": "3"
                                },
                                {
                                    "Ability": "Overgrow",
                                    "Generation": "Gen2",
                                    "Type1": "Grass",
                                    "Type2": "NULL",
                                    "Count": "3"
                                },
                                {
                                    "Ability": "Overgrow",
                                    "Generation": "Gen3",
                                    "Type1": "Grass",
                                    "Type2": "NULL",
                                    "Count": "3"
                                },
                                {
                                    "Ability": "Own Tempo",
                                    "Generation": "Gen1",
                                    "Type1": "Normal",
                                    "Type2": "NULL",
                                    "Count": "1"
                                },
                                {
                                    "Ability": "Own Tempo",
                                    "Generation": "Gen1",
                                    "Type1": "Water",
                                    "Type2": "Psychic",
                                    "Count": "2"
                                },
                                {
                                    "Ability": "Own Tempo",
                                    "Generation": "Gen2",
                                    "Type1": "Normal",
                                    "Type2": "NULL",
                                    "Count": "1"
                                },
                                {
                                    "Ability": "Own Tempo",
                                    "Generation": "Gen2",
                                    "Type1": "Water",
                                    "Type2": "Psychic",
                                    "Count": "1"
                                },
                                {
                                    "Ability": "Own Tempo",
                                    "Generation": "Gen3",
                                    "Type1": "Fire",
                                    "Type2": "Ground",
                                    "Count": "1"
                                },
                                {
                                    "Ability": "Own Tempo",
                                    "Generation": "Gen3",
                                    "Type1": "Normal",
                                    "Type2": "NULL",
                                    "Count": "1"
                                },
                                {
                                    "Ability": "Own Tempo",
                                    "Generation": "Gen3",
                                    "Type1": "Psychic",
                                    "Type2": "NULL",
                                    "Count": "2"
                                },
                                {
                                    "Ability": "Own Tempo",
                                    "Generation": "Gen3",
                                    "Type1": "Water",
                                    "Type2": "Grass",
                                    "Count": "3"
                                },
                                {
                                    "Ability": "Pickpocket",
                                    "Generation": "Gen2",
                                    "Type1": "Dark",
                                    "Type2": "Ice",
                                    "Count": "1"
                                },
                                {
                                    "Ability": "Pickpocket",
                                    "Generation": "Gen3",
                                    "Type1": "Grass",
                                    "Type2": "NULL",
                                    "Count": "1"
                                },
                                {
                                    "Ability": "Pickpocket",
                                    "Generation": "Gen3",
                                    "Type1": "Grass",
                                    "Type2": "Dark",
                                    "Count": "2"
                                },
                                {
                                    "Ability": "Pickup",
                                    "Generation": "Gen1",
                                    "Type1": "Normal",
                                    "Type2": "NULL",
                                    "Count": "1"
                                },
                                {
                                    "Ability": "Pickup",
                                    "Generation": "Gen2",
                                    "Type1": "Ground",
                                    "Type2": "NULL",
                                    "Count": "1"
                                },
                                {
                                    "Ability": "Pickup",
                                    "Generation": "Gen2",
                                    "Type1": "Normal",
                                    "Type2": "NULL",
                                    "Count": "2"
                                },
                                {
                                    "Ability": "Pickup",
                                    "Generation": "Gen3",
                                    "Type1": "Normal",
                                    "Type2": "NULL",
                                    "Count": "2"
                                },
                                {
                                    "Ability": "Plus",
                                    "Generation": "Gen2",
                                    "Type1": "Electric",
                                    "Type2": "NULL",
                                    "Count": "3"
                                },
                                {
                                    "Ability": "Plus",
                                    "Generation": "Gen3",
                                    "Type1": "Electric",
                                    "Type2": "NULL",
                                    "Count": "1"
                                },
                                {
                                    "Ability": "Poison Heal",
                                    "Generation": "Gen3",
                                    "Type1": "Grass",
                                    "Type2": "NULL",
                                    "Count": "1"
                                },
                                {
                                    "Ability": "Poison Heal",
                                    "Generation": "Gen3",
                                    "Type1": "Grass",
                                    "Type2": "Fighting",
                                    "Count": "1"
                                },
                                {
                                    "Ability": "Poison Point",
                                    "Generation": "Gen1",
                                    "Type1": "Poison",
                                    "Type2": "NULL",
                                    "Count": "4"
                                },
                                {
                                    "Ability": "Poison Point",
                                    "Generation": "Gen1",
                                    "Type1": "Poison",
                                    "Type2": "Ground",
                                    "Count": "1"
                                },
                                {
                                    "Ability": "Poison Point",
                                    "Generation": "Gen1",
                                    "Type1": "Water",
                                    "Type2": "NULL",
                                    "Count": "1"
                                },
                                {
                                    "Ability": "Poison Point",
                                    "Generation": "Gen2",
                                    "Type1": "Water",
                                    "Type2": "Poison",
                                    "Count": "1"
                                },
                                {
                                    "Ability": "Poison Point",
                                    "Generation": "Gen3",
                                    "Type1": "Grass",
                                    "Type2": "Poison",
                                    "Count": "1"
                                },
                                {
                                    "Ability": "Poison Touch",
                                    "Generation": "Gen1",
                                    "Type1": "Poison",
                                    "Type2": "NULL",
                                    "Count": "2"
                                },
                                {
                                    "Ability": "Prankster",
                                    "Generation": "Gen2",
                                    "Type1": "Dark",
                                    "Type2": "Flying",
                                    "Count": "1"
                                },
                                {
                                    "Ability": "Prankster",
                                    "Generation": "Gen3",
                                    "Type1": "Bug",
                                    "Type2": "NULL",
                                    "Count": "2"
                                },
                                {
                                    "Ability": "Prankster",
                                    "Generation": "Gen3",
                                    "Type1": "Dark",
                                    "Type2": "Ghost",
                                    "Count": "1"
                                },
                                {
                                    "Ability": "Pressure",
                                    "Generation": "Gen1",
                                    "Type1": "Electric",
                                    "Type2": "Flying",
                                    "Count": "1"
                                },
                                {
                                    "Ability": "Pressure",
                                    "Generation": "Gen1",
                                    "Type1": "Fire",
                                    "Type2": "Flying",
                                    "Count": "1"
                                },
                                {
                                    "Ability": "Pressure",
                                    "Generation": "Gen1",
                                    "Type1": "Ice",
                                    "Type2": "Flying",
                                    "Count": "1"
                                },
                                {
                                    "Ability": "Pressure",
                                    "Generation": "Gen1",
                                    "Type1": "Psychic",
                                    "Type2": "NULL",
                                    "Count": "1"
                                },
                                {
                                    "Ability": "Pressure",
                                    "Generation": "Gen1",
                                    "Type1": "Rock",
                                    "Type2": "Flying",
                                    "Count": "1"
                                },
                                {
                                    "Ability": "Pressure",
                                    "Generation": "Gen2",
                                    "Type1": "Electric",
                                    "Type2": "NULL",
                                    "Count": "1"
                                },
                                {
                                    "Ability": "Pressure",
                                    "Generation": "Gen2",
                                    "Type1": "Fire",
                                    "Type2": "NULL",
                                    "Count": "1"
                                },
                                {
                                    "Ability": "Pressure",
                                    "Generation": "Gen2",
                                    "Type1": "Fire",
                                    "Type2": "Flying",
                                    "Count": "1"
                                },
                                {
                                    "Ability": "Pressure",
                                    "Generation": "Gen2",
                                    "Type1": "Psychic",
                                    "Type2": "Flying",
                                    "Count": "1"
                                },
                                {
                                    "Ability": "Pressure",
                                    "Generation": "Gen2",
                                    "Type1": "Water",
                                    "Type2": "NULL",
                                    "Count": "1"
                                },
                                {
                                    "Ability": "Pressure",
                                    "Generation": "Gen3",
                                    "Type1": "Dark",
                                    "Type2": "NULL",
                                    "Count": "1"
                                },
                                {
                                    "Ability": "Pressure",
                                    "Generation": "Gen3",
                                    "Type1": "Ghost",
                                    "Type2": "NULL",
                                    "Count": "1"
                                },
                                {
                                    "Ability": "Pressure",
                                    "Generation": "Gen3",
                                    "Type1": "Psychic",
                                    "Type2": "NULL",
                                    "Count": "1"
                                },
                                {
                                    "Ability": "Pressure",
                                    "Generation": "Gen3",
                                    "Type1": "Water",
                                    "Type2": "NULL",
                                    "Count": "2"
                                },
                                {
                                    "Ability": "Protean",
                                    "Generation": "Gen3",
                                    "Type1": "Normal",
                                    "Type2": "NULL",
                                    "Count": "1"
                                },
                                {
                                    "Ability": "Pure Power",
                                    "Generation": "Gen3",
                                    "Type1": "Fighting",
                                    "Type2": "Psychic",
                                    "Count": "2"
                                },
                                {
                                    "Ability": "Quick Feet",
                                    "Generation": "Gen1",
                                    "Type1": "Electric",
                                    "Type2": "NULL",
                                    "Count": "1"
                                },
                                {
                                    "Ability": "Quick Feet",
                                    "Generation": "Gen2",
                                    "Type1": "Fairy",
                                    "Type2": "NULL",
                                    "Count": "1"
                                },
                                {
                                    "Ability": "Quick Feet",
                                    "Generation": "Gen2",
                                    "Type1": "Normal",
                                    "Type2": "NULL",
                                    "Count": "2"
                                },
                                {
                                    "Ability": "Quick Feet",
                                    "Generation": "Gen3",
                                    "Type1": "Dark",
                                    "Type2": "NULL",
                                    "Count": "2"
                                },
                                {
                                    "Ability": "Quick Feet",
                                    "Generation": "Gen3",
                                    "Type1": "Grass",
                                    "Type2": "NULL",
                                    "Count": "1"
                                },
                                {
                                    "Ability": "Quick Feet",
                                    "Generation": "Gen3",
                                    "Type1": "Normal",
                                    "Type2": "NULL",
                                    "Count": "2"
                                },
                                {
                                    "Ability": "Rain Dish",
                                    "Generation": "Gen1",
                                    "Type1": "Water",
                                    "Type2": "NULL",
                                    "Count": "3"
                                },
                                {
                                    "Ability": "Rain Dish",
                                    "Generation": "Gen1",
                                    "Type1": "Water",
                                    "Type2": "Poison",
                                    "Count": "2"
                                },
                                {
                                    "Ability": "Rain Dish",
                                    "Generation": "Gen3",
                                    "Type1": "Bug",
                                    "Type2": "Water",
                                    "Count": "1"
                                },
                                {
                                    "Ability": "Rain Dish",
                                    "Generation": "Gen3",
                                    "Type1": "Water",
                                    "Type2": "Flying",
                                    "Count": "2"
                                },
                                {
                                    "Ability": "Rain Dish",
                                    "Generation": "Gen3",
                                    "Type1": "Water",
                                    "Type2": "Grass",
                                    "Count": "3"
                                },
                                {
                                    "Ability": "Rattled",
                                    "Generation": "Gen1",
                                    "Type1": "Water",
                                    "Type2": "NULL",
                                    "Count": "1"
                                },
                                {
                                    "Ability": "Rattled",
                                    "Generation": "Gen2",
                                    "Type1": "Bug",
                                    "Type2": "Flying",
                                    "Count": "1"
                                },
                                {
                                    "Ability": "Rattled",
                                    "Generation": "Gen2",
                                    "Type1": "Fairy",
                                    "Type2": "NULL",
                                    "Count": "2"
                                },
                                {
                                    "Ability": "Rattled",
                                    "Generation": "Gen2",
                                    "Type1": "Normal",
                                    "Type2": "NULL",
                                    "Count": "1"
                                },
                                {
                                    "Ability": "Rattled",
                                    "Generation": "Gen2",
                                    "Type1": "Rock",
                                    "Type2": "NULL",
                                    "Count": "1"
                                },
                                {
                                    "Ability": "Rattled",
                                    "Generation": "Gen3",
                                    "Type1": "Dark",
                                    "Type2": "NULL",
                                    "Count": "1"
                                },
                                {
                                    "Ability": "Rattled",
                                    "Generation": "Gen3",
                                    "Type1": "Normal",
                                    "Type2": "NULL",
                                    "Count": "1"
                                },
                                {
                                    "Ability": "Rattled",
                                    "Generation": "Gen3",
                                    "Type1": "Water",
                                    "Type2": "NULL",
                                    "Count": "1"
                                },
                                {
                                    "Ability": "Reckless",
                                    "Generation": "Gen1",
                                    "Type1": "Fight",
                                    "Type2": "NULL",
                                    "Count": "1"
                                },
                                {
                                    "Ability": "Reckless",
                                    "Generation": "Gen1",
                                    "Type1": "Ground",
                                    "Type2": "Rock",
                                    "Count": "2"
                                },
                                {
                                    "Ability": "Regenerator",
                                    "Generation": "Gen1",
                                    "Type1": "Grass",
                                    "Type2": "NULL",
                                    "Count": "1"
                                },
                                {
                                    "Ability": "Regenerator",
                                    "Generation": "Gen1",
                                    "Type1": "Water",
                                    "Type2": "Psychic",
                                    "Count": "2"
                                },
                                {
                                    "Ability": "Regenerator",
                                    "Generation": "Gen2",
                                    "Type1": "Fire",
                                    "Type2": "Flying",
                                    "Count": "1"
                                },
                                {
                                    "Ability": "Regenerator",
                                    "Generation": "Gen2",
                                    "Type1": "Water",
                                    "Type2": "Psychic",
                                    "Count": "1"
                                },
                                {
                                    "Ability": "Regenerator",
                                    "Generation": "Gen2",
                                    "Type1": "Water",
                                    "Type2": "Rock",
                                    "Count": "1"
                                },
                                {
                                    "Ability": "Rivalry",
                                    "Generation": "Gen1",
                                    "Type1": "Ground",
                                    "Type2": "Poison Point",
                                    "Count": "2"
                                },
                                {
                                    "Ability": "Rivalry",
                                    "Generation": "Gen1",
                                    "Type1": "Poison",
                                    "Type2": "NULL",
                                    "Count": "4"
                                },
                                {
                                    "Ability": "Rivalry",
                                    "Generation": "Gen1",
                                    "Type1": "Poison",
                                    "Type2": "Ground",
                                    "Count": "1"
                                },
                                {
                                    "Ability": "Rivalry",
                                    "Generation": "Gen3",
                                    "Type1": "Bug",
                                    "Type2": "Flying",
                                    "Count": "1"
                                },
                                {
                                    "Ability": "Rock Head",
                                    "Generation": "Gen1",
                                    "Type1": "Ground",
                                    "Type2": "NULL",
                                    "Count": "2"
                                },
                                {
                                    "Ability": "Rock Head",
                                    "Generation": "Gen1",
                                    "Type1": "Ground",
                                    "Type2": "Rock",
                                    "Count": "2"
                                },
                                {
                                    "Ability": "Rock Head",
                                    "Generation": "Gen1",
                                    "Type1": "Rock",
                                    "Type2": "Flying",
                                    "Count": "1"
                                },
                                {
                                    "Ability": "Rock Head",
                                    "Generation": "Gen1",
                                    "Type1": "Rock",
                                    "Type2": "Ground",
                                    "Count": "4"
                                },
                                {
                                    "Ability": "Rock Head",
                                    "Generation": "Gen2",
                                    "Type1": "Rock",
                                    "Type2": "NULL",
                                    "Count": "1"
                                },
                                {
                                    "Ability": "Rock Head",
                                    "Generation": "Gen2",
                                    "Type1": "Steel",
                                    "Type2": "Ground",
                                    "Count": "1"
                                },
                                {
                                    "Ability": "Rock Head",
                                    "Generation": "Gen3",
                                    "Type1": "Dragon",
                                    "Type2": "NULL",
                                    "Count": "2"
                                },
                                {
                                    "Ability": "Rock Head",
                                    "Generation": "Gen3",
                                    "Type1": "Steel",
                                    "Type2": "Rock",
                                    "Count": "3"
                                },
                                {
                                    "Ability": "Rock Head",
                                    "Generation": "Gen3",
                                    "Type1": "Water",
                                    "Type2": "Rock",
                                    "Count": "1"
                                },
                                {
                                    "Ability": "Rough Skin",
                                    "Generation": "Gen3",
                                    "Type1": "Water",
                                    "Type2": "Dark",
                                    "Count": "2"
                                },
                                {
                                    "Ability": "Run Away",
                                    "Generation": "Gen1",
                                    "Type1": "Bug",
                                    "Type2": "NULL",
                                    "Count": "1"
                                },
                                {
                                    "Ability": "Run Away",
                                    "Generation": "Gen1",
                                    "Type1": "Bug",
                                    "Type2": "Poison",
                                    "Count": "2"
                                },
                                {
                                    "Ability": "Run Away",
                                    "Generation": "Gen1",
                                    "Type1": "Fire",
                                    "Type2": "NULL",
                                    "Count": "2"
                                },
                                {
                                    "Ability": "Run Away",
                                    "Generation": "Gen1",
                                    "Type1": "Grass",
                                    "Type2": "Poison",
                                    "Count": "1"
                                },
                                {
                                    "Ability": "Run Away",
                                    "Generation": "Gen1",
                                    "Type1": "Normal",
                                    "Type2": "NULL",
                                    "Count": "3"
                                },
                                {
                                    "Ability": "Run Away",
                                    "Generation": "Gen1",
                                    "Type1": "Normal",
                                    "Type2": "Flying",
                                    "Count": "2"
                                },
                                {
                                    "Ability": "Run Away",
                                    "Generation": "Gen2",
                                    "Type1": "Fairy",
                                    "Type2": "NULL",
                                    "Count": "1"
                                },
                                {
                                    "Ability": "Run Away",
                                    "Generation": "Gen2",
                                    "Type1": "Normal",
                                    "Type2": "NULL",
                                    "Count": "4"
                                },
                                {
                                    "Ability": "Run Away",
                                    "Generation": "Gen3",
                                    "Type1": "Bug",
                                    "Type2": "NULL",
                                    "Count": "1"
                                },
                                {
                                    "Ability": "Run Away",
                                    "Generation": "Gen3",
                                    "Type1": "Bug",
                                    "Type2": "Ground",
                                    "Count": "1"
                                },
                                {
                                    "Ability": "Run Away",
                                    "Generation": "Gen3",
                                    "Type1": "Dark",
                                    "Type2": "NULL",
                                    "Count": "1"
                                },
                                {
                                    "Ability": "Sand Force",
                                    "Generation": "Gen1",
                                    "Type1": "Ground",
                                    "Type2": "NULL",
                                    "Count": "2"
                                },
                                {
                                    "Ability": "Sand Force",
                                    "Generation": "Gen3",
                                    "Type1": "Rock",
                                    "Type2": "NULL",
                                    "Count": "1"
                                },
                                {
                                    "Ability": "Sand Rush",
                                    "Generation": "Gen1",
                                    "Type1": "Ground",
                                    "Type2": "NULL",
                                    "Count": "2"
                                },
                                {
                                    "Ability": "Sand Stream",
                                    "Generation": "Gen2",
                                    "Type1": "Rock",
                                    "Type2": "Dark",
                                    "Count": "1"
                                },
                                {
                                    "Ability": "Sand Veil",
                                    "Generation": "Gen1",
                                    "Type1": "Ground",
                                    "Type2": "NULL",
                                    "Count": "4"
                                },
                                {
                                    "Ability": "Sand Veil",
                                    "Generation": "Gen1",
                                    "Type1": "Rock",
                                    "Type2": "Ground",
                                    "Count": "3"
                                },
                                {
                                    "Ability": "Sand Veil",
                                    "Generation": "Gen2",
                                    "Type1": "Ground",
                                    "Type2": "NULL",
                                    "Count": "2"
                                },
                                {
                                    "Ability": "Sand Veil",
                                    "Generation": "Gen2",
                                    "Type1": "Ground",
                                    "Type2": "Flying",
                                    "Count": "1"
                                },
                                {
                                    "Ability": "Sand Veil",
                                    "Generation": "Gen2",
                                    "Type1": "Rock",
                                    "Type2": "Ground",
                                    "Count": "1"
                                },
                                {
                                    "Ability": "Sand Veil",
                                    "Generation": "Gen3",
                                    "Type1": "Grass",
                                    "Type2": "NULL",
                                    "Count": "1"
                                },
                                {
                                    "Ability": "Sand Veil",
                                    "Generation": "Gen3",
                                    "Type1": "Grass",
                                    "Type2": "Dark",
                                    "Count": "1"
                                },
                                {
                                    "Ability": "Sap Sipper",
                                    "Generation": "Gen2",
                                    "Type1": "Normal",
                                    "Type2": "NULL",
                                    "Count": "2"
                                },
                                {
                                    "Ability": "Sap Sipper",
                                    "Generation": "Gen2",
                                    "Type1": "Normal",
                                    "Type2": "Psychic",
                                    "Count": "1"
                                },
                                {
                                    "Ability": "Sap Sipper",
                                    "Generation": "Gen2",
                                    "Type1": "Water",
                                    "Type2": "Fairy",
                                    "Count": "2"
                                },
                                {
                                    "Ability": "Sap Sipper",
                                    "Generation": "Gen3",
                                    "Type1": "Normal",
                                    "Type2": "Fairy",
                                    "Count": "1"
                                },
                                {
                                    "Ability": "Scrappy",
                                    "Generation": "Gen1",
                                    "Type1": "Normal",
                                    "Type2": "NULL",
                                    "Count": "1"
                                },
                                {
                                    "Ability": "Scrappy",
                                    "Generation": "Gen2",
                                    "Type1": "Normal",
                                    "Type2": "NULL",
                                    "Count": "1"
                                },
                                {
                                    "Ability": "Scrappy",
                                    "Generation": "Gen3",
                                    "Type1": "Normal",
                                    "Type2": "NULL",
                                    "Count": "2"
                                },
                                {
                                    "Ability": "Scrappy",
                                    "Generation": "Gen3",
                                    "Type1": "Normal",
                                    "Type2": "Flying",
                                    "Count": "2"
                                },
                                {
                                    "Ability": "Serene Grace",
                                    "Generation": "Gen1",
                                    "Type1": "Normal",
                                    "Type2": "NULL",
                                    "Count": "1"
                                },
                                {
                                    "Ability": "Serene Grace",
                                    "Generation": "Gen2",
                                    "Type1": "Fairy",
                                    "Type2": "NULL",
                                    "Count": "1"
                                },
                                {
                                    "Ability": "Serene Grace",
                                    "Generation": "Gen2",
                                    "Type1": "Fairy",
                                    "Type2": "Flying",
                                    "Count": "1"
                                },
                                {
                                    "Ability": "Serene Grace",
                                    "Generation": "Gen2",
                                    "Type1": "Normal",
                                    "Type2": "NULL",
                                    "Count": "2"
                                },
                                {
                                    "Ability": "Serene Grace",
                                    "Generation": "Gen3",
                                    "Type1": "Steel",
                                    "Type2": "Psychic",
                                    "Count": "1"
                                },
                                {
                                    "Ability": "Shadow Tag",
                                    "Generation": "Gen2",
                                    "Type1": "Psychic",
                                    "Type2": "NULL",
                                    "Count": "1"
                                },
                                {
                                    "Ability": "Shadow Tag",
                                    "Generation": "Gen3",
                                    "Type1": "Psychic",
                                    "Type2": "NULL",
                                    "Count": "1"
                                },
                                {
                                    "Ability": "Shed Skin",
                                    "Generation": "Gen1",
                                    "Type1": "Bug",
                                    "Type2": "NULL",
                                    "Count": "1"
                                },
                                {
                                    "Ability": "Shed Skin",
                                    "Generation": "Gen1",
                                    "Type1": "Bug",
                                    "Type2": "Poison",
                                    "Count": "1"
                                },
                                {
                                    "Ability": "Shed Skin",
                                    "Generation": "Gen1",
                                    "Type1": "Dragon",
                                    "Type2": "NULL",
                                    "Count": "2"
                                },
                                {
                                    "Ability": "Shed Skin",
                                    "Generation": "Gen1",
                                    "Type1": "Poison",
                                    "Type2": "NULL",
                                    "Count": "2"
                                },
                                {
                                    "Ability": "Shed Skin",
                                    "Generation": "Gen2",
                                    "Type1": "Rock",
                                    "Type2": "Ground",
                                    "Count": "1"
                                },
                                {
                                    "Ability": "Shed Skin",
                                    "Generation": "Gen3",
                                    "Type1": "Bug",
                                    "Type2": "NULL",
                                    "Count": "2"
                                },
                                {
                                    "Ability": "Shed Skin",
                                    "Generation": "Gen3",
                                    "Type1": "Poison",
                                    "Type2": "NULL",
                                    "Count": "1"
                                },
                                {
                                    "Ability": "Sheer Force",
                                    "Generation": "Gen1",
                                    "Type1": "Ground",
                                    "Type2": "Poison Point",
                                    "Count": "1"
                                },
                                {
                                    "Ability": "Sheer Force",
                                    "Generation": "Gen1",
                                    "Type1": "Normal",
                                    "Type2": "NULL",
                                    "Count": "1"
                                },
                                {
                                    "Ability": "Sheer Force",
                                    "Generation": "Gen1",
                                    "Type1": "Poison",
                                    "Type2": "Ground",
                                    "Count": "1"
                                },
                                {
                                    "Ability": "Sheer Force",
                                    "Generation": "Gen1",
                                    "Type1": "Water",
                                    "Type2": "NULL",
                                    "Count": "2"
                                },
                                {
                                    "Ability": "Sheer Force",
                                    "Generation": "Gen2",
                                    "Type1": "Steel",
                                    "Type2": "Ground",
                                    "Count": "1"
                                },
                                {
                                    "Ability": "Sheer Force",
                                    "Generation": "Gen2",
                                    "Type1": "Water",
                                    "Type2": "NULL",
                                    "Count": "3"
                                },
                                {
                                    "Ability": "Sheer Force",
                                    "Generation": "Gen3",
                                    "Type1": "Dragon",
                                    "Type2": "NULL",
                                    "Count": "1"
                                },
                                {
                                    "Ability": "Sheer Force",
                                    "Generation": "Gen3",
                                    "Type1": "Fighting",
                                    "Type2": "NULL",
                                    "Count": "2"
                                },
                                {
                                    "Ability": "Sheer Force",
                                    "Generation": "Gen3",
                                    "Type1": "Ground",
                                    "Type2": "NULL",
                                    "Count": "1"
                                },
                                {
                                    "Ability": "Sheer Force",
                                    "Generation": "Gen3",
                                    "Type1": "Steel",
                                    "Type2": "Fairy",
                                    "Count": "1"
                                },
                                {
                                    "Ability": "Shell Armor",
                                    "Generation": "Gen1",
                                    "Type1": "Rock",
                                    "Type2": "Water",
                                    "Count": "2"
                                },
                                {
                                    "Ability": "Shell Armor",
                                    "Generation": "Gen1",
                                    "Type1": "Water",
                                    "Type2": "NULL",
                                    "Count": "3"
                                },
                                {
                                    "Ability": "Shell Armor",
                                    "Generation": "Gen1",
                                    "Type1": "Water",
                                    "Type2": "Ice",
                                    "Count": "2"
                                },
                                {
                                    "Ability": "Shell Armor",
                                    "Generation": "Gen3",
                                    "Type1": "Fire",
                                    "Type2": "NULL",
                                    "Count": "1"
                                },
                                {
                                    "Ability": "Shell Armor",
                                    "Generation": "Gen3",
                                    "Type1": "Water",
                                    "Type2": "NULL",
                                    "Count": "2"
                                },
                                {
                                    "Ability": "Shell Armor",
                                    "Generation": "Gen3",
                                    "Type1": "Water",
                                    "Type2": "Dark",
                                    "Count": "1"
                                },
                                {
                                    "Ability": "Shield Dust",
                                    "Generation": "Gen1",
                                    "Type1": "Bug",
                                    "Type2": "NULL",
                                    "Count": "1"
                                },
                                {
                                    "Ability": "Shield Dust",
                                    "Generation": "Gen1",
                                    "Type1": "Bug",
                                    "Type2": "Poison",
                                    "Count": "2"
                                },
                                {
                                    "Ability": "Shield Dust",
                                    "Generation": "Gen3",
                                    "Type1": "Bug",
                                    "Type2": "NULL",
                                    "Count": "1"
                                },
                                {
                                    "Ability": "Shield Dust",
                                    "Generation": "Gen3",
                                    "Type1": "Bug",
                                    "Type2": "Poison",
                                    "Count": "1"
                                },
                                {
                                    "Ability": "Simple",
                                    "Generation": "Gen3",
                                    "Type1": "Fire",
                                    "Type2": "Ground",
                                    "Count": "1"
                                },
                                {
                                    "Ability": "Skill Link",
                                    "Generation": "Gen1",
                                    "Type1": "Water",
                                    "Type2": "NULL",
                                    "Count": "1"
                                },
                                {
                                    "Ability": "Skill Link",
                                    "Generation": "Gen1",
                                    "Type1": "Water",
                                    "Type2": "Ice",
                                    "Count": "1"
                                },
                                {
                                    "Ability": "Skill Link",
                                    "Generation": "Gen2",
                                    "Type1": "Normal",
                                    "Type2": "NULL",
                                    "Count": "1"
                                },
                                {
                                    "Ability": "Sniper",
                                    "Generation": "Gen1",
                                    "Type1": "Bug",
                                    "Type2": "Poison",
                                    "Count": "1"
                                },
                                {
                                    "Ability": "Sniper",
                                    "Generation": "Gen1",
                                    "Type1": "Normal",
                                    "Type2": "Flying",
                                    "Count": "2"
                                },
                                {
                                    "Ability": "Sniper",
                                    "Generation": "Gen1",
                                    "Type1": "Water",
                                    "Type2": "NULL",
                                    "Count": "2"
                                },
                                {
                                    "Ability": "Sniper",
                                    "Generation": "Gen2",
                                    "Type1": "Bug",
                                    "Type2": "Poison",
                                    "Count": "2"
                                },
                                {
                                    "Ability": "Sniper",
                                    "Generation": "Gen2",
                                    "Type1": "Water",
                                    "Type2": "NULL",
                                    "Count": "2"
                                },
                                {
                                    "Ability": "Sniper",
                                    "Generation": "Gen2",
                                    "Type1": "Water",
                                    "Type2": "Dragon",
                                    "Count": "1"
                                },
                                {
                                    "Ability": "Snow Cloak",
                                    "Generation": "Gen1",
                                    "Type1": "Ice",
                                    "Type2": "Flying",
                                    "Count": "1"
                                },
                                {
                                    "Ability": "Snow Cloak",
                                    "Generation": "Gen2",
                                    "Type1": "Ice",
                                    "Type2": "Ground",
                                    "Count": "2"
                                },
                                {
                                    "Ability": "Solar Power",
                                    "Generation": "Gen1",
                                    "Type1": "Fire",
                                    "Type2": "NULL",
                                    "Count": "2"
                                },
                                {
                                    "Ability": "Solar Power",
                                    "Generation": "Gen1",
                                    "Type1": "Fire",
                                    "Type2": "Flying",
                                    "Count": "1"
                                },
                                {
                                    "Ability": "Solar Power",
                                    "Generation": "Gen2",
                                    "Type1": "Grass",
                                    "Type2": "NULL",
                                    "Count": "2"
                                },
                                {
                                    "Ability": "Solar Power",
                                    "Generation": "Gen3",
                                    "Type1": "Grass",
                                    "Type2": "Flying",
                                    "Count": "1"
                                },
                                {
                                    "Ability": "Solid Rock",
                                    "Generation": "Gen3",
                                    "Type1": "Fire",
                                    "Type2": "Ground",
                                    "Count": "1"
                                },
                                {
                                    "Ability": "Soundproof",
                                    "Generation": "Gen1",
                                    "Type1": "Electric",
                                    "Type2": "NULL",
                                    "Count": "2"
                                },
                                {
                                    "Ability": "Soundproof",
                                    "Generation": "Gen1",
                                    "Type1": "Psychic",
                                    "Type2": "Fairy",
                                    "Count": "1"
                                },
                                {
                                    "Ability": "Soundproof",
                                    "Generation": "Gen3",
                                    "Type1": "Normal",
                                    "Type2": "NULL",
                                    "Count": "3"
                                },
                                {
                                    "Ability": "Speed Boost",
                                    "Generation": "Gen2",
                                    "Type1": "Bug",
                                    "Type2": "Flying",
                                    "Count": "1"
                                },
                                {
                                    "Ability": "Speed Boost",
                                    "Generation": "Gen3",
                                    "Type1": "Bug",
                                    "Type2": "Flying",
                                    "Count": "1"
                                },
                                {
                                    "Ability": "Speed Boost",
                                    "Generation": "Gen3",
                                    "Type1": "Fire",
                                    "Type2": "NULL",
                                    "Count": "3"
                                },
                                {
                                    "Ability": "Speed Boost",
                                    "Generation": "Gen3",
                                    "Type1": "Water",
                                    "Type2": "Dark",
                                    "Count": "2"
                                },
                                {
                                    "Ability": "Stall",
                                    "Generation": "Gen3",
                                    "Type1": "Dark",
                                    "Type2": "Ghost",
                                    "Count": "1"
                                },
                                {
                                    "Ability": "Static",
                                    "Generation": "Gen1",
                                    "Type1": "Electric",
                                    "Type2": "NULL",
                                    "Count": "5"
                                },
                                {
                                    "Ability": "Static",
                                    "Generation": "Gen1",
                                    "Type1": "Electric",
                                    "Type2": "Flying",
                                    "Count": "1"
                                },
                                {
                                    "Ability": "Static",
                                    "Generation": "Gen2",
                                    "Type1": "Electric",
                                    "Type2": "NULL",
                                    "Count": "5"
                                },
                                {
                                    "Ability": "Static",
                                    "Generation": "Gen3",
                                    "Type1": "Electric",
                                    "Type2": "NULL",
                                    "Count": "2"
                                },
                                {
                                    "Ability": "Steadfast",
                                    "Generation": "Gen1",
                                    "Type1": "Bug",
                                    "Type2": "Flying",
                                    "Count": "1"
                                },
                                {
                                    "Ability": "Steadfast",
                                    "Generation": "Gen1",
                                    "Type1": "Fighting",
                                    "Type2": "NULL",
                                    "Count": "3"
                                },
                                {
                                    "Ability": "Steadfast",
                                    "Generation": "Gen2",
                                    "Type1": "Fighting",
                                    "Type2": "NULL",
                                    "Count": "2"
                                },
                                {
                                    "Ability": "Stench",
                                    "Generation": "Gen1",
                                    "Type1": "Grass",
                                    "Type2": "Poison",
                                    "Count": "1"
                                },
                                {
                                    "Ability": "Stench",
                                    "Generation": "Gen1",
                                    "Type1": "Poison",
                                    "Type2": "NULL",
                                    "Count": "4"
                                },
                                {
                                    "Ability": "Sticky Hold",
                                    "Generation": "Gen1",
                                    "Type1": "Poison",
                                    "Type2": "NULL",
                                    "Count": "2"
                                },
                                {
                                    "Ability": "Sticky Hold",
                                    "Generation": "Gen3",
                                    "Type1": "Poison",
                                    "Type2": "NULL",
                                    "Count": "2"
                                },
                                {
                                    "Ability": "Storm Drain",
                                    "Generation": "Gen3",
                                    "Type1": "Rock",
                                    "Type2": "Grass",
                                    "Count": "2"
                                },
                                {
                                    "Ability": "Sturdy",
                                    "Generation": "Gen1",
                                    "Type1": "Electric",
                                    "Type2": "Steel",
                                    "Count": "2"
                                },
                                {
                                    "Ability": "Sturdy",
                                    "Generation": "Gen1",
                                    "Type1": "Rock",
                                    "Type2": "Ground",
                                    "Count": "4"
                                },
                                {
                                    "Ability": "Sturdy",
                                    "Generation": "Gen2",
                                    "Type1": "Bug",
                                    "Type2": "NULL",
                                    "Count": "1"
                                },
                                {
                                    "Ability": "Sturdy",
                                    "Generation": "Gen2",
                                    "Type1": "Bug",
                                    "Type2": "Rock",
                                    "Count": "1"
                                },
                                {
                                    "Ability": "Sturdy",
                                    "Generation": "Gen2",
                                    "Type1": "Bug",
                                    "Type2": "Steel",
                                    "Count": "1"
                                },
                                {
                                    "Ability": "Sturdy",
                                    "Generation": "Gen2",
                                    "Type1": "Ground",
                                    "Type2": "NULL",
                                    "Count": "1"
                                },
                                {
                                    "Ability": "Sturdy",
                                    "Generation": "Gen2",
                                    "Type1": "Rock",
                                    "Type2": "NULL",
                                    "Count": "1"
                                },
                                {
                                    "Ability": "Sturdy",
                                    "Generation": "Gen2",
                                    "Type1": "Steel",
                                    "Type2": "Flying",
                                    "Count": "1"
                                },
                                {
                                    "Ability": "Sturdy",
                                    "Generation": "Gen2",
                                    "Type1": "Steel",
                                    "Type2": "Ground",
                                    "Count": "1"
                                },
                                {
                                    "Ability": "Sturdy",
                                    "Generation": "Gen3",
                                    "Type1": "Rock",
                                    "Type2": "NULL",
                                    "Count": "2"
                                },
                                {
                                    "Ability": "Sturdy",
                                    "Generation": "Gen3",
                                    "Type1": "Steel",
                                    "Type2": "Rock",
                                    "Count": "3"
                                },
                                {
                                    "Ability": "Sturdy",
                                    "Generation": "Gen3",
                                    "Type1": "Water",
                                    "Type2": "Rock",
                                    "Count": "1"
                                },
                                {
                                    "Ability": "Suction Cups",
                                    "Generation": "Gen2",
                                    "Type1": "Water",
                                    "Type2": "NULL",
                                    "Count": "1"
                                },
                                {
                                    "Ability": "Suction Cups",
                                    "Generation": "Gen3",
                                    "Type1": "Rock",
                                    "Type2": "Grass",
                                    "Count": "2"
                                },
                                {
                                    "Ability": "Super Luck",
                                    "Generation": "Gen2",
                                    "Type1": "Dark",
                                    "Type2": "Flying",
                                    "Count": "1"
                                },
                                {
                                    "Ability": "Super Luck",
                                    "Generation": "Gen2",
                                    "Type1": "Fairy",
                                    "Type2": "NULL",
                                    "Count": "1"
                                },
                                {
                                    "Ability": "Super Luck",
                                    "Generation": "Gen2",
                                    "Type1": "Fairy",
                                    "Type2": "Flying",
                                    "Count": "1"
                                },
                                {
                                    "Ability": "Super Luck",
                                    "Generation": "Gen3",
                                    "Type1": "Dark",
                                    "Type2": "NULL",
                                    "Count": "1"
                                },
                                {
                                    "Ability": "Swarm",
                                    "Generation": "Gen1",
                                    "Type1": "Bug",
                                    "Type2": "Flying",
                                    "Count": "1"
                                },
                                {
                                    "Ability": "Swarm",
                                    "Generation": "Gen1",
                                    "Type1": "Bug",
                                    "Type2": "Poison",
                                    "Count": "1"
                                },
                                {
                                    "Ability": "Swarm",
                                    "Generation": "Gen2",
                                    "Type1": "Bug",
                                    "Type2": "Fighting",
                                    "Count": "1"
                                },
                                {
                                    "Ability": "Swarm",
                                    "Generation": "Gen2",
                                    "Type1": "Bug",
                                    "Type2": "Flying",
                                    "Count": "2"
                                },
                                {
                                    "Ability": "Swarm",
                                    "Generation": "Gen2",
                                    "Type1": "Bug",
                                    "Type2": "Poison",
                                    "Count": "2"
                                },
                                {
                                    "Ability": "Swarm",
                                    "Generation": "Gen2",
                                    "Type1": "Bug",
                                    "Type2": "Steel",
                                    "Count": "1"
                                },
                                {
                                    "Ability": "Swarm",
                                    "Generation": "Gen3",
                                    "Type1": "Bug",
                                    "Type2": "NULL",
                                    "Count": "1"
                                },
                                {
                                    "Ability": "Swarm",
                                    "Generation": "Gen3",
                                    "Type1": "Bug",
                                    "Type2": "Flying",
                                    "Count": "1"
                                },
                                {
                                    "Ability": "Swift Swim",
                                    "Generation": "Gen1",
                                    "Type1": "Rock",
                                    "Type2": "Water",
                                    "Count": "4"
                                },
                                {
                                    "Ability": "Swift Swim",
                                    "Generation": "Gen1",
                                    "Type1": "Water",
                                    "Type2": "NULL",
                                    "Count": "8"
                                },
                                {
                                    "Ability": "Swift Swim",
                                    "Generation": "Gen1",
                                    "Type1": "Water",
                                    "Type2": "Fighting",
                                    "Count": "1"
                                },
                                {
                                    "Ability": "Swift Swim",
                                    "Generation": "Gen2",
                                    "Type1": "Water",
                                    "Type2": "Dragon",
                                    "Count": "1"
                                },
                                {
                                    "Ability": "Swift Swim",
                                    "Generation": "Gen2",
                                    "Type1": "Water",
                                    "Type2": "Flying",
                                    "Count": "1"
                                },
                                {
                                    "Ability": "Swift Swim",
                                    "Generation": "Gen2",
                                    "Type1": "Water",
                                    "Type2": "Poison",
                                    "Count": "1"
                                },
                                {
                                    "Ability": "Swift Swim",
                                    "Generation": "Gen3",
                                    "Type1": "Bug",
                                    "Type2": "Water",
                                    "Count": "1"
                                },
                                {
                                    "Ability": "Swift Swim",
                                    "Generation": "Gen3",
                                    "Type1": "Rock",
                                    "Type2": "Bug",
                                    "Count": "2"
                                },
                                {
                                    "Ability": "Swift Swim",
                                    "Generation": "Gen3",
                                    "Type1": "Water",
                                    "Type2": "NULL",
                                    "Count": "4"
                                },
                                {
                                    "Ability": "Swift Swim",
                                    "Generation": "Gen3",
                                    "Type1": "Water",
                                    "Type2": "Grass",
                                    "Count": "3"
                                },
                                {
                                    "Ability": "Swift Swim",
                                    "Generation": "Gen3",
                                    "Type1": "Water",
                                    "Type2": "Rock",
                                    "Count": "1"
                                },
                                {
                                    "Ability": "Synchronize",
                                    "Generation": "Gen1",
                                    "Type1": "Psychic",
                                    "Type2": "NULL",
                                    "Count": "4"
                                },
                                {
                                    "Ability": "Synchronize",
                                    "Generation": "Gen2",
                                    "Type1": "Dark",
                                    "Type2": "NULL",
                                    "Count": "1"
                                },
                                {
                                    "Ability": "Synchronize",
                                    "Generation": "Gen2",
                                    "Type1": "Psychic",
                                    "Type2": "NULL",
                                    "Count": "1"
                                },
                                {
                                    "Ability": "Synchronize",
                                    "Generation": "Gen2",
                                    "Type1": "Psychic",
                                    "Type2": "Flying",
                                    "Count": "2"
                                },
                                {
                                    "Ability": "Synchronize",
                                    "Generation": "Gen3",
                                    "Type1": "Psychic",
                                    "Type2": "Fairy",
                                    "Count": "3"
                                },
                                {
                                    "Ability": "Tangled Feet",
                                    "Generation": "Gen1",
                                    "Type1": "Normal",
                                    "Type2": "Flying",
                                    "Count": "5"
                                },
                                {
                                    "Ability": "Tangled Feet",
                                    "Generation": "Gen3",
                                    "Type1": "Normal",
                                    "Type2": "NULL",
                                    "Count": "1"
                                },
                                {
                                    "Ability": "Technician",
                                    "Generation": "Gen1",
                                    "Type1": "Bug",
                                    "Type2": "Flying",
                                    "Count": "1"
                                },
                                {
                                    "Ability": "Technician",
                                    "Generation": "Gen1",
                                    "Type1": "Normal",
                                    "Type2": "NULL",
                                    "Count": "2"
                                },
                                {
                                    "Ability": "Technician",
                                    "Generation": "Gen1",
                                    "Type1": "Psychic",
                                    "Type2": "Fairy",
                                    "Count": "1"
                                },
                                {
                                    "Ability": "Technician",
                                    "Generation": "Gen2",
                                    "Type1": "Bug",
                                    "Type2": "Steel",
                                    "Count": "1"
                                },
                                {
                                    "Ability": "Technician",
                                    "Generation": "Gen2",
                                    "Type1": "Fighting",
                                    "Type2": "NULL",
                                    "Count": "1"
                                },
                                {
                                    "Ability": "Technician",
                                    "Generation": "Gen2",
                                    "Type1": "Normal",
                                    "Type2": "NULL",
                                    "Count": "1"
                                },
                                {
                                    "Ability": "Technician",
                                    "Generation": "Gen3",
                                    "Type1": "Grass",
                                    "Type2": "Fighting",
                                    "Count": "1"
                                },
                                {
                                    "Ability": "Telepathy",
                                    "Generation": "Gen2",
                                    "Type1": "Psychic",
                                    "Type2": "NULL",
                                    "Count": "1"
                                },
                                {
                                    "Ability": "Telepathy",
                                    "Generation": "Gen3",
                                    "Type1": "Fighting",
                                    "Type2": "Psychic",
                                    "Count": "2"
                                },
                                {
                                    "Ability": "Telepathy",
                                    "Generation": "Gen3",
                                    "Type1": "Psychic",
                                    "Type2": "NULL",
                                    "Count": "1"
                                },
                                {
                                    "Ability": "Telepathy",
                                    "Generation": "Gen3",
                                    "Type1": "Psychic",
                                    "Type2": "Fairy",
                                    "Count": "3"
                                },
                                {
                                    "Ability": "Thick Fat",
                                    "Generation": "Gen1",
                                    "Type1": "Normal",
                                    "Type2": "NULL",
                                    "Count": "1"
                                },
                                {
                                    "Ability": "Thick Fat",
                                    "Generation": "Gen1",
                                    "Type1": "Water",
                                    "Type2": "NULL",
                                    "Count": "1"
                                },
                                {
                                    "Ability": "Thick Fat",
                                    "Generation": "Gen1",
                                    "Type1": "Water",
                                    "Type2": "Ice",
                                    "Count": "1"
                                },
                                {
                                    "Ability": "Thick Fat",
                                    "Generation": "Gen2",
                                    "Type1": "Ice",
                                    "Type2": "Ground",
                                    "Count": "2"
                                },
                                {
                                    "Ability": "Thick Fat",
                                    "Generation": "Gen2",
                                    "Type1": "Normal",
                                    "Type2": "NULL",
                                    "Count": "1"
                                },
                                {
                                    "Ability": "Thick Fat",
                                    "Generation": "Gen2",
                                    "Type1": "Water",
                                    "Type2": "Fairy",
                                    "Count": "2"
                                },
                                {
                                    "Ability": "Thick Fat",
                                    "Generation": "Gen3",
                                    "Type1": "Fighting",
                                    "Type2": "NULL",
                                    "Count": "2"
                                },
                                {
                                    "Ability": "Thick Fat",
                                    "Generation": "Gen3",
                                    "Type1": "Ice",
                                    "Type2": "Water",
                                    "Count": "3"
                                },
                                {
                                    "Ability": "Thick Fat",
                                    "Generation": "Gen3",
                                    "Type1": "Normal",
                                    "Type2": "Fairy",
                                    "Count": "1"
                                },
                                {
                                    "Ability": "Thick Fat",
                                    "Generation": "Gen3",
                                    "Type1": "Psychic",
                                    "Type2": "NULL",
                                    "Count": "2"
                                },
                                {
                                    "Ability": "Tinted Lens",
                                    "Generation": "Gen1",
                                    "Type1": "Bug",
                                    "Type2": "Flying",
                                    "Count": "1"
                                },
                                {
                                    "Ability": "Tinted Lens",
                                    "Generation": "Gen1",
                                    "Type1": "Bug",
                                    "Type2": "Poison",
                                    "Count": "2"
                                },
                                {
                                    "Ability": "Tinted Lens",
                                    "Generation": "Gen2",
                                    "Type1": "Normal",
                                    "Type2": "Flying",
                                    "Count": "2"
                                },
                                {
                                    "Ability": "Tinted Lens",
                                    "Generation": "Gen3",
                                    "Type1": "Bug",
                                    "Type2": "NULL",
                                    "Count": "1"
                                },
                                {
                                    "Ability": "Torrent",
                                    "Generation": "Gen1",
                                    "Type1": "Water",
                                    "Type2": "NULL",
                                    "Count": "3"
                                },
                                {
                                    "Ability": "Torrent",
                                    "Generation": "Gen2",
                                    "Type1": "Water",
                                    "Type2": "NULL",
                                    "Count": "3"
                                },
                                {
                                    "Ability": "Torrent",
                                    "Generation": "Gen3",
                                    "Type1": "Water",
                                    "Type2": "NULL",
                                    "Count": "3"
                                },
                                {
                                    "Ability": "Toxic Boost",
                                    "Generation": "Gen3",
                                    "Type1": "Normal",
                                    "Type2": "NULL",
                                    "Count": "1"
                                },
                                {
                                    "Ability": "Trace",
                                    "Generation": "Gen1",
                                    "Type1": "Normal",
                                    "Type2": "NULL",
                                    "Count": "1"
                                },
                                {
                                    "Ability": "Trace",
                                    "Generation": "Gen2",
                                    "Type1": "Normal",
                                    "Type2": "NULL",
                                    "Count": "1"
                                },
                                {
                                    "Ability": "Trace",
                                    "Generation": "Gen3",
                                    "Type1": "Psychic",
                                    "Type2": "Fairy",
                                    "Count": "3"
                                },
                                {
                                    "Ability": "Truant",
                                    "Generation": "Gen3",
                                    "Type1": "Normal",
                                    "Type2": "NULL",
                                    "Count": "2"
                                },
                                {
                                    "Ability": "Unaware",
                                    "Generation": "Gen2",
                                    "Type1": "Water",
                                    "Type2": "Ground",
                                    "Count": "2"
                                },
                                {
                                    "Ability": "Unburden",
                                    "Generation": "Gen1",
                                    "Type1": "Fight",
                                    "Type2": "NULL",
                                    "Count": "1"
                                },
                                {
                                    "Ability": "Unburden",
                                    "Generation": "Gen3",
                                    "Type1": "Grass",
                                    "Type2": "NULL",
                                    "Count": "3"
                                },
                                {
                                    "Ability": "Unnerve",
                                    "Generation": "Gen1",
                                    "Type1": "Normal",
                                    "Type2": "NULL",
                                    "Count": "2"
                                },
                                {
                                    "Ability": "Unnerve",
                                    "Generation": "Gen1",
                                    "Type1": "Poison",
                                    "Type2": "NULL",
                                    "Count": "2"
                                },
                                {
                                    "Ability": "Unnerve",
                                    "Generation": "Gen1",
                                    "Type1": "Psychic",
                                    "Type2": "NULL",
                                    "Count": "1"
                                },
                                {
                                    "Ability": "Unnerve",
                                    "Generation": "Gen1",
                                    "Type1": "Rock",
                                    "Type2": "Flying",
                                    "Count": "1"
                                },
                                {
                                    "Ability": "Unnerve",
                                    "Generation": "Gen2",
                                    "Type1": "Dark",
                                    "Type2": "Fire",
                                    "Count": "2"
                                },
                                {
                                    "Ability": "Unnerve",
                                    "Generation": "Gen2",
                                    "Type1": "Normal",
                                    "Type2": "NULL",
                                    "Count": "1"
                                },
                                {
                                    "Ability": "Unnerve",
                                    "Generation": "Gen2",
                                    "Type1": "Rock",
                                    "Type2": "Dark",
                                    "Count": "1"
                                },
                                {
                                    "Ability": "Unnerve",
                                    "Generation": "Gen3",
                                    "Type1": "Bug",
                                    "Type2": "Flying",
                                    "Count": "1"
                                },
                                {
                                    "Ability": "Vital Spirit",
                                    "Generation": "Gen1",
                                    "Type1": "Electric",
                                    "Type2": "NULL",
                                    "Count": "1"
                                },
                                {
                                    "Ability": "Vital Spirit",
                                    "Generation": "Gen1",
                                    "Type1": "Fighting",
                                    "Type2": "NULL",
                                    "Count": "2"
                                },
                                {
                                    "Ability": "Vital Spirit",
                                    "Generation": "Gen1",
                                    "Type1": "Fire",
                                    "Type2": "NULL",
                                    "Count": "1"
                                },
                                {
                                    "Ability": "Vital Spirit",
                                    "Generation": "Gen2",
                                    "Type1": "Electric",
                                    "Type2": "NULL",
                                    "Count": "1"
                                },
                                {
                                    "Ability": "Vital Spirit",
                                    "Generation": "Gen2",
                                    "Type1": "Fighting",
                                    "Type2": "NULL",
                                    "Count": "1"
                                },
                                {
                                    "Ability": "Vital Spirit",
                                    "Generation": "Gen2",
                                    "Type1": "Fire",
                                    "Type2": "NULL",
                                    "Count": "1"
                                },
                                {
                                    "Ability": "Vital Spirit",
                                    "Generation": "Gen2",
                                    "Type1": "Ice",
                                    "Type2": "Flying",
                                    "Count": "1"
                                },
                                {
                                    "Ability": "Vital Spirit",
                                    "Generation": "Gen3",
                                    "Type1": "Normal",
                                    "Type2": "NULL",
                                    "Count": "1"
                                },
                                {
                                    "Ability": "Volt Absorb",
                                    "Generation": "Gen1",
                                    "Type1": "Electric",
                                    "Type2": "NULL",
                                    "Count": "1"
                                },
                                {
                                    "Ability": "Volt Absorb",
                                    "Generation": "Gen2",
                                    "Type1": "Water",
                                    "Type2": "Electric",
                                    "Count": "2"
                                },
                                {
                                    "Ability": "Volt Absorb",
                                    "Generation": "Gen3",
                                    "Type1": "Electric",
                                    "Type2": "NULL",
                                    "Count": "1"
                                },
                                {
                                    "Ability": "Water Absorb",
                                    "Generation": "Gen1",
                                    "Type1": "Water",
                                    "Type2": "NULL",
                                    "Count": "3"
                                },
                                {
                                    "Ability": "Water Absorb",
                                    "Generation": "Gen1",
                                    "Type1": "Water",
                                    "Type2": "Fighting",
                                    "Count": "1"
                                },
                                {
                                    "Ability": "Water Absorb",
                                    "Generation": "Gen1",
                                    "Type1": "Water",
                                    "Type2": "Ice",
                                    "Count": "1"
                                },
                                {
                                    "Ability": "Water Absorb",
                                    "Generation": "Gen2",
                                    "Type1": "Water",
                                    "Type2": "NULL",
                                    "Count": "1"
                                },
                                {
                                    "Ability": "Water Absorb",
                                    "Generation": "Gen2",
                                    "Type1": "Water",
                                    "Type2": "Electric",
                                    "Count": "2"
                                },
                                {
                                    "Ability": "Water Absorb",
                                    "Generation": "Gen2",
                                    "Type1": "Water",
                                    "Type2": "Flying",
                                    "Count": "1"
                                },
                                {
                                    "Ability": "Water Absorb",
                                    "Generation": "Gen2",
                                    "Type1": "Water",
                                    "Type2": "Ground",
                                    "Count": "2"
                                },
                                {
                                    "Ability": "Water Absorb",
                                    "Generation": "Gen3",
                                    "Type1": "Grass",
                                    "Type2": "NULL",
                                    "Count": "1"
                                },
                                {
                                    "Ability": "Water Absorb",
                                    "Generation": "Gen3",
                                    "Type1": "Grass",
                                    "Type2": "Dark",
                                    "Count": "1"
                                },
                                {
                                    "Ability": "Water Veil",
                                    "Generation": "Gen1",
                                    "Type1": "Water",
                                    "Type2": "NULL",
                                    "Count": "2"
                                },
                                {
                                    "Ability": "Water Veil",
                                    "Generation": "Gen2",
                                    "Type1": "Water",
                                    "Type2": "Flying",
                                    "Count": "1"
                                },
                                {
                                    "Ability": "Water Veil",
                                    "Generation": "Gen3",
                                    "Type1": "Water",
                                    "Type2": "NULL",
                                    "Count": "3"
                                },
                                {
                                    "Ability": "Weak Amour",
                                    "Generation": "Gen1",
                                    "Type1": "Rock",
                                    "Type2": "Water",
                                    "Count": "4"
                                },
                                {
                                    "Ability": "Weak Armor",
                                    "Generation": "Gen1",
                                    "Type1": "Rock",
                                    "Type2": "Ground",
                                    "Count": "1"
                                },
                                {
                                    "Ability": "Weak Armor",
                                    "Generation": "Gen2",
                                    "Type1": "Fire",
                                    "Type2": "NULL",
                                    "Count": "1"
                                },
                                {
                                    "Ability": "Weak Armor",
                                    "Generation": "Gen2",
                                    "Type1": "Fire",
                                    "Type2": "Rock",
                                    "Count": "1"
                                },
                                {
                                    "Ability": "Weak Armor",
                                    "Generation": "Gen2",
                                    "Type1": "Steel",
                                    "Type2": "Flying",
                                    "Count": "1"
                                },
                                {
                                    "Ability": "White Smoke",
                                    "Generation": "Gen3",
                                    "Type1": "Fire",
                                    "Type2": "NULL",
                                    "Count": "1"
                                },
                                {
                                    "Ability": "Wind Rider",
                                    "Generation": "Gen3",
                                    "Type1": "Grass",
                                    "Type2": "Dark",
                                    "Count": "1"
                                },
                                {
                                    "Ability": "Wonder Guard",
                                    "Generation": "Gen3",
                                    "Type1": "Bug",
                                    "Type2": "Ghost",
                                    "Count": "1"
                                },
                                {
                                    "Ability": "Wonder Skin",
                                    "Generation": "Gen1",
                                    "Type1": "Bug",
                                    "Type2": "Poison",
                                    "Count": "1"
                                },
                                {
                                    "Ability": "Wonder Skin",
                                    "Generation": "Gen3",
                                    "Type1": "Normal",
                                    "Type2": "NULL",
                                    "Count": "2"
                                }
                            ]
                        },
                        "text/html": [
                            "<table>",
                            "<tr><th>Ability</th><th>Generation</th><th>Type1</th><th>Type2</th><th>Count</th></tr>",
                            "<tr><td>Adaptability</td><td>Gen1</td><td>Normal</td><td>NULL</td><td>1</td></tr>",
                            "<tr><td>Adaptability</td><td>Gen3</td><td>Water</td><td>NULL</td><td>2</td></tr>",
                            "<tr><td>Adaptability</td><td>Gen3</td><td>Water</td><td>Dark</td><td>1</td></tr>",
                            "<tr><td>Aftermath</td><td>Gen1</td><td>Electric</td><td>NULL</td><td>2</td></tr>",
                            "<tr><td>Air Lock</td><td>Gen3</td><td>Dragon</td><td>Flying</td><td>1</td></tr>",
                            "<tr><td>Analytic</td><td>Gen1</td><td>Electric</td><td>Steel</td><td>2</td></tr>",
                            "<tr><td>Analytic</td><td>Gen1</td><td>Normal</td><td>NULL</td><td>1</td></tr>",
                            "<tr><td>Analytic</td><td>Gen1</td><td>Water</td><td>NULL</td><td>1</td></tr>",
                            "<tr><td>Analytic</td><td>Gen1</td><td>Water</td><td>Psychic</td><td>1</td></tr>",
                            "<tr><td>Analytic</td><td>Gen2</td><td>Normal</td><td>NULL</td><td>1</td></tr>",
                            "<tr><td>Anger Point</td><td>Gen1</td><td>Fighting</td><td>NULL</td><td>2</td></tr>",
                            "<tr><td>Anger Point</td><td>Gen1</td><td>Normal</td><td>NULL</td><td>1</td></tr>",
                            "<tr><td>Anger Point</td><td>Gen3</td><td>Fire</td><td>Ground</td><td>1</td></tr>",
                            "<tr><td>Anticipation</td><td>Gen1</td><td>Normal</td><td>NULL</td><td>1</td></tr>",
                            "<tr><td>Anticipation</td><td>Gen3</td><td>Water</td><td>Ground</td><td>2</td></tr>",
                            "<tr><td>Arena Trap</td><td>Gen1</td><td>Ground</td><td>NULL</td><td>2</td></tr>",
                            "<tr><td>Arena Trap</td><td>Gen3</td><td>Ground</td><td>NULL</td><td>1</td></tr>",
                            "<tr><td>Battle Armor</td><td>Gen1</td><td>Ground</td><td>NULL</td><td>2</td></tr>",
                            "<tr><td>Battle Armor</td><td>Gen1</td><td>Rock</td><td>Water</td><td>2</td></tr>",
                            "<tr><td>Battle Armor</td><td>Gen3</td><td>Rock</td><td>Bug</td><td>2</td></tr>",
                            "<tr><td>Big Pecks</td><td>Gen1</td><td>Normal</td><td>Flying</td><td>3</td></tr>",
                            "<tr><td>Blaze</td><td>Gen1</td><td>Fire</td><td>NULL</td><td>2</td></tr>",
                            "<tr><td>Blaze</td><td>Gen1</td><td>Fire</td><td>Flying</td><td>1</td></tr>",
                            "<tr><td>Blaze</td><td>Gen2</td><td>Fire</td><td>NULL</td><td>3</td></tr>",
                            "<tr><td>Blaze</td><td>Gen3</td><td>Fire</td><td>NULL</td><td>3</td></tr>",
                            "<tr><td>Chlorophyll</td><td>Gen1</td><td>Grass</td><td>NULL</td><td>1</td></tr>",
                            "<tr><td>Chlorophyll</td><td>Gen1</td><td>Grass</td><td>Poison</td><td>9</td></tr>",
                            "<tr><td>Chlorophyll</td><td>Gen1</td><td>Grass</td><td>Psychic</td><td>2</td></tr>",
                            "<tr><td>Chlorophyll</td><td>Gen2</td><td>Grass</td><td>NULL</td><td>3</td></tr>",
                            "<tr><td>Chlorophyll</td><td>Gen2</td><td>Grass</td><td>Flying</td><td>3</td></tr>",
                            "<tr><td>Chlorophyll</td><td>Gen3</td><td>Grass</td><td>NULL</td><td>1</td></tr>",
                            "<tr><td>Chlorophyll</td><td>Gen3</td><td>Grass</td><td>Dark</td><td>2</td></tr>",
                            "<tr><td>Chlorophyll</td><td>Gen3</td><td>Grass</td><td>Flying</td><td>1</td></tr>",
                            "<tr><td>Clear Body</td><td>Gen1</td><td>Water</td><td>Poison</td><td>2</td></tr>",
                            "<tr><td>Clear Body</td><td>Gen3</td><td>Ice</td><td>NULL</td><td>1</td></tr>",
                            "<tr><td>Clear Body</td><td>Gen3</td><td>Rock</td><td>NULL</td><td>1</td></tr>",
                            "<tr><td>Clear Body</td><td>Gen3</td><td>Steel</td><td>NULL</td><td>1</td></tr>",
                            "<tr><td>Clear Body</td><td>Gen3</td><td>Steel</td><td>Psychic</td><td>3</td></tr>",
                            "<tr><td>Cloud Nine</td><td>Gen1</td><td>Normal</td><td>NULL</td><td>1</td></tr>",
                            "<tr><td>Cloud Nine</td><td>Gen1</td><td>Water</td><td>NULL</td><td>2</td></tr>",
                            "<tr><td>Cloud Nine</td><td>Gen3</td><td>Dragon</td><td>Flying</td><td>1</td></tr>",
                            "<tr><td>Cloud Nine</td><td>Gen3</td><td>Normal</td><td>Flying</td><td>1</td></tr>",
                            "<tr><td>Color Change</td><td>Gen3</td><td>Normal</td><td>NULL</td><td>1</td></tr>",
                            "<tr><td>Competitive</td><td>Gen1</td><td>Normal</td><td>Fairy</td><td>2</td></tr>",
                            "<tr><td>Competitive</td><td>Gen2</td><td>Normal</td><td>Fairy</td><td>1</td></tr>",
                            "<tr><td>Competitive</td><td>Gen3</td><td>Water</td><td>NULL</td><td>1</td></tr>",
                            "<tr><td>Compoundeyes</td><td>Gen1</td><td>Bug</td><td>Flying</td><td>1</td></tr>",
                            "<tr><td>Compoundeyes</td><td>Gen1</td><td>Bug</td><td>Poison</td><td>1</td></tr>",
                            "<tr><td>Compoundeyes</td><td>Gen2</td><td>Bug</td><td>Flying</td><td>1</td></tr>",
                            "<tr><td>Compoundeyes</td><td>Gen3</td><td>Bug</td><td>Ground</td><td>1</td></tr>",
                            "<tr><td>Compoundeyes</td><td>Gen3</td><td>Bug</td><td>Poison</td><td>1</td></tr>",
                            "<tr><td>Contrary</td><td>Gen2</td><td>Bug</td><td>Rock</td><td>1</td></tr>",
                            "<tr><td>Contrary</td><td>Gen3</td><td>Normal</td><td>NULL</td><td>1</td></tr>",
                            "<tr><td>Cursed Body</td><td>Gen1</td><td>Ghost</td><td>Poison</td><td>1</td></tr>",
                            "<tr><td>Cursed Body</td><td>Gen3</td><td>Ghost</td><td>NULL</td><td>2</td></tr>",
                            "<tr><td>Cute Charm</td><td>Gen1</td><td>Fairy</td><td>NULL</td><td>2</td></tr>",
                            "<tr><td>Cute Charm</td><td>Gen1</td><td>Normal</td><td>Fairy</td><td>2</td></tr>",
                            "<tr><td>Cute Charm</td><td>Gen2</td><td>Fairy</td><td>NULL</td><td>1</td></tr>",
                            "<tr><td>Cute Charm</td><td>Gen2</td><td>Normal</td><td>Fairy</td><td>1</td></tr>",
                            "<tr><td>Cute Charm</td><td>Gen3</td><td>Normal</td><td>NULL</td><td>2</td></tr>",
                            "<tr><td>Cute Charm</td><td>Gen3</td><td>Water</td><td>NULL</td><td>1</td></tr>",
                            "<tr><td>Damp</td><td>Gen1</td><td>Bug</td><td>Grass</td><td>2</td></tr>",
                            "<tr><td>Damp</td><td>Gen1</td><td>Water</td><td>NULL</td><td>6</td></tr>",
                            "<tr><td>Damp</td><td>Gen1</td><td>Water</td><td>Fighting</td><td>1</td></tr>",
                            "<tr><td>Damp</td><td>Gen2</td><td>Water</td><td>NULL</td><td>1</td></tr>",
                            "<tr><td>Damp</td><td>Gen2</td><td>Water</td><td>Dragon</td><td>1</td></tr>",
                            "<tr><td>Damp</td><td>Gen2</td><td>Water</td><td>Ground</td><td>2</td></tr>",
                            "<tr><td>Damp</td><td>Gen3</td><td>Water</td><td>NULL</td><td>3</td></tr>",
                            "<tr><td>Defiant</td><td>Gen1</td><td>Fighting</td><td>NULL</td><td>2</td></tr>",
                            "<tr><td>Defiant</td><td>Gen1</td><td>Normal</td><td>Flying</td><td>1</td></tr>",
                            "<tr><td>Download</td><td>Gen1</td><td>Normal</td><td>NULL</td><td>1</td></tr>",
                            "<tr><td>Download</td><td>Gen2</td><td>Normal</td><td>NULL</td><td>1</td></tr>",
                            "<tr><td>Drizzle</td><td>Gen2</td><td>Water</td><td>NULL</td><td>1</td></tr>",
                            "<tr><td>Drizzle</td><td>Gen3</td><td>Water</td><td>NULL</td><td>1</td></tr>",
                            "<tr><td>Drizzle</td><td>Gen3</td><td>Water</td><td>Flying</td><td>1</td></tr>",
                            "<tr><td>Drought</td><td>Gen1</td><td>Fire</td><td>NULL</td><td>2</td></tr>",
                            "<tr><td>Drought</td><td>Gen3</td><td>Fire</td><td>NULL</td><td>1</td></tr>",
                            "<tr><td>Drought</td><td>Gen3</td><td>Ground</td><td>NULL</td><td>1</td></tr>",
                            "<tr><td>Dry Skin</td><td>Gen1</td><td>Bug</td><td>Grass</td><td>2</td></tr>",
                            "<tr><td>Dry Skin</td><td>Gen1</td><td>Ice</td><td>Psychic</td><td>1</td></tr>",
                            "<tr><td>Early Bird</td><td>Gen1</td><td>Normal</td><td>NULL</td><td>1</td></tr>",
                            "<tr><td>Early Bird</td><td>Gen1</td><td>Normal</td><td>Flying</td><td>2</td></tr>",
                            "<tr><td>Early Bird</td><td>Gen2</td><td>Bug</td><td>Flying</td><td>2</td></tr>",
                            "<tr><td>Early Bird</td><td>Gen2</td><td>Dark</td><td>Fire</td><td>2</td></tr>",
                            "<tr><td>Early Bird</td><td>Gen2</td><td>Grass</td><td>NULL</td><td>2</td></tr>",
                            "<tr><td>Early Bird</td><td>Gen2</td><td>Normal</td><td>Psychic</td><td>1</td></tr>",
                            "<tr><td>Early Bird</td><td>Gen2</td><td>Psychic</td><td>Flying</td><td>2</td></tr>",
                            "<tr><td>Early Bird</td><td>Gen3</td><td>Grass</td><td>NULL</td><td>1</td></tr>",
                            "<tr><td>Early Bird</td><td>Gen3</td><td>Grass</td><td>Dark</td><td>1</td></tr>",
                            "<tr><td>Effect Spore</td><td>Gen1</td><td>Bug</td><td>Grass</td><td>2</td></tr>",
                            "<tr><td>Effect Spore</td><td>Gen1</td><td>Grass</td><td>Poison</td><td>1</td></tr>",
                            "<tr><td>Effect Spore</td><td>Gen3</td><td>Grass</td><td>NULL</td><td>1</td></tr>",
                            "<tr><td>Effect Spore</td><td>Gen3</td><td>Grass</td><td>Fighting</td><td>1</td></tr>",
                            "<tr><td>Filter</td><td>Gen1</td><td>Psychic</td><td>Fairy</td><td>1</td></tr>",
                            "<tr><td>Flame Body</td><td>Gen1</td><td>Fire</td><td>NULL</td><td>3</td></tr>",
                            "<tr><td>Flame Body</td><td>Gen1</td><td>Fire</td><td>Flying</td><td>1</td></tr>",
                            "<tr><td>Flame Body</td><td>Gen2</td><td>Fire</td><td>NULL</td><td>2</td></tr>",
                            "<tr><td>Flame Body</td><td>Gen2</td><td>Fire</td><td>Rock</td><td>1</td></tr>",
                            "<tr><td>Flash Fire</td><td>Gen1</td><td>Fire</td><td>NULL</td><td>7</td></tr>",
                            "<tr><td>Flash Fire</td><td>Gen2</td><td>Dark</td><td>Fire</td><td>2</td></tr>",
                            "<tr><td>Flash Fire</td><td>Gen2</td><td>Fire</td><td>NULL</td><td>3</td></tr>",
                            "<tr><td>Forecast</td><td>Gen3</td><td>Normal</td><td>NULL</td><td>1</td></tr>",
                            "<tr><td>Forewarn</td><td>Gen1</td><td>Ice</td><td>Psychic</td><td>1</td></tr>",
                            "<tr><td>Forewarn</td><td>Gen1</td><td>Psychic</td><td>NULL</td><td>2</td></tr>",
                            "<tr><td>Forewarn</td><td>Gen2</td><td>Ice</td><td>Psychic</td><td>1</td></tr>",
                            "<tr><td>Friend Guard</td><td>Gen1</td><td>Fairy</td><td>NULL</td><td>2</td></tr>",
                            "<tr><td>Friend Guard</td><td>Gen1</td><td>Normal</td><td>Fairy</td><td>1</td></tr>",
                            "<tr><td>Friend Guard</td><td>Gen2</td><td>Fairy</td><td>NULL</td><td>1</td></tr>",
                            "<tr><td>Frisk</td><td>Gen1</td><td>Normal</td><td>Fairy</td><td>1</td></tr>",
                            "<tr><td>Frisk</td><td>Gen2</td><td>Bug</td><td>Flying</td><td>1</td></tr>",
                            "<tr><td>Frisk</td><td>Gen2</td><td>Normal</td><td>NULL</td><td>3</td></tr>",
                            "<tr><td>Frisk</td><td>Gen3</td><td>Ghost</td><td>NULL</td><td>4</td></tr>",
                            "<tr><td>Gluttony</td><td>Gen1</td><td>Grass</td><td>Poison</td><td>3</td></tr>",
                            "<tr><td>Gluttony</td><td>Gen1</td><td>Normal</td><td>NULL</td><td>1</td></tr>",
                            "<tr><td>Gluttony</td><td>Gen2</td><td>Bug</td><td>Rock</td><td>1</td></tr>",
                            "<tr><td>Gluttony</td><td>Gen3</td><td>Normal</td><td>NULL</td><td>2</td></tr>",
                            "<tr><td>Gluttony</td><td>Gen3</td><td>Poison</td><td>NULL</td><td>2</td></tr>",
                            "<tr><td>Gluttony</td><td>Gen3</td><td>Psychic</td><td>NULL</td><td>2</td></tr>",
                            "<tr><td>Guts</td><td>Gen1</td><td>Fighting</td><td>NULL</td><td>3</td></tr>",
                            "<tr><td>Guts</td><td>Gen1</td><td>Fire</td><td>NULL</td><td>1</td></tr>",
                            "<tr><td>Guts</td><td>Gen1</td><td>Normal</td><td>NULL</td><td>2</td></tr>",
                            "<tr><td>Guts</td><td>Gen2</td><td>Bug</td><td>Fighting</td><td>1</td></tr>",
                            "<tr><td>Guts</td><td>Gen2</td><td>Fighting</td><td>NULL</td><td>1</td></tr>",
                            "<tr><td>Guts</td><td>Gen2</td><td>Normal</td><td>NULL</td><td>1</td></tr>",
                            "<tr><td>Guts</td><td>Gen2</td><td>Rock</td><td>Ground</td><td>1</td></tr>",
                            "<tr><td>Guts</td><td>Gen3</td><td>Fighting</td><td>NULL</td><td>2</td></tr>",
                            "<tr><td>Guts</td><td>Gen3</td><td>Normal</td><td>Flying</td><td>2</td></tr>",
                            "<tr><td>Harvest</td><td>Gen1</td><td>Grass</td><td>Psychic</td><td>2</td></tr>",
                            "<tr><td>Harvest</td><td>Gen3</td><td>Grass</td><td>Flying</td><td>1</td></tr>",
                            "<tr><td>Healer</td><td>Gen1</td><td>Normal</td><td>NULL</td><td>1</td></tr>",
                            "<tr><td>Healer</td><td>Gen2</td><td>Grass</td><td>NULL</td><td>1</td></tr>",
                            "<tr><td>Healer</td><td>Gen2</td><td>Normal</td><td>NULL</td><td>1</td></tr>",
                            "<tr><td>Heavy Metal</td><td>Gen3</td><td>Steel</td><td>Rock</td><td>3</td></tr>",
                            "<tr><td>Honey Gather</td><td>Gen2</td><td>Normal</td><td>NULL</td><td>1</td></tr>",
                            "<tr><td>Huge Power</td><td>Gen2</td><td>Water</td><td>Fairy</td><td>2</td></tr>",
                            "<tr><td>Huge Power</td><td>Gen3</td><td>Normal</td><td>Fairy</td><td>1</td></tr>",
                            "<tr><td>Hustle</td><td>Gen1</td><td>Normal</td><td>NULL</td><td>2</td></tr>",
                            "<tr><td>Hustle</td><td>Gen1</td><td>Poison</td><td>NULL</td><td>4</td></tr>",
                            "<tr><td>Hustle</td><td>Gen2</td><td>Fairy</td><td>NULL</td><td>1</td></tr>",
                            "<tr><td>Hustle</td><td>Gen2</td><td>Fairy</td><td>Flying</td><td>1</td></tr>",
                            "<tr><td>Hustle</td><td>Gen2</td><td>Ice</td><td>Flying</td><td>1</td></tr>",
                            "<tr><td>Hustle</td><td>Gen2</td><td>Water</td><td>NULL</td><td>1</td></tr>",
                            "<tr><td>Hustle</td><td>Gen2</td><td>Water</td><td>Rock</td><td>1</td></tr>",
                            "<tr><td>Hydration</td><td>Gen1</td><td>Water</td><td>NULL</td><td>2</td></tr>",
                            "<tr><td>Hydration</td><td>Gen1</td><td>Water</td><td>Ice</td><td>2</td></tr>",
                            "<tr><td>Hydration</td><td>Gen2</td><td>Ice</td><td>Psychic</td><td>1</td></tr>",
                            "<tr><td>Hydration</td><td>Gen3</td><td>Water</td><td>NULL</td><td>2</td></tr>",
                            "<tr><td>Hydration</td><td>Gen3</td><td>Water</td><td>Flying</td><td>1</td></tr>",
                            "<tr><td>Hydration</td><td>Gen3</td><td>Water</td><td>Ground</td><td>2</td></tr>",
                            "<tr><td>Hyper Cutter</td><td>Gen1</td><td>Bug</td><td>NULL</td><td>1</td></tr>",
                            "<tr><td>Hyper Cutter</td><td>Gen1</td><td>Water</td><td>NULL</td><td>2</td></tr>",
                            "<tr><td>Hyper Cutter</td><td>Gen2</td><td>Ground</td><td>Flying</td><td>1</td></tr>",
                            "<tr><td>Hyper Cutter</td><td>Gen3</td><td>Ground</td><td>NULL</td><td>1</td></tr>",
                            "<tr><td>Hyper Cutter</td><td>Gen3</td><td>Steel</td><td>Fairy</td><td>1</td></tr>",
                            "<tr><td>Hyper Cutter</td><td>Gen3</td><td>Water</td><td>NULL</td><td>1</td></tr>",
                            "<tr><td>Hyper Cutter</td><td>Gen3</td><td>Water</td><td>Dark</td><td>1</td></tr>",
                            "<tr><td>Ice Body</td><td>Gen1</td><td>Water</td><td>NULL</td><td>1</td></tr>",
                            "<tr><td>Ice Body</td><td>Gen1</td><td>Water</td><td>Ice</td><td>1</td></tr>",
                            "<tr><td>Ice Body</td><td>Gen3</td><td>Ice</td><td>NULL</td><td>3</td></tr>",
                            "<tr><td>Ice Body</td><td>Gen3</td><td>Ice</td><td>Water</td><td>3</td></tr>",
                            "<tr><td>Illuminate</td><td>Gen1</td><td>Water</td><td>NULL</td><td>1</td></tr>",
                            "<tr><td>Illuminate</td><td>Gen1</td><td>Water</td><td>Psychic</td><td>1</td></tr>",
                            "<tr><td>Illuminate</td><td>Gen2</td><td>Water</td><td>Electric</td><td>2</td></tr>",
                            "<tr><td>Illuminate</td><td>Gen3</td><td>Bug</td><td>NULL</td><td>1</td></tr>",
                            "<tr><td>Immunity</td><td>Gen1</td><td>Normal</td><td>NULL</td><td>1</td></tr>",
                            "<tr><td>Immunity</td><td>Gen2</td><td>Ground</td><td>Flying</td><td>1</td></tr>",
                            "<tr><td>Immunity</td><td>Gen3</td><td>Normal</td><td>NULL</td><td>1</td></tr>",
                            "<tr><td>Imposter</td><td>Gen1</td><td>Normal</td><td>NULL</td><td>1</td></tr>",
                            "<tr><td>Infiltrator</td><td>Gen1</td><td>Poison</td><td>Flying</td><td>2</td></tr>",
                            "<tr><td>Infiltrator</td><td>Gen2</td><td>Grass</td><td>Flying</td><td>3</td></tr>",
                            "<tr><td>Infiltrator</td><td>Gen2</td><td>Poison</td><td>Flying</td><td>1</td></tr>",
                            "<tr><td>Infiltrator</td><td>Gen3</td><td>Bug</td><td>Flying</td><td>1</td></tr>",
                            "<tr><td>Infiltrator</td><td>Gen3</td><td>Poison</td><td>NULL</td><td>1</td></tr>",
                            "<tr><td>Inner Focus</td><td>Gen1</td><td>Dragon</td><td>Flying</td><td>1</td></tr>",
                            "<tr><td>Inner Focus</td><td>Gen1</td><td>Fight</td><td>NULL</td><td>1</td></tr>",
                            "<tr><td>Inner Focus</td><td>Gen1</td><td>Normal</td><td>NULL</td><td>1</td></tr>",
                            "<tr><td>Inner Focus</td><td>Gen1</td><td>Normal</td><td>Flying</td><td>1</td></tr>",
                            "<tr><td>Inner Focus</td><td>Gen1</td><td>Poison</td><td>Flying</td><td>2</td></tr>",
                            "<tr><td>Inner Focus</td><td>Gen1</td><td>Psychic</td><td>NULL</td><td>5</td></tr>",
                            "<tr><td>Inner Focus</td><td>Gen2</td><td>Dark</td><td>NULL</td><td>1</td></tr>",
                            "<tr><td>Inner Focus</td><td>Gen2</td><td>Dark</td><td>Ice</td><td>1</td></tr>",
                            "<tr><td>Inner Focus</td><td>Gen2</td><td>Electric</td><td>NULL</td><td>1</td></tr>",
                            "<tr><td>Inner Focus</td><td>Gen2</td><td>Fire</td><td>NULL</td><td>1</td></tr>",
                            "<tr><td>Inner Focus</td><td>Gen2</td><td>Normal</td><td>Psychic</td><td>1</td></tr>",
                            "<tr><td>Inner Focus</td><td>Gen2</td><td>Poison</td><td>Flying</td><td>1</td></tr>",
                            "<tr><td>Inner Focus</td><td>Gen2</td><td>Water</td><td>NULL</td><td>1</td></tr>",
                            "<tr><td>Inner Focus</td><td>Gen3</td><td>Ice</td><td>NULL</td><td>2</td></tr>",
                            "<tr><td>Insomnia</td><td>Gen1</td><td>Psychic</td><td>NULL</td><td>2</td></tr>",
                            "<tr><td>Insomnia</td><td>Gen2</td><td>Bug</td><td>Poison</td><td>2</td></tr>",
                            "<tr><td>Insomnia</td><td>Gen2</td><td>Dark</td><td>Flying</td><td>1</td></tr>",
                            "<tr><td>Insomnia</td><td>Gen2</td><td>Ice</td><td>Flying</td><td>1</td></tr>",
                            "<tr><td>Insomnia</td><td>Gen2</td><td>Normal</td><td>Flying</td><td>2</td></tr>",
                            "<tr><td>Insomnia</td><td>Gen3</td><td>Ghost</td><td>NULL</td><td>2</td></tr>",
                            "<tr><td>Intimidate</td><td>Gen1</td><td>Fire</td><td>NULL</td><td>2</td></tr>",
                            "<tr><td>Intimidate</td><td>Gen1</td><td>Normal</td><td>NULL</td><td>1</td></tr>",
                            "<tr><td>Intimidate</td><td>Gen1</td><td>Poison</td><td>NULL</td><td>2</td></tr>",
                            "<tr><td>Intimidate</td><td>Gen1</td><td>Water</td><td>Flying</td><td>1</td></tr>",
                            "<tr><td>Intimidate</td><td>Gen2</td><td>Fairy</td><td>NULL</td><td>2</td></tr>",
                            "<tr><td>Intimidate</td><td>Gen2</td><td>Fighting</td><td>NULL</td><td>1</td></tr>",
                            "<tr><td>Intimidate</td><td>Gen2</td><td>Normal</td><td>NULL</td><td>1</td></tr>",
                            "<tr><td>Intimidate</td><td>Gen2</td><td>Water</td><td>Poison</td><td>1</td></tr>",
                            "<tr><td>Intimidate</td><td>Gen3</td><td>Bug</td><td>Flying</td><td>1</td></tr>",
                            "<tr><td>Intimidate</td><td>Gen3</td><td>Dark</td><td>NULL</td><td>1</td></tr>",
                            "<tr><td>Intimidate</td><td>Gen3</td><td>Dragon</td><td>Flying</td><td>1</td></tr>",
                            "<tr><td>Intimidate</td><td>Gen3</td><td>Steel</td><td>Fairy</td><td>1</td></tr>",
                            "<tr><td>Iron Fist</td><td>Gen1</td><td>Fight</td><td>NULL</td><td>1</td></tr>",
                            "<tr><td>Iron Fist</td><td>Gen2</td><td>Bug</td><td>Flying</td><td>1</td></tr>",
                            "<tr><td>Justified</td><td>Gen1</td><td>Fire</td><td>NULL</td><td>2</td></tr>",
                            "<tr><td>Justified</td><td>Gen3</td><td>Dark</td><td>NULL</td><td>1</td></tr>",
                            "<tr><td>Keen Eye</td><td>Gen1</td><td>Fight</td><td>NULL</td><td>1</td></tr>",
                            "<tr><td>Keen Eye</td><td>Gen1</td><td>Normal</td><td>Flying</td><td>6</td></tr>",
                            "<tr><td>Keen Eye</td><td>Gen2</td><td>Dark</td><td>Ice</td><td>1</td></tr>",
                            "<tr><td>Keen Eye</td><td>Gen2</td><td>Normal</td><td>NULL</td><td>2</td></tr>",
                            "<tr><td>Keen Eye</td><td>Gen2</td><td>Normal</td><td>Flying</td><td>2</td></tr>",
                            "<tr><td>Keen Eye</td><td>Gen2</td><td>Steel</td><td>Flying</td><td>1</td></tr>",
                            "<tr><td>Keen Eye</td><td>Gen3</td><td>Dark</td><td>Ghost</td><td>1</td></tr>",
                            "<tr><td>Keen Eye</td><td>Gen3</td><td>Water</td><td>Flying</td><td>2</td></tr>",
                            "<tr><td>Leaf Guard</td><td>Gen1</td><td>Grass</td><td>NULL</td><td>1</td></tr>",
                            "<tr><td>Leaf Guard</td><td>Gen2</td><td>Grass</td><td>NULL</td><td>3</td></tr>",
                            "<tr><td>Leaf Guard</td><td>Gen2</td><td>Grass</td><td>Flying</td><td>3</td></tr>",
                            "<tr><td>Leaf Guard</td><td>Gen3</td><td>Grass</td><td>Poison</td><td>1</td></tr>",
                            "<tr><td>Levitate</td><td>Gen1</td><td>Ghost</td><td>Poison</td><td>2</td></tr>",
                            "<tr><td>Levitate</td><td>Gen1</td><td>Poison</td><td>NULL</td><td>2</td></tr>",
                            "<tr><td>Levitate</td><td>Gen2</td><td>Ghost</td><td>NULL</td><td>1</td></tr>",
                            "<tr><td>Levitate</td><td>Gen2</td><td>Psychic</td><td>NULL</td><td>1</td></tr>",
                            "<tr><td>Levitate</td><td>Gen3</td><td>Dragon</td><td>Psychic</td><td>2</td></tr>",
                            "<tr><td>Levitate</td><td>Gen3</td><td>Ghost</td><td>NULL</td><td>1</td></tr>",
                            "<tr><td>Levitate</td><td>Gen3</td><td>Ground</td><td>Dragon</td><td>2</td></tr>",
                            "<tr><td>Levitate</td><td>Gen3</td><td>Ground</td><td>Psychic</td><td>2</td></tr>",
                            "<tr><td>Levitate</td><td>Gen3</td><td>Psychic</td><td>NULL</td><td>1</td></tr>",
                            "<tr><td>Levitate</td><td>Gen3</td><td>Rock</td><td>Psychic</td><td>2</td></tr>",
                            "<tr><td>Light Metal</td><td>Gen2</td><td>Bug</td><td>Steel</td><td>1</td></tr>",
                            "<tr><td>Light Metal</td><td>Gen3</td><td>Steel</td><td>NULL</td><td>1</td></tr>",
                            "<tr><td>Light Metal</td><td>Gen3</td><td>Steel</td><td>Psychic</td><td>3</td></tr>",
                            "<tr><td>Lighting Rod</td><td>Gen1</td><td>Electric</td><td>NULL</td><td>2</td></tr>",
                            "<tr><td>Lighting Rod</td><td>Gen1</td><td>Water</td><td>NULL</td><td>2</td></tr>",
                            "<tr><td>Lightning Rod</td><td>Gen1</td><td>Ground</td><td>NULL</td><td>2</td></tr>",
                            "<tr><td>Lightning Rod</td><td>Gen1</td><td>Ground</td><td>Rock</td><td>2</td></tr>",
                            "<tr><td>Lightning Rod</td><td>Gen2</td><td>Electric</td><td>NULL</td><td>1</td></tr>",
                            "<tr><td>Lightning Rod</td><td>Gen3</td><td>Electric</td><td>NULL</td><td>3</td></tr>",
                            "<tr><td>Limber</td><td>Gen1</td><td>Fight</td><td>NULL</td><td>1</td></tr>",
                            "<tr><td>Limber</td><td>Gen1</td><td>Normal</td><td>NULL</td><td>2</td></tr>",
                            "<tr><td>Liquid Ooze</td><td>Gen1</td><td>Water</td><td>Poison</td><td>2</td></tr>",
                            "<tr><td>Liquid Ooze</td><td>Gen3</td><td>Poison</td><td>NULL</td><td>2</td></tr>",
                            "<tr><td>Magic Bounce</td><td>Gen2</td><td>Psychic</td><td>NULL</td><td>1</td></tr>",
                            "<tr><td>Magic Bounce</td><td>Gen2</td><td>Psychic</td><td>Flying</td><td>2</td></tr>",
                            "<tr><td>Magic Guard</td><td>Gen1</td><td>Fairy</td><td>NULL</td><td>2</td></tr>",
                            "<tr><td>Magic Guard</td><td>Gen1</td><td>Psychic</td><td>NULL</td><td>3</td></tr>",
                            "<tr><td>Magic Guard</td><td>Gen2</td><td>Fairy</td><td>NULL</td><td>1</td></tr>",
                            "<tr><td>Magma Armor</td><td>Gen2</td><td>Fire</td><td>NULL</td><td>1</td></tr>",
                            "<tr><td>Magma Armor</td><td>Gen2</td><td>Fire</td><td>Rock</td><td>1</td></tr>",
                            "<tr><td>Magma Armor</td><td>Gen3</td><td>Fire</td><td>Ground</td><td>1</td></tr>",
                            "<tr><td>Magnet Pull</td><td>Gen1</td><td>Electric</td><td>Steel</td><td>2</td></tr>",
                            "<tr><td>Magnet Pull</td><td>Gen3</td><td>Rock</td><td>NULL</td><td>1</td></tr>",
                            "<tr><td>Marvel Scale</td><td>Gen1</td><td>Dragon</td><td>NULL</td><td>2</td></tr>",
                            "<tr><td>Marvel Scale</td><td>Gen3</td><td>Water</td><td>NULL</td><td>1</td></tr>",
                            "<tr><td>Minus</td><td>Gen3</td><td>Electric</td><td>NULL</td><td>3</td></tr>",
                            "<tr><td>Mold Breaker</td><td>Gen1</td><td>Bug</td><td>NULL</td><td>1</td></tr>",
                            "<tr><td>Moody</td><td>Gen2</td><td>Normal</td><td>NULL</td><td>1</td></tr>",
                            "<tr><td>Moody</td><td>Gen2</td><td>Water</td><td>NULL</td><td>2</td></tr>",
                            "<tr><td>Moody</td><td>Gen3</td><td>Ice</td><td>NULL</td><td>2</td></tr>",
                            "<tr><td>Moxie</td><td>Gen1</td><td>Bug</td><td>NULL</td><td>1</td></tr>",
                            "<tr><td>Moxie</td><td>Gen1</td><td>Water</td><td>Flying</td><td>1</td></tr>",
                            "<tr><td>Moxie</td><td>Gen2</td><td>Bug</td><td>Fighting</td><td>1</td></tr>",
                            "<tr><td>Moxie</td><td>Gen3</td><td>Dark</td><td>NULL</td><td>1</td></tr>",
                            "<tr><td>Moxie</td><td>Gen3</td><td>Dragon</td><td>Flying</td><td>1</td></tr>",
                            "<tr><td>Multiscale</td><td>Gen1</td><td>Dragon</td><td>Flying</td><td>1</td></tr>",
                            "<tr><td>Multiscale</td><td>Gen2</td><td>Psychic</td><td>Flying</td><td>1</td></tr>",
                            "<tr><td>Natural Cure</td><td>Gen1</td><td>Normal</td><td>NULL</td><td>1</td></tr>",
                            "<tr><td>Natural Cure</td><td>Gen1</td><td>Water</td><td>NULL</td><td>1</td></tr>",
                            "<tr><td>Natural Cure</td><td>Gen1</td><td>Water</td><td>Psychic</td><td>1</td></tr>",
                            "<tr><td>Natural Cure</td><td>Gen2</td><td>Normal</td><td>NULL</td><td>1</td></tr>",
                            "<tr><td>Natural Cure</td><td>Gen2</td><td>Psychic</td><td>Grass</td><td>1</td></tr>",
                            "<tr><td>Natural Cure</td><td>Gen2</td><td>Water</td><td>Rock</td><td>1</td></tr>",
                            "<tr><td>Natural Cure</td><td>Gen3</td><td>Dragon</td><td>Flying</td><td>1</td></tr>",
                            "<tr><td>Natural Cure</td><td>Gen3</td><td>Grass</td><td>Poison</td><td>1</td></tr>",
                            "<tr><td>Natural Cure</td><td>Gen3</td><td>Normal</td><td>Flying</td><td>1</td></tr>",
                            "<tr><td>Neutralizing Gas</td><td>Gen1</td><td>Poison</td><td>NULL</td><td>2</td></tr>",
                            "<tr><td>No Guard</td><td>Gen1</td><td>Fighting</td><td>NULL</td><td>3</td></tr>",
                            "<tr><td>Normalize</td><td>Gen3</td><td>Normal</td><td>NULL</td><td>2</td></tr>",
                            "<tr><td>Oblivious</td><td>Gen1</td><td>Ice</td><td>Psychic</td><td>1</td></tr>",
                            "<tr><td>Oblivious</td><td>Gen1</td><td>Normal</td><td>NULL</td><td>1</td></tr>",
                            "<tr><td>Oblivious</td><td>Gen1</td><td>Water</td><td>Psychic</td><td>2</td></tr>",
                            "<tr><td>Oblivious</td><td>Gen2</td><td>Ice</td><td>Ground</td><td>2</td></tr>",
                            "<tr><td>Oblivious</td><td>Gen2</td><td>Ice</td><td>Psychic</td><td>1</td></tr>",
                            "<tr><td>Oblivious</td><td>Gen2</td><td>Water</td><td>Psychic</td><td>1</td></tr>",
                            "<tr><td>Oblivious</td><td>Gen3</td><td>Bug</td><td>NULL</td><td>1</td></tr>",
                            "<tr><td>Oblivious</td><td>Gen3</td><td>Fire</td><td>Ground</td><td>1</td></tr>",
                            "<tr><td>Oblivious</td><td>Gen3</td><td>Ice</td><td>Water</td><td>3</td></tr>",
                            "<tr><td>Oblivious</td><td>Gen3</td><td>Water</td><td>NULL</td><td>3</td></tr>",
                            "<tr><td>Oblivious</td><td>Gen3</td><td>Water</td><td>Ground</td><td>2</td></tr>",
                            "<tr><td>Overcoat</td><td>Gen1</td><td>Water</td><td>NULL</td><td>1</td></tr>",
                            "<tr><td>Overcoat</td><td>Gen1</td><td>Water</td><td>Ice</td><td>1</td></tr>",
                            "<tr><td>Overcoat</td><td>Gen2</td><td>Bug</td><td>NULL</td><td>1</td></tr>",
                            "<tr><td>Overcoat</td><td>Gen2</td><td>Bug</td><td>Steel</td><td>1</td></tr>",
                            "<tr><td>Overcoat</td><td>Gen3</td><td>Dragon</td><td>NULL</td><td>1</td></tr>",
                            "<tr><td>Overgrow</td><td>Gen1</td><td>Grass</td><td>Poison</td><td>3</td></tr>",
                            "<tr><td>Overgrow</td><td>Gen2</td><td>Grass</td><td>NULL</td><td>3</td></tr>",
                            "<tr><td>Overgrow</td><td>Gen3</td><td>Grass</td><td>NULL</td><td>3</td></tr>",
                            "<tr><td>Own Tempo</td><td>Gen1</td><td>Normal</td><td>NULL</td><td>1</td></tr>",
                            "<tr><td>Own Tempo</td><td>Gen1</td><td>Water</td><td>Psychic</td><td>2</td></tr>",
                            "<tr><td>Own Tempo</td><td>Gen2</td><td>Normal</td><td>NULL</td><td>1</td></tr>",
                            "<tr><td>Own Tempo</td><td>Gen2</td><td>Water</td><td>Psychic</td><td>1</td></tr>",
                            "<tr><td>Own Tempo</td><td>Gen3</td><td>Fire</td><td>Ground</td><td>1</td></tr>",
                            "<tr><td>Own Tempo</td><td>Gen3</td><td>Normal</td><td>NULL</td><td>1</td></tr>",
                            "<tr><td>Own Tempo</td><td>Gen3</td><td>Psychic</td><td>NULL</td><td>2</td></tr>",
                            "<tr><td>Own Tempo</td><td>Gen3</td><td>Water</td><td>Grass</td><td>3</td></tr>",
                            "<tr><td>Pickpocket</td><td>Gen2</td><td>Dark</td><td>Ice</td><td>1</td></tr>",
                            "<tr><td>Pickpocket</td><td>Gen3</td><td>Grass</td><td>NULL</td><td>1</td></tr>",
                            "<tr><td>Pickpocket</td><td>Gen3</td><td>Grass</td><td>Dark</td><td>2</td></tr>",
                            "<tr><td>Pickup</td><td>Gen1</td><td>Normal</td><td>NULL</td><td>1</td></tr>",
                            "<tr><td>Pickup</td><td>Gen2</td><td>Ground</td><td>NULL</td><td>1</td></tr>",
                            "<tr><td>Pickup</td><td>Gen2</td><td>Normal</td><td>NULL</td><td>2</td></tr>",
                            "<tr><td>Pickup</td><td>Gen3</td><td>Normal</td><td>NULL</td><td>2</td></tr>",
                            "<tr><td>Plus</td><td>Gen2</td><td>Electric</td><td>NULL</td><td>3</td></tr>",
                            "<tr><td>Plus</td><td>Gen3</td><td>Electric</td><td>NULL</td><td>1</td></tr>",
                            "<tr><td>Poison Heal</td><td>Gen3</td><td>Grass</td><td>NULL</td><td>1</td></tr>",
                            "<tr><td>Poison Heal</td><td>Gen3</td><td>Grass</td><td>Fighting</td><td>1</td></tr>",
                            "<tr><td>Poison Point</td><td>Gen1</td><td>Poison</td><td>NULL</td><td>4</td></tr>",
                            "<tr><td>Poison Point</td><td>Gen1</td><td>Poison</td><td>Ground</td><td>1</td></tr>",
                            "<tr><td>Poison Point</td><td>Gen1</td><td>Water</td><td>NULL</td><td>1</td></tr>",
                            "<tr><td>Poison Point</td><td>Gen2</td><td>Water</td><td>Poison</td><td>1</td></tr>",
                            "<tr><td>Poison Point</td><td>Gen3</td><td>Grass</td><td>Poison</td><td>1</td></tr>",
                            "<tr><td>Poison Touch</td><td>Gen1</td><td>Poison</td><td>NULL</td><td>2</td></tr>",
                            "<tr><td>Prankster</td><td>Gen2</td><td>Dark</td><td>Flying</td><td>1</td></tr>",
                            "<tr><td>Prankster</td><td>Gen3</td><td>Bug</td><td>NULL</td><td>2</td></tr>",
                            "<tr><td>Prankster</td><td>Gen3</td><td>Dark</td><td>Ghost</td><td>1</td></tr>",
                            "<tr><td>Pressure</td><td>Gen1</td><td>Electric</td><td>Flying</td><td>1</td></tr>",
                            "<tr><td>Pressure</td><td>Gen1</td><td>Fire</td><td>Flying</td><td>1</td></tr>",
                            "<tr><td>Pressure</td><td>Gen1</td><td>Ice</td><td>Flying</td><td>1</td></tr>",
                            "<tr><td>Pressure</td><td>Gen1</td><td>Psychic</td><td>NULL</td><td>1</td></tr>",
                            "<tr><td>Pressure</td><td>Gen1</td><td>Rock</td><td>Flying</td><td>1</td></tr>",
                            "<tr><td>Pressure</td><td>Gen2</td><td>Electric</td><td>NULL</td><td>1</td></tr>",
                            "<tr><td>Pressure</td><td>Gen2</td><td>Fire</td><td>NULL</td><td>1</td></tr>",
                            "<tr><td>Pressure</td><td>Gen2</td><td>Fire</td><td>Flying</td><td>1</td></tr>",
                            "<tr><td>Pressure</td><td>Gen2</td><td>Psychic</td><td>Flying</td><td>1</td></tr>",
                            "<tr><td>Pressure</td><td>Gen2</td><td>Water</td><td>NULL</td><td>1</td></tr>",
                            "<tr><td>Pressure</td><td>Gen3</td><td>Dark</td><td>NULL</td><td>1</td></tr>",
                            "<tr><td>Pressure</td><td>Gen3</td><td>Ghost</td><td>NULL</td><td>1</td></tr>",
                            "<tr><td>Pressure</td><td>Gen3</td><td>Psychic</td><td>NULL</td><td>1</td></tr>",
                            "<tr><td>Pressure</td><td>Gen3</td><td>Water</td><td>NULL</td><td>2</td></tr>",
                            "<tr><td>Protean</td><td>Gen3</td><td>Normal</td><td>NULL</td><td>1</td></tr>",
                            "<tr><td>Pure Power</td><td>Gen3</td><td>Fighting</td><td>Psychic</td><td>2</td></tr>",
                            "<tr><td>Quick Feet</td><td>Gen1</td><td>Electric</td><td>NULL</td><td>1</td></tr>",
                            "<tr><td>Quick Feet</td><td>Gen2</td><td>Fairy</td><td>NULL</td><td>1</td></tr>",
                            "<tr><td>Quick Feet</td><td>Gen2</td><td>Normal</td><td>NULL</td><td>2</td></tr>",
                            "<tr><td>Quick Feet</td><td>Gen3</td><td>Dark</td><td>NULL</td><td>2</td></tr>",
                            "<tr><td>Quick Feet</td><td>Gen3</td><td>Grass</td><td>NULL</td><td>1</td></tr>",
                            "<tr><td>Quick Feet</td><td>Gen3</td><td>Normal</td><td>NULL</td><td>2</td></tr>",
                            "<tr><td>Rain Dish</td><td>Gen1</td><td>Water</td><td>NULL</td><td>3</td></tr>",
                            "<tr><td>Rain Dish</td><td>Gen1</td><td>Water</td><td>Poison</td><td>2</td></tr>",
                            "<tr><td>Rain Dish</td><td>Gen3</td><td>Bug</td><td>Water</td><td>1</td></tr>",
                            "<tr><td>Rain Dish</td><td>Gen3</td><td>Water</td><td>Flying</td><td>2</td></tr>",
                            "<tr><td>Rain Dish</td><td>Gen3</td><td>Water</td><td>Grass</td><td>3</td></tr>",
                            "<tr><td>Rattled</td><td>Gen1</td><td>Water</td><td>NULL</td><td>1</td></tr>",
                            "<tr><td>Rattled</td><td>Gen2</td><td>Bug</td><td>Flying</td><td>1</td></tr>",
                            "<tr><td>Rattled</td><td>Gen2</td><td>Fairy</td><td>NULL</td><td>2</td></tr>",
                            "<tr><td>Rattled</td><td>Gen2</td><td>Normal</td><td>NULL</td><td>1</td></tr>",
                            "<tr><td>Rattled</td><td>Gen2</td><td>Rock</td><td>NULL</td><td>1</td></tr>",
                            "<tr><td>Rattled</td><td>Gen3</td><td>Dark</td><td>NULL</td><td>1</td></tr>",
                            "<tr><td>Rattled</td><td>Gen3</td><td>Normal</td><td>NULL</td><td>1</td></tr>",
                            "<tr><td>Rattled</td><td>Gen3</td><td>Water</td><td>NULL</td><td>1</td></tr>",
                            "<tr><td>Reckless</td><td>Gen1</td><td>Fight</td><td>NULL</td><td>1</td></tr>",
                            "<tr><td>Reckless</td><td>Gen1</td><td>Ground</td><td>Rock</td><td>2</td></tr>",
                            "<tr><td>Regenerator</td><td>Gen1</td><td>Grass</td><td>NULL</td><td>1</td></tr>",
                            "<tr><td>Regenerator</td><td>Gen1</td><td>Water</td><td>Psychic</td><td>2</td></tr>",
                            "<tr><td>Regenerator</td><td>Gen2</td><td>Fire</td><td>Flying</td><td>1</td></tr>",
                            "<tr><td>Regenerator</td><td>Gen2</td><td>Water</td><td>Psychic</td><td>1</td></tr>",
                            "<tr><td>Regenerator</td><td>Gen2</td><td>Water</td><td>Rock</td><td>1</td></tr>",
                            "<tr><td>Rivalry</td><td>Gen1</td><td>Ground</td><td>Poison Point</td><td>2</td></tr>",
                            "<tr><td>Rivalry</td><td>Gen1</td><td>Poison</td><td>NULL</td><td>4</td></tr>",
                            "<tr><td>Rivalry</td><td>Gen1</td><td>Poison</td><td>Ground</td><td>1</td></tr>",
                            "<tr><td>Rivalry</td><td>Gen3</td><td>Bug</td><td>Flying</td><td>1</td></tr>",
                            "<tr><td>Rock Head</td><td>Gen1</td><td>Ground</td><td>NULL</td><td>2</td></tr>",
                            "<tr><td>Rock Head</td><td>Gen1</td><td>Ground</td><td>Rock</td><td>2</td></tr>",
                            "<tr><td>Rock Head</td><td>Gen1</td><td>Rock</td><td>Flying</td><td>1</td></tr>",
                            "<tr><td>Rock Head</td><td>Gen1</td><td>Rock</td><td>Ground</td><td>4</td></tr>",
                            "<tr><td>Rock Head</td><td>Gen2</td><td>Rock</td><td>NULL</td><td>1</td></tr>",
                            "<tr><td>Rock Head</td><td>Gen2</td><td>Steel</td><td>Ground</td><td>1</td></tr>",
                            "<tr><td>Rock Head</td><td>Gen3</td><td>Dragon</td><td>NULL</td><td>2</td></tr>",
                            "<tr><td>Rock Head</td><td>Gen3</td><td>Steel</td><td>Rock</td><td>3</td></tr>",
                            "<tr><td>Rock Head</td><td>Gen3</td><td>Water</td><td>Rock</td><td>1</td></tr>",
                            "<tr><td>Rough Skin</td><td>Gen3</td><td>Water</td><td>Dark</td><td>2</td></tr>",
                            "<tr><td>Run Away</td><td>Gen1</td><td>Bug</td><td>NULL</td><td>1</td></tr>",
                            "<tr><td>Run Away</td><td>Gen1</td><td>Bug</td><td>Poison</td><td>2</td></tr>",
                            "<tr><td>Run Away</td><td>Gen1</td><td>Fire</td><td>NULL</td><td>2</td></tr>",
                            "<tr><td>Run Away</td><td>Gen1</td><td>Grass</td><td>Poison</td><td>1</td></tr>",
                            "<tr><td>Run Away</td><td>Gen1</td><td>Normal</td><td>NULL</td><td>3</td></tr>",
                            "<tr><td>Run Away</td><td>Gen1</td><td>Normal</td><td>Flying</td><td>2</td></tr>",
                            "<tr><td>Run Away</td><td>Gen2</td><td>Fairy</td><td>NULL</td><td>1</td></tr>",
                            "<tr><td>Run Away</td><td>Gen2</td><td>Normal</td><td>NULL</td><td>4</td></tr>",
                            "<tr><td>Run Away</td><td>Gen3</td><td>Bug</td><td>NULL</td><td>1</td></tr>",
                            "<tr><td>Run Away</td><td>Gen3</td><td>Bug</td><td>Ground</td><td>1</td></tr>",
                            "<tr><td>Run Away</td><td>Gen3</td><td>Dark</td><td>NULL</td><td>1</td></tr>",
                            "<tr><td>Sand Force</td><td>Gen1</td><td>Ground</td><td>NULL</td><td>2</td></tr>",
                            "<tr><td>Sand Force</td><td>Gen3</td><td>Rock</td><td>NULL</td><td>1</td></tr>",
                            "<tr><td>Sand Rush</td><td>Gen1</td><td>Ground</td><td>NULL</td><td>2</td></tr>",
                            "<tr><td>Sand Stream</td><td>Gen2</td><td>Rock</td><td>Dark</td><td>1</td></tr>",
                            "<tr><td>Sand Veil</td><td>Gen1</td><td>Ground</td><td>NULL</td><td>4</td></tr>",
                            "<tr><td>Sand Veil</td><td>Gen1</td><td>Rock</td><td>Ground</td><td>3</td></tr>",
                            "<tr><td>Sand Veil</td><td>Gen2</td><td>Ground</td><td>NULL</td><td>2</td></tr>",
                            "<tr><td>Sand Veil</td><td>Gen2</td><td>Ground</td><td>Flying</td><td>1</td></tr>",
                            "<tr><td>Sand Veil</td><td>Gen2</td><td>Rock</td><td>Ground</td><td>1</td></tr>",
                            "<tr><td>Sand Veil</td><td>Gen3</td><td>Grass</td><td>NULL</td><td>1</td></tr>",
                            "<tr><td>Sand Veil</td><td>Gen3</td><td>Grass</td><td>Dark</td><td>1</td></tr>",
                            "<tr><td>Sap Sipper</td><td>Gen2</td><td>Normal</td><td>NULL</td><td>2</td></tr>",
                            "<tr><td>Sap Sipper</td><td>Gen2</td><td>Normal</td><td>Psychic</td><td>1</td></tr>",
                            "<tr><td>Sap Sipper</td><td>Gen2</td><td>Water</td><td>Fairy</td><td>2</td></tr>",
                            "<tr><td>Sap Sipper</td><td>Gen3</td><td>Normal</td><td>Fairy</td><td>1</td></tr>",
                            "<tr><td>Scrappy</td><td>Gen1</td><td>Normal</td><td>NULL</td><td>1</td></tr>",
                            "<tr><td>Scrappy</td><td>Gen2</td><td>Normal</td><td>NULL</td><td>1</td></tr>",
                            "<tr><td>Scrappy</td><td>Gen3</td><td>Normal</td><td>NULL</td><td>2</td></tr>",
                            "<tr><td>Scrappy</td><td>Gen3</td><td>Normal</td><td>Flying</td><td>2</td></tr>",
                            "<tr><td>Serene Grace</td><td>Gen1</td><td>Normal</td><td>NULL</td><td>1</td></tr>",
                            "<tr><td>Serene Grace</td><td>Gen2</td><td>Fairy</td><td>NULL</td><td>1</td></tr>",
                            "<tr><td>Serene Grace</td><td>Gen2</td><td>Fairy</td><td>Flying</td><td>1</td></tr>",
                            "<tr><td>Serene Grace</td><td>Gen2</td><td>Normal</td><td>NULL</td><td>2</td></tr>",
                            "<tr><td>Serene Grace</td><td>Gen3</td><td>Steel</td><td>Psychic</td><td>1</td></tr>",
                            "<tr><td>Shadow Tag</td><td>Gen2</td><td>Psychic</td><td>NULL</td><td>1</td></tr>",
                            "<tr><td>Shadow Tag</td><td>Gen3</td><td>Psychic</td><td>NULL</td><td>1</td></tr>",
                            "<tr><td>Shed Skin</td><td>Gen1</td><td>Bug</td><td>NULL</td><td>1</td></tr>",
                            "<tr><td>Shed Skin</td><td>Gen1</td><td>Bug</td><td>Poison</td><td>1</td></tr>",
                            "<tr><td>Shed Skin</td><td>Gen1</td><td>Dragon</td><td>NULL</td><td>2</td></tr>",
                            "<tr><td>Shed Skin</td><td>Gen1</td><td>Poison</td><td>NULL</td><td>2</td></tr>",
                            "<tr><td>Shed Skin</td><td>Gen2</td><td>Rock</td><td>Ground</td><td>1</td></tr>",
                            "<tr><td>Shed Skin</td><td>Gen3</td><td>Bug</td><td>NULL</td><td>2</td></tr>",
                            "<tr><td>Shed Skin</td><td>Gen3</td><td>Poison</td><td>NULL</td><td>1</td></tr>",
                            "<tr><td>Sheer Force</td><td>Gen1</td><td>Ground</td><td>Poison Point</td><td>1</td></tr>",
                            "<tr><td>Sheer Force</td><td>Gen1</td><td>Normal</td><td>NULL</td><td>1</td></tr>",
                            "<tr><td>Sheer Force</td><td>Gen1</td><td>Poison</td><td>Ground</td><td>1</td></tr>",
                            "<tr><td>Sheer Force</td><td>Gen1</td><td>Water</td><td>NULL</td><td>2</td></tr>",
                            "<tr><td>Sheer Force</td><td>Gen2</td><td>Steel</td><td>Ground</td><td>1</td></tr>",
                            "<tr><td>Sheer Force</td><td>Gen2</td><td>Water</td><td>NULL</td><td>3</td></tr>",
                            "<tr><td>Sheer Force</td><td>Gen3</td><td>Dragon</td><td>NULL</td><td>1</td></tr>",
                            "<tr><td>Sheer Force</td><td>Gen3</td><td>Fighting</td><td>NULL</td><td>2</td></tr>",
                            "<tr><td>Sheer Force</td><td>Gen3</td><td>Ground</td><td>NULL</td><td>1</td></tr>",
                            "<tr><td>Sheer Force</td><td>Gen3</td><td>Steel</td><td>Fairy</td><td>1</td></tr>",
                            "<tr><td>Shell Armor</td><td>Gen1</td><td>Rock</td><td>Water</td><td>2</td></tr>",
                            "<tr><td>Shell Armor</td><td>Gen1</td><td>Water</td><td>NULL</td><td>3</td></tr>",
                            "<tr><td>Shell Armor</td><td>Gen1</td><td>Water</td><td>Ice</td><td>2</td></tr>",
                            "<tr><td>Shell Armor</td><td>Gen3</td><td>Fire</td><td>NULL</td><td>1</td></tr>",
                            "<tr><td>Shell Armor</td><td>Gen3</td><td>Water</td><td>NULL</td><td>2</td></tr>",
                            "<tr><td>Shell Armor</td><td>Gen3</td><td>Water</td><td>Dark</td><td>1</td></tr>",
                            "<tr><td>Shield Dust</td><td>Gen1</td><td>Bug</td><td>NULL</td><td>1</td></tr>",
                            "<tr><td>Shield Dust</td><td>Gen1</td><td>Bug</td><td>Poison</td><td>2</td></tr>",
                            "<tr><td>Shield Dust</td><td>Gen3</td><td>Bug</td><td>NULL</td><td>1</td></tr>",
                            "<tr><td>Shield Dust</td><td>Gen3</td><td>Bug</td><td>Poison</td><td>1</td></tr>",
                            "<tr><td>Simple</td><td>Gen3</td><td>Fire</td><td>Ground</td><td>1</td></tr>",
                            "<tr><td>Skill Link</td><td>Gen1</td><td>Water</td><td>NULL</td><td>1</td></tr>",
                            "<tr><td>Skill Link</td><td>Gen1</td><td>Water</td><td>Ice</td><td>1</td></tr>",
                            "<tr><td>Skill Link</td><td>Gen2</td><td>Normal</td><td>NULL</td><td>1</td></tr>",
                            "<tr><td>Sniper</td><td>Gen1</td><td>Bug</td><td>Poison</td><td>1</td></tr>",
                            "<tr><td>Sniper</td><td>Gen1</td><td>Normal</td><td>Flying</td><td>2</td></tr>",
                            "<tr><td>Sniper</td><td>Gen1</td><td>Water</td><td>NULL</td><td>2</td></tr>",
                            "<tr><td>Sniper</td><td>Gen2</td><td>Bug</td><td>Poison</td><td>2</td></tr>",
                            "<tr><td>Sniper</td><td>Gen2</td><td>Water</td><td>NULL</td><td>2</td></tr>",
                            "<tr><td>Sniper</td><td>Gen2</td><td>Water</td><td>Dragon</td><td>1</td></tr>",
                            "<tr><td>Snow Cloak</td><td>Gen1</td><td>Ice</td><td>Flying</td><td>1</td></tr>",
                            "<tr><td>Snow Cloak</td><td>Gen2</td><td>Ice</td><td>Ground</td><td>2</td></tr>",
                            "<tr><td>Solar Power</td><td>Gen1</td><td>Fire</td><td>NULL</td><td>2</td></tr>",
                            "<tr><td>Solar Power</td><td>Gen1</td><td>Fire</td><td>Flying</td><td>1</td></tr>",
                            "<tr><td>Solar Power</td><td>Gen2</td><td>Grass</td><td>NULL</td><td>2</td></tr>",
                            "<tr><td>Solar Power</td><td>Gen3</td><td>Grass</td><td>Flying</td><td>1</td></tr>",
                            "<tr><td>Solid Rock</td><td>Gen3</td><td>Fire</td><td>Ground</td><td>1</td></tr>",
                            "<tr><td>Soundproof</td><td>Gen1</td><td>Electric</td><td>NULL</td><td>2</td></tr>",
                            "<tr><td>Soundproof</td><td>Gen1</td><td>Psychic</td><td>Fairy</td><td>1</td></tr>",
                            "<tr><td>Soundproof</td><td>Gen3</td><td>Normal</td><td>NULL</td><td>3</td></tr>",
                            "<tr><td>Speed Boost</td><td>Gen2</td><td>Bug</td><td>Flying</td><td>1</td></tr>",
                            "<tr><td>Speed Boost</td><td>Gen3</td><td>Bug</td><td>Flying</td><td>1</td></tr>",
                            "<tr><td>Speed Boost</td><td>Gen3</td><td>Fire</td><td>NULL</td><td>3</td></tr>",
                            "<tr><td>Speed Boost</td><td>Gen3</td><td>Water</td><td>Dark</td><td>2</td></tr>",
                            "<tr><td>Stall</td><td>Gen3</td><td>Dark</td><td>Ghost</td><td>1</td></tr>",
                            "<tr><td>Static</td><td>Gen1</td><td>Electric</td><td>NULL</td><td>5</td></tr>",
                            "<tr><td>Static</td><td>Gen1</td><td>Electric</td><td>Flying</td><td>1</td></tr>",
                            "<tr><td>Static</td><td>Gen2</td><td>Electric</td><td>NULL</td><td>5</td></tr>",
                            "<tr><td>Static</td><td>Gen3</td><td>Electric</td><td>NULL</td><td>2</td></tr>",
                            "<tr><td>Steadfast</td><td>Gen1</td><td>Bug</td><td>Flying</td><td>1</td></tr>",
                            "<tr><td>Steadfast</td><td>Gen1</td><td>Fighting</td><td>NULL</td><td>3</td></tr>",
                            "<tr><td>Steadfast</td><td>Gen2</td><td>Fighting</td><td>NULL</td><td>2</td></tr>",
                            "<tr><td>Stench</td><td>Gen1</td><td>Grass</td><td>Poison</td><td>1</td></tr>",
                            "<tr><td>Stench</td><td>Gen1</td><td>Poison</td><td>NULL</td><td>4</td></tr>",
                            "<tr><td>Sticky Hold</td><td>Gen1</td><td>Poison</td><td>NULL</td><td>2</td></tr>",
                            "<tr><td>Sticky Hold</td><td>Gen3</td><td>Poison</td><td>NULL</td><td>2</td></tr>",
                            "<tr><td>Storm Drain</td><td>Gen3</td><td>Rock</td><td>Grass</td><td>2</td></tr>",
                            "<tr><td>Sturdy</td><td>Gen1</td><td>Electric</td><td>Steel</td><td>2</td></tr>",
                            "<tr><td>Sturdy</td><td>Gen1</td><td>Rock</td><td>Ground</td><td>4</td></tr>",
                            "<tr><td>Sturdy</td><td>Gen2</td><td>Bug</td><td>NULL</td><td>1</td></tr>",
                            "<tr><td>Sturdy</td><td>Gen2</td><td>Bug</td><td>Rock</td><td>1</td></tr>",
                            "<tr><td>Sturdy</td><td>Gen2</td><td>Bug</td><td>Steel</td><td>1</td></tr>",
                            "<tr><td>Sturdy</td><td>Gen2</td><td>Ground</td><td>NULL</td><td>1</td></tr>",
                            "<tr><td>Sturdy</td><td>Gen2</td><td>Rock</td><td>NULL</td><td>1</td></tr>",
                            "<tr><td>Sturdy</td><td>Gen2</td><td>Steel</td><td>Flying</td><td>1</td></tr>",
                            "<tr><td>Sturdy</td><td>Gen2</td><td>Steel</td><td>Ground</td><td>1</td></tr>",
                            "<tr><td>Sturdy</td><td>Gen3</td><td>Rock</td><td>NULL</td><td>2</td></tr>",
                            "<tr><td>Sturdy</td><td>Gen3</td><td>Steel</td><td>Rock</td><td>3</td></tr>",
                            "<tr><td>Sturdy</td><td>Gen3</td><td>Water</td><td>Rock</td><td>1</td></tr>",
                            "<tr><td>Suction Cups</td><td>Gen2</td><td>Water</td><td>NULL</td><td>1</td></tr>",
                            "<tr><td>Suction Cups</td><td>Gen3</td><td>Rock</td><td>Grass</td><td>2</td></tr>",
                            "<tr><td>Super Luck</td><td>Gen2</td><td>Dark</td><td>Flying</td><td>1</td></tr>",
                            "<tr><td>Super Luck</td><td>Gen2</td><td>Fairy</td><td>NULL</td><td>1</td></tr>",
                            "<tr><td>Super Luck</td><td>Gen2</td><td>Fairy</td><td>Flying</td><td>1</td></tr>",
                            "<tr><td>Super Luck</td><td>Gen3</td><td>Dark</td><td>NULL</td><td>1</td></tr>",
                            "<tr><td>Swarm</td><td>Gen1</td><td>Bug</td><td>Flying</td><td>1</td></tr>",
                            "<tr><td>Swarm</td><td>Gen1</td><td>Bug</td><td>Poison</td><td>1</td></tr>",
                            "<tr><td>Swarm</td><td>Gen2</td><td>Bug</td><td>Fighting</td><td>1</td></tr>",
                            "<tr><td>Swarm</td><td>Gen2</td><td>Bug</td><td>Flying</td><td>2</td></tr>",
                            "<tr><td>Swarm</td><td>Gen2</td><td>Bug</td><td>Poison</td><td>2</td></tr>",
                            "<tr><td>Swarm</td><td>Gen2</td><td>Bug</td><td>Steel</td><td>1</td></tr>",
                            "<tr><td>Swarm</td><td>Gen3</td><td>Bug</td><td>NULL</td><td>1</td></tr>",
                            "<tr><td>Swarm</td><td>Gen3</td><td>Bug</td><td>Flying</td><td>1</td></tr>",
                            "<tr><td>Swift Swim</td><td>Gen1</td><td>Rock</td><td>Water</td><td>4</td></tr>",
                            "<tr><td>Swift Swim</td><td>Gen1</td><td>Water</td><td>NULL</td><td>8</td></tr>",
                            "<tr><td>Swift Swim</td><td>Gen1</td><td>Water</td><td>Fighting</td><td>1</td></tr>",
                            "<tr><td>Swift Swim</td><td>Gen2</td><td>Water</td><td>Dragon</td><td>1</td></tr>",
                            "<tr><td>Swift Swim</td><td>Gen2</td><td>Water</td><td>Flying</td><td>1</td></tr>",
                            "<tr><td>Swift Swim</td><td>Gen2</td><td>Water</td><td>Poison</td><td>1</td></tr>",
                            "<tr><td>Swift Swim</td><td>Gen3</td><td>Bug</td><td>Water</td><td>1</td></tr>",
                            "<tr><td>Swift Swim</td><td>Gen3</td><td>Rock</td><td>Bug</td><td>2</td></tr>",
                            "<tr><td>Swift Swim</td><td>Gen3</td><td>Water</td><td>NULL</td><td>4</td></tr>",
                            "<tr><td>Swift Swim</td><td>Gen3</td><td>Water</td><td>Grass</td><td>3</td></tr>",
                            "<tr><td>Swift Swim</td><td>Gen3</td><td>Water</td><td>Rock</td><td>1</td></tr>",
                            "<tr><td>Synchronize</td><td>Gen1</td><td>Psychic</td><td>NULL</td><td>4</td></tr>",
                            "<tr><td>Synchronize</td><td>Gen2</td><td>Dark</td><td>NULL</td><td>1</td></tr>",
                            "<tr><td>Synchronize</td><td>Gen2</td><td>Psychic</td><td>NULL</td><td>1</td></tr>",
                            "<tr><td>Synchronize</td><td>Gen2</td><td>Psychic</td><td>Flying</td><td>2</td></tr>",
                            "<tr><td>Synchronize</td><td>Gen3</td><td>Psychic</td><td>Fairy</td><td>3</td></tr>",
                            "<tr><td>Tangled Feet</td><td>Gen1</td><td>Normal</td><td>Flying</td><td>5</td></tr>",
                            "<tr><td>Tangled Feet</td><td>Gen3</td><td>Normal</td><td>NULL</td><td>1</td></tr>",
                            "<tr><td>Technician</td><td>Gen1</td><td>Bug</td><td>Flying</td><td>1</td></tr>",
                            "<tr><td>Technician</td><td>Gen1</td><td>Normal</td><td>NULL</td><td>2</td></tr>",
                            "<tr><td>Technician</td><td>Gen1</td><td>Psychic</td><td>Fairy</td><td>1</td></tr>",
                            "<tr><td>Technician</td><td>Gen2</td><td>Bug</td><td>Steel</td><td>1</td></tr>",
                            "<tr><td>Technician</td><td>Gen2</td><td>Fighting</td><td>NULL</td><td>1</td></tr>",
                            "<tr><td>Technician</td><td>Gen2</td><td>Normal</td><td>NULL</td><td>1</td></tr>",
                            "<tr><td>Technician</td><td>Gen3</td><td>Grass</td><td>Fighting</td><td>1</td></tr>",
                            "<tr><td>Telepathy</td><td>Gen2</td><td>Psychic</td><td>NULL</td><td>1</td></tr>",
                            "<tr><td>Telepathy</td><td>Gen3</td><td>Fighting</td><td>Psychic</td><td>2</td></tr>",
                            "<tr><td>Telepathy</td><td>Gen3</td><td>Psychic</td><td>NULL</td><td>1</td></tr>",
                            "<tr><td>Telepathy</td><td>Gen3</td><td>Psychic</td><td>Fairy</td><td>3</td></tr>",
                            "<tr><td>Thick Fat</td><td>Gen1</td><td>Normal</td><td>NULL</td><td>1</td></tr>",
                            "<tr><td>Thick Fat</td><td>Gen1</td><td>Water</td><td>NULL</td><td>1</td></tr>",
                            "<tr><td>Thick Fat</td><td>Gen1</td><td>Water</td><td>Ice</td><td>1</td></tr>",
                            "<tr><td>Thick Fat</td><td>Gen2</td><td>Ice</td><td>Ground</td><td>2</td></tr>",
                            "<tr><td>Thick Fat</td><td>Gen2</td><td>Normal</td><td>NULL</td><td>1</td></tr>",
                            "<tr><td>Thick Fat</td><td>Gen2</td><td>Water</td><td>Fairy</td><td>2</td></tr>",
                            "<tr><td>Thick Fat</td><td>Gen3</td><td>Fighting</td><td>NULL</td><td>2</td></tr>",
                            "<tr><td>Thick Fat</td><td>Gen3</td><td>Ice</td><td>Water</td><td>3</td></tr>",
                            "<tr><td>Thick Fat</td><td>Gen3</td><td>Normal</td><td>Fairy</td><td>1</td></tr>",
                            "<tr><td>Thick Fat</td><td>Gen3</td><td>Psychic</td><td>NULL</td><td>2</td></tr>",
                            "<tr><td>Tinted Lens</td><td>Gen1</td><td>Bug</td><td>Flying</td><td>1</td></tr>",
                            "<tr><td>Tinted Lens</td><td>Gen1</td><td>Bug</td><td>Poison</td><td>2</td></tr>",
                            "<tr><td>Tinted Lens</td><td>Gen2</td><td>Normal</td><td>Flying</td><td>2</td></tr>",
                            "<tr><td>Tinted Lens</td><td>Gen3</td><td>Bug</td><td>NULL</td><td>1</td></tr>",
                            "<tr><td>Torrent</td><td>Gen1</td><td>Water</td><td>NULL</td><td>3</td></tr>",
                            "<tr><td>Torrent</td><td>Gen2</td><td>Water</td><td>NULL</td><td>3</td></tr>",
                            "<tr><td>Torrent</td><td>Gen3</td><td>Water</td><td>NULL</td><td>3</td></tr>",
                            "<tr><td>Toxic Boost</td><td>Gen3</td><td>Normal</td><td>NULL</td><td>1</td></tr>",
                            "<tr><td>Trace</td><td>Gen1</td><td>Normal</td><td>NULL</td><td>1</td></tr>",
                            "<tr><td>Trace</td><td>Gen2</td><td>Normal</td><td>NULL</td><td>1</td></tr>",
                            "<tr><td>Trace</td><td>Gen3</td><td>Psychic</td><td>Fairy</td><td>3</td></tr>",
                            "<tr><td>Truant</td><td>Gen3</td><td>Normal</td><td>NULL</td><td>2</td></tr>",
                            "<tr><td>Unaware</td><td>Gen2</td><td>Water</td><td>Ground</td><td>2</td></tr>",
                            "<tr><td>Unburden</td><td>Gen1</td><td>Fight</td><td>NULL</td><td>1</td></tr>",
                            "<tr><td>Unburden</td><td>Gen3</td><td>Grass</td><td>NULL</td><td>3</td></tr>",
                            "<tr><td>Unnerve</td><td>Gen1</td><td>Normal</td><td>NULL</td><td>2</td></tr>",
                            "<tr><td>Unnerve</td><td>Gen1</td><td>Poison</td><td>NULL</td><td>2</td></tr>",
                            "<tr><td>Unnerve</td><td>Gen1</td><td>Psychic</td><td>NULL</td><td>1</td></tr>",
                            "<tr><td>Unnerve</td><td>Gen1</td><td>Rock</td><td>Flying</td><td>1</td></tr>",
                            "<tr><td>Unnerve</td><td>Gen2</td><td>Dark</td><td>Fire</td><td>2</td></tr>",
                            "<tr><td>Unnerve</td><td>Gen2</td><td>Normal</td><td>NULL</td><td>1</td></tr>",
                            "<tr><td>Unnerve</td><td>Gen2</td><td>Rock</td><td>Dark</td><td>1</td></tr>",
                            "<tr><td>Unnerve</td><td>Gen3</td><td>Bug</td><td>Flying</td><td>1</td></tr>",
                            "<tr><td>Vital Spirit</td><td>Gen1</td><td>Electric</td><td>NULL</td><td>1</td></tr>",
                            "<tr><td>Vital Spirit</td><td>Gen1</td><td>Fighting</td><td>NULL</td><td>2</td></tr>",
                            "<tr><td>Vital Spirit</td><td>Gen1</td><td>Fire</td><td>NULL</td><td>1</td></tr>",
                            "<tr><td>Vital Spirit</td><td>Gen2</td><td>Electric</td><td>NULL</td><td>1</td></tr>",
                            "<tr><td>Vital Spirit</td><td>Gen2</td><td>Fighting</td><td>NULL</td><td>1</td></tr>",
                            "<tr><td>Vital Spirit</td><td>Gen2</td><td>Fire</td><td>NULL</td><td>1</td></tr>",
                            "<tr><td>Vital Spirit</td><td>Gen2</td><td>Ice</td><td>Flying</td><td>1</td></tr>",
                            "<tr><td>Vital Spirit</td><td>Gen3</td><td>Normal</td><td>NULL</td><td>1</td></tr>",
                            "<tr><td>Volt Absorb</td><td>Gen1</td><td>Electric</td><td>NULL</td><td>1</td></tr>",
                            "<tr><td>Volt Absorb</td><td>Gen2</td><td>Water</td><td>Electric</td><td>2</td></tr>",
                            "<tr><td>Volt Absorb</td><td>Gen3</td><td>Electric</td><td>NULL</td><td>1</td></tr>",
                            "<tr><td>Water Absorb</td><td>Gen1</td><td>Water</td><td>NULL</td><td>3</td></tr>",
                            "<tr><td>Water Absorb</td><td>Gen1</td><td>Water</td><td>Fighting</td><td>1</td></tr>",
                            "<tr><td>Water Absorb</td><td>Gen1</td><td>Water</td><td>Ice</td><td>1</td></tr>",
                            "<tr><td>Water Absorb</td><td>Gen2</td><td>Water</td><td>NULL</td><td>1</td></tr>",
                            "<tr><td>Water Absorb</td><td>Gen2</td><td>Water</td><td>Electric</td><td>2</td></tr>",
                            "<tr><td>Water Absorb</td><td>Gen2</td><td>Water</td><td>Flying</td><td>1</td></tr>",
                            "<tr><td>Water Absorb</td><td>Gen2</td><td>Water</td><td>Ground</td><td>2</td></tr>",
                            "<tr><td>Water Absorb</td><td>Gen3</td><td>Grass</td><td>NULL</td><td>1</td></tr>",
                            "<tr><td>Water Absorb</td><td>Gen3</td><td>Grass</td><td>Dark</td><td>1</td></tr>",
                            "<tr><td>Water Veil</td><td>Gen1</td><td>Water</td><td>NULL</td><td>2</td></tr>",
                            "<tr><td>Water Veil</td><td>Gen2</td><td>Water</td><td>Flying</td><td>1</td></tr>",
                            "<tr><td>Water Veil</td><td>Gen3</td><td>Water</td><td>NULL</td><td>3</td></tr>",
                            "<tr><td>Weak Amour</td><td>Gen1</td><td>Rock</td><td>Water</td><td>4</td></tr>",
                            "<tr><td>Weak Armor</td><td>Gen1</td><td>Rock</td><td>Ground</td><td>1</td></tr>",
                            "<tr><td>Weak Armor</td><td>Gen2</td><td>Fire</td><td>NULL</td><td>1</td></tr>",
                            "<tr><td>Weak Armor</td><td>Gen2</td><td>Fire</td><td>Rock</td><td>1</td></tr>",
                            "<tr><td>Weak Armor</td><td>Gen2</td><td>Steel</td><td>Flying</td><td>1</td></tr>",
                            "<tr><td>White Smoke</td><td>Gen3</td><td>Fire</td><td>NULL</td><td>1</td></tr>",
                            "<tr><td>Wind Rider</td><td>Gen3</td><td>Grass</td><td>Dark</td><td>1</td></tr>",
                            "<tr><td>Wonder Guard</td><td>Gen3</td><td>Bug</td><td>Ghost</td><td>1</td></tr>",
                            "<tr><td>Wonder Skin</td><td>Gen1</td><td>Bug</td><td>Poison</td><td>1</td></tr>",
                            "<tr><td>Wonder Skin</td><td>Gen3</td><td>Normal</td><td>NULL</td><td>2</td></tr>",
                            "</table>"
                        ]
                    }
                }
            ],
            "execution_count": 7
        }
    ]
}