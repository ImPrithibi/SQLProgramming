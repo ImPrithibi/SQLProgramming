{
    "metadata": {
        "kernelspec": {
            "name": "SQL",
            "display_name": "SQL",
            "language": "sql"
        },
        "language_info": {
            "name": "sql",
            "version": ""
        }
    },
    "nbformat_minor": 2,
    "nbformat": 4,
    "cells": [
        {
            "cell_type": "markdown",
            "source": [
                "**QUERY 1 BEST 1**\n",
                "\n",
                "**Problem:** list all abilities shared by Pokémon across different generations, including the count of Pokémon per ability and the generations they span\n",
                "\n",
                "**Tables:** \n",
                "\n",
                "PokemonGen1, \n",
                "\n",
                "<span style=\"font-family: -apple-system, BlinkMacSystemFont, sans-serif; color: var(--vscode-foreground);\">PokemonGen2,&nbsp;</span>     \n",
                "\n",
                "<span style=\"font-family: -apple-system, BlinkMacSystemFont, sans-serif; color: var(--vscode-foreground);\">PokemonGen3</span>\n",
                "\n",
                "**Columns:** \n",
                "\n",
                "Ability1, \n",
                "\n",
                "Generation is a derived column, \n",
                "\n",
                "Totalcount derieved column\n",
                "\n",
                "**Predicate:** \n",
                "\n",
                "HAVING COUNT(DISTINCT Generation) \\> 1: This predicate is used to filter abilities that appear in more than one generation. It ensures that only abilities shared across different generations are included in the final output. \n",
                "\n",
                "**Process:**\n",
                "\n",
                "The AbilityCounts CTE combines the Ability1 data and associated generation from the first three Pokémon generation tables, treating them as if they came from a single source. The RankedAbilities CTE then aggregates this combined data to count how many times each ability appears across the generations and identifies in which generations each ability is found. The final SELECT statement orders the results by the total count of each ability (descending) and alphabetically by ability name."
            ],
            "metadata": {
                "language": "sql",
                "azdata_cell_guid": "5477dbdb-ed8b-4cdc-ae6b-cc2d9ad84135"
            },
            "attachments": {}
        },
        {
            "cell_type": "code",
            "source": [
                "--listing all abilities shared by Pokémon across different generations, including the count of Pokémon per ability and the generations they span\n",
                "\n",
                "\n",
                "USE PokemonGen1;\n",
                "USE PokemonGen2;\n",
                "USE PokemonGen3;\n",
                "\n",
                "WITH AbilityCounts AS (\n",
                "  SELECT Ability1, 'Gen1' AS Generation\n",
                "  FROM PokemonGen1.dbo.PokemonGen1\n",
                "  UNION ALL\n",
                "  SELECT ability1, 'Gen2'\n",
                "  FROM PokemonGen2.dbo.PokemonGen2\n",
                "  UNION ALL\n",
                "  SELECT ability1, 'Gen3'\n",
                "  FROM PokemonGen3.dbo.PokemonGen3\n",
                "),\n",
                "RankedAbilities AS (\n",
                "  SELECT Ability1, COUNT(*) AS TotalCount, STRING_AGG(Generation, ', ') WITHIN GROUP (ORDER BY Generation) AS Generations\n",
                "  FROM AbilityCounts\n",
                "  GROUP BY Ability1\n",
                "  HAVING COUNT(DISTINCT Generation) > 1 -- Abilities that appear in more than one generation\n",
                ")\n",
                "SELECT Ability1, TotalCount, Generations\n",
                "FROM RankedAbilities\n",
                "ORDER BY TotalCount DESC, Ability1;"
            ],
            "metadata": {
                "azdata_cell_guid": "a9ca275c-5437-4c80-b049-c180bac2cc03",
                "language": "sql"
            },
            "outputs": [
                {
                    "output_type": "display_data",
                    "data": {
                        "text/html": "(48 rows affected)"
                    },
                    "metadata": {}
                },
                {
                    "output_type": "display_data",
                    "data": {
                        "text/html": "Total execution time: 00:00:00.031"
                    },
                    "metadata": {}
                },
                {
                    "output_type": "execute_result",
                    "execution_count": 1,
                    "data": {
                        "application/vnd.dataresource+json": {
                            "schema": {
                                "fields": [
                                    {
                                        "name": "Ability1"
                                    },
                                    {
                                        "name": "TotalCount"
                                    },
                                    {
                                        "name": "Generations"
                                    }
                                ]
                            },
                            "data": [
                                {
                                    "Ability1": "Chlorophyll",
                                    "TotalCount": "19",
                                    "Generations": "Gen1, Gen1, Gen1, Gen1, Gen1, Gen1, Gen1, Gen1, Gen1, Gen2, Gen2, Gen2, Gen2, Gen2, Gen2, Gen3, Gen3, Gen3, Gen3"
                                },
                                {
                                    "Ability1": "Swift Swim",
                                    "TotalCount": "19",
                                    "Generations": "Gen1, Gen1, Gen1, Gen1, Gen1, Gen1, Gen1, Gen1, Gen2, Gen2, Gen3, Gen3, Gen3, Gen3, Gen3, Gen3, Gen3, Gen3, Gen3"
                                },
                                {
                                    "Ability1": "Levitate",
                                    "TotalCount": "16",
                                    "Generations": "Gen1, Gen1, Gen1, Gen1, Gen2, Gen2, Gen3, Gen3, Gen3, Gen3, Gen3, Gen3, Gen3, Gen3, Gen3, Gen3"
                                },
                                {
                                    "Ability1": "Intimidate",
                                    "TotalCount": "13",
                                    "Generations": "Gen1, Gen1, Gen1, Gen1, Gen1, Gen1, Gen2, Gen2, Gen2, Gen2, Gen3, Gen3, Gen3"
                                },
                                {
                                    "Ability1": "Thick Fat",
                                    "TotalCount": "13",
                                    "Generations": "Gen1, Gen1, Gen2, Gen2, Gen2, Gen3, Gen3, Gen3, Gen3, Gen3, Gen3, Gen3, Gen3"
                                },
                                {
                                    "Ability1": "Pressure",
                                    "TotalCount": "12",
                                    "Generations": "Gen1, Gen1, Gen1, Gen1, Gen2, Gen2, Gen2, Gen2, Gen2, Gen3, Gen3, Gen3"
                                },
                                {
                                    "Ability1": "Keen Eye",
                                    "TotalCount": "11",
                                    "Generations": "Gen1, Gen1, Gen1, Gen1, Gen1, Gen1, Gen1, Gen2, Gen3, Gen3, Gen3"
                                },
                                {
                                    "Ability1": "Oblivious",
                                    "TotalCount": "11",
                                    "Generations": "Gen1, Gen1, Gen1, Gen2, Gen2, Gen2, Gen2, Gen3, Gen3, Gen3, Gen3"
                                },
                                {
                                    "Ability1": "Run Away",
                                    "TotalCount": "11",
                                    "Generations": "Gen1, Gen1, Gen1, Gen1, Gen1, Gen1, Gen1, Gen2, Gen2, Gen2, Gen3"
                                },
                                {
                                    "Ability1": "Synchronize",
                                    "TotalCount": "11",
                                    "Generations": "Gen1, Gen1, Gen1, Gen1, Gen2, Gen2, Gen2, Gen2, Gen3, Gen3, Gen3"
                                },
                                {
                                    "Ability1": "Rock Head",
                                    "TotalCount": "10",
                                    "Generations": "Gen1, Gen1, Gen1, Gen1, Gen1, Gen1, Gen1, Gen2, Gen3, Gen3"
                                },
                                {
                                    "Ability1": "Static",
                                    "TotalCount": "10",
                                    "Generations": "Gen1, Gen1, Gen1, Gen2, Gen2, Gen2, Gen2, Gen2, Gen3, Gen3"
                                },
                                {
                                    "Ability1": "Blaze",
                                    "TotalCount": "9",
                                    "Generations": "Gen1, Gen1, Gen1, Gen2, Gen2, Gen2, Gen3, Gen3, Gen3"
                                },
                                {
                                    "Ability1": "Overgrow",
                                    "TotalCount": "9",
                                    "Generations": "Gen1, Gen1, Gen1, Gen2, Gen2, Gen2, Gen3, Gen3, Gen3"
                                },
                                {
                                    "Ability1": "Sturdy",
                                    "TotalCount": "9",
                                    "Generations": "Gen2, Gen2, Gen2, Gen2, Gen2, Gen3, Gen3, Gen3, Gen3"
                                },
                                {
                                    "Ability1": "Swarm",
                                    "TotalCount": "9",
                                    "Generations": "Gen1, Gen1, Gen2, Gen2, Gen2, Gen2, Gen2, Gen2, Gen3"
                                },
                                {
                                    "Ability1": "Torrent",
                                    "TotalCount": "9",
                                    "Generations": "Gen1, Gen1, Gen1, Gen2, Gen2, Gen2, Gen3, Gen3, Gen3"
                                },
                                {
                                    "Ability1": "Clear Body",
                                    "TotalCount": "8",
                                    "Generations": "Gen1, Gen1, Gen3, Gen3, Gen3, Gen3, Gen3, Gen3"
                                },
                                {
                                    "Ability1": "Cute Charm",
                                    "TotalCount": "8",
                                    "Generations": "Gen1, Gen1, Gen1, Gen1, Gen2, Gen2, Gen3, Gen3"
                                },
                                {
                                    "Ability1": "Guts",
                                    "TotalCount": "8",
                                    "Generations": "Gen1, Gen1, Gen1, Gen2, Gen2, Gen2, Gen3, Gen3"
                                },
                                {
                                    "Ability1": "Hyper Cutter",
                                    "TotalCount": "8",
                                    "Generations": "Gen1, Gen1, Gen1, Gen2, Gen3, Gen3, Gen3, Gen3"
                                },
                                {
                                    "Ability1": "Inner Focus",
                                    "TotalCount": "8",
                                    "Generations": "Gen1, Gen1, Gen1, Gen2, Gen2, Gen2, Gen3, Gen3"
                                },
                                {
                                    "Ability1": "Shed Skin",
                                    "TotalCount": "8",
                                    "Generations": "Gen1, Gen1, Gen1, Gen1, Gen2, Gen3, Gen3, Gen3"
                                },
                                {
                                    "Ability1": "Insomnia",
                                    "TotalCount": "7",
                                    "Generations": "Gen1, Gen1, Gen2, Gen2, Gen2, Gen3, Gen3"
                                },
                                {
                                    "Ability1": "Poison Point",
                                    "TotalCount": "7",
                                    "Generations": "Gen1, Gen1, Gen1, Gen1, Gen1, Gen1, Gen2"
                                },
                                {
                                    "Ability1": "Natural Cure",
                                    "TotalCount": "6",
                                    "Generations": "Gen1, Gen2, Gen2, Gen3, Gen3, Gen3"
                                },
                                {
                                    "Ability1": "Sand Veil",
                                    "TotalCount": "6",
                                    "Generations": "Gen1, Gen1, Gen1, Gen1, Gen3, Gen3"
                                },
                                {
                                    "Ability1": "Soundproof",
                                    "TotalCount": "6",
                                    "Generations": "Gen1, Gen1, Gen1, Gen3, Gen3, Gen3"
                                },
                                {
                                    "Ability1": "Water Absorb",
                                    "TotalCount": "6",
                                    "Generations": "Gen1, Gen1, Gen1, Gen1, Gen1, Gen2"
                                },
                                {
                                    "Ability1": "Pickup",
                                    "TotalCount": "5",
                                    "Generations": "Gen1, Gen2, Gen2, Gen3, Gen3"
                                },
                                {
                                    "Ability1": "Shield Dust",
                                    "TotalCount": "5",
                                    "Generations": "Gen1, Gen1, Gen1, Gen3, Gen3"
                                },
                                {
                                    "Ability1": "Damp",
                                    "TotalCount": "4",
                                    "Generations": "Gen1, Gen1, Gen2, Gen2"
                                },
                                {
                                    "Ability1": "Effect Spore",
                                    "TotalCount": "4",
                                    "Generations": "Gen1, Gen1, Gen3, Gen3"
                                },
                                {
                                    "Ability1": "Vital Spirit",
                                    "TotalCount": "4",
                                    "Generations": "Gen1, Gen1, Gen2, Gen3"
                                },
                                {
                                    "Ability1": "Compoundeyes",
                                    "TotalCount": "3",
                                    "Generations": "Gen1, Gen1, Gen3"
                                },
                                {
                                    "Ability1": "Early Bird",
                                    "TotalCount": "3",
                                    "Generations": "Gen1, Gen2, Gen2"
                                },
                                {
                                    "Ability1": "Illuminate",
                                    "TotalCount": "3",
                                    "Generations": "Gen1, Gen1, Gen3"
                                },
                                {
                                    "Ability1": "Magma Armor",
                                    "TotalCount": "3",
                                    "Generations": "Gen2, Gen2, Gen3"
                                },
                                {
                                    "Ability1": "Own Tempo",
                                    "TotalCount": "3",
                                    "Generations": "Gen1, Gen2, Gen3"
                                },
                                {
                                    "Ability1": "Shell Armor",
                                    "TotalCount": "3",
                                    "Generations": "Gen1, Gen1, Gen3"
                                },
                                {
                                    "Ability1": "Suction Cups",
                                    "TotalCount": "3",
                                    "Generations": "Gen2, Gen3, Gen3"
                                },
                                {
                                    "Ability1": "Volt Absorb",
                                    "TotalCount": "3",
                                    "Generations": "Gen1, Gen2, Gen2"
                                },
                                {
                                    "Ability1": "Flame Body",
                                    "TotalCount": "2",
                                    "Generations": "Gen1, Gen2"
                                },
                                {
                                    "Ability1": "Immunity",
                                    "TotalCount": "2",
                                    "Generations": "Gen1, Gen3"
                                },
                                {
                                    "Ability1": "Serene Grace",
                                    "TotalCount": "2",
                                    "Generations": "Gen2, Gen3"
                                },
                                {
                                    "Ability1": "Shadow Tag",
                                    "TotalCount": "2",
                                    "Generations": "Gen2, Gen3"
                                },
                                {
                                    "Ability1": "Speed Boost",
                                    "TotalCount": "2",
                                    "Generations": "Gen2, Gen3"
                                },
                                {
                                    "Ability1": "Trace",
                                    "TotalCount": "2",
                                    "Generations": "Gen1, Gen2"
                                }
                            ]
                        },
                        "text/html": "<table><tr><th>Ability1</th><th>TotalCount</th><th>Generations</th></tr><tr><td>Chlorophyll</td><td>19</td><td>Gen1, Gen1, Gen1, Gen1, Gen1, Gen1, Gen1, Gen1, Gen1, Gen2, Gen2, Gen2, Gen2, Gen2, Gen2, Gen3, Gen3, Gen3, Gen3</td></tr><tr><td>Swift Swim</td><td>19</td><td>Gen1, Gen1, Gen1, Gen1, Gen1, Gen1, Gen1, Gen1, Gen2, Gen2, Gen3, Gen3, Gen3, Gen3, Gen3, Gen3, Gen3, Gen3, Gen3</td></tr><tr><td>Levitate</td><td>16</td><td>Gen1, Gen1, Gen1, Gen1, Gen2, Gen2, Gen3, Gen3, Gen3, Gen3, Gen3, Gen3, Gen3, Gen3, Gen3, Gen3</td></tr><tr><td>Intimidate</td><td>13</td><td>Gen1, Gen1, Gen1, Gen1, Gen1, Gen1, Gen2, Gen2, Gen2, Gen2, Gen3, Gen3, Gen3</td></tr><tr><td>Thick Fat</td><td>13</td><td>Gen1, Gen1, Gen2, Gen2, Gen2, Gen3, Gen3, Gen3, Gen3, Gen3, Gen3, Gen3, Gen3</td></tr><tr><td>Pressure</td><td>12</td><td>Gen1, Gen1, Gen1, Gen1, Gen2, Gen2, Gen2, Gen2, Gen2, Gen3, Gen3, Gen3</td></tr><tr><td>Keen Eye</td><td>11</td><td>Gen1, Gen1, Gen1, Gen1, Gen1, Gen1, Gen1, Gen2, Gen3, Gen3, Gen3</td></tr><tr><td>Oblivious</td><td>11</td><td>Gen1, Gen1, Gen1, Gen2, Gen2, Gen2, Gen2, Gen3, Gen3, Gen3, Gen3</td></tr><tr><td>Run Away</td><td>11</td><td>Gen1, Gen1, Gen1, Gen1, Gen1, Gen1, Gen1, Gen2, Gen2, Gen2, Gen3</td></tr><tr><td>Synchronize</td><td>11</td><td>Gen1, Gen1, Gen1, Gen1, Gen2, Gen2, Gen2, Gen2, Gen3, Gen3, Gen3</td></tr><tr><td>Rock Head</td><td>10</td><td>Gen1, Gen1, Gen1, Gen1, Gen1, Gen1, Gen1, Gen2, Gen3, Gen3</td></tr><tr><td>Static</td><td>10</td><td>Gen1, Gen1, Gen1, Gen2, Gen2, Gen2, Gen2, Gen2, Gen3, Gen3</td></tr><tr><td>Blaze</td><td>9</td><td>Gen1, Gen1, Gen1, Gen2, Gen2, Gen2, Gen3, Gen3, Gen3</td></tr><tr><td>Overgrow</td><td>9</td><td>Gen1, Gen1, Gen1, Gen2, Gen2, Gen2, Gen3, Gen3, Gen3</td></tr><tr><td>Sturdy</td><td>9</td><td>Gen2, Gen2, Gen2, Gen2, Gen2, Gen3, Gen3, Gen3, Gen3</td></tr><tr><td>Swarm</td><td>9</td><td>Gen1, Gen1, Gen2, Gen2, Gen2, Gen2, Gen2, Gen2, Gen3</td></tr><tr><td>Torrent</td><td>9</td><td>Gen1, Gen1, Gen1, Gen2, Gen2, Gen2, Gen3, Gen3, Gen3</td></tr><tr><td>Clear Body</td><td>8</td><td>Gen1, Gen1, Gen3, Gen3, Gen3, Gen3, Gen3, Gen3</td></tr><tr><td>Cute Charm</td><td>8</td><td>Gen1, Gen1, Gen1, Gen1, Gen2, Gen2, Gen3, Gen3</td></tr><tr><td>Guts</td><td>8</td><td>Gen1, Gen1, Gen1, Gen2, Gen2, Gen2, Gen3, Gen3</td></tr><tr><td>Hyper Cutter</td><td>8</td><td>Gen1, Gen1, Gen1, Gen2, Gen3, Gen3, Gen3, Gen3</td></tr><tr><td>Inner Focus</td><td>8</td><td>Gen1, Gen1, Gen1, Gen2, Gen2, Gen2, Gen3, Gen3</td></tr><tr><td>Shed Skin</td><td>8</td><td>Gen1, Gen1, Gen1, Gen1, Gen2, Gen3, Gen3, Gen3</td></tr><tr><td>Insomnia</td><td>7</td><td>Gen1, Gen1, Gen2, Gen2, Gen2, Gen3, Gen3</td></tr><tr><td>Poison Point</td><td>7</td><td>Gen1, Gen1, Gen1, Gen1, Gen1, Gen1, Gen2</td></tr><tr><td>Natural Cure</td><td>6</td><td>Gen1, Gen2, Gen2, Gen3, Gen3, Gen3</td></tr><tr><td>Sand Veil</td><td>6</td><td>Gen1, Gen1, Gen1, Gen1, Gen3, Gen3</td></tr><tr><td>Soundproof</td><td>6</td><td>Gen1, Gen1, Gen1, Gen3, Gen3, Gen3</td></tr><tr><td>Water Absorb</td><td>6</td><td>Gen1, Gen1, Gen1, Gen1, Gen1, Gen2</td></tr><tr><td>Pickup</td><td>5</td><td>Gen1, Gen2, Gen2, Gen3, Gen3</td></tr><tr><td>Shield Dust</td><td>5</td><td>Gen1, Gen1, Gen1, Gen3, Gen3</td></tr><tr><td>Damp</td><td>4</td><td>Gen1, Gen1, Gen2, Gen2</td></tr><tr><td>Effect Spore</td><td>4</td><td>Gen1, Gen1, Gen3, Gen3</td></tr><tr><td>Vital Spirit</td><td>4</td><td>Gen1, Gen1, Gen2, Gen3</td></tr><tr><td>Compoundeyes</td><td>3</td><td>Gen1, Gen1, Gen3</td></tr><tr><td>Early Bird</td><td>3</td><td>Gen1, Gen2, Gen2</td></tr><tr><td>Illuminate</td><td>3</td><td>Gen1, Gen1, Gen3</td></tr><tr><td>Magma Armor</td><td>3</td><td>Gen2, Gen2, Gen3</td></tr><tr><td>Own Tempo</td><td>3</td><td>Gen1, Gen2, Gen3</td></tr><tr><td>Shell Armor</td><td>3</td><td>Gen1, Gen1, Gen3</td></tr><tr><td>Suction Cups</td><td>3</td><td>Gen2, Gen3, Gen3</td></tr><tr><td>Volt Absorb</td><td>3</td><td>Gen1, Gen2, Gen2</td></tr><tr><td>Flame Body</td><td>2</td><td>Gen1, Gen2</td></tr><tr><td>Immunity</td><td>2</td><td>Gen1, Gen3</td></tr><tr><td>Serene Grace</td><td>2</td><td>Gen2, Gen3</td></tr><tr><td>Shadow Tag</td><td>2</td><td>Gen2, Gen3</td></tr><tr><td>Speed Boost</td><td>2</td><td>Gen2, Gen3</td></tr><tr><td>Trace</td><td>2</td><td>Gen1, Gen2</td></tr></table>"
                    },
                    "metadata": {}
                }
            ],
            "execution_count": 1
        },
        {
            "cell_type": "markdown",
            "source": [
                "**QUERY 2** \n",
                "\n",
                "**Problem:**   <span style=\"font-family: -apple-system, BlinkMacSystemFont, sans-serif; color: var(--vscode-foreground);\">&nbsp;Find Pokémon that have moves unique to their generation, excluding moves learned by Pokémon in other generations</span>\n",
                "\n",
                "**Tables:** \n",
                "\n",
                "PokemonGen1, \n",
                "\n",
                "<span style=\"font-family: -apple-system, BlinkMacSystemFont, sans-serif; color: var(--vscode-foreground);\">PokemonGen2,&nbsp;</span>          \n",
                "\n",
                "<span style=\"font-family: -apple-system, BlinkMacSystemFont, sans-serif; color: var(--vscode-foreground);\">PokemonGen3</span>\n",
                "\n",
                "**Columns:** \n",
                "\n",
                "Ability1, \n",
                "\n",
                "Generation is a derived column, \n",
                "\n",
                "**Predicate:**\n",
                "\n",
                "HAVING COUNT(\\*) = 1: This condition is used in the UniqueAbilities CTE to ensure that only abilities that occur exactly once across all the generations are selected for the final output. \n",
                "\n",
                "**Process:**\n",
                "\n",
                "The Abilities CTE uses the UNPIVOT operator for each generation's table to transform the Ability1, Ability2, and Ability3 columns into rows, effectively treating each ability as a separate record while associating it with its generation. The query then combines these records using UNION ALL, allowing for the aggregation of abilities across all generations. The UniqueAbilities CTE aggregates this data by ability and filters to keep only those abilities that appear exactly once (HAVING COUNT(\\*) = 1). It also compiles which generations these unique abilities belong to, though due to the count condition, each ability will be associated with a single generation. The final SELECT statement orders the unique abilities alphabetically by ability name and lists their corresponding generations."
            ],
            "metadata": {
                "language": "sql",
                "azdata_cell_guid": "afb20a11-759c-4ddd-a75b-5b3c7f69a6c8"
            },
            "attachments": {}
        },
        {
            "cell_type": "code",
            "source": [
                "--Find Pokémon that have moves unique to their generation, excluding moves learned by Pokémon in other generations\n",
                "USE PokemonGen1;\n",
                "USE PokemonGen2;\n",
                "USE PokemonGen3;\n",
                "\n",
                "WITH Abilities AS (\n",
                "  SELECT Ability AS Ability, 'Gen1' AS Generation FROM PokemonGen1.dbo.PokemonGen1\n",
                "  UNPIVOT\n",
                "  (Ability FOR AbilityNumber IN (Ability1, Ability2, Ability3)) AS unpvt\n",
                "  UNION ALL\n",
                "  SELECT Ability, 'Gen2' FROM PokemonGen2.dbo.PokemonGen2\n",
                "  UNPIVOT\n",
                "  (Ability FOR AbilityNumber IN (Ability1, Ability2, Ability3)) AS unpvt\n",
                "  UNION ALL\n",
                "  SELECT Ability, 'Gen3' FROM PokemonGen3.dbo.PokemonGen3\n",
                "  UNPIVOT\n",
                "  (Ability FOR AbilityNumber IN (Ability1, Ability2, Ability3)) AS unpvt\n",
                "),\n",
                "UniqueAbilities AS (\n",
                "  SELECT Ability, COUNT(*) AS Count, STRING_AGG(Generation, ', ') WITHIN GROUP (ORDER BY Generation) AS Generations\n",
                "  FROM Abilities\n",
                "  GROUP BY Ability\n",
                "  HAVING COUNT(*) = 1\n",
                ")\n",
                "SELECT Ability, Generations\n",
                "FROM UniqueAbilities\n",
                "ORDER BY Ability;"
            ],
            "metadata": {
                "language": "sql",
                "azdata_cell_guid": "913a49dc-4a95-4cac-9214-99bc53ef82a7"
            },
            "outputs": [
                {
                    "output_type": "display_data",
                    "data": {
                        "text/html": "(16 rows affected)"
                    },
                    "metadata": {}
                },
                {
                    "output_type": "display_data",
                    "data": {
                        "text/html": "Total execution time: 00:00:00.153"
                    },
                    "metadata": {}
                },
                {
                    "output_type": "execute_result",
                    "execution_count": 2,
                    "data": {
                        "application/vnd.dataresource+json": {
                            "schema": {
                                "fields": [
                                    {
                                        "name": "Ability"
                                    },
                                    {
                                        "name": "Generations"
                                    }
                                ]
                            },
                            "data": [
                                {
                                    "Ability": "Air Lock",
                                    "Generations": "Gen3"
                                },
                                {
                                    "Ability": "Color Change",
                                    "Generations": "Gen3"
                                },
                                {
                                    "Ability": "Filter",
                                    "Generations": "Gen1"
                                },
                                {
                                    "Ability": "Forecast",
                                    "Generations": "Gen3"
                                },
                                {
                                    "Ability": "Honey Gather",
                                    "Generations": "Gen2"
                                },
                                {
                                    "Ability": "Imposter",
                                    "Generations": "Gen1"
                                },
                                {
                                    "Ability": "Mold Breaker",
                                    "Generations": "Gen1"
                                },
                                {
                                    "Ability": "Protean",
                                    "Generations": "Gen3"
                                },
                                {
                                    "Ability": "Sand Stream",
                                    "Generations": "Gen2"
                                },
                                {
                                    "Ability": "Simple",
                                    "Generations": "Gen3"
                                },
                                {
                                    "Ability": "Solid Rock",
                                    "Generations": "Gen3"
                                },
                                {
                                    "Ability": "Stall",
                                    "Generations": "Gen3"
                                },
                                {
                                    "Ability": "Toxic Boost",
                                    "Generations": "Gen3"
                                },
                                {
                                    "Ability": "White Smoke",
                                    "Generations": "Gen3"
                                },
                                {
                                    "Ability": "Wind Rider",
                                    "Generations": "Gen3"
                                },
                                {
                                    "Ability": "Wonder Guard",
                                    "Generations": "Gen3"
                                }
                            ]
                        },
                        "text/html": "<table><tr><th>Ability</th><th>Generations</th></tr><tr><td>Air Lock</td><td>Gen3</td></tr><tr><td>Color Change</td><td>Gen3</td></tr><tr><td>Filter</td><td>Gen1</td></tr><tr><td>Forecast</td><td>Gen3</td></tr><tr><td>Honey Gather</td><td>Gen2</td></tr><tr><td>Imposter</td><td>Gen1</td></tr><tr><td>Mold Breaker</td><td>Gen1</td></tr><tr><td>Protean</td><td>Gen3</td></tr><tr><td>Sand Stream</td><td>Gen2</td></tr><tr><td>Simple</td><td>Gen3</td></tr><tr><td>Solid Rock</td><td>Gen3</td></tr><tr><td>Stall</td><td>Gen3</td></tr><tr><td>Toxic Boost</td><td>Gen3</td></tr><tr><td>White Smoke</td><td>Gen3</td></tr><tr><td>Wind Rider</td><td>Gen3</td></tr><tr><td>Wonder Guard</td><td>Gen3</td></tr></table>"
                    },
                    "metadata": {}
                }
            ],
            "execution_count": 2
        },
        {
            "cell_type": "markdown",
            "source": [
                "**QUERY 3**\n",
                "\n",
                "**Problem:** How many Pokémon are there for each type? Provide a list sorted by the most common type first\n",
                "\n",
                "**Tables:** \n",
                "\n",
                "PokemonGen1, \n",
                "\n",
                "<span style=\"font-family: -apple-system, BlinkMacSystemFont, sans-serif; color: var(--vscode-foreground);\">PokemonGen2,&nbsp;</span>                \n",
                "\n",
                "<span style=\"font-family: -apple-system, BlinkMacSystemFont, sans-serif; color: var(--vscode-foreground);\">PokemonGen3</span>\n",
                "\n",
                "**Columns:** \n",
                "\n",
                "Type1 \n",
                "\n",
                "Type2\n",
                "\n",
                "**Predicate:**\n",
                "\n",
                "WHERE Type2 IS NOT NULL \n",
                "\n",
                "**Process:** \n",
                "\n",
                "This SQL code aggregates Pokémon types across three generations (Gen 1, Gen 2, and Gen 3), including both primary (Type1) and secondary types (Type2). It counts how many times each type appears, taking into account both primary and secondary types, excludes null values for secondary types to ensure accurate counting, and then orders the results by the count in descending order to highlight the most common types."
            ],
            "metadata": {
                "language": "sql",
                "azdata_cell_guid": "bb4c7789-e36a-4f49-bb76-6d5771991862"
            },
            "attachments": {}
        },
        {
            "cell_type": "code",
            "source": [
                "--How many Pokémon are there for each type? Provide a list sorted by the most common type first\n",
                "\n",
                "USE PokemonGen1;\n",
                "USE PokemonGen2;\n",
                "USE PokemonGen3;\n",
                "\n",
                "SELECT Type, COUNT(*) AS Count\n",
                "FROM (\n",
                "    SELECT Type1 AS Type FROM PokemonGen1.dbo.PokemonGen1\n",
                "    UNION ALL\n",
                "    SELECT Type2 FROM PokemonGen1.dbo.PokemonGen1 WHERE Type2 IS NOT NULL\n",
                "    UNION ALL\n",
                "    SELECT Type1 FROM PokemonGen2.dbo.PokemonGen2\n",
                "    UNION ALL\n",
                "    SELECT Type2 FROM PokemonGen2.dbo.PokemonGen2 WHERE Type2 IS NOT NULL\n",
                "    UNION ALL\n",
                "    SELECT Type1 FROM PokemonGen3.dbo.PokemonGen3\n",
                "    UNION ALL\n",
                "    SELECT Type2 FROM PokemonGen3.dbo.PokemonGen3 WHERE Type2 IS NOT NULL\n",
                ") AS CombinedTypes\n",
                "GROUP BY Type\n",
                "ORDER BY Count DESC;"
            ],
            "metadata": {
                "language": "sql",
                "azdata_cell_guid": "11df2722-2923-4024-95e9-662f6f7b5275"
            },
            "outputs": [
                {
                    "output_type": "display_data",
                    "data": {
                        "text/html": "(20 rows affected)"
                    },
                    "metadata": {}
                },
                {
                    "output_type": "display_data",
                    "data": {
                        "text/html": "Total execution time: 00:00:00.073"
                    },
                    "metadata": {}
                },
                {
                    "output_type": "execute_result",
                    "execution_count": 4,
                    "data": {
                        "application/vnd.dataresource+json": {
                            "schema": {
                                "fields": [
                                    {
                                        "name": "Type"
                                    },
                                    {
                                        "name": "Count"
                                    }
                                ]
                            },
                            "data": [
                                {
                                    "Type": "Water",
                                    "Count": "78"
                                },
                                {
                                    "Type": "Normal",
                                    "Count": "55"
                                },
                                {
                                    "Type": "Flying",
                                    "Count": "50"
                                },
                                {
                                    "Type": "Psychic",
                                    "Count": "44"
                                },
                                {
                                    "Type": "Poison",
                                    "Count": "41"
                                },
                                {
                                    "Type": "Grass",
                                    "Count": "41"
                                },
                                {
                                    "Type": "Bug",
                                    "Count": "36"
                                },
                                {
                                    "Type": "Ground",
                                    "Count": "35"
                                },
                                {
                                    "Type": "Rock",
                                    "Count": "30"
                                },
                                {
                                    "Type": "Fire",
                                    "Count": "28"
                                },
                                {
                                    "Type": "Electric",
                                    "Count": "21"
                                },
                                {
                                    "Type": "Fairy",
                                    "Count": "18"
                                },
                                {
                                    "Type": "Dark",
                                    "Count": "16"
                                },
                                {
                                    "Type": "Ice",
                                    "Count": "16"
                                },
                                {
                                    "Type": "Steel",
                                    "Count": "15"
                                },
                                {
                                    "Type": "Fighting",
                                    "Count": "14"
                                },
                                {
                                    "Type": "Dragon",
                                    "Count": "13"
                                },
                                {
                                    "Type": "Ghost",
                                    "Count": "10"
                                },
                                {
                                    "Type": "Fight",
                                    "Count": "2"
                                },
                                {
                                    "Type": "Poison Point",
                                    "Count": "1"
                                }
                            ]
                        },
                        "text/html": "<table><tr><th>Type</th><th>Count</th></tr><tr><td>Water</td><td>78</td></tr><tr><td>Normal</td><td>55</td></tr><tr><td>Flying</td><td>50</td></tr><tr><td>Psychic</td><td>44</td></tr><tr><td>Poison</td><td>41</td></tr><tr><td>Grass</td><td>41</td></tr><tr><td>Bug</td><td>36</td></tr><tr><td>Ground</td><td>35</td></tr><tr><td>Rock</td><td>30</td></tr><tr><td>Fire</td><td>28</td></tr><tr><td>Electric</td><td>21</td></tr><tr><td>Fairy</td><td>18</td></tr><tr><td>Dark</td><td>16</td></tr><tr><td>Ice</td><td>16</td></tr><tr><td>Steel</td><td>15</td></tr><tr><td>Fighting</td><td>14</td></tr><tr><td>Dragon</td><td>13</td></tr><tr><td>Ghost</td><td>10</td></tr><tr><td>Fight</td><td>2</td></tr><tr><td>Poison Point</td><td>1</td></tr></table>"
                    },
                    "metadata": {}
                }
            ],
            "execution_count": 4
        },
        {
            "cell_type": "markdown",
            "source": [
                "**QUERY 4**\n",
                "\n",
                "**Problem:** <span style=\"font-family: -apple-system, BlinkMacSystemFont, sans-serif; color: var(--vscode-foreground);\">&nbsp;identify the Pokémon with the highest 'Speed' in each generation</span>  \n",
                "\n",
                "**Tables:** \n",
                "\n",
                "PokemonGen1, \n",
                "\n",
                "<span style=\"font-family: -apple-system, BlinkMacSystemFont, sans-serif; color: var(--vscode-foreground);\">PokemonGen2,&nbsp;</span>                \n",
                "\n",
                "<span style=\"font-family: -apple-system, BlinkMacSystemFont, sans-serif; color: var(--vscode-foreground);\">PokemonGen3</span>\n",
                "\n",
                "**Columns:** \n",
                "\n",
                "Name\n",
                "\n",
                "Speed\n",
                "\n",
                "**Predicate:**\n",
                "\n",
                "WHERE Speed = (SELECT MAX(Speed) FROM PokemonGen1.dbo.PokemonGen1) \n",
                "\n",
                "WHERE Speed = (SELECT MAX(Speed) FROM PokemonGen2.dbo.PokemonGen2) \n",
                "\n",
                "WHERE Speed = (SELECT MAX(Speed) FROM PokemonGen3.dbo.PokemonGen3) \n",
                "\n",
                "**Process:** \n",
                "\n",
                "The predicate is checking for Pokémon whose 'Speed' matches the maximum 'Speed' value found in the corresponding generation's table. The subquery SELECT MAX(Speed) FROM... calculates the maximum 'Speed' value within each table, and the outer query filters for Pokémon with a 'Speed' that equals this maximum value. This ensures that only the Pokémon (or Pokémon, in case of ties) with the highest 'Speed' in each generation are selected."
            ],
            "metadata": {
                "language": "sql",
                "azdata_cell_guid": "c4124941-1f75-4d78-9ea7-6f0b8cb1a430"
            },
            "attachments": {}
        },
        {
            "cell_type": "code",
            "source": [
                "--identify the Pokémon with the highest 'Speed' in each generation\n",
                "USE PokemonGen1;\n",
                "USE PokemonGen2;\n",
                "USE PokemonGen3;\n",
                "\n",
                "-- Generation 1\n",
                "SELECT 'Gen1' AS Generation, Name, Speed AS MaxSpeed\n",
                "FROM PokemonGen1.dbo.PokemonGen1\n",
                "WHERE Speed = (SELECT MAX(Speed) FROM PokemonGen1.dbo.PokemonGen1)\n",
                "\n",
                "UNION ALL\n",
                "\n",
                "-- Generation 2\n",
                "SELECT 'Gen2' AS Generation, Name, Speed AS MaxSpeed\n",
                "FROM PokemonGen2.dbo.PokemonGen2\n",
                "WHERE Speed = (SELECT MAX(Speed) FROM PokemonGen2.dbo.PokemonGen2)\n",
                "\n",
                "UNION ALL\n",
                "\n",
                "-- Generation 3\n",
                "SELECT 'Gen3' AS Generation, Name, Speed AS MaxSpeed\n",
                "FROM PokemonGen3.dbo.PokemonGen3\n",
                "WHERE Speed = (SELECT MAX(Speed) FROM PokemonGen3.dbo.PokemonGen3);\n",
                ""
            ],
            "metadata": {
                "language": "sql",
                "azdata_cell_guid": "92905a32-1c7d-4051-b3c3-5205aa34f4df",
                "tags": []
            },
            "outputs": [
                {
                    "output_type": "display_data",
                    "data": {
                        "text/html": "(3 rows affected)"
                    },
                    "metadata": {}
                },
                {
                    "output_type": "display_data",
                    "data": {
                        "text/html": "Total execution time: 00:00:00.006"
                    },
                    "metadata": {}
                },
                {
                    "output_type": "execute_result",
                    "execution_count": 5,
                    "data": {
                        "application/vnd.dataresource+json": {
                            "schema": {
                                "fields": [
                                    {
                                        "name": "Generation"
                                    },
                                    {
                                        "name": "Name"
                                    },
                                    {
                                        "name": "MaxSpeed"
                                    }
                                ]
                            },
                            "data": [
                                {
                                    "Generation": "Gen1",
                                    "Name": "Electrode",
                                    "MaxSpeed": "150"
                                },
                                {
                                    "Generation": "Gen2",
                                    "Name": "Crobat",
                                    "MaxSpeed": "130"
                                },
                                {
                                    "Generation": "Gen3",
                                    "Name": "Ninjask",
                                    "MaxSpeed": "160"
                                }
                            ]
                        },
                        "text/html": "<table><tr><th>Generation</th><th>Name</th><th>MaxSpeed</th></tr><tr><td>Gen1</td><td>Electrode</td><td>150</td></tr><tr><td>Gen2</td><td>Crobat</td><td>130</td></tr><tr><td>Gen3</td><td>Ninjask</td><td>160</td></tr></table>"
                    },
                    "metadata": {}
                }
            ],
            "execution_count": 5
        },
        {
            "cell_type": "markdown",
            "source": [
                "**QUERY 5**\n",
                "\n",
                "**Problem:**  <span style=\"font-family: -apple-system, BlinkMacSystemFont, sans-serif; color: var(--vscode-foreground);\">&nbsp;ID pokemon with an Attack to Speed ratio greater than 1.0, which means they have a higher attack power relative to their speed.</span>\n",
                "\n",
                "**Tables:** \n",
                "\n",
                "PokemonGen1, \n",
                "\n",
                "<span style=\"font-family: -apple-system, BlinkMacSystemFont, sans-serif; color: var(--vscode-foreground);\">PokemonGen2,&nbsp;</span>                   \n",
                "\n",
                "<span style=\"font-family: -apple-system, BlinkMacSystemFont, sans-serif; color: var(--vscode-foreground);\">PokemonGen3</span>\n",
                "\n",
                "**Columns:** \n",
                "\n",
                "Name\n",
                "\n",
                "Type1\n",
                "\n",
                "Attack\n",
                "\n",
                "Speed\n",
                "\n",
                "Ratio (derived column of attack to speed)\n",
                "\n",
                "**Predicate:**\n",
                "\n",
                "WHERE Attack \\> Speed\n",
                "\n",
                "**Process:** \n",
                "\n",
                "This condition is applied individually to the selections from each of the three tables and ensures that only Pokémon whose Attack stat is greater than their Speed stat are included in the final result. The resulting dataset is then ordered by the calculated ratio in descending order, highlighting Pokémon with a significantly higher Attack compared to their Speed."
            ],
            "metadata": {
                "language": "sql",
                "azdata_cell_guid": "e5959ee5-884e-49bb-b515-1f68ed8cf338"
            },
            "attachments": {}
        },
        {
            "cell_type": "code",
            "source": [
                "-- ID pokemon with an Attack to Speed ratio greater than 1.0, which means they have a higher attack power relative to their speed.\n",
                "\n",
                "USE PokemonGen1;\n",
                "USE PokemonGen2;\n",
                "USE PokemonGen3;\n",
                "\n",
                "SELECT Name, Type1, Attack, Speed, (CAST(Attack AS FLOAT) / Speed) AS Ratio\n",
                "FROM PokemonGen1.dbo.PokemonGen1\n",
                "WHERE Attack > Speed\n",
                "UNION ALL\n",
                "SELECT Name, Type1, Attack, Speed, (CAST(Attack AS FLOAT) / Speed)\n",
                "FROM PokemonGen2.dbo.PokemonGen2\n",
                "WHERE Attack > Speed\n",
                "UNION ALL\n",
                "SELECT Name, Type1, Attack, Speed, (CAST(Attack AS FLOAT) / Speed)\n",
                "FROM PokemonGen3.dbo.PokemonGen3\n",
                "WHERE Attack > Speed\n",
                "ORDER BY Ratio DESC;"
            ],
            "metadata": {
                "language": "sql",
                "azdata_cell_guid": "f9cb8cf6-ce1a-459a-8b40-e1f94cf35a0a",
                "tags": []
            },
            "outputs": [],
            "execution_count": null
        },
        {
            "cell_type": "markdown",
            "source": [
                "**QUERY 6 BEST 2**\n",
                "\n",
                "**Problem:** determine battle readiness of each pokemon, which is a sum of attack, defense, and the higher of special att or special def, plus twice their speed\n",
                "\n",
                "**Tables:** \n",
                "\n",
                "PokemonGen1, \n",
                "\n",
                "<span style=\"font-family: -apple-system, BlinkMacSystemFont, sans-serif; color: var(--vscode-foreground);\">PokemonGen2,&nbsp;</span>                        \n",
                "\n",
                "<span style=\"font-family: -apple-system, BlinkMacSystemFont, sans-serif; color: var(--vscode-foreground);\">PokemonGen3</span>\n",
                "\n",
                "**Columns:** \n",
                "\n",
                "Name\n",
                "\n",
                "Type1\n",
                "\n",
                "Attack\n",
                "\n",
                "Defense\n",
                "\n",
                "SpecialAttack\n",
                "\n",
                "SpecialDefense\n",
                "\n",
                "Speed \n",
                "\n",
                "Gen(derived col) \n",
                "\n",
                "battlescore(derieved col)\n",
                "\n",
                "**Predicate:** \n",
                "\n",
                "calucalating battlescore which is a computed as the sum of Attack, Defense, and the higher value between SpecialAttack and SpecialDefense, plus twice the Speed stat of the Pokémon.\n",
                "\n",
                "Order by BattleScore Desc, sorts the battlescore in descending order\n",
                "\n",
                "**Process:** \n",
                "\n",
                "This SQL code combines Pokémon data from three different generation-specific tables into a single dataset, calculates a \"BattleScore\" for each Pokémon based on their attack, defense, special attack or special defense (whichever is higher), and speed stats, and then orders the resulting combined list by this calculated score in descending order."
            ],
            "metadata": {
                "language": "sql",
                "azdata_cell_guid": "bc7e492f-97d3-4758-8b4d-00c315fa971c"
            },
            "attachments": {}
        },
        {
            "cell_type": "code",
            "source": [
                "-- determine battle readiness of each pokemon, which is a sum of attack, defense, and the higher of special att or special def, plus twice their speed\n",
                "\n",
                "USE PokemonGen1; \n",
                "USE PokemonGen2;\n",
                "USE PokemonGen3; \n",
                "\n",
                "SELECT TOP 10 * FROM (\n",
                "    SELECT\n",
                "        Name,\n",
                "        Type1,\n",
                "        'Gen1' AS Generation,\n",
                "        Attack + Defense + CASE WHEN SpecialAttack > SpecialDefense THEN SpecialAttack ELSE SpecialDefense END + (Speed * 2) AS BattleScore\n",
                "    FROM PokemonGen1.dbo.PokemonGen1\n",
                "    UNION ALL\n",
                "    SELECT\n",
                "        Name,\n",
                "        Type1,\n",
                "        'Gen2',\n",
                "        Attack + Defense + CASE WHEN SpecialAttack > SpecialDefense THEN SpecialAttack ELSE SpecialDefense END + (Speed * 2)\n",
                "    FROM PokemonGen2.dbo.PokemonGen2\n",
                "    UNION ALL\n",
                "    SELECT\n",
                "        Name,\n",
                "        Type1,\n",
                "        'Gen3',\n",
                "        Attack + Defense + CASE WHEN SpecialAttack > SpecialDefense THEN SpecialAttack ELSE SpecialDefense END + (Speed * 2)\n",
                "    FROM PokemonGen3.dbo.PokemonGen3\n",
                ") AS Combined\n",
                "ORDER BY BattleScore DESC;\n",
                ""
            ],
            "metadata": {
                "language": "sql",
                "azdata_cell_guid": "37828bcd-98d5-491a-bfa5-4a8d2ccc9b21"
            },
            "outputs": [
                {
                    "output_type": "display_data",
                    "data": {
                        "text/html": "(10 rows affected)"
                    },
                    "metadata": {}
                },
                {
                    "output_type": "display_data",
                    "data": {
                        "text/html": "Total execution time: 00:00:00.061"
                    },
                    "metadata": {}
                },
                {
                    "output_type": "execute_result",
                    "execution_count": 6,
                    "data": {
                        "application/vnd.dataresource+json": {
                            "schema": {
                                "fields": [
                                    {
                                        "name": "Name"
                                    },
                                    {
                                        "name": "Type1"
                                    },
                                    {
                                        "name": "Generation"
                                    },
                                    {
                                        "name": "BattleScore"
                                    }
                                ]
                            },
                            "data": [
                                {
                                    "Name": "Deoxys",
                                    "Type1": "Psychic",
                                    "Generation": "Gen3",
                                    "BattleScore": "650"
                                },
                                {
                                    "Name": "Mewtwo",
                                    "Type1": "Psychic",
                                    "Generation": "Gen1",
                                    "BattleScore": "614"
                                },
                                {
                                    "Name": "Lugia",
                                    "Type1": "Psychic",
                                    "Generation": "Gen2",
                                    "BattleScore": "594"
                                },
                                {
                                    "Name": "Rayquaza",
                                    "Type1": "Dragon",
                                    "Generation": "Gen3",
                                    "BattleScore": "580"
                                },
                                {
                                    "Name": "Groudon",
                                    "Type1": "Ground",
                                    "Generation": "Gen3",
                                    "BattleScore": "570"
                                },
                                {
                                    "Name": "Slaking",
                                    "Type1": "Normal",
                                    "Generation": "Gen3",
                                    "BattleScore": "555"
                                },
                                {
                                    "Name": "Ho-Oh",
                                    "Type1": "Fire",
                                    "Generation": "Gen2",
                                    "BattleScore": "554"
                                },
                                {
                                    "Name": "Salamence",
                                    "Type1": "Dragon",
                                    "Generation": "Gen3",
                                    "BattleScore": "525"
                                },
                                {
                                    "Name": "Kyogre",
                                    "Type1": "Water",
                                    "Generation": "Gen3",
                                    "BattleScore": "520"
                                },
                                {
                                    "Name": "Latias",
                                    "Type1": "Dragon",
                                    "Generation": "Gen3",
                                    "BattleScore": "520"
                                }
                            ]
                        },
                        "text/html": "<table><tr><th>Name</th><th>Type1</th><th>Generation</th><th>BattleScore</th></tr><tr><td>Deoxys</td><td>Psychic</td><td>Gen3</td><td>650</td></tr><tr><td>Mewtwo</td><td>Psychic</td><td>Gen1</td><td>614</td></tr><tr><td>Lugia</td><td>Psychic</td><td>Gen2</td><td>594</td></tr><tr><td>Rayquaza</td><td>Dragon</td><td>Gen3</td><td>580</td></tr><tr><td>Groudon</td><td>Ground</td><td>Gen3</td><td>570</td></tr><tr><td>Slaking</td><td>Normal</td><td>Gen3</td><td>555</td></tr><tr><td>Ho-Oh</td><td>Fire</td><td>Gen2</td><td>554</td></tr><tr><td>Salamence</td><td>Dragon</td><td>Gen3</td><td>525</td></tr><tr><td>Kyogre</td><td>Water</td><td>Gen3</td><td>520</td></tr><tr><td>Latias</td><td>Dragon</td><td>Gen3</td><td>520</td></tr></table>"
                    },
                    "metadata": {}
                }
            ],
            "execution_count": 6
        },
        {
            "cell_type": "markdown",
            "source": [
                "**QUERY 7 WORST 1 BEST 3**\n",
                "\n",
                "**Problem:**  Which new abilities (Ability1, Ability2, Ability3) were introduced in each generation, and how are they distributed among different Pokémon types?\n",
                "\n",
                "**Tables:** \n",
                "\n",
                "PokemonGen1, \n",
                "\n",
                "<span style=\"font-family: -apple-system, BlinkMacSystemFont, sans-serif; color: var(--vscode-foreground);\">PokemonGen2,&nbsp;</span>                       \n",
                "\n",
                "<span style=\"font-family: -apple-system, BlinkMacSystemFont, sans-serif; color: var(--vscode-foreground);\">PokemonGen3</span>\n",
                "\n",
                "**Columns:** \n",
                "\n",
                "Ability 1\n",
                "\n",
                "Ability2\n",
                "\n",
                "ability3\n",
                "\n",
                "Ability (derieved from 1,2,3)\n",
                "\n",
                "Generation (derieved from each respective gen)\n",
                "\n",
                "Type1 \n",
                "\n",
                "Type2 \n",
                "\n",
                "**Predicate:**\n",
                "\n",
                "The WHERE Ability IS NOT NULL predicate filters out rows where the ability is NULL, ensuring that only entries with a defined ability are considered. \n",
                "\n",
                "The GROUP BY Ability, Generation, Type1, Type2 clause in the AbilityCount common table expression (CTE) groups the data by ability, generation, and Pokémon type, which is necessary for counting the number of occurrences. \n",
                "\n",
                "T<span style=\"font-family: -apple-system, BlinkMacSystemFont, sans-serif; color: var(--vscode-foreground);\">he ORDER BY Ability, Generation, Type1, Type2 clause at the end of the query sorts the final result set based on the ability name, generation, and Pokémon types, in ascending order.</span>\n",
                "\n",
                "**Process:** \n",
                "\n",
                "With AbilityIntro CTE: The query creates a unified view (AbilityIntro) of all abilities across the three generations, tagging each ability with its generation and associated Pokémon types, ensuring only non-null abilities are included. With AbilityCount CTE: It then aggregates this data (AbilityCount), counting the occurrences of each ability within each generation and type combination. Final SELECT: Finally, it selects from AbilityCount to present the ability, its generation, associated types, and the count of occurrences, ordered alphabetically by ability and then by generation and type."
            ],
            "metadata": {
                "language": "sql",
                "azdata_cell_guid": "31503a37-77c2-4388-81ef-64eebd268ca9"
            },
            "attachments": {}
        },
        {
            "cell_type": "code",
            "source": [
                "-- Which new abilities (Ability1, Ability2, Ability3) were introduced in each generation, and how are they distributed among different Pokémon types?\n",
                "USE PokemonGen1;\n",
                "USE PokemonGen2;\n",
                "USE PokemonGen3;\n",
                "\n",
                "WITH AbilityIntro AS (\n",
                "  SELECT Ability, 'Gen1' AS Generation, Type1, Type2\n",
                "  FROM (\n",
                "    SELECT Ability1 AS Ability, Type1, Type2 FROM PokemonGen1.dbo.PokemonGen1\n",
                "    UNION ALL\n",
                "    SELECT Ability2, Type1, Type2 FROM PokemonGen1.dbo.PokemonGen1\n",
                "    UNION ALL\n",
                "    SELECT Ability3, Type1, Type2 FROM PokemonGen1.dbo.PokemonGen1\n",
                "  ) Gen1\n",
                "  WHERE Ability IS NOT NULL\n",
                "  UNION ALL\n",
                "  SELECT Ability, 'Gen2', Type1, Type2\n",
                "  FROM (\n",
                "    SELECT Ability1 AS Ability, Type1, Type2 FROM PokemonGen2.dbo.PokemonGen2\n",
                "    UNION ALL\n",
                "    SELECT Ability2, Type1, Type2 FROM PokemonGen2.dbo.PokemonGen2\n",
                "    UNION ALL\n",
                "    SELECT Ability3, Type1, Type2 FROM PokemonGen2.dbo.PokemonGen2\n",
                "  ) Gen2\n",
                "  WHERE Ability IS NOT NULL\n",
                "  UNION ALL\n",
                "  SELECT Ability, 'Gen3', Type1, Type2\n",
                "  FROM (\n",
                "    SELECT Ability1 AS Ability, Type1, Type2 FROM PokemonGen3.dbo.PokemonGen3\n",
                "    UNION ALL\n",
                "    SELECT Ability2, Type1, Type2 FROM PokemonGen3.dbo.PokemonGen3\n",
                "    UNION ALL\n",
                "    SELECT Ability3, Type1, Type2 FROM PokemonGen3.dbo.PokemonGen3\n",
                "  ) Gen3\n",
                "  WHERE Ability IS NOT NULL\n",
                "),\n",
                "AbilityCount AS (\n",
                "  SELECT Ability, Generation, Type1, Type2, COUNT(*) AS Count\n",
                "  FROM AbilityIntro\n",
                "  GROUP BY Ability, Generation, Type1, Type2\n",
                ")\n",
                "SELECT Ability, Generation, Type1, Type2, Count\n",
                "FROM AbilityCount\n",
                "ORDER BY Ability, Generation, Type1, Type2;\n",
                ""
            ],
            "metadata": {
                "azdata_cell_guid": "b518da76-af1c-4c94-bc46-bb131a2f6dc5",
                "language": "sql",
                "tags": []
            },
            "outputs": [
                {
                    "output_type": "display_data",
                    "data": {
                        "text/html": "(605 rows affected)"
                    },
                    "metadata": {}
                },
                {
                    "output_type": "display_data",
                    "data": {
                        "text/html": "Total execution time: 00:00:00.054"
                    },
                    "metadata": {}
                },
                {
                    "output_type": "execute_result",
                    "execution_count": 7,
                    "data": {
                        "application/vnd.dataresource+json": {
                            "schema": {
                                "fields": [
                                    {
                                        "name": "Ability"
                                    },
                                    {
                                        "name": "Generation"
                                    },
                                    {
                                        "name": "Type1"
                                    },
                                    {
                                        "name": "Type2"
                                    },
                                    {
                                        "name": "Count"
                                    }
                                ]
                            },
                            "data": [
                                {
                                    "Ability": "Adaptability",
                                    "Generation": "Gen1",
                                    "Type1": "Normal",
                                    "Type2": "NULL",
                                    "Count": "1"
                                },
                                {
                                    "Ability": "Adaptability",
                                    "Generation": "Gen3",
                                    "Type1": "Water",
                                    "Type2": "NULL",
                                    "Count": "2"
                                },
                                {
                                    "Ability": "Adaptability",
                                    "Generation": "Gen3",
                                    "Type1": "Water",
                                    "Type2": "Dark",
                                    "Count": "1"
                                },
                                {
                                    "Ability": "Aftermath",
                                    "Generation": "Gen1",
                                    "Type1": "Electric",
                                    "Type2": "NULL",
                                    "Count": "2"
                                },
                                {
                                    "Ability": "Air Lock",
                                    "Generation": "Gen3",
                                    "Type1": "Dragon",
                                    "Type2": "Flying",
                                    "Count": "1"
                                },
                                {
                                    "Ability": "Analytic",
                                    "Generation": "Gen1",
                                    "Type1": "Electric",
                                    "Type2": "Steel",
                                    "Count": "2"
                                },
                                {
                                    "Ability": "Analytic",
                                    "Generation": "Gen1",
                                    "Type1": "Normal",
                                    "Type2": "NULL",
                                    "Count": "1"
                                },
                                {
                                    "Ability": "Analytic",
                                    "Generation": "Gen1",
                                    "Type1": "Water",
                                    "Type2": "NULL",
                                    "Count": "1"
                                },
                                {
                                    "Ability": "Analytic",
                                    "Generation": "Gen1",
                                    "Type1": "Water",
                                    "Type2": "Psychic",
                                    "Count": "1"
                                },
                                {
                                    "Ability": "Analytic",
                                    "Generation": "Gen2",
                                    "Type1": "Normal",
                                    "Type2": "NULL",
                                    "Count": "1"
                                },
                                {
                                    "Ability": "Anger Point",
                                    "Generation": "Gen1",
                                    "Type1": "Fighting",
                                    "Type2": "NULL",
                                    "Count": "2"
                                },
                                {
                                    "Ability": "Anger Point",
                                    "Generation": "Gen1",
                                    "Type1": "Normal",
                                    "Type2": "NULL",
                                    "Count": "1"
                                },
                                {
                                    "Ability": "Anger Point",
                                    "Generation": "Gen3",
                                    "Type1": "Fire",
                                    "Type2": "Ground",
                                    "Count": "1"
                                },
                                {
                                    "Ability": "Anticipation",
                                    "Generation": "Gen1",
                                    "Type1": "Normal",
                                    "Type2": "NULL",
                                    "Count": "1"
                                },
                                {
                                    "Ability": "Anticipation",
                                    "Generation": "Gen3",
                                    "Type1": "Water",
                                    "Type2": "Ground",
                                    "Count": "2"
                                },
                                {
                                    "Ability": "Arena Trap",
                                    "Generation": "Gen1",
                                    "Type1": "Ground",
                                    "Type2": "NULL",
                                    "Count": "2"
                                },
                                {
                                    "Ability": "Arena Trap",
                                    "Generation": "Gen3",
                                    "Type1": "Ground",
                                    "Type2": "NULL",
                                    "Count": "1"
                                },
                                {
                                    "Ability": "Battle Armor",
                                    "Generation": "Gen1",
                                    "Type1": "Ground",
                                    "Type2": "NULL",
                                    "Count": "2"
                                },
                                {
                                    "Ability": "Battle Armor",
                                    "Generation": "Gen1",
                                    "Type1": "Rock",
                                    "Type2": "Water",
                                    "Count": "2"
                                },
                                {
                                    "Ability": "Battle Armor",
                                    "Generation": "Gen3",
                                    "Type1": "Rock",
                                    "Type2": "Bug",
                                    "Count": "2"
                                },
                                {
                                    "Ability": "Big Pecks",
                                    "Generation": "Gen1",
                                    "Type1": "Normal",
                                    "Type2": "Flying",
                                    "Count": "3"
                                },
                                {
                                    "Ability": "Blaze",
                                    "Generation": "Gen1",
                                    "Type1": "Fire",
                                    "Type2": "NULL",
                                    "Count": "2"
                                },
                                {
                                    "Ability": "Blaze",
                                    "Generation": "Gen1",
                                    "Type1": "Fire",
                                    "Type2": "Flying",
                                    "Count": "1"
                                },
                                {
                                    "Ability": "Blaze",
                                    "Generation": "Gen2",
                                    "Type1": "Fire",
                                    "Type2": "NULL",
                                    "Count": "3"
                                },
                                {
                                    "Ability": "Blaze",
                                    "Generation": "Gen3",
                                    "Type1": "Fire",
                                    "Type2": "NULL",
                                    "Count": "3"
                                },
                                {
                                    "Ability": "Chlorophyll",
                                    "Generation": "Gen1",
                                    "Type1": "Grass",
                                    "Type2": "NULL",
                                    "Count": "1"
                                },
                                {
                                    "Ability": "Chlorophyll",
                                    "Generation": "Gen1",
                                    "Type1": "Grass",
                                    "Type2": "Poison",
                                    "Count": "9"
                                },
                                {
                                    "Ability": "Chlorophyll",
                                    "Generation": "Gen1",
                                    "Type1": "Grass",
                                    "Type2": "Psychic",
                                    "Count": "2"
                                },
                                {
                                    "Ability": "Chlorophyll",
                                    "Generation": "Gen2",
                                    "Type1": "Grass",
                                    "Type2": "NULL",
                                    "Count": "3"
                                },
                                {
                                    "Ability": "Chlorophyll",
                                    "Generation": "Gen2",
                                    "Type1": "Grass",
                                    "Type2": "Flying",
                                    "Count": "3"
                                },
                                {
                                    "Ability": "Chlorophyll",
                                    "Generation": "Gen3",
                                    "Type1": "Grass",
                                    "Type2": "NULL",
                                    "Count": "1"
                                },
                                {
                                    "Ability": "Chlorophyll",
                                    "Generation": "Gen3",
                                    "Type1": "Grass",
                                    "Type2": "Dark",
                                    "Count": "2"
                                },
                                {
                                    "Ability": "Chlorophyll",
                                    "Generation": "Gen3",
                                    "Type1": "Grass",
                                    "Type2": "Flying",
                                    "Count": "1"
                                },
                                {
                                    "Ability": "Clear Body",
                                    "Generation": "Gen1",
                                    "Type1": "Water",
                                    "Type2": "Poison",
                                    "Count": "2"
                                },
                                {
                                    "Ability": "Clear Body",
                                    "Generation": "Gen3",
                                    "Type1": "Ice",
                                    "Type2": "NULL",
                                    "Count": "1"
                                },
                                {
                                    "Ability": "Clear Body",
                                    "Generation": "Gen3",
                                    "Type1": "Rock",
                                    "Type2": "NULL",
                                    "Count": "1"
                                },
                                {
                                    "Ability": "Clear Body",
                                    "Generation": "Gen3",
                                    "Type1": "Steel",
                                    "Type2": "NULL",
                                    "Count": "1"
                                },
                                {
                                    "Ability": "Clear Body",
                                    "Generation": "Gen3",
                                    "Type1": "Steel",
                                    "Type2": "Psychic",
                                    "Count": "3"
                                },
                                {
                                    "Ability": "Cloud Nine",
                                    "Generation": "Gen1",
                                    "Type1": "Normal",
                                    "Type2": "NULL",
                                    "Count": "1"
                                },
                                {
                                    "Ability": "Cloud Nine",
                                    "Generation": "Gen1",
                                    "Type1": "Water",
                                    "Type2": "NULL",
                                    "Count": "2"
                                },
                                {
                                    "Ability": "Cloud Nine",
                                    "Generation": "Gen3",
                                    "Type1": "Dragon",
                                    "Type2": "Flying",
                                    "Count": "1"
                                },
                                {
                                    "Ability": "Cloud Nine",
                                    "Generation": "Gen3",
                                    "Type1": "Normal",
                                    "Type2": "Flying",
                                    "Count": "1"
                                },
                                {
                                    "Ability": "Color Change",
                                    "Generation": "Gen3",
                                    "Type1": "Normal",
                                    "Type2": "NULL",
                                    "Count": "1"
                                },
                                {
                                    "Ability": "Competitive",
                                    "Generation": "Gen1",
                                    "Type1": "Normal",
                                    "Type2": "Fairy",
                                    "Count": "2"
                                },
                                {
                                    "Ability": "Competitive",
                                    "Generation": "Gen2",
                                    "Type1": "Normal",
                                    "Type2": "Fairy",
                                    "Count": "1"
                                },
                                {
                                    "Ability": "Competitive",
                                    "Generation": "Gen3",
                                    "Type1": "Water",
                                    "Type2": "NULL",
                                    "Count": "1"
                                },
                                {
                                    "Ability": "Compoundeyes",
                                    "Generation": "Gen1",
                                    "Type1": "Bug",
                                    "Type2": "Flying",
                                    "Count": "1"
                                },
                                {
                                    "Ability": "Compoundeyes",
                                    "Generation": "Gen1",
                                    "Type1": "Bug",
                                    "Type2": "Poison",
                                    "Count": "1"
                                },
                                {
                                    "Ability": "Compoundeyes",
                                    "Generation": "Gen2",
                                    "Type1": "Bug",
                                    "Type2": "Flying",
                                    "Count": "1"
                                },
                                {
                                    "Ability": "Compoundeyes",
                                    "Generation": "Gen3",
                                    "Type1": "Bug",
                                    "Type2": "Ground",
                                    "Count": "1"
                                },
                                {
                                    "Ability": "Compoundeyes",
                                    "Generation": "Gen3",
                                    "Type1": "Bug",
                                    "Type2": "Poison",
                                    "Count": "1"
                                },
                                {
                                    "Ability": "Contrary",
                                    "Generation": "Gen2",
                                    "Type1": "Bug",
                                    "Type2": "Rock",
                                    "Count": "1"
                                },
                                {
                                    "Ability": "Contrary",
                                    "Generation": "Gen3",
                                    "Type1": "Normal",
                                    "Type2": "NULL",
                                    "Count": "1"
                                },
                                {
                                    "Ability": "Cursed Body",
                                    "Generation": "Gen1",
                                    "Type1": "Ghost",
                                    "Type2": "Poison",
                                    "Count": "1"
                                },
                                {
                                    "Ability": "Cursed Body",
                                    "Generation": "Gen3",
                                    "Type1": "Ghost",
                                    "Type2": "NULL",
                                    "Count": "2"
                                },
                                {
                                    "Ability": "Cute Charm",
                                    "Generation": "Gen1",
                                    "Type1": "Fairy",
                                    "Type2": "NULL",
                                    "Count": "2"
                                },
                                {
                                    "Ability": "Cute Charm",
                                    "Generation": "Gen1",
                                    "Type1": "Normal",
                                    "Type2": "Fairy",
                                    "Count": "2"
                                },
                                {
                                    "Ability": "Cute Charm",
                                    "Generation": "Gen2",
                                    "Type1": "Fairy",
                                    "Type2": "NULL",
                                    "Count": "1"
                                },
                                {
                                    "Ability": "Cute Charm",
                                    "Generation": "Gen2",
                                    "Type1": "Normal",
                                    "Type2": "Fairy",
                                    "Count": "1"
                                },
                                {
                                    "Ability": "Cute Charm",
                                    "Generation": "Gen3",
                                    "Type1": "Normal",
                                    "Type2": "NULL",
                                    "Count": "2"
                                },
                                {
                                    "Ability": "Cute Charm",
                                    "Generation": "Gen3",
                                    "Type1": "Water",
                                    "Type2": "NULL",
                                    "Count": "1"
                                },
                                {
                                    "Ability": "Damp",
                                    "Generation": "Gen1",
                                    "Type1": "Bug",
                                    "Type2": "Grass",
                                    "Count": "2"
                                },
                                {
                                    "Ability": "Damp",
                                    "Generation": "Gen1",
                                    "Type1": "Water",
                                    "Type2": "NULL",
                                    "Count": "6"
                                },
                                {
                                    "Ability": "Damp",
                                    "Generation": "Gen1",
                                    "Type1": "Water",
                                    "Type2": "Fighting",
                                    "Count": "1"
                                },
                                {
                                    "Ability": "Damp",
                                    "Generation": "Gen2",
                                    "Type1": "Water",
                                    "Type2": "NULL",
                                    "Count": "1"
                                },
                                {
                                    "Ability": "Damp",
                                    "Generation": "Gen2",
                                    "Type1": "Water",
                                    "Type2": "Dragon",
                                    "Count": "1"
                                },
                                {
                                    "Ability": "Damp",
                                    "Generation": "Gen2",
                                    "Type1": "Water",
                                    "Type2": "Ground",
                                    "Count": "2"
                                },
                                {
                                    "Ability": "Damp",
                                    "Generation": "Gen3",
                                    "Type1": "Water",
                                    "Type2": "NULL",
                                    "Count": "3"
                                },
                                {
                                    "Ability": "Defiant",
                                    "Generation": "Gen1",
                                    "Type1": "Fighting",
                                    "Type2": "NULL",
                                    "Count": "2"
                                },
                                {
                                    "Ability": "Defiant",
                                    "Generation": "Gen1",
                                    "Type1": "Normal",
                                    "Type2": "Flying",
                                    "Count": "1"
                                },
                                {
                                    "Ability": "Download",
                                    "Generation": "Gen1",
                                    "Type1": "Normal",
                                    "Type2": "NULL",
                                    "Count": "1"
                                },
                                {
                                    "Ability": "Download",
                                    "Generation": "Gen2",
                                    "Type1": "Normal",
                                    "Type2": "NULL",
                                    "Count": "1"
                                },
                                {
                                    "Ability": "Drizzle",
                                    "Generation": "Gen2",
                                    "Type1": "Water",
                                    "Type2": "NULL",
                                    "Count": "1"
                                },
                                {
                                    "Ability": "Drizzle",
                                    "Generation": "Gen3",
                                    "Type1": "Water",
                                    "Type2": "NULL",
                                    "Count": "1"
                                },
                                {
                                    "Ability": "Drizzle",
                                    "Generation": "Gen3",
                                    "Type1": "Water",
                                    "Type2": "Flying",
                                    "Count": "1"
                                },
                                {
                                    "Ability": "Drought",
                                    "Generation": "Gen1",
                                    "Type1": "Fire",
                                    "Type2": "NULL",
                                    "Count": "2"
                                },
                                {
                                    "Ability": "Drought",
                                    "Generation": "Gen3",
                                    "Type1": "Fire",
                                    "Type2": "NULL",
                                    "Count": "1"
                                },
                                {
                                    "Ability": "Drought",
                                    "Generation": "Gen3",
                                    "Type1": "Ground",
                                    "Type2": "NULL",
                                    "Count": "1"
                                },
                                {
                                    "Ability": "Dry Skin",
                                    "Generation": "Gen1",
                                    "Type1": "Bug",
                                    "Type2": "Grass",
                                    "Count": "2"
                                },
                                {
                                    "Ability": "Dry Skin",
                                    "Generation": "Gen1",
                                    "Type1": "Ice",
                                    "Type2": "Psychic",
                                    "Count": "1"
                                },
                                {
                                    "Ability": "Early Bird",
                                    "Generation": "Gen1",
                                    "Type1": "Normal",
                                    "Type2": "NULL",
                                    "Count": "1"
                                },
                                {
                                    "Ability": "Early Bird",
                                    "Generation": "Gen1",
                                    "Type1": "Normal",
                                    "Type2": "Flying",
                                    "Count": "2"
                                },
                                {
                                    "Ability": "Early Bird",
                                    "Generation": "Gen2",
                                    "Type1": "Bug",
                                    "Type2": "Flying",
                                    "Count": "2"
                                },
                                {
                                    "Ability": "Early Bird",
                                    "Generation": "Gen2",
                                    "Type1": "Dark",
                                    "Type2": "Fire",
                                    "Count": "2"
                                },
                                {
                                    "Ability": "Early Bird",
                                    "Generation": "Gen2",
                                    "Type1": "Grass",
                                    "Type2": "NULL",
                                    "Count": "2"
                                },
                                {
                                    "Ability": "Early Bird",
                                    "Generation": "Gen2",
                                    "Type1": "Normal",
                                    "Type2": "Psychic",
                                    "Count": "1"
                                },
                                {
                                    "Ability": "Early Bird",
                                    "Generation": "Gen2",
                                    "Type1": "Psychic",
                                    "Type2": "Flying",
                                    "Count": "2"
                                },
                                {
                                    "Ability": "Early Bird",
                                    "Generation": "Gen3",
                                    "Type1": "Grass",
                                    "Type2": "NULL",
                                    "Count": "1"
                                },
                                {
                                    "Ability": "Early Bird",
                                    "Generation": "Gen3",
                                    "Type1": "Grass",
                                    "Type2": "Dark",
                                    "Count": "1"
                                },
                                {
                                    "Ability": "Effect Spore",
                                    "Generation": "Gen1",
                                    "Type1": "Bug",
                                    "Type2": "Grass",
                                    "Count": "2"
                                },
                                {
                                    "Ability": "Effect Spore",
                                    "Generation": "Gen1",
                                    "Type1": "Grass",
                                    "Type2": "Poison",
                                    "Count": "1"
                                },
                                {
                                    "Ability": "Effect Spore",
                                    "Generation": "Gen3",
                                    "Type1": "Grass",
                                    "Type2": "NULL",
                                    "Count": "1"
                                },
                                {
                                    "Ability": "Effect Spore",
                                    "Generation": "Gen3",
                                    "Type1": "Grass",
                                    "Type2": "Fighting",
                                    "Count": "1"
                                },
                                {
                                    "Ability": "Filter",
                                    "Generation": "Gen1",
                                    "Type1": "Psychic",
                                    "Type2": "Fairy",
                                    "Count": "1"
                                },
                                {
                                    "Ability": "Flame Body",
                                    "Generation": "Gen1",
                                    "Type1": "Fire",
                                    "Type2": "NULL",
                                    "Count": "3"
                                },
                                {
                                    "Ability": "Flame Body",
                                    "Generation": "Gen1",
                                    "Type1": "Fire",
                                    "Type2": "Flying",
                                    "Count": "1"
                                },
                                {
                                    "Ability": "Flame Body",
                                    "Generation": "Gen2",
                                    "Type1": "Fire",
                                    "Type2": "NULL",
                                    "Count": "2"
                                },
                                {
                                    "Ability": "Flame Body",
                                    "Generation": "Gen2",
                                    "Type1": "Fire",
                                    "Type2": "Rock",
                                    "Count": "1"
                                },
                                {
                                    "Ability": "Flash Fire",
                                    "Generation": "Gen1",
                                    "Type1": "Fire",
                                    "Type2": "NULL",
                                    "Count": "7"
                                },
                                {
                                    "Ability": "Flash Fire",
                                    "Generation": "Gen2",
                                    "Type1": "Dark",
                                    "Type2": "Fire",
                                    "Count": "2"
                                },
                                {
                                    "Ability": "Flash Fire",
                                    "Generation": "Gen2",
                                    "Type1": "Fire",
                                    "Type2": "NULL",
                                    "Count": "3"
                                },
                                {
                                    "Ability": "Forecast",
                                    "Generation": "Gen3",
                                    "Type1": "Normal",
                                    "Type2": "NULL",
                                    "Count": "1"
                                },
                                {
                                    "Ability": "Forewarn",
                                    "Generation": "Gen1",
                                    "Type1": "Ice",
                                    "Type2": "Psychic",
                                    "Count": "1"
                                },
                                {
                                    "Ability": "Forewarn",
                                    "Generation": "Gen1",
                                    "Type1": "Psychic",
                                    "Type2": "NULL",
                                    "Count": "2"
                                },
                                {
                                    "Ability": "Forewarn",
                                    "Generation": "Gen2",
                                    "Type1": "Ice",
                                    "Type2": "Psychic",
                                    "Count": "1"
                                },
                                {
                                    "Ability": "Friend Guard",
                                    "Generation": "Gen1",
                                    "Type1": "Fairy",
                                    "Type2": "NULL",
                                    "Count": "2"
                                },
                                {
                                    "Ability": "Friend Guard",
                                    "Generation": "Gen1",
                                    "Type1": "Normal",
                                    "Type2": "Fairy",
                                    "Count": "1"
                                },
                                {
                                    "Ability": "Friend Guard",
                                    "Generation": "Gen2",
                                    "Type1": "Fairy",
                                    "Type2": "NULL",
                                    "Count": "1"
                                },
                                {
                                    "Ability": "Frisk",
                                    "Generation": "Gen1",
                                    "Type1": "Normal",
                                    "Type2": "Fairy",
                                    "Count": "1"
                                },
                                {
                                    "Ability": "Frisk",
                                    "Generation": "Gen2",
                                    "Type1": "Bug",
                                    "Type2": "Flying",
                                    "Count": "1"
                                },
                                {
                                    "Ability": "Frisk",
                                    "Generation": "Gen2",
                                    "Type1": "Normal",
                                    "Type2": "NULL",
                                    "Count": "3"
                                },
                                {
                                    "Ability": "Frisk",
                                    "Generation": "Gen3",
                                    "Type1": "Ghost",
                                    "Type2": "NULL",
                                    "Count": "4"
                                },
                                {
                                    "Ability": "Gluttony",
                                    "Generation": "Gen1",
                                    "Type1": "Grass",
                                    "Type2": "Poison",
                                    "Count": "3"
                                },
                                {
                                    "Ability": "Gluttony",
                                    "Generation": "Gen1",
                                    "Type1": "Normal",
                                    "Type2": "NULL",
                                    "Count": "1"
                                },
                                {
                                    "Ability": "Gluttony",
                                    "Generation": "Gen2",
                                    "Type1": "Bug",
                                    "Type2": "Rock",
                                    "Count": "1"
                                },
                                {
                                    "Ability": "Gluttony",
                                    "Generation": "Gen3",
                                    "Type1": "Normal",
                                    "Type2": "NULL",
                                    "Count": "2"
                                },
                                {
                                    "Ability": "Gluttony",
                                    "Generation": "Gen3",
                                    "Type1": "Poison",
                                    "Type2": "NULL",
                                    "Count": "2"
                                },
                                {
                                    "Ability": "Gluttony",
                                    "Generation": "Gen3",
                                    "Type1": "Psychic",
                                    "Type2": "NULL",
                                    "Count": "2"
                                },
                                {
                                    "Ability": "Guts",
                                    "Generation": "Gen1",
                                    "Type1": "Fighting",
                                    "Type2": "NULL",
                                    "Count": "3"
                                },
                                {
                                    "Ability": "Guts",
                                    "Generation": "Gen1",
                                    "Type1": "Fire",
                                    "Type2": "NULL",
                                    "Count": "1"
                                },
                                {
                                    "Ability": "Guts",
                                    "Generation": "Gen1",
                                    "Type1": "Normal",
                                    "Type2": "NULL",
                                    "Count": "2"
                                },
                                {
                                    "Ability": "Guts",
                                    "Generation": "Gen2",
                                    "Type1": "Bug",
                                    "Type2": "Fighting",
                                    "Count": "1"
                                },
                                {
                                    "Ability": "Guts",
                                    "Generation": "Gen2",
                                    "Type1": "Fighting",
                                    "Type2": "NULL",
                                    "Count": "1"
                                },
                                {
                                    "Ability": "Guts",
                                    "Generation": "Gen2",
                                    "Type1": "Normal",
                                    "Type2": "NULL",
                                    "Count": "1"
                                },
                                {
                                    "Ability": "Guts",
                                    "Generation": "Gen2",
                                    "Type1": "Rock",
                                    "Type2": "Ground",
                                    "Count": "1"
                                },
                                {
                                    "Ability": "Guts",
                                    "Generation": "Gen3",
                                    "Type1": "Fighting",
                                    "Type2": "NULL",
                                    "Count": "2"
                                },
                                {
                                    "Ability": "Guts",
                                    "Generation": "Gen3",
                                    "Type1": "Normal",
                                    "Type2": "Flying",
                                    "Count": "2"
                                },
                                {
                                    "Ability": "Harvest",
                                    "Generation": "Gen1",
                                    "Type1": "Grass",
                                    "Type2": "Psychic",
                                    "Count": "2"
                                },
                                {
                                    "Ability": "Harvest",
                                    "Generation": "Gen3",
                                    "Type1": "Grass",
                                    "Type2": "Flying",
                                    "Count": "1"
                                },
                                {
                                    "Ability": "Healer",
                                    "Generation": "Gen1",
                                    "Type1": "Normal",
                                    "Type2": "NULL",
                                    "Count": "1"
                                },
                                {
                                    "Ability": "Healer",
                                    "Generation": "Gen2",
                                    "Type1": "Grass",
                                    "Type2": "NULL",
                                    "Count": "1"
                                },
                                {
                                    "Ability": "Healer",
                                    "Generation": "Gen2",
                                    "Type1": "Normal",
                                    "Type2": "NULL",
                                    "Count": "1"
                                },
                                {
                                    "Ability": "Heavy Metal",
                                    "Generation": "Gen3",
                                    "Type1": "Steel",
                                    "Type2": "Rock",
                                    "Count": "3"
                                },
                                {
                                    "Ability": "Honey Gather",
                                    "Generation": "Gen2",
                                    "Type1": "Normal",
                                    "Type2": "NULL",
                                    "Count": "1"
                                },
                                {
                                    "Ability": "Huge Power",
                                    "Generation": "Gen2",
                                    "Type1": "Water",
                                    "Type2": "Fairy",
                                    "Count": "2"
                                },
                                {
                                    "Ability": "Huge Power",
                                    "Generation": "Gen3",
                                    "Type1": "Normal",
                                    "Type2": "Fairy",
                                    "Count": "1"
                                },
                                {
                                    "Ability": "Hustle",
                                    "Generation": "Gen1",
                                    "Type1": "Normal",
                                    "Type2": "NULL",
                                    "Count": "2"
                                },
                                {
                                    "Ability": "Hustle",
                                    "Generation": "Gen1",
                                    "Type1": "Poison",
                                    "Type2": "NULL",
                                    "Count": "4"
                                },
                                {
                                    "Ability": "Hustle",
                                    "Generation": "Gen2",
                                    "Type1": "Fairy",
                                    "Type2": "NULL",
                                    "Count": "1"
                                },
                                {
                                    "Ability": "Hustle",
                                    "Generation": "Gen2",
                                    "Type1": "Fairy",
                                    "Type2": "Flying",
                                    "Count": "1"
                                },
                                {
                                    "Ability": "Hustle",
                                    "Generation": "Gen2",
                                    "Type1": "Ice",
                                    "Type2": "Flying",
                                    "Count": "1"
                                },
                                {
                                    "Ability": "Hustle",
                                    "Generation": "Gen2",
                                    "Type1": "Water",
                                    "Type2": "NULL",
                                    "Count": "1"
                                },
                                {
                                    "Ability": "Hustle",
                                    "Generation": "Gen2",
                                    "Type1": "Water",
                                    "Type2": "Rock",
                                    "Count": "1"
                                },
                                {
                                    "Ability": "Hydration",
                                    "Generation": "Gen1",
                                    "Type1": "Water",
                                    "Type2": "NULL",
                                    "Count": "2"
                                },
                                {
                                    "Ability": "Hydration",
                                    "Generation": "Gen1",
                                    "Type1": "Water",
                                    "Type2": "Ice",
                                    "Count": "2"
                                },
                                {
                                    "Ability": "Hydration",
                                    "Generation": "Gen2",
                                    "Type1": "Ice",
                                    "Type2": "Psychic",
                                    "Count": "1"
                                },
                                {
                                    "Ability": "Hydration",
                                    "Generation": "Gen3",
                                    "Type1": "Water",
                                    "Type2": "NULL",
                                    "Count": "2"
                                },
                                {
                                    "Ability": "Hydration",
                                    "Generation": "Gen3",
                                    "Type1": "Water",
                                    "Type2": "Flying",
                                    "Count": "1"
                                },
                                {
                                    "Ability": "Hydration",
                                    "Generation": "Gen3",
                                    "Type1": "Water",
                                    "Type2": "Ground",
                                    "Count": "2"
                                },
                                {
                                    "Ability": "Hyper Cutter",
                                    "Generation": "Gen1",
                                    "Type1": "Bug",
                                    "Type2": "NULL",
                                    "Count": "1"
                                },
                                {
                                    "Ability": "Hyper Cutter",
                                    "Generation": "Gen1",
                                    "Type1": "Water",
                                    "Type2": "NULL",
                                    "Count": "2"
                                },
                                {
                                    "Ability": "Hyper Cutter",
                                    "Generation": "Gen2",
                                    "Type1": "Ground",
                                    "Type2": "Flying",
                                    "Count": "1"
                                },
                                {
                                    "Ability": "Hyper Cutter",
                                    "Generation": "Gen3",
                                    "Type1": "Ground",
                                    "Type2": "NULL",
                                    "Count": "1"
                                },
                                {
                                    "Ability": "Hyper Cutter",
                                    "Generation": "Gen3",
                                    "Type1": "Steel",
                                    "Type2": "Fairy",
                                    "Count": "1"
                                },
                                {
                                    "Ability": "Hyper Cutter",
                                    "Generation": "Gen3",
                                    "Type1": "Water",
                                    "Type2": "NULL",
                                    "Count": "1"
                                },
                                {
                                    "Ability": "Hyper Cutter",
                                    "Generation": "Gen3",
                                    "Type1": "Water",
                                    "Type2": "Dark",
                                    "Count": "1"
                                },
                                {
                                    "Ability": "Ice Body",
                                    "Generation": "Gen1",
                                    "Type1": "Water",
                                    "Type2": "NULL",
                                    "Count": "1"
                                },
                                {
                                    "Ability": "Ice Body",
                                    "Generation": "Gen1",
                                    "Type1": "Water",
                                    "Type2": "Ice",
                                    "Count": "1"
                                },
                                {
                                    "Ability": "Ice Body",
                                    "Generation": "Gen3",
                                    "Type1": "Ice",
                                    "Type2": "NULL",
                                    "Count": "3"
                                },
                                {
                                    "Ability": "Ice Body",
                                    "Generation": "Gen3",
                                    "Type1": "Ice",
                                    "Type2": "Water",
                                    "Count": "3"
                                },
                                {
                                    "Ability": "Illuminate",
                                    "Generation": "Gen1",
                                    "Type1": "Water",
                                    "Type2": "NULL",
                                    "Count": "1"
                                },
                                {
                                    "Ability": "Illuminate",
                                    "Generation": "Gen1",
                                    "Type1": "Water",
                                    "Type2": "Psychic",
                                    "Count": "1"
                                },
                                {
                                    "Ability": "Illuminate",
                                    "Generation": "Gen2",
                                    "Type1": "Water",
                                    "Type2": "Electric",
                                    "Count": "2"
                                },
                                {
                                    "Ability": "Illuminate",
                                    "Generation": "Gen3",
                                    "Type1": "Bug",
                                    "Type2": "NULL",
                                    "Count": "1"
                                },
                                {
                                    "Ability": "Immunity",
                                    "Generation": "Gen1",
                                    "Type1": "Normal",
                                    "Type2": "NULL",
                                    "Count": "1"
                                },
                                {
                                    "Ability": "Immunity",
                                    "Generation": "Gen2",
                                    "Type1": "Ground",
                                    "Type2": "Flying",
                                    "Count": "1"
                                },
                                {
                                    "Ability": "Immunity",
                                    "Generation": "Gen3",
                                    "Type1": "Normal",
                                    "Type2": "NULL",
                                    "Count": "1"
                                },
                                {
                                    "Ability": "Imposter",
                                    "Generation": "Gen1",
                                    "Type1": "Normal",
                                    "Type2": "NULL",
                                    "Count": "1"
                                },
                                {
                                    "Ability": "Infiltrator",
                                    "Generation": "Gen1",
                                    "Type1": "Poison",
                                    "Type2": "Flying",
                                    "Count": "2"
                                },
                                {
                                    "Ability": "Infiltrator",
                                    "Generation": "Gen2",
                                    "Type1": "Grass",
                                    "Type2": "Flying",
                                    "Count": "3"
                                },
                                {
                                    "Ability": "Infiltrator",
                                    "Generation": "Gen2",
                                    "Type1": "Poison",
                                    "Type2": "Flying",
                                    "Count": "1"
                                },
                                {
                                    "Ability": "Infiltrator",
                                    "Generation": "Gen3",
                                    "Type1": "Bug",
                                    "Type2": "Flying",
                                    "Count": "1"
                                },
                                {
                                    "Ability": "Infiltrator",
                                    "Generation": "Gen3",
                                    "Type1": "Poison",
                                    "Type2": "NULL",
                                    "Count": "1"
                                },
                                {
                                    "Ability": "Inner Focus",
                                    "Generation": "Gen1",
                                    "Type1": "Dragon",
                                    "Type2": "Flying",
                                    "Count": "1"
                                },
                                {
                                    "Ability": "Inner Focus",
                                    "Generation": "Gen1",
                                    "Type1": "Fight",
                                    "Type2": "NULL",
                                    "Count": "1"
                                },
                                {
                                    "Ability": "Inner Focus",
                                    "Generation": "Gen1",
                                    "Type1": "Normal",
                                    "Type2": "NULL",
                                    "Count": "1"
                                },
                                {
                                    "Ability": "Inner Focus",
                                    "Generation": "Gen1",
                                    "Type1": "Normal",
                                    "Type2": "Flying",
                                    "Count": "1"
                                },
                                {
                                    "Ability": "Inner Focus",
                                    "Generation": "Gen1",
                                    "Type1": "Poison",
                                    "Type2": "Flying",
                                    "Count": "2"
                                },
                                {
                                    "Ability": "Inner Focus",
                                    "Generation": "Gen1",
                                    "Type1": "Psychic",
                                    "Type2": "NULL",
                                    "Count": "5"
                                },
                                {
                                    "Ability": "Inner Focus",
                                    "Generation": "Gen2",
                                    "Type1": "Dark",
                                    "Type2": "NULL",
                                    "Count": "1"
                                },
                                {
                                    "Ability": "Inner Focus",
                                    "Generation": "Gen2",
                                    "Type1": "Dark",
                                    "Type2": "Ice",
                                    "Count": "1"
                                },
                                {
                                    "Ability": "Inner Focus",
                                    "Generation": "Gen2",
                                    "Type1": "Electric",
                                    "Type2": "NULL",
                                    "Count": "1"
                                },
                                {
                                    "Ability": "Inner Focus",
                                    "Generation": "Gen2",
                                    "Type1": "Fire",
                                    "Type2": "NULL",
                                    "Count": "1"
                                },
                                {
                                    "Ability": "Inner Focus",
                                    "Generation": "Gen2",
                                    "Type1": "Normal",
                                    "Type2": "Psychic",
                                    "Count": "1"
                                },
                                {
                                    "Ability": "Inner Focus",
                                    "Generation": "Gen2",
                                    "Type1": "Poison",
                                    "Type2": "Flying",
                                    "Count": "1"
                                },
                                {
                                    "Ability": "Inner Focus",
                                    "Generation": "Gen2",
                                    "Type1": "Water",
                                    "Type2": "NULL",
                                    "Count": "1"
                                },
                                {
                                    "Ability": "Inner Focus",
                                    "Generation": "Gen3",
                                    "Type1": "Ice",
                                    "Type2": "NULL",
                                    "Count": "2"
                                },
                                {
                                    "Ability": "Insomnia",
                                    "Generation": "Gen1",
                                    "Type1": "Psychic",
                                    "Type2": "NULL",
                                    "Count": "2"
                                },
                                {
                                    "Ability": "Insomnia",
                                    "Generation": "Gen2",
                                    "Type1": "Bug",
                                    "Type2": "Poison",
                                    "Count": "2"
                                },
                                {
                                    "Ability": "Insomnia",
                                    "Generation": "Gen2",
                                    "Type1": "Dark",
                                    "Type2": "Flying",
                                    "Count": "1"
                                },
                                {
                                    "Ability": "Insomnia",
                                    "Generation": "Gen2",
                                    "Type1": "Ice",
                                    "Type2": "Flying",
                                    "Count": "1"
                                },
                                {
                                    "Ability": "Insomnia",
                                    "Generation": "Gen2",
                                    "Type1": "Normal",
                                    "Type2": "Flying",
                                    "Count": "2"
                                },
                                {
                                    "Ability": "Insomnia",
                                    "Generation": "Gen3",
                                    "Type1": "Ghost",
                                    "Type2": "NULL",
                                    "Count": "2"
                                },
                                {
                                    "Ability": "Intimidate",
                                    "Generation": "Gen1",
                                    "Type1": "Fire",
                                    "Type2": "NULL",
                                    "Count": "2"
                                },
                                {
                                    "Ability": "Intimidate",
                                    "Generation": "Gen1",
                                    "Type1": "Normal",
                                    "Type2": "NULL",
                                    "Count": "1"
                                },
                                {
                                    "Ability": "Intimidate",
                                    "Generation": "Gen1",
                                    "Type1": "Poison",
                                    "Type2": "NULL",
                                    "Count": "2"
                                },
                                {
                                    "Ability": "Intimidate",
                                    "Generation": "Gen1",
                                    "Type1": "Water",
                                    "Type2": "Flying",
                                    "Count": "1"
                                },
                                {
                                    "Ability": "Intimidate",
                                    "Generation": "Gen2",
                                    "Type1": "Fairy",
                                    "Type2": "NULL",
                                    "Count": "2"
                                },
                                {
                                    "Ability": "Intimidate",
                                    "Generation": "Gen2",
                                    "Type1": "Fighting",
                                    "Type2": "NULL",
                                    "Count": "1"
                                },
                                {
                                    "Ability": "Intimidate",
                                    "Generation": "Gen2",
                                    "Type1": "Normal",
                                    "Type2": "NULL",
                                    "Count": "1"
                                },
                                {
                                    "Ability": "Intimidate",
                                    "Generation": "Gen2",
                                    "Type1": "Water",
                                    "Type2": "Poison",
                                    "Count": "1"
                                },
                                {
                                    "Ability": "Intimidate",
                                    "Generation": "Gen3",
                                    "Type1": "Bug",
                                    "Type2": "Flying",
                                    "Count": "1"
                                },
                                {
                                    "Ability": "Intimidate",
                                    "Generation": "Gen3",
                                    "Type1": "Dark",
                                    "Type2": "NULL",
                                    "Count": "1"
                                },
                                {
                                    "Ability": "Intimidate",
                                    "Generation": "Gen3",
                                    "Type1": "Dragon",
                                    "Type2": "Flying",
                                    "Count": "1"
                                },
                                {
                                    "Ability": "Intimidate",
                                    "Generation": "Gen3",
                                    "Type1": "Steel",
                                    "Type2": "Fairy",
                                    "Count": "1"
                                },
                                {
                                    "Ability": "Iron Fist",
                                    "Generation": "Gen1",
                                    "Type1": "Fight",
                                    "Type2": "NULL",
                                    "Count": "1"
                                },
                                {
                                    "Ability": "Iron Fist",
                                    "Generation": "Gen2",
                                    "Type1": "Bug",
                                    "Type2": "Flying",
                                    "Count": "1"
                                },
                                {
                                    "Ability": "Justified",
                                    "Generation": "Gen1",
                                    "Type1": "Fire",
                                    "Type2": "NULL",
                                    "Count": "2"
                                },
                                {
                                    "Ability": "Justified",
                                    "Generation": "Gen3",
                                    "Type1": "Dark",
                                    "Type2": "NULL",
                                    "Count": "1"
                                },
                                {
                                    "Ability": "Keen Eye",
                                    "Generation": "Gen1",
                                    "Type1": "Fight",
                                    "Type2": "NULL",
                                    "Count": "1"
                                },
                                {
                                    "Ability": "Keen Eye",
                                    "Generation": "Gen1",
                                    "Type1": "Normal",
                                    "Type2": "Flying",
                                    "Count": "6"
                                },
                                {
                                    "Ability": "Keen Eye",
                                    "Generation": "Gen2",
                                    "Type1": "Dark",
                                    "Type2": "Ice",
                                    "Count": "1"
                                },
                                {
                                    "Ability": "Keen Eye",
                                    "Generation": "Gen2",
                                    "Type1": "Normal",
                                    "Type2": "NULL",
                                    "Count": "2"
                                },
                                {
                                    "Ability": "Keen Eye",
                                    "Generation": "Gen2",
                                    "Type1": "Normal",
                                    "Type2": "Flying",
                                    "Count": "2"
                                },
                                {
                                    "Ability": "Keen Eye",
                                    "Generation": "Gen2",
                                    "Type1": "Steel",
                                    "Type2": "Flying",
                                    "Count": "1"
                                },
                                {
                                    "Ability": "Keen Eye",
                                    "Generation": "Gen3",
                                    "Type1": "Dark",
                                    "Type2": "Ghost",
                                    "Count": "1"
                                },
                                {
                                    "Ability": "Keen Eye",
                                    "Generation": "Gen3",
                                    "Type1": "Water",
                                    "Type2": "Flying",
                                    "Count": "2"
                                },
                                {
                                    "Ability": "Leaf Guard",
                                    "Generation": "Gen1",
                                    "Type1": "Grass",
                                    "Type2": "NULL",
                                    "Count": "1"
                                },
                                {
                                    "Ability": "Leaf Guard",
                                    "Generation": "Gen2",
                                    "Type1": "Grass",
                                    "Type2": "NULL",
                                    "Count": "3"
                                },
                                {
                                    "Ability": "Leaf Guard",
                                    "Generation": "Gen2",
                                    "Type1": "Grass",
                                    "Type2": "Flying",
                                    "Count": "3"
                                },
                                {
                                    "Ability": "Leaf Guard",
                                    "Generation": "Gen3",
                                    "Type1": "Grass",
                                    "Type2": "Poison",
                                    "Count": "1"
                                },
                                {
                                    "Ability": "Levitate",
                                    "Generation": "Gen1",
                                    "Type1": "Ghost",
                                    "Type2": "Poison",
                                    "Count": "2"
                                },
                                {
                                    "Ability": "Levitate",
                                    "Generation": "Gen1",
                                    "Type1": "Poison",
                                    "Type2": "NULL",
                                    "Count": "2"
                                },
                                {
                                    "Ability": "Levitate",
                                    "Generation": "Gen2",
                                    "Type1": "Ghost",
                                    "Type2": "NULL",
                                    "Count": "1"
                                },
                                {
                                    "Ability": "Levitate",
                                    "Generation": "Gen2",
                                    "Type1": "Psychic",
                                    "Type2": "NULL",
                                    "Count": "1"
                                },
                                {
                                    "Ability": "Levitate",
                                    "Generation": "Gen3",
                                    "Type1": "Dragon",
                                    "Type2": "Psychic",
                                    "Count": "2"
                                },
                                {
                                    "Ability": "Levitate",
                                    "Generation": "Gen3",
                                    "Type1": "Ghost",
                                    "Type2": "NULL",
                                    "Count": "1"
                                },
                                {
                                    "Ability": "Levitate",
                                    "Generation": "Gen3",
                                    "Type1": "Ground",
                                    "Type2": "Dragon",
                                    "Count": "2"
                                },
                                {
                                    "Ability": "Levitate",
                                    "Generation": "Gen3",
                                    "Type1": "Ground",
                                    "Type2": "Psychic",
                                    "Count": "2"
                                },
                                {
                                    "Ability": "Levitate",
                                    "Generation": "Gen3",
                                    "Type1": "Psychic",
                                    "Type2": "NULL",
                                    "Count": "1"
                                },
                                {
                                    "Ability": "Levitate",
                                    "Generation": "Gen3",
                                    "Type1": "Rock",
                                    "Type2": "Psychic",
                                    "Count": "2"
                                },
                                {
                                    "Ability": "Light Metal",
                                    "Generation": "Gen2",
                                    "Type1": "Bug",
                                    "Type2": "Steel",
                                    "Count": "1"
                                },
                                {
                                    "Ability": "Light Metal",
                                    "Generation": "Gen3",
                                    "Type1": "Steel",
                                    "Type2": "NULL",
                                    "Count": "1"
                                },
                                {
                                    "Ability": "Light Metal",
                                    "Generation": "Gen3",
                                    "Type1": "Steel",
                                    "Type2": "Psychic",
                                    "Count": "3"
                                },
                                {
                                    "Ability": "Lighting Rod",
                                    "Generation": "Gen1",
                                    "Type1": "Electric",
                                    "Type2": "NULL",
                                    "Count": "2"
                                },
                                {
                                    "Ability": "Lighting Rod",
                                    "Generation": "Gen1",
                                    "Type1": "Water",
                                    "Type2": "NULL",
                                    "Count": "2"
                                },
                                {
                                    "Ability": "Lightning Rod",
                                    "Generation": "Gen1",
                                    "Type1": "Ground",
                                    "Type2": "NULL",
                                    "Count": "2"
                                },
                                {
                                    "Ability": "Lightning Rod",
                                    "Generation": "Gen1",
                                    "Type1": "Ground",
                                    "Type2": "Rock",
                                    "Count": "2"
                                },
                                {
                                    "Ability": "Lightning Rod",
                                    "Generation": "Gen2",
                                    "Type1": "Electric",
                                    "Type2": "NULL",
                                    "Count": "1"
                                },
                                {
                                    "Ability": "Lightning Rod",
                                    "Generation": "Gen3",
                                    "Type1": "Electric",
                                    "Type2": "NULL",
                                    "Count": "3"
                                },
                                {
                                    "Ability": "Limber",
                                    "Generation": "Gen1",
                                    "Type1": "Fight",
                                    "Type2": "NULL",
                                    "Count": "1"
                                },
                                {
                                    "Ability": "Limber",
                                    "Generation": "Gen1",
                                    "Type1": "Normal",
                                    "Type2": "NULL",
                                    "Count": "2"
                                },
                                {
                                    "Ability": "Liquid Ooze",
                                    "Generation": "Gen1",
                                    "Type1": "Water",
                                    "Type2": "Poison",
                                    "Count": "2"
                                },
                                {
                                    "Ability": "Liquid Ooze",
                                    "Generation": "Gen3",
                                    "Type1": "Poison",
                                    "Type2": "NULL",
                                    "Count": "2"
                                },
                                {
                                    "Ability": "Magic Bounce",
                                    "Generation": "Gen2",
                                    "Type1": "Psychic",
                                    "Type2": "NULL",
                                    "Count": "1"
                                },
                                {
                                    "Ability": "Magic Bounce",
                                    "Generation": "Gen2",
                                    "Type1": "Psychic",
                                    "Type2": "Flying",
                                    "Count": "2"
                                },
                                {
                                    "Ability": "Magic Guard",
                                    "Generation": "Gen1",
                                    "Type1": "Fairy",
                                    "Type2": "NULL",
                                    "Count": "2"
                                },
                                {
                                    "Ability": "Magic Guard",
                                    "Generation": "Gen1",
                                    "Type1": "Psychic",
                                    "Type2": "NULL",
                                    "Count": "3"
                                },
                                {
                                    "Ability": "Magic Guard",
                                    "Generation": "Gen2",
                                    "Type1": "Fairy",
                                    "Type2": "NULL",
                                    "Count": "1"
                                },
                                {
                                    "Ability": "Magma Armor",
                                    "Generation": "Gen2",
                                    "Type1": "Fire",
                                    "Type2": "NULL",
                                    "Count": "1"
                                },
                                {
                                    "Ability": "Magma Armor",
                                    "Generation": "Gen2",
                                    "Type1": "Fire",
                                    "Type2": "Rock",
                                    "Count": "1"
                                },
                                {
                                    "Ability": "Magma Armor",
                                    "Generation": "Gen3",
                                    "Type1": "Fire",
                                    "Type2": "Ground",
                                    "Count": "1"
                                },
                                {
                                    "Ability": "Magnet Pull",
                                    "Generation": "Gen1",
                                    "Type1": "Electric",
                                    "Type2": "Steel",
                                    "Count": "2"
                                },
                                {
                                    "Ability": "Magnet Pull",
                                    "Generation": "Gen3",
                                    "Type1": "Rock",
                                    "Type2": "NULL",
                                    "Count": "1"
                                },
                                {
                                    "Ability": "Marvel Scale",
                                    "Generation": "Gen1",
                                    "Type1": "Dragon",
                                    "Type2": "NULL",
                                    "Count": "2"
                                },
                                {
                                    "Ability": "Marvel Scale",
                                    "Generation": "Gen3",
                                    "Type1": "Water",
                                    "Type2": "NULL",
                                    "Count": "1"
                                },
                                {
                                    "Ability": "Minus",
                                    "Generation": "Gen3",
                                    "Type1": "Electric",
                                    "Type2": "NULL",
                                    "Count": "3"
                                },
                                {
                                    "Ability": "Mold Breaker",
                                    "Generation": "Gen1",
                                    "Type1": "Bug",
                                    "Type2": "NULL",
                                    "Count": "1"
                                },
                                {
                                    "Ability": "Moody",
                                    "Generation": "Gen2",
                                    "Type1": "Normal",
                                    "Type2": "NULL",
                                    "Count": "1"
                                },
                                {
                                    "Ability": "Moody",
                                    "Generation": "Gen2",
                                    "Type1": "Water",
                                    "Type2": "NULL",
                                    "Count": "2"
                                },
                                {
                                    "Ability": "Moody",
                                    "Generation": "Gen3",
                                    "Type1": "Ice",
                                    "Type2": "NULL",
                                    "Count": "2"
                                },
                                {
                                    "Ability": "Moxie",
                                    "Generation": "Gen1",
                                    "Type1": "Bug",
                                    "Type2": "NULL",
                                    "Count": "1"
                                },
                                {
                                    "Ability": "Moxie",
                                    "Generation": "Gen1",
                                    "Type1": "Water",
                                    "Type2": "Flying",
                                    "Count": "1"
                                },
                                {
                                    "Ability": "Moxie",
                                    "Generation": "Gen2",
                                    "Type1": "Bug",
                                    "Type2": "Fighting",
                                    "Count": "1"
                                },
                                {
                                    "Ability": "Moxie",
                                    "Generation": "Gen3",
                                    "Type1": "Dark",
                                    "Type2": "NULL",
                                    "Count": "1"
                                },
                                {
                                    "Ability": "Moxie",
                                    "Generation": "Gen3",
                                    "Type1": "Dragon",
                                    "Type2": "Flying",
                                    "Count": "1"
                                },
                                {
                                    "Ability": "Multiscale",
                                    "Generation": "Gen1",
                                    "Type1": "Dragon",
                                    "Type2": "Flying",
                                    "Count": "1"
                                },
                                {
                                    "Ability": "Multiscale",
                                    "Generation": "Gen2",
                                    "Type1": "Psychic",
                                    "Type2": "Flying",
                                    "Count": "1"
                                },
                                {
                                    "Ability": "Natural Cure",
                                    "Generation": "Gen1",
                                    "Type1": "Normal",
                                    "Type2": "NULL",
                                    "Count": "1"
                                },
                                {
                                    "Ability": "Natural Cure",
                                    "Generation": "Gen1",
                                    "Type1": "Water",
                                    "Type2": "NULL",
                                    "Count": "1"
                                },
                                {
                                    "Ability": "Natural Cure",
                                    "Generation": "Gen1",
                                    "Type1": "Water",
                                    "Type2": "Psychic",
                                    "Count": "1"
                                },
                                {
                                    "Ability": "Natural Cure",
                                    "Generation": "Gen2",
                                    "Type1": "Normal",
                                    "Type2": "NULL",
                                    "Count": "1"
                                },
                                {
                                    "Ability": "Natural Cure",
                                    "Generation": "Gen2",
                                    "Type1": "Psychic",
                                    "Type2": "Grass",
                                    "Count": "1"
                                },
                                {
                                    "Ability": "Natural Cure",
                                    "Generation": "Gen2",
                                    "Type1": "Water",
                                    "Type2": "Rock",
                                    "Count": "1"
                                },
                                {
                                    "Ability": "Natural Cure",
                                    "Generation": "Gen3",
                                    "Type1": "Dragon",
                                    "Type2": "Flying",
                                    "Count": "1"
                                },
                                {
                                    "Ability": "Natural Cure",
                                    "Generation": "Gen3",
                                    "Type1": "Grass",
                                    "Type2": "Poison",
                                    "Count": "1"
                                },
                                {
                                    "Ability": "Natural Cure",
                                    "Generation": "Gen3",
                                    "Type1": "Normal",
                                    "Type2": "Flying",
                                    "Count": "1"
                                },
                                {
                                    "Ability": "Neutralizing Gas",
                                    "Generation": "Gen1",
                                    "Type1": "Poison",
                                    "Type2": "NULL",
                                    "Count": "2"
                                },
                                {
                                    "Ability": "No Guard",
                                    "Generation": "Gen1",
                                    "Type1": "Fighting",
                                    "Type2": "NULL",
                                    "Count": "3"
                                },
                                {
                                    "Ability": "Normalize",
                                    "Generation": "Gen3",
                                    "Type1": "Normal",
                                    "Type2": "NULL",
                                    "Count": "2"
                                },
                                {
                                    "Ability": "Oblivious",
                                    "Generation": "Gen1",
                                    "Type1": "Ice",
                                    "Type2": "Psychic",
                                    "Count": "1"
                                },
                                {
                                    "Ability": "Oblivious",
                                    "Generation": "Gen1",
                                    "Type1": "Normal",
                                    "Type2": "NULL",
                                    "Count": "1"
                                },
                                {
                                    "Ability": "Oblivious",
                                    "Generation": "Gen1",
                                    "Type1": "Water",
                                    "Type2": "Psychic",
                                    "Count": "2"
                                },
                                {
                                    "Ability": "Oblivious",
                                    "Generation": "Gen2",
                                    "Type1": "Ice",
                                    "Type2": "Ground",
                                    "Count": "2"
                                },
                                {
                                    "Ability": "Oblivious",
                                    "Generation": "Gen2",
                                    "Type1": "Ice",
                                    "Type2": "Psychic",
                                    "Count": "1"
                                },
                                {
                                    "Ability": "Oblivious",
                                    "Generation": "Gen2",
                                    "Type1": "Water",
                                    "Type2": "Psychic",
                                    "Count": "1"
                                },
                                {
                                    "Ability": "Oblivious",
                                    "Generation": "Gen3",
                                    "Type1": "Bug",
                                    "Type2": "NULL",
                                    "Count": "1"
                                },
                                {
                                    "Ability": "Oblivious",
                                    "Generation": "Gen3",
                                    "Type1": "Fire",
                                    "Type2": "Ground",
                                    "Count": "1"
                                },
                                {
                                    "Ability": "Oblivious",
                                    "Generation": "Gen3",
                                    "Type1": "Ice",
                                    "Type2": "Water",
                                    "Count": "3"
                                },
                                {
                                    "Ability": "Oblivious",
                                    "Generation": "Gen3",
                                    "Type1": "Water",
                                    "Type2": "NULL",
                                    "Count": "3"
                                },
                                {
                                    "Ability": "Oblivious",
                                    "Generation": "Gen3",
                                    "Type1": "Water",
                                    "Type2": "Ground",
                                    "Count": "2"
                                },
                                {
                                    "Ability": "Overcoat",
                                    "Generation": "Gen1",
                                    "Type1": "Water",
                                    "Type2": "NULL",
                                    "Count": "1"
                                },
                                {
                                    "Ability": "Overcoat",
                                    "Generation": "Gen1",
                                    "Type1": "Water",
                                    "Type2": "Ice",
                                    "Count": "1"
                                },
                                {
                                    "Ability": "Overcoat",
                                    "Generation": "Gen2",
                                    "Type1": "Bug",
                                    "Type2": "NULL",
                                    "Count": "1"
                                },
                                {
                                    "Ability": "Overcoat",
                                    "Generation": "Gen2",
                                    "Type1": "Bug",
                                    "Type2": "Steel",
                                    "Count": "1"
                                },
                                {
                                    "Ability": "Overcoat",
                                    "Generation": "Gen3",
                                    "Type1": "Dragon",
                                    "Type2": "NULL",
                                    "Count": "1"
                                },
                                {
                                    "Ability": "Overgrow",
                                    "Generation": "Gen1",
                                    "Type1": "Grass",
                                    "Type2": "Poison",
                                    "Count": "3"
                                },
                                {
                                    "Ability": "Overgrow",
                                    "Generation": "Gen2",
                                    "Type1": "Grass",
                                    "Type2": "NULL",
                                    "Count": "3"
                                },
                                {
                                    "Ability": "Overgrow",
                                    "Generation": "Gen3",
                                    "Type1": "Grass",
                                    "Type2": "NULL",
                                    "Count": "3"
                                },
                                {
                                    "Ability": "Own Tempo",
                                    "Generation": "Gen1",
                                    "Type1": "Normal",
                                    "Type2": "NULL",
                                    "Count": "1"
                                },
                                {
                                    "Ability": "Own Tempo",
                                    "Generation": "Gen1",
                                    "Type1": "Water",
                                    "Type2": "Psychic",
                                    "Count": "2"
                                },
                                {
                                    "Ability": "Own Tempo",
                                    "Generation": "Gen2",
                                    "Type1": "Normal",
                                    "Type2": "NULL",
                                    "Count": "1"
                                },
                                {
                                    "Ability": "Own Tempo",
                                    "Generation": "Gen2",
                                    "Type1": "Water",
                                    "Type2": "Psychic",
                                    "Count": "1"
                                },
                                {
                                    "Ability": "Own Tempo",
                                    "Generation": "Gen3",
                                    "Type1": "Fire",
                                    "Type2": "Ground",
                                    "Count": "1"
                                },
                                {
                                    "Ability": "Own Tempo",
                                    "Generation": "Gen3",
                                    "Type1": "Normal",
                                    "Type2": "NULL",
                                    "Count": "1"
                                },
                                {
                                    "Ability": "Own Tempo",
                                    "Generation": "Gen3",
                                    "Type1": "Psychic",
                                    "Type2": "NULL",
                                    "Count": "2"
                                },
                                {
                                    "Ability": "Own Tempo",
                                    "Generation": "Gen3",
                                    "Type1": "Water",
                                    "Type2": "Grass",
                                    "Count": "3"
                                },
                                {
                                    "Ability": "Pickpocket",
                                    "Generation": "Gen2",
                                    "Type1": "Dark",
                                    "Type2": "Ice",
                                    "Count": "1"
                                },
                                {
                                    "Ability": "Pickpocket",
                                    "Generation": "Gen3",
                                    "Type1": "Grass",
                                    "Type2": "NULL",
                                    "Count": "1"
                                },
                                {
                                    "Ability": "Pickpocket",
                                    "Generation": "Gen3",
                                    "Type1": "Grass",
                                    "Type2": "Dark",
                                    "Count": "2"
                                },
                                {
                                    "Ability": "Pickup",
                                    "Generation": "Gen1",
                                    "Type1": "Normal",
                                    "Type2": "NULL",
                                    "Count": "1"
                                },
                                {
                                    "Ability": "Pickup",
                                    "Generation": "Gen2",
                                    "Type1": "Ground",
                                    "Type2": "NULL",
                                    "Count": "1"
                                },
                                {
                                    "Ability": "Pickup",
                                    "Generation": "Gen2",
                                    "Type1": "Normal",
                                    "Type2": "NULL",
                                    "Count": "2"
                                },
                                {
                                    "Ability": "Pickup",
                                    "Generation": "Gen3",
                                    "Type1": "Normal",
                                    "Type2": "NULL",
                                    "Count": "2"
                                },
                                {
                                    "Ability": "Plus",
                                    "Generation": "Gen2",
                                    "Type1": "Electric",
                                    "Type2": "NULL",
                                    "Count": "3"
                                },
                                {
                                    "Ability": "Plus",
                                    "Generation": "Gen3",
                                    "Type1": "Electric",
                                    "Type2": "NULL",
                                    "Count": "1"
                                },
                                {
                                    "Ability": "Poison Heal",
                                    "Generation": "Gen3",
                                    "Type1": "Grass",
                                    "Type2": "NULL",
                                    "Count": "1"
                                },
                                {
                                    "Ability": "Poison Heal",
                                    "Generation": "Gen3",
                                    "Type1": "Grass",
                                    "Type2": "Fighting",
                                    "Count": "1"
                                },
                                {
                                    "Ability": "Poison Point",
                                    "Generation": "Gen1",
                                    "Type1": "Poison",
                                    "Type2": "NULL",
                                    "Count": "4"
                                },
                                {
                                    "Ability": "Poison Point",
                                    "Generation": "Gen1",
                                    "Type1": "Poison",
                                    "Type2": "Ground",
                                    "Count": "1"
                                },
                                {
                                    "Ability": "Poison Point",
                                    "Generation": "Gen1",
                                    "Type1": "Water",
                                    "Type2": "NULL",
                                    "Count": "1"
                                },
                                {
                                    "Ability": "Poison Point",
                                    "Generation": "Gen2",
                                    "Type1": "Water",
                                    "Type2": "Poison",
                                    "Count": "1"
                                },
                                {
                                    "Ability": "Poison Point",
                                    "Generation": "Gen3",
                                    "Type1": "Grass",
                                    "Type2": "Poison",
                                    "Count": "1"
                                },
                                {
                                    "Ability": "Poison Touch",
                                    "Generation": "Gen1",
                                    "Type1": "Poison",
                                    "Type2": "NULL",
                                    "Count": "2"
                                },
                                {
                                    "Ability": "Prankster",
                                    "Generation": "Gen2",
                                    "Type1": "Dark",
                                    "Type2": "Flying",
                                    "Count": "1"
                                },
                                {
                                    "Ability": "Prankster",
                                    "Generation": "Gen3",
                                    "Type1": "Bug",
                                    "Type2": "NULL",
                                    "Count": "2"
                                },
                                {
                                    "Ability": "Prankster",
                                    "Generation": "Gen3",
                                    "Type1": "Dark",
                                    "Type2": "Ghost",
                                    "Count": "1"
                                },
                                {
                                    "Ability": "Pressure",
                                    "Generation": "Gen1",
                                    "Type1": "Electric",
                                    "Type2": "Flying",
                                    "Count": "1"
                                },
                                {
                                    "Ability": "Pressure",
                                    "Generation": "Gen1",
                                    "Type1": "Fire",
                                    "Type2": "Flying",
                                    "Count": "1"
                                },
                                {
                                    "Ability": "Pressure",
                                    "Generation": "Gen1",
                                    "Type1": "Ice",
                                    "Type2": "Flying",
                                    "Count": "1"
                                },
                                {
                                    "Ability": "Pressure",
                                    "Generation": "Gen1",
                                    "Type1": "Psychic",
                                    "Type2": "NULL",
                                    "Count": "1"
                                },
                                {
                                    "Ability": "Pressure",
                                    "Generation": "Gen1",
                                    "Type1": "Rock",
                                    "Type2": "Flying",
                                    "Count": "1"
                                },
                                {
                                    "Ability": "Pressure",
                                    "Generation": "Gen2",
                                    "Type1": "Electric",
                                    "Type2": "NULL",
                                    "Count": "1"
                                },
                                {
                                    "Ability": "Pressure",
                                    "Generation": "Gen2",
                                    "Type1": "Fire",
                                    "Type2": "NULL",
                                    "Count": "1"
                                },
                                {
                                    "Ability": "Pressure",
                                    "Generation": "Gen2",
                                    "Type1": "Fire",
                                    "Type2": "Flying",
                                    "Count": "1"
                                },
                                {
                                    "Ability": "Pressure",
                                    "Generation": "Gen2",
                                    "Type1": "Psychic",
                                    "Type2": "Flying",
                                    "Count": "1"
                                },
                                {
                                    "Ability": "Pressure",
                                    "Generation": "Gen2",
                                    "Type1": "Water",
                                    "Type2": "NULL",
                                    "Count": "1"
                                },
                                {
                                    "Ability": "Pressure",
                                    "Generation": "Gen3",
                                    "Type1": "Dark",
                                    "Type2": "NULL",
                                    "Count": "1"
                                },
                                {
                                    "Ability": "Pressure",
                                    "Generation": "Gen3",
                                    "Type1": "Ghost",
                                    "Type2": "NULL",
                                    "Count": "1"
                                },
                                {
                                    "Ability": "Pressure",
                                    "Generation": "Gen3",
                                    "Type1": "Psychic",
                                    "Type2": "NULL",
                                    "Count": "1"
                                },
                                {
                                    "Ability": "Pressure",
                                    "Generation": "Gen3",
                                    "Type1": "Water",
                                    "Type2": "NULL",
                                    "Count": "2"
                                },
                                {
                                    "Ability": "Protean",
                                    "Generation": "Gen3",
                                    "Type1": "Normal",
                                    "Type2": "NULL",
                                    "Count": "1"
                                },
                                {
                                    "Ability": "Pure Power",
                                    "Generation": "Gen3",
                                    "Type1": "Fighting",
                                    "Type2": "Psychic",
                                    "Count": "2"
                                },
                                {
                                    "Ability": "Quick Feet",
                                    "Generation": "Gen1",
                                    "Type1": "Electric",
                                    "Type2": "NULL",
                                    "Count": "1"
                                },
                                {
                                    "Ability": "Quick Feet",
                                    "Generation": "Gen2",
                                    "Type1": "Fairy",
                                    "Type2": "NULL",
                                    "Count": "1"
                                },
                                {
                                    "Ability": "Quick Feet",
                                    "Generation": "Gen2",
                                    "Type1": "Normal",
                                    "Type2": "NULL",
                                    "Count": "2"
                                },
                                {
                                    "Ability": "Quick Feet",
                                    "Generation": "Gen3",
                                    "Type1": "Dark",
                                    "Type2": "NULL",
                                    "Count": "2"
                                },
                                {
                                    "Ability": "Quick Feet",
                                    "Generation": "Gen3",
                                    "Type1": "Grass",
                                    "Type2": "NULL",
                                    "Count": "1"
                                },
                                {
                                    "Ability": "Quick Feet",
                                    "Generation": "Gen3",
                                    "Type1": "Normal",
                                    "Type2": "NULL",
                                    "Count": "2"
                                },
                                {
                                    "Ability": "Rain Dish",
                                    "Generation": "Gen1",
                                    "Type1": "Water",
                                    "Type2": "NULL",
                                    "Count": "3"
                                },
                                {
                                    "Ability": "Rain Dish",
                                    "Generation": "Gen1",
                                    "Type1": "Water",
                                    "Type2": "Poison",
                                    "Count": "2"
                                },
                                {
                                    "Ability": "Rain Dish",
                                    "Generation": "Gen3",
                                    "Type1": "Bug",
                                    "Type2": "Water",
                                    "Count": "1"
                                },
                                {
                                    "Ability": "Rain Dish",
                                    "Generation": "Gen3",
                                    "Type1": "Water",
                                    "Type2": "Flying",
                                    "Count": "2"
                                },
                                {
                                    "Ability": "Rain Dish",
                                    "Generation": "Gen3",
                                    "Type1": "Water",
                                    "Type2": "Grass",
                                    "Count": "3"
                                },
                                {
                                    "Ability": "Rattled",
                                    "Generation": "Gen1",
                                    "Type1": "Water",
                                    "Type2": "NULL",
                                    "Count": "1"
                                },
                                {
                                    "Ability": "Rattled",
                                    "Generation": "Gen2",
                                    "Type1": "Bug",
                                    "Type2": "Flying",
                                    "Count": "1"
                                },
                                {
                                    "Ability": "Rattled",
                                    "Generation": "Gen2",
                                    "Type1": "Fairy",
                                    "Type2": "NULL",
                                    "Count": "2"
                                },
                                {
                                    "Ability": "Rattled",
                                    "Generation": "Gen2",
                                    "Type1": "Normal",
                                    "Type2": "NULL",
                                    "Count": "1"
                                },
                                {
                                    "Ability": "Rattled",
                                    "Generation": "Gen2",
                                    "Type1": "Rock",
                                    "Type2": "NULL",
                                    "Count": "1"
                                },
                                {
                                    "Ability": "Rattled",
                                    "Generation": "Gen3",
                                    "Type1": "Dark",
                                    "Type2": "NULL",
                                    "Count": "1"
                                },
                                {
                                    "Ability": "Rattled",
                                    "Generation": "Gen3",
                                    "Type1": "Normal",
                                    "Type2": "NULL",
                                    "Count": "1"
                                },
                                {
                                    "Ability": "Rattled",
                                    "Generation": "Gen3",
                                    "Type1": "Water",
                                    "Type2": "NULL",
                                    "Count": "1"
                                },
                                {
                                    "Ability": "Reckless",
                                    "Generation": "Gen1",
                                    "Type1": "Fight",
                                    "Type2": "NULL",
                                    "Count": "1"
                                },
                                {
                                    "Ability": "Reckless",
                                    "Generation": "Gen1",
                                    "Type1": "Ground",
                                    "Type2": "Rock",
                                    "Count": "2"
                                },
                                {
                                    "Ability": "Regenerator",
                                    "Generation": "Gen1",
                                    "Type1": "Grass",
                                    "Type2": "NULL",
                                    "Count": "1"
                                },
                                {
                                    "Ability": "Regenerator",
                                    "Generation": "Gen1",
                                    "Type1": "Water",
                                    "Type2": "Psychic",
                                    "Count": "2"
                                },
                                {
                                    "Ability": "Regenerator",
                                    "Generation": "Gen2",
                                    "Type1": "Fire",
                                    "Type2": "Flying",
                                    "Count": "1"
                                },
                                {
                                    "Ability": "Regenerator",
                                    "Generation": "Gen2",
                                    "Type1": "Water",
                                    "Type2": "Psychic",
                                    "Count": "1"
                                },
                                {
                                    "Ability": "Regenerator",
                                    "Generation": "Gen2",
                                    "Type1": "Water",
                                    "Type2": "Rock",
                                    "Count": "1"
                                },
                                {
                                    "Ability": "Rivalry",
                                    "Generation": "Gen1",
                                    "Type1": "Ground",
                                    "Type2": "Poison Point",
                                    "Count": "2"
                                },
                                {
                                    "Ability": "Rivalry",
                                    "Generation": "Gen1",
                                    "Type1": "Poison",
                                    "Type2": "NULL",
                                    "Count": "4"
                                },
                                {
                                    "Ability": "Rivalry",
                                    "Generation": "Gen1",
                                    "Type1": "Poison",
                                    "Type2": "Ground",
                                    "Count": "1"
                                },
                                {
                                    "Ability": "Rivalry",
                                    "Generation": "Gen3",
                                    "Type1": "Bug",
                                    "Type2": "Flying",
                                    "Count": "1"
                                },
                                {
                                    "Ability": "Rock Head",
                                    "Generation": "Gen1",
                                    "Type1": "Ground",
                                    "Type2": "NULL",
                                    "Count": "2"
                                },
                                {
                                    "Ability": "Rock Head",
                                    "Generation": "Gen1",
                                    "Type1": "Ground",
                                    "Type2": "Rock",
                                    "Count": "2"
                                },
                                {
                                    "Ability": "Rock Head",
                                    "Generation": "Gen1",
                                    "Type1": "Rock",
                                    "Type2": "Flying",
                                    "Count": "1"
                                },
                                {
                                    "Ability": "Rock Head",
                                    "Generation": "Gen1",
                                    "Type1": "Rock",
                                    "Type2": "Ground",
                                    "Count": "4"
                                },
                                {
                                    "Ability": "Rock Head",
                                    "Generation": "Gen2",
                                    "Type1": "Rock",
                                    "Type2": "NULL",
                                    "Count": "1"
                                },
                                {
                                    "Ability": "Rock Head",
                                    "Generation": "Gen2",
                                    "Type1": "Steel",
                                    "Type2": "Ground",
                                    "Count": "1"
                                },
                                {
                                    "Ability": "Rock Head",
                                    "Generation": "Gen3",
                                    "Type1": "Dragon",
                                    "Type2": "NULL",
                                    "Count": "2"
                                },
                                {
                                    "Ability": "Rock Head",
                                    "Generation": "Gen3",
                                    "Type1": "Steel",
                                    "Type2": "Rock",
                                    "Count": "3"
                                },
                                {
                                    "Ability": "Rock Head",
                                    "Generation": "Gen3",
                                    "Type1": "Water",
                                    "Type2": "Rock",
                                    "Count": "1"
                                },
                                {
                                    "Ability": "Rough Skin",
                                    "Generation": "Gen3",
                                    "Type1": "Water",
                                    "Type2": "Dark",
                                    "Count": "2"
                                },
                                {
                                    "Ability": "Run Away",
                                    "Generation": "Gen1",
                                    "Type1": "Bug",
                                    "Type2": "NULL",
                                    "Count": "1"
                                },
                                {
                                    "Ability": "Run Away",
                                    "Generation": "Gen1",
                                    "Type1": "Bug",
                                    "Type2": "Poison",
                                    "Count": "2"
                                },
                                {
                                    "Ability": "Run Away",
                                    "Generation": "Gen1",
                                    "Type1": "Fire",
                                    "Type2": "NULL",
                                    "Count": "2"
                                },
                                {
                                    "Ability": "Run Away",
                                    "Generation": "Gen1",
                                    "Type1": "Grass",
                                    "Type2": "Poison",
                                    "Count": "1"
                                },
                                {
                                    "Ability": "Run Away",
                                    "Generation": "Gen1",
                                    "Type1": "Normal",
                                    "Type2": "NULL",
                                    "Count": "3"
                                },
                                {
                                    "Ability": "Run Away",
                                    "Generation": "Gen1",
                                    "Type1": "Normal",
                                    "Type2": "Flying",
                                    "Count": "2"
                                },
                                {
                                    "Ability": "Run Away",
                                    "Generation": "Gen2",
                                    "Type1": "Fairy",
                                    "Type2": "NULL",
                                    "Count": "1"
                                },
                                {
                                    "Ability": "Run Away",
                                    "Generation": "Gen2",
                                    "Type1": "Normal",
                                    "Type2": "NULL",
                                    "Count": "4"
                                },
                                {
                                    "Ability": "Run Away",
                                    "Generation": "Gen3",
                                    "Type1": "Bug",
                                    "Type2": "NULL",
                                    "Count": "1"
                                },
                                {
                                    "Ability": "Run Away",
                                    "Generation": "Gen3",
                                    "Type1": "Bug",
                                    "Type2": "Ground",
                                    "Count": "1"
                                },
                                {
                                    "Ability": "Run Away",
                                    "Generation": "Gen3",
                                    "Type1": "Dark",
                                    "Type2": "NULL",
                                    "Count": "1"
                                },
                                {
                                    "Ability": "Sand Force",
                                    "Generation": "Gen1",
                                    "Type1": "Ground",
                                    "Type2": "NULL",
                                    "Count": "2"
                                },
                                {
                                    "Ability": "Sand Force",
                                    "Generation": "Gen3",
                                    "Type1": "Rock",
                                    "Type2": "NULL",
                                    "Count": "1"
                                },
                                {
                                    "Ability": "Sand Rush",
                                    "Generation": "Gen1",
                                    "Type1": "Ground",
                                    "Type2": "NULL",
                                    "Count": "2"
                                },
                                {
                                    "Ability": "Sand Stream",
                                    "Generation": "Gen2",
                                    "Type1": "Rock",
                                    "Type2": "Dark",
                                    "Count": "1"
                                },
                                {
                                    "Ability": "Sand Veil",
                                    "Generation": "Gen1",
                                    "Type1": "Ground",
                                    "Type2": "NULL",
                                    "Count": "4"
                                },
                                {
                                    "Ability": "Sand Veil",
                                    "Generation": "Gen1",
                                    "Type1": "Rock",
                                    "Type2": "Ground",
                                    "Count": "3"
                                },
                                {
                                    "Ability": "Sand Veil",
                                    "Generation": "Gen2",
                                    "Type1": "Ground",
                                    "Type2": "NULL",
                                    "Count": "2"
                                },
                                {
                                    "Ability": "Sand Veil",
                                    "Generation": "Gen2",
                                    "Type1": "Ground",
                                    "Type2": "Flying",
                                    "Count": "1"
                                },
                                {
                                    "Ability": "Sand Veil",
                                    "Generation": "Gen2",
                                    "Type1": "Rock",
                                    "Type2": "Ground",
                                    "Count": "1"
                                },
                                {
                                    "Ability": "Sand Veil",
                                    "Generation": "Gen3",
                                    "Type1": "Grass",
                                    "Type2": "NULL",
                                    "Count": "1"
                                },
                                {
                                    "Ability": "Sand Veil",
                                    "Generation": "Gen3",
                                    "Type1": "Grass",
                                    "Type2": "Dark",
                                    "Count": "1"
                                },
                                {
                                    "Ability": "Sap Sipper",
                                    "Generation": "Gen2",
                                    "Type1": "Normal",
                                    "Type2": "NULL",
                                    "Count": "2"
                                },
                                {
                                    "Ability": "Sap Sipper",
                                    "Generation": "Gen2",
                                    "Type1": "Normal",
                                    "Type2": "Psychic",
                                    "Count": "1"
                                },
                                {
                                    "Ability": "Sap Sipper",
                                    "Generation": "Gen2",
                                    "Type1": "Water",
                                    "Type2": "Fairy",
                                    "Count": "2"
                                },
                                {
                                    "Ability": "Sap Sipper",
                                    "Generation": "Gen3",
                                    "Type1": "Normal",
                                    "Type2": "Fairy",
                                    "Count": "1"
                                },
                                {
                                    "Ability": "Scrappy",
                                    "Generation": "Gen1",
                                    "Type1": "Normal",
                                    "Type2": "NULL",
                                    "Count": "1"
                                },
                                {
                                    "Ability": "Scrappy",
                                    "Generation": "Gen2",
                                    "Type1": "Normal",
                                    "Type2": "NULL",
                                    "Count": "1"
                                },
                                {
                                    "Ability": "Scrappy",
                                    "Generation": "Gen3",
                                    "Type1": "Normal",
                                    "Type2": "NULL",
                                    "Count": "2"
                                },
                                {
                                    "Ability": "Scrappy",
                                    "Generation": "Gen3",
                                    "Type1": "Normal",
                                    "Type2": "Flying",
                                    "Count": "2"
                                },
                                {
                                    "Ability": "Serene Grace",
                                    "Generation": "Gen1",
                                    "Type1": "Normal",
                                    "Type2": "NULL",
                                    "Count": "1"
                                },
                                {
                                    "Ability": "Serene Grace",
                                    "Generation": "Gen2",
                                    "Type1": "Fairy",
                                    "Type2": "NULL",
                                    "Count": "1"
                                },
                                {
                                    "Ability": "Serene Grace",
                                    "Generation": "Gen2",
                                    "Type1": "Fairy",
                                    "Type2": "Flying",
                                    "Count": "1"
                                },
                                {
                                    "Ability": "Serene Grace",
                                    "Generation": "Gen2",
                                    "Type1": "Normal",
                                    "Type2": "NULL",
                                    "Count": "2"
                                },
                                {
                                    "Ability": "Serene Grace",
                                    "Generation": "Gen3",
                                    "Type1": "Steel",
                                    "Type2": "Psychic",
                                    "Count": "1"
                                },
                                {
                                    "Ability": "Shadow Tag",
                                    "Generation": "Gen2",
                                    "Type1": "Psychic",
                                    "Type2": "NULL",
                                    "Count": "1"
                                },
                                {
                                    "Ability": "Shadow Tag",
                                    "Generation": "Gen3",
                                    "Type1": "Psychic",
                                    "Type2": "NULL",
                                    "Count": "1"
                                },
                                {
                                    "Ability": "Shed Skin",
                                    "Generation": "Gen1",
                                    "Type1": "Bug",
                                    "Type2": "NULL",
                                    "Count": "1"
                                },
                                {
                                    "Ability": "Shed Skin",
                                    "Generation": "Gen1",
                                    "Type1": "Bug",
                                    "Type2": "Poison",
                                    "Count": "1"
                                },
                                {
                                    "Ability": "Shed Skin",
                                    "Generation": "Gen1",
                                    "Type1": "Dragon",
                                    "Type2": "NULL",
                                    "Count": "2"
                                },
                                {
                                    "Ability": "Shed Skin",
                                    "Generation": "Gen1",
                                    "Type1": "Poison",
                                    "Type2": "NULL",
                                    "Count": "2"
                                },
                                {
                                    "Ability": "Shed Skin",
                                    "Generation": "Gen2",
                                    "Type1": "Rock",
                                    "Type2": "Ground",
                                    "Count": "1"
                                },
                                {
                                    "Ability": "Shed Skin",
                                    "Generation": "Gen3",
                                    "Type1": "Bug",
                                    "Type2": "NULL",
                                    "Count": "2"
                                },
                                {
                                    "Ability": "Shed Skin",
                                    "Generation": "Gen3",
                                    "Type1": "Poison",
                                    "Type2": "NULL",
                                    "Count": "1"
                                },
                                {
                                    "Ability": "Sheer Force",
                                    "Generation": "Gen1",
                                    "Type1": "Ground",
                                    "Type2": "Poison Point",
                                    "Count": "1"
                                },
                                {
                                    "Ability": "Sheer Force",
                                    "Generation": "Gen1",
                                    "Type1": "Normal",
                                    "Type2": "NULL",
                                    "Count": "1"
                                },
                                {
                                    "Ability": "Sheer Force",
                                    "Generation": "Gen1",
                                    "Type1": "Poison",
                                    "Type2": "Ground",
                                    "Count": "1"
                                },
                                {
                                    "Ability": "Sheer Force",
                                    "Generation": "Gen1",
                                    "Type1": "Water",
                                    "Type2": "NULL",
                                    "Count": "2"
                                },
                                {
                                    "Ability": "Sheer Force",
                                    "Generation": "Gen2",
                                    "Type1": "Steel",
                                    "Type2": "Ground",
                                    "Count": "1"
                                },
                                {
                                    "Ability": "Sheer Force",
                                    "Generation": "Gen2",
                                    "Type1": "Water",
                                    "Type2": "NULL",
                                    "Count": "3"
                                },
                                {
                                    "Ability": "Sheer Force",
                                    "Generation": "Gen3",
                                    "Type1": "Dragon",
                                    "Type2": "NULL",
                                    "Count": "1"
                                },
                                {
                                    "Ability": "Sheer Force",
                                    "Generation": "Gen3",
                                    "Type1": "Fighting",
                                    "Type2": "NULL",
                                    "Count": "2"
                                },
                                {
                                    "Ability": "Sheer Force",
                                    "Generation": "Gen3",
                                    "Type1": "Ground",
                                    "Type2": "NULL",
                                    "Count": "1"
                                },
                                {
                                    "Ability": "Sheer Force",
                                    "Generation": "Gen3",
                                    "Type1": "Steel",
                                    "Type2": "Fairy",
                                    "Count": "1"
                                },
                                {
                                    "Ability": "Shell Armor",
                                    "Generation": "Gen1",
                                    "Type1": "Rock",
                                    "Type2": "Water",
                                    "Count": "2"
                                },
                                {
                                    "Ability": "Shell Armor",
                                    "Generation": "Gen1",
                                    "Type1": "Water",
                                    "Type2": "NULL",
                                    "Count": "3"
                                },
                                {
                                    "Ability": "Shell Armor",
                                    "Generation": "Gen1",
                                    "Type1": "Water",
                                    "Type2": "Ice",
                                    "Count": "2"
                                },
                                {
                                    "Ability": "Shell Armor",
                                    "Generation": "Gen3",
                                    "Type1": "Fire",
                                    "Type2": "NULL",
                                    "Count": "1"
                                },
                                {
                                    "Ability": "Shell Armor",
                                    "Generation": "Gen3",
                                    "Type1": "Water",
                                    "Type2": "NULL",
                                    "Count": "2"
                                },
                                {
                                    "Ability": "Shell Armor",
                                    "Generation": "Gen3",
                                    "Type1": "Water",
                                    "Type2": "Dark",
                                    "Count": "1"
                                },
                                {
                                    "Ability": "Shield Dust",
                                    "Generation": "Gen1",
                                    "Type1": "Bug",
                                    "Type2": "NULL",
                                    "Count": "1"
                                },
                                {
                                    "Ability": "Shield Dust",
                                    "Generation": "Gen1",
                                    "Type1": "Bug",
                                    "Type2": "Poison",
                                    "Count": "2"
                                },
                                {
                                    "Ability": "Shield Dust",
                                    "Generation": "Gen3",
                                    "Type1": "Bug",
                                    "Type2": "NULL",
                                    "Count": "1"
                                },
                                {
                                    "Ability": "Shield Dust",
                                    "Generation": "Gen3",
                                    "Type1": "Bug",
                                    "Type2": "Poison",
                                    "Count": "1"
                                },
                                {
                                    "Ability": "Simple",
                                    "Generation": "Gen3",
                                    "Type1": "Fire",
                                    "Type2": "Ground",
                                    "Count": "1"
                                },
                                {
                                    "Ability": "Skill Link",
                                    "Generation": "Gen1",
                                    "Type1": "Water",
                                    "Type2": "NULL",
                                    "Count": "1"
                                },
                                {
                                    "Ability": "Skill Link",
                                    "Generation": "Gen1",
                                    "Type1": "Water",
                                    "Type2": "Ice",
                                    "Count": "1"
                                },
                                {
                                    "Ability": "Skill Link",
                                    "Generation": "Gen2",
                                    "Type1": "Normal",
                                    "Type2": "NULL",
                                    "Count": "1"
                                },
                                {
                                    "Ability": "Sniper",
                                    "Generation": "Gen1",
                                    "Type1": "Bug",
                                    "Type2": "Poison",
                                    "Count": "1"
                                },
                                {
                                    "Ability": "Sniper",
                                    "Generation": "Gen1",
                                    "Type1": "Normal",
                                    "Type2": "Flying",
                                    "Count": "2"
                                },
                                {
                                    "Ability": "Sniper",
                                    "Generation": "Gen1",
                                    "Type1": "Water",
                                    "Type2": "NULL",
                                    "Count": "2"
                                },
                                {
                                    "Ability": "Sniper",
                                    "Generation": "Gen2",
                                    "Type1": "Bug",
                                    "Type2": "Poison",
                                    "Count": "2"
                                },
                                {
                                    "Ability": "Sniper",
                                    "Generation": "Gen2",
                                    "Type1": "Water",
                                    "Type2": "NULL",
                                    "Count": "2"
                                },
                                {
                                    "Ability": "Sniper",
                                    "Generation": "Gen2",
                                    "Type1": "Water",
                                    "Type2": "Dragon",
                                    "Count": "1"
                                },
                                {
                                    "Ability": "Snow Cloak",
                                    "Generation": "Gen1",
                                    "Type1": "Ice",
                                    "Type2": "Flying",
                                    "Count": "1"
                                },
                                {
                                    "Ability": "Snow Cloak",
                                    "Generation": "Gen2",
                                    "Type1": "Ice",
                                    "Type2": "Ground",
                                    "Count": "2"
                                },
                                {
                                    "Ability": "Solar Power",
                                    "Generation": "Gen1",
                                    "Type1": "Fire",
                                    "Type2": "NULL",
                                    "Count": "2"
                                },
                                {
                                    "Ability": "Solar Power",
                                    "Generation": "Gen1",
                                    "Type1": "Fire",
                                    "Type2": "Flying",
                                    "Count": "1"
                                },
                                {
                                    "Ability": "Solar Power",
                                    "Generation": "Gen2",
                                    "Type1": "Grass",
                                    "Type2": "NULL",
                                    "Count": "2"
                                },
                                {
                                    "Ability": "Solar Power",
                                    "Generation": "Gen3",
                                    "Type1": "Grass",
                                    "Type2": "Flying",
                                    "Count": "1"
                                },
                                {
                                    "Ability": "Solid Rock",
                                    "Generation": "Gen3",
                                    "Type1": "Fire",
                                    "Type2": "Ground",
                                    "Count": "1"
                                },
                                {
                                    "Ability": "Soundproof",
                                    "Generation": "Gen1",
                                    "Type1": "Electric",
                                    "Type2": "NULL",
                                    "Count": "2"
                                },
                                {
                                    "Ability": "Soundproof",
                                    "Generation": "Gen1",
                                    "Type1": "Psychic",
                                    "Type2": "Fairy",
                                    "Count": "1"
                                },
                                {
                                    "Ability": "Soundproof",
                                    "Generation": "Gen3",
                                    "Type1": "Normal",
                                    "Type2": "NULL",
                                    "Count": "3"
                                },
                                {
                                    "Ability": "Speed Boost",
                                    "Generation": "Gen2",
                                    "Type1": "Bug",
                                    "Type2": "Flying",
                                    "Count": "1"
                                },
                                {
                                    "Ability": "Speed Boost",
                                    "Generation": "Gen3",
                                    "Type1": "Bug",
                                    "Type2": "Flying",
                                    "Count": "1"
                                },
                                {
                                    "Ability": "Speed Boost",
                                    "Generation": "Gen3",
                                    "Type1": "Fire",
                                    "Type2": "NULL",
                                    "Count": "3"
                                },
                                {
                                    "Ability": "Speed Boost",
                                    "Generation": "Gen3",
                                    "Type1": "Water",
                                    "Type2": "Dark",
                                    "Count": "2"
                                },
                                {
                                    "Ability": "Stall",
                                    "Generation": "Gen3",
                                    "Type1": "Dark",
                                    "Type2": "Ghost",
                                    "Count": "1"
                                },
                                {
                                    "Ability": "Static",
                                    "Generation": "Gen1",
                                    "Type1": "Electric",
                                    "Type2": "NULL",
                                    "Count": "5"
                                },
                                {
                                    "Ability": "Static",
                                    "Generation": "Gen1",
                                    "Type1": "Electric",
                                    "Type2": "Flying",
                                    "Count": "1"
                                },
                                {
                                    "Ability": "Static",
                                    "Generation": "Gen2",
                                    "Type1": "Electric",
                                    "Type2": "NULL",
                                    "Count": "5"
                                },
                                {
                                    "Ability": "Static",
                                    "Generation": "Gen3",
                                    "Type1": "Electric",
                                    "Type2": "NULL",
                                    "Count": "2"
                                },
                                {
                                    "Ability": "Steadfast",
                                    "Generation": "Gen1",
                                    "Type1": "Bug",
                                    "Type2": "Flying",
                                    "Count": "1"
                                },
                                {
                                    "Ability": "Steadfast",
                                    "Generation": "Gen1",
                                    "Type1": "Fighting",
                                    "Type2": "NULL",
                                    "Count": "3"
                                },
                                {
                                    "Ability": "Steadfast",
                                    "Generation": "Gen2",
                                    "Type1": "Fighting",
                                    "Type2": "NULL",
                                    "Count": "2"
                                },
                                {
                                    "Ability": "Stench",
                                    "Generation": "Gen1",
                                    "Type1": "Grass",
                                    "Type2": "Poison",
                                    "Count": "1"
                                },
                                {
                                    "Ability": "Stench",
                                    "Generation": "Gen1",
                                    "Type1": "Poison",
                                    "Type2": "NULL",
                                    "Count": "4"
                                },
                                {
                                    "Ability": "Sticky Hold",
                                    "Generation": "Gen1",
                                    "Type1": "Poison",
                                    "Type2": "NULL",
                                    "Count": "2"
                                },
                                {
                                    "Ability": "Sticky Hold",
                                    "Generation": "Gen3",
                                    "Type1": "Poison",
                                    "Type2": "NULL",
                                    "Count": "2"
                                },
                                {
                                    "Ability": "Storm Drain",
                                    "Generation": "Gen3",
                                    "Type1": "Rock",
                                    "Type2": "Grass",
                                    "Count": "2"
                                },
                                {
                                    "Ability": "Sturdy",
                                    "Generation": "Gen1",
                                    "Type1": "Electric",
                                    "Type2": "Steel",
                                    "Count": "2"
                                },
                                {
                                    "Ability": "Sturdy",
                                    "Generation": "Gen1",
                                    "Type1": "Rock",
                                    "Type2": "Ground",
                                    "Count": "4"
                                },
                                {
                                    "Ability": "Sturdy",
                                    "Generation": "Gen2",
                                    "Type1": "Bug",
                                    "Type2": "NULL",
                                    "Count": "1"
                                },
                                {
                                    "Ability": "Sturdy",
                                    "Generation": "Gen2",
                                    "Type1": "Bug",
                                    "Type2": "Rock",
                                    "Count": "1"
                                },
                                {
                                    "Ability": "Sturdy",
                                    "Generation": "Gen2",
                                    "Type1": "Bug",
                                    "Type2": "Steel",
                                    "Count": "1"
                                },
                                {
                                    "Ability": "Sturdy",
                                    "Generation": "Gen2",
                                    "Type1": "Ground",
                                    "Type2": "NULL",
                                    "Count": "1"
                                },
                                {
                                    "Ability": "Sturdy",
                                    "Generation": "Gen2",
                                    "Type1": "Rock",
                                    "Type2": "NULL",
                                    "Count": "1"
                                },
                                {
                                    "Ability": "Sturdy",
                                    "Generation": "Gen2",
                                    "Type1": "Steel",
                                    "Type2": "Flying",
                                    "Count": "1"
                                },
                                {
                                    "Ability": "Sturdy",
                                    "Generation": "Gen2",
                                    "Type1": "Steel",
                                    "Type2": "Ground",
                                    "Count": "1"
                                },
                                {
                                    "Ability": "Sturdy",
                                    "Generation": "Gen3",
                                    "Type1": "Rock",
                                    "Type2": "NULL",
                                    "Count": "2"
                                },
                                {
                                    "Ability": "Sturdy",
                                    "Generation": "Gen3",
                                    "Type1": "Steel",
                                    "Type2": "Rock",
                                    "Count": "3"
                                },
                                {
                                    "Ability": "Sturdy",
                                    "Generation": "Gen3",
                                    "Type1": "Water",
                                    "Type2": "Rock",
                                    "Count": "1"
                                },
                                {
                                    "Ability": "Suction Cups",
                                    "Generation": "Gen2",
                                    "Type1": "Water",
                                    "Type2": "NULL",
                                    "Count": "1"
                                },
                                {
                                    "Ability": "Suction Cups",
                                    "Generation": "Gen3",
                                    "Type1": "Rock",
                                    "Type2": "Grass",
                                    "Count": "2"
                                },
                                {
                                    "Ability": "Super Luck",
                                    "Generation": "Gen2",
                                    "Type1": "Dark",
                                    "Type2": "Flying",
                                    "Count": "1"
                                },
                                {
                                    "Ability": "Super Luck",
                                    "Generation": "Gen2",
                                    "Type1": "Fairy",
                                    "Type2": "NULL",
                                    "Count": "1"
                                },
                                {
                                    "Ability": "Super Luck",
                                    "Generation": "Gen2",
                                    "Type1": "Fairy",
                                    "Type2": "Flying",
                                    "Count": "1"
                                },
                                {
                                    "Ability": "Super Luck",
                                    "Generation": "Gen3",
                                    "Type1": "Dark",
                                    "Type2": "NULL",
                                    "Count": "1"
                                },
                                {
                                    "Ability": "Swarm",
                                    "Generation": "Gen1",
                                    "Type1": "Bug",
                                    "Type2": "Flying",
                                    "Count": "1"
                                },
                                {
                                    "Ability": "Swarm",
                                    "Generation": "Gen1",
                                    "Type1": "Bug",
                                    "Type2": "Poison",
                                    "Count": "1"
                                },
                                {
                                    "Ability": "Swarm",
                                    "Generation": "Gen2",
                                    "Type1": "Bug",
                                    "Type2": "Fighting",
                                    "Count": "1"
                                },
                                {
                                    "Ability": "Swarm",
                                    "Generation": "Gen2",
                                    "Type1": "Bug",
                                    "Type2": "Flying",
                                    "Count": "2"
                                },
                                {
                                    "Ability": "Swarm",
                                    "Generation": "Gen2",
                                    "Type1": "Bug",
                                    "Type2": "Poison",
                                    "Count": "2"
                                },
                                {
                                    "Ability": "Swarm",
                                    "Generation": "Gen2",
                                    "Type1": "Bug",
                                    "Type2": "Steel",
                                    "Count": "1"
                                },
                                {
                                    "Ability": "Swarm",
                                    "Generation": "Gen3",
                                    "Type1": "Bug",
                                    "Type2": "NULL",
                                    "Count": "1"
                                },
                                {
                                    "Ability": "Swarm",
                                    "Generation": "Gen3",
                                    "Type1": "Bug",
                                    "Type2": "Flying",
                                    "Count": "1"
                                },
                                {
                                    "Ability": "Swift Swim",
                                    "Generation": "Gen1",
                                    "Type1": "Rock",
                                    "Type2": "Water",
                                    "Count": "4"
                                },
                                {
                                    "Ability": "Swift Swim",
                                    "Generation": "Gen1",
                                    "Type1": "Water",
                                    "Type2": "NULL",
                                    "Count": "8"
                                },
                                {
                                    "Ability": "Swift Swim",
                                    "Generation": "Gen1",
                                    "Type1": "Water",
                                    "Type2": "Fighting",
                                    "Count": "1"
                                },
                                {
                                    "Ability": "Swift Swim",
                                    "Generation": "Gen2",
                                    "Type1": "Water",
                                    "Type2": "Dragon",
                                    "Count": "1"
                                },
                                {
                                    "Ability": "Swift Swim",
                                    "Generation": "Gen2",
                                    "Type1": "Water",
                                    "Type2": "Flying",
                                    "Count": "1"
                                },
                                {
                                    "Ability": "Swift Swim",
                                    "Generation": "Gen2",
                                    "Type1": "Water",
                                    "Type2": "Poison",
                                    "Count": "1"
                                },
                                {
                                    "Ability": "Swift Swim",
                                    "Generation": "Gen3",
                                    "Type1": "Bug",
                                    "Type2": "Water",
                                    "Count": "1"
                                },
                                {
                                    "Ability": "Swift Swim",
                                    "Generation": "Gen3",
                                    "Type1": "Rock",
                                    "Type2": "Bug",
                                    "Count": "2"
                                },
                                {
                                    "Ability": "Swift Swim",
                                    "Generation": "Gen3",
                                    "Type1": "Water",
                                    "Type2": "NULL",
                                    "Count": "4"
                                },
                                {
                                    "Ability": "Swift Swim",
                                    "Generation": "Gen3",
                                    "Type1": "Water",
                                    "Type2": "Grass",
                                    "Count": "3"
                                },
                                {
                                    "Ability": "Swift Swim",
                                    "Generation": "Gen3",
                                    "Type1": "Water",
                                    "Type2": "Rock",
                                    "Count": "1"
                                },
                                {
                                    "Ability": "Synchronize",
                                    "Generation": "Gen1",
                                    "Type1": "Psychic",
                                    "Type2": "NULL",
                                    "Count": "4"
                                },
                                {
                                    "Ability": "Synchronize",
                                    "Generation": "Gen2",
                                    "Type1": "Dark",
                                    "Type2": "NULL",
                                    "Count": "1"
                                },
                                {
                                    "Ability": "Synchronize",
                                    "Generation": "Gen2",
                                    "Type1": "Psychic",
                                    "Type2": "NULL",
                                    "Count": "1"
                                },
                                {
                                    "Ability": "Synchronize",
                                    "Generation": "Gen2",
                                    "Type1": "Psychic",
                                    "Type2": "Flying",
                                    "Count": "2"
                                },
                                {
                                    "Ability": "Synchronize",
                                    "Generation": "Gen3",
                                    "Type1": "Psychic",
                                    "Type2": "Fairy",
                                    "Count": "3"
                                },
                                {
                                    "Ability": "Tangled Feet",
                                    "Generation": "Gen1",
                                    "Type1": "Normal",
                                    "Type2": "Flying",
                                    "Count": "5"
                                },
                                {
                                    "Ability": "Tangled Feet",
                                    "Generation": "Gen3",
                                    "Type1": "Normal",
                                    "Type2": "NULL",
                                    "Count": "1"
                                },
                                {
                                    "Ability": "Technician",
                                    "Generation": "Gen1",
                                    "Type1": "Bug",
                                    "Type2": "Flying",
                                    "Count": "1"
                                },
                                {
                                    "Ability": "Technician",
                                    "Generation": "Gen1",
                                    "Type1": "Normal",
                                    "Type2": "NULL",
                                    "Count": "2"
                                },
                                {
                                    "Ability": "Technician",
                                    "Generation": "Gen1",
                                    "Type1": "Psychic",
                                    "Type2": "Fairy",
                                    "Count": "1"
                                },
                                {
                                    "Ability": "Technician",
                                    "Generation": "Gen2",
                                    "Type1": "Bug",
                                    "Type2": "Steel",
                                    "Count": "1"
                                },
                                {
                                    "Ability": "Technician",
                                    "Generation": "Gen2",
                                    "Type1": "Fighting",
                                    "Type2": "NULL",
                                    "Count": "1"
                                },
                                {
                                    "Ability": "Technician",
                                    "Generation": "Gen2",
                                    "Type1": "Normal",
                                    "Type2": "NULL",
                                    "Count": "1"
                                },
                                {
                                    "Ability": "Technician",
                                    "Generation": "Gen3",
                                    "Type1": "Grass",
                                    "Type2": "Fighting",
                                    "Count": "1"
                                },
                                {
                                    "Ability": "Telepathy",
                                    "Generation": "Gen2",
                                    "Type1": "Psychic",
                                    "Type2": "NULL",
                                    "Count": "1"
                                },
                                {
                                    "Ability": "Telepathy",
                                    "Generation": "Gen3",
                                    "Type1": "Fighting",
                                    "Type2": "Psychic",
                                    "Count": "2"
                                },
                                {
                                    "Ability": "Telepathy",
                                    "Generation": "Gen3",
                                    "Type1": "Psychic",
                                    "Type2": "NULL",
                                    "Count": "1"
                                },
                                {
                                    "Ability": "Telepathy",
                                    "Generation": "Gen3",
                                    "Type1": "Psychic",
                                    "Type2": "Fairy",
                                    "Count": "3"
                                },
                                {
                                    "Ability": "Thick Fat",
                                    "Generation": "Gen1",
                                    "Type1": "Normal",
                                    "Type2": "NULL",
                                    "Count": "1"
                                },
                                {
                                    "Ability": "Thick Fat",
                                    "Generation": "Gen1",
                                    "Type1": "Water",
                                    "Type2": "NULL",
                                    "Count": "1"
                                },
                                {
                                    "Ability": "Thick Fat",
                                    "Generation": "Gen1",
                                    "Type1": "Water",
                                    "Type2": "Ice",
                                    "Count": "1"
                                },
                                {
                                    "Ability": "Thick Fat",
                                    "Generation": "Gen2",
                                    "Type1": "Ice",
                                    "Type2": "Ground",
                                    "Count": "2"
                                },
                                {
                                    "Ability": "Thick Fat",
                                    "Generation": "Gen2",
                                    "Type1": "Normal",
                                    "Type2": "NULL",
                                    "Count": "1"
                                },
                                {
                                    "Ability": "Thick Fat",
                                    "Generation": "Gen2",
                                    "Type1": "Water",
                                    "Type2": "Fairy",
                                    "Count": "2"
                                },
                                {
                                    "Ability": "Thick Fat",
                                    "Generation": "Gen3",
                                    "Type1": "Fighting",
                                    "Type2": "NULL",
                                    "Count": "2"
                                },
                                {
                                    "Ability": "Thick Fat",
                                    "Generation": "Gen3",
                                    "Type1": "Ice",
                                    "Type2": "Water",
                                    "Count": "3"
                                },
                                {
                                    "Ability": "Thick Fat",
                                    "Generation": "Gen3",
                                    "Type1": "Normal",
                                    "Type2": "Fairy",
                                    "Count": "1"
                                },
                                {
                                    "Ability": "Thick Fat",
                                    "Generation": "Gen3",
                                    "Type1": "Psychic",
                                    "Type2": "NULL",
                                    "Count": "2"
                                },
                                {
                                    "Ability": "Tinted Lens",
                                    "Generation": "Gen1",
                                    "Type1": "Bug",
                                    "Type2": "Flying",
                                    "Count": "1"
                                },
                                {
                                    "Ability": "Tinted Lens",
                                    "Generation": "Gen1",
                                    "Type1": "Bug",
                                    "Type2": "Poison",
                                    "Count": "2"
                                },
                                {
                                    "Ability": "Tinted Lens",
                                    "Generation": "Gen2",
                                    "Type1": "Normal",
                                    "Type2": "Flying",
                                    "Count": "2"
                                },
                                {
                                    "Ability": "Tinted Lens",
                                    "Generation": "Gen3",
                                    "Type1": "Bug",
                                    "Type2": "NULL",
                                    "Count": "1"
                                },
                                {
                                    "Ability": "Torrent",
                                    "Generation": "Gen1",
                                    "Type1": "Water",
                                    "Type2": "NULL",
                                    "Count": "3"
                                },
                                {
                                    "Ability": "Torrent",
                                    "Generation": "Gen2",
                                    "Type1": "Water",
                                    "Type2": "NULL",
                                    "Count": "3"
                                },
                                {
                                    "Ability": "Torrent",
                                    "Generation": "Gen3",
                                    "Type1": "Water",
                                    "Type2": "NULL",
                                    "Count": "3"
                                },
                                {
                                    "Ability": "Toxic Boost",
                                    "Generation": "Gen3",
                                    "Type1": "Normal",
                                    "Type2": "NULL",
                                    "Count": "1"
                                },
                                {
                                    "Ability": "Trace",
                                    "Generation": "Gen1",
                                    "Type1": "Normal",
                                    "Type2": "NULL",
                                    "Count": "1"
                                },
                                {
                                    "Ability": "Trace",
                                    "Generation": "Gen2",
                                    "Type1": "Normal",
                                    "Type2": "NULL",
                                    "Count": "1"
                                },
                                {
                                    "Ability": "Trace",
                                    "Generation": "Gen3",
                                    "Type1": "Psychic",
                                    "Type2": "Fairy",
                                    "Count": "3"
                                },
                                {
                                    "Ability": "Truant",
                                    "Generation": "Gen3",
                                    "Type1": "Normal",
                                    "Type2": "NULL",
                                    "Count": "2"
                                },
                                {
                                    "Ability": "Unaware",
                                    "Generation": "Gen2",
                                    "Type1": "Water",
                                    "Type2": "Ground",
                                    "Count": "2"
                                },
                                {
                                    "Ability": "Unburden",
                                    "Generation": "Gen1",
                                    "Type1": "Fight",
                                    "Type2": "NULL",
                                    "Count": "1"
                                },
                                {
                                    "Ability": "Unburden",
                                    "Generation": "Gen3",
                                    "Type1": "Grass",
                                    "Type2": "NULL",
                                    "Count": "3"
                                },
                                {
                                    "Ability": "Unnerve",
                                    "Generation": "Gen1",
                                    "Type1": "Normal",
                                    "Type2": "NULL",
                                    "Count": "2"
                                },
                                {
                                    "Ability": "Unnerve",
                                    "Generation": "Gen1",
                                    "Type1": "Poison",
                                    "Type2": "NULL",
                                    "Count": "2"
                                },
                                {
                                    "Ability": "Unnerve",
                                    "Generation": "Gen1",
                                    "Type1": "Psychic",
                                    "Type2": "NULL",
                                    "Count": "1"
                                },
                                {
                                    "Ability": "Unnerve",
                                    "Generation": "Gen1",
                                    "Type1": "Rock",
                                    "Type2": "Flying",
                                    "Count": "1"
                                },
                                {
                                    "Ability": "Unnerve",
                                    "Generation": "Gen2",
                                    "Type1": "Dark",
                                    "Type2": "Fire",
                                    "Count": "2"
                                },
                                {
                                    "Ability": "Unnerve",
                                    "Generation": "Gen2",
                                    "Type1": "Normal",
                                    "Type2": "NULL",
                                    "Count": "1"
                                },
                                {
                                    "Ability": "Unnerve",
                                    "Generation": "Gen2",
                                    "Type1": "Rock",
                                    "Type2": "Dark",
                                    "Count": "1"
                                },
                                {
                                    "Ability": "Unnerve",
                                    "Generation": "Gen3",
                                    "Type1": "Bug",
                                    "Type2": "Flying",
                                    "Count": "1"
                                },
                                {
                                    "Ability": "Vital Spirit",
                                    "Generation": "Gen1",
                                    "Type1": "Electric",
                                    "Type2": "NULL",
                                    "Count": "1"
                                },
                                {
                                    "Ability": "Vital Spirit",
                                    "Generation": "Gen1",
                                    "Type1": "Fighting",
                                    "Type2": "NULL",
                                    "Count": "2"
                                },
                                {
                                    "Ability": "Vital Spirit",
                                    "Generation": "Gen1",
                                    "Type1": "Fire",
                                    "Type2": "NULL",
                                    "Count": "1"
                                },
                                {
                                    "Ability": "Vital Spirit",
                                    "Generation": "Gen2",
                                    "Type1": "Electric",
                                    "Type2": "NULL",
                                    "Count": "1"
                                },
                                {
                                    "Ability": "Vital Spirit",
                                    "Generation": "Gen2",
                                    "Type1": "Fighting",
                                    "Type2": "NULL",
                                    "Count": "1"
                                },
                                {
                                    "Ability": "Vital Spirit",
                                    "Generation": "Gen2",
                                    "Type1": "Fire",
                                    "Type2": "NULL",
                                    "Count": "1"
                                },
                                {
                                    "Ability": "Vital Spirit",
                                    "Generation": "Gen2",
                                    "Type1": "Ice",
                                    "Type2": "Flying",
                                    "Count": "1"
                                },
                                {
                                    "Ability": "Vital Spirit",
                                    "Generation": "Gen3",
                                    "Type1": "Normal",
                                    "Type2": "NULL",
                                    "Count": "1"
                                },
                                {
                                    "Ability": "Volt Absorb",
                                    "Generation": "Gen1",
                                    "Type1": "Electric",
                                    "Type2": "NULL",
                                    "Count": "1"
                                },
                                {
                                    "Ability": "Volt Absorb",
                                    "Generation": "Gen2",
                                    "Type1": "Water",
                                    "Type2": "Electric",
                                    "Count": "2"
                                },
                                {
                                    "Ability": "Volt Absorb",
                                    "Generation": "Gen3",
                                    "Type1": "Electric",
                                    "Type2": "NULL",
                                    "Count": "1"
                                },
                                {
                                    "Ability": "Water Absorb",
                                    "Generation": "Gen1",
                                    "Type1": "Water",
                                    "Type2": "NULL",
                                    "Count": "3"
                                },
                                {
                                    "Ability": "Water Absorb",
                                    "Generation": "Gen1",
                                    "Type1": "Water",
                                    "Type2": "Fighting",
                                    "Count": "1"
                                },
                                {
                                    "Ability": "Water Absorb",
                                    "Generation": "Gen1",
                                    "Type1": "Water",
                                    "Type2": "Ice",
                                    "Count": "1"
                                },
                                {
                                    "Ability": "Water Absorb",
                                    "Generation": "Gen2",
                                    "Type1": "Water",
                                    "Type2": "NULL",
                                    "Count": "1"
                                },
                                {
                                    "Ability": "Water Absorb",
                                    "Generation": "Gen2",
                                    "Type1": "Water",
                                    "Type2": "Electric",
                                    "Count": "2"
                                },
                                {
                                    "Ability": "Water Absorb",
                                    "Generation": "Gen2",
                                    "Type1": "Water",
                                    "Type2": "Flying",
                                    "Count": "1"
                                },
                                {
                                    "Ability": "Water Absorb",
                                    "Generation": "Gen2",
                                    "Type1": "Water",
                                    "Type2": "Ground",
                                    "Count": "2"
                                },
                                {
                                    "Ability": "Water Absorb",
                                    "Generation": "Gen3",
                                    "Type1": "Grass",
                                    "Type2": "NULL",
                                    "Count": "1"
                                },
                                {
                                    "Ability": "Water Absorb",
                                    "Generation": "Gen3",
                                    "Type1": "Grass",
                                    "Type2": "Dark",
                                    "Count": "1"
                                },
                                {
                                    "Ability": "Water Veil",
                                    "Generation": "Gen1",
                                    "Type1": "Water",
                                    "Type2": "NULL",
                                    "Count": "2"
                                },
                                {
                                    "Ability": "Water Veil",
                                    "Generation": "Gen2",
                                    "Type1": "Water",
                                    "Type2": "Flying",
                                    "Count": "1"
                                },
                                {
                                    "Ability": "Water Veil",
                                    "Generation": "Gen3",
                                    "Type1": "Water",
                                    "Type2": "NULL",
                                    "Count": "3"
                                },
                                {
                                    "Ability": "Weak Amour",
                                    "Generation": "Gen1",
                                    "Type1": "Rock",
                                    "Type2": "Water",
                                    "Count": "4"
                                },
                                {
                                    "Ability": "Weak Armor",
                                    "Generation": "Gen1",
                                    "Type1": "Rock",
                                    "Type2": "Ground",
                                    "Count": "1"
                                },
                                {
                                    "Ability": "Weak Armor",
                                    "Generation": "Gen2",
                                    "Type1": "Fire",
                                    "Type2": "NULL",
                                    "Count": "1"
                                },
                                {
                                    "Ability": "Weak Armor",
                                    "Generation": "Gen2",
                                    "Type1": "Fire",
                                    "Type2": "Rock",
                                    "Count": "1"
                                },
                                {
                                    "Ability": "Weak Armor",
                                    "Generation": "Gen2",
                                    "Type1": "Steel",
                                    "Type2": "Flying",
                                    "Count": "1"
                                },
                                {
                                    "Ability": "White Smoke",
                                    "Generation": "Gen3",
                                    "Type1": "Fire",
                                    "Type2": "NULL",
                                    "Count": "1"
                                },
                                {
                                    "Ability": "Wind Rider",
                                    "Generation": "Gen3",
                                    "Type1": "Grass",
                                    "Type2": "Dark",
                                    "Count": "1"
                                },
                                {
                                    "Ability": "Wonder Guard",
                                    "Generation": "Gen3",
                                    "Type1": "Bug",
                                    "Type2": "Ghost",
                                    "Count": "1"
                                },
                                {
                                    "Ability": "Wonder Skin",
                                    "Generation": "Gen1",
                                    "Type1": "Bug",
                                    "Type2": "Poison",
                                    "Count": "1"
                                },
                                {
                                    "Ability": "Wonder Skin",
                                    "Generation": "Gen3",
                                    "Type1": "Normal",
                                    "Type2": "NULL",
                                    "Count": "2"
                                }
                            ]
                        },
                        "text/html": "<table><tr><th>Ability</th><th>Generation</th><th>Type1</th><th>Type2</th><th>Count</th></tr><tr><td>Adaptability</td><td>Gen1</td><td>Normal</td><td>NULL</td><td>1</td></tr><tr><td>Adaptability</td><td>Gen3</td><td>Water</td><td>NULL</td><td>2</td></tr><tr><td>Adaptability</td><td>Gen3</td><td>Water</td><td>Dark</td><td>1</td></tr><tr><td>Aftermath</td><td>Gen1</td><td>Electric</td><td>NULL</td><td>2</td></tr><tr><td>Air Lock</td><td>Gen3</td><td>Dragon</td><td>Flying</td><td>1</td></tr><tr><td>Analytic</td><td>Gen1</td><td>Electric</td><td>Steel</td><td>2</td></tr><tr><td>Analytic</td><td>Gen1</td><td>Normal</td><td>NULL</td><td>1</td></tr><tr><td>Analytic</td><td>Gen1</td><td>Water</td><td>NULL</td><td>1</td></tr><tr><td>Analytic</td><td>Gen1</td><td>Water</td><td>Psychic</td><td>1</td></tr><tr><td>Analytic</td><td>Gen2</td><td>Normal</td><td>NULL</td><td>1</td></tr><tr><td>Anger Point</td><td>Gen1</td><td>Fighting</td><td>NULL</td><td>2</td></tr><tr><td>Anger Point</td><td>Gen1</td><td>Normal</td><td>NULL</td><td>1</td></tr><tr><td>Anger Point</td><td>Gen3</td><td>Fire</td><td>Ground</td><td>1</td></tr><tr><td>Anticipation</td><td>Gen1</td><td>Normal</td><td>NULL</td><td>1</td></tr><tr><td>Anticipation</td><td>Gen3</td><td>Water</td><td>Ground</td><td>2</td></tr><tr><td>Arena Trap</td><td>Gen1</td><td>Ground</td><td>NULL</td><td>2</td></tr><tr><td>Arena Trap</td><td>Gen3</td><td>Ground</td><td>NULL</td><td>1</td></tr><tr><td>Battle Armor</td><td>Gen1</td><td>Ground</td><td>NULL</td><td>2</td></tr><tr><td>Battle Armor</td><td>Gen1</td><td>Rock</td><td>Water</td><td>2</td></tr><tr><td>Battle Armor</td><td>Gen3</td><td>Rock</td><td>Bug</td><td>2</td></tr><tr><td>Big Pecks</td><td>Gen1</td><td>Normal</td><td>Flying</td><td>3</td></tr><tr><td>Blaze</td><td>Gen1</td><td>Fire</td><td>NULL</td><td>2</td></tr><tr><td>Blaze</td><td>Gen1</td><td>Fire</td><td>Flying</td><td>1</td></tr><tr><td>Blaze</td><td>Gen2</td><td>Fire</td><td>NULL</td><td>3</td></tr><tr><td>Blaze</td><td>Gen3</td><td>Fire</td><td>NULL</td><td>3</td></tr><tr><td>Chlorophyll</td><td>Gen1</td><td>Grass</td><td>NULL</td><td>1</td></tr><tr><td>Chlorophyll</td><td>Gen1</td><td>Grass</td><td>Poison</td><td>9</td></tr><tr><td>Chlorophyll</td><td>Gen1</td><td>Grass</td><td>Psychic</td><td>2</td></tr><tr><td>Chlorophyll</td><td>Gen2</td><td>Grass</td><td>NULL</td><td>3</td></tr><tr><td>Chlorophyll</td><td>Gen2</td><td>Grass</td><td>Flying</td><td>3</td></tr><tr><td>Chlorophyll</td><td>Gen3</td><td>Grass</td><td>NULL</td><td>1</td></tr><tr><td>Chlorophyll</td><td>Gen3</td><td>Grass</td><td>Dark</td><td>2</td></tr><tr><td>Chlorophyll</td><td>Gen3</td><td>Grass</td><td>Flying</td><td>1</td></tr><tr><td>Clear Body</td><td>Gen1</td><td>Water</td><td>Poison</td><td>2</td></tr><tr><td>Clear Body</td><td>Gen3</td><td>Ice</td><td>NULL</td><td>1</td></tr><tr><td>Clear Body</td><td>Gen3</td><td>Rock</td><td>NULL</td><td>1</td></tr><tr><td>Clear Body</td><td>Gen3</td><td>Steel</td><td>NULL</td><td>1</td></tr><tr><td>Clear Body</td><td>Gen3</td><td>Steel</td><td>Psychic</td><td>3</td></tr><tr><td>Cloud Nine</td><td>Gen1</td><td>Normal</td><td>NULL</td><td>1</td></tr><tr><td>Cloud Nine</td><td>Gen1</td><td>Water</td><td>NULL</td><td>2</td></tr><tr><td>Cloud Nine</td><td>Gen3</td><td>Dragon</td><td>Flying</td><td>1</td></tr><tr><td>Cloud Nine</td><td>Gen3</td><td>Normal</td><td>Flying</td><td>1</td></tr><tr><td>Color Change</td><td>Gen3</td><td>Normal</td><td>NULL</td><td>1</td></tr><tr><td>Competitive</td><td>Gen1</td><td>Normal</td><td>Fairy</td><td>2</td></tr><tr><td>Competitive</td><td>Gen2</td><td>Normal</td><td>Fairy</td><td>1</td></tr><tr><td>Competitive</td><td>Gen3</td><td>Water</td><td>NULL</td><td>1</td></tr><tr><td>Compoundeyes</td><td>Gen1</td><td>Bug</td><td>Flying</td><td>1</td></tr><tr><td>Compoundeyes</td><td>Gen1</td><td>Bug</td><td>Poison</td><td>1</td></tr><tr><td>Compoundeyes</td><td>Gen2</td><td>Bug</td><td>Flying</td><td>1</td></tr><tr><td>Compoundeyes</td><td>Gen3</td><td>Bug</td><td>Ground</td><td>1</td></tr><tr><td>Compoundeyes</td><td>Gen3</td><td>Bug</td><td>Poison</td><td>1</td></tr><tr><td>Contrary</td><td>Gen2</td><td>Bug</td><td>Rock</td><td>1</td></tr><tr><td>Contrary</td><td>Gen3</td><td>Normal</td><td>NULL</td><td>1</td></tr><tr><td>Cursed Body</td><td>Gen1</td><td>Ghost</td><td>Poison</td><td>1</td></tr><tr><td>Cursed Body</td><td>Gen3</td><td>Ghost</td><td>NULL</td><td>2</td></tr><tr><td>Cute Charm</td><td>Gen1</td><td>Fairy</td><td>NULL</td><td>2</td></tr><tr><td>Cute Charm</td><td>Gen1</td><td>Normal</td><td>Fairy</td><td>2</td></tr><tr><td>Cute Charm</td><td>Gen2</td><td>Fairy</td><td>NULL</td><td>1</td></tr><tr><td>Cute Charm</td><td>Gen2</td><td>Normal</td><td>Fairy</td><td>1</td></tr><tr><td>Cute Charm</td><td>Gen3</td><td>Normal</td><td>NULL</td><td>2</td></tr><tr><td>Cute Charm</td><td>Gen3</td><td>Water</td><td>NULL</td><td>1</td></tr><tr><td>Damp</td><td>Gen1</td><td>Bug</td><td>Grass</td><td>2</td></tr><tr><td>Damp</td><td>Gen1</td><td>Water</td><td>NULL</td><td>6</td></tr><tr><td>Damp</td><td>Gen1</td><td>Water</td><td>Fighting</td><td>1</td></tr><tr><td>Damp</td><td>Gen2</td><td>Water</td><td>NULL</td><td>1</td></tr><tr><td>Damp</td><td>Gen2</td><td>Water</td><td>Dragon</td><td>1</td></tr><tr><td>Damp</td><td>Gen2</td><td>Water</td><td>Ground</td><td>2</td></tr><tr><td>Damp</td><td>Gen3</td><td>Water</td><td>NULL</td><td>3</td></tr><tr><td>Defiant</td><td>Gen1</td><td>Fighting</td><td>NULL</td><td>2</td></tr><tr><td>Defiant</td><td>Gen1</td><td>Normal</td><td>Flying</td><td>1</td></tr><tr><td>Download</td><td>Gen1</td><td>Normal</td><td>NULL</td><td>1</td></tr><tr><td>Download</td><td>Gen2</td><td>Normal</td><td>NULL</td><td>1</td></tr><tr><td>Drizzle</td><td>Gen2</td><td>Water</td><td>NULL</td><td>1</td></tr><tr><td>Drizzle</td><td>Gen3</td><td>Water</td><td>NULL</td><td>1</td></tr><tr><td>Drizzle</td><td>Gen3</td><td>Water</td><td>Flying</td><td>1</td></tr><tr><td>Drought</td><td>Gen1</td><td>Fire</td><td>NULL</td><td>2</td></tr><tr><td>Drought</td><td>Gen3</td><td>Fire</td><td>NULL</td><td>1</td></tr><tr><td>Drought</td><td>Gen3</td><td>Ground</td><td>NULL</td><td>1</td></tr><tr><td>Dry Skin</td><td>Gen1</td><td>Bug</td><td>Grass</td><td>2</td></tr><tr><td>Dry Skin</td><td>Gen1</td><td>Ice</td><td>Psychic</td><td>1</td></tr><tr><td>Early Bird</td><td>Gen1</td><td>Normal</td><td>NULL</td><td>1</td></tr><tr><td>Early Bird</td><td>Gen1</td><td>Normal</td><td>Flying</td><td>2</td></tr><tr><td>Early Bird</td><td>Gen2</td><td>Bug</td><td>Flying</td><td>2</td></tr><tr><td>Early Bird</td><td>Gen2</td><td>Dark</td><td>Fire</td><td>2</td></tr><tr><td>Early Bird</td><td>Gen2</td><td>Grass</td><td>NULL</td><td>2</td></tr><tr><td>Early Bird</td><td>Gen2</td><td>Normal</td><td>Psychic</td><td>1</td></tr><tr><td>Early Bird</td><td>Gen2</td><td>Psychic</td><td>Flying</td><td>2</td></tr><tr><td>Early Bird</td><td>Gen3</td><td>Grass</td><td>NULL</td><td>1</td></tr><tr><td>Early Bird</td><td>Gen3</td><td>Grass</td><td>Dark</td><td>1</td></tr><tr><td>Effect Spore</td><td>Gen1</td><td>Bug</td><td>Grass</td><td>2</td></tr><tr><td>Effect Spore</td><td>Gen1</td><td>Grass</td><td>Poison</td><td>1</td></tr><tr><td>Effect Spore</td><td>Gen3</td><td>Grass</td><td>NULL</td><td>1</td></tr><tr><td>Effect Spore</td><td>Gen3</td><td>Grass</td><td>Fighting</td><td>1</td></tr><tr><td>Filter</td><td>Gen1</td><td>Psychic</td><td>Fairy</td><td>1</td></tr><tr><td>Flame Body</td><td>Gen1</td><td>Fire</td><td>NULL</td><td>3</td></tr><tr><td>Flame Body</td><td>Gen1</td><td>Fire</td><td>Flying</td><td>1</td></tr><tr><td>Flame Body</td><td>Gen2</td><td>Fire</td><td>NULL</td><td>2</td></tr><tr><td>Flame Body</td><td>Gen2</td><td>Fire</td><td>Rock</td><td>1</td></tr><tr><td>Flash Fire</td><td>Gen1</td><td>Fire</td><td>NULL</td><td>7</td></tr><tr><td>Flash Fire</td><td>Gen2</td><td>Dark</td><td>Fire</td><td>2</td></tr><tr><td>Flash Fire</td><td>Gen2</td><td>Fire</td><td>NULL</td><td>3</td></tr><tr><td>Forecast</td><td>Gen3</td><td>Normal</td><td>NULL</td><td>1</td></tr><tr><td>Forewarn</td><td>Gen1</td><td>Ice</td><td>Psychic</td><td>1</td></tr><tr><td>Forewarn</td><td>Gen1</td><td>Psychic</td><td>NULL</td><td>2</td></tr><tr><td>Forewarn</td><td>Gen2</td><td>Ice</td><td>Psychic</td><td>1</td></tr><tr><td>Friend Guard</td><td>Gen1</td><td>Fairy</td><td>NULL</td><td>2</td></tr><tr><td>Friend Guard</td><td>Gen1</td><td>Normal</td><td>Fairy</td><td>1</td></tr><tr><td>Friend Guard</td><td>Gen2</td><td>Fairy</td><td>NULL</td><td>1</td></tr><tr><td>Frisk</td><td>Gen1</td><td>Normal</td><td>Fairy</td><td>1</td></tr><tr><td>Frisk</td><td>Gen2</td><td>Bug</td><td>Flying</td><td>1</td></tr><tr><td>Frisk</td><td>Gen2</td><td>Normal</td><td>NULL</td><td>3</td></tr><tr><td>Frisk</td><td>Gen3</td><td>Ghost</td><td>NULL</td><td>4</td></tr><tr><td>Gluttony</td><td>Gen1</td><td>Grass</td><td>Poison</td><td>3</td></tr><tr><td>Gluttony</td><td>Gen1</td><td>Normal</td><td>NULL</td><td>1</td></tr><tr><td>Gluttony</td><td>Gen2</td><td>Bug</td><td>Rock</td><td>1</td></tr><tr><td>Gluttony</td><td>Gen3</td><td>Normal</td><td>NULL</td><td>2</td></tr><tr><td>Gluttony</td><td>Gen3</td><td>Poison</td><td>NULL</td><td>2</td></tr><tr><td>Gluttony</td><td>Gen3</td><td>Psychic</td><td>NULL</td><td>2</td></tr><tr><td>Guts</td><td>Gen1</td><td>Fighting</td><td>NULL</td><td>3</td></tr><tr><td>Guts</td><td>Gen1</td><td>Fire</td><td>NULL</td><td>1</td></tr><tr><td>Guts</td><td>Gen1</td><td>Normal</td><td>NULL</td><td>2</td></tr><tr><td>Guts</td><td>Gen2</td><td>Bug</td><td>Fighting</td><td>1</td></tr><tr><td>Guts</td><td>Gen2</td><td>Fighting</td><td>NULL</td><td>1</td></tr><tr><td>Guts</td><td>Gen2</td><td>Normal</td><td>NULL</td><td>1</td></tr><tr><td>Guts</td><td>Gen2</td><td>Rock</td><td>Ground</td><td>1</td></tr><tr><td>Guts</td><td>Gen3</td><td>Fighting</td><td>NULL</td><td>2</td></tr><tr><td>Guts</td><td>Gen3</td><td>Normal</td><td>Flying</td><td>2</td></tr><tr><td>Harvest</td><td>Gen1</td><td>Grass</td><td>Psychic</td><td>2</td></tr><tr><td>Harvest</td><td>Gen3</td><td>Grass</td><td>Flying</td><td>1</td></tr><tr><td>Healer</td><td>Gen1</td><td>Normal</td><td>NULL</td><td>1</td></tr><tr><td>Healer</td><td>Gen2</td><td>Grass</td><td>NULL</td><td>1</td></tr><tr><td>Healer</td><td>Gen2</td><td>Normal</td><td>NULL</td><td>1</td></tr><tr><td>Heavy Metal</td><td>Gen3</td><td>Steel</td><td>Rock</td><td>3</td></tr><tr><td>Honey Gather</td><td>Gen2</td><td>Normal</td><td>NULL</td><td>1</td></tr><tr><td>Huge Power</td><td>Gen2</td><td>Water</td><td>Fairy</td><td>2</td></tr><tr><td>Huge Power</td><td>Gen3</td><td>Normal</td><td>Fairy</td><td>1</td></tr><tr><td>Hustle</td><td>Gen1</td><td>Normal</td><td>NULL</td><td>2</td></tr><tr><td>Hustle</td><td>Gen1</td><td>Poison</td><td>NULL</td><td>4</td></tr><tr><td>Hustle</td><td>Gen2</td><td>Fairy</td><td>NULL</td><td>1</td></tr><tr><td>Hustle</td><td>Gen2</td><td>Fairy</td><td>Flying</td><td>1</td></tr><tr><td>Hustle</td><td>Gen2</td><td>Ice</td><td>Flying</td><td>1</td></tr><tr><td>Hustle</td><td>Gen2</td><td>Water</td><td>NULL</td><td>1</td></tr><tr><td>Hustle</td><td>Gen2</td><td>Water</td><td>Rock</td><td>1</td></tr><tr><td>Hydration</td><td>Gen1</td><td>Water</td><td>NULL</td><td>2</td></tr><tr><td>Hydration</td><td>Gen1</td><td>Water</td><td>Ice</td><td>2</td></tr><tr><td>Hydration</td><td>Gen2</td><td>Ice</td><td>Psychic</td><td>1</td></tr><tr><td>Hydration</td><td>Gen3</td><td>Water</td><td>NULL</td><td>2</td></tr><tr><td>Hydration</td><td>Gen3</td><td>Water</td><td>Flying</td><td>1</td></tr><tr><td>Hydration</td><td>Gen3</td><td>Water</td><td>Ground</td><td>2</td></tr><tr><td>Hyper Cutter</td><td>Gen1</td><td>Bug</td><td>NULL</td><td>1</td></tr><tr><td>Hyper Cutter</td><td>Gen1</td><td>Water</td><td>NULL</td><td>2</td></tr><tr><td>Hyper Cutter</td><td>Gen2</td><td>Ground</td><td>Flying</td><td>1</td></tr><tr><td>Hyper Cutter</td><td>Gen3</td><td>Ground</td><td>NULL</td><td>1</td></tr><tr><td>Hyper Cutter</td><td>Gen3</td><td>Steel</td><td>Fairy</td><td>1</td></tr><tr><td>Hyper Cutter</td><td>Gen3</td><td>Water</td><td>NULL</td><td>1</td></tr><tr><td>Hyper Cutter</td><td>Gen3</td><td>Water</td><td>Dark</td><td>1</td></tr><tr><td>Ice Body</td><td>Gen1</td><td>Water</td><td>NULL</td><td>1</td></tr><tr><td>Ice Body</td><td>Gen1</td><td>Water</td><td>Ice</td><td>1</td></tr><tr><td>Ice Body</td><td>Gen3</td><td>Ice</td><td>NULL</td><td>3</td></tr><tr><td>Ice Body</td><td>Gen3</td><td>Ice</td><td>Water</td><td>3</td></tr><tr><td>Illuminate</td><td>Gen1</td><td>Water</td><td>NULL</td><td>1</td></tr><tr><td>Illuminate</td><td>Gen1</td><td>Water</td><td>Psychic</td><td>1</td></tr><tr><td>Illuminate</td><td>Gen2</td><td>Water</td><td>Electric</td><td>2</td></tr><tr><td>Illuminate</td><td>Gen3</td><td>Bug</td><td>NULL</td><td>1</td></tr><tr><td>Immunity</td><td>Gen1</td><td>Normal</td><td>NULL</td><td>1</td></tr><tr><td>Immunity</td><td>Gen2</td><td>Ground</td><td>Flying</td><td>1</td></tr><tr><td>Immunity</td><td>Gen3</td><td>Normal</td><td>NULL</td><td>1</td></tr><tr><td>Imposter</td><td>Gen1</td><td>Normal</td><td>NULL</td><td>1</td></tr><tr><td>Infiltrator</td><td>Gen1</td><td>Poison</td><td>Flying</td><td>2</td></tr><tr><td>Infiltrator</td><td>Gen2</td><td>Grass</td><td>Flying</td><td>3</td></tr><tr><td>Infiltrator</td><td>Gen2</td><td>Poison</td><td>Flying</td><td>1</td></tr><tr><td>Infiltrator</td><td>Gen3</td><td>Bug</td><td>Flying</td><td>1</td></tr><tr><td>Infiltrator</td><td>Gen3</td><td>Poison</td><td>NULL</td><td>1</td></tr><tr><td>Inner Focus</td><td>Gen1</td><td>Dragon</td><td>Flying</td><td>1</td></tr><tr><td>Inner Focus</td><td>Gen1</td><td>Fight</td><td>NULL</td><td>1</td></tr><tr><td>Inner Focus</td><td>Gen1</td><td>Normal</td><td>NULL</td><td>1</td></tr><tr><td>Inner Focus</td><td>Gen1</td><td>Normal</td><td>Flying</td><td>1</td></tr><tr><td>Inner Focus</td><td>Gen1</td><td>Poison</td><td>Flying</td><td>2</td></tr><tr><td>Inner Focus</td><td>Gen1</td><td>Psychic</td><td>NULL</td><td>5</td></tr><tr><td>Inner Focus</td><td>Gen2</td><td>Dark</td><td>NULL</td><td>1</td></tr><tr><td>Inner Focus</td><td>Gen2</td><td>Dark</td><td>Ice</td><td>1</td></tr><tr><td>Inner Focus</td><td>Gen2</td><td>Electric</td><td>NULL</td><td>1</td></tr><tr><td>Inner Focus</td><td>Gen2</td><td>Fire</td><td>NULL</td><td>1</td></tr><tr><td>Inner Focus</td><td>Gen2</td><td>Normal</td><td>Psychic</td><td>1</td></tr><tr><td>Inner Focus</td><td>Gen2</td><td>Poison</td><td>Flying</td><td>1</td></tr><tr><td>Inner Focus</td><td>Gen2</td><td>Water</td><td>NULL</td><td>1</td></tr><tr><td>Inner Focus</td><td>Gen3</td><td>Ice</td><td>NULL</td><td>2</td></tr><tr><td>Insomnia</td><td>Gen1</td><td>Psychic</td><td>NULL</td><td>2</td></tr><tr><td>Insomnia</td><td>Gen2</td><td>Bug</td><td>Poison</td><td>2</td></tr><tr><td>Insomnia</td><td>Gen2</td><td>Dark</td><td>Flying</td><td>1</td></tr><tr><td>Insomnia</td><td>Gen2</td><td>Ice</td><td>Flying</td><td>1</td></tr><tr><td>Insomnia</td><td>Gen2</td><td>Normal</td><td>Flying</td><td>2</td></tr><tr><td>Insomnia</td><td>Gen3</td><td>Ghost</td><td>NULL</td><td>2</td></tr><tr><td>Intimidate</td><td>Gen1</td><td>Fire</td><td>NULL</td><td>2</td></tr><tr><td>Intimidate</td><td>Gen1</td><td>Normal</td><td>NULL</td><td>1</td></tr><tr><td>Intimidate</td><td>Gen1</td><td>Poison</td><td>NULL</td><td>2</td></tr><tr><td>Intimidate</td><td>Gen1</td><td>Water</td><td>Flying</td><td>1</td></tr><tr><td>Intimidate</td><td>Gen2</td><td>Fairy</td><td>NULL</td><td>2</td></tr><tr><td>Intimidate</td><td>Gen2</td><td>Fighting</td><td>NULL</td><td>1</td></tr><tr><td>Intimidate</td><td>Gen2</td><td>Normal</td><td>NULL</td><td>1</td></tr><tr><td>Intimidate</td><td>Gen2</td><td>Water</td><td>Poison</td><td>1</td></tr><tr><td>Intimidate</td><td>Gen3</td><td>Bug</td><td>Flying</td><td>1</td></tr><tr><td>Intimidate</td><td>Gen3</td><td>Dark</td><td>NULL</td><td>1</td></tr><tr><td>Intimidate</td><td>Gen3</td><td>Dragon</td><td>Flying</td><td>1</td></tr><tr><td>Intimidate</td><td>Gen3</td><td>Steel</td><td>Fairy</td><td>1</td></tr><tr><td>Iron Fist</td><td>Gen1</td><td>Fight</td><td>NULL</td><td>1</td></tr><tr><td>Iron Fist</td><td>Gen2</td><td>Bug</td><td>Flying</td><td>1</td></tr><tr><td>Justified</td><td>Gen1</td><td>Fire</td><td>NULL</td><td>2</td></tr><tr><td>Justified</td><td>Gen3</td><td>Dark</td><td>NULL</td><td>1</td></tr><tr><td>Keen Eye</td><td>Gen1</td><td>Fight</td><td>NULL</td><td>1</td></tr><tr><td>Keen Eye</td><td>Gen1</td><td>Normal</td><td>Flying</td><td>6</td></tr><tr><td>Keen Eye</td><td>Gen2</td><td>Dark</td><td>Ice</td><td>1</td></tr><tr><td>Keen Eye</td><td>Gen2</td><td>Normal</td><td>NULL</td><td>2</td></tr><tr><td>Keen Eye</td><td>Gen2</td><td>Normal</td><td>Flying</td><td>2</td></tr><tr><td>Keen Eye</td><td>Gen2</td><td>Steel</td><td>Flying</td><td>1</td></tr><tr><td>Keen Eye</td><td>Gen3</td><td>Dark</td><td>Ghost</td><td>1</td></tr><tr><td>Keen Eye</td><td>Gen3</td><td>Water</td><td>Flying</td><td>2</td></tr><tr><td>Leaf Guard</td><td>Gen1</td><td>Grass</td><td>NULL</td><td>1</td></tr><tr><td>Leaf Guard</td><td>Gen2</td><td>Grass</td><td>NULL</td><td>3</td></tr><tr><td>Leaf Guard</td><td>Gen2</td><td>Grass</td><td>Flying</td><td>3</td></tr><tr><td>Leaf Guard</td><td>Gen3</td><td>Grass</td><td>Poison</td><td>1</td></tr><tr><td>Levitate</td><td>Gen1</td><td>Ghost</td><td>Poison</td><td>2</td></tr><tr><td>Levitate</td><td>Gen1</td><td>Poison</td><td>NULL</td><td>2</td></tr><tr><td>Levitate</td><td>Gen2</td><td>Ghost</td><td>NULL</td><td>1</td></tr><tr><td>Levitate</td><td>Gen2</td><td>Psychic</td><td>NULL</td><td>1</td></tr><tr><td>Levitate</td><td>Gen3</td><td>Dragon</td><td>Psychic</td><td>2</td></tr><tr><td>Levitate</td><td>Gen3</td><td>Ghost</td><td>NULL</td><td>1</td></tr><tr><td>Levitate</td><td>Gen3</td><td>Ground</td><td>Dragon</td><td>2</td></tr><tr><td>Levitate</td><td>Gen3</td><td>Ground</td><td>Psychic</td><td>2</td></tr><tr><td>Levitate</td><td>Gen3</td><td>Psychic</td><td>NULL</td><td>1</td></tr><tr><td>Levitate</td><td>Gen3</td><td>Rock</td><td>Psychic</td><td>2</td></tr><tr><td>Light Metal</td><td>Gen2</td><td>Bug</td><td>Steel</td><td>1</td></tr><tr><td>Light Metal</td><td>Gen3</td><td>Steel</td><td>NULL</td><td>1</td></tr><tr><td>Light Metal</td><td>Gen3</td><td>Steel</td><td>Psychic</td><td>3</td></tr><tr><td>Lighting Rod</td><td>Gen1</td><td>Electric</td><td>NULL</td><td>2</td></tr><tr><td>Lighting Rod</td><td>Gen1</td><td>Water</td><td>NULL</td><td>2</td></tr><tr><td>Lightning Rod</td><td>Gen1</td><td>Ground</td><td>NULL</td><td>2</td></tr><tr><td>Lightning Rod</td><td>Gen1</td><td>Ground</td><td>Rock</td><td>2</td></tr><tr><td>Lightning Rod</td><td>Gen2</td><td>Electric</td><td>NULL</td><td>1</td></tr><tr><td>Lightning Rod</td><td>Gen3</td><td>Electric</td><td>NULL</td><td>3</td></tr><tr><td>Limber</td><td>Gen1</td><td>Fight</td><td>NULL</td><td>1</td></tr><tr><td>Limber</td><td>Gen1</td><td>Normal</td><td>NULL</td><td>2</td></tr><tr><td>Liquid Ooze</td><td>Gen1</td><td>Water</td><td>Poison</td><td>2</td></tr><tr><td>Liquid Ooze</td><td>Gen3</td><td>Poison</td><td>NULL</td><td>2</td></tr><tr><td>Magic Bounce</td><td>Gen2</td><td>Psychic</td><td>NULL</td><td>1</td></tr><tr><td>Magic Bounce</td><td>Gen2</td><td>Psychic</td><td>Flying</td><td>2</td></tr><tr><td>Magic Guard</td><td>Gen1</td><td>Fairy</td><td>NULL</td><td>2</td></tr><tr><td>Magic Guard</td><td>Gen1</td><td>Psychic</td><td>NULL</td><td>3</td></tr><tr><td>Magic Guard</td><td>Gen2</td><td>Fairy</td><td>NULL</td><td>1</td></tr><tr><td>Magma Armor</td><td>Gen2</td><td>Fire</td><td>NULL</td><td>1</td></tr><tr><td>Magma Armor</td><td>Gen2</td><td>Fire</td><td>Rock</td><td>1</td></tr><tr><td>Magma Armor</td><td>Gen3</td><td>Fire</td><td>Ground</td><td>1</td></tr><tr><td>Magnet Pull</td><td>Gen1</td><td>Electric</td><td>Steel</td><td>2</td></tr><tr><td>Magnet Pull</td><td>Gen3</td><td>Rock</td><td>NULL</td><td>1</td></tr><tr><td>Marvel Scale</td><td>Gen1</td><td>Dragon</td><td>NULL</td><td>2</td></tr><tr><td>Marvel Scale</td><td>Gen3</td><td>Water</td><td>NULL</td><td>1</td></tr><tr><td>Minus</td><td>Gen3</td><td>Electric</td><td>NULL</td><td>3</td></tr><tr><td>Mold Breaker</td><td>Gen1</td><td>Bug</td><td>NULL</td><td>1</td></tr><tr><td>Moody</td><td>Gen2</td><td>Normal</td><td>NULL</td><td>1</td></tr><tr><td>Moody</td><td>Gen2</td><td>Water</td><td>NULL</td><td>2</td></tr><tr><td>Moody</td><td>Gen3</td><td>Ice</td><td>NULL</td><td>2</td></tr><tr><td>Moxie</td><td>Gen1</td><td>Bug</td><td>NULL</td><td>1</td></tr><tr><td>Moxie</td><td>Gen1</td><td>Water</td><td>Flying</td><td>1</td></tr><tr><td>Moxie</td><td>Gen2</td><td>Bug</td><td>Fighting</td><td>1</td></tr><tr><td>Moxie</td><td>Gen3</td><td>Dark</td><td>NULL</td><td>1</td></tr><tr><td>Moxie</td><td>Gen3</td><td>Dragon</td><td>Flying</td><td>1</td></tr><tr><td>Multiscale</td><td>Gen1</td><td>Dragon</td><td>Flying</td><td>1</td></tr><tr><td>Multiscale</td><td>Gen2</td><td>Psychic</td><td>Flying</td><td>1</td></tr><tr><td>Natural Cure</td><td>Gen1</td><td>Normal</td><td>NULL</td><td>1</td></tr><tr><td>Natural Cure</td><td>Gen1</td><td>Water</td><td>NULL</td><td>1</td></tr><tr><td>Natural Cure</td><td>Gen1</td><td>Water</td><td>Psychic</td><td>1</td></tr><tr><td>Natural Cure</td><td>Gen2</td><td>Normal</td><td>NULL</td><td>1</td></tr><tr><td>Natural Cure</td><td>Gen2</td><td>Psychic</td><td>Grass</td><td>1</td></tr><tr><td>Natural Cure</td><td>Gen2</td><td>Water</td><td>Rock</td><td>1</td></tr><tr><td>Natural Cure</td><td>Gen3</td><td>Dragon</td><td>Flying</td><td>1</td></tr><tr><td>Natural Cure</td><td>Gen3</td><td>Grass</td><td>Poison</td><td>1</td></tr><tr><td>Natural Cure</td><td>Gen3</td><td>Normal</td><td>Flying</td><td>1</td></tr><tr><td>Neutralizing Gas</td><td>Gen1</td><td>Poison</td><td>NULL</td><td>2</td></tr><tr><td>No Guard</td><td>Gen1</td><td>Fighting</td><td>NULL</td><td>3</td></tr><tr><td>Normalize</td><td>Gen3</td><td>Normal</td><td>NULL</td><td>2</td></tr><tr><td>Oblivious</td><td>Gen1</td><td>Ice</td><td>Psychic</td><td>1</td></tr><tr><td>Oblivious</td><td>Gen1</td><td>Normal</td><td>NULL</td><td>1</td></tr><tr><td>Oblivious</td><td>Gen1</td><td>Water</td><td>Psychic</td><td>2</td></tr><tr><td>Oblivious</td><td>Gen2</td><td>Ice</td><td>Ground</td><td>2</td></tr><tr><td>Oblivious</td><td>Gen2</td><td>Ice</td><td>Psychic</td><td>1</td></tr><tr><td>Oblivious</td><td>Gen2</td><td>Water</td><td>Psychic</td><td>1</td></tr><tr><td>Oblivious</td><td>Gen3</td><td>Bug</td><td>NULL</td><td>1</td></tr><tr><td>Oblivious</td><td>Gen3</td><td>Fire</td><td>Ground</td><td>1</td></tr><tr><td>Oblivious</td><td>Gen3</td><td>Ice</td><td>Water</td><td>3</td></tr><tr><td>Oblivious</td><td>Gen3</td><td>Water</td><td>NULL</td><td>3</td></tr><tr><td>Oblivious</td><td>Gen3</td><td>Water</td><td>Ground</td><td>2</td></tr><tr><td>Overcoat</td><td>Gen1</td><td>Water</td><td>NULL</td><td>1</td></tr><tr><td>Overcoat</td><td>Gen1</td><td>Water</td><td>Ice</td><td>1</td></tr><tr><td>Overcoat</td><td>Gen2</td><td>Bug</td><td>NULL</td><td>1</td></tr><tr><td>Overcoat</td><td>Gen2</td><td>Bug</td><td>Steel</td><td>1</td></tr><tr><td>Overcoat</td><td>Gen3</td><td>Dragon</td><td>NULL</td><td>1</td></tr><tr><td>Overgrow</td><td>Gen1</td><td>Grass</td><td>Poison</td><td>3</td></tr><tr><td>Overgrow</td><td>Gen2</td><td>Grass</td><td>NULL</td><td>3</td></tr><tr><td>Overgrow</td><td>Gen3</td><td>Grass</td><td>NULL</td><td>3</td></tr><tr><td>Own Tempo</td><td>Gen1</td><td>Normal</td><td>NULL</td><td>1</td></tr><tr><td>Own Tempo</td><td>Gen1</td><td>Water</td><td>Psychic</td><td>2</td></tr><tr><td>Own Tempo</td><td>Gen2</td><td>Normal</td><td>NULL</td><td>1</td></tr><tr><td>Own Tempo</td><td>Gen2</td><td>Water</td><td>Psychic</td><td>1</td></tr><tr><td>Own Tempo</td><td>Gen3</td><td>Fire</td><td>Ground</td><td>1</td></tr><tr><td>Own Tempo</td><td>Gen3</td><td>Normal</td><td>NULL</td><td>1</td></tr><tr><td>Own Tempo</td><td>Gen3</td><td>Psychic</td><td>NULL</td><td>2</td></tr><tr><td>Own Tempo</td><td>Gen3</td><td>Water</td><td>Grass</td><td>3</td></tr><tr><td>Pickpocket</td><td>Gen2</td><td>Dark</td><td>Ice</td><td>1</td></tr><tr><td>Pickpocket</td><td>Gen3</td><td>Grass</td><td>NULL</td><td>1</td></tr><tr><td>Pickpocket</td><td>Gen3</td><td>Grass</td><td>Dark</td><td>2</td></tr><tr><td>Pickup</td><td>Gen1</td><td>Normal</td><td>NULL</td><td>1</td></tr><tr><td>Pickup</td><td>Gen2</td><td>Ground</td><td>NULL</td><td>1</td></tr><tr><td>Pickup</td><td>Gen2</td><td>Normal</td><td>NULL</td><td>2</td></tr><tr><td>Pickup</td><td>Gen3</td><td>Normal</td><td>NULL</td><td>2</td></tr><tr><td>Plus</td><td>Gen2</td><td>Electric</td><td>NULL</td><td>3</td></tr><tr><td>Plus</td><td>Gen3</td><td>Electric</td><td>NULL</td><td>1</td></tr><tr><td>Poison Heal</td><td>Gen3</td><td>Grass</td><td>NULL</td><td>1</td></tr><tr><td>Poison Heal</td><td>Gen3</td><td>Grass</td><td>Fighting</td><td>1</td></tr><tr><td>Poison Point</td><td>Gen1</td><td>Poison</td><td>NULL</td><td>4</td></tr><tr><td>Poison Point</td><td>Gen1</td><td>Poison</td><td>Ground</td><td>1</td></tr><tr><td>Poison Point</td><td>Gen1</td><td>Water</td><td>NULL</td><td>1</td></tr><tr><td>Poison Point</td><td>Gen2</td><td>Water</td><td>Poison</td><td>1</td></tr><tr><td>Poison Point</td><td>Gen3</td><td>Grass</td><td>Poison</td><td>1</td></tr><tr><td>Poison Touch</td><td>Gen1</td><td>Poison</td><td>NULL</td><td>2</td></tr><tr><td>Prankster</td><td>Gen2</td><td>Dark</td><td>Flying</td><td>1</td></tr><tr><td>Prankster</td><td>Gen3</td><td>Bug</td><td>NULL</td><td>2</td></tr><tr><td>Prankster</td><td>Gen3</td><td>Dark</td><td>Ghost</td><td>1</td></tr><tr><td>Pressure</td><td>Gen1</td><td>Electric</td><td>Flying</td><td>1</td></tr><tr><td>Pressure</td><td>Gen1</td><td>Fire</td><td>Flying</td><td>1</td></tr><tr><td>Pressure</td><td>Gen1</td><td>Ice</td><td>Flying</td><td>1</td></tr><tr><td>Pressure</td><td>Gen1</td><td>Psychic</td><td>NULL</td><td>1</td></tr><tr><td>Pressure</td><td>Gen1</td><td>Rock</td><td>Flying</td><td>1</td></tr><tr><td>Pressure</td><td>Gen2</td><td>Electric</td><td>NULL</td><td>1</td></tr><tr><td>Pressure</td><td>Gen2</td><td>Fire</td><td>NULL</td><td>1</td></tr><tr><td>Pressure</td><td>Gen2</td><td>Fire</td><td>Flying</td><td>1</td></tr><tr><td>Pressure</td><td>Gen2</td><td>Psychic</td><td>Flying</td><td>1</td></tr><tr><td>Pressure</td><td>Gen2</td><td>Water</td><td>NULL</td><td>1</td></tr><tr><td>Pressure</td><td>Gen3</td><td>Dark</td><td>NULL</td><td>1</td></tr><tr><td>Pressure</td><td>Gen3</td><td>Ghost</td><td>NULL</td><td>1</td></tr><tr><td>Pressure</td><td>Gen3</td><td>Psychic</td><td>NULL</td><td>1</td></tr><tr><td>Pressure</td><td>Gen3</td><td>Water</td><td>NULL</td><td>2</td></tr><tr><td>Protean</td><td>Gen3</td><td>Normal</td><td>NULL</td><td>1</td></tr><tr><td>Pure Power</td><td>Gen3</td><td>Fighting</td><td>Psychic</td><td>2</td></tr><tr><td>Quick Feet</td><td>Gen1</td><td>Electric</td><td>NULL</td><td>1</td></tr><tr><td>Quick Feet</td><td>Gen2</td><td>Fairy</td><td>NULL</td><td>1</td></tr><tr><td>Quick Feet</td><td>Gen2</td><td>Normal</td><td>NULL</td><td>2</td></tr><tr><td>Quick Feet</td><td>Gen3</td><td>Dark</td><td>NULL</td><td>2</td></tr><tr><td>Quick Feet</td><td>Gen3</td><td>Grass</td><td>NULL</td><td>1</td></tr><tr><td>Quick Feet</td><td>Gen3</td><td>Normal</td><td>NULL</td><td>2</td></tr><tr><td>Rain Dish</td><td>Gen1</td><td>Water</td><td>NULL</td><td>3</td></tr><tr><td>Rain Dish</td><td>Gen1</td><td>Water</td><td>Poison</td><td>2</td></tr><tr><td>Rain Dish</td><td>Gen3</td><td>Bug</td><td>Water</td><td>1</td></tr><tr><td>Rain Dish</td><td>Gen3</td><td>Water</td><td>Flying</td><td>2</td></tr><tr><td>Rain Dish</td><td>Gen3</td><td>Water</td><td>Grass</td><td>3</td></tr><tr><td>Rattled</td><td>Gen1</td><td>Water</td><td>NULL</td><td>1</td></tr><tr><td>Rattled</td><td>Gen2</td><td>Bug</td><td>Flying</td><td>1</td></tr><tr><td>Rattled</td><td>Gen2</td><td>Fairy</td><td>NULL</td><td>2</td></tr><tr><td>Rattled</td><td>Gen2</td><td>Normal</td><td>NULL</td><td>1</td></tr><tr><td>Rattled</td><td>Gen2</td><td>Rock</td><td>NULL</td><td>1</td></tr><tr><td>Rattled</td><td>Gen3</td><td>Dark</td><td>NULL</td><td>1</td></tr><tr><td>Rattled</td><td>Gen3</td><td>Normal</td><td>NULL</td><td>1</td></tr><tr><td>Rattled</td><td>Gen3</td><td>Water</td><td>NULL</td><td>1</td></tr><tr><td>Reckless</td><td>Gen1</td><td>Fight</td><td>NULL</td><td>1</td></tr><tr><td>Reckless</td><td>Gen1</td><td>Ground</td><td>Rock</td><td>2</td></tr><tr><td>Regenerator</td><td>Gen1</td><td>Grass</td><td>NULL</td><td>1</td></tr><tr><td>Regenerator</td><td>Gen1</td><td>Water</td><td>Psychic</td><td>2</td></tr><tr><td>Regenerator</td><td>Gen2</td><td>Fire</td><td>Flying</td><td>1</td></tr><tr><td>Regenerator</td><td>Gen2</td><td>Water</td><td>Psychic</td><td>1</td></tr><tr><td>Regenerator</td><td>Gen2</td><td>Water</td><td>Rock</td><td>1</td></tr><tr><td>Rivalry</td><td>Gen1</td><td>Ground</td><td>Poison Point</td><td>2</td></tr><tr><td>Rivalry</td><td>Gen1</td><td>Poison</td><td>NULL</td><td>4</td></tr><tr><td>Rivalry</td><td>Gen1</td><td>Poison</td><td>Ground</td><td>1</td></tr><tr><td>Rivalry</td><td>Gen3</td><td>Bug</td><td>Flying</td><td>1</td></tr><tr><td>Rock Head</td><td>Gen1</td><td>Ground</td><td>NULL</td><td>2</td></tr><tr><td>Rock Head</td><td>Gen1</td><td>Ground</td><td>Rock</td><td>2</td></tr><tr><td>Rock Head</td><td>Gen1</td><td>Rock</td><td>Flying</td><td>1</td></tr><tr><td>Rock Head</td><td>Gen1</td><td>Rock</td><td>Ground</td><td>4</td></tr><tr><td>Rock Head</td><td>Gen2</td><td>Rock</td><td>NULL</td><td>1</td></tr><tr><td>Rock Head</td><td>Gen2</td><td>Steel</td><td>Ground</td><td>1</td></tr><tr><td>Rock Head</td><td>Gen3</td><td>Dragon</td><td>NULL</td><td>2</td></tr><tr><td>Rock Head</td><td>Gen3</td><td>Steel</td><td>Rock</td><td>3</td></tr><tr><td>Rock Head</td><td>Gen3</td><td>Water</td><td>Rock</td><td>1</td></tr><tr><td>Rough Skin</td><td>Gen3</td><td>Water</td><td>Dark</td><td>2</td></tr><tr><td>Run Away</td><td>Gen1</td><td>Bug</td><td>NULL</td><td>1</td></tr><tr><td>Run Away</td><td>Gen1</td><td>Bug</td><td>Poison</td><td>2</td></tr><tr><td>Run Away</td><td>Gen1</td><td>Fire</td><td>NULL</td><td>2</td></tr><tr><td>Run Away</td><td>Gen1</td><td>Grass</td><td>Poison</td><td>1</td></tr><tr><td>Run Away</td><td>Gen1</td><td>Normal</td><td>NULL</td><td>3</td></tr><tr><td>Run Away</td><td>Gen1</td><td>Normal</td><td>Flying</td><td>2</td></tr><tr><td>Run Away</td><td>Gen2</td><td>Fairy</td><td>NULL</td><td>1</td></tr><tr><td>Run Away</td><td>Gen2</td><td>Normal</td><td>NULL</td><td>4</td></tr><tr><td>Run Away</td><td>Gen3</td><td>Bug</td><td>NULL</td><td>1</td></tr><tr><td>Run Away</td><td>Gen3</td><td>Bug</td><td>Ground</td><td>1</td></tr><tr><td>Run Away</td><td>Gen3</td><td>Dark</td><td>NULL</td><td>1</td></tr><tr><td>Sand Force</td><td>Gen1</td><td>Ground</td><td>NULL</td><td>2</td></tr><tr><td>Sand Force</td><td>Gen3</td><td>Rock</td><td>NULL</td><td>1</td></tr><tr><td>Sand Rush</td><td>Gen1</td><td>Ground</td><td>NULL</td><td>2</td></tr><tr><td>Sand Stream</td><td>Gen2</td><td>Rock</td><td>Dark</td><td>1</td></tr><tr><td>Sand Veil</td><td>Gen1</td><td>Ground</td><td>NULL</td><td>4</td></tr><tr><td>Sand Veil</td><td>Gen1</td><td>Rock</td><td>Ground</td><td>3</td></tr><tr><td>Sand Veil</td><td>Gen2</td><td>Ground</td><td>NULL</td><td>2</td></tr><tr><td>Sand Veil</td><td>Gen2</td><td>Ground</td><td>Flying</td><td>1</td></tr><tr><td>Sand Veil</td><td>Gen2</td><td>Rock</td><td>Ground</td><td>1</td></tr><tr><td>Sand Veil</td><td>Gen3</td><td>Grass</td><td>NULL</td><td>1</td></tr><tr><td>Sand Veil</td><td>Gen3</td><td>Grass</td><td>Dark</td><td>1</td></tr><tr><td>Sap Sipper</td><td>Gen2</td><td>Normal</td><td>NULL</td><td>2</td></tr><tr><td>Sap Sipper</td><td>Gen2</td><td>Normal</td><td>Psychic</td><td>1</td></tr><tr><td>Sap Sipper</td><td>Gen2</td><td>Water</td><td>Fairy</td><td>2</td></tr><tr><td>Sap Sipper</td><td>Gen3</td><td>Normal</td><td>Fairy</td><td>1</td></tr><tr><td>Scrappy</td><td>Gen1</td><td>Normal</td><td>NULL</td><td>1</td></tr><tr><td>Scrappy</td><td>Gen2</td><td>Normal</td><td>NULL</td><td>1</td></tr><tr><td>Scrappy</td><td>Gen3</td><td>Normal</td><td>NULL</td><td>2</td></tr><tr><td>Scrappy</td><td>Gen3</td><td>Normal</td><td>Flying</td><td>2</td></tr><tr><td>Serene Grace</td><td>Gen1</td><td>Normal</td><td>NULL</td><td>1</td></tr><tr><td>Serene Grace</td><td>Gen2</td><td>Fairy</td><td>NULL</td><td>1</td></tr><tr><td>Serene Grace</td><td>Gen2</td><td>Fairy</td><td>Flying</td><td>1</td></tr><tr><td>Serene Grace</td><td>Gen2</td><td>Normal</td><td>NULL</td><td>2</td></tr><tr><td>Serene Grace</td><td>Gen3</td><td>Steel</td><td>Psychic</td><td>1</td></tr><tr><td>Shadow Tag</td><td>Gen2</td><td>Psychic</td><td>NULL</td><td>1</td></tr><tr><td>Shadow Tag</td><td>Gen3</td><td>Psychic</td><td>NULL</td><td>1</td></tr><tr><td>Shed Skin</td><td>Gen1</td><td>Bug</td><td>NULL</td><td>1</td></tr><tr><td>Shed Skin</td><td>Gen1</td><td>Bug</td><td>Poison</td><td>1</td></tr><tr><td>Shed Skin</td><td>Gen1</td><td>Dragon</td><td>NULL</td><td>2</td></tr><tr><td>Shed Skin</td><td>Gen1</td><td>Poison</td><td>NULL</td><td>2</td></tr><tr><td>Shed Skin</td><td>Gen2</td><td>Rock</td><td>Ground</td><td>1</td></tr><tr><td>Shed Skin</td><td>Gen3</td><td>Bug</td><td>NULL</td><td>2</td></tr><tr><td>Shed Skin</td><td>Gen3</td><td>Poison</td><td>NULL</td><td>1</td></tr><tr><td>Sheer Force</td><td>Gen1</td><td>Ground</td><td>Poison Point</td><td>1</td></tr><tr><td>Sheer Force</td><td>Gen1</td><td>Normal</td><td>NULL</td><td>1</td></tr><tr><td>Sheer Force</td><td>Gen1</td><td>Poison</td><td>Ground</td><td>1</td></tr><tr><td>Sheer Force</td><td>Gen1</td><td>Water</td><td>NULL</td><td>2</td></tr><tr><td>Sheer Force</td><td>Gen2</td><td>Steel</td><td>Ground</td><td>1</td></tr><tr><td>Sheer Force</td><td>Gen2</td><td>Water</td><td>NULL</td><td>3</td></tr><tr><td>Sheer Force</td><td>Gen3</td><td>Dragon</td><td>NULL</td><td>1</td></tr><tr><td>Sheer Force</td><td>Gen3</td><td>Fighting</td><td>NULL</td><td>2</td></tr><tr><td>Sheer Force</td><td>Gen3</td><td>Ground</td><td>NULL</td><td>1</td></tr><tr><td>Sheer Force</td><td>Gen3</td><td>Steel</td><td>Fairy</td><td>1</td></tr><tr><td>Shell Armor</td><td>Gen1</td><td>Rock</td><td>Water</td><td>2</td></tr><tr><td>Shell Armor</td><td>Gen1</td><td>Water</td><td>NULL</td><td>3</td></tr><tr><td>Shell Armor</td><td>Gen1</td><td>Water</td><td>Ice</td><td>2</td></tr><tr><td>Shell Armor</td><td>Gen3</td><td>Fire</td><td>NULL</td><td>1</td></tr><tr><td>Shell Armor</td><td>Gen3</td><td>Water</td><td>NULL</td><td>2</td></tr><tr><td>Shell Armor</td><td>Gen3</td><td>Water</td><td>Dark</td><td>1</td></tr><tr><td>Shield Dust</td><td>Gen1</td><td>Bug</td><td>NULL</td><td>1</td></tr><tr><td>Shield Dust</td><td>Gen1</td><td>Bug</td><td>Poison</td><td>2</td></tr><tr><td>Shield Dust</td><td>Gen3</td><td>Bug</td><td>NULL</td><td>1</td></tr><tr><td>Shield Dust</td><td>Gen3</td><td>Bug</td><td>Poison</td><td>1</td></tr><tr><td>Simple</td><td>Gen3</td><td>Fire</td><td>Ground</td><td>1</td></tr><tr><td>Skill Link</td><td>Gen1</td><td>Water</td><td>NULL</td><td>1</td></tr><tr><td>Skill Link</td><td>Gen1</td><td>Water</td><td>Ice</td><td>1</td></tr><tr><td>Skill Link</td><td>Gen2</td><td>Normal</td><td>NULL</td><td>1</td></tr><tr><td>Sniper</td><td>Gen1</td><td>Bug</td><td>Poison</td><td>1</td></tr><tr><td>Sniper</td><td>Gen1</td><td>Normal</td><td>Flying</td><td>2</td></tr><tr><td>Sniper</td><td>Gen1</td><td>Water</td><td>NULL</td><td>2</td></tr><tr><td>Sniper</td><td>Gen2</td><td>Bug</td><td>Poison</td><td>2</td></tr><tr><td>Sniper</td><td>Gen2</td><td>Water</td><td>NULL</td><td>2</td></tr><tr><td>Sniper</td><td>Gen2</td><td>Water</td><td>Dragon</td><td>1</td></tr><tr><td>Snow Cloak</td><td>Gen1</td><td>Ice</td><td>Flying</td><td>1</td></tr><tr><td>Snow Cloak</td><td>Gen2</td><td>Ice</td><td>Ground</td><td>2</td></tr><tr><td>Solar Power</td><td>Gen1</td><td>Fire</td><td>NULL</td><td>2</td></tr><tr><td>Solar Power</td><td>Gen1</td><td>Fire</td><td>Flying</td><td>1</td></tr><tr><td>Solar Power</td><td>Gen2</td><td>Grass</td><td>NULL</td><td>2</td></tr><tr><td>Solar Power</td><td>Gen3</td><td>Grass</td><td>Flying</td><td>1</td></tr><tr><td>Solid Rock</td><td>Gen3</td><td>Fire</td><td>Ground</td><td>1</td></tr><tr><td>Soundproof</td><td>Gen1</td><td>Electric</td><td>NULL</td><td>2</td></tr><tr><td>Soundproof</td><td>Gen1</td><td>Psychic</td><td>Fairy</td><td>1</td></tr><tr><td>Soundproof</td><td>Gen3</td><td>Normal</td><td>NULL</td><td>3</td></tr><tr><td>Speed Boost</td><td>Gen2</td><td>Bug</td><td>Flying</td><td>1</td></tr><tr><td>Speed Boost</td><td>Gen3</td><td>Bug</td><td>Flying</td><td>1</td></tr><tr><td>Speed Boost</td><td>Gen3</td><td>Fire</td><td>NULL</td><td>3</td></tr><tr><td>Speed Boost</td><td>Gen3</td><td>Water</td><td>Dark</td><td>2</td></tr><tr><td>Stall</td><td>Gen3</td><td>Dark</td><td>Ghost</td><td>1</td></tr><tr><td>Static</td><td>Gen1</td><td>Electric</td><td>NULL</td><td>5</td></tr><tr><td>Static</td><td>Gen1</td><td>Electric</td><td>Flying</td><td>1</td></tr><tr><td>Static</td><td>Gen2</td><td>Electric</td><td>NULL</td><td>5</td></tr><tr><td>Static</td><td>Gen3</td><td>Electric</td><td>NULL</td><td>2</td></tr><tr><td>Steadfast</td><td>Gen1</td><td>Bug</td><td>Flying</td><td>1</td></tr><tr><td>Steadfast</td><td>Gen1</td><td>Fighting</td><td>NULL</td><td>3</td></tr><tr><td>Steadfast</td><td>Gen2</td><td>Fighting</td><td>NULL</td><td>2</td></tr><tr><td>Stench</td><td>Gen1</td><td>Grass</td><td>Poison</td><td>1</td></tr><tr><td>Stench</td><td>Gen1</td><td>Poison</td><td>NULL</td><td>4</td></tr><tr><td>Sticky Hold</td><td>Gen1</td><td>Poison</td><td>NULL</td><td>2</td></tr><tr><td>Sticky Hold</td><td>Gen3</td><td>Poison</td><td>NULL</td><td>2</td></tr><tr><td>Storm Drain</td><td>Gen3</td><td>Rock</td><td>Grass</td><td>2</td></tr><tr><td>Sturdy</td><td>Gen1</td><td>Electric</td><td>Steel</td><td>2</td></tr><tr><td>Sturdy</td><td>Gen1</td><td>Rock</td><td>Ground</td><td>4</td></tr><tr><td>Sturdy</td><td>Gen2</td><td>Bug</td><td>NULL</td><td>1</td></tr><tr><td>Sturdy</td><td>Gen2</td><td>Bug</td><td>Rock</td><td>1</td></tr><tr><td>Sturdy</td><td>Gen2</td><td>Bug</td><td>Steel</td><td>1</td></tr><tr><td>Sturdy</td><td>Gen2</td><td>Ground</td><td>NULL</td><td>1</td></tr><tr><td>Sturdy</td><td>Gen2</td><td>Rock</td><td>NULL</td><td>1</td></tr><tr><td>Sturdy</td><td>Gen2</td><td>Steel</td><td>Flying</td><td>1</td></tr><tr><td>Sturdy</td><td>Gen2</td><td>Steel</td><td>Ground</td><td>1</td></tr><tr><td>Sturdy</td><td>Gen3</td><td>Rock</td><td>NULL</td><td>2</td></tr><tr><td>Sturdy</td><td>Gen3</td><td>Steel</td><td>Rock</td><td>3</td></tr><tr><td>Sturdy</td><td>Gen3</td><td>Water</td><td>Rock</td><td>1</td></tr><tr><td>Suction Cups</td><td>Gen2</td><td>Water</td><td>NULL</td><td>1</td></tr><tr><td>Suction Cups</td><td>Gen3</td><td>Rock</td><td>Grass</td><td>2</td></tr><tr><td>Super Luck</td><td>Gen2</td><td>Dark</td><td>Flying</td><td>1</td></tr><tr><td>Super Luck</td><td>Gen2</td><td>Fairy</td><td>NULL</td><td>1</td></tr><tr><td>Super Luck</td><td>Gen2</td><td>Fairy</td><td>Flying</td><td>1</td></tr><tr><td>Super Luck</td><td>Gen3</td><td>Dark</td><td>NULL</td><td>1</td></tr><tr><td>Swarm</td><td>Gen1</td><td>Bug</td><td>Flying</td><td>1</td></tr><tr><td>Swarm</td><td>Gen1</td><td>Bug</td><td>Poison</td><td>1</td></tr><tr><td>Swarm</td><td>Gen2</td><td>Bug</td><td>Fighting</td><td>1</td></tr><tr><td>Swarm</td><td>Gen2</td><td>Bug</td><td>Flying</td><td>2</td></tr><tr><td>Swarm</td><td>Gen2</td><td>Bug</td><td>Poison</td><td>2</td></tr><tr><td>Swarm</td><td>Gen2</td><td>Bug</td><td>Steel</td><td>1</td></tr><tr><td>Swarm</td><td>Gen3</td><td>Bug</td><td>NULL</td><td>1</td></tr><tr><td>Swarm</td><td>Gen3</td><td>Bug</td><td>Flying</td><td>1</td></tr><tr><td>Swift Swim</td><td>Gen1</td><td>Rock</td><td>Water</td><td>4</td></tr><tr><td>Swift Swim</td><td>Gen1</td><td>Water</td><td>NULL</td><td>8</td></tr><tr><td>Swift Swim</td><td>Gen1</td><td>Water</td><td>Fighting</td><td>1</td></tr><tr><td>Swift Swim</td><td>Gen2</td><td>Water</td><td>Dragon</td><td>1</td></tr><tr><td>Swift Swim</td><td>Gen2</td><td>Water</td><td>Flying</td><td>1</td></tr><tr><td>Swift Swim</td><td>Gen2</td><td>Water</td><td>Poison</td><td>1</td></tr><tr><td>Swift Swim</td><td>Gen3</td><td>Bug</td><td>Water</td><td>1</td></tr><tr><td>Swift Swim</td><td>Gen3</td><td>Rock</td><td>Bug</td><td>2</td></tr><tr><td>Swift Swim</td><td>Gen3</td><td>Water</td><td>NULL</td><td>4</td></tr><tr><td>Swift Swim</td><td>Gen3</td><td>Water</td><td>Grass</td><td>3</td></tr><tr><td>Swift Swim</td><td>Gen3</td><td>Water</td><td>Rock</td><td>1</td></tr><tr><td>Synchronize</td><td>Gen1</td><td>Psychic</td><td>NULL</td><td>4</td></tr><tr><td>Synchronize</td><td>Gen2</td><td>Dark</td><td>NULL</td><td>1</td></tr><tr><td>Synchronize</td><td>Gen2</td><td>Psychic</td><td>NULL</td><td>1</td></tr><tr><td>Synchronize</td><td>Gen2</td><td>Psychic</td><td>Flying</td><td>2</td></tr><tr><td>Synchronize</td><td>Gen3</td><td>Psychic</td><td>Fairy</td><td>3</td></tr><tr><td>Tangled Feet</td><td>Gen1</td><td>Normal</td><td>Flying</td><td>5</td></tr><tr><td>Tangled Feet</td><td>Gen3</td><td>Normal</td><td>NULL</td><td>1</td></tr><tr><td>Technician</td><td>Gen1</td><td>Bug</td><td>Flying</td><td>1</td></tr><tr><td>Technician</td><td>Gen1</td><td>Normal</td><td>NULL</td><td>2</td></tr><tr><td>Technician</td><td>Gen1</td><td>Psychic</td><td>Fairy</td><td>1</td></tr><tr><td>Technician</td><td>Gen2</td><td>Bug</td><td>Steel</td><td>1</td></tr><tr><td>Technician</td><td>Gen2</td><td>Fighting</td><td>NULL</td><td>1</td></tr><tr><td>Technician</td><td>Gen2</td><td>Normal</td><td>NULL</td><td>1</td></tr><tr><td>Technician</td><td>Gen3</td><td>Grass</td><td>Fighting</td><td>1</td></tr><tr><td>Telepathy</td><td>Gen2</td><td>Psychic</td><td>NULL</td><td>1</td></tr><tr><td>Telepathy</td><td>Gen3</td><td>Fighting</td><td>Psychic</td><td>2</td></tr><tr><td>Telepathy</td><td>Gen3</td><td>Psychic</td><td>NULL</td><td>1</td></tr><tr><td>Telepathy</td><td>Gen3</td><td>Psychic</td><td>Fairy</td><td>3</td></tr><tr><td>Thick Fat</td><td>Gen1</td><td>Normal</td><td>NULL</td><td>1</td></tr><tr><td>Thick Fat</td><td>Gen1</td><td>Water</td><td>NULL</td><td>1</td></tr><tr><td>Thick Fat</td><td>Gen1</td><td>Water</td><td>Ice</td><td>1</td></tr><tr><td>Thick Fat</td><td>Gen2</td><td>Ice</td><td>Ground</td><td>2</td></tr><tr><td>Thick Fat</td><td>Gen2</td><td>Normal</td><td>NULL</td><td>1</td></tr><tr><td>Thick Fat</td><td>Gen2</td><td>Water</td><td>Fairy</td><td>2</td></tr><tr><td>Thick Fat</td><td>Gen3</td><td>Fighting</td><td>NULL</td><td>2</td></tr><tr><td>Thick Fat</td><td>Gen3</td><td>Ice</td><td>Water</td><td>3</td></tr><tr><td>Thick Fat</td><td>Gen3</td><td>Normal</td><td>Fairy</td><td>1</td></tr><tr><td>Thick Fat</td><td>Gen3</td><td>Psychic</td><td>NULL</td><td>2</td></tr><tr><td>Tinted Lens</td><td>Gen1</td><td>Bug</td><td>Flying</td><td>1</td></tr><tr><td>Tinted Lens</td><td>Gen1</td><td>Bug</td><td>Poison</td><td>2</td></tr><tr><td>Tinted Lens</td><td>Gen2</td><td>Normal</td><td>Flying</td><td>2</td></tr><tr><td>Tinted Lens</td><td>Gen3</td><td>Bug</td><td>NULL</td><td>1</td></tr><tr><td>Torrent</td><td>Gen1</td><td>Water</td><td>NULL</td><td>3</td></tr><tr><td>Torrent</td><td>Gen2</td><td>Water</td><td>NULL</td><td>3</td></tr><tr><td>Torrent</td><td>Gen3</td><td>Water</td><td>NULL</td><td>3</td></tr><tr><td>Toxic Boost</td><td>Gen3</td><td>Normal</td><td>NULL</td><td>1</td></tr><tr><td>Trace</td><td>Gen1</td><td>Normal</td><td>NULL</td><td>1</td></tr><tr><td>Trace</td><td>Gen2</td><td>Normal</td><td>NULL</td><td>1</td></tr><tr><td>Trace</td><td>Gen3</td><td>Psychic</td><td>Fairy</td><td>3</td></tr><tr><td>Truant</td><td>Gen3</td><td>Normal</td><td>NULL</td><td>2</td></tr><tr><td>Unaware</td><td>Gen2</td><td>Water</td><td>Ground</td><td>2</td></tr><tr><td>Unburden</td><td>Gen1</td><td>Fight</td><td>NULL</td><td>1</td></tr><tr><td>Unburden</td><td>Gen3</td><td>Grass</td><td>NULL</td><td>3</td></tr><tr><td>Unnerve</td><td>Gen1</td><td>Normal</td><td>NULL</td><td>2</td></tr><tr><td>Unnerve</td><td>Gen1</td><td>Poison</td><td>NULL</td><td>2</td></tr><tr><td>Unnerve</td><td>Gen1</td><td>Psychic</td><td>NULL</td><td>1</td></tr><tr><td>Unnerve</td><td>Gen1</td><td>Rock</td><td>Flying</td><td>1</td></tr><tr><td>Unnerve</td><td>Gen2</td><td>Dark</td><td>Fire</td><td>2</td></tr><tr><td>Unnerve</td><td>Gen2</td><td>Normal</td><td>NULL</td><td>1</td></tr><tr><td>Unnerve</td><td>Gen2</td><td>Rock</td><td>Dark</td><td>1</td></tr><tr><td>Unnerve</td><td>Gen3</td><td>Bug</td><td>Flying</td><td>1</td></tr><tr><td>Vital Spirit</td><td>Gen1</td><td>Electric</td><td>NULL</td><td>1</td></tr><tr><td>Vital Spirit</td><td>Gen1</td><td>Fighting</td><td>NULL</td><td>2</td></tr><tr><td>Vital Spirit</td><td>Gen1</td><td>Fire</td><td>NULL</td><td>1</td></tr><tr><td>Vital Spirit</td><td>Gen2</td><td>Electric</td><td>NULL</td><td>1</td></tr><tr><td>Vital Spirit</td><td>Gen2</td><td>Fighting</td><td>NULL</td><td>1</td></tr><tr><td>Vital Spirit</td><td>Gen2</td><td>Fire</td><td>NULL</td><td>1</td></tr><tr><td>Vital Spirit</td><td>Gen2</td><td>Ice</td><td>Flying</td><td>1</td></tr><tr><td>Vital Spirit</td><td>Gen3</td><td>Normal</td><td>NULL</td><td>1</td></tr><tr><td>Volt Absorb</td><td>Gen1</td><td>Electric</td><td>NULL</td><td>1</td></tr><tr><td>Volt Absorb</td><td>Gen2</td><td>Water</td><td>Electric</td><td>2</td></tr><tr><td>Volt Absorb</td><td>Gen3</td><td>Electric</td><td>NULL</td><td>1</td></tr><tr><td>Water Absorb</td><td>Gen1</td><td>Water</td><td>NULL</td><td>3</td></tr><tr><td>Water Absorb</td><td>Gen1</td><td>Water</td><td>Fighting</td><td>1</td></tr><tr><td>Water Absorb</td><td>Gen1</td><td>Water</td><td>Ice</td><td>1</td></tr><tr><td>Water Absorb</td><td>Gen2</td><td>Water</td><td>NULL</td><td>1</td></tr><tr><td>Water Absorb</td><td>Gen2</td><td>Water</td><td>Electric</td><td>2</td></tr><tr><td>Water Absorb</td><td>Gen2</td><td>Water</td><td>Flying</td><td>1</td></tr><tr><td>Water Absorb</td><td>Gen2</td><td>Water</td><td>Ground</td><td>2</td></tr><tr><td>Water Absorb</td><td>Gen3</td><td>Grass</td><td>NULL</td><td>1</td></tr><tr><td>Water Absorb</td><td>Gen3</td><td>Grass</td><td>Dark</td><td>1</td></tr><tr><td>Water Veil</td><td>Gen1</td><td>Water</td><td>NULL</td><td>2</td></tr><tr><td>Water Veil</td><td>Gen2</td><td>Water</td><td>Flying</td><td>1</td></tr><tr><td>Water Veil</td><td>Gen3</td><td>Water</td><td>NULL</td><td>3</td></tr><tr><td>Weak Amour</td><td>Gen1</td><td>Rock</td><td>Water</td><td>4</td></tr><tr><td>Weak Armor</td><td>Gen1</td><td>Rock</td><td>Ground</td><td>1</td></tr><tr><td>Weak Armor</td><td>Gen2</td><td>Fire</td><td>NULL</td><td>1</td></tr><tr><td>Weak Armor</td><td>Gen2</td><td>Fire</td><td>Rock</td><td>1</td></tr><tr><td>Weak Armor</td><td>Gen2</td><td>Steel</td><td>Flying</td><td>1</td></tr><tr><td>White Smoke</td><td>Gen3</td><td>Fire</td><td>NULL</td><td>1</td></tr><tr><td>Wind Rider</td><td>Gen3</td><td>Grass</td><td>Dark</td><td>1</td></tr><tr><td>Wonder Guard</td><td>Gen3</td><td>Bug</td><td>Ghost</td><td>1</td></tr><tr><td>Wonder Skin</td><td>Gen1</td><td>Bug</td><td>Poison</td><td>1</td></tr><tr><td>Wonder Skin</td><td>Gen3</td><td>Normal</td><td>NULL</td><td>2</td></tr></table>"
                    },
                    "metadata": {}
                }
            ],
            "execution_count": 7
        },
        {
            "cell_type": "markdown",
            "source": [
                "BETTER CODE \n",
                "\n",
                "Combine all abilities from all three generations into one list using UNION to ensure uniqueness across the entire dataset. UNION is used instead of UNION ALL to eliminate duplicates automatically, ensuring that each ability is listed only once regardless of how many times it appears across different generations or types. The final SELECT DISTINCT might seem redundant because UNION already ensures uniqueness, but it emphasizes the intent to list unique abilities. It can be removed without affecting the outcome. The result is a list of unique abilities sorted alphabetically."
            ],
            "metadata": {
                "azdata_cell_guid": "918b966c-4eee-44bd-a863-9659b74b9b70"
            },
            "attachments": {}
        },
        {
            "cell_type": "code",
            "source": [
                "USE PokemonGen1;\n",
                "USE PokemonGen2;\n",
                "USE PokemonGen3;\n",
                "\n",
                "WITH Abilities AS (\n",
                "    SELECT Ability1 AS Ability, 'Gen1' AS Generation FROM PokemonGen1.dbo.PokemonGen1 WHERE Ability1 IS NOT NULL\n",
                "    UNION\n",
                "    SELECT Ability2, 'Gen1' FROM PokemonGen1.dbo.PokemonGen1 WHERE Ability2 IS NOT NULL\n",
                "    UNION\n",
                "    SELECT Ability3, 'Gen1' FROM PokemonGen1.dbo.PokemonGen1 WHERE Ability3 IS NOT NULL\n",
                "    UNION ALL\n",
                "    SELECT Ability1, 'Gen2' FROM PokemonGen2.dbo.PokemonGen2 WHERE Ability1 IS NOT NULL\n",
                "    UNION\n",
                "    SELECT Ability2, 'Gen2' FROM PokemonGen2.dbo.PokemonGen2 WHERE Ability2 IS NOT NULL\n",
                "    UNION\n",
                "    SELECT Ability3, 'Gen2' FROM PokemonGen2.dbo.PokemonGen2 WHERE Ability3 IS NOT NULL\n",
                "    UNION ALL\n",
                "    SELECT Ability1, 'Gen3' FROM PokemonGen3.dbo.PokemonGen3 WHERE Ability1 IS NOT NULL\n",
                "    UNION\n",
                "    SELECT Ability2, 'Gen3' FROM PokemonGen3.dbo.PokemonGen3 WHERE Ability2 IS NOT NULL\n",
                "    UNION\n",
                "    SELECT Ability3, 'Gen3' FROM PokemonGen3.dbo.PokemonGen3 WHERE Ability3 IS NOT NULL\n",
                "),\n",
                "RankedAbilities AS (\n",
                "    SELECT Ability, Generation,\n",
                "           ROW_NUMBER() OVER(PARTITION BY Ability ORDER BY CASE Generation WHEN 'Gen1' THEN 1 WHEN 'Gen2' THEN 2 WHEN 'Gen3' THEN 3 END) AS Rank\n",
                "    FROM Abilities\n",
                ")\n",
                "SELECT Ability, Generation\n",
                "FROM RankedAbilities\n",
                "WHERE Rank = 1\n",
                "ORDER BY Ability;\n",
                "\n",
                ""
            ],
            "metadata": {
                "azdata_cell_guid": "f5138741-fa6b-46c8-b55a-7cf42794dd9f",
                "language": "sql"
            },
            "outputs": [
                {
                    "output_type": "display_data",
                    "data": {
                        "text/html": "(153 rows affected)"
                    },
                    "metadata": {}
                },
                {
                    "output_type": "display_data",
                    "data": {
                        "text/html": "Total execution time: 00:00:00.063"
                    },
                    "metadata": {}
                },
                {
                    "output_type": "execute_result",
                    "metadata": {},
                    "execution_count": 13,
                    "data": {
                        "application/vnd.dataresource+json": {
                            "schema": {
                                "fields": [
                                    {
                                        "name": "Ability"
                                    },
                                    {
                                        "name": "Generation"
                                    }
                                ]
                            },
                            "data": [
                                {
                                    "Ability": "Adaptability",
                                    "Generation": "Gen1"
                                },
                                {
                                    "Ability": "Aftermath",
                                    "Generation": "Gen1"
                                },
                                {
                                    "Ability": "Air Lock",
                                    "Generation": "Gen3"
                                },
                                {
                                    "Ability": "Analytic",
                                    "Generation": "Gen1"
                                },
                                {
                                    "Ability": "Anger Point",
                                    "Generation": "Gen1"
                                },
                                {
                                    "Ability": "Anticipation",
                                    "Generation": "Gen1"
                                },
                                {
                                    "Ability": "Arena Trap",
                                    "Generation": "Gen1"
                                },
                                {
                                    "Ability": "Battle Armor",
                                    "Generation": "Gen1"
                                },
                                {
                                    "Ability": "Big Pecks",
                                    "Generation": "Gen1"
                                },
                                {
                                    "Ability": "Blaze",
                                    "Generation": "Gen1"
                                },
                                {
                                    "Ability": "Chlorophyll",
                                    "Generation": "Gen1"
                                },
                                {
                                    "Ability": "Clear Body",
                                    "Generation": "Gen1"
                                },
                                {
                                    "Ability": "Cloud Nine",
                                    "Generation": "Gen1"
                                },
                                {
                                    "Ability": "Color Change",
                                    "Generation": "Gen3"
                                },
                                {
                                    "Ability": "Competitive",
                                    "Generation": "Gen1"
                                },
                                {
                                    "Ability": "Compoundeyes",
                                    "Generation": "Gen1"
                                },
                                {
                                    "Ability": "Contrary",
                                    "Generation": "Gen2"
                                },
                                {
                                    "Ability": "Cursed Body",
                                    "Generation": "Gen1"
                                },
                                {
                                    "Ability": "Cute Charm",
                                    "Generation": "Gen1"
                                },
                                {
                                    "Ability": "Damp",
                                    "Generation": "Gen1"
                                },
                                {
                                    "Ability": "Defiant",
                                    "Generation": "Gen1"
                                },
                                {
                                    "Ability": "Download",
                                    "Generation": "Gen1"
                                },
                                {
                                    "Ability": "Drizzle",
                                    "Generation": "Gen2"
                                },
                                {
                                    "Ability": "Drought",
                                    "Generation": "Gen1"
                                },
                                {
                                    "Ability": "Dry Skin",
                                    "Generation": "Gen1"
                                },
                                {
                                    "Ability": "Early Bird",
                                    "Generation": "Gen1"
                                },
                                {
                                    "Ability": "Effect Spore",
                                    "Generation": "Gen1"
                                },
                                {
                                    "Ability": "Filter",
                                    "Generation": "Gen1"
                                },
                                {
                                    "Ability": "Flame Body",
                                    "Generation": "Gen1"
                                },
                                {
                                    "Ability": "Flash Fire",
                                    "Generation": "Gen1"
                                },
                                {
                                    "Ability": "Forecast",
                                    "Generation": "Gen3"
                                },
                                {
                                    "Ability": "Forewarn",
                                    "Generation": "Gen1"
                                },
                                {
                                    "Ability": "Friend Guard",
                                    "Generation": "Gen1"
                                },
                                {
                                    "Ability": "Frisk",
                                    "Generation": "Gen1"
                                },
                                {
                                    "Ability": "Gluttony",
                                    "Generation": "Gen1"
                                },
                                {
                                    "Ability": "Guts",
                                    "Generation": "Gen1"
                                },
                                {
                                    "Ability": "Harvest",
                                    "Generation": "Gen1"
                                },
                                {
                                    "Ability": "Healer",
                                    "Generation": "Gen1"
                                },
                                {
                                    "Ability": "Heavy Metal",
                                    "Generation": "Gen3"
                                },
                                {
                                    "Ability": "Honey Gather",
                                    "Generation": "Gen2"
                                },
                                {
                                    "Ability": "Huge Power",
                                    "Generation": "Gen2"
                                },
                                {
                                    "Ability": "Hustle",
                                    "Generation": "Gen1"
                                },
                                {
                                    "Ability": "Hydration",
                                    "Generation": "Gen1"
                                },
                                {
                                    "Ability": "Hyper Cutter",
                                    "Generation": "Gen1"
                                },
                                {
                                    "Ability": "Ice Body",
                                    "Generation": "Gen1"
                                },
                                {
                                    "Ability": "Illuminate",
                                    "Generation": "Gen1"
                                },
                                {
                                    "Ability": "Immunity",
                                    "Generation": "Gen1"
                                },
                                {
                                    "Ability": "Imposter",
                                    "Generation": "Gen1"
                                },
                                {
                                    "Ability": "Infiltrator",
                                    "Generation": "Gen1"
                                },
                                {
                                    "Ability": "Inner Focus",
                                    "Generation": "Gen1"
                                },
                                {
                                    "Ability": "Insomnia",
                                    "Generation": "Gen1"
                                },
                                {
                                    "Ability": "Intimidate",
                                    "Generation": "Gen1"
                                },
                                {
                                    "Ability": "Iron Fist",
                                    "Generation": "Gen1"
                                },
                                {
                                    "Ability": "Justified",
                                    "Generation": "Gen1"
                                },
                                {
                                    "Ability": "Keen Eye",
                                    "Generation": "Gen1"
                                },
                                {
                                    "Ability": "Leaf Guard",
                                    "Generation": "Gen1"
                                },
                                {
                                    "Ability": "Levitate",
                                    "Generation": "Gen1"
                                },
                                {
                                    "Ability": "Light Metal",
                                    "Generation": "Gen2"
                                },
                                {
                                    "Ability": "Lighting Rod",
                                    "Generation": "Gen1"
                                },
                                {
                                    "Ability": "Lightning Rod",
                                    "Generation": "Gen1"
                                },
                                {
                                    "Ability": "Limber",
                                    "Generation": "Gen1"
                                },
                                {
                                    "Ability": "Liquid Ooze",
                                    "Generation": "Gen1"
                                },
                                {
                                    "Ability": "Magic Bounce",
                                    "Generation": "Gen2"
                                },
                                {
                                    "Ability": "Magic Guard",
                                    "Generation": "Gen1"
                                },
                                {
                                    "Ability": "Magma Armor",
                                    "Generation": "Gen2"
                                },
                                {
                                    "Ability": "Magnet Pull",
                                    "Generation": "Gen1"
                                },
                                {
                                    "Ability": "Marvel Scale",
                                    "Generation": "Gen1"
                                },
                                {
                                    "Ability": "Minus",
                                    "Generation": "Gen3"
                                },
                                {
                                    "Ability": "Mold Breaker",
                                    "Generation": "Gen1"
                                },
                                {
                                    "Ability": "Moody",
                                    "Generation": "Gen2"
                                },
                                {
                                    "Ability": "Moxie",
                                    "Generation": "Gen1"
                                },
                                {
                                    "Ability": "Multiscale",
                                    "Generation": "Gen1"
                                },
                                {
                                    "Ability": "Natural Cure",
                                    "Generation": "Gen1"
                                },
                                {
                                    "Ability": "Neutralizing Gas",
                                    "Generation": "Gen1"
                                },
                                {
                                    "Ability": "No Guard",
                                    "Generation": "Gen1"
                                },
                                {
                                    "Ability": "Normalize",
                                    "Generation": "Gen3"
                                },
                                {
                                    "Ability": "Oblivious",
                                    "Generation": "Gen1"
                                },
                                {
                                    "Ability": "Overcoat",
                                    "Generation": "Gen1"
                                },
                                {
                                    "Ability": "Overgrow",
                                    "Generation": "Gen1"
                                },
                                {
                                    "Ability": "Own Tempo",
                                    "Generation": "Gen1"
                                },
                                {
                                    "Ability": "Pickpocket",
                                    "Generation": "Gen2"
                                },
                                {
                                    "Ability": "Pickup",
                                    "Generation": "Gen1"
                                },
                                {
                                    "Ability": "Plus",
                                    "Generation": "Gen2"
                                },
                                {
                                    "Ability": "Poison Heal",
                                    "Generation": "Gen3"
                                },
                                {
                                    "Ability": "Poison Point",
                                    "Generation": "Gen1"
                                },
                                {
                                    "Ability": "Poison Touch",
                                    "Generation": "Gen1"
                                },
                                {
                                    "Ability": "Prankster",
                                    "Generation": "Gen2"
                                },
                                {
                                    "Ability": "Pressure",
                                    "Generation": "Gen1"
                                },
                                {
                                    "Ability": "Protean",
                                    "Generation": "Gen3"
                                },
                                {
                                    "Ability": "Pure Power",
                                    "Generation": "Gen3"
                                },
                                {
                                    "Ability": "Quick Feet",
                                    "Generation": "Gen1"
                                },
                                {
                                    "Ability": "Rain Dish",
                                    "Generation": "Gen1"
                                },
                                {
                                    "Ability": "Rattled",
                                    "Generation": "Gen1"
                                },
                                {
                                    "Ability": "Reckless",
                                    "Generation": "Gen1"
                                },
                                {
                                    "Ability": "Regenerator",
                                    "Generation": "Gen1"
                                },
                                {
                                    "Ability": "Rivalry",
                                    "Generation": "Gen1"
                                },
                                {
                                    "Ability": "Rock Head",
                                    "Generation": "Gen1"
                                },
                                {
                                    "Ability": "Rough Skin",
                                    "Generation": "Gen3"
                                },
                                {
                                    "Ability": "Run Away",
                                    "Generation": "Gen1"
                                },
                                {
                                    "Ability": "Sand Force",
                                    "Generation": "Gen1"
                                },
                                {
                                    "Ability": "Sand Rush",
                                    "Generation": "Gen1"
                                },
                                {
                                    "Ability": "Sand Stream",
                                    "Generation": "Gen2"
                                },
                                {
                                    "Ability": "Sand Veil",
                                    "Generation": "Gen1"
                                },
                                {
                                    "Ability": "Sap Sipper",
                                    "Generation": "Gen2"
                                },
                                {
                                    "Ability": "Scrappy",
                                    "Generation": "Gen1"
                                },
                                {
                                    "Ability": "Serene Grace",
                                    "Generation": "Gen1"
                                },
                                {
                                    "Ability": "Shadow Tag",
                                    "Generation": "Gen2"
                                },
                                {
                                    "Ability": "Shed Skin",
                                    "Generation": "Gen1"
                                },
                                {
                                    "Ability": "Sheer Force",
                                    "Generation": "Gen1"
                                },
                                {
                                    "Ability": "Shell Armor",
                                    "Generation": "Gen1"
                                },
                                {
                                    "Ability": "Shield Dust",
                                    "Generation": "Gen1"
                                },
                                {
                                    "Ability": "Simple",
                                    "Generation": "Gen3"
                                },
                                {
                                    "Ability": "Skill Link",
                                    "Generation": "Gen1"
                                },
                                {
                                    "Ability": "Sniper",
                                    "Generation": "Gen1"
                                },
                                {
                                    "Ability": "Snow Cloak",
                                    "Generation": "Gen1"
                                },
                                {
                                    "Ability": "Solar Power",
                                    "Generation": "Gen1"
                                },
                                {
                                    "Ability": "Solid Rock",
                                    "Generation": "Gen3"
                                },
                                {
                                    "Ability": "Soundproof",
                                    "Generation": "Gen1"
                                },
                                {
                                    "Ability": "Speed Boost",
                                    "Generation": "Gen2"
                                },
                                {
                                    "Ability": "Stall",
                                    "Generation": "Gen3"
                                },
                                {
                                    "Ability": "Static",
                                    "Generation": "Gen1"
                                },
                                {
                                    "Ability": "Steadfast",
                                    "Generation": "Gen1"
                                },
                                {
                                    "Ability": "Stench",
                                    "Generation": "Gen1"
                                },
                                {
                                    "Ability": "Sticky Hold",
                                    "Generation": "Gen1"
                                },
                                {
                                    "Ability": "Storm Drain",
                                    "Generation": "Gen3"
                                },
                                {
                                    "Ability": "Sturdy",
                                    "Generation": "Gen1"
                                },
                                {
                                    "Ability": "Suction Cups",
                                    "Generation": "Gen2"
                                },
                                {
                                    "Ability": "Super Luck",
                                    "Generation": "Gen2"
                                },
                                {
                                    "Ability": "Swarm",
                                    "Generation": "Gen1"
                                },
                                {
                                    "Ability": "Swift Swim",
                                    "Generation": "Gen1"
                                },
                                {
                                    "Ability": "Synchronize",
                                    "Generation": "Gen1"
                                },
                                {
                                    "Ability": "Tangled Feet",
                                    "Generation": "Gen1"
                                },
                                {
                                    "Ability": "Technician",
                                    "Generation": "Gen1"
                                },
                                {
                                    "Ability": "Telepathy",
                                    "Generation": "Gen2"
                                },
                                {
                                    "Ability": "Thick Fat",
                                    "Generation": "Gen1"
                                },
                                {
                                    "Ability": "Tinted Lens",
                                    "Generation": "Gen1"
                                },
                                {
                                    "Ability": "Torrent",
                                    "Generation": "Gen1"
                                },
                                {
                                    "Ability": "Toxic Boost",
                                    "Generation": "Gen3"
                                },
                                {
                                    "Ability": "Trace",
                                    "Generation": "Gen1"
                                },
                                {
                                    "Ability": "Truant",
                                    "Generation": "Gen3"
                                },
                                {
                                    "Ability": "Unaware",
                                    "Generation": "Gen2"
                                },
                                {
                                    "Ability": "Unburden",
                                    "Generation": "Gen1"
                                },
                                {
                                    "Ability": "Unnerve",
                                    "Generation": "Gen1"
                                },
                                {
                                    "Ability": "Vital Spirit",
                                    "Generation": "Gen1"
                                },
                                {
                                    "Ability": "Volt Absorb",
                                    "Generation": "Gen1"
                                },
                                {
                                    "Ability": "Water Absorb",
                                    "Generation": "Gen1"
                                },
                                {
                                    "Ability": "Water Veil",
                                    "Generation": "Gen1"
                                },
                                {
                                    "Ability": "Weak Amour",
                                    "Generation": "Gen1"
                                },
                                {
                                    "Ability": "Weak Armor",
                                    "Generation": "Gen1"
                                },
                                {
                                    "Ability": "White Smoke",
                                    "Generation": "Gen3"
                                },
                                {
                                    "Ability": "Wind Rider",
                                    "Generation": "Gen3"
                                },
                                {
                                    "Ability": "Wonder Guard",
                                    "Generation": "Gen3"
                                },
                                {
                                    "Ability": "Wonder Skin",
                                    "Generation": "Gen1"
                                }
                            ]
                        },
                        "text/html": [
                            "<table>",
                            "<tr><th>Ability</th><th>Generation</th></tr>",
                            "<tr><td>Adaptability</td><td>Gen1</td></tr>",
                            "<tr><td>Aftermath</td><td>Gen1</td></tr>",
                            "<tr><td>Air Lock</td><td>Gen3</td></tr>",
                            "<tr><td>Analytic</td><td>Gen1</td></tr>",
                            "<tr><td>Anger Point</td><td>Gen1</td></tr>",
                            "<tr><td>Anticipation</td><td>Gen1</td></tr>",
                            "<tr><td>Arena Trap</td><td>Gen1</td></tr>",
                            "<tr><td>Battle Armor</td><td>Gen1</td></tr>",
                            "<tr><td>Big Pecks</td><td>Gen1</td></tr>",
                            "<tr><td>Blaze</td><td>Gen1</td></tr>",
                            "<tr><td>Chlorophyll</td><td>Gen1</td></tr>",
                            "<tr><td>Clear Body</td><td>Gen1</td></tr>",
                            "<tr><td>Cloud Nine</td><td>Gen1</td></tr>",
                            "<tr><td>Color Change</td><td>Gen3</td></tr>",
                            "<tr><td>Competitive</td><td>Gen1</td></tr>",
                            "<tr><td>Compoundeyes</td><td>Gen1</td></tr>",
                            "<tr><td>Contrary</td><td>Gen2</td></tr>",
                            "<tr><td>Cursed Body</td><td>Gen1</td></tr>",
                            "<tr><td>Cute Charm</td><td>Gen1</td></tr>",
                            "<tr><td>Damp</td><td>Gen1</td></tr>",
                            "<tr><td>Defiant</td><td>Gen1</td></tr>",
                            "<tr><td>Download</td><td>Gen1</td></tr>",
                            "<tr><td>Drizzle</td><td>Gen2</td></tr>",
                            "<tr><td>Drought</td><td>Gen1</td></tr>",
                            "<tr><td>Dry Skin</td><td>Gen1</td></tr>",
                            "<tr><td>Early Bird</td><td>Gen1</td></tr>",
                            "<tr><td>Effect Spore</td><td>Gen1</td></tr>",
                            "<tr><td>Filter</td><td>Gen1</td></tr>",
                            "<tr><td>Flame Body</td><td>Gen1</td></tr>",
                            "<tr><td>Flash Fire</td><td>Gen1</td></tr>",
                            "<tr><td>Forecast</td><td>Gen3</td></tr>",
                            "<tr><td>Forewarn</td><td>Gen1</td></tr>",
                            "<tr><td>Friend Guard</td><td>Gen1</td></tr>",
                            "<tr><td>Frisk</td><td>Gen1</td></tr>",
                            "<tr><td>Gluttony</td><td>Gen1</td></tr>",
                            "<tr><td>Guts</td><td>Gen1</td></tr>",
                            "<tr><td>Harvest</td><td>Gen1</td></tr>",
                            "<tr><td>Healer</td><td>Gen1</td></tr>",
                            "<tr><td>Heavy Metal</td><td>Gen3</td></tr>",
                            "<tr><td>Honey Gather</td><td>Gen2</td></tr>",
                            "<tr><td>Huge Power</td><td>Gen2</td></tr>",
                            "<tr><td>Hustle</td><td>Gen1</td></tr>",
                            "<tr><td>Hydration</td><td>Gen1</td></tr>",
                            "<tr><td>Hyper Cutter</td><td>Gen1</td></tr>",
                            "<tr><td>Ice Body</td><td>Gen1</td></tr>",
                            "<tr><td>Illuminate</td><td>Gen1</td></tr>",
                            "<tr><td>Immunity</td><td>Gen1</td></tr>",
                            "<tr><td>Imposter</td><td>Gen1</td></tr>",
                            "<tr><td>Infiltrator</td><td>Gen1</td></tr>",
                            "<tr><td>Inner Focus</td><td>Gen1</td></tr>",
                            "<tr><td>Insomnia</td><td>Gen1</td></tr>",
                            "<tr><td>Intimidate</td><td>Gen1</td></tr>",
                            "<tr><td>Iron Fist</td><td>Gen1</td></tr>",
                            "<tr><td>Justified</td><td>Gen1</td></tr>",
                            "<tr><td>Keen Eye</td><td>Gen1</td></tr>",
                            "<tr><td>Leaf Guard</td><td>Gen1</td></tr>",
                            "<tr><td>Levitate</td><td>Gen1</td></tr>",
                            "<tr><td>Light Metal</td><td>Gen2</td></tr>",
                            "<tr><td>Lighting Rod</td><td>Gen1</td></tr>",
                            "<tr><td>Lightning Rod</td><td>Gen1</td></tr>",
                            "<tr><td>Limber</td><td>Gen1</td></tr>",
                            "<tr><td>Liquid Ooze</td><td>Gen1</td></tr>",
                            "<tr><td>Magic Bounce</td><td>Gen2</td></tr>",
                            "<tr><td>Magic Guard</td><td>Gen1</td></tr>",
                            "<tr><td>Magma Armor</td><td>Gen2</td></tr>",
                            "<tr><td>Magnet Pull</td><td>Gen1</td></tr>",
                            "<tr><td>Marvel Scale</td><td>Gen1</td></tr>",
                            "<tr><td>Minus</td><td>Gen3</td></tr>",
                            "<tr><td>Mold Breaker</td><td>Gen1</td></tr>",
                            "<tr><td>Moody</td><td>Gen2</td></tr>",
                            "<tr><td>Moxie</td><td>Gen1</td></tr>",
                            "<tr><td>Multiscale</td><td>Gen1</td></tr>",
                            "<tr><td>Natural Cure</td><td>Gen1</td></tr>",
                            "<tr><td>Neutralizing Gas</td><td>Gen1</td></tr>",
                            "<tr><td>No Guard</td><td>Gen1</td></tr>",
                            "<tr><td>Normalize</td><td>Gen3</td></tr>",
                            "<tr><td>Oblivious</td><td>Gen1</td></tr>",
                            "<tr><td>Overcoat</td><td>Gen1</td></tr>",
                            "<tr><td>Overgrow</td><td>Gen1</td></tr>",
                            "<tr><td>Own Tempo</td><td>Gen1</td></tr>",
                            "<tr><td>Pickpocket</td><td>Gen2</td></tr>",
                            "<tr><td>Pickup</td><td>Gen1</td></tr>",
                            "<tr><td>Plus</td><td>Gen2</td></tr>",
                            "<tr><td>Poison Heal</td><td>Gen3</td></tr>",
                            "<tr><td>Poison Point</td><td>Gen1</td></tr>",
                            "<tr><td>Poison Touch</td><td>Gen1</td></tr>",
                            "<tr><td>Prankster</td><td>Gen2</td></tr>",
                            "<tr><td>Pressure</td><td>Gen1</td></tr>",
                            "<tr><td>Protean</td><td>Gen3</td></tr>",
                            "<tr><td>Pure Power</td><td>Gen3</td></tr>",
                            "<tr><td>Quick Feet</td><td>Gen1</td></tr>",
                            "<tr><td>Rain Dish</td><td>Gen1</td></tr>",
                            "<tr><td>Rattled</td><td>Gen1</td></tr>",
                            "<tr><td>Reckless</td><td>Gen1</td></tr>",
                            "<tr><td>Regenerator</td><td>Gen1</td></tr>",
                            "<tr><td>Rivalry</td><td>Gen1</td></tr>",
                            "<tr><td>Rock Head</td><td>Gen1</td></tr>",
                            "<tr><td>Rough Skin</td><td>Gen3</td></tr>",
                            "<tr><td>Run Away</td><td>Gen1</td></tr>",
                            "<tr><td>Sand Force</td><td>Gen1</td></tr>",
                            "<tr><td>Sand Rush</td><td>Gen1</td></tr>",
                            "<tr><td>Sand Stream</td><td>Gen2</td></tr>",
                            "<tr><td>Sand Veil</td><td>Gen1</td></tr>",
                            "<tr><td>Sap Sipper</td><td>Gen2</td></tr>",
                            "<tr><td>Scrappy</td><td>Gen1</td></tr>",
                            "<tr><td>Serene Grace</td><td>Gen1</td></tr>",
                            "<tr><td>Shadow Tag</td><td>Gen2</td></tr>",
                            "<tr><td>Shed Skin</td><td>Gen1</td></tr>",
                            "<tr><td>Sheer Force</td><td>Gen1</td></tr>",
                            "<tr><td>Shell Armor</td><td>Gen1</td></tr>",
                            "<tr><td>Shield Dust</td><td>Gen1</td></tr>",
                            "<tr><td>Simple</td><td>Gen3</td></tr>",
                            "<tr><td>Skill Link</td><td>Gen1</td></tr>",
                            "<tr><td>Sniper</td><td>Gen1</td></tr>",
                            "<tr><td>Snow Cloak</td><td>Gen1</td></tr>",
                            "<tr><td>Solar Power</td><td>Gen1</td></tr>",
                            "<tr><td>Solid Rock</td><td>Gen3</td></tr>",
                            "<tr><td>Soundproof</td><td>Gen1</td></tr>",
                            "<tr><td>Speed Boost</td><td>Gen2</td></tr>",
                            "<tr><td>Stall</td><td>Gen3</td></tr>",
                            "<tr><td>Static</td><td>Gen1</td></tr>",
                            "<tr><td>Steadfast</td><td>Gen1</td></tr>",
                            "<tr><td>Stench</td><td>Gen1</td></tr>",
                            "<tr><td>Sticky Hold</td><td>Gen1</td></tr>",
                            "<tr><td>Storm Drain</td><td>Gen3</td></tr>",
                            "<tr><td>Sturdy</td><td>Gen1</td></tr>",
                            "<tr><td>Suction Cups</td><td>Gen2</td></tr>",
                            "<tr><td>Super Luck</td><td>Gen2</td></tr>",
                            "<tr><td>Swarm</td><td>Gen1</td></tr>",
                            "<tr><td>Swift Swim</td><td>Gen1</td></tr>",
                            "<tr><td>Synchronize</td><td>Gen1</td></tr>",
                            "<tr><td>Tangled Feet</td><td>Gen1</td></tr>",
                            "<tr><td>Technician</td><td>Gen1</td></tr>",
                            "<tr><td>Telepathy</td><td>Gen2</td></tr>",
                            "<tr><td>Thick Fat</td><td>Gen1</td></tr>",
                            "<tr><td>Tinted Lens</td><td>Gen1</td></tr>",
                            "<tr><td>Torrent</td><td>Gen1</td></tr>",
                            "<tr><td>Toxic Boost</td><td>Gen3</td></tr>",
                            "<tr><td>Trace</td><td>Gen1</td></tr>",
                            "<tr><td>Truant</td><td>Gen3</td></tr>",
                            "<tr><td>Unaware</td><td>Gen2</td></tr>",
                            "<tr><td>Unburden</td><td>Gen1</td></tr>",
                            "<tr><td>Unnerve</td><td>Gen1</td></tr>",
                            "<tr><td>Vital Spirit</td><td>Gen1</td></tr>",
                            "<tr><td>Volt Absorb</td><td>Gen1</td></tr>",
                            "<tr><td>Water Absorb</td><td>Gen1</td></tr>",
                            "<tr><td>Water Veil</td><td>Gen1</td></tr>",
                            "<tr><td>Weak Amour</td><td>Gen1</td></tr>",
                            "<tr><td>Weak Armor</td><td>Gen1</td></tr>",
                            "<tr><td>White Smoke</td><td>Gen3</td></tr>",
                            "<tr><td>Wind Rider</td><td>Gen3</td></tr>",
                            "<tr><td>Wonder Guard</td><td>Gen3</td></tr>",
                            "<tr><td>Wonder Skin</td><td>Gen1</td></tr>",
                            "</table>"
                        ]
                    }
                }
            ],
            "execution_count": 13
        },
        {
            "cell_type": "markdown",
            "source": [
                "**QUERY 8**\n",
                "\n",
                "**Problem:**  write an SQL query that lists each product that has a unit price above the average unit price within its category\n",
                "\n",
                "**Tables:** \n",
                "\n",
                "Production.Product\n",
                "\n",
                "Production.category\n",
                "\n",
                "**Columns:**   \n",
                "\n",
                "Product\n",
                "\n",
                "> ProductID\n",
                "> \n",
                "> ProductName\n",
                "> \n",
                "> UnitPrice\n",
                "> \n",
                "> CategoryID\n",
                "\n",
                "Category\n",
                "\n",
                "> CategoryName\n",
                "> \n",
                "> CategoryID\n",
                "\n",
                "**Predicate:**\n",
                "\n",
                "The WHERE clause specifies the condition for the products to be selected: p.UnitPrice \\> (SELECT AVG(UnitPrice) FROM Production.Product WHERE CategoryID = p.CategoryID). This means that only those products whose UnitPrice is greater than the average UnitPrice of all products within the same category (as determined by CategoryID) are selected. \n",
                "\n",
                "The query uses an inner join between the Production.Product and Production.Category tables on their CategoryID fields to associate each product with its category name. \n",
                "\n",
                "Finally, the ORDER BY clause orders the results first by CategoryName (alphabetically) and then by UnitPrice in descending order, within each category."
            ],
            "metadata": {
                "language": "sql",
                "azdata_cell_guid": "9a966f3c-1ed6-4ad0-9575-effcffea4513"
            },
            "attachments": {}
        },
        {
            "cell_type": "code",
            "source": [
                "--write an SQL query that lists each product that has a unit price above the average unit price within its category\n",
                "USE Northwinds2022TSQLV7; \n",
                "SELECT p.ProductID, p.ProductName, p.UnitPrice, c.CategoryName\n",
                "FROM Production.Product p\n",
                "INNER JOIN Production.Category c ON p.CategoryID = c.CategoryID\n",
                "WHERE p.UnitPrice > (\n",
                "    SELECT AVG(UnitPrice)\n",
                "    FROM Production.Product\n",
                "    WHERE CategoryID = p.CategoryID\n",
                ")\n",
                "ORDER BY c.CategoryName, p.UnitPrice DESC;"
            ],
            "metadata": {
                "language": "sql",
                "azdata_cell_guid": "b19e72b6-2183-41c3-beb2-00a70d1e252e"
            },
            "outputs": [],
            "execution_count": null
        },
        {
            "cell_type": "markdown",
            "source": [
                "**QUERY 9**\n",
                "\n",
                "**Problem:**  find the average unit price of products in each category, displaying the category name and the average price, sorted by average price \n",
                "\n",
                "**Tables:** \n",
                "\n",
                "Production.Product\n",
                "\n",
                "Production.category\n",
                "\n",
                "**Columns:** \n",
                "\n",
                "Product\n",
                "\n",
                "> UnitPrice\n",
                "> \n",
                "> CategoryID\n",
                "\n",
                "Category\n",
                "\n",
                "> CategoryName\n",
                "> \n",
                "> CategoryID\n",
                "\n",
                "**Predicate:**\n",
                "\n",
                "The core of this query involves calculating the average UnitPrice for products within each CategoryName, facilitated by a JOIN operation between the Product and Category tables on the CategoryID field. This join ensures that each product is correctly associated with its category. \n",
                "\n",
                "<span style=\"color: var(--vscode-foreground); font-family: -apple-system, BlinkMacSystemFont, sans-serif;\">The GROUP BY c.CategoryName clause groups the products by their category name, which is necessary for the AVG(p.UnitPrice) function to calculate the average unit price per category.&nbsp;</span> \n",
                "\n",
                "<span style=\"color: var(--vscode-foreground); font-family: -apple-system, BlinkMacSystemFont, sans-serif;\">The ORDER BY AveragePrice DESC clause orders the results by the calculated average unit price in descending order, allowing users to see the categories with the highest average product prices first.</span>"
            ],
            "metadata": {
                "language": "sql",
                "azdata_cell_guid": "41195277-6206-413f-bfab-f6c7c275937b"
            },
            "attachments": {}
        },
        {
            "cell_type": "code",
            "source": [
                "USE Northwinds2022TSQLV7;\n",
                "SELECT c.CategoryName, AVG(p.UnitPrice) AS AveragePrice\n",
                "FROM Production.Product p\n",
                "JOIN Production.Category c ON p.CategoryID = c.CategoryID\n",
                "GROUP BY c.CategoryName\n",
                "ORDER BY AveragePrice DESC;"
            ],
            "metadata": {
                "language": "sql",
                "azdata_cell_guid": "7dd07d83-334f-44ee-ae37-e7a45716823a"
            },
            "outputs": [],
            "execution_count": null
        },
        {
            "cell_type": "markdown",
            "source": [
                "**QUERY 10**\n",
                "\n",
                "**Problem:** calculating the total order amount for each customer and displaying those who have spent more than $100000,\n",
                "\n",
                "**Tables:**   \n",
                "Sales.Order\n",
                "\n",
                "Sales.OrderDetail\n",
                "\n",
                "**Columns:** \n",
                "\n",
                "Order\n",
                "\n",
                "> CustomerID\n",
                "\n",
                "OrderDetail\n",
                "\n",
                "> UnitPrice\n",
                "> \n",
                "> Quantity\n",
                "\n",
                "**Predicate:**\n",
                "\n",
                "The JOIN operation links the Sales.\\[Order\\] and Sales.OrderDetail tables on their OrderID fields, ensuring that the details of each order are correctly matched with the order's metadata (including the customer ID). \n",
                "\n",
                "The GROUP BY o.CustomerID clause aggregates the results by customer, which is necessary for the SUM function to calculate the total amount spent per customer. \n",
                "\n",
                "The HAVING SUM(od.UnitPrice \\* od.Quantity) \\> 100000 clause filters the grouped results to include only those customers whose total spending exceeds 100,000 units of currency. This is a critical part of the query that focuses on high-spending customers. \n",
                "\n",
                "Finally, the ORDER BY TotalSpent DESC clause sorts the results by the calculated TotalSpent in descending order, allowing users to easily identify the highest spending customers first."
            ],
            "metadata": {
                "language": "sql",
                "azdata_cell_guid": "9612d475-d3e2-4dfe-9206-bb09015e641c"
            },
            "attachments": {}
        },
        {
            "cell_type": "code",
            "source": [
                "USE Northwinds2022TSQLV7; \n",
                "SELECT o.CustomerID, SUM(od.UnitPrice * od.Quantity) AS TotalSpent\n",
                "FROM Sales.[Order] o\n",
                "JOIN Sales.OrderDetail od ON o.OrderID = od.OrderID\n",
                "GROUP BY o.CustomerID\n",
                "HAVING SUM(od.UnitPrice * od.Quantity) > 100000\n",
                "ORDER BY TotalSpent DESC;"
            ],
            "metadata": {
                "language": "sql",
                "azdata_cell_guid": "a5996d18-2cf2-4ed4-8c44-8a9b2173a466"
            },
            "outputs": [],
            "execution_count": null
        },
        {
            "cell_type": "markdown",
            "source": [
                "**QUERY 11**\n",
                "\n",
                "**Problem:**  listing all products that have never been ordered\n",
                "\n",
                "**Tables:** \n",
                "\n",
                "Production.Product\n",
                "\n",
                "<span style=\"font-family: -apple-system, BlinkMacSystemFont, sans-serif; color: var(--vscode-foreground);\">Sales.OrderDetail</span>  \n",
                "\n",
                "**Columns:** \n",
                "\n",
                "Product\n",
                "\n",
                "> ProductID\n",
                "> \n",
                "> ProductName\n",
                "\n",
                "  \n",
                "\n",
                "**Predicate:**\n",
                "\n",
                "The WHERE NOT EXISTS clause is the core predicate of this query. It filters the list of products to include only those for which no corresponding entry exists in the Sales.OrderDetail table. This is determined by checking if the ProductID of the product from Production.Product does not match any ProductID in Sales.OrderDetail."
            ],
            "metadata": {
                "language": "sql",
                "azdata_cell_guid": "94104db8-e215-4bf8-9537-644f36484d2e"
            },
            "attachments": {}
        },
        {
            "cell_type": "code",
            "source": [
                "-- listing all products that have never been ordered\n",
                "USE Northwinds2022TSQLV7; \n",
                "SELECT p.ProductID, p.ProductName\n",
                "FROM Production.Product p\n",
                "WHERE NOT EXISTS (\n",
                "    SELECT 1\n",
                "    FROM Sales.OrderDetail od\n",
                "    WHERE p.ProductID = od.ProductID\n",
                ");\n",
                ""
            ],
            "metadata": {
                "language": "sql",
                "azdata_cell_guid": "1627242f-d484-47c0-b29f-cbba2f2de1f0"
            },
            "outputs": [],
            "execution_count": null
        },
        {
            "cell_type": "markdown",
            "source": [
                "**QUERY 12**\n",
                "\n",
                "**Problem:**   find the average price of products in each category\n",
                "\n",
                "**Tables:** \n",
                "\n",
                "Production.Product\n",
                "\n",
                "Production.Cateogory\n",
                "\n",
                "**Columns:** \n",
                "\n",
                "Product\n",
                "\n",
                "> UnitPrice\n",
                "> \n",
                "> CategoryID\n",
                "> \n",
                "> ProductID\n",
                "\n",
                "Category\n",
                "\n",
                "> <span style=\"font-family: -apple-system, BlinkMacSystemFont, sans-serif; color: var(--vscode-foreground);\">CategoryName</span>\n",
                "\n",
                "**Predicate:**\n",
                "\n",
                "The JOIN clause creates a connection between the Product and Category tables on the CategoryID field, ensuring each product is matched with its category name for the aggregation. \n",
                "\n",
                "The GROUP BY c.CategoryName clause groups the results by category name, allowing the AVG(p.UnitPrice) function to calculate the average price for products within each category. \n",
                "\n",
                "The HAVING COUNT(p.ProductID) \\> 5 clause further filters these grouped results to include only those categories that have more than 5 products. This condition ensures that the query focuses on categories with a significant number of products, potentially excluding niche or less populated categories. \n",
                "\n",
                "Finally, the ORDER BY AveragePrice ASC clause sorts the categories by their calculated average product price in ascending order, from the lowest to the highest average price."
            ],
            "metadata": {
                "language": "sql",
                "azdata_cell_guid": "8bec8368-dda4-4bf3-bc14-2d3e67b4af01"
            },
            "attachments": {}
        },
        {
            "cell_type": "code",
            "source": [
                "-- find the average price of products in each category\n",
                "USE Northwinds2022TSQLV7;\n",
                "SELECT c.CategoryName, AVG(p.UnitPrice) AS AveragePrice\n",
                "FROM Production.Product p\n",
                "JOIN Production.Category c ON p.CategoryID = c.CategoryID\n",
                "GROUP BY c.CategoryName\n",
                "HAVING COUNT(p.ProductID) > 5\n",
                "ORDER BY AveragePrice ASC;"
            ],
            "metadata": {
                "language": "sql",
                "azdata_cell_guid": "e2b72853-8c5b-45df-9a22-9dfd97797107"
            },
            "outputs": [],
            "execution_count": null
        },
        {
            "cell_type": "markdown",
            "source": [
                "**QUERY 13**\n",
                "\n",
                "**Problem:** calculating the total sales for each month and year\n",
                "\n",
                "**Tables:** \n",
                "\n",
                "<span style=\"font-family: -apple-system, BlinkMacSystemFont, sans-serif; color: var(--vscode-foreground);\">Sales.Order</span>\n",
                "\n",
                "<span style=\"font-family: -apple-system, BlinkMacSystemFont, sans-serif; color: var(--vscode-foreground);\">Sales.OrderDetail</span>\n",
                "\n",
                "**Columns:**   \n",
                "\n",
                "Order\n",
                "\n",
                "> OrderDate\n",
                "\n",
                "OrderDetial\n",
                "\n",
                "> Quantity\n",
                "> \n",
                "> UnitPrice\n",
                "\n",
                "**Predicate:**\n",
                "\n",
                "The query groups the results by YEAR(o.OrderDate) and MONTH(o.OrderDate) to aggregate sales data by month and year, ensuring that sales are correctly summed up within these periods. \n",
                "\n",
                "The ORDER BY OrderYear, OrderMonth clause orders the results chronologically, starting from the earliest year and month to the latest, making it easy to track sales trends over time."
            ],
            "metadata": {
                "language": "sql",
                "azdata_cell_guid": "38579e37-9157-42d2-9663-c1c2a0f81be3"
            },
            "attachments": {}
        },
        {
            "cell_type": "code",
            "source": [
                "--calculating the total sales for each month and year\n",
                "USE Northwinds2022TSQLV7;\n",
                "SELECT\n",
                "    YEAR(o.OrderDate) AS OrderYear,\n",
                "    MONTH(o.OrderDate) AS OrderMonth,\n",
                "    SUM(od.Quantity * od.UnitPrice) AS TotalSales\n",
                "FROM Sales.[Order] o\n",
                "JOIN Sales.OrderDetail od ON o.OrderID = od.OrderID\n",
                "GROUP BY YEAR(o.OrderDate), MONTH(o.OrderDate)\n",
                "ORDER BY OrderYear, OrderMonth;\n",
                ""
            ],
            "metadata": {
                "language": "sql",
                "azdata_cell_guid": "3f53b50c-e0cb-4ee4-a347-ccff261613e0"
            },
            "outputs": [],
            "execution_count": null
        },
        {
            "cell_type": "markdown",
            "source": [
                "**QUERY 14 WORST CODE 2**\n",
                "\n",
                "**Problem:** how many orders each customer has placed in each year\n",
                "\n",
                "**Tables:** \n",
                "\n",
                "<span style=\"font-family: -apple-system, BlinkMacSystemFont, sans-serif; color: var(--vscode-foreground);\">Sales.Order</span>\n",
                "\n",
                "**Columns:** \n",
                "\n",
                "Order\n",
                "\n",
                "> CustomerID\n",
                "> \n",
                "> OrderDate\n",
                "> \n",
                "> OrderID\n",
                "\n",
                "**Predicate:**\n",
                "\n",
                "The query groups the results by CustomerID and YEAR(OrderDate) to ensure that the count of orders is calculated separately for each customer in each year. \n",
                "\n",
                "The ORDER BY CustomerID, OrderYear clause sorts the results first by CustomerID to group all years for a customer together, and then by OrderYear to arrange those years in ascending order."
            ],
            "metadata": {
                "language": "sql",
                "azdata_cell_guid": "9e0fbab4-64d5-42ad-9b92-8fd8b7f8e879"
            },
            "attachments": {}
        },
        {
            "cell_type": "code",
            "source": [
                "--how many orders each customer has placed in each year\n",
                "USE Northwinds2022TSQLV7; \n",
                "SELECT \n",
                "    CustomerID, \n",
                "    YEAR(OrderDate) AS OrderYear, \n",
                "    COUNT(OrderID) AS NumberOfOrders\n",
                "FROM Sales.[Order]\n",
                "GROUP BY CustomerID, YEAR(OrderDate)\n",
                "ORDER BY CustomerID, OrderYear;\n",
                ""
            ],
            "metadata": {
                "language": "sql",
                "azdata_cell_guid": "6afc7e13-b4a4-4e52-b6a0-16cc9aba0918"
            },
            "outputs": [
                {
                    "output_type": "display_data",
                    "data": {
                        "text/html": "(234 rows affected)"
                    },
                    "metadata": {}
                },
                {
                    "output_type": "display_data",
                    "data": {
                        "text/html": "Total execution time: 00:00:00.015"
                    },
                    "metadata": {}
                },
                {
                    "output_type": "execute_result",
                    "metadata": {},
                    "execution_count": 5,
                    "data": {
                        "application/vnd.dataresource+json": {
                            "schema": {
                                "fields": [
                                    {
                                        "name": "CustomerID"
                                    },
                                    {
                                        "name": "OrderYear"
                                    },
                                    {
                                        "name": "NumberOfOrders"
                                    }
                                ]
                            },
                            "data": [
                                {
                                    "CustomerID": "1",
                                    "OrderYear": "2015",
                                    "NumberOfOrders": "3"
                                },
                                {
                                    "CustomerID": "1",
                                    "OrderYear": "2016",
                                    "NumberOfOrders": "3"
                                },
                                {
                                    "CustomerID": "2",
                                    "OrderYear": "2014",
                                    "NumberOfOrders": "1"
                                },
                                {
                                    "CustomerID": "2",
                                    "OrderYear": "2015",
                                    "NumberOfOrders": "2"
                                },
                                {
                                    "CustomerID": "2",
                                    "OrderYear": "2016",
                                    "NumberOfOrders": "1"
                                },
                                {
                                    "CustomerID": "3",
                                    "OrderYear": "2014",
                                    "NumberOfOrders": "1"
                                },
                                {
                                    "CustomerID": "3",
                                    "OrderYear": "2015",
                                    "NumberOfOrders": "5"
                                },
                                {
                                    "CustomerID": "3",
                                    "OrderYear": "2016",
                                    "NumberOfOrders": "1"
                                },
                                {
                                    "CustomerID": "4",
                                    "OrderYear": "2014",
                                    "NumberOfOrders": "2"
                                },
                                {
                                    "CustomerID": "4",
                                    "OrderYear": "2015",
                                    "NumberOfOrders": "7"
                                },
                                {
                                    "CustomerID": "4",
                                    "OrderYear": "2016",
                                    "NumberOfOrders": "4"
                                },
                                {
                                    "CustomerID": "5",
                                    "OrderYear": "2014",
                                    "NumberOfOrders": "3"
                                },
                                {
                                    "CustomerID": "5",
                                    "OrderYear": "2015",
                                    "NumberOfOrders": "10"
                                },
                                {
                                    "CustomerID": "5",
                                    "OrderYear": "2016",
                                    "NumberOfOrders": "5"
                                },
                                {
                                    "CustomerID": "6",
                                    "OrderYear": "2015",
                                    "NumberOfOrders": "4"
                                },
                                {
                                    "CustomerID": "6",
                                    "OrderYear": "2016",
                                    "NumberOfOrders": "3"
                                },
                                {
                                    "CustomerID": "7",
                                    "OrderYear": "2014",
                                    "NumberOfOrders": "3"
                                },
                                {
                                    "CustomerID": "7",
                                    "OrderYear": "2015",
                                    "NumberOfOrders": "7"
                                },
                                {
                                    "CustomerID": "7",
                                    "OrderYear": "2016",
                                    "NumberOfOrders": "1"
                                },
                                {
                                    "CustomerID": "8",
                                    "OrderYear": "2014",
                                    "NumberOfOrders": "1"
                                },
                                {
                                    "CustomerID": "8",
                                    "OrderYear": "2015",
                                    "NumberOfOrders": "1"
                                },
                                {
                                    "CustomerID": "8",
                                    "OrderYear": "2016",
                                    "NumberOfOrders": "1"
                                },
                                {
                                    "CustomerID": "9",
                                    "OrderYear": "2014",
                                    "NumberOfOrders": "3"
                                },
                                {
                                    "CustomerID": "9",
                                    "OrderYear": "2015",
                                    "NumberOfOrders": "8"
                                },
                                {
                                    "CustomerID": "9",
                                    "OrderYear": "2016",
                                    "NumberOfOrders": "6"
                                },
                                {
                                    "CustomerID": "10",
                                    "OrderYear": "2014",
                                    "NumberOfOrders": "1"
                                },
                                {
                                    "CustomerID": "10",
                                    "OrderYear": "2015",
                                    "NumberOfOrders": "5"
                                },
                                {
                                    "CustomerID": "10",
                                    "OrderYear": "2016",
                                    "NumberOfOrders": "8"
                                },
                                {
                                    "CustomerID": "11",
                                    "OrderYear": "2014",
                                    "NumberOfOrders": "1"
                                },
                                {
                                    "CustomerID": "11",
                                    "OrderYear": "2015",
                                    "NumberOfOrders": "6"
                                },
                                {
                                    "CustomerID": "11",
                                    "OrderYear": "2016",
                                    "NumberOfOrders": "3"
                                },
                                {
                                    "CustomerID": "12",
                                    "OrderYear": "2015",
                                    "NumberOfOrders": "2"
                                },
                                {
                                    "CustomerID": "12",
                                    "OrderYear": "2016",
                                    "NumberOfOrders": "4"
                                },
                                {
                                    "CustomerID": "13",
                                    "OrderYear": "2014",
                                    "NumberOfOrders": "1"
                                },
                                {
                                    "CustomerID": "14",
                                    "OrderYear": "2014",
                                    "NumberOfOrders": "2"
                                },
                                {
                                    "CustomerID": "14",
                                    "OrderYear": "2015",
                                    "NumberOfOrders": "3"
                                },
                                {
                                    "CustomerID": "14",
                                    "OrderYear": "2016",
                                    "NumberOfOrders": "3"
                                },
                                {
                                    "CustomerID": "15",
                                    "OrderYear": "2014",
                                    "NumberOfOrders": "1"
                                },
                                {
                                    "CustomerID": "15",
                                    "OrderYear": "2015",
                                    "NumberOfOrders": "2"
                                },
                                {
                                    "CustomerID": "15",
                                    "OrderYear": "2016",
                                    "NumberOfOrders": "2"
                                },
                                {
                                    "CustomerID": "16",
                                    "OrderYear": "2015",
                                    "NumberOfOrders": "2"
                                },
                                {
                                    "CustomerID": "16",
                                    "OrderYear": "2016",
                                    "NumberOfOrders": "1"
                                },
                                {
                                    "CustomerID": "17",
                                    "OrderYear": "2014",
                                    "NumberOfOrders": "2"
                                },
                                {
                                    "CustomerID": "17",
                                    "OrderYear": "2015",
                                    "NumberOfOrders": "1"
                                },
                                {
                                    "CustomerID": "17",
                                    "OrderYear": "2016",
                                    "NumberOfOrders": "3"
                                },
                                {
                                    "CustomerID": "18",
                                    "OrderYear": "2014",
                                    "NumberOfOrders": "1"
                                },
                                {
                                    "CustomerID": "18",
                                    "OrderYear": "2015",
                                    "NumberOfOrders": "2"
                                },
                                {
                                    "CustomerID": "18",
                                    "OrderYear": "2016",
                                    "NumberOfOrders": "1"
                                },
                                {
                                    "CustomerID": "19",
                                    "OrderYear": "2014",
                                    "NumberOfOrders": "1"
                                },
                                {
                                    "CustomerID": "19",
                                    "OrderYear": "2015",
                                    "NumberOfOrders": "3"
                                },
                                {
                                    "CustomerID": "19",
                                    "OrderYear": "2016",
                                    "NumberOfOrders": "4"
                                },
                                {
                                    "CustomerID": "20",
                                    "OrderYear": "2014",
                                    "NumberOfOrders": "6"
                                },
                                {
                                    "CustomerID": "20",
                                    "OrderYear": "2015",
                                    "NumberOfOrders": "15"
                                },
                                {
                                    "CustomerID": "20",
                                    "OrderYear": "2016",
                                    "NumberOfOrders": "9"
                                },
                                {
                                    "CustomerID": "21",
                                    "OrderYear": "2014",
                                    "NumberOfOrders": "2"
                                },
                                {
                                    "CustomerID": "21",
                                    "OrderYear": "2015",
                                    "NumberOfOrders": "5"
                                },
                                {
                                    "CustomerID": "23",
                                    "OrderYear": "2015",
                                    "NumberOfOrders": "5"
                                },
                                {
                                    "CustomerID": "24",
                                    "OrderYear": "2014",
                                    "NumberOfOrders": "3"
                                },
                                {
                                    "CustomerID": "24",
                                    "OrderYear": "2015",
                                    "NumberOfOrders": "7"
                                },
                                {
                                    "CustomerID": "24",
                                    "OrderYear": "2016",
                                    "NumberOfOrders": "9"
                                },
                                {
                                    "CustomerID": "25",
                                    "OrderYear": "2014",
                                    "NumberOfOrders": "4"
                                },
                                {
                                    "CustomerID": "25",
                                    "OrderYear": "2015",
                                    "NumberOfOrders": "8"
                                },
                                {
                                    "CustomerID": "25",
                                    "OrderYear": "2016",
                                    "NumberOfOrders": "3"
                                },
                                {
                                    "CustomerID": "26",
                                    "OrderYear": "2015",
                                    "NumberOfOrders": "1"
                                },
                                {
                                    "CustomerID": "26",
                                    "OrderYear": "2016",
                                    "NumberOfOrders": "2"
                                },
                                {
                                    "CustomerID": "27",
                                    "OrderYear": "2015",
                                    "NumberOfOrders": "4"
                                },
                                {
                                    "CustomerID": "27",
                                    "OrderYear": "2016",
                                    "NumberOfOrders": "2"
                                },
                                {
                                    "CustomerID": "28",
                                    "OrderYear": "2014",
                                    "NumberOfOrders": "2"
                                },
                                {
                                    "CustomerID": "28",
                                    "OrderYear": "2015",
                                    "NumberOfOrders": "5"
                                },
                                {
                                    "CustomerID": "28",
                                    "OrderYear": "2016",
                                    "NumberOfOrders": "1"
                                },
                                {
                                    "CustomerID": "29",
                                    "OrderYear": "2014",
                                    "NumberOfOrders": "1"
                                },
                                {
                                    "CustomerID": "29",
                                    "OrderYear": "2015",
                                    "NumberOfOrders": "2"
                                },
                                {
                                    "CustomerID": "29",
                                    "OrderYear": "2016",
                                    "NumberOfOrders": "2"
                                },
                                {
                                    "CustomerID": "30",
                                    "OrderYear": "2014",
                                    "NumberOfOrders": "1"
                                },
                                {
                                    "CustomerID": "30",
                                    "OrderYear": "2015",
                                    "NumberOfOrders": "2"
                                },
                                {
                                    "CustomerID": "30",
                                    "OrderYear": "2016",
                                    "NumberOfOrders": "7"
                                },
                                {
                                    "CustomerID": "31",
                                    "OrderYear": "2015",
                                    "NumberOfOrders": "7"
                                },
                                {
                                    "CustomerID": "31",
                                    "OrderYear": "2016",
                                    "NumberOfOrders": "2"
                                },
                                {
                                    "CustomerID": "32",
                                    "OrderYear": "2015",
                                    "NumberOfOrders": "6"
                                },
                                {
                                    "CustomerID": "32",
                                    "OrderYear": "2016",
                                    "NumberOfOrders": "5"
                                },
                                {
                                    "CustomerID": "33",
                                    "OrderYear": "2014",
                                    "NumberOfOrders": "1"
                                },
                                {
                                    "CustomerID": "33",
                                    "OrderYear": "2015",
                                    "NumberOfOrders": "1"
                                },
                                {
                                    "CustomerID": "34",
                                    "OrderYear": "2014",
                                    "NumberOfOrders": "2"
                                },
                                {
                                    "CustomerID": "34",
                                    "OrderYear": "2015",
                                    "NumberOfOrders": "5"
                                },
                                {
                                    "CustomerID": "34",
                                    "OrderYear": "2016",
                                    "NumberOfOrders": "7"
                                },
                                {
                                    "CustomerID": "35",
                                    "OrderYear": "2014",
                                    "NumberOfOrders": "2"
                                },
                                {
                                    "CustomerID": "35",
                                    "OrderYear": "2015",
                                    "NumberOfOrders": "10"
                                },
                                {
                                    "CustomerID": "35",
                                    "OrderYear": "2016",
                                    "NumberOfOrders": "6"
                                },
                                {
                                    "CustomerID": "36",
                                    "OrderYear": "2014",
                                    "NumberOfOrders": "2"
                                },
                                {
                                    "CustomerID": "36",
                                    "OrderYear": "2015",
                                    "NumberOfOrders": "3"
                                },
                                {
                                    "CustomerID": "37",
                                    "OrderYear": "2014",
                                    "NumberOfOrders": "5"
                                },
                                {
                                    "CustomerID": "37",
                                    "OrderYear": "2015",
                                    "NumberOfOrders": "10"
                                },
                                {
                                    "CustomerID": "37",
                                    "OrderYear": "2016",
                                    "NumberOfOrders": "4"
                                },
                                {
                                    "CustomerID": "38",
                                    "OrderYear": "2014",
                                    "NumberOfOrders": "3"
                                },
                                {
                                    "CustomerID": "38",
                                    "OrderYear": "2015",
                                    "NumberOfOrders": "5"
                                },
                                {
                                    "CustomerID": "38",
                                    "OrderYear": "2016",
                                    "NumberOfOrders": "2"
                                },
                                {
                                    "CustomerID": "39",
                                    "OrderYear": "2014",
                                    "NumberOfOrders": "2"
                                },
                                {
                                    "CustomerID": "39",
                                    "OrderYear": "2015",
                                    "NumberOfOrders": "8"
                                },
                                {
                                    "CustomerID": "39",
                                    "OrderYear": "2016",
                                    "NumberOfOrders": "4"
                                },
                                {
                                    "CustomerID": "40",
                                    "OrderYear": "2016",
                                    "NumberOfOrders": "4"
                                },
                                {
                                    "CustomerID": "41",
                                    "OrderYear": "2014",
                                    "NumberOfOrders": "3"
                                },
                                {
                                    "CustomerID": "41",
                                    "OrderYear": "2015",
                                    "NumberOfOrders": "8"
                                },
                                {
                                    "CustomerID": "41",
                                    "OrderYear": "2016",
                                    "NumberOfOrders": "3"
                                },
                                {
                                    "CustomerID": "42",
                                    "OrderYear": "2015",
                                    "NumberOfOrders": "2"
                                },
                                {
                                    "CustomerID": "42",
                                    "OrderYear": "2016",
                                    "NumberOfOrders": "1"
                                },
                                {
                                    "CustomerID": "43",
                                    "OrderYear": "2015",
                                    "NumberOfOrders": "2"
                                },
                                {
                                    "CustomerID": "44",
                                    "OrderYear": "2014",
                                    "NumberOfOrders": "3"
                                },
                                {
                                    "CustomerID": "44",
                                    "OrderYear": "2015",
                                    "NumberOfOrders": "8"
                                },
                                {
                                    "CustomerID": "44",
                                    "OrderYear": "2016",
                                    "NumberOfOrders": "4"
                                },
                                {
                                    "CustomerID": "45",
                                    "OrderYear": "2015",
                                    "NumberOfOrders": "3"
                                },
                                {
                                    "CustomerID": "45",
                                    "OrderYear": "2016",
                                    "NumberOfOrders": "1"
                                },
                                {
                                    "CustomerID": "46",
                                    "OrderYear": "2014",
                                    "NumberOfOrders": "5"
                                },
                                {
                                    "CustomerID": "46",
                                    "OrderYear": "2015",
                                    "NumberOfOrders": "4"
                                },
                                {
                                    "CustomerID": "46",
                                    "OrderYear": "2016",
                                    "NumberOfOrders": "5"
                                },
                                {
                                    "CustomerID": "47",
                                    "OrderYear": "2015",
                                    "NumberOfOrders": "5"
                                },
                                {
                                    "CustomerID": "47",
                                    "OrderYear": "2016",
                                    "NumberOfOrders": "7"
                                },
                                {
                                    "CustomerID": "48",
                                    "OrderYear": "2014",
                                    "NumberOfOrders": "2"
                                },
                                {
                                    "CustomerID": "48",
                                    "OrderYear": "2015",
                                    "NumberOfOrders": "3"
                                },
                                {
                                    "CustomerID": "48",
                                    "OrderYear": "2016",
                                    "NumberOfOrders": "3"
                                },
                                {
                                    "CustomerID": "49",
                                    "OrderYear": "2014",
                                    "NumberOfOrders": "2"
                                },
                                {
                                    "CustomerID": "49",
                                    "OrderYear": "2015",
                                    "NumberOfOrders": "5"
                                },
                                {
                                    "CustomerID": "49",
                                    "OrderYear": "2016",
                                    "NumberOfOrders": "3"
                                },
                                {
                                    "CustomerID": "50",
                                    "OrderYear": "2015",
                                    "NumberOfOrders": "3"
                                },
                                {
                                    "CustomerID": "50",
                                    "OrderYear": "2016",
                                    "NumberOfOrders": "4"
                                },
                                {
                                    "CustomerID": "51",
                                    "OrderYear": "2014",
                                    "NumberOfOrders": "3"
                                },
                                {
                                    "CustomerID": "51",
                                    "OrderYear": "2015",
                                    "NumberOfOrders": "10"
                                },
                                {
                                    "CustomerID": "52",
                                    "OrderYear": "2014",
                                    "NumberOfOrders": "1"
                                },
                                {
                                    "CustomerID": "52",
                                    "OrderYear": "2015",
                                    "NumberOfOrders": "3"
                                },
                                {
                                    "CustomerID": "52",
                                    "OrderYear": "2016",
                                    "NumberOfOrders": "1"
                                },
                                {
                                    "CustomerID": "53",
                                    "OrderYear": "2015",
                                    "NumberOfOrders": "2"
                                },
                                {
                                    "CustomerID": "53",
                                    "OrderYear": "2016",
                                    "NumberOfOrders": "1"
                                },
                                {
                                    "CustomerID": "54",
                                    "OrderYear": "2015",
                                    "NumberOfOrders": "2"
                                },
                                {
                                    "CustomerID": "54",
                                    "OrderYear": "2016",
                                    "NumberOfOrders": "3"
                                },
                                {
                                    "CustomerID": "55",
                                    "OrderYear": "2014",
                                    "NumberOfOrders": "2"
                                },
                                {
                                    "CustomerID": "55",
                                    "OrderYear": "2015",
                                    "NumberOfOrders": "4"
                                },
                                {
                                    "CustomerID": "55",
                                    "OrderYear": "2016",
                                    "NumberOfOrders": "4"
                                },
                                {
                                    "CustomerID": "56",
                                    "OrderYear": "2014",
                                    "NumberOfOrders": "1"
                                },
                                {
                                    "CustomerID": "56",
                                    "OrderYear": "2015",
                                    "NumberOfOrders": "6"
                                },
                                {
                                    "CustomerID": "56",
                                    "OrderYear": "2016",
                                    "NumberOfOrders": "3"
                                },
                                {
                                    "CustomerID": "58",
                                    "OrderYear": "2014",
                                    "NumberOfOrders": "2"
                                },
                                {
                                    "CustomerID": "58",
                                    "OrderYear": "2015",
                                    "NumberOfOrders": "2"
                                },
                                {
                                    "CustomerID": "58",
                                    "OrderYear": "2016",
                                    "NumberOfOrders": "2"
                                },
                                {
                                    "CustomerID": "59",
                                    "OrderYear": "2014",
                                    "NumberOfOrders": "2"
                                },
                                {
                                    "CustomerID": "59",
                                    "OrderYear": "2015",
                                    "NumberOfOrders": "6"
                                },
                                {
                                    "CustomerID": "59",
                                    "OrderYear": "2016",
                                    "NumberOfOrders": "2"
                                },
                                {
                                    "CustomerID": "60",
                                    "OrderYear": "2014",
                                    "NumberOfOrders": "2"
                                },
                                {
                                    "CustomerID": "60",
                                    "OrderYear": "2015",
                                    "NumberOfOrders": "2"
                                },
                                {
                                    "CustomerID": "60",
                                    "OrderYear": "2016",
                                    "NumberOfOrders": "1"
                                },
                                {
                                    "CustomerID": "61",
                                    "OrderYear": "2014",
                                    "NumberOfOrders": "3"
                                },
                                {
                                    "CustomerID": "61",
                                    "OrderYear": "2015",
                                    "NumberOfOrders": "5"
                                },
                                {
                                    "CustomerID": "61",
                                    "OrderYear": "2016",
                                    "NumberOfOrders": "1"
                                },
                                {
                                    "CustomerID": "62",
                                    "OrderYear": "2014",
                                    "NumberOfOrders": "1"
                                },
                                {
                                    "CustomerID": "62",
                                    "OrderYear": "2015",
                                    "NumberOfOrders": "7"
                                },
                                {
                                    "CustomerID": "62",
                                    "OrderYear": "2016",
                                    "NumberOfOrders": "5"
                                },
                                {
                                    "CustomerID": "63",
                                    "OrderYear": "2014",
                                    "NumberOfOrders": "6"
                                },
                                {
                                    "CustomerID": "63",
                                    "OrderYear": "2015",
                                    "NumberOfOrders": "14"
                                },
                                {
                                    "CustomerID": "63",
                                    "OrderYear": "2016",
                                    "NumberOfOrders": "8"
                                },
                                {
                                    "CustomerID": "64",
                                    "OrderYear": "2015",
                                    "NumberOfOrders": "2"
                                },
                                {
                                    "CustomerID": "64",
                                    "OrderYear": "2016",
                                    "NumberOfOrders": "3"
                                },
                                {
                                    "CustomerID": "65",
                                    "OrderYear": "2014",
                                    "NumberOfOrders": "6"
                                },
                                {
                                    "CustomerID": "65",
                                    "OrderYear": "2015",
                                    "NumberOfOrders": "6"
                                },
                                {
                                    "CustomerID": "65",
                                    "OrderYear": "2016",
                                    "NumberOfOrders": "6"
                                },
                                {
                                    "CustomerID": "66",
                                    "OrderYear": "2014",
                                    "NumberOfOrders": "1"
                                },
                                {
                                    "CustomerID": "66",
                                    "OrderYear": "2015",
                                    "NumberOfOrders": "6"
                                },
                                {
                                    "CustomerID": "66",
                                    "OrderYear": "2016",
                                    "NumberOfOrders": "5"
                                },
                                {
                                    "CustomerID": "67",
                                    "OrderYear": "2014",
                                    "NumberOfOrders": "2"
                                },
                                {
                                    "CustomerID": "67",
                                    "OrderYear": "2015",
                                    "NumberOfOrders": "5"
                                },
                                {
                                    "CustomerID": "67",
                                    "OrderYear": "2016",
                                    "NumberOfOrders": "4"
                                },
                                {
                                    "CustomerID": "68",
                                    "OrderYear": "2014",
                                    "NumberOfOrders": "1"
                                },
                                {
                                    "CustomerID": "68",
                                    "OrderYear": "2015",
                                    "NumberOfOrders": "5"
                                },
                                {
                                    "CustomerID": "68",
                                    "OrderYear": "2016",
                                    "NumberOfOrders": "4"
                                },
                                {
                                    "CustomerID": "69",
                                    "OrderYear": "2014",
                                    "NumberOfOrders": "3"
                                },
                                {
                                    "CustomerID": "69",
                                    "OrderYear": "2016",
                                    "NumberOfOrders": "2"
                                },
                                {
                                    "CustomerID": "70",
                                    "OrderYear": "2014",
                                    "NumberOfOrders": "1"
                                },
                                {
                                    "CustomerID": "70",
                                    "OrderYear": "2015",
                                    "NumberOfOrders": "2"
                                },
                                {
                                    "CustomerID": "70",
                                    "OrderYear": "2016",
                                    "NumberOfOrders": "3"
                                },
                                {
                                    "CustomerID": "71",
                                    "OrderYear": "2014",
                                    "NumberOfOrders": "3"
                                },
                                {
                                    "CustomerID": "71",
                                    "OrderYear": "2015",
                                    "NumberOfOrders": "17"
                                },
                                {
                                    "CustomerID": "71",
                                    "OrderYear": "2016",
                                    "NumberOfOrders": "11"
                                },
                                {
                                    "CustomerID": "72",
                                    "OrderYear": "2014",
                                    "NumberOfOrders": "3"
                                },
                                {
                                    "CustomerID": "72",
                                    "OrderYear": "2015",
                                    "NumberOfOrders": "5"
                                },
                                {
                                    "CustomerID": "72",
                                    "OrderYear": "2016",
                                    "NumberOfOrders": "1"
                                },
                                {
                                    "CustomerID": "73",
                                    "OrderYear": "2014",
                                    "NumberOfOrders": "1"
                                },
                                {
                                    "CustomerID": "73",
                                    "OrderYear": "2015",
                                    "NumberOfOrders": "5"
                                },
                                {
                                    "CustomerID": "73",
                                    "OrderYear": "2016",
                                    "NumberOfOrders": "1"
                                },
                                {
                                    "CustomerID": "74",
                                    "OrderYear": "2015",
                                    "NumberOfOrders": "1"
                                },
                                {
                                    "CustomerID": "74",
                                    "OrderYear": "2016",
                                    "NumberOfOrders": "3"
                                },
                                {
                                    "CustomerID": "75",
                                    "OrderYear": "2014",
                                    "NumberOfOrders": "5"
                                },
                                {
                                    "CustomerID": "75",
                                    "OrderYear": "2015",
                                    "NumberOfOrders": "2"
                                },
                                {
                                    "CustomerID": "75",
                                    "OrderYear": "2016",
                                    "NumberOfOrders": "2"
                                },
                                {
                                    "CustomerID": "76",
                                    "OrderYear": "2014",
                                    "NumberOfOrders": "2"
                                },
                                {
                                    "CustomerID": "76",
                                    "OrderYear": "2015",
                                    "NumberOfOrders": "4"
                                },
                                {
                                    "CustomerID": "76",
                                    "OrderYear": "2016",
                                    "NumberOfOrders": "6"
                                },
                                {
                                    "CustomerID": "77",
                                    "OrderYear": "2014",
                                    "NumberOfOrders": "1"
                                },
                                {
                                    "CustomerID": "77",
                                    "OrderYear": "2015",
                                    "NumberOfOrders": "2"
                                },
                                {
                                    "CustomerID": "77",
                                    "OrderYear": "2016",
                                    "NumberOfOrders": "1"
                                },
                                {
                                    "CustomerID": "78",
                                    "OrderYear": "2015",
                                    "NumberOfOrders": "2"
                                },
                                {
                                    "CustomerID": "78",
                                    "OrderYear": "2016",
                                    "NumberOfOrders": "1"
                                },
                                {
                                    "CustomerID": "79",
                                    "OrderYear": "2014",
                                    "NumberOfOrders": "1"
                                },
                                {
                                    "CustomerID": "79",
                                    "OrderYear": "2015",
                                    "NumberOfOrders": "4"
                                },
                                {
                                    "CustomerID": "79",
                                    "OrderYear": "2016",
                                    "NumberOfOrders": "1"
                                },
                                {
                                    "CustomerID": "80",
                                    "OrderYear": "2014",
                                    "NumberOfOrders": "4"
                                },
                                {
                                    "CustomerID": "80",
                                    "OrderYear": "2015",
                                    "NumberOfOrders": "3"
                                },
                                {
                                    "CustomerID": "80",
                                    "OrderYear": "2016",
                                    "NumberOfOrders": "3"
                                },
                                {
                                    "CustomerID": "81",
                                    "OrderYear": "2014",
                                    "NumberOfOrders": "1"
                                },
                                {
                                    "CustomerID": "81",
                                    "OrderYear": "2015",
                                    "NumberOfOrders": "2"
                                },
                                {
                                    "CustomerID": "81",
                                    "OrderYear": "2016",
                                    "NumberOfOrders": "3"
                                },
                                {
                                    "CustomerID": "82",
                                    "OrderYear": "2015",
                                    "NumberOfOrders": "2"
                                },
                                {
                                    "CustomerID": "82",
                                    "OrderYear": "2016",
                                    "NumberOfOrders": "1"
                                },
                                {
                                    "CustomerID": "83",
                                    "OrderYear": "2014",
                                    "NumberOfOrders": "2"
                                },
                                {
                                    "CustomerID": "83",
                                    "OrderYear": "2015",
                                    "NumberOfOrders": "6"
                                },
                                {
                                    "CustomerID": "83",
                                    "OrderYear": "2016",
                                    "NumberOfOrders": "3"
                                },
                                {
                                    "CustomerID": "84",
                                    "OrderYear": "2014",
                                    "NumberOfOrders": "2"
                                },
                                {
                                    "CustomerID": "84",
                                    "OrderYear": "2015",
                                    "NumberOfOrders": "5"
                                },
                                {
                                    "CustomerID": "84",
                                    "OrderYear": "2016",
                                    "NumberOfOrders": "3"
                                },
                                {
                                    "CustomerID": "85",
                                    "OrderYear": "2014",
                                    "NumberOfOrders": "3"
                                },
                                {
                                    "CustomerID": "85",
                                    "OrderYear": "2015",
                                    "NumberOfOrders": "2"
                                },
                                {
                                    "CustomerID": "86",
                                    "OrderYear": "2014",
                                    "NumberOfOrders": "4"
                                },
                                {
                                    "CustomerID": "86",
                                    "OrderYear": "2015",
                                    "NumberOfOrders": "5"
                                },
                                {
                                    "CustomerID": "86",
                                    "OrderYear": "2016",
                                    "NumberOfOrders": "1"
                                },
                                {
                                    "CustomerID": "87",
                                    "OrderYear": "2014",
                                    "NumberOfOrders": "4"
                                },
                                {
                                    "CustomerID": "87",
                                    "OrderYear": "2015",
                                    "NumberOfOrders": "10"
                                },
                                {
                                    "CustomerID": "87",
                                    "OrderYear": "2016",
                                    "NumberOfOrders": "1"
                                },
                                {
                                    "CustomerID": "88",
                                    "OrderYear": "2014",
                                    "NumberOfOrders": "1"
                                },
                                {
                                    "CustomerID": "88",
                                    "OrderYear": "2015",
                                    "NumberOfOrders": "4"
                                },
                                {
                                    "CustomerID": "88",
                                    "OrderYear": "2016",
                                    "NumberOfOrders": "4"
                                },
                                {
                                    "CustomerID": "89",
                                    "OrderYear": "2014",
                                    "NumberOfOrders": "2"
                                },
                                {
                                    "CustomerID": "89",
                                    "OrderYear": "2015",
                                    "NumberOfOrders": "8"
                                },
                                {
                                    "CustomerID": "89",
                                    "OrderYear": "2016",
                                    "NumberOfOrders": "4"
                                },
                                {
                                    "CustomerID": "90",
                                    "OrderYear": "2015",
                                    "NumberOfOrders": "3"
                                },
                                {
                                    "CustomerID": "90",
                                    "OrderYear": "2016",
                                    "NumberOfOrders": "4"
                                },
                                {
                                    "CustomerID": "91",
                                    "OrderYear": "2014",
                                    "NumberOfOrders": "1"
                                },
                                {
                                    "CustomerID": "91",
                                    "OrderYear": "2015",
                                    "NumberOfOrders": "2"
                                },
                                {
                                    "CustomerID": "91",
                                    "OrderYear": "2016",
                                    "NumberOfOrders": "4"
                                }
                            ]
                        },
                        "text/html": [
                            "<table>",
                            "<tr><th>CustomerID</th><th>OrderYear</th><th>NumberOfOrders</th></tr>",
                            "<tr><td>1</td><td>2015</td><td>3</td></tr>",
                            "<tr><td>1</td><td>2016</td><td>3</td></tr>",
                            "<tr><td>2</td><td>2014</td><td>1</td></tr>",
                            "<tr><td>2</td><td>2015</td><td>2</td></tr>",
                            "<tr><td>2</td><td>2016</td><td>1</td></tr>",
                            "<tr><td>3</td><td>2014</td><td>1</td></tr>",
                            "<tr><td>3</td><td>2015</td><td>5</td></tr>",
                            "<tr><td>3</td><td>2016</td><td>1</td></tr>",
                            "<tr><td>4</td><td>2014</td><td>2</td></tr>",
                            "<tr><td>4</td><td>2015</td><td>7</td></tr>",
                            "<tr><td>4</td><td>2016</td><td>4</td></tr>",
                            "<tr><td>5</td><td>2014</td><td>3</td></tr>",
                            "<tr><td>5</td><td>2015</td><td>10</td></tr>",
                            "<tr><td>5</td><td>2016</td><td>5</td></tr>",
                            "<tr><td>6</td><td>2015</td><td>4</td></tr>",
                            "<tr><td>6</td><td>2016</td><td>3</td></tr>",
                            "<tr><td>7</td><td>2014</td><td>3</td></tr>",
                            "<tr><td>7</td><td>2015</td><td>7</td></tr>",
                            "<tr><td>7</td><td>2016</td><td>1</td></tr>",
                            "<tr><td>8</td><td>2014</td><td>1</td></tr>",
                            "<tr><td>8</td><td>2015</td><td>1</td></tr>",
                            "<tr><td>8</td><td>2016</td><td>1</td></tr>",
                            "<tr><td>9</td><td>2014</td><td>3</td></tr>",
                            "<tr><td>9</td><td>2015</td><td>8</td></tr>",
                            "<tr><td>9</td><td>2016</td><td>6</td></tr>",
                            "<tr><td>10</td><td>2014</td><td>1</td></tr>",
                            "<tr><td>10</td><td>2015</td><td>5</td></tr>",
                            "<tr><td>10</td><td>2016</td><td>8</td></tr>",
                            "<tr><td>11</td><td>2014</td><td>1</td></tr>",
                            "<tr><td>11</td><td>2015</td><td>6</td></tr>",
                            "<tr><td>11</td><td>2016</td><td>3</td></tr>",
                            "<tr><td>12</td><td>2015</td><td>2</td></tr>",
                            "<tr><td>12</td><td>2016</td><td>4</td></tr>",
                            "<tr><td>13</td><td>2014</td><td>1</td></tr>",
                            "<tr><td>14</td><td>2014</td><td>2</td></tr>",
                            "<tr><td>14</td><td>2015</td><td>3</td></tr>",
                            "<tr><td>14</td><td>2016</td><td>3</td></tr>",
                            "<tr><td>15</td><td>2014</td><td>1</td></tr>",
                            "<tr><td>15</td><td>2015</td><td>2</td></tr>",
                            "<tr><td>15</td><td>2016</td><td>2</td></tr>",
                            "<tr><td>16</td><td>2015</td><td>2</td></tr>",
                            "<tr><td>16</td><td>2016</td><td>1</td></tr>",
                            "<tr><td>17</td><td>2014</td><td>2</td></tr>",
                            "<tr><td>17</td><td>2015</td><td>1</td></tr>",
                            "<tr><td>17</td><td>2016</td><td>3</td></tr>",
                            "<tr><td>18</td><td>2014</td><td>1</td></tr>",
                            "<tr><td>18</td><td>2015</td><td>2</td></tr>",
                            "<tr><td>18</td><td>2016</td><td>1</td></tr>",
                            "<tr><td>19</td><td>2014</td><td>1</td></tr>",
                            "<tr><td>19</td><td>2015</td><td>3</td></tr>",
                            "<tr><td>19</td><td>2016</td><td>4</td></tr>",
                            "<tr><td>20</td><td>2014</td><td>6</td></tr>",
                            "<tr><td>20</td><td>2015</td><td>15</td></tr>",
                            "<tr><td>20</td><td>2016</td><td>9</td></tr>",
                            "<tr><td>21</td><td>2014</td><td>2</td></tr>",
                            "<tr><td>21</td><td>2015</td><td>5</td></tr>",
                            "<tr><td>23</td><td>2015</td><td>5</td></tr>",
                            "<tr><td>24</td><td>2014</td><td>3</td></tr>",
                            "<tr><td>24</td><td>2015</td><td>7</td></tr>",
                            "<tr><td>24</td><td>2016</td><td>9</td></tr>",
                            "<tr><td>25</td><td>2014</td><td>4</td></tr>",
                            "<tr><td>25</td><td>2015</td><td>8</td></tr>",
                            "<tr><td>25</td><td>2016</td><td>3</td></tr>",
                            "<tr><td>26</td><td>2015</td><td>1</td></tr>",
                            "<tr><td>26</td><td>2016</td><td>2</td></tr>",
                            "<tr><td>27</td><td>2015</td><td>4</td></tr>",
                            "<tr><td>27</td><td>2016</td><td>2</td></tr>",
                            "<tr><td>28</td><td>2014</td><td>2</td></tr>",
                            "<tr><td>28</td><td>2015</td><td>5</td></tr>",
                            "<tr><td>28</td><td>2016</td><td>1</td></tr>",
                            "<tr><td>29</td><td>2014</td><td>1</td></tr>",
                            "<tr><td>29</td><td>2015</td><td>2</td></tr>",
                            "<tr><td>29</td><td>2016</td><td>2</td></tr>",
                            "<tr><td>30</td><td>2014</td><td>1</td></tr>",
                            "<tr><td>30</td><td>2015</td><td>2</td></tr>",
                            "<tr><td>30</td><td>2016</td><td>7</td></tr>",
                            "<tr><td>31</td><td>2015</td><td>7</td></tr>",
                            "<tr><td>31</td><td>2016</td><td>2</td></tr>",
                            "<tr><td>32</td><td>2015</td><td>6</td></tr>",
                            "<tr><td>32</td><td>2016</td><td>5</td></tr>",
                            "<tr><td>33</td><td>2014</td><td>1</td></tr>",
                            "<tr><td>33</td><td>2015</td><td>1</td></tr>",
                            "<tr><td>34</td><td>2014</td><td>2</td></tr>",
                            "<tr><td>34</td><td>2015</td><td>5</td></tr>",
                            "<tr><td>34</td><td>2016</td><td>7</td></tr>",
                            "<tr><td>35</td><td>2014</td><td>2</td></tr>",
                            "<tr><td>35</td><td>2015</td><td>10</td></tr>",
                            "<tr><td>35</td><td>2016</td><td>6</td></tr>",
                            "<tr><td>36</td><td>2014</td><td>2</td></tr>",
                            "<tr><td>36</td><td>2015</td><td>3</td></tr>",
                            "<tr><td>37</td><td>2014</td><td>5</td></tr>",
                            "<tr><td>37</td><td>2015</td><td>10</td></tr>",
                            "<tr><td>37</td><td>2016</td><td>4</td></tr>",
                            "<tr><td>38</td><td>2014</td><td>3</td></tr>",
                            "<tr><td>38</td><td>2015</td><td>5</td></tr>",
                            "<tr><td>38</td><td>2016</td><td>2</td></tr>",
                            "<tr><td>39</td><td>2014</td><td>2</td></tr>",
                            "<tr><td>39</td><td>2015</td><td>8</td></tr>",
                            "<tr><td>39</td><td>2016</td><td>4</td></tr>",
                            "<tr><td>40</td><td>2016</td><td>4</td></tr>",
                            "<tr><td>41</td><td>2014</td><td>3</td></tr>",
                            "<tr><td>41</td><td>2015</td><td>8</td></tr>",
                            "<tr><td>41</td><td>2016</td><td>3</td></tr>",
                            "<tr><td>42</td><td>2015</td><td>2</td></tr>",
                            "<tr><td>42</td><td>2016</td><td>1</td></tr>",
                            "<tr><td>43</td><td>2015</td><td>2</td></tr>",
                            "<tr><td>44</td><td>2014</td><td>3</td></tr>",
                            "<tr><td>44</td><td>2015</td><td>8</td></tr>",
                            "<tr><td>44</td><td>2016</td><td>4</td></tr>",
                            "<tr><td>45</td><td>2015</td><td>3</td></tr>",
                            "<tr><td>45</td><td>2016</td><td>1</td></tr>",
                            "<tr><td>46</td><td>2014</td><td>5</td></tr>",
                            "<tr><td>46</td><td>2015</td><td>4</td></tr>",
                            "<tr><td>46</td><td>2016</td><td>5</td></tr>",
                            "<tr><td>47</td><td>2015</td><td>5</td></tr>",
                            "<tr><td>47</td><td>2016</td><td>7</td></tr>",
                            "<tr><td>48</td><td>2014</td><td>2</td></tr>",
                            "<tr><td>48</td><td>2015</td><td>3</td></tr>",
                            "<tr><td>48</td><td>2016</td><td>3</td></tr>",
                            "<tr><td>49</td><td>2014</td><td>2</td></tr>",
                            "<tr><td>49</td><td>2015</td><td>5</td></tr>",
                            "<tr><td>49</td><td>2016</td><td>3</td></tr>",
                            "<tr><td>50</td><td>2015</td><td>3</td></tr>",
                            "<tr><td>50</td><td>2016</td><td>4</td></tr>",
                            "<tr><td>51</td><td>2014</td><td>3</td></tr>",
                            "<tr><td>51</td><td>2015</td><td>10</td></tr>",
                            "<tr><td>52</td><td>2014</td><td>1</td></tr>",
                            "<tr><td>52</td><td>2015</td><td>3</td></tr>",
                            "<tr><td>52</td><td>2016</td><td>1</td></tr>",
                            "<tr><td>53</td><td>2015</td><td>2</td></tr>",
                            "<tr><td>53</td><td>2016</td><td>1</td></tr>",
                            "<tr><td>54</td><td>2015</td><td>2</td></tr>",
                            "<tr><td>54</td><td>2016</td><td>3</td></tr>",
                            "<tr><td>55</td><td>2014</td><td>2</td></tr>",
                            "<tr><td>55</td><td>2015</td><td>4</td></tr>",
                            "<tr><td>55</td><td>2016</td><td>4</td></tr>",
                            "<tr><td>56</td><td>2014</td><td>1</td></tr>",
                            "<tr><td>56</td><td>2015</td><td>6</td></tr>",
                            "<tr><td>56</td><td>2016</td><td>3</td></tr>",
                            "<tr><td>58</td><td>2014</td><td>2</td></tr>",
                            "<tr><td>58</td><td>2015</td><td>2</td></tr>",
                            "<tr><td>58</td><td>2016</td><td>2</td></tr>",
                            "<tr><td>59</td><td>2014</td><td>2</td></tr>",
                            "<tr><td>59</td><td>2015</td><td>6</td></tr>",
                            "<tr><td>59</td><td>2016</td><td>2</td></tr>",
                            "<tr><td>60</td><td>2014</td><td>2</td></tr>",
                            "<tr><td>60</td><td>2015</td><td>2</td></tr>",
                            "<tr><td>60</td><td>2016</td><td>1</td></tr>",
                            "<tr><td>61</td><td>2014</td><td>3</td></tr>",
                            "<tr><td>61</td><td>2015</td><td>5</td></tr>",
                            "<tr><td>61</td><td>2016</td><td>1</td></tr>",
                            "<tr><td>62</td><td>2014</td><td>1</td></tr>",
                            "<tr><td>62</td><td>2015</td><td>7</td></tr>",
                            "<tr><td>62</td><td>2016</td><td>5</td></tr>",
                            "<tr><td>63</td><td>2014</td><td>6</td></tr>",
                            "<tr><td>63</td><td>2015</td><td>14</td></tr>",
                            "<tr><td>63</td><td>2016</td><td>8</td></tr>",
                            "<tr><td>64</td><td>2015</td><td>2</td></tr>",
                            "<tr><td>64</td><td>2016</td><td>3</td></tr>",
                            "<tr><td>65</td><td>2014</td><td>6</td></tr>",
                            "<tr><td>65</td><td>2015</td><td>6</td></tr>",
                            "<tr><td>65</td><td>2016</td><td>6</td></tr>",
                            "<tr><td>66</td><td>2014</td><td>1</td></tr>",
                            "<tr><td>66</td><td>2015</td><td>6</td></tr>",
                            "<tr><td>66</td><td>2016</td><td>5</td></tr>",
                            "<tr><td>67</td><td>2014</td><td>2</td></tr>",
                            "<tr><td>67</td><td>2015</td><td>5</td></tr>",
                            "<tr><td>67</td><td>2016</td><td>4</td></tr>",
                            "<tr><td>68</td><td>2014</td><td>1</td></tr>",
                            "<tr><td>68</td><td>2015</td><td>5</td></tr>",
                            "<tr><td>68</td><td>2016</td><td>4</td></tr>",
                            "<tr><td>69</td><td>2014</td><td>3</td></tr>",
                            "<tr><td>69</td><td>2016</td><td>2</td></tr>",
                            "<tr><td>70</td><td>2014</td><td>1</td></tr>",
                            "<tr><td>70</td><td>2015</td><td>2</td></tr>",
                            "<tr><td>70</td><td>2016</td><td>3</td></tr>",
                            "<tr><td>71</td><td>2014</td><td>3</td></tr>",
                            "<tr><td>71</td><td>2015</td><td>17</td></tr>",
                            "<tr><td>71</td><td>2016</td><td>11</td></tr>",
                            "<tr><td>72</td><td>2014</td><td>3</td></tr>",
                            "<tr><td>72</td><td>2015</td><td>5</td></tr>",
                            "<tr><td>72</td><td>2016</td><td>1</td></tr>",
                            "<tr><td>73</td><td>2014</td><td>1</td></tr>",
                            "<tr><td>73</td><td>2015</td><td>5</td></tr>",
                            "<tr><td>73</td><td>2016</td><td>1</td></tr>",
                            "<tr><td>74</td><td>2015</td><td>1</td></tr>",
                            "<tr><td>74</td><td>2016</td><td>3</td></tr>",
                            "<tr><td>75</td><td>2014</td><td>5</td></tr>",
                            "<tr><td>75</td><td>2015</td><td>2</td></tr>",
                            "<tr><td>75</td><td>2016</td><td>2</td></tr>",
                            "<tr><td>76</td><td>2014</td><td>2</td></tr>",
                            "<tr><td>76</td><td>2015</td><td>4</td></tr>",
                            "<tr><td>76</td><td>2016</td><td>6</td></tr>",
                            "<tr><td>77</td><td>2014</td><td>1</td></tr>",
                            "<tr><td>77</td><td>2015</td><td>2</td></tr>",
                            "<tr><td>77</td><td>2016</td><td>1</td></tr>",
                            "<tr><td>78</td><td>2015</td><td>2</td></tr>",
                            "<tr><td>78</td><td>2016</td><td>1</td></tr>",
                            "<tr><td>79</td><td>2014</td><td>1</td></tr>",
                            "<tr><td>79</td><td>2015</td><td>4</td></tr>",
                            "<tr><td>79</td><td>2016</td><td>1</td></tr>",
                            "<tr><td>80</td><td>2014</td><td>4</td></tr>",
                            "<tr><td>80</td><td>2015</td><td>3</td></tr>",
                            "<tr><td>80</td><td>2016</td><td>3</td></tr>",
                            "<tr><td>81</td><td>2014</td><td>1</td></tr>",
                            "<tr><td>81</td><td>2015</td><td>2</td></tr>",
                            "<tr><td>81</td><td>2016</td><td>3</td></tr>",
                            "<tr><td>82</td><td>2015</td><td>2</td></tr>",
                            "<tr><td>82</td><td>2016</td><td>1</td></tr>",
                            "<tr><td>83</td><td>2014</td><td>2</td></tr>",
                            "<tr><td>83</td><td>2015</td><td>6</td></tr>",
                            "<tr><td>83</td><td>2016</td><td>3</td></tr>",
                            "<tr><td>84</td><td>2014</td><td>2</td></tr>",
                            "<tr><td>84</td><td>2015</td><td>5</td></tr>",
                            "<tr><td>84</td><td>2016</td><td>3</td></tr>",
                            "<tr><td>85</td><td>2014</td><td>3</td></tr>",
                            "<tr><td>85</td><td>2015</td><td>2</td></tr>",
                            "<tr><td>86</td><td>2014</td><td>4</td></tr>",
                            "<tr><td>86</td><td>2015</td><td>5</td></tr>",
                            "<tr><td>86</td><td>2016</td><td>1</td></tr>",
                            "<tr><td>87</td><td>2014</td><td>4</td></tr>",
                            "<tr><td>87</td><td>2015</td><td>10</td></tr>",
                            "<tr><td>87</td><td>2016</td><td>1</td></tr>",
                            "<tr><td>88</td><td>2014</td><td>1</td></tr>",
                            "<tr><td>88</td><td>2015</td><td>4</td></tr>",
                            "<tr><td>88</td><td>2016</td><td>4</td></tr>",
                            "<tr><td>89</td><td>2014</td><td>2</td></tr>",
                            "<tr><td>89</td><td>2015</td><td>8</td></tr>",
                            "<tr><td>89</td><td>2016</td><td>4</td></tr>",
                            "<tr><td>90</td><td>2015</td><td>3</td></tr>",
                            "<tr><td>90</td><td>2016</td><td>4</td></tr>",
                            "<tr><td>91</td><td>2014</td><td>1</td></tr>",
                            "<tr><td>91</td><td>2015</td><td>2</td></tr>",
                            "<tr><td>91</td><td>2016</td><td>4</td></tr>",
                            "</table>"
                        ]
                    }
                }
            ],
            "execution_count": 5
        },
        {
            "cell_type": "markdown",
            "source": [
                "BETTER CODE \n",
                "\n",
                "This static pivot query creates a table where each row represents a customer, and each column (beyond the CustomerID) represents the number of orders they placed in each year from 2014 to 2016."
            ],
            "metadata": {
                "language": "sql",
                "azdata_cell_guid": "8e507b39-0952-4c4b-a19c-a9bc1a8e8810"
            },
            "attachments": {}
        },
        {
            "cell_type": "code",
            "source": [
                "--BETTER CODE \n",
                "USE Northwinds2022TSQLV7;\n",
                "SELECT\n",
                "    CustomerID,\n",
                "    [2014] AS Orders_2014,\n",
                "    [2015] AS Orders_2015,\n",
                "    [2016] AS Orders_2016\n",
                "FROM\n",
                "    (SELECT\n",
                "        CustomerID,\n",
                "        YEAR(OrderDate) AS OrderYear,\n",
                "        COUNT(OrderID) AS NumberOfOrders\n",
                "    FROM Sales.[Order]\n",
                "    GROUP BY CustomerID, YEAR(OrderDate)) AS SourceTable\n",
                "PIVOT\n",
                "    (SUM(NumberOfOrders) FOR OrderYear IN ([2014], [2015], [2016])) AS PivotTable\n",
                "ORDER BY CustomerID;\n",
                ""
            ],
            "metadata": {
                "language": "sql",
                "azdata_cell_guid": "f6a950ab-e175-4822-840e-406d61624d2e",
                "tags": []
            },
            "outputs": [
                {
                    "output_type": "display_data",
                    "data": {
                        "text/html": "(89 rows affected)"
                    },
                    "metadata": {}
                },
                {
                    "output_type": "display_data",
                    "data": {
                        "text/html": "Total execution time: 00:00:00.053"
                    },
                    "metadata": {}
                },
                {
                    "output_type": "execute_result",
                    "metadata": {},
                    "execution_count": 4,
                    "data": {
                        "application/vnd.dataresource+json": {
                            "schema": {
                                "fields": [
                                    {
                                        "name": "CustomerID"
                                    },
                                    {
                                        "name": "Orders_2014"
                                    },
                                    {
                                        "name": "Orders_2015"
                                    },
                                    {
                                        "name": "Orders_2016"
                                    }
                                ]
                            },
                            "data": [
                                {
                                    "CustomerID": "1",
                                    "Orders_2014": "NULL",
                                    "Orders_2015": "3",
                                    "Orders_2016": "3"
                                },
                                {
                                    "CustomerID": "2",
                                    "Orders_2014": "1",
                                    "Orders_2015": "2",
                                    "Orders_2016": "1"
                                },
                                {
                                    "CustomerID": "3",
                                    "Orders_2014": "1",
                                    "Orders_2015": "5",
                                    "Orders_2016": "1"
                                },
                                {
                                    "CustomerID": "4",
                                    "Orders_2014": "2",
                                    "Orders_2015": "7",
                                    "Orders_2016": "4"
                                },
                                {
                                    "CustomerID": "5",
                                    "Orders_2014": "3",
                                    "Orders_2015": "10",
                                    "Orders_2016": "5"
                                },
                                {
                                    "CustomerID": "6",
                                    "Orders_2014": "NULL",
                                    "Orders_2015": "4",
                                    "Orders_2016": "3"
                                },
                                {
                                    "CustomerID": "7",
                                    "Orders_2014": "3",
                                    "Orders_2015": "7",
                                    "Orders_2016": "1"
                                },
                                {
                                    "CustomerID": "8",
                                    "Orders_2014": "1",
                                    "Orders_2015": "1",
                                    "Orders_2016": "1"
                                },
                                {
                                    "CustomerID": "9",
                                    "Orders_2014": "3",
                                    "Orders_2015": "8",
                                    "Orders_2016": "6"
                                },
                                {
                                    "CustomerID": "10",
                                    "Orders_2014": "1",
                                    "Orders_2015": "5",
                                    "Orders_2016": "8"
                                },
                                {
                                    "CustomerID": "11",
                                    "Orders_2014": "1",
                                    "Orders_2015": "6",
                                    "Orders_2016": "3"
                                },
                                {
                                    "CustomerID": "12",
                                    "Orders_2014": "NULL",
                                    "Orders_2015": "2",
                                    "Orders_2016": "4"
                                },
                                {
                                    "CustomerID": "13",
                                    "Orders_2014": "1",
                                    "Orders_2015": "NULL",
                                    "Orders_2016": "NULL"
                                },
                                {
                                    "CustomerID": "14",
                                    "Orders_2014": "2",
                                    "Orders_2015": "3",
                                    "Orders_2016": "3"
                                },
                                {
                                    "CustomerID": "15",
                                    "Orders_2014": "1",
                                    "Orders_2015": "2",
                                    "Orders_2016": "2"
                                },
                                {
                                    "CustomerID": "16",
                                    "Orders_2014": "NULL",
                                    "Orders_2015": "2",
                                    "Orders_2016": "1"
                                },
                                {
                                    "CustomerID": "17",
                                    "Orders_2014": "2",
                                    "Orders_2015": "1",
                                    "Orders_2016": "3"
                                },
                                {
                                    "CustomerID": "18",
                                    "Orders_2014": "1",
                                    "Orders_2015": "2",
                                    "Orders_2016": "1"
                                },
                                {
                                    "CustomerID": "19",
                                    "Orders_2014": "1",
                                    "Orders_2015": "3",
                                    "Orders_2016": "4"
                                },
                                {
                                    "CustomerID": "20",
                                    "Orders_2014": "6",
                                    "Orders_2015": "15",
                                    "Orders_2016": "9"
                                },
                                {
                                    "CustomerID": "21",
                                    "Orders_2014": "2",
                                    "Orders_2015": "5",
                                    "Orders_2016": "NULL"
                                },
                                {
                                    "CustomerID": "23",
                                    "Orders_2014": "NULL",
                                    "Orders_2015": "5",
                                    "Orders_2016": "NULL"
                                },
                                {
                                    "CustomerID": "24",
                                    "Orders_2014": "3",
                                    "Orders_2015": "7",
                                    "Orders_2016": "9"
                                },
                                {
                                    "CustomerID": "25",
                                    "Orders_2014": "4",
                                    "Orders_2015": "8",
                                    "Orders_2016": "3"
                                },
                                {
                                    "CustomerID": "26",
                                    "Orders_2014": "NULL",
                                    "Orders_2015": "1",
                                    "Orders_2016": "2"
                                },
                                {
                                    "CustomerID": "27",
                                    "Orders_2014": "NULL",
                                    "Orders_2015": "4",
                                    "Orders_2016": "2"
                                },
                                {
                                    "CustomerID": "28",
                                    "Orders_2014": "2",
                                    "Orders_2015": "5",
                                    "Orders_2016": "1"
                                },
                                {
                                    "CustomerID": "29",
                                    "Orders_2014": "1",
                                    "Orders_2015": "2",
                                    "Orders_2016": "2"
                                },
                                {
                                    "CustomerID": "30",
                                    "Orders_2014": "1",
                                    "Orders_2015": "2",
                                    "Orders_2016": "7"
                                },
                                {
                                    "CustomerID": "31",
                                    "Orders_2014": "NULL",
                                    "Orders_2015": "7",
                                    "Orders_2016": "2"
                                },
                                {
                                    "CustomerID": "32",
                                    "Orders_2014": "NULL",
                                    "Orders_2015": "6",
                                    "Orders_2016": "5"
                                },
                                {
                                    "CustomerID": "33",
                                    "Orders_2014": "1",
                                    "Orders_2015": "1",
                                    "Orders_2016": "NULL"
                                },
                                {
                                    "CustomerID": "34",
                                    "Orders_2014": "2",
                                    "Orders_2015": "5",
                                    "Orders_2016": "7"
                                },
                                {
                                    "CustomerID": "35",
                                    "Orders_2014": "2",
                                    "Orders_2015": "10",
                                    "Orders_2016": "6"
                                },
                                {
                                    "CustomerID": "36",
                                    "Orders_2014": "2",
                                    "Orders_2015": "3",
                                    "Orders_2016": "NULL"
                                },
                                {
                                    "CustomerID": "37",
                                    "Orders_2014": "5",
                                    "Orders_2015": "10",
                                    "Orders_2016": "4"
                                },
                                {
                                    "CustomerID": "38",
                                    "Orders_2014": "3",
                                    "Orders_2015": "5",
                                    "Orders_2016": "2"
                                },
                                {
                                    "CustomerID": "39",
                                    "Orders_2014": "2",
                                    "Orders_2015": "8",
                                    "Orders_2016": "4"
                                },
                                {
                                    "CustomerID": "40",
                                    "Orders_2014": "NULL",
                                    "Orders_2015": "NULL",
                                    "Orders_2016": "4"
                                },
                                {
                                    "CustomerID": "41",
                                    "Orders_2014": "3",
                                    "Orders_2015": "8",
                                    "Orders_2016": "3"
                                },
                                {
                                    "CustomerID": "42",
                                    "Orders_2014": "NULL",
                                    "Orders_2015": "2",
                                    "Orders_2016": "1"
                                },
                                {
                                    "CustomerID": "43",
                                    "Orders_2014": "NULL",
                                    "Orders_2015": "2",
                                    "Orders_2016": "NULL"
                                },
                                {
                                    "CustomerID": "44",
                                    "Orders_2014": "3",
                                    "Orders_2015": "8",
                                    "Orders_2016": "4"
                                },
                                {
                                    "CustomerID": "45",
                                    "Orders_2014": "NULL",
                                    "Orders_2015": "3",
                                    "Orders_2016": "1"
                                },
                                {
                                    "CustomerID": "46",
                                    "Orders_2014": "5",
                                    "Orders_2015": "4",
                                    "Orders_2016": "5"
                                },
                                {
                                    "CustomerID": "47",
                                    "Orders_2014": "NULL",
                                    "Orders_2015": "5",
                                    "Orders_2016": "7"
                                },
                                {
                                    "CustomerID": "48",
                                    "Orders_2014": "2",
                                    "Orders_2015": "3",
                                    "Orders_2016": "3"
                                },
                                {
                                    "CustomerID": "49",
                                    "Orders_2014": "2",
                                    "Orders_2015": "5",
                                    "Orders_2016": "3"
                                },
                                {
                                    "CustomerID": "50",
                                    "Orders_2014": "NULL",
                                    "Orders_2015": "3",
                                    "Orders_2016": "4"
                                },
                                {
                                    "CustomerID": "51",
                                    "Orders_2014": "3",
                                    "Orders_2015": "10",
                                    "Orders_2016": "NULL"
                                },
                                {
                                    "CustomerID": "52",
                                    "Orders_2014": "1",
                                    "Orders_2015": "3",
                                    "Orders_2016": "1"
                                },
                                {
                                    "CustomerID": "53",
                                    "Orders_2014": "NULL",
                                    "Orders_2015": "2",
                                    "Orders_2016": "1"
                                },
                                {
                                    "CustomerID": "54",
                                    "Orders_2014": "NULL",
                                    "Orders_2015": "2",
                                    "Orders_2016": "3"
                                },
                                {
                                    "CustomerID": "55",
                                    "Orders_2014": "2",
                                    "Orders_2015": "4",
                                    "Orders_2016": "4"
                                },
                                {
                                    "CustomerID": "56",
                                    "Orders_2014": "1",
                                    "Orders_2015": "6",
                                    "Orders_2016": "3"
                                },
                                {
                                    "CustomerID": "58",
                                    "Orders_2014": "2",
                                    "Orders_2015": "2",
                                    "Orders_2016": "2"
                                },
                                {
                                    "CustomerID": "59",
                                    "Orders_2014": "2",
                                    "Orders_2015": "6",
                                    "Orders_2016": "2"
                                },
                                {
                                    "CustomerID": "60",
                                    "Orders_2014": "2",
                                    "Orders_2015": "2",
                                    "Orders_2016": "1"
                                },
                                {
                                    "CustomerID": "61",
                                    "Orders_2014": "3",
                                    "Orders_2015": "5",
                                    "Orders_2016": "1"
                                },
                                {
                                    "CustomerID": "62",
                                    "Orders_2014": "1",
                                    "Orders_2015": "7",
                                    "Orders_2016": "5"
                                },
                                {
                                    "CustomerID": "63",
                                    "Orders_2014": "6",
                                    "Orders_2015": "14",
                                    "Orders_2016": "8"
                                },
                                {
                                    "CustomerID": "64",
                                    "Orders_2014": "NULL",
                                    "Orders_2015": "2",
                                    "Orders_2016": "3"
                                },
                                {
                                    "CustomerID": "65",
                                    "Orders_2014": "6",
                                    "Orders_2015": "6",
                                    "Orders_2016": "6"
                                },
                                {
                                    "CustomerID": "66",
                                    "Orders_2014": "1",
                                    "Orders_2015": "6",
                                    "Orders_2016": "5"
                                },
                                {
                                    "CustomerID": "67",
                                    "Orders_2014": "2",
                                    "Orders_2015": "5",
                                    "Orders_2016": "4"
                                },
                                {
                                    "CustomerID": "68",
                                    "Orders_2014": "1",
                                    "Orders_2015": "5",
                                    "Orders_2016": "4"
                                },
                                {
                                    "CustomerID": "69",
                                    "Orders_2014": "3",
                                    "Orders_2015": "NULL",
                                    "Orders_2016": "2"
                                },
                                {
                                    "CustomerID": "70",
                                    "Orders_2014": "1",
                                    "Orders_2015": "2",
                                    "Orders_2016": "3"
                                },
                                {
                                    "CustomerID": "71",
                                    "Orders_2014": "3",
                                    "Orders_2015": "17",
                                    "Orders_2016": "11"
                                },
                                {
                                    "CustomerID": "72",
                                    "Orders_2014": "3",
                                    "Orders_2015": "5",
                                    "Orders_2016": "1"
                                },
                                {
                                    "CustomerID": "73",
                                    "Orders_2014": "1",
                                    "Orders_2015": "5",
                                    "Orders_2016": "1"
                                },
                                {
                                    "CustomerID": "74",
                                    "Orders_2014": "NULL",
                                    "Orders_2015": "1",
                                    "Orders_2016": "3"
                                },
                                {
                                    "CustomerID": "75",
                                    "Orders_2014": "5",
                                    "Orders_2015": "2",
                                    "Orders_2016": "2"
                                },
                                {
                                    "CustomerID": "76",
                                    "Orders_2014": "2",
                                    "Orders_2015": "4",
                                    "Orders_2016": "6"
                                },
                                {
                                    "CustomerID": "77",
                                    "Orders_2014": "1",
                                    "Orders_2015": "2",
                                    "Orders_2016": "1"
                                },
                                {
                                    "CustomerID": "78",
                                    "Orders_2014": "NULL",
                                    "Orders_2015": "2",
                                    "Orders_2016": "1"
                                },
                                {
                                    "CustomerID": "79",
                                    "Orders_2014": "1",
                                    "Orders_2015": "4",
                                    "Orders_2016": "1"
                                },
                                {
                                    "CustomerID": "80",
                                    "Orders_2014": "4",
                                    "Orders_2015": "3",
                                    "Orders_2016": "3"
                                },
                                {
                                    "CustomerID": "81",
                                    "Orders_2014": "1",
                                    "Orders_2015": "2",
                                    "Orders_2016": "3"
                                },
                                {
                                    "CustomerID": "82",
                                    "Orders_2014": "NULL",
                                    "Orders_2015": "2",
                                    "Orders_2016": "1"
                                },
                                {
                                    "CustomerID": "83",
                                    "Orders_2014": "2",
                                    "Orders_2015": "6",
                                    "Orders_2016": "3"
                                },
                                {
                                    "CustomerID": "84",
                                    "Orders_2014": "2",
                                    "Orders_2015": "5",
                                    "Orders_2016": "3"
                                },
                                {
                                    "CustomerID": "85",
                                    "Orders_2014": "3",
                                    "Orders_2015": "2",
                                    "Orders_2016": "NULL"
                                },
                                {
                                    "CustomerID": "86",
                                    "Orders_2014": "4",
                                    "Orders_2015": "5",
                                    "Orders_2016": "1"
                                },
                                {
                                    "CustomerID": "87",
                                    "Orders_2014": "4",
                                    "Orders_2015": "10",
                                    "Orders_2016": "1"
                                },
                                {
                                    "CustomerID": "88",
                                    "Orders_2014": "1",
                                    "Orders_2015": "4",
                                    "Orders_2016": "4"
                                },
                                {
                                    "CustomerID": "89",
                                    "Orders_2014": "2",
                                    "Orders_2015": "8",
                                    "Orders_2016": "4"
                                },
                                {
                                    "CustomerID": "90",
                                    "Orders_2014": "NULL",
                                    "Orders_2015": "3",
                                    "Orders_2016": "4"
                                },
                                {
                                    "CustomerID": "91",
                                    "Orders_2014": "1",
                                    "Orders_2015": "2",
                                    "Orders_2016": "4"
                                }
                            ]
                        },
                        "text/html": [
                            "<table>",
                            "<tr><th>CustomerID</th><th>Orders_2014</th><th>Orders_2015</th><th>Orders_2016</th></tr>",
                            "<tr><td>1</td><td>NULL</td><td>3</td><td>3</td></tr>",
                            "<tr><td>2</td><td>1</td><td>2</td><td>1</td></tr>",
                            "<tr><td>3</td><td>1</td><td>5</td><td>1</td></tr>",
                            "<tr><td>4</td><td>2</td><td>7</td><td>4</td></tr>",
                            "<tr><td>5</td><td>3</td><td>10</td><td>5</td></tr>",
                            "<tr><td>6</td><td>NULL</td><td>4</td><td>3</td></tr>",
                            "<tr><td>7</td><td>3</td><td>7</td><td>1</td></tr>",
                            "<tr><td>8</td><td>1</td><td>1</td><td>1</td></tr>",
                            "<tr><td>9</td><td>3</td><td>8</td><td>6</td></tr>",
                            "<tr><td>10</td><td>1</td><td>5</td><td>8</td></tr>",
                            "<tr><td>11</td><td>1</td><td>6</td><td>3</td></tr>",
                            "<tr><td>12</td><td>NULL</td><td>2</td><td>4</td></tr>",
                            "<tr><td>13</td><td>1</td><td>NULL</td><td>NULL</td></tr>",
                            "<tr><td>14</td><td>2</td><td>3</td><td>3</td></tr>",
                            "<tr><td>15</td><td>1</td><td>2</td><td>2</td></tr>",
                            "<tr><td>16</td><td>NULL</td><td>2</td><td>1</td></tr>",
                            "<tr><td>17</td><td>2</td><td>1</td><td>3</td></tr>",
                            "<tr><td>18</td><td>1</td><td>2</td><td>1</td></tr>",
                            "<tr><td>19</td><td>1</td><td>3</td><td>4</td></tr>",
                            "<tr><td>20</td><td>6</td><td>15</td><td>9</td></tr>",
                            "<tr><td>21</td><td>2</td><td>5</td><td>NULL</td></tr>",
                            "<tr><td>23</td><td>NULL</td><td>5</td><td>NULL</td></tr>",
                            "<tr><td>24</td><td>3</td><td>7</td><td>9</td></tr>",
                            "<tr><td>25</td><td>4</td><td>8</td><td>3</td></tr>",
                            "<tr><td>26</td><td>NULL</td><td>1</td><td>2</td></tr>",
                            "<tr><td>27</td><td>NULL</td><td>4</td><td>2</td></tr>",
                            "<tr><td>28</td><td>2</td><td>5</td><td>1</td></tr>",
                            "<tr><td>29</td><td>1</td><td>2</td><td>2</td></tr>",
                            "<tr><td>30</td><td>1</td><td>2</td><td>7</td></tr>",
                            "<tr><td>31</td><td>NULL</td><td>7</td><td>2</td></tr>",
                            "<tr><td>32</td><td>NULL</td><td>6</td><td>5</td></tr>",
                            "<tr><td>33</td><td>1</td><td>1</td><td>NULL</td></tr>",
                            "<tr><td>34</td><td>2</td><td>5</td><td>7</td></tr>",
                            "<tr><td>35</td><td>2</td><td>10</td><td>6</td></tr>",
                            "<tr><td>36</td><td>2</td><td>3</td><td>NULL</td></tr>",
                            "<tr><td>37</td><td>5</td><td>10</td><td>4</td></tr>",
                            "<tr><td>38</td><td>3</td><td>5</td><td>2</td></tr>",
                            "<tr><td>39</td><td>2</td><td>8</td><td>4</td></tr>",
                            "<tr><td>40</td><td>NULL</td><td>NULL</td><td>4</td></tr>",
                            "<tr><td>41</td><td>3</td><td>8</td><td>3</td></tr>",
                            "<tr><td>42</td><td>NULL</td><td>2</td><td>1</td></tr>",
                            "<tr><td>43</td><td>NULL</td><td>2</td><td>NULL</td></tr>",
                            "<tr><td>44</td><td>3</td><td>8</td><td>4</td></tr>",
                            "<tr><td>45</td><td>NULL</td><td>3</td><td>1</td></tr>",
                            "<tr><td>46</td><td>5</td><td>4</td><td>5</td></tr>",
                            "<tr><td>47</td><td>NULL</td><td>5</td><td>7</td></tr>",
                            "<tr><td>48</td><td>2</td><td>3</td><td>3</td></tr>",
                            "<tr><td>49</td><td>2</td><td>5</td><td>3</td></tr>",
                            "<tr><td>50</td><td>NULL</td><td>3</td><td>4</td></tr>",
                            "<tr><td>51</td><td>3</td><td>10</td><td>NULL</td></tr>",
                            "<tr><td>52</td><td>1</td><td>3</td><td>1</td></tr>",
                            "<tr><td>53</td><td>NULL</td><td>2</td><td>1</td></tr>",
                            "<tr><td>54</td><td>NULL</td><td>2</td><td>3</td></tr>",
                            "<tr><td>55</td><td>2</td><td>4</td><td>4</td></tr>",
                            "<tr><td>56</td><td>1</td><td>6</td><td>3</td></tr>",
                            "<tr><td>58</td><td>2</td><td>2</td><td>2</td></tr>",
                            "<tr><td>59</td><td>2</td><td>6</td><td>2</td></tr>",
                            "<tr><td>60</td><td>2</td><td>2</td><td>1</td></tr>",
                            "<tr><td>61</td><td>3</td><td>5</td><td>1</td></tr>",
                            "<tr><td>62</td><td>1</td><td>7</td><td>5</td></tr>",
                            "<tr><td>63</td><td>6</td><td>14</td><td>8</td></tr>",
                            "<tr><td>64</td><td>NULL</td><td>2</td><td>3</td></tr>",
                            "<tr><td>65</td><td>6</td><td>6</td><td>6</td></tr>",
                            "<tr><td>66</td><td>1</td><td>6</td><td>5</td></tr>",
                            "<tr><td>67</td><td>2</td><td>5</td><td>4</td></tr>",
                            "<tr><td>68</td><td>1</td><td>5</td><td>4</td></tr>",
                            "<tr><td>69</td><td>3</td><td>NULL</td><td>2</td></tr>",
                            "<tr><td>70</td><td>1</td><td>2</td><td>3</td></tr>",
                            "<tr><td>71</td><td>3</td><td>17</td><td>11</td></tr>",
                            "<tr><td>72</td><td>3</td><td>5</td><td>1</td></tr>",
                            "<tr><td>73</td><td>1</td><td>5</td><td>1</td></tr>",
                            "<tr><td>74</td><td>NULL</td><td>1</td><td>3</td></tr>",
                            "<tr><td>75</td><td>5</td><td>2</td><td>2</td></tr>",
                            "<tr><td>76</td><td>2</td><td>4</td><td>6</td></tr>",
                            "<tr><td>77</td><td>1</td><td>2</td><td>1</td></tr>",
                            "<tr><td>78</td><td>NULL</td><td>2</td><td>1</td></tr>",
                            "<tr><td>79</td><td>1</td><td>4</td><td>1</td></tr>",
                            "<tr><td>80</td><td>4</td><td>3</td><td>3</td></tr>",
                            "<tr><td>81</td><td>1</td><td>2</td><td>3</td></tr>",
                            "<tr><td>82</td><td>NULL</td><td>2</td><td>1</td></tr>",
                            "<tr><td>83</td><td>2</td><td>6</td><td>3</td></tr>",
                            "<tr><td>84</td><td>2</td><td>5</td><td>3</td></tr>",
                            "<tr><td>85</td><td>3</td><td>2</td><td>NULL</td></tr>",
                            "<tr><td>86</td><td>4</td><td>5</td><td>1</td></tr>",
                            "<tr><td>87</td><td>4</td><td>10</td><td>1</td></tr>",
                            "<tr><td>88</td><td>1</td><td>4</td><td>4</td></tr>",
                            "<tr><td>89</td><td>2</td><td>8</td><td>4</td></tr>",
                            "<tr><td>90</td><td>NULL</td><td>3</td><td>4</td></tr>",
                            "<tr><td>91</td><td>1</td><td>2</td><td>4</td></tr>",
                            "</table>"
                        ]
                    }
                }
            ],
            "execution_count": 4
        },
        {
            "cell_type": "markdown",
            "source": [
                "**QUERY 15**\n",
                "\n",
                "**Problem:** list the number of customers by city and country.\n",
                "\n",
                "**Tables:** \n",
                "\n",
                "DimCustomer\n",
                "\n",
                "DimGeography\n",
                "\n",
                "**Columns:** \n",
                "\n",
                "Customer\n",
                "\n",
                "> CustomerKey\n",
                "\n",
                "Geography\n",
                "\n",
                "> CountryRegionCode\n",
                "> \n",
                "> CIty\n",
                "\n",
                "**Predicate:**\n",
                "\n",
                "The query groups the results by g.CountryRegionCode and g.City to ensure that the customer count is calculated separately for each unique city within each country. \n",
                "\n",
                "The ORDER BY g.CountryRegionCode, COUNT(c.CustomerKey) DESC clause sorts the results firstly by CountryRegionCode (alphabetically) to group cities within the same country together, and then by the count of customers in descending order within each country."
            ],
            "metadata": {
                "language": "sql",
                "azdata_cell_guid": "cb0aa2b0-3aa8-4478-8256-fa81f1a2697c"
            },
            "attachments": {}
        },
        {
            "cell_type": "code",
            "source": [
                "--list the number of customers by city and country.\n",
                "USE AdventureWorksDW2017; \n",
                "SELECT \n",
                "    g.CountryRegionCode, \n",
                "    g.City, \n",
                "    COUNT(c.CustomerKey) AS NumberOfCustomers\n",
                "FROM \n",
                "    DimCustomer c\n",
                "JOIN \n",
                "    dbo.DimGeography g ON c.GeographyKey = g.GeographyKey\n",
                "GROUP BY \n",
                "    g.CountryRegionCode, \n",
                "    g.City\n",
                "ORDER BY \n",
                "    g.CountryRegionCode, \n",
                "    COUNT(c.CustomerKey) DESC;\n",
                ""
            ],
            "metadata": {
                "language": "sql",
                "azdata_cell_guid": "632b60f6-8295-40c6-9092-b1918baaaa8f"
            },
            "outputs": [],
            "execution_count": null
        },
        {
            "cell_type": "markdown",
            "source": [
                "**QUERY 16**\n",
                "\n",
                "**Problem**: comparison of the geographic distribution of customers and resellers by country\n",
                "\n",
                "**Tables:** \n",
                "\n",
                "DimCustomer\n",
                "\n",
                "DimGeography \n",
                "\n",
                "DimReseller\n",
                "\n",
                "**Columns:** \n",
                "\n",
                "Customer\n",
                "\n",
                "> CustomerCount(Derived col)\n",
                "\n",
                "Geography\n",
                "\n",
                "> CountryRegionCode\n",
                "\n",
                "Reseller\n",
                "\n",
                "> ResellerCount(Derieved col)\n",
                "\n",
                "**Predicate:** \n",
                "\n",
                "The sql code groups and aggregates data across tables to compare counts. The grouping is done based on CountryRegionCode, and the ordering is alphabetically by CountryRegionCode to list countries and their respective counts of customers and resellers."
            ],
            "metadata": {
                "language": "sql",
                "azdata_cell_guid": "1dd88f65-5ad9-4769-a515-bbc3bab822c1"
            },
            "attachments": {}
        },
        {
            "cell_type": "code",
            "source": [
                "--16 comparison of the geographic distribution of customers and resellers by country\n",
                "USE AdventureWorksDW2017;\n",
                "SELECT \n",
                "    g.CountryRegionCode,\n",
                "    COALESCE(SUM(c.CustomerCount), 0) AS CustomerCount,\n",
                "    COALESCE(SUM(r.ResellerCount), 0) AS ResellerCount\n",
                "FROM \n",
                "    DimGeography g\n",
                "LEFT JOIN \n",
                "    (SELECT GeographyKey, COUNT(*) AS CustomerCount FROM DimCustomer GROUP BY GeographyKey) c ON g.GeographyKey = c.GeographyKey\n",
                "LEFT JOIN \n",
                "    (SELECT GeographyKey, COUNT(*) AS ResellerCount FROM DimReseller GROUP BY GeographyKey) r ON g.GeographyKey = r.GeographyKey\n",
                "GROUP BY \n",
                "    g.CountryRegionCode\n",
                "ORDER BY \n",
                "    g.CountryRegionCode;"
            ],
            "metadata": {
                "language": "sql",
                "azdata_cell_guid": "d7dde6c2-cc96-44cf-b0b6-ddfa85c1fb8b"
            },
            "outputs": [],
            "execution_count": null
        },
        {
            "cell_type": "markdown",
            "source": [
                "**QUERY 17**\n",
                "\n",
                "**Problem**: query to calculate the average dealer price of products grouped by color.\n",
                "\n",
                "**Tables:** \n",
                "\n",
                "DimProduct\n",
                "\n",
                "**Columns:** \n",
                "\n",
                "DimProduct\n",
                "\n",
                "> Color\n",
                "> \n",
                "> DealerPrice\n",
                "\n",
                "**Predicate:**  \n",
                "\n",
                "The WHERE clause filters the data to include only those records where Color and DealerPrice are not null: Color IS NOT NULL AND DealerPrice IS NOT NULL. This ensures that the calculation only considers products with both a defined color and dealer price, eliminating potential data quality issues or missing values that could skew the results."
            ],
            "metadata": {
                "language": "sql",
                "azdata_cell_guid": "273fbbea-32ef-4fa3-ba8d-632e7d988d38"
            },
            "attachments": {}
        },
        {
            "cell_type": "code",
            "source": [
                "--17 query to calculate the average dealer price of products grouped by color.\n",
                "USE AdventureWorksDW2017; \n",
                "SELECT \n",
                "    Color, \n",
                "    AVG(DealerPrice) AS AverageDealerPrice\n",
                "FROM \n",
                "    DimProduct\n",
                "WHERE \n",
                "    Color IS NOT NULL AND DealerPrice IS NOT NULL\n",
                "GROUP BY \n",
                "    Color\n",
                "ORDER BY \n",
                "    AverageDealerPrice DESC;"
            ],
            "metadata": {
                "language": "sql",
                "azdata_cell_guid": "5c9f8086-876a-48a2-8b6a-1f6bc8020455"
            },
            "outputs": [],
            "execution_count": null
        },
        {
            "cell_type": "markdown",
            "source": [
                "**QUERY 18**\n",
                "\n",
                "**Problem**: SQL query to determine the distribution of product sizes available. Calculate the total number of products for each distinct size\n",
                "\n",
                "**Tables:** \n",
                "\n",
                "DimProduct\n",
                "\n",
                "**Columns:** \n",
                "\n",
                "DimProduct\n",
                "\n",
                "> Size\n",
                "\n",
                "**Predicate:** \n",
                "\n",
                "The WHERE clause (Size IS NOT NULL) filters out any records where the Size is null, ensuring the analysis only includes products with a defined size."
            ],
            "metadata": {
                "language": "sql",
                "azdata_cell_guid": "a019f636-5856-4922-823d-4d53bba089d0"
            },
            "attachments": {}
        },
        {
            "cell_type": "code",
            "source": [
                "-- 18 SQL query to determine the distribution of product sizes available. Calculate the total number of products for each distinct size\n",
                "USE AdventureWorksDW2017; \n",
                "SELECT \n",
                "    Size, \n",
                "    COUNT(*) AS ProductCount\n",
                "FROM \n",
                "    DimProduct\n",
                "WHERE \n",
                "    Size IS NOT NULL\n",
                "GROUP BY \n",
                "    Size\n",
                "ORDER BY \n",
                "    ProductCount DESC;\n",
                ""
            ],
            "metadata": {
                "language": "sql",
                "azdata_cell_guid": "675ae805-76f1-45a0-a6d6-4b421589957c"
            },
            "outputs": [],
            "execution_count": null
        },
        {
            "cell_type": "markdown",
            "source": [
                "**QUERY 19 WORST 3**\n",
                "\n",
                "**Problem**:  Write an SQL query to analyze the distribution of weekdays throughout the year.\n",
                "\n",
                "**Tables:** \n",
                "\n",
                "DimDate\n",
                "\n",
                "**Columns:** \n",
                "\n",
                "DimDate\n",
                "\n",
                "> CalenderYear\n",
                "> \n",
                "> CalenderSemester\n",
                "> \n",
                "> EnglishDayNameOfWeek\n",
                "> \n",
                "> DayCount\n",
                "\n",
                "**Predicate:** \n",
                "\n",
                "The query groups the results by CalendarYear, CalendarSemester, and EnglishDayNameOfWeek using the GROUP BY clause. This aggregation allows for a detailed analysis of how the days of the week are distributed across different years and semesters. \n",
                "\n",
                "The results are ordered by CalendarYear, CalendarSemester, and then by DayCount DESC with the ORDER BY clause. This sorting prioritizes the display of information first chronologically by year and semester, and within those groups, it shows the most to least frequent days of the week."
            ],
            "metadata": {
                "language": "sql",
                "azdata_cell_guid": "3c0ca8ff-0f17-43dc-abe1-48a6b464b14f"
            },
            "attachments": {}
        },
        {
            "cell_type": "code",
            "source": [
                "--19 Write an SQL query to analyze the distribution of weekdays throughout the year.\n",
                "USE AdventureWorksDW2017;\n",
                "SELECT \n",
                "    CalendarYear,\n",
                "    CalendarSemester,\n",
                "    EnglishDayNameOfWeek,\n",
                "    COUNT(*) AS DayCount\n",
                "FROM \n",
                "    DimDate\n",
                "GROUP BY \n",
                "    CalendarYear, \n",
                "    CalendarSemester, \n",
                "    EnglishDayNameOfWeek\n",
                "ORDER BY \n",
                "    CalendarYear, \n",
                "    CalendarSemester, \n",
                "    DayCount DESC;"
            ],
            "metadata": {
                "language": "sql",
                "azdata_cell_guid": "28edc304-89a9-415f-ace3-5d4ba43005df"
            },
            "outputs": [
                {
                    "output_type": "display_data",
                    "data": {
                        "text/html": "(140 rows affected)"
                    },
                    "metadata": {}
                },
                {
                    "output_type": "display_data",
                    "data": {
                        "text/html": "Total execution time: 00:00:00.029"
                    },
                    "metadata": {}
                },
                {
                    "output_type": "execute_result",
                    "metadata": {},
                    "execution_count": 8,
                    "data": {
                        "application/vnd.dataresource+json": {
                            "schema": {
                                "fields": [
                                    {
                                        "name": "CalendarYear"
                                    },
                                    {
                                        "name": "CalendarSemester"
                                    },
                                    {
                                        "name": "EnglishDayNameOfWeek"
                                    },
                                    {
                                        "name": "DayCount"
                                    }
                                ]
                            },
                            "data": [
                                {
                                    "CalendarYear": "2005",
                                    "CalendarSemester": "1",
                                    "EnglishDayNameOfWeek": "Saturday",
                                    "DayCount": "26"
                                },
                                {
                                    "CalendarYear": "2005",
                                    "CalendarSemester": "1",
                                    "EnglishDayNameOfWeek": "Sunday",
                                    "DayCount": "26"
                                },
                                {
                                    "CalendarYear": "2005",
                                    "CalendarSemester": "1",
                                    "EnglishDayNameOfWeek": "Wednesday",
                                    "DayCount": "26"
                                },
                                {
                                    "CalendarYear": "2005",
                                    "CalendarSemester": "1",
                                    "EnglishDayNameOfWeek": "Monday",
                                    "DayCount": "26"
                                },
                                {
                                    "CalendarYear": "2005",
                                    "CalendarSemester": "1",
                                    "EnglishDayNameOfWeek": "Thursday",
                                    "DayCount": "26"
                                },
                                {
                                    "CalendarYear": "2005",
                                    "CalendarSemester": "1",
                                    "EnglishDayNameOfWeek": "Tuesday",
                                    "DayCount": "26"
                                },
                                {
                                    "CalendarYear": "2005",
                                    "CalendarSemester": "1",
                                    "EnglishDayNameOfWeek": "Friday",
                                    "DayCount": "25"
                                },
                                {
                                    "CalendarYear": "2005",
                                    "CalendarSemester": "2",
                                    "EnglishDayNameOfWeek": "Friday",
                                    "DayCount": "27"
                                },
                                {
                                    "CalendarYear": "2005",
                                    "CalendarSemester": "2",
                                    "EnglishDayNameOfWeek": "Saturday",
                                    "DayCount": "27"
                                },
                                {
                                    "CalendarYear": "2005",
                                    "CalendarSemester": "2",
                                    "EnglishDayNameOfWeek": "Monday",
                                    "DayCount": "26"
                                },
                                {
                                    "CalendarYear": "2005",
                                    "CalendarSemester": "2",
                                    "EnglishDayNameOfWeek": "Tuesday",
                                    "DayCount": "26"
                                },
                                {
                                    "CalendarYear": "2005",
                                    "CalendarSemester": "2",
                                    "EnglishDayNameOfWeek": "Thursday",
                                    "DayCount": "26"
                                },
                                {
                                    "CalendarYear": "2005",
                                    "CalendarSemester": "2",
                                    "EnglishDayNameOfWeek": "Wednesday",
                                    "DayCount": "26"
                                },
                                {
                                    "CalendarYear": "2005",
                                    "CalendarSemester": "2",
                                    "EnglishDayNameOfWeek": "Sunday",
                                    "DayCount": "26"
                                },
                                {
                                    "CalendarYear": "2006",
                                    "CalendarSemester": "1",
                                    "EnglishDayNameOfWeek": "Thursday",
                                    "DayCount": "26"
                                },
                                {
                                    "CalendarYear": "2006",
                                    "CalendarSemester": "1",
                                    "EnglishDayNameOfWeek": "Friday",
                                    "DayCount": "26"
                                },
                                {
                                    "CalendarYear": "2006",
                                    "CalendarSemester": "1",
                                    "EnglishDayNameOfWeek": "Sunday",
                                    "DayCount": "26"
                                },
                                {
                                    "CalendarYear": "2006",
                                    "CalendarSemester": "1",
                                    "EnglishDayNameOfWeek": "Tuesday",
                                    "DayCount": "26"
                                },
                                {
                                    "CalendarYear": "2006",
                                    "CalendarSemester": "1",
                                    "EnglishDayNameOfWeek": "Monday",
                                    "DayCount": "26"
                                },
                                {
                                    "CalendarYear": "2006",
                                    "CalendarSemester": "1",
                                    "EnglishDayNameOfWeek": "Wednesday",
                                    "DayCount": "26"
                                },
                                {
                                    "CalendarYear": "2006",
                                    "CalendarSemester": "1",
                                    "EnglishDayNameOfWeek": "Saturday",
                                    "DayCount": "25"
                                },
                                {
                                    "CalendarYear": "2006",
                                    "CalendarSemester": "2",
                                    "EnglishDayNameOfWeek": "Sunday",
                                    "DayCount": "27"
                                },
                                {
                                    "CalendarYear": "2006",
                                    "CalendarSemester": "2",
                                    "EnglishDayNameOfWeek": "Saturday",
                                    "DayCount": "27"
                                },
                                {
                                    "CalendarYear": "2006",
                                    "CalendarSemester": "2",
                                    "EnglishDayNameOfWeek": "Wednesday",
                                    "DayCount": "26"
                                },
                                {
                                    "CalendarYear": "2006",
                                    "CalendarSemester": "2",
                                    "EnglishDayNameOfWeek": "Thursday",
                                    "DayCount": "26"
                                },
                                {
                                    "CalendarYear": "2006",
                                    "CalendarSemester": "2",
                                    "EnglishDayNameOfWeek": "Tuesday",
                                    "DayCount": "26"
                                },
                                {
                                    "CalendarYear": "2006",
                                    "CalendarSemester": "2",
                                    "EnglishDayNameOfWeek": "Monday",
                                    "DayCount": "26"
                                },
                                {
                                    "CalendarYear": "2006",
                                    "CalendarSemester": "2",
                                    "EnglishDayNameOfWeek": "Friday",
                                    "DayCount": "26"
                                },
                                {
                                    "CalendarYear": "2007",
                                    "CalendarSemester": "1",
                                    "EnglishDayNameOfWeek": "Saturday",
                                    "DayCount": "26"
                                },
                                {
                                    "CalendarYear": "2007",
                                    "CalendarSemester": "1",
                                    "EnglishDayNameOfWeek": "Friday",
                                    "DayCount": "26"
                                },
                                {
                                    "CalendarYear": "2007",
                                    "CalendarSemester": "1",
                                    "EnglishDayNameOfWeek": "Thursday",
                                    "DayCount": "26"
                                },
                                {
                                    "CalendarYear": "2007",
                                    "CalendarSemester": "1",
                                    "EnglishDayNameOfWeek": "Tuesday",
                                    "DayCount": "26"
                                },
                                {
                                    "CalendarYear": "2007",
                                    "CalendarSemester": "1",
                                    "EnglishDayNameOfWeek": "Wednesday",
                                    "DayCount": "26"
                                },
                                {
                                    "CalendarYear": "2007",
                                    "CalendarSemester": "1",
                                    "EnglishDayNameOfWeek": "Monday",
                                    "DayCount": "26"
                                },
                                {
                                    "CalendarYear": "2007",
                                    "CalendarSemester": "1",
                                    "EnglishDayNameOfWeek": "Sunday",
                                    "DayCount": "25"
                                },
                                {
                                    "CalendarYear": "2007",
                                    "CalendarSemester": "2",
                                    "EnglishDayNameOfWeek": "Monday",
                                    "DayCount": "27"
                                },
                                {
                                    "CalendarYear": "2007",
                                    "CalendarSemester": "2",
                                    "EnglishDayNameOfWeek": "Sunday",
                                    "DayCount": "27"
                                },
                                {
                                    "CalendarYear": "2007",
                                    "CalendarSemester": "2",
                                    "EnglishDayNameOfWeek": "Wednesday",
                                    "DayCount": "26"
                                },
                                {
                                    "CalendarYear": "2007",
                                    "CalendarSemester": "2",
                                    "EnglishDayNameOfWeek": "Tuesday",
                                    "DayCount": "26"
                                },
                                {
                                    "CalendarYear": "2007",
                                    "CalendarSemester": "2",
                                    "EnglishDayNameOfWeek": "Thursday",
                                    "DayCount": "26"
                                },
                                {
                                    "CalendarYear": "2007",
                                    "CalendarSemester": "2",
                                    "EnglishDayNameOfWeek": "Friday",
                                    "DayCount": "26"
                                },
                                {
                                    "CalendarYear": "2007",
                                    "CalendarSemester": "2",
                                    "EnglishDayNameOfWeek": "Saturday",
                                    "DayCount": "26"
                                },
                                {
                                    "CalendarYear": "2008",
                                    "CalendarSemester": "1",
                                    "EnglishDayNameOfWeek": "Saturday",
                                    "DayCount": "26"
                                },
                                {
                                    "CalendarYear": "2008",
                                    "CalendarSemester": "1",
                                    "EnglishDayNameOfWeek": "Friday",
                                    "DayCount": "26"
                                },
                                {
                                    "CalendarYear": "2008",
                                    "CalendarSemester": "1",
                                    "EnglishDayNameOfWeek": "Monday",
                                    "DayCount": "26"
                                },
                                {
                                    "CalendarYear": "2008",
                                    "CalendarSemester": "1",
                                    "EnglishDayNameOfWeek": "Sunday",
                                    "DayCount": "26"
                                },
                                {
                                    "CalendarYear": "2008",
                                    "CalendarSemester": "1",
                                    "EnglishDayNameOfWeek": "Thursday",
                                    "DayCount": "26"
                                },
                                {
                                    "CalendarYear": "2008",
                                    "CalendarSemester": "1",
                                    "EnglishDayNameOfWeek": "Wednesday",
                                    "DayCount": "26"
                                },
                                {
                                    "CalendarYear": "2008",
                                    "CalendarSemester": "1",
                                    "EnglishDayNameOfWeek": "Tuesday",
                                    "DayCount": "26"
                                },
                                {
                                    "CalendarYear": "2008",
                                    "CalendarSemester": "2",
                                    "EnglishDayNameOfWeek": "Wednesday",
                                    "DayCount": "27"
                                },
                                {
                                    "CalendarYear": "2008",
                                    "CalendarSemester": "2",
                                    "EnglishDayNameOfWeek": "Tuesday",
                                    "DayCount": "27"
                                },
                                {
                                    "CalendarYear": "2008",
                                    "CalendarSemester": "2",
                                    "EnglishDayNameOfWeek": "Thursday",
                                    "DayCount": "26"
                                },
                                {
                                    "CalendarYear": "2008",
                                    "CalendarSemester": "2",
                                    "EnglishDayNameOfWeek": "Friday",
                                    "DayCount": "26"
                                },
                                {
                                    "CalendarYear": "2008",
                                    "CalendarSemester": "2",
                                    "EnglishDayNameOfWeek": "Monday",
                                    "DayCount": "26"
                                },
                                {
                                    "CalendarYear": "2008",
                                    "CalendarSemester": "2",
                                    "EnglishDayNameOfWeek": "Sunday",
                                    "DayCount": "26"
                                },
                                {
                                    "CalendarYear": "2008",
                                    "CalendarSemester": "2",
                                    "EnglishDayNameOfWeek": "Saturday",
                                    "DayCount": "26"
                                },
                                {
                                    "CalendarYear": "2009",
                                    "CalendarSemester": "1",
                                    "EnglishDayNameOfWeek": "Thursday",
                                    "DayCount": "26"
                                },
                                {
                                    "CalendarYear": "2009",
                                    "CalendarSemester": "1",
                                    "EnglishDayNameOfWeek": "Tuesday",
                                    "DayCount": "26"
                                },
                                {
                                    "CalendarYear": "2009",
                                    "CalendarSemester": "1",
                                    "EnglishDayNameOfWeek": "Monday",
                                    "DayCount": "26"
                                },
                                {
                                    "CalendarYear": "2009",
                                    "CalendarSemester": "1",
                                    "EnglishDayNameOfWeek": "Saturday",
                                    "DayCount": "26"
                                },
                                {
                                    "CalendarYear": "2009",
                                    "CalendarSemester": "1",
                                    "EnglishDayNameOfWeek": "Sunday",
                                    "DayCount": "26"
                                },
                                {
                                    "CalendarYear": "2009",
                                    "CalendarSemester": "1",
                                    "EnglishDayNameOfWeek": "Friday",
                                    "DayCount": "26"
                                },
                                {
                                    "CalendarYear": "2009",
                                    "CalendarSemester": "1",
                                    "EnglishDayNameOfWeek": "Wednesday",
                                    "DayCount": "25"
                                },
                                {
                                    "CalendarYear": "2009",
                                    "CalendarSemester": "2",
                                    "EnglishDayNameOfWeek": "Wednesday",
                                    "DayCount": "27"
                                },
                                {
                                    "CalendarYear": "2009",
                                    "CalendarSemester": "2",
                                    "EnglishDayNameOfWeek": "Thursday",
                                    "DayCount": "27"
                                },
                                {
                                    "CalendarYear": "2009",
                                    "CalendarSemester": "2",
                                    "EnglishDayNameOfWeek": "Sunday",
                                    "DayCount": "26"
                                },
                                {
                                    "CalendarYear": "2009",
                                    "CalendarSemester": "2",
                                    "EnglishDayNameOfWeek": "Friday",
                                    "DayCount": "26"
                                },
                                {
                                    "CalendarYear": "2009",
                                    "CalendarSemester": "2",
                                    "EnglishDayNameOfWeek": "Tuesday",
                                    "DayCount": "26"
                                },
                                {
                                    "CalendarYear": "2009",
                                    "CalendarSemester": "2",
                                    "EnglishDayNameOfWeek": "Monday",
                                    "DayCount": "26"
                                },
                                {
                                    "CalendarYear": "2009",
                                    "CalendarSemester": "2",
                                    "EnglishDayNameOfWeek": "Saturday",
                                    "DayCount": "26"
                                },
                                {
                                    "CalendarYear": "2010",
                                    "CalendarSemester": "1",
                                    "EnglishDayNameOfWeek": "Saturday",
                                    "DayCount": "26"
                                },
                                {
                                    "CalendarYear": "2010",
                                    "CalendarSemester": "1",
                                    "EnglishDayNameOfWeek": "Wednesday",
                                    "DayCount": "26"
                                },
                                {
                                    "CalendarYear": "2010",
                                    "CalendarSemester": "1",
                                    "EnglishDayNameOfWeek": "Monday",
                                    "DayCount": "26"
                                },
                                {
                                    "CalendarYear": "2010",
                                    "CalendarSemester": "1",
                                    "EnglishDayNameOfWeek": "Tuesday",
                                    "DayCount": "26"
                                },
                                {
                                    "CalendarYear": "2010",
                                    "CalendarSemester": "1",
                                    "EnglishDayNameOfWeek": "Sunday",
                                    "DayCount": "26"
                                },
                                {
                                    "CalendarYear": "2010",
                                    "CalendarSemester": "1",
                                    "EnglishDayNameOfWeek": "Friday",
                                    "DayCount": "26"
                                },
                                {
                                    "CalendarYear": "2010",
                                    "CalendarSemester": "1",
                                    "EnglishDayNameOfWeek": "Thursday",
                                    "DayCount": "25"
                                },
                                {
                                    "CalendarYear": "2010",
                                    "CalendarSemester": "2",
                                    "EnglishDayNameOfWeek": "Thursday",
                                    "DayCount": "27"
                                },
                                {
                                    "CalendarYear": "2010",
                                    "CalendarSemester": "2",
                                    "EnglishDayNameOfWeek": "Friday",
                                    "DayCount": "27"
                                },
                                {
                                    "CalendarYear": "2010",
                                    "CalendarSemester": "2",
                                    "EnglishDayNameOfWeek": "Sunday",
                                    "DayCount": "26"
                                },
                                {
                                    "CalendarYear": "2010",
                                    "CalendarSemester": "2",
                                    "EnglishDayNameOfWeek": "Monday",
                                    "DayCount": "26"
                                },
                                {
                                    "CalendarYear": "2010",
                                    "CalendarSemester": "2",
                                    "EnglishDayNameOfWeek": "Tuesday",
                                    "DayCount": "26"
                                },
                                {
                                    "CalendarYear": "2010",
                                    "CalendarSemester": "2",
                                    "EnglishDayNameOfWeek": "Saturday",
                                    "DayCount": "26"
                                },
                                {
                                    "CalendarYear": "2010",
                                    "CalendarSemester": "2",
                                    "EnglishDayNameOfWeek": "Wednesday",
                                    "DayCount": "26"
                                },
                                {
                                    "CalendarYear": "2011",
                                    "CalendarSemester": "1",
                                    "EnglishDayNameOfWeek": "Tuesday",
                                    "DayCount": "26"
                                },
                                {
                                    "CalendarYear": "2011",
                                    "CalendarSemester": "1",
                                    "EnglishDayNameOfWeek": "Monday",
                                    "DayCount": "26"
                                },
                                {
                                    "CalendarYear": "2011",
                                    "CalendarSemester": "1",
                                    "EnglishDayNameOfWeek": "Thursday",
                                    "DayCount": "26"
                                },
                                {
                                    "CalendarYear": "2011",
                                    "CalendarSemester": "1",
                                    "EnglishDayNameOfWeek": "Wednesday",
                                    "DayCount": "26"
                                },
                                {
                                    "CalendarYear": "2011",
                                    "CalendarSemester": "1",
                                    "EnglishDayNameOfWeek": "Sunday",
                                    "DayCount": "26"
                                },
                                {
                                    "CalendarYear": "2011",
                                    "CalendarSemester": "1",
                                    "EnglishDayNameOfWeek": "Saturday",
                                    "DayCount": "26"
                                },
                                {
                                    "CalendarYear": "2011",
                                    "CalendarSemester": "1",
                                    "EnglishDayNameOfWeek": "Friday",
                                    "DayCount": "25"
                                },
                                {
                                    "CalendarYear": "2011",
                                    "CalendarSemester": "2",
                                    "EnglishDayNameOfWeek": "Friday",
                                    "DayCount": "27"
                                },
                                {
                                    "CalendarYear": "2011",
                                    "CalendarSemester": "2",
                                    "EnglishDayNameOfWeek": "Saturday",
                                    "DayCount": "27"
                                },
                                {
                                    "CalendarYear": "2011",
                                    "CalendarSemester": "2",
                                    "EnglishDayNameOfWeek": "Thursday",
                                    "DayCount": "26"
                                },
                                {
                                    "CalendarYear": "2011",
                                    "CalendarSemester": "2",
                                    "EnglishDayNameOfWeek": "Wednesday",
                                    "DayCount": "26"
                                },
                                {
                                    "CalendarYear": "2011",
                                    "CalendarSemester": "2",
                                    "EnglishDayNameOfWeek": "Tuesday",
                                    "DayCount": "26"
                                },
                                {
                                    "CalendarYear": "2011",
                                    "CalendarSemester": "2",
                                    "EnglishDayNameOfWeek": "Sunday",
                                    "DayCount": "26"
                                },
                                {
                                    "CalendarYear": "2011",
                                    "CalendarSemester": "2",
                                    "EnglishDayNameOfWeek": "Monday",
                                    "DayCount": "26"
                                },
                                {
                                    "CalendarYear": "2012",
                                    "CalendarSemester": "1",
                                    "EnglishDayNameOfWeek": "Wednesday",
                                    "DayCount": "26"
                                },
                                {
                                    "CalendarYear": "2012",
                                    "CalendarSemester": "1",
                                    "EnglishDayNameOfWeek": "Tuesday",
                                    "DayCount": "26"
                                },
                                {
                                    "CalendarYear": "2012",
                                    "CalendarSemester": "1",
                                    "EnglishDayNameOfWeek": "Thursday",
                                    "DayCount": "26"
                                },
                                {
                                    "CalendarYear": "2012",
                                    "CalendarSemester": "1",
                                    "EnglishDayNameOfWeek": "Sunday",
                                    "DayCount": "26"
                                },
                                {
                                    "CalendarYear": "2012",
                                    "CalendarSemester": "1",
                                    "EnglishDayNameOfWeek": "Friday",
                                    "DayCount": "26"
                                },
                                {
                                    "CalendarYear": "2012",
                                    "CalendarSemester": "1",
                                    "EnglishDayNameOfWeek": "Monday",
                                    "DayCount": "26"
                                },
                                {
                                    "CalendarYear": "2012",
                                    "CalendarSemester": "1",
                                    "EnglishDayNameOfWeek": "Saturday",
                                    "DayCount": "26"
                                },
                                {
                                    "CalendarYear": "2012",
                                    "CalendarSemester": "2",
                                    "EnglishDayNameOfWeek": "Monday",
                                    "DayCount": "27"
                                },
                                {
                                    "CalendarYear": "2012",
                                    "CalendarSemester": "2",
                                    "EnglishDayNameOfWeek": "Sunday",
                                    "DayCount": "27"
                                },
                                {
                                    "CalendarYear": "2012",
                                    "CalendarSemester": "2",
                                    "EnglishDayNameOfWeek": "Tuesday",
                                    "DayCount": "26"
                                },
                                {
                                    "CalendarYear": "2012",
                                    "CalendarSemester": "2",
                                    "EnglishDayNameOfWeek": "Friday",
                                    "DayCount": "26"
                                },
                                {
                                    "CalendarYear": "2012",
                                    "CalendarSemester": "2",
                                    "EnglishDayNameOfWeek": "Thursday",
                                    "DayCount": "26"
                                },
                                {
                                    "CalendarYear": "2012",
                                    "CalendarSemester": "2",
                                    "EnglishDayNameOfWeek": "Saturday",
                                    "DayCount": "26"
                                },
                                {
                                    "CalendarYear": "2012",
                                    "CalendarSemester": "2",
                                    "EnglishDayNameOfWeek": "Wednesday",
                                    "DayCount": "26"
                                },
                                {
                                    "CalendarYear": "2013",
                                    "CalendarSemester": "1",
                                    "EnglishDayNameOfWeek": "Tuesday",
                                    "DayCount": "26"
                                },
                                {
                                    "CalendarYear": "2013",
                                    "CalendarSemester": "1",
                                    "EnglishDayNameOfWeek": "Wednesday",
                                    "DayCount": "26"
                                },
                                {
                                    "CalendarYear": "2013",
                                    "CalendarSemester": "1",
                                    "EnglishDayNameOfWeek": "Sunday",
                                    "DayCount": "26"
                                },
                                {
                                    "CalendarYear": "2013",
                                    "CalendarSemester": "1",
                                    "EnglishDayNameOfWeek": "Thursday",
                                    "DayCount": "26"
                                },
                                {
                                    "CalendarYear": "2013",
                                    "CalendarSemester": "1",
                                    "EnglishDayNameOfWeek": "Friday",
                                    "DayCount": "26"
                                },
                                {
                                    "CalendarYear": "2013",
                                    "CalendarSemester": "1",
                                    "EnglishDayNameOfWeek": "Saturday",
                                    "DayCount": "26"
                                },
                                {
                                    "CalendarYear": "2013",
                                    "CalendarSemester": "1",
                                    "EnglishDayNameOfWeek": "Monday",
                                    "DayCount": "25"
                                },
                                {
                                    "CalendarYear": "2013",
                                    "CalendarSemester": "2",
                                    "EnglishDayNameOfWeek": "Monday",
                                    "DayCount": "27"
                                },
                                {
                                    "CalendarYear": "2013",
                                    "CalendarSemester": "2",
                                    "EnglishDayNameOfWeek": "Tuesday",
                                    "DayCount": "27"
                                },
                                {
                                    "CalendarYear": "2013",
                                    "CalendarSemester": "2",
                                    "EnglishDayNameOfWeek": "Thursday",
                                    "DayCount": "26"
                                },
                                {
                                    "CalendarYear": "2013",
                                    "CalendarSemester": "2",
                                    "EnglishDayNameOfWeek": "Wednesday",
                                    "DayCount": "26"
                                },
                                {
                                    "CalendarYear": "2013",
                                    "CalendarSemester": "2",
                                    "EnglishDayNameOfWeek": "Friday",
                                    "DayCount": "26"
                                },
                                {
                                    "CalendarYear": "2013",
                                    "CalendarSemester": "2",
                                    "EnglishDayNameOfWeek": "Saturday",
                                    "DayCount": "26"
                                },
                                {
                                    "CalendarYear": "2013",
                                    "CalendarSemester": "2",
                                    "EnglishDayNameOfWeek": "Sunday",
                                    "DayCount": "26"
                                },
                                {
                                    "CalendarYear": "2014",
                                    "CalendarSemester": "1",
                                    "EnglishDayNameOfWeek": "Saturday",
                                    "DayCount": "26"
                                },
                                {
                                    "CalendarYear": "2014",
                                    "CalendarSemester": "1",
                                    "EnglishDayNameOfWeek": "Thursday",
                                    "DayCount": "26"
                                },
                                {
                                    "CalendarYear": "2014",
                                    "CalendarSemester": "1",
                                    "EnglishDayNameOfWeek": "Wednesday",
                                    "DayCount": "26"
                                },
                                {
                                    "CalendarYear": "2014",
                                    "CalendarSemester": "1",
                                    "EnglishDayNameOfWeek": "Monday",
                                    "DayCount": "26"
                                },
                                {
                                    "CalendarYear": "2014",
                                    "CalendarSemester": "1",
                                    "EnglishDayNameOfWeek": "Friday",
                                    "DayCount": "26"
                                },
                                {
                                    "CalendarYear": "2014",
                                    "CalendarSemester": "1",
                                    "EnglishDayNameOfWeek": "Sunday",
                                    "DayCount": "26"
                                },
                                {
                                    "CalendarYear": "2014",
                                    "CalendarSemester": "1",
                                    "EnglishDayNameOfWeek": "Tuesday",
                                    "DayCount": "25"
                                },
                                {
                                    "CalendarYear": "2014",
                                    "CalendarSemester": "2",
                                    "EnglishDayNameOfWeek": "Wednesday",
                                    "DayCount": "27"
                                },
                                {
                                    "CalendarYear": "2014",
                                    "CalendarSemester": "2",
                                    "EnglishDayNameOfWeek": "Tuesday",
                                    "DayCount": "27"
                                },
                                {
                                    "CalendarYear": "2014",
                                    "CalendarSemester": "2",
                                    "EnglishDayNameOfWeek": "Monday",
                                    "DayCount": "26"
                                },
                                {
                                    "CalendarYear": "2014",
                                    "CalendarSemester": "2",
                                    "EnglishDayNameOfWeek": "Sunday",
                                    "DayCount": "26"
                                },
                                {
                                    "CalendarYear": "2014",
                                    "CalendarSemester": "2",
                                    "EnglishDayNameOfWeek": "Thursday",
                                    "DayCount": "26"
                                },
                                {
                                    "CalendarYear": "2014",
                                    "CalendarSemester": "2",
                                    "EnglishDayNameOfWeek": "Friday",
                                    "DayCount": "26"
                                },
                                {
                                    "CalendarYear": "2014",
                                    "CalendarSemester": "2",
                                    "EnglishDayNameOfWeek": "Saturday",
                                    "DayCount": "26"
                                }
                            ]
                        },
                        "text/html": [
                            "<table>",
                            "<tr><th>CalendarYear</th><th>CalendarSemester</th><th>EnglishDayNameOfWeek</th><th>DayCount</th></tr>",
                            "<tr><td>2005</td><td>1</td><td>Saturday</td><td>26</td></tr>",
                            "<tr><td>2005</td><td>1</td><td>Sunday</td><td>26</td></tr>",
                            "<tr><td>2005</td><td>1</td><td>Wednesday</td><td>26</td></tr>",
                            "<tr><td>2005</td><td>1</td><td>Monday</td><td>26</td></tr>",
                            "<tr><td>2005</td><td>1</td><td>Thursday</td><td>26</td></tr>",
                            "<tr><td>2005</td><td>1</td><td>Tuesday</td><td>26</td></tr>",
                            "<tr><td>2005</td><td>1</td><td>Friday</td><td>25</td></tr>",
                            "<tr><td>2005</td><td>2</td><td>Friday</td><td>27</td></tr>",
                            "<tr><td>2005</td><td>2</td><td>Saturday</td><td>27</td></tr>",
                            "<tr><td>2005</td><td>2</td><td>Monday</td><td>26</td></tr>",
                            "<tr><td>2005</td><td>2</td><td>Tuesday</td><td>26</td></tr>",
                            "<tr><td>2005</td><td>2</td><td>Thursday</td><td>26</td></tr>",
                            "<tr><td>2005</td><td>2</td><td>Wednesday</td><td>26</td></tr>",
                            "<tr><td>2005</td><td>2</td><td>Sunday</td><td>26</td></tr>",
                            "<tr><td>2006</td><td>1</td><td>Thursday</td><td>26</td></tr>",
                            "<tr><td>2006</td><td>1</td><td>Friday</td><td>26</td></tr>",
                            "<tr><td>2006</td><td>1</td><td>Sunday</td><td>26</td></tr>",
                            "<tr><td>2006</td><td>1</td><td>Tuesday</td><td>26</td></tr>",
                            "<tr><td>2006</td><td>1</td><td>Monday</td><td>26</td></tr>",
                            "<tr><td>2006</td><td>1</td><td>Wednesday</td><td>26</td></tr>",
                            "<tr><td>2006</td><td>1</td><td>Saturday</td><td>25</td></tr>",
                            "<tr><td>2006</td><td>2</td><td>Sunday</td><td>27</td></tr>",
                            "<tr><td>2006</td><td>2</td><td>Saturday</td><td>27</td></tr>",
                            "<tr><td>2006</td><td>2</td><td>Wednesday</td><td>26</td></tr>",
                            "<tr><td>2006</td><td>2</td><td>Thursday</td><td>26</td></tr>",
                            "<tr><td>2006</td><td>2</td><td>Tuesday</td><td>26</td></tr>",
                            "<tr><td>2006</td><td>2</td><td>Monday</td><td>26</td></tr>",
                            "<tr><td>2006</td><td>2</td><td>Friday</td><td>26</td></tr>",
                            "<tr><td>2007</td><td>1</td><td>Saturday</td><td>26</td></tr>",
                            "<tr><td>2007</td><td>1</td><td>Friday</td><td>26</td></tr>",
                            "<tr><td>2007</td><td>1</td><td>Thursday</td><td>26</td></tr>",
                            "<tr><td>2007</td><td>1</td><td>Tuesday</td><td>26</td></tr>",
                            "<tr><td>2007</td><td>1</td><td>Wednesday</td><td>26</td></tr>",
                            "<tr><td>2007</td><td>1</td><td>Monday</td><td>26</td></tr>",
                            "<tr><td>2007</td><td>1</td><td>Sunday</td><td>25</td></tr>",
                            "<tr><td>2007</td><td>2</td><td>Monday</td><td>27</td></tr>",
                            "<tr><td>2007</td><td>2</td><td>Sunday</td><td>27</td></tr>",
                            "<tr><td>2007</td><td>2</td><td>Wednesday</td><td>26</td></tr>",
                            "<tr><td>2007</td><td>2</td><td>Tuesday</td><td>26</td></tr>",
                            "<tr><td>2007</td><td>2</td><td>Thursday</td><td>26</td></tr>",
                            "<tr><td>2007</td><td>2</td><td>Friday</td><td>26</td></tr>",
                            "<tr><td>2007</td><td>2</td><td>Saturday</td><td>26</td></tr>",
                            "<tr><td>2008</td><td>1</td><td>Saturday</td><td>26</td></tr>",
                            "<tr><td>2008</td><td>1</td><td>Friday</td><td>26</td></tr>",
                            "<tr><td>2008</td><td>1</td><td>Monday</td><td>26</td></tr>",
                            "<tr><td>2008</td><td>1</td><td>Sunday</td><td>26</td></tr>",
                            "<tr><td>2008</td><td>1</td><td>Thursday</td><td>26</td></tr>",
                            "<tr><td>2008</td><td>1</td><td>Wednesday</td><td>26</td></tr>",
                            "<tr><td>2008</td><td>1</td><td>Tuesday</td><td>26</td></tr>",
                            "<tr><td>2008</td><td>2</td><td>Wednesday</td><td>27</td></tr>",
                            "<tr><td>2008</td><td>2</td><td>Tuesday</td><td>27</td></tr>",
                            "<tr><td>2008</td><td>2</td><td>Thursday</td><td>26</td></tr>",
                            "<tr><td>2008</td><td>2</td><td>Friday</td><td>26</td></tr>",
                            "<tr><td>2008</td><td>2</td><td>Monday</td><td>26</td></tr>",
                            "<tr><td>2008</td><td>2</td><td>Sunday</td><td>26</td></tr>",
                            "<tr><td>2008</td><td>2</td><td>Saturday</td><td>26</td></tr>",
                            "<tr><td>2009</td><td>1</td><td>Thursday</td><td>26</td></tr>",
                            "<tr><td>2009</td><td>1</td><td>Tuesday</td><td>26</td></tr>",
                            "<tr><td>2009</td><td>1</td><td>Monday</td><td>26</td></tr>",
                            "<tr><td>2009</td><td>1</td><td>Saturday</td><td>26</td></tr>",
                            "<tr><td>2009</td><td>1</td><td>Sunday</td><td>26</td></tr>",
                            "<tr><td>2009</td><td>1</td><td>Friday</td><td>26</td></tr>",
                            "<tr><td>2009</td><td>1</td><td>Wednesday</td><td>25</td></tr>",
                            "<tr><td>2009</td><td>2</td><td>Wednesday</td><td>27</td></tr>",
                            "<tr><td>2009</td><td>2</td><td>Thursday</td><td>27</td></tr>",
                            "<tr><td>2009</td><td>2</td><td>Sunday</td><td>26</td></tr>",
                            "<tr><td>2009</td><td>2</td><td>Friday</td><td>26</td></tr>",
                            "<tr><td>2009</td><td>2</td><td>Tuesday</td><td>26</td></tr>",
                            "<tr><td>2009</td><td>2</td><td>Monday</td><td>26</td></tr>",
                            "<tr><td>2009</td><td>2</td><td>Saturday</td><td>26</td></tr>",
                            "<tr><td>2010</td><td>1</td><td>Saturday</td><td>26</td></tr>",
                            "<tr><td>2010</td><td>1</td><td>Wednesday</td><td>26</td></tr>",
                            "<tr><td>2010</td><td>1</td><td>Monday</td><td>26</td></tr>",
                            "<tr><td>2010</td><td>1</td><td>Tuesday</td><td>26</td></tr>",
                            "<tr><td>2010</td><td>1</td><td>Sunday</td><td>26</td></tr>",
                            "<tr><td>2010</td><td>1</td><td>Friday</td><td>26</td></tr>",
                            "<tr><td>2010</td><td>1</td><td>Thursday</td><td>25</td></tr>",
                            "<tr><td>2010</td><td>2</td><td>Thursday</td><td>27</td></tr>",
                            "<tr><td>2010</td><td>2</td><td>Friday</td><td>27</td></tr>",
                            "<tr><td>2010</td><td>2</td><td>Sunday</td><td>26</td></tr>",
                            "<tr><td>2010</td><td>2</td><td>Monday</td><td>26</td></tr>",
                            "<tr><td>2010</td><td>2</td><td>Tuesday</td><td>26</td></tr>",
                            "<tr><td>2010</td><td>2</td><td>Saturday</td><td>26</td></tr>",
                            "<tr><td>2010</td><td>2</td><td>Wednesday</td><td>26</td></tr>",
                            "<tr><td>2011</td><td>1</td><td>Tuesday</td><td>26</td></tr>",
                            "<tr><td>2011</td><td>1</td><td>Monday</td><td>26</td></tr>",
                            "<tr><td>2011</td><td>1</td><td>Thursday</td><td>26</td></tr>",
                            "<tr><td>2011</td><td>1</td><td>Wednesday</td><td>26</td></tr>",
                            "<tr><td>2011</td><td>1</td><td>Sunday</td><td>26</td></tr>",
                            "<tr><td>2011</td><td>1</td><td>Saturday</td><td>26</td></tr>",
                            "<tr><td>2011</td><td>1</td><td>Friday</td><td>25</td></tr>",
                            "<tr><td>2011</td><td>2</td><td>Friday</td><td>27</td></tr>",
                            "<tr><td>2011</td><td>2</td><td>Saturday</td><td>27</td></tr>",
                            "<tr><td>2011</td><td>2</td><td>Thursday</td><td>26</td></tr>",
                            "<tr><td>2011</td><td>2</td><td>Wednesday</td><td>26</td></tr>",
                            "<tr><td>2011</td><td>2</td><td>Tuesday</td><td>26</td></tr>",
                            "<tr><td>2011</td><td>2</td><td>Sunday</td><td>26</td></tr>",
                            "<tr><td>2011</td><td>2</td><td>Monday</td><td>26</td></tr>",
                            "<tr><td>2012</td><td>1</td><td>Wednesday</td><td>26</td></tr>",
                            "<tr><td>2012</td><td>1</td><td>Tuesday</td><td>26</td></tr>",
                            "<tr><td>2012</td><td>1</td><td>Thursday</td><td>26</td></tr>",
                            "<tr><td>2012</td><td>1</td><td>Sunday</td><td>26</td></tr>",
                            "<tr><td>2012</td><td>1</td><td>Friday</td><td>26</td></tr>",
                            "<tr><td>2012</td><td>1</td><td>Monday</td><td>26</td></tr>",
                            "<tr><td>2012</td><td>1</td><td>Saturday</td><td>26</td></tr>",
                            "<tr><td>2012</td><td>2</td><td>Monday</td><td>27</td></tr>",
                            "<tr><td>2012</td><td>2</td><td>Sunday</td><td>27</td></tr>",
                            "<tr><td>2012</td><td>2</td><td>Tuesday</td><td>26</td></tr>",
                            "<tr><td>2012</td><td>2</td><td>Friday</td><td>26</td></tr>",
                            "<tr><td>2012</td><td>2</td><td>Thursday</td><td>26</td></tr>",
                            "<tr><td>2012</td><td>2</td><td>Saturday</td><td>26</td></tr>",
                            "<tr><td>2012</td><td>2</td><td>Wednesday</td><td>26</td></tr>",
                            "<tr><td>2013</td><td>1</td><td>Tuesday</td><td>26</td></tr>",
                            "<tr><td>2013</td><td>1</td><td>Wednesday</td><td>26</td></tr>",
                            "<tr><td>2013</td><td>1</td><td>Sunday</td><td>26</td></tr>",
                            "<tr><td>2013</td><td>1</td><td>Thursday</td><td>26</td></tr>",
                            "<tr><td>2013</td><td>1</td><td>Friday</td><td>26</td></tr>",
                            "<tr><td>2013</td><td>1</td><td>Saturday</td><td>26</td></tr>",
                            "<tr><td>2013</td><td>1</td><td>Monday</td><td>25</td></tr>",
                            "<tr><td>2013</td><td>2</td><td>Monday</td><td>27</td></tr>",
                            "<tr><td>2013</td><td>2</td><td>Tuesday</td><td>27</td></tr>",
                            "<tr><td>2013</td><td>2</td><td>Thursday</td><td>26</td></tr>",
                            "<tr><td>2013</td><td>2</td><td>Wednesday</td><td>26</td></tr>",
                            "<tr><td>2013</td><td>2</td><td>Friday</td><td>26</td></tr>",
                            "<tr><td>2013</td><td>2</td><td>Saturday</td><td>26</td></tr>",
                            "<tr><td>2013</td><td>2</td><td>Sunday</td><td>26</td></tr>",
                            "<tr><td>2014</td><td>1</td><td>Saturday</td><td>26</td></tr>",
                            "<tr><td>2014</td><td>1</td><td>Thursday</td><td>26</td></tr>",
                            "<tr><td>2014</td><td>1</td><td>Wednesday</td><td>26</td></tr>",
                            "<tr><td>2014</td><td>1</td><td>Monday</td><td>26</td></tr>",
                            "<tr><td>2014</td><td>1</td><td>Friday</td><td>26</td></tr>",
                            "<tr><td>2014</td><td>1</td><td>Sunday</td><td>26</td></tr>",
                            "<tr><td>2014</td><td>1</td><td>Tuesday</td><td>25</td></tr>",
                            "<tr><td>2014</td><td>2</td><td>Wednesday</td><td>27</td></tr>",
                            "<tr><td>2014</td><td>2</td><td>Tuesday</td><td>27</td></tr>",
                            "<tr><td>2014</td><td>2</td><td>Monday</td><td>26</td></tr>",
                            "<tr><td>2014</td><td>2</td><td>Sunday</td><td>26</td></tr>",
                            "<tr><td>2014</td><td>2</td><td>Thursday</td><td>26</td></tr>",
                            "<tr><td>2014</td><td>2</td><td>Friday</td><td>26</td></tr>",
                            "<tr><td>2014</td><td>2</td><td>Saturday</td><td>26</td></tr>",
                            "</table>"
                        ]
                    }
                }
            ],
            "execution_count": 8
        },
        {
            "cell_type": "markdown",
            "source": [
                "BETTER CODE\n",
                "\n",
                "adding a WHERE clause to limit the query to a specific range of years. This reduces the amount of data the database engine needs to process."
            ],
            "metadata": {
                "language": "sql",
                "azdata_cell_guid": "c195b877-77e6-4559-859c-5b1186c0a209"
            },
            "attachments": {}
        },
        {
            "cell_type": "code",
            "source": [
                "USE AdventureWorksDW2017;\n",
                "SELECT \n",
                "    CalendarYear,\n",
                "    CalendarSemester,\n",
                "    EnglishDayNameOfWeek,\n",
                "    COUNT(*) AS DayCount\n",
                "FROM \n",
                "    DimDate\n",
                "WHERE \n",
                "    CalendarYear BETWEEN 2011 AND 2014\n",
                "GROUP BY \n",
                "    CalendarYear, \n",
                "    CalendarSemester, \n",
                "    EnglishDayNameOfWeek\n",
                "ORDER BY \n",
                "    CalendarYear, \n",
                "    CalendarSemester, \n",
                "    DayCount DESC;\n",
                ""
            ],
            "metadata": {
                "language": "sql",
                "azdata_cell_guid": "f9c3c713-0824-4bed-bdad-4265f43754ce"
            },
            "outputs": [
                {
                    "output_type": "display_data",
                    "data": {
                        "text/html": "(56 rows affected)"
                    },
                    "metadata": {}
                },
                {
                    "output_type": "display_data",
                    "data": {
                        "text/html": "Total execution time: 00:00:00.019"
                    },
                    "metadata": {}
                },
                {
                    "output_type": "execute_result",
                    "metadata": {},
                    "execution_count": 7,
                    "data": {
                        "application/vnd.dataresource+json": {
                            "schema": {
                                "fields": [
                                    {
                                        "name": "CalendarYear"
                                    },
                                    {
                                        "name": "CalendarSemester"
                                    },
                                    {
                                        "name": "EnglishDayNameOfWeek"
                                    },
                                    {
                                        "name": "DayCount"
                                    }
                                ]
                            },
                            "data": [
                                {
                                    "CalendarYear": "2011",
                                    "CalendarSemester": "1",
                                    "EnglishDayNameOfWeek": "Thursday",
                                    "DayCount": "26"
                                },
                                {
                                    "CalendarYear": "2011",
                                    "CalendarSemester": "1",
                                    "EnglishDayNameOfWeek": "Tuesday",
                                    "DayCount": "26"
                                },
                                {
                                    "CalendarYear": "2011",
                                    "CalendarSemester": "1",
                                    "EnglishDayNameOfWeek": "Monday",
                                    "DayCount": "26"
                                },
                                {
                                    "CalendarYear": "2011",
                                    "CalendarSemester": "1",
                                    "EnglishDayNameOfWeek": "Wednesday",
                                    "DayCount": "26"
                                },
                                {
                                    "CalendarYear": "2011",
                                    "CalendarSemester": "1",
                                    "EnglishDayNameOfWeek": "Saturday",
                                    "DayCount": "26"
                                },
                                {
                                    "CalendarYear": "2011",
                                    "CalendarSemester": "1",
                                    "EnglishDayNameOfWeek": "Sunday",
                                    "DayCount": "26"
                                },
                                {
                                    "CalendarYear": "2011",
                                    "CalendarSemester": "1",
                                    "EnglishDayNameOfWeek": "Friday",
                                    "DayCount": "25"
                                },
                                {
                                    "CalendarYear": "2011",
                                    "CalendarSemester": "2",
                                    "EnglishDayNameOfWeek": "Saturday",
                                    "DayCount": "27"
                                },
                                {
                                    "CalendarYear": "2011",
                                    "CalendarSemester": "2",
                                    "EnglishDayNameOfWeek": "Friday",
                                    "DayCount": "27"
                                },
                                {
                                    "CalendarYear": "2011",
                                    "CalendarSemester": "2",
                                    "EnglishDayNameOfWeek": "Sunday",
                                    "DayCount": "26"
                                },
                                {
                                    "CalendarYear": "2011",
                                    "CalendarSemester": "2",
                                    "EnglishDayNameOfWeek": "Tuesday",
                                    "DayCount": "26"
                                },
                                {
                                    "CalendarYear": "2011",
                                    "CalendarSemester": "2",
                                    "EnglishDayNameOfWeek": "Monday",
                                    "DayCount": "26"
                                },
                                {
                                    "CalendarYear": "2011",
                                    "CalendarSemester": "2",
                                    "EnglishDayNameOfWeek": "Thursday",
                                    "DayCount": "26"
                                },
                                {
                                    "CalendarYear": "2011",
                                    "CalendarSemester": "2",
                                    "EnglishDayNameOfWeek": "Wednesday",
                                    "DayCount": "26"
                                },
                                {
                                    "CalendarYear": "2012",
                                    "CalendarSemester": "1",
                                    "EnglishDayNameOfWeek": "Sunday",
                                    "DayCount": "26"
                                },
                                {
                                    "CalendarYear": "2012",
                                    "CalendarSemester": "1",
                                    "EnglishDayNameOfWeek": "Thursday",
                                    "DayCount": "26"
                                },
                                {
                                    "CalendarYear": "2012",
                                    "CalendarSemester": "1",
                                    "EnglishDayNameOfWeek": "Tuesday",
                                    "DayCount": "26"
                                },
                                {
                                    "CalendarYear": "2012",
                                    "CalendarSemester": "1",
                                    "EnglishDayNameOfWeek": "Friday",
                                    "DayCount": "26"
                                },
                                {
                                    "CalendarYear": "2012",
                                    "CalendarSemester": "1",
                                    "EnglishDayNameOfWeek": "Monday",
                                    "DayCount": "26"
                                },
                                {
                                    "CalendarYear": "2012",
                                    "CalendarSemester": "1",
                                    "EnglishDayNameOfWeek": "Wednesday",
                                    "DayCount": "26"
                                },
                                {
                                    "CalendarYear": "2012",
                                    "CalendarSemester": "1",
                                    "EnglishDayNameOfWeek": "Saturday",
                                    "DayCount": "26"
                                },
                                {
                                    "CalendarYear": "2012",
                                    "CalendarSemester": "2",
                                    "EnglishDayNameOfWeek": "Monday",
                                    "DayCount": "27"
                                },
                                {
                                    "CalendarYear": "2012",
                                    "CalendarSemester": "2",
                                    "EnglishDayNameOfWeek": "Sunday",
                                    "DayCount": "27"
                                },
                                {
                                    "CalendarYear": "2012",
                                    "CalendarSemester": "2",
                                    "EnglishDayNameOfWeek": "Tuesday",
                                    "DayCount": "26"
                                },
                                {
                                    "CalendarYear": "2012",
                                    "CalendarSemester": "2",
                                    "EnglishDayNameOfWeek": "Friday",
                                    "DayCount": "26"
                                },
                                {
                                    "CalendarYear": "2012",
                                    "CalendarSemester": "2",
                                    "EnglishDayNameOfWeek": "Thursday",
                                    "DayCount": "26"
                                },
                                {
                                    "CalendarYear": "2012",
                                    "CalendarSemester": "2",
                                    "EnglishDayNameOfWeek": "Wednesday",
                                    "DayCount": "26"
                                },
                                {
                                    "CalendarYear": "2012",
                                    "CalendarSemester": "2",
                                    "EnglishDayNameOfWeek": "Saturday",
                                    "DayCount": "26"
                                },
                                {
                                    "CalendarYear": "2013",
                                    "CalendarSemester": "1",
                                    "EnglishDayNameOfWeek": "Tuesday",
                                    "DayCount": "26"
                                },
                                {
                                    "CalendarYear": "2013",
                                    "CalendarSemester": "1",
                                    "EnglishDayNameOfWeek": "Wednesday",
                                    "DayCount": "26"
                                },
                                {
                                    "CalendarYear": "2013",
                                    "CalendarSemester": "1",
                                    "EnglishDayNameOfWeek": "Sunday",
                                    "DayCount": "26"
                                },
                                {
                                    "CalendarYear": "2013",
                                    "CalendarSemester": "1",
                                    "EnglishDayNameOfWeek": "Saturday",
                                    "DayCount": "26"
                                },
                                {
                                    "CalendarYear": "2013",
                                    "CalendarSemester": "1",
                                    "EnglishDayNameOfWeek": "Thursday",
                                    "DayCount": "26"
                                },
                                {
                                    "CalendarYear": "2013",
                                    "CalendarSemester": "1",
                                    "EnglishDayNameOfWeek": "Friday",
                                    "DayCount": "26"
                                },
                                {
                                    "CalendarYear": "2013",
                                    "CalendarSemester": "1",
                                    "EnglishDayNameOfWeek": "Monday",
                                    "DayCount": "25"
                                },
                                {
                                    "CalendarYear": "2013",
                                    "CalendarSemester": "2",
                                    "EnglishDayNameOfWeek": "Monday",
                                    "DayCount": "27"
                                },
                                {
                                    "CalendarYear": "2013",
                                    "CalendarSemester": "2",
                                    "EnglishDayNameOfWeek": "Tuesday",
                                    "DayCount": "27"
                                },
                                {
                                    "CalendarYear": "2013",
                                    "CalendarSemester": "2",
                                    "EnglishDayNameOfWeek": "Thursday",
                                    "DayCount": "26"
                                },
                                {
                                    "CalendarYear": "2013",
                                    "CalendarSemester": "2",
                                    "EnglishDayNameOfWeek": "Friday",
                                    "DayCount": "26"
                                },
                                {
                                    "CalendarYear": "2013",
                                    "CalendarSemester": "2",
                                    "EnglishDayNameOfWeek": "Saturday",
                                    "DayCount": "26"
                                },
                                {
                                    "CalendarYear": "2013",
                                    "CalendarSemester": "2",
                                    "EnglishDayNameOfWeek": "Wednesday",
                                    "DayCount": "26"
                                },
                                {
                                    "CalendarYear": "2013",
                                    "CalendarSemester": "2",
                                    "EnglishDayNameOfWeek": "Sunday",
                                    "DayCount": "26"
                                },
                                {
                                    "CalendarYear": "2014",
                                    "CalendarSemester": "1",
                                    "EnglishDayNameOfWeek": "Saturday",
                                    "DayCount": "26"
                                },
                                {
                                    "CalendarYear": "2014",
                                    "CalendarSemester": "1",
                                    "EnglishDayNameOfWeek": "Thursday",
                                    "DayCount": "26"
                                },
                                {
                                    "CalendarYear": "2014",
                                    "CalendarSemester": "1",
                                    "EnglishDayNameOfWeek": "Sunday",
                                    "DayCount": "26"
                                },
                                {
                                    "CalendarYear": "2014",
                                    "CalendarSemester": "1",
                                    "EnglishDayNameOfWeek": "Friday",
                                    "DayCount": "26"
                                },
                                {
                                    "CalendarYear": "2014",
                                    "CalendarSemester": "1",
                                    "EnglishDayNameOfWeek": "Wednesday",
                                    "DayCount": "26"
                                },
                                {
                                    "CalendarYear": "2014",
                                    "CalendarSemester": "1",
                                    "EnglishDayNameOfWeek": "Monday",
                                    "DayCount": "26"
                                },
                                {
                                    "CalendarYear": "2014",
                                    "CalendarSemester": "1",
                                    "EnglishDayNameOfWeek": "Tuesday",
                                    "DayCount": "25"
                                },
                                {
                                    "CalendarYear": "2014",
                                    "CalendarSemester": "2",
                                    "EnglishDayNameOfWeek": "Wednesday",
                                    "DayCount": "27"
                                },
                                {
                                    "CalendarYear": "2014",
                                    "CalendarSemester": "2",
                                    "EnglishDayNameOfWeek": "Tuesday",
                                    "DayCount": "27"
                                },
                                {
                                    "CalendarYear": "2014",
                                    "CalendarSemester": "2",
                                    "EnglishDayNameOfWeek": "Thursday",
                                    "DayCount": "26"
                                },
                                {
                                    "CalendarYear": "2014",
                                    "CalendarSemester": "2",
                                    "EnglishDayNameOfWeek": "Monday",
                                    "DayCount": "26"
                                },
                                {
                                    "CalendarYear": "2014",
                                    "CalendarSemester": "2",
                                    "EnglishDayNameOfWeek": "Saturday",
                                    "DayCount": "26"
                                },
                                {
                                    "CalendarYear": "2014",
                                    "CalendarSemester": "2",
                                    "EnglishDayNameOfWeek": "Friday",
                                    "DayCount": "26"
                                },
                                {
                                    "CalendarYear": "2014",
                                    "CalendarSemester": "2",
                                    "EnglishDayNameOfWeek": "Sunday",
                                    "DayCount": "26"
                                }
                            ]
                        },
                        "text/html": [
                            "<table>",
                            "<tr><th>CalendarYear</th><th>CalendarSemester</th><th>EnglishDayNameOfWeek</th><th>DayCount</th></tr>",
                            "<tr><td>2011</td><td>1</td><td>Thursday</td><td>26</td></tr>",
                            "<tr><td>2011</td><td>1</td><td>Tuesday</td><td>26</td></tr>",
                            "<tr><td>2011</td><td>1</td><td>Monday</td><td>26</td></tr>",
                            "<tr><td>2011</td><td>1</td><td>Wednesday</td><td>26</td></tr>",
                            "<tr><td>2011</td><td>1</td><td>Saturday</td><td>26</td></tr>",
                            "<tr><td>2011</td><td>1</td><td>Sunday</td><td>26</td></tr>",
                            "<tr><td>2011</td><td>1</td><td>Friday</td><td>25</td></tr>",
                            "<tr><td>2011</td><td>2</td><td>Saturday</td><td>27</td></tr>",
                            "<tr><td>2011</td><td>2</td><td>Friday</td><td>27</td></tr>",
                            "<tr><td>2011</td><td>2</td><td>Sunday</td><td>26</td></tr>",
                            "<tr><td>2011</td><td>2</td><td>Tuesday</td><td>26</td></tr>",
                            "<tr><td>2011</td><td>2</td><td>Monday</td><td>26</td></tr>",
                            "<tr><td>2011</td><td>2</td><td>Thursday</td><td>26</td></tr>",
                            "<tr><td>2011</td><td>2</td><td>Wednesday</td><td>26</td></tr>",
                            "<tr><td>2012</td><td>1</td><td>Sunday</td><td>26</td></tr>",
                            "<tr><td>2012</td><td>1</td><td>Thursday</td><td>26</td></tr>",
                            "<tr><td>2012</td><td>1</td><td>Tuesday</td><td>26</td></tr>",
                            "<tr><td>2012</td><td>1</td><td>Friday</td><td>26</td></tr>",
                            "<tr><td>2012</td><td>1</td><td>Monday</td><td>26</td></tr>",
                            "<tr><td>2012</td><td>1</td><td>Wednesday</td><td>26</td></tr>",
                            "<tr><td>2012</td><td>1</td><td>Saturday</td><td>26</td></tr>",
                            "<tr><td>2012</td><td>2</td><td>Monday</td><td>27</td></tr>",
                            "<tr><td>2012</td><td>2</td><td>Sunday</td><td>27</td></tr>",
                            "<tr><td>2012</td><td>2</td><td>Tuesday</td><td>26</td></tr>",
                            "<tr><td>2012</td><td>2</td><td>Friday</td><td>26</td></tr>",
                            "<tr><td>2012</td><td>2</td><td>Thursday</td><td>26</td></tr>",
                            "<tr><td>2012</td><td>2</td><td>Wednesday</td><td>26</td></tr>",
                            "<tr><td>2012</td><td>2</td><td>Saturday</td><td>26</td></tr>",
                            "<tr><td>2013</td><td>1</td><td>Tuesday</td><td>26</td></tr>",
                            "<tr><td>2013</td><td>1</td><td>Wednesday</td><td>26</td></tr>",
                            "<tr><td>2013</td><td>1</td><td>Sunday</td><td>26</td></tr>",
                            "<tr><td>2013</td><td>1</td><td>Saturday</td><td>26</td></tr>",
                            "<tr><td>2013</td><td>1</td><td>Thursday</td><td>26</td></tr>",
                            "<tr><td>2013</td><td>1</td><td>Friday</td><td>26</td></tr>",
                            "<tr><td>2013</td><td>1</td><td>Monday</td><td>25</td></tr>",
                            "<tr><td>2013</td><td>2</td><td>Monday</td><td>27</td></tr>",
                            "<tr><td>2013</td><td>2</td><td>Tuesday</td><td>27</td></tr>",
                            "<tr><td>2013</td><td>2</td><td>Thursday</td><td>26</td></tr>",
                            "<tr><td>2013</td><td>2</td><td>Friday</td><td>26</td></tr>",
                            "<tr><td>2013</td><td>2</td><td>Saturday</td><td>26</td></tr>",
                            "<tr><td>2013</td><td>2</td><td>Wednesday</td><td>26</td></tr>",
                            "<tr><td>2013</td><td>2</td><td>Sunday</td><td>26</td></tr>",
                            "<tr><td>2014</td><td>1</td><td>Saturday</td><td>26</td></tr>",
                            "<tr><td>2014</td><td>1</td><td>Thursday</td><td>26</td></tr>",
                            "<tr><td>2014</td><td>1</td><td>Sunday</td><td>26</td></tr>",
                            "<tr><td>2014</td><td>1</td><td>Friday</td><td>26</td></tr>",
                            "<tr><td>2014</td><td>1</td><td>Wednesday</td><td>26</td></tr>",
                            "<tr><td>2014</td><td>1</td><td>Monday</td><td>26</td></tr>",
                            "<tr><td>2014</td><td>1</td><td>Tuesday</td><td>25</td></tr>",
                            "<tr><td>2014</td><td>2</td><td>Wednesday</td><td>27</td></tr>",
                            "<tr><td>2014</td><td>2</td><td>Tuesday</td><td>27</td></tr>",
                            "<tr><td>2014</td><td>2</td><td>Thursday</td><td>26</td></tr>",
                            "<tr><td>2014</td><td>2</td><td>Monday</td><td>26</td></tr>",
                            "<tr><td>2014</td><td>2</td><td>Saturday</td><td>26</td></tr>",
                            "<tr><td>2014</td><td>2</td><td>Friday</td><td>26</td></tr>",
                            "<tr><td>2014</td><td>2</td><td>Sunday</td><td>26</td></tr>",
                            "</table>"
                        ]
                    }
                }
            ],
            "execution_count": 7
        },
        {
            "cell_type": "markdown",
            "source": [
                "**QUERY 20**\n",
                "\n",
                "**Problem**:  Write an SQL query to track monthly trends in call volume and average time per issue in the call center.\n",
                "\n",
                "**Tables:** \n",
                "\n",
                "FactCallCenter\n",
                "\n",
                "DimDate\n",
                "\n",
                "**Columns:** \n",
                "\n",
                "DimDate\n",
                "\n",
                "> CalenderYear\n",
                "> \n",
                "> MonthNumberOfYear\n",
                "\n",
                "FactCallCenter\n",
                "\n",
                "> FactCallCenterID\n",
                "> \n",
                "> AverageTimePerIssue\n",
                "\n",
                "**Predicate:** \n",
                "\n",
                "The query groups the results by d.CalendarYear and d.MonthNumberOfYear using the GROUP BY clause. This aggregation is crucial for analyzing monthly trends within each year.\n",
                "\n",
                " The results are ordered by d.CalendarYear and d.MonthNumberOfYear using the ORDER BY clause. This ensures that the output is sorted first by year and then by month, making it easy to follow and analyze trends over time."
            ],
            "metadata": {
                "language": "sql",
                "azdata_cell_guid": "65780e44-10fa-4b4f-bfb2-93bb295771e6"
            },
            "attachments": {}
        },
        {
            "cell_type": "code",
            "source": [
                "--20  Write an SQL query to track monthly trends in call volume and average time per issue in the call center. \n",
                "USE AdventureWorksDW2017;\n",
                "SELECT \n",
                "    d.CalendarYear,\n",
                "    d.MonthNumberOfYear,\n",
                "    COUNT(f.FactCallCenterID) AS TotalCalls,\n",
                "    AVG(f.AverageTimePerIssue) AS AverageTimePerIssue\n",
                "FROM \n",
                "    FactCallCenter f\n",
                "JOIN \n",
                "    DimDate d ON f.DateKey = d.DateKey\n",
                "GROUP BY \n",
                "    d.CalendarYear, \n",
                "    d.MonthNumberOfYear\n",
                "ORDER BY \n",
                "    d.CalendarYear, \n",
                "    d.MonthNumberOfYear;"
            ],
            "metadata": {
                "language": "sql",
                "azdata_cell_guid": "07632060-951f-4457-89f6-3511be4d50d7"
            },
            "outputs": [
                {
                    "output_type": "display_data",
                    "data": {
                        "text/html": "(1 row affected)"
                    },
                    "metadata": {}
                },
                {
                    "output_type": "display_data",
                    "data": {
                        "text/html": "Total execution time: 00:00:00.021"
                    },
                    "metadata": {}
                },
                {
                    "output_type": "execute_result",
                    "metadata": {},
                    "execution_count": 1,
                    "data": {
                        "application/vnd.dataresource+json": {
                            "schema": {
                                "fields": [
                                    {
                                        "name": "CalendarYear"
                                    },
                                    {
                                        "name": "MonthNumberOfYear"
                                    },
                                    {
                                        "name": "TotalCalls"
                                    },
                                    {
                                        "name": "AverageTimePerIssue"
                                    }
                                ]
                            },
                            "data": [
                                {
                                    "CalendarYear": "2014",
                                    "MonthNumberOfYear": "5",
                                    "TotalCalls": "120",
                                    "AverageTimePerIssue": "79"
                                }
                            ]
                        },
                        "text/html": [
                            "<table>",
                            "<tr><th>CalendarYear</th><th>MonthNumberOfYear</th><th>TotalCalls</th><th>AverageTimePerIssue</th></tr>",
                            "<tr><td>2014</td><td>5</td><td>120</td><td>79</td></tr>",
                            "</table>"
                        ]
                    }
                }
            ],
            "execution_count": 1
        }
    ]
}