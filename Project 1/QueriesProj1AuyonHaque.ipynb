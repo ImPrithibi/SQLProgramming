{
    "metadata": {
        "kernelspec": {
            "name": "SQL",
            "display_name": "SQL",
            "language": "sql"
        },
        "language_info": {
            "name": "sql",
            "version": ""
        }
    },
    "nbformat_minor": 2,
    "nbformat": 4,
    "cells": [
        {
            "cell_type": "code",
            "source": [
                "--1\n",
                "--listing all abilities shared by Pokémon across different generations, including the count of Pokémon per ability and the generations they span\n",
                "\n",
                "\n",
                "USE PokemonGen1;\n",
                "USE PokemonGen2;\n",
                "USE PokemonGen3;\n",
                "\n",
                "WITH AbilityCounts AS (\n",
                "  SELECT Ability1, 'Gen1' AS Generation\n",
                "  FROM PokemonGen1.dbo.PokemonGen1\n",
                "  UNION ALL\n",
                "  SELECT ability1, 'Gen2'\n",
                "  FROM PokemonGen2.dbo.PokemonGen2\n",
                "  UNION ALL\n",
                "  SELECT ability1, 'Gen3'\n",
                "  FROM PokemonGen3.dbo.PokemonGen3\n",
                "),\n",
                "RankedAbilities AS (\n",
                "  SELECT Ability1, COUNT(*) AS TotalCount, STRING_AGG(Generation, ', ') WITHIN GROUP (ORDER BY Generation) AS Generations\n",
                "  FROM AbilityCounts\n",
                "  GROUP BY Ability1\n",
                "  HAVING COUNT(DISTINCT Generation) > 1 -- Abilities that appear in more than one generation\n",
                ")\n",
                "SELECT Ability1, TotalCount, Generations\n",
                "FROM RankedAbilities\n",
                "ORDER BY TotalCount DESC, Ability1;\n",
                "\n",
                ""
            ],
            "metadata": {
                "azdata_cell_guid": "5057ad39-2e9f-49c6-b9b5-a8702d96725e",
                "language": "sql"
            },
            "outputs": [
                {
                    "output_type": "display_data",
                    "data": {
                        "text/html": "(48 rows affected)"
                    },
                    "metadata": {}
                },
                {
                    "output_type": "display_data",
                    "data": {
                        "text/html": "Total execution time: 00:00:00.045"
                    },
                    "metadata": {}
                },
                {
                    "output_type": "execute_result",
                    "metadata": {},
                    "execution_count": 2,
                    "data": {
                        "application/vnd.dataresource+json": {
                            "schema": {
                                "fields": [
                                    {
                                        "name": "Ability1"
                                    },
                                    {
                                        "name": "TotalCount"
                                    },
                                    {
                                        "name": "Generations"
                                    }
                                ]
                            },
                            "data": [
                                {
                                    "Ability1": "Chlorophyll",
                                    "TotalCount": "19",
                                    "Generations": "Gen1, Gen1, Gen1, Gen1, Gen1, Gen1, Gen1, Gen1, Gen1, Gen2, Gen2, Gen2, Gen2, Gen2, Gen2, Gen3, Gen3, Gen3, Gen3"
                                },
                                {
                                    "Ability1": "Swift Swim",
                                    "TotalCount": "19",
                                    "Generations": "Gen1, Gen1, Gen1, Gen1, Gen1, Gen1, Gen1, Gen1, Gen2, Gen2, Gen3, Gen3, Gen3, Gen3, Gen3, Gen3, Gen3, Gen3, Gen3"
                                },
                                {
                                    "Ability1": "Levitate",
                                    "TotalCount": "16",
                                    "Generations": "Gen1, Gen1, Gen1, Gen1, Gen2, Gen2, Gen3, Gen3, Gen3, Gen3, Gen3, Gen3, Gen3, Gen3, Gen3, Gen3"
                                },
                                {
                                    "Ability1": "Intimidate",
                                    "TotalCount": "13",
                                    "Generations": "Gen1, Gen1, Gen1, Gen1, Gen1, Gen1, Gen2, Gen2, Gen2, Gen2, Gen3, Gen3, Gen3"
                                },
                                {
                                    "Ability1": "Thick Fat",
                                    "TotalCount": "13",
                                    "Generations": "Gen1, Gen1, Gen2, Gen2, Gen2, Gen3, Gen3, Gen3, Gen3, Gen3, Gen3, Gen3, Gen3"
                                },
                                {
                                    "Ability1": "Pressure",
                                    "TotalCount": "12",
                                    "Generations": "Gen1, Gen1, Gen1, Gen1, Gen2, Gen2, Gen2, Gen2, Gen2, Gen3, Gen3, Gen3"
                                },
                                {
                                    "Ability1": "Keen Eye",
                                    "TotalCount": "11",
                                    "Generations": "Gen1, Gen1, Gen1, Gen1, Gen1, Gen1, Gen1, Gen2, Gen3, Gen3, Gen3"
                                },
                                {
                                    "Ability1": "Oblivious",
                                    "TotalCount": "11",
                                    "Generations": "Gen1, Gen1, Gen1, Gen2, Gen2, Gen2, Gen2, Gen3, Gen3, Gen3, Gen3"
                                },
                                {
                                    "Ability1": "Run Away",
                                    "TotalCount": "11",
                                    "Generations": "Gen1, Gen1, Gen1, Gen1, Gen1, Gen1, Gen1, Gen2, Gen2, Gen2, Gen3"
                                },
                                {
                                    "Ability1": "Synchronize",
                                    "TotalCount": "11",
                                    "Generations": "Gen1, Gen1, Gen1, Gen1, Gen2, Gen2, Gen2, Gen2, Gen3, Gen3, Gen3"
                                },
                                {
                                    "Ability1": "Rock Head",
                                    "TotalCount": "10",
                                    "Generations": "Gen1, Gen1, Gen1, Gen1, Gen1, Gen1, Gen1, Gen2, Gen3, Gen3"
                                },
                                {
                                    "Ability1": "Static",
                                    "TotalCount": "10",
                                    "Generations": "Gen1, Gen1, Gen1, Gen2, Gen2, Gen2, Gen2, Gen2, Gen3, Gen3"
                                },
                                {
                                    "Ability1": "Blaze",
                                    "TotalCount": "9",
                                    "Generations": "Gen1, Gen1, Gen1, Gen2, Gen2, Gen2, Gen3, Gen3, Gen3"
                                },
                                {
                                    "Ability1": "Overgrow",
                                    "TotalCount": "9",
                                    "Generations": "Gen1, Gen1, Gen1, Gen2, Gen2, Gen2, Gen3, Gen3, Gen3"
                                },
                                {
                                    "Ability1": "Sturdy",
                                    "TotalCount": "9",
                                    "Generations": "Gen2, Gen2, Gen2, Gen2, Gen2, Gen3, Gen3, Gen3, Gen3"
                                },
                                {
                                    "Ability1": "Swarm",
                                    "TotalCount": "9",
                                    "Generations": "Gen1, Gen1, Gen2, Gen2, Gen2, Gen2, Gen2, Gen2, Gen3"
                                },
                                {
                                    "Ability1": "Torrent",
                                    "TotalCount": "9",
                                    "Generations": "Gen1, Gen1, Gen1, Gen2, Gen2, Gen2, Gen3, Gen3, Gen3"
                                },
                                {
                                    "Ability1": "Clear Body",
                                    "TotalCount": "8",
                                    "Generations": "Gen1, Gen1, Gen3, Gen3, Gen3, Gen3, Gen3, Gen3"
                                },
                                {
                                    "Ability1": "Cute Charm",
                                    "TotalCount": "8",
                                    "Generations": "Gen1, Gen1, Gen1, Gen1, Gen2, Gen2, Gen3, Gen3"
                                },
                                {
                                    "Ability1": "Guts",
                                    "TotalCount": "8",
                                    "Generations": "Gen1, Gen1, Gen1, Gen2, Gen2, Gen2, Gen3, Gen3"
                                },
                                {
                                    "Ability1": "Hyper Cutter",
                                    "TotalCount": "8",
                                    "Generations": "Gen1, Gen1, Gen1, Gen2, Gen3, Gen3, Gen3, Gen3"
                                },
                                {
                                    "Ability1": "Inner Focus",
                                    "TotalCount": "8",
                                    "Generations": "Gen1, Gen1, Gen1, Gen2, Gen2, Gen2, Gen3, Gen3"
                                },
                                {
                                    "Ability1": "Shed Skin",
                                    "TotalCount": "8",
                                    "Generations": "Gen1, Gen1, Gen1, Gen1, Gen2, Gen3, Gen3, Gen3"
                                },
                                {
                                    "Ability1": "Insomnia",
                                    "TotalCount": "7",
                                    "Generations": "Gen1, Gen1, Gen2, Gen2, Gen2, Gen3, Gen3"
                                },
                                {
                                    "Ability1": "Poison Point",
                                    "TotalCount": "7",
                                    "Generations": "Gen1, Gen1, Gen1, Gen1, Gen1, Gen1, Gen2"
                                },
                                {
                                    "Ability1": "Natural Cure",
                                    "TotalCount": "6",
                                    "Generations": "Gen1, Gen2, Gen2, Gen3, Gen3, Gen3"
                                },
                                {
                                    "Ability1": "Sand Veil",
                                    "TotalCount": "6",
                                    "Generations": "Gen1, Gen1, Gen1, Gen1, Gen3, Gen3"
                                },
                                {
                                    "Ability1": "Soundproof",
                                    "TotalCount": "6",
                                    "Generations": "Gen1, Gen1, Gen1, Gen3, Gen3, Gen3"
                                },
                                {
                                    "Ability1": "Water Absorb",
                                    "TotalCount": "6",
                                    "Generations": "Gen1, Gen1, Gen1, Gen1, Gen1, Gen2"
                                },
                                {
                                    "Ability1": "Pickup",
                                    "TotalCount": "5",
                                    "Generations": "Gen1, Gen2, Gen2, Gen3, Gen3"
                                },
                                {
                                    "Ability1": "Shield Dust",
                                    "TotalCount": "5",
                                    "Generations": "Gen1, Gen1, Gen1, Gen3, Gen3"
                                },
                                {
                                    "Ability1": "Damp",
                                    "TotalCount": "4",
                                    "Generations": "Gen1, Gen1, Gen2, Gen2"
                                },
                                {
                                    "Ability1": "Effect Spore",
                                    "TotalCount": "4",
                                    "Generations": "Gen1, Gen1, Gen3, Gen3"
                                },
                                {
                                    "Ability1": "Vital Spirit",
                                    "TotalCount": "4",
                                    "Generations": "Gen1, Gen1, Gen2, Gen3"
                                },
                                {
                                    "Ability1": "Compoundeyes",
                                    "TotalCount": "3",
                                    "Generations": "Gen1, Gen1, Gen3"
                                },
                                {
                                    "Ability1": "Early Bird",
                                    "TotalCount": "3",
                                    "Generations": "Gen1, Gen2, Gen2"
                                },
                                {
                                    "Ability1": "Illuminate",
                                    "TotalCount": "3",
                                    "Generations": "Gen1, Gen1, Gen3"
                                },
                                {
                                    "Ability1": "Magma Armor",
                                    "TotalCount": "3",
                                    "Generations": "Gen2, Gen2, Gen3"
                                },
                                {
                                    "Ability1": "Own Tempo",
                                    "TotalCount": "3",
                                    "Generations": "Gen1, Gen2, Gen3"
                                },
                                {
                                    "Ability1": "Shell Armor",
                                    "TotalCount": "3",
                                    "Generations": "Gen1, Gen1, Gen3"
                                },
                                {
                                    "Ability1": "Suction Cups",
                                    "TotalCount": "3",
                                    "Generations": "Gen2, Gen3, Gen3"
                                },
                                {
                                    "Ability1": "Volt Absorb",
                                    "TotalCount": "3",
                                    "Generations": "Gen1, Gen2, Gen2"
                                },
                                {
                                    "Ability1": "Flame Body",
                                    "TotalCount": "2",
                                    "Generations": "Gen1, Gen2"
                                },
                                {
                                    "Ability1": "Immunity",
                                    "TotalCount": "2",
                                    "Generations": "Gen1, Gen3"
                                },
                                {
                                    "Ability1": "Serene Grace",
                                    "TotalCount": "2",
                                    "Generations": "Gen2, Gen3"
                                },
                                {
                                    "Ability1": "Shadow Tag",
                                    "TotalCount": "2",
                                    "Generations": "Gen2, Gen3"
                                },
                                {
                                    "Ability1": "Speed Boost",
                                    "TotalCount": "2",
                                    "Generations": "Gen2, Gen3"
                                },
                                {
                                    "Ability1": "Trace",
                                    "TotalCount": "2",
                                    "Generations": "Gen1, Gen2"
                                }
                            ]
                        },
                        "text/html": [
                            "<table>",
                            "<tr><th>Ability1</th><th>TotalCount</th><th>Generations</th></tr>",
                            "<tr><td>Chlorophyll</td><td>19</td><td>Gen1, Gen1, Gen1, Gen1, Gen1, Gen1, Gen1, Gen1, Gen1, Gen2, Gen2, Gen2, Gen2, Gen2, Gen2, Gen3, Gen3, Gen3, Gen3</td></tr>",
                            "<tr><td>Swift Swim</td><td>19</td><td>Gen1, Gen1, Gen1, Gen1, Gen1, Gen1, Gen1, Gen1, Gen2, Gen2, Gen3, Gen3, Gen3, Gen3, Gen3, Gen3, Gen3, Gen3, Gen3</td></tr>",
                            "<tr><td>Levitate</td><td>16</td><td>Gen1, Gen1, Gen1, Gen1, Gen2, Gen2, Gen3, Gen3, Gen3, Gen3, Gen3, Gen3, Gen3, Gen3, Gen3, Gen3</td></tr>",
                            "<tr><td>Intimidate</td><td>13</td><td>Gen1, Gen1, Gen1, Gen1, Gen1, Gen1, Gen2, Gen2, Gen2, Gen2, Gen3, Gen3, Gen3</td></tr>",
                            "<tr><td>Thick Fat</td><td>13</td><td>Gen1, Gen1, Gen2, Gen2, Gen2, Gen3, Gen3, Gen3, Gen3, Gen3, Gen3, Gen3, Gen3</td></tr>",
                            "<tr><td>Pressure</td><td>12</td><td>Gen1, Gen1, Gen1, Gen1, Gen2, Gen2, Gen2, Gen2, Gen2, Gen3, Gen3, Gen3</td></tr>",
                            "<tr><td>Keen Eye</td><td>11</td><td>Gen1, Gen1, Gen1, Gen1, Gen1, Gen1, Gen1, Gen2, Gen3, Gen3, Gen3</td></tr>",
                            "<tr><td>Oblivious</td><td>11</td><td>Gen1, Gen1, Gen1, Gen2, Gen2, Gen2, Gen2, Gen3, Gen3, Gen3, Gen3</td></tr>",
                            "<tr><td>Run Away</td><td>11</td><td>Gen1, Gen1, Gen1, Gen1, Gen1, Gen1, Gen1, Gen2, Gen2, Gen2, Gen3</td></tr>",
                            "<tr><td>Synchronize</td><td>11</td><td>Gen1, Gen1, Gen1, Gen1, Gen2, Gen2, Gen2, Gen2, Gen3, Gen3, Gen3</td></tr>",
                            "<tr><td>Rock Head</td><td>10</td><td>Gen1, Gen1, Gen1, Gen1, Gen1, Gen1, Gen1, Gen2, Gen3, Gen3</td></tr>",
                            "<tr><td>Static</td><td>10</td><td>Gen1, Gen1, Gen1, Gen2, Gen2, Gen2, Gen2, Gen2, Gen3, Gen3</td></tr>",
                            "<tr><td>Blaze</td><td>9</td><td>Gen1, Gen1, Gen1, Gen2, Gen2, Gen2, Gen3, Gen3, Gen3</td></tr>",
                            "<tr><td>Overgrow</td><td>9</td><td>Gen1, Gen1, Gen1, Gen2, Gen2, Gen2, Gen3, Gen3, Gen3</td></tr>",
                            "<tr><td>Sturdy</td><td>9</td><td>Gen2, Gen2, Gen2, Gen2, Gen2, Gen3, Gen3, Gen3, Gen3</td></tr>",
                            "<tr><td>Swarm</td><td>9</td><td>Gen1, Gen1, Gen2, Gen2, Gen2, Gen2, Gen2, Gen2, Gen3</td></tr>",
                            "<tr><td>Torrent</td><td>9</td><td>Gen1, Gen1, Gen1, Gen2, Gen2, Gen2, Gen3, Gen3, Gen3</td></tr>",
                            "<tr><td>Clear Body</td><td>8</td><td>Gen1, Gen1, Gen3, Gen3, Gen3, Gen3, Gen3, Gen3</td></tr>",
                            "<tr><td>Cute Charm</td><td>8</td><td>Gen1, Gen1, Gen1, Gen1, Gen2, Gen2, Gen3, Gen3</td></tr>",
                            "<tr><td>Guts</td><td>8</td><td>Gen1, Gen1, Gen1, Gen2, Gen2, Gen2, Gen3, Gen3</td></tr>",
                            "<tr><td>Hyper Cutter</td><td>8</td><td>Gen1, Gen1, Gen1, Gen2, Gen3, Gen3, Gen3, Gen3</td></tr>",
                            "<tr><td>Inner Focus</td><td>8</td><td>Gen1, Gen1, Gen1, Gen2, Gen2, Gen2, Gen3, Gen3</td></tr>",
                            "<tr><td>Shed Skin</td><td>8</td><td>Gen1, Gen1, Gen1, Gen1, Gen2, Gen3, Gen3, Gen3</td></tr>",
                            "<tr><td>Insomnia</td><td>7</td><td>Gen1, Gen1, Gen2, Gen2, Gen2, Gen3, Gen3</td></tr>",
                            "<tr><td>Poison Point</td><td>7</td><td>Gen1, Gen1, Gen1, Gen1, Gen1, Gen1, Gen2</td></tr>",
                            "<tr><td>Natural Cure</td><td>6</td><td>Gen1, Gen2, Gen2, Gen3, Gen3, Gen3</td></tr>",
                            "<tr><td>Sand Veil</td><td>6</td><td>Gen1, Gen1, Gen1, Gen1, Gen3, Gen3</td></tr>",
                            "<tr><td>Soundproof</td><td>6</td><td>Gen1, Gen1, Gen1, Gen3, Gen3, Gen3</td></tr>",
                            "<tr><td>Water Absorb</td><td>6</td><td>Gen1, Gen1, Gen1, Gen1, Gen1, Gen2</td></tr>",
                            "<tr><td>Pickup</td><td>5</td><td>Gen1, Gen2, Gen2, Gen3, Gen3</td></tr>",
                            "<tr><td>Shield Dust</td><td>5</td><td>Gen1, Gen1, Gen1, Gen3, Gen3</td></tr>",
                            "<tr><td>Damp</td><td>4</td><td>Gen1, Gen1, Gen2, Gen2</td></tr>",
                            "<tr><td>Effect Spore</td><td>4</td><td>Gen1, Gen1, Gen3, Gen3</td></tr>",
                            "<tr><td>Vital Spirit</td><td>4</td><td>Gen1, Gen1, Gen2, Gen3</td></tr>",
                            "<tr><td>Compoundeyes</td><td>3</td><td>Gen1, Gen1, Gen3</td></tr>",
                            "<tr><td>Early Bird</td><td>3</td><td>Gen1, Gen2, Gen2</td></tr>",
                            "<tr><td>Illuminate</td><td>3</td><td>Gen1, Gen1, Gen3</td></tr>",
                            "<tr><td>Magma Armor</td><td>3</td><td>Gen2, Gen2, Gen3</td></tr>",
                            "<tr><td>Own Tempo</td><td>3</td><td>Gen1, Gen2, Gen3</td></tr>",
                            "<tr><td>Shell Armor</td><td>3</td><td>Gen1, Gen1, Gen3</td></tr>",
                            "<tr><td>Suction Cups</td><td>3</td><td>Gen2, Gen3, Gen3</td></tr>",
                            "<tr><td>Volt Absorb</td><td>3</td><td>Gen1, Gen2, Gen2</td></tr>",
                            "<tr><td>Flame Body</td><td>2</td><td>Gen1, Gen2</td></tr>",
                            "<tr><td>Immunity</td><td>2</td><td>Gen1, Gen3</td></tr>",
                            "<tr><td>Serene Grace</td><td>2</td><td>Gen2, Gen3</td></tr>",
                            "<tr><td>Shadow Tag</td><td>2</td><td>Gen2, Gen3</td></tr>",
                            "<tr><td>Speed Boost</td><td>2</td><td>Gen2, Gen3</td></tr>",
                            "<tr><td>Trace</td><td>2</td><td>Gen1, Gen2</td></tr>",
                            "</table>"
                        ]
                    }
                }
            ],
            "execution_count": 2
        },
        {
            "cell_type": "code",
            "source": [
                "--2\n",
                "--Find Pokémon that have moves unique to their generation, excluding moves learned by Pokémon in other generations\n",
                "USE PokemonGen1;\n",
                "USE PokemonGen2;\n",
                "USE PokemonGen3;\n",
                "\n",
                "WITH Abilities AS (\n",
                "  SELECT Ability AS Ability, 'Gen1' AS Generation FROM PokemonGen1.dbo.PokemonGen1\n",
                "  UNPIVOT\n",
                "  (Ability FOR AbilityNumber IN (Ability1, Ability2, Ability3)) AS unpvt\n",
                "  UNION ALL\n",
                "  SELECT Ability, 'Gen2' FROM PokemonGen2.dbo.PokemonGen2\n",
                "  UNPIVOT\n",
                "  (Ability FOR AbilityNumber IN (Ability1, Ability2, Ability3)) AS unpvt\n",
                "  UNION ALL\n",
                "  SELECT Ability, 'Gen3' FROM PokemonGen3.dbo.PokemonGen3\n",
                "  UNPIVOT\n",
                "  (Ability FOR AbilityNumber IN (Ability1, Ability2, Ability3)) AS unpvt\n",
                "),\n",
                "UniqueAbilities AS (\n",
                "  SELECT Ability, COUNT(*) AS Count, STRING_AGG(Generation, ', ') WITHIN GROUP (ORDER BY Generation) AS Generations\n",
                "  FROM Abilities\n",
                "  GROUP BY Ability\n",
                "  HAVING COUNT(*) = 1\n",
                ")\n",
                "SELECT Ability, Generations\n",
                "FROM UniqueAbilities\n",
                "ORDER BY Ability;"
            ],
            "metadata": {
                "azdata_cell_guid": "65c15614-9f17-4d51-bdde-60eb9c6ffff8",
                "language": "sql"
            },
            "outputs": [
                {
                    "output_type": "display_data",
                    "data": {
                        "text/html": "(16 rows affected)"
                    },
                    "metadata": {}
                },
                {
                    "output_type": "display_data",
                    "data": {
                        "text/html": "Total execution time: 00:00:00.031"
                    },
                    "metadata": {}
                },
                {
                    "output_type": "execute_result",
                    "metadata": {},
                    "execution_count": 3,
                    "data": {
                        "application/vnd.dataresource+json": {
                            "schema": {
                                "fields": [
                                    {
                                        "name": "Ability"
                                    },
                                    {
                                        "name": "Generations"
                                    }
                                ]
                            },
                            "data": [
                                {
                                    "Ability": "Air Lock",
                                    "Generations": "Gen3"
                                },
                                {
                                    "Ability": "Color Change",
                                    "Generations": "Gen3"
                                },
                                {
                                    "Ability": "Filter",
                                    "Generations": "Gen1"
                                },
                                {
                                    "Ability": "Forecast",
                                    "Generations": "Gen3"
                                },
                                {
                                    "Ability": "Honey Gather",
                                    "Generations": "Gen2"
                                },
                                {
                                    "Ability": "Imposter",
                                    "Generations": "Gen1"
                                },
                                {
                                    "Ability": "Mold Breaker",
                                    "Generations": "Gen1"
                                },
                                {
                                    "Ability": "Protean",
                                    "Generations": "Gen3"
                                },
                                {
                                    "Ability": "Sand Stream",
                                    "Generations": "Gen2"
                                },
                                {
                                    "Ability": "Simple",
                                    "Generations": "Gen3"
                                },
                                {
                                    "Ability": "Solid Rock",
                                    "Generations": "Gen3"
                                },
                                {
                                    "Ability": "Stall",
                                    "Generations": "Gen3"
                                },
                                {
                                    "Ability": "Toxic Boost",
                                    "Generations": "Gen3"
                                },
                                {
                                    "Ability": "White Smoke",
                                    "Generations": "Gen3"
                                },
                                {
                                    "Ability": "Wind Rider",
                                    "Generations": "Gen3"
                                },
                                {
                                    "Ability": "Wonder Guard",
                                    "Generations": "Gen3"
                                }
                            ]
                        },
                        "text/html": [
                            "<table>",
                            "<tr><th>Ability</th><th>Generations</th></tr>",
                            "<tr><td>Air Lock</td><td>Gen3</td></tr>",
                            "<tr><td>Color Change</td><td>Gen3</td></tr>",
                            "<tr><td>Filter</td><td>Gen1</td></tr>",
                            "<tr><td>Forecast</td><td>Gen3</td></tr>",
                            "<tr><td>Honey Gather</td><td>Gen2</td></tr>",
                            "<tr><td>Imposter</td><td>Gen1</td></tr>",
                            "<tr><td>Mold Breaker</td><td>Gen1</td></tr>",
                            "<tr><td>Protean</td><td>Gen3</td></tr>",
                            "<tr><td>Sand Stream</td><td>Gen2</td></tr>",
                            "<tr><td>Simple</td><td>Gen3</td></tr>",
                            "<tr><td>Solid Rock</td><td>Gen3</td></tr>",
                            "<tr><td>Stall</td><td>Gen3</td></tr>",
                            "<tr><td>Toxic Boost</td><td>Gen3</td></tr>",
                            "<tr><td>White Smoke</td><td>Gen3</td></tr>",
                            "<tr><td>Wind Rider</td><td>Gen3</td></tr>",
                            "<tr><td>Wonder Guard</td><td>Gen3</td></tr>",
                            "</table>"
                        ]
                    }
                }
            ],
            "execution_count": 3
        },
        {
            "cell_type": "code",
            "source": [
                "--3\n",
                "--Find Pokémon that have moves unique to their generation, excluding moves learned by Pokémon in other generations\n",
                "--How many Pokémon are there for each type? Provide a list sorted by the most common type first\n",
                "\n",
                "USE PokemonGen1;\n",
                "USE PokemonGen2;\n",
                "USE PokemonGen3;\n",
                "\n",
                "SELECT Type, COUNT(*) AS Count\n",
                "FROM (\n",
                "    SELECT Type1 AS Type FROM PokemonGen1.dbo.PokemonGen1\n",
                "    UNION ALL\n",
                "    SELECT Type2 FROM PokemonGen1.dbo.PokemonGen1 WHERE Type2 IS NOT NULL\n",
                "    UNION ALL\n",
                "    SELECT Type1 FROM PokemonGen2.dbo.PokemonGen2\n",
                "    UNION ALL\n",
                "    SELECT Type2 FROM PokemonGen2.dbo.PokemonGen2 WHERE Type2 IS NOT NULL\n",
                "    UNION ALL\n",
                "    SELECT Type1 FROM PokemonGen3.dbo.PokemonGen3\n",
                "    UNION ALL\n",
                "    SELECT Type2 FROM PokemonGen3.dbo.PokemonGen3 WHERE Type2 IS NOT NULL\n",
                ") AS CombinedTypes\n",
                "GROUP BY Type\n",
                "ORDER BY Count DESC;\n",
                "\n",
                ""
            ],
            "metadata": {
                "language": "sql",
                "azdata_cell_guid": "38456030-3e2c-46e3-967e-6de43e59ee8c"
            },
            "outputs": [
                {
                    "output_type": "display_data",
                    "data": {
                        "text/html": "(20 rows affected)"
                    },
                    "metadata": {}
                },
                {
                    "output_type": "display_data",
                    "data": {
                        "text/html": "Total execution time: 00:00:00.038"
                    },
                    "metadata": {}
                },
                {
                    "output_type": "execute_result",
                    "metadata": {},
                    "execution_count": 4,
                    "data": {
                        "application/vnd.dataresource+json": {
                            "schema": {
                                "fields": [
                                    {
                                        "name": "Type"
                                    },
                                    {
                                        "name": "Count"
                                    }
                                ]
                            },
                            "data": [
                                {
                                    "Type": "Water",
                                    "Count": "78"
                                },
                                {
                                    "Type": "Normal",
                                    "Count": "55"
                                },
                                {
                                    "Type": "Flying",
                                    "Count": "50"
                                },
                                {
                                    "Type": "Psychic",
                                    "Count": "44"
                                },
                                {
                                    "Type": "Poison",
                                    "Count": "41"
                                },
                                {
                                    "Type": "Grass",
                                    "Count": "41"
                                },
                                {
                                    "Type": "Bug",
                                    "Count": "36"
                                },
                                {
                                    "Type": "Ground",
                                    "Count": "35"
                                },
                                {
                                    "Type": "Rock",
                                    "Count": "30"
                                },
                                {
                                    "Type": "Fire",
                                    "Count": "28"
                                },
                                {
                                    "Type": "Electric",
                                    "Count": "21"
                                },
                                {
                                    "Type": "Fairy",
                                    "Count": "18"
                                },
                                {
                                    "Type": "Dark",
                                    "Count": "16"
                                },
                                {
                                    "Type": "Ice",
                                    "Count": "16"
                                },
                                {
                                    "Type": "Steel",
                                    "Count": "15"
                                },
                                {
                                    "Type": "Fighting",
                                    "Count": "14"
                                },
                                {
                                    "Type": "Dragon",
                                    "Count": "13"
                                },
                                {
                                    "Type": "Ghost",
                                    "Count": "10"
                                },
                                {
                                    "Type": "Fight",
                                    "Count": "2"
                                },
                                {
                                    "Type": "Poison Point",
                                    "Count": "1"
                                }
                            ]
                        },
                        "text/html": [
                            "<table>",
                            "<tr><th>Type</th><th>Count</th></tr>",
                            "<tr><td>Water</td><td>78</td></tr>",
                            "<tr><td>Normal</td><td>55</td></tr>",
                            "<tr><td>Flying</td><td>50</td></tr>",
                            "<tr><td>Psychic</td><td>44</td></tr>",
                            "<tr><td>Poison</td><td>41</td></tr>",
                            "<tr><td>Grass</td><td>41</td></tr>",
                            "<tr><td>Bug</td><td>36</td></tr>",
                            "<tr><td>Ground</td><td>35</td></tr>",
                            "<tr><td>Rock</td><td>30</td></tr>",
                            "<tr><td>Fire</td><td>28</td></tr>",
                            "<tr><td>Electric</td><td>21</td></tr>",
                            "<tr><td>Fairy</td><td>18</td></tr>",
                            "<tr><td>Dark</td><td>16</td></tr>",
                            "<tr><td>Ice</td><td>16</td></tr>",
                            "<tr><td>Steel</td><td>15</td></tr>",
                            "<tr><td>Fighting</td><td>14</td></tr>",
                            "<tr><td>Dragon</td><td>13</td></tr>",
                            "<tr><td>Ghost</td><td>10</td></tr>",
                            "<tr><td>Fight</td><td>2</td></tr>",
                            "<tr><td>Poison Point</td><td>1</td></tr>",
                            "</table>"
                        ]
                    }
                }
            ],
            "execution_count": 4
        },
        {
            "cell_type": "code",
            "source": [
                "--4\n",
                "--identify the Pokémon with the highest 'Speed' in each generation\n",
                "USE PokemonGen1;\n",
                "USE PokemonGen2;\n",
                "USE PokemonGen3;\n",
                "\n",
                "-- Generation 1\n",
                "SELECT 'Gen1' AS Generation, Name, Speed AS MaxSpeed\n",
                "FROM PokemonGen1.dbo.PokemonGen1\n",
                "WHERE Speed = (SELECT MAX(Speed) FROM PokemonGen1.dbo.PokemonGen1)\n",
                "\n",
                "UNION ALL\n",
                "\n",
                "-- Generation 2\n",
                "SELECT 'Gen2' AS Generation, Name, Speed AS MaxSpeed\n",
                "FROM PokemonGen2.dbo.PokemonGen2\n",
                "WHERE Speed = (SELECT MAX(Speed) FROM PokemonGen2.dbo.PokemonGen2)\n",
                "\n",
                "UNION ALL\n",
                "\n",
                "-- Generation 3\n",
                "SELECT 'Gen3' AS Generation, Name, Speed AS MaxSpeed\n",
                "FROM PokemonGen3.dbo.PokemonGen3\n",
                "WHERE Speed = (SELECT MAX(Speed) FROM PokemonGen3.dbo.PokemonGen3);\n",
                "\n",
                ""
            ],
            "metadata": {
                "azdata_cell_guid": "d824664a-957c-48d3-8835-578e5578a6d2",
                "language": "sql"
            },
            "outputs": [
                {
                    "output_type": "display_data",
                    "data": {
                        "text/html": "(3 rows affected)"
                    },
                    "metadata": {}
                },
                {
                    "output_type": "display_data",
                    "data": {
                        "text/html": "Total execution time: 00:00:00.028"
                    },
                    "metadata": {}
                },
                {
                    "output_type": "execute_result",
                    "metadata": {},
                    "execution_count": 5,
                    "data": {
                        "application/vnd.dataresource+json": {
                            "schema": {
                                "fields": [
                                    {
                                        "name": "Generation"
                                    },
                                    {
                                        "name": "Name"
                                    },
                                    {
                                        "name": "MaxSpeed"
                                    }
                                ]
                            },
                            "data": [
                                {
                                    "Generation": "Gen1",
                                    "Name": "Electrode",
                                    "MaxSpeed": "150"
                                },
                                {
                                    "Generation": "Gen2",
                                    "Name": "Crobat",
                                    "MaxSpeed": "130"
                                },
                                {
                                    "Generation": "Gen3",
                                    "Name": "Ninjask",
                                    "MaxSpeed": "160"
                                }
                            ]
                        },
                        "text/html": [
                            "<table>",
                            "<tr><th>Generation</th><th>Name</th><th>MaxSpeed</th></tr>",
                            "<tr><td>Gen1</td><td>Electrode</td><td>150</td></tr>",
                            "<tr><td>Gen2</td><td>Crobat</td><td>130</td></tr>",
                            "<tr><td>Gen3</td><td>Ninjask</td><td>160</td></tr>",
                            "</table>"
                        ]
                    }
                }
            ],
            "execution_count": 5
        },
        {
            "cell_type": "code",
            "source": [
                "--5\n",
                "-- ID pokemon with an Attack to Speed ratio greater than 1.0, which means they have a higher attack power relative to their speed.\n",
                "\n",
                "USE PokemonGen1;\n",
                "USE PokemonGen2;\n",
                "USE PokemonGen3;\n",
                "\n",
                "SELECT Name, Type1, Attack, Speed, (CAST(Attack AS FLOAT) / Speed) AS Ratio\n",
                "FROM PokemonGen1.dbo.PokemonGen1\n",
                "WHERE Attack > Speed\n",
                "UNION ALL\n",
                "SELECT Name, Type1, Attack, Speed, (CAST(Attack AS FLOAT) / Speed)\n",
                "FROM PokemonGen2.dbo.PokemonGen2\n",
                "WHERE Attack > Speed\n",
                "UNION ALL\n",
                "SELECT Name, Type1, Attack, Speed, (CAST(Attack AS FLOAT) / Speed)\n",
                "FROM PokemonGen3.dbo.PokemonGen3\n",
                "WHERE Attack > Speed\n",
                "ORDER BY Ratio DESC;"
            ],
            "metadata": {
                "azdata_cell_guid": "93aa6bbc-418f-4bb3-9303-4d1cb0ca59f9",
                "language": "sql"
            },
            "outputs": [
                {
                    "output_type": "display_data",
                    "data": {
                        "text/html": "(210 rows affected)"
                    },
                    "metadata": {}
                },
                {
                    "output_type": "display_data",
                    "data": {
                        "text/html": "Total execution time: 00:00:00.028"
                    },
                    "metadata": {}
                },
                {
                    "output_type": "execute_result",
                    "metadata": {},
                    "execution_count": 6,
                    "data": {
                        "application/vnd.dataresource+json": {
                            "schema": {
                                "fields": [
                                    {
                                        "name": "Name"
                                    },
                                    {
                                        "name": "Type1"
                                    },
                                    {
                                        "name": "Attack"
                                    },
                                    {
                                        "name": "Speed"
                                    },
                                    {
                                        "name": "Ratio"
                                    }
                                ]
                            },
                            "data": [
                                {
                                    "Name": "Trapinch",
                                    "Type1": "Ground",
                                    "Attack": "100",
                                    "Speed": "10",
                                    "Ratio": "10"
                                },
                                {
                                    "Name": "Slowpoke",
                                    "Type1": "Water",
                                    "Attack": "65",
                                    "Speed": "15",
                                    "Ratio": "4.333333333333333"
                                },
                                {
                                    "Name": "Pineco",
                                    "Type1": "Bug",
                                    "Attack": "65",
                                    "Speed": "15",
                                    "Ratio": "4.333333333333333"
                                },
                                {
                                    "Name": "Torkoal",
                                    "Type1": "Fire",
                                    "Attack": "85",
                                    "Speed": "20",
                                    "Ratio": "4.25"
                                },
                                {
                                    "Name": "Geodude",
                                    "Type1": "Rock",
                                    "Attack": "80",
                                    "Speed": "20",
                                    "Ratio": "4"
                                },
                                {
                                    "Name": "Snorlax",
                                    "Type1": "Normal",
                                    "Attack": "110",
                                    "Speed": "30",
                                    "Ratio": "3.6666666666666665"
                                },
                                {
                                    "Name": "Rhyhorn",
                                    "Type1": "Ground",
                                    "Attack": "85",
                                    "Speed": "25",
                                    "Ratio": "3.4"
                                },
                                {
                                    "Name": "Sudowoodo",
                                    "Type1": "Rock",
                                    "Attack": "100",
                                    "Speed": "30",
                                    "Ratio": "3.3333333333333335"
                                },
                                {
                                    "Name": "\tRhydon",
                                    "Type1": "Ground",
                                    "Attack": "130",
                                    "Speed": "40",
                                    "Ratio": "3.25"
                                },
                                {
                                    "Name": "Grimer",
                                    "Type1": "Poison",
                                    "Attack": "80",
                                    "Speed": "25",
                                    "Ratio": "3.2"
                                },
                                {
                                    "Name": "Parasect",
                                    "Type1": "Bug",
                                    "Attack": "95",
                                    "Speed": "30",
                                    "Ratio": "3.1666666666666665"
                                },
                                {
                                    "Name": "Wooper",
                                    "Type1": "Water",
                                    "Attack": "45",
                                    "Speed": "15",
                                    "Ratio": "3"
                                },
                                {
                                    "Name": "Steelix",
                                    "Type1": "Steel",
                                    "Attack": "85",
                                    "Speed": "30",
                                    "Ratio": "2.8333333333333335"
                                },
                                {
                                    "Name": "Paras",
                                    "Type1": "Bug",
                                    "Attack": "70",
                                    "Speed": "25",
                                    "Ratio": "2.8"
                                },
                                {
                                    "Name": "Dusclops",
                                    "Type1": "Ghost",
                                    "Attack": "70",
                                    "Speed": "25",
                                    "Ratio": "2.8"
                                },
                                {
                                    "Name": "Armaldo",
                                    "Type1": "Rock",
                                    "Attack": "125",
                                    "Speed": "45",
                                    "Ratio": "2.7777777777777777"
                                },
                                {
                                    "Name": "Graveler",
                                    "Type1": "Rock",
                                    "Attack": "95",
                                    "Speed": "35",
                                    "Ratio": "2.7142857142857144"
                                },
                                {
                                    "Name": "Golem",
                                    "Type1": "Rock",
                                    "Attack": "120",
                                    "Speed": "45",
                                    "Ratio": "2.6666666666666665"
                                },
                                {
                                    "Name": "Snubbull",
                                    "Type1": "Fairy",
                                    "Attack": "80",
                                    "Speed": "30",
                                    "Ratio": "2.6666666666666665"
                                },
                                {
                                    "Name": "Granbull",
                                    "Type1": "Fairy",
                                    "Attack": "120",
                                    "Speed": "45",
                                    "Ratio": "2.6666666666666665"
                                },
                                {
                                    "Name": "Sunflora",
                                    "Type1": "Grass",
                                    "Attack": "75",
                                    "Speed": "30",
                                    "Ratio": "2.5"
                                },
                                {
                                    "Name": "Slowking",
                                    "Type1": "Water",
                                    "Attack": "75",
                                    "Speed": "30",
                                    "Ratio": "2.5"
                                },
                                {
                                    "Name": "Slowbro",
                                    "Type1": "Water",
                                    "Attack": "75",
                                    "Speed": "30",
                                    "Ratio": "2.5"
                                },
                                {
                                    "Name": "Camerupt",
                                    "Type1": "Fire",
                                    "Attack": "100",
                                    "Speed": "40",
                                    "Ratio": "2.5"
                                },
                                {
                                    "Name": "Cacnea",
                                    "Type1": "Grass",
                                    "Attack": "85",
                                    "Speed": "35",
                                    "Ratio": "2.4285714285714284"
                                },
                                {
                                    "Name": "Quagsire",
                                    "Type1": "Water",
                                    "Attack": "85",
                                    "Speed": "35",
                                    "Ratio": "2.4285714285714284"
                                },
                                {
                                    "Name": "Donphan",
                                    "Type1": "Ground",
                                    "Attack": "120",
                                    "Speed": "50",
                                    "Ratio": "2.4"
                                },
                                {
                                    "Name": "Makuhita",
                                    "Type1": "Fighting",
                                    "Attack": "60",
                                    "Speed": "25",
                                    "Ratio": "2.4"
                                },
                                {
                                    "Name": "Hariyama",
                                    "Type1": "Fighting",
                                    "Attack": "120",
                                    "Speed": "50",
                                    "Ratio": "2.4"
                                },
                                {
                                    "Name": "Ursaring",
                                    "Type1": "Normal",
                                    "Attack": "130",
                                    "Speed": "55",
                                    "Ratio": "2.3636363636363638"
                                },
                                {
                                    "Name": "Machamp",
                                    "Type1": "Fighting",
                                    "Attack": "130",
                                    "Speed": "55",
                                    "Ratio": "2.3636363636363638"
                                },
                                {
                                    "Name": "Octillery",
                                    "Type1": "Water",
                                    "Attack": "105",
                                    "Speed": "45",
                                    "Ratio": "2.3333333333333335"
                                },
                                {
                                    "Name": "Silcoon",
                                    "Type1": "Bug",
                                    "Attack": "35",
                                    "Speed": "15",
                                    "Ratio": "2.3333333333333335"
                                },
                                {
                                    "Name": "Cascoon",
                                    "Type1": "Bug",
                                    "Attack": "35",
                                    "Speed": "15",
                                    "Ratio": "2.3333333333333335"
                                },
                                {
                                    "Name": "Aron",
                                    "Type1": "Steel",
                                    "Attack": "70",
                                    "Speed": "30",
                                    "Ratio": "2.3333333333333335"
                                },
                                {
                                    "Name": "Sentret",
                                    "Type1": "Normal",
                                    "Attack": "46",
                                    "Speed": "20",
                                    "Ratio": "2.3"
                                },
                                {
                                    "Name": "Machop",
                                    "Type1": "Fighting",
                                    "Attack": "80",
                                    "Speed": "35",
                                    "Ratio": "2.2857142857142856"
                                },
                                {
                                    "Name": "Corphish",
                                    "Type1": "Water",
                                    "Attack": "80",
                                    "Speed": "35",
                                    "Ratio": "2.2857142857142856"
                                },
                                {
                                    "Name": "Kecleon",
                                    "Type1": "Normal",
                                    "Attack": "90",
                                    "Speed": "40",
                                    "Ratio": "2.25"
                                },
                                {
                                    "Name": "Lairon",
                                    "Type1": "Steel",
                                    "Attack": "90",
                                    "Speed": "40",
                                    "Ratio": "2.25"
                                },
                                {
                                    "Name": "Wurmple",
                                    "Type1": "Bug",
                                    "Attack": "45",
                                    "Speed": "20",
                                    "Ratio": "2.25"
                                },
                                {
                                    "Name": "Shedinja",
                                    "Type1": "Bug",
                                    "Attack": "90",
                                    "Speed": "40",
                                    "Ratio": "2.25"
                                },
                                {
                                    "Name": "Jigglypuff",
                                    "Type1": "Normal",
                                    "Attack": "45",
                                    "Speed": "20",
                                    "Ratio": "2.25"
                                },
                                {
                                    "Name": "Forretress",
                                    "Type1": "Bug",
                                    "Attack": "90",
                                    "Speed": "40",
                                    "Ratio": "2.25"
                                },
                                {
                                    "Name": "Ariados",
                                    "Type1": "Bug",
                                    "Attack": "90",
                                    "Speed": "40",
                                    "Ratio": "2.25"
                                },
                                {
                                    "Name": "Machoke",
                                    "Type1": "Fighting",
                                    "Attack": "100",
                                    "Speed": "45",
                                    "Ratio": "2.2222222222222223"
                                },
                                {
                                    "Name": "Aggron",
                                    "Type1": "Steel",
                                    "Attack": "110",
                                    "Speed": "50",
                                    "Ratio": "2.2"
                                },
                                {
                                    "Name": "Tyranitar",
                                    "Type1": "Rock",
                                    "Attack": "134",
                                    "Speed": "61",
                                    "Ratio": "2.19672131147541"
                                },
                                {
                                    "Name": "Crawdaunt",
                                    "Type1": "Water",
                                    "Attack": "120",
                                    "Speed": "55",
                                    "Ratio": "2.1818181818181817"
                                },
                                {
                                    "Name": "Muk",
                                    "Type1": "Poison",
                                    "Attack": "105",
                                    "Speed": "50",
                                    "Ratio": "2.1"
                                },
                                {
                                    "Name": "Krabby",
                                    "Type1": "Water",
                                    "Attack": "105",
                                    "Speed": "50",
                                    "Ratio": "2.1"
                                },
                                {
                                    "Name": "Cacturne",
                                    "Type1": "Grass",
                                    "Attack": "115",
                                    "Speed": "55",
                                    "Ratio": "2.090909090909091"
                                },
                                {
                                    "Name": "Slakoth",
                                    "Type1": "Normal",
                                    "Attack": "60",
                                    "Speed": "30",
                                    "Ratio": "2"
                                },
                                {
                                    "Name": "Clamperl",
                                    "Type1": "Water",
                                    "Attack": "64",
                                    "Speed": "32",
                                    "Ratio": "2"
                                },
                                {
                                    "Name": "Huntail",
                                    "Type1": "Water",
                                    "Attack": "104",
                                    "Speed": "52",
                                    "Ratio": "2"
                                },
                                {
                                    "Name": "Regirock",
                                    "Type1": "Rock",
                                    "Attack": "100",
                                    "Speed": "50",
                                    "Ratio": "2"
                                },
                                {
                                    "Name": "Flareon",
                                    "Type1": "Fire",
                                    "Attack": "130",
                                    "Speed": "65",
                                    "Ratio": "2"
                                },
                                {
                                    "Name": "Piloswine",
                                    "Type1": "Ice",
                                    "Attack": "100",
                                    "Speed": "50",
                                    "Ratio": "2"
                                },
                                {
                                    "Name": "Teddiursa",
                                    "Type1": "Normal",
                                    "Attack": "80",
                                    "Speed": "40",
                                    "Ratio": "2"
                                },
                                {
                                    "Name": "Slugma",
                                    "Type1": "Fire",
                                    "Attack": "40",
                                    "Speed": "20",
                                    "Ratio": "2"
                                },
                                {
                                    "Name": "Scizor",
                                    "Type1": "Bug",
                                    "Attack": "130",
                                    "Speed": "65",
                                    "Ratio": "2"
                                },
                                {
                                    "Name": "Shuckle",
                                    "Type1": "Bug",
                                    "Attack": "10",
                                    "Speed": "5",
                                    "Ratio": "2"
                                },
                                {
                                    "Name": "Igglybuff",
                                    "Type1": "Normal",
                                    "Attack": "30",
                                    "Speed": "15",
                                    "Ratio": "2"
                                },
                                {
                                    "Name": "Spinarak",
                                    "Type1": "Bug",
                                    "Attack": "60",
                                    "Speed": "30",
                                    "Ratio": "2"
                                },
                                {
                                    "Name": "Metagross",
                                    "Type1": "Steel",
                                    "Attack": "135",
                                    "Speed": "70",
                                    "Ratio": "1.9285714285714286"
                                },
                                {
                                    "Name": "Shelgon",
                                    "Type1": "Dragon",
                                    "Attack": "95",
                                    "Speed": "50",
                                    "Ratio": "1.9"
                                },
                                {
                                    "Name": "Cradily",
                                    "Type1": "Rock",
                                    "Attack": "81",
                                    "Speed": "43",
                                    "Ratio": "1.8837209302325582"
                                },
                                {
                                    "Name": "Bellsprout",
                                    "Type1": "Grass",
                                    "Attack": "75",
                                    "Speed": "40",
                                    "Ratio": "1.875"
                                },
                                {
                                    "Name": "Sandshrew",
                                    "Type1": "Ground",
                                    "Attack": "75",
                                    "Speed": "40",
                                    "Ratio": "1.875"
                                },
                                {
                                    "Name": "Koffing",
                                    "Type1": "Poison",
                                    "Attack": "65",
                                    "Speed": "35",
                                    "Ratio": "1.8571428571428572"
                                },
                                {
                                    "Name": "Breloom",
                                    "Type1": "Grass",
                                    "Attack": "130",
                                    "Speed": "70",
                                    "Ratio": "1.8571428571428572"
                                },
                                {
                                    "Name": "Beldum",
                                    "Type1": "Steel",
                                    "Attack": "55",
                                    "Speed": "30",
                                    "Ratio": "1.8333333333333333"
                                },
                                {
                                    "Name": "Lickitung",
                                    "Type1": "Normal",
                                    "Attack": "55",
                                    "Speed": "30",
                                    "Ratio": "1.8333333333333333"
                                },
                                {
                                    "Name": "Swampert",
                                    "Type1": "Water",
                                    "Attack": "110",
                                    "Speed": "60",
                                    "Ratio": "1.8333333333333333"
                                },
                                {
                                    "Name": "Whismur",
                                    "Type1": "Normal",
                                    "Attack": "51",
                                    "Speed": "28",
                                    "Ratio": "1.8214285714285714"
                                },
                                {
                                    "Name": "Lileep",
                                    "Type1": "Rock",
                                    "Attack": "41",
                                    "Speed": "23",
                                    "Ratio": "1.7826086956521738"
                                },
                                {
                                    "Name": "Marowak",
                                    "Type1": "Ground",
                                    "Attack": "80",
                                    "Speed": "45",
                                    "Ratio": "1.7777777777777777"
                                },
                                {
                                    "Name": "Banette",
                                    "Type1": "Ghost",
                                    "Attack": "115",
                                    "Speed": "65",
                                    "Ratio": "1.7692307692307692"
                                },
                                {
                                    "Name": "Mudkip",
                                    "Type1": "Water",
                                    "Attack": "70",
                                    "Speed": "40",
                                    "Ratio": "1.75"
                                },
                                {
                                    "Name": "Kingler",
                                    "Type1": "Water",
                                    "Attack": "130",
                                    "Speed": "75",
                                    "Ratio": "1.7333333333333334"
                                },
                                {
                                    "Name": "Absol",
                                    "Type1": "Dark",
                                    "Attack": "130",
                                    "Speed": "75",
                                    "Ratio": "1.7333333333333334"
                                },
                                {
                                    "Name": "Exeggutor",
                                    "Type1": "Grass",
                                    "Attack": "95",
                                    "Speed": "55",
                                    "Ratio": "1.7272727272727273"
                                },
                                {
                                    "Name": "Numel",
                                    "Type1": "Fire",
                                    "Attack": "60",
                                    "Speed": "35",
                                    "Ratio": "1.7142857142857142"
                                },
                                {
                                    "Name": "Mawile",
                                    "Type1": "Steel",
                                    "Attack": "85",
                                    "Speed": "50",
                                    "Ratio": "1.7"
                                },
                                {
                                    "Name": "Marshtomp",
                                    "Type1": "Water",
                                    "Attack": "85",
                                    "Speed": "50",
                                    "Ratio": "1.7"
                                },
                                {
                                    "Name": "Dragonite",
                                    "Type1": "Dragon",
                                    "Attack": "134",
                                    "Speed": "80",
                                    "Ratio": "1.675"
                                },
                                {
                                    "Name": "Cleffa",
                                    "Type1": "Fairy",
                                    "Attack": "25",
                                    "Speed": "15",
                                    "Ratio": "1.6666666666666667"
                                },
                                {
                                    "Name": "Magcargo",
                                    "Type1": "Fire",
                                    "Attack": "50",
                                    "Speed": "30",
                                    "Ratio": "1.6666666666666667"
                                },
                                {
                                    "Name": "Oddish",
                                    "Type1": "Grass",
                                    "Attack": "50",
                                    "Speed": "30",
                                    "Ratio": "1.6666666666666667"
                                },
                                {
                                    "Name": "Shuppet",
                                    "Type1": "Ghost",
                                    "Attack": "75",
                                    "Speed": "45",
                                    "Ratio": "1.6666666666666667"
                                },
                                {
                                    "Name": "Groudon",
                                    "Type1": "Ground",
                                    "Attack": "150",
                                    "Speed": "90",
                                    "Ratio": "1.6666666666666667"
                                },
                                {
                                    "Name": "Pupitar",
                                    "Type1": "Rock",
                                    "Attack": "84",
                                    "Speed": "51",
                                    "Ratio": "1.6470588235294117"
                                },
                                {
                                    "Name": "Weepinbell",
                                    "Type1": "Grass",
                                    "Attack": "90",
                                    "Speed": "55",
                                    "Ratio": "1.6363636363636365"
                                },
                                {
                                    "Name": "Relicanth",
                                    "Type1": "Water",
                                    "Attack": "90",
                                    "Speed": "55",
                                    "Ratio": "1.6363636363636365"
                                },
                                {
                                    "Name": "Gloom",
                                    "Type1": "Grass",
                                    "Attack": "65",
                                    "Speed": "40",
                                    "Ratio": "1.625"
                                },
                                {
                                    "Name": "Shellder",
                                    "Type1": "Water",
                                    "Attack": "65",
                                    "Speed": "40",
                                    "Ratio": "1.625"
                                },
                                {
                                    "Name": "Gorebyss",
                                    "Type1": "Water",
                                    "Attack": "84",
                                    "Speed": "52",
                                    "Ratio": "1.6153846153846154"
                                },
                                {
                                    "Name": "Spheal",
                                    "Type1": "Ice",
                                    "Attack": "40",
                                    "Speed": "25",
                                    "Ratio": "1.6"
                                },
                                {
                                    "Name": "Duskull",
                                    "Type1": "Ghost",
                                    "Attack": "40",
                                    "Speed": "25",
                                    "Ratio": "1.6"
                                },
                                {
                                    "Name": "Slaking",
                                    "Type1": "Normal",
                                    "Attack": "160",
                                    "Speed": "100",
                                    "Ratio": "1.6"
                                },
                                {
                                    "Name": "Vileplume",
                                    "Type1": "Grass",
                                    "Attack": "80",
                                    "Speed": "50",
                                    "Ratio": "1.6"
                                },
                                {
                                    "Name": "Bellossom",
                                    "Type1": "Grass",
                                    "Attack": "80",
                                    "Speed": "50",
                                    "Ratio": "1.6"
                                },
                                {
                                    "Name": "Rayquaza",
                                    "Type1": "Dragon",
                                    "Attack": "150",
                                    "Speed": "95",
                                    "Ratio": "1.5789473684210527"
                                },
                                {
                                    "Name": "Poochyena",
                                    "Type1": "Dark",
                                    "Attack": "55",
                                    "Speed": "35",
                                    "Ratio": "1.5714285714285714"
                                },
                                {
                                    "Name": "Corsola",
                                    "Type1": "Water",
                                    "Attack": "55",
                                    "Speed": "35",
                                    "Ratio": "1.5714285714285714"
                                },
                                {
                                    "Name": "Larvitar",
                                    "Type1": "Rock",
                                    "Attack": "64",
                                    "Speed": "41",
                                    "Ratio": "1.5609756097560976"
                                },
                                {
                                    "Name": "Dunsparce",
                                    "Type1": "Normal",
                                    "Attack": "70",
                                    "Speed": "45",
                                    "Ratio": "1.5555555555555556"
                                },
                                {
                                    "Name": "Wigglytuff",
                                    "Type1": "Normal",
                                    "Attack": "70",
                                    "Speed": "45",
                                    "Ratio": "1.5555555555555556"
                                },
                                {
                                    "Name": "Combusken",
                                    "Type1": "Fire",
                                    "Attack": "85",
                                    "Speed": "55",
                                    "Ratio": "1.5454545454545454"
                                },
                                {
                                    "Name": "Gyarados",
                                    "Type1": "Water",
                                    "Attack": "125",
                                    "Speed": "81",
                                    "Ratio": "1.5432098765432098"
                                },
                                {
                                    "Name": "Sandslash",
                                    "Type1": "Ground",
                                    "Attack": "100",
                                    "Speed": "65",
                                    "Ratio": "1.5384615384615385"
                                },
                                {
                                    "Name": "Seviper",
                                    "Type1": "Poison",
                                    "Attack": "100",
                                    "Speed": "65",
                                    "Ratio": "1.5384615384615385"
                                },
                                {
                                    "Name": "Totodile",
                                    "Type1": "Water",
                                    "Attack": "65",
                                    "Speed": "43",
                                    "Ratio": "1.5116279069767442"
                                },
                                {
                                    "Name": "Unown",
                                    "Type1": "Psychic",
                                    "Attack": "72",
                                    "Speed": "48",
                                    "Ratio": "1.5"
                                },
                                {
                                    "Name": "Blaziken",
                                    "Type1": "Fire",
                                    "Attack": "120",
                                    "Speed": "80",
                                    "Ratio": "1.5"
                                },
                                {
                                    "Name": "Phanpy",
                                    "Type1": "Ground",
                                    "Attack": "60",
                                    "Speed": "40",
                                    "Ratio": "1.5"
                                },
                                {
                                    "Name": "Victreebel",
                                    "Type1": "Grass",
                                    "Attack": "105",
                                    "Speed": "70",
                                    "Ratio": "1.5"
                                },
                                {
                                    "Name": "Farfetch`d",
                                    "Type1": "Normal",
                                    "Attack": "90",
                                    "Speed": "60",
                                    "Ratio": "1.5"
                                },
                                {
                                    "Name": "Porygon",
                                    "Type1": "Normal",
                                    "Attack": "60",
                                    "Speed": "40",
                                    "Ratio": "1.5"
                                },
                                {
                                    "Name": "Weezing",
                                    "Type1": "Poison",
                                    "Attack": "90",
                                    "Speed": "60",
                                    "Ratio": "1.5"
                                },
                                {
                                    "Name": "Wailord",
                                    "Type1": "Water",
                                    "Attack": "90",
                                    "Speed": "60",
                                    "Ratio": "1.5"
                                },
                                {
                                    "Name": "Nosepass",
                                    "Type1": "Rock",
                                    "Attack": "45",
                                    "Speed": "30",
                                    "Ratio": "1.5"
                                },
                                {
                                    "Name": "Sableye",
                                    "Type1": "Dark",
                                    "Attack": "75",
                                    "Speed": "50",
                                    "Ratio": "1.5"
                                },
                                {
                                    "Name": "Bagon",
                                    "Type1": "Dragon",
                                    "Attack": "75",
                                    "Speed": "50",
                                    "Ratio": "1.5"
                                },
                                {
                                    "Name": "Metang",
                                    "Type1": "Steel",
                                    "Attack": "75",
                                    "Speed": "50",
                                    "Ratio": "1.5"
                                },
                                {
                                    "Name": "Registeel",
                                    "Type1": "Steel",
                                    "Attack": "75",
                                    "Speed": "50",
                                    "Ratio": "1.5"
                                },
                                {
                                    "Name": "Loudred",
                                    "Type1": "Normal",
                                    "Attack": "71",
                                    "Speed": "48",
                                    "Ratio": "1.4791666666666667"
                                },
                                {
                                    "Name": "Pinsir",
                                    "Type1": "Bug",
                                    "Attack": "125",
                                    "Speed": "85",
                                    "Ratio": "1.4705882352941178"
                                },
                                {
                                    "Name": "Heracross",
                                    "Type1": "Bug",
                                    "Attack": "125",
                                    "Speed": "85",
                                    "Ratio": "1.4705882352941178"
                                },
                                {
                                    "Name": "Kabuto",
                                    "Type1": "Rock",
                                    "Attack": "80",
                                    "Speed": "55",
                                    "Ratio": "1.4545454545454546"
                                },
                                {
                                    "Name": "Ho-Oh",
                                    "Type1": "Fire",
                                    "Attack": "130",
                                    "Speed": "90",
                                    "Ratio": "1.4444444444444444"
                                },
                                {
                                    "Name": "Kabutops",
                                    "Type1": "Rock",
                                    "Attack": "115",
                                    "Speed": "80",
                                    "Ratio": "1.4375"
                                },
                                {
                                    "Name": "Cubone",
                                    "Type1": "Ground",
                                    "Attack": "50",
                                    "Speed": "35",
                                    "Ratio": "1.4285714285714286"
                                },
                                {
                                    "Name": "Lapras",
                                    "Type1": "Water",
                                    "Attack": "85",
                                    "Speed": "60",
                                    "Ratio": "1.4166666666666667"
                                },
                                {
                                    "Name": "Carvanha",
                                    "Type1": "Water",
                                    "Attack": "90",
                                    "Speed": "65",
                                    "Ratio": "1.3846153846153846"
                                },
                                {
                                    "Name": "Hitmonchan",
                                    "Type1": "Fight",
                                    "Attack": "105",
                                    "Speed": "76",
                                    "Ratio": "1.381578947368421"
                                },
                                {
                                    "Name": "Hitmonlee",
                                    "Type1": "Fight",
                                    "Attack": "120",
                                    "Speed": "87",
                                    "Ratio": "1.3793103448275863"
                                },
                                {
                                    "Name": "Croconaw",
                                    "Type1": "Water",
                                    "Attack": "80",
                                    "Speed": "58",
                                    "Ratio": "1.3793103448275863"
                                },
                                {
                                    "Name": "Ampharos",
                                    "Type1": "Electric",
                                    "Attack": "75",
                                    "Speed": "55",
                                    "Ratio": "1.3636363636363635"
                                },
                                {
                                    "Name": "Hitmontop",
                                    "Type1": "Fighting",
                                    "Attack": "95",
                                    "Speed": "70",
                                    "Ratio": "1.3571428571428572"
                                },
                                {
                                    "Name": "Cloyster",
                                    "Type1": "Water",
                                    "Attack": "95",
                                    "Speed": "70",
                                    "Ratio": "1.3571428571428572"
                                },
                                {
                                    "Name": "Poliwrath",
                                    "Type1": "Water",
                                    "Attack": "95",
                                    "Speed": "70",
                                    "Ratio": "1.3571428571428572"
                                },
                                {
                                    "Name": "Solrock",
                                    "Type1": "Rock",
                                    "Attack": "95",
                                    "Speed": "70",
                                    "Ratio": "1.3571428571428572"
                                },
                                {
                                    "Name": "Seaking",
                                    "Type1": "Water",
                                    "Attack": "92",
                                    "Speed": "68",
                                    "Ratio": "1.3529411764705883"
                                },
                                {
                                    "Name": "Salamence",
                                    "Type1": "Dragon",
                                    "Attack": "135",
                                    "Speed": "100",
                                    "Ratio": "1.35"
                                },
                                {
                                    "Name": "Feraligatr",
                                    "Type1": "Water",
                                    "Attack": "105",
                                    "Speed": "78",
                                    "Ratio": "1.3461538461538463"
                                },
                                {
                                    "Name": "Exploud",
                                    "Type1": "Normal",
                                    "Attack": "91",
                                    "Speed": "68",
                                    "Ratio": "1.338235294117647"
                                },
                                {
                                    "Name": "Sealeo",
                                    "Type1": "Ice",
                                    "Attack": "60",
                                    "Speed": "45",
                                    "Ratio": "1.3333333333333333"
                                },
                                {
                                    "Name": "Tropius",
                                    "Type1": "Grass",
                                    "Attack": "68",
                                    "Speed": "51",
                                    "Ratio": "1.3333333333333333"
                                },
                                {
                                    "Name": "Torchic",
                                    "Type1": "Fire",
                                    "Attack": "60",
                                    "Speed": "45",
                                    "Ratio": "1.3333333333333333"
                                },
                                {
                                    "Name": "Seedot",
                                    "Type1": "Grass",
                                    "Attack": "40",
                                    "Speed": "30",
                                    "Ratio": "1.3333333333333333"
                                },
                                {
                                    "Name": "Porygon2",
                                    "Type1": "Normal",
                                    "Attack": "80",
                                    "Speed": "60",
                                    "Ratio": "1.3333333333333333"
                                },
                                {
                                    "Name": "Swalot",
                                    "Type1": "Poison",
                                    "Attack": "73",
                                    "Speed": "55",
                                    "Ratio": "1.3272727272727274"
                                },
                                {
                                    "Name": "Whiscash",
                                    "Type1": "Water",
                                    "Attack": "78",
                                    "Speed": "60",
                                    "Ratio": "1.3"
                                },
                                {
                                    "Name": "Mightyena",
                                    "Type1": "Dark",
                                    "Attack": "90",
                                    "Speed": "70",
                                    "Ratio": "1.2857142857142858"
                                },
                                {
                                    "Name": "Clefairy",
                                    "Type1": "Fairy",
                                    "Attack": "45",
                                    "Speed": "35",
                                    "Ratio": "1.2857142857142858"
                                },
                                {
                                    "Name": "Dratini",
                                    "Type1": "Dragon",
                                    "Attack": "64",
                                    "Speed": "50",
                                    "Ratio": "1.28"
                                },
                                {
                                    "Name": "Zangoose",
                                    "Type1": "Normal",
                                    "Attack": "115",
                                    "Speed": "90",
                                    "Ratio": "1.2777777777777777"
                                },
                                {
                                    "Name": "Anorith",
                                    "Type1": "Rock",
                                    "Attack": "95",
                                    "Speed": "75",
                                    "Ratio": "1.2666666666666666"
                                },
                                {
                                    "Name": "Sharpedo",
                                    "Type1": "Water",
                                    "Attack": "120",
                                    "Speed": "95",
                                    "Ratio": "1.263157894736842"
                                },
                                {
                                    "Name": "Shiftry",
                                    "Type1": "Grass",
                                    "Attack": "100",
                                    "Speed": "80",
                                    "Ratio": "1.25"
                                },
                                {
                                    "Name": "Walrein",
                                    "Type1": "Ice",
                                    "Attack": "80",
                                    "Speed": "65",
                                    "Ratio": "1.2307692307692308"
                                },
                                {
                                    "Name": "Flaaffy",
                                    "Type1": "Electric",
                                    "Attack": "55",
                                    "Speed": "45",
                                    "Ratio": "1.2222222222222223"
                                },
                                {
                                    "Name": "Venonat",
                                    "Type1": "Bug",
                                    "Attack": "55",
                                    "Speed": "45",
                                    "Ratio": "1.2222222222222223"
                                },
                                {
                                    "Name": "Nidoqueen",
                                    "Type1": "Poison",
                                    "Attack": "92",
                                    "Speed": "76",
                                    "Ratio": "1.2105263157894737"
                                },
                                {
                                    "Name": "Beedrill",
                                    "Type1": "Bug",
                                    "Attack": "90",
                                    "Speed": "75",
                                    "Ratio": "1.2"
                                },
                                {
                                    "Name": "Nidoking",
                                    "Type1": "Ground",
                                    "Attack": "102",
                                    "Speed": "85",
                                    "Ratio": "1.2"
                                },
                                {
                                    "Name": "Dragonair",
                                    "Type1": "Dragon",
                                    "Attack": "84",
                                    "Speed": "70",
                                    "Ratio": "1.2"
                                },
                                {
                                    "Name": "Arbok",
                                    "Type1": "Poison",
                                    "Attack": "95",
                                    "Speed": "80",
                                    "Ratio": "1.1875"
                                },
                                {
                                    "Name": "Clefable",
                                    "Type1": "Fairy",
                                    "Attack": "70",
                                    "Speed": "60",
                                    "Ratio": "1.1666666666666667"
                                },
                                {
                                    "Name": "Growlithe",
                                    "Type1": "Fire",
                                    "Attack": "70",
                                    "Speed": "60",
                                    "Ratio": "1.1666666666666667"
                                },
                                {
                                    "Name": "Nuzleaf",
                                    "Type1": "Grass",
                                    "Attack": "70",
                                    "Speed": "60",
                                    "Ratio": "1.1666666666666667"
                                },
                                {
                                    "Name": "Wailmer",
                                    "Type1": "Water",
                                    "Attack": "70",
                                    "Speed": "60",
                                    "Ratio": "1.1666666666666667"
                                },
                                {
                                    "Name": "Arcanine",
                                    "Type1": "Fire",
                                    "Attack": "110",
                                    "Speed": "95",
                                    "Ratio": "1.1578947368421053"
                                },
                                {
                                    "Name": "Entei",
                                    "Type1": "Fire",
                                    "Attack": "115",
                                    "Speed": "100",
                                    "Ratio": "1.15"
                                },
                                {
                                    "Name": "Nidoran?",
                                    "Type1": "Poison",
                                    "Attack": "47",
                                    "Speed": "41",
                                    "Ratio": "1.146341463414634"
                                },
                                {
                                    "Name": "Mankey",
                                    "Type1": "Fighting",
                                    "Attack": "80",
                                    "Speed": "70",
                                    "Ratio": "1.1428571428571428"
                                },
                                {
                                    "Name": "Omanyte",
                                    "Type1": "Rock",
                                    "Attack": "40",
                                    "Speed": "35",
                                    "Ratio": "1.1428571428571428"
                                },
                                {
                                    "Name": "Drowzee",
                                    "Type1": "Psychic",
                                    "Attack": "48",
                                    "Speed": "42",
                                    "Ratio": "1.1428571428571428"
                                },
                                {
                                    "Name": "Skarmory",
                                    "Type1": "Steel",
                                    "Attack": "80",
                                    "Speed": "70",
                                    "Ratio": "1.1428571428571428"
                                },
                                {
                                    "Name": "Mareep",
                                    "Type1": "Electric",
                                    "Attack": "40",
                                    "Speed": "35",
                                    "Ratio": "1.1428571428571428"
                                },
                                {
                                    "Name": "Shroomish",
                                    "Type1": "Grass",
                                    "Attack": "40",
                                    "Speed": "35",
                                    "Ratio": "1.1428571428571428"
                                },
                                {
                                    "Name": "Nidoran?",
                                    "Type1": "Poison",
                                    "Attack": "57",
                                    "Speed": "50",
                                    "Ratio": "1.14"
                                },
                                {
                                    "Name": "Doduo",
                                    "Type1": "Normal",
                                    "Attack": "85",
                                    "Speed": "75",
                                    "Ratio": "1.1333333333333333"
                                },
                                {
                                    "Name": "Nincada",
                                    "Type1": "Bug",
                                    "Attack": "45",
                                    "Speed": "40",
                                    "Ratio": "1.125"
                                },
                                {
                                    "Name": "Kingdra",
                                    "Type1": "Water",
                                    "Attack": "95",
                                    "Speed": "85",
                                    "Ratio": "1.1176470588235294"
                                },
                                {
                                    "Name": "Stantler",
                                    "Type1": "Normal",
                                    "Attack": "95",
                                    "Speed": "85",
                                    "Ratio": "1.1176470588235294"
                                },
                                {
                                    "Name": "Qwilfish",
                                    "Type1": "Water",
                                    "Attack": "95",
                                    "Speed": "85",
                                    "Ratio": "1.1176470588235294"
                                },
                                {
                                    "Name": "Moltres",
                                    "Type1": "Fire",
                                    "Attack": "100",
                                    "Speed": "90",
                                    "Ratio": "1.1111111111111112"
                                },
                                {
                                    "Name": "Kyogre",
                                    "Type1": "Water",
                                    "Attack": "100",
                                    "Speed": "90",
                                    "Ratio": "1.1111111111111112"
                                },
                                {
                                    "Name": "Nidorino",
                                    "Type1": "Poison",
                                    "Attack": "72",
                                    "Speed": "65",
                                    "Ratio": "1.1076923076923078"
                                },
                                {
                                    "Name": "Nidorina",
                                    "Type1": "Poison",
                                    "Attack": "62",
                                    "Speed": "56",
                                    "Ratio": "1.1071428571428572"
                                },
                                {
                                    "Name": "Primeape",
                                    "Type1": "Fighting",
                                    "Attack": "105",
                                    "Speed": "95",
                                    "Ratio": "1.105263157894737"
                                },
                                {
                                    "Name": "Ekans",
                                    "Type1": "Poison",
                                    "Attack": "60",
                                    "Speed": "55",
                                    "Ratio": "1.0909090909090908"
                                },
                                {
                                    "Name": "Omastar",
                                    "Type1": "Rock",
                                    "Attack": "60",
                                    "Speed": "55",
                                    "Ratio": "1.0909090909090908"
                                },
                                {
                                    "Name": "Hypno",
                                    "Type1": "Psychic",
                                    "Attack": "73",
                                    "Speed": "67",
                                    "Ratio": "1.0895522388059702"
                                },
                                {
                                    "Name": "Kangaskhan",
                                    "Type1": "Normal",
                                    "Attack": "49",
                                    "Speed": "45",
                                    "Ratio": "1.0888888888888888"
                                },
                                {
                                    "Name": "Bulbasaur",
                                    "Type1": "Grass",
                                    "Attack": "49",
                                    "Speed": "45",
                                    "Ratio": "1.0888888888888888"
                                },
                                {
                                    "Name": "Chikorita",
                                    "Type1": "Grass",
                                    "Attack": "49",
                                    "Speed": "45",
                                    "Ratio": "1.0888888888888888"
                                },
                                {
                                    "Name": "Beautifly",
                                    "Type1": "Bug",
                                    "Attack": "70",
                                    "Speed": "65",
                                    "Ratio": "1.0769230769230769"
                                },
                                {
                                    "Name": "Gulpin",
                                    "Type1": "Poison",
                                    "Attack": "43",
                                    "Speed": "40",
                                    "Ratio": "1.075"
                                },
                                {
                                    "Name": "Politoed",
                                    "Type1": "Water",
                                    "Attack": "75",
                                    "Speed": "70",
                                    "Ratio": "1.0714285714285714"
                                },
                                {
                                    "Name": "Goldeen",
                                    "Type1": "Water",
                                    "Attack": "67",
                                    "Speed": "63",
                                    "Ratio": "1.0634920634920635"
                                },
                                {
                                    "Name": "Scyther",
                                    "Type1": "Bug",
                                    "Attack": "110",
                                    "Speed": "105",
                                    "Ratio": "1.0476190476190477"
                                },
                                {
                                    "Name": "Charmander",
                                    "Type1": "Fire",
                                    "Attack": "52",
                                    "Speed": "50",
                                    "Ratio": "1.04"
                                },
                                {
                                    "Name": "Ivysaur",
                                    "Type1": "Grass",
                                    "Attack": "62",
                                    "Speed": "60",
                                    "Ratio": "1.0333333333333334"
                                },
                                {
                                    "Name": "Bayleef",
                                    "Type1": "Grass",
                                    "Attack": "62",
                                    "Speed": "60",
                                    "Ratio": "1.0333333333333334"
                                },
                                {
                                    "Name": "Meganium",
                                    "Type1": "Grass",
                                    "Attack": "82",
                                    "Speed": "80",
                                    "Ratio": "1.025"
                                },
                                {
                                    "Name": "Venusaur",
                                    "Type1": "Grass",
                                    "Attack": "82",
                                    "Speed": "80",
                                    "Ratio": "1.025"
                                },
                                {
                                    "Name": "Magmar",
                                    "Type1": "Fire",
                                    "Attack": "95",
                                    "Speed": "93",
                                    "Ratio": "1.021505376344086"
                                }
                            ]
                        },
                        "text/html": [
                            "<table>",
                            "<tr><th>Name</th><th>Type1</th><th>Attack</th><th>Speed</th><th>Ratio</th></tr>",
                            "<tr><td>Trapinch</td><td>Ground</td><td>100</td><td>10</td><td>10</td></tr>",
                            "<tr><td>Slowpoke</td><td>Water</td><td>65</td><td>15</td><td>4.333333333333333</td></tr>",
                            "<tr><td>Pineco</td><td>Bug</td><td>65</td><td>15</td><td>4.333333333333333</td></tr>",
                            "<tr><td>Torkoal</td><td>Fire</td><td>85</td><td>20</td><td>4.25</td></tr>",
                            "<tr><td>Geodude</td><td>Rock</td><td>80</td><td>20</td><td>4</td></tr>",
                            "<tr><td>Snorlax</td><td>Normal</td><td>110</td><td>30</td><td>3.6666666666666665</td></tr>",
                            "<tr><td>Rhyhorn</td><td>Ground</td><td>85</td><td>25</td><td>3.4</td></tr>",
                            "<tr><td>Sudowoodo</td><td>Rock</td><td>100</td><td>30</td><td>3.3333333333333335</td></tr>",
                            "<tr><td>\tRhydon</td><td>Ground</td><td>130</td><td>40</td><td>3.25</td></tr>",
                            "<tr><td>Grimer</td><td>Poison</td><td>80</td><td>25</td><td>3.2</td></tr>",
                            "<tr><td>Parasect</td><td>Bug</td><td>95</td><td>30</td><td>3.1666666666666665</td></tr>",
                            "<tr><td>Wooper</td><td>Water</td><td>45</td><td>15</td><td>3</td></tr>",
                            "<tr><td>Steelix</td><td>Steel</td><td>85</td><td>30</td><td>2.8333333333333335</td></tr>",
                            "<tr><td>Paras</td><td>Bug</td><td>70</td><td>25</td><td>2.8</td></tr>",
                            "<tr><td>Dusclops</td><td>Ghost</td><td>70</td><td>25</td><td>2.8</td></tr>",
                            "<tr><td>Armaldo</td><td>Rock</td><td>125</td><td>45</td><td>2.7777777777777777</td></tr>",
                            "<tr><td>Graveler</td><td>Rock</td><td>95</td><td>35</td><td>2.7142857142857144</td></tr>",
                            "<tr><td>Golem</td><td>Rock</td><td>120</td><td>45</td><td>2.6666666666666665</td></tr>",
                            "<tr><td>Snubbull</td><td>Fairy</td><td>80</td><td>30</td><td>2.6666666666666665</td></tr>",
                            "<tr><td>Granbull</td><td>Fairy</td><td>120</td><td>45</td><td>2.6666666666666665</td></tr>",
                            "<tr><td>Sunflora</td><td>Grass</td><td>75</td><td>30</td><td>2.5</td></tr>",
                            "<tr><td>Slowking</td><td>Water</td><td>75</td><td>30</td><td>2.5</td></tr>",
                            "<tr><td>Slowbro</td><td>Water</td><td>75</td><td>30</td><td>2.5</td></tr>",
                            "<tr><td>Camerupt</td><td>Fire</td><td>100</td><td>40</td><td>2.5</td></tr>",
                            "<tr><td>Cacnea</td><td>Grass</td><td>85</td><td>35</td><td>2.4285714285714284</td></tr>",
                            "<tr><td>Quagsire</td><td>Water</td><td>85</td><td>35</td><td>2.4285714285714284</td></tr>",
                            "<tr><td>Donphan</td><td>Ground</td><td>120</td><td>50</td><td>2.4</td></tr>",
                            "<tr><td>Makuhita</td><td>Fighting</td><td>60</td><td>25</td><td>2.4</td></tr>",
                            "<tr><td>Hariyama</td><td>Fighting</td><td>120</td><td>50</td><td>2.4</td></tr>",
                            "<tr><td>Ursaring</td><td>Normal</td><td>130</td><td>55</td><td>2.3636363636363638</td></tr>",
                            "<tr><td>Machamp</td><td>Fighting</td><td>130</td><td>55</td><td>2.3636363636363638</td></tr>",
                            "<tr><td>Octillery</td><td>Water</td><td>105</td><td>45</td><td>2.3333333333333335</td></tr>",
                            "<tr><td>Silcoon</td><td>Bug</td><td>35</td><td>15</td><td>2.3333333333333335</td></tr>",
                            "<tr><td>Cascoon</td><td>Bug</td><td>35</td><td>15</td><td>2.3333333333333335</td></tr>",
                            "<tr><td>Aron</td><td>Steel</td><td>70</td><td>30</td><td>2.3333333333333335</td></tr>",
                            "<tr><td>Sentret</td><td>Normal</td><td>46</td><td>20</td><td>2.3</td></tr>",
                            "<tr><td>Machop</td><td>Fighting</td><td>80</td><td>35</td><td>2.2857142857142856</td></tr>",
                            "<tr><td>Corphish</td><td>Water</td><td>80</td><td>35</td><td>2.2857142857142856</td></tr>",
                            "<tr><td>Kecleon</td><td>Normal</td><td>90</td><td>40</td><td>2.25</td></tr>",
                            "<tr><td>Lairon</td><td>Steel</td><td>90</td><td>40</td><td>2.25</td></tr>",
                            "<tr><td>Wurmple</td><td>Bug</td><td>45</td><td>20</td><td>2.25</td></tr>",
                            "<tr><td>Shedinja</td><td>Bug</td><td>90</td><td>40</td><td>2.25</td></tr>",
                            "<tr><td>Jigglypuff</td><td>Normal</td><td>45</td><td>20</td><td>2.25</td></tr>",
                            "<tr><td>Forretress</td><td>Bug</td><td>90</td><td>40</td><td>2.25</td></tr>",
                            "<tr><td>Ariados</td><td>Bug</td><td>90</td><td>40</td><td>2.25</td></tr>",
                            "<tr><td>Machoke</td><td>Fighting</td><td>100</td><td>45</td><td>2.2222222222222223</td></tr>",
                            "<tr><td>Aggron</td><td>Steel</td><td>110</td><td>50</td><td>2.2</td></tr>",
                            "<tr><td>Tyranitar</td><td>Rock</td><td>134</td><td>61</td><td>2.19672131147541</td></tr>",
                            "<tr><td>Crawdaunt</td><td>Water</td><td>120</td><td>55</td><td>2.1818181818181817</td></tr>",
                            "<tr><td>Muk</td><td>Poison</td><td>105</td><td>50</td><td>2.1</td></tr>",
                            "<tr><td>Krabby</td><td>Water</td><td>105</td><td>50</td><td>2.1</td></tr>",
                            "<tr><td>Cacturne</td><td>Grass</td><td>115</td><td>55</td><td>2.090909090909091</td></tr>",
                            "<tr><td>Slakoth</td><td>Normal</td><td>60</td><td>30</td><td>2</td></tr>",
                            "<tr><td>Clamperl</td><td>Water</td><td>64</td><td>32</td><td>2</td></tr>",
                            "<tr><td>Huntail</td><td>Water</td><td>104</td><td>52</td><td>2</td></tr>",
                            "<tr><td>Regirock</td><td>Rock</td><td>100</td><td>50</td><td>2</td></tr>",
                            "<tr><td>Flareon</td><td>Fire</td><td>130</td><td>65</td><td>2</td></tr>",
                            "<tr><td>Piloswine</td><td>Ice</td><td>100</td><td>50</td><td>2</td></tr>",
                            "<tr><td>Teddiursa</td><td>Normal</td><td>80</td><td>40</td><td>2</td></tr>",
                            "<tr><td>Slugma</td><td>Fire</td><td>40</td><td>20</td><td>2</td></tr>",
                            "<tr><td>Scizor</td><td>Bug</td><td>130</td><td>65</td><td>2</td></tr>",
                            "<tr><td>Shuckle</td><td>Bug</td><td>10</td><td>5</td><td>2</td></tr>",
                            "<tr><td>Igglybuff</td><td>Normal</td><td>30</td><td>15</td><td>2</td></tr>",
                            "<tr><td>Spinarak</td><td>Bug</td><td>60</td><td>30</td><td>2</td></tr>",
                            "<tr><td>Metagross</td><td>Steel</td><td>135</td><td>70</td><td>1.9285714285714286</td></tr>",
                            "<tr><td>Shelgon</td><td>Dragon</td><td>95</td><td>50</td><td>1.9</td></tr>",
                            "<tr><td>Cradily</td><td>Rock</td><td>81</td><td>43</td><td>1.8837209302325582</td></tr>",
                            "<tr><td>Bellsprout</td><td>Grass</td><td>75</td><td>40</td><td>1.875</td></tr>",
                            "<tr><td>Sandshrew</td><td>Ground</td><td>75</td><td>40</td><td>1.875</td></tr>",
                            "<tr><td>Koffing</td><td>Poison</td><td>65</td><td>35</td><td>1.8571428571428572</td></tr>",
                            "<tr><td>Breloom</td><td>Grass</td><td>130</td><td>70</td><td>1.8571428571428572</td></tr>",
                            "<tr><td>Beldum</td><td>Steel</td><td>55</td><td>30</td><td>1.8333333333333333</td></tr>",
                            "<tr><td>Lickitung</td><td>Normal</td><td>55</td><td>30</td><td>1.8333333333333333</td></tr>",
                            "<tr><td>Swampert</td><td>Water</td><td>110</td><td>60</td><td>1.8333333333333333</td></tr>",
                            "<tr><td>Whismur</td><td>Normal</td><td>51</td><td>28</td><td>1.8214285714285714</td></tr>",
                            "<tr><td>Lileep</td><td>Rock</td><td>41</td><td>23</td><td>1.7826086956521738</td></tr>",
                            "<tr><td>Marowak</td><td>Ground</td><td>80</td><td>45</td><td>1.7777777777777777</td></tr>",
                            "<tr><td>Banette</td><td>Ghost</td><td>115</td><td>65</td><td>1.7692307692307692</td></tr>",
                            "<tr><td>Mudkip</td><td>Water</td><td>70</td><td>40</td><td>1.75</td></tr>",
                            "<tr><td>Kingler</td><td>Water</td><td>130</td><td>75</td><td>1.7333333333333334</td></tr>",
                            "<tr><td>Absol</td><td>Dark</td><td>130</td><td>75</td><td>1.7333333333333334</td></tr>",
                            "<tr><td>Exeggutor</td><td>Grass</td><td>95</td><td>55</td><td>1.7272727272727273</td></tr>",
                            "<tr><td>Numel</td><td>Fire</td><td>60</td><td>35</td><td>1.7142857142857142</td></tr>",
                            "<tr><td>Mawile</td><td>Steel</td><td>85</td><td>50</td><td>1.7</td></tr>",
                            "<tr><td>Marshtomp</td><td>Water</td><td>85</td><td>50</td><td>1.7</td></tr>",
                            "<tr><td>Dragonite</td><td>Dragon</td><td>134</td><td>80</td><td>1.675</td></tr>",
                            "<tr><td>Cleffa</td><td>Fairy</td><td>25</td><td>15</td><td>1.6666666666666667</td></tr>",
                            "<tr><td>Magcargo</td><td>Fire</td><td>50</td><td>30</td><td>1.6666666666666667</td></tr>",
                            "<tr><td>Oddish</td><td>Grass</td><td>50</td><td>30</td><td>1.6666666666666667</td></tr>",
                            "<tr><td>Shuppet</td><td>Ghost</td><td>75</td><td>45</td><td>1.6666666666666667</td></tr>",
                            "<tr><td>Groudon</td><td>Ground</td><td>150</td><td>90</td><td>1.6666666666666667</td></tr>",
                            "<tr><td>Pupitar</td><td>Rock</td><td>84</td><td>51</td><td>1.6470588235294117</td></tr>",
                            "<tr><td>Weepinbell</td><td>Grass</td><td>90</td><td>55</td><td>1.6363636363636365</td></tr>",
                            "<tr><td>Relicanth</td><td>Water</td><td>90</td><td>55</td><td>1.6363636363636365</td></tr>",
                            "<tr><td>Gloom</td><td>Grass</td><td>65</td><td>40</td><td>1.625</td></tr>",
                            "<tr><td>Shellder</td><td>Water</td><td>65</td><td>40</td><td>1.625</td></tr>",
                            "<tr><td>Gorebyss</td><td>Water</td><td>84</td><td>52</td><td>1.6153846153846154</td></tr>",
                            "<tr><td>Spheal</td><td>Ice</td><td>40</td><td>25</td><td>1.6</td></tr>",
                            "<tr><td>Duskull</td><td>Ghost</td><td>40</td><td>25</td><td>1.6</td></tr>",
                            "<tr><td>Slaking</td><td>Normal</td><td>160</td><td>100</td><td>1.6</td></tr>",
                            "<tr><td>Vileplume</td><td>Grass</td><td>80</td><td>50</td><td>1.6</td></tr>",
                            "<tr><td>Bellossom</td><td>Grass</td><td>80</td><td>50</td><td>1.6</td></tr>",
                            "<tr><td>Rayquaza</td><td>Dragon</td><td>150</td><td>95</td><td>1.5789473684210527</td></tr>",
                            "<tr><td>Poochyena</td><td>Dark</td><td>55</td><td>35</td><td>1.5714285714285714</td></tr>",
                            "<tr><td>Corsola</td><td>Water</td><td>55</td><td>35</td><td>1.5714285714285714</td></tr>",
                            "<tr><td>Larvitar</td><td>Rock</td><td>64</td><td>41</td><td>1.5609756097560976</td></tr>",
                            "<tr><td>Dunsparce</td><td>Normal</td><td>70</td><td>45</td><td>1.5555555555555556</td></tr>",
                            "<tr><td>Wigglytuff</td><td>Normal</td><td>70</td><td>45</td><td>1.5555555555555556</td></tr>",
                            "<tr><td>Combusken</td><td>Fire</td><td>85</td><td>55</td><td>1.5454545454545454</td></tr>",
                            "<tr><td>Gyarados</td><td>Water</td><td>125</td><td>81</td><td>1.5432098765432098</td></tr>",
                            "<tr><td>Sandslash</td><td>Ground</td><td>100</td><td>65</td><td>1.5384615384615385</td></tr>",
                            "<tr><td>Seviper</td><td>Poison</td><td>100</td><td>65</td><td>1.5384615384615385</td></tr>",
                            "<tr><td>Totodile</td><td>Water</td><td>65</td><td>43</td><td>1.5116279069767442</td></tr>",
                            "<tr><td>Unown</td><td>Psychic</td><td>72</td><td>48</td><td>1.5</td></tr>",
                            "<tr><td>Blaziken</td><td>Fire</td><td>120</td><td>80</td><td>1.5</td></tr>",
                            "<tr><td>Phanpy</td><td>Ground</td><td>60</td><td>40</td><td>1.5</td></tr>",
                            "<tr><td>Victreebel</td><td>Grass</td><td>105</td><td>70</td><td>1.5</td></tr>",
                            "<tr><td>Farfetch`d</td><td>Normal</td><td>90</td><td>60</td><td>1.5</td></tr>",
                            "<tr><td>Porygon</td><td>Normal</td><td>60</td><td>40</td><td>1.5</td></tr>",
                            "<tr><td>Weezing</td><td>Poison</td><td>90</td><td>60</td><td>1.5</td></tr>",
                            "<tr><td>Wailord</td><td>Water</td><td>90</td><td>60</td><td>1.5</td></tr>",
                            "<tr><td>Nosepass</td><td>Rock</td><td>45</td><td>30</td><td>1.5</td></tr>",
                            "<tr><td>Sableye</td><td>Dark</td><td>75</td><td>50</td><td>1.5</td></tr>",
                            "<tr><td>Bagon</td><td>Dragon</td><td>75</td><td>50</td><td>1.5</td></tr>",
                            "<tr><td>Metang</td><td>Steel</td><td>75</td><td>50</td><td>1.5</td></tr>",
                            "<tr><td>Registeel</td><td>Steel</td><td>75</td><td>50</td><td>1.5</td></tr>",
                            "<tr><td>Loudred</td><td>Normal</td><td>71</td><td>48</td><td>1.4791666666666667</td></tr>",
                            "<tr><td>Pinsir</td><td>Bug</td><td>125</td><td>85</td><td>1.4705882352941178</td></tr>",
                            "<tr><td>Heracross</td><td>Bug</td><td>125</td><td>85</td><td>1.4705882352941178</td></tr>",
                            "<tr><td>Kabuto</td><td>Rock</td><td>80</td><td>55</td><td>1.4545454545454546</td></tr>",
                            "<tr><td>Ho-Oh</td><td>Fire</td><td>130</td><td>90</td><td>1.4444444444444444</td></tr>",
                            "<tr><td>Kabutops</td><td>Rock</td><td>115</td><td>80</td><td>1.4375</td></tr>",
                            "<tr><td>Cubone</td><td>Ground</td><td>50</td><td>35</td><td>1.4285714285714286</td></tr>",
                            "<tr><td>Lapras</td><td>Water</td><td>85</td><td>60</td><td>1.4166666666666667</td></tr>",
                            "<tr><td>Carvanha</td><td>Water</td><td>90</td><td>65</td><td>1.3846153846153846</td></tr>",
                            "<tr><td>Hitmonchan</td><td>Fight</td><td>105</td><td>76</td><td>1.381578947368421</td></tr>",
                            "<tr><td>Hitmonlee</td><td>Fight</td><td>120</td><td>87</td><td>1.3793103448275863</td></tr>",
                            "<tr><td>Croconaw</td><td>Water</td><td>80</td><td>58</td><td>1.3793103448275863</td></tr>",
                            "<tr><td>Ampharos</td><td>Electric</td><td>75</td><td>55</td><td>1.3636363636363635</td></tr>",
                            "<tr><td>Hitmontop</td><td>Fighting</td><td>95</td><td>70</td><td>1.3571428571428572</td></tr>",
                            "<tr><td>Cloyster</td><td>Water</td><td>95</td><td>70</td><td>1.3571428571428572</td></tr>",
                            "<tr><td>Poliwrath</td><td>Water</td><td>95</td><td>70</td><td>1.3571428571428572</td></tr>",
                            "<tr><td>Solrock</td><td>Rock</td><td>95</td><td>70</td><td>1.3571428571428572</td></tr>",
                            "<tr><td>Seaking</td><td>Water</td><td>92</td><td>68</td><td>1.3529411764705883</td></tr>",
                            "<tr><td>Salamence</td><td>Dragon</td><td>135</td><td>100</td><td>1.35</td></tr>",
                            "<tr><td>Feraligatr</td><td>Water</td><td>105</td><td>78</td><td>1.3461538461538463</td></tr>",
                            "<tr><td>Exploud</td><td>Normal</td><td>91</td><td>68</td><td>1.338235294117647</td></tr>",
                            "<tr><td>Sealeo</td><td>Ice</td><td>60</td><td>45</td><td>1.3333333333333333</td></tr>",
                            "<tr><td>Tropius</td><td>Grass</td><td>68</td><td>51</td><td>1.3333333333333333</td></tr>",
                            "<tr><td>Torchic</td><td>Fire</td><td>60</td><td>45</td><td>1.3333333333333333</td></tr>",
                            "<tr><td>Seedot</td><td>Grass</td><td>40</td><td>30</td><td>1.3333333333333333</td></tr>",
                            "<tr><td>Porygon2</td><td>Normal</td><td>80</td><td>60</td><td>1.3333333333333333</td></tr>",
                            "<tr><td>Swalot</td><td>Poison</td><td>73</td><td>55</td><td>1.3272727272727274</td></tr>",
                            "<tr><td>Whiscash</td><td>Water</td><td>78</td><td>60</td><td>1.3</td></tr>",
                            "<tr><td>Mightyena</td><td>Dark</td><td>90</td><td>70</td><td>1.2857142857142858</td></tr>",
                            "<tr><td>Clefairy</td><td>Fairy</td><td>45</td><td>35</td><td>1.2857142857142858</td></tr>",
                            "<tr><td>Dratini</td><td>Dragon</td><td>64</td><td>50</td><td>1.28</td></tr>",
                            "<tr><td>Zangoose</td><td>Normal</td><td>115</td><td>90</td><td>1.2777777777777777</td></tr>",
                            "<tr><td>Anorith</td><td>Rock</td><td>95</td><td>75</td><td>1.2666666666666666</td></tr>",
                            "<tr><td>Sharpedo</td><td>Water</td><td>120</td><td>95</td><td>1.263157894736842</td></tr>",
                            "<tr><td>Shiftry</td><td>Grass</td><td>100</td><td>80</td><td>1.25</td></tr>",
                            "<tr><td>Walrein</td><td>Ice</td><td>80</td><td>65</td><td>1.2307692307692308</td></tr>",
                            "<tr><td>Flaaffy</td><td>Electric</td><td>55</td><td>45</td><td>1.2222222222222223</td></tr>",
                            "<tr><td>Venonat</td><td>Bug</td><td>55</td><td>45</td><td>1.2222222222222223</td></tr>",
                            "<tr><td>Nidoqueen</td><td>Poison</td><td>92</td><td>76</td><td>1.2105263157894737</td></tr>",
                            "<tr><td>Beedrill</td><td>Bug</td><td>90</td><td>75</td><td>1.2</td></tr>",
                            "<tr><td>Nidoking</td><td>Ground</td><td>102</td><td>85</td><td>1.2</td></tr>",
                            "<tr><td>Dragonair</td><td>Dragon</td><td>84</td><td>70</td><td>1.2</td></tr>",
                            "<tr><td>Arbok</td><td>Poison</td><td>95</td><td>80</td><td>1.1875</td></tr>",
                            "<tr><td>Clefable</td><td>Fairy</td><td>70</td><td>60</td><td>1.1666666666666667</td></tr>",
                            "<tr><td>Growlithe</td><td>Fire</td><td>70</td><td>60</td><td>1.1666666666666667</td></tr>",
                            "<tr><td>Nuzleaf</td><td>Grass</td><td>70</td><td>60</td><td>1.1666666666666667</td></tr>",
                            "<tr><td>Wailmer</td><td>Water</td><td>70</td><td>60</td><td>1.1666666666666667</td></tr>",
                            "<tr><td>Arcanine</td><td>Fire</td><td>110</td><td>95</td><td>1.1578947368421053</td></tr>",
                            "<tr><td>Entei</td><td>Fire</td><td>115</td><td>100</td><td>1.15</td></tr>",
                            "<tr><td>Nidoran?</td><td>Poison</td><td>47</td><td>41</td><td>1.146341463414634</td></tr>",
                            "<tr><td>Mankey</td><td>Fighting</td><td>80</td><td>70</td><td>1.1428571428571428</td></tr>",
                            "<tr><td>Omanyte</td><td>Rock</td><td>40</td><td>35</td><td>1.1428571428571428</td></tr>",
                            "<tr><td>Drowzee</td><td>Psychic</td><td>48</td><td>42</td><td>1.1428571428571428</td></tr>",
                            "<tr><td>Skarmory</td><td>Steel</td><td>80</td><td>70</td><td>1.1428571428571428</td></tr>",
                            "<tr><td>Mareep</td><td>Electric</td><td>40</td><td>35</td><td>1.1428571428571428</td></tr>",
                            "<tr><td>Shroomish</td><td>Grass</td><td>40</td><td>35</td><td>1.1428571428571428</td></tr>",
                            "<tr><td>Nidoran?</td><td>Poison</td><td>57</td><td>50</td><td>1.14</td></tr>",
                            "<tr><td>Doduo</td><td>Normal</td><td>85</td><td>75</td><td>1.1333333333333333</td></tr>",
                            "<tr><td>Nincada</td><td>Bug</td><td>45</td><td>40</td><td>1.125</td></tr>",
                            "<tr><td>Kingdra</td><td>Water</td><td>95</td><td>85</td><td>1.1176470588235294</td></tr>",
                            "<tr><td>Stantler</td><td>Normal</td><td>95</td><td>85</td><td>1.1176470588235294</td></tr>",
                            "<tr><td>Qwilfish</td><td>Water</td><td>95</td><td>85</td><td>1.1176470588235294</td></tr>",
                            "<tr><td>Moltres</td><td>Fire</td><td>100</td><td>90</td><td>1.1111111111111112</td></tr>",
                            "<tr><td>Kyogre</td><td>Water</td><td>100</td><td>90</td><td>1.1111111111111112</td></tr>",
                            "<tr><td>Nidorino</td><td>Poison</td><td>72</td><td>65</td><td>1.1076923076923078</td></tr>",
                            "<tr><td>Nidorina</td><td>Poison</td><td>62</td><td>56</td><td>1.1071428571428572</td></tr>",
                            "<tr><td>Primeape</td><td>Fighting</td><td>105</td><td>95</td><td>1.105263157894737</td></tr>",
                            "<tr><td>Ekans</td><td>Poison</td><td>60</td><td>55</td><td>1.0909090909090908</td></tr>",
                            "<tr><td>Omastar</td><td>Rock</td><td>60</td><td>55</td><td>1.0909090909090908</td></tr>",
                            "<tr><td>Hypno</td><td>Psychic</td><td>73</td><td>67</td><td>1.0895522388059702</td></tr>",
                            "<tr><td>Kangaskhan</td><td>Normal</td><td>49</td><td>45</td><td>1.0888888888888888</td></tr>",
                            "<tr><td>Bulbasaur</td><td>Grass</td><td>49</td><td>45</td><td>1.0888888888888888</td></tr>",
                            "<tr><td>Chikorita</td><td>Grass</td><td>49</td><td>45</td><td>1.0888888888888888</td></tr>",
                            "<tr><td>Beautifly</td><td>Bug</td><td>70</td><td>65</td><td>1.0769230769230769</td></tr>",
                            "<tr><td>Gulpin</td><td>Poison</td><td>43</td><td>40</td><td>1.075</td></tr>",
                            "<tr><td>Politoed</td><td>Water</td><td>75</td><td>70</td><td>1.0714285714285714</td></tr>",
                            "<tr><td>Goldeen</td><td>Water</td><td>67</td><td>63</td><td>1.0634920634920635</td></tr>",
                            "<tr><td>Scyther</td><td>Bug</td><td>110</td><td>105</td><td>1.0476190476190477</td></tr>",
                            "<tr><td>Charmander</td><td>Fire</td><td>52</td><td>50</td><td>1.04</td></tr>",
                            "<tr><td>Ivysaur</td><td>Grass</td><td>62</td><td>60</td><td>1.0333333333333334</td></tr>",
                            "<tr><td>Bayleef</td><td>Grass</td><td>62</td><td>60</td><td>1.0333333333333334</td></tr>",
                            "<tr><td>Meganium</td><td>Grass</td><td>82</td><td>80</td><td>1.025</td></tr>",
                            "<tr><td>Venusaur</td><td>Grass</td><td>82</td><td>80</td><td>1.025</td></tr>",
                            "<tr><td>Magmar</td><td>Fire</td><td>95</td><td>93</td><td>1.021505376344086</td></tr>",
                            "</table>"
                        ]
                    }
                }
            ],
            "execution_count": 6
        },
        {
            "cell_type": "code",
            "source": [
                "--6\n",
                "-- determine battle readiness of each pokemon, which is a sum of attack, defense, and the higher of special att or special def, plus twice their speed\n",
                "\n",
                "USE PokemonGen1; \n",
                "USE PokemonGen2;\n",
                "USE PokemonGen3; \n",
                "\n",
                "SELECT TOP 10 * FROM (\n",
                "    SELECT\n",
                "        Name,\n",
                "        Type1,\n",
                "        'Gen1' AS Generation,\n",
                "        Attack + Defense + CASE WHEN SpecialAttack > SpecialDefense THEN SpecialAttack ELSE SpecialDefense END + (Speed * 2) AS BattleScore\n",
                "    FROM PokemonGen1.dbo.PokemonGen1\n",
                "    UNION ALL\n",
                "    SELECT\n",
                "        Name,\n",
                "        Type1,\n",
                "        'Gen2',\n",
                "        Attack + Defense + CASE WHEN SpecialAttack > SpecialDefense THEN SpecialAttack ELSE SpecialDefense END + (Speed * 2)\n",
                "    FROM PokemonGen2.dbo.PokemonGen2\n",
                "    UNION ALL\n",
                "    SELECT\n",
                "        Name,\n",
                "        Type1,\n",
                "        'Gen3',\n",
                "        Attack + Defense + CASE WHEN SpecialAttack > SpecialDefense THEN SpecialAttack ELSE SpecialDefense END + (Speed * 2)\n",
                "    FROM PokemonGen3.dbo.PokemonGen3\n",
                ") AS Combined\n",
                "ORDER BY BattleScore DESC;\n",
                ""
            ],
            "metadata": {
                "azdata_cell_guid": "1dad4392-d5cd-41a7-a43b-9f757175ec9e",
                "language": "sql"
            },
            "outputs": [
                {
                    "output_type": "display_data",
                    "data": {
                        "text/html": "(10 rows affected)"
                    },
                    "metadata": {}
                },
                {
                    "output_type": "display_data",
                    "data": {
                        "text/html": "Total execution time: 00:00:00.030"
                    },
                    "metadata": {}
                },
                {
                    "output_type": "execute_result",
                    "metadata": {},
                    "execution_count": 7,
                    "data": {
                        "application/vnd.dataresource+json": {
                            "schema": {
                                "fields": [
                                    {
                                        "name": "Name"
                                    },
                                    {
                                        "name": "Type1"
                                    },
                                    {
                                        "name": "Generation"
                                    },
                                    {
                                        "name": "BattleScore"
                                    }
                                ]
                            },
                            "data": [
                                {
                                    "Name": "Deoxys",
                                    "Type1": "Psychic",
                                    "Generation": "Gen3",
                                    "BattleScore": "650"
                                },
                                {
                                    "Name": "Mewtwo",
                                    "Type1": "Psychic",
                                    "Generation": "Gen1",
                                    "BattleScore": "614"
                                },
                                {
                                    "Name": "Lugia",
                                    "Type1": "Psychic",
                                    "Generation": "Gen2",
                                    "BattleScore": "594"
                                },
                                {
                                    "Name": "Rayquaza",
                                    "Type1": "Dragon",
                                    "Generation": "Gen3",
                                    "BattleScore": "580"
                                },
                                {
                                    "Name": "Groudon",
                                    "Type1": "Ground",
                                    "Generation": "Gen3",
                                    "BattleScore": "570"
                                },
                                {
                                    "Name": "Slaking",
                                    "Type1": "Normal",
                                    "Generation": "Gen3",
                                    "BattleScore": "555"
                                },
                                {
                                    "Name": "Ho-Oh",
                                    "Type1": "Fire",
                                    "Generation": "Gen2",
                                    "BattleScore": "554"
                                },
                                {
                                    "Name": "Salamence",
                                    "Type1": "Dragon",
                                    "Generation": "Gen3",
                                    "BattleScore": "525"
                                },
                                {
                                    "Name": "Kyogre",
                                    "Type1": "Water",
                                    "Generation": "Gen3",
                                    "BattleScore": "520"
                                },
                                {
                                    "Name": "Latias",
                                    "Type1": "Dragon",
                                    "Generation": "Gen3",
                                    "BattleScore": "520"
                                }
                            ]
                        },
                        "text/html": [
                            "<table>",
                            "<tr><th>Name</th><th>Type1</th><th>Generation</th><th>BattleScore</th></tr>",
                            "<tr><td>Deoxys</td><td>Psychic</td><td>Gen3</td><td>650</td></tr>",
                            "<tr><td>Mewtwo</td><td>Psychic</td><td>Gen1</td><td>614</td></tr>",
                            "<tr><td>Lugia</td><td>Psychic</td><td>Gen2</td><td>594</td></tr>",
                            "<tr><td>Rayquaza</td><td>Dragon</td><td>Gen3</td><td>580</td></tr>",
                            "<tr><td>Groudon</td><td>Ground</td><td>Gen3</td><td>570</td></tr>",
                            "<tr><td>Slaking</td><td>Normal</td><td>Gen3</td><td>555</td></tr>",
                            "<tr><td>Ho-Oh</td><td>Fire</td><td>Gen2</td><td>554</td></tr>",
                            "<tr><td>Salamence</td><td>Dragon</td><td>Gen3</td><td>525</td></tr>",
                            "<tr><td>Kyogre</td><td>Water</td><td>Gen3</td><td>520</td></tr>",
                            "<tr><td>Latias</td><td>Dragon</td><td>Gen3</td><td>520</td></tr>",
                            "</table>"
                        ]
                    }
                }
            ],
            "execution_count": 7
        },
        {
            "cell_type": "code",
            "source": [
                "--7\n",
                "-- Which new abilities (Ability1, Ability2, Ability3) were introduced in each generation, and how are they distributed among different Pokémon types?\n",
                "USE PokemonGen1;\n",
                "USE PokemonGen2;\n",
                "USE PokemonGen3;\n",
                "\n",
                "WITH AbilityIntro AS (\n",
                "  SELECT Ability, 'Gen1' AS Generation, Type1, Type2\n",
                "  FROM (\n",
                "    SELECT Ability1 AS Ability, Type1, Type2 FROM PokemonGen1.dbo.PokemonGen1\n",
                "    UNION ALL\n",
                "    SELECT Ability2, Type1, Type2 FROM PokemonGen1.dbo.PokemonGen1\n",
                "    UNION ALL\n",
                "    SELECT Ability3, Type1, Type2 FROM PokemonGen1.dbo.PokemonGen1\n",
                "  ) Gen1\n",
                "  WHERE Ability IS NOT NULL\n",
                "  UNION ALL\n",
                "  SELECT Ability, 'Gen2', Type1, Type2\n",
                "  FROM (\n",
                "    SELECT Ability1 AS Ability, Type1, Type2 FROM PokemonGen2.dbo.PokemonGen2\n",
                "    UNION ALL\n",
                "    SELECT Ability2, Type1, Type2 FROM PokemonGen2.dbo.PokemonGen2\n",
                "    UNION ALL\n",
                "    SELECT Ability3, Type1, Type2 FROM PokemonGen2.dbo.PokemonGen2\n",
                "  ) Gen2\n",
                "  WHERE Ability IS NOT NULL\n",
                "  UNION ALL\n",
                "  SELECT Ability, 'Gen3', Type1, Type2\n",
                "  FROM (\n",
                "    SELECT Ability1 AS Ability, Type1, Type2 FROM PokemonGen3.dbo.PokemonGen3\n",
                "    UNION ALL\n",
                "    SELECT Ability2, Type1, Type2 FROM PokemonGen3.dbo.PokemonGen3\n",
                "    UNION ALL\n",
                "    SELECT Ability3, Type1, Type2 FROM PokemonGen3.dbo.PokemonGen3\n",
                "  ) Gen3\n",
                "  WHERE Ability IS NOT NULL\n",
                "),\n",
                "AbilityCount AS (\n",
                "  SELECT Ability, Generation, Type1, Type2, COUNT(*) AS Count\n",
                "  FROM AbilityIntro\n",
                "  GROUP BY Ability, Generation, Type1, Type2\n",
                ")\n",
                "SELECT Ability, Generation, Type1, Type2, Count\n",
                "FROM AbilityCount\n",
                "ORDER BY Ability, Generation, Type1, Type2;\n",
                ""
            ],
            "metadata": {
                "language": "sql",
                "azdata_cell_guid": "95943949-d3d7-4312-85d4-9c3f3fe96496"
            },
            "outputs": [
                {
                    "output_type": "display_data",
                    "data": {
                        "text/html": "(605 rows affected)"
                    },
                    "metadata": {}
                },
                {
                    "output_type": "display_data",
                    "data": {
                        "text/html": "Total execution time: 00:00:00.059"
                    },
                    "metadata": {}
                },
                {
                    "output_type": "execute_result",
                    "metadata": {},
                    "execution_count": 8,
                    "data": {
                        "application/vnd.dataresource+json": {
                            "schema": {
                                "fields": [
                                    {
                                        "name": "Ability"
                                    },
                                    {
                                        "name": "Generation"
                                    },
                                    {
                                        "name": "Type1"
                                    },
                                    {
                                        "name": "Type2"
                                    },
                                    {
                                        "name": "Count"
                                    }
                                ]
                            },
                            "data": [
                                {
                                    "Ability": "Adaptability",
                                    "Generation": "Gen1",
                                    "Type1": "Normal",
                                    "Type2": "NULL",
                                    "Count": "1"
                                },
                                {
                                    "Ability": "Adaptability",
                                    "Generation": "Gen3",
                                    "Type1": "Water",
                                    "Type2": "NULL",
                                    "Count": "2"
                                },
                                {
                                    "Ability": "Adaptability",
                                    "Generation": "Gen3",
                                    "Type1": "Water",
                                    "Type2": "Dark",
                                    "Count": "1"
                                },
                                {
                                    "Ability": "Aftermath",
                                    "Generation": "Gen1",
                                    "Type1": "Electric",
                                    "Type2": "NULL",
                                    "Count": "2"
                                },
                                {
                                    "Ability": "Air Lock",
                                    "Generation": "Gen3",
                                    "Type1": "Dragon",
                                    "Type2": "Flying",
                                    "Count": "1"
                                },
                                {
                                    "Ability": "Analytic",
                                    "Generation": "Gen1",
                                    "Type1": "Electric",
                                    "Type2": "Steel",
                                    "Count": "2"
                                },
                                {
                                    "Ability": "Analytic",
                                    "Generation": "Gen1",
                                    "Type1": "Normal",
                                    "Type2": "NULL",
                                    "Count": "1"
                                },
                                {
                                    "Ability": "Analytic",
                                    "Generation": "Gen1",
                                    "Type1": "Water",
                                    "Type2": "NULL",
                                    "Count": "1"
                                },
                                {
                                    "Ability": "Analytic",
                                    "Generation": "Gen1",
                                    "Type1": "Water",
                                    "Type2": "Psychic",
                                    "Count": "1"
                                },
                                {
                                    "Ability": "Analytic",
                                    "Generation": "Gen2",
                                    "Type1": "Normal",
                                    "Type2": "NULL",
                                    "Count": "1"
                                },
                                {
                                    "Ability": "Anger Point",
                                    "Generation": "Gen1",
                                    "Type1": "Fighting",
                                    "Type2": "NULL",
                                    "Count": "2"
                                },
                                {
                                    "Ability": "Anger Point",
                                    "Generation": "Gen1",
                                    "Type1": "Normal",
                                    "Type2": "NULL",
                                    "Count": "1"
                                },
                                {
                                    "Ability": "Anger Point",
                                    "Generation": "Gen3",
                                    "Type1": "Fire",
                                    "Type2": "Ground",
                                    "Count": "1"
                                },
                                {
                                    "Ability": "Anticipation",
                                    "Generation": "Gen1",
                                    "Type1": "Normal",
                                    "Type2": "NULL",
                                    "Count": "1"
                                },
                                {
                                    "Ability": "Anticipation",
                                    "Generation": "Gen3",
                                    "Type1": "Water",
                                    "Type2": "Ground",
                                    "Count": "2"
                                },
                                {
                                    "Ability": "Arena Trap",
                                    "Generation": "Gen1",
                                    "Type1": "Ground",
                                    "Type2": "NULL",
                                    "Count": "2"
                                },
                                {
                                    "Ability": "Arena Trap",
                                    "Generation": "Gen3",
                                    "Type1": "Ground",
                                    "Type2": "NULL",
                                    "Count": "1"
                                },
                                {
                                    "Ability": "Battle Armor",
                                    "Generation": "Gen1",
                                    "Type1": "Ground",
                                    "Type2": "NULL",
                                    "Count": "2"
                                },
                                {
                                    "Ability": "Battle Armor",
                                    "Generation": "Gen1",
                                    "Type1": "Rock",
                                    "Type2": "Water",
                                    "Count": "2"
                                },
                                {
                                    "Ability": "Battle Armor",
                                    "Generation": "Gen3",
                                    "Type1": "Rock",
                                    "Type2": "Bug",
                                    "Count": "2"
                                },
                                {
                                    "Ability": "Big Pecks",
                                    "Generation": "Gen1",
                                    "Type1": "Normal",
                                    "Type2": "Flying",
                                    "Count": "3"
                                },
                                {
                                    "Ability": "Blaze",
                                    "Generation": "Gen1",
                                    "Type1": "Fire",
                                    "Type2": "NULL",
                                    "Count": "2"
                                },
                                {
                                    "Ability": "Blaze",
                                    "Generation": "Gen1",
                                    "Type1": "Fire",
                                    "Type2": "Flying",
                                    "Count": "1"
                                },
                                {
                                    "Ability": "Blaze",
                                    "Generation": "Gen2",
                                    "Type1": "Fire",
                                    "Type2": "NULL",
                                    "Count": "3"
                                },
                                {
                                    "Ability": "Blaze",
                                    "Generation": "Gen3",
                                    "Type1": "Fire",
                                    "Type2": "NULL",
                                    "Count": "3"
                                },
                                {
                                    "Ability": "Chlorophyll",
                                    "Generation": "Gen1",
                                    "Type1": "Grass",
                                    "Type2": "NULL",
                                    "Count": "1"
                                },
                                {
                                    "Ability": "Chlorophyll",
                                    "Generation": "Gen1",
                                    "Type1": "Grass",
                                    "Type2": "Poison",
                                    "Count": "9"
                                },
                                {
                                    "Ability": "Chlorophyll",
                                    "Generation": "Gen1",
                                    "Type1": "Grass",
                                    "Type2": "Psychic",
                                    "Count": "2"
                                },
                                {
                                    "Ability": "Chlorophyll",
                                    "Generation": "Gen2",
                                    "Type1": "Grass",
                                    "Type2": "NULL",
                                    "Count": "3"
                                },
                                {
                                    "Ability": "Chlorophyll",
                                    "Generation": "Gen2",
                                    "Type1": "Grass",
                                    "Type2": "Flying",
                                    "Count": "3"
                                },
                                {
                                    "Ability": "Chlorophyll",
                                    "Generation": "Gen3",
                                    "Type1": "Grass",
                                    "Type2": "NULL",
                                    "Count": "1"
                                },
                                {
                                    "Ability": "Chlorophyll",
                                    "Generation": "Gen3",
                                    "Type1": "Grass",
                                    "Type2": "Dark",
                                    "Count": "2"
                                },
                                {
                                    "Ability": "Chlorophyll",
                                    "Generation": "Gen3",
                                    "Type1": "Grass",
                                    "Type2": "Flying",
                                    "Count": "1"
                                },
                                {
                                    "Ability": "Clear Body",
                                    "Generation": "Gen1",
                                    "Type1": "Water",
                                    "Type2": "Poison",
                                    "Count": "2"
                                },
                                {
                                    "Ability": "Clear Body",
                                    "Generation": "Gen3",
                                    "Type1": "Ice",
                                    "Type2": "NULL",
                                    "Count": "1"
                                },
                                {
                                    "Ability": "Clear Body",
                                    "Generation": "Gen3",
                                    "Type1": "Rock",
                                    "Type2": "NULL",
                                    "Count": "1"
                                },
                                {
                                    "Ability": "Clear Body",
                                    "Generation": "Gen3",
                                    "Type1": "Steel",
                                    "Type2": "NULL",
                                    "Count": "1"
                                },
                                {
                                    "Ability": "Clear Body",
                                    "Generation": "Gen3",
                                    "Type1": "Steel",
                                    "Type2": "Psychic",
                                    "Count": "3"
                                },
                                {
                                    "Ability": "Cloud Nine",
                                    "Generation": "Gen1",
                                    "Type1": "Normal",
                                    "Type2": "NULL",
                                    "Count": "1"
                                },
                                {
                                    "Ability": "Cloud Nine",
                                    "Generation": "Gen1",
                                    "Type1": "Water",
                                    "Type2": "NULL",
                                    "Count": "2"
                                },
                                {
                                    "Ability": "Cloud Nine",
                                    "Generation": "Gen3",
                                    "Type1": "Dragon",
                                    "Type2": "Flying",
                                    "Count": "1"
                                },
                                {
                                    "Ability": "Cloud Nine",
                                    "Generation": "Gen3",
                                    "Type1": "Normal",
                                    "Type2": "Flying",
                                    "Count": "1"
                                },
                                {
                                    "Ability": "Color Change",
                                    "Generation": "Gen3",
                                    "Type1": "Normal",
                                    "Type2": "NULL",
                                    "Count": "1"
                                },
                                {
                                    "Ability": "Competitive",
                                    "Generation": "Gen1",
                                    "Type1": "Normal",
                                    "Type2": "Fairy",
                                    "Count": "2"
                                },
                                {
                                    "Ability": "Competitive",
                                    "Generation": "Gen2",
                                    "Type1": "Normal",
                                    "Type2": "Fairy",
                                    "Count": "1"
                                },
                                {
                                    "Ability": "Competitive",
                                    "Generation": "Gen3",
                                    "Type1": "Water",
                                    "Type2": "NULL",
                                    "Count": "1"
                                },
                                {
                                    "Ability": "Compoundeyes",
                                    "Generation": "Gen1",
                                    "Type1": "Bug",
                                    "Type2": "Flying",
                                    "Count": "1"
                                },
                                {
                                    "Ability": "Compoundeyes",
                                    "Generation": "Gen1",
                                    "Type1": "Bug",
                                    "Type2": "Poison",
                                    "Count": "1"
                                },
                                {
                                    "Ability": "Compoundeyes",
                                    "Generation": "Gen2",
                                    "Type1": "Bug",
                                    "Type2": "Flying",
                                    "Count": "1"
                                },
                                {
                                    "Ability": "Compoundeyes",
                                    "Generation": "Gen3",
                                    "Type1": "Bug",
                                    "Type2": "Ground",
                                    "Count": "1"
                                },
                                {
                                    "Ability": "Compoundeyes",
                                    "Generation": "Gen3",
                                    "Type1": "Bug",
                                    "Type2": "Poison",
                                    "Count": "1"
                                },
                                {
                                    "Ability": "Contrary",
                                    "Generation": "Gen2",
                                    "Type1": "Bug",
                                    "Type2": "Rock",
                                    "Count": "1"
                                },
                                {
                                    "Ability": "Contrary",
                                    "Generation": "Gen3",
                                    "Type1": "Normal",
                                    "Type2": "NULL",
                                    "Count": "1"
                                },
                                {
                                    "Ability": "Cursed Body",
                                    "Generation": "Gen1",
                                    "Type1": "Ghost",
                                    "Type2": "Poison",
                                    "Count": "1"
                                },
                                {
                                    "Ability": "Cursed Body",
                                    "Generation": "Gen3",
                                    "Type1": "Ghost",
                                    "Type2": "NULL",
                                    "Count": "2"
                                },
                                {
                                    "Ability": "Cute Charm",
                                    "Generation": "Gen1",
                                    "Type1": "Fairy",
                                    "Type2": "NULL",
                                    "Count": "2"
                                },
                                {
                                    "Ability": "Cute Charm",
                                    "Generation": "Gen1",
                                    "Type1": "Normal",
                                    "Type2": "Fairy",
                                    "Count": "2"
                                },
                                {
                                    "Ability": "Cute Charm",
                                    "Generation": "Gen2",
                                    "Type1": "Fairy",
                                    "Type2": "NULL",
                                    "Count": "1"
                                },
                                {
                                    "Ability": "Cute Charm",
                                    "Generation": "Gen2",
                                    "Type1": "Normal",
                                    "Type2": "Fairy",
                                    "Count": "1"
                                },
                                {
                                    "Ability": "Cute Charm",
                                    "Generation": "Gen3",
                                    "Type1": "Normal",
                                    "Type2": "NULL",
                                    "Count": "2"
                                },
                                {
                                    "Ability": "Cute Charm",
                                    "Generation": "Gen3",
                                    "Type1": "Water",
                                    "Type2": "NULL",
                                    "Count": "1"
                                },
                                {
                                    "Ability": "Damp",
                                    "Generation": "Gen1",
                                    "Type1": "Bug",
                                    "Type2": "Grass",
                                    "Count": "2"
                                },
                                {
                                    "Ability": "Damp",
                                    "Generation": "Gen1",
                                    "Type1": "Water",
                                    "Type2": "NULL",
                                    "Count": "6"
                                },
                                {
                                    "Ability": "Damp",
                                    "Generation": "Gen1",
                                    "Type1": "Water",
                                    "Type2": "Fighting",
                                    "Count": "1"
                                },
                                {
                                    "Ability": "Damp",
                                    "Generation": "Gen2",
                                    "Type1": "Water",
                                    "Type2": "NULL",
                                    "Count": "1"
                                },
                                {
                                    "Ability": "Damp",
                                    "Generation": "Gen2",
                                    "Type1": "Water",
                                    "Type2": "Dragon",
                                    "Count": "1"
                                },
                                {
                                    "Ability": "Damp",
                                    "Generation": "Gen2",
                                    "Type1": "Water",
                                    "Type2": "Ground",
                                    "Count": "2"
                                },
                                {
                                    "Ability": "Damp",
                                    "Generation": "Gen3",
                                    "Type1": "Water",
                                    "Type2": "NULL",
                                    "Count": "3"
                                },
                                {
                                    "Ability": "Defiant",
                                    "Generation": "Gen1",
                                    "Type1": "Fighting",
                                    "Type2": "NULL",
                                    "Count": "2"
                                },
                                {
                                    "Ability": "Defiant",
                                    "Generation": "Gen1",
                                    "Type1": "Normal",
                                    "Type2": "Flying",
                                    "Count": "1"
                                },
                                {
                                    "Ability": "Download",
                                    "Generation": "Gen1",
                                    "Type1": "Normal",
                                    "Type2": "NULL",
                                    "Count": "1"
                                },
                                {
                                    "Ability": "Download",
                                    "Generation": "Gen2",
                                    "Type1": "Normal",
                                    "Type2": "NULL",
                                    "Count": "1"
                                },
                                {
                                    "Ability": "Drizzle",
                                    "Generation": "Gen2",
                                    "Type1": "Water",
                                    "Type2": "NULL",
                                    "Count": "1"
                                },
                                {
                                    "Ability": "Drizzle",
                                    "Generation": "Gen3",
                                    "Type1": "Water",
                                    "Type2": "NULL",
                                    "Count": "1"
                                },
                                {
                                    "Ability": "Drizzle",
                                    "Generation": "Gen3",
                                    "Type1": "Water",
                                    "Type2": "Flying",
                                    "Count": "1"
                                },
                                {
                                    "Ability": "Drought",
                                    "Generation": "Gen1",
                                    "Type1": "Fire",
                                    "Type2": "NULL",
                                    "Count": "2"
                                },
                                {
                                    "Ability": "Drought",
                                    "Generation": "Gen3",
                                    "Type1": "Fire",
                                    "Type2": "NULL",
                                    "Count": "1"
                                },
                                {
                                    "Ability": "Drought",
                                    "Generation": "Gen3",
                                    "Type1": "Ground",
                                    "Type2": "NULL",
                                    "Count": "1"
                                },
                                {
                                    "Ability": "Dry Skin",
                                    "Generation": "Gen1",
                                    "Type1": "Bug",
                                    "Type2": "Grass",
                                    "Count": "2"
                                },
                                {
                                    "Ability": "Dry Skin",
                                    "Generation": "Gen1",
                                    "Type1": "Ice",
                                    "Type2": "Psychic",
                                    "Count": "1"
                                },
                                {
                                    "Ability": "Early Bird",
                                    "Generation": "Gen1",
                                    "Type1": "Normal",
                                    "Type2": "NULL",
                                    "Count": "1"
                                },
                                {
                                    "Ability": "Early Bird",
                                    "Generation": "Gen1",
                                    "Type1": "Normal",
                                    "Type2": "Flying",
                                    "Count": "2"
                                },
                                {
                                    "Ability": "Early Bird",
                                    "Generation": "Gen2",
                                    "Type1": "Bug",
                                    "Type2": "Flying",
                                    "Count": "2"
                                },
                                {
                                    "Ability": "Early Bird",
                                    "Generation": "Gen2",
                                    "Type1": "Dark",
                                    "Type2": "Fire",
                                    "Count": "2"
                                },
                                {
                                    "Ability": "Early Bird",
                                    "Generation": "Gen2",
                                    "Type1": "Grass",
                                    "Type2": "NULL",
                                    "Count": "2"
                                },
                                {
                                    "Ability": "Early Bird",
                                    "Generation": "Gen2",
                                    "Type1": "Normal",
                                    "Type2": "Psychic",
                                    "Count": "1"
                                },
                                {
                                    "Ability": "Early Bird",
                                    "Generation": "Gen2",
                                    "Type1": "Psychic",
                                    "Type2": "Flying",
                                    "Count": "2"
                                },
                                {
                                    "Ability": "Early Bird",
                                    "Generation": "Gen3",
                                    "Type1": "Grass",
                                    "Type2": "NULL",
                                    "Count": "1"
                                },
                                {
                                    "Ability": "Early Bird",
                                    "Generation": "Gen3",
                                    "Type1": "Grass",
                                    "Type2": "Dark",
                                    "Count": "1"
                                },
                                {
                                    "Ability": "Effect Spore",
                                    "Generation": "Gen1",
                                    "Type1": "Bug",
                                    "Type2": "Grass",
                                    "Count": "2"
                                },
                                {
                                    "Ability": "Effect Spore",
                                    "Generation": "Gen1",
                                    "Type1": "Grass",
                                    "Type2": "Poison",
                                    "Count": "1"
                                },
                                {
                                    "Ability": "Effect Spore",
                                    "Generation": "Gen3",
                                    "Type1": "Grass",
                                    "Type2": "NULL",
                                    "Count": "1"
                                },
                                {
                                    "Ability": "Effect Spore",
                                    "Generation": "Gen3",
                                    "Type1": "Grass",
                                    "Type2": "Fighting",
                                    "Count": "1"
                                },
                                {
                                    "Ability": "Filter",
                                    "Generation": "Gen1",
                                    "Type1": "Psychic",
                                    "Type2": "Fairy",
                                    "Count": "1"
                                },
                                {
                                    "Ability": "Flame Body",
                                    "Generation": "Gen1",
                                    "Type1": "Fire",
                                    "Type2": "NULL",
                                    "Count": "3"
                                },
                                {
                                    "Ability": "Flame Body",
                                    "Generation": "Gen1",
                                    "Type1": "Fire",
                                    "Type2": "Flying",
                                    "Count": "1"
                                },
                                {
                                    "Ability": "Flame Body",
                                    "Generation": "Gen2",
                                    "Type1": "Fire",
                                    "Type2": "NULL",
                                    "Count": "2"
                                },
                                {
                                    "Ability": "Flame Body",
                                    "Generation": "Gen2",
                                    "Type1": "Fire",
                                    "Type2": "Rock",
                                    "Count": "1"
                                },
                                {
                                    "Ability": "Flash Fire",
                                    "Generation": "Gen1",
                                    "Type1": "Fire",
                                    "Type2": "NULL",
                                    "Count": "7"
                                },
                                {
                                    "Ability": "Flash Fire",
                                    "Generation": "Gen2",
                                    "Type1": "Dark",
                                    "Type2": "Fire",
                                    "Count": "2"
                                },
                                {
                                    "Ability": "Flash Fire",
                                    "Generation": "Gen2",
                                    "Type1": "Fire",
                                    "Type2": "NULL",
                                    "Count": "3"
                                },
                                {
                                    "Ability": "Forecast",
                                    "Generation": "Gen3",
                                    "Type1": "Normal",
                                    "Type2": "NULL",
                                    "Count": "1"
                                },
                                {
                                    "Ability": "Forewarn",
                                    "Generation": "Gen1",
                                    "Type1": "Ice",
                                    "Type2": "Psychic",
                                    "Count": "1"
                                },
                                {
                                    "Ability": "Forewarn",
                                    "Generation": "Gen1",
                                    "Type1": "Psychic",
                                    "Type2": "NULL",
                                    "Count": "2"
                                },
                                {
                                    "Ability": "Forewarn",
                                    "Generation": "Gen2",
                                    "Type1": "Ice",
                                    "Type2": "Psychic",
                                    "Count": "1"
                                },
                                {
                                    "Ability": "Friend Guard",
                                    "Generation": "Gen1",
                                    "Type1": "Fairy",
                                    "Type2": "NULL",
                                    "Count": "2"
                                },
                                {
                                    "Ability": "Friend Guard",
                                    "Generation": "Gen1",
                                    "Type1": "Normal",
                                    "Type2": "Fairy",
                                    "Count": "1"
                                },
                                {
                                    "Ability": "Friend Guard",
                                    "Generation": "Gen2",
                                    "Type1": "Fairy",
                                    "Type2": "NULL",
                                    "Count": "1"
                                },
                                {
                                    "Ability": "Frisk",
                                    "Generation": "Gen1",
                                    "Type1": "Normal",
                                    "Type2": "Fairy",
                                    "Count": "1"
                                },
                                {
                                    "Ability": "Frisk",
                                    "Generation": "Gen2",
                                    "Type1": "Bug",
                                    "Type2": "Flying",
                                    "Count": "1"
                                },
                                {
                                    "Ability": "Frisk",
                                    "Generation": "Gen2",
                                    "Type1": "Normal",
                                    "Type2": "NULL",
                                    "Count": "3"
                                },
                                {
                                    "Ability": "Frisk",
                                    "Generation": "Gen3",
                                    "Type1": "Ghost",
                                    "Type2": "NULL",
                                    "Count": "4"
                                },
                                {
                                    "Ability": "Gluttony",
                                    "Generation": "Gen1",
                                    "Type1": "Grass",
                                    "Type2": "Poison",
                                    "Count": "3"
                                },
                                {
                                    "Ability": "Gluttony",
                                    "Generation": "Gen1",
                                    "Type1": "Normal",
                                    "Type2": "NULL",
                                    "Count": "1"
                                },
                                {
                                    "Ability": "Gluttony",
                                    "Generation": "Gen2",
                                    "Type1": "Bug",
                                    "Type2": "Rock",
                                    "Count": "1"
                                },
                                {
                                    "Ability": "Gluttony",
                                    "Generation": "Gen3",
                                    "Type1": "Normal",
                                    "Type2": "NULL",
                                    "Count": "2"
                                },
                                {
                                    "Ability": "Gluttony",
                                    "Generation": "Gen3",
                                    "Type1": "Poison",
                                    "Type2": "NULL",
                                    "Count": "2"
                                },
                                {
                                    "Ability": "Gluttony",
                                    "Generation": "Gen3",
                                    "Type1": "Psychic",
                                    "Type2": "NULL",
                                    "Count": "2"
                                },
                                {
                                    "Ability": "Guts",
                                    "Generation": "Gen1",
                                    "Type1": "Fighting",
                                    "Type2": "NULL",
                                    "Count": "3"
                                },
                                {
                                    "Ability": "Guts",
                                    "Generation": "Gen1",
                                    "Type1": "Fire",
                                    "Type2": "NULL",
                                    "Count": "1"
                                },
                                {
                                    "Ability": "Guts",
                                    "Generation": "Gen1",
                                    "Type1": "Normal",
                                    "Type2": "NULL",
                                    "Count": "2"
                                },
                                {
                                    "Ability": "Guts",
                                    "Generation": "Gen2",
                                    "Type1": "Bug",
                                    "Type2": "Fighting",
                                    "Count": "1"
                                },
                                {
                                    "Ability": "Guts",
                                    "Generation": "Gen2",
                                    "Type1": "Fighting",
                                    "Type2": "NULL",
                                    "Count": "1"
                                },
                                {
                                    "Ability": "Guts",
                                    "Generation": "Gen2",
                                    "Type1": "Normal",
                                    "Type2": "NULL",
                                    "Count": "1"
                                },
                                {
                                    "Ability": "Guts",
                                    "Generation": "Gen2",
                                    "Type1": "Rock",
                                    "Type2": "Ground",
                                    "Count": "1"
                                },
                                {
                                    "Ability": "Guts",
                                    "Generation": "Gen3",
                                    "Type1": "Fighting",
                                    "Type2": "NULL",
                                    "Count": "2"
                                },
                                {
                                    "Ability": "Guts",
                                    "Generation": "Gen3",
                                    "Type1": "Normal",
                                    "Type2": "Flying",
                                    "Count": "2"
                                },
                                {
                                    "Ability": "Harvest",
                                    "Generation": "Gen1",
                                    "Type1": "Grass",
                                    "Type2": "Psychic",
                                    "Count": "2"
                                },
                                {
                                    "Ability": "Harvest",
                                    "Generation": "Gen3",
                                    "Type1": "Grass",
                                    "Type2": "Flying",
                                    "Count": "1"
                                },
                                {
                                    "Ability": "Healer",
                                    "Generation": "Gen1",
                                    "Type1": "Normal",
                                    "Type2": "NULL",
                                    "Count": "1"
                                },
                                {
                                    "Ability": "Healer",
                                    "Generation": "Gen2",
                                    "Type1": "Grass",
                                    "Type2": "NULL",
                                    "Count": "1"
                                },
                                {
                                    "Ability": "Healer",
                                    "Generation": "Gen2",
                                    "Type1": "Normal",
                                    "Type2": "NULL",
                                    "Count": "1"
                                },
                                {
                                    "Ability": "Heavy Metal",
                                    "Generation": "Gen3",
                                    "Type1": "Steel",
                                    "Type2": "Rock",
                                    "Count": "3"
                                },
                                {
                                    "Ability": "Honey Gather",
                                    "Generation": "Gen2",
                                    "Type1": "Normal",
                                    "Type2": "NULL",
                                    "Count": "1"
                                },
                                {
                                    "Ability": "Huge Power",
                                    "Generation": "Gen2",
                                    "Type1": "Water",
                                    "Type2": "Fairy",
                                    "Count": "2"
                                },
                                {
                                    "Ability": "Huge Power",
                                    "Generation": "Gen3",
                                    "Type1": "Normal",
                                    "Type2": "Fairy",
                                    "Count": "1"
                                },
                                {
                                    "Ability": "Hustle",
                                    "Generation": "Gen1",
                                    "Type1": "Normal",
                                    "Type2": "NULL",
                                    "Count": "2"
                                },
                                {
                                    "Ability": "Hustle",
                                    "Generation": "Gen1",
                                    "Type1": "Poison",
                                    "Type2": "NULL",
                                    "Count": "4"
                                },
                                {
                                    "Ability": "Hustle",
                                    "Generation": "Gen2",
                                    "Type1": "Fairy",
                                    "Type2": "NULL",
                                    "Count": "1"
                                },
                                {
                                    "Ability": "Hustle",
                                    "Generation": "Gen2",
                                    "Type1": "Fairy",
                                    "Type2": "Flying",
                                    "Count": "1"
                                },
                                {
                                    "Ability": "Hustle",
                                    "Generation": "Gen2",
                                    "Type1": "Ice",
                                    "Type2": "Flying",
                                    "Count": "1"
                                },
                                {
                                    "Ability": "Hustle",
                                    "Generation": "Gen2",
                                    "Type1": "Water",
                                    "Type2": "NULL",
                                    "Count": "1"
                                },
                                {
                                    "Ability": "Hustle",
                                    "Generation": "Gen2",
                                    "Type1": "Water",
                                    "Type2": "Rock",
                                    "Count": "1"
                                },
                                {
                                    "Ability": "Hydration",
                                    "Generation": "Gen1",
                                    "Type1": "Water",
                                    "Type2": "NULL",
                                    "Count": "2"
                                },
                                {
                                    "Ability": "Hydration",
                                    "Generation": "Gen1",
                                    "Type1": "Water",
                                    "Type2": "Ice",
                                    "Count": "2"
                                },
                                {
                                    "Ability": "Hydration",
                                    "Generation": "Gen2",
                                    "Type1": "Ice",
                                    "Type2": "Psychic",
                                    "Count": "1"
                                },
                                {
                                    "Ability": "Hydration",
                                    "Generation": "Gen3",
                                    "Type1": "Water",
                                    "Type2": "NULL",
                                    "Count": "2"
                                },
                                {
                                    "Ability": "Hydration",
                                    "Generation": "Gen3",
                                    "Type1": "Water",
                                    "Type2": "Flying",
                                    "Count": "1"
                                },
                                {
                                    "Ability": "Hydration",
                                    "Generation": "Gen3",
                                    "Type1": "Water",
                                    "Type2": "Ground",
                                    "Count": "2"
                                },
                                {
                                    "Ability": "Hyper Cutter",
                                    "Generation": "Gen1",
                                    "Type1": "Bug",
                                    "Type2": "NULL",
                                    "Count": "1"
                                },
                                {
                                    "Ability": "Hyper Cutter",
                                    "Generation": "Gen1",
                                    "Type1": "Water",
                                    "Type2": "NULL",
                                    "Count": "2"
                                },
                                {
                                    "Ability": "Hyper Cutter",
                                    "Generation": "Gen2",
                                    "Type1": "Ground",
                                    "Type2": "Flying",
                                    "Count": "1"
                                },
                                {
                                    "Ability": "Hyper Cutter",
                                    "Generation": "Gen3",
                                    "Type1": "Ground",
                                    "Type2": "NULL",
                                    "Count": "1"
                                },
                                {
                                    "Ability": "Hyper Cutter",
                                    "Generation": "Gen3",
                                    "Type1": "Steel",
                                    "Type2": "Fairy",
                                    "Count": "1"
                                },
                                {
                                    "Ability": "Hyper Cutter",
                                    "Generation": "Gen3",
                                    "Type1": "Water",
                                    "Type2": "NULL",
                                    "Count": "1"
                                },
                                {
                                    "Ability": "Hyper Cutter",
                                    "Generation": "Gen3",
                                    "Type1": "Water",
                                    "Type2": "Dark",
                                    "Count": "1"
                                },
                                {
                                    "Ability": "Ice Body",
                                    "Generation": "Gen1",
                                    "Type1": "Water",
                                    "Type2": "NULL",
                                    "Count": "1"
                                },
                                {
                                    "Ability": "Ice Body",
                                    "Generation": "Gen1",
                                    "Type1": "Water",
                                    "Type2": "Ice",
                                    "Count": "1"
                                },
                                {
                                    "Ability": "Ice Body",
                                    "Generation": "Gen3",
                                    "Type1": "Ice",
                                    "Type2": "NULL",
                                    "Count": "3"
                                },
                                {
                                    "Ability": "Ice Body",
                                    "Generation": "Gen3",
                                    "Type1": "Ice",
                                    "Type2": "Water",
                                    "Count": "3"
                                },
                                {
                                    "Ability": "Illuminate",
                                    "Generation": "Gen1",
                                    "Type1": "Water",
                                    "Type2": "NULL",
                                    "Count": "1"
                                },
                                {
                                    "Ability": "Illuminate",
                                    "Generation": "Gen1",
                                    "Type1": "Water",
                                    "Type2": "Psychic",
                                    "Count": "1"
                                },
                                {
                                    "Ability": "Illuminate",
                                    "Generation": "Gen2",
                                    "Type1": "Water",
                                    "Type2": "Electric",
                                    "Count": "2"
                                },
                                {
                                    "Ability": "Illuminate",
                                    "Generation": "Gen3",
                                    "Type1": "Bug",
                                    "Type2": "NULL",
                                    "Count": "1"
                                },
                                {
                                    "Ability": "Immunity",
                                    "Generation": "Gen1",
                                    "Type1": "Normal",
                                    "Type2": "NULL",
                                    "Count": "1"
                                },
                                {
                                    "Ability": "Immunity",
                                    "Generation": "Gen2",
                                    "Type1": "Ground",
                                    "Type2": "Flying",
                                    "Count": "1"
                                },
                                {
                                    "Ability": "Immunity",
                                    "Generation": "Gen3",
                                    "Type1": "Normal",
                                    "Type2": "NULL",
                                    "Count": "1"
                                },
                                {
                                    "Ability": "Imposter",
                                    "Generation": "Gen1",
                                    "Type1": "Normal",
                                    "Type2": "NULL",
                                    "Count": "1"
                                },
                                {
                                    "Ability": "Infiltrator",
                                    "Generation": "Gen1",
                                    "Type1": "Poison",
                                    "Type2": "Flying",
                                    "Count": "2"
                                },
                                {
                                    "Ability": "Infiltrator",
                                    "Generation": "Gen2",
                                    "Type1": "Grass",
                                    "Type2": "Flying",
                                    "Count": "3"
                                },
                                {
                                    "Ability": "Infiltrator",
                                    "Generation": "Gen2",
                                    "Type1": "Poison",
                                    "Type2": "Flying",
                                    "Count": "1"
                                },
                                {
                                    "Ability": "Infiltrator",
                                    "Generation": "Gen3",
                                    "Type1": "Bug",
                                    "Type2": "Flying",
                                    "Count": "1"
                                },
                                {
                                    "Ability": "Infiltrator",
                                    "Generation": "Gen3",
                                    "Type1": "Poison",
                                    "Type2": "NULL",
                                    "Count": "1"
                                },
                                {
                                    "Ability": "Inner Focus",
                                    "Generation": "Gen1",
                                    "Type1": "Dragon",
                                    "Type2": "Flying",
                                    "Count": "1"
                                },
                                {
                                    "Ability": "Inner Focus",
                                    "Generation": "Gen1",
                                    "Type1": "Fight",
                                    "Type2": "NULL",
                                    "Count": "1"
                                },
                                {
                                    "Ability": "Inner Focus",
                                    "Generation": "Gen1",
                                    "Type1": "Normal",
                                    "Type2": "NULL",
                                    "Count": "1"
                                },
                                {
                                    "Ability": "Inner Focus",
                                    "Generation": "Gen1",
                                    "Type1": "Normal",
                                    "Type2": "Flying",
                                    "Count": "1"
                                },
                                {
                                    "Ability": "Inner Focus",
                                    "Generation": "Gen1",
                                    "Type1": "Poison",
                                    "Type2": "Flying",
                                    "Count": "2"
                                },
                                {
                                    "Ability": "Inner Focus",
                                    "Generation": "Gen1",
                                    "Type1": "Psychic",
                                    "Type2": "NULL",
                                    "Count": "5"
                                },
                                {
                                    "Ability": "Inner Focus",
                                    "Generation": "Gen2",
                                    "Type1": "Dark",
                                    "Type2": "NULL",
                                    "Count": "1"
                                },
                                {
                                    "Ability": "Inner Focus",
                                    "Generation": "Gen2",
                                    "Type1": "Dark",
                                    "Type2": "Ice",
                                    "Count": "1"
                                },
                                {
                                    "Ability": "Inner Focus",
                                    "Generation": "Gen2",
                                    "Type1": "Electric",
                                    "Type2": "NULL",
                                    "Count": "1"
                                },
                                {
                                    "Ability": "Inner Focus",
                                    "Generation": "Gen2",
                                    "Type1": "Fire",
                                    "Type2": "NULL",
                                    "Count": "1"
                                },
                                {
                                    "Ability": "Inner Focus",
                                    "Generation": "Gen2",
                                    "Type1": "Normal",
                                    "Type2": "Psychic",
                                    "Count": "1"
                                },
                                {
                                    "Ability": "Inner Focus",
                                    "Generation": "Gen2",
                                    "Type1": "Poison",
                                    "Type2": "Flying",
                                    "Count": "1"
                                },
                                {
                                    "Ability": "Inner Focus",
                                    "Generation": "Gen2",
                                    "Type1": "Water",
                                    "Type2": "NULL",
                                    "Count": "1"
                                },
                                {
                                    "Ability": "Inner Focus",
                                    "Generation": "Gen3",
                                    "Type1": "Ice",
                                    "Type2": "NULL",
                                    "Count": "2"
                                },
                                {
                                    "Ability": "Insomnia",
                                    "Generation": "Gen1",
                                    "Type1": "Psychic",
                                    "Type2": "NULL",
                                    "Count": "2"
                                },
                                {
                                    "Ability": "Insomnia",
                                    "Generation": "Gen2",
                                    "Type1": "Bug",
                                    "Type2": "Poison",
                                    "Count": "2"
                                },
                                {
                                    "Ability": "Insomnia",
                                    "Generation": "Gen2",
                                    "Type1": "Dark",
                                    "Type2": "Flying",
                                    "Count": "1"
                                },
                                {
                                    "Ability": "Insomnia",
                                    "Generation": "Gen2",
                                    "Type1": "Ice",
                                    "Type2": "Flying",
                                    "Count": "1"
                                },
                                {
                                    "Ability": "Insomnia",
                                    "Generation": "Gen2",
                                    "Type1": "Normal",
                                    "Type2": "Flying",
                                    "Count": "2"
                                },
                                {
                                    "Ability": "Insomnia",
                                    "Generation": "Gen3",
                                    "Type1": "Ghost",
                                    "Type2": "NULL",
                                    "Count": "2"
                                },
                                {
                                    "Ability": "Intimidate",
                                    "Generation": "Gen1",
                                    "Type1": "Fire",
                                    "Type2": "NULL",
                                    "Count": "2"
                                },
                                {
                                    "Ability": "Intimidate",
                                    "Generation": "Gen1",
                                    "Type1": "Normal",
                                    "Type2": "NULL",
                                    "Count": "1"
                                },
                                {
                                    "Ability": "Intimidate",
                                    "Generation": "Gen1",
                                    "Type1": "Poison",
                                    "Type2": "NULL",
                                    "Count": "2"
                                },
                                {
                                    "Ability": "Intimidate",
                                    "Generation": "Gen1",
                                    "Type1": "Water",
                                    "Type2": "Flying",
                                    "Count": "1"
                                },
                                {
                                    "Ability": "Intimidate",
                                    "Generation": "Gen2",
                                    "Type1": "Fairy",
                                    "Type2": "NULL",
                                    "Count": "2"
                                },
                                {
                                    "Ability": "Intimidate",
                                    "Generation": "Gen2",
                                    "Type1": "Fighting",
                                    "Type2": "NULL",
                                    "Count": "1"
                                },
                                {
                                    "Ability": "Intimidate",
                                    "Generation": "Gen2",
                                    "Type1": "Normal",
                                    "Type2": "NULL",
                                    "Count": "1"
                                },
                                {
                                    "Ability": "Intimidate",
                                    "Generation": "Gen2",
                                    "Type1": "Water",
                                    "Type2": "Poison",
                                    "Count": "1"
                                },
                                {
                                    "Ability": "Intimidate",
                                    "Generation": "Gen3",
                                    "Type1": "Bug",
                                    "Type2": "Flying",
                                    "Count": "1"
                                },
                                {
                                    "Ability": "Intimidate",
                                    "Generation": "Gen3",
                                    "Type1": "Dark",
                                    "Type2": "NULL",
                                    "Count": "1"
                                },
                                {
                                    "Ability": "Intimidate",
                                    "Generation": "Gen3",
                                    "Type1": "Dragon",
                                    "Type2": "Flying",
                                    "Count": "1"
                                },
                                {
                                    "Ability": "Intimidate",
                                    "Generation": "Gen3",
                                    "Type1": "Steel",
                                    "Type2": "Fairy",
                                    "Count": "1"
                                },
                                {
                                    "Ability": "Iron Fist",
                                    "Generation": "Gen1",
                                    "Type1": "Fight",
                                    "Type2": "NULL",
                                    "Count": "1"
                                },
                                {
                                    "Ability": "Iron Fist",
                                    "Generation": "Gen2",
                                    "Type1": "Bug",
                                    "Type2": "Flying",
                                    "Count": "1"
                                },
                                {
                                    "Ability": "Justified",
                                    "Generation": "Gen1",
                                    "Type1": "Fire",
                                    "Type2": "NULL",
                                    "Count": "2"
                                },
                                {
                                    "Ability": "Justified",
                                    "Generation": "Gen3",
                                    "Type1": "Dark",
                                    "Type2": "NULL",
                                    "Count": "1"
                                },
                                {
                                    "Ability": "Keen Eye",
                                    "Generation": "Gen1",
                                    "Type1": "Fight",
                                    "Type2": "NULL",
                                    "Count": "1"
                                },
                                {
                                    "Ability": "Keen Eye",
                                    "Generation": "Gen1",
                                    "Type1": "Normal",
                                    "Type2": "Flying",
                                    "Count": "6"
                                },
                                {
                                    "Ability": "Keen Eye",
                                    "Generation": "Gen2",
                                    "Type1": "Dark",
                                    "Type2": "Ice",
                                    "Count": "1"
                                },
                                {
                                    "Ability": "Keen Eye",
                                    "Generation": "Gen2",
                                    "Type1": "Normal",
                                    "Type2": "NULL",
                                    "Count": "2"
                                },
                                {
                                    "Ability": "Keen Eye",
                                    "Generation": "Gen2",
                                    "Type1": "Normal",
                                    "Type2": "Flying",
                                    "Count": "2"
                                },
                                {
                                    "Ability": "Keen Eye",
                                    "Generation": "Gen2",
                                    "Type1": "Steel",
                                    "Type2": "Flying",
                                    "Count": "1"
                                },
                                {
                                    "Ability": "Keen Eye",
                                    "Generation": "Gen3",
                                    "Type1": "Dark",
                                    "Type2": "Ghost",
                                    "Count": "1"
                                },
                                {
                                    "Ability": "Keen Eye",
                                    "Generation": "Gen3",
                                    "Type1": "Water",
                                    "Type2": "Flying",
                                    "Count": "2"
                                },
                                {
                                    "Ability": "Leaf Guard",
                                    "Generation": "Gen1",
                                    "Type1": "Grass",
                                    "Type2": "NULL",
                                    "Count": "1"
                                },
                                {
                                    "Ability": "Leaf Guard",
                                    "Generation": "Gen2",
                                    "Type1": "Grass",
                                    "Type2": "NULL",
                                    "Count": "3"
                                },
                                {
                                    "Ability": "Leaf Guard",
                                    "Generation": "Gen2",
                                    "Type1": "Grass",
                                    "Type2": "Flying",
                                    "Count": "3"
                                },
                                {
                                    "Ability": "Leaf Guard",
                                    "Generation": "Gen3",
                                    "Type1": "Grass",
                                    "Type2": "Poison",
                                    "Count": "1"
                                },
                                {
                                    "Ability": "Levitate",
                                    "Generation": "Gen1",
                                    "Type1": "Ghost",
                                    "Type2": "Poison",
                                    "Count": "2"
                                },
                                {
                                    "Ability": "Levitate",
                                    "Generation": "Gen1",
                                    "Type1": "Poison",
                                    "Type2": "NULL",
                                    "Count": "2"
                                },
                                {
                                    "Ability": "Levitate",
                                    "Generation": "Gen2",
                                    "Type1": "Ghost",
                                    "Type2": "NULL",
                                    "Count": "1"
                                },
                                {
                                    "Ability": "Levitate",
                                    "Generation": "Gen2",
                                    "Type1": "Psychic",
                                    "Type2": "NULL",
                                    "Count": "1"
                                },
                                {
                                    "Ability": "Levitate",
                                    "Generation": "Gen3",
                                    "Type1": "Dragon",
                                    "Type2": "Psychic",
                                    "Count": "2"
                                },
                                {
                                    "Ability": "Levitate",
                                    "Generation": "Gen3",
                                    "Type1": "Ghost",
                                    "Type2": "NULL",
                                    "Count": "1"
                                },
                                {
                                    "Ability": "Levitate",
                                    "Generation": "Gen3",
                                    "Type1": "Ground",
                                    "Type2": "Dragon",
                                    "Count": "2"
                                },
                                {
                                    "Ability": "Levitate",
                                    "Generation": "Gen3",
                                    "Type1": "Ground",
                                    "Type2": "Psychic",
                                    "Count": "2"
                                },
                                {
                                    "Ability": "Levitate",
                                    "Generation": "Gen3",
                                    "Type1": "Psychic",
                                    "Type2": "NULL",
                                    "Count": "1"
                                },
                                {
                                    "Ability": "Levitate",
                                    "Generation": "Gen3",
                                    "Type1": "Rock",
                                    "Type2": "Psychic",
                                    "Count": "2"
                                },
                                {
                                    "Ability": "Light Metal",
                                    "Generation": "Gen2",
                                    "Type1": "Bug",
                                    "Type2": "Steel",
                                    "Count": "1"
                                },
                                {
                                    "Ability": "Light Metal",
                                    "Generation": "Gen3",
                                    "Type1": "Steel",
                                    "Type2": "NULL",
                                    "Count": "1"
                                },
                                {
                                    "Ability": "Light Metal",
                                    "Generation": "Gen3",
                                    "Type1": "Steel",
                                    "Type2": "Psychic",
                                    "Count": "3"
                                },
                                {
                                    "Ability": "Lighting Rod",
                                    "Generation": "Gen1",
                                    "Type1": "Electric",
                                    "Type2": "NULL",
                                    "Count": "2"
                                },
                                {
                                    "Ability": "Lighting Rod",
                                    "Generation": "Gen1",
                                    "Type1": "Water",
                                    "Type2": "NULL",
                                    "Count": "2"
                                },
                                {
                                    "Ability": "Lightning Rod",
                                    "Generation": "Gen1",
                                    "Type1": "Ground",
                                    "Type2": "NULL",
                                    "Count": "2"
                                },
                                {
                                    "Ability": "Lightning Rod",
                                    "Generation": "Gen1",
                                    "Type1": "Ground",
                                    "Type2": "Rock",
                                    "Count": "2"
                                },
                                {
                                    "Ability": "Lightning Rod",
                                    "Generation": "Gen2",
                                    "Type1": "Electric",
                                    "Type2": "NULL",
                                    "Count": "1"
                                },
                                {
                                    "Ability": "Lightning Rod",
                                    "Generation": "Gen3",
                                    "Type1": "Electric",
                                    "Type2": "NULL",
                                    "Count": "3"
                                },
                                {
                                    "Ability": "Limber",
                                    "Generation": "Gen1",
                                    "Type1": "Fight",
                                    "Type2": "NULL",
                                    "Count": "1"
                                },
                                {
                                    "Ability": "Limber",
                                    "Generation": "Gen1",
                                    "Type1": "Normal",
                                    "Type2": "NULL",
                                    "Count": "2"
                                },
                                {
                                    "Ability": "Liquid Ooze",
                                    "Generation": "Gen1",
                                    "Type1": "Water",
                                    "Type2": "Poison",
                                    "Count": "2"
                                },
                                {
                                    "Ability": "Liquid Ooze",
                                    "Generation": "Gen3",
                                    "Type1": "Poison",
                                    "Type2": "NULL",
                                    "Count": "2"
                                },
                                {
                                    "Ability": "Magic Bounce",
                                    "Generation": "Gen2",
                                    "Type1": "Psychic",
                                    "Type2": "NULL",
                                    "Count": "1"
                                },
                                {
                                    "Ability": "Magic Bounce",
                                    "Generation": "Gen2",
                                    "Type1": "Psychic",
                                    "Type2": "Flying",
                                    "Count": "2"
                                },
                                {
                                    "Ability": "Magic Guard",
                                    "Generation": "Gen1",
                                    "Type1": "Fairy",
                                    "Type2": "NULL",
                                    "Count": "2"
                                },
                                {
                                    "Ability": "Magic Guard",
                                    "Generation": "Gen1",
                                    "Type1": "Psychic",
                                    "Type2": "NULL",
                                    "Count": "3"
                                },
                                {
                                    "Ability": "Magic Guard",
                                    "Generation": "Gen2",
                                    "Type1": "Fairy",
                                    "Type2": "NULL",
                                    "Count": "1"
                                },
                                {
                                    "Ability": "Magma Armor",
                                    "Generation": "Gen2",
                                    "Type1": "Fire",
                                    "Type2": "NULL",
                                    "Count": "1"
                                },
                                {
                                    "Ability": "Magma Armor",
                                    "Generation": "Gen2",
                                    "Type1": "Fire",
                                    "Type2": "Rock",
                                    "Count": "1"
                                },
                                {
                                    "Ability": "Magma Armor",
                                    "Generation": "Gen3",
                                    "Type1": "Fire",
                                    "Type2": "Ground",
                                    "Count": "1"
                                },
                                {
                                    "Ability": "Magnet Pull",
                                    "Generation": "Gen1",
                                    "Type1": "Electric",
                                    "Type2": "Steel",
                                    "Count": "2"
                                },
                                {
                                    "Ability": "Magnet Pull",
                                    "Generation": "Gen3",
                                    "Type1": "Rock",
                                    "Type2": "NULL",
                                    "Count": "1"
                                },
                                {
                                    "Ability": "Marvel Scale",
                                    "Generation": "Gen1",
                                    "Type1": "Dragon",
                                    "Type2": "NULL",
                                    "Count": "2"
                                },
                                {
                                    "Ability": "Marvel Scale",
                                    "Generation": "Gen3",
                                    "Type1": "Water",
                                    "Type2": "NULL",
                                    "Count": "1"
                                },
                                {
                                    "Ability": "Minus",
                                    "Generation": "Gen3",
                                    "Type1": "Electric",
                                    "Type2": "NULL",
                                    "Count": "3"
                                },
                                {
                                    "Ability": "Mold Breaker",
                                    "Generation": "Gen1",
                                    "Type1": "Bug",
                                    "Type2": "NULL",
                                    "Count": "1"
                                },
                                {
                                    "Ability": "Moody",
                                    "Generation": "Gen2",
                                    "Type1": "Normal",
                                    "Type2": "NULL",
                                    "Count": "1"
                                },
                                {
                                    "Ability": "Moody",
                                    "Generation": "Gen2",
                                    "Type1": "Water",
                                    "Type2": "NULL",
                                    "Count": "2"
                                },
                                {
                                    "Ability": "Moody",
                                    "Generation": "Gen3",
                                    "Type1": "Ice",
                                    "Type2": "NULL",
                                    "Count": "2"
                                },
                                {
                                    "Ability": "Moxie",
                                    "Generation": "Gen1",
                                    "Type1": "Bug",
                                    "Type2": "NULL",
                                    "Count": "1"
                                },
                                {
                                    "Ability": "Moxie",
                                    "Generation": "Gen1",
                                    "Type1": "Water",
                                    "Type2": "Flying",
                                    "Count": "1"
                                },
                                {
                                    "Ability": "Moxie",
                                    "Generation": "Gen2",
                                    "Type1": "Bug",
                                    "Type2": "Fighting",
                                    "Count": "1"
                                },
                                {
                                    "Ability": "Moxie",
                                    "Generation": "Gen3",
                                    "Type1": "Dark",
                                    "Type2": "NULL",
                                    "Count": "1"
                                },
                                {
                                    "Ability": "Moxie",
                                    "Generation": "Gen3",
                                    "Type1": "Dragon",
                                    "Type2": "Flying",
                                    "Count": "1"
                                },
                                {
                                    "Ability": "Multiscale",
                                    "Generation": "Gen1",
                                    "Type1": "Dragon",
                                    "Type2": "Flying",
                                    "Count": "1"
                                },
                                {
                                    "Ability": "Multiscale",
                                    "Generation": "Gen2",
                                    "Type1": "Psychic",
                                    "Type2": "Flying",
                                    "Count": "1"
                                },
                                {
                                    "Ability": "Natural Cure",
                                    "Generation": "Gen1",
                                    "Type1": "Normal",
                                    "Type2": "NULL",
                                    "Count": "1"
                                },
                                {
                                    "Ability": "Natural Cure",
                                    "Generation": "Gen1",
                                    "Type1": "Water",
                                    "Type2": "NULL",
                                    "Count": "1"
                                },
                                {
                                    "Ability": "Natural Cure",
                                    "Generation": "Gen1",
                                    "Type1": "Water",
                                    "Type2": "Psychic",
                                    "Count": "1"
                                },
                                {
                                    "Ability": "Natural Cure",
                                    "Generation": "Gen2",
                                    "Type1": "Normal",
                                    "Type2": "NULL",
                                    "Count": "1"
                                },
                                {
                                    "Ability": "Natural Cure",
                                    "Generation": "Gen2",
                                    "Type1": "Psychic",
                                    "Type2": "Grass",
                                    "Count": "1"
                                },
                                {
                                    "Ability": "Natural Cure",
                                    "Generation": "Gen2",
                                    "Type1": "Water",
                                    "Type2": "Rock",
                                    "Count": "1"
                                },
                                {
                                    "Ability": "Natural Cure",
                                    "Generation": "Gen3",
                                    "Type1": "Dragon",
                                    "Type2": "Flying",
                                    "Count": "1"
                                },
                                {
                                    "Ability": "Natural Cure",
                                    "Generation": "Gen3",
                                    "Type1": "Grass",
                                    "Type2": "Poison",
                                    "Count": "1"
                                },
                                {
                                    "Ability": "Natural Cure",
                                    "Generation": "Gen3",
                                    "Type1": "Normal",
                                    "Type2": "Flying",
                                    "Count": "1"
                                },
                                {
                                    "Ability": "Neutralizing Gas",
                                    "Generation": "Gen1",
                                    "Type1": "Poison",
                                    "Type2": "NULL",
                                    "Count": "2"
                                },
                                {
                                    "Ability": "No Guard",
                                    "Generation": "Gen1",
                                    "Type1": "Fighting",
                                    "Type2": "NULL",
                                    "Count": "3"
                                },
                                {
                                    "Ability": "Normalize",
                                    "Generation": "Gen3",
                                    "Type1": "Normal",
                                    "Type2": "NULL",
                                    "Count": "2"
                                },
                                {
                                    "Ability": "Oblivious",
                                    "Generation": "Gen1",
                                    "Type1": "Ice",
                                    "Type2": "Psychic",
                                    "Count": "1"
                                },
                                {
                                    "Ability": "Oblivious",
                                    "Generation": "Gen1",
                                    "Type1": "Normal",
                                    "Type2": "NULL",
                                    "Count": "1"
                                },
                                {
                                    "Ability": "Oblivious",
                                    "Generation": "Gen1",
                                    "Type1": "Water",
                                    "Type2": "Psychic",
                                    "Count": "2"
                                },
                                {
                                    "Ability": "Oblivious",
                                    "Generation": "Gen2",
                                    "Type1": "Ice",
                                    "Type2": "Ground",
                                    "Count": "2"
                                },
                                {
                                    "Ability": "Oblivious",
                                    "Generation": "Gen2",
                                    "Type1": "Ice",
                                    "Type2": "Psychic",
                                    "Count": "1"
                                },
                                {
                                    "Ability": "Oblivious",
                                    "Generation": "Gen2",
                                    "Type1": "Water",
                                    "Type2": "Psychic",
                                    "Count": "1"
                                },
                                {
                                    "Ability": "Oblivious",
                                    "Generation": "Gen3",
                                    "Type1": "Bug",
                                    "Type2": "NULL",
                                    "Count": "1"
                                },
                                {
                                    "Ability": "Oblivious",
                                    "Generation": "Gen3",
                                    "Type1": "Fire",
                                    "Type2": "Ground",
                                    "Count": "1"
                                },
                                {
                                    "Ability": "Oblivious",
                                    "Generation": "Gen3",
                                    "Type1": "Ice",
                                    "Type2": "Water",
                                    "Count": "3"
                                },
                                {
                                    "Ability": "Oblivious",
                                    "Generation": "Gen3",
                                    "Type1": "Water",
                                    "Type2": "NULL",
                                    "Count": "3"
                                },
                                {
                                    "Ability": "Oblivious",
                                    "Generation": "Gen3",
                                    "Type1": "Water",
                                    "Type2": "Ground",
                                    "Count": "2"
                                },
                                {
                                    "Ability": "Overcoat",
                                    "Generation": "Gen1",
                                    "Type1": "Water",
                                    "Type2": "NULL",
                                    "Count": "1"
                                },
                                {
                                    "Ability": "Overcoat",
                                    "Generation": "Gen1",
                                    "Type1": "Water",
                                    "Type2": "Ice",
                                    "Count": "1"
                                },
                                {
                                    "Ability": "Overcoat",
                                    "Generation": "Gen2",
                                    "Type1": "Bug",
                                    "Type2": "NULL",
                                    "Count": "1"
                                },
                                {
                                    "Ability": "Overcoat",
                                    "Generation": "Gen2",
                                    "Type1": "Bug",
                                    "Type2": "Steel",
                                    "Count": "1"
                                },
                                {
                                    "Ability": "Overcoat",
                                    "Generation": "Gen3",
                                    "Type1": "Dragon",
                                    "Type2": "NULL",
                                    "Count": "1"
                                },
                                {
                                    "Ability": "Overgrow",
                                    "Generation": "Gen1",
                                    "Type1": "Grass",
                                    "Type2": "Poison",
                                    "Count": "3"
                                },
                                {
                                    "Ability": "Overgrow",
                                    "Generation": "Gen2",
                                    "Type1": "Grass",
                                    "Type2": "NULL",
                                    "Count": "3"
                                },
                                {
                                    "Ability": "Overgrow",
                                    "Generation": "Gen3",
                                    "Type1": "Grass",
                                    "Type2": "NULL",
                                    "Count": "3"
                                },
                                {
                                    "Ability": "Own Tempo",
                                    "Generation": "Gen1",
                                    "Type1": "Normal",
                                    "Type2": "NULL",
                                    "Count": "1"
                                },
                                {
                                    "Ability": "Own Tempo",
                                    "Generation": "Gen1",
                                    "Type1": "Water",
                                    "Type2": "Psychic",
                                    "Count": "2"
                                },
                                {
                                    "Ability": "Own Tempo",
                                    "Generation": "Gen2",
                                    "Type1": "Normal",
                                    "Type2": "NULL",
                                    "Count": "1"
                                },
                                {
                                    "Ability": "Own Tempo",
                                    "Generation": "Gen2",
                                    "Type1": "Water",
                                    "Type2": "Psychic",
                                    "Count": "1"
                                },
                                {
                                    "Ability": "Own Tempo",
                                    "Generation": "Gen3",
                                    "Type1": "Fire",
                                    "Type2": "Ground",
                                    "Count": "1"
                                },
                                {
                                    "Ability": "Own Tempo",
                                    "Generation": "Gen3",
                                    "Type1": "Normal",
                                    "Type2": "NULL",
                                    "Count": "1"
                                },
                                {
                                    "Ability": "Own Tempo",
                                    "Generation": "Gen3",
                                    "Type1": "Psychic",
                                    "Type2": "NULL",
                                    "Count": "2"
                                },
                                {
                                    "Ability": "Own Tempo",
                                    "Generation": "Gen3",
                                    "Type1": "Water",
                                    "Type2": "Grass",
                                    "Count": "3"
                                },
                                {
                                    "Ability": "Pickpocket",
                                    "Generation": "Gen2",
                                    "Type1": "Dark",
                                    "Type2": "Ice",
                                    "Count": "1"
                                },
                                {
                                    "Ability": "Pickpocket",
                                    "Generation": "Gen3",
                                    "Type1": "Grass",
                                    "Type2": "NULL",
                                    "Count": "1"
                                },
                                {
                                    "Ability": "Pickpocket",
                                    "Generation": "Gen3",
                                    "Type1": "Grass",
                                    "Type2": "Dark",
                                    "Count": "2"
                                },
                                {
                                    "Ability": "Pickup",
                                    "Generation": "Gen1",
                                    "Type1": "Normal",
                                    "Type2": "NULL",
                                    "Count": "1"
                                },
                                {
                                    "Ability": "Pickup",
                                    "Generation": "Gen2",
                                    "Type1": "Ground",
                                    "Type2": "NULL",
                                    "Count": "1"
                                },
                                {
                                    "Ability": "Pickup",
                                    "Generation": "Gen2",
                                    "Type1": "Normal",
                                    "Type2": "NULL",
                                    "Count": "2"
                                },
                                {
                                    "Ability": "Pickup",
                                    "Generation": "Gen3",
                                    "Type1": "Normal",
                                    "Type2": "NULL",
                                    "Count": "2"
                                },
                                {
                                    "Ability": "Plus",
                                    "Generation": "Gen2",
                                    "Type1": "Electric",
                                    "Type2": "NULL",
                                    "Count": "3"
                                },
                                {
                                    "Ability": "Plus",
                                    "Generation": "Gen3",
                                    "Type1": "Electric",
                                    "Type2": "NULL",
                                    "Count": "1"
                                },
                                {
                                    "Ability": "Poison Heal",
                                    "Generation": "Gen3",
                                    "Type1": "Grass",
                                    "Type2": "NULL",
                                    "Count": "1"
                                },
                                {
                                    "Ability": "Poison Heal",
                                    "Generation": "Gen3",
                                    "Type1": "Grass",
                                    "Type2": "Fighting",
                                    "Count": "1"
                                },
                                {
                                    "Ability": "Poison Point",
                                    "Generation": "Gen1",
                                    "Type1": "Poison",
                                    "Type2": "NULL",
                                    "Count": "4"
                                },
                                {
                                    "Ability": "Poison Point",
                                    "Generation": "Gen1",
                                    "Type1": "Poison",
                                    "Type2": "Ground",
                                    "Count": "1"
                                },
                                {
                                    "Ability": "Poison Point",
                                    "Generation": "Gen1",
                                    "Type1": "Water",
                                    "Type2": "NULL",
                                    "Count": "1"
                                },
                                {
                                    "Ability": "Poison Point",
                                    "Generation": "Gen2",
                                    "Type1": "Water",
                                    "Type2": "Poison",
                                    "Count": "1"
                                },
                                {
                                    "Ability": "Poison Point",
                                    "Generation": "Gen3",
                                    "Type1": "Grass",
                                    "Type2": "Poison",
                                    "Count": "1"
                                },
                                {
                                    "Ability": "Poison Touch",
                                    "Generation": "Gen1",
                                    "Type1": "Poison",
                                    "Type2": "NULL",
                                    "Count": "2"
                                },
                                {
                                    "Ability": "Prankster",
                                    "Generation": "Gen2",
                                    "Type1": "Dark",
                                    "Type2": "Flying",
                                    "Count": "1"
                                },
                                {
                                    "Ability": "Prankster",
                                    "Generation": "Gen3",
                                    "Type1": "Bug",
                                    "Type2": "NULL",
                                    "Count": "2"
                                },
                                {
                                    "Ability": "Prankster",
                                    "Generation": "Gen3",
                                    "Type1": "Dark",
                                    "Type2": "Ghost",
                                    "Count": "1"
                                },
                                {
                                    "Ability": "Pressure",
                                    "Generation": "Gen1",
                                    "Type1": "Electric",
                                    "Type2": "Flying",
                                    "Count": "1"
                                },
                                {
                                    "Ability": "Pressure",
                                    "Generation": "Gen1",
                                    "Type1": "Fire",
                                    "Type2": "Flying",
                                    "Count": "1"
                                },
                                {
                                    "Ability": "Pressure",
                                    "Generation": "Gen1",
                                    "Type1": "Ice",
                                    "Type2": "Flying",
                                    "Count": "1"
                                },
                                {
                                    "Ability": "Pressure",
                                    "Generation": "Gen1",
                                    "Type1": "Psychic",
                                    "Type2": "NULL",
                                    "Count": "1"
                                },
                                {
                                    "Ability": "Pressure",
                                    "Generation": "Gen1",
                                    "Type1": "Rock",
                                    "Type2": "Flying",
                                    "Count": "1"
                                },
                                {
                                    "Ability": "Pressure",
                                    "Generation": "Gen2",
                                    "Type1": "Electric",
                                    "Type2": "NULL",
                                    "Count": "1"
                                },
                                {
                                    "Ability": "Pressure",
                                    "Generation": "Gen2",
                                    "Type1": "Fire",
                                    "Type2": "NULL",
                                    "Count": "1"
                                },
                                {
                                    "Ability": "Pressure",
                                    "Generation": "Gen2",
                                    "Type1": "Fire",
                                    "Type2": "Flying",
                                    "Count": "1"
                                },
                                {
                                    "Ability": "Pressure",
                                    "Generation": "Gen2",
                                    "Type1": "Psychic",
                                    "Type2": "Flying",
                                    "Count": "1"
                                },
                                {
                                    "Ability": "Pressure",
                                    "Generation": "Gen2",
                                    "Type1": "Water",
                                    "Type2": "NULL",
                                    "Count": "1"
                                },
                                {
                                    "Ability": "Pressure",
                                    "Generation": "Gen3",
                                    "Type1": "Dark",
                                    "Type2": "NULL",
                                    "Count": "1"
                                },
                                {
                                    "Ability": "Pressure",
                                    "Generation": "Gen3",
                                    "Type1": "Ghost",
                                    "Type2": "NULL",
                                    "Count": "1"
                                },
                                {
                                    "Ability": "Pressure",
                                    "Generation": "Gen3",
                                    "Type1": "Psychic",
                                    "Type2": "NULL",
                                    "Count": "1"
                                },
                                {
                                    "Ability": "Pressure",
                                    "Generation": "Gen3",
                                    "Type1": "Water",
                                    "Type2": "NULL",
                                    "Count": "2"
                                },
                                {
                                    "Ability": "Protean",
                                    "Generation": "Gen3",
                                    "Type1": "Normal",
                                    "Type2": "NULL",
                                    "Count": "1"
                                },
                                {
                                    "Ability": "Pure Power",
                                    "Generation": "Gen3",
                                    "Type1": "Fighting",
                                    "Type2": "Psychic",
                                    "Count": "2"
                                },
                                {
                                    "Ability": "Quick Feet",
                                    "Generation": "Gen1",
                                    "Type1": "Electric",
                                    "Type2": "NULL",
                                    "Count": "1"
                                },
                                {
                                    "Ability": "Quick Feet",
                                    "Generation": "Gen2",
                                    "Type1": "Fairy",
                                    "Type2": "NULL",
                                    "Count": "1"
                                },
                                {
                                    "Ability": "Quick Feet",
                                    "Generation": "Gen2",
                                    "Type1": "Normal",
                                    "Type2": "NULL",
                                    "Count": "2"
                                },
                                {
                                    "Ability": "Quick Feet",
                                    "Generation": "Gen3",
                                    "Type1": "Dark",
                                    "Type2": "NULL",
                                    "Count": "2"
                                },
                                {
                                    "Ability": "Quick Feet",
                                    "Generation": "Gen3",
                                    "Type1": "Grass",
                                    "Type2": "NULL",
                                    "Count": "1"
                                },
                                {
                                    "Ability": "Quick Feet",
                                    "Generation": "Gen3",
                                    "Type1": "Normal",
                                    "Type2": "NULL",
                                    "Count": "2"
                                },
                                {
                                    "Ability": "Rain Dish",
                                    "Generation": "Gen1",
                                    "Type1": "Water",
                                    "Type2": "NULL",
                                    "Count": "3"
                                },
                                {
                                    "Ability": "Rain Dish",
                                    "Generation": "Gen1",
                                    "Type1": "Water",
                                    "Type2": "Poison",
                                    "Count": "2"
                                },
                                {
                                    "Ability": "Rain Dish",
                                    "Generation": "Gen3",
                                    "Type1": "Bug",
                                    "Type2": "Water",
                                    "Count": "1"
                                },
                                {
                                    "Ability": "Rain Dish",
                                    "Generation": "Gen3",
                                    "Type1": "Water",
                                    "Type2": "Flying",
                                    "Count": "2"
                                },
                                {
                                    "Ability": "Rain Dish",
                                    "Generation": "Gen3",
                                    "Type1": "Water",
                                    "Type2": "Grass",
                                    "Count": "3"
                                },
                                {
                                    "Ability": "Rattled",
                                    "Generation": "Gen1",
                                    "Type1": "Water",
                                    "Type2": "NULL",
                                    "Count": "1"
                                },
                                {
                                    "Ability": "Rattled",
                                    "Generation": "Gen2",
                                    "Type1": "Bug",
                                    "Type2": "Flying",
                                    "Count": "1"
                                },
                                {
                                    "Ability": "Rattled",
                                    "Generation": "Gen2",
                                    "Type1": "Fairy",
                                    "Type2": "NULL",
                                    "Count": "2"
                                },
                                {
                                    "Ability": "Rattled",
                                    "Generation": "Gen2",
                                    "Type1": "Normal",
                                    "Type2": "NULL",
                                    "Count": "1"
                                },
                                {
                                    "Ability": "Rattled",
                                    "Generation": "Gen2",
                                    "Type1": "Rock",
                                    "Type2": "NULL",
                                    "Count": "1"
                                },
                                {
                                    "Ability": "Rattled",
                                    "Generation": "Gen3",
                                    "Type1": "Dark",
                                    "Type2": "NULL",
                                    "Count": "1"
                                },
                                {
                                    "Ability": "Rattled",
                                    "Generation": "Gen3",
                                    "Type1": "Normal",
                                    "Type2": "NULL",
                                    "Count": "1"
                                },
                                {
                                    "Ability": "Rattled",
                                    "Generation": "Gen3",
                                    "Type1": "Water",
                                    "Type2": "NULL",
                                    "Count": "1"
                                },
                                {
                                    "Ability": "Reckless",
                                    "Generation": "Gen1",
                                    "Type1": "Fight",
                                    "Type2": "NULL",
                                    "Count": "1"
                                },
                                {
                                    "Ability": "Reckless",
                                    "Generation": "Gen1",
                                    "Type1": "Ground",
                                    "Type2": "Rock",
                                    "Count": "2"
                                },
                                {
                                    "Ability": "Regenerator",
                                    "Generation": "Gen1",
                                    "Type1": "Grass",
                                    "Type2": "NULL",
                                    "Count": "1"
                                },
                                {
                                    "Ability": "Regenerator",
                                    "Generation": "Gen1",
                                    "Type1": "Water",
                                    "Type2": "Psychic",
                                    "Count": "2"
                                },
                                {
                                    "Ability": "Regenerator",
                                    "Generation": "Gen2",
                                    "Type1": "Fire",
                                    "Type2": "Flying",
                                    "Count": "1"
                                },
                                {
                                    "Ability": "Regenerator",
                                    "Generation": "Gen2",
                                    "Type1": "Water",
                                    "Type2": "Psychic",
                                    "Count": "1"
                                },
                                {
                                    "Ability": "Regenerator",
                                    "Generation": "Gen2",
                                    "Type1": "Water",
                                    "Type2": "Rock",
                                    "Count": "1"
                                },
                                {
                                    "Ability": "Rivalry",
                                    "Generation": "Gen1",
                                    "Type1": "Ground",
                                    "Type2": "Poison Point",
                                    "Count": "2"
                                },
                                {
                                    "Ability": "Rivalry",
                                    "Generation": "Gen1",
                                    "Type1": "Poison",
                                    "Type2": "NULL",
                                    "Count": "4"
                                },
                                {
                                    "Ability": "Rivalry",
                                    "Generation": "Gen1",
                                    "Type1": "Poison",
                                    "Type2": "Ground",
                                    "Count": "1"
                                },
                                {
                                    "Ability": "Rivalry",
                                    "Generation": "Gen3",
                                    "Type1": "Bug",
                                    "Type2": "Flying",
                                    "Count": "1"
                                },
                                {
                                    "Ability": "Rock Head",
                                    "Generation": "Gen1",
                                    "Type1": "Ground",
                                    "Type2": "NULL",
                                    "Count": "2"
                                },
                                {
                                    "Ability": "Rock Head",
                                    "Generation": "Gen1",
                                    "Type1": "Ground",
                                    "Type2": "Rock",
                                    "Count": "2"
                                },
                                {
                                    "Ability": "Rock Head",
                                    "Generation": "Gen1",
                                    "Type1": "Rock",
                                    "Type2": "Flying",
                                    "Count": "1"
                                },
                                {
                                    "Ability": "Rock Head",
                                    "Generation": "Gen1",
                                    "Type1": "Rock",
                                    "Type2": "Ground",
                                    "Count": "4"
                                },
                                {
                                    "Ability": "Rock Head",
                                    "Generation": "Gen2",
                                    "Type1": "Rock",
                                    "Type2": "NULL",
                                    "Count": "1"
                                },
                                {
                                    "Ability": "Rock Head",
                                    "Generation": "Gen2",
                                    "Type1": "Steel",
                                    "Type2": "Ground",
                                    "Count": "1"
                                },
                                {
                                    "Ability": "Rock Head",
                                    "Generation": "Gen3",
                                    "Type1": "Dragon",
                                    "Type2": "NULL",
                                    "Count": "2"
                                },
                                {
                                    "Ability": "Rock Head",
                                    "Generation": "Gen3",
                                    "Type1": "Steel",
                                    "Type2": "Rock",
                                    "Count": "3"
                                },
                                {
                                    "Ability": "Rock Head",
                                    "Generation": "Gen3",
                                    "Type1": "Water",
                                    "Type2": "Rock",
                                    "Count": "1"
                                },
                                {
                                    "Ability": "Rough Skin",
                                    "Generation": "Gen3",
                                    "Type1": "Water",
                                    "Type2": "Dark",
                                    "Count": "2"
                                },
                                {
                                    "Ability": "Run Away",
                                    "Generation": "Gen1",
                                    "Type1": "Bug",
                                    "Type2": "NULL",
                                    "Count": "1"
                                },
                                {
                                    "Ability": "Run Away",
                                    "Generation": "Gen1",
                                    "Type1": "Bug",
                                    "Type2": "Poison",
                                    "Count": "2"
                                },
                                {
                                    "Ability": "Run Away",
                                    "Generation": "Gen1",
                                    "Type1": "Fire",
                                    "Type2": "NULL",
                                    "Count": "2"
                                },
                                {
                                    "Ability": "Run Away",
                                    "Generation": "Gen1",
                                    "Type1": "Grass",
                                    "Type2": "Poison",
                                    "Count": "1"
                                },
                                {
                                    "Ability": "Run Away",
                                    "Generation": "Gen1",
                                    "Type1": "Normal",
                                    "Type2": "NULL",
                                    "Count": "3"
                                },
                                {
                                    "Ability": "Run Away",
                                    "Generation": "Gen1",
                                    "Type1": "Normal",
                                    "Type2": "Flying",
                                    "Count": "2"
                                },
                                {
                                    "Ability": "Run Away",
                                    "Generation": "Gen2",
                                    "Type1": "Fairy",
                                    "Type2": "NULL",
                                    "Count": "1"
                                },
                                {
                                    "Ability": "Run Away",
                                    "Generation": "Gen2",
                                    "Type1": "Normal",
                                    "Type2": "NULL",
                                    "Count": "4"
                                },
                                {
                                    "Ability": "Run Away",
                                    "Generation": "Gen3",
                                    "Type1": "Bug",
                                    "Type2": "NULL",
                                    "Count": "1"
                                },
                                {
                                    "Ability": "Run Away",
                                    "Generation": "Gen3",
                                    "Type1": "Bug",
                                    "Type2": "Ground",
                                    "Count": "1"
                                },
                                {
                                    "Ability": "Run Away",
                                    "Generation": "Gen3",
                                    "Type1": "Dark",
                                    "Type2": "NULL",
                                    "Count": "1"
                                },
                                {
                                    "Ability": "Sand Force",
                                    "Generation": "Gen1",
                                    "Type1": "Ground",
                                    "Type2": "NULL",
                                    "Count": "2"
                                },
                                {
                                    "Ability": "Sand Force",
                                    "Generation": "Gen3",
                                    "Type1": "Rock",
                                    "Type2": "NULL",
                                    "Count": "1"
                                },
                                {
                                    "Ability": "Sand Rush",
                                    "Generation": "Gen1",
                                    "Type1": "Ground",
                                    "Type2": "NULL",
                                    "Count": "2"
                                },
                                {
                                    "Ability": "Sand Stream",
                                    "Generation": "Gen2",
                                    "Type1": "Rock",
                                    "Type2": "Dark",
                                    "Count": "1"
                                },
                                {
                                    "Ability": "Sand Veil",
                                    "Generation": "Gen1",
                                    "Type1": "Ground",
                                    "Type2": "NULL",
                                    "Count": "4"
                                },
                                {
                                    "Ability": "Sand Veil",
                                    "Generation": "Gen1",
                                    "Type1": "Rock",
                                    "Type2": "Ground",
                                    "Count": "3"
                                },
                                {
                                    "Ability": "Sand Veil",
                                    "Generation": "Gen2",
                                    "Type1": "Ground",
                                    "Type2": "NULL",
                                    "Count": "2"
                                },
                                {
                                    "Ability": "Sand Veil",
                                    "Generation": "Gen2",
                                    "Type1": "Ground",
                                    "Type2": "Flying",
                                    "Count": "1"
                                },
                                {
                                    "Ability": "Sand Veil",
                                    "Generation": "Gen2",
                                    "Type1": "Rock",
                                    "Type2": "Ground",
                                    "Count": "1"
                                },
                                {
                                    "Ability": "Sand Veil",
                                    "Generation": "Gen3",
                                    "Type1": "Grass",
                                    "Type2": "NULL",
                                    "Count": "1"
                                },
                                {
                                    "Ability": "Sand Veil",
                                    "Generation": "Gen3",
                                    "Type1": "Grass",
                                    "Type2": "Dark",
                                    "Count": "1"
                                },
                                {
                                    "Ability": "Sap Sipper",
                                    "Generation": "Gen2",
                                    "Type1": "Normal",
                                    "Type2": "NULL",
                                    "Count": "2"
                                },
                                {
                                    "Ability": "Sap Sipper",
                                    "Generation": "Gen2",
                                    "Type1": "Normal",
                                    "Type2": "Psychic",
                                    "Count": "1"
                                },
                                {
                                    "Ability": "Sap Sipper",
                                    "Generation": "Gen2",
                                    "Type1": "Water",
                                    "Type2": "Fairy",
                                    "Count": "2"
                                },
                                {
                                    "Ability": "Sap Sipper",
                                    "Generation": "Gen3",
                                    "Type1": "Normal",
                                    "Type2": "Fairy",
                                    "Count": "1"
                                },
                                {
                                    "Ability": "Scrappy",
                                    "Generation": "Gen1",
                                    "Type1": "Normal",
                                    "Type2": "NULL",
                                    "Count": "1"
                                },
                                {
                                    "Ability": "Scrappy",
                                    "Generation": "Gen2",
                                    "Type1": "Normal",
                                    "Type2": "NULL",
                                    "Count": "1"
                                },
                                {
                                    "Ability": "Scrappy",
                                    "Generation": "Gen3",
                                    "Type1": "Normal",
                                    "Type2": "NULL",
                                    "Count": "2"
                                },
                                {
                                    "Ability": "Scrappy",
                                    "Generation": "Gen3",
                                    "Type1": "Normal",
                                    "Type2": "Flying",
                                    "Count": "2"
                                },
                                {
                                    "Ability": "Serene Grace",
                                    "Generation": "Gen1",
                                    "Type1": "Normal",
                                    "Type2": "NULL",
                                    "Count": "1"
                                },
                                {
                                    "Ability": "Serene Grace",
                                    "Generation": "Gen2",
                                    "Type1": "Fairy",
                                    "Type2": "NULL",
                                    "Count": "1"
                                },
                                {
                                    "Ability": "Serene Grace",
                                    "Generation": "Gen2",
                                    "Type1": "Fairy",
                                    "Type2": "Flying",
                                    "Count": "1"
                                },
                                {
                                    "Ability": "Serene Grace",
                                    "Generation": "Gen2",
                                    "Type1": "Normal",
                                    "Type2": "NULL",
                                    "Count": "2"
                                },
                                {
                                    "Ability": "Serene Grace",
                                    "Generation": "Gen3",
                                    "Type1": "Steel",
                                    "Type2": "Psychic",
                                    "Count": "1"
                                },
                                {
                                    "Ability": "Shadow Tag",
                                    "Generation": "Gen2",
                                    "Type1": "Psychic",
                                    "Type2": "NULL",
                                    "Count": "1"
                                },
                                {
                                    "Ability": "Shadow Tag",
                                    "Generation": "Gen3",
                                    "Type1": "Psychic",
                                    "Type2": "NULL",
                                    "Count": "1"
                                },
                                {
                                    "Ability": "Shed Skin",
                                    "Generation": "Gen1",
                                    "Type1": "Bug",
                                    "Type2": "NULL",
                                    "Count": "1"
                                },
                                {
                                    "Ability": "Shed Skin",
                                    "Generation": "Gen1",
                                    "Type1": "Bug",
                                    "Type2": "Poison",
                                    "Count": "1"
                                },
                                {
                                    "Ability": "Shed Skin",
                                    "Generation": "Gen1",
                                    "Type1": "Dragon",
                                    "Type2": "NULL",
                                    "Count": "2"
                                },
                                {
                                    "Ability": "Shed Skin",
                                    "Generation": "Gen1",
                                    "Type1": "Poison",
                                    "Type2": "NULL",
                                    "Count": "2"
                                },
                                {
                                    "Ability": "Shed Skin",
                                    "Generation": "Gen2",
                                    "Type1": "Rock",
                                    "Type2": "Ground",
                                    "Count": "1"
                                },
                                {
                                    "Ability": "Shed Skin",
                                    "Generation": "Gen3",
                                    "Type1": "Bug",
                                    "Type2": "NULL",
                                    "Count": "2"
                                },
                                {
                                    "Ability": "Shed Skin",
                                    "Generation": "Gen3",
                                    "Type1": "Poison",
                                    "Type2": "NULL",
                                    "Count": "1"
                                },
                                {
                                    "Ability": "Sheer Force",
                                    "Generation": "Gen1",
                                    "Type1": "Ground",
                                    "Type2": "Poison Point",
                                    "Count": "1"
                                },
                                {
                                    "Ability": "Sheer Force",
                                    "Generation": "Gen1",
                                    "Type1": "Normal",
                                    "Type2": "NULL",
                                    "Count": "1"
                                },
                                {
                                    "Ability": "Sheer Force",
                                    "Generation": "Gen1",
                                    "Type1": "Poison",
                                    "Type2": "Ground",
                                    "Count": "1"
                                },
                                {
                                    "Ability": "Sheer Force",
                                    "Generation": "Gen1",
                                    "Type1": "Water",
                                    "Type2": "NULL",
                                    "Count": "2"
                                },
                                {
                                    "Ability": "Sheer Force",
                                    "Generation": "Gen2",
                                    "Type1": "Steel",
                                    "Type2": "Ground",
                                    "Count": "1"
                                },
                                {
                                    "Ability": "Sheer Force",
                                    "Generation": "Gen2",
                                    "Type1": "Water",
                                    "Type2": "NULL",
                                    "Count": "3"
                                },
                                {
                                    "Ability": "Sheer Force",
                                    "Generation": "Gen3",
                                    "Type1": "Dragon",
                                    "Type2": "NULL",
                                    "Count": "1"
                                },
                                {
                                    "Ability": "Sheer Force",
                                    "Generation": "Gen3",
                                    "Type1": "Fighting",
                                    "Type2": "NULL",
                                    "Count": "2"
                                },
                                {
                                    "Ability": "Sheer Force",
                                    "Generation": "Gen3",
                                    "Type1": "Ground",
                                    "Type2": "NULL",
                                    "Count": "1"
                                },
                                {
                                    "Ability": "Sheer Force",
                                    "Generation": "Gen3",
                                    "Type1": "Steel",
                                    "Type2": "Fairy",
                                    "Count": "1"
                                },
                                {
                                    "Ability": "Shell Armor",
                                    "Generation": "Gen1",
                                    "Type1": "Rock",
                                    "Type2": "Water",
                                    "Count": "2"
                                },
                                {
                                    "Ability": "Shell Armor",
                                    "Generation": "Gen1",
                                    "Type1": "Water",
                                    "Type2": "NULL",
                                    "Count": "3"
                                },
                                {
                                    "Ability": "Shell Armor",
                                    "Generation": "Gen1",
                                    "Type1": "Water",
                                    "Type2": "Ice",
                                    "Count": "2"
                                },
                                {
                                    "Ability": "Shell Armor",
                                    "Generation": "Gen3",
                                    "Type1": "Fire",
                                    "Type2": "NULL",
                                    "Count": "1"
                                },
                                {
                                    "Ability": "Shell Armor",
                                    "Generation": "Gen3",
                                    "Type1": "Water",
                                    "Type2": "NULL",
                                    "Count": "2"
                                },
                                {
                                    "Ability": "Shell Armor",
                                    "Generation": "Gen3",
                                    "Type1": "Water",
                                    "Type2": "Dark",
                                    "Count": "1"
                                },
                                {
                                    "Ability": "Shield Dust",
                                    "Generation": "Gen1",
                                    "Type1": "Bug",
                                    "Type2": "NULL",
                                    "Count": "1"
                                },
                                {
                                    "Ability": "Shield Dust",
                                    "Generation": "Gen1",
                                    "Type1": "Bug",
                                    "Type2": "Poison",
                                    "Count": "2"
                                },
                                {
                                    "Ability": "Shield Dust",
                                    "Generation": "Gen3",
                                    "Type1": "Bug",
                                    "Type2": "NULL",
                                    "Count": "1"
                                },
                                {
                                    "Ability": "Shield Dust",
                                    "Generation": "Gen3",
                                    "Type1": "Bug",
                                    "Type2": "Poison",
                                    "Count": "1"
                                },
                                {
                                    "Ability": "Simple",
                                    "Generation": "Gen3",
                                    "Type1": "Fire",
                                    "Type2": "Ground",
                                    "Count": "1"
                                },
                                {
                                    "Ability": "Skill Link",
                                    "Generation": "Gen1",
                                    "Type1": "Water",
                                    "Type2": "NULL",
                                    "Count": "1"
                                },
                                {
                                    "Ability": "Skill Link",
                                    "Generation": "Gen1",
                                    "Type1": "Water",
                                    "Type2": "Ice",
                                    "Count": "1"
                                },
                                {
                                    "Ability": "Skill Link",
                                    "Generation": "Gen2",
                                    "Type1": "Normal",
                                    "Type2": "NULL",
                                    "Count": "1"
                                },
                                {
                                    "Ability": "Sniper",
                                    "Generation": "Gen1",
                                    "Type1": "Bug",
                                    "Type2": "Poison",
                                    "Count": "1"
                                },
                                {
                                    "Ability": "Sniper",
                                    "Generation": "Gen1",
                                    "Type1": "Normal",
                                    "Type2": "Flying",
                                    "Count": "2"
                                },
                                {
                                    "Ability": "Sniper",
                                    "Generation": "Gen1",
                                    "Type1": "Water",
                                    "Type2": "NULL",
                                    "Count": "2"
                                },
                                {
                                    "Ability": "Sniper",
                                    "Generation": "Gen2",
                                    "Type1": "Bug",
                                    "Type2": "Poison",
                                    "Count": "2"
                                },
                                {
                                    "Ability": "Sniper",
                                    "Generation": "Gen2",
                                    "Type1": "Water",
                                    "Type2": "NULL",
                                    "Count": "2"
                                },
                                {
                                    "Ability": "Sniper",
                                    "Generation": "Gen2",
                                    "Type1": "Water",
                                    "Type2": "Dragon",
                                    "Count": "1"
                                },
                                {
                                    "Ability": "Snow Cloak",
                                    "Generation": "Gen1",
                                    "Type1": "Ice",
                                    "Type2": "Flying",
                                    "Count": "1"
                                },
                                {
                                    "Ability": "Snow Cloak",
                                    "Generation": "Gen2",
                                    "Type1": "Ice",
                                    "Type2": "Ground",
                                    "Count": "2"
                                },
                                {
                                    "Ability": "Solar Power",
                                    "Generation": "Gen1",
                                    "Type1": "Fire",
                                    "Type2": "NULL",
                                    "Count": "2"
                                },
                                {
                                    "Ability": "Solar Power",
                                    "Generation": "Gen1",
                                    "Type1": "Fire",
                                    "Type2": "Flying",
                                    "Count": "1"
                                },
                                {
                                    "Ability": "Solar Power",
                                    "Generation": "Gen2",
                                    "Type1": "Grass",
                                    "Type2": "NULL",
                                    "Count": "2"
                                },
                                {
                                    "Ability": "Solar Power",
                                    "Generation": "Gen3",
                                    "Type1": "Grass",
                                    "Type2": "Flying",
                                    "Count": "1"
                                },
                                {
                                    "Ability": "Solid Rock",
                                    "Generation": "Gen3",
                                    "Type1": "Fire",
                                    "Type2": "Ground",
                                    "Count": "1"
                                },
                                {
                                    "Ability": "Soundproof",
                                    "Generation": "Gen1",
                                    "Type1": "Electric",
                                    "Type2": "NULL",
                                    "Count": "2"
                                },
                                {
                                    "Ability": "Soundproof",
                                    "Generation": "Gen1",
                                    "Type1": "Psychic",
                                    "Type2": "Fairy",
                                    "Count": "1"
                                },
                                {
                                    "Ability": "Soundproof",
                                    "Generation": "Gen3",
                                    "Type1": "Normal",
                                    "Type2": "NULL",
                                    "Count": "3"
                                },
                                {
                                    "Ability": "Speed Boost",
                                    "Generation": "Gen2",
                                    "Type1": "Bug",
                                    "Type2": "Flying",
                                    "Count": "1"
                                },
                                {
                                    "Ability": "Speed Boost",
                                    "Generation": "Gen3",
                                    "Type1": "Bug",
                                    "Type2": "Flying",
                                    "Count": "1"
                                },
                                {
                                    "Ability": "Speed Boost",
                                    "Generation": "Gen3",
                                    "Type1": "Fire",
                                    "Type2": "NULL",
                                    "Count": "3"
                                },
                                {
                                    "Ability": "Speed Boost",
                                    "Generation": "Gen3",
                                    "Type1": "Water",
                                    "Type2": "Dark",
                                    "Count": "2"
                                },
                                {
                                    "Ability": "Stall",
                                    "Generation": "Gen3",
                                    "Type1": "Dark",
                                    "Type2": "Ghost",
                                    "Count": "1"
                                },
                                {
                                    "Ability": "Static",
                                    "Generation": "Gen1",
                                    "Type1": "Electric",
                                    "Type2": "NULL",
                                    "Count": "5"
                                },
                                {
                                    "Ability": "Static",
                                    "Generation": "Gen1",
                                    "Type1": "Electric",
                                    "Type2": "Flying",
                                    "Count": "1"
                                },
                                {
                                    "Ability": "Static",
                                    "Generation": "Gen2",
                                    "Type1": "Electric",
                                    "Type2": "NULL",
                                    "Count": "5"
                                },
                                {
                                    "Ability": "Static",
                                    "Generation": "Gen3",
                                    "Type1": "Electric",
                                    "Type2": "NULL",
                                    "Count": "2"
                                },
                                {
                                    "Ability": "Steadfast",
                                    "Generation": "Gen1",
                                    "Type1": "Bug",
                                    "Type2": "Flying",
                                    "Count": "1"
                                },
                                {
                                    "Ability": "Steadfast",
                                    "Generation": "Gen1",
                                    "Type1": "Fighting",
                                    "Type2": "NULL",
                                    "Count": "3"
                                },
                                {
                                    "Ability": "Steadfast",
                                    "Generation": "Gen2",
                                    "Type1": "Fighting",
                                    "Type2": "NULL",
                                    "Count": "2"
                                },
                                {
                                    "Ability": "Stench",
                                    "Generation": "Gen1",
                                    "Type1": "Grass",
                                    "Type2": "Poison",
                                    "Count": "1"
                                },
                                {
                                    "Ability": "Stench",
                                    "Generation": "Gen1",
                                    "Type1": "Poison",
                                    "Type2": "NULL",
                                    "Count": "4"
                                },
                                {
                                    "Ability": "Sticky Hold",
                                    "Generation": "Gen1",
                                    "Type1": "Poison",
                                    "Type2": "NULL",
                                    "Count": "2"
                                },
                                {
                                    "Ability": "Sticky Hold",
                                    "Generation": "Gen3",
                                    "Type1": "Poison",
                                    "Type2": "NULL",
                                    "Count": "2"
                                },
                                {
                                    "Ability": "Storm Drain",
                                    "Generation": "Gen3",
                                    "Type1": "Rock",
                                    "Type2": "Grass",
                                    "Count": "2"
                                },
                                {
                                    "Ability": "Sturdy",
                                    "Generation": "Gen1",
                                    "Type1": "Electric",
                                    "Type2": "Steel",
                                    "Count": "2"
                                },
                                {
                                    "Ability": "Sturdy",
                                    "Generation": "Gen1",
                                    "Type1": "Rock",
                                    "Type2": "Ground",
                                    "Count": "4"
                                },
                                {
                                    "Ability": "Sturdy",
                                    "Generation": "Gen2",
                                    "Type1": "Bug",
                                    "Type2": "NULL",
                                    "Count": "1"
                                },
                                {
                                    "Ability": "Sturdy",
                                    "Generation": "Gen2",
                                    "Type1": "Bug",
                                    "Type2": "Rock",
                                    "Count": "1"
                                },
                                {
                                    "Ability": "Sturdy",
                                    "Generation": "Gen2",
                                    "Type1": "Bug",
                                    "Type2": "Steel",
                                    "Count": "1"
                                },
                                {
                                    "Ability": "Sturdy",
                                    "Generation": "Gen2",
                                    "Type1": "Ground",
                                    "Type2": "NULL",
                                    "Count": "1"
                                },
                                {
                                    "Ability": "Sturdy",
                                    "Generation": "Gen2",
                                    "Type1": "Rock",
                                    "Type2": "NULL",
                                    "Count": "1"
                                },
                                {
                                    "Ability": "Sturdy",
                                    "Generation": "Gen2",
                                    "Type1": "Steel",
                                    "Type2": "Flying",
                                    "Count": "1"
                                },
                                {
                                    "Ability": "Sturdy",
                                    "Generation": "Gen2",
                                    "Type1": "Steel",
                                    "Type2": "Ground",
                                    "Count": "1"
                                },
                                {
                                    "Ability": "Sturdy",
                                    "Generation": "Gen3",
                                    "Type1": "Rock",
                                    "Type2": "NULL",
                                    "Count": "2"
                                },
                                {
                                    "Ability": "Sturdy",
                                    "Generation": "Gen3",
                                    "Type1": "Steel",
                                    "Type2": "Rock",
                                    "Count": "3"
                                },
                                {
                                    "Ability": "Sturdy",
                                    "Generation": "Gen3",
                                    "Type1": "Water",
                                    "Type2": "Rock",
                                    "Count": "1"
                                },
                                {
                                    "Ability": "Suction Cups",
                                    "Generation": "Gen2",
                                    "Type1": "Water",
                                    "Type2": "NULL",
                                    "Count": "1"
                                },
                                {
                                    "Ability": "Suction Cups",
                                    "Generation": "Gen3",
                                    "Type1": "Rock",
                                    "Type2": "Grass",
                                    "Count": "2"
                                },
                                {
                                    "Ability": "Super Luck",
                                    "Generation": "Gen2",
                                    "Type1": "Dark",
                                    "Type2": "Flying",
                                    "Count": "1"
                                },
                                {
                                    "Ability": "Super Luck",
                                    "Generation": "Gen2",
                                    "Type1": "Fairy",
                                    "Type2": "NULL",
                                    "Count": "1"
                                },
                                {
                                    "Ability": "Super Luck",
                                    "Generation": "Gen2",
                                    "Type1": "Fairy",
                                    "Type2": "Flying",
                                    "Count": "1"
                                },
                                {
                                    "Ability": "Super Luck",
                                    "Generation": "Gen3",
                                    "Type1": "Dark",
                                    "Type2": "NULL",
                                    "Count": "1"
                                },
                                {
                                    "Ability": "Swarm",
                                    "Generation": "Gen1",
                                    "Type1": "Bug",
                                    "Type2": "Flying",
                                    "Count": "1"
                                },
                                {
                                    "Ability": "Swarm",
                                    "Generation": "Gen1",
                                    "Type1": "Bug",
                                    "Type2": "Poison",
                                    "Count": "1"
                                },
                                {
                                    "Ability": "Swarm",
                                    "Generation": "Gen2",
                                    "Type1": "Bug",
                                    "Type2": "Fighting",
                                    "Count": "1"
                                },
                                {
                                    "Ability": "Swarm",
                                    "Generation": "Gen2",
                                    "Type1": "Bug",
                                    "Type2": "Flying",
                                    "Count": "2"
                                },
                                {
                                    "Ability": "Swarm",
                                    "Generation": "Gen2",
                                    "Type1": "Bug",
                                    "Type2": "Poison",
                                    "Count": "2"
                                },
                                {
                                    "Ability": "Swarm",
                                    "Generation": "Gen2",
                                    "Type1": "Bug",
                                    "Type2": "Steel",
                                    "Count": "1"
                                },
                                {
                                    "Ability": "Swarm",
                                    "Generation": "Gen3",
                                    "Type1": "Bug",
                                    "Type2": "NULL",
                                    "Count": "1"
                                },
                                {
                                    "Ability": "Swarm",
                                    "Generation": "Gen3",
                                    "Type1": "Bug",
                                    "Type2": "Flying",
                                    "Count": "1"
                                },
                                {
                                    "Ability": "Swift Swim",
                                    "Generation": "Gen1",
                                    "Type1": "Rock",
                                    "Type2": "Water",
                                    "Count": "4"
                                },
                                {
                                    "Ability": "Swift Swim",
                                    "Generation": "Gen1",
                                    "Type1": "Water",
                                    "Type2": "NULL",
                                    "Count": "8"
                                },
                                {
                                    "Ability": "Swift Swim",
                                    "Generation": "Gen1",
                                    "Type1": "Water",
                                    "Type2": "Fighting",
                                    "Count": "1"
                                },
                                {
                                    "Ability": "Swift Swim",
                                    "Generation": "Gen2",
                                    "Type1": "Water",
                                    "Type2": "Dragon",
                                    "Count": "1"
                                },
                                {
                                    "Ability": "Swift Swim",
                                    "Generation": "Gen2",
                                    "Type1": "Water",
                                    "Type2": "Flying",
                                    "Count": "1"
                                },
                                {
                                    "Ability": "Swift Swim",
                                    "Generation": "Gen2",
                                    "Type1": "Water",
                                    "Type2": "Poison",
                                    "Count": "1"
                                },
                                {
                                    "Ability": "Swift Swim",
                                    "Generation": "Gen3",
                                    "Type1": "Bug",
                                    "Type2": "Water",
                                    "Count": "1"
                                },
                                {
                                    "Ability": "Swift Swim",
                                    "Generation": "Gen3",
                                    "Type1": "Rock",
                                    "Type2": "Bug",
                                    "Count": "2"
                                },
                                {
                                    "Ability": "Swift Swim",
                                    "Generation": "Gen3",
                                    "Type1": "Water",
                                    "Type2": "NULL",
                                    "Count": "4"
                                },
                                {
                                    "Ability": "Swift Swim",
                                    "Generation": "Gen3",
                                    "Type1": "Water",
                                    "Type2": "Grass",
                                    "Count": "3"
                                },
                                {
                                    "Ability": "Swift Swim",
                                    "Generation": "Gen3",
                                    "Type1": "Water",
                                    "Type2": "Rock",
                                    "Count": "1"
                                },
                                {
                                    "Ability": "Synchronize",
                                    "Generation": "Gen1",
                                    "Type1": "Psychic",
                                    "Type2": "NULL",
                                    "Count": "4"
                                },
                                {
                                    "Ability": "Synchronize",
                                    "Generation": "Gen2",
                                    "Type1": "Dark",
                                    "Type2": "NULL",
                                    "Count": "1"
                                },
                                {
                                    "Ability": "Synchronize",
                                    "Generation": "Gen2",
                                    "Type1": "Psychic",
                                    "Type2": "NULL",
                                    "Count": "1"
                                },
                                {
                                    "Ability": "Synchronize",
                                    "Generation": "Gen2",
                                    "Type1": "Psychic",
                                    "Type2": "Flying",
                                    "Count": "2"
                                },
                                {
                                    "Ability": "Synchronize",
                                    "Generation": "Gen3",
                                    "Type1": "Psychic",
                                    "Type2": "Fairy",
                                    "Count": "3"
                                },
                                {
                                    "Ability": "Tangled Feet",
                                    "Generation": "Gen1",
                                    "Type1": "Normal",
                                    "Type2": "Flying",
                                    "Count": "5"
                                },
                                {
                                    "Ability": "Tangled Feet",
                                    "Generation": "Gen3",
                                    "Type1": "Normal",
                                    "Type2": "NULL",
                                    "Count": "1"
                                },
                                {
                                    "Ability": "Technician",
                                    "Generation": "Gen1",
                                    "Type1": "Bug",
                                    "Type2": "Flying",
                                    "Count": "1"
                                },
                                {
                                    "Ability": "Technician",
                                    "Generation": "Gen1",
                                    "Type1": "Normal",
                                    "Type2": "NULL",
                                    "Count": "2"
                                },
                                {
                                    "Ability": "Technician",
                                    "Generation": "Gen1",
                                    "Type1": "Psychic",
                                    "Type2": "Fairy",
                                    "Count": "1"
                                },
                                {
                                    "Ability": "Technician",
                                    "Generation": "Gen2",
                                    "Type1": "Bug",
                                    "Type2": "Steel",
                                    "Count": "1"
                                },
                                {
                                    "Ability": "Technician",
                                    "Generation": "Gen2",
                                    "Type1": "Fighting",
                                    "Type2": "NULL",
                                    "Count": "1"
                                },
                                {
                                    "Ability": "Technician",
                                    "Generation": "Gen2",
                                    "Type1": "Normal",
                                    "Type2": "NULL",
                                    "Count": "1"
                                },
                                {
                                    "Ability": "Technician",
                                    "Generation": "Gen3",
                                    "Type1": "Grass",
                                    "Type2": "Fighting",
                                    "Count": "1"
                                },
                                {
                                    "Ability": "Telepathy",
                                    "Generation": "Gen2",
                                    "Type1": "Psychic",
                                    "Type2": "NULL",
                                    "Count": "1"
                                },
                                {
                                    "Ability": "Telepathy",
                                    "Generation": "Gen3",
                                    "Type1": "Fighting",
                                    "Type2": "Psychic",
                                    "Count": "2"
                                },
                                {
                                    "Ability": "Telepathy",
                                    "Generation": "Gen3",
                                    "Type1": "Psychic",
                                    "Type2": "NULL",
                                    "Count": "1"
                                },
                                {
                                    "Ability": "Telepathy",
                                    "Generation": "Gen3",
                                    "Type1": "Psychic",
                                    "Type2": "Fairy",
                                    "Count": "3"
                                },
                                {
                                    "Ability": "Thick Fat",
                                    "Generation": "Gen1",
                                    "Type1": "Normal",
                                    "Type2": "NULL",
                                    "Count": "1"
                                },
                                {
                                    "Ability": "Thick Fat",
                                    "Generation": "Gen1",
                                    "Type1": "Water",
                                    "Type2": "NULL",
                                    "Count": "1"
                                },
                                {
                                    "Ability": "Thick Fat",
                                    "Generation": "Gen1",
                                    "Type1": "Water",
                                    "Type2": "Ice",
                                    "Count": "1"
                                },
                                {
                                    "Ability": "Thick Fat",
                                    "Generation": "Gen2",
                                    "Type1": "Ice",
                                    "Type2": "Ground",
                                    "Count": "2"
                                },
                                {
                                    "Ability": "Thick Fat",
                                    "Generation": "Gen2",
                                    "Type1": "Normal",
                                    "Type2": "NULL",
                                    "Count": "1"
                                },
                                {
                                    "Ability": "Thick Fat",
                                    "Generation": "Gen2",
                                    "Type1": "Water",
                                    "Type2": "Fairy",
                                    "Count": "2"
                                },
                                {
                                    "Ability": "Thick Fat",
                                    "Generation": "Gen3",
                                    "Type1": "Fighting",
                                    "Type2": "NULL",
                                    "Count": "2"
                                },
                                {
                                    "Ability": "Thick Fat",
                                    "Generation": "Gen3",
                                    "Type1": "Ice",
                                    "Type2": "Water",
                                    "Count": "3"
                                },
                                {
                                    "Ability": "Thick Fat",
                                    "Generation": "Gen3",
                                    "Type1": "Normal",
                                    "Type2": "Fairy",
                                    "Count": "1"
                                },
                                {
                                    "Ability": "Thick Fat",
                                    "Generation": "Gen3",
                                    "Type1": "Psychic",
                                    "Type2": "NULL",
                                    "Count": "2"
                                },
                                {
                                    "Ability": "Tinted Lens",
                                    "Generation": "Gen1",
                                    "Type1": "Bug",
                                    "Type2": "Flying",
                                    "Count": "1"
                                },
                                {
                                    "Ability": "Tinted Lens",
                                    "Generation": "Gen1",
                                    "Type1": "Bug",
                                    "Type2": "Poison",
                                    "Count": "2"
                                },
                                {
                                    "Ability": "Tinted Lens",
                                    "Generation": "Gen2",
                                    "Type1": "Normal",
                                    "Type2": "Flying",
                                    "Count": "2"
                                },
                                {
                                    "Ability": "Tinted Lens",
                                    "Generation": "Gen3",
                                    "Type1": "Bug",
                                    "Type2": "NULL",
                                    "Count": "1"
                                },
                                {
                                    "Ability": "Torrent",
                                    "Generation": "Gen1",
                                    "Type1": "Water",
                                    "Type2": "NULL",
                                    "Count": "3"
                                },
                                {
                                    "Ability": "Torrent",
                                    "Generation": "Gen2",
                                    "Type1": "Water",
                                    "Type2": "NULL",
                                    "Count": "3"
                                },
                                {
                                    "Ability": "Torrent",
                                    "Generation": "Gen3",
                                    "Type1": "Water",
                                    "Type2": "NULL",
                                    "Count": "3"
                                },
                                {
                                    "Ability": "Toxic Boost",
                                    "Generation": "Gen3",
                                    "Type1": "Normal",
                                    "Type2": "NULL",
                                    "Count": "1"
                                },
                                {
                                    "Ability": "Trace",
                                    "Generation": "Gen1",
                                    "Type1": "Normal",
                                    "Type2": "NULL",
                                    "Count": "1"
                                },
                                {
                                    "Ability": "Trace",
                                    "Generation": "Gen2",
                                    "Type1": "Normal",
                                    "Type2": "NULL",
                                    "Count": "1"
                                },
                                {
                                    "Ability": "Trace",
                                    "Generation": "Gen3",
                                    "Type1": "Psychic",
                                    "Type2": "Fairy",
                                    "Count": "3"
                                },
                                {
                                    "Ability": "Truant",
                                    "Generation": "Gen3",
                                    "Type1": "Normal",
                                    "Type2": "NULL",
                                    "Count": "2"
                                },
                                {
                                    "Ability": "Unaware",
                                    "Generation": "Gen2",
                                    "Type1": "Water",
                                    "Type2": "Ground",
                                    "Count": "2"
                                },
                                {
                                    "Ability": "Unburden",
                                    "Generation": "Gen1",
                                    "Type1": "Fight",
                                    "Type2": "NULL",
                                    "Count": "1"
                                },
                                {
                                    "Ability": "Unburden",
                                    "Generation": "Gen3",
                                    "Type1": "Grass",
                                    "Type2": "NULL",
                                    "Count": "3"
                                },
                                {
                                    "Ability": "Unnerve",
                                    "Generation": "Gen1",
                                    "Type1": "Normal",
                                    "Type2": "NULL",
                                    "Count": "2"
                                },
                                {
                                    "Ability": "Unnerve",
                                    "Generation": "Gen1",
                                    "Type1": "Poison",
                                    "Type2": "NULL",
                                    "Count": "2"
                                },
                                {
                                    "Ability": "Unnerve",
                                    "Generation": "Gen1",
                                    "Type1": "Psychic",
                                    "Type2": "NULL",
                                    "Count": "1"
                                },
                                {
                                    "Ability": "Unnerve",
                                    "Generation": "Gen1",
                                    "Type1": "Rock",
                                    "Type2": "Flying",
                                    "Count": "1"
                                },
                                {
                                    "Ability": "Unnerve",
                                    "Generation": "Gen2",
                                    "Type1": "Dark",
                                    "Type2": "Fire",
                                    "Count": "2"
                                },
                                {
                                    "Ability": "Unnerve",
                                    "Generation": "Gen2",
                                    "Type1": "Normal",
                                    "Type2": "NULL",
                                    "Count": "1"
                                },
                                {
                                    "Ability": "Unnerve",
                                    "Generation": "Gen2",
                                    "Type1": "Rock",
                                    "Type2": "Dark",
                                    "Count": "1"
                                },
                                {
                                    "Ability": "Unnerve",
                                    "Generation": "Gen3",
                                    "Type1": "Bug",
                                    "Type2": "Flying",
                                    "Count": "1"
                                },
                                {
                                    "Ability": "Vital Spirit",
                                    "Generation": "Gen1",
                                    "Type1": "Electric",
                                    "Type2": "NULL",
                                    "Count": "1"
                                },
                                {
                                    "Ability": "Vital Spirit",
                                    "Generation": "Gen1",
                                    "Type1": "Fighting",
                                    "Type2": "NULL",
                                    "Count": "2"
                                },
                                {
                                    "Ability": "Vital Spirit",
                                    "Generation": "Gen1",
                                    "Type1": "Fire",
                                    "Type2": "NULL",
                                    "Count": "1"
                                },
                                {
                                    "Ability": "Vital Spirit",
                                    "Generation": "Gen2",
                                    "Type1": "Electric",
                                    "Type2": "NULL",
                                    "Count": "1"
                                },
                                {
                                    "Ability": "Vital Spirit",
                                    "Generation": "Gen2",
                                    "Type1": "Fighting",
                                    "Type2": "NULL",
                                    "Count": "1"
                                },
                                {
                                    "Ability": "Vital Spirit",
                                    "Generation": "Gen2",
                                    "Type1": "Fire",
                                    "Type2": "NULL",
                                    "Count": "1"
                                },
                                {
                                    "Ability": "Vital Spirit",
                                    "Generation": "Gen2",
                                    "Type1": "Ice",
                                    "Type2": "Flying",
                                    "Count": "1"
                                },
                                {
                                    "Ability": "Vital Spirit",
                                    "Generation": "Gen3",
                                    "Type1": "Normal",
                                    "Type2": "NULL",
                                    "Count": "1"
                                },
                                {
                                    "Ability": "Volt Absorb",
                                    "Generation": "Gen1",
                                    "Type1": "Electric",
                                    "Type2": "NULL",
                                    "Count": "1"
                                },
                                {
                                    "Ability": "Volt Absorb",
                                    "Generation": "Gen2",
                                    "Type1": "Water",
                                    "Type2": "Electric",
                                    "Count": "2"
                                },
                                {
                                    "Ability": "Volt Absorb",
                                    "Generation": "Gen3",
                                    "Type1": "Electric",
                                    "Type2": "NULL",
                                    "Count": "1"
                                },
                                {
                                    "Ability": "Water Absorb",
                                    "Generation": "Gen1",
                                    "Type1": "Water",
                                    "Type2": "NULL",
                                    "Count": "3"
                                },
                                {
                                    "Ability": "Water Absorb",
                                    "Generation": "Gen1",
                                    "Type1": "Water",
                                    "Type2": "Fighting",
                                    "Count": "1"
                                },
                                {
                                    "Ability": "Water Absorb",
                                    "Generation": "Gen1",
                                    "Type1": "Water",
                                    "Type2": "Ice",
                                    "Count": "1"
                                },
                                {
                                    "Ability": "Water Absorb",
                                    "Generation": "Gen2",
                                    "Type1": "Water",
                                    "Type2": "NULL",
                                    "Count": "1"
                                },
                                {
                                    "Ability": "Water Absorb",
                                    "Generation": "Gen2",
                                    "Type1": "Water",
                                    "Type2": "Electric",
                                    "Count": "2"
                                },
                                {
                                    "Ability": "Water Absorb",
                                    "Generation": "Gen2",
                                    "Type1": "Water",
                                    "Type2": "Flying",
                                    "Count": "1"
                                },
                                {
                                    "Ability": "Water Absorb",
                                    "Generation": "Gen2",
                                    "Type1": "Water",
                                    "Type2": "Ground",
                                    "Count": "2"
                                },
                                {
                                    "Ability": "Water Absorb",
                                    "Generation": "Gen3",
                                    "Type1": "Grass",
                                    "Type2": "NULL",
                                    "Count": "1"
                                },
                                {
                                    "Ability": "Water Absorb",
                                    "Generation": "Gen3",
                                    "Type1": "Grass",
                                    "Type2": "Dark",
                                    "Count": "1"
                                },
                                {
                                    "Ability": "Water Veil",
                                    "Generation": "Gen1",
                                    "Type1": "Water",
                                    "Type2": "NULL",
                                    "Count": "2"
                                },
                                {
                                    "Ability": "Water Veil",
                                    "Generation": "Gen2",
                                    "Type1": "Water",
                                    "Type2": "Flying",
                                    "Count": "1"
                                },
                                {
                                    "Ability": "Water Veil",
                                    "Generation": "Gen3",
                                    "Type1": "Water",
                                    "Type2": "NULL",
                                    "Count": "3"
                                },
                                {
                                    "Ability": "Weak Amour",
                                    "Generation": "Gen1",
                                    "Type1": "Rock",
                                    "Type2": "Water",
                                    "Count": "4"
                                },
                                {
                                    "Ability": "Weak Armor",
                                    "Generation": "Gen1",
                                    "Type1": "Rock",
                                    "Type2": "Ground",
                                    "Count": "1"
                                },
                                {
                                    "Ability": "Weak Armor",
                                    "Generation": "Gen2",
                                    "Type1": "Fire",
                                    "Type2": "NULL",
                                    "Count": "1"
                                },
                                {
                                    "Ability": "Weak Armor",
                                    "Generation": "Gen2",
                                    "Type1": "Fire",
                                    "Type2": "Rock",
                                    "Count": "1"
                                },
                                {
                                    "Ability": "Weak Armor",
                                    "Generation": "Gen2",
                                    "Type1": "Steel",
                                    "Type2": "Flying",
                                    "Count": "1"
                                },
                                {
                                    "Ability": "White Smoke",
                                    "Generation": "Gen3",
                                    "Type1": "Fire",
                                    "Type2": "NULL",
                                    "Count": "1"
                                },
                                {
                                    "Ability": "Wind Rider",
                                    "Generation": "Gen3",
                                    "Type1": "Grass",
                                    "Type2": "Dark",
                                    "Count": "1"
                                },
                                {
                                    "Ability": "Wonder Guard",
                                    "Generation": "Gen3",
                                    "Type1": "Bug",
                                    "Type2": "Ghost",
                                    "Count": "1"
                                },
                                {
                                    "Ability": "Wonder Skin",
                                    "Generation": "Gen1",
                                    "Type1": "Bug",
                                    "Type2": "Poison",
                                    "Count": "1"
                                },
                                {
                                    "Ability": "Wonder Skin",
                                    "Generation": "Gen3",
                                    "Type1": "Normal",
                                    "Type2": "NULL",
                                    "Count": "2"
                                }
                            ]
                        },
                        "text/html": [
                            "<table>",
                            "<tr><th>Ability</th><th>Generation</th><th>Type1</th><th>Type2</th><th>Count</th></tr>",
                            "<tr><td>Adaptability</td><td>Gen1</td><td>Normal</td><td>NULL</td><td>1</td></tr>",
                            "<tr><td>Adaptability</td><td>Gen3</td><td>Water</td><td>NULL</td><td>2</td></tr>",
                            "<tr><td>Adaptability</td><td>Gen3</td><td>Water</td><td>Dark</td><td>1</td></tr>",
                            "<tr><td>Aftermath</td><td>Gen1</td><td>Electric</td><td>NULL</td><td>2</td></tr>",
                            "<tr><td>Air Lock</td><td>Gen3</td><td>Dragon</td><td>Flying</td><td>1</td></tr>",
                            "<tr><td>Analytic</td><td>Gen1</td><td>Electric</td><td>Steel</td><td>2</td></tr>",
                            "<tr><td>Analytic</td><td>Gen1</td><td>Normal</td><td>NULL</td><td>1</td></tr>",
                            "<tr><td>Analytic</td><td>Gen1</td><td>Water</td><td>NULL</td><td>1</td></tr>",
                            "<tr><td>Analytic</td><td>Gen1</td><td>Water</td><td>Psychic</td><td>1</td></tr>",
                            "<tr><td>Analytic</td><td>Gen2</td><td>Normal</td><td>NULL</td><td>1</td></tr>",
                            "<tr><td>Anger Point</td><td>Gen1</td><td>Fighting</td><td>NULL</td><td>2</td></tr>",
                            "<tr><td>Anger Point</td><td>Gen1</td><td>Normal</td><td>NULL</td><td>1</td></tr>",
                            "<tr><td>Anger Point</td><td>Gen3</td><td>Fire</td><td>Ground</td><td>1</td></tr>",
                            "<tr><td>Anticipation</td><td>Gen1</td><td>Normal</td><td>NULL</td><td>1</td></tr>",
                            "<tr><td>Anticipation</td><td>Gen3</td><td>Water</td><td>Ground</td><td>2</td></tr>",
                            "<tr><td>Arena Trap</td><td>Gen1</td><td>Ground</td><td>NULL</td><td>2</td></tr>",
                            "<tr><td>Arena Trap</td><td>Gen3</td><td>Ground</td><td>NULL</td><td>1</td></tr>",
                            "<tr><td>Battle Armor</td><td>Gen1</td><td>Ground</td><td>NULL</td><td>2</td></tr>",
                            "<tr><td>Battle Armor</td><td>Gen1</td><td>Rock</td><td>Water</td><td>2</td></tr>",
                            "<tr><td>Battle Armor</td><td>Gen3</td><td>Rock</td><td>Bug</td><td>2</td></tr>",
                            "<tr><td>Big Pecks</td><td>Gen1</td><td>Normal</td><td>Flying</td><td>3</td></tr>",
                            "<tr><td>Blaze</td><td>Gen1</td><td>Fire</td><td>NULL</td><td>2</td></tr>",
                            "<tr><td>Blaze</td><td>Gen1</td><td>Fire</td><td>Flying</td><td>1</td></tr>",
                            "<tr><td>Blaze</td><td>Gen2</td><td>Fire</td><td>NULL</td><td>3</td></tr>",
                            "<tr><td>Blaze</td><td>Gen3</td><td>Fire</td><td>NULL</td><td>3</td></tr>",
                            "<tr><td>Chlorophyll</td><td>Gen1</td><td>Grass</td><td>NULL</td><td>1</td></tr>",
                            "<tr><td>Chlorophyll</td><td>Gen1</td><td>Grass</td><td>Poison</td><td>9</td></tr>",
                            "<tr><td>Chlorophyll</td><td>Gen1</td><td>Grass</td><td>Psychic</td><td>2</td></tr>",
                            "<tr><td>Chlorophyll</td><td>Gen2</td><td>Grass</td><td>NULL</td><td>3</td></tr>",
                            "<tr><td>Chlorophyll</td><td>Gen2</td><td>Grass</td><td>Flying</td><td>3</td></tr>",
                            "<tr><td>Chlorophyll</td><td>Gen3</td><td>Grass</td><td>NULL</td><td>1</td></tr>",
                            "<tr><td>Chlorophyll</td><td>Gen3</td><td>Grass</td><td>Dark</td><td>2</td></tr>",
                            "<tr><td>Chlorophyll</td><td>Gen3</td><td>Grass</td><td>Flying</td><td>1</td></tr>",
                            "<tr><td>Clear Body</td><td>Gen1</td><td>Water</td><td>Poison</td><td>2</td></tr>",
                            "<tr><td>Clear Body</td><td>Gen3</td><td>Ice</td><td>NULL</td><td>1</td></tr>",
                            "<tr><td>Clear Body</td><td>Gen3</td><td>Rock</td><td>NULL</td><td>1</td></tr>",
                            "<tr><td>Clear Body</td><td>Gen3</td><td>Steel</td><td>NULL</td><td>1</td></tr>",
                            "<tr><td>Clear Body</td><td>Gen3</td><td>Steel</td><td>Psychic</td><td>3</td></tr>",
                            "<tr><td>Cloud Nine</td><td>Gen1</td><td>Normal</td><td>NULL</td><td>1</td></tr>",
                            "<tr><td>Cloud Nine</td><td>Gen1</td><td>Water</td><td>NULL</td><td>2</td></tr>",
                            "<tr><td>Cloud Nine</td><td>Gen3</td><td>Dragon</td><td>Flying</td><td>1</td></tr>",
                            "<tr><td>Cloud Nine</td><td>Gen3</td><td>Normal</td><td>Flying</td><td>1</td></tr>",
                            "<tr><td>Color Change</td><td>Gen3</td><td>Normal</td><td>NULL</td><td>1</td></tr>",
                            "<tr><td>Competitive</td><td>Gen1</td><td>Normal</td><td>Fairy</td><td>2</td></tr>",
                            "<tr><td>Competitive</td><td>Gen2</td><td>Normal</td><td>Fairy</td><td>1</td></tr>",
                            "<tr><td>Competitive</td><td>Gen3</td><td>Water</td><td>NULL</td><td>1</td></tr>",
                            "<tr><td>Compoundeyes</td><td>Gen1</td><td>Bug</td><td>Flying</td><td>1</td></tr>",
                            "<tr><td>Compoundeyes</td><td>Gen1</td><td>Bug</td><td>Poison</td><td>1</td></tr>",
                            "<tr><td>Compoundeyes</td><td>Gen2</td><td>Bug</td><td>Flying</td><td>1</td></tr>",
                            "<tr><td>Compoundeyes</td><td>Gen3</td><td>Bug</td><td>Ground</td><td>1</td></tr>",
                            "<tr><td>Compoundeyes</td><td>Gen3</td><td>Bug</td><td>Poison</td><td>1</td></tr>",
                            "<tr><td>Contrary</td><td>Gen2</td><td>Bug</td><td>Rock</td><td>1</td></tr>",
                            "<tr><td>Contrary</td><td>Gen3</td><td>Normal</td><td>NULL</td><td>1</td></tr>",
                            "<tr><td>Cursed Body</td><td>Gen1</td><td>Ghost</td><td>Poison</td><td>1</td></tr>",
                            "<tr><td>Cursed Body</td><td>Gen3</td><td>Ghost</td><td>NULL</td><td>2</td></tr>",
                            "<tr><td>Cute Charm</td><td>Gen1</td><td>Fairy</td><td>NULL</td><td>2</td></tr>",
                            "<tr><td>Cute Charm</td><td>Gen1</td><td>Normal</td><td>Fairy</td><td>2</td></tr>",
                            "<tr><td>Cute Charm</td><td>Gen2</td><td>Fairy</td><td>NULL</td><td>1</td></tr>",
                            "<tr><td>Cute Charm</td><td>Gen2</td><td>Normal</td><td>Fairy</td><td>1</td></tr>",
                            "<tr><td>Cute Charm</td><td>Gen3</td><td>Normal</td><td>NULL</td><td>2</td></tr>",
                            "<tr><td>Cute Charm</td><td>Gen3</td><td>Water</td><td>NULL</td><td>1</td></tr>",
                            "<tr><td>Damp</td><td>Gen1</td><td>Bug</td><td>Grass</td><td>2</td></tr>",
                            "<tr><td>Damp</td><td>Gen1</td><td>Water</td><td>NULL</td><td>6</td></tr>",
                            "<tr><td>Damp</td><td>Gen1</td><td>Water</td><td>Fighting</td><td>1</td></tr>",
                            "<tr><td>Damp</td><td>Gen2</td><td>Water</td><td>NULL</td><td>1</td></tr>",
                            "<tr><td>Damp</td><td>Gen2</td><td>Water</td><td>Dragon</td><td>1</td></tr>",
                            "<tr><td>Damp</td><td>Gen2</td><td>Water</td><td>Ground</td><td>2</td></tr>",
                            "<tr><td>Damp</td><td>Gen3</td><td>Water</td><td>NULL</td><td>3</td></tr>",
                            "<tr><td>Defiant</td><td>Gen1</td><td>Fighting</td><td>NULL</td><td>2</td></tr>",
                            "<tr><td>Defiant</td><td>Gen1</td><td>Normal</td><td>Flying</td><td>1</td></tr>",
                            "<tr><td>Download</td><td>Gen1</td><td>Normal</td><td>NULL</td><td>1</td></tr>",
                            "<tr><td>Download</td><td>Gen2</td><td>Normal</td><td>NULL</td><td>1</td></tr>",
                            "<tr><td>Drizzle</td><td>Gen2</td><td>Water</td><td>NULL</td><td>1</td></tr>",
                            "<tr><td>Drizzle</td><td>Gen3</td><td>Water</td><td>NULL</td><td>1</td></tr>",
                            "<tr><td>Drizzle</td><td>Gen3</td><td>Water</td><td>Flying</td><td>1</td></tr>",
                            "<tr><td>Drought</td><td>Gen1</td><td>Fire</td><td>NULL</td><td>2</td></tr>",
                            "<tr><td>Drought</td><td>Gen3</td><td>Fire</td><td>NULL</td><td>1</td></tr>",
                            "<tr><td>Drought</td><td>Gen3</td><td>Ground</td><td>NULL</td><td>1</td></tr>",
                            "<tr><td>Dry Skin</td><td>Gen1</td><td>Bug</td><td>Grass</td><td>2</td></tr>",
                            "<tr><td>Dry Skin</td><td>Gen1</td><td>Ice</td><td>Psychic</td><td>1</td></tr>",
                            "<tr><td>Early Bird</td><td>Gen1</td><td>Normal</td><td>NULL</td><td>1</td></tr>",
                            "<tr><td>Early Bird</td><td>Gen1</td><td>Normal</td><td>Flying</td><td>2</td></tr>",
                            "<tr><td>Early Bird</td><td>Gen2</td><td>Bug</td><td>Flying</td><td>2</td></tr>",
                            "<tr><td>Early Bird</td><td>Gen2</td><td>Dark</td><td>Fire</td><td>2</td></tr>",
                            "<tr><td>Early Bird</td><td>Gen2</td><td>Grass</td><td>NULL</td><td>2</td></tr>",
                            "<tr><td>Early Bird</td><td>Gen2</td><td>Normal</td><td>Psychic</td><td>1</td></tr>",
                            "<tr><td>Early Bird</td><td>Gen2</td><td>Psychic</td><td>Flying</td><td>2</td></tr>",
                            "<tr><td>Early Bird</td><td>Gen3</td><td>Grass</td><td>NULL</td><td>1</td></tr>",
                            "<tr><td>Early Bird</td><td>Gen3</td><td>Grass</td><td>Dark</td><td>1</td></tr>",
                            "<tr><td>Effect Spore</td><td>Gen1</td><td>Bug</td><td>Grass</td><td>2</td></tr>",
                            "<tr><td>Effect Spore</td><td>Gen1</td><td>Grass</td><td>Poison</td><td>1</td></tr>",
                            "<tr><td>Effect Spore</td><td>Gen3</td><td>Grass</td><td>NULL</td><td>1</td></tr>",
                            "<tr><td>Effect Spore</td><td>Gen3</td><td>Grass</td><td>Fighting</td><td>1</td></tr>",
                            "<tr><td>Filter</td><td>Gen1</td><td>Psychic</td><td>Fairy</td><td>1</td></tr>",
                            "<tr><td>Flame Body</td><td>Gen1</td><td>Fire</td><td>NULL</td><td>3</td></tr>",
                            "<tr><td>Flame Body</td><td>Gen1</td><td>Fire</td><td>Flying</td><td>1</td></tr>",
                            "<tr><td>Flame Body</td><td>Gen2</td><td>Fire</td><td>NULL</td><td>2</td></tr>",
                            "<tr><td>Flame Body</td><td>Gen2</td><td>Fire</td><td>Rock</td><td>1</td></tr>",
                            "<tr><td>Flash Fire</td><td>Gen1</td><td>Fire</td><td>NULL</td><td>7</td></tr>",
                            "<tr><td>Flash Fire</td><td>Gen2</td><td>Dark</td><td>Fire</td><td>2</td></tr>",
                            "<tr><td>Flash Fire</td><td>Gen2</td><td>Fire</td><td>NULL</td><td>3</td></tr>",
                            "<tr><td>Forecast</td><td>Gen3</td><td>Normal</td><td>NULL</td><td>1</td></tr>",
                            "<tr><td>Forewarn</td><td>Gen1</td><td>Ice</td><td>Psychic</td><td>1</td></tr>",
                            "<tr><td>Forewarn</td><td>Gen1</td><td>Psychic</td><td>NULL</td><td>2</td></tr>",
                            "<tr><td>Forewarn</td><td>Gen2</td><td>Ice</td><td>Psychic</td><td>1</td></tr>",
                            "<tr><td>Friend Guard</td><td>Gen1</td><td>Fairy</td><td>NULL</td><td>2</td></tr>",
                            "<tr><td>Friend Guard</td><td>Gen1</td><td>Normal</td><td>Fairy</td><td>1</td></tr>",
                            "<tr><td>Friend Guard</td><td>Gen2</td><td>Fairy</td><td>NULL</td><td>1</td></tr>",
                            "<tr><td>Frisk</td><td>Gen1</td><td>Normal</td><td>Fairy</td><td>1</td></tr>",
                            "<tr><td>Frisk</td><td>Gen2</td><td>Bug</td><td>Flying</td><td>1</td></tr>",
                            "<tr><td>Frisk</td><td>Gen2</td><td>Normal</td><td>NULL</td><td>3</td></tr>",
                            "<tr><td>Frisk</td><td>Gen3</td><td>Ghost</td><td>NULL</td><td>4</td></tr>",
                            "<tr><td>Gluttony</td><td>Gen1</td><td>Grass</td><td>Poison</td><td>3</td></tr>",
                            "<tr><td>Gluttony</td><td>Gen1</td><td>Normal</td><td>NULL</td><td>1</td></tr>",
                            "<tr><td>Gluttony</td><td>Gen2</td><td>Bug</td><td>Rock</td><td>1</td></tr>",
                            "<tr><td>Gluttony</td><td>Gen3</td><td>Normal</td><td>NULL</td><td>2</td></tr>",
                            "<tr><td>Gluttony</td><td>Gen3</td><td>Poison</td><td>NULL</td><td>2</td></tr>",
                            "<tr><td>Gluttony</td><td>Gen3</td><td>Psychic</td><td>NULL</td><td>2</td></tr>",
                            "<tr><td>Guts</td><td>Gen1</td><td>Fighting</td><td>NULL</td><td>3</td></tr>",
                            "<tr><td>Guts</td><td>Gen1</td><td>Fire</td><td>NULL</td><td>1</td></tr>",
                            "<tr><td>Guts</td><td>Gen1</td><td>Normal</td><td>NULL</td><td>2</td></tr>",
                            "<tr><td>Guts</td><td>Gen2</td><td>Bug</td><td>Fighting</td><td>1</td></tr>",
                            "<tr><td>Guts</td><td>Gen2</td><td>Fighting</td><td>NULL</td><td>1</td></tr>",
                            "<tr><td>Guts</td><td>Gen2</td><td>Normal</td><td>NULL</td><td>1</td></tr>",
                            "<tr><td>Guts</td><td>Gen2</td><td>Rock</td><td>Ground</td><td>1</td></tr>",
                            "<tr><td>Guts</td><td>Gen3</td><td>Fighting</td><td>NULL</td><td>2</td></tr>",
                            "<tr><td>Guts</td><td>Gen3</td><td>Normal</td><td>Flying</td><td>2</td></tr>",
                            "<tr><td>Harvest</td><td>Gen1</td><td>Grass</td><td>Psychic</td><td>2</td></tr>",
                            "<tr><td>Harvest</td><td>Gen3</td><td>Grass</td><td>Flying</td><td>1</td></tr>",
                            "<tr><td>Healer</td><td>Gen1</td><td>Normal</td><td>NULL</td><td>1</td></tr>",
                            "<tr><td>Healer</td><td>Gen2</td><td>Grass</td><td>NULL</td><td>1</td></tr>",
                            "<tr><td>Healer</td><td>Gen2</td><td>Normal</td><td>NULL</td><td>1</td></tr>",
                            "<tr><td>Heavy Metal</td><td>Gen3</td><td>Steel</td><td>Rock</td><td>3</td></tr>",
                            "<tr><td>Honey Gather</td><td>Gen2</td><td>Normal</td><td>NULL</td><td>1</td></tr>",
                            "<tr><td>Huge Power</td><td>Gen2</td><td>Water</td><td>Fairy</td><td>2</td></tr>",
                            "<tr><td>Huge Power</td><td>Gen3</td><td>Normal</td><td>Fairy</td><td>1</td></tr>",
                            "<tr><td>Hustle</td><td>Gen1</td><td>Normal</td><td>NULL</td><td>2</td></tr>",
                            "<tr><td>Hustle</td><td>Gen1</td><td>Poison</td><td>NULL</td><td>4</td></tr>",
                            "<tr><td>Hustle</td><td>Gen2</td><td>Fairy</td><td>NULL</td><td>1</td></tr>",
                            "<tr><td>Hustle</td><td>Gen2</td><td>Fairy</td><td>Flying</td><td>1</td></tr>",
                            "<tr><td>Hustle</td><td>Gen2</td><td>Ice</td><td>Flying</td><td>1</td></tr>",
                            "<tr><td>Hustle</td><td>Gen2</td><td>Water</td><td>NULL</td><td>1</td></tr>",
                            "<tr><td>Hustle</td><td>Gen2</td><td>Water</td><td>Rock</td><td>1</td></tr>",
                            "<tr><td>Hydration</td><td>Gen1</td><td>Water</td><td>NULL</td><td>2</td></tr>",
                            "<tr><td>Hydration</td><td>Gen1</td><td>Water</td><td>Ice</td><td>2</td></tr>",
                            "<tr><td>Hydration</td><td>Gen2</td><td>Ice</td><td>Psychic</td><td>1</td></tr>",
                            "<tr><td>Hydration</td><td>Gen3</td><td>Water</td><td>NULL</td><td>2</td></tr>",
                            "<tr><td>Hydration</td><td>Gen3</td><td>Water</td><td>Flying</td><td>1</td></tr>",
                            "<tr><td>Hydration</td><td>Gen3</td><td>Water</td><td>Ground</td><td>2</td></tr>",
                            "<tr><td>Hyper Cutter</td><td>Gen1</td><td>Bug</td><td>NULL</td><td>1</td></tr>",
                            "<tr><td>Hyper Cutter</td><td>Gen1</td><td>Water</td><td>NULL</td><td>2</td></tr>",
                            "<tr><td>Hyper Cutter</td><td>Gen2</td><td>Ground</td><td>Flying</td><td>1</td></tr>",
                            "<tr><td>Hyper Cutter</td><td>Gen3</td><td>Ground</td><td>NULL</td><td>1</td></tr>",
                            "<tr><td>Hyper Cutter</td><td>Gen3</td><td>Steel</td><td>Fairy</td><td>1</td></tr>",
                            "<tr><td>Hyper Cutter</td><td>Gen3</td><td>Water</td><td>NULL</td><td>1</td></tr>",
                            "<tr><td>Hyper Cutter</td><td>Gen3</td><td>Water</td><td>Dark</td><td>1</td></tr>",
                            "<tr><td>Ice Body</td><td>Gen1</td><td>Water</td><td>NULL</td><td>1</td></tr>",
                            "<tr><td>Ice Body</td><td>Gen1</td><td>Water</td><td>Ice</td><td>1</td></tr>",
                            "<tr><td>Ice Body</td><td>Gen3</td><td>Ice</td><td>NULL</td><td>3</td></tr>",
                            "<tr><td>Ice Body</td><td>Gen3</td><td>Ice</td><td>Water</td><td>3</td></tr>",
                            "<tr><td>Illuminate</td><td>Gen1</td><td>Water</td><td>NULL</td><td>1</td></tr>",
                            "<tr><td>Illuminate</td><td>Gen1</td><td>Water</td><td>Psychic</td><td>1</td></tr>",
                            "<tr><td>Illuminate</td><td>Gen2</td><td>Water</td><td>Electric</td><td>2</td></tr>",
                            "<tr><td>Illuminate</td><td>Gen3</td><td>Bug</td><td>NULL</td><td>1</td></tr>",
                            "<tr><td>Immunity</td><td>Gen1</td><td>Normal</td><td>NULL</td><td>1</td></tr>",
                            "<tr><td>Immunity</td><td>Gen2</td><td>Ground</td><td>Flying</td><td>1</td></tr>",
                            "<tr><td>Immunity</td><td>Gen3</td><td>Normal</td><td>NULL</td><td>1</td></tr>",
                            "<tr><td>Imposter</td><td>Gen1</td><td>Normal</td><td>NULL</td><td>1</td></tr>",
                            "<tr><td>Infiltrator</td><td>Gen1</td><td>Poison</td><td>Flying</td><td>2</td></tr>",
                            "<tr><td>Infiltrator</td><td>Gen2</td><td>Grass</td><td>Flying</td><td>3</td></tr>",
                            "<tr><td>Infiltrator</td><td>Gen2</td><td>Poison</td><td>Flying</td><td>1</td></tr>",
                            "<tr><td>Infiltrator</td><td>Gen3</td><td>Bug</td><td>Flying</td><td>1</td></tr>",
                            "<tr><td>Infiltrator</td><td>Gen3</td><td>Poison</td><td>NULL</td><td>1</td></tr>",
                            "<tr><td>Inner Focus</td><td>Gen1</td><td>Dragon</td><td>Flying</td><td>1</td></tr>",
                            "<tr><td>Inner Focus</td><td>Gen1</td><td>Fight</td><td>NULL</td><td>1</td></tr>",
                            "<tr><td>Inner Focus</td><td>Gen1</td><td>Normal</td><td>NULL</td><td>1</td></tr>",
                            "<tr><td>Inner Focus</td><td>Gen1</td><td>Normal</td><td>Flying</td><td>1</td></tr>",
                            "<tr><td>Inner Focus</td><td>Gen1</td><td>Poison</td><td>Flying</td><td>2</td></tr>",
                            "<tr><td>Inner Focus</td><td>Gen1</td><td>Psychic</td><td>NULL</td><td>5</td></tr>",
                            "<tr><td>Inner Focus</td><td>Gen2</td><td>Dark</td><td>NULL</td><td>1</td></tr>",
                            "<tr><td>Inner Focus</td><td>Gen2</td><td>Dark</td><td>Ice</td><td>1</td></tr>",
                            "<tr><td>Inner Focus</td><td>Gen2</td><td>Electric</td><td>NULL</td><td>1</td></tr>",
                            "<tr><td>Inner Focus</td><td>Gen2</td><td>Fire</td><td>NULL</td><td>1</td></tr>",
                            "<tr><td>Inner Focus</td><td>Gen2</td><td>Normal</td><td>Psychic</td><td>1</td></tr>",
                            "<tr><td>Inner Focus</td><td>Gen2</td><td>Poison</td><td>Flying</td><td>1</td></tr>",
                            "<tr><td>Inner Focus</td><td>Gen2</td><td>Water</td><td>NULL</td><td>1</td></tr>",
                            "<tr><td>Inner Focus</td><td>Gen3</td><td>Ice</td><td>NULL</td><td>2</td></tr>",
                            "<tr><td>Insomnia</td><td>Gen1</td><td>Psychic</td><td>NULL</td><td>2</td></tr>",
                            "<tr><td>Insomnia</td><td>Gen2</td><td>Bug</td><td>Poison</td><td>2</td></tr>",
                            "<tr><td>Insomnia</td><td>Gen2</td><td>Dark</td><td>Flying</td><td>1</td></tr>",
                            "<tr><td>Insomnia</td><td>Gen2</td><td>Ice</td><td>Flying</td><td>1</td></tr>",
                            "<tr><td>Insomnia</td><td>Gen2</td><td>Normal</td><td>Flying</td><td>2</td></tr>",
                            "<tr><td>Insomnia</td><td>Gen3</td><td>Ghost</td><td>NULL</td><td>2</td></tr>",
                            "<tr><td>Intimidate</td><td>Gen1</td><td>Fire</td><td>NULL</td><td>2</td></tr>",
                            "<tr><td>Intimidate</td><td>Gen1</td><td>Normal</td><td>NULL</td><td>1</td></tr>",
                            "<tr><td>Intimidate</td><td>Gen1</td><td>Poison</td><td>NULL</td><td>2</td></tr>",
                            "<tr><td>Intimidate</td><td>Gen1</td><td>Water</td><td>Flying</td><td>1</td></tr>",
                            "<tr><td>Intimidate</td><td>Gen2</td><td>Fairy</td><td>NULL</td><td>2</td></tr>",
                            "<tr><td>Intimidate</td><td>Gen2</td><td>Fighting</td><td>NULL</td><td>1</td></tr>",
                            "<tr><td>Intimidate</td><td>Gen2</td><td>Normal</td><td>NULL</td><td>1</td></tr>",
                            "<tr><td>Intimidate</td><td>Gen2</td><td>Water</td><td>Poison</td><td>1</td></tr>",
                            "<tr><td>Intimidate</td><td>Gen3</td><td>Bug</td><td>Flying</td><td>1</td></tr>",
                            "<tr><td>Intimidate</td><td>Gen3</td><td>Dark</td><td>NULL</td><td>1</td></tr>",
                            "<tr><td>Intimidate</td><td>Gen3</td><td>Dragon</td><td>Flying</td><td>1</td></tr>",
                            "<tr><td>Intimidate</td><td>Gen3</td><td>Steel</td><td>Fairy</td><td>1</td></tr>",
                            "<tr><td>Iron Fist</td><td>Gen1</td><td>Fight</td><td>NULL</td><td>1</td></tr>",
                            "<tr><td>Iron Fist</td><td>Gen2</td><td>Bug</td><td>Flying</td><td>1</td></tr>",
                            "<tr><td>Justified</td><td>Gen1</td><td>Fire</td><td>NULL</td><td>2</td></tr>",
                            "<tr><td>Justified</td><td>Gen3</td><td>Dark</td><td>NULL</td><td>1</td></tr>",
                            "<tr><td>Keen Eye</td><td>Gen1</td><td>Fight</td><td>NULL</td><td>1</td></tr>",
                            "<tr><td>Keen Eye</td><td>Gen1</td><td>Normal</td><td>Flying</td><td>6</td></tr>",
                            "<tr><td>Keen Eye</td><td>Gen2</td><td>Dark</td><td>Ice</td><td>1</td></tr>",
                            "<tr><td>Keen Eye</td><td>Gen2</td><td>Normal</td><td>NULL</td><td>2</td></tr>",
                            "<tr><td>Keen Eye</td><td>Gen2</td><td>Normal</td><td>Flying</td><td>2</td></tr>",
                            "<tr><td>Keen Eye</td><td>Gen2</td><td>Steel</td><td>Flying</td><td>1</td></tr>",
                            "<tr><td>Keen Eye</td><td>Gen3</td><td>Dark</td><td>Ghost</td><td>1</td></tr>",
                            "<tr><td>Keen Eye</td><td>Gen3</td><td>Water</td><td>Flying</td><td>2</td></tr>",
                            "<tr><td>Leaf Guard</td><td>Gen1</td><td>Grass</td><td>NULL</td><td>1</td></tr>",
                            "<tr><td>Leaf Guard</td><td>Gen2</td><td>Grass</td><td>NULL</td><td>3</td></tr>",
                            "<tr><td>Leaf Guard</td><td>Gen2</td><td>Grass</td><td>Flying</td><td>3</td></tr>",
                            "<tr><td>Leaf Guard</td><td>Gen3</td><td>Grass</td><td>Poison</td><td>1</td></tr>",
                            "<tr><td>Levitate</td><td>Gen1</td><td>Ghost</td><td>Poison</td><td>2</td></tr>",
                            "<tr><td>Levitate</td><td>Gen1</td><td>Poison</td><td>NULL</td><td>2</td></tr>",
                            "<tr><td>Levitate</td><td>Gen2</td><td>Ghost</td><td>NULL</td><td>1</td></tr>",
                            "<tr><td>Levitate</td><td>Gen2</td><td>Psychic</td><td>NULL</td><td>1</td></tr>",
                            "<tr><td>Levitate</td><td>Gen3</td><td>Dragon</td><td>Psychic</td><td>2</td></tr>",
                            "<tr><td>Levitate</td><td>Gen3</td><td>Ghost</td><td>NULL</td><td>1</td></tr>",
                            "<tr><td>Levitate</td><td>Gen3</td><td>Ground</td><td>Dragon</td><td>2</td></tr>",
                            "<tr><td>Levitate</td><td>Gen3</td><td>Ground</td><td>Psychic</td><td>2</td></tr>",
                            "<tr><td>Levitate</td><td>Gen3</td><td>Psychic</td><td>NULL</td><td>1</td></tr>",
                            "<tr><td>Levitate</td><td>Gen3</td><td>Rock</td><td>Psychic</td><td>2</td></tr>",
                            "<tr><td>Light Metal</td><td>Gen2</td><td>Bug</td><td>Steel</td><td>1</td></tr>",
                            "<tr><td>Light Metal</td><td>Gen3</td><td>Steel</td><td>NULL</td><td>1</td></tr>",
                            "<tr><td>Light Metal</td><td>Gen3</td><td>Steel</td><td>Psychic</td><td>3</td></tr>",
                            "<tr><td>Lighting Rod</td><td>Gen1</td><td>Electric</td><td>NULL</td><td>2</td></tr>",
                            "<tr><td>Lighting Rod</td><td>Gen1</td><td>Water</td><td>NULL</td><td>2</td></tr>",
                            "<tr><td>Lightning Rod</td><td>Gen1</td><td>Ground</td><td>NULL</td><td>2</td></tr>",
                            "<tr><td>Lightning Rod</td><td>Gen1</td><td>Ground</td><td>Rock</td><td>2</td></tr>",
                            "<tr><td>Lightning Rod</td><td>Gen2</td><td>Electric</td><td>NULL</td><td>1</td></tr>",
                            "<tr><td>Lightning Rod</td><td>Gen3</td><td>Electric</td><td>NULL</td><td>3</td></tr>",
                            "<tr><td>Limber</td><td>Gen1</td><td>Fight</td><td>NULL</td><td>1</td></tr>",
                            "<tr><td>Limber</td><td>Gen1</td><td>Normal</td><td>NULL</td><td>2</td></tr>",
                            "<tr><td>Liquid Ooze</td><td>Gen1</td><td>Water</td><td>Poison</td><td>2</td></tr>",
                            "<tr><td>Liquid Ooze</td><td>Gen3</td><td>Poison</td><td>NULL</td><td>2</td></tr>",
                            "<tr><td>Magic Bounce</td><td>Gen2</td><td>Psychic</td><td>NULL</td><td>1</td></tr>",
                            "<tr><td>Magic Bounce</td><td>Gen2</td><td>Psychic</td><td>Flying</td><td>2</td></tr>",
                            "<tr><td>Magic Guard</td><td>Gen1</td><td>Fairy</td><td>NULL</td><td>2</td></tr>",
                            "<tr><td>Magic Guard</td><td>Gen1</td><td>Psychic</td><td>NULL</td><td>3</td></tr>",
                            "<tr><td>Magic Guard</td><td>Gen2</td><td>Fairy</td><td>NULL</td><td>1</td></tr>",
                            "<tr><td>Magma Armor</td><td>Gen2</td><td>Fire</td><td>NULL</td><td>1</td></tr>",
                            "<tr><td>Magma Armor</td><td>Gen2</td><td>Fire</td><td>Rock</td><td>1</td></tr>",
                            "<tr><td>Magma Armor</td><td>Gen3</td><td>Fire</td><td>Ground</td><td>1</td></tr>",
                            "<tr><td>Magnet Pull</td><td>Gen1</td><td>Electric</td><td>Steel</td><td>2</td></tr>",
                            "<tr><td>Magnet Pull</td><td>Gen3</td><td>Rock</td><td>NULL</td><td>1</td></tr>",
                            "<tr><td>Marvel Scale</td><td>Gen1</td><td>Dragon</td><td>NULL</td><td>2</td></tr>",
                            "<tr><td>Marvel Scale</td><td>Gen3</td><td>Water</td><td>NULL</td><td>1</td></tr>",
                            "<tr><td>Minus</td><td>Gen3</td><td>Electric</td><td>NULL</td><td>3</td></tr>",
                            "<tr><td>Mold Breaker</td><td>Gen1</td><td>Bug</td><td>NULL</td><td>1</td></tr>",
                            "<tr><td>Moody</td><td>Gen2</td><td>Normal</td><td>NULL</td><td>1</td></tr>",
                            "<tr><td>Moody</td><td>Gen2</td><td>Water</td><td>NULL</td><td>2</td></tr>",
                            "<tr><td>Moody</td><td>Gen3</td><td>Ice</td><td>NULL</td><td>2</td></tr>",
                            "<tr><td>Moxie</td><td>Gen1</td><td>Bug</td><td>NULL</td><td>1</td></tr>",
                            "<tr><td>Moxie</td><td>Gen1</td><td>Water</td><td>Flying</td><td>1</td></tr>",
                            "<tr><td>Moxie</td><td>Gen2</td><td>Bug</td><td>Fighting</td><td>1</td></tr>",
                            "<tr><td>Moxie</td><td>Gen3</td><td>Dark</td><td>NULL</td><td>1</td></tr>",
                            "<tr><td>Moxie</td><td>Gen3</td><td>Dragon</td><td>Flying</td><td>1</td></tr>",
                            "<tr><td>Multiscale</td><td>Gen1</td><td>Dragon</td><td>Flying</td><td>1</td></tr>",
                            "<tr><td>Multiscale</td><td>Gen2</td><td>Psychic</td><td>Flying</td><td>1</td></tr>",
                            "<tr><td>Natural Cure</td><td>Gen1</td><td>Normal</td><td>NULL</td><td>1</td></tr>",
                            "<tr><td>Natural Cure</td><td>Gen1</td><td>Water</td><td>NULL</td><td>1</td></tr>",
                            "<tr><td>Natural Cure</td><td>Gen1</td><td>Water</td><td>Psychic</td><td>1</td></tr>",
                            "<tr><td>Natural Cure</td><td>Gen2</td><td>Normal</td><td>NULL</td><td>1</td></tr>",
                            "<tr><td>Natural Cure</td><td>Gen2</td><td>Psychic</td><td>Grass</td><td>1</td></tr>",
                            "<tr><td>Natural Cure</td><td>Gen2</td><td>Water</td><td>Rock</td><td>1</td></tr>",
                            "<tr><td>Natural Cure</td><td>Gen3</td><td>Dragon</td><td>Flying</td><td>1</td></tr>",
                            "<tr><td>Natural Cure</td><td>Gen3</td><td>Grass</td><td>Poison</td><td>1</td></tr>",
                            "<tr><td>Natural Cure</td><td>Gen3</td><td>Normal</td><td>Flying</td><td>1</td></tr>",
                            "<tr><td>Neutralizing Gas</td><td>Gen1</td><td>Poison</td><td>NULL</td><td>2</td></tr>",
                            "<tr><td>No Guard</td><td>Gen1</td><td>Fighting</td><td>NULL</td><td>3</td></tr>",
                            "<tr><td>Normalize</td><td>Gen3</td><td>Normal</td><td>NULL</td><td>2</td></tr>",
                            "<tr><td>Oblivious</td><td>Gen1</td><td>Ice</td><td>Psychic</td><td>1</td></tr>",
                            "<tr><td>Oblivious</td><td>Gen1</td><td>Normal</td><td>NULL</td><td>1</td></tr>",
                            "<tr><td>Oblivious</td><td>Gen1</td><td>Water</td><td>Psychic</td><td>2</td></tr>",
                            "<tr><td>Oblivious</td><td>Gen2</td><td>Ice</td><td>Ground</td><td>2</td></tr>",
                            "<tr><td>Oblivious</td><td>Gen2</td><td>Ice</td><td>Psychic</td><td>1</td></tr>",
                            "<tr><td>Oblivious</td><td>Gen2</td><td>Water</td><td>Psychic</td><td>1</td></tr>",
                            "<tr><td>Oblivious</td><td>Gen3</td><td>Bug</td><td>NULL</td><td>1</td></tr>",
                            "<tr><td>Oblivious</td><td>Gen3</td><td>Fire</td><td>Ground</td><td>1</td></tr>",
                            "<tr><td>Oblivious</td><td>Gen3</td><td>Ice</td><td>Water</td><td>3</td></tr>",
                            "<tr><td>Oblivious</td><td>Gen3</td><td>Water</td><td>NULL</td><td>3</td></tr>",
                            "<tr><td>Oblivious</td><td>Gen3</td><td>Water</td><td>Ground</td><td>2</td></tr>",
                            "<tr><td>Overcoat</td><td>Gen1</td><td>Water</td><td>NULL</td><td>1</td></tr>",
                            "<tr><td>Overcoat</td><td>Gen1</td><td>Water</td><td>Ice</td><td>1</td></tr>",
                            "<tr><td>Overcoat</td><td>Gen2</td><td>Bug</td><td>NULL</td><td>1</td></tr>",
                            "<tr><td>Overcoat</td><td>Gen2</td><td>Bug</td><td>Steel</td><td>1</td></tr>",
                            "<tr><td>Overcoat</td><td>Gen3</td><td>Dragon</td><td>NULL</td><td>1</td></tr>",
                            "<tr><td>Overgrow</td><td>Gen1</td><td>Grass</td><td>Poison</td><td>3</td></tr>",
                            "<tr><td>Overgrow</td><td>Gen2</td><td>Grass</td><td>NULL</td><td>3</td></tr>",
                            "<tr><td>Overgrow</td><td>Gen3</td><td>Grass</td><td>NULL</td><td>3</td></tr>",
                            "<tr><td>Own Tempo</td><td>Gen1</td><td>Normal</td><td>NULL</td><td>1</td></tr>",
                            "<tr><td>Own Tempo</td><td>Gen1</td><td>Water</td><td>Psychic</td><td>2</td></tr>",
                            "<tr><td>Own Tempo</td><td>Gen2</td><td>Normal</td><td>NULL</td><td>1</td></tr>",
                            "<tr><td>Own Tempo</td><td>Gen2</td><td>Water</td><td>Psychic</td><td>1</td></tr>",
                            "<tr><td>Own Tempo</td><td>Gen3</td><td>Fire</td><td>Ground</td><td>1</td></tr>",
                            "<tr><td>Own Tempo</td><td>Gen3</td><td>Normal</td><td>NULL</td><td>1</td></tr>",
                            "<tr><td>Own Tempo</td><td>Gen3</td><td>Psychic</td><td>NULL</td><td>2</td></tr>",
                            "<tr><td>Own Tempo</td><td>Gen3</td><td>Water</td><td>Grass</td><td>3</td></tr>",
                            "<tr><td>Pickpocket</td><td>Gen2</td><td>Dark</td><td>Ice</td><td>1</td></tr>",
                            "<tr><td>Pickpocket</td><td>Gen3</td><td>Grass</td><td>NULL</td><td>1</td></tr>",
                            "<tr><td>Pickpocket</td><td>Gen3</td><td>Grass</td><td>Dark</td><td>2</td></tr>",
                            "<tr><td>Pickup</td><td>Gen1</td><td>Normal</td><td>NULL</td><td>1</td></tr>",
                            "<tr><td>Pickup</td><td>Gen2</td><td>Ground</td><td>NULL</td><td>1</td></tr>",
                            "<tr><td>Pickup</td><td>Gen2</td><td>Normal</td><td>NULL</td><td>2</td></tr>",
                            "<tr><td>Pickup</td><td>Gen3</td><td>Normal</td><td>NULL</td><td>2</td></tr>",
                            "<tr><td>Plus</td><td>Gen2</td><td>Electric</td><td>NULL</td><td>3</td></tr>",
                            "<tr><td>Plus</td><td>Gen3</td><td>Electric</td><td>NULL</td><td>1</td></tr>",
                            "<tr><td>Poison Heal</td><td>Gen3</td><td>Grass</td><td>NULL</td><td>1</td></tr>",
                            "<tr><td>Poison Heal</td><td>Gen3</td><td>Grass</td><td>Fighting</td><td>1</td></tr>",
                            "<tr><td>Poison Point</td><td>Gen1</td><td>Poison</td><td>NULL</td><td>4</td></tr>",
                            "<tr><td>Poison Point</td><td>Gen1</td><td>Poison</td><td>Ground</td><td>1</td></tr>",
                            "<tr><td>Poison Point</td><td>Gen1</td><td>Water</td><td>NULL</td><td>1</td></tr>",
                            "<tr><td>Poison Point</td><td>Gen2</td><td>Water</td><td>Poison</td><td>1</td></tr>",
                            "<tr><td>Poison Point</td><td>Gen3</td><td>Grass</td><td>Poison</td><td>1</td></tr>",
                            "<tr><td>Poison Touch</td><td>Gen1</td><td>Poison</td><td>NULL</td><td>2</td></tr>",
                            "<tr><td>Prankster</td><td>Gen2</td><td>Dark</td><td>Flying</td><td>1</td></tr>",
                            "<tr><td>Prankster</td><td>Gen3</td><td>Bug</td><td>NULL</td><td>2</td></tr>",
                            "<tr><td>Prankster</td><td>Gen3</td><td>Dark</td><td>Ghost</td><td>1</td></tr>",
                            "<tr><td>Pressure</td><td>Gen1</td><td>Electric</td><td>Flying</td><td>1</td></tr>",
                            "<tr><td>Pressure</td><td>Gen1</td><td>Fire</td><td>Flying</td><td>1</td></tr>",
                            "<tr><td>Pressure</td><td>Gen1</td><td>Ice</td><td>Flying</td><td>1</td></tr>",
                            "<tr><td>Pressure</td><td>Gen1</td><td>Psychic</td><td>NULL</td><td>1</td></tr>",
                            "<tr><td>Pressure</td><td>Gen1</td><td>Rock</td><td>Flying</td><td>1</td></tr>",
                            "<tr><td>Pressure</td><td>Gen2</td><td>Electric</td><td>NULL</td><td>1</td></tr>",
                            "<tr><td>Pressure</td><td>Gen2</td><td>Fire</td><td>NULL</td><td>1</td></tr>",
                            "<tr><td>Pressure</td><td>Gen2</td><td>Fire</td><td>Flying</td><td>1</td></tr>",
                            "<tr><td>Pressure</td><td>Gen2</td><td>Psychic</td><td>Flying</td><td>1</td></tr>",
                            "<tr><td>Pressure</td><td>Gen2</td><td>Water</td><td>NULL</td><td>1</td></tr>",
                            "<tr><td>Pressure</td><td>Gen3</td><td>Dark</td><td>NULL</td><td>1</td></tr>",
                            "<tr><td>Pressure</td><td>Gen3</td><td>Ghost</td><td>NULL</td><td>1</td></tr>",
                            "<tr><td>Pressure</td><td>Gen3</td><td>Psychic</td><td>NULL</td><td>1</td></tr>",
                            "<tr><td>Pressure</td><td>Gen3</td><td>Water</td><td>NULL</td><td>2</td></tr>",
                            "<tr><td>Protean</td><td>Gen3</td><td>Normal</td><td>NULL</td><td>1</td></tr>",
                            "<tr><td>Pure Power</td><td>Gen3</td><td>Fighting</td><td>Psychic</td><td>2</td></tr>",
                            "<tr><td>Quick Feet</td><td>Gen1</td><td>Electric</td><td>NULL</td><td>1</td></tr>",
                            "<tr><td>Quick Feet</td><td>Gen2</td><td>Fairy</td><td>NULL</td><td>1</td></tr>",
                            "<tr><td>Quick Feet</td><td>Gen2</td><td>Normal</td><td>NULL</td><td>2</td></tr>",
                            "<tr><td>Quick Feet</td><td>Gen3</td><td>Dark</td><td>NULL</td><td>2</td></tr>",
                            "<tr><td>Quick Feet</td><td>Gen3</td><td>Grass</td><td>NULL</td><td>1</td></tr>",
                            "<tr><td>Quick Feet</td><td>Gen3</td><td>Normal</td><td>NULL</td><td>2</td></tr>",
                            "<tr><td>Rain Dish</td><td>Gen1</td><td>Water</td><td>NULL</td><td>3</td></tr>",
                            "<tr><td>Rain Dish</td><td>Gen1</td><td>Water</td><td>Poison</td><td>2</td></tr>",
                            "<tr><td>Rain Dish</td><td>Gen3</td><td>Bug</td><td>Water</td><td>1</td></tr>",
                            "<tr><td>Rain Dish</td><td>Gen3</td><td>Water</td><td>Flying</td><td>2</td></tr>",
                            "<tr><td>Rain Dish</td><td>Gen3</td><td>Water</td><td>Grass</td><td>3</td></tr>",
                            "<tr><td>Rattled</td><td>Gen1</td><td>Water</td><td>NULL</td><td>1</td></tr>",
                            "<tr><td>Rattled</td><td>Gen2</td><td>Bug</td><td>Flying</td><td>1</td></tr>",
                            "<tr><td>Rattled</td><td>Gen2</td><td>Fairy</td><td>NULL</td><td>2</td></tr>",
                            "<tr><td>Rattled</td><td>Gen2</td><td>Normal</td><td>NULL</td><td>1</td></tr>",
                            "<tr><td>Rattled</td><td>Gen2</td><td>Rock</td><td>NULL</td><td>1</td></tr>",
                            "<tr><td>Rattled</td><td>Gen3</td><td>Dark</td><td>NULL</td><td>1</td></tr>",
                            "<tr><td>Rattled</td><td>Gen3</td><td>Normal</td><td>NULL</td><td>1</td></tr>",
                            "<tr><td>Rattled</td><td>Gen3</td><td>Water</td><td>NULL</td><td>1</td></tr>",
                            "<tr><td>Reckless</td><td>Gen1</td><td>Fight</td><td>NULL</td><td>1</td></tr>",
                            "<tr><td>Reckless</td><td>Gen1</td><td>Ground</td><td>Rock</td><td>2</td></tr>",
                            "<tr><td>Regenerator</td><td>Gen1</td><td>Grass</td><td>NULL</td><td>1</td></tr>",
                            "<tr><td>Regenerator</td><td>Gen1</td><td>Water</td><td>Psychic</td><td>2</td></tr>",
                            "<tr><td>Regenerator</td><td>Gen2</td><td>Fire</td><td>Flying</td><td>1</td></tr>",
                            "<tr><td>Regenerator</td><td>Gen2</td><td>Water</td><td>Psychic</td><td>1</td></tr>",
                            "<tr><td>Regenerator</td><td>Gen2</td><td>Water</td><td>Rock</td><td>1</td></tr>",
                            "<tr><td>Rivalry</td><td>Gen1</td><td>Ground</td><td>Poison Point</td><td>2</td></tr>",
                            "<tr><td>Rivalry</td><td>Gen1</td><td>Poison</td><td>NULL</td><td>4</td></tr>",
                            "<tr><td>Rivalry</td><td>Gen1</td><td>Poison</td><td>Ground</td><td>1</td></tr>",
                            "<tr><td>Rivalry</td><td>Gen3</td><td>Bug</td><td>Flying</td><td>1</td></tr>",
                            "<tr><td>Rock Head</td><td>Gen1</td><td>Ground</td><td>NULL</td><td>2</td></tr>",
                            "<tr><td>Rock Head</td><td>Gen1</td><td>Ground</td><td>Rock</td><td>2</td></tr>",
                            "<tr><td>Rock Head</td><td>Gen1</td><td>Rock</td><td>Flying</td><td>1</td></tr>",
                            "<tr><td>Rock Head</td><td>Gen1</td><td>Rock</td><td>Ground</td><td>4</td></tr>",
                            "<tr><td>Rock Head</td><td>Gen2</td><td>Rock</td><td>NULL</td><td>1</td></tr>",
                            "<tr><td>Rock Head</td><td>Gen2</td><td>Steel</td><td>Ground</td><td>1</td></tr>",
                            "<tr><td>Rock Head</td><td>Gen3</td><td>Dragon</td><td>NULL</td><td>2</td></tr>",
                            "<tr><td>Rock Head</td><td>Gen3</td><td>Steel</td><td>Rock</td><td>3</td></tr>",
                            "<tr><td>Rock Head</td><td>Gen3</td><td>Water</td><td>Rock</td><td>1</td></tr>",
                            "<tr><td>Rough Skin</td><td>Gen3</td><td>Water</td><td>Dark</td><td>2</td></tr>",
                            "<tr><td>Run Away</td><td>Gen1</td><td>Bug</td><td>NULL</td><td>1</td></tr>",
                            "<tr><td>Run Away</td><td>Gen1</td><td>Bug</td><td>Poison</td><td>2</td></tr>",
                            "<tr><td>Run Away</td><td>Gen1</td><td>Fire</td><td>NULL</td><td>2</td></tr>",
                            "<tr><td>Run Away</td><td>Gen1</td><td>Grass</td><td>Poison</td><td>1</td></tr>",
                            "<tr><td>Run Away</td><td>Gen1</td><td>Normal</td><td>NULL</td><td>3</td></tr>",
                            "<tr><td>Run Away</td><td>Gen1</td><td>Normal</td><td>Flying</td><td>2</td></tr>",
                            "<tr><td>Run Away</td><td>Gen2</td><td>Fairy</td><td>NULL</td><td>1</td></tr>",
                            "<tr><td>Run Away</td><td>Gen2</td><td>Normal</td><td>NULL</td><td>4</td></tr>",
                            "<tr><td>Run Away</td><td>Gen3</td><td>Bug</td><td>NULL</td><td>1</td></tr>",
                            "<tr><td>Run Away</td><td>Gen3</td><td>Bug</td><td>Ground</td><td>1</td></tr>",
                            "<tr><td>Run Away</td><td>Gen3</td><td>Dark</td><td>NULL</td><td>1</td></tr>",
                            "<tr><td>Sand Force</td><td>Gen1</td><td>Ground</td><td>NULL</td><td>2</td></tr>",
                            "<tr><td>Sand Force</td><td>Gen3</td><td>Rock</td><td>NULL</td><td>1</td></tr>",
                            "<tr><td>Sand Rush</td><td>Gen1</td><td>Ground</td><td>NULL</td><td>2</td></tr>",
                            "<tr><td>Sand Stream</td><td>Gen2</td><td>Rock</td><td>Dark</td><td>1</td></tr>",
                            "<tr><td>Sand Veil</td><td>Gen1</td><td>Ground</td><td>NULL</td><td>4</td></tr>",
                            "<tr><td>Sand Veil</td><td>Gen1</td><td>Rock</td><td>Ground</td><td>3</td></tr>",
                            "<tr><td>Sand Veil</td><td>Gen2</td><td>Ground</td><td>NULL</td><td>2</td></tr>",
                            "<tr><td>Sand Veil</td><td>Gen2</td><td>Ground</td><td>Flying</td><td>1</td></tr>",
                            "<tr><td>Sand Veil</td><td>Gen2</td><td>Rock</td><td>Ground</td><td>1</td></tr>",
                            "<tr><td>Sand Veil</td><td>Gen3</td><td>Grass</td><td>NULL</td><td>1</td></tr>",
                            "<tr><td>Sand Veil</td><td>Gen3</td><td>Grass</td><td>Dark</td><td>1</td></tr>",
                            "<tr><td>Sap Sipper</td><td>Gen2</td><td>Normal</td><td>NULL</td><td>2</td></tr>",
                            "<tr><td>Sap Sipper</td><td>Gen2</td><td>Normal</td><td>Psychic</td><td>1</td></tr>",
                            "<tr><td>Sap Sipper</td><td>Gen2</td><td>Water</td><td>Fairy</td><td>2</td></tr>",
                            "<tr><td>Sap Sipper</td><td>Gen3</td><td>Normal</td><td>Fairy</td><td>1</td></tr>",
                            "<tr><td>Scrappy</td><td>Gen1</td><td>Normal</td><td>NULL</td><td>1</td></tr>",
                            "<tr><td>Scrappy</td><td>Gen2</td><td>Normal</td><td>NULL</td><td>1</td></tr>",
                            "<tr><td>Scrappy</td><td>Gen3</td><td>Normal</td><td>NULL</td><td>2</td></tr>",
                            "<tr><td>Scrappy</td><td>Gen3</td><td>Normal</td><td>Flying</td><td>2</td></tr>",
                            "<tr><td>Serene Grace</td><td>Gen1</td><td>Normal</td><td>NULL</td><td>1</td></tr>",
                            "<tr><td>Serene Grace</td><td>Gen2</td><td>Fairy</td><td>NULL</td><td>1</td></tr>",
                            "<tr><td>Serene Grace</td><td>Gen2</td><td>Fairy</td><td>Flying</td><td>1</td></tr>",
                            "<tr><td>Serene Grace</td><td>Gen2</td><td>Normal</td><td>NULL</td><td>2</td></tr>",
                            "<tr><td>Serene Grace</td><td>Gen3</td><td>Steel</td><td>Psychic</td><td>1</td></tr>",
                            "<tr><td>Shadow Tag</td><td>Gen2</td><td>Psychic</td><td>NULL</td><td>1</td></tr>",
                            "<tr><td>Shadow Tag</td><td>Gen3</td><td>Psychic</td><td>NULL</td><td>1</td></tr>",
                            "<tr><td>Shed Skin</td><td>Gen1</td><td>Bug</td><td>NULL</td><td>1</td></tr>",
                            "<tr><td>Shed Skin</td><td>Gen1</td><td>Bug</td><td>Poison</td><td>1</td></tr>",
                            "<tr><td>Shed Skin</td><td>Gen1</td><td>Dragon</td><td>NULL</td><td>2</td></tr>",
                            "<tr><td>Shed Skin</td><td>Gen1</td><td>Poison</td><td>NULL</td><td>2</td></tr>",
                            "<tr><td>Shed Skin</td><td>Gen2</td><td>Rock</td><td>Ground</td><td>1</td></tr>",
                            "<tr><td>Shed Skin</td><td>Gen3</td><td>Bug</td><td>NULL</td><td>2</td></tr>",
                            "<tr><td>Shed Skin</td><td>Gen3</td><td>Poison</td><td>NULL</td><td>1</td></tr>",
                            "<tr><td>Sheer Force</td><td>Gen1</td><td>Ground</td><td>Poison Point</td><td>1</td></tr>",
                            "<tr><td>Sheer Force</td><td>Gen1</td><td>Normal</td><td>NULL</td><td>1</td></tr>",
                            "<tr><td>Sheer Force</td><td>Gen1</td><td>Poison</td><td>Ground</td><td>1</td></tr>",
                            "<tr><td>Sheer Force</td><td>Gen1</td><td>Water</td><td>NULL</td><td>2</td></tr>",
                            "<tr><td>Sheer Force</td><td>Gen2</td><td>Steel</td><td>Ground</td><td>1</td></tr>",
                            "<tr><td>Sheer Force</td><td>Gen2</td><td>Water</td><td>NULL</td><td>3</td></tr>",
                            "<tr><td>Sheer Force</td><td>Gen3</td><td>Dragon</td><td>NULL</td><td>1</td></tr>",
                            "<tr><td>Sheer Force</td><td>Gen3</td><td>Fighting</td><td>NULL</td><td>2</td></tr>",
                            "<tr><td>Sheer Force</td><td>Gen3</td><td>Ground</td><td>NULL</td><td>1</td></tr>",
                            "<tr><td>Sheer Force</td><td>Gen3</td><td>Steel</td><td>Fairy</td><td>1</td></tr>",
                            "<tr><td>Shell Armor</td><td>Gen1</td><td>Rock</td><td>Water</td><td>2</td></tr>",
                            "<tr><td>Shell Armor</td><td>Gen1</td><td>Water</td><td>NULL</td><td>3</td></tr>",
                            "<tr><td>Shell Armor</td><td>Gen1</td><td>Water</td><td>Ice</td><td>2</td></tr>",
                            "<tr><td>Shell Armor</td><td>Gen3</td><td>Fire</td><td>NULL</td><td>1</td></tr>",
                            "<tr><td>Shell Armor</td><td>Gen3</td><td>Water</td><td>NULL</td><td>2</td></tr>",
                            "<tr><td>Shell Armor</td><td>Gen3</td><td>Water</td><td>Dark</td><td>1</td></tr>",
                            "<tr><td>Shield Dust</td><td>Gen1</td><td>Bug</td><td>NULL</td><td>1</td></tr>",
                            "<tr><td>Shield Dust</td><td>Gen1</td><td>Bug</td><td>Poison</td><td>2</td></tr>",
                            "<tr><td>Shield Dust</td><td>Gen3</td><td>Bug</td><td>NULL</td><td>1</td></tr>",
                            "<tr><td>Shield Dust</td><td>Gen3</td><td>Bug</td><td>Poison</td><td>1</td></tr>",
                            "<tr><td>Simple</td><td>Gen3</td><td>Fire</td><td>Ground</td><td>1</td></tr>",
                            "<tr><td>Skill Link</td><td>Gen1</td><td>Water</td><td>NULL</td><td>1</td></tr>",
                            "<tr><td>Skill Link</td><td>Gen1</td><td>Water</td><td>Ice</td><td>1</td></tr>",
                            "<tr><td>Skill Link</td><td>Gen2</td><td>Normal</td><td>NULL</td><td>1</td></tr>",
                            "<tr><td>Sniper</td><td>Gen1</td><td>Bug</td><td>Poison</td><td>1</td></tr>",
                            "<tr><td>Sniper</td><td>Gen1</td><td>Normal</td><td>Flying</td><td>2</td></tr>",
                            "<tr><td>Sniper</td><td>Gen1</td><td>Water</td><td>NULL</td><td>2</td></tr>",
                            "<tr><td>Sniper</td><td>Gen2</td><td>Bug</td><td>Poison</td><td>2</td></tr>",
                            "<tr><td>Sniper</td><td>Gen2</td><td>Water</td><td>NULL</td><td>2</td></tr>",
                            "<tr><td>Sniper</td><td>Gen2</td><td>Water</td><td>Dragon</td><td>1</td></tr>",
                            "<tr><td>Snow Cloak</td><td>Gen1</td><td>Ice</td><td>Flying</td><td>1</td></tr>",
                            "<tr><td>Snow Cloak</td><td>Gen2</td><td>Ice</td><td>Ground</td><td>2</td></tr>",
                            "<tr><td>Solar Power</td><td>Gen1</td><td>Fire</td><td>NULL</td><td>2</td></tr>",
                            "<tr><td>Solar Power</td><td>Gen1</td><td>Fire</td><td>Flying</td><td>1</td></tr>",
                            "<tr><td>Solar Power</td><td>Gen2</td><td>Grass</td><td>NULL</td><td>2</td></tr>",
                            "<tr><td>Solar Power</td><td>Gen3</td><td>Grass</td><td>Flying</td><td>1</td></tr>",
                            "<tr><td>Solid Rock</td><td>Gen3</td><td>Fire</td><td>Ground</td><td>1</td></tr>",
                            "<tr><td>Soundproof</td><td>Gen1</td><td>Electric</td><td>NULL</td><td>2</td></tr>",
                            "<tr><td>Soundproof</td><td>Gen1</td><td>Psychic</td><td>Fairy</td><td>1</td></tr>",
                            "<tr><td>Soundproof</td><td>Gen3</td><td>Normal</td><td>NULL</td><td>3</td></tr>",
                            "<tr><td>Speed Boost</td><td>Gen2</td><td>Bug</td><td>Flying</td><td>1</td></tr>",
                            "<tr><td>Speed Boost</td><td>Gen3</td><td>Bug</td><td>Flying</td><td>1</td></tr>",
                            "<tr><td>Speed Boost</td><td>Gen3</td><td>Fire</td><td>NULL</td><td>3</td></tr>",
                            "<tr><td>Speed Boost</td><td>Gen3</td><td>Water</td><td>Dark</td><td>2</td></tr>",
                            "<tr><td>Stall</td><td>Gen3</td><td>Dark</td><td>Ghost</td><td>1</td></tr>",
                            "<tr><td>Static</td><td>Gen1</td><td>Electric</td><td>NULL</td><td>5</td></tr>",
                            "<tr><td>Static</td><td>Gen1</td><td>Electric</td><td>Flying</td><td>1</td></tr>",
                            "<tr><td>Static</td><td>Gen2</td><td>Electric</td><td>NULL</td><td>5</td></tr>",
                            "<tr><td>Static</td><td>Gen3</td><td>Electric</td><td>NULL</td><td>2</td></tr>",
                            "<tr><td>Steadfast</td><td>Gen1</td><td>Bug</td><td>Flying</td><td>1</td></tr>",
                            "<tr><td>Steadfast</td><td>Gen1</td><td>Fighting</td><td>NULL</td><td>3</td></tr>",
                            "<tr><td>Steadfast</td><td>Gen2</td><td>Fighting</td><td>NULL</td><td>2</td></tr>",
                            "<tr><td>Stench</td><td>Gen1</td><td>Grass</td><td>Poison</td><td>1</td></tr>",
                            "<tr><td>Stench</td><td>Gen1</td><td>Poison</td><td>NULL</td><td>4</td></tr>",
                            "<tr><td>Sticky Hold</td><td>Gen1</td><td>Poison</td><td>NULL</td><td>2</td></tr>",
                            "<tr><td>Sticky Hold</td><td>Gen3</td><td>Poison</td><td>NULL</td><td>2</td></tr>",
                            "<tr><td>Storm Drain</td><td>Gen3</td><td>Rock</td><td>Grass</td><td>2</td></tr>",
                            "<tr><td>Sturdy</td><td>Gen1</td><td>Electric</td><td>Steel</td><td>2</td></tr>",
                            "<tr><td>Sturdy</td><td>Gen1</td><td>Rock</td><td>Ground</td><td>4</td></tr>",
                            "<tr><td>Sturdy</td><td>Gen2</td><td>Bug</td><td>NULL</td><td>1</td></tr>",
                            "<tr><td>Sturdy</td><td>Gen2</td><td>Bug</td><td>Rock</td><td>1</td></tr>",
                            "<tr><td>Sturdy</td><td>Gen2</td><td>Bug</td><td>Steel</td><td>1</td></tr>",
                            "<tr><td>Sturdy</td><td>Gen2</td><td>Ground</td><td>NULL</td><td>1</td></tr>",
                            "<tr><td>Sturdy</td><td>Gen2</td><td>Rock</td><td>NULL</td><td>1</td></tr>",
                            "<tr><td>Sturdy</td><td>Gen2</td><td>Steel</td><td>Flying</td><td>1</td></tr>",
                            "<tr><td>Sturdy</td><td>Gen2</td><td>Steel</td><td>Ground</td><td>1</td></tr>",
                            "<tr><td>Sturdy</td><td>Gen3</td><td>Rock</td><td>NULL</td><td>2</td></tr>",
                            "<tr><td>Sturdy</td><td>Gen3</td><td>Steel</td><td>Rock</td><td>3</td></tr>",
                            "<tr><td>Sturdy</td><td>Gen3</td><td>Water</td><td>Rock</td><td>1</td></tr>",
                            "<tr><td>Suction Cups</td><td>Gen2</td><td>Water</td><td>NULL</td><td>1</td></tr>",
                            "<tr><td>Suction Cups</td><td>Gen3</td><td>Rock</td><td>Grass</td><td>2</td></tr>",
                            "<tr><td>Super Luck</td><td>Gen2</td><td>Dark</td><td>Flying</td><td>1</td></tr>",
                            "<tr><td>Super Luck</td><td>Gen2</td><td>Fairy</td><td>NULL</td><td>1</td></tr>",
                            "<tr><td>Super Luck</td><td>Gen2</td><td>Fairy</td><td>Flying</td><td>1</td></tr>",
                            "<tr><td>Super Luck</td><td>Gen3</td><td>Dark</td><td>NULL</td><td>1</td></tr>",
                            "<tr><td>Swarm</td><td>Gen1</td><td>Bug</td><td>Flying</td><td>1</td></tr>",
                            "<tr><td>Swarm</td><td>Gen1</td><td>Bug</td><td>Poison</td><td>1</td></tr>",
                            "<tr><td>Swarm</td><td>Gen2</td><td>Bug</td><td>Fighting</td><td>1</td></tr>",
                            "<tr><td>Swarm</td><td>Gen2</td><td>Bug</td><td>Flying</td><td>2</td></tr>",
                            "<tr><td>Swarm</td><td>Gen2</td><td>Bug</td><td>Poison</td><td>2</td></tr>",
                            "<tr><td>Swarm</td><td>Gen2</td><td>Bug</td><td>Steel</td><td>1</td></tr>",
                            "<tr><td>Swarm</td><td>Gen3</td><td>Bug</td><td>NULL</td><td>1</td></tr>",
                            "<tr><td>Swarm</td><td>Gen3</td><td>Bug</td><td>Flying</td><td>1</td></tr>",
                            "<tr><td>Swift Swim</td><td>Gen1</td><td>Rock</td><td>Water</td><td>4</td></tr>",
                            "<tr><td>Swift Swim</td><td>Gen1</td><td>Water</td><td>NULL</td><td>8</td></tr>",
                            "<tr><td>Swift Swim</td><td>Gen1</td><td>Water</td><td>Fighting</td><td>1</td></tr>",
                            "<tr><td>Swift Swim</td><td>Gen2</td><td>Water</td><td>Dragon</td><td>1</td></tr>",
                            "<tr><td>Swift Swim</td><td>Gen2</td><td>Water</td><td>Flying</td><td>1</td></tr>",
                            "<tr><td>Swift Swim</td><td>Gen2</td><td>Water</td><td>Poison</td><td>1</td></tr>",
                            "<tr><td>Swift Swim</td><td>Gen3</td><td>Bug</td><td>Water</td><td>1</td></tr>",
                            "<tr><td>Swift Swim</td><td>Gen3</td><td>Rock</td><td>Bug</td><td>2</td></tr>",
                            "<tr><td>Swift Swim</td><td>Gen3</td><td>Water</td><td>NULL</td><td>4</td></tr>",
                            "<tr><td>Swift Swim</td><td>Gen3</td><td>Water</td><td>Grass</td><td>3</td></tr>",
                            "<tr><td>Swift Swim</td><td>Gen3</td><td>Water</td><td>Rock</td><td>1</td></tr>",
                            "<tr><td>Synchronize</td><td>Gen1</td><td>Psychic</td><td>NULL</td><td>4</td></tr>",
                            "<tr><td>Synchronize</td><td>Gen2</td><td>Dark</td><td>NULL</td><td>1</td></tr>",
                            "<tr><td>Synchronize</td><td>Gen2</td><td>Psychic</td><td>NULL</td><td>1</td></tr>",
                            "<tr><td>Synchronize</td><td>Gen2</td><td>Psychic</td><td>Flying</td><td>2</td></tr>",
                            "<tr><td>Synchronize</td><td>Gen3</td><td>Psychic</td><td>Fairy</td><td>3</td></tr>",
                            "<tr><td>Tangled Feet</td><td>Gen1</td><td>Normal</td><td>Flying</td><td>5</td></tr>",
                            "<tr><td>Tangled Feet</td><td>Gen3</td><td>Normal</td><td>NULL</td><td>1</td></tr>",
                            "<tr><td>Technician</td><td>Gen1</td><td>Bug</td><td>Flying</td><td>1</td></tr>",
                            "<tr><td>Technician</td><td>Gen1</td><td>Normal</td><td>NULL</td><td>2</td></tr>",
                            "<tr><td>Technician</td><td>Gen1</td><td>Psychic</td><td>Fairy</td><td>1</td></tr>",
                            "<tr><td>Technician</td><td>Gen2</td><td>Bug</td><td>Steel</td><td>1</td></tr>",
                            "<tr><td>Technician</td><td>Gen2</td><td>Fighting</td><td>NULL</td><td>1</td></tr>",
                            "<tr><td>Technician</td><td>Gen2</td><td>Normal</td><td>NULL</td><td>1</td></tr>",
                            "<tr><td>Technician</td><td>Gen3</td><td>Grass</td><td>Fighting</td><td>1</td></tr>",
                            "<tr><td>Telepathy</td><td>Gen2</td><td>Psychic</td><td>NULL</td><td>1</td></tr>",
                            "<tr><td>Telepathy</td><td>Gen3</td><td>Fighting</td><td>Psychic</td><td>2</td></tr>",
                            "<tr><td>Telepathy</td><td>Gen3</td><td>Psychic</td><td>NULL</td><td>1</td></tr>",
                            "<tr><td>Telepathy</td><td>Gen3</td><td>Psychic</td><td>Fairy</td><td>3</td></tr>",
                            "<tr><td>Thick Fat</td><td>Gen1</td><td>Normal</td><td>NULL</td><td>1</td></tr>",
                            "<tr><td>Thick Fat</td><td>Gen1</td><td>Water</td><td>NULL</td><td>1</td></tr>",
                            "<tr><td>Thick Fat</td><td>Gen1</td><td>Water</td><td>Ice</td><td>1</td></tr>",
                            "<tr><td>Thick Fat</td><td>Gen2</td><td>Ice</td><td>Ground</td><td>2</td></tr>",
                            "<tr><td>Thick Fat</td><td>Gen2</td><td>Normal</td><td>NULL</td><td>1</td></tr>",
                            "<tr><td>Thick Fat</td><td>Gen2</td><td>Water</td><td>Fairy</td><td>2</td></tr>",
                            "<tr><td>Thick Fat</td><td>Gen3</td><td>Fighting</td><td>NULL</td><td>2</td></tr>",
                            "<tr><td>Thick Fat</td><td>Gen3</td><td>Ice</td><td>Water</td><td>3</td></tr>",
                            "<tr><td>Thick Fat</td><td>Gen3</td><td>Normal</td><td>Fairy</td><td>1</td></tr>",
                            "<tr><td>Thick Fat</td><td>Gen3</td><td>Psychic</td><td>NULL</td><td>2</td></tr>",
                            "<tr><td>Tinted Lens</td><td>Gen1</td><td>Bug</td><td>Flying</td><td>1</td></tr>",
                            "<tr><td>Tinted Lens</td><td>Gen1</td><td>Bug</td><td>Poison</td><td>2</td></tr>",
                            "<tr><td>Tinted Lens</td><td>Gen2</td><td>Normal</td><td>Flying</td><td>2</td></tr>",
                            "<tr><td>Tinted Lens</td><td>Gen3</td><td>Bug</td><td>NULL</td><td>1</td></tr>",
                            "<tr><td>Torrent</td><td>Gen1</td><td>Water</td><td>NULL</td><td>3</td></tr>",
                            "<tr><td>Torrent</td><td>Gen2</td><td>Water</td><td>NULL</td><td>3</td></tr>",
                            "<tr><td>Torrent</td><td>Gen3</td><td>Water</td><td>NULL</td><td>3</td></tr>",
                            "<tr><td>Toxic Boost</td><td>Gen3</td><td>Normal</td><td>NULL</td><td>1</td></tr>",
                            "<tr><td>Trace</td><td>Gen1</td><td>Normal</td><td>NULL</td><td>1</td></tr>",
                            "<tr><td>Trace</td><td>Gen2</td><td>Normal</td><td>NULL</td><td>1</td></tr>",
                            "<tr><td>Trace</td><td>Gen3</td><td>Psychic</td><td>Fairy</td><td>3</td></tr>",
                            "<tr><td>Truant</td><td>Gen3</td><td>Normal</td><td>NULL</td><td>2</td></tr>",
                            "<tr><td>Unaware</td><td>Gen2</td><td>Water</td><td>Ground</td><td>2</td></tr>",
                            "<tr><td>Unburden</td><td>Gen1</td><td>Fight</td><td>NULL</td><td>1</td></tr>",
                            "<tr><td>Unburden</td><td>Gen3</td><td>Grass</td><td>NULL</td><td>3</td></tr>",
                            "<tr><td>Unnerve</td><td>Gen1</td><td>Normal</td><td>NULL</td><td>2</td></tr>",
                            "<tr><td>Unnerve</td><td>Gen1</td><td>Poison</td><td>NULL</td><td>2</td></tr>",
                            "<tr><td>Unnerve</td><td>Gen1</td><td>Psychic</td><td>NULL</td><td>1</td></tr>",
                            "<tr><td>Unnerve</td><td>Gen1</td><td>Rock</td><td>Flying</td><td>1</td></tr>",
                            "<tr><td>Unnerve</td><td>Gen2</td><td>Dark</td><td>Fire</td><td>2</td></tr>",
                            "<tr><td>Unnerve</td><td>Gen2</td><td>Normal</td><td>NULL</td><td>1</td></tr>",
                            "<tr><td>Unnerve</td><td>Gen2</td><td>Rock</td><td>Dark</td><td>1</td></tr>",
                            "<tr><td>Unnerve</td><td>Gen3</td><td>Bug</td><td>Flying</td><td>1</td></tr>",
                            "<tr><td>Vital Spirit</td><td>Gen1</td><td>Electric</td><td>NULL</td><td>1</td></tr>",
                            "<tr><td>Vital Spirit</td><td>Gen1</td><td>Fighting</td><td>NULL</td><td>2</td></tr>",
                            "<tr><td>Vital Spirit</td><td>Gen1</td><td>Fire</td><td>NULL</td><td>1</td></tr>",
                            "<tr><td>Vital Spirit</td><td>Gen2</td><td>Electric</td><td>NULL</td><td>1</td></tr>",
                            "<tr><td>Vital Spirit</td><td>Gen2</td><td>Fighting</td><td>NULL</td><td>1</td></tr>",
                            "<tr><td>Vital Spirit</td><td>Gen2</td><td>Fire</td><td>NULL</td><td>1</td></tr>",
                            "<tr><td>Vital Spirit</td><td>Gen2</td><td>Ice</td><td>Flying</td><td>1</td></tr>",
                            "<tr><td>Vital Spirit</td><td>Gen3</td><td>Normal</td><td>NULL</td><td>1</td></tr>",
                            "<tr><td>Volt Absorb</td><td>Gen1</td><td>Electric</td><td>NULL</td><td>1</td></tr>",
                            "<tr><td>Volt Absorb</td><td>Gen2</td><td>Water</td><td>Electric</td><td>2</td></tr>",
                            "<tr><td>Volt Absorb</td><td>Gen3</td><td>Electric</td><td>NULL</td><td>1</td></tr>",
                            "<tr><td>Water Absorb</td><td>Gen1</td><td>Water</td><td>NULL</td><td>3</td></tr>",
                            "<tr><td>Water Absorb</td><td>Gen1</td><td>Water</td><td>Fighting</td><td>1</td></tr>",
                            "<tr><td>Water Absorb</td><td>Gen1</td><td>Water</td><td>Ice</td><td>1</td></tr>",
                            "<tr><td>Water Absorb</td><td>Gen2</td><td>Water</td><td>NULL</td><td>1</td></tr>",
                            "<tr><td>Water Absorb</td><td>Gen2</td><td>Water</td><td>Electric</td><td>2</td></tr>",
                            "<tr><td>Water Absorb</td><td>Gen2</td><td>Water</td><td>Flying</td><td>1</td></tr>",
                            "<tr><td>Water Absorb</td><td>Gen2</td><td>Water</td><td>Ground</td><td>2</td></tr>",
                            "<tr><td>Water Absorb</td><td>Gen3</td><td>Grass</td><td>NULL</td><td>1</td></tr>",
                            "<tr><td>Water Absorb</td><td>Gen3</td><td>Grass</td><td>Dark</td><td>1</td></tr>",
                            "<tr><td>Water Veil</td><td>Gen1</td><td>Water</td><td>NULL</td><td>2</td></tr>",
                            "<tr><td>Water Veil</td><td>Gen2</td><td>Water</td><td>Flying</td><td>1</td></tr>",
                            "<tr><td>Water Veil</td><td>Gen3</td><td>Water</td><td>NULL</td><td>3</td></tr>",
                            "<tr><td>Weak Amour</td><td>Gen1</td><td>Rock</td><td>Water</td><td>4</td></tr>",
                            "<tr><td>Weak Armor</td><td>Gen1</td><td>Rock</td><td>Ground</td><td>1</td></tr>",
                            "<tr><td>Weak Armor</td><td>Gen2</td><td>Fire</td><td>NULL</td><td>1</td></tr>",
                            "<tr><td>Weak Armor</td><td>Gen2</td><td>Fire</td><td>Rock</td><td>1</td></tr>",
                            "<tr><td>Weak Armor</td><td>Gen2</td><td>Steel</td><td>Flying</td><td>1</td></tr>",
                            "<tr><td>White Smoke</td><td>Gen3</td><td>Fire</td><td>NULL</td><td>1</td></tr>",
                            "<tr><td>Wind Rider</td><td>Gen3</td><td>Grass</td><td>Dark</td><td>1</td></tr>",
                            "<tr><td>Wonder Guard</td><td>Gen3</td><td>Bug</td><td>Ghost</td><td>1</td></tr>",
                            "<tr><td>Wonder Skin</td><td>Gen1</td><td>Bug</td><td>Poison</td><td>1</td></tr>",
                            "<tr><td>Wonder Skin</td><td>Gen3</td><td>Normal</td><td>NULL</td><td>2</td></tr>",
                            "</table>"
                        ]
                    }
                }
            ],
            "execution_count": 8
        },
        {
            "cell_type": "code",
            "source": [
                "--8\n",
                "--write an SQL query that lists each product that has a unit price above the average unit price within its category\n",
                "USE Northwinds2022TSQLV7; \n",
                "SELECT p.ProductID, p.ProductName, p.UnitPrice, c.CategoryName\n",
                "FROM Production.Product p\n",
                "INNER JOIN Production.Category c ON p.CategoryID = c.CategoryID\n",
                "WHERE p.UnitPrice > (\n",
                "    SELECT AVG(UnitPrice)\n",
                "    FROM Production.Product\n",
                "    WHERE CategoryID = p.CategoryID\n",
                ")\n",
                "ORDER BY c.CategoryName, p.UnitPrice DESC;\n",
                "\n",
                "\n",
                "\n",
                "\n",
                ""
            ],
            "metadata": {
                "azdata_cell_guid": "7fc7dfc3-75dd-4679-b36e-65bce1a82cdf",
                "language": "sql"
            },
            "outputs": [
                {
                    "output_type": "display_data",
                    "data": {
                        "text/html": "(27 rows affected)"
                    },
                    "metadata": {}
                },
                {
                    "output_type": "display_data",
                    "data": {
                        "text/html": "Total execution time: 00:00:00.063"
                    },
                    "metadata": {}
                },
                {
                    "output_type": "execute_result",
                    "execution_count": 28,
                    "data": {
                        "application/vnd.dataresource+json": {
                            "schema": {
                                "fields": [
                                    {
                                        "name": "ProductID"
                                    },
                                    {
                                        "name": "ProductName"
                                    },
                                    {
                                        "name": "UnitPrice"
                                    },
                                    {
                                        "name": "CategoryName"
                                    }
                                ]
                            },
                            "data": [
                                {
                                    "ProductID": "38",
                                    "ProductName": "Product QDOMO",
                                    "UnitPrice": "263.50",
                                    "CategoryName": "Beverages"
                                },
                                {
                                    "ProductID": "43",
                                    "ProductName": "Product ZZZHumanResources",
                                    "UnitPrice": "46.00",
                                    "CategoryName": "Beverages"
                                },
                                {
                                    "ProductID": "63",
                                    "ProductName": "Product ICKNK",
                                    "UnitPrice": "43.90",
                                    "CategoryName": "Condiments"
                                },
                                {
                                    "ProductID": "8",
                                    "ProductName": "Product WVJFP",
                                    "UnitPrice": "40.00",
                                    "CategoryName": "Condiments"
                                },
                                {
                                    "ProductID": "61",
                                    "ProductName": "Product XYZPE",
                                    "UnitPrice": "28.50",
                                    "CategoryName": "Condiments"
                                },
                                {
                                    "ProductID": "6",
                                    "ProductName": "Product VAIIV",
                                    "UnitPrice": "25.00",
                                    "CategoryName": "Condiments"
                                },
                                {
                                    "ProductID": "20",
                                    "ProductName": "Product QHFFP",
                                    "UnitPrice": "81.00",
                                    "CategoryName": "Confections"
                                },
                                {
                                    "ProductID": "62",
                                    "ProductName": "Product WUXYK",
                                    "UnitPrice": "49.30",
                                    "CategoryName": "Confections"
                                },
                                {
                                    "ProductID": "27",
                                    "ProductName": "Product SMIOH",
                                    "UnitPrice": "43.90",
                                    "CategoryName": "Confections"
                                },
                                {
                                    "ProductID": "26",
                                    "ProductName": "Product HLGZA",
                                    "UnitPrice": "31.23",
                                    "CategoryName": "Confections"
                                },
                                {
                                    "ProductID": "59",
                                    "ProductName": "Product UKXRI",
                                    "UnitPrice": "55.00",
                                    "CategoryName": "Dairy Products"
                                },
                                {
                                    "ProductID": "12",
                                    "ProductName": "Product OSFNS",
                                    "UnitPrice": "38.00",
                                    "CategoryName": "Dairy Products"
                                },
                                {
                                    "ProductID": "69",
                                    "ProductName": "Product COAXA",
                                    "UnitPrice": "36.00",
                                    "CategoryName": "Dairy Products"
                                },
                                {
                                    "ProductID": "72",
                                    "ProductName": "Product GEEOO",
                                    "UnitPrice": "34.80",
                                    "CategoryName": "Dairy Products"
                                },
                                {
                                    "ProductID": "60",
                                    "ProductName": "Product WHBYK",
                                    "UnitPrice": "34.00",
                                    "CategoryName": "Dairy Products"
                                },
                                {
                                    "ProductID": "32",
                                    "ProductName": "Product NUNAW",
                                    "UnitPrice": "32.00",
                                    "CategoryName": "Dairy Products"
                                },
                                {
                                    "ProductID": "56",
                                    "ProductName": "Product VKCMF",
                                    "UnitPrice": "38.00",
                                    "CategoryName": "Grains/Cereals"
                                },
                                {
                                    "ProductID": "64",
                                    "ProductName": "Product HCQDE",
                                    "UnitPrice": "33.25",
                                    "CategoryName": "Grains/Cereals"
                                },
                                {
                                    "ProductID": "22",
                                    "ProductName": "Product CPHFY",
                                    "UnitPrice": "21.00",
                                    "CategoryName": "Grains/Cereals"
                                },
                                {
                                    "ProductID": "29",
                                    "ProductName": "Product VJXYN",
                                    "UnitPrice": "123.79",
                                    "CategoryName": "Meat/Poultry"
                                },
                                {
                                    "ProductID": "9",
                                    "ProductName": "Product AOZBW",
                                    "UnitPrice": "97.00",
                                    "CategoryName": "Meat/Poultry"
                                },
                                {
                                    "ProductID": "51",
                                    "ProductName": "Product APITJ",
                                    "UnitPrice": "53.00",
                                    "CategoryName": "Produce"
                                },
                                {
                                    "ProductID": "28",
                                    "ProductName": "Product OFBNT",
                                    "UnitPrice": "45.60",
                                    "CategoryName": "Produce"
                                },
                                {
                                    "ProductID": "18",
                                    "ProductName": "Product CKEDC",
                                    "UnitPrice": "62.50",
                                    "CategoryName": "Seafood"
                                },
                                {
                                    "ProductID": "10",
                                    "ProductName": "Product YHXGE",
                                    "UnitPrice": "31.00",
                                    "CategoryName": "Seafood"
                                },
                                {
                                    "ProductID": "37",
                                    "ProductName": "Product EVFFA",
                                    "UnitPrice": "26.00",
                                    "CategoryName": "Seafood"
                                },
                                {
                                    "ProductID": "30",
                                    "ProductName": "Product LYERX",
                                    "UnitPrice": "25.89",
                                    "CategoryName": "Seafood"
                                }
                            ]
                        },
                        "text/html": "<table><tr><th>ProductID</th><th>ProductName</th><th>UnitPrice</th><th>CategoryName</th></tr><tr><td>38</td><td>Product QDOMO</td><td>263.50</td><td>Beverages</td></tr><tr><td>43</td><td>Product ZZZHumanResources</td><td>46.00</td><td>Beverages</td></tr><tr><td>63</td><td>Product ICKNK</td><td>43.90</td><td>Condiments</td></tr><tr><td>8</td><td>Product WVJFP</td><td>40.00</td><td>Condiments</td></tr><tr><td>61</td><td>Product XYZPE</td><td>28.50</td><td>Condiments</td></tr><tr><td>6</td><td>Product VAIIV</td><td>25.00</td><td>Condiments</td></tr><tr><td>20</td><td>Product QHFFP</td><td>81.00</td><td>Confections</td></tr><tr><td>62</td><td>Product WUXYK</td><td>49.30</td><td>Confections</td></tr><tr><td>27</td><td>Product SMIOH</td><td>43.90</td><td>Confections</td></tr><tr><td>26</td><td>Product HLGZA</td><td>31.23</td><td>Confections</td></tr><tr><td>59</td><td>Product UKXRI</td><td>55.00</td><td>Dairy Products</td></tr><tr><td>12</td><td>Product OSFNS</td><td>38.00</td><td>Dairy Products</td></tr><tr><td>69</td><td>Product COAXA</td><td>36.00</td><td>Dairy Products</td></tr><tr><td>72</td><td>Product GEEOO</td><td>34.80</td><td>Dairy Products</td></tr><tr><td>60</td><td>Product WHBYK</td><td>34.00</td><td>Dairy Products</td></tr><tr><td>32</td><td>Product NUNAW</td><td>32.00</td><td>Dairy Products</td></tr><tr><td>56</td><td>Product VKCMF</td><td>38.00</td><td>Grains/Cereals</td></tr><tr><td>64</td><td>Product HCQDE</td><td>33.25</td><td>Grains/Cereals</td></tr><tr><td>22</td><td>Product CPHFY</td><td>21.00</td><td>Grains/Cereals</td></tr><tr><td>29</td><td>Product VJXYN</td><td>123.79</td><td>Meat/Poultry</td></tr><tr><td>9</td><td>Product AOZBW</td><td>97.00</td><td>Meat/Poultry</td></tr><tr><td>51</td><td>Product APITJ</td><td>53.00</td><td>Produce</td></tr><tr><td>28</td><td>Product OFBNT</td><td>45.60</td><td>Produce</td></tr><tr><td>18</td><td>Product CKEDC</td><td>62.50</td><td>Seafood</td></tr><tr><td>10</td><td>Product YHXGE</td><td>31.00</td><td>Seafood</td></tr><tr><td>37</td><td>Product EVFFA</td><td>26.00</td><td>Seafood</td></tr><tr><td>30</td><td>Product LYERX</td><td>25.89</td><td>Seafood</td></tr></table>"
                    },
                    "metadata": {}
                }
            ],
            "execution_count": 28
        },
        {
            "cell_type": "code",
            "source": [
                "--9\n",
                "--find the average unit price of products in each category, displaying the category name and the average price, sorted by average price\n",
                "USE Northwinds2022TSQLV7;\n",
                "SELECT c.CategoryName, AVG(p.UnitPrice) AS AveragePrice\n",
                "FROM Production.Product p\n",
                "JOIN Production.Category c ON p.CategoryID = c.CategoryID\n",
                "GROUP BY c.CategoryName\n",
                "ORDER BY AveragePrice DESC;\n",
                ""
            ],
            "metadata": {
                "language": "sql",
                "azdata_cell_guid": "05c6a7fb-5159-45d5-8429-d426363d0f4f"
            },
            "outputs": [
                {
                    "output_type": "display_data",
                    "data": {
                        "text/html": "(8 rows affected)"
                    },
                    "metadata": {}
                },
                {
                    "output_type": "display_data",
                    "data": {
                        "text/html": "Total execution time: 00:00:00.042"
                    },
                    "metadata": {}
                },
                {
                    "output_type": "execute_result",
                    "execution_count": 29,
                    "data": {
                        "application/vnd.dataresource+json": {
                            "schema": {
                                "fields": [
                                    {
                                        "name": "CategoryName"
                                    },
                                    {
                                        "name": "AveragePrice"
                                    }
                                ]
                            },
                            "data": [
                                {
                                    "CategoryName": "Meat/Poultry",
                                    "AveragePrice": "54.0066"
                                },
                                {
                                    "CategoryName": "Beverages",
                                    "AveragePrice": "37.9791"
                                },
                                {
                                    "CategoryName": "Produce",
                                    "AveragePrice": "32.37"
                                },
                                {
                                    "CategoryName": "Dairy Products",
                                    "AveragePrice": "28.73"
                                },
                                {
                                    "CategoryName": "Confections",
                                    "AveragePrice": "25.16"
                                },
                                {
                                    "CategoryName": "Condiments",
                                    "AveragePrice": "23.0625"
                                },
                                {
                                    "CategoryName": "Seafood",
                                    "AveragePrice": "20.6825"
                                },
                                {
                                    "CategoryName": "Grains/Cereals",
                                    "AveragePrice": "20.25"
                                }
                            ]
                        },
                        "text/html": "<table><tr><th>CategoryName</th><th>AveragePrice</th></tr><tr><td>Meat/Poultry</td><td>54.0066</td></tr><tr><td>Beverages</td><td>37.9791</td></tr><tr><td>Produce</td><td>32.37</td></tr><tr><td>Dairy Products</td><td>28.73</td></tr><tr><td>Confections</td><td>25.16</td></tr><tr><td>Condiments</td><td>23.0625</td></tr><tr><td>Seafood</td><td>20.6825</td></tr><tr><td>Grains/Cereals</td><td>20.25</td></tr></table>"
                    },
                    "metadata": {}
                }
            ],
            "execution_count": 29
        },
        {
            "cell_type": "code",
            "source": [
                "--10\n",
                "--calculating the total order amount for each customer and displaying those who have spent more than $100000,\n",
                "\n",
                "USE Northwinds2022TSQLV7; \n",
                "SELECT o.CustomerID, SUM(od.UnitPrice * od.Quantity) AS TotalSpent\n",
                "FROM Sales.[Order] o\n",
                "JOIN Sales.OrderDetail od ON o.OrderID = od.OrderID\n",
                "GROUP BY o.CustomerID\n",
                "HAVING SUM(od.UnitPrice * od.Quantity) > 100000\n",
                "ORDER BY TotalSpent DESC;\n",
                ""
            ],
            "metadata": {
                "language": "sql",
                "azdata_cell_guid": "038598fb-7a28-4699-b401-b626d907bac9"
            },
            "outputs": [
                {
                    "output_type": "display_data",
                    "data": {
                        "text/html": "(3 rows affected)"
                    },
                    "metadata": {}
                },
                {
                    "output_type": "display_data",
                    "data": {
                        "text/html": "Total execution time: 00:00:00.021"
                    },
                    "metadata": {}
                },
                {
                    "output_type": "execute_result",
                    "execution_count": 33,
                    "data": {
                        "application/vnd.dataresource+json": {
                            "schema": {
                                "fields": [
                                    {
                                        "name": "CustomerID"
                                    },
                                    {
                                        "name": "TotalSpent"
                                    }
                                ]
                            },
                            "data": [
                                {
                                    "CustomerID": "63",
                                    "TotalSpent": "117483.39"
                                },
                                {
                                    "CustomerID": "71",
                                    "TotalSpent": "115673.39"
                                },
                                {
                                    "CustomerID": "20",
                                    "TotalSpent": "113236.68"
                                }
                            ]
                        },
                        "text/html": "<table><tr><th>CustomerID</th><th>TotalSpent</th></tr><tr><td>63</td><td>117483.39</td></tr><tr><td>71</td><td>115673.39</td></tr><tr><td>20</td><td>113236.68</td></tr></table>"
                    },
                    "metadata": {}
                }
            ],
            "execution_count": 33
        },
        {
            "cell_type": "code",
            "source": [
                "-11\n",
                "-- listing all products that have never been ordered\n",
                "USE Northwinds2022TSQLV7; \n",
                "SELECT p.ProductID, p.ProductName\n",
                "FROM Production.Product p\n",
                "WHERE NOT EXISTS (\n",
                "    SELECT 1\n",
                "    FROM Sales.OrderDetail od\n",
                "    WHERE p.ProductID = od.ProductID\n",
                ");\n",
                ""
            ],
            "metadata": {
                "language": "sql",
                "azdata_cell_guid": "b2f0abc7-a189-4a40-8345-5141fa41ce7f"
            },
            "outputs": [
                {
                    "output_type": "display_data",
                    "data": {
                        "text/html": "(0 rows affected)"
                    },
                    "metadata": {}
                },
                {
                    "output_type": "display_data",
                    "data": {
                        "text/html": "Total execution time: 00:00:00.005"
                    },
                    "metadata": {}
                },
                {
                    "output_type": "execute_result",
                    "execution_count": 35,
                    "data": {
                        "application/vnd.dataresource+json": {
                            "schema": {
                                "fields": [
                                    {
                                        "name": "ProductID"
                                    },
                                    {
                                        "name": "ProductName"
                                    }
                                ]
                            },
                            "data": []
                        },
                        "text/html": "<table><tr><th>ProductID</th><th>ProductName</th></tr></table>"
                    },
                    "metadata": {}
                }
            ],
            "execution_count": 35
        },
        {
            "cell_type": "code",
            "source": [
                "-12\n",
                "-- find the average price of products in each category\n",
                "USE Northwinds2022TSQLV7;\n",
                "SELECT c.CategoryName, AVG(p.UnitPrice) AS AveragePrice\n",
                "FROM Production.Product p\n",
                "JOIN Production.Category c ON p.CategoryID = c.CategoryID\n",
                "GROUP BY c.CategoryName\n",
                "HAVING COUNT(p.ProductID) > 5\n",
                "ORDER BY AveragePrice ASC;\n",
                ""
            ],
            "metadata": {
                "language": "sql",
                "azdata_cell_guid": "b92ef4b8-e90b-4c82-b0a5-569665e4b343"
            },
            "outputs": [
                {
                    "output_type": "display_data",
                    "data": {
                        "text/html": "(7 rows affected)"
                    },
                    "metadata": {}
                },
                {
                    "output_type": "display_data",
                    "data": {
                        "text/html": "Total execution time: 00:00:00.064"
                    },
                    "metadata": {}
                },
                {
                    "output_type": "execute_result",
                    "execution_count": 36,
                    "data": {
                        "application/vnd.dataresource+json": {
                            "schema": {
                                "fields": [
                                    {
                                        "name": "CategoryName"
                                    },
                                    {
                                        "name": "AveragePrice"
                                    }
                                ]
                            },
                            "data": [
                                {
                                    "CategoryName": "Grains/Cereals",
                                    "AveragePrice": "20.25"
                                },
                                {
                                    "CategoryName": "Seafood",
                                    "AveragePrice": "20.6825"
                                },
                                {
                                    "CategoryName": "Condiments",
                                    "AveragePrice": "23.0625"
                                },
                                {
                                    "CategoryName": "Confections",
                                    "AveragePrice": "25.16"
                                },
                                {
                                    "CategoryName": "Dairy Products",
                                    "AveragePrice": "28.73"
                                },
                                {
                                    "CategoryName": "Beverages",
                                    "AveragePrice": "37.9791"
                                },
                                {
                                    "CategoryName": "Meat/Poultry",
                                    "AveragePrice": "54.0066"
                                }
                            ]
                        },
                        "text/html": "<table><tr><th>CategoryName</th><th>AveragePrice</th></tr><tr><td>Grains/Cereals</td><td>20.25</td></tr><tr><td>Seafood</td><td>20.6825</td></tr><tr><td>Condiments</td><td>23.0625</td></tr><tr><td>Confections</td><td>25.16</td></tr><tr><td>Dairy Products</td><td>28.73</td></tr><tr><td>Beverages</td><td>37.9791</td></tr><tr><td>Meat/Poultry</td><td>54.0066</td></tr></table>"
                    },
                    "metadata": {}
                }
            ],
            "execution_count": 36
        },
        {
            "cell_type": "code",
            "source": [
                "-13\n",
                "--calculating the total sales for each month and year\n",
                "USE Northwinds2022TSQLV7;\n",
                "SELECT\n",
                "    YEAR(o.OrderDate) AS OrderYear,\n",
                "    MONTH(o.OrderDate) AS OrderMonth,\n",
                "    SUM(od.Quantity * od.UnitPrice) AS TotalSales\n",
                "FROM Sales.[Order] o\n",
                "JOIN Sales.OrderDetail od ON o.OrderID = od.OrderID\n",
                "GROUP BY YEAR(o.OrderDate), MONTH(o.OrderDate)\n",
                "ORDER BY OrderYear, OrderMonth;\n",
                ""
            ],
            "metadata": {
                "language": "sql",
                "azdata_cell_guid": "c67f19de-d055-4d92-93c6-108dd08cbe5e"
            },
            "outputs": [
                {
                    "output_type": "display_data",
                    "data": {
                        "text/html": "(23 rows affected)"
                    },
                    "metadata": {}
                },
                {
                    "output_type": "display_data",
                    "data": {
                        "text/html": "Total execution time: 00:00:00.068"
                    },
                    "metadata": {}
                },
                {
                    "output_type": "execute_result",
                    "execution_count": 38,
                    "data": {
                        "application/vnd.dataresource+json": {
                            "schema": {
                                "fields": [
                                    {
                                        "name": "OrderYear"
                                    },
                                    {
                                        "name": "OrderMonth"
                                    },
                                    {
                                        "name": "TotalSales"
                                    }
                                ]
                            },
                            "data": [
                                {
                                    "OrderYear": "2014",
                                    "OrderMonth": "7",
                                    "TotalSales": "30192.10"
                                },
                                {
                                    "OrderYear": "2014",
                                    "OrderMonth": "8",
                                    "TotalSales": "26609.40"
                                },
                                {
                                    "OrderYear": "2014",
                                    "OrderMonth": "9",
                                    "TotalSales": "27636.00"
                                },
                                {
                                    "OrderYear": "2014",
                                    "OrderMonth": "10",
                                    "TotalSales": "41203.60"
                                },
                                {
                                    "OrderYear": "2014",
                                    "OrderMonth": "11",
                                    "TotalSales": "49704.00"
                                },
                                {
                                    "OrderYear": "2014",
                                    "OrderMonth": "12",
                                    "TotalSales": "50953.40"
                                },
                                {
                                    "OrderYear": "2015",
                                    "OrderMonth": "1",
                                    "TotalSales": "66692.80"
                                },
                                {
                                    "OrderYear": "2015",
                                    "OrderMonth": "2",
                                    "TotalSales": "41207.20"
                                },
                                {
                                    "OrderYear": "2015",
                                    "OrderMonth": "3",
                                    "TotalSales": "39979.90"
                                },
                                {
                                    "OrderYear": "2015",
                                    "OrderMonth": "4",
                                    "TotalSales": "55699.39"
                                },
                                {
                                    "OrderYear": "2015",
                                    "OrderMonth": "5",
                                    "TotalSales": "56823.70"
                                },
                                {
                                    "OrderYear": "2015",
                                    "OrderMonth": "6",
                                    "TotalSales": "39088.00"
                                },
                                {
                                    "OrderYear": "2015",
                                    "OrderMonth": "7",
                                    "TotalSales": "55464.93"
                                },
                                {
                                    "OrderYear": "2015",
                                    "OrderMonth": "8",
                                    "TotalSales": "49981.69"
                                },
                                {
                                    "OrderYear": "2015",
                                    "OrderMonth": "9",
                                    "TotalSales": "59733.02"
                                },
                                {
                                    "OrderYear": "2015",
                                    "OrderMonth": "10",
                                    "TotalSales": "70328.50"
                                },
                                {
                                    "OrderYear": "2015",
                                    "OrderMonth": "11",
                                    "TotalSales": "45913.36"
                                },
                                {
                                    "OrderYear": "2015",
                                    "OrderMonth": "12",
                                    "TotalSales": "77476.26"
                                },
                                {
                                    "OrderYear": "2016",
                                    "OrderMonth": "1",
                                    "TotalSales": "100854.72"
                                },
                                {
                                    "OrderYear": "2016",
                                    "OrderMonth": "2",
                                    "TotalSales": "104561.95"
                                },
                                {
                                    "OrderYear": "2016",
                                    "OrderMonth": "3",
                                    "TotalSales": "109825.45"
                                },
                                {
                                    "OrderYear": "2016",
                                    "OrderMonth": "4",
                                    "TotalSales": "134630.56"
                                },
                                {
                                    "OrderYear": "2016",
                                    "OrderMonth": "5",
                                    "TotalSales": "19898.66"
                                }
                            ]
                        },
                        "text/html": "<table><tr><th>OrderYear</th><th>OrderMonth</th><th>TotalSales</th></tr><tr><td>2014</td><td>7</td><td>30192.10</td></tr><tr><td>2014</td><td>8</td><td>26609.40</td></tr><tr><td>2014</td><td>9</td><td>27636.00</td></tr><tr><td>2014</td><td>10</td><td>41203.60</td></tr><tr><td>2014</td><td>11</td><td>49704.00</td></tr><tr><td>2014</td><td>12</td><td>50953.40</td></tr><tr><td>2015</td><td>1</td><td>66692.80</td></tr><tr><td>2015</td><td>2</td><td>41207.20</td></tr><tr><td>2015</td><td>3</td><td>39979.90</td></tr><tr><td>2015</td><td>4</td><td>55699.39</td></tr><tr><td>2015</td><td>5</td><td>56823.70</td></tr><tr><td>2015</td><td>6</td><td>39088.00</td></tr><tr><td>2015</td><td>7</td><td>55464.93</td></tr><tr><td>2015</td><td>8</td><td>49981.69</td></tr><tr><td>2015</td><td>9</td><td>59733.02</td></tr><tr><td>2015</td><td>10</td><td>70328.50</td></tr><tr><td>2015</td><td>11</td><td>45913.36</td></tr><tr><td>2015</td><td>12</td><td>77476.26</td></tr><tr><td>2016</td><td>1</td><td>100854.72</td></tr><tr><td>2016</td><td>2</td><td>104561.95</td></tr><tr><td>2016</td><td>3</td><td>109825.45</td></tr><tr><td>2016</td><td>4</td><td>134630.56</td></tr><tr><td>2016</td><td>5</td><td>19898.66</td></tr></table>"
                    },
                    "metadata": {}
                }
            ],
            "execution_count": 38
        },
        {
            "cell_type": "code",
            "source": [
                "\n",
                "--14\n",
                "--how many orders each customer has placed in each year\n",
                "USE Northwinds2022TSQLV7; \n",
                "SELECT \n",
                "    CustomerID, \n",
                "    YEAR(OrderDate) AS OrderYear, \n",
                "    COUNT(OrderID) AS NumberOfOrders\n",
                "FROM Sales.[Order]\n",
                "GROUP BY CustomerID, YEAR(OrderDate)\n",
                "ORDER BY CustomerID, OrderYear;\n",
                ""
            ],
            "metadata": {
                "azdata_cell_guid": "e8e03f4c-3f0a-4787-bb7b-d95ac67cdee3",
                "language": "sql"
            },
            "outputs": [
                {
                    "output_type": "display_data",
                    "data": {
                        "text/html": "(234 rows affected)"
                    },
                    "metadata": {}
                },
                {
                    "output_type": "display_data",
                    "data": {
                        "text/html": "Total execution time: 00:00:00.040"
                    },
                    "metadata": {}
                },
                {
                    "output_type": "execute_result",
                    "execution_count": 39,
                    "data": {
                        "application/vnd.dataresource+json": {
                            "schema": {
                                "fields": [
                                    {
                                        "name": "CustomerID"
                                    },
                                    {
                                        "name": "OrderYear"
                                    },
                                    {
                                        "name": "NumberOfOrders"
                                    }
                                ]
                            },
                            "data": [
                                {
                                    "CustomerID": "1",
                                    "OrderYear": "2015",
                                    "NumberOfOrders": "3"
                                },
                                {
                                    "CustomerID": "1",
                                    "OrderYear": "2016",
                                    "NumberOfOrders": "3"
                                },
                                {
                                    "CustomerID": "2",
                                    "OrderYear": "2014",
                                    "NumberOfOrders": "1"
                                },
                                {
                                    "CustomerID": "2",
                                    "OrderYear": "2015",
                                    "NumberOfOrders": "2"
                                },
                                {
                                    "CustomerID": "2",
                                    "OrderYear": "2016",
                                    "NumberOfOrders": "1"
                                },
                                {
                                    "CustomerID": "3",
                                    "OrderYear": "2014",
                                    "NumberOfOrders": "1"
                                },
                                {
                                    "CustomerID": "3",
                                    "OrderYear": "2015",
                                    "NumberOfOrders": "5"
                                },
                                {
                                    "CustomerID": "3",
                                    "OrderYear": "2016",
                                    "NumberOfOrders": "1"
                                },
                                {
                                    "CustomerID": "4",
                                    "OrderYear": "2014",
                                    "NumberOfOrders": "2"
                                },
                                {
                                    "CustomerID": "4",
                                    "OrderYear": "2015",
                                    "NumberOfOrders": "7"
                                },
                                {
                                    "CustomerID": "4",
                                    "OrderYear": "2016",
                                    "NumberOfOrders": "4"
                                },
                                {
                                    "CustomerID": "5",
                                    "OrderYear": "2014",
                                    "NumberOfOrders": "3"
                                },
                                {
                                    "CustomerID": "5",
                                    "OrderYear": "2015",
                                    "NumberOfOrders": "10"
                                },
                                {
                                    "CustomerID": "5",
                                    "OrderYear": "2016",
                                    "NumberOfOrders": "5"
                                },
                                {
                                    "CustomerID": "6",
                                    "OrderYear": "2015",
                                    "NumberOfOrders": "4"
                                },
                                {
                                    "CustomerID": "6",
                                    "OrderYear": "2016",
                                    "NumberOfOrders": "3"
                                },
                                {
                                    "CustomerID": "7",
                                    "OrderYear": "2014",
                                    "NumberOfOrders": "3"
                                },
                                {
                                    "CustomerID": "7",
                                    "OrderYear": "2015",
                                    "NumberOfOrders": "7"
                                },
                                {
                                    "CustomerID": "7",
                                    "OrderYear": "2016",
                                    "NumberOfOrders": "1"
                                },
                                {
                                    "CustomerID": "8",
                                    "OrderYear": "2014",
                                    "NumberOfOrders": "1"
                                },
                                {
                                    "CustomerID": "8",
                                    "OrderYear": "2015",
                                    "NumberOfOrders": "1"
                                },
                                {
                                    "CustomerID": "8",
                                    "OrderYear": "2016",
                                    "NumberOfOrders": "1"
                                },
                                {
                                    "CustomerID": "9",
                                    "OrderYear": "2014",
                                    "NumberOfOrders": "3"
                                },
                                {
                                    "CustomerID": "9",
                                    "OrderYear": "2015",
                                    "NumberOfOrders": "8"
                                },
                                {
                                    "CustomerID": "9",
                                    "OrderYear": "2016",
                                    "NumberOfOrders": "6"
                                },
                                {
                                    "CustomerID": "10",
                                    "OrderYear": "2014",
                                    "NumberOfOrders": "1"
                                },
                                {
                                    "CustomerID": "10",
                                    "OrderYear": "2015",
                                    "NumberOfOrders": "5"
                                },
                                {
                                    "CustomerID": "10",
                                    "OrderYear": "2016",
                                    "NumberOfOrders": "8"
                                },
                                {
                                    "CustomerID": "11",
                                    "OrderYear": "2014",
                                    "NumberOfOrders": "1"
                                },
                                {
                                    "CustomerID": "11",
                                    "OrderYear": "2015",
                                    "NumberOfOrders": "6"
                                },
                                {
                                    "CustomerID": "11",
                                    "OrderYear": "2016",
                                    "NumberOfOrders": "3"
                                },
                                {
                                    "CustomerID": "12",
                                    "OrderYear": "2015",
                                    "NumberOfOrders": "2"
                                },
                                {
                                    "CustomerID": "12",
                                    "OrderYear": "2016",
                                    "NumberOfOrders": "4"
                                },
                                {
                                    "CustomerID": "13",
                                    "OrderYear": "2014",
                                    "NumberOfOrders": "1"
                                },
                                {
                                    "CustomerID": "14",
                                    "OrderYear": "2014",
                                    "NumberOfOrders": "2"
                                },
                                {
                                    "CustomerID": "14",
                                    "OrderYear": "2015",
                                    "NumberOfOrders": "3"
                                },
                                {
                                    "CustomerID": "14",
                                    "OrderYear": "2016",
                                    "NumberOfOrders": "3"
                                },
                                {
                                    "CustomerID": "15",
                                    "OrderYear": "2014",
                                    "NumberOfOrders": "1"
                                },
                                {
                                    "CustomerID": "15",
                                    "OrderYear": "2015",
                                    "NumberOfOrders": "2"
                                },
                                {
                                    "CustomerID": "15",
                                    "OrderYear": "2016",
                                    "NumberOfOrders": "2"
                                },
                                {
                                    "CustomerID": "16",
                                    "OrderYear": "2015",
                                    "NumberOfOrders": "2"
                                },
                                {
                                    "CustomerID": "16",
                                    "OrderYear": "2016",
                                    "NumberOfOrders": "1"
                                },
                                {
                                    "CustomerID": "17",
                                    "OrderYear": "2014",
                                    "NumberOfOrders": "2"
                                },
                                {
                                    "CustomerID": "17",
                                    "OrderYear": "2015",
                                    "NumberOfOrders": "1"
                                },
                                {
                                    "CustomerID": "17",
                                    "OrderYear": "2016",
                                    "NumberOfOrders": "3"
                                },
                                {
                                    "CustomerID": "18",
                                    "OrderYear": "2014",
                                    "NumberOfOrders": "1"
                                },
                                {
                                    "CustomerID": "18",
                                    "OrderYear": "2015",
                                    "NumberOfOrders": "2"
                                },
                                {
                                    "CustomerID": "18",
                                    "OrderYear": "2016",
                                    "NumberOfOrders": "1"
                                },
                                {
                                    "CustomerID": "19",
                                    "OrderYear": "2014",
                                    "NumberOfOrders": "1"
                                },
                                {
                                    "CustomerID": "19",
                                    "OrderYear": "2015",
                                    "NumberOfOrders": "3"
                                },
                                {
                                    "CustomerID": "19",
                                    "OrderYear": "2016",
                                    "NumberOfOrders": "4"
                                },
                                {
                                    "CustomerID": "20",
                                    "OrderYear": "2014",
                                    "NumberOfOrders": "6"
                                },
                                {
                                    "CustomerID": "20",
                                    "OrderYear": "2015",
                                    "NumberOfOrders": "15"
                                },
                                {
                                    "CustomerID": "20",
                                    "OrderYear": "2016",
                                    "NumberOfOrders": "9"
                                },
                                {
                                    "CustomerID": "21",
                                    "OrderYear": "2014",
                                    "NumberOfOrders": "2"
                                },
                                {
                                    "CustomerID": "21",
                                    "OrderYear": "2015",
                                    "NumberOfOrders": "5"
                                },
                                {
                                    "CustomerID": "23",
                                    "OrderYear": "2015",
                                    "NumberOfOrders": "5"
                                },
                                {
                                    "CustomerID": "24",
                                    "OrderYear": "2014",
                                    "NumberOfOrders": "3"
                                },
                                {
                                    "CustomerID": "24",
                                    "OrderYear": "2015",
                                    "NumberOfOrders": "7"
                                },
                                {
                                    "CustomerID": "24",
                                    "OrderYear": "2016",
                                    "NumberOfOrders": "9"
                                },
                                {
                                    "CustomerID": "25",
                                    "OrderYear": "2014",
                                    "NumberOfOrders": "4"
                                },
                                {
                                    "CustomerID": "25",
                                    "OrderYear": "2015",
                                    "NumberOfOrders": "8"
                                },
                                {
                                    "CustomerID": "25",
                                    "OrderYear": "2016",
                                    "NumberOfOrders": "3"
                                },
                                {
                                    "CustomerID": "26",
                                    "OrderYear": "2015",
                                    "NumberOfOrders": "1"
                                },
                                {
                                    "CustomerID": "26",
                                    "OrderYear": "2016",
                                    "NumberOfOrders": "2"
                                },
                                {
                                    "CustomerID": "27",
                                    "OrderYear": "2015",
                                    "NumberOfOrders": "4"
                                },
                                {
                                    "CustomerID": "27",
                                    "OrderYear": "2016",
                                    "NumberOfOrders": "2"
                                },
                                {
                                    "CustomerID": "28",
                                    "OrderYear": "2014",
                                    "NumberOfOrders": "2"
                                },
                                {
                                    "CustomerID": "28",
                                    "OrderYear": "2015",
                                    "NumberOfOrders": "5"
                                },
                                {
                                    "CustomerID": "28",
                                    "OrderYear": "2016",
                                    "NumberOfOrders": "1"
                                },
                                {
                                    "CustomerID": "29",
                                    "OrderYear": "2014",
                                    "NumberOfOrders": "1"
                                },
                                {
                                    "CustomerID": "29",
                                    "OrderYear": "2015",
                                    "NumberOfOrders": "2"
                                },
                                {
                                    "CustomerID": "29",
                                    "OrderYear": "2016",
                                    "NumberOfOrders": "2"
                                },
                                {
                                    "CustomerID": "30",
                                    "OrderYear": "2014",
                                    "NumberOfOrders": "1"
                                },
                                {
                                    "CustomerID": "30",
                                    "OrderYear": "2015",
                                    "NumberOfOrders": "2"
                                },
                                {
                                    "CustomerID": "30",
                                    "OrderYear": "2016",
                                    "NumberOfOrders": "7"
                                },
                                {
                                    "CustomerID": "31",
                                    "OrderYear": "2015",
                                    "NumberOfOrders": "7"
                                },
                                {
                                    "CustomerID": "31",
                                    "OrderYear": "2016",
                                    "NumberOfOrders": "2"
                                },
                                {
                                    "CustomerID": "32",
                                    "OrderYear": "2015",
                                    "NumberOfOrders": "6"
                                },
                                {
                                    "CustomerID": "32",
                                    "OrderYear": "2016",
                                    "NumberOfOrders": "5"
                                },
                                {
                                    "CustomerID": "33",
                                    "OrderYear": "2014",
                                    "NumberOfOrders": "1"
                                },
                                {
                                    "CustomerID": "33",
                                    "OrderYear": "2015",
                                    "NumberOfOrders": "1"
                                },
                                {
                                    "CustomerID": "34",
                                    "OrderYear": "2014",
                                    "NumberOfOrders": "2"
                                },
                                {
                                    "CustomerID": "34",
                                    "OrderYear": "2015",
                                    "NumberOfOrders": "5"
                                },
                                {
                                    "CustomerID": "34",
                                    "OrderYear": "2016",
                                    "NumberOfOrders": "7"
                                },
                                {
                                    "CustomerID": "35",
                                    "OrderYear": "2014",
                                    "NumberOfOrders": "2"
                                },
                                {
                                    "CustomerID": "35",
                                    "OrderYear": "2015",
                                    "NumberOfOrders": "10"
                                },
                                {
                                    "CustomerID": "35",
                                    "OrderYear": "2016",
                                    "NumberOfOrders": "6"
                                },
                                {
                                    "CustomerID": "36",
                                    "OrderYear": "2014",
                                    "NumberOfOrders": "2"
                                },
                                {
                                    "CustomerID": "36",
                                    "OrderYear": "2015",
                                    "NumberOfOrders": "3"
                                },
                                {
                                    "CustomerID": "37",
                                    "OrderYear": "2014",
                                    "NumberOfOrders": "5"
                                },
                                {
                                    "CustomerID": "37",
                                    "OrderYear": "2015",
                                    "NumberOfOrders": "10"
                                },
                                {
                                    "CustomerID": "37",
                                    "OrderYear": "2016",
                                    "NumberOfOrders": "4"
                                },
                                {
                                    "CustomerID": "38",
                                    "OrderYear": "2014",
                                    "NumberOfOrders": "3"
                                },
                                {
                                    "CustomerID": "38",
                                    "OrderYear": "2015",
                                    "NumberOfOrders": "5"
                                },
                                {
                                    "CustomerID": "38",
                                    "OrderYear": "2016",
                                    "NumberOfOrders": "2"
                                },
                                {
                                    "CustomerID": "39",
                                    "OrderYear": "2014",
                                    "NumberOfOrders": "2"
                                },
                                {
                                    "CustomerID": "39",
                                    "OrderYear": "2015",
                                    "NumberOfOrders": "8"
                                },
                                {
                                    "CustomerID": "39",
                                    "OrderYear": "2016",
                                    "NumberOfOrders": "4"
                                },
                                {
                                    "CustomerID": "40",
                                    "OrderYear": "2016",
                                    "NumberOfOrders": "4"
                                },
                                {
                                    "CustomerID": "41",
                                    "OrderYear": "2014",
                                    "NumberOfOrders": "3"
                                },
                                {
                                    "CustomerID": "41",
                                    "OrderYear": "2015",
                                    "NumberOfOrders": "8"
                                },
                                {
                                    "CustomerID": "41",
                                    "OrderYear": "2016",
                                    "NumberOfOrders": "3"
                                },
                                {
                                    "CustomerID": "42",
                                    "OrderYear": "2015",
                                    "NumberOfOrders": "2"
                                },
                                {
                                    "CustomerID": "42",
                                    "OrderYear": "2016",
                                    "NumberOfOrders": "1"
                                },
                                {
                                    "CustomerID": "43",
                                    "OrderYear": "2015",
                                    "NumberOfOrders": "2"
                                },
                                {
                                    "CustomerID": "44",
                                    "OrderYear": "2014",
                                    "NumberOfOrders": "3"
                                },
                                {
                                    "CustomerID": "44",
                                    "OrderYear": "2015",
                                    "NumberOfOrders": "8"
                                },
                                {
                                    "CustomerID": "44",
                                    "OrderYear": "2016",
                                    "NumberOfOrders": "4"
                                },
                                {
                                    "CustomerID": "45",
                                    "OrderYear": "2015",
                                    "NumberOfOrders": "3"
                                },
                                {
                                    "CustomerID": "45",
                                    "OrderYear": "2016",
                                    "NumberOfOrders": "1"
                                },
                                {
                                    "CustomerID": "46",
                                    "OrderYear": "2014",
                                    "NumberOfOrders": "5"
                                },
                                {
                                    "CustomerID": "46",
                                    "OrderYear": "2015",
                                    "NumberOfOrders": "4"
                                },
                                {
                                    "CustomerID": "46",
                                    "OrderYear": "2016",
                                    "NumberOfOrders": "5"
                                },
                                {
                                    "CustomerID": "47",
                                    "OrderYear": "2015",
                                    "NumberOfOrders": "5"
                                },
                                {
                                    "CustomerID": "47",
                                    "OrderYear": "2016",
                                    "NumberOfOrders": "7"
                                },
                                {
                                    "CustomerID": "48",
                                    "OrderYear": "2014",
                                    "NumberOfOrders": "2"
                                },
                                {
                                    "CustomerID": "48",
                                    "OrderYear": "2015",
                                    "NumberOfOrders": "3"
                                },
                                {
                                    "CustomerID": "48",
                                    "OrderYear": "2016",
                                    "NumberOfOrders": "3"
                                },
                                {
                                    "CustomerID": "49",
                                    "OrderYear": "2014",
                                    "NumberOfOrders": "2"
                                },
                                {
                                    "CustomerID": "49",
                                    "OrderYear": "2015",
                                    "NumberOfOrders": "5"
                                },
                                {
                                    "CustomerID": "49",
                                    "OrderYear": "2016",
                                    "NumberOfOrders": "3"
                                },
                                {
                                    "CustomerID": "50",
                                    "OrderYear": "2015",
                                    "NumberOfOrders": "3"
                                },
                                {
                                    "CustomerID": "50",
                                    "OrderYear": "2016",
                                    "NumberOfOrders": "4"
                                },
                                {
                                    "CustomerID": "51",
                                    "OrderYear": "2014",
                                    "NumberOfOrders": "3"
                                },
                                {
                                    "CustomerID": "51",
                                    "OrderYear": "2015",
                                    "NumberOfOrders": "10"
                                },
                                {
                                    "CustomerID": "52",
                                    "OrderYear": "2014",
                                    "NumberOfOrders": "1"
                                },
                                {
                                    "CustomerID": "52",
                                    "OrderYear": "2015",
                                    "NumberOfOrders": "3"
                                },
                                {
                                    "CustomerID": "52",
                                    "OrderYear": "2016",
                                    "NumberOfOrders": "1"
                                },
                                {
                                    "CustomerID": "53",
                                    "OrderYear": "2015",
                                    "NumberOfOrders": "2"
                                },
                                {
                                    "CustomerID": "53",
                                    "OrderYear": "2016",
                                    "NumberOfOrders": "1"
                                },
                                {
                                    "CustomerID": "54",
                                    "OrderYear": "2015",
                                    "NumberOfOrders": "2"
                                },
                                {
                                    "CustomerID": "54",
                                    "OrderYear": "2016",
                                    "NumberOfOrders": "3"
                                },
                                {
                                    "CustomerID": "55",
                                    "OrderYear": "2014",
                                    "NumberOfOrders": "2"
                                },
                                {
                                    "CustomerID": "55",
                                    "OrderYear": "2015",
                                    "NumberOfOrders": "4"
                                },
                                {
                                    "CustomerID": "55",
                                    "OrderYear": "2016",
                                    "NumberOfOrders": "4"
                                },
                                {
                                    "CustomerID": "56",
                                    "OrderYear": "2014",
                                    "NumberOfOrders": "1"
                                },
                                {
                                    "CustomerID": "56",
                                    "OrderYear": "2015",
                                    "NumberOfOrders": "6"
                                },
                                {
                                    "CustomerID": "56",
                                    "OrderYear": "2016",
                                    "NumberOfOrders": "3"
                                },
                                {
                                    "CustomerID": "58",
                                    "OrderYear": "2014",
                                    "NumberOfOrders": "2"
                                },
                                {
                                    "CustomerID": "58",
                                    "OrderYear": "2015",
                                    "NumberOfOrders": "2"
                                },
                                {
                                    "CustomerID": "58",
                                    "OrderYear": "2016",
                                    "NumberOfOrders": "2"
                                },
                                {
                                    "CustomerID": "59",
                                    "OrderYear": "2014",
                                    "NumberOfOrders": "2"
                                },
                                {
                                    "CustomerID": "59",
                                    "OrderYear": "2015",
                                    "NumberOfOrders": "6"
                                },
                                {
                                    "CustomerID": "59",
                                    "OrderYear": "2016",
                                    "NumberOfOrders": "2"
                                },
                                {
                                    "CustomerID": "60",
                                    "OrderYear": "2014",
                                    "NumberOfOrders": "2"
                                },
                                {
                                    "CustomerID": "60",
                                    "OrderYear": "2015",
                                    "NumberOfOrders": "2"
                                },
                                {
                                    "CustomerID": "60",
                                    "OrderYear": "2016",
                                    "NumberOfOrders": "1"
                                },
                                {
                                    "CustomerID": "61",
                                    "OrderYear": "2014",
                                    "NumberOfOrders": "3"
                                },
                                {
                                    "CustomerID": "61",
                                    "OrderYear": "2015",
                                    "NumberOfOrders": "5"
                                },
                                {
                                    "CustomerID": "61",
                                    "OrderYear": "2016",
                                    "NumberOfOrders": "1"
                                },
                                {
                                    "CustomerID": "62",
                                    "OrderYear": "2014",
                                    "NumberOfOrders": "1"
                                },
                                {
                                    "CustomerID": "62",
                                    "OrderYear": "2015",
                                    "NumberOfOrders": "7"
                                },
                                {
                                    "CustomerID": "62",
                                    "OrderYear": "2016",
                                    "NumberOfOrders": "5"
                                },
                                {
                                    "CustomerID": "63",
                                    "OrderYear": "2014",
                                    "NumberOfOrders": "6"
                                },
                                {
                                    "CustomerID": "63",
                                    "OrderYear": "2015",
                                    "NumberOfOrders": "14"
                                },
                                {
                                    "CustomerID": "63",
                                    "OrderYear": "2016",
                                    "NumberOfOrders": "8"
                                },
                                {
                                    "CustomerID": "64",
                                    "OrderYear": "2015",
                                    "NumberOfOrders": "2"
                                },
                                {
                                    "CustomerID": "64",
                                    "OrderYear": "2016",
                                    "NumberOfOrders": "3"
                                },
                                {
                                    "CustomerID": "65",
                                    "OrderYear": "2014",
                                    "NumberOfOrders": "6"
                                },
                                {
                                    "CustomerID": "65",
                                    "OrderYear": "2015",
                                    "NumberOfOrders": "6"
                                },
                                {
                                    "CustomerID": "65",
                                    "OrderYear": "2016",
                                    "NumberOfOrders": "6"
                                },
                                {
                                    "CustomerID": "66",
                                    "OrderYear": "2014",
                                    "NumberOfOrders": "1"
                                },
                                {
                                    "CustomerID": "66",
                                    "OrderYear": "2015",
                                    "NumberOfOrders": "6"
                                },
                                {
                                    "CustomerID": "66",
                                    "OrderYear": "2016",
                                    "NumberOfOrders": "5"
                                },
                                {
                                    "CustomerID": "67",
                                    "OrderYear": "2014",
                                    "NumberOfOrders": "2"
                                },
                                {
                                    "CustomerID": "67",
                                    "OrderYear": "2015",
                                    "NumberOfOrders": "5"
                                },
                                {
                                    "CustomerID": "67",
                                    "OrderYear": "2016",
                                    "NumberOfOrders": "4"
                                },
                                {
                                    "CustomerID": "68",
                                    "OrderYear": "2014",
                                    "NumberOfOrders": "1"
                                },
                                {
                                    "CustomerID": "68",
                                    "OrderYear": "2015",
                                    "NumberOfOrders": "5"
                                },
                                {
                                    "CustomerID": "68",
                                    "OrderYear": "2016",
                                    "NumberOfOrders": "4"
                                },
                                {
                                    "CustomerID": "69",
                                    "OrderYear": "2014",
                                    "NumberOfOrders": "3"
                                },
                                {
                                    "CustomerID": "69",
                                    "OrderYear": "2016",
                                    "NumberOfOrders": "2"
                                },
                                {
                                    "CustomerID": "70",
                                    "OrderYear": "2014",
                                    "NumberOfOrders": "1"
                                },
                                {
                                    "CustomerID": "70",
                                    "OrderYear": "2015",
                                    "NumberOfOrders": "2"
                                },
                                {
                                    "CustomerID": "70",
                                    "OrderYear": "2016",
                                    "NumberOfOrders": "3"
                                },
                                {
                                    "CustomerID": "71",
                                    "OrderYear": "2014",
                                    "NumberOfOrders": "3"
                                },
                                {
                                    "CustomerID": "71",
                                    "OrderYear": "2015",
                                    "NumberOfOrders": "17"
                                },
                                {
                                    "CustomerID": "71",
                                    "OrderYear": "2016",
                                    "NumberOfOrders": "11"
                                },
                                {
                                    "CustomerID": "72",
                                    "OrderYear": "2014",
                                    "NumberOfOrders": "3"
                                },
                                {
                                    "CustomerID": "72",
                                    "OrderYear": "2015",
                                    "NumberOfOrders": "5"
                                },
                                {
                                    "CustomerID": "72",
                                    "OrderYear": "2016",
                                    "NumberOfOrders": "1"
                                },
                                {
                                    "CustomerID": "73",
                                    "OrderYear": "2014",
                                    "NumberOfOrders": "1"
                                },
                                {
                                    "CustomerID": "73",
                                    "OrderYear": "2015",
                                    "NumberOfOrders": "5"
                                },
                                {
                                    "CustomerID": "73",
                                    "OrderYear": "2016",
                                    "NumberOfOrders": "1"
                                },
                                {
                                    "CustomerID": "74",
                                    "OrderYear": "2015",
                                    "NumberOfOrders": "1"
                                },
                                {
                                    "CustomerID": "74",
                                    "OrderYear": "2016",
                                    "NumberOfOrders": "3"
                                },
                                {
                                    "CustomerID": "75",
                                    "OrderYear": "2014",
                                    "NumberOfOrders": "5"
                                },
                                {
                                    "CustomerID": "75",
                                    "OrderYear": "2015",
                                    "NumberOfOrders": "2"
                                },
                                {
                                    "CustomerID": "75",
                                    "OrderYear": "2016",
                                    "NumberOfOrders": "2"
                                },
                                {
                                    "CustomerID": "76",
                                    "OrderYear": "2014",
                                    "NumberOfOrders": "2"
                                },
                                {
                                    "CustomerID": "76",
                                    "OrderYear": "2015",
                                    "NumberOfOrders": "4"
                                },
                                {
                                    "CustomerID": "76",
                                    "OrderYear": "2016",
                                    "NumberOfOrders": "6"
                                },
                                {
                                    "CustomerID": "77",
                                    "OrderYear": "2014",
                                    "NumberOfOrders": "1"
                                },
                                {
                                    "CustomerID": "77",
                                    "OrderYear": "2015",
                                    "NumberOfOrders": "2"
                                },
                                {
                                    "CustomerID": "77",
                                    "OrderYear": "2016",
                                    "NumberOfOrders": "1"
                                },
                                {
                                    "CustomerID": "78",
                                    "OrderYear": "2015",
                                    "NumberOfOrders": "2"
                                },
                                {
                                    "CustomerID": "78",
                                    "OrderYear": "2016",
                                    "NumberOfOrders": "1"
                                },
                                {
                                    "CustomerID": "79",
                                    "OrderYear": "2014",
                                    "NumberOfOrders": "1"
                                },
                                {
                                    "CustomerID": "79",
                                    "OrderYear": "2015",
                                    "NumberOfOrders": "4"
                                },
                                {
                                    "CustomerID": "79",
                                    "OrderYear": "2016",
                                    "NumberOfOrders": "1"
                                },
                                {
                                    "CustomerID": "80",
                                    "OrderYear": "2014",
                                    "NumberOfOrders": "4"
                                },
                                {
                                    "CustomerID": "80",
                                    "OrderYear": "2015",
                                    "NumberOfOrders": "3"
                                },
                                {
                                    "CustomerID": "80",
                                    "OrderYear": "2016",
                                    "NumberOfOrders": "3"
                                },
                                {
                                    "CustomerID": "81",
                                    "OrderYear": "2014",
                                    "NumberOfOrders": "1"
                                },
                                {
                                    "CustomerID": "81",
                                    "OrderYear": "2015",
                                    "NumberOfOrders": "2"
                                },
                                {
                                    "CustomerID": "81",
                                    "OrderYear": "2016",
                                    "NumberOfOrders": "3"
                                },
                                {
                                    "CustomerID": "82",
                                    "OrderYear": "2015",
                                    "NumberOfOrders": "2"
                                },
                                {
                                    "CustomerID": "82",
                                    "OrderYear": "2016",
                                    "NumberOfOrders": "1"
                                },
                                {
                                    "CustomerID": "83",
                                    "OrderYear": "2014",
                                    "NumberOfOrders": "2"
                                },
                                {
                                    "CustomerID": "83",
                                    "OrderYear": "2015",
                                    "NumberOfOrders": "6"
                                },
                                {
                                    "CustomerID": "83",
                                    "OrderYear": "2016",
                                    "NumberOfOrders": "3"
                                },
                                {
                                    "CustomerID": "84",
                                    "OrderYear": "2014",
                                    "NumberOfOrders": "2"
                                },
                                {
                                    "CustomerID": "84",
                                    "OrderYear": "2015",
                                    "NumberOfOrders": "5"
                                },
                                {
                                    "CustomerID": "84",
                                    "OrderYear": "2016",
                                    "NumberOfOrders": "3"
                                },
                                {
                                    "CustomerID": "85",
                                    "OrderYear": "2014",
                                    "NumberOfOrders": "3"
                                },
                                {
                                    "CustomerID": "85",
                                    "OrderYear": "2015",
                                    "NumberOfOrders": "2"
                                },
                                {
                                    "CustomerID": "86",
                                    "OrderYear": "2014",
                                    "NumberOfOrders": "4"
                                },
                                {
                                    "CustomerID": "86",
                                    "OrderYear": "2015",
                                    "NumberOfOrders": "5"
                                },
                                {
                                    "CustomerID": "86",
                                    "OrderYear": "2016",
                                    "NumberOfOrders": "1"
                                },
                                {
                                    "CustomerID": "87",
                                    "OrderYear": "2014",
                                    "NumberOfOrders": "4"
                                },
                                {
                                    "CustomerID": "87",
                                    "OrderYear": "2015",
                                    "NumberOfOrders": "10"
                                },
                                {
                                    "CustomerID": "87",
                                    "OrderYear": "2016",
                                    "NumberOfOrders": "1"
                                },
                                {
                                    "CustomerID": "88",
                                    "OrderYear": "2014",
                                    "NumberOfOrders": "1"
                                },
                                {
                                    "CustomerID": "88",
                                    "OrderYear": "2015",
                                    "NumberOfOrders": "4"
                                },
                                {
                                    "CustomerID": "88",
                                    "OrderYear": "2016",
                                    "NumberOfOrders": "4"
                                },
                                {
                                    "CustomerID": "89",
                                    "OrderYear": "2014",
                                    "NumberOfOrders": "2"
                                },
                                {
                                    "CustomerID": "89",
                                    "OrderYear": "2015",
                                    "NumberOfOrders": "8"
                                },
                                {
                                    "CustomerID": "89",
                                    "OrderYear": "2016",
                                    "NumberOfOrders": "4"
                                },
                                {
                                    "CustomerID": "90",
                                    "OrderYear": "2015",
                                    "NumberOfOrders": "3"
                                },
                                {
                                    "CustomerID": "90",
                                    "OrderYear": "2016",
                                    "NumberOfOrders": "4"
                                },
                                {
                                    "CustomerID": "91",
                                    "OrderYear": "2014",
                                    "NumberOfOrders": "1"
                                },
                                {
                                    "CustomerID": "91",
                                    "OrderYear": "2015",
                                    "NumberOfOrders": "2"
                                },
                                {
                                    "CustomerID": "91",
                                    "OrderYear": "2016",
                                    "NumberOfOrders": "4"
                                }
                            ]
                        },
                        "text/html": "<table><tr><th>CustomerID</th><th>OrderYear</th><th>NumberOfOrders</th></tr><tr><td>1</td><td>2015</td><td>3</td></tr><tr><td>1</td><td>2016</td><td>3</td></tr><tr><td>2</td><td>2014</td><td>1</td></tr><tr><td>2</td><td>2015</td><td>2</td></tr><tr><td>2</td><td>2016</td><td>1</td></tr><tr><td>3</td><td>2014</td><td>1</td></tr><tr><td>3</td><td>2015</td><td>5</td></tr><tr><td>3</td><td>2016</td><td>1</td></tr><tr><td>4</td><td>2014</td><td>2</td></tr><tr><td>4</td><td>2015</td><td>7</td></tr><tr><td>4</td><td>2016</td><td>4</td></tr><tr><td>5</td><td>2014</td><td>3</td></tr><tr><td>5</td><td>2015</td><td>10</td></tr><tr><td>5</td><td>2016</td><td>5</td></tr><tr><td>6</td><td>2015</td><td>4</td></tr><tr><td>6</td><td>2016</td><td>3</td></tr><tr><td>7</td><td>2014</td><td>3</td></tr><tr><td>7</td><td>2015</td><td>7</td></tr><tr><td>7</td><td>2016</td><td>1</td></tr><tr><td>8</td><td>2014</td><td>1</td></tr><tr><td>8</td><td>2015</td><td>1</td></tr><tr><td>8</td><td>2016</td><td>1</td></tr><tr><td>9</td><td>2014</td><td>3</td></tr><tr><td>9</td><td>2015</td><td>8</td></tr><tr><td>9</td><td>2016</td><td>6</td></tr><tr><td>10</td><td>2014</td><td>1</td></tr><tr><td>10</td><td>2015</td><td>5</td></tr><tr><td>10</td><td>2016</td><td>8</td></tr><tr><td>11</td><td>2014</td><td>1</td></tr><tr><td>11</td><td>2015</td><td>6</td></tr><tr><td>11</td><td>2016</td><td>3</td></tr><tr><td>12</td><td>2015</td><td>2</td></tr><tr><td>12</td><td>2016</td><td>4</td></tr><tr><td>13</td><td>2014</td><td>1</td></tr><tr><td>14</td><td>2014</td><td>2</td></tr><tr><td>14</td><td>2015</td><td>3</td></tr><tr><td>14</td><td>2016</td><td>3</td></tr><tr><td>15</td><td>2014</td><td>1</td></tr><tr><td>15</td><td>2015</td><td>2</td></tr><tr><td>15</td><td>2016</td><td>2</td></tr><tr><td>16</td><td>2015</td><td>2</td></tr><tr><td>16</td><td>2016</td><td>1</td></tr><tr><td>17</td><td>2014</td><td>2</td></tr><tr><td>17</td><td>2015</td><td>1</td></tr><tr><td>17</td><td>2016</td><td>3</td></tr><tr><td>18</td><td>2014</td><td>1</td></tr><tr><td>18</td><td>2015</td><td>2</td></tr><tr><td>18</td><td>2016</td><td>1</td></tr><tr><td>19</td><td>2014</td><td>1</td></tr><tr><td>19</td><td>2015</td><td>3</td></tr><tr><td>19</td><td>2016</td><td>4</td></tr><tr><td>20</td><td>2014</td><td>6</td></tr><tr><td>20</td><td>2015</td><td>15</td></tr><tr><td>20</td><td>2016</td><td>9</td></tr><tr><td>21</td><td>2014</td><td>2</td></tr><tr><td>21</td><td>2015</td><td>5</td></tr><tr><td>23</td><td>2015</td><td>5</td></tr><tr><td>24</td><td>2014</td><td>3</td></tr><tr><td>24</td><td>2015</td><td>7</td></tr><tr><td>24</td><td>2016</td><td>9</td></tr><tr><td>25</td><td>2014</td><td>4</td></tr><tr><td>25</td><td>2015</td><td>8</td></tr><tr><td>25</td><td>2016</td><td>3</td></tr><tr><td>26</td><td>2015</td><td>1</td></tr><tr><td>26</td><td>2016</td><td>2</td></tr><tr><td>27</td><td>2015</td><td>4</td></tr><tr><td>27</td><td>2016</td><td>2</td></tr><tr><td>28</td><td>2014</td><td>2</td></tr><tr><td>28</td><td>2015</td><td>5</td></tr><tr><td>28</td><td>2016</td><td>1</td></tr><tr><td>29</td><td>2014</td><td>1</td></tr><tr><td>29</td><td>2015</td><td>2</td></tr><tr><td>29</td><td>2016</td><td>2</td></tr><tr><td>30</td><td>2014</td><td>1</td></tr><tr><td>30</td><td>2015</td><td>2</td></tr><tr><td>30</td><td>2016</td><td>7</td></tr><tr><td>31</td><td>2015</td><td>7</td></tr><tr><td>31</td><td>2016</td><td>2</td></tr><tr><td>32</td><td>2015</td><td>6</td></tr><tr><td>32</td><td>2016</td><td>5</td></tr><tr><td>33</td><td>2014</td><td>1</td></tr><tr><td>33</td><td>2015</td><td>1</td></tr><tr><td>34</td><td>2014</td><td>2</td></tr><tr><td>34</td><td>2015</td><td>5</td></tr><tr><td>34</td><td>2016</td><td>7</td></tr><tr><td>35</td><td>2014</td><td>2</td></tr><tr><td>35</td><td>2015</td><td>10</td></tr><tr><td>35</td><td>2016</td><td>6</td></tr><tr><td>36</td><td>2014</td><td>2</td></tr><tr><td>36</td><td>2015</td><td>3</td></tr><tr><td>37</td><td>2014</td><td>5</td></tr><tr><td>37</td><td>2015</td><td>10</td></tr><tr><td>37</td><td>2016</td><td>4</td></tr><tr><td>38</td><td>2014</td><td>3</td></tr><tr><td>38</td><td>2015</td><td>5</td></tr><tr><td>38</td><td>2016</td><td>2</td></tr><tr><td>39</td><td>2014</td><td>2</td></tr><tr><td>39</td><td>2015</td><td>8</td></tr><tr><td>39</td><td>2016</td><td>4</td></tr><tr><td>40</td><td>2016</td><td>4</td></tr><tr><td>41</td><td>2014</td><td>3</td></tr><tr><td>41</td><td>2015</td><td>8</td></tr><tr><td>41</td><td>2016</td><td>3</td></tr><tr><td>42</td><td>2015</td><td>2</td></tr><tr><td>42</td><td>2016</td><td>1</td></tr><tr><td>43</td><td>2015</td><td>2</td></tr><tr><td>44</td><td>2014</td><td>3</td></tr><tr><td>44</td><td>2015</td><td>8</td></tr><tr><td>44</td><td>2016</td><td>4</td></tr><tr><td>45</td><td>2015</td><td>3</td></tr><tr><td>45</td><td>2016</td><td>1</td></tr><tr><td>46</td><td>2014</td><td>5</td></tr><tr><td>46</td><td>2015</td><td>4</td></tr><tr><td>46</td><td>2016</td><td>5</td></tr><tr><td>47</td><td>2015</td><td>5</td></tr><tr><td>47</td><td>2016</td><td>7</td></tr><tr><td>48</td><td>2014</td><td>2</td></tr><tr><td>48</td><td>2015</td><td>3</td></tr><tr><td>48</td><td>2016</td><td>3</td></tr><tr><td>49</td><td>2014</td><td>2</td></tr><tr><td>49</td><td>2015</td><td>5</td></tr><tr><td>49</td><td>2016</td><td>3</td></tr><tr><td>50</td><td>2015</td><td>3</td></tr><tr><td>50</td><td>2016</td><td>4</td></tr><tr><td>51</td><td>2014</td><td>3</td></tr><tr><td>51</td><td>2015</td><td>10</td></tr><tr><td>52</td><td>2014</td><td>1</td></tr><tr><td>52</td><td>2015</td><td>3</td></tr><tr><td>52</td><td>2016</td><td>1</td></tr><tr><td>53</td><td>2015</td><td>2</td></tr><tr><td>53</td><td>2016</td><td>1</td></tr><tr><td>54</td><td>2015</td><td>2</td></tr><tr><td>54</td><td>2016</td><td>3</td></tr><tr><td>55</td><td>2014</td><td>2</td></tr><tr><td>55</td><td>2015</td><td>4</td></tr><tr><td>55</td><td>2016</td><td>4</td></tr><tr><td>56</td><td>2014</td><td>1</td></tr><tr><td>56</td><td>2015</td><td>6</td></tr><tr><td>56</td><td>2016</td><td>3</td></tr><tr><td>58</td><td>2014</td><td>2</td></tr><tr><td>58</td><td>2015</td><td>2</td></tr><tr><td>58</td><td>2016</td><td>2</td></tr><tr><td>59</td><td>2014</td><td>2</td></tr><tr><td>59</td><td>2015</td><td>6</td></tr><tr><td>59</td><td>2016</td><td>2</td></tr><tr><td>60</td><td>2014</td><td>2</td></tr><tr><td>60</td><td>2015</td><td>2</td></tr><tr><td>60</td><td>2016</td><td>1</td></tr><tr><td>61</td><td>2014</td><td>3</td></tr><tr><td>61</td><td>2015</td><td>5</td></tr><tr><td>61</td><td>2016</td><td>1</td></tr><tr><td>62</td><td>2014</td><td>1</td></tr><tr><td>62</td><td>2015</td><td>7</td></tr><tr><td>62</td><td>2016</td><td>5</td></tr><tr><td>63</td><td>2014</td><td>6</td></tr><tr><td>63</td><td>2015</td><td>14</td></tr><tr><td>63</td><td>2016</td><td>8</td></tr><tr><td>64</td><td>2015</td><td>2</td></tr><tr><td>64</td><td>2016</td><td>3</td></tr><tr><td>65</td><td>2014</td><td>6</td></tr><tr><td>65</td><td>2015</td><td>6</td></tr><tr><td>65</td><td>2016</td><td>6</td></tr><tr><td>66</td><td>2014</td><td>1</td></tr><tr><td>66</td><td>2015</td><td>6</td></tr><tr><td>66</td><td>2016</td><td>5</td></tr><tr><td>67</td><td>2014</td><td>2</td></tr><tr><td>67</td><td>2015</td><td>5</td></tr><tr><td>67</td><td>2016</td><td>4</td></tr><tr><td>68</td><td>2014</td><td>1</td></tr><tr><td>68</td><td>2015</td><td>5</td></tr><tr><td>68</td><td>2016</td><td>4</td></tr><tr><td>69</td><td>2014</td><td>3</td></tr><tr><td>69</td><td>2016</td><td>2</td></tr><tr><td>70</td><td>2014</td><td>1</td></tr><tr><td>70</td><td>2015</td><td>2</td></tr><tr><td>70</td><td>2016</td><td>3</td></tr><tr><td>71</td><td>2014</td><td>3</td></tr><tr><td>71</td><td>2015</td><td>17</td></tr><tr><td>71</td><td>2016</td><td>11</td></tr><tr><td>72</td><td>2014</td><td>3</td></tr><tr><td>72</td><td>2015</td><td>5</td></tr><tr><td>72</td><td>2016</td><td>1</td></tr><tr><td>73</td><td>2014</td><td>1</td></tr><tr><td>73</td><td>2015</td><td>5</td></tr><tr><td>73</td><td>2016</td><td>1</td></tr><tr><td>74</td><td>2015</td><td>1</td></tr><tr><td>74</td><td>2016</td><td>3</td></tr><tr><td>75</td><td>2014</td><td>5</td></tr><tr><td>75</td><td>2015</td><td>2</td></tr><tr><td>75</td><td>2016</td><td>2</td></tr><tr><td>76</td><td>2014</td><td>2</td></tr><tr><td>76</td><td>2015</td><td>4</td></tr><tr><td>76</td><td>2016</td><td>6</td></tr><tr><td>77</td><td>2014</td><td>1</td></tr><tr><td>77</td><td>2015</td><td>2</td></tr><tr><td>77</td><td>2016</td><td>1</td></tr><tr><td>78</td><td>2015</td><td>2</td></tr><tr><td>78</td><td>2016</td><td>1</td></tr><tr><td>79</td><td>2014</td><td>1</td></tr><tr><td>79</td><td>2015</td><td>4</td></tr><tr><td>79</td><td>2016</td><td>1</td></tr><tr><td>80</td><td>2014</td><td>4</td></tr><tr><td>80</td><td>2015</td><td>3</td></tr><tr><td>80</td><td>2016</td><td>3</td></tr><tr><td>81</td><td>2014</td><td>1</td></tr><tr><td>81</td><td>2015</td><td>2</td></tr><tr><td>81</td><td>2016</td><td>3</td></tr><tr><td>82</td><td>2015</td><td>2</td></tr><tr><td>82</td><td>2016</td><td>1</td></tr><tr><td>83</td><td>2014</td><td>2</td></tr><tr><td>83</td><td>2015</td><td>6</td></tr><tr><td>83</td><td>2016</td><td>3</td></tr><tr><td>84</td><td>2014</td><td>2</td></tr><tr><td>84</td><td>2015</td><td>5</td></tr><tr><td>84</td><td>2016</td><td>3</td></tr><tr><td>85</td><td>2014</td><td>3</td></tr><tr><td>85</td><td>2015</td><td>2</td></tr><tr><td>86</td><td>2014</td><td>4</td></tr><tr><td>86</td><td>2015</td><td>5</td></tr><tr><td>86</td><td>2016</td><td>1</td></tr><tr><td>87</td><td>2014</td><td>4</td></tr><tr><td>87</td><td>2015</td><td>10</td></tr><tr><td>87</td><td>2016</td><td>1</td></tr><tr><td>88</td><td>2014</td><td>1</td></tr><tr><td>88</td><td>2015</td><td>4</td></tr><tr><td>88</td><td>2016</td><td>4</td></tr><tr><td>89</td><td>2014</td><td>2</td></tr><tr><td>89</td><td>2015</td><td>8</td></tr><tr><td>89</td><td>2016</td><td>4</td></tr><tr><td>90</td><td>2015</td><td>3</td></tr><tr><td>90</td><td>2016</td><td>4</td></tr><tr><td>91</td><td>2014</td><td>1</td></tr><tr><td>91</td><td>2015</td><td>2</td></tr><tr><td>91</td><td>2016</td><td>4</td></tr></table>"
                    },
                    "metadata": {}
                }
            ],
            "execution_count": 39
        },
        {
            "cell_type": "code",
            "source": [
                "--15\n",
                "--list the number of customers by city and country.\n",
                "USE AdventureWorksDW2017; \n",
                "SELECT \n",
                "    g.CountryRegionCode, \n",
                "    g.City, \n",
                "    COUNT(c.CustomerKey) AS NumberOfCustomers\n",
                "FROM \n",
                "    DimCustomer c\n",
                "JOIN \n",
                "    dbo.DimGeography g ON c.GeographyKey = g.GeographyKey\n",
                "GROUP BY \n",
                "    g.CountryRegionCode, \n",
                "    g.City\n",
                "ORDER BY \n",
                "    g.CountryRegionCode, \n",
                "    COUNT(c.CustomerKey) DESC;\n",
                ""
            ],
            "metadata": {
                "language": "sql",
                "azdata_cell_guid": "cdaeef19-81d9-45c5-a1ca-b39781ad9772"
            },
            "outputs": [
                {
                    "output_type": "display_data",
                    "data": {
                        "text/html": "(270 rows affected)"
                    },
                    "metadata": {}
                },
                {
                    "output_type": "display_data",
                    "data": {
                        "text/html": "Total execution time: 00:00:00.073"
                    },
                    "metadata": {}
                },
                {
                    "output_type": "execute_result",
                    "execution_count": 40,
                    "data": {
                        "application/vnd.dataresource+json": {
                            "schema": {
                                "fields": [
                                    {
                                        "name": "CountryRegionCode"
                                    },
                                    {
                                        "name": "City"
                                    },
                                    {
                                        "name": "NumberOfCustomers"
                                    }
                                ]
                            },
                            "data": [
                                {
                                    "CountryRegionCode": "AU",
                                    "City": "Brisbane",
                                    "NumberOfCustomers": "106"
                                },
                                {
                                    "CountryRegionCode": "AU",
                                    "City": "Caloundra",
                                    "NumberOfCustomers": "106"
                                },
                                {
                                    "CountryRegionCode": "AU",
                                    "City": "Coffs Harbour",
                                    "NumberOfCustomers": "106"
                                },
                                {
                                    "CountryRegionCode": "AU",
                                    "City": "Cranbourne",
                                    "NumberOfCustomers": "106"
                                },
                                {
                                    "CountryRegionCode": "AU",
                                    "City": "Gold Coast",
                                    "NumberOfCustomers": "106"
                                },
                                {
                                    "CountryRegionCode": "AU",
                                    "City": "Goulburn",
                                    "NumberOfCustomers": "106"
                                },
                                {
                                    "CountryRegionCode": "AU",
                                    "City": "Geelong",
                                    "NumberOfCustomers": "106"
                                },
                                {
                                    "CountryRegionCode": "AU",
                                    "City": "Hobart",
                                    "NumberOfCustomers": "106"
                                },
                                {
                                    "CountryRegionCode": "AU",
                                    "City": "Hervey Bay",
                                    "NumberOfCustomers": "105"
                                },
                                {
                                    "CountryRegionCode": "AU",
                                    "City": "Melbourne",
                                    "NumberOfCustomers": "105"
                                },
                                {
                                    "CountryRegionCode": "AU",
                                    "City": "Melton",
                                    "NumberOfCustomers": "105"
                                },
                                {
                                    "CountryRegionCode": "AU",
                                    "City": "Port Macquarie",
                                    "NumberOfCustomers": "105"
                                },
                                {
                                    "CountryRegionCode": "AU",
                                    "City": "Rockhampton",
                                    "NumberOfCustomers": "105"
                                },
                                {
                                    "CountryRegionCode": "AU",
                                    "City": "Sunbury",
                                    "NumberOfCustomers": "105"
                                },
                                {
                                    "CountryRegionCode": "AU",
                                    "City": "Sydney",
                                    "NumberOfCustomers": "105"
                                },
                                {
                                    "CountryRegionCode": "AU",
                                    "City": "Townsville",
                                    "NumberOfCustomers": "105"
                                },
                                {
                                    "CountryRegionCode": "AU",
                                    "City": "Warrnambool",
                                    "NumberOfCustomers": "105"
                                },
                                {
                                    "CountryRegionCode": "AU",
                                    "City": "Wollongong",
                                    "NumberOfCustomers": "105"
                                },
                                {
                                    "CountryRegionCode": "AU",
                                    "City": "Bendigo",
                                    "NumberOfCustomers": "104"
                                },
                                {
                                    "CountryRegionCode": "AU",
                                    "City": "Hawthorne",
                                    "NumberOfCustomers": "80"
                                },
                                {
                                    "CountryRegionCode": "AU",
                                    "City": "Lane Cove",
                                    "NumberOfCustomers": "80"
                                },
                                {
                                    "CountryRegionCode": "AU",
                                    "City": "Lavender Bay",
                                    "NumberOfCustomers": "80"
                                },
                                {
                                    "CountryRegionCode": "AU",
                                    "City": "Darlinghurst",
                                    "NumberOfCustomers": "80"
                                },
                                {
                                    "CountryRegionCode": "AU",
                                    "City": "Cloverdale",
                                    "NumberOfCustomers": "80"
                                },
                                {
                                    "CountryRegionCode": "AU",
                                    "City": "East Brisbane",
                                    "NumberOfCustomers": "80"
                                },
                                {
                                    "CountryRegionCode": "AU",
                                    "City": "Findon",
                                    "NumberOfCustomers": "80"
                                },
                                {
                                    "CountryRegionCode": "AU",
                                    "City": "Malabar",
                                    "NumberOfCustomers": "80"
                                },
                                {
                                    "CountryRegionCode": "AU",
                                    "City": "Matraville",
                                    "NumberOfCustomers": "80"
                                },
                                {
                                    "CountryRegionCode": "AU",
                                    "City": "Milsons Point",
                                    "NumberOfCustomers": "79"
                                },
                                {
                                    "CountryRegionCode": "AU",
                                    "City": "Newcastle",
                                    "NumberOfCustomers": "79"
                                },
                                {
                                    "CountryRegionCode": "AU",
                                    "City": "North Ryde",
                                    "NumberOfCustomers": "79"
                                },
                                {
                                    "CountryRegionCode": "AU",
                                    "City": "North Sydney",
                                    "NumberOfCustomers": "79"
                                },
                                {
                                    "CountryRegionCode": "AU",
                                    "City": "Rhodes",
                                    "NumberOfCustomers": "79"
                                },
                                {
                                    "CountryRegionCode": "AU",
                                    "City": "Perth",
                                    "NumberOfCustomers": "79"
                                },
                                {
                                    "CountryRegionCode": "AU",
                                    "City": "Springwood",
                                    "NumberOfCustomers": "79"
                                },
                                {
                                    "CountryRegionCode": "AU",
                                    "City": "St. Leonards",
                                    "NumberOfCustomers": "79"
                                },
                                {
                                    "CountryRegionCode": "AU",
                                    "City": "Seaford",
                                    "NumberOfCustomers": "79"
                                },
                                {
                                    "CountryRegionCode": "AU",
                                    "City": "Silverwater",
                                    "NumberOfCustomers": "79"
                                },
                                {
                                    "CountryRegionCode": "AU",
                                    "City": "South Melbourne",
                                    "NumberOfCustomers": "79"
                                },
                                {
                                    "CountryRegionCode": "CA",
                                    "City": "Cliffside",
                                    "NumberOfCustomers": "188"
                                },
                                {
                                    "CountryRegionCode": "CA",
                                    "City": "Shawnee",
                                    "NumberOfCustomers": "111"
                                },
                                {
                                    "CountryRegionCode": "CA",
                                    "City": "Langford",
                                    "NumberOfCustomers": "105"
                                },
                                {
                                    "CountryRegionCode": "CA",
                                    "City": "Oak Bay",
                                    "NumberOfCustomers": "99"
                                },
                                {
                                    "CountryRegionCode": "CA",
                                    "City": "N. Vancouver",
                                    "NumberOfCustomers": "99"
                                },
                                {
                                    "CountryRegionCode": "CA",
                                    "City": "Sooke",
                                    "NumberOfCustomers": "97"
                                },
                                {
                                    "CountryRegionCode": "CA",
                                    "City": "Metchosin",
                                    "NumberOfCustomers": "96"
                                },
                                {
                                    "CountryRegionCode": "CA",
                                    "City": "Port Hammond",
                                    "NumberOfCustomers": "95"
                                },
                                {
                                    "CountryRegionCode": "CA",
                                    "City": "Royal Oak",
                                    "NumberOfCustomers": "94"
                                },
                                {
                                    "CountryRegionCode": "CA",
                                    "City": "Vancouver",
                                    "NumberOfCustomers": "92"
                                },
                                {
                                    "CountryRegionCode": "CA",
                                    "City": "Victoria",
                                    "NumberOfCustomers": "92"
                                },
                                {
                                    "CountryRegionCode": "CA",
                                    "City": "Westminster",
                                    "NumberOfCustomers": "92"
                                },
                                {
                                    "CountryRegionCode": "CA",
                                    "City": "Langley",
                                    "NumberOfCustomers": "92"
                                },
                                {
                                    "CountryRegionCode": "CA",
                                    "City": "Haney",
                                    "NumberOfCustomers": "90"
                                },
                                {
                                    "CountryRegionCode": "CA",
                                    "City": "Newton",
                                    "NumberOfCustomers": "90"
                                },
                                {
                                    "CountryRegionCode": "CA",
                                    "City": "Burnaby",
                                    "NumberOfCustomers": "27"
                                },
                                {
                                    "CountryRegionCode": "CA",
                                    "City": "Calgary",
                                    "NumberOfCustomers": "11"
                                },
                                {
                                    "CountryRegionCode": "CA",
                                    "City": "Chalk Riber",
                                    "NumberOfCustomers": "1"
                                },
                                {
                                    "CountryRegionCode": "DE",
                                    "City": "Berlin",
                                    "NumberOfCustomers": "186"
                                },
                                {
                                    "CountryRegionCode": "DE",
                                    "City": "Hamburg",
                                    "NumberOfCustomers": "115"
                                },
                                {
                                    "CountryRegionCode": "DE",
                                    "City": "München",
                                    "NumberOfCustomers": "91"
                                },
                                {
                                    "CountryRegionCode": "DE",
                                    "City": "Paderborn",
                                    "NumberOfCustomers": "85"
                                },
                                {
                                    "CountryRegionCode": "DE",
                                    "City": "Frankfurt",
                                    "NumberOfCustomers": "85"
                                },
                                {
                                    "CountryRegionCode": "DE",
                                    "City": "Bonn",
                                    "NumberOfCustomers": "62"
                                },
                                {
                                    "CountryRegionCode": "DE",
                                    "City": "Frankfurt am Main",
                                    "NumberOfCustomers": "60"
                                },
                                {
                                    "CountryRegionCode": "DE",
                                    "City": "Stuttgart",
                                    "NumberOfCustomers": "60"
                                },
                                {
                                    "CountryRegionCode": "DE",
                                    "City": "Bottrop",
                                    "NumberOfCustomers": "57"
                                },
                                {
                                    "CountryRegionCode": "DE",
                                    "City": "Erlangen",
                                    "NumberOfCustomers": "56"
                                },
                                {
                                    "CountryRegionCode": "DE",
                                    "City": "Hof",
                                    "NumberOfCustomers": "56"
                                },
                                {
                                    "CountryRegionCode": "DE",
                                    "City": "Ingolstadt",
                                    "NumberOfCustomers": "56"
                                },
                                {
                                    "CountryRegionCode": "DE",
                                    "City": "Werne",
                                    "NumberOfCustomers": "56"
                                },
                                {
                                    "CountryRegionCode": "DE",
                                    "City": "Solingen",
                                    "NumberOfCustomers": "55"
                                },
                                {
                                    "CountryRegionCode": "DE",
                                    "City": "Saarlouis",
                                    "NumberOfCustomers": "55"
                                },
                                {
                                    "CountryRegionCode": "DE",
                                    "City": "Neunkirchen",
                                    "NumberOfCustomers": "55"
                                },
                                {
                                    "CountryRegionCode": "DE",
                                    "City": "Kassel",
                                    "NumberOfCustomers": "55"
                                },
                                {
                                    "CountryRegionCode": "DE",
                                    "City": "Darmstadt",
                                    "NumberOfCustomers": "55"
                                },
                                {
                                    "CountryRegionCode": "DE",
                                    "City": "Braunschweig",
                                    "NumberOfCustomers": "31"
                                },
                                {
                                    "CountryRegionCode": "DE",
                                    "City": "Eilenburg",
                                    "NumberOfCustomers": "30"
                                },
                                {
                                    "CountryRegionCode": "DE",
                                    "City": "Dresden",
                                    "NumberOfCustomers": "30"
                                },
                                {
                                    "CountryRegionCode": "DE",
                                    "City": "Duesseldorf",
                                    "NumberOfCustomers": "30"
                                },
                                {
                                    "CountryRegionCode": "DE",
                                    "City": "Essen",
                                    "NumberOfCustomers": "30"
                                },
                                {
                                    "CountryRegionCode": "DE",
                                    "City": "Kiel",
                                    "NumberOfCustomers": "30"
                                },
                                {
                                    "CountryRegionCode": "DE",
                                    "City": "Leipzig",
                                    "NumberOfCustomers": "30"
                                },
                                {
                                    "CountryRegionCode": "DE",
                                    "City": "Hannover",
                                    "NumberOfCustomers": "30"
                                },
                                {
                                    "CountryRegionCode": "DE",
                                    "City": "Grevenbroich",
                                    "NumberOfCustomers": "30"
                                },
                                {
                                    "CountryRegionCode": "DE",
                                    "City": "Mühlheim",
                                    "NumberOfCustomers": "30"
                                },
                                {
                                    "CountryRegionCode": "DE",
                                    "City": "Offenbach",
                                    "NumberOfCustomers": "30"
                                },
                                {
                                    "CountryRegionCode": "DE",
                                    "City": "Poing",
                                    "NumberOfCustomers": "30"
                                },
                                {
                                    "CountryRegionCode": "DE",
                                    "City": "Saarbrücken",
                                    "NumberOfCustomers": "30"
                                },
                                {
                                    "CountryRegionCode": "DE",
                                    "City": "Salzgitter",
                                    "NumberOfCustomers": "30"
                                },
                                {
                                    "CountryRegionCode": "DE",
                                    "City": "Sulzbach Taunus",
                                    "NumberOfCustomers": "30"
                                },
                                {
                                    "CountryRegionCode": "DE",
                                    "City": "Münster",
                                    "NumberOfCustomers": "29"
                                },
                                {
                                    "CountryRegionCode": "FR",
                                    "City": "Paris",
                                    "NumberOfCustomers": "386"
                                },
                                {
                                    "CountryRegionCode": "FR",
                                    "City": "Les Ulis",
                                    "NumberOfCustomers": "90"
                                },
                                {
                                    "CountryRegionCode": "FR",
                                    "City": "Pantin",
                                    "NumberOfCustomers": "60"
                                },
                                {
                                    "CountryRegionCode": "FR",
                                    "City": "Orleans",
                                    "NumberOfCustomers": "60"
                                },
                                {
                                    "CountryRegionCode": "FR",
                                    "City": "Saint Ouen",
                                    "NumberOfCustomers": "60"
                                },
                                {
                                    "CountryRegionCode": "FR",
                                    "City": "Colombes",
                                    "NumberOfCustomers": "60"
                                },
                                {
                                    "CountryRegionCode": "FR",
                                    "City": "Bobigny",
                                    "NumberOfCustomers": "57"
                                },
                                {
                                    "CountryRegionCode": "FR",
                                    "City": "Chatou",
                                    "NumberOfCustomers": "56"
                                },
                                {
                                    "CountryRegionCode": "FR",
                                    "City": "Drancy",
                                    "NumberOfCustomers": "56"
                                },
                                {
                                    "CountryRegionCode": "FR",
                                    "City": "Dunkerque",
                                    "NumberOfCustomers": "56"
                                },
                                {
                                    "CountryRegionCode": "FR",
                                    "City": "Saint-Denis",
                                    "NumberOfCustomers": "56"
                                },
                                {
                                    "CountryRegionCode": "FR",
                                    "City": "Saint Germain en Laye",
                                    "NumberOfCustomers": "56"
                                },
                                {
                                    "CountryRegionCode": "FR",
                                    "City": "Roubaix",
                                    "NumberOfCustomers": "56"
                                },
                                {
                                    "CountryRegionCode": "FR",
                                    "City": "Lille",
                                    "NumberOfCustomers": "56"
                                },
                                {
                                    "CountryRegionCode": "FR",
                                    "City": "Metz",
                                    "NumberOfCustomers": "56"
                                },
                                {
                                    "CountryRegionCode": "FR",
                                    "City": "Villeneuve-d'Ascq",
                                    "NumberOfCustomers": "56"
                                },
                                {
                                    "CountryRegionCode": "FR",
                                    "City": "Tremblay-en-France",
                                    "NumberOfCustomers": "56"
                                },
                                {
                                    "CountryRegionCode": "FR",
                                    "City": "Versailles",
                                    "NumberOfCustomers": "56"
                                },
                                {
                                    "CountryRegionCode": "FR",
                                    "City": "Verrieres Le Buisson",
                                    "NumberOfCustomers": "30"
                                },
                                {
                                    "CountryRegionCode": "FR",
                                    "City": "Suresnes",
                                    "NumberOfCustomers": "30"
                                },
                                {
                                    "CountryRegionCode": "FR",
                                    "City": "Sèvres",
                                    "NumberOfCustomers": "30"
                                },
                                {
                                    "CountryRegionCode": "FR",
                                    "City": "Lieusaint",
                                    "NumberOfCustomers": "30"
                                },
                                {
                                    "CountryRegionCode": "FR",
                                    "City": "Morangis",
                                    "NumberOfCustomers": "30"
                                },
                                {
                                    "CountryRegionCode": "FR",
                                    "City": "Roissy en Brie",
                                    "NumberOfCustomers": "30"
                                },
                                {
                                    "CountryRegionCode": "FR",
                                    "City": "Roncq",
                                    "NumberOfCustomers": "30"
                                },
                                {
                                    "CountryRegionCode": "FR",
                                    "City": "Orly",
                                    "NumberOfCustomers": "30"
                                },
                                {
                                    "CountryRegionCode": "FR",
                                    "City": "Paris La Defense",
                                    "NumberOfCustomers": "30"
                                },
                                {
                                    "CountryRegionCode": "FR",
                                    "City": "Colomiers",
                                    "NumberOfCustomers": "30"
                                },
                                {
                                    "CountryRegionCode": "FR",
                                    "City": "Croix",
                                    "NumberOfCustomers": "30"
                                },
                                {
                                    "CountryRegionCode": "FR",
                                    "City": "Courbevoie",
                                    "NumberOfCustomers": "30"
                                },
                                {
                                    "CountryRegionCode": "FR",
                                    "City": "Cergy",
                                    "NumberOfCustomers": "30"
                                },
                                {
                                    "CountryRegionCode": "FR",
                                    "City": "Boulogne-sur-Mer",
                                    "NumberOfCustomers": "16"
                                },
                                {
                                    "CountryRegionCode": "FR",
                                    "City": "Boulogne-Billancourt",
                                    "NumberOfCustomers": "15"
                                },
                                {
                                    "CountryRegionCode": "GB",
                                    "City": "London",
                                    "NumberOfCustomers": "420"
                                },
                                {
                                    "CountryRegionCode": "GB",
                                    "City": "York",
                                    "NumberOfCustomers": "115"
                                },
                                {
                                    "CountryRegionCode": "GB",
                                    "City": "Warrington",
                                    "NumberOfCustomers": "85"
                                },
                                {
                                    "CountryRegionCode": "GB",
                                    "City": "Oxford",
                                    "NumberOfCustomers": "85"
                                },
                                {
                                    "CountryRegionCode": "GB",
                                    "City": "Milton Keynes",
                                    "NumberOfCustomers": "60"
                                },
                                {
                                    "CountryRegionCode": "GB",
                                    "City": "Billericay",
                                    "NumberOfCustomers": "56"
                                },
                                {
                                    "CountryRegionCode": "GB",
                                    "City": "Bury",
                                    "NumberOfCustomers": "56"
                                },
                                {
                                    "CountryRegionCode": "GB",
                                    "City": "Cheltenham",
                                    "NumberOfCustomers": "55"
                                },
                                {
                                    "CountryRegionCode": "GB",
                                    "City": "Esher-Molesey",
                                    "NumberOfCustomers": "55"
                                },
                                {
                                    "CountryRegionCode": "GB",
                                    "City": "Gateshead",
                                    "NumberOfCustomers": "55"
                                },
                                {
                                    "CountryRegionCode": "GB",
                                    "City": "Leeds",
                                    "NumberOfCustomers": "55"
                                },
                                {
                                    "CountryRegionCode": "GB",
                                    "City": "Kirkby",
                                    "NumberOfCustomers": "55"
                                },
                                {
                                    "CountryRegionCode": "GB",
                                    "City": "Newcastle upon Tyne",
                                    "NumberOfCustomers": "55"
                                },
                                {
                                    "CountryRegionCode": "GB",
                                    "City": "Peterborough",
                                    "NumberOfCustomers": "55"
                                },
                                {
                                    "CountryRegionCode": "GB",
                                    "City": "Runcorn",
                                    "NumberOfCustomers": "55"
                                },
                                {
                                    "CountryRegionCode": "GB",
                                    "City": "Watford",
                                    "NumberOfCustomers": "55"
                                },
                                {
                                    "CountryRegionCode": "GB",
                                    "City": "Stoke-on-Trent",
                                    "NumberOfCustomers": "55"
                                },
                                {
                                    "CountryRegionCode": "GB",
                                    "City": "Berks",
                                    "NumberOfCustomers": "31"
                                },
                                {
                                    "CountryRegionCode": "GB",
                                    "City": "Berkshire",
                                    "NumberOfCustomers": "31"
                                },
                                {
                                    "CountryRegionCode": "GB",
                                    "City": "Birmingham",
                                    "NumberOfCustomers": "31"
                                },
                                {
                                    "CountryRegionCode": "GB",
                                    "City": "Bracknell",
                                    "NumberOfCustomers": "31"
                                },
                                {
                                    "CountryRegionCode": "GB",
                                    "City": "Cambridge",
                                    "NumberOfCustomers": "30"
                                },
                                {
                                    "CountryRegionCode": "GB",
                                    "City": "Lancaster",
                                    "NumberOfCustomers": "30"
                                },
                                {
                                    "CountryRegionCode": "GB",
                                    "City": "Gloucestershire",
                                    "NumberOfCustomers": "30"
                                },
                                {
                                    "CountryRegionCode": "GB",
                                    "City": "High Wycombe",
                                    "NumberOfCustomers": "30"
                                },
                                {
                                    "CountryRegionCode": "GB",
                                    "City": "W. York",
                                    "NumberOfCustomers": "30"
                                },
                                {
                                    "CountryRegionCode": "GB",
                                    "City": "Wokingham",
                                    "NumberOfCustomers": "30"
                                },
                                {
                                    "CountryRegionCode": "GB",
                                    "City": "West Sussex",
                                    "NumberOfCustomers": "30"
                                },
                                {
                                    "CountryRegionCode": "GB",
                                    "City": "Woolston",
                                    "NumberOfCustomers": "30"
                                },
                                {
                                    "CountryRegionCode": "GB",
                                    "City": "Reading",
                                    "NumberOfCustomers": "30"
                                },
                                {
                                    "CountryRegionCode": "GB",
                                    "City": "Oxon",
                                    "NumberOfCustomers": "30"
                                },
                                {
                                    "CountryRegionCode": "GB",
                                    "City": "Liverpool",
                                    "NumberOfCustomers": "30"
                                },
                                {
                                    "CountryRegionCode": "GB",
                                    "City": "Maidenhead",
                                    "NumberOfCustomers": "30"
                                },
                                {
                                    "CountryRegionCode": "GB",
                                    "City": "Basingstoke Hants",
                                    "NumberOfCustomers": "2"
                                },
                                {
                                    "CountryRegionCode": "US",
                                    "City": "Burien",
                                    "NumberOfCustomers": "212"
                                },
                                {
                                    "CountryRegionCode": "US",
                                    "City": "Concord",
                                    "NumberOfCustomers": "212"
                                },
                                {
                                    "CountryRegionCode": "US",
                                    "City": "Beaverton",
                                    "NumberOfCustomers": "210"
                                },
                                {
                                    "CountryRegionCode": "US",
                                    "City": "Bellingham",
                                    "NumberOfCustomers": "210"
                                },
                                {
                                    "CountryRegionCode": "US",
                                    "City": "Chula Vista",
                                    "NumberOfCustomers": "206"
                                },
                                {
                                    "CountryRegionCode": "US",
                                    "City": "Berkeley",
                                    "NumberOfCustomers": "200"
                                },
                                {
                                    "CountryRegionCode": "US",
                                    "City": "Burlingame",
                                    "NumberOfCustomers": "198"
                                },
                                {
                                    "CountryRegionCode": "US",
                                    "City": "Bellflower",
                                    "NumberOfCustomers": "194"
                                },
                                {
                                    "CountryRegionCode": "US",
                                    "City": "Burbank",
                                    "NumberOfCustomers": "193"
                                },
                                {
                                    "CountryRegionCode": "US",
                                    "City": "Beverly Hills",
                                    "NumberOfCustomers": "188"
                                },
                                {
                                    "CountryRegionCode": "US",
                                    "City": "Bremerton",
                                    "NumberOfCustomers": "182"
                                },
                                {
                                    "CountryRegionCode": "US",
                                    "City": "Colma",
                                    "NumberOfCustomers": "168"
                                },
                                {
                                    "CountryRegionCode": "US",
                                    "City": "Coronado",
                                    "NumberOfCustomers": "132"
                                },
                                {
                                    "CountryRegionCode": "US",
                                    "City": "Downey",
                                    "NumberOfCustomers": "110"
                                },
                                {
                                    "CountryRegionCode": "US",
                                    "City": "Lebanon",
                                    "NumberOfCustomers": "108"
                                },
                                {
                                    "CountryRegionCode": "US",
                                    "City": "Lemon Grove",
                                    "NumberOfCustomers": "107"
                                },
                                {
                                    "CountryRegionCode": "US",
                                    "City": "Lake Oswego",
                                    "NumberOfCustomers": "104"
                                },
                                {
                                    "CountryRegionCode": "US",
                                    "City": "El Cajon",
                                    "NumberOfCustomers": "104"
                                },
                                {
                                    "CountryRegionCode": "US",
                                    "City": "Milwaukie",
                                    "NumberOfCustomers": "104"
                                },
                                {
                                    "CountryRegionCode": "US",
                                    "City": "Issaquah",
                                    "NumberOfCustomers": "103"
                                },
                                {
                                    "CountryRegionCode": "US",
                                    "City": "Glendale",
                                    "NumberOfCustomers": "102"
                                },
                                {
                                    "CountryRegionCode": "US",
                                    "City": "Lincoln Acres",
                                    "NumberOfCustomers": "102"
                                },
                                {
                                    "CountryRegionCode": "US",
                                    "City": "National City",
                                    "NumberOfCustomers": "101"
                                },
                                {
                                    "CountryRegionCode": "US",
                                    "City": "Torrance",
                                    "NumberOfCustomers": "100"
                                },
                                {
                                    "CountryRegionCode": "US",
                                    "City": "Grossmont",
                                    "NumberOfCustomers": "100"
                                },
                                {
                                    "CountryRegionCode": "US",
                                    "City": "Walla Walla",
                                    "NumberOfCustomers": "99"
                                },
                                {
                                    "CountryRegionCode": "US",
                                    "City": "Lynnwood",
                                    "NumberOfCustomers": "97"
                                },
                                {
                                    "CountryRegionCode": "US",
                                    "City": "Salem",
                                    "NumberOfCustomers": "97"
                                },
                                {
                                    "CountryRegionCode": "US",
                                    "City": "Yakima",
                                    "NumberOfCustomers": "96"
                                },
                                {
                                    "CountryRegionCode": "US",
                                    "City": "Woodland Hills",
                                    "NumberOfCustomers": "96"
                                },
                                {
                                    "CountryRegionCode": "US",
                                    "City": "San Gabriel",
                                    "NumberOfCustomers": "96"
                                },
                                {
                                    "CountryRegionCode": "US",
                                    "City": "Puyallup",
                                    "NumberOfCustomers": "95"
                                },
                                {
                                    "CountryRegionCode": "US",
                                    "City": "Long Beach",
                                    "NumberOfCustomers": "95"
                                },
                                {
                                    "CountryRegionCode": "US",
                                    "City": "Everett",
                                    "NumberOfCustomers": "95"
                                },
                                {
                                    "CountryRegionCode": "US",
                                    "City": "Edmonds",
                                    "NumberOfCustomers": "94"
                                },
                                {
                                    "CountryRegionCode": "US",
                                    "City": "Corvallis",
                                    "NumberOfCustomers": "94"
                                },
                                {
                                    "CountryRegionCode": "US",
                                    "City": "La Jolla",
                                    "NumberOfCustomers": "94"
                                },
                                {
                                    "CountryRegionCode": "US",
                                    "City": "Redmond",
                                    "NumberOfCustomers": "94"
                                },
                                {
                                    "CountryRegionCode": "US",
                                    "City": "Marysville",
                                    "NumberOfCustomers": "93"
                                },
                                {
                                    "CountryRegionCode": "US",
                                    "City": "Tacoma",
                                    "NumberOfCustomers": "93"
                                },
                                {
                                    "CountryRegionCode": "US",
                                    "City": "Kirkland",
                                    "NumberOfCustomers": "93"
                                },
                                {
                                    "CountryRegionCode": "US",
                                    "City": "Imperial Beach",
                                    "NumberOfCustomers": "92"
                                },
                                {
                                    "CountryRegionCode": "US",
                                    "City": "Santa Cruz",
                                    "NumberOfCustomers": "92"
                                },
                                {
                                    "CountryRegionCode": "US",
                                    "City": "Seattle",
                                    "NumberOfCustomers": "92"
                                },
                                {
                                    "CountryRegionCode": "US",
                                    "City": "Renton",
                                    "NumberOfCustomers": "92"
                                },
                                {
                                    "CountryRegionCode": "US",
                                    "City": "Olympia",
                                    "NumberOfCustomers": "92"
                                },
                                {
                                    "CountryRegionCode": "US",
                                    "City": "Palo Alto",
                                    "NumberOfCustomers": "91"
                                },
                                {
                                    "CountryRegionCode": "US",
                                    "City": "Santa Monica",
                                    "NumberOfCustomers": "91"
                                },
                                {
                                    "CountryRegionCode": "US",
                                    "City": "San Diego",
                                    "NumberOfCustomers": "91"
                                },
                                {
                                    "CountryRegionCode": "US",
                                    "City": "Spring Valley",
                                    "NumberOfCustomers": "91"
                                },
                                {
                                    "CountryRegionCode": "US",
                                    "City": "Woodburn",
                                    "NumberOfCustomers": "90"
                                },
                                {
                                    "CountryRegionCode": "US",
                                    "City": "Portland",
                                    "NumberOfCustomers": "90"
                                },
                                {
                                    "CountryRegionCode": "US",
                                    "City": "Los Angeles",
                                    "NumberOfCustomers": "90"
                                },
                                {
                                    "CountryRegionCode": "US",
                                    "City": "Newport Beach",
                                    "NumberOfCustomers": "89"
                                },
                                {
                                    "CountryRegionCode": "US",
                                    "City": "Novato",
                                    "NumberOfCustomers": "89"
                                },
                                {
                                    "CountryRegionCode": "US",
                                    "City": "Port Orchard",
                                    "NumberOfCustomers": "88"
                                },
                                {
                                    "CountryRegionCode": "US",
                                    "City": "San Carlos",
                                    "NumberOfCustomers": "88"
                                },
                                {
                                    "CountryRegionCode": "US",
                                    "City": "Sedro Woolley",
                                    "NumberOfCustomers": "87"
                                },
                                {
                                    "CountryRegionCode": "US",
                                    "City": "W. Linn",
                                    "NumberOfCustomers": "87"
                                },
                                {
                                    "CountryRegionCode": "US",
                                    "City": "West Covina",
                                    "NumberOfCustomers": "87"
                                },
                                {
                                    "CountryRegionCode": "US",
                                    "City": "Oregon City",
                                    "NumberOfCustomers": "87"
                                },
                                {
                                    "CountryRegionCode": "US",
                                    "City": "Oakland",
                                    "NumberOfCustomers": "87"
                                },
                                {
                                    "CountryRegionCode": "US",
                                    "City": "Daly City",
                                    "NumberOfCustomers": "87"
                                },
                                {
                                    "CountryRegionCode": "US",
                                    "City": "Mill Valley",
                                    "NumberOfCustomers": "85"
                                },
                                {
                                    "CountryRegionCode": "US",
                                    "City": "Redwood City",
                                    "NumberOfCustomers": "84"
                                },
                                {
                                    "CountryRegionCode": "US",
                                    "City": "Spokane",
                                    "NumberOfCustomers": "84"
                                },
                                {
                                    "CountryRegionCode": "US",
                                    "City": "Lakewood",
                                    "NumberOfCustomers": "82"
                                },
                                {
                                    "CountryRegionCode": "US",
                                    "City": "Fremont",
                                    "NumberOfCustomers": "75"
                                },
                                {
                                    "CountryRegionCode": "US",
                                    "City": "Ballard",
                                    "NumberOfCustomers": "68"
                                },
                                {
                                    "CountryRegionCode": "US",
                                    "City": "San Francisco",
                                    "NumberOfCustomers": "47"
                                },
                                {
                                    "CountryRegionCode": "US",
                                    "City": "Chicago",
                                    "NumberOfCustomers": "5"
                                },
                                {
                                    "CountryRegionCode": "US",
                                    "City": "Clearwater",
                                    "NumberOfCustomers": "2"
                                },
                                {
                                    "CountryRegionCode": "US",
                                    "City": "Columbus",
                                    "NumberOfCustomers": "2"
                                },
                                {
                                    "CountryRegionCode": "US",
                                    "City": "Bothell",
                                    "NumberOfCustomers": "2"
                                },
                                {
                                    "CountryRegionCode": "US",
                                    "City": "Camarillo",
                                    "NumberOfCustomers": "2"
                                },
                                {
                                    "CountryRegionCode": "US",
                                    "City": "Cincinnati",
                                    "NumberOfCustomers": "2"
                                },
                                {
                                    "CountryRegionCode": "US",
                                    "City": "Clackamas",
                                    "NumberOfCustomers": "2"
                                },
                                {
                                    "CountryRegionCode": "US",
                                    "City": "Chandler",
                                    "NumberOfCustomers": "2"
                                },
                                {
                                    "CountryRegionCode": "US",
                                    "City": "Chantilly",
                                    "NumberOfCustomers": "1"
                                },
                                {
                                    "CountryRegionCode": "US",
                                    "City": "Charlotte",
                                    "NumberOfCustomers": "1"
                                },
                                {
                                    "CountryRegionCode": "US",
                                    "City": "Cerritos",
                                    "NumberOfCustomers": "1"
                                },
                                {
                                    "CountryRegionCode": "US",
                                    "City": "Cheektowaga",
                                    "NumberOfCustomers": "1"
                                },
                                {
                                    "CountryRegionCode": "US",
                                    "City": "Chehalis",
                                    "NumberOfCustomers": "1"
                                },
                                {
                                    "CountryRegionCode": "US",
                                    "City": "Clarkston",
                                    "NumberOfCustomers": "1"
                                },
                                {
                                    "CountryRegionCode": "US",
                                    "City": "Clay",
                                    "NumberOfCustomers": "1"
                                },
                                {
                                    "CountryRegionCode": "US",
                                    "City": "Cheyenne",
                                    "NumberOfCustomers": "1"
                                },
                                {
                                    "CountryRegionCode": "US",
                                    "City": "Citrus Heights",
                                    "NumberOfCustomers": "1"
                                },
                                {
                                    "CountryRegionCode": "US",
                                    "City": "City Of Commerce",
                                    "NumberOfCustomers": "1"
                                },
                                {
                                    "CountryRegionCode": "US",
                                    "City": "Byron",
                                    "NumberOfCustomers": "1"
                                },
                                {
                                    "CountryRegionCode": "US",
                                    "City": "Campbellsville",
                                    "NumberOfCustomers": "1"
                                },
                                {
                                    "CountryRegionCode": "US",
                                    "City": "Canoga Park",
                                    "NumberOfCustomers": "1"
                                },
                                {
                                    "CountryRegionCode": "US",
                                    "City": "Carol Stream",
                                    "NumberOfCustomers": "1"
                                },
                                {
                                    "CountryRegionCode": "US",
                                    "City": "Carrollton",
                                    "NumberOfCustomers": "1"
                                },
                                {
                                    "CountryRegionCode": "US",
                                    "City": "Carson",
                                    "NumberOfCustomers": "1"
                                },
                                {
                                    "CountryRegionCode": "US",
                                    "City": "Casper",
                                    "NumberOfCustomers": "1"
                                },
                                {
                                    "CountryRegionCode": "US",
                                    "City": "Cedar City",
                                    "NumberOfCustomers": "1"
                                },
                                {
                                    "CountryRegionCode": "US",
                                    "City": "Cedar Park",
                                    "NumberOfCustomers": "1"
                                },
                                {
                                    "CountryRegionCode": "US",
                                    "City": "Central Valley",
                                    "NumberOfCustomers": "1"
                                },
                                {
                                    "CountryRegionCode": "US",
                                    "City": "Birmingham",
                                    "NumberOfCustomers": "1"
                                },
                                {
                                    "CountryRegionCode": "US",
                                    "City": "Bluffton",
                                    "NumberOfCustomers": "1"
                                },
                                {
                                    "CountryRegionCode": "US",
                                    "City": "Bountiful",
                                    "NumberOfCustomers": "1"
                                },
                                {
                                    "CountryRegionCode": "US",
                                    "City": "Bradenton",
                                    "NumberOfCustomers": "1"
                                },
                                {
                                    "CountryRegionCode": "US",
                                    "City": "Braintree",
                                    "NumberOfCustomers": "1"
                                },
                                {
                                    "CountryRegionCode": "US",
                                    "City": "Branch",
                                    "NumberOfCustomers": "1"
                                },
                                {
                                    "CountryRegionCode": "US",
                                    "City": "Branson",
                                    "NumberOfCustomers": "1"
                                },
                                {
                                    "CountryRegionCode": "US",
                                    "City": "Barstow",
                                    "NumberOfCustomers": "1"
                                },
                                {
                                    "CountryRegionCode": "US",
                                    "City": "Baytown",
                                    "NumberOfCustomers": "1"
                                },
                                {
                                    "CountryRegionCode": "US",
                                    "City": "Bell Gardens",
                                    "NumberOfCustomers": "1"
                                },
                                {
                                    "CountryRegionCode": "US",
                                    "City": "Bellevue",
                                    "NumberOfCustomers": "1"
                                },
                                {
                                    "CountryRegionCode": "US",
                                    "City": "Billings",
                                    "NumberOfCustomers": "1"
                                },
                                {
                                    "CountryRegionCode": "US",
                                    "City": "Biloxi",
                                    "NumberOfCustomers": "1"
                                },
                                {
                                    "CountryRegionCode": "US",
                                    "City": "College Station",
                                    "NumberOfCustomers": "1"
                                }
                            ]
                        },
                        "text/html": "<table><tr><th>CountryRegionCode</th><th>City</th><th>NumberOfCustomers</th></tr><tr><td>AU</td><td>Brisbane</td><td>106</td></tr><tr><td>AU</td><td>Caloundra</td><td>106</td></tr><tr><td>AU</td><td>Coffs Harbour</td><td>106</td></tr><tr><td>AU</td><td>Cranbourne</td><td>106</td></tr><tr><td>AU</td><td>Gold Coast</td><td>106</td></tr><tr><td>AU</td><td>Goulburn</td><td>106</td></tr><tr><td>AU</td><td>Geelong</td><td>106</td></tr><tr><td>AU</td><td>Hobart</td><td>106</td></tr><tr><td>AU</td><td>Hervey Bay</td><td>105</td></tr><tr><td>AU</td><td>Melbourne</td><td>105</td></tr><tr><td>AU</td><td>Melton</td><td>105</td></tr><tr><td>AU</td><td>Port Macquarie</td><td>105</td></tr><tr><td>AU</td><td>Rockhampton</td><td>105</td></tr><tr><td>AU</td><td>Sunbury</td><td>105</td></tr><tr><td>AU</td><td>Sydney</td><td>105</td></tr><tr><td>AU</td><td>Townsville</td><td>105</td></tr><tr><td>AU</td><td>Warrnambool</td><td>105</td></tr><tr><td>AU</td><td>Wollongong</td><td>105</td></tr><tr><td>AU</td><td>Bendigo</td><td>104</td></tr><tr><td>AU</td><td>Hawthorne</td><td>80</td></tr><tr><td>AU</td><td>Lane Cove</td><td>80</td></tr><tr><td>AU</td><td>Lavender Bay</td><td>80</td></tr><tr><td>AU</td><td>Darlinghurst</td><td>80</td></tr><tr><td>AU</td><td>Cloverdale</td><td>80</td></tr><tr><td>AU</td><td>East Brisbane</td><td>80</td></tr><tr><td>AU</td><td>Findon</td><td>80</td></tr><tr><td>AU</td><td>Malabar</td><td>80</td></tr><tr><td>AU</td><td>Matraville</td><td>80</td></tr><tr><td>AU</td><td>Milsons Point</td><td>79</td></tr><tr><td>AU</td><td>Newcastle</td><td>79</td></tr><tr><td>AU</td><td>North Ryde</td><td>79</td></tr><tr><td>AU</td><td>North Sydney</td><td>79</td></tr><tr><td>AU</td><td>Rhodes</td><td>79</td></tr><tr><td>AU</td><td>Perth</td><td>79</td></tr><tr><td>AU</td><td>Springwood</td><td>79</td></tr><tr><td>AU</td><td>St. Leonards</td><td>79</td></tr><tr><td>AU</td><td>Seaford</td><td>79</td></tr><tr><td>AU</td><td>Silverwater</td><td>79</td></tr><tr><td>AU</td><td>South Melbourne</td><td>79</td></tr><tr><td>CA</td><td>Cliffside</td><td>188</td></tr><tr><td>CA</td><td>Shawnee</td><td>111</td></tr><tr><td>CA</td><td>Langford</td><td>105</td></tr><tr><td>CA</td><td>Oak Bay</td><td>99</td></tr><tr><td>CA</td><td>N. Vancouver</td><td>99</td></tr><tr><td>CA</td><td>Sooke</td><td>97</td></tr><tr><td>CA</td><td>Metchosin</td><td>96</td></tr><tr><td>CA</td><td>Port Hammond</td><td>95</td></tr><tr><td>CA</td><td>Royal Oak</td><td>94</td></tr><tr><td>CA</td><td>Vancouver</td><td>92</td></tr><tr><td>CA</td><td>Victoria</td><td>92</td></tr><tr><td>CA</td><td>Westminster</td><td>92</td></tr><tr><td>CA</td><td>Langley</td><td>92</td></tr><tr><td>CA</td><td>Haney</td><td>90</td></tr><tr><td>CA</td><td>Newton</td><td>90</td></tr><tr><td>CA</td><td>Burnaby</td><td>27</td></tr><tr><td>CA</td><td>Calgary</td><td>11</td></tr><tr><td>CA</td><td>Chalk Riber</td><td>1</td></tr><tr><td>DE</td><td>Berlin</td><td>186</td></tr><tr><td>DE</td><td>Hamburg</td><td>115</td></tr><tr><td>DE</td><td>München</td><td>91</td></tr><tr><td>DE</td><td>Paderborn</td><td>85</td></tr><tr><td>DE</td><td>Frankfurt</td><td>85</td></tr><tr><td>DE</td><td>Bonn</td><td>62</td></tr><tr><td>DE</td><td>Frankfurt am Main</td><td>60</td></tr><tr><td>DE</td><td>Stuttgart</td><td>60</td></tr><tr><td>DE</td><td>Bottrop</td><td>57</td></tr><tr><td>DE</td><td>Erlangen</td><td>56</td></tr><tr><td>DE</td><td>Hof</td><td>56</td></tr><tr><td>DE</td><td>Ingolstadt</td><td>56</td></tr><tr><td>DE</td><td>Werne</td><td>56</td></tr><tr><td>DE</td><td>Solingen</td><td>55</td></tr><tr><td>DE</td><td>Saarlouis</td><td>55</td></tr><tr><td>DE</td><td>Neunkirchen</td><td>55</td></tr><tr><td>DE</td><td>Kassel</td><td>55</td></tr><tr><td>DE</td><td>Darmstadt</td><td>55</td></tr><tr><td>DE</td><td>Braunschweig</td><td>31</td></tr><tr><td>DE</td><td>Eilenburg</td><td>30</td></tr><tr><td>DE</td><td>Dresden</td><td>30</td></tr><tr><td>DE</td><td>Duesseldorf</td><td>30</td></tr><tr><td>DE</td><td>Essen</td><td>30</td></tr><tr><td>DE</td><td>Kiel</td><td>30</td></tr><tr><td>DE</td><td>Leipzig</td><td>30</td></tr><tr><td>DE</td><td>Hannover</td><td>30</td></tr><tr><td>DE</td><td>Grevenbroich</td><td>30</td></tr><tr><td>DE</td><td>Mühlheim</td><td>30</td></tr><tr><td>DE</td><td>Offenbach</td><td>30</td></tr><tr><td>DE</td><td>Poing</td><td>30</td></tr><tr><td>DE</td><td>Saarbrücken</td><td>30</td></tr><tr><td>DE</td><td>Salzgitter</td><td>30</td></tr><tr><td>DE</td><td>Sulzbach Taunus</td><td>30</td></tr><tr><td>DE</td><td>Münster</td><td>29</td></tr><tr><td>FR</td><td>Paris</td><td>386</td></tr><tr><td>FR</td><td>Les Ulis</td><td>90</td></tr><tr><td>FR</td><td>Pantin</td><td>60</td></tr><tr><td>FR</td><td>Orleans</td><td>60</td></tr><tr><td>FR</td><td>Saint Ouen</td><td>60</td></tr><tr><td>FR</td><td>Colombes</td><td>60</td></tr><tr><td>FR</td><td>Bobigny</td><td>57</td></tr><tr><td>FR</td><td>Chatou</td><td>56</td></tr><tr><td>FR</td><td>Drancy</td><td>56</td></tr><tr><td>FR</td><td>Dunkerque</td><td>56</td></tr><tr><td>FR</td><td>Saint-Denis</td><td>56</td></tr><tr><td>FR</td><td>Saint Germain en Laye</td><td>56</td></tr><tr><td>FR</td><td>Roubaix</td><td>56</td></tr><tr><td>FR</td><td>Lille</td><td>56</td></tr><tr><td>FR</td><td>Metz</td><td>56</td></tr><tr><td>FR</td><td>Villeneuve-d&#39;Ascq</td><td>56</td></tr><tr><td>FR</td><td>Tremblay-en-France</td><td>56</td></tr><tr><td>FR</td><td>Versailles</td><td>56</td></tr><tr><td>FR</td><td>Verrieres Le Buisson</td><td>30</td></tr><tr><td>FR</td><td>Suresnes</td><td>30</td></tr><tr><td>FR</td><td>Sèvres</td><td>30</td></tr><tr><td>FR</td><td>Lieusaint</td><td>30</td></tr><tr><td>FR</td><td>Morangis</td><td>30</td></tr><tr><td>FR</td><td>Roissy en Brie</td><td>30</td></tr><tr><td>FR</td><td>Roncq</td><td>30</td></tr><tr><td>FR</td><td>Orly</td><td>30</td></tr><tr><td>FR</td><td>Paris La Defense</td><td>30</td></tr><tr><td>FR</td><td>Colomiers</td><td>30</td></tr><tr><td>FR</td><td>Croix</td><td>30</td></tr><tr><td>FR</td><td>Courbevoie</td><td>30</td></tr><tr><td>FR</td><td>Cergy</td><td>30</td></tr><tr><td>FR</td><td>Boulogne-sur-Mer</td><td>16</td></tr><tr><td>FR</td><td>Boulogne-Billancourt</td><td>15</td></tr><tr><td>GB</td><td>London</td><td>420</td></tr><tr><td>GB</td><td>York</td><td>115</td></tr><tr><td>GB</td><td>Warrington</td><td>85</td></tr><tr><td>GB</td><td>Oxford</td><td>85</td></tr><tr><td>GB</td><td>Milton Keynes</td><td>60</td></tr><tr><td>GB</td><td>Billericay</td><td>56</td></tr><tr><td>GB</td><td>Bury</td><td>56</td></tr><tr><td>GB</td><td>Cheltenham</td><td>55</td></tr><tr><td>GB</td><td>Esher-Molesey</td><td>55</td></tr><tr><td>GB</td><td>Gateshead</td><td>55</td></tr><tr><td>GB</td><td>Leeds</td><td>55</td></tr><tr><td>GB</td><td>Kirkby</td><td>55</td></tr><tr><td>GB</td><td>Newcastle upon Tyne</td><td>55</td></tr><tr><td>GB</td><td>Peterborough</td><td>55</td></tr><tr><td>GB</td><td>Runcorn</td><td>55</td></tr><tr><td>GB</td><td>Watford</td><td>55</td></tr><tr><td>GB</td><td>Stoke-on-Trent</td><td>55</td></tr><tr><td>GB</td><td>Berks</td><td>31</td></tr><tr><td>GB</td><td>Berkshire</td><td>31</td></tr><tr><td>GB</td><td>Birmingham</td><td>31</td></tr><tr><td>GB</td><td>Bracknell</td><td>31</td></tr><tr><td>GB</td><td>Cambridge</td><td>30</td></tr><tr><td>GB</td><td>Lancaster</td><td>30</td></tr><tr><td>GB</td><td>Gloucestershire</td><td>30</td></tr><tr><td>GB</td><td>High Wycombe</td><td>30</td></tr><tr><td>GB</td><td>W. York</td><td>30</td></tr><tr><td>GB</td><td>Wokingham</td><td>30</td></tr><tr><td>GB</td><td>West Sussex</td><td>30</td></tr><tr><td>GB</td><td>Woolston</td><td>30</td></tr><tr><td>GB</td><td>Reading</td><td>30</td></tr><tr><td>GB</td><td>Oxon</td><td>30</td></tr><tr><td>GB</td><td>Liverpool</td><td>30</td></tr><tr><td>GB</td><td>Maidenhead</td><td>30</td></tr><tr><td>GB</td><td>Basingstoke Hants</td><td>2</td></tr><tr><td>US</td><td>Burien</td><td>212</td></tr><tr><td>US</td><td>Concord</td><td>212</td></tr><tr><td>US</td><td>Beaverton</td><td>210</td></tr><tr><td>US</td><td>Bellingham</td><td>210</td></tr><tr><td>US</td><td>Chula Vista</td><td>206</td></tr><tr><td>US</td><td>Berkeley</td><td>200</td></tr><tr><td>US</td><td>Burlingame</td><td>198</td></tr><tr><td>US</td><td>Bellflower</td><td>194</td></tr><tr><td>US</td><td>Burbank</td><td>193</td></tr><tr><td>US</td><td>Beverly Hills</td><td>188</td></tr><tr><td>US</td><td>Bremerton</td><td>182</td></tr><tr><td>US</td><td>Colma</td><td>168</td></tr><tr><td>US</td><td>Coronado</td><td>132</td></tr><tr><td>US</td><td>Downey</td><td>110</td></tr><tr><td>US</td><td>Lebanon</td><td>108</td></tr><tr><td>US</td><td>Lemon Grove</td><td>107</td></tr><tr><td>US</td><td>Lake Oswego</td><td>104</td></tr><tr><td>US</td><td>El Cajon</td><td>104</td></tr><tr><td>US</td><td>Milwaukie</td><td>104</td></tr><tr><td>US</td><td>Issaquah</td><td>103</td></tr><tr><td>US</td><td>Glendale</td><td>102</td></tr><tr><td>US</td><td>Lincoln Acres</td><td>102</td></tr><tr><td>US</td><td>National City</td><td>101</td></tr><tr><td>US</td><td>Torrance</td><td>100</td></tr><tr><td>US</td><td>Grossmont</td><td>100</td></tr><tr><td>US</td><td>Walla Walla</td><td>99</td></tr><tr><td>US</td><td>Lynnwood</td><td>97</td></tr><tr><td>US</td><td>Salem</td><td>97</td></tr><tr><td>US</td><td>Yakima</td><td>96</td></tr><tr><td>US</td><td>Woodland Hills</td><td>96</td></tr><tr><td>US</td><td>San Gabriel</td><td>96</td></tr><tr><td>US</td><td>Puyallup</td><td>95</td></tr><tr><td>US</td><td>Long Beach</td><td>95</td></tr><tr><td>US</td><td>Everett</td><td>95</td></tr><tr><td>US</td><td>Edmonds</td><td>94</td></tr><tr><td>US</td><td>Corvallis</td><td>94</td></tr><tr><td>US</td><td>La Jolla</td><td>94</td></tr><tr><td>US</td><td>Redmond</td><td>94</td></tr><tr><td>US</td><td>Marysville</td><td>93</td></tr><tr><td>US</td><td>Tacoma</td><td>93</td></tr><tr><td>US</td><td>Kirkland</td><td>93</td></tr><tr><td>US</td><td>Imperial Beach</td><td>92</td></tr><tr><td>US</td><td>Santa Cruz</td><td>92</td></tr><tr><td>US</td><td>Seattle</td><td>92</td></tr><tr><td>US</td><td>Renton</td><td>92</td></tr><tr><td>US</td><td>Olympia</td><td>92</td></tr><tr><td>US</td><td>Palo Alto</td><td>91</td></tr><tr><td>US</td><td>Santa Monica</td><td>91</td></tr><tr><td>US</td><td>San Diego</td><td>91</td></tr><tr><td>US</td><td>Spring Valley</td><td>91</td></tr><tr><td>US</td><td>Woodburn</td><td>90</td></tr><tr><td>US</td><td>Portland</td><td>90</td></tr><tr><td>US</td><td>Los Angeles</td><td>90</td></tr><tr><td>US</td><td>Newport Beach</td><td>89</td></tr><tr><td>US</td><td>Novato</td><td>89</td></tr><tr><td>US</td><td>Port Orchard</td><td>88</td></tr><tr><td>US</td><td>San Carlos</td><td>88</td></tr><tr><td>US</td><td>Sedro Woolley</td><td>87</td></tr><tr><td>US</td><td>W. Linn</td><td>87</td></tr><tr><td>US</td><td>West Covina</td><td>87</td></tr><tr><td>US</td><td>Oregon City</td><td>87</td></tr><tr><td>US</td><td>Oakland</td><td>87</td></tr><tr><td>US</td><td>Daly City</td><td>87</td></tr><tr><td>US</td><td>Mill Valley</td><td>85</td></tr><tr><td>US</td><td>Redwood City</td><td>84</td></tr><tr><td>US</td><td>Spokane</td><td>84</td></tr><tr><td>US</td><td>Lakewood</td><td>82</td></tr><tr><td>US</td><td>Fremont</td><td>75</td></tr><tr><td>US</td><td>Ballard</td><td>68</td></tr><tr><td>US</td><td>San Francisco</td><td>47</td></tr><tr><td>US</td><td>Chicago</td><td>5</td></tr><tr><td>US</td><td>Clearwater</td><td>2</td></tr><tr><td>US</td><td>Columbus</td><td>2</td></tr><tr><td>US</td><td>Bothell</td><td>2</td></tr><tr><td>US</td><td>Camarillo</td><td>2</td></tr><tr><td>US</td><td>Cincinnati</td><td>2</td></tr><tr><td>US</td><td>Clackamas</td><td>2</td></tr><tr><td>US</td><td>Chandler</td><td>2</td></tr><tr><td>US</td><td>Chantilly</td><td>1</td></tr><tr><td>US</td><td>Charlotte</td><td>1</td></tr><tr><td>US</td><td>Cerritos</td><td>1</td></tr><tr><td>US</td><td>Cheektowaga</td><td>1</td></tr><tr><td>US</td><td>Chehalis</td><td>1</td></tr><tr><td>US</td><td>Clarkston</td><td>1</td></tr><tr><td>US</td><td>Clay</td><td>1</td></tr><tr><td>US</td><td>Cheyenne</td><td>1</td></tr><tr><td>US</td><td>Citrus Heights</td><td>1</td></tr><tr><td>US</td><td>City Of Commerce</td><td>1</td></tr><tr><td>US</td><td>Byron</td><td>1</td></tr><tr><td>US</td><td>Campbellsville</td><td>1</td></tr><tr><td>US</td><td>Canoga Park</td><td>1</td></tr><tr><td>US</td><td>Carol Stream</td><td>1</td></tr><tr><td>US</td><td>Carrollton</td><td>1</td></tr><tr><td>US</td><td>Carson</td><td>1</td></tr><tr><td>US</td><td>Casper</td><td>1</td></tr><tr><td>US</td><td>Cedar City</td><td>1</td></tr><tr><td>US</td><td>Cedar Park</td><td>1</td></tr><tr><td>US</td><td>Central Valley</td><td>1</td></tr><tr><td>US</td><td>Birmingham</td><td>1</td></tr><tr><td>US</td><td>Bluffton</td><td>1</td></tr><tr><td>US</td><td>Bountiful</td><td>1</td></tr><tr><td>US</td><td>Bradenton</td><td>1</td></tr><tr><td>US</td><td>Braintree</td><td>1</td></tr><tr><td>US</td><td>Branch</td><td>1</td></tr><tr><td>US</td><td>Branson</td><td>1</td></tr><tr><td>US</td><td>Barstow</td><td>1</td></tr><tr><td>US</td><td>Baytown</td><td>1</td></tr><tr><td>US</td><td>Bell Gardens</td><td>1</td></tr><tr><td>US</td><td>Bellevue</td><td>1</td></tr><tr><td>US</td><td>Billings</td><td>1</td></tr><tr><td>US</td><td>Biloxi</td><td>1</td></tr><tr><td>US</td><td>College Station</td><td>1</td></tr></table>"
                    },
                    "metadata": {}
                }
            ],
            "execution_count": 40
        },
        {
            "cell_type": "code",
            "source": [
                "--16 comparison of the geographic distribution of customers and resellers by country\n",
                "USE AdventureWorksDW2017;\n",
                "SELECT \n",
                "    g.CountryRegionCode,\n",
                "    COALESCE(SUM(c.CustomerCount), 0) AS CustomerCount,\n",
                "    COALESCE(SUM(r.ResellerCount), 0) AS ResellerCount\n",
                "FROM \n",
                "    DimGeography g\n",
                "LEFT JOIN \n",
                "    (SELECT GeographyKey, COUNT(*) AS CustomerCount FROM DimCustomer GROUP BY GeographyKey) c ON g.GeographyKey = c.GeographyKey\n",
                "LEFT JOIN \n",
                "    (SELECT GeographyKey, COUNT(*) AS ResellerCount FROM DimReseller GROUP BY GeographyKey) r ON g.GeographyKey = r.GeographyKey\n",
                "GROUP BY \n",
                "    g.CountryRegionCode\n",
                "ORDER BY \n",
                "    g.CountryRegionCode;\n",
                "\n",
                "\n",
                ""
            ],
            "metadata": {
                "azdata_cell_guid": "22ac63e1-15dc-438d-94f9-e917052b8867",
                "language": "sql"
            },
            "outputs": [
                {
                    "output_type": "display_data",
                    "data": {
                        "text/html": "Warning: Null value is eliminated by an aggregate or other SET operation."
                    },
                    "metadata": {}
                },
                {
                    "output_type": "display_data",
                    "data": {
                        "text/html": "(6 rows affected)"
                    },
                    "metadata": {}
                },
                {
                    "output_type": "display_data",
                    "data": {
                        "text/html": "Total execution time: 00:00:00.064"
                    },
                    "metadata": {}
                },
                {
                    "output_type": "execute_result",
                    "execution_count": 42,
                    "data": {
                        "application/vnd.dataresource+json": {
                            "schema": {
                                "fields": [
                                    {
                                        "name": "CountryRegionCode"
                                    },
                                    {
                                        "name": "CustomerCount"
                                    },
                                    {
                                        "name": "ResellerCount"
                                    }
                                ]
                            },
                            "data": [
                                {
                                    "CountryRegionCode": "AU",
                                    "CustomerCount": "3591",
                                    "ResellerCount": "40"
                                },
                                {
                                    "CountryRegionCode": "CA",
                                    "CustomerCount": "1571",
                                    "ResellerCount": "114"
                                },
                                {
                                    "CountryRegionCode": "DE",
                                    "CustomerCount": "1780",
                                    "ResellerCount": "40"
                                },
                                {
                                    "CountryRegionCode": "FR",
                                    "CustomerCount": "1810",
                                    "ResellerCount": "40"
                                },
                                {
                                    "CountryRegionCode": "GB",
                                    "CustomerCount": "1913",
                                    "ResellerCount": "40"
                                },
                                {
                                    "CountryRegionCode": "US",
                                    "CustomerCount": "7819",
                                    "ResellerCount": "427"
                                }
                            ]
                        },
                        "text/html": "<table><tr><th>CountryRegionCode</th><th>CustomerCount</th><th>ResellerCount</th></tr><tr><td>AU</td><td>3591</td><td>40</td></tr><tr><td>CA</td><td>1571</td><td>114</td></tr><tr><td>DE</td><td>1780</td><td>40</td></tr><tr><td>FR</td><td>1810</td><td>40</td></tr><tr><td>GB</td><td>1913</td><td>40</td></tr><tr><td>US</td><td>7819</td><td>427</td></tr></table>"
                    },
                    "metadata": {}
                }
            ],
            "execution_count": 42
        },
        {
            "cell_type": "code",
            "source": [
                "--17 query to calculate the average dealer price of products grouped by color.\n",
                "USE AdventureWorksDW2017; \n",
                "SELECT \n",
                "    Color, \n",
                "    AVG(DealerPrice) AS AverageDealerPrice\n",
                "FROM \n",
                "    DimProduct\n",
                "WHERE \n",
                "    Color IS NOT NULL AND DealerPrice IS NOT NULL\n",
                "GROUP BY \n",
                "    Color\n",
                "ORDER BY \n",
                "    AverageDealerPrice DESC;\n",
                "\n",
                ""
            ],
            "metadata": {
                "language": "sql",
                "azdata_cell_guid": "1642ee73-84a1-41f5-a79a-1dfbb369043f"
            },
            "outputs": [
                {
                    "output_type": "display_data",
                    "data": {
                        "text/html": "(10 rows affected)"
                    },
                    "metadata": {}
                },
                {
                    "output_type": "display_data",
                    "data": {
                        "text/html": "Total execution time: 00:00:00.157"
                    },
                    "metadata": {}
                },
                {
                    "output_type": "execute_result",
                    "execution_count": 43,
                    "data": {
                        "application/vnd.dataresource+json": {
                            "schema": {
                                "fields": [
                                    {
                                        "name": "Color"
                                    },
                                    {
                                        "name": "AverageDealerPrice"
                                    }
                                ]
                            },
                            "data": [
                                {
                                    "Color": "Red",
                                    "AverageDealerPrice": "705.9632"
                                },
                                {
                                    "Color": "Silver",
                                    "AverageDealerPrice": "668.1563"
                                },
                                {
                                    "Color": "Yellow",
                                    "AverageDealerPrice": "550.8684"
                                },
                                {
                                    "Color": "Blue",
                                    "AverageDealerPrice": "516.0631"
                                },
                                {
                                    "Color": "Black",
                                    "AverageDealerPrice": "474.8236"
                                },
                                {
                                    "Color": "Grey",
                                    "AverageDealerPrice": "75.00"
                                },
                                {
                                    "Color": "Silver/Black",
                                    "AverageDealerPrice": "38.4111"
                                },
                                {
                                    "Color": "NA",
                                    "AverageDealerPrice": "33.8823"
                                },
                                {
                                    "Color": "Multi",
                                    "AverageDealerPrice": "29.3582"
                                },
                                {
                                    "Color": "White",
                                    "AverageDealerPrice": "5.547"
                                }
                            ]
                        },
                        "text/html": "<table><tr><th>Color</th><th>AverageDealerPrice</th></tr><tr><td>Red</td><td>705.9632</td></tr><tr><td>Silver</td><td>668.1563</td></tr><tr><td>Yellow</td><td>550.8684</td></tr><tr><td>Blue</td><td>516.0631</td></tr><tr><td>Black</td><td>474.8236</td></tr><tr><td>Grey</td><td>75.00</td></tr><tr><td>Silver/Black</td><td>38.4111</td></tr><tr><td>NA</td><td>33.8823</td></tr><tr><td>Multi</td><td>29.3582</td></tr><tr><td>White</td><td>5.547</td></tr></table>"
                    },
                    "metadata": {}
                }
            ],
            "execution_count": 43
        },
        {
            "cell_type": "code",
            "source": [
                "-- 18 SQL query to determine the distribution of product sizes available. Calculate the total number of products for each distinct size\n",
                "USE AdventureWorksDW2017; \n",
                "SELECT \n",
                "    Size, \n",
                "    COUNT(*) AS ProductCount\n",
                "FROM \n",
                "    DimProduct\n",
                "WHERE \n",
                "    Size IS NOT NULL\n",
                "GROUP BY \n",
                "    Size\n",
                "ORDER BY \n",
                "    ProductCount DESC;\n",
                ""
            ],
            "metadata": {
                "language": "sql",
                "azdata_cell_guid": "b0c60ccb-91b5-4cad-a71d-9c5e68bab73e"
            },
            "outputs": [
                {
                    "output_type": "display_data",
                    "data": {
                        "text/html": "(18 rows affected)"
                    },
                    "metadata": {}
                },
                {
                    "output_type": "display_data",
                    "data": {
                        "text/html": "Total execution time: 00:00:00.046"
                    },
                    "metadata": {}
                },
                {
                    "output_type": "execute_result",
                    "execution_count": 44,
                    "data": {
                        "application/vnd.dataresource+json": {
                            "schema": {
                                "fields": [
                                    {
                                        "name": "Size"
                                    },
                                    {
                                        "name": "ProductCount"
                                    }
                                ]
                            },
                            "data": [
                                {
                                    "Size": "44",
                                    "ProductCount": "40"
                                },
                                {
                                    "Size": "48",
                                    "ProductCount": "36"
                                },
                                {
                                    "Size": "52",
                                    "ProductCount": "25"
                                },
                                {
                                    "Size": "42",
                                    "ProductCount": "23"
                                },
                                {
                                    "Size": "58",
                                    "ProductCount": "22"
                                },
                                {
                                    "Size": "38",
                                    "ProductCount": "20"
                                },
                                {
                                    "Size": "62",
                                    "ProductCount": "19"
                                },
                                {
                                    "Size": "46",
                                    "ProductCount": "17"
                                },
                                {
                                    "Size": "60",
                                    "ProductCount": "16"
                                },
                                {
                                    "Size": "L",
                                    "ProductCount": "14"
                                },
                                {
                                    "Size": "M",
                                    "ProductCount": "14"
                                },
                                {
                                    "Size": "40",
                                    "ProductCount": "13"
                                },
                                {
                                    "Size": "S",
                                    "ProductCount": "12"
                                },
                                {
                                    "Size": "54",
                                    "ProductCount": "9"
                                },
                                {
                                    "Size": "50",
                                    "ProductCount": "9"
                                },
                                {
                                    "Size": "XL",
                                    "ProductCount": "5"
                                },
                                {
                                    "Size": "56",
                                    "ProductCount": "4"
                                },
                                {
                                    "Size": "70",
                                    "ProductCount": "1"
                                }
                            ]
                        },
                        "text/html": "<table><tr><th>Size</th><th>ProductCount</th></tr><tr><td>44</td><td>40</td></tr><tr><td>48</td><td>36</td></tr><tr><td>52</td><td>25</td></tr><tr><td>42</td><td>23</td></tr><tr><td>58</td><td>22</td></tr><tr><td>38</td><td>20</td></tr><tr><td>62</td><td>19</td></tr><tr><td>46</td><td>17</td></tr><tr><td>60</td><td>16</td></tr><tr><td>L</td><td>14</td></tr><tr><td>M</td><td>14</td></tr><tr><td>40</td><td>13</td></tr><tr><td>S</td><td>12</td></tr><tr><td>54</td><td>9</td></tr><tr><td>50</td><td>9</td></tr><tr><td>XL</td><td>5</td></tr><tr><td>56</td><td>4</td></tr><tr><td>70</td><td>1</td></tr></table>"
                    },
                    "metadata": {}
                }
            ],
            "execution_count": 44
        },
        {
            "cell_type": "code",
            "source": [
                "--19 Write an SQL query to analyze the distribution of weekdays throughout the year.\n",
                "USE AdventureWorksDW2017;\n",
                "SELECT \n",
                "    CalendarYear,\n",
                "    CalendarSemester,\n",
                "    EnglishDayNameOfWeek,\n",
                "    COUNT(*) AS DayCount\n",
                "FROM \n",
                "    DimDate\n",
                "GROUP BY \n",
                "    CalendarYear, \n",
                "    CalendarSemester, \n",
                "    EnglishDayNameOfWeek\n",
                "ORDER BY \n",
                "    CalendarYear, \n",
                "    CalendarSemester, \n",
                "    DayCount DESC;\n",
                ""
            ],
            "metadata": {
                "azdata_cell_guid": "1aa36d3d-e92a-4ee6-9bac-c6134af0adc4",
                "language": "sql"
            },
            "outputs": [
                {
                    "output_type": "display_data",
                    "data": {
                        "text/html": "(140 rows affected)"
                    },
                    "metadata": {}
                },
                {
                    "output_type": "display_data",
                    "data": {
                        "text/html": "Total execution time: 00:00:00.095"
                    },
                    "metadata": {}
                },
                {
                    "output_type": "execute_result",
                    "execution_count": 45,
                    "data": {
                        "application/vnd.dataresource+json": {
                            "schema": {
                                "fields": [
                                    {
                                        "name": "CalendarYear"
                                    },
                                    {
                                        "name": "CalendarSemester"
                                    },
                                    {
                                        "name": "EnglishDayNameOfWeek"
                                    },
                                    {
                                        "name": "DayCount"
                                    }
                                ]
                            },
                            "data": [
                                {
                                    "CalendarYear": "2005",
                                    "CalendarSemester": "1",
                                    "EnglishDayNameOfWeek": "Saturday",
                                    "DayCount": "26"
                                },
                                {
                                    "CalendarYear": "2005",
                                    "CalendarSemester": "1",
                                    "EnglishDayNameOfWeek": "Sunday",
                                    "DayCount": "26"
                                },
                                {
                                    "CalendarYear": "2005",
                                    "CalendarSemester": "1",
                                    "EnglishDayNameOfWeek": "Wednesday",
                                    "DayCount": "26"
                                },
                                {
                                    "CalendarYear": "2005",
                                    "CalendarSemester": "1",
                                    "EnglishDayNameOfWeek": "Monday",
                                    "DayCount": "26"
                                },
                                {
                                    "CalendarYear": "2005",
                                    "CalendarSemester": "1",
                                    "EnglishDayNameOfWeek": "Thursday",
                                    "DayCount": "26"
                                },
                                {
                                    "CalendarYear": "2005",
                                    "CalendarSemester": "1",
                                    "EnglishDayNameOfWeek": "Tuesday",
                                    "DayCount": "26"
                                },
                                {
                                    "CalendarYear": "2005",
                                    "CalendarSemester": "1",
                                    "EnglishDayNameOfWeek": "Friday",
                                    "DayCount": "25"
                                },
                                {
                                    "CalendarYear": "2005",
                                    "CalendarSemester": "2",
                                    "EnglishDayNameOfWeek": "Friday",
                                    "DayCount": "27"
                                },
                                {
                                    "CalendarYear": "2005",
                                    "CalendarSemester": "2",
                                    "EnglishDayNameOfWeek": "Saturday",
                                    "DayCount": "27"
                                },
                                {
                                    "CalendarYear": "2005",
                                    "CalendarSemester": "2",
                                    "EnglishDayNameOfWeek": "Monday",
                                    "DayCount": "26"
                                },
                                {
                                    "CalendarYear": "2005",
                                    "CalendarSemester": "2",
                                    "EnglishDayNameOfWeek": "Tuesday",
                                    "DayCount": "26"
                                },
                                {
                                    "CalendarYear": "2005",
                                    "CalendarSemester": "2",
                                    "EnglishDayNameOfWeek": "Thursday",
                                    "DayCount": "26"
                                },
                                {
                                    "CalendarYear": "2005",
                                    "CalendarSemester": "2",
                                    "EnglishDayNameOfWeek": "Wednesday",
                                    "DayCount": "26"
                                },
                                {
                                    "CalendarYear": "2005",
                                    "CalendarSemester": "2",
                                    "EnglishDayNameOfWeek": "Sunday",
                                    "DayCount": "26"
                                },
                                {
                                    "CalendarYear": "2006",
                                    "CalendarSemester": "1",
                                    "EnglishDayNameOfWeek": "Thursday",
                                    "DayCount": "26"
                                },
                                {
                                    "CalendarYear": "2006",
                                    "CalendarSemester": "1",
                                    "EnglishDayNameOfWeek": "Friday",
                                    "DayCount": "26"
                                },
                                {
                                    "CalendarYear": "2006",
                                    "CalendarSemester": "1",
                                    "EnglishDayNameOfWeek": "Sunday",
                                    "DayCount": "26"
                                },
                                {
                                    "CalendarYear": "2006",
                                    "CalendarSemester": "1",
                                    "EnglishDayNameOfWeek": "Tuesday",
                                    "DayCount": "26"
                                },
                                {
                                    "CalendarYear": "2006",
                                    "CalendarSemester": "1",
                                    "EnglishDayNameOfWeek": "Monday",
                                    "DayCount": "26"
                                },
                                {
                                    "CalendarYear": "2006",
                                    "CalendarSemester": "1",
                                    "EnglishDayNameOfWeek": "Wednesday",
                                    "DayCount": "26"
                                },
                                {
                                    "CalendarYear": "2006",
                                    "CalendarSemester": "1",
                                    "EnglishDayNameOfWeek": "Saturday",
                                    "DayCount": "25"
                                },
                                {
                                    "CalendarYear": "2006",
                                    "CalendarSemester": "2",
                                    "EnglishDayNameOfWeek": "Sunday",
                                    "DayCount": "27"
                                },
                                {
                                    "CalendarYear": "2006",
                                    "CalendarSemester": "2",
                                    "EnglishDayNameOfWeek": "Saturday",
                                    "DayCount": "27"
                                },
                                {
                                    "CalendarYear": "2006",
                                    "CalendarSemester": "2",
                                    "EnglishDayNameOfWeek": "Wednesday",
                                    "DayCount": "26"
                                },
                                {
                                    "CalendarYear": "2006",
                                    "CalendarSemester": "2",
                                    "EnglishDayNameOfWeek": "Thursday",
                                    "DayCount": "26"
                                },
                                {
                                    "CalendarYear": "2006",
                                    "CalendarSemester": "2",
                                    "EnglishDayNameOfWeek": "Tuesday",
                                    "DayCount": "26"
                                },
                                {
                                    "CalendarYear": "2006",
                                    "CalendarSemester": "2",
                                    "EnglishDayNameOfWeek": "Monday",
                                    "DayCount": "26"
                                },
                                {
                                    "CalendarYear": "2006",
                                    "CalendarSemester": "2",
                                    "EnglishDayNameOfWeek": "Friday",
                                    "DayCount": "26"
                                },
                                {
                                    "CalendarYear": "2007",
                                    "CalendarSemester": "1",
                                    "EnglishDayNameOfWeek": "Saturday",
                                    "DayCount": "26"
                                },
                                {
                                    "CalendarYear": "2007",
                                    "CalendarSemester": "1",
                                    "EnglishDayNameOfWeek": "Friday",
                                    "DayCount": "26"
                                },
                                {
                                    "CalendarYear": "2007",
                                    "CalendarSemester": "1",
                                    "EnglishDayNameOfWeek": "Thursday",
                                    "DayCount": "26"
                                },
                                {
                                    "CalendarYear": "2007",
                                    "CalendarSemester": "1",
                                    "EnglishDayNameOfWeek": "Tuesday",
                                    "DayCount": "26"
                                },
                                {
                                    "CalendarYear": "2007",
                                    "CalendarSemester": "1",
                                    "EnglishDayNameOfWeek": "Wednesday",
                                    "DayCount": "26"
                                },
                                {
                                    "CalendarYear": "2007",
                                    "CalendarSemester": "1",
                                    "EnglishDayNameOfWeek": "Monday",
                                    "DayCount": "26"
                                },
                                {
                                    "CalendarYear": "2007",
                                    "CalendarSemester": "1",
                                    "EnglishDayNameOfWeek": "Sunday",
                                    "DayCount": "25"
                                },
                                {
                                    "CalendarYear": "2007",
                                    "CalendarSemester": "2",
                                    "EnglishDayNameOfWeek": "Monday",
                                    "DayCount": "27"
                                },
                                {
                                    "CalendarYear": "2007",
                                    "CalendarSemester": "2",
                                    "EnglishDayNameOfWeek": "Sunday",
                                    "DayCount": "27"
                                },
                                {
                                    "CalendarYear": "2007",
                                    "CalendarSemester": "2",
                                    "EnglishDayNameOfWeek": "Wednesday",
                                    "DayCount": "26"
                                },
                                {
                                    "CalendarYear": "2007",
                                    "CalendarSemester": "2",
                                    "EnglishDayNameOfWeek": "Tuesday",
                                    "DayCount": "26"
                                },
                                {
                                    "CalendarYear": "2007",
                                    "CalendarSemester": "2",
                                    "EnglishDayNameOfWeek": "Thursday",
                                    "DayCount": "26"
                                },
                                {
                                    "CalendarYear": "2007",
                                    "CalendarSemester": "2",
                                    "EnglishDayNameOfWeek": "Friday",
                                    "DayCount": "26"
                                },
                                {
                                    "CalendarYear": "2007",
                                    "CalendarSemester": "2",
                                    "EnglishDayNameOfWeek": "Saturday",
                                    "DayCount": "26"
                                },
                                {
                                    "CalendarYear": "2008",
                                    "CalendarSemester": "1",
                                    "EnglishDayNameOfWeek": "Saturday",
                                    "DayCount": "26"
                                },
                                {
                                    "CalendarYear": "2008",
                                    "CalendarSemester": "1",
                                    "EnglishDayNameOfWeek": "Friday",
                                    "DayCount": "26"
                                },
                                {
                                    "CalendarYear": "2008",
                                    "CalendarSemester": "1",
                                    "EnglishDayNameOfWeek": "Monday",
                                    "DayCount": "26"
                                },
                                {
                                    "CalendarYear": "2008",
                                    "CalendarSemester": "1",
                                    "EnglishDayNameOfWeek": "Sunday",
                                    "DayCount": "26"
                                },
                                {
                                    "CalendarYear": "2008",
                                    "CalendarSemester": "1",
                                    "EnglishDayNameOfWeek": "Thursday",
                                    "DayCount": "26"
                                },
                                {
                                    "CalendarYear": "2008",
                                    "CalendarSemester": "1",
                                    "EnglishDayNameOfWeek": "Wednesday",
                                    "DayCount": "26"
                                },
                                {
                                    "CalendarYear": "2008",
                                    "CalendarSemester": "1",
                                    "EnglishDayNameOfWeek": "Tuesday",
                                    "DayCount": "26"
                                },
                                {
                                    "CalendarYear": "2008",
                                    "CalendarSemester": "2",
                                    "EnglishDayNameOfWeek": "Wednesday",
                                    "DayCount": "27"
                                },
                                {
                                    "CalendarYear": "2008",
                                    "CalendarSemester": "2",
                                    "EnglishDayNameOfWeek": "Tuesday",
                                    "DayCount": "27"
                                },
                                {
                                    "CalendarYear": "2008",
                                    "CalendarSemester": "2",
                                    "EnglishDayNameOfWeek": "Thursday",
                                    "DayCount": "26"
                                },
                                {
                                    "CalendarYear": "2008",
                                    "CalendarSemester": "2",
                                    "EnglishDayNameOfWeek": "Friday",
                                    "DayCount": "26"
                                },
                                {
                                    "CalendarYear": "2008",
                                    "CalendarSemester": "2",
                                    "EnglishDayNameOfWeek": "Monday",
                                    "DayCount": "26"
                                },
                                {
                                    "CalendarYear": "2008",
                                    "CalendarSemester": "2",
                                    "EnglishDayNameOfWeek": "Sunday",
                                    "DayCount": "26"
                                },
                                {
                                    "CalendarYear": "2008",
                                    "CalendarSemester": "2",
                                    "EnglishDayNameOfWeek": "Saturday",
                                    "DayCount": "26"
                                },
                                {
                                    "CalendarYear": "2009",
                                    "CalendarSemester": "1",
                                    "EnglishDayNameOfWeek": "Thursday",
                                    "DayCount": "26"
                                },
                                {
                                    "CalendarYear": "2009",
                                    "CalendarSemester": "1",
                                    "EnglishDayNameOfWeek": "Tuesday",
                                    "DayCount": "26"
                                },
                                {
                                    "CalendarYear": "2009",
                                    "CalendarSemester": "1",
                                    "EnglishDayNameOfWeek": "Monday",
                                    "DayCount": "26"
                                },
                                {
                                    "CalendarYear": "2009",
                                    "CalendarSemester": "1",
                                    "EnglishDayNameOfWeek": "Saturday",
                                    "DayCount": "26"
                                },
                                {
                                    "CalendarYear": "2009",
                                    "CalendarSemester": "1",
                                    "EnglishDayNameOfWeek": "Sunday",
                                    "DayCount": "26"
                                },
                                {
                                    "CalendarYear": "2009",
                                    "CalendarSemester": "1",
                                    "EnglishDayNameOfWeek": "Friday",
                                    "DayCount": "26"
                                },
                                {
                                    "CalendarYear": "2009",
                                    "CalendarSemester": "1",
                                    "EnglishDayNameOfWeek": "Wednesday",
                                    "DayCount": "25"
                                },
                                {
                                    "CalendarYear": "2009",
                                    "CalendarSemester": "2",
                                    "EnglishDayNameOfWeek": "Wednesday",
                                    "DayCount": "27"
                                },
                                {
                                    "CalendarYear": "2009",
                                    "CalendarSemester": "2",
                                    "EnglishDayNameOfWeek": "Thursday",
                                    "DayCount": "27"
                                },
                                {
                                    "CalendarYear": "2009",
                                    "CalendarSemester": "2",
                                    "EnglishDayNameOfWeek": "Sunday",
                                    "DayCount": "26"
                                },
                                {
                                    "CalendarYear": "2009",
                                    "CalendarSemester": "2",
                                    "EnglishDayNameOfWeek": "Friday",
                                    "DayCount": "26"
                                },
                                {
                                    "CalendarYear": "2009",
                                    "CalendarSemester": "2",
                                    "EnglishDayNameOfWeek": "Tuesday",
                                    "DayCount": "26"
                                },
                                {
                                    "CalendarYear": "2009",
                                    "CalendarSemester": "2",
                                    "EnglishDayNameOfWeek": "Monday",
                                    "DayCount": "26"
                                },
                                {
                                    "CalendarYear": "2009",
                                    "CalendarSemester": "2",
                                    "EnglishDayNameOfWeek": "Saturday",
                                    "DayCount": "26"
                                },
                                {
                                    "CalendarYear": "2010",
                                    "CalendarSemester": "1",
                                    "EnglishDayNameOfWeek": "Saturday",
                                    "DayCount": "26"
                                },
                                {
                                    "CalendarYear": "2010",
                                    "CalendarSemester": "1",
                                    "EnglishDayNameOfWeek": "Wednesday",
                                    "DayCount": "26"
                                },
                                {
                                    "CalendarYear": "2010",
                                    "CalendarSemester": "1",
                                    "EnglishDayNameOfWeek": "Monday",
                                    "DayCount": "26"
                                },
                                {
                                    "CalendarYear": "2010",
                                    "CalendarSemester": "1",
                                    "EnglishDayNameOfWeek": "Tuesday",
                                    "DayCount": "26"
                                },
                                {
                                    "CalendarYear": "2010",
                                    "CalendarSemester": "1",
                                    "EnglishDayNameOfWeek": "Sunday",
                                    "DayCount": "26"
                                },
                                {
                                    "CalendarYear": "2010",
                                    "CalendarSemester": "1",
                                    "EnglishDayNameOfWeek": "Friday",
                                    "DayCount": "26"
                                },
                                {
                                    "CalendarYear": "2010",
                                    "CalendarSemester": "1",
                                    "EnglishDayNameOfWeek": "Thursday",
                                    "DayCount": "25"
                                },
                                {
                                    "CalendarYear": "2010",
                                    "CalendarSemester": "2",
                                    "EnglishDayNameOfWeek": "Thursday",
                                    "DayCount": "27"
                                },
                                {
                                    "CalendarYear": "2010",
                                    "CalendarSemester": "2",
                                    "EnglishDayNameOfWeek": "Friday",
                                    "DayCount": "27"
                                },
                                {
                                    "CalendarYear": "2010",
                                    "CalendarSemester": "2",
                                    "EnglishDayNameOfWeek": "Sunday",
                                    "DayCount": "26"
                                },
                                {
                                    "CalendarYear": "2010",
                                    "CalendarSemester": "2",
                                    "EnglishDayNameOfWeek": "Monday",
                                    "DayCount": "26"
                                },
                                {
                                    "CalendarYear": "2010",
                                    "CalendarSemester": "2",
                                    "EnglishDayNameOfWeek": "Tuesday",
                                    "DayCount": "26"
                                },
                                {
                                    "CalendarYear": "2010",
                                    "CalendarSemester": "2",
                                    "EnglishDayNameOfWeek": "Saturday",
                                    "DayCount": "26"
                                },
                                {
                                    "CalendarYear": "2010",
                                    "CalendarSemester": "2",
                                    "EnglishDayNameOfWeek": "Wednesday",
                                    "DayCount": "26"
                                },
                                {
                                    "CalendarYear": "2011",
                                    "CalendarSemester": "1",
                                    "EnglishDayNameOfWeek": "Tuesday",
                                    "DayCount": "26"
                                },
                                {
                                    "CalendarYear": "2011",
                                    "CalendarSemester": "1",
                                    "EnglishDayNameOfWeek": "Monday",
                                    "DayCount": "26"
                                },
                                {
                                    "CalendarYear": "2011",
                                    "CalendarSemester": "1",
                                    "EnglishDayNameOfWeek": "Thursday",
                                    "DayCount": "26"
                                },
                                {
                                    "CalendarYear": "2011",
                                    "CalendarSemester": "1",
                                    "EnglishDayNameOfWeek": "Wednesday",
                                    "DayCount": "26"
                                },
                                {
                                    "CalendarYear": "2011",
                                    "CalendarSemester": "1",
                                    "EnglishDayNameOfWeek": "Sunday",
                                    "DayCount": "26"
                                },
                                {
                                    "CalendarYear": "2011",
                                    "CalendarSemester": "1",
                                    "EnglishDayNameOfWeek": "Saturday",
                                    "DayCount": "26"
                                },
                                {
                                    "CalendarYear": "2011",
                                    "CalendarSemester": "1",
                                    "EnglishDayNameOfWeek": "Friday",
                                    "DayCount": "25"
                                },
                                {
                                    "CalendarYear": "2011",
                                    "CalendarSemester": "2",
                                    "EnglishDayNameOfWeek": "Friday",
                                    "DayCount": "27"
                                },
                                {
                                    "CalendarYear": "2011",
                                    "CalendarSemester": "2",
                                    "EnglishDayNameOfWeek": "Saturday",
                                    "DayCount": "27"
                                },
                                {
                                    "CalendarYear": "2011",
                                    "CalendarSemester": "2",
                                    "EnglishDayNameOfWeek": "Thursday",
                                    "DayCount": "26"
                                },
                                {
                                    "CalendarYear": "2011",
                                    "CalendarSemester": "2",
                                    "EnglishDayNameOfWeek": "Wednesday",
                                    "DayCount": "26"
                                },
                                {
                                    "CalendarYear": "2011",
                                    "CalendarSemester": "2",
                                    "EnglishDayNameOfWeek": "Tuesday",
                                    "DayCount": "26"
                                },
                                {
                                    "CalendarYear": "2011",
                                    "CalendarSemester": "2",
                                    "EnglishDayNameOfWeek": "Sunday",
                                    "DayCount": "26"
                                },
                                {
                                    "CalendarYear": "2011",
                                    "CalendarSemester": "2",
                                    "EnglishDayNameOfWeek": "Monday",
                                    "DayCount": "26"
                                },
                                {
                                    "CalendarYear": "2012",
                                    "CalendarSemester": "1",
                                    "EnglishDayNameOfWeek": "Wednesday",
                                    "DayCount": "26"
                                },
                                {
                                    "CalendarYear": "2012",
                                    "CalendarSemester": "1",
                                    "EnglishDayNameOfWeek": "Tuesday",
                                    "DayCount": "26"
                                },
                                {
                                    "CalendarYear": "2012",
                                    "CalendarSemester": "1",
                                    "EnglishDayNameOfWeek": "Thursday",
                                    "DayCount": "26"
                                },
                                {
                                    "CalendarYear": "2012",
                                    "CalendarSemester": "1",
                                    "EnglishDayNameOfWeek": "Sunday",
                                    "DayCount": "26"
                                },
                                {
                                    "CalendarYear": "2012",
                                    "CalendarSemester": "1",
                                    "EnglishDayNameOfWeek": "Friday",
                                    "DayCount": "26"
                                },
                                {
                                    "CalendarYear": "2012",
                                    "CalendarSemester": "1",
                                    "EnglishDayNameOfWeek": "Monday",
                                    "DayCount": "26"
                                },
                                {
                                    "CalendarYear": "2012",
                                    "CalendarSemester": "1",
                                    "EnglishDayNameOfWeek": "Saturday",
                                    "DayCount": "26"
                                },
                                {
                                    "CalendarYear": "2012",
                                    "CalendarSemester": "2",
                                    "EnglishDayNameOfWeek": "Monday",
                                    "DayCount": "27"
                                },
                                {
                                    "CalendarYear": "2012",
                                    "CalendarSemester": "2",
                                    "EnglishDayNameOfWeek": "Sunday",
                                    "DayCount": "27"
                                },
                                {
                                    "CalendarYear": "2012",
                                    "CalendarSemester": "2",
                                    "EnglishDayNameOfWeek": "Tuesday",
                                    "DayCount": "26"
                                },
                                {
                                    "CalendarYear": "2012",
                                    "CalendarSemester": "2",
                                    "EnglishDayNameOfWeek": "Friday",
                                    "DayCount": "26"
                                },
                                {
                                    "CalendarYear": "2012",
                                    "CalendarSemester": "2",
                                    "EnglishDayNameOfWeek": "Thursday",
                                    "DayCount": "26"
                                },
                                {
                                    "CalendarYear": "2012",
                                    "CalendarSemester": "2",
                                    "EnglishDayNameOfWeek": "Saturday",
                                    "DayCount": "26"
                                },
                                {
                                    "CalendarYear": "2012",
                                    "CalendarSemester": "2",
                                    "EnglishDayNameOfWeek": "Wednesday",
                                    "DayCount": "26"
                                },
                                {
                                    "CalendarYear": "2013",
                                    "CalendarSemester": "1",
                                    "EnglishDayNameOfWeek": "Tuesday",
                                    "DayCount": "26"
                                },
                                {
                                    "CalendarYear": "2013",
                                    "CalendarSemester": "1",
                                    "EnglishDayNameOfWeek": "Wednesday",
                                    "DayCount": "26"
                                },
                                {
                                    "CalendarYear": "2013",
                                    "CalendarSemester": "1",
                                    "EnglishDayNameOfWeek": "Sunday",
                                    "DayCount": "26"
                                },
                                {
                                    "CalendarYear": "2013",
                                    "CalendarSemester": "1",
                                    "EnglishDayNameOfWeek": "Thursday",
                                    "DayCount": "26"
                                },
                                {
                                    "CalendarYear": "2013",
                                    "CalendarSemester": "1",
                                    "EnglishDayNameOfWeek": "Friday",
                                    "DayCount": "26"
                                },
                                {
                                    "CalendarYear": "2013",
                                    "CalendarSemester": "1",
                                    "EnglishDayNameOfWeek": "Saturday",
                                    "DayCount": "26"
                                },
                                {
                                    "CalendarYear": "2013",
                                    "CalendarSemester": "1",
                                    "EnglishDayNameOfWeek": "Monday",
                                    "DayCount": "25"
                                },
                                {
                                    "CalendarYear": "2013",
                                    "CalendarSemester": "2",
                                    "EnglishDayNameOfWeek": "Monday",
                                    "DayCount": "27"
                                },
                                {
                                    "CalendarYear": "2013",
                                    "CalendarSemester": "2",
                                    "EnglishDayNameOfWeek": "Tuesday",
                                    "DayCount": "27"
                                },
                                {
                                    "CalendarYear": "2013",
                                    "CalendarSemester": "2",
                                    "EnglishDayNameOfWeek": "Thursday",
                                    "DayCount": "26"
                                },
                                {
                                    "CalendarYear": "2013",
                                    "CalendarSemester": "2",
                                    "EnglishDayNameOfWeek": "Wednesday",
                                    "DayCount": "26"
                                },
                                {
                                    "CalendarYear": "2013",
                                    "CalendarSemester": "2",
                                    "EnglishDayNameOfWeek": "Friday",
                                    "DayCount": "26"
                                },
                                {
                                    "CalendarYear": "2013",
                                    "CalendarSemester": "2",
                                    "EnglishDayNameOfWeek": "Saturday",
                                    "DayCount": "26"
                                },
                                {
                                    "CalendarYear": "2013",
                                    "CalendarSemester": "2",
                                    "EnglishDayNameOfWeek": "Sunday",
                                    "DayCount": "26"
                                },
                                {
                                    "CalendarYear": "2014",
                                    "CalendarSemester": "1",
                                    "EnglishDayNameOfWeek": "Saturday",
                                    "DayCount": "26"
                                },
                                {
                                    "CalendarYear": "2014",
                                    "CalendarSemester": "1",
                                    "EnglishDayNameOfWeek": "Thursday",
                                    "DayCount": "26"
                                },
                                {
                                    "CalendarYear": "2014",
                                    "CalendarSemester": "1",
                                    "EnglishDayNameOfWeek": "Wednesday",
                                    "DayCount": "26"
                                },
                                {
                                    "CalendarYear": "2014",
                                    "CalendarSemester": "1",
                                    "EnglishDayNameOfWeek": "Monday",
                                    "DayCount": "26"
                                },
                                {
                                    "CalendarYear": "2014",
                                    "CalendarSemester": "1",
                                    "EnglishDayNameOfWeek": "Friday",
                                    "DayCount": "26"
                                },
                                {
                                    "CalendarYear": "2014",
                                    "CalendarSemester": "1",
                                    "EnglishDayNameOfWeek": "Sunday",
                                    "DayCount": "26"
                                },
                                {
                                    "CalendarYear": "2014",
                                    "CalendarSemester": "1",
                                    "EnglishDayNameOfWeek": "Tuesday",
                                    "DayCount": "25"
                                },
                                {
                                    "CalendarYear": "2014",
                                    "CalendarSemester": "2",
                                    "EnglishDayNameOfWeek": "Wednesday",
                                    "DayCount": "27"
                                },
                                {
                                    "CalendarYear": "2014",
                                    "CalendarSemester": "2",
                                    "EnglishDayNameOfWeek": "Tuesday",
                                    "DayCount": "27"
                                },
                                {
                                    "CalendarYear": "2014",
                                    "CalendarSemester": "2",
                                    "EnglishDayNameOfWeek": "Monday",
                                    "DayCount": "26"
                                },
                                {
                                    "CalendarYear": "2014",
                                    "CalendarSemester": "2",
                                    "EnglishDayNameOfWeek": "Sunday",
                                    "DayCount": "26"
                                },
                                {
                                    "CalendarYear": "2014",
                                    "CalendarSemester": "2",
                                    "EnglishDayNameOfWeek": "Thursday",
                                    "DayCount": "26"
                                },
                                {
                                    "CalendarYear": "2014",
                                    "CalendarSemester": "2",
                                    "EnglishDayNameOfWeek": "Friday",
                                    "DayCount": "26"
                                },
                                {
                                    "CalendarYear": "2014",
                                    "CalendarSemester": "2",
                                    "EnglishDayNameOfWeek": "Saturday",
                                    "DayCount": "26"
                                }
                            ]
                        },
                        "text/html": "<table><tr><th>CalendarYear</th><th>CalendarSemester</th><th>EnglishDayNameOfWeek</th><th>DayCount</th></tr><tr><td>2005</td><td>1</td><td>Saturday</td><td>26</td></tr><tr><td>2005</td><td>1</td><td>Sunday</td><td>26</td></tr><tr><td>2005</td><td>1</td><td>Wednesday</td><td>26</td></tr><tr><td>2005</td><td>1</td><td>Monday</td><td>26</td></tr><tr><td>2005</td><td>1</td><td>Thursday</td><td>26</td></tr><tr><td>2005</td><td>1</td><td>Tuesday</td><td>26</td></tr><tr><td>2005</td><td>1</td><td>Friday</td><td>25</td></tr><tr><td>2005</td><td>2</td><td>Friday</td><td>27</td></tr><tr><td>2005</td><td>2</td><td>Saturday</td><td>27</td></tr><tr><td>2005</td><td>2</td><td>Monday</td><td>26</td></tr><tr><td>2005</td><td>2</td><td>Tuesday</td><td>26</td></tr><tr><td>2005</td><td>2</td><td>Thursday</td><td>26</td></tr><tr><td>2005</td><td>2</td><td>Wednesday</td><td>26</td></tr><tr><td>2005</td><td>2</td><td>Sunday</td><td>26</td></tr><tr><td>2006</td><td>1</td><td>Thursday</td><td>26</td></tr><tr><td>2006</td><td>1</td><td>Friday</td><td>26</td></tr><tr><td>2006</td><td>1</td><td>Sunday</td><td>26</td></tr><tr><td>2006</td><td>1</td><td>Tuesday</td><td>26</td></tr><tr><td>2006</td><td>1</td><td>Monday</td><td>26</td></tr><tr><td>2006</td><td>1</td><td>Wednesday</td><td>26</td></tr><tr><td>2006</td><td>1</td><td>Saturday</td><td>25</td></tr><tr><td>2006</td><td>2</td><td>Sunday</td><td>27</td></tr><tr><td>2006</td><td>2</td><td>Saturday</td><td>27</td></tr><tr><td>2006</td><td>2</td><td>Wednesday</td><td>26</td></tr><tr><td>2006</td><td>2</td><td>Thursday</td><td>26</td></tr><tr><td>2006</td><td>2</td><td>Tuesday</td><td>26</td></tr><tr><td>2006</td><td>2</td><td>Monday</td><td>26</td></tr><tr><td>2006</td><td>2</td><td>Friday</td><td>26</td></tr><tr><td>2007</td><td>1</td><td>Saturday</td><td>26</td></tr><tr><td>2007</td><td>1</td><td>Friday</td><td>26</td></tr><tr><td>2007</td><td>1</td><td>Thursday</td><td>26</td></tr><tr><td>2007</td><td>1</td><td>Tuesday</td><td>26</td></tr><tr><td>2007</td><td>1</td><td>Wednesday</td><td>26</td></tr><tr><td>2007</td><td>1</td><td>Monday</td><td>26</td></tr><tr><td>2007</td><td>1</td><td>Sunday</td><td>25</td></tr><tr><td>2007</td><td>2</td><td>Monday</td><td>27</td></tr><tr><td>2007</td><td>2</td><td>Sunday</td><td>27</td></tr><tr><td>2007</td><td>2</td><td>Wednesday</td><td>26</td></tr><tr><td>2007</td><td>2</td><td>Tuesday</td><td>26</td></tr><tr><td>2007</td><td>2</td><td>Thursday</td><td>26</td></tr><tr><td>2007</td><td>2</td><td>Friday</td><td>26</td></tr><tr><td>2007</td><td>2</td><td>Saturday</td><td>26</td></tr><tr><td>2008</td><td>1</td><td>Saturday</td><td>26</td></tr><tr><td>2008</td><td>1</td><td>Friday</td><td>26</td></tr><tr><td>2008</td><td>1</td><td>Monday</td><td>26</td></tr><tr><td>2008</td><td>1</td><td>Sunday</td><td>26</td></tr><tr><td>2008</td><td>1</td><td>Thursday</td><td>26</td></tr><tr><td>2008</td><td>1</td><td>Wednesday</td><td>26</td></tr><tr><td>2008</td><td>1</td><td>Tuesday</td><td>26</td></tr><tr><td>2008</td><td>2</td><td>Wednesday</td><td>27</td></tr><tr><td>2008</td><td>2</td><td>Tuesday</td><td>27</td></tr><tr><td>2008</td><td>2</td><td>Thursday</td><td>26</td></tr><tr><td>2008</td><td>2</td><td>Friday</td><td>26</td></tr><tr><td>2008</td><td>2</td><td>Monday</td><td>26</td></tr><tr><td>2008</td><td>2</td><td>Sunday</td><td>26</td></tr><tr><td>2008</td><td>2</td><td>Saturday</td><td>26</td></tr><tr><td>2009</td><td>1</td><td>Thursday</td><td>26</td></tr><tr><td>2009</td><td>1</td><td>Tuesday</td><td>26</td></tr><tr><td>2009</td><td>1</td><td>Monday</td><td>26</td></tr><tr><td>2009</td><td>1</td><td>Saturday</td><td>26</td></tr><tr><td>2009</td><td>1</td><td>Sunday</td><td>26</td></tr><tr><td>2009</td><td>1</td><td>Friday</td><td>26</td></tr><tr><td>2009</td><td>1</td><td>Wednesday</td><td>25</td></tr><tr><td>2009</td><td>2</td><td>Wednesday</td><td>27</td></tr><tr><td>2009</td><td>2</td><td>Thursday</td><td>27</td></tr><tr><td>2009</td><td>2</td><td>Sunday</td><td>26</td></tr><tr><td>2009</td><td>2</td><td>Friday</td><td>26</td></tr><tr><td>2009</td><td>2</td><td>Tuesday</td><td>26</td></tr><tr><td>2009</td><td>2</td><td>Monday</td><td>26</td></tr><tr><td>2009</td><td>2</td><td>Saturday</td><td>26</td></tr><tr><td>2010</td><td>1</td><td>Saturday</td><td>26</td></tr><tr><td>2010</td><td>1</td><td>Wednesday</td><td>26</td></tr><tr><td>2010</td><td>1</td><td>Monday</td><td>26</td></tr><tr><td>2010</td><td>1</td><td>Tuesday</td><td>26</td></tr><tr><td>2010</td><td>1</td><td>Sunday</td><td>26</td></tr><tr><td>2010</td><td>1</td><td>Friday</td><td>26</td></tr><tr><td>2010</td><td>1</td><td>Thursday</td><td>25</td></tr><tr><td>2010</td><td>2</td><td>Thursday</td><td>27</td></tr><tr><td>2010</td><td>2</td><td>Friday</td><td>27</td></tr><tr><td>2010</td><td>2</td><td>Sunday</td><td>26</td></tr><tr><td>2010</td><td>2</td><td>Monday</td><td>26</td></tr><tr><td>2010</td><td>2</td><td>Tuesday</td><td>26</td></tr><tr><td>2010</td><td>2</td><td>Saturday</td><td>26</td></tr><tr><td>2010</td><td>2</td><td>Wednesday</td><td>26</td></tr><tr><td>2011</td><td>1</td><td>Tuesday</td><td>26</td></tr><tr><td>2011</td><td>1</td><td>Monday</td><td>26</td></tr><tr><td>2011</td><td>1</td><td>Thursday</td><td>26</td></tr><tr><td>2011</td><td>1</td><td>Wednesday</td><td>26</td></tr><tr><td>2011</td><td>1</td><td>Sunday</td><td>26</td></tr><tr><td>2011</td><td>1</td><td>Saturday</td><td>26</td></tr><tr><td>2011</td><td>1</td><td>Friday</td><td>25</td></tr><tr><td>2011</td><td>2</td><td>Friday</td><td>27</td></tr><tr><td>2011</td><td>2</td><td>Saturday</td><td>27</td></tr><tr><td>2011</td><td>2</td><td>Thursday</td><td>26</td></tr><tr><td>2011</td><td>2</td><td>Wednesday</td><td>26</td></tr><tr><td>2011</td><td>2</td><td>Tuesday</td><td>26</td></tr><tr><td>2011</td><td>2</td><td>Sunday</td><td>26</td></tr><tr><td>2011</td><td>2</td><td>Monday</td><td>26</td></tr><tr><td>2012</td><td>1</td><td>Wednesday</td><td>26</td></tr><tr><td>2012</td><td>1</td><td>Tuesday</td><td>26</td></tr><tr><td>2012</td><td>1</td><td>Thursday</td><td>26</td></tr><tr><td>2012</td><td>1</td><td>Sunday</td><td>26</td></tr><tr><td>2012</td><td>1</td><td>Friday</td><td>26</td></tr><tr><td>2012</td><td>1</td><td>Monday</td><td>26</td></tr><tr><td>2012</td><td>1</td><td>Saturday</td><td>26</td></tr><tr><td>2012</td><td>2</td><td>Monday</td><td>27</td></tr><tr><td>2012</td><td>2</td><td>Sunday</td><td>27</td></tr><tr><td>2012</td><td>2</td><td>Tuesday</td><td>26</td></tr><tr><td>2012</td><td>2</td><td>Friday</td><td>26</td></tr><tr><td>2012</td><td>2</td><td>Thursday</td><td>26</td></tr><tr><td>2012</td><td>2</td><td>Saturday</td><td>26</td></tr><tr><td>2012</td><td>2</td><td>Wednesday</td><td>26</td></tr><tr><td>2013</td><td>1</td><td>Tuesday</td><td>26</td></tr><tr><td>2013</td><td>1</td><td>Wednesday</td><td>26</td></tr><tr><td>2013</td><td>1</td><td>Sunday</td><td>26</td></tr><tr><td>2013</td><td>1</td><td>Thursday</td><td>26</td></tr><tr><td>2013</td><td>1</td><td>Friday</td><td>26</td></tr><tr><td>2013</td><td>1</td><td>Saturday</td><td>26</td></tr><tr><td>2013</td><td>1</td><td>Monday</td><td>25</td></tr><tr><td>2013</td><td>2</td><td>Monday</td><td>27</td></tr><tr><td>2013</td><td>2</td><td>Tuesday</td><td>27</td></tr><tr><td>2013</td><td>2</td><td>Thursday</td><td>26</td></tr><tr><td>2013</td><td>2</td><td>Wednesday</td><td>26</td></tr><tr><td>2013</td><td>2</td><td>Friday</td><td>26</td></tr><tr><td>2013</td><td>2</td><td>Saturday</td><td>26</td></tr><tr><td>2013</td><td>2</td><td>Sunday</td><td>26</td></tr><tr><td>2014</td><td>1</td><td>Saturday</td><td>26</td></tr><tr><td>2014</td><td>1</td><td>Thursday</td><td>26</td></tr><tr><td>2014</td><td>1</td><td>Wednesday</td><td>26</td></tr><tr><td>2014</td><td>1</td><td>Monday</td><td>26</td></tr><tr><td>2014</td><td>1</td><td>Friday</td><td>26</td></tr><tr><td>2014</td><td>1</td><td>Sunday</td><td>26</td></tr><tr><td>2014</td><td>1</td><td>Tuesday</td><td>25</td></tr><tr><td>2014</td><td>2</td><td>Wednesday</td><td>27</td></tr><tr><td>2014</td><td>2</td><td>Tuesday</td><td>27</td></tr><tr><td>2014</td><td>2</td><td>Monday</td><td>26</td></tr><tr><td>2014</td><td>2</td><td>Sunday</td><td>26</td></tr><tr><td>2014</td><td>2</td><td>Thursday</td><td>26</td></tr><tr><td>2014</td><td>2</td><td>Friday</td><td>26</td></tr><tr><td>2014</td><td>2</td><td>Saturday</td><td>26</td></tr></table>"
                    },
                    "metadata": {}
                }
            ],
            "execution_count": 45
        },
        {
            "cell_type": "code",
            "source": [
                "--20  Write an SQL query to track monthly trends in call volume and average time per issue in the call center. \n",
                "USE AdventureWorksDW2017;\n",
                "SELECT \n",
                "    d.CalendarYear,\n",
                "    d.MonthNumberOfYear,\n",
                "    COUNT(f.FactCallCenterID) AS TotalCalls,\n",
                "    AVG(f.AverageTimePerIssue) AS AverageTimePerIssue\n",
                "FROM \n",
                "    FactCallCenter f\n",
                "JOIN \n",
                "    DimDate d ON f.DateKey = d.DateKey\n",
                "GROUP BY \n",
                "    d.CalendarYear, \n",
                "    d.MonthNumberOfYear\n",
                "ORDER BY \n",
                "    d.CalendarYear, \n",
                "    d.MonthNumberOfYear;\n",
                "\n",
                ""
            ],
            "metadata": {
                "language": "sql",
                "azdata_cell_guid": "c041409e-a4b8-4f10-b043-e41fc4b44715",
                "tags": [
                    "hide_input"
                ]
            },
            "outputs": [
                {
                    "output_type": "display_data",
                    "data": {
                        "text/html": "(1 row affected)"
                    },
                    "metadata": {}
                },
                {
                    "output_type": "display_data",
                    "data": {
                        "text/html": "Total execution time: 00:00:00.026"
                    },
                    "metadata": {}
                },
                {
                    "output_type": "execute_result",
                    "metadata": {},
                    "execution_count": 1,
                    "data": {
                        "application/vnd.dataresource+json": {
                            "schema": {
                                "fields": [
                                    {
                                        "name": "CalendarYear"
                                    },
                                    {
                                        "name": "MonthNumberOfYear"
                                    },
                                    {
                                        "name": "TotalCalls"
                                    },
                                    {
                                        "name": "AverageTimePerIssue"
                                    }
                                ]
                            },
                            "data": [
                                {
                                    "CalendarYear": "2014",
                                    "MonthNumberOfYear": "5",
                                    "TotalCalls": "120",
                                    "AverageTimePerIssue": "79"
                                }
                            ]
                        },
                        "text/html": [
                            "<table>",
                            "<tr><th>CalendarYear</th><th>MonthNumberOfYear</th><th>TotalCalls</th><th>AverageTimePerIssue</th></tr>",
                            "<tr><td>2014</td><td>5</td><td>120</td><td>79</td></tr>",
                            "</table>"
                        ]
                    }
                }
            ],
            "execution_count": 1
        }
    ]
}