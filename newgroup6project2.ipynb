{
    "metadata": {
        "kernelspec": {
            "name": "SQL",
            "display_name": "SQL",
            "language": "sql"
        },
        "language_info": {
            "name": "sql",
            "version": ""
        }
    },
    "nbformat_minor": 2,
    "nbformat": 4,
    "cells": [
        {
            "cell_type": "code",
            "source": [
                "-- =============================================\r\n",
                "-- Author: Group 6 \r\n",
                "-- Procedure: Creating the DbSecurity.UserAuthorization schema\r\n",
                "-- Create date: The date\r\n",
                "-- Description: Define the actions of the stored procedure\r\n",
                "-- =============================================\r\n",
                "\r\n",
                "CREATE SCHEMA DbSecurity;"
            ],
            "metadata": {
                "language": "sql",
                "azdata_cell_guid": "8ca28a7e-71ba-4719-99b2-85122d4520cf",
                "tags": []
            },
            "outputs": [],
            "execution_count": null
        },
        {
            "cell_type": "code",
            "source": [
                "USE BIClass;\r\n",
                "-- =============================================\r\n",
                "-- Author: Group 6 \r\n",
                "-- Procedure: Creating the DbSecurity.UserAuthorization table\r\n",
                "-- Create date: The date\r\n",
                "-- Description: Define the actions of the stored procedure\r\n",
                "-- =============================================\r\n",
                "-- SQL script to create the UserAuthorization table in the DbSecurity schema\r\n",
                "\r\n",
                "CREATE TABLE DbSecurity.UserAuthorization (\r\n",
                "    UserAuthorizationKey INT NOT NULL,\r\n",
                "    ClassTime NCHAR(5) NULL DEFAULT '9:15',\r\n",
                "    IndividualProject NVARCHAR(60) NULL DEFAULT 'PROJECT 2 RECREATE THE BICLASS DATABASE STAR SCHEMA',\r\n",
                "    GroupMemberLastName NVARCHAR(35) NOT NULL,\r\n",
                "    GroupMemberFirstName NVARCHAR(25) NOT NULL,\r\n",
                "    GroupName NVARCHAR(20) NOT NULL,\r\n",
                "    DateAdded DATETIME2 NULL DEFAULT SYSDATETIME(),\r\n",
                "    PRIMARY KEY (UserAuthorizationKey)\r\n",
                ");\r\n",
                "\r\n",
                ""
            ],
            "metadata": {
                "azdata_cell_guid": "4b7b530d-d70f-4b2e-ab32-897c4525c8f4",
                "language": "sql",
                "tags": [
                    "hide_input"
                ]
            },
            "outputs": [],
            "execution_count": null
        },
        {
            "cell_type": "code",
            "source": [
                "-- =============================================\r\n",
                "-- Author: Group 6 \r\n",
                "-- Procedure: Populating DbSecurity.UserAuthorization with our names\r\n",
                "-- Create date: The date\r\n",
                "-- Description: Define the actions of the stored procedure\r\n",
                "-- =============================================\r\n",
                "\r\n",
                "USE BIClass;\r\n",
                "\r\n",
                "\r\n",
                "INSERT INTO DbSecurity.UserAuthorization (\r\n",
                "    UserAuthorizationKey, ClassTime, IndividualProject, GroupMemberLastName, GroupMemberFirstName, GroupName, DateAdded\r\n",
                ") VALUES (\r\n",
                "    1, '9:15', 'PROJECT 2 RECREATE THE BICLASS DATABASE STAR SCHEMA', 'Mamdouh', 'Zack', 'Group 6', DEFAULT\r\n",
                ");\r\n",
                "\r\n",
                "INSERT INTO DbSecurity.UserAuthorization (\r\n",
                "    UserAuthorizationKey, ClassTime, IndividualProject, GroupMemberLastName, GroupMemberFirstName, GroupName, DateAdded\r\n",
                ") VALUES (\r\n",
                "    2, '9:15', 'PROJECT 2 RECREATE THE BICLASS DATABASE STAR SCHEMA', 'Haque', 'Auyon', 'Group 6', DEFAULT\r\n",
                ");\r\n",
                "\r\n",
                "INSERT INTO DbSecurity.UserAuthorization (\r\n",
                "    UserAuthorizationKey, ClassTime, IndividualProject, GroupMemberLastName, GroupMemberFirstName, GroupName, DateAdded\r\n",
                ") VALUES (\r\n",
                "    3, '9:15', 'PROJECT 2 RECREATE THE BICLASS DATABASE STAR SCHEMA', 'Zhang', 'Sabrina', 'Group 6', DEFAULT\r\n",
                ");\r\n",
                "\r\n",
                "INSERT INTO DbSecurity.UserAuthorization (\r\n",
                "    UserAuthorizationKey, ClassTime, IndividualProject, GroupMemberLastName, GroupMemberFirstName, GroupName, DateAdded\r\n",
                ") VALUES (\r\n",
                "    4, '9:15', 'PROJECT 2 RECREATE THE BICLASS DATABASE STAR SCHEMA', 'Paul', 'Prithibi', 'Group 6', DEFAULT\r\n",
                ");\r\n",
                ""
            ],
            "metadata": {
                "azdata_cell_guid": "0be1085e-10ad-4c6b-babf-36847b88353d",
                "language": "sql",
                "tags": [
                    "hide_input"
                ]
            },
            "outputs": [],
            "execution_count": null
        },
        {
            "cell_type": "code",
            "source": [
                "-- =============================================\r\n",
                "-- Author: Group 6 \r\n",
                "-- Procedure: Creating the Process.WorkflowSteps schema\r\n",
                "-- Create date: The date\r\n",
                "-- Description: Define the actions of the stored procedure\r\n",
                "-- =============================================\r\n",
                "\r\n",
                "CREATE SCHEMA Process;"
            ],
            "metadata": {
                "azdata_cell_guid": "c7b4265e-3d4b-483a-9963-89d3cb710e6f",
                "language": "sql",
                "tags": [
                    "hide_input"
                ]
            },
            "outputs": [],
            "execution_count": null
        },
        {
            "cell_type": "code",
            "source": [
                "-- =============================================\r\n",
                "-- Author: Group 6 \r\n",
                "-- Procedure: Creating the Process.WorkflowSteps table\r\n",
                "-- Create date: The date\r\n",
                "-- Description: We create the Process.WorkflowSteps, and give it a dependency to the PK of DbSecurity.UserAuthorization\r\n",
                "-- =============================================\r\n",
                "\r\n",
                "CREATE TABLE Process.WorkflowSteps (\r\n",
                "    WorkFlowStepKey INT NOT NULL,\r\n",
                "    WorkFlowStepDescription NVARCHAR(100) NOT NULL,\r\n",
                "    WorkFlowStepTableRowCount INT NULL DEFAULT 0,\r\n",
                "    StartingDateTime DATETIME2(7) NULL DEFAULT SYSDATETIME(),\r\n",
                "    EndingDateTime DATETIME2(7) NULL DEFAULT SYSDATETIME(),\r\n",
                "    ClassTime CHAR(5) NULL DEFAULT '09:15',  -- Adjust the default as necessary\r\n",
                "    UserAuthorizationKey INT NOT NULL,\r\n",
                "    PRIMARY KEY (WorkFlowStepKey),\r\n",
                "    FOREIGN KEY (UserAuthorizationKey) REFERENCES DbSecurity.UserAuthorization(UserAuthorizationKey)\r\n",
                ");"
            ],
            "metadata": {
                "azdata_cell_guid": "6b188a5c-9c73-4b00-a26d-69485b924367",
                "language": "sql",
                "tags": []
            },
            "outputs": [],
            "execution_count": null
        },
        {
            "cell_type": "code",
            "source": [
                "-- =============================================\r\n",
                "-- Author: Group 6 \r\n",
                "-- Procedure: Adding a column with a default value, then removing the default, \r\n",
                "-- Create date: The date\r\n",
                "-- Description: We create the Process.WorkflowSteps, and give it a dependency to the PK of DbSecurity.UserAuthorization\r\n",
                "-- =============================================\r\n",
                "\r\n",
                "ALTER TABLE [CH01-01-Dimension].[DimCustomer]\r\n",
                "ADD UserAuthorizationKey INT NOT NULL DEFAULT -1; -- Assuming -1 is a placeholder that will be updated later\r\n",
                ""
            ],
            "metadata": {
                "azdata_cell_guid": "067fdb05-9de4-4bc5-b933-494851950d0d",
                "language": "sql",
                "tags": [
                    "hide_input"
                ]
            },
            "outputs": [],
            "execution_count": null
        },
        {
            "cell_type": "code",
            "source": [
                "-- =============================================\r\n",
                "-- Author: Group 6 \r\n",
                "-- Procedure: Altering the pre existing tables\r\n",
                "-- Create date: The date\r\n",
                "-- Description: Altered the pre existing tables by adding 3 new columns and changing the constraints\r\n",
                "-- =============================================\r\n",
                "\r\n",
                "USE BIClass;\r\n",
                "\r\n",
                "ALTER TABLE [CH01-01-Dimension].[DimCustomer]\r\n",
                "ADD UserAuthorizationKey INT NOT NULL,\r\n",
                "    DateAdded DATETIME2 NULL DEFAULT SYSDATETIME(),\r\n",
                "    DateOfLastUpdate DATETIME2 NULL DEFAULT SYSDATETIME();\r\n",
                "\r\n",
                "ALTER TABLE [CH01-01-Dimension].[DimCustomer]\r\n",
                "ADD CONSTRAINT DF_DimCustomer_DateAdded DEFAULT (SYSDATETIME()) FOR DateAdded;\r\n",
                "\r\n",
                "ALTER TABLE [CH01-01-Dimension].[DimCustomer]\r\n",
                "ADD CONSTRAINT DF_DimCustomer_DateOfLastUpdate DEFAULT (SYSDATETIME()) FOR DateOfLastUpdate;\r\n",
                "\r\n",
                "ALTER TABLE [CH01-01-Dimension].[DimGender]\r\n",
                "ADD UserAuthorizationKey INT NOT NULL,\r\n",
                "    DateAdded DATETIME2 NULL DEFAULT SYSDATETIME(),\r\n",
                "    DateOfLastUpdate DATETIME2 NULL DEFAULT SYSDATETIME();\r\n",
                "\r\n",
                "ALTER TABLE [CH01-01-Dimension].[DimGender]\r\n",
                "ADD CONSTRAINT DF_DimGender_DateAdded DEFAULT (SYSDATETIME()) FOR DateAdded;\r\n",
                "\r\n",
                "ALTER TABLE [CH01-01-Dimension].[DimGender]\r\n",
                "ADD CONSTRAINT DF_DimGender_DateOfLastUpdate DEFAULT (SYSDATETIME()) FOR DateOfLastUpdate;\r\n",
                "\r\n",
                "ALTER TABLE [CH01-01-Dimension].[DimMaritalStatus]\r\n",
                "ADD UserAuthorizationKey INT NOT NULL,\r\n",
                "    DateAdded DATETIME2 NULL DEFAULT SYSDATETIME(),\r\n",
                "    DateOfLastUpdate DATETIME2 NULL DEFAULT SYSDATETIME();\r\n",
                "\r\n",
                "ALTER TABLE [CH01-01-Dimension].[DimMaritalStatus]\r\n",
                "ADD CONSTRAINT DF_DimMaritalStatus_DateAdded DEFAULT (SYSDATETIME()) FOR DateAdded;\r\n",
                "\r\n",
                "ALTER TABLE [CH01-01-Dimension].[DimMaritalStatus]\r\n",
                "ADD CONSTRAINT DF_DimMaritalStatus_DateOfLastUpdate DEFAULT (SYSDATETIME()) FOR DateOfLastUpdate;\r\n",
                "\r\n",
                "-- Alter the DimOccupation table\r\n",
                "ALTER TABLE [CH01-01-Dimension].[DimOccupation]\r\n",
                "ADD UserAuthorizationKey INT NOT NULL,\r\n",
                "    DateAdded DATETIME2 NULL DEFAULT SYSDATETIME(),\r\n",
                "    DateOfLastUpdate DATETIME2 NULL DEFAULT SYSDATETIME();\r\n",
                "\r\n",
                "ALTER TABLE [CH01-01-Dimension].[DimOccupation]\r\n",
                "ADD CONSTRAINT DF_DimOccupation_DateAdded DEFAULT (SYSDATETIME()) FOR DateAdded;\r\n",
                "\r\n",
                "ALTER TABLE [CH01-01-Dimension].[DimOccupation]\r\n",
                "ADD CONSTRAINT DF_DimOccupation_DateOfLastUpdate DEFAULT (SYSDATETIME()) FOR DateOfLastUpdate;\r\n",
                "\r\n",
                "-- Alter the DimProduct table\r\n",
                "ALTER TABLE [CH01-01-Dimension].[DimProduct]\r\n",
                "ADD UserAuthorizationKey INT NOT NULL,\r\n",
                "    DateAdded DATETIME2 NULL DEFAULT SYSDATETIME(),\r\n",
                "    DateOfLastUpdate DATETIME2 NULL DEFAULT SYSDATETIME();\r\n",
                "\r\n",
                "ALTER TABLE [CH01-01-Dimension].[DimProduct]\r\n",
                "ADD CONSTRAINT DF_DimProduct_DateAdded DEFAULT (SYSDATETIME()) FOR DateAdded;\r\n",
                "\r\n",
                "ALTER TABLE [CH01-01-Dimension].[DimProduct]\r\n",
                "ADD CONSTRAINT DF_DimProduct_DateOfLastUpdate DEFAULT (SYSDATETIME()) FOR DateOfLastUpdate;\r\n",
                "\r\n",
                "-- Alter the DimTerritory table\r\n",
                "ALTER TABLE [CH01-01-Dimension].[DimTerritory]\r\n",
                "ADD UserAuthorizationKey INT NOT NULL,\r\n",
                "    DateAdded DATETIME2 NULL DEFAULT SYSDATETIME(),\r\n",
                "    DateOfLastUpdate DATETIME2 NULL DEFAULT SYSDATETIME();\r\n",
                "\r\n",
                "ALTER TABLE [CH01-01-Dimension].[DimTerritory]\r\n",
                "ADD CONSTRAINT DF_DimTerritory_DateAdded DEFAULT (SYSDATETIME()) FOR DateAdded;\r\n",
                "\r\n",
                "ALTER TABLE [CH01-01-Dimension].[DimTerritory]\r\n",
                "ADD CONSTRAINT DF_DimTerritory_DateOfLastUpdate DEFAULT (SYSDATETIME()) FOR DateOfLastUpdate;\r\n",
                "\r\n",
                "-- Alter the Sales.Managers table\r\n",
                "ALTER TABLE [CH01-01-Dimension].[Sales.Managers]\r\n",
                "ADD UserAuthorizationKey INT NOT NULL,\r\n",
                "    DateAdded DATETIME2 NULL DEFAULT SYSDATETIME(),\r\n",
                "    DateOfLastUpdate DATETIME2 NULL DEFAULT SYSDATETIME();\r\n",
                "\r\n",
                "ALTER TABLE [CH01-01-Dimension].[Sales.Managers]\r\n",
                "ADD CONSTRAINT DF_SalesManagers_DateAdded DEFAULT (SYSDATETIME()) FOR DateAdded;\r\n",
                "\r\n",
                "ALTER TABLE [CH01-01-Dimension].[Sales.Managers]\r\n",
                "ADD CONSTRAINT DF_SalesManagers_DateOfLastUpdate DEFAULT (SYSDATETIME()) FOR DateOfLastUpdate;\r\n",
                "\r\n",
                "-- Alter the Fact.Data table\r\n",
                "ALTER TABLE [CH01-01-Dimension].[Fact.Data]\r\n",
                "ADD UserAuthorizationKey INT NOT NULL,\r\n",
                "    DateAdded DATETIME2 NULL DEFAULT SYSDATETIME(),\r\n",
                "    DateOfLastUpdate DATETIME2 NULL DEFAULT SYSDATETIME();\r\n",
                "\r\n",
                "ALTER TABLE [CH01-01-Dimension].[Fact.Data]\r\n",
                "ADD CONSTRAINT DF_FactData_DateAdded DEFAULT (SYSDATETIME()) FOR DateAdded;\r\n",
                "\r\n",
                "ALTER TABLE [CH01-01-Dimension].[Fact.Data]\r\n",
                "ADD CONSTRAINT DF_FactData_DateOfLastUpdate DEFAULT (SYSDATETIME()) FOR DateOfLastUpdate;\r\n",
                "\r\n",
                "\r\n",
                "\r\n",
                ""
            ],
            "metadata": {
                "azdata_cell_guid": "433fb11e-97ec-4a86-819e-c121de2aa1cf",
                "language": "sql",
                "tags": [
                    "hide_input"
                ]
            },
            "outputs": [],
            "execution_count": null
        },
        {
            "cell_type": "code",
            "source": [
                "USE BIClass;\r\n",
                "\r\n",
                "-- =============================================\r\n",
                "-- Author: Group 6 \r\n",
                "-- Procedure: Creating logic to populate the UserAuthorizationKey column based on who worked on what\r\n",
                "-- Create date: The date\r\n",
                "-- Description: We create the Process.WorkflowSteps, and give it a dependency to the PK of DbSecurity.UserAuthorization\r\n",
                "-- =============================================\r\n",
                "\r\n",
                "-- Update the UserAuthorizationKey with a random value between 1 and 4\r\n",
                "UPDATE [CH01-01-Dimension].[DimCustomer]\r\n",
                "SET\r\n",
                "    DateAdded = '2024-04-13T00:00:00', -- Set the DateAdded to April 13, 2024\r\n",
                "    DateOfLastUpdate = '2024-04-13T00:00:00'; -- Set the DateOfLastUpdate to April 13, 2024"
            ],
            "metadata": {
                "azdata_cell_guid": "63ebdb44-21da-492c-b582-ac8f71be7d59",
                "language": "sql",
                "tags": [
                    "hide_input"
                ]
            },
            "outputs": [
                {
                    "output_type": "display_data",
                    "data": {
                        "text/html": "(18400 rows affected)"
                    },
                    "metadata": {}
                },
                {
                    "output_type": "display_data",
                    "data": {
                        "text/html": "Total execution time: 00:00:00.033"
                    },
                    "metadata": {}
                }
            ],
            "execution_count": 31
        },
        {
            "cell_type": "code",
            "source": [
                "-- =============================================\r\n",
                "-- Author: Group 6 \r\n",
                "-- Procedure: creating a stored procedure named Process.usp_TrackWorkFlow\r\n",
                "-- Create date: The date\r\n",
                "-- Description:  procedure is intended to track each step of your project workflow.\r\n",
                "-- =============================================\r\n",
                "\r\n",
                "\r\n",
                "-- Template for Process.usp_TrackWorkFlow stored procedure\r\n",
                "CREATE PROCEDURE [Process].[usp_TrackWorkFlow]\r\n",
                "    @StartTime DATETIME2,\r\n",
                "    @WorkFlowDescription NVARCHAR(100),\r\n",
                "    @WorkFlowStepTableRowCount int,\r\n",
                "    @UserAuthorizationKey int\r\n",
                "AS\r\n",
                "BEGIN\r\n",
                "    SET NOCOUNT ON;\r\n",
                "\r\n",
                "    -- Assuming Process.WorkflowSteps has been created and has columns that\r\n",
                "    -- correspond to these parameters\r\n",
                "    INSERT INTO Process.WorkflowSteps (\r\n",
                "        WorkFlowStepKey,  -- This needs to be managed by a sequence or other means\r\n",
                "        WorkFlowStepDescription,\r\n",
                "        WorkFlowStepTableRowCount,\r\n",
                "        StartingDateTime,\r\n",
                "        EndingDateTime, -- You need to calculate this value if required\r\n",
                "        ClassTime,      -- This needs a default value or should be passed as a parameter\r\n",
                "        UserAuthorizationKey\r\n",
                "    )\r\n",
                "    VALUES (\r\n",
                "        NEXT VALUE FOR Process.WorkflowStepSequence, -- Replace with the actual sequence name\r\n",
                "        @WorkFlowDescription,\r\n",
                "        @WorkFlowStepTableRowCount,\r\n",
                "        @StartTime,\r\n",
                "        SYSDATETIME(), -- Records the current time as the end time\r\n",
                "        DEFAULT,       -- Or replace with the actual class time value\r\n",
                "        @UserAuthorizationKey\r\n",
                "    );\r\n",
                "\r\n",
                "    -- You might have other operations to perform as part of this tracking\r\n",
                "    -- This is just a template to get you started\r\n",
                "END;\r\n",
                "GO\r\n",
                ""
            ],
            "metadata": {
                "azdata_cell_guid": "b848f5b4-1bb9-48cd-b668-f4505f1d39bb",
                "language": "sql",
                "tags": []
            },
            "outputs": [
                {
                    "output_type": "display_data",
                    "data": {
                        "text/html": "Commands completed successfully."
                    },
                    "metadata": {}
                },
                {
                    "output_type": "display_data",
                    "data": {
                        "text/html": "Total execution time: 00:00:00.016"
                    },
                    "metadata": {}
                }
            ],
            "execution_count": 33
        },
        {
            "cell_type": "code",
            "source": [
                "USE BIClass;\r\n",
                "\r\n",
                "-- Create the sequence object for DimGender\r\n",
                "CREATE SEQUENCE [CH01-01-Dimension].DimGenderSequence\r\n",
                "    AS INT\r\n",
                "    START WITH 1\r\n",
                "    INCREMENT BY 1\r\n",
                "    MINVALUE 1\r\n",
                "    NO MAXVALUE\r\n",
                "    CACHE;\r\n",
                "\r\n",
                "-- Update the new column with values from the sequence\r\n",
                "UPDATE [CH01-01-Dimension].[DimGender]\r\n",
                "SET NewGenderKey = NEXT VALUE FOR [CH01-01-Dimension].DimGenderSequence;\r\n",
                "\r\n",
                "-- Drop the old primary key constraint\r\n",
                "ALTER TABLE [CH01-01-Dimension].[DimGender]\r\n",
                "DROP CONSTRAINT PK__DimGender__95011E6452BCF41C;\r\n",
                "\r\n",
                "-- Drop the old GenderKey column\r\n",
                "ALTER TABLE [CH01-01-Dimension].[DimGender]\r\n",
                "DROP COLUMN GenderKey;\r\n",
                "\r\n",
                "-- Rename the new key column to the old name\r\n",
                "EXEC sp_rename \r\n",
                "    '[CH01-01-Dimension].[DimGender].NewGenderKey', \r\n",
                "    'GenderKey', \r\n",
                "    'COLUMN';\r\n",
                "\r\n",
                "-- Add the primary key constraint back to the new column\r\n",
                "ALTER TABLE [CH01-01-Dimension].[DimGender]\r\n",
                "ADD CONSTRAINT PK_DimGender PRIMARY KEY CLUSTERED (GenderKey);\r\n",
                ""
            ],
            "metadata": {
                "azdata_cell_guid": "7acf5a5b-3aa6-42ed-8a82-6d5041dbd0b3",
                "language": "sql"
            },
            "outputs": [
                {
                    "output_type": "display_data",
                    "data": {
                        "text/html": "(2 rows affected)"
                    },
                    "metadata": {}
                },
                {
                    "output_type": "error",
                    "evalue": "Msg 3725, Level 16, State 0, Line 11\r\nThe constraint 'PK_DimGender' is being referenced by table 'Data', foreign key constraint 'FK_Data_DimGender'.",
                    "ename": "",
                    "traceback": []
                },
                {
                    "output_type": "error",
                    "evalue": "Msg 3727, Level 16, State 0, Line 11\r\nCould not drop constraint. See previous errors.",
                    "ename": "",
                    "traceback": []
                },
                {
                    "output_type": "display_data",
                    "data": {
                        "text/html": "Total execution time: 00:00:00.009"
                    },
                    "metadata": {}
                }
            ],
            "execution_count": 8
        },
        {
            "cell_type": "code",
            "source": [
                "USE BIClass;\r\n",
                "\r\n",
                "-- Drop the existing identity constraint on the primary key, if it exists.\r\n",
                "-- This example assumes you're able to remove the identity column and it is named CustomerKey.\r\n",
                "-- Please note this is a simplified example; the actual process can be more involved.\r\n",
                "\r\n",
                "-- Create the sequence object for DimCustomer\r\n",
                "CREATE SEQUENCE [CH01-01-Dimension].DimCustomerSequence\r\n",
                "    AS INT\r\n",
                "    START WITH 1\r\n",
                "    INCREMENT BY 1\r\n",
                "    MINVALUE 1\r\n",
                "    NO MAXVALUE\r\n",
                "    CACHE;\r\n",
                "\r\n",
                "-- Update the new column with values from the sequence\r\n",
                "UPDATE [CH01-01-Dimension].[DimCustomer]\r\n",
                "SET NewCustomerKey = NEXT VALUE FOR [CH01-01-Dimension].DimCustomerSequence;\r\n",
                "\r\n",
                "-- Drop the old primary key constraint\r\n",
                "ALTER TABLE [CH01-01-Dimension].[DimCustomer]\r\n",
                "DROP CONSTRAINT PK__DimCusto__95011E6452BCF41C;\r\n",
                "\r\n",
                "-- Drop the old CustomerKey column\r\n",
                "ALTER TABLE [CH01-01-Dimension].[DimCustomer]\r\n",
                "DROP COLUMN CustomerKey;\r\n",
                "\r\n",
                "-- Rename the new key column to the old name\r\n",
                "EXEC sp_rename \r\n",
                "    '[CH01-01-Dimension].[DimCustomer].NewCustomerKey', \r\n",
                "    'CustomerKey', \r\n",
                "    'COLUMN';\r\n",
                "\r\n",
                "-- Add the primary key constraint back to the new column\r\n",
                "ALTER TABLE [CH01-01-Dimension].[DimCustomer]\r\n",
                "ADD CONSTRAINT PK_DimCustomer PRIMARY KEY CLUSTERED (CustomerKey);\r\n",
                ""
            ],
            "metadata": {
                "azdata_cell_guid": "319cf088-e1a9-4049-b8a4-fb4cfae23bd8",
                "language": "sql",
                "tags": [
                    "hide_input"
                ]
            },
            "outputs": [
                {
                    "output_type": "error",
                    "evalue": "Msg 2714, Level 16, State 8, Line 8\r\nThere is already an object named 'CH01-01-Dimension.DimCustomerSequence' in the database.",
                    "ename": "",
                    "traceback": []
                },
                {
                    "output_type": "display_data",
                    "data": {
                        "text/html": "Total execution time: 00:00:00.012"
                    },
                    "metadata": {}
                }
            ],
            "execution_count": 5
        },
        {
            "cell_type": "code",
            "source": [
                "-- =============================================\r\n",
                "-- Author: Group 6 \r\n",
                "-- Procedure: Create the DimProductCategory and DimProductSubcategory tables, considering the columns from DimProduct\r\n",
                "-- Create date: The date\r\n",
                "-- Description:\r\n",
                "-- =============================================\r\n",
                "\r\n",
                "\r\n",
                "-- Assuming you will use sequence objects to manage primary keys\r\n",
                "\r\n",
                "-- Create DimProductCategory Table\r\n",
                "CREATE TABLE [CH01-01-Dimension].[DimProductCategory] (\r\n",
                "    ProductCategoryKey INT NOT NULL PRIMARY KEY,\r\n",
                "    CategoryName VARCHAR(20) NOT NULL\r\n",
                "    -- Add other category-specific columns here\r\n",
                ");\r\n",
                "GO\r\n",
                "\r\n",
                "-- Create the sequence object for DimProductCategory\r\n",
                "CREATE SEQUENCE [CH01-01-Dimension].DimProductCategorySequence\r\n",
                "   START WITH 1\r\n",
                "   INCREMENT BY 1\r\n",
                "   MINVALUE 1\r\n",
                "   NO MAXVALUE\r\n",
                "   CACHE 10;\r\n",
                "GO\r\n",
                "\r\n",
                "-- Create DimProductSubcategory Table\r\n",
                "CREATE TABLE [CH01-01-Dimension].[DimProductSubcategory] (\r\n",
                "    ProductSubcategoryKey INT NOT NULL PRIMARY KEY,\r\n",
                "    ProductCategoryKey INT NOT NULL,\r\n",
                "    SubcategoryName VARCHAR(20) NOT NULL,\r\n",
                "    -- Add other subcategory-specific columns here\r\n",
                "    CONSTRAINT FK_DimProductSubcategory_DimProductCategory FOREIGN KEY (ProductCategoryKey)\r\n",
                "        REFERENCES [CH01-01-Dimension].[DimProductCategory](ProductCategoryKey)\r\n",
                ");\r\n",
                "GO\r\n",
                "\r\n",
                "-- Create the sequence object for DimProductSubcategory\r\n",
                "CREATE SEQUENCE [CH01-01-Dimension].DimProductSubcategorySequence\r\n",
                "   START WITH 1\r\n",
                "   INCREMENT BY 1\r\n",
                "   MINVALUE 1\r\n",
                "   NO MAXVALUE\r\n",
                "   CACHE 10;\r\n",
                "GO\r\n",
                ""
            ],
            "metadata": {
                "azdata_cell_guid": "fb7a4796-04e5-468c-b930-6654ab79bc01",
                "language": "sql",
                "tags": []
            },
            "outputs": [],
            "execution_count": null
        },
        {
            "cell_type": "code",
            "source": [
                "-- Assuming you will use sequence objects to manage primary keys\r\n",
                "\r\n",
                "-- Create DimProductCategory Table\r\n",
                "CREATE TABLE [CH01-01-Dimension].[DimProductCategory] (\r\n",
                "    ProductCategoryKey INT NOT NULL PRIMARY KEY,\r\n",
                "    CategoryName VARCHAR(20) NOT NULL\r\n",
                "    -- Add other category-specific columns here\r\n",
                ");\r\n",
                "GO\r\n",
                "\r\n",
                "-- Create the sequence object for DimProductCategory\r\n",
                "CREATE SEQUENCE [CH01-01-Dimension].DimProductCategorySequence\r\n",
                "   START WITH 1\r\n",
                "   INCREMENT BY 1\r\n",
                "   MINVALUE 1\r\n",
                "   NO MAXVALUE\r\n",
                "   CACHE 10;\r\n",
                "GO\r\n",
                "\r\n",
                "-- Create DimProductSubcategory Table\r\n",
                "CREATE TABLE [CH01-01-Dimension].[DimProductSubcategory] (\r\n",
                "    ProductSubcategoryKey INT NOT NULL PRIMARY KEY,\r\n",
                "    ProductCategoryKey INT NOT NULL,\r\n",
                "    SubcategoryName VARCHAR(20) NOT NULL,\r\n",
                "    -- Add other subcategory-specific columns here\r\n",
                "    CONSTRAINT FK_DimProductSubcategory_DimProductCategory FOREIGN KEY (ProductCategoryKey)\r\n",
                "        REFERENCES [CH01-01-Dimension].[DimProductCategory](ProductCategoryKey)\r\n",
                ");\r\n",
                "GO\r\n",
                "\r\n",
                "-- Create the sequence object for DimProductSubcategory\r\n",
                "CREATE SEQUENCE [CH01-01-Dimension].DimProductSubcategorySequence\r\n",
                "   START WITH 1\r\n",
                "   INCREMENT BY 1\r\n",
                "   MINVALUE 1\r\n",
                "   NO MAXVALUE\r\n",
                "   CACHE 10;\r\n",
                "GO\r\n",
                ""
            ],
            "metadata": {
                "azdata_cell_guid": "ae6efa73-6ed8-4fe1-8f86-b64e7e91e010",
                "language": "sql",
                "tags": [
                    "hide_input"
                ]
            },
            "outputs": [
                {
                    "output_type": "display_data",
                    "data": {
                        "text/html": "Commands completed successfully."
                    },
                    "metadata": {}
                },
                {
                    "output_type": "display_data",
                    "data": {
                        "text/html": "Commands completed successfully."
                    },
                    "metadata": {}
                },
                {
                    "output_type": "display_data",
                    "data": {
                        "text/html": "Commands completed successfully."
                    },
                    "metadata": {}
                },
                {
                    "output_type": "display_data",
                    "data": {
                        "text/html": "Commands completed successfully."
                    },
                    "metadata": {}
                },
                {
                    "output_type": "display_data",
                    "data": {
                        "text/html": "Total execution time: 00:00:00.023"
                    },
                    "metadata": {}
                }
            ],
            "execution_count": 9
        },
        {
            "cell_type": "code",
            "source": [
                "-- =============================================\r\n",
                "-- Author: Group 6 \r\n",
                "-- Procedure: Creating PkSequence Schema\r\n",
                "-- Description:\r\n",
                "-- =============================================\r\n",
                "\r\n",
                "CREATE SCHEMA PkSequence;\r\n",
                ""
            ],
            "metadata": {
                "language": "sql",
                "azdata_cell_guid": "e7da90c4-3061-450b-a086-6feff65c0435"
            },
            "outputs": [
                {
                    "output_type": "display_data",
                    "data": {
                        "text/html": "Commands completed successfully."
                    },
                    "metadata": {}
                },
                {
                    "output_type": "display_data",
                    "data": {
                        "text/html": "Total execution time: 00:00:00.009"
                    },
                    "metadata": {}
                }
            ],
            "execution_count": 11
        },
        {
            "cell_type": "code",
            "source": [
                "-- =============================================\r\n",
                "-- Author: Group 6\r\n",
                "-- Procedure: Modifying primary keys on DimCustomer, and creating sequence object in its place\r\n",
                "-- Description:\r\n",
                "-- =============================================\r\n",
                "\r\n",
                "-- Step 1: Create a sequence object for the new primary key, starting with a value greater than the current maximum value in CustomerKey.\r\n",
                "CREATE SEQUENCE [CH01-01-Dimension].[DimCustomerSequence]\r\n",
                "AS INT\r\n",
                "START WITH 201 -- Assuming 200 is the highest existing value in CustomerKey\r\n",
                "INCREMENT BY 1\r\n",
                "MINVALUE 201 -- Ensuring the sequence starts after the current max value\r\n",
                "NO MAXVALUE\r\n",
                "CACHE 10;\r\n",
                "\r\n",
                "-- Step 2: Drop the existing primary key constraint on the DimCustomer table.\r\n",
                "ALTER TABLE [CH01-01-Dimension].[DimCustomer]\r\n",
                "DROP CONSTRAINT PK__DimCusto__95011E6452BCF41C; -- Replace with the actual name of the primary key constraint if different\r\n",
                "\r\n",
                "-- Step 3: Add a new primary key constraint using the NewCustomerKey column.\r\n",
                "ALTER TABLE [CH01-01-Dimension].[DimCustomer]\r\n",
                "ADD CONSTRAINT PK_DimCustomer_NewCustomerKey PRIMARY KEY CLUSTERED (NewCustomerKey);\r\n",
                "\r\n",
                "-- Step 4: Use the sequence when inserting new records. This will be part of the insert statement in your stored procedures or application logic.\r\n",
                "-- Example:\r\n",
                "-- INSERT INTO [CH01-01-Dimension].[DimCustomer] (NewCustomerKey, CustomerName, UserAuthorizationKey, DateAdded, DateOfLastUpdate)\r\n",
                "-- VALUES (NEXT VALUE FOR CH01-01-Dimension.DimCustomerSequence, @CustomerName, @UserAuthorizationKey, SYSDATETIME(), SYSDATETIME());\r\n",
                ""
            ],
            "metadata": {
                "azdata_cell_guid": "4f590a4d-c343-4b38-8c47-3b027ec48896",
                "language": "sql"
            },
            "outputs": [
                {
                    "output_type": "error",
                    "evalue": "Msg 3725, Level 16, State 0, Line 18\r\nThe constraint 'PK__DimCusto__95011E6452BCF41C' is being referenced by table 'Data', foreign key constraint 'FK_Data_DimCustomer'.",
                    "ename": "",
                    "traceback": []
                },
                {
                    "output_type": "error",
                    "evalue": "Msg 3727, Level 16, State 0, Line 18\r\nCould not drop constraint. See previous errors.",
                    "ename": "",
                    "traceback": []
                },
                {
                    "output_type": "display_data",
                    "data": {
                        "text/html": "Total execution time: 00:00:00.008"
                    },
                    "metadata": {}
                }
            ],
            "execution_count": 30
        },
        {
            "cell_type": "code",
            "source": [
                "-- Create a sequence object for the DimGender primary key\r\n",
                "CREATE SEQUENCE [CH01-01-Dimension].DimGenderSequence\r\n",
                "AS INT\r\n",
                "START WITH 5  -- Starting after the current highest value in NewGenderKey\r\n",
                "INCREMENT BY 1\r\n",
                "MINVALUE 5\r\n",
                "NO MAXVALUE\r\n",
                "CACHE 10;\r\n",
                "\r\n",
                ""
            ],
            "metadata": {
                "azdata_cell_guid": "9e5eacea-1b05-4c89-bd93-d9f8193732f3",
                "language": "sql",
                "tags": []
            },
            "outputs": [
                {
                    "output_type": "display_data",
                    "data": {
                        "text/html": "Commands completed successfully."
                    },
                    "metadata": {}
                },
                {
                    "output_type": "display_data",
                    "data": {
                        "text/html": "Total execution time: 00:00:00.007"
                    },
                    "metadata": {}
                }
            ],
            "execution_count": 33
        },
        {
            "cell_type": "code",
            "source": [
                "-- Create a sequence object for the DimMarital primary key\r\n",
                "CREATE SEQUENCE [CH01-01-Dimension].DimMaritalStatusSequence\r\n",
                "AS INT\r\n",
                "START WITH 4  -- Starting value, (highest value in table is 3)\r\n",
                "INCREMENT BY 1\r\n",
                "MINVALUE 4\r\n",
                "NO MAXVALUE\r\n",
                "CACHE 10;\r\n",
                ""
            ],
            "metadata": {
                "azdata_cell_guid": "725c6371-cdcf-401c-aa3e-9cc259fd3cd2",
                "language": "sql"
            },
            "outputs": [],
            "execution_count": null
        },
        {
            "cell_type": "code",
            "source": [
                "CREATE SEQUENCE [CH01-01-Dimension].DimOccupationSequence\r\n",
                "AS INT\r\n",
                "START WITH 6  -- The next value after the current highest value in OccupationKey\r\n",
                "INCREMENT BY 1\r\n",
                "MINVALUE 6  -- Ensuring the sequence starts after the current max value\r\n",
                "NO MAXVALUE\r\n",
                "CACHE 10;\r\n",
                ""
            ],
            "metadata": {
                "azdata_cell_guid": "1566d0e5-38f8-41c9-bc39-62593dd843db",
                "language": "sql"
            },
            "outputs": [
                {
                    "output_type": "display_data",
                    "data": {
                        "text/html": "Commands completed successfully."
                    },
                    "metadata": {}
                },
                {
                    "output_type": "display_data",
                    "data": {
                        "text/html": "Total execution time: 00:00:00.007"
                    },
                    "metadata": {}
                }
            ],
            "execution_count": 34
        },
        {
            "cell_type": "code",
            "source": [
                "CREATE SEQUENCE [CH01-01-Dimension].DimOrderDateSequence\r\n",
                "AS INT\r\n",
                "START WITH 21 -- Starting value, assuming no records exist yet for a new column\r\n",
                "INCREMENT BY 1\r\n",
                "MINVALUE 21\r\n",
                "NO MAXVALUE\r\n",
                "CACHE 10;\r\n",
                ""
            ],
            "metadata": {
                "azdata_cell_guid": "26db8762-e5dd-43cf-8acb-27534016e8de",
                "language": "sql"
            },
            "outputs": [
                {
                    "output_type": "display_data",
                    "data": {
                        "text/html": "Commands completed successfully."
                    },
                    "metadata": {}
                },
                {
                    "output_type": "display_data",
                    "data": {
                        "text/html": "Total execution time: 00:00:00.006"
                    },
                    "metadata": {}
                }
            ],
            "execution_count": 35
        },
        {
            "cell_type": "code",
            "source": [
                "CREATE SEQUENCE [CH01-01-Dimension].DimProductSequence\r\n",
                "AS INT\r\n",
                "START WITH 131 -- The next value after the current highest value in ProductKey\r\n",
                "INCREMENT BY 1\r\n",
                "MINVALUE 131 -- Ensuring the sequence starts after the current max value\r\n",
                "NO MAXVALUE\r\n",
                "CACHE 10;\r\n",
                ""
            ],
            "metadata": {
                "azdata_cell_guid": "1d69bb02-5775-495c-997f-c0613ca73678",
                "language": "sql"
            },
            "outputs": [
                {
                    "output_type": "display_data",
                    "data": {
                        "text/html": "Commands completed successfully."
                    },
                    "metadata": {}
                },
                {
                    "output_type": "display_data",
                    "data": {
                        "text/html": "Total execution time: 00:00:00.008"
                    },
                    "metadata": {}
                }
            ],
            "execution_count": 36
        },
        {
            "cell_type": "code",
            "source": [
                "CREATE SEQUENCE [CH01-01-Dimension].DimProductCategorySequence\r\n",
                "AS INT\r\n",
                "START WITH 1 -- Start with 1 if there are no existing records in NewProductCategoryKey\r\n",
                "INCREMENT BY 1\r\n",
                "MINVALUE 1\r\n",
                "NO MAXVALUE\r\n",
                "CACHE 10;\r\n",
                ""
            ],
            "metadata": {
                "azdata_cell_guid": "35ee4c0f-b487-4b30-b18c-a936e332897b",
                "language": "sql"
            },
            "outputs": [
                {
                    "output_type": "error",
                    "evalue": "Msg 2714, Level 16, State 8, Line 1\r\nThere is already an object named 'CH01-01-Dimension.DimProductCategorySequence' in the database.",
                    "ename": "",
                    "traceback": []
                },
                {
                    "output_type": "display_data",
                    "data": {
                        "text/html": "Total execution time: 00:00:00.009"
                    },
                    "metadata": {}
                }
            ],
            "execution_count": 37
        },
        {
            "cell_type": "code",
            "source": [
                "CREATE SEQUENCE [CH01-01-Dimension].SalesManager\r\n",
                "AS INT\r\n",
                "START WITH 18 -- Start with 18\r\n",
                "INCREMENT BY 1\r\n",
                "MINVALUE 18\r\n",
                "NO MAXVALUE\r\n",
                "CACHE 10;"
            ],
            "metadata": {
                "azdata_cell_guid": "2d3fb9e4-5a45-42db-9725-c75e880a36f8",
                "language": "sql"
            },
            "outputs": [
                {
                    "output_type": "display_data",
                    "data": {
                        "text/html": "Commands completed successfully."
                    },
                    "metadata": {}
                },
                {
                    "output_type": "display_data",
                    "data": {
                        "text/html": "Total execution time: 00:00:00.006"
                    },
                    "metadata": {}
                }
            ],
            "execution_count": 39
        },
        {
            "cell_type": "code",
            "source": [
                "CREATE SEQUENCE [CH01-01-Fact].[DataSequence]\r\n",
                "AS INT\r\n",
                "START WITH 1 -- Start with 1 if there are no existing records in NewProductCategoryKey\r\n",
                "INCREMENT BY 1\r\n",
                "MINVALUE 1\r\n",
                "NO MAXVALUE\r\n",
                "CACHE 10;"
            ],
            "metadata": {
                "azdata_cell_guid": "cf020ce4-5be1-4a11-8e32-6e148752212d",
                "language": "sql"
            },
            "outputs": [
                {
                    "output_type": "display_data",
                    "data": {
                        "text/html": "Commands completed successfully."
                    },
                    "metadata": {}
                },
                {
                    "output_type": "display_data",
                    "data": {
                        "text/html": "Total execution time: 00:00:00.008"
                    },
                    "metadata": {}
                }
            ],
            "execution_count": 40
        },
        {
            "cell_type": "code",
            "source": [
                "-- =============================================\r\n",
                "-- Author: Group 6\r\n",
                "-- Procedure: Creating tables for the star schema\r\n",
                "-- Description:\r\n",
                "-- =============================================\r\n",
                "\r\n",
                "\r\n",
                "-- Create table for DimCustomer\r\n",
                "CREATE TABLE [CH01-01-Dimension].[DimCustomer] (\r\n",
                "  CustomerKey INT NOT NULL PRIMARY KEY,\r\n",
                "  CustomerName VARCHAR(30) NOT NULL,\r\n",
                "  UserAuthorizationKey INT NOT NULL,\r\n",
                "  DateAdded DATETIME2(7) CONSTRAINT DF_DimCustomer_DateAdded DEFAULT (SYSDATETIME()),\r\n",
                "  DateOfLastUpdate DATETIME2(7) CONSTRAINT DF_DimCustomer_DateOfLastUpdate DEFAULT (SYSDATETIME()),\r\n",
                "  NewCustomerKey INT\r\n",
                ");\r\n",
                "\r\n",
                "-- Create table for DimGender\r\n",
                "CREATE TABLE [CH01-01-Dimension].[DimGender] (\r\n",
                "  Gender CHAR(1) NOT NULL PRIMARY KEY,\r\n",
                "  GenderDescription VARCHAR(6),\r\n",
                "  UserAuthorizationKey INT,\r\n",
                "  DateAdded DATETIME2(7) CONSTRAINT DF_DimGender_DateAdded DEFAULT (SYSDATETIME()),\r\n",
                "  DateOfLastUpdate DATETIME2(7) CONSTRAINT DF_DimGender_DateOfLastUpdate DEFAULT (SYSDATETIME()),\r\n",
                "  NewGenderKey INT\r\n",
                ");\r\n",
                "\r\n",
                "-- Create table for DimMaritalStatus\r\n",
                "CREATE TABLE [CH01-01-Dimension].[DimMaritalStatus] (\r\n",
                "  MaritalStatus CHAR(1) NOT NULL PRIMARY KEY,\r\n",
                "  MaritalStatusDescription VARCHAR(7) NOT NULL,\r\n",
                "  UserAuthorizationKey INT,\r\n",
                "  DateAdded DATETIME2(7) CONSTRAINT DF_DimMaritalStatus_DateAdded DEFAULT (SYSDATETIME()),\r\n",
                "  DateOfLastUpdate DATETIME2(7) CONSTRAINT DF_DimMaritalStatus_DateOfLastUpdate DEFAULT (SYSDATETIME()),\r\n",
                "  NewMaritalStatusKey INT\r\n",
                ");\r\n",
                "\r\n",
                "-- DimOccupation\r\n",
                "CREATE TABLE [CH01-01-Dimension].[DimOccupation] (\r\n",
                "    OccupationKey INT NOT NULL PRIMARY KEY IDENTITY(1,1),\r\n",
                "    Occupation VARCHAR(20),\r\n",
                "    UserAuthorizationKey INT,\r\n",
                "    DateAdded DATETIME2(7) CONSTRAINT DF_DimOccupation_DateAdded DEFAULT (SYSDATETIME()),\r\n",
                "    DateOfLastUpdate DATETIME2(7) CONSTRAINT DF_DimOccupation_DateOfLastUpdate DEFAULT (SYSDATETIME()),\r\n",
                "    NewOccupationKey INT\r\n",
                ");\r\n",
                "\r\n",
                "-- DimOrderDate\r\n",
                "CREATE TABLE [CH01-01-Dimension].[DimOrderDate] (\r\n",
                "    OrderDate DATE NOT NULL PRIMARY KEY,\r\n",
                "    MonthName VARCHAR(10),\r\n",
                "    MonthNumber INT,\r\n",
                "    Year INT,\r\n",
                "    UserAuthorizationKey INT,\r\n",
                "    DateAdded DATETIME2(7) CONSTRAINT DF_DimOrderDate_DateAdded DEFAULT (SYSDATETIME()),\r\n",
                "    DateOfLastUpdate DATETIME2(7) CONSTRAINT DF_DimOrderDate_DateOfLastUpdate DEFAULT (SYSDATETIME()),\r\n",
                "    NewOrderDateKey INT\r\n",
                ");\r\n",
                "\r\n",
                "-- DimProduct\r\n",
                "CREATE TABLE [CH01-01-Dimension].[DimProduct] (\r\n",
                "    ProductKey INT NOT NULL PRIMARY KEY IDENTITY(1,1),\r\n",
                "    ProductSubcategoryKey INT,\r\n",
                "    ProductCategory VARCHAR(20),\r\n",
                "    ProductSubcategory VARCHAR(20),\r\n",
                "    ProductCode VARCHAR(10),\r\n",
                "    ProductName VARCHAR(40),\r\n",
                "    Color VARCHAR(10),\r\n",
                "    ModelName VARCHAR(30),\r\n",
                "    UserAuthorizationKey INT,\r\n",
                "    DateAdded DATETIME2(7) CONSTRAINT DF_DimProduct_DateAdded DEFAULT (SYSDATETIME()),\r\n",
                "    DateOfLastUpdate DATETIME2(7) CONSTRAINT DF_DimProduct_DateOfLastUpdate DEFAULT (SYSDATETIME()),\r\n",
                "    NewProductKey INT\r\n",
                ");\r\n",
                "\r\n",
                "-- DimProductCategory\r\n",
                "CREATE TABLE [CH01-01-Dimension].[DimProductCategory] (\r\n",
                "    ProductCategoryKey INT NOT NULL PRIMARY KEY,\r\n",
                "    CategoryName VARCHAR(20) NOT NULL,\r\n",
                "    NewProductCategoryKey INT\r\n",
                ");\r\n",
                "\r\n",
                "-- DimProductSubcategory\r\n",
                "CREATE TABLE [CH01-01-Dimension].[DimProductSubcategory] (\r\n",
                "    ProductSubcategoryKey INT NOT NULL PRIMARY KEY,\r\n",
                "    ProductCategoryKey INT NOT NULL,\r\n",
                "    SubcategoryName VARCHAR(20) NOT NULL,\r\n",
                "    NewSubcategoryKey INT,\r\n",
                "    CONSTRAINT FK_DimProductSubcategory_ProductCategoryKey FOREIGN KEY (ProductCategoryKey) REFERENCES [CH01-01-Dimension].[DimProductCategory] (ProductCategoryKey)\r\n",
                ");\r\n",
                "\r\n",
                "-- DimTerritory\r\n",
                "CREATE TABLE [CH01-01-Dimension].[DimTerritory] (\r\n",
                "    TerritoryKey INT NOT NULL PRIMARY KEY IDENTITY(1,1),\r\n",
                "    TerritoryGroup VARCHAR(20) NOT NULL,\r\n",
                "    TerritoryCountry VARCHAR(20) NOT NULL,\r\n",
                "    TerritoryRegion VARCHAR(20) NOT NULL,\r\n",
                "    UserAuthorizationKey INT,\r\n",
                "    DateAdded DATETIME2(7) CONSTRAINT DF_DimTerritory_DateAdded DEFAULT (SYSDATETIME()),\r\n",
                "    DateOfLastUpdate DATETIME2(7) CONSTRAINT DF_DimTerritory_DateOfLastUpdate DEFAULT (SYSDATETIME()),\r\n",
                "    NewTerritoryKey INT\r\n",
                ");\r\n",
                "\r\n",
                "-- SalesManagers Dimension Table\r\n",
                "CREATE TABLE [CH01-01-Dimension].[SalesManagers] (\r\n",
                "    SalesManagerKey INT NOT NULL PRIMARY KEY,\r\n",
                "    Category VARCHAR(20),\r\n",
                "    SalesManager VARCHAR(50),\r\n",
                "    Office VARCHAR(50),\r\n",
                "    UserAuthorizationKey INT,\r\n",
                "    DateAdded DATETIME2(7) CONSTRAINT DF_SalesManagers_DateAdded DEFAULT (SYSDATETIME()),\r\n",
                "    DateOfLastUpdate DATETIME2(7) CONSTRAINT DF_SalesManagers_DateOfLastUpdate DEFAULT (SYSDATETIME()),\r\n",
                "    NewSalesManagerKey INT\r\n",
                ");\r\n",
                "\r\n",
                "-- FactData Fact Table\r\n",
                "CREATE TABLE [CH01-01-Fact].[FactData] (\r\n",
                "    SalesKey INT NOT NULL PRIMARY KEY,\r\n",
                "    OccupationKey INT, -- Assuming it will have a FK relationship\r\n",
                "    TerritoryKey INT,  -- Assuming it will have a FK relationship\r\n",
                "    ProductKey INT,    -- Assuming it will have a FK relationship\r\n",
                "    CustomerKey INT,   -- Assuming it will have a FK relationship\r\n",
                "    ProductCategory VARCHAR(20),\r\n",
                "    SalesManager VARCHAR(50),\r\n",
                "    Office VARCHAR(50),\r\n",
                "    ProductSubcategory VARCHAR(20),\r\n",
                "    ProductCode VARCHAR(10),\r\n",
                "    ProductName VARCHAR(40),\r\n",
                "    Color VARCHAR(10),\r\n",
                "    ModelName VARCHAR(30),\r\n",
                "    OrderQuantity INT,\r\n",
                "    UnitPrice MONEY,\r\n",
                "    ProductStandardCost MONEY,\r\n",
                "    SalesAmount MONEY,\r\n",
                "    OrderDate DATE,    -- Assuming it will have a FK relationship\r\n",
                "    MonthName VARCHAR(10),\r\n",
                "    MonthNumber INT,\r\n",
                "    Year INT,\r\n",
                "    CustomerName VARCHAR(30),\r\n",
                "    MaritalStatus CHAR(1),\r\n",
                "    Gender CHAR(1),\r\n",
                "    Education VARCHAR(20),\r\n",
                "    Occupation VARCHAR(20),\r\n",
                "    TerritoryRegion VARCHAR(20),\r\n",
                "    TerritoryCountry VARCHAR(20),\r\n",
                "    TerritoryGroup VARCHAR(20),\r\n",
                "    UserAuthorizationKey INT,\r\n",
                "    DateAdded DATETIME2(7) CONSTRAINT DF_FactData_DateAdded DEFAULT (SYSDATETIME()),\r\n",
                "    DateOfLastUpdate DATETIME2(7) CONSTRAINT DF_FactData_DateOfLastUpdate DEFAULT (SYSDATETIME()),\r\n",
                "    NewSalesKey INT\r\n",
                ");\r\n",
                "\r\n",
                "-- Add foreign key relationships as needed\r\n",
                "-- For example:\r\n",
                "ALTER TABLE [CH01-01-Fact].[FactData] \r\n",
                "ADD CONSTRAINT FK_FactData_OccupationKey \r\n",
                "FOREIGN KEY (OccupationKey) REFERENCES [CH01-01-Dimension].[DimOccupation](OccupationKey);\r\n",
                "\r\n",
                "-- Add other foreign keys similarly...\r\n",
                ""
            ],
            "metadata": {
                "azdata_cell_guid": "ce300e79-00ea-4f0d-b4ae-85993b758b6b",
                "language": "sql"
            },
            "outputs": [],
            "execution_count": null
        }
    ]
}